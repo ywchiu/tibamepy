{
  "nbformat": 4,
  "nbformat_minor": 0,
  "metadata": {
    "colab": {
      "name": "Demo20201114.ipynb",
      "provenance": [],
      "collapsed_sections": []
    },
    "kernelspec": {
      "name": "python3",
      "display_name": "Python 3"
    }
  },
  "cells": [
    {
      "cell_type": "code",
      "metadata": {
        "id": "FwskNSILVqFr"
      },
      "source": [
        "import pandas\n",
        "df = pandas.read_csv('https://raw.githubusercontent.com/ywchiu/tibamepy/master/data/Creditability.csv', index_col = 0)"
      ],
      "execution_count": 3,
      "outputs": []
    },
    {
      "cell_type": "code",
      "metadata": {
        "id": "-L3O6-NYZYWP",
        "outputId": "db728b32-ba5b-4d30-91fa-4bb724c7a4a3",
        "colab": {
          "base_uri": "https://localhost:8080/",
          "height": 223
        }
      },
      "source": [
        "df.head()"
      ],
      "execution_count": 4,
      "outputs": [
        {
          "output_type": "execute_result",
          "data": {
            "text/html": [
              "<div>\n",
              "<style scoped>\n",
              "    .dataframe tbody tr th:only-of-type {\n",
              "        vertical-align: middle;\n",
              "    }\n",
              "\n",
              "    .dataframe tbody tr th {\n",
              "        vertical-align: top;\n",
              "    }\n",
              "\n",
              "    .dataframe thead th {\n",
              "        text-align: right;\n",
              "    }\n",
              "</style>\n",
              "<table border=\"1\" class=\"dataframe\">\n",
              "  <thead>\n",
              "    <tr style=\"text-align: right;\">\n",
              "      <th></th>\n",
              "      <th>Creditability</th>\n",
              "      <th>Account.Balance</th>\n",
              "      <th>Duration.of.Credit..month.</th>\n",
              "      <th>Payment.Status.of.Previous.Credit</th>\n",
              "      <th>Purpose</th>\n",
              "      <th>Credit.Amount</th>\n",
              "      <th>Value.Savings.Stocks</th>\n",
              "      <th>Length.of.current.employment</th>\n",
              "      <th>Instalment.per.cent</th>\n",
              "      <th>Sex...Marital.Status</th>\n",
              "      <th>Guarantors</th>\n",
              "      <th>Duration.in.Current.address</th>\n",
              "      <th>Most.valuable.available.asset</th>\n",
              "      <th>Age..years.</th>\n",
              "      <th>Concurrent.Credits</th>\n",
              "      <th>Type.of.apartment</th>\n",
              "      <th>No.of.Credits.at.this.Bank</th>\n",
              "      <th>Occupation</th>\n",
              "      <th>No.of.dependents</th>\n",
              "      <th>Telephone</th>\n",
              "      <th>Foreign.Worker</th>\n",
              "    </tr>\n",
              "  </thead>\n",
              "  <tbody>\n",
              "    <tr>\n",
              "      <th>497</th>\n",
              "      <td>1</td>\n",
              "      <td>3</td>\n",
              "      <td>6</td>\n",
              "      <td>2</td>\n",
              "      <td>3</td>\n",
              "      <td>2108</td>\n",
              "      <td>1</td>\n",
              "      <td>3</td>\n",
              "      <td>2</td>\n",
              "      <td>3</td>\n",
              "      <td>1</td>\n",
              "      <td>2</td>\n",
              "      <td>1</td>\n",
              "      <td>29</td>\n",
              "      <td>2</td>\n",
              "      <td>1</td>\n",
              "      <td>1</td>\n",
              "      <td>1</td>\n",
              "      <td>1</td>\n",
              "      <td>1</td>\n",
              "      <td>1</td>\n",
              "    </tr>\n",
              "    <tr>\n",
              "      <th>756</th>\n",
              "      <td>0</td>\n",
              "      <td>1</td>\n",
              "      <td>15</td>\n",
              "      <td>1</td>\n",
              "      <td>4</td>\n",
              "      <td>950</td>\n",
              "      <td>1</td>\n",
              "      <td>4</td>\n",
              "      <td>4</td>\n",
              "      <td>2</td>\n",
              "      <td>1</td>\n",
              "      <td>3</td>\n",
              "      <td>3</td>\n",
              "      <td>33</td>\n",
              "      <td>2</td>\n",
              "      <td>1</td>\n",
              "      <td>2</td>\n",
              "      <td>1</td>\n",
              "      <td>2</td>\n",
              "      <td>1</td>\n",
              "      <td>1</td>\n",
              "    </tr>\n",
              "    <tr>\n",
              "      <th>580</th>\n",
              "      <td>0</td>\n",
              "      <td>1</td>\n",
              "      <td>42</td>\n",
              "      <td>2</td>\n",
              "      <td>3</td>\n",
              "      <td>7174</td>\n",
              "      <td>4</td>\n",
              "      <td>3</td>\n",
              "      <td>4</td>\n",
              "      <td>1</td>\n",
              "      <td>1</td>\n",
              "      <td>3</td>\n",
              "      <td>3</td>\n",
              "      <td>30</td>\n",
              "      <td>2</td>\n",
              "      <td>2</td>\n",
              "      <td>1</td>\n",
              "      <td>1</td>\n",
              "      <td>1</td>\n",
              "      <td>2</td>\n",
              "      <td>1</td>\n",
              "    </tr>\n",
              "    <tr>\n",
              "      <th>833</th>\n",
              "      <td>0</td>\n",
              "      <td>3</td>\n",
              "      <td>36</td>\n",
              "      <td>3</td>\n",
              "      <td>4</td>\n",
              "      <td>7980</td>\n",
              "      <td>4</td>\n",
              "      <td>1</td>\n",
              "      <td>4</td>\n",
              "      <td>2</td>\n",
              "      <td>1</td>\n",
              "      <td>4</td>\n",
              "      <td>3</td>\n",
              "      <td>27</td>\n",
              "      <td>2</td>\n",
              "      <td>1</td>\n",
              "      <td>2</td>\n",
              "      <td>1</td>\n",
              "      <td>1</td>\n",
              "      <td>2</td>\n",
              "      <td>1</td>\n",
              "    </tr>\n",
              "    <tr>\n",
              "      <th>602</th>\n",
              "      <td>1</td>\n",
              "      <td>3</td>\n",
              "      <td>24</td>\n",
              "      <td>3</td>\n",
              "      <td>2</td>\n",
              "      <td>2028</td>\n",
              "      <td>1</td>\n",
              "      <td>3</td>\n",
              "      <td>2</td>\n",
              "      <td>2</td>\n",
              "      <td>1</td>\n",
              "      <td>2</td>\n",
              "      <td>2</td>\n",
              "      <td>30</td>\n",
              "      <td>2</td>\n",
              "      <td>2</td>\n",
              "      <td>2</td>\n",
              "      <td>1</td>\n",
              "      <td>1</td>\n",
              "      <td>1</td>\n",
              "      <td>1</td>\n",
              "    </tr>\n",
              "  </tbody>\n",
              "</table>\n",
              "</div>"
            ],
            "text/plain": [
              "     Creditability  Account.Balance  ...  Telephone  Foreign.Worker\n",
              "497              1                3  ...          1               1\n",
              "756              0                1  ...          1               1\n",
              "580              0                1  ...          2               1\n",
              "833              0                3  ...          2               1\n",
              "602              1                3  ...          1               1\n",
              "\n",
              "[5 rows x 21 columns]"
            ]
          },
          "metadata": {
            "tags": []
          },
          "execution_count": 4
        }
      ]
    },
    {
      "cell_type": "code",
      "metadata": {
        "id": "xIXmim53Zd-h",
        "outputId": "b840ed77-3f27-448a-d4a7-3450eb31ac74",
        "colab": {
          "base_uri": "https://localhost:8080/"
        }
      },
      "source": [
        "df.isna().sum()"
      ],
      "execution_count": 6,
      "outputs": [
        {
          "output_type": "execute_result",
          "data": {
            "text/plain": [
              "Creditability                        0\n",
              "Account.Balance                      0\n",
              "Duration.of.Credit..month.           0\n",
              "Payment.Status.of.Previous.Credit    0\n",
              "Purpose                              0\n",
              "Credit.Amount                        0\n",
              "Value.Savings.Stocks                 0\n",
              "Length.of.current.employment         0\n",
              "Instalment.per.cent                  0\n",
              "Sex...Marital.Status                 0\n",
              "Guarantors                           0\n",
              "Duration.in.Current.address          0\n",
              "Most.valuable.available.asset        0\n",
              "Age..years.                          0\n",
              "Concurrent.Credits                   0\n",
              "Type.of.apartment                    0\n",
              "No.of.Credits.at.this.Bank           0\n",
              "Occupation                           0\n",
              "No.of.dependents                     0\n",
              "Telephone                            0\n",
              "Foreign.Worker                       0\n",
              "dtype: int64"
            ]
          },
          "metadata": {
            "tags": []
          },
          "execution_count": 6
        }
      ]
    },
    {
      "cell_type": "code",
      "metadata": {
        "id": "vhygBsYYZqxj",
        "outputId": "cf46ffdf-5c56-41a6-97d0-c74f028caac9",
        "colab": {
          "base_uri": "https://localhost:8080/"
        }
      },
      "source": [
        "df.info()"
      ],
      "execution_count": 7,
      "outputs": [
        {
          "output_type": "stream",
          "text": [
            "<class 'pandas.core.frame.DataFrame'>\n",
            "Int64Index: 500 entries, 497 to 385\n",
            "Data columns (total 21 columns):\n",
            " #   Column                             Non-Null Count  Dtype\n",
            "---  ------                             --------------  -----\n",
            " 0   Creditability                      500 non-null    int64\n",
            " 1   Account.Balance                    500 non-null    int64\n",
            " 2   Duration.of.Credit..month.         500 non-null    int64\n",
            " 3   Payment.Status.of.Previous.Credit  500 non-null    int64\n",
            " 4   Purpose                            500 non-null    int64\n",
            " 5   Credit.Amount                      500 non-null    int64\n",
            " 6   Value.Savings.Stocks               500 non-null    int64\n",
            " 7   Length.of.current.employment       500 non-null    int64\n",
            " 8   Instalment.per.cent                500 non-null    int64\n",
            " 9   Sex...Marital.Status               500 non-null    int64\n",
            " 10  Guarantors                         500 non-null    int64\n",
            " 11  Duration.in.Current.address        500 non-null    int64\n",
            " 12  Most.valuable.available.asset      500 non-null    int64\n",
            " 13  Age..years.                        500 non-null    int64\n",
            " 14  Concurrent.Credits                 500 non-null    int64\n",
            " 15  Type.of.apartment                  500 non-null    int64\n",
            " 16  No.of.Credits.at.this.Bank         500 non-null    int64\n",
            " 17  Occupation                         500 non-null    int64\n",
            " 18  No.of.dependents                   500 non-null    int64\n",
            " 19  Telephone                          500 non-null    int64\n",
            " 20  Foreign.Worker                     500 non-null    int64\n",
            "dtypes: int64(21)\n",
            "memory usage: 85.9 KB\n"
          ],
          "name": "stdout"
        }
      ]
    },
    {
      "cell_type": "code",
      "metadata": {
        "id": "BpTG18TOZwsj"
      },
      "source": [
        "y = df.iloc[:,0]\n",
        "X = df.iloc[:,1:]"
      ],
      "execution_count": 8,
      "outputs": []
    },
    {
      "cell_type": "code",
      "metadata": {
        "id": "PINm7FgVaEf2",
        "outputId": "4fb9d9fb-72c4-4c7b-ccfe-3d7e5f65defd",
        "colab": {
          "base_uri": "https://localhost:8080/"
        }
      },
      "source": [
        "y.head()"
      ],
      "execution_count": 9,
      "outputs": [
        {
          "output_type": "execute_result",
          "data": {
            "text/plain": [
              "497    1\n",
              "756    0\n",
              "580    0\n",
              "833    0\n",
              "602    1\n",
              "Name: Creditability, dtype: int64"
            ]
          },
          "metadata": {
            "tags": []
          },
          "execution_count": 9
        }
      ]
    },
    {
      "cell_type": "code",
      "metadata": {
        "id": "lxmmeqtOaG1m",
        "outputId": "a819a11d-4bc4-4e45-f6f6-c053eeaed94a",
        "colab": {
          "base_uri": "https://localhost:8080/",
          "height": 223
        }
      },
      "source": [
        "X.head()"
      ],
      "execution_count": 10,
      "outputs": [
        {
          "output_type": "execute_result",
          "data": {
            "text/html": [
              "<div>\n",
              "<style scoped>\n",
              "    .dataframe tbody tr th:only-of-type {\n",
              "        vertical-align: middle;\n",
              "    }\n",
              "\n",
              "    .dataframe tbody tr th {\n",
              "        vertical-align: top;\n",
              "    }\n",
              "\n",
              "    .dataframe thead th {\n",
              "        text-align: right;\n",
              "    }\n",
              "</style>\n",
              "<table border=\"1\" class=\"dataframe\">\n",
              "  <thead>\n",
              "    <tr style=\"text-align: right;\">\n",
              "      <th></th>\n",
              "      <th>Account.Balance</th>\n",
              "      <th>Duration.of.Credit..month.</th>\n",
              "      <th>Payment.Status.of.Previous.Credit</th>\n",
              "      <th>Purpose</th>\n",
              "      <th>Credit.Amount</th>\n",
              "      <th>Value.Savings.Stocks</th>\n",
              "      <th>Length.of.current.employment</th>\n",
              "      <th>Instalment.per.cent</th>\n",
              "      <th>Sex...Marital.Status</th>\n",
              "      <th>Guarantors</th>\n",
              "      <th>Duration.in.Current.address</th>\n",
              "      <th>Most.valuable.available.asset</th>\n",
              "      <th>Age..years.</th>\n",
              "      <th>Concurrent.Credits</th>\n",
              "      <th>Type.of.apartment</th>\n",
              "      <th>No.of.Credits.at.this.Bank</th>\n",
              "      <th>Occupation</th>\n",
              "      <th>No.of.dependents</th>\n",
              "      <th>Telephone</th>\n",
              "      <th>Foreign.Worker</th>\n",
              "    </tr>\n",
              "  </thead>\n",
              "  <tbody>\n",
              "    <tr>\n",
              "      <th>497</th>\n",
              "      <td>3</td>\n",
              "      <td>6</td>\n",
              "      <td>2</td>\n",
              "      <td>3</td>\n",
              "      <td>2108</td>\n",
              "      <td>1</td>\n",
              "      <td>3</td>\n",
              "      <td>2</td>\n",
              "      <td>3</td>\n",
              "      <td>1</td>\n",
              "      <td>2</td>\n",
              "      <td>1</td>\n",
              "      <td>29</td>\n",
              "      <td>2</td>\n",
              "      <td>1</td>\n",
              "      <td>1</td>\n",
              "      <td>1</td>\n",
              "      <td>1</td>\n",
              "      <td>1</td>\n",
              "      <td>1</td>\n",
              "    </tr>\n",
              "    <tr>\n",
              "      <th>756</th>\n",
              "      <td>1</td>\n",
              "      <td>15</td>\n",
              "      <td>1</td>\n",
              "      <td>4</td>\n",
              "      <td>950</td>\n",
              "      <td>1</td>\n",
              "      <td>4</td>\n",
              "      <td>4</td>\n",
              "      <td>2</td>\n",
              "      <td>1</td>\n",
              "      <td>3</td>\n",
              "      <td>3</td>\n",
              "      <td>33</td>\n",
              "      <td>2</td>\n",
              "      <td>1</td>\n",
              "      <td>2</td>\n",
              "      <td>1</td>\n",
              "      <td>2</td>\n",
              "      <td>1</td>\n",
              "      <td>1</td>\n",
              "    </tr>\n",
              "    <tr>\n",
              "      <th>580</th>\n",
              "      <td>1</td>\n",
              "      <td>42</td>\n",
              "      <td>2</td>\n",
              "      <td>3</td>\n",
              "      <td>7174</td>\n",
              "      <td>4</td>\n",
              "      <td>3</td>\n",
              "      <td>4</td>\n",
              "      <td>1</td>\n",
              "      <td>1</td>\n",
              "      <td>3</td>\n",
              "      <td>3</td>\n",
              "      <td>30</td>\n",
              "      <td>2</td>\n",
              "      <td>2</td>\n",
              "      <td>1</td>\n",
              "      <td>1</td>\n",
              "      <td>1</td>\n",
              "      <td>2</td>\n",
              "      <td>1</td>\n",
              "    </tr>\n",
              "    <tr>\n",
              "      <th>833</th>\n",
              "      <td>3</td>\n",
              "      <td>36</td>\n",
              "      <td>3</td>\n",
              "      <td>4</td>\n",
              "      <td>7980</td>\n",
              "      <td>4</td>\n",
              "      <td>1</td>\n",
              "      <td>4</td>\n",
              "      <td>2</td>\n",
              "      <td>1</td>\n",
              "      <td>4</td>\n",
              "      <td>3</td>\n",
              "      <td>27</td>\n",
              "      <td>2</td>\n",
              "      <td>1</td>\n",
              "      <td>2</td>\n",
              "      <td>1</td>\n",
              "      <td>1</td>\n",
              "      <td>2</td>\n",
              "      <td>1</td>\n",
              "    </tr>\n",
              "    <tr>\n",
              "      <th>602</th>\n",
              "      <td>3</td>\n",
              "      <td>24</td>\n",
              "      <td>3</td>\n",
              "      <td>2</td>\n",
              "      <td>2028</td>\n",
              "      <td>1</td>\n",
              "      <td>3</td>\n",
              "      <td>2</td>\n",
              "      <td>2</td>\n",
              "      <td>1</td>\n",
              "      <td>2</td>\n",
              "      <td>2</td>\n",
              "      <td>30</td>\n",
              "      <td>2</td>\n",
              "      <td>2</td>\n",
              "      <td>2</td>\n",
              "      <td>1</td>\n",
              "      <td>1</td>\n",
              "      <td>1</td>\n",
              "      <td>1</td>\n",
              "    </tr>\n",
              "  </tbody>\n",
              "</table>\n",
              "</div>"
            ],
            "text/plain": [
              "     Account.Balance  Duration.of.Credit..month.  ...  Telephone  Foreign.Worker\n",
              "497                3                           6  ...          1               1\n",
              "756                1                          15  ...          1               1\n",
              "580                1                          42  ...          2               1\n",
              "833                3                          36  ...          2               1\n",
              "602                3                          24  ...          1               1\n",
              "\n",
              "[5 rows x 20 columns]"
            ]
          },
          "metadata": {
            "tags": []
          },
          "execution_count": 10
        }
      ]
    },
    {
      "cell_type": "code",
      "metadata": {
        "id": "K2mIj8pQaJXK"
      },
      "source": [
        "from sklearn.model_selection import train_test_split\n",
        "train_X, test_X, train_y, test_y = train_test_split(X,y, test_size = 0.2, random_state = 42)"
      ],
      "execution_count": 11,
      "outputs": []
    },
    {
      "cell_type": "code",
      "metadata": {
        "id": "g-2nh3Y3ar9v",
        "outputId": "06210ded-a108-47fa-a152-a1665cedcb26",
        "colab": {
          "base_uri": "https://localhost:8080/"
        }
      },
      "source": [
        "train_X.shape"
      ],
      "execution_count": 12,
      "outputs": [
        {
          "output_type": "execute_result",
          "data": {
            "text/plain": [
              "(400, 20)"
            ]
          },
          "metadata": {
            "tags": []
          },
          "execution_count": 12
        }
      ]
    },
    {
      "cell_type": "code",
      "metadata": {
        "id": "g86YcMhGaumf",
        "outputId": "d2146fe8-5eaf-4162-825d-726d91c66599",
        "colab": {
          "base_uri": "https://localhost:8080/"
        }
      },
      "source": [
        "test_X.shape"
      ],
      "execution_count": 13,
      "outputs": [
        {
          "output_type": "execute_result",
          "data": {
            "text/plain": [
              "(100, 20)"
            ]
          },
          "metadata": {
            "tags": []
          },
          "execution_count": 13
        }
      ]
    },
    {
      "cell_type": "code",
      "metadata": {
        "id": "l1DBia26awRw",
        "outputId": "c96c5c35-ae51-4073-80fd-31076ad4ce35",
        "colab": {
          "base_uri": "https://localhost:8080/"
        }
      },
      "source": [
        "train_y.shape"
      ],
      "execution_count": 14,
      "outputs": [
        {
          "output_type": "execute_result",
          "data": {
            "text/plain": [
              "(400,)"
            ]
          },
          "metadata": {
            "tags": []
          },
          "execution_count": 14
        }
      ]
    },
    {
      "cell_type": "code",
      "metadata": {
        "id": "HPYq7SA6ay1P",
        "outputId": "1d97d761-df06-430c-8cc9-3aea54ade13a",
        "colab": {
          "base_uri": "https://localhost:8080/"
        }
      },
      "source": [
        "test_y.shape"
      ],
      "execution_count": 15,
      "outputs": [
        {
          "output_type": "execute_result",
          "data": {
            "text/plain": [
              "(100,)"
            ]
          },
          "metadata": {
            "tags": []
          },
          "execution_count": 15
        }
      ]
    },
    {
      "cell_type": "code",
      "metadata": {
        "id": "Z4Ggm-Oja0Zy",
        "outputId": "acc11a22-1e36-4c6a-8a35-00f6e40b22ab",
        "colab": {
          "base_uri": "https://localhost:8080/"
        }
      },
      "source": [
        "from sklearn.linear_model import LogisticRegression\n",
        "clf1 = LogisticRegression(max_iter=1000)\n",
        "clf1.fit(train_X, train_y)"
      ],
      "execution_count": 18,
      "outputs": [
        {
          "output_type": "execute_result",
          "data": {
            "text/plain": [
              "LogisticRegression(C=1.0, class_weight=None, dual=False, fit_intercept=True,\n",
              "                   intercept_scaling=1, l1_ratio=None, max_iter=1000,\n",
              "                   multi_class='auto', n_jobs=None, penalty='l2',\n",
              "                   random_state=None, solver='lbfgs', tol=0.0001, verbose=0,\n",
              "                   warm_start=False)"
            ]
          },
          "metadata": {
            "tags": []
          },
          "execution_count": 18
        }
      ]
    },
    {
      "cell_type": "code",
      "metadata": {
        "id": "XpP_0kNKbAiS",
        "outputId": "24deed12-376a-4d52-94e2-0e3c8a7416d7",
        "colab": {
          "base_uri": "https://localhost:8080/"
        }
      },
      "source": [
        "from sklearn.ensemble import RandomForestClassifier\n",
        "clf2 = RandomForestClassifier()\n",
        "clf2.fit(train_X, train_y)"
      ],
      "execution_count": 19,
      "outputs": [
        {
          "output_type": "execute_result",
          "data": {
            "text/plain": [
              "RandomForestClassifier(bootstrap=True, ccp_alpha=0.0, class_weight=None,\n",
              "                       criterion='gini', max_depth=None, max_features='auto',\n",
              "                       max_leaf_nodes=None, max_samples=None,\n",
              "                       min_impurity_decrease=0.0, min_impurity_split=None,\n",
              "                       min_samples_leaf=1, min_samples_split=2,\n",
              "                       min_weight_fraction_leaf=0.0, n_estimators=100,\n",
              "                       n_jobs=None, oob_score=False, random_state=None,\n",
              "                       verbose=0, warm_start=False)"
            ]
          },
          "metadata": {
            "tags": []
          },
          "execution_count": 19
        }
      ]
    },
    {
      "cell_type": "code",
      "metadata": {
        "id": "KO9bAhx6bl98"
      },
      "source": [
        "pred_y1 = clf1.predict(test_X)"
      ],
      "execution_count": 20,
      "outputs": []
    },
    {
      "cell_type": "code",
      "metadata": {
        "id": "fKh_rYppbyBf",
        "outputId": "db5530d7-1f11-4ad0-e835-120d9fb485a0",
        "colab": {
          "base_uri": "https://localhost:8080/"
        }
      },
      "source": [
        "from sklearn.metrics import accuracy_score\n",
        "accuracy_score(test_y, pred_y1)"
      ],
      "execution_count": 21,
      "outputs": [
        {
          "output_type": "execute_result",
          "data": {
            "text/plain": [
              "0.71"
            ]
          },
          "metadata": {
            "tags": []
          },
          "execution_count": 21
        }
      ]
    },
    {
      "cell_type": "code",
      "metadata": {
        "id": "8c930d7hb7I_"
      },
      "source": [
        "pred_y2 = clf2.predict(test_X)"
      ],
      "execution_count": 22,
      "outputs": []
    },
    {
      "cell_type": "code",
      "metadata": {
        "id": "nqzaLbvtcAiS",
        "outputId": "0dca8429-4dd5-4ab3-c477-457f693a0e4c",
        "colab": {
          "base_uri": "https://localhost:8080/"
        }
      },
      "source": [
        "from sklearn.metrics import accuracy_score\n",
        "accuracy_score(test_y, pred_y2)"
      ],
      "execution_count": 23,
      "outputs": [
        {
          "output_type": "execute_result",
          "data": {
            "text/plain": [
              "0.7"
            ]
          },
          "metadata": {
            "tags": []
          },
          "execution_count": 23
        }
      ]
    },
    {
      "cell_type": "code",
      "metadata": {
        "id": "6Jc0FxrocC1S",
        "outputId": "ede65db0-5deb-4350-cee9-83c1e3f6810d",
        "colab": {
          "base_uri": "https://localhost:8080/"
        }
      },
      "source": [
        "from sklearn.metrics import confusion_matrix\n",
        "print(clf1.classes_)\n",
        "confusion_matrix(test_y, pred_y1)"
      ],
      "execution_count": 25,
      "outputs": [
        {
          "output_type": "stream",
          "text": [
            "[0 1]\n"
          ],
          "name": "stdout"
        },
        {
          "output_type": "execute_result",
          "data": {
            "text/plain": [
              "array([[10, 21],\n",
              "       [ 8, 61]])"
            ]
          },
          "metadata": {
            "tags": []
          },
          "execution_count": 25
        }
      ]
    },
    {
      "cell_type": "code",
      "metadata": {
        "id": "RVTcOCL_cMek",
        "outputId": "9006cb45-24b1-4613-e5f4-41b6407b3341",
        "colab": {
          "base_uri": "https://localhost:8080/"
        }
      },
      "source": [
        "from sklearn.metrics import confusion_matrix\n",
        "print(clf2.classes_)\n",
        "confusion_matrix(test_y, pred_y2)"
      ],
      "execution_count": 26,
      "outputs": [
        {
          "output_type": "stream",
          "text": [
            "[0 1]\n"
          ],
          "name": "stdout"
        },
        {
          "output_type": "execute_result",
          "data": {
            "text/plain": [
              "array([[ 7, 24],\n",
              "       [ 6, 63]])"
            ]
          },
          "metadata": {
            "tags": []
          },
          "execution_count": 26
        }
      ]
    },
    {
      "cell_type": "code",
      "metadata": {
        "id": "n6m5o5lrccQH",
        "outputId": "058eab7b-4f3f-4066-a612-c28261e08401",
        "colab": {
          "base_uri": "https://localhost:8080/"
        }
      },
      "source": [
        "from sklearn.metrics import roc_curve, auc\n",
        "fpr1, tpr1, threshold1 = roc_curve(test_y, clf1.predict_proba(test_X)[:,1])\n",
        "auc(fpr1, tpr1)"
      ],
      "execution_count": 31,
      "outputs": [
        {
          "output_type": "execute_result",
          "data": {
            "text/plain": [
              "0.6390836839644694"
            ]
          },
          "metadata": {
            "tags": []
          },
          "execution_count": 31
        }
      ]
    },
    {
      "cell_type": "code",
      "metadata": {
        "id": "fgYP61vqcuKI",
        "outputId": "9b286c52-97d3-402f-f396-908defde18ef",
        "colab": {
          "base_uri": "https://localhost:8080/"
        }
      },
      "source": [
        "from sklearn.metrics import roc_curve, auc\n",
        "fpr2, tpr2, threshold2 = roc_curve(test_y, clf2.predict_proba(test_X)[:,1])\n",
        "auc(fpr2, tpr2)"
      ],
      "execution_count": 33,
      "outputs": [
        {
          "output_type": "execute_result",
          "data": {
            "text/plain": [
              "0.7531556802244039"
            ]
          },
          "metadata": {
            "tags": []
          },
          "execution_count": 33
        }
      ]
    },
    {
      "cell_type": "code",
      "metadata": {
        "id": "tz-bOxXkc3aI",
        "outputId": "517cb52f-e863-40dd-c5cc-a0219b454d6c",
        "colab": {
          "base_uri": "https://localhost:8080/",
          "height": 364
        }
      },
      "source": [
        "from sklearn.metrics import auc\n",
        "from matplotlib import pyplot as plt\n",
        "\n",
        "plt.figure(figsize= [10,5])\n",
        "\n",
        "for clf, title in zip([clf1,clf2], ['LogisticRegression', 'RandomForest']):\n",
        "  probas_ = clf.fit(train_X, train_y).predict_proba(test_X)\n",
        "  fpr, tpr, thresholds = roc_curve(test_y, probas_[:, 1])\n",
        "  plt.plot(fpr, tpr, label='%s - AUC:%.2f'%(title, auc(fpr, tpr)) )\n",
        "  #plt.plot(fpr, tpr, label='%s'%(title) )\n",
        "\n",
        "plt.plot([0, 1], [0, 1], 'k--')\n",
        "plt.xlim([0.0, 1.0])\n",
        "plt.ylim([0.0, 1.0])\n",
        "plt.xlabel('False Positive Rate', fontsize = 20)\n",
        "plt.ylabel('True Positive Rate', fontsize = 20)\n",
        "plt.title('Receiver operating characteristic example', fontsize = 20)\n",
        "plt.legend(loc=\"lower right\", fontsize = 20)\n",
        "plt.show()"
      ],
      "execution_count": 36,
      "outputs": [
        {
          "output_type": "display_data",
          "data": {
            "image/png": "[encoded data removed]",
            "text/plain": [
              "<Figure size 720x360 with 1 Axes>"
            ]
          },
          "metadata": {
            "tags": [],
            "needs_background": "light"
          }
        }
      ]
    },
    {
      "cell_type": "markdown",
      "metadata": {
        "id": "dl1URt5HfbQG"
      },
      "source": [
        "## Feature Selection"
      ]
    },
    {
      "cell_type": "code",
      "metadata": {
        "id": "ogWS3A9iddRe"
      },
      "source": [
        "import pandas\n",
        "df = pandas.read_csv('https://raw.githubusercontent.com/ywchiu/python_for_data_science/master/Data/customer_behavior.csv')"
      ],
      "execution_count": 37,
      "outputs": []
    },
    {
      "cell_type": "code",
      "metadata": {
        "id": "k9KVbgB4ffSk",
        "outputId": "af44ac0d-b01d-4f3a-c80f-2e7ac35140e0",
        "colab": {
          "base_uri": "https://localhost:8080/",
          "height": 203
        }
      },
      "source": [
        "df.head()"
      ],
      "execution_count": 39,
      "outputs": [
        {
          "output_type": "execute_result",
          "data": {
            "text/html": [
              "<div>\n",
              "<style scoped>\n",
              "    .dataframe tbody tr th:only-of-type {\n",
              "        vertical-align: middle;\n",
              "    }\n",
              "\n",
              "    .dataframe tbody tr th {\n",
              "        vertical-align: top;\n",
              "    }\n",
              "\n",
              "    .dataframe thead th {\n",
              "        text-align: right;\n",
              "    }\n",
              "</style>\n",
              "<table border=\"1\" class=\"dataframe\">\n",
              "  <thead>\n",
              "    <tr style=\"text-align: right;\">\n",
              "      <th></th>\n",
              "      <th>bachelor</th>\n",
              "      <th>gender</th>\n",
              "      <th>age</th>\n",
              "      <th>salary</th>\n",
              "      <th>purchased</th>\n",
              "    </tr>\n",
              "  </thead>\n",
              "  <tbody>\n",
              "    <tr>\n",
              "      <th>0</th>\n",
              "      <td>1</td>\n",
              "      <td>0</td>\n",
              "      <td>23</td>\n",
              "      <td>1500</td>\n",
              "      <td>0</td>\n",
              "    </tr>\n",
              "    <tr>\n",
              "      <th>1</th>\n",
              "      <td>1</td>\n",
              "      <td>0</td>\n",
              "      <td>30</td>\n",
              "      <td>2500</td>\n",
              "      <td>1</td>\n",
              "    </tr>\n",
              "    <tr>\n",
              "      <th>2</th>\n",
              "      <td>1</td>\n",
              "      <td>0</td>\n",
              "      <td>32</td>\n",
              "      <td>1800</td>\n",
              "      <td>1</td>\n",
              "    </tr>\n",
              "    <tr>\n",
              "      <th>3</th>\n",
              "      <td>1</td>\n",
              "      <td>0</td>\n",
              "      <td>25</td>\n",
              "      <td>1700</td>\n",
              "      <td>0</td>\n",
              "    </tr>\n",
              "    <tr>\n",
              "      <th>4</th>\n",
              "      <td>1</td>\n",
              "      <td>0</td>\n",
              "      <td>27</td>\n",
              "      <td>1200</td>\n",
              "      <td>0</td>\n",
              "    </tr>\n",
              "  </tbody>\n",
              "</table>\n",
              "</div>"
            ],
            "text/plain": [
              "   bachelor  gender  age  salary  purchased\n",
              "0         1       0   23    1500          0\n",
              "1         1       0   30    2500          1\n",
              "2         1       0   32    1800          1\n",
              "3         1       0   25    1700          0\n",
              "4         1       0   27    1200          0"
            ]
          },
          "metadata": {
            "tags": []
          },
          "execution_count": 39
        }
      ]
    },
    {
      "cell_type": "code",
      "metadata": {
        "id": "UOF7V1joff2U"
      },
      "source": [
        "from sklearn.feature_selection import VarianceThreshold\n",
        "X = df[['bachelor','gender', 'age', 'salary']]"
      ],
      "execution_count": 40,
      "outputs": []
    },
    {
      "cell_type": "code",
      "metadata": {
        "id": "Qw_N_PALf2pG",
        "outputId": "b0e04d74-f10f-472e-c65d-d1d841335550",
        "colab": {
          "base_uri": "https://localhost:8080/",
          "height": 203
        }
      },
      "source": [
        "X.head()"
      ],
      "execution_count": 41,
      "outputs": [
        {
          "output_type": "execute_result",
          "data": {
            "text/html": [
              "<div>\n",
              "<style scoped>\n",
              "    .dataframe tbody tr th:only-of-type {\n",
              "        vertical-align: middle;\n",
              "    }\n",
              "\n",
              "    .dataframe tbody tr th {\n",
              "        vertical-align: top;\n",
              "    }\n",
              "\n",
              "    .dataframe thead th {\n",
              "        text-align: right;\n",
              "    }\n",
              "</style>\n",
              "<table border=\"1\" class=\"dataframe\">\n",
              "  <thead>\n",
              "    <tr style=\"text-align: right;\">\n",
              "      <th></th>\n",
              "      <th>bachelor</th>\n",
              "      <th>gender</th>\n",
              "      <th>age</th>\n",
              "      <th>salary</th>\n",
              "    </tr>\n",
              "  </thead>\n",
              "  <tbody>\n",
              "    <tr>\n",
              "      <th>0</th>\n",
              "      <td>1</td>\n",
              "      <td>0</td>\n",
              "      <td>23</td>\n",
              "      <td>1500</td>\n",
              "    </tr>\n",
              "    <tr>\n",
              "      <th>1</th>\n",
              "      <td>1</td>\n",
              "      <td>0</td>\n",
              "      <td>30</td>\n",
              "      <td>2500</td>\n",
              "    </tr>\n",
              "    <tr>\n",
              "      <th>2</th>\n",
              "      <td>1</td>\n",
              "      <td>0</td>\n",
              "      <td>32</td>\n",
              "      <td>1800</td>\n",
              "    </tr>\n",
              "    <tr>\n",
              "      <th>3</th>\n",
              "      <td>1</td>\n",
              "      <td>0</td>\n",
              "      <td>25</td>\n",
              "      <td>1700</td>\n",
              "    </tr>\n",
              "    <tr>\n",
              "      <th>4</th>\n",
              "      <td>1</td>\n",
              "      <td>0</td>\n",
              "      <td>27</td>\n",
              "      <td>1200</td>\n",
              "    </tr>\n",
              "  </tbody>\n",
              "</table>\n",
              "</div>"
            ],
            "text/plain": [
              "   bachelor  gender  age  salary\n",
              "0         1       0   23    1500\n",
              "1         1       0   30    2500\n",
              "2         1       0   32    1800\n",
              "3         1       0   25    1700\n",
              "4         1       0   27    1200"
            ]
          },
          "metadata": {
            "tags": []
          },
          "execution_count": 41
        }
      ]
    },
    {
      "cell_type": "code",
      "metadata": {
        "id": "FNE9QwfPf33o"
      },
      "source": [
        "sel = VarianceThreshold()"
      ],
      "execution_count": 42,
      "outputs": []
    },
    {
      "cell_type": "code",
      "metadata": {
        "id": "9IxcodJAf7vp"
      },
      "source": [
        "X_val = sel.fit_transform(X)"
      ],
      "execution_count": 43,
      "outputs": []
    },
    {
      "cell_type": "code",
      "metadata": {
        "id": "O2hel5_AgG_K",
        "outputId": "d3d347c1-382d-47b8-d958-c4bd7ae569ed",
        "colab": {
          "base_uri": "https://localhost:8080/"
        }
      },
      "source": [
        "X_val[0:3,:]"
      ],
      "execution_count": 46,
      "outputs": [
        {
          "output_type": "execute_result",
          "data": {
            "text/plain": [
              "array([[   0,   23, 1500],\n",
              "       [   0,   30, 2500],\n",
              "       [   0,   32, 1800]])"
            ]
          },
          "metadata": {
            "tags": []
          },
          "execution_count": 46
        }
      ]
    },
    {
      "cell_type": "code",
      "metadata": {
        "id": "ZejCHBQRgIlL",
        "outputId": "aa4a68fd-fff2-4703-d607-3d0906a9bed6",
        "colab": {
          "base_uri": "https://localhost:8080/"
        }
      },
      "source": [
        "sel.get_support()"
      ],
      "execution_count": 47,
      "outputs": [
        {
          "output_type": "execute_result",
          "data": {
            "text/plain": [
              "array([False,  True,  True,  True])"
            ]
          },
          "metadata": {
            "tags": []
          },
          "execution_count": 47
        }
      ]
    },
    {
      "cell_type": "code",
      "metadata": {
        "id": "ex5f_ARqgSvr"
      },
      "source": [
        "from sklearn.feature_selection import SelectKBest\n",
        "from sklearn.feature_selection import chi2\n",
        "X = df[['bachelor','gender', 'age', 'salary']]\n",
        "y = df['purchased'].values"
      ],
      "execution_count": 48,
      "outputs": []
    },
    {
      "cell_type": "code",
      "metadata": {
        "id": "87O5zrmig2RQ"
      },
      "source": [
        "clf = SelectKBest(chi2, k=2)"
      ],
      "execution_count": 49,
      "outputs": []
    },
    {
      "cell_type": "code",
      "metadata": {
        "id": "Y5PfZwvMhDjS",
        "outputId": "23912462-de28-483a-e5a0-2537d3b395b8",
        "colab": {
          "base_uri": "https://localhost:8080/"
        }
      },
      "source": [
        "clf.fit(X,y)\n",
        "print(clf.scores_)"
      ],
      "execution_count": 50,
      "outputs": [
        {
          "output_type": "stream",
          "text": [
            "[   0.            0.            4.48447205 2766.66666667]\n"
          ],
          "name": "stdout"
        }
      ]
    },
    {
      "cell_type": "code",
      "metadata": {
        "id": "OGUvLrSAhFUC",
        "outputId": "3618ed2d-754e-4b37-8458-b9c6c1c545eb",
        "colab": {
          "base_uri": "https://localhost:8080/"
        }
      },
      "source": [
        "X_new = clf.fit_transform(X,y)\n",
        "X_new"
      ],
      "execution_count": 52,
      "outputs": [
        {
          "output_type": "execute_result",
          "data": {
            "text/plain": [
              "array([[  23, 1500],\n",
              "       [  30, 2500],\n",
              "       [  32, 1800],\n",
              "       [  25, 1700],\n",
              "       [  27, 1200],\n",
              "       [  26, 1000],\n",
              "       [  35, 3500],\n",
              "       [  23, 2000],\n",
              "       [  22, 1800],\n",
              "       [  21, 1700],\n",
              "       [  38, 5000],\n",
              "       [  20, 1200]])"
            ]
          },
          "metadata": {
            "tags": []
          },
          "execution_count": 52
        }
      ]
    },
    {
      "cell_type": "code",
      "metadata": {
        "id": "wuB6qKCrigWv",
        "outputId": "8ab8628d-9b62-41eb-affb-602a1fc98985",
        "colab": {
          "base_uri": "https://localhost:8080/"
        }
      },
      "source": [
        "from sklearn.feature_selection import VarianceThreshold\n",
        "X = df[['bachelor','gender', 'age', 'salary']]\n",
        "sel = VarianceThreshold()\n",
        "X_val = sel.fit_transform(X)\n",
        "sel.get_support()\n",
        "names = X.loc[:,sel.get_support()].columns \n",
        "names\n",
        "#names = df.columns[sel.get_support()]"
      ],
      "execution_count": 72,
      "outputs": [
        {
          "output_type": "execute_result",
          "data": {
            "text/plain": [
              "Index(['gender', 'age', 'salary'], dtype='object')"
            ]
          },
          "metadata": {
            "tags": []
          },
          "execution_count": 72
        }
      ]
    },
    {
      "cell_type": "code",
      "metadata": {
        "id": "_6f_DS8YibSO",
        "outputId": "b8c2686e-3f1a-4dc9-f717-e54354ae3945",
        "colab": {
          "base_uri": "https://localhost:8080/"
        }
      },
      "source": [
        "from sklearn.feature_selection import RFE\n",
        "from sklearn.svm import SVC\n",
        "\n",
        "clf = SVC(kernel='linear')\n",
        "rfe = RFE(clf, n_features_to_select=1)\n",
        "\n",
        "rfe.fit(X_val,y)\n",
        "\n"
      ],
      "execution_count": 73,
      "outputs": [
        {
          "output_type": "execute_result",
          "data": {
            "text/plain": [
              "RFE(estimator=SVC(C=1.0, break_ties=False, cache_size=200, class_weight=None,\n",
              "                  coef0=0.0, decision_function_shape='ovr', degree=3,\n",
              "                  gamma='scale', kernel='linear', max_iter=-1,\n",
              "                  probability=False, random_state=None, shrinking=True,\n",
              "                  tol=0.001, verbose=False),\n",
              "    n_features_to_select=1, step=1, verbose=0)"
            ]
          },
          "metadata": {
            "tags": []
          },
          "execution_count": 73
        }
      ]
    },
    {
      "cell_type": "code",
      "metadata": {
        "id": "l-U4Qy_zituA",
        "outputId": "a93f3c74-930a-45bd-8c8f-d1b52f8e41cf",
        "colab": {
          "base_uri": "https://localhost:8080/"
        }
      },
      "source": [
        "for x in rfe.ranking_:\n",
        "    print(names[x-1], rfe.ranking_[x-1])"
      ],
      "execution_count": 74,
      "outputs": [
        {
          "output_type": "stream",
          "text": [
            "salary 1\n",
            "age 2\n",
            "gender 3\n"
          ],
          "name": "stdout"
        }
      ]
    },
    {
      "cell_type": "code",
      "metadata": {
        "id": "FQ3ieztFiu7h",
        "outputId": "8699240d-0dcf-4b64-a6f9-7c924adee63f",
        "colab": {
          "base_uri": "https://localhost:8080/"
        }
      },
      "source": [
        "from sklearn.feature_selection import RFE\n",
        "from sklearn.svm import SVC\n",
        "\n",
        "clf = SVC(kernel='linear')\n",
        "rfe = RFE(clf, n_features_to_select=2)\n",
        "\n",
        "rfe.fit(X_val,y)"
      ],
      "execution_count": 75,
      "outputs": [
        {
          "output_type": "execute_result",
          "data": {
            "text/plain": [
              "RFE(estimator=SVC(C=1.0, break_ties=False, cache_size=200, class_weight=None,\n",
              "                  coef0=0.0, decision_function_shape='ovr', degree=3,\n",
              "                  gamma='scale', kernel='linear', max_iter=-1,\n",
              "                  probability=False, random_state=None, shrinking=True,\n",
              "                  tol=0.001, verbose=False),\n",
              "    n_features_to_select=2, step=1, verbose=0)"
            ]
          },
          "metadata": {
            "tags": []
          },
          "execution_count": 75
        }
      ]
    },
    {
      "cell_type": "code",
      "metadata": {
        "id": "PYStieARj6r7",
        "outputId": "4632601f-3f75-408e-ae48-6de60f833346",
        "colab": {
          "base_uri": "https://localhost:8080/"
        }
      },
      "source": [
        "rfe.ranking_"
      ],
      "execution_count": 77,
      "outputs": [
        {
          "output_type": "execute_result",
          "data": {
            "text/plain": [
              "array([2, 1, 1])"
            ]
          },
          "metadata": {
            "tags": []
          },
          "execution_count": 77
        }
      ]
    },
    {
      "cell_type": "code",
      "metadata": {
        "id": "ofmxCf6SjLDE"
      },
      "source": [
        "from sklearn.feature_selection import RFECV\n",
        "selector = RFECV(clf, step=1, cv=5)"
      ],
      "execution_count": 79,
      "outputs": []
    },
    {
      "cell_type": "code",
      "metadata": {
        "id": "lmJGxKWKkXTj",
        "outputId": "a083ab1c-e48e-48c9-8a9b-599835f70e21",
        "colab": {
          "base_uri": "https://localhost:8080/"
        }
      },
      "source": [
        "selector.fit(X_val,y)"
      ],
      "execution_count": 83,
      "outputs": [
        {
          "output_type": "execute_result",
          "data": {
            "text/plain": [
              "RFECV(cv=5,\n",
              "      estimator=SVC(C=1.0, break_ties=False, cache_size=200, class_weight=None,\n",
              "                    coef0=0.0, decision_function_shape='ovr', degree=3,\n",
              "                    gamma='scale', kernel='linear', max_iter=-1,\n",
              "                    probability=False, random_state=None, shrinking=True,\n",
              "                    tol=0.001, verbose=False),\n",
              "      min_features_to_select=1, n_jobs=None, scoring=None, step=1, verbose=0)"
            ]
          },
          "metadata": {
            "tags": []
          },
          "execution_count": 83
        }
      ]
    },
    {
      "cell_type": "code",
      "metadata": {
        "id": "ooxcN--Ykc5d",
        "outputId": "74fd991f-4b29-4114-b9a9-6510f0b7c0a1",
        "colab": {
          "base_uri": "https://localhost:8080/"
        }
      },
      "source": [
        "selector.get_support()"
      ],
      "execution_count": 84,
      "outputs": [
        {
          "output_type": "execute_result",
          "data": {
            "text/plain": [
              "array([False, False,  True])"
            ]
          },
          "metadata": {
            "tags": []
          },
          "execution_count": 84
        }
      ]
    },
    {
      "cell_type": "code",
      "metadata": {
        "id": "a7XxMBpikmk-"
      },
      "source": [
        "from sklearn.ensemble import RandomForestClassifier\n",
        "\n",
        "clf = RandomForestClassifier(n_estimators=10,random_state=123)"
      ],
      "execution_count": 85,
      "outputs": []
    },
    {
      "cell_type": "code",
      "metadata": {
        "id": "bceFxjkjlDwR",
        "outputId": "6335aa85-2059-47ec-edaf-f351a7b67fb0",
        "colab": {
          "base_uri": "https://localhost:8080/"
        }
      },
      "source": [
        "clf.fit(X_val, y)"
      ],
      "execution_count": 86,
      "outputs": [
        {
          "output_type": "execute_result",
          "data": {
            "text/plain": [
              "RandomForestClassifier(bootstrap=True, ccp_alpha=0.0, class_weight=None,\n",
              "                       criterion='gini', max_depth=None, max_features='auto',\n",
              "                       max_leaf_nodes=None, max_samples=None,\n",
              "                       min_impurity_decrease=0.0, min_impurity_split=None,\n",
              "                       min_samples_leaf=1, min_samples_split=2,\n",
              "                       min_weight_fraction_leaf=0.0, n_estimators=10,\n",
              "                       n_jobs=None, oob_score=False, random_state=123,\n",
              "                       verbose=0, warm_start=False)"
            ]
          },
          "metadata": {
            "tags": []
          },
          "execution_count": 86
        }
      ]
    },
    {
      "cell_type": "code",
      "metadata": {
        "id": "HvjmRoXilJEi",
        "outputId": "d6efe0e2-ac6f-47ef-8ac3-29efe0e8ae3b",
        "colab": {
          "base_uri": "https://localhost:8080/"
        }
      },
      "source": [
        "names, clf.feature_importances_\n",
        "for feature in zip(names, clf.feature_importances_):\n",
        "  print(feature)\n"
      ],
      "execution_count": 87,
      "outputs": [
        {
          "output_type": "stream",
          "text": [
            "('gender', 0.0933015873015873)\n",
            "('age', 0.39391203703703703)\n",
            "('salary', 0.5127863756613757)\n"
          ],
          "name": "stdout"
        }
      ]
    },
    {
      "cell_type": "code",
      "metadata": {
        "id": "FQ0mAN3zlLf0",
        "outputId": "07e66a90-3475-4035-d6b1-3344fd8991e0",
        "colab": {
          "base_uri": "https://localhost:8080/",
          "height": 281
        }
      },
      "source": [
        "import matplotlib.pyplot as plt\n",
        "plt.title('Feature Importance')\n",
        "plt.bar(range(0, len(names)), clf.feature_importances_)\n",
        "plt.xticks(range(0,len(names)), names)\n",
        "plt.show()"
      ],
      "execution_count": 88,
      "outputs": [
        {
          "output_type": "display_data",
          "data": {
            "image/png": "[encoded data removed]",
            "text/plain": [
              "<Figure size 432x288 with 1 Axes>"
            ]
          },
          "metadata": {
            "tags": [],
            "needs_background": "light"
          }
        }
      ]
    },
    {
      "cell_type": "markdown",
      "metadata": {
        "id": "_Y9No0TdpG0U"
      },
      "source": [
        "## Feature Extraction"
      ]
    },
    {
      "cell_type": "code",
      "metadata": {
        "id": "jR6QlbQ9lUyk"
      },
      "source": [
        "from sklearn.decomposition import PCA\n",
        "from sklearn.datasets import load_iris\n",
        "iris = load_iris()\n",
        "X = iris.data"
      ],
      "execution_count": 90,
      "outputs": []
    },
    {
      "cell_type": "code",
      "metadata": {
        "id": "OVKuCgOGpQhe",
        "outputId": "75cd42a4-3cea-420a-d263-13693fd84b10",
        "colab": {
          "base_uri": "https://localhost:8080/"
        }
      },
      "source": [
        "X[0:3]"
      ],
      "execution_count": 91,
      "outputs": [
        {
          "output_type": "execute_result",
          "data": {
            "text/plain": [
              "array([[5.1, 3.5, 1.4, 0.2],\n",
              "       [4.9, 3. , 1.4, 0.2],\n",
              "       [4.7, 3.2, 1.3, 0.2]])"
            ]
          },
          "metadata": {
            "tags": []
          },
          "execution_count": 91
        }
      ]
    },
    {
      "cell_type": "code",
      "metadata": {
        "id": "3qv13As6pU2e"
      },
      "source": [
        "pca = PCA(n_components=2)\n",
        "X_reduced = pca.fit_transform(X)"
      ],
      "execution_count": 93,
      "outputs": []
    },
    {
      "cell_type": "code",
      "metadata": {
        "id": "Yl_IvREupv0Q",
        "outputId": "e35ce16b-f5c4-4063-beab-8dcf8e8540e6",
        "colab": {
          "base_uri": "https://localhost:8080/"
        }
      },
      "source": [
        "X_reduced[0:3]"
      ],
      "execution_count": 95,
      "outputs": [
        {
          "output_type": "execute_result",
          "data": {
            "text/plain": [
              "array([[-2.68412563,  0.31939725],\n",
              "       [-2.71414169, -0.17700123],\n",
              "       [-2.88899057, -0.14494943]])"
            ]
          },
          "metadata": {
            "tags": []
          },
          "execution_count": 95
        }
      ]
    },
    {
      "cell_type": "code",
      "metadata": {
        "id": "bunTNx9Vp6MR",
        "outputId": "b1adf1d6-cee9-494b-e50c-7c5807669bce",
        "colab": {
          "base_uri": "https://localhost:8080/",
          "height": 269
        }
      },
      "source": [
        "from matplotlib import pyplot as plt\n",
        "plt.scatter(X_reduced[:, 0], X_reduced[:, 1], c=iris.target)\n",
        "plt.show()"
      ],
      "execution_count": 97,
      "outputs": [
        {
          "output_type": "display_data",
          "data": {
            "image/png": "[encoded data removed]",
            "text/plain": [
              "<Figure size 432x288 with 1 Axes>"
            ]
          },
          "metadata": {
            "tags": [],
            "needs_background": "light"
          }
        }
      ]
    },
    {
      "cell_type": "code",
      "metadata": {
        "id": "rsOaeDzSp9lh",
        "outputId": "55cd79ef-cc7f-4eb5-b12b-a1fc1ef6d8b1",
        "colab": {
          "base_uri": "https://localhost:8080/"
        }
      },
      "source": [
        "for component in pca.components_:\n",
        "  print(\" + \".join(\"%.3f x %s\" % (value, name) for value, name in zip(component, iris.feature_names))) "
      ],
      "execution_count": 98,
      "outputs": [
        {
          "output_type": "stream",
          "text": [
            "0.361 x sepal length (cm) + -0.085 x sepal width (cm) + 0.857 x petal length (cm) + 0.358 x petal width (cm)\n",
            "0.657 x sepal length (cm) + 0.730 x sepal width (cm) + -0.173 x petal length (cm) + -0.075 x petal width (cm)\n"
          ],
          "name": "stdout"
        }
      ]
    },
    {
      "cell_type": "code",
      "metadata": {
        "id": "c49DnhYsqJxD",
        "outputId": "2874c64f-4b11-4100-9919-b44cf72ad3c9",
        "colab": {
          "base_uri": "https://localhost:8080/"
        }
      },
      "source": [
        "pca.explained_variance_"
      ],
      "execution_count": 99,
      "outputs": [
        {
          "output_type": "execute_result",
          "data": {
            "text/plain": [
              "array([4.22824171, 0.24267075])"
            ]
          },
          "metadata": {
            "tags": []
          },
          "execution_count": 99
        }
      ]
    },
    {
      "cell_type": "code",
      "metadata": {
        "id": "AEPqNJX3qbYE",
        "outputId": "939250e8-f9a1-451e-d429-4682e3058a1d",
        "colab": {
          "base_uri": "https://localhost:8080/"
        }
      },
      "source": [
        "from sklearn.linear_model import LogisticRegression\n",
        "clf = LogisticRegression()\n",
        "clf.fit(X_reduced[:,[0]], iris.target)"
      ],
      "execution_count": 101,
      "outputs": [
        {
          "output_type": "execute_result",
          "data": {
            "text/plain": [
              "LogisticRegression(C=1.0, class_weight=None, dual=False, fit_intercept=True,\n",
              "                   intercept_scaling=1, l1_ratio=None, max_iter=100,\n",
              "                   multi_class='auto', n_jobs=None, penalty='l2',\n",
              "                   random_state=None, solver='lbfgs', tol=0.0001, verbose=0,\n",
              "                   warm_start=False)"
            ]
          },
          "metadata": {
            "tags": []
          },
          "execution_count": 101
        }
      ]
    },
    {
      "cell_type": "code",
      "metadata": {
        "id": "ND5TXLXArMk5"
      },
      "source": [
        "pred_y = clf.predict(X_reduced[:,[0]])"
      ],
      "execution_count": 102,
      "outputs": []
    },
    {
      "cell_type": "code",
      "metadata": {
        "id": "kwkPWeoPrVcZ",
        "outputId": "688f8d63-5caf-4cae-9178-cd38717db614",
        "colab": {
          "base_uri": "https://localhost:8080/"
        }
      },
      "source": [
        "from sklearn.metrics import accuracy_score\n",
        "accuracy_score(iris.target, pred_y)"
      ],
      "execution_count": 103,
      "outputs": [
        {
          "output_type": "execute_result",
          "data": {
            "text/plain": [
              "0.94"
            ]
          },
          "metadata": {
            "tags": []
          },
          "execution_count": 103
        }
      ]
    },
    {
      "cell_type": "code",
      "metadata": {
        "id": "_TYEUlhhrcT6",
        "outputId": "672bf3f9-c3d4-42af-f2e0-371a9980d7ad",
        "colab": {
          "base_uri": "https://localhost:8080/",
          "height": 265
        }
      },
      "source": [
        "plt.bar(range(0,2), pca.explained_variance_)\n",
        "plt.xticks(range(0,2), ['component 1', 'component2'])\n",
        "plt.show()"
      ],
      "execution_count": 104,
      "outputs": [
        {
          "output_type": "display_data",
          "data": {
            "image/png": "[encoded data removed]",
            "text/plain": [
              "<Figure size 432x288 with 1 Axes>"
            ]
          },
          "metadata": {
            "tags": [],
            "needs_background": "light"
          }
        }
      ]
    },
    {
      "cell_type": "code",
      "metadata": {
        "id": "dBKR7iNmtvzk",
        "outputId": "36d9f805-8b63-4a35-9e32-d6a99b587a10",
        "colab": {
          "base_uri": "https://localhost:8080/"
        }
      },
      "source": [
        "X[0:3]"
      ],
      "execution_count": 105,
      "outputs": [
        {
          "output_type": "execute_result",
          "data": {
            "text/plain": [
              "array([[5.1, 3.5, 1.4, 0.2],\n",
              "       [4.9, 3. , 1.4, 0.2],\n",
              "       [4.7, 3.2, 1.3, 0.2]])"
            ]
          },
          "metadata": {
            "tags": []
          },
          "execution_count": 105
        }
      ]
    },
    {
      "cell_type": "code",
      "metadata": {
        "id": "kC6aAfbttydu",
        "outputId": "9a957c10-5b5b-4ed3-8905-256e478ac834",
        "colab": {
          "base_uri": "https://localhost:8080/"
        }
      },
      "source": [
        "X.shape"
      ],
      "execution_count": 106,
      "outputs": [
        {
          "output_type": "execute_result",
          "data": {
            "text/plain": [
              "(150, 4)"
            ]
          },
          "metadata": {
            "tags": []
          },
          "execution_count": 106
        }
      ]
    },
    {
      "cell_type": "code",
      "metadata": {
        "id": "qHLUewcXr8rs",
        "outputId": "20eda265-855d-4737-9064-0308b07498c3",
        "colab": {
          "base_uri": "https://localhost:8080/"
        }
      },
      "source": [
        "from scipy.linalg import svd\n",
        "\n",
        "U, S, V = svd(X, full_matrices=False)\n",
        "\n",
        "U.shape, S.shape, V.shape\n"
      ],
      "execution_count": 107,
      "outputs": [
        {
          "output_type": "execute_result",
          "data": {
            "text/plain": [
              "((150, 4), (4,), (4, 4))"
            ]
          },
          "metadata": {
            "tags": []
          },
          "execution_count": 107
        }
      ]
    },
    {
      "cell_type": "code",
      "metadata": {
        "id": "kP7UpuSxt3QW",
        "outputId": "4eed5778-a515-4fce-a4e7-a411c2fe6d42",
        "colab": {
          "base_uri": "https://localhost:8080/"
        }
      },
      "source": [
        "X[0:3]"
      ],
      "execution_count": 108,
      "outputs": [
        {
          "output_type": "execute_result",
          "data": {
            "text/plain": [
              "array([[5.1, 3.5, 1.4, 0.2],\n",
              "       [4.9, 3. , 1.4, 0.2],\n",
              "       [4.7, 3.2, 1.3, 0.2]])"
            ]
          },
          "metadata": {
            "tags": []
          },
          "execution_count": 108
        }
      ]
    },
    {
      "cell_type": "code",
      "metadata": {
        "id": "4vGqzF6Ht9e3",
        "outputId": "6a6f9f59-d0b9-44b9-a7d3-819fe067f9b5",
        "colab": {
          "base_uri": "https://localhost:8080/"
        }
      },
      "source": [
        "U[0:3]"
      ],
      "execution_count": 109,
      "outputs": [
        {
          "output_type": "execute_result",
          "data": {
            "text/plain": [
              "array([[-0.06161685,  0.12961144,  0.0021386 ,  0.00163819],\n",
              "       [-0.05807094,  0.11101978,  0.07067239,  0.05175696],\n",
              "       [-0.05676305,  0.11796647,  0.00434255,  0.00955702]])"
            ]
          },
          "metadata": {
            "tags": []
          },
          "execution_count": 109
        }
      ]
    },
    {
      "cell_type": "code",
      "metadata": {
        "id": "5S9caL0mt-8H",
        "outputId": "5e0e7c6d-463f-4880-cec0-f8430a539342",
        "colab": {
          "base_uri": "https://localhost:8080/"
        }
      },
      "source": [
        "S[0:3]"
      ],
      "execution_count": 110,
      "outputs": [
        {
          "output_type": "execute_result",
          "data": {
            "text/plain": [
              "array([95.95991387, 17.76103366,  3.46093093])"
            ]
          },
          "metadata": {
            "tags": []
          },
          "execution_count": 110
        }
      ]
    },
    {
      "cell_type": "code",
      "metadata": {
        "id": "vCisf5pauAIH",
        "outputId": "19aef97d-95b9-4ce5-dfd7-57b7ec791b7d",
        "colab": {
          "base_uri": "https://localhost:8080/"
        }
      },
      "source": [
        "V[:3]"
      ],
      "execution_count": 111,
      "outputs": [
        {
          "output_type": "execute_result",
          "data": {
            "text/plain": [
              "array([[-0.75110816, -0.38008617, -0.51300886, -0.16790754],\n",
              "       [ 0.2841749 ,  0.5467445 , -0.70866455, -0.34367081],\n",
              "       [ 0.50215472, -0.67524332, -0.05916621, -0.53701625]])"
            ]
          },
          "metadata": {
            "tags": []
          },
          "execution_count": 111
        }
      ]
    },
    {
      "cell_type": "code",
      "metadata": {
        "id": "11fCiwkyuBkn"
      },
      "source": [
        "import numpy as np\n",
        "X2 = np.dot(np.dot(U,np.diag(S)),V)"
      ],
      "execution_count": 113,
      "outputs": []
    },
    {
      "cell_type": "code",
      "metadata": {
        "id": "xjHGOYbSuH7n",
        "outputId": "146916d7-621c-440e-d4a2-510e142f18e4",
        "colab": {
          "base_uri": "https://localhost:8080/"
        }
      },
      "source": [
        "X2[0:3]"
      ],
      "execution_count": 114,
      "outputs": [
        {
          "output_type": "execute_result",
          "data": {
            "text/plain": [
              "array([[5.1, 3.5, 1.4, 0.2],\n",
              "       [4.9, 3. , 1.4, 0.2],\n",
              "       [4.7, 3.2, 1.3, 0.2]])"
            ]
          },
          "metadata": {
            "tags": []
          },
          "execution_count": 114
        }
      ]
    },
    {
      "cell_type": "code",
      "metadata": {
        "id": "DUrL6EHWuMXo",
        "outputId": "153edaa9-6be8-4e22-f74c-4da3424ae4ab",
        "colab": {
          "base_uri": "https://localhost:8080/"
        }
      },
      "source": [
        "X[0:3]"
      ],
      "execution_count": 116,
      "outputs": [
        {
          "output_type": "execute_result",
          "data": {
            "text/plain": [
              "array([[5.1, 3.5, 1.4, 0.2],\n",
              "       [4.9, 3. , 1.4, 0.2],\n",
              "       [4.7, 3.2, 1.3, 0.2]])"
            ]
          },
          "metadata": {
            "tags": []
          },
          "execution_count": 116
        }
      ]
    },
    {
      "cell_type": "code",
      "metadata": {
        "id": "JXIKfzEzuN3Y",
        "outputId": "45ff42c3-1ba0-4609-f26c-79ca3ac898ff",
        "colab": {
          "base_uri": "https://localhost:8080/"
        }
      },
      "source": [
        "  150 * 4"
      ],
      "execution_count": 117,
      "outputs": [
        {
          "output_type": "execute_result",
          "data": {
            "text/plain": [
              "600"
            ]
          },
          "metadata": {
            "tags": []
          },
          "execution_count": 117
        }
      ]
    },
    {
      "cell_type": "code",
      "metadata": {
        "id": "4z62btVcuZHZ",
        "outputId": "96401132-e875-44af-b3d6-0e8fb745f683",
        "colab": {
          "base_uri": "https://localhost:8080/"
        }
      },
      "source": [
        "150 * 4 + 4 * 4 + 4* 4"
      ],
      "execution_count": 118,
      "outputs": [
        {
          "output_type": "execute_result",
          "data": {
            "text/plain": [
              "632"
            ]
          },
          "metadata": {
            "tags": []
          },
          "execution_count": 118
        }
      ]
    },
    {
      "cell_type": "code",
      "metadata": {
        "id": "4cbG3MTcub3p"
      },
      "source": [
        "from sklearn.decomposition import TruncatedSVD\n",
        "svd = TruncatedSVD(2)\n",
        "X = svd.fit_transform(iris.data)"
      ],
      "execution_count": 119,
      "outputs": []
    },
    {
      "cell_type": "code",
      "metadata": {
        "id": "Oa8ZtVZRuilp",
        "outputId": "0cd583b9-5488-401d-ffec-7ccb1c447220",
        "colab": {
          "base_uri": "https://localhost:8080/"
        }
      },
      "source": [
        "X.shape"
      ],
      "execution_count": 120,
      "outputs": [
        {
          "output_type": "execute_result",
          "data": {
            "text/plain": [
              "(150, 2)"
            ]
          },
          "metadata": {
            "tags": []
          },
          "execution_count": 120
        }
      ]
    },
    {
      "cell_type": "code",
      "metadata": {
        "id": "QTSw97tquj1p",
        "outputId": "dcef1c91-9c66-4a42-e416-596b4b335677",
        "colab": {
          "base_uri": "https://localhost:8080/"
        }
      },
      "source": [
        "150 * 2"
      ],
      "execution_count": 121,
      "outputs": [
        {
          "output_type": "execute_result",
          "data": {
            "text/plain": [
              "300"
            ]
          },
          "metadata": {
            "tags": []
          },
          "execution_count": 121
        }
      ]
    },
    {
      "cell_type": "code",
      "metadata": {
        "id": "y2-NR1ZQurSL",
        "outputId": "7467514a-5ac5-4f9e-99ba-f58d14f80b8f",
        "colab": {
          "base_uri": "https://localhost:8080/",
          "height": 295
        }
      },
      "source": [
        "import matplotlib.pyplot as plt\n",
        "plt.scatter(X[:, 0], X[:, 1], c=iris.target)\n",
        "plt.xlabel('SVD1')\n",
        "plt.ylabel('SVD2')\n",
        "plt.title('SVD')\n",
        "plt.show()"
      ],
      "execution_count": 122,
      "outputs": [
        {
          "output_type": "display_data",
          "data": {
            "image/png": "[encoded data removed]",
            "text/plain": [
              "<Figure size 432x288 with 1 Axes>"
            ]
          },
          "metadata": {
            "tags": [],
            "needs_background": "light"
          }
        }
      ]
    },
    {
      "cell_type": "markdown",
      "metadata": {
        "id": "H8xhxt_kwSn2"
      },
      "source": [
        "## Lending Club\n",
        "- https://drive.google.com/open?id=1sf5jtUA7UKc56DufVZO8QW0HteOd_Swo"
      ]
    },
    {
      "cell_type": "code",
      "metadata": {
        "id": "D4J2X2RSuwML",
        "outputId": "f32a609a-b2a3-46c1-fc87-b1c8e858b3e6",
        "colab": {
          "base_uri": "https://localhost:8080/"
        }
      },
      "source": [
        "! gdown https://drive.google.com/uc?id=1sf5jtUA7UKc56DufVZO8QW0HteOd_Swo"
      ],
      "execution_count": 123,
      "outputs": [
        {
          "output_type": "stream",
          "text": [
            "Downloading...\n",
            "From: https://drive.google.com/uc?id=1sf5jtUA7UKc56DufVZO8QW0HteOd_Swo\n",
            "To: /content/LoanStats3b.csv.zip\n",
            "36.6MB [00:00, 100MB/s] \n"
          ],
          "name": "stdout"
        }
      ]
    },
    {
      "cell_type": "code",
      "metadata": {
        "id": "lQh1Hwx9wjrD",
        "outputId": "39deb0cc-3d70-4f27-8b50-0eda4dc75a9b",
        "colab": {
          "base_uri": "https://localhost:8080/"
        }
      },
      "source": [
        "! unzip LoanStats3b.csv.zip"
      ],
      "execution_count": 124,
      "outputs": [
        {
          "output_type": "stream",
          "text": [
            "Archive:  LoanStats3b.csv.zip\n",
            "  inflating: LoanStats3b.csv         \n"
          ],
          "name": "stdout"
        }
      ]
    },
    {
      "cell_type": "markdown",
      "metadata": {
        "id": "P-6vTenRwrCu"
      },
      "source": [
        "### 讀取資料"
      ]
    },
    {
      "cell_type": "code",
      "metadata": {
        "id": "zmSLfLH3wnaD",
        "outputId": "22bf7ab8-7422-4506-c3e3-2c3757b70adb",
        "colab": {
          "base_uri": "https://localhost:8080/"
        }
      },
      "source": [
        "import pandas as pd\n",
        "dataset = pd.read_csv('LoanStats3b.csv', skiprows=[0])\n",
        "dataset.info()"
      ],
      "execution_count": 156,
      "outputs": [
        {
          "output_type": "stream",
          "text": [
            "/usr/local/lib/python3.6/dist-packages/IPython/core/interactiveshell.py:2718: DtypeWarning: Columns (0,47,123,124,125,128,129,130,133) have mixed types.Specify dtype option on import or set low_memory=False.\n",
            "  interactivity=interactivity, compiler=compiler, result=result)\n"
          ],
          "name": "stderr"
        },
        {
          "output_type": "stream",
          "text": [
            "<class 'pandas.core.frame.DataFrame'>\n",
            "RangeIndex: 188183 entries, 0 to 188182\n",
            "Columns: 145 entries, id to settlement_term\n",
            "dtypes: float64(108), object(37)\n",
            "memory usage: 208.2+ MB\n"
          ],
          "name": "stdout"
        }
      ]
    },
    {
      "cell_type": "code",
      "metadata": {
        "id": "I8zmy0EiwumD",
        "outputId": "4702b359-e208-4d2b-e1c0-f54050d7e41a",
        "colab": {
          "base_uri": "https://localhost:8080/"
        }
      },
      "source": [
        "len(dataset.columns)"
      ],
      "execution_count": 157,
      "outputs": [
        {
          "output_type": "execute_result",
          "data": {
            "text/plain": [
              "145"
            ]
          },
          "metadata": {
            "tags": []
          },
          "execution_count": 157
        }
      ]
    },
    {
      "cell_type": "markdown",
      "metadata": {
        "id": "Jye_-aCKw7Ni"
      },
      "source": [
        "### 資料預處理"
      ]
    },
    {
      "cell_type": "code",
      "metadata": {
        "id": "_5DrYoJ9wzcz",
        "outputId": "a0d6672a-1407-4c4a-c8d5-8729e257c1ac",
        "colab": {
          "base_uri": "https://localhost:8080/"
        }
      },
      "source": [
        "dataset.isna().sum()"
      ],
      "execution_count": 158,
      "outputs": [
        {
          "output_type": "execute_result",
          "data": {
            "text/plain": [
              "id                       188181\n",
              "member_id                188183\n",
              "loan_amnt                     2\n",
              "funded_amnt                   2\n",
              "funded_amnt_inv               2\n",
              "                          ...  \n",
              "settlement_status        186132\n",
              "settlement_date          186132\n",
              "settlement_amount        186132\n",
              "settlement_percentage    186132\n",
              "settlement_term          186132\n",
              "Length: 145, dtype: int64"
            ]
          },
          "metadata": {
            "tags": []
          },
          "execution_count": 158
        }
      ]
    },
    {
      "cell_type": "code",
      "metadata": {
        "id": "O36V-4rbxCI0",
        "outputId": "89a552b0-68f7-47e9-80ca-6359eecc746e",
        "colab": {
          "base_uri": "https://localhost:8080/"
        }
      },
      "source": [
        "dataset['loan_status'].unique()"
      ],
      "execution_count": 159,
      "outputs": [
        {
          "output_type": "execute_result",
          "data": {
            "text/plain": [
              "array(['Fully Paid', 'Charged Off', 'Late (31-120 days)', 'Current',\n",
              "       'In Grace Period', nan], dtype=object)"
            ]
          },
          "metadata": {
            "tags": []
          },
          "execution_count": 159
        }
      ]
    },
    {
      "cell_type": "code",
      "metadata": {
        "id": "hG2eYjupxPyF",
        "outputId": "e7363160-e078-4b47-91e8-374384bf7ea2",
        "colab": {
          "base_uri": "https://localhost:8080/",
          "height": 509
        }
      },
      "source": [
        "dataset.head()"
      ],
      "execution_count": 160,
      "outputs": [
        {
          "output_type": "execute_result",
          "data": {
            "text/html": [
              "<div>\n",
              "<style scoped>\n",
              "    .dataframe tbody tr th:only-of-type {\n",
              "        vertical-align: middle;\n",
              "    }\n",
              "\n",
              "    .dataframe tbody tr th {\n",
              "        vertical-align: top;\n",
              "    }\n",
              "\n",
              "    .dataframe thead th {\n",
              "        text-align: right;\n",
              "    }\n",
              "</style>\n",
              "<table border=\"1\" class=\"dataframe\">\n",
              "  <thead>\n",
              "    <tr style=\"text-align: right;\">\n",
              "      <th></th>\n",
              "      <th>id</th>\n",
              "      <th>member_id</th>\n",
              "      <th>loan_amnt</th>\n",
              "      <th>funded_amnt</th>\n",
              "      <th>funded_amnt_inv</th>\n",
              "      <th>term</th>\n",
              "      <th>int_rate</th>\n",
              "      <th>installment</th>\n",
              "      <th>grade</th>\n",
              "      <th>sub_grade</th>\n",
              "      <th>emp_title</th>\n",
              "      <th>emp_length</th>\n",
              "      <th>home_ownership</th>\n",
              "      <th>annual_inc</th>\n",
              "      <th>verification_status</th>\n",
              "      <th>issue_d</th>\n",
              "      <th>loan_status</th>\n",
              "      <th>pymnt_plan</th>\n",
              "      <th>url</th>\n",
              "      <th>desc</th>\n",
              "      <th>purpose</th>\n",
              "      <th>title</th>\n",
              "      <th>zip_code</th>\n",
              "      <th>addr_state</th>\n",
              "      <th>dti</th>\n",
              "      <th>delinq_2yrs</th>\n",
              "      <th>earliest_cr_line</th>\n",
              "      <th>inq_last_6mths</th>\n",
              "      <th>mths_since_last_delinq</th>\n",
              "      <th>mths_since_last_record</th>\n",
              "      <th>open_acc</th>\n",
              "      <th>pub_rec</th>\n",
              "      <th>revol_bal</th>\n",
              "      <th>revol_util</th>\n",
              "      <th>total_acc</th>\n",
              "      <th>initial_list_status</th>\n",
              "      <th>out_prncp</th>\n",
              "      <th>out_prncp_inv</th>\n",
              "      <th>total_pymnt</th>\n",
              "      <th>total_pymnt_inv</th>\n",
              "      <th>...</th>\n",
              "      <th>pub_rec_bankruptcies</th>\n",
              "      <th>tax_liens</th>\n",
              "      <th>tot_hi_cred_lim</th>\n",
              "      <th>total_bal_ex_mort</th>\n",
              "      <th>total_bc_limit</th>\n",
              "      <th>total_il_high_credit_limit</th>\n",
              "      <th>revol_bal_joint</th>\n",
              "      <th>sec_app_earliest_cr_line</th>\n",
              "      <th>sec_app_inq_last_6mths</th>\n",
              "      <th>sec_app_mort_acc</th>\n",
              "      <th>sec_app_open_acc</th>\n",
              "      <th>sec_app_revol_util</th>\n",
              "      <th>sec_app_open_act_il</th>\n",
              "      <th>sec_app_num_rev_accts</th>\n",
              "      <th>sec_app_chargeoff_within_12_mths</th>\n",
              "      <th>sec_app_collections_12_mths_ex_med</th>\n",
              "      <th>sec_app_mths_since_last_major_derog</th>\n",
              "      <th>hardship_flag</th>\n",
              "      <th>hardship_type</th>\n",
              "      <th>hardship_reason</th>\n",
              "      <th>hardship_status</th>\n",
              "      <th>deferral_term</th>\n",
              "      <th>hardship_amount</th>\n",
              "      <th>hardship_start_date</th>\n",
              "      <th>hardship_end_date</th>\n",
              "      <th>payment_plan_start_date</th>\n",
              "      <th>hardship_length</th>\n",
              "      <th>hardship_dpd</th>\n",
              "      <th>hardship_loan_status</th>\n",
              "      <th>orig_projected_additional_accrued_interest</th>\n",
              "      <th>hardship_payoff_balance_amount</th>\n",
              "      <th>hardship_last_payment_amount</th>\n",
              "      <th>disbursement_method</th>\n",
              "      <th>debt_settlement_flag</th>\n",
              "      <th>debt_settlement_flag_date</th>\n",
              "      <th>settlement_status</th>\n",
              "      <th>settlement_date</th>\n",
              "      <th>settlement_amount</th>\n",
              "      <th>settlement_percentage</th>\n",
              "      <th>settlement_term</th>\n",
              "    </tr>\n",
              "  </thead>\n",
              "  <tbody>\n",
              "    <tr>\n",
              "      <th>0</th>\n",
              "      <td>NaN</td>\n",
              "      <td>NaN</td>\n",
              "      <td>12000.0</td>\n",
              "      <td>12000.0</td>\n",
              "      <td>12000.0</td>\n",
              "      <td>36 months</td>\n",
              "      <td>7.62%</td>\n",
              "      <td>373.94</td>\n",
              "      <td>A</td>\n",
              "      <td>A3</td>\n",
              "      <td>Systems Engineer</td>\n",
              "      <td>3 years</td>\n",
              "      <td>MORTGAGE</td>\n",
              "      <td>96500.0</td>\n",
              "      <td>Not Verified</td>\n",
              "      <td>Dec-2013</td>\n",
              "      <td>Fully Paid</td>\n",
              "      <td>n</td>\n",
              "      <td>NaN</td>\n",
              "      <td>Borrower added on 12/31/13 &gt; Bought a new ho...</td>\n",
              "      <td>debt_consolidation</td>\n",
              "      <td>Debt Consolidation and Credit Transfer</td>\n",
              "      <td>782xx</td>\n",
              "      <td>TX</td>\n",
              "      <td>12.61</td>\n",
              "      <td>0.0</td>\n",
              "      <td>Sep-2003</td>\n",
              "      <td>0.0</td>\n",
              "      <td>NaN</td>\n",
              "      <td>NaN</td>\n",
              "      <td>17.0</td>\n",
              "      <td>0.0</td>\n",
              "      <td>13248.0</td>\n",
              "      <td>55.7%</td>\n",
              "      <td>30.0</td>\n",
              "      <td>f</td>\n",
              "      <td>0.0</td>\n",
              "      <td>0.0</td>\n",
              "      <td>13397.539998</td>\n",
              "      <td>13397.54</td>\n",
              "      <td>...</td>\n",
              "      <td>0.0</td>\n",
              "      <td>0.0</td>\n",
              "      <td>233004.0</td>\n",
              "      <td>46738.0</td>\n",
              "      <td>14800.0</td>\n",
              "      <td>53404.0</td>\n",
              "      <td>NaN</td>\n",
              "      <td>NaN</td>\n",
              "      <td>NaN</td>\n",
              "      <td>NaN</td>\n",
              "      <td>NaN</td>\n",
              "      <td>NaN</td>\n",
              "      <td>NaN</td>\n",
              "      <td>NaN</td>\n",
              "      <td>NaN</td>\n",
              "      <td>NaN</td>\n",
              "      <td>NaN</td>\n",
              "      <td>N</td>\n",
              "      <td>NaN</td>\n",
              "      <td>NaN</td>\n",
              "      <td>NaN</td>\n",
              "      <td>NaN</td>\n",
              "      <td>NaN</td>\n",
              "      <td>NaN</td>\n",
              "      <td>NaN</td>\n",
              "      <td>NaN</td>\n",
              "      <td>NaN</td>\n",
              "      <td>NaN</td>\n",
              "      <td>NaN</td>\n",
              "      <td>NaN</td>\n",
              "      <td>NaN</td>\n",
              "      <td>NaN</td>\n",
              "      <td>Cash</td>\n",
              "      <td>N</td>\n",
              "      <td>NaN</td>\n",
              "      <td>NaN</td>\n",
              "      <td>NaN</td>\n",
              "      <td>NaN</td>\n",
              "      <td>NaN</td>\n",
              "      <td>NaN</td>\n",
              "    </tr>\n",
              "    <tr>\n",
              "      <th>1</th>\n",
              "      <td>NaN</td>\n",
              "      <td>NaN</td>\n",
              "      <td>27050.0</td>\n",
              "      <td>27050.0</td>\n",
              "      <td>27050.0</td>\n",
              "      <td>36 months</td>\n",
              "      <td>10.99%</td>\n",
              "      <td>885.46</td>\n",
              "      <td>B</td>\n",
              "      <td>B2</td>\n",
              "      <td>Team Leadern Customer Ops &amp; Systems</td>\n",
              "      <td>10+ years</td>\n",
              "      <td>OWN</td>\n",
              "      <td>55000.0</td>\n",
              "      <td>Verified</td>\n",
              "      <td>Dec-2013</td>\n",
              "      <td>Fully Paid</td>\n",
              "      <td>n</td>\n",
              "      <td>NaN</td>\n",
              "      <td>Borrower added on 12/31/13 &gt; Combining high ...</td>\n",
              "      <td>debt_consolidation</td>\n",
              "      <td>Debt Consolidation</td>\n",
              "      <td>481xx</td>\n",
              "      <td>MI</td>\n",
              "      <td>22.87</td>\n",
              "      <td>0.0</td>\n",
              "      <td>Oct-1986</td>\n",
              "      <td>0.0</td>\n",
              "      <td>NaN</td>\n",
              "      <td>NaN</td>\n",
              "      <td>14.0</td>\n",
              "      <td>0.0</td>\n",
              "      <td>36638.0</td>\n",
              "      <td>61.2%</td>\n",
              "      <td>27.0</td>\n",
              "      <td>w</td>\n",
              "      <td>0.0</td>\n",
              "      <td>0.0</td>\n",
              "      <td>31752.530000</td>\n",
              "      <td>31752.53</td>\n",
              "      <td>...</td>\n",
              "      <td>0.0</td>\n",
              "      <td>0.0</td>\n",
              "      <td>138554.0</td>\n",
              "      <td>70186.0</td>\n",
              "      <td>35700.0</td>\n",
              "      <td>33054.0</td>\n",
              "      <td>NaN</td>\n",
              "      <td>NaN</td>\n",
              "      <td>NaN</td>\n",
              "      <td>NaN</td>\n",
              "      <td>NaN</td>\n",
              "      <td>NaN</td>\n",
              "      <td>NaN</td>\n",
              "      <td>NaN</td>\n",
              "      <td>NaN</td>\n",
              "      <td>NaN</td>\n",
              "      <td>NaN</td>\n",
              "      <td>N</td>\n",
              "      <td>NaN</td>\n",
              "      <td>NaN</td>\n",
              "      <td>NaN</td>\n",
              "      <td>NaN</td>\n",
              "      <td>NaN</td>\n",
              "      <td>NaN</td>\n",
              "      <td>NaN</td>\n",
              "      <td>NaN</td>\n",
              "      <td>NaN</td>\n",
              "      <td>NaN</td>\n",
              "      <td>NaN</td>\n",
              "      <td>NaN</td>\n",
              "      <td>NaN</td>\n",
              "      <td>NaN</td>\n",
              "      <td>Cash</td>\n",
              "      <td>N</td>\n",
              "      <td>NaN</td>\n",
              "      <td>NaN</td>\n",
              "      <td>NaN</td>\n",
              "      <td>NaN</td>\n",
              "      <td>NaN</td>\n",
              "      <td>NaN</td>\n",
              "    </tr>\n",
              "    <tr>\n",
              "      <th>2</th>\n",
              "      <td>NaN</td>\n",
              "      <td>NaN</td>\n",
              "      <td>12000.0</td>\n",
              "      <td>12000.0</td>\n",
              "      <td>12000.0</td>\n",
              "      <td>36 months</td>\n",
              "      <td>11.99%</td>\n",
              "      <td>398.52</td>\n",
              "      <td>B</td>\n",
              "      <td>B3</td>\n",
              "      <td>LTC</td>\n",
              "      <td>10+ years</td>\n",
              "      <td>MORTGAGE</td>\n",
              "      <td>130000.0</td>\n",
              "      <td>Source Verified</td>\n",
              "      <td>Dec-2013</td>\n",
              "      <td>Fully Paid</td>\n",
              "      <td>n</td>\n",
              "      <td>NaN</td>\n",
              "      <td>NaN</td>\n",
              "      <td>debt_consolidation</td>\n",
              "      <td>Debt consolidation</td>\n",
              "      <td>809xx</td>\n",
              "      <td>CO</td>\n",
              "      <td>13.03</td>\n",
              "      <td>0.0</td>\n",
              "      <td>Nov-1997</td>\n",
              "      <td>1.0</td>\n",
              "      <td>NaN</td>\n",
              "      <td>NaN</td>\n",
              "      <td>9.0</td>\n",
              "      <td>0.0</td>\n",
              "      <td>10805.0</td>\n",
              "      <td>67%</td>\n",
              "      <td>19.0</td>\n",
              "      <td>f</td>\n",
              "      <td>0.0</td>\n",
              "      <td>0.0</td>\n",
              "      <td>14346.479050</td>\n",
              "      <td>14346.48</td>\n",
              "      <td>...</td>\n",
              "      <td>0.0</td>\n",
              "      <td>0.0</td>\n",
              "      <td>365874.0</td>\n",
              "      <td>44327.0</td>\n",
              "      <td>10700.0</td>\n",
              "      <td>57674.0</td>\n",
              "      <td>NaN</td>\n",
              "      <td>NaN</td>\n",
              "      <td>NaN</td>\n",
              "      <td>NaN</td>\n",
              "      <td>NaN</td>\n",
              "      <td>NaN</td>\n",
              "      <td>NaN</td>\n",
              "      <td>NaN</td>\n",
              "      <td>NaN</td>\n",
              "      <td>NaN</td>\n",
              "      <td>NaN</td>\n",
              "      <td>N</td>\n",
              "      <td>NaN</td>\n",
              "      <td>NaN</td>\n",
              "      <td>NaN</td>\n",
              "      <td>NaN</td>\n",
              "      <td>NaN</td>\n",
              "      <td>NaN</td>\n",
              "      <td>NaN</td>\n",
              "      <td>NaN</td>\n",
              "      <td>NaN</td>\n",
              "      <td>NaN</td>\n",
              "      <td>NaN</td>\n",
              "      <td>NaN</td>\n",
              "      <td>NaN</td>\n",
              "      <td>NaN</td>\n",
              "      <td>Cash</td>\n",
              "      <td>N</td>\n",
              "      <td>NaN</td>\n",
              "      <td>NaN</td>\n",
              "      <td>NaN</td>\n",
              "      <td>NaN</td>\n",
              "      <td>NaN</td>\n",
              "      <td>NaN</td>\n",
              "    </tr>\n",
              "    <tr>\n",
              "      <th>3</th>\n",
              "      <td>NaN</td>\n",
              "      <td>NaN</td>\n",
              "      <td>28000.0</td>\n",
              "      <td>28000.0</td>\n",
              "      <td>28000.0</td>\n",
              "      <td>36 months</td>\n",
              "      <td>7.62%</td>\n",
              "      <td>872.52</td>\n",
              "      <td>A</td>\n",
              "      <td>A3</td>\n",
              "      <td>Area Sales Manager</td>\n",
              "      <td>5 years</td>\n",
              "      <td>MORTGAGE</td>\n",
              "      <td>325000.0</td>\n",
              "      <td>Source Verified</td>\n",
              "      <td>Dec-2013</td>\n",
              "      <td>Fully Paid</td>\n",
              "      <td>n</td>\n",
              "      <td>NaN</td>\n",
              "      <td>NaN</td>\n",
              "      <td>debt_consolidation</td>\n",
              "      <td>Pay off other Installment loan</td>\n",
              "      <td>945xx</td>\n",
              "      <td>CA</td>\n",
              "      <td>18.55</td>\n",
              "      <td>0.0</td>\n",
              "      <td>Nov-1994</td>\n",
              "      <td>1.0</td>\n",
              "      <td>NaN</td>\n",
              "      <td>NaN</td>\n",
              "      <td>15.0</td>\n",
              "      <td>0.0</td>\n",
              "      <td>29581.0</td>\n",
              "      <td>54.6%</td>\n",
              "      <td>31.0</td>\n",
              "      <td>w</td>\n",
              "      <td>0.0</td>\n",
              "      <td>0.0</td>\n",
              "      <td>29150.980000</td>\n",
              "      <td>29150.98</td>\n",
              "      <td>...</td>\n",
              "      <td>0.0</td>\n",
              "      <td>0.0</td>\n",
              "      <td>850886.0</td>\n",
              "      <td>199739.0</td>\n",
              "      <td>42200.0</td>\n",
              "      <td>196686.0</td>\n",
              "      <td>NaN</td>\n",
              "      <td>NaN</td>\n",
              "      <td>NaN</td>\n",
              "      <td>NaN</td>\n",
              "      <td>NaN</td>\n",
              "      <td>NaN</td>\n",
              "      <td>NaN</td>\n",
              "      <td>NaN</td>\n",
              "      <td>NaN</td>\n",
              "      <td>NaN</td>\n",
              "      <td>NaN</td>\n",
              "      <td>N</td>\n",
              "      <td>NaN</td>\n",
              "      <td>NaN</td>\n",
              "      <td>NaN</td>\n",
              "      <td>NaN</td>\n",
              "      <td>NaN</td>\n",
              "      <td>NaN</td>\n",
              "      <td>NaN</td>\n",
              "      <td>NaN</td>\n",
              "      <td>NaN</td>\n",
              "      <td>NaN</td>\n",
              "      <td>NaN</td>\n",
              "      <td>NaN</td>\n",
              "      <td>NaN</td>\n",
              "      <td>NaN</td>\n",
              "      <td>Cash</td>\n",
              "      <td>N</td>\n",
              "      <td>NaN</td>\n",
              "      <td>NaN</td>\n",
              "      <td>NaN</td>\n",
              "      <td>NaN</td>\n",
              "      <td>NaN</td>\n",
              "      <td>NaN</td>\n",
              "    </tr>\n",
              "    <tr>\n",
              "      <th>4</th>\n",
              "      <td>NaN</td>\n",
              "      <td>NaN</td>\n",
              "      <td>12000.0</td>\n",
              "      <td>12000.0</td>\n",
              "      <td>12000.0</td>\n",
              "      <td>36 months</td>\n",
              "      <td>10.99%</td>\n",
              "      <td>392.81</td>\n",
              "      <td>B</td>\n",
              "      <td>B2</td>\n",
              "      <td>Project Manager</td>\n",
              "      <td>4 years</td>\n",
              "      <td>RENT</td>\n",
              "      <td>60000.0</td>\n",
              "      <td>Not Verified</td>\n",
              "      <td>Dec-2013</td>\n",
              "      <td>Fully Paid</td>\n",
              "      <td>n</td>\n",
              "      <td>NaN</td>\n",
              "      <td>Borrower added on 12/31/13 &gt; I would like to...</td>\n",
              "      <td>debt_consolidation</td>\n",
              "      <td>No Regrets</td>\n",
              "      <td>281xx</td>\n",
              "      <td>NC</td>\n",
              "      <td>4.62</td>\n",
              "      <td>0.0</td>\n",
              "      <td>Dec-2009</td>\n",
              "      <td>1.0</td>\n",
              "      <td>NaN</td>\n",
              "      <td>NaN</td>\n",
              "      <td>15.0</td>\n",
              "      <td>0.0</td>\n",
              "      <td>7137.0</td>\n",
              "      <td>24%</td>\n",
              "      <td>18.0</td>\n",
              "      <td>f</td>\n",
              "      <td>0.0</td>\n",
              "      <td>0.0</td>\n",
              "      <td>13988.609996</td>\n",
              "      <td>13988.61</td>\n",
              "      <td>...</td>\n",
              "      <td>0.0</td>\n",
              "      <td>0.0</td>\n",
              "      <td>29700.0</td>\n",
              "      <td>7137.0</td>\n",
              "      <td>18100.0</td>\n",
              "      <td>0.0</td>\n",
              "      <td>NaN</td>\n",
              "      <td>NaN</td>\n",
              "      <td>NaN</td>\n",
              "      <td>NaN</td>\n",
              "      <td>NaN</td>\n",
              "      <td>NaN</td>\n",
              "      <td>NaN</td>\n",
              "      <td>NaN</td>\n",
              "      <td>NaN</td>\n",
              "      <td>NaN</td>\n",
              "      <td>NaN</td>\n",
              "      <td>N</td>\n",
              "      <td>NaN</td>\n",
              "      <td>NaN</td>\n",
              "      <td>NaN</td>\n",
              "      <td>NaN</td>\n",
              "      <td>NaN</td>\n",
              "      <td>NaN</td>\n",
              "      <td>NaN</td>\n",
              "      <td>NaN</td>\n",
              "      <td>NaN</td>\n",
              "      <td>NaN</td>\n",
              "      <td>NaN</td>\n",
              "      <td>NaN</td>\n",
              "      <td>NaN</td>\n",
              "      <td>NaN</td>\n",
              "      <td>Cash</td>\n",
              "      <td>N</td>\n",
              "      <td>NaN</td>\n",
              "      <td>NaN</td>\n",
              "      <td>NaN</td>\n",
              "      <td>NaN</td>\n",
              "      <td>NaN</td>\n",
              "      <td>NaN</td>\n",
              "    </tr>\n",
              "  </tbody>\n",
              "</table>\n",
              "<p>5 rows × 145 columns</p>\n",
              "</div>"
            ],
            "text/plain": [
              "    id  member_id  ...  settlement_percentage  settlement_term\n",
              "0  NaN        NaN  ...                    NaN              NaN\n",
              "1  NaN        NaN  ...                    NaN              NaN\n",
              "2  NaN        NaN  ...                    NaN              NaN\n",
              "3  NaN        NaN  ...                    NaN              NaN\n",
              "4  NaN        NaN  ...                    NaN              NaN\n",
              "\n",
              "[5 rows x 145 columns]"
            ]
          },
          "metadata": {
            "tags": []
          },
          "execution_count": 160
        }
      ]
    },
    {
      "cell_type": "code",
      "metadata": {
        "id": "jdwrBkqpxfML",
        "outputId": "a66bff84-39da-4e04-a082-288a33738bbd",
        "colab": {
          "base_uri": "https://localhost:8080/"
        }
      },
      "source": [
        "np.where((dataset.isna().sum() / len(dataset)) > 0.9)"
      ],
      "execution_count": 161,
      "outputs": [
        {
          "output_type": "execute_result",
          "data": {
            "text/plain": [
              "(array([  0,   1,  18,  29,  47,  53,  54,  55,  59,  60,  61,  62,  63,\n",
              "         64,  65,  66,  67,  68,  69,  71,  72,  73, 111, 112, 113, 114,\n",
              "        115, 116, 117, 118, 119, 120, 121, 123, 124, 125, 126, 127, 128,\n",
              "        129, 130, 131, 132, 133, 134, 135, 136, 139, 140, 141, 142, 143,\n",
              "        144]),)"
            ]
          },
          "metadata": {
            "tags": []
          },
          "execution_count": 161
        }
      ]
    },
    {
      "cell_type": "code",
      "metadata": {
        "id": "yRESy5blxrPn"
      },
      "source": [
        "dataset = dataset.iloc[:,2:111]\n",
        "empty_cols = [i for i in range(45,72)]\n",
        "dataset = dataset.drop(dataset.columns[empty_cols],axis=1)"
      ],
      "execution_count": 162,
      "outputs": []
    },
    {
      "cell_type": "code",
      "metadata": {
        "id": "r57m7CtXyFkJ"
      },
      "source": [
        "#dataset.info()"
      ],
      "execution_count": 163,
      "outputs": []
    },
    {
      "cell_type": "code",
      "metadata": {
        "id": "p_qanlwEyHWp",
        "outputId": "8d2794dd-57f6-4c8d-8330-75aaa224ff6f",
        "colab": {
          "base_uri": "https://localhost:8080/"
        }
      },
      "source": [
        "np.where((dataset.isna().sum() / len(dataset)) > 0.9)"
      ],
      "execution_count": 164,
      "outputs": [
        {
          "output_type": "execute_result",
          "data": {
            "text/plain": [
              "(array([16, 27]),)"
            ]
          },
          "metadata": {
            "tags": []
          },
          "execution_count": 164
        }
      ]
    },
    {
      "cell_type": "code",
      "metadata": {
        "id": "GFjVRPp7yMcK"
      },
      "source": [
        "dataset = dataset[dataset['loan_status'].isin(['Fully Paid', 'Charged Off'])]"
      ],
      "execution_count": 165,
      "outputs": []
    },
    {
      "cell_type": "code",
      "metadata": {
        "id": "pjpC7EdZyUJK",
        "outputId": "d5a41614-a3ac-48ca-d51d-e213237ba4a8",
        "colab": {
          "base_uri": "https://localhost:8080/"
        }
      },
      "source": [
        "dataset.isna().sum().sort_values(ascending= False)"
      ],
      "execution_count": 166,
      "outputs": [
        {
          "output_type": "execute_result",
          "data": {
            "text/plain": [
              "url                               188171\n",
              "mths_since_last_record            170698\n",
              "mths_since_recent_bc_dlq          151423\n",
              "mths_since_recent_revol_delinq    133728\n",
              "mths_since_last_delinq            107568\n",
              "                                   ...  \n",
              "revol_bal                              0\n",
              "pub_rec                                0\n",
              "open_acc                               0\n",
              "inq_last_6mths                         0\n",
              "loan_amnt                              0\n",
              "Length: 82, dtype: int64"
            ]
          },
          "metadata": {
            "tags": []
          },
          "execution_count": 166
        }
      ]
    },
    {
      "cell_type": "code",
      "metadata": {
        "id": "XEmiFhgyyX2K"
      },
      "source": [
        "del_col_names = [\"delinq_2yrs\", \"last_pymnt_d\", \"chargeoff_within_12_mths\",\"delinq_amnt\",\"emp_title\",\n",
        "\"term\", \"emp_title\", \"pymnt_plan\",\"purpose\",\"title\", \"zip_code\", \"verification_status\", \"dti\",\"earliest_cr_line\",\n",
        "\"initial_list_status\", \"out_prncp\",\n",
        "\"pymnt_plan\", \"num_tl_90g_dpd_24m\", \"num_tl_30dpd\", \"num_tl_120dpd_2m\",\n",
        "\"num_accts_ever_120_pd\", \"delinq_amnt\",\n",
        "\"chargeoff_within_12_mths\", \"total_rec_late_fee\", \"out_prncp_inv\", \"issue_d\"]"
      ],
      "execution_count": 167,
      "outputs": []
    },
    {
      "cell_type": "code",
      "metadata": {
        "id": "uwq8i1VFylv6"
      },
      "source": [
        "dataset = dataset.drop(labels = del_col_names, axis = 1)"
      ],
      "execution_count": 168,
      "outputs": []
    },
    {
      "cell_type": "code",
      "metadata": {
        "id": "3Pjc45f_yr8K",
        "outputId": "8fa1e5be-8a3e-4dd7-d29a-6e22e1a25748",
        "colab": {
          "base_uri": "https://localhost:8080/"
        }
      },
      "source": [
        "dataset.isna().sum().sort_values(ascending= False)"
      ],
      "execution_count": 169,
      "outputs": [
        {
          "output_type": "execute_result",
          "data": {
            "text/plain": [
              "url                               188171\n",
              "mths_since_last_record            170698\n",
              "mths_since_recent_bc_dlq          151423\n",
              "mths_since_recent_revol_delinq    133728\n",
              "mths_since_last_delinq            107568\n",
              "desc                              106697\n",
              "mo_sin_old_il_acct                 33872\n",
              "pct_tl_nvr_dlq                     27894\n",
              "mths_since_recent_inq              27867\n",
              "avg_cur_bal                        27747\n",
              "mo_sin_old_rev_tl_op               27742\n",
              "mo_sin_rcnt_rev_tl_op              27742\n",
              "mo_sin_rcnt_tl                     27741\n",
              "num_actv_bc_tl                     27741\n",
              "num_actv_rev_tl                    27741\n",
              "total_il_high_credit_limit         27741\n",
              "num_bc_tl                          27741\n",
              "num_il_tl                          27741\n",
              "num_op_rev_tl                      27741\n",
              "num_rev_accts                      27741\n",
              "num_rev_tl_bal_gt_0                27741\n",
              "num_tl_op_past_12m                 27741\n",
              "tot_hi_cred_lim                    27741\n",
              "num_sats                           16055\n",
              "num_bc_sats                        16055\n",
              "bc_util                             9112\n",
              "percent_bc_gt_75                    9028\n",
              "bc_open_to_buy                      9025\n",
              "mths_since_recent_bc                8828\n",
              "emp_length                          7887\n",
              "acc_open_past_24mths                7495\n",
              "total_bal_ex_mort                   7495\n",
              "total_bc_limit                      7495\n",
              "mort_acc                            7495\n",
              "revol_util                           125\n",
              "last_pymnt_amnt                        0\n",
              "pub_rec_bankruptcies                   0\n",
              "funded_amnt                            0\n",
              "funded_amnt_inv                        0\n",
              "int_rate                               0\n",
              "installment                            0\n",
              "grade                                  0\n",
              "sub_grade                              0\n",
              "home_ownership                         0\n",
              "annual_inc                             0\n",
              "loan_status                            0\n",
              "tax_liens                              0\n",
              "inq_last_6mths                         0\n",
              "addr_state                             0\n",
              "collection_recovery_fee                0\n",
              "open_acc                               0\n",
              "pub_rec                                0\n",
              "revol_bal                              0\n",
              "total_acc                              0\n",
              "total_pymnt                            0\n",
              "total_pymnt_inv                        0\n",
              "total_rec_prncp                        0\n",
              "total_rec_int                          0\n",
              "recoveries                             0\n",
              "loan_amnt                              0\n",
              "dtype: int64"
            ]
          },
          "metadata": {
            "tags": []
          },
          "execution_count": 169
        }
      ]
    },
    {
      "cell_type": "code",
      "metadata": {
        "id": "tu6QQwigyt_q"
      },
      "source": [
        "features = ['funded_amnt','emp_length','annual_inc','home_ownership','grade',\n",
        "            \"last_pymnt_amnt\", \"mort_acc\", \"pub_rec\", \"int_rate\", \"open_acc\",\"num_actv_rev_tl\",\n",
        "            \"mo_sin_rcnt_rev_tl_op\",\"mo_sin_old_rev_tl_op\",\"bc_util\",\"bc_open_to_buy\",\n",
        "            \"avg_cur_bal\",\"acc_open_past_24mths\",'loan_status'] #'sub_grade' #selecting final features #'addr_state''tax_liens',\n",
        "Final_data = dataset[features]"
      ],
      "execution_count": 170,
      "outputs": []
    },
    {
      "cell_type": "code",
      "metadata": {
        "id": "0bmCaF14y65r",
        "outputId": "1df6ffce-863a-42cd-f3f7-5505a1ad60f7",
        "colab": {
          "base_uri": "https://localhost:8080/",
          "height": 223
        }
      },
      "source": [
        "Final_data.head()"
      ],
      "execution_count": 171,
      "outputs": [
        {
          "output_type": "execute_result",
          "data": {
            "text/html": [
              "<div>\n",
              "<style scoped>\n",
              "    .dataframe tbody tr th:only-of-type {\n",
              "        vertical-align: middle;\n",
              "    }\n",
              "\n",
              "    .dataframe tbody tr th {\n",
              "        vertical-align: top;\n",
              "    }\n",
              "\n",
              "    .dataframe thead th {\n",
              "        text-align: right;\n",
              "    }\n",
              "</style>\n",
              "<table border=\"1\" class=\"dataframe\">\n",
              "  <thead>\n",
              "    <tr style=\"text-align: right;\">\n",
              "      <th></th>\n",
              "      <th>funded_amnt</th>\n",
              "      <th>emp_length</th>\n",
              "      <th>annual_inc</th>\n",
              "      <th>home_ownership</th>\n",
              "      <th>grade</th>\n",
              "      <th>last_pymnt_amnt</th>\n",
              "      <th>mort_acc</th>\n",
              "      <th>pub_rec</th>\n",
              "      <th>int_rate</th>\n",
              "      <th>open_acc</th>\n",
              "      <th>num_actv_rev_tl</th>\n",
              "      <th>mo_sin_rcnt_rev_tl_op</th>\n",
              "      <th>mo_sin_old_rev_tl_op</th>\n",
              "      <th>bc_util</th>\n",
              "      <th>bc_open_to_buy</th>\n",
              "      <th>avg_cur_bal</th>\n",
              "      <th>acc_open_past_24mths</th>\n",
              "      <th>loan_status</th>\n",
              "    </tr>\n",
              "  </thead>\n",
              "  <tbody>\n",
              "    <tr>\n",
              "      <th>0</th>\n",
              "      <td>12000.0</td>\n",
              "      <td>3 years</td>\n",
              "      <td>96500.0</td>\n",
              "      <td>MORTGAGE</td>\n",
              "      <td>A</td>\n",
              "      <td>2927.22</td>\n",
              "      <td>1.0</td>\n",
              "      <td>0.0</td>\n",
              "      <td>7.62%</td>\n",
              "      <td>17.0</td>\n",
              "      <td>5.0</td>\n",
              "      <td>10.0</td>\n",
              "      <td>118.0</td>\n",
              "      <td>83.5</td>\n",
              "      <td>2441.0</td>\n",
              "      <td>11783.0</td>\n",
              "      <td>4.0</td>\n",
              "      <td>Fully Paid</td>\n",
              "    </tr>\n",
              "    <tr>\n",
              "      <th>1</th>\n",
              "      <td>27050.0</td>\n",
              "      <td>10+ years</td>\n",
              "      <td>55000.0</td>\n",
              "      <td>OWN</td>\n",
              "      <td>B</td>\n",
              "      <td>6074.19</td>\n",
              "      <td>4.0</td>\n",
              "      <td>0.0</td>\n",
              "      <td>10.99%</td>\n",
              "      <td>14.0</td>\n",
              "      <td>4.0</td>\n",
              "      <td>16.0</td>\n",
              "      <td>326.0</td>\n",
              "      <td>53.9</td>\n",
              "      <td>16473.0</td>\n",
              "      <td>9570.0</td>\n",
              "      <td>3.0</td>\n",
              "      <td>Fully Paid</td>\n",
              "    </tr>\n",
              "    <tr>\n",
              "      <th>2</th>\n",
              "      <td>12000.0</td>\n",
              "      <td>10+ years</td>\n",
              "      <td>130000.0</td>\n",
              "      <td>MORTGAGE</td>\n",
              "      <td>B</td>\n",
              "      <td>398.28</td>\n",
              "      <td>3.0</td>\n",
              "      <td>0.0</td>\n",
              "      <td>11.99%</td>\n",
              "      <td>9.0</td>\n",
              "      <td>5.0</td>\n",
              "      <td>4.0</td>\n",
              "      <td>193.0</td>\n",
              "      <td>93.0</td>\n",
              "      <td>3567.0</td>\n",
              "      <td>36362.0</td>\n",
              "      <td>4.0</td>\n",
              "      <td>Fully Paid</td>\n",
              "    </tr>\n",
              "    <tr>\n",
              "      <th>3</th>\n",
              "      <td>28000.0</td>\n",
              "      <td>5 years</td>\n",
              "      <td>325000.0</td>\n",
              "      <td>MORTGAGE</td>\n",
              "      <td>A</td>\n",
              "      <td>23915.86</td>\n",
              "      <td>5.0</td>\n",
              "      <td>0.0</td>\n",
              "      <td>7.62%</td>\n",
              "      <td>15.0</td>\n",
              "      <td>5.0</td>\n",
              "      <td>5.0</td>\n",
              "      <td>229.0</td>\n",
              "      <td>67.1</td>\n",
              "      <td>13901.0</td>\n",
              "      <td>53306.0</td>\n",
              "      <td>6.0</td>\n",
              "      <td>Fully Paid</td>\n",
              "    </tr>\n",
              "    <tr>\n",
              "      <th>4</th>\n",
              "      <td>12000.0</td>\n",
              "      <td>4 years</td>\n",
              "      <td>60000.0</td>\n",
              "      <td>RENT</td>\n",
              "      <td>B</td>\n",
              "      <td>3775.55</td>\n",
              "      <td>0.0</td>\n",
              "      <td>0.0</td>\n",
              "      <td>10.99%</td>\n",
              "      <td>15.0</td>\n",
              "      <td>7.0</td>\n",
              "      <td>1.0</td>\n",
              "      <td>48.0</td>\n",
              "      <td>15.9</td>\n",
              "      <td>15216.0</td>\n",
              "      <td>476.0</td>\n",
              "      <td>8.0</td>\n",
              "      <td>Fully Paid</td>\n",
              "    </tr>\n",
              "  </tbody>\n",
              "</table>\n",
              "</div>"
            ],
            "text/plain": [
              "   funded_amnt emp_length  ...  acc_open_past_24mths loan_status\n",
              "0      12000.0    3 years  ...                   4.0  Fully Paid\n",
              "1      27050.0  10+ years  ...                   3.0  Fully Paid\n",
              "2      12000.0  10+ years  ...                   4.0  Fully Paid\n",
              "3      28000.0    5 years  ...                   6.0  Fully Paid\n",
              "4      12000.0    4 years  ...                   8.0  Fully Paid\n",
              "\n",
              "[5 rows x 18 columns]"
            ]
          },
          "metadata": {
            "tags": []
          },
          "execution_count": 171
        }
      ]
    },
    {
      "cell_type": "code",
      "metadata": {
        "id": "qsg4OfeCy80b",
        "outputId": "733a27ab-e07f-4304-9606-420504e00e2b",
        "colab": {
          "base_uri": "https://localhost:8080/"
        }
      },
      "source": [
        "Final_data.isna().sum()"
      ],
      "execution_count": 172,
      "outputs": [
        {
          "output_type": "execute_result",
          "data": {
            "text/plain": [
              "funded_amnt                  0\n",
              "emp_length                7887\n",
              "annual_inc                   0\n",
              "home_ownership               0\n",
              "grade                        0\n",
              "last_pymnt_amnt              0\n",
              "mort_acc                  7495\n",
              "pub_rec                      0\n",
              "int_rate                     0\n",
              "open_acc                     0\n",
              "num_actv_rev_tl          27741\n",
              "mo_sin_rcnt_rev_tl_op    27742\n",
              "mo_sin_old_rev_tl_op     27742\n",
              "bc_util                   9112\n",
              "bc_open_to_buy            9025\n",
              "avg_cur_bal              27747\n",
              "acc_open_past_24mths      7495\n",
              "loan_status                  0\n",
              "dtype: int64"
            ]
          },
          "metadata": {
            "tags": []
          },
          "execution_count": 172
        }
      ]
    },
    {
      "cell_type": "code",
      "metadata": {
        "id": "H0gWIN2dzATd",
        "outputId": "956d6d55-aa78-4b5d-844c-e0aaccd5d7e8",
        "colab": {
          "base_uri": "https://localhost:8080/"
        }
      },
      "source": [
        "Final_data.info()"
      ],
      "execution_count": 173,
      "outputs": [
        {
          "output_type": "stream",
          "text": [
            "<class 'pandas.core.frame.DataFrame'>\n",
            "Int64Index: 188171 entries, 0 to 188180\n",
            "Data columns (total 18 columns):\n",
            " #   Column                 Non-Null Count   Dtype  \n",
            "---  ------                 --------------   -----  \n",
            " 0   funded_amnt            188171 non-null  float64\n",
            " 1   emp_length             180284 non-null  object \n",
            " 2   annual_inc             188171 non-null  float64\n",
            " 3   home_ownership         188171 non-null  object \n",
            " 4   grade                  188171 non-null  object \n",
            " 5   last_pymnt_amnt        188171 non-null  float64\n",
            " 6   mort_acc               180676 non-null  float64\n",
            " 7   pub_rec                188171 non-null  float64\n",
            " 8   int_rate               188171 non-null  object \n",
            " 9   open_acc               188171 non-null  float64\n",
            " 10  num_actv_rev_tl        160430 non-null  float64\n",
            " 11  mo_sin_rcnt_rev_tl_op  160429 non-null  float64\n",
            " 12  mo_sin_old_rev_tl_op   160429 non-null  float64\n",
            " 13  bc_util                179059 non-null  float64\n",
            " 14  bc_open_to_buy         179146 non-null  float64\n",
            " 15  avg_cur_bal            160424 non-null  float64\n",
            " 16  acc_open_past_24mths   180676 non-null  float64\n",
            " 17  loan_status            188171 non-null  object \n",
            "dtypes: float64(13), object(5)\n",
            "memory usage: 27.3+ MB\n"
          ],
          "name": "stdout"
        }
      ]
    },
    {
      "cell_type": "code",
      "metadata": {
        "id": "wN6R0lMTzJM9",
        "outputId": "daf93782-8919-471f-fb36-91dc96bde109",
        "colab": {
          "base_uri": "https://localhost:8080/",
          "height": 203
        }
      },
      "source": [
        "Final_data.select_dtypes('object').head()"
      ],
      "execution_count": 174,
      "outputs": [
        {
          "output_type": "execute_result",
          "data": {
            "text/html": [
              "<div>\n",
              "<style scoped>\n",
              "    .dataframe tbody tr th:only-of-type {\n",
              "        vertical-align: middle;\n",
              "    }\n",
              "\n",
              "    .dataframe tbody tr th {\n",
              "        vertical-align: top;\n",
              "    }\n",
              "\n",
              "    .dataframe thead th {\n",
              "        text-align: right;\n",
              "    }\n",
              "</style>\n",
              "<table border=\"1\" class=\"dataframe\">\n",
              "  <thead>\n",
              "    <tr style=\"text-align: right;\">\n",
              "      <th></th>\n",
              "      <th>emp_length</th>\n",
              "      <th>home_ownership</th>\n",
              "      <th>grade</th>\n",
              "      <th>int_rate</th>\n",
              "      <th>loan_status</th>\n",
              "    </tr>\n",
              "  </thead>\n",
              "  <tbody>\n",
              "    <tr>\n",
              "      <th>0</th>\n",
              "      <td>3 years</td>\n",
              "      <td>MORTGAGE</td>\n",
              "      <td>A</td>\n",
              "      <td>7.62%</td>\n",
              "      <td>Fully Paid</td>\n",
              "    </tr>\n",
              "    <tr>\n",
              "      <th>1</th>\n",
              "      <td>10+ years</td>\n",
              "      <td>OWN</td>\n",
              "      <td>B</td>\n",
              "      <td>10.99%</td>\n",
              "      <td>Fully Paid</td>\n",
              "    </tr>\n",
              "    <tr>\n",
              "      <th>2</th>\n",
              "      <td>10+ years</td>\n",
              "      <td>MORTGAGE</td>\n",
              "      <td>B</td>\n",
              "      <td>11.99%</td>\n",
              "      <td>Fully Paid</td>\n",
              "    </tr>\n",
              "    <tr>\n",
              "      <th>3</th>\n",
              "      <td>5 years</td>\n",
              "      <td>MORTGAGE</td>\n",
              "      <td>A</td>\n",
              "      <td>7.62%</td>\n",
              "      <td>Fully Paid</td>\n",
              "    </tr>\n",
              "    <tr>\n",
              "      <th>4</th>\n",
              "      <td>4 years</td>\n",
              "      <td>RENT</td>\n",
              "      <td>B</td>\n",
              "      <td>10.99%</td>\n",
              "      <td>Fully Paid</td>\n",
              "    </tr>\n",
              "  </tbody>\n",
              "</table>\n",
              "</div>"
            ],
            "text/plain": [
              "  emp_length home_ownership grade int_rate loan_status\n",
              "0    3 years       MORTGAGE     A    7.62%  Fully Paid\n",
              "1  10+ years            OWN     B   10.99%  Fully Paid\n",
              "2  10+ years       MORTGAGE     B   11.99%  Fully Paid\n",
              "3    5 years       MORTGAGE     A    7.62%  Fully Paid\n",
              "4    4 years           RENT     B   10.99%  Fully Paid"
            ]
          },
          "metadata": {
            "tags": []
          },
          "execution_count": 174
        }
      ]
    },
    {
      "cell_type": "code",
      "metadata": {
        "id": "urMu3LchzOcP",
        "outputId": "1100c206-caac-42f7-e18f-653a176da8e9",
        "colab": {
          "base_uri": "https://localhost:8080/"
        }
      },
      "source": [
        "Final_data[\"loan_status\"] = Final_data[\"loan_status\"].replace({\"Fully Paid\":0, \"Charged Off\":1}  )\n",
        "Final_data[\"loan_status\"] = Final_data[\"loan_status\"].astype(int)"
      ],
      "execution_count": 175,
      "outputs": [
        {
          "output_type": "stream",
          "text": [
            "/usr/local/lib/python3.6/dist-packages/ipykernel_launcher.py:1: SettingWithCopyWarning: \n",
            "A value is trying to be set on a copy of a slice from a DataFrame.\n",
            "Try using .loc[row_indexer,col_indexer] = value instead\n",
            "\n",
            "See the caveats in the documentation: https://pandas.pydata.org/pandas-docs/stable/user_guide/indexing.html#returning-a-view-versus-a-copy\n",
            "  \"\"\"Entry point for launching an IPython kernel.\n",
            "/usr/local/lib/python3.6/dist-packages/ipykernel_launcher.py:2: SettingWithCopyWarning: \n",
            "A value is trying to be set on a copy of a slice from a DataFrame.\n",
            "Try using .loc[row_indexer,col_indexer] = value instead\n",
            "\n",
            "See the caveats in the documentation: https://pandas.pydata.org/pandas-docs/stable/user_guide/indexing.html#returning-a-view-versus-a-copy\n",
            "  \n"
          ],
          "name": "stderr"
        }
      ]
    },
    {
      "cell_type": "code",
      "metadata": {
        "id": "jhmQlBFczivA",
        "outputId": "3bcbfefd-7034-4544-b189-bb194005d08b",
        "colab": {
          "base_uri": "https://localhost:8080/"
        }
      },
      "source": [
        "Final_data.info()"
      ],
      "execution_count": 176,
      "outputs": [
        {
          "output_type": "stream",
          "text": [
            "<class 'pandas.core.frame.DataFrame'>\n",
            "Int64Index: 188171 entries, 0 to 188180\n",
            "Data columns (total 18 columns):\n",
            " #   Column                 Non-Null Count   Dtype  \n",
            "---  ------                 --------------   -----  \n",
            " 0   funded_amnt            188171 non-null  float64\n",
            " 1   emp_length             180284 non-null  object \n",
            " 2   annual_inc             188171 non-null  float64\n",
            " 3   home_ownership         188171 non-null  object \n",
            " 4   grade                  188171 non-null  object \n",
            " 5   last_pymnt_amnt        188171 non-null  float64\n",
            " 6   mort_acc               180676 non-null  float64\n",
            " 7   pub_rec                188171 non-null  float64\n",
            " 8   int_rate               188171 non-null  object \n",
            " 9   open_acc               188171 non-null  float64\n",
            " 10  num_actv_rev_tl        160430 non-null  float64\n",
            " 11  mo_sin_rcnt_rev_tl_op  160429 non-null  float64\n",
            " 12  mo_sin_old_rev_tl_op   160429 non-null  float64\n",
            " 13  bc_util                179059 non-null  float64\n",
            " 14  bc_open_to_buy         179146 non-null  float64\n",
            " 15  avg_cur_bal            160424 non-null  float64\n",
            " 16  acc_open_past_24mths   180676 non-null  float64\n",
            " 17  loan_status            188171 non-null  int64  \n",
            "dtypes: float64(13), int64(1), object(4)\n",
            "memory usage: 27.3+ MB\n"
          ],
          "name": "stdout"
        }
      ]
    },
    {
      "cell_type": "code",
      "metadata": {
        "id": "pFiWhH65zbXf",
        "outputId": "30c6199e-8c57-4a02-c61d-b75b62003514",
        "colab": {
          "base_uri": "https://localhost:8080/",
          "height": 203
        }
      },
      "source": [
        "Final_data.select_dtypes('object').head()"
      ],
      "execution_count": 177,
      "outputs": [
        {
          "output_type": "execute_result",
          "data": {
            "text/html": [
              "<div>\n",
              "<style scoped>\n",
              "    .dataframe tbody tr th:only-of-type {\n",
              "        vertical-align: middle;\n",
              "    }\n",
              "\n",
              "    .dataframe tbody tr th {\n",
              "        vertical-align: top;\n",
              "    }\n",
              "\n",
              "    .dataframe thead th {\n",
              "        text-align: right;\n",
              "    }\n",
              "</style>\n",
              "<table border=\"1\" class=\"dataframe\">\n",
              "  <thead>\n",
              "    <tr style=\"text-align: right;\">\n",
              "      <th></th>\n",
              "      <th>emp_length</th>\n",
              "      <th>home_ownership</th>\n",
              "      <th>grade</th>\n",
              "      <th>int_rate</th>\n",
              "    </tr>\n",
              "  </thead>\n",
              "  <tbody>\n",
              "    <tr>\n",
              "      <th>0</th>\n",
              "      <td>3 years</td>\n",
              "      <td>MORTGAGE</td>\n",
              "      <td>A</td>\n",
              "      <td>7.62%</td>\n",
              "    </tr>\n",
              "    <tr>\n",
              "      <th>1</th>\n",
              "      <td>10+ years</td>\n",
              "      <td>OWN</td>\n",
              "      <td>B</td>\n",
              "      <td>10.99%</td>\n",
              "    </tr>\n",
              "    <tr>\n",
              "      <th>2</th>\n",
              "      <td>10+ years</td>\n",
              "      <td>MORTGAGE</td>\n",
              "      <td>B</td>\n",
              "      <td>11.99%</td>\n",
              "    </tr>\n",
              "    <tr>\n",
              "      <th>3</th>\n",
              "      <td>5 years</td>\n",
              "      <td>MORTGAGE</td>\n",
              "      <td>A</td>\n",
              "      <td>7.62%</td>\n",
              "    </tr>\n",
              "    <tr>\n",
              "      <th>4</th>\n",
              "      <td>4 years</td>\n",
              "      <td>RENT</td>\n",
              "      <td>B</td>\n",
              "      <td>10.99%</td>\n",
              "    </tr>\n",
              "  </tbody>\n",
              "</table>\n",
              "</div>"
            ],
            "text/plain": [
              "  emp_length home_ownership grade int_rate\n",
              "0    3 years       MORTGAGE     A    7.62%\n",
              "1  10+ years            OWN     B   10.99%\n",
              "2  10+ years       MORTGAGE     B   11.99%\n",
              "3    5 years       MORTGAGE     A    7.62%\n",
              "4    4 years           RENT     B   10.99%"
            ]
          },
          "metadata": {
            "tags": []
          },
          "execution_count": 177
        }
      ]
    },
    {
      "cell_type": "code",
      "metadata": {
        "id": "NM3XCxL1z89Q",
        "outputId": "9abc2d67-10ab-497d-c197-89a590ad5817",
        "colab": {
          "base_uri": "https://localhost:8080/"
        }
      },
      "source": [
        "Final_data[\"int_rate\"] = Final_data[\"int_rate\"].map(lambda e: float(e.replace('%','')) )"
      ],
      "execution_count": 178,
      "outputs": [
        {
          "output_type": "stream",
          "text": [
            "/usr/local/lib/python3.6/dist-packages/ipykernel_launcher.py:1: SettingWithCopyWarning: \n",
            "A value is trying to be set on a copy of a slice from a DataFrame.\n",
            "Try using .loc[row_indexer,col_indexer] = value instead\n",
            "\n",
            "See the caveats in the documentation: https://pandas.pydata.org/pandas-docs/stable/user_guide/indexing.html#returning-a-view-versus-a-copy\n",
            "  \"\"\"Entry point for launching an IPython kernel.\n"
          ],
          "name": "stderr"
        }
      ]
    },
    {
      "cell_type": "code",
      "metadata": {
        "id": "RaMyyM7q0Hxh",
        "outputId": "de5aa536-9f48-4708-e453-da8d6dc3b92f",
        "colab": {
          "base_uri": "https://localhost:8080/"
        }
      },
      "source": [
        "Final_data[\"emp_length\"] = Final_data[\"emp_length\"].fillna('0')\n",
        "Final_data[\"emp_length\"] = Final_data[\"emp_length\"].replace({'years':'','year':'',' ':'','<':'','\\+':'','n/a':'0'}, regex = True)\n",
        "Final_data[\"emp_length\"] = Final_data[\"emp_length\"].map(lambda x:int(x))"
      ],
      "execution_count": 179,
      "outputs": [
        {
          "output_type": "stream",
          "text": [
            "/usr/local/lib/python3.6/dist-packages/ipykernel_launcher.py:1: SettingWithCopyWarning: \n",
            "A value is trying to be set on a copy of a slice from a DataFrame.\n",
            "Try using .loc[row_indexer,col_indexer] = value instead\n",
            "\n",
            "See the caveats in the documentation: https://pandas.pydata.org/pandas-docs/stable/user_guide/indexing.html#returning-a-view-versus-a-copy\n",
            "  \"\"\"Entry point for launching an IPython kernel.\n",
            "/usr/local/lib/python3.6/dist-packages/ipykernel_launcher.py:2: SettingWithCopyWarning: \n",
            "A value is trying to be set on a copy of a slice from a DataFrame.\n",
            "Try using .loc[row_indexer,col_indexer] = value instead\n",
            "\n",
            "See the caveats in the documentation: https://pandas.pydata.org/pandas-docs/stable/user_guide/indexing.html#returning-a-view-versus-a-copy\n",
            "  \n",
            "/usr/local/lib/python3.6/dist-packages/ipykernel_launcher.py:3: SettingWithCopyWarning: \n",
            "A value is trying to be set on a copy of a slice from a DataFrame.\n",
            "Try using .loc[row_indexer,col_indexer] = value instead\n",
            "\n",
            "See the caveats in the documentation: https://pandas.pydata.org/pandas-docs/stable/user_guide/indexing.html#returning-a-view-versus-a-copy\n",
            "  This is separate from the ipykernel package so we can avoid doing imports until\n"
          ],
          "name": "stderr"
        }
      ]
    },
    {
      "cell_type": "code",
      "metadata": {
        "id": "e-YOiiDw0TgE",
        "outputId": "dc82a277-8977-4e40-f34d-215f3e647c3f",
        "colab": {
          "base_uri": "https://localhost:8080/",
          "height": 203
        }
      },
      "source": [
        "Final_data.select_dtypes('object').head()"
      ],
      "execution_count": 180,
      "outputs": [
        {
          "output_type": "execute_result",
          "data": {
            "text/html": [
              "<div>\n",
              "<style scoped>\n",
              "    .dataframe tbody tr th:only-of-type {\n",
              "        vertical-align: middle;\n",
              "    }\n",
              "\n",
              "    .dataframe tbody tr th {\n",
              "        vertical-align: top;\n",
              "    }\n",
              "\n",
              "    .dataframe thead th {\n",
              "        text-align: right;\n",
              "    }\n",
              "</style>\n",
              "<table border=\"1\" class=\"dataframe\">\n",
              "  <thead>\n",
              "    <tr style=\"text-align: right;\">\n",
              "      <th></th>\n",
              "      <th>home_ownership</th>\n",
              "      <th>grade</th>\n",
              "    </tr>\n",
              "  </thead>\n",
              "  <tbody>\n",
              "    <tr>\n",
              "      <th>0</th>\n",
              "      <td>MORTGAGE</td>\n",
              "      <td>A</td>\n",
              "    </tr>\n",
              "    <tr>\n",
              "      <th>1</th>\n",
              "      <td>OWN</td>\n",
              "      <td>B</td>\n",
              "    </tr>\n",
              "    <tr>\n",
              "      <th>2</th>\n",
              "      <td>MORTGAGE</td>\n",
              "      <td>B</td>\n",
              "    </tr>\n",
              "    <tr>\n",
              "      <th>3</th>\n",
              "      <td>MORTGAGE</td>\n",
              "      <td>A</td>\n",
              "    </tr>\n",
              "    <tr>\n",
              "      <th>4</th>\n",
              "      <td>RENT</td>\n",
              "      <td>B</td>\n",
              "    </tr>\n",
              "  </tbody>\n",
              "</table>\n",
              "</div>"
            ],
            "text/plain": [
              "  home_ownership grade\n",
              "0       MORTGAGE     A\n",
              "1            OWN     B\n",
              "2       MORTGAGE     B\n",
              "3       MORTGAGE     A\n",
              "4           RENT     B"
            ]
          },
          "metadata": {
            "tags": []
          },
          "execution_count": 180
        }
      ]
    },
    {
      "cell_type": "code",
      "metadata": {
        "id": "8GxvmfdD0Vwh",
        "outputId": "2aa8123b-a2da-4653-cba0-4885eee70efa",
        "colab": {
          "base_uri": "https://localhost:8080/"
        }
      },
      "source": [
        "Final_data['grade'] = Final_data['grade'].map({'A':7,'B':6,'C':5,'D':4,'E':3,'F':2,'G':1})"
      ],
      "execution_count": 181,
      "outputs": [
        {
          "output_type": "stream",
          "text": [
            "/usr/local/lib/python3.6/dist-packages/ipykernel_launcher.py:1: SettingWithCopyWarning: \n",
            "A value is trying to be set on a copy of a slice from a DataFrame.\n",
            "Try using .loc[row_indexer,col_indexer] = value instead\n",
            "\n",
            "See the caveats in the documentation: https://pandas.pydata.org/pandas-docs/stable/user_guide/indexing.html#returning-a-view-versus-a-copy\n",
            "  \"\"\"Entry point for launching an IPython kernel.\n"
          ],
          "name": "stderr"
        }
      ]
    },
    {
      "cell_type": "code",
      "metadata": {
        "id": "Nmjn0ttW0bVy",
        "outputId": "31f65216-b0d9-4126-f628-035dc4e4d737",
        "colab": {
          "base_uri": "https://localhost:8080/"
        }
      },
      "source": [
        "Final_data[\"home_ownership\"] =  Final_data[\"home_ownership\"].map({\"MORTGAGE\":6,\"RENT\":5,\"OWN\":4,\"OTHER\":3,\"NONE\":2,\"ANY\":1})"
      ],
      "execution_count": 182,
      "outputs": [
        {
          "output_type": "stream",
          "text": [
            "/usr/local/lib/python3.6/dist-packages/ipykernel_launcher.py:1: SettingWithCopyWarning: \n",
            "A value is trying to be set on a copy of a slice from a DataFrame.\n",
            "Try using .loc[row_indexer,col_indexer] = value instead\n",
            "\n",
            "See the caveats in the documentation: https://pandas.pydata.org/pandas-docs/stable/user_guide/indexing.html#returning-a-view-versus-a-copy\n",
            "  \"\"\"Entry point for launching an IPython kernel.\n"
          ],
          "name": "stderr"
        }
      ]
    },
    {
      "cell_type": "code",
      "metadata": {
        "id": "_5PgybxV0c9C",
        "outputId": "f1185839-deca-4b53-e1d2-2da088b5c8d7",
        "colab": {
          "base_uri": "https://localhost:8080/",
          "height": 161
        }
      },
      "source": [
        "Final_data.head(3)"
      ],
      "execution_count": 184,
      "outputs": [
        {
          "output_type": "execute_result",
          "data": {
            "text/html": [
              "<div>\n",
              "<style scoped>\n",
              "    .dataframe tbody tr th:only-of-type {\n",
              "        vertical-align: middle;\n",
              "    }\n",
              "\n",
              "    .dataframe tbody tr th {\n",
              "        vertical-align: top;\n",
              "    }\n",
              "\n",
              "    .dataframe thead th {\n",
              "        text-align: right;\n",
              "    }\n",
              "</style>\n",
              "<table border=\"1\" class=\"dataframe\">\n",
              "  <thead>\n",
              "    <tr style=\"text-align: right;\">\n",
              "      <th></th>\n",
              "      <th>funded_amnt</th>\n",
              "      <th>emp_length</th>\n",
              "      <th>annual_inc</th>\n",
              "      <th>home_ownership</th>\n",
              "      <th>grade</th>\n",
              "      <th>last_pymnt_amnt</th>\n",
              "      <th>mort_acc</th>\n",
              "      <th>pub_rec</th>\n",
              "      <th>int_rate</th>\n",
              "      <th>open_acc</th>\n",
              "      <th>num_actv_rev_tl</th>\n",
              "      <th>mo_sin_rcnt_rev_tl_op</th>\n",
              "      <th>mo_sin_old_rev_tl_op</th>\n",
              "      <th>bc_util</th>\n",
              "      <th>bc_open_to_buy</th>\n",
              "      <th>avg_cur_bal</th>\n",
              "      <th>acc_open_past_24mths</th>\n",
              "      <th>loan_status</th>\n",
              "    </tr>\n",
              "  </thead>\n",
              "  <tbody>\n",
              "    <tr>\n",
              "      <th>0</th>\n",
              "      <td>12000.0</td>\n",
              "      <td>3</td>\n",
              "      <td>96500.0</td>\n",
              "      <td>6</td>\n",
              "      <td>7</td>\n",
              "      <td>2927.22</td>\n",
              "      <td>1.0</td>\n",
              "      <td>0.0</td>\n",
              "      <td>7.62</td>\n",
              "      <td>17.0</td>\n",
              "      <td>5.0</td>\n",
              "      <td>10.0</td>\n",
              "      <td>118.0</td>\n",
              "      <td>83.5</td>\n",
              "      <td>2441.0</td>\n",
              "      <td>11783.0</td>\n",
              "      <td>4.0</td>\n",
              "      <td>0</td>\n",
              "    </tr>\n",
              "    <tr>\n",
              "      <th>1</th>\n",
              "      <td>27050.0</td>\n",
              "      <td>10</td>\n",
              "      <td>55000.0</td>\n",
              "      <td>4</td>\n",
              "      <td>6</td>\n",
              "      <td>6074.19</td>\n",
              "      <td>4.0</td>\n",
              "      <td>0.0</td>\n",
              "      <td>10.99</td>\n",
              "      <td>14.0</td>\n",
              "      <td>4.0</td>\n",
              "      <td>16.0</td>\n",
              "      <td>326.0</td>\n",
              "      <td>53.9</td>\n",
              "      <td>16473.0</td>\n",
              "      <td>9570.0</td>\n",
              "      <td>3.0</td>\n",
              "      <td>0</td>\n",
              "    </tr>\n",
              "    <tr>\n",
              "      <th>2</th>\n",
              "      <td>12000.0</td>\n",
              "      <td>10</td>\n",
              "      <td>130000.0</td>\n",
              "      <td>6</td>\n",
              "      <td>6</td>\n",
              "      <td>398.28</td>\n",
              "      <td>3.0</td>\n",
              "      <td>0.0</td>\n",
              "      <td>11.99</td>\n",
              "      <td>9.0</td>\n",
              "      <td>5.0</td>\n",
              "      <td>4.0</td>\n",
              "      <td>193.0</td>\n",
              "      <td>93.0</td>\n",
              "      <td>3567.0</td>\n",
              "      <td>36362.0</td>\n",
              "      <td>4.0</td>\n",
              "      <td>0</td>\n",
              "    </tr>\n",
              "  </tbody>\n",
              "</table>\n",
              "</div>"
            ],
            "text/plain": [
              "   funded_amnt  emp_length  ...  acc_open_past_24mths  loan_status\n",
              "0      12000.0           3  ...                   4.0            0\n",
              "1      27050.0          10  ...                   3.0            0\n",
              "2      12000.0          10  ...                   4.0            0\n",
              "\n",
              "[3 rows x 18 columns]"
            ]
          },
          "metadata": {
            "tags": []
          },
          "execution_count": 184
        }
      ]
    },
    {
      "cell_type": "code",
      "metadata": {
        "id": "eW0Tv5zu0ghj",
        "outputId": "35ac46ec-e81f-4c42-af69-947df3bc17f9",
        "colab": {
          "base_uri": "https://localhost:8080/"
        }
      },
      "source": [
        "Final_data.isna().sum().sort_values(ascending = False)"
      ],
      "execution_count": 185,
      "outputs": [
        {
          "output_type": "execute_result",
          "data": {
            "text/plain": [
              "avg_cur_bal              27747\n",
              "mo_sin_old_rev_tl_op     27742\n",
              "mo_sin_rcnt_rev_tl_op    27742\n",
              "num_actv_rev_tl          27741\n",
              "bc_util                   9112\n",
              "bc_open_to_buy            9025\n",
              "acc_open_past_24mths      7495\n",
              "mort_acc                  7495\n",
              "loan_status                  0\n",
              "grade                        0\n",
              "emp_length                   0\n",
              "annual_inc                   0\n",
              "home_ownership               0\n",
              "int_rate                     0\n",
              "last_pymnt_amnt              0\n",
              "pub_rec                      0\n",
              "open_acc                     0\n",
              "funded_amnt                  0\n",
              "dtype: int64"
            ]
          },
          "metadata": {
            "tags": []
          },
          "execution_count": 185
        }
      ]
    },
    {
      "cell_type": "code",
      "metadata": {
        "id": "-nsJouvC0rLk",
        "outputId": "432bae9a-dab9-48ed-8111-e746a1f05e41",
        "colab": {
          "base_uri": "https://localhost:8080/"
        }
      },
      "source": [
        "Final_data.fillna(Final_data.mean(), inplace=True)"
      ],
      "execution_count": 186,
      "outputs": [
        {
          "output_type": "stream",
          "text": [
            "/usr/local/lib/python3.6/dist-packages/pandas/core/series.py:4535: SettingWithCopyWarning: \n",
            "A value is trying to be set on a copy of a slice from a DataFrame\n",
            "\n",
            "See the caveats in the documentation: https://pandas.pydata.org/pandas-docs/stable/user_guide/indexing.html#returning-a-view-versus-a-copy\n",
            "  downcast=downcast,\n"
          ],
          "name": "stderr"
        }
      ]
    },
    {
      "cell_type": "code",
      "metadata": {
        "id": "o2n1YwSd05Vz",
        "outputId": "63ae5d5f-f58d-49d8-ce39-f9675ee7cf9c",
        "colab": {
          "base_uri": "https://localhost:8080/"
        }
      },
      "source": [
        "Final_data.isna().sum().sort_values(ascending = False)"
      ],
      "execution_count": 187,
      "outputs": [
        {
          "output_type": "execute_result",
          "data": {
            "text/plain": [
              "loan_status              0\n",
              "acc_open_past_24mths     0\n",
              "emp_length               0\n",
              "annual_inc               0\n",
              "home_ownership           0\n",
              "grade                    0\n",
              "last_pymnt_amnt          0\n",
              "mort_acc                 0\n",
              "pub_rec                  0\n",
              "int_rate                 0\n",
              "open_acc                 0\n",
              "num_actv_rev_tl          0\n",
              "mo_sin_rcnt_rev_tl_op    0\n",
              "mo_sin_old_rev_tl_op     0\n",
              "bc_util                  0\n",
              "bc_open_to_buy           0\n",
              "avg_cur_bal              0\n",
              "funded_amnt              0\n",
              "dtype: int64"
            ]
          },
          "metadata": {
            "tags": []
          },
          "execution_count": 187
        }
      ]
    },
    {
      "cell_type": "markdown",
      "metadata": {
        "id": "HodsR7JC4SVW"
      },
      "source": [
        "### 資料重取樣(Bootstrap)"
      ]
    },
    {
      "cell_type": "code",
      "metadata": {
        "id": "6gQnSQ8q06rT",
        "outputId": "c78173a0-4501-403a-8a2e-88007c653f64",
        "colab": {
          "base_uri": "https://localhost:8080/"
        }
      },
      "source": [
        "Final_data['loan_status'].value_counts()"
      ],
      "execution_count": 188,
      "outputs": [
        {
          "output_type": "execute_result",
          "data": {
            "text/plain": [
              "0    158503\n",
              "1     29668\n",
              "Name: loan_status, dtype: int64"
            ]
          },
          "metadata": {
            "tags": []
          },
          "execution_count": 188
        }
      ]
    },
    {
      "cell_type": "code",
      "metadata": {
        "id": "QeLvGx7L4xWA"
      },
      "source": [
        "loanstatus_0 = Final_data[Final_data['loan_status'] ==0].sample(n=5500)\n",
        "loanstatus_1 = Final_data[Final_data['loan_status'] ==1].sample(n=5500)"
      ],
      "execution_count": 191,
      "outputs": []
    },
    {
      "cell_type": "code",
      "metadata": {
        "id": "A1yOd2cl5KNR"
      },
      "source": [
        "data_clean = pandas.concat([loanstatus_0,loanstatus_1])"
      ],
      "execution_count": 192,
      "outputs": []
    },
    {
      "cell_type": "code",
      "metadata": {
        "id": "LQIXlyRc5QWS",
        "outputId": "6c498ffc-d695-4025-a660-077edcd52697",
        "colab": {
          "base_uri": "https://localhost:8080/"
        }
      },
      "source": [
        "len(data_clean)"
      ],
      "execution_count": 193,
      "outputs": [
        {
          "output_type": "execute_result",
          "data": {
            "text/plain": [
              "11000"
            ]
          },
          "metadata": {
            "tags": []
          },
          "execution_count": 193
        }
      ]
    },
    {
      "cell_type": "code",
      "metadata": {
        "id": "CKQVkz035V4y"
      },
      "source": [
        "data_clean = data_clean.sample(frac=1).reset_index(drop=True)"
      ],
      "execution_count": 194,
      "outputs": []
    },
    {
      "cell_type": "code",
      "metadata": {
        "id": "XK-dLpbO5hNx",
        "outputId": "10d4f81a-4bed-48ac-db0f-2e99ac2ddff0",
        "colab": {
          "base_uri": "https://localhost:8080/",
          "height": 223
        }
      },
      "source": [
        "data_clean.head()"
      ],
      "execution_count": 195,
      "outputs": [
        {
          "output_type": "execute_result",
          "data": {
            "text/html": [
              "<div>\n",
              "<style scoped>\n",
              "    .dataframe tbody tr th:only-of-type {\n",
              "        vertical-align: middle;\n",
              "    }\n",
              "\n",
              "    .dataframe tbody tr th {\n",
              "        vertical-align: top;\n",
              "    }\n",
              "\n",
              "    .dataframe thead th {\n",
              "        text-align: right;\n",
              "    }\n",
              "</style>\n",
              "<table border=\"1\" class=\"dataframe\">\n",
              "  <thead>\n",
              "    <tr style=\"text-align: right;\">\n",
              "      <th></th>\n",
              "      <th>funded_amnt</th>\n",
              "      <th>emp_length</th>\n",
              "      <th>annual_inc</th>\n",
              "      <th>home_ownership</th>\n",
              "      <th>grade</th>\n",
              "      <th>last_pymnt_amnt</th>\n",
              "      <th>mort_acc</th>\n",
              "      <th>pub_rec</th>\n",
              "      <th>int_rate</th>\n",
              "      <th>open_acc</th>\n",
              "      <th>num_actv_rev_tl</th>\n",
              "      <th>mo_sin_rcnt_rev_tl_op</th>\n",
              "      <th>mo_sin_old_rev_tl_op</th>\n",
              "      <th>bc_util</th>\n",
              "      <th>bc_open_to_buy</th>\n",
              "      <th>avg_cur_bal</th>\n",
              "      <th>acc_open_past_24mths</th>\n",
              "      <th>loan_status</th>\n",
              "    </tr>\n",
              "  </thead>\n",
              "  <tbody>\n",
              "    <tr>\n",
              "      <th>0</th>\n",
              "      <td>20000.0</td>\n",
              "      <td>10</td>\n",
              "      <td>155000.0</td>\n",
              "      <td>6</td>\n",
              "      <td>3</td>\n",
              "      <td>557.74</td>\n",
              "      <td>4.0</td>\n",
              "      <td>0.0</td>\n",
              "      <td>22.47</td>\n",
              "      <td>22.0</td>\n",
              "      <td>13.0</td>\n",
              "      <td>4.0</td>\n",
              "      <td>327.0</td>\n",
              "      <td>94.9</td>\n",
              "      <td>735.0</td>\n",
              "      <td>22659.0</td>\n",
              "      <td>9.0</td>\n",
              "      <td>1</td>\n",
              "    </tr>\n",
              "    <tr>\n",
              "      <th>1</th>\n",
              "      <td>35000.0</td>\n",
              "      <td>10</td>\n",
              "      <td>130000.0</td>\n",
              "      <td>6</td>\n",
              "      <td>2</td>\n",
              "      <td>1129.48</td>\n",
              "      <td>6.0</td>\n",
              "      <td>0.0</td>\n",
              "      <td>24.50</td>\n",
              "      <td>7.0</td>\n",
              "      <td>6.0</td>\n",
              "      <td>2.0</td>\n",
              "      <td>141.0</td>\n",
              "      <td>90.5</td>\n",
              "      <td>2261.0</td>\n",
              "      <td>4707.0</td>\n",
              "      <td>1.0</td>\n",
              "      <td>1</td>\n",
              "    </tr>\n",
              "    <tr>\n",
              "      <th>2</th>\n",
              "      <td>16000.0</td>\n",
              "      <td>7</td>\n",
              "      <td>100000.0</td>\n",
              "      <td>6</td>\n",
              "      <td>4</td>\n",
              "      <td>590.72</td>\n",
              "      <td>2.0</td>\n",
              "      <td>0.0</td>\n",
              "      <td>19.52</td>\n",
              "      <td>11.0</td>\n",
              "      <td>4.0</td>\n",
              "      <td>3.0</td>\n",
              "      <td>182.0</td>\n",
              "      <td>71.8</td>\n",
              "      <td>2061.0</td>\n",
              "      <td>12989.0</td>\n",
              "      <td>9.0</td>\n",
              "      <td>1</td>\n",
              "    </tr>\n",
              "    <tr>\n",
              "      <th>3</th>\n",
              "      <td>12375.0</td>\n",
              "      <td>9</td>\n",
              "      <td>39500.0</td>\n",
              "      <td>5</td>\n",
              "      <td>4</td>\n",
              "      <td>450.44</td>\n",
              "      <td>2.0</td>\n",
              "      <td>0.0</td>\n",
              "      <td>18.49</td>\n",
              "      <td>7.0</td>\n",
              "      <td>3.0</td>\n",
              "      <td>8.0</td>\n",
              "      <td>166.0</td>\n",
              "      <td>101.8</td>\n",
              "      <td>0.0</td>\n",
              "      <td>7398.0</td>\n",
              "      <td>3.0</td>\n",
              "      <td>1</td>\n",
              "    </tr>\n",
              "    <tr>\n",
              "      <th>4</th>\n",
              "      <td>30225.0</td>\n",
              "      <td>2</td>\n",
              "      <td>67600.0</td>\n",
              "      <td>6</td>\n",
              "      <td>2</td>\n",
              "      <td>851.19</td>\n",
              "      <td>1.0</td>\n",
              "      <td>0.0</td>\n",
              "      <td>22.95</td>\n",
              "      <td>13.0</td>\n",
              "      <td>3.0</td>\n",
              "      <td>6.0</td>\n",
              "      <td>138.0</td>\n",
              "      <td>77.6</td>\n",
              "      <td>1454.0</td>\n",
              "      <td>16196.0</td>\n",
              "      <td>12.0</td>\n",
              "      <td>1</td>\n",
              "    </tr>\n",
              "  </tbody>\n",
              "</table>\n",
              "</div>"
            ],
            "text/plain": [
              "   funded_amnt  emp_length  ...  acc_open_past_24mths  loan_status\n",
              "0      20000.0          10  ...                   9.0            1\n",
              "1      35000.0          10  ...                   1.0            1\n",
              "2      16000.0           7  ...                   9.0            1\n",
              "3      12375.0           9  ...                   3.0            1\n",
              "4      30225.0           2  ...                  12.0            1\n",
              "\n",
              "[5 rows x 18 columns]"
            ]
          },
          "metadata": {
            "tags": []
          },
          "execution_count": 195
        }
      ]
    },
    {
      "cell_type": "code",
      "metadata": {
        "id": "HpzCBmFt5jfy",
        "outputId": "85d7967f-602d-468c-d872-879f8943e249",
        "colab": {
          "base_uri": "https://localhost:8080/"
        }
      },
      "source": [
        "data_clean['loan_status'].value_counts()"
      ],
      "execution_count": 196,
      "outputs": [
        {
          "output_type": "execute_result",
          "data": {
            "text/plain": [
              "1    5500\n",
              "0    5500\n",
              "Name: loan_status, dtype: int64"
            ]
          },
          "metadata": {
            "tags": []
          },
          "execution_count": 196
        }
      ]
    },
    {
      "cell_type": "markdown",
      "metadata": {
        "id": "i5AQg66G5-tW"
      },
      "source": [
        "### 將資料區分為 X 跟 Y"
      ]
    },
    {
      "cell_type": "code",
      "metadata": {
        "id": "G7N2cMF_6DZj"
      },
      "source": [
        "y = data_clean.iloc[:,-1]\n",
        "X = data_clean.iloc[:,:-1]"
      ],
      "execution_count": 197,
      "outputs": []
    },
    {
      "cell_type": "markdown",
      "metadata": {
        "id": "hSEQIEmE6QPy"
      },
      "source": [
        "### 將資料標準化"
      ]
    },
    {
      "cell_type": "code",
      "metadata": {
        "id": "wb2wpdB26PaU"
      },
      "source": [
        "from sklearn.preprocessing import StandardScaler\n",
        "sc = StandardScaler()\n",
        "X_scaled = sc.fit_transform(X)"
      ],
      "execution_count": 198,
      "outputs": []
    },
    {
      "cell_type": "markdown",
      "metadata": {
        "id": "WqQtds2W6c41"
      },
      "source": [
        "### 將資料區分為訓練與測試資料集"
      ]
    },
    {
      "cell_type": "code",
      "metadata": {
        "id": "Bj1NrxlC6bkt"
      },
      "source": [
        "from sklearn.model_selection import train_test_split\n",
        "X_train, X_test, y_train, y_test = train_test_split(X_scaled, y, test_size=0.2, random_state = 42)"
      ],
      "execution_count": 199,
      "outputs": []
    },
    {
      "cell_type": "markdown",
      "metadata": {
        "id": "ZI8XYg5v7L8u"
      },
      "source": [
        "### 特徵篩選"
      ]
    },
    {
      "cell_type": "code",
      "metadata": {
        "id": "5QLmk-Pe6KOU"
      },
      "source": [
        "from sklearn.feature_selection import RFE\n",
        "clf_LR = LogisticRegression(C=1e30)\n",
        "clf_LR.fit(X_train,y_train)\n",
        "rfe = RFE(clf_LR, 10)"
      ],
      "execution_count": 200,
      "outputs": []
    },
    {
      "cell_type": "code",
      "metadata": {
        "id": "kDLB4U3t7XZf",
        "outputId": "7a8b08d2-ecda-4ab3-8cfb-e0242301ca50",
        "colab": {
          "base_uri": "https://localhost:8080/"
        }
      },
      "source": [
        "rfe.fit(X_train, y_train)"
      ],
      "execution_count": 202,
      "outputs": [
        {
          "output_type": "execute_result",
          "data": {
            "text/plain": [
              "RFE(estimator=LogisticRegression(C=1e+30, class_weight=None, dual=False,\n",
              "                                 fit_intercept=True, intercept_scaling=1,\n",
              "                                 l1_ratio=None, max_iter=100,\n",
              "                                 multi_class='auto', n_jobs=None, penalty='l2',\n",
              "                                 random_state=None, solver='lbfgs', tol=0.0001,\n",
              "                                 verbose=0, warm_start=False),\n",
              "    n_features_to_select=10, step=1, verbose=0)"
            ]
          },
          "metadata": {
            "tags": []
          },
          "execution_count": 202
        }
      ]
    },
    {
      "cell_type": "code",
      "metadata": {
        "id": "-Zsd-XfS7TVZ",
        "outputId": "674883e0-f4c8-4bc3-e657-cd2586656df8",
        "colab": {
          "base_uri": "https://localhost:8080/"
        }
      },
      "source": [
        "X.columns[rfe.support_]"
      ],
      "execution_count": 224,
      "outputs": [
        {
          "output_type": "execute_result",
          "data": {
            "text/plain": [
              "Index(['funded_amnt', 'annual_inc', 'grade', 'last_pymnt_amnt', 'int_rate',\n",
              "       'open_acc', 'mo_sin_old_rev_tl_op', 'bc_util', 'bc_open_to_buy',\n",
              "       'acc_open_past_24mths'],\n",
              "      dtype='object')"
            ]
          },
          "metadata": {
            "tags": []
          },
          "execution_count": 224
        }
      ]
    },
    {
      "cell_type": "code",
      "metadata": {
        "id": "8-BfbdnL7VSH",
        "outputId": "5d69f7ba-d115-4c41-cb0b-1c2826b32ce1",
        "colab": {
          "base_uri": "https://localhost:8080/"
        }
      },
      "source": [
        "rfe.ranking_"
      ],
      "execution_count": 204,
      "outputs": [
        {
          "output_type": "execute_result",
          "data": {
            "text/plain": [
              "array([1, 5, 1, 3, 1, 1, 2, 8, 1, 1, 6, 4, 1, 1, 1, 7, 1])"
            ]
          },
          "metadata": {
            "tags": []
          },
          "execution_count": 204
        }
      ]
    },
    {
      "cell_type": "markdown",
      "metadata": {
        "id": "1zydqb628EXK"
      },
      "source": [
        "### 特徵抽取"
      ]
    },
    {
      "cell_type": "code",
      "metadata": {
        "id": "qYN_r3Jl7dG4"
      },
      "source": [
        "from sklearn.decomposition import PCA\n",
        "pca = PCA(n_components=10, whiten=True)\n",
        "X_train_pca = pca.fit_transform(X_train)\n",
        "X_test_pca = pca.transform(X_test)"
      ],
      "execution_count": 205,
      "outputs": []
    },
    {
      "cell_type": "code",
      "metadata": {
        "id": "lPuwdMcm7m4Y",
        "outputId": "c6fd4d7a-2f73-4ccf-9f6b-ccc5d05bc266",
        "colab": {
          "base_uri": "https://localhost:8080/",
          "height": 265
        }
      },
      "source": [
        "plt.bar(range(0,10), pca.explained_variance_)\n",
        "plt.xticks(range(0,10))\n",
        "plt.show()"
      ],
      "execution_count": 207,
      "outputs": [
        {
          "output_type": "display_data",
          "data": {
            "image/png": "[encoded data removed]",
            "text/plain": [
              "<Figure size 432x288 with 1 Axes>"
            ]
          },
          "metadata": {
            "tags": [],
            "needs_background": "light"
          }
        }
      ]
    },
    {
      "cell_type": "code",
      "metadata": {
        "id": "nF2hPGTE7u4J"
      },
      "source": [
        "X_train = X_train[:,rfe.support_]\n",
        "X_test = X_test[:,rfe.support_]"
      ],
      "execution_count": 231,
      "outputs": []
    },
    {
      "cell_type": "markdown",
      "metadata": {
        "id": "e5EjCAN--p5I"
      },
      "source": [
        "### Logistic Regression  + Grid Search"
      ]
    },
    {
      "cell_type": "code",
      "metadata": {
        "id": "Me9YRAuj9ODE"
      },
      "source": [
        "def cross_validation_best_parameters(model, param_grid):\n",
        "  grid = GridSearchCV(model, param_grid,cv=10, scoring='accuracy')\n",
        "  X=X_train\n",
        "  y=y_train\n",
        "  grid.fit(X,y)\n",
        "  return grid.best_score_,grid.best_estimator_"
      ],
      "execution_count": 234,
      "outputs": []
    },
    {
      "cell_type": "code",
      "metadata": {
        "id": "JpNy0VPm_Al0",
        "outputId": "59f7d991-941f-4beb-c150-a65717104e35",
        "colab": {
          "base_uri": "https://localhost:8080/"
        }
      },
      "source": [
        "logreg = LogisticRegression(random_state=0)\n",
        "c=[0.001, 0.01, 0.1, 1, 10, 100, 1000]\n",
        "param_grid = dict(C=c)\n",
        "Best_Accuracy, Best_classifier =cross_validation_best_parameters(logreg,param_grid)\n",
        "print(\"Best accuracy is \"+ str(Best_Accuracy))\n",
        "print(Best_classifier)"
      ],
      "execution_count": 236,
      "outputs": [
        {
          "output_type": "stream",
          "text": [
            "Best accuracy is 0.8044318181818181\n",
            "LogisticRegression(C=100, class_weight=None, dual=False, fit_intercept=True,\n",
            "                   intercept_scaling=1, l1_ratio=None, max_iter=100,\n",
            "                   multi_class='auto', n_jobs=None, penalty='l2',\n",
            "                   random_state=0, solver='lbfgs', tol=0.0001, verbose=0,\n",
            "                   warm_start=False)\n"
          ],
          "name": "stdout"
        }
      ]
    },
    {
      "cell_type": "code",
      "metadata": {
        "id": "AOW8ZfZa_bdj"
      },
      "source": [
        "import seaborn as sns\n",
        "sns.set('talk', 'whitegrid', 'dark', font_scale=1, font='Ricty',rc={\"lines.linewidth\": 2, 'grid.linestyle': '--'})\n",
        "def plotAUC(truth, pred, lab):\n",
        "  fpr, tpr, _ = roc_curve(truth,pred)\n",
        "  roc_auc = auc(fpr, tpr)\n",
        "  lw = 2\n",
        "  c = (np.random.rand(), np.random.rand(), np.random.rand())\n",
        "  plt.plot(fpr, tpr, color= c,lw=lw, label= lab +'(AUC = %0.2f)' % roc_auc)\n",
        "  plt.plot([0, 1], [0, 1], color='navy', lw=lw, linestyle='--')\n",
        "  plt.xlim([0.0, 1.0])\n",
        "  plt.ylim([0.0, 1.0])\n",
        "  plt.xlabel('False Positive Rate')\n",
        "  plt.ylabel('True Positive Rate')\n",
        "  plt.title('ROC curve') #Receiver Operating Characteristic\n",
        "  plt.legend(loc=\"lower right\")"
      ],
      "execution_count": 240,
      "outputs": []
    },
    {
      "cell_type": "code",
      "metadata": {
        "id": "SJfkmUxeAG2k",
        "outputId": "69b1bb85-84bd-4c18-a6e9-02ddf29ed07b",
        "colab": {
          "base_uri": "https://localhost:8080/"
        }
      },
      "source": [
        "import numpy as np\n",
        "\n",
        "clf_LR = LogisticRegression(C=Best_classifier.C)\n",
        "clf_LR.fit(X_train,y_train)"
      ],
      "execution_count": 241,
      "outputs": [
        {
          "output_type": "execute_result",
          "data": {
            "text/plain": [
              "LogisticRegression(C=100, class_weight=None, dual=False, fit_intercept=True,\n",
              "                   intercept_scaling=1, l1_ratio=None, max_iter=100,\n",
              "                   multi_class='auto', n_jobs=None, penalty='l2',\n",
              "                   random_state=None, solver='lbfgs', tol=0.0001, verbose=0,\n",
              "                   warm_start=False)"
            ]
          },
          "metadata": {
            "tags": []
          },
          "execution_count": 241
        }
      ]
    },
    {
      "cell_type": "code",
      "metadata": {
        "id": "BxjsgZ0IAPfJ",
        "outputId": "54e3c2ca-d92d-4d7f-9af4-020385e21efe",
        "colab": {
          "base_uri": "https://localhost:8080/",
          "height": 372
        }
      },
      "source": [
        "LR_Predict = clf_LR.predict_proba(X_test)[:,1]\n",
        "LR_Predict_bin = clf_LR.predict(X_test)\n",
        "LR_Accuracy = accuracy_score(y_test,LR_Predict.round())\n",
        "print(\"Logistic regression accuracy is \",LR_Accuracy)\n",
        "plotAUC(y_test,LR_Predict,'Logistic Regression')\n",
        "plt.show()"
      ],
      "execution_count": 242,
      "outputs": [
        {
          "output_type": "stream",
          "text": [
            "findfont: Font family ['Ricty'] not found. Falling back to DejaVu Sans.\n",
            "findfont: Font family ['Ricty'] not found. Falling back to DejaVu Sans.\n"
          ],
          "name": "stderr"
        },
        {
          "output_type": "stream",
          "text": [
            "Logistic regression accuracy is  0.7940909090909091\n"
          ],
          "name": "stdout"
        },
        {
          "output_type": "display_data",
          "data": {
            "image/png": "[encoded data removed]",
            "text/plain": [
              "<Figure size 432x288 with 1 Axes>"
            ]
          },
          "metadata": {
            "tags": []
          }
        }
      ]
    },
    {
      "cell_type": "code",
      "metadata": {
        "id": "lFbCe8r7AP5l",
        "outputId": "f02b552b-9053-4a16-e97f-ccc5a9851ca3",
        "colab": {
          "base_uri": "https://localhost:8080/"
        }
      },
      "source": [
        "from sklearn.neural_network import MLPClassifier\n",
        "\n",
        "clf_NN = MLPClassifier(solver='lbfgs', alpha=1e-5, hidden_layer_sizes=(5, 2), random_state=1)\n",
        "\n",
        "clf_NN.fit(X_train,y_train)\n",
        "predict_NN = clf_NN.predict(X_test)\n",
        "predictproba_NN = clf_NN.predict_proba(X_test)[:,1]\n",
        "NNAccuracy = accuracy_score(y_test,predict_NN)\n",
        "print(NNAccuracy)\n"
      ],
      "execution_count": 243,
      "outputs": [
        {
          "output_type": "stream",
          "text": [
            "0.7945454545454546\n"
          ],
          "name": "stdout"
        },
        {
          "output_type": "stream",
          "text": [
            "/usr/local/lib/python3.6/dist-packages/sklearn/neural_network/_multilayer_perceptron.py:470: ConvergenceWarning: lbfgs failed to converge (status=1):\n",
            "STOP: TOTAL NO. of ITERATIONS REACHED LIMIT.\n",
            "\n",
            "Increase the number of iterations (max_iter) or scale the data as shown in:\n",
            "    https://scikit-learn.org/stable/modules/preprocessing.html\n",
            "  self.n_iter_ = _check_optimize_result(\"lbfgs\", opt_res, self.max_iter)\n"
          ],
          "name": "stderr"
        }
      ]
    },
    {
      "cell_type": "code",
      "metadata": {
        "id": "5xOL0si3AxA2",
        "outputId": "562d57b3-828b-470b-a345-4e3f9a0f7a8b",
        "colab": {
          "base_uri": "https://localhost:8080/",
          "height": 321
        }
      },
      "source": [
        "plotAUC(y_test,LR_Predict,'Logistic Regression')\n",
        "plotAUC(y_test,predictproba_NN,'MLP')\n",
        "plt.show()\n"
      ],
      "execution_count": 246,
      "outputs": [
        {
          "output_type": "display_data",
          "data": {
            "image/png": "[encoded data removed]",
            "text/plain": [
              "<Figure size 432x288 with 1 Axes>"
            ]
          },
          "metadata": {
            "tags": []
          }
        }
      ]
    },
    {
      "cell_type": "code",
      "metadata": {
        "id": "2gySxpjDRBIv"
      },
      "source": [
        "from sklearn.ensemble  import RandomForestClassifier\n",
        "from sklearn.model_selection  import RandomizedSearchCV\n",
        "rf = RandomForestClassifier(criterion='gini', random_state=0)\n",
        "\n",
        "maxFeatures = range(1,11)\n",
        "param_dist = dict(max_features=maxFeatures)\n",
        "\n",
        "rand = RandomizedSearchCV(rf, param_dist, cv=10, scoring='accuracy', n_iter=len(maxFeatures), random_state=10)\n",
        "X=X_train\n",
        "y=y_train\n",
        "rand.fit(X,y)\n"
      ],
      "execution_count": null,
      "outputs": []
    },
    {
      "cell_type": "code",
      "metadata": {
        "id": "rFkq1wCUBtgJ",
        "outputId": "ed9edf8d-c6aa-4275-9e86-c384753a3b96",
        "colab": {
          "base_uri": "https://localhost:8080/"
        }
      },
      "source": [
        "\n",
        "from sklearn.metrics import accuracy_score\n",
        "randomForest = RandomForestClassifier(bootstrap=True,criterion =\n",
        "\"gini\",max_features=4,random_state=0 )\n",
        "\n",
        "randomForest.fit(X_train,y_train)"
      ],
      "execution_count": 253,
      "outputs": [
        {
          "output_type": "execute_result",
          "data": {
            "text/plain": [
              "RandomForestClassifier(bootstrap=True, ccp_alpha=0.0, class_weight=None,\n",
              "                       criterion='gini', max_depth=None, max_features=4,\n",
              "                       max_leaf_nodes=None, max_samples=None,\n",
              "                       min_impurity_decrease=0.0, min_impurity_split=None,\n",
              "                       min_samples_leaf=1, min_samples_split=2,\n",
              "                       min_weight_fraction_leaf=0.0, n_estimators=100,\n",
              "                       n_jobs=None, oob_score=False, random_state=0, verbose=0,\n",
              "                       warm_start=False)"
            ]
          },
          "metadata": {
            "tags": []
          },
          "execution_count": 253
        }
      ]
    },
    {
      "cell_type": "code",
      "metadata": {
        "id": "B23qhCqLQtcH",
        "outputId": "5ebe0fdd-15e8-4b47-bd83-9c6bd7e8ccd1",
        "colab": {
          "base_uri": "https://localhost:8080/"
        }
      },
      "source": [
        "rfPredict = randomForest.predict(X_test)\n",
        "rfAccuracy = accuracy_score(y_test,rfPredict)\n",
        "print(rfAccuracy)"
      ],
      "execution_count": 254,
      "outputs": [
        {
          "output_type": "stream",
          "text": [
            "0.8004545454545454\n"
          ],
          "name": "stdout"
        }
      ]
    },
    {
      "cell_type": "code",
      "metadata": {
        "id": "HwEmBB6lRE_W"
      },
      "source": [
        "from sklearn.metrics import roc_auc_score\n",
        "rfPredictproba = randomForest.predict_proba(X_test)[:,1]\n",
        "roc_score = roc_auc_score(y_test,rfPredict)"
      ],
      "execution_count": 258,
      "outputs": []
    },
    {
      "cell_type": "code",
      "metadata": {
        "id": "hyjxLn6xRHJW",
        "outputId": "884e02ec-f776-414e-c95d-aec4105038fe",
        "colab": {
          "base_uri": "https://localhost:8080/",
          "height": 321
        }
      },
      "source": [
        "plotAUC(y_test,rfPredictproba, 'Random Forest')\n",
        "plt.show()"
      ],
      "execution_count": 259,
      "outputs": [
        {
          "output_type": "display_data",
          "data": {
            "image/png": "[encoded data removed]",
            "text/plain": [
              "<Figure size 432x288 with 1 Axes>"
            ]
          },
          "metadata": {
            "tags": []
          }
        }
      ]
    },
    {
      "cell_type": "code",
      "metadata": {
        "id": "gZfRjil5ReQt",
        "outputId": "65da9a1c-2552-497e-ed9c-856960409ee0",
        "colab": {
          "base_uri": "https://localhost:8080/"
        }
      },
      "source": [
        "features"
      ],
      "execution_count": 263,
      "outputs": [
        {
          "output_type": "execute_result",
          "data": {
            "text/plain": [
              "['funded_amnt',\n",
              " 'annual_inc',\n",
              " 'grade',\n",
              " 'last_pymnt_amnt',\n",
              " 'int_rate',\n",
              " 'mo_sin_rcnt_rev_tl_op',\n",
              " 'mo_sin_old_rev_tl_op',\n",
              " 'bc_util',\n",
              " 'bc_open_to_buy',\n",
              " 'acc_open_past_24mths',\n",
              " 'loan_status']"
            ]
          },
          "metadata": {
            "tags": []
          },
          "execution_count": 263
        }
      ]
    },
    {
      "cell_type": "code",
      "metadata": {
        "id": "3enMo9d6RPkH",
        "outputId": "81edf4f5-8736-45cf-f007-df3934918fd5",
        "colab": {
          "base_uri": "https://localhost:8080/",
          "height": 491
        }
      },
      "source": [
        "fig, ax = plt.subplots()\n",
        "width=0.35\n",
        "ax.bar(np.arange(len(features)-1), randomForest.feature_importances_, width, color='r')\n",
        "ax.set_xticks(np.arange(len(randomForest.feature_importances_)))\n",
        "ax.set_xticklabels(features[:-1],rotation=90)\n",
        "plt.title('Feature Importance from DT')\n",
        "ax.set_ylabel('Normalized Gini Importance')"
      ],
      "execution_count": 265,
      "outputs": [
        {
          "output_type": "execute_result",
          "data": {
            "text/plain": [
              "Text(0, 0.5, 'Normalized Gini Importance')"
            ]
          },
          "metadata": {
            "tags": []
          },
          "execution_count": 265
        },
        {
          "output_type": "display_data",
          "data": {
            "image/png": "[encoded data removed]",
            "text/plain": [
              "<Figure size 432x288 with 1 Axes>"
            ]
          },
          "metadata": {
            "tags": []
          }
        }
      ]
    },
    {
      "cell_type": "code",
      "metadata": {
        "id": "F8cCQpBvRT_2"
      },
      "source": [
        "from sklearn import model_selection\n",
        "from sklearn.ensemble import BaggingClassifier\n",
        "seed = 7\n",
        "kfold = model_selection.KFold(n_splits=10, random_state=seed)\n",
        "num_trees = 100\n",
        "model = BaggingClassifier(base_estimator=randomForest,n_estimators=num_trees, random_state=seed)\n",
        "\n",
        "results = model_selection.cross_val_score(model, data_clean.iloc[:,:-1].values,\n",
        "data_clean.iloc[:,-1].values, cv=kfold)\n",
        "print(results.mean())"
      ],
      "execution_count": null,
      "outputs": []
    },
    {
      "cell_type": "markdown",
      "metadata": {
        "id": "8fjFUk5mTTOb"
      },
      "source": [
        "### Boosting"
      ]
    },
    {
      "cell_type": "code",
      "metadata": {
        "id": "y5C06NMqSGtn",
        "outputId": "fe09c669-5138-44f4-aa11-518cf6517756",
        "colab": {
          "base_uri": "https://localhost:8080/"
        }
      },
      "source": [
        "from sklearn.model_selection import cross_val_score\n",
        "from sklearn.ensemble import AdaBoostClassifier\n",
        "\n",
        "Ada_clf = AdaBoostClassifier(n_estimators=50)\n",
        "\n",
        "scores = cross_val_score(Ada_clf, data_clean.iloc[:,:-1].values,\n",
        "data_clean.iloc[:,-1].values)\n",
        "scores.mean()"
      ],
      "execution_count": 267,
      "outputs": [
        {
          "output_type": "execute_result",
          "data": {
            "text/plain": [
              "0.8038181818181818"
            ]
          },
          "metadata": {
            "tags": []
          },
          "execution_count": 267
        }
      ]
    },
    {
      "cell_type": "code",
      "metadata": {
        "id": "lCt1awJoTX8p",
        "outputId": "c1ddb203-585b-4845-908b-c9395f8197aa",
        "colab": {
          "base_uri": "https://localhost:8080/"
        }
      },
      "source": [
        "from sklearn.ensemble import GradientBoostingClassifier\n",
        "gda_clf = GradientBoostingClassifier(n_estimators=50)\n",
        "scores = cross_val_score(gda_clf, data_clean.iloc[:,:-1].values,\n",
        "data_clean.iloc[:,-1].values)\n",
        "scores.mean()"
      ],
      "execution_count": 268,
      "outputs": [
        {
          "output_type": "execute_result",
          "data": {
            "text/plain": [
              "0.8088181818181818"
            ]
          },
          "metadata": {
            "tags": []
          },
          "execution_count": 268
        }
      ]
    },
    {
      "cell_type": "markdown",
      "metadata": {
        "id": "vNvodDYjUdzQ"
      },
      "source": [
        "### XGBoost"
      ]
    },
    {
      "cell_type": "code",
      "metadata": {
        "id": "xlGuq-wXUUDr"
      },
      "source": [
        "import xgboost as xgb"
      ],
      "execution_count": 269,
      "outputs": []
    },
    {
      "cell_type": "code",
      "metadata": {
        "id": "NVcJoAXzUf6b"
      },
      "source": [
        "dtrain = xgb.DMatrix(X_train, label=y_train)\n",
        "dtest = xgb.DMatrix(X_test, label=y_test)"
      ],
      "execution_count": 270,
      "outputs": []
    },
    {
      "cell_type": "code",
      "metadata": {
        "id": "VUKHEFwuUvFr"
      },
      "source": [
        "from sklearn.datasets import dump_svmlight_file\n",
        "dump_svmlight_file(X_train, y_train, 'dtrain.svm', zero_based=True)\n",
        "dump_svmlight_file(X_test, y_test, 'dtest.svm', zero_based=True)"
      ],
      "execution_count": 272,
      "outputs": []
    },
    {
      "cell_type": "code",
      "metadata": {
        "id": "sJUeL46-Uzp8",
        "outputId": "8999d125-3f99-4cf4-a373-16984ed6d5a3",
        "colab": {
          "base_uri": "https://localhost:8080/"
        }
      },
      "source": [
        "dtrain_svm = xgb.DMatrix('dtrain.svm')\n",
        "dtest_svm = xgb.DMatrix('dtest.svm')"
      ],
      "execution_count": 273,
      "outputs": [
        {
          "output_type": "stream",
          "text": [
            "[05:56:30] 8800x10 matrix with 88000 entries loaded from dtrain.svm\n",
            "[05:56:30] 2200x10 matrix with 22000 entries loaded from dtest.svm\n"
          ],
          "name": "stdout"
        }
      ]
    },
    {
      "cell_type": "code",
      "metadata": {
        "id": "5-j3Pm2XU5Uc"
      },
      "source": [
        "param = {\n",
        "    'max_depth': 3,  # the maximum depth of each tree\n",
        "    'eta': 0.3,  # the training step for each iteration\n",
        "    'silent': 1,  # logging mode - quiet\n",
        "    'objective': 'multi:softprob',  # error evaluation for multiclass training\n",
        "    'num_class': 2}  # the number of classes that exist in this datset\n",
        "num_round = 20"
      ],
      "execution_count": 277,
      "outputs": []
    },
    {
      "cell_type": "code",
      "metadata": {
        "id": "V-YZbPT4VBI8",
        "outputId": "edb813d4-0a18-4aad-dfae-bc7e019a8090",
        "colab": {
          "base_uri": "https://localhost:8080/"
        }
      },
      "source": [
        "bst = xgb.train(param, dtrain, num_round)\n",
        "preds = bst.predict(dtest)\n",
        "preds[0:3,:]"
      ],
      "execution_count": 278,
      "outputs": [
        {
          "output_type": "execute_result",
          "data": {
            "text/plain": [
              "array([[0.994028  , 0.005972  ],\n",
              "       [0.87344414, 0.12655593],\n",
              "       [0.48408812, 0.5159119 ]], dtype=float32)"
            ]
          },
          "metadata": {
            "tags": []
          },
          "execution_count": 278
        }
      ]
    },
    {
      "cell_type": "code",
      "metadata": {
        "id": "932Y0pjXVD09",
        "outputId": "760b982a-8697-4f42-ddff-d1c89653759a",
        "colab": {
          "base_uri": "https://localhost:8080/"
        }
      },
      "source": [
        "best_preds = np.asarray([np.argmax(line) for line in preds])\n",
        "best_preds"
      ],
      "execution_count": 279,
      "outputs": [
        {
          "output_type": "execute_result",
          "data": {
            "text/plain": [
              "array([0, 0, 1, ..., 1, 0, 1])"
            ]
          },
          "metadata": {
            "tags": []
          },
          "execution_count": 279
        }
      ]
    },
    {
      "cell_type": "code",
      "metadata": {
        "id": "rvzzqYAoVaWO",
        "outputId": "8e291d86-824b-48ac-a58a-e3a1c6fe0b0b",
        "colab": {
          "base_uri": "https://localhost:8080/",
          "height": 321
        }
      },
      "source": [
        "xgboost_predict = preds[:,1]\n",
        "plotAUC(y_test,xgboost_predict,'XGBOOST')"
      ],
      "execution_count": 280,
      "outputs": [
        {
          "output_type": "display_data",
          "data": {
            "image/png": "[encoded data removed]",
            "text/plain": [
              "<Figure size 432x288 with 1 Axes>"
            ]
          },
          "metadata": {
            "tags": []
          }
        }
      ]
    },
    {
      "cell_type": "code",
      "metadata": {
        "id": "76huwHB5Vcpf",
        "outputId": "4fff9b43-a63d-4d2c-cc7c-b45f33fa30c9",
        "colab": {
          "base_uri": "https://localhost:8080/"
        }
      },
      "source": [
        "from sklearn.metrics import classification_report\n",
        "print(\"RF\",classification_report(y_test, rfPredict, target_names=None))\n",
        "print(\"LR\",classification_report(y_test, LR_Predict_bin, target_names=None))\n",
        "print(\"MLP\",classification_report(y_test, predict_NN, target_names=None))\n",
        "print(\"XGBOOST\",classification_report(y_test, best_preds, target_names=None))"
      ],
      "execution_count": 283,
      "outputs": [
        {
          "output_type": "stream",
          "text": [
            "RF               precision    recall  f1-score   support\n",
            "\n",
            "           0       0.88      0.70      0.78      1105\n",
            "           1       0.75      0.90      0.82      1095\n",
            "\n",
            "    accuracy                           0.80      2200\n",
            "   macro avg       0.81      0.80      0.80      2200\n",
            "weighted avg       0.81      0.80      0.80      2200\n",
            "\n",
            "LR               precision    recall  f1-score   support\n",
            "\n",
            "           0       0.89      0.67      0.77      1105\n",
            "           1       0.74      0.92      0.82      1095\n",
            "\n",
            "    accuracy                           0.79      2200\n",
            "   macro avg       0.81      0.79      0.79      2200\n",
            "weighted avg       0.81      0.79      0.79      2200\n",
            "\n",
            "MLP               precision    recall  f1-score   support\n",
            "\n",
            "           0       0.89      0.67      0.77      1105\n",
            "           1       0.74      0.92      0.82      1095\n",
            "\n",
            "    accuracy                           0.79      2200\n",
            "   macro avg       0.81      0.80      0.79      2200\n",
            "weighted avg       0.81      0.79      0.79      2200\n",
            "\n",
            "XGBOOST               precision    recall  f1-score   support\n",
            "\n",
            "           0       0.92      0.67      0.77      1105\n",
            "           1       0.74      0.94      0.83      1095\n",
            "\n",
            "    accuracy                           0.80      2200\n",
            "   macro avg       0.83      0.80      0.80      2200\n",
            "weighted avg       0.83      0.80      0.80      2200\n",
            "\n"
          ],
          "name": "stdout"
        }
      ]
    },
    {
      "cell_type": "markdown",
      "metadata": {
        "id": "ZeI-YQTxcWtF"
      },
      "source": [
        "## 文字探勘"
      ]
    },
    {
      "cell_type": "code",
      "metadata": {
        "id": "oekeXdRYVmjd",
        "outputId": "f7c8393a-2a47-44dd-f49e-afdd2cb9204a",
        "colab": {
          "base_uri": "https://localhost:8080/"
        }
      },
      "source": [
        "a = 'this is a book'\n",
        "a.split()"
      ],
      "execution_count": 284,
      "outputs": [
        {
          "output_type": "execute_result",
          "data": {
            "text/plain": [
              "['this', 'is', 'a', 'book']"
            ]
          },
          "metadata": {
            "tags": []
          },
          "execution_count": 284
        }
      ]
    },
    {
      "cell_type": "code",
      "metadata": {
        "id": "gZzYQ2Rpcc56",
        "outputId": "94e7a32f-fd5c-497b-c6b0-77ec866ab0e5",
        "colab": {
          "base_uri": "https://localhost:8080/"
        }
      },
      "source": [
        "a = '''\n",
        "國立台灣大學連續5天發生3起學生意外，於低迷氣氛中迎來92年校慶。今天（11/14）是校慶前夕，園遊會率先登場，校長管中閔今出席致詞並接受媒體聯訪，他表示，已針對事件當事人相關系所與群體啟動集體創傷治療，也邀請校內各學生單位探討可能的結構問題，希望從根本解決。\n",
        "'''\n",
        "a.split('，')"
      ],
      "execution_count": 286,
      "outputs": [
        {
          "output_type": "execute_result",
          "data": {
            "text/plain": [
              "['\\n國立台灣大學連續5天發生3起學生意外',\n",
              " '於低迷氣氛中迎來92年校慶。今天（11/14）是校慶前夕',\n",
              " '園遊會率先登場',\n",
              " '校長管中閔今出席致詞並接受媒體聯訪',\n",
              " '他表示',\n",
              " '已針對事件當事人相關系所與群體啟動集體創傷治療',\n",
              " '也邀請校內各學生單位探討可能的結構問題',\n",
              " '希望從根本解決。\\n']"
            ]
          },
          "metadata": {
            "tags": []
          },
          "execution_count": 286
        }
      ]
    },
    {
      "cell_type": "code",
      "metadata": {
        "id": "eslQkOgAd_7r",
        "outputId": "d798d5e0-adc6-461c-d0e6-6be6efe6e77f",
        "colab": {
          "base_uri": "https://localhost:8080/"
        }
      },
      "source": [
        "import re\n",
        "re.split('，|。',a)"
      ],
      "execution_count": 287,
      "outputs": [
        {
          "output_type": "execute_result",
          "data": {
            "text/plain": [
              "['\\n國立台灣大學連續5天發生3起學生意外',\n",
              " '於低迷氣氛中迎來92年校慶',\n",
              " '今天（11/14）是校慶前夕',\n",
              " '園遊會率先登場',\n",
              " '校長管中閔今出席致詞並接受媒體聯訪',\n",
              " '他表示',\n",
              " '已針對事件當事人相關系所與群體啟動集體創傷治療',\n",
              " '也邀請校內各學生單位探討可能的結構問題',\n",
              " '希望從根本解決',\n",
              " '\\n']"
            ]
          },
          "metadata": {
            "tags": []
          },
          "execution_count": 287
        }
      ]
    },
    {
      "cell_type": "code",
      "metadata": {
        "id": "_OCXzt6AeLQ7",
        "outputId": "6179b386-589a-4d4d-a0ab-29f7487ed552",
        "colab": {
          "base_uri": "https://localhost:8080/"
        }
      },
      "source": [
        "import jieba\n",
        "a = '國立台灣大學連續5天發生3起學生意外'\n",
        "print(list(jieba.cut(a)))"
      ],
      "execution_count": 296,
      "outputs": [
        {
          "output_type": "stream",
          "text": [
            "['國立', '台灣', '大學', '連續', '5', '天發生', '3', '起', '學生', '意外']\n"
          ],
          "name": "stdout"
        }
      ]
    },
    {
      "cell_type": "code",
      "metadata": {
        "id": "dLZnCzy1im3v",
        "outputId": "020e1f38-dc5f-4cd1-83ea-dafd33b4aa75",
        "colab": {
          "base_uri": "https://localhost:8080/"
        }
      },
      "source": [
        "jieba.get_dict_file()"
      ],
      "execution_count": 291,
      "outputs": [
        {
          "output_type": "execute_result",
          "data": {
            "text/plain": [
              "<_io.BufferedReader name='/usr/local/lib/python3.6/dist-packages/jieba/dict.txt'>"
            ]
          },
          "metadata": {
            "tags": []
          },
          "execution_count": 291
        }
      ]
    },
    {
      "cell_type": "code",
      "metadata": {
        "id": "t3F67CBYizI-",
        "outputId": "bc44c009-9ca2-41b4-cdf4-757279f733f9",
        "colab": {
          "base_uri": "https://localhost:8080/"
        }
      },
      "source": [
        "! head /usr/local/lib/python3.6/dist-packages/jieba/dict.txt"
      ],
      "execution_count": 292,
      "outputs": [
        {
          "output_type": "stream",
          "text": [
            "AT&T 3 nz\n",
            "B超 3 n\n",
            "c# 3 nz\n",
            "C# 3 nz\n",
            "c++ 3 nz\n",
            "C++ 3 nz\n",
            "T恤 4 n\n",
            "A座 3 n\n",
            "A股 3 n\n",
            "A型 3 n\n"
          ],
          "name": "stdout"
        }
      ]
    },
    {
      "cell_type": "code",
      "metadata": {
        "id": "cvCrtYsmi0_O"
      },
      "source": [
        "! touch userdict.txt"
      ],
      "execution_count": 293,
      "outputs": []
    },
    {
      "cell_type": "code",
      "metadata": {
        "id": "xwVOVrfTjVcP"
      },
      "source": [
        "jieba.load_userdict('userdict.txt')"
      ],
      "execution_count": 294,
      "outputs": []
    },
    {
      "cell_type": "code",
      "metadata": {
        "id": "HrmSXhghjcy_",
        "outputId": "05756f0d-d791-436a-c43f-f1abba65f2e6",
        "colab": {
          "base_uri": "https://localhost:8080/"
        }
      },
      "source": [
        "import jieba\n",
        "a = '國立台灣大學連續5天發生3起學生意外'\n",
        "print(list(jieba.cut(a)))"
      ],
      "execution_count": 297,
      "outputs": [
        {
          "output_type": "stream",
          "text": [
            "['國立', '台灣', '大學', '連續', '5', '天發生', '3', '起', '學生', '意外']\n"
          ],
          "name": "stdout"
        }
      ]
    },
    {
      "cell_type": "code",
      "metadata": {
        "id": "H83LZ3m1jmLO",
        "outputId": "f58ce83e-a880-4a0b-b01c-3ee618d3a466",
        "colab": {
          "base_uri": "https://localhost:8080/"
        }
      },
      "source": [
        "! rm -rf jieba-zh_TW\n",
        "! git clone https://github.com/ldkrsi/jieba-zh_TW.git"
      ],
      "execution_count": 308,
      "outputs": [
        {
          "output_type": "stream",
          "text": [
            "Cloning into 'jieba-zh_TW'...\n",
            "remote: Enumerating objects: 2320, done.\u001b[K\n",
            "remote: Total 2320 (delta 0), reused 0 (delta 0), pack-reused 2320\u001b[K\n",
            "Receiving objects: 100% (2320/2320), 44.97 MiB | 21.28 MiB/s, done.\n",
            "Resolving deltas: 100% (1311/1311), done.\n"
          ],
          "name": "stdout"
        }
      ]
    },
    {
      "cell_type": "code",
      "metadata": {
        "id": "EVkhPGVbkk2D",
        "outputId": "ea2be926-d762-43b2-e695-c8fd842ee2a0",
        "colab": {
          "base_uri": "https://localhost:8080/"
        }
      },
      "source": [
        "! ls jieba-zh_TW/jieba"
      ],
      "execution_count": 310,
      "outputs": [
        {
          "output_type": "stream",
          "text": [
            "analyse  _compat.py  dict.txt  finalseg  __init__.py  __main__.py  posseg\n"
          ],
          "name": "stdout"
        }
      ]
    },
    {
      "cell_type": "code",
      "metadata": {
        "id": "yM2DmK6vkB5Q",
        "outputId": "d5d47faa-5327-4efe-b647-37ef51f2a807",
        "colab": {
          "base_uri": "https://localhost:8080/"
        }
      },
      "source": [
        "! ls /usr/local/lib/python3.6/dist-packages/jieba/"
      ],
      "execution_count": 311,
      "outputs": [
        {
          "output_type": "stream",
          "text": [
            "analyse     dict.txt  __init__.py  posseg\n",
            "_compat.py  finalseg  __main__.py  __pycache__\n"
          ],
          "name": "stdout"
        }
      ]
    },
    {
      "cell_type": "code",
      "metadata": {
        "id": "9NavNk-rj3ZP"
      },
      "source": [
        "! cp -r jieba-zh_TW/jieba/* /usr/local/lib/python3.6/dist-packages/jieba/"
      ],
      "execution_count": 314,
      "outputs": []
    },
    {
      "cell_type": "code",
      "metadata": {
        "id": "dWNXxIgPk54_",
        "outputId": "16bf4f2d-7efa-4b60-b204-484f2630adff",
        "colab": {
          "base_uri": "https://localhost:8080/"
        }
      },
      "source": [
        "! head /usr/local/lib/python3.6/dist-packages/jieba/dict.txt"
      ],
      "execution_count": 2,
      "outputs": [
        {
          "output_type": "stream",
          "text": [
            "A咖 36 N\n",
            "A型 3 N\n",
            "A片 19 N\n",
            "A級 2 N\n",
            "A股 3 N\n",
            "A菜 6 N\n",
            "B咖 6 N\n",
            "B哀 1 Vi\n",
            "B型 4 N\n",
            "B級 2 N\n"
          ],
          "name": "stdout"
        }
      ]
    },
    {
      "cell_type": "code",
      "metadata": {
        "id": "aqQLoWQplXL4"
      },
      "source": [
        "del jieba"
      ],
      "execution_count": 8,
      "outputs": []
    },
    {
      "cell_type": "code",
      "metadata": {
        "id": "2LR_xNdDkLAQ",
        "outputId": "da2e38cb-fec1-4a83-b11d-c12a4e18c21e",
        "colab": {
          "base_uri": "https://localhost:8080/"
        }
      },
      "source": [
        "import jieba\n",
        "a = '大巨蛋案對市府同仁下封口令？ 柯P否認'\n",
        "print(list(jieba.cut(a)))"
      ],
      "execution_count": 9,
      "outputs": [
        {
          "output_type": "stream",
          "text": [
            "['大巨蛋案', '對', '市府', '同仁', '下', '封口', '令', '？', ' ', '柯P', '否認']\n"
          ],
          "name": "stdout"
        }
      ]
    },
    {
      "cell_type": "code",
      "metadata": {
        "id": "IaLVGopxkP0v",
        "outputId": "589c26fa-cd54-4478-85e7-8c3ac32a9b84",
        "colab": {
          "base_uri": "https://localhost:8080/"
        }
      },
      "source": [
        "import jieba.posseg as pseg\n",
        "words = pseg.cut(\"大巨蛋案對市府同仁下封口令？ 柯P否認\")\n",
        "for w in words:\n",
        "  print(w.word, w.flag)"
      ],
      "execution_count": 10,
      "outputs": [
        {
          "output_type": "stream",
          "text": [
            "大巨蛋案 N\n",
            "對 P\n",
            "市府 N\n",
            "同仁 N\n",
            "下 POST\n",
            "封口 N\n",
            "令 Vt\n",
            "？ x\n",
            "  x\n",
            "柯P N\n",
            "否認 Vt\n"
          ],
          "name": "stdout"
        }
      ]
    },
    {
      "cell_type": "code",
      "metadata": {
        "id": "F0bxSeEgl9kQ"
      },
      "source": [
        "a = '''中央流行疫情指揮中心今（14）日公布，國內新增3例境外移入新冠肺炎（COVID-19，又名武漢肺炎）確定病例（案599至601），分別自菲律賓、印尼及克羅埃西亞入境'''"
      ],
      "execution_count": 11,
      "outputs": []
    },
    {
      "cell_type": "code",
      "metadata": {
        "id": "A5eK-_hemv61",
        "outputId": "fa229eed-9407-43bd-daeb-11e58428123e",
        "colab": {
          "base_uri": "https://localhost:8080/"
        }
      },
      "source": [
        "import jieba.posseg as pseg\n",
        "jieba.load_userdict('userdict.txt')\n",
        "words = pseg.cut(a)\n",
        "for w in words:\n",
        "  print(w.word, w.flag)"
      ],
      "execution_count": 15,
      "outputs": [
        {
          "output_type": "stream",
          "text": [
            "中央 N\n",
            "流行 Vi\n",
            "疫情 N\n",
            "指揮 Vt\n",
            "中心 N\n",
            "今 N\n",
            "（ x\n",
            "14 m\n",
            "） x\n",
            "日 M\n",
            "公布 Vt\n",
            "， x\n",
            "國內 N\n",
            "新增 Vt\n",
            "3 m\n",
            "例 v\n",
            "境外 N\n",
            "移入 Vt\n",
            "新冠肺炎 n\n",
            "（ x\n",
            "COVID eng\n",
            "- x\n",
            "19 m\n",
            "， x\n",
            "又 d\n",
            "名 q\n",
            "武漢 N\n",
            "肺炎 N\n",
            "） x\n",
            "確定 Vt\n",
            "病例 N\n",
            "（ x\n",
            "案 n\n",
            "599 m\n",
            "至 p\n",
            "601 m\n",
            "） x\n",
            "， x\n",
            "分別 ADV\n",
            "自 P\n",
            "菲律賓 N\n",
            "、 x\n",
            "印尼 N\n",
            "及 C\n",
            "克羅埃西亞 N\n",
            "入境 Vi\n"
          ],
          "name": "stdout"
        }
      ]
    },
    {
      "cell_type": "code",
      "metadata": {
        "id": "lPNpBihimxxy",
        "outputId": "7e5afe33-7b93-4fd0-8430-52b9ca2df3fb",
        "colab": {
          "base_uri": "https://localhost:8080/"
        }
      },
      "source": [
        "words = jieba.tokenize(\"大巨蛋案對市府同仁下封口令？ 柯P否認\")\n",
        "for tw in words:\n",
        "  print(tw[0], tw[1], tw[2])"
      ],
      "execution_count": 16,
      "outputs": [
        {
          "output_type": "stream",
          "text": [
            "大巨蛋案 0 4\n",
            "對 4 5\n",
            "市府 5 7\n",
            "同仁 7 9\n",
            "下 9 10\n",
            "封口 10 12\n",
            "令 12 13\n",
            "？ 13 14\n",
            "  14 15\n",
            "柯P 15 17\n",
            "否認 17 19\n"
          ],
          "name": "stdout"
        }
      ]
    },
    {
      "cell_type": "code",
      "metadata": {
        "id": "WURMahIBnkCb",
        "outputId": "5af3add2-bf4a-427c-d668-c65f8a584339",
        "colab": {
          "base_uri": "https://localhost:8080/"
        }
      },
      "source": [
        "! pip install ckiptagger"
      ],
      "execution_count": 17,
      "outputs": [
        {
          "output_type": "stream",
          "text": [
            "Collecting ckiptagger\n",
            "  Downloading https://files.pythonhosted.org/packages/6b/bc/5cbf8d019167d5e5e1775069fb8b71a08691ab847e2926bbe7dee9a19010/ckiptagger-0.2.1-py3-none-any.whl\n",
            "Installing collected packages: ckiptagger\n",
            "Successfully installed ckiptagger-0.2.1\n"
          ],
          "name": "stdout"
        }
      ]
    },
    {
      "cell_type": "code",
      "metadata": {
        "id": "2-f2JAYdo3gw"
      },
      "source": [
        "from ckiptagger import data_utils, construct_dictionary, WS, POS, NER"
      ],
      "execution_count": null,
      "outputs": []
    },
    {
      "cell_type": "code",
      "metadata": {
        "id": "6jo52CRaouUc",
        "outputId": "92ffab36-da45-49aa-ec4b-3c6b72f2f8a1",
        "colab": {
          "base_uri": "https://localhost:8080/"
        }
      },
      "source": [
        "data_utils.download_data_gdown(\"./\") # gdrive-ckip"
      ],
      "execution_count": 19,
      "outputs": [
        {
          "output_type": "stream",
          "text": [
            "Downloading...\n",
            "From: https://drive.google.com/uc?id=1efHsY16pxK0lBD2gYCgCTnv1Swstq771\n",
            "To: /content/data.zip\n",
            "1.88GB [00:14, 130MB/s]\n"
          ],
          "name": "stderr"
        }
      ]
    },
    {
      "cell_type": "code",
      "metadata": {
        "id": "O10vGSJ3oiNK"
      },
      "source": [
        "from ckiptagger import data_utils, construct_dictionary, WS, POS, NER\n",
        "ws = WS(\"./data\")\n",
        "pos = POS(\"./data\")\n",
        "ner = NER(\"./data\")"
      ],
      "execution_count": 20,
      "outputs": []
    },
    {
      "cell_type": "code",
      "metadata": {
        "id": "TxTp705wpAzL"
      },
      "source": [
        "sentence_list = [\n",
        "    '''中央流行疫情指揮中心今（14）日公布，國內新增3例境外移入新冠肺炎（COVID-19，又名武漢肺炎）確定病例（案599至601），分別自菲律賓、印尼及克羅埃西亞入境''',\n",
        "]\n",
        "\n",
        "word_sentence_list = ws(\n",
        "    sentence_list,\n",
        ")\n",
        "\n",
        "pos_sentence_list = pos(word_sentence_list)\n",
        "\n",
        "entity_sentence_list = ner(word_sentence_list, pos_sentence_list)"
      ],
      "execution_count": 21,
      "outputs": []
    },
    {
      "cell_type": "code",
      "metadata": {
        "id": "DWtZJEyPoko2",
        "outputId": "cded34c1-07f7-4e8c-ca3e-1fb803145b04",
        "colab": {
          "base_uri": "https://localhost:8080/"
        }
      },
      "source": [
        "print(word_sentence_list)"
      ],
      "execution_count": 23,
      "outputs": [
        {
          "output_type": "stream",
          "text": [
            "[['中央', '流行', '疫情', '指揮', '中心', '今', '（14）', '日', '公布', '，', '國內', '新增', '3', '例', '境外', '移入', '新冠肺炎', '（', 'COVID-19', '，', '又', '名', '武漢', '肺炎', '）', '確定', '病例', '（', '案', '599', '至', '601', '）', '，', '分別', '自', '菲律賓', '、', '印尼', '及', '克羅埃西亞', '入境']]\n"
          ],
          "name": "stdout"
        }
      ]
    },
    {
      "cell_type": "code",
      "metadata": {
        "id": "JTLXW2fhpO2e",
        "outputId": "3e2118d7-b042-46a2-9685-02767d06c8a2",
        "colab": {
          "base_uri": "https://localhost:8080/"
        }
      },
      "source": [
        "print(pos_sentence_list)"
      ],
      "execution_count": 26,
      "outputs": [
        {
          "output_type": "stream",
          "text": [
            "[['Nc', 'VH', 'Na', 'VC', 'Nc', 'Nd', 'Neu', 'Nd', 'VE', 'COMMACATEGORY', 'Nc', 'VJ', 'Neu', 'Na', 'Nc', 'VC', 'Na', 'PARENTHESISCATEGORY', 'FW', 'COMMACATEGORY', 'D', 'VG', 'Nc', 'Na', 'PARENTHESISCATEGORY', 'VK', 'Na', 'PARENTHESISCATEGORY', 'Na', 'Neu', 'Caa', 'Neu', 'PARENTHESISCATEGORY', 'COMMACATEGORY', 'D', 'P', 'Nc', 'PAUSECATEGORY', 'Nc', 'Caa', 'Nc', 'VA']]\n"
          ],
          "name": "stdout"
        }
      ]
    },
    {
      "cell_type": "code",
      "metadata": {
        "id": "nSisrW_2pW-4",
        "outputId": "e2aaf67b-b87d-478c-90d7-4eec9a34ac1b",
        "colab": {
          "base_uri": "https://localhost:8080/"
        }
      },
      "source": [
        "print(entity_sentence_list)"
      ],
      "execution_count": 27,
      "outputs": [
        {
          "output_type": "stream",
          "text": [
            "[{(10, 16, 'DATE', '今（14）日'), (72, 74, 'GPE', '印尼'), (75, 80, 'GPE', '克羅埃西亞'), (23, 24, 'CARDINAL', '3'), (40, 42, 'PRODUCT', '19'), (0, 10, 'ORG', '中央流行疫情指揮中心'), (68, 71, 'GPE', '菲律賓'), (56, 63, 'CARDINAL', '599至601'), (45, 47, 'GPE', '武漢')}]\n"
          ],
          "name": "stdout"
        }
      ]
    },
    {
      "cell_type": "code",
      "metadata": {
        "id": "Ua4jdoFepYZY"
      },
      "source": [
        "from sklearn.ensemble import GradientBoostingRegressor"
      ],
      "execution_count": null,
      "outputs": []
    },
    {
      "cell_type": "code",
      "metadata": {
        "id": "68-5Rro7wU-Y"
      },
      "source": [
        "speech = '''大會主席游錫堃院長、現場各位貴賓、電視機前和網路上的全體國人同胞：大家早安，大家好！\n",
        "\n",
        " \n",
        "\n",
        "一、防疫成果貢獻國際\n",
        "\n",
        "今天是中華民國109年的國慶日，今年因為疫情，慶典的規模縮小了，但所有的國人同胞，無論身在何處，都發自內心，慶賀中華民國台灣，度過了重重挑戰的一年。\n",
        "\n",
        "2020這一年，在新型冠狀病毒威脅下，無論對台灣或全世界，都是驚濤駭浪的一年。但是，也因為這場全球性的危機，才讓國際社會看到台灣「堅韌之島」的特質和能耐。\n",
        "\n",
        "我們沒有封城，沒有關閉學校，也是世界上少數還能夠在管制措施下，開打職棒、舉辦大型藝文活動的國家。我們更展現了傲人的國力，將防疫物資送到世界各地。\n",
        "\n",
        "從今年三月以來，有超過三千三百篇國際媒體報導，都在談論台灣的防疫表現。台灣在國際上的面貌，越來越清晰，比過去任何時期都更加亮眼。\n",
        "\n",
        "這樣的成就，要歸功於全體台灣人民的團結、合作。除了最辛苦的醫護和檢疫人員，我們也要感謝，製造業攜手投入防疫物資生產，科技業開發APP，藥師朋友、超商員工協助發放口罩，還有我們所有的民眾，井然有序的配合各項防疫措施。\n",
        "\n",
        "我們也看到，海外歸來的國人，依規定居家隔離、檢疫。旅行業者提供防疫旅館，租賃車業者提供防疫車隊，餐廳娛樂場所落實實名制規定。因為全國上下一心，我們守住了疫情的防線，讓台灣成為世界的模範生。\n",
        "\n",
        "當日本的森喜朗前首相、捷克的韋德齊參議長、美國的阿札爾部長和柯拉克國務次卿，相繼來訪，表達他們對台灣的敬意的時候，相信許許多多的國人，都感到無比的振奮。\n",
        "\n",
        "透過因應疫情的挑戰，我們證明了國家在逆境中的生存能力，建立了國民的自信。更重要的是，我們團結了，因為我們深刻體會到守護家園的重要。所以這一年，確實是辛苦而險峻的一年，但也是豐收的一年。\n",
        "\n",
        "今天的大會中，邀請到各行各業的防疫英雄，來為我們領唱國歌。其中有很多我們熟悉的故事，像是賴碧蓮護理師，臉上光榮的口罩壓痕，或者是張莞爾護理師，瞞著家人出任務，陪伴血友病少年返台的感人事蹟。\n",
        "\n",
        "還有更多無名英雄，不曾被報導，因為這一場戰役，有太多人的投入，有說不完的故事。我要請現場的好朋友，用最熱烈的掌聲，再一次給我們的防疫英雄們滿滿的感謝，謝謝他們為台灣所做的付出。\n",
        "\n",
        " \n",
        "\n",
        "二、新情勢下的經濟戰略\n",
        "\n",
        "因為疫情控制得當，台灣成為全球少數可以維持經濟正成長的國家，我們也為疫情後的經濟發展，超前部署。「六大核心戰略產業」正在積極規劃推動；前瞻基礎建設計畫，也已經分期編列特別預算，加速進行當中。\n",
        "\n",
        "最讓我們感到振奮的，是國人及企業，對台灣經濟發展的信心更強了。台灣資本長期以來外流的趨勢，已經翻轉過來。\n",
        "\n",
        "我們迎來幾十年來最大規模的資金回流潮，台商返台投資，已經超過新台幣一兆元，還有數以千億元計的海外資金，正在陸續匯回；許多外商及知名跨國企業，也在加碼投資台灣。這些，都是現在進行式。\n",
        "\n",
        "在國際經貿合作的領域中，我們也有不少實質進展。台灣和美國將進行高層經濟對話，在全球供應鏈重組、科技合作、基礎建設等領域，尋求未來合作空間。\n",
        "\n",
        "上週，台美雙方宣布，已經完成簽署「台美基礎建設融資及市場建立合作架構」，雙方將攜手投入美洲，以及印太地區的基礎建設計畫。台美經濟合作的深化，已經進入到行動階段，這也是我們在國際經貿合作上，尋求全面性突破的開始。\n",
        "\n",
        "不過，我也要提醒國人。全球疫情還沒有結束，疫情帶給各國在經濟、社會層面的複雜挑戰，仍然很嚴峻。\n",
        "\n",
        "展望未來，還有更艱鉅的挑戰等著我們去克服。疫情後世界經濟的復原，人類生活型態的轉變，全球以及區域貿易情勢的劇烈變化，還有經濟秩序的重整，每一項都考驗我們經濟的續航力，以及整體的應變能力。\n",
        "\n",
        "面對數十年來最大的內、外變局，台灣會持續展現我們的韌性，政府會掌好舵，朝三個策略方向前進，打造大家所期待的新台灣經濟。\n",
        "\n",
        "首先，我們要全力、全方位投入供應鏈的重組。現在，全球供應鏈的快速解構及重組，是一個不可逆轉的趨勢。各地台商也正在朝向區隔市場、轉移生產基地、回台投資等方向，加速調整。\n",
        "\n",
        "我們已經在推動的「5+2產業創新」、「六大核心戰略產業」、兆元投資計畫、「新南向政策」、台美經濟合作、參與區域經濟整合等等，都和供應鏈重組息息相關。\n",
        "\n",
        "我們會將這些相關的政策和計畫串聯起來，並且整合政府和民間的資源，以及跨部會的能量，全力、全方位的投入，讓台灣成為全球供應鏈不可或缺的關鍵力量。\n",
        "\n",
        "第二，我們要打造台灣成為國際資本、人才及數位技術匯聚的重鎮。未來供應鏈的重組，最關鍵的元素是資本、人才，以及邁向數位經濟時代的核心技術。\n",
        "\n",
        "我們將會在吸引國際資本跟人才的環境及法制上，持續深化改革，排除障礙。同時，也會透過國際交流、產學合作，以及雙語國家政策的努力，積極培育國內產業人才。\n",
        "\n",
        "另外一方面，我們也會運用台灣在資通訊、半導體、物聯網、人工智慧等優勢，開發及掌握核心技術，加速推動產業及經濟的數位轉型。\n",
        "\n",
        "第三，我們要全力落實經濟與社會的均衡發展。疫情後的經濟、產業發展，可能會有失衡的風險，資金供給大幅的增加，也可能帶來後遺症。\n",
        "\n",
        "所以，未來政府會更加重視資源的合理分配，照顧因為經濟轉型而受衝擊的弱勢族群，加強促進青年就業，引導資金進行最有效的利用，讓台灣經濟再起的紅利，可以讓全國的人民共享。\n",
        "\n",
        " \n",
        "\n",
        "三、堅實國防維護國家安全\n",
        "\n",
        "當然，台灣經濟的前景，是有賴於區域的和平穩定。我們很清楚，示弱退讓不會帶來和平，只有自我準備充足，憑藉著堅實的防衛決心和實力，才能保障台灣的安全、維護區域的和平。\n",
        "\n",
        "精進國防實力，降低戰爭風險，這是當前我們國防政策的原則。這段時間，面對對岸機艦騷擾，台海情勢雖然比較緊張，但是我們的國軍，都能夠即時掌握和因應，達成防衛固守的任務。\n",
        "\n",
        "這幾年來，只要我有時間，我就會前往部隊，看看我們的國軍官兵。從高山上的空軍雷達站，到返航靠港的海軍艦隊；從在陣地操練火砲的陸軍部隊，到培養年輕軍士官的學校。\n",
        "\n",
        "我的目的，不僅是要對這些日夜輪班、保家衛國的軍人，說一聲謝謝，也要讓我們的國人知道，國軍是我們的家人，也是國家主權、自由民主最強的後盾。\n",
        "\n",
        "在跟國軍官兵的互動中，許多故事堅定了我的信心。我還記得，當我到第一線空軍部隊的時候，警戒室裡，隨時準備緊急出勤的飛官，充滿信心地告訴我「務必將空防交給空軍」。\n",
        "\n",
        "我也記得，我在陸軍工訓中心，看到我們女性軍官，帶領著工兵同袍，展現出「逢山開路、遇水架橋」的氣魄。在海軍水下作業大隊，則有穿戴重裝備的弟兄姊妹，奮勇潛入海底，排除障礙。\n",
        "\n",
        "這就是中華民國國軍。他們不分前線後勤，不分男女，都是我們的子弟，都有共同守護國家的信念。\n",
        "\n",
        "這段時間以來，也有國軍弟兄姊妹在執行任務的過程中，為國受傷，甚至殉職。我們感念他們的付出，並且以英勇盡責的國軍為榮。\n",
        "\n",
        "身為三軍統帥，國軍的未來、未來的國軍，就是我最心心念念的事情。\n",
        "\n",
        "面對對岸的軍事擴張和挑釁，我們會持續強化防衛戰力的現代化，並且提升不對稱戰力。在外購武器裝備的同時，我們仍然堅持加速推動國防自主，高教機國造、潛艦國造，已經有相當的成效。我們將以雙軌並進的方式，來強化我們的防衛實力。\n",
        "\n",
        "不僅武器裝備性能正在提升，國軍更需要有素質優秀的戰士。除了提升志願從軍的官士兵的專業素養，更要建立有效的後備制度，來強化國軍的人力素質以及戰力。\n",
        "\n",
        "這段時間以來，相信很多被教育召集的後備軍人都覺得，教召變得更加精實。而在常後一體的原則下，接下來，後備動員制度的改革，將會快速推動。\n",
        "\n",
        "面對區域和平穩定受到威脅，我們堅守「不畏戰，不求戰」的原則，避免擦槍走火。國防部也會適時發布共軍動態，和周邊國家交換資訊，強化安全夥伴角色；也讓國人明瞭台海動態，讓全民國防更加堅實。\n",
        "\n",
        " \n",
        "\n",
        "四、積極作為參與區域合作\n",
        "\n",
        "這段時間，我們都密切注意著區域安全情勢的變動。從南海、東海主權爭議，中印衝突，到台海局勢的變動，乃至於各國關切的港版國安法實施，印太區域的民主、和平與繁榮，正受到嚴峻的挑戰。\n",
        "\n",
        "區域內的國家，為了確保自身安全和民主體制，不受到外在因素影響，而展開了各種形式的合縱連橫，已經導致這個區域，發生前所未有的情勢變化。\n",
        "\n",
        "我們要把變局的試煉，轉變成歷史的機遇。我們堅持主權以及守護民主價值的原則，不會改變；但在策略上，也會保持彈性、靈活應用。\n",
        "\n",
        "情勢在改變，只有超前部署，才能掌握未來，才不會在變局中隨波逐流，甚至被別人決定了命運。\n",
        "\n",
        "我們將積極參與未來的國際和區域新秩序的建立。我們會秉持「價值同盟」的原則，在國際社會廣結善緣，並且跟理念相近和友我的國家，持續提升夥伴關係；我們也會更積極地參與區域及國際的多邊合作和對話。\n",
        "\n",
        "維持和平、促進繁榮發展，這就是中華民國台灣，在區域中最重要的價值。我們要做良善力量的倡議者，將進步及良善的價值，推廣到全世界。\n",
        "\n",
        "我也注意到，對岸領導人最近在對聯合國的視訊演說中，公開表示：中國永遠不稱霸，不擴張，不謀求勢力範圍。\n",
        "\n",
        "在區域國家、乃至於全世界，都在擔憂中國擴張霸權的此刻，我們希望，這是一個真正改變的開始。\n",
        "\n",
        "尤其，在全球高度關注印太及兩岸局勢變化的重要時刻，北京如果能夠正視台灣的聲音，改變處理兩岸關係的態度，和台灣共同促成兩岸的和解及和平對話，相信一定可以化解區域的緊張局勢。\n",
        "\n",
        "面對兩岸關係，我們不會冒進，也會堅守原則。維持兩岸關係的穩定，是兩岸共同的利益；我們有決心維持兩岸的穩定，但這不是台灣可以單方面承擔的，而是雙方共同的責任。\n",
        "\n",
        "現階段兩岸當務之急，是本於相互尊重、善意理解的態度，共同討論和平相處之道、共存之方；只要北京當局有心化解對立，改善兩岸關係，在符合對等尊嚴的原則下，我們願意共同促成有意義的對話。這就是台灣人民的主張，也是朝野政黨的共識。\n",
        "\n",
        " \n",
        "\n",
        "五、結語：團結合作共度挑戰\n",
        "\n",
        "這段時間，我們可以明顯感受，台灣人民在對外關係以及國家安全的議題上，彼此的距離正在拉近。台灣人民都希望區域的和平繁榮，能夠安定永續。\n",
        "\n",
        "朝野政黨之間也是如此。像是最近在立法院，在野黨提出促進台美關係的議案，獲得朝野黨團的支持，無異議通過。還有，六都首長一致對外，共同抗議，成功更正了國際組織矮化台灣的做法。這些都是跨黨派合作，團結表達立場的表現。\n",
        "\n",
        "我想透過這些例子，呼籲並且請國內各個政黨，一起攜手努力。對內，互相競爭，立場針鋒相對，是民主日常。不過，為了國家的生存發展，為了民主自由的價值，對外，我們應該團結努力，攜手帶領國家度過挑戰。\n",
        "\n",
        "就如同過去七十一年來，台灣經歷的一切，困境磨練出我們的堅韌，挑戰激發我們的志氣，一場疫情，可以凝聚出台灣人民團結的意識，給我們繼續前進的勇氣。\n",
        "\n",
        "我們守住疫情防線、發展經濟戰略、穩定區域情勢、捍衛台灣安全，為的是什麼？就是要把一個壯大的國家，留給台灣的下一代。\n",
        "\n",
        "今年的金曲獎，我們也看到了年輕世代蓬勃的創造力和生命力。他們用各種曲風，自信地唱出自己的母語，呈現出對各種議題的價值觀。尤其是《kinakaian母親的舌頭》這張專輯，獲得了「年度專輯獎」的大獎。\n",
        "\n",
        "這些年輕的創作者，雖然風格各自不同，但都能夠在舞台上發光發亮，也為台灣的多元文化，做出最好的詮釋。而支撐起這一切的，就是我們民主、自由的環境。\n",
        "\n",
        "我們現在打拚的一切，都是為了下一代、讓世世代代的台灣人，可以在創作上展現自信，也能對土地的文化和價值感到光榮，並且勇敢的走向世界。\n",
        "\n",
        "在中華民國國慶這一天，我們也一起許下願望，願二十年後的台灣人，回想2020年的時候，會想起正是在這一年，因為我們在時代中把握機遇，在變局中勇敢前進，克服了挑戰、擺脫了枷鎖，讓他們有真正以自己的意志，選擇未來的機會。\n",
        "\n",
        "從現在起，就讓我們團結彼此，一步一步，「有路，咱沿路唱歌；無路，咱蹽溪過嶺」，一起朝有光的地方前進。\n",
        "\n",
        "中華民國生日快樂！謝謝大家。'''"
      ],
      "execution_count": 28,
      "outputs": []
    },
    {
      "cell_type": "code",
      "metadata": {
        "id": "O05q847FwW-Q",
        "outputId": "98d21d39-85ef-40fb-cc36-368441e985f3",
        "colab": {
          "base_uri": "https://localhost:8080/"
        }
      },
      "source": [
        "from collections import Counter\n",
        "c = Counter([e for e in list(jieba.cut(speech)) if len(e) >=2])\n",
        "c.most_common(20)"
      ],
      "execution_count": 33,
      "outputs": [
        {
          "output_type": "execute_result",
          "data": {
            "text/plain": [
              "[('我們', 64),\n",
              " ('台灣', 35),\n",
              " ('經濟', 21),\n",
              " ('區域', 17),\n",
              " ('國家', 15),\n",
              " ('國際', 13),\n",
              " ('合作', 13),\n",
              " ('疫情', 11),\n",
              " ('國軍', 11),\n",
              " ('防疫', 9),\n",
              " ('挑戰', 9),\n",
              " ('未來', 9),\n",
              " ('以及', 9),\n",
              " ('和平', 9),\n",
              " ('兩岸', 9),\n",
              " ('國人', 8),\n",
              " ('因為', 8),\n",
              " ('已經', 8),\n",
              " ('團結', 7),\n",
              " ('情勢', 7)]"
            ]
          },
          "metadata": {
            "tags": []
          },
          "execution_count": 33
        }
      ]
    },
    {
      "cell_type": "markdown",
      "metadata": {
        "id": "kc00Azktxmwp"
      },
      "source": [
        "## TFIDF"
      ]
    },
    {
      "cell_type": "code",
      "metadata": {
        "id": "8u3f0ykJwfvt"
      },
      "source": [
        "a, abb, abc = [\"a\"], [\"a\", \"b\", \"b\"], [\"a\", \"b\", \"c\"]\n",
        "D = [a, abb, abc]"
      ],
      "execution_count": 34,
      "outputs": []
    },
    {
      "cell_type": "code",
      "metadata": {
        "id": "doR63XkoxqCv",
        "outputId": "cca8b638-459f-409f-ccac-3a6e5644f252",
        "colab": {
          "base_uri": "https://localhost:8080/"
        }
      },
      "source": [
        "import math\n",
        "#tfidf('a', a, D)\n",
        "tf = 1/1\n",
        "idf = math.log(3/3)\n",
        "tf * idf  "
      ],
      "execution_count": 35,
      "outputs": [
        {
          "output_type": "execute_result",
          "data": {
            "text/plain": [
              "0.0"
            ]
          },
          "metadata": {
            "tags": []
          },
          "execution_count": 35
        }
      ]
    },
    {
      "cell_type": "code",
      "metadata": {
        "id": "hpBplIb2x4Uu",
        "outputId": "0097614d-8ae8-4dbd-defa-207ecf526b21",
        "colab": {
          "base_uri": "https://localhost:8080/"
        }
      },
      "source": [
        "#tfidf('a', abb, D)\n",
        "tf = 1/3\n",
        "idf = math.log(3/3)\n",
        "tf * idf "
      ],
      "execution_count": 36,
      "outputs": [
        {
          "output_type": "execute_result",
          "data": {
            "text/plain": [
              "0.0"
            ]
          },
          "metadata": {
            "tags": []
          },
          "execution_count": 36
        }
      ]
    },
    {
      "cell_type": "code",
      "metadata": {
        "id": "c4C8RUH0yDe3",
        "outputId": "85a3ca35-0ae5-4c0d-9b4b-af697e2d1334",
        "colab": {
          "base_uri": "https://localhost:8080/"
        }
      },
      "source": [
        "#tfidf('b', abb, D)\n",
        "tf = 2/3\n",
        "idf = math.log(3/2)\n",
        "tf * idf "
      ],
      "execution_count": 37,
      "outputs": [
        {
          "output_type": "execute_result",
          "data": {
            "text/plain": [
              "0.27031007207210955"
            ]
          },
          "metadata": {
            "tags": []
          },
          "execution_count": 37
        }
      ]
    },
    {
      "cell_type": "code",
      "metadata": {
        "id": "b43mm3HDyR8v",
        "outputId": "338c2b9d-86c0-4c42-f812-02803e54f616",
        "colab": {
          "base_uri": "https://localhost:8080/"
        }
      },
      "source": [
        "#tfidf('b', abc, D)\n",
        "tf = 1/3\n",
        "idf = math.log(3/2)\n",
        "tf * idf "
      ],
      "execution_count": 38,
      "outputs": [
        {
          "output_type": "execute_result",
          "data": {
            "text/plain": [
              "0.13515503603605478"
            ]
          },
          "metadata": {
            "tags": []
          },
          "execution_count": 38
        }
      ]
    },
    {
      "cell_type": "code",
      "metadata": {
        "id": "WkS4x2dWyWxP",
        "outputId": "889d16e0-69d7-48ad-bd2f-6db0c2b9e8c8",
        "colab": {
          "base_uri": "https://localhost:8080/"
        }
      },
      "source": [
        "#tfidf('c', abc, D)\n",
        "tf = 1/3\n",
        "idf = math.log(3/1)\n",
        "tf * idf "
      ],
      "execution_count": 39,
      "outputs": [
        {
          "output_type": "execute_result",
          "data": {
            "text/plain": [
              "0.3662040962227032"
            ]
          },
          "metadata": {
            "tags": []
          },
          "execution_count": 39
        }
      ]
    },
    {
      "cell_type": "code",
      "metadata": {
        "id": "k4hj_Vzkya-_"
      },
      "source": [
        "def tfidf(t, d, D):\n",
        "  tf = d.count(t) / len(d)\n",
        "  idf = math.log(len(D) / (len([doc for doc in D if t in doc])))\n",
        "  return tf * idf"
      ],
      "execution_count": 40,
      "outputs": []
    },
    {
      "cell_type": "code",
      "metadata": {
        "id": "htXcJzoHypTQ",
        "outputId": "1718b076-8a86-4c7e-9cb3-492d6db1e464",
        "colab": {
          "base_uri": "https://localhost:8080/"
        }
      },
      "source": [
        "tfidf('c', abc, D)"
      ],
      "execution_count": 41,
      "outputs": [
        {
          "output_type": "execute_result",
          "data": {
            "text/plain": [
              "0.3662040962227032"
            ]
          },
          "metadata": {
            "tags": []
          },
          "execution_count": 41
        }
      ]
    },
    {
      "cell_type": "markdown",
      "metadata": {
        "id": "v3cUkF6ezxxv"
      },
      "source": [
        "## 詞頻矩陣"
      ]
    },
    {
      "cell_type": "code",
      "metadata": {
        "id": "Z03vPj3pyrJw"
      },
      "source": [
        "import jieba\n",
        "jieba.load_userdict('userdict.txt')\n",
        "ary = ['【更新】 柯P：洪智坤洩漏公文案還沒看到公文今處理',\n",
        "    '留洪智坤 柯：殘障求職不易',\n",
        "    '人事處議處洪智坤 柯P：不清楚議處結果']"
      ],
      "execution_count": 45,
      "outputs": []
    },
    {
      "cell_type": "code",
      "metadata": {
        "id": "wDFoDztYz5iw"
      },
      "source": [
        "corpus = []\n",
        "for title in ary:\n",
        "  corpus.append(' '.join(jieba.cut(title)))"
      ],
      "execution_count": 46,
      "outputs": []
    },
    {
      "cell_type": "code",
      "metadata": {
        "id": "XPAlw3eG0GKQ",
        "outputId": "c07bc28d-1185-416c-cdcd-20136eb45351",
        "colab": {
          "base_uri": "https://localhost:8080/",
          "height": 35
        }
      },
      "source": [
        "corpus[0]"
      ],
      "execution_count": 47,
      "outputs": [
        {
          "output_type": "execute_result",
          "data": {
            "application/vnd.google.colaboratory.intrinsic+json": {
              "type": "string"
            },
            "text/plain": [
              "'【 更新 】   柯P ： 洪智坤 洩漏 公文案 還 沒 看到 公文 今 處理'"
            ]
          },
          "metadata": {
            "tags": []
          },
          "execution_count": 47
        }
      ]
    },
    {
      "cell_type": "code",
      "metadata": {
        "id": "cVXpCCcG0N2g"
      },
      "source": [
        "from sklearn.feature_extraction.text import CountVectorizer\n",
        "vectorizer = CountVectorizer()\n",
        "X = vectorizer.fit_transform(corpus)"
      ],
      "execution_count": 48,
      "outputs": []
    },
    {
      "cell_type": "code",
      "metadata": {
        "id": "DQz5KSgP0iaB",
        "outputId": "6ed589ce-2631-4f0e-938e-c47bce7ab290",
        "colab": {
          "base_uri": "https://localhost:8080/"
        }
      },
      "source": [
        "X"
      ],
      "execution_count": 49,
      "outputs": [
        {
          "output_type": "execute_result",
          "data": {
            "text/plain": [
              "<3x15 sparse matrix of type '<class 'numpy.int64'>'\n",
              "\twith 18 stored elements in Compressed Sparse Row format>"
            ]
          },
          "metadata": {
            "tags": []
          },
          "execution_count": 49
        }
      ]
    },
    {
      "cell_type": "code",
      "metadata": {
        "id": "Szf4TuUk0qXE",
        "outputId": "693566d3-0315-4838-8f8f-620e028eca93",
        "colab": {
          "base_uri": "https://localhost:8080/"
        }
      },
      "source": [
        "print(vectorizer.get_feature_names())"
      ],
      "execution_count": 51,
      "outputs": [
        {
          "output_type": "stream",
          "text": [
            "['不易', '人事處', '公文', '公文案', '更新', '柯p', '殘障', '求職', '洩漏', '洪智坤', '清楚', '看到', '結果', '處理', '議處']\n"
          ],
          "name": "stdout"
        }
      ]
    },
    {
      "cell_type": "code",
      "metadata": {
        "id": "aZFqrtJh0i_g",
        "outputId": "fa13a732-1981-4f42-e454-8f8de69c1b1f",
        "colab": {
          "base_uri": "https://localhost:8080/"
        }
      },
      "source": [
        "X.toarray()"
      ],
      "execution_count": 50,
      "outputs": [
        {
          "output_type": "execute_result",
          "data": {
            "text/plain": [
              "array([[0, 0, 1, 1, 1, 1, 0, 0, 1, 1, 0, 1, 0, 1, 0],\n",
              "       [1, 0, 0, 0, 0, 0, 1, 1, 0, 1, 0, 0, 0, 0, 0],\n",
              "       [0, 1, 0, 0, 0, 1, 0, 0, 0, 1, 1, 0, 1, 0, 2]])"
            ]
          },
          "metadata": {
            "tags": []
          },
          "execution_count": 50
        }
      ]
    },
    {
      "cell_type": "code",
      "metadata": {
        "id": "muGwmqjB0n-R",
        "outputId": "9484e083-1b2d-446f-8ca7-4f9b12d0792a",
        "colab": {
          "base_uri": "https://localhost:8080/"
        }
      },
      "source": [
        "math.sqrt(((X[0] - X[1]).toarray() ** 2).sum())"
      ],
      "execution_count": 59,
      "outputs": [
        {
          "output_type": "execute_result",
          "data": {
            "text/plain": [
              "3.1622776601683795"
            ]
          },
          "metadata": {
            "tags": []
          },
          "execution_count": 59
        }
      ]
    },
    {
      "cell_type": "code",
      "metadata": {
        "id": "phNkPZe503Jz",
        "outputId": "5887a1dd-acd9-4e2a-8c45-6b8b9601b68b",
        "colab": {
          "base_uri": "https://localhost:8080/"
        }
      },
      "source": [
        "math.sqrt(((X[1] - X[2]).toarray() ** 2).sum())"
      ],
      "execution_count": 60,
      "outputs": [
        {
          "output_type": "execute_result",
          "data": {
            "text/plain": [
              "3.3166247903554"
            ]
          },
          "metadata": {
            "tags": []
          },
          "execution_count": 60
        }
      ]
    },
    {
      "cell_type": "code",
      "metadata": {
        "id": "Myg1DX8q1Nlh",
        "outputId": "2d72a29c-35b7-461a-fb06-07af82a7b9b5",
        "colab": {
          "base_uri": "https://localhost:8080/"
        }
      },
      "source": [
        "math.sqrt(((X[0] - X[2]).toarray() ** 2).sum())"
      ],
      "execution_count": 61,
      "outputs": [
        {
          "output_type": "execute_result",
          "data": {
            "text/plain": [
              "3.605551275463989"
            ]
          },
          "metadata": {
            "tags": []
          },
          "execution_count": 61
        }
      ]
    },
    {
      "cell_type": "code",
      "metadata": {
        "id": "TGtcsglo1-JK"
      },
      "source": [
        "#   台大 意外 校長 管中閔 集體創傷治療 ...................... \n",
        "#[0]  1   1  1   1     1   0  0  0  0  0  0  0\n",
        "#[1]  1   1  1   1     1   1  1  1  1  1  1  1"
      ],
      "execution_count": null,
      "outputs": []
    },
    {
      "cell_type": "code",
      "metadata": {
        "id": "z4I4x43Q3D4U",
        "outputId": "13a92655-f468-43e8-bdb4-c7b58bf0cbce",
        "colab": {
          "base_uri": "https://localhost:8080/"
        }
      },
      "source": [
        "ary"
      ],
      "execution_count": 64,
      "outputs": [
        {
          "output_type": "execute_result",
          "data": {
            "text/plain": [
              "['【更新】 柯P：洪智坤洩漏公文案還沒看到公文今處理', '留洪智坤 柯：殘障求職不易', '人事處議處洪智坤 柯P：不清楚議處結果']"
            ]
          },
          "metadata": {
            "tags": []
          },
          "execution_count": 64
        }
      ]
    },
    {
      "cell_type": "code",
      "metadata": {
        "id": "Or_hAhLa245-",
        "outputId": "e05f10d9-661b-454c-cbc3-f14c80b90956",
        "colab": {
          "base_uri": "https://localhost:8080/"
        }
      },
      "source": [
        "from sklearn.metrics.pairwise import cosine_distances, euclidean_distances\n",
        "euclidean_distances(X)"
      ],
      "execution_count": 62,
      "outputs": [
        {
          "output_type": "execute_result",
          "data": {
            "text/plain": [
              "array([[0.        , 3.16227766, 3.60555128],\n",
              "       [3.16227766, 0.        , 3.31662479],\n",
              "       [3.60555128, 3.31662479, 0.        ]])"
            ]
          },
          "metadata": {
            "tags": []
          },
          "execution_count": 62
        }
      ]
    },
    {
      "cell_type": "code",
      "metadata": {
        "id": "sGPomihT3AwW",
        "outputId": "cec23156-fa06-4c1f-a4bb-5b2423543945",
        "colab": {
          "base_uri": "https://localhost:8080/"
        }
      },
      "source": [
        "cosine_distances(X)"
      ],
      "execution_count": 63,
      "outputs": [
        {
          "output_type": "execute_result",
          "data": {
            "text/plain": [
              "array([[0.        , 0.8232233 , 0.76429774],\n",
              "       [0.8232233 , 0.        , 0.83333333],\n",
              "       [0.76429774, 0.83333333, 0.        ]])"
            ]
          },
          "metadata": {
            "tags": []
          },
          "execution_count": 63
        }
      ]
    },
    {
      "cell_type": "code",
      "metadata": {
        "id": "niFte_yr3ClV"
      },
      "source": [
        "from sklearn.feature_extraction.text import TfidfVectorizer\n",
        "vectorizer = TfidfVectorizer()\n",
        "X = vectorizer.fit_transform(corpus)"
      ],
      "execution_count": 65,
      "outputs": []
    },
    {
      "cell_type": "code",
      "metadata": {
        "id": "A7AOvMMM3gXl",
        "outputId": "dc02243f-1b61-44a8-e81f-c28cab386b13",
        "colab": {
          "base_uri": "https://localhost:8080/"
        }
      },
      "source": [
        "X.toarray()"
      ],
      "execution_count": 66,
      "outputs": [
        {
          "output_type": "execute_result",
          "data": {
            "text/plain": [
              "array([[0.        , 0.        , 0.37994462, 0.37994462, 0.37994462,\n",
              "        0.28895767, 0.        , 0.        , 0.37994462, 0.22440141,\n",
              "        0.        , 0.37994462, 0.        , 0.37994462, 0.        ],\n",
              "       [0.54645401, 0.        , 0.        , 0.        , 0.        ,\n",
              "        0.        , 0.54645401, 0.54645401, 0.        , 0.32274454,\n",
              "        0.        , 0.        , 0.        , 0.        , 0.        ],\n",
              "       [0.        , 0.35517252, 0.        , 0.        , 0.        ,\n",
              "        0.27011786, 0.        , 0.        , 0.        , 0.20977061,\n",
              "        0.35517252, 0.        , 0.35517252, 0.        , 0.71034504]])"
            ]
          },
          "metadata": {
            "tags": []
          },
          "execution_count": 66
        }
      ]
    },
    {
      "cell_type": "code",
      "metadata": {
        "id": "KTjLfINE3iE1",
        "outputId": "0e984a96-d256-4a98-9718-b741c6d86ab4",
        "colab": {
          "base_uri": "https://localhost:8080/"
        }
      },
      "source": [
        "cosine_distances(X)"
      ],
      "execution_count": 67,
      "outputs": [
        {
          "output_type": "execute_result",
          "data": {
            "text/plain": [
              "array([[0.        , 0.92757567, 0.87487455],\n",
              "       [0.92757567, 0.        , 0.93229768],\n",
              "       [0.87487455, 0.93229768, 0.        ]])"
            ]
          },
          "metadata": {
            "tags": []
          },
          "execution_count": 67
        }
      ]
    },
    {
      "cell_type": "markdown",
      "metadata": {
        "id": "w1PwTag233KT"
      },
      "source": [
        "## 新聞文字分析"
      ]
    },
    {
      "cell_type": "code",
      "metadata": {
        "id": "QHknLyWn3mNW"
      },
      "source": [
        "import pandas\n",
        "news = pandas.read_excel('https://raw.githubusercontent.com/ywchiu/tibame_tm/master/data/20150628news.xlsx', index_col = 0)"
      ],
      "execution_count": 70,
      "outputs": []
    },
    {
      "cell_type": "code",
      "metadata": {
        "id": "ZCg5z5Jw4Fxn",
        "outputId": "267ada48-e7c2-43fc-a3ee-526181e85880",
        "colab": {
          "base_uri": "https://localhost:8080/",
          "height": 288
        }
      },
      "source": [
        "news.head()"
      ],
      "execution_count": 71,
      "outputs": [
        {
          "output_type": "execute_result",
          "data": {
            "text/html": [
              "<div>\n",
              "<style scoped>\n",
              "    .dataframe tbody tr th:only-of-type {\n",
              "        vertical-align: middle;\n",
              "    }\n",
              "\n",
              "    .dataframe tbody tr th {\n",
              "        vertical-align: top;\n",
              "    }\n",
              "\n",
              "    .dataframe thead th {\n",
              "        text-align: right;\n",
              "    }\n",
              "</style>\n",
              "<table border=\"1\" class=\"dataframe\">\n",
              "  <thead>\n",
              "    <tr style=\"text-align: right;\">\n",
              "      <th></th>\n",
              "      <th>category</th>\n",
              "      <th>description</th>\n",
              "      <th>pubdate</th>\n",
              "      <th>title</th>\n",
              "    </tr>\n",
              "  </thead>\n",
              "  <tbody>\n",
              "    <tr>\n",
              "      <th>0</th>\n",
              "      <td>社會/生活</td>\n",
              "      <td>新北市八仙水上樂園昨晚發生粉塵爆炸，新北市衛生局統計到目前為止，由救護車送醫再加上自行送醫的...</td>\n",
              "      <td>Sun, 28 Jun 2015 07:40:00 +0800</td>\n",
              "      <td>八仙塵爆  五相關人依公共危險重傷害法辦</td>\n",
              "    </tr>\n",
              "    <tr>\n",
              "      <th>1</th>\n",
              "      <td>社會/生活</td>\n",
              "      <td>新北市八仙樂園昨天晚上(6/27)舉辦活動，過程中噴灑大量玉米粉而引發粉塵爆炸，根據最新統計...</td>\n",
              "      <td>Sun, 28 Jun 2015 07:40:00 +0800</td>\n",
              "      <td>八仙樂園意外 病患持續增加中</td>\n",
              "    </tr>\n",
              "    <tr>\n",
              "      <th>2</th>\n",
              "      <td>財經/要聞</td>\n",
              "      <td>希臘債務違約限期逼近，資金持續外流。路透社引述三間銀行的消息指出，希臘國內有3分之1的自動櫃...</td>\n",
              "      <td>Sun, 28 Jun 2015 07:40:00 +0800</td>\n",
              "      <td>希臘國內三分一自動櫃員機現金短缺</td>\n",
              "    </tr>\n",
              "    <tr>\n",
              "      <th>3</th>\n",
              "      <td>社會/生活</td>\n",
              "      <td>台鐵「新基隆車站」第一階段工程本月底完成，台鐵表示，明天（29號）啟用後，由於南站周邊道路尚...</td>\n",
              "      <td>Sun, 28 Jun 2015 07:40:00 +0800</td>\n",
              "      <td>台鐵新基隆車站29日正式啟用</td>\n",
              "    </tr>\n",
              "    <tr>\n",
              "      <th>4</th>\n",
              "      <td>財經/要聞</td>\n",
              "      <td>《中國時報》\\n●樂園變煉獄 派對驚爆 逾300人遭火紋身\\n八仙樂園昨晚舉辦「COLOR ...</td>\n",
              "      <td>Sun, 28 Jun 2015 07:38:17 +0800</td>\n",
              "      <td>6月28日各報頭版要聞</td>\n",
              "    </tr>\n",
              "  </tbody>\n",
              "</table>\n",
              "</div>"
            ],
            "text/plain": [
              "  category  ...                 title\n",
              "0    社會/生活  ...  八仙塵爆  五相關人依公共危險重傷害法辦\n",
              "1    社會/生活  ...        八仙樂園意外 病患持續增加中\n",
              "2    財經/要聞  ...      希臘國內三分一自動櫃員機現金短缺\n",
              "3    社會/生活  ...        台鐵新基隆車站29日正式啟用\n",
              "4    財經/要聞  ...           6月28日各報頭版要聞\n",
              "\n",
              "[5 rows x 4 columns]"
            ]
          },
          "metadata": {
            "tags": []
          },
          "execution_count": 71
        }
      ]
    },
    {
      "cell_type": "code",
      "metadata": {
        "id": "otqDKUWB4GRn"
      },
      "source": [
        "titles = []\n",
        "corpus = []\n",
        "for idx, rec in news.iterrows():\n",
        "  titles.append(rec['title'])\n",
        "  corpus.append(' '.join(jieba.cut(rec['description'])))"
      ],
      "execution_count": 72,
      "outputs": []
    },
    {
      "cell_type": "code",
      "metadata": {
        "id": "YaI4ihwf4cru",
        "outputId": "076ebb16-4ee3-4d43-adbb-41d0b6fd33cc",
        "colab": {
          "base_uri": "https://localhost:8080/",
          "height": 35
        }
      },
      "source": [
        "titles[0]"
      ],
      "execution_count": 73,
      "outputs": [
        {
          "output_type": "execute_result",
          "data": {
            "application/vnd.google.colaboratory.intrinsic+json": {
              "type": "string"
            },
            "text/plain": [
              "'八仙塵爆  五相關人依公共危險重傷害法辦'"
            ]
          },
          "metadata": {
            "tags": []
          },
          "execution_count": 73
        }
      ]
    },
    {
      "cell_type": "code",
      "metadata": {
        "id": "M089Itvq4eQ3",
        "outputId": "e3875d88-434c-4ae8-f319-71e7e1da6093",
        "colab": {
          "base_uri": "https://localhost:8080/",
          "height": 224
        }
      },
      "source": [
        "corpus[0]"
      ],
      "execution_count": 74,
      "outputs": [
        {
          "output_type": "execute_result",
          "data": {
            "application/vnd.google.colaboratory.intrinsic+json": {
              "type": "string"
            },
            "text/plain": [
              "'新 北市 八仙水 上 樂園 昨晚 發生 粉塵 爆炸 ， 新 北市 衛生局 統計 到 目前 為止 ， 由 救護車 送醫 再 加上 自行 送醫 的 人數 ， 已經 有 474 人 ， 其 中 125 人 重傷 ； 而 新北 市長 朱立倫 昨晚 到 現場 坐鎮 指揮 了解 狀況 ， 並 馬上 要求 追究 責任 徹查 ， 並 要 八仙 樂園 立刻 關園 停業 ， 八仙 樂園 業者 雖然 表示 活動 是 外包 的 ， 但 也 說 會 配合 暫時 停止 營業 接受 調查 。 警方 今天 凌晨 也 帶回 五 名 相關 人 漏夜 偵訊 ， 包括 現場 呂姓 活動 負責人 、 邱姓 硬體 設備 人員 、 和 廖姓 特效 人員 ， 以及 兩 名 在 現場 噴灑 彩色 粉塵 的 2 名 工作 人員 ， 訊後 將 依 業務 過失 重大 傷害 與 公共 危險 罪嫌 偵辦 ， 統一 移送 士林 地檢署 。 檢警 偵辦 重點 在於 主辦 單位 辦 這 個 活動 時 ， 到底 有沒有 做好 安全 上 的 防備 ； 據了解 主辦人 表示 彩色 派對 今年 是 第 四 次 舉辦 ， 去年 也 才 在 高雄 西子灣 辦過 ， 不 知道 為何 這 次 會 造成 這麼 嚴重 的 意外 ； 但 警方 對 這樣 的 說法 保留 態度 。 而 士林 地檢署 今天 凌晨 也 已經 由 3 名 檢察官 ， 連夜 到 八仙 樂園 了解 情況 ， 並 扣押 噴發 氣體 和 粉塵 的 鋼瓶 。 據了解 ， 檢方 人員 到 現場 後 發現 ， 舞台 設 在 游泳池 中間 ， 其實 等於 是 半 密閉 空間 ， 而且 地上 四散 菸蒂 和 打火機 ， 不 排除 是 有 人 不慎 點菸 引燃 ， 造成 這 次 的 意外 。 而 外界 關注 昨晚 現場 到底 有沒有 在 舞台 上 噴火 ， 據了解 ， 昨晚 器材 中 並 沒有 火焰 效果器 ， 檢警 初步 研判 ， 辦 趴 用 的 粉彩 主要 成分 為 玉米粉 ， 在 一定 的 空間 、 一定 的 濃度 ， 遇到 靜電 或 火花 ， 不用 高溫 就 很 容易 引發 閃燃 現象 ，   可能 是 大量 接觸 熱能 ， 像 是 舞台 光源 、 器材 電流 、 點菸 等 引發 爆炸 ， 但 詳細 起火 原因 和 起火點 ， 還是 要 經由 火場 鑑識 釐清 。 檢警 近期 將 陸續 傳喚 傷者 ， 並 調閱 監視 錄影 畫面 ， 了解 事發 經過 。'"
            ]
          },
          "metadata": {
            "tags": []
          },
          "execution_count": 74
        }
      ]
    },
    {
      "cell_type": "code",
      "metadata": {
        "id": "UIVRJ5ol4f2I"
      },
      "source": [
        "from sklearn.feature_extraction.text import CountVectorizer\n",
        "vectorizer = CountVectorizer()\n",
        "X = vectorizer.fit_transform(corpus)"
      ],
      "execution_count": 75,
      "outputs": []
    },
    {
      "cell_type": "code",
      "metadata": {
        "id": "iaShDVvG4rkI",
        "outputId": "bee7d763-57e6-4e28-8908-9c369a64ba4c",
        "colab": {
          "base_uri": "https://localhost:8080/"
        }
      },
      "source": [
        "X"
      ],
      "execution_count": 76,
      "outputs": [
        {
          "output_type": "execute_result",
          "data": {
            "text/plain": [
              "<147x11138 sparse matrix of type '<class 'numpy.int64'>'\n",
              "\twith 22639 stored elements in Compressed Sparse Row format>"
            ]
          },
          "metadata": {
            "tags": []
          },
          "execution_count": 76
        }
      ]
    },
    {
      "cell_type": "code",
      "metadata": {
        "id": "bkEY3qhX4sGH"
      },
      "source": [
        "# similarity = 1 - distance, distance = 1 - similarity\n",
        "from sklearn.metrics.pairwise import cosine_distances, cosine_similarity\n",
        "cs = cosine_distances(X)"
      ],
      "execution_count": 77,
      "outputs": []
    },
    {
      "cell_type": "code",
      "metadata": {
        "id": "BfaUTTz54_tZ",
        "outputId": "f2a3dcfb-e054-4e04-b631-5af0cbc79f11",
        "colab": {
          "base_uri": "https://localhost:8080/"
        }
      },
      "source": [
        "cs[0].argsort()"
      ],
      "execution_count": 79,
      "outputs": [
        {
          "output_type": "execute_result",
          "data": {
            "text/plain": [
              "array([  0,  25,   4, 100, 113, 117,  16,  91, 102, 143, 103, 127,  11,\n",
              "       120,  21,  95, 123, 106,  87, 144,  81,  90,   6,  97,  88,  98,\n",
              "        93,  89,   1,  86,  41, 104, 112, 101, 105,  76,  18, 130,  22,\n",
              "       140, 118,  83, 141,  77,  96,  36, 114, 135,  66,  55, 122,  64,\n",
              "        28,  99,  73,  37, 109,   9, 115,  10, 107,  70,  94,  84,  79,\n",
              "        29,  20,  75, 124,  27, 126,  63,  68,  24,  26,   5,  39,  14,\n",
              "       125,  85, 108,  71, 137, 116,  67,  54,  52,  80,  13,  58,  62,\n",
              "        72,  78,  40,  92,  12,  38,  42, 132,  65,  15,  19,  31,  56,\n",
              "       145, 142,  51,   3, 133,  74, 134,  59, 111,  46, 146,  44, 136,\n",
              "        60, 110,  43,  47,  57,  69,  45,  61,  50,  49,  33,  32, 131,\n",
              "        82,   7, 121,  30, 139, 119,  34, 138,  48,  17,   2,  53, 128,\n",
              "       129,   8,  23,  35])"
            ]
          },
          "metadata": {
            "tags": []
          },
          "execution_count": 79
        }
      ]
    },
    {
      "cell_type": "code",
      "metadata": {
        "id": "_5nDOajU5CEJ",
        "outputId": "acc9ff9a-f19f-4dbc-9551-50ffa8522b81",
        "colab": {
          "base_uri": "https://localhost:8080/"
        }
      },
      "source": [
        "import numpy as np\n",
        "a = np.array([50,30,60,70,40])\n",
        "a.argsort()"
      ],
      "execution_count": 80,
      "outputs": [
        {
          "output_type": "execute_result",
          "data": {
            "text/plain": [
              "array([1, 4, 0, 2, 3])"
            ]
          },
          "metadata": {
            "tags": []
          },
          "execution_count": 80
        }
      ]
    },
    {
      "cell_type": "code",
      "metadata": {
        "id": "JBO-2SO-5Of5",
        "outputId": "6ef2a7f2-6919-40e3-d572-17abfe2f6e58",
        "colab": {
          "base_uri": "https://localhost:8080/"
        }
      },
      "source": [
        "print(titles[0])\n",
        "print('============================')\n",
        "for t in cs[0].argsort()[1:10]:\n",
        "  print(titles[t])"
      ],
      "execution_count": 85,
      "outputs": [
        {
          "output_type": "stream",
          "text": [
            "八仙塵爆  五相關人依公共危險重傷害法辦\n",
            "============================\n",
            "八仙樂園粉塵燃爆 400人傷 負責人被移送\n",
            "6月28日各報頭版要聞\n",
            "八仙樂園粉塵瞬燃　還原失事現場影片曝光\n",
            "八仙樂園爆炸228人輕重傷 朱立倫：無限期停業\n",
            "八仙樂園爆炸意外 朱立倫：立即停園接受調查\n",
            "八仙樂園貼出暫停營業海報\n",
            "彩色派對主辦人：風勢太大，引燃粉塵\n",
            "八仙樂園爆炸案 士檢派3檢察官現場指揮\n",
            "【八仙意外】讓專業的來！柯文哲指示啟動EOC\n"
          ],
          "name": "stdout"
        }
      ]
    },
    {
      "cell_type": "code",
      "metadata": {
        "id": "zcE0GQB45ZRZ",
        "outputId": "6eb0aab2-1483-4a18-aefc-b35cc049db5e",
        "colab": {
          "base_uri": "https://localhost:8080/",
          "height": 35
        }
      },
      "source": [
        "titles[2]"
      ],
      "execution_count": 89,
      "outputs": [
        {
          "output_type": "execute_result",
          "data": {
            "application/vnd.google.colaboratory.intrinsic+json": {
              "type": "string"
            },
            "text/plain": [
              "'希臘國內三分一自動櫃員機現金短缺'"
            ]
          },
          "metadata": {
            "tags": []
          },
          "execution_count": 89
        }
      ]
    },
    {
      "cell_type": "code",
      "metadata": {
        "id": "0GBELqyB5wB6",
        "outputId": "0d0a9532-9378-4237-8327-4f419b80bec4",
        "colab": {
          "base_uri": "https://localhost:8080/"
        }
      },
      "source": [
        "print(titles[2])\n",
        "print('============================')\n",
        "for t in cs[2].argsort()[1:10]:\n",
        "  print(titles[t])"
      ],
      "execution_count": 90,
      "outputs": [
        {
          "output_type": "stream",
          "text": [
            "希臘國內三分一自動櫃員機現金短缺\n",
            "============================\n",
            "希臘1／3提款機錢被提光\n",
            "呂紹煒專欄：違約與退出 希臘與歐洲才能重生(上)\n",
            "確保銀行穩定 希臘續與ECB緊密合作\n",
            "希臘違約在即  歐盟全力穩定經濟\n",
            "歐元區財長拒希臘延長救助計劃\n",
            "希臘脫歐變可能 歐洲衝擊大\n",
            "希債協議  法國願盡最後斡旋努力\n",
            "希臘盼展延債務 歐元區拒絕\n",
            "希臘態度強硬 歐元區耐心漸失\n"
          ],
          "name": "stdout"
        }
      ]
    },
    {
      "cell_type": "code",
      "metadata": {
        "id": "31bQnvND53aq"
      },
      "source": [
        "from sklearn.cluster import KMeans\n",
        "kmeans = KMeans(n_clusters=4, init = 'k-means++', random_state=42)"
      ],
      "execution_count": 103,
      "outputs": []
    },
    {
      "cell_type": "code",
      "metadata": {
        "id": "6jN9xhgd6XAb"
      },
      "source": [
        "topics = kmeans.fit_predict(cs)"
      ],
      "execution_count": 104,
      "outputs": []
    },
    {
      "cell_type": "code",
      "metadata": {
        "id": "LaFR9W6a6akL",
        "outputId": "a37fcc57-97ce-4c06-e3d8-0118830209d3",
        "colab": {
          "base_uri": "https://localhost:8080/"
        }
      },
      "source": [
        "topics"
      ],
      "execution_count": 105,
      "outputs": [
        {
          "output_type": "execute_result",
          "data": {
            "text/plain": [
              "array([0, 0, 2, 3, 0, 3, 0, 3, 3, 3, 3, 0, 2, 3, 1, 3, 0, 3, 3, 3, 1, 0,\n",
              "       3, 3, 2, 0, 3, 3, 3, 3, 3, 3, 3, 3, 3, 3, 3, 2, 1, 2, 3, 0, 2, 3,\n",
              "       3, 3, 3, 3, 3, 3, 3, 3, 3, 3, 3, 3, 3, 3, 3, 3, 3, 3, 3, 3, 3, 3,\n",
              "       3, 3, 3, 3, 3, 3, 3, 3, 3, 3, 3, 3, 3, 3, 3, 3, 2, 3, 2, 3, 3, 0,\n",
              "       0, 0, 0, 0, 2, 0, 3, 0, 0, 0, 0, 3, 0, 0, 0, 0, 0, 0, 0, 3, 3, 3,\n",
              "       1, 1, 0, 0, 2, 3, 1, 0, 0, 1, 0, 1, 3, 0, 1, 1, 1, 0, 1, 3, 3, 3,\n",
              "       3, 3, 3, 3, 3, 1, 3, 3, 3, 3, 1, 0, 0, 1, 1], dtype=int32)"
            ]
          },
          "metadata": {
            "tags": []
          },
          "execution_count": 105
        }
      ]
    },
    {
      "cell_type": "code",
      "metadata": {
        "id": "ln-d9yJp6fBr",
        "outputId": "8fc92bb9-5a4c-4b94-dbea-4f8845e012e5",
        "colab": {
          "base_uri": "https://localhost:8080/"
        }
      },
      "source": [
        "import numpy as np\n",
        "np_titles = np.array(titles)\n",
        "np_titles[topics == 0].tolist()"
      ],
      "execution_count": 110,
      "outputs": [
        {
          "output_type": "execute_result",
          "data": {
            "text/plain": [
              "['八仙塵爆  五相關人依公共危險重傷害法辦',\n",
              " '八仙樂園意外 病患持續增加中',\n",
              " '6月28日各報頭版要聞',\n",
              " '八仙樂園舞台大火 逾400人輕重傷',\n",
              " '八仙樂園意外 毛揆取消視察臺東行程',\n",
              " '八仙樂園貼出暫停營業海報',\n",
              " '八仙樂園爆炸案 專家認玉米粉危險性高應管制使用',\n",
              " '八仙樂園粉塵燃爆 400人傷 負責人被移送',\n",
              " '八仙案  新店慈濟4傷者危急',\n",
              " '侯友宜探視傷者：追究責任',\n",
              " '八仙樂園火警  國軍加入救援',\n",
              " '八仙樂園爆炸案災害應變中心\\u30001時30分一級開設',\n",
              " '八仙派對彩粉釀大禍  衛福部：研議加強管理',\n",
              " '彩色派對主辦人：風勢太大，引燃粉塵',\n",
              " '八仙樂園大火  傷者查詢電話',\n",
              " '派對彩粉首次釀禍  蔣丙煌：研議管理',\n",
              " '八仙樂園火警受傷名單一覽表',\n",
              " '00：35統計\\u3000八仙大火重傷97人、輕傷132人',\n",
              " '衛福部長：北北基醫護人員全力動員',\n",
              " '八仙樂園粉塵瞬燃\\u3000還原失事現場影片曝光',\n",
              " '八仙意外毛揆取消台東熱氣球活動',\n",
              " '八仙樂園爆炸案 士檢派3檢察官現場指揮',\n",
              " '八仙樂園爆炸案 3檢察官展開調查',\n",
              " '八仙爆炸案   陳國恩：全力支援',\n",
              " '八仙大火傷患爆量  衛福調度醫院',\n",
              " '八仙樂園意外 洪秀柱：為傷者祈福',\n",
              " '陳國恩指示警方全力動員 協助救護交通順暢',\n",
              " '八仙樂園爆炸228人輕重傷 朱立倫：無限期停業',\n",
              " '八仙樂園爆炸意外 朱立倫：立即停園接受調查',\n",
              " '北榮33名八里傷患  2/3傷重',\n",
              " '八仙樂園塵爆215傷\\u3000朱立倫下令即刻停業',\n",
              " '八仙樂園爆炸 朱立倫4點指示',\n",
              " '【八仙意外】馬英九、毛治國第一時間得知\\u3000指示全',\n",
              " '【八仙意外】讓專業的來！柯文哲指示啟動EOC',\n",
              " '八仙水上樂園爆炸逾百人傷\\u3000三軍總醫院收治傷患']"
            ]
          },
          "metadata": {
            "tags": []
          },
          "execution_count": 110
        }
      ]
    },
    {
      "cell_type": "code",
      "metadata": {
        "id": "EbqguKXM6nDd"
      },
      "source": [
        "from sklearn.decomposition import PCA\n",
        "pca = PCA(n_components=2)\n",
        "cs_pca = pca.fit_transform(cs)"
      ],
      "execution_count": 114,
      "outputs": []
    },
    {
      "cell_type": "code",
      "metadata": {
        "id": "ejYDvJ1w8T3h",
        "outputId": "32d0c50e-e4c2-4d45-d25d-69498658972a",
        "colab": {
          "base_uri": "https://localhost:8080/",
          "height": 286
        }
      },
      "source": [
        "#cs_pca\n",
        "from matplotlib import pyplot as plt\n",
        "plt.scatter(cs_pca[:,0],cs_pca[:,1], c = topics)"
      ],
      "execution_count": 119,
      "outputs": [
        {
          "output_type": "execute_result",
          "data": {
            "text/plain": [
              "<matplotlib.collections.PathCollection at 0x7f955885ae10>"
            ]
          },
          "metadata": {
            "tags": []
          },
          "execution_count": 119
        },
        {
          "output_type": "display_data",
          "data": {
            "image/png": "[encoded data removed]",
            "text/plain": [
              "<Figure size 432x288 with 1 Axes>"
            ]
          },
          "metadata": {
            "tags": [],
            "needs_background": "light"
          }
        }
      ]
    },
    {
      "cell_type": "markdown",
      "metadata": {
        "id": "xcjueQFDBip2"
      },
      "source": [
        "## 正負情緒判別"
      ]
    },
    {
      "cell_type": "code",
      "metadata": {
        "id": "uNTS4vXO8jFw"
      },
      "source": [
        "import pandas\n",
        "df = pandas.read_excel('https://raw.githubusercontent.com/ywchiu/tibamepy/master/data/yahoo_movie.xlsx', index_col = 0)"
      ],
      "execution_count": 122,
      "outputs": []
    },
    {
      "cell_type": "code",
      "metadata": {
        "id": "qffyKhLYBobe",
        "outputId": "cf745caf-b78f-4071-98b0-4dfdd64eb1b4",
        "colab": {
          "base_uri": "https://localhost:8080/",
          "height": 203
        }
      },
      "source": [
        "df.head()"
      ],
      "execution_count": 123,
      "outputs": [
        {
          "output_type": "execute_result",
          "data": {
            "text/html": [
              "<div>\n",
              "<style scoped>\n",
              "    .dataframe tbody tr th:only-of-type {\n",
              "        vertical-align: middle;\n",
              "    }\n",
              "\n",
              "    .dataframe tbody tr th {\n",
              "        vertical-align: top;\n",
              "    }\n",
              "\n",
              "    .dataframe thead th {\n",
              "        text-align: right;\n",
              "    }\n",
              "</style>\n",
              "<table border=\"1\" class=\"dataframe\">\n",
              "  <thead>\n",
              "    <tr style=\"text-align: right;\">\n",
              "      <th></th>\n",
              "      <th>content</th>\n",
              "      <th>stars</th>\n",
              "      <th>title</th>\n",
              "      <th>status</th>\n",
              "    </tr>\n",
              "  </thead>\n",
              "  <tbody>\n",
              "    <tr>\n",
              "      <th>0</th>\n",
              "      <td>不知道耶! 看完整個無感\\r\\n有種覺得就是女兒\"給蕭\"害死了老爸\\r\\n然後...既然可以...</td>\n",
              "      <td>3</td>\n",
              "      <td>古墓奇兵</td>\n",
              "      <td>soso</td>\n",
              "    </tr>\n",
              "    <tr>\n",
              "      <th>1</th>\n",
              "      <td>很好看的動作片，不會浪費錢跟時間。很久沒有這樣的探險片。可說是女版的印第安那瓊。女主角跟爸爸...</td>\n",
              "      <td>5</td>\n",
              "      <td>古墓奇兵</td>\n",
              "      <td>good</td>\n",
              "    </tr>\n",
              "    <tr>\n",
              "      <th>2</th>\n",
              "      <td>說這個不好看的話，那我還真不知道，還有什麼片是您可以去看得了。電影好看，但話說羅拉有裝可以撿...</td>\n",
              "      <td>5</td>\n",
              "      <td>古墓奇兵</td>\n",
              "      <td>good</td>\n",
              "    </tr>\n",
              "    <tr>\n",
              "      <th>3</th>\n",
              "      <td>父女重逢真的很讓人感動，五顆星。</td>\n",
              "      <td>5</td>\n",
              "      <td>古墓奇兵</td>\n",
              "      <td>good</td>\n",
              "    </tr>\n",
              "    <tr>\n",
              "      <th>4</th>\n",
              "      <td>劇情雖然老套，但仍拍出新意，古墓能殺人的方式不就是機關和毒，要求亂七八糟的觀眾，你看喪尸片看多了。</td>\n",
              "      <td>4</td>\n",
              "      <td>古墓奇兵</td>\n",
              "      <td>good</td>\n",
              "    </tr>\n",
              "  </tbody>\n",
              "</table>\n",
              "</div>"
            ],
            "text/plain": [
              "                                             content  stars title status\n",
              "0  不知道耶! 看完整個無感\\r\\n有種覺得就是女兒\"給蕭\"害死了老爸\\r\\n然後...既然可以...      3  古墓奇兵   soso\n",
              "1  很好看的動作片，不會浪費錢跟時間。很久沒有這樣的探險片。可說是女版的印第安那瓊。女主角跟爸爸...      5  古墓奇兵   good\n",
              "2  說這個不好看的話，那我還真不知道，還有什麼片是您可以去看得了。電影好看，但話說羅拉有裝可以撿...      5  古墓奇兵   good\n",
              "3                                   父女重逢真的很讓人感動，五顆星。      5  古墓奇兵   good\n",
              "4  劇情雖然老套，但仍拍出新意，古墓能殺人的方式不就是機關和毒，要求亂七八糟的觀眾，你看喪尸片看多了。      4  古墓奇兵   good"
            ]
          },
          "metadata": {
            "tags": []
          },
          "execution_count": 123
        }
      ]
    },
    {
      "cell_type": "code",
      "metadata": {
        "id": "tF50BckiBpjM",
        "outputId": "fbfc259d-7a67-4d9f-f708-f1379f35830a",
        "colab": {
          "base_uri": "https://localhost:8080/"
        }
      },
      "source": [
        "df['title'].value_counts()"
      ],
      "execution_count": 125,
      "outputs": [
        {
          "output_type": "execute_result",
          "data": {
            "text/plain": [
              "最終騎士       452\n",
              "奧創紀元       281\n",
              "攻殼機動隊      173\n",
              "最後的絕地武士    117\n",
              "古墓奇兵        89\n",
              "Name: title, dtype: int64"
            ]
          },
          "metadata": {
            "tags": []
          },
          "execution_count": 125
        }
      ]
    },
    {
      "cell_type": "code",
      "metadata": {
        "id": "vXSminxaB1M9"
      },
      "source": [
        "corpus = []\n",
        "tags = []\n",
        "for idx, rec in df[df['status'].isin(['good', 'bad'])].iterrows():\n",
        "  tags.append(rec.get('status'))\n",
        "  corpus.append(' '.join(jieba.cut(rec.get('content'))))"
      ],
      "execution_count": 127,
      "outputs": []
    },
    {
      "cell_type": "code",
      "metadata": {
        "id": "bQB-vp4PCZmf"
      },
      "source": [
        "from sklearn.feature_extraction.text import CountVectorizer, TfidfVectorizer\n",
        "#vectorizer = CountVectorizer()\n",
        "vectorizer = TfidfVectorizer(stop_words=['奧創'])\n",
        "X = vectorizer.fit_transform(corpus)"
      ],
      "execution_count": 150,
      "outputs": []
    },
    {
      "cell_type": "code",
      "metadata": {
        "id": "29inDQ_fCnUv"
      },
      "source": [
        "from sklearn.model_selection import train_test_split\n",
        "train_X, test_X, train_y, test_y = train_test_split(X, tags, test_size = 0.2, random_state = 42)"
      ],
      "execution_count": 151,
      "outputs": []
    },
    {
      "cell_type": "code",
      "metadata": {
        "id": "r4tITDKjCysv",
        "outputId": "a3fe2c56-ce5e-401a-c785-f3905abaa5f8",
        "colab": {
          "base_uri": "https://localhost:8080/"
        }
      },
      "source": [
        "train_X.shape"
      ],
      "execution_count": 152,
      "outputs": [
        {
          "output_type": "execute_result",
          "data": {
            "text/plain": [
              "(784, 4838)"
            ]
          },
          "metadata": {
            "tags": []
          },
          "execution_count": 152
        }
      ]
    },
    {
      "cell_type": "code",
      "metadata": {
        "id": "lXIMBr6mCz3P",
        "outputId": "0cf18500-a4c1-40de-d13b-a7a5fd5f577d",
        "colab": {
          "base_uri": "https://localhost:8080/"
        }
      },
      "source": [
        "test_X.shape"
      ],
      "execution_count": 153,
      "outputs": [
        {
          "output_type": "execute_result",
          "data": {
            "text/plain": [
              "(196, 4838)"
            ]
          },
          "metadata": {
            "tags": []
          },
          "execution_count": 153
        }
      ]
    },
    {
      "cell_type": "code",
      "metadata": {
        "id": "uLKeb-jyC1zP",
        "outputId": "bb19498f-dab4-4a5d-9543-add4cc529506",
        "colab": {
          "base_uri": "https://localhost:8080/"
        }
      },
      "source": [
        "from sklearn.naive_bayes import MultinomialNB\n",
        "clf = MultinomialNB(alpha=0.01)\n",
        "clf.fit(train_X, train_y)"
      ],
      "execution_count": 154,
      "outputs": [
        {
          "output_type": "execute_result",
          "data": {
            "text/plain": [
              "MultinomialNB(alpha=0.01, class_prior=None, fit_prior=True)"
            ]
          },
          "metadata": {
            "tags": []
          },
          "execution_count": 154
        }
      ]
    },
    {
      "cell_type": "code",
      "metadata": {
        "id": "5UWZtCXLDH5w"
      },
      "source": [
        "pred_y = clf.predict(test_X)"
      ],
      "execution_count": 155,
      "outputs": []
    },
    {
      "cell_type": "code",
      "metadata": {
        "id": "oXcxRP1rDM9A",
        "outputId": "60c970df-82a3-400c-f966-822dd93c95da",
        "colab": {
          "base_uri": "https://localhost:8080/"
        }
      },
      "source": [
        "from sklearn.metrics import accuracy_score, confusion_matrix\n",
        "accuracy_score(test_y, pred_y)"
      ],
      "execution_count": 156,
      "outputs": [
        {
          "output_type": "execute_result",
          "data": {
            "text/plain": [
              "0.7653061224489796"
            ]
          },
          "metadata": {
            "tags": []
          },
          "execution_count": 156
        }
      ]
    },
    {
      "cell_type": "code",
      "metadata": {
        "id": "t5uRj2WUDR9Q",
        "outputId": "de0682d2-a116-4c73-9626-11e0158c47ae",
        "colab": {
          "base_uri": "https://localhost:8080/"
        }
      },
      "source": [
        "confusion_matrix(test_y, pred_y)"
      ],
      "execution_count": 157,
      "outputs": [
        {
          "output_type": "execute_result",
          "data": {
            "text/plain": [
              "array([[54, 27],\n",
              "       [19, 96]])"
            ]
          },
          "metadata": {
            "tags": []
          },
          "execution_count": 157
        }
      ]
    },
    {
      "cell_type": "code",
      "metadata": {
        "id": "Xd1K5B2iDVbg",
        "outputId": "5536fcbc-6040-4c66-bf29-16ee0f5e993a",
        "colab": {
          "base_uri": "https://localhost:8080/"
        }
      },
      "source": [
        "s = '被炎柱煉獄杏壽郎圈粉了~~太感人'\n",
        "s_corpus = ' '.join(jieba.cut(s))\n",
        "s_vec = vectorizer.transform([s_corpus])\n",
        "s_vec"
      ],
      "execution_count": 158,
      "outputs": [
        {
          "output_type": "execute_result",
          "data": {
            "text/plain": [
              "<1x4838 sparse matrix of type '<class 'numpy.float64'>'\n",
              "\twith 1 stored elements in Compressed Sparse Row format>"
            ]
          },
          "metadata": {
            "tags": []
          },
          "execution_count": 158
        }
      ]
    },
    {
      "cell_type": "code",
      "metadata": {
        "id": "p6EHKjGyDyoB",
        "outputId": "637ca61d-9e49-4d14-8387-208d63399847",
        "colab": {
          "base_uri": "https://localhost:8080/"
        }
      },
      "source": [
        "clf.predict(s_vec)"
      ],
      "execution_count": 159,
      "outputs": [
        {
          "output_type": "execute_result",
          "data": {
            "text/plain": [
              "array(['good'], dtype='<U4')"
            ]
          },
          "metadata": {
            "tags": []
          },
          "execution_count": 159
        }
      ]
    },
    {
      "cell_type": "code",
      "metadata": {
        "id": "VXwN1RfTEe5E",
        "outputId": "43422465-8c63-4b41-affb-15baf106bf70",
        "colab": {
          "base_uri": "https://localhost:8080/"
        }
      },
      "source": [
        "clf.classes_"
      ],
      "execution_count": 160,
      "outputs": [
        {
          "output_type": "execute_result",
          "data": {
            "text/plain": [
              "array(['bad', 'good'], dtype='<U4')"
            ]
          },
          "metadata": {
            "tags": []
          },
          "execution_count": 160
        }
      ]
    },
    {
      "cell_type": "code",
      "metadata": {
        "id": "o7Q0a0PyED1U",
        "outputId": "761aba3a-86f8-4530-d620-a8634d52c0b2",
        "colab": {
          "base_uri": "https://localhost:8080/"
        }
      },
      "source": [
        "import operator\n",
        "coef_features_c1_c2 = []\n",
        "for index, features in enumerate(zip(vectorizer.get_feature_names(), \\\n",
        "  clf.feature_count_[0], clf.feature_count_[1])):\n",
        "  feat,c1,c2 = features\n",
        "  coef_features_c1_c2.append(tuple([c2/(c1 + 1), feat, c1, c2]))\n",
        "\n",
        "for i in sorted(coef_features_c1_c2, key = operator.itemgetter(0),reverse=True)[0:20]:\n",
        "  print(i)"
      ],
      "execution_count": 161,
      "outputs": [
        {
          "output_type": "stream",
          "text": [
            "(6.471355816537203, '不錯', 1.2527591069184867, 14.578405749814104)\n",
            "(5.031772479089554, '好看', 6.2859932698021765, 36.661460417822305)\n",
            "(3.5959291521551573, '雖然', 0.7251698131544235, 6.203588423540057)\n",
            "(2.9509649142280967, '不過', 0.7777079819696752, 5.245953882535746)\n",
            "(2.8756406965803922, '非常', 1.2291903806201514, 6.410350578936842)\n",
            "(2.8459890395662475, '刺激', 0.4969358919588743, 4.260263141448281)\n",
            "(2.8271341753719694, '感動', 0.08088989691879848, 3.0558207673934206)\n",
            "(2.755204565676412, '還可以', 0.9163375941464994, 5.279902088769786)\n",
            "(2.733178943799121, '希望', 0.290109128666517, 3.5260991056743554)\n",
            "(2.7133148222393837, '喜歡', 1.0301665906033626, 5.5084811018992985)\n",
            "(2.7035519703512896, '值得', 1.055760159296236, 5.55785442923502)\n",
            "(2.65676263434385, '但是', 0.7678723366638399, 4.696817166338641)\n",
            "(2.6138164268968582, '有些', 0.33777782660848044, 3.4967056587276226)\n",
            "(2.5169320242697095, '爽片', 1.963502571974712, 7.458934527408803)\n",
            "(2.478799483580887, '其實', 0.627292613286546, 4.033732089449682)\n",
            "(2.447638598289369, '很爽', 0.2765606570396252, 3.1245591372278243)\n",
            "(2.3697879788544554, '相當', 0.0, 2.3697879788544554)\n",
            "(2.2296991856156567, '效果', 0.0, 2.2296991856156567)\n",
            "(2.193757620073405, '當然', 0.0, 2.193757620073405)\n",
            "(2.1171421635164474, '期待', 1.5598507405777284, 5.4195679351859125)\n"
          ],
          "name": "stdout"
        }
      ]
    },
    {
      "cell_type": "code",
      "metadata": {
        "id": "j0l5P50hEmkj",
        "outputId": "664464d0-85a6-494d-dbf6-2fde7092c11f",
        "colab": {
          "base_uri": "https://localhost:8080/"
        }
      },
      "source": [
        "import operator\n",
        "coef_features_c1_c2 = []\n",
        "for index, features in enumerate(zip(vectorizer.get_feature_names(), \\\n",
        "  clf.feature_count_[0], clf.feature_count_[1])):\n",
        "  feat,c1,c2 = features\n",
        "  coef_features_c1_c2.append(tuple([c1/(c2 + 1), feat, c1, c2]))\n",
        "\n",
        "for i in sorted(coef_features_c1_c2, key = operator.itemgetter(0),reverse=True)[0:20]:\n",
        "  print(i)"
      ],
      "execution_count": 162,
      "outputs": [
        {
          "output_type": "stream",
          "text": [
            "(6.075246373442776, '睡著', 12.87764125304565, 1.1196903732725543)\n",
            "(4.402124212901476, '浪費', 7.204200091270568, 0.6365281266159961)\n",
            "(3.9560800185269995, '爛片', 7.519442491176544, 0.9007306363778558)\n",
            "(3.5639982953328024, '看到', 16.141579342338645, 3.529064832459848)\n",
            "(3.1940689955980615, '睡覺', 4.860370493896847, 0.5216861315754968)\n",
            "(2.931392653843438, '失望', 7.788642513095119, 1.6569768819210189)\n",
            "(2.914317241597906, '演什麼', 3.5769239404349573, 0.22736258406574403)\n",
            "(2.4044823263936883, '空洞', 3.5959516368653133, 0.49552009486325665)\n",
            "(2.2814030250594923, '只有', 4.817653703779228, 1.1117065467437952)\n",
            "(2.0807024685407303, '難看', 14.629259696772086, 6.030923410703742)\n",
            "(2.073551768556302, '四集', 2.2959618244615805, 0.10726043076326473)\n",
            "(2.021695889662221, '亂七八糟', 2.529498271257764, 0.25117644260551225)\n",
            "(1.9721644367100868, '無聊', 4.93569271497748, 1.5026780845977905)\n",
            "(1.9198916259333108, '爛透', 1.9198916259333108, 0.0)\n",
            "(1.9147255861808632, '超爛', 1.9147255861808632, 0.0)\n",
            "(1.816788110045233, '劇本', 2.9236313544666044, 0.6092307838770555)\n",
            "(1.7598073136479884, '五集', 2.6402945366894333, 0.5003316080191991)\n",
            "(1.7414319281510653, '完全', 6.007300382904436, 2.449632618877375)\n",
            "(1.6914526886055228, '爛爆', 1.6914526886055228, 0.0)\n",
            "(1.6847481692992519, '一星', 1.987529163096792, 0.1797188442255307)\n"
          ],
          "name": "stdout"
        }
      ]
    },
    {
      "cell_type": "code",
      "metadata": {
        "id": "vFoUcv5nE_-Z",
        "outputId": "868058b1-c1e9-4faf-cd74-5b8ecc7c004c",
        "colab": {
          "base_uri": "https://localhost:8080/"
        }
      },
      "source": [
        "from sklearn.svm import SVC\n",
        "clf = SVC(kernel = 'linear')\n",
        "clf.fit(train_X, train_y)\n",
        "pred_y = clf.predict(test_X)\n",
        "accuracy_score(test_y, pred_y)"
      ],
      "execution_count": 163,
      "outputs": [
        {
          "output_type": "execute_result",
          "data": {
            "text/plain": [
              "0.8163265306122449"
            ]
          },
          "metadata": {
            "tags": []
          },
          "execution_count": 163
        }
      ]
    },
    {
      "cell_type": "code",
      "metadata": {
        "id": "1ebeFPWMFeql",
        "outputId": "4b9950fb-d2e2-4108-dc39-386764499d7b",
        "colab": {
          "base_uri": "https://localhost:8080/"
        }
      },
      "source": [
        "confusion_matrix(test_y, pred_y)"
      ],
      "execution_count": 164,
      "outputs": [
        {
          "output_type": "execute_result",
          "data": {
            "text/plain": [
              "array([[ 56,  25],\n",
              "       [ 11, 104]])"
            ]
          },
          "metadata": {
            "tags": []
          },
          "execution_count": 164
        }
      ]
    },
    {
      "cell_type": "code",
      "metadata": {
        "id": "S3MezC7qFiHE",
        "outputId": "979ac594-a6c7-453a-e0fb-dbacf0b0bb3b",
        "colab": {
          "base_uri": "https://localhost:8080/"
        }
      },
      "source": [
        "from sklearn.svm import SVC\n",
        "clf = SVC(kernel = 'rbf')\n",
        "clf.fit(train_X, train_y)\n",
        "pred_y = clf.predict(test_X)\n",
        "accuracy_score(test_y, pred_y)"
      ],
      "execution_count": 165,
      "outputs": [
        {
          "output_type": "execute_result",
          "data": {
            "text/plain": [
              "0.7908163265306123"
            ]
          },
          "metadata": {
            "tags": []
          },
          "execution_count": 165
        }
      ]
    },
    {
      "cell_type": "code",
      "metadata": {
        "id": "wIRbLy21FmpW",
        "outputId": "f8557ee3-94d3-4deb-d990-29e565fd261e",
        "colab": {
          "base_uri": "https://localhost:8080/"
        }
      },
      "source": [
        "from sklearn.ensemble import GradientBoostingClassifier\n",
        "clf = GradientBoostingClassifier()\n",
        "clf.fit(train_X, train_y)\n",
        "pred_y = clf.predict(test_X)\n",
        "accuracy_score(test_y, pred_y)"
      ],
      "execution_count": 166,
      "outputs": [
        {
          "output_type": "execute_result",
          "data": {
            "text/plain": [
              "0.7602040816326531"
            ]
          },
          "metadata": {
            "tags": []
          },
          "execution_count": 166
        }
      ]
    },
    {
      "cell_type": "markdown",
      "metadata": {
        "id": "vRKTBusxHDEA"
      },
      "source": [
        "## https://github.com/ywchiu/tibame_tm"
      ]
    },
    {
      "cell_type": "code",
      "metadata": {
        "id": "uF3lh8rYFsU2"
      },
      "source": [
        ""
      ],
      "execution_count": null,
      "outputs": []
    }
  ]
}