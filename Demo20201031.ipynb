{
  "nbformat": 4,
  "nbformat_minor": 0,
  "metadata": {
    "colab": {
      "name": "Demo20201031.ipynb",
      "provenance": [],
      "collapsed_sections": []
    },
    "kernelspec": {
      "name": "python3",
      "display_name": "Python 3"
    }
  },
  "cells": [
    {
      "cell_type": "markdown",
      "metadata": {
        "id": "Vchmd-h2TMSz"
      },
      "source": [
        "## 回家作業\n",
        "當銀行收到貸款申請時，必須根據客戶的個人檔案決定是否應該要核准貸款\n",
        "\n",
        "如果客戶信用良好，批准貸款 如果客戶信用較差，不批准貸款 透過分析目的，可降低銀行風險、提升潛在獲利\n",
        "\n",
        "現有一資料集 Creditability (https://raw.githubusercontent.com/ywchiu/tibamepy/master/data/Creditability.csv)\n",
        "\n",
        "\n",
        "請用Python 回答以下問題\n",
        "\n",
        "- 使用Pandas 將資料讀取到一名為 df 的 DataFrame 中\n",
        "- 請使用Pandas 統計男女別的平均 Credit.Amount\n",
        "- 請使用邏輯式迴歸建立模型 (目標 y 為 Creditability)\n",
        "- 請計算出模型準確度(Accuracy)?"
      ]
    },
    {
      "cell_type": "code",
      "metadata": {
        "id": "6QQSodO4SP1S"
      },
      "source": [
        "import pandas\n",
        "df = pandas.read_csv('https://raw.githubusercontent.com/ywchiu/tibamepy/master/data/Creditability.csv', index_col = 0)"
      ],
      "execution_count": 2,
      "outputs": []
    },
    {
      "cell_type": "code",
      "metadata": {
        "id": "_fYbhuc7Tblv",
        "outputId": "e3e421f0-0933-4a47-a08d-f6efa711f4b9",
        "colab": {
          "base_uri": "https://localhost:8080/",
          "height": 224
        }
      },
      "source": [
        "df.head()"
      ],
      "execution_count": 3,
      "outputs": [
        {
          "output_type": "execute_result",
          "data": {
            "text/html": [
              "<div>\n",
              "<style scoped>\n",
              "    .dataframe tbody tr th:only-of-type {\n",
              "        vertical-align: middle;\n",
              "    }\n",
              "\n",
              "    .dataframe tbody tr th {\n",
              "        vertical-align: top;\n",
              "    }\n",
              "\n",
              "    .dataframe thead th {\n",
              "        text-align: right;\n",
              "    }\n",
              "</style>\n",
              "<table border=\"1\" class=\"dataframe\">\n",
              "  <thead>\n",
              "    <tr style=\"text-align: right;\">\n",
              "      <th></th>\n",
              "      <th>Creditability</th>\n",
              "      <th>Account.Balance</th>\n",
              "      <th>Duration.of.Credit..month.</th>\n",
              "      <th>Payment.Status.of.Previous.Credit</th>\n",
              "      <th>Purpose</th>\n",
              "      <th>Credit.Amount</th>\n",
              "      <th>Value.Savings.Stocks</th>\n",
              "      <th>Length.of.current.employment</th>\n",
              "      <th>Instalment.per.cent</th>\n",
              "      <th>Sex...Marital.Status</th>\n",
              "      <th>Guarantors</th>\n",
              "      <th>Duration.in.Current.address</th>\n",
              "      <th>Most.valuable.available.asset</th>\n",
              "      <th>Age..years.</th>\n",
              "      <th>Concurrent.Credits</th>\n",
              "      <th>Type.of.apartment</th>\n",
              "      <th>No.of.Credits.at.this.Bank</th>\n",
              "      <th>Occupation</th>\n",
              "      <th>No.of.dependents</th>\n",
              "      <th>Telephone</th>\n",
              "      <th>Foreign.Worker</th>\n",
              "    </tr>\n",
              "  </thead>\n",
              "  <tbody>\n",
              "    <tr>\n",
              "      <th>497</th>\n",
              "      <td>1</td>\n",
              "      <td>3</td>\n",
              "      <td>6</td>\n",
              "      <td>2</td>\n",
              "      <td>3</td>\n",
              "      <td>2108</td>\n",
              "      <td>1</td>\n",
              "      <td>3</td>\n",
              "      <td>2</td>\n",
              "      <td>3</td>\n",
              "      <td>1</td>\n",
              "      <td>2</td>\n",
              "      <td>1</td>\n",
              "      <td>29</td>\n",
              "      <td>2</td>\n",
              "      <td>1</td>\n",
              "      <td>1</td>\n",
              "      <td>1</td>\n",
              "      <td>1</td>\n",
              "      <td>1</td>\n",
              "      <td>1</td>\n",
              "    </tr>\n",
              "    <tr>\n",
              "      <th>756</th>\n",
              "      <td>0</td>\n",
              "      <td>1</td>\n",
              "      <td>15</td>\n",
              "      <td>1</td>\n",
              "      <td>4</td>\n",
              "      <td>950</td>\n",
              "      <td>1</td>\n",
              "      <td>4</td>\n",
              "      <td>4</td>\n",
              "      <td>2</td>\n",
              "      <td>1</td>\n",
              "      <td>3</td>\n",
              "      <td>3</td>\n",
              "      <td>33</td>\n",
              "      <td>2</td>\n",
              "      <td>1</td>\n",
              "      <td>2</td>\n",
              "      <td>1</td>\n",
              "      <td>2</td>\n",
              "      <td>1</td>\n",
              "      <td>1</td>\n",
              "    </tr>\n",
              "    <tr>\n",
              "      <th>580</th>\n",
              "      <td>0</td>\n",
              "      <td>1</td>\n",
              "      <td>42</td>\n",
              "      <td>2</td>\n",
              "      <td>3</td>\n",
              "      <td>7174</td>\n",
              "      <td>4</td>\n",
              "      <td>3</td>\n",
              "      <td>4</td>\n",
              "      <td>1</td>\n",
              "      <td>1</td>\n",
              "      <td>3</td>\n",
              "      <td>3</td>\n",
              "      <td>30</td>\n",
              "      <td>2</td>\n",
              "      <td>2</td>\n",
              "      <td>1</td>\n",
              "      <td>1</td>\n",
              "      <td>1</td>\n",
              "      <td>2</td>\n",
              "      <td>1</td>\n",
              "    </tr>\n",
              "    <tr>\n",
              "      <th>833</th>\n",
              "      <td>0</td>\n",
              "      <td>3</td>\n",
              "      <td>36</td>\n",
              "      <td>3</td>\n",
              "      <td>4</td>\n",
              "      <td>7980</td>\n",
              "      <td>4</td>\n",
              "      <td>1</td>\n",
              "      <td>4</td>\n",
              "      <td>2</td>\n",
              "      <td>1</td>\n",
              "      <td>4</td>\n",
              "      <td>3</td>\n",
              "      <td>27</td>\n",
              "      <td>2</td>\n",
              "      <td>1</td>\n",
              "      <td>2</td>\n",
              "      <td>1</td>\n",
              "      <td>1</td>\n",
              "      <td>2</td>\n",
              "      <td>1</td>\n",
              "    </tr>\n",
              "    <tr>\n",
              "      <th>602</th>\n",
              "      <td>1</td>\n",
              "      <td>3</td>\n",
              "      <td>24</td>\n",
              "      <td>3</td>\n",
              "      <td>2</td>\n",
              "      <td>2028</td>\n",
              "      <td>1</td>\n",
              "      <td>3</td>\n",
              "      <td>2</td>\n",
              "      <td>2</td>\n",
              "      <td>1</td>\n",
              "      <td>2</td>\n",
              "      <td>2</td>\n",
              "      <td>30</td>\n",
              "      <td>2</td>\n",
              "      <td>2</td>\n",
              "      <td>2</td>\n",
              "      <td>1</td>\n",
              "      <td>1</td>\n",
              "      <td>1</td>\n",
              "      <td>1</td>\n",
              "    </tr>\n",
              "  </tbody>\n",
              "</table>\n",
              "</div>"
            ],
            "text/plain": [
              "     Creditability  Account.Balance  ...  Telephone  Foreign.Worker\n",
              "497              1                3  ...          1               1\n",
              "756              0                1  ...          1               1\n",
              "580              0                1  ...          2               1\n",
              "833              0                3  ...          2               1\n",
              "602              1                3  ...          1               1\n",
              "\n",
              "[5 rows x 21 columns]"
            ]
          },
          "metadata": {
            "tags": []
          },
          "execution_count": 3
        }
      ]
    },
    {
      "cell_type": "code",
      "metadata": {
        "id": "afY5s2yXTeuK",
        "outputId": "1cfff1f6-4704-462d-e67c-b6f5a5b882cd",
        "colab": {
          "base_uri": "https://localhost:8080/"
        }
      },
      "source": [
        "## SELECT Sex...Marital.Status, AVG(Credit.Amount\t) FROM df GROUP BY Sex...Marital.Status;\n",
        "df.groupby('Sex...Marital.Status')['Credit.Amount'].mean()"
      ],
      "execution_count": 4,
      "outputs": [
        {
          "output_type": "execute_result",
          "data": {
            "text/plain": [
              "Sex...Marital.Status\n",
              "1    2896.327684\n",
              "2    3694.981685\n",
              "3    1993.360000\n",
              "Name: Credit.Amount, dtype: float64"
            ]
          },
          "metadata": {
            "tags": []
          },
          "execution_count": 4
        }
      ]
    },
    {
      "cell_type": "code",
      "metadata": {
        "id": "bCsbRZfRUPS8",
        "outputId": "988ca720-afa8-4c57-aca7-9ec94e17b194",
        "colab": {
          "base_uri": "https://localhost:8080/",
          "height": 293
        }
      },
      "source": [
        "df.groupby('Sex...Marital.Status')['Credit.Amount'].mean().plot(kind = 'bar')"
      ],
      "execution_count": 5,
      "outputs": [
        {
          "output_type": "execute_result",
          "data": {
            "text/plain": [
              "<matplotlib.axes._subplots.AxesSubplot at 0x7f53dd058be0>"
            ]
          },
          "metadata": {
            "tags": []
          },
          "execution_count": 5
        },
        {
          "output_type": "display_data",
          "data": {
            "image/png": "[encoded data removed]",
            "text/plain": [
              "<Figure size 432x288 with 1 Axes>"
            ]
          },
          "metadata": {
            "tags": [],
            "needs_background": "light"
          }
        }
      ]
    },
    {
      "cell_type": "code",
      "metadata": {
        "id": "dHi8CIeqVN_G",
        "outputId": "348ed8da-40d4-4994-d642-1cb5f50ff765",
        "colab": {
          "base_uri": "https://localhost:8080/"
        }
      },
      "source": [
        "df.isna().sum()"
      ],
      "execution_count": 6,
      "outputs": [
        {
          "output_type": "execute_result",
          "data": {
            "text/plain": [
              "Creditability                        0\n",
              "Account.Balance                      0\n",
              "Duration.of.Credit..month.           0\n",
              "Payment.Status.of.Previous.Credit    0\n",
              "Purpose                              0\n",
              "Credit.Amount                        0\n",
              "Value.Savings.Stocks                 0\n",
              "Length.of.current.employment         0\n",
              "Instalment.per.cent                  0\n",
              "Sex...Marital.Status                 0\n",
              "Guarantors                           0\n",
              "Duration.in.Current.address          0\n",
              "Most.valuable.available.asset        0\n",
              "Age..years.                          0\n",
              "Concurrent.Credits                   0\n",
              "Type.of.apartment                    0\n",
              "No.of.Credits.at.this.Bank           0\n",
              "Occupation                           0\n",
              "No.of.dependents                     0\n",
              "Telephone                            0\n",
              "Foreign.Worker                       0\n",
              "dtype: int64"
            ]
          },
          "metadata": {
            "tags": []
          },
          "execution_count": 6
        }
      ]
    },
    {
      "cell_type": "code",
      "metadata": {
        "id": "RqR0sHCFVWVk",
        "outputId": "e1ccd707-9c9d-419b-c325-7af8ac1f27d3",
        "colab": {
          "base_uri": "https://localhost:8080/"
        }
      },
      "source": [
        "df.info()"
      ],
      "execution_count": 7,
      "outputs": [
        {
          "output_type": "stream",
          "text": [
            "<class 'pandas.core.frame.DataFrame'>\n",
            "Int64Index: 500 entries, 497 to 385\n",
            "Data columns (total 21 columns):\n",
            " #   Column                             Non-Null Count  Dtype\n",
            "---  ------                             --------------  -----\n",
            " 0   Creditability                      500 non-null    int64\n",
            " 1   Account.Balance                    500 non-null    int64\n",
            " 2   Duration.of.Credit..month.         500 non-null    int64\n",
            " 3   Payment.Status.of.Previous.Credit  500 non-null    int64\n",
            " 4   Purpose                            500 non-null    int64\n",
            " 5   Credit.Amount                      500 non-null    int64\n",
            " 6   Value.Savings.Stocks               500 non-null    int64\n",
            " 7   Length.of.current.employment       500 non-null    int64\n",
            " 8   Instalment.per.cent                500 non-null    int64\n",
            " 9   Sex...Marital.Status               500 non-null    int64\n",
            " 10  Guarantors                         500 non-null    int64\n",
            " 11  Duration.in.Current.address        500 non-null    int64\n",
            " 12  Most.valuable.available.asset      500 non-null    int64\n",
            " 13  Age..years.                        500 non-null    int64\n",
            " 14  Concurrent.Credits                 500 non-null    int64\n",
            " 15  Type.of.apartment                  500 non-null    int64\n",
            " 16  No.of.Credits.at.this.Bank         500 non-null    int64\n",
            " 17  Occupation                         500 non-null    int64\n",
            " 18  No.of.dependents                   500 non-null    int64\n",
            " 19  Telephone                          500 non-null    int64\n",
            " 20  Foreign.Worker                     500 non-null    int64\n",
            "dtypes: int64(21)\n",
            "memory usage: 85.9 KB\n"
          ],
          "name": "stdout"
        }
      ]
    },
    {
      "cell_type": "code",
      "metadata": {
        "id": "a-pYOKR4UZm7",
        "outputId": "3c63c9ce-bad2-42c7-8b02-3292bd405fb3",
        "colab": {
          "base_uri": "https://localhost:8080/"
        }
      },
      "source": [
        "y = df.iloc[:,0]\n",
        "y.head()"
      ],
      "execution_count": 8,
      "outputs": [
        {
          "output_type": "execute_result",
          "data": {
            "text/plain": [
              "497    1\n",
              "756    0\n",
              "580    0\n",
              "833    0\n",
              "602    1\n",
              "Name: Creditability, dtype: int64"
            ]
          },
          "metadata": {
            "tags": []
          },
          "execution_count": 8
        }
      ]
    },
    {
      "cell_type": "code",
      "metadata": {
        "id": "ARG3UuW5VDnr",
        "outputId": "5b67cb8b-b712-4b2a-d97f-eb920c9ff7b0",
        "colab": {
          "base_uri": "https://localhost:8080/",
          "height": 224
        }
      },
      "source": [
        "X = df.iloc[:,1:]\n",
        "X.head()"
      ],
      "execution_count": 9,
      "outputs": [
        {
          "output_type": "execute_result",
          "data": {
            "text/html": [
              "<div>\n",
              "<style scoped>\n",
              "    .dataframe tbody tr th:only-of-type {\n",
              "        vertical-align: middle;\n",
              "    }\n",
              "\n",
              "    .dataframe tbody tr th {\n",
              "        vertical-align: top;\n",
              "    }\n",
              "\n",
              "    .dataframe thead th {\n",
              "        text-align: right;\n",
              "    }\n",
              "</style>\n",
              "<table border=\"1\" class=\"dataframe\">\n",
              "  <thead>\n",
              "    <tr style=\"text-align: right;\">\n",
              "      <th></th>\n",
              "      <th>Account.Balance</th>\n",
              "      <th>Duration.of.Credit..month.</th>\n",
              "      <th>Payment.Status.of.Previous.Credit</th>\n",
              "      <th>Purpose</th>\n",
              "      <th>Credit.Amount</th>\n",
              "      <th>Value.Savings.Stocks</th>\n",
              "      <th>Length.of.current.employment</th>\n",
              "      <th>Instalment.per.cent</th>\n",
              "      <th>Sex...Marital.Status</th>\n",
              "      <th>Guarantors</th>\n",
              "      <th>Duration.in.Current.address</th>\n",
              "      <th>Most.valuable.available.asset</th>\n",
              "      <th>Age..years.</th>\n",
              "      <th>Concurrent.Credits</th>\n",
              "      <th>Type.of.apartment</th>\n",
              "      <th>No.of.Credits.at.this.Bank</th>\n",
              "      <th>Occupation</th>\n",
              "      <th>No.of.dependents</th>\n",
              "      <th>Telephone</th>\n",
              "      <th>Foreign.Worker</th>\n",
              "    </tr>\n",
              "  </thead>\n",
              "  <tbody>\n",
              "    <tr>\n",
              "      <th>497</th>\n",
              "      <td>3</td>\n",
              "      <td>6</td>\n",
              "      <td>2</td>\n",
              "      <td>3</td>\n",
              "      <td>2108</td>\n",
              "      <td>1</td>\n",
              "      <td>3</td>\n",
              "      <td>2</td>\n",
              "      <td>3</td>\n",
              "      <td>1</td>\n",
              "      <td>2</td>\n",
              "      <td>1</td>\n",
              "      <td>29</td>\n",
              "      <td>2</td>\n",
              "      <td>1</td>\n",
              "      <td>1</td>\n",
              "      <td>1</td>\n",
              "      <td>1</td>\n",
              "      <td>1</td>\n",
              "      <td>1</td>\n",
              "    </tr>\n",
              "    <tr>\n",
              "      <th>756</th>\n",
              "      <td>1</td>\n",
              "      <td>15</td>\n",
              "      <td>1</td>\n",
              "      <td>4</td>\n",
              "      <td>950</td>\n",
              "      <td>1</td>\n",
              "      <td>4</td>\n",
              "      <td>4</td>\n",
              "      <td>2</td>\n",
              "      <td>1</td>\n",
              "      <td>3</td>\n",
              "      <td>3</td>\n",
              "      <td>33</td>\n",
              "      <td>2</td>\n",
              "      <td>1</td>\n",
              "      <td>2</td>\n",
              "      <td>1</td>\n",
              "      <td>2</td>\n",
              "      <td>1</td>\n",
              "      <td>1</td>\n",
              "    </tr>\n",
              "    <tr>\n",
              "      <th>580</th>\n",
              "      <td>1</td>\n",
              "      <td>42</td>\n",
              "      <td>2</td>\n",
              "      <td>3</td>\n",
              "      <td>7174</td>\n",
              "      <td>4</td>\n",
              "      <td>3</td>\n",
              "      <td>4</td>\n",
              "      <td>1</td>\n",
              "      <td>1</td>\n",
              "      <td>3</td>\n",
              "      <td>3</td>\n",
              "      <td>30</td>\n",
              "      <td>2</td>\n",
              "      <td>2</td>\n",
              "      <td>1</td>\n",
              "      <td>1</td>\n",
              "      <td>1</td>\n",
              "      <td>2</td>\n",
              "      <td>1</td>\n",
              "    </tr>\n",
              "    <tr>\n",
              "      <th>833</th>\n",
              "      <td>3</td>\n",
              "      <td>36</td>\n",
              "      <td>3</td>\n",
              "      <td>4</td>\n",
              "      <td>7980</td>\n",
              "      <td>4</td>\n",
              "      <td>1</td>\n",
              "      <td>4</td>\n",
              "      <td>2</td>\n",
              "      <td>1</td>\n",
              "      <td>4</td>\n",
              "      <td>3</td>\n",
              "      <td>27</td>\n",
              "      <td>2</td>\n",
              "      <td>1</td>\n",
              "      <td>2</td>\n",
              "      <td>1</td>\n",
              "      <td>1</td>\n",
              "      <td>2</td>\n",
              "      <td>1</td>\n",
              "    </tr>\n",
              "    <tr>\n",
              "      <th>602</th>\n",
              "      <td>3</td>\n",
              "      <td>24</td>\n",
              "      <td>3</td>\n",
              "      <td>2</td>\n",
              "      <td>2028</td>\n",
              "      <td>1</td>\n",
              "      <td>3</td>\n",
              "      <td>2</td>\n",
              "      <td>2</td>\n",
              "      <td>1</td>\n",
              "      <td>2</td>\n",
              "      <td>2</td>\n",
              "      <td>30</td>\n",
              "      <td>2</td>\n",
              "      <td>2</td>\n",
              "      <td>2</td>\n",
              "      <td>1</td>\n",
              "      <td>1</td>\n",
              "      <td>1</td>\n",
              "      <td>1</td>\n",
              "    </tr>\n",
              "  </tbody>\n",
              "</table>\n",
              "</div>"
            ],
            "text/plain": [
              "     Account.Balance  Duration.of.Credit..month.  ...  Telephone  Foreign.Worker\n",
              "497                3                           6  ...          1               1\n",
              "756                1                          15  ...          1               1\n",
              "580                1                          42  ...          2               1\n",
              "833                3                          36  ...          2               1\n",
              "602                3                          24  ...          1               1\n",
              "\n",
              "[5 rows x 20 columns]"
            ]
          },
          "metadata": {
            "tags": []
          },
          "execution_count": 9
        }
      ]
    },
    {
      "cell_type": "code",
      "metadata": {
        "id": "gSTIzsEHVJm7",
        "outputId": "a2364712-baa7-4b92-8c45-26dde24ead2f",
        "colab": {
          "base_uri": "https://localhost:8080/"
        }
      },
      "source": [
        "from sklearn.linear_model import LogisticRegression\n",
        "clf = LogisticRegression()\n",
        "clf.fit(X,y)"
      ],
      "execution_count": 10,
      "outputs": [
        {
          "output_type": "execute_result",
          "data": {
            "text/plain": [
              "LogisticRegression(C=1.0, class_weight=None, dual=False, fit_intercept=True,\n",
              "                   intercept_scaling=1, l1_ratio=None, max_iter=100,\n",
              "                   multi_class='auto', n_jobs=None, penalty='l2',\n",
              "                   random_state=None, solver='lbfgs', tol=0.0001, verbose=0,\n",
              "                   warm_start=False)"
            ]
          },
          "metadata": {
            "tags": []
          },
          "execution_count": 10
        }
      ]
    },
    {
      "cell_type": "code",
      "metadata": {
        "id": "kkg0YGEhVvWc"
      },
      "source": [
        "pred_y = clf.predict(X)"
      ],
      "execution_count": 11,
      "outputs": []
    },
    {
      "cell_type": "code",
      "metadata": {
        "id": "q4H8AQFFVyEt",
        "outputId": "6f1c08ea-2cd4-4509-e817-e9e01bc7c5c0",
        "colab": {
          "base_uri": "https://localhost:8080/"
        }
      },
      "source": [
        "(y == pred_y ).sum() / len(y)"
      ],
      "execution_count": 12,
      "outputs": [
        {
          "output_type": "execute_result",
          "data": {
            "text/plain": [
              "0.798"
            ]
          },
          "metadata": {
            "tags": []
          },
          "execution_count": 12
        }
      ]
    },
    {
      "cell_type": "code",
      "metadata": {
        "id": "oXRZtwkSV-4s",
        "outputId": "968039ba-f4a5-4115-d5d0-87e48bf0fa0e",
        "colab": {
          "base_uri": "https://localhost:8080/"
        }
      },
      "source": [
        "from sklearn.metrics import accuracy_score\n",
        "accuracy_score(y, pred_y)"
      ],
      "execution_count": 13,
      "outputs": [
        {
          "output_type": "execute_result",
          "data": {
            "text/plain": [
              "0.798"
            ]
          },
          "metadata": {
            "tags": []
          },
          "execution_count": 13
        }
      ]
    },
    {
      "cell_type": "code",
      "metadata": {
        "id": "bIvWKSBnWW-c",
        "outputId": "7edf9012-d439-4b3b-e71f-1fcd5c15b351",
        "colab": {
          "base_uri": "https://localhost:8080/"
        }
      },
      "source": [
        "from sklearn.ensemble import RandomForestClassifier, GradientBoostingClassifier\n",
        "clf1 = RandomForestClassifier()\n",
        "clf1.fit(X,y)\n",
        "\n",
        "clf2 = GradientBoostingClassifier()\n",
        "clf2.fit(X,y)"
      ],
      "execution_count": 14,
      "outputs": [
        {
          "output_type": "execute_result",
          "data": {
            "text/plain": [
              "GradientBoostingClassifier(ccp_alpha=0.0, criterion='friedman_mse', init=None,\n",
              "                           learning_rate=0.1, loss='deviance', max_depth=3,\n",
              "                           max_features=None, max_leaf_nodes=None,\n",
              "                           min_impurity_decrease=0.0, min_impurity_split=None,\n",
              "                           min_samples_leaf=1, min_samples_split=2,\n",
              "                           min_weight_fraction_leaf=0.0, n_estimators=100,\n",
              "                           n_iter_no_change=None, presort='deprecated',\n",
              "                           random_state=None, subsample=1.0, tol=0.0001,\n",
              "                           validation_fraction=0.1, verbose=0,\n",
              "                           warm_start=False)"
            ]
          },
          "metadata": {
            "tags": []
          },
          "execution_count": 14
        }
      ]
    },
    {
      "cell_type": "code",
      "metadata": {
        "id": "s7xo1-N4Wkx9"
      },
      "source": [
        "pred_y1 = clf1.predict(X)\n",
        "pred_y2 = clf2.predict(X)"
      ],
      "execution_count": 15,
      "outputs": []
    },
    {
      "cell_type": "code",
      "metadata": {
        "id": "nS9lAiWWWqh8",
        "outputId": "315d0c88-5387-48b1-e645-441e7ebbbfe3",
        "colab": {
          "base_uri": "https://localhost:8080/"
        }
      },
      "source": [
        "accuracy_score(y, pred_y1)"
      ],
      "execution_count": 16,
      "outputs": [
        {
          "output_type": "execute_result",
          "data": {
            "text/plain": [
              "1.0"
            ]
          },
          "metadata": {
            "tags": []
          },
          "execution_count": 16
        }
      ]
    },
    {
      "cell_type": "code",
      "metadata": {
        "id": "NF6DQ0FfWteN",
        "outputId": "8a8426a6-a77f-4adb-e436-a0b9ee5e2fe5",
        "colab": {
          "base_uri": "https://localhost:8080/"
        }
      },
      "source": [
        "accuracy_score(y, pred_y2)"
      ],
      "execution_count": 17,
      "outputs": [
        {
          "output_type": "execute_result",
          "data": {
            "text/plain": [
              "0.93"
            ]
          },
          "metadata": {
            "tags": []
          },
          "execution_count": 17
        }
      ]
    },
    {
      "cell_type": "code",
      "metadata": {
        "id": "cbwLop8QWxpN",
        "outputId": "e8cc36e6-b562-40a5-c53c-c7d13c880f71",
        "colab": {
          "base_uri": "https://localhost:8080/"
        }
      },
      "source": [
        "len(X.columns)"
      ],
      "execution_count": 18,
      "outputs": [
        {
          "output_type": "execute_result",
          "data": {
            "text/plain": [
              "20"
            ]
          },
          "metadata": {
            "tags": []
          },
          "execution_count": 18
        }
      ]
    },
    {
      "cell_type": "markdown",
      "metadata": {
        "id": "iVdsSmiHY0Tg"
      },
      "source": [
        "## 主成分分析"
      ]
    },
    {
      "cell_type": "code",
      "metadata": {
        "id": "lwatBHHsYz3g",
        "outputId": "5a972b35-7551-4154-cfa3-187ff2eaf3f4",
        "colab": {
          "base_uri": "https://localhost:8080/"
        }
      },
      "source": [
        "from sklearn.decomposition import PCA\n",
        "pca = PCA(n_components=2)\n",
        "pca.fit(X)\n"
      ],
      "execution_count": 19,
      "outputs": [
        {
          "output_type": "execute_result",
          "data": {
            "text/plain": [
              "PCA(copy=True, iterated_power='auto', n_components=2, random_state=None,\n",
              "    svd_solver='auto', tol=0.0, whiten=False)"
            ]
          },
          "metadata": {
            "tags": []
          },
          "execution_count": 19
        }
      ]
    },
    {
      "cell_type": "code",
      "metadata": {
        "id": "KWbE5gfVaPFB",
        "outputId": "451e219e-a5cb-454a-d3f9-9abeb4da6f65",
        "colab": {
          "base_uri": "https://localhost:8080/",
          "height": 276
        }
      },
      "source": [
        "from matplotlib import pyplot as plt\n",
        "plt.bar(range(0,2), pca.explained_variance_)\n",
        "plt.xticks(range(0,2), ['component 1', 'component2'])\n",
        "plt.show()"
      ],
      "execution_count": 43,
      "outputs": [
        {
          "output_type": "display_data",
          "data": {
            "image/png": "[encoded data removed]",
            "text/plain": [
              "<Figure size 432x288 with 1 Axes>"
            ]
          },
          "metadata": {
            "tags": [],
            "needs_background": "light"
          }
        }
      ]
    },
    {
      "cell_type": "code",
      "metadata": {
        "id": "GOqcThjwZLJF",
        "outputId": "5b5c2a96-581e-4a83-ca99-2d46c7531318",
        "colab": {
          "base_uri": "https://localhost:8080/"
        }
      },
      "source": [
        "pca.components_"
      ],
      "execution_count": 21,
      "outputs": [
        {
          "output_type": "execute_result",
          "data": {
            "text/plain": [
              "array([[-2.01956244e-05,  2.50391428e-03,  1.47920110e-06,\n",
              "        -3.24785057e-05,  9.99996827e-01,  1.59499249e-05,\n",
              "        -1.23836860e-05, -1.10911984e-04, -3.06591799e-07,\n",
              "        -8.00839718e-07,  2.23847060e-07,  1.22174890e-04,\n",
              "         2.07536079e-04, -1.02078733e-05,  2.99376044e-05,\n",
              "        -6.92305176e-06,  0.00000000e+00,  2.60308900e-06,\n",
              "         4.91638374e-05,  2.19567447e-06],\n",
              "       [ 3.53109045e-03, -3.60650139e-01,  8.83228175e-03,\n",
              "         2.08452770e-03,  7.08734090e-04,  5.64788028e-03,\n",
              "         2.33625552e-02, -3.19690353e-03, -4.60170388e-04,\n",
              "        -1.86162595e-03,  2.25534209e-02,  1.35546189e-03,\n",
              "         9.31926664e-01, -1.25463196e-03,  1.26317664e-02,\n",
              "         4.85036445e-03,  0.00000000e+00,  4.21784989e-03,\n",
              "         6.61197481e-03,  7.58475874e-04]])"
            ]
          },
          "metadata": {
            "tags": []
          },
          "execution_count": 21
        }
      ]
    },
    {
      "cell_type": "code",
      "metadata": {
        "id": "IFzqSIpIY-JP",
        "outputId": "7cdd1088-3087-4400-cec8-5ea8360c5d8e",
        "colab": {
          "base_uri": "https://localhost:8080/"
        }
      },
      "source": [
        "X_reduced = pca.transform(X)\n",
        "X_reduced.shape"
      ],
      "execution_count": 22,
      "outputs": [
        {
          "output_type": "execute_result",
          "data": {
            "text/plain": [
              "(500, 2)"
            ]
          },
          "metadata": {
            "tags": []
          },
          "execution_count": 22
        }
      ]
    },
    {
      "cell_type": "code",
      "metadata": {
        "id": "4X-2aYc5ZAzd",
        "outputId": "336f5099-e3b9-4653-d52b-acbd383ed339",
        "colab": {
          "base_uri": "https://localhost:8080/"
        }
      },
      "source": [
        "X_reduced[0:3]"
      ],
      "execution_count": 23,
      "outputs": [
        {
          "output_type": "execute_result",
          "data": {
            "text/plain": [
              "array([[-1.13413283e+03, -1.24062275e+00],\n",
              "       [-2.29210577e+03, -1.54152988e+00],\n",
              "       [ 3.93194164e+03, -9.65273810e+00]])"
            ]
          },
          "metadata": {
            "tags": []
          },
          "execution_count": 23
        }
      ]
    },
    {
      "cell_type": "code",
      "metadata": {
        "id": "X2zTbxzRZFet",
        "outputId": "03cd7df1-cf88-4209-be3e-a288f0f01964",
        "colab": {
          "base_uri": "https://localhost:8080/",
          "height": 282
        }
      },
      "source": [
        "from matplotlib import pyplot as plt\n",
        "plt.scatter(X_reduced[:,0],X_reduced[:,1])"
      ],
      "execution_count": 24,
      "outputs": [
        {
          "output_type": "execute_result",
          "data": {
            "text/plain": [
              "<matplotlib.collections.PathCollection at 0x7f53d8fe7da0>"
            ]
          },
          "metadata": {
            "tags": []
          },
          "execution_count": 24
        },
        {
          "output_type": "display_data",
          "data": {
            "image/png": "[encoded data removed]",
            "text/plain": [
              "<Figure size 432x288 with 1 Axes>"
            ]
          },
          "metadata": {
            "tags": [],
            "needs_background": "light"
          }
        }
      ]
    },
    {
      "cell_type": "code",
      "metadata": {
        "id": "pCMPkXInZZfv",
        "outputId": "227a1ed1-0a8e-4098-d158-1765282dc859",
        "colab": {
          "base_uri": "https://localhost:8080/"
        }
      },
      "source": [
        "from sklearn.linear_model import LogisticRegression\n",
        "clf = LogisticRegression()\n",
        "clf.fit(X_reduced,y)"
      ],
      "execution_count": 38,
      "outputs": [
        {
          "output_type": "execute_result",
          "data": {
            "text/plain": [
              "LogisticRegression(C=1.0, class_weight=None, dual=False, fit_intercept=True,\n",
              "                   intercept_scaling=1, l1_ratio=None, max_iter=100,\n",
              "                   multi_class='auto', n_jobs=None, penalty='l2',\n",
              "                   random_state=None, solver='lbfgs', tol=0.0001, verbose=0,\n",
              "                   warm_start=False)"
            ]
          },
          "metadata": {
            "tags": []
          },
          "execution_count": 38
        }
      ]
    },
    {
      "cell_type": "code",
      "metadata": {
        "id": "2iLJrzX2Zjn-"
      },
      "source": [
        "x_min, x_max = X_reduced[:, 0].min() - 1, X_reduced[:, 0].max() + 1\n",
        "y_min, y_max = X_reduced[:, 1].min() - 1, X_reduced[:, 1].max() + 1"
      ],
      "execution_count": 39,
      "outputs": []
    },
    {
      "cell_type": "code",
      "metadata": {
        "id": "-WPr2iQBZvIP"
      },
      "source": [
        "import numpy as np\n",
        "xx, yy = np.meshgrid(np.arange(x_min, x_max, 1),np.arange(y_min, y_max, 1))"
      ],
      "execution_count": 40,
      "outputs": []
    },
    {
      "cell_type": "code",
      "metadata": {
        "id": "c5OVLlSxZzPv"
      },
      "source": [
        "Z = clf.predict(np.c_[xx.ravel(), yy.ravel()])"
      ],
      "execution_count": 41,
      "outputs": []
    },
    {
      "cell_type": "code",
      "metadata": {
        "id": "WmbLaP9zZ1nu",
        "outputId": "9e4bec4c-4faa-4e29-9a40-0c477f4fdc66",
        "colab": {
          "base_uri": "https://localhost:8080/",
          "height": 312
        }
      },
      "source": [
        "Z = Z.reshape(xx.shape)\n",
        "plt.contourf(xx, yy, Z, alpha=0.4, cmap = plt.cm.rainbow)\n",
        "plt.scatter(X_reduced[:, 0], X_reduced[:, 1], c=y, alpha=1, cmap = plt.cm.RdYlBu)\n",
        "plt.title('Logistic Regression')\n",
        "plt.xlabel('Component 1')\n",
        "plt.ylabel('Component 2')"
      ],
      "execution_count": 42,
      "outputs": [
        {
          "output_type": "execute_result",
          "data": {
            "text/plain": [
              "Text(0, 0.5, 'Component 2')"
            ]
          },
          "metadata": {
            "tags": []
          },
          "execution_count": 42
        },
        {
          "output_type": "display_data",
          "data": {
            "image/png": "[encoded data removed]",
            "text/plain": [
              "<Figure size 432x288 with 1 Axes>"
            ]
          },
          "metadata": {
            "tags": [],
            "needs_background": "light"
          }
        }
      ]
    },
    {
      "cell_type": "code",
      "metadata": {
        "id": "4EQ9i2jQaBMe",
        "outputId": "a9d141e4-03cf-48ed-96b9-76cabaa07a76",
        "colab": {
          "base_uri": "https://localhost:8080/"
        }
      },
      "source": [
        "from sklearn.ensemble import GradientBoostingClassifier\n",
        "clf = GradientBoostingClassifier()\n",
        "clf.fit(X_reduced,y)"
      ],
      "execution_count": 25,
      "outputs": [
        {
          "output_type": "execute_result",
          "data": {
            "text/plain": [
              "GradientBoostingClassifier(ccp_alpha=0.0, criterion='friedman_mse', init=None,\n",
              "                           learning_rate=0.1, loss='deviance', max_depth=3,\n",
              "                           max_features=None, max_leaf_nodes=None,\n",
              "                           min_impurity_decrease=0.0, min_impurity_split=None,\n",
              "                           min_samples_leaf=1, min_samples_split=2,\n",
              "                           min_weight_fraction_leaf=0.0, n_estimators=100,\n",
              "                           n_iter_no_change=None, presort='deprecated',\n",
              "                           random_state=None, subsample=1.0, tol=0.0001,\n",
              "                           validation_fraction=0.1, verbose=0,\n",
              "                           warm_start=False)"
            ]
          },
          "metadata": {
            "tags": []
          },
          "execution_count": 25
        }
      ]
    },
    {
      "cell_type": "code",
      "metadata": {
        "id": "XPDQzQnIagrn",
        "outputId": "dfda3e72-fea0-47ae-f6c6-ea26dd24166d",
        "colab": {
          "base_uri": "https://localhost:8080/",
          "height": 312
        }
      },
      "source": [
        "import numpy as np\n",
        "x_min, x_max = X_reduced[:, 0].min() - 1, X_reduced[:, 0].max() + 1\n",
        "y_min, y_max = X_reduced[:, 1].min() - 1, X_reduced[:, 1].max() + 1\n",
        "xx, yy = np.meshgrid(np.arange(x_min, x_max, 1),np.arange(y_min, y_max, 1))\n",
        "Z = clf.predict(np.c_[xx.ravel(), yy.ravel()])\n",
        "Z = Z.reshape(xx.shape)\n",
        "plt.contourf(xx, yy, Z, alpha=0.4, cmap = plt.cm.rainbow)\n",
        "plt.scatter(X_reduced[:, 0], X_reduced[:, 1], c=y, alpha=1, cmap = plt.cm.RdYlBu)\n",
        "plt.title('Gradient Boosting Classfier')\n",
        "plt.xlabel('Component 1')\n",
        "plt.ylabel('Component 2')"
      ],
      "execution_count": 34,
      "outputs": [
        {
          "output_type": "execute_result",
          "data": {
            "text/plain": [
              "Text(0, 0.5, 'Component 2')"
            ]
          },
          "metadata": {
            "tags": []
          },
          "execution_count": 34
        },
        {
          "output_type": "display_data",
          "data": {
            "image/png": "[encoded data removed]",
            "text/plain": [
              "<Figure size 432x288 with 1 Axes>"
            ]
          },
          "metadata": {
            "tags": [],
            "needs_background": "light"
          }
        }
      ]
    },
    {
      "cell_type": "code",
      "metadata": {
        "id": "JUmt_FhVanhf"
      },
      "source": [
        "pred_y = clf.predict(X_reduced)"
      ],
      "execution_count": 28,
      "outputs": []
    },
    {
      "cell_type": "code",
      "metadata": {
        "id": "D1QsRh84b1e0",
        "outputId": "517e2596-cded-4f13-8075-b0c3e43d8f26",
        "colab": {
          "base_uri": "https://localhost:8080/"
        }
      },
      "source": [
        "accuracy_score(y, pred_y)"
      ],
      "execution_count": 29,
      "outputs": [
        {
          "output_type": "execute_result",
          "data": {
            "text/plain": [
              "0.862"
            ]
          },
          "metadata": {
            "tags": []
          },
          "execution_count": 29
        }
      ]
    },
    {
      "cell_type": "code",
      "metadata": {
        "id": "4zPcBf2yb4IA",
        "outputId": "2e8fb7d1-ff97-4944-c127-ea5da16abd9c",
        "colab": {
          "base_uri": "https://localhost:8080/"
        }
      },
      "source": [
        "from sklearn.metrics import confusion_matrix\n",
        "clf.classes_\n",
        "confusion_matrix(y,pred_y)"
      ],
      "execution_count": 32,
      "outputs": [
        {
          "output_type": "execute_result",
          "data": {
            "text/plain": [
              "array([[ 74,  69],\n",
              "       [  0, 357]])"
            ]
          },
          "metadata": {
            "tags": []
          },
          "execution_count": 32
        }
      ]
    },
    {
      "cell_type": "code",
      "metadata": {
        "id": "Sv7oaZM_cDYw",
        "outputId": "ee40bb6a-0cd4-4b09-9592-f23d450bbe57",
        "colab": {
          "base_uri": "https://localhost:8080/"
        }
      },
      "source": [
        "df['Creditability'].value_counts()"
      ],
      "execution_count": 33,
      "outputs": [
        {
          "output_type": "execute_result",
          "data": {
            "text/plain": [
              "1    357\n",
              "0    143\n",
              "Name: Creditability, dtype: int64"
            ]
          },
          "metadata": {
            "tags": []
          },
          "execution_count": 33
        }
      ]
    },
    {
      "cell_type": "code",
      "metadata": {
        "id": "GiusJ5GOdWYM",
        "outputId": "228b5fa8-7776-4494-b80c-31b715b0d53f",
        "colab": {
          "base_uri": "https://localhost:8080/"
        }
      },
      "source": [
        "from sklearn.ensemble import GradientBoostingClassifier\n",
        "clf = GradientBoostingClassifier()\n",
        "clf.fit(X_reduced[:,0:1],y)"
      ],
      "execution_count": 45,
      "outputs": [
        {
          "output_type": "execute_result",
          "data": {
            "text/plain": [
              "GradientBoostingClassifier(ccp_alpha=0.0, criterion='friedman_mse', init=None,\n",
              "                           learning_rate=0.1, loss='deviance', max_depth=3,\n",
              "                           max_features=None, max_leaf_nodes=None,\n",
              "                           min_impurity_decrease=0.0, min_impurity_split=None,\n",
              "                           min_samples_leaf=1, min_samples_split=2,\n",
              "                           min_weight_fraction_leaf=0.0, n_estimators=100,\n",
              "                           n_iter_no_change=None, presort='deprecated',\n",
              "                           random_state=None, subsample=1.0, tol=0.0001,\n",
              "                           validation_fraction=0.1, verbose=0,\n",
              "                           warm_start=False)"
            ]
          },
          "metadata": {
            "tags": []
          },
          "execution_count": 45
        }
      ]
    },
    {
      "cell_type": "code",
      "metadata": {
        "id": "3yVc6lkjdatS"
      },
      "source": [
        "pred_y = clf.predict(X_reduced[:,0:1])"
      ],
      "execution_count": 46,
      "outputs": []
    },
    {
      "cell_type": "code",
      "metadata": {
        "id": "Zj_wOnW0dhiC",
        "outputId": "e1c7ef72-34f3-4e7b-f4ec-7cbf289066cb",
        "colab": {
          "base_uri": "https://localhost:8080/"
        }
      },
      "source": [
        "accuracy_score(y, pred_y)"
      ],
      "execution_count": 47,
      "outputs": [
        {
          "output_type": "execute_result",
          "data": {
            "text/plain": [
              "0.822"
            ]
          },
          "metadata": {
            "tags": []
          },
          "execution_count": 47
        }
      ]
    },
    {
      "cell_type": "markdown",
      "metadata": {
        "id": "_0uFiX_ejoqZ"
      },
      "source": [
        "## 類神經網路"
      ]
    },
    {
      "cell_type": "code",
      "metadata": {
        "id": "GAeT5rwFjoEc"
      },
      "source": [
        "import numpy as np\n",
        "X = np.array([20, 1000, 3])"
      ],
      "execution_count": 49,
      "outputs": []
    },
    {
      "cell_type": "code",
      "metadata": {
        "id": "uOGyEVlXjy3a",
        "outputId": "de388094-6749-483c-8b95-80debc686c90",
        "colab": {
          "base_uri": "https://localhost:8080/"
        }
      },
      "source": [
        "W1 = np.random.randn(3,4)\n",
        "W1"
      ],
      "execution_count": 51,
      "outputs": [
        {
          "output_type": "execute_result",
          "data": {
            "text/plain": [
              "array([[-1.36743439, -1.18785915, -0.90434638, -0.10332626],\n",
              "       [ 1.13442268,  0.14199281, -1.02603955,  0.73104353],\n",
              "       [ 0.21465623, -0.92159102, -1.36470448, -0.17500917]])"
            ]
          },
          "metadata": {
            "tags": []
          },
          "execution_count": 51
        }
      ]
    },
    {
      "cell_type": "code",
      "metadata": {
        "id": "gU4MqXizj4F5",
        "outputId": "4c314b8c-11d2-42ed-a7f0-4038037bfc72",
        "colab": {
          "base_uri": "https://localhost:8080/"
        }
      },
      "source": [
        "O1 = np.dot(X,W1)\n",
        "O1"
      ],
      "execution_count": 57,
      "outputs": [
        {
          "output_type": "execute_result",
          "data": {
            "text/plain": [
              "array([ 1107.71795904,   115.47085527, -1048.22059293,   728.45197542])"
            ]
          },
          "metadata": {
            "tags": []
          },
          "execution_count": 57
        }
      ]
    },
    {
      "cell_type": "code",
      "metadata": {
        "id": "KPhJ5gaVj-aZ",
        "outputId": "5823fd59-6a46-413b-a94e-c860090a5b9a",
        "colab": {
          "base_uri": "https://localhost:8080/"
        }
      },
      "source": [
        "def relu(e):\n",
        "  return np.maximum(e,0)\n",
        "\n",
        "relu(np.array([-2,-1,2]))"
      ],
      "execution_count": 56,
      "outputs": [
        {
          "output_type": "execute_result",
          "data": {
            "text/plain": [
              "array([0, 0, 2])"
            ]
          },
          "metadata": {
            "tags": []
          },
          "execution_count": 56
        }
      ]
    },
    {
      "cell_type": "code",
      "metadata": {
        "id": "L4-KDcgbkHq5",
        "outputId": "a53cdb8c-566d-43a4-fd58-bda2116a74d6",
        "colab": {
          "base_uri": "https://localhost:8080/"
        }
      },
      "source": [
        "relu(O1)"
      ],
      "execution_count": 58,
      "outputs": [
        {
          "output_type": "execute_result",
          "data": {
            "text/plain": [
              "array([1107.71795904,  115.47085527,    0.        ,  728.45197542])"
            ]
          },
          "metadata": {
            "tags": []
          },
          "execution_count": 58
        }
      ]
    },
    {
      "cell_type": "code",
      "metadata": {
        "id": "9Y33i30xkZT7"
      },
      "source": [
        "W2 = np.random.randn(4,1)"
      ],
      "execution_count": 59,
      "outputs": []
    },
    {
      "cell_type": "code",
      "metadata": {
        "id": "Nyf27b09kdpa",
        "outputId": "91f112a6-740f-4d2c-fa83-8a2d52bbf43e",
        "colab": {
          "base_uri": "https://localhost:8080/"
        }
      },
      "source": [
        "np.dot(O1, W2)"
      ],
      "execution_count": 60,
      "outputs": [
        {
          "output_type": "execute_result",
          "data": {
            "text/plain": [
              "array([-1042.13685833])"
            ]
          },
          "metadata": {
            "tags": []
          },
          "execution_count": 60
        }
      ]
    },
    {
      "cell_type": "markdown",
      "metadata": {
        "id": "LPlrqZ1toBdA"
      },
      "source": [
        "## MNIST"
      ]
    },
    {
      "cell_type": "code",
      "metadata": {
        "id": "ZfTSoLEskfq5"
      },
      "source": [
        "from sklearn.datasets import load_digits\n",
        "digits = load_digits()"
      ],
      "execution_count": 62,
      "outputs": []
    },
    {
      "cell_type": "code",
      "metadata": {
        "id": "ao-HZR3koA6u",
        "outputId": "b0c3a038-e930-4a49-8cf2-d9648b2f32e2",
        "colab": {
          "base_uri": "https://localhost:8080/",
          "height": 610
        }
      },
      "source": [
        "from matplotlib import pyplot as plt\n",
        "fig = plt.figure(figsize = (8,8))\n",
        "\n",
        "fig.subplots_adjust(left=0, right=1, bottom=0, top=1, hspace=0.05, wspace=0.05)\n",
        "\n",
        "for i in range(36):\n",
        "  ax = fig.add_subplot(6, 6, i+1, xticks=[], yticks=[])\n",
        "  ax.imshow(digits.images[i],cmap=plt.cm.binary,interpolation='nearest')\n",
        "  ax.text(0, 7, str(digits.target[i]), color=\"red\", fontsize = 20)"
      ],
      "execution_count": 64,
      "outputs": [
        {
          "output_type": "display_data",
          "data": {
            "image/png": "[encoded data removed]",
            "text/plain": [
              "<Figure size 576x576 with 36 Axes>"
            ]
          },
          "metadata": {
            "tags": []
          }
        }
      ]
    },
    {
      "cell_type": "code",
      "metadata": {
        "id": "ro9dm9wGo_fO",
        "outputId": "e691ec63-98ca-4fa0-c598-a8576a140a0b",
        "colab": {
          "base_uri": "https://localhost:8080/"
        }
      },
      "source": [
        "digits.data.shape"
      ],
      "execution_count": 66,
      "outputs": [
        {
          "output_type": "execute_result",
          "data": {
            "text/plain": [
              "(1797, 64)"
            ]
          },
          "metadata": {
            "tags": []
          },
          "execution_count": 66
        }
      ]
    },
    {
      "cell_type": "code",
      "metadata": {
        "id": "VlTsKTKxqCGv",
        "outputId": "5e6cdcaf-898c-4cc1-ae1f-54588ce453d6",
        "colab": {
          "base_uri": "https://localhost:8080/"
        }
      },
      "source": [
        "digits.data[0]"
      ],
      "execution_count": 67,
      "outputs": [
        {
          "output_type": "execute_result",
          "data": {
            "text/plain": [
              "array([ 0.,  0.,  5., 13.,  9.,  1.,  0.,  0.,  0.,  0., 13., 15., 10.,\n",
              "       15.,  5.,  0.,  0.,  3., 15.,  2.,  0., 11.,  8.,  0.,  0.,  4.,\n",
              "       12.,  0.,  0.,  8.,  8.,  0.,  0.,  5.,  8.,  0.,  0.,  9.,  8.,\n",
              "        0.,  0.,  4., 11.,  0.,  1., 12.,  7.,  0.,  0.,  2., 14.,  5.,\n",
              "       10., 12.,  0.,  0.,  0.,  0.,  6., 13., 10.,  0.,  0.,  0.])"
            ]
          },
          "metadata": {
            "tags": []
          },
          "execution_count": 67
        }
      ]
    },
    {
      "cell_type": "code",
      "metadata": {
        "id": "snrLNnjoqJi-",
        "outputId": "8dd5f1bf-1fae-46ab-d909-62a45fed9598",
        "colab": {
          "base_uri": "https://localhost:8080/"
        }
      },
      "source": [
        "digits.data[0].reshape(8,8)"
      ],
      "execution_count": 68,
      "outputs": [
        {
          "output_type": "execute_result",
          "data": {
            "text/plain": [
              "array([[ 0.,  0.,  5., 13.,  9.,  1.,  0.,  0.],\n",
              "       [ 0.,  0., 13., 15., 10., 15.,  5.,  0.],\n",
              "       [ 0.,  3., 15.,  2.,  0., 11.,  8.,  0.],\n",
              "       [ 0.,  4., 12.,  0.,  0.,  8.,  8.,  0.],\n",
              "       [ 0.,  5.,  8.,  0.,  0.,  9.,  8.,  0.],\n",
              "       [ 0.,  4., 11.,  0.,  1., 12.,  7.,  0.],\n",
              "       [ 0.,  2., 14.,  5., 10., 12.,  0.,  0.],\n",
              "       [ 0.,  0.,  6., 13., 10.,  0.,  0.,  0.]])"
            ]
          },
          "metadata": {
            "tags": []
          },
          "execution_count": 68
        }
      ]
    },
    {
      "cell_type": "code",
      "metadata": {
        "id": "wV5DiZdTqM2f",
        "outputId": "1a567f18-4409-4b57-ea31-e683c8fef43e",
        "colab": {
          "base_uri": "https://localhost:8080/",
          "height": 282
        }
      },
      "source": [
        "plt.imshow(digits.data[0].reshape(8,8))"
      ],
      "execution_count": 71,
      "outputs": [
        {
          "output_type": "execute_result",
          "data": {
            "text/plain": [
              "<matplotlib.image.AxesImage at 0x7f53d0be1518>"
            ]
          },
          "metadata": {
            "tags": []
          },
          "execution_count": 71
        },
        {
          "output_type": "display_data",
          "data": {
            "image/png": "[encoded data removed]",
            "text/plain": [
              "<Figure size 432x288 with 1 Axes>"
            ]
          },
          "metadata": {
            "tags": [],
            "needs_background": "light"
          }
        }
      ]
    },
    {
      "cell_type": "code",
      "metadata": {
        "id": "PqZTvnTcqXDv",
        "outputId": "40733089-c11c-4394-ed40-53076867c60e",
        "colab": {
          "base_uri": "https://localhost:8080/"
        }
      },
      "source": [
        "digits.target"
      ],
      "execution_count": 72,
      "outputs": [
        {
          "output_type": "execute_result",
          "data": {
            "text/plain": [
              "array([0, 1, 2, ..., 8, 9, 8])"
            ]
          },
          "metadata": {
            "tags": []
          },
          "execution_count": 72
        }
      ]
    },
    {
      "cell_type": "code",
      "metadata": {
        "id": "egmMemUvqruQ",
        "outputId": "cca211f2-b198-438d-a003-f67090f3fed5",
        "colab": {
          "base_uri": "https://localhost:8080/"
        }
      },
      "source": [
        "from sklearn.linear_model import LogisticRegression\n",
        "clf = LogisticRegression(max_iter = 3000)\n",
        "clf.fit(digits.data, digits.target)"
      ],
      "execution_count": 76,
      "outputs": [
        {
          "output_type": "execute_result",
          "data": {
            "text/plain": [
              "LogisticRegression(C=1.0, class_weight=None, dual=False, fit_intercept=True,\n",
              "                   intercept_scaling=1, l1_ratio=None, max_iter=3000,\n",
              "                   multi_class='auto', n_jobs=None, penalty='l2',\n",
              "                   random_state=None, solver='lbfgs', tol=0.0001, verbose=0,\n",
              "                   warm_start=False)"
            ]
          },
          "metadata": {
            "tags": []
          },
          "execution_count": 76
        }
      ]
    },
    {
      "cell_type": "code",
      "metadata": {
        "id": "EZ_sNZz6qy2w"
      },
      "source": [
        "pred_y = clf.predict(digits.data)"
      ],
      "execution_count": 77,
      "outputs": []
    },
    {
      "cell_type": "code",
      "metadata": {
        "id": "tPZCaQmLrFaQ",
        "outputId": "ad84e24d-e2a6-4077-8764-bab4ac649eac",
        "colab": {
          "base_uri": "https://localhost:8080/"
        }
      },
      "source": [
        "from sklearn.metrics import accuracy_score\n",
        "accuracy_score(digits.target, pred_y)"
      ],
      "execution_count": 78,
      "outputs": [
        {
          "output_type": "execute_result",
          "data": {
            "text/plain": [
              "1.0"
            ]
          },
          "metadata": {
            "tags": []
          },
          "execution_count": 78
        }
      ]
    },
    {
      "cell_type": "code",
      "metadata": {
        "id": "tBZzg2ZJvXxv",
        "outputId": "8374c612-8d35-4e3f-a230-f6db7d53a9ad",
        "colab": {
          "base_uri": "https://localhost:8080/"
        }
      },
      "source": [
        "from sklearn.preprocessing import StandardScaler\n",
        "a = np.array([[50],[60],[70]])\n",
        "sc = StandardScaler()\n",
        "sc.fit_transform(a)"
      ],
      "execution_count": 207,
      "outputs": [
        {
          "output_type": "execute_result",
          "data": {
            "text/plain": [
              "array([[-1.22474487],\n",
              "       [ 0.        ],\n",
              "       [ 1.22474487]])"
            ]
          },
          "metadata": {
            "tags": []
          },
          "execution_count": 207
        }
      ]
    },
    {
      "cell_type": "code",
      "metadata": {
        "id": "LkI8kr5svrK1",
        "outputId": "4c525645-d615-4698-8e83-69a4a0806020",
        "colab": {
          "base_uri": "https://localhost:8080/"
        }
      },
      "source": [
        "(a - a.mean()) / a.std()"
      ],
      "execution_count": 208,
      "outputs": [
        {
          "output_type": "execute_result",
          "data": {
            "text/plain": [
              "array([[-1.22474487],\n",
              "       [ 0.        ],\n",
              "       [ 1.22474487]])"
            ]
          },
          "metadata": {
            "tags": []
          },
          "execution_count": 208
        }
      ]
    },
    {
      "cell_type": "code",
      "metadata": {
        "id": "dPUezo3Tw-AV",
        "outputId": "1beb2a6a-b794-4758-c5bc-4454cee6c052",
        "colab": {
          "base_uri": "https://localhost:8080/"
        }
      },
      "source": [
        "sc.transform(np.array([[90]]))"
      ],
      "execution_count": 209,
      "outputs": [
        {
          "output_type": "execute_result",
          "data": {
            "text/plain": [
              "array([[3.67423461]])"
            ]
          },
          "metadata": {
            "tags": []
          },
          "execution_count": 209
        }
      ]
    },
    {
      "cell_type": "code",
      "metadata": {
        "id": "Qyt4OOFOvw71"
      },
      "source": [
        "scaler = StandardScaler()\n",
        "scaler.fit(digits.data)\n",
        "X_scaled = scaler.transform(digits.data)"
      ],
      "execution_count": 149,
      "outputs": []
    },
    {
      "cell_type": "code",
      "metadata": {
        "id": "4YTnrIUYrMFQ",
        "outputId": "03cf5394-2671-42e3-a920-a38af73a875c",
        "colab": {
          "base_uri": "https://localhost:8080/"
        }
      },
      "source": [
        "# X:64 -> L1:30 -> L2:30 -> L3:30 -> Output:10\n",
        "from sklearn.neural_network import MLPClassifier\n",
        "clf = MLPClassifier((30,30,30), max_iter = 3000)\n",
        "clf.fit(X_scaled, digits.target)"
      ],
      "execution_count": 191,
      "outputs": [
        {
          "output_type": "execute_result",
          "data": {
            "text/plain": [
              "MLPClassifier(activation='relu', alpha=0.0001, batch_size='auto', beta_1=0.9,\n",
              "              beta_2=0.999, early_stopping=False, epsilon=1e-08,\n",
              "              hidden_layer_sizes=(30, 30, 30), learning_rate='constant',\n",
              "              learning_rate_init=0.001, max_fun=15000, max_iter=3000,\n",
              "              momentum=0.9, n_iter_no_change=10, nesterovs_momentum=True,\n",
              "              power_t=0.5, random_state=None, shuffle=True, solver='adam',\n",
              "              tol=0.0001, validation_fraction=0.1, verbose=False,\n",
              "              warm_start=False)"
            ]
          },
          "metadata": {
            "tags": []
          },
          "execution_count": 191
        }
      ]
    },
    {
      "cell_type": "code",
      "metadata": {
        "id": "RfARjaxrr0Mh"
      },
      "source": [
        "pred_y = clf.predict(X_scaled)"
      ],
      "execution_count": 192,
      "outputs": []
    },
    {
      "cell_type": "code",
      "metadata": {
        "id": "eKu0V4AZr6ZC",
        "outputId": "676e7556-094c-4494-c1c3-045506eb8196",
        "colab": {
          "base_uri": "https://localhost:8080/"
        }
      },
      "source": [
        "accuracy_score(digits.target, pred_y)"
      ],
      "execution_count": 193,
      "outputs": [
        {
          "output_type": "execute_result",
          "data": {
            "text/plain": [
              "1.0"
            ]
          },
          "metadata": {
            "tags": []
          },
          "execution_count": 193
        }
      ]
    },
    {
      "cell_type": "code",
      "metadata": {
        "id": "pLNFnINpr8xx",
        "outputId": "3a029806-3b7f-4418-f747-871e15b4b7f6",
        "colab": {
          "base_uri": "https://localhost:8080/",
          "height": 610
        }
      },
      "source": [
        "predicted = clf.predict(X_scaled)\n",
        "fig = plt.figure(figsize = (8,8))\n",
        "fig.subplots_adjust(left=0, right=1, bottom=0, top=1, hspace=0.05, wspace=0.05)\n",
        "for i in range(36):\n",
        "  ax = fig.add_subplot(6, 6, i+1, xticks=[], yticks=[])\n",
        "  ax.imshow(digits.images[i],cmap=plt.cm.binary,interpolation='nearest')\n",
        "  ax.text(0, 7, str('{}-{}'.format(digits.target[i],predicted[i])), color=\"red\", fontsize = 20)"
      ],
      "execution_count": 194,
      "outputs": [
        {
          "output_type": "display_data",
          "data": {
            "image/png": "[encoded data removed]",
            "text/plain": [
              "<Figure size 576x576 with 36 Axes>"
            ]
          },
          "metadata": {
            "tags": []
          }
        }
      ]
    },
    {
      "cell_type": "code",
      "metadata": {
        "id": "7-GGuTTusHvB",
        "outputId": "a7a34aab-bbd8-4ad7-fedc-a1f83b195d09",
        "colab": {
          "base_uri": "https://localhost:8080/"
        }
      },
      "source": [
        "clf.coefs_[0].shape"
      ],
      "execution_count": 195,
      "outputs": [
        {
          "output_type": "execute_result",
          "data": {
            "text/plain": [
              "(64, 30)"
            ]
          },
          "metadata": {
            "tags": []
          },
          "execution_count": 195
        }
      ]
    },
    {
      "cell_type": "code",
      "metadata": {
        "id": "k7Y0hZtCsfcU",
        "outputId": "ffe860c4-d5d8-4416-ead8-8e6e35c81418",
        "colab": {
          "base_uri": "https://localhost:8080/"
        }
      },
      "source": [
        "clf.coefs_[1].shape"
      ],
      "execution_count": 196,
      "outputs": [
        {
          "output_type": "execute_result",
          "data": {
            "text/plain": [
              "(30, 30)"
            ]
          },
          "metadata": {
            "tags": []
          },
          "execution_count": 196
        }
      ]
    },
    {
      "cell_type": "code",
      "metadata": {
        "id": "bJ-Cf2gzs0DC",
        "outputId": "26c585b6-2732-4b5f-9df7-a5f85508fce7",
        "colab": {
          "base_uri": "https://localhost:8080/"
        }
      },
      "source": [
        "clf.coefs_[2].shape"
      ],
      "execution_count": 197,
      "outputs": [
        {
          "output_type": "execute_result",
          "data": {
            "text/plain": [
              "(30, 30)"
            ]
          },
          "metadata": {
            "tags": []
          },
          "execution_count": 197
        }
      ]
    },
    {
      "cell_type": "code",
      "metadata": {
        "id": "KenNtrwKs1Py",
        "outputId": "a41dbb3b-97e1-4dba-829c-506603d56593",
        "colab": {
          "base_uri": "https://localhost:8080/"
        }
      },
      "source": [
        "clf.coefs_[3].shape"
      ],
      "execution_count": 198,
      "outputs": [
        {
          "output_type": "execute_result",
          "data": {
            "text/plain": [
              "(30, 10)"
            ]
          },
          "metadata": {
            "tags": []
          },
          "execution_count": 198
        }
      ]
    },
    {
      "cell_type": "code",
      "metadata": {
        "id": "GW9ECYWIs2PC",
        "outputId": "84f06b33-d42b-47fa-85c8-322d372475af",
        "colab": {
          "base_uri": "https://localhost:8080/"
        }
      },
      "source": [
        "clf.coefs_[0]"
      ],
      "execution_count": 199,
      "outputs": [
        {
          "output_type": "execute_result",
          "data": {
            "text/plain": [
              "array([[ 8.14930642e-05,  1.78141891e-06,  1.47899090e-07, ...,\n",
              "         1.43087621e-15, -3.27797486e-04, -2.81232816e-15],\n",
              "       [-6.50742128e-02, -1.29047155e-01, -2.87267903e-01, ...,\n",
              "        -4.86836133e-02,  1.89973756e-01, -2.23742999e-01],\n",
              "       [-7.73804997e-02, -1.85234077e-02, -1.21470929e-01, ...,\n",
              "        -6.26812109e-02, -2.58308920e-01, -1.02878863e-01],\n",
              "       ...,\n",
              "       [-3.37713982e-01,  2.68978283e-01,  3.49641560e-02, ...,\n",
              "         1.80806787e-01, -2.44526439e-01, -1.66626897e-01],\n",
              "       [-3.07252266e-01, -9.45043270e-03,  7.45471432e-02, ...,\n",
              "         1.37780155e-01, -2.48628263e-01, -2.72233098e-01],\n",
              "       [-3.71016804e-01, -4.71416996e-02, -7.06769289e-03, ...,\n",
              "        -3.95285530e-02,  1.24087429e-01, -1.96479133e-01]])"
            ]
          },
          "metadata": {
            "tags": []
          },
          "execution_count": 199
        }
      ]
    },
    {
      "cell_type": "code",
      "metadata": {
        "id": "-kEJQtFFs4vi",
        "outputId": "52a80a31-9f23-4127-d13e-dc9b32ac52eb",
        "colab": {
          "base_uri": "https://localhost:8080/"
        }
      },
      "source": [
        "! wget https://raw.githubusercontent.com/ywchiu/tibamepy/master/data/4.jpg"
      ],
      "execution_count": 96,
      "outputs": [
        {
          "output_type": "stream",
          "text": [
            "--2020-10-31 03:31:39--  https://raw.githubusercontent.com/ywchiu/tibamepy/master/data/4.jpg\n",
            "Resolving raw.githubusercontent.com (raw.githubusercontent.com)... 151.101.0.133, 151.101.64.133, 151.101.128.133, ...\n",
            "Connecting to raw.githubusercontent.com (raw.githubusercontent.com)|151.101.0.133|:443... connected.\n",
            "HTTP request sent, awaiting response... 200 OK\n",
            "Length: 695 [image/jpeg]\n",
            "Saving to: ‘4.jpg’\n",
            "\n",
            "\r4.jpg                 0%[                    ]       0  --.-KB/s               \r4.jpg               100%[===================>]     695  --.-KB/s    in 0s      \n",
            "\n",
            "2020-10-31 03:31:39 (21.3 MB/s) - ‘4.jpg’ saved [695/695]\n",
            "\n"
          ],
          "name": "stdout"
        }
      ]
    },
    {
      "cell_type": "code",
      "metadata": {
        "id": "JmUtOniute6S"
      },
      "source": [
        "from PIL import Image\n",
        "img = Image.open('4.jpg').convert('L')"
      ],
      "execution_count": 200,
      "outputs": []
    },
    {
      "cell_type": "code",
      "metadata": {
        "id": "OkBM0tIatkTT"
      },
      "source": [
        "import numpy as np\n",
        "im = np.array(img)"
      ],
      "execution_count": 201,
      "outputs": []
    },
    {
      "cell_type": "code",
      "metadata": {
        "id": "kWXsgf1Ztl7j"
      },
      "source": [
        "im2 = ((255 - im) / 256 * 16).astype(int)"
      ],
      "execution_count": 202,
      "outputs": []
    },
    {
      "cell_type": "code",
      "metadata": {
        "id": "kF_JvJMIt3kD",
        "outputId": "45f97c37-20f9-449e-bcb1-8cb7b0fabdc9",
        "colab": {
          "base_uri": "https://localhost:8080/",
          "height": 282
        }
      },
      "source": [
        "plt.imshow(im2)"
      ],
      "execution_count": 203,
      "outputs": [
        {
          "output_type": "execute_result",
          "data": {
            "text/plain": [
              "<matplotlib.image.AxesImage at 0x7f53cdfbf4a8>"
            ]
          },
          "metadata": {
            "tags": []
          },
          "execution_count": 203
        },
        {
          "output_type": "display_data",
          "data": {
            "image/png": "[encoded data removed]",
            "text/plain": [
              "<Figure size 432x288 with 1 Axes>"
            ]
          },
          "metadata": {
            "tags": [],
            "needs_background": "light"
          }
        }
      ]
    },
    {
      "cell_type": "code",
      "metadata": {
        "id": "vwlOTd_SuF6j"
      },
      "source": [
        "im2 = im2.reshape((1,64))"
      ],
      "execution_count": 204,
      "outputs": []
    },
    {
      "cell_type": "code",
      "metadata": {
        "id": "-t7GSqIIwdFc"
      },
      "source": [
        "im3 = scaler.transform(im2)"
      ],
      "execution_count": 205,
      "outputs": []
    },
    {
      "cell_type": "code",
      "metadata": {
        "id": "kBFNY-Z0uP0k",
        "outputId": "e595dc29-dc5f-4dd4-fc79-b8479ab49af0",
        "colab": {
          "base_uri": "https://localhost:8080/"
        }
      },
      "source": [
        "clf.predict(im3)"
      ],
      "execution_count": 206,
      "outputs": [
        {
          "output_type": "execute_result",
          "data": {
            "text/plain": [
              "array([4])"
            ]
          },
          "metadata": {
            "tags": []
          },
          "execution_count": 206
        }
      ]
    },
    {
      "cell_type": "code",
      "metadata": {
        "id": "6zqpGVSquajk",
        "outputId": "3f9ea113-14c9-4b18-f3a5-7c0451d51c44",
        "colab": {
          "base_uri": "https://localhost:8080/"
        }
      },
      "source": [
        "im3.dtype"
      ],
      "execution_count": 189,
      "outputs": [
        {
          "output_type": "execute_result",
          "data": {
            "text/plain": [
              "dtype('float64')"
            ]
          },
          "metadata": {
            "tags": []
          },
          "execution_count": 189
        }
      ]
    },
    {
      "cell_type": "code",
      "metadata": {
        "id": "13R0b6XSuj8m"
      },
      "source": [
        ""
      ],
      "execution_count": null,
      "outputs": []
    }
  ]
}