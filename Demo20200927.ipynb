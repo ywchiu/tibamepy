{
  "nbformat": 4,
  "nbformat_minor": 0,
  "metadata": {
    "colab": {
      "name": "Demo20200927.ipynb",
      "provenance": [],
      "collapsed_sections": []
    },
    "kernelspec": {
      "name": "python3",
      "display_name": "Python 3"
    }
  },
  "cells": [
    {
      "cell_type": "markdown",
      "metadata": {
        "id": "cVxWbJ3FQPJ0"
      },
      "source": [
        "## Homework"
      ]
    },
    {
      "cell_type": "code",
      "metadata": {
        "id": "ZV9CjgA3M3jP"
      },
      "source": [
        "import pandas\n",
        "df = pandas.read_csv('https://raw.githubusercontent.com/ywchiu/esunpy/master/data/Churn_Modelling.csv')"
      ],
      "execution_count": 1,
      "outputs": []
    },
    {
      "cell_type": "code",
      "metadata": {
        "id": "cozELFOQOAZW",
        "outputId": "576a3762-e5bf-4115-8367-0f8a571ccc10",
        "colab": {
          "base_uri": "https://localhost:8080/",
          "height": 224
        }
      },
      "source": [
        "df.head()"
      ],
      "execution_count": 2,
      "outputs": [
        {
          "output_type": "execute_result",
          "data": {
            "text/html": [
              "<div>\n",
              "<style scoped>\n",
              "    .dataframe tbody tr th:only-of-type {\n",
              "        vertical-align: middle;\n",
              "    }\n",
              "\n",
              "    .dataframe tbody tr th {\n",
              "        vertical-align: top;\n",
              "    }\n",
              "\n",
              "    .dataframe thead th {\n",
              "        text-align: right;\n",
              "    }\n",
              "</style>\n",
              "<table border=\"1\" class=\"dataframe\">\n",
              "  <thead>\n",
              "    <tr style=\"text-align: right;\">\n",
              "      <th></th>\n",
              "      <th>RowNumber</th>\n",
              "      <th>CustomerId</th>\n",
              "      <th>Surname</th>\n",
              "      <th>CreditScore</th>\n",
              "      <th>Geography</th>\n",
              "      <th>Gender</th>\n",
              "      <th>Age</th>\n",
              "      <th>Tenure</th>\n",
              "      <th>Balance</th>\n",
              "      <th>NumOfProducts</th>\n",
              "      <th>HasCrCard</th>\n",
              "      <th>IsActiveMember</th>\n",
              "      <th>EstimatedSalary</th>\n",
              "      <th>Exited</th>\n",
              "    </tr>\n",
              "  </thead>\n",
              "  <tbody>\n",
              "    <tr>\n",
              "      <th>0</th>\n",
              "      <td>1</td>\n",
              "      <td>15634602</td>\n",
              "      <td>Hargrave</td>\n",
              "      <td>619</td>\n",
              "      <td>France</td>\n",
              "      <td>Female</td>\n",
              "      <td>42</td>\n",
              "      <td>2</td>\n",
              "      <td>0.00</td>\n",
              "      <td>1</td>\n",
              "      <td>1</td>\n",
              "      <td>1</td>\n",
              "      <td>101348.88</td>\n",
              "      <td>1</td>\n",
              "    </tr>\n",
              "    <tr>\n",
              "      <th>1</th>\n",
              "      <td>2</td>\n",
              "      <td>15647311</td>\n",
              "      <td>Hill</td>\n",
              "      <td>608</td>\n",
              "      <td>Spain</td>\n",
              "      <td>Female</td>\n",
              "      <td>41</td>\n",
              "      <td>1</td>\n",
              "      <td>83807.86</td>\n",
              "      <td>1</td>\n",
              "      <td>0</td>\n",
              "      <td>1</td>\n",
              "      <td>112542.58</td>\n",
              "      <td>0</td>\n",
              "    </tr>\n",
              "    <tr>\n",
              "      <th>2</th>\n",
              "      <td>3</td>\n",
              "      <td>15619304</td>\n",
              "      <td>Onio</td>\n",
              "      <td>502</td>\n",
              "      <td>France</td>\n",
              "      <td>Female</td>\n",
              "      <td>42</td>\n",
              "      <td>8</td>\n",
              "      <td>159660.80</td>\n",
              "      <td>3</td>\n",
              "      <td>1</td>\n",
              "      <td>0</td>\n",
              "      <td>113931.57</td>\n",
              "      <td>1</td>\n",
              "    </tr>\n",
              "    <tr>\n",
              "      <th>3</th>\n",
              "      <td>4</td>\n",
              "      <td>15701354</td>\n",
              "      <td>Boni</td>\n",
              "      <td>699</td>\n",
              "      <td>France</td>\n",
              "      <td>Female</td>\n",
              "      <td>39</td>\n",
              "      <td>1</td>\n",
              "      <td>0.00</td>\n",
              "      <td>2</td>\n",
              "      <td>0</td>\n",
              "      <td>0</td>\n",
              "      <td>93826.63</td>\n",
              "      <td>0</td>\n",
              "    </tr>\n",
              "    <tr>\n",
              "      <th>4</th>\n",
              "      <td>5</td>\n",
              "      <td>15737888</td>\n",
              "      <td>Mitchell</td>\n",
              "      <td>850</td>\n",
              "      <td>Spain</td>\n",
              "      <td>Female</td>\n",
              "      <td>43</td>\n",
              "      <td>2</td>\n",
              "      <td>125510.82</td>\n",
              "      <td>1</td>\n",
              "      <td>1</td>\n",
              "      <td>1</td>\n",
              "      <td>79084.10</td>\n",
              "      <td>0</td>\n",
              "    </tr>\n",
              "  </tbody>\n",
              "</table>\n",
              "</div>"
            ],
            "text/plain": [
              "   RowNumber  CustomerId   Surname  ...  IsActiveMember EstimatedSalary Exited\n",
              "0          1    15634602  Hargrave  ...               1       101348.88      1\n",
              "1          2    15647311      Hill  ...               1       112542.58      0\n",
              "2          3    15619304      Onio  ...               0       113931.57      1\n",
              "3          4    15701354      Boni  ...               0        93826.63      0\n",
              "4          5    15737888  Mitchell  ...               1        79084.10      0\n",
              "\n",
              "[5 rows x 14 columns]"
            ]
          },
          "metadata": {
            "tags": []
          },
          "execution_count": 2
        }
      ]
    },
    {
      "cell_type": "code",
      "metadata": {
        "id": "LQlTcB7POBTk",
        "outputId": "d7853b23-5949-414f-8d1a-ac70c9e9d051",
        "colab": {
          "base_uri": "https://localhost:8080/",
          "height": 224
        }
      },
      "source": [
        "! wget https://raw.githubusercontent.com/ywchiu/esunpy/master/data/Churn_Modelling.csv"
      ],
      "execution_count": 3,
      "outputs": [
        {
          "output_type": "stream",
          "text": [
            "--2020-09-27 01:41:48--  https://raw.githubusercontent.com/ywchiu/esunpy/master/data/Churn_Modelling.csv\n",
            "Resolving raw.githubusercontent.com (raw.githubusercontent.com)... 151.101.0.133, 151.101.64.133, 151.101.128.133, ...\n",
            "Connecting to raw.githubusercontent.com (raw.githubusercontent.com)|151.101.0.133|:443... connected.\n",
            "HTTP request sent, awaiting response... 200 OK\n",
            "Length: 674857 (659K) [text/plain]\n",
            "Saving to: ‘Churn_Modelling.csv’\n",
            "\n",
            "\rChurn_Modelling.csv   0%[                    ]       0  --.-KB/s               \rChurn_Modelling.csv 100%[===================>] 659.04K  --.-KB/s    in 0.06s   \n",
            "\n",
            "2020-09-27 01:41:48 (10.4 MB/s) - ‘Churn_Modelling.csv’ saved [674857/674857]\n",
            "\n"
          ],
          "name": "stdout"
        }
      ]
    },
    {
      "cell_type": "code",
      "metadata": {
        "id": "W4ubrWanOSTU"
      },
      "source": [
        "df = pandas.read_csv('Churn_Modelling.csv')"
      ],
      "execution_count": 5,
      "outputs": []
    },
    {
      "cell_type": "code",
      "metadata": {
        "id": "gw_sPM0DOcnz",
        "outputId": "7d6d1eaf-d8e6-45a0-9163-b9774e536df3",
        "colab": {
          "base_uri": "https://localhost:8080/",
          "height": 224
        }
      },
      "source": [
        "df.head()"
      ],
      "execution_count": 6,
      "outputs": [
        {
          "output_type": "execute_result",
          "data": {
            "text/html": [
              "<div>\n",
              "<style scoped>\n",
              "    .dataframe tbody tr th:only-of-type {\n",
              "        vertical-align: middle;\n",
              "    }\n",
              "\n",
              "    .dataframe tbody tr th {\n",
              "        vertical-align: top;\n",
              "    }\n",
              "\n",
              "    .dataframe thead th {\n",
              "        text-align: right;\n",
              "    }\n",
              "</style>\n",
              "<table border=\"1\" class=\"dataframe\">\n",
              "  <thead>\n",
              "    <tr style=\"text-align: right;\">\n",
              "      <th></th>\n",
              "      <th>RowNumber</th>\n",
              "      <th>CustomerId</th>\n",
              "      <th>Surname</th>\n",
              "      <th>CreditScore</th>\n",
              "      <th>Geography</th>\n",
              "      <th>Gender</th>\n",
              "      <th>Age</th>\n",
              "      <th>Tenure</th>\n",
              "      <th>Balance</th>\n",
              "      <th>NumOfProducts</th>\n",
              "      <th>HasCrCard</th>\n",
              "      <th>IsActiveMember</th>\n",
              "      <th>EstimatedSalary</th>\n",
              "      <th>Exited</th>\n",
              "    </tr>\n",
              "  </thead>\n",
              "  <tbody>\n",
              "    <tr>\n",
              "      <th>0</th>\n",
              "      <td>1</td>\n",
              "      <td>15634602</td>\n",
              "      <td>Hargrave</td>\n",
              "      <td>619</td>\n",
              "      <td>France</td>\n",
              "      <td>Female</td>\n",
              "      <td>42</td>\n",
              "      <td>2</td>\n",
              "      <td>0.00</td>\n",
              "      <td>1</td>\n",
              "      <td>1</td>\n",
              "      <td>1</td>\n",
              "      <td>101348.88</td>\n",
              "      <td>1</td>\n",
              "    </tr>\n",
              "    <tr>\n",
              "      <th>1</th>\n",
              "      <td>2</td>\n",
              "      <td>15647311</td>\n",
              "      <td>Hill</td>\n",
              "      <td>608</td>\n",
              "      <td>Spain</td>\n",
              "      <td>Female</td>\n",
              "      <td>41</td>\n",
              "      <td>1</td>\n",
              "      <td>83807.86</td>\n",
              "      <td>1</td>\n",
              "      <td>0</td>\n",
              "      <td>1</td>\n",
              "      <td>112542.58</td>\n",
              "      <td>0</td>\n",
              "    </tr>\n",
              "    <tr>\n",
              "      <th>2</th>\n",
              "      <td>3</td>\n",
              "      <td>15619304</td>\n",
              "      <td>Onio</td>\n",
              "      <td>502</td>\n",
              "      <td>France</td>\n",
              "      <td>Female</td>\n",
              "      <td>42</td>\n",
              "      <td>8</td>\n",
              "      <td>159660.80</td>\n",
              "      <td>3</td>\n",
              "      <td>1</td>\n",
              "      <td>0</td>\n",
              "      <td>113931.57</td>\n",
              "      <td>1</td>\n",
              "    </tr>\n",
              "    <tr>\n",
              "      <th>3</th>\n",
              "      <td>4</td>\n",
              "      <td>15701354</td>\n",
              "      <td>Boni</td>\n",
              "      <td>699</td>\n",
              "      <td>France</td>\n",
              "      <td>Female</td>\n",
              "      <td>39</td>\n",
              "      <td>1</td>\n",
              "      <td>0.00</td>\n",
              "      <td>2</td>\n",
              "      <td>0</td>\n",
              "      <td>0</td>\n",
              "      <td>93826.63</td>\n",
              "      <td>0</td>\n",
              "    </tr>\n",
              "    <tr>\n",
              "      <th>4</th>\n",
              "      <td>5</td>\n",
              "      <td>15737888</td>\n",
              "      <td>Mitchell</td>\n",
              "      <td>850</td>\n",
              "      <td>Spain</td>\n",
              "      <td>Female</td>\n",
              "      <td>43</td>\n",
              "      <td>2</td>\n",
              "      <td>125510.82</td>\n",
              "      <td>1</td>\n",
              "      <td>1</td>\n",
              "      <td>1</td>\n",
              "      <td>79084.10</td>\n",
              "      <td>0</td>\n",
              "    </tr>\n",
              "  </tbody>\n",
              "</table>\n",
              "</div>"
            ],
            "text/plain": [
              "   RowNumber  CustomerId   Surname  ...  IsActiveMember EstimatedSalary Exited\n",
              "0          1    15634602  Hargrave  ...               1       101348.88      1\n",
              "1          2    15647311      Hill  ...               1       112542.58      0\n",
              "2          3    15619304      Onio  ...               0       113931.57      1\n",
              "3          4    15701354      Boni  ...               0        93826.63      0\n",
              "4          5    15737888  Mitchell  ...               1        79084.10      0\n",
              "\n",
              "[5 rows x 14 columns]"
            ]
          },
          "metadata": {
            "tags": []
          },
          "execution_count": 6
        }
      ]
    },
    {
      "cell_type": "code",
      "metadata": {
        "id": "X4lmZm9TOiek",
        "outputId": "bb8c8bab-d738-4d1e-e688-a7acce3402d9",
        "colab": {
          "base_uri": "https://localhost:8080/",
          "height": 85
        }
      },
      "source": [
        "## select gender, avg(estimatedsalary) from df group by gender\n",
        "df.groupby('Gender')['EstimatedSalary'].mean()"
      ],
      "execution_count": 7,
      "outputs": [
        {
          "output_type": "execute_result",
          "data": {
            "text/plain": [
              "Gender\n",
              "Female    100601.541382\n",
              "Male       99664.576931\n",
              "Name: EstimatedSalary, dtype: float64"
            ]
          },
          "metadata": {
            "tags": []
          },
          "execution_count": 7
        }
      ]
    },
    {
      "cell_type": "code",
      "metadata": {
        "id": "66JKtbJ1PILD",
        "outputId": "797b4ce3-31da-4b98-fed7-d513e597b0ec",
        "colab": {
          "base_uri": "https://localhost:8080/",
          "height": 153
        }
      },
      "source": [
        "df.groupby(['Geography','Gender'])['EstimatedSalary'].mean()"
      ],
      "execution_count": 8,
      "outputs": [
        {
          "output_type": "execute_result",
          "data": {
            "text/plain": [
              "Geography  Gender\n",
              "France     Female     99564.252755\n",
              "           Male      100174.252495\n",
              "Germany    Female    102446.424124\n",
              "           Male       99905.033959\n",
              "Spain      Female    100734.107475\n",
              "           Male       98425.687680\n",
              "Name: EstimatedSalary, dtype: float64"
            ]
          },
          "metadata": {
            "tags": []
          },
          "execution_count": 8
        }
      ]
    },
    {
      "cell_type": "markdown",
      "metadata": {
        "id": "YNwZWWFPQL9U"
      },
      "source": [
        "## Panndas IO"
      ]
    },
    {
      "cell_type": "code",
      "metadata": {
        "id": "IrsD05YRPSsD"
      },
      "source": [
        "# csv: Comma-Separated Values 逗號分隔值\n",
        "import pandas\n",
        "df = pandas.read_csv('https://raw.githubusercontent.com/ywchiu/tibamepy/master/data/rent_591_sample.csv')"
      ],
      "execution_count": 9,
      "outputs": []
    },
    {
      "cell_type": "code",
      "metadata": {
        "id": "zy5oC8ZQRJA0",
        "outputId": "207fa0f3-52be-4d41-97dc-1493779d7c9d",
        "colab": {
          "base_uri": "https://localhost:8080/",
          "height": 204
        }
      },
      "source": [
        "df.head()"
      ],
      "execution_count": 10,
      "outputs": [
        {
          "output_type": "execute_result",
          "data": {
            "text/html": [
              "<div>\n",
              "<style scoped>\n",
              "    .dataframe tbody tr th:only-of-type {\n",
              "        vertical-align: middle;\n",
              "    }\n",
              "\n",
              "    .dataframe tbody tr th {\n",
              "        vertical-align: top;\n",
              "    }\n",
              "\n",
              "    .dataframe thead th {\n",
              "        text-align: right;\n",
              "    }\n",
              "</style>\n",
              "<table border=\"1\" class=\"dataframe\">\n",
              "  <thead>\n",
              "    <tr style=\"text-align: right;\">\n",
              "      <th></th>\n",
              "      <th>Unnamed: 0</th>\n",
              "      <th>id</th>\n",
              "      <th>address</th>\n",
              "      <th>floor</th>\n",
              "      <th>allfloor</th>\n",
              "      <th>layout</th>\n",
              "      <th>area</th>\n",
              "      <th>price</th>\n",
              "      <th>browsenum_all</th>\n",
              "    </tr>\n",
              "  </thead>\n",
              "  <tbody>\n",
              "    <tr>\n",
              "      <th>0</th>\n",
              "      <td>0</td>\n",
              "      <td>6032971</td>\n",
              "      <td>永康街47巷永康街五樓頂加..</td>\n",
              "      <td>5</td>\n",
              "      <td>5</td>\n",
              "      <td>5房3廳3衛</td>\n",
              "      <td>46.8</td>\n",
              "      <td>60,000</td>\n",
              "      <td>751</td>\n",
              "    </tr>\n",
              "    <tr>\n",
              "      <th>1</th>\n",
              "      <td>1</td>\n",
              "      <td>6054083</td>\n",
              "      <td>仁愛路四段仁愛路樹海景觀..</td>\n",
              "      <td>7</td>\n",
              "      <td>12</td>\n",
              "      <td>4房2廳2衛</td>\n",
              "      <td>76.9</td>\n",
              "      <td>100,000</td>\n",
              "      <td>162</td>\n",
              "    </tr>\n",
              "    <tr>\n",
              "      <th>2</th>\n",
              "      <td>2</td>\n",
              "      <td>5957980</td>\n",
              "      <td>光復南路高樓層大巨蛋正對..</td>\n",
              "      <td>10</td>\n",
              "      <td>13</td>\n",
              "      <td>4房2廳2衛</td>\n",
              "      <td>71.3</td>\n",
              "      <td>150,000</td>\n",
              "      <td>2385</td>\n",
              "    </tr>\n",
              "    <tr>\n",
              "      <th>3</th>\n",
              "      <td>3</td>\n",
              "      <td>6043839</td>\n",
              "      <td>永康街23巷永康商圈..</td>\n",
              "      <td>3</td>\n",
              "      <td>4</td>\n",
              "      <td>2房1廳1衛</td>\n",
              "      <td>18.0</td>\n",
              "      <td>29,000</td>\n",
              "      <td>1323</td>\n",
              "    </tr>\n",
              "    <tr>\n",
              "      <th>4</th>\n",
              "      <td>4</td>\n",
              "      <td>5181793</td>\n",
              "      <td>雲和街師大*已收訂..</td>\n",
              "      <td>5</td>\n",
              "      <td>5</td>\n",
              "      <td>2房2廳1衛</td>\n",
              "      <td>28.0</td>\n",
              "      <td>31,800</td>\n",
              "      <td>2303</td>\n",
              "    </tr>\n",
              "  </tbody>\n",
              "</table>\n",
              "</div>"
            ],
            "text/plain": [
              "   Unnamed: 0       id          address  ...  area    price browsenum_all\n",
              "0           0  6032971  永康街47巷永康街五樓頂加..  ...  46.8   60,000           751\n",
              "1           1  6054083   仁愛路四段仁愛路樹海景觀..  ...  76.9  100,000           162\n",
              "2           2  5957980   光復南路高樓層大巨蛋正對..  ...  71.3  150,000          2385\n",
              "3           3  6043839     永康街23巷永康商圈..  ...  18.0   29,000          1323\n",
              "4           4  5181793      雲和街師大*已收訂..  ...  28.0   31,800          2303\n",
              "\n",
              "[5 rows x 9 columns]"
            ]
          },
          "metadata": {
            "tags": []
          },
          "execution_count": 10
        }
      ]
    },
    {
      "cell_type": "code",
      "metadata": {
        "id": "HbOS3n6RRJzU"
      },
      "source": [
        "# tab\n",
        "import pandas\n",
        "df = pandas.read_csv('https://raw.githubusercontent.com/ywchiu/tibamepy/master/data/purchase_order.tab', \n",
        "            sep='\\t', header=None, names = ['dt', 'action', 'uid', 'pid', 'quantity', 'price'])"
      ],
      "execution_count": 17,
      "outputs": []
    },
    {
      "cell_type": "code",
      "metadata": {
        "id": "UvK0jZWnRhOW",
        "outputId": "3f63e305-bd26-4c06-8a44-ea4d17c5d5f4",
        "colab": {
          "base_uri": "https://localhost:8080/",
          "height": 204
        }
      },
      "source": [
        "df.head()"
      ],
      "execution_count": 18,
      "outputs": [
        {
          "output_type": "execute_result",
          "data": {
            "text/html": [
              "<div>\n",
              "<style scoped>\n",
              "    .dataframe tbody tr th:only-of-type {\n",
              "        vertical-align: middle;\n",
              "    }\n",
              "\n",
              "    .dataframe tbody tr th {\n",
              "        vertical-align: top;\n",
              "    }\n",
              "\n",
              "    .dataframe thead th {\n",
              "        text-align: right;\n",
              "    }\n",
              "</style>\n",
              "<table border=\"1\" class=\"dataframe\">\n",
              "  <thead>\n",
              "    <tr style=\"text-align: right;\">\n",
              "      <th></th>\n",
              "      <th>dt</th>\n",
              "      <th>action</th>\n",
              "      <th>uid</th>\n",
              "      <th>pid</th>\n",
              "      <th>quantity</th>\n",
              "      <th>price</th>\n",
              "    </tr>\n",
              "  </thead>\n",
              "  <tbody>\n",
              "    <tr>\n",
              "      <th>0</th>\n",
              "      <td>2015-07-01 00:00:01</td>\n",
              "      <td>order</td>\n",
              "      <td>U312622727</td>\n",
              "      <td>P0006944501</td>\n",
              "      <td>1</td>\n",
              "      <td>1069.0</td>\n",
              "    </tr>\n",
              "    <tr>\n",
              "      <th>1</th>\n",
              "      <td>2015-07-01 00:00:03</td>\n",
              "      <td>order</td>\n",
              "      <td>U239012343</td>\n",
              "      <td>P0006018073</td>\n",
              "      <td>1</td>\n",
              "      <td>1680.0</td>\n",
              "    </tr>\n",
              "    <tr>\n",
              "      <th>2</th>\n",
              "      <td>2015-07-01 00:00:19</td>\n",
              "      <td>order</td>\n",
              "      <td>U10007697373</td>\n",
              "      <td>P0002267974</td>\n",
              "      <td>1</td>\n",
              "      <td>285.0</td>\n",
              "    </tr>\n",
              "    <tr>\n",
              "      <th>3</th>\n",
              "      <td>2015-07-01 00:01:10</td>\n",
              "      <td>order</td>\n",
              "      <td>U296328517</td>\n",
              "      <td>P0016144236</td>\n",
              "      <td>1</td>\n",
              "      <td>550.0</td>\n",
              "    </tr>\n",
              "    <tr>\n",
              "      <th>4</th>\n",
              "      <td>2015-07-01 00:01:36</td>\n",
              "      <td>order</td>\n",
              "      <td>U300884570</td>\n",
              "      <td>P0014516980122</td>\n",
              "      <td>1</td>\n",
              "      <td>249.0</td>\n",
              "    </tr>\n",
              "  </tbody>\n",
              "</table>\n",
              "</div>"
            ],
            "text/plain": [
              "                    dt action           uid             pid  quantity   price\n",
              "0  2015-07-01 00:00:01  order    U312622727     P0006944501         1  1069.0\n",
              "1  2015-07-01 00:00:03  order    U239012343     P0006018073         1  1680.0\n",
              "2  2015-07-01 00:00:19  order  U10007697373     P0002267974         1   285.0\n",
              "3  2015-07-01 00:01:10  order    U296328517     P0016144236         1   550.0\n",
              "4  2015-07-01 00:01:36  order    U300884570  P0014516980122         1   249.0"
            ]
          },
          "metadata": {
            "tags": []
          },
          "execution_count": 18
        }
      ]
    },
    {
      "cell_type": "code",
      "metadata": {
        "id": "o_7Cd5O1Rk5S"
      },
      "source": [
        "#df = pandas.read_clipboard()"
      ],
      "execution_count": 20,
      "outputs": []
    },
    {
      "cell_type": "code",
      "metadata": {
        "id": "-AFjGRPTSVvF"
      },
      "source": [
        "df.to_csv('test.csv')"
      ],
      "execution_count": 22,
      "outputs": []
    },
    {
      "cell_type": "code",
      "metadata": {
        "id": "ecCA2xvHSlPT"
      },
      "source": [
        "df.to_excel('test.xlsx')"
      ],
      "execution_count": 23,
      "outputs": []
    },
    {
      "cell_type": "code",
      "metadata": {
        "id": "aQLzF3iAS0oz",
        "outputId": "42380cdf-c4a0-43de-ae2e-5dfceda9caf9",
        "colab": {
          "base_uri": "https://localhost:8080/",
          "height": 103
        }
      },
      "source": [
        "df.head().to_json()"
      ],
      "execution_count": 26,
      "outputs": [
        {
          "output_type": "execute_result",
          "data": {
            "application/vnd.google.colaboratory.intrinsic+json": {
              "type": "string"
            },
            "text/plain": [
              "'{\"dt\":{\"0\":\"2015-07-01 00:00:01\",\"1\":\"2015-07-01 00:00:03\",\"2\":\"2015-07-01 00:00:19\",\"3\":\"2015-07-01 00:01:10\",\"4\":\"2015-07-01 00:01:36\"},\"action\":{\"0\":\"order\",\"1\":\"order\",\"2\":\"order\",\"3\":\"order\",\"4\":\"order\"},\"uid\":{\"0\":\"U312622727\",\"1\":\"U239012343\",\"2\":\"U10007697373\",\"3\":\"U296328517\",\"4\":\"U300884570\"},\"pid\":{\"0\":\"P0006944501\",\"1\":\"P0006018073\",\"2\":\"P0002267974\",\"3\":\"P0016144236\",\"4\":\"P0014516980122\"},\"quantity\":{\"0\":1,\"1\":1,\"2\":1,\"3\":1,\"4\":1},\"price\":{\"0\":1069.0,\"1\":1680.0,\"2\":285.0,\"3\":550.0,\"4\":249.0}}'"
            ]
          },
          "metadata": {
            "tags": []
          },
          "execution_count": 26
        }
      ]
    },
    {
      "cell_type": "code",
      "metadata": {
        "id": "MHj0kuZRS7uj",
        "outputId": "ac4ee8df-3479-4803-80d6-4bc7817168ad",
        "colab": {
          "base_uri": "https://localhost:8080/",
          "height": 54
        }
      },
      "source": [
        "import json\n",
        "json.loads(df.head().T.to_json()).values()"
      ],
      "execution_count": 34,
      "outputs": [
        {
          "output_type": "execute_result",
          "data": {
            "text/plain": [
              "dict_values([{'dt': '2015-07-01 00:00:01', 'action': 'order', 'uid': 'U312622727', 'pid': 'P0006944501', 'quantity': 1, 'price': 1069.0}, {'dt': '2015-07-01 00:00:03', 'action': 'order', 'uid': 'U239012343', 'pid': 'P0006018073', 'quantity': 1, 'price': 1680.0}, {'dt': '2015-07-01 00:00:19', 'action': 'order', 'uid': 'U10007697373', 'pid': 'P0002267974', 'quantity': 1, 'price': 285.0}, {'dt': '2015-07-01 00:01:10', 'action': 'order', 'uid': 'U296328517', 'pid': 'P0016144236', 'quantity': 1, 'price': 550.0}, {'dt': '2015-07-01 00:01:36', 'action': 'order', 'uid': 'U300884570', 'pid': 'P0014516980122', 'quantity': 1, 'price': 249.0}])"
            ]
          },
          "metadata": {
            "tags": []
          },
          "execution_count": 34
        }
      ]
    },
    {
      "cell_type": "code",
      "metadata": {
        "id": "Jg5GNmNkTG4j",
        "outputId": "4b7163ae-0496-426c-ca74-8df545bc067e",
        "colab": {
          "base_uri": "https://localhost:8080/",
          "height": 527
        }
      },
      "source": [
        "df.head().T.to_dict()"
      ],
      "execution_count": 37,
      "outputs": [
        {
          "output_type": "execute_result",
          "data": {
            "text/plain": [
              "{0: {'action': 'order',\n",
              "  'dt': '2015-07-01 00:00:01',\n",
              "  'pid': 'P0006944501',\n",
              "  'price': 1069.0,\n",
              "  'quantity': 1,\n",
              "  'uid': 'U312622727'},\n",
              " 1: {'action': 'order',\n",
              "  'dt': '2015-07-01 00:00:03',\n",
              "  'pid': 'P0006018073',\n",
              "  'price': 1680.0,\n",
              "  'quantity': 1,\n",
              "  'uid': 'U239012343'},\n",
              " 2: {'action': 'order',\n",
              "  'dt': '2015-07-01 00:00:19',\n",
              "  'pid': 'P0002267974',\n",
              "  'price': 285.0,\n",
              "  'quantity': 1,\n",
              "  'uid': 'U10007697373'},\n",
              " 3: {'action': 'order',\n",
              "  'dt': '2015-07-01 00:01:10',\n",
              "  'pid': 'P0016144236',\n",
              "  'price': 550.0,\n",
              "  'quantity': 1,\n",
              "  'uid': 'U296328517'},\n",
              " 4: {'action': 'order',\n",
              "  'dt': '2015-07-01 00:01:36',\n",
              "  'pid': 'P0014516980122',\n",
              "  'price': 249.0,\n",
              "  'quantity': 1,\n",
              "  'uid': 'U300884570'}}"
            ]
          },
          "metadata": {
            "tags": []
          },
          "execution_count": 37
        }
      ]
    },
    {
      "cell_type": "markdown",
      "metadata": {
        "id": "6-BEvDjdUE3W"
      },
      "source": [
        "HTML TABLE"
      ]
    },
    {
      "cell_type": "markdown",
      "metadata": {
        "id": "4Yx05qvUUG8u"
      },
      "source": [
        "<table>\n",
        "  <thead>\n",
        "    <tr><th>c1</th> <th>c2</th></tr>\n",
        "  </thead>\n",
        "  <tbody>\n",
        "    <tr><td>v1</td> <td>v2</td></tr>\n",
        "    <tr><td>v3</td> <td>v4</td></tr>\n",
        "  </tbody>\n",
        "</table>"
      ]
    },
    {
      "cell_type": "code",
      "metadata": {
        "id": "Xl-MtYu0T5Q4",
        "outputId": "474793b4-931f-49f5-9ebb-ac7c9615cf9e",
        "colab": {
          "base_uri": "https://localhost:8080/",
          "height": 68
        }
      },
      "source": [
        "from bs4 import BeautifulSoup\n",
        "table = '''\n",
        "<table>\n",
        "  <thead>\n",
        "    <tr><th>c1</th> <th>c2</th></tr>\n",
        "  </thead>\n",
        "  <tbody>\n",
        "    <tr><td>v1</td> <td>v2</td></tr>\n",
        "    <tr><td>v3</td> <td>v4</td></tr>\n",
        "  </tbody>\n",
        "</table>\n",
        "'''\n",
        "soup = BeautifulSoup(table, 'lxml')\n",
        "for tr in soup.select('tr'):\n",
        "  print(tr.select('td'))"
      ],
      "execution_count": 39,
      "outputs": [
        {
          "output_type": "stream",
          "text": [
            "[]\n",
            "[<td>v1</td>, <td>v2</td>]\n",
            "[<td>v3</td>, <td>v4</td>]\n"
          ],
          "name": "stdout"
        }
      ]
    },
    {
      "cell_type": "code",
      "metadata": {
        "id": "IkxRppAIUxv2",
        "outputId": "1b99b7e1-be0d-4087-b772-a16231910e8d",
        "colab": {
          "base_uri": "https://localhost:8080/",
          "height": 111
        }
      },
      "source": [
        "dfs = pandas.read_html(table)\n",
        "type(dfs)\n",
        "len(dfs)\n",
        "dfs[0]"
      ],
      "execution_count": 45,
      "outputs": [
        {
          "output_type": "execute_result",
          "data": {
            "text/html": [
              "<div>\n",
              "<style scoped>\n",
              "    .dataframe tbody tr th:only-of-type {\n",
              "        vertical-align: middle;\n",
              "    }\n",
              "\n",
              "    .dataframe tbody tr th {\n",
              "        vertical-align: top;\n",
              "    }\n",
              "\n",
              "    .dataframe thead th {\n",
              "        text-align: right;\n",
              "    }\n",
              "</style>\n",
              "<table border=\"1\" class=\"dataframe\">\n",
              "  <thead>\n",
              "    <tr style=\"text-align: right;\">\n",
              "      <th></th>\n",
              "      <th>c1</th>\n",
              "      <th>c2</th>\n",
              "    </tr>\n",
              "  </thead>\n",
              "  <tbody>\n",
              "    <tr>\n",
              "      <th>0</th>\n",
              "      <td>v1</td>\n",
              "      <td>v2</td>\n",
              "    </tr>\n",
              "    <tr>\n",
              "      <th>1</th>\n",
              "      <td>v3</td>\n",
              "      <td>v4</td>\n",
              "    </tr>\n",
              "  </tbody>\n",
              "</table>\n",
              "</div>"
            ],
            "text/plain": [
              "   c1  c2\n",
              "0  v1  v2\n",
              "1  v3  v4"
            ]
          },
          "metadata": {
            "tags": []
          },
          "execution_count": 45
        }
      ]
    },
    {
      "cell_type": "code",
      "metadata": {
        "id": "EPmc5jOqU_8E"
      },
      "source": [
        "import pandas\n",
        "dfs = pandas.read_html('https://money.udn.com/money/breaknews/1001')"
      ],
      "execution_count": 47,
      "outputs": []
    },
    {
      "cell_type": "code",
      "metadata": {
        "id": "Umt3vQtwVo12"
      },
      "source": [
        "#dfs[0]"
      ],
      "execution_count": 49,
      "outputs": []
    },
    {
      "cell_type": "markdown",
      "metadata": {
        "id": "TI1sZA1PWAlx"
      },
      "source": [
        "### Practice\n",
        "- 請將台銀的匯率資訊 (https://rate.bot.com.tw/xrt/quote/l6m/USD) 讀成 pandas DataFrame"
      ]
    },
    {
      "cell_type": "code",
      "metadata": {
        "id": "r3IH9btnVyTE"
      },
      "source": [
        "dfs= pandas.read_html('https://rate.bot.com.tw/xrt/quote/l6m/USD')"
      ],
      "execution_count": 50,
      "outputs": []
    },
    {
      "cell_type": "code",
      "metadata": {
        "id": "BTWOUjraYuWW"
      },
      "source": [
        "df = dfs[0]\n",
        "df = df.iloc[:,:6]"
      ],
      "execution_count": 57,
      "outputs": []
    },
    {
      "cell_type": "code",
      "metadata": {
        "id": "_tvHm1h5Yv7X"
      },
      "source": [
        "df.columns =['掛牌日期', '幣別', '現金匯率-本行買入','現金匯率-本行賣出',\n",
        "             '即期匯率-本行買入','即期匯率-本行賣出']"
      ],
      "execution_count": 60,
      "outputs": []
    },
    {
      "cell_type": "code",
      "metadata": {
        "id": "vHr-7I69Y-eW",
        "outputId": "d1a07f83-85ad-4e7f-9768-d2eb804b48a3",
        "colab": {
          "base_uri": "https://localhost:8080/",
          "height": 204
        }
      },
      "source": [
        "df.head()"
      ],
      "execution_count": 61,
      "outputs": [
        {
          "output_type": "execute_result",
          "data": {
            "text/html": [
              "<div>\n",
              "<style scoped>\n",
              "    .dataframe tbody tr th:only-of-type {\n",
              "        vertical-align: middle;\n",
              "    }\n",
              "\n",
              "    .dataframe tbody tr th {\n",
              "        vertical-align: top;\n",
              "    }\n",
              "\n",
              "    .dataframe thead th {\n",
              "        text-align: right;\n",
              "    }\n",
              "</style>\n",
              "<table border=\"1\" class=\"dataframe\">\n",
              "  <thead>\n",
              "    <tr style=\"text-align: right;\">\n",
              "      <th></th>\n",
              "      <th>掛牌日期</th>\n",
              "      <th>幣別</th>\n",
              "      <th>現金匯率-本行買入</th>\n",
              "      <th>現金匯率-本行賣出</th>\n",
              "      <th>即期匯率-本行買入</th>\n",
              "      <th>即期匯率-本行賣出</th>\n",
              "    </tr>\n",
              "  </thead>\n",
              "  <tbody>\n",
              "    <tr>\n",
              "      <th>0</th>\n",
              "      <td>2020/09/26</td>\n",
              "      <td>美金 (USD)</td>\n",
              "      <td>28.84</td>\n",
              "      <td>29.51</td>\n",
              "      <td>29.19</td>\n",
              "      <td>29.29</td>\n",
              "    </tr>\n",
              "    <tr>\n",
              "      <th>1</th>\n",
              "      <td>2020/09/25</td>\n",
              "      <td>美金 (USD)</td>\n",
              "      <td>28.84</td>\n",
              "      <td>29.51</td>\n",
              "      <td>29.19</td>\n",
              "      <td>29.29</td>\n",
              "    </tr>\n",
              "    <tr>\n",
              "      <th>2</th>\n",
              "      <td>2020/09/24</td>\n",
              "      <td>美金 (USD)</td>\n",
              "      <td>28.88</td>\n",
              "      <td>29.55</td>\n",
              "      <td>29.23</td>\n",
              "      <td>29.33</td>\n",
              "    </tr>\n",
              "    <tr>\n",
              "      <th>3</th>\n",
              "      <td>2020/09/23</td>\n",
              "      <td>美金 (USD)</td>\n",
              "      <td>28.78</td>\n",
              "      <td>29.45</td>\n",
              "      <td>29.13</td>\n",
              "      <td>29.23</td>\n",
              "    </tr>\n",
              "    <tr>\n",
              "      <th>4</th>\n",
              "      <td>2020/09/22</td>\n",
              "      <td>美金 (USD)</td>\n",
              "      <td>28.77</td>\n",
              "      <td>29.44</td>\n",
              "      <td>29.12</td>\n",
              "      <td>29.22</td>\n",
              "    </tr>\n",
              "  </tbody>\n",
              "</table>\n",
              "</div>"
            ],
            "text/plain": [
              "         掛牌日期        幣別  現金匯率-本行買入  現金匯率-本行賣出  即期匯率-本行買入  即期匯率-本行賣出\n",
              "0  2020/09/26  美金 (USD)      28.84      29.51      29.19      29.29\n",
              "1  2020/09/25  美金 (USD)      28.84      29.51      29.19      29.29\n",
              "2  2020/09/24  美金 (USD)      28.88      29.55      29.23      29.33\n",
              "3  2020/09/23  美金 (USD)      28.78      29.45      29.13      29.23\n",
              "4  2020/09/22  美金 (USD)      28.77      29.44      29.12      29.22"
            ]
          },
          "metadata": {
            "tags": []
          },
          "execution_count": 61
        }
      ]
    },
    {
      "cell_type": "code",
      "metadata": {
        "id": "1MXc7mUcZrML"
      },
      "source": [
        "import requests\n",
        "headers = {'user-agent': 'i love goodinfo'}\n",
        "res = requests.get('https://goodinfo.tw/StockInfo/StockBzPerformance.asp?STOCK_ID=2330', headers = headers)\n",
        "res.encoding = 'utf-8'\n",
        "#res.text"
      ],
      "execution_count": 67,
      "outputs": []
    },
    {
      "cell_type": "code",
      "metadata": {
        "id": "sQuE6HZTZZaW"
      },
      "source": [
        "dfs = pandas.read_html(res.text)"
      ],
      "execution_count": 69,
      "outputs": []
    },
    {
      "cell_type": "code",
      "metadata": {
        "id": "2SIA_JzwZpMG",
        "outputId": "7ec5b58e-a7c3-452e-f9d1-7c50ccba683a",
        "colab": {
          "base_uri": "https://localhost:8080/",
          "height": 538
        }
      },
      "source": [
        "dfs[16].head()"
      ],
      "execution_count": 79,
      "outputs": [
        {
          "output_type": "execute_result",
          "data": {
            "text/html": [
              "<div>\n",
              "<style scoped>\n",
              "    .dataframe tbody tr th:only-of-type {\n",
              "        vertical-align: middle;\n",
              "    }\n",
              "\n",
              "    .dataframe tbody tr th {\n",
              "        vertical-align: top;\n",
              "    }\n",
              "\n",
              "    .dataframe thead tr th {\n",
              "        text-align: left;\n",
              "    }\n",
              "</style>\n",
              "<table border=\"1\" class=\"dataframe\">\n",
              "  <thead>\n",
              "    <tr>\n",
              "      <th></th>\n",
              "      <th>年度</th>\n",
              "      <th>股本(億)</th>\n",
              "      <th>財報評分</th>\n",
              "      <th colspan=\"4\" halign=\"left\">年度股價(元)</th>\n",
              "      <th colspan=\"5\" halign=\"left\">獲利金額(億)</th>\n",
              "      <th colspan=\"4\" halign=\"left\">獲利率(%)</th>\n",
              "      <th>ROE(%)</th>\n",
              "      <th>ROA(%)</th>\n",
              "      <th colspan=\"2\" halign=\"left\">EPS(元)</th>\n",
              "      <th>BPS(元)</th>\n",
              "    </tr>\n",
              "    <tr>\n",
              "      <th></th>\n",
              "      <th>年度</th>\n",
              "      <th>股本(億)</th>\n",
              "      <th>財報評分</th>\n",
              "      <th>收盤</th>\n",
              "      <th>平均</th>\n",
              "      <th>漲跌</th>\n",
              "      <th>漲跌(%)</th>\n",
              "      <th>營業收入</th>\n",
              "      <th>營業毛利</th>\n",
              "      <th>營業利益</th>\n",
              "      <th>業外損益</th>\n",
              "      <th>稅後淨利</th>\n",
              "      <th>營業毛利</th>\n",
              "      <th>營業利益</th>\n",
              "      <th>業外損益</th>\n",
              "      <th>稅後淨利</th>\n",
              "      <th>ROE(%)</th>\n",
              "      <th>ROA(%)</th>\n",
              "      <th>稅後EPS</th>\n",
              "      <th>年增(元)</th>\n",
              "      <th>BPS(元)</th>\n",
              "    </tr>\n",
              "    <tr>\n",
              "      <th></th>\n",
              "      <th>年度</th>\n",
              "      <th>股本(億)</th>\n",
              "      <th>財報評分</th>\n",
              "      <th>年度股價(元)</th>\n",
              "      <th>年度股價(元)</th>\n",
              "      <th>年度股價(元)</th>\n",
              "      <th>年度股價(元)</th>\n",
              "      <th>獲利金額(億)</th>\n",
              "      <th>獲利金額(億)</th>\n",
              "      <th>獲利金額(億)</th>\n",
              "      <th>獲利金額(億)</th>\n",
              "      <th>獲利金額(億)</th>\n",
              "      <th>獲利率(%)</th>\n",
              "      <th>獲利率(%)</th>\n",
              "      <th>獲利率(%)</th>\n",
              "      <th>獲利率(%)</th>\n",
              "      <th>ROE(%)</th>\n",
              "      <th>ROA(%)</th>\n",
              "      <th>EPS(元)</th>\n",
              "      <th>EPS(元)</th>\n",
              "      <th>BPS(元)</th>\n",
              "    </tr>\n",
              "    <tr>\n",
              "      <th></th>\n",
              "      <th>年度</th>\n",
              "      <th>股本(億)</th>\n",
              "      <th>財報評分</th>\n",
              "      <th>收盤</th>\n",
              "      <th>平均</th>\n",
              "      <th>漲跌</th>\n",
              "      <th>漲跌(%)</th>\n",
              "      <th>營業收入</th>\n",
              "      <th>營業毛利</th>\n",
              "      <th>營業利益</th>\n",
              "      <th>業外損益</th>\n",
              "      <th>稅後淨利</th>\n",
              "      <th>營業毛利</th>\n",
              "      <th>營業利益</th>\n",
              "      <th>業外損益</th>\n",
              "      <th>稅後淨利</th>\n",
              "      <th>ROE(%)</th>\n",
              "      <th>ROA(%)</th>\n",
              "      <th>稅後EPS</th>\n",
              "      <th>年增(元)</th>\n",
              "      <th>BPS(元)</th>\n",
              "    </tr>\n",
              "  </thead>\n",
              "  <tbody>\n",
              "    <tr>\n",
              "      <th>0</th>\n",
              "      <td>20Q2</td>\n",
              "      <td>2593</td>\n",
              "      <td>96</td>\n",
              "      <td>424</td>\n",
              "      <td>342</td>\n",
              "      <td>+93</td>\n",
              "      <td>+28.1</td>\n",
              "      <td>6213</td>\n",
              "      <td>3254</td>\n",
              "      <td>2596</td>\n",
              "      <td>89.3</td>\n",
              "      <td>2378</td>\n",
              "      <td>52.4</td>\n",
              "      <td>41.8</td>\n",
              "      <td>1.44</td>\n",
              "      <td>38.3</td>\n",
              "      <td>28.5(年估)</td>\n",
              "      <td>20.2(年估)</td>\n",
              "      <td>9.17</td>\n",
              "      <td>+4.23</td>\n",
              "      <td>66.35</td>\n",
              "    </tr>\n",
              "    <tr>\n",
              "      <th>1</th>\n",
              "      <td>2019</td>\n",
              "      <td>2593</td>\n",
              "      <td>89</td>\n",
              "      <td>331</td>\n",
              "      <td>262</td>\n",
              "      <td>+105.5</td>\n",
              "      <td>+46.8</td>\n",
              "      <td>10700</td>\n",
              "      <td>4927</td>\n",
              "      <td>3727</td>\n",
              "      <td>171</td>\n",
              "      <td>3453</td>\n",
              "      <td>46</td>\n",
              "      <td>34.8</td>\n",
              "      <td>1.6</td>\n",
              "      <td>32.3</td>\n",
              "      <td>20.9</td>\n",
              "      <td>15.9</td>\n",
              "      <td>13.32</td>\n",
              "      <td>-0.22</td>\n",
              "      <td>62.53</td>\n",
              "    </tr>\n",
              "    <tr>\n",
              "      <th>2</th>\n",
              "      <td>2018</td>\n",
              "      <td>2593</td>\n",
              "      <td>94</td>\n",
              "      <td>225.5</td>\n",
              "      <td>237</td>\n",
              "      <td>-4</td>\n",
              "      <td>-1.7</td>\n",
              "      <td>10315</td>\n",
              "      <td>4979</td>\n",
              "      <td>3836</td>\n",
              "      <td>139</td>\n",
              "      <td>3511</td>\n",
              "      <td>48.3</td>\n",
              "      <td>37.2</td>\n",
              "      <td>1.35</td>\n",
              "      <td>34</td>\n",
              "      <td>21.9</td>\n",
              "      <td>17.2</td>\n",
              "      <td>13.54</td>\n",
              "      <td>+0.31</td>\n",
              "      <td>64.67</td>\n",
              "    </tr>\n",
              "    <tr>\n",
              "      <th>3</th>\n",
              "      <td>2017</td>\n",
              "      <td>2593</td>\n",
              "      <td>91</td>\n",
              "      <td>229.5</td>\n",
              "      <td>210</td>\n",
              "      <td>+48</td>\n",
              "      <td>+26.4</td>\n",
              "      <td>9774</td>\n",
              "      <td>4948</td>\n",
              "      <td>3856</td>\n",
              "      <td>106</td>\n",
              "      <td>3431</td>\n",
              "      <td>50.6</td>\n",
              "      <td>39.4</td>\n",
              "      <td>1.08</td>\n",
              "      <td>35.1</td>\n",
              "      <td>23.6</td>\n",
              "      <td>17.7</td>\n",
              "      <td>13.23</td>\n",
              "      <td>+0.34</td>\n",
              "      <td>58.70</td>\n",
              "    </tr>\n",
              "    <tr>\n",
              "      <th>4</th>\n",
              "      <td>2016</td>\n",
              "      <td>2593</td>\n",
              "      <td>91</td>\n",
              "      <td>181.5</td>\n",
              "      <td>166</td>\n",
              "      <td>+38.5</td>\n",
              "      <td>+26.9</td>\n",
              "      <td>9479</td>\n",
              "      <td>4748</td>\n",
              "      <td>3780</td>\n",
              "      <td>80</td>\n",
              "      <td>3342</td>\n",
              "      <td>50.1</td>\n",
              "      <td>39.9</td>\n",
              "      <td>0.84</td>\n",
              "      <td>35.3</td>\n",
              "      <td>25.6</td>\n",
              "      <td>18.9</td>\n",
              "      <td>12.89</td>\n",
              "      <td>+1.07</td>\n",
              "      <td>53.58</td>\n",
              "    </tr>\n",
              "  </tbody>\n",
              "</table>\n",
              "</div>"
            ],
            "text/plain": [
              "     年度 股本(億) 財報評分 年度股價(元)          ...    ROE(%)    ROA(%) EPS(元)        BPS(元)\n",
              "     年度 股本(億) 財報評分      收盤      平均  ...    ROE(%)    ROA(%)  稅後EPS  年增(元) BPS(元)\n",
              "     年度 股本(億) 財報評分 年度股價(元) 年度股價(元)  ...    ROE(%)    ROA(%) EPS(元) EPS(元) BPS(元)\n",
              "     年度 股本(億) 財報評分      收盤      平均  ...    ROE(%)    ROA(%)  稅後EPS  年增(元) BPS(元)\n",
              "0  20Q2  2593   96     424     342  ...  28.5(年估)  20.2(年估)   9.17  +4.23  66.35\n",
              "1  2019  2593   89     331     262  ...      20.9      15.9  13.32  -0.22  62.53\n",
              "2  2018  2593   94   225.5     237  ...      21.9      17.2  13.54  +0.31  64.67\n",
              "3  2017  2593   91   229.5     210  ...      23.6      17.7  13.23  +0.34  58.70\n",
              "4  2016  2593   91   181.5     166  ...      25.6      18.9  12.89  +1.07  53.58\n",
              "\n",
              "[5 rows x 21 columns]"
            ]
          },
          "metadata": {
            "tags": []
          },
          "execution_count": 79
        }
      ]
    },
    {
      "cell_type": "markdown",
      "metadata": {
        "id": "-5YdQf-jiZdJ"
      },
      "source": [
        "## SQLite"
      ]
    },
    {
      "cell_type": "code",
      "metadata": {
        "id": "9J0LalzqiYqg"
      },
      "source": [
        "import sqlite3 as lite\n",
        "con = lite.connect('test.sqlite')\n",
        "cur = con.cursor()\n",
        "cur.execute('SELECT SQLITE_VERSION()')\n",
        "data = cur.fetchone()\n",
        "data\n",
        "con.close()"
      ],
      "execution_count": 82,
      "outputs": []
    },
    {
      "cell_type": "code",
      "metadata": {
        "id": "ktzMSDeLiv49",
        "outputId": "b6265db1-c8d0-4609-a936-6b8a8d049dda",
        "colab": {
          "base_uri": "https://localhost:8080/",
          "height": 34
        }
      },
      "source": [
        "import sqlite3 as lite\n",
        "with lite.connect('test.sqlite') as con:\n",
        "  cur = con.cursor()\n",
        "  cur.execute('SELECT SQLITE_VERSION()')\n",
        "  data = cur.fetchone()\n",
        "  print(data)\n"
      ],
      "execution_count": 83,
      "outputs": [
        {
          "output_type": "stream",
          "text": [
            "('3.22.0',)\n"
          ],
          "name": "stdout"
        }
      ]
    },
    {
      "cell_type": "code",
      "metadata": {
        "id": "1SJSqW8NjXX8",
        "outputId": "063f077f-0b58-419c-da0c-5e97ffd7cd4b",
        "colab": {
          "base_uri": "https://localhost:8080/",
          "height": 68
        }
      },
      "source": [
        "import sqlite3 as lite\n",
        "with lite.connect(\"test.sqlite\") as con:\n",
        "  cur = con.cursor()\n",
        "  ## Drop: 捨棄資料表\n",
        "  cur.execute(\"DROP TABLE IF EXISTS PhoneAddress\")\n",
        "\n",
        "  ## Create: 建立資料表\n",
        "  cur.execute(\"\"\"CREATE TABLE PhoneAddress(\n",
        "          phone CHAR(10) PRIMARY KEY, \n",
        "          address TEXT, \n",
        "          name TEXT unique, \n",
        "          age INT NOT NULL)\"\"\")\n",
        "  \n",
        "  ## Insert: 插入資料\n",
        "  cur.execute(\"INSERT INTO PhoneAddress VALUES('0912173381','United State','Jhon Doe',53)\")\n",
        "  cur.execute(\"INSERT INTO PhoneAddress VALUES('0928375018','Tokyo Japan','MuMu Cat',6)\")\n",
        "  cur.execute(\"INSERT INTO PhoneAddress VALUES('0957209108','Taipei','Richard',29)\")\n",
        "\n",
        "  ## Select: 資料撈取\n",
        "  cur.execute(\"SELECT phone,address FROM PhoneAddress\")\n",
        "  data = cur.fetchall()\n",
        "  for rec in data:\n",
        "    print(rec[0], rec[1])\n"
      ],
      "execution_count": 84,
      "outputs": [
        {
          "output_type": "stream",
          "text": [
            "0912173381 United State\n",
            "0928375018 Tokyo Japan\n",
            "0957209108 Taipei\n"
          ],
          "name": "stdout"
        }
      ]
    },
    {
      "cell_type": "code",
      "metadata": {
        "id": "SOEvPdNPkS-X",
        "outputId": "cc72616e-edb3-4535-b61e-c1b6c9488773",
        "colab": {
          "base_uri": "https://localhost:8080/",
          "height": 68
        }
      },
      "source": [
        "import sqlite3 as lite\n",
        "with lite.connect(\"test.sqlite\") as con:\n",
        "  cur = con.cursor()\n",
        "  ## Select: 資料撈取\n",
        "  cur.execute(\"SELECT phone,address FROM PhoneAddress\")\n",
        "  data = cur.fetchall()\n",
        "  for rec in data:\n",
        "    print(rec[0], rec[1])\n"
      ],
      "execution_count": 85,
      "outputs": [
        {
          "output_type": "stream",
          "text": [
            "0912173381 United State\n",
            "0928375018 Tokyo Japan\n",
            "0957209108 Taipei\n"
          ],
          "name": "stdout"
        }
      ]
    },
    {
      "cell_type": "code",
      "metadata": {
        "id": "fijDIf6bkgVd",
        "outputId": "d346c908-477b-451f-e062-f1110d72f227",
        "colab": {
          "base_uri": "https://localhost:8080/",
          "height": 85
        }
      },
      "source": [
        "import sqlite3 as lite\n",
        "with lite.connect(\"test.sqlite\") as con:\n",
        "  cur = con.cursor()\n",
        "  ## Select: 資料撈取\n",
        "  cur.execute(\"SELECT phone,address FROM PhoneAddress\")\n",
        "  data = cur.fetchone()\n",
        "  print(data)\n",
        "  print('===================================')\n",
        "  data2 = cur.fetchall()\n",
        "  for rec in data2:\n",
        "    print(rec[0], rec[1])\n"
      ],
      "execution_count": 89,
      "outputs": [
        {
          "output_type": "stream",
          "text": [
            "('0912173381', 'United State')\n",
            "===================================\n",
            "0928375018 Tokyo Japan\n",
            "0957209108 Taipei\n"
          ],
          "name": "stdout"
        }
      ]
    },
    {
      "cell_type": "code",
      "metadata": {
        "id": "qW6QfH64k2Ye"
      },
      "source": [
        "import sqlite3 as lite\n",
        "import pandas\n",
        "employee = [{'name':'Mary', 'age':23 , 'gender': 'F'},{'name':'John',\n",
        "'age':33 , 'gender': 'M'}]\n",
        "df = pandas.DataFrame(employee)"
      ],
      "execution_count": 90,
      "outputs": []
    },
    {
      "cell_type": "code",
      "metadata": {
        "id": "jfstSReEl4aR",
        "outputId": "ecbf460b-f7f2-439e-a290-c3cabb8fe67a",
        "colab": {
          "base_uri": "https://localhost:8080/",
          "height": 111
        }
      },
      "source": [
        "df.head()"
      ],
      "execution_count": 91,
      "outputs": [
        {
          "output_type": "execute_result",
          "data": {
            "text/html": [
              "<div>\n",
              "<style scoped>\n",
              "    .dataframe tbody tr th:only-of-type {\n",
              "        vertical-align: middle;\n",
              "    }\n",
              "\n",
              "    .dataframe tbody tr th {\n",
              "        vertical-align: top;\n",
              "    }\n",
              "\n",
              "    .dataframe thead th {\n",
              "        text-align: right;\n",
              "    }\n",
              "</style>\n",
              "<table border=\"1\" class=\"dataframe\">\n",
              "  <thead>\n",
              "    <tr style=\"text-align: right;\">\n",
              "      <th></th>\n",
              "      <th>name</th>\n",
              "      <th>age</th>\n",
              "      <th>gender</th>\n",
              "    </tr>\n",
              "  </thead>\n",
              "  <tbody>\n",
              "    <tr>\n",
              "      <th>0</th>\n",
              "      <td>Mary</td>\n",
              "      <td>23</td>\n",
              "      <td>F</td>\n",
              "    </tr>\n",
              "    <tr>\n",
              "      <th>1</th>\n",
              "      <td>John</td>\n",
              "      <td>33</td>\n",
              "      <td>M</td>\n",
              "    </tr>\n",
              "  </tbody>\n",
              "</table>\n",
              "</div>"
            ],
            "text/plain": [
              "   name  age gender\n",
              "0  Mary   23      F\n",
              "1  John   33      M"
            ]
          },
          "metadata": {
            "tags": []
          },
          "execution_count": 91
        }
      ]
    },
    {
      "cell_type": "code",
      "metadata": {
        "id": "xvjMr3Kml6Ow"
      },
      "source": [
        "with lite.connect('test.sqlite') as con:\n",
        "  df.to_sql('employee', con = con, if_exists='replace')"
      ],
      "execution_count": 92,
      "outputs": []
    },
    {
      "cell_type": "code",
      "metadata": {
        "id": "9QZM3VB4mXTv",
        "outputId": "f016a868-8f8d-4693-9a5c-d21e5b49b285",
        "colab": {
          "base_uri": "https://localhost:8080/",
          "height": 111
        }
      },
      "source": [
        "with lite.connect('test.sqlite') as con:\n",
        "  df2 = pandas.read_sql_query('select * from employee', con = con)\n",
        "df2"
      ],
      "execution_count": 93,
      "outputs": [
        {
          "output_type": "execute_result",
          "data": {
            "text/html": [
              "<div>\n",
              "<style scoped>\n",
              "    .dataframe tbody tr th:only-of-type {\n",
              "        vertical-align: middle;\n",
              "    }\n",
              "\n",
              "    .dataframe tbody tr th {\n",
              "        vertical-align: top;\n",
              "    }\n",
              "\n",
              "    .dataframe thead th {\n",
              "        text-align: right;\n",
              "    }\n",
              "</style>\n",
              "<table border=\"1\" class=\"dataframe\">\n",
              "  <thead>\n",
              "    <tr style=\"text-align: right;\">\n",
              "      <th></th>\n",
              "      <th>index</th>\n",
              "      <th>name</th>\n",
              "      <th>age</th>\n",
              "      <th>gender</th>\n",
              "    </tr>\n",
              "  </thead>\n",
              "  <tbody>\n",
              "    <tr>\n",
              "      <th>0</th>\n",
              "      <td>0</td>\n",
              "      <td>Mary</td>\n",
              "      <td>23</td>\n",
              "      <td>F</td>\n",
              "    </tr>\n",
              "    <tr>\n",
              "      <th>1</th>\n",
              "      <td>1</td>\n",
              "      <td>John</td>\n",
              "      <td>33</td>\n",
              "      <td>M</td>\n",
              "    </tr>\n",
              "  </tbody>\n",
              "</table>\n",
              "</div>"
            ],
            "text/plain": [
              "   index  name  age gender\n",
              "0      0  Mary   23      F\n",
              "1      1  John   33      M"
            ]
          },
          "metadata": {
            "tags": []
          },
          "execution_count": 93
        }
      ]
    },
    {
      "cell_type": "markdown",
      "metadata": {
        "id": "Q6VV6_5ZnmWE"
      },
      "source": [
        "## Database Operation"
      ]
    },
    {
      "cell_type": "code",
      "metadata": {
        "id": "xRuDrllommA_"
      },
      "source": [
        "import pandas\n",
        "df = pandas.read_csv('https://raw.githubusercontent.com/ywchiu/tibamepy/master/data/rent_591_sample.csv', index_col = 0)"
      ],
      "execution_count": 112,
      "outputs": []
    },
    {
      "cell_type": "code",
      "metadata": {
        "id": "dpx20uBCnqhQ",
        "outputId": "0c3f5dd8-46ed-437f-c8a6-b1c1ab11a716",
        "colab": {
          "base_uri": "https://localhost:8080/",
          "height": 204
        }
      },
      "source": [
        "df.head()"
      ],
      "execution_count": 113,
      "outputs": [
        {
          "output_type": "execute_result",
          "data": {
            "text/html": [
              "<div>\n",
              "<style scoped>\n",
              "    .dataframe tbody tr th:only-of-type {\n",
              "        vertical-align: middle;\n",
              "    }\n",
              "\n",
              "    .dataframe tbody tr th {\n",
              "        vertical-align: top;\n",
              "    }\n",
              "\n",
              "    .dataframe thead th {\n",
              "        text-align: right;\n",
              "    }\n",
              "</style>\n",
              "<table border=\"1\" class=\"dataframe\">\n",
              "  <thead>\n",
              "    <tr style=\"text-align: right;\">\n",
              "      <th></th>\n",
              "      <th>id</th>\n",
              "      <th>address</th>\n",
              "      <th>floor</th>\n",
              "      <th>allfloor</th>\n",
              "      <th>layout</th>\n",
              "      <th>area</th>\n",
              "      <th>price</th>\n",
              "      <th>browsenum_all</th>\n",
              "    </tr>\n",
              "  </thead>\n",
              "  <tbody>\n",
              "    <tr>\n",
              "      <th>0</th>\n",
              "      <td>6032971</td>\n",
              "      <td>永康街47巷永康街五樓頂加..</td>\n",
              "      <td>5</td>\n",
              "      <td>5</td>\n",
              "      <td>5房3廳3衛</td>\n",
              "      <td>46.8</td>\n",
              "      <td>60,000</td>\n",
              "      <td>751</td>\n",
              "    </tr>\n",
              "    <tr>\n",
              "      <th>1</th>\n",
              "      <td>6054083</td>\n",
              "      <td>仁愛路四段仁愛路樹海景觀..</td>\n",
              "      <td>7</td>\n",
              "      <td>12</td>\n",
              "      <td>4房2廳2衛</td>\n",
              "      <td>76.9</td>\n",
              "      <td>100,000</td>\n",
              "      <td>162</td>\n",
              "    </tr>\n",
              "    <tr>\n",
              "      <th>2</th>\n",
              "      <td>5957980</td>\n",
              "      <td>光復南路高樓層大巨蛋正對..</td>\n",
              "      <td>10</td>\n",
              "      <td>13</td>\n",
              "      <td>4房2廳2衛</td>\n",
              "      <td>71.3</td>\n",
              "      <td>150,000</td>\n",
              "      <td>2385</td>\n",
              "    </tr>\n",
              "    <tr>\n",
              "      <th>3</th>\n",
              "      <td>6043839</td>\n",
              "      <td>永康街23巷永康商圈..</td>\n",
              "      <td>3</td>\n",
              "      <td>4</td>\n",
              "      <td>2房1廳1衛</td>\n",
              "      <td>18.0</td>\n",
              "      <td>29,000</td>\n",
              "      <td>1323</td>\n",
              "    </tr>\n",
              "    <tr>\n",
              "      <th>4</th>\n",
              "      <td>5181793</td>\n",
              "      <td>雲和街師大*已收訂..</td>\n",
              "      <td>5</td>\n",
              "      <td>5</td>\n",
              "      <td>2房2廳1衛</td>\n",
              "      <td>28.0</td>\n",
              "      <td>31,800</td>\n",
              "      <td>2303</td>\n",
              "    </tr>\n",
              "  </tbody>\n",
              "</table>\n",
              "</div>"
            ],
            "text/plain": [
              "        id          address  floor  ...  area    price  browsenum_all\n",
              "0  6032971  永康街47巷永康街五樓頂加..      5  ...  46.8   60,000            751\n",
              "1  6054083   仁愛路四段仁愛路樹海景觀..      7  ...  76.9  100,000            162\n",
              "2  5957980   光復南路高樓層大巨蛋正對..     10  ...  71.3  150,000           2385\n",
              "3  6043839     永康街23巷永康商圈..      3  ...  18.0   29,000           1323\n",
              "4  5181793      雲和街師大*已收訂..      5  ...  28.0   31,800           2303\n",
              "\n",
              "[5 rows x 8 columns]"
            ]
          },
          "metadata": {
            "tags": []
          },
          "execution_count": 113
        }
      ]
    },
    {
      "cell_type": "code",
      "metadata": {
        "id": "iJrnaB9jnq_A"
      },
      "source": [
        "df['price'] = df['price'].map(lambda e: int(e.replace(',','')))"
      ],
      "execution_count": 114,
      "outputs": []
    },
    {
      "cell_type": "code",
      "metadata": {
        "id": "TJUQlJG7pS5g"
      },
      "source": [
        "df['road'] = df['address'].str.extract('(.+?[街路])')"
      ],
      "execution_count": 117,
      "outputs": []
    },
    {
      "cell_type": "code",
      "metadata": {
        "id": "L4CnYHITn3oB"
      },
      "source": [
        "with lite.connect('house.sqlite') as con:\n",
        "  df.to_sql('rent_591', con = con, if_exists = 'replace', index =None)"
      ],
      "execution_count": 118,
      "outputs": []
    },
    {
      "cell_type": "code",
      "metadata": {
        "id": "oKmhBB2-oAYR",
        "outputId": "a7ced509-ce6d-44ca-801f-313425cd47b3",
        "colab": {
          "base_uri": "https://localhost:8080/",
          "height": 173
        }
      },
      "source": [
        "with lite.connect('house.sqlite') as con:\n",
        "  #df2 = pandas.read_sql_query('SELECT * FROM rent_591;', con = con)\n",
        "  #df2 = pandas.read_sql_query('SELECT id, address, price FROM rent_591;', con = con)\n",
        "  #df2 = pandas.read_sql_query('SELECT id, address, price FROM rent_591 WHERE price > 100000;', con = con)\n",
        "  #df2 = pandas.read_sql_query('SELECT id, address, price FROM rent_591 WHERE price > 100000 ORDER BY price DESC;', con = con)\n",
        "  #df2 = pandas.read_sql_query('SELECT id, address, price FROM rent_591 WHERE price > 100000 ORDER BY price DESC LIMIT 3;', con = con)\n",
        "  #df2 = pandas.read_sql_query('SELECT road, avg(price) FROM rent_591 group by road', con = con)\n",
        "  df2 = pandas.read_sql_query('SELECT road, avg(price) FROM rent_591 group by road having avg(price) > 100000', con = con)\n",
        "df2"
      ],
      "execution_count": 121,
      "outputs": [
        {
          "output_type": "execute_result",
          "data": {
            "text/html": [
              "<div>\n",
              "<style scoped>\n",
              "    .dataframe tbody tr th:only-of-type {\n",
              "        vertical-align: middle;\n",
              "    }\n",
              "\n",
              "    .dataframe tbody tr th {\n",
              "        vertical-align: top;\n",
              "    }\n",
              "\n",
              "    .dataframe thead th {\n",
              "        text-align: right;\n",
              "    }\n",
              "</style>\n",
              "<table border=\"1\" class=\"dataframe\">\n",
              "  <thead>\n",
              "    <tr style=\"text-align: right;\">\n",
              "      <th></th>\n",
              "      <th>road</th>\n",
              "      <th>avg(price)</th>\n",
              "    </tr>\n",
              "  </thead>\n",
              "  <tbody>\n",
              "    <tr>\n",
              "      <th>0</th>\n",
              "      <td>敦南街</td>\n",
              "      <td>180000.000000</td>\n",
              "    </tr>\n",
              "    <tr>\n",
              "      <th>1</th>\n",
              "      <td>新生南路</td>\n",
              "      <td>113914.947368</td>\n",
              "    </tr>\n",
              "    <tr>\n",
              "      <th>2</th>\n",
              "      <td>樂利路</td>\n",
              "      <td>149999.500000</td>\n",
              "    </tr>\n",
              "    <tr>\n",
              "      <th>3</th>\n",
              "      <td>樂業街</td>\n",
              "      <td>103996.500000</td>\n",
              "    </tr>\n",
              "  </tbody>\n",
              "</table>\n",
              "</div>"
            ],
            "text/plain": [
              "   road     avg(price)\n",
              "0   敦南街  180000.000000\n",
              "1  新生南路  113914.947368\n",
              "2   樂利路  149999.500000\n",
              "3   樂業街  103996.500000"
            ]
          },
          "metadata": {
            "tags": []
          },
          "execution_count": 121
        }
      ]
    },
    {
      "cell_type": "markdown",
      "metadata": {
        "id": "aF83XJ0uqti4"
      },
      "source": [
        "### Practice\n",
        "請將 purchase order (https://raw.githubusercontent.com/ywchiu/tibamepy/master/data/purchase_order.tab) \n",
        "\n",
        "欄位:['dt', 'action', 'uid', 'pid', 'quantity', 'price']\n",
        "\n",
        "1. 讀取入Pandas DataFrame 之中\n",
        "2. 再將資料存入到名為purchase.sqlite 的資料庫之中的product_order 表\n",
        "3. 請使用SQL 語句找出最熱銷的產品 (count, group by )"
      ]
    },
    {
      "cell_type": "code",
      "metadata": {
        "id": "R2VpxBdWogCh",
        "outputId": "b0b7b7bf-2f36-4472-c2df-a0bfbfc30daa",
        "colab": {
          "base_uri": "https://localhost:8080/",
          "height": 204
        }
      },
      "source": [
        "import pandas\n",
        "df = pandas.read_csv('https://raw.githubusercontent.com/ywchiu/tibamepy/master/data/purchase_order.tab', \n",
        "                     sep = '\\t', header = None,names = ['dt', 'action', 'uid', 'pid', 'quantity', 'price'])\n",
        "df.head()"
      ],
      "execution_count": 126,
      "outputs": [
        {
          "output_type": "execute_result",
          "data": {
            "text/html": [
              "<div>\n",
              "<style scoped>\n",
              "    .dataframe tbody tr th:only-of-type {\n",
              "        vertical-align: middle;\n",
              "    }\n",
              "\n",
              "    .dataframe tbody tr th {\n",
              "        vertical-align: top;\n",
              "    }\n",
              "\n",
              "    .dataframe thead th {\n",
              "        text-align: right;\n",
              "    }\n",
              "</style>\n",
              "<table border=\"1\" class=\"dataframe\">\n",
              "  <thead>\n",
              "    <tr style=\"text-align: right;\">\n",
              "      <th></th>\n",
              "      <th>dt</th>\n",
              "      <th>action</th>\n",
              "      <th>uid</th>\n",
              "      <th>pid</th>\n",
              "      <th>quantity</th>\n",
              "      <th>price</th>\n",
              "    </tr>\n",
              "  </thead>\n",
              "  <tbody>\n",
              "    <tr>\n",
              "      <th>0</th>\n",
              "      <td>2015-07-01 00:00:01</td>\n",
              "      <td>order</td>\n",
              "      <td>U312622727</td>\n",
              "      <td>P0006944501</td>\n",
              "      <td>1</td>\n",
              "      <td>1069.0</td>\n",
              "    </tr>\n",
              "    <tr>\n",
              "      <th>1</th>\n",
              "      <td>2015-07-01 00:00:03</td>\n",
              "      <td>order</td>\n",
              "      <td>U239012343</td>\n",
              "      <td>P0006018073</td>\n",
              "      <td>1</td>\n",
              "      <td>1680.0</td>\n",
              "    </tr>\n",
              "    <tr>\n",
              "      <th>2</th>\n",
              "      <td>2015-07-01 00:00:19</td>\n",
              "      <td>order</td>\n",
              "      <td>U10007697373</td>\n",
              "      <td>P0002267974</td>\n",
              "      <td>1</td>\n",
              "      <td>285.0</td>\n",
              "    </tr>\n",
              "    <tr>\n",
              "      <th>3</th>\n",
              "      <td>2015-07-01 00:01:10</td>\n",
              "      <td>order</td>\n",
              "      <td>U296328517</td>\n",
              "      <td>P0016144236</td>\n",
              "      <td>1</td>\n",
              "      <td>550.0</td>\n",
              "    </tr>\n",
              "    <tr>\n",
              "      <th>4</th>\n",
              "      <td>2015-07-01 00:01:36</td>\n",
              "      <td>order</td>\n",
              "      <td>U300884570</td>\n",
              "      <td>P0014516980122</td>\n",
              "      <td>1</td>\n",
              "      <td>249.0</td>\n",
              "    </tr>\n",
              "  </tbody>\n",
              "</table>\n",
              "</div>"
            ],
            "text/plain": [
              "                    dt action           uid             pid  quantity   price\n",
              "0  2015-07-01 00:00:01  order    U312622727     P0006944501         1  1069.0\n",
              "1  2015-07-01 00:00:03  order    U239012343     P0006018073         1  1680.0\n",
              "2  2015-07-01 00:00:19  order  U10007697373     P0002267974         1   285.0\n",
              "3  2015-07-01 00:01:10  order    U296328517     P0016144236         1   550.0\n",
              "4  2015-07-01 00:01:36  order    U300884570  P0014516980122         1   249.0"
            ]
          },
          "metadata": {
            "tags": []
          },
          "execution_count": 126
        }
      ]
    },
    {
      "cell_type": "code",
      "metadata": {
        "id": "v7uUMKedwcMr"
      },
      "source": [
        "import sqlite3 as lite\n",
        "with lite.connect('purchase.sqlite') as con:\n",
        "  df.to_sql('product_order', con = con, if_exists='replace')\n"
      ],
      "execution_count": 127,
      "outputs": []
    },
    {
      "cell_type": "code",
      "metadata": {
        "id": "JvXti4yBxDGw",
        "outputId": "58b4808e-e48d-4ae7-d3fc-9cbfd6cb9dbf",
        "colab": {
          "base_uri": "https://localhost:8080/",
          "height": 359
        }
      },
      "source": [
        "import sqlite3 as lite\n",
        "with lite.connect('purchase.sqlite') as con:\n",
        "  #df2 = pandas.read_sql_query('select pid, count(pid) as pid_cnt from product_order group by pid order by pid_cnt desc limit 10', con = con)\n",
        "  #df2 = pandas.read_sql_query('select pid, sum(quantity) as pid_cnt from product_order group by pid order by pid_cnt desc limit 10', con = con)\n",
        "  #df2 = pandas.read_sql_query('select uid, sum(quantity * price) as total_amt from product_order group by pid order by total_amt desc limit 10', con = con)\n",
        "  df2 = pandas.read_sql_query('select pid, max(price) from product_order group by pid order by price desc limit 10', con = con)\n",
        "df2"
      ],
      "execution_count": 136,
      "outputs": [
        {
          "output_type": "execute_result",
          "data": {
            "text/html": [
              "<div>\n",
              "<style scoped>\n",
              "    .dataframe tbody tr th:only-of-type {\n",
              "        vertical-align: middle;\n",
              "    }\n",
              "\n",
              "    .dataframe tbody tr th {\n",
              "        vertical-align: top;\n",
              "    }\n",
              "\n",
              "    .dataframe thead th {\n",
              "        text-align: right;\n",
              "    }\n",
              "</style>\n",
              "<table border=\"1\" class=\"dataframe\">\n",
              "  <thead>\n",
              "    <tr style=\"text-align: right;\">\n",
              "      <th></th>\n",
              "      <th>pid</th>\n",
              "      <th>max(price)</th>\n",
              "    </tr>\n",
              "  </thead>\n",
              "  <tbody>\n",
              "    <tr>\n",
              "      <th>0</th>\n",
              "      <td>P0000143500</td>\n",
              "      <td>438888.0</td>\n",
              "    </tr>\n",
              "    <tr>\n",
              "      <th>1</th>\n",
              "      <td>P0000143511</td>\n",
              "      <td>438888.0</td>\n",
              "    </tr>\n",
              "    <tr>\n",
              "      <th>2</th>\n",
              "      <td>P0006584093</td>\n",
              "      <td>320000.0</td>\n",
              "    </tr>\n",
              "    <tr>\n",
              "      <th>3</th>\n",
              "      <td>P0025280275</td>\n",
              "      <td>183900.0</td>\n",
              "    </tr>\n",
              "    <tr>\n",
              "      <th>4</th>\n",
              "      <td>P0000150006</td>\n",
              "      <td>111375.0</td>\n",
              "    </tr>\n",
              "    <tr>\n",
              "      <th>5</th>\n",
              "      <td>P0018535252</td>\n",
              "      <td>98880.0</td>\n",
              "    </tr>\n",
              "    <tr>\n",
              "      <th>6</th>\n",
              "      <td>P0024251250030</td>\n",
              "      <td>98800.0</td>\n",
              "    </tr>\n",
              "    <tr>\n",
              "      <th>7</th>\n",
              "      <td>P0007107866</td>\n",
              "      <td>97900.0</td>\n",
              "    </tr>\n",
              "    <tr>\n",
              "      <th>8</th>\n",
              "      <td>P0009915463</td>\n",
              "      <td>93900.0</td>\n",
              "    </tr>\n",
              "    <tr>\n",
              "      <th>9</th>\n",
              "      <td>P0000218240035</td>\n",
              "      <td>93500.0</td>\n",
              "    </tr>\n",
              "  </tbody>\n",
              "</table>\n",
              "</div>"
            ],
            "text/plain": [
              "              pid  max(price)\n",
              "0     P0000143500    438888.0\n",
              "1     P0000143511    438888.0\n",
              "2     P0006584093    320000.0\n",
              "3     P0025280275    183900.0\n",
              "4     P0000150006    111375.0\n",
              "5     P0018535252     98880.0\n",
              "6  P0024251250030     98800.0\n",
              "7     P0007107866     97900.0\n",
              "8     P0009915463     93900.0\n",
              "9  P0000218240035     93500.0"
            ]
          },
          "metadata": {
            "tags": []
          },
          "execution_count": 136
        }
      ]
    },
    {
      "cell_type": "code",
      "metadata": {
        "id": "CSNSqPogxT4n",
        "outputId": "17e0ef3f-18a4-4a2f-83b3-8f6fbe9eb6ba",
        "colab": {
          "base_uri": "https://localhost:8080/",
          "height": 204
        }
      },
      "source": [
        "df.head()"
      ],
      "execution_count": 137,
      "outputs": [
        {
          "output_type": "execute_result",
          "data": {
            "text/html": [
              "<div>\n",
              "<style scoped>\n",
              "    .dataframe tbody tr th:only-of-type {\n",
              "        vertical-align: middle;\n",
              "    }\n",
              "\n",
              "    .dataframe tbody tr th {\n",
              "        vertical-align: top;\n",
              "    }\n",
              "\n",
              "    .dataframe thead th {\n",
              "        text-align: right;\n",
              "    }\n",
              "</style>\n",
              "<table border=\"1\" class=\"dataframe\">\n",
              "  <thead>\n",
              "    <tr style=\"text-align: right;\">\n",
              "      <th></th>\n",
              "      <th>dt</th>\n",
              "      <th>action</th>\n",
              "      <th>uid</th>\n",
              "      <th>pid</th>\n",
              "      <th>quantity</th>\n",
              "      <th>price</th>\n",
              "    </tr>\n",
              "  </thead>\n",
              "  <tbody>\n",
              "    <tr>\n",
              "      <th>0</th>\n",
              "      <td>2015-07-01 00:00:01</td>\n",
              "      <td>order</td>\n",
              "      <td>U312622727</td>\n",
              "      <td>P0006944501</td>\n",
              "      <td>1</td>\n",
              "      <td>1069.0</td>\n",
              "    </tr>\n",
              "    <tr>\n",
              "      <th>1</th>\n",
              "      <td>2015-07-01 00:00:03</td>\n",
              "      <td>order</td>\n",
              "      <td>U239012343</td>\n",
              "      <td>P0006018073</td>\n",
              "      <td>1</td>\n",
              "      <td>1680.0</td>\n",
              "    </tr>\n",
              "    <tr>\n",
              "      <th>2</th>\n",
              "      <td>2015-07-01 00:00:19</td>\n",
              "      <td>order</td>\n",
              "      <td>U10007697373</td>\n",
              "      <td>P0002267974</td>\n",
              "      <td>1</td>\n",
              "      <td>285.0</td>\n",
              "    </tr>\n",
              "    <tr>\n",
              "      <th>3</th>\n",
              "      <td>2015-07-01 00:01:10</td>\n",
              "      <td>order</td>\n",
              "      <td>U296328517</td>\n",
              "      <td>P0016144236</td>\n",
              "      <td>1</td>\n",
              "      <td>550.0</td>\n",
              "    </tr>\n",
              "    <tr>\n",
              "      <th>4</th>\n",
              "      <td>2015-07-01 00:01:36</td>\n",
              "      <td>order</td>\n",
              "      <td>U300884570</td>\n",
              "      <td>P0014516980122</td>\n",
              "      <td>1</td>\n",
              "      <td>249.0</td>\n",
              "    </tr>\n",
              "  </tbody>\n",
              "</table>\n",
              "</div>"
            ],
            "text/plain": [
              "                    dt action           uid             pid  quantity   price\n",
              "0  2015-07-01 00:00:01  order    U312622727     P0006944501         1  1069.0\n",
              "1  2015-07-01 00:00:03  order    U239012343     P0006018073         1  1680.0\n",
              "2  2015-07-01 00:00:19  order  U10007697373     P0002267974         1   285.0\n",
              "3  2015-07-01 00:01:10  order    U296328517     P0016144236         1   550.0\n",
              "4  2015-07-01 00:01:36  order    U300884570  P0014516980122         1   249.0"
            ]
          },
          "metadata": {
            "tags": []
          },
          "execution_count": 137
        }
      ]
    },
    {
      "cell_type": "code",
      "metadata": {
        "id": "7h91yUN_ySNI"
      },
      "source": [
        "df['total_price'] = df['quantity'] * df['price']"
      ],
      "execution_count": 138,
      "outputs": []
    },
    {
      "cell_type": "code",
      "metadata": {
        "id": "aDzwG0PYyg43",
        "outputId": "7f64c5bb-5b62-468c-9680-ce204ec56342",
        "colab": {
          "base_uri": "https://localhost:8080/",
          "height": 374
        }
      },
      "source": [
        "df.groupby('uid')['total_price'].sum().sort_values(ascending = False).head(30).plot(kind = 'bar')"
      ],
      "execution_count": 142,
      "outputs": [
        {
          "output_type": "execute_result",
          "data": {
            "text/plain": [
              "<matplotlib.axes._subplots.AxesSubplot at 0x7f625c871208>"
            ]
          },
          "metadata": {
            "tags": []
          },
          "execution_count": 142
        },
        {
          "output_type": "display_data",
          "data": {
            "image/png": "[encoded data removed]",
            "text/plain": [
              "<Figure size 432x288 with 1 Axes>"
            ]
          },
          "metadata": {
            "tags": [],
            "needs_background": "light"
          }
        }
      ]
    },
    {
      "cell_type": "code",
      "metadata": {
        "id": "cNE6wpjHyuZG"
      },
      "source": [
        "df['dt'] = pandas.to_datetime(df['dt'])"
      ],
      "execution_count": 145,
      "outputs": []
    },
    {
      "cell_type": "code",
      "metadata": {
        "id": "zkiZGjhvy78o",
        "outputId": "da27f9d1-a375-40fb-fa65-7f3f0d1e835f",
        "colab": {
          "base_uri": "https://localhost:8080/",
          "height": 282
        }
      },
      "source": [
        "df['dt'].dt.hour.value_counts().sort_index().plot(kind = 'line')"
      ],
      "execution_count": 150,
      "outputs": [
        {
          "output_type": "execute_result",
          "data": {
            "text/plain": [
              "<matplotlib.axes._subplots.AxesSubplot at 0x7f625c8a5710>"
            ]
          },
          "metadata": {
            "tags": []
          },
          "execution_count": 150
        },
        {
          "output_type": "display_data",
          "data": {
            "image/png": "[encoded data removed]",
            "text/plain": [
              "<Figure size 432x288 with 1 Axes>"
            ]
          },
          "metadata": {
            "tags": [],
            "needs_background": "light"
          }
        }
      ]
    },
    {
      "cell_type": "code",
      "metadata": {
        "id": "mNQbu3JDzBHX",
        "outputId": "c18d77f1-957c-439a-d92e-27ca86e98130",
        "colab": {
          "base_uri": "https://localhost:8080/",
          "height": 448
        }
      },
      "source": [
        "df['dt'].dt.date.value_counts().sort_index().plot(kind = 'line', figsize= [20,10])"
      ],
      "execution_count": 153,
      "outputs": [
        {
          "output_type": "execute_result",
          "data": {
            "text/plain": [
              "<matplotlib.axes._subplots.AxesSubplot at 0x7f625af97cc0>"
            ]
          },
          "metadata": {
            "tags": []
          },
          "execution_count": 153
        },
        {
          "output_type": "display_data",
          "data": {
            "image/png": "[encoded data removed]",
            "text/plain": [
              "<Figure size 1440x720 with 1 Axes>"
            ]
          },
          "metadata": {
            "tags": [],
            "needs_background": "light"
          }
        }
      ]
    },
    {
      "cell_type": "markdown",
      "metadata": {
        "id": "DhQ_Cn0KFs8K"
      },
      "source": [
        "## 敘述性統計"
      ]
    },
    {
      "cell_type": "code",
      "metadata": {
        "id": "YKpukTgQz5Po"
      },
      "source": [
        "import pandas_datareader\n",
        "df = pandas_datareader.get_data_yahoo('2330.TW', start = '2000-01-01')\n"
      ],
      "execution_count": 158,
      "outputs": []
    },
    {
      "cell_type": "code",
      "metadata": {
        "id": "gTB4CDqdGFjk",
        "outputId": "6d4f7137-f315-43b8-d8ca-8b4c1fc6bc26",
        "colab": {
          "base_uri": "https://localhost:8080/",
          "height": 238
        }
      },
      "source": [
        "df.info()"
      ],
      "execution_count": 160,
      "outputs": [
        {
          "output_type": "stream",
          "text": [
            "<class 'pandas.core.frame.DataFrame'>\n",
            "DatetimeIndex: 5109 entries, 2000-01-04 to 2020-09-25\n",
            "Data columns (total 6 columns):\n",
            " #   Column     Non-Null Count  Dtype  \n",
            "---  ------     --------------  -----  \n",
            " 0   High       5109 non-null   float64\n",
            " 1   Low        5109 non-null   float64\n",
            " 2   Open       5109 non-null   float64\n",
            " 3   Close      5109 non-null   float64\n",
            " 4   Volume     5109 non-null   float64\n",
            " 5   Adj Close  5109 non-null   float64\n",
            "dtypes: float64(6)\n",
            "memory usage: 279.4 KB\n"
          ],
          "name": "stdout"
        }
      ]
    },
    {
      "cell_type": "code",
      "metadata": {
        "id": "J_aa_hmPGHiU",
        "outputId": "e2ce265f-9da5-42e2-cf25-8847b78c876e",
        "colab": {
          "base_uri": "https://localhost:8080/",
          "height": 297
        }
      },
      "source": [
        "df.describe()"
      ],
      "execution_count": 161,
      "outputs": [
        {
          "output_type": "execute_result",
          "data": {
            "text/html": [
              "<div>\n",
              "<style scoped>\n",
              "    .dataframe tbody tr th:only-of-type {\n",
              "        vertical-align: middle;\n",
              "    }\n",
              "\n",
              "    .dataframe tbody tr th {\n",
              "        vertical-align: top;\n",
              "    }\n",
              "\n",
              "    .dataframe thead th {\n",
              "        text-align: right;\n",
              "    }\n",
              "</style>\n",
              "<table border=\"1\" class=\"dataframe\">\n",
              "  <thead>\n",
              "    <tr style=\"text-align: right;\">\n",
              "      <th></th>\n",
              "      <th>High</th>\n",
              "      <th>Low</th>\n",
              "      <th>Open</th>\n",
              "      <th>Close</th>\n",
              "      <th>Volume</th>\n",
              "      <th>Adj Close</th>\n",
              "    </tr>\n",
              "  </thead>\n",
              "  <tbody>\n",
              "    <tr>\n",
              "      <th>count</th>\n",
              "      <td>5109.000000</td>\n",
              "      <td>5109.000000</td>\n",
              "      <td>5109.000000</td>\n",
              "      <td>5109.000000</td>\n",
              "      <td>5.109000e+03</td>\n",
              "      <td>5109.000000</td>\n",
              "    </tr>\n",
              "    <tr>\n",
              "      <th>mean</th>\n",
              "      <td>108.707517</td>\n",
              "      <td>106.780789</td>\n",
              "      <td>107.785840</td>\n",
              "      <td>107.786791</td>\n",
              "      <td>2.223592e+10</td>\n",
              "      <td>86.375698</td>\n",
              "    </tr>\n",
              "    <tr>\n",
              "      <th>std</th>\n",
              "      <td>80.965760</td>\n",
              "      <td>79.921421</td>\n",
              "      <td>80.505875</td>\n",
              "      <td>80.447474</td>\n",
              "      <td>4.464149e+10</td>\n",
              "      <td>83.177552</td>\n",
              "    </tr>\n",
              "    <tr>\n",
              "      <th>min</th>\n",
              "      <td>27.612900</td>\n",
              "      <td>26.918800</td>\n",
              "      <td>26.995701</td>\n",
              "      <td>27.458401</td>\n",
              "      <td>0.000000e+00</td>\n",
              "      <td>14.519905</td>\n",
              "    </tr>\n",
              "    <tr>\n",
              "      <th>25%</th>\n",
              "      <td>54.377201</td>\n",
              "      <td>52.637299</td>\n",
              "      <td>53.491402</td>\n",
              "      <td>53.340199</td>\n",
              "      <td>3.105400e+07</td>\n",
              "      <td>30.803770</td>\n",
              "    </tr>\n",
              "    <tr>\n",
              "      <th>50%</th>\n",
              "      <td>69.302299</td>\n",
              "      <td>68.070999</td>\n",
              "      <td>68.859100</td>\n",
              "      <td>68.599998</td>\n",
              "      <td>4.811200e+07</td>\n",
              "      <td>42.746712</td>\n",
              "    </tr>\n",
              "    <tr>\n",
              "      <th>75%</th>\n",
              "      <td>141.000000</td>\n",
              "      <td>138.500000</td>\n",
              "      <td>140.000000</td>\n",
              "      <td>140.000000</td>\n",
              "      <td>3.585793e+10</td>\n",
              "      <td>115.953331</td>\n",
              "    </tr>\n",
              "    <tr>\n",
              "      <th>max</th>\n",
              "      <td>466.500000</td>\n",
              "      <td>455.500000</td>\n",
              "      <td>464.000000</td>\n",
              "      <td>458.000000</td>\n",
              "      <td>4.476381e+11</td>\n",
              "      <td>455.500000</td>\n",
              "    </tr>\n",
              "  </tbody>\n",
              "</table>\n",
              "</div>"
            ],
            "text/plain": [
              "              High          Low  ...        Volume    Adj Close\n",
              "count  5109.000000  5109.000000  ...  5.109000e+03  5109.000000\n",
              "mean    108.707517   106.780789  ...  2.223592e+10    86.375698\n",
              "std      80.965760    79.921421  ...  4.464149e+10    83.177552\n",
              "min      27.612900    26.918800  ...  0.000000e+00    14.519905\n",
              "25%      54.377201    52.637299  ...  3.105400e+07    30.803770\n",
              "50%      69.302299    68.070999  ...  4.811200e+07    42.746712\n",
              "75%     141.000000   138.500000  ...  3.585793e+10   115.953331\n",
              "max     466.500000   455.500000  ...  4.476381e+11   455.500000\n",
              "\n",
              "[8 rows x 6 columns]"
            ]
          },
          "metadata": {
            "tags": []
          },
          "execution_count": 161
        }
      ]
    },
    {
      "cell_type": "code",
      "metadata": {
        "id": "49LXr8JYGjbH",
        "outputId": "06f7ff5a-be01-4f0a-c047-697f2fac1716",
        "colab": {
          "base_uri": "https://localhost:8080/",
          "height": 34
        }
      },
      "source": [
        "df['Close'].max()"
      ],
      "execution_count": 162,
      "outputs": [
        {
          "output_type": "execute_result",
          "data": {
            "text/plain": [
              "458.0"
            ]
          },
          "metadata": {
            "tags": []
          },
          "execution_count": 162
        }
      ]
    },
    {
      "cell_type": "code",
      "metadata": {
        "id": "q966kTvSG0pk",
        "outputId": "603b1782-d70a-482b-a69a-5ca1a6cdf51a",
        "colab": {
          "base_uri": "https://localhost:8080/",
          "height": 34
        }
      },
      "source": [
        "df['Close'].min()"
      ],
      "execution_count": 163,
      "outputs": [
        {
          "output_type": "execute_result",
          "data": {
            "text/plain": [
              "27.45840072631836"
            ]
          },
          "metadata": {
            "tags": []
          },
          "execution_count": 163
        }
      ]
    },
    {
      "cell_type": "code",
      "metadata": {
        "id": "g26UoCbbG3CE",
        "outputId": "276d900f-14d2-4f41-9e10-54d8bed284d6",
        "colab": {
          "base_uri": "https://localhost:8080/",
          "height": 235
        }
      },
      "source": [
        "df.head()"
      ],
      "execution_count": 164,
      "outputs": [
        {
          "output_type": "execute_result",
          "data": {
            "text/html": [
              "<div>\n",
              "<style scoped>\n",
              "    .dataframe tbody tr th:only-of-type {\n",
              "        vertical-align: middle;\n",
              "    }\n",
              "\n",
              "    .dataframe tbody tr th {\n",
              "        vertical-align: top;\n",
              "    }\n",
              "\n",
              "    .dataframe thead th {\n",
              "        text-align: right;\n",
              "    }\n",
              "</style>\n",
              "<table border=\"1\" class=\"dataframe\">\n",
              "  <thead>\n",
              "    <tr style=\"text-align: right;\">\n",
              "      <th></th>\n",
              "      <th>High</th>\n",
              "      <th>Low</th>\n",
              "      <th>Open</th>\n",
              "      <th>Close</th>\n",
              "      <th>Volume</th>\n",
              "      <th>Adj Close</th>\n",
              "    </tr>\n",
              "    <tr>\n",
              "      <th>Date</th>\n",
              "      <th></th>\n",
              "      <th></th>\n",
              "      <th></th>\n",
              "      <th></th>\n",
              "      <th></th>\n",
              "      <th></th>\n",
              "    </tr>\n",
              "  </thead>\n",
              "  <tbody>\n",
              "    <tr>\n",
              "      <th>2000-01-04</th>\n",
              "      <td>69.649002</td>\n",
              "      <td>68.475197</td>\n",
              "      <td>69.649002</td>\n",
              "      <td>69.649002</td>\n",
              "      <td>2.006623e+11</td>\n",
              "      <td>36.830151</td>\n",
              "    </tr>\n",
              "    <tr>\n",
              "      <th>2000-01-05</th>\n",
              "      <td>71.214104</td>\n",
              "      <td>68.866302</td>\n",
              "      <td>69.649002</td>\n",
              "      <td>71.214104</td>\n",
              "      <td>4.024668e+11</td>\n",
              "      <td>37.657780</td>\n",
              "    </tr>\n",
              "    <tr>\n",
              "      <th>2000-01-06</th>\n",
              "      <td>71.214104</td>\n",
              "      <td>69.649002</td>\n",
              "      <td>70.822899</td>\n",
              "      <td>69.649002</td>\n",
              "      <td>1.975457e+11</td>\n",
              "      <td>36.830151</td>\n",
              "    </tr>\n",
              "    <tr>\n",
              "      <th>2000-01-07</th>\n",
              "      <td>68.475197</td>\n",
              "      <td>66.518600</td>\n",
              "      <td>67.301300</td>\n",
              "      <td>67.692497</td>\n",
              "      <td>2.352703e+11</td>\n",
              "      <td>35.795555</td>\n",
              "    </tr>\n",
              "    <tr>\n",
              "      <th>2000-01-10</th>\n",
              "      <td>70.431396</td>\n",
              "      <td>68.475197</td>\n",
              "      <td>69.649002</td>\n",
              "      <td>70.040199</td>\n",
              "      <td>2.761717e+11</td>\n",
              "      <td>37.037018</td>\n",
              "    </tr>\n",
              "  </tbody>\n",
              "</table>\n",
              "</div>"
            ],
            "text/plain": [
              "                 High        Low       Open      Close        Volume  Adj Close\n",
              "Date                                                                           \n",
              "2000-01-04  69.649002  68.475197  69.649002  69.649002  2.006623e+11  36.830151\n",
              "2000-01-05  71.214104  68.866302  69.649002  71.214104  4.024668e+11  37.657780\n",
              "2000-01-06  71.214104  69.649002  70.822899  69.649002  1.975457e+11  36.830151\n",
              "2000-01-07  68.475197  66.518600  67.301300  67.692497  2.352703e+11  35.795555\n",
              "2000-01-10  70.431396  68.475197  69.649002  70.040199  2.761717e+11  37.037018"
            ]
          },
          "metadata": {
            "tags": []
          },
          "execution_count": 164
        }
      ]
    },
    {
      "cell_type": "code",
      "metadata": {
        "id": "M_cv7iJ3G5W1",
        "outputId": "6148e1e1-d983-4002-cb77-e8999b31c73c",
        "colab": {
          "base_uri": "https://localhost:8080/",
          "height": 235
        }
      },
      "source": [
        "df.tail()"
      ],
      "execution_count": 165,
      "outputs": [
        {
          "output_type": "execute_result",
          "data": {
            "text/html": [
              "<div>\n",
              "<style scoped>\n",
              "    .dataframe tbody tr th:only-of-type {\n",
              "        vertical-align: middle;\n",
              "    }\n",
              "\n",
              "    .dataframe tbody tr th {\n",
              "        vertical-align: top;\n",
              "    }\n",
              "\n",
              "    .dataframe thead th {\n",
              "        text-align: right;\n",
              "    }\n",
              "</style>\n",
              "<table border=\"1\" class=\"dataframe\">\n",
              "  <thead>\n",
              "    <tr style=\"text-align: right;\">\n",
              "      <th></th>\n",
              "      <th>High</th>\n",
              "      <th>Low</th>\n",
              "      <th>Open</th>\n",
              "      <th>Close</th>\n",
              "      <th>Volume</th>\n",
              "      <th>Adj Close</th>\n",
              "    </tr>\n",
              "    <tr>\n",
              "      <th>Date</th>\n",
              "      <th></th>\n",
              "      <th></th>\n",
              "      <th></th>\n",
              "      <th></th>\n",
              "      <th></th>\n",
              "      <th></th>\n",
              "    </tr>\n",
              "  </thead>\n",
              "  <tbody>\n",
              "    <tr>\n",
              "      <th>2020-09-21</th>\n",
              "      <td>450.0</td>\n",
              "      <td>440.0</td>\n",
              "      <td>443.5</td>\n",
              "      <td>440.0</td>\n",
              "      <td>39463920.0</td>\n",
              "      <td>440.0</td>\n",
              "    </tr>\n",
              "    <tr>\n",
              "      <th>2020-09-22</th>\n",
              "      <td>441.0</td>\n",
              "      <td>436.0</td>\n",
              "      <td>440.0</td>\n",
              "      <td>437.0</td>\n",
              "      <td>36130639.0</td>\n",
              "      <td>437.0</td>\n",
              "    </tr>\n",
              "    <tr>\n",
              "      <th>2020-09-23</th>\n",
              "      <td>438.5</td>\n",
              "      <td>432.0</td>\n",
              "      <td>436.0</td>\n",
              "      <td>433.5</td>\n",
              "      <td>45710963.0</td>\n",
              "      <td>433.5</td>\n",
              "    </tr>\n",
              "    <tr>\n",
              "      <th>2020-09-24</th>\n",
              "      <td>429.0</td>\n",
              "      <td>423.0</td>\n",
              "      <td>425.5</td>\n",
              "      <td>423.0</td>\n",
              "      <td>79806381.0</td>\n",
              "      <td>423.0</td>\n",
              "    </tr>\n",
              "    <tr>\n",
              "      <th>2020-09-25</th>\n",
              "      <td>428.0</td>\n",
              "      <td>421.0</td>\n",
              "      <td>427.0</td>\n",
              "      <td>424.0</td>\n",
              "      <td>38775269.0</td>\n",
              "      <td>424.0</td>\n",
              "    </tr>\n",
              "  </tbody>\n",
              "</table>\n",
              "</div>"
            ],
            "text/plain": [
              "             High    Low   Open  Close      Volume  Adj Close\n",
              "Date                                                         \n",
              "2020-09-21  450.0  440.0  443.5  440.0  39463920.0      440.0\n",
              "2020-09-22  441.0  436.0  440.0  437.0  36130639.0      437.0\n",
              "2020-09-23  438.5  432.0  436.0  433.5  45710963.0      433.5\n",
              "2020-09-24  429.0  423.0  425.5  423.0  79806381.0      423.0\n",
              "2020-09-25  428.0  421.0  427.0  424.0  38775269.0      424.0"
            ]
          },
          "metadata": {
            "tags": []
          },
          "execution_count": 165
        }
      ]
    },
    {
      "cell_type": "code",
      "metadata": {
        "id": "uSJNv5mlG7-0",
        "outputId": "501a3837-a08a-4680-d679-2d9075e1bd79",
        "colab": {
          "base_uri": "https://localhost:8080/",
          "height": 34
        }
      },
      "source": [
        "a = [50,60,40,30,70]\n",
        "sum(a) / len(a)"
      ],
      "execution_count": 167,
      "outputs": [
        {
          "output_type": "execute_result",
          "data": {
            "text/plain": [
              "50.0"
            ]
          },
          "metadata": {
            "tags": []
          },
          "execution_count": 167
        }
      ]
    },
    {
      "cell_type": "code",
      "metadata": {
        "id": "5ngKYUZQHX20",
        "outputId": "d7102974-d9a7-4253-85b6-0e59f1584170",
        "colab": {
          "base_uri": "https://localhost:8080/",
          "height": 34
        }
      },
      "source": [
        "df['Close'].mean()"
      ],
      "execution_count": 169,
      "outputs": [
        {
          "output_type": "execute_result",
          "data": {
            "text/plain": [
              "107.78679078617868"
            ]
          },
          "metadata": {
            "tags": []
          },
          "execution_count": 169
        }
      ]
    },
    {
      "cell_type": "code",
      "metadata": {
        "id": "Gk6LEBVDHdAE",
        "outputId": "83f3104a-9203-43df-c46e-bb219b1576f2",
        "colab": {
          "base_uri": "https://localhost:8080/",
          "height": 71
        }
      },
      "source": [
        "import requests\n",
        "payload = {\n",
        "'encodeURIComponent': '1',\n",
        "'step': '1',\n",
        "'firstin': '1',\n",
        "'TYPEK': 'sii',\n",
        "'RYEAR': '108'    \n",
        "}\n",
        "res = requests.post('https://mops.twse.com.tw/mops/web/ajax_t100sb15', data = payload, verify=False)"
      ],
      "execution_count": 172,
      "outputs": [
        {
          "output_type": "stream",
          "text": [
            "/usr/local/lib/python3.6/dist-packages/urllib3/connectionpool.py:847: InsecureRequestWarning: Unverified HTTPS request is being made. Adding certificate verification is strongly advised. See: https://urllib3.readthedocs.io/en/latest/advanced-usage.html#ssl-warnings\n",
            "  InsecureRequestWarning)\n"
          ],
          "name": "stderr"
        }
      ]
    },
    {
      "cell_type": "code",
      "metadata": {
        "id": "KxlxD9nrIvKk"
      },
      "source": [
        "dfs = pandas.read_html(res.text)\n",
        "#dfs[0]"
      ],
      "execution_count": 181,
      "outputs": []
    },
    {
      "cell_type": "code",
      "metadata": {
        "id": "ELRQDbYvI8Fk",
        "outputId": "6a876424-e60e-46e3-b9e4-211b308bc026",
        "colab": {
          "base_uri": "https://localhost:8080/",
          "height": 527
        }
      },
      "source": [
        "df = dfs[0].iloc[:,[0,2,7]]\n",
        "df.columns = ['產業', '公司名稱','中位數']\n",
        "df.groupby('產業')['中位數'].max().sort_values(ascending = False)"
      ],
      "execution_count": 182,
      "outputs": [
        {
          "output_type": "execute_result",
          "data": {
            "text/plain": [
              "產業\n",
              "半導體業        2398\n",
              "其他電子業       2388\n",
              "建材營造        1767\n",
              "汽車工業        1743\n",
              "電子零組件業      1485\n",
              "通信網路業       1466\n",
              "鋼鐵工業        1437\n",
              "電腦及週邊設備業    1403\n",
              "航運業         1360\n",
              "其他          1329\n",
              "塑膠工業        1322\n",
              "油電燃氣業       1291\n",
              "金融保險業       1275\n",
              "橡膠工業        1270\n",
              "食品工業        1269\n",
              "光電業         1243\n",
              "化學工業        1198\n",
              "電子通路業       1151\n",
              "水泥工業        1132\n",
              "紡織纖維        1098\n",
              "資訊服務業        984\n",
              "電機機械         929\n",
              "貿易百貨         898\n",
              "生技醫療業        878\n",
              "造紙工業         826\n",
              "電器電纜         725\n",
              "玻璃陶瓷         692\n",
              "觀光事業         670\n",
              "Name: 中位數, dtype: int64"
            ]
          },
          "metadata": {
            "tags": []
          },
          "execution_count": 182
        }
      ]
    },
    {
      "cell_type": "code",
      "metadata": {
        "id": "4Hb74CKsI9R1",
        "outputId": "aad67e72-43e8-482e-9411-ccf76457295b",
        "colab": {
          "base_uri": "https://localhost:8080/",
          "height": 917
        }
      },
      "source": [
        "df[df.groupby('產業')['中位數'].transform(max)  == df['中位數']].sort_values('中位數', ascending=False)"
      ],
      "execution_count": 185,
      "outputs": [
        {
          "output_type": "execute_result",
          "data": {
            "text/html": [
              "<div>\n",
              "<style scoped>\n",
              "    .dataframe tbody tr th:only-of-type {\n",
              "        vertical-align: middle;\n",
              "    }\n",
              "\n",
              "    .dataframe tbody tr th {\n",
              "        vertical-align: top;\n",
              "    }\n",
              "\n",
              "    .dataframe thead th {\n",
              "        text-align: right;\n",
              "    }\n",
              "</style>\n",
              "<table border=\"1\" class=\"dataframe\">\n",
              "  <thead>\n",
              "    <tr style=\"text-align: right;\">\n",
              "      <th></th>\n",
              "      <th>產業</th>\n",
              "      <th>公司名稱</th>\n",
              "      <th>中位數</th>\n",
              "    </tr>\n",
              "  </thead>\n",
              "  <tbody>\n",
              "    <tr>\n",
              "      <th>512</th>\n",
              "      <td>半導體業</td>\n",
              "      <td>聯詠</td>\n",
              "      <td>2398</td>\n",
              "    </tr>\n",
              "    <tr>\n",
              "      <th>272</th>\n",
              "      <td>其他電子業</td>\n",
              "      <td>鴻準</td>\n",
              "      <td>2388</td>\n",
              "    </tr>\n",
              "    <tr>\n",
              "      <th>406</th>\n",
              "      <td>建材營造</td>\n",
              "      <td>華固</td>\n",
              "      <td>1767</td>\n",
              "    </tr>\n",
              "    <tr>\n",
              "      <th>235</th>\n",
              "      <td>汽車工業</td>\n",
              "      <td>和泰車</td>\n",
              "      <td>1743</td>\n",
              "    </tr>\n",
              "    <tr>\n",
              "      <th>296</th>\n",
              "      <td>電子零組件業</td>\n",
              "      <td>群光</td>\n",
              "      <td>1485</td>\n",
              "    </tr>\n",
              "    <tr>\n",
              "      <th>312</th>\n",
              "      <td>通信網路業</td>\n",
              "      <td>中華電</td>\n",
              "      <td>1466</td>\n",
              "    </tr>\n",
              "    <tr>\n",
              "      <th>193</th>\n",
              "      <td>鋼鐵工業</td>\n",
              "      <td>中鋼</td>\n",
              "      <td>1437</td>\n",
              "    </tr>\n",
              "    <tr>\n",
              "      <th>487</th>\n",
              "      <td>電腦及週邊設備業</td>\n",
              "      <td>神基</td>\n",
              "      <td>1403</td>\n",
              "    </tr>\n",
              "    <tr>\n",
              "      <th>410</th>\n",
              "      <td>航運業</td>\n",
              "      <td>新興</td>\n",
              "      <td>1360</td>\n",
              "    </tr>\n",
              "    <tr>\n",
              "      <th>847</th>\n",
              "      <td>其他</td>\n",
              "      <td>中聯資源</td>\n",
              "      <td>1329</td>\n",
              "    </tr>\n",
              "    <tr>\n",
              "      <th>33</th>\n",
              "      <td>塑膠工業</td>\n",
              "      <td>台苯</td>\n",
              "      <td>1322</td>\n",
              "    </tr>\n",
              "    <tr>\n",
              "      <th>764</th>\n",
              "      <td>油電燃氣業</td>\n",
              "      <td>台塑化</td>\n",
              "      <td>1291</td>\n",
              "    </tr>\n",
              "    <tr>\n",
              "      <th>445</th>\n",
              "      <td>金融保險業</td>\n",
              "      <td>華票</td>\n",
              "      <td>1275</td>\n",
              "    </tr>\n",
              "    <tr>\n",
              "      <th>229</th>\n",
              "      <td>橡膠工業</td>\n",
              "      <td>南帝</td>\n",
              "      <td>1270</td>\n",
              "    </tr>\n",
              "    <tr>\n",
              "      <th>21</th>\n",
              "      <td>食品工業</td>\n",
              "      <td>大統益</td>\n",
              "      <td>1269</td>\n",
              "    </tr>\n",
              "    <tr>\n",
              "      <th>535</th>\n",
              "      <td>光電業</td>\n",
              "      <td>華晶科</td>\n",
              "      <td>1243</td>\n",
              "    </tr>\n",
              "    <tr>\n",
              "      <th>159</th>\n",
              "      <td>化學工業</td>\n",
              "      <td>中碳</td>\n",
              "      <td>1198</td>\n",
              "    </tr>\n",
              "    <tr>\n",
              "      <th>798</th>\n",
              "      <td>電子通路業</td>\n",
              "      <td>至上</td>\n",
              "      <td>1151</td>\n",
              "    </tr>\n",
              "    <tr>\n",
              "      <th>2</th>\n",
              "      <td>水泥工業</td>\n",
              "      <td>嘉泥</td>\n",
              "      <td>1132</td>\n",
              "    </tr>\n",
              "    <tr>\n",
              "      <th>94</th>\n",
              "      <td>紡織纖維</td>\n",
              "      <td>聚陽</td>\n",
              "      <td>1098</td>\n",
              "    </tr>\n",
              "    <tr>\n",
              "      <th>358</th>\n",
              "      <td>資訊服務業</td>\n",
              "      <td>資通</td>\n",
              "      <td>984</td>\n",
              "    </tr>\n",
              "    <tr>\n",
              "      <th>98</th>\n",
              "      <td>電機機械</td>\n",
              "      <td>永大</td>\n",
              "      <td>929</td>\n",
              "    </tr>\n",
              "    <tr>\n",
              "      <th>419</th>\n",
              "      <td>貿易百貨</td>\n",
              "      <td>東森</td>\n",
              "      <td>898</td>\n",
              "    </tr>\n",
              "    <tr>\n",
              "      <th>617</th>\n",
              "      <td>生技醫療業</td>\n",
              "      <td>旭富</td>\n",
              "      <td>878</td>\n",
              "    </tr>\n",
              "    <tr>\n",
              "      <th>188</th>\n",
              "      <td>造紙工業</td>\n",
              "      <td>正隆</td>\n",
              "      <td>826</td>\n",
              "    </tr>\n",
              "    <tr>\n",
              "      <th>134</th>\n",
              "      <td>電器電纜</td>\n",
              "      <td>華新</td>\n",
              "      <td>725</td>\n",
              "    </tr>\n",
              "    <tr>\n",
              "      <th>186</th>\n",
              "      <td>玻璃陶瓷</td>\n",
              "      <td>凱撒衛</td>\n",
              "      <td>692</td>\n",
              "    </tr>\n",
              "    <tr>\n",
              "      <th>817</th>\n",
              "      <td>觀光事業</td>\n",
              "      <td>柏文</td>\n",
              "      <td>670</td>\n",
              "    </tr>\n",
              "  </tbody>\n",
              "</table>\n",
              "</div>"
            ],
            "text/plain": [
              "           產業  公司名稱   中位數\n",
              "512      半導體業    聯詠  2398\n",
              "272     其他電子業    鴻準  2388\n",
              "406      建材營造    華固  1767\n",
              "235      汽車工業   和泰車  1743\n",
              "296    電子零組件業    群光  1485\n",
              "312     通信網路業   中華電  1466\n",
              "193      鋼鐵工業    中鋼  1437\n",
              "487  電腦及週邊設備業    神基  1403\n",
              "410       航運業    新興  1360\n",
              "847        其他  中聯資源  1329\n",
              "33       塑膠工業    台苯  1322\n",
              "764     油電燃氣業   台塑化  1291\n",
              "445     金融保險業    華票  1275\n",
              "229      橡膠工業    南帝  1270\n",
              "21       食品工業   大統益  1269\n",
              "535       光電業   華晶科  1243\n",
              "159      化學工業    中碳  1198\n",
              "798     電子通路業    至上  1151\n",
              "2        水泥工業    嘉泥  1132\n",
              "94       紡織纖維    聚陽  1098\n",
              "358     資訊服務業    資通   984\n",
              "98       電機機械    永大   929\n",
              "419      貿易百貨    東森   898\n",
              "617     生技醫療業    旭富   878\n",
              "188      造紙工業    正隆   826\n",
              "134      電器電纜    華新   725\n",
              "186      玻璃陶瓷   凱撒衛   692\n",
              "817      觀光事業    柏文   670"
            ]
          },
          "metadata": {
            "tags": []
          },
          "execution_count": 185
        }
      ]
    },
    {
      "cell_type": "code",
      "metadata": {
        "id": "fVUSUKU1J-7F"
      },
      "source": [
        "import pandas_datareader\n",
        "df = pandas_datareader.get_data_yahoo('2330.TW', start = '2000-01-01')\n"
      ],
      "execution_count": 186,
      "outputs": []
    },
    {
      "cell_type": "code",
      "metadata": {
        "id": "tmF6OEGXK-XE",
        "outputId": "f6548317-3cd8-4e60-d8c0-7286cc672b7b",
        "colab": {
          "base_uri": "https://localhost:8080/",
          "height": 34
        }
      },
      "source": [
        "df['Close'].mean()"
      ],
      "execution_count": 187,
      "outputs": [
        {
          "output_type": "execute_result",
          "data": {
            "text/plain": [
              "107.78679078617868"
            ]
          },
          "metadata": {
            "tags": []
          },
          "execution_count": 187
        }
      ]
    },
    {
      "cell_type": "code",
      "metadata": {
        "id": "Wq5tUVhiLAtz",
        "outputId": "9f3182f8-509b-417d-8526-4fed9a6b7525",
        "colab": {
          "base_uri": "https://localhost:8080/",
          "height": 34
        }
      },
      "source": [
        "df['Close'].median()"
      ],
      "execution_count": 188,
      "outputs": [
        {
          "output_type": "execute_result",
          "data": {
            "text/plain": [
              "68.5999984741211"
            ]
          },
          "metadata": {
            "tags": []
          },
          "execution_count": 188
        }
      ]
    },
    {
      "cell_type": "code",
      "metadata": {
        "id": "Nd5nzoG8LDoj",
        "outputId": "07ab6b52-84dc-413b-fb55-26480528008b",
        "colab": {
          "base_uri": "https://localhost:8080/",
          "height": 34
        }
      },
      "source": [
        "df['Close'].median()"
      ],
      "execution_count": 191,
      "outputs": [
        {
          "output_type": "execute_result",
          "data": {
            "text/plain": [
              "68.5999984741211"
            ]
          },
          "metadata": {
            "tags": []
          },
          "execution_count": 191
        }
      ]
    },
    {
      "cell_type": "code",
      "metadata": {
        "id": "P6HJDrcDLcKD",
        "outputId": "e0d1f622-cede-416c-f0d4-1be8c68f2681",
        "colab": {
          "base_uri": "https://localhost:8080/",
          "height": 34
        }
      },
      "source": [
        "df['Close'].quantile(0.25)"
      ],
      "execution_count": 192,
      "outputs": [
        {
          "output_type": "execute_result",
          "data": {
            "text/plain": [
              "53.3401985168457"
            ]
          },
          "metadata": {
            "tags": []
          },
          "execution_count": 192
        }
      ]
    },
    {
      "cell_type": "code",
      "metadata": {
        "id": "QCmfsp93LjaT",
        "outputId": "787871a6-6775-43d7-ab8d-f8a1c0d29c6f",
        "colab": {
          "base_uri": "https://localhost:8080/",
          "height": 34
        }
      },
      "source": [
        "df['Close'].quantile(0.75)"
      ],
      "execution_count": 193,
      "outputs": [
        {
          "output_type": "execute_result",
          "data": {
            "text/plain": [
              "140.0"
            ]
          },
          "metadata": {
            "tags": []
          },
          "execution_count": 193
        }
      ]
    },
    {
      "cell_type": "code",
      "metadata": {
        "id": "nItrx91SLlPj",
        "outputId": "c2a853da-be4d-4f4f-e0a2-510b518e0467",
        "colab": {
          "base_uri": "https://localhost:8080/",
          "height": 34
        }
      },
      "source": [
        "df['Close'].quantile(0.75) - df['Close'].quantile(0.25)"
      ],
      "execution_count": 194,
      "outputs": [
        {
          "output_type": "execute_result",
          "data": {
            "text/plain": [
              "86.6598014831543"
            ]
          },
          "metadata": {
            "tags": []
          },
          "execution_count": 194
        }
      ]
    },
    {
      "cell_type": "code",
      "metadata": {
        "id": "9Qhz2oTQLnMD",
        "outputId": "89439245-42c7-416f-d63d-3af3ee9a350a",
        "colab": {
          "base_uri": "https://localhost:8080/",
          "height": 282
        }
      },
      "source": [
        "df['Close'].plot(kind = 'box')"
      ],
      "execution_count": 195,
      "outputs": [
        {
          "output_type": "execute_result",
          "data": {
            "text/plain": [
              "<matplotlib.axes._subplots.AxesSubplot at 0x7f625e569be0>"
            ]
          },
          "metadata": {
            "tags": []
          },
          "execution_count": 195
        },
        {
          "output_type": "display_data",
          "data": {
            "image/png": "[encoded data removed]",
            "text/plain": [
              "<Figure size 432x288 with 1 Axes>"
            ]
          },
          "metadata": {
            "tags": [],
            "needs_background": "light"
          }
        }
      ]
    },
    {
      "cell_type": "code",
      "metadata": {
        "id": "wqeUlZv4MMbT"
      },
      "source": [
        "rent591 = pandas.read_csv('https://raw.githubusercontent.com/ywchiu/tibamepy/master/data/rent_591_sample2.csv', index_col = 0)\n"
      ],
      "execution_count": 196,
      "outputs": []
    },
    {
      "cell_type": "code",
      "metadata": {
        "id": "14F6pciKMgCz",
        "outputId": "fcebd704-c689-4b1b-c4ac-5c9e37718daa",
        "colab": {
          "base_uri": "https://localhost:8080/",
          "height": 734
        }
      },
      "source": [
        "rent591.head()"
      ],
      "execution_count": 197,
      "outputs": [
        {
          "output_type": "execute_result",
          "data": {
            "text/html": [
              "<div>\n",
              "<style scoped>\n",
              "    .dataframe tbody tr th:only-of-type {\n",
              "        vertical-align: middle;\n",
              "    }\n",
              "\n",
              "    .dataframe tbody tr th {\n",
              "        vertical-align: top;\n",
              "    }\n",
              "\n",
              "    .dataframe thead th {\n",
              "        text-align: right;\n",
              "    }\n",
              "</style>\n",
              "<table border=\"1\" class=\"dataframe\">\n",
              "  <thead>\n",
              "    <tr style=\"text-align: right;\">\n",
              "      <th></th>\n",
              "      <th>detail_url</th>\n",
              "      <th>search_date</th>\n",
              "      <th>title</th>\n",
              "      <th>address</th>\n",
              "      <th>floor_info</th>\n",
              "      <th>price</th>\n",
              "      <th>layout</th>\n",
              "      <th>building_area</th>\n",
              "      <th>building_use</th>\n",
              "      <th>latitude</th>\n",
              "      <th>longitude</th>\n",
              "    </tr>\n",
              "  </thead>\n",
              "  <tbody>\n",
              "    <tr>\n",
              "      <th>0</th>\n",
              "      <td>https://rent.591.com.tw/rent-detail-1050934.html</td>\n",
              "      <td>2017-05-14</td>\n",
              "      <td>套房出租-近東方學院(六~八月可入住)</td>\n",
              "      <td>高雄市湖內區民生街</td>\n",
              "      <td>3F/3F</td>\n",
              "      <td>4,500元/月</td>\n",
              "      <td>NaN</td>\n",
              "      <td>6.0</td>\n",
              "      <td>透天厝/獨立套房</td>\n",
              "      <td>22.878436</td>\n",
              "      <td>120.250810</td>\n",
              "    </tr>\n",
              "    <tr>\n",
              "      <th>1</th>\n",
              "      <td>https://rent.591.com.tw/rent-detail-1008046.html</td>\n",
              "      <td>2017-05-14</td>\n",
              "      <td>好房子【聰明的你、妳快來租吧】</td>\n",
              "      <td>新北市蘆洲區長安街</td>\n",
              "      <td>4F/5F</td>\n",
              "      <td>7,500元/月</td>\n",
              "      <td>NaN</td>\n",
              "      <td>10.0</td>\n",
              "      <td>透天厝/獨立套房</td>\n",
              "      <td>25.081558</td>\n",
              "      <td>121.461868</td>\n",
              "    </tr>\n",
              "    <tr>\n",
              "      <th>2</th>\n",
              "      <td>https://rent.591.com.tw/rent-detail-1586266.html</td>\n",
              "      <td>2017-05-12</td>\n",
              "      <td>陽台大套房(獨立洗衣機)近頂溪捷運站</td>\n",
              "      <td>新北市永和區中山路一段</td>\n",
              "      <td>8F/12F</td>\n",
              "      <td>11,000元/月</td>\n",
              "      <td>NaN</td>\n",
              "      <td>8.0</td>\n",
              "      <td>電梯大樓/分租套房</td>\n",
              "      <td>25.010293</td>\n",
              "      <td>121.511328</td>\n",
              "    </tr>\n",
              "    <tr>\n",
              "      <th>3</th>\n",
              "      <td>https://rent.591.com.tw/rent-detail-1699948.html</td>\n",
              "      <td>2017-05-13</td>\n",
              "      <td>火車站附近~~優質套房</td>\n",
              "      <td>屏東縣潮州鎮六合路</td>\n",
              "      <td>3F/3F</td>\n",
              "      <td>5,000元/月</td>\n",
              "      <td>NaN</td>\n",
              "      <td>8.0</td>\n",
              "      <td>透天厝/獨立套房</td>\n",
              "      <td>22.551346</td>\n",
              "      <td>120.538032</td>\n",
              "    </tr>\n",
              "    <tr>\n",
              "      <th>4</th>\n",
              "      <td>https://rent.591.com.tw/rent-detail-1404725.html</td>\n",
              "      <td>2017-05-12</td>\n",
              "      <td>觀音四維路優質陽台套房</td>\n",
              "      <td>桃園市觀音區四維路</td>\n",
              "      <td>4F/5F</td>\n",
              "      <td>5,000元/月</td>\n",
              "      <td>NaN</td>\n",
              "      <td>7.0</td>\n",
              "      <td>透天厝/分租套房</td>\n",
              "      <td>25.043652</td>\n",
              "      <td>121.141518</td>\n",
              "    </tr>\n",
              "  </tbody>\n",
              "</table>\n",
              "</div>"
            ],
            "text/plain": [
              "                                         detail_url  ...   longitude\n",
              "0  https://rent.591.com.tw/rent-detail-1050934.html  ...  120.250810\n",
              "1  https://rent.591.com.tw/rent-detail-1008046.html  ...  121.461868\n",
              "2  https://rent.591.com.tw/rent-detail-1586266.html  ...  121.511328\n",
              "3  https://rent.591.com.tw/rent-detail-1699948.html  ...  120.538032\n",
              "4  https://rent.591.com.tw/rent-detail-1404725.html  ...  121.141518\n",
              "\n",
              "[5 rows x 11 columns]"
            ]
          },
          "metadata": {
            "tags": []
          },
          "execution_count": 197
        }
      ]
    },
    {
      "cell_type": "code",
      "metadata": {
        "id": "Sfw81s75MhwC"
      },
      "source": [
        "rent591['price'] = rent591['price'].map(lambda e: int(e.replace('元/月', '').replace(',',''))) "
      ],
      "execution_count": 198,
      "outputs": []
    },
    {
      "cell_type": "code",
      "metadata": {
        "id": "wWcZullwM94z"
      },
      "source": [
        "rent591[['city']] = rent591['address'].str.extract('(.+?[市縣])')"
      ],
      "execution_count": 201,
      "outputs": []
    },
    {
      "cell_type": "code",
      "metadata": {
        "id": "K14yGt0kM_Zz",
        "outputId": "0e3f1bbd-3fc3-4557-8444-fcc0a9408ba8",
        "colab": {
          "base_uri": "https://localhost:8080/",
          "height": 204
        }
      },
      "source": [
        "rent591[['city', 'price']].head()"
      ],
      "execution_count": 202,
      "outputs": [
        {
          "output_type": "execute_result",
          "data": {
            "text/html": [
              "<div>\n",
              "<style scoped>\n",
              "    .dataframe tbody tr th:only-of-type {\n",
              "        vertical-align: middle;\n",
              "    }\n",
              "\n",
              "    .dataframe tbody tr th {\n",
              "        vertical-align: top;\n",
              "    }\n",
              "\n",
              "    .dataframe thead th {\n",
              "        text-align: right;\n",
              "    }\n",
              "</style>\n",
              "<table border=\"1\" class=\"dataframe\">\n",
              "  <thead>\n",
              "    <tr style=\"text-align: right;\">\n",
              "      <th></th>\n",
              "      <th>city</th>\n",
              "      <th>price</th>\n",
              "    </tr>\n",
              "  </thead>\n",
              "  <tbody>\n",
              "    <tr>\n",
              "      <th>0</th>\n",
              "      <td>高雄市</td>\n",
              "      <td>4500</td>\n",
              "    </tr>\n",
              "    <tr>\n",
              "      <th>1</th>\n",
              "      <td>新北市</td>\n",
              "      <td>7500</td>\n",
              "    </tr>\n",
              "    <tr>\n",
              "      <th>2</th>\n",
              "      <td>新北市</td>\n",
              "      <td>11000</td>\n",
              "    </tr>\n",
              "    <tr>\n",
              "      <th>3</th>\n",
              "      <td>屏東縣</td>\n",
              "      <td>5000</td>\n",
              "    </tr>\n",
              "    <tr>\n",
              "      <th>4</th>\n",
              "      <td>桃園市</td>\n",
              "      <td>5000</td>\n",
              "    </tr>\n",
              "  </tbody>\n",
              "</table>\n",
              "</div>"
            ],
            "text/plain": [
              "  city  price\n",
              "0  高雄市   4500\n",
              "1  新北市   7500\n",
              "2  新北市  11000\n",
              "3  屏東縣   5000\n",
              "4  桃園市   5000"
            ]
          },
          "metadata": {
            "tags": []
          },
          "execution_count": 202
        }
      ]
    },
    {
      "cell_type": "code",
      "metadata": {
        "id": "V2trHA4EOLdc"
      },
      "source": [
        "import numpy as np\n",
        "rent591['logprice'] = np.log(rent591['price'])"
      ],
      "execution_count": 205,
      "outputs": []
    },
    {
      "cell_type": "code",
      "metadata": {
        "id": "0LqPy3ZOaJa-"
      },
      "source": [
        "rent591['logprice_by_area'] = np.log(rent591['price'] / rent591['building_area'])"
      ],
      "execution_count": 284,
      "outputs": []
    },
    {
      "cell_type": "code",
      "metadata": {
        "id": "l9egCUZwRN-U",
        "outputId": "958e7235-7954-46b9-abd5-bcce75ae7970",
        "colab": {
          "base_uri": "https://localhost:8080/",
          "height": 204
        }
      },
      "source": [
        "rent591[['city', 'price', 'logprice','logprice_by_area']].head()"
      ],
      "execution_count": 285,
      "outputs": [
        {
          "output_type": "execute_result",
          "data": {
            "text/html": [
              "<div>\n",
              "<style scoped>\n",
              "    .dataframe tbody tr th:only-of-type {\n",
              "        vertical-align: middle;\n",
              "    }\n",
              "\n",
              "    .dataframe tbody tr th {\n",
              "        vertical-align: top;\n",
              "    }\n",
              "\n",
              "    .dataframe thead th {\n",
              "        text-align: right;\n",
              "    }\n",
              "</style>\n",
              "<table border=\"1\" class=\"dataframe\">\n",
              "  <thead>\n",
              "    <tr style=\"text-align: right;\">\n",
              "      <th></th>\n",
              "      <th>city</th>\n",
              "      <th>price</th>\n",
              "      <th>logprice</th>\n",
              "      <th>logprice_by_area</th>\n",
              "    </tr>\n",
              "  </thead>\n",
              "  <tbody>\n",
              "    <tr>\n",
              "      <th>0</th>\n",
              "      <td>高雄市</td>\n",
              "      <td>4500</td>\n",
              "      <td>8.411833</td>\n",
              "      <td>6.620073</td>\n",
              "    </tr>\n",
              "    <tr>\n",
              "      <th>1</th>\n",
              "      <td>新北市</td>\n",
              "      <td>7500</td>\n",
              "      <td>8.922658</td>\n",
              "      <td>6.620073</td>\n",
              "    </tr>\n",
              "    <tr>\n",
              "      <th>2</th>\n",
              "      <td>新北市</td>\n",
              "      <td>11000</td>\n",
              "      <td>9.305651</td>\n",
              "      <td>7.226209</td>\n",
              "    </tr>\n",
              "    <tr>\n",
              "      <th>3</th>\n",
              "      <td>屏東縣</td>\n",
              "      <td>5000</td>\n",
              "      <td>8.517193</td>\n",
              "      <td>6.437752</td>\n",
              "    </tr>\n",
              "    <tr>\n",
              "      <th>4</th>\n",
              "      <td>桃園市</td>\n",
              "      <td>5000</td>\n",
              "      <td>8.517193</td>\n",
              "      <td>6.571283</td>\n",
              "    </tr>\n",
              "  </tbody>\n",
              "</table>\n",
              "</div>"
            ],
            "text/plain": [
              "  city  price  logprice  logprice_by_area\n",
              "0  高雄市   4500  8.411833          6.620073\n",
              "1  新北市   7500  8.922658          6.620073\n",
              "2  新北市  11000  9.305651          7.226209\n",
              "3  屏東縣   5000  8.517193          6.437752\n",
              "4  桃園市   5000  8.517193          6.571283"
            ]
          },
          "metadata": {
            "tags": []
          },
          "execution_count": 285
        }
      ]
    },
    {
      "cell_type": "code",
      "metadata": {
        "id": "PiIVbHp1NTwD",
        "outputId": "71a4bbe3-b6f2-4847-eafc-ba7383b0a088",
        "colab": {
          "base_uri": "https://localhost:8080/",
          "height": 291
        }
      },
      "source": [
        "rent591.plot(kind= 'box',x = 'city', y = 'price')"
      ],
      "execution_count": 286,
      "outputs": [
        {
          "output_type": "execute_result",
          "data": {
            "text/plain": [
              "<matplotlib.axes._subplots.AxesSubplot at 0x7f62564bd898>"
            ]
          },
          "metadata": {
            "tags": []
          },
          "execution_count": 286
        },
        {
          "output_type": "display_data",
          "data": {
            "image/png": "[encoded data removed]",
            "text/plain": [
              "<Figure size 432x288 with 1 Axes>"
            ]
          },
          "metadata": {
            "tags": [],
            "needs_background": "light"
          }
        }
      ]
    },
    {
      "cell_type": "markdown",
      "metadata": {
        "id": "5WlqOtENObFC"
      },
      "source": [
        "## 繪製中文圖\n",
        "\n",
        "\n",
        "### Matplotlib 在 Win10 下顯現中文\n",
        "https://daxpowerbi.com/%E5%A6%82%E4%BD%95%E5%9C%A8win-10%E8%A7%A3%E6%B1%BAmatplotlib%E4%B8%AD%E6%96%87%E9%A1%AF%E7%A4%BA%E7%9A%84%E5%95%8F%E9%A1%8C/\n",
        "\n",
        "- 下載文字 https://noto-website-2.storage.googleapis.com/pkgs/NotoSansCJKtc-hinted.zip\n",
        "\n",
        "- 解壓縮以後將otf 放置於C:\\Users\\User\\Anaconda3\\Lib\\site-packages\\matplotlib\\mpl-data\\fonts\\ttf 以下\n",
        "\n",
        "- 清除C:\\Users\\User.matplotlib 所以的檔案\n",
        "\n",
        "- 重啟 jupyter notebook kernel"
      ]
    },
    {
      "cell_type": "code",
      "metadata": {
        "id": "DSojxPV_OeR8"
      },
      "source": [
        "! wget https://noto-website-2.storage.googleapis.com/pkgs/NotoSansCJKtc-hinted.zip"
      ],
      "execution_count": null,
      "outputs": []
    },
    {
      "cell_type": "code",
      "metadata": {
        "id": "GsMjnRWvOv-p"
      },
      "source": [
        "! unzip NotoSansCJKtc-hinted.zip"
      ],
      "execution_count": null,
      "outputs": []
    },
    {
      "cell_type": "code",
      "metadata": {
        "id": "3UYS13BvOzeR"
      },
      "source": [
        "import matplotlib as mpl\n",
        "import matplotlib.pyplot as plt\n",
        "import matplotlib.font_manager as fm\n",
        "\n",
        "path = './NotoSansCJKtc-Regular.otf'\n",
        "fontprop = fm.FontProperties(fname=path)"
      ],
      "execution_count": 213,
      "outputs": []
    },
    {
      "cell_type": "code",
      "metadata": {
        "id": "Ickk7xXxZiBf",
        "outputId": "f076f3e9-5bf2-4fdb-a330-8171e96e1af3",
        "colab": {
          "base_uri": "https://localhost:8080/",
          "height": 85
        }
      },
      "source": [
        "rent591.groupby('city')['logprice_by_area'].mean().index"
      ],
      "execution_count": 287,
      "outputs": [
        {
          "output_type": "execute_result",
          "data": {
            "text/plain": [
              "Index(['南投縣', '台中市', '台北市', '台南市', '台東縣', '嘉義市', '嘉義縣', '基隆市', '宜蘭縣', '屏東縣',\n",
              "       '彰化縣', '新北市', '新竹市', '新竹縣', '桃園市', '澎湖縣', '花蓮縣', '苗栗縣', '金門縣', '雲林縣',\n",
              "       '高雄市'],\n",
              "      dtype='object', name='city')"
            ]
          },
          "metadata": {
            "tags": []
          },
          "execution_count": 287
        }
      ]
    },
    {
      "cell_type": "code",
      "metadata": {
        "id": "InYvAwwnQALc"
      },
      "source": [
        "cityname = list(rent591.groupby('city')['logprice_by_area'].mean().index)"
      ],
      "execution_count": 288,
      "outputs": []
    },
    {
      "cell_type": "code",
      "metadata": {
        "id": "JNGb0ChGNiui",
        "outputId": "9daacbe2-4060-424f-ee00-f943b4095b4d",
        "colab": {
          "base_uri": "https://localhost:8080/",
          "height": 1000
        }
      },
      "source": [
        "import matplotlib.pyplot as plt\n",
        "import numpy as np\n",
        "\n",
        "rent591.boxplot('logprice_by_area', by= 'city', figsize = [20,10])\n",
        "plt.xticks( range(1,len(cityname)+1), cityname ,fontproperties=fontprop)"
      ],
      "execution_count": 289,
      "outputs": [
        {
          "output_type": "execute_result",
          "data": {
            "text/plain": [
              "([<matplotlib.axis.XTick at 0x7f625644b550>,\n",
              "  <matplotlib.axis.XTick at 0x7f62563f6ef0>,\n",
              "  <matplotlib.axis.XTick at 0x7f6257ade208>,\n",
              "  <matplotlib.axis.XTick at 0x7f6258d407b8>,\n",
              "  <matplotlib.axis.XTick at 0x7f6258d40b38>,\n",
              "  <matplotlib.axis.XTick at 0x7f6258d46048>,\n",
              "  <matplotlib.axis.XTick at 0x7f6258d46898>,\n",
              "  <matplotlib.axis.XTick at 0x7f6258d53208>,\n",
              "  <matplotlib.axis.XTick at 0x7f6258d53940>,\n",
              "  <matplotlib.axis.XTick at 0x7f6258d59048>,\n",
              "  <matplotlib.axis.XTick at 0x7f6258d60dd8>,\n",
              "  <matplotlib.axis.XTick at 0x7f6258d60668>,\n",
              "  <matplotlib.axis.XTick at 0x7f6258ce6198>,\n",
              "  <matplotlib.axis.XTick at 0x7f6258ce6438>,\n",
              "  <matplotlib.axis.XTick at 0x7f6258d595f8>,\n",
              "  <matplotlib.axis.XTick at 0x7f6258d46ac8>,\n",
              "  <matplotlib.axis.XTick at 0x7f625991f898>,\n",
              "  <matplotlib.axis.XTick at 0x7f625991fa90>,\n",
              "  <matplotlib.axis.XTick at 0x7f625991f2e8>,\n",
              "  <matplotlib.axis.XTick at 0x7f6258d4c7b8>,\n",
              "  <matplotlib.axis.XTick at 0x7f6258d74080>],\n",
              " [Text(0, 0, '南投縣'),\n",
              "  Text(0, 0, '台中市'),\n",
              "  Text(0, 0, '台北市'),\n",
              "  Text(0, 0, '台南市'),\n",
              "  Text(0, 0, '台東縣'),\n",
              "  Text(0, 0, '嘉義市'),\n",
              "  Text(0, 0, '嘉義縣'),\n",
              "  Text(0, 0, '基隆市'),\n",
              "  Text(0, 0, '宜蘭縣'),\n",
              "  Text(0, 0, '屏東縣'),\n",
              "  Text(0, 0, '彰化縣'),\n",
              "  Text(0, 0, '新北市'),\n",
              "  Text(0, 0, '新竹市'),\n",
              "  Text(0, 0, '新竹縣'),\n",
              "  Text(0, 0, '桃園市'),\n",
              "  Text(0, 0, '澎湖縣'),\n",
              "  Text(0, 0, '花蓮縣'),\n",
              "  Text(0, 0, '苗栗縣'),\n",
              "  Text(0, 0, '金門縣'),\n",
              "  Text(0, 0, '雲林縣'),\n",
              "  Text(0, 0, '高雄市')])"
            ]
          },
          "metadata": {
            "tags": []
          },
          "execution_count": 289
        },
        {
          "output_type": "display_data",
          "data": {
            "image/png": "[encoded data removed]",
            "text/plain": [
              "<Figure size 1440x720 with 1 Axes>"
            ]
          },
          "metadata": {
            "tags": [],
            "needs_background": "light"
          }
        }
      ]
    },
    {
      "cell_type": "code",
      "metadata": {
        "id": "nsv38l51N8ES"
      },
      "source": [
        "temp = np.random.randint(1,40, 100)"
      ],
      "execution_count": 233,
      "outputs": []
    },
    {
      "cell_type": "code",
      "metadata": {
        "id": "7gj2yseVSVC5"
      },
      "source": [
        "temp  = temp.tolist() + [999,999,999]"
      ],
      "execution_count": 238,
      "outputs": []
    },
    {
      "cell_type": "code",
      "metadata": {
        "id": "vU4DJRrcSHsm"
      },
      "source": [
        "s_temp = pandas.Series(temp)"
      ],
      "execution_count": 239,
      "outputs": []
    },
    {
      "cell_type": "code",
      "metadata": {
        "id": "N5nnOR1dSIUx",
        "outputId": "b9ef0296-54d5-451a-fcac-b4e565d89c88",
        "colab": {
          "base_uri": "https://localhost:8080/",
          "height": 281
        }
      },
      "source": [
        "s_temp.plot(kind = 'box')"
      ],
      "execution_count": 240,
      "outputs": [
        {
          "output_type": "execute_result",
          "data": {
            "text/plain": [
              "<matplotlib.axes._subplots.AxesSubplot at 0x7f6257602f60>"
            ]
          },
          "metadata": {
            "tags": []
          },
          "execution_count": 240
        },
        {
          "output_type": "display_data",
          "data": {
            "image/png": "[encoded data removed]",
            "text/plain": [
              "<Figure size 432x288 with 1 Axes>"
            ]
          },
          "metadata": {
            "tags": [],
            "needs_background": "light"
          }
        }
      ]
    },
    {
      "cell_type": "code",
      "metadata": {
        "id": "ZdtqAwbDSO0Q",
        "outputId": "f2f1b5a4-a0bc-4710-a9f5-886a707a5249",
        "colab": {
          "base_uri": "https://localhost:8080/",
          "height": 281
        }
      },
      "source": [
        "df['Close'].plot(kind ='hist', bins = 50)"
      ],
      "execution_count": 243,
      "outputs": [
        {
          "output_type": "execute_result",
          "data": {
            "text/plain": [
              "<matplotlib.axes._subplots.AxesSubplot at 0x7f62576547f0>"
            ]
          },
          "metadata": {
            "tags": []
          },
          "execution_count": 243
        },
        {
          "output_type": "display_data",
          "data": {
            "image/png": "[encoded data removed]",
            "text/plain": [
              "<Figure size 432x288 with 1 Axes>"
            ]
          },
          "metadata": {
            "tags": [],
            "needs_background": "light"
          }
        }
      ]
    },
    {
      "cell_type": "code",
      "metadata": {
        "id": "cdjXK1McSrOh",
        "outputId": "ddb36690-047f-4c77-837a-ef7a074116f9",
        "colab": {
          "base_uri": "https://localhost:8080/",
          "height": 34
        }
      },
      "source": [
        "df['Close'].std()"
      ],
      "execution_count": 244,
      "outputs": [
        {
          "output_type": "execute_result",
          "data": {
            "text/plain": [
              "80.44747440384342"
            ]
          },
          "metadata": {
            "tags": []
          },
          "execution_count": 244
        }
      ]
    },
    {
      "cell_type": "code",
      "metadata": {
        "id": "kM6Su4_2UWKg",
        "outputId": "501e54f9-5fc3-4955-e4bd-cc977008e30a",
        "colab": {
          "base_uri": "https://localhost:8080/",
          "height": 34
        }
      },
      "source": [
        "df['Close'].std() ** 2"
      ],
      "execution_count": 245,
      "outputs": [
        {
          "output_type": "execute_result",
          "data": {
            "text/plain": [
              "6471.7961379570415"
            ]
          },
          "metadata": {
            "tags": []
          },
          "execution_count": 245
        }
      ]
    },
    {
      "cell_type": "code",
      "metadata": {
        "id": "pFuo1u8DUZdB",
        "outputId": "b442d0ed-9695-406e-9961-5b618c46d8f0",
        "colab": {
          "base_uri": "https://localhost:8080/",
          "height": 34
        }
      },
      "source": [
        "df['Close'].var()"
      ],
      "execution_count": 246,
      "outputs": [
        {
          "output_type": "execute_result",
          "data": {
            "text/plain": [
              "6471.796137957041"
            ]
          },
          "metadata": {
            "tags": []
          },
          "execution_count": 246
        }
      ]
    },
    {
      "cell_type": "code",
      "metadata": {
        "id": "VBG_w9x5Uj7h",
        "outputId": "b96145ab-3122-48af-e64f-a00467c4132b",
        "colab": {
          "base_uri": "https://localhost:8080/",
          "height": 281
        }
      },
      "source": [
        "df['Close'].pct_change(1).plot(kind = 'hist')"
      ],
      "execution_count": 249,
      "outputs": [
        {
          "output_type": "execute_result",
          "data": {
            "text/plain": [
              "<matplotlib.axes._subplots.AxesSubplot at 0x7f6257a4aac8>"
            ]
          },
          "metadata": {
            "tags": []
          },
          "execution_count": 249
        },
        {
          "output_type": "display_data",
          "data": {
            "image/png": "[encoded data removed]",
            "text/plain": [
              "<Figure size 432x288 with 1 Axes>"
            ]
          },
          "metadata": {
            "tags": [],
            "needs_background": "light"
          }
        }
      ]
    },
    {
      "cell_type": "code",
      "metadata": {
        "id": "zo--TOSKUk6A",
        "outputId": "d7f72f8a-c73c-4da7-ceff-0d41099b7b35",
        "colab": {
          "base_uri": "https://localhost:8080/",
          "height": 34
        }
      },
      "source": [
        "df['Close'].pct_change(1).mean()"
      ],
      "execution_count": 250,
      "outputs": [
        {
          "output_type": "execute_result",
          "data": {
            "text/plain": [
              "0.0005559695491261225"
            ]
          },
          "metadata": {
            "tags": []
          },
          "execution_count": 250
        }
      ]
    },
    {
      "cell_type": "code",
      "metadata": {
        "id": "9kPWgn9PUziP",
        "outputId": "148ee8a7-6a15-43cc-f7ea-c70c5b302ce5",
        "colab": {
          "base_uri": "https://localhost:8080/",
          "height": 34
        }
      },
      "source": [
        "df['Close'].pct_change(1).std()"
      ],
      "execution_count": 251,
      "outputs": [
        {
          "output_type": "execute_result",
          "data": {
            "text/plain": [
              "0.020142753953043158"
            ]
          },
          "metadata": {
            "tags": []
          },
          "execution_count": 251
        }
      ]
    },
    {
      "cell_type": "code",
      "metadata": {
        "id": "jFQRAKlgU5c_"
      },
      "source": [
        "import pandas_datareader\n",
        "df = pandas_datareader.get_data_yahoo(['2330.TW', '2454.TW', '2498.TW', '1101.TW', '2881.TW'], start = '2014-01-01')['Close']\n"
      ],
      "execution_count": 291,
      "outputs": []
    },
    {
      "cell_type": "code",
      "metadata": {
        "id": "QszYjTL4VNnF",
        "outputId": "b0ba8c43-443a-4177-afe4-eb46f9fcd4d1",
        "colab": {
          "base_uri": "https://localhost:8080/",
          "height": 136
        }
      },
      "source": [
        "df.pct_change(1).mean()"
      ],
      "execution_count": 292,
      "outputs": [
        {
          "output_type": "execute_result",
          "data": {
            "text/plain": [
              "Symbols\n",
              "2330.TW    0.000967\n",
              "2454.TW    0.000423\n",
              "2498.TW   -0.000593\n",
              "1101.TW    0.000170\n",
              "2881.TW    0.000051\n",
              "dtype: float64"
            ]
          },
          "metadata": {
            "tags": []
          },
          "execution_count": 292
        }
      ]
    },
    {
      "cell_type": "code",
      "metadata": {
        "id": "wJvBdzLXVPIv",
        "outputId": "afb04c91-671f-4324-e884-432018b98879",
        "colab": {
          "base_uri": "https://localhost:8080/",
          "height": 136
        }
      },
      "source": [
        "df.pct_change(1).std()"
      ],
      "execution_count": 293,
      "outputs": [
        {
          "output_type": "execute_result",
          "data": {
            "text/plain": [
              "Symbols\n",
              "2330.TW    0.015228\n",
              "2454.TW    0.022433\n",
              "2498.TW    0.027244\n",
              "1101.TW    0.014806\n",
              "2881.TW    0.013455\n",
              "dtype: float64"
            ]
          },
          "metadata": {
            "tags": []
          },
          "execution_count": 293
        }
      ]
    },
    {
      "cell_type": "code",
      "metadata": {
        "id": "0kR4e5I-VdSP",
        "outputId": "e3846b2e-1dd1-4752-e0fd-f4e2c2d6afbb",
        "colab": {
          "base_uri": "https://localhost:8080/",
          "height": 281
        }
      },
      "source": [
        "df['2330.TW'].plot(kind = 'hist', bins = 50)"
      ],
      "execution_count": 296,
      "outputs": [
        {
          "output_type": "execute_result",
          "data": {
            "text/plain": [
              "<matplotlib.axes._subplots.AxesSubplot at 0x7f62562d5f60>"
            ]
          },
          "metadata": {
            "tags": []
          },
          "execution_count": 296
        },
        {
          "output_type": "display_data",
          "data": {
            "image/png": "[encoded data removed]",
            "text/plain": [
              "<Figure size 432x288 with 1 Axes>"
            ]
          },
          "metadata": {
            "tags": [],
            "needs_background": "light"
          }
        }
      ]
    },
    {
      "cell_type": "code",
      "metadata": {
        "id": "exmzuV6bcfEs",
        "outputId": "36c23c44-727c-4dc4-806e-6ffbd639e56d",
        "colab": {
          "base_uri": "https://localhost:8080/",
          "height": 136
        }
      },
      "source": [
        "df['2330.TW'].head()"
      ],
      "execution_count": 300,
      "outputs": [
        {
          "output_type": "execute_result",
          "data": {
            "text/plain": [
              "Date\n",
              "2014-01-02    104.5\n",
              "2014-01-03    102.5\n",
              "2014-01-06    102.5\n",
              "2014-01-07    102.0\n",
              "2014-01-08    104.0\n",
              "Name: 2330.TW, dtype: float64"
            ]
          },
          "metadata": {
            "tags": []
          },
          "execution_count": 300
        }
      ]
    },
    {
      "cell_type": "code",
      "metadata": {
        "id": "B-wA4FyschjM",
        "outputId": "47771ff5-07f9-4d62-eba7-087ec8e0cb98",
        "colab": {
          "base_uri": "https://localhost:8080/",
          "height": 34
        }
      },
      "source": [
        "102.5 / 104.5 - 1"
      ],
      "execution_count": 301,
      "outputs": [
        {
          "output_type": "execute_result",
          "data": {
            "text/plain": [
              "-0.019138755980861233"
            ]
          },
          "metadata": {
            "tags": []
          },
          "execution_count": 301
        }
      ]
    },
    {
      "cell_type": "code",
      "metadata": {
        "id": "v4vOyNB7byke",
        "outputId": "85725f75-fc56-4e73-a1e8-510b90a5dc51",
        "colab": {
          "base_uri": "https://localhost:8080/",
          "height": 238
        }
      },
      "source": [
        "df['2330.TW'] / df['2330.TW'].shift(1) - 1"
      ],
      "execution_count": 299,
      "outputs": [
        {
          "output_type": "execute_result",
          "data": {
            "text/plain": [
              "Date\n",
              "2014-01-02         NaN\n",
              "2014-01-03   -0.019139\n",
              "2014-01-06    0.000000\n",
              "2014-01-07   -0.004878\n",
              "2014-01-08    0.019608\n",
              "                ...   \n",
              "2020-09-21   -0.009009\n",
              "2020-09-22   -0.006818\n",
              "2020-09-23   -0.008009\n",
              "2020-09-24   -0.024221\n",
              "2020-09-25    0.002364\n",
              "Name: 2330.TW, Length: 1646, dtype: float64"
            ]
          },
          "metadata": {
            "tags": []
          },
          "execution_count": 299
        }
      ]
    },
    {
      "cell_type": "code",
      "metadata": {
        "id": "CHpqW7QqcVi8",
        "outputId": "a124f721-9a07-49ec-af6b-96301f4ea23d",
        "colab": {
          "base_uri": "https://localhost:8080/",
          "height": 281
        }
      },
      "source": [
        "df['2330.TW'].pct_change(1).plot(kind = 'hist')"
      ],
      "execution_count": 303,
      "outputs": [
        {
          "output_type": "execute_result",
          "data": {
            "text/plain": [
              "<matplotlib.axes._subplots.AxesSubplot at 0x7f62563510b8>"
            ]
          },
          "metadata": {
            "tags": []
          },
          "execution_count": 303
        },
        {
          "output_type": "display_data",
          "data": {
            "image/png": "[encoded data removed]",
            "text/plain": [
              "<Figure size 432x288 with 1 Axes>"
            ]
          },
          "metadata": {
            "tags": [],
            "needs_background": "light"
          }
        }
      ]
    },
    {
      "cell_type": "code",
      "metadata": {
        "id": "M3Zq7dmJcqOs",
        "outputId": "0f2c6477-e610-4187-82df-029f6aaa04e3",
        "colab": {
          "base_uri": "https://localhost:8080/",
          "height": 281
        }
      },
      "source": [
        "df['2498.TW'].pct_change(1).plot(kind = 'hist')"
      ],
      "execution_count": 304,
      "outputs": [
        {
          "output_type": "execute_result",
          "data": {
            "text/plain": [
              "<matplotlib.axes._subplots.AxesSubplot at 0x7f62563d8e80>"
            ]
          },
          "metadata": {
            "tags": []
          },
          "execution_count": 304
        },
        {
          "output_type": "display_data",
          "data": {
            "image/png": "[encoded data removed]",
            "text/plain": [
              "<Figure size 432x288 with 1 Axes>"
            ]
          },
          "metadata": {
            "tags": [],
            "needs_background": "light"
          }
        }
      ]
    },
    {
      "cell_type": "code",
      "metadata": {
        "id": "lOcnZTuoc7b8",
        "outputId": "8372b779-05c8-4c7e-cc8a-937c578b2453",
        "colab": {
          "base_uri": "https://localhost:8080/",
          "height": 281
        }
      },
      "source": [
        "df['2330.TW'].pct_change(1).plot(kind = 'density')\n",
        "df['2498.TW'].pct_change(1).plot(kind = 'density')"
      ],
      "execution_count": 306,
      "outputs": [
        {
          "output_type": "execute_result",
          "data": {
            "text/plain": [
              "<matplotlib.axes._subplots.AxesSubplot at 0x7f624ca25c18>"
            ]
          },
          "metadata": {
            "tags": []
          },
          "execution_count": 306
        },
        {
          "output_type": "display_data",
          "data": {
            "image/png": "[encoded data removed]",
            "text/plain": [
              "<Figure size 432x288 with 1 Axes>"
            ]
          },
          "metadata": {
            "tags": [],
            "needs_background": "light"
          }
        }
      ]
    },
    {
      "cell_type": "code",
      "metadata": {
        "id": "cywP6AH2dyxf",
        "outputId": "d362e221-d735-4f07-f43b-02abde62a49c",
        "colab": {
          "base_uri": "https://localhost:8080/",
          "height": 235
        }
      },
      "source": [
        "df.cov()"
      ],
      "execution_count": 308,
      "outputs": [
        {
          "output_type": "execute_result",
          "data": {
            "text/html": [
              "<div>\n",
              "<style scoped>\n",
              "    .dataframe tbody tr th:only-of-type {\n",
              "        vertical-align: middle;\n",
              "    }\n",
              "\n",
              "    .dataframe tbody tr th {\n",
              "        vertical-align: top;\n",
              "    }\n",
              "\n",
              "    .dataframe thead th {\n",
              "        text-align: right;\n",
              "    }\n",
              "</style>\n",
              "<table border=\"1\" class=\"dataframe\">\n",
              "  <thead>\n",
              "    <tr style=\"text-align: right;\">\n",
              "      <th>Symbols</th>\n",
              "      <th>2330.TW</th>\n",
              "      <th>2454.TW</th>\n",
              "      <th>2498.TW</th>\n",
              "      <th>1101.TW</th>\n",
              "      <th>2881.TW</th>\n",
              "    </tr>\n",
              "    <tr>\n",
              "      <th>Symbols</th>\n",
              "      <th></th>\n",
              "      <th></th>\n",
              "      <th></th>\n",
              "      <th></th>\n",
              "      <th></th>\n",
              "    </tr>\n",
              "  </thead>\n",
              "  <tbody>\n",
              "    <tr>\n",
              "      <th>2330.TW</th>\n",
              "      <td>5210.722367</td>\n",
              "      <td>1730.064446</td>\n",
              "      <td>-2133.862022</td>\n",
              "      <td>189.748490</td>\n",
              "      <td>-82.825974</td>\n",
              "    </tr>\n",
              "    <tr>\n",
              "      <th>2454.TW</th>\n",
              "      <td>1730.064446</td>\n",
              "      <td>12054.676920</td>\n",
              "      <td>1161.360248</td>\n",
              "      <td>424.125092</td>\n",
              "      <td>-16.156281</td>\n",
              "    </tr>\n",
              "    <tr>\n",
              "      <th>2498.TW</th>\n",
              "      <td>-2133.862022</td>\n",
              "      <td>1161.360248</td>\n",
              "      <td>1464.502303</td>\n",
              "      <td>-25.448403</td>\n",
              "      <td>24.366340</td>\n",
              "    </tr>\n",
              "    <tr>\n",
              "      <th>1101.TW</th>\n",
              "      <td>189.748490</td>\n",
              "      <td>424.125092</td>\n",
              "      <td>-25.448403</td>\n",
              "      <td>28.600138</td>\n",
              "      <td>-2.429396</td>\n",
              "    </tr>\n",
              "    <tr>\n",
              "      <th>2881.TW</th>\n",
              "      <td>-82.825974</td>\n",
              "      <td>-16.156281</td>\n",
              "      <td>24.366340</td>\n",
              "      <td>-2.429396</td>\n",
              "      <td>31.836632</td>\n",
              "    </tr>\n",
              "  </tbody>\n",
              "</table>\n",
              "</div>"
            ],
            "text/plain": [
              "Symbols      2330.TW       2454.TW      2498.TW     1101.TW    2881.TW\n",
              "Symbols                                                               \n",
              "2330.TW  5210.722367   1730.064446 -2133.862022  189.748490 -82.825974\n",
              "2454.TW  1730.064446  12054.676920  1161.360248  424.125092 -16.156281\n",
              "2498.TW -2133.862022   1161.360248  1464.502303  -25.448403  24.366340\n",
              "1101.TW   189.748490    424.125092   -25.448403   28.600138  -2.429396\n",
              "2881.TW   -82.825974    -16.156281    24.366340   -2.429396  31.836632"
            ]
          },
          "metadata": {
            "tags": []
          },
          "execution_count": 308
        }
      ]
    },
    {
      "cell_type": "code",
      "metadata": {
        "id": "bV6YcZCfdzWc",
        "outputId": "7e27e481-aa4a-43d3-9766-5f8305a10c1b",
        "colab": {
          "base_uri": "https://localhost:8080/",
          "height": 235
        }
      },
      "source": [
        "df.corr()"
      ],
      "execution_count": 309,
      "outputs": [
        {
          "output_type": "execute_result",
          "data": {
            "text/html": [
              "<div>\n",
              "<style scoped>\n",
              "    .dataframe tbody tr th:only-of-type {\n",
              "        vertical-align: middle;\n",
              "    }\n",
              "\n",
              "    .dataframe tbody tr th {\n",
              "        vertical-align: top;\n",
              "    }\n",
              "\n",
              "    .dataframe thead th {\n",
              "        text-align: right;\n",
              "    }\n",
              "</style>\n",
              "<table border=\"1\" class=\"dataframe\">\n",
              "  <thead>\n",
              "    <tr style=\"text-align: right;\">\n",
              "      <th>Symbols</th>\n",
              "      <th>2330.TW</th>\n",
              "      <th>2454.TW</th>\n",
              "      <th>2498.TW</th>\n",
              "      <th>1101.TW</th>\n",
              "      <th>2881.TW</th>\n",
              "    </tr>\n",
              "    <tr>\n",
              "      <th>Symbols</th>\n",
              "      <th></th>\n",
              "      <th></th>\n",
              "      <th></th>\n",
              "      <th></th>\n",
              "      <th></th>\n",
              "    </tr>\n",
              "  </thead>\n",
              "  <tbody>\n",
              "    <tr>\n",
              "      <th>2330.TW</th>\n",
              "      <td>1.000000</td>\n",
              "      <td>0.218291</td>\n",
              "      <td>-0.772453</td>\n",
              "      <td>0.491525</td>\n",
              "      <td>-0.203355</td>\n",
              "    </tr>\n",
              "    <tr>\n",
              "      <th>2454.TW</th>\n",
              "      <td>0.218291</td>\n",
              "      <td>1.000000</td>\n",
              "      <td>0.276404</td>\n",
              "      <td>0.722324</td>\n",
              "      <td>-0.026080</td>\n",
              "    </tr>\n",
              "    <tr>\n",
              "      <th>2498.TW</th>\n",
              "      <td>-0.772453</td>\n",
              "      <td>0.276404</td>\n",
              "      <td>1.000000</td>\n",
              "      <td>-0.124346</td>\n",
              "      <td>0.112845</td>\n",
              "    </tr>\n",
              "    <tr>\n",
              "      <th>1101.TW</th>\n",
              "      <td>0.491525</td>\n",
              "      <td>0.722324</td>\n",
              "      <td>-0.124346</td>\n",
              "      <td>1.000000</td>\n",
              "      <td>-0.080510</td>\n",
              "    </tr>\n",
              "    <tr>\n",
              "      <th>2881.TW</th>\n",
              "      <td>-0.203355</td>\n",
              "      <td>-0.026080</td>\n",
              "      <td>0.112845</td>\n",
              "      <td>-0.080510</td>\n",
              "      <td>1.000000</td>\n",
              "    </tr>\n",
              "  </tbody>\n",
              "</table>\n",
              "</div>"
            ],
            "text/plain": [
              "Symbols   2330.TW   2454.TW   2498.TW   1101.TW   2881.TW\n",
              "Symbols                                                  \n",
              "2330.TW  1.000000  0.218291 -0.772453  0.491525 -0.203355\n",
              "2454.TW  0.218291  1.000000  0.276404  0.722324 -0.026080\n",
              "2498.TW -0.772453  0.276404  1.000000 -0.124346  0.112845\n",
              "1101.TW  0.491525  0.722324 -0.124346  1.000000 -0.080510\n",
              "2881.TW -0.203355 -0.026080  0.112845 -0.080510  1.000000"
            ]
          },
          "metadata": {
            "tags": []
          },
          "execution_count": 309
        }
      ]
    },
    {
      "cell_type": "code",
      "metadata": {
        "id": "aAmovzdAeQML"
      },
      "source": [
        "import pandas_datareader\n",
        "df = pandas_datareader.get_data_yahoo(['^TWII','2330.TW', '2454.TW', \n",
        "                    '2498.TW', '1101.TW', '1102.TW',\n",
        "                    '2881.TW', '2882.TW'], start = '2014-01-01')['Close']\n"
      ],
      "execution_count": 310,
      "outputs": []
    },
    {
      "cell_type": "code",
      "metadata": {
        "id": "Ge6_APRBfLhb",
        "outputId": "a435b936-a1d8-4206-b8cc-f459277ea9a1",
        "colab": {
          "base_uri": "https://localhost:8080/",
          "height": 328
        }
      },
      "source": [
        "df.corr()"
      ],
      "execution_count": 311,
      "outputs": [
        {
          "output_type": "execute_result",
          "data": {
            "text/html": [
              "<div>\n",
              "<style scoped>\n",
              "    .dataframe tbody tr th:only-of-type {\n",
              "        vertical-align: middle;\n",
              "    }\n",
              "\n",
              "    .dataframe tbody tr th {\n",
              "        vertical-align: top;\n",
              "    }\n",
              "\n",
              "    .dataframe thead th {\n",
              "        text-align: right;\n",
              "    }\n",
              "</style>\n",
              "<table border=\"1\" class=\"dataframe\">\n",
              "  <thead>\n",
              "    <tr style=\"text-align: right;\">\n",
              "      <th>Symbols</th>\n",
              "      <th>^TWII</th>\n",
              "      <th>2330.TW</th>\n",
              "      <th>2454.TW</th>\n",
              "      <th>2498.TW</th>\n",
              "      <th>1101.TW</th>\n",
              "      <th>1102.TW</th>\n",
              "      <th>2881.TW</th>\n",
              "      <th>2882.TW</th>\n",
              "    </tr>\n",
              "    <tr>\n",
              "      <th>Symbols</th>\n",
              "      <th></th>\n",
              "      <th></th>\n",
              "      <th></th>\n",
              "      <th></th>\n",
              "      <th></th>\n",
              "      <th></th>\n",
              "      <th></th>\n",
              "      <th></th>\n",
              "    </tr>\n",
              "  </thead>\n",
              "  <tbody>\n",
              "    <tr>\n",
              "      <th>^TWII</th>\n",
              "      <td>1.000000</td>\n",
              "      <td>0.914986</td>\n",
              "      <td>0.340042</td>\n",
              "      <td>-0.604016</td>\n",
              "      <td>0.595455</td>\n",
              "      <td>0.461979</td>\n",
              "      <td>0.010742</td>\n",
              "      <td>0.140476</td>\n",
              "    </tr>\n",
              "    <tr>\n",
              "      <th>2330.TW</th>\n",
              "      <td>0.914986</td>\n",
              "      <td>1.000000</td>\n",
              "      <td>0.218291</td>\n",
              "      <td>-0.772453</td>\n",
              "      <td>0.491525</td>\n",
              "      <td>0.387239</td>\n",
              "      <td>-0.203355</td>\n",
              "      <td>-0.145091</td>\n",
              "    </tr>\n",
              "    <tr>\n",
              "      <th>2454.TW</th>\n",
              "      <td>0.340042</td>\n",
              "      <td>0.218291</td>\n",
              "      <td>1.000000</td>\n",
              "      <td>0.276404</td>\n",
              "      <td>0.722324</td>\n",
              "      <td>0.635124</td>\n",
              "      <td>-0.026080</td>\n",
              "      <td>-0.050715</td>\n",
              "    </tr>\n",
              "    <tr>\n",
              "      <th>2498.TW</th>\n",
              "      <td>-0.604016</td>\n",
              "      <td>-0.772453</td>\n",
              "      <td>0.276404</td>\n",
              "      <td>1.000000</td>\n",
              "      <td>-0.124346</td>\n",
              "      <td>-0.164585</td>\n",
              "      <td>0.112845</td>\n",
              "      <td>0.119735</td>\n",
              "    </tr>\n",
              "    <tr>\n",
              "      <th>1101.TW</th>\n",
              "      <td>0.595455</td>\n",
              "      <td>0.491525</td>\n",
              "      <td>0.722324</td>\n",
              "      <td>-0.124346</td>\n",
              "      <td>1.000000</td>\n",
              "      <td>0.910436</td>\n",
              "      <td>-0.080510</td>\n",
              "      <td>-0.068030</td>\n",
              "    </tr>\n",
              "    <tr>\n",
              "      <th>1102.TW</th>\n",
              "      <td>0.461979</td>\n",
              "      <td>0.387239</td>\n",
              "      <td>0.635124</td>\n",
              "      <td>-0.164585</td>\n",
              "      <td>0.910436</td>\n",
              "      <td>1.000000</td>\n",
              "      <td>-0.037948</td>\n",
              "      <td>-0.136989</td>\n",
              "    </tr>\n",
              "    <tr>\n",
              "      <th>2881.TW</th>\n",
              "      <td>0.010742</td>\n",
              "      <td>-0.203355</td>\n",
              "      <td>-0.026080</td>\n",
              "      <td>0.112845</td>\n",
              "      <td>-0.080510</td>\n",
              "      <td>-0.037948</td>\n",
              "      <td>1.000000</td>\n",
              "      <td>0.829853</td>\n",
              "    </tr>\n",
              "    <tr>\n",
              "      <th>2882.TW</th>\n",
              "      <td>0.140476</td>\n",
              "      <td>-0.145091</td>\n",
              "      <td>-0.050715</td>\n",
              "      <td>0.119735</td>\n",
              "      <td>-0.068030</td>\n",
              "      <td>-0.136989</td>\n",
              "      <td>0.829853</td>\n",
              "      <td>1.000000</td>\n",
              "    </tr>\n",
              "  </tbody>\n",
              "</table>\n",
              "</div>"
            ],
            "text/plain": [
              "Symbols     ^TWII   2330.TW   2454.TW  ...   1102.TW   2881.TW   2882.TW\n",
              "Symbols                                ...                              \n",
              "^TWII    1.000000  0.914986  0.340042  ...  0.461979  0.010742  0.140476\n",
              "2330.TW  0.914986  1.000000  0.218291  ...  0.387239 -0.203355 -0.145091\n",
              "2454.TW  0.340042  0.218291  1.000000  ...  0.635124 -0.026080 -0.050715\n",
              "2498.TW -0.604016 -0.772453  0.276404  ... -0.164585  0.112845  0.119735\n",
              "1101.TW  0.595455  0.491525  0.722324  ...  0.910436 -0.080510 -0.068030\n",
              "1102.TW  0.461979  0.387239  0.635124  ...  1.000000 -0.037948 -0.136989\n",
              "2881.TW  0.010742 -0.203355 -0.026080  ... -0.037948  1.000000  0.829853\n",
              "2882.TW  0.140476 -0.145091 -0.050715  ... -0.136989  0.829853  1.000000\n",
              "\n",
              "[8 rows x 8 columns]"
            ]
          },
          "metadata": {
            "tags": []
          },
          "execution_count": 311
        }
      ]
    },
    {
      "cell_type": "markdown",
      "metadata": {
        "id": "YCGzwwXGjtb2"
      },
      "source": [
        "## Data Visualization"
      ]
    },
    {
      "cell_type": "code",
      "metadata": {
        "id": "W1GOYi1JfN3L"
      },
      "source": [
        "import pandas_datareader\n",
        "df = pandas_datareader.get_data_yahoo(['FB','AMZN', 'AAPL', \n",
        "                    'NFLX', 'GOOG', 'TSLA'])['Close']\n"
      ],
      "execution_count": 323,
      "outputs": []
    },
    {
      "cell_type": "code",
      "metadata": {
        "id": "AAOG-eZWjsSB",
        "outputId": "5c8ca34e-5744-4dc2-dfd7-e182e9ebdc43",
        "colab": {
          "base_uri": "https://localhost:8080/",
          "height": 235
        }
      },
      "source": [
        "df.head()"
      ],
      "execution_count": 324,
      "outputs": [
        {
          "output_type": "execute_result",
          "data": {
            "text/html": [
              "<div>\n",
              "<style scoped>\n",
              "    .dataframe tbody tr th:only-of-type {\n",
              "        vertical-align: middle;\n",
              "    }\n",
              "\n",
              "    .dataframe tbody tr th {\n",
              "        vertical-align: top;\n",
              "    }\n",
              "\n",
              "    .dataframe thead th {\n",
              "        text-align: right;\n",
              "    }\n",
              "</style>\n",
              "<table border=\"1\" class=\"dataframe\">\n",
              "  <thead>\n",
              "    <tr style=\"text-align: right;\">\n",
              "      <th>Symbols</th>\n",
              "      <th>FB</th>\n",
              "      <th>AMZN</th>\n",
              "      <th>AAPL</th>\n",
              "      <th>NFLX</th>\n",
              "      <th>GOOG</th>\n",
              "      <th>TSLA</th>\n",
              "    </tr>\n",
              "    <tr>\n",
              "      <th>Date</th>\n",
              "      <th></th>\n",
              "      <th></th>\n",
              "      <th></th>\n",
              "      <th></th>\n",
              "      <th></th>\n",
              "      <th></th>\n",
              "    </tr>\n",
              "  </thead>\n",
              "  <tbody>\n",
              "    <tr>\n",
              "      <th>2015-09-29</th>\n",
              "      <td>86.669998</td>\n",
              "      <td>496.070007</td>\n",
              "      <td>27.264999</td>\n",
              "      <td>98.349998</td>\n",
              "      <td>594.969971</td>\n",
              "      <td>49.330002</td>\n",
              "    </tr>\n",
              "    <tr>\n",
              "      <th>2015-09-30</th>\n",
              "      <td>89.900002</td>\n",
              "      <td>511.890015</td>\n",
              "      <td>27.575001</td>\n",
              "      <td>103.260002</td>\n",
              "      <td>608.419983</td>\n",
              "      <td>49.680000</td>\n",
              "    </tr>\n",
              "    <tr>\n",
              "      <th>2015-10-01</th>\n",
              "      <td>90.949997</td>\n",
              "      <td>520.719971</td>\n",
              "      <td>27.395000</td>\n",
              "      <td>105.980003</td>\n",
              "      <td>611.289978</td>\n",
              "      <td>47.976002</td>\n",
              "    </tr>\n",
              "    <tr>\n",
              "      <th>2015-10-02</th>\n",
              "      <td>92.070000</td>\n",
              "      <td>532.539978</td>\n",
              "      <td>27.594999</td>\n",
              "      <td>106.110001</td>\n",
              "      <td>626.909973</td>\n",
              "      <td>49.514000</td>\n",
              "    </tr>\n",
              "    <tr>\n",
              "      <th>2015-10-05</th>\n",
              "      <td>94.010002</td>\n",
              "      <td>543.679993</td>\n",
              "      <td>27.695000</td>\n",
              "      <td>111.250000</td>\n",
              "      <td>641.469971</td>\n",
              "      <td>49.230000</td>\n",
              "    </tr>\n",
              "  </tbody>\n",
              "</table>\n",
              "</div>"
            ],
            "text/plain": [
              "Symbols            FB        AMZN       AAPL        NFLX        GOOG       TSLA\n",
              "Date                                                                           \n",
              "2015-09-29  86.669998  496.070007  27.264999   98.349998  594.969971  49.330002\n",
              "2015-09-30  89.900002  511.890015  27.575001  103.260002  608.419983  49.680000\n",
              "2015-10-01  90.949997  520.719971  27.395000  105.980003  611.289978  47.976002\n",
              "2015-10-02  92.070000  532.539978  27.594999  106.110001  626.909973  49.514000\n",
              "2015-10-05  94.010002  543.679993  27.695000  111.250000  641.469971  49.230000"
            ]
          },
          "metadata": {
            "tags": []
          },
          "execution_count": 324
        }
      ]
    },
    {
      "cell_type": "code",
      "metadata": {
        "id": "8ENQf9HokJIw",
        "outputId": "93794a05-6ed5-47d9-ad57-50358187ff06",
        "colab": {
          "base_uri": "https://localhost:8080/",
          "height": 281
        }
      },
      "source": [
        "# matplotlib\n",
        "from matplotlib import pyplot as plt\n",
        "plt.plot(df.index, df['NFLX'])"
      ],
      "execution_count": 325,
      "outputs": [
        {
          "output_type": "execute_result",
          "data": {
            "text/plain": [
              "[<matplotlib.lines.Line2D at 0x7f624c561d68>]"
            ]
          },
          "metadata": {
            "tags": []
          },
          "execution_count": 325
        },
        {
          "output_type": "display_data",
          "data": {
            "image/png": "[encoded data removed]",
            "text/plain": [
              "<Figure size 432x288 with 1 Axes>"
            ]
          },
          "metadata": {
            "tags": [],
            "needs_background": "light"
          }
        }
      ]
    },
    {
      "cell_type": "code",
      "metadata": {
        "id": "DU7HBHh3jyc6",
        "outputId": "74431c7a-3b40-4991-ea7c-c17d7b9c0882",
        "colab": {
          "base_uri": "https://localhost:8080/",
          "height": 283
        }
      },
      "source": [
        "# pandas\n",
        "df['NFLX'].plot(kind = 'line')"
      ],
      "execution_count": 326,
      "outputs": [
        {
          "output_type": "execute_result",
          "data": {
            "text/plain": [
              "<matplotlib.axes._subplots.AxesSubplot at 0x7f624c65f0b8>"
            ]
          },
          "metadata": {
            "tags": []
          },
          "execution_count": 326
        },
        {
          "output_type": "display_data",
          "data": {
            "image/png": "[encoded data removed]",
            "text/plain": [
              "<Figure size 432x288 with 1 Axes>"
            ]
          },
          "metadata": {
            "tags": [],
            "needs_background": "light"
          }
        }
      ]
    },
    {
      "cell_type": "code",
      "metadata": {
        "id": "L4sFzbo7kAcZ",
        "outputId": "e6e03ebb-0243-463c-9fc7-509d3f98606b",
        "colab": {
          "base_uri": "https://localhost:8080/",
          "height": 332
        }
      },
      "source": [
        "df['NFLX'].plot(kind = 'line', figsize = [10,5], grid= True, legend = True)"
      ],
      "execution_count": 327,
      "outputs": [
        {
          "output_type": "execute_result",
          "data": {
            "text/plain": [
              "<matplotlib.axes._subplots.AxesSubplot at 0x7f624c5c2278>"
            ]
          },
          "metadata": {
            "tags": []
          },
          "execution_count": 327
        },
        {
          "output_type": "display_data",
          "data": {
            "image/png": "[encoded data removed]",
            "text/plain": [
              "<Figure size 720x360 with 1 Axes>"
            ]
          },
          "metadata": {
            "tags": [],
            "needs_background": "light"
          }
        }
      ]
    },
    {
      "cell_type": "code",
      "metadata": {
        "id": "7adRIyiEkbkp",
        "outputId": "ae501584-3eda-4bbd-8805-21cf0937942d",
        "colab": {
          "base_uri": "https://localhost:8080/",
          "height": 346
        }
      },
      "source": [
        "df['TSLA'].plot(kind = 'line', figsize = [10,5], grid= True, legend = True, title = 'Tesla')"
      ],
      "execution_count": 330,
      "outputs": [
        {
          "output_type": "execute_result",
          "data": {
            "text/plain": [
              "<matplotlib.axes._subplots.AxesSubplot at 0x7f624c5e1438>"
            ]
          },
          "metadata": {
            "tags": []
          },
          "execution_count": 330
        },
        {
          "output_type": "display_data",
          "data": {
            "image/png": "[encoded data removed]",
            "text/plain": [
              "<Figure size 720x360 with 1 Axes>"
            ]
          },
          "metadata": {
            "tags": [],
            "needs_background": "light"
          }
        }
      ]
    },
    {
      "cell_type": "code",
      "metadata": {
        "id": "oe4TXky9k4XJ"
      },
      "source": [
        "df['ma30'] = df['TSLA'].rolling(window = 30).mean()"
      ],
      "execution_count": 332,
      "outputs": []
    },
    {
      "cell_type": "code",
      "metadata": {
        "id": "5QYA2GuOlEdI",
        "outputId": "d493f449-a89c-4230-b263-ce78ee5322cb",
        "colab": {
          "base_uri": "https://localhost:8080/",
          "height": 332
        }
      },
      "source": [
        "df[['TSLA', 'ma30']].plot(kind = 'line', figsize = [10,5])"
      ],
      "execution_count": 334,
      "outputs": [
        {
          "output_type": "execute_result",
          "data": {
            "text/plain": [
              "<matplotlib.axes._subplots.AxesSubplot at 0x7f624c4131d0>"
            ]
          },
          "metadata": {
            "tags": []
          },
          "execution_count": 334
        },
        {
          "output_type": "display_data",
          "data": {
            "image/png": "[encoded data removed]",
            "text/plain": [
              "<Figure size 720x360 with 1 Axes>"
            ]
          },
          "metadata": {
            "tags": [],
            "needs_background": "light"
          }
        }
      ]
    },
    {
      "cell_type": "code",
      "metadata": {
        "id": "84N-dDE3lLNI",
        "outputId": "7b62df84-825d-4030-8cc7-5b9818e3769d",
        "colab": {
          "base_uri": "https://localhost:8080/",
          "height": 204
        }
      },
      "source": [
        "import pandas\n",
        "purchase = pandas.read_csv('https://raw.githubusercontent.com/ywchiu/tibamepy/master/data/purchase_order.tab', \n",
        "                     sep = '\\t', header = None,names = ['dt', 'action', 'uid', 'pid', 'quantity', 'price'])\n",
        "purchase.head()"
      ],
      "execution_count": 335,
      "outputs": [
        {
          "output_type": "execute_result",
          "data": {
            "text/html": [
              "<div>\n",
              "<style scoped>\n",
              "    .dataframe tbody tr th:only-of-type {\n",
              "        vertical-align: middle;\n",
              "    }\n",
              "\n",
              "    .dataframe tbody tr th {\n",
              "        vertical-align: top;\n",
              "    }\n",
              "\n",
              "    .dataframe thead th {\n",
              "        text-align: right;\n",
              "    }\n",
              "</style>\n",
              "<table border=\"1\" class=\"dataframe\">\n",
              "  <thead>\n",
              "    <tr style=\"text-align: right;\">\n",
              "      <th></th>\n",
              "      <th>dt</th>\n",
              "      <th>action</th>\n",
              "      <th>uid</th>\n",
              "      <th>pid</th>\n",
              "      <th>quantity</th>\n",
              "      <th>price</th>\n",
              "    </tr>\n",
              "  </thead>\n",
              "  <tbody>\n",
              "    <tr>\n",
              "      <th>0</th>\n",
              "      <td>2015-07-01 00:00:01</td>\n",
              "      <td>order</td>\n",
              "      <td>U312622727</td>\n",
              "      <td>P0006944501</td>\n",
              "      <td>1</td>\n",
              "      <td>1069.0</td>\n",
              "    </tr>\n",
              "    <tr>\n",
              "      <th>1</th>\n",
              "      <td>2015-07-01 00:00:03</td>\n",
              "      <td>order</td>\n",
              "      <td>U239012343</td>\n",
              "      <td>P0006018073</td>\n",
              "      <td>1</td>\n",
              "      <td>1680.0</td>\n",
              "    </tr>\n",
              "    <tr>\n",
              "      <th>2</th>\n",
              "      <td>2015-07-01 00:00:19</td>\n",
              "      <td>order</td>\n",
              "      <td>U10007697373</td>\n",
              "      <td>P0002267974</td>\n",
              "      <td>1</td>\n",
              "      <td>285.0</td>\n",
              "    </tr>\n",
              "    <tr>\n",
              "      <th>3</th>\n",
              "      <td>2015-07-01 00:01:10</td>\n",
              "      <td>order</td>\n",
              "      <td>U296328517</td>\n",
              "      <td>P0016144236</td>\n",
              "      <td>1</td>\n",
              "      <td>550.0</td>\n",
              "    </tr>\n",
              "    <tr>\n",
              "      <th>4</th>\n",
              "      <td>2015-07-01 00:01:36</td>\n",
              "      <td>order</td>\n",
              "      <td>U300884570</td>\n",
              "      <td>P0014516980122</td>\n",
              "      <td>1</td>\n",
              "      <td>249.0</td>\n",
              "    </tr>\n",
              "  </tbody>\n",
              "</table>\n",
              "</div>"
            ],
            "text/plain": [
              "                    dt action           uid             pid  quantity   price\n",
              "0  2015-07-01 00:00:01  order    U312622727     P0006944501         1  1069.0\n",
              "1  2015-07-01 00:00:03  order    U239012343     P0006018073         1  1680.0\n",
              "2  2015-07-01 00:00:19  order  U10007697373     P0002267974         1   285.0\n",
              "3  2015-07-01 00:01:10  order    U296328517     P0016144236         1   550.0\n",
              "4  2015-07-01 00:01:36  order    U300884570  P0014516980122         1   249.0"
            ]
          },
          "metadata": {
            "tags": []
          },
          "execution_count": 335
        }
      ]
    },
    {
      "cell_type": "code",
      "metadata": {
        "id": "1DMALbQZlgeZ"
      },
      "source": [
        "purchase['total_amt'] = purchase['quantity'] * purchase['price']"
      ],
      "execution_count": 336,
      "outputs": []
    },
    {
      "cell_type": "code",
      "metadata": {
        "id": "N8jncGExlpUI",
        "outputId": "85796362-d5ad-4f58-9779-24cc35925d16",
        "colab": {
          "base_uri": "https://localhost:8080/",
          "height": 365
        }
      },
      "source": [
        "purchase.groupby('uid')['total_amt'].sum().sort_values(ascending = False).head(20).plot(kind = 'bar')"
      ],
      "execution_count": 340,
      "outputs": [
        {
          "output_type": "execute_result",
          "data": {
            "text/plain": [
              "<matplotlib.axes._subplots.AxesSubplot at 0x7f624c319a58>"
            ]
          },
          "metadata": {
            "tags": []
          },
          "execution_count": 340
        },
        {
          "output_type": "display_data",
          "data": {
            "image/png": "[encoded data removed]",
            "text/plain": [
              "<Figure size 432x288 with 1 Axes>"
            ]
          },
          "metadata": {
            "tags": [],
            "needs_background": "light"
          }
        }
      ]
    },
    {
      "cell_type": "code",
      "metadata": {
        "id": "f5YptcMIltWY"
      },
      "source": [
        "stat = (df['TSLA'].pct_change(1) >= 0 ).value_counts()"
      ],
      "execution_count": 345,
      "outputs": []
    },
    {
      "cell_type": "code",
      "metadata": {
        "id": "GJwRNpwgmGZ4",
        "outputId": "9c775f10-82dd-4f8f-ac8c-dd8894701d58",
        "colab": {
          "base_uri": "https://localhost:8080/",
          "height": 279
        }
      },
      "source": [
        "stat.plot(kind = 'pie', startangle = 90, counterclock = False, legend = True, title = 'TSLA' )"
      ],
      "execution_count": 351,
      "outputs": [
        {
          "output_type": "execute_result",
          "data": {
            "text/plain": [
              "<matplotlib.axes._subplots.AxesSubplot at 0x7f625775db38>"
            ]
          },
          "metadata": {
            "tags": []
          },
          "execution_count": 351
        },
        {
          "output_type": "display_data",
          "data": {
            "image/png": "[encoded data removed]",
            "text/plain": [
              "<Figure size 432x288 with 1 Axes>"
            ]
          },
          "metadata": {
            "tags": []
          }
        }
      ]
    },
    {
      "cell_type": "code",
      "metadata": {
        "id": "ZnQm8K_WmRFc",
        "outputId": "9ba177ef-9a38-492d-81c8-2b3f137c7882",
        "colab": {
          "base_uri": "https://localhost:8080/",
          "height": 281
        }
      },
      "source": [
        "df['TSLA'].plot(kind = 'hist', bins = 50)"
      ],
      "execution_count": 354,
      "outputs": [
        {
          "output_type": "execute_result",
          "data": {
            "text/plain": [
              "<matplotlib.axes._subplots.AxesSubplot at 0x7f624c321780>"
            ]
          },
          "metadata": {
            "tags": []
          },
          "execution_count": 354
        },
        {
          "output_type": "display_data",
          "data": {
            "image/png": "[encoded data removed]",
            "text/plain": [
              "<Figure size 432x288 with 1 Axes>"
            ]
          },
          "metadata": {
            "tags": [],
            "needs_background": "light"
          }
        }
      ]
    },
    {
      "cell_type": "code",
      "metadata": {
        "id": "hCzIUjOOm2st",
        "outputId": "90b1cd1f-4341-457e-ed8d-bf4622d59e82",
        "colab": {
          "base_uri": "https://localhost:8080/",
          "height": 281
        }
      },
      "source": [
        "df['TSLA'].pct_change(1).plot(kind = 'hist', bins = 50)"
      ],
      "execution_count": 355,
      "outputs": [
        {
          "output_type": "execute_result",
          "data": {
            "text/plain": [
              "<matplotlib.axes._subplots.AxesSubplot at 0x7f624b995630>"
            ]
          },
          "metadata": {
            "tags": []
          },
          "execution_count": 355
        },
        {
          "output_type": "display_data",
          "data": {
            "image/png": "[encoded data removed]",
            "text/plain": [
              "<Figure size 432x288 with 1 Axes>"
            ]
          },
          "metadata": {
            "tags": [],
            "needs_background": "light"
          }
        }
      ]
    },
    {
      "cell_type": "code",
      "metadata": {
        "id": "vX1NqymSnHOo",
        "outputId": "b9d81915-3682-4391-de5d-4cf40866fb2c",
        "colab": {
          "base_uri": "https://localhost:8080/",
          "height": 281
        }
      },
      "source": [
        "df['TSLA'].plot(kind = 'box')"
      ],
      "execution_count": 356,
      "outputs": [
        {
          "output_type": "execute_result",
          "data": {
            "text/plain": [
              "<matplotlib.axes._subplots.AxesSubplot at 0x7f624b881a20>"
            ]
          },
          "metadata": {
            "tags": []
          },
          "execution_count": 356
        },
        {
          "output_type": "display_data",
          "data": {
            "image/png": "[encoded data removed]",
            "text/plain": [
              "<Figure size 432x288 with 1 Axes>"
            ]
          },
          "metadata": {
            "tags": [],
            "needs_background": "light"
          }
        }
      ]
    },
    {
      "cell_type": "code",
      "metadata": {
        "id": "FDzqzaeMnTBI",
        "outputId": "3489c38b-76ec-4f0e-e8d3-cbaeef3b1d36",
        "colab": {
          "base_uri": "https://localhost:8080/",
          "height": 283
        }
      },
      "source": [
        "df[['FB','AMZN', 'AAPL', 'NFLX', 'GOOG', 'TSLA']].plot(kind = 'line')"
      ],
      "execution_count": 358,
      "outputs": [
        {
          "output_type": "execute_result",
          "data": {
            "text/plain": [
              "<matplotlib.axes._subplots.AxesSubplot at 0x7f624b7e8dd8>"
            ]
          },
          "metadata": {
            "tags": []
          },
          "execution_count": 358
        },
        {
          "output_type": "display_data",
          "data": {
            "image/png": "[encoded data removed]",
            "text/plain": [
              "<Figure size 432x288 with 1 Axes>"
            ]
          },
          "metadata": {
            "tags": [],
            "needs_background": "light"
          }
        }
      ]
    },
    {
      "cell_type": "code",
      "metadata": {
        "id": "xP2RXUuDoKDY",
        "outputId": "2355f492-1c41-49cc-a58e-41b8beb4d987",
        "colab": {
          "base_uri": "https://localhost:8080/",
          "height": 51
        }
      },
      "source": [
        "df[['FB','AMZN', 'AAPL', 'NFLX', 'GOOG', 'TSLA']].head(1).values.flatten()"
      ],
      "execution_count": 364,
      "outputs": [
        {
          "output_type": "execute_result",
          "data": {
            "text/plain": [
              "array([ 86.66999817, 496.07000732,  27.26499939,  98.34999847,\n",
              "       594.9699707 ,  49.33000183])"
            ]
          },
          "metadata": {
            "tags": []
          },
          "execution_count": 364
        }
      ]
    },
    {
      "cell_type": "code",
      "metadata": {
        "id": "TbnGmSzknyyH"
      },
      "source": [
        "stat = df[['FB','AMZN', 'AAPL', 'NFLX', 'GOOG', 'TSLA']] / df[['FB','AMZN', 'AAPL', 'NFLX', 'GOOG', 'TSLA']].head(1).values.flatten()"
      ],
      "execution_count": 366,
      "outputs": []
    },
    {
      "cell_type": "code",
      "metadata": {
        "id": "-Nlco7-soc7X",
        "outputId": "d1df41c2-69dc-433c-d8f8-a61fcc22a429",
        "colab": {
          "base_uri": "https://localhost:8080/",
          "height": 430
        }
      },
      "source": [
        "stat.plot(kind = 'line', figsize = [20,10])"
      ],
      "execution_count": 369,
      "outputs": [
        {
          "output_type": "execute_result",
          "data": {
            "text/plain": [
              "<matplotlib.axes._subplots.AxesSubplot at 0x7f624b6370f0>"
            ]
          },
          "metadata": {
            "tags": []
          },
          "execution_count": 369
        },
        {
          "output_type": "display_data",
          "data": {
            "image/png": "[encoded data removed]",
            "text/plain": [
              "<Figure size 1440x720 with 1 Axes>"
            ]
          },
          "metadata": {
            "tags": [],
            "needs_background": "light"
          }
        }
      ]
    },
    {
      "cell_type": "code",
      "metadata": {
        "id": "Om-De8Pgoev3"
      },
      "source": [
        "rets = df.pct_change(1)"
      ],
      "execution_count": 370,
      "outputs": []
    },
    {
      "cell_type": "code",
      "metadata": {
        "id": "2oQ7i8S1o8fn",
        "outputId": "7337705c-92d8-4de4-8be6-38d32ed254a1",
        "colab": {
          "base_uri": "https://localhost:8080/",
          "height": 294
        }
      },
      "source": [
        "rets.plot(kind='scatter', x='GOOG', y= 'FB')"
      ],
      "execution_count": 371,
      "outputs": [
        {
          "output_type": "execute_result",
          "data": {
            "text/plain": [
              "<matplotlib.axes._subplots.AxesSubplot at 0x7f624b5a9f60>"
            ]
          },
          "metadata": {
            "tags": []
          },
          "execution_count": 371
        },
        {
          "output_type": "display_data",
          "data": {
            "image/png": "[encoded data removed]",
            "text/plain": [
              "<Figure size 432x288 with 1 Axes>"
            ]
          },
          "metadata": {
            "tags": [],
            "needs_background": "light"
          }
        }
      ]
    },
    {
      "cell_type": "code",
      "metadata": {
        "id": "a9kPPmqco_bX"
      },
      "source": [
        "corr = rets[['FB','AMZN', 'AAPL', 'NFLX', 'GOOG', 'TSLA']].corr()"
      ],
      "execution_count": 374,
      "outputs": []
    },
    {
      "cell_type": "code",
      "metadata": {
        "id": "I7iXoecApLIn",
        "outputId": "e8e8dcb4-55d1-4bc8-878d-2e746e288da2",
        "colab": {
          "base_uri": "https://localhost:8080/",
          "height": 266
        }
      },
      "source": [
        "corr"
      ],
      "execution_count": 375,
      "outputs": [
        {
          "output_type": "execute_result",
          "data": {
            "text/html": [
              "<div>\n",
              "<style scoped>\n",
              "    .dataframe tbody tr th:only-of-type {\n",
              "        vertical-align: middle;\n",
              "    }\n",
              "\n",
              "    .dataframe tbody tr th {\n",
              "        vertical-align: top;\n",
              "    }\n",
              "\n",
              "    .dataframe thead th {\n",
              "        text-align: right;\n",
              "    }\n",
              "</style>\n",
              "<table border=\"1\" class=\"dataframe\">\n",
              "  <thead>\n",
              "    <tr style=\"text-align: right;\">\n",
              "      <th>Symbols</th>\n",
              "      <th>FB</th>\n",
              "      <th>AMZN</th>\n",
              "      <th>AAPL</th>\n",
              "      <th>NFLX</th>\n",
              "      <th>GOOG</th>\n",
              "      <th>TSLA</th>\n",
              "    </tr>\n",
              "    <tr>\n",
              "      <th>Symbols</th>\n",
              "      <th></th>\n",
              "      <th></th>\n",
              "      <th></th>\n",
              "      <th></th>\n",
              "      <th></th>\n",
              "      <th></th>\n",
              "    </tr>\n",
              "  </thead>\n",
              "  <tbody>\n",
              "    <tr>\n",
              "      <th>FB</th>\n",
              "      <td>1.000000</td>\n",
              "      <td>0.621334</td>\n",
              "      <td>0.565465</td>\n",
              "      <td>0.465360</td>\n",
              "      <td>0.693771</td>\n",
              "      <td>0.328210</td>\n",
              "    </tr>\n",
              "    <tr>\n",
              "      <th>AMZN</th>\n",
              "      <td>0.621334</td>\n",
              "      <td>1.000000</td>\n",
              "      <td>0.575428</td>\n",
              "      <td>0.567682</td>\n",
              "      <td>0.683078</td>\n",
              "      <td>0.369420</td>\n",
              "    </tr>\n",
              "    <tr>\n",
              "      <th>AAPL</th>\n",
              "      <td>0.565465</td>\n",
              "      <td>0.575428</td>\n",
              "      <td>1.000000</td>\n",
              "      <td>0.440692</td>\n",
              "      <td>0.654941</td>\n",
              "      <td>0.385310</td>\n",
              "    </tr>\n",
              "    <tr>\n",
              "      <th>NFLX</th>\n",
              "      <td>0.465360</td>\n",
              "      <td>0.567682</td>\n",
              "      <td>0.440692</td>\n",
              "      <td>1.000000</td>\n",
              "      <td>0.526886</td>\n",
              "      <td>0.325170</td>\n",
              "    </tr>\n",
              "    <tr>\n",
              "      <th>GOOG</th>\n",
              "      <td>0.693771</td>\n",
              "      <td>0.683078</td>\n",
              "      <td>0.654941</td>\n",
              "      <td>0.526886</td>\n",
              "      <td>1.000000</td>\n",
              "      <td>0.374856</td>\n",
              "    </tr>\n",
              "    <tr>\n",
              "      <th>TSLA</th>\n",
              "      <td>0.328210</td>\n",
              "      <td>0.369420</td>\n",
              "      <td>0.385310</td>\n",
              "      <td>0.325170</td>\n",
              "      <td>0.374856</td>\n",
              "      <td>1.000000</td>\n",
              "    </tr>\n",
              "  </tbody>\n",
              "</table>\n",
              "</div>"
            ],
            "text/plain": [
              "Symbols        FB      AMZN      AAPL      NFLX      GOOG      TSLA\n",
              "Symbols                                                            \n",
              "FB       1.000000  0.621334  0.565465  0.465360  0.693771  0.328210\n",
              "AMZN     0.621334  1.000000  0.575428  0.567682  0.683078  0.369420\n",
              "AAPL     0.565465  0.575428  1.000000  0.440692  0.654941  0.385310\n",
              "NFLX     0.465360  0.567682  0.440692  1.000000  0.526886  0.325170\n",
              "GOOG     0.693771  0.683078  0.654941  0.526886  1.000000  0.374856\n",
              "TSLA     0.328210  0.369420  0.385310  0.325170  0.374856  1.000000"
            ]
          },
          "metadata": {
            "tags": []
          },
          "execution_count": 375
        }
      ]
    },
    {
      "cell_type": "code",
      "metadata": {
        "id": "C-Vdh9vrpMEX",
        "outputId": "bf203124-dac1-4eac-dc44-103c98a8be05",
        "colab": {
          "base_uri": "https://localhost:8080/",
          "height": 472
        }
      },
      "source": [
        "plt.imshow(corr, cmap='hot', interpolation='none')\n",
        "plt.colorbar()\n",
        "plt.xticks(range(len(corr)), corr.columns)\n",
        "plt.yticks(range(len(corr)), corr.columns)"
      ],
      "execution_count": 376,
      "outputs": [
        {
          "output_type": "execute_result",
          "data": {
            "text/plain": [
              "([<matplotlib.axis.YTick at 0x7f624b4ee048>,\n",
              "  <matplotlib.axis.YTick at 0x7f624b5496d8>,\n",
              "  <matplotlib.axis.YTick at 0x7f624b543f28>,\n",
              "  <matplotlib.axis.YTick at 0x7f624b4c59e8>,\n",
              "  <matplotlib.axis.YTick at 0x7f624b4c5e80>,\n",
              "  <matplotlib.axis.YTick at 0x7f624b4cd358>],\n",
              " [Text(0, 0, 'FB'),\n",
              "  Text(0, 0, 'AMZN'),\n",
              "  Text(0, 0, 'AAPL'),\n",
              "  Text(0, 0, 'NFLX'),\n",
              "  Text(0, 0, 'GOOG'),\n",
              "  Text(0, 0, 'TSLA')])"
            ]
          },
          "metadata": {
            "tags": []
          },
          "execution_count": 376
        },
        {
          "output_type": "display_data",
          "data": {
            "image/png": "[encoded data removed]",
            "text/plain": [
              "<Figure size 432x288 with 2 Axes>"
            ]
          },
          "metadata": {
            "tags": [],
            "needs_background": "light"
          }
        }
      ]
    },
    {
      "cell_type": "code",
      "metadata": {
        "id": "_JUz7pT1pi1R",
        "outputId": "e6285ea2-2383-49a9-e870-81c71ece2fdb",
        "colab": {
          "base_uri": "https://localhost:8080/",
          "height": 386
        }
      },
      "source": [
        "plt.figure(figsize=(6,6))\n",
        "plt.scatter(rets.mean(), rets.std())\n",
        "plt.xlabel('Expected returns')\n",
        "plt.ylabel('Risk')\n",
        "for label, x, y in zip(rets.columns, rets.mean(), rets.std()):\n",
        "    plt.annotate(\n",
        "        label, \n",
        "        xy = (x, y), xytext = (20, -20),\n",
        "        textcoords = 'offset points', ha = 'right', va = 'bottom',\n",
        "        bbox = dict(boxstyle = 'round,pad=0.5', fc = 'yellow', alpha = 0.5),\n",
        "        arrowprops = dict(arrowstyle = '->', connectionstyle = 'arc3,rad=0'))"
      ],
      "execution_count": 377,
      "outputs": [
        {
          "output_type": "display_data",
          "data": {
            "image/png": "[encoded data removed]",
            "text/plain": [
              "<Figure size 432x432 with 1 Axes>"
            ]
          },
          "metadata": {
            "tags": [],
            "needs_background": "light"
          }
        }
      ]
    },
    {
      "cell_type": "code",
      "metadata": {
        "id": "O0vGy9XkqN83"
      },
      "source": [
        "import pandas_datareader\n",
        "df = pandas_datareader.get_data_yahoo(['^TWII','2330.TW', '2454.TW', \n",
        "                    '2498.TW', '1101.TW', '1102.TW',\n",
        "                    '2881.TW', '2882.TW'], start = '2014-01-01')['Close']\n"
      ],
      "execution_count": 378,
      "outputs": []
    },
    {
      "cell_type": "code",
      "metadata": {
        "id": "3ASGB-oBqfGn"
      },
      "source": [
        "rets = df.pct_change(1)"
      ],
      "execution_count": 379,
      "outputs": []
    },
    {
      "cell_type": "code",
      "metadata": {
        "id": "At5sDTiOqh5W",
        "outputId": "d4448ecb-cedd-43fb-f0f5-0b74fb368cd1",
        "colab": {
          "base_uri": "https://localhost:8080/",
          "height": 604
        }
      },
      "source": [
        "plt.figure(figsize=(10,10))\n",
        "plt.scatter(rets.mean(), rets.std())\n",
        "plt.xlabel('Expected returns')\n",
        "plt.ylabel('Risk')\n",
        "\n",
        "for label, x, y in zip(rets.columns, rets.mean(), rets.std()):\n",
        "    plt.annotate(\n",
        "        label, \n",
        "        xy = (x, y), xytext = (20, -20),\n",
        "        textcoords = 'offset points', ha = 'right', va = 'bottom',\n",
        "        bbox = dict(boxstyle = 'round,pad=0.5', fc = 'yellow', alpha = 0.5),\n",
        "        arrowprops = dict(arrowstyle = '->', connectionstyle = 'arc3,rad=0'))"
      ],
      "execution_count": 381,
      "outputs": [
        {
          "output_type": "display_data",
          "data": {
            "image/png": "[encoded data removed]",
            "text/plain": [
              "<Figure size 720x720 with 1 Axes>"
            ]
          },
          "metadata": {
            "tags": [],
            "needs_background": "light"
          }
        }
      ]
    },
    {
      "cell_type": "markdown",
      "metadata": {
        "id": "g48N2PP3rWZp"
      },
      "source": [
        "### Practice\n",
        "- 繪製各產業薪資中位數的箱型圖"
      ]
    },
    {
      "cell_type": "code",
      "metadata": {
        "id": "-0CJh1KeqyYW",
        "outputId": "8f487b46-fa94-4f05-cdd1-1b50a6adc286",
        "colab": {
          "base_uri": "https://localhost:8080/",
          "height": 71
        }
      },
      "source": [
        "import requests\n",
        "payload = {\n",
        "'encodeURIComponent': '1',\n",
        "'step': '1',\n",
        "'firstin': '1',\n",
        "'TYPEK': 'sii',\n",
        "'RYEAR': '108'    \n",
        "}\n",
        "res = requests.post('https://mops.twse.com.tw/mops/web/ajax_t100sb15', data = payload, verify=False)\n",
        "dfs = pandas.read_html(res.text)"
      ],
      "execution_count": 382,
      "outputs": [
        {
          "output_type": "stream",
          "text": [
            "/usr/local/lib/python3.6/dist-packages/urllib3/connectionpool.py:847: InsecureRequestWarning: Unverified HTTPS request is being made. Adding certificate verification is strongly advised. See: https://urllib3.readthedocs.io/en/latest/advanced-usage.html#ssl-warnings\n",
            "  InsecureRequestWarning)\n"
          ],
          "name": "stderr"
        }
      ]
    },
    {
      "cell_type": "code",
      "metadata": {
        "id": "HQTIst_Kru1H",
        "outputId": "539b56ce-f6e9-44f1-bf74-c982883af019",
        "colab": {
          "base_uri": "https://localhost:8080/",
          "height": 550
        }
      },
      "source": [
        "dfs[0].head(1)"
      ],
      "execution_count": 383,
      "outputs": [
        {
          "output_type": "execute_result",
          "data": {
            "text/html": [
              "<div>\n",
              "<style scoped>\n",
              "    .dataframe tbody tr th:only-of-type {\n",
              "        vertical-align: middle;\n",
              "    }\n",
              "\n",
              "    .dataframe tbody tr th {\n",
              "        vertical-align: top;\n",
              "    }\n",
              "\n",
              "    .dataframe thead tr th {\n",
              "        text-align: left;\n",
              "    }\n",
              "</style>\n",
              "<table border=\"1\" class=\"dataframe\">\n",
              "  <thead>\n",
              "    <tr>\n",
              "      <th></th>\n",
              "      <th>產業類別</th>\n",
              "      <th>公司代號</th>\n",
              "      <th>公司名稱</th>\n",
              "      <th colspan=\"7\" halign=\"left\">非擔任主管職務之全時員工資訊</th>\n",
              "      <th colspan=\"2\" halign=\"left\">同業公司資訊</th>\n",
              "      <th colspan=\"4\" halign=\"left\">薪資統計情形</th>\n",
              "    </tr>\n",
              "    <tr>\n",
              "      <th></th>\n",
              "      <th>產業類別</th>\n",
              "      <th>公司代號</th>\n",
              "      <th>公司名稱</th>\n",
              "      <th>員工薪資總額(仟元)</th>\n",
              "      <th>員工人數-年度平均(人)</th>\n",
              "      <th colspan=\"2\" halign=\"left\">員工薪資-平均數(仟元/人)</th>\n",
              "      <th colspan=\"2\" halign=\"left\">員工薪資-中位數(仟元/人)</th>\n",
              "      <th>每股盈餘(元/股)</th>\n",
              "      <th>員工薪資-平均數(仟元/人)</th>\n",
              "      <th>平均每股盈餘(元/股)</th>\n",
              "      <th>非經理人之全時員工薪資平均數未達50萬元</th>\n",
              "      <th>公司EPS獲利表現較同業為佳，惟非經理人之全時員工薪資平均數低於同業水準</th>\n",
              "      <th>公司EPS較前一年度成長，惟非經理人之全時員工薪資平均數較前一年度減少</th>\n",
              "      <th>公司經營績效與員工薪酬之關聯性及合理性說明</th>\n",
              "    </tr>\n",
              "    <tr>\n",
              "      <th></th>\n",
              "      <th>產業類別</th>\n",
              "      <th>公司代號</th>\n",
              "      <th>公司名稱</th>\n",
              "      <th>員工薪資總額(仟元)</th>\n",
              "      <th>員工人數-年度平均(人)</th>\n",
              "      <th>108年</th>\n",
              "      <th>107年</th>\n",
              "      <th>108年</th>\n",
              "      <th>107年</th>\n",
              "      <th>每股盈餘(元/股)</th>\n",
              "      <th>員工薪資-平均數(仟元/人)</th>\n",
              "      <th>平均每股盈餘(元/股)</th>\n",
              "      <th>非經理人之全時員工薪資平均數未達50萬元</th>\n",
              "      <th>公司EPS獲利表現較同業為佳，惟非經理人之全時員工薪資平均數低於同業水準</th>\n",
              "      <th>公司EPS較前一年度成長，惟非經理人之全時員工薪資平均數較前一年度減少</th>\n",
              "      <th>公司經營績效與員工薪酬之關聯性及合理性說明</th>\n",
              "    </tr>\n",
              "  </thead>\n",
              "  <tbody>\n",
              "    <tr>\n",
              "      <th>0</th>\n",
              "      <td>水泥工業</td>\n",
              "      <td>1101</td>\n",
              "      <td>台泥</td>\n",
              "      <td>981532</td>\n",
              "      <td>965</td>\n",
              "      <td>1017</td>\n",
              "      <td>963.0</td>\n",
              "      <td>876</td>\n",
              "      <td>NaN</td>\n",
              "      <td>4.43</td>\n",
              "      <td>888</td>\n",
              "      <td>4.02</td>\n",
              "      <td>NaN</td>\n",
              "      <td>NaN</td>\n",
              "      <td>NaN</td>\n",
              "      <td>NaN</td>\n",
              "    </tr>\n",
              "  </tbody>\n",
              "</table>\n",
              "</div>"
            ],
            "text/plain": [
              "   產業類別  公司代號  ...                              薪資統計情形                      \n",
              "   產業類別  公司代號  ... 公司EPS較前一年度成長，惟非經理人之全時員工薪資平均數較前一年度減少 公司經營績效與員工薪酬之關聯性及合理性說明\n",
              "   產業類別  公司代號  ... 公司EPS較前一年度成長，惟非經理人之全時員工薪資平均數較前一年度減少 公司經營績效與員工薪酬之關聯性及合理性說明\n",
              "0  水泥工業  1101  ...                                 NaN                   NaN\n",
              "\n",
              "[1 rows x 16 columns]"
            ]
          },
          "metadata": {
            "tags": []
          },
          "execution_count": 383
        }
      ]
    },
    {
      "cell_type": "code",
      "metadata": {
        "id": "1aCPP8gVroIX",
        "outputId": "b5f6b4d1-8d8d-40e7-cad4-467bf2e4151f",
        "colab": {
          "base_uri": "https://localhost:8080/",
          "height": 204
        }
      },
      "source": [
        "df = dfs[0].iloc[:,[0,1,7]]\n",
        "df.columns = ['產業', '公司代號','中位數']\n",
        "df.head()"
      ],
      "execution_count": 385,
      "outputs": [
        {
          "output_type": "execute_result",
          "data": {
            "text/html": [
              "<div>\n",
              "<style scoped>\n",
              "    .dataframe tbody tr th:only-of-type {\n",
              "        vertical-align: middle;\n",
              "    }\n",
              "\n",
              "    .dataframe tbody tr th {\n",
              "        vertical-align: top;\n",
              "    }\n",
              "\n",
              "    .dataframe thead th {\n",
              "        text-align: right;\n",
              "    }\n",
              "</style>\n",
              "<table border=\"1\" class=\"dataframe\">\n",
              "  <thead>\n",
              "    <tr style=\"text-align: right;\">\n",
              "      <th></th>\n",
              "      <th>產業</th>\n",
              "      <th>公司代號</th>\n",
              "      <th>中位數</th>\n",
              "    </tr>\n",
              "  </thead>\n",
              "  <tbody>\n",
              "    <tr>\n",
              "      <th>0</th>\n",
              "      <td>水泥工業</td>\n",
              "      <td>1101</td>\n",
              "      <td>876</td>\n",
              "    </tr>\n",
              "    <tr>\n",
              "      <th>1</th>\n",
              "      <td>水泥工業</td>\n",
              "      <td>1102</td>\n",
              "      <td>1110</td>\n",
              "    </tr>\n",
              "    <tr>\n",
              "      <th>2</th>\n",
              "      <td>水泥工業</td>\n",
              "      <td>1103</td>\n",
              "      <td>1132</td>\n",
              "    </tr>\n",
              "    <tr>\n",
              "      <th>3</th>\n",
              "      <td>水泥工業</td>\n",
              "      <td>1104</td>\n",
              "      <td>722</td>\n",
              "    </tr>\n",
              "    <tr>\n",
              "      <th>4</th>\n",
              "      <td>水泥工業</td>\n",
              "      <td>1108</td>\n",
              "      <td>469</td>\n",
              "    </tr>\n",
              "  </tbody>\n",
              "</table>\n",
              "</div>"
            ],
            "text/plain": [
              "     產業  公司代號   中位數\n",
              "0  水泥工業  1101   876\n",
              "1  水泥工業  1102  1110\n",
              "2  水泥工業  1103  1132\n",
              "3  水泥工業  1104   722\n",
              "4  水泥工業  1108   469"
            ]
          },
          "metadata": {
            "tags": []
          },
          "execution_count": 385
        }
      ]
    },
    {
      "cell_type": "code",
      "metadata": {
        "id": "HKYsRZber21X"
      },
      "source": [
        ""
      ],
      "execution_count": null,
      "outputs": []
    }
  ]
}