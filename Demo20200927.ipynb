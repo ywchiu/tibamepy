{
  "nbformat": 4,
  "nbformat_minor": 0,
  "metadata": {
    "colab": {
      "name": "Demo20200927.ipynb",
      "provenance": [],
      "collapsed_sections": []
    },
    "kernelspec": {
      "name": "python3",
      "display_name": "Python 3"
    }
  },
  "cells": [
    {
      "cell_type": "markdown",
      "metadata": {
        "id": "cVxWbJ3FQPJ0"
      },
      "source": [
        "## Homework"
      ]
    },
    {
      "cell_type": "code",
      "metadata": {
        "id": "ZV9CjgA3M3jP"
      },
      "source": [
        "import pandas\n",
        "df = pandas.read_csv('https://raw.githubusercontent.com/ywchiu/esunpy/master/data/Churn_Modelling.csv')"
      ],
      "execution_count": 1,
      "outputs": []
    },
    {
      "cell_type": "code",
      "metadata": {
        "id": "cozELFOQOAZW",
        "outputId": "576a3762-e5bf-4115-8367-0f8a571ccc10",
        "colab": {
          "base_uri": "https://localhost:8080/",
          "height": 224
        }
      },
      "source": [
        "df.head()"
      ],
      "execution_count": 2,
      "outputs": [
        {
          "output_type": "execute_result",
          "data": {
            "text/html": [
              "<div>\n",
              "<style scoped>\n",
              "    .dataframe tbody tr th:only-of-type {\n",
              "        vertical-align: middle;\n",
              "    }\n",
              "\n",
              "    .dataframe tbody tr th {\n",
              "        vertical-align: top;\n",
              "    }\n",
              "\n",
              "    .dataframe thead th {\n",
              "        text-align: right;\n",
              "    }\n",
              "</style>\n",
              "<table border=\"1\" class=\"dataframe\">\n",
              "  <thead>\n",
              "    <tr style=\"text-align: right;\">\n",
              "      <th></th>\n",
              "      <th>RowNumber</th>\n",
              "      <th>CustomerId</th>\n",
              "      <th>Surname</th>\n",
              "      <th>CreditScore</th>\n",
              "      <th>Geography</th>\n",
              "      <th>Gender</th>\n",
              "      <th>Age</th>\n",
              "      <th>Tenure</th>\n",
              "      <th>Balance</th>\n",
              "      <th>NumOfProducts</th>\n",
              "      <th>HasCrCard</th>\n",
              "      <th>IsActiveMember</th>\n",
              "      <th>EstimatedSalary</th>\n",
              "      <th>Exited</th>\n",
              "    </tr>\n",
              "  </thead>\n",
              "  <tbody>\n",
              "    <tr>\n",
              "      <th>0</th>\n",
              "      <td>1</td>\n",
              "      <td>15634602</td>\n",
              "      <td>Hargrave</td>\n",
              "      <td>619</td>\n",
              "      <td>France</td>\n",
              "      <td>Female</td>\n",
              "      <td>42</td>\n",
              "      <td>2</td>\n",
              "      <td>0.00</td>\n",
              "      <td>1</td>\n",
              "      <td>1</td>\n",
              "      <td>1</td>\n",
              "      <td>101348.88</td>\n",
              "      <td>1</td>\n",
              "    </tr>\n",
              "    <tr>\n",
              "      <th>1</th>\n",
              "      <td>2</td>\n",
              "      <td>15647311</td>\n",
              "      <td>Hill</td>\n",
              "      <td>608</td>\n",
              "      <td>Spain</td>\n",
              "      <td>Female</td>\n",
              "      <td>41</td>\n",
              "      <td>1</td>\n",
              "      <td>83807.86</td>\n",
              "      <td>1</td>\n",
              "      <td>0</td>\n",
              "      <td>1</td>\n",
              "      <td>112542.58</td>\n",
              "      <td>0</td>\n",
              "    </tr>\n",
              "    <tr>\n",
              "      <th>2</th>\n",
              "      <td>3</td>\n",
              "      <td>15619304</td>\n",
              "      <td>Onio</td>\n",
              "      <td>502</td>\n",
              "      <td>France</td>\n",
              "      <td>Female</td>\n",
              "      <td>42</td>\n",
              "      <td>8</td>\n",
              "      <td>159660.80</td>\n",
              "      <td>3</td>\n",
              "      <td>1</td>\n",
              "      <td>0</td>\n",
              "      <td>113931.57</td>\n",
              "      <td>1</td>\n",
              "    </tr>\n",
              "    <tr>\n",
              "      <th>3</th>\n",
              "      <td>4</td>\n",
              "      <td>15701354</td>\n",
              "      <td>Boni</td>\n",
              "      <td>699</td>\n",
              "      <td>France</td>\n",
              "      <td>Female</td>\n",
              "      <td>39</td>\n",
              "      <td>1</td>\n",
              "      <td>0.00</td>\n",
              "      <td>2</td>\n",
              "      <td>0</td>\n",
              "      <td>0</td>\n",
              "      <td>93826.63</td>\n",
              "      <td>0</td>\n",
              "    </tr>\n",
              "    <tr>\n",
              "      <th>4</th>\n",
              "      <td>5</td>\n",
              "      <td>15737888</td>\n",
              "      <td>Mitchell</td>\n",
              "      <td>850</td>\n",
              "      <td>Spain</td>\n",
              "      <td>Female</td>\n",
              "      <td>43</td>\n",
              "      <td>2</td>\n",
              "      <td>125510.82</td>\n",
              "      <td>1</td>\n",
              "      <td>1</td>\n",
              "      <td>1</td>\n",
              "      <td>79084.10</td>\n",
              "      <td>0</td>\n",
              "    </tr>\n",
              "  </tbody>\n",
              "</table>\n",
              "</div>"
            ],
            "text/plain": [
              "   RowNumber  CustomerId   Surname  ...  IsActiveMember EstimatedSalary Exited\n",
              "0          1    15634602  Hargrave  ...               1       101348.88      1\n",
              "1          2    15647311      Hill  ...               1       112542.58      0\n",
              "2          3    15619304      Onio  ...               0       113931.57      1\n",
              "3          4    15701354      Boni  ...               0        93826.63      0\n",
              "4          5    15737888  Mitchell  ...               1        79084.10      0\n",
              "\n",
              "[5 rows x 14 columns]"
            ]
          },
          "metadata": {
            "tags": []
          },
          "execution_count": 2
        }
      ]
    },
    {
      "cell_type": "code",
      "metadata": {
        "id": "LQlTcB7POBTk",
        "outputId": "d7853b23-5949-414f-8d1a-ac70c9e9d051",
        "colab": {
          "base_uri": "https://localhost:8080/",
          "height": 224
        }
      },
      "source": [
        "! wget https://raw.githubusercontent.com/ywchiu/esunpy/master/data/Churn_Modelling.csv"
      ],
      "execution_count": 3,
      "outputs": [
        {
          "output_type": "stream",
          "text": [
            "--2020-09-27 01:41:48--  https://raw.githubusercontent.com/ywchiu/esunpy/master/data/Churn_Modelling.csv\n",
            "Resolving raw.githubusercontent.com (raw.githubusercontent.com)... 151.101.0.133, 151.101.64.133, 151.101.128.133, ...\n",
            "Connecting to raw.githubusercontent.com (raw.githubusercontent.com)|151.101.0.133|:443... connected.\n",
            "HTTP request sent, awaiting response... 200 OK\n",
            "Length: 674857 (659K) [text/plain]\n",
            "Saving to: ‘Churn_Modelling.csv’\n",
            "\n",
            "\rChurn_Modelling.csv   0%[                    ]       0  --.-KB/s               \rChurn_Modelling.csv 100%[===================>] 659.04K  --.-KB/s    in 0.06s   \n",
            "\n",
            "2020-09-27 01:41:48 (10.4 MB/s) - ‘Churn_Modelling.csv’ saved [674857/674857]\n",
            "\n"
          ],
          "name": "stdout"
        }
      ]
    },
    {
      "cell_type": "code",
      "metadata": {
        "id": "W4ubrWanOSTU"
      },
      "source": [
        "df = pandas.read_csv('Churn_Modelling.csv')"
      ],
      "execution_count": 5,
      "outputs": []
    },
    {
      "cell_type": "code",
      "metadata": {
        "id": "gw_sPM0DOcnz",
        "outputId": "7d6d1eaf-d8e6-45a0-9163-b9774e536df3",
        "colab": {
          "base_uri": "https://localhost:8080/",
          "height": 224
        }
      },
      "source": [
        "df.head()"
      ],
      "execution_count": 6,
      "outputs": [
        {
          "output_type": "execute_result",
          "data": {
            "text/html": [
              "<div>\n",
              "<style scoped>\n",
              "    .dataframe tbody tr th:only-of-type {\n",
              "        vertical-align: middle;\n",
              "    }\n",
              "\n",
              "    .dataframe tbody tr th {\n",
              "        vertical-align: top;\n",
              "    }\n",
              "\n",
              "    .dataframe thead th {\n",
              "        text-align: right;\n",
              "    }\n",
              "</style>\n",
              "<table border=\"1\" class=\"dataframe\">\n",
              "  <thead>\n",
              "    <tr style=\"text-align: right;\">\n",
              "      <th></th>\n",
              "      <th>RowNumber</th>\n",
              "      <th>CustomerId</th>\n",
              "      <th>Surname</th>\n",
              "      <th>CreditScore</th>\n",
              "      <th>Geography</th>\n",
              "      <th>Gender</th>\n",
              "      <th>Age</th>\n",
              "      <th>Tenure</th>\n",
              "      <th>Balance</th>\n",
              "      <th>NumOfProducts</th>\n",
              "      <th>HasCrCard</th>\n",
              "      <th>IsActiveMember</th>\n",
              "      <th>EstimatedSalary</th>\n",
              "      <th>Exited</th>\n",
              "    </tr>\n",
              "  </thead>\n",
              "  <tbody>\n",
              "    <tr>\n",
              "      <th>0</th>\n",
              "      <td>1</td>\n",
              "      <td>15634602</td>\n",
              "      <td>Hargrave</td>\n",
              "      <td>619</td>\n",
              "      <td>France</td>\n",
              "      <td>Female</td>\n",
              "      <td>42</td>\n",
              "      <td>2</td>\n",
              "      <td>0.00</td>\n",
              "      <td>1</td>\n",
              "      <td>1</td>\n",
              "      <td>1</td>\n",
              "      <td>101348.88</td>\n",
              "      <td>1</td>\n",
              "    </tr>\n",
              "    <tr>\n",
              "      <th>1</th>\n",
              "      <td>2</td>\n",
              "      <td>15647311</td>\n",
              "      <td>Hill</td>\n",
              "      <td>608</td>\n",
              "      <td>Spain</td>\n",
              "      <td>Female</td>\n",
              "      <td>41</td>\n",
              "      <td>1</td>\n",
              "      <td>83807.86</td>\n",
              "      <td>1</td>\n",
              "      <td>0</td>\n",
              "      <td>1</td>\n",
              "      <td>112542.58</td>\n",
              "      <td>0</td>\n",
              "    </tr>\n",
              "    <tr>\n",
              "      <th>2</th>\n",
              "      <td>3</td>\n",
              "      <td>15619304</td>\n",
              "      <td>Onio</td>\n",
              "      <td>502</td>\n",
              "      <td>France</td>\n",
              "      <td>Female</td>\n",
              "      <td>42</td>\n",
              "      <td>8</td>\n",
              "      <td>159660.80</td>\n",
              "      <td>3</td>\n",
              "      <td>1</td>\n",
              "      <td>0</td>\n",
              "      <td>113931.57</td>\n",
              "      <td>1</td>\n",
              "    </tr>\n",
              "    <tr>\n",
              "      <th>3</th>\n",
              "      <td>4</td>\n",
              "      <td>15701354</td>\n",
              "      <td>Boni</td>\n",
              "      <td>699</td>\n",
              "      <td>France</td>\n",
              "      <td>Female</td>\n",
              "      <td>39</td>\n",
              "      <td>1</td>\n",
              "      <td>0.00</td>\n",
              "      <td>2</td>\n",
              "      <td>0</td>\n",
              "      <td>0</td>\n",
              "      <td>93826.63</td>\n",
              "      <td>0</td>\n",
              "    </tr>\n",
              "    <tr>\n",
              "      <th>4</th>\n",
              "      <td>5</td>\n",
              "      <td>15737888</td>\n",
              "      <td>Mitchell</td>\n",
              "      <td>850</td>\n",
              "      <td>Spain</td>\n",
              "      <td>Female</td>\n",
              "      <td>43</td>\n",
              "      <td>2</td>\n",
              "      <td>125510.82</td>\n",
              "      <td>1</td>\n",
              "      <td>1</td>\n",
              "      <td>1</td>\n",
              "      <td>79084.10</td>\n",
              "      <td>0</td>\n",
              "    </tr>\n",
              "  </tbody>\n",
              "</table>\n",
              "</div>"
            ],
            "text/plain": [
              "   RowNumber  CustomerId   Surname  ...  IsActiveMember EstimatedSalary Exited\n",
              "0          1    15634602  Hargrave  ...               1       101348.88      1\n",
              "1          2    15647311      Hill  ...               1       112542.58      0\n",
              "2          3    15619304      Onio  ...               0       113931.57      1\n",
              "3          4    15701354      Boni  ...               0        93826.63      0\n",
              "4          5    15737888  Mitchell  ...               1        79084.10      0\n",
              "\n",
              "[5 rows x 14 columns]"
            ]
          },
          "metadata": {
            "tags": []
          },
          "execution_count": 6
        }
      ]
    },
    {
      "cell_type": "code",
      "metadata": {
        "id": "X4lmZm9TOiek",
        "outputId": "bb8c8bab-d738-4d1e-e688-a7acce3402d9",
        "colab": {
          "base_uri": "https://localhost:8080/",
          "height": 85
        }
      },
      "source": [
        "## select gender, avg(estimatedsalary) from df group by gender\n",
        "df.groupby('Gender')['EstimatedSalary'].mean()"
      ],
      "execution_count": 7,
      "outputs": [
        {
          "output_type": "execute_result",
          "data": {
            "text/plain": [
              "Gender\n",
              "Female    100601.541382\n",
              "Male       99664.576931\n",
              "Name: EstimatedSalary, dtype: float64"
            ]
          },
          "metadata": {
            "tags": []
          },
          "execution_count": 7
        }
      ]
    },
    {
      "cell_type": "code",
      "metadata": {
        "id": "66JKtbJ1PILD",
        "outputId": "797b4ce3-31da-4b98-fed7-d513e597b0ec",
        "colab": {
          "base_uri": "https://localhost:8080/",
          "height": 153
        }
      },
      "source": [
        "df.groupby(['Geography','Gender'])['EstimatedSalary'].mean()"
      ],
      "execution_count": 8,
      "outputs": [
        {
          "output_type": "execute_result",
          "data": {
            "text/plain": [
              "Geography  Gender\n",
              "France     Female     99564.252755\n",
              "           Male      100174.252495\n",
              "Germany    Female    102446.424124\n",
              "           Male       99905.033959\n",
              "Spain      Female    100734.107475\n",
              "           Male       98425.687680\n",
              "Name: EstimatedSalary, dtype: float64"
            ]
          },
          "metadata": {
            "tags": []
          },
          "execution_count": 8
        }
      ]
    },
    {
      "cell_type": "markdown",
      "metadata": {
        "id": "YNwZWWFPQL9U"
      },
      "source": [
        "## Panndas IO"
      ]
    },
    {
      "cell_type": "code",
      "metadata": {
        "id": "IrsD05YRPSsD"
      },
      "source": [
        "# csv: Comma-Separated Values 逗號分隔值\n",
        "import pandas\n",
        "df = pandas.read_csv('https://raw.githubusercontent.com/ywchiu/tibamepy/master/data/rent_591_sample.csv')"
      ],
      "execution_count": 9,
      "outputs": []
    },
    {
      "cell_type": "code",
      "metadata": {
        "id": "zy5oC8ZQRJA0",
        "outputId": "207fa0f3-52be-4d41-97dc-1493779d7c9d",
        "colab": {
          "base_uri": "https://localhost:8080/",
          "height": 204
        }
      },
      "source": [
        "df.head()"
      ],
      "execution_count": 10,
      "outputs": [
        {
          "output_type": "execute_result",
          "data": {
            "text/html": [
              "<div>\n",
              "<style scoped>\n",
              "    .dataframe tbody tr th:only-of-type {\n",
              "        vertical-align: middle;\n",
              "    }\n",
              "\n",
              "    .dataframe tbody tr th {\n",
              "        vertical-align: top;\n",
              "    }\n",
              "\n",
              "    .dataframe thead th {\n",
              "        text-align: right;\n",
              "    }\n",
              "</style>\n",
              "<table border=\"1\" class=\"dataframe\">\n",
              "  <thead>\n",
              "    <tr style=\"text-align: right;\">\n",
              "      <th></th>\n",
              "      <th>Unnamed: 0</th>\n",
              "      <th>id</th>\n",
              "      <th>address</th>\n",
              "      <th>floor</th>\n",
              "      <th>allfloor</th>\n",
              "      <th>layout</th>\n",
              "      <th>area</th>\n",
              "      <th>price</th>\n",
              "      <th>browsenum_all</th>\n",
              "    </tr>\n",
              "  </thead>\n",
              "  <tbody>\n",
              "    <tr>\n",
              "      <th>0</th>\n",
              "      <td>0</td>\n",
              "      <td>6032971</td>\n",
              "      <td>永康街47巷永康街五樓頂加..</td>\n",
              "      <td>5</td>\n",
              "      <td>5</td>\n",
              "      <td>5房3廳3衛</td>\n",
              "      <td>46.8</td>\n",
              "      <td>60,000</td>\n",
              "      <td>751</td>\n",
              "    </tr>\n",
              "    <tr>\n",
              "      <th>1</th>\n",
              "      <td>1</td>\n",
              "      <td>6054083</td>\n",
              "      <td>仁愛路四段仁愛路樹海景觀..</td>\n",
              "      <td>7</td>\n",
              "      <td>12</td>\n",
              "      <td>4房2廳2衛</td>\n",
              "      <td>76.9</td>\n",
              "      <td>100,000</td>\n",
              "      <td>162</td>\n",
              "    </tr>\n",
              "    <tr>\n",
              "      <th>2</th>\n",
              "      <td>2</td>\n",
              "      <td>5957980</td>\n",
              "      <td>光復南路高樓層大巨蛋正對..</td>\n",
              "      <td>10</td>\n",
              "      <td>13</td>\n",
              "      <td>4房2廳2衛</td>\n",
              "      <td>71.3</td>\n",
              "      <td>150,000</td>\n",
              "      <td>2385</td>\n",
              "    </tr>\n",
              "    <tr>\n",
              "      <th>3</th>\n",
              "      <td>3</td>\n",
              "      <td>6043839</td>\n",
              "      <td>永康街23巷永康商圈..</td>\n",
              "      <td>3</td>\n",
              "      <td>4</td>\n",
              "      <td>2房1廳1衛</td>\n",
              "      <td>18.0</td>\n",
              "      <td>29,000</td>\n",
              "      <td>1323</td>\n",
              "    </tr>\n",
              "    <tr>\n",
              "      <th>4</th>\n",
              "      <td>4</td>\n",
              "      <td>5181793</td>\n",
              "      <td>雲和街師大*已收訂..</td>\n",
              "      <td>5</td>\n",
              "      <td>5</td>\n",
              "      <td>2房2廳1衛</td>\n",
              "      <td>28.0</td>\n",
              "      <td>31,800</td>\n",
              "      <td>2303</td>\n",
              "    </tr>\n",
              "  </tbody>\n",
              "</table>\n",
              "</div>"
            ],
            "text/plain": [
              "   Unnamed: 0       id          address  ...  area    price browsenum_all\n",
              "0           0  6032971  永康街47巷永康街五樓頂加..  ...  46.8   60,000           751\n",
              "1           1  6054083   仁愛路四段仁愛路樹海景觀..  ...  76.9  100,000           162\n",
              "2           2  5957980   光復南路高樓層大巨蛋正對..  ...  71.3  150,000          2385\n",
              "3           3  6043839     永康街23巷永康商圈..  ...  18.0   29,000          1323\n",
              "4           4  5181793      雲和街師大*已收訂..  ...  28.0   31,800          2303\n",
              "\n",
              "[5 rows x 9 columns]"
            ]
          },
          "metadata": {
            "tags": []
          },
          "execution_count": 10
        }
      ]
    },
    {
      "cell_type": "code",
      "metadata": {
        "id": "HbOS3n6RRJzU"
      },
      "source": [
        "# tab\n",
        "import pandas\n",
        "df = pandas.read_csv('https://raw.githubusercontent.com/ywchiu/tibamepy/master/data/purchase_order.tab', \n",
        "            sep='\\t', header=None, names = ['dt', 'action', 'uid', 'pid', 'quantity', 'price'])"
      ],
      "execution_count": 17,
      "outputs": []
    },
    {
      "cell_type": "code",
      "metadata": {
        "id": "UvK0jZWnRhOW",
        "outputId": "3f63e305-bd26-4c06-8a44-ea4d17c5d5f4",
        "colab": {
          "base_uri": "https://localhost:8080/",
          "height": 204
        }
      },
      "source": [
        "df.head()"
      ],
      "execution_count": 18,
      "outputs": [
        {
          "output_type": "execute_result",
          "data": {
            "text/html": [
              "<div>\n",
              "<style scoped>\n",
              "    .dataframe tbody tr th:only-of-type {\n",
              "        vertical-align: middle;\n",
              "    }\n",
              "\n",
              "    .dataframe tbody tr th {\n",
              "        vertical-align: top;\n",
              "    }\n",
              "\n",
              "    .dataframe thead th {\n",
              "        text-align: right;\n",
              "    }\n",
              "</style>\n",
              "<table border=\"1\" class=\"dataframe\">\n",
              "  <thead>\n",
              "    <tr style=\"text-align: right;\">\n",
              "      <th></th>\n",
              "      <th>dt</th>\n",
              "      <th>action</th>\n",
              "      <th>uid</th>\n",
              "      <th>pid</th>\n",
              "      <th>quantity</th>\n",
              "      <th>price</th>\n",
              "    </tr>\n",
              "  </thead>\n",
              "  <tbody>\n",
              "    <tr>\n",
              "      <th>0</th>\n",
              "      <td>2015-07-01 00:00:01</td>\n",
              "      <td>order</td>\n",
              "      <td>U312622727</td>\n",
              "      <td>P0006944501</td>\n",
              "      <td>1</td>\n",
              "      <td>1069.0</td>\n",
              "    </tr>\n",
              "    <tr>\n",
              "      <th>1</th>\n",
              "      <td>2015-07-01 00:00:03</td>\n",
              "      <td>order</td>\n",
              "      <td>U239012343</td>\n",
              "      <td>P0006018073</td>\n",
              "      <td>1</td>\n",
              "      <td>1680.0</td>\n",
              "    </tr>\n",
              "    <tr>\n",
              "      <th>2</th>\n",
              "      <td>2015-07-01 00:00:19</td>\n",
              "      <td>order</td>\n",
              "      <td>U10007697373</td>\n",
              "      <td>P0002267974</td>\n",
              "      <td>1</td>\n",
              "      <td>285.0</td>\n",
              "    </tr>\n",
              "    <tr>\n",
              "      <th>3</th>\n",
              "      <td>2015-07-01 00:01:10</td>\n",
              "      <td>order</td>\n",
              "      <td>U296328517</td>\n",
              "      <td>P0016144236</td>\n",
              "      <td>1</td>\n",
              "      <td>550.0</td>\n",
              "    </tr>\n",
              "    <tr>\n",
              "      <th>4</th>\n",
              "      <td>2015-07-01 00:01:36</td>\n",
              "      <td>order</td>\n",
              "      <td>U300884570</td>\n",
              "      <td>P0014516980122</td>\n",
              "      <td>1</td>\n",
              "      <td>249.0</td>\n",
              "    </tr>\n",
              "  </tbody>\n",
              "</table>\n",
              "</div>"
            ],
            "text/plain": [
              "                    dt action           uid             pid  quantity   price\n",
              "0  2015-07-01 00:00:01  order    U312622727     P0006944501         1  1069.0\n",
              "1  2015-07-01 00:00:03  order    U239012343     P0006018073         1  1680.0\n",
              "2  2015-07-01 00:00:19  order  U10007697373     P0002267974         1   285.0\n",
              "3  2015-07-01 00:01:10  order    U296328517     P0016144236         1   550.0\n",
              "4  2015-07-01 00:01:36  order    U300884570  P0014516980122         1   249.0"
            ]
          },
          "metadata": {
            "tags": []
          },
          "execution_count": 18
        }
      ]
    },
    {
      "cell_type": "code",
      "metadata": {
        "id": "o_7Cd5O1Rk5S"
      },
      "source": [
        "#df = pandas.read_clipboard()"
      ],
      "execution_count": 20,
      "outputs": []
    },
    {
      "cell_type": "code",
      "metadata": {
        "id": "-AFjGRPTSVvF"
      },
      "source": [
        "df.to_csv('test.csv')"
      ],
      "execution_count": 22,
      "outputs": []
    },
    {
      "cell_type": "code",
      "metadata": {
        "id": "ecCA2xvHSlPT"
      },
      "source": [
        "df.to_excel('test.xlsx')"
      ],
      "execution_count": 23,
      "outputs": []
    },
    {
      "cell_type": "code",
      "metadata": {
        "id": "aQLzF3iAS0oz",
        "outputId": "42380cdf-c4a0-43de-ae2e-5dfceda9caf9",
        "colab": {
          "base_uri": "https://localhost:8080/",
          "height": 103
        }
      },
      "source": [
        "df.head().to_json()"
      ],
      "execution_count": 26,
      "outputs": [
        {
          "output_type": "execute_result",
          "data": {
            "application/vnd.google.colaboratory.intrinsic+json": {
              "type": "string"
            },
            "text/plain": [
              "'{\"dt\":{\"0\":\"2015-07-01 00:00:01\",\"1\":\"2015-07-01 00:00:03\",\"2\":\"2015-07-01 00:00:19\",\"3\":\"2015-07-01 00:01:10\",\"4\":\"2015-07-01 00:01:36\"},\"action\":{\"0\":\"order\",\"1\":\"order\",\"2\":\"order\",\"3\":\"order\",\"4\":\"order\"},\"uid\":{\"0\":\"U312622727\",\"1\":\"U239012343\",\"2\":\"U10007697373\",\"3\":\"U296328517\",\"4\":\"U300884570\"},\"pid\":{\"0\":\"P0006944501\",\"1\":\"P0006018073\",\"2\":\"P0002267974\",\"3\":\"P0016144236\",\"4\":\"P0014516980122\"},\"quantity\":{\"0\":1,\"1\":1,\"2\":1,\"3\":1,\"4\":1},\"price\":{\"0\":1069.0,\"1\":1680.0,\"2\":285.0,\"3\":550.0,\"4\":249.0}}'"
            ]
          },
          "metadata": {
            "tags": []
          },
          "execution_count": 26
        }
      ]
    },
    {
      "cell_type": "code",
      "metadata": {
        "id": "MHj0kuZRS7uj",
        "outputId": "ac4ee8df-3479-4803-80d6-4bc7817168ad",
        "colab": {
          "base_uri": "https://localhost:8080/",
          "height": 54
        }
      },
      "source": [
        "import json\n",
        "json.loads(df.head().T.to_json()).values()"
      ],
      "execution_count": 34,
      "outputs": [
        {
          "output_type": "execute_result",
          "data": {
            "text/plain": [
              "dict_values([{'dt': '2015-07-01 00:00:01', 'action': 'order', 'uid': 'U312622727', 'pid': 'P0006944501', 'quantity': 1, 'price': 1069.0}, {'dt': '2015-07-01 00:00:03', 'action': 'order', 'uid': 'U239012343', 'pid': 'P0006018073', 'quantity': 1, 'price': 1680.0}, {'dt': '2015-07-01 00:00:19', 'action': 'order', 'uid': 'U10007697373', 'pid': 'P0002267974', 'quantity': 1, 'price': 285.0}, {'dt': '2015-07-01 00:01:10', 'action': 'order', 'uid': 'U296328517', 'pid': 'P0016144236', 'quantity': 1, 'price': 550.0}, {'dt': '2015-07-01 00:01:36', 'action': 'order', 'uid': 'U300884570', 'pid': 'P0014516980122', 'quantity': 1, 'price': 249.0}])"
            ]
          },
          "metadata": {
            "tags": []
          },
          "execution_count": 34
        }
      ]
    },
    {
      "cell_type": "code",
      "metadata": {
        "id": "Jg5GNmNkTG4j",
        "outputId": "4b7163ae-0496-426c-ca74-8df545bc067e",
        "colab": {
          "base_uri": "https://localhost:8080/",
          "height": 527
        }
      },
      "source": [
        "df.head().T.to_dict()"
      ],
      "execution_count": 37,
      "outputs": [
        {
          "output_type": "execute_result",
          "data": {
            "text/plain": [
              "{0: {'action': 'order',\n",
              "  'dt': '2015-07-01 00:00:01',\n",
              "  'pid': 'P0006944501',\n",
              "  'price': 1069.0,\n",
              "  'quantity': 1,\n",
              "  'uid': 'U312622727'},\n",
              " 1: {'action': 'order',\n",
              "  'dt': '2015-07-01 00:00:03',\n",
              "  'pid': 'P0006018073',\n",
              "  'price': 1680.0,\n",
              "  'quantity': 1,\n",
              "  'uid': 'U239012343'},\n",
              " 2: {'action': 'order',\n",
              "  'dt': '2015-07-01 00:00:19',\n",
              "  'pid': 'P0002267974',\n",
              "  'price': 285.0,\n",
              "  'quantity': 1,\n",
              "  'uid': 'U10007697373'},\n",
              " 3: {'action': 'order',\n",
              "  'dt': '2015-07-01 00:01:10',\n",
              "  'pid': 'P0016144236',\n",
              "  'price': 550.0,\n",
              "  'quantity': 1,\n",
              "  'uid': 'U296328517'},\n",
              " 4: {'action': 'order',\n",
              "  'dt': '2015-07-01 00:01:36',\n",
              "  'pid': 'P0014516980122',\n",
              "  'price': 249.0,\n",
              "  'quantity': 1,\n",
              "  'uid': 'U300884570'}}"
            ]
          },
          "metadata": {
            "tags": []
          },
          "execution_count": 37
        }
      ]
    },
    {
      "cell_type": "markdown",
      "metadata": {
        "id": "6-BEvDjdUE3W"
      },
      "source": [
        "HTML TABLE"
      ]
    },
    {
      "cell_type": "markdown",
      "metadata": {
        "id": "4Yx05qvUUG8u"
      },
      "source": [
        "<table>\n",
        "  <thead>\n",
        "    <tr><th>c1</th> <th>c2</th></tr>\n",
        "  </thead>\n",
        "  <tbody>\n",
        "    <tr><td>v1</td> <td>v2</td></tr>\n",
        "    <tr><td>v3</td> <td>v4</td></tr>\n",
        "  </tbody>\n",
        "</table>"
      ]
    },
    {
      "cell_type": "code",
      "metadata": {
        "id": "Xl-MtYu0T5Q4",
        "outputId": "474793b4-931f-49f5-9ebb-ac7c9615cf9e",
        "colab": {
          "base_uri": "https://localhost:8080/",
          "height": 68
        }
      },
      "source": [
        "from bs4 import BeautifulSoup\n",
        "table = '''\n",
        "<table>\n",
        "  <thead>\n",
        "    <tr><th>c1</th> <th>c2</th></tr>\n",
        "  </thead>\n",
        "  <tbody>\n",
        "    <tr><td>v1</td> <td>v2</td></tr>\n",
        "    <tr><td>v3</td> <td>v4</td></tr>\n",
        "  </tbody>\n",
        "</table>\n",
        "'''\n",
        "soup = BeautifulSoup(table, 'lxml')\n",
        "for tr in soup.select('tr'):\n",
        "  print(tr.select('td'))"
      ],
      "execution_count": 39,
      "outputs": [
        {
          "output_type": "stream",
          "text": [
            "[]\n",
            "[<td>v1</td>, <td>v2</td>]\n",
            "[<td>v3</td>, <td>v4</td>]\n"
          ],
          "name": "stdout"
        }
      ]
    },
    {
      "cell_type": "code",
      "metadata": {
        "id": "IkxRppAIUxv2",
        "outputId": "1b99b7e1-be0d-4087-b772-a16231910e8d",
        "colab": {
          "base_uri": "https://localhost:8080/",
          "height": 111
        }
      },
      "source": [
        "dfs = pandas.read_html(table)\n",
        "type(dfs)\n",
        "len(dfs)\n",
        "dfs[0]"
      ],
      "execution_count": 45,
      "outputs": [
        {
          "output_type": "execute_result",
          "data": {
            "text/html": [
              "<div>\n",
              "<style scoped>\n",
              "    .dataframe tbody tr th:only-of-type {\n",
              "        vertical-align: middle;\n",
              "    }\n",
              "\n",
              "    .dataframe tbody tr th {\n",
              "        vertical-align: top;\n",
              "    }\n",
              "\n",
              "    .dataframe thead th {\n",
              "        text-align: right;\n",
              "    }\n",
              "</style>\n",
              "<table border=\"1\" class=\"dataframe\">\n",
              "  <thead>\n",
              "    <tr style=\"text-align: right;\">\n",
              "      <th></th>\n",
              "      <th>c1</th>\n",
              "      <th>c2</th>\n",
              "    </tr>\n",
              "  </thead>\n",
              "  <tbody>\n",
              "    <tr>\n",
              "      <th>0</th>\n",
              "      <td>v1</td>\n",
              "      <td>v2</td>\n",
              "    </tr>\n",
              "    <tr>\n",
              "      <th>1</th>\n",
              "      <td>v3</td>\n",
              "      <td>v4</td>\n",
              "    </tr>\n",
              "  </tbody>\n",
              "</table>\n",
              "</div>"
            ],
            "text/plain": [
              "   c1  c2\n",
              "0  v1  v2\n",
              "1  v3  v4"
            ]
          },
          "metadata": {
            "tags": []
          },
          "execution_count": 45
        }
      ]
    },
    {
      "cell_type": "code",
      "metadata": {
        "id": "EPmc5jOqU_8E"
      },
      "source": [
        "import pandas\n",
        "dfs = pandas.read_html('https://money.udn.com/money/breaknews/1001')"
      ],
      "execution_count": 47,
      "outputs": []
    },
    {
      "cell_type": "code",
      "metadata": {
        "id": "Umt3vQtwVo12"
      },
      "source": [
        "#dfs[0]"
      ],
      "execution_count": 49,
      "outputs": []
    },
    {
      "cell_type": "markdown",
      "metadata": {
        "id": "TI1sZA1PWAlx"
      },
      "source": [
        "### Practice\n",
        "- 請將台銀的匯率資訊 (https://rate.bot.com.tw/xrt/quote/l6m/USD) 讀成 pandas DataFrame"
      ]
    },
    {
      "cell_type": "code",
      "metadata": {
        "id": "r3IH9btnVyTE"
      },
      "source": [
        "dfs= pandas.read_html('https://rate.bot.com.tw/xrt/quote/l6m/USD')"
      ],
      "execution_count": 50,
      "outputs": []
    },
    {
      "cell_type": "code",
      "metadata": {
        "id": "BTWOUjraYuWW"
      },
      "source": [
        "df = dfs[0]\n",
        "df = df.iloc[:,:6]"
      ],
      "execution_count": 57,
      "outputs": []
    },
    {
      "cell_type": "code",
      "metadata": {
        "id": "_tvHm1h5Yv7X"
      },
      "source": [
        "df.columns =['掛牌日期', '幣別', '現金匯率-本行買入','現金匯率-本行賣出',\n",
        "             '即期匯率-本行買入','即期匯率-本行賣出']"
      ],
      "execution_count": 60,
      "outputs": []
    },
    {
      "cell_type": "code",
      "metadata": {
        "id": "vHr-7I69Y-eW",
        "outputId": "d1a07f83-85ad-4e7f-9768-d2eb804b48a3",
        "colab": {
          "base_uri": "https://localhost:8080/",
          "height": 204
        }
      },
      "source": [
        "df.head()"
      ],
      "execution_count": 61,
      "outputs": [
        {
          "output_type": "execute_result",
          "data": {
            "text/html": [
              "<div>\n",
              "<style scoped>\n",
              "    .dataframe tbody tr th:only-of-type {\n",
              "        vertical-align: middle;\n",
              "    }\n",
              "\n",
              "    .dataframe tbody tr th {\n",
              "        vertical-align: top;\n",
              "    }\n",
              "\n",
              "    .dataframe thead th {\n",
              "        text-align: right;\n",
              "    }\n",
              "</style>\n",
              "<table border=\"1\" class=\"dataframe\">\n",
              "  <thead>\n",
              "    <tr style=\"text-align: right;\">\n",
              "      <th></th>\n",
              "      <th>掛牌日期</th>\n",
              "      <th>幣別</th>\n",
              "      <th>現金匯率-本行買入</th>\n",
              "      <th>現金匯率-本行賣出</th>\n",
              "      <th>即期匯率-本行買入</th>\n",
              "      <th>即期匯率-本行賣出</th>\n",
              "    </tr>\n",
              "  </thead>\n",
              "  <tbody>\n",
              "    <tr>\n",
              "      <th>0</th>\n",
              "      <td>2020/09/26</td>\n",
              "      <td>美金 (USD)</td>\n",
              "      <td>28.84</td>\n",
              "      <td>29.51</td>\n",
              "      <td>29.19</td>\n",
              "      <td>29.29</td>\n",
              "    </tr>\n",
              "    <tr>\n",
              "      <th>1</th>\n",
              "      <td>2020/09/25</td>\n",
              "      <td>美金 (USD)</td>\n",
              "      <td>28.84</td>\n",
              "      <td>29.51</td>\n",
              "      <td>29.19</td>\n",
              "      <td>29.29</td>\n",
              "    </tr>\n",
              "    <tr>\n",
              "      <th>2</th>\n",
              "      <td>2020/09/24</td>\n",
              "      <td>美金 (USD)</td>\n",
              "      <td>28.88</td>\n",
              "      <td>29.55</td>\n",
              "      <td>29.23</td>\n",
              "      <td>29.33</td>\n",
              "    </tr>\n",
              "    <tr>\n",
              "      <th>3</th>\n",
              "      <td>2020/09/23</td>\n",
              "      <td>美金 (USD)</td>\n",
              "      <td>28.78</td>\n",
              "      <td>29.45</td>\n",
              "      <td>29.13</td>\n",
              "      <td>29.23</td>\n",
              "    </tr>\n",
              "    <tr>\n",
              "      <th>4</th>\n",
              "      <td>2020/09/22</td>\n",
              "      <td>美金 (USD)</td>\n",
              "      <td>28.77</td>\n",
              "      <td>29.44</td>\n",
              "      <td>29.12</td>\n",
              "      <td>29.22</td>\n",
              "    </tr>\n",
              "  </tbody>\n",
              "</table>\n",
              "</div>"
            ],
            "text/plain": [
              "         掛牌日期        幣別  現金匯率-本行買入  現金匯率-本行賣出  即期匯率-本行買入  即期匯率-本行賣出\n",
              "0  2020/09/26  美金 (USD)      28.84      29.51      29.19      29.29\n",
              "1  2020/09/25  美金 (USD)      28.84      29.51      29.19      29.29\n",
              "2  2020/09/24  美金 (USD)      28.88      29.55      29.23      29.33\n",
              "3  2020/09/23  美金 (USD)      28.78      29.45      29.13      29.23\n",
              "4  2020/09/22  美金 (USD)      28.77      29.44      29.12      29.22"
            ]
          },
          "metadata": {
            "tags": []
          },
          "execution_count": 61
        }
      ]
    },
    {
      "cell_type": "code",
      "metadata": {
        "id": "1MXc7mUcZrML"
      },
      "source": [
        "import requests\n",
        "headers = {'user-agent': 'i love goodinfo'}\n",
        "res = requests.get('https://goodinfo.tw/StockInfo/StockBzPerformance.asp?STOCK_ID=2330', headers = headers)\n",
        "res.encoding = 'utf-8'\n",
        "#res.text"
      ],
      "execution_count": 67,
      "outputs": []
    },
    {
      "cell_type": "code",
      "metadata": {
        "id": "sQuE6HZTZZaW"
      },
      "source": [
        "dfs = pandas.read_html(res.text)"
      ],
      "execution_count": 69,
      "outputs": []
    },
    {
      "cell_type": "code",
      "metadata": {
        "id": "2SIA_JzwZpMG",
        "outputId": "7ec5b58e-a7c3-452e-f9d1-7c50ccba683a",
        "colab": {
          "base_uri": "https://localhost:8080/",
          "height": 538
        }
      },
      "source": [
        "dfs[16].head()"
      ],
      "execution_count": 79,
      "outputs": [
        {
          "output_type": "execute_result",
          "data": {
            "text/html": [
              "<div>\n",
              "<style scoped>\n",
              "    .dataframe tbody tr th:only-of-type {\n",
              "        vertical-align: middle;\n",
              "    }\n",
              "\n",
              "    .dataframe tbody tr th {\n",
              "        vertical-align: top;\n",
              "    }\n",
              "\n",
              "    .dataframe thead tr th {\n",
              "        text-align: left;\n",
              "    }\n",
              "</style>\n",
              "<table border=\"1\" class=\"dataframe\">\n",
              "  <thead>\n",
              "    <tr>\n",
              "      <th></th>\n",
              "      <th>年度</th>\n",
              "      <th>股本(億)</th>\n",
              "      <th>財報評分</th>\n",
              "      <th colspan=\"4\" halign=\"left\">年度股價(元)</th>\n",
              "      <th colspan=\"5\" halign=\"left\">獲利金額(億)</th>\n",
              "      <th colspan=\"4\" halign=\"left\">獲利率(%)</th>\n",
              "      <th>ROE(%)</th>\n",
              "      <th>ROA(%)</th>\n",
              "      <th colspan=\"2\" halign=\"left\">EPS(元)</th>\n",
              "      <th>BPS(元)</th>\n",
              "    </tr>\n",
              "    <tr>\n",
              "      <th></th>\n",
              "      <th>年度</th>\n",
              "      <th>股本(億)</th>\n",
              "      <th>財報評分</th>\n",
              "      <th>收盤</th>\n",
              "      <th>平均</th>\n",
              "      <th>漲跌</th>\n",
              "      <th>漲跌(%)</th>\n",
              "      <th>營業收入</th>\n",
              "      <th>營業毛利</th>\n",
              "      <th>營業利益</th>\n",
              "      <th>業外損益</th>\n",
              "      <th>稅後淨利</th>\n",
              "      <th>營業毛利</th>\n",
              "      <th>營業利益</th>\n",
              "      <th>業外損益</th>\n",
              "      <th>稅後淨利</th>\n",
              "      <th>ROE(%)</th>\n",
              "      <th>ROA(%)</th>\n",
              "      <th>稅後EPS</th>\n",
              "      <th>年增(元)</th>\n",
              "      <th>BPS(元)</th>\n",
              "    </tr>\n",
              "    <tr>\n",
              "      <th></th>\n",
              "      <th>年度</th>\n",
              "      <th>股本(億)</th>\n",
              "      <th>財報評分</th>\n",
              "      <th>年度股價(元)</th>\n",
              "      <th>年度股價(元)</th>\n",
              "      <th>年度股價(元)</th>\n",
              "      <th>年度股價(元)</th>\n",
              "      <th>獲利金額(億)</th>\n",
              "      <th>獲利金額(億)</th>\n",
              "      <th>獲利金額(億)</th>\n",
              "      <th>獲利金額(億)</th>\n",
              "      <th>獲利金額(億)</th>\n",
              "      <th>獲利率(%)</th>\n",
              "      <th>獲利率(%)</th>\n",
              "      <th>獲利率(%)</th>\n",
              "      <th>獲利率(%)</th>\n",
              "      <th>ROE(%)</th>\n",
              "      <th>ROA(%)</th>\n",
              "      <th>EPS(元)</th>\n",
              "      <th>EPS(元)</th>\n",
              "      <th>BPS(元)</th>\n",
              "    </tr>\n",
              "    <tr>\n",
              "      <th></th>\n",
              "      <th>年度</th>\n",
              "      <th>股本(億)</th>\n",
              "      <th>財報評分</th>\n",
              "      <th>收盤</th>\n",
              "      <th>平均</th>\n",
              "      <th>漲跌</th>\n",
              "      <th>漲跌(%)</th>\n",
              "      <th>營業收入</th>\n",
              "      <th>營業毛利</th>\n",
              "      <th>營業利益</th>\n",
              "      <th>業外損益</th>\n",
              "      <th>稅後淨利</th>\n",
              "      <th>營業毛利</th>\n",
              "      <th>營業利益</th>\n",
              "      <th>業外損益</th>\n",
              "      <th>稅後淨利</th>\n",
              "      <th>ROE(%)</th>\n",
              "      <th>ROA(%)</th>\n",
              "      <th>稅後EPS</th>\n",
              "      <th>年增(元)</th>\n",
              "      <th>BPS(元)</th>\n",
              "    </tr>\n",
              "  </thead>\n",
              "  <tbody>\n",
              "    <tr>\n",
              "      <th>0</th>\n",
              "      <td>20Q2</td>\n",
              "      <td>2593</td>\n",
              "      <td>96</td>\n",
              "      <td>424</td>\n",
              "      <td>342</td>\n",
              "      <td>+93</td>\n",
              "      <td>+28.1</td>\n",
              "      <td>6213</td>\n",
              "      <td>3254</td>\n",
              "      <td>2596</td>\n",
              "      <td>89.3</td>\n",
              "      <td>2378</td>\n",
              "      <td>52.4</td>\n",
              "      <td>41.8</td>\n",
              "      <td>1.44</td>\n",
              "      <td>38.3</td>\n",
              "      <td>28.5(年估)</td>\n",
              "      <td>20.2(年估)</td>\n",
              "      <td>9.17</td>\n",
              "      <td>+4.23</td>\n",
              "      <td>66.35</td>\n",
              "    </tr>\n",
              "    <tr>\n",
              "      <th>1</th>\n",
              "      <td>2019</td>\n",
              "      <td>2593</td>\n",
              "      <td>89</td>\n",
              "      <td>331</td>\n",
              "      <td>262</td>\n",
              "      <td>+105.5</td>\n",
              "      <td>+46.8</td>\n",
              "      <td>10700</td>\n",
              "      <td>4927</td>\n",
              "      <td>3727</td>\n",
              "      <td>171</td>\n",
              "      <td>3453</td>\n",
              "      <td>46</td>\n",
              "      <td>34.8</td>\n",
              "      <td>1.6</td>\n",
              "      <td>32.3</td>\n",
              "      <td>20.9</td>\n",
              "      <td>15.9</td>\n",
              "      <td>13.32</td>\n",
              "      <td>-0.22</td>\n",
              "      <td>62.53</td>\n",
              "    </tr>\n",
              "    <tr>\n",
              "      <th>2</th>\n",
              "      <td>2018</td>\n",
              "      <td>2593</td>\n",
              "      <td>94</td>\n",
              "      <td>225.5</td>\n",
              "      <td>237</td>\n",
              "      <td>-4</td>\n",
              "      <td>-1.7</td>\n",
              "      <td>10315</td>\n",
              "      <td>4979</td>\n",
              "      <td>3836</td>\n",
              "      <td>139</td>\n",
              "      <td>3511</td>\n",
              "      <td>48.3</td>\n",
              "      <td>37.2</td>\n",
              "      <td>1.35</td>\n",
              "      <td>34</td>\n",
              "      <td>21.9</td>\n",
              "      <td>17.2</td>\n",
              "      <td>13.54</td>\n",
              "      <td>+0.31</td>\n",
              "      <td>64.67</td>\n",
              "    </tr>\n",
              "    <tr>\n",
              "      <th>3</th>\n",
              "      <td>2017</td>\n",
              "      <td>2593</td>\n",
              "      <td>91</td>\n",
              "      <td>229.5</td>\n",
              "      <td>210</td>\n",
              "      <td>+48</td>\n",
              "      <td>+26.4</td>\n",
              "      <td>9774</td>\n",
              "      <td>4948</td>\n",
              "      <td>3856</td>\n",
              "      <td>106</td>\n",
              "      <td>3431</td>\n",
              "      <td>50.6</td>\n",
              "      <td>39.4</td>\n",
              "      <td>1.08</td>\n",
              "      <td>35.1</td>\n",
              "      <td>23.6</td>\n",
              "      <td>17.7</td>\n",
              "      <td>13.23</td>\n",
              "      <td>+0.34</td>\n",
              "      <td>58.70</td>\n",
              "    </tr>\n",
              "    <tr>\n",
              "      <th>4</th>\n",
              "      <td>2016</td>\n",
              "      <td>2593</td>\n",
              "      <td>91</td>\n",
              "      <td>181.5</td>\n",
              "      <td>166</td>\n",
              "      <td>+38.5</td>\n",
              "      <td>+26.9</td>\n",
              "      <td>9479</td>\n",
              "      <td>4748</td>\n",
              "      <td>3780</td>\n",
              "      <td>80</td>\n",
              "      <td>3342</td>\n",
              "      <td>50.1</td>\n",
              "      <td>39.9</td>\n",
              "      <td>0.84</td>\n",
              "      <td>35.3</td>\n",
              "      <td>25.6</td>\n",
              "      <td>18.9</td>\n",
              "      <td>12.89</td>\n",
              "      <td>+1.07</td>\n",
              "      <td>53.58</td>\n",
              "    </tr>\n",
              "  </tbody>\n",
              "</table>\n",
              "</div>"
            ],
            "text/plain": [
              "     年度 股本(億) 財報評分 年度股價(元)          ...    ROE(%)    ROA(%) EPS(元)        BPS(元)\n",
              "     年度 股本(億) 財報評分      收盤      平均  ...    ROE(%)    ROA(%)  稅後EPS  年增(元) BPS(元)\n",
              "     年度 股本(億) 財報評分 年度股價(元) 年度股價(元)  ...    ROE(%)    ROA(%) EPS(元) EPS(元) BPS(元)\n",
              "     年度 股本(億) 財報評分      收盤      平均  ...    ROE(%)    ROA(%)  稅後EPS  年增(元) BPS(元)\n",
              "0  20Q2  2593   96     424     342  ...  28.5(年估)  20.2(年估)   9.17  +4.23  66.35\n",
              "1  2019  2593   89     331     262  ...      20.9      15.9  13.32  -0.22  62.53\n",
              "2  2018  2593   94   225.5     237  ...      21.9      17.2  13.54  +0.31  64.67\n",
              "3  2017  2593   91   229.5     210  ...      23.6      17.7  13.23  +0.34  58.70\n",
              "4  2016  2593   91   181.5     166  ...      25.6      18.9  12.89  +1.07  53.58\n",
              "\n",
              "[5 rows x 21 columns]"
            ]
          },
          "metadata": {
            "tags": []
          },
          "execution_count": 79
        }
      ]
    },
    {
      "cell_type": "markdown",
      "metadata": {
        "id": "-5YdQf-jiZdJ"
      },
      "source": [
        "## SQLite"
      ]
    },
    {
      "cell_type": "code",
      "metadata": {
        "id": "9J0LalzqiYqg"
      },
      "source": [
        "import sqlite3 as lite\n",
        "con = lite.connect('test.sqlite')\n",
        "cur = con.cursor()\n",
        "cur.execute('SELECT SQLITE_VERSION()')\n",
        "data = cur.fetchone()\n",
        "data\n",
        "con.close()"
      ],
      "execution_count": 82,
      "outputs": []
    },
    {
      "cell_type": "code",
      "metadata": {
        "id": "ktzMSDeLiv49",
        "outputId": "b6265db1-c8d0-4609-a936-6b8a8d049dda",
        "colab": {
          "base_uri": "https://localhost:8080/",
          "height": 34
        }
      },
      "source": [
        "import sqlite3 as lite\n",
        "with lite.connect('test.sqlite') as con:\n",
        "  cur = con.cursor()\n",
        "  cur.execute('SELECT SQLITE_VERSION()')\n",
        "  data = cur.fetchone()\n",
        "  print(data)\n"
      ],
      "execution_count": 83,
      "outputs": [
        {
          "output_type": "stream",
          "text": [
            "('3.22.0',)\n"
          ],
          "name": "stdout"
        }
      ]
    },
    {
      "cell_type": "code",
      "metadata": {
        "id": "1SJSqW8NjXX8",
        "outputId": "063f077f-0b58-419c-da0c-5e97ffd7cd4b",
        "colab": {
          "base_uri": "https://localhost:8080/",
          "height": 68
        }
      },
      "source": [
        "import sqlite3 as lite\n",
        "with lite.connect(\"test.sqlite\") as con:\n",
        "  cur = con.cursor()\n",
        "  ## Drop: 捨棄資料表\n",
        "  cur.execute(\"DROP TABLE IF EXISTS PhoneAddress\")\n",
        "\n",
        "  ## Create: 建立資料表\n",
        "  cur.execute(\"\"\"CREATE TABLE PhoneAddress(\n",
        "          phone CHAR(10) PRIMARY KEY, \n",
        "          address TEXT, \n",
        "          name TEXT unique, \n",
        "          age INT NOT NULL)\"\"\")\n",
        "  \n",
        "  ## Insert: 插入資料\n",
        "  cur.execute(\"INSERT INTO PhoneAddress VALUES('0912173381','United State','Jhon Doe',53)\")\n",
        "  cur.execute(\"INSERT INTO PhoneAddress VALUES('0928375018','Tokyo Japan','MuMu Cat',6)\")\n",
        "  cur.execute(\"INSERT INTO PhoneAddress VALUES('0957209108','Taipei','Richard',29)\")\n",
        "\n",
        "  ## Select: 資料撈取\n",
        "  cur.execute(\"SELECT phone,address FROM PhoneAddress\")\n",
        "  data = cur.fetchall()\n",
        "  for rec in data:\n",
        "    print(rec[0], rec[1])\n"
      ],
      "execution_count": 84,
      "outputs": [
        {
          "output_type": "stream",
          "text": [
            "0912173381 United State\n",
            "0928375018 Tokyo Japan\n",
            "0957209108 Taipei\n"
          ],
          "name": "stdout"
        }
      ]
    },
    {
      "cell_type": "code",
      "metadata": {
        "id": "SOEvPdNPkS-X",
        "outputId": "cc72616e-edb3-4535-b61e-c1b6c9488773",
        "colab": {
          "base_uri": "https://localhost:8080/",
          "height": 68
        }
      },
      "source": [
        "import sqlite3 as lite\n",
        "with lite.connect(\"test.sqlite\") as con:\n",
        "  cur = con.cursor()\n",
        "  ## Select: 資料撈取\n",
        "  cur.execute(\"SELECT phone,address FROM PhoneAddress\")\n",
        "  data = cur.fetchall()\n",
        "  for rec in data:\n",
        "    print(rec[0], rec[1])\n"
      ],
      "execution_count": 85,
      "outputs": [
        {
          "output_type": "stream",
          "text": [
            "0912173381 United State\n",
            "0928375018 Tokyo Japan\n",
            "0957209108 Taipei\n"
          ],
          "name": "stdout"
        }
      ]
    },
    {
      "cell_type": "code",
      "metadata": {
        "id": "fijDIf6bkgVd",
        "outputId": "d346c908-477b-451f-e062-f1110d72f227",
        "colab": {
          "base_uri": "https://localhost:8080/",
          "height": 85
        }
      },
      "source": [
        "import sqlite3 as lite\n",
        "with lite.connect(\"test.sqlite\") as con:\n",
        "  cur = con.cursor()\n",
        "  ## Select: 資料撈取\n",
        "  cur.execute(\"SELECT phone,address FROM PhoneAddress\")\n",
        "  data = cur.fetchone()\n",
        "  print(data)\n",
        "  print('===================================')\n",
        "  data2 = cur.fetchall()\n",
        "  for rec in data2:\n",
        "    print(rec[0], rec[1])\n"
      ],
      "execution_count": 89,
      "outputs": [
        {
          "output_type": "stream",
          "text": [
            "('0912173381', 'United State')\n",
            "===================================\n",
            "0928375018 Tokyo Japan\n",
            "0957209108 Taipei\n"
          ],
          "name": "stdout"
        }
      ]
    },
    {
      "cell_type": "code",
      "metadata": {
        "id": "qW6QfH64k2Ye"
      },
      "source": [
        "import sqlite3 as lite\n",
        "import pandas\n",
        "employee = [{'name':'Mary', 'age':23 , 'gender': 'F'},{'name':'John',\n",
        "'age':33 , 'gender': 'M'}]\n",
        "df = pandas.DataFrame(employee)"
      ],
      "execution_count": 90,
      "outputs": []
    },
    {
      "cell_type": "code",
      "metadata": {
        "id": "jfstSReEl4aR",
        "outputId": "ecbf460b-f7f2-439e-a290-c3cabb8fe67a",
        "colab": {
          "base_uri": "https://localhost:8080/",
          "height": 111
        }
      },
      "source": [
        "df.head()"
      ],
      "execution_count": 91,
      "outputs": [
        {
          "output_type": "execute_result",
          "data": {
            "text/html": [
              "<div>\n",
              "<style scoped>\n",
              "    .dataframe tbody tr th:only-of-type {\n",
              "        vertical-align: middle;\n",
              "    }\n",
              "\n",
              "    .dataframe tbody tr th {\n",
              "        vertical-align: top;\n",
              "    }\n",
              "\n",
              "    .dataframe thead th {\n",
              "        text-align: right;\n",
              "    }\n",
              "</style>\n",
              "<table border=\"1\" class=\"dataframe\">\n",
              "  <thead>\n",
              "    <tr style=\"text-align: right;\">\n",
              "      <th></th>\n",
              "      <th>name</th>\n",
              "      <th>age</th>\n",
              "      <th>gender</th>\n",
              "    </tr>\n",
              "  </thead>\n",
              "  <tbody>\n",
              "    <tr>\n",
              "      <th>0</th>\n",
              "      <td>Mary</td>\n",
              "      <td>23</td>\n",
              "      <td>F</td>\n",
              "    </tr>\n",
              "    <tr>\n",
              "      <th>1</th>\n",
              "      <td>John</td>\n",
              "      <td>33</td>\n",
              "      <td>M</td>\n",
              "    </tr>\n",
              "  </tbody>\n",
              "</table>\n",
              "</div>"
            ],
            "text/plain": [
              "   name  age gender\n",
              "0  Mary   23      F\n",
              "1  John   33      M"
            ]
          },
          "metadata": {
            "tags": []
          },
          "execution_count": 91
        }
      ]
    },
    {
      "cell_type": "code",
      "metadata": {
        "id": "xvjMr3Kml6Ow"
      },
      "source": [
        "with lite.connect('test.sqlite') as con:\n",
        "  df.to_sql('employee', con = con, if_exists='replace')"
      ],
      "execution_count": 92,
      "outputs": []
    },
    {
      "cell_type": "code",
      "metadata": {
        "id": "9QZM3VB4mXTv",
        "outputId": "f016a868-8f8d-4693-9a5c-d21e5b49b285",
        "colab": {
          "base_uri": "https://localhost:8080/",
          "height": 111
        }
      },
      "source": [
        "with lite.connect('test.sqlite') as con:\n",
        "  df2 = pandas.read_sql_query('select * from employee', con = con)\n",
        "df2"
      ],
      "execution_count": 93,
      "outputs": [
        {
          "output_type": "execute_result",
          "data": {
            "text/html": [
              "<div>\n",
              "<style scoped>\n",
              "    .dataframe tbody tr th:only-of-type {\n",
              "        vertical-align: middle;\n",
              "    }\n",
              "\n",
              "    .dataframe tbody tr th {\n",
              "        vertical-align: top;\n",
              "    }\n",
              "\n",
              "    .dataframe thead th {\n",
              "        text-align: right;\n",
              "    }\n",
              "</style>\n",
              "<table border=\"1\" class=\"dataframe\">\n",
              "  <thead>\n",
              "    <tr style=\"text-align: right;\">\n",
              "      <th></th>\n",
              "      <th>index</th>\n",
              "      <th>name</th>\n",
              "      <th>age</th>\n",
              "      <th>gender</th>\n",
              "    </tr>\n",
              "  </thead>\n",
              "  <tbody>\n",
              "    <tr>\n",
              "      <th>0</th>\n",
              "      <td>0</td>\n",
              "      <td>Mary</td>\n",
              "      <td>23</td>\n",
              "      <td>F</td>\n",
              "    </tr>\n",
              "    <tr>\n",
              "      <th>1</th>\n",
              "      <td>1</td>\n",
              "      <td>John</td>\n",
              "      <td>33</td>\n",
              "      <td>M</td>\n",
              "    </tr>\n",
              "  </tbody>\n",
              "</table>\n",
              "</div>"
            ],
            "text/plain": [
              "   index  name  age gender\n",
              "0      0  Mary   23      F\n",
              "1      1  John   33      M"
            ]
          },
          "metadata": {
            "tags": []
          },
          "execution_count": 93
        }
      ]
    },
    {
      "cell_type": "markdown",
      "metadata": {
        "id": "Q6VV6_5ZnmWE"
      },
      "source": [
        "## Database Operation"
      ]
    },
    {
      "cell_type": "code",
      "metadata": {
        "id": "xRuDrllommA_"
      },
      "source": [
        "import pandas\n",
        "df = pandas.read_csv('https://raw.githubusercontent.com/ywchiu/tibamepy/master/data/rent_591_sample.csv', index_col = 0)"
      ],
      "execution_count": 112,
      "outputs": []
    },
    {
      "cell_type": "code",
      "metadata": {
        "id": "dpx20uBCnqhQ",
        "outputId": "0c3f5dd8-46ed-437f-c8a6-b1c1ab11a716",
        "colab": {
          "base_uri": "https://localhost:8080/",
          "height": 204
        }
      },
      "source": [
        "df.head()"
      ],
      "execution_count": 113,
      "outputs": [
        {
          "output_type": "execute_result",
          "data": {
            "text/html": [
              "<div>\n",
              "<style scoped>\n",
              "    .dataframe tbody tr th:only-of-type {\n",
              "        vertical-align: middle;\n",
              "    }\n",
              "\n",
              "    .dataframe tbody tr th {\n",
              "        vertical-align: top;\n",
              "    }\n",
              "\n",
              "    .dataframe thead th {\n",
              "        text-align: right;\n",
              "    }\n",
              "</style>\n",
              "<table border=\"1\" class=\"dataframe\">\n",
              "  <thead>\n",
              "    <tr style=\"text-align: right;\">\n",
              "      <th></th>\n",
              "      <th>id</th>\n",
              "      <th>address</th>\n",
              "      <th>floor</th>\n",
              "      <th>allfloor</th>\n",
              "      <th>layout</th>\n",
              "      <th>area</th>\n",
              "      <th>price</th>\n",
              "      <th>browsenum_all</th>\n",
              "    </tr>\n",
              "  </thead>\n",
              "  <tbody>\n",
              "    <tr>\n",
              "      <th>0</th>\n",
              "      <td>6032971</td>\n",
              "      <td>永康街47巷永康街五樓頂加..</td>\n",
              "      <td>5</td>\n",
              "      <td>5</td>\n",
              "      <td>5房3廳3衛</td>\n",
              "      <td>46.8</td>\n",
              "      <td>60,000</td>\n",
              "      <td>751</td>\n",
              "    </tr>\n",
              "    <tr>\n",
              "      <th>1</th>\n",
              "      <td>6054083</td>\n",
              "      <td>仁愛路四段仁愛路樹海景觀..</td>\n",
              "      <td>7</td>\n",
              "      <td>12</td>\n",
              "      <td>4房2廳2衛</td>\n",
              "      <td>76.9</td>\n",
              "      <td>100,000</td>\n",
              "      <td>162</td>\n",
              "    </tr>\n",
              "    <tr>\n",
              "      <th>2</th>\n",
              "      <td>5957980</td>\n",
              "      <td>光復南路高樓層大巨蛋正對..</td>\n",
              "      <td>10</td>\n",
              "      <td>13</td>\n",
              "      <td>4房2廳2衛</td>\n",
              "      <td>71.3</td>\n",
              "      <td>150,000</td>\n",
              "      <td>2385</td>\n",
              "    </tr>\n",
              "    <tr>\n",
              "      <th>3</th>\n",
              "      <td>6043839</td>\n",
              "      <td>永康街23巷永康商圈..</td>\n",
              "      <td>3</td>\n",
              "      <td>4</td>\n",
              "      <td>2房1廳1衛</td>\n",
              "      <td>18.0</td>\n",
              "      <td>29,000</td>\n",
              "      <td>1323</td>\n",
              "    </tr>\n",
              "    <tr>\n",
              "      <th>4</th>\n",
              "      <td>5181793</td>\n",
              "      <td>雲和街師大*已收訂..</td>\n",
              "      <td>5</td>\n",
              "      <td>5</td>\n",
              "      <td>2房2廳1衛</td>\n",
              "      <td>28.0</td>\n",
              "      <td>31,800</td>\n",
              "      <td>2303</td>\n",
              "    </tr>\n",
              "  </tbody>\n",
              "</table>\n",
              "</div>"
            ],
            "text/plain": [
              "        id          address  floor  ...  area    price  browsenum_all\n",
              "0  6032971  永康街47巷永康街五樓頂加..      5  ...  46.8   60,000            751\n",
              "1  6054083   仁愛路四段仁愛路樹海景觀..      7  ...  76.9  100,000            162\n",
              "2  5957980   光復南路高樓層大巨蛋正對..     10  ...  71.3  150,000           2385\n",
              "3  6043839     永康街23巷永康商圈..      3  ...  18.0   29,000           1323\n",
              "4  5181793      雲和街師大*已收訂..      5  ...  28.0   31,800           2303\n",
              "\n",
              "[5 rows x 8 columns]"
            ]
          },
          "metadata": {
            "tags": []
          },
          "execution_count": 113
        }
      ]
    },
    {
      "cell_type": "code",
      "metadata": {
        "id": "iJrnaB9jnq_A"
      },
      "source": [
        "df['price'] = df['price'].map(lambda e: int(e.replace(',','')))"
      ],
      "execution_count": 114,
      "outputs": []
    },
    {
      "cell_type": "code",
      "metadata": {
        "id": "TJUQlJG7pS5g"
      },
      "source": [
        "df['road'] = df['address'].str.extract('(.+?[街路])')"
      ],
      "execution_count": 117,
      "outputs": []
    },
    {
      "cell_type": "code",
      "metadata": {
        "id": "L4CnYHITn3oB"
      },
      "source": [
        "with lite.connect('house.sqlite') as con:\n",
        "  df.to_sql('rent_591', con = con, if_exists = 'replace', index =None)"
      ],
      "execution_count": 118,
      "outputs": []
    },
    {
      "cell_type": "code",
      "metadata": {
        "id": "oKmhBB2-oAYR",
        "outputId": "a7ced509-ce6d-44ca-801f-313425cd47b3",
        "colab": {
          "base_uri": "https://localhost:8080/",
          "height": 173
        }
      },
      "source": [
        "with lite.connect('house.sqlite') as con:\n",
        "  #df2 = pandas.read_sql_query('SELECT * FROM rent_591;', con = con)\n",
        "  #df2 = pandas.read_sql_query('SELECT id, address, price FROM rent_591;', con = con)\n",
        "  #df2 = pandas.read_sql_query('SELECT id, address, price FROM rent_591 WHERE price > 100000;', con = con)\n",
        "  #df2 = pandas.read_sql_query('SELECT id, address, price FROM rent_591 WHERE price > 100000 ORDER BY price DESC;', con = con)\n",
        "  #df2 = pandas.read_sql_query('SELECT id, address, price FROM rent_591 WHERE price > 100000 ORDER BY price DESC LIMIT 3;', con = con)\n",
        "  #df2 = pandas.read_sql_query('SELECT road, avg(price) FROM rent_591 group by road', con = con)\n",
        "  df2 = pandas.read_sql_query('SELECT road, avg(price) FROM rent_591 group by road having avg(price) > 100000', con = con)\n",
        "df2"
      ],
      "execution_count": 121,
      "outputs": [
        {
          "output_type": "execute_result",
          "data": {
            "text/html": [
              "<div>\n",
              "<style scoped>\n",
              "    .dataframe tbody tr th:only-of-type {\n",
              "        vertical-align: middle;\n",
              "    }\n",
              "\n",
              "    .dataframe tbody tr th {\n",
              "        vertical-align: top;\n",
              "    }\n",
              "\n",
              "    .dataframe thead th {\n",
              "        text-align: right;\n",
              "    }\n",
              "</style>\n",
              "<table border=\"1\" class=\"dataframe\">\n",
              "  <thead>\n",
              "    <tr style=\"text-align: right;\">\n",
              "      <th></th>\n",
              "      <th>road</th>\n",
              "      <th>avg(price)</th>\n",
              "    </tr>\n",
              "  </thead>\n",
              "  <tbody>\n",
              "    <tr>\n",
              "      <th>0</th>\n",
              "      <td>敦南街</td>\n",
              "      <td>180000.000000</td>\n",
              "    </tr>\n",
              "    <tr>\n",
              "      <th>1</th>\n",
              "      <td>新生南路</td>\n",
              "      <td>113914.947368</td>\n",
              "    </tr>\n",
              "    <tr>\n",
              "      <th>2</th>\n",
              "      <td>樂利路</td>\n",
              "      <td>149999.500000</td>\n",
              "    </tr>\n",
              "    <tr>\n",
              "      <th>3</th>\n",
              "      <td>樂業街</td>\n",
              "      <td>103996.500000</td>\n",
              "    </tr>\n",
              "  </tbody>\n",
              "</table>\n",
              "</div>"
            ],
            "text/plain": [
              "   road     avg(price)\n",
              "0   敦南街  180000.000000\n",
              "1  新生南路  113914.947368\n",
              "2   樂利路  149999.500000\n",
              "3   樂業街  103996.500000"
            ]
          },
          "metadata": {
            "tags": []
          },
          "execution_count": 121
        }
      ]
    },
    {
      "cell_type": "markdown",
      "metadata": {
        "id": "aF83XJ0uqti4"
      },
      "source": [
        "### Practice\n",
        "請將 purchase order (https://raw.githubusercontent.com/ywchiu/tibamepy/master/data/purchase_order.tab) \n",
        "\n",
        "欄位:['dt', 'action', 'uid', 'pid', 'quantity', 'price']\n",
        "\n",
        "1. 讀取入Pandas DataFrame 之中\n",
        "2. 再將資料存入到名為purchase.sqlite 的資料庫之中的product_order 表\n",
        "3. 請使用SQL 語句找出最熱銷的產品 (count, group by )"
      ]
    },
    {
      "cell_type": "code",
      "metadata": {
        "id": "R2VpxBdWogCh"
      },
      "source": [
        ""
      ],
      "execution_count": null,
      "outputs": []
    }
  ]
}