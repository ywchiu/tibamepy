{
  "nbformat": 4,
  "nbformat_minor": 0,
  "metadata": {
    "colab": {
      "name": "Demo20200919.ipynb",
      "provenance": [],
      "collapsed_sections": []
    },
    "kernelspec": {
      "name": "python3",
      "display_name": "Python 3"
    }
  },
  "cells": [
    {
      "cell_type": "markdown",
      "metadata": {
        "id": "3-oWOcaYAOe9",
        "colab_type": "text"
      },
      "source": [
        "## 作業"
      ]
    },
    {
      "cell_type": "code",
      "metadata": {
        "id": "k8wrwIeO_wnB",
        "colab_type": "code",
        "colab": {
          "base_uri": "https://localhost:8080/",
          "height": 35
        },
        "outputId": "96cfad71-a583-4584-bb31-96cef6b1be42"
      },
      "source": [
        "import requests\n",
        "res = requests.get('https://news.ltn.com.tw/list/breakingnews')\n",
        "res"
      ],
      "execution_count": 1,
      "outputs": [
        {
          "output_type": "execute_result",
          "data": {
            "text/plain": [
              "<Response [200]>"
            ]
          },
          "metadata": {
            "tags": []
          },
          "execution_count": 1
        }
      ]
    },
    {
      "cell_type": "code",
      "metadata": {
        "id": "uMXTeWOPA9vq",
        "colab_type": "code",
        "colab": {}
      },
      "source": [
        "#res.text"
      ],
      "execution_count": 3,
      "outputs": []
    },
    {
      "cell_type": "code",
      "metadata": {
        "id": "Rwy1ljUHBAnp",
        "colab_type": "code",
        "colab": {}
      },
      "source": [
        "from bs4 import BeautifulSoup\n",
        "soup = BeautifulSoup(res.text, 'lxml')"
      ],
      "execution_count": 4,
      "outputs": []
    },
    {
      "cell_type": "code",
      "metadata": {
        "id": "IdrF11AXBTkb",
        "colab_type": "code",
        "colab": {}
      },
      "source": [
        "#soup"
      ],
      "execution_count": 6,
      "outputs": []
    },
    {
      "cell_type": "code",
      "metadata": {
        "id": "vJsZs29eBUL7",
        "colab_type": "code",
        "colab": {
          "base_uri": "https://localhost:8080/",
          "height": 731
        },
        "outputId": "7d13afae-d00f-4093-d2aa-71870a31d268"
      },
      "source": [
        "for li in soup.select('.list li'):\n",
        "  #print(li)\n",
        "  title = li.select_one('span.title').text\n",
        "  dt = li.select_one('.time').text\n",
        "  link = li.select_one('a.tit').get('href')\n",
        "  print(title, dt, link)\n",
        "  print('======================================')"
      ],
      "execution_count": 16,
      "outputs": [
        {
          "output_type": "stream",
          "text": [
            "剪接影片造假談話 CNN：拜登用假廣告攻擊川普 09:34 https://news.ltn.com.tw/news/world/breakingnews/3296734\n",
            "======================================\n",
            "9/19重要財經新聞一覽 09:32 https://ec.ltn.com.tw/article/breakingnews/3296759\n",
            "======================================\n",
            "米奇米妮萌助陣！這檔購物節超划算 3000現抵300特惠組最低46折 09:30 https://ent.ltn.com.tw/news/breakingnews/3296637\n",
            "======================================\n",
            "安倍參拜靖國神社 報告已卸下首相職務 09:29 https://news.ltn.com.tw/news/world/breakingnews/3296750\n",
            "======================================\n",
            "追思李登輝》蔡總統親頒褒揚令 追思文感念「把民主自由留給台灣」 09:28 https://news.ltn.com.tw/news/politics/breakingnews/3296678\n",
            "======================================\n",
            "追思李登輝》「三十九與九十八」 李坤儀撰文悼念祖父慈愛 09:27 https://news.ltn.com.tw/news/politics/breakingnews/3296736\n",
            "======================================\n",
            "NBA》詹皇僅拿16張第1名選票  湖人主帥仍力挺：他才是MVP 09:21 https://sports.ltn.com.tw/news/breakingnews/3296723\n",
            "======================================\n",
            "NBA》重提往事倡導精神健康 「愛神」自曝：好友救了我一命 09:20 https://sports.ltn.com.tw/news/breakingnews/3296707\n",
            "======================================\n",
            "意外捲入輕生事件 郭雪芙到處傻問「誰墜樓過」 09:20 https://ent.ltn.com.tw/news/breakingnews/3296654\n",
            "======================================\n",
            "MLB》洋基「園丁」發願再戰2021 美球迷無情狠酸：拜託不要 09:17 https://sports.ltn.com.tw/news/breakingnews/3296695\n",
            "======================================\n",
            "科技股下挫牽動美各大指數收黑 道瓊跌244點 09:16 https://ec.ltn.com.tw/article/breakingnews/3296681\n",
            "======================================\n",
            "追思李登輝》兩組民眾疑追思會場周邊抗議 警方帶至陳抗區 09:15 https://news.ltn.com.tw/news/politics/breakingnews/3296739\n",
            "======================================\n",
            "神車 Altis 挑戰者，新一代 Nissan Sentra 試駕報告！〈內有相片集〉 09:15 https://auto.ltn.com.tw/news/16152\n",
            "======================================\n",
            "追思李登輝》李坤儀手捧骨灰罈 移靈車隊由翠山莊出發 09:13 https://news.ltn.com.tw/news/politics/breakingnews/3296731\n",
            "======================================\n",
            "營區停車場猥褻女同袍：「妹妹，你可以幫我嗎？」 09:10 https://news.ltn.com.tw/news/society/breakingnews/3296724\n",
            "======================================\n",
            "「雙野CP」默契十足 綾野剛狂嗑烏龍麵直到極限 09:10 https://ent.ltn.com.tw/news/breakingnews/3296649\n",
            "======================================\n",
            "峮峮現身！一身黑踏入小鬼靈堂 拭淚惹鼻酸 09:06 https://ent.ltn.com.tw/news/breakingnews/3296729\n",
            "======================================\n",
            "申敏兒回歸大銀幕克服懼高症 登高跳水搏出名 09:00 https://ent.ltn.com.tw/news/breakingnews/3296650\n",
            "======================================\n",
            "日本「最美姊妹檔」票選木村家竟連前10都沒有！冠軍姊妹小六就被星探發掘 09:00 https://istyle.ltn.com.tw/article/14538\n",
            "======================================\n",
            "5工人喝茫聚眾鬥毆 警出齊眉棍再噴辣椒水壓制逮人 08:59 https://news.ltn.com.tw/news/society/breakingnews/3296726\n",
            "======================================\n"
          ],
          "name": "stdout"
        }
      ]
    },
    {
      "cell_type": "code",
      "metadata": {
        "id": "qCoZIAK_CFrc",
        "colab_type": "code",
        "colab": {}
      },
      "source": [
        "newsary = []\n",
        "for li in soup.select('.list li'):\n",
        "  title = li.select_one('span.title').text\n",
        "  dt = li.select_one('.time').text\n",
        "  link = li.select_one('a.tit').get('href')\n",
        "  newsary.append({'title':title, 'dt':dt, 'link':link})\n",
        "  "
      ],
      "execution_count": 17,
      "outputs": []
    },
    {
      "cell_type": "code",
      "metadata": {
        "id": "X-GpZENDDzcC",
        "colab_type": "code",
        "colab": {
          "base_uri": "https://localhost:8080/",
          "height": 69
        },
        "outputId": "b660a47b-e115-4719-830f-70aa1e3d50c2"
      },
      "source": [
        "newsary[0]"
      ],
      "execution_count": 18,
      "outputs": [
        {
          "output_type": "execute_result",
          "data": {
            "text/plain": [
              "{'dt': '09:34',\n",
              " 'link': 'https://news.ltn.com.tw/news/world/breakingnews/3296734',\n",
              " 'title': '剪接影片造假談話 CNN：拜登用假廣告攻擊川普'}"
            ]
          },
          "metadata": {
            "tags": []
          },
          "execution_count": 18
        }
      ]
    },
    {
      "cell_type": "code",
      "metadata": {
        "id": "slJJ7GHXD1vC",
        "colab_type": "code",
        "colab": {}
      },
      "source": [
        "import pandas\n",
        "newsdf = pandas.DataFrame(newsary)"
      ],
      "execution_count": 19,
      "outputs": []
    },
    {
      "cell_type": "code",
      "metadata": {
        "id": "TJ7U68fxD9_C",
        "colab_type": "code",
        "colab": {
          "base_uri": "https://localhost:8080/",
          "height": 271
        },
        "outputId": "26105292-9e3c-4159-e6b3-87ea0c0adb6e"
      },
      "source": [
        "newsdf.head()"
      ],
      "execution_count": 21,
      "outputs": [
        {
          "output_type": "execute_result",
          "data": {
            "text/html": [
              "<div>\n",
              "<style scoped>\n",
              "    .dataframe tbody tr th:only-of-type {\n",
              "        vertical-align: middle;\n",
              "    }\n",
              "\n",
              "    .dataframe tbody tr th {\n",
              "        vertical-align: top;\n",
              "    }\n",
              "\n",
              "    .dataframe thead th {\n",
              "        text-align: right;\n",
              "    }\n",
              "</style>\n",
              "<table border=\"1\" class=\"dataframe\">\n",
              "  <thead>\n",
              "    <tr style=\"text-align: right;\">\n",
              "      <th></th>\n",
              "      <th>title</th>\n",
              "      <th>dt</th>\n",
              "      <th>link</th>\n",
              "    </tr>\n",
              "  </thead>\n",
              "  <tbody>\n",
              "    <tr>\n",
              "      <th>0</th>\n",
              "      <td>剪接影片造假談話 CNN：拜登用假廣告攻擊川普</td>\n",
              "      <td>09:34</td>\n",
              "      <td>https://news.ltn.com.tw/news/world/breakingnew...</td>\n",
              "    </tr>\n",
              "    <tr>\n",
              "      <th>1</th>\n",
              "      <td>9/19重要財經新聞一覽</td>\n",
              "      <td>09:32</td>\n",
              "      <td>https://ec.ltn.com.tw/article/breakingnews/329...</td>\n",
              "    </tr>\n",
              "    <tr>\n",
              "      <th>2</th>\n",
              "      <td>米奇米妮萌助陣！這檔購物節超划算 3000現抵300特惠組最低46折</td>\n",
              "      <td>09:30</td>\n",
              "      <td>https://ent.ltn.com.tw/news/breakingnews/3296637</td>\n",
              "    </tr>\n",
              "    <tr>\n",
              "      <th>3</th>\n",
              "      <td>安倍參拜靖國神社 報告已卸下首相職務</td>\n",
              "      <td>09:29</td>\n",
              "      <td>https://news.ltn.com.tw/news/world/breakingnew...</td>\n",
              "    </tr>\n",
              "    <tr>\n",
              "      <th>4</th>\n",
              "      <td>追思李登輝》蔡總統親頒褒揚令 追思文感念「把民主自由留給台灣」</td>\n",
              "      <td>09:28</td>\n",
              "      <td>https://news.ltn.com.tw/news/politics/breaking...</td>\n",
              "    </tr>\n",
              "  </tbody>\n",
              "</table>\n",
              "</div>"
            ],
            "text/plain": [
              "                                title  ...                                               link\n",
              "0             剪接影片造假談話 CNN：拜登用假廣告攻擊川普  ...  https://news.ltn.com.tw/news/world/breakingnew...\n",
              "1                        9/19重要財經新聞一覽  ...  https://ec.ltn.com.tw/article/breakingnews/329...\n",
              "2  米奇米妮萌助陣！這檔購物節超划算 3000現抵300特惠組最低46折  ...   https://ent.ltn.com.tw/news/breakingnews/3296637\n",
              "3                  安倍參拜靖國神社 報告已卸下首相職務  ...  https://news.ltn.com.tw/news/world/breakingnew...\n",
              "4     追思李登輝》蔡總統親頒褒揚令 追思文感念「把民主自由留給台灣」  ...  https://news.ltn.com.tw/news/politics/breaking...\n",
              "\n",
              "[5 rows x 3 columns]"
            ]
          },
          "metadata": {
            "tags": []
          },
          "execution_count": 21
        }
      ]
    },
    {
      "cell_type": "code",
      "metadata": {
        "id": "dUApcyOXD-ex",
        "colab_type": "code",
        "colab": {}
      },
      "source": [
        "newsdf.to_excel('ltnnews.xlsx')"
      ],
      "execution_count": 22,
      "outputs": []
    },
    {
      "cell_type": "markdown",
      "metadata": {
        "id": "Eg8mGzgHFhNo",
        "colab_type": "text"
      },
      "source": [
        "## 完整自由時報爬蟲"
      ]
    },
    {
      "cell_type": "code",
      "metadata": {
        "id": "T8PRiLUUEIij",
        "colab_type": "code",
        "colab": {}
      },
      "source": [
        "import requests\n",
        "res = requests.get('https://news.ltn.com.tw/ajax/breakingnews/all/2')\n",
        "jd = res.json()"
      ],
      "execution_count": 25,
      "outputs": []
    },
    {
      "cell_type": "code",
      "metadata": {
        "id": "cqEDaBUgFmB3",
        "colab_type": "code",
        "colab": {}
      },
      "source": [
        "newsdf = pandas.DataFrame(jd['data'].values())"
      ],
      "execution_count": 28,
      "outputs": []
    },
    {
      "cell_type": "code",
      "metadata": {
        "id": "Kk1MQZYXFyG4",
        "colab_type": "code",
        "colab": {
          "base_uri": "https://localhost:8080/",
          "height": 611
        },
        "outputId": "26ace339-ec95-4b36-fa68-12a5c52fcf52"
      },
      "source": [
        "newsdf.head(3)"
      ],
      "execution_count": 30,
      "outputs": [
        {
          "output_type": "execute_result",
          "data": {
            "text/html": [
              "<div>\n",
              "<style scoped>\n",
              "    .dataframe tbody tr th:only-of-type {\n",
              "        vertical-align: middle;\n",
              "    }\n",
              "\n",
              "    .dataframe tbody tr th {\n",
              "        vertical-align: top;\n",
              "    }\n",
              "\n",
              "    .dataframe thead th {\n",
              "        text-align: right;\n",
              "    }\n",
              "</style>\n",
              "<table border=\"1\" class=\"dataframe\">\n",
              "  <thead>\n",
              "    <tr style=\"text-align: right;\">\n",
              "      <th></th>\n",
              "      <th>no</th>\n",
              "      <th>title</th>\n",
              "      <th>bigphoto_flag</th>\n",
              "      <th>photo_S</th>\n",
              "      <th>photo_L</th>\n",
              "      <th>url</th>\n",
              "      <th>time</th>\n",
              "      <th>type_en</th>\n",
              "      <th>group</th>\n",
              "      <th>type_cn</th>\n",
              "      <th>local</th>\n",
              "      <th>summary</th>\n",
              "      <th>video</th>\n",
              "      <th>localUrl</th>\n",
              "      <th>tagUrl</th>\n",
              "      <th>style</th>\n",
              "      <th>tagText</th>\n",
              "    </tr>\n",
              "  </thead>\n",
              "  <tbody>\n",
              "    <tr>\n",
              "      <th>0</th>\n",
              "      <td>3296731</td>\n",
              "      <td>追思李登輝》李坤儀手捧骨灰罈 移靈車隊由翠山莊出發</td>\n",
              "      <td>0</td>\n",
              "      <td>http://img.ltn.com.tw/Upload/news/250/2020/09/...</td>\n",
              "      <td>http://img.ltn.com.tw/Upload/news/600/2020/09/...</td>\n",
              "      <td>https://news.ltn.com.tw/news/politics/breaking...</td>\n",
              "      <td>09:13</td>\n",
              "      <td>politics</td>\n",
              "      <td>breakingnews</td>\n",
              "      <td>政治</td>\n",
              "      <td>臺北市</td>\n",
              "      <td>前總統李登輝追思告別禮拜今天在淡水真理大學大禮拜堂舉行，移靈車隊上午約8時45分從翠山莊出發...</td>\n",
              "      <td>0</td>\n",
              "      <td>list/breakingnews/Taipei</td>\n",
              "      <td>list/breakingnews/politics</td>\n",
              "      <td>None</td>\n",
              "      <td>政治</td>\n",
              "    </tr>\n",
              "    <tr>\n",
              "      <th>1</th>\n",
              "      <td>3296724</td>\n",
              "      <td>營區停車場猥褻女同袍：「妹妹，你可以幫我嗎？」</td>\n",
              "      <td>0</td>\n",
              "      <td>http://img.ltn.com.tw/Upload/news/250/2020/09/...</td>\n",
              "      <td>http://img.ltn.com.tw/Upload/news/600/2020/09/...</td>\n",
              "      <td>https://news.ltn.com.tw/news/society/breakingn...</td>\n",
              "      <td>09:10</td>\n",
              "      <td>society</td>\n",
              "      <td>breakingnews</td>\n",
              "      <td>社會</td>\n",
              "      <td>高雄市</td>\n",
              "      <td>高市江姓職業軍人藉故約女同袍小真（化名）到營區停車場，在自小客車內涉嫌強行親吻、揉胸，甚至抓...</td>\n",
              "      <td>0</td>\n",
              "      <td>list/breakingnews/Kaohsiung</td>\n",
              "      <td>list/breakingnews/society</td>\n",
              "      <td>None</td>\n",
              "      <td>社會</td>\n",
              "    </tr>\n",
              "    <tr>\n",
              "      <th>2</th>\n",
              "      <td>3296649</td>\n",
              "      <td>「雙野CP」默契十足 綾野剛狂嗑烏龍麵直到極限</td>\n",
              "      <td>0</td>\n",
              "      <td>http://img.ltn.com.tw/Upload/ent/page/400S/202...</td>\n",
              "      <td>http://img.ltn.com.tw/Upload/ent/page/800S/202...</td>\n",
              "      <td>https://ent.ltn.com.tw/news/breakingnews/3296649</td>\n",
              "      <td>09:10</td>\n",
              "      <td>entertainment</td>\n",
              "      <td>breakingnews</td>\n",
              "      <td>娛樂</td>\n",
              "      <td>False</td>\n",
              "      <td>星野源、綾野剛主演TBS台日劇《MIU404》日前播畢，全劇收視率創下每集均超過雙位數的亮眼...</td>\n",
              "      <td>0</td>\n",
              "      <td></td>\n",
              "      <td>list/breakingnews/entertainment</td>\n",
              "      <td>None</td>\n",
              "      <td>娛樂</td>\n",
              "    </tr>\n",
              "  </tbody>\n",
              "</table>\n",
              "</div>"
            ],
            "text/plain": [
              "        no                      title  ... style tagText\n",
              "0  3296731  追思李登輝》李坤儀手捧骨灰罈 移靈車隊由翠山莊出發  ...  None      政治\n",
              "1  3296724    營區停車場猥褻女同袍：「妹妹，你可以幫我嗎？」  ...  None      社會\n",
              "2  3296649    「雙野CP」默契十足 綾野剛狂嗑烏龍麵直到極限  ...  None      娛樂\n",
              "\n",
              "[3 rows x 17 columns]"
            ]
          },
          "metadata": {
            "tags": []
          },
          "execution_count": 30
        }
      ]
    },
    {
      "cell_type": "code",
      "metadata": {
        "id": "I2W10tBHF8GK",
        "colab_type": "code",
        "colab": {}
      },
      "source": [
        "import requests\n",
        "import time\n",
        "newsdfs = []\n",
        "for i in range(2,11):\n",
        "  res = requests.get('https://news.ltn.com.tw/ajax/breakingnews/all/{}'.format(i))\n",
        "  jd = res.json()\n",
        "  newsdf = pandas.DataFrame(jd['data'].values())\n",
        "  time.sleep(1)\n",
        "  newsdfs.append(newsdf)"
      ],
      "execution_count": 33,
      "outputs": []
    },
    {
      "cell_type": "code",
      "metadata": {
        "id": "gQ6YteIyGVYL",
        "colab_type": "code",
        "colab": {
          "base_uri": "https://localhost:8080/",
          "height": 35
        },
        "outputId": "d584562b-4157-4995-be06-f52ba50cc2c8"
      },
      "source": [
        "type(newsdfs)"
      ],
      "execution_count": 35,
      "outputs": [
        {
          "output_type": "execute_result",
          "data": {
            "text/plain": [
              "list"
            ]
          },
          "metadata": {
            "tags": []
          },
          "execution_count": 35
        }
      ]
    },
    {
      "cell_type": "code",
      "metadata": {
        "id": "gdZaoCK_Gwba",
        "colab_type": "code",
        "colab": {
          "base_uri": "https://localhost:8080/",
          "height": 35
        },
        "outputId": "8b77a072-439f-47da-d212-66de97361168"
      },
      "source": [
        "type(newsdfs[0])"
      ],
      "execution_count": 37,
      "outputs": [
        {
          "output_type": "execute_result",
          "data": {
            "text/plain": [
              "pandas.core.frame.DataFrame"
            ]
          },
          "metadata": {
            "tags": []
          },
          "execution_count": 37
        }
      ]
    },
    {
      "cell_type": "code",
      "metadata": {
        "id": "Kyq_8__jG3uS",
        "colab_type": "code",
        "colab": {}
      },
      "source": [
        "res = pandas.concat(newsdfs)"
      ],
      "execution_count": 39,
      "outputs": []
    },
    {
      "cell_type": "code",
      "metadata": {
        "id": "WicZIZZHG6Yb",
        "colab_type": "code",
        "colab": {
          "base_uri": "https://localhost:8080/",
          "height": 87
        },
        "outputId": "c2a09032-8612-42de-8f85-9681a8e7a6d2"
      },
      "source": [
        "import jieba\n",
        "words = []\n",
        "for title in res['title'].tolist():\n",
        "  words = words + jieba.lcut(title)"
      ],
      "execution_count": 43,
      "outputs": [
        {
          "output_type": "stream",
          "text": [
            "Building prefix dict from the default dictionary ...\n",
            "Dumping model to file cache /tmp/jieba.cache\n",
            "Loading model cost 0.915 seconds.\n",
            "Prefix dict has been built successfully.\n"
          ],
          "name": "stderr"
        }
      ]
    },
    {
      "cell_type": "code",
      "metadata": {
        "id": "KK-tXoNtG9_r",
        "colab_type": "code",
        "colab": {
          "base_uri": "https://localhost:8080/",
          "height": 191
        },
        "outputId": "ee80bef6-1826-47fa-fa61-bbba795a1daf"
      },
      "source": [
        "from collections import Counter\n",
        "words = [word for word in words if len(word) >=2]\n",
        "c = Counter(words)\n",
        "c.most_common(10)"
      ],
      "execution_count": 46,
      "outputs": [
        {
          "output_type": "execute_result",
          "data": {
            "text/plain": [
              "[('中職', 12),\n",
              " ('追思', 7),\n",
              " ('12', 7),\n",
              " ('中國', 7),\n",
              " ('李登輝', 6),\n",
              " ('影音', 6),\n",
              " ('兄弟', 6),\n",
              " ('網球', 5),\n",
              " ('NBA', 5),\n",
              " ('回應', 5)]"
            ]
          },
          "metadata": {
            "tags": []
          },
          "execution_count": 46
        }
      ]
    },
    {
      "cell_type": "markdown",
      "metadata": {
        "id": "ko4imnEjKunN",
        "colab_type": "text"
      },
      "source": [
        "## Concat v.s. DataFrame"
      ]
    },
    {
      "cell_type": "code",
      "metadata": {
        "id": "ZhV7GD-9Ha9t",
        "colab_type": "code",
        "colab": {
          "base_uri": "https://localhost:8080/",
          "height": 110
        },
        "outputId": "a0e79b6b-f281-4eff-db4b-5c6e9da76a2a"
      },
      "source": [
        "# list of dictionaries\n",
        "ary = [\n",
        " {'title':'abc', 'link':'http://abc.com'},\n",
        " {'title':'def', 'link':'http://def.com'}\n",
        "]\n",
        "\n",
        "import pandas\n",
        "df = pandas.DataFrame(ary)\n",
        "df"
      ],
      "execution_count": 48,
      "outputs": [
        {
          "output_type": "execute_result",
          "data": {
            "text/html": [
              "<div>\n",
              "<style scoped>\n",
              "    .dataframe tbody tr th:only-of-type {\n",
              "        vertical-align: middle;\n",
              "    }\n",
              "\n",
              "    .dataframe tbody tr th {\n",
              "        vertical-align: top;\n",
              "    }\n",
              "\n",
              "    .dataframe thead th {\n",
              "        text-align: right;\n",
              "    }\n",
              "</style>\n",
              "<table border=\"1\" class=\"dataframe\">\n",
              "  <thead>\n",
              "    <tr style=\"text-align: right;\">\n",
              "      <th></th>\n",
              "      <th>title</th>\n",
              "      <th>link</th>\n",
              "    </tr>\n",
              "  </thead>\n",
              "  <tbody>\n",
              "    <tr>\n",
              "      <th>0</th>\n",
              "      <td>abc</td>\n",
              "      <td>http://abc.com</td>\n",
              "    </tr>\n",
              "    <tr>\n",
              "      <th>1</th>\n",
              "      <td>def</td>\n",
              "      <td>http://def.com</td>\n",
              "    </tr>\n",
              "  </tbody>\n",
              "</table>\n",
              "</div>"
            ],
            "text/plain": [
              "  title            link\n",
              "0   abc  http://abc.com\n",
              "1   def  http://def.com"
            ]
          },
          "metadata": {
            "tags": []
          },
          "execution_count": 48
        }
      ]
    },
    {
      "cell_type": "code",
      "metadata": {
        "id": "6V-XDTkXK8sl",
        "colab_type": "code",
        "colab": {}
      },
      "source": [
        "ary1 = [\n",
        " {'title':'abc', 'link':'http://abc.com'},\n",
        " {'title':'def', 'link':'http://def.com'}\n",
        "]\n",
        "\n",
        "ary2 = [\n",
        " {'title':'abc1', 'link':'http://abc1.com'},\n",
        " {'title':'def1', 'link':'http://def1.com'}\n",
        "]"
      ],
      "execution_count": 51,
      "outputs": []
    },
    {
      "cell_type": "code",
      "metadata": {
        "id": "aZhe_yRSLL41",
        "colab_type": "code",
        "colab": {
          "base_uri": "https://localhost:8080/",
          "height": 110
        },
        "outputId": "c662ae21-fbaa-4b51-b3e3-db18f8446f4d"
      },
      "source": [
        "df1 = pandas.DataFrame(ary1)\n",
        "df1"
      ],
      "execution_count": 52,
      "outputs": [
        {
          "output_type": "execute_result",
          "data": {
            "text/html": [
              "<div>\n",
              "<style scoped>\n",
              "    .dataframe tbody tr th:only-of-type {\n",
              "        vertical-align: middle;\n",
              "    }\n",
              "\n",
              "    .dataframe tbody tr th {\n",
              "        vertical-align: top;\n",
              "    }\n",
              "\n",
              "    .dataframe thead th {\n",
              "        text-align: right;\n",
              "    }\n",
              "</style>\n",
              "<table border=\"1\" class=\"dataframe\">\n",
              "  <thead>\n",
              "    <tr style=\"text-align: right;\">\n",
              "      <th></th>\n",
              "      <th>title</th>\n",
              "      <th>link</th>\n",
              "    </tr>\n",
              "  </thead>\n",
              "  <tbody>\n",
              "    <tr>\n",
              "      <th>0</th>\n",
              "      <td>abc</td>\n",
              "      <td>http://abc.com</td>\n",
              "    </tr>\n",
              "    <tr>\n",
              "      <th>1</th>\n",
              "      <td>def</td>\n",
              "      <td>http://def.com</td>\n",
              "    </tr>\n",
              "  </tbody>\n",
              "</table>\n",
              "</div>"
            ],
            "text/plain": [
              "  title            link\n",
              "0   abc  http://abc.com\n",
              "1   def  http://def.com"
            ]
          },
          "metadata": {
            "tags": []
          },
          "execution_count": 52
        }
      ]
    },
    {
      "cell_type": "code",
      "metadata": {
        "id": "jknqE4C6LSAm",
        "colab_type": "code",
        "colab": {
          "base_uri": "https://localhost:8080/",
          "height": 110
        },
        "outputId": "d365aff8-e24c-4f98-80ca-cef9deaf35da"
      },
      "source": [
        "\n",
        "df2 = pandas.DataFrame(ary2)\n",
        "df2"
      ],
      "execution_count": 55,
      "outputs": [
        {
          "output_type": "execute_result",
          "data": {
            "text/html": [
              "<div>\n",
              "<style scoped>\n",
              "    .dataframe tbody tr th:only-of-type {\n",
              "        vertical-align: middle;\n",
              "    }\n",
              "\n",
              "    .dataframe tbody tr th {\n",
              "        vertical-align: top;\n",
              "    }\n",
              "\n",
              "    .dataframe thead th {\n",
              "        text-align: right;\n",
              "    }\n",
              "</style>\n",
              "<table border=\"1\" class=\"dataframe\">\n",
              "  <thead>\n",
              "    <tr style=\"text-align: right;\">\n",
              "      <th></th>\n",
              "      <th>title</th>\n",
              "      <th>link</th>\n",
              "    </tr>\n",
              "  </thead>\n",
              "  <tbody>\n",
              "    <tr>\n",
              "      <th>0</th>\n",
              "      <td>abc1</td>\n",
              "      <td>http://abc1.com</td>\n",
              "    </tr>\n",
              "    <tr>\n",
              "      <th>1</th>\n",
              "      <td>def1</td>\n",
              "      <td>http://def1.com</td>\n",
              "    </tr>\n",
              "  </tbody>\n",
              "</table>\n",
              "</div>"
            ],
            "text/plain": [
              "  title             link\n",
              "0  abc1  http://abc1.com\n",
              "1  def1  http://def1.com"
            ]
          },
          "metadata": {
            "tags": []
          },
          "execution_count": 55
        }
      ]
    },
    {
      "cell_type": "code",
      "metadata": {
        "id": "cW6sAn1WLS8G",
        "colab_type": "code",
        "colab": {
          "base_uri": "https://localhost:8080/",
          "height": 171
        },
        "outputId": "03143163-edf8-4614-f20f-2089b4cc56cc"
      },
      "source": [
        "# list of dataframes\n",
        "pandas.concat([df1, df2])"
      ],
      "execution_count": 56,
      "outputs": [
        {
          "output_type": "execute_result",
          "data": {
            "text/html": [
              "<div>\n",
              "<style scoped>\n",
              "    .dataframe tbody tr th:only-of-type {\n",
              "        vertical-align: middle;\n",
              "    }\n",
              "\n",
              "    .dataframe tbody tr th {\n",
              "        vertical-align: top;\n",
              "    }\n",
              "\n",
              "    .dataframe thead th {\n",
              "        text-align: right;\n",
              "    }\n",
              "</style>\n",
              "<table border=\"1\" class=\"dataframe\">\n",
              "  <thead>\n",
              "    <tr style=\"text-align: right;\">\n",
              "      <th></th>\n",
              "      <th>title</th>\n",
              "      <th>link</th>\n",
              "    </tr>\n",
              "  </thead>\n",
              "  <tbody>\n",
              "    <tr>\n",
              "      <th>0</th>\n",
              "      <td>abc</td>\n",
              "      <td>http://abc.com</td>\n",
              "    </tr>\n",
              "    <tr>\n",
              "      <th>1</th>\n",
              "      <td>def</td>\n",
              "      <td>http://def.com</td>\n",
              "    </tr>\n",
              "    <tr>\n",
              "      <th>0</th>\n",
              "      <td>abc1</td>\n",
              "      <td>http://abc1.com</td>\n",
              "    </tr>\n",
              "    <tr>\n",
              "      <th>1</th>\n",
              "      <td>def1</td>\n",
              "      <td>http://def1.com</td>\n",
              "    </tr>\n",
              "  </tbody>\n",
              "</table>\n",
              "</div>"
            ],
            "text/plain": [
              "  title             link\n",
              "0   abc   http://abc.com\n",
              "1   def   http://def.com\n",
              "0  abc1  http://abc1.com\n",
              "1  def1  http://def1.com"
            ]
          },
          "metadata": {
            "tags": []
          },
          "execution_count": 56
        }
      ]
    },
    {
      "cell_type": "markdown",
      "metadata": {
        "id": "dGFmGm2aNuEK",
        "colab_type": "text"
      },
      "source": [
        "## Lists"
      ]
    },
    {
      "cell_type": "code",
      "metadata": {
        "id": "An1X_NsqLaEm",
        "colab_type": "code",
        "colab": {}
      },
      "source": [
        "a = [1,2,3,'hello', [4,5,6]]"
      ],
      "execution_count": 57,
      "outputs": []
    },
    {
      "cell_type": "code",
      "metadata": {
        "id": "UJH8Gt8PNy7M",
        "colab_type": "code",
        "colab": {}
      },
      "source": [
        "a.append({'a':1})"
      ],
      "execution_count": 58,
      "outputs": []
    },
    {
      "cell_type": "code",
      "metadata": {
        "id": "3l9TcGIMN4C6",
        "colab_type": "code",
        "colab": {
          "base_uri": "https://localhost:8080/",
          "height": 35
        },
        "outputId": "5afe24ed-51dc-4325-ad15-cfa2268d6c5a"
      },
      "source": [
        "a"
      ],
      "execution_count": 59,
      "outputs": [
        {
          "output_type": "execute_result",
          "data": {
            "text/plain": [
              "[1, 2, 3, 'hello', [4, 5, 6], {'a': 1}]"
            ]
          },
          "metadata": {
            "tags": []
          },
          "execution_count": 59
        }
      ]
    },
    {
      "cell_type": "code",
      "metadata": {
        "id": "uqRQvq-SN4v7",
        "colab_type": "code",
        "colab": {}
      },
      "source": [
        "a = [1,3,5,7,9]\n",
        "b = [2,4,6,8,10]"
      ],
      "execution_count": 60,
      "outputs": []
    },
    {
      "cell_type": "code",
      "metadata": {
        "id": "dbDkOLikOAzr",
        "colab_type": "code",
        "colab": {
          "base_uri": "https://localhost:8080/",
          "height": 104
        },
        "outputId": "3e860ee0-9b92-4b35-c432-41037298c14d"
      },
      "source": [
        "for i in range(len(a)):\n",
        "  #print(i)\n",
        "  print(a[i] * b[i])"
      ],
      "execution_count": 62,
      "outputs": [
        {
          "output_type": "stream",
          "text": [
            "2\n",
            "12\n",
            "30\n",
            "56\n",
            "90\n"
          ],
          "name": "stdout"
        }
      ]
    },
    {
      "cell_type": "code",
      "metadata": {
        "id": "gwHvuxNmOGga",
        "colab_type": "code",
        "colab": {
          "base_uri": "https://localhost:8080/",
          "height": 104
        },
        "outputId": "eca39686-630d-4f63-9108-0f03de62e125"
      },
      "source": [
        "for i,j in zip(a,b):\n",
        "  print(i*j)"
      ],
      "execution_count": 65,
      "outputs": [
        {
          "output_type": "stream",
          "text": [
            "2\n",
            "12\n",
            "30\n",
            "56\n",
            "90\n"
          ],
          "name": "stdout"
        }
      ]
    },
    {
      "cell_type": "code",
      "metadata": {
        "id": "3ymYgbyzOX0a",
        "colab_type": "code",
        "colab": {
          "base_uri": "https://localhost:8080/",
          "height": 167
        },
        "outputId": "ecf80483-df5c-4af7-b3f8-5708007b3a64"
      },
      "source": [
        "a * b"
      ],
      "execution_count": 66,
      "outputs": [
        {
          "output_type": "error",
          "ename": "TypeError",
          "evalue": "ignored",
          "traceback": [
            "\u001b[0;31m---------------------------------------------------------------------------\u001b[0m",
            "\u001b[0;31mTypeError\u001b[0m                                 Traceback (most recent call last)",
            "\u001b[0;32m<ipython-input-66-9bc1a869709f>\u001b[0m in \u001b[0;36m<module>\u001b[0;34m()\u001b[0m\n\u001b[0;32m----> 1\u001b[0;31m \u001b[0ma\u001b[0m \u001b[0;34m*\u001b[0m \u001b[0mb\u001b[0m\u001b[0;34m\u001b[0m\u001b[0;34m\u001b[0m\u001b[0m\n\u001b[0m",
            "\u001b[0;31mTypeError\u001b[0m: can't multiply sequence by non-int of type 'list'"
          ]
        }
      ]
    },
    {
      "cell_type": "code",
      "metadata": {
        "id": "7U6_mZ8oOnFb",
        "colab_type": "code",
        "colab": {
          "base_uri": "https://localhost:8080/",
          "height": 35
        },
        "outputId": "218f2834-a079-430d-a1ae-48b9291314ec"
      },
      "source": [
        "type(a)"
      ],
      "execution_count": 67,
      "outputs": [
        {
          "output_type": "execute_result",
          "data": {
            "text/plain": [
              "list"
            ]
          },
          "metadata": {
            "tags": []
          },
          "execution_count": 67
        }
      ]
    },
    {
      "cell_type": "code",
      "metadata": {
        "id": "iImqELpFO5hM",
        "colab_type": "code",
        "colab": {}
      },
      "source": [
        "import numpy as np\n",
        "na = np.array(a)"
      ],
      "execution_count": 68,
      "outputs": []
    },
    {
      "cell_type": "code",
      "metadata": {
        "id": "T7A39v8DO-f9",
        "colab_type": "code",
        "colab": {
          "base_uri": "https://localhost:8080/",
          "height": 35
        },
        "outputId": "912f8ea1-28c5-4eba-ca70-8dbd32e4de3f"
      },
      "source": [
        "type(na)"
      ],
      "execution_count": 69,
      "outputs": [
        {
          "output_type": "execute_result",
          "data": {
            "text/plain": [
              "numpy.ndarray"
            ]
          },
          "metadata": {
            "tags": []
          },
          "execution_count": 69
        }
      ]
    },
    {
      "cell_type": "code",
      "metadata": {
        "id": "czMRgwESPCGV",
        "colab_type": "code",
        "colab": {
          "base_uri": "https://localhost:8080/",
          "height": 35
        },
        "outputId": "f1e694ee-bb1f-43a4-cc41-c3b559ffe86f"
      },
      "source": [
        "a"
      ],
      "execution_count": 71,
      "outputs": [
        {
          "output_type": "execute_result",
          "data": {
            "text/plain": [
              "[1, 3, 5, 7, 9]"
            ]
          },
          "metadata": {
            "tags": []
          },
          "execution_count": 71
        }
      ]
    },
    {
      "cell_type": "code",
      "metadata": {
        "id": "3HPd-g2aO_0s",
        "colab_type": "code",
        "colab": {
          "base_uri": "https://localhost:8080/",
          "height": 35
        },
        "outputId": "f4c5e71a-7dcf-4ece-e027-0a8915b526d8"
      },
      "source": [
        "na"
      ],
      "execution_count": 70,
      "outputs": [
        {
          "output_type": "execute_result",
          "data": {
            "text/plain": [
              "array([1, 3, 5, 7, 9])"
            ]
          },
          "metadata": {
            "tags": []
          },
          "execution_count": 70
        }
      ]
    },
    {
      "cell_type": "code",
      "metadata": {
        "id": "3V4rZkHTPBFN",
        "colab_type": "code",
        "colab": {
          "base_uri": "https://localhost:8080/",
          "height": 35
        },
        "outputId": "817b56f8-aa8b-46f1-b09b-15a2b95c827e"
      },
      "source": [
        "na = np.array(a)\n",
        "nb = np.array(b)\n",
        "na * nb"
      ],
      "execution_count": 72,
      "outputs": [
        {
          "output_type": "execute_result",
          "data": {
            "text/plain": [
              "array([ 2, 12, 30, 56, 90])"
            ]
          },
          "metadata": {
            "tags": []
          },
          "execution_count": 72
        }
      ]
    },
    {
      "cell_type": "code",
      "metadata": {
        "id": "g_T-tqVxPJm8",
        "colab_type": "code",
        "colab": {}
      },
      "source": [
        "import numpy as np\n",
        "my_list = [1,2,3]\n",
        "na_list = np.array(my_list)"
      ],
      "execution_count": 75,
      "outputs": []
    },
    {
      "cell_type": "code",
      "metadata": {
        "id": "L5SPTlQuPlhu",
        "colab_type": "code",
        "colab": {
          "base_uri": "https://localhost:8080/",
          "height": 35
        },
        "outputId": "65596634-ae79-4d3f-aaa2-ffd51d05066c"
      },
      "source": [
        "na_list * 3"
      ],
      "execution_count": 77,
      "outputs": [
        {
          "output_type": "execute_result",
          "data": {
            "text/plain": [
              "array([3, 6, 9])"
            ]
          },
          "metadata": {
            "tags": []
          },
          "execution_count": 77
        }
      ]
    },
    {
      "cell_type": "code",
      "metadata": {
        "id": "rAMO3whnPoB3",
        "colab_type": "code",
        "colab": {
          "base_uri": "https://localhost:8080/",
          "height": 35
        },
        "outputId": "69559759-1fbf-4634-f58e-1d38635bf04a"
      },
      "source": [
        "np.sqrt(na_list)"
      ],
      "execution_count": 78,
      "outputs": [
        {
          "output_type": "execute_result",
          "data": {
            "text/plain": [
              "array([1.        , 1.41421356, 1.73205081])"
            ]
          },
          "metadata": {
            "tags": []
          },
          "execution_count": 78
        }
      ]
    },
    {
      "cell_type": "code",
      "metadata": {
        "id": "PVirrO-TPakB",
        "colab_type": "code",
        "colab": {}
      },
      "source": [
        "my_matrix =[[1,2,3],[4,5,6],[7,8,9]]\n",
        "m = np.array(my_matrix)"
      ],
      "execution_count": 80,
      "outputs": []
    },
    {
      "cell_type": "code",
      "metadata": {
        "id": "Z31Gd7LVPffd",
        "colab_type": "code",
        "colab": {
          "base_uri": "https://localhost:8080/",
          "height": 69
        },
        "outputId": "e798fb28-ff30-40ce-ca80-15c157768e68"
      },
      "source": [
        "-1 * m "
      ],
      "execution_count": 81,
      "outputs": [
        {
          "output_type": "execute_result",
          "data": {
            "text/plain": [
              "array([[-1, -2, -3],\n",
              "       [-4, -5, -6],\n",
              "       [-7, -8, -9]])"
            ]
          },
          "metadata": {
            "tags": []
          },
          "execution_count": 81
        }
      ]
    },
    {
      "cell_type": "code",
      "metadata": {
        "id": "PAsutsfMPyqv",
        "colab_type": "code",
        "colab": {
          "base_uri": "https://localhost:8080/",
          "height": 35
        },
        "outputId": "d53689e4-79cc-429e-9fee-a07ff48f0992"
      },
      "source": [
        "np.arange(0,10)"
      ],
      "execution_count": 82,
      "outputs": [
        {
          "output_type": "execute_result",
          "data": {
            "text/plain": [
              "array([0, 1, 2, 3, 4, 5, 6, 7, 8, 9])"
            ]
          },
          "metadata": {
            "tags": []
          },
          "execution_count": 82
        }
      ]
    },
    {
      "cell_type": "code",
      "metadata": {
        "id": "9j2sCLXFP6Me",
        "colab_type": "code",
        "colab": {
          "base_uri": "https://localhost:8080/",
          "height": 35
        },
        "outputId": "1db86833-8a98-4c36-ba7f-881b89bfa314"
      },
      "source": [
        "np.arange(0,11,2)"
      ],
      "execution_count": 83,
      "outputs": [
        {
          "output_type": "execute_result",
          "data": {
            "text/plain": [
              "array([ 0,  2,  4,  6,  8, 10])"
            ]
          },
          "metadata": {
            "tags": []
          },
          "execution_count": 83
        }
      ]
    },
    {
      "cell_type": "code",
      "metadata": {
        "id": "c2fzVVgGP72-",
        "colab_type": "code",
        "colab": {
          "base_uri": "https://localhost:8080/",
          "height": 35
        },
        "outputId": "9ea4dea9-da52-45af-c6ca-6eeded35e342"
      },
      "source": [
        "np.zeros(3)"
      ],
      "execution_count": 84,
      "outputs": [
        {
          "output_type": "execute_result",
          "data": {
            "text/plain": [
              "array([0., 0., 0.])"
            ]
          },
          "metadata": {
            "tags": []
          },
          "execution_count": 84
        }
      ]
    },
    {
      "cell_type": "code",
      "metadata": {
        "id": "Y-SlIN51P-Pe",
        "colab_type": "code",
        "colab": {
          "base_uri": "https://localhost:8080/",
          "height": 104
        },
        "outputId": "f3468913-c0a8-4e79-bdf4-6ed84a691254"
      },
      "source": [
        "np.zeros((5,5))"
      ],
      "execution_count": 85,
      "outputs": [
        {
          "output_type": "execute_result",
          "data": {
            "text/plain": [
              "array([[0., 0., 0., 0., 0.],\n",
              "       [0., 0., 0., 0., 0.],\n",
              "       [0., 0., 0., 0., 0.],\n",
              "       [0., 0., 0., 0., 0.],\n",
              "       [0., 0., 0., 0., 0.]])"
            ]
          },
          "metadata": {
            "tags": []
          },
          "execution_count": 85
        }
      ]
    },
    {
      "cell_type": "code",
      "metadata": {
        "id": "hJwp9LbGP_cR",
        "colab_type": "code",
        "colab": {
          "base_uri": "https://localhost:8080/",
          "height": 104
        },
        "outputId": "42171937-fa02-4283-afc0-8a796cbdfd5a"
      },
      "source": [
        "np.ones((5,5))"
      ],
      "execution_count": 86,
      "outputs": [
        {
          "output_type": "execute_result",
          "data": {
            "text/plain": [
              "array([[1., 1., 1., 1., 1.],\n",
              "       [1., 1., 1., 1., 1.],\n",
              "       [1., 1., 1., 1., 1.],\n",
              "       [1., 1., 1., 1., 1.],\n",
              "       [1., 1., 1., 1., 1.]])"
            ]
          },
          "metadata": {
            "tags": []
          },
          "execution_count": 86
        }
      ]
    },
    {
      "cell_type": "code",
      "metadata": {
        "id": "tNXyRWkxQAj-",
        "colab_type": "code",
        "colab": {
          "base_uri": "https://localhost:8080/",
          "height": 35
        },
        "outputId": "7b5f0022-a483-4300-a7da-b9c5fb4892a6"
      },
      "source": [
        "np.random.randint(1,42,6)"
      ],
      "execution_count": 87,
      "outputs": [
        {
          "output_type": "execute_result",
          "data": {
            "text/plain": [
              "array([26,  8, 20, 29,  4, 30])"
            ]
          },
          "metadata": {
            "tags": []
          },
          "execution_count": 87
        }
      ]
    },
    {
      "cell_type": "code",
      "metadata": {
        "id": "W3Suq-6aQH9Q",
        "colab_type": "code",
        "colab": {}
      },
      "source": [
        "arr = np.arange(25)"
      ],
      "execution_count": 88,
      "outputs": []
    },
    {
      "cell_type": "code",
      "metadata": {
        "id": "L5H42JNaQNwu",
        "colab_type": "code",
        "colab": {
          "base_uri": "https://localhost:8080/",
          "height": 52
        },
        "outputId": "30a9aa94-6eaa-4088-8861-fb0936bd7d79"
      },
      "source": [
        "arr"
      ],
      "execution_count": 89,
      "outputs": [
        {
          "output_type": "execute_result",
          "data": {
            "text/plain": [
              "array([ 0,  1,  2,  3,  4,  5,  6,  7,  8,  9, 10, 11, 12, 13, 14, 15, 16,\n",
              "       17, 18, 19, 20, 21, 22, 23, 24])"
            ]
          },
          "metadata": {
            "tags": []
          },
          "execution_count": 89
        }
      ]
    },
    {
      "cell_type": "code",
      "metadata": {
        "id": "1jUdV6xeQOTf",
        "colab_type": "code",
        "colab": {
          "base_uri": "https://localhost:8080/",
          "height": 35
        },
        "outputId": "7543202c-4c9a-430a-d285-559dc8d0d24d"
      },
      "source": [
        "arr.shape"
      ],
      "execution_count": 90,
      "outputs": [
        {
          "output_type": "execute_result",
          "data": {
            "text/plain": [
              "(25,)"
            ]
          },
          "metadata": {
            "tags": []
          },
          "execution_count": 90
        }
      ]
    },
    {
      "cell_type": "code",
      "metadata": {
        "id": "yVCbjMQoQRrf",
        "colab_type": "code",
        "colab": {
          "base_uri": "https://localhost:8080/",
          "height": 104
        },
        "outputId": "a1045391-ee38-4480-a26e-28fdcc05d9e7"
      },
      "source": [
        "arr.reshape(5,5)"
      ],
      "execution_count": 91,
      "outputs": [
        {
          "output_type": "execute_result",
          "data": {
            "text/plain": [
              "array([[ 0,  1,  2,  3,  4],\n",
              "       [ 5,  6,  7,  8,  9],\n",
              "       [10, 11, 12, 13, 14],\n",
              "       [15, 16, 17, 18, 19],\n",
              "       [20, 21, 22, 23, 24]])"
            ]
          },
          "metadata": {
            "tags": []
          },
          "execution_count": 91
        }
      ]
    },
    {
      "cell_type": "code",
      "metadata": {
        "id": "m9kTSpfzQUuA",
        "colab_type": "code",
        "colab": {
          "base_uri": "https://localhost:8080/",
          "height": 35
        },
        "outputId": "2b139779-d729-4eb5-bf6d-b571bf46d70d"
      },
      "source": [
        "a = np.array([70,60,43,66,82,90,53,95,88])\n",
        "a.max()"
      ],
      "execution_count": 93,
      "outputs": [
        {
          "output_type": "execute_result",
          "data": {
            "text/plain": [
              "95"
            ]
          },
          "metadata": {
            "tags": []
          },
          "execution_count": 93
        }
      ]
    },
    {
      "cell_type": "code",
      "metadata": {
        "id": "TmsMiuT7QY8P",
        "colab_type": "code",
        "colab": {
          "base_uri": "https://localhost:8080/",
          "height": 35
        },
        "outputId": "37b633a4-4de3-4799-8147-070579d8c46a"
      },
      "source": [
        "a.min()"
      ],
      "execution_count": 94,
      "outputs": [
        {
          "output_type": "execute_result",
          "data": {
            "text/plain": [
              "43"
            ]
          },
          "metadata": {
            "tags": []
          },
          "execution_count": 94
        }
      ]
    },
    {
      "cell_type": "code",
      "metadata": {
        "id": "Jp4mdMdgQjTQ",
        "colab_type": "code",
        "colab": {
          "base_uri": "https://localhost:8080/",
          "height": 35
        },
        "outputId": "86339b3e-84c2-40b3-999f-cd7cfa991f34"
      },
      "source": [
        "a.argmax()"
      ],
      "execution_count": 95,
      "outputs": [
        {
          "output_type": "execute_result",
          "data": {
            "text/plain": [
              "7"
            ]
          },
          "metadata": {
            "tags": []
          },
          "execution_count": 95
        }
      ]
    },
    {
      "cell_type": "code",
      "metadata": {
        "id": "jCQ2xkLUQkJA",
        "colab_type": "code",
        "colab": {
          "base_uri": "https://localhost:8080/",
          "height": 35
        },
        "outputId": "78633f9a-bfd7-47b9-b79b-e18ade47a590"
      },
      "source": [
        "a.argmin()"
      ],
      "execution_count": 96,
      "outputs": [
        {
          "output_type": "execute_result",
          "data": {
            "text/plain": [
              "2"
            ]
          },
          "metadata": {
            "tags": []
          },
          "execution_count": 96
        }
      ]
    },
    {
      "cell_type": "code",
      "metadata": {
        "id": "nlljARCkQoMO",
        "colab_type": "code",
        "colab": {}
      },
      "source": [
        "x = np.array([20,30,10,50,40])\n",
        "w = np.random.randn(5,7)\n",
        "o1 = np.dot(x,w)\n",
        "w1 = np.random.randn(7,4)\n",
        "o2 = np.dot(o1,w1)"
      ],
      "execution_count": 100,
      "outputs": []
    },
    {
      "cell_type": "code",
      "metadata": {
        "id": "W-RpsUrmRSu_",
        "colab_type": "code",
        "colab": {
          "base_uri": "https://localhost:8080/",
          "height": 35
        },
        "outputId": "81ac93dc-03f7-4eb9-ba47-c7a08d72f5e0"
      },
      "source": [
        "o2"
      ],
      "execution_count": 101,
      "outputs": [
        {
          "output_type": "execute_result",
          "data": {
            "text/plain": [
              "array([  97.25084349,   47.7397188 , -100.92377224,  -41.63147988])"
            ]
          },
          "metadata": {
            "tags": []
          },
          "execution_count": 101
        }
      ]
    },
    {
      "cell_type": "code",
      "metadata": {
        "id": "xjXQsCnmRgbQ",
        "colab_type": "code",
        "colab": {}
      },
      "source": [
        "arr = np.arange(0,11)"
      ],
      "execution_count": 102,
      "outputs": []
    },
    {
      "cell_type": "code",
      "metadata": {
        "id": "Fgasb2ViRw8x",
        "colab_type": "code",
        "colab": {
          "base_uri": "https://localhost:8080/",
          "height": 35
        },
        "outputId": "8287f0d9-26fe-4bd6-d3d3-28f65903b90c"
      },
      "source": [
        "arr"
      ],
      "execution_count": 104,
      "outputs": [
        {
          "output_type": "execute_result",
          "data": {
            "text/plain": [
              "array([ 0,  1,  2,  3,  4,  5,  6,  7,  8,  9, 10])"
            ]
          },
          "metadata": {
            "tags": []
          },
          "execution_count": 104
        }
      ]
    },
    {
      "cell_type": "code",
      "metadata": {
        "id": "K6-LDYBARxXk",
        "colab_type": "code",
        "colab": {
          "base_uri": "https://localhost:8080/",
          "height": 35
        },
        "outputId": "59d84483-b484-4c8e-fe38-2b4f4d5c88eb"
      },
      "source": [
        "arr[8]"
      ],
      "execution_count": 105,
      "outputs": [
        {
          "output_type": "execute_result",
          "data": {
            "text/plain": [
              "8"
            ]
          },
          "metadata": {
            "tags": []
          },
          "execution_count": 105
        }
      ]
    },
    {
      "cell_type": "code",
      "metadata": {
        "id": "lE4aYEiCR1PQ",
        "colab_type": "code",
        "colab": {
          "base_uri": "https://localhost:8080/",
          "height": 35
        },
        "outputId": "82c86e03-517c-4d7d-e959-102de7a8103c"
      },
      "source": [
        "arr[1:5]"
      ],
      "execution_count": 106,
      "outputs": [
        {
          "output_type": "execute_result",
          "data": {
            "text/plain": [
              "array([1, 2, 3, 4])"
            ]
          },
          "metadata": {
            "tags": []
          },
          "execution_count": 106
        }
      ]
    },
    {
      "cell_type": "code",
      "metadata": {
        "id": "86mh8fbBR3Jh",
        "colab_type": "code",
        "colab": {}
      },
      "source": [
        "arr = np.arange(0,11)"
      ],
      "execution_count": 107,
      "outputs": []
    },
    {
      "cell_type": "code",
      "metadata": {
        "id": "GUvTaYsnR53R",
        "colab_type": "code",
        "colab": {}
      },
      "source": [
        "slice_of_arr = arr[0:6]"
      ],
      "execution_count": 108,
      "outputs": []
    },
    {
      "cell_type": "code",
      "metadata": {
        "id": "aZUPpuliR7cS",
        "colab_type": "code",
        "colab": {
          "base_uri": "https://localhost:8080/",
          "height": 35
        },
        "outputId": "c9b83b86-a9e0-4b66-a58b-e38dc3cfbfd9"
      },
      "source": [
        "slice_of_arr"
      ],
      "execution_count": 109,
      "outputs": [
        {
          "output_type": "execute_result",
          "data": {
            "text/plain": [
              "array([0, 1, 2, 3, 4, 5])"
            ]
          },
          "metadata": {
            "tags": []
          },
          "execution_count": 109
        }
      ]
    },
    {
      "cell_type": "code",
      "metadata": {
        "id": "FfKH5ACWR8NR",
        "colab_type": "code",
        "colab": {}
      },
      "source": [
        "slice_of_arr[:]=99"
      ],
      "execution_count": 110,
      "outputs": []
    },
    {
      "cell_type": "code",
      "metadata": {
        "id": "za508xE9R-bQ",
        "colab_type": "code",
        "colab": {
          "base_uri": "https://localhost:8080/",
          "height": 35
        },
        "outputId": "b602a276-9553-44aa-abef-147967d049bb"
      },
      "source": [
        "arr"
      ],
      "execution_count": 111,
      "outputs": [
        {
          "output_type": "execute_result",
          "data": {
            "text/plain": [
              "array([99, 99, 99, 99, 99, 99,  6,  7,  8,  9, 10])"
            ]
          },
          "metadata": {
            "tags": []
          },
          "execution_count": 111
        }
      ]
    },
    {
      "cell_type": "code",
      "metadata": {
        "id": "LSOzGGDQSAvR",
        "colab_type": "code",
        "colab": {}
      },
      "source": [
        "arr_2d = np.array(([5,10,15],[20,25,30],[35,40,45]))"
      ],
      "execution_count": 112,
      "outputs": []
    },
    {
      "cell_type": "code",
      "metadata": {
        "id": "SxIPPM0WSEPT",
        "colab_type": "code",
        "colab": {
          "base_uri": "https://localhost:8080/",
          "height": 69
        },
        "outputId": "6dee34b6-db46-4040-ae81-5d46f689c471"
      },
      "source": [
        "arr_2d"
      ],
      "execution_count": 113,
      "outputs": [
        {
          "output_type": "execute_result",
          "data": {
            "text/plain": [
              "array([[ 5, 10, 15],\n",
              "       [20, 25, 30],\n",
              "       [35, 40, 45]])"
            ]
          },
          "metadata": {
            "tags": []
          },
          "execution_count": 113
        }
      ]
    },
    {
      "cell_type": "code",
      "metadata": {
        "id": "acFXhJDuSGIx",
        "colab_type": "code",
        "colab": {
          "base_uri": "https://localhost:8080/",
          "height": 35
        },
        "outputId": "cb85aa3c-9f46-4804-c878-6e48f93899b3"
      },
      "source": [
        "arr_2d[1]"
      ],
      "execution_count": 115,
      "outputs": [
        {
          "output_type": "execute_result",
          "data": {
            "text/plain": [
              "array([20, 25, 30])"
            ]
          },
          "metadata": {
            "tags": []
          },
          "execution_count": 115
        }
      ]
    },
    {
      "cell_type": "code",
      "metadata": {
        "id": "Whe4Q2DxSHtC",
        "colab_type": "code",
        "colab": {
          "base_uri": "https://localhost:8080/",
          "height": 35
        },
        "outputId": "1c7b280f-a720-4921-f378-1911ffe2cd70"
      },
      "source": [
        "arr_2d[1][0]"
      ],
      "execution_count": 116,
      "outputs": [
        {
          "output_type": "execute_result",
          "data": {
            "text/plain": [
              "20"
            ]
          },
          "metadata": {
            "tags": []
          },
          "execution_count": 116
        }
      ]
    },
    {
      "cell_type": "code",
      "metadata": {
        "id": "zB2UNCsjSNux",
        "colab_type": "code",
        "colab": {
          "base_uri": "https://localhost:8080/",
          "height": 35
        },
        "outputId": "d44230f8-e8d6-472f-b05d-590c8282de08"
      },
      "source": [
        "arr_2d[1,0]"
      ],
      "execution_count": 117,
      "outputs": [
        {
          "output_type": "execute_result",
          "data": {
            "text/plain": [
              "20"
            ]
          },
          "metadata": {
            "tags": []
          },
          "execution_count": 117
        }
      ]
    },
    {
      "cell_type": "code",
      "metadata": {
        "id": "KhPTYQbxSQdz",
        "colab_type": "code",
        "colab": {
          "base_uri": "https://localhost:8080/",
          "height": 35
        },
        "outputId": "f4231286-2f20-4cb9-b902-53e4979c1b34"
      },
      "source": [
        "arr_2d[2]"
      ],
      "execution_count": 118,
      "outputs": [
        {
          "output_type": "execute_result",
          "data": {
            "text/plain": [
              "array([35, 40, 45])"
            ]
          },
          "metadata": {
            "tags": []
          },
          "execution_count": 118
        }
      ]
    },
    {
      "cell_type": "code",
      "metadata": {
        "id": "rJJpKcGASTLh",
        "colab_type": "code",
        "colab": {
          "base_uri": "https://localhost:8080/",
          "height": 35
        },
        "outputId": "7248fbac-c664-4350-c9d8-230f9f049976"
      },
      "source": [
        "#[列,欄]\n",
        "arr_2d[2,:]"
      ],
      "execution_count": 119,
      "outputs": [
        {
          "output_type": "execute_result",
          "data": {
            "text/plain": [
              "array([35, 40, 45])"
            ]
          },
          "metadata": {
            "tags": []
          },
          "execution_count": 119
        }
      ]
    },
    {
      "cell_type": "code",
      "metadata": {
        "id": "9EQSg-PkSYsi",
        "colab_type": "code",
        "colab": {}
      },
      "source": [
        "arr = np.arange(1,11)"
      ],
      "execution_count": 121,
      "outputs": []
    },
    {
      "cell_type": "code",
      "metadata": {
        "id": "mbQr3XNqSc3y",
        "colab_type": "code",
        "colab": {
          "base_uri": "https://localhost:8080/",
          "height": 35
        },
        "outputId": "ab637fd5-b628-4fb4-9504-e6ed4447cf81"
      },
      "source": [
        "arr"
      ],
      "execution_count": 122,
      "outputs": [
        {
          "output_type": "execute_result",
          "data": {
            "text/plain": [
              "array([ 1,  2,  3,  4,  5,  6,  7,  8,  9, 10])"
            ]
          },
          "metadata": {
            "tags": []
          },
          "execution_count": 122
        }
      ]
    },
    {
      "cell_type": "code",
      "metadata": {
        "id": "RtV_qP1eSfLj",
        "colab_type": "code",
        "colab": {
          "base_uri": "https://localhost:8080/",
          "height": 52
        },
        "outputId": "2939da44-68eb-42ff-d12e-6c0f2b5e6849"
      },
      "source": [
        "arr > 4"
      ],
      "execution_count": 124,
      "outputs": [
        {
          "output_type": "execute_result",
          "data": {
            "text/plain": [
              "array([False, False, False, False,  True,  True,  True,  True,  True,\n",
              "        True])"
            ]
          },
          "metadata": {
            "tags": []
          },
          "execution_count": 124
        }
      ]
    },
    {
      "cell_type": "code",
      "metadata": {
        "id": "YjaONWzpSi2i",
        "colab_type": "code",
        "colab": {}
      },
      "source": [
        "bool_ary = arr > 4"
      ],
      "execution_count": 125,
      "outputs": []
    },
    {
      "cell_type": "code",
      "metadata": {
        "id": "FnXEbRI6SnqD",
        "colab_type": "code",
        "colab": {
          "base_uri": "https://localhost:8080/",
          "height": 35
        },
        "outputId": "3d6f49a2-ea03-4025-8124-cfd6155c7316"
      },
      "source": [
        "arr[bool_ary]"
      ],
      "execution_count": 127,
      "outputs": [
        {
          "output_type": "execute_result",
          "data": {
            "text/plain": [
              "array([ 5,  6,  7,  8,  9, 10])"
            ]
          },
          "metadata": {
            "tags": []
          },
          "execution_count": 127
        }
      ]
    },
    {
      "cell_type": "code",
      "metadata": {
        "id": "vOsL6yVNSrMD",
        "colab_type": "code",
        "colab": {}
      },
      "source": [
        "arr = np.arange(0,10)"
      ],
      "execution_count": 128,
      "outputs": []
    },
    {
      "cell_type": "code",
      "metadata": {
        "id": "dUg4KygGS6XT",
        "colab_type": "code",
        "colab": {
          "base_uri": "https://localhost:8080/",
          "height": 35
        },
        "outputId": "cfb7585d-4017-4b9b-a1d9-2f9965f25560"
      },
      "source": [
        "arr + arr"
      ],
      "execution_count": 129,
      "outputs": [
        {
          "output_type": "execute_result",
          "data": {
            "text/plain": [
              "array([ 0,  2,  4,  6,  8, 10, 12, 14, 16, 18])"
            ]
          },
          "metadata": {
            "tags": []
          },
          "execution_count": 129
        }
      ]
    },
    {
      "cell_type": "code",
      "metadata": {
        "id": "WChG7-FIS7Uk",
        "colab_type": "code",
        "colab": {
          "base_uri": "https://localhost:8080/",
          "height": 35
        },
        "outputId": "6fa49968-50af-44ac-bba3-d3adff837374"
      },
      "source": [
        "arr - arr"
      ],
      "execution_count": 130,
      "outputs": [
        {
          "output_type": "execute_result",
          "data": {
            "text/plain": [
              "array([0, 0, 0, 0, 0, 0, 0, 0, 0, 0])"
            ]
          },
          "metadata": {
            "tags": []
          },
          "execution_count": 130
        }
      ]
    },
    {
      "cell_type": "code",
      "metadata": {
        "id": "EVsPvNllS8NE",
        "colab_type": "code",
        "colab": {
          "base_uri": "https://localhost:8080/",
          "height": 35
        },
        "outputId": "93e2548b-ed7f-44cc-acbf-d86640c06231"
      },
      "source": [
        "arr * arr"
      ],
      "execution_count": 131,
      "outputs": [
        {
          "output_type": "execute_result",
          "data": {
            "text/plain": [
              "array([ 0,  1,  4,  9, 16, 25, 36, 49, 64, 81])"
            ]
          },
          "metadata": {
            "tags": []
          },
          "execution_count": 131
        }
      ]
    },
    {
      "cell_type": "code",
      "metadata": {
        "id": "2C1YJGQrS8_S",
        "colab_type": "code",
        "colab": {
          "base_uri": "https://localhost:8080/",
          "height": 89
        },
        "outputId": "893e0bc1-b307-45db-bedc-e22ac9813b95"
      },
      "source": [
        "arr / arr"
      ],
      "execution_count": 132,
      "outputs": [
        {
          "output_type": "stream",
          "text": [
            "/usr/local/lib/python3.6/dist-packages/ipykernel_launcher.py:1: RuntimeWarning: invalid value encountered in true_divide\n",
            "  \"\"\"Entry point for launching an IPython kernel.\n"
          ],
          "name": "stderr"
        },
        {
          "output_type": "execute_result",
          "data": {
            "text/plain": [
              "array([nan,  1.,  1.,  1.,  1.,  1.,  1.,  1.,  1.,  1.])"
            ]
          },
          "metadata": {
            "tags": []
          },
          "execution_count": 132
        }
      ]
    },
    {
      "cell_type": "code",
      "metadata": {
        "id": "iUOzXLKvTAzO",
        "colab_type": "code",
        "colab": {}
      },
      "source": [
        "# nan => not a number, (missing value)"
      ],
      "execution_count": null,
      "outputs": []
    },
    {
      "cell_type": "code",
      "metadata": {
        "id": "Lo7myXeiS-n1",
        "colab_type": "code",
        "colab": {
          "base_uri": "https://localhost:8080/",
          "height": 107
        },
        "outputId": "e3697223-ba42-4ceb-99e2-dba47bb7d986"
      },
      "source": [
        "# inf => infiinity\n",
        "1/arr"
      ],
      "execution_count": 135,
      "outputs": [
        {
          "output_type": "stream",
          "text": [
            "/usr/local/lib/python3.6/dist-packages/ipykernel_launcher.py:2: RuntimeWarning: divide by zero encountered in true_divide\n",
            "  \n"
          ],
          "name": "stderr"
        },
        {
          "output_type": "execute_result",
          "data": {
            "text/plain": [
              "array([       inf, 1.        , 0.5       , 0.33333333, 0.25      ,\n",
              "       0.2       , 0.16666667, 0.14285714, 0.125     , 0.11111111])"
            ]
          },
          "metadata": {
            "tags": []
          },
          "execution_count": 135
        }
      ]
    },
    {
      "cell_type": "code",
      "metadata": {
        "id": "b-cIYuayTHMi",
        "colab_type": "code",
        "colab": {
          "base_uri": "https://localhost:8080/",
          "height": 35
        },
        "outputId": "e362d28e-dddd-452c-996b-fb379af38f4c"
      },
      "source": [
        "arr ** 3"
      ],
      "execution_count": 134,
      "outputs": [
        {
          "output_type": "execute_result",
          "data": {
            "text/plain": [
              "array([  0,   1,   8,  27,  64, 125, 216, 343, 512, 729])"
            ]
          },
          "metadata": {
            "tags": []
          },
          "execution_count": 134
        }
      ]
    },
    {
      "cell_type": "code",
      "metadata": {
        "id": "R-ZPsIYTTIRk",
        "colab_type": "code",
        "colab": {
          "base_uri": "https://localhost:8080/",
          "height": 52
        },
        "outputId": "7de62607-04e1-42f8-ed79-e89bebd85726"
      },
      "source": [
        "np.sqrt(arr)"
      ],
      "execution_count": 136,
      "outputs": [
        {
          "output_type": "execute_result",
          "data": {
            "text/plain": [
              "array([0.        , 1.        , 1.41421356, 1.73205081, 2.        ,\n",
              "       2.23606798, 2.44948974, 2.64575131, 2.82842712, 3.        ])"
            ]
          },
          "metadata": {
            "tags": []
          },
          "execution_count": 136
        }
      ]
    },
    {
      "cell_type": "code",
      "metadata": {
        "id": "4G0FscqfTSmz",
        "colab_type": "code",
        "colab": {
          "base_uri": "https://localhost:8080/",
          "height": 69
        },
        "outputId": "2a39f742-4469-4367-b880-0d98942e7183"
      },
      "source": [
        "np.exp(arr)\n"
      ],
      "execution_count": 137,
      "outputs": [
        {
          "output_type": "execute_result",
          "data": {
            "text/plain": [
              "array([1.00000000e+00, 2.71828183e+00, 7.38905610e+00, 2.00855369e+01,\n",
              "       5.45981500e+01, 1.48413159e+02, 4.03428793e+02, 1.09663316e+03,\n",
              "       2.98095799e+03, 8.10308393e+03])"
            ]
          },
          "metadata": {
            "tags": []
          },
          "execution_count": 137
        }
      ]
    },
    {
      "cell_type": "code",
      "metadata": {
        "id": "Z7_kkHNfTTuE",
        "colab_type": "code",
        "colab": {
          "base_uri": "https://localhost:8080/",
          "height": 35
        },
        "outputId": "800084cc-2cc2-4997-fe4b-35cc8483e51e"
      },
      "source": [
        "np.max(arr)\n"
      ],
      "execution_count": 138,
      "outputs": [
        {
          "output_type": "execute_result",
          "data": {
            "text/plain": [
              "9"
            ]
          },
          "metadata": {
            "tags": []
          },
          "execution_count": 138
        }
      ]
    },
    {
      "cell_type": "code",
      "metadata": {
        "id": "M8Aj7TOLTUsT",
        "colab_type": "code",
        "colab": {
          "base_uri": "https://localhost:8080/",
          "height": 52
        },
        "outputId": "436e7601-1488-4cc6-a3cb-e9ad95106230"
      },
      "source": [
        "np.sin(arr)\n"
      ],
      "execution_count": 139,
      "outputs": [
        {
          "output_type": "execute_result",
          "data": {
            "text/plain": [
              "array([ 0.        ,  0.84147098,  0.90929743,  0.14112001, -0.7568025 ,\n",
              "       -0.95892427, -0.2794155 ,  0.6569866 ,  0.98935825,  0.41211849])"
            ]
          },
          "metadata": {
            "tags": []
          },
          "execution_count": 139
        }
      ]
    },
    {
      "cell_type": "code",
      "metadata": {
        "id": "Sn6gvMt8TVlE",
        "colab_type": "code",
        "colab": {
          "base_uri": "https://localhost:8080/",
          "height": 107
        },
        "outputId": "3601a574-5661-4e88-9ebd-4db0a8974188"
      },
      "source": [
        "np.log(arr)"
      ],
      "execution_count": 140,
      "outputs": [
        {
          "output_type": "stream",
          "text": [
            "/usr/local/lib/python3.6/dist-packages/ipykernel_launcher.py:1: RuntimeWarning: divide by zero encountered in log\n",
            "  \"\"\"Entry point for launching an IPython kernel.\n"
          ],
          "name": "stderr"
        },
        {
          "output_type": "execute_result",
          "data": {
            "text/plain": [
              "array([      -inf, 0.        , 0.69314718, 1.09861229, 1.38629436,\n",
              "       1.60943791, 1.79175947, 1.94591015, 2.07944154, 2.19722458])"
            ]
          },
          "metadata": {
            "tags": []
          },
          "execution_count": 140
        }
      ]
    },
    {
      "cell_type": "markdown",
      "metadata": {
        "id": "jC6tqrQVTeqW",
        "colab_type": "text"
      },
      "source": [
        "### Practice\n",
        "今天有三個學生, David, John, Mary, 她們考的兩次考試成績, 分別為 David: 90, 80,\n",
        "John: 77, 65, Mary:88,95\n",
        "請將這三人的考試成績表示成 2維的numpy array\n",
        "(列:人, 欄: 考試次數)\n",
        "\n",
        "今天老師給的加權分數為第一次考試為40%, 第二次考試為60%, 請利用該加權分數, 計算他們三人的最後總分?\n"
      ]
    },
    {
      "cell_type": "code",
      "metadata": {
        "id": "OSg-ChxVTWYD",
        "colab_type": "code",
        "colab": {}
      },
      "source": [
        "import numpy as np\n",
        "student_score = np.array([\n",
        "  [90,  80],\n",
        "  [77,  65],\n",
        "  [88,  95]\n",
        "])"
      ],
      "execution_count": 141,
      "outputs": []
    },
    {
      "cell_type": "code",
      "metadata": {
        "id": "jwa0rDF2Yzes",
        "colab_type": "code",
        "colab": {
          "base_uri": "https://localhost:8080/",
          "height": 69
        },
        "outputId": "469c15c0-3b1b-4254-c059-7697cc65613d"
      },
      "source": [
        "student_score"
      ],
      "execution_count": 142,
      "outputs": [
        {
          "output_type": "execute_result",
          "data": {
            "text/plain": [
              "array([[90, 80],\n",
              "       [77, 65],\n",
              "       [88, 95]])"
            ]
          },
          "metadata": {
            "tags": []
          },
          "execution_count": 142
        }
      ]
    },
    {
      "cell_type": "code",
      "metadata": {
        "id": "B8TzD4rXY0mK",
        "colab_type": "code",
        "colab": {
          "base_uri": "https://localhost:8080/",
          "height": 35
        },
        "outputId": "b80aa6c4-3d38-4db9-dfdd-da36b5a3fc35"
      },
      "source": [
        "student_score.shape"
      ],
      "execution_count": 143,
      "outputs": [
        {
          "output_type": "execute_result",
          "data": {
            "text/plain": [
              "(3, 2)"
            ]
          },
          "metadata": {
            "tags": []
          },
          "execution_count": 143
        }
      ]
    },
    {
      "cell_type": "code",
      "metadata": {
        "id": "eZ-pbeeLY3kr",
        "colab_type": "code",
        "colab": {
          "base_uri": "https://localhost:8080/",
          "height": 35
        },
        "outputId": "065770e8-ca2d-4abe-ba3b-bf0b80a87eb5"
      },
      "source": [
        "student_score[:,0] * 0.4 + student_score[:,1] * 0.6"
      ],
      "execution_count": 146,
      "outputs": [
        {
          "output_type": "execute_result",
          "data": {
            "text/plain": [
              "array([84. , 69.8, 92.2])"
            ]
          },
          "metadata": {
            "tags": []
          },
          "execution_count": 146
        }
      ]
    },
    {
      "cell_type": "code",
      "metadata": {
        "id": "Ap3qYoVuY-Sc",
        "colab_type": "code",
        "colab": {
          "base_uri": "https://localhost:8080/",
          "height": 52
        },
        "outputId": "452407a0-210f-434c-f56b-55fd082d31df"
      },
      "source": [
        "w =np.array([[0.4],[0.6]])\n",
        "w\n"
      ],
      "execution_count": 147,
      "outputs": [
        {
          "output_type": "execute_result",
          "data": {
            "text/plain": [
              "array([[0.4],\n",
              "       [0.6]])"
            ]
          },
          "metadata": {
            "tags": []
          },
          "execution_count": 147
        }
      ]
    },
    {
      "cell_type": "code",
      "metadata": {
        "id": "RpjRhOScZOVs",
        "colab_type": "code",
        "colab": {
          "base_uri": "https://localhost:8080/",
          "height": 69
        },
        "outputId": "3483ba94-e302-47af-a274-5573e38b0f31"
      },
      "source": [
        "np.dot(student_score, w)"
      ],
      "execution_count": 148,
      "outputs": [
        {
          "output_type": "execute_result",
          "data": {
            "text/plain": [
              "array([[84. ],\n",
              "       [69.8],\n",
              "       [92.2]])"
            ]
          },
          "metadata": {
            "tags": []
          },
          "execution_count": 148
        }
      ]
    },
    {
      "cell_type": "code",
      "metadata": {
        "id": "AhPZX73RZR2s",
        "colab_type": "code",
        "colab": {}
      },
      "source": [
        "import numpy as np\n",
        "student_score = np.array([\n",
        "  ['David'  ,90,  80],\n",
        "  ['John'  ,77,  65],\n",
        "  ['Marry'  ,88,  95]\n",
        "])"
      ],
      "execution_count": 150,
      "outputs": []
    },
    {
      "cell_type": "code",
      "metadata": {
        "id": "FX4ayHCxZhhL",
        "colab_type": "code",
        "colab": {
          "base_uri": "https://localhost:8080/",
          "height": 69
        },
        "outputId": "ab40bb3d-c322-455e-dc8c-6d11a1f22838"
      },
      "source": [
        "student_score"
      ],
      "execution_count": 151,
      "outputs": [
        {
          "output_type": "execute_result",
          "data": {
            "text/plain": [
              "array([['David', '90', '80'],\n",
              "       ['John', '77', '65'],\n",
              "       ['Marry', '88', '95']], dtype='<U5')"
            ]
          },
          "metadata": {
            "tags": []
          },
          "execution_count": 151
        }
      ]
    },
    {
      "cell_type": "code",
      "metadata": {
        "id": "AaPXWpWkZkH7",
        "colab_type": "code",
        "colab": {
          "base_uri": "https://localhost:8080/",
          "height": 191
        },
        "outputId": "be7cae70-13e9-4294-9ad3-bf975d82477a"
      },
      "source": [
        "import pandas\n",
        "\n",
        "student_score = pandas.DataFrame([\n",
        "  ['David'  ,90,  80],\n",
        "  ['John'  ,77,  65],\n",
        "  ['Marry'  ,88,  95]\n",
        "])\n",
        "student_score.info()"
      ],
      "execution_count": 154,
      "outputs": [
        {
          "output_type": "stream",
          "text": [
            "<class 'pandas.core.frame.DataFrame'>\n",
            "RangeIndex: 3 entries, 0 to 2\n",
            "Data columns (total 3 columns):\n",
            " #   Column  Non-Null Count  Dtype \n",
            "---  ------  --------------  ----- \n",
            " 0   0       3 non-null      object\n",
            " 1   1       3 non-null      int64 \n",
            " 2   2       3 non-null      int64 \n",
            "dtypes: int64(2), object(1)\n",
            "memory usage: 200.0+ bytes\n"
          ],
          "name": "stdout"
        }
      ]
    },
    {
      "cell_type": "code",
      "metadata": {
        "id": "h-5LGadKZ9Fd",
        "colab_type": "code",
        "colab": {
          "base_uri": "https://localhost:8080/",
          "height": 87
        },
        "outputId": "7c5aa41b-f1a7-45a3-b3b0-3eeac288e9d5"
      },
      "source": [
        "student_score[1] * 0.4 + student_score[2] * 0.6"
      ],
      "execution_count": 156,
      "outputs": [
        {
          "output_type": "execute_result",
          "data": {
            "text/plain": [
              "0    84.0\n",
              "1    69.8\n",
              "2    92.2\n",
              "dtype: float64"
            ]
          },
          "metadata": {
            "tags": []
          },
          "execution_count": 156
        }
      ]
    },
    {
      "cell_type": "markdown",
      "metadata": {
        "id": "0VeQ3xc0acrI",
        "colab_type": "text"
      },
      "source": [
        "## Pandas"
      ]
    },
    {
      "cell_type": "code",
      "metadata": {
        "id": "FulTc3b_aHBt",
        "colab_type": "code",
        "colab": {}
      },
      "source": [
        "import numpy as np\n",
        "na = np.array([['frank', 'M', 29], ['mary', 'F', 23], ['tom', 'M',\n",
        "35], ['ted', 'M', 33], ['jean', 'F', 21], ['lisa', 'F', 20]])"
      ],
      "execution_count": 157,
      "outputs": []
    },
    {
      "cell_type": "code",
      "metadata": {
        "id": "qtEUjaxkaeHs",
        "colab_type": "code",
        "colab": {
          "base_uri": "https://localhost:8080/",
          "height": 35
        },
        "outputId": "05a77147-e590-412a-f450-41d13abb87f5"
      },
      "source": [
        "np.mean(na[:,2].astype(int))"
      ],
      "execution_count": 161,
      "outputs": [
        {
          "output_type": "execute_result",
          "data": {
            "text/plain": [
              "26.833333333333332"
            ]
          },
          "metadata": {
            "tags": []
          },
          "execution_count": 161
        }
      ]
    },
    {
      "cell_type": "code",
      "metadata": {
        "id": "547eHE5Nae3b",
        "colab_type": "code",
        "colab": {}
      },
      "source": [
        "import numpy as np\n",
        "na = np.array([['name', 'gender', 'age'], ['frank', 'M', 29], ['mary', 'F', 23], ['tom', 'M', 35],\n",
        "['ted', 'M', 33], ['jean', 'F', 21], ['lisa', 'F', 20]])"
      ],
      "execution_count": 162,
      "outputs": []
    },
    {
      "cell_type": "code",
      "metadata": {
        "id": "Z4mugvLJaxCu",
        "colab_type": "code",
        "colab": {
          "base_uri": "https://localhost:8080/",
          "height": 35
        },
        "outputId": "81574ef1-2636-42f7-a940-d6871daedb3b"
      },
      "source": [
        "np.mean(na[1:,2].astype(int))"
      ],
      "execution_count": 166,
      "outputs": [
        {
          "output_type": "execute_result",
          "data": {
            "text/plain": [
              "26.833333333333332"
            ]
          },
          "metadata": {
            "tags": []
          },
          "execution_count": 166
        }
      ]
    },
    {
      "cell_type": "code",
      "metadata": {
        "id": "seqEk-iHaxec",
        "colab_type": "code",
        "colab": {}
      },
      "source": [
        "import pandas as pd\n",
        "df = pd.DataFrame([['frank', 'M', 29], ['mary', 'F', 23], ['tom', 'M', 35],\n",
        "['ted', 'M', 33], ['jean', 'F', 21], ['lisa', 'F', 20]])"
      ],
      "execution_count": 167,
      "outputs": []
    },
    {
      "cell_type": "code",
      "metadata": {
        "id": "-sj4GSxabmI_",
        "colab_type": "code",
        "colab": {
          "base_uri": "https://localhost:8080/",
          "height": 233
        },
        "outputId": "fb790dc6-2b3d-43fb-c99c-1958db5c0a7a"
      },
      "source": [
        "df"
      ],
      "execution_count": 168,
      "outputs": [
        {
          "output_type": "execute_result",
          "data": {
            "text/html": [
              "<div>\n",
              "<style scoped>\n",
              "    .dataframe tbody tr th:only-of-type {\n",
              "        vertical-align: middle;\n",
              "    }\n",
              "\n",
              "    .dataframe tbody tr th {\n",
              "        vertical-align: top;\n",
              "    }\n",
              "\n",
              "    .dataframe thead th {\n",
              "        text-align: right;\n",
              "    }\n",
              "</style>\n",
              "<table border=\"1\" class=\"dataframe\">\n",
              "  <thead>\n",
              "    <tr style=\"text-align: right;\">\n",
              "      <th></th>\n",
              "      <th>0</th>\n",
              "      <th>1</th>\n",
              "      <th>2</th>\n",
              "    </tr>\n",
              "  </thead>\n",
              "  <tbody>\n",
              "    <tr>\n",
              "      <th>0</th>\n",
              "      <td>frank</td>\n",
              "      <td>M</td>\n",
              "      <td>29</td>\n",
              "    </tr>\n",
              "    <tr>\n",
              "      <th>1</th>\n",
              "      <td>mary</td>\n",
              "      <td>F</td>\n",
              "      <td>23</td>\n",
              "    </tr>\n",
              "    <tr>\n",
              "      <th>2</th>\n",
              "      <td>tom</td>\n",
              "      <td>M</td>\n",
              "      <td>35</td>\n",
              "    </tr>\n",
              "    <tr>\n",
              "      <th>3</th>\n",
              "      <td>ted</td>\n",
              "      <td>M</td>\n",
              "      <td>33</td>\n",
              "    </tr>\n",
              "    <tr>\n",
              "      <th>4</th>\n",
              "      <td>jean</td>\n",
              "      <td>F</td>\n",
              "      <td>21</td>\n",
              "    </tr>\n",
              "    <tr>\n",
              "      <th>5</th>\n",
              "      <td>lisa</td>\n",
              "      <td>F</td>\n",
              "      <td>20</td>\n",
              "    </tr>\n",
              "  </tbody>\n",
              "</table>\n",
              "</div>"
            ],
            "text/plain": [
              "       0  1   2\n",
              "0  frank  M  29\n",
              "1   mary  F  23\n",
              "2    tom  M  35\n",
              "3    ted  M  33\n",
              "4   jean  F  21\n",
              "5   lisa  F  20"
            ]
          },
          "metadata": {
            "tags": []
          },
          "execution_count": 168
        }
      ]
    },
    {
      "cell_type": "code",
      "metadata": {
        "id": "amwmagaLbow9",
        "colab_type": "code",
        "colab": {}
      },
      "source": [
        "df.columns=['name', 'gender', 'age']"
      ],
      "execution_count": 169,
      "outputs": []
    },
    {
      "cell_type": "code",
      "metadata": {
        "id": "rSdL-HFebuQv",
        "colab_type": "code",
        "colab": {
          "base_uri": "https://localhost:8080/",
          "height": 233
        },
        "outputId": "15a78526-c7ee-4d15-98a1-2dd75940b609"
      },
      "source": [
        "df"
      ],
      "execution_count": 170,
      "outputs": [
        {
          "output_type": "execute_result",
          "data": {
            "text/html": [
              "<div>\n",
              "<style scoped>\n",
              "    .dataframe tbody tr th:only-of-type {\n",
              "        vertical-align: middle;\n",
              "    }\n",
              "\n",
              "    .dataframe tbody tr th {\n",
              "        vertical-align: top;\n",
              "    }\n",
              "\n",
              "    .dataframe thead th {\n",
              "        text-align: right;\n",
              "    }\n",
              "</style>\n",
              "<table border=\"1\" class=\"dataframe\">\n",
              "  <thead>\n",
              "    <tr style=\"text-align: right;\">\n",
              "      <th></th>\n",
              "      <th>name</th>\n",
              "      <th>gender</th>\n",
              "      <th>age</th>\n",
              "    </tr>\n",
              "  </thead>\n",
              "  <tbody>\n",
              "    <tr>\n",
              "      <th>0</th>\n",
              "      <td>frank</td>\n",
              "      <td>M</td>\n",
              "      <td>29</td>\n",
              "    </tr>\n",
              "    <tr>\n",
              "      <th>1</th>\n",
              "      <td>mary</td>\n",
              "      <td>F</td>\n",
              "      <td>23</td>\n",
              "    </tr>\n",
              "    <tr>\n",
              "      <th>2</th>\n",
              "      <td>tom</td>\n",
              "      <td>M</td>\n",
              "      <td>35</td>\n",
              "    </tr>\n",
              "    <tr>\n",
              "      <th>3</th>\n",
              "      <td>ted</td>\n",
              "      <td>M</td>\n",
              "      <td>33</td>\n",
              "    </tr>\n",
              "    <tr>\n",
              "      <th>4</th>\n",
              "      <td>jean</td>\n",
              "      <td>F</td>\n",
              "      <td>21</td>\n",
              "    </tr>\n",
              "    <tr>\n",
              "      <th>5</th>\n",
              "      <td>lisa</td>\n",
              "      <td>F</td>\n",
              "      <td>20</td>\n",
              "    </tr>\n",
              "  </tbody>\n",
              "</table>\n",
              "</div>"
            ],
            "text/plain": [
              "    name gender  age\n",
              "0  frank      M   29\n",
              "1   mary      F   23\n",
              "2    tom      M   35\n",
              "3    ted      M   33\n",
              "4   jean      F   21\n",
              "5   lisa      F   20"
            ]
          },
          "metadata": {
            "tags": []
          },
          "execution_count": 170
        }
      ]
    },
    {
      "cell_type": "code",
      "metadata": {
        "id": "B-BULiWhbu29",
        "colab_type": "code",
        "colab": {
          "base_uri": "https://localhost:8080/",
          "height": 35
        },
        "outputId": "5a596cfb-cb49-48ca-a72a-7ff918e28969"
      },
      "source": [
        "df['age'].mean()"
      ],
      "execution_count": 172,
      "outputs": [
        {
          "output_type": "execute_result",
          "data": {
            "text/plain": [
              "26.833333333333332"
            ]
          },
          "metadata": {
            "tags": []
          },
          "execution_count": 172
        }
      ]
    },
    {
      "cell_type": "markdown",
      "metadata": {
        "id": "H8TCoWkucROu",
        "colab_type": "text"
      },
      "source": [
        "## Pandas Series"
      ]
    },
    {
      "cell_type": "code",
      "metadata": {
        "id": "NVk8XHiGbyue",
        "colab_type": "code",
        "colab": {}
      },
      "source": [
        "import numpy as np\n",
        "import pandas as pd"
      ],
      "execution_count": 173,
      "outputs": []
    },
    {
      "cell_type": "code",
      "metadata": {
        "id": "gEUJ8Iu-cl6O",
        "colab_type": "code",
        "colab": {}
      },
      "source": [
        "labels = ['a','b','c']\n",
        "my_list = [10,20,30]"
      ],
      "execution_count": 174,
      "outputs": []
    },
    {
      "cell_type": "code",
      "metadata": {
        "id": "BaHi3lCCcngv",
        "colab_type": "code",
        "colab": {
          "base_uri": "https://localhost:8080/",
          "height": 87
        },
        "outputId": "4124464b-acf3-4a8d-821f-a54007e56e86"
      },
      "source": [
        "pd.Series(data = my_list)"
      ],
      "execution_count": 175,
      "outputs": [
        {
          "output_type": "execute_result",
          "data": {
            "text/plain": [
              "0    10\n",
              "1    20\n",
              "2    30\n",
              "dtype: int64"
            ]
          },
          "metadata": {
            "tags": []
          },
          "execution_count": 175
        }
      ]
    },
    {
      "cell_type": "code",
      "metadata": {
        "id": "oVIHiprJcrbA",
        "colab_type": "code",
        "colab": {}
      },
      "source": [
        "s = pd.Series(data = my_list, index = labels)"
      ],
      "execution_count": 176,
      "outputs": []
    },
    {
      "cell_type": "code",
      "metadata": {
        "id": "0dI0NmtzcyIg",
        "colab_type": "code",
        "colab": {
          "base_uri": "https://localhost:8080/",
          "height": 87
        },
        "outputId": "a107394f-90df-4d6c-aa19-007a54c1f038"
      },
      "source": [
        "s"
      ],
      "execution_count": 177,
      "outputs": [
        {
          "output_type": "execute_result",
          "data": {
            "text/plain": [
              "a    10\n",
              "b    20\n",
              "c    30\n",
              "dtype: int64"
            ]
          },
          "metadata": {
            "tags": []
          },
          "execution_count": 177
        }
      ]
    },
    {
      "cell_type": "code",
      "metadata": {
        "id": "pwhud2aLcyiw",
        "colab_type": "code",
        "colab": {
          "base_uri": "https://localhost:8080/",
          "height": 35
        },
        "outputId": "163a8390-32a1-4c7c-f1d5-44dfe2d01274"
      },
      "source": [
        "s[1]"
      ],
      "execution_count": 178,
      "outputs": [
        {
          "output_type": "execute_result",
          "data": {
            "text/plain": [
              "20"
            ]
          },
          "metadata": {
            "tags": []
          },
          "execution_count": 178
        }
      ]
    },
    {
      "cell_type": "code",
      "metadata": {
        "id": "6QVbHDZLc0yA",
        "colab_type": "code",
        "colab": {
          "base_uri": "https://localhost:8080/",
          "height": 35
        },
        "outputId": "593cacba-07f0-4d77-d766-ccaf02a4a2b9"
      },
      "source": [
        "s['b']"
      ],
      "execution_count": 179,
      "outputs": [
        {
          "output_type": "execute_result",
          "data": {
            "text/plain": [
              "20"
            ]
          },
          "metadata": {
            "tags": []
          },
          "execution_count": 179
        }
      ]
    },
    {
      "cell_type": "code",
      "metadata": {
        "id": "RkW0fHZRc5NP",
        "colab_type": "code",
        "colab": {
          "base_uri": "https://localhost:8080/",
          "height": 87
        },
        "outputId": "caffee94-17b6-4f01-cb14-7299933bfe6a"
      },
      "source": [
        "pd.Series(my_list,labels)"
      ],
      "execution_count": 180,
      "outputs": [
        {
          "output_type": "execute_result",
          "data": {
            "text/plain": [
              "a    10\n",
              "b    20\n",
              "c    30\n",
              "dtype: int64"
            ]
          },
          "metadata": {
            "tags": []
          },
          "execution_count": 180
        }
      ]
    },
    {
      "cell_type": "code",
      "metadata": {
        "id": "ayGSILdzdCFA",
        "colab_type": "code",
        "colab": {}
      },
      "source": [
        "arr = np.array([10,20,30])"
      ],
      "execution_count": 181,
      "outputs": []
    },
    {
      "cell_type": "code",
      "metadata": {
        "id": "IB1o_-2WdG5Q",
        "colab_type": "code",
        "colab": {
          "base_uri": "https://localhost:8080/",
          "height": 35
        },
        "outputId": "7bd9dbf2-ce56-4ad8-e7be-1b60c409d304"
      },
      "source": [
        "arr"
      ],
      "execution_count": 182,
      "outputs": [
        {
          "output_type": "execute_result",
          "data": {
            "text/plain": [
              "array([10, 20, 30])"
            ]
          },
          "metadata": {
            "tags": []
          },
          "execution_count": 182
        }
      ]
    },
    {
      "cell_type": "code",
      "metadata": {
        "id": "awuPecacdHWA",
        "colab_type": "code",
        "colab": {
          "base_uri": "https://localhost:8080/",
          "height": 35
        },
        "outputId": "411c3ec2-4487-4230-e366-c58adfff3c21"
      },
      "source": [
        "type(arr)"
      ],
      "execution_count": 183,
      "outputs": [
        {
          "output_type": "execute_result",
          "data": {
            "text/plain": [
              "numpy.ndarray"
            ]
          },
          "metadata": {
            "tags": []
          },
          "execution_count": 183
        }
      ]
    },
    {
      "cell_type": "code",
      "metadata": {
        "id": "tnvHegJCdI0A",
        "colab_type": "code",
        "colab": {
          "base_uri": "https://localhost:8080/",
          "height": 87
        },
        "outputId": "716ba83b-93dd-4cd4-ecd8-06c7406e914a"
      },
      "source": [
        "pd.Series(arr)"
      ],
      "execution_count": 184,
      "outputs": [
        {
          "output_type": "execute_result",
          "data": {
            "text/plain": [
              "0    10\n",
              "1    20\n",
              "2    30\n",
              "dtype: int64"
            ]
          },
          "metadata": {
            "tags": []
          },
          "execution_count": 184
        }
      ]
    },
    {
      "cell_type": "code",
      "metadata": {
        "id": "yYhx4Z2sdLbA",
        "colab_type": "code",
        "colab": {
          "base_uri": "https://localhost:8080/",
          "height": 87
        },
        "outputId": "b0d41017-a3fe-450e-d57b-4c60f40e9535"
      },
      "source": [
        "pd.Series(arr,labels)"
      ],
      "execution_count": 185,
      "outputs": [
        {
          "output_type": "execute_result",
          "data": {
            "text/plain": [
              "a    10\n",
              "b    20\n",
              "c    30\n",
              "dtype: int64"
            ]
          },
          "metadata": {
            "tags": []
          },
          "execution_count": 185
        }
      ]
    },
    {
      "cell_type": "code",
      "metadata": {
        "id": "BVESuvGldUVx",
        "colab_type": "code",
        "colab": {}
      },
      "source": [
        "d = {'a':10,'b':20,'c':30}"
      ],
      "execution_count": 186,
      "outputs": []
    },
    {
      "cell_type": "code",
      "metadata": {
        "id": "kLnvDlFEdXKR",
        "colab_type": "code",
        "colab": {
          "base_uri": "https://localhost:8080/",
          "height": 87
        },
        "outputId": "4acf73a5-1084-4e45-b88d-cb3a16c77e43"
      },
      "source": [
        "pd.Series(d)"
      ],
      "execution_count": 187,
      "outputs": [
        {
          "output_type": "execute_result",
          "data": {
            "text/plain": [
              "a    10\n",
              "b    20\n",
              "c    30\n",
              "dtype: int64"
            ]
          },
          "metadata": {
            "tags": []
          },
          "execution_count": 187
        }
      ]
    },
    {
      "cell_type": "code",
      "metadata": {
        "id": "msQYmiXxdaMi",
        "colab_type": "code",
        "colab": {}
      },
      "source": [
        "ser1 = pd.Series([1,2,3,4],index = ['USA', 'Germany','USSR', 'Japan'])\n",
        "ser2 = pd.Series([1,2,5,4],index = ['USA', 'Germany','Italy', 'Japan'])"
      ],
      "execution_count": 188,
      "outputs": []
    },
    {
      "cell_type": "code",
      "metadata": {
        "id": "SsouQasvdhww",
        "colab_type": "code",
        "colab": {
          "base_uri": "https://localhost:8080/",
          "height": 104
        },
        "outputId": "b2cc5e28-62b5-415e-a369-c96d9358e255"
      },
      "source": [
        "ser1"
      ],
      "execution_count": 189,
      "outputs": [
        {
          "output_type": "execute_result",
          "data": {
            "text/plain": [
              "USA        1\n",
              "Germany    2\n",
              "USSR       3\n",
              "Japan      4\n",
              "dtype: int64"
            ]
          },
          "metadata": {
            "tags": []
          },
          "execution_count": 189
        }
      ]
    },
    {
      "cell_type": "code",
      "metadata": {
        "id": "cENc-IgcdiKw",
        "colab_type": "code",
        "colab": {
          "base_uri": "https://localhost:8080/",
          "height": 35
        },
        "outputId": "dc0e25cc-dc4e-4349-94a2-781fd5240ab5"
      },
      "source": [
        "ser1['USA']"
      ],
      "execution_count": 190,
      "outputs": [
        {
          "output_type": "execute_result",
          "data": {
            "text/plain": [
              "1"
            ]
          },
          "metadata": {
            "tags": []
          },
          "execution_count": 190
        }
      ]
    },
    {
      "cell_type": "code",
      "metadata": {
        "id": "sZ0k3FesdltQ",
        "colab_type": "code",
        "colab": {
          "base_uri": "https://localhost:8080/",
          "height": 121
        },
        "outputId": "364701e1-0f1f-4e9a-e485-8e9e9197f625"
      },
      "source": [
        "ser1 + ser2"
      ],
      "execution_count": 191,
      "outputs": [
        {
          "output_type": "execute_result",
          "data": {
            "text/plain": [
              "Germany    4.0\n",
              "Italy      NaN\n",
              "Japan      8.0\n",
              "USA        2.0\n",
              "USSR       NaN\n",
              "dtype: float64"
            ]
          },
          "metadata": {
            "tags": []
          },
          "execution_count": 191
        }
      ]
    },
    {
      "cell_type": "code",
      "metadata": {
        "id": "j5KZDbWOdpbf",
        "colab_type": "code",
        "colab": {}
      },
      "source": [
        "arr1 = pd.Series([1,2,3,4])\n",
        "arr2 = pd.Series([1,2,5,4])"
      ],
      "execution_count": 192,
      "outputs": []
    },
    {
      "cell_type": "code",
      "metadata": {
        "id": "1Ni98e6bd48h",
        "colab_type": "code",
        "colab": {
          "base_uri": "https://localhost:8080/",
          "height": 104
        },
        "outputId": "a84f7f2f-6c48-41c3-e5a3-4ca60b30324d"
      },
      "source": [
        "arr1 + arr2"
      ],
      "execution_count": 193,
      "outputs": [
        {
          "output_type": "execute_result",
          "data": {
            "text/plain": [
              "0    2\n",
              "1    4\n",
              "2    8\n",
              "3    8\n",
              "dtype: int64"
            ]
          },
          "metadata": {
            "tags": []
          },
          "execution_count": 193
        }
      ]
    },
    {
      "cell_type": "markdown",
      "metadata": {
        "id": "ekGFGoLgeeQX",
        "colab_type": "text"
      },
      "source": [
        "## Pandas DataFrame"
      ]
    },
    {
      "cell_type": "code",
      "metadata": {
        "id": "tjLxI4Uhd5uw",
        "colab_type": "code",
        "colab": {
          "base_uri": "https://localhost:8080/",
          "height": 233
        },
        "outputId": "4065e531-6760-47be-dcd1-9cdae73cfc7c"
      },
      "source": [
        "df = pd.DataFrame([['frank', 'M', 29], ['mary', 'F', 23], ['tom', 'M', 35],\n",
        "['ted', 'M', 33], ['jean', 'F', 21], ['lisa', 'F', 20]])\n",
        "df.columns = ['name', 'gender', 'age']\n",
        "df"
      ],
      "execution_count": 194,
      "outputs": [
        {
          "output_type": "execute_result",
          "data": {
            "text/html": [
              "<div>\n",
              "<style scoped>\n",
              "    .dataframe tbody tr th:only-of-type {\n",
              "        vertical-align: middle;\n",
              "    }\n",
              "\n",
              "    .dataframe tbody tr th {\n",
              "        vertical-align: top;\n",
              "    }\n",
              "\n",
              "    .dataframe thead th {\n",
              "        text-align: right;\n",
              "    }\n",
              "</style>\n",
              "<table border=\"1\" class=\"dataframe\">\n",
              "  <thead>\n",
              "    <tr style=\"text-align: right;\">\n",
              "      <th></th>\n",
              "      <th>name</th>\n",
              "      <th>gender</th>\n",
              "      <th>age</th>\n",
              "    </tr>\n",
              "  </thead>\n",
              "  <tbody>\n",
              "    <tr>\n",
              "      <th>0</th>\n",
              "      <td>frank</td>\n",
              "      <td>M</td>\n",
              "      <td>29</td>\n",
              "    </tr>\n",
              "    <tr>\n",
              "      <th>1</th>\n",
              "      <td>mary</td>\n",
              "      <td>F</td>\n",
              "      <td>23</td>\n",
              "    </tr>\n",
              "    <tr>\n",
              "      <th>2</th>\n",
              "      <td>tom</td>\n",
              "      <td>M</td>\n",
              "      <td>35</td>\n",
              "    </tr>\n",
              "    <tr>\n",
              "      <th>3</th>\n",
              "      <td>ted</td>\n",
              "      <td>M</td>\n",
              "      <td>33</td>\n",
              "    </tr>\n",
              "    <tr>\n",
              "      <th>4</th>\n",
              "      <td>jean</td>\n",
              "      <td>F</td>\n",
              "      <td>21</td>\n",
              "    </tr>\n",
              "    <tr>\n",
              "      <th>5</th>\n",
              "      <td>lisa</td>\n",
              "      <td>F</td>\n",
              "      <td>20</td>\n",
              "    </tr>\n",
              "  </tbody>\n",
              "</table>\n",
              "</div>"
            ],
            "text/plain": [
              "    name gender  age\n",
              "0  frank      M   29\n",
              "1   mary      F   23\n",
              "2    tom      M   35\n",
              "3    ted      M   33\n",
              "4   jean      F   21\n",
              "5   lisa      F   20"
            ]
          },
          "metadata": {
            "tags": []
          },
          "execution_count": 194
        }
      ]
    },
    {
      "cell_type": "code",
      "metadata": {
        "id": "IPktX1vAevyj",
        "colab_type": "code",
        "colab": {}
      },
      "source": [
        "df = pd.DataFrame([['frank', 'M', 29], ['mary', 'F', 23], ['tom', 'M', 35], ['ted',\n",
        "'M', 33], ['jean', 'F', 21], ['lisa', 'F', 20]], columns = ['name', 'gender', 'age'])"
      ],
      "execution_count": 195,
      "outputs": []
    },
    {
      "cell_type": "code",
      "metadata": {
        "id": "r6YDHkH9e5ZS",
        "colab_type": "code",
        "colab": {
          "base_uri": "https://localhost:8080/",
          "height": 233
        },
        "outputId": "7953c49f-b7d9-4d8c-bd8b-1c63a80335b0"
      },
      "source": [
        "df"
      ],
      "execution_count": 196,
      "outputs": [
        {
          "output_type": "execute_result",
          "data": {
            "text/html": [
              "<div>\n",
              "<style scoped>\n",
              "    .dataframe tbody tr th:only-of-type {\n",
              "        vertical-align: middle;\n",
              "    }\n",
              "\n",
              "    .dataframe tbody tr th {\n",
              "        vertical-align: top;\n",
              "    }\n",
              "\n",
              "    .dataframe thead th {\n",
              "        text-align: right;\n",
              "    }\n",
              "</style>\n",
              "<table border=\"1\" class=\"dataframe\">\n",
              "  <thead>\n",
              "    <tr style=\"text-align: right;\">\n",
              "      <th></th>\n",
              "      <th>name</th>\n",
              "      <th>gender</th>\n",
              "      <th>age</th>\n",
              "    </tr>\n",
              "  </thead>\n",
              "  <tbody>\n",
              "    <tr>\n",
              "      <th>0</th>\n",
              "      <td>frank</td>\n",
              "      <td>M</td>\n",
              "      <td>29</td>\n",
              "    </tr>\n",
              "    <tr>\n",
              "      <th>1</th>\n",
              "      <td>mary</td>\n",
              "      <td>F</td>\n",
              "      <td>23</td>\n",
              "    </tr>\n",
              "    <tr>\n",
              "      <th>2</th>\n",
              "      <td>tom</td>\n",
              "      <td>M</td>\n",
              "      <td>35</td>\n",
              "    </tr>\n",
              "    <tr>\n",
              "      <th>3</th>\n",
              "      <td>ted</td>\n",
              "      <td>M</td>\n",
              "      <td>33</td>\n",
              "    </tr>\n",
              "    <tr>\n",
              "      <th>4</th>\n",
              "      <td>jean</td>\n",
              "      <td>F</td>\n",
              "      <td>21</td>\n",
              "    </tr>\n",
              "    <tr>\n",
              "      <th>5</th>\n",
              "      <td>lisa</td>\n",
              "      <td>F</td>\n",
              "      <td>20</td>\n",
              "    </tr>\n",
              "  </tbody>\n",
              "</table>\n",
              "</div>"
            ],
            "text/plain": [
              "    name gender  age\n",
              "0  frank      M   29\n",
              "1   mary      F   23\n",
              "2    tom      M   35\n",
              "3    ted      M   33\n",
              "4   jean      F   21\n",
              "5   lisa      F   20"
            ]
          },
          "metadata": {
            "tags": []
          },
          "execution_count": 196
        }
      ]
    },
    {
      "cell_type": "code",
      "metadata": {
        "id": "vsizGLkSe5oA",
        "colab_type": "code",
        "colab": {}
      },
      "source": [
        "df = pd.DataFrame([{'name':'frank', 'gender':'M', 'age':29}, \\\n",
        "{'name':'mary', 'gender':'F', 'age':23}, \\\n",
        "{'name':'tom', 'gender':'M', 'age':35}, \\\n",
        "{'name':'ted', 'gender':'M', 'age':33}, \\\n",
        "{'name':'jean', 'gender':'F', 'age':21}, \\\n",
        "{'name':'lisa', 'gender':'F', 'age':20}])"
      ],
      "execution_count": 197,
      "outputs": []
    },
    {
      "cell_type": "code",
      "metadata": {
        "id": "yp5zrLclfCw1",
        "colab_type": "code",
        "colab": {
          "base_uri": "https://localhost:8080/",
          "height": 233
        },
        "outputId": "415748d1-67b3-4bcc-d036-ebd2781e97e4"
      },
      "source": [
        "df"
      ],
      "execution_count": 198,
      "outputs": [
        {
          "output_type": "execute_result",
          "data": {
            "text/html": [
              "<div>\n",
              "<style scoped>\n",
              "    .dataframe tbody tr th:only-of-type {\n",
              "        vertical-align: middle;\n",
              "    }\n",
              "\n",
              "    .dataframe tbody tr th {\n",
              "        vertical-align: top;\n",
              "    }\n",
              "\n",
              "    .dataframe thead th {\n",
              "        text-align: right;\n",
              "    }\n",
              "</style>\n",
              "<table border=\"1\" class=\"dataframe\">\n",
              "  <thead>\n",
              "    <tr style=\"text-align: right;\">\n",
              "      <th></th>\n",
              "      <th>name</th>\n",
              "      <th>gender</th>\n",
              "      <th>age</th>\n",
              "    </tr>\n",
              "  </thead>\n",
              "  <tbody>\n",
              "    <tr>\n",
              "      <th>0</th>\n",
              "      <td>frank</td>\n",
              "      <td>M</td>\n",
              "      <td>29</td>\n",
              "    </tr>\n",
              "    <tr>\n",
              "      <th>1</th>\n",
              "      <td>mary</td>\n",
              "      <td>F</td>\n",
              "      <td>23</td>\n",
              "    </tr>\n",
              "    <tr>\n",
              "      <th>2</th>\n",
              "      <td>tom</td>\n",
              "      <td>M</td>\n",
              "      <td>35</td>\n",
              "    </tr>\n",
              "    <tr>\n",
              "      <th>3</th>\n",
              "      <td>ted</td>\n",
              "      <td>M</td>\n",
              "      <td>33</td>\n",
              "    </tr>\n",
              "    <tr>\n",
              "      <th>4</th>\n",
              "      <td>jean</td>\n",
              "      <td>F</td>\n",
              "      <td>21</td>\n",
              "    </tr>\n",
              "    <tr>\n",
              "      <th>5</th>\n",
              "      <td>lisa</td>\n",
              "      <td>F</td>\n",
              "      <td>20</td>\n",
              "    </tr>\n",
              "  </tbody>\n",
              "</table>\n",
              "</div>"
            ],
            "text/plain": [
              "    name gender  age\n",
              "0  frank      M   29\n",
              "1   mary      F   23\n",
              "2    tom      M   35\n",
              "3    ted      M   33\n",
              "4   jean      F   21\n",
              "5   lisa      F   20"
            ]
          },
          "metadata": {
            "tags": []
          },
          "execution_count": 198
        }
      ]
    },
    {
      "cell_type": "code",
      "metadata": {
        "id": "p6ykN_pbfDKy",
        "colab_type": "code",
        "colab": {
          "base_uri": "https://localhost:8080/",
          "height": 141
        },
        "outputId": "881e0685-e13a-4246-f894-a0a1e33dc3f4"
      },
      "source": [
        "pandas.DataFrame([[90,80],[77], [60,88]])"
      ],
      "execution_count": 200,
      "outputs": [
        {
          "output_type": "execute_result",
          "data": {
            "text/html": [
              "<div>\n",
              "<style scoped>\n",
              "    .dataframe tbody tr th:only-of-type {\n",
              "        vertical-align: middle;\n",
              "    }\n",
              "\n",
              "    .dataframe tbody tr th {\n",
              "        vertical-align: top;\n",
              "    }\n",
              "\n",
              "    .dataframe thead th {\n",
              "        text-align: right;\n",
              "    }\n",
              "</style>\n",
              "<table border=\"1\" class=\"dataframe\">\n",
              "  <thead>\n",
              "    <tr style=\"text-align: right;\">\n",
              "      <th></th>\n",
              "      <th>0</th>\n",
              "      <th>1</th>\n",
              "    </tr>\n",
              "  </thead>\n",
              "  <tbody>\n",
              "    <tr>\n",
              "      <th>0</th>\n",
              "      <td>90</td>\n",
              "      <td>80.0</td>\n",
              "    </tr>\n",
              "    <tr>\n",
              "      <th>1</th>\n",
              "      <td>77</td>\n",
              "      <td>NaN</td>\n",
              "    </tr>\n",
              "    <tr>\n",
              "      <th>2</th>\n",
              "      <td>60</td>\n",
              "      <td>88.0</td>\n",
              "    </tr>\n",
              "  </tbody>\n",
              "</table>\n",
              "</div>"
            ],
            "text/plain": [
              "    0     1\n",
              "0  90  80.0\n",
              "1  77   NaN\n",
              "2  60  88.0"
            ]
          },
          "metadata": {
            "tags": []
          },
          "execution_count": 200
        }
      ]
    },
    {
      "cell_type": "code",
      "metadata": {
        "id": "_wld7gVCfQED",
        "colab_type": "code",
        "colab": {
          "base_uri": "https://localhost:8080/",
          "height": 141
        },
        "outputId": "b86e96eb-e6b2-4a23-8f9b-06574fe5bd14"
      },
      "source": [
        "pandas.DataFrame([\n",
        "                  {'first':90,'second':80},\n",
        "                  {'second':77}, \n",
        "                  {'first':60,'second':88}])"
      ],
      "execution_count": 202,
      "outputs": [
        {
          "output_type": "execute_result",
          "data": {
            "text/html": [
              "<div>\n",
              "<style scoped>\n",
              "    .dataframe tbody tr th:only-of-type {\n",
              "        vertical-align: middle;\n",
              "    }\n",
              "\n",
              "    .dataframe tbody tr th {\n",
              "        vertical-align: top;\n",
              "    }\n",
              "\n",
              "    .dataframe thead th {\n",
              "        text-align: right;\n",
              "    }\n",
              "</style>\n",
              "<table border=\"1\" class=\"dataframe\">\n",
              "  <thead>\n",
              "    <tr style=\"text-align: right;\">\n",
              "      <th></th>\n",
              "      <th>first</th>\n",
              "      <th>second</th>\n",
              "    </tr>\n",
              "  </thead>\n",
              "  <tbody>\n",
              "    <tr>\n",
              "      <th>0</th>\n",
              "      <td>90.0</td>\n",
              "      <td>80</td>\n",
              "    </tr>\n",
              "    <tr>\n",
              "      <th>1</th>\n",
              "      <td>NaN</td>\n",
              "      <td>77</td>\n",
              "    </tr>\n",
              "    <tr>\n",
              "      <th>2</th>\n",
              "      <td>60.0</td>\n",
              "      <td>88</td>\n",
              "    </tr>\n",
              "  </tbody>\n",
              "</table>\n",
              "</div>"
            ],
            "text/plain": [
              "   first  second\n",
              "0   90.0      80\n",
              "1    NaN      77\n",
              "2   60.0      88"
            ]
          },
          "metadata": {
            "tags": []
          },
          "execution_count": 202
        }
      ]
    },
    {
      "cell_type": "code",
      "metadata": {
        "id": "7n7UppYcfpdS",
        "colab_type": "code",
        "colab": {}
      },
      "source": [
        "df = pd.DataFrame([{'name':'frank', 'gender':'M', 'age':29}, \\\n",
        "{'name':'mary', 'gender':'F', 'age':23}, \\\n",
        "{'name':'tom', 'gender':'M', 'age':35}, \\\n",
        "{'name':'ted', 'gender':'M', 'age':33}, \\\n",
        "{'name':'jean', 'gender':'F', 'age':21}, \\\n",
        "{'name':'lisa', 'gender':'F', 'age':20}])"
      ],
      "execution_count": 203,
      "outputs": []
    },
    {
      "cell_type": "code",
      "metadata": {
        "id": "aa71putef6Vi",
        "colab_type": "code",
        "colab": {
          "base_uri": "https://localhost:8080/",
          "height": 202
        },
        "outputId": "36c3847c-9be9-4064-fa8c-f3ae12c2a240"
      },
      "source": [
        "df.head()"
      ],
      "execution_count": 204,
      "outputs": [
        {
          "output_type": "execute_result",
          "data": {
            "text/html": [
              "<div>\n",
              "<style scoped>\n",
              "    .dataframe tbody tr th:only-of-type {\n",
              "        vertical-align: middle;\n",
              "    }\n",
              "\n",
              "    .dataframe tbody tr th {\n",
              "        vertical-align: top;\n",
              "    }\n",
              "\n",
              "    .dataframe thead th {\n",
              "        text-align: right;\n",
              "    }\n",
              "</style>\n",
              "<table border=\"1\" class=\"dataframe\">\n",
              "  <thead>\n",
              "    <tr style=\"text-align: right;\">\n",
              "      <th></th>\n",
              "      <th>name</th>\n",
              "      <th>gender</th>\n",
              "      <th>age</th>\n",
              "    </tr>\n",
              "  </thead>\n",
              "  <tbody>\n",
              "    <tr>\n",
              "      <th>0</th>\n",
              "      <td>frank</td>\n",
              "      <td>M</td>\n",
              "      <td>29</td>\n",
              "    </tr>\n",
              "    <tr>\n",
              "      <th>1</th>\n",
              "      <td>mary</td>\n",
              "      <td>F</td>\n",
              "      <td>23</td>\n",
              "    </tr>\n",
              "    <tr>\n",
              "      <th>2</th>\n",
              "      <td>tom</td>\n",
              "      <td>M</td>\n",
              "      <td>35</td>\n",
              "    </tr>\n",
              "    <tr>\n",
              "      <th>3</th>\n",
              "      <td>ted</td>\n",
              "      <td>M</td>\n",
              "      <td>33</td>\n",
              "    </tr>\n",
              "    <tr>\n",
              "      <th>4</th>\n",
              "      <td>jean</td>\n",
              "      <td>F</td>\n",
              "      <td>21</td>\n",
              "    </tr>\n",
              "  </tbody>\n",
              "</table>\n",
              "</div>"
            ],
            "text/plain": [
              "    name gender  age\n",
              "0  frank      M   29\n",
              "1   mary      F   23\n",
              "2    tom      M   35\n",
              "3    ted      M   33\n",
              "4   jean      F   21"
            ]
          },
          "metadata": {
            "tags": []
          },
          "execution_count": 204
        }
      ]
    },
    {
      "cell_type": "code",
      "metadata": {
        "id": "4GVHGtP4f770",
        "colab_type": "code",
        "colab": {}
      },
      "source": [
        "?df.head()"
      ],
      "execution_count": 205,
      "outputs": []
    },
    {
      "cell_type": "code",
      "metadata": {
        "id": "QgJNzA4ff9xk",
        "colab_type": "code",
        "colab": {
          "base_uri": "https://localhost:8080/",
          "height": 141
        },
        "outputId": "dd615b5f-efc7-474b-e807-f8730efd3a38"
      },
      "source": [
        "df.head(3)"
      ],
      "execution_count": 206,
      "outputs": [
        {
          "output_type": "execute_result",
          "data": {
            "text/html": [
              "<div>\n",
              "<style scoped>\n",
              "    .dataframe tbody tr th:only-of-type {\n",
              "        vertical-align: middle;\n",
              "    }\n",
              "\n",
              "    .dataframe tbody tr th {\n",
              "        vertical-align: top;\n",
              "    }\n",
              "\n",
              "    .dataframe thead th {\n",
              "        text-align: right;\n",
              "    }\n",
              "</style>\n",
              "<table border=\"1\" class=\"dataframe\">\n",
              "  <thead>\n",
              "    <tr style=\"text-align: right;\">\n",
              "      <th></th>\n",
              "      <th>name</th>\n",
              "      <th>gender</th>\n",
              "      <th>age</th>\n",
              "    </tr>\n",
              "  </thead>\n",
              "  <tbody>\n",
              "    <tr>\n",
              "      <th>0</th>\n",
              "      <td>frank</td>\n",
              "      <td>M</td>\n",
              "      <td>29</td>\n",
              "    </tr>\n",
              "    <tr>\n",
              "      <th>1</th>\n",
              "      <td>mary</td>\n",
              "      <td>F</td>\n",
              "      <td>23</td>\n",
              "    </tr>\n",
              "    <tr>\n",
              "      <th>2</th>\n",
              "      <td>tom</td>\n",
              "      <td>M</td>\n",
              "      <td>35</td>\n",
              "    </tr>\n",
              "  </tbody>\n",
              "</table>\n",
              "</div>"
            ],
            "text/plain": [
              "    name gender  age\n",
              "0  frank      M   29\n",
              "1   mary      F   23\n",
              "2    tom      M   35"
            ]
          },
          "metadata": {
            "tags": []
          },
          "execution_count": 206
        }
      ]
    },
    {
      "cell_type": "code",
      "metadata": {
        "id": "QtW_t4HXgDfz",
        "colab_type": "code",
        "colab": {
          "base_uri": "https://localhost:8080/",
          "height": 202
        },
        "outputId": "81854f72-83d1-43af-c4e5-cce000b46336"
      },
      "source": [
        "df.tail()"
      ],
      "execution_count": 207,
      "outputs": [
        {
          "output_type": "execute_result",
          "data": {
            "text/html": [
              "<div>\n",
              "<style scoped>\n",
              "    .dataframe tbody tr th:only-of-type {\n",
              "        vertical-align: middle;\n",
              "    }\n",
              "\n",
              "    .dataframe tbody tr th {\n",
              "        vertical-align: top;\n",
              "    }\n",
              "\n",
              "    .dataframe thead th {\n",
              "        text-align: right;\n",
              "    }\n",
              "</style>\n",
              "<table border=\"1\" class=\"dataframe\">\n",
              "  <thead>\n",
              "    <tr style=\"text-align: right;\">\n",
              "      <th></th>\n",
              "      <th>name</th>\n",
              "      <th>gender</th>\n",
              "      <th>age</th>\n",
              "    </tr>\n",
              "  </thead>\n",
              "  <tbody>\n",
              "    <tr>\n",
              "      <th>1</th>\n",
              "      <td>mary</td>\n",
              "      <td>F</td>\n",
              "      <td>23</td>\n",
              "    </tr>\n",
              "    <tr>\n",
              "      <th>2</th>\n",
              "      <td>tom</td>\n",
              "      <td>M</td>\n",
              "      <td>35</td>\n",
              "    </tr>\n",
              "    <tr>\n",
              "      <th>3</th>\n",
              "      <td>ted</td>\n",
              "      <td>M</td>\n",
              "      <td>33</td>\n",
              "    </tr>\n",
              "    <tr>\n",
              "      <th>4</th>\n",
              "      <td>jean</td>\n",
              "      <td>F</td>\n",
              "      <td>21</td>\n",
              "    </tr>\n",
              "    <tr>\n",
              "      <th>5</th>\n",
              "      <td>lisa</td>\n",
              "      <td>F</td>\n",
              "      <td>20</td>\n",
              "    </tr>\n",
              "  </tbody>\n",
              "</table>\n",
              "</div>"
            ],
            "text/plain": [
              "   name gender  age\n",
              "1  mary      F   23\n",
              "2   tom      M   35\n",
              "3   ted      M   33\n",
              "4  jean      F   21\n",
              "5  lisa      F   20"
            ]
          },
          "metadata": {
            "tags": []
          },
          "execution_count": 207
        }
      ]
    },
    {
      "cell_type": "code",
      "metadata": {
        "id": "BbjWfUvpgGBy",
        "colab_type": "code",
        "colab": {
          "base_uri": "https://localhost:8080/",
          "height": 141
        },
        "outputId": "ab667ab6-53d4-409b-ad32-dd33de388df9"
      },
      "source": [
        "df.tail(3)"
      ],
      "execution_count": 208,
      "outputs": [
        {
          "output_type": "execute_result",
          "data": {
            "text/html": [
              "<div>\n",
              "<style scoped>\n",
              "    .dataframe tbody tr th:only-of-type {\n",
              "        vertical-align: middle;\n",
              "    }\n",
              "\n",
              "    .dataframe tbody tr th {\n",
              "        vertical-align: top;\n",
              "    }\n",
              "\n",
              "    .dataframe thead th {\n",
              "        text-align: right;\n",
              "    }\n",
              "</style>\n",
              "<table border=\"1\" class=\"dataframe\">\n",
              "  <thead>\n",
              "    <tr style=\"text-align: right;\">\n",
              "      <th></th>\n",
              "      <th>name</th>\n",
              "      <th>gender</th>\n",
              "      <th>age</th>\n",
              "    </tr>\n",
              "  </thead>\n",
              "  <tbody>\n",
              "    <tr>\n",
              "      <th>3</th>\n",
              "      <td>ted</td>\n",
              "      <td>M</td>\n",
              "      <td>33</td>\n",
              "    </tr>\n",
              "    <tr>\n",
              "      <th>4</th>\n",
              "      <td>jean</td>\n",
              "      <td>F</td>\n",
              "      <td>21</td>\n",
              "    </tr>\n",
              "    <tr>\n",
              "      <th>5</th>\n",
              "      <td>lisa</td>\n",
              "      <td>F</td>\n",
              "      <td>20</td>\n",
              "    </tr>\n",
              "  </tbody>\n",
              "</table>\n",
              "</div>"
            ],
            "text/plain": [
              "   name gender  age\n",
              "3   ted      M   33\n",
              "4  jean      F   21\n",
              "5  lisa      F   20"
            ]
          },
          "metadata": {
            "tags": []
          },
          "execution_count": 208
        }
      ]
    },
    {
      "cell_type": "code",
      "metadata": {
        "id": "fyNmfyFVgIUk",
        "colab_type": "code",
        "colab": {
          "base_uri": "https://localhost:8080/",
          "height": 191
        },
        "outputId": "370b668d-827c-4ae1-d252-b28979e09f06"
      },
      "source": [
        "df.info()"
      ],
      "execution_count": 209,
      "outputs": [
        {
          "output_type": "stream",
          "text": [
            "<class 'pandas.core.frame.DataFrame'>\n",
            "RangeIndex: 6 entries, 0 to 5\n",
            "Data columns (total 3 columns):\n",
            " #   Column  Non-Null Count  Dtype \n",
            "---  ------  --------------  ----- \n",
            " 0   name    6 non-null      object\n",
            " 1   gender  6 non-null      object\n",
            " 2   age     6 non-null      int64 \n",
            "dtypes: int64(1), object(2)\n",
            "memory usage: 272.0+ bytes\n"
          ],
          "name": "stdout"
        }
      ]
    },
    {
      "cell_type": "code",
      "metadata": {
        "id": "zokdiy9NgN0C",
        "colab_type": "code",
        "colab": {
          "base_uri": "https://localhost:8080/",
          "height": 87
        },
        "outputId": "cb52d6ca-73a0-4fa3-f5bb-1ac847240108"
      },
      "source": [
        "df.dtypes"
      ],
      "execution_count": 210,
      "outputs": [
        {
          "output_type": "execute_result",
          "data": {
            "text/plain": [
              "name      object\n",
              "gender    object\n",
              "age        int64\n",
              "dtype: object"
            ]
          },
          "metadata": {
            "tags": []
          },
          "execution_count": 210
        }
      ]
    },
    {
      "cell_type": "code",
      "metadata": {
        "id": "n18TWkxQgfjz",
        "colab_type": "code",
        "colab": {
          "base_uri": "https://localhost:8080/",
          "height": 139
        },
        "outputId": "307373c9-e3b6-46d8-90ff-0fb185d2af15"
      },
      "source": [
        "df['name']"
      ],
      "execution_count": 211,
      "outputs": [
        {
          "output_type": "execute_result",
          "data": {
            "text/plain": [
              "0    frank\n",
              "1     mary\n",
              "2      tom\n",
              "3      ted\n",
              "4     jean\n",
              "5     lisa\n",
              "Name: name, dtype: object"
            ]
          },
          "metadata": {
            "tags": []
          },
          "execution_count": 211
        }
      ]
    },
    {
      "cell_type": "code",
      "metadata": {
        "id": "RMV-w-dPgl7U",
        "colab_type": "code",
        "colab": {
          "base_uri": "https://localhost:8080/",
          "height": 233
        },
        "outputId": "c2b3605c-749b-4928-cb6f-c46de75df04a"
      },
      "source": [
        "# SELECT name, age FROM　df\n",
        "df[['name', 'age']]"
      ],
      "execution_count": 213,
      "outputs": [
        {
          "output_type": "execute_result",
          "data": {
            "text/html": [
              "<div>\n",
              "<style scoped>\n",
              "    .dataframe tbody tr th:only-of-type {\n",
              "        vertical-align: middle;\n",
              "    }\n",
              "\n",
              "    .dataframe tbody tr th {\n",
              "        vertical-align: top;\n",
              "    }\n",
              "\n",
              "    .dataframe thead th {\n",
              "        text-align: right;\n",
              "    }\n",
              "</style>\n",
              "<table border=\"1\" class=\"dataframe\">\n",
              "  <thead>\n",
              "    <tr style=\"text-align: right;\">\n",
              "      <th></th>\n",
              "      <th>name</th>\n",
              "      <th>age</th>\n",
              "    </tr>\n",
              "  </thead>\n",
              "  <tbody>\n",
              "    <tr>\n",
              "      <th>0</th>\n",
              "      <td>frank</td>\n",
              "      <td>29</td>\n",
              "    </tr>\n",
              "    <tr>\n",
              "      <th>1</th>\n",
              "      <td>mary</td>\n",
              "      <td>23</td>\n",
              "    </tr>\n",
              "    <tr>\n",
              "      <th>2</th>\n",
              "      <td>tom</td>\n",
              "      <td>35</td>\n",
              "    </tr>\n",
              "    <tr>\n",
              "      <th>3</th>\n",
              "      <td>ted</td>\n",
              "      <td>33</td>\n",
              "    </tr>\n",
              "    <tr>\n",
              "      <th>4</th>\n",
              "      <td>jean</td>\n",
              "      <td>21</td>\n",
              "    </tr>\n",
              "    <tr>\n",
              "      <th>5</th>\n",
              "      <td>lisa</td>\n",
              "      <td>20</td>\n",
              "    </tr>\n",
              "  </tbody>\n",
              "</table>\n",
              "</div>"
            ],
            "text/plain": [
              "    name  age\n",
              "0  frank   29\n",
              "1   mary   23\n",
              "2    tom   35\n",
              "3    ted   33\n",
              "4   jean   21\n",
              "5   lisa   20"
            ]
          },
          "metadata": {
            "tags": []
          },
          "execution_count": 213
        }
      ]
    },
    {
      "cell_type": "code",
      "metadata": {
        "id": "QGQe4Zxwgo6U",
        "colab_type": "code",
        "colab": {
          "base_uri": "https://localhost:8080/",
          "height": 141
        },
        "outputId": "aec7f302-a840-4e5b-eee4-0711c82cda5a"
      },
      "source": [
        "# SELECT * FROM df WHERE gender = 'M'\n",
        "df[df['gender'] == 'M']"
      ],
      "execution_count": 216,
      "outputs": [
        {
          "output_type": "execute_result",
          "data": {
            "text/html": [
              "<div>\n",
              "<style scoped>\n",
              "    .dataframe tbody tr th:only-of-type {\n",
              "        vertical-align: middle;\n",
              "    }\n",
              "\n",
              "    .dataframe tbody tr th {\n",
              "        vertical-align: top;\n",
              "    }\n",
              "\n",
              "    .dataframe thead th {\n",
              "        text-align: right;\n",
              "    }\n",
              "</style>\n",
              "<table border=\"1\" class=\"dataframe\">\n",
              "  <thead>\n",
              "    <tr style=\"text-align: right;\">\n",
              "      <th></th>\n",
              "      <th>name</th>\n",
              "      <th>gender</th>\n",
              "      <th>age</th>\n",
              "    </tr>\n",
              "  </thead>\n",
              "  <tbody>\n",
              "    <tr>\n",
              "      <th>0</th>\n",
              "      <td>frank</td>\n",
              "      <td>M</td>\n",
              "      <td>29</td>\n",
              "    </tr>\n",
              "    <tr>\n",
              "      <th>2</th>\n",
              "      <td>tom</td>\n",
              "      <td>M</td>\n",
              "      <td>35</td>\n",
              "    </tr>\n",
              "    <tr>\n",
              "      <th>3</th>\n",
              "      <td>ted</td>\n",
              "      <td>M</td>\n",
              "      <td>33</td>\n",
              "    </tr>\n",
              "  </tbody>\n",
              "</table>\n",
              "</div>"
            ],
            "text/plain": [
              "    name gender  age\n",
              "0  frank      M   29\n",
              "2    tom      M   35\n",
              "3    ted      M   33"
            ]
          },
          "metadata": {
            "tags": []
          },
          "execution_count": 216
        }
      ]
    },
    {
      "cell_type": "code",
      "metadata": {
        "id": "ILU0aVKGgyv0",
        "colab_type": "code",
        "colab": {
          "base_uri": "https://localhost:8080/",
          "height": 110
        },
        "outputId": "fb6ad16f-9993-4ced-edf3-f3383e12cfa7"
      },
      "source": [
        "df[(df['gender'] == 'M') & (df['age'] >=30 )]"
      ],
      "execution_count": 219,
      "outputs": [
        {
          "output_type": "execute_result",
          "data": {
            "text/html": [
              "<div>\n",
              "<style scoped>\n",
              "    .dataframe tbody tr th:only-of-type {\n",
              "        vertical-align: middle;\n",
              "    }\n",
              "\n",
              "    .dataframe tbody tr th {\n",
              "        vertical-align: top;\n",
              "    }\n",
              "\n",
              "    .dataframe thead th {\n",
              "        text-align: right;\n",
              "    }\n",
              "</style>\n",
              "<table border=\"1\" class=\"dataframe\">\n",
              "  <thead>\n",
              "    <tr style=\"text-align: right;\">\n",
              "      <th></th>\n",
              "      <th>name</th>\n",
              "      <th>gender</th>\n",
              "      <th>age</th>\n",
              "    </tr>\n",
              "  </thead>\n",
              "  <tbody>\n",
              "    <tr>\n",
              "      <th>2</th>\n",
              "      <td>tom</td>\n",
              "      <td>M</td>\n",
              "      <td>35</td>\n",
              "    </tr>\n",
              "    <tr>\n",
              "      <th>3</th>\n",
              "      <td>ted</td>\n",
              "      <td>M</td>\n",
              "      <td>33</td>\n",
              "    </tr>\n",
              "  </tbody>\n",
              "</table>\n",
              "</div>"
            ],
            "text/plain": [
              "  name gender  age\n",
              "2  tom      M   35\n",
              "3  ted      M   33"
            ]
          },
          "metadata": {
            "tags": []
          },
          "execution_count": 219
        }
      ]
    },
    {
      "cell_type": "code",
      "metadata": {
        "id": "ubv5Xn3shE5k",
        "colab_type": "code",
        "colab": {
          "base_uri": "https://localhost:8080/",
          "height": 141
        },
        "outputId": "ccde0427-531a-469e-f05e-e9f0e1c65041"
      },
      "source": [
        "df[(df['gender'] == 'M') | (df['age'] >=30 )]"
      ],
      "execution_count": 220,
      "outputs": [
        {
          "output_type": "execute_result",
          "data": {
            "text/html": [
              "<div>\n",
              "<style scoped>\n",
              "    .dataframe tbody tr th:only-of-type {\n",
              "        vertical-align: middle;\n",
              "    }\n",
              "\n",
              "    .dataframe tbody tr th {\n",
              "        vertical-align: top;\n",
              "    }\n",
              "\n",
              "    .dataframe thead th {\n",
              "        text-align: right;\n",
              "    }\n",
              "</style>\n",
              "<table border=\"1\" class=\"dataframe\">\n",
              "  <thead>\n",
              "    <tr style=\"text-align: right;\">\n",
              "      <th></th>\n",
              "      <th>name</th>\n",
              "      <th>gender</th>\n",
              "      <th>age</th>\n",
              "    </tr>\n",
              "  </thead>\n",
              "  <tbody>\n",
              "    <tr>\n",
              "      <th>0</th>\n",
              "      <td>frank</td>\n",
              "      <td>M</td>\n",
              "      <td>29</td>\n",
              "    </tr>\n",
              "    <tr>\n",
              "      <th>2</th>\n",
              "      <td>tom</td>\n",
              "      <td>M</td>\n",
              "      <td>35</td>\n",
              "    </tr>\n",
              "    <tr>\n",
              "      <th>3</th>\n",
              "      <td>ted</td>\n",
              "      <td>M</td>\n",
              "      <td>33</td>\n",
              "    </tr>\n",
              "  </tbody>\n",
              "</table>\n",
              "</div>"
            ],
            "text/plain": [
              "    name gender  age\n",
              "0  frank      M   29\n",
              "2    tom      M   35\n",
              "3    ted      M   33"
            ]
          },
          "metadata": {
            "tags": []
          },
          "execution_count": 220
        }
      ]
    },
    {
      "cell_type": "code",
      "metadata": {
        "id": "qrg_Y0X0hO5z",
        "colab_type": "code",
        "colab": {}
      },
      "source": [
        "df['employee'] = True"
      ],
      "execution_count": 222,
      "outputs": []
    },
    {
      "cell_type": "code",
      "metadata": {
        "id": "PZPVn2OyhWJW",
        "colab_type": "code",
        "colab": {
          "base_uri": "https://localhost:8080/",
          "height": 233
        },
        "outputId": "adc66a34-a929-4706-aa89-8be8cf6e8986"
      },
      "source": [
        "df"
      ],
      "execution_count": 223,
      "outputs": [
        {
          "output_type": "execute_result",
          "data": {
            "text/html": [
              "<div>\n",
              "<style scoped>\n",
              "    .dataframe tbody tr th:only-of-type {\n",
              "        vertical-align: middle;\n",
              "    }\n",
              "\n",
              "    .dataframe tbody tr th {\n",
              "        vertical-align: top;\n",
              "    }\n",
              "\n",
              "    .dataframe thead th {\n",
              "        text-align: right;\n",
              "    }\n",
              "</style>\n",
              "<table border=\"1\" class=\"dataframe\">\n",
              "  <thead>\n",
              "    <tr style=\"text-align: right;\">\n",
              "      <th></th>\n",
              "      <th>name</th>\n",
              "      <th>gender</th>\n",
              "      <th>age</th>\n",
              "      <th>employee</th>\n",
              "    </tr>\n",
              "  </thead>\n",
              "  <tbody>\n",
              "    <tr>\n",
              "      <th>0</th>\n",
              "      <td>frank</td>\n",
              "      <td>M</td>\n",
              "      <td>29</td>\n",
              "      <td>True</td>\n",
              "    </tr>\n",
              "    <tr>\n",
              "      <th>1</th>\n",
              "      <td>mary</td>\n",
              "      <td>F</td>\n",
              "      <td>23</td>\n",
              "      <td>True</td>\n",
              "    </tr>\n",
              "    <tr>\n",
              "      <th>2</th>\n",
              "      <td>tom</td>\n",
              "      <td>M</td>\n",
              "      <td>35</td>\n",
              "      <td>True</td>\n",
              "    </tr>\n",
              "    <tr>\n",
              "      <th>3</th>\n",
              "      <td>ted</td>\n",
              "      <td>M</td>\n",
              "      <td>33</td>\n",
              "      <td>True</td>\n",
              "    </tr>\n",
              "    <tr>\n",
              "      <th>4</th>\n",
              "      <td>jean</td>\n",
              "      <td>F</td>\n",
              "      <td>21</td>\n",
              "      <td>True</td>\n",
              "    </tr>\n",
              "    <tr>\n",
              "      <th>5</th>\n",
              "      <td>lisa</td>\n",
              "      <td>F</td>\n",
              "      <td>20</td>\n",
              "      <td>True</td>\n",
              "    </tr>\n",
              "  </tbody>\n",
              "</table>\n",
              "</div>"
            ],
            "text/plain": [
              "    name gender  age  employee\n",
              "0  frank      M   29      True\n",
              "1   mary      F   23      True\n",
              "2    tom      M   35      True\n",
              "3    ted      M   33      True\n",
              "4   jean      F   21      True\n",
              "5   lisa      F   20      True"
            ]
          },
          "metadata": {
            "tags": []
          },
          "execution_count": 223
        }
      ]
    },
    {
      "cell_type": "code",
      "metadata": {
        "id": "s_cAl5KbhbZl",
        "colab_type": "code",
        "colab": {}
      },
      "source": [
        "del df['employee']"
      ],
      "execution_count": 224,
      "outputs": []
    },
    {
      "cell_type": "code",
      "metadata": {
        "id": "GOZ-bFLlhfA0",
        "colab_type": "code",
        "colab": {
          "base_uri": "https://localhost:8080/",
          "height": 233
        },
        "outputId": "4a5d94f5-3320-4a50-e4f3-743dd173c53d"
      },
      "source": [
        "df"
      ],
      "execution_count": 225,
      "outputs": [
        {
          "output_type": "execute_result",
          "data": {
            "text/html": [
              "<div>\n",
              "<style scoped>\n",
              "    .dataframe tbody tr th:only-of-type {\n",
              "        vertical-align: middle;\n",
              "    }\n",
              "\n",
              "    .dataframe tbody tr th {\n",
              "        vertical-align: top;\n",
              "    }\n",
              "\n",
              "    .dataframe thead th {\n",
              "        text-align: right;\n",
              "    }\n",
              "</style>\n",
              "<table border=\"1\" class=\"dataframe\">\n",
              "  <thead>\n",
              "    <tr style=\"text-align: right;\">\n",
              "      <th></th>\n",
              "      <th>name</th>\n",
              "      <th>gender</th>\n",
              "      <th>age</th>\n",
              "    </tr>\n",
              "  </thead>\n",
              "  <tbody>\n",
              "    <tr>\n",
              "      <th>0</th>\n",
              "      <td>frank</td>\n",
              "      <td>M</td>\n",
              "      <td>29</td>\n",
              "    </tr>\n",
              "    <tr>\n",
              "      <th>1</th>\n",
              "      <td>mary</td>\n",
              "      <td>F</td>\n",
              "      <td>23</td>\n",
              "    </tr>\n",
              "    <tr>\n",
              "      <th>2</th>\n",
              "      <td>tom</td>\n",
              "      <td>M</td>\n",
              "      <td>35</td>\n",
              "    </tr>\n",
              "    <tr>\n",
              "      <th>3</th>\n",
              "      <td>ted</td>\n",
              "      <td>M</td>\n",
              "      <td>33</td>\n",
              "    </tr>\n",
              "    <tr>\n",
              "      <th>4</th>\n",
              "      <td>jean</td>\n",
              "      <td>F</td>\n",
              "      <td>21</td>\n",
              "    </tr>\n",
              "    <tr>\n",
              "      <th>5</th>\n",
              "      <td>lisa</td>\n",
              "      <td>F</td>\n",
              "      <td>20</td>\n",
              "    </tr>\n",
              "  </tbody>\n",
              "</table>\n",
              "</div>"
            ],
            "text/plain": [
              "    name gender  age\n",
              "0  frank      M   29\n",
              "1   mary      F   23\n",
              "2    tom      M   35\n",
              "3    ted      M   33\n",
              "4   jean      F   21\n",
              "5   lisa      F   20"
            ]
          },
          "metadata": {
            "tags": []
          },
          "execution_count": 225
        }
      ]
    },
    {
      "cell_type": "code",
      "metadata": {
        "id": "7HklESdyhf-D",
        "colab_type": "code",
        "colab": {}
      },
      "source": [
        "df['employee'] = True"
      ],
      "execution_count": 226,
      "outputs": []
    },
    {
      "cell_type": "code",
      "metadata": {
        "id": "Z9H8ltUwhmBV",
        "colab_type": "code",
        "colab": {
          "base_uri": "https://localhost:8080/",
          "height": 233
        },
        "outputId": "23b5c0c9-11b7-4ab5-dba5-2b2ccaeb3d08"
      },
      "source": [
        "df"
      ],
      "execution_count": 227,
      "outputs": [
        {
          "output_type": "execute_result",
          "data": {
            "text/html": [
              "<div>\n",
              "<style scoped>\n",
              "    .dataframe tbody tr th:only-of-type {\n",
              "        vertical-align: middle;\n",
              "    }\n",
              "\n",
              "    .dataframe tbody tr th {\n",
              "        vertical-align: top;\n",
              "    }\n",
              "\n",
              "    .dataframe thead th {\n",
              "        text-align: right;\n",
              "    }\n",
              "</style>\n",
              "<table border=\"1\" class=\"dataframe\">\n",
              "  <thead>\n",
              "    <tr style=\"text-align: right;\">\n",
              "      <th></th>\n",
              "      <th>name</th>\n",
              "      <th>gender</th>\n",
              "      <th>age</th>\n",
              "      <th>employee</th>\n",
              "    </tr>\n",
              "  </thead>\n",
              "  <tbody>\n",
              "    <tr>\n",
              "      <th>0</th>\n",
              "      <td>frank</td>\n",
              "      <td>M</td>\n",
              "      <td>29</td>\n",
              "      <td>True</td>\n",
              "    </tr>\n",
              "    <tr>\n",
              "      <th>1</th>\n",
              "      <td>mary</td>\n",
              "      <td>F</td>\n",
              "      <td>23</td>\n",
              "      <td>True</td>\n",
              "    </tr>\n",
              "    <tr>\n",
              "      <th>2</th>\n",
              "      <td>tom</td>\n",
              "      <td>M</td>\n",
              "      <td>35</td>\n",
              "      <td>True</td>\n",
              "    </tr>\n",
              "    <tr>\n",
              "      <th>3</th>\n",
              "      <td>ted</td>\n",
              "      <td>M</td>\n",
              "      <td>33</td>\n",
              "      <td>True</td>\n",
              "    </tr>\n",
              "    <tr>\n",
              "      <th>4</th>\n",
              "      <td>jean</td>\n",
              "      <td>F</td>\n",
              "      <td>21</td>\n",
              "      <td>True</td>\n",
              "    </tr>\n",
              "    <tr>\n",
              "      <th>5</th>\n",
              "      <td>lisa</td>\n",
              "      <td>F</td>\n",
              "      <td>20</td>\n",
              "      <td>True</td>\n",
              "    </tr>\n",
              "  </tbody>\n",
              "</table>\n",
              "</div>"
            ],
            "text/plain": [
              "    name gender  age  employee\n",
              "0  frank      M   29      True\n",
              "1   mary      F   23      True\n",
              "2    tom      M   35      True\n",
              "3    ted      M   33      True\n",
              "4   jean      F   21      True\n",
              "5   lisa      F   20      True"
            ]
          },
          "metadata": {
            "tags": []
          },
          "execution_count": 227
        }
      ]
    },
    {
      "cell_type": "code",
      "metadata": {
        "id": "izhie-P0hmVz",
        "colab_type": "code",
        "colab": {}
      },
      "source": [
        "?df.drop"
      ],
      "execution_count": 228,
      "outputs": []
    },
    {
      "cell_type": "code",
      "metadata": {
        "id": "sQysbBILhqgF",
        "colab_type": "code",
        "colab": {}
      },
      "source": [
        "# axis:0 => by index, axis:1 => by column, inplace: 立即生效\n",
        "df.drop('employee', axis = 1, inplace = True)"
      ],
      "execution_count": 231,
      "outputs": []
    },
    {
      "cell_type": "code",
      "metadata": {
        "id": "rnMv3zJFhzvj",
        "colab_type": "code",
        "colab": {
          "base_uri": "https://localhost:8080/",
          "height": 202
        },
        "outputId": "9196c7d3-61ca-421b-fdff-0d1d224ca6c6"
      },
      "source": [
        "df.head()"
      ],
      "execution_count": 232,
      "outputs": [
        {
          "output_type": "execute_result",
          "data": {
            "text/html": [
              "<div>\n",
              "<style scoped>\n",
              "    .dataframe tbody tr th:only-of-type {\n",
              "        vertical-align: middle;\n",
              "    }\n",
              "\n",
              "    .dataframe tbody tr th {\n",
              "        vertical-align: top;\n",
              "    }\n",
              "\n",
              "    .dataframe thead th {\n",
              "        text-align: right;\n",
              "    }\n",
              "</style>\n",
              "<table border=\"1\" class=\"dataframe\">\n",
              "  <thead>\n",
              "    <tr style=\"text-align: right;\">\n",
              "      <th></th>\n",
              "      <th>name</th>\n",
              "      <th>gender</th>\n",
              "      <th>age</th>\n",
              "    </tr>\n",
              "  </thead>\n",
              "  <tbody>\n",
              "    <tr>\n",
              "      <th>0</th>\n",
              "      <td>frank</td>\n",
              "      <td>M</td>\n",
              "      <td>29</td>\n",
              "    </tr>\n",
              "    <tr>\n",
              "      <th>1</th>\n",
              "      <td>mary</td>\n",
              "      <td>F</td>\n",
              "      <td>23</td>\n",
              "    </tr>\n",
              "    <tr>\n",
              "      <th>2</th>\n",
              "      <td>tom</td>\n",
              "      <td>M</td>\n",
              "      <td>35</td>\n",
              "    </tr>\n",
              "    <tr>\n",
              "      <th>3</th>\n",
              "      <td>ted</td>\n",
              "      <td>M</td>\n",
              "      <td>33</td>\n",
              "    </tr>\n",
              "    <tr>\n",
              "      <th>4</th>\n",
              "      <td>jean</td>\n",
              "      <td>F</td>\n",
              "      <td>21</td>\n",
              "    </tr>\n",
              "  </tbody>\n",
              "</table>\n",
              "</div>"
            ],
            "text/plain": [
              "    name gender  age\n",
              "0  frank      M   29\n",
              "1   mary      F   23\n",
              "2    tom      M   35\n",
              "3    ted      M   33\n",
              "4   jean      F   21"
            ]
          },
          "metadata": {
            "tags": []
          },
          "execution_count": 232
        }
      ]
    },
    {
      "cell_type": "code",
      "metadata": {
        "id": "lue8Dy85h2ID",
        "colab_type": "code",
        "colab": {}
      },
      "source": [
        "df.loc[6] = {'age':20,'gender':'F','name':'qoo'}"
      ],
      "execution_count": 233,
      "outputs": []
    },
    {
      "cell_type": "code",
      "metadata": {
        "id": "uHqhYXmMiMom",
        "colab_type": "code",
        "colab": {
          "base_uri": "https://localhost:8080/",
          "height": 202
        },
        "outputId": "7857fbe1-8ca3-4858-ac31-9e83270ec067"
      },
      "source": [
        "df.tail()"
      ],
      "execution_count": 234,
      "outputs": [
        {
          "output_type": "execute_result",
          "data": {
            "text/html": [
              "<div>\n",
              "<style scoped>\n",
              "    .dataframe tbody tr th:only-of-type {\n",
              "        vertical-align: middle;\n",
              "    }\n",
              "\n",
              "    .dataframe tbody tr th {\n",
              "        vertical-align: top;\n",
              "    }\n",
              "\n",
              "    .dataframe thead th {\n",
              "        text-align: right;\n",
              "    }\n",
              "</style>\n",
              "<table border=\"1\" class=\"dataframe\">\n",
              "  <thead>\n",
              "    <tr style=\"text-align: right;\">\n",
              "      <th></th>\n",
              "      <th>name</th>\n",
              "      <th>gender</th>\n",
              "      <th>age</th>\n",
              "    </tr>\n",
              "  </thead>\n",
              "  <tbody>\n",
              "    <tr>\n",
              "      <th>2</th>\n",
              "      <td>tom</td>\n",
              "      <td>M</td>\n",
              "      <td>35</td>\n",
              "    </tr>\n",
              "    <tr>\n",
              "      <th>3</th>\n",
              "      <td>ted</td>\n",
              "      <td>M</td>\n",
              "      <td>33</td>\n",
              "    </tr>\n",
              "    <tr>\n",
              "      <th>4</th>\n",
              "      <td>jean</td>\n",
              "      <td>F</td>\n",
              "      <td>21</td>\n",
              "    </tr>\n",
              "    <tr>\n",
              "      <th>5</th>\n",
              "      <td>lisa</td>\n",
              "      <td>F</td>\n",
              "      <td>20</td>\n",
              "    </tr>\n",
              "    <tr>\n",
              "      <th>6</th>\n",
              "      <td>qoo</td>\n",
              "      <td>F</td>\n",
              "      <td>20</td>\n",
              "    </tr>\n",
              "  </tbody>\n",
              "</table>\n",
              "</div>"
            ],
            "text/plain": [
              "   name gender  age\n",
              "2   tom      M   35\n",
              "3   ted      M   33\n",
              "4  jean      F   21\n",
              "5  lisa      F   20\n",
              "6   qoo      F   20"
            ]
          },
          "metadata": {
            "tags": []
          },
          "execution_count": 234
        }
      ]
    },
    {
      "cell_type": "code",
      "metadata": {
        "id": "1DbbN8QCiN01",
        "colab_type": "code",
        "colab": {}
      },
      "source": [
        "df.drop(6, axis = 0, inplace=True)"
      ],
      "execution_count": 236,
      "outputs": []
    },
    {
      "cell_type": "code",
      "metadata": {
        "id": "Fu8qgw_uiS9Y",
        "colab_type": "code",
        "colab": {
          "base_uri": "https://localhost:8080/",
          "height": 233
        },
        "outputId": "4f38d108-e0a4-4b70-8548-b8e6d157122e"
      },
      "source": [
        "df"
      ],
      "execution_count": 237,
      "outputs": [
        {
          "output_type": "execute_result",
          "data": {
            "text/html": [
              "<div>\n",
              "<style scoped>\n",
              "    .dataframe tbody tr th:only-of-type {\n",
              "        vertical-align: middle;\n",
              "    }\n",
              "\n",
              "    .dataframe tbody tr th {\n",
              "        vertical-align: top;\n",
              "    }\n",
              "\n",
              "    .dataframe thead th {\n",
              "        text-align: right;\n",
              "    }\n",
              "</style>\n",
              "<table border=\"1\" class=\"dataframe\">\n",
              "  <thead>\n",
              "    <tr style=\"text-align: right;\">\n",
              "      <th></th>\n",
              "      <th>name</th>\n",
              "      <th>gender</th>\n",
              "      <th>age</th>\n",
              "    </tr>\n",
              "  </thead>\n",
              "  <tbody>\n",
              "    <tr>\n",
              "      <th>0</th>\n",
              "      <td>frank</td>\n",
              "      <td>M</td>\n",
              "      <td>29</td>\n",
              "    </tr>\n",
              "    <tr>\n",
              "      <th>1</th>\n",
              "      <td>mary</td>\n",
              "      <td>F</td>\n",
              "      <td>23</td>\n",
              "    </tr>\n",
              "    <tr>\n",
              "      <th>2</th>\n",
              "      <td>tom</td>\n",
              "      <td>M</td>\n",
              "      <td>35</td>\n",
              "    </tr>\n",
              "    <tr>\n",
              "      <th>3</th>\n",
              "      <td>ted</td>\n",
              "      <td>M</td>\n",
              "      <td>33</td>\n",
              "    </tr>\n",
              "    <tr>\n",
              "      <th>4</th>\n",
              "      <td>jean</td>\n",
              "      <td>F</td>\n",
              "      <td>21</td>\n",
              "    </tr>\n",
              "    <tr>\n",
              "      <th>5</th>\n",
              "      <td>lisa</td>\n",
              "      <td>F</td>\n",
              "      <td>20</td>\n",
              "    </tr>\n",
              "  </tbody>\n",
              "</table>\n",
              "</div>"
            ],
            "text/plain": [
              "    name gender  age\n",
              "0  frank      M   29\n",
              "1   mary      F   23\n",
              "2    tom      M   35\n",
              "3    ted      M   33\n",
              "4   jean      F   21\n",
              "5   lisa      F   20"
            ]
          },
          "metadata": {
            "tags": []
          },
          "execution_count": 237
        }
      ]
    },
    {
      "cell_type": "code",
      "metadata": {
        "id": "HIh4BCOmiUWW",
        "colab_type": "code",
        "colab": {}
      },
      "source": [
        "df = df.append(pd.DataFrame([{'age':20,'gender':'F','name':'qoo'}]),ignore_index=True)"
      ],
      "execution_count": 241,
      "outputs": []
    },
    {
      "cell_type": "code",
      "metadata": {
        "id": "jI3o1qNKibVl",
        "colab_type": "code",
        "colab": {}
      },
      "source": [
        "df.drop(6, axis = 0, inplace=True)"
      ],
      "execution_count": 244,
      "outputs": []
    },
    {
      "cell_type": "code",
      "metadata": {
        "id": "03bQiCOMib-1",
        "colab_type": "code",
        "colab": {}
      },
      "source": [
        "df['userid'] = range(101,107)"
      ],
      "execution_count": 245,
      "outputs": []
    },
    {
      "cell_type": "code",
      "metadata": {
        "id": "w6qimvRbixfV",
        "colab_type": "code",
        "colab": {
          "base_uri": "https://localhost:8080/",
          "height": 233
        },
        "outputId": "fd74b641-4428-49ee-f820-3c427ea7a8cf"
      },
      "source": [
        "df"
      ],
      "execution_count": 246,
      "outputs": [
        {
          "output_type": "execute_result",
          "data": {
            "text/html": [
              "<div>\n",
              "<style scoped>\n",
              "    .dataframe tbody tr th:only-of-type {\n",
              "        vertical-align: middle;\n",
              "    }\n",
              "\n",
              "    .dataframe tbody tr th {\n",
              "        vertical-align: top;\n",
              "    }\n",
              "\n",
              "    .dataframe thead th {\n",
              "        text-align: right;\n",
              "    }\n",
              "</style>\n",
              "<table border=\"1\" class=\"dataframe\">\n",
              "  <thead>\n",
              "    <tr style=\"text-align: right;\">\n",
              "      <th></th>\n",
              "      <th>name</th>\n",
              "      <th>gender</th>\n",
              "      <th>age</th>\n",
              "      <th>userid</th>\n",
              "    </tr>\n",
              "  </thead>\n",
              "  <tbody>\n",
              "    <tr>\n",
              "      <th>0</th>\n",
              "      <td>frank</td>\n",
              "      <td>M</td>\n",
              "      <td>29</td>\n",
              "      <td>101</td>\n",
              "    </tr>\n",
              "    <tr>\n",
              "      <th>1</th>\n",
              "      <td>mary</td>\n",
              "      <td>F</td>\n",
              "      <td>23</td>\n",
              "      <td>102</td>\n",
              "    </tr>\n",
              "    <tr>\n",
              "      <th>2</th>\n",
              "      <td>tom</td>\n",
              "      <td>M</td>\n",
              "      <td>35</td>\n",
              "      <td>103</td>\n",
              "    </tr>\n",
              "    <tr>\n",
              "      <th>3</th>\n",
              "      <td>ted</td>\n",
              "      <td>M</td>\n",
              "      <td>33</td>\n",
              "      <td>104</td>\n",
              "    </tr>\n",
              "    <tr>\n",
              "      <th>4</th>\n",
              "      <td>jean</td>\n",
              "      <td>F</td>\n",
              "      <td>21</td>\n",
              "      <td>105</td>\n",
              "    </tr>\n",
              "    <tr>\n",
              "      <th>5</th>\n",
              "      <td>lisa</td>\n",
              "      <td>F</td>\n",
              "      <td>20</td>\n",
              "      <td>106</td>\n",
              "    </tr>\n",
              "  </tbody>\n",
              "</table>\n",
              "</div>"
            ],
            "text/plain": [
              "    name gender  age  userid\n",
              "0  frank      M   29     101\n",
              "1   mary      F   23     102\n",
              "2    tom      M   35     103\n",
              "3    ted      M   33     104\n",
              "4   jean      F   21     105\n",
              "5   lisa      F   20     106"
            ]
          },
          "metadata": {
            "tags": []
          },
          "execution_count": 246
        }
      ]
    },
    {
      "cell_type": "code",
      "metadata": {
        "id": "B8wOHItIi2Mm",
        "colab_type": "code",
        "colab": {}
      },
      "source": [
        "df.set_index('userid', inplace=True)"
      ],
      "execution_count": 247,
      "outputs": []
    },
    {
      "cell_type": "code",
      "metadata": {
        "id": "XgEgxtqvi8Jm",
        "colab_type": "code",
        "colab": {
          "base_uri": "https://localhost:8080/",
          "height": 233
        },
        "outputId": "103d6081-3559-4eac-b633-a0d573feb2c8"
      },
      "source": [
        "df.head()"
      ],
      "execution_count": 248,
      "outputs": [
        {
          "output_type": "execute_result",
          "data": {
            "text/html": [
              "<div>\n",
              "<style scoped>\n",
              "    .dataframe tbody tr th:only-of-type {\n",
              "        vertical-align: middle;\n",
              "    }\n",
              "\n",
              "    .dataframe tbody tr th {\n",
              "        vertical-align: top;\n",
              "    }\n",
              "\n",
              "    .dataframe thead th {\n",
              "        text-align: right;\n",
              "    }\n",
              "</style>\n",
              "<table border=\"1\" class=\"dataframe\">\n",
              "  <thead>\n",
              "    <tr style=\"text-align: right;\">\n",
              "      <th></th>\n",
              "      <th>name</th>\n",
              "      <th>gender</th>\n",
              "      <th>age</th>\n",
              "    </tr>\n",
              "    <tr>\n",
              "      <th>userid</th>\n",
              "      <th></th>\n",
              "      <th></th>\n",
              "      <th></th>\n",
              "    </tr>\n",
              "  </thead>\n",
              "  <tbody>\n",
              "    <tr>\n",
              "      <th>101</th>\n",
              "      <td>frank</td>\n",
              "      <td>M</td>\n",
              "      <td>29</td>\n",
              "    </tr>\n",
              "    <tr>\n",
              "      <th>102</th>\n",
              "      <td>mary</td>\n",
              "      <td>F</td>\n",
              "      <td>23</td>\n",
              "    </tr>\n",
              "    <tr>\n",
              "      <th>103</th>\n",
              "      <td>tom</td>\n",
              "      <td>M</td>\n",
              "      <td>35</td>\n",
              "    </tr>\n",
              "    <tr>\n",
              "      <th>104</th>\n",
              "      <td>ted</td>\n",
              "      <td>M</td>\n",
              "      <td>33</td>\n",
              "    </tr>\n",
              "    <tr>\n",
              "      <th>105</th>\n",
              "      <td>jean</td>\n",
              "      <td>F</td>\n",
              "      <td>21</td>\n",
              "    </tr>\n",
              "  </tbody>\n",
              "</table>\n",
              "</div>"
            ],
            "text/plain": [
              "         name gender  age\n",
              "userid                   \n",
              "101     frank      M   29\n",
              "102      mary      F   23\n",
              "103       tom      M   35\n",
              "104       ted      M   33\n",
              "105      jean      F   21"
            ]
          },
          "metadata": {
            "tags": []
          },
          "execution_count": 248
        }
      ]
    },
    {
      "cell_type": "code",
      "metadata": {
        "id": "-YMiGF2Zi9AV",
        "colab_type": "code",
        "colab": {
          "base_uri": "https://localhost:8080/",
          "height": 87
        },
        "outputId": "0ed55df5-0c38-4020-96df-2e4b4b7c7308"
      },
      "source": [
        "df.iloc[1]"
      ],
      "execution_count": 249,
      "outputs": [
        {
          "output_type": "execute_result",
          "data": {
            "text/plain": [
              "name      mary\n",
              "gender       F\n",
              "age         23\n",
              "Name: 102, dtype: object"
            ]
          },
          "metadata": {
            "tags": []
          },
          "execution_count": 249
        }
      ]
    },
    {
      "cell_type": "code",
      "metadata": {
        "id": "T57YclKGjFs3",
        "colab_type": "code",
        "colab": {
          "base_uri": "https://localhost:8080/",
          "height": 87
        },
        "outputId": "f3f40e9f-858d-4e16-e067-14cab7aaebde"
      },
      "source": [
        "df.loc[102]"
      ],
      "execution_count": 250,
      "outputs": [
        {
          "output_type": "execute_result",
          "data": {
            "text/plain": [
              "name      mary\n",
              "gender       F\n",
              "age         23\n",
              "Name: 102, dtype: object"
            ]
          },
          "metadata": {
            "tags": []
          },
          "execution_count": 250
        }
      ]
    },
    {
      "cell_type": "code",
      "metadata": {
        "id": "2NfV_8vkjI8n",
        "colab_type": "code",
        "colab": {
          "base_uri": "https://localhost:8080/",
          "height": 171
        },
        "outputId": "aa34e898-5e0d-4081-a316-bbc46a2a4da7"
      },
      "source": [
        "df.iloc[[1,3,5]]"
      ],
      "execution_count": 251,
      "outputs": [
        {
          "output_type": "execute_result",
          "data": {
            "text/html": [
              "<div>\n",
              "<style scoped>\n",
              "    .dataframe tbody tr th:only-of-type {\n",
              "        vertical-align: middle;\n",
              "    }\n",
              "\n",
              "    .dataframe tbody tr th {\n",
              "        vertical-align: top;\n",
              "    }\n",
              "\n",
              "    .dataframe thead th {\n",
              "        text-align: right;\n",
              "    }\n",
              "</style>\n",
              "<table border=\"1\" class=\"dataframe\">\n",
              "  <thead>\n",
              "    <tr style=\"text-align: right;\">\n",
              "      <th></th>\n",
              "      <th>name</th>\n",
              "      <th>gender</th>\n",
              "      <th>age</th>\n",
              "    </tr>\n",
              "    <tr>\n",
              "      <th>userid</th>\n",
              "      <th></th>\n",
              "      <th></th>\n",
              "      <th></th>\n",
              "    </tr>\n",
              "  </thead>\n",
              "  <tbody>\n",
              "    <tr>\n",
              "      <th>102</th>\n",
              "      <td>mary</td>\n",
              "      <td>F</td>\n",
              "      <td>23</td>\n",
              "    </tr>\n",
              "    <tr>\n",
              "      <th>104</th>\n",
              "      <td>ted</td>\n",
              "      <td>M</td>\n",
              "      <td>33</td>\n",
              "    </tr>\n",
              "    <tr>\n",
              "      <th>106</th>\n",
              "      <td>lisa</td>\n",
              "      <td>F</td>\n",
              "      <td>20</td>\n",
              "    </tr>\n",
              "  </tbody>\n",
              "</table>\n",
              "</div>"
            ],
            "text/plain": [
              "        name gender  age\n",
              "userid                  \n",
              "102     mary      F   23\n",
              "104      ted      M   33\n",
              "106     lisa      F   20"
            ]
          },
          "metadata": {
            "tags": []
          },
          "execution_count": 251
        }
      ]
    },
    {
      "cell_type": "code",
      "metadata": {
        "id": "V_0G9v1hjOm3",
        "colab_type": "code",
        "colab": {
          "base_uri": "https://localhost:8080/",
          "height": 171
        },
        "outputId": "6d150b70-6fd1-4df9-cfbc-0114f46161c5"
      },
      "source": [
        "df.loc[[101,103,105]]"
      ],
      "execution_count": 252,
      "outputs": [
        {
          "output_type": "execute_result",
          "data": {
            "text/html": [
              "<div>\n",
              "<style scoped>\n",
              "    .dataframe tbody tr th:only-of-type {\n",
              "        vertical-align: middle;\n",
              "    }\n",
              "\n",
              "    .dataframe tbody tr th {\n",
              "        vertical-align: top;\n",
              "    }\n",
              "\n",
              "    .dataframe thead th {\n",
              "        text-align: right;\n",
              "    }\n",
              "</style>\n",
              "<table border=\"1\" class=\"dataframe\">\n",
              "  <thead>\n",
              "    <tr style=\"text-align: right;\">\n",
              "      <th></th>\n",
              "      <th>name</th>\n",
              "      <th>gender</th>\n",
              "      <th>age</th>\n",
              "    </tr>\n",
              "    <tr>\n",
              "      <th>userid</th>\n",
              "      <th></th>\n",
              "      <th></th>\n",
              "      <th></th>\n",
              "    </tr>\n",
              "  </thead>\n",
              "  <tbody>\n",
              "    <tr>\n",
              "      <th>101</th>\n",
              "      <td>frank</td>\n",
              "      <td>M</td>\n",
              "      <td>29</td>\n",
              "    </tr>\n",
              "    <tr>\n",
              "      <th>103</th>\n",
              "      <td>tom</td>\n",
              "      <td>M</td>\n",
              "      <td>35</td>\n",
              "    </tr>\n",
              "    <tr>\n",
              "      <th>105</th>\n",
              "      <td>jean</td>\n",
              "      <td>F</td>\n",
              "      <td>21</td>\n",
              "    </tr>\n",
              "  </tbody>\n",
              "</table>\n",
              "</div>"
            ],
            "text/plain": [
              "         name gender  age\n",
              "userid                   \n",
              "101     frank      M   29\n",
              "103       tom      M   35\n",
              "105      jean      F   21"
            ]
          },
          "metadata": {
            "tags": []
          },
          "execution_count": 252
        }
      ]
    },
    {
      "cell_type": "markdown",
      "metadata": {
        "id": "I53W2z53jeSO",
        "colab_type": "text"
      },
      "source": [
        "### Practice\n",
        "請幫我從新冠肺炎資料集中挑出, 9/17/20 確診數超過100萬的國家(Country/Region)?"
      ]
    },
    {
      "cell_type": "code",
      "metadata": {
        "id": "7VksXmHejSwW",
        "colab_type": "code",
        "colab": {}
      },
      "source": [
        "import pandas as pd\n",
        "df = pd.read_csv('https://raw.githubusercontent.com/CSSEGISandData/COVID-19/master/csse_covid_19_data/csse_covid_19_time_series/time_series_covid19_confirmed_global.csv')"
      ],
      "execution_count": 254,
      "outputs": []
    },
    {
      "cell_type": "code",
      "metadata": {
        "id": "L4cnM7-sjuNo",
        "colab_type": "code",
        "colab": {
          "base_uri": "https://localhost:8080/",
          "height": 190
        },
        "outputId": "2c211ae3-4d92-44c2-eca6-09c82e8da03a"
      },
      "source": [
        "df.head(3)"
      ],
      "execution_count": 256,
      "outputs": [
        {
          "output_type": "execute_result",
          "data": {
            "text/html": [
              "<div>\n",
              "<style scoped>\n",
              "    .dataframe tbody tr th:only-of-type {\n",
              "        vertical-align: middle;\n",
              "    }\n",
              "\n",
              "    .dataframe tbody tr th {\n",
              "        vertical-align: top;\n",
              "    }\n",
              "\n",
              "    .dataframe thead th {\n",
              "        text-align: right;\n",
              "    }\n",
              "</style>\n",
              "<table border=\"1\" class=\"dataframe\">\n",
              "  <thead>\n",
              "    <tr style=\"text-align: right;\">\n",
              "      <th></th>\n",
              "      <th>Province/State</th>\n",
              "      <th>Country/Region</th>\n",
              "      <th>Lat</th>\n",
              "      <th>Long</th>\n",
              "      <th>1/22/20</th>\n",
              "      <th>1/23/20</th>\n",
              "      <th>1/24/20</th>\n",
              "      <th>1/25/20</th>\n",
              "      <th>1/26/20</th>\n",
              "      <th>1/27/20</th>\n",
              "      <th>1/28/20</th>\n",
              "      <th>1/29/20</th>\n",
              "      <th>1/30/20</th>\n",
              "      <th>1/31/20</th>\n",
              "      <th>2/1/20</th>\n",
              "      <th>2/2/20</th>\n",
              "      <th>2/3/20</th>\n",
              "      <th>2/4/20</th>\n",
              "      <th>2/5/20</th>\n",
              "      <th>2/6/20</th>\n",
              "      <th>2/7/20</th>\n",
              "      <th>2/8/20</th>\n",
              "      <th>2/9/20</th>\n",
              "      <th>2/10/20</th>\n",
              "      <th>2/11/20</th>\n",
              "      <th>2/12/20</th>\n",
              "      <th>2/13/20</th>\n",
              "      <th>2/14/20</th>\n",
              "      <th>2/15/20</th>\n",
              "      <th>2/16/20</th>\n",
              "      <th>2/17/20</th>\n",
              "      <th>2/18/20</th>\n",
              "      <th>2/19/20</th>\n",
              "      <th>2/20/20</th>\n",
              "      <th>2/21/20</th>\n",
              "      <th>2/22/20</th>\n",
              "      <th>2/23/20</th>\n",
              "      <th>2/24/20</th>\n",
              "      <th>2/25/20</th>\n",
              "      <th>2/26/20</th>\n",
              "      <th>...</th>\n",
              "      <th>8/9/20</th>\n",
              "      <th>8/10/20</th>\n",
              "      <th>8/11/20</th>\n",
              "      <th>8/12/20</th>\n",
              "      <th>8/13/20</th>\n",
              "      <th>8/14/20</th>\n",
              "      <th>8/15/20</th>\n",
              "      <th>8/16/20</th>\n",
              "      <th>8/17/20</th>\n",
              "      <th>8/18/20</th>\n",
              "      <th>8/19/20</th>\n",
              "      <th>8/20/20</th>\n",
              "      <th>8/21/20</th>\n",
              "      <th>8/22/20</th>\n",
              "      <th>8/23/20</th>\n",
              "      <th>8/24/20</th>\n",
              "      <th>8/25/20</th>\n",
              "      <th>8/26/20</th>\n",
              "      <th>8/27/20</th>\n",
              "      <th>8/28/20</th>\n",
              "      <th>8/29/20</th>\n",
              "      <th>8/30/20</th>\n",
              "      <th>8/31/20</th>\n",
              "      <th>9/1/20</th>\n",
              "      <th>9/2/20</th>\n",
              "      <th>9/3/20</th>\n",
              "      <th>9/4/20</th>\n",
              "      <th>9/5/20</th>\n",
              "      <th>9/6/20</th>\n",
              "      <th>9/7/20</th>\n",
              "      <th>9/8/20</th>\n",
              "      <th>9/9/20</th>\n",
              "      <th>9/10/20</th>\n",
              "      <th>9/11/20</th>\n",
              "      <th>9/12/20</th>\n",
              "      <th>9/13/20</th>\n",
              "      <th>9/14/20</th>\n",
              "      <th>9/15/20</th>\n",
              "      <th>9/16/20</th>\n",
              "      <th>9/17/20</th>\n",
              "    </tr>\n",
              "  </thead>\n",
              "  <tbody>\n",
              "    <tr>\n",
              "      <th>0</th>\n",
              "      <td>NaN</td>\n",
              "      <td>Afghanistan</td>\n",
              "      <td>33.93911</td>\n",
              "      <td>67.709953</td>\n",
              "      <td>0</td>\n",
              "      <td>0</td>\n",
              "      <td>0</td>\n",
              "      <td>0</td>\n",
              "      <td>0</td>\n",
              "      <td>0</td>\n",
              "      <td>0</td>\n",
              "      <td>0</td>\n",
              "      <td>0</td>\n",
              "      <td>0</td>\n",
              "      <td>0</td>\n",
              "      <td>0</td>\n",
              "      <td>0</td>\n",
              "      <td>0</td>\n",
              "      <td>0</td>\n",
              "      <td>0</td>\n",
              "      <td>0</td>\n",
              "      <td>0</td>\n",
              "      <td>0</td>\n",
              "      <td>0</td>\n",
              "      <td>0</td>\n",
              "      <td>0</td>\n",
              "      <td>0</td>\n",
              "      <td>0</td>\n",
              "      <td>0</td>\n",
              "      <td>0</td>\n",
              "      <td>0</td>\n",
              "      <td>0</td>\n",
              "      <td>0</td>\n",
              "      <td>0</td>\n",
              "      <td>0</td>\n",
              "      <td>0</td>\n",
              "      <td>0</td>\n",
              "      <td>1</td>\n",
              "      <td>1</td>\n",
              "      <td>1</td>\n",
              "      <td>...</td>\n",
              "      <td>37054</td>\n",
              "      <td>37162</td>\n",
              "      <td>37269</td>\n",
              "      <td>37345</td>\n",
              "      <td>37424</td>\n",
              "      <td>37431</td>\n",
              "      <td>37551</td>\n",
              "      <td>37596</td>\n",
              "      <td>37599</td>\n",
              "      <td>37599</td>\n",
              "      <td>37599</td>\n",
              "      <td>37856</td>\n",
              "      <td>37894</td>\n",
              "      <td>37953</td>\n",
              "      <td>37999</td>\n",
              "      <td>38054</td>\n",
              "      <td>38070</td>\n",
              "      <td>38113</td>\n",
              "      <td>38129</td>\n",
              "      <td>38140</td>\n",
              "      <td>38143</td>\n",
              "      <td>38162</td>\n",
              "      <td>38165</td>\n",
              "      <td>38196</td>\n",
              "      <td>38243</td>\n",
              "      <td>38288</td>\n",
              "      <td>38304</td>\n",
              "      <td>38324</td>\n",
              "      <td>38398</td>\n",
              "      <td>38494</td>\n",
              "      <td>38520</td>\n",
              "      <td>38544</td>\n",
              "      <td>38572</td>\n",
              "      <td>38606</td>\n",
              "      <td>38641</td>\n",
              "      <td>38716</td>\n",
              "      <td>38772</td>\n",
              "      <td>38815</td>\n",
              "      <td>38855</td>\n",
              "      <td>38872</td>\n",
              "    </tr>\n",
              "    <tr>\n",
              "      <th>1</th>\n",
              "      <td>NaN</td>\n",
              "      <td>Albania</td>\n",
              "      <td>41.15330</td>\n",
              "      <td>20.168300</td>\n",
              "      <td>0</td>\n",
              "      <td>0</td>\n",
              "      <td>0</td>\n",
              "      <td>0</td>\n",
              "      <td>0</td>\n",
              "      <td>0</td>\n",
              "      <td>0</td>\n",
              "      <td>0</td>\n",
              "      <td>0</td>\n",
              "      <td>0</td>\n",
              "      <td>0</td>\n",
              "      <td>0</td>\n",
              "      <td>0</td>\n",
              "      <td>0</td>\n",
              "      <td>0</td>\n",
              "      <td>0</td>\n",
              "      <td>0</td>\n",
              "      <td>0</td>\n",
              "      <td>0</td>\n",
              "      <td>0</td>\n",
              "      <td>0</td>\n",
              "      <td>0</td>\n",
              "      <td>0</td>\n",
              "      <td>0</td>\n",
              "      <td>0</td>\n",
              "      <td>0</td>\n",
              "      <td>0</td>\n",
              "      <td>0</td>\n",
              "      <td>0</td>\n",
              "      <td>0</td>\n",
              "      <td>0</td>\n",
              "      <td>0</td>\n",
              "      <td>0</td>\n",
              "      <td>0</td>\n",
              "      <td>0</td>\n",
              "      <td>0</td>\n",
              "      <td>...</td>\n",
              "      <td>6411</td>\n",
              "      <td>6536</td>\n",
              "      <td>6676</td>\n",
              "      <td>6817</td>\n",
              "      <td>6971</td>\n",
              "      <td>7117</td>\n",
              "      <td>7260</td>\n",
              "      <td>7380</td>\n",
              "      <td>7499</td>\n",
              "      <td>7654</td>\n",
              "      <td>7812</td>\n",
              "      <td>7967</td>\n",
              "      <td>8119</td>\n",
              "      <td>8275</td>\n",
              "      <td>8427</td>\n",
              "      <td>8605</td>\n",
              "      <td>8759</td>\n",
              "      <td>8927</td>\n",
              "      <td>9083</td>\n",
              "      <td>9195</td>\n",
              "      <td>9279</td>\n",
              "      <td>9380</td>\n",
              "      <td>9513</td>\n",
              "      <td>9606</td>\n",
              "      <td>9728</td>\n",
              "      <td>9844</td>\n",
              "      <td>9967</td>\n",
              "      <td>10102</td>\n",
              "      <td>10255</td>\n",
              "      <td>10406</td>\n",
              "      <td>10553</td>\n",
              "      <td>10704</td>\n",
              "      <td>10860</td>\n",
              "      <td>11021</td>\n",
              "      <td>11185</td>\n",
              "      <td>11353</td>\n",
              "      <td>11520</td>\n",
              "      <td>11672</td>\n",
              "      <td>11816</td>\n",
              "      <td>11948</td>\n",
              "    </tr>\n",
              "    <tr>\n",
              "      <th>2</th>\n",
              "      <td>NaN</td>\n",
              "      <td>Algeria</td>\n",
              "      <td>28.03390</td>\n",
              "      <td>1.659600</td>\n",
              "      <td>0</td>\n",
              "      <td>0</td>\n",
              "      <td>0</td>\n",
              "      <td>0</td>\n",
              "      <td>0</td>\n",
              "      <td>0</td>\n",
              "      <td>0</td>\n",
              "      <td>0</td>\n",
              "      <td>0</td>\n",
              "      <td>0</td>\n",
              "      <td>0</td>\n",
              "      <td>0</td>\n",
              "      <td>0</td>\n",
              "      <td>0</td>\n",
              "      <td>0</td>\n",
              "      <td>0</td>\n",
              "      <td>0</td>\n",
              "      <td>0</td>\n",
              "      <td>0</td>\n",
              "      <td>0</td>\n",
              "      <td>0</td>\n",
              "      <td>0</td>\n",
              "      <td>0</td>\n",
              "      <td>0</td>\n",
              "      <td>0</td>\n",
              "      <td>0</td>\n",
              "      <td>0</td>\n",
              "      <td>0</td>\n",
              "      <td>0</td>\n",
              "      <td>0</td>\n",
              "      <td>0</td>\n",
              "      <td>0</td>\n",
              "      <td>0</td>\n",
              "      <td>0</td>\n",
              "      <td>1</td>\n",
              "      <td>1</td>\n",
              "      <td>...</td>\n",
              "      <td>35160</td>\n",
              "      <td>35712</td>\n",
              "      <td>36204</td>\n",
              "      <td>36699</td>\n",
              "      <td>37187</td>\n",
              "      <td>37664</td>\n",
              "      <td>38133</td>\n",
              "      <td>38583</td>\n",
              "      <td>39025</td>\n",
              "      <td>39444</td>\n",
              "      <td>39847</td>\n",
              "      <td>40258</td>\n",
              "      <td>40667</td>\n",
              "      <td>41068</td>\n",
              "      <td>41460</td>\n",
              "      <td>41858</td>\n",
              "      <td>42228</td>\n",
              "      <td>42619</td>\n",
              "      <td>43016</td>\n",
              "      <td>43403</td>\n",
              "      <td>43781</td>\n",
              "      <td>44146</td>\n",
              "      <td>44494</td>\n",
              "      <td>44833</td>\n",
              "      <td>45158</td>\n",
              "      <td>45469</td>\n",
              "      <td>45773</td>\n",
              "      <td>46071</td>\n",
              "      <td>46364</td>\n",
              "      <td>46653</td>\n",
              "      <td>46938</td>\n",
              "      <td>47216</td>\n",
              "      <td>47488</td>\n",
              "      <td>47752</td>\n",
              "      <td>48007</td>\n",
              "      <td>48254</td>\n",
              "      <td>48496</td>\n",
              "      <td>48734</td>\n",
              "      <td>48966</td>\n",
              "      <td>49194</td>\n",
              "    </tr>\n",
              "  </tbody>\n",
              "</table>\n",
              "<p>3 rows × 244 columns</p>\n",
              "</div>"
            ],
            "text/plain": [
              "  Province/State Country/Region       Lat  ...  9/15/20  9/16/20  9/17/20\n",
              "0            NaN    Afghanistan  33.93911  ...    38815    38855    38872\n",
              "1            NaN        Albania  41.15330  ...    11672    11816    11948\n",
              "2            NaN        Algeria  28.03390  ...    48734    48966    49194\n",
              "\n",
              "[3 rows x 244 columns]"
            ]
          },
          "metadata": {
            "tags": []
          },
          "execution_count": 256
        }
      ]
    },
    {
      "cell_type": "code",
      "metadata": {
        "id": "oIE-khkOjw0n",
        "colab_type": "code",
        "colab": {}
      },
      "source": [
        ""
      ],
      "execution_count": null,
      "outputs": []
    }
  ]
}