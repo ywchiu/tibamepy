{
  "nbformat": 4,
  "nbformat_minor": 0,
  "metadata": {
    "colab": {
      "name": "Demo20200919.ipynb",
      "provenance": [],
      "collapsed_sections": []
    },
    "kernelspec": {
      "name": "python3",
      "display_name": "Python 3"
    }
  },
  "cells": [
    {
      "cell_type": "markdown",
      "metadata": {
        "id": "3-oWOcaYAOe9",
        "colab_type": "text"
      },
      "source": [
        "## 作業"
      ]
    },
    {
      "cell_type": "code",
      "metadata": {
        "id": "k8wrwIeO_wnB",
        "colab_type": "code",
        "colab": {
          "base_uri": "https://localhost:8080/",
          "height": 35
        },
        "outputId": "96cfad71-a583-4584-bb31-96cef6b1be42"
      },
      "source": [
        "import requests\n",
        "res = requests.get('https://news.ltn.com.tw/list/breakingnews')\n",
        "res"
      ],
      "execution_count": 1,
      "outputs": [
        {
          "output_type": "execute_result",
          "data": {
            "text/plain": [
              "<Response [200]>"
            ]
          },
          "metadata": {
            "tags": []
          },
          "execution_count": 1
        }
      ]
    },
    {
      "cell_type": "code",
      "metadata": {
        "id": "uMXTeWOPA9vq",
        "colab_type": "code",
        "colab": {}
      },
      "source": [
        "#res.text"
      ],
      "execution_count": 3,
      "outputs": []
    },
    {
      "cell_type": "code",
      "metadata": {
        "id": "Rwy1ljUHBAnp",
        "colab_type": "code",
        "colab": {}
      },
      "source": [
        "from bs4 import BeautifulSoup\n",
        "soup = BeautifulSoup(res.text, 'lxml')"
      ],
      "execution_count": 4,
      "outputs": []
    },
    {
      "cell_type": "code",
      "metadata": {
        "id": "IdrF11AXBTkb",
        "colab_type": "code",
        "colab": {}
      },
      "source": [
        "#soup"
      ],
      "execution_count": 6,
      "outputs": []
    },
    {
      "cell_type": "code",
      "metadata": {
        "id": "vJsZs29eBUL7",
        "colab_type": "code",
        "colab": {
          "base_uri": "https://localhost:8080/",
          "height": 731
        },
        "outputId": "7d13afae-d00f-4093-d2aa-71870a31d268"
      },
      "source": [
        "for li in soup.select('.list li'):\n",
        "  #print(li)\n",
        "  title = li.select_one('span.title').text\n",
        "  dt = li.select_one('.time').text\n",
        "  link = li.select_one('a.tit').get('href')\n",
        "  print(title, dt, link)\n",
        "  print('======================================')"
      ],
      "execution_count": 16,
      "outputs": [
        {
          "output_type": "stream",
          "text": [
            "剪接影片造假談話 CNN：拜登用假廣告攻擊川普 09:34 https://news.ltn.com.tw/news/world/breakingnews/3296734\n",
            "======================================\n",
            "9/19重要財經新聞一覽 09:32 https://ec.ltn.com.tw/article/breakingnews/3296759\n",
            "======================================\n",
            "米奇米妮萌助陣！這檔購物節超划算 3000現抵300特惠組最低46折 09:30 https://ent.ltn.com.tw/news/breakingnews/3296637\n",
            "======================================\n",
            "安倍參拜靖國神社 報告已卸下首相職務 09:29 https://news.ltn.com.tw/news/world/breakingnews/3296750\n",
            "======================================\n",
            "追思李登輝》蔡總統親頒褒揚令 追思文感念「把民主自由留給台灣」 09:28 https://news.ltn.com.tw/news/politics/breakingnews/3296678\n",
            "======================================\n",
            "追思李登輝》「三十九與九十八」 李坤儀撰文悼念祖父慈愛 09:27 https://news.ltn.com.tw/news/politics/breakingnews/3296736\n",
            "======================================\n",
            "NBA》詹皇僅拿16張第1名選票  湖人主帥仍力挺：他才是MVP 09:21 https://sports.ltn.com.tw/news/breakingnews/3296723\n",
            "======================================\n",
            "NBA》重提往事倡導精神健康 「愛神」自曝：好友救了我一命 09:20 https://sports.ltn.com.tw/news/breakingnews/3296707\n",
            "======================================\n",
            "意外捲入輕生事件 郭雪芙到處傻問「誰墜樓過」 09:20 https://ent.ltn.com.tw/news/breakingnews/3296654\n",
            "======================================\n",
            "MLB》洋基「園丁」發願再戰2021 美球迷無情狠酸：拜託不要 09:17 https://sports.ltn.com.tw/news/breakingnews/3296695\n",
            "======================================\n",
            "科技股下挫牽動美各大指數收黑 道瓊跌244點 09:16 https://ec.ltn.com.tw/article/breakingnews/3296681\n",
            "======================================\n",
            "追思李登輝》兩組民眾疑追思會場周邊抗議 警方帶至陳抗區 09:15 https://news.ltn.com.tw/news/politics/breakingnews/3296739\n",
            "======================================\n",
            "神車 Altis 挑戰者，新一代 Nissan Sentra 試駕報告！〈內有相片集〉 09:15 https://auto.ltn.com.tw/news/16152\n",
            "======================================\n",
            "追思李登輝》李坤儀手捧骨灰罈 移靈車隊由翠山莊出發 09:13 https://news.ltn.com.tw/news/politics/breakingnews/3296731\n",
            "======================================\n",
            "營區停車場猥褻女同袍：「妹妹，你可以幫我嗎？」 09:10 https://news.ltn.com.tw/news/society/breakingnews/3296724\n",
            "======================================\n",
            "「雙野CP」默契十足 綾野剛狂嗑烏龍麵直到極限 09:10 https://ent.ltn.com.tw/news/breakingnews/3296649\n",
            "======================================\n",
            "峮峮現身！一身黑踏入小鬼靈堂 拭淚惹鼻酸 09:06 https://ent.ltn.com.tw/news/breakingnews/3296729\n",
            "======================================\n",
            "申敏兒回歸大銀幕克服懼高症 登高跳水搏出名 09:00 https://ent.ltn.com.tw/news/breakingnews/3296650\n",
            "======================================\n",
            "日本「最美姊妹檔」票選木村家竟連前10都沒有！冠軍姊妹小六就被星探發掘 09:00 https://istyle.ltn.com.tw/article/14538\n",
            "======================================\n",
            "5工人喝茫聚眾鬥毆 警出齊眉棍再噴辣椒水壓制逮人 08:59 https://news.ltn.com.tw/news/society/breakingnews/3296726\n",
            "======================================\n"
          ],
          "name": "stdout"
        }
      ]
    },
    {
      "cell_type": "code",
      "metadata": {
        "id": "qCoZIAK_CFrc",
        "colab_type": "code",
        "colab": {}
      },
      "source": [
        "newsary = []\n",
        "for li in soup.select('.list li'):\n",
        "  title = li.select_one('span.title').text\n",
        "  dt = li.select_one('.time').text\n",
        "  link = li.select_one('a.tit').get('href')\n",
        "  newsary.append({'title':title, 'dt':dt, 'link':link})\n",
        "  "
      ],
      "execution_count": 17,
      "outputs": []
    },
    {
      "cell_type": "code",
      "metadata": {
        "id": "X-GpZENDDzcC",
        "colab_type": "code",
        "colab": {
          "base_uri": "https://localhost:8080/",
          "height": 69
        },
        "outputId": "b660a47b-e115-4719-830f-70aa1e3d50c2"
      },
      "source": [
        "newsary[0]"
      ],
      "execution_count": 18,
      "outputs": [
        {
          "output_type": "execute_result",
          "data": {
            "text/plain": [
              "{'dt': '09:34',\n",
              " 'link': 'https://news.ltn.com.tw/news/world/breakingnews/3296734',\n",
              " 'title': '剪接影片造假談話 CNN：拜登用假廣告攻擊川普'}"
            ]
          },
          "metadata": {
            "tags": []
          },
          "execution_count": 18
        }
      ]
    },
    {
      "cell_type": "code",
      "metadata": {
        "id": "slJJ7GHXD1vC",
        "colab_type": "code",
        "colab": {}
      },
      "source": [
        "import pandas\n",
        "newsdf = pandas.DataFrame(newsary)"
      ],
      "execution_count": 19,
      "outputs": []
    },
    {
      "cell_type": "code",
      "metadata": {
        "id": "TJ7U68fxD9_C",
        "colab_type": "code",
        "colab": {
          "base_uri": "https://localhost:8080/",
          "height": 271
        },
        "outputId": "26105292-9e3c-4159-e6b3-87ea0c0adb6e"
      },
      "source": [
        "newsdf.head()"
      ],
      "execution_count": 21,
      "outputs": [
        {
          "output_type": "execute_result",
          "data": {
            "text/html": [
              "<div>\n",
              "<style scoped>\n",
              "    .dataframe tbody tr th:only-of-type {\n",
              "        vertical-align: middle;\n",
              "    }\n",
              "\n",
              "    .dataframe tbody tr th {\n",
              "        vertical-align: top;\n",
              "    }\n",
              "\n",
              "    .dataframe thead th {\n",
              "        text-align: right;\n",
              "    }\n",
              "</style>\n",
              "<table border=\"1\" class=\"dataframe\">\n",
              "  <thead>\n",
              "    <tr style=\"text-align: right;\">\n",
              "      <th></th>\n",
              "      <th>title</th>\n",
              "      <th>dt</th>\n",
              "      <th>link</th>\n",
              "    </tr>\n",
              "  </thead>\n",
              "  <tbody>\n",
              "    <tr>\n",
              "      <th>0</th>\n",
              "      <td>剪接影片造假談話 CNN：拜登用假廣告攻擊川普</td>\n",
              "      <td>09:34</td>\n",
              "      <td>https://news.ltn.com.tw/news/world/breakingnew...</td>\n",
              "    </tr>\n",
              "    <tr>\n",
              "      <th>1</th>\n",
              "      <td>9/19重要財經新聞一覽</td>\n",
              "      <td>09:32</td>\n",
              "      <td>https://ec.ltn.com.tw/article/breakingnews/329...</td>\n",
              "    </tr>\n",
              "    <tr>\n",
              "      <th>2</th>\n",
              "      <td>米奇米妮萌助陣！這檔購物節超划算 3000現抵300特惠組最低46折</td>\n",
              "      <td>09:30</td>\n",
              "      <td>https://ent.ltn.com.tw/news/breakingnews/3296637</td>\n",
              "    </tr>\n",
              "    <tr>\n",
              "      <th>3</th>\n",
              "      <td>安倍參拜靖國神社 報告已卸下首相職務</td>\n",
              "      <td>09:29</td>\n",
              "      <td>https://news.ltn.com.tw/news/world/breakingnew...</td>\n",
              "    </tr>\n",
              "    <tr>\n",
              "      <th>4</th>\n",
              "      <td>追思李登輝》蔡總統親頒褒揚令 追思文感念「把民主自由留給台灣」</td>\n",
              "      <td>09:28</td>\n",
              "      <td>https://news.ltn.com.tw/news/politics/breaking...</td>\n",
              "    </tr>\n",
              "  </tbody>\n",
              "</table>\n",
              "</div>"
            ],
            "text/plain": [
              "                                title  ...                                               link\n",
              "0             剪接影片造假談話 CNN：拜登用假廣告攻擊川普  ...  https://news.ltn.com.tw/news/world/breakingnew...\n",
              "1                        9/19重要財經新聞一覽  ...  https://ec.ltn.com.tw/article/breakingnews/329...\n",
              "2  米奇米妮萌助陣！這檔購物節超划算 3000現抵300特惠組最低46折  ...   https://ent.ltn.com.tw/news/breakingnews/3296637\n",
              "3                  安倍參拜靖國神社 報告已卸下首相職務  ...  https://news.ltn.com.tw/news/world/breakingnew...\n",
              "4     追思李登輝》蔡總統親頒褒揚令 追思文感念「把民主自由留給台灣」  ...  https://news.ltn.com.tw/news/politics/breaking...\n",
              "\n",
              "[5 rows x 3 columns]"
            ]
          },
          "metadata": {
            "tags": []
          },
          "execution_count": 21
        }
      ]
    },
    {
      "cell_type": "code",
      "metadata": {
        "id": "dUApcyOXD-ex",
        "colab_type": "code",
        "colab": {}
      },
      "source": [
        "newsdf.to_excel('ltnnews.xlsx')"
      ],
      "execution_count": 22,
      "outputs": []
    },
    {
      "cell_type": "markdown",
      "metadata": {
        "id": "Eg8mGzgHFhNo",
        "colab_type": "text"
      },
      "source": [
        "## 完整自由時報爬蟲"
      ]
    },
    {
      "cell_type": "code",
      "metadata": {
        "id": "T8PRiLUUEIij",
        "colab_type": "code",
        "colab": {}
      },
      "source": [
        "import requests\n",
        "res = requests.get('https://news.ltn.com.tw/ajax/breakingnews/all/2')\n",
        "jd = res.json()"
      ],
      "execution_count": 25,
      "outputs": []
    },
    {
      "cell_type": "code",
      "metadata": {
        "id": "cqEDaBUgFmB3",
        "colab_type": "code",
        "colab": {}
      },
      "source": [
        "newsdf = pandas.DataFrame(jd['data'].values())"
      ],
      "execution_count": 28,
      "outputs": []
    },
    {
      "cell_type": "code",
      "metadata": {
        "id": "Kk1MQZYXFyG4",
        "colab_type": "code",
        "colab": {
          "base_uri": "https://localhost:8080/",
          "height": 611
        },
        "outputId": "26ace339-ec95-4b36-fa68-12a5c52fcf52"
      },
      "source": [
        "newsdf.head(3)"
      ],
      "execution_count": 30,
      "outputs": [
        {
          "output_type": "execute_result",
          "data": {
            "text/html": [
              "<div>\n",
              "<style scoped>\n",
              "    .dataframe tbody tr th:only-of-type {\n",
              "        vertical-align: middle;\n",
              "    }\n",
              "\n",
              "    .dataframe tbody tr th {\n",
              "        vertical-align: top;\n",
              "    }\n",
              "\n",
              "    .dataframe thead th {\n",
              "        text-align: right;\n",
              "    }\n",
              "</style>\n",
              "<table border=\"1\" class=\"dataframe\">\n",
              "  <thead>\n",
              "    <tr style=\"text-align: right;\">\n",
              "      <th></th>\n",
              "      <th>no</th>\n",
              "      <th>title</th>\n",
              "      <th>bigphoto_flag</th>\n",
              "      <th>photo_S</th>\n",
              "      <th>photo_L</th>\n",
              "      <th>url</th>\n",
              "      <th>time</th>\n",
              "      <th>type_en</th>\n",
              "      <th>group</th>\n",
              "      <th>type_cn</th>\n",
              "      <th>local</th>\n",
              "      <th>summary</th>\n",
              "      <th>video</th>\n",
              "      <th>localUrl</th>\n",
              "      <th>tagUrl</th>\n",
              "      <th>style</th>\n",
              "      <th>tagText</th>\n",
              "    </tr>\n",
              "  </thead>\n",
              "  <tbody>\n",
              "    <tr>\n",
              "      <th>0</th>\n",
              "      <td>3296731</td>\n",
              "      <td>追思李登輝》李坤儀手捧骨灰罈 移靈車隊由翠山莊出發</td>\n",
              "      <td>0</td>\n",
              "      <td>http://img.ltn.com.tw/Upload/news/250/2020/09/...</td>\n",
              "      <td>http://img.ltn.com.tw/Upload/news/600/2020/09/...</td>\n",
              "      <td>https://news.ltn.com.tw/news/politics/breaking...</td>\n",
              "      <td>09:13</td>\n",
              "      <td>politics</td>\n",
              "      <td>breakingnews</td>\n",
              "      <td>政治</td>\n",
              "      <td>臺北市</td>\n",
              "      <td>前總統李登輝追思告別禮拜今天在淡水真理大學大禮拜堂舉行，移靈車隊上午約8時45分從翠山莊出發...</td>\n",
              "      <td>0</td>\n",
              "      <td>list/breakingnews/Taipei</td>\n",
              "      <td>list/breakingnews/politics</td>\n",
              "      <td>None</td>\n",
              "      <td>政治</td>\n",
              "    </tr>\n",
              "    <tr>\n",
              "      <th>1</th>\n",
              "      <td>3296724</td>\n",
              "      <td>營區停車場猥褻女同袍：「妹妹，你可以幫我嗎？」</td>\n",
              "      <td>0</td>\n",
              "      <td>http://img.ltn.com.tw/Upload/news/250/2020/09/...</td>\n",
              "      <td>http://img.ltn.com.tw/Upload/news/600/2020/09/...</td>\n",
              "      <td>https://news.ltn.com.tw/news/society/breakingn...</td>\n",
              "      <td>09:10</td>\n",
              "      <td>society</td>\n",
              "      <td>breakingnews</td>\n",
              "      <td>社會</td>\n",
              "      <td>高雄市</td>\n",
              "      <td>高市江姓職業軍人藉故約女同袍小真（化名）到營區停車場，在自小客車內涉嫌強行親吻、揉胸，甚至抓...</td>\n",
              "      <td>0</td>\n",
              "      <td>list/breakingnews/Kaohsiung</td>\n",
              "      <td>list/breakingnews/society</td>\n",
              "      <td>None</td>\n",
              "      <td>社會</td>\n",
              "    </tr>\n",
              "    <tr>\n",
              "      <th>2</th>\n",
              "      <td>3296649</td>\n",
              "      <td>「雙野CP」默契十足 綾野剛狂嗑烏龍麵直到極限</td>\n",
              "      <td>0</td>\n",
              "      <td>http://img.ltn.com.tw/Upload/ent/page/400S/202...</td>\n",
              "      <td>http://img.ltn.com.tw/Upload/ent/page/800S/202...</td>\n",
              "      <td>https://ent.ltn.com.tw/news/breakingnews/3296649</td>\n",
              "      <td>09:10</td>\n",
              "      <td>entertainment</td>\n",
              "      <td>breakingnews</td>\n",
              "      <td>娛樂</td>\n",
              "      <td>False</td>\n",
              "      <td>星野源、綾野剛主演TBS台日劇《MIU404》日前播畢，全劇收視率創下每集均超過雙位數的亮眼...</td>\n",
              "      <td>0</td>\n",
              "      <td></td>\n",
              "      <td>list/breakingnews/entertainment</td>\n",
              "      <td>None</td>\n",
              "      <td>娛樂</td>\n",
              "    </tr>\n",
              "  </tbody>\n",
              "</table>\n",
              "</div>"
            ],
            "text/plain": [
              "        no                      title  ... style tagText\n",
              "0  3296731  追思李登輝》李坤儀手捧骨灰罈 移靈車隊由翠山莊出發  ...  None      政治\n",
              "1  3296724    營區停車場猥褻女同袍：「妹妹，你可以幫我嗎？」  ...  None      社會\n",
              "2  3296649    「雙野CP」默契十足 綾野剛狂嗑烏龍麵直到極限  ...  None      娛樂\n",
              "\n",
              "[3 rows x 17 columns]"
            ]
          },
          "metadata": {
            "tags": []
          },
          "execution_count": 30
        }
      ]
    },
    {
      "cell_type": "code",
      "metadata": {
        "id": "I2W10tBHF8GK",
        "colab_type": "code",
        "colab": {}
      },
      "source": [
        "import requests\n",
        "import time\n",
        "newsdfs = []\n",
        "for i in range(2,11):\n",
        "  res = requests.get('https://news.ltn.com.tw/ajax/breakingnews/all/{}'.format(i))\n",
        "  jd = res.json()\n",
        "  newsdf = pandas.DataFrame(jd['data'].values())\n",
        "  time.sleep(1)\n",
        "  newsdfs.append(newsdf)"
      ],
      "execution_count": 33,
      "outputs": []
    },
    {
      "cell_type": "code",
      "metadata": {
        "id": "gQ6YteIyGVYL",
        "colab_type": "code",
        "colab": {
          "base_uri": "https://localhost:8080/",
          "height": 35
        },
        "outputId": "d584562b-4157-4995-be06-f52ba50cc2c8"
      },
      "source": [
        "type(newsdfs)"
      ],
      "execution_count": 35,
      "outputs": [
        {
          "output_type": "execute_result",
          "data": {
            "text/plain": [
              "list"
            ]
          },
          "metadata": {
            "tags": []
          },
          "execution_count": 35
        }
      ]
    },
    {
      "cell_type": "code",
      "metadata": {
        "id": "gdZaoCK_Gwba",
        "colab_type": "code",
        "colab": {
          "base_uri": "https://localhost:8080/",
          "height": 35
        },
        "outputId": "8b77a072-439f-47da-d212-66de97361168"
      },
      "source": [
        "type(newsdfs[0])"
      ],
      "execution_count": 37,
      "outputs": [
        {
          "output_type": "execute_result",
          "data": {
            "text/plain": [
              "pandas.core.frame.DataFrame"
            ]
          },
          "metadata": {
            "tags": []
          },
          "execution_count": 37
        }
      ]
    },
    {
      "cell_type": "code",
      "metadata": {
        "id": "Kyq_8__jG3uS",
        "colab_type": "code",
        "colab": {}
      },
      "source": [
        "res = pandas.concat(newsdfs)"
      ],
      "execution_count": 39,
      "outputs": []
    },
    {
      "cell_type": "code",
      "metadata": {
        "id": "WicZIZZHG6Yb",
        "colab_type": "code",
        "colab": {
          "base_uri": "https://localhost:8080/",
          "height": 87
        },
        "outputId": "c2a09032-8612-42de-8f85-9681a8e7a6d2"
      },
      "source": [
        "import jieba\n",
        "words = []\n",
        "for title in res['title'].tolist():\n",
        "  words = words + jieba.lcut(title)"
      ],
      "execution_count": 43,
      "outputs": [
        {
          "output_type": "stream",
          "text": [
            "Building prefix dict from the default dictionary ...\n",
            "Dumping model to file cache /tmp/jieba.cache\n",
            "Loading model cost 0.915 seconds.\n",
            "Prefix dict has been built successfully.\n"
          ],
          "name": "stderr"
        }
      ]
    },
    {
      "cell_type": "code",
      "metadata": {
        "id": "KK-tXoNtG9_r",
        "colab_type": "code",
        "colab": {
          "base_uri": "https://localhost:8080/",
          "height": 191
        },
        "outputId": "ee80bef6-1826-47fa-fa61-bbba795a1daf"
      },
      "source": [
        "from collections import Counter\n",
        "words = [word for word in words if len(word) >=2]\n",
        "c = Counter(words)\n",
        "c.most_common(10)"
      ],
      "execution_count": 46,
      "outputs": [
        {
          "output_type": "execute_result",
          "data": {
            "text/plain": [
              "[('中職', 12),\n",
              " ('追思', 7),\n",
              " ('12', 7),\n",
              " ('中國', 7),\n",
              " ('李登輝', 6),\n",
              " ('影音', 6),\n",
              " ('兄弟', 6),\n",
              " ('網球', 5),\n",
              " ('NBA', 5),\n",
              " ('回應', 5)]"
            ]
          },
          "metadata": {
            "tags": []
          },
          "execution_count": 46
        }
      ]
    },
    {
      "cell_type": "code",
      "metadata": {
        "id": "ZhV7GD-9Ha9t",
        "colab_type": "code",
        "colab": {}
      },
      "source": [
        ""
      ],
      "execution_count": null,
      "outputs": []
    }
  ]
}