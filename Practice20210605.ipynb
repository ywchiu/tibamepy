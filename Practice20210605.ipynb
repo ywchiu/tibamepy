{
 "cells": [
  {
   "cell_type": "markdown",
   "metadata": {
    "id": "L1J4-2MZr-xB"
   },
   "source": [
    "## Practice 1\n",
    "\n",
    "請使用開發人員工具找出 PCHOME 商品 PS5 的價格資訊 API ?\n",
    "\n",
    "- https://24h.pchome.com.tw/prod/DGBJG9-A900B51SM?fq=/S/DGBJG9"
   ]
  },
  {
   "cell_type": "code",
   "execution_count": null,
   "metadata": {
    "id": "IOPT6jrer-I7"
   },
   "outputs": [],
   "source": []
  },
  {
   "cell_type": "markdown",
   "metadata": {
    "id": "-dlb0rf7sKaq"
   },
   "source": [
    "## Practice 2\n",
    "\n",
    "請用開發人員工具探索台鐵時刻查詢表是需要使用 GET 還是 POST 才能查詢到相關時刻表?\n",
    "\n",
    "- https://tip.railway.gov.tw/tra-tip-web/tip/tip001/tip112/querybytime"
   ]
  },
  {
   "cell_type": "code",
   "execution_count": null,
   "metadata": {
    "id": "lzgir04MsJiL"
   },
   "outputs": [],
   "source": []
  },
  {
   "cell_type": "markdown",
   "metadata": {
    "id": "P3bhY7iksXaf"
   },
   "source": [
    "## Practice 3\n",
    "\n",
    "請協助完成連結中的程式，讓該程式能夠順利擷取該討論串HTML 頁面中，所有連結中包含的文字：\n",
    "\n"
   ]
  },
  {
   "cell_type": "markdown",
   "metadata": {
    "id": "lpvw2THKsams"
   },
   "source": [
    "<html><body>\n",
    "<h2 class=\"post-title\"><a href=\"https://www.techbang.com/posts/85228-lenovo-thinkpad-x1-nano-is-the-lightest-black-x1-fold-\" title=\"Lenovo ThinkPad X1 Nano 史上最輕小黑官網開賣，預告 X1 Fold 摺疊筆電要登台了！\">Lenovo ThinkPad X1 Nano 史上最輕小黑官網開賣，預告 X1 Fold 摺疊筆電要登台了！</a></h2>\n",
    "<h2 class=\"post-title\"><a href=\"https://www.techbang.com/posts/85145-idc-affected-by-the-catalysis-of-the-epidemic-the-pen\" title=\"IDC：受疫情催化影響，筆電取代桌機效應逐步發酵\">IDC：受疫情催化影響，筆電取代桌機效應逐步發酵</a></h2>\n",
    "<h2 class=\"post-title\"><a href=\"https://www.techbang.com/posts/85198-amd-ryzen-pro\" title=\"AMD發表Ryzen 5000 Pro系列行動處理器，強化商務安全應用\">AMD發表Ryzen 5000 Pro系列行動處理器，強化商務安全應用</a></h2>\n",
    "<h2 class=\"post-title\"><a href=\"https://www.techbang.com/posts/84441-buy-mainstream-thin-pen-electricity-the-intel-evo-logo\" title=\"Intel Evo認證是什麼？全方位筆電平台需符合這些條件！同場加映 5 款筆電實測報告\">Intel Evo認證是什麼？全方位筆電平台需符合這些條件！同場加映 5 款筆電實測報告</a></h2>\n",
    "<h2 class=\"post-title\"><a href=\"https://www.techbang.com/posts/85005-lenovo-yoga-slim-7i-carbon-review\" title=\"白色控必收！966 公克羽量級美型筆電 Lenovo Yoga Slim 7i Carbon 開箱\">白色控必收！966 公克羽量級美型筆電 Lenovo Yoga Slim 7i Carbon 開箱</a></h2>\n",
    "<h2 class=\"post-title\"><a href=\"https://www.techbang.com/posts/85089-msi-promotes-cryptocurrency-mining-on-ge76-raider-laptop\" title=\"電競筆電挖礦是否有利可圖？MSI 官方實驗遭質疑鼓勵礦工買「挖礦筆電」\">電競筆電挖礦是否有利可圖？MSI 官方實驗遭質疑鼓勵礦工買「挖礦筆電」</a></h2>\n",
    "<h2 class=\"post-title\"><a href=\"https://www.techbang.com/posts/85060-chomrebook-has-been-available-for-10-years\" title=\"Chromebook 推出 10 周年，Chrome OS 升級 5 個好用新功能\">Chromebook 推出 10 周年，Chrome OS 升級 5 個好用新功能</a></h2>\n",
    "<h2 class=\"post-title\"><a href=\"https://www.techbang.com/posts/85076-chromebook-celebrates-its-10th-anniversary-with-intel-evo\" title=\"Chromebook 迎來 10 周年，今年推出 Intel Evo 認證款\">Chromebook 迎來 10 周年，今年推出 Intel Evo 認證款</a></h2>\n",
    "<h2 class=\"post-title\"><a href=\"https://www.techbang.com/posts/84970-aya-neo-ryzen\" title=\"AYA-NEO掌上型電腦預購開跑，7吋螢幕搭Ryzen 5 4500U處理器\">AYA-NEO掌上型電腦預購開跑，7吋螢幕搭Ryzen 5 4500U處理器</a></h2>\n",
    "<h2 class=\"post-title\"><a href=\"https://www.techbang.com/posts/84754-oled\" title=\"看過就回不去了！OLED 螢幕筆電好在哪？看 ASUS ZenBook Flip S（UX371） 翻轉美的畫面\">看過就回不去了！OLED 螢幕筆電好在哪？看 ASUS ZenBook Flip S（UX371） 翻轉美的畫面</a></h2>\n",
    "<h2 class=\"post-title\"><a href=\"https://www.techbang.com/posts/84801-leef-smartphone-dock\" title=\"Leef：有著筆電造型的手機擴充底座，重量只有998公克\">Leef：有著筆電造型的手機擴充底座，重量只有998公克</a></h2>\n",
    "<h2 class=\"post-title\"><a href=\"https://www.techbang.com/posts/83675-why-is-there-a-pen-that-uses-a-traditional-round-charging-port\" title=\"筆電Type-C充電輸入這麼好用，為什麼還有筆電堅持傳統的「圓形充電口」？\">筆電Type-C充電輸入這麼好用，為什麼還有筆電堅持傳統的「圓形充電口」？</a></h2>    \n",
    "</body></html>"
   ]
  },
  {
   "cell_type": "code",
   "execution_count": null,
   "metadata": {},
   "outputs": [],
   "source": []
  },
  {
   "cell_type": "markdown",
   "metadata": {
    "id": "_wANdsfLsd4U"
   },
   "source": [
    "## Practice 4\n",
    "\n",
    "請撰寫一個網路爬蟲蒐集 PTT Stock 版 的標題\n",
    "\n",
    "- https://www.ptt.cc/bbs/Stock/index.html"
   ]
  },
  {
   "cell_type": "code",
   "execution_count": null,
   "metadata": {
    "id": "ESdPO4YIsgas"
   },
   "outputs": [],
   "source": []
  },
  {
   "cell_type": "markdown",
   "metadata": {
    "id": "DdKNJhPfsnie"
   },
   "source": [
    "## 回家作業 (Python 網路爬蟲)\n",
    "\n",
    "請協助抓自由時報(https://news.ltn.com.tw/list/breakingnews) 即時新聞區的:\n",
    "\n",
    "- 標題\n",
    "- 連結\n",
    "- 時間\n"
   ]
  },
  {
   "cell_type": "code",
   "execution_count": null,
   "metadata": {
    "id": "7NfW0qIesxSM"
   },
   "outputs": [],
   "source": []
  }
 ],
 "metadata": {
  "colab": {
   "collapsed_sections": [],
   "name": "Practice20210529.ipynb",
   "provenance": []
  },
  "kernelspec": {
   "display_name": "Python 3",
   "language": "python",
   "name": "python3"
  },
  "language_info": {
   "codemirror_mode": {
    "name": "ipython",
    "version": 3
   },
   "file_extension": ".py",
   "mimetype": "text/x-python",
   "name": "python",
   "nbconvert_exporter": "python",
   "pygments_lexer": "ipython3",
   "version": "3.7.3"
  }
 },
 "nbformat": 4,
 "nbformat_minor": 1
}
