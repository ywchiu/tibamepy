{
  "nbformat": 4,
  "nbformat_minor": 0,
  "metadata": {
    "colab": {
      "name": "Practice20210529.ipynb",
      "provenance": [],
      "collapsed_sections": []
    },
    "kernelspec": {
      "name": "python3",
      "display_name": "Python 3"
    },
    "language_info": {
      "name": "python"
    }
  },
  "cells": [
    {
      "cell_type": "markdown",
      "metadata": {
        "id": "L1J4-2MZr-xB"
      },
      "source": [
        "## Practice 1\n",
        "\n",
        "現在在系統上看到客戶存入 'US$600,000' 的字串資訊，現在需要根據美金對新台幣的匯率(現金)29.325將該金額轉換成數字後存入系統，請使用Python 將該字串轉換為數字後，接著根據匯率轉換成台幣金額\n",
        "\n",
        "請使用Python計算並列出計算過程"
      ]
    },
    {
      "cell_type": "code",
      "metadata": {
        "id": "IOPT6jrer-I7"
      },
      "source": [
        ""
      ],
      "execution_count": null,
      "outputs": []
    },
    {
      "cell_type": "markdown",
      "metadata": {
        "id": "-dlb0rf7sKaq"
      },
      "source": [
        "## Practice 2\n",
        "\n",
        "我們希望建立一個對話機器人, 機器人裡面內建一個資料問答資料庫, 資料庫的問題跟答案如下所示:\n",
        "\n",
        "- 問題:我要保保險 答案: 以下是我們推薦的險-總類\n",
        "- 問題:我要貸款 答案: 以下是我們推薦的貸款總類\n",
        "- 問題:我要查餘額 答案: 以下是您的銀行存款餘額\n",
        "\n",
        "希望你能用這個問答資料庫建立成一個Python 字典, 當使用者輸入問題時, 可以根據問答資料庫回答答案, 但是如果問題不在資料庫之中，請答：我現在還不聰明，等我變聰明以後再回答你"
      ]
    },
    {
      "cell_type": "code",
      "metadata": {
        "id": "lzgir04MsJiL"
      },
      "source": [
        ""
      ],
      "execution_count": null,
      "outputs": []
    },
    {
      "cell_type": "markdown",
      "metadata": {
        "id": "P3bhY7iksXaf"
      },
      "source": [
        "## Practice 3\n",
        "\n",
        "我們希望建立一個對話機器人, 機器人裡面內建一個資料問答資料庫, 資料庫的問題跟答案如下所示:\n",
        "\n",
        "- 問題:保險 答案: 以下是我們推薦的險總類\n",
        "- 問題:貸款 答案: 以下是我們推薦的貸款總類\n",
        "- 問題:存款 答案: 以下是您的銀行存款餘額\n",
        "\n",
        "希望你能用這個問答資料庫建立成一個Python 字典, 當使用者輸入問題時, 只要問題中有部分關鍵字對到問答資料庫的問題,電腦就予以回答\n",
        "\n",
        "(加分) 但是如果問題不在資料庫之中，請答：我現在還不聰明，等我變聰明以後再回答你 (for...else)"
      ]
    },
    {
      "cell_type": "code",
      "metadata": {
        "id": "lpvw2THKsams"
      },
      "source": [
        ""
      ],
      "execution_count": null,
      "outputs": []
    },
    {
      "cell_type": "markdown",
      "metadata": {
        "id": "_wANdsfLsd4U"
      },
      "source": [
        "## Practice 4\n",
        "\n",
        "請撰寫一個名為convertMoney的函式，能將使用者輸入的數字，回傳增加千位符號後的字串，但若使用者輸入的若非數字，系統則會回傳None。\n",
        "\n",
        "**例如：**\n",
        "\n",
        "使用者輸入 123000 函數回傳 123,000 使用者輸入 hello 函數則回傳 None\n",
        "\n",
        "請使用Python計算並列出計算過程"
      ]
    },
    {
      "cell_type": "code",
      "metadata": {
        "id": "ESdPO4YIsgas"
      },
      "source": [
        ""
      ],
      "execution_count": null,
      "outputs": []
    },
    {
      "cell_type": "markdown",
      "metadata": {
        "id": "DdKNJhPfsnie"
      },
      "source": [
        "## 回家作業 (Python 基礎)\n",
        "\n",
        "1.  請使用 pip 將 jieba 安裝在自己的電腦上\n",
        "2.  閱讀jieba 相關的文件，了解jieba 的用法\n",
        "3.  請將蔡英文演說文 (https://raw.githubusercontent.com/ywchiu/tibamedl/master/Data/speech_tsai.txt) 下載存入到自己電腦\n",
        "4.  請使用python 的檔案操作方法讀取新聞\n",
        "5.  請使用 jieba 將演說文切詞\n",
        "6.  請統計該演說文最常出現的十大字詞"
      ]
    },
    {
      "cell_type": "code",
      "metadata": {
        "id": "7NfW0qIesxSM"
      },
      "source": [
        ""
      ],
      "execution_count": null,
      "outputs": []
    }
  ]
}