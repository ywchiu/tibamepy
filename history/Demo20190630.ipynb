{
 "cells": [
  {
   "cell_type": "markdown",
   "metadata": {},
   "source": [
    "## PyAutoGUI (RPA)"
   ]
  },
  {
   "cell_type": "code",
   "execution_count": 9,
   "metadata": {},
   "outputs": [],
   "source": [
    "import pyautogui\n",
    "screenWidth, screenHeight = pyautogui.size()"
   ]
  },
  {
   "cell_type": "code",
   "execution_count": 10,
   "metadata": {},
   "outputs": [
    {
     "data": {
      "text/plain": [
       "1366"
      ]
     },
     "execution_count": 10,
     "metadata": {},
     "output_type": "execute_result"
    }
   ],
   "source": [
    "screenWidth"
   ]
  },
  {
   "cell_type": "code",
   "execution_count": 11,
   "metadata": {},
   "outputs": [],
   "source": [
    "currentMouseX, currentMouseY = pyautogui.position()\n",
    "pyautogui.moveTo(100, 150)\n",
    "pyautogui.click()"
   ]
  },
  {
   "cell_type": "markdown",
   "metadata": {},
   "source": [
    "## 讀取股價資料"
   ]
  },
  {
   "cell_type": "markdown",
   "metadata": {},
   "source": [
    "### Method 1"
   ]
  },
  {
   "cell_type": "code",
   "execution_count": 12,
   "metadata": {},
   "outputs": [
    {
     "data": {
      "text/html": [
       "<div>\n",
       "<style scoped>\n",
       "    .dataframe tbody tr th:only-of-type {\n",
       "        vertical-align: middle;\n",
       "    }\n",
       "\n",
       "    .dataframe tbody tr th {\n",
       "        vertical-align: top;\n",
       "    }\n",
       "\n",
       "    .dataframe thead th {\n",
       "        text-align: right;\n",
       "    }\n",
       "</style>\n",
       "<table border=\"1\" class=\"dataframe\">\n",
       "  <thead>\n",
       "    <tr style=\"text-align: right;\">\n",
       "      <th></th>\n",
       "      <th>Date</th>\n",
       "      <th>Open</th>\n",
       "      <th>High</th>\n",
       "      <th>Low</th>\n",
       "      <th>Close</th>\n",
       "      <th>Adj Close</th>\n",
       "      <th>Volume</th>\n",
       "    </tr>\n",
       "  </thead>\n",
       "  <tbody>\n",
       "    <tr>\n",
       "      <th>0</th>\n",
       "      <td>2000-01-04</td>\n",
       "      <td>69.649002</td>\n",
       "      <td>69.649002</td>\n",
       "      <td>68.475197</td>\n",
       "      <td>69.649002</td>\n",
       "      <td>38.253021</td>\n",
       "      <td>2.006623e+11</td>\n",
       "    </tr>\n",
       "    <tr>\n",
       "      <th>1</th>\n",
       "      <td>2000-01-05</td>\n",
       "      <td>69.649002</td>\n",
       "      <td>71.214104</td>\n",
       "      <td>68.866302</td>\n",
       "      <td>71.214104</td>\n",
       "      <td>39.112621</td>\n",
       "      <td>4.024668e+11</td>\n",
       "    </tr>\n",
       "    <tr>\n",
       "      <th>2</th>\n",
       "      <td>2000-01-06</td>\n",
       "      <td>70.822899</td>\n",
       "      <td>71.214104</td>\n",
       "      <td>69.649002</td>\n",
       "      <td>69.649002</td>\n",
       "      <td>38.253021</td>\n",
       "      <td>1.975457e+11</td>\n",
       "    </tr>\n",
       "    <tr>\n",
       "      <th>3</th>\n",
       "      <td>2000-01-07</td>\n",
       "      <td>67.301300</td>\n",
       "      <td>68.475197</td>\n",
       "      <td>66.518600</td>\n",
       "      <td>67.692497</td>\n",
       "      <td>37.178459</td>\n",
       "      <td>2.352703e+11</td>\n",
       "    </tr>\n",
       "    <tr>\n",
       "      <th>4</th>\n",
       "      <td>2000-01-10</td>\n",
       "      <td>69.649002</td>\n",
       "      <td>70.431396</td>\n",
       "      <td>68.475197</td>\n",
       "      <td>70.040199</td>\n",
       "      <td>38.467876</td>\n",
       "      <td>2.761717e+11</td>\n",
       "    </tr>\n",
       "  </tbody>\n",
       "</table>\n",
       "</div>"
      ],
      "text/plain": [
       "         Date       Open       High        Low      Close  Adj Close  \\\n",
       "0  2000-01-04  69.649002  69.649002  68.475197  69.649002  38.253021   \n",
       "1  2000-01-05  69.649002  71.214104  68.866302  71.214104  39.112621   \n",
       "2  2000-01-06  70.822899  71.214104  69.649002  69.649002  38.253021   \n",
       "3  2000-01-07  67.301300  68.475197  66.518600  67.692497  37.178459   \n",
       "4  2000-01-10  69.649002  70.431396  68.475197  70.040199  38.467876   \n",
       "\n",
       "         Volume  \n",
       "0  2.006623e+11  \n",
       "1  4.024668e+11  \n",
       "2  1.975457e+11  \n",
       "3  2.352703e+11  \n",
       "4  2.761717e+11  "
      ]
     },
     "execution_count": 12,
     "metadata": {},
     "output_type": "execute_result"
    }
   ],
   "source": [
    "import pandas\n",
    "df = pandas.read_csv('https://raw.githubusercontent.com/ywchiu/tibamepy/master/data/2330.TW.csv')\n",
    "df.head()"
   ]
  },
  {
   "cell_type": "markdown",
   "metadata": {},
   "source": [
    "### Method 2"
   ]
  },
  {
   "cell_type": "code",
   "execution_count": 17,
   "metadata": {},
   "outputs": [],
   "source": [
    "import pandas\n",
    "dfs = pandas.read_html('https://finance.yahoo.com/quote/2330.TW/history?period1=946915200&period2=1561824000&interval=1d&filter=history&frequency=1d')"
   ]
  },
  {
   "cell_type": "code",
   "execution_count": 19,
   "metadata": {},
   "outputs": [],
   "source": [
    "df = dfs[0]"
   ]
  },
  {
   "cell_type": "code",
   "execution_count": 24,
   "metadata": {},
   "outputs": [],
   "source": [
    "import re\n",
    "df = df[df['Open'].map(lambda e: True if re.match('^[\\d\\.]+$', e) else False )]"
   ]
  },
  {
   "cell_type": "markdown",
   "metadata": {},
   "source": [
    "### Method 3\n",
    "- 安裝 Pandas Data Reader\n",
    "- pip install pandas_datareader"
   ]
  },
  {
   "cell_type": "code",
   "execution_count": 26,
   "metadata": {},
   "outputs": [
    {
     "name": "stdout",
     "output_type": "stream",
     "text": [
      "Requirement already satisfied: pandas_datareader in c:\\programdata\\anaconda3\\lib\\site-packages (0.7.0)\n",
      "Requirement already satisfied: wrapt in c:\\programdata\\anaconda3\\lib\\site-packages (from pandas_datareader) (1.11.1)\n",
      "Requirement already satisfied: requests>=2.3.0 in c:\\programdata\\anaconda3\\lib\\site-packages (from pandas_datareader) (2.21.0)\n",
      "Requirement already satisfied: pandas>=0.19.2 in c:\\programdata\\anaconda3\\lib\\site-packages (from pandas_datareader) (0.24.2)\n",
      "Requirement already satisfied: lxml in c:\\programdata\\anaconda3\\lib\\site-packages (from pandas_datareader) (4.3.2)\n",
      "Requirement already satisfied: chardet<3.1.0,>=3.0.2 in c:\\programdata\\anaconda3\\lib\\site-packages (from requests>=2.3.0->pandas_datareader) (3.0.4)\n",
      "Requirement already satisfied: idna<2.9,>=2.5 in c:\\programdata\\anaconda3\\lib\\site-packages (from requests>=2.3.0->pandas_datareader) (2.8)\n",
      "Requirement already satisfied: urllib3<1.25,>=1.21.1 in c:\\programdata\\anaconda3\\lib\\site-packages (from requests>=2.3.0->pandas_datareader) (1.24.1)\n",
      "Requirement already satisfied: certifi>=2017.4.17 in c:\\programdata\\anaconda3\\lib\\site-packages (from requests>=2.3.0->pandas_datareader) (2019.3.9)\n",
      "Requirement already satisfied: numpy>=1.12.0 in c:\\programdata\\anaconda3\\lib\\site-packages (from pandas>=0.19.2->pandas_datareader) (1.16.2)\n",
      "Requirement already satisfied: pytz>=2011k in c:\\programdata\\anaconda3\\lib\\site-packages (from pandas>=0.19.2->pandas_datareader) (2018.9)\n",
      "Requirement already satisfied: python-dateutil>=2.5.0 in c:\\programdata\\anaconda3\\lib\\site-packages (from pandas>=0.19.2->pandas_datareader) (2.8.0)\n",
      "Requirement already satisfied: six>=1.5 in c:\\programdata\\anaconda3\\lib\\site-packages (from python-dateutil>=2.5.0->pandas>=0.19.2->pandas_datareader) (1.12.0)\n"
     ]
    }
   ],
   "source": [
    "! pip install pandas_datareader"
   ]
  },
  {
   "cell_type": "code",
   "execution_count": 29,
   "metadata": {},
   "outputs": [
    {
     "data": {
      "text/html": [
       "<div>\n",
       "<style scoped>\n",
       "    .dataframe tbody tr th:only-of-type {\n",
       "        vertical-align: middle;\n",
       "    }\n",
       "\n",
       "    .dataframe tbody tr th {\n",
       "        vertical-align: top;\n",
       "    }\n",
       "\n",
       "    .dataframe thead th {\n",
       "        text-align: right;\n",
       "    }\n",
       "</style>\n",
       "<table border=\"1\" class=\"dataframe\">\n",
       "  <thead>\n",
       "    <tr style=\"text-align: right;\">\n",
       "      <th></th>\n",
       "      <th>High</th>\n",
       "      <th>Low</th>\n",
       "      <th>Open</th>\n",
       "      <th>Close</th>\n",
       "      <th>Volume</th>\n",
       "      <th>Adj Close</th>\n",
       "    </tr>\n",
       "    <tr>\n",
       "      <th>Date</th>\n",
       "      <th></th>\n",
       "      <th></th>\n",
       "      <th></th>\n",
       "      <th></th>\n",
       "      <th></th>\n",
       "      <th></th>\n",
       "    </tr>\n",
       "  </thead>\n",
       "  <tbody>\n",
       "    <tr>\n",
       "      <th>2000-01-04</th>\n",
       "      <td>69.649002</td>\n",
       "      <td>68.475197</td>\n",
       "      <td>69.649002</td>\n",
       "      <td>69.649002</td>\n",
       "      <td>2.006623e+11</td>\n",
       "      <td>38.253021</td>\n",
       "    </tr>\n",
       "    <tr>\n",
       "      <th>2000-01-05</th>\n",
       "      <td>71.214104</td>\n",
       "      <td>68.866302</td>\n",
       "      <td>69.649002</td>\n",
       "      <td>71.214104</td>\n",
       "      <td>4.024668e+11</td>\n",
       "      <td>39.112621</td>\n",
       "    </tr>\n",
       "    <tr>\n",
       "      <th>2000-01-06</th>\n",
       "      <td>71.214104</td>\n",
       "      <td>69.649002</td>\n",
       "      <td>70.822899</td>\n",
       "      <td>69.649002</td>\n",
       "      <td>1.975457e+11</td>\n",
       "      <td>38.253021</td>\n",
       "    </tr>\n",
       "    <tr>\n",
       "      <th>2000-01-07</th>\n",
       "      <td>68.475197</td>\n",
       "      <td>66.518600</td>\n",
       "      <td>67.301300</td>\n",
       "      <td>67.692497</td>\n",
       "      <td>2.352703e+11</td>\n",
       "      <td>37.178459</td>\n",
       "    </tr>\n",
       "    <tr>\n",
       "      <th>2000-01-10</th>\n",
       "      <td>70.431396</td>\n",
       "      <td>68.475197</td>\n",
       "      <td>69.649002</td>\n",
       "      <td>70.040199</td>\n",
       "      <td>2.761717e+11</td>\n",
       "      <td>38.467876</td>\n",
       "    </tr>\n",
       "  </tbody>\n",
       "</table>\n",
       "</div>"
      ],
      "text/plain": [
       "                 High        Low       Open      Close        Volume  \\\n",
       "Date                                                                   \n",
       "2000-01-04  69.649002  68.475197  69.649002  69.649002  2.006623e+11   \n",
       "2000-01-05  71.214104  68.866302  69.649002  71.214104  4.024668e+11   \n",
       "2000-01-06  71.214104  69.649002  70.822899  69.649002  1.975457e+11   \n",
       "2000-01-07  68.475197  66.518600  67.301300  67.692497  2.352703e+11   \n",
       "2000-01-10  70.431396  68.475197  69.649002  70.040199  2.761717e+11   \n",
       "\n",
       "            Adj Close  \n",
       "Date                   \n",
       "2000-01-04  38.253021  \n",
       "2000-01-05  39.112621  \n",
       "2000-01-06  38.253021  \n",
       "2000-01-07  37.178459  \n",
       "2000-01-10  38.467876  "
      ]
     },
     "execution_count": 29,
     "metadata": {},
     "output_type": "execute_result"
    }
   ],
   "source": [
    "from pandas_datareader import DataReader\n",
    "df = DataReader('2330.TW', 'yahoo', start='2000-01-01')\n",
    "df.head()"
   ]
  },
  {
   "cell_type": "markdown",
   "metadata": {},
   "source": [
    "## Pandas DataFrame"
   ]
  },
  {
   "cell_type": "code",
   "execution_count": 30,
   "metadata": {},
   "outputs": [
    {
     "name": "stdout",
     "output_type": "stream",
     "text": [
      "<class 'pandas.core.frame.DataFrame'>\n",
      "DatetimeIndex: 4803 entries, 2000-01-04 to 2019-06-28\n",
      "Data columns (total 6 columns):\n",
      "High         4803 non-null float64\n",
      "Low          4803 non-null float64\n",
      "Open         4803 non-null float64\n",
      "Close        4803 non-null float64\n",
      "Volume       4803 non-null float64\n",
      "Adj Close    4803 non-null float64\n",
      "dtypes: float64(6)\n",
      "memory usage: 262.7 KB\n"
     ]
    }
   ],
   "source": [
    "df.info()"
   ]
  },
  {
   "cell_type": "code",
   "execution_count": 31,
   "metadata": {},
   "outputs": [
    {
     "data": {
      "text/html": [
       "<div>\n",
       "<style scoped>\n",
       "    .dataframe tbody tr th:only-of-type {\n",
       "        vertical-align: middle;\n",
       "    }\n",
       "\n",
       "    .dataframe tbody tr th {\n",
       "        vertical-align: top;\n",
       "    }\n",
       "\n",
       "    .dataframe thead th {\n",
       "        text-align: right;\n",
       "    }\n",
       "</style>\n",
       "<table border=\"1\" class=\"dataframe\">\n",
       "  <thead>\n",
       "    <tr style=\"text-align: right;\">\n",
       "      <th></th>\n",
       "      <th>High</th>\n",
       "      <th>Low</th>\n",
       "      <th>Open</th>\n",
       "      <th>Close</th>\n",
       "      <th>Volume</th>\n",
       "      <th>Adj Close</th>\n",
       "    </tr>\n",
       "  </thead>\n",
       "  <tbody>\n",
       "    <tr>\n",
       "      <th>count</th>\n",
       "      <td>4803.000000</td>\n",
       "      <td>4803.000000</td>\n",
       "      <td>4803.000000</td>\n",
       "      <td>4803.000000</td>\n",
       "      <td>4.803000e+03</td>\n",
       "      <td>4803.000000</td>\n",
       "    </tr>\n",
       "    <tr>\n",
       "      <th>mean</th>\n",
       "      <td>95.264669</td>\n",
       "      <td>93.540611</td>\n",
       "      <td>94.432096</td>\n",
       "      <td>94.448410</td>\n",
       "      <td>2.364988e+10</td>\n",
       "      <td>74.851053</td>\n",
       "    </tr>\n",
       "    <tr>\n",
       "      <th>std</th>\n",
       "      <td>61.181556</td>\n",
       "      <td>60.545141</td>\n",
       "      <td>60.893307</td>\n",
       "      <td>60.896135</td>\n",
       "      <td>4.567786e+10</td>\n",
       "      <td>63.346913</td>\n",
       "    </tr>\n",
       "    <tr>\n",
       "      <th>min</th>\n",
       "      <td>27.612900</td>\n",
       "      <td>26.918800</td>\n",
       "      <td>26.995701</td>\n",
       "      <td>27.458401</td>\n",
       "      <td>0.000000e+00</td>\n",
       "      <td>15.080860</td>\n",
       "    </tr>\n",
       "    <tr>\n",
       "      <th>25%</th>\n",
       "      <td>52.849602</td>\n",
       "      <td>51.550800</td>\n",
       "      <td>52.238550</td>\n",
       "      <td>52.238800</td>\n",
       "      <td>3.153250e+07</td>\n",
       "      <td>30.237722</td>\n",
       "    </tr>\n",
       "    <tr>\n",
       "      <th>50%</th>\n",
       "      <td>66.853500</td>\n",
       "      <td>65.509697</td>\n",
       "      <td>66.134201</td>\n",
       "      <td>66.279602</td>\n",
       "      <td>4.962662e+07</td>\n",
       "      <td>43.102715</td>\n",
       "    </tr>\n",
       "    <tr>\n",
       "      <th>75%</th>\n",
       "      <td>124.000000</td>\n",
       "      <td>122.500000</td>\n",
       "      <td>123.500000</td>\n",
       "      <td>123.500000</td>\n",
       "      <td>4.011391e+10</td>\n",
       "      <td>103.338993</td>\n",
       "    </tr>\n",
       "    <tr>\n",
       "      <th>max</th>\n",
       "      <td>270.000000</td>\n",
       "      <td>267.500000</td>\n",
       "      <td>270.000000</td>\n",
       "      <td>269.000000</td>\n",
       "      <td>4.476381e+11</td>\n",
       "      <td>260.340027</td>\n",
       "    </tr>\n",
       "  </tbody>\n",
       "</table>\n",
       "</div>"
      ],
      "text/plain": [
       "              High          Low         Open        Close        Volume  \\\n",
       "count  4803.000000  4803.000000  4803.000000  4803.000000  4.803000e+03   \n",
       "mean     95.264669    93.540611    94.432096    94.448410  2.364988e+10   \n",
       "std      61.181556    60.545141    60.893307    60.896135  4.567786e+10   \n",
       "min      27.612900    26.918800    26.995701    27.458401  0.000000e+00   \n",
       "25%      52.849602    51.550800    52.238550    52.238800  3.153250e+07   \n",
       "50%      66.853500    65.509697    66.134201    66.279602  4.962662e+07   \n",
       "75%     124.000000   122.500000   123.500000   123.500000  4.011391e+10   \n",
       "max     270.000000   267.500000   270.000000   269.000000  4.476381e+11   \n",
       "\n",
       "         Adj Close  \n",
       "count  4803.000000  \n",
       "mean     74.851053  \n",
       "std      63.346913  \n",
       "min      15.080860  \n",
       "25%      30.237722  \n",
       "50%      43.102715  \n",
       "75%     103.338993  \n",
       "max     260.340027  "
      ]
     },
     "execution_count": 31,
     "metadata": {},
     "output_type": "execute_result"
    }
   ],
   "source": [
    "df.describe()"
   ]
  },
  {
   "cell_type": "code",
   "execution_count": 32,
   "metadata": {},
   "outputs": [
    {
     "data": {
      "text/plain": [
       "High         float64\n",
       "Low          float64\n",
       "Open         float64\n",
       "Close        float64\n",
       "Volume       float64\n",
       "Adj Close    float64\n",
       "dtype: object"
      ]
     },
     "execution_count": 32,
     "metadata": {},
     "output_type": "execute_result"
    }
   ],
   "source": [
    "df.dtypes"
   ]
  },
  {
   "cell_type": "code",
   "execution_count": 33,
   "metadata": {},
   "outputs": [
    {
     "data": {
      "text/plain": [
       "27.45840072631836"
      ]
     },
     "execution_count": 33,
     "metadata": {},
     "output_type": "execute_result"
    }
   ],
   "source": [
    "df['Close'].min()"
   ]
  },
  {
   "cell_type": "code",
   "execution_count": 34,
   "metadata": {},
   "outputs": [
    {
     "data": {
      "text/plain": [
       "269.0"
      ]
     },
     "execution_count": 34,
     "metadata": {},
     "output_type": "execute_result"
    }
   ],
   "source": [
    "df['Close'].max()"
   ]
  },
  {
   "cell_type": "code",
   "execution_count": 35,
   "metadata": {},
   "outputs": [
    {
     "data": {
      "text/plain": [
       "4803"
      ]
     },
     "execution_count": 35,
     "metadata": {},
     "output_type": "execute_result"
    }
   ],
   "source": [
    "df['Close'].count()"
   ]
  },
  {
   "cell_type": "code",
   "execution_count": 36,
   "metadata": {},
   "outputs": [
    {
     "data": {
      "text/plain": [
       "4803"
      ]
     },
     "execution_count": 36,
     "metadata": {},
     "output_type": "execute_result"
    }
   ],
   "source": [
    "len(df['Close'])"
   ]
  },
  {
   "cell_type": "code",
   "execution_count": 37,
   "metadata": {},
   "outputs": [
    {
     "data": {
      "text/html": [
       "<div>\n",
       "<style scoped>\n",
       "    .dataframe tbody tr th:only-of-type {\n",
       "        vertical-align: middle;\n",
       "    }\n",
       "\n",
       "    .dataframe tbody tr th {\n",
       "        vertical-align: top;\n",
       "    }\n",
       "\n",
       "    .dataframe thead th {\n",
       "        text-align: right;\n",
       "    }\n",
       "</style>\n",
       "<table border=\"1\" class=\"dataframe\">\n",
       "  <thead>\n",
       "    <tr style=\"text-align: right;\">\n",
       "      <th></th>\n",
       "      <th>High</th>\n",
       "      <th>Low</th>\n",
       "      <th>Open</th>\n",
       "      <th>Close</th>\n",
       "      <th>Volume</th>\n",
       "      <th>Adj Close</th>\n",
       "    </tr>\n",
       "    <tr>\n",
       "      <th>Date</th>\n",
       "      <th></th>\n",
       "      <th></th>\n",
       "      <th></th>\n",
       "      <th></th>\n",
       "      <th></th>\n",
       "      <th></th>\n",
       "    </tr>\n",
       "  </thead>\n",
       "  <tbody>\n",
       "    <tr>\n",
       "      <th>2000-01-04</th>\n",
       "      <td>69.649002</td>\n",
       "      <td>68.475197</td>\n",
       "      <td>69.649002</td>\n",
       "      <td>69.649002</td>\n",
       "      <td>2.006623e+11</td>\n",
       "      <td>38.253021</td>\n",
       "    </tr>\n",
       "    <tr>\n",
       "      <th>2000-01-05</th>\n",
       "      <td>71.214104</td>\n",
       "      <td>68.866302</td>\n",
       "      <td>69.649002</td>\n",
       "      <td>71.214104</td>\n",
       "      <td>4.024668e+11</td>\n",
       "      <td>39.112621</td>\n",
       "    </tr>\n",
       "    <tr>\n",
       "      <th>2000-01-06</th>\n",
       "      <td>71.214104</td>\n",
       "      <td>69.649002</td>\n",
       "      <td>70.822899</td>\n",
       "      <td>69.649002</td>\n",
       "      <td>1.975457e+11</td>\n",
       "      <td>38.253021</td>\n",
       "    </tr>\n",
       "    <tr>\n",
       "      <th>2000-01-07</th>\n",
       "      <td>68.475197</td>\n",
       "      <td>66.518600</td>\n",
       "      <td>67.301300</td>\n",
       "      <td>67.692497</td>\n",
       "      <td>2.352703e+11</td>\n",
       "      <td>37.178459</td>\n",
       "    </tr>\n",
       "    <tr>\n",
       "      <th>2000-01-10</th>\n",
       "      <td>70.431396</td>\n",
       "      <td>68.475197</td>\n",
       "      <td>69.649002</td>\n",
       "      <td>70.040199</td>\n",
       "      <td>2.761717e+11</td>\n",
       "      <td>38.467876</td>\n",
       "    </tr>\n",
       "  </tbody>\n",
       "</table>\n",
       "</div>"
      ],
      "text/plain": [
       "                 High        Low       Open      Close        Volume  \\\n",
       "Date                                                                   \n",
       "2000-01-04  69.649002  68.475197  69.649002  69.649002  2.006623e+11   \n",
       "2000-01-05  71.214104  68.866302  69.649002  71.214104  4.024668e+11   \n",
       "2000-01-06  71.214104  69.649002  70.822899  69.649002  1.975457e+11   \n",
       "2000-01-07  68.475197  66.518600  67.301300  67.692497  2.352703e+11   \n",
       "2000-01-10  70.431396  68.475197  69.649002  70.040199  2.761717e+11   \n",
       "\n",
       "            Adj Close  \n",
       "Date                   \n",
       "2000-01-04  38.253021  \n",
       "2000-01-05  39.112621  \n",
       "2000-01-06  38.253021  \n",
       "2000-01-07  37.178459  \n",
       "2000-01-10  38.467876  "
      ]
     },
     "execution_count": 37,
     "metadata": {},
     "output_type": "execute_result"
    }
   ],
   "source": [
    "df.head()"
   ]
  },
  {
   "cell_type": "code",
   "execution_count": 38,
   "metadata": {},
   "outputs": [
    {
     "data": {
      "text/html": [
       "<div>\n",
       "<style scoped>\n",
       "    .dataframe tbody tr th:only-of-type {\n",
       "        vertical-align: middle;\n",
       "    }\n",
       "\n",
       "    .dataframe tbody tr th {\n",
       "        vertical-align: top;\n",
       "    }\n",
       "\n",
       "    .dataframe thead th {\n",
       "        text-align: right;\n",
       "    }\n",
       "</style>\n",
       "<table border=\"1\" class=\"dataframe\">\n",
       "  <thead>\n",
       "    <tr style=\"text-align: right;\">\n",
       "      <th></th>\n",
       "      <th>High</th>\n",
       "      <th>Low</th>\n",
       "      <th>Open</th>\n",
       "      <th>Close</th>\n",
       "      <th>Volume</th>\n",
       "      <th>Adj Close</th>\n",
       "    </tr>\n",
       "    <tr>\n",
       "      <th>Date</th>\n",
       "      <th></th>\n",
       "      <th></th>\n",
       "      <th></th>\n",
       "      <th></th>\n",
       "      <th></th>\n",
       "      <th></th>\n",
       "    </tr>\n",
       "  </thead>\n",
       "  <tbody>\n",
       "    <tr>\n",
       "      <th>2019-06-24</th>\n",
       "      <td>242.0</td>\n",
       "      <td>240.0</td>\n",
       "      <td>241.0</td>\n",
       "      <td>241.0</td>\n",
       "      <td>43300507.0</td>\n",
       "      <td>241.0</td>\n",
       "    </tr>\n",
       "    <tr>\n",
       "      <th>2019-06-25</th>\n",
       "      <td>241.5</td>\n",
       "      <td>237.0</td>\n",
       "      <td>241.0</td>\n",
       "      <td>238.5</td>\n",
       "      <td>28559283.0</td>\n",
       "      <td>238.5</td>\n",
       "    </tr>\n",
       "    <tr>\n",
       "      <th>2019-06-26</th>\n",
       "      <td>236.5</td>\n",
       "      <td>234.0</td>\n",
       "      <td>235.0</td>\n",
       "      <td>234.5</td>\n",
       "      <td>27607041.0</td>\n",
       "      <td>234.5</td>\n",
       "    </tr>\n",
       "    <tr>\n",
       "      <th>2019-06-27</th>\n",
       "      <td>241.5</td>\n",
       "      <td>236.0</td>\n",
       "      <td>236.0</td>\n",
       "      <td>240.5</td>\n",
       "      <td>42007834.0</td>\n",
       "      <td>240.5</td>\n",
       "    </tr>\n",
       "    <tr>\n",
       "      <th>2019-06-28</th>\n",
       "      <td>241.5</td>\n",
       "      <td>238.0</td>\n",
       "      <td>241.5</td>\n",
       "      <td>239.0</td>\n",
       "      <td>25962203.0</td>\n",
       "      <td>239.0</td>\n",
       "    </tr>\n",
       "  </tbody>\n",
       "</table>\n",
       "</div>"
      ],
      "text/plain": [
       "             High    Low   Open  Close      Volume  Adj Close\n",
       "Date                                                         \n",
       "2019-06-24  242.0  240.0  241.0  241.0  43300507.0      241.0\n",
       "2019-06-25  241.5  237.0  241.0  238.5  28559283.0      238.5\n",
       "2019-06-26  236.5  234.0  235.0  234.5  27607041.0      234.5\n",
       "2019-06-27  241.5  236.0  236.0  240.5  42007834.0      240.5\n",
       "2019-06-28  241.5  238.0  241.5  239.0  25962203.0      239.0"
      ]
     },
     "execution_count": 38,
     "metadata": {},
     "output_type": "execute_result"
    }
   ],
   "source": [
    "df.tail()"
   ]
  },
  {
   "cell_type": "code",
   "execution_count": 41,
   "metadata": {},
   "outputs": [
    {
     "data": {
      "text/plain": [
       "70.0"
      ]
     },
     "execution_count": 41,
     "metadata": {},
     "output_type": "execute_result"
    }
   ],
   "source": [
    "import numpy as np\n",
    "a = [50,60,70,80,90]\n",
    "\n",
    "na = np.array(a)\n",
    "\n",
    "na.sum() / len(na)\n",
    "na.mean()"
   ]
  },
  {
   "cell_type": "code",
   "execution_count": 42,
   "metadata": {},
   "outputs": [
    {
     "data": {
      "text/plain": [
       "58.333333333333336"
      ]
     },
     "execution_count": 42,
     "metadata": {},
     "output_type": "execute_result"
    }
   ],
   "source": [
    "import numpy as np\n",
    "a = [0, 50,60,70,80,90]\n",
    "na = np.array(a)\n",
    "na.mean()"
   ]
  },
  {
   "cell_type": "code",
   "execution_count": 49,
   "metadata": {},
   "outputs": [
    {
     "data": {
      "text/plain": [
       "65.0"
      ]
     },
     "execution_count": 49,
     "metadata": {},
     "output_type": "execute_result"
    }
   ],
   "source": [
    "import numpy as np\n",
    "a = [0, 50,60,70,80,90]\n",
    "na = np.array(a)\n",
    "na.sort()\n",
    "len(na)\n",
    "(na[2] + na[3]) / 2"
   ]
  },
  {
   "cell_type": "code",
   "execution_count": 51,
   "metadata": {},
   "outputs": [
    {
     "data": {
      "text/plain": [
       "65.0"
      ]
     },
     "execution_count": 51,
     "metadata": {},
     "output_type": "execute_result"
    }
   ],
   "source": [
    "import pandas as pd\n",
    "pa = pd.Series(na)\n",
    "pa.median()"
   ]
  },
  {
   "cell_type": "code",
   "execution_count": 52,
   "metadata": {},
   "outputs": [
    {
     "data": {
      "text/html": [
       "<div>\n",
       "<style scoped>\n",
       "    .dataframe tbody tr th:only-of-type {\n",
       "        vertical-align: middle;\n",
       "    }\n",
       "\n",
       "    .dataframe tbody tr th {\n",
       "        vertical-align: top;\n",
       "    }\n",
       "\n",
       "    .dataframe thead th {\n",
       "        text-align: right;\n",
       "    }\n",
       "</style>\n",
       "<table border=\"1\" class=\"dataframe\">\n",
       "  <thead>\n",
       "    <tr style=\"text-align: right;\">\n",
       "      <th></th>\n",
       "      <th>High</th>\n",
       "      <th>Low</th>\n",
       "      <th>Open</th>\n",
       "      <th>Close</th>\n",
       "      <th>Volume</th>\n",
       "      <th>Adj Close</th>\n",
       "    </tr>\n",
       "    <tr>\n",
       "      <th>Date</th>\n",
       "      <th></th>\n",
       "      <th></th>\n",
       "      <th></th>\n",
       "      <th></th>\n",
       "      <th></th>\n",
       "      <th></th>\n",
       "    </tr>\n",
       "  </thead>\n",
       "  <tbody>\n",
       "    <tr>\n",
       "      <th>2000-01-04</th>\n",
       "      <td>69.649002</td>\n",
       "      <td>68.475197</td>\n",
       "      <td>69.649002</td>\n",
       "      <td>69.649002</td>\n",
       "      <td>2.006623e+11</td>\n",
       "      <td>38.253021</td>\n",
       "    </tr>\n",
       "    <tr>\n",
       "      <th>2000-01-05</th>\n",
       "      <td>71.214104</td>\n",
       "      <td>68.866302</td>\n",
       "      <td>69.649002</td>\n",
       "      <td>71.214104</td>\n",
       "      <td>4.024668e+11</td>\n",
       "      <td>39.112621</td>\n",
       "    </tr>\n",
       "    <tr>\n",
       "      <th>2000-01-06</th>\n",
       "      <td>71.214104</td>\n",
       "      <td>69.649002</td>\n",
       "      <td>70.822899</td>\n",
       "      <td>69.649002</td>\n",
       "      <td>1.975457e+11</td>\n",
       "      <td>38.253021</td>\n",
       "    </tr>\n",
       "    <tr>\n",
       "      <th>2000-01-07</th>\n",
       "      <td>68.475197</td>\n",
       "      <td>66.518600</td>\n",
       "      <td>67.301300</td>\n",
       "      <td>67.692497</td>\n",
       "      <td>2.352703e+11</td>\n",
       "      <td>37.178459</td>\n",
       "    </tr>\n",
       "    <tr>\n",
       "      <th>2000-01-10</th>\n",
       "      <td>70.431396</td>\n",
       "      <td>68.475197</td>\n",
       "      <td>69.649002</td>\n",
       "      <td>70.040199</td>\n",
       "      <td>2.761717e+11</td>\n",
       "      <td>38.467876</td>\n",
       "    </tr>\n",
       "  </tbody>\n",
       "</table>\n",
       "</div>"
      ],
      "text/plain": [
       "                 High        Low       Open      Close        Volume  \\\n",
       "Date                                                                   \n",
       "2000-01-04  69.649002  68.475197  69.649002  69.649002  2.006623e+11   \n",
       "2000-01-05  71.214104  68.866302  69.649002  71.214104  4.024668e+11   \n",
       "2000-01-06  71.214104  69.649002  70.822899  69.649002  1.975457e+11   \n",
       "2000-01-07  68.475197  66.518600  67.301300  67.692497  2.352703e+11   \n",
       "2000-01-10  70.431396  68.475197  69.649002  70.040199  2.761717e+11   \n",
       "\n",
       "            Adj Close  \n",
       "Date                   \n",
       "2000-01-04  38.253021  \n",
       "2000-01-05  39.112621  \n",
       "2000-01-06  38.253021  \n",
       "2000-01-07  37.178459  \n",
       "2000-01-10  38.467876  "
      ]
     },
     "execution_count": 52,
     "metadata": {},
     "output_type": "execute_result"
    }
   ],
   "source": [
    "df.head()"
   ]
  },
  {
   "cell_type": "code",
   "execution_count": 53,
   "metadata": {},
   "outputs": [
    {
     "data": {
      "text/plain": [
       "94.44841018667228"
      ]
     },
     "execution_count": 53,
     "metadata": {},
     "output_type": "execute_result"
    }
   ],
   "source": [
    "df['Close'].mean()"
   ]
  },
  {
   "cell_type": "code",
   "execution_count": 54,
   "metadata": {},
   "outputs": [
    {
     "data": {
      "text/plain": [
       "66.27960205078125"
      ]
     },
     "execution_count": 54,
     "metadata": {},
     "output_type": "execute_result"
    }
   ],
   "source": [
    "df['Close'].median()"
   ]
  },
  {
   "cell_type": "code",
   "execution_count": 58,
   "metadata": {},
   "outputs": [
    {
     "data": {
      "text/plain": [
       "50.0"
      ]
     },
     "execution_count": 58,
     "metadata": {},
     "output_type": "execute_result"
    }
   ],
   "source": [
    "a = [30,35,37,50,53,55,80]\n",
    "s = pd.Series(a)\n",
    "s.median()"
   ]
  },
  {
   "cell_type": "code",
   "execution_count": 59,
   "metadata": {},
   "outputs": [
    {
     "data": {
      "text/plain": [
       "36.0"
      ]
     },
     "execution_count": 59,
     "metadata": {},
     "output_type": "execute_result"
    }
   ],
   "source": [
    "s.quantile(0.25)"
   ]
  },
  {
   "cell_type": "code",
   "execution_count": 60,
   "metadata": {},
   "outputs": [
    {
     "data": {
      "text/plain": [
       "54.0"
      ]
     },
     "execution_count": 60,
     "metadata": {},
     "output_type": "execute_result"
    }
   ],
   "source": [
    "s.quantile(0.75)"
   ]
  },
  {
   "cell_type": "code",
   "execution_count": 61,
   "metadata": {},
   "outputs": [
    {
     "data": {
      "text/plain": [
       "18.0"
      ]
     },
     "execution_count": 61,
     "metadata": {},
     "output_type": "execute_result"
    }
   ],
   "source": [
    "s.quantile(0.75) - s.quantile(0.25)"
   ]
  },
  {
   "cell_type": "code",
   "execution_count": 62,
   "metadata": {},
   "outputs": [
    {
     "data": {
      "text/plain": [
       "count     7.000000\n",
       "mean     48.571429\n",
       "std      16.900268\n",
       "min      30.000000\n",
       "25%      36.000000\n",
       "50%      50.000000\n",
       "75%      54.000000\n",
       "max      80.000000\n",
       "dtype: float64"
      ]
     },
     "execution_count": 62,
     "metadata": {},
     "output_type": "execute_result"
    }
   ],
   "source": [
    "s.describe()"
   ]
  },
  {
   "cell_type": "markdown",
   "metadata": {},
   "source": [
    "### Jupyter Notebook Magic\n",
    "- https://ethanww.github.io/2017/05/08/jupyter%E9%AD%94%E6%B3%95%E5%91%BD%E4%BB%A4/"
   ]
  },
  {
   "cell_type": "code",
   "execution_count": 64,
   "metadata": {},
   "outputs": [
    {
     "name": "stdout",
     "output_type": "stream",
     "text": [
      "Populating the interactive namespace from numpy and matplotlib\n"
     ]
    },
    {
     "data": {
      "text/plain": [
       "<matplotlib.axes._subplots.AxesSubplot at 0xe77a1d0>"
      ]
     },
     "execution_count": 64,
     "metadata": {},
     "output_type": "execute_result"
    },
    {
     "data": {
      "image/png": "[encoded data removed]",
      "text/plain": [
       "<Figure size 432x288 with 1 Axes>"
      ]
     },
     "metadata": {
      "needs_background": "light"
     },
     "output_type": "display_data"
    }
   ],
   "source": [
    "%pylab inline\n",
    "s.plot(kind = 'box')"
   ]
  },
  {
   "cell_type": "code",
   "execution_count": 66,
   "metadata": {},
   "outputs": [
    {
     "data": {
      "text/plain": [
       "77.0"
      ]
     },
     "execution_count": 66,
     "metadata": {},
     "output_type": "execute_result"
    }
   ],
   "source": [
    "50 +18 * 1.5"
   ]
  },
  {
   "cell_type": "code",
   "execution_count": 67,
   "metadata": {},
   "outputs": [
    {
     "data": {
      "text/plain": [
       "50.0"
      ]
     },
     "execution_count": 67,
     "metadata": {},
     "output_type": "execute_result"
    }
   ],
   "source": [
    "a = [30,35,37,50,53,55,100]\n",
    "s = pd.Series(a)\n",
    "s.median()"
   ]
  },
  {
   "cell_type": "code",
   "execution_count": 68,
   "metadata": {},
   "outputs": [
    {
     "name": "stdout",
     "output_type": "stream",
     "text": [
      "Populating the interactive namespace from numpy and matplotlib\n"
     ]
    },
    {
     "data": {
      "text/plain": [
       "<matplotlib.axes._subplots.AxesSubplot at 0xea52da0>"
      ]
     },
     "execution_count": 68,
     "metadata": {},
     "output_type": "execute_result"
    },
    {
     "data": {
      "image/png": "[encoded data removed]",
      "text/plain": [
       "<Figure size 432x288 with 1 Axes>"
      ]
     },
     "metadata": {
      "needs_background": "light"
     },
     "output_type": "display_data"
    }
   ],
   "source": [
    "%pylab inline\n",
    "s.plot(kind = 'box')"
   ]
  },
  {
   "cell_type": "code",
   "execution_count": 69,
   "metadata": {},
   "outputs": [
    {
     "data": {
      "text/plain": [
       "<matplotlib.axes._subplots.AxesSubplot at 0xeab2518>"
      ]
     },
     "execution_count": 69,
     "metadata": {},
     "output_type": "execute_result"
    },
    {
     "data": {
      "image/png": "[encoded data removed]",
      "text/plain": [
       "<Figure size 432x288 with 1 Axes>"
      ]
     },
     "metadata": {
      "needs_background": "light"
     },
     "output_type": "display_data"
    }
   ],
   "source": [
    "s.plot(kind='hist')"
   ]
  },
  {
   "cell_type": "code",
   "execution_count": 71,
   "metadata": {},
   "outputs": [
    {
     "data": {
      "text/plain": [
       "66.27960205078125"
      ]
     },
     "execution_count": 71,
     "metadata": {},
     "output_type": "execute_result"
    }
   ],
   "source": [
    "df['Close'].median()"
   ]
  },
  {
   "cell_type": "code",
   "execution_count": 72,
   "metadata": {},
   "outputs": [
    {
     "data": {
      "text/plain": [
       "<matplotlib.axes._subplots.AxesSubplot at 0xeaa1710>"
      ]
     },
     "execution_count": 72,
     "metadata": {},
     "output_type": "execute_result"
    },
    {
     "data": {
      "image/png": "[encoded data removed]",
      "text/plain": [
       "<Figure size 432x288 with 1 Axes>"
      ]
     },
     "metadata": {
      "needs_background": "light"
     },
     "output_type": "display_data"
    }
   ],
   "source": [
    "df['Close'].plot(kind = 'box')"
   ]
  },
  {
   "cell_type": "code",
   "execution_count": 73,
   "metadata": {},
   "outputs": [
    {
     "data": {
      "text/plain": [
       "<matplotlib.axes._subplots.AxesSubplot at 0xeb989b0>"
      ]
     },
     "execution_count": 73,
     "metadata": {},
     "output_type": "execute_result"
    },
    {
     "data": {
      "image/png": "[encoded data removed]",
      "text/plain": [
       "<Figure size 432x288 with 1 Axes>"
      ]
     },
     "metadata": {
      "needs_background": "light"
     },
     "output_type": "display_data"
    }
   ],
   "source": [
    "df['Close'].plot(kind = 'hist')"
   ]
  },
  {
   "cell_type": "code",
   "execution_count": 78,
   "metadata": {},
   "outputs": [
    {
     "data": {
      "text/plain": [
       "55.0"
      ]
     },
     "execution_count": 78,
     "metadata": {},
     "output_type": "execute_result"
    }
   ],
   "source": [
    "a = [30,40,50,60,70,80]\n",
    "s = pd.Series(a)\n",
    "s.mean()"
   ]
  },
  {
   "cell_type": "code",
   "execution_count": 79,
   "metadata": {},
   "outputs": [
    {
     "data": {
      "text/plain": [
       "0   -25.0\n",
       "1   -15.0\n",
       "2    -5.0\n",
       "3     5.0\n",
       "4    15.0\n",
       "5    25.0\n",
       "dtype: float64"
      ]
     },
     "execution_count": 79,
     "metadata": {},
     "output_type": "execute_result"
    }
   ],
   "source": [
    "s - s.mean()"
   ]
  },
  {
   "cell_type": "code",
   "execution_count": 80,
   "metadata": {},
   "outputs": [
    {
     "data": {
      "text/plain": [
       "0.0"
      ]
     },
     "execution_count": 80,
     "metadata": {},
     "output_type": "execute_result"
    }
   ],
   "source": [
    "(s - s.mean()).mean()"
   ]
  },
  {
   "cell_type": "code",
   "execution_count": 87,
   "metadata": {},
   "outputs": [
    {
     "data": {
      "text/plain": [
       "350.0"
      ]
     },
     "execution_count": 87,
     "metadata": {},
     "output_type": "execute_result"
    }
   ],
   "source": [
    "((s - s.mean()) ** 2).sum() / (len(s) -1)"
   ]
  },
  {
   "cell_type": "code",
   "execution_count": 89,
   "metadata": {},
   "outputs": [
    {
     "data": {
      "text/plain": [
       "18.708286933869708"
      ]
     },
     "execution_count": 89,
     "metadata": {},
     "output_type": "execute_result"
    }
   ],
   "source": [
    "s.std()"
   ]
  },
  {
   "cell_type": "code",
   "execution_count": 88,
   "metadata": {},
   "outputs": [
    {
     "data": {
      "text/plain": [
       "350.0"
      ]
     },
     "execution_count": 88,
     "metadata": {},
     "output_type": "execute_result"
    }
   ],
   "source": [
    "s.var()"
   ]
  },
  {
   "cell_type": "code",
   "execution_count": 90,
   "metadata": {},
   "outputs": [
    {
     "data": {
      "text/plain": [
       "350.00000000000006"
      ]
     },
     "execution_count": 90,
     "metadata": {},
     "output_type": "execute_result"
    }
   ],
   "source": [
    "s.std() * s.std()"
   ]
  },
  {
   "cell_type": "code",
   "execution_count": 91,
   "metadata": {},
   "outputs": [
    {
     "data": {
      "text/plain": [
       "60.896135085562264"
      ]
     },
     "execution_count": 91,
     "metadata": {},
     "output_type": "execute_result"
    }
   ],
   "source": [
    "df['Close'].std()"
   ]
  },
  {
   "cell_type": "code",
   "execution_count": 92,
   "metadata": {},
   "outputs": [
    {
     "data": {
      "text/plain": [
       "3708.3392683590473"
      ]
     },
     "execution_count": 92,
     "metadata": {},
     "output_type": "execute_result"
    }
   ],
   "source": [
    "df['Close'].var()"
   ]
  },
  {
   "cell_type": "code",
   "execution_count": 97,
   "metadata": {},
   "outputs": [
    {
     "data": {
      "text/html": [
       "<div>\n",
       "<style scoped>\n",
       "    .dataframe tbody tr th:only-of-type {\n",
       "        vertical-align: middle;\n",
       "    }\n",
       "\n",
       "    .dataframe tbody tr th {\n",
       "        vertical-align: top;\n",
       "    }\n",
       "\n",
       "    .dataframe thead th {\n",
       "        text-align: right;\n",
       "    }\n",
       "</style>\n",
       "<table border=\"1\" class=\"dataframe\">\n",
       "  <thead>\n",
       "    <tr style=\"text-align: right;\">\n",
       "      <th></th>\n",
       "      <th>High</th>\n",
       "      <th>Low</th>\n",
       "      <th>Open</th>\n",
       "      <th>Close</th>\n",
       "      <th>Volume</th>\n",
       "      <th>Adj Close</th>\n",
       "    </tr>\n",
       "    <tr>\n",
       "      <th>Date</th>\n",
       "      <th></th>\n",
       "      <th></th>\n",
       "      <th></th>\n",
       "      <th></th>\n",
       "      <th></th>\n",
       "      <th></th>\n",
       "    </tr>\n",
       "  </thead>\n",
       "  <tbody>\n",
       "    <tr>\n",
       "      <th>2010-01-04</th>\n",
       "      <td>65.000000</td>\n",
       "      <td>64.000000</td>\n",
       "      <td>65.000000</td>\n",
       "      <td>64.900002</td>\n",
       "      <td>39407000.0</td>\n",
       "      <td>45.754021</td>\n",
       "    </tr>\n",
       "    <tr>\n",
       "      <th>2010-01-05</th>\n",
       "      <td>65.099998</td>\n",
       "      <td>63.900002</td>\n",
       "      <td>65.000000</td>\n",
       "      <td>64.500000</td>\n",
       "      <td>37138000.0</td>\n",
       "      <td>45.472019</td>\n",
       "    </tr>\n",
       "    <tr>\n",
       "      <th>2010-01-06</th>\n",
       "      <td>64.900002</td>\n",
       "      <td>63.700001</td>\n",
       "      <td>64.500000</td>\n",
       "      <td>64.900002</td>\n",
       "      <td>49261000.0</td>\n",
       "      <td>45.754021</td>\n",
       "    </tr>\n",
       "    <tr>\n",
       "      <th>2010-01-07</th>\n",
       "      <td>65.000000</td>\n",
       "      <td>64.199997</td>\n",
       "      <td>64.900002</td>\n",
       "      <td>64.199997</td>\n",
       "      <td>42134000.0</td>\n",
       "      <td>45.260521</td>\n",
       "    </tr>\n",
       "    <tr>\n",
       "      <th>2010-01-08</th>\n",
       "      <td>64.300003</td>\n",
       "      <td>63.500000</td>\n",
       "      <td>63.500000</td>\n",
       "      <td>64.000000</td>\n",
       "      <td>46076000.0</td>\n",
       "      <td>45.119526</td>\n",
       "    </tr>\n",
       "  </tbody>\n",
       "</table>\n",
       "</div>"
      ],
      "text/plain": [
       "                 High        Low       Open      Close      Volume  Adj Close\n",
       "Date                                                                         \n",
       "2010-01-04  65.000000  64.000000  65.000000  64.900002  39407000.0  45.754021\n",
       "2010-01-05  65.099998  63.900002  65.000000  64.500000  37138000.0  45.472019\n",
       "2010-01-06  64.900002  63.700001  64.500000  64.900002  49261000.0  45.754021\n",
       "2010-01-07  65.000000  64.199997  64.900002  64.199997  42134000.0  45.260521\n",
       "2010-01-08  64.300003  63.500000  63.500000  64.000000  46076000.0  45.119526"
      ]
     },
     "execution_count": 97,
     "metadata": {},
     "output_type": "execute_result"
    }
   ],
   "source": [
    "df.loc[df.index > '2010-01-01', :].head()"
   ]
  },
  {
   "cell_type": "markdown",
   "metadata": {},
   "source": [
    "## 繪製資料分佈"
   ]
  },
  {
   "cell_type": "code",
   "execution_count": 99,
   "metadata": {},
   "outputs": [
    {
     "data": {
      "text/plain": [
       "94.44841018667228"
      ]
     },
     "execution_count": 99,
     "metadata": {},
     "output_type": "execute_result"
    }
   ],
   "source": [
    "df['Close'].mean()"
   ]
  },
  {
   "cell_type": "code",
   "execution_count": 100,
   "metadata": {},
   "outputs": [
    {
     "data": {
      "text/plain": [
       "60.896135085562264"
      ]
     },
     "execution_count": 100,
     "metadata": {},
     "output_type": "execute_result"
    }
   ],
   "source": [
    "df['Close'].std()"
   ]
  },
  {
   "cell_type": "code",
   "execution_count": 101,
   "metadata": {},
   "outputs": [
    {
     "data": {
      "text/plain": [
       "<matplotlib.axes._subplots.AxesSubplot at 0xebfa048>"
      ]
     },
     "execution_count": 101,
     "metadata": {},
     "output_type": "execute_result"
    },
    {
     "data": {
      "image/png": "[encoded data removed]",
      "text/plain": [
       "<Figure size 432x288 with 1 Axes>"
      ]
     },
     "metadata": {
      "needs_background": "light"
     },
     "output_type": "display_data"
    }
   ],
   "source": [
    "df['Close'].plot(kind = 'hist')"
   ]
  },
  {
   "cell_type": "code",
   "execution_count": 104,
   "metadata": {},
   "outputs": [
    {
     "data": {
      "text/plain": [
       "Date\n",
       "2000-01-04    69.649002\n",
       "2000-01-05    71.214104\n",
       "2000-01-06    69.649002\n",
       "2000-01-07    67.692497\n",
       "2000-01-10    70.040199\n",
       "Name: Close, dtype: float64"
      ]
     },
     "execution_count": 104,
     "metadata": {},
     "output_type": "execute_result"
    }
   ],
   "source": [
    "df['Close'].head()"
   ]
  },
  {
   "cell_type": "code",
   "execution_count": 103,
   "metadata": {},
   "outputs": [
    {
     "data": {
      "text/plain": [
       "Date\n",
       "2000-01-04         NaN\n",
       "2000-01-05    0.022471\n",
       "2000-01-06   -0.021977\n",
       "2000-01-07   -0.028091\n",
       "2000-01-10    0.034682\n",
       "Name: Close, dtype: float64"
      ]
     },
     "execution_count": 103,
     "metadata": {},
     "output_type": "execute_result"
    }
   ],
   "source": [
    "df['Close'].pct_change().head()"
   ]
  },
  {
   "cell_type": "code",
   "execution_count": 105,
   "metadata": {},
   "outputs": [
    {
     "data": {
      "text/plain": [
       "0.02247127676000311"
      ]
     },
     "execution_count": 105,
     "metadata": {},
     "output_type": "execute_result"
    }
   ],
   "source": [
    "(71.214104 - 69.649002) / 69.649002"
   ]
  },
  {
   "cell_type": "code",
   "execution_count": 106,
   "metadata": {},
   "outputs": [
    {
     "data": {
      "text/plain": [
       "Date\n",
       "2000-01-04          NaN\n",
       "2000-01-05    69.649002\n",
       "2000-01-06    71.214104\n",
       "2000-01-07    69.649002\n",
       "2000-01-10    67.692497\n",
       "Name: Close, dtype: float64"
      ]
     },
     "execution_count": 106,
     "metadata": {},
     "output_type": "execute_result"
    }
   ],
   "source": [
    "df['Close'].shift(1).head()"
   ]
  },
  {
   "cell_type": "code",
   "execution_count": 109,
   "metadata": {},
   "outputs": [
    {
     "data": {
      "text/plain": [
       "Date\n",
       "2000-01-04         NaN\n",
       "2000-01-05    0.022471\n",
       "2000-01-06   -0.021977\n",
       "2000-01-07   -0.028091\n",
       "2000-01-10    0.034682\n",
       "Name: Close, dtype: float64"
      ]
     },
     "execution_count": 109,
     "metadata": {},
     "output_type": "execute_result"
    }
   ],
   "source": [
    "(df['Close'] / df['Close'].shift(1) - 1).head()"
   ]
  },
  {
   "cell_type": "code",
   "execution_count": 110,
   "metadata": {},
   "outputs": [
    {
     "data": {
      "text/plain": [
       "<matplotlib.axes._subplots.AxesSubplot at 0xecf3588>"
      ]
     },
     "execution_count": 110,
     "metadata": {},
     "output_type": "execute_result"
    },
    {
     "data": {
      "image/png": "[encoded data removed]",
      "text/plain": [
       "<Figure size 432x288 with 1 Axes>"
      ]
     },
     "metadata": {
      "needs_background": "light"
     },
     "output_type": "display_data"
    }
   ],
   "source": [
    "df['Close'].pct_change().plot(kind = 'hist')"
   ]
  },
  {
   "cell_type": "code",
   "execution_count": 111,
   "metadata": {},
   "outputs": [
    {
     "data": {
      "text/plain": [
       "0.020271606609445263"
      ]
     },
     "execution_count": 111,
     "metadata": {},
     "output_type": "execute_result"
    }
   ],
   "source": [
    "df['Close'].pct_change().std()"
   ]
  },
  {
   "cell_type": "code",
   "execution_count": 118,
   "metadata": {},
   "outputs": [
    {
     "data": {
      "text/html": [
       "<div>\n",
       "<style scoped>\n",
       "    .dataframe tbody tr th:only-of-type {\n",
       "        vertical-align: middle;\n",
       "    }\n",
       "\n",
       "    .dataframe tbody tr th {\n",
       "        vertical-align: top;\n",
       "    }\n",
       "\n",
       "    .dataframe thead th {\n",
       "        text-align: right;\n",
       "    }\n",
       "</style>\n",
       "<table border=\"1\" class=\"dataframe\">\n",
       "  <thead>\n",
       "    <tr style=\"text-align: right;\">\n",
       "      <th>Symbols</th>\n",
       "      <th>2317.TW</th>\n",
       "      <th>2330.TW</th>\n",
       "      <th>2498.TW</th>\n",
       "    </tr>\n",
       "    <tr>\n",
       "      <th>Date</th>\n",
       "      <th></th>\n",
       "      <th></th>\n",
       "      <th></th>\n",
       "    </tr>\n",
       "  </thead>\n",
       "  <tbody>\n",
       "    <tr>\n",
       "      <th>2010-01-04</th>\n",
       "      <td>98.203400</td>\n",
       "      <td>64.900002</td>\n",
       "      <td>331.519012</td>\n",
       "    </tr>\n",
       "    <tr>\n",
       "      <th>2010-01-05</th>\n",
       "      <td>98.851601</td>\n",
       "      <td>64.500000</td>\n",
       "      <td>337.415009</td>\n",
       "    </tr>\n",
       "    <tr>\n",
       "      <th>2010-01-06</th>\n",
       "      <td>98.203400</td>\n",
       "      <td>64.900002</td>\n",
       "      <td>338.776001</td>\n",
       "    </tr>\n",
       "    <tr>\n",
       "      <th>2010-01-07</th>\n",
       "      <td>97.231102</td>\n",
       "      <td>64.199997</td>\n",
       "      <td>324.717010</td>\n",
       "    </tr>\n",
       "    <tr>\n",
       "      <th>2010-01-08</th>\n",
       "      <td>97.555199</td>\n",
       "      <td>64.000000</td>\n",
       "      <td>332.425995</td>\n",
       "    </tr>\n",
       "  </tbody>\n",
       "</table>\n",
       "</div>"
      ],
      "text/plain": [
       "Symbols       2317.TW    2330.TW     2498.TW\n",
       "Date                                        \n",
       "2010-01-04  98.203400  64.900002  331.519012\n",
       "2010-01-05  98.851601  64.500000  337.415009\n",
       "2010-01-06  98.203400  64.900002  338.776001\n",
       "2010-01-07  97.231102  64.199997  324.717010\n",
       "2010-01-08  97.555199  64.000000  332.425995"
      ]
     },
     "execution_count": 118,
     "metadata": {},
     "output_type": "execute_result"
    }
   ],
   "source": [
    "from pandas_datareader import DataReader\n",
    "df = DataReader(['2330.TW', '2317.TW', '2498.TW'], 'yahoo', start='2010-01-01')['Close']\n",
    "df.head()"
   ]
  },
  {
   "cell_type": "code",
   "execution_count": 119,
   "metadata": {},
   "outputs": [
    {
     "data": {
      "text/html": [
       "<div>\n",
       "<style scoped>\n",
       "    .dataframe tbody tr th:only-of-type {\n",
       "        vertical-align: middle;\n",
       "    }\n",
       "\n",
       "    .dataframe tbody tr th {\n",
       "        vertical-align: top;\n",
       "    }\n",
       "\n",
       "    .dataframe thead th {\n",
       "        text-align: right;\n",
       "    }\n",
       "</style>\n",
       "<table border=\"1\" class=\"dataframe\">\n",
       "  <thead>\n",
       "    <tr style=\"text-align: right;\">\n",
       "      <th>Symbols</th>\n",
       "      <th>2317.TW</th>\n",
       "      <th>2330.TW</th>\n",
       "      <th>2498.TW</th>\n",
       "    </tr>\n",
       "    <tr>\n",
       "      <th>Date</th>\n",
       "      <th></th>\n",
       "      <th></th>\n",
       "      <th></th>\n",
       "    </tr>\n",
       "  </thead>\n",
       "  <tbody>\n",
       "    <tr>\n",
       "      <th>2010-01-04</th>\n",
       "      <td>98.203400</td>\n",
       "      <td>64.900002</td>\n",
       "      <td>331.519012</td>\n",
       "    </tr>\n",
       "    <tr>\n",
       "      <th>2010-01-05</th>\n",
       "      <td>98.851601</td>\n",
       "      <td>64.500000</td>\n",
       "      <td>337.415009</td>\n",
       "    </tr>\n",
       "    <tr>\n",
       "      <th>2010-01-06</th>\n",
       "      <td>98.203400</td>\n",
       "      <td>64.900002</td>\n",
       "      <td>338.776001</td>\n",
       "    </tr>\n",
       "    <tr>\n",
       "      <th>2010-01-07</th>\n",
       "      <td>97.231102</td>\n",
       "      <td>64.199997</td>\n",
       "      <td>324.717010</td>\n",
       "    </tr>\n",
       "    <tr>\n",
       "      <th>2010-01-08</th>\n",
       "      <td>97.555199</td>\n",
       "      <td>64.000000</td>\n",
       "      <td>332.425995</td>\n",
       "    </tr>\n",
       "  </tbody>\n",
       "</table>\n",
       "</div>"
      ],
      "text/plain": [
       "Symbols       2317.TW    2330.TW     2498.TW\n",
       "Date                                        \n",
       "2010-01-04  98.203400  64.900002  331.519012\n",
       "2010-01-05  98.851601  64.500000  337.415009\n",
       "2010-01-06  98.203400  64.900002  338.776001\n",
       "2010-01-07  97.231102  64.199997  324.717010\n",
       "2010-01-08  97.555199  64.000000  332.425995"
      ]
     },
     "execution_count": 119,
     "metadata": {},
     "output_type": "execute_result"
    }
   ],
   "source": [
    "df.dropna(inplace=True)\n",
    "df.head()"
   ]
  },
  {
   "cell_type": "code",
   "execution_count": 120,
   "metadata": {},
   "outputs": [
    {
     "data": {
      "text/plain": [
       "Symbols\n",
       "2317.TW    0.016100\n",
       "2330.TW    0.014613\n",
       "2498.TW    0.029051\n",
       "dtype: float64"
      ]
     },
     "execution_count": 120,
     "metadata": {},
     "output_type": "execute_result"
    }
   ],
   "source": [
    "df.pct_change().std()"
   ]
  },
  {
   "cell_type": "markdown",
   "metadata": {},
   "source": [
    "## Covariance and Correlation "
   ]
  },
  {
   "cell_type": "code",
   "execution_count": 121,
   "metadata": {},
   "outputs": [
    {
     "data": {
      "text/html": [
       "<div>\n",
       "<style scoped>\n",
       "    .dataframe tbody tr th:only-of-type {\n",
       "        vertical-align: middle;\n",
       "    }\n",
       "\n",
       "    .dataframe tbody tr th {\n",
       "        vertical-align: top;\n",
       "    }\n",
       "\n",
       "    .dataframe thead th {\n",
       "        text-align: right;\n",
       "    }\n",
       "</style>\n",
       "<table border=\"1\" class=\"dataframe\">\n",
       "  <thead>\n",
       "    <tr style=\"text-align: right;\">\n",
       "      <th>Symbols</th>\n",
       "      <th>2330.TW</th>\n",
       "      <th>^TWII</th>\n",
       "    </tr>\n",
       "    <tr>\n",
       "      <th>Date</th>\n",
       "      <th></th>\n",
       "      <th></th>\n",
       "    </tr>\n",
       "  </thead>\n",
       "  <tbody>\n",
       "    <tr>\n",
       "      <th>2010-01-04</th>\n",
       "      <td>64.900002</td>\n",
       "      <td>8207.849609</td>\n",
       "    </tr>\n",
       "    <tr>\n",
       "      <th>2010-01-05</th>\n",
       "      <td>64.500000</td>\n",
       "      <td>8211.400391</td>\n",
       "    </tr>\n",
       "    <tr>\n",
       "      <th>2010-01-06</th>\n",
       "      <td>64.900002</td>\n",
       "      <td>8327.620117</td>\n",
       "    </tr>\n",
       "    <tr>\n",
       "      <th>2010-01-07</th>\n",
       "      <td>64.199997</td>\n",
       "      <td>8237.419922</td>\n",
       "    </tr>\n",
       "    <tr>\n",
       "      <th>2010-01-08</th>\n",
       "      <td>64.000000</td>\n",
       "      <td>8280.900391</td>\n",
       "    </tr>\n",
       "  </tbody>\n",
       "</table>\n",
       "</div>"
      ],
      "text/plain": [
       "Symbols       2330.TW        ^TWII\n",
       "Date                              \n",
       "2010-01-04  64.900002  8207.849609\n",
       "2010-01-05  64.500000  8211.400391\n",
       "2010-01-06  64.900002  8327.620117\n",
       "2010-01-07  64.199997  8237.419922\n",
       "2010-01-08  64.000000  8280.900391"
      ]
     },
     "execution_count": 121,
     "metadata": {},
     "output_type": "execute_result"
    }
   ],
   "source": [
    "from pandas_datareader import DataReader\n",
    "df = DataReader(['2330.TW', '^TWII'], 'yahoo', start='2010-01-01')['Close']\n",
    "df.head()"
   ]
  },
  {
   "cell_type": "code",
   "execution_count": 122,
   "metadata": {},
   "outputs": [
    {
     "data": {
      "text/html": [
       "<div>\n",
       "<style scoped>\n",
       "    .dataframe tbody tr th:only-of-type {\n",
       "        vertical-align: middle;\n",
       "    }\n",
       "\n",
       "    .dataframe tbody tr th {\n",
       "        vertical-align: top;\n",
       "    }\n",
       "\n",
       "    .dataframe thead th {\n",
       "        text-align: right;\n",
       "    }\n",
       "</style>\n",
       "<table border=\"1\" class=\"dataframe\">\n",
       "  <thead>\n",
       "    <tr style=\"text-align: right;\">\n",
       "      <th>Symbols</th>\n",
       "      <th>2330.TW</th>\n",
       "      <th>^TWII</th>\n",
       "    </tr>\n",
       "    <tr>\n",
       "      <th>Symbols</th>\n",
       "      <th></th>\n",
       "      <th></th>\n",
       "    </tr>\n",
       "  </thead>\n",
       "  <tbody>\n",
       "    <tr>\n",
       "      <th>2330.TW</th>\n",
       "      <td>3827.214492</td>\n",
       "      <td>6.204227e+04</td>\n",
       "    </tr>\n",
       "    <tr>\n",
       "      <th>^TWII</th>\n",
       "      <td>62042.265897</td>\n",
       "      <td>1.265181e+06</td>\n",
       "    </tr>\n",
       "  </tbody>\n",
       "</table>\n",
       "</div>"
      ],
      "text/plain": [
       "Symbols       2330.TW         ^TWII\n",
       "Symbols                            \n",
       "2330.TW   3827.214492  6.204227e+04\n",
       "^TWII    62042.265897  1.265181e+06"
      ]
     },
     "execution_count": 122,
     "metadata": {},
     "output_type": "execute_result"
    }
   ],
   "source": [
    "df.cov()"
   ]
  },
  {
   "cell_type": "code",
   "execution_count": 125,
   "metadata": {},
   "outputs": [
    {
     "data": {
      "text/html": [
       "<div>\n",
       "<style scoped>\n",
       "    .dataframe tbody tr th:only-of-type {\n",
       "        vertical-align: middle;\n",
       "    }\n",
       "\n",
       "    .dataframe tbody tr th {\n",
       "        vertical-align: top;\n",
       "    }\n",
       "\n",
       "    .dataframe thead th {\n",
       "        text-align: right;\n",
       "    }\n",
       "</style>\n",
       "<table border=\"1\" class=\"dataframe\">\n",
       "  <thead>\n",
       "    <tr style=\"text-align: right;\">\n",
       "      <th>Symbols</th>\n",
       "      <th>2330.TW</th>\n",
       "      <th>^TWII</th>\n",
       "    </tr>\n",
       "    <tr>\n",
       "      <th>Symbols</th>\n",
       "      <th></th>\n",
       "      <th></th>\n",
       "    </tr>\n",
       "  </thead>\n",
       "  <tbody>\n",
       "    <tr>\n",
       "      <th>2330.TW</th>\n",
       "      <td>1.00000</td>\n",
       "      <td>0.89084</td>\n",
       "    </tr>\n",
       "    <tr>\n",
       "      <th>^TWII</th>\n",
       "      <td>0.89084</td>\n",
       "      <td>1.00000</td>\n",
       "    </tr>\n",
       "  </tbody>\n",
       "</table>\n",
       "</div>"
      ],
      "text/plain": [
       "Symbols  2330.TW    ^TWII\n",
       "Symbols                  \n",
       "2330.TW  1.00000  0.89084\n",
       "^TWII    0.89084  1.00000"
      ]
     },
     "execution_count": 125,
     "metadata": {},
     "output_type": "execute_result"
    }
   ],
   "source": [
    "df.corr()"
   ]
  },
  {
   "cell_type": "code",
   "execution_count": 126,
   "metadata": {},
   "outputs": [
    {
     "data": {
      "text/html": [
       "<div>\n",
       "<style scoped>\n",
       "    .dataframe tbody tr th:only-of-type {\n",
       "        vertical-align: middle;\n",
       "    }\n",
       "\n",
       "    .dataframe tbody tr th {\n",
       "        vertical-align: top;\n",
       "    }\n",
       "\n",
       "    .dataframe thead th {\n",
       "        text-align: right;\n",
       "    }\n",
       "</style>\n",
       "<table border=\"1\" class=\"dataframe\">\n",
       "  <thead>\n",
       "    <tr style=\"text-align: right;\">\n",
       "      <th>Symbols</th>\n",
       "      <th>2317.TW</th>\n",
       "      <th>2330.TW</th>\n",
       "      <th>2454.TW</th>\n",
       "      <th>2498.TW</th>\n",
       "      <th>9943.TW</th>\n",
       "      <th>^TWII</th>\n",
       "    </tr>\n",
       "    <tr>\n",
       "      <th>Date</th>\n",
       "      <th></th>\n",
       "      <th></th>\n",
       "      <th></th>\n",
       "      <th></th>\n",
       "      <th></th>\n",
       "      <th></th>\n",
       "    </tr>\n",
       "  </thead>\n",
       "  <tbody>\n",
       "    <tr>\n",
       "      <th>2010-01-04</th>\n",
       "      <td>98.203400</td>\n",
       "      <td>64.900002</td>\n",
       "      <td>555.882019</td>\n",
       "      <td>331.519012</td>\n",
       "      <td>39.8750</td>\n",
       "      <td>8207.849609</td>\n",
       "    </tr>\n",
       "    <tr>\n",
       "      <th>2010-01-05</th>\n",
       "      <td>98.851601</td>\n",
       "      <td>64.500000</td>\n",
       "      <td>556.862976</td>\n",
       "      <td>337.415009</td>\n",
       "      <td>38.7500</td>\n",
       "      <td>8211.400391</td>\n",
       "    </tr>\n",
       "    <tr>\n",
       "      <th>2010-01-06</th>\n",
       "      <td>98.203400</td>\n",
       "      <td>64.900002</td>\n",
       "      <td>563.724976</td>\n",
       "      <td>338.776001</td>\n",
       "      <td>38.9375</td>\n",
       "      <td>8327.620117</td>\n",
       "    </tr>\n",
       "    <tr>\n",
       "      <th>2010-01-07</th>\n",
       "      <td>97.231102</td>\n",
       "      <td>64.199997</td>\n",
       "      <td>550.000000</td>\n",
       "      <td>324.717010</td>\n",
       "      <td>38.1250</td>\n",
       "      <td>8237.419922</td>\n",
       "    </tr>\n",
       "    <tr>\n",
       "      <th>2010-01-08</th>\n",
       "      <td>97.555199</td>\n",
       "      <td>64.000000</td>\n",
       "      <td>539.216003</td>\n",
       "      <td>332.425995</td>\n",
       "      <td>37.9375</td>\n",
       "      <td>8280.900391</td>\n",
       "    </tr>\n",
       "  </tbody>\n",
       "</table>\n",
       "</div>"
      ],
      "text/plain": [
       "Symbols       2317.TW    2330.TW     2454.TW     2498.TW  9943.TW        ^TWII\n",
       "Date                                                                          \n",
       "2010-01-04  98.203400  64.900002  555.882019  331.519012  39.8750  8207.849609\n",
       "2010-01-05  98.851601  64.500000  556.862976  337.415009  38.7500  8211.400391\n",
       "2010-01-06  98.203400  64.900002  563.724976  338.776001  38.9375  8327.620117\n",
       "2010-01-07  97.231102  64.199997  550.000000  324.717010  38.1250  8237.419922\n",
       "2010-01-08  97.555199  64.000000  539.216003  332.425995  37.9375  8280.900391"
      ]
     },
     "execution_count": 126,
     "metadata": {},
     "output_type": "execute_result"
    }
   ],
   "source": [
    "from pandas_datareader import DataReader\n",
    "df = DataReader(['^TWII','2330.TW', '2498.TW', '2317.TW', '2454.TW', '9943.TW'], 'yahoo', start='2010-01-01')['Close']\n",
    "df.head()"
   ]
  },
  {
   "cell_type": "code",
   "execution_count": 127,
   "metadata": {},
   "outputs": [
    {
     "data": {
      "text/html": [
       "<div>\n",
       "<style scoped>\n",
       "    .dataframe tbody tr th:only-of-type {\n",
       "        vertical-align: middle;\n",
       "    }\n",
       "\n",
       "    .dataframe tbody tr th {\n",
       "        vertical-align: top;\n",
       "    }\n",
       "\n",
       "    .dataframe thead th {\n",
       "        text-align: right;\n",
       "    }\n",
       "</style>\n",
       "<table border=\"1\" class=\"dataframe\">\n",
       "  <thead>\n",
       "    <tr style=\"text-align: right;\">\n",
       "      <th>Symbols</th>\n",
       "      <th>2317.TW</th>\n",
       "      <th>2330.TW</th>\n",
       "      <th>2454.TW</th>\n",
       "      <th>2498.TW</th>\n",
       "      <th>9943.TW</th>\n",
       "      <th>^TWII</th>\n",
       "    </tr>\n",
       "    <tr>\n",
       "      <th>Symbols</th>\n",
       "      <th></th>\n",
       "      <th></th>\n",
       "      <th></th>\n",
       "      <th></th>\n",
       "      <th></th>\n",
       "      <th></th>\n",
       "    </tr>\n",
       "  </thead>\n",
       "  <tbody>\n",
       "    <tr>\n",
       "      <th>2317.TW</th>\n",
       "      <td>1.000000</td>\n",
       "      <td>0.591005</td>\n",
       "      <td>-0.088426</td>\n",
       "      <td>-0.463587</td>\n",
       "      <td>0.288233</td>\n",
       "      <td>0.665546</td>\n",
       "    </tr>\n",
       "    <tr>\n",
       "      <th>2330.TW</th>\n",
       "      <td>0.591005</td>\n",
       "      <td>1.000000</td>\n",
       "      <td>-0.463490</td>\n",
       "      <td>-0.691293</td>\n",
       "      <td>0.755618</td>\n",
       "      <td>0.890840</td>\n",
       "    </tr>\n",
       "    <tr>\n",
       "      <th>2454.TW</th>\n",
       "      <td>-0.088426</td>\n",
       "      <td>-0.463490</td>\n",
       "      <td>1.000000</td>\n",
       "      <td>0.176822</td>\n",
       "      <td>-0.651090</td>\n",
       "      <td>-0.184524</td>\n",
       "    </tr>\n",
       "    <tr>\n",
       "      <th>2498.TW</th>\n",
       "      <td>-0.463587</td>\n",
       "      <td>-0.691293</td>\n",
       "      <td>0.176822</td>\n",
       "      <td>1.000000</td>\n",
       "      <td>-0.610697</td>\n",
       "      <td>-0.456971</td>\n",
       "    </tr>\n",
       "    <tr>\n",
       "      <th>9943.TW</th>\n",
       "      <td>0.288233</td>\n",
       "      <td>0.755618</td>\n",
       "      <td>-0.651090</td>\n",
       "      <td>-0.610697</td>\n",
       "      <td>1.000000</td>\n",
       "      <td>0.531105</td>\n",
       "    </tr>\n",
       "    <tr>\n",
       "      <th>^TWII</th>\n",
       "      <td>0.665546</td>\n",
       "      <td>0.890840</td>\n",
       "      <td>-0.184524</td>\n",
       "      <td>-0.456971</td>\n",
       "      <td>0.531105</td>\n",
       "      <td>1.000000</td>\n",
       "    </tr>\n",
       "  </tbody>\n",
       "</table>\n",
       "</div>"
      ],
      "text/plain": [
       "Symbols   2317.TW   2330.TW   2454.TW   2498.TW   9943.TW     ^TWII\n",
       "Symbols                                                            \n",
       "2317.TW  1.000000  0.591005 -0.088426 -0.463587  0.288233  0.665546\n",
       "2330.TW  0.591005  1.000000 -0.463490 -0.691293  0.755618  0.890840\n",
       "2454.TW -0.088426 -0.463490  1.000000  0.176822 -0.651090 -0.184524\n",
       "2498.TW -0.463587 -0.691293  0.176822  1.000000 -0.610697 -0.456971\n",
       "9943.TW  0.288233  0.755618 -0.651090 -0.610697  1.000000  0.531105\n",
       "^TWII    0.665546  0.890840 -0.184524 -0.456971  0.531105  1.000000"
      ]
     },
     "execution_count": 127,
     "metadata": {},
     "output_type": "execute_result"
    }
   ],
   "source": [
    "df.corr()"
   ]
  },
  {
   "cell_type": "markdown",
   "metadata": {},
   "source": [
    "## 資料視覺化"
   ]
  },
  {
   "cell_type": "code",
   "execution_count": 128,
   "metadata": {},
   "outputs": [
    {
     "data": {
      "text/html": [
       "<div>\n",
       "<style scoped>\n",
       "    .dataframe tbody tr th:only-of-type {\n",
       "        vertical-align: middle;\n",
       "    }\n",
       "\n",
       "    .dataframe tbody tr th {\n",
       "        vertical-align: top;\n",
       "    }\n",
       "\n",
       "    .dataframe thead th {\n",
       "        text-align: right;\n",
       "    }\n",
       "</style>\n",
       "<table border=\"1\" class=\"dataframe\">\n",
       "  <thead>\n",
       "    <tr style=\"text-align: right;\">\n",
       "      <th></th>\n",
       "      <th>High</th>\n",
       "      <th>Low</th>\n",
       "      <th>Open</th>\n",
       "      <th>Close</th>\n",
       "      <th>Volume</th>\n",
       "      <th>Adj Close</th>\n",
       "    </tr>\n",
       "    <tr>\n",
       "      <th>Date</th>\n",
       "      <th></th>\n",
       "      <th></th>\n",
       "      <th></th>\n",
       "      <th></th>\n",
       "      <th></th>\n",
       "      <th></th>\n",
       "    </tr>\n",
       "  </thead>\n",
       "  <tbody>\n",
       "    <tr>\n",
       "      <th>2019-06-24</th>\n",
       "      <td>200.160004</td>\n",
       "      <td>198.169998</td>\n",
       "      <td>198.539993</td>\n",
       "      <td>198.580002</td>\n",
       "      <td>18220400.0</td>\n",
       "      <td>198.580002</td>\n",
       "    </tr>\n",
       "    <tr>\n",
       "      <th>2019-06-25</th>\n",
       "      <td>199.259995</td>\n",
       "      <td>195.289993</td>\n",
       "      <td>198.429993</td>\n",
       "      <td>195.570007</td>\n",
       "      <td>21070300.0</td>\n",
       "      <td>195.570007</td>\n",
       "    </tr>\n",
       "    <tr>\n",
       "      <th>2019-06-26</th>\n",
       "      <td>200.990005</td>\n",
       "      <td>197.350006</td>\n",
       "      <td>197.770004</td>\n",
       "      <td>199.800003</td>\n",
       "      <td>26067500.0</td>\n",
       "      <td>199.800003</td>\n",
       "    </tr>\n",
       "    <tr>\n",
       "      <th>2019-06-27</th>\n",
       "      <td>201.570007</td>\n",
       "      <td>199.570007</td>\n",
       "      <td>200.289993</td>\n",
       "      <td>199.740005</td>\n",
       "      <td>20899700.0</td>\n",
       "      <td>199.740005</td>\n",
       "    </tr>\n",
       "    <tr>\n",
       "      <th>2019-06-28</th>\n",
       "      <td>199.500000</td>\n",
       "      <td>197.050003</td>\n",
       "      <td>198.679993</td>\n",
       "      <td>197.919998</td>\n",
       "      <td>31078300.0</td>\n",
       "      <td>197.919998</td>\n",
       "    </tr>\n",
       "  </tbody>\n",
       "</table>\n",
       "</div>"
      ],
      "text/plain": [
       "                  High         Low        Open       Close      Volume  \\\n",
       "Date                                                                     \n",
       "2019-06-24  200.160004  198.169998  198.539993  198.580002  18220400.0   \n",
       "2019-06-25  199.259995  195.289993  198.429993  195.570007  21070300.0   \n",
       "2019-06-26  200.990005  197.350006  197.770004  199.800003  26067500.0   \n",
       "2019-06-27  201.570007  199.570007  200.289993  199.740005  20899700.0   \n",
       "2019-06-28  199.500000  197.050003  198.679993  197.919998  31078300.0   \n",
       "\n",
       "             Adj Close  \n",
       "Date                    \n",
       "2019-06-24  198.580002  \n",
       "2019-06-25  195.570007  \n",
       "2019-06-26  199.800003  \n",
       "2019-06-27  199.740005  \n",
       "2019-06-28  197.919998  "
      ]
     },
     "execution_count": 128,
     "metadata": {},
     "output_type": "execute_result"
    }
   ],
   "source": [
    "import pandas_datareader\n",
    "df = pandas_datareader.DataReader('aapl', data_source='yahoo',start='2014-01-01')\n",
    "df.tail()"
   ]
  },
  {
   "cell_type": "code",
   "execution_count": 129,
   "metadata": {},
   "outputs": [
    {
     "data": {
      "text/plain": [
       "<matplotlib.axes._subplots.AxesSubplot at 0x102859e8>"
      ]
     },
     "execution_count": 129,
     "metadata": {},
     "output_type": "execute_result"
    },
    {
     "data": {
      "image/png": "[encoded data removed]",
      "text/plain": [
       "<Figure size 432x288 with 1 Axes>"
      ]
     },
     "metadata": {
      "needs_background": "light"
     },
     "output_type": "display_data"
    }
   ],
   "source": [
    "df['Close'].plot(kind = 'line')"
   ]
  },
  {
   "cell_type": "code",
   "execution_count": 131,
   "metadata": {},
   "outputs": [],
   "source": [
    "?df.plot"
   ]
  },
  {
   "cell_type": "code",
   "execution_count": 133,
   "metadata": {},
   "outputs": [
    {
     "name": "stdout",
     "output_type": "stream",
     "text": [
      "Populating the interactive namespace from numpy and matplotlib\n"
     ]
    },
    {
     "data": {
      "text/plain": [
       "<matplotlib.axes._subplots.AxesSubplot at 0xed71828>"
      ]
     },
     "execution_count": 133,
     "metadata": {},
     "output_type": "execute_result"
    },
    {
     "data": {
      "image/png": "[encoded data removed]",
      "text/plain": [
       "<Figure size 720x360 with 1 Axes>"
      ]
     },
     "metadata": {
      "needs_background": "light"
     },
     "output_type": "display_data"
    }
   ],
   "source": [
    "%pylab inline\n",
    "df['Close'].plot(kind='line', figsize=[10,5], title= \"AAPL\", legend=True, grid=True)\n"
   ]
  },
  {
   "cell_type": "code",
   "execution_count": 134,
   "metadata": {},
   "outputs": [],
   "source": [
    "df['mvg30'] = df['Close'].rolling(window=30).mean()"
   ]
  },
  {
   "cell_type": "code",
   "execution_count": 135,
   "metadata": {},
   "outputs": [
    {
     "data": {
      "text/html": [
       "<div>\n",
       "<style scoped>\n",
       "    .dataframe tbody tr th:only-of-type {\n",
       "        vertical-align: middle;\n",
       "    }\n",
       "\n",
       "    .dataframe tbody tr th {\n",
       "        vertical-align: top;\n",
       "    }\n",
       "\n",
       "    .dataframe thead th {\n",
       "        text-align: right;\n",
       "    }\n",
       "</style>\n",
       "<table border=\"1\" class=\"dataframe\">\n",
       "  <thead>\n",
       "    <tr style=\"text-align: right;\">\n",
       "      <th></th>\n",
       "      <th>High</th>\n",
       "      <th>Low</th>\n",
       "      <th>Open</th>\n",
       "      <th>Close</th>\n",
       "      <th>Volume</th>\n",
       "      <th>Adj Close</th>\n",
       "      <th>mvg30</th>\n",
       "    </tr>\n",
       "    <tr>\n",
       "      <th>Date</th>\n",
       "      <th></th>\n",
       "      <th></th>\n",
       "      <th></th>\n",
       "      <th></th>\n",
       "      <th></th>\n",
       "      <th></th>\n",
       "      <th></th>\n",
       "    </tr>\n",
       "  </thead>\n",
       "  <tbody>\n",
       "    <tr>\n",
       "      <th>2013-12-31</th>\n",
       "      <td>80.182854</td>\n",
       "      <td>79.142860</td>\n",
       "      <td>79.167145</td>\n",
       "      <td>80.145714</td>\n",
       "      <td>55771100.0</td>\n",
       "      <td>72.612869</td>\n",
       "      <td>NaN</td>\n",
       "    </tr>\n",
       "    <tr>\n",
       "      <th>2014-01-02</th>\n",
       "      <td>79.575714</td>\n",
       "      <td>78.860001</td>\n",
       "      <td>79.382858</td>\n",
       "      <td>79.018570</td>\n",
       "      <td>58671200.0</td>\n",
       "      <td>71.591667</td>\n",
       "      <td>NaN</td>\n",
       "    </tr>\n",
       "    <tr>\n",
       "      <th>2014-01-03</th>\n",
       "      <td>79.099998</td>\n",
       "      <td>77.204285</td>\n",
       "      <td>78.980003</td>\n",
       "      <td>77.282860</td>\n",
       "      <td>98116900.0</td>\n",
       "      <td>70.019096</td>\n",
       "      <td>NaN</td>\n",
       "    </tr>\n",
       "    <tr>\n",
       "      <th>2014-01-06</th>\n",
       "      <td>78.114288</td>\n",
       "      <td>76.228569</td>\n",
       "      <td>76.778572</td>\n",
       "      <td>77.704285</td>\n",
       "      <td>103152700.0</td>\n",
       "      <td>70.400902</td>\n",
       "      <td>NaN</td>\n",
       "    </tr>\n",
       "    <tr>\n",
       "      <th>2014-01-07</th>\n",
       "      <td>77.994286</td>\n",
       "      <td>76.845711</td>\n",
       "      <td>77.760002</td>\n",
       "      <td>77.148575</td>\n",
       "      <td>79302300.0</td>\n",
       "      <td>69.897423</td>\n",
       "      <td>NaN</td>\n",
       "    </tr>\n",
       "  </tbody>\n",
       "</table>\n",
       "</div>"
      ],
      "text/plain": [
       "                 High        Low       Open      Close       Volume  \\\n",
       "Date                                                                  \n",
       "2013-12-31  80.182854  79.142860  79.167145  80.145714   55771100.0   \n",
       "2014-01-02  79.575714  78.860001  79.382858  79.018570   58671200.0   \n",
       "2014-01-03  79.099998  77.204285  78.980003  77.282860   98116900.0   \n",
       "2014-01-06  78.114288  76.228569  76.778572  77.704285  103152700.0   \n",
       "2014-01-07  77.994286  76.845711  77.760002  77.148575   79302300.0   \n",
       "\n",
       "            Adj Close  mvg30  \n",
       "Date                          \n",
       "2013-12-31  72.612869    NaN  \n",
       "2014-01-02  71.591667    NaN  \n",
       "2014-01-03  70.019096    NaN  \n",
       "2014-01-06  70.400902    NaN  \n",
       "2014-01-07  69.897423    NaN  "
      ]
     },
     "execution_count": 135,
     "metadata": {},
     "output_type": "execute_result"
    }
   ],
   "source": [
    "df.head()"
   ]
  },
  {
   "cell_type": "code",
   "execution_count": 136,
   "metadata": {},
   "outputs": [
    {
     "data": {
      "text/plain": [
       "<matplotlib.axes._subplots.AxesSubplot at 0xfca1a90>"
      ]
     },
     "execution_count": 136,
     "metadata": {},
     "output_type": "execute_result"
    },
    {
     "data": {
      "image/png": "[encoded data removed]",
      "text/plain": [
       "<Figure size 720x360 with 1 Axes>"
      ]
     },
     "metadata": {
      "needs_background": "light"
     },
     "output_type": "display_data"
    }
   ],
   "source": [
    "df[['Close','mvg30']].plot(kind='line', legend=True, figsize=[10,5])"
   ]
  },
  {
   "cell_type": "code",
   "execution_count": 137,
   "metadata": {},
   "outputs": [],
   "source": [
    "df['mvg120'] = df['Close'].rolling(window=120).mean()"
   ]
  },
  {
   "cell_type": "code",
   "execution_count": 138,
   "metadata": {},
   "outputs": [
    {
     "data": {
      "text/plain": [
       "<matplotlib.axes._subplots.AxesSubplot at 0x104fab70>"
      ]
     },
     "execution_count": 138,
     "metadata": {},
     "output_type": "execute_result"
    },
    {
     "data": {
      "image/png": "[encoded data removed]",
      "text/plain": [
       "<Figure size 720x360 with 1 Axes>"
      ]
     },
     "metadata": {
      "needs_background": "light"
     },
     "output_type": "display_data"
    }
   ],
   "source": [
    "df[['Close','mvg30', 'mvg120']].plot(kind='line', legend=True, figsize=[10,5])"
   ]
  },
  {
   "cell_type": "code",
   "execution_count": 139,
   "metadata": {},
   "outputs": [
    {
     "data": {
      "text/html": [
       "<div>\n",
       "<style scoped>\n",
       "    .dataframe tbody tr th:only-of-type {\n",
       "        vertical-align: middle;\n",
       "    }\n",
       "\n",
       "    .dataframe tbody tr th {\n",
       "        vertical-align: top;\n",
       "    }\n",
       "\n",
       "    .dataframe thead th {\n",
       "        text-align: right;\n",
       "    }\n",
       "</style>\n",
       "<table border=\"1\" class=\"dataframe\">\n",
       "  <thead>\n",
       "    <tr style=\"text-align: right;\">\n",
       "      <th></th>\n",
       "      <th>High</th>\n",
       "      <th>Low</th>\n",
       "      <th>Open</th>\n",
       "      <th>Close</th>\n",
       "      <th>Volume</th>\n",
       "      <th>Adj Close</th>\n",
       "      <th>mvg30</th>\n",
       "      <th>mvg120</th>\n",
       "    </tr>\n",
       "    <tr>\n",
       "      <th>Date</th>\n",
       "      <th></th>\n",
       "      <th></th>\n",
       "      <th></th>\n",
       "      <th></th>\n",
       "      <th></th>\n",
       "      <th></th>\n",
       "      <th></th>\n",
       "      <th></th>\n",
       "    </tr>\n",
       "  </thead>\n",
       "  <tbody>\n",
       "    <tr>\n",
       "      <th>2013-12-31</th>\n",
       "      <td>80.182854</td>\n",
       "      <td>79.142860</td>\n",
       "      <td>79.167145</td>\n",
       "      <td>80.145714</td>\n",
       "      <td>55771100.0</td>\n",
       "      <td>72.612869</td>\n",
       "      <td>NaN</td>\n",
       "      <td>NaN</td>\n",
       "    </tr>\n",
       "    <tr>\n",
       "      <th>2014-01-02</th>\n",
       "      <td>79.575714</td>\n",
       "      <td>78.860001</td>\n",
       "      <td>79.382858</td>\n",
       "      <td>79.018570</td>\n",
       "      <td>58671200.0</td>\n",
       "      <td>71.591667</td>\n",
       "      <td>NaN</td>\n",
       "      <td>NaN</td>\n",
       "    </tr>\n",
       "    <tr>\n",
       "      <th>2014-01-03</th>\n",
       "      <td>79.099998</td>\n",
       "      <td>77.204285</td>\n",
       "      <td>78.980003</td>\n",
       "      <td>77.282860</td>\n",
       "      <td>98116900.0</td>\n",
       "      <td>70.019096</td>\n",
       "      <td>NaN</td>\n",
       "      <td>NaN</td>\n",
       "    </tr>\n",
       "    <tr>\n",
       "      <th>2014-01-06</th>\n",
       "      <td>78.114288</td>\n",
       "      <td>76.228569</td>\n",
       "      <td>76.778572</td>\n",
       "      <td>77.704285</td>\n",
       "      <td>103152700.0</td>\n",
       "      <td>70.400902</td>\n",
       "      <td>NaN</td>\n",
       "      <td>NaN</td>\n",
       "    </tr>\n",
       "    <tr>\n",
       "      <th>2014-01-07</th>\n",
       "      <td>77.994286</td>\n",
       "      <td>76.845711</td>\n",
       "      <td>77.760002</td>\n",
       "      <td>77.148575</td>\n",
       "      <td>79302300.0</td>\n",
       "      <td>69.897423</td>\n",
       "      <td>NaN</td>\n",
       "      <td>NaN</td>\n",
       "    </tr>\n",
       "  </tbody>\n",
       "</table>\n",
       "</div>"
      ],
      "text/plain": [
       "                 High        Low       Open      Close       Volume  \\\n",
       "Date                                                                  \n",
       "2013-12-31  80.182854  79.142860  79.167145  80.145714   55771100.0   \n",
       "2014-01-02  79.575714  78.860001  79.382858  79.018570   58671200.0   \n",
       "2014-01-03  79.099998  77.204285  78.980003  77.282860   98116900.0   \n",
       "2014-01-06  78.114288  76.228569  76.778572  77.704285  103152700.0   \n",
       "2014-01-07  77.994286  76.845711  77.760002  77.148575   79302300.0   \n",
       "\n",
       "            Adj Close  mvg30  mvg120  \n",
       "Date                                  \n",
       "2013-12-31  72.612869    NaN     NaN  \n",
       "2014-01-02  71.591667    NaN     NaN  \n",
       "2014-01-03  70.019096    NaN     NaN  \n",
       "2014-01-06  70.400902    NaN     NaN  \n",
       "2014-01-07  69.897423    NaN     NaN  "
      ]
     },
     "execution_count": 139,
     "metadata": {},
     "output_type": "execute_result"
    }
   ],
   "source": [
    "df.head()"
   ]
  },
  {
   "cell_type": "code",
   "execution_count": 143,
   "metadata": {},
   "outputs": [
    {
     "data": {
      "text/plain": [
       "<matplotlib.axes._subplots.AxesSubplot at 0xffd9400>"
      ]
     },
     "execution_count": 143,
     "metadata": {},
     "output_type": "execute_result"
    },
    {
     "data": {
      "image/png": "[encoded data removed]",
      "text/plain": [
       "<Figure size 432x288 with 1 Axes>"
      ]
     },
     "metadata": {
      "needs_background": "light"
     },
     "output_type": "display_data"
    }
   ],
   "source": [
    "df.loc[df.index > '2019-06-01', 'Volume'].plot(kind = 'bar')"
   ]
  },
  {
   "cell_type": "code",
   "execution_count": 145,
   "metadata": {},
   "outputs": [
    {
     "data": {
      "text/plain": [
       "<matplotlib.axes._subplots.AxesSubplot at 0xf6d7358>"
      ]
     },
     "execution_count": 145,
     "metadata": {},
     "output_type": "execute_result"
    },
    {
     "data": {
      "image/png": "[encoded data removed]",
      "text/plain": [
       "<Figure size 720x360 with 1 Axes>"
      ]
     },
     "metadata": {
      "needs_background": "light"
     },
     "output_type": "display_data"
    }
   ],
   "source": [
    "df.loc[df.index >= '2019-06-01' , 'Volume'].plot(kind='bar', figsize=[10,5], title=\n",
    "\"AAPL\", legend=True)\n"
   ]
  },
  {
   "cell_type": "code",
   "execution_count": 149,
   "metadata": {},
   "outputs": [
    {
     "data": {
      "text/plain": [
       "True     723\n",
       "False    660\n",
       "dtype: int64"
      ]
     },
     "execution_count": 149,
     "metadata": {},
     "output_type": "execute_result"
    }
   ],
   "source": [
    "(df['Close'] - df['Open'] > 0).value_counts()"
   ]
  },
  {
   "cell_type": "code",
   "execution_count": 150,
   "metadata": {},
   "outputs": [
    {
     "data": {
      "text/plain": [
       "<matplotlib.axes._subplots.AxesSubplot at 0xf7ef2b0>"
      ]
     },
     "execution_count": 150,
     "metadata": {},
     "output_type": "execute_result"
    },
    {
     "data": {
      "image/png": "[encoded data removed]",
      "text/plain": [
       "<Figure size 432x288 with 1 Axes>"
      ]
     },
     "metadata": {},
     "output_type": "display_data"
    }
   ],
   "source": [
    "(df['Close'] - df['Open'] > 0).value_counts().plot(kind = 'pie')"
   ]
  },
  {
   "cell_type": "code",
   "execution_count": 152,
   "metadata": {},
   "outputs": [
    {
     "data": {
      "text/plain": [
       "<matplotlib.axes._subplots.AxesSubplot at 0xf883fd0>"
      ]
     },
     "execution_count": 152,
     "metadata": {},
     "output_type": "execute_result"
    },
    {
     "data": {
      "image/png": "[encoded data removed]",
      "text/plain": [
       "<Figure size 360x360 with 1 Axes>"
      ]
     },
     "metadata": {},
     "output_type": "display_data"
    }
   ],
   "source": [
    "(df['Close'] - df['Open'] > 0).value_counts().plot(kind = 'pie',title= 'AAPL' ,figsize=[5,5], counterclock=True,startangle=90, legend=True)\n",
    "\n"
   ]
  },
  {
   "cell_type": "code",
   "execution_count": 153,
   "metadata": {},
   "outputs": [
    {
     "data": {
      "text/plain": [
       "<matplotlib.axes._subplots.AxesSubplot at 0xfb0feb8>"
      ]
     },
     "execution_count": 153,
     "metadata": {},
     "output_type": "execute_result"
    },
    {
     "data": {
      "image/png": "[encoded data removed]",
      "text/plain": [
       "<Figure size 432x288 with 1 Axes>"
      ]
     },
     "metadata": {
      "needs_background": "light"
     },
     "output_type": "display_data"
    }
   ],
   "source": [
    "df['Close'].plot(kind='hist')"
   ]
  },
  {
   "cell_type": "code",
   "execution_count": 154,
   "metadata": {},
   "outputs": [
    {
     "data": {
      "text/plain": [
       "<matplotlib.axes._subplots.AxesSubplot at 0xfe61320>"
      ]
     },
     "execution_count": 154,
     "metadata": {},
     "output_type": "execute_result"
    },
    {
     "data": {
      "image/png": "[encoded data removed]",
      "text/plain": [
       "<Figure size 432x288 with 1 Axes>"
      ]
     },
     "metadata": {
      "needs_background": "light"
     },
     "output_type": "display_data"
    }
   ],
   "source": [
    "df['Close'].pct_change().plot(kind='hist')"
   ]
  },
  {
   "cell_type": "code",
   "execution_count": 155,
   "metadata": {},
   "outputs": [
    {
     "data": {
      "text/plain": [
       "<matplotlib.axes._subplots.AxesSubplot at 0xed638d0>"
      ]
     },
     "execution_count": 155,
     "metadata": {},
     "output_type": "execute_result"
    },
    {
     "data": {
      "image/png": "[encoded data removed]",
      "text/plain": [
       "<Figure size 432x288 with 1 Axes>"
      ]
     },
     "metadata": {
      "needs_background": "light"
     },
     "output_type": "display_data"
    }
   ],
   "source": [
    "df['Close'].pct_change().plot(kind='hist', bins = 50)"
   ]
  },
  {
   "cell_type": "code",
   "execution_count": 156,
   "metadata": {},
   "outputs": [
    {
     "data": {
      "text/plain": [
       "<matplotlib.axes._subplots.AxesSubplot at 0xfac2320>"
      ]
     },
     "execution_count": 156,
     "metadata": {},
     "output_type": "execute_result"
    },
    {
     "data": {
      "image/png": "[encoded data removed]",
      "text/plain": [
       "<Figure size 432x288 with 1 Axes>"
      ]
     },
     "metadata": {
      "needs_background": "light"
     },
     "output_type": "display_data"
    }
   ],
   "source": [
    "df['Close'].plot(kind = 'box')"
   ]
  },
  {
   "cell_type": "markdown",
   "metadata": {},
   "source": [
    "###　Data Visualization\n",
    "- Plotly\n",
    "- Bokeh\n",
    "- Google Chart"
   ]
  },
  {
   "cell_type": "markdown",
   "metadata": {},
   "source": [
    "## Plotly\n",
    "- https://plot.ly/python/box-plots/"
   ]
  },
  {
   "cell_type": "code",
   "execution_count": null,
   "metadata": {},
   "outputs": [],
   "source": [
    "! pip install plotly"
   ]
  },
  {
   "cell_type": "code",
   "execution_count": 2,
   "metadata": {},
   "outputs": [
    {
     "data": {
      "text/html": [
       "        <script type=\"text/javascript\">\n",
       "        window.PlotlyConfig = {MathJaxConfig: 'local'};\n",
       "        if (window.MathJax) {MathJax.Hub.Config({SVG: {font: \"STIX-Web\"}});}\n",
       "        if (typeof require !== 'undefined') {\n",
       "        require.undef(\"plotly\");\n",
       "        requirejs.config({\n",
       "            paths: {\n",
       "                'plotly': ['https://cdn.plot.ly/plotly-latest.min']\n",
       "            }\n",
       "        });\n",
       "        require(['plotly'], function(Plotly) {\n",
       "            window._Plotly = Plotly;\n",
       "        });\n",
       "        }\n",
       "        </script>\n",
       "        "
      ]
     },
     "metadata": {},
     "output_type": "display_data"
    },
    {
     "data": {
      "application/vnd.plotly.v1+json": {
       "config": {
        "linkText": "Export to plot.ly",
        "plotlyServerURL": "https://plot.ly",
        "showLink": true
       },
       "data": [
        {
         "boxpoints": false,
         "line": {
          "width": 1.3
         },
         "marker": {
          "color": "rgba(226, 74, 51, 1.0)"
         },
         "name": "A",
         "orientation": "v",
         "type": "box",
         "uid": "f60781f3-001d-4ce9-8872-178d2b9d2d5d",
         "y": [
          0.9270635542482031,
          0.20072464731108908,
          0.8801261364211481,
          0.16802502316840995,
          0.9248576060803801,
          0.8250988355273897,
          0.5094671989703888,
          0.367271253281822,
          0.36439012944600524,
          0.9816661242338403
         ]
        },
        {
         "boxpoints": false,
         "line": {
          "width": 1.3
         },
         "marker": {
          "color": "rgba(62, 111, 176, 1.0)"
         },
         "name": "B",
         "orientation": "v",
         "type": "box",
         "uid": "f5a43c8f-6505-4312-a96b-63b1b60c780e",
         "y": [
          0.7910599439850288,
          0.18721417654883643,
          0.19105794218618644,
          0.868143696298613,
          0.13599713503885635,
          0.02105284366343385,
          0.38213681037487846,
          0.30442018805577786,
          0.2247340022720986,
          0.33624730178615825
         ]
        },
        {
         "boxpoints": false,
         "line": {
          "width": 1.3
         },
         "marker": {
          "color": "rgba(132, 118, 202, 1.0)"
         },
         "name": "C",
         "orientation": "v",
         "type": "box",
         "uid": "7b3a2aa3-9bff-4e42-8016-6b41aa7fe87c",
         "y": [
          0.4698116259525893,
          0.6769940478139346,
          0.3218148999974024,
          0.851225782085887,
          0.35174531643728246,
          0.21208759469353766,
          0.2846211609085445,
          0.03400573728701628,
          0.05753206787840248,
          0.746783983777214
         ]
        },
        {
         "boxpoints": false,
         "line": {
          "width": 1.3
         },
         "marker": {
          "color": "rgba(101, 101, 101, 1.0)"
         },
         "name": "D",
         "orientation": "v",
         "type": "box",
         "uid": "e205cbb8-da39-477e-baa9-5aa4f548e4bb",
         "y": [
          0.2905868313913166,
          0.5673796147148011,
          0.9638296090940844,
          0.9264475997872836,
          0.4298832899845776,
          0.3766818878424302,
          0.8967392461165389,
          0.5481892995602542,
          0.7582988267086099,
          0.70550091054946
         ]
        },
        {
         "boxpoints": false,
         "line": {
          "width": 1.3
         },
         "marker": {
          "color": "rgba(251, 193, 94, 1.0)"
         },
         "name": "E",
         "orientation": "v",
         "type": "box",
         "uid": "66f237a5-b883-4857-96c5-4b4c17d2f1bd",
         "y": [
          0.9654956963309043,
          0.04885935607746439,
          0.7117573811357499,
          0.22371820430950962,
          0.5249140809560002,
          0.99161390519059,
          0.7617910118632438,
          0.323204129790729,
          0.769967773978784,
          0.09950354810540507
         ]
        }
       ],
       "layout": {
        "legend": {
         "bgcolor": "#FFFFFF",
         "font": {
          "color": "#666666"
         }
        },
        "paper_bgcolor": "#FFFFFF",
        "plot_bgcolor": "#E5E5E5",
        "title": {
         "font": {
          "color": "#151516"
         }
        },
        "xaxis": {
         "gridcolor": "#F6F6F6",
         "showgrid": true,
         "tickfont": {
          "color": "#666666"
         },
         "title": {
          "font": {
           "color": "#666666"
          },
          "text": ""
         },
         "zerolinecolor": "#F6F6F6"
        },
        "yaxis": {
         "gridcolor": "#F6F6F6",
         "showgrid": true,
         "tickfont": {
          "color": "#666666"
         },
         "title": {
          "font": {
           "color": "#666666"
          },
          "text": ""
         },
         "zerolinecolor": "#F6F6F6"
        }
       }
      },
      "text/html": [
       "<div>\n",
       "        \n",
       "        \n",
       "            <div id=\"1e101efd-5b3a-48ce-9221-9115e75e4de3\" class=\"plotly-graph-div\" style=\"height:525px; width:100%;\"></div>\n",
       "            <script type=\"text/javascript\">\n",
       "                require([\"plotly\"], function(Plotly) {\n",
       "                    window.PLOTLYENV=window.PLOTLYENV || {};\n",
       "                    window.PLOTLYENV.BASE_URL='https://plot.ly';\n",
       "                    \n",
       "                if (document.getElementById(\"1e101efd-5b3a-48ce-9221-9115e75e4de3\")) {\n",
       "                    Plotly.newPlot(\n",
       "                        '1e101efd-5b3a-48ce-9221-9115e75e4de3',\n",
       "                        [{\"boxpoints\": false, \"line\": {\"width\": 1.3}, \"marker\": {\"color\": \"rgba(226, 74, 51, 1.0)\"}, \"name\": \"A\", \"orientation\": \"v\", \"type\": \"box\", \"uid\": \"f60781f3-001d-4ce9-8872-178d2b9d2d5d\", \"y\": [0.9270635542482031, 0.20072464731108908, 0.8801261364211481, 0.16802502316840995, 0.9248576060803801, 0.8250988355273897, 0.5094671989703888, 0.367271253281822, 0.36439012944600524, 0.9816661242338403]}, {\"boxpoints\": false, \"line\": {\"width\": 1.3}, \"marker\": {\"color\": \"rgba(62, 111, 176, 1.0)\"}, \"name\": \"B\", \"orientation\": \"v\", \"type\": \"box\", \"uid\": \"f5a43c8f-6505-4312-a96b-63b1b60c780e\", \"y\": [0.7910599439850288, 0.18721417654883643, 0.19105794218618644, 0.868143696298613, 0.13599713503885635, 0.02105284366343385, 0.38213681037487846, 0.30442018805577786, 0.2247340022720986, 0.33624730178615825]}, {\"boxpoints\": false, \"line\": {\"width\": 1.3}, \"marker\": {\"color\": \"rgba(132, 118, 202, 1.0)\"}, \"name\": \"C\", \"orientation\": \"v\", \"type\": \"box\", \"uid\": \"7b3a2aa3-9bff-4e42-8016-6b41aa7fe87c\", \"y\": [0.4698116259525893, 0.6769940478139346, 0.3218148999974024, 0.851225782085887, 0.35174531643728246, 0.21208759469353766, 0.2846211609085445, 0.03400573728701628, 0.05753206787840248, 0.746783983777214]}, {\"boxpoints\": false, \"line\": {\"width\": 1.3}, \"marker\": {\"color\": \"rgba(101, 101, 101, 1.0)\"}, \"name\": \"D\", \"orientation\": \"v\", \"type\": \"box\", \"uid\": \"e205cbb8-da39-477e-baa9-5aa4f548e4bb\", \"y\": [0.2905868313913166, 0.5673796147148011, 0.9638296090940844, 0.9264475997872836, 0.4298832899845776, 0.3766818878424302, 0.8967392461165389, 0.5481892995602542, 0.7582988267086099, 0.70550091054946]}, {\"boxpoints\": false, \"line\": {\"width\": 1.3}, \"marker\": {\"color\": \"rgba(251, 193, 94, 1.0)\"}, \"name\": \"E\", \"orientation\": \"v\", \"type\": \"box\", \"uid\": \"66f237a5-b883-4857-96c5-4b4c17d2f1bd\", \"y\": [0.9654956963309043, 0.04885935607746439, 0.7117573811357499, 0.22371820430950962, 0.5249140809560002, 0.99161390519059, 0.7617910118632438, 0.323204129790729, 0.769967773978784, 0.09950354810540507]}],\n",
       "                        {\"legend\": {\"bgcolor\": \"#FFFFFF\", \"font\": {\"color\": \"#666666\"}}, \"paper_bgcolor\": \"#FFFFFF\", \"plot_bgcolor\": \"#E5E5E5\", \"title\": {\"font\": {\"color\": \"#151516\"}}, \"xaxis\": {\"gridcolor\": \"#F6F6F6\", \"showgrid\": true, \"tickfont\": {\"color\": \"#666666\"}, \"title\": {\"font\": {\"color\": \"#666666\"}, \"text\": \"\"}, \"zerolinecolor\": \"#F6F6F6\"}, \"yaxis\": {\"gridcolor\": \"#F6F6F6\", \"showgrid\": true, \"tickfont\": {\"color\": \"#666666\"}, \"title\": {\"font\": {\"color\": \"#666666\"}, \"text\": \"\"}, \"zerolinecolor\": \"#F6F6F6\"}},\n",
       "                        {\"showLink\": true, \"linkText\": \"Export to plot.ly\", \"plotlyServerURL\": \"https://plot.ly\", \"responsive\": true}\n",
       "                    ).then(function(){\n",
       "                            \n",
       "var gd = document.getElementById('1e101efd-5b3a-48ce-9221-9115e75e4de3');\n",
       "var x = new MutationObserver(function (mutations, observer) {{\n",
       "        var display = window.getComputedStyle(gd).display;\n",
       "        if (!display || display === 'none') {{\n",
       "            console.log([gd, 'removed!']);\n",
       "            Plotly.purge(gd);\n",
       "            observer.disconnect();\n",
       "        }}\n",
       "}});\n",
       "\n",
       "// Listen for the removal of the full notebook cells\n",
       "var notebookContainer = gd.closest('#notebook-container');\n",
       "if (notebookContainer) {{\n",
       "    x.observe(notebookContainer, {childList: true});\n",
       "}}\n",
       "\n",
       "// Listen for the clearing of the current output cell\n",
       "var outputEl = gd.closest('.output');\n",
       "if (outputEl) {{\n",
       "    x.observe(outputEl, {childList: true});\n",
       "}}\n",
       "\n",
       "                        })\n",
       "                };\n",
       "                });\n",
       "            </script>\n",
       "        </div>"
      ]
     },
     "metadata": {},
     "output_type": "display_data"
    }
   ],
   "source": [
    "import plotly.plotly as py\n",
    "import cufflinks as cf\n",
    "import pandas as pd\n",
    "import numpy as np\n",
    "\n",
    "cf.set_config_file(offline=True, world_readable=True, theme='ggplot')\n",
    "\n",
    "df = pd.DataFrame(np.random.rand(10, 5), columns=['A', 'B', 'C', 'D', 'E'])\n",
    "df.iplot(kind='box', filename='cufflinks/box-plots')"
   ]
  },
  {
   "cell_type": "code",
   "execution_count": 3,
   "metadata": {},
   "outputs": [
    {
     "data": {
      "text/plain": [
       "Date\n",
       "2019-06-24    198.580002\n",
       "2019-06-25    195.570007\n",
       "2019-06-26    199.800003\n",
       "2019-06-27    199.740005\n",
       "2019-06-28    197.919998\n",
       "Name: Close, dtype: float64"
      ]
     },
     "execution_count": 3,
     "metadata": {},
     "output_type": "execute_result"
    }
   ],
   "source": [
    "import pandas_datareader\n",
    "df = pandas_datareader.DataReader('aapl', data_source='yahoo',start='2014-01-01')['Close']\n",
    "df.tail()"
   ]
  },
  {
   "cell_type": "code",
   "execution_count": 4,
   "metadata": {},
   "outputs": [
    {
     "data": {
      "application/vnd.plotly.v1+json": {
       "config": {
        "linkText": "Export to plot.ly",
        "plotlyServerURL": "https://plot.ly",
        "showLink": true
       },
       "data": [
        {
         "boxpoints": false,
         "line": {
          "width": 1.3
         },
         "marker": {
          "color": "rgba(226, 74, 51, 1.0)"
         },
         "name": "Close",
         "orientation": "v",
         "type": "box",
         "uid": "897fcab9-83a5-43d1-aca7-db8600bc42bb",
         "y": [
          80.14571380615234,
          79.01856994628906,
          77.2828598022461,
          77.70428466796875,
          77.14857482910156,
          77.63714599609375,
          76.64571380615234,
          76.13428497314453,
          76.5328598022461,
          78.05571746826172,
          79.62285614013672,
          79.17857360839844,
          77.23857116699219,
          78.43856811523438,
          78.78713989257812,
          79.45428466796875,
          78.01000213623047,
          78.64286041259766,
          72.35713958740234,
          71.53571319580078,
          71.39714050292969,
          71.5142822265625,
          71.64714050292969,
          72.68428802490234,
          73.22714233398438,
          73.21571350097656,
          74.23999786376953,
          75.56999969482422,
          76.56571197509766,
          76.55999755859375,
          77.77571105957031,
          77.71286010742188,
          77.99857330322266,
          76.76714324951172,
          75.87857055664062,
          75.03571319580078,
          75.36428833007812,
          74.58000183105469,
          73.90714263916016,
          75.38143157958984,
          75.17713928222656,
          75.394287109375,
          75.89142608642578,
          76.05142974853516,
          75.82142639160156,
          75.77714538574219,
          75.84571075439453,
          76.58428192138672,
          76.6585693359375,
          75.80714416503906,
          74.9557113647461,
          75.24857330322266,
          75.9142837524414,
          75.894287109375,
          75.52857208251953,
          76.12428283691406,
          77.02714538574219,
          77.855712890625,
          77.1114273071289,
          76.77999877929688,
          76.69428253173828,
          76.67713928222656,
          77.37857055664062,
          77.50714111328125,
          76.97000122070312,
          75.97428894042969,
          74.78142547607422,
          74.77714538574219,
          75.76000213623047,
          74.7828598022461,
          74.2300033569336,
          74.52571105957031,
          73.9942855834961,
          74.144287109375,
          74.9914321899414,
          75.88143157958984,
          75.95714569091797,
          74.96428680419922,
          81.11000061035156,
          81.7057113647461,
          84.87000274658203,
          84.61856842041016,
          84.29856872558594,
          84.49714660644531,
          84.65428924560547,
          85.85142517089844,
          84.91571807861328,
          84.61856842041016,
          83.99857330322266,
          83.64857482910156,
          84.69000244140625,
          84.82286071777344,
          84.83856964111328,
          84.11714172363281,
          85.35857391357422,
          86.37000274658203,
          86.38714599609375,
          86.61571502685547,
          86.75285339355469,
          87.73285675048828,
          89.37571716308594,
          89.144287109375,
          90.76856994628906,
          90.42857360839844,
          89.80714416503906,
          91.07714080810547,
          92.11714172363281,
          92.47856903076172,
          92.22428894042969,
          93.69999694824219,
          94.25,
          93.86000061035156,
          92.29000091552734,
          91.27999877929688,
          92.19999694824219,
          92.08000183105469,
          92.18000030517578,
          91.86000061035156,
          90.91000366210938,
          90.83000183105469,
          90.27999877929688,
          90.36000061035156,
          90.9000015258789,
          91.9800033569336,
          92.93000030517578,
          93.5199966430664,
          93.4800033569336,
          94.02999877929688,
          95.97000122070312,
          95.3499984741211,
          95.38999938964844,
          95.04000091552734,
          95.22000122070312,
          96.44999694824219,
          95.31999969482422,
          94.77999877929688,
          93.08999633789062,
          94.43000030517578,
          93.94000244140625,
          94.72000122070312,
          97.19000244140625,
          97.02999877929688,
          97.66999816894531,
          99.0199966430664,
          98.37999725341797,
          98.1500015258789,
          95.5999984741211,
          96.12999725341797,
          95.58999633789062,
          95.12000274658203,
          94.95999908447266,
          94.4800033569336,
          94.73999786376953,
          95.98999786376953,
          95.97000122070312,
          97.23999786376953,
          97.5,
          97.9800033569336,
          99.16000366210938,
          100.52999877929688,
          100.56999969482422,
          100.58000183105469,
          101.31999969482422,
          101.54000091552734,
          100.88999938964844,
          102.12999725341797,
          102.25,
          102.5,
          103.30000305175781,
          98.94000244140625,
          98.12000274658203,
          98.97000122070312,
          98.36000061035156,
          97.98999786376953,
          101,
          101.43000030517578,
          101.66000366210938,
          101.62999725341797,
          100.86000061035156,
          101.58000183105469,
          101.79000091552734,
          100.95999908447266,
          101.05999755859375,
          102.63999938964844,
          101.75,
          97.87000274658203,
          100.75,
          100.11000061035156,
          100.75,
          99.18000030517578,
          99.9000015258789,
          99.62000274658203,
          99.62000274658203,
          98.75,
          100.80000305175781,
          101.0199966430664,
          100.7300033569336,
          99.80999755859375,
          98.75,
          97.54000091552734,
          96.26000213623047,
          97.66999816894531,
          99.76000213623047,
          102.47000122070312,
          102.98999786376953,
          104.83000183105469,
          105.22000122070312,
          105.11000061035156,
          106.73999786376953,
          107.33999633789062,
          106.9800033569336,
          108,
          109.4000015258789,
          108.5999984741211,
          108.86000061035156,
          108.69999694824219,
          109.01000213623047,
          108.83000183105469,
          109.69999694824219,
          111.25,
          112.81999969482422,
          114.18000030517578,
          113.98999786376953,
          115.47000122070312,
          114.66999816894531,
          116.30999755859375,
          116.47000122070312,
          118.62999725341797,
          117.5999984741211,
          119,
          118.93000030517578,
          115.06999969482422,
          114.62999725341797,
          115.93000030517578,
          115.48999786376953,
          115,
          112.4000015258789,
          114.12000274658203,
          111.94999694824219,
          111.62000274658203,
          109.7300033569336,
          108.2300033569336,
          106.75,
          109.41000366210938,
          112.6500015258789,
          111.77999877929688,
          112.94000244140625,
          112.54000091552734,
          112.01000213623047,
          113.98999786376953,
          113.91000366210938,
          112.5199966430664,
          110.37999725341797,
          109.33000183105469,
          106.25,
          106.26000213623047,
          107.75,
          111.88999938964844,
          112.01000213623047,
          109.25,
          110.22000122070312,
          109.80000305175781,
          106.81999969482422,
          105.98999786376953,
          108.72000122070312,
          109.55000305175781,
          112.4000015258789,
          112.9800033569336,
          113.0999984741211,
          109.13999938964844,
          115.30999755859375,
          118.9000015258789,
          117.16000366210938,
          118.62999725341797,
          118.6500015258789,
          119.55999755859375,
          119.94000244140625,
          118.93000030517578,
          119.72000122070312,
          122.0199966430664,
          124.87999725341797,
          126.45999908447266,
          127.08000183105469,
          127.83000183105469,
          128.72000122070312,
          128.4499969482422,
          129.5,
          133,
          132.1699981689453,
          128.7899932861328,
          130.4199981689453,
          128.4600067138672,
          129.08999633789062,
          129.36000061035156,
          128.5399932861328,
          126.41000366210938,
          126.5999984741211,
          127.13999938964844,
          124.51000213623047,
          122.23999786376953,
          124.44999694824219,
          123.58999633789062,
          124.94999694824219,
          127.04000091552734,
          128.47000122070312,
          127.5,
          125.9000015258789,
          127.20999908447266,
          126.69000244140625,
          123.37999725341797,
          124.23999786376953,
          123.25,
          126.37000274658203,
          124.43000030517578,
          124.25,
          125.31999969482422,
          127.3499984741211,
          126.01000213623047,
          125.5999984741211,
          126.55999755859375,
          127.0999984741211,
          126.8499984741211,
          126.30000305175781,
          126.77999877929688,
          126.16999816894531,
          124.75,
          127.5999984741211,
          126.91000366210938,
          128.6199951171875,
          129.6699981689453,
          130.27999877929688,
          132.64999389648438,
          130.55999755859375,
          128.63999938964844,
          125.1500015258789,
          128.9499969482422,
          128.6999969482422,
          125.80000305175781,
          125.01000213623047,
          125.26000213623047,
          127.62000274658203,
          126.31999969482422,
          125.87000274658203,
          126.01000213623047,
          128.9499969482422,
          128.77000427246094,
          130.19000244140625,
          130.07000732421875,
          130.05999755859375,
          131.38999938964844,
          132.5399932861328,
          129.6199951171875,
          132.0399932861328,
          131.77999877929688,
          130.27999877929688,
          130.5399932861328,
          129.9600067138672,
          130.1199951171875,
          129.36000061035156,
          128.64999389648438,
          127.80000305175781,
          127.41999816894531,
          128.8800048828125,
          128.58999633789062,
          127.16999816894531,
          126.91999816894531,
          127.5999984741211,
          127.30000305175781,
          127.87999725341797,
          126.5999984741211,
          127.61000061035156,
          127.02999877929688,
          128.11000061035156,
          127.5,
          126.75,
          124.52999877929688,
          125.43000030517578,
          126.5999984741211,
          126.44000244140625,
          126,
          125.69000244140625,
          122.56999969482422,
          120.06999969482422,
          123.27999877929688,
          125.66000366210938,
          125.61000061035156,
          126.81999969482422,
          128.50999450683594,
          129.6199951171875,
          132.07000732421875,
          130.75,
          125.22000122070312,
          125.16000366210938,
          124.5,
          122.7699966430664,
          123.37999725341797,
          122.98999786376953,
          122.37000274658203,
          121.30000305175781,
          118.44000244140625,
          114.63999938964844,
          115.4000015258789,
          115.12999725341797,
          115.5199966430664,
          119.72000122070312,
          113.48999786376953,
          115.23999786376953,
          115.1500015258789,
          115.95999908447266,
          117.16000366210938,
          116.5,
          115.01000213623047,
          112.6500015258789,
          105.76000213623047,
          103.12000274658203,
          103.73999786376953,
          109.69000244140625,
          112.91999816894531,
          113.29000091552734,
          112.76000213623047,
          107.72000122070312,
          112.33999633789062,
          110.37000274658203,
          109.2699966430664,
          112.30999755859375,
          110.1500015258789,
          112.56999969482422,
          114.20999908447266,
          115.30999755859375,
          116.27999877929688,
          116.41000366210938,
          113.91999816894531,
          113.44999694824219,
          115.20999908447266,
          113.4000015258789,
          114.31999969482422,
          115,
          114.70999908447266,
          112.44000244140625,
          109.05999755859375,
          110.30000305175781,
          109.58000183105469,
          110.37999725341797,
          110.77999877929688,
          111.30999755859375,
          110.77999877929688,
          109.5,
          112.12000274658203,
          111.5999984741211,
          111.79000091552734,
          110.20999908447266,
          111.86000061035156,
          111.04000091552734,
          111.7300033569336,
          113.7699966430664,
          113.76000213623047,
          115.5,
          119.08000183105469,
          115.27999877929688,
          114.55000305175781,
          119.2699966430664,
          120.52999877929688,
          119.5,
          121.18000030517578,
          122.56999969482422,
          122,
          120.91999816894531,
          121.05999755859375,
          120.56999969482422,
          116.7699966430664,
          116.11000061035156,
          115.72000122070312,
          112.33999633789062,
          114.18000030517578,
          113.69000244140625,
          117.29000091552734,
          118.77999877929688,
          119.30000305175781,
          117.75,
          118.87999725341797,
          118.02999877929688,
          117.80999755859375,
          118.30000305175781,
          117.33999633789062,
          116.27999877929688,
          115.19999694824219,
          119.02999877929688,
          118.27999877929688,
          118.2300033569336,
          115.62000274658203,
          116.16999816894531,
          113.18000030517578,
          112.4800033569336,
          110.48999786376953,
          111.33999633789062,
          108.9800033569336,
          106.02999877929688,
          107.33000183105469,
          107.2300033569336,
          108.61000061035156,
          108.02999877929688,
          106.81999969482422,
          108.73999786376953,
          107.31999969482422,
          105.26000213623047,
          105.3499984741211,
          102.70999908447266,
          100.69999694824219,
          96.44999694824219,
          96.95999908447266,
          98.52999877929688,
          99.95999908447266,
          97.38999938964844,
          99.5199966430664,
          97.12999725341797,
          96.66000366210938,
          96.79000091552734,
          96.30000305175781,
          101.41999816894531,
          99.44000244140625,
          99.98999786376953,
          93.41999816894531,
          94.08999633789062,
          97.33999633789062,
          96.43000030517578,
          94.4800033569336,
          96.3499984741211,
          96.5999984741211,
          94.0199966430664,
          95.01000213623047,
          94.98999786376953,
          94.2699966430664,
          93.69999694824219,
          93.98999786376953,
          96.63999938964844,
          98.12000274658203,
          96.26000213623047,
          96.04000091552734,
          96.87999725341797,
          94.69000244140625,
          96.0999984741211,
          96.76000213623047,
          96.91000366210938,
          96.69000244140625,
          100.52999877929688,
          100.75,
          101.5,
          103.01000213623047,
          101.87000274658203,
          101.02999877929688,
          101.12000274658203,
          101.16999816894531,
          102.26000213623047,
          102.5199966430664,
          104.58000183105469,
          105.97000122070312,
          105.80000305175781,
          105.91999816894531,
          105.91000366210938,
          106.72000122070312,
          106.12999725341797,
          105.66999816894531,
          105.19000244140625,
          107.68000030517578,
          109.55999755859375,
          108.98999786376953,
          109.98999786376953,
          111.12000274658203,
          109.80999755859375,
          110.95999908447266,
          108.54000091552734,
          108.66000366210938,
          109.0199966430664,
          110.44000244140625,
          112.04000091552734,
          112.0999984741211,
          109.8499984741211,
          107.4800033569336,
          106.91000366210938,
          107.12999725341797,
          105.97000122070312,
          105.68000030517578,
          105.08000183105469,
          104.3499984741211,
          97.81999969482422,
          94.83000183105469,
          93.73999786376953,
          93.63999938964844,
          95.18000030517578,
          94.19000244140625,
          93.23999786376953,
          92.72000122070312,
          92.79000091552734,
          93.41999816894531,
          92.51000213623047,
          90.33999633789062,
          90.5199966430664,
          93.87999725341797,
          93.48999786376953,
          94.55999755859375,
          94.19999694824219,
          95.22000122070312,
          96.43000030517578,
          97.9000015258789,
          99.62000274658203,
          100.41000366210938,
          100.3499984741211,
          99.86000061035156,
          98.45999908447266,
          97.72000122070312,
          97.91999816894531,
          98.62999725341797,
          99.02999877929688,
          98.94000244140625,
          99.6500015258789,
          98.83000183105469,
          97.33999633789062,
          97.45999908447266,
          97.13999938964844,
          97.55000305175781,
          95.33000183105469,
          95.0999984741211,
          95.91000366210938,
          95.55000305175781,
          96.0999984741211,
          93.4000015258789,
          92.04000091552734,
          93.58999633789062,
          94.4000015258789,
          95.5999984741211,
          95.88999938964844,
          94.98999786376953,
          95.52999877929688,
          95.94000244140625,
          96.68000030517578,
          96.9800033569336,
          97.41999816894531,
          96.87000274658203,
          98.79000091552734,
          98.77999877929688,
          99.83000183105469,
          99.87000274658203,
          99.95999908447266,
          99.43000030517578,
          98.66000366210938,
          97.33999633789062,
          96.66999816894531,
          102.94999694824219,
          104.33999633789062,
          104.20999908447266,
          106.05000305175781,
          104.4800033569336,
          105.79000091552734,
          105.87000274658203,
          107.4800033569336,
          108.37000274658203,
          108.80999755859375,
          108,
          107.93000030517578,
          108.18000030517578,
          109.4800033569336,
          109.37999725341797,
          109.22000122070312,
          109.08000183105469,
          109.36000061035156,
          108.51000213623047,
          108.8499984741211,
          108.02999877929688,
          107.56999969482422,
          106.94000244140625,
          106.81999969482422,
          106,
          106.0999984741211,
          106.7300033569336,
          107.7300033569336,
          107.69999694824219,
          108.36000061035156,
          105.5199966430664,
          103.12999725341797,
          105.44000244140625,
          107.94999694824219,
          111.7699966430664,
          115.56999969482422,
          114.91999816894531,
          113.58000183105469,
          113.56999969482422,
          113.55000305175781,
          114.62000274658203,
          112.70999908447266,
          112.87999725341797,
          113.08999633789062,
          113.94999694824219,
          112.18000030517578,
          113.05000305175781,
          112.5199966430664,
          113,
          113.05000305175781,
          113.88999938964844,
          114.05999755859375,
          116.05000305175781,
          116.30000305175781,
          117.33999633789062,
          116.9800033569336,
          117.62999725341797,
          117.55000305175781,
          117.47000122070312,
          117.12000274658203,
          117.05999755859375,
          116.5999984741211,
          117.6500015258789,
          118.25,
          115.58999633789062,
          114.4800033569336,
          113.72000122070312,
          113.54000091552734,
          111.48999786376953,
          111.58999633789062,
          109.83000183105469,
          108.83999633789062,
          110.41000366210938,
          111.05999755859375,
          110.87999725341797,
          107.79000091552734,
          108.43000030517578,
          105.70999908447266,
          107.11000061035156,
          109.98999786376953,
          109.94999694824219,
          110.05999755859375,
          111.7300033569336,
          111.80000305175781,
          111.2300033569336,
          111.79000091552734,
          111.56999969482422,
          111.45999908447266,
          110.5199966430664,
          109.48999786376953,
          109.9000015258789,
          109.11000061035156,
          109.94999694824219,
          111.02999877929688,
          112.12000274658203,
          113.94999694824219,
          113.30000305175781,
          115.19000244140625,
          115.19000244140625,
          115.81999969482422,
          115.97000122070312,
          116.63999938964844,
          116.94999694824219,
          117.05999755859375,
          116.29000091552734,
          116.5199966430664,
          117.26000213623047,
          116.76000213623047,
          116.7300033569336,
          115.81999969482422,
          116.1500015258789,
          116.0199966430664,
          116.61000061035156,
          117.91000366210938,
          118.98999786376953,
          119.11000061035156,
          119.75,
          119.25,
          119.04000091552734,
          120,
          119.98999786376953,
          119.77999877929688,
          120,
          120.08000183105469,
          119.97000122070312,
          121.87999725341797,
          121.94000244140625,
          121.94999694824219,
          121.62999725341797,
          121.3499984741211,
          128.75,
          128.52999877929688,
          129.0800018310547,
          130.2899932861328,
          131.52999877929688,
          132.0399932861328,
          132.4199981689453,
          132.1199951171875,
          133.2899932861328,
          135.02000427246094,
          135.50999450683594,
          135.35000610351562,
          135.72000122070312,
          136.6999969482422,
          137.11000061035156,
          136.52999877929688,
          136.66000366210938,
          136.92999267578125,
          136.99000549316406,
          139.7899932861328,
          138.9600067138672,
          139.77999877929688,
          139.33999633789062,
          139.52000427246094,
          139,
          138.67999267578125,
          139.13999938964844,
          139.1999969482422,
          138.99000549316406,
          140.4600067138672,
          140.69000244140625,
          139.99000549316406,
          141.4600067138672,
          139.83999633789062,
          141.4199981689453,
          140.9199981689453,
          140.63999938964844,
          140.8800048828125,
          143.8000030517578,
          144.1199951171875,
          143.92999267578125,
          143.66000366210938,
          143.6999969482422,
          144.77000427246094,
          144.02000427246094,
          143.66000366210938,
          143.33999633789062,
          143.1699981689453,
          141.6300048828125,
          141.8000030517578,
          141.0500030517578,
          141.8300018310547,
          141.1999969482422,
          140.67999267578125,
          142.44000244140625,
          142.27000427246094,
          143.63999938964844,
          144.52999877929688,
          143.67999267578125,
          143.7899932861328,
          143.64999389648438,
          146.5800018310547,
          147.50999450683594,
          147.05999755859375,
          146.52999877929688,
          148.9600067138672,
          153.00999450683594,
          153.99000549316406,
          153.25999450683594,
          153.9499969482422,
          156.10000610351562,
          155.6999969482422,
          155.47000122070312,
          150.25,
          152.5399932861328,
          153.05999755859375,
          153.99000549316406,
          153.8000030517578,
          153.33999633789062,
          153.8699951171875,
          153.61000061035156,
          153.6699981689453,
          152.75999450683594,
          153.17999267578125,
          155.4499969482422,
          153.92999267578125,
          154.4499969482422,
          155.3699951171875,
          154.99000549316406,
          148.97999572753906,
          145.4199981689453,
          146.58999633789062,
          145.16000366210938,
          144.2899932861328,
          142.27000427246094,
          146.33999633789062,
          145.00999450683594,
          145.8699951171875,
          145.6300048828125,
          146.27999877929688,
          145.82000732421875,
          143.72999572753906,
          145.8300018310547,
          143.67999267578125,
          144.02000427246094,
          143.5,
          144.08999633789062,
          142.72999572753906,
          144.17999267578125,
          145.05999755859375,
          145.52999877929688,
          145.74000549316406,
          147.77000427246094,
          149.0399932861328,
          149.55999755859375,
          150.0800018310547,
          151.02000427246094,
          150.33999633789062,
          150.27000427246094,
          152.08999633789062,
          152.74000549316406,
          153.4600067138672,
          150.55999755859375,
          149.5,
          148.72999572753906,
          150.0500030517578,
          157.13999938964844,
          155.57000732421875,
          156.38999938964844,
          158.80999755859375,
          160.0800018310547,
          161.05999755859375,
          155.32000732421875,
          157.47999572753906,
          159.85000610351562,
          161.60000610351562,
          160.9499969482422,
          157.86000061035156,
          157.5,
          157.2100067138672,
          159.77999877929688,
          159.97999572753906,
          159.27000427246094,
          159.86000061035156,
          161.47000122070312,
          162.91000366210938,
          163.35000610351562,
          164,
          164.0500030517578,
          162.0800018310547,
          161.91000366210938,
          161.25999450683594,
          158.6300048828125,
          161.5,
          160.86000061035156,
          159.64999389648438,
          158.27999877929688,
          159.8800048828125,
          158.6699981689453,
          158.72999572753906,
          156.07000732421875,
          153.38999938964844,
          151.88999938964844,
          150.5500030517578,
          153.13999938964844,
          154.22999572753906,
          153.27999877929688,
          154.1199951171875,
          153.80999755859375,
          154.47999572753906,
          153.47999572753906,
          155.38999938964844,
          155.3000030517578,
          155.83999633789062,
          155.89999389648438,
          156.5500030517578,
          156,
          156.99000549316406,
          159.8800048828125,
          160.47000122070312,
          159.75999450683594,
          155.97999572753906,
          156.25,
          156.1699981689453,
          157.10000610351562,
          156.41000366210938,
          157.41000366210938,
          163.0500030517578,
          166.72000122070312,
          169.0399932861328,
          166.88999938964844,
          168.11000061035156,
          172.5,
          174.25,
          174.80999755859375,
          176.24000549316406,
          175.8800048828125,
          174.6699981689453,
          173.97000122070312,
          171.33999633789062,
          169.0800018310547,
          171.10000610351562,
          170.14999389648438,
          169.97999572753906,
          173.13999938964844,
          174.9600067138672,
          174.97000122070312,
          174.08999633789062,
          173.07000732421875,
          169.47999572753906,
          171.85000610351562,
          171.0500030517578,
          169.8000030517578,
          169.63999938964844,
          169.00999450683594,
          169.32000732421875,
          169.3699951171875,
          172.6699981689453,
          171.6999969482422,
          172.27000427246094,
          172.22000122070312,
          173.97000122070312,
          176.4199981689453,
          174.5399932861328,
          174.35000610351562,
          175.00999450683594,
          175.00999450683594,
          170.57000732421875,
          170.60000610351562,
          171.0800018310547,
          169.22999572753906,
          172.25999450683594,
          172.22999572753906,
          173.02999877929688,
          175,
          174.35000610351562,
          174.3300018310547,
          174.2899932861328,
          175.27999877929688,
          177.08999633789062,
          176.19000244140625,
          179.10000610351562,
          179.25999450683594,
          178.4600067138672,
          177,
          177.0399932861328,
          174.22000122070312,
          171.11000061035156,
          171.50999450683594,
          167.9600067138672,
          166.97000122070312,
          167.42999267578125,
          167.77999877929688,
          160.5,
          156.49000549316406,
          163.02999877929688,
          159.5399932861328,
          155.14999389648438,
          156.41000366210938,
          162.7100067138672,
          164.33999633789062,
          167.3699951171875,
          172.99000549316406,
          172.42999267578125,
          171.85000610351562,
          171.07000732421875,
          172.5,
          175.5,
          178.97000122070312,
          178.38999938964844,
          178.1199951171875,
          175,
          176.2100067138672,
          176.82000732421875,
          176.6699981689453,
          175.02999877929688,
          176.94000244140625,
          179.97999572753906,
          181.72000122070312,
          179.97000122070312,
          178.44000244140625,
          178.64999389648438,
          178.02000427246094,
          175.3000030517578,
          175.24000549316406,
          171.27000427246094,
          168.85000610351562,
          164.94000244140625,
          172.77000427246094,
          168.33999633789062,
          166.47999572753906,
          167.77999877929688,
          166.67999267578125,
          168.38999938964844,
          171.61000061035156,
          172.8000030517578,
          168.3800048828125,
          170.0500030517578,
          173.25,
          172.44000244140625,
          174.13999938964844,
          174.72999572753906,
          175.82000732421875,
          178.24000549316406,
          177.83999633789062,
          172.8000030517578,
          165.72000122070312,
          165.24000549316406,
          162.94000244140625,
          163.64999389648438,
          164.22000122070312,
          162.32000732421875,
          165.25999450683594,
          169.10000610351562,
          176.57000732421875,
          176.88999938964844,
          183.8300018310547,
          185.16000366210938,
          186.0500030517578,
          187.36000061035156,
          190.0399932861328,
          188.58999633789062,
          188.14999389648438,
          186.44000244140625,
          188.17999267578125,
          186.99000549316406,
          186.30999755859375,
          187.6300048828125,
          187.16000366210938,
          188.36000061035156,
          188.14999389648438,
          188.5800018310547,
          187.89999389648438,
          187.5,
          186.8699951171875,
          190.24000549316406,
          191.8300018310547,
          193.30999755859375,
          193.97999572753906,
          193.4600067138672,
          191.6999969482422,
          191.22999572753906,
          192.27999877929688,
          190.6999969482422,
          190.8000030517578,
          188.83999633789062,
          188.74000549316406,
          185.69000244140625,
          186.5,
          185.4600067138672,
          184.9199981689453,
          182.1699981689453,
          184.42999267578125,
          184.16000366210938,
          185.5,
          185.11000061035156,
          187.17999267578125,
          183.9199981689453,
          185.39999389648438,
          187.97000122070312,
          190.5800018310547,
          190.35000610351562,
          187.8800048828125,
          191.02999877929688,
          191.3300018310547,
          190.91000366210938,
          191.4499969482422,
          190.39999389648438,
          191.8800048828125,
          191.44000244140625,
          191.61000061035156,
          193,
          194.82000732421875,
          194.2100067138672,
          190.97999572753906,
          189.91000366210938,
          190.2899932861328,
          201.5,
          207.38999938964844,
          207.99000549316406,
          209.07000732421875,
          207.11000061035156,
          207.25,
          208.8800048828125,
          207.52999877929688,
          208.8699951171875,
          209.75,
          210.24000549316406,
          213.32000732421875,
          217.5800018310547,
          215.4600067138672,
          215.0399932861328,
          215.0500030517578,
          215.49000549316406,
          216.16000366210938,
          217.94000244140625,
          219.6999969482422,
          222.97999572753906,
          225.02999877929688,
          227.6300048828125,
          228.36000061035156,
          226.8699951171875,
          223.10000610351562,
          221.3000030517578,
          218.3300018310547,
          223.85000610351562,
          221.07000732421875,
          226.41000366210938,
          223.83999633789062,
          217.8800048828125,
          218.24000549316406,
          218.3699951171875,
          220.02999877929688,
          217.66000366210938,
          220.7899932861328,
          222.19000244140625,
          220.4199981689453,
          224.9499969482422,
          225.74000549316406,
          227.25999450683594,
          229.27999877929688,
          232.07000732421875,
          227.99000549316406,
          224.2899932861328,
          223.77000427246094,
          226.8699951171875,
          216.36000061035156,
          214.4499969482422,
          222.11000061035156,
          217.36000061035156,
          222.14999389648438,
          221.19000244140625,
          216.02000427246094,
          219.30999755859375,
          220.64999389648438,
          222.72999572753906,
          215.08999633789062,
          219.8000030517578,
          216.3000030517578,
          212.24000549316406,
          213.3000030517578,
          218.86000061035156,
          222.22000122070312,
          207.47999572753906,
          201.58999633789062,
          203.77000427246094,
          209.9499969482422,
          208.49000549316406,
          204.47000122070312,
          194.1699981689453,
          192.22999572753906,
          186.8000030517578,
          191.41000366210938,
          193.52999877929688,
          185.86000061035156,
          176.97999572753906,
          176.77999877929688,
          172.2899932861328,
          174.6199951171875,
          174.24000549316406,
          180.94000244140625,
          179.5500030517578,
          178.5800018310547,
          184.82000732421875,
          176.69000244140625,
          174.72000122070312,
          168.49000549316406,
          169.60000610351562,
          168.6300048828125,
          169.10000610351562,
          170.9499969482422,
          165.47999572753906,
          163.94000244140625,
          166.07000732421875,
          160.88999938964844,
          156.8300018310547,
          150.72999572753906,
          146.8300018310547,
          157.1699981689453,
          156.14999389648438,
          156.22999572753906,
          157.74000549316406,
          157.9199981689453,
          142.19000244140625,
          148.25999450683594,
          147.92999267578125,
          150.75,
          153.30999755859375,
          153.8000030517578,
          152.2899932861328,
          150,
          153.07000732421875,
          154.94000244140625,
          155.86000061035156,
          156.82000732421875,
          153.3000030517578,
          153.9199981689453,
          152.6999969482422,
          157.75999450683594,
          156.3000030517578,
          154.67999267578125,
          165.25,
          166.44000244140625,
          166.52000427246094,
          171.25,
          174.17999267578125,
          174.24000549316406,
          170.94000244140625,
          170.41000366210938,
          169.42999267578125,
          170.88999938964844,
          170.17999267578125,
          170.8000030517578,
          170.4199981689453,
          170.92999267578125,
          172.02999877929688,
          171.05999755859375,
          172.97000122070312,
          174.22999572753906,
          174.3300018310547,
          174.8699951171875,
          173.14999389648438,
          174.97000122070312,
          175.85000610351562,
          175.52999877929688,
          174.52000427246094,
          172.5,
          172.91000366210938,
          178.89999389648438,
          180.91000366210938,
          181.7100067138672,
          183.72999572753906,
          186.1199951171875,
          188.02000427246094,
          186.52999877929688,
          188.16000366210938,
          195.08999633789062,
          191.0500030517578,
          188.74000549316406,
          186.7899932861328,
          188.47000122070312,
          188.72000122070312,
          189.9499969482422,
          191.24000549316406,
          194.02000427246094,
          195.35000610351562,
          195.69000244140625,
          197,
          200.10000610351562,
          199.5,
          200.6199951171875,
          198.9499969482422,
          198.8699951171875,
          199.22999572753906,
          199.25,
          203.1300048828125,
          203.86000061035156,
          204.52999877929688,
          207.47999572753906,
          207.16000366210938,
          205.27999877929688,
          204.3000030517578,
          204.61000061035156,
          200.6699981689453,
          210.52000427246094,
          209.14999389648438,
          211.75,
          208.47999572753906,
          202.86000061035156,
          202.89999389648438,
          200.72000122070312,
          197.17999267578125,
          185.72000122070312,
          188.66000366210938,
          190.9199981689453,
          190.0800018310547,
          189,
          183.08999633789062,
          186.60000610351562,
          182.77999877929688,
          179.66000366210938,
          178.97000122070312,
          178.22999572753906,
          177.3800048828125,
          178.3000030517578,
          175.07000732421875,
          173.3000030517578,
          179.63999938964844,
          182.5399932861328,
          185.22000122070312,
          190.14999389648438,
          192.5800018310547,
          194.80999755859375,
          194.19000244140625,
          194.14999389648438,
          192.74000549316406,
          193.88999938964844,
          198.4499969482422,
          197.8699951171875,
          199.4600067138672,
          198.77999877929688,
          198.5800018310547,
          195.57000732421875,
          199.8000030517578,
          199.74000549316406,
          197.9199981689453
         ]
        }
       ],
       "layout": {
        "legend": {
         "bgcolor": "#FFFFFF",
         "font": {
          "color": "#666666"
         }
        },
        "paper_bgcolor": "#FFFFFF",
        "plot_bgcolor": "#E5E5E5",
        "title": {
         "font": {
          "color": "#151516"
         }
        },
        "xaxis": {
         "gridcolor": "#F6F6F6",
         "showgrid": true,
         "tickfont": {
          "color": "#666666"
         },
         "title": {
          "font": {
           "color": "#666666"
          },
          "text": ""
         },
         "zerolinecolor": "#F6F6F6"
        },
        "yaxis": {
         "gridcolor": "#F6F6F6",
         "showgrid": true,
         "tickfont": {
          "color": "#666666"
         },
         "title": {
          "font": {
           "color": "#666666"
          },
          "text": ""
         },
         "zerolinecolor": "#F6F6F6"
        }
       }
      },
      "text/html": [
       "<div>\n",
       "        \n",
       "        \n",
       "            <div id=\"ae8cccca-e858-418d-af52-9174084418fc\" class=\"plotly-graph-div\" style=\"height:525px; width:100%;\"></div>\n",
       "            <script type=\"text/javascript\">\n",
       "                require([\"plotly\"], function(Plotly) {\n",
       "                    window.PLOTLYENV=window.PLOTLYENV || {};\n",
       "                    window.PLOTLYENV.BASE_URL='https://plot.ly';\n",
       "                    \n",
       "                if (document.getElementById(\"ae8cccca-e858-418d-af52-9174084418fc\")) {\n",
       "                    Plotly.newPlot(\n",
       "                        'ae8cccca-e858-418d-af52-9174084418fc',\n",
       "                        [{\"boxpoints\": false, \"line\": {\"width\": 1.3}, \"marker\": {\"color\": \"rgba(226, 74, 51, 1.0)\"}, \"name\": \"Close\", \"orientation\": \"v\", \"type\": \"box\", \"uid\": \"897fcab9-83a5-43d1-aca7-db8600bc42bb\", \"y\": [80.14571380615234, 79.01856994628906, 77.2828598022461, 77.70428466796875, 77.14857482910156, 77.63714599609375, 76.64571380615234, 76.13428497314453, 76.5328598022461, 78.05571746826172, 79.62285614013672, 79.17857360839844, 77.23857116699219, 78.43856811523438, 78.78713989257812, 79.45428466796875, 78.01000213623047, 78.64286041259766, 72.35713958740234, 71.53571319580078, 71.39714050292969, 71.5142822265625, 71.64714050292969, 72.68428802490234, 73.22714233398438, 73.21571350097656, 74.23999786376953, 75.56999969482422, 76.56571197509766, 76.55999755859375, 77.77571105957031, 77.71286010742188, 77.99857330322266, 76.76714324951172, 75.87857055664062, 75.03571319580078, 75.36428833007812, 74.58000183105469, 73.90714263916016, 75.38143157958984, 75.17713928222656, 75.394287109375, 75.89142608642578, 76.05142974853516, 75.82142639160156, 75.77714538574219, 75.84571075439453, 76.58428192138672, 76.6585693359375, 75.80714416503906, 74.9557113647461, 75.24857330322266, 75.9142837524414, 75.894287109375, 75.52857208251953, 76.12428283691406, 77.02714538574219, 77.855712890625, 77.1114273071289, 76.77999877929688, 76.69428253173828, 76.67713928222656, 77.37857055664062, 77.50714111328125, 76.97000122070312, 75.97428894042969, 74.78142547607422, 74.77714538574219, 75.76000213623047, 74.7828598022461, 74.2300033569336, 74.52571105957031, 73.9942855834961, 74.144287109375, 74.9914321899414, 75.88143157958984, 75.95714569091797, 74.96428680419922, 81.11000061035156, 81.7057113647461, 84.87000274658203, 84.61856842041016, 84.29856872558594, 84.49714660644531, 84.65428924560547, 85.85142517089844, 84.91571807861328, 84.61856842041016, 83.99857330322266, 83.64857482910156, 84.69000244140625, 84.82286071777344, 84.83856964111328, 84.11714172363281, 85.35857391357422, 86.37000274658203, 86.38714599609375, 86.61571502685547, 86.75285339355469, 87.73285675048828, 89.37571716308594, 89.144287109375, 90.76856994628906, 90.42857360839844, 89.80714416503906, 91.07714080810547, 92.11714172363281, 92.47856903076172, 92.22428894042969, 93.69999694824219, 94.25, 93.86000061035156, 92.29000091552734, 91.27999877929688, 92.19999694824219, 92.08000183105469, 92.18000030517578, 91.86000061035156, 90.91000366210938, 90.83000183105469, 90.27999877929688, 90.36000061035156, 90.9000015258789, 91.9800033569336, 92.93000030517578, 93.5199966430664, 93.4800033569336, 94.02999877929688, 95.97000122070312, 95.3499984741211, 95.38999938964844, 95.04000091552734, 95.22000122070312, 96.44999694824219, 95.31999969482422, 94.77999877929688, 93.08999633789062, 94.43000030517578, 93.94000244140625, 94.72000122070312, 97.19000244140625, 97.02999877929688, 97.66999816894531, 99.0199966430664, 98.37999725341797, 98.1500015258789, 95.5999984741211, 96.12999725341797, 95.58999633789062, 95.12000274658203, 94.95999908447266, 94.4800033569336, 94.73999786376953, 95.98999786376953, 95.97000122070312, 97.23999786376953, 97.5, 97.9800033569336, 99.16000366210938, 100.52999877929688, 100.56999969482422, 100.58000183105469, 101.31999969482422, 101.54000091552734, 100.88999938964844, 102.12999725341797, 102.25, 102.5, 103.30000305175781, 98.94000244140625, 98.12000274658203, 98.97000122070312, 98.36000061035156, 97.98999786376953, 101.0, 101.43000030517578, 101.66000366210938, 101.62999725341797, 100.86000061035156, 101.58000183105469, 101.79000091552734, 100.95999908447266, 101.05999755859375, 102.63999938964844, 101.75, 97.87000274658203, 100.75, 100.11000061035156, 100.75, 99.18000030517578, 99.9000015258789, 99.62000274658203, 99.62000274658203, 98.75, 100.80000305175781, 101.0199966430664, 100.7300033569336, 99.80999755859375, 98.75, 97.54000091552734, 96.26000213623047, 97.66999816894531, 99.76000213623047, 102.47000122070312, 102.98999786376953, 104.83000183105469, 105.22000122070312, 105.11000061035156, 106.73999786376953, 107.33999633789062, 106.9800033569336, 108.0, 109.4000015258789, 108.5999984741211, 108.86000061035156, 108.69999694824219, 109.01000213623047, 108.83000183105469, 109.69999694824219, 111.25, 112.81999969482422, 114.18000030517578, 113.98999786376953, 115.47000122070312, 114.66999816894531, 116.30999755859375, 116.47000122070312, 118.62999725341797, 117.5999984741211, 119.0, 118.93000030517578, 115.06999969482422, 114.62999725341797, 115.93000030517578, 115.48999786376953, 115.0, 112.4000015258789, 114.12000274658203, 111.94999694824219, 111.62000274658203, 109.7300033569336, 108.2300033569336, 106.75, 109.41000366210938, 112.6500015258789, 111.77999877929688, 112.94000244140625, 112.54000091552734, 112.01000213623047, 113.98999786376953, 113.91000366210938, 112.5199966430664, 110.37999725341797, 109.33000183105469, 106.25, 106.26000213623047, 107.75, 111.88999938964844, 112.01000213623047, 109.25, 110.22000122070312, 109.80000305175781, 106.81999969482422, 105.98999786376953, 108.72000122070312, 109.55000305175781, 112.4000015258789, 112.9800033569336, 113.0999984741211, 109.13999938964844, 115.30999755859375, 118.9000015258789, 117.16000366210938, 118.62999725341797, 118.6500015258789, 119.55999755859375, 119.94000244140625, 118.93000030517578, 119.72000122070312, 122.0199966430664, 124.87999725341797, 126.45999908447266, 127.08000183105469, 127.83000183105469, 128.72000122070312, 128.4499969482422, 129.5, 133.0, 132.1699981689453, 128.7899932861328, 130.4199981689453, 128.4600067138672, 129.08999633789062, 129.36000061035156, 128.5399932861328, 126.41000366210938, 126.5999984741211, 127.13999938964844, 124.51000213623047, 122.23999786376953, 124.44999694824219, 123.58999633789062, 124.94999694824219, 127.04000091552734, 128.47000122070312, 127.5, 125.9000015258789, 127.20999908447266, 126.69000244140625, 123.37999725341797, 124.23999786376953, 123.25, 126.37000274658203, 124.43000030517578, 124.25, 125.31999969482422, 127.3499984741211, 126.01000213623047, 125.5999984741211, 126.55999755859375, 127.0999984741211, 126.8499984741211, 126.30000305175781, 126.77999877929688, 126.16999816894531, 124.75, 127.5999984741211, 126.91000366210938, 128.6199951171875, 129.6699981689453, 130.27999877929688, 132.64999389648438, 130.55999755859375, 128.63999938964844, 125.1500015258789, 128.9499969482422, 128.6999969482422, 125.80000305175781, 125.01000213623047, 125.26000213623047, 127.62000274658203, 126.31999969482422, 125.87000274658203, 126.01000213623047, 128.9499969482422, 128.77000427246094, 130.19000244140625, 130.07000732421875, 130.05999755859375, 131.38999938964844, 132.5399932861328, 129.6199951171875, 132.0399932861328, 131.77999877929688, 130.27999877929688, 130.5399932861328, 129.9600067138672, 130.1199951171875, 129.36000061035156, 128.64999389648438, 127.80000305175781, 127.41999816894531, 128.8800048828125, 128.58999633789062, 127.16999816894531, 126.91999816894531, 127.5999984741211, 127.30000305175781, 127.87999725341797, 126.5999984741211, 127.61000061035156, 127.02999877929688, 128.11000061035156, 127.5, 126.75, 124.52999877929688, 125.43000030517578, 126.5999984741211, 126.44000244140625, 126.0, 125.69000244140625, 122.56999969482422, 120.06999969482422, 123.27999877929688, 125.66000366210938, 125.61000061035156, 126.81999969482422, 128.50999450683594, 129.6199951171875, 132.07000732421875, 130.75, 125.22000122070312, 125.16000366210938, 124.5, 122.7699966430664, 123.37999725341797, 122.98999786376953, 122.37000274658203, 121.30000305175781, 118.44000244140625, 114.63999938964844, 115.4000015258789, 115.12999725341797, 115.5199966430664, 119.72000122070312, 113.48999786376953, 115.23999786376953, 115.1500015258789, 115.95999908447266, 117.16000366210938, 116.5, 115.01000213623047, 112.6500015258789, 105.76000213623047, 103.12000274658203, 103.73999786376953, 109.69000244140625, 112.91999816894531, 113.29000091552734, 112.76000213623047, 107.72000122070312, 112.33999633789062, 110.37000274658203, 109.2699966430664, 112.30999755859375, 110.1500015258789, 112.56999969482422, 114.20999908447266, 115.30999755859375, 116.27999877929688, 116.41000366210938, 113.91999816894531, 113.44999694824219, 115.20999908447266, 113.4000015258789, 114.31999969482422, 115.0, 114.70999908447266, 112.44000244140625, 109.05999755859375, 110.30000305175781, 109.58000183105469, 110.37999725341797, 110.77999877929688, 111.30999755859375, 110.77999877929688, 109.5, 112.12000274658203, 111.5999984741211, 111.79000091552734, 110.20999908447266, 111.86000061035156, 111.04000091552734, 111.7300033569336, 113.7699966430664, 113.76000213623047, 115.5, 119.08000183105469, 115.27999877929688, 114.55000305175781, 119.2699966430664, 120.52999877929688, 119.5, 121.18000030517578, 122.56999969482422, 122.0, 120.91999816894531, 121.05999755859375, 120.56999969482422, 116.7699966430664, 116.11000061035156, 115.72000122070312, 112.33999633789062, 114.18000030517578, 113.69000244140625, 117.29000091552734, 118.77999877929688, 119.30000305175781, 117.75, 118.87999725341797, 118.02999877929688, 117.80999755859375, 118.30000305175781, 117.33999633789062, 116.27999877929688, 115.19999694824219, 119.02999877929688, 118.27999877929688, 118.2300033569336, 115.62000274658203, 116.16999816894531, 113.18000030517578, 112.4800033569336, 110.48999786376953, 111.33999633789062, 108.9800033569336, 106.02999877929688, 107.33000183105469, 107.2300033569336, 108.61000061035156, 108.02999877929688, 106.81999969482422, 108.73999786376953, 107.31999969482422, 105.26000213623047, 105.3499984741211, 102.70999908447266, 100.69999694824219, 96.44999694824219, 96.95999908447266, 98.52999877929688, 99.95999908447266, 97.38999938964844, 99.5199966430664, 97.12999725341797, 96.66000366210938, 96.79000091552734, 96.30000305175781, 101.41999816894531, 99.44000244140625, 99.98999786376953, 93.41999816894531, 94.08999633789062, 97.33999633789062, 96.43000030517578, 94.4800033569336, 96.3499984741211, 96.5999984741211, 94.0199966430664, 95.01000213623047, 94.98999786376953, 94.2699966430664, 93.69999694824219, 93.98999786376953, 96.63999938964844, 98.12000274658203, 96.26000213623047, 96.04000091552734, 96.87999725341797, 94.69000244140625, 96.0999984741211, 96.76000213623047, 96.91000366210938, 96.69000244140625, 100.52999877929688, 100.75, 101.5, 103.01000213623047, 101.87000274658203, 101.02999877929688, 101.12000274658203, 101.16999816894531, 102.26000213623047, 102.5199966430664, 104.58000183105469, 105.97000122070312, 105.80000305175781, 105.91999816894531, 105.91000366210938, 106.72000122070312, 106.12999725341797, 105.66999816894531, 105.19000244140625, 107.68000030517578, 109.55999755859375, 108.98999786376953, 109.98999786376953, 111.12000274658203, 109.80999755859375, 110.95999908447266, 108.54000091552734, 108.66000366210938, 109.0199966430664, 110.44000244140625, 112.04000091552734, 112.0999984741211, 109.8499984741211, 107.4800033569336, 106.91000366210938, 107.12999725341797, 105.97000122070312, 105.68000030517578, 105.08000183105469, 104.3499984741211, 97.81999969482422, 94.83000183105469, 93.73999786376953, 93.63999938964844, 95.18000030517578, 94.19000244140625, 93.23999786376953, 92.72000122070312, 92.79000091552734, 93.41999816894531, 92.51000213623047, 90.33999633789062, 90.5199966430664, 93.87999725341797, 93.48999786376953, 94.55999755859375, 94.19999694824219, 95.22000122070312, 96.43000030517578, 97.9000015258789, 99.62000274658203, 100.41000366210938, 100.3499984741211, 99.86000061035156, 98.45999908447266, 97.72000122070312, 97.91999816894531, 98.62999725341797, 99.02999877929688, 98.94000244140625, 99.6500015258789, 98.83000183105469, 97.33999633789062, 97.45999908447266, 97.13999938964844, 97.55000305175781, 95.33000183105469, 95.0999984741211, 95.91000366210938, 95.55000305175781, 96.0999984741211, 93.4000015258789, 92.04000091552734, 93.58999633789062, 94.4000015258789, 95.5999984741211, 95.88999938964844, 94.98999786376953, 95.52999877929688, 95.94000244140625, 96.68000030517578, 96.9800033569336, 97.41999816894531, 96.87000274658203, 98.79000091552734, 98.77999877929688, 99.83000183105469, 99.87000274658203, 99.95999908447266, 99.43000030517578, 98.66000366210938, 97.33999633789062, 96.66999816894531, 102.94999694824219, 104.33999633789062, 104.20999908447266, 106.05000305175781, 104.4800033569336, 105.79000091552734, 105.87000274658203, 107.4800033569336, 108.37000274658203, 108.80999755859375, 108.0, 107.93000030517578, 108.18000030517578, 109.4800033569336, 109.37999725341797, 109.22000122070312, 109.08000183105469, 109.36000061035156, 108.51000213623047, 108.8499984741211, 108.02999877929688, 107.56999969482422, 106.94000244140625, 106.81999969482422, 106.0, 106.0999984741211, 106.7300033569336, 107.7300033569336, 107.69999694824219, 108.36000061035156, 105.5199966430664, 103.12999725341797, 105.44000244140625, 107.94999694824219, 111.7699966430664, 115.56999969482422, 114.91999816894531, 113.58000183105469, 113.56999969482422, 113.55000305175781, 114.62000274658203, 112.70999908447266, 112.87999725341797, 113.08999633789062, 113.94999694824219, 112.18000030517578, 113.05000305175781, 112.5199966430664, 113.0, 113.05000305175781, 113.88999938964844, 114.05999755859375, 116.05000305175781, 116.30000305175781, 117.33999633789062, 116.9800033569336, 117.62999725341797, 117.55000305175781, 117.47000122070312, 117.12000274658203, 117.05999755859375, 116.5999984741211, 117.6500015258789, 118.25, 115.58999633789062, 114.4800033569336, 113.72000122070312, 113.54000091552734, 111.48999786376953, 111.58999633789062, 109.83000183105469, 108.83999633789062, 110.41000366210938, 111.05999755859375, 110.87999725341797, 107.79000091552734, 108.43000030517578, 105.70999908447266, 107.11000061035156, 109.98999786376953, 109.94999694824219, 110.05999755859375, 111.7300033569336, 111.80000305175781, 111.2300033569336, 111.79000091552734, 111.56999969482422, 111.45999908447266, 110.5199966430664, 109.48999786376953, 109.9000015258789, 109.11000061035156, 109.94999694824219, 111.02999877929688, 112.12000274658203, 113.94999694824219, 113.30000305175781, 115.19000244140625, 115.19000244140625, 115.81999969482422, 115.97000122070312, 116.63999938964844, 116.94999694824219, 117.05999755859375, 116.29000091552734, 116.5199966430664, 117.26000213623047, 116.76000213623047, 116.7300033569336, 115.81999969482422, 116.1500015258789, 116.0199966430664, 116.61000061035156, 117.91000366210938, 118.98999786376953, 119.11000061035156, 119.75, 119.25, 119.04000091552734, 120.0, 119.98999786376953, 119.77999877929688, 120.0, 120.08000183105469, 119.97000122070312, 121.87999725341797, 121.94000244140625, 121.94999694824219, 121.62999725341797, 121.3499984741211, 128.75, 128.52999877929688, 129.0800018310547, 130.2899932861328, 131.52999877929688, 132.0399932861328, 132.4199981689453, 132.1199951171875, 133.2899932861328, 135.02000427246094, 135.50999450683594, 135.35000610351562, 135.72000122070312, 136.6999969482422, 137.11000061035156, 136.52999877929688, 136.66000366210938, 136.92999267578125, 136.99000549316406, 139.7899932861328, 138.9600067138672, 139.77999877929688, 139.33999633789062, 139.52000427246094, 139.0, 138.67999267578125, 139.13999938964844, 139.1999969482422, 138.99000549316406, 140.4600067138672, 140.69000244140625, 139.99000549316406, 141.4600067138672, 139.83999633789062, 141.4199981689453, 140.9199981689453, 140.63999938964844, 140.8800048828125, 143.8000030517578, 144.1199951171875, 143.92999267578125, 143.66000366210938, 143.6999969482422, 144.77000427246094, 144.02000427246094, 143.66000366210938, 143.33999633789062, 143.1699981689453, 141.6300048828125, 141.8000030517578, 141.0500030517578, 141.8300018310547, 141.1999969482422, 140.67999267578125, 142.44000244140625, 142.27000427246094, 143.63999938964844, 144.52999877929688, 143.67999267578125, 143.7899932861328, 143.64999389648438, 146.5800018310547, 147.50999450683594, 147.05999755859375, 146.52999877929688, 148.9600067138672, 153.00999450683594, 153.99000549316406, 153.25999450683594, 153.9499969482422, 156.10000610351562, 155.6999969482422, 155.47000122070312, 150.25, 152.5399932861328, 153.05999755859375, 153.99000549316406, 153.8000030517578, 153.33999633789062, 153.8699951171875, 153.61000061035156, 153.6699981689453, 152.75999450683594, 153.17999267578125, 155.4499969482422, 153.92999267578125, 154.4499969482422, 155.3699951171875, 154.99000549316406, 148.97999572753906, 145.4199981689453, 146.58999633789062, 145.16000366210938, 144.2899932861328, 142.27000427246094, 146.33999633789062, 145.00999450683594, 145.8699951171875, 145.6300048828125, 146.27999877929688, 145.82000732421875, 143.72999572753906, 145.8300018310547, 143.67999267578125, 144.02000427246094, 143.5, 144.08999633789062, 142.72999572753906, 144.17999267578125, 145.05999755859375, 145.52999877929688, 145.74000549316406, 147.77000427246094, 149.0399932861328, 149.55999755859375, 150.0800018310547, 151.02000427246094, 150.33999633789062, 150.27000427246094, 152.08999633789062, 152.74000549316406, 153.4600067138672, 150.55999755859375, 149.5, 148.72999572753906, 150.0500030517578, 157.13999938964844, 155.57000732421875, 156.38999938964844, 158.80999755859375, 160.0800018310547, 161.05999755859375, 155.32000732421875, 157.47999572753906, 159.85000610351562, 161.60000610351562, 160.9499969482422, 157.86000061035156, 157.5, 157.2100067138672, 159.77999877929688, 159.97999572753906, 159.27000427246094, 159.86000061035156, 161.47000122070312, 162.91000366210938, 163.35000610351562, 164.0, 164.0500030517578, 162.0800018310547, 161.91000366210938, 161.25999450683594, 158.6300048828125, 161.5, 160.86000061035156, 159.64999389648438, 158.27999877929688, 159.8800048828125, 158.6699981689453, 158.72999572753906, 156.07000732421875, 153.38999938964844, 151.88999938964844, 150.5500030517578, 153.13999938964844, 154.22999572753906, 153.27999877929688, 154.1199951171875, 153.80999755859375, 154.47999572753906, 153.47999572753906, 155.38999938964844, 155.3000030517578, 155.83999633789062, 155.89999389648438, 156.5500030517578, 156.0, 156.99000549316406, 159.8800048828125, 160.47000122070312, 159.75999450683594, 155.97999572753906, 156.25, 156.1699981689453, 157.10000610351562, 156.41000366210938, 157.41000366210938, 163.0500030517578, 166.72000122070312, 169.0399932861328, 166.88999938964844, 168.11000061035156, 172.5, 174.25, 174.80999755859375, 176.24000549316406, 175.8800048828125, 174.6699981689453, 173.97000122070312, 171.33999633789062, 169.0800018310547, 171.10000610351562, 170.14999389648438, 169.97999572753906, 173.13999938964844, 174.9600067138672, 174.97000122070312, 174.08999633789062, 173.07000732421875, 169.47999572753906, 171.85000610351562, 171.0500030517578, 169.8000030517578, 169.63999938964844, 169.00999450683594, 169.32000732421875, 169.3699951171875, 172.6699981689453, 171.6999969482422, 172.27000427246094, 172.22000122070312, 173.97000122070312, 176.4199981689453, 174.5399932861328, 174.35000610351562, 175.00999450683594, 175.00999450683594, 170.57000732421875, 170.60000610351562, 171.0800018310547, 169.22999572753906, 172.25999450683594, 172.22999572753906, 173.02999877929688, 175.0, 174.35000610351562, 174.3300018310547, 174.2899932861328, 175.27999877929688, 177.08999633789062, 176.19000244140625, 179.10000610351562, 179.25999450683594, 178.4600067138672, 177.0, 177.0399932861328, 174.22000122070312, 171.11000061035156, 171.50999450683594, 167.9600067138672, 166.97000122070312, 167.42999267578125, 167.77999877929688, 160.5, 156.49000549316406, 163.02999877929688, 159.5399932861328, 155.14999389648438, 156.41000366210938, 162.7100067138672, 164.33999633789062, 167.3699951171875, 172.99000549316406, 172.42999267578125, 171.85000610351562, 171.07000732421875, 172.5, 175.5, 178.97000122070312, 178.38999938964844, 178.1199951171875, 175.0, 176.2100067138672, 176.82000732421875, 176.6699981689453, 175.02999877929688, 176.94000244140625, 179.97999572753906, 181.72000122070312, 179.97000122070312, 178.44000244140625, 178.64999389648438, 178.02000427246094, 175.3000030517578, 175.24000549316406, 171.27000427246094, 168.85000610351562, 164.94000244140625, 172.77000427246094, 168.33999633789062, 166.47999572753906, 167.77999877929688, 166.67999267578125, 168.38999938964844, 171.61000061035156, 172.8000030517578, 168.3800048828125, 170.0500030517578, 173.25, 172.44000244140625, 174.13999938964844, 174.72999572753906, 175.82000732421875, 178.24000549316406, 177.83999633789062, 172.8000030517578, 165.72000122070312, 165.24000549316406, 162.94000244140625, 163.64999389648438, 164.22000122070312, 162.32000732421875, 165.25999450683594, 169.10000610351562, 176.57000732421875, 176.88999938964844, 183.8300018310547, 185.16000366210938, 186.0500030517578, 187.36000061035156, 190.0399932861328, 188.58999633789062, 188.14999389648438, 186.44000244140625, 188.17999267578125, 186.99000549316406, 186.30999755859375, 187.6300048828125, 187.16000366210938, 188.36000061035156, 188.14999389648438, 188.5800018310547, 187.89999389648438, 187.5, 186.8699951171875, 190.24000549316406, 191.8300018310547, 193.30999755859375, 193.97999572753906, 193.4600067138672, 191.6999969482422, 191.22999572753906, 192.27999877929688, 190.6999969482422, 190.8000030517578, 188.83999633789062, 188.74000549316406, 185.69000244140625, 186.5, 185.4600067138672, 184.9199981689453, 182.1699981689453, 184.42999267578125, 184.16000366210938, 185.5, 185.11000061035156, 187.17999267578125, 183.9199981689453, 185.39999389648438, 187.97000122070312, 190.5800018310547, 190.35000610351562, 187.8800048828125, 191.02999877929688, 191.3300018310547, 190.91000366210938, 191.4499969482422, 190.39999389648438, 191.8800048828125, 191.44000244140625, 191.61000061035156, 193.0, 194.82000732421875, 194.2100067138672, 190.97999572753906, 189.91000366210938, 190.2899932861328, 201.5, 207.38999938964844, 207.99000549316406, 209.07000732421875, 207.11000061035156, 207.25, 208.8800048828125, 207.52999877929688, 208.8699951171875, 209.75, 210.24000549316406, 213.32000732421875, 217.5800018310547, 215.4600067138672, 215.0399932861328, 215.0500030517578, 215.49000549316406, 216.16000366210938, 217.94000244140625, 219.6999969482422, 222.97999572753906, 225.02999877929688, 227.6300048828125, 228.36000061035156, 226.8699951171875, 223.10000610351562, 221.3000030517578, 218.3300018310547, 223.85000610351562, 221.07000732421875, 226.41000366210938, 223.83999633789062, 217.8800048828125, 218.24000549316406, 218.3699951171875, 220.02999877929688, 217.66000366210938, 220.7899932861328, 222.19000244140625, 220.4199981689453, 224.9499969482422, 225.74000549316406, 227.25999450683594, 229.27999877929688, 232.07000732421875, 227.99000549316406, 224.2899932861328, 223.77000427246094, 226.8699951171875, 216.36000061035156, 214.4499969482422, 222.11000061035156, 217.36000061035156, 222.14999389648438, 221.19000244140625, 216.02000427246094, 219.30999755859375, 220.64999389648438, 222.72999572753906, 215.08999633789062, 219.8000030517578, 216.3000030517578, 212.24000549316406, 213.3000030517578, 218.86000061035156, 222.22000122070312, 207.47999572753906, 201.58999633789062, 203.77000427246094, 209.9499969482422, 208.49000549316406, 204.47000122070312, 194.1699981689453, 192.22999572753906, 186.8000030517578, 191.41000366210938, 193.52999877929688, 185.86000061035156, 176.97999572753906, 176.77999877929688, 172.2899932861328, 174.6199951171875, 174.24000549316406, 180.94000244140625, 179.5500030517578, 178.5800018310547, 184.82000732421875, 176.69000244140625, 174.72000122070312, 168.49000549316406, 169.60000610351562, 168.6300048828125, 169.10000610351562, 170.9499969482422, 165.47999572753906, 163.94000244140625, 166.07000732421875, 160.88999938964844, 156.8300018310547, 150.72999572753906, 146.8300018310547, 157.1699981689453, 156.14999389648438, 156.22999572753906, 157.74000549316406, 157.9199981689453, 142.19000244140625, 148.25999450683594, 147.92999267578125, 150.75, 153.30999755859375, 153.8000030517578, 152.2899932861328, 150.0, 153.07000732421875, 154.94000244140625, 155.86000061035156, 156.82000732421875, 153.3000030517578, 153.9199981689453, 152.6999969482422, 157.75999450683594, 156.3000030517578, 154.67999267578125, 165.25, 166.44000244140625, 166.52000427246094, 171.25, 174.17999267578125, 174.24000549316406, 170.94000244140625, 170.41000366210938, 169.42999267578125, 170.88999938964844, 170.17999267578125, 170.8000030517578, 170.4199981689453, 170.92999267578125, 172.02999877929688, 171.05999755859375, 172.97000122070312, 174.22999572753906, 174.3300018310547, 174.8699951171875, 173.14999389648438, 174.97000122070312, 175.85000610351562, 175.52999877929688, 174.52000427246094, 172.5, 172.91000366210938, 178.89999389648438, 180.91000366210938, 181.7100067138672, 183.72999572753906, 186.1199951171875, 188.02000427246094, 186.52999877929688, 188.16000366210938, 195.08999633789062, 191.0500030517578, 188.74000549316406, 186.7899932861328, 188.47000122070312, 188.72000122070312, 189.9499969482422, 191.24000549316406, 194.02000427246094, 195.35000610351562, 195.69000244140625, 197.0, 200.10000610351562, 199.5, 200.6199951171875, 198.9499969482422, 198.8699951171875, 199.22999572753906, 199.25, 203.1300048828125, 203.86000061035156, 204.52999877929688, 207.47999572753906, 207.16000366210938, 205.27999877929688, 204.3000030517578, 204.61000061035156, 200.6699981689453, 210.52000427246094, 209.14999389648438, 211.75, 208.47999572753906, 202.86000061035156, 202.89999389648438, 200.72000122070312, 197.17999267578125, 185.72000122070312, 188.66000366210938, 190.9199981689453, 190.0800018310547, 189.0, 183.08999633789062, 186.60000610351562, 182.77999877929688, 179.66000366210938, 178.97000122070312, 178.22999572753906, 177.3800048828125, 178.3000030517578, 175.07000732421875, 173.3000030517578, 179.63999938964844, 182.5399932861328, 185.22000122070312, 190.14999389648438, 192.5800018310547, 194.80999755859375, 194.19000244140625, 194.14999389648438, 192.74000549316406, 193.88999938964844, 198.4499969482422, 197.8699951171875, 199.4600067138672, 198.77999877929688, 198.5800018310547, 195.57000732421875, 199.8000030517578, 199.74000549316406, 197.9199981689453]}],\n",
       "                        {\"legend\": {\"bgcolor\": \"#FFFFFF\", \"font\": {\"color\": \"#666666\"}}, \"paper_bgcolor\": \"#FFFFFF\", \"plot_bgcolor\": \"#E5E5E5\", \"title\": {\"font\": {\"color\": \"#151516\"}}, \"xaxis\": {\"gridcolor\": \"#F6F6F6\", \"showgrid\": true, \"tickfont\": {\"color\": \"#666666\"}, \"title\": {\"font\": {\"color\": \"#666666\"}, \"text\": \"\"}, \"zerolinecolor\": \"#F6F6F6\"}, \"yaxis\": {\"gridcolor\": \"#F6F6F6\", \"showgrid\": true, \"tickfont\": {\"color\": \"#666666\"}, \"title\": {\"font\": {\"color\": \"#666666\"}, \"text\": \"\"}, \"zerolinecolor\": \"#F6F6F6\"}},\n",
       "                        {\"showLink\": true, \"linkText\": \"Export to plot.ly\", \"plotlyServerURL\": \"https://plot.ly\", \"responsive\": true}\n",
       "                    ).then(function(){\n",
       "                            \n",
       "var gd = document.getElementById('ae8cccca-e858-418d-af52-9174084418fc');\n",
       "var x = new MutationObserver(function (mutations, observer) {{\n",
       "        var display = window.getComputedStyle(gd).display;\n",
       "        if (!display || display === 'none') {{\n",
       "            console.log([gd, 'removed!']);\n",
       "            Plotly.purge(gd);\n",
       "            observer.disconnect();\n",
       "        }}\n",
       "}});\n",
       "\n",
       "// Listen for the removal of the full notebook cells\n",
       "var notebookContainer = gd.closest('#notebook-container');\n",
       "if (notebookContainer) {{\n",
       "    x.observe(notebookContainer, {childList: true});\n",
       "}}\n",
       "\n",
       "// Listen for the clearing of the current output cell\n",
       "var outputEl = gd.closest('.output');\n",
       "if (outputEl) {{\n",
       "    x.observe(outputEl, {childList: true});\n",
       "}}\n",
       "\n",
       "                        })\n",
       "                };\n",
       "                });\n",
       "            </script>\n",
       "        </div>"
      ]
     },
     "metadata": {},
     "output_type": "display_data"
    }
   ],
   "source": [
    "df.iplot(kind='box', filename='cufflinks/box-plots')"
   ]
  },
  {
   "cell_type": "markdown",
   "metadata": {},
   "source": [
    "## Animation - Scatter\n",
    "- https://plot.ly/python/gapminder-example/"
   ]
  },
  {
   "cell_type": "code",
   "execution_count": 10,
   "metadata": {},
   "outputs": [
    {
     "data": {
      "text/html": [
       "<div>\n",
       "<style scoped>\n",
       "    .dataframe tbody tr th:only-of-type {\n",
       "        vertical-align: middle;\n",
       "    }\n",
       "\n",
       "    .dataframe tbody tr th {\n",
       "        vertical-align: top;\n",
       "    }\n",
       "\n",
       "    .dataframe thead th {\n",
       "        text-align: right;\n",
       "    }\n",
       "</style>\n",
       "<table border=\"1\" class=\"dataframe\">\n",
       "  <thead>\n",
       "    <tr style=\"text-align: right;\">\n",
       "      <th>Symbols</th>\n",
       "      <th>AAPL</th>\n",
       "      <th>FB</th>\n",
       "      <th>GOOG</th>\n",
       "      <th>NFLX</th>\n",
       "    </tr>\n",
       "    <tr>\n",
       "      <th>Date</th>\n",
       "      <th></th>\n",
       "      <th></th>\n",
       "      <th></th>\n",
       "      <th></th>\n",
       "    </tr>\n",
       "  </thead>\n",
       "  <tbody>\n",
       "    <tr>\n",
       "      <th>2013-12-31</th>\n",
       "      <td>80.145714</td>\n",
       "      <td>54.650002</td>\n",
       "      <td>556.734009</td>\n",
       "      <td>52.595715</td>\n",
       "    </tr>\n",
       "    <tr>\n",
       "      <th>2014-01-02</th>\n",
       "      <td>79.018570</td>\n",
       "      <td>54.709999</td>\n",
       "      <td>552.963501</td>\n",
       "      <td>51.831429</td>\n",
       "    </tr>\n",
       "    <tr>\n",
       "      <th>2014-01-03</th>\n",
       "      <td>77.282860</td>\n",
       "      <td>54.560001</td>\n",
       "      <td>548.929749</td>\n",
       "      <td>51.871429</td>\n",
       "    </tr>\n",
       "    <tr>\n",
       "      <th>2014-01-06</th>\n",
       "      <td>77.704285</td>\n",
       "      <td>57.200001</td>\n",
       "      <td>555.049927</td>\n",
       "      <td>51.367142</td>\n",
       "    </tr>\n",
       "    <tr>\n",
       "      <th>2014-01-07</th>\n",
       "      <td>77.148575</td>\n",
       "      <td>57.919998</td>\n",
       "      <td>565.750366</td>\n",
       "      <td>48.500000</td>\n",
       "    </tr>\n",
       "  </tbody>\n",
       "</table>\n",
       "</div>"
      ],
      "text/plain": [
       "Symbols          AAPL         FB        GOOG       NFLX\n",
       "Date                                                   \n",
       "2013-12-31  80.145714  54.650002  556.734009  52.595715\n",
       "2014-01-02  79.018570  54.709999  552.963501  51.831429\n",
       "2014-01-03  77.282860  54.560001  548.929749  51.871429\n",
       "2014-01-06  77.704285  57.200001  555.049927  51.367142\n",
       "2014-01-07  77.148575  57.919998  565.750366  48.500000"
      ]
     },
     "execution_count": 10,
     "metadata": {},
     "output_type": "execute_result"
    }
   ],
   "source": [
    "from pandas_datareader import DataReader\n",
    "df = DataReader(['FB','AAPL', 'NFLX', 'GOOG'], data_source='yahoo',start='2014-01-01')['Close']\n",
    "df.head()\n"
   ]
  },
  {
   "cell_type": "code",
   "execution_count": 11,
   "metadata": {},
   "outputs": [
    {
     "name": "stdout",
     "output_type": "stream",
     "text": [
      "Populating the interactive namespace from numpy and matplotlib\n"
     ]
    },
    {
     "data": {
      "text/plain": [
       "<matplotlib.axes._subplots.AxesSubplot at 0x60cefd0>"
      ]
     },
     "execution_count": 11,
     "metadata": {},
     "output_type": "execute_result"
    },
    {
     "data": {
      "image/png": "[encoded data removed]",
      "text/plain": [
       "<Figure size 432x288 with 1 Axes>"
      ]
     },
     "metadata": {
      "needs_background": "light"
     },
     "output_type": "display_data"
    }
   ],
   "source": [
    "%pylab inline\n",
    "df.plot(kind='line')"
   ]
  },
  {
   "cell_type": "code",
   "execution_count": 12,
   "metadata": {},
   "outputs": [],
   "source": [
    "rets = df.pct_change(1)"
   ]
  },
  {
   "cell_type": "code",
   "execution_count": 13,
   "metadata": {},
   "outputs": [
    {
     "data": {
      "text/html": [
       "<div>\n",
       "<style scoped>\n",
       "    .dataframe tbody tr th:only-of-type {\n",
       "        vertical-align: middle;\n",
       "    }\n",
       "\n",
       "    .dataframe tbody tr th {\n",
       "        vertical-align: top;\n",
       "    }\n",
       "\n",
       "    .dataframe thead th {\n",
       "        text-align: right;\n",
       "    }\n",
       "</style>\n",
       "<table border=\"1\" class=\"dataframe\">\n",
       "  <thead>\n",
       "    <tr style=\"text-align: right;\">\n",
       "      <th>Symbols</th>\n",
       "      <th>AAPL</th>\n",
       "      <th>FB</th>\n",
       "      <th>GOOG</th>\n",
       "      <th>NFLX</th>\n",
       "    </tr>\n",
       "    <tr>\n",
       "      <th>Date</th>\n",
       "      <th></th>\n",
       "      <th></th>\n",
       "      <th></th>\n",
       "      <th></th>\n",
       "    </tr>\n",
       "  </thead>\n",
       "  <tbody>\n",
       "    <tr>\n",
       "      <th>2013-12-31</th>\n",
       "      <td>NaN</td>\n",
       "      <td>NaN</td>\n",
       "      <td>NaN</td>\n",
       "      <td>NaN</td>\n",
       "    </tr>\n",
       "    <tr>\n",
       "      <th>2014-01-02</th>\n",
       "      <td>-0.014064</td>\n",
       "      <td>0.001098</td>\n",
       "      <td>-0.006773</td>\n",
       "      <td>-0.014531</td>\n",
       "    </tr>\n",
       "    <tr>\n",
       "      <th>2014-01-03</th>\n",
       "      <td>-0.021966</td>\n",
       "      <td>-0.002742</td>\n",
       "      <td>-0.007295</td>\n",
       "      <td>0.000772</td>\n",
       "    </tr>\n",
       "    <tr>\n",
       "      <th>2014-01-06</th>\n",
       "      <td>0.005453</td>\n",
       "      <td>0.048387</td>\n",
       "      <td>0.011149</td>\n",
       "      <td>-0.009722</td>\n",
       "    </tr>\n",
       "    <tr>\n",
       "      <th>2014-01-07</th>\n",
       "      <td>-0.007152</td>\n",
       "      <td>0.012587</td>\n",
       "      <td>0.019278</td>\n",
       "      <td>-0.055817</td>\n",
       "    </tr>\n",
       "  </tbody>\n",
       "</table>\n",
       "</div>"
      ],
      "text/plain": [
       "Symbols         AAPL        FB      GOOG      NFLX\n",
       "Date                                              \n",
       "2013-12-31       NaN       NaN       NaN       NaN\n",
       "2014-01-02 -0.014064  0.001098 -0.006773 -0.014531\n",
       "2014-01-03 -0.021966 -0.002742 -0.007295  0.000772\n",
       "2014-01-06  0.005453  0.048387  0.011149 -0.009722\n",
       "2014-01-07 -0.007152  0.012587  0.019278 -0.055817"
      ]
     },
     "execution_count": 13,
     "metadata": {},
     "output_type": "execute_result"
    }
   ],
   "source": [
    "rets.head()"
   ]
  },
  {
   "cell_type": "code",
   "execution_count": 14,
   "metadata": {},
   "outputs": [
    {
     "data": {
      "text/plain": [
       "<matplotlib.axes._subplots.AxesSubplot at 0xf28a710>"
      ]
     },
     "execution_count": 14,
     "metadata": {},
     "output_type": "execute_result"
    },
    {
     "data": {
      "image/png": "[encoded data removed]",
      "text/plain": [
       "<Figure size 432x288 with 1 Axes>"
      ]
     },
     "metadata": {
      "needs_background": "light"
     },
     "output_type": "display_data"
    }
   ],
   "source": [
    "rets.plot(kind='scatter', x='AAPL', y= 'NFLX')\n"
   ]
  },
  {
   "cell_type": "code",
   "execution_count": 16,
   "metadata": {},
   "outputs": [
    {
     "data": {
      "text/plain": [
       "<matplotlib.axes._subplots.AxesSubplot at 0xf3f9fd0>"
      ]
     },
     "execution_count": 16,
     "metadata": {},
     "output_type": "execute_result"
    },
    {
     "data": {
      "image/png": "[encoded data removed]",
      "text/plain": [
       "<Figure size 432x288 with 1 Axes>"
      ]
     },
     "metadata": {
      "needs_background": "light"
     },
     "output_type": "display_data"
    }
   ],
   "source": [
    "rets.plot(kind='scatter', x='FB', y= 'GOOG')\n"
   ]
  },
  {
   "cell_type": "code",
   "execution_count": 18,
   "metadata": {},
   "outputs": [],
   "source": [
    "#rets.iplot(kind='scatter', x='FB', y= 'GOOG')\n"
   ]
  },
  {
   "cell_type": "code",
   "execution_count": 15,
   "metadata": {},
   "outputs": [
    {
     "data": {
      "text/html": [
       "<div>\n",
       "<style scoped>\n",
       "    .dataframe tbody tr th:only-of-type {\n",
       "        vertical-align: middle;\n",
       "    }\n",
       "\n",
       "    .dataframe tbody tr th {\n",
       "        vertical-align: top;\n",
       "    }\n",
       "\n",
       "    .dataframe thead th {\n",
       "        text-align: right;\n",
       "    }\n",
       "</style>\n",
       "<table border=\"1\" class=\"dataframe\">\n",
       "  <thead>\n",
       "    <tr style=\"text-align: right;\">\n",
       "      <th>Symbols</th>\n",
       "      <th>AAPL</th>\n",
       "      <th>FB</th>\n",
       "      <th>GOOG</th>\n",
       "      <th>NFLX</th>\n",
       "    </tr>\n",
       "    <tr>\n",
       "      <th>Symbols</th>\n",
       "      <th></th>\n",
       "      <th></th>\n",
       "      <th></th>\n",
       "      <th></th>\n",
       "    </tr>\n",
       "  </thead>\n",
       "  <tbody>\n",
       "    <tr>\n",
       "      <th>AAPL</th>\n",
       "      <td>1.000000</td>\n",
       "      <td>0.408852</td>\n",
       "      <td>0.480539</td>\n",
       "      <td>0.337055</td>\n",
       "    </tr>\n",
       "    <tr>\n",
       "      <th>FB</th>\n",
       "      <td>0.408852</td>\n",
       "      <td>1.000000</td>\n",
       "      <td>0.601746</td>\n",
       "      <td>0.392623</td>\n",
       "    </tr>\n",
       "    <tr>\n",
       "      <th>GOOG</th>\n",
       "      <td>0.480539</td>\n",
       "      <td>0.601746</td>\n",
       "      <td>1.000000</td>\n",
       "      <td>0.461467</td>\n",
       "    </tr>\n",
       "    <tr>\n",
       "      <th>NFLX</th>\n",
       "      <td>0.337055</td>\n",
       "      <td>0.392623</td>\n",
       "      <td>0.461467</td>\n",
       "      <td>1.000000</td>\n",
       "    </tr>\n",
       "  </tbody>\n",
       "</table>\n",
       "</div>"
      ],
      "text/plain": [
       "Symbols      AAPL        FB      GOOG      NFLX\n",
       "Symbols                                        \n",
       "AAPL     1.000000  0.408852  0.480539  0.337055\n",
       "FB       0.408852  1.000000  0.601746  0.392623\n",
       "GOOG     0.480539  0.601746  1.000000  0.461467\n",
       "NFLX     0.337055  0.392623  0.461467  1.000000"
      ]
     },
     "execution_count": 15,
     "metadata": {},
     "output_type": "execute_result"
    }
   ],
   "source": [
    "rets.corr()"
   ]
  },
  {
   "cell_type": "code",
   "execution_count": 19,
   "metadata": {},
   "outputs": [
    {
     "data": {
      "text/plain": [
       "([<matplotlib.axis.YTick at 0xfbbd048>,\n",
       "  <matplotlib.axis.YTick at 0xfbc4940>,\n",
       "  <matplotlib.axis.YTick at 0xfba39e8>,\n",
       "  <matplotlib.axis.YTick at 0xfc18a58>],\n",
       " <a list of 4 Text yticklabel objects>)"
      ]
     },
     "execution_count": 19,
     "metadata": {},
     "output_type": "execute_result"
    },
    {
     "data": {
      "image/png": "[encoded data removed]",
      "text/plain": [
       "<Figure size 432x288 with 2 Axes>"
      ]
     },
     "metadata": {
      "needs_background": "light"
     },
     "output_type": "display_data"
    }
   ],
   "source": [
    "corr = rets.corr()\n",
    "plt.imshow(corr, cmap='hot', interpolation='none')\n",
    "plt.colorbar()\n",
    "plt.xticks(range(len(corr)), corr.columns)\n",
    "plt.yticks(range(len(corr)), corr.columns)\n"
   ]
  },
  {
   "cell_type": "code",
   "execution_count": 23,
   "metadata": {},
   "outputs": [
    {
     "data": {
      "image/png": "[encoded data removed]",
      "text/plain": [
       "<Figure size 576x576 with 1 Axes>"
      ]
     },
     "metadata": {
      "needs_background": "light"
     },
     "output_type": "display_data"
    }
   ],
   "source": [
    "rets = df.pct_change(1)\n",
    "plt.figure(figsize=(8,8))\n",
    "plt.scatter(rets.mean(), rets.std())\n",
    "plt.xlabel('Expected returns')\n",
    "plt.ylabel('Risk')\n",
    "\n",
    "for label, x, y in zip(rets.columns, rets.mean(), rets.std()):\n",
    "    plt.annotate(\n",
    "        label, \n",
    "        xy = (x, y), xytext = (20, -20),\n",
    "        textcoords = 'offset points', ha = 'right', va = 'bottom',\n",
    "        bbox = dict(boxstyle = 'round,pad=0.5', fc = 'yellow', alpha = 0.5),\n",
    "        arrowprops = dict(arrowstyle = '->', connectionstyle = 'arc3,rad=0'))"
   ]
  },
  {
   "cell_type": "code",
   "execution_count": 24,
   "metadata": {},
   "outputs": [],
   "source": [
    "from pandas_datareader import DataReader\n",
    "df = DataReader(['^TWII','2330.TW', '2498.TW', '2317.TW', '2454.TW', '9943.TW'], 'yahoo', start='2010-01-01')['Close']\n"
   ]
  },
  {
   "cell_type": "code",
   "execution_count": 25,
   "metadata": {},
   "outputs": [
    {
     "data": {
      "image/png": "[encoded data removed]",
      "text/plain": [
       "<Figure size 576x576 with 1 Axes>"
      ]
     },
     "metadata": {
      "needs_background": "light"
     },
     "output_type": "display_data"
    }
   ],
   "source": [
    "rets = df.pct_change(1)\n",
    "plt.figure(figsize=(8,8))\n",
    "plt.scatter(rets.mean(), rets.std())\n",
    "plt.xlabel('Expected returns')\n",
    "plt.ylabel('Risk')\n",
    "\n",
    "for label, x, y in zip(rets.columns, rets.mean(), rets.std()):\n",
    "    plt.annotate(\n",
    "        label, \n",
    "        xy = (x, y), xytext = (20, -20),\n",
    "        textcoords = 'offset points', ha = 'right', va = 'bottom',\n",
    "        bbox = dict(boxstyle = 'round,pad=0.5', fc = 'yellow', alpha = 0.5),\n",
    "        arrowprops = dict(arrowstyle = '->', connectionstyle = 'arc3,rad=0'))"
   ]
  },
  {
   "cell_type": "markdown",
   "metadata": {},
   "source": [
    "## 儀表板\n",
    "- Plotly + Dash\n"
   ]
  },
  {
   "cell_type": "code",
   "execution_count": 27,
   "metadata": {},
   "outputs": [],
   "source": [
    "import requests\n",
    "res = requests.get('https://goodinfo.tw/StockInfo/StockCashFlow.asp?STOCK_ID=2330')\n"
   ]
  },
  {
   "cell_type": "code",
   "execution_count": 29,
   "metadata": {},
   "outputs": [
    {
     "data": {
      "text/plain": [
       "'ISO-8859-1'"
      ]
     },
     "execution_count": 29,
     "metadata": {},
     "output_type": "execute_result"
    }
   ],
   "source": [
    "res.encoding"
   ]
  },
  {
   "cell_type": "code",
   "execution_count": 30,
   "metadata": {},
   "outputs": [],
   "source": [
    "res.encoding='utf-8'"
   ]
  },
  {
   "cell_type": "code",
   "execution_count": 31,
   "metadata": {},
   "outputs": [
    {
     "data": {
      "text/plain": [
       "'<meta http-equiv=\"Content-Type\" content=\"text/html; charset=utf-8\">請勿透過網站內容下載軟體查詢本網站'"
      ]
     },
     "execution_count": 31,
     "metadata": {},
     "output_type": "execute_result"
    }
   ],
   "source": [
    "res.text"
   ]
  },
  {
   "cell_type": "code",
   "execution_count": 34,
   "metadata": {},
   "outputs": [],
   "source": [
    "import requests\n",
    "headers = {\n",
    " 'user-agent': 'Mozilla/5.0 (Windows NT 6.1; Win64; x64) AppleWebKit/537.36 (KHTML, like Gecko) Chrome/75.0.3770.100 Safari/537.36'   \n",
    "}\n",
    "\n",
    "res = requests.get('https://goodinfo.tw/StockInfo/StockCashFlow.asp?STOCK_ID=2330', headers = headers)\n",
    "res.encoding = 'utf-8'"
   ]
  },
  {
   "cell_type": "code",
   "execution_count": 37,
   "metadata": {},
   "outputs": [],
   "source": [
    "import pandas\n",
    "dfs = pandas.read_html(res.text)"
   ]
  },
  {
   "cell_type": "code",
   "execution_count": 46,
   "metadata": {},
   "outputs": [
    {
     "data": {
      "text/plain": [
       "14"
      ]
     },
     "execution_count": 46,
     "metadata": {},
     "output_type": "execute_result"
    }
   ],
   "source": [
    "len(dfs)"
   ]
  },
  {
   "cell_type": "code",
   "execution_count": 52,
   "metadata": {},
   "outputs": [],
   "source": [
    "df = dfs[12]"
   ]
  },
  {
   "cell_type": "code",
   "execution_count": 54,
   "metadata": {},
   "outputs": [],
   "source": [
    "df.columns = ['上期收盤', '其他活動', '平均股本(億)', '年度', '投資活動', '期初餘額', '期末餘額', '本期收盤', '淨現金流', '漲跌(%)', '漲跌(元)', '營業活動', '現金流量(%)', '稅前淨利', '稅後EPS(元)', '稅後淨利', '自由金流', '融資活動', '財報評分']"
   ]
  },
  {
   "cell_type": "code",
   "execution_count": 55,
   "metadata": {},
   "outputs": [
    {
     "data": {
      "text/html": [
       "<div>\n",
       "<style scoped>\n",
       "    .dataframe tbody tr th:only-of-type {\n",
       "        vertical-align: middle;\n",
       "    }\n",
       "\n",
       "    .dataframe tbody tr th {\n",
       "        vertical-align: top;\n",
       "    }\n",
       "\n",
       "    .dataframe thead th {\n",
       "        text-align: right;\n",
       "    }\n",
       "</style>\n",
       "<table border=\"1\" class=\"dataframe\">\n",
       "  <thead>\n",
       "    <tr style=\"text-align: right;\">\n",
       "      <th></th>\n",
       "      <th>上期收盤</th>\n",
       "      <th>其他活動</th>\n",
       "      <th>平均股本(億)</th>\n",
       "      <th>年度</th>\n",
       "      <th>投資活動</th>\n",
       "      <th>期初餘額</th>\n",
       "      <th>期末餘額</th>\n",
       "      <th>本期收盤</th>\n",
       "      <th>淨現金流</th>\n",
       "      <th>漲跌(%)</th>\n",
       "      <th>漲跌(元)</th>\n",
       "      <th>營業活動</th>\n",
       "      <th>現金流量(%)</th>\n",
       "      <th>稅前淨利</th>\n",
       "      <th>稅後EPS(元)</th>\n",
       "      <th>稅後淨利</th>\n",
       "      <th>自由金流</th>\n",
       "      <th>融資活動</th>\n",
       "      <th>財報評分</th>\n",
       "    </tr>\n",
       "  </thead>\n",
       "  <tbody>\n",
       "    <tr>\n",
       "      <th>0</th>\n",
       "      <td>19Q1</td>\n",
       "      <td>2593.0</td>\n",
       "      <td>89</td>\n",
       "      <td>225.5</td>\n",
       "      <td>239.0</td>\n",
       "      <td>13.5</td>\n",
       "      <td>6.0</td>\n",
       "      <td>682.0</td>\n",
       "      <td>614.0</td>\n",
       "      <td>1527.0</td>\n",
       "      <td>-642.0</td>\n",
       "      <td>-224.00</td>\n",
       "      <td>17.9</td>\n",
       "      <td>679.00</td>\n",
       "      <td>885.0</td>\n",
       "      <td>5778.0</td>\n",
       "      <td>6457.0</td>\n",
       "      <td>161</td>\n",
       "      <td>2.37</td>\n",
       "    </tr>\n",
       "    <tr>\n",
       "      <th>1</th>\n",
       "      <td>2018</td>\n",
       "      <td>2593.0</td>\n",
       "      <td>94</td>\n",
       "      <td>229.5</td>\n",
       "      <td>225.5</td>\n",
       "      <td>-4.0</td>\n",
       "      <td>-1.7</td>\n",
       "      <td>3975.0</td>\n",
       "      <td>3511.0</td>\n",
       "      <td>5740.0</td>\n",
       "      <td>-3143.0</td>\n",
       "      <td>-2451.00</td>\n",
       "      <td>98.6</td>\n",
       "      <td>244.00</td>\n",
       "      <td>2597.0</td>\n",
       "      <td>5534.0</td>\n",
       "      <td>5778.0</td>\n",
       "      <td>169</td>\n",
       "      <td>13.54</td>\n",
       "    </tr>\n",
       "    <tr>\n",
       "      <th>2</th>\n",
       "      <td>2017</td>\n",
       "      <td>2593.0</td>\n",
       "      <td>91</td>\n",
       "      <td>181.5</td>\n",
       "      <td>229.5</td>\n",
       "      <td>48.0</td>\n",
       "      <td>26.4</td>\n",
       "      <td>3961.0</td>\n",
       "      <td>3431.0</td>\n",
       "      <td>5853.0</td>\n",
       "      <td>-3362.0</td>\n",
       "      <td>-2157.00</td>\n",
       "      <td>-213.0</td>\n",
       "      <td>121.00</td>\n",
       "      <td>2492.0</td>\n",
       "      <td>5413.0</td>\n",
       "      <td>5534.0</td>\n",
       "      <td>163</td>\n",
       "      <td>13.23</td>\n",
       "    </tr>\n",
       "    <tr>\n",
       "      <th>3</th>\n",
       "      <td>2016</td>\n",
       "      <td>2593.0</td>\n",
       "      <td>91</td>\n",
       "      <td>143.0</td>\n",
       "      <td>181.5</td>\n",
       "      <td>38.5</td>\n",
       "      <td>26.9</td>\n",
       "      <td>3860.0</td>\n",
       "      <td>3342.0</td>\n",
       "      <td>5398.0</td>\n",
       "      <td>-3954.0</td>\n",
       "      <td>-1578.00</td>\n",
       "      <td>-80.3</td>\n",
       "      <td>-214.00</td>\n",
       "      <td>1444.0</td>\n",
       "      <td>5627.0</td>\n",
       "      <td>5413.0</td>\n",
       "      <td>170</td>\n",
       "      <td>12.89</td>\n",
       "    </tr>\n",
       "    <tr>\n",
       "      <th>4</th>\n",
       "      <td>2015</td>\n",
       "      <td>2594.0</td>\n",
       "      <td>94</td>\n",
       "      <td>141.0</td>\n",
       "      <td>143.0</td>\n",
       "      <td>2.0</td>\n",
       "      <td>1.4</td>\n",
       "      <td>3504.0</td>\n",
       "      <td>3066.0</td>\n",
       "      <td>5299.0</td>\n",
       "      <td>-2172.0</td>\n",
       "      <td>-1167.00</td>\n",
       "      <td>82.6</td>\n",
       "      <td>2042.00</td>\n",
       "      <td>3126.0</td>\n",
       "      <td>3584.0</td>\n",
       "      <td>5626.0</td>\n",
       "      <td>250</td>\n",
       "      <td>11.82</td>\n",
       "    </tr>\n",
       "    <tr>\n",
       "      <th>5</th>\n",
       "      <td>2014</td>\n",
       "      <td>2592.0</td>\n",
       "      <td>91</td>\n",
       "      <td>105.5</td>\n",
       "      <td>141.0</td>\n",
       "      <td>35.5</td>\n",
       "      <td>33.6</td>\n",
       "      <td>3021.0</td>\n",
       "      <td>2639.0</td>\n",
       "      <td>4215.0</td>\n",
       "      <td>-2824.0</td>\n",
       "      <td>-323.00</td>\n",
       "      <td>90.6</td>\n",
       "      <td>1158.00</td>\n",
       "      <td>1391.0</td>\n",
       "      <td>2427.0</td>\n",
       "      <td>3585.0</td>\n",
       "      <td>210</td>\n",
       "      <td>10.18</td>\n",
       "    </tr>\n",
       "    <tr>\n",
       "      <th>6</th>\n",
       "      <td>2013</td>\n",
       "      <td>2592.0</td>\n",
       "      <td>89</td>\n",
       "      <td>97.0</td>\n",
       "      <td>105.5</td>\n",
       "      <td>8.5</td>\n",
       "      <td>8.8</td>\n",
       "      <td>2155.0</td>\n",
       "      <td>1881.0</td>\n",
       "      <td>3474.0</td>\n",
       "      <td>-2811.0</td>\n",
       "      <td>321.00</td>\n",
       "      <td>8.5</td>\n",
       "      <td>993.00</td>\n",
       "      <td>663.0</td>\n",
       "      <td>1434.0</td>\n",
       "      <td>2427.0</td>\n",
       "      <td>183</td>\n",
       "      <td>7.26</td>\n",
       "    </tr>\n",
       "    <tr>\n",
       "      <th>7</th>\n",
       "      <td>2012</td>\n",
       "      <td>2592.0</td>\n",
       "      <td>94</td>\n",
       "      <td>75.8</td>\n",
       "      <td>97.0</td>\n",
       "      <td>21.2</td>\n",
       "      <td>28.0</td>\n",
       "      <td>1816.0</td>\n",
       "      <td>1662.0</td>\n",
       "      <td>2891.0</td>\n",
       "      <td>-2732.0</td>\n",
       "      <td>-138.00</td>\n",
       "      <td>-21.2</td>\n",
       "      <td>-0.62</td>\n",
       "      <td>159.0</td>\n",
       "      <td>1435.0</td>\n",
       "      <td>1434.0</td>\n",
       "      <td>203</td>\n",
       "      <td>6.41</td>\n",
       "    </tr>\n",
       "    <tr>\n",
       "      <th>8</th>\n",
       "      <td>2011</td>\n",
       "      <td>2591.0</td>\n",
       "      <td>94</td>\n",
       "      <td>71.0</td>\n",
       "      <td>75.8</td>\n",
       "      <td>4.8</td>\n",
       "      <td>6.8</td>\n",
       "      <td>1451.0</td>\n",
       "      <td>1342.0</td>\n",
       "      <td>2476.0</td>\n",
       "      <td>-1825.0</td>\n",
       "      <td>-679.00</td>\n",
       "      <td>-16.2</td>\n",
       "      <td>-44.10</td>\n",
       "      <td>651.0</td>\n",
       "      <td>1479.0</td>\n",
       "      <td>1435.0</td>\n",
       "      <td>212</td>\n",
       "      <td>5.18</td>\n",
       "    </tr>\n",
       "    <tr>\n",
       "      <th>9</th>\n",
       "      <td>2010</td>\n",
       "      <td>2590.0</td>\n",
       "      <td>96</td>\n",
       "      <td>64.5</td>\n",
       "      <td>71.0</td>\n",
       "      <td>6.5</td>\n",
       "      <td>10.1</td>\n",
       "      <td>1703.0</td>\n",
       "      <td>1616.0</td>\n",
       "      <td>2295.0</td>\n",
       "      <td>-2021.0</td>\n",
       "      <td>-486.00</td>\n",
       "      <td>-21.4</td>\n",
       "      <td>-234.00</td>\n",
       "      <td>274.0</td>\n",
       "      <td>1713.0</td>\n",
       "      <td>1479.0</td>\n",
       "      <td>186</td>\n",
       "      <td>6.24</td>\n",
       "    </tr>\n",
       "    <tr>\n",
       "      <th>10</th>\n",
       "      <td>2009</td>\n",
       "      <td>2586.0</td>\n",
       "      <td>91</td>\n",
       "      <td>44.4</td>\n",
       "      <td>64.5</td>\n",
       "      <td>20.1</td>\n",
       "      <td>45.3</td>\n",
       "      <td>955.0</td>\n",
       "      <td>892.0</td>\n",
       "      <td>1600.0</td>\n",
       "      <td>-965.0</td>\n",
       "      <td>-855.00</td>\n",
       "      <td>0.0</td>\n",
       "      <td>-220.00</td>\n",
       "      <td>635.0</td>\n",
       "      <td>1932.0</td>\n",
       "      <td>1713.0</td>\n",
       "      <td>202</td>\n",
       "      <td>3.45</td>\n",
       "    </tr>\n",
       "    <tr>\n",
       "      <th>11</th>\n",
       "      <td>2008</td>\n",
       "      <td>2589.0</td>\n",
       "      <td>94</td>\n",
       "      <td>62.0</td>\n",
       "      <td>44.4</td>\n",
       "      <td>-17.6</td>\n",
       "      <td>-28.4</td>\n",
       "      <td>1115.0</td>\n",
       "      <td>999.0</td>\n",
       "      <td>2215.0</td>\n",
       "      <td>-80.4</td>\n",
       "      <td>-1154.00</td>\n",
       "      <td>0.0</td>\n",
       "      <td>981.00</td>\n",
       "      <td>2135.0</td>\n",
       "      <td>966.0</td>\n",
       "      <td>1946.0</td>\n",
       "      <td>390</td>\n",
       "      <td>3.86</td>\n",
       "    </tr>\n",
       "    <tr>\n",
       "      <th>12</th>\n",
       "      <td>2007</td>\n",
       "      <td>2637.0</td>\n",
       "      <td>94</td>\n",
       "      <td>67.5</td>\n",
       "      <td>62.0</td>\n",
       "      <td>-5.5</td>\n",
       "      <td>-8.1</td>\n",
       "      <td>1216.0</td>\n",
       "      <td>1092.0</td>\n",
       "      <td>1838.0</td>\n",
       "      <td>-707.0</td>\n",
       "      <td>-1354.00</td>\n",
       "      <td>0.0</td>\n",
       "      <td>-223.00</td>\n",
       "      <td>1131.0</td>\n",
       "      <td>1173.0</td>\n",
       "      <td>950.0</td>\n",
       "      <td>377</td>\n",
       "      <td>4.14</td>\n",
       "    </tr>\n",
       "    <tr>\n",
       "      <th>13</th>\n",
       "      <td>2006</td>\n",
       "      <td>2576.0</td>\n",
       "      <td>96</td>\n",
       "      <td>62.5</td>\n",
       "      <td>67.5</td>\n",
       "      <td>5.0</td>\n",
       "      <td>8.0</td>\n",
       "      <td>1334.0</td>\n",
       "      <td>1270.0</td>\n",
       "      <td>2050.0</td>\n",
       "      <td>-1197.0</td>\n",
       "      <td>-638.00</td>\n",
       "      <td>0.0</td>\n",
       "      <td>215.00</td>\n",
       "      <td>853.0</td>\n",
       "      <td>963.0</td>\n",
       "      <td>1178.0</td>\n",
       "      <td>437</td>\n",
       "      <td>4.93</td>\n",
       "    </tr>\n",
       "    <tr>\n",
       "      <th>14</th>\n",
       "      <td>2005</td>\n",
       "      <td>2469.0</td>\n",
       "      <td>94</td>\n",
       "      <td>50.5</td>\n",
       "      <td>62.5</td>\n",
       "      <td>12.0</td>\n",
       "      <td>23.8</td>\n",
       "      <td>943.0</td>\n",
       "      <td>936.0</td>\n",
       "      <td>1570.0</td>\n",
       "      <td>-774.0</td>\n",
       "      <td>-580.00</td>\n",
       "      <td>0.0</td>\n",
       "      <td>216.00</td>\n",
       "      <td>796.0</td>\n",
       "      <td>749.0</td>\n",
       "      <td>965.0</td>\n",
       "      <td>447</td>\n",
       "      <td>3.79</td>\n",
       "    </tr>\n",
       "    <tr>\n",
       "      <th>15</th>\n",
       "      <td>2004</td>\n",
       "      <td>2325.0</td>\n",
       "      <td>89</td>\n",
       "      <td>63.5</td>\n",
       "      <td>50.5</td>\n",
       "      <td>-13.0</td>\n",
       "      <td>-20.5</td>\n",
       "      <td>920.0</td>\n",
       "      <td>923.0</td>\n",
       "      <td>1532.0</td>\n",
       "      <td>-1480.0</td>\n",
       "      <td>-322.00</td>\n",
       "      <td>0.0</td>\n",
       "      <td>-270.00</td>\n",
       "      <td>51.4</td>\n",
       "      <td>1013.0</td>\n",
       "      <td>743.0</td>\n",
       "      <td>240</td>\n",
       "      <td>3.97</td>\n",
       "    </tr>\n",
       "    <tr>\n",
       "      <th>16</th>\n",
       "      <td>2003</td>\n",
       "      <td>2028.0</td>\n",
       "      <td>79</td>\n",
       "      <td>42.6</td>\n",
       "      <td>63.5</td>\n",
       "      <td>20.9</td>\n",
       "      <td>49.1</td>\n",
       "      <td>512.0</td>\n",
       "      <td>473.0</td>\n",
       "      <td>1160.0</td>\n",
       "      <td>-534.0</td>\n",
       "      <td>-274.00</td>\n",
       "      <td>0.0</td>\n",
       "      <td>353.00</td>\n",
       "      <td>626.0</td>\n",
       "      <td>677.0</td>\n",
       "      <td>1030.0</td>\n",
       "      <td>373</td>\n",
       "      <td>2.33</td>\n",
       "    </tr>\n",
       "    <tr>\n",
       "      <th>17</th>\n",
       "      <td>2002</td>\n",
       "      <td>1896.0</td>\n",
       "      <td>66</td>\n",
       "      <td>87.5</td>\n",
       "      <td>42.6</td>\n",
       "      <td>-44.9</td>\n",
       "      <td>-51.3</td>\n",
       "      <td>272.0</td>\n",
       "      <td>216.0</td>\n",
       "      <td>985.0</td>\n",
       "      <td>-622.0</td>\n",
       "      <td>-63.50</td>\n",
       "      <td>0.0</td>\n",
       "      <td>300.00</td>\n",
       "      <td>363.0</td>\n",
       "      <td>378.0</td>\n",
       "      <td>678.0</td>\n",
       "      <td>244</td>\n",
       "      <td>1.14</td>\n",
       "    </tr>\n",
       "    <tr>\n",
       "      <th>18</th>\n",
       "      <td>2001</td>\n",
       "      <td>1745.0</td>\n",
       "      <td>60</td>\n",
       "      <td>78.5</td>\n",
       "      <td>87.5</td>\n",
       "      <td>9.0</td>\n",
       "      <td>11.5</td>\n",
       "      <td>108.0</td>\n",
       "      <td>145.0</td>\n",
       "      <td>758.0</td>\n",
       "      <td>-772.0</td>\n",
       "      <td>8.97</td>\n",
       "      <td>0.0</td>\n",
       "      <td>-5.17</td>\n",
       "      <td>-14.1</td>\n",
       "      <td>381.0</td>\n",
       "      <td>376.0</td>\n",
       "      <td>227</td>\n",
       "      <td>0.83</td>\n",
       "    </tr>\n",
       "    <tr>\n",
       "      <th>19</th>\n",
       "      <td>2000</td>\n",
       "      <td>1140.0</td>\n",
       "      <td>91</td>\n",
       "      <td>167.0</td>\n",
       "      <td>78.5</td>\n",
       "      <td>-88.5</td>\n",
       "      <td>-53.0</td>\n",
       "      <td>639.0</td>\n",
       "      <td>651.0</td>\n",
       "      <td>934.0</td>\n",
       "      <td>-1196.0</td>\n",
       "      <td>354.00</td>\n",
       "      <td>0.0</td>\n",
       "      <td>92.00</td>\n",
       "      <td>-262.0</td>\n",
       "      <td>296.0</td>\n",
       "      <td>388.0</td>\n",
       "      <td>197</td>\n",
       "      <td>5.71</td>\n",
       "    </tr>\n",
       "    <tr>\n",
       "      <th>20</th>\n",
       "      <td>1999</td>\n",
       "      <td>758.0</td>\n",
       "      <td>83</td>\n",
       "      <td>71.0</td>\n",
       "      <td>167.0</td>\n",
       "      <td>96.0</td>\n",
       "      <td>135.2</td>\n",
       "      <td>237.0</td>\n",
       "      <td>246.0</td>\n",
       "      <td>407.0</td>\n",
       "      <td>-450.0</td>\n",
       "      <td>125.00</td>\n",
       "      <td>0.0</td>\n",
       "      <td>81.40</td>\n",
       "      <td>-43.2</td>\n",
       "      <td>95.1</td>\n",
       "      <td>176.0</td>\n",
       "      <td>250</td>\n",
       "      <td>3.24</td>\n",
       "    </tr>\n",
       "    <tr>\n",
       "      <th>21</th>\n",
       "      <td>1998</td>\n",
       "      <td>604.0</td>\n",
       "      <td>72</td>\n",
       "      <td>112.0</td>\n",
       "      <td>71.0</td>\n",
       "      <td>-41.0</td>\n",
       "      <td>-36.6</td>\n",
       "      <td>127.0</td>\n",
       "      <td>153.0</td>\n",
       "      <td>320.0</td>\n",
       "      <td>-423.0</td>\n",
       "      <td>77.70</td>\n",
       "      <td>0.0</td>\n",
       "      <td>-24.80</td>\n",
       "      <td>-103.0</td>\n",
       "      <td>122.0</td>\n",
       "      <td>96.8</td>\n",
       "      <td>365</td>\n",
       "      <td>2.54</td>\n",
       "    </tr>\n",
       "    <tr>\n",
       "      <th>22</th>\n",
       "      <td>1997</td>\n",
       "      <td>408.0</td>\n",
       "      <td>83</td>\n",
       "      <td>56.5</td>\n",
       "      <td>112.0</td>\n",
       "      <td>55.5</td>\n",
       "      <td>98.2</td>\n",
       "      <td>153.0</td>\n",
       "      <td>180.0</td>\n",
       "      <td>246.0</td>\n",
       "      <td>-445.0</td>\n",
       "      <td>134.00</td>\n",
       "      <td>0.0</td>\n",
       "      <td>-65.20</td>\n",
       "      <td>-199.0</td>\n",
       "      <td>193.0</td>\n",
       "      <td>128.0</td>\n",
       "      <td>161</td>\n",
       "      <td>4.40</td>\n",
       "    </tr>\n",
       "    <tr>\n",
       "      <th>23</th>\n",
       "      <td>1996</td>\n",
       "      <td>265.0</td>\n",
       "      <td>94</td>\n",
       "      <td>85.0</td>\n",
       "      <td>56.5</td>\n",
       "      <td>-28.5</td>\n",
       "      <td>-33.5</td>\n",
       "      <td>190.0</td>\n",
       "      <td>194.0</td>\n",
       "      <td>299.0</td>\n",
       "      <td>-250.0</td>\n",
       "      <td>50.00</td>\n",
       "      <td>0.0</td>\n",
       "      <td>99.90</td>\n",
       "      <td>49.9</td>\n",
       "      <td>87.0</td>\n",
       "      <td>187.0</td>\n",
       "      <td>537</td>\n",
       "      <td>7.31</td>\n",
       "    </tr>\n",
       "    <tr>\n",
       "      <th>24</th>\n",
       "      <td>1995</td>\n",
       "      <td>NaN</td>\n",
       "      <td>-</td>\n",
       "      <td>157.0</td>\n",
       "      <td>85.0</td>\n",
       "      <td>-72.0</td>\n",
       "      <td>-45.9</td>\n",
       "      <td>NaN</td>\n",
       "      <td>NaN</td>\n",
       "      <td>NaN</td>\n",
       "      <td>NaN</td>\n",
       "      <td>NaN</td>\n",
       "      <td>NaN</td>\n",
       "      <td>NaN</td>\n",
       "      <td>NaN</td>\n",
       "      <td>NaN</td>\n",
       "      <td>NaN</td>\n",
       "      <td>-</td>\n",
       "      <td>NaN</td>\n",
       "    </tr>\n",
       "    <tr>\n",
       "      <th>25</th>\n",
       "      <td>1994</td>\n",
       "      <td>NaN</td>\n",
       "      <td>-</td>\n",
       "      <td>96.0</td>\n",
       "      <td>157.0</td>\n",
       "      <td>61.0</td>\n",
       "      <td>63.5</td>\n",
       "      <td>NaN</td>\n",
       "      <td>NaN</td>\n",
       "      <td>NaN</td>\n",
       "      <td>NaN</td>\n",
       "      <td>NaN</td>\n",
       "      <td>NaN</td>\n",
       "      <td>NaN</td>\n",
       "      <td>NaN</td>\n",
       "      <td>NaN</td>\n",
       "      <td>NaN</td>\n",
       "      <td>-</td>\n",
       "      <td>NaN</td>\n",
       "    </tr>\n",
       "  </tbody>\n",
       "</table>\n",
       "</div>"
      ],
      "text/plain": [
       "    上期收盤    其他活動 平均股本(億)     年度   投資活動  期初餘額   期末餘額    本期收盤    淨現金流   漲跌(%)  \\\n",
       "0   19Q1  2593.0      89  225.5  239.0  13.5    6.0   682.0   614.0  1527.0   \n",
       "1   2018  2593.0      94  229.5  225.5  -4.0   -1.7  3975.0  3511.0  5740.0   \n",
       "2   2017  2593.0      91  181.5  229.5  48.0   26.4  3961.0  3431.0  5853.0   \n",
       "3   2016  2593.0      91  143.0  181.5  38.5   26.9  3860.0  3342.0  5398.0   \n",
       "4   2015  2594.0      94  141.0  143.0   2.0    1.4  3504.0  3066.0  5299.0   \n",
       "5   2014  2592.0      91  105.5  141.0  35.5   33.6  3021.0  2639.0  4215.0   \n",
       "6   2013  2592.0      89   97.0  105.5   8.5    8.8  2155.0  1881.0  3474.0   \n",
       "7   2012  2592.0      94   75.8   97.0  21.2   28.0  1816.0  1662.0  2891.0   \n",
       "8   2011  2591.0      94   71.0   75.8   4.8    6.8  1451.0  1342.0  2476.0   \n",
       "9   2010  2590.0      96   64.5   71.0   6.5   10.1  1703.0  1616.0  2295.0   \n",
       "10  2009  2586.0      91   44.4   64.5  20.1   45.3   955.0   892.0  1600.0   \n",
       "11  2008  2589.0      94   62.0   44.4 -17.6  -28.4  1115.0   999.0  2215.0   \n",
       "12  2007  2637.0      94   67.5   62.0  -5.5   -8.1  1216.0  1092.0  1838.0   \n",
       "13  2006  2576.0      96   62.5   67.5   5.0    8.0  1334.0  1270.0  2050.0   \n",
       "14  2005  2469.0      94   50.5   62.5  12.0   23.8   943.0   936.0  1570.0   \n",
       "15  2004  2325.0      89   63.5   50.5 -13.0  -20.5   920.0   923.0  1532.0   \n",
       "16  2003  2028.0      79   42.6   63.5  20.9   49.1   512.0   473.0  1160.0   \n",
       "17  2002  1896.0      66   87.5   42.6 -44.9  -51.3   272.0   216.0   985.0   \n",
       "18  2001  1745.0      60   78.5   87.5   9.0   11.5   108.0   145.0   758.0   \n",
       "19  2000  1140.0      91  167.0   78.5 -88.5  -53.0   639.0   651.0   934.0   \n",
       "20  1999   758.0      83   71.0  167.0  96.0  135.2   237.0   246.0   407.0   \n",
       "21  1998   604.0      72  112.0   71.0 -41.0  -36.6   127.0   153.0   320.0   \n",
       "22  1997   408.0      83   56.5  112.0  55.5   98.2   153.0   180.0   246.0   \n",
       "23  1996   265.0      94   85.0   56.5 -28.5  -33.5   190.0   194.0   299.0   \n",
       "24  1995     NaN       -  157.0   85.0 -72.0  -45.9     NaN     NaN     NaN   \n",
       "25  1994     NaN       -   96.0  157.0  61.0   63.5     NaN     NaN     NaN   \n",
       "\n",
       "     漲跌(元)     營業活動  現金流量(%)     稅前淨利  稅後EPS(元)    稅後淨利    自由金流 融資活動   財報評分  \n",
       "0   -642.0  -224.00     17.9   679.00     885.0  5778.0  6457.0  161   2.37  \n",
       "1  -3143.0 -2451.00     98.6   244.00    2597.0  5534.0  5778.0  169  13.54  \n",
       "2  -3362.0 -2157.00   -213.0   121.00    2492.0  5413.0  5534.0  163  13.23  \n",
       "3  -3954.0 -1578.00    -80.3  -214.00    1444.0  5627.0  5413.0  170  12.89  \n",
       "4  -2172.0 -1167.00     82.6  2042.00    3126.0  3584.0  5626.0  250  11.82  \n",
       "5  -2824.0  -323.00     90.6  1158.00    1391.0  2427.0  3585.0  210  10.18  \n",
       "6  -2811.0   321.00      8.5   993.00     663.0  1434.0  2427.0  183   7.26  \n",
       "7  -2732.0  -138.00    -21.2    -0.62     159.0  1435.0  1434.0  203   6.41  \n",
       "8  -1825.0  -679.00    -16.2   -44.10     651.0  1479.0  1435.0  212   5.18  \n",
       "9  -2021.0  -486.00    -21.4  -234.00     274.0  1713.0  1479.0  186   6.24  \n",
       "10  -965.0  -855.00      0.0  -220.00     635.0  1932.0  1713.0  202   3.45  \n",
       "11   -80.4 -1154.00      0.0   981.00    2135.0   966.0  1946.0  390   3.86  \n",
       "12  -707.0 -1354.00      0.0  -223.00    1131.0  1173.0   950.0  377   4.14  \n",
       "13 -1197.0  -638.00      0.0   215.00     853.0   963.0  1178.0  437   4.93  \n",
       "14  -774.0  -580.00      0.0   216.00     796.0   749.0   965.0  447   3.79  \n",
       "15 -1480.0  -322.00      0.0  -270.00      51.4  1013.0   743.0  240   3.97  \n",
       "16  -534.0  -274.00      0.0   353.00     626.0   677.0  1030.0  373   2.33  \n",
       "17  -622.0   -63.50      0.0   300.00     363.0   378.0   678.0  244   1.14  \n",
       "18  -772.0     8.97      0.0    -5.17     -14.1   381.0   376.0  227   0.83  \n",
       "19 -1196.0   354.00      0.0    92.00    -262.0   296.0   388.0  197   5.71  \n",
       "20  -450.0   125.00      0.0    81.40     -43.2    95.1   176.0  250   3.24  \n",
       "21  -423.0    77.70      0.0   -24.80    -103.0   122.0    96.8  365   2.54  \n",
       "22  -445.0   134.00      0.0   -65.20    -199.0   193.0   128.0  161   4.40  \n",
       "23  -250.0    50.00      0.0    99.90      49.9    87.0   187.0  537   7.31  \n",
       "24     NaN      NaN      NaN      NaN       NaN     NaN     NaN    -    NaN  \n",
       "25     NaN      NaN      NaN      NaN       NaN     NaN     NaN    -    NaN  "
      ]
     },
     "execution_count": 55,
     "metadata": {},
     "output_type": "execute_result"
    }
   ],
   "source": [
    "df"
   ]
  },
  {
   "cell_type": "markdown",
   "metadata": {},
   "source": [
    "## Proxies\n",
    "- https://www.squidproxies.com/\n",
    "- https://www.sharedproxies.com/\n",
    "- https://luminati-china.biz/\n",
    "- http://stormproxies.com\n"
   ]
  },
  {
   "cell_type": "code",
   "execution_count": null,
   "metadata": {},
   "outputs": [],
   "source": [
    "import requests\n",
    "headers = {\n",
    " 'user-agent': 'Mozilla/5.0 (Windows NT 6.1; Win64; x64) AppleWebKit/537.36 (KHTML, like Gecko) Chrome/75.0.3770.100 Safari/537.36'   \n",
    "}\n",
    "\n",
    "proxies = {\n",
    "  \"http\": \"http://104.248.115.236:3128\",\n",
    "  \"https\": \"http://104.248.115.236:3128\",\n",
    "}\n",
    "\n",
    "\n",
    "res = requests.get('https://goodinfo.tw/StockInfo/StockCashFlow.asp?STOCK_ID=2330', headers = headers, proxies = proxies)\n",
    "res.encoding = 'utf-8'"
   ]
  },
  {
   "cell_type": "markdown",
   "metadata": {},
   "source": [
    "## Tableau Public\n",
    "- https://public.tableau.com/en-us/s/\n",
    "- https://youtu.be/C0xcXvte8N0"
   ]
  },
  {
   "cell_type": "markdown",
   "metadata": {},
   "source": [
    "## 使用視覺化圖表探索房價"
   ]
  },
  {
   "cell_type": "code",
   "execution_count": 1,
   "metadata": {},
   "outputs": [
    {
     "data": {
      "text/html": [
       "<div>\n",
       "<style scoped>\n",
       "    .dataframe tbody tr th:only-of-type {\n",
       "        vertical-align: middle;\n",
       "    }\n",
       "\n",
       "    .dataframe tbody tr th {\n",
       "        vertical-align: top;\n",
       "    }\n",
       "\n",
       "    .dataframe thead th {\n",
       "        text-align: right;\n",
       "    }\n",
       "</style>\n",
       "<table border=\"1\" class=\"dataframe\">\n",
       "  <thead>\n",
       "    <tr style=\"text-align: right;\">\n",
       "      <th></th>\n",
       "      <th>search_date</th>\n",
       "      <th>title</th>\n",
       "      <th>address</th>\n",
       "      <th>floor_info</th>\n",
       "      <th>price</th>\n",
       "      <th>layout</th>\n",
       "      <th>building_area</th>\n",
       "      <th>building_use</th>\n",
       "    </tr>\n",
       "  </thead>\n",
       "  <tbody>\n",
       "    <tr>\n",
       "      <th>5</th>\n",
       "      <td>2018-05-12</td>\n",
       "      <td>近捷運，採光佳，有景觀，全新家電裝潢</td>\n",
       "      <td>新北市淡水區民族路</td>\n",
       "      <td>9F/11F</td>\n",
       "      <td>22,000元/月</td>\n",
       "      <td>2房1廳1衛1陽臺</td>\n",
       "      <td>24.00</td>\n",
       "      <td>電梯大樓/整層住家</td>\n",
       "    </tr>\n",
       "    <tr>\n",
       "      <th>9</th>\n",
       "      <td>2018-05-14</td>\n",
       "      <td>大衛營優質社區管理好，交通便利、裝潢佳</td>\n",
       "      <td>基隆市安樂區樂利三街</td>\n",
       "      <td>14F/18F</td>\n",
       "      <td>17,000元/月</td>\n",
       "      <td>2房1廳2衛2陽臺</td>\n",
       "      <td>32.00</td>\n",
       "      <td>電梯大樓/整層住家</td>\n",
       "    </tr>\n",
       "    <tr>\n",
       "      <th>13</th>\n",
       "      <td>2018-05-14</td>\n",
       "      <td>家樂福夜市附近，雅房出租2房2廳</td>\n",
       "      <td>嘉義市西區興業西路</td>\n",
       "      <td>7F/8F</td>\n",
       "      <td>7,500元/月</td>\n",
       "      <td>2房2廳1衛1陽臺</td>\n",
       "      <td>24.00</td>\n",
       "      <td>電梯大樓/整層住家</td>\n",
       "    </tr>\n",
       "    <tr>\n",
       "      <th>15</th>\n",
       "      <td>2018-05-14</td>\n",
       "      <td>台北市北投新民路捷運溫泉78坪雙拼美廈</td>\n",
       "      <td>台北市北投區新民路</td>\n",
       "      <td>2F/9F</td>\n",
       "      <td>25,000元/月</td>\n",
       "      <td>4房3廳3衛3陽臺</td>\n",
       "      <td>78.00</td>\n",
       "      <td>電梯大樓/整層住家</td>\n",
       "    </tr>\n",
       "    <tr>\n",
       "      <th>16</th>\n",
       "      <td>2018-05-13</td>\n",
       "      <td>出海口海景高樓層溫馨房</td>\n",
       "      <td>新北市淡水區中正東路一段</td>\n",
       "      <td>19F/21F</td>\n",
       "      <td>15,000元/月</td>\n",
       "      <td>1房1廳1衛0陽臺</td>\n",
       "      <td>18.01</td>\n",
       "      <td>電梯大樓/整層住家</td>\n",
       "    </tr>\n",
       "  </tbody>\n",
       "</table>\n",
       "</div>"
      ],
      "text/plain": [
       "   search_date                title       address floor_info      price  \\\n",
       "5   2018-05-12   近捷運，採光佳，有景觀，全新家電裝潢     新北市淡水區民族路     9F/11F  22,000元/月   \n",
       "9   2018-05-14  大衛營優質社區管理好，交通便利、裝潢佳    基隆市安樂區樂利三街    14F/18F  17,000元/月   \n",
       "13  2018-05-14     家樂福夜市附近，雅房出租2房2廳     嘉義市西區興業西路      7F/8F   7,500元/月   \n",
       "15  2018-05-14  台北市北投新民路捷運溫泉78坪雙拼美廈     台北市北投區新民路      2F/9F  25,000元/月   \n",
       "16  2018-05-13          出海口海景高樓層溫馨房  新北市淡水區中正東路一段    19F/21F  15,000元/月   \n",
       "\n",
       "       layout  building_area building_use  \n",
       "5   2房1廳1衛1陽臺          24.00    電梯大樓/整層住家  \n",
       "9   2房1廳2衛2陽臺          32.00    電梯大樓/整層住家  \n",
       "13  2房2廳1衛1陽臺          24.00    電梯大樓/整層住家  \n",
       "15  4房3廳3衛3陽臺          78.00    電梯大樓/整層住家  \n",
       "16  1房1廳1衛0陽臺          18.01    電梯大樓/整層住家  "
      ]
     },
     "execution_count": 1,
     "metadata": {},
     "output_type": "execute_result"
    }
   ],
   "source": [
    "import pandas as pd\n",
    "df = pd.read_csv('https://raw.githubusercontent.com/ywchiu/ctbcpy/master/data/rent_591.csv',\n",
    "index_col=0)\n",
    "df.head()"
   ]
  },
  {
   "cell_type": "code",
   "execution_count": 3,
   "metadata": {},
   "outputs": [],
   "source": [
    "df['price'] = df['price'].map(lambda e: int(e.replace('元/月','').replace(',','')))"
   ]
  },
  {
   "cell_type": "code",
   "execution_count": 4,
   "metadata": {},
   "outputs": [
    {
     "name": "stdout",
     "output_type": "stream",
     "text": [
      "Populating the interactive namespace from numpy and matplotlib\n"
     ]
    },
    {
     "data": {
      "text/plain": [
       "<matplotlib.axes._subplots.AxesSubplot at 0xa3d2438>"
      ]
     },
     "execution_count": 4,
     "metadata": {},
     "output_type": "execute_result"
    },
    {
     "data": {
      "image/png": "[encoded data removed]",
      "text/plain": [
       "<Figure size 432x288 with 1 Axes>"
      ]
     },
     "metadata": {
      "needs_background": "light"
     },
     "output_type": "display_data"
    }
   ],
   "source": [
    "%pylab inline\n",
    "df['price'].plot(kind= 'hist')"
   ]
  },
  {
   "cell_type": "code",
   "execution_count": 5,
   "metadata": {},
   "outputs": [
    {
     "name": "stdout",
     "output_type": "stream",
     "text": [
      "Populating the interactive namespace from numpy and matplotlib\n"
     ]
    },
    {
     "data": {
      "text/plain": [
       "<matplotlib.axes._subplots.AxesSubplot at 0xa6ef198>"
      ]
     },
     "execution_count": 5,
     "metadata": {},
     "output_type": "execute_result"
    },
    {
     "data": {
      "image/png": "[encoded data removed]",
      "text/plain": [
       "<Figure size 432x288 with 1 Axes>"
      ]
     },
     "metadata": {
      "needs_background": "light"
     },
     "output_type": "display_data"
    }
   ],
   "source": [
    "%pylab inline\n",
    "df['price'].plot(kind= 'box')"
   ]
  },
  {
   "cell_type": "code",
   "execution_count": 8,
   "metadata": {},
   "outputs": [
    {
     "data": {
      "text/plain": [
       "<matplotlib.axes._subplots.AxesSubplot at 0xab34160>"
      ]
     },
     "execution_count": 8,
     "metadata": {},
     "output_type": "execute_result"
    },
    {
     "data": {
      "image/png": "[encoded data removed]",
      "text/plain": [
       "<Figure size 432x288 with 1 Axes>"
      ]
     },
     "metadata": {
      "needs_background": "light"
     },
     "output_type": "display_data"
    }
   ],
   "source": [
    "(df['price'] / df['building_area']).plot(kind = 'box')"
   ]
  },
  {
   "cell_type": "code",
   "execution_count": 12,
   "metadata": {},
   "outputs": [],
   "source": [
    "df['city'] = df['address'].str.extract('(.*?[市縣]).*')"
   ]
  },
  {
   "cell_type": "code",
   "execution_count": 13,
   "metadata": {},
   "outputs": [],
   "source": [
    "df['avg_price'] = df['price'] / df['building_area']"
   ]
  },
  {
   "cell_type": "code",
   "execution_count": 15,
   "metadata": {},
   "outputs": [
    {
     "data": {
      "text/plain": [
       "<matplotlib.axes._subplots.AxesSubplot at 0xadbe470>"
      ]
     },
     "execution_count": 15,
     "metadata": {},
     "output_type": "execute_result"
    },
    {
     "data": {
      "image/png": "[encoded data removed]",
      "text/plain": [
       "<Figure size 1440x720 with 1 Axes>"
      ]
     },
     "metadata": {
      "needs_background": "light"
     },
     "output_type": "display_data"
    }
   ],
   "source": [
    "#coding:utf-8\n",
    "import matplotlib.pyplot as plt\n",
    "plt.rcParams['font.sans-serif']=['SimHei'] \n",
    "plt.rcParams['axes.unicode_minus']=False\n",
    "df.boxplot('avg_price', by= 'city', figsize = [20,10])"
   ]
  },
  {
   "cell_type": "code",
   "execution_count": 17,
   "metadata": {},
   "outputs": [
    {
     "data": {
      "text/plain": [
       "<matplotlib.axes._subplots.AxesSubplot at 0x9dd7e48>"
      ]
     },
     "execution_count": 17,
     "metadata": {},
     "output_type": "execute_result"
    },
    {
     "data": {
      "image/png": "[encoded data removed]",
      "text/plain": [
       "<Figure size 432x288 with 1 Axes>"
      ]
     },
     "metadata": {
      "needs_background": "light"
     },
     "output_type": "display_data"
    }
   ],
   "source": [
    "df.plot(x = 'building_area', y = 'price', kind = 'scatter')"
   ]
  },
  {
   "cell_type": "code",
   "execution_count": 22,
   "metadata": {},
   "outputs": [],
   "source": [
    "df2 = df[df['building_area'] < 100]"
   ]
  },
  {
   "cell_type": "code",
   "execution_count": 23,
   "metadata": {},
   "outputs": [
    {
     "data": {
      "text/plain": [
       "<matplotlib.axes._subplots.AxesSubplot at 0xb6f2630>"
      ]
     },
     "execution_count": 23,
     "metadata": {},
     "output_type": "execute_result"
    },
    {
     "data": {
      "image/png": "[encoded data removed]",
      "text/plain": [
       "<Figure size 432x288 with 1 Axes>"
      ]
     },
     "metadata": {
      "needs_background": "light"
     },
     "output_type": "display_data"
    }
   ],
   "source": [
    "df2.plot(x = 'building_area', y = 'price', kind = 'scatter')"
   ]
  },
  {
   "cell_type": "code",
   "execution_count": 24,
   "metadata": {},
   "outputs": [
    {
     "data": {
      "text/plain": [
       "<matplotlib.axes._subplots.AxesSubplot at 0xb96f860>"
      ]
     },
     "execution_count": 24,
     "metadata": {},
     "output_type": "execute_result"
    },
    {
     "data": {
      "image/png": "[encoded data removed]",
      "text/plain": [
       "<Figure size 432x288 with 1 Axes>"
      ]
     },
     "metadata": {
      "needs_background": "light"
     },
     "output_type": "display_data"
    }
   ],
   "source": [
    "df2.plot(x = 'building_area', y = 'price', kind = 'scatter', xlim=[0,160],ylim = [0,80000])"
   ]
  },
  {
   "cell_type": "code",
   "execution_count": 26,
   "metadata": {},
   "outputs": [
    {
     "data": {
      "text/plain": [
       "新北市    24\n",
       "桃園市    21\n",
       "高雄市    15\n",
       "台中市    11\n",
       "台北市     9\n",
       "台南市     6\n",
       "新竹市     4\n",
       "新竹縣     3\n",
       "基隆市     2\n",
       "彰化縣     2\n",
       "苗栗縣     1\n",
       "嘉義市     1\n",
       "宜蘭縣     1\n",
       "Name: city, dtype: int64"
      ]
     },
     "execution_count": 26,
     "metadata": {},
     "output_type": "execute_result"
    }
   ],
   "source": [
    "df['city'].value_counts()"
   ]
  },
  {
   "cell_type": "code",
   "execution_count": 27,
   "metadata": {},
   "outputs": [
    {
     "data": {
      "text/plain": [
       "<matplotlib.axes._subplots.AxesSubplot at 0xd160f28>"
      ]
     },
     "execution_count": 27,
     "metadata": {},
     "output_type": "execute_result"
    },
    {
     "data": {
      "image/png": "[encoded data removed]",
      "text/plain": [
       "<Figure size 432x288 with 1 Axes>"
      ]
     },
     "metadata": {
      "needs_background": "light"
     },
     "output_type": "display_data"
    }
   ],
   "source": [
    "df['city'].value_counts().plot(kind = 'bar')"
   ]
  },
  {
   "cell_type": "code",
   "execution_count": 28,
   "metadata": {},
   "outputs": [
    {
     "data": {
      "text/plain": [
       "<matplotlib.axes._subplots.AxesSubplot at 0xdc562b0>"
      ]
     },
     "execution_count": 28,
     "metadata": {},
     "output_type": "execute_result"
    },
    {
     "data": {
      "image/png": "[encoded data removed]",
      "text/plain": [
       "<Figure size 432x288 with 1 Axes>"
      ]
     },
     "metadata": {},
     "output_type": "display_data"
    }
   ],
   "source": [
    "df['city'].value_counts().plot(kind = 'pie')"
   ]
  },
  {
   "cell_type": "code",
   "execution_count": 31,
   "metadata": {},
   "outputs": [
    {
     "data": {
      "text/plain": [
       "<matplotlib.axes._subplots.AxesSubplot at 0x177fa5c0>"
      ]
     },
     "execution_count": 31,
     "metadata": {},
     "output_type": "execute_result"
    },
    {
     "data": {
      "image/png": "[encoded data removed]",
      "text/plain": [
       "<Figure size 432x288 with 1 Axes>"
      ]
     },
     "metadata": {},
     "output_type": "display_data"
    }
   ],
   "source": [
    "df['city'].value_counts().plot(kind = 'pie', startangle=90, counterclock = False)"
   ]
  },
  {
   "cell_type": "markdown",
   "metadata": {},
   "source": [
    "## 使用Dash"
   ]
  },
  {
   "cell_type": "code",
   "execution_count": null,
   "metadata": {},
   "outputs": [],
   "source": [
    "! pip install dash\n",
    "! pip install dash-html-components # HTML components\n",
    "! pip install dash-core-components # Supercharged components\n",
    "! pip install dash-table"
   ]
  },
  {
   "cell_type": "code",
   "execution_count": 44,
   "metadata": {},
   "outputs": [],
   "source": [
    "import dash\n",
    "import dash_core_components as dcc\n",
    "import dash_html_components as html\n",
    "\n",
    "app = dash.Dash()\n",
    "\n",
    "app.layout = html.Div(children=[\n",
    "    html.H1(children='Hello Dash'),\n",
    "    html.Div(children='Dash: A web application framework for Python.'),\n",
    "\n",
    "    dcc.Graph(\n",
    "        id='example-graph',\n",
    "        figure={\n",
    "            'data': [\n",
    "                {'x': [1, 2, 3], 'y': [4, 1, 2], 'type': 'bar', 'name': 'SF'},\n",
    "                {'x': [1, 2, 3], 'y': [2, 4, 5], 'type': 'bar', 'name': u'Montréal'},\n",
    "            ],\n",
    "            'layout': {\n",
    "                'title': 'Dash Data Visualization'\n",
    "            }\n",
    "        }\n",
    "    )\n",
    "])"
   ]
  },
  {
   "cell_type": "code",
   "execution_count": 45,
   "metadata": {},
   "outputs": [
    {
     "name": "stdout",
     "output_type": "stream",
     "text": [
      " * Serving Flask app \"__main__\" (lazy loading)\n",
      " * Environment: production\n",
      "   WARNING: Do not use the development server in a production environment.\n",
      "   Use a production WSGI server instead.\n",
      " * Debug mode: off\n"
     ]
    },
    {
     "name": "stderr",
     "output_type": "stream",
     "text": [
      " * Running on http://127.0.0.1:8080/ (Press CTRL+C to quit)\n",
      "127.0.0.1 - - [30/Jun/2019 15:01:40] \"\u001b[37mGET / HTTP/1.1\u001b[0m\" 200 -\n",
      "127.0.0.1 - - [30/Jun/2019 15:01:40] \"\u001b[37mGET /_dash-component-suites/dash_renderer/react@16.8.6.min.js?v=1.0.0&m=1561877635 HTTP/1.1\u001b[0m\" 200 -\n",
      "127.0.0.1 - - [30/Jun/2019 15:01:40] \"\u001b[37mGET /_dash-component-suites/dash_renderer/prop-types@15.7.2.min.js?v=1.0.0&m=1561877635 HTTP/1.1\u001b[0m\" 200 -\n",
      "127.0.0.1 - - [30/Jun/2019 15:01:40] \"\u001b[37mGET /_dash-component-suites/dash_renderer/react-dom@16.8.6.min.js?v=1.0.0&m=1561877635 HTTP/1.1\u001b[0m\" 200 -\n",
      "127.0.0.1 - - [30/Jun/2019 15:01:40] \"\u001b[37mGET /_dash-component-suites/dash_html_components/dash_html_components.min.js?v=1.0.0&m=1561877640 HTTP/1.1\u001b[0m\" 200 -\n",
      "127.0.0.1 - - [30/Jun/2019 15:01:40] \"\u001b[37mGET /_dash-component-suites/dash_core_components/highlight.pack.js?v=1.0.0&m=1561877637 HTTP/1.1\u001b[0m\" 200 -\n",
      "127.0.0.1 - - [30/Jun/2019 15:01:40] \"\u001b[37mGET /_dash-component-suites/dash_renderer/dash_renderer.min.js?v=1.0.0&m=1561877635 HTTP/1.1\u001b[0m\" 200 -\n",
      "127.0.0.1 - - [30/Jun/2019 15:01:40] \"\u001b[37mGET /_dash-component-suites/dash_core_components/plotly-1.48.3.min.js?v=1.0.0&m=1561877637 HTTP/1.1\u001b[0m\" 200 -\n",
      "127.0.0.1 - - [30/Jun/2019 15:01:40] \"\u001b[37mGET /_dash-component-suites/dash_core_components/dash_core_components.min.js?v=1.0.0&m=1561877637 HTTP/1.1\u001b[0m\" 200 -\n",
      "127.0.0.1 - - [30/Jun/2019 15:01:40] \"\u001b[37mGET /_dash-layout HTTP/1.1\u001b[0m\" 200 -\n",
      "127.0.0.1 - - [30/Jun/2019 15:01:40] \"\u001b[37mGET /_dash-dependencies HTTP/1.1\u001b[0m\" 200 -\n"
     ]
    }
   ],
   "source": [
    "app.run_server(port=8080)"
   ]
  },
  {
   "cell_type": "markdown",
   "metadata": {},
   "source": [
    "## 迴歸模型"
   ]
  },
  {
   "cell_type": "code",
   "execution_count": 46,
   "metadata": {},
   "outputs": [
    {
     "data": {
      "text/html": [
       "<div>\n",
       "<style scoped>\n",
       "    .dataframe tbody tr th:only-of-type {\n",
       "        vertical-align: middle;\n",
       "    }\n",
       "\n",
       "    .dataframe tbody tr th {\n",
       "        vertical-align: top;\n",
       "    }\n",
       "\n",
       "    .dataframe thead th {\n",
       "        text-align: right;\n",
       "    }\n",
       "</style>\n",
       "<table border=\"1\" class=\"dataframe\">\n",
       "  <thead>\n",
       "    <tr style=\"text-align: right;\">\n",
       "      <th></th>\n",
       "      <th>year</th>\n",
       "      <th>salary</th>\n",
       "    </tr>\n",
       "  </thead>\n",
       "  <tbody>\n",
       "    <tr>\n",
       "      <th>1</th>\n",
       "      <td>2.4</td>\n",
       "      <td>6600</td>\n",
       "    </tr>\n",
       "    <tr>\n",
       "      <th>2</th>\n",
       "      <td>5.5</td>\n",
       "      <td>10100</td>\n",
       "    </tr>\n",
       "    <tr>\n",
       "      <th>3</th>\n",
       "      <td>3.3</td>\n",
       "      <td>7300</td>\n",
       "    </tr>\n",
       "    <tr>\n",
       "      <th>4</th>\n",
       "      <td>0.2</td>\n",
       "      <td>5000</td>\n",
       "    </tr>\n",
       "    <tr>\n",
       "      <th>5</th>\n",
       "      <td>1.5</td>\n",
       "      <td>6100</td>\n",
       "    </tr>\n",
       "  </tbody>\n",
       "</table>\n",
       "</div>"
      ],
      "text/plain": [
       "   year  salary\n",
       "1   2.4    6600\n",
       "2   5.5   10100\n",
       "3   3.3    7300\n",
       "4   0.2    5000\n",
       "5   1.5    6100"
      ]
     },
     "execution_count": 46,
     "metadata": {},
     "output_type": "execute_result"
    }
   ],
   "source": [
    "import pandas\n",
    "df = pandas.read_csv('https://raw.githubusercontent.com/ywchiu/tibamepy/master/data/salary.csv', index_col=0)\n",
    "df.head()"
   ]
  },
  {
   "cell_type": "code",
   "execution_count": 48,
   "metadata": {},
   "outputs": [
    {
     "data": {
      "text/plain": [
       "<matplotlib.axes._subplots.AxesSubplot at 0x1a7d9a90>"
      ]
     },
     "execution_count": 48,
     "metadata": {},
     "output_type": "execute_result"
    },
    {
     "data": {
      "image/png": "[encoded data removed]",
      "text/plain": [
       "<Figure size 432x288 with 1 Axes>"
      ]
     },
     "metadata": {
      "needs_background": "light"
     },
     "output_type": "display_data"
    }
   ],
   "source": [
    "df.plot(x = 'year', y= 'salary', kind = 'scatter')"
   ]
  },
  {
   "cell_type": "code",
   "execution_count": 49,
   "metadata": {},
   "outputs": [
    {
     "data": {
      "image/png": "[encoded data removed]",
      "text/plain": [
       "<Figure size 432x288 with 1 Axes>"
      ]
     },
     "metadata": {
      "needs_background": "light"
     },
     "output_type": "display_data"
    }
   ],
   "source": [
    "from matplotlib import pyplot as plt\n",
    "\n",
    "X = df[['year']]\n",
    "Y = df['salary'].values\n",
    "\n",
    "plt.scatter(X, Y, color='black')\n",
    "plt.xlabel('year')\n",
    "plt.ylabel('salary')\n",
    "plt.show()"
   ]
  },
  {
   "cell_type": "code",
   "execution_count": 50,
   "metadata": {},
   "outputs": [
    {
     "data": {
      "text/plain": [
       "LinearRegression(copy_X=True, fit_intercept=True, n_jobs=None,\n",
       "         normalize=False)"
      ]
     },
     "execution_count": 50,
     "metadata": {},
     "output_type": "execute_result"
    }
   ],
   "source": [
    "from sklearn.linear_model import LinearRegression\n",
    "clf = LinearRegression()\n",
    "\n",
    "X = df[['year']]\n",
    "Y = df['salary'].values\n",
    "clf.fit(X,Y)"
   ]
  },
  {
   "cell_type": "code",
   "execution_count": 53,
   "metadata": {},
   "outputs": [
    {
     "data": {
      "text/plain": [
       "array([6759.23582656, 8968.27764861, 7400.57054909, 5191.52872704,\n",
       "       6117.90110403])"
      ]
     },
     "execution_count": 53,
     "metadata": {},
     "output_type": "execute_result"
    }
   ],
   "source": [
    "clf.predict(X)[0:5]"
   ]
  },
  {
   "cell_type": "code",
   "execution_count": 54,
   "metadata": {},
   "outputs": [
    {
     "data": {
      "text/plain": [
       "5049.009899813836"
      ]
     },
     "execution_count": 54,
     "metadata": {},
     "output_type": "execute_result"
    }
   ],
   "source": [
    "clf.intercept_"
   ]
  },
  {
   "cell_type": "code",
   "execution_count": 55,
   "metadata": {},
   "outputs": [
    {
     "data": {
      "text/plain": [
       "array([712.59413615])"
      ]
     },
     "execution_count": 55,
     "metadata": {},
     "output_type": "execute_result"
    }
   ],
   "source": [
    "clf.coef_"
   ]
  },
  {
   "cell_type": "code",
   "execution_count": 56,
   "metadata": {},
   "outputs": [
    {
     "data": {
      "image/png": "[encoded data removed]",
      "text/plain": [
       "<Figure size 432x288 with 1 Axes>"
      ]
     },
     "metadata": {
      "needs_background": "light"
     },
     "output_type": "display_data"
    }
   ],
   "source": [
    "plt.scatter(X, Y, color='black')\n",
    "plt.plot(X, clf.predict(X), color='blue', linewidth=3)\n",
    "plt.show()"
   ]
  },
  {
   "cell_type": "code",
   "execution_count": 58,
   "metadata": {},
   "outputs": [
    {
     "data": {
      "text/plain": [
       "array([12174.95126127,  8611.98058054, 10749.76298898])"
      ]
     },
     "execution_count": 58,
     "metadata": {},
     "output_type": "execute_result"
    }
   ],
   "source": [
    "import numpy\n",
    "a = numpy.array([[10],[5],[8]])\n",
    "clf.predict(a)"
   ]
  },
  {
   "cell_type": "code",
   "execution_count": 59,
   "metadata": {},
   "outputs": [
    {
     "data": {
      "text/plain": [
       "LinearRegression(copy_X=True, fit_intercept=True, n_jobs=None,\n",
       "         normalize=False)"
      ]
     },
     "execution_count": 59,
     "metadata": {},
     "output_type": "execute_result"
    }
   ],
   "source": [
    "from sklearn.preprocessing import PolynomialFeatures\n",
    "from sklearn.linear_model import LinearRegression\n",
    "\n",
    "poly_reg = PolynomialFeatures(degree=2)\n",
    "X_ = poly_reg.fit_transform(X)\n",
    "regr = LinearRegression()\n",
    "regr.fit(X_, Y)\n"
   ]
  },
  {
   "cell_type": "code",
   "execution_count": 63,
   "metadata": {},
   "outputs": [
    {
     "data": {
      "image/png": "[encoded data removed]",
      "text/plain": [
       "<Figure size 432x288 with 1 Axes>"
      ]
     },
     "metadata": {
      "needs_background": "light"
     },
     "output_type": "display_data"
    }
   ],
   "source": [
    "X2 = X.sort_values(['year'])\n",
    "X2_ = poly_reg.transform(X2)\n",
    "\n",
    "plt.scatter(X, Y, color='black')\n",
    "plt.plot(X2, regr.predict(X2_), linewidth = 3, color=\"blue\")\n",
    "plt.show()\n"
   ]
  },
  {
   "cell_type": "code",
   "execution_count": 67,
   "metadata": {},
   "outputs": [
    {
     "data": {
      "text/plain": [
       "array([8738.39978441, 9310.23228321, 9685.36444603])"
      ]
     },
     "execution_count": 67,
     "metadata": {},
     "output_type": "execute_result"
    }
   ],
   "source": [
    "import numpy\n",
    "a = numpy.array([[10],[5],[8]])\n",
    "a2 = poly_reg.transform(a)\n",
    "regr.predict(a2)"
   ]
  },
  {
   "cell_type": "code",
   "execution_count": 68,
   "metadata": {},
   "outputs": [
    {
     "data": {
      "text/plain": [
       "LinearRegression(copy_X=True, fit_intercept=True, n_jobs=None,\n",
       "         normalize=False)"
      ]
     },
     "execution_count": 68,
     "metadata": {},
     "output_type": "execute_result"
    }
   ],
   "source": [
    "from sklearn.preprocessing import PolynomialFeatures\n",
    "from sklearn.linear_model import LinearRegression\n",
    "\n",
    "poly_reg = PolynomialFeatures(degree=3)\n",
    "X_ = poly_reg.fit_transform(X)\n",
    "regr = LinearRegression()\n",
    "regr.fit(X_, Y)\n"
   ]
  },
  {
   "cell_type": "code",
   "execution_count": 69,
   "metadata": {},
   "outputs": [
    {
     "data": {
      "image/png": "[encoded data removed]",
      "text/plain": [
       "<Figure size 432x288 with 1 Axes>"
      ]
     },
     "metadata": {
      "needs_background": "light"
     },
     "output_type": "display_data"
    }
   ],
   "source": [
    "X3 = X.sort_values(['year'])\n",
    "X3_ = poly_reg.transform(X3)\n",
    "\n",
    "plt.scatter(X, Y, color='black')\n",
    "plt.plot(X3, regr.predict(X3_), linewidth = 3, color=\"blue\")\n",
    "plt.show()\n"
   ]
  },
  {
   "cell_type": "code",
   "execution_count": 70,
   "metadata": {},
   "outputs": [
    {
     "data": {
      "text/plain": [
       "array([9001.25190157, 9294.79869615, 9724.27639613])"
      ]
     },
     "execution_count": 70,
     "metadata": {},
     "output_type": "execute_result"
    }
   ],
   "source": [
    "import numpy\n",
    "a = numpy.array([[10],[5],[8]])\n",
    "a2 = poly_reg.transform(a)\n",
    "regr.predict(a2)"
   ]
  },
  {
   "cell_type": "markdown",
   "metadata": {},
   "source": [
    "## fit, transform, fit_transform"
   ]
  },
  {
   "cell_type": "code",
   "execution_count": 74,
   "metadata": {},
   "outputs": [
    {
     "data": {
      "text/plain": [
       "14.142135623730951"
      ]
     },
     "execution_count": 74,
     "metadata": {},
     "output_type": "execute_result"
    }
   ],
   "source": [
    "from sklearn.preprocessing import StandardScaler\n",
    "a = numpy.array([[30],[40],[50],[60],[70]])\n",
    "a.mean()\n",
    "a.std()"
   ]
  },
  {
   "cell_type": "code",
   "execution_count": 78,
   "metadata": {},
   "outputs": [
    {
     "name": "stderr",
     "output_type": "stream",
     "text": [
      "C:\\ProgramData\\Anaconda3\\lib\\site-packages\\sklearn\\utils\\validation.py:595: DataConversionWarning:\n",
      "\n",
      "Data with input dtype int32 was converted to float64 by StandardScaler.\n",
      "\n"
     ]
    },
    {
     "data": {
      "text/plain": [
       "(array([50.]), array([200.]))"
      ]
     },
     "execution_count": 78,
     "metadata": {},
     "output_type": "execute_result"
    }
   ],
   "source": [
    "sc= StandardScaler()\n",
    "\n",
    "# 產生架構\n",
    "sc.fit(a)\n",
    "sc.mean_, sc.var_"
   ]
  },
  {
   "cell_type": "code",
   "execution_count": 80,
   "metadata": {},
   "outputs": [
    {
     "name": "stderr",
     "output_type": "stream",
     "text": [
      "C:\\ProgramData\\Anaconda3\\lib\\site-packages\\sklearn\\utils\\validation.py:595: DataConversionWarning:\n",
      "\n",
      "Data with input dtype int32 was converted to float64 by StandardScaler.\n",
      "\n"
     ]
    },
    {
     "data": {
      "text/plain": [
       "array([[0.70710678],\n",
       "       [1.41421356],\n",
       "       [2.12132034]])"
      ]
     },
     "execution_count": 80,
     "metadata": {},
     "output_type": "execute_result"
    }
   ],
   "source": [
    "b =numpy.array([[60],[70],[80]])\n",
    "# 資料轉換\n",
    "sc.transform(b)"
   ]
  },
  {
   "cell_type": "code",
   "execution_count": 82,
   "metadata": {},
   "outputs": [
    {
     "data": {
      "text/plain": [
       "array([[0.70710678],\n",
       "       [1.41421356],\n",
       "       [2.12132034]])"
      ]
     },
     "execution_count": 82,
     "metadata": {},
     "output_type": "execute_result"
    }
   ],
   "source": [
    "(b - sc.mean_) / sc.var_ **(1/2)"
   ]
  },
  {
   "cell_type": "code",
   "execution_count": 83,
   "metadata": {},
   "outputs": [
    {
     "name": "stderr",
     "output_type": "stream",
     "text": [
      "C:\\ProgramData\\Anaconda3\\lib\\site-packages\\sklearn\\utils\\validation.py:595: DataConversionWarning:\n",
      "\n",
      "Data with input dtype int32 was converted to float64 by StandardScaler.\n",
      "\n",
      "C:\\ProgramData\\Anaconda3\\lib\\site-packages\\sklearn\\utils\\validation.py:595: DataConversionWarning:\n",
      "\n",
      "Data with input dtype int32 was converted to float64 by StandardScaler.\n",
      "\n"
     ]
    },
    {
     "data": {
      "text/plain": [
       "array([[-1.41421356],\n",
       "       [-0.70710678],\n",
       "       [ 0.        ],\n",
       "       [ 0.70710678],\n",
       "       [ 1.41421356]])"
      ]
     },
     "execution_count": 83,
     "metadata": {},
     "output_type": "execute_result"
    }
   ],
   "source": [
    "sc= StandardScaler()\n",
    "\n",
    "# 既產生架構, 也產生資料\n",
    "sc.fit_transform(a)"
   ]
  },
  {
   "cell_type": "code",
   "execution_count": 85,
   "metadata": {},
   "outputs": [
    {
     "data": {
      "text/plain": [
       "LinearRegression(copy_X=True, fit_intercept=True, n_jobs=None,\n",
       "         normalize=False)"
      ]
     },
     "execution_count": 85,
     "metadata": {},
     "output_type": "execute_result"
    }
   ],
   "source": [
    "from sklearn.linear_model import LinearRegression\n",
    "X = df[['year']]\n",
    "Y = df['salary'].values\n",
    "clf = LinearRegression()\n",
    "clf.fit(X,Y)"
   ]
  },
  {
   "cell_type": "code",
   "execution_count": 86,
   "metadata": {},
   "outputs": [
    {
     "data": {
      "text/plain": [
       "LinearRegression(copy_X=True, fit_intercept=True, n_jobs=None,\n",
       "         normalize=False)"
      ]
     },
     "execution_count": 86,
     "metadata": {},
     "output_type": "execute_result"
    }
   ],
   "source": [
    "from sklearn.linear_model import LinearRegression\n",
    "X = df[['year']]\n",
    "Y = df['salary']\n",
    "clf = LinearRegression()\n",
    "clf.fit(X,Y)"
   ]
  },
  {
   "cell_type": "code",
   "execution_count": 88,
   "metadata": {},
   "outputs": [
    {
     "data": {
      "text/plain": [
       "pandas.core.frame.DataFrame"
      ]
     },
     "execution_count": 88,
     "metadata": {},
     "output_type": "execute_result"
    }
   ],
   "source": [
    "type(X)"
   ]
  },
  {
   "cell_type": "code",
   "execution_count": 89,
   "metadata": {},
   "outputs": [
    {
     "data": {
      "text/plain": [
       "pandas.core.series.Series"
      ]
     },
     "execution_count": 89,
     "metadata": {},
     "output_type": "execute_result"
    }
   ],
   "source": [
    "type(Y)"
   ]
  },
  {
   "cell_type": "markdown",
   "metadata": {},
   "source": [
    "## 多元迴歸分析"
   ]
  },
  {
   "cell_type": "code",
   "execution_count": 90,
   "metadata": {},
   "outputs": [],
   "source": [
    "import pandas\n",
    "df = pandas.read_csv('https://raw.githubusercontent.com/ywchiu/tibamepy/master/data/house-prices.csv')"
   ]
  },
  {
   "cell_type": "code",
   "execution_count": 91,
   "metadata": {},
   "outputs": [
    {
     "data": {
      "text/html": [
       "<div>\n",
       "<style scoped>\n",
       "    .dataframe tbody tr th:only-of-type {\n",
       "        vertical-align: middle;\n",
       "    }\n",
       "\n",
       "    .dataframe tbody tr th {\n",
       "        vertical-align: top;\n",
       "    }\n",
       "\n",
       "    .dataframe thead th {\n",
       "        text-align: right;\n",
       "    }\n",
       "</style>\n",
       "<table border=\"1\" class=\"dataframe\">\n",
       "  <thead>\n",
       "    <tr style=\"text-align: right;\">\n",
       "      <th></th>\n",
       "      <th>Home</th>\n",
       "      <th>Price</th>\n",
       "      <th>SqFt</th>\n",
       "      <th>Bedrooms</th>\n",
       "      <th>Bathrooms</th>\n",
       "      <th>Offers</th>\n",
       "      <th>Brick</th>\n",
       "      <th>Neighborhood</th>\n",
       "    </tr>\n",
       "  </thead>\n",
       "  <tbody>\n",
       "    <tr>\n",
       "      <th>0</th>\n",
       "      <td>1</td>\n",
       "      <td>114300</td>\n",
       "      <td>1790</td>\n",
       "      <td>2</td>\n",
       "      <td>2</td>\n",
       "      <td>2</td>\n",
       "      <td>No</td>\n",
       "      <td>East</td>\n",
       "    </tr>\n",
       "    <tr>\n",
       "      <th>1</th>\n",
       "      <td>2</td>\n",
       "      <td>114200</td>\n",
       "      <td>2030</td>\n",
       "      <td>4</td>\n",
       "      <td>2</td>\n",
       "      <td>3</td>\n",
       "      <td>No</td>\n",
       "      <td>East</td>\n",
       "    </tr>\n",
       "    <tr>\n",
       "      <th>2</th>\n",
       "      <td>3</td>\n",
       "      <td>114800</td>\n",
       "      <td>1740</td>\n",
       "      <td>3</td>\n",
       "      <td>2</td>\n",
       "      <td>1</td>\n",
       "      <td>No</td>\n",
       "      <td>East</td>\n",
       "    </tr>\n",
       "    <tr>\n",
       "      <th>3</th>\n",
       "      <td>4</td>\n",
       "      <td>94700</td>\n",
       "      <td>1980</td>\n",
       "      <td>3</td>\n",
       "      <td>2</td>\n",
       "      <td>3</td>\n",
       "      <td>No</td>\n",
       "      <td>East</td>\n",
       "    </tr>\n",
       "    <tr>\n",
       "      <th>4</th>\n",
       "      <td>5</td>\n",
       "      <td>119800</td>\n",
       "      <td>2130</td>\n",
       "      <td>3</td>\n",
       "      <td>3</td>\n",
       "      <td>3</td>\n",
       "      <td>No</td>\n",
       "      <td>East</td>\n",
       "    </tr>\n",
       "  </tbody>\n",
       "</table>\n",
       "</div>"
      ],
      "text/plain": [
       "   Home   Price  SqFt  Bedrooms  Bathrooms  Offers Brick Neighborhood\n",
       "0     1  114300  1790         2          2       2    No         East\n",
       "1     2  114200  2030         4          2       3    No         East\n",
       "2     3  114800  1740         3          2       1    No         East\n",
       "3     4   94700  1980         3          2       3    No         East\n",
       "4     5  119800  2130         3          3       3    No         East"
      ]
     },
     "execution_count": 91,
     "metadata": {},
     "output_type": "execute_result"
    }
   ],
   "source": [
    "df.head()"
   ]
  },
  {
   "cell_type": "code",
   "execution_count": 94,
   "metadata": {},
   "outputs": [],
   "source": [
    "brick = pandas.get_dummies(df['Brick'])"
   ]
  },
  {
   "cell_type": "code",
   "execution_count": 97,
   "metadata": {},
   "outputs": [],
   "source": [
    "df = pandas.concat([df, brick], axis = 1)\n",
    "del df['No']\n",
    "del df['Brick']"
   ]
  },
  {
   "cell_type": "code",
   "execution_count": 98,
   "metadata": {},
   "outputs": [
    {
     "data": {
      "text/html": [
       "<div>\n",
       "<style scoped>\n",
       "    .dataframe tbody tr th:only-of-type {\n",
       "        vertical-align: middle;\n",
       "    }\n",
       "\n",
       "    .dataframe tbody tr th {\n",
       "        vertical-align: top;\n",
       "    }\n",
       "\n",
       "    .dataframe thead th {\n",
       "        text-align: right;\n",
       "    }\n",
       "</style>\n",
       "<table border=\"1\" class=\"dataframe\">\n",
       "  <thead>\n",
       "    <tr style=\"text-align: right;\">\n",
       "      <th></th>\n",
       "      <th>Home</th>\n",
       "      <th>Price</th>\n",
       "      <th>SqFt</th>\n",
       "      <th>Bedrooms</th>\n",
       "      <th>Bathrooms</th>\n",
       "      <th>Offers</th>\n",
       "      <th>Neighborhood</th>\n",
       "      <th>Yes</th>\n",
       "    </tr>\n",
       "  </thead>\n",
       "  <tbody>\n",
       "    <tr>\n",
       "      <th>0</th>\n",
       "      <td>1</td>\n",
       "      <td>114300</td>\n",
       "      <td>1790</td>\n",
       "      <td>2</td>\n",
       "      <td>2</td>\n",
       "      <td>2</td>\n",
       "      <td>East</td>\n",
       "      <td>0</td>\n",
       "    </tr>\n",
       "    <tr>\n",
       "      <th>1</th>\n",
       "      <td>2</td>\n",
       "      <td>114200</td>\n",
       "      <td>2030</td>\n",
       "      <td>4</td>\n",
       "      <td>2</td>\n",
       "      <td>3</td>\n",
       "      <td>East</td>\n",
       "      <td>0</td>\n",
       "    </tr>\n",
       "    <tr>\n",
       "      <th>2</th>\n",
       "      <td>3</td>\n",
       "      <td>114800</td>\n",
       "      <td>1740</td>\n",
       "      <td>3</td>\n",
       "      <td>2</td>\n",
       "      <td>1</td>\n",
       "      <td>East</td>\n",
       "      <td>0</td>\n",
       "    </tr>\n",
       "    <tr>\n",
       "      <th>3</th>\n",
       "      <td>4</td>\n",
       "      <td>94700</td>\n",
       "      <td>1980</td>\n",
       "      <td>3</td>\n",
       "      <td>2</td>\n",
       "      <td>3</td>\n",
       "      <td>East</td>\n",
       "      <td>0</td>\n",
       "    </tr>\n",
       "    <tr>\n",
       "      <th>4</th>\n",
       "      <td>5</td>\n",
       "      <td>119800</td>\n",
       "      <td>2130</td>\n",
       "      <td>3</td>\n",
       "      <td>3</td>\n",
       "      <td>3</td>\n",
       "      <td>East</td>\n",
       "      <td>0</td>\n",
       "    </tr>\n",
       "  </tbody>\n",
       "</table>\n",
       "</div>"
      ],
      "text/plain": [
       "   Home   Price  SqFt  Bedrooms  Bathrooms  Offers Neighborhood  Yes\n",
       "0     1  114300  1790         2          2       2         East    0\n",
       "1     2  114200  2030         4          2       3         East    0\n",
       "2     3  114800  1740         3          2       1         East    0\n",
       "3     4   94700  1980         3          2       3         East    0\n",
       "4     5  119800  2130         3          3       3         East    0"
      ]
     },
     "execution_count": 98,
     "metadata": {},
     "output_type": "execute_result"
    }
   ],
   "source": [
    "df.head()"
   ]
  },
  {
   "cell_type": "code",
   "execution_count": 99,
   "metadata": {},
   "outputs": [
    {
     "data": {
      "text/plain": [
       "array(['East', 'North', 'West'], dtype=object)"
      ]
     },
     "execution_count": 99,
     "metadata": {},
     "output_type": "execute_result"
    }
   ],
   "source": [
    "df['Neighborhood'].unique()"
   ]
  },
  {
   "cell_type": "code",
   "execution_count": 100,
   "metadata": {},
   "outputs": [],
   "source": [
    "neighbor = pandas.get_dummies(df['Neighborhood'])"
   ]
  },
  {
   "cell_type": "code",
   "execution_count": 102,
   "metadata": {},
   "outputs": [],
   "source": [
    "house = pandas.concat([df, neighbor],axis = 1)"
   ]
  },
  {
   "cell_type": "code",
   "execution_count": 103,
   "metadata": {},
   "outputs": [
    {
     "data": {
      "text/html": [
       "<div>\n",
       "<style scoped>\n",
       "    .dataframe tbody tr th:only-of-type {\n",
       "        vertical-align: middle;\n",
       "    }\n",
       "\n",
       "    .dataframe tbody tr th {\n",
       "        vertical-align: top;\n",
       "    }\n",
       "\n",
       "    .dataframe thead th {\n",
       "        text-align: right;\n",
       "    }\n",
       "</style>\n",
       "<table border=\"1\" class=\"dataframe\">\n",
       "  <thead>\n",
       "    <tr style=\"text-align: right;\">\n",
       "      <th></th>\n",
       "      <th>Home</th>\n",
       "      <th>Price</th>\n",
       "      <th>SqFt</th>\n",
       "      <th>Bedrooms</th>\n",
       "      <th>Bathrooms</th>\n",
       "      <th>Offers</th>\n",
       "      <th>Neighborhood</th>\n",
       "      <th>Yes</th>\n",
       "      <th>East</th>\n",
       "      <th>North</th>\n",
       "      <th>West</th>\n",
       "    </tr>\n",
       "  </thead>\n",
       "  <tbody>\n",
       "    <tr>\n",
       "      <th>0</th>\n",
       "      <td>1</td>\n",
       "      <td>114300</td>\n",
       "      <td>1790</td>\n",
       "      <td>2</td>\n",
       "      <td>2</td>\n",
       "      <td>2</td>\n",
       "      <td>East</td>\n",
       "      <td>0</td>\n",
       "      <td>1</td>\n",
       "      <td>0</td>\n",
       "      <td>0</td>\n",
       "    </tr>\n",
       "    <tr>\n",
       "      <th>1</th>\n",
       "      <td>2</td>\n",
       "      <td>114200</td>\n",
       "      <td>2030</td>\n",
       "      <td>4</td>\n",
       "      <td>2</td>\n",
       "      <td>3</td>\n",
       "      <td>East</td>\n",
       "      <td>0</td>\n",
       "      <td>1</td>\n",
       "      <td>0</td>\n",
       "      <td>0</td>\n",
       "    </tr>\n",
       "    <tr>\n",
       "      <th>2</th>\n",
       "      <td>3</td>\n",
       "      <td>114800</td>\n",
       "      <td>1740</td>\n",
       "      <td>3</td>\n",
       "      <td>2</td>\n",
       "      <td>1</td>\n",
       "      <td>East</td>\n",
       "      <td>0</td>\n",
       "      <td>1</td>\n",
       "      <td>0</td>\n",
       "      <td>0</td>\n",
       "    </tr>\n",
       "    <tr>\n",
       "      <th>3</th>\n",
       "      <td>4</td>\n",
       "      <td>94700</td>\n",
       "      <td>1980</td>\n",
       "      <td>3</td>\n",
       "      <td>2</td>\n",
       "      <td>3</td>\n",
       "      <td>East</td>\n",
       "      <td>0</td>\n",
       "      <td>1</td>\n",
       "      <td>0</td>\n",
       "      <td>0</td>\n",
       "    </tr>\n",
       "    <tr>\n",
       "      <th>4</th>\n",
       "      <td>5</td>\n",
       "      <td>119800</td>\n",
       "      <td>2130</td>\n",
       "      <td>3</td>\n",
       "      <td>3</td>\n",
       "      <td>3</td>\n",
       "      <td>East</td>\n",
       "      <td>0</td>\n",
       "      <td>1</td>\n",
       "      <td>0</td>\n",
       "      <td>0</td>\n",
       "    </tr>\n",
       "  </tbody>\n",
       "</table>\n",
       "</div>"
      ],
      "text/plain": [
       "   Home   Price  SqFt  Bedrooms  Bathrooms  Offers Neighborhood  Yes  East  \\\n",
       "0     1  114300  1790         2          2       2         East    0     1   \n",
       "1     2  114200  2030         4          2       3         East    0     1   \n",
       "2     3  114800  1740         3          2       1         East    0     1   \n",
       "3     4   94700  1980         3          2       3         East    0     1   \n",
       "4     5  119800  2130         3          3       3         East    0     1   \n",
       "\n",
       "   North  West  \n",
       "0      0     0  \n",
       "1      0     0  \n",
       "2      0     0  \n",
       "3      0     0  \n",
       "4      0     0  "
      ]
     },
     "execution_count": 103,
     "metadata": {},
     "output_type": "execute_result"
    }
   ],
   "source": [
    "house.head()"
   ]
  },
  {
   "cell_type": "code",
   "execution_count": 104,
   "metadata": {},
   "outputs": [],
   "source": [
    "del house['West']\n",
    "del house['Neighborhood']"
   ]
  },
  {
   "cell_type": "code",
   "execution_count": 105,
   "metadata": {},
   "outputs": [
    {
     "data": {
      "text/html": [
       "<div>\n",
       "<style scoped>\n",
       "    .dataframe tbody tr th:only-of-type {\n",
       "        vertical-align: middle;\n",
       "    }\n",
       "\n",
       "    .dataframe tbody tr th {\n",
       "        vertical-align: top;\n",
       "    }\n",
       "\n",
       "    .dataframe thead th {\n",
       "        text-align: right;\n",
       "    }\n",
       "</style>\n",
       "<table border=\"1\" class=\"dataframe\">\n",
       "  <thead>\n",
       "    <tr style=\"text-align: right;\">\n",
       "      <th></th>\n",
       "      <th>Home</th>\n",
       "      <th>Price</th>\n",
       "      <th>SqFt</th>\n",
       "      <th>Bedrooms</th>\n",
       "      <th>Bathrooms</th>\n",
       "      <th>Offers</th>\n",
       "      <th>Yes</th>\n",
       "      <th>East</th>\n",
       "      <th>North</th>\n",
       "    </tr>\n",
       "  </thead>\n",
       "  <tbody>\n",
       "    <tr>\n",
       "      <th>0</th>\n",
       "      <td>1</td>\n",
       "      <td>114300</td>\n",
       "      <td>1790</td>\n",
       "      <td>2</td>\n",
       "      <td>2</td>\n",
       "      <td>2</td>\n",
       "      <td>0</td>\n",
       "      <td>1</td>\n",
       "      <td>0</td>\n",
       "    </tr>\n",
       "    <tr>\n",
       "      <th>1</th>\n",
       "      <td>2</td>\n",
       "      <td>114200</td>\n",
       "      <td>2030</td>\n",
       "      <td>4</td>\n",
       "      <td>2</td>\n",
       "      <td>3</td>\n",
       "      <td>0</td>\n",
       "      <td>1</td>\n",
       "      <td>0</td>\n",
       "    </tr>\n",
       "    <tr>\n",
       "      <th>2</th>\n",
       "      <td>3</td>\n",
       "      <td>114800</td>\n",
       "      <td>1740</td>\n",
       "      <td>3</td>\n",
       "      <td>2</td>\n",
       "      <td>1</td>\n",
       "      <td>0</td>\n",
       "      <td>1</td>\n",
       "      <td>0</td>\n",
       "    </tr>\n",
       "    <tr>\n",
       "      <th>3</th>\n",
       "      <td>4</td>\n",
       "      <td>94700</td>\n",
       "      <td>1980</td>\n",
       "      <td>3</td>\n",
       "      <td>2</td>\n",
       "      <td>3</td>\n",
       "      <td>0</td>\n",
       "      <td>1</td>\n",
       "      <td>0</td>\n",
       "    </tr>\n",
       "    <tr>\n",
       "      <th>4</th>\n",
       "      <td>5</td>\n",
       "      <td>119800</td>\n",
       "      <td>2130</td>\n",
       "      <td>3</td>\n",
       "      <td>3</td>\n",
       "      <td>3</td>\n",
       "      <td>0</td>\n",
       "      <td>1</td>\n",
       "      <td>0</td>\n",
       "    </tr>\n",
       "  </tbody>\n",
       "</table>\n",
       "</div>"
      ],
      "text/plain": [
       "   Home   Price  SqFt  Bedrooms  Bathrooms  Offers  Yes  East  North\n",
       "0     1  114300  1790         2          2       2    0     1      0\n",
       "1     2  114200  2030         4          2       3    0     1      0\n",
       "2     3  114800  1740         3          2       1    0     1      0\n",
       "3     4   94700  1980         3          2       3    0     1      0\n",
       "4     5  119800  2130         3          3       3    0     1      0"
      ]
     },
     "execution_count": 105,
     "metadata": {},
     "output_type": "execute_result"
    }
   ],
   "source": [
    "house.head()"
   ]
  },
  {
   "cell_type": "code",
   "execution_count": 106,
   "metadata": {},
   "outputs": [
    {
     "name": "stdout",
     "output_type": "stream",
     "text": [
      "<class 'pandas.core.frame.DataFrame'>\n",
      "RangeIndex: 128 entries, 0 to 127\n",
      "Data columns (total 9 columns):\n",
      "Home         128 non-null int64\n",
      "Price        128 non-null int64\n",
      "SqFt         128 non-null int64\n",
      "Bedrooms     128 non-null int64\n",
      "Bathrooms    128 non-null int64\n",
      "Offers       128 non-null int64\n",
      "Yes          128 non-null uint8\n",
      "East         128 non-null uint8\n",
      "North        128 non-null uint8\n",
      "dtypes: int64(6), uint8(3)\n",
      "memory usage: 6.5 KB\n"
     ]
    }
   ],
   "source": [
    "house.info()"
   ]
  },
  {
   "cell_type": "code",
   "execution_count": 107,
   "metadata": {},
   "outputs": [
    {
     "data": {
      "text/plain": [
       "LinearRegression(copy_X=True, fit_intercept=True, n_jobs=None,\n",
       "         normalize=False)"
      ]
     },
     "execution_count": 107,
     "metadata": {},
     "output_type": "execute_result"
    }
   ],
   "source": [
    "from sklearn.linear_model import LinearRegression\n",
    "\n",
    "regr = LinearRegression()\n",
    "\n",
    "X = house[['SqFt', 'Bedrooms', 'Bathrooms', 'Offers', 'Yes','East','North']]\n",
    "Y = house['Price'].values\n",
    "\n",
    "regr.fit(X,Y)"
   ]
  },
  {
   "cell_type": "code",
   "execution_count": 109,
   "metadata": {},
   "outputs": [
    {
     "data": {
      "text/plain": [
       "array([103182.88325028, 116127.48050967, 113047.47841973])"
      ]
     },
     "execution_count": 109,
     "metadata": {},
     "output_type": "execute_result"
    }
   ],
   "source": [
    "regr.predict(X)[0:3]"
   ]
  },
  {
   "cell_type": "code",
   "execution_count": 110,
   "metadata": {},
   "outputs": [
    {
     "name": "stdout",
     "output_type": "stream",
     "text": [
      "                            OLS Regression Results                            \n",
      "==============================================================================\n",
      "Dep. Variable:                      y   R-squared:                       0.869\n",
      "Model:                            OLS   Adj. R-squared:                  0.861\n",
      "Method:                 Least Squares   F-statistic:                     113.3\n",
      "Date:                Sun, 30 Jun 2019   Prob (F-statistic):           8.25e-50\n",
      "Time:                        16:54:32   Log-Likelihood:                -1356.7\n",
      "No. Observations:                 128   AIC:                             2729.\n",
      "Df Residuals:                     120   BIC:                             2752.\n",
      "Df Model:                           7                                         \n",
      "Covariance Type:            nonrobust                                         \n",
      "==============================================================================\n",
      "                 coef    std err          t      P>|t|      [0.025      0.975]\n",
      "------------------------------------------------------------------------------\n",
      "const       2.284e+04   1.02e+04      2.231      0.028    2573.371    4.31e+04\n",
      "SqFt          52.9937      5.734      9.242      0.000      41.640      64.347\n",
      "Bedrooms    4246.7939   1597.911      2.658      0.009    1083.042    7410.546\n",
      "Bathrooms   7883.2785   2117.035      3.724      0.000    3691.696    1.21e+04\n",
      "Offers     -8267.4883   1084.777     -7.621      0.000   -1.04e+04   -6119.706\n",
      "Yes          1.73e+04   1981.616      8.729      0.000    1.34e+04    2.12e+04\n",
      "East       -2.224e+04   2531.758     -8.785      0.000   -2.73e+04   -1.72e+04\n",
      "North      -2.068e+04   3148.954     -6.568      0.000   -2.69e+04   -1.44e+04\n",
      "==============================================================================\n",
      "Omnibus:                        3.026   Durbin-Watson:                   1.921\n",
      "Prob(Omnibus):                  0.220   Jarque-Bera (JB):                2.483\n",
      "Skew:                           0.268   Prob(JB):                        0.289\n",
      "Kurtosis:                       3.421   Cond. No.                     2.38e+04\n",
      "==============================================================================\n",
      "\n",
      "Warnings:\n",
      "[1] Standard Errors assume that the covariance matrix of the errors is correctly specified.\n",
      "[2] The condition number is large, 2.38e+04. This might indicate that there are\n",
      "strong multicollinearity or other numerical problems.\n"
     ]
    },
    {
     "name": "stderr",
     "output_type": "stream",
     "text": [
      "C:\\ProgramData\\Anaconda3\\lib\\site-packages\\numpy\\core\\fromnumeric.py:2389: FutureWarning:\n",
      "\n",
      "Method .ptp is deprecated and will be removed in a future version. Use numpy.ptp instead.\n",
      "\n"
     ]
    }
   ],
   "source": [
    "import statsmodels.api as sm\n",
    "X2  = sm.add_constant(X)\n",
    "est = sm.OLS(Y, X2)\n",
    "est2 = est.fit()\n",
    "print(est2.summary())"
   ]
  },
  {
   "cell_type": "code",
   "execution_count": 113,
   "metadata": {},
   "outputs": [
    {
     "data": {
      "text/plain": [
       "[('a', 'b'), ('a', 'c'), ('b', 'c')]"
      ]
     },
     "execution_count": 113,
     "metadata": {},
     "output_type": "execute_result"
    }
   ],
   "source": [
    "import itertools\n",
    "list(itertools.combinations(['a','b', 'c'], 2))"
   ]
  },
  {
   "cell_type": "code",
   "execution_count": 114,
   "metadata": {},
   "outputs": [
    {
     "data": {
      "text/plain": [
       "Index(['SqFt', 'Bedrooms', 'Bathrooms', 'Offers', 'Yes', 'East', 'North'], dtype='object')"
      ]
     },
     "execution_count": 114,
     "metadata": {},
     "output_type": "execute_result"
    }
   ],
   "source": [
    "X.columns"
   ]
  },
  {
   "cell_type": "code",
   "execution_count": 115,
   "metadata": {},
   "outputs": [],
   "source": [
    "predictorcols = X.columns"
   ]
  },
  {
   "cell_type": "code",
   "execution_count": 116,
   "metadata": {},
   "outputs": [],
   "source": [
    "import itertools\n",
    "AICs = {}\n",
    "for k in range(1,len(predictorcols)+1):\n",
    "    for variables in itertools.combinations(predictorcols, k):\n",
    "        predictors = X[list(variables)]\n",
    "        predictors2 = sm.add_constant(predictors)\n",
    "        est = sm.OLS(Y, predictors2)\n",
    "        res = est.fit()\n",
    "        AICs[variables] = res.aic"
   ]
  },
  {
   "cell_type": "code",
   "execution_count": 120,
   "metadata": {},
   "outputs": [
    {
     "data": {
      "text/plain": [
       "[(('SqFt', 'Bedrooms', 'Bathrooms', 'Offers', 'Yes', 'East', 'North'),\n",
       "  2729.3189814012494),\n",
       " (('SqFt', 'Bathrooms', 'Offers', 'Yes', 'East', 'North'), 2734.639925628371),\n",
       " (('SqFt', 'Bedrooms', 'Offers', 'Yes', 'East', 'North'), 2741.3156609981506)]"
      ]
     },
     "execution_count": 120,
     "metadata": {},
     "output_type": "execute_result"
    }
   ],
   "source": [
    "from collections import Counter\n",
    "c = Counter(AICs)\n",
    "c.most_common()[::-1][0:3]\n"
   ]
  },
  {
   "cell_type": "markdown",
   "metadata": {},
   "source": [
    "## 預測591 房價"
   ]
  },
  {
   "cell_type": "code",
   "execution_count": 123,
   "metadata": {},
   "outputs": [
    {
     "data": {
      "text/html": [
       "<div>\n",
       "<style scoped>\n",
       "    .dataframe tbody tr th:only-of-type {\n",
       "        vertical-align: middle;\n",
       "    }\n",
       "\n",
       "    .dataframe tbody tr th {\n",
       "        vertical-align: top;\n",
       "    }\n",
       "\n",
       "    .dataframe thead th {\n",
       "        text-align: right;\n",
       "    }\n",
       "</style>\n",
       "<table border=\"1\" class=\"dataframe\">\n",
       "  <thead>\n",
       "    <tr style=\"text-align: right;\">\n",
       "      <th></th>\n",
       "      <th>address</th>\n",
       "      <th>floor</th>\n",
       "      <th>allfloor</th>\n",
       "      <th>area</th>\n",
       "      <th>price</th>\n",
       "      <th>browsenum_all</th>\n",
       "      <th>layout_bedroom</th>\n",
       "      <th>layout_livingroom</th>\n",
       "      <th>layout_bathroom</th>\n",
       "    </tr>\n",
       "  </thead>\n",
       "  <tbody>\n",
       "    <tr>\n",
       "      <th>0</th>\n",
       "      <td>忠孝東路四段181巷東區靜..</td>\n",
       "      <td>2</td>\n",
       "      <td>5</td>\n",
       "      <td>33.5</td>\n",
       "      <td>40000</td>\n",
       "      <td>526</td>\n",
       "      <td>2</td>\n",
       "      <td>0</td>\n",
       "      <td>1</td>\n",
       "    </tr>\n",
       "    <tr>\n",
       "      <th>1</th>\n",
       "      <td>復興南路160巷精華地段雙..</td>\n",
       "      <td>2</td>\n",
       "      <td>15</td>\n",
       "      <td>28.0</td>\n",
       "      <td>43800</td>\n",
       "      <td>723</td>\n",
       "      <td>2</td>\n",
       "      <td>1</td>\n",
       "      <td>1</td>\n",
       "    </tr>\n",
       "    <tr>\n",
       "      <th>2</th>\n",
       "      <td>臥龍街前眺101後擁山景,..</td>\n",
       "      <td>11</td>\n",
       "      <td>12</td>\n",
       "      <td>69.0</td>\n",
       "      <td>90000</td>\n",
       "      <td>670</td>\n",
       "      <td>3</td>\n",
       "      <td>2</td>\n",
       "      <td>2</td>\n",
       "    </tr>\n",
       "    <tr>\n",
       "      <th>3</th>\n",
       "      <td>光復南路高樓層大巨蛋正對..</td>\n",
       "      <td>10</td>\n",
       "      <td>13</td>\n",
       "      <td>71.3</td>\n",
       "      <td>130000</td>\n",
       "      <td>2513</td>\n",
       "      <td>4</td>\n",
       "      <td>2</td>\n",
       "      <td>2</td>\n",
       "    </tr>\n",
       "    <tr>\n",
       "      <th>4</th>\n",
       "      <td>信義路三段台北大安森林公..</td>\n",
       "      <td>12</td>\n",
       "      <td>14</td>\n",
       "      <td>11.0</td>\n",
       "      <td>36000</td>\n",
       "      <td>3555</td>\n",
       "      <td>1</td>\n",
       "      <td>2</td>\n",
       "      <td>1</td>\n",
       "    </tr>\n",
       "  </tbody>\n",
       "</table>\n",
       "</div>"
      ],
      "text/plain": [
       "           address  floor  allfloor  area   price  browsenum_all  \\\n",
       "0  忠孝東路四段181巷東區靜..      2         5  33.5   40000            526   \n",
       "1  復興南路160巷精華地段雙..      2        15  28.0   43800            723   \n",
       "2  臥龍街前眺101後擁山景,..     11        12  69.0   90000            670   \n",
       "3   光復南路高樓層大巨蛋正對..     10        13  71.3  130000           2513   \n",
       "4   信義路三段台北大安森林公..     12        14  11.0   36000           3555   \n",
       "\n",
       "   layout_bedroom  layout_livingroom  layout_bathroom  \n",
       "0               2                  0                1  \n",
       "1               2                  1                1  \n",
       "2               3                  2                2  \n",
       "3               4                  2                2  \n",
       "4               1                  2                1  "
      ]
     },
     "execution_count": 123,
     "metadata": {},
     "output_type": "execute_result"
    }
   ],
   "source": [
    "import pandas\n",
    "df = pandas.read_excel('https://raw.githubusercontent.com/ywchiu/transglobepy/master/data/rent591.xlsx', index_col = 0)\n",
    "df.head()"
   ]
  },
  {
   "cell_type": "code",
   "execution_count": 124,
   "metadata": {},
   "outputs": [
    {
     "data": {
      "text/plain": [
       "Index(['address', 'floor', 'allfloor', 'area', 'price', 'browsenum_all',\n",
       "       'layout_bedroom', 'layout_livingroom', 'layout_bathroom'],\n",
       "      dtype='object')"
      ]
     },
     "execution_count": 124,
     "metadata": {},
     "output_type": "execute_result"
    }
   ],
   "source": [
    "df.columns"
   ]
  },
  {
   "cell_type": "code",
   "execution_count": 127,
   "metadata": {},
   "outputs": [],
   "source": [
    "X = df[['floor', 'allfloor', 'area', 'layout_bedroom', 'layout_livingroom', 'layout_bathroom']]\n",
    "Y = df['price']\n"
   ]
  },
  {
   "cell_type": "code",
   "execution_count": 129,
   "metadata": {},
   "outputs": [
    {
     "name": "stdout",
     "output_type": "stream",
     "text": [
      "                            OLS Regression Results                            \n",
      "==============================================================================\n",
      "Dep. Variable:                  price   R-squared:                       0.728\n",
      "Model:                            OLS   Adj. R-squared:                  0.726\n",
      "Method:                 Least Squares   F-statistic:                     353.3\n",
      "Date:                Sun, 30 Jun 2019   Prob (F-statistic):          9.22e-220\n",
      "Time:                        17:18:57   Log-Likelihood:                -9135.0\n",
      "No. Observations:                 797   AIC:                         1.828e+04\n",
      "Df Residuals:                     790   BIC:                         1.832e+04\n",
      "Df Model:                           6                                         \n",
      "Covariance Type:            nonrobust                                         \n",
      "=====================================================================================\n",
      "                        coef    std err          t      P>|t|      [0.025      0.975]\n",
      "-------------------------------------------------------------------------------------\n",
      "const             -9907.7513   3448.205     -2.873      0.004   -1.67e+04   -3139.023\n",
      "floor               230.7293     99.580      2.317      0.021      35.256     426.202\n",
      "allfloor            127.2117    170.375      0.747      0.455    -207.229     461.652\n",
      "area               1585.1395     61.164     25.916      0.000    1465.076    1705.203\n",
      "layout_bedroom    -5748.7079   1218.784     -4.717      0.000   -8141.147   -3356.269\n",
      "layout_livingroom  5968.8110   2175.900      2.743      0.006    1697.582    1.02e+04\n",
      "layout_bathroom    8252.2264   1830.796      4.507      0.000    4658.426    1.18e+04\n",
      "==============================================================================\n",
      "Omnibus:                      129.765   Durbin-Watson:                   1.823\n",
      "Prob(Omnibus):                  0.000   Jarque-Bera (JB):              297.584\n",
      "Skew:                           0.888   Prob(JB):                     2.40e-65\n",
      "Kurtosis:                       5.410   Cond. No.                         226.\n",
      "==============================================================================\n",
      "\n",
      "Warnings:\n",
      "[1] Standard Errors assume that the covariance matrix of the errors is correctly specified.\n"
     ]
    }
   ],
   "source": [
    "import statsmodels.api as sm\n",
    "X2  = sm.add_constant(X)\n",
    "est = sm.OLS(Y, X2)\n",
    "est2 = est.fit()\n",
    "print(est2.summary())"
   ]
  },
  {
   "cell_type": "code",
   "execution_count": 130,
   "metadata": {},
   "outputs": [],
   "source": [
    "predictorcols = X.columns"
   ]
  },
  {
   "cell_type": "code",
   "execution_count": 131,
   "metadata": {},
   "outputs": [],
   "source": [
    "import itertools\n",
    "AICs = {}\n",
    "for k in range(1,len(predictorcols)+1):\n",
    "    for variables in itertools.combinations(predictorcols, k):\n",
    "        predictors = X[list(variables)]\n",
    "        predictors2 = sm.add_constant(predictors)\n",
    "        est = sm.OLS(Y, predictors2)\n",
    "        res = est.fit()\n",
    "        AICs[variables] = res.aic"
   ]
  },
  {
   "cell_type": "code",
   "execution_count": 132,
   "metadata": {},
   "outputs": [
    {
     "data": {
      "text/plain": [
       "[(('floor', 'area', 'layout_bedroom', 'layout_livingroom', 'layout_bathroom'),\n",
       "  18282.524248602756),\n",
       " (('floor',\n",
       "   'allfloor',\n",
       "   'area',\n",
       "   'layout_bedroom',\n",
       "   'layout_livingroom',\n",
       "   'layout_bathroom'),\n",
       "  18283.962007377573),\n",
       " (('area', 'layout_bedroom', 'layout_livingroom', 'layout_bathroom'),\n",
       "  18287.05863078968)]"
      ]
     },
     "execution_count": 132,
     "metadata": {},
     "output_type": "execute_result"
    }
   ],
   "source": [
    "from collections import Counter\n",
    "c = Counter(AICs)\n",
    "c.most_common()[::-1][0:3]\n"
   ]
  },
  {
   "cell_type": "code",
   "execution_count": 134,
   "metadata": {},
   "outputs": [
    {
     "name": "stdout",
     "output_type": "stream",
     "text": [
      "                            OLS Regression Results                            \n",
      "==============================================================================\n",
      "Dep. Variable:                  price   R-squared:                       0.728\n",
      "Model:                            OLS   Adj. R-squared:                  0.727\n",
      "Method:                 Least Squares   F-statistic:                     424.1\n",
      "Date:                Sun, 30 Jun 2019   Prob (F-statistic):          5.62e-221\n",
      "Time:                        17:20:36   Log-Likelihood:                -9135.3\n",
      "No. Observations:                 797   AIC:                         1.828e+04\n",
      "Df Residuals:                     791   BIC:                         1.831e+04\n",
      "Df Model:                           5                                         \n",
      "Covariance Type:            nonrobust                                         \n",
      "=====================================================================================\n",
      "                        coef    std err          t      P>|t|      [0.025      0.975]\n",
      "-------------------------------------------------------------------------------------\n",
      "const             -8987.6649   3219.600     -2.792      0.005   -1.53e+04   -2667.694\n",
      "floor               247.4966     96.988      2.552      0.011      57.113     437.881\n",
      "area               1597.9102     58.707     27.218      0.000    1482.669    1713.151\n",
      "layout_bedroom    -5788.9764   1217.250     -4.756      0.000   -8178.399   -3399.554\n",
      "layout_livingroom  5954.0693   2175.202      2.737      0.006    1684.219    1.02e+04\n",
      "layout_bathroom    8252.3705   1830.284      4.509      0.000    4659.583    1.18e+04\n",
      "==============================================================================\n",
      "Omnibus:                      129.879   Durbin-Watson:                   1.827\n",
      "Prob(Omnibus):                  0.000   Jarque-Bera (JB):              298.329\n",
      "Skew:                           0.888   Prob(JB):                     1.65e-65\n",
      "Kurtosis:                       5.415   Cond. No.                         210.\n",
      "==============================================================================\n",
      "\n",
      "Warnings:\n",
      "[1] Standard Errors assume that the covariance matrix of the errors is correctly specified.\n"
     ]
    }
   ],
   "source": [
    "import statsmodels.api as sm\n",
    "X = df[['floor', 'area', 'layout_bedroom', 'layout_livingroom', 'layout_bathroom']]\n",
    "Y = df['price']\n",
    " \n",
    "X2  = sm.add_constant(X)\n",
    "est = sm.OLS(Y, X2)\n",
    "est2 = est.fit()\n",
    "print(est2.summary())"
   ]
  },
  {
   "cell_type": "code",
   "execution_count": 135,
   "metadata": {},
   "outputs": [
    {
     "data": {
      "text/plain": [
       "LinearRegression(copy_X=True, fit_intercept=True, n_jobs=None,\n",
       "         normalize=False)"
      ]
     },
     "execution_count": 135,
     "metadata": {},
     "output_type": "execute_result"
    }
   ],
   "source": [
    "from sklearn.linear_model import LinearRegression\n",
    "X = df[['floor', 'area', 'layout_bedroom', 'layout_livingroom', 'layout_bathroom']]\n",
    "Y = df['price']\n",
    "clf = LinearRegression()\n",
    "clf.fit(X,Y)"
   ]
  },
  {
   "cell_type": "code",
   "execution_count": 137,
   "metadata": {},
   "outputs": [
    {
     "data": {
      "text/plain": [
       "528864967.4438539"
      ]
     },
     "execution_count": 137,
     "metadata": {},
     "output_type": "execute_result"
    }
   ],
   "source": [
    "from sklearn.metrics import mean_squared_error\n",
    "mean_squared_error(Y, clf.predict(X))"
   ]
  },
  {
   "cell_type": "code",
   "execution_count": 138,
   "metadata": {},
   "outputs": [
    {
     "name": "stderr",
     "output_type": "stream",
     "text": [
      "C:\\ProgramData\\Anaconda3\\lib\\site-packages\\sklearn\\ensemble\\forest.py:246: FutureWarning:\n",
      "\n",
      "The default value of n_estimators will change from 10 in version 0.20 to 100 in 0.22.\n",
      "\n"
     ]
    },
    {
     "data": {
      "text/plain": [
       "RandomForestRegressor(bootstrap=True, criterion='mse', max_depth=None,\n",
       "           max_features='auto', max_leaf_nodes=None,\n",
       "           min_impurity_decrease=0.0, min_impurity_split=None,\n",
       "           min_samples_leaf=1, min_samples_split=2,\n",
       "           min_weight_fraction_leaf=0.0, n_estimators=10, n_jobs=None,\n",
       "           oob_score=False, random_state=None, verbose=0, warm_start=False)"
      ]
     },
     "execution_count": 138,
     "metadata": {},
     "output_type": "execute_result"
    }
   ],
   "source": [
    "from sklearn.ensemble import RandomForestRegressor\n",
    "X = df[['floor', 'area', 'layout_bedroom', 'layout_livingroom', 'layout_bathroom']]\n",
    "Y = df['price']\n",
    "clf2 = RandomForestRegressor()\n",
    "clf2.fit(X,Y)"
   ]
  },
  {
   "cell_type": "code",
   "execution_count": 139,
   "metadata": {},
   "outputs": [
    {
     "data": {
      "text/plain": [
       "41291628.32154815"
      ]
     },
     "execution_count": 139,
     "metadata": {},
     "output_type": "execute_result"
    }
   ],
   "source": [
    "from sklearn.metrics import mean_squared_error\n",
    "mean_squared_error(Y, clf2.predict(X))"
   ]
  },
  {
   "cell_type": "code",
   "execution_count": 140,
   "metadata": {},
   "outputs": [
    {
     "data": {
      "text/plain": [
       "array([27050.])"
      ]
     },
     "execution_count": 140,
     "metadata": {},
     "output_type": "execute_result"
    }
   ],
   "source": [
    "a = numpy.array([[3,20,2,1,1]])\n",
    "clf2.predict(a)"
   ]
  },
  {
   "cell_type": "code",
   "execution_count": null,
   "metadata": {},
   "outputs": [],
   "source": []
  }
 ],
 "metadata": {
  "kernelspec": {
   "display_name": "Python 3",
   "language": "python",
   "name": "python3"
  },
  "language_info": {
   "codemirror_mode": {
    "name": "ipython",
    "version": 3
   },
   "file_extension": ".py",
   "mimetype": "text/x-python",
   "name": "python",
   "nbconvert_exporter": "python",
   "pygments_lexer": "ipython3",
   "version": "3.7.3"
  }
 },
 "nbformat": 4,
 "nbformat_minor": 2
}
