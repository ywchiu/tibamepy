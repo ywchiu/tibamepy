{
 "cells": [
  {
   "cell_type": "markdown",
   "metadata": {},
   "source": [
    "## 詞頻統計範例"
   ]
  },
  {
   "cell_type": "code",
   "execution_count": 1,
   "metadata": {},
   "outputs": [],
   "source": [
    "speech = '''\n",
    "I am honored to be with you today at your commencement from one of the finest universities in the world. I never graduated from college. Truth be told, this is the closest I’ve ever gotten to a college graduation. Today I want to tell you three stories from my life. That’s it. No big deal. Just three stories.\n",
    "\n",
    "The first story is about connecting the dots.\n",
    "\n",
    "I dropped out of Reed College after the first 6 months, but then stayed around as a drop-in for another 18 months or so before I really quit. So why did I drop out?\n",
    "\n",
    "It started before I was born. My biological mother was a young, unwed college graduate student, and she decided to put me up for adoption. She felt very strongly that I should be adopted by college graduates, so everything was all set for me to be adopted at birth by a lawyer and his wife. Except that when I popped out they decided at the last minute that they really wanted a girl. So my parents, who were on a waiting list, got a call in the middle of the night asking: “We have an unexpected baby boy; do you want him?” They said: “Of course.” My biological mother later found out that my mother had never graduated from college and that my father had never graduated from high school. She refused to sign the final adoption papers. She only relented a few months later when my parents promised that I would someday go to college.\n",
    "\n",
    "And 17 years later I did go to college. But I naively chose a college that was almost as expensive as Stanford, and all of my working-class parents’ savings were being spent on my college tuition. After six months, I couldn’t see the value in it. I had no idea what I wanted to do with my life and no idea how college was going to help me figure it out. And here I was spending all of the money my parents had saved their entire life. So I decided to drop out and trust that it would all work out OK. It was pretty scary at the time, but looking back it was one of the best decisions I ever made. The minute I dropped out I could stop taking the required classes that didn’t interest me, and begin dropping in on the ones that looked interesting.\n",
    "\n",
    "It wasn’t all romantic. I didn’t have a dorm room, so I slept on the floor in friends’ rooms, I returned Coke bottles for the 5¢ deposits to buy food with, and I would walk the 7 miles across town every Sunday night to get one good meal a week at the Hare Krishna temple. I loved it. And much of what I stumbled into by following my curiosity and intuition turned out to be priceless later on. Let me give you one example:\n",
    "\n",
    "Reed College at that time offered perhaps the best calligraphy instruction in the country. Throughout the campus every poster, every label on every drawer, was beautifully hand calligraphed. Because I had dropped out and didn’t have to take the normal classes, I decided to take a calligraphy class to learn how to do this. I learned about serif and sans serif typefaces, about varying the amount of space between different letter combinations, about what makes great typography great. It was beautiful, historical, artistically subtle in a way that science can’t capture, and I found it fascinating.\n",
    "\n",
    "None of this had even a hope of any practical application in my life. But 10 years later, when we were designing the first Macintosh computer, it all came back to me. And we designed it all into the Mac. It was the first computer with beautiful typography. If I had never dropped in on that single course in college, the Mac would have never had multiple typefaces or proportionally spaced fonts. And since Windows just copied the Mac, it’s likely that no personal computer would have them. If I had never dropped out, I would have never dropped in on this calligraphy class, and personal computers might not have the wonderful typography that they do. Of course it was impossible to connect the dots looking forward when I was in college. But it was very, very clear looking backward 10 years later.\n",
    "\n",
    "Again, you can’t connect the dots looking forward; you can only connect them looking backward. So you have to trust that the dots will somehow connect in your future. You have to trust in something — your gut, destiny, life, karma, whatever. This approach has never let me down, and it has made all the difference in my life.\n",
    "\n",
    "My second story is about love and loss.\n",
    "\n",
    "I was lucky — I found what I loved to do early in life. Woz and I started Apple in my parents’ garage when I was 20. We worked hard, and in 10 years Apple had grown from just the two of us in a garage into a $2 billion company with over 4,000 employees. We had just released our finest creation — the Macintosh — a year earlier, and I had just turned 30. And then I got fired. How can you get fired from a company you started? Well, as Apple grew we hired someone who I thought was very talented to run the company with me, and for the first year or so things went well. But then our visions of the future began to diverge and eventually we had a falling out. When we did, our Board of Directors sided with him. So at 30 I was out. And very publicly out. What had been the focus of my entire adult life was gone, and it was devastating.\n",
    "\n",
    "I really didn’t know what to do for a few months. I felt that I had let the previous generation of entrepreneurs down — that I had dropped the baton as it was being passed to me. I met with David Packard and Bob Noyce and tried to apologize for screwing up so badly. I was a very public failure, and I even thought about running away from the valley. But something slowly began to dawn on me — I still loved what I did. The turn of events at Apple had not changed that one bit. I had been rejected, but I was still in love. And so I decided to start over.\n",
    "\n",
    "I didn’t see it then, but it turned out that getting fired from Apple was the best thing that could have ever happened to me. The heaviness of being successful was replaced by the lightness of being a beginner again, less sure about everything. It freed me to enter one of the most creative periods of my life.\n",
    "\n",
    "During the next five years, I started a company named NeXT, another company named Pixar, and fell in love with an amazing woman who would become my wife. Pixar went on to create the world’s first computer animated feature film, Toy Story, and is now the most successful animation studio in the world. In a remarkable turn of events, Apple bought NeXT, I returned to Apple, and the technology we developed at NeXT is at the heart of Apple’s current renaissance. And Laurene and I have a wonderful family together.\n",
    "\n",
    "I’m pretty sure none of this would have happened if I hadn’t been fired from Apple. It was awful tasting medicine, but I guess the patient needed it. Sometimes life hits you in the head with a brick. Don’t lose faith. I’m convinced that the only thing that kept me going was that I loved what I did. You’ve got to find what you love. And that is as true for your work as it is for your lovers. Your work is going to fill a large part of your life, and the only way to be truly satisfied is to do what you believe is great work. And the only way to do great work is to love what you do. If you haven’t found it yet, keep looking. Don’t settle. As with all matters of the heart, you’ll know when you find it. And, like any great relationship, it just gets better and better as the years roll on. So keep looking until you find it. Don’t settle.\n",
    "\n",
    "My third story is about death.\n",
    "\n",
    "When I was 17, I read a quote that went something like: “If you live each day as if it was your last, someday you’ll most certainly be right.” It made an impression on me, and since then, for the past 33 years, I have looked in the mirror every morning and asked myself: “If today were the last day of my life, would I want to do what I am about to do today?” And whenever the answer has been “No” for too many days in a row, I know I need to change something.\n",
    "\n",
    "Remembering that I’ll be dead soon is the most important tool I’ve ever encountered to help me make the big choices in life. Because almost everything — all external expectations, all pride, all fear of embarrassment or failure — these things just fall away in the face of death, leaving only what is truly important. Remembering that you are going to die is the best way I know to avoid the trap of thinking you have something to lose. You are already naked. There is no reason not to follow your heart.\n",
    "\n",
    "About a year ago I was diagnosed with cancer. I had a scan at 7:30 in the morning, and it clearly showed a tumor on my pancreas. I didn’t even know what a pancreas was. The doctors told me this was almost certainly a type of cancer that is incurable, and that I should expect to live no longer than three to six months. My doctor advised me to go home and get my affairs in order, which is doctor’s code for prepare to die. It means to try to tell your kids everything you thought you’d have the next 10 years to tell them in just a few months. It means to make sure everything is buttoned up so that it will be as easy as possible for your family. It means to say your goodbyes.\n",
    "\n",
    "I lived with that diagnosis all day. Later that evening I had a biopsy, where they stuck an endoscope down my throat, through my stomach and into my intestines, put a needle into my pancreas and got a few cells from the tumor. I was sedated, but my wife, who was there, told me that when they viewed the cells under a microscope the doctors started crying because it turned out to be a very rare form of pancreatic cancer that is curable with surgery. I had the surgery and I’m fine now.\n",
    "\n",
    "This was the closest I’ve been to facing death, and I hope it’s the closest I get for a few more decades. Having lived through it, I can now say this to you with a bit more certainty than when death was a useful but purely intellectual concept:\n",
    "\n",
    "No one wants to die. Even people who want to go to heaven don’t want to die to get there. And yet death is the destination we all share. No one has ever escaped it. And that is as it should be, because Death is very likely the single best invention of Life. It is Life’s change agent. It clears out the old to make way for the new. Right now the new is you, but someday not too long from now, you will gradually become the old and be cleared away. Sorry to be so dramatic, but it is quite true.\n",
    "\n",
    "Your time is limited, so don’t waste it living someone else’s life. Don’t be trapped by dogma — which is living with the results of other people’s thinking. Don’t let the noise of others’ opinions drown out your own inner voice. And most important, have the courage to follow your heart and intuition. They somehow already know what you truly want to become. Everything else is secondary.\n",
    "\n",
    "When I was young, there was an amazing publication called The Whole Earth Catalog, which was one of the bibles of my generation. It was created by a fellow named Stewart Brand not far from here in Menlo Park, and he brought it to life with his poetic touch. This was in the late 1960s, before personal computers and desktop publishing, so it was all made with typewriters, scissors and Polaroid cameras. It was sort of like Google in paperback form, 35 years before Google came along: It was idealistic, and overflowing with neat tools and great notions.\n",
    "\n",
    "Stewart and his team put out several issues of The Whole Earth Catalog, and then when it had run its course, they put out a final issue. It was the mid-1970s, and I was your age. On the back cover of their final issue was a photograph of an early morning country road, the kind you might find yourself hitchhiking on if you were so adventurous. Beneath it were the words: “Stay Hungry. Stay Foolish.” It was their farewell message as they signed off. Stay Hungry. Stay Foolish. And I have always wished that for myself. And now, as you graduate to begin anew, I wish that for you.\n",
    "\n",
    "Stay Hungry. Stay Foolish.\n",
    "\n",
    "Thank you all very much.\n",
    "'''"
   ]
  },
  {
   "cell_type": "code",
   "execution_count": 2,
   "metadata": {},
   "outputs": [
    {
     "data": {
      "text/plain": [
       "11865"
      ]
     },
     "execution_count": 2,
     "metadata": {},
     "output_type": "execute_result"
    }
   ],
   "source": [
    "len(speech)"
   ]
  },
  {
   "cell_type": "code",
   "execution_count": 14,
   "metadata": {},
   "outputs": [],
   "source": [
    "stopwords = [\"a\", \"about\", \"above\", \"above\", \"across\", \"after\", \"afterwards\", \"again\", \"against\", \"all\", \"almost\", \"alone\", \"along\", \"already\", \"also\",\"although\",\"always\",\"am\",\"among\", \"amongst\", \"amoungst\", \"amount\",  \"an\", \"and\", \"another\", \"any\",\"anyhow\",\"anyone\",\"anything\",\"anyway\", \"anywhere\", \"are\", \"around\", \"as\",  \"at\", \"back\",\"be\",\"became\", \"because\",\"become\",\"becomes\", \"becoming\", \"been\", \"before\", \"beforehand\", \"behind\", \"being\", \"below\", \"beside\", \"besides\", \"between\", \"beyond\", \"bill\", \"both\", \"bottom\",\"but\", \"by\", \"call\", \"can\", \"cannot\", \"cant\", \"co\", \"con\", \"could\", \"couldnt\", \"cry\", \"de\", \"describe\", \"detail\", \"do\", \"done\", \"down\", \"due\", \"during\", \"each\", \"eg\", \"eight\", \"either\", \"eleven\",\"else\", \"elsewhere\", \"empty\", \"enough\", \"etc\", \"even\", \"ever\", \"every\", \"everyone\", \"everything\", \"everywhere\", \"except\", \"few\", \"fifteen\", \"fify\", \"fill\", \"find\", \"fire\", \"first\", \"five\", \"for\", \"former\", \"formerly\", \"forty\", \"found\", \"four\", \"from\", \"front\", \"full\", \"further\", \"get\", \"give\", \"go\", \"had\", \"has\", \"hasnt\", \"have\", \"he\", \"hence\", \"her\", \"here\", \"hereafter\", \"hereby\", \"herein\", \"hereupon\", \"hers\", \"herself\", \"him\", \"himself\", \"his\", \"how\", \"however\", \"hundred\", \"ie\", \"if\", \"in\", \"inc\", \"indeed\", \"interest\", \"into\", \"is\", \"it\", \"its\", \"itself\", \"keep\", \"last\", \"latter\", \"latterly\", \"least\", \"less\", \"ltd\", \"made\", \"many\", \"may\", \"me\", \"meanwhile\", \"might\", \"mill\", \"mine\", \"more\", \"moreover\", \"most\", \"mostly\", \"move\", \"much\", \"must\", \"my\", \"myself\", \"name\", \"namely\", \"neither\", \"never\", \"nevertheless\", \"next\", \"nine\", \"no\", \"nobody\", \"none\", \"noone\", \"nor\", \"not\", \"nothing\", \"now\", \"nowhere\", \"of\", \"off\", \"often\", \"on\", \"once\", \"one\", \"only\", \"onto\", \"or\", \"other\", \"others\", \"otherwise\", \"our\", \"ours\", \"ourselves\", \"out\", \"over\", \"own\",\"part\", \"per\", \"perhaps\", \"please\", \"put\", \"rather\", \"re\", \"same\", \"see\", \"seem\", \"seemed\", \"seeming\", \"seems\", \"serious\", \"several\", \"she\", \"should\", \"show\", \"side\", \"since\", \"sincere\", \"six\", \"sixty\", \"so\", \"some\", \"somehow\", \"someone\", \"something\", \"sometime\", \"sometimes\", \"somewhere\", \"still\", \"such\", \"system\", \"take\", \"ten\", \"than\", \"that\", \"the\", \"their\", \"them\", \"themselves\", \"then\", \"thence\", \"there\", \"thereafter\", \"thereby\", \"therefore\", \"therein\", \"thereupon\", \"these\", \"they\", \"thick\", \"thin\", \"third\", \"this\", \"those\", \"though\", \"three\", \"through\", \"throughout\", \"thru\", \"thus\", \"to\", \"together\", \"too\", \"top\", \"toward\", \"towards\", \"twelve\", \"twenty\", \"two\", \"un\", \"under\", \"until\", \"up\", \"upon\", \"us\", \"very\", \"via\", \"was\", \"we\", \"well\", \"were\", \"what\", \"whatever\", \"when\", \"whence\", \"whenever\", \"where\", \"whereafter\", \"whereas\", \"whereby\", \"wherein\", \"whereupon\", \"wherever\", \"whether\", \"which\", \"while\", \"whither\", \"who\", \"whoever\", \"whole\", \"whom\", \"whose\", \"why\", \"will\", \"with\", \"within\", \"without\", \"would\", \"yet\", \"you\", \"your\", \"yours\", \"yourself\", \"yourselves\", \"the\"]"
   ]
  },
  {
   "cell_type": "markdown",
   "metadata": {},
   "source": [
    "### 作法一"
   ]
  },
  {
   "cell_type": "code",
   "execution_count": 21,
   "metadata": {},
   "outputs": [],
   "source": [
    "words = speech.lower().split()"
   ]
  },
  {
   "cell_type": "code",
   "execution_count": 22,
   "metadata": {},
   "outputs": [],
   "source": [
    "dic = {}\n",
    "for w in words:\n",
    "    if w not in stopwords and len(w) >=2:\n",
    "        if w not in dic:\n",
    "            dic[w] = 1\n",
    "        else:\n",
    "            dic[w] = dic[w] + 1"
   ]
  },
  {
   "cell_type": "code",
   "execution_count": 23,
   "metadata": {},
   "outputs": [],
   "source": [
    "# dictionary => list of tuples\n",
    "# dic.items()"
   ]
  },
  {
   "cell_type": "code",
   "execution_count": 24,
   "metadata": {},
   "outputs": [
    {
     "data": {
      "text/plain": [
       "1"
      ]
     },
     "execution_count": 24,
     "metadata": {},
     "output_type": "execute_result"
    }
   ],
   "source": [
    "a = ('a', 1)\n",
    "\n",
    "def first(e):\n",
    "    return e[1]\n",
    "\n",
    "first(a)"
   ]
  },
  {
   "cell_type": "code",
   "execution_count": 25,
   "metadata": {},
   "outputs": [
    {
     "data": {
      "text/plain": [
       "1"
      ]
     },
     "execution_count": 25,
     "metadata": {},
     "output_type": "execute_result"
    }
   ],
   "source": [
    "first2 = lambda e : e[1]\n",
    "first2(a)"
   ]
  },
  {
   "cell_type": "code",
   "execution_count": 27,
   "metadata": {},
   "outputs": [],
   "source": [
    "swd = sorted(dic.items(), key = lambda e: e[1], reverse=True)"
   ]
  },
  {
   "cell_type": "code",
   "execution_count": 31,
   "metadata": {},
   "outputs": [
    {
     "name": "stdout",
     "output_type": "stream",
     "text": [
      "college\n",
      "9\n"
     ]
    }
   ],
   "source": [
    "k,v = ('college', 9)\n",
    "print(k)\n",
    "print(v)"
   ]
  },
  {
   "cell_type": "code",
   "execution_count": 32,
   "metadata": {},
   "outputs": [
    {
     "name": "stdout",
     "output_type": "stream",
     "text": [
      "college 9\n",
      "life. 9\n",
      "just 8\n",
      "it. 7\n",
      "dropped 7\n",
      "years 7\n",
      "don’t 7\n",
      "want 6\n",
      "looking 6\n",
      "didn’t 6\n",
      "apple 6\n",
      "know 6\n",
      "decided 5\n",
      "later 5\n",
      "best 5\n",
      "great 5\n",
      "way 5\n",
      "company 5\n",
      "stay 5\n",
      "college. 4\n",
      "started 4\n",
      "got 4\n",
      "life 4\n",
      "going 4\n",
      "out. 4\n",
      "work 4\n",
      "loved 4\n",
      "turned 4\n",
      "let 4\n",
      "10 4\n"
     ]
    }
   ],
   "source": [
    "for k,v in swd[0:30]:\n",
    "    print(k,v)"
   ]
  },
  {
   "cell_type": "markdown",
   "metadata": {},
   "source": [
    "### 作法二"
   ]
  },
  {
   "cell_type": "markdown",
   "metadata": {},
   "source": [
    "### Collections\n",
    "- https://docs.python.org/zh-tw/3/library/collections.html"
   ]
  },
  {
   "cell_type": "code",
   "execution_count": 33,
   "metadata": {},
   "outputs": [
    {
     "data": {
      "text/plain": [
       "Counter({1: 4, 2: 3, 3: 1, 4: 1, 5: 1})"
      ]
     },
     "execution_count": 33,
     "metadata": {},
     "output_type": "execute_result"
    }
   ],
   "source": [
    "a = [1,1,2,2,1,3,4,1,2,5]\n",
    "from collections import Counter\n",
    "c = Counter(a)\n",
    "c"
   ]
  },
  {
   "cell_type": "code",
   "execution_count": 34,
   "metadata": {},
   "outputs": [
    {
     "data": {
      "text/plain": [
       "[(1, 4), (2, 3), (3, 1)]"
      ]
     },
     "execution_count": 34,
     "metadata": {},
     "output_type": "execute_result"
    }
   ],
   "source": [
    "c.most_common(3)"
   ]
  },
  {
   "cell_type": "code",
   "execution_count": 35,
   "metadata": {},
   "outputs": [],
   "source": [
    "from collections import Counter\n",
    "words = speech.lower().split()\n",
    "c = Counter(words)"
   ]
  },
  {
   "cell_type": "code",
   "execution_count": 36,
   "metadata": {},
   "outputs": [
    {
     "data": {
      "text/plain": [
       "[('the', 98),\n",
       " ('i', 86),\n",
       " ('to', 71),\n",
       " ('and', 66),\n",
       " ('was', 47),\n",
       " ('a', 46),\n",
       " ('it', 45),\n",
       " ('of', 41),\n",
       " ('that', 38),\n",
       " ('in', 34)]"
      ]
     },
     "execution_count": 36,
     "metadata": {},
     "output_type": "execute_result"
    }
   ],
   "source": [
    "c.most_common(10)"
   ]
  },
  {
   "cell_type": "code",
   "execution_count": 37,
   "metadata": {},
   "outputs": [],
   "source": [
    "from collections import Counter\n",
    "words = []\n",
    "for w in speech.lower().split():\n",
    "    if (w not in stopwords) and len(w) >= 2:\n",
    "        words.append(w)\n",
    "c = Counter(words)"
   ]
  },
  {
   "cell_type": "code",
   "execution_count": 38,
   "metadata": {},
   "outputs": [
    {
     "data": {
      "text/plain": [
       "[('college', 9),\n",
       " ('life.', 9),\n",
       " ('just', 8),\n",
       " ('it.', 7),\n",
       " ('dropped', 7),\n",
       " ('years', 7),\n",
       " ('don’t', 7),\n",
       " ('want', 6),\n",
       " ('looking', 6),\n",
       " ('didn’t', 6),\n",
       " ('apple', 6),\n",
       " ('know', 6),\n",
       " ('decided', 5),\n",
       " ('later', 5),\n",
       " ('best', 5),\n",
       " ('great', 5),\n",
       " ('way', 5),\n",
       " ('company', 5),\n",
       " ('stay', 5),\n",
       " ('college.', 4),\n",
       " ('started', 4),\n",
       " ('got', 4),\n",
       " ('life', 4),\n",
       " ('going', 4),\n",
       " ('out.', 4),\n",
       " ('work', 4),\n",
       " ('loved', 4),\n",
       " ('turned', 4),\n",
       " ('let', 4),\n",
       " ('10', 4)]"
      ]
     },
     "execution_count": 38,
     "metadata": {},
     "output_type": "execute_result"
    }
   ],
   "source": [
    "c.most_common(30)"
   ]
  },
  {
   "cell_type": "markdown",
   "metadata": {},
   "source": [
    "### 作法三"
   ]
  },
  {
   "cell_type": "code",
   "execution_count": 39,
   "metadata": {},
   "outputs": [],
   "source": [
    "from collections import Counter\n",
    "\n",
    "words = [w for w in speech.lower().split() if (w not in stopwords) and len(w) >= 2]\n",
    "c = Counter(words)"
   ]
  },
  {
   "cell_type": "code",
   "execution_count": 40,
   "metadata": {},
   "outputs": [
    {
     "data": {
      "text/plain": [
       "[('college', 9), ('life.', 9), ('just', 8)]"
      ]
     },
     "execution_count": 40,
     "metadata": {},
     "output_type": "execute_result"
    }
   ],
   "source": [
    "c.most_common(3)"
   ]
  },
  {
   "cell_type": "code",
   "execution_count": 42,
   "metadata": {},
   "outputs": [
    {
     "data": {
      "text/plain": [
       "[('college', 9),\n",
       " ('life.', 9),\n",
       " ('just', 8),\n",
       " ('it.', 7),\n",
       " ('dropped', 7),\n",
       " ('years', 7),\n",
       " ('don’t', 7),\n",
       " ('want', 6),\n",
       " ('looking', 6),\n",
       " ('didn’t', 6)]"
      ]
     },
     "execution_count": 42,
     "metadata": {},
     "output_type": "execute_result"
    }
   ],
   "source": [
    "from collections import Counter\n",
    "Counter([w for w in speech.lower().split() if (w not in stopwords) and len(w) >= 2]).most_common(10)"
   ]
  },
  {
   "cell_type": "markdown",
   "metadata": {},
   "source": [
    "## 結構化與半結構化資料處理\n",
    "- https://www.books.com.tw/products/0010800271?gclid=Cj0KCQjwlJfsBRDUARIsAIDHsWp3feZObn-EtSjCFhzzBB4q3ZjKWxgjWojxF0LEsvlbWs8AsWfVCJQaAm_tEALw_wcB"
   ]
  },
  {
   "cell_type": "code",
   "execution_count": 43,
   "metadata": {},
   "outputs": [
    {
     "name": "stdout",
     "output_type": "stream",
     "text": [
      "['Categorical', 'CategoricalDtype', 'CategoricalIndex', 'DataFrame', 'DateOffset', 'DatetimeIndex', 'DatetimeTZDtype', 'ExcelFile', 'ExcelWriter', 'Float64Index', 'Grouper', 'HDFStore', 'Index', 'IndexSlice', 'Int16Dtype', 'Int32Dtype', 'Int64Dtype', 'Int64Index', 'Int8Dtype', 'Interval', 'IntervalDtype', 'IntervalIndex', 'MultiIndex', 'NaT', 'Panel', 'Period', 'PeriodDtype', 'PeriodIndex', 'RangeIndex', 'Series', 'SparseArray', 'SparseDataFrame', 'SparseDtype', 'SparseSeries', 'TimeGrouper', 'Timedelta', 'TimedeltaIndex', 'Timestamp', 'UInt16Dtype', 'UInt32Dtype', 'UInt64Dtype', 'UInt64Index', 'UInt8Dtype', '__builtins__', '__cached__', '__doc__', '__docformat__', '__file__', '__git_version__', '__loader__', '__name__', '__package__', '__path__', '__spec__', '__version__', '_hashtable', '_lib', '_libs', '_np_version_under1p13', '_np_version_under1p14', '_np_version_under1p15', '_np_version_under1p16', '_np_version_under1p17', '_tslib', '_version', 'api', 'array', 'arrays', 'bdate_range', 'compat', 'concat', 'core', 'crosstab', 'cut', 'date_range', 'datetime', 'describe_option', 'errors', 'eval', 'factorize', 'get_dummies', 'get_option', 'infer_freq', 'interval_range', 'io', 'isna', 'isnull', 'lreshape', 'melt', 'merge', 'merge_asof', 'merge_ordered', 'notna', 'notnull', 'np', 'offsets', 'option_context', 'options', 'pandas', 'period_range', 'pivot', 'pivot_table', 'plotting', 'qcut', 'read_clipboard', 'read_csv', 'read_excel', 'read_feather', 'read_fwf', 'read_gbq', 'read_hdf', 'read_html', 'read_json', 'read_msgpack', 'read_parquet', 'read_pickle', 'read_sas', 'read_sql', 'read_sql_query', 'read_sql_table', 'read_stata', 'read_table', 'reset_option', 'set_eng_float_format', 'set_option', 'show_versions', 'test', 'testing', 'timedelta_range', 'to_datetime', 'to_msgpack', 'to_numeric', 'to_pickle', 'to_timedelta', 'tseries', 'unique', 'util', 'value_counts', 'wide_to_long']\n"
     ]
    }
   ],
   "source": [
    "import pandas\n",
    "print(dir(pandas))"
   ]
  },
  {
   "cell_type": "code",
   "execution_count": 44,
   "metadata": {},
   "outputs": [],
   "source": [
    "df  = pandas.read_excel('https://raw.githubusercontent.com/ywchiu/tibamepy/master/data/eps.xlsx')"
   ]
  },
  {
   "cell_type": "code",
   "execution_count": 46,
   "metadata": {},
   "outputs": [
    {
     "data": {
      "text/html": [
       "<div>\n",
       "<style scoped>\n",
       "    .dataframe tbody tr th:only-of-type {\n",
       "        vertical-align: middle;\n",
       "    }\n",
       "\n",
       "    .dataframe tbody tr th {\n",
       "        vertical-align: top;\n",
       "    }\n",
       "\n",
       "    .dataframe thead th {\n",
       "        text-align: right;\n",
       "    }\n",
       "</style>\n",
       "<table border=\"1\" class=\"dataframe\">\n",
       "  <thead>\n",
       "    <tr style=\"text-align: right;\">\n",
       "      <th></th>\n",
       "      <th>Unnamed: 0</th>\n",
       "      <th>公司代號</th>\n",
       "      <th>公司名稱</th>\n",
       "      <th>產業別</th>\n",
       "      <th>基本每股盈餘(元)</th>\n",
       "      <th>普通股每股面額</th>\n",
       "      <th>營業收入</th>\n",
       "      <th>營業利益</th>\n",
       "      <th>營業外收入及支出</th>\n",
       "      <th>稅後淨利</th>\n",
       "      <th>Year</th>\n",
       "      <th>Season</th>\n",
       "    </tr>\n",
       "  </thead>\n",
       "  <tbody>\n",
       "    <tr>\n",
       "      <th>0</th>\n",
       "      <td>0</td>\n",
       "      <td>1102</td>\n",
       "      <td>亞洲水泥股份有限公司</td>\n",
       "      <td>水泥工業</td>\n",
       "      <td>0.40</td>\n",
       "      <td>新台幣 10.0000元</td>\n",
       "      <td>13931550</td>\n",
       "      <td>339801</td>\n",
       "      <td>1250044</td>\n",
       "      <td>1371559</td>\n",
       "      <td>102</td>\n",
       "      <td>1</td>\n",
       "    </tr>\n",
       "    <tr>\n",
       "      <th>1</th>\n",
       "      <td>1</td>\n",
       "      <td>1101</td>\n",
       "      <td>台灣水泥股份有限公司</td>\n",
       "      <td>水泥工業</td>\n",
       "      <td>0.38</td>\n",
       "      <td>新台幣 10.0000元</td>\n",
       "      <td>24114047</td>\n",
       "      <td>2026729</td>\n",
       "      <td>314060</td>\n",
       "      <td>1999624</td>\n",
       "      <td>102</td>\n",
       "      <td>1</td>\n",
       "    </tr>\n",
       "    <tr>\n",
       "      <th>2</th>\n",
       "      <td>2</td>\n",
       "      <td>1104</td>\n",
       "      <td>環球水泥股份有限公司</td>\n",
       "      <td>水泥工業</td>\n",
       "      <td>0.30</td>\n",
       "      <td>新台幣 10.0000元</td>\n",
       "      <td>1248072</td>\n",
       "      <td>30247</td>\n",
       "      <td>156012</td>\n",
       "      <td>183441</td>\n",
       "      <td>102</td>\n",
       "      <td>1</td>\n",
       "    </tr>\n",
       "  </tbody>\n",
       "</table>\n",
       "</div>"
      ],
      "text/plain": [
       "   Unnamed: 0  公司代號        公司名稱   產業別  基本每股盈餘(元)       普通股每股面額      營業收入  \\\n",
       "0           0  1102  亞洲水泥股份有限公司  水泥工業       0.40  新台幣 10.0000元  13931550   \n",
       "1           1  1101  台灣水泥股份有限公司  水泥工業       0.38  新台幣 10.0000元  24114047   \n",
       "2           2  1104  環球水泥股份有限公司  水泥工業       0.30  新台幣 10.0000元   1248072   \n",
       "\n",
       "      營業利益 營業外收入及支出     稅後淨利  Year  Season  \n",
       "0   339801  1250044  1371559   102       1  \n",
       "1  2026729   314060  1999624   102       1  \n",
       "2    30247   156012   183441   102       1  "
      ]
     },
     "execution_count": 46,
     "metadata": {},
     "output_type": "execute_result"
    }
   ],
   "source": [
    "df.head(3)"
   ]
  },
  {
   "cell_type": "code",
   "execution_count": 47,
   "metadata": {},
   "outputs": [],
   "source": [
    "df  = pandas.read_csv('https://github.com/ywchiu/tibamepy/raw/master/data/2330.TW.csv')"
   ]
  },
  {
   "cell_type": "code",
   "execution_count": 48,
   "metadata": {},
   "outputs": [
    {
     "data": {
      "text/html": [
       "<div>\n",
       "<style scoped>\n",
       "    .dataframe tbody tr th:only-of-type {\n",
       "        vertical-align: middle;\n",
       "    }\n",
       "\n",
       "    .dataframe tbody tr th {\n",
       "        vertical-align: top;\n",
       "    }\n",
       "\n",
       "    .dataframe thead th {\n",
       "        text-align: right;\n",
       "    }\n",
       "</style>\n",
       "<table border=\"1\" class=\"dataframe\">\n",
       "  <thead>\n",
       "    <tr style=\"text-align: right;\">\n",
       "      <th></th>\n",
       "      <th>Date</th>\n",
       "      <th>Open</th>\n",
       "      <th>High</th>\n",
       "      <th>Low</th>\n",
       "      <th>Close</th>\n",
       "      <th>Adj Close</th>\n",
       "      <th>Volume</th>\n",
       "    </tr>\n",
       "  </thead>\n",
       "  <tbody>\n",
       "    <tr>\n",
       "      <th>0</th>\n",
       "      <td>2000-01-04</td>\n",
       "      <td>69.649002</td>\n",
       "      <td>69.649002</td>\n",
       "      <td>68.475197</td>\n",
       "      <td>69.649002</td>\n",
       "      <td>38.253021</td>\n",
       "      <td>2.006623e+11</td>\n",
       "    </tr>\n",
       "    <tr>\n",
       "      <th>1</th>\n",
       "      <td>2000-01-05</td>\n",
       "      <td>69.649002</td>\n",
       "      <td>71.214104</td>\n",
       "      <td>68.866302</td>\n",
       "      <td>71.214104</td>\n",
       "      <td>39.112621</td>\n",
       "      <td>4.024668e+11</td>\n",
       "    </tr>\n",
       "    <tr>\n",
       "      <th>2</th>\n",
       "      <td>2000-01-06</td>\n",
       "      <td>70.822899</td>\n",
       "      <td>71.214104</td>\n",
       "      <td>69.649002</td>\n",
       "      <td>69.649002</td>\n",
       "      <td>38.253021</td>\n",
       "      <td>1.975457e+11</td>\n",
       "    </tr>\n",
       "  </tbody>\n",
       "</table>\n",
       "</div>"
      ],
      "text/plain": [
       "         Date       Open       High        Low      Close  Adj Close  \\\n",
       "0  2000-01-04  69.649002  69.649002  68.475197  69.649002  38.253021   \n",
       "1  2000-01-05  69.649002  71.214104  68.866302  71.214104  39.112621   \n",
       "2  2000-01-06  70.822899  71.214104  69.649002  69.649002  38.253021   \n",
       "\n",
       "         Volume  \n",
       "0  2.006623e+11  \n",
       "1  4.024668e+11  \n",
       "2  1.975457e+11  "
      ]
     },
     "execution_count": 48,
     "metadata": {},
     "output_type": "execute_result"
    }
   ],
   "source": [
    "df.head(3)"
   ]
  },
  {
   "cell_type": "code",
   "execution_count": 49,
   "metadata": {},
   "outputs": [],
   "source": [
    "df = pandas.read_json('https://raw.githubusercontent.com/ywchiu/tibamepy/master/data/2330.json')"
   ]
  },
  {
   "cell_type": "code",
   "execution_count": 51,
   "metadata": {},
   "outputs": [
    {
     "data": {
      "text/html": [
       "<div>\n",
       "<style scoped>\n",
       "    .dataframe tbody tr th:only-of-type {\n",
       "        vertical-align: middle;\n",
       "    }\n",
       "\n",
       "    .dataframe tbody tr th {\n",
       "        vertical-align: top;\n",
       "    }\n",
       "\n",
       "    .dataframe thead th {\n",
       "        text-align: right;\n",
       "    }\n",
       "</style>\n",
       "<table border=\"1\" class=\"dataframe\">\n",
       "  <thead>\n",
       "    <tr style=\"text-align: right;\">\n",
       "      <th></th>\n",
       "      <th>Date</th>\n",
       "      <th>Open</th>\n",
       "      <th>High</th>\n",
       "      <th>Low</th>\n",
       "      <th>Close</th>\n",
       "      <th>Volume</th>\n",
       "      <th>Adj Close</th>\n",
       "    </tr>\n",
       "  </thead>\n",
       "  <tbody>\n",
       "    <tr>\n",
       "      <th>0</th>\n",
       "      <td>2016-07-21</td>\n",
       "      <td>171.0</td>\n",
       "      <td>172.0</td>\n",
       "      <td>170.0</td>\n",
       "      <td>172.0</td>\n",
       "      <td>33130000</td>\n",
       "      <td>172.0</td>\n",
       "    </tr>\n",
       "    <tr>\n",
       "      <th>1</th>\n",
       "      <td>2016-07-20</td>\n",
       "      <td>170.0</td>\n",
       "      <td>170.5</td>\n",
       "      <td>169.0</td>\n",
       "      <td>170.0</td>\n",
       "      <td>38053000</td>\n",
       "      <td>170.0</td>\n",
       "    </tr>\n",
       "    <tr>\n",
       "      <th>2</th>\n",
       "      <td>2016-07-19</td>\n",
       "      <td>170.5</td>\n",
       "      <td>170.5</td>\n",
       "      <td>169.0</td>\n",
       "      <td>170.5</td>\n",
       "      <td>42456000</td>\n",
       "      <td>170.5</td>\n",
       "    </tr>\n",
       "  </tbody>\n",
       "</table>\n",
       "</div>"
      ],
      "text/plain": [
       "        Date   Open   High    Low  Close    Volume  Adj Close\n",
       "0 2016-07-21  171.0  172.0  170.0  172.0  33130000      172.0\n",
       "1 2016-07-20  170.0  170.5  169.0  170.0  38053000      170.0\n",
       "2 2016-07-19  170.5  170.5  169.0  170.5  42456000      170.5"
      ]
     },
     "execution_count": 51,
     "metadata": {},
     "output_type": "execute_result"
    }
   ],
   "source": [
    "df.head(3)"
   ]
  },
  {
   "cell_type": "code",
   "execution_count": 53,
   "metadata": {},
   "outputs": [],
   "source": [
    "import requests\n",
    "from bs4 import BeautifulSoup\n",
    "res = requests.get('http://opendataap2.penghu.gov.tw/resource/files/2019-09-05/1f904c53c18e7aee55cfdc46bf02a97a.xml')\n",
    "soup = BeautifulSoup(res.text, 'xml')"
   ]
  },
  {
   "cell_type": "code",
   "execution_count": 59,
   "metadata": {},
   "outputs": [
    {
     "name": "stdout",
     "output_type": "stream",
     "text": [
      "가리비 소스\n",
      "수동면\n",
      "수동면\n",
      "후아 즈 완\n",
      "현무암 공예\n",
      "땅콩 케이크\n",
      "바다 야채 수프 가방\n",
      "갈색 설탕 케이크\n",
      "도미 물고기 선물 상자 절삭\n",
      "바람 버섯 차\n",
      "펑후 새우\n"
     ]
    }
   ],
   "source": [
    "for l in soup.select('row_item'):\n",
    "    print(l.select_one('상품명').text)"
   ]
  },
  {
   "cell_type": "markdown",
   "metadata": {},
   "source": [
    "### PdfMiner3K"
   ]
  },
  {
   "cell_type": "code",
   "execution_count": 60,
   "metadata": {},
   "outputs": [
    {
     "name": "stdout",
     "output_type": "stream",
     "text": [
      "Collecting pdfminer3k\n",
      "  Downloading https://files.pythonhosted.org/packages/8c/87/cee0aa24f95c287020df7e3936cb51d32b34b05b430759bac15f89ea5ac2/pdfminer3k-1.3.1.tar.gz (4.1MB)\n",
      "Requirement already satisfied: pytest>=2.0 in c:\\users\\user\\anaconda3\\lib\\site-packages (from pdfminer3k) (5.0.1)\n",
      "Requirement already satisfied: ply>=3.4 in c:\\users\\user\\anaconda3\\lib\\site-packages (from pdfminer3k) (3.11)\n",
      "Requirement already satisfied: py>=1.5.0 in c:\\users\\user\\anaconda3\\lib\\site-packages (from pytest>=2.0->pdfminer3k) (1.8.0)\n",
      "Requirement already satisfied: packaging in c:\\users\\user\\anaconda3\\lib\\site-packages (from pytest>=2.0->pdfminer3k) (19.0)\n",
      "Requirement already satisfied: attrs>=17.4.0 in c:\\users\\user\\anaconda3\\lib\\site-packages (from pytest>=2.0->pdfminer3k) (19.1.0)\n",
      "Requirement already satisfied: more-itertools>=4.0.0 in c:\\users\\user\\anaconda3\\lib\\site-packages (from pytest>=2.0->pdfminer3k) (7.0.0)\n",
      "Requirement already satisfied: atomicwrites>=1.0 in c:\\users\\user\\anaconda3\\lib\\site-packages (from pytest>=2.0->pdfminer3k) (1.3.0)\n",
      "Requirement already satisfied: pluggy<1.0,>=0.12 in c:\\users\\user\\anaconda3\\lib\\site-packages (from pytest>=2.0->pdfminer3k) (0.12.0)\n",
      "Requirement already satisfied: importlib-metadata>=0.12 in c:\\users\\user\\anaconda3\\lib\\site-packages (from pytest>=2.0->pdfminer3k) (0.17)\n",
      "Requirement already satisfied: wcwidth in c:\\users\\user\\anaconda3\\lib\\site-packages (from pytest>=2.0->pdfminer3k) (0.1.7)\n",
      "Requirement already satisfied: colorama in c:\\users\\user\\anaconda3\\lib\\site-packages (from pytest>=2.0->pdfminer3k) (0.4.1)\n",
      "Requirement already satisfied: pyparsing>=2.0.2 in c:\\users\\user\\anaconda3\\lib\\site-packages (from packaging->pytest>=2.0->pdfminer3k) (2.4.0)\n",
      "Requirement already satisfied: six in c:\\users\\user\\anaconda3\\lib\\site-packages (from packaging->pytest>=2.0->pdfminer3k) (1.12.0)\n",
      "Requirement already satisfied: zipp>=0.5 in c:\\users\\user\\anaconda3\\lib\\site-packages (from importlib-metadata>=0.12->pytest>=2.0->pdfminer3k) (0.5.1)\n",
      "Building wheels for collected packages: pdfminer3k\n",
      "  Building wheel for pdfminer3k (setup.py): started\n",
      "  Building wheel for pdfminer3k (setup.py): finished with status 'done'\n",
      "  Stored in directory: C:\\Users\\User\\AppData\\Local\\pip\\Cache\\wheels\\ca\\4f\\a7\\cb601b4fb257d2321ac668b7c6e269176780bd0283eda855d2\n",
      "Successfully built pdfminer3k\n",
      "Installing collected packages: pdfminer3k\n",
      "Successfully installed pdfminer3k-1.3.1\n"
     ]
    }
   ],
   "source": [
    "! pip install pdfminer3k"
   ]
  },
  {
   "cell_type": "code",
   "execution_count": 66,
   "metadata": {},
   "outputs": [],
   "source": [
    "from pdfminer.pdfparser import PDFParser, PDFDocument\n",
    "from pdfminer.pdfinterp import PDFResourceManager, PDFPageInterpreter\n",
    "from pdfminer.converter import PDFPageAggregator\n",
    "from pdfminer.layout import LAParams, LTTextBox, LTTextLine\n",
    "\n",
    "s = ''\n",
    "fp = open('C:/Users/User/Desktop/2017cai_wu_bao_biao_.pdf', 'rb')\n",
    "parser = PDFParser(fp)\n",
    "doc = PDFDocument()\n",
    "parser.set_document(doc)\n",
    "doc.set_parser(parser)\n",
    "doc.initialize('')\n",
    "rsrcmgr = PDFResourceManager()\n",
    "laparams = LAParams()\n",
    "device = PDFPageAggregator(rsrcmgr, laparams=laparams)\n",
    "interpreter = PDFPageInterpreter(rsrcmgr, device)\n",
    "# Process each page contained in the document.\n",
    "for page in doc.get_pages():\n",
    "    interpreter.process_page(page)\n",
    "    layout = device.get_result()\n",
    "    for lt_obj in layout:\n",
    "        #print(lt_obj)\n",
    "        if isinstance(lt_obj, LTTextBox) or isinstance(lt_obj, LTTextLine):\n",
    "            s = s + lt_obj.get_text()\n",
    "    break"
   ]
  },
  {
   "cell_type": "code",
   "execution_count": 68,
   "metadata": {},
   "outputs": [
    {
     "name": "stdout",
     "output_type": "stream",
     "text": [
      " 財團法人主婦聯盟環境保護基金會\n",
      "　資產負債表　\n",
      "                                        　　　　　　　 2017年12月31日止                              　　　        單位：元\n",
      "金額\n",
      "會計科目\n",
      "負債、基金及餘絀\n",
      "流動負債\n",
      "78,633 　　　應付費用\n",
      "2,173,978 　　　應付稅捐\n",
      "704,163      暫收款\n",
      "505,902      存入保證金\n",
      "會計科目\n",
      "資    產\n",
      "流動資產\n",
      "　　　現金\n",
      "　　　銀行存款-台乙\n",
      "　　　銀行存款-郵撥\n",
      "　　　銀行存款-台乙 (南部辦公室專戶)\n",
      "　　　銀行存款-郵局乙存\n",
      "　　　銀行存款-新光\n",
      "　　　零用金-南部辦公室\n",
      "　　　銀行存款-定存\n",
      "      應收帳款                   \n",
      "      應收帳款-專案                            996,276 流動負債統計：\n",
      "      應收利息                           \n",
      "      暫付款\n",
      "      代付款\n",
      "      預付款\n",
      "      留抵稅額\n",
      "流動資產統計：\n",
      "36,103\n",
      "35,600\n",
      "6,400\n",
      "13,277\n",
      "1,053\n",
      "10,332,511 基金及餘絀\n",
      "389,423\n",
      "122,252\n",
      "11,110\n",
      "5,038,841\n",
      "219,500\n",
      "金額\n",
      "180,053\n",
      "4,073\n",
      "25,200\n",
      "72,000\n",
      "281,326\n",
      "基金及長期投資\n",
      "基金及長期投資統計：\n",
      "固定資產\n",
      "　　　房屋\n",
      "　　　累計折舊-房屋\n",
      "　　　土地\n",
      "　　　什項設備\n",
      "　　　累計折舊-什項設備\n",
      "固定資產統計：\n",
      "其它資產\n",
      "      存出保証金-其他\n",
      "　　　存出保証金-五樓之一\n",
      "其它資產統計：\n",
      "資產總計\n",
      "　　　基金\n",
      "1,054,000 　　　累積餘絀\n",
      "1,054,000 　　　本期餘絀\n",
      "1,000,000\n",
      "14,311,871\n",
      "184,204\n",
      "4,270,834\n",
      "-1,371,349\n",
      "1,023,255\n",
      "451,953\n",
      "-56,803 基金及餘絀統計：\n",
      "15,496,075\n",
      "4,317,890\n",
      "10,000\n",
      "63,000\n",
      "73,000\n",
      "15,777,401 負債、基金及餘絀總計\n",
      "15,777,401\n",
      "                  製表人：楊璨華 201801\n",
      " \n",
      " \n",
      "\n"
     ]
    }
   ],
   "source": [
    "print(s)"
   ]
  },
  {
   "cell_type": "code",
   "execution_count": 69,
   "metadata": {},
   "outputs": [],
   "source": [
    "with open('test.html', 'w') as f:\n",
    "    f.write('''<html><body><h1>hello world</h1></body></html>''')"
   ]
  },
  {
   "cell_type": "code",
   "execution_count": 72,
   "metadata": {},
   "outputs": [],
   "source": [
    "?pandas.read_csv"
   ]
  },
  {
   "cell_type": "code",
   "execution_count": 73,
   "metadata": {},
   "outputs": [],
   "source": [
    "import pandas\n",
    "df = pandas.read_csv('C:/Users/User/Desktop/test.csv', header = None)"
   ]
  },
  {
   "cell_type": "code",
   "execution_count": 74,
   "metadata": {},
   "outputs": [
    {
     "data": {
      "text/html": [
       "<div>\n",
       "<style scoped>\n",
       "    .dataframe tbody tr th:only-of-type {\n",
       "        vertical-align: middle;\n",
       "    }\n",
       "\n",
       "    .dataframe tbody tr th {\n",
       "        vertical-align: top;\n",
       "    }\n",
       "\n",
       "    .dataframe thead th {\n",
       "        text-align: right;\n",
       "    }\n",
       "</style>\n",
       "<table border=\"1\" class=\"dataframe\">\n",
       "  <thead>\n",
       "    <tr style=\"text-align: right;\">\n",
       "      <th></th>\n",
       "      <th>0</th>\n",
       "      <th>1</th>\n",
       "    </tr>\n",
       "  </thead>\n",
       "  <tbody>\n",
       "    <tr>\n",
       "      <th>0</th>\n",
       "      <td>a</td>\n",
       "      <td>1</td>\n",
       "    </tr>\n",
       "    <tr>\n",
       "      <th>1</th>\n",
       "      <td>b</td>\n",
       "      <td>2</td>\n",
       "    </tr>\n",
       "    <tr>\n",
       "      <th>2</th>\n",
       "      <td>c</td>\n",
       "      <td>3</td>\n",
       "    </tr>\n",
       "    <tr>\n",
       "      <th>3</th>\n",
       "      <td>d</td>\n",
       "      <td>4</td>\n",
       "    </tr>\n",
       "    <tr>\n",
       "      <th>4</th>\n",
       "      <td>e</td>\n",
       "      <td>5</td>\n",
       "    </tr>\n",
       "  </tbody>\n",
       "</table>\n",
       "</div>"
      ],
      "text/plain": [
       "   0  1\n",
       "0  a  1\n",
       "1  b  2\n",
       "2  c  3\n",
       "3  d  4\n",
       "4  e  5"
      ]
     },
     "execution_count": 74,
     "metadata": {},
     "output_type": "execute_result"
    }
   ],
   "source": [
    "df"
   ]
  },
  {
   "cell_type": "code",
   "execution_count": 75,
   "metadata": {},
   "outputs": [],
   "source": [
    "df.columns = ['col1', 'col2']"
   ]
  },
  {
   "cell_type": "code",
   "execution_count": 76,
   "metadata": {},
   "outputs": [
    {
     "data": {
      "text/html": [
       "<div>\n",
       "<style scoped>\n",
       "    .dataframe tbody tr th:only-of-type {\n",
       "        vertical-align: middle;\n",
       "    }\n",
       "\n",
       "    .dataframe tbody tr th {\n",
       "        vertical-align: top;\n",
       "    }\n",
       "\n",
       "    .dataframe thead th {\n",
       "        text-align: right;\n",
       "    }\n",
       "</style>\n",
       "<table border=\"1\" class=\"dataframe\">\n",
       "  <thead>\n",
       "    <tr style=\"text-align: right;\">\n",
       "      <th></th>\n",
       "      <th>col1</th>\n",
       "      <th>col2</th>\n",
       "    </tr>\n",
       "  </thead>\n",
       "  <tbody>\n",
       "    <tr>\n",
       "      <th>0</th>\n",
       "      <td>a</td>\n",
       "      <td>1</td>\n",
       "    </tr>\n",
       "    <tr>\n",
       "      <th>1</th>\n",
       "      <td>b</td>\n",
       "      <td>2</td>\n",
       "    </tr>\n",
       "    <tr>\n",
       "      <th>2</th>\n",
       "      <td>c</td>\n",
       "      <td>3</td>\n",
       "    </tr>\n",
       "    <tr>\n",
       "      <th>3</th>\n",
       "      <td>d</td>\n",
       "      <td>4</td>\n",
       "    </tr>\n",
       "    <tr>\n",
       "      <th>4</th>\n",
       "      <td>e</td>\n",
       "      <td>5</td>\n",
       "    </tr>\n",
       "  </tbody>\n",
       "</table>\n",
       "</div>"
      ],
      "text/plain": [
       "  col1  col2\n",
       "0    a     1\n",
       "1    b     2\n",
       "2    c     3\n",
       "3    d     4\n",
       "4    e     5"
      ]
     },
     "execution_count": 76,
     "metadata": {},
     "output_type": "execute_result"
    }
   ],
   "source": [
    "df"
   ]
  },
  {
   "cell_type": "markdown",
   "metadata": {},
   "source": [
    "## 網頁的組成元素\n",
    "- HTML : 放資料，讓瀏覽器可以根據不同的Tag 呈現不同行為的資訊\n",
    "- CSS　: 網頁的化妝師\n",
    "- Javascript　：前端可互動的腳本語言\n",
    "- Img\n",
    "\n",
    "- https://www.w3schools.com/\n",
    "- https://www.w3school.com.cn/"
   ]
  },
  {
   "cell_type": "raw",
   "metadata": {},
   "source": [
    "<html>\n",
    "<head>\n",
    "<style>\n",
    " #title{\n",
    "    color:red;\n",
    " }\n",
    " .link{\n",
    "   font-size:30px;\n",
    " }\n",
    "</style>\n",
    "<script>\n",
    "  alert('大家好');\n",
    "</script>\n",
    "</head>\n",
    "\n",
    "<body>\n",
    "<h1 id=\"title\">Hello World</h1>\n",
    "<img src=\"test.jpg\"></img>\n",
    "<a class=\"link\" href=\"https://www.google.com\">Google</a>\n",
    "<a class=\"link\" href=\"https://www.largitdata.com\">LargitData</a>\n",
    "</body>\n",
    "</html>"
   ]
  },
  {
   "cell_type": "markdown",
   "metadata": {},
   "source": [
    "## GET"
   ]
  },
  {
   "cell_type": "code",
   "execution_count": 77,
   "metadata": {},
   "outputs": [
    {
     "data": {
      "text/plain": [
       "<Response [200]>"
      ]
     },
     "execution_count": 77,
     "metadata": {},
     "output_type": "execute_result"
    }
   ],
   "source": [
    "import requests\n",
    "res = requests.get('https://tw.appledaily.com/new/realtime')\n",
    "res"
   ]
  },
  {
   "cell_type": "code",
   "execution_count": 78,
   "metadata": {},
   "outputs": [
    {
     "name": "stdout",
     "output_type": "stream",
     "text": [
      "['__attrs__', '__bool__', '__class__', '__delattr__', '__dict__', '__dir__', '__doc__', '__enter__', '__eq__', '__exit__', '__format__', '__ge__', '__getattribute__', '__getstate__', '__gt__', '__hash__', '__init__', '__init_subclass__', '__iter__', '__le__', '__lt__', '__module__', '__ne__', '__new__', '__nonzero__', '__reduce__', '__reduce_ex__', '__repr__', '__setattr__', '__setstate__', '__sizeof__', '__str__', '__subclasshook__', '__weakref__', '_content', '_content_consumed', '_next', 'apparent_encoding', 'close', 'connection', 'content', 'cookies', 'elapsed', 'encoding', 'headers', 'history', 'is_permanent_redirect', 'is_redirect', 'iter_content', 'iter_lines', 'json', 'links', 'next', 'ok', 'raise_for_status', 'raw', 'reason', 'request', 'status_code', 'text', 'url']\n"
     ]
    }
   ],
   "source": [
    "print(dir(res))"
   ]
  },
  {
   "cell_type": "code",
   "execution_count": 80,
   "metadata": {},
   "outputs": [],
   "source": [
    "#res.text"
   ]
  },
  {
   "cell_type": "markdown",
   "metadata": {},
   "source": [
    "## HTTP Status Code\n",
    "- https://zh.wikipedia.org/wiki/HTTP%E7%8A%B6%E6%80%81%E7%A0%81"
   ]
  },
  {
   "cell_type": "markdown",
   "metadata": {},
   "source": [
    "## POST"
   ]
  },
  {
   "cell_type": "code",
   "execution_count": 83,
   "metadata": {},
   "outputs": [],
   "source": [
    "import requests\n",
    "url = 'https://www.thsrc.com.tw/tw/TimeTable/Search'\n",
    "\n",
    "payload = {\n",
    "'StartStationName':  '台北站',\n",
    "'EndStationName':  '新竹站',\n",
    "'SearchType': 'S',\n",
    "'StartStation': '977abb69-413a-4ccf-a109-0272c24fd490',\n",
    "'EndStation': 'a7a04c89-900b-4798-95a3-c01c455622f4',\n",
    "'DepartueSearchDate': '2019/09/22',\n",
    "'DepartueSearchTime': '18:30'    \n",
    "}\n",
    "\n",
    "res = requests.post(url, data = payload)\n",
    "#res.text\n",
    "#res.json()"
   ]
  },
  {
   "cell_type": "markdown",
   "metadata": {},
   "source": [
    "## 小問題\n",
    "- 該使用 GET 或 POST存取哪個 URL 才能爬取台鐵時刻表資料\n",
    "- https://www.railway.gov.tw/tra-tip-web/tip/tip001/tip112/gobytime\n",
    "\n",
    "- 該使用 GET 或 POST存取哪個 URL 才能爬取PCHOME價格資料\n",
    "- https://24h.pchome.com.tw/prod/DYAJ95-A900A8XYY"
   ]
  },
  {
   "cell_type": "code",
   "execution_count": 84,
   "metadata": {},
   "outputs": [],
   "source": [
    "import requests\n",
    "url = 'https://www.railway.gov.tw/tra-tip-web/tip/tip001/tip112/querybytime'\n",
    "payload = {\n",
    "'startStation': '0900-基隆',\n",
    "'endStation': '0990-松山',\n",
    "'transfer': 'ONE',\n",
    "'rideDate': '2019/09/22',\n",
    "'startOrEndTime': 'true',\n",
    "'startTime': '00:00',\n",
    "'endTime': '23:59',\n",
    "'trainTypeList': 'ALL',\n",
    "'query': '查詢'    \n",
    "}\n",
    "res = requests.post(url, data = payload)"
   ]
  },
  {
   "cell_type": "code",
   "execution_count": 86,
   "metadata": {},
   "outputs": [],
   "source": [
    "#res.text"
   ]
  },
  {
   "cell_type": "code",
   "execution_count": 90,
   "metadata": {},
   "outputs": [
    {
     "data": {
      "text/plain": [
       "{'Seq': 23510630,\n",
       " 'Id': 'DYAJ95-A900A8XYY-000',\n",
       " 'Price': {'M': 0, 'P': 24900, 'Prime': ''},\n",
       " 'Qty': 1,\n",
       " 'ButtonType': 'ForSale',\n",
       " 'SaleStatus': 1,\n",
       " 'isPrimeOnly': 0,\n",
       " 'SpecialQty': 0}"
      ]
     },
     "execution_count": 90,
     "metadata": {},
     "output_type": "execute_result"
    }
   ],
   "source": [
    "import requests\n",
    "import json\n",
    "res = requests.get('https://24h.pchome.com.tw/ecapi/ecshop/prodapi/v2/prod/button&id=DYAJ95-A900A8XYY&fields=Seq,Id,Price,Qty,ButtonType,SaleStatus,isPrimeOnly,SpecialQty&_callback=jsonp_button&1569126420?_callback=jsonp_button')\n",
    "d = res.text.split('[')[1].split(']')[0]\n",
    "json.loads(d)"
   ]
  },
  {
   "cell_type": "code",
   "execution_count": null,
   "metadata": {},
   "outputs": [],
   "source": [
    "import requests\n",
    "rs = requests.session()\n",
    "res = rs.get('https://24h.pchome.com.tw/ecapi/ecshop/prodapi/v2/prod/button&id=DYAJ95-A900A8XYY&fields=Seq,Id,Price,Qty,ButtonType,SaleStatus,isPrimeOnly,SpecialQty&_callback=jsonp_button&1569126420?_callback=jsonp_button')\n",
    "res2 = rs.get('....')"
   ]
  },
  {
   "cell_type": "markdown",
   "metadata": {},
   "source": [
    "## 模擬點擊\n",
    "- Selenium \n",
    "- https://www.largitdata.com/course_list/15\n",
    "- pyautogui\n",
    "- https://www.largitdata.com/course_list/17"
   ]
  },
  {
   "cell_type": "code",
   "execution_count": 91,
   "metadata": {},
   "outputs": [
    {
     "name": "stdout",
     "output_type": "stream",
     "text": [
      "Collecting selenium\n",
      "  Downloading https://files.pythonhosted.org/packages/80/d6/4294f0b4bce4de0abf13e17190289f9d0613b0a44e5dd6a7f5ca98459853/selenium-3.141.0-py2.py3-none-any.whl (904kB)\n",
      "Requirement already satisfied: urllib3 in c:\\users\\user\\anaconda3\\lib\\site-packages (from selenium) (1.24.2)\n",
      "Installing collected packages: selenium\n",
      "Successfully installed selenium-3.141.0\n"
     ]
    }
   ],
   "source": [
    "! pip install selenium"
   ]
  },
  {
   "cell_type": "code",
   "execution_count": 96,
   "metadata": {},
   "outputs": [],
   "source": [
    "from selenium import webdriver\n",
    "#https://chromedriver.storage.googleapis.com/78.0.3904.11/chromedriver_win32.zip\n",
    "driver = webdriver.Chrome('chromedriver.exe')\n",
    "driver.get('https://www.google.com')"
   ]
  },
  {
   "cell_type": "code",
   "execution_count": 97,
   "metadata": {},
   "outputs": [],
   "source": [
    "driver.find_element_by_name('q').send_keys('大數軟體')"
   ]
  },
  {
   "cell_type": "markdown",
   "metadata": {},
   "source": [
    "## 蘋果新聞爬取"
   ]
  },
  {
   "cell_type": "code",
   "execution_count": 99,
   "metadata": {},
   "outputs": [],
   "source": [
    "import requests\n",
    "res = requests.get('https://tw.appledaily.com/new/realtime')\n",
    "#res.text"
   ]
  },
  {
   "cell_type": "code",
   "execution_count": 111,
   "metadata": {},
   "outputs": [
    {
     "data": {
      "text/plain": [
       "requests.models.Response"
      ]
     },
     "execution_count": 111,
     "metadata": {},
     "output_type": "execute_result"
    }
   ],
   "source": [
    "type(res)"
   ]
  },
  {
   "cell_type": "markdown",
   "metadata": {},
   "source": [
    "## BeautifulSoup"
   ]
  },
  {
   "cell_type": "code",
   "execution_count": 100,
   "metadata": {},
   "outputs": [],
   "source": [
    "html_sample= '''\n",
    "<html>\n",
    "<body>\n",
    "<h1 id=\"title\">Hello World</h1>\n",
    "<a href=\"#\" class=\"link\">This is link1</a>\n",
    "<a href=\"# link2\" class=\"link\">This is link2</a>\n",
    "</body>\n",
    "</html>'''"
   ]
  },
  {
   "cell_type": "code",
   "execution_count": 101,
   "metadata": {},
   "outputs": [],
   "source": [
    "# 比較安全的存取方式\n",
    "#import requests\n",
    "#requestes.get\n",
    "\n",
    "# 比較不安全的存取方式\n",
    "#from requests import get\n",
    "#get()"
   ]
  },
  {
   "cell_type": "code",
   "execution_count": 102,
   "metadata": {},
   "outputs": [
    {
     "data": {
      "text/plain": [
       "8"
      ]
     },
     "execution_count": 102,
     "metadata": {},
     "output_type": "execute_result"
    }
   ],
   "source": [
    "def get(e):\n",
    "    return e + 3\n",
    "\n",
    "get(5)"
   ]
  },
  {
   "cell_type": "code",
   "execution_count": 103,
   "metadata": {},
   "outputs": [],
   "source": [
    "from requests import get"
   ]
  },
  {
   "cell_type": "code",
   "execution_count": 104,
   "metadata": {},
   "outputs": [
    {
     "ename": "MissingSchema",
     "evalue": "Invalid URL '5': No schema supplied. Perhaps you meant http://5?",
     "output_type": "error",
     "traceback": [
      "\u001b[1;31m---------------------------------------------------------------------------\u001b[0m",
      "\u001b[1;31mMissingSchema\u001b[0m                             Traceback (most recent call last)",
      "\u001b[1;32m<ipython-input-104-c861fc7110be>\u001b[0m in \u001b[0;36m<module>\u001b[1;34m\u001b[0m\n\u001b[1;32m----> 1\u001b[1;33m \u001b[0mget\u001b[0m\u001b[1;33m(\u001b[0m\u001b[1;36m5\u001b[0m\u001b[1;33m)\u001b[0m\u001b[1;33m\u001b[0m\u001b[1;33m\u001b[0m\u001b[0m\n\u001b[0m",
      "\u001b[1;32m~\\Anaconda3\\lib\\site-packages\\requests\\api.py\u001b[0m in \u001b[0;36mget\u001b[1;34m(url, params, **kwargs)\u001b[0m\n\u001b[0;32m     73\u001b[0m \u001b[1;33m\u001b[0m\u001b[0m\n\u001b[0;32m     74\u001b[0m     \u001b[0mkwargs\u001b[0m\u001b[1;33m.\u001b[0m\u001b[0msetdefault\u001b[0m\u001b[1;33m(\u001b[0m\u001b[1;34m'allow_redirects'\u001b[0m\u001b[1;33m,\u001b[0m \u001b[1;32mTrue\u001b[0m\u001b[1;33m)\u001b[0m\u001b[1;33m\u001b[0m\u001b[1;33m\u001b[0m\u001b[0m\n\u001b[1;32m---> 75\u001b[1;33m     \u001b[1;32mreturn\u001b[0m \u001b[0mrequest\u001b[0m\u001b[1;33m(\u001b[0m\u001b[1;34m'get'\u001b[0m\u001b[1;33m,\u001b[0m \u001b[0murl\u001b[0m\u001b[1;33m,\u001b[0m \u001b[0mparams\u001b[0m\u001b[1;33m=\u001b[0m\u001b[0mparams\u001b[0m\u001b[1;33m,\u001b[0m \u001b[1;33m**\u001b[0m\u001b[0mkwargs\u001b[0m\u001b[1;33m)\u001b[0m\u001b[1;33m\u001b[0m\u001b[1;33m\u001b[0m\u001b[0m\n\u001b[0m\u001b[0;32m     76\u001b[0m \u001b[1;33m\u001b[0m\u001b[0m\n\u001b[0;32m     77\u001b[0m \u001b[1;33m\u001b[0m\u001b[0m\n",
      "\u001b[1;32m~\\Anaconda3\\lib\\site-packages\\requests\\api.py\u001b[0m in \u001b[0;36mrequest\u001b[1;34m(method, url, **kwargs)\u001b[0m\n\u001b[0;32m     58\u001b[0m     \u001b[1;31m# cases, and look like a memory leak in others.\u001b[0m\u001b[1;33m\u001b[0m\u001b[1;33m\u001b[0m\u001b[1;33m\u001b[0m\u001b[0m\n\u001b[0;32m     59\u001b[0m     \u001b[1;32mwith\u001b[0m \u001b[0msessions\u001b[0m\u001b[1;33m.\u001b[0m\u001b[0mSession\u001b[0m\u001b[1;33m(\u001b[0m\u001b[1;33m)\u001b[0m \u001b[1;32mas\u001b[0m \u001b[0msession\u001b[0m\u001b[1;33m:\u001b[0m\u001b[1;33m\u001b[0m\u001b[1;33m\u001b[0m\u001b[0m\n\u001b[1;32m---> 60\u001b[1;33m         \u001b[1;32mreturn\u001b[0m \u001b[0msession\u001b[0m\u001b[1;33m.\u001b[0m\u001b[0mrequest\u001b[0m\u001b[1;33m(\u001b[0m\u001b[0mmethod\u001b[0m\u001b[1;33m=\u001b[0m\u001b[0mmethod\u001b[0m\u001b[1;33m,\u001b[0m \u001b[0murl\u001b[0m\u001b[1;33m=\u001b[0m\u001b[0murl\u001b[0m\u001b[1;33m,\u001b[0m \u001b[1;33m**\u001b[0m\u001b[0mkwargs\u001b[0m\u001b[1;33m)\u001b[0m\u001b[1;33m\u001b[0m\u001b[1;33m\u001b[0m\u001b[0m\n\u001b[0m\u001b[0;32m     61\u001b[0m \u001b[1;33m\u001b[0m\u001b[0m\n\u001b[0;32m     62\u001b[0m \u001b[1;33m\u001b[0m\u001b[0m\n",
      "\u001b[1;32m~\\Anaconda3\\lib\\site-packages\\requests\\sessions.py\u001b[0m in \u001b[0;36mrequest\u001b[1;34m(self, method, url, params, data, headers, cookies, files, auth, timeout, allow_redirects, proxies, hooks, stream, verify, cert, json)\u001b[0m\n\u001b[0;32m    517\u001b[0m             \u001b[0mhooks\u001b[0m\u001b[1;33m=\u001b[0m\u001b[0mhooks\u001b[0m\u001b[1;33m,\u001b[0m\u001b[1;33m\u001b[0m\u001b[1;33m\u001b[0m\u001b[0m\n\u001b[0;32m    518\u001b[0m         )\n\u001b[1;32m--> 519\u001b[1;33m         \u001b[0mprep\u001b[0m \u001b[1;33m=\u001b[0m \u001b[0mself\u001b[0m\u001b[1;33m.\u001b[0m\u001b[0mprepare_request\u001b[0m\u001b[1;33m(\u001b[0m\u001b[0mreq\u001b[0m\u001b[1;33m)\u001b[0m\u001b[1;33m\u001b[0m\u001b[1;33m\u001b[0m\u001b[0m\n\u001b[0m\u001b[0;32m    520\u001b[0m \u001b[1;33m\u001b[0m\u001b[0m\n\u001b[0;32m    521\u001b[0m         \u001b[0mproxies\u001b[0m \u001b[1;33m=\u001b[0m \u001b[0mproxies\u001b[0m \u001b[1;32mor\u001b[0m \u001b[1;33m{\u001b[0m\u001b[1;33m}\u001b[0m\u001b[1;33m\u001b[0m\u001b[1;33m\u001b[0m\u001b[0m\n",
      "\u001b[1;32m~\\Anaconda3\\lib\\site-packages\\requests\\sessions.py\u001b[0m in \u001b[0;36mprepare_request\u001b[1;34m(self, request)\u001b[0m\n\u001b[0;32m    460\u001b[0m             \u001b[0mauth\u001b[0m\u001b[1;33m=\u001b[0m\u001b[0mmerge_setting\u001b[0m\u001b[1;33m(\u001b[0m\u001b[0mauth\u001b[0m\u001b[1;33m,\u001b[0m \u001b[0mself\u001b[0m\u001b[1;33m.\u001b[0m\u001b[0mauth\u001b[0m\u001b[1;33m)\u001b[0m\u001b[1;33m,\u001b[0m\u001b[1;33m\u001b[0m\u001b[1;33m\u001b[0m\u001b[0m\n\u001b[0;32m    461\u001b[0m             \u001b[0mcookies\u001b[0m\u001b[1;33m=\u001b[0m\u001b[0mmerged_cookies\u001b[0m\u001b[1;33m,\u001b[0m\u001b[1;33m\u001b[0m\u001b[1;33m\u001b[0m\u001b[0m\n\u001b[1;32m--> 462\u001b[1;33m             \u001b[0mhooks\u001b[0m\u001b[1;33m=\u001b[0m\u001b[0mmerge_hooks\u001b[0m\u001b[1;33m(\u001b[0m\u001b[0mrequest\u001b[0m\u001b[1;33m.\u001b[0m\u001b[0mhooks\u001b[0m\u001b[1;33m,\u001b[0m \u001b[0mself\u001b[0m\u001b[1;33m.\u001b[0m\u001b[0mhooks\u001b[0m\u001b[1;33m)\u001b[0m\u001b[1;33m,\u001b[0m\u001b[1;33m\u001b[0m\u001b[1;33m\u001b[0m\u001b[0m\n\u001b[0m\u001b[0;32m    463\u001b[0m         )\n\u001b[0;32m    464\u001b[0m         \u001b[1;32mreturn\u001b[0m \u001b[0mp\u001b[0m\u001b[1;33m\u001b[0m\u001b[1;33m\u001b[0m\u001b[0m\n",
      "\u001b[1;32m~\\Anaconda3\\lib\\site-packages\\requests\\models.py\u001b[0m in \u001b[0;36mprepare\u001b[1;34m(self, method, url, headers, files, data, params, auth, cookies, hooks, json)\u001b[0m\n\u001b[0;32m    311\u001b[0m \u001b[1;33m\u001b[0m\u001b[0m\n\u001b[0;32m    312\u001b[0m         \u001b[0mself\u001b[0m\u001b[1;33m.\u001b[0m\u001b[0mprepare_method\u001b[0m\u001b[1;33m(\u001b[0m\u001b[0mmethod\u001b[0m\u001b[1;33m)\u001b[0m\u001b[1;33m\u001b[0m\u001b[1;33m\u001b[0m\u001b[0m\n\u001b[1;32m--> 313\u001b[1;33m         \u001b[0mself\u001b[0m\u001b[1;33m.\u001b[0m\u001b[0mprepare_url\u001b[0m\u001b[1;33m(\u001b[0m\u001b[0murl\u001b[0m\u001b[1;33m,\u001b[0m \u001b[0mparams\u001b[0m\u001b[1;33m)\u001b[0m\u001b[1;33m\u001b[0m\u001b[1;33m\u001b[0m\u001b[0m\n\u001b[0m\u001b[0;32m    314\u001b[0m         \u001b[0mself\u001b[0m\u001b[1;33m.\u001b[0m\u001b[0mprepare_headers\u001b[0m\u001b[1;33m(\u001b[0m\u001b[0mheaders\u001b[0m\u001b[1;33m)\u001b[0m\u001b[1;33m\u001b[0m\u001b[1;33m\u001b[0m\u001b[0m\n\u001b[0;32m    315\u001b[0m         \u001b[0mself\u001b[0m\u001b[1;33m.\u001b[0m\u001b[0mprepare_cookies\u001b[0m\u001b[1;33m(\u001b[0m\u001b[0mcookies\u001b[0m\u001b[1;33m)\u001b[0m\u001b[1;33m\u001b[0m\u001b[1;33m\u001b[0m\u001b[0m\n",
      "\u001b[1;32m~\\Anaconda3\\lib\\site-packages\\requests\\models.py\u001b[0m in \u001b[0;36mprepare_url\u001b[1;34m(self, url, params)\u001b[0m\n\u001b[0;32m    385\u001b[0m             \u001b[0merror\u001b[0m \u001b[1;33m=\u001b[0m \u001b[0merror\u001b[0m\u001b[1;33m.\u001b[0m\u001b[0mformat\u001b[0m\u001b[1;33m(\u001b[0m\u001b[0mto_native_string\u001b[0m\u001b[1;33m(\u001b[0m\u001b[0murl\u001b[0m\u001b[1;33m,\u001b[0m \u001b[1;34m'utf8'\u001b[0m\u001b[1;33m)\u001b[0m\u001b[1;33m)\u001b[0m\u001b[1;33m\u001b[0m\u001b[1;33m\u001b[0m\u001b[0m\n\u001b[0;32m    386\u001b[0m \u001b[1;33m\u001b[0m\u001b[0m\n\u001b[1;32m--> 387\u001b[1;33m             \u001b[1;32mraise\u001b[0m \u001b[0mMissingSchema\u001b[0m\u001b[1;33m(\u001b[0m\u001b[0merror\u001b[0m\u001b[1;33m)\u001b[0m\u001b[1;33m\u001b[0m\u001b[1;33m\u001b[0m\u001b[0m\n\u001b[0m\u001b[0;32m    388\u001b[0m \u001b[1;33m\u001b[0m\u001b[0m\n\u001b[0;32m    389\u001b[0m         \u001b[1;32mif\u001b[0m \u001b[1;32mnot\u001b[0m \u001b[0mhost\u001b[0m\u001b[1;33m:\u001b[0m\u001b[1;33m\u001b[0m\u001b[1;33m\u001b[0m\u001b[0m\n",
      "\u001b[1;31mMissingSchema\u001b[0m: Invalid URL '5': No schema supplied. Perhaps you meant http://5?"
     ]
    }
   ],
   "source": [
    "get(5)"
   ]
  },
  {
   "cell_type": "code",
   "execution_count": 107,
   "metadata": {},
   "outputs": [],
   "source": [
    "from bs4 import BeautifulSoup\n",
    "soup = BeautifulSoup(html_sample, 'lxml')"
   ]
  },
  {
   "cell_type": "code",
   "execution_count": 109,
   "metadata": {},
   "outputs": [
    {
     "name": "stdout",
     "output_type": "stream",
     "text": [
      "\n",
      "\n",
      "Hello World\n",
      "This is link1\n",
      "This is link2\n",
      "\n",
      "\n"
     ]
    }
   ],
   "source": [
    "print(soup.text)"
   ]
  },
  {
   "cell_type": "code",
   "execution_count": 110,
   "metadata": {},
   "outputs": [
    {
     "data": {
      "text/plain": [
       "bs4.BeautifulSoup"
      ]
     },
     "execution_count": 110,
     "metadata": {},
     "output_type": "execute_result"
    }
   ],
   "source": [
    "type(soup)"
   ]
  },
  {
   "cell_type": "code",
   "execution_count": 112,
   "metadata": {
    "scrolled": true
   },
   "outputs": [
    {
     "name": "stdout",
     "output_type": "stream",
     "text": [
      "\n",
      "<html>\n",
      "<body>\n",
      "<h1 id=\"title\">Hello World</h1>\n",
      "<a href=\"#\" class=\"link\">This is link1</a>\n",
      "<a href=\"# link2\" class=\"link\">This is link2</a>\n",
      "</body>\n",
      "</html>\n"
     ]
    }
   ],
   "source": [
    "print(html_sample)"
   ]
  },
  {
   "cell_type": "code",
   "execution_count": 113,
   "metadata": {},
   "outputs": [
    {
     "data": {
      "text/plain": [
       "<h1 id=\"title\">Hello World</h1>"
      ]
     },
     "execution_count": 113,
     "metadata": {},
     "output_type": "execute_result"
    }
   ],
   "source": [
    "soup.select_one('h1')"
   ]
  },
  {
   "cell_type": "code",
   "execution_count": 114,
   "metadata": {},
   "outputs": [
    {
     "data": {
      "text/plain": [
       "'Hello World'"
      ]
     },
     "execution_count": 114,
     "metadata": {},
     "output_type": "execute_result"
    }
   ],
   "source": [
    "soup.select_one('h1').text"
   ]
  },
  {
   "cell_type": "code",
   "execution_count": 115,
   "metadata": {},
   "outputs": [
    {
     "data": {
      "text/plain": [
       "<a class=\"link\" href=\"#\">This is link1</a>"
      ]
     },
     "execution_count": 115,
     "metadata": {},
     "output_type": "execute_result"
    }
   ],
   "source": [
    "soup.select_one('a')"
   ]
  },
  {
   "cell_type": "code",
   "execution_count": 117,
   "metadata": {},
   "outputs": [
    {
     "data": {
      "text/plain": [
       "bs4.element.Tag"
      ]
     },
     "execution_count": 117,
     "metadata": {},
     "output_type": "execute_result"
    }
   ],
   "source": [
    "type(soup.select_one('a'))"
   ]
  },
  {
   "cell_type": "code",
   "execution_count": 116,
   "metadata": {},
   "outputs": [
    {
     "data": {
      "text/plain": [
       "[<a class=\"link\" href=\"#\">This is link1</a>,\n",
       " <a class=\"link\" href=\"# link2\">This is link2</a>]"
      ]
     },
     "execution_count": 116,
     "metadata": {},
     "output_type": "execute_result"
    }
   ],
   "source": [
    "soup.select('a')"
   ]
  },
  {
   "cell_type": "code",
   "execution_count": 118,
   "metadata": {},
   "outputs": [
    {
     "data": {
      "text/plain": [
       "list"
      ]
     },
     "execution_count": 118,
     "metadata": {},
     "output_type": "execute_result"
    }
   ],
   "source": [
    "type(soup.select('a'))"
   ]
  },
  {
   "cell_type": "code",
   "execution_count": 120,
   "metadata": {},
   "outputs": [
    {
     "data": {
      "text/plain": [
       "<h1 id=\"title\">Hello World</h1>"
      ]
     },
     "execution_count": 120,
     "metadata": {},
     "output_type": "execute_result"
    }
   ],
   "source": [
    "# id => #\n",
    "soup.select_one('#title')"
   ]
  },
  {
   "cell_type": "code",
   "execution_count": 123,
   "metadata": {},
   "outputs": [
    {
     "data": {
      "text/plain": [
       "<h1 id=\"title\">Hello World</h1>"
      ]
     },
     "execution_count": 123,
     "metadata": {},
     "output_type": "execute_result"
    }
   ],
   "source": [
    "soup.select_one('h1#title')"
   ]
  },
  {
   "cell_type": "code",
   "execution_count": 124,
   "metadata": {},
   "outputs": [
    {
     "data": {
      "text/plain": [
       "<h1 id=\"title\">Hello World</h1>"
      ]
     },
     "execution_count": 124,
     "metadata": {},
     "output_type": "execute_result"
    }
   ],
   "source": [
    "soup.select_one('body h1#title')"
   ]
  },
  {
   "cell_type": "code",
   "execution_count": 125,
   "metadata": {},
   "outputs": [
    {
     "data": {
      "text/plain": [
       "<h1 id=\"title\">Hello World</h1>"
      ]
     },
     "execution_count": 125,
     "metadata": {},
     "output_type": "execute_result"
    }
   ],
   "source": [
    "soup.select_one('body #title')"
   ]
  },
  {
   "cell_type": "code",
   "execution_count": 122,
   "metadata": {},
   "outputs": [
    {
     "data": {
      "text/plain": [
       "[<a class=\"link\" href=\"#\">This is link1</a>,\n",
       " <a class=\"link\" href=\"# link2\">This is link2</a>]"
      ]
     },
     "execution_count": 122,
     "metadata": {},
     "output_type": "execute_result"
    }
   ],
   "source": [
    "# class => .\n",
    "soup.select('.link')"
   ]
  },
  {
   "cell_type": "code",
   "execution_count": 126,
   "metadata": {},
   "outputs": [
    {
     "data": {
      "text/plain": [
       "[<a class=\"link\" href=\"#\">This is link1</a>,\n",
       " <a class=\"link\" href=\"# link2\">This is link2</a>]"
      ]
     },
     "execution_count": 126,
     "metadata": {},
     "output_type": "execute_result"
    }
   ],
   "source": [
    "soup.select('a.link')"
   ]
  },
  {
   "cell_type": "code",
   "execution_count": 127,
   "metadata": {},
   "outputs": [
    {
     "data": {
      "text/plain": [
       "[<a class=\"link\" href=\"#\">This is link1</a>,\n",
       " <a class=\"link\" href=\"# link2\">This is link2</a>]"
      ]
     },
     "execution_count": 127,
     "metadata": {},
     "output_type": "execute_result"
    }
   ],
   "source": [
    "soup.select('body a.link')"
   ]
  },
  {
   "cell_type": "code",
   "execution_count": 128,
   "metadata": {},
   "outputs": [
    {
     "data": {
      "text/plain": [
       "[<a class=\"link\" href=\"#\">This is link1</a>,\n",
       " <a class=\"link\" href=\"# link2\">This is link2</a>]"
      ]
     },
     "execution_count": 128,
     "metadata": {},
     "output_type": "execute_result"
    }
   ],
   "source": [
    "soup.select('body .link')"
   ]
  },
  {
   "cell_type": "code",
   "execution_count": 130,
   "metadata": {},
   "outputs": [
    {
     "name": "stdout",
     "output_type": "stream",
     "text": [
      "This is link1\n",
      "This is link2\n"
     ]
    }
   ],
   "source": [
    "for a in soup.select('body a.link'):\n",
    "    #print(a)\n",
    "    print(a.text)"
   ]
  },
  {
   "cell_type": "code",
   "execution_count": 132,
   "metadata": {},
   "outputs": [
    {
     "name": "stdout",
     "output_type": "stream",
     "text": [
      "#\n",
      "# link2\n"
     ]
    }
   ],
   "source": [
    "for a in soup.select('body a.link'):\n",
    "    print(a.get('href'))"
   ]
  },
  {
   "cell_type": "code",
   "execution_count": 138,
   "metadata": {},
   "outputs": [
    {
     "name": "stdout",
     "output_type": "stream",
     "text": [
      "qoo\n",
      "link\n",
      "def\n"
     ]
    }
   ],
   "source": [
    "s = '<a href=\"link\" data=\"qoo\" abc=\"def\"></a>'\n",
    "s2 = BeautifulSoup(s,'lxml')\n",
    "print(s2.select_one('a').get('data'))\n",
    "print(s2.select_one('a').get('href'))\n",
    "print(s2.select_one('a').get('abc'))"
   ]
  },
  {
   "cell_type": "markdown",
   "metadata": {},
   "source": [
    "## 蘋果資料剖析"
   ]
  },
  {
   "cell_type": "code",
   "execution_count": 139,
   "metadata": {},
   "outputs": [],
   "source": [
    "import requests\n",
    "res = requests.get('https://tw.appledaily.com/new/realtime')"
   ]
  },
  {
   "cell_type": "code",
   "execution_count": 140,
   "metadata": {},
   "outputs": [],
   "source": [
    "from bs4 import BeautifulSoup\n",
    "soup = BeautifulSoup(res.text, 'lxml')"
   ]
  },
  {
   "cell_type": "code",
   "execution_count": 181,
   "metadata": {},
   "outputs": [],
   "source": [
    "for news in soup.select('li.rtddt'):\n",
    "    #print(news)\n",
    "    title = news.select_one('h1').text\n",
    "    category = news.select_one('h2').text\n",
    "    dt = news.select_one('time').text\n",
    "    #print(title, category, dt)\n",
    "    print('========================')"
   ]
  },
  {
   "cell_type": "markdown",
   "metadata": {},
   "source": [
    "## Mobile01"
   ]
  },
  {
   "cell_type": "code",
   "execution_count": null,
   "metadata": {},
   "outputs": [],
   "source": [
    "from flask import Flask,jsonify\n",
    "from flask import request\n",
    "\n",
    "app=Flask(__name__)\n",
    "\n",
    "@app.route(\"/\")\n",
    "def getSalary():\n",
    "\treturn jsonify({'data' :request.headers.get('User-Agent') })\n",
    "\n",
    "if __name__==\"__main__\":\n",
    "\tapp.run()"
   ]
  },
  {
   "cell_type": "code",
   "execution_count": 160,
   "metadata": {},
   "outputs": [
    {
     "data": {
      "text/plain": [
       "{'data': 'qoo'}"
      ]
     },
     "execution_count": 160,
     "metadata": {},
     "output_type": "execute_result"
    }
   ],
   "source": [
    "import requests\n",
    "headers = {\n",
    "  'user-agent': 'qoo'  \n",
    "}\n",
    "res = requests.get('http://127.0.0.1:5000/', headers = headers)\n",
    "res.json()"
   ]
  },
  {
   "cell_type": "code",
   "execution_count": 165,
   "metadata": {
    "scrolled": false
   },
   "outputs": [],
   "source": [
    "import requests\n",
    "headers = {\n",
    "  'user-agent': 'Mozilla/5.0 (Windows NT 10.0; Win64; x64) AppleWebKit/537.36 (KHTML, like Gecko) Chrome/76.0.3809.132 Safari/537.36'  \n",
    "}\n",
    "res = requests.get('https://www.mobile01.com/newslist.php', headers = headers)\n",
    "#res.text"
   ]
  },
  {
   "cell_type": "code",
   "execution_count": 166,
   "metadata": {},
   "outputs": [],
   "source": [
    "from bs4 import BeautifulSoup\n",
    "soup = BeautifulSoup(res.text, 'lxml')"
   ]
  },
  {
   "cell_type": "code",
   "execution_count": 180,
   "metadata": {},
   "outputs": [],
   "source": [
    "for rec in soup.select('.l-cols__3'):\n",
    "    #print(rec)\n",
    "    title = rec.select_one('.l-articleCardDesc').text.strip()\n",
    "    dt = rec.select_one('.l-articleCardInfo__left .o-fNotes').text\n",
    "    author = rec.select_one('.l-articleCardInfo__right .o-fNotes').text\n",
    "    #print(title, dt, author)\n",
    "    #print('=============================')"
   ]
  },
  {
   "cell_type": "markdown",
   "metadata": {},
   "source": [
    "## 蘋果新聞列表爬取"
   ]
  },
  {
   "cell_type": "code",
   "execution_count": 182,
   "metadata": {},
   "outputs": [],
   "source": [
    "import requests\n",
    "res = requests.get('https://tw.appledaily.com/new/realtime')"
   ]
  },
  {
   "cell_type": "code",
   "execution_count": 184,
   "metadata": {},
   "outputs": [],
   "source": [
    "from bs4 import BeautifulSoup\n",
    "soup = BeautifulSoup(res.text, 'lxml')"
   ]
  },
  {
   "cell_type": "code",
   "execution_count": 187,
   "metadata": {},
   "outputs": [
    {
     "name": "stdout",
     "output_type": "stream",
     "text": [
      "https://tw.news.appledaily.com/local/realtime/20190922/1637170/\n",
      "https://tw.news.appledaily.com/politics/realtime/20190922/1637173/\n",
      "https://tw.news.appledaily.com/life/realtime/20190922/1637154/\n",
      "https://tw.entertainment.appledaily.com/realtime/20190922/1637168/\n",
      "https://tw.news.appledaily.com/politics/realtime/20190922/1637165/\n",
      "https://tw.news.appledaily.com/local/realtime/20190922/1637146/\n",
      "https://tw.news.appledaily.com/local/realtime/20190922/1637059/\n",
      "https://tw.news.appledaily.com/local/realtime/20190922/1637070/\n",
      "https://tw.news.appledaily.com/politics/realtime/20190922/1637149/\n",
      "https://tw.news.appledaily.com/international/realtime/20190922/1637161/\n",
      "https://tw.news.appledaily.com/politics/realtime/20190922/1637159/\n",
      "https://tw.entertainment.appledaily.com/realtime/20190922/1637148/\n",
      "https://tw.finance.appledaily.com/realtime/20190922/1636754/\n",
      "https://tw.news.appledaily.com/life/realtime/20190922/1637117/\n",
      "https://tw.news.appledaily.com/local/realtime/20190922/1637135/\n",
      "https://tw.news.appledaily.com/local/realtime/20190922/1637158/\n",
      "https://tw.news.appledaily.com/local/realtime/20190922/1637138/\n",
      "https://tw.news.appledaily.com/international/realtime/20190922/1626624/\n",
      "https://tw.lifestyle.appledaily.com/gadget/realtime/20190922/1636617/\n",
      "https://tw.sports.appledaily.com/realtime/20190922/1637155/\n",
      "https://tw.finance.appledaily.com/realtime/20190922/1637152/\n",
      "https://tw.entertainment.appledaily.com/realtime/20190922/1637131/\n",
      "https://tw.news.appledaily.com/local/realtime/20190922/1637050/\n",
      "https://tw.news.appledaily.com/life/realtime/20190922/1637076/\n",
      "https://tw.news.appledaily.com/local/realtime/20190922/1617690/\n",
      "https://tw.finance.appledaily.com/realtime/20190922/1634621/\n",
      "https://tw.sports.appledaily.com/realtime/20190922/1637110/\n",
      "https://tw.news.appledaily.com/politics/realtime/20190922/1637151/\n",
      "https://tw.news.appledaily.com/politics/realtime/20190922/1637139/\n",
      "https://tw.news.appledaily.com/life/realtime/20190922/1637122/\n"
     ]
    }
   ],
   "source": [
    "for news in soup.select('li.rtddt'):\n",
    "    title = news.select_one('h1').text\n",
    "    category = news.select_one('h2').text\n",
    "    dt = news.select_one('time').text\n",
    "    link = news.select_one('a').get('href')\n",
    "    print(link)"
   ]
  },
  {
   "cell_type": "markdown",
   "metadata": {},
   "source": [
    "## Script\n",
    "- https://gist.github.com/ywchiu/c2363caa0ae9261babeaea49e4a710fa"
   ]
  },
  {
   "cell_type": "markdown",
   "metadata": {},
   "source": [
    "## 抓取蘋果內文"
   ]
  },
  {
   "cell_type": "code",
   "execution_count": 189,
   "metadata": {},
   "outputs": [],
   "source": [
    "import requests\n",
    "res = requests.get('https://tw.news.appledaily.com/politics/realtime/20190922/1637173/')\n",
    "#res.text"
   ]
  },
  {
   "cell_type": "code",
   "execution_count": 190,
   "metadata": {},
   "outputs": [],
   "source": [
    "from bs4 import BeautifulSoup\n",
    "soup = BeautifulSoup(res.text , 'lxml')"
   ]
  },
  {
   "cell_type": "code",
   "execution_count": 193,
   "metadata": {},
   "outputs": [
    {
     "data": {
      "text/plain": [
       "'為鞏固宗教界選票，總統蔡英文競選團隊動起來，近期除了密集到全台各廟宇參拜外，今也成立全國宗教後援會。蔡英文致詞表示，這一百多天一定會有很多假訊息、謠言，在過去選戰裡頭都看到，等到選舉結束後才忽然覺得為何選舉期間都被假訊息、謠言帶著走。因此她拜託宗教界領袖協助協助澄清，將謠言破解，讓台灣人的選舉及民主不會被這些假訊息破壞。蔡英文強調，這一點是台灣民主發展最重要的一環，全世界的民主國家都面臨同樣問題，假訊息、假消息或謠言不斷在侵害公眾對政治人物、政策、公共事務的認知，如果人民沒有正確認知，民主選舉就不會有正確的結果，因此希望宗教界朋友一起對抗假消息。蔡英文指出，距離2020年1月11日投票日僅剩下3個多月，這一百多天的時間將面臨很多考驗，她相信不論在台灣內部或外部都想要影響選戰最後結果，因此這將是最具挑戰的一百多天，她拜託宗教界領袖協助。蔡英文說，請宗教界幫她宣傳，因為執政團隊確實很努力，也非常有效率，過去三年多的工作，到現在一一看到成果，不論在經濟發展、福利照顧、國防外交都有很好的成績，可向人民報告，所以她要請宗教替我們執政團隊宣傳政績，懂的照顧人民、發展經濟。蔡英文表示，宗教人士一定比她更同意，面對來自中國的步步進逼及挑戰，台灣人要走的這條路上，一定是「團結」，只有台灣人團結，才能一起面對挑戰，希望宗教界的好朋友們都站出來，告訴全台灣人說，一定要團結。不管台灣派、中華民國派、中華民國台灣派，都要團結起來，守護台灣。（陳建瑜／台北報導）\\xa0'"
      ]
     },
     "execution_count": 193,
     "metadata": {},
     "output_type": "execute_result"
    }
   ],
   "source": [
    "soup.select_one('.ndArticle_margin p').text"
   ]
  },
  {
   "cell_type": "code",
   "execution_count": 195,
   "metadata": {},
   "outputs": [
    {
     "data": {
      "text/plain": [
       "'為假訊息打預防針\\u3000蔡英文：拜託宗教領袖破除謠言'"
      ]
     },
     "execution_count": 195,
     "metadata": {},
     "output_type": "execute_result"
    }
   ],
   "source": [
    "soup.select_one('h1').text"
   ]
  },
  {
   "cell_type": "code",
   "execution_count": 196,
   "metadata": {},
   "outputs": [
    {
     "name": "stdout",
     "output_type": "stream",
     "text": [
      "為假訊息打預防針　蔡英文：拜託宗教領袖破除謠言\n"
     ]
    }
   ],
   "source": [
    "print(soup.select_one('h1').text)"
   ]
  },
  {
   "cell_type": "code",
   "execution_count": 200,
   "metadata": {},
   "outputs": [
    {
     "data": {
      "text/plain": [
       "'政治'"
      ]
     },
     "execution_count": 200,
     "metadata": {},
     "output_type": "execute_result"
    }
   ],
   "source": [
    "soup.select_one('.ndgTag .current').text"
   ]
  },
  {
   "cell_type": "code",
   "execution_count": 202,
   "metadata": {},
   "outputs": [
    {
     "data": {
      "text/plain": [
       "'出版時間：2019/09/22 14:47'"
      ]
     },
     "execution_count": 202,
     "metadata": {},
     "output_type": "execute_result"
    }
   ],
   "source": [
    "soup.select_one('.ndArticle_creat').text"
   ]
  },
  {
   "cell_type": "markdown",
   "metadata": {},
   "source": [
    "## 時間\n",
    "- https://docs.python.org/zh-cn/3/library/datetime.html#strftime-and-strptime-behavior"
   ]
  },
  {
   "cell_type": "code",
   "execution_count": 203,
   "metadata": {},
   "outputs": [
    {
     "ename": "TypeError",
     "evalue": "unsupported operand type(s) for -: 'str' and 'str'",
     "output_type": "error",
     "traceback": [
      "\u001b[1;31m---------------------------------------------------------------------------\u001b[0m",
      "\u001b[1;31mTypeError\u001b[0m                                 Traceback (most recent call last)",
      "\u001b[1;32m<ipython-input-203-c672181ff469>\u001b[0m in \u001b[0;36m<module>\u001b[1;34m\u001b[0m\n\u001b[1;32m----> 1\u001b[1;33m \u001b[1;34m'2019-12-31'\u001b[0m \u001b[1;33m-\u001b[0m \u001b[1;34m'2019-09-22'\u001b[0m\u001b[1;33m\u001b[0m\u001b[1;33m\u001b[0m\u001b[0m\n\u001b[0m",
      "\u001b[1;31mTypeError\u001b[0m: unsupported operand type(s) for -: 'str' and 'str'"
     ]
    }
   ],
   "source": [
    "'2019-12-31' - '2019-09-22' "
   ]
  },
  {
   "cell_type": "code",
   "execution_count": 205,
   "metadata": {},
   "outputs": [],
   "source": [
    "from datetime import datetime\n",
    "current_time = datetime.now()"
   ]
  },
  {
   "cell_type": "code",
   "execution_count": 206,
   "metadata": {},
   "outputs": [
    {
     "data": {
      "text/plain": [
       "datetime.datetime(2019, 9, 22, 15, 25, 45, 550702)"
      ]
     },
     "execution_count": 206,
     "metadata": {},
     "output_type": "execute_result"
    }
   ],
   "source": [
    "current_time"
   ]
  },
  {
   "cell_type": "code",
   "execution_count": 208,
   "metadata": {},
   "outputs": [
    {
     "data": {
      "text/plain": [
       "'2019/09/22'"
      ]
     },
     "execution_count": 208,
     "metadata": {},
     "output_type": "execute_result"
    }
   ],
   "source": [
    "# 將時間轉變成字串\n",
    "current_time.strftime('%Y/%m/%d')"
   ]
  },
  {
   "cell_type": "code",
   "execution_count": 209,
   "metadata": {},
   "outputs": [
    {
     "data": {
      "text/plain": [
       "'2019-09-22'"
      ]
     },
     "execution_count": 209,
     "metadata": {},
     "output_type": "execute_result"
    }
   ],
   "source": [
    "current_time.strftime('%Y-%m-%d')"
   ]
  },
  {
   "cell_type": "code",
   "execution_count": 213,
   "metadata": {},
   "outputs": [],
   "source": [
    "# 將字串轉換為時間\n",
    "dt = datetime.strptime('2019-12-31','%Y-%m-%d')"
   ]
  },
  {
   "cell_type": "code",
   "execution_count": 214,
   "metadata": {},
   "outputs": [
    {
     "data": {
      "text/plain": [
       "datetime.timedelta(days=99, seconds=30854, microseconds=449298)"
      ]
     },
     "execution_count": 214,
     "metadata": {},
     "output_type": "execute_result"
    }
   ],
   "source": [
    "dt - current_time"
   ]
  },
  {
   "cell_type": "code",
   "execution_count": 215,
   "metadata": {},
   "outputs": [
    {
     "name": "stdout",
     "output_type": "stream",
     "text": [
      "2017-11-03 14:00:00\n"
     ]
    }
   ],
   "source": [
    "a = '2017-11-03 14:00'\n",
    "print(datetime.strptime(a, \"%Y-%m-%d %H:%M\"))"
   ]
  },
  {
   "cell_type": "code",
   "execution_count": 216,
   "metadata": {},
   "outputs": [
    {
     "data": {
      "text/plain": [
       "'出版時間：2019/09/22 14:47'"
      ]
     },
     "execution_count": 216,
     "metadata": {},
     "output_type": "execute_result"
    }
   ],
   "source": [
    "soup.select_one('.ndArticle_creat').text"
   ]
  },
  {
   "cell_type": "code",
   "execution_count": 219,
   "metadata": {},
   "outputs": [
    {
     "data": {
      "text/plain": [
       "datetime.datetime(2019, 9, 22, 14, 47)"
      ]
     },
     "execution_count": 219,
     "metadata": {},
     "output_type": "execute_result"
    }
   ],
   "source": [
    "dt = soup.select_one('.ndArticle_creat').text.split('：')[1]\n",
    "datetime.strptime(dt, \"%Y/%m/%d %H:%M\")"
   ]
  },
  {
   "cell_type": "code",
   "execution_count": 220,
   "metadata": {},
   "outputs": [
    {
     "data": {
      "text/plain": [
       "datetime.datetime(2019, 9, 22, 14, 47)"
      ]
     },
     "execution_count": 220,
     "metadata": {},
     "output_type": "execute_result"
    }
   ],
   "source": [
    "dt = soup.select_one('.ndArticle_creat').text\n",
    "datetime.strptime(dt, \"出版時間：%Y/%m/%d %H:%M\")"
   ]
  },
  {
   "cell_type": "markdown",
   "metadata": {},
   "source": [
    "## 抓取內文函式"
   ]
  },
  {
   "cell_type": "code",
   "execution_count": 222,
   "metadata": {},
   "outputs": [],
   "source": [
    "def pageDetail(detailurl):\n",
    "    res = requests.get(detailurl)\n",
    "    soup = BeautifulSoup(res.text , 'lxml')\n",
    "    # 內文\n",
    "    summary = soup.select_one('.ndArticle_margin p').text\n",
    "    # 標題\n",
    "    title = soup.select_one('h1').text\n",
    "    # 時間\n",
    "    dt = soup.select_one('.ndArticle_creat').text\n",
    "    dt = datetime.strptime(dt, \"出版時間：%Y/%m/%d %H:%M\")\n",
    "    # 類別\n",
    "    category = soup.select_one('.ndgTag .current').text\n",
    "    return {\n",
    "            'summary': summary,\n",
    "            'title': title,\n",
    "            'dt': dt,\n",
    "            'category': category,\n",
    "            'url' : detailurl,\n",
    "            }"
   ]
  },
  {
   "cell_type": "code",
   "execution_count": 223,
   "metadata": {},
   "outputs": [
    {
     "data": {
      "text/plain": [
       "{'summary': '為鞏固宗教界選票，總統蔡英文競選團隊動起來，近期除了密集到全台各廟宇參拜外，今也成立全國宗教後援會。蔡英文致詞表示，這一百多天一定會有很多假訊息、謠言，在過去選戰裡頭都看到，等到選舉結束後才忽然覺得為何選舉期間都被假訊息、謠言帶著走。因此她拜託宗教界領袖協助協助澄清，將謠言破解，讓台灣人的選舉及民主不會被這些假訊息破壞。蔡英文強調，這一點是台灣民主發展最重要的一環，全世界的民主國家都面臨同樣問題，假訊息、假消息或謠言不斷在侵害公眾對政治人物、政策、公共事務的認知，如果人民沒有正確認知，民主選舉就不會有正確的結果，因此希望宗教界朋友一起對抗假消息。蔡英文指出，距離2020年1月11日投票日僅剩下3個多月，這一百多天的時間將面臨很多考驗，她相信不論在台灣內部或外部都想要影響選戰最後結果，因此這將是最具挑戰的一百多天，她拜託宗教界領袖協助。蔡英文說，請宗教界幫她宣傳，因為執政團隊確實很努力，也非常有效率，過去三年多的工作，到現在一一看到成果，不論在經濟發展、福利照顧、國防外交都有很好的成績，可向人民報告，所以她要請宗教替我們執政團隊宣傳政績，懂的照顧人民、發展經濟。蔡英文表示，宗教人士一定比她更同意，面對來自中國的步步進逼及挑戰，台灣人要走的這條路上，一定是「團結」，只有台灣人團結，才能一起面對挑戰，希望宗教界的好朋友們都站出來，告訴全台灣人說，一定要團結。不管台灣派、中華民國派、中華民國台灣派，都要團結起來，守護台灣。（陳建瑜／台北報導）\\xa0',\n",
       " 'title': '為假訊息打預防針\\u3000蔡英文：拜託宗教領袖破除謠言',\n",
       " 'dt': datetime.datetime(2019, 9, 22, 14, 47),\n",
       " 'category': '政治',\n",
       " 'url': 'https://tw.news.appledaily.com/politics/realtime/20190922/1637173/'}"
      ]
     },
     "execution_count": 223,
     "metadata": {},
     "output_type": "execute_result"
    }
   ],
   "source": [
    "pageDetail('https://tw.news.appledaily.com/politics/realtime/20190922/1637173/')"
   ]
  },
  {
   "cell_type": "code",
   "execution_count": 224,
   "metadata": {},
   "outputs": [
    {
     "data": {
      "text/plain": [
       "{'summary': 'Apple iPhone 11開賣，降價策略激勵短線買氣，供應鏈預期，今年仍為小改款，雖然透過降價但整體賣相不佳，預估對Apple供應鏈量能提升有限。供應鏈透露，iPhone換機潮會在明年，估計將有毫米波（mmWave）和Sub-6Hz 2 種5G技術、粗估會有6款5G iPhone來搶市。今年iPhone 11 在發表會後，分析師評點就是了無新意，但降價策略奏效，對於最後一款4G iPhone銷量小有挹注。知名半導體分析師陸行之就在臉書上發文，美國蘋果公司(Apple Inc.)的iPhone 11, iPhone 11 Pro, iPhone 11 Pro Max 發表會平淡無奇，不過電源管理及電力功率技術演進算是一亮點，但他會等明年 iPhone 12 5G版本。以富邦投顧調查供應鏈來看，今年最平價的iPhone 11 LCD出貨應可提升，短線來看LCD款供應鏈和碩（4938）、可成（2474）有望受惠短線動能，毛利率仍是承壓。 而OLED iPhone 11Pro、iPhone 11 Pro Max出貨或為持平，下半年新款iPhone將從5040萬支略微提升至5210萬支，加上舊機款iPhone 8等砍價誘人，預估今年整體iPhone出貨量可有1.79億支水準，但仍出現年衰退12%的窘境。相較於Android陣營高階機款今年就以切入5G戰場，因數據晶片搭仔的考量iPhone 明年才會正式進入。有別於年初傳聞Apple僅打算在高階機款支援5G，A目前供應鏈預期，明年所有新款iPhone 均會是5G版本。供應鏈消息也指出，目前產業5G 兩大技術主流可分為毫米波、Sub-6Hz，Apple都會有因應的5G產品線來佈局。以市場來看，美國市場將以毫米波為主，而非美國海外市場則是Sub-6Hz 機款產品線。依據明年仍有3款尺寸不同iPhone來看，估計會有2種5G技術、6款不同型號的iPhone面市。6GHz以下頻段在5G技術，目前集中在2.1GHz頻率以下、嚴重飽和的4G和3G蜂窩頻段增加較寬頻寬的大頻譜，目前的4G技術將繼續發展並成為6GHz以下頻段互補技術。而毫米波技術方面，由於毫米波通訊距離短、覆蓋範圍小，加上容易受到物體遮蔽干擾，因此需要波束成型（beam forming）和巨量天線（massive MIMO）等訊號處理。毫米波訊號質量倚手機中的天線和手機結構中的材質使用，多個極化和頻率可以幫助減少外部訊號干擾。富邦投顧分析，由於5G手機不像是4G LTE天線設置，毫米波和Sub-6Hz是無法整合並存，勢必需要設計2款不同的5G天線模組，PCBA成品線路板因應5.4吋、6.1吋和6.7吋都需要有2款模組。（陳俐妏／台北報導）更新:調整內文、新增動新聞發稿:00:02更新:14:16',\n",
       " 'title': '【果粉再等等】供應鏈爆料\\u3000Apple明年推6款5G版iPhone',\n",
       " 'dt': datetime.datetime(2019, 9, 22, 14, 16),\n",
       " 'category': '財經地產',\n",
       " 'url': 'https://tw.finance.appledaily.com/realtime/20190922/1636754/'}"
      ]
     },
     "execution_count": 224,
     "metadata": {},
     "output_type": "execute_result"
    }
   ],
   "source": [
    "pageDetail('https://tw.finance.appledaily.com/realtime/20190922/1636754/')"
   ]
  },
  {
   "cell_type": "markdown",
   "metadata": {},
   "source": [
    "## 完整蘋果新聞爬蟲"
   ]
  },
  {
   "cell_type": "code",
   "execution_count": 226,
   "metadata": {},
   "outputs": [],
   "source": [
    "import requests\n",
    "from bs4 import BeautifulSoup\n",
    "res = requests.get('https://tw.appledaily.com/new/realtime')\n",
    "soup = BeautifulSoup(res.text, 'lxml')"
   ]
  },
  {
   "cell_type": "code",
   "execution_count": 230,
   "metadata": {},
   "outputs": [],
   "source": [
    "newsary = []\n",
    "for news in soup.select('li.rtddt'):\n",
    "    url = news.select_one('a').get('href')\n",
    "    newsary.append(pageDetail(url))"
   ]
  },
  {
   "cell_type": "code",
   "execution_count": 231,
   "metadata": {},
   "outputs": [
    {
     "data": {
      "text/plain": [
       "30"
      ]
     },
     "execution_count": 231,
     "metadata": {},
     "output_type": "execute_result"
    }
   ],
   "source": [
    "len(newsary)"
   ]
  },
  {
   "cell_type": "code",
   "execution_count": 233,
   "metadata": {},
   "outputs": [
    {
     "data": {
      "text/plain": [
       "{'summary': '(更新:新增影片)高雄市前鎮區凱旋夜市，昨晚8時許突然有近百名男子現身，其中多人聚集在管理員室前「走來走去」，民眾見狀嚇得報警處理。轄區前鎮分局才剛歷經「直播主之亂」導致一名派出所長被撤換，警方獲報「夜市有青少年聚集」，深怕又發生街頭暴力事件，立刻派遣警網前往夜市，可疑男子發現警察，立刻鳥獸散，但仍有近30人被警方攔下登記身分。目擊者表示，聚集再夜市的年輕男子有近百人，但轄區前鎮分局強調，聚集的人數並沒有那麼多，警方登記來不及逃走的青少年與年輕男子近30人，他們聲稱是來夜市租攤位，或說是要來吃消夜，但警方掌握訊息，發現這群男子可能與鳳山區另一夜市的業者有關連，該夜市曾被檢舉違規，鳳山的業者懷疑是前鎮的業者暗中檢舉。警方表示，目前凱旋夜市的管理單位尚未提出任何告訴，也不願證實是否與鳳山夜市的業者有糾紛，但警方已經成立專案小組，先造冊列管昨晚現身凱旋夜市「走來走去」的男子，前鎮分局長林新晃說：「日後如果發生暴力案件，警方才有追查的目標！」警方也已通知鳳山分局協助調查。(王勇超／高雄報導)出版時間\\xa0 1129更新時間\\xa0 1554',\n",
       " 'title': '【直播主之亂】高雄前鎮爆出番外篇\\u300030男聚集凱旋夜市「走來走去」',\n",
       " 'dt': datetime.datetime(2019, 9, 22, 15, 54),\n",
       " 'category': '社會',\n",
       " 'url': 'https://tw.news.appledaily.com/local/realtime/20190922/1637097/'}"
      ]
     },
     "execution_count": 233,
     "metadata": {},
     "output_type": "execute_result"
    }
   ],
   "source": [
    "newsary[1]"
   ]
  },
  {
   "cell_type": "code",
   "execution_count": 235,
   "metadata": {},
   "outputs": [],
   "source": [
    "import requests\n",
    "from bs4 import BeautifulSoup\n",
    "newsurl = 'https://tw.appledaily.com/new/realtime/{}'\n",
    "\n",
    "newsary = []\n",
    "\n",
    "for page in range(1,3):\n",
    "    res = requests.get(newsurl.format(page))\n",
    "    soup = BeautifulSoup(res.text, 'lxml')\n",
    "    for news in soup.select('li.rtddt'):\n",
    "        url = news.select_one('a').get('href')\n",
    "        newsary.append(pageDetail(url))"
   ]
  },
  {
   "cell_type": "markdown",
   "metadata": {},
   "source": [
    "## 使用Pandas 整理資料"
   ]
  },
  {
   "cell_type": "code",
   "execution_count": 236,
   "metadata": {},
   "outputs": [
    {
     "data": {
      "text/html": [
       "<div>\n",
       "<style scoped>\n",
       "    .dataframe tbody tr th:only-of-type {\n",
       "        vertical-align: middle;\n",
       "    }\n",
       "\n",
       "    .dataframe tbody tr th {\n",
       "        vertical-align: top;\n",
       "    }\n",
       "\n",
       "    .dataframe thead th {\n",
       "        text-align: right;\n",
       "    }\n",
       "</style>\n",
       "<table border=\"1\" class=\"dataframe\">\n",
       "  <thead>\n",
       "    <tr style=\"text-align: right;\">\n",
       "      <th></th>\n",
       "      <th>a</th>\n",
       "      <th>b</th>\n",
       "      <th>c</th>\n",
       "    </tr>\n",
       "  </thead>\n",
       "  <tbody>\n",
       "    <tr>\n",
       "      <th>0</th>\n",
       "      <td>1</td>\n",
       "      <td>2.0</td>\n",
       "      <td>NaN</td>\n",
       "    </tr>\n",
       "    <tr>\n",
       "      <th>1</th>\n",
       "      <td>3</td>\n",
       "      <td>NaN</td>\n",
       "      <td>4.0</td>\n",
       "    </tr>\n",
       "  </tbody>\n",
       "</table>\n",
       "</div>"
      ],
      "text/plain": [
       "   a    b    c\n",
       "0  1  2.0  NaN\n",
       "1  3  NaN  4.0"
      ]
     },
     "execution_count": 236,
     "metadata": {},
     "output_type": "execute_result"
    }
   ],
   "source": [
    "import pandas\n",
    "a = [{'a': 1, 'b': 2},{'a':3, 'c':4}]\n",
    "\n",
    "pandas.DataFrame(a)\n",
    "\n",
    "# NaN: Not a Number"
   ]
  },
  {
   "cell_type": "code",
   "execution_count": 237,
   "metadata": {},
   "outputs": [],
   "source": [
    "newsdf = pandas.DataFrame(newsary)"
   ]
  },
  {
   "cell_type": "code",
   "execution_count": 238,
   "metadata": {},
   "outputs": [
    {
     "data": {
      "text/html": [
       "<div>\n",
       "<style scoped>\n",
       "    .dataframe tbody tr th:only-of-type {\n",
       "        vertical-align: middle;\n",
       "    }\n",
       "\n",
       "    .dataframe tbody tr th {\n",
       "        vertical-align: top;\n",
       "    }\n",
       "\n",
       "    .dataframe thead th {\n",
       "        text-align: right;\n",
       "    }\n",
       "</style>\n",
       "<table border=\"1\" class=\"dataframe\">\n",
       "  <thead>\n",
       "    <tr style=\"text-align: right;\">\n",
       "      <th></th>\n",
       "      <th>category</th>\n",
       "      <th>dt</th>\n",
       "      <th>summary</th>\n",
       "      <th>title</th>\n",
       "      <th>url</th>\n",
       "    </tr>\n",
       "  </thead>\n",
       "  <tbody>\n",
       "    <tr>\n",
       "      <th>0</th>\n",
       "      <td>體育</td>\n",
       "      <td>2019-09-22 15:25:00</td>\n",
       "      <td>(更新比賽戰況)總獎金100萬美元(約3100萬台幣)的超級1000中國羽球公開賽，今天進行...</td>\n",
       "      <td>【中國羽賽】小遺憾！戴資穎搶回球后　決賽不敵馬琳居亞軍</td>\n",
       "      <td>https://tw.sports.appledaily.com/realtime/2019...</td>\n",
       "    </tr>\n",
       "    <tr>\n",
       "      <th>1</th>\n",
       "      <td>政治</td>\n",
       "      <td>2019-09-22 16:05:00</td>\n",
       "      <td>為了保護2020總統大選候選人的安全，國安局將啟動「安維7號」任務。國安局資深人員透露，要成...</td>\n",
       "      <td>近身保護總統候選人　特勤必練這套拳法</td>\n",
       "      <td>https://tw.news.appledaily.com/politics/realti...</td>\n",
       "    </tr>\n",
       "    <tr>\n",
       "      <th>2</th>\n",
       "      <td>社會</td>\n",
       "      <td>2019-09-22 16:03:00</td>\n",
       "      <td>新北市1名梁姓男子（60歲），昨（21）日上午8時許在新北市中和區中山路二段一家麵店用餐到一...</td>\n",
       "      <td>6旬男大口吃麵險噎著喪命　新北警消異物夾保他命</td>\n",
       "      <td>https://tw.news.appledaily.com/local/realtime/...</td>\n",
       "    </tr>\n",
       "    <tr>\n",
       "      <th>3</th>\n",
       "      <td>社會</td>\n",
       "      <td>2019-09-22 16:00:00</td>\n",
       "      <td>暗夜惡火！宜蘭縣冬山鄉日新路連棟透天厝，今天（22日）凌晨2時許竄出大火，起火的透天厝一樓門...</td>\n",
       "      <td>【宜蘭惡火】透天厝遭火吞噬　婆媳成焦屍、5輕重傷</td>\n",
       "      <td>https://tw.news.appledaily.com/local/realtime/...</td>\n",
       "    </tr>\n",
       "    <tr>\n",
       "      <th>4</th>\n",
       "      <td>生活</td>\n",
       "      <td>2019-09-22 16:00:00</td>\n",
       "      <td>回顧2013年，因為基因問題，導致單腳天使徐又立出生時只有左腿、左右手則只有上半截。徐爸爸這...</td>\n",
       "      <td>踏出第一步！單腳天使首穿3公斤義肢　撲向父親懷抱</td>\n",
       "      <td>https://tw.news.appledaily.com/life/realtime/2...</td>\n",
       "    </tr>\n",
       "  </tbody>\n",
       "</table>\n",
       "</div>"
      ],
      "text/plain": [
       "  category                  dt  \\\n",
       "0       體育 2019-09-22 15:25:00   \n",
       "1       政治 2019-09-22 16:05:00   \n",
       "2       社會 2019-09-22 16:03:00   \n",
       "3       社會 2019-09-22 16:00:00   \n",
       "4       生活 2019-09-22 16:00:00   \n",
       "\n",
       "                                             summary  \\\n",
       "0  (更新比賽戰況)總獎金100萬美元(約3100萬台幣)的超級1000中國羽球公開賽，今天進行...   \n",
       "1  為了保護2020總統大選候選人的安全，國安局將啟動「安維7號」任務。國安局資深人員透露，要成...   \n",
       "2  新北市1名梁姓男子（60歲），昨（21）日上午8時許在新北市中和區中山路二段一家麵店用餐到一...   \n",
       "3  暗夜惡火！宜蘭縣冬山鄉日新路連棟透天厝，今天（22日）凌晨2時許竄出大火，起火的透天厝一樓門...   \n",
       "4  回顧2013年，因為基因問題，導致單腳天使徐又立出生時只有左腿、左右手則只有上半截。徐爸爸這...   \n",
       "\n",
       "                         title  \\\n",
       "0  【中國羽賽】小遺憾！戴資穎搶回球后　決賽不敵馬琳居亞軍   \n",
       "1           近身保護總統候選人　特勤必練這套拳法   \n",
       "2      6旬男大口吃麵險噎著喪命　新北警消異物夾保他命   \n",
       "3     【宜蘭惡火】透天厝遭火吞噬　婆媳成焦屍、5輕重傷   \n",
       "4     踏出第一步！單腳天使首穿3公斤義肢　撲向父親懷抱   \n",
       "\n",
       "                                                 url  \n",
       "0  https://tw.sports.appledaily.com/realtime/2019...  \n",
       "1  https://tw.news.appledaily.com/politics/realti...  \n",
       "2  https://tw.news.appledaily.com/local/realtime/...  \n",
       "3  https://tw.news.appledaily.com/local/realtime/...  \n",
       "4  https://tw.news.appledaily.com/life/realtime/2...  "
      ]
     },
     "execution_count": 238,
     "metadata": {},
     "output_type": "execute_result"
    }
   ],
   "source": [
    "newsdf.head()"
   ]
  },
  {
   "cell_type": "code",
   "execution_count": 240,
   "metadata": {},
   "outputs": [
    {
     "name": "stdout",
     "output_type": "stream",
     "text": [
      "<class 'pandas.core.frame.DataFrame'>\n",
      "RangeIndex: 60 entries, 0 to 59\n",
      "Data columns (total 5 columns):\n",
      "category    60 non-null object\n",
      "dt          60 non-null datetime64[ns]\n",
      "summary     60 non-null object\n",
      "title       60 non-null object\n",
      "url         60 non-null object\n",
      "dtypes: datetime64[ns](1), object(4)\n",
      "memory usage: 2.4+ KB\n"
     ]
    }
   ],
   "source": [
    "newsdf.info()"
   ]
  },
  {
   "cell_type": "code",
   "execution_count": 242,
   "metadata": {},
   "outputs": [
    {
     "data": {
      "text/plain": [
       "社會      19\n",
       "政治      11\n",
       "生活       8\n",
       "娛樂時尚     6\n",
       "財經地產     5\n",
       "國際       5\n",
       "體育       4\n",
       "微視蘋      1\n",
       "論壇       1\n",
       "Name: category, dtype: int64"
      ]
     },
     "execution_count": 242,
     "metadata": {},
     "output_type": "execute_result"
    }
   ],
   "source": [
    "newsdf['category'].value_counts()"
   ]
  },
  {
   "cell_type": "code",
   "execution_count": 243,
   "metadata": {},
   "outputs": [],
   "source": [
    "newsdf.to_excel('appledaily.xlsx')"
   ]
  },
  {
   "cell_type": "code",
   "execution_count": 246,
   "metadata": {},
   "outputs": [],
   "source": [
    "df2 = pandas.read_excel('appledaily.xlsx', index_col=0)"
   ]
  },
  {
   "cell_type": "code",
   "execution_count": 247,
   "metadata": {},
   "outputs": [
    {
     "data": {
      "text/html": [
       "<div>\n",
       "<style scoped>\n",
       "    .dataframe tbody tr th:only-of-type {\n",
       "        vertical-align: middle;\n",
       "    }\n",
       "\n",
       "    .dataframe tbody tr th {\n",
       "        vertical-align: top;\n",
       "    }\n",
       "\n",
       "    .dataframe thead th {\n",
       "        text-align: right;\n",
       "    }\n",
       "</style>\n",
       "<table border=\"1\" class=\"dataframe\">\n",
       "  <thead>\n",
       "    <tr style=\"text-align: right;\">\n",
       "      <th></th>\n",
       "      <th>category</th>\n",
       "      <th>dt</th>\n",
       "      <th>summary</th>\n",
       "      <th>title</th>\n",
       "      <th>url</th>\n",
       "    </tr>\n",
       "  </thead>\n",
       "  <tbody>\n",
       "    <tr>\n",
       "      <th>0</th>\n",
       "      <td>體育</td>\n",
       "      <td>2019-09-22 15:25:00</td>\n",
       "      <td>(更新比賽戰況)總獎金100萬美元(約3100萬台幣)的超級1000中國羽球公開賽，今天進行...</td>\n",
       "      <td>【中國羽賽】小遺憾！戴資穎搶回球后　決賽不敵馬琳居亞軍</td>\n",
       "      <td>https://tw.sports.appledaily.com/realtime/2019...</td>\n",
       "    </tr>\n",
       "    <tr>\n",
       "      <th>1</th>\n",
       "      <td>政治</td>\n",
       "      <td>2019-09-22 16:05:00</td>\n",
       "      <td>為了保護2020總統大選候選人的安全，國安局將啟動「安維7號」任務。國安局資深人員透露，要成...</td>\n",
       "      <td>近身保護總統候選人　特勤必練這套拳法</td>\n",
       "      <td>https://tw.news.appledaily.com/politics/realti...</td>\n",
       "    </tr>\n",
       "    <tr>\n",
       "      <th>2</th>\n",
       "      <td>社會</td>\n",
       "      <td>2019-09-22 16:03:00</td>\n",
       "      <td>新北市1名梁姓男子（60歲），昨（21）日上午8時許在新北市中和區中山路二段一家麵店用餐到一...</td>\n",
       "      <td>6旬男大口吃麵險噎著喪命　新北警消異物夾保他命</td>\n",
       "      <td>https://tw.news.appledaily.com/local/realtime/...</td>\n",
       "    </tr>\n",
       "    <tr>\n",
       "      <th>3</th>\n",
       "      <td>社會</td>\n",
       "      <td>2019-09-22 16:00:00</td>\n",
       "      <td>暗夜惡火！宜蘭縣冬山鄉日新路連棟透天厝，今天（22日）凌晨2時許竄出大火，起火的透天厝一樓門...</td>\n",
       "      <td>【宜蘭惡火】透天厝遭火吞噬　婆媳成焦屍、5輕重傷</td>\n",
       "      <td>https://tw.news.appledaily.com/local/realtime/...</td>\n",
       "    </tr>\n",
       "    <tr>\n",
       "      <th>4</th>\n",
       "      <td>生活</td>\n",
       "      <td>2019-09-22 16:00:00</td>\n",
       "      <td>回顧2013年，因為基因問題，導致單腳天使徐又立出生時只有左腿、左右手則只有上半截。徐爸爸這...</td>\n",
       "      <td>踏出第一步！單腳天使首穿3公斤義肢　撲向父親懷抱</td>\n",
       "      <td>https://tw.news.appledaily.com/life/realtime/2...</td>\n",
       "    </tr>\n",
       "  </tbody>\n",
       "</table>\n",
       "</div>"
      ],
      "text/plain": [
       "  category                  dt  \\\n",
       "0       體育 2019-09-22 15:25:00   \n",
       "1       政治 2019-09-22 16:05:00   \n",
       "2       社會 2019-09-22 16:03:00   \n",
       "3       社會 2019-09-22 16:00:00   \n",
       "4       生活 2019-09-22 16:00:00   \n",
       "\n",
       "                                             summary  \\\n",
       "0  (更新比賽戰況)總獎金100萬美元(約3100萬台幣)的超級1000中國羽球公開賽，今天進行...   \n",
       "1  為了保護2020總統大選候選人的安全，國安局將啟動「安維7號」任務。國安局資深人員透露，要成...   \n",
       "2  新北市1名梁姓男子（60歲），昨（21）日上午8時許在新北市中和區中山路二段一家麵店用餐到一...   \n",
       "3  暗夜惡火！宜蘭縣冬山鄉日新路連棟透天厝，今天（22日）凌晨2時許竄出大火，起火的透天厝一樓門...   \n",
       "4  回顧2013年，因為基因問題，導致單腳天使徐又立出生時只有左腿、左右手則只有上半截。徐爸爸這...   \n",
       "\n",
       "                         title  \\\n",
       "0  【中國羽賽】小遺憾！戴資穎搶回球后　決賽不敵馬琳居亞軍   \n",
       "1           近身保護總統候選人　特勤必練這套拳法   \n",
       "2      6旬男大口吃麵險噎著喪命　新北警消異物夾保他命   \n",
       "3     【宜蘭惡火】透天厝遭火吞噬　婆媳成焦屍、5輕重傷   \n",
       "4     踏出第一步！單腳天使首穿3公斤義肢　撲向父親懷抱   \n",
       "\n",
       "                                                 url  \n",
       "0  https://tw.sports.appledaily.com/realtime/2019...  \n",
       "1  https://tw.news.appledaily.com/politics/realti...  \n",
       "2  https://tw.news.appledaily.com/local/realtime/...  \n",
       "3  https://tw.news.appledaily.com/local/realtime/...  \n",
       "4  https://tw.news.appledaily.com/life/realtime/2...  "
      ]
     },
     "execution_count": 247,
     "metadata": {},
     "output_type": "execute_result"
    }
   ],
   "source": [
    "df2.head()"
   ]
  },
  {
   "cell_type": "markdown",
   "metadata": {},
   "source": [
    "## 591 租屋資料"
   ]
  },
  {
   "cell_type": "code",
   "execution_count": 254,
   "metadata": {},
   "outputs": [],
   "source": [
    "import requests\n",
    "headers = {\n",
    " 'Cookie': 'webp=1; PHPSESSID=endvt438gotqgr5ia93fhklq17; urlJumpIp=1; urlJumpIpByTxt=%E5%8F%B0%E5%8C%97%E5%B8%82; c10f3143a018a0513ebe1e8d27b5391c=1; new_rent_list_kind_test=0; T591_TOKEN=endvt438gotqgr5ia93fhklq17; _ga=GA1.3.1501312262.1569122018; _gid=GA1.3.1022732848.1569122018; _ga=GA1.4.1501312262.1569122018; _gid=GA1.4.1022732848.1569122018; _fbp=fb.2.1569122019034.1934720922; user_index_role=1; user_browse_recent=a%3A1%3A%7Bi%3A0%3Ba%3A2%3A%7Bs%3A4%3A%22type%22%3Bi%3A1%3Bs%3A7%3A%22post_id%22%3Bs%3A7%3A%228159971%22%3B%7D%7D; ba_cid=a%3A5%3A%7Bs%3A6%3A%22ba_cid%22%3Bs%3A32%3A%220405f8e1e9ed8943d299508f71fd73e9%22%3Bs%3A7%3A%22page_ex%22%3Bs%3A0%3A%22%22%3Bs%3A4%3A%22page%22%3Bs%3A48%3A%22https%3A%2F%2Frent.591.com.tw%2Frent-detail-8159971.html%22%3Bs%3A7%3A%22time_ex%22%3Bs%3A0%3A%22%22%3Bs%3A4%3A%22time%22%3Bi%3A1569122037%3B%7D; __auc=423c8ac116d56f62ceeaabcb60f; localTime=1; XSRF-TOKEN=eyJpdiI6InhPOTF1bDJlSGJPN250OWFibW9FUlE9PSIsInZhbHVlIjoiS2xEenJrQkhFUFRhZm1DenJsejJjVGFBM0NSVWpiYXQ4T1wvbmVRb1A1aDNFc3VjcHBUM1FYTzg4Y3UzOWRUQitVWHBNMTJOV2w4MEE1OVF6UmhWZmR3PT0iLCJtYWMiOiJiZGIyNDBhMTY2ZTA5YTJjNzgyNDM0MmU2ZDM5ZGQ4MjZiZDI1NGU5NTU1YmE1YzJmMmI3ODU1YzVkYWNhMGNjIn0%3D; _gat_UA-97423186-1=1; 591_new_session=eyJpdiI6IlpzNlwvT1FscFh4R0tHVnRValA3ZEFBPT0iLCJ2YWx1ZSI6IkE3UUFxNSt1M05ZcE5JU1hrN3NtVnZlaHRJNHZ6c25QaTlERk5PS1lBZGZUQ1h1XC9uZXZ6anlKMURFVnBscGhWaUk5V01NT25Sd1Ayb0d2c2cwTHdGQT09IiwibWFjIjoiN2E5YmJjM2QwZGM3ZTUzZDA1MDI3MmY3MzM5MGUzNDdkYWRmNThjZjFiMWYzMDM4YWUyZGIzYmE1Y2E3NjE5YiJ9',   \n",
    " 'X-CSRF-TOKEN': 'y7YEN5gLAFjZVRAJy0E2S3YXgxvV9YZWOYFDQzEW',   \n",
    " 'User-Agent': 'Mozilla/5.0 (Windows NT 10.0; Win64; x64) AppleWebKit/537.36 (KHTML, like Gecko) Chrome/76.0.3809.132 Safari/537.36'   \n",
    "}\n",
    "res = requests.get('https://rent.591.com.tw/home/search/rsList?is_new_list=1&type=1&kind=1&searchtype=1&region=1&section=5&firstRow=30&totalRows=865', headers = headers)\n",
    "jd = res.json()"
   ]
  },
  {
   "cell_type": "code",
   "execution_count": 257,
   "metadata": {},
   "outputs": [],
   "source": [
    "import pandas\n",
    "df = pandas.DataFrame(jd['data']['data'])\n",
    "#df"
   ]
  },
  {
   "cell_type": "code",
   "execution_count": 259,
   "metadata": {},
   "outputs": [
    {
     "name": "stdout",
     "output_type": "stream",
     "text": [
      "<class 'pandas.core.frame.DataFrame'>\n",
      "RangeIndex: 30 entries, 0 to 29\n",
      "Data columns (total 88 columns):\n",
      "addInfo                   30 non-null object\n",
      "addition2                 30 non-null int64\n",
      "addition3                 30 non-null int64\n",
      "addition4                 30 non-null int64\n",
      "addr_number_name          30 non-null object\n",
      "address                   30 non-null object\n",
      "address_img               30 non-null object\n",
      "address_img_title         30 non-null object\n",
      "alley_name                30 non-null object\n",
      "allfloor                  30 non-null int64\n",
      "area                      30 non-null float64\n",
      "balcony_area              0 non-null object\n",
      "browsenum                 30 non-null int64\n",
      "browsenum_all             30 non-null int64\n",
      "browsenum_name            30 non-null object\n",
      "cartplace                 30 non-null object\n",
      "cases_id                  30 non-null object\n",
      "cases_name                30 non-null object\n",
      "checkstatus               30 non-null int64\n",
      "closed                    30 non-null int64\n",
      "comment_class             30 non-null object\n",
      "comment_ltime             30 non-null int64\n",
      "comment_total             30 non-null int64\n",
      "comment_unread            30 non-null int64\n",
      "condition                 30 non-null object\n",
      "cover                     30 non-null object\n",
      "distance                  30 non-null int64\n",
      "filename                  30 non-null object\n",
      "floor                     30 non-null int64\n",
      "floor2                    30 non-null int64\n",
      "floorInfo                 30 non-null object\n",
      "fulladdress               30 non-null object\n",
      "groundarea                0 non-null object\n",
      "hasimg                    30 non-null int64\n",
      "house_img                 30 non-null object\n",
      "houseage                  30 non-null int64\n",
      "houseid                   30 non-null int64\n",
      "houseimg                  1 non-null object\n",
      "housetype                 30 non-null int64\n",
      "icon_class                30 non-null object\n",
      "icon_name                 30 non-null object\n",
      "id                        30 non-null int64\n",
      "is_combine                30 non-null int64\n",
      "isvip                     30 non-null int64\n",
      "kind                      30 non-null int64\n",
      "kind_name                 30 non-null object\n",
      "kind_name_img             30 non-null object\n",
      "lane_name                 30 non-null object\n",
      "layout                    30 non-null object\n",
      "layout_str                30 non-null object\n",
      "linkman                   30 non-null object\n",
      "living                    30 non-null object\n",
      "ltime                     30 non-null object\n",
      "mainarea                  0 non-null object\n",
      "mvip                      30 non-null int64\n",
      "new_img                   30 non-null object\n",
      "new_list_comment_total    30 non-null int64\n",
      "nick_name                 30 non-null object\n",
      "onepxImg                  30 non-null object\n",
      "photoNum                  30 non-null object\n",
      "photo_alt                 30 non-null object\n",
      "post_id                   30 non-null int64\n",
      "posttime                  30 non-null object\n",
      "price                     30 non-null object\n",
      "price_hide                30 non-null object\n",
      "refreshtime               30 non-null int64\n",
      "region_name               30 non-null object\n",
      "regionid                  30 non-null int64\n",
      "regionname                30 non-null object\n",
      "room                      30 non-null int64\n",
      "search_name               30 non-null object\n",
      "section_name              30 non-null object\n",
      "sectionid                 30 non-null int64\n",
      "sectionname               30 non-null object\n",
      "shape                     30 non-null int64\n",
      "social_house              30 non-null int64\n",
      "space_type_str            30 non-null object\n",
      "status                    30 non-null object\n",
      "storeprice                30 non-null int64\n",
      "street_name               30 non-null object\n",
      "streetid                  30 non-null int64\n",
      "type                      30 non-null object\n",
      "unit                      30 non-null object\n",
      "updatetime                30 non-null int64\n",
      "user_id                   30 non-null int64\n",
      "vipBorder                 30 non-null object\n",
      "vipimg                    30 non-null object\n",
      "vipstyle                  30 non-null object\n",
      "dtypes: float64(1), int64(35), object(52)\n",
      "memory usage: 20.7+ KB\n"
     ]
    }
   ],
   "source": [
    "df.info()"
   ]
  },
  {
   "cell_type": "code",
   "execution_count": 260,
   "metadata": {},
   "outputs": [],
   "source": [
    "df = df[['address', 'floor','allfloor','layout','area','price','browsenum_all']]"
   ]
  },
  {
   "cell_type": "code",
   "execution_count": 261,
   "metadata": {},
   "outputs": [
    {
     "name": "stdout",
     "output_type": "stream",
     "text": [
      "<class 'pandas.core.frame.DataFrame'>\n",
      "RangeIndex: 30 entries, 0 to 29\n",
      "Data columns (total 7 columns):\n",
      "address          30 non-null object\n",
      "floor            30 non-null int64\n",
      "allfloor         30 non-null int64\n",
      "layout           30 non-null object\n",
      "area             30 non-null float64\n",
      "price            30 non-null object\n",
      "browsenum_all    30 non-null int64\n",
      "dtypes: float64(1), int64(3), object(3)\n",
      "memory usage: 1.7+ KB\n"
     ]
    }
   ],
   "source": [
    "df.info()"
   ]
  },
  {
   "cell_type": "code",
   "execution_count": 262,
   "metadata": {},
   "outputs": [
    {
     "data": {
      "text/html": [
       "<div>\n",
       "<style scoped>\n",
       "    .dataframe tbody tr th:only-of-type {\n",
       "        vertical-align: middle;\n",
       "    }\n",
       "\n",
       "    .dataframe tbody tr th {\n",
       "        vertical-align: top;\n",
       "    }\n",
       "\n",
       "    .dataframe thead th {\n",
       "        text-align: right;\n",
       "    }\n",
       "</style>\n",
       "<table border=\"1\" class=\"dataframe\">\n",
       "  <thead>\n",
       "    <tr style=\"text-align: right;\">\n",
       "      <th></th>\n",
       "      <th>address</th>\n",
       "      <th>floor</th>\n",
       "      <th>allfloor</th>\n",
       "      <th>layout</th>\n",
       "      <th>area</th>\n",
       "      <th>price</th>\n",
       "      <th>browsenum_all</th>\n",
       "    </tr>\n",
       "  </thead>\n",
       "  <tbody>\n",
       "    <tr>\n",
       "      <th>0</th>\n",
       "      <td>復興南路二段三普復興大廈..</td>\n",
       "      <td>7</td>\n",
       "      <td>16</td>\n",
       "      <td>3房2廳2衛</td>\n",
       "      <td>33.9</td>\n",
       "      <td>65,000</td>\n",
       "      <td>173</td>\n",
       "    </tr>\n",
       "    <tr>\n",
       "      <th>1</th>\n",
       "      <td>光復南路光復信義電梯二房</td>\n",
       "      <td>12</td>\n",
       "      <td>15</td>\n",
       "      <td>2房2廳1衛</td>\n",
       "      <td>23.6</td>\n",
       "      <td>30,000</td>\n",
       "      <td>1191</td>\n",
       "    </tr>\n",
       "    <tr>\n",
       "      <th>2</th>\n",
       "      <td>忠孝東路四段170巷忠孝敦..</td>\n",
       "      <td>4</td>\n",
       "      <td>12</td>\n",
       "      <td>2房2廳2衛</td>\n",
       "      <td>36.0</td>\n",
       "      <td>60,000</td>\n",
       "      <td>458</td>\n",
       "    </tr>\n",
       "    <tr>\n",
       "      <th>3</th>\n",
       "      <td>敦化南路二段遠企商圈精美..</td>\n",
       "      <td>5</td>\n",
       "      <td>7</td>\n",
       "      <td>3房2廳2衛</td>\n",
       "      <td>41.0</td>\n",
       "      <td>65,000</td>\n",
       "      <td>591</td>\n",
       "    </tr>\n",
       "    <tr>\n",
       "      <th>4</th>\n",
       "      <td>和平東路三段346巷和平東..</td>\n",
       "      <td>100</td>\n",
       "      <td>4</td>\n",
       "      <td>3房2廳1衛</td>\n",
       "      <td>40.0</td>\n",
       "      <td>22,000</td>\n",
       "      <td>3494</td>\n",
       "    </tr>\n",
       "  </tbody>\n",
       "</table>\n",
       "</div>"
      ],
      "text/plain": [
       "           address  floor  allfloor  layout  area   price  browsenum_all\n",
       "0   復興南路二段三普復興大廈..      7        16  3房2廳2衛  33.9  65,000            173\n",
       "1     光復南路光復信義電梯二房     12        15  2房2廳1衛  23.6  30,000           1191\n",
       "2  忠孝東路四段170巷忠孝敦..      4        12  2房2廳2衛  36.0  60,000            458\n",
       "3   敦化南路二段遠企商圈精美..      5         7  3房2廳2衛  41.0  65,000            591\n",
       "4  和平東路三段346巷和平東..    100         4  3房2廳1衛  40.0  22,000           3494"
      ]
     },
     "execution_count": 262,
     "metadata": {},
     "output_type": "execute_result"
    }
   ],
   "source": [
    "df.head()"
   ]
  },
  {
   "cell_type": "code",
   "execution_count": null,
   "metadata": {},
   "outputs": [],
   "source": [
    "https://rent.591.com.tw/home/search/rsList?is_new_list=1&type=1&kind=1&searchtype=1&region=1&section=5&firstRow=30&totalRows=865\n",
    "https://rent.591.com.tw/home/search/rsList?is_new_list=1&type=1&kind=1&searchtype=1&region=1&section=5&firstRow=60&totalRows=865"
   ]
  },
  {
   "cell_type": "code",
   "execution_count": null,
   "metadata": {},
   "outputs": [],
   "source": [
    "headers = {\n",
    " 'Cookie': 'webp=1; PHPSESSID=endvt438gotqgr5ia93fhklq17; urlJumpIp=1; urlJumpIpByTxt=%E5%8F%B0%E5%8C%97%E5%B8%82; c10f3143a018a0513ebe1e8d27b5391c=1; new_rent_list_kind_test=0; T591_TOKEN=endvt438gotqgr5ia93fhklq17; _ga=GA1.3.1501312262.1569122018; _gid=GA1.3.1022732848.1569122018; _ga=GA1.4.1501312262.1569122018; _gid=GA1.4.1022732848.1569122018; _fbp=fb.2.1569122019034.1934720922; user_index_role=1; user_browse_recent=a%3A1%3A%7Bi%3A0%3Ba%3A2%3A%7Bs%3A4%3A%22type%22%3Bi%3A1%3Bs%3A7%3A%22post_id%22%3Bs%3A7%3A%228159971%22%3B%7D%7D; ba_cid=a%3A5%3A%7Bs%3A6%3A%22ba_cid%22%3Bs%3A32%3A%220405f8e1e9ed8943d299508f71fd73e9%22%3Bs%3A7%3A%22page_ex%22%3Bs%3A0%3A%22%22%3Bs%3A4%3A%22page%22%3Bs%3A48%3A%22https%3A%2F%2Frent.591.com.tw%2Frent-detail-8159971.html%22%3Bs%3A7%3A%22time_ex%22%3Bs%3A0%3A%22%22%3Bs%3A4%3A%22time%22%3Bi%3A1569122037%3B%7D; __auc=423c8ac116d56f62ceeaabcb60f; localTime=1; XSRF-TOKEN=eyJpdiI6InhPOTF1bDJlSGJPN250OWFibW9FUlE9PSIsInZhbHVlIjoiS2xEenJrQkhFUFRhZm1DenJsejJjVGFBM0NSVWpiYXQ4T1wvbmVRb1A1aDNFc3VjcHBUM1FYTzg4Y3UzOWRUQitVWHBNMTJOV2w4MEE1OVF6UmhWZmR3PT0iLCJtYWMiOiJiZGIyNDBhMTY2ZTA5YTJjNzgyNDM0MmU2ZDM5ZGQ4MjZiZDI1NGU5NTU1YmE1YzJmMmI3ODU1YzVkYWNhMGNjIn0%3D; _gat_UA-97423186-1=1; 591_new_session=eyJpdiI6IlpzNlwvT1FscFh4R0tHVnRValA3ZEFBPT0iLCJ2YWx1ZSI6IkE3UUFxNSt1M05ZcE5JU1hrN3NtVnZlaHRJNHZ6c25QaTlERk5PS1lBZGZUQ1h1XC9uZXZ6anlKMURFVnBscGhWaUk5V01NT25Sd1Ayb0d2c2cwTHdGQT09IiwibWFjIjoiN2E5YmJjM2QwZGM3ZTUzZDA1MDI3MmY3MzM5MGUzNDdkYWRmNThjZjFiMWYzMDM4YWUyZGIzYmE1Y2E3NjE5YiJ9',   \n",
    " 'X-CSRF-TOKEN': 'y7YEN5gLAFjZVRAJy0E2S3YXgxvV9YZWOYFDQzEW',   \n",
    " 'User-Agent': 'Mozilla/5.0 (Windows NT 10.0; Win64; x64) AppleWebKit/537.36 (KHTML, like Gecko) Chrome/76.0.3809.132 Safari/537.36'   \n",
    "}\n"
   ]
  },
  {
   "cell_type": "code",
   "execution_count": 268,
   "metadata": {},
   "outputs": [
    {
     "data": {
      "text/plain": [
       "[1, 2, 3, 2, 3, 4]"
      ]
     },
     "execution_count": 268,
     "metadata": {},
     "output_type": "execute_result"
    }
   ],
   "source": [
    "a = []\n",
    "b = [1,2,3]\n",
    "c = [2,3,4]\n",
    "#a + b +c\n",
    "a.extend(b)\n",
    "a.extend(c)\n",
    "a"
   ]
  },
  {
   "cell_type": "code",
   "execution_count": 275,
   "metadata": {},
   "outputs": [
    {
     "name": "stdout",
     "output_type": "stream",
     "text": [
      "0\n",
      "1\n",
      "2\n",
      "3\n",
      "4\n",
      "5\n",
      "6\n",
      "7\n",
      "8\n",
      "9\n",
      "10\n",
      "11\n",
      "12\n",
      "13\n",
      "14\n",
      "15\n",
      "16\n",
      "17\n",
      "18\n",
      "19\n",
      "20\n",
      "21\n",
      "22\n",
      "23\n",
      "24\n",
      "25\n",
      "26\n",
      "27\n",
      "28\n"
     ]
    }
   ],
   "source": [
    "import math\n",
    "houseary = []\n",
    "for p in range(math.ceil(866 / 30)):\n",
    "    res = requests.get('https://rent.591.com.tw/home/search/rsList?is_new_list=1&type=1&kind=1&searchtype=1&region=1&section=5&firstRow={}&totalRows=865'.format(p*30), headers = headers)\n",
    "    #res = requests.get(f'https://rent.591.com.tw/home/search/rsList?is_new_list=1&type=1&kind=1&searchtype=1&region=1&section=5&firstRow={p}&totalRows=865'.format(p), headers = headers)\n",
    "    jd = res.json()\n",
    "    houseary = houseary + jd['data']['data']\n",
    "    print(p)"
   ]
  },
  {
   "cell_type": "code",
   "execution_count": 276,
   "metadata": {},
   "outputs": [],
   "source": [
    "housedf = pandas.DataFrame(houseary)"
   ]
  },
  {
   "cell_type": "code",
   "execution_count": 277,
   "metadata": {},
   "outputs": [],
   "source": [
    "housedf = housedf[['address', 'floor','allfloor','layout','area','price','browsenum_all']]"
   ]
  },
  {
   "cell_type": "code",
   "execution_count": 280,
   "metadata": {},
   "outputs": [
    {
     "data": {
      "text/html": [
       "<div>\n",
       "<style scoped>\n",
       "    .dataframe tbody tr th:only-of-type {\n",
       "        vertical-align: middle;\n",
       "    }\n",
       "\n",
       "    .dataframe tbody tr th {\n",
       "        vertical-align: top;\n",
       "    }\n",
       "\n",
       "    .dataframe thead th {\n",
       "        text-align: right;\n",
       "    }\n",
       "</style>\n",
       "<table border=\"1\" class=\"dataframe\">\n",
       "  <thead>\n",
       "    <tr style=\"text-align: right;\">\n",
       "      <th></th>\n",
       "      <th>address</th>\n",
       "      <th>floor</th>\n",
       "      <th>allfloor</th>\n",
       "      <th>layout</th>\n",
       "      <th>area</th>\n",
       "      <th>price</th>\n",
       "      <th>browsenum_all</th>\n",
       "    </tr>\n",
       "  </thead>\n",
       "  <tbody>\n",
       "    <tr>\n",
       "      <th>1</th>\n",
       "      <td>和平東路二段捷運科..</td>\n",
       "      <td>2</td>\n",
       "      <td>4</td>\n",
       "      <td>2房1廳1衛</td>\n",
       "      <td>25.0</td>\n",
       "      <td>24,009</td>\n",
       "      <td>6760</td>\n",
       "    </tr>\n",
       "    <tr>\n",
       "      <th>4</th>\n",
       "      <td>復興南路一段東區商..</td>\n",
       "      <td>4</td>\n",
       "      <td>12</td>\n",
       "      <td>2房1廳1衛</td>\n",
       "      <td>30.0</td>\n",
       "      <td>28,902</td>\n",
       "      <td>6657</td>\n",
       "    </tr>\n",
       "    <tr>\n",
       "      <th>760</th>\n",
       "      <td>通化街101巷CC通化街[..</td>\n",
       "      <td>3</td>\n",
       "      <td>3</td>\n",
       "      <td>3房1廳1衛</td>\n",
       "      <td>24.4</td>\n",
       "      <td>18,000</td>\n",
       "      <td>5048</td>\n",
       "    </tr>\n",
       "  </tbody>\n",
       "</table>\n",
       "</div>"
      ],
      "text/plain": [
       "             address  floor  allfloor  layout  area   price  browsenum_all\n",
       "1        和平東路二段捷運科..      2         4  2房1廳1衛  25.0  24,009           6760\n",
       "4        復興南路一段東區商..      4        12  2房1廳1衛  30.0  28,902           6657\n",
       "760  通化街101巷CC通化街[..      3         3  3房1廳1衛  24.4  18,000           5048"
      ]
     },
     "execution_count": 280,
     "metadata": {},
     "output_type": "execute_result"
    }
   ],
   "source": [
    "housedf.sort_values('browsenum_all', ascending = False).head(3)"
   ]
  },
  {
   "cell_type": "code",
   "execution_count": 281,
   "metadata": {},
   "outputs": [],
   "source": [
    "housedf['price'] = housedf['price'].map(lambda e : int(e.replace(',','')))"
   ]
  },
  {
   "cell_type": "code",
   "execution_count": 283,
   "metadata": {},
   "outputs": [
    {
     "data": {
      "text/html": [
       "<div>\n",
       "<style scoped>\n",
       "    .dataframe tbody tr th:only-of-type {\n",
       "        vertical-align: middle;\n",
       "    }\n",
       "\n",
       "    .dataframe tbody tr th {\n",
       "        vertical-align: top;\n",
       "    }\n",
       "\n",
       "    .dataframe thead th {\n",
       "        text-align: right;\n",
       "    }\n",
       "</style>\n",
       "<table border=\"1\" class=\"dataframe\">\n",
       "  <thead>\n",
       "    <tr style=\"text-align: right;\">\n",
       "      <th></th>\n",
       "      <th>address</th>\n",
       "      <th>floor</th>\n",
       "      <th>allfloor</th>\n",
       "      <th>layout</th>\n",
       "      <th>area</th>\n",
       "      <th>price</th>\n",
       "      <th>browsenum_all</th>\n",
       "    </tr>\n",
       "  </thead>\n",
       "  <tbody>\n",
       "    <tr>\n",
       "      <th>127</th>\n",
       "      <td>仁愛路三段帝寶整層鼎峰豪邸高..</td>\n",
       "      <td>26</td>\n",
       "      <td>28</td>\n",
       "      <td>開放式格局</td>\n",
       "      <td>330.0</td>\n",
       "      <td>650000</td>\n",
       "      <td>329</td>\n",
       "    </tr>\n",
       "    <tr>\n",
       "      <th>820</th>\n",
       "      <td>仁愛路三段luxurylisting仁愛帝寶帝王戶</td>\n",
       "      <td>26</td>\n",
       "      <td>28</td>\n",
       "      <td>4房3廳4衛</td>\n",
       "      <td>262.9</td>\n",
       "      <td>650000</td>\n",
       "      <td>147</td>\n",
       "    </tr>\n",
       "    <tr>\n",
       "      <th>78</th>\n",
       "      <td>仁愛路三段台北帝寶美景觀整層..</td>\n",
       "      <td>26</td>\n",
       "      <td>28</td>\n",
       "      <td>6房3廳6衛</td>\n",
       "      <td>330.4</td>\n",
       "      <td>650000</td>\n",
       "      <td>546</td>\n",
       "    </tr>\n",
       "    <tr>\n",
       "      <th>76</th>\n",
       "      <td>仁愛路三段成交多戶帝寶找我看..</td>\n",
       "      <td>8</td>\n",
       "      <td>18</td>\n",
       "      <td>5房2廳4衛</td>\n",
       "      <td>210.7</td>\n",
       "      <td>350000</td>\n",
       "      <td>157</td>\n",
       "    </tr>\n",
       "    <tr>\n",
       "      <th>496</th>\n",
       "      <td>瑞安街81巷瑞安豪宅❂裝潢、家..</td>\n",
       "      <td>2</td>\n",
       "      <td>13</td>\n",
       "      <td>4房2廳3衛</td>\n",
       "      <td>112.6</td>\n",
       "      <td>280000</td>\n",
       "      <td>239</td>\n",
       "    </tr>\n",
       "    <tr>\n",
       "      <th>608</th>\n",
       "      <td>敦化南路二段敦南遠企大格局豪..</td>\n",
       "      <td>21</td>\n",
       "      <td>21</td>\n",
       "      <td>6房4廳5衛</td>\n",
       "      <td>89.2</td>\n",
       "      <td>260000</td>\n",
       "      <td>29</td>\n",
       "    </tr>\n",
       "  </tbody>\n",
       "</table>\n",
       "</div>"
      ],
      "text/plain": [
       "                       address  floor  allfloor  layout   area   price  \\\n",
       "127           仁愛路三段帝寶整層鼎峰豪邸高..     26        28   開放式格局  330.0  650000   \n",
       "820  仁愛路三段luxurylisting仁愛帝寶帝王戶     26        28  4房3廳4衛  262.9  650000   \n",
       "78            仁愛路三段台北帝寶美景觀整層..     26        28  6房3廳6衛  330.4  650000   \n",
       "76            仁愛路三段成交多戶帝寶找我看..      8        18  5房2廳4衛  210.7  350000   \n",
       "496          瑞安街81巷瑞安豪宅❂裝潢、家..      2        13  4房2廳3衛  112.6  280000   \n",
       "608           敦化南路二段敦南遠企大格局豪..     21        21  6房4廳5衛   89.2  260000   \n",
       "\n",
       "     browsenum_all  \n",
       "127            329  \n",
       "820            147  \n",
       "78             546  \n",
       "76             157  \n",
       "496            239  \n",
       "608             29  "
      ]
     },
     "execution_count": 283,
     "metadata": {},
     "output_type": "execute_result"
    }
   ],
   "source": [
    "housedf.sort_values('price', ascending = False).head(6)"
   ]
  },
  {
   "cell_type": "code",
   "execution_count": 284,
   "metadata": {},
   "outputs": [
    {
     "data": {
      "text/html": [
       "<div>\n",
       "<style scoped>\n",
       "    .dataframe tbody tr th:only-of-type {\n",
       "        vertical-align: middle;\n",
       "    }\n",
       "\n",
       "    .dataframe tbody tr th {\n",
       "        vertical-align: top;\n",
       "    }\n",
       "\n",
       "    .dataframe thead th {\n",
       "        text-align: right;\n",
       "    }\n",
       "</style>\n",
       "<table border=\"1\" class=\"dataframe\">\n",
       "  <thead>\n",
       "    <tr style=\"text-align: right;\">\n",
       "      <th></th>\n",
       "      <th>address</th>\n",
       "      <th>floor</th>\n",
       "      <th>allfloor</th>\n",
       "      <th>layout</th>\n",
       "      <th>area</th>\n",
       "      <th>price</th>\n",
       "      <th>browsenum_all</th>\n",
       "    </tr>\n",
       "  </thead>\n",
       "  <tbody>\n",
       "    <tr>\n",
       "      <th>369</th>\n",
       "      <td>羅斯福路三段333巷限女..</td>\n",
       "      <td>5</td>\n",
       "      <td>5</td>\n",
       "      <td>2房0廳1衛</td>\n",
       "      <td>17.0</td>\n",
       "      <td>11900</td>\n",
       "      <td>2881</td>\n",
       "    </tr>\n",
       "    <tr>\n",
       "      <th>349</th>\n",
       "      <td>安和路一段90巷近仁愛國小捷運..</td>\n",
       "      <td>100</td>\n",
       "      <td>5</td>\n",
       "      <td>1房1廳1衛</td>\n",
       "      <td>13.0</td>\n",
       "      <td>14000</td>\n",
       "      <td>980</td>\n",
       "    </tr>\n",
       "    <tr>\n",
       "      <th>655</th>\n",
       "      <td>和平東路三段406巷麟光..</td>\n",
       "      <td>3</td>\n",
       "      <td>6</td>\n",
       "      <td>1房0廳1衛</td>\n",
       "      <td>10.4</td>\n",
       "      <td>15000</td>\n",
       "      <td>1329</td>\n",
       "    </tr>\n",
       "    <tr>\n",
       "      <th>158</th>\n",
       "      <td>辛亥路三段157巷辛亥路巷弄內..</td>\n",
       "      <td>3</td>\n",
       "      <td>5</td>\n",
       "      <td>1房1廳1衛</td>\n",
       "      <td>8.5</td>\n",
       "      <td>15000</td>\n",
       "      <td>233</td>\n",
       "    </tr>\n",
       "    <tr>\n",
       "      <th>837</th>\n",
       "      <td>泰順街16巷泰順街套房出租,客..</td>\n",
       "      <td>4</td>\n",
       "      <td>4</td>\n",
       "      <td>1房1廳1衛</td>\n",
       "      <td>4.0</td>\n",
       "      <td>16000</td>\n",
       "      <td>782</td>\n",
       "    </tr>\n",
       "    <tr>\n",
       "      <th>638</th>\n",
       "      <td>辛亥路三段157巷大安國小旁舒..</td>\n",
       "      <td>4</td>\n",
       "      <td>5</td>\n",
       "      <td>2房1廳1衛</td>\n",
       "      <td>13.5</td>\n",
       "      <td>16000</td>\n",
       "      <td>1286</td>\n",
       "    </tr>\n",
       "  </tbody>\n",
       "</table>\n",
       "</div>"
      ],
      "text/plain": [
       "               address  floor  allfloor  layout  area  price  browsenum_all\n",
       "369     羅斯福路三段333巷限女..      5         5  2房0廳1衛  17.0  11900           2881\n",
       "349  安和路一段90巷近仁愛國小捷運..    100         5  1房1廳1衛  13.0  14000            980\n",
       "655     和平東路三段406巷麟光..      3         6  1房0廳1衛  10.4  15000           1329\n",
       "158  辛亥路三段157巷辛亥路巷弄內..      3         5  1房1廳1衛   8.5  15000            233\n",
       "837  泰順街16巷泰順街套房出租,客..      4         4  1房1廳1衛   4.0  16000            782\n",
       "638  辛亥路三段157巷大安國小旁舒..      4         5  2房1廳1衛  13.5  16000           1286"
      ]
     },
     "execution_count": 284,
     "metadata": {},
     "output_type": "execute_result"
    }
   ],
   "source": [
    "housedf.sort_values('price', ascending = True).head(6)"
   ]
  },
  {
   "cell_type": "markdown",
   "metadata": {},
   "source": [
    "## 文字OCR"
   ]
  },
  {
   "cell_type": "code",
   "execution_count": 285,
   "metadata": {},
   "outputs": [
    {
     "data": {
      "image/png": "[encoded data removed]",
      "text/plain": [
       "<PIL.GifImagePlugin.GifImageFile image mode=P size=85x15 at 0x246F2877128>"
      ]
     },
     "execution_count": 285,
     "metadata": {},
     "output_type": "execute_result"
    }
   ],
   "source": [
    "from PIL import Image\n",
    "Image.open('C:/Users/User/Desktop/ajax.gif')"
   ]
  },
  {
   "cell_type": "markdown",
   "metadata": {},
   "source": [
    "## Tesseract\n",
    "- https://github.com/tesseract-ocr/tesseract \n",
    "- https://github.com/tesseract-ocr/tesseract/wiki/4.0-with-LSTM#400-alpha-for-windows\n",
    "- https://digi.bib.uni-mannheim.de/tesseract/tesseract-ocr-setup-4.00.00dev.exe\n",
    "\n",
    "- https://sourceforge.net/projects/tesseract-ocr-alt/files/tesseract-ocr-setup-3.02.02.exe/download"
   ]
  },
  {
   "cell_type": "code",
   "execution_count": 286,
   "metadata": {},
   "outputs": [
    {
     "name": "stdout",
     "output_type": "stream",
     "text": [
      "Collecting pytesseract\n",
      "  Downloading https://files.pythonhosted.org/packages/47/e5/892d78db0d26372aa376fc1b127e9cd4cc158727a76e0802069115fcbd6e/pytesseract-0.3.0.tar.gz\n",
      "Requirement already satisfied: Pillow in c:\\users\\user\\anaconda3\\lib\\site-packages (from pytesseract) (6.1.0)\n",
      "Building wheels for collected packages: pytesseract\n",
      "  Building wheel for pytesseract (setup.py): started\n",
      "  Building wheel for pytesseract (setup.py): finished with status 'done'\n",
      "  Stored in directory: C:\\Users\\User\\AppData\\Local\\pip\\Cache\\wheels\\78\\c9\\ac\\4cb76bd547f9970070522439e5203ba7926c5c5c4f131583ea\n",
      "Successfully built pytesseract\n",
      "Installing collected packages: pytesseract\n",
      "Successfully installed pytesseract-0.3.0\n"
     ]
    }
   ],
   "source": [
    "! pip install pytesseract"
   ]
  },
  {
   "cell_type": "code",
   "execution_count": 308,
   "metadata": {},
   "outputs": [
    {
     "name": "stdout",
     "output_type": "stream",
     "text": [
      "0979- 781- 598\n"
     ]
    }
   ],
   "source": [
    "try:\n",
    "    from PIL import Image\n",
    "except ImportError:\n",
    "    import Image\n",
    "import pytesseract\n",
    "\n",
    "# If you don't have tesseract executable in your PATH, include the following:\n",
    "pytesseract.pytesseract.tesseract_cmd = r'D:\\Tesseract-OCR2\\tesseract'\n",
    "# Example tesseract_cmd = r'C:\\Program Files (x86)\\Tesseract-OCR\\tesseract'\n",
    "\n",
    "# Simple image to string\n",
    "print(pytesseract.image_to_string(Image.open('C:/Users/User/Desktop/showPhone.png'),config='--psm 14 --oem 3 -c tessedit_char_whitelist=0123456789'))\n"
   ]
  },
  {
   "cell_type": "code",
   "execution_count": 324,
   "metadata": {},
   "outputs": [],
   "source": [
    "import requests\n",
    "headers = {\n",
    " 'Referer': 'https://www.iyp.com.tw/search.php?k=%E8%BC%AA%E8%83%8E%E8%A1%8C',   \n",
    " 'Cookie': 'myMEMSESID=p2ofqrdn4dhc62al5ve98iet76; myMEMSESID=p2ofqrdn4dhc62al5ve98iet76; PHPSESSID=p2ofqrdn4dhc62al5ve98iet76; __utma=38215804.733480687.1569142585.1569142585.1569142585.1; __utmc=38215804; __utmz=38215804.1569142585.1.1.utmcsr=google|utmccn=(organic)|utmcmd=organic|utmctr=(not%20provided); __utmt=1; __asc=c0ff322616d582fb61c5dff7a83; __auc=c0ff322616d582fb61c5dff7a83; ADRecode=undefined,undefined,undefined; __utmb=38215804.2.10.1569142585'   ,\n",
    " 'User-Agent': 'Mozilla/5.0 (Windows NT 10.0; Win64; x64) AppleWebKit/537.36 (KHTML, like Gecko) Chrome/76.0.3809.132 Safari/537.36'   \n",
    "}\n",
    "res = requests.get('https://www.iyp.com.tw/ajax.php?func=gImage&val=j0E2n%2FKGz4c8nQfkXn6w0776238V%2By%2F%2FAf2s10rhoUy8IGL6AEU6nzBrzrgh1eerUdFUkWqAfbE%3D', headers = headers)\n",
    "#res.text\n",
    "with open('1.jpg', 'wb') as f:\n",
    "    f.write(res.content)"
   ]
  },
  {
   "cell_type": "code",
   "execution_count": 325,
   "metadata": {},
   "outputs": [
    {
     "data": {
      "image/png": "[encoded data removed]",
      "text/plain": [
       "<PIL.GifImagePlugin.GifImageFile image mode=P size=85x15 at 0x246F2F10710>"
      ]
     },
     "execution_count": 325,
     "metadata": {},
     "output_type": "execute_result"
    }
   ],
   "source": [
    "from PIL import Image\n",
    "Image.open('1.jpg')"
   ]
  },
  {
   "cell_type": "code",
   "execution_count": 328,
   "metadata": {},
   "outputs": [
    {
     "name": "stdout",
     "output_type": "stream",
     "text": [
      "u:—5a25a7a\n"
     ]
    }
   ],
   "source": [
    "try:\n",
    "    from PIL import Image\n",
    "except ImportError:\n",
    "    import Image\n",
    "import pytesseract\n",
    "\n",
    "# If you don't have tesseract executable in your PATH, include the following:\n",
    "pytesseract.pytesseract.tesseract_cmd = r'D:\\Tesseract-OCR2\\tesseract'\n",
    "# Example tesseract_cmd = r'C:\\Program Files (x86)\\Tesseract-OCR\\tesseract'\n",
    "\n",
    "# Simple image to string\n",
    "print(pytesseract.image_to_string(Image.open('2.jpg')))\n"
   ]
  },
  {
   "cell_type": "markdown",
   "metadata": {},
   "source": [
    "## Rate Limiting\n",
    "- https://www.nginx.com/blog/rate-limiting-nginx/"
   ]
  },
  {
   "cell_type": "code",
   "execution_count": null,
   "metadata": {},
   "outputs": [],
   "source": [
    "import time\n",
    "for i in range(100):\n",
    "    res = requests.get('https://www.twse.com.tw/exchangeReport/MI_INDEX?response=json&date=&type=&_=1569144846671')\n",
    "    time.sleep(3)"
   ]
  },
  {
   "cell_type": "markdown",
   "metadata": {},
   "source": [
    "## Proxy\n",
    "- http://stormproxies.com\n",
    "- https://smartproxy.com/"
   ]
  },
  {
   "cell_type": "markdown",
   "metadata": {},
   "source": [
    "## 回家作業\n",
    "- 試抓取自由時報的即時新聞列表, 並將標題, 連結與時間整理出來\n",
    "- https://news.ltn.com.tw/list/breakingnews"
   ]
  },
  {
   "cell_type": "code",
   "execution_count": null,
   "metadata": {},
   "outputs": [],
   "source": []
  }
 ],
 "metadata": {
  "kernelspec": {
   "display_name": "Python 3",
   "language": "python",
   "name": "python3"
  },
  "language_info": {
   "codemirror_mode": {
    "name": "ipython",
    "version": 3
   },
   "file_extension": ".py",
   "mimetype": "text/x-python",
   "name": "python",
   "nbconvert_exporter": "python",
   "pygments_lexer": "ipython3",
   "version": "3.7.3"
  }
 },
 "nbformat": 4,
 "nbformat_minor": 2
}
