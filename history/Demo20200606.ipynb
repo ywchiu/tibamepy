{
  "nbformat": 4,
  "nbformat_minor": 0,
  "metadata": {
    "colab": {
      "name": "Demo20200606.ipynb",
      "provenance": [],
      "collapsed_sections": []
    },
    "kernelspec": {
      "name": "python3",
      "display_name": "Python 3"
    }
  },
  "cells": [
    {
      "cell_type": "markdown",
      "metadata": {
        "id": "iCCOnSstSZOA",
        "colab_type": "text"
      },
      "source": [
        "## 作業\n",
        "當銀行收到貸款申請時，必須根據客戶的個人檔案決定是否應該要核准貸款\n",
        "\n",
        "如果客戶信用良好，批准貸款 如果客戶信用較差，不批准貸款 透過分析目的，可將低銀行風險、提升潛在獲利\n",
        "\n",
        "現有一資料集 Creditability (https://raw.githubusercontent.com/ywchiu/tibamepy/master/data/Creditability.csv)\n",
        "\n",
        "包含客戶特徵\n",
        "\n",
        "- Account Balance(帳戶餘額): 沒有帳號(1), 沒有餘額 (2), 部分存款 (3)\n",
        "- Payment Status(付款狀況): 有問題 (1), 付清 (2), 於該銀行沒有問題(3)\n",
        "- Savings/Stock Value (存款): 沒有, 少於 100, 100 ~ 1,000, 高於1,000\n",
        "- Employment Length(工作長短): 少於 1 年, 1 ~ 4年, 4 ~ 7年, 高於 7 年\n",
        "- Sex/Marital Status(性別與婚姻): 男生/女生, 單身/離婚/已婚/鰥夫\n",
        "- No of Credits at this bank(貸款數): 1, >1\n",
        "- Guarantor(保人): None, Yes\n",
        "- Concurrent Credits(其他貸款數): 其他銀行或百貨, None\n",
        "- ForeignWorker (外國工作者)\n",
        "- Purpose of Credit(貸款目的): New car, Used car, Home Related, Other\n",
        "預測目標\n",
        "\n",
        "- Creditability (可信客戶): 1/0\n",
        "\n",
        "\n",
        "請用Python 回答以下問題：\n",
        "\n",
        "- 使用Pandas 將資料讀取到一名為 df 的 DataFrame 中\n",
        "- 請將資料分為訓練與測試資料集,其中訓練資料集占80%, 測試資料集占20%\n",
        "- 請使用邏輯式迴歸建立模型 (目標 y 為 Creditability)\n",
        "- 請使用隨機森林建立模型 (目標 y 為 Creditability)\n",
        "- 請計算出模型準確度(Accuracy)?\n",
        "- 請求出混淆矩陣(Confusion Matrix)?\n",
        "- 請繪製隨機森林模型與的邏輯式迴歸 ROC Curve, 並比較兩者的 AUC?"
      ]
    },
    {
      "cell_type": "code",
      "metadata": {
        "id": "mzRUFYn5SRuO",
        "colab_type": "code",
        "colab": {}
      },
      "source": [
        "import pandas\n",
        "df = pandas.read_csv('https://raw.githubusercontent.com/ywchiu/tibamepy/master/data/Creditability.csv', index_col = 0)"
      ],
      "execution_count": 0,
      "outputs": []
    },
    {
      "cell_type": "code",
      "metadata": {
        "id": "VSTzdLRdSZrQ",
        "colab_type": "code",
        "colab": {
          "base_uri": "https://localhost:8080/",
          "height": 222
        },
        "outputId": "4677bddf-c83a-4ae6-bd8d-32b3b5be299b"
      },
      "source": [
        "df.head()"
      ],
      "execution_count": 4,
      "outputs": [
        {
          "output_type": "execute_result",
          "data": {
            "text/html": [
              "<div>\n",
              "<style scoped>\n",
              "    .dataframe tbody tr th:only-of-type {\n",
              "        vertical-align: middle;\n",
              "    }\n",
              "\n",
              "    .dataframe tbody tr th {\n",
              "        vertical-align: top;\n",
              "    }\n",
              "\n",
              "    .dataframe thead th {\n",
              "        text-align: right;\n",
              "    }\n",
              "</style>\n",
              "<table border=\"1\" class=\"dataframe\">\n",
              "  <thead>\n",
              "    <tr style=\"text-align: right;\">\n",
              "      <th></th>\n",
              "      <th>Creditability</th>\n",
              "      <th>Account.Balance</th>\n",
              "      <th>Duration.of.Credit..month.</th>\n",
              "      <th>Payment.Status.of.Previous.Credit</th>\n",
              "      <th>Purpose</th>\n",
              "      <th>Credit.Amount</th>\n",
              "      <th>Value.Savings.Stocks</th>\n",
              "      <th>Length.of.current.employment</th>\n",
              "      <th>Instalment.per.cent</th>\n",
              "      <th>Sex...Marital.Status</th>\n",
              "      <th>Guarantors</th>\n",
              "      <th>Duration.in.Current.address</th>\n",
              "      <th>Most.valuable.available.asset</th>\n",
              "      <th>Age..years.</th>\n",
              "      <th>Concurrent.Credits</th>\n",
              "      <th>Type.of.apartment</th>\n",
              "      <th>No.of.Credits.at.this.Bank</th>\n",
              "      <th>Occupation</th>\n",
              "      <th>No.of.dependents</th>\n",
              "      <th>Telephone</th>\n",
              "      <th>Foreign.Worker</th>\n",
              "    </tr>\n",
              "  </thead>\n",
              "  <tbody>\n",
              "    <tr>\n",
              "      <th>497</th>\n",
              "      <td>1</td>\n",
              "      <td>3</td>\n",
              "      <td>6</td>\n",
              "      <td>2</td>\n",
              "      <td>3</td>\n",
              "      <td>2108</td>\n",
              "      <td>1</td>\n",
              "      <td>3</td>\n",
              "      <td>2</td>\n",
              "      <td>3</td>\n",
              "      <td>1</td>\n",
              "      <td>2</td>\n",
              "      <td>1</td>\n",
              "      <td>29</td>\n",
              "      <td>2</td>\n",
              "      <td>1</td>\n",
              "      <td>1</td>\n",
              "      <td>1</td>\n",
              "      <td>1</td>\n",
              "      <td>1</td>\n",
              "      <td>1</td>\n",
              "    </tr>\n",
              "    <tr>\n",
              "      <th>756</th>\n",
              "      <td>0</td>\n",
              "      <td>1</td>\n",
              "      <td>15</td>\n",
              "      <td>1</td>\n",
              "      <td>4</td>\n",
              "      <td>950</td>\n",
              "      <td>1</td>\n",
              "      <td>4</td>\n",
              "      <td>4</td>\n",
              "      <td>2</td>\n",
              "      <td>1</td>\n",
              "      <td>3</td>\n",
              "      <td>3</td>\n",
              "      <td>33</td>\n",
              "      <td>2</td>\n",
              "      <td>1</td>\n",
              "      <td>2</td>\n",
              "      <td>1</td>\n",
              "      <td>2</td>\n",
              "      <td>1</td>\n",
              "      <td>1</td>\n",
              "    </tr>\n",
              "    <tr>\n",
              "      <th>580</th>\n",
              "      <td>0</td>\n",
              "      <td>1</td>\n",
              "      <td>42</td>\n",
              "      <td>2</td>\n",
              "      <td>3</td>\n",
              "      <td>7174</td>\n",
              "      <td>4</td>\n",
              "      <td>3</td>\n",
              "      <td>4</td>\n",
              "      <td>1</td>\n",
              "      <td>1</td>\n",
              "      <td>3</td>\n",
              "      <td>3</td>\n",
              "      <td>30</td>\n",
              "      <td>2</td>\n",
              "      <td>2</td>\n",
              "      <td>1</td>\n",
              "      <td>1</td>\n",
              "      <td>1</td>\n",
              "      <td>2</td>\n",
              "      <td>1</td>\n",
              "    </tr>\n",
              "    <tr>\n",
              "      <th>833</th>\n",
              "      <td>0</td>\n",
              "      <td>3</td>\n",
              "      <td>36</td>\n",
              "      <td>3</td>\n",
              "      <td>4</td>\n",
              "      <td>7980</td>\n",
              "      <td>4</td>\n",
              "      <td>1</td>\n",
              "      <td>4</td>\n",
              "      <td>2</td>\n",
              "      <td>1</td>\n",
              "      <td>4</td>\n",
              "      <td>3</td>\n",
              "      <td>27</td>\n",
              "      <td>2</td>\n",
              "      <td>1</td>\n",
              "      <td>2</td>\n",
              "      <td>1</td>\n",
              "      <td>1</td>\n",
              "      <td>2</td>\n",
              "      <td>1</td>\n",
              "    </tr>\n",
              "    <tr>\n",
              "      <th>602</th>\n",
              "      <td>1</td>\n",
              "      <td>3</td>\n",
              "      <td>24</td>\n",
              "      <td>3</td>\n",
              "      <td>2</td>\n",
              "      <td>2028</td>\n",
              "      <td>1</td>\n",
              "      <td>3</td>\n",
              "      <td>2</td>\n",
              "      <td>2</td>\n",
              "      <td>1</td>\n",
              "      <td>2</td>\n",
              "      <td>2</td>\n",
              "      <td>30</td>\n",
              "      <td>2</td>\n",
              "      <td>2</td>\n",
              "      <td>2</td>\n",
              "      <td>1</td>\n",
              "      <td>1</td>\n",
              "      <td>1</td>\n",
              "      <td>1</td>\n",
              "    </tr>\n",
              "  </tbody>\n",
              "</table>\n",
              "</div>"
            ],
            "text/plain": [
              "     Creditability  Account.Balance  ...  Telephone  Foreign.Worker\n",
              "497              1                3  ...          1               1\n",
              "756              0                1  ...          1               1\n",
              "580              0                1  ...          2               1\n",
              "833              0                3  ...          2               1\n",
              "602              1                3  ...          1               1\n",
              "\n",
              "[5 rows x 21 columns]"
            ]
          },
          "metadata": {
            "tags": []
          },
          "execution_count": 4
        }
      ]
    },
    {
      "cell_type": "code",
      "metadata": {
        "id": "a9kmnKIAS00T",
        "colab_type": "code",
        "colab": {
          "base_uri": "https://localhost:8080/",
          "height": 399
        },
        "outputId": "99e5deb9-1abd-41f2-cd20-3a53ad8a9b3d"
      },
      "source": [
        "df.isna().sum()"
      ],
      "execution_count": 5,
      "outputs": [
        {
          "output_type": "execute_result",
          "data": {
            "text/plain": [
              "Creditability                        0\n",
              "Account.Balance                      0\n",
              "Duration.of.Credit..month.           0\n",
              "Payment.Status.of.Previous.Credit    0\n",
              "Purpose                              0\n",
              "Credit.Amount                        0\n",
              "Value.Savings.Stocks                 0\n",
              "Length.of.current.employment         0\n",
              "Instalment.per.cent                  0\n",
              "Sex...Marital.Status                 0\n",
              "Guarantors                           0\n",
              "Duration.in.Current.address          0\n",
              "Most.valuable.available.asset        0\n",
              "Age..years.                          0\n",
              "Concurrent.Credits                   0\n",
              "Type.of.apartment                    0\n",
              "No.of.Credits.at.this.Bank           0\n",
              "Occupation                           0\n",
              "No.of.dependents                     0\n",
              "Telephone                            0\n",
              "Foreign.Worker                       0\n",
              "dtype: int64"
            ]
          },
          "metadata": {
            "tags": []
          },
          "execution_count": 5
        }
      ]
    },
    {
      "cell_type": "code",
      "metadata": {
        "id": "yHxM8pMhS3sb",
        "colab_type": "code",
        "colab": {
          "base_uri": "https://localhost:8080/",
          "height": 503
        },
        "outputId": "03ad8b14-205f-4201-db5b-c4f485034d67"
      },
      "source": [
        "df.info()"
      ],
      "execution_count": 6,
      "outputs": [
        {
          "output_type": "stream",
          "text": [
            "<class 'pandas.core.frame.DataFrame'>\n",
            "Int64Index: 500 entries, 497 to 385\n",
            "Data columns (total 21 columns):\n",
            " #   Column                             Non-Null Count  Dtype\n",
            "---  ------                             --------------  -----\n",
            " 0   Creditability                      500 non-null    int64\n",
            " 1   Account.Balance                    500 non-null    int64\n",
            " 2   Duration.of.Credit..month.         500 non-null    int64\n",
            " 3   Payment.Status.of.Previous.Credit  500 non-null    int64\n",
            " 4   Purpose                            500 non-null    int64\n",
            " 5   Credit.Amount                      500 non-null    int64\n",
            " 6   Value.Savings.Stocks               500 non-null    int64\n",
            " 7   Length.of.current.employment       500 non-null    int64\n",
            " 8   Instalment.per.cent                500 non-null    int64\n",
            " 9   Sex...Marital.Status               500 non-null    int64\n",
            " 10  Guarantors                         500 non-null    int64\n",
            " 11  Duration.in.Current.address        500 non-null    int64\n",
            " 12  Most.valuable.available.asset      500 non-null    int64\n",
            " 13  Age..years.                        500 non-null    int64\n",
            " 14  Concurrent.Credits                 500 non-null    int64\n",
            " 15  Type.of.apartment                  500 non-null    int64\n",
            " 16  No.of.Credits.at.this.Bank         500 non-null    int64\n",
            " 17  Occupation                         500 non-null    int64\n",
            " 18  No.of.dependents                   500 non-null    int64\n",
            " 19  Telephone                          500 non-null    int64\n",
            " 20  Foreign.Worker                     500 non-null    int64\n",
            "dtypes: int64(21)\n",
            "memory usage: 85.9 KB\n"
          ],
          "name": "stdout"
        }
      ]
    },
    {
      "cell_type": "code",
      "metadata": {
        "id": "YGsLvWrISiyZ",
        "colab_type": "code",
        "colab": {}
      },
      "source": [
        "from sklearn.model_selection import train_test_split\n",
        "y = df.iloc[:,0]\n",
        "X = df.iloc[:,1:]\n",
        "train_X, test_X, train_y, test_y = train_test_split(X,y, test_size = 0.2, random_state = 42)"
      ],
      "execution_count": 0,
      "outputs": []
    },
    {
      "cell_type": "code",
      "metadata": {
        "id": "-5Em1xbvTMYt",
        "colab_type": "code",
        "colab": {
          "base_uri": "https://localhost:8080/",
          "height": 35
        },
        "outputId": "f3cf770d-7614-440e-b98c-dc44c51f5469"
      },
      "source": [
        "train_X.shape, test_X.shape, train_y.shape, test_y.shape"
      ],
      "execution_count": 8,
      "outputs": [
        {
          "output_type": "execute_result",
          "data": {
            "text/plain": [
              "((400, 20), (100, 20), (400,), (100,))"
            ]
          },
          "metadata": {
            "tags": []
          },
          "execution_count": 8
        }
      ]
    },
    {
      "cell_type": "code",
      "metadata": {
        "id": "lNeU_gvwTQJ9",
        "colab_type": "code",
        "colab": {
          "base_uri": "https://localhost:8080/",
          "height": 104
        },
        "outputId": "c22ef576-5152-43e1-e4ed-29f4bdf149ee"
      },
      "source": [
        "from sklearn.linear_model import LogisticRegression\n",
        "clf1 = LogisticRegression(max_iter = 1000)\n",
        "clf1.fit(train_X, train_y)"
      ],
      "execution_count": 20,
      "outputs": [
        {
          "output_type": "execute_result",
          "data": {
            "text/plain": [
              "LogisticRegression(C=1.0, class_weight=None, dual=False, fit_intercept=True,\n",
              "                   intercept_scaling=1, l1_ratio=None, max_iter=1000,\n",
              "                   multi_class='auto', n_jobs=None, penalty='l2',\n",
              "                   random_state=None, solver='lbfgs', tol=0.0001, verbose=0,\n",
              "                   warm_start=False)"
            ]
          },
          "metadata": {
            "tags": []
          },
          "execution_count": 20
        }
      ]
    },
    {
      "cell_type": "code",
      "metadata": {
        "id": "FO8RlKvvTlFe",
        "colab_type": "code",
        "colab": {
          "base_uri": "https://localhost:8080/",
          "height": 156
        },
        "outputId": "d01a719d-76e8-400f-c43b-21fddacc3735"
      },
      "source": [
        "from sklearn.ensemble import RandomForestClassifier\n",
        "clf2 = RandomForestClassifier(n_estimators=1000, max_depth = 5)\n",
        "clf2.fit(train_X, train_y)"
      ],
      "execution_count": 29,
      "outputs": [
        {
          "output_type": "execute_result",
          "data": {
            "text/plain": [
              "RandomForestClassifier(bootstrap=True, ccp_alpha=0.0, class_weight=None,\n",
              "                       criterion='gini', max_depth=5, max_features='auto',\n",
              "                       max_leaf_nodes=None, max_samples=None,\n",
              "                       min_impurity_decrease=0.0, min_impurity_split=None,\n",
              "                       min_samples_leaf=1, min_samples_split=2,\n",
              "                       min_weight_fraction_leaf=0.0, n_estimators=1000,\n",
              "                       n_jobs=None, oob_score=False, random_state=None,\n",
              "                       verbose=0, warm_start=False)"
            ]
          },
          "metadata": {
            "tags": []
          },
          "execution_count": 29
        }
      ]
    },
    {
      "cell_type": "code",
      "metadata": {
        "id": "EtQZhpXWTvzx",
        "colab_type": "code",
        "colab": {}
      },
      "source": [
        "predicted1 = clf1.predict(test_X)\n",
        "predicted2 = clf2.predict(test_X)"
      ],
      "execution_count": 0,
      "outputs": []
    },
    {
      "cell_type": "code",
      "metadata": {
        "id": "lQsyyrzOT3JS",
        "colab_type": "code",
        "colab": {
          "base_uri": "https://localhost:8080/",
          "height": 35
        },
        "outputId": "41b9c025-ebbf-4829-b9d3-19fa6a867861"
      },
      "source": [
        "from sklearn.metrics import accuracy_score, confusion_matrix\n",
        "accuracy_score(test_y, predicted1)"
      ],
      "execution_count": 31,
      "outputs": [
        {
          "output_type": "execute_result",
          "data": {
            "text/plain": [
              "0.71"
            ]
          },
          "metadata": {
            "tags": []
          },
          "execution_count": 31
        }
      ]
    },
    {
      "cell_type": "code",
      "metadata": {
        "id": "PoPxW3LfUJzD",
        "colab_type": "code",
        "colab": {
          "base_uri": "https://localhost:8080/",
          "height": 52
        },
        "outputId": "2036b5ae-a3fd-4bca-e416-d8ccad08b82d"
      },
      "source": [
        "confusion_matrix(test_y, predicted1)"
      ],
      "execution_count": 32,
      "outputs": [
        {
          "output_type": "execute_result",
          "data": {
            "text/plain": [
              "array([[10, 21],\n",
              "       [ 8, 61]])"
            ]
          },
          "metadata": {
            "tags": []
          },
          "execution_count": 32
        }
      ]
    },
    {
      "cell_type": "code",
      "metadata": {
        "id": "8pc4KJhyT-2i",
        "colab_type": "code",
        "colab": {
          "base_uri": "https://localhost:8080/",
          "height": 35
        },
        "outputId": "544a3dca-857e-4d83-b953-8757fdac472e"
      },
      "source": [
        "accuracy_score(test_y, predicted2)"
      ],
      "execution_count": 33,
      "outputs": [
        {
          "output_type": "execute_result",
          "data": {
            "text/plain": [
              "0.73"
            ]
          },
          "metadata": {
            "tags": []
          },
          "execution_count": 33
        }
      ]
    },
    {
      "cell_type": "code",
      "metadata": {
        "id": "BKc9UKgbUB7C",
        "colab_type": "code",
        "colab": {
          "base_uri": "https://localhost:8080/",
          "height": 52
        },
        "outputId": "66c56024-472e-42a2-a6d0-e1cca13c0671"
      },
      "source": [
        "confusion_matrix(test_y, predicted2)"
      ],
      "execution_count": 34,
      "outputs": [
        {
          "output_type": "execute_result",
          "data": {
            "text/plain": [
              "array([[ 6, 25],\n",
              "       [ 2, 67]])"
            ]
          },
          "metadata": {
            "tags": []
          },
          "execution_count": 34
        }
      ]
    },
    {
      "cell_type": "code",
      "metadata": {
        "id": "BT-JY4asVRhT",
        "colab_type": "code",
        "colab": {}
      },
      "source": [
        "predicted1_prob = clf1.predict_proba(test_X)\n",
        "predicted2_prob = clf2.predict_proba(test_X)"
      ],
      "execution_count": 0,
      "outputs": []
    },
    {
      "cell_type": "code",
      "metadata": {
        "id": "xWMn6aMtUU21",
        "colab_type": "code",
        "colab": {}
      },
      "source": [
        "from sklearn.metrics import auc, roc_curve\n",
        "fpr1, tpr1, threshold1 = roc_curve(test_y , predicted1_prob[:,1])\n",
        "auc1 = auc(fpr1, tpr1)"
      ],
      "execution_count": 0,
      "outputs": []
    },
    {
      "cell_type": "code",
      "metadata": {
        "id": "A8g4szZsVJ4P",
        "colab_type": "code",
        "colab": {}
      },
      "source": [
        "from sklearn.metrics import auc, roc_curve\n",
        "fpr2, tpr2, threshold2 = roc_curve(test_y , predicted2_prob[:,1])\n",
        "auc2 = auc(fpr2, tpr2)"
      ],
      "execution_count": 0,
      "outputs": []
    },
    {
      "cell_type": "code",
      "metadata": {
        "id": "Vi0XgqhWVZsr",
        "colab_type": "code",
        "colab": {
          "base_uri": "https://localhost:8080/",
          "height": 399
        },
        "outputId": "fe8b04ba-c2fb-4a1f-9079-0e7e726daebd"
      },
      "source": [
        "from matplotlib import pyplot as plt\n",
        "plt.figure(figsize= [20,10])\n",
        "plt.plot(fpr1, tpr1, label='%s - AUC:%.2f'%('Logistic Regression', auc1) )\n",
        "plt.plot(fpr2, tpr2, label='%s - AUC:%.2f'%('Random Forest', auc2) )\n",
        "plt.plot([0, 1], [0, 1], 'k--')\n",
        "plt.xlim([0.0, 1.0])\n",
        "plt.ylim([0.0, 1.0])\n",
        "plt.xlabel('False Positive Rate', fontsize = 20)\n",
        "plt.ylabel('True Positive Rate', fontsize = 20)\n",
        "plt.title('Receiver operating characteristic example', fontsize = 20)\n",
        "plt.legend(loc=\"lower right\", fontsize = 20)\n",
        "plt.show()"
      ],
      "execution_count": 50,
      "outputs": [
        {
          "output_type": "display_data",
          "data": {
            "image/png": "[encoded data removed]",
            "text/plain": [
              "<Figure size 1440x720 with 1 Axes>"
            ]
          },
          "metadata": {
            "tags": [],
            "needs_background": "light"
          }
        }
      ]
    },
    {
      "cell_type": "markdown",
      "metadata": {
        "id": "sL0PN5qeZVsW",
        "colab_type": "text"
      },
      "source": [
        "## 借貸俱樂部資料分析\n",
        "- https://drive.google.com/open?id=1sf5jtUA7UKc56DufVZO8QW0HteOd_Swo"
      ]
    },
    {
      "cell_type": "code",
      "metadata": {
        "id": "xnA9s8xLWGvl",
        "colab_type": "code",
        "colab": {
          "base_uri": "https://localhost:8080/",
          "height": 87
        },
        "outputId": "04fc0b7d-e283-48b6-fa8b-76e385677ee8"
      },
      "source": [
        "! gdown https://drive.google.com/uc?id=1sf5jtUA7UKc56DufVZO8QW0HteOd_Swo"
      ],
      "execution_count": 52,
      "outputs": [
        {
          "output_type": "stream",
          "text": [
            "Downloading...\n",
            "From: https://drive.google.com/uc?id=1sf5jtUA7UKc56DufVZO8QW0HteOd_Swo\n",
            "To: /content/LoanStats3b.csv.zip\n",
            "36.6MB [00:00, 70.9MB/s]\n"
          ],
          "name": "stdout"
        }
      ]
    },
    {
      "cell_type": "code",
      "metadata": {
        "id": "MaM1Mc8TaCXL",
        "colab_type": "code",
        "colab": {
          "base_uri": "https://localhost:8080/",
          "height": 52
        },
        "outputId": "06aea105-ffe2-47eb-d69d-0199e15be08f"
      },
      "source": [
        "! unzip LoanStats3b.csv.zip"
      ],
      "execution_count": 53,
      "outputs": [
        {
          "output_type": "stream",
          "text": [
            "Archive:  LoanStats3b.csv.zip\n",
            "  inflating: LoanStats3b.csv         \n"
          ],
          "name": "stdout"
        }
      ]
    },
    {
      "cell_type": "markdown",
      "metadata": {
        "id": "FitaIygFaRaE",
        "colab_type": "text"
      },
      "source": [
        "### 資料讀取"
      ]
    },
    {
      "cell_type": "code",
      "metadata": {
        "id": "T5pKh-O9aLmj",
        "colab_type": "code",
        "colab": {
          "base_uri": "https://localhost:8080/",
          "height": 159
        },
        "outputId": "8ae86f32-cc0d-4c22-a837-03ff2105c86b"
      },
      "source": [
        "import pandas as pd\n",
        "#讀取資料\n",
        "dataset = pd.read_csv('LoanStats3b.csv', skiprows=[0])\n",
        "dataset.info()"
      ],
      "execution_count": 281,
      "outputs": [
        {
          "output_type": "stream",
          "text": [
            "/usr/local/lib/python3.6/dist-packages/IPython/core/interactiveshell.py:2718: DtypeWarning: Columns (0,47,123,124,125,128,129,130,133) have mixed types.Specify dtype option on import or set low_memory=False.\n",
            "  interactivity=interactivity, compiler=compiler, result=result)\n"
          ],
          "name": "stderr"
        },
        {
          "output_type": "stream",
          "text": [
            "<class 'pandas.core.frame.DataFrame'>\n",
            "RangeIndex: 188183 entries, 0 to 188182\n",
            "Columns: 145 entries, id to settlement_term\n",
            "dtypes: float64(108), object(37)\n",
            "memory usage: 208.2+ MB\n"
          ],
          "name": "stdout"
        }
      ]
    },
    {
      "cell_type": "markdown",
      "metadata": {
        "id": "PvcNx82qaYKE",
        "colab_type": "text"
      },
      "source": [
        "\n",
        "### 資料預先處理"
      ]
    },
    {
      "cell_type": "code",
      "metadata": {
        "id": "5EfQ7jDVantc",
        "colab_type": "code",
        "colab": {
          "base_uri": "https://localhost:8080/",
          "height": 156
        },
        "outputId": "7ccec32b-1669-4134-fd5f-3597d1311502"
      },
      "source": [
        "dataset.columns"
      ],
      "execution_count": 282,
      "outputs": [
        {
          "output_type": "execute_result",
          "data": {
            "text/plain": [
              "Index(['id', 'member_id', 'loan_amnt', 'funded_amnt', 'funded_amnt_inv',\n",
              "       'term', 'int_rate', 'installment', 'grade', 'sub_grade',\n",
              "       ...\n",
              "       'hardship_payoff_balance_amount', 'hardship_last_payment_amount',\n",
              "       'disbursement_method', 'debt_settlement_flag',\n",
              "       'debt_settlement_flag_date', 'settlement_status', 'settlement_date',\n",
              "       'settlement_amount', 'settlement_percentage', 'settlement_term'],\n",
              "      dtype='object', length=145)"
            ]
          },
          "metadata": {
            "tags": []
          },
          "execution_count": 282
        }
      ]
    },
    {
      "cell_type": "code",
      "metadata": {
        "id": "90RfajO0a8lm",
        "colab_type": "code",
        "colab": {
          "base_uri": "https://localhost:8080/",
          "height": 225
        },
        "outputId": "267586b2-40bb-4cbd-c533-04a93cd45c03"
      },
      "source": [
        "dataset.isna().sum()"
      ],
      "execution_count": 283,
      "outputs": [
        {
          "output_type": "execute_result",
          "data": {
            "text/plain": [
              "id                       188181\n",
              "member_id                188183\n",
              "loan_amnt                     2\n",
              "funded_amnt                   2\n",
              "funded_amnt_inv               2\n",
              "                          ...  \n",
              "settlement_status        186132\n",
              "settlement_date          186132\n",
              "settlement_amount        186132\n",
              "settlement_percentage    186132\n",
              "settlement_term          186132\n",
              "Length: 145, dtype: int64"
            ]
          },
          "metadata": {
            "tags": []
          },
          "execution_count": 283
        }
      ]
    },
    {
      "cell_type": "code",
      "metadata": {
        "id": "korWPfCRbraK",
        "colab_type": "code",
        "colab": {
          "base_uri": "https://localhost:8080/",
          "height": 52
        },
        "outputId": "b322e943-f99e-40d3-9d13-7cb12e49fccd"
      },
      "source": [
        "dataset['loan_status'].unique()"
      ],
      "execution_count": 284,
      "outputs": [
        {
          "output_type": "execute_result",
          "data": {
            "text/plain": [
              "array(['Fully Paid', 'Charged Off', 'Late (31-120 days)', 'Current',\n",
              "       'In Grace Period', nan], dtype=object)"
            ]
          },
          "metadata": {
            "tags": []
          },
          "execution_count": 284
        }
      ]
    },
    {
      "cell_type": "code",
      "metadata": {
        "id": "RzTt1WitaVSq",
        "colab_type": "code",
        "colab": {}
      },
      "source": [
        "#移除空白欄位\n",
        "dataset = dataset.iloc[:,2:111]\n",
        "empty_cols = [i for i in range(45,72)]\n",
        "dataset = dataset.drop(dataset.columns[empty_cols],axis=1)\n",
        "data_with_loanstatus_sliced = dataset[dataset['loan_status'].isin(['Fully Paid', 'Charged Off'])]"
      ],
      "execution_count": 0,
      "outputs": []
    },
    {
      "cell_type": "code",
      "metadata": {
        "id": "deKXVaz8bJ6d",
        "colab_type": "code",
        "colab": {
          "base_uri": "https://localhost:8080/",
          "height": 35
        },
        "outputId": "1ed6469b-8ccc-44e1-dcc7-b2de1232ff3a"
      },
      "source": [
        "data_with_loanstatus_sliced.shape"
      ],
      "execution_count": 228,
      "outputs": [
        {
          "output_type": "execute_result",
          "data": {
            "text/plain": [
              "(188171, 82)"
            ]
          },
          "metadata": {
            "tags": []
          },
          "execution_count": 228
        }
      ]
    },
    {
      "cell_type": "code",
      "metadata": {
        "id": "D4MDbnrDcZa2",
        "colab_type": "code",
        "colab": {
          "base_uri": "https://localhost:8080/",
          "height": 225
        },
        "outputId": "02c10769-89b5-4db9-ab2f-9422a3eacaaa"
      },
      "source": [
        "data_with_loanstatus_sliced.isna().sum().sort_values(ascending= False)"
      ],
      "execution_count": 229,
      "outputs": [
        {
          "output_type": "execute_result",
          "data": {
            "text/plain": [
              "url                               188171\n",
              "mths_since_last_record            170698\n",
              "mths_since_recent_bc_dlq          151423\n",
              "mths_since_recent_revol_delinq    133728\n",
              "mths_since_last_delinq            107568\n",
              "                                   ...  \n",
              "revol_bal                              0\n",
              "pub_rec                                0\n",
              "open_acc                               0\n",
              "inq_last_6mths                         0\n",
              "loan_amnt                              0\n",
              "Length: 82, dtype: int64"
            ]
          },
          "metadata": {
            "tags": []
          },
          "execution_count": 229
        }
      ]
    },
    {
      "cell_type": "code",
      "metadata": {
        "id": "6lxhGJl_v45d",
        "colab_type": "code",
        "colab": {}
      },
      "source": [
        "\n",
        "di = {\"Fully Paid\":0, \"Charged Off\":1}   \n",
        "Dataset_withBoolTarget= data_with_loanstatus_sliced.replace({\"loan_status\": di})"
      ],
      "execution_count": 0,
      "outputs": []
    },
    {
      "cell_type": "code",
      "metadata": {
        "id": "zGX9IgRscZ2U",
        "colab_type": "code",
        "colab": {}
      },
      "source": [
        "\n",
        "dataset=Dataset_withBoolTarget"
      ],
      "execution_count": 0,
      "outputs": []
    },
    {
      "cell_type": "code",
      "metadata": {
        "id": "Z1Yc-jyec5dG",
        "colab_type": "code",
        "colab": {}
      },
      "source": [
        "del_col_names = [\"delinq_2yrs\", \"last_pymnt_d\", \"chargeoff_within_12_mths\",\"delinq_amnt\",\"emp_title\",\n",
        "\"term\", \"emp_title\", \"pymnt_plan\",\"purpose\",\"title\", \"zip_code\", \"verification_status\", \"dti\",\"earliest_cr_line\",\n",
        "\"initial_list_status\", \"out_prncp\",\n",
        "\"pymnt_plan\", \"num_tl_90g_dpd_24m\", \"num_tl_30dpd\", \"num_tl_120dpd_2m\",\n",
        "\"num_accts_ever_120_pd\", \"delinq_amnt\",\n",
        "\"chargeoff_within_12_mths\", \"total_rec_late_fee\", \"out_prncp_inv\", \"issue_d\"]"
      ],
      "execution_count": 0,
      "outputs": []
    },
    {
      "cell_type": "code",
      "metadata": {
        "id": "hgyY-x9VdIX4",
        "colab_type": "code",
        "colab": {}
      },
      "source": [
        "dataset = dataset.drop(labels = del_col_names, axis = 1)"
      ],
      "execution_count": 0,
      "outputs": []
    },
    {
      "cell_type": "code",
      "metadata": {
        "id": "TvD_e8I7dJyn",
        "colab_type": "code",
        "colab": {
          "base_uri": "https://localhost:8080/",
          "height": 35
        },
        "outputId": "7ae1fd80-3d0f-4404-d400-6d281e28ee62"
      },
      "source": [
        "dataset.shape"
      ],
      "execution_count": 290,
      "outputs": [
        {
          "output_type": "execute_result",
          "data": {
            "text/plain": [
              "(188171, 60)"
            ]
          },
          "metadata": {
            "tags": []
          },
          "execution_count": 290
        }
      ]
    },
    {
      "cell_type": "code",
      "metadata": {
        "id": "KsDb6NKqdKmX",
        "colab_type": "code",
        "colab": {
          "base_uri": "https://localhost:8080/",
          "height": 159
        },
        "outputId": "42102da1-3c8a-476a-c943-d4eb4bf80892"
      },
      "source": [
        "features = ['funded_amnt','emp_length','annual_inc','home_ownership','grade',\n",
        "            \"last_pymnt_amnt\", \"mort_acc\", \"pub_rec\", \"int_rate\", \"open_acc\",\"num_actv_rev_tl\",\n",
        "            \"mo_sin_rcnt_rev_tl_op\",\"mo_sin_old_rev_tl_op\",\"bc_util\",\"bc_open_to_buy\",\n",
        "            \"avg_cur_bal\",\"acc_open_past_24mths\",'loan_status'] #'sub_grade' #selecting final features #'addr_state''tax_liens',\n",
        "Final_data = dataset[features] #19 features with target var\n",
        "Final_data[\"int_rate\"] = Final_data[\"int_rate\"].apply(lambda x:float(x[:-1]) ) #reomving % sign, conv to float  - int_rate column\n",
        "Final_data= Final_data.reset_index(drop=True)\n",
        "print(\"Current shape of dataset :\",Final_data.shape)"
      ],
      "execution_count": 292,
      "outputs": [
        {
          "output_type": "stream",
          "text": [
            "Current shape of dataset : (188171, 18)\n"
          ],
          "name": "stdout"
        },
        {
          "output_type": "stream",
          "text": [
            "/usr/local/lib/python3.6/dist-packages/ipykernel_launcher.py:6: SettingWithCopyWarning: \n",
            "A value is trying to be set on a copy of a slice from a DataFrame.\n",
            "Try using .loc[row_indexer,col_indexer] = value instead\n",
            "\n",
            "See the caveats in the documentation: https://pandas.pydata.org/pandas-docs/stable/user_guide/indexing.html#returning-a-view-versus-a-copy\n",
            "  \n"
          ],
          "name": "stderr"
        }
      ]
    },
    {
      "cell_type": "code",
      "metadata": {
        "id": "NHP7nliuwL-T",
        "colab_type": "code",
        "colab": {
          "base_uri": "https://localhost:8080/",
          "height": 202
        },
        "outputId": "7ee183d3-7ce1-4d3b-91c9-59850931aeb3"
      },
      "source": [
        "\n",
        "Final_data.select_dtypes('object').head()"
      ],
      "execution_count": 293,
      "outputs": [
        {
          "output_type": "execute_result",
          "data": {
            "text/html": [
              "<div>\n",
              "<style scoped>\n",
              "    .dataframe tbody tr th:only-of-type {\n",
              "        vertical-align: middle;\n",
              "    }\n",
              "\n",
              "    .dataframe tbody tr th {\n",
              "        vertical-align: top;\n",
              "    }\n",
              "\n",
              "    .dataframe thead th {\n",
              "        text-align: right;\n",
              "    }\n",
              "</style>\n",
              "<table border=\"1\" class=\"dataframe\">\n",
              "  <thead>\n",
              "    <tr style=\"text-align: right;\">\n",
              "      <th></th>\n",
              "      <th>emp_length</th>\n",
              "      <th>home_ownership</th>\n",
              "      <th>grade</th>\n",
              "    </tr>\n",
              "  </thead>\n",
              "  <tbody>\n",
              "    <tr>\n",
              "      <th>0</th>\n",
              "      <td>3 years</td>\n",
              "      <td>MORTGAGE</td>\n",
              "      <td>A</td>\n",
              "    </tr>\n",
              "    <tr>\n",
              "      <th>1</th>\n",
              "      <td>10+ years</td>\n",
              "      <td>OWN</td>\n",
              "      <td>B</td>\n",
              "    </tr>\n",
              "    <tr>\n",
              "      <th>2</th>\n",
              "      <td>10+ years</td>\n",
              "      <td>MORTGAGE</td>\n",
              "      <td>B</td>\n",
              "    </tr>\n",
              "    <tr>\n",
              "      <th>3</th>\n",
              "      <td>5 years</td>\n",
              "      <td>MORTGAGE</td>\n",
              "      <td>A</td>\n",
              "    </tr>\n",
              "    <tr>\n",
              "      <th>4</th>\n",
              "      <td>4 years</td>\n",
              "      <td>RENT</td>\n",
              "      <td>B</td>\n",
              "    </tr>\n",
              "  </tbody>\n",
              "</table>\n",
              "</div>"
            ],
            "text/plain": [
              "  emp_length home_ownership grade\n",
              "0    3 years       MORTGAGE     A\n",
              "1  10+ years            OWN     B\n",
              "2  10+ years       MORTGAGE     B\n",
              "3    5 years       MORTGAGE     A\n",
              "4    4 years           RENT     B"
            ]
          },
          "metadata": {
            "tags": []
          },
          "execution_count": 293
        }
      ]
    },
    {
      "cell_type": "markdown",
      "metadata": {
        "id": "4Z2BILwId4nr",
        "colab_type": "text"
      },
      "source": [
        "### 將字串欄位改變成數值型態"
      ]
    },
    {
      "cell_type": "code",
      "metadata": {
        "id": "1l0TReh7drnK",
        "colab_type": "code",
        "colab": {}
      },
      "source": [
        "Final_data['grade'] = Final_data['grade'].map({'A':7,'B':6,'C':5,'D':4,'E':3,'F':2,'G':1})"
      ],
      "execution_count": 0,
      "outputs": []
    },
    {
      "cell_type": "code",
      "metadata": {
        "id": "Kw8mR8U4eOzE",
        "colab_type": "code",
        "colab": {}
      },
      "source": [
        "Final_data[\"home_ownership\"] =  Final_data[\"home_ownership\"].map({\"MORTGAGE\":6,\"RENT\":5,\"OWN\":4,\"OTHER\":3,\"NONE\":2,\"ANY\":1})"
      ],
      "execution_count": 0,
      "outputs": []
    },
    {
      "cell_type": "code",
      "metadata": {
        "id": "xZ-WBqF9epuf",
        "colab_type": "code",
        "colab": {
          "base_uri": "https://localhost:8080/",
          "height": 35
        },
        "outputId": "5f027e8f-00d9-427a-fc7b-c6e64e5e911c"
      },
      "source": [
        "\n",
        "Final_data[\"emp_length\"] = Final_data[\"emp_length\"].fillna('0')\n",
        "Final_data[\"emp_length\"] = Final_data[\"emp_length\"].replace({'years':'','year':'',' ':'','<':'','\\+':'','n/a':'0'}, regex = True)\n",
        "Final_data[\"emp_length\"] = Final_data[\"emp_length\"].apply(lambda x:int(x))\n",
        "print(\"Current shape of dataset :\",Final_data.shape)"
      ],
      "execution_count": 296,
      "outputs": [
        {
          "output_type": "stream",
          "text": [
            "Current shape of dataset : (188171, 18)\n"
          ],
          "name": "stdout"
        }
      ]
    },
    {
      "cell_type": "code",
      "metadata": {
        "id": "FMa7As1mfrgI",
        "colab_type": "code",
        "colab": {
          "base_uri": "https://localhost:8080/",
          "height": 451
        },
        "outputId": "d6087a28-db5a-45c9-d68b-2cc8fe7715b3"
      },
      "source": [
        "Final_data.info()"
      ],
      "execution_count": 297,
      "outputs": [
        {
          "output_type": "stream",
          "text": [
            "<class 'pandas.core.frame.DataFrame'>\n",
            "RangeIndex: 188171 entries, 0 to 188170\n",
            "Data columns (total 18 columns):\n",
            " #   Column                 Non-Null Count   Dtype  \n",
            "---  ------                 --------------   -----  \n",
            " 0   funded_amnt            188171 non-null  float64\n",
            " 1   emp_length             188171 non-null  int64  \n",
            " 2   annual_inc             188171 non-null  float64\n",
            " 3   home_ownership         188171 non-null  int64  \n",
            " 4   grade                  188171 non-null  int64  \n",
            " 5   last_pymnt_amnt        188171 non-null  float64\n",
            " 6   mort_acc               180676 non-null  float64\n",
            " 7   pub_rec                188171 non-null  float64\n",
            " 8   int_rate               188171 non-null  float64\n",
            " 9   open_acc               188171 non-null  float64\n",
            " 10  num_actv_rev_tl        160430 non-null  float64\n",
            " 11  mo_sin_rcnt_rev_tl_op  160429 non-null  float64\n",
            " 12  mo_sin_old_rev_tl_op   160429 non-null  float64\n",
            " 13  bc_util                179059 non-null  float64\n",
            " 14  bc_open_to_buy         179146 non-null  float64\n",
            " 15  avg_cur_bal            160424 non-null  float64\n",
            " 16  acc_open_past_24mths   180676 non-null  float64\n",
            " 17  loan_status            188171 non-null  int64  \n",
            "dtypes: float64(14), int64(4)\n",
            "memory usage: 25.8 MB\n"
          ],
          "name": "stdout"
        }
      ]
    },
    {
      "cell_type": "code",
      "metadata": {
        "id": "A1YYk5uwuA5n",
        "colab_type": "code",
        "colab": {
          "base_uri": "https://localhost:8080/",
          "height": 161
        },
        "outputId": "31d87b5c-db8b-4dab-8ac0-8ea746bc5c9b"
      },
      "source": [
        "Final_data.head(3)"
      ],
      "execution_count": 298,
      "outputs": [
        {
          "output_type": "execute_result",
          "data": {
            "text/html": [
              "<div>\n",
              "<style scoped>\n",
              "    .dataframe tbody tr th:only-of-type {\n",
              "        vertical-align: middle;\n",
              "    }\n",
              "\n",
              "    .dataframe tbody tr th {\n",
              "        vertical-align: top;\n",
              "    }\n",
              "\n",
              "    .dataframe thead th {\n",
              "        text-align: right;\n",
              "    }\n",
              "</style>\n",
              "<table border=\"1\" class=\"dataframe\">\n",
              "  <thead>\n",
              "    <tr style=\"text-align: right;\">\n",
              "      <th></th>\n",
              "      <th>funded_amnt</th>\n",
              "      <th>emp_length</th>\n",
              "      <th>annual_inc</th>\n",
              "      <th>home_ownership</th>\n",
              "      <th>grade</th>\n",
              "      <th>last_pymnt_amnt</th>\n",
              "      <th>mort_acc</th>\n",
              "      <th>pub_rec</th>\n",
              "      <th>int_rate</th>\n",
              "      <th>open_acc</th>\n",
              "      <th>num_actv_rev_tl</th>\n",
              "      <th>mo_sin_rcnt_rev_tl_op</th>\n",
              "      <th>mo_sin_old_rev_tl_op</th>\n",
              "      <th>bc_util</th>\n",
              "      <th>bc_open_to_buy</th>\n",
              "      <th>avg_cur_bal</th>\n",
              "      <th>acc_open_past_24mths</th>\n",
              "      <th>loan_status</th>\n",
              "    </tr>\n",
              "  </thead>\n",
              "  <tbody>\n",
              "    <tr>\n",
              "      <th>0</th>\n",
              "      <td>12000.0</td>\n",
              "      <td>3</td>\n",
              "      <td>96500.0</td>\n",
              "      <td>6</td>\n",
              "      <td>7</td>\n",
              "      <td>2927.22</td>\n",
              "      <td>1.0</td>\n",
              "      <td>0.0</td>\n",
              "      <td>7.62</td>\n",
              "      <td>17.0</td>\n",
              "      <td>5.0</td>\n",
              "      <td>10.0</td>\n",
              "      <td>118.0</td>\n",
              "      <td>83.5</td>\n",
              "      <td>2441.0</td>\n",
              "      <td>11783.0</td>\n",
              "      <td>4.0</td>\n",
              "      <td>0</td>\n",
              "    </tr>\n",
              "    <tr>\n",
              "      <th>1</th>\n",
              "      <td>27050.0</td>\n",
              "      <td>10</td>\n",
              "      <td>55000.0</td>\n",
              "      <td>4</td>\n",
              "      <td>6</td>\n",
              "      <td>6074.19</td>\n",
              "      <td>4.0</td>\n",
              "      <td>0.0</td>\n",
              "      <td>10.99</td>\n",
              "      <td>14.0</td>\n",
              "      <td>4.0</td>\n",
              "      <td>16.0</td>\n",
              "      <td>326.0</td>\n",
              "      <td>53.9</td>\n",
              "      <td>16473.0</td>\n",
              "      <td>9570.0</td>\n",
              "      <td>3.0</td>\n",
              "      <td>0</td>\n",
              "    </tr>\n",
              "    <tr>\n",
              "      <th>2</th>\n",
              "      <td>12000.0</td>\n",
              "      <td>10</td>\n",
              "      <td>130000.0</td>\n",
              "      <td>6</td>\n",
              "      <td>6</td>\n",
              "      <td>398.28</td>\n",
              "      <td>3.0</td>\n",
              "      <td>0.0</td>\n",
              "      <td>11.99</td>\n",
              "      <td>9.0</td>\n",
              "      <td>5.0</td>\n",
              "      <td>4.0</td>\n",
              "      <td>193.0</td>\n",
              "      <td>93.0</td>\n",
              "      <td>3567.0</td>\n",
              "      <td>36362.0</td>\n",
              "      <td>4.0</td>\n",
              "      <td>0</td>\n",
              "    </tr>\n",
              "  </tbody>\n",
              "</table>\n",
              "</div>"
            ],
            "text/plain": [
              "   funded_amnt  emp_length  ...  acc_open_past_24mths  loan_status\n",
              "0      12000.0           3  ...                   4.0            0\n",
              "1      27050.0          10  ...                   3.0            0\n",
              "2      12000.0          10  ...                   4.0            0\n",
              "\n",
              "[3 rows x 18 columns]"
            ]
          },
          "metadata": {
            "tags": []
          },
          "execution_count": 298
        }
      ]
    },
    {
      "cell_type": "code",
      "metadata": {
        "id": "cyWGpGxPfvjj",
        "colab_type": "code",
        "colab": {
          "base_uri": "https://localhost:8080/",
          "height": 347
        },
        "outputId": "c6215064-9537-4068-bfc9-67c842750f3d"
      },
      "source": [
        "Final_data.isna().sum().sort_values(ascending = False)"
      ],
      "execution_count": 299,
      "outputs": [
        {
          "output_type": "execute_result",
          "data": {
            "text/plain": [
              "avg_cur_bal              27747\n",
              "mo_sin_old_rev_tl_op     27742\n",
              "mo_sin_rcnt_rev_tl_op    27742\n",
              "num_actv_rev_tl          27741\n",
              "bc_util                   9112\n",
              "bc_open_to_buy            9025\n",
              "acc_open_past_24mths      7495\n",
              "mort_acc                  7495\n",
              "loan_status                  0\n",
              "grade                        0\n",
              "emp_length                   0\n",
              "annual_inc                   0\n",
              "home_ownership               0\n",
              "int_rate                     0\n",
              "last_pymnt_amnt              0\n",
              "pub_rec                      0\n",
              "open_acc                     0\n",
              "funded_amnt                  0\n",
              "dtype: int64"
            ]
          },
          "metadata": {
            "tags": []
          },
          "execution_count": 299
        }
      ]
    },
    {
      "cell_type": "code",
      "metadata": {
        "id": "IQr-Sb6EgLll",
        "colab_type": "code",
        "colab": {}
      },
      "source": [
        "Final_data.fillna(Final_data.mean(), inplace=True)"
      ],
      "execution_count": 0,
      "outputs": []
    },
    {
      "cell_type": "code",
      "metadata": {
        "id": "kXkxJq6Ugb22",
        "colab_type": "code",
        "colab": {
          "base_uri": "https://localhost:8080/",
          "height": 347
        },
        "outputId": "6b312d59-2368-4428-fabe-00a6ea784bea"
      },
      "source": [
        "Final_data.isna().sum().sort_values(ascending = False)"
      ],
      "execution_count": 301,
      "outputs": [
        {
          "output_type": "execute_result",
          "data": {
            "text/plain": [
              "loan_status              0\n",
              "acc_open_past_24mths     0\n",
              "emp_length               0\n",
              "annual_inc               0\n",
              "home_ownership           0\n",
              "grade                    0\n",
              "last_pymnt_amnt          0\n",
              "mort_acc                 0\n",
              "pub_rec                  0\n",
              "int_rate                 0\n",
              "open_acc                 0\n",
              "num_actv_rev_tl          0\n",
              "mo_sin_rcnt_rev_tl_op    0\n",
              "mo_sin_old_rev_tl_op     0\n",
              "bc_util                  0\n",
              "bc_open_to_buy           0\n",
              "avg_cur_bal              0\n",
              "funded_amnt              0\n",
              "dtype: int64"
            ]
          },
          "metadata": {
            "tags": []
          },
          "execution_count": 301
        }
      ]
    },
    {
      "cell_type": "markdown",
      "metadata": {
        "id": "pV2BOKW5jr-c",
        "colab_type": "text"
      },
      "source": [
        "### 資料標準化"
      ]
    },
    {
      "cell_type": "code",
      "metadata": {
        "id": "6yzpH1akjv6p",
        "colab_type": "code",
        "colab": {
          "base_uri": "https://localhost:8080/",
          "height": 222
        },
        "outputId": "1f3f8bb6-f425-41db-e7d0-0770748bbd7f"
      },
      "source": [
        "Final_data.head()"
      ],
      "execution_count": 302,
      "outputs": [
        {
          "output_type": "execute_result",
          "data": {
            "text/html": [
              "<div>\n",
              "<style scoped>\n",
              "    .dataframe tbody tr th:only-of-type {\n",
              "        vertical-align: middle;\n",
              "    }\n",
              "\n",
              "    .dataframe tbody tr th {\n",
              "        vertical-align: top;\n",
              "    }\n",
              "\n",
              "    .dataframe thead th {\n",
              "        text-align: right;\n",
              "    }\n",
              "</style>\n",
              "<table border=\"1\" class=\"dataframe\">\n",
              "  <thead>\n",
              "    <tr style=\"text-align: right;\">\n",
              "      <th></th>\n",
              "      <th>funded_amnt</th>\n",
              "      <th>emp_length</th>\n",
              "      <th>annual_inc</th>\n",
              "      <th>home_ownership</th>\n",
              "      <th>grade</th>\n",
              "      <th>last_pymnt_amnt</th>\n",
              "      <th>mort_acc</th>\n",
              "      <th>pub_rec</th>\n",
              "      <th>int_rate</th>\n",
              "      <th>open_acc</th>\n",
              "      <th>num_actv_rev_tl</th>\n",
              "      <th>mo_sin_rcnt_rev_tl_op</th>\n",
              "      <th>mo_sin_old_rev_tl_op</th>\n",
              "      <th>bc_util</th>\n",
              "      <th>bc_open_to_buy</th>\n",
              "      <th>avg_cur_bal</th>\n",
              "      <th>acc_open_past_24mths</th>\n",
              "      <th>loan_status</th>\n",
              "    </tr>\n",
              "  </thead>\n",
              "  <tbody>\n",
              "    <tr>\n",
              "      <th>0</th>\n",
              "      <td>12000.0</td>\n",
              "      <td>3</td>\n",
              "      <td>96500.0</td>\n",
              "      <td>6</td>\n",
              "      <td>7</td>\n",
              "      <td>2927.22</td>\n",
              "      <td>1.0</td>\n",
              "      <td>0.0</td>\n",
              "      <td>7.62</td>\n",
              "      <td>17.0</td>\n",
              "      <td>5.0</td>\n",
              "      <td>10.0</td>\n",
              "      <td>118.0</td>\n",
              "      <td>83.5</td>\n",
              "      <td>2441.0</td>\n",
              "      <td>11783.0</td>\n",
              "      <td>4.0</td>\n",
              "      <td>0</td>\n",
              "    </tr>\n",
              "    <tr>\n",
              "      <th>1</th>\n",
              "      <td>27050.0</td>\n",
              "      <td>10</td>\n",
              "      <td>55000.0</td>\n",
              "      <td>4</td>\n",
              "      <td>6</td>\n",
              "      <td>6074.19</td>\n",
              "      <td>4.0</td>\n",
              "      <td>0.0</td>\n",
              "      <td>10.99</td>\n",
              "      <td>14.0</td>\n",
              "      <td>4.0</td>\n",
              "      <td>16.0</td>\n",
              "      <td>326.0</td>\n",
              "      <td>53.9</td>\n",
              "      <td>16473.0</td>\n",
              "      <td>9570.0</td>\n",
              "      <td>3.0</td>\n",
              "      <td>0</td>\n",
              "    </tr>\n",
              "    <tr>\n",
              "      <th>2</th>\n",
              "      <td>12000.0</td>\n",
              "      <td>10</td>\n",
              "      <td>130000.0</td>\n",
              "      <td>6</td>\n",
              "      <td>6</td>\n",
              "      <td>398.28</td>\n",
              "      <td>3.0</td>\n",
              "      <td>0.0</td>\n",
              "      <td>11.99</td>\n",
              "      <td>9.0</td>\n",
              "      <td>5.0</td>\n",
              "      <td>4.0</td>\n",
              "      <td>193.0</td>\n",
              "      <td>93.0</td>\n",
              "      <td>3567.0</td>\n",
              "      <td>36362.0</td>\n",
              "      <td>4.0</td>\n",
              "      <td>0</td>\n",
              "    </tr>\n",
              "    <tr>\n",
              "      <th>3</th>\n",
              "      <td>28000.0</td>\n",
              "      <td>5</td>\n",
              "      <td>325000.0</td>\n",
              "      <td>6</td>\n",
              "      <td>7</td>\n",
              "      <td>23915.86</td>\n",
              "      <td>5.0</td>\n",
              "      <td>0.0</td>\n",
              "      <td>7.62</td>\n",
              "      <td>15.0</td>\n",
              "      <td>5.0</td>\n",
              "      <td>5.0</td>\n",
              "      <td>229.0</td>\n",
              "      <td>67.1</td>\n",
              "      <td>13901.0</td>\n",
              "      <td>53306.0</td>\n",
              "      <td>6.0</td>\n",
              "      <td>0</td>\n",
              "    </tr>\n",
              "    <tr>\n",
              "      <th>4</th>\n",
              "      <td>12000.0</td>\n",
              "      <td>4</td>\n",
              "      <td>60000.0</td>\n",
              "      <td>5</td>\n",
              "      <td>6</td>\n",
              "      <td>3775.55</td>\n",
              "      <td>0.0</td>\n",
              "      <td>0.0</td>\n",
              "      <td>10.99</td>\n",
              "      <td>15.0</td>\n",
              "      <td>7.0</td>\n",
              "      <td>1.0</td>\n",
              "      <td>48.0</td>\n",
              "      <td>15.9</td>\n",
              "      <td>15216.0</td>\n",
              "      <td>476.0</td>\n",
              "      <td>8.0</td>\n",
              "      <td>0</td>\n",
              "    </tr>\n",
              "  </tbody>\n",
              "</table>\n",
              "</div>"
            ],
            "text/plain": [
              "   funded_amnt  emp_length  ...  acc_open_past_24mths  loan_status\n",
              "0      12000.0           3  ...                   4.0            0\n",
              "1      27050.0          10  ...                   3.0            0\n",
              "2      12000.0          10  ...                   4.0            0\n",
              "3      28000.0           5  ...                   6.0            0\n",
              "4      12000.0           4  ...                   8.0            0\n",
              "\n",
              "[5 rows x 18 columns]"
            ]
          },
          "metadata": {
            "tags": []
          },
          "execution_count": 302
        }
      ]
    },
    {
      "cell_type": "markdown",
      "metadata": {
        "id": "9EUsrxdUki5p",
        "colab_type": "text"
      },
      "source": [
        "### 資料標準化"
      ]
    },
    {
      "cell_type": "code",
      "metadata": {
        "id": "a0ucKUdzgiFn",
        "colab_type": "code",
        "colab": {
          "base_uri": "https://localhost:8080/",
          "height": 69
        },
        "outputId": "d2028e48-f50a-46a6-ff6e-005446d5a074"
      },
      "source": [
        "from sklearn import preprocessing,metrics \n",
        "scl = preprocessing.StandardScaler()  # (x - u) / std\n",
        "fields = Final_data.columns.values[:-1]\n",
        "data_clean = pd.DataFrame(scl.fit_transform(Final_data[fields]), columns = fields)\n",
        "data_clean['loan_status'] = Final_data['loan_status']\n",
        "data_clean['loan_status'].value_counts()"
      ],
      "execution_count": 303,
      "outputs": [
        {
          "output_type": "execute_result",
          "data": {
            "text/plain": [
              "0    158503\n",
              "1     29668\n",
              "Name: loan_status, dtype: int64"
            ]
          },
          "metadata": {
            "tags": []
          },
          "execution_count": 303
        }
      ]
    },
    {
      "cell_type": "code",
      "metadata": {
        "id": "B3ofk5vcj5nS",
        "colab_type": "code",
        "colab": {
          "base_uri": "https://localhost:8080/",
          "height": 222
        },
        "outputId": "9a7bbc81-604e-465a-dc25-9429260656af"
      },
      "source": [
        "data_clean.head()"
      ],
      "execution_count": 304,
      "outputs": [
        {
          "output_type": "execute_result",
          "data": {
            "text/html": [
              "<div>\n",
              "<style scoped>\n",
              "    .dataframe tbody tr th:only-of-type {\n",
              "        vertical-align: middle;\n",
              "    }\n",
              "\n",
              "    .dataframe tbody tr th {\n",
              "        vertical-align: top;\n",
              "    }\n",
              "\n",
              "    .dataframe thead th {\n",
              "        text-align: right;\n",
              "    }\n",
              "</style>\n",
              "<table border=\"1\" class=\"dataframe\">\n",
              "  <thead>\n",
              "    <tr style=\"text-align: right;\">\n",
              "      <th></th>\n",
              "      <th>funded_amnt</th>\n",
              "      <th>emp_length</th>\n",
              "      <th>annual_inc</th>\n",
              "      <th>home_ownership</th>\n",
              "      <th>grade</th>\n",
              "      <th>last_pymnt_amnt</th>\n",
              "      <th>mort_acc</th>\n",
              "      <th>pub_rec</th>\n",
              "      <th>int_rate</th>\n",
              "      <th>open_acc</th>\n",
              "      <th>num_actv_rev_tl</th>\n",
              "      <th>mo_sin_rcnt_rev_tl_op</th>\n",
              "      <th>mo_sin_old_rev_tl_op</th>\n",
              "      <th>bc_util</th>\n",
              "      <th>bc_open_to_buy</th>\n",
              "      <th>avg_cur_bal</th>\n",
              "      <th>acc_open_past_24mths</th>\n",
              "      <th>loan_status</th>\n",
              "    </tr>\n",
              "  </thead>\n",
              "  <tbody>\n",
              "    <tr>\n",
              "      <th>0</th>\n",
              "      <td>-0.289865</td>\n",
              "      <td>-0.808437</td>\n",
              "      <td>0.468263</td>\n",
              "      <td>0.882600</td>\n",
              "      <td>1.364207</td>\n",
              "      <td>-0.212603</td>\n",
              "      <td>-0.377328</td>\n",
              "      <td>-0.261387</td>\n",
              "      <td>-1.500497</td>\n",
              "      <td>1.302047</td>\n",
              "      <td>-0.250578</td>\n",
              "      <td>-0.275500</td>\n",
              "      <td>-0.743709</td>\n",
              "      <td>0.654446</td>\n",
              "      <td>-0.452853</td>\n",
              "      <td>-0.133081</td>\n",
              "      <td>0.027086</td>\n",
              "      <td>0</td>\n",
              "    </tr>\n",
              "    <tr>\n",
              "      <th>1</th>\n",
              "      <td>1.565265</td>\n",
              "      <td>1.139246</td>\n",
              "      <td>-0.332513</td>\n",
              "      <td>-2.226577</td>\n",
              "      <td>0.587619</td>\n",
              "      <td>0.325463</td>\n",
              "      <td>1.018453</td>\n",
              "      <td>-0.261387</td>\n",
              "      <td>-0.741023</td>\n",
              "      <td>0.650935</td>\n",
              "      <td>-0.621610</td>\n",
              "      <td>0.126864</td>\n",
              "      <td>1.813711</td>\n",
              "      <td>-0.507619</td>\n",
              "      <td>0.638622</td>\n",
              "      <td>-0.279377</td>\n",
              "      <td>-0.357007</td>\n",
              "      <td>0</td>\n",
              "    </tr>\n",
              "    <tr>\n",
              "      <th>2</th>\n",
              "      <td>-0.289865</td>\n",
              "      <td>1.139246</td>\n",
              "      <td>1.114672</td>\n",
              "      <td>0.882600</td>\n",
              "      <td>0.587619</td>\n",
              "      <td>-0.645000</td>\n",
              "      <td>0.553193</td>\n",
              "      <td>-0.261387</td>\n",
              "      <td>-0.515660</td>\n",
              "      <td>-0.434251</td>\n",
              "      <td>-0.250578</td>\n",
              "      <td>-0.677865</td>\n",
              "      <td>0.178438</td>\n",
              "      <td>1.027406</td>\n",
              "      <td>-0.365268</td>\n",
              "      <td>1.491777</td>\n",
              "      <td>0.027086</td>\n",
              "      <td>0</td>\n",
              "    </tr>\n",
              "    <tr>\n",
              "      <th>3</th>\n",
              "      <td>1.682366</td>\n",
              "      <td>-0.251956</td>\n",
              "      <td>4.877352</td>\n",
              "      <td>0.882600</td>\n",
              "      <td>1.364207</td>\n",
              "      <td>3.376020</td>\n",
              "      <td>1.483714</td>\n",
              "      <td>-0.261387</td>\n",
              "      <td>-1.500497</td>\n",
              "      <td>0.867972</td>\n",
              "      <td>-0.250578</td>\n",
              "      <td>-0.610804</td>\n",
              "      <td>0.621068</td>\n",
              "      <td>0.010599</td>\n",
              "      <td>0.438560</td>\n",
              "      <td>2.611904</td>\n",
              "      <td>0.795272</td>\n",
              "      <td>0</td>\n",
              "    </tr>\n",
              "    <tr>\n",
              "      <th>4</th>\n",
              "      <td>-0.289865</td>\n",
              "      <td>-0.530196</td>\n",
              "      <td>-0.236034</td>\n",
              "      <td>-0.671988</td>\n",
              "      <td>0.587619</td>\n",
              "      <td>-0.067556</td>\n",
              "      <td>-0.842589</td>\n",
              "      <td>-0.261387</td>\n",
              "      <td>-0.741023</td>\n",
              "      <td>0.867972</td>\n",
              "      <td>0.491487</td>\n",
              "      <td>-0.879047</td>\n",
              "      <td>-1.604380</td>\n",
              "      <td>-1.999458</td>\n",
              "      <td>0.540847</td>\n",
              "      <td>-0.880559</td>\n",
              "      <td>1.563458</td>\n",
              "      <td>0</td>\n",
              "    </tr>\n",
              "  </tbody>\n",
              "</table>\n",
              "</div>"
            ],
            "text/plain": [
              "   funded_amnt  emp_length  ...  acc_open_past_24mths  loan_status\n",
              "0    -0.289865   -0.808437  ...              0.027086            0\n",
              "1     1.565265    1.139246  ...             -0.357007            0\n",
              "2    -0.289865    1.139246  ...              0.027086            0\n",
              "3     1.682366   -0.251956  ...              0.795272            0\n",
              "4    -0.289865   -0.530196  ...              1.563458            0\n",
              "\n",
              "[5 rows x 18 columns]"
            ]
          },
          "metadata": {
            "tags": []
          },
          "execution_count": 304
        }
      ]
    },
    {
      "cell_type": "code",
      "metadata": {
        "id": "Y-WvuE_6uS5m",
        "colab_type": "code",
        "colab": {}
      },
      "source": [
        "data_clean.dropna(inplace=True)"
      ],
      "execution_count": 0,
      "outputs": []
    },
    {
      "cell_type": "markdown",
      "metadata": {
        "id": "8nax9LT0lIgY",
        "colab_type": "text"
      },
      "source": [
        "### 資料重取樣"
      ]
    },
    {
      "cell_type": "code",
      "metadata": {
        "id": "i9RDNrFLkW91",
        "colab_type": "code",
        "colab": {
          "base_uri": "https://localhost:8080/",
          "height": 69
        },
        "outputId": "23ea2586-304b-436e-f5ac-ac265757ca0e"
      },
      "source": [
        "data_clean['loan_status'].value_counts()"
      ],
      "execution_count": 306,
      "outputs": [
        {
          "output_type": "execute_result",
          "data": {
            "text/plain": [
              "0    158503\n",
              "1     29668\n",
              "Name: loan_status, dtype: int64"
            ]
          },
          "metadata": {
            "tags": []
          },
          "execution_count": 306
        }
      ]
    },
    {
      "cell_type": "code",
      "metadata": {
        "id": "DmimGWqrlGvH",
        "colab_type": "code",
        "colab": {}
      },
      "source": [
        "loanstatus_0 = data_clean[data_clean[\"loan_status\"]==0]\n",
        "loanstatus_1 = data_clean[data_clean[\"loan_status\"]==1]"
      ],
      "execution_count": 0,
      "outputs": []
    },
    {
      "cell_type": "code",
      "metadata": {
        "id": "tm9RpUf_lLsX",
        "colab_type": "code",
        "colab": {
          "base_uri": "https://localhost:8080/",
          "height": 35
        },
        "outputId": "13434dd4-dbdc-4d7d-9e29-8eab5b11e31f"
      },
      "source": [
        "subset_of_loanstatus_0 = loanstatus_0.sample(n=1000)\n",
        "subset_of_loanstatus_1 = loanstatus_1.sample(n=1000)\n",
        "data_clean = pd.concat([subset_of_loanstatus_1,subset_of_loanstatus_0])\n",
        "data_clean = data_clean.sample(frac=1).reset_index(drop=True)\n",
        "data_clean.shape"
      ],
      "execution_count": 308,
      "outputs": [
        {
          "output_type": "execute_result",
          "data": {
            "text/plain": [
              "(2000, 18)"
            ]
          },
          "metadata": {
            "tags": []
          },
          "execution_count": 308
        }
      ]
    },
    {
      "cell_type": "code",
      "metadata": {
        "id": "4Ilu5pctmPZM",
        "colab_type": "code",
        "colab": {}
      },
      "source": [
        "#data_clean.head()"
      ],
      "execution_count": 0,
      "outputs": []
    },
    {
      "cell_type": "code",
      "metadata": {
        "id": "kzGRAGcflbhp",
        "colab_type": "code",
        "colab": {
          "base_uri": "https://localhost:8080/",
          "height": 35
        },
        "outputId": "193b42c6-ee33-470e-a03f-07fb0e992303"
      },
      "source": [
        "from sklearn.ensemble import RandomForestClassifier\n",
        "from sklearn.metrics import accuracy_score\n",
        "clf = RandomForestClassifier()\n",
        "X_train, X_test, y_train, y_test = train_test_split(data_clean.iloc[:,:-1], data_clean.iloc[:,-1], test_size=0.2, random_state=42)\n",
        "clf.fit(X_train,y_train)\n",
        "predicted = clf.predict(X_test)\n",
        "accuracy_score(y_test, predicted)"
      ],
      "execution_count": 329,
      "outputs": [
        {
          "output_type": "execute_result",
          "data": {
            "text/plain": [
              "0.8118181818181818"
            ]
          },
          "metadata": {
            "tags": []
          },
          "execution_count": 329
        }
      ]
    },
    {
      "cell_type": "code",
      "metadata": {
        "id": "xC4x0qhCl6ws",
        "colab_type": "code",
        "colab": {}
      },
      "source": [
        "acc = []\n",
        "for recnum in range(500,6500,500):\n",
        "  subset_of_loanstatus_0 = loanstatus_0.sample(n=recnum)\n",
        "  subset_of_loanstatus_1 = loanstatus_1.sample(n=recnum)\n",
        "  data_clean = pd.concat([subset_of_loanstatus_1,subset_of_loanstatus_0])\n",
        "  data_clean = data_clean.sample(frac=1).reset_index(drop=True)\n",
        "  clf = LogisticRegression()\n",
        "  X_train, X_test, y_train, y_test = train_test_split(data_clean.iloc[:,:-1], data_clean.iloc[:,-1], test_size=0.2, random_state=42)\n",
        "  clf.fit(X_train,y_train)\n",
        "  predicted = clf.predict(X_test)\n",
        "  acc.append(accuracy_score(y_test, predicted))"
      ],
      "execution_count": 0,
      "outputs": []
    },
    {
      "cell_type": "code",
      "metadata": {
        "id": "K67ynAzVm7lw",
        "colab_type": "code",
        "colab": {
          "base_uri": "https://localhost:8080/",
          "height": 297
        },
        "outputId": "9927f87e-46a1-4b9c-f5ae-6a7d13d1ceae"
      },
      "source": [
        "plt.plot(range(500,6500,500), acc)"
      ],
      "execution_count": 331,
      "outputs": [
        {
          "output_type": "execute_result",
          "data": {
            "text/plain": [
              "[<matplotlib.lines.Line2D at 0x7f1b3bbed748>]"
            ]
          },
          "metadata": {
            "tags": []
          },
          "execution_count": 331
        },
        {
          "output_type": "display_data",
          "data": {
            "image/png": "[encoded data removed]",
            "text/plain": [
              "<Figure size 432x288 with 1 Axes>"
            ]
          },
          "metadata": {
            "tags": []
          }
        }
      ]
    },
    {
      "cell_type": "code",
      "metadata": {
        "id": "1LJKMWaPnFqO",
        "colab_type": "code",
        "colab": {
          "base_uri": "https://localhost:8080/",
          "height": 35
        },
        "outputId": "c2c5df2f-a99d-44e1-f15b-f64380b9a38f"
      },
      "source": [
        "subset_of_loanstatus_0 = loanstatus_0.sample(n=5500)\n",
        "subset_of_loanstatus_1 = loanstatus_1.sample(n=5500)\n",
        "data_clean = pd.concat([subset_of_loanstatus_1,subset_of_loanstatus_0])\n",
        "data_clean = data_clean.sample(frac=1).reset_index(drop=True)\n",
        "data_clean.shape"
      ],
      "execution_count": 332,
      "outputs": [
        {
          "output_type": "execute_result",
          "data": {
            "text/plain": [
              "(11000, 18)"
            ]
          },
          "metadata": {
            "tags": []
          },
          "execution_count": 332
        }
      ]
    },
    {
      "cell_type": "code",
      "metadata": {
        "id": "ZFmel5fbnsjS",
        "colab_type": "code",
        "colab": {}
      },
      "source": [
        "from sklearn.model_selection import train_test_split\n",
        "X_train, X_test, y_train, y_test = train_test_split(data_clean.iloc[:,:-1], data_clean.iloc[:,-1], test_size=0.2, random_state=42)\n"
      ],
      "execution_count": 0,
      "outputs": []
    },
    {
      "cell_type": "code",
      "metadata": {
        "id": "DGU9qxzWnznx",
        "colab_type": "code",
        "colab": {
          "base_uri": "https://localhost:8080/",
          "height": 35
        },
        "outputId": "af7e6263-e6f5-422e-d1cd-c6054ce85875"
      },
      "source": [
        "X_train.shape, X_test.shape, y_train.shape, y_test.shape"
      ],
      "execution_count": 334,
      "outputs": [
        {
          "output_type": "execute_result",
          "data": {
            "text/plain": [
              "((8800, 17), (2200, 17), (8800,), (2200,))"
            ]
          },
          "metadata": {
            "tags": []
          },
          "execution_count": 334
        }
      ]
    },
    {
      "cell_type": "markdown",
      "metadata": {
        "id": "cOILGuICn9wt",
        "colab_type": "text"
      },
      "source": [
        "###特徵篩選"
      ]
    },
    {
      "cell_type": "code",
      "metadata": {
        "id": "VyvmAUwPn21B",
        "colab_type": "code",
        "colab": {
          "base_uri": "https://localhost:8080/",
          "height": 69
        },
        "outputId": "61641b62-81af-4256-a1c2-d9266f8b045a"
      },
      "source": [
        "from sklearn import linear_model,svm\n",
        "from sklearn.feature_selection import RFE\n",
        "\n",
        "# create the RFE model and select 3 attributes\n",
        "clf_LR = linear_model.LogisticRegression(C=1e30)\n",
        "clf_LR.fit(X_train,y_train)\n",
        "rfe = RFE(clf_LR, 10)\n",
        "rfe = rfe.fit(data_clean.iloc[:,:-1].values, data_clean.iloc[:,-1].values)\n",
        "\n",
        "# summarize the selection of the attributes\n",
        "print(rfe.support_)\n",
        "print(rfe.ranking_)"
      ],
      "execution_count": 335,
      "outputs": [
        {
          "output_type": "stream",
          "text": [
            "[ True False  True False  True  True False False  True False False  True\n",
            "  True  True  True False  True]\n",
            "[1 5 1 6 1 1 8 2 1 7 4 1 1 1 1 3 1]\n"
          ],
          "name": "stdout"
        }
      ]
    },
    {
      "cell_type": "code",
      "metadata": {
        "id": "t-t5OLRsoUwj",
        "colab_type": "code",
        "colab": {
          "base_uri": "https://localhost:8080/",
          "height": 222
        },
        "outputId": "75db7a38-d9b9-4849-9ee5-43bca383c62e"
      },
      "source": [
        "X_train.loc[:,rfe.support_].head()"
      ],
      "execution_count": 336,
      "outputs": [
        {
          "output_type": "execute_result",
          "data": {
            "text/html": [
              "<div>\n",
              "<style scoped>\n",
              "    .dataframe tbody tr th:only-of-type {\n",
              "        vertical-align: middle;\n",
              "    }\n",
              "\n",
              "    .dataframe tbody tr th {\n",
              "        vertical-align: top;\n",
              "    }\n",
              "\n",
              "    .dataframe thead th {\n",
              "        text-align: right;\n",
              "    }\n",
              "</style>\n",
              "<table border=\"1\" class=\"dataframe\">\n",
              "  <thead>\n",
              "    <tr style=\"text-align: right;\">\n",
              "      <th></th>\n",
              "      <th>funded_amnt</th>\n",
              "      <th>annual_inc</th>\n",
              "      <th>grade</th>\n",
              "      <th>last_pymnt_amnt</th>\n",
              "      <th>int_rate</th>\n",
              "      <th>mo_sin_rcnt_rev_tl_op</th>\n",
              "      <th>mo_sin_old_rev_tl_op</th>\n",
              "      <th>bc_util</th>\n",
              "      <th>bc_open_to_buy</th>\n",
              "      <th>acc_open_past_24mths</th>\n",
              "    </tr>\n",
              "  </thead>\n",
              "  <tbody>\n",
              "    <tr>\n",
              "      <th>10735</th>\n",
              "      <td>2.545217</td>\n",
              "      <td>0.825235</td>\n",
              "      <td>-1.742144</td>\n",
              "      <td>-0.048238</td>\n",
              "      <td>1.399928</td>\n",
              "      <td>-0.744925</td>\n",
              "      <td>-1.370769</td>\n",
              "      <td>0.356078</td>\n",
              "      <td>-0.378724</td>\n",
              "      <td>0.411179</td>\n",
              "    </tr>\n",
              "    <tr>\n",
              "      <th>5937</th>\n",
              "      <td>1.682366</td>\n",
              "      <td>0.612981</td>\n",
              "      <td>-0.188969</td>\n",
              "      <td>-0.594682</td>\n",
              "      <td>0.563830</td>\n",
              "      <td>-0.811986</td>\n",
              "      <td>-0.067468</td>\n",
              "      <td>-0.295620</td>\n",
              "      <td>-0.057473</td>\n",
              "      <td>0.027086</td>\n",
              "    </tr>\n",
              "    <tr>\n",
              "      <th>7642</th>\n",
              "      <td>-0.289865</td>\n",
              "      <td>-0.062372</td>\n",
              "      <td>0.587619</td>\n",
              "      <td>0.375295</td>\n",
              "      <td>-0.168600</td>\n",
              "      <td>-0.677865</td>\n",
              "      <td>-0.817481</td>\n",
              "      <td>-0.201399</td>\n",
              "      <td>0.564882</td>\n",
              "      <td>1.563458</td>\n",
              "    </tr>\n",
              "    <tr>\n",
              "      <th>3328</th>\n",
              "      <td>2.283280</td>\n",
              "      <td>0.728756</td>\n",
              "      <td>-1.742144</td>\n",
              "      <td>-0.499302</td>\n",
              "      <td>1.672618</td>\n",
              "      <td>-0.275500</td>\n",
              "      <td>0.092370</td>\n",
              "      <td>-1.347760</td>\n",
              "      <td>0.653712</td>\n",
              "      <td>0.795272</td>\n",
              "    </tr>\n",
              "    <tr>\n",
              "      <th>8681</th>\n",
              "      <td>1.337225</td>\n",
              "      <td>0.034107</td>\n",
              "      <td>-0.965556</td>\n",
              "      <td>-0.599685</td>\n",
              "      <td>1.226399</td>\n",
              "      <td>0.395107</td>\n",
              "      <td>0.350572</td>\n",
              "      <td>1.243330</td>\n",
              "      <td>-0.623902</td>\n",
              "      <td>-0.741100</td>\n",
              "    </tr>\n",
              "  </tbody>\n",
              "</table>\n",
              "</div>"
            ],
            "text/plain": [
              "       funded_amnt  annual_inc  ...  bc_open_to_buy  acc_open_past_24mths\n",
              "10735     2.545217    0.825235  ...       -0.378724              0.411179\n",
              "5937      1.682366    0.612981  ...       -0.057473              0.027086\n",
              "7642     -0.289865   -0.062372  ...        0.564882              1.563458\n",
              "3328      2.283280    0.728756  ...        0.653712              0.795272\n",
              "8681      1.337225    0.034107  ...       -0.623902             -0.741100\n",
              "\n",
              "[5 rows x 10 columns]"
            ]
          },
          "metadata": {
            "tags": []
          },
          "execution_count": 336
        }
      ]
    },
    {
      "cell_type": "code",
      "metadata": {
        "id": "sGKatqQnois0",
        "colab_type": "code",
        "colab": {
          "base_uri": "https://localhost:8080/",
          "height": 52
        },
        "outputId": "13129a99-d98f-46f2-9e22-184d2f590405"
      },
      "source": [
        "from sklearn.decomposition import PCA\n",
        "pca = PCA(n_components=10, whiten=True)\n",
        "X_train_pca = pca.fit_transform(X_train)\n",
        "X_test_pca = pca.transform(X_test)\n",
        "explained_variance = pca.explained_variance_ratio_\n",
        "print('Expected Variance is '+ str(explained_variance))"
      ],
      "execution_count": 337,
      "outputs": [
        {
          "output_type": "stream",
          "text": [
            "Expected Variance is [0.16703519 0.15664063 0.12664634 0.07529328 0.07327141 0.05863801\n",
            " 0.05608949 0.04835858 0.04379204 0.03924139]\n"
          ],
          "name": "stdout"
        }
      ]
    },
    {
      "cell_type": "code",
      "metadata": {
        "id": "DRSQqiTgo2dk",
        "colab_type": "code",
        "colab": {}
      },
      "source": [
        "features = ['funded_amnt','annual_inc','grade',\"last_pymnt_amnt\",\n",
        "\"int_rate\",\"mo_sin_rcnt_rev_tl_op\",\"mo_sin_old_rev_tl_op\",\"bc_util\",\"bc_open_to_buy\",\"acc_open_past_24mths\",\"loan_status\"]\n",
        "X_train, X_test = X_train[features[:-1]], X_test[features[:-1]]\n",
        "data_clean = data_clean[features]"
      ],
      "execution_count": 0,
      "outputs": []
    },
    {
      "cell_type": "code",
      "metadata": {
        "id": "jZQJjcvBpHB1",
        "colab_type": "code",
        "colab": {
          "base_uri": "https://localhost:8080/",
          "height": 35
        },
        "outputId": "346d0c1d-78b3-4cf5-ca76-e27a3794d74f"
      },
      "source": [
        "data_clean.shape"
      ],
      "execution_count": 339,
      "outputs": [
        {
          "output_type": "execute_result",
          "data": {
            "text/plain": [
              "(11000, 11)"
            ]
          },
          "metadata": {
            "tags": []
          },
          "execution_count": 339
        }
      ]
    },
    {
      "cell_type": "markdown",
      "metadata": {
        "id": "wI7siOF0ptmO",
        "colab_type": "text"
      },
      "source": [
        "### 建立模型"
      ]
    },
    {
      "cell_type": "code",
      "metadata": {
        "id": "wtJL7TUQpKGl",
        "colab_type": "code",
        "colab": {
          "base_uri": "https://localhost:8080/",
          "height": 35
        },
        "outputId": "4eda866f-17b8-49e3-bf06-7198d4737103"
      },
      "source": [
        "from sklearn import linear_model\n",
        "from sklearn.model_selection import  cross_val_score\n",
        "from sklearn.feature_selection import RFE\n",
        "\n",
        "clf_LR = linear_model.LogisticRegression(C=1e30)\n",
        "clf_LR.fit(X_train,y_train)\n",
        "print(cross_val_score(clf_LR, X_train, y_train, cv=3))"
      ],
      "execution_count": 340,
      "outputs": [
        {
          "output_type": "stream",
          "text": [
            "[0.80334015 0.80463689 0.80395499]\n"
          ],
          "name": "stdout"
        }
      ]
    },
    {
      "cell_type": "code",
      "metadata": {
        "id": "qRWxKkdzpwwO",
        "colab_type": "code",
        "colab": {}
      },
      "source": [
        "from sklearn.model_selection import GridSearchCV\n",
        "\n",
        "def cross_validation_best_parameters(model, param_grid):\n",
        "  grid = GridSearchCV(model, param_grid,cv=10, scoring='accuracy')\n",
        "  X=data_clean.iloc[:,:-1].values\n",
        "  y=data_clean.iloc[:,-1].values\n",
        "  grid.fit(X,y)\n",
        "  #print()\n",
        "  #print(dir(grid))\n",
        "  #print(grid.cv_results_)\n",
        "  #mean_scores = [result for result in grid.cv_results_.mean_test_score]\n",
        "  return grid.best_score_,grid.best_estimator_\n"
      ],
      "execution_count": 0,
      "outputs": []
    },
    {
      "cell_type": "code",
      "metadata": {
        "id": "R1rG9cjRqq8a",
        "colab_type": "code",
        "colab": {
          "base_uri": "https://localhost:8080/",
          "height": 121
        },
        "outputId": "4052458c-80ae-4efb-fe4c-023e2b5c170c"
      },
      "source": [
        "logreg = linear_model.LogisticRegression(random_state=0)\n",
        "c=[0.001, 0.01, 0.1, 1, 10, 100, 1000]\n",
        "param_grid = dict(C=c)\n",
        "Best_Accuracy, Best_classifier =cross_validation_best_parameters(logreg,param_grid)\n",
        "print(\"Best accuracy is \"+ str(Best_Accuracy))\n",
        "print(Best_classifier)\n"
      ],
      "execution_count": 342,
      "outputs": [
        {
          "output_type": "stream",
          "text": [
            "Best accuracy is 0.8021818181818181\n",
            "LogisticRegression(C=100, class_weight=None, dual=False, fit_intercept=True,\n",
            "                   intercept_scaling=1, l1_ratio=None, max_iter=100,\n",
            "                   multi_class='auto', n_jobs=None, penalty='l2',\n",
            "                   random_state=0, solver='lbfgs', tol=0.0001, verbose=0,\n",
            "                   warm_start=False)\n"
          ],
          "name": "stdout"
        }
      ]
    },
    {
      "cell_type": "code",
      "metadata": {
        "id": "1Fdu6hhCrDks",
        "colab_type": "code",
        "colab": {}
      },
      "source": [
        "import seaborn as sns\n",
        "sns.set('talk', 'whitegrid', 'dark', font_scale=1, font='Ricty',rc={\"lines.linewidth\": 2, 'grid.linestyle': '--'})\n",
        "def plotAUC(truth, pred, lab):\n",
        "  fpr, tpr, _ = metrics.roc_curve(truth,pred)\n",
        "  roc_auc = metrics.auc(fpr, tpr)\n",
        "  lw = 2\n",
        "  c = (np.random.rand(), np.random.rand(), np.random.rand())\n",
        "  plt.plot(fpr, tpr, color= c,lw=lw, label= lab +'(AUC = %0.2f)' % roc_auc)\n",
        "  plt.plot([0, 1], [0, 1], color='navy', lw=lw, linestyle='--')\n",
        "  plt.xlim([0.0, 1.0])\n",
        "  plt.ylim([0.0, 1.0])\n",
        "  plt.xlabel('False Positive Rate')\n",
        "  plt.ylabel('True Positive Rate')\n",
        "  plt.title('ROC curve') #Receiver Operating Characteristic\n",
        "  plt.legend(loc=\"lower right\")\n"
      ],
      "execution_count": 0,
      "outputs": []
    },
    {
      "cell_type": "code",
      "metadata": {
        "id": "JfPRN0x2sU82",
        "colab_type": "code",
        "colab": {
          "base_uri": "https://localhost:8080/",
          "height": 339
        },
        "outputId": "fccffc90-7240-42c6-d9b5-1638294c6525"
      },
      "source": [
        "import numpy as np\n",
        "clf_LR = linear_model.LogisticRegression(C=Best_classifier.C)\n",
        "clf_LR.fit(X_train,y_train)\n",
        "LR_Predict = clf_LR.predict_proba(X_test)[:,1]\n",
        "LR_Predict_bin = clf_LR.predict(X_test)\n",
        "LR_Accuracy = accuracy_score(y_test,LR_Predict.round())\n",
        "print(\"Logistic regression accuracy is \",LR_Accuracy)\n",
        "plotAUC(y_test,LR_Predict,'Logistic Regression')\n",
        "plt.show()\n"
      ],
      "execution_count": 344,
      "outputs": [
        {
          "output_type": "stream",
          "text": [
            "Logistic regression accuracy is  0.7945454545454546\n"
          ],
          "name": "stdout"
        },
        {
          "output_type": "display_data",
          "data": {
            "image/png": "[encoded data removed]",
            "text/plain": [
              "<Figure size 432x288 with 1 Axes>"
            ]
          },
          "metadata": {
            "tags": []
          }
        }
      ]
    },
    {
      "cell_type": "code",
      "metadata": {
        "id": "_ktNdtjGx2iJ",
        "colab_type": "code",
        "colab": {}
      },
      "source": [
        "from sklearn.model_selection import GridSearchCV\n",
        "clf_svm = svm.SVC()\n",
        "powers = range(0,5)\n",
        "cs = [10**i for i in powers]\n",
        "param_grid = dict(C=cs)\n",
        "grid = GridSearchCV(clf_svm, param_grid, cv=10, scoring='accuracy')\n",
        "grid.fit(data_clean.iloc[:,:-1].values, data_clean.iloc[:,-1].values)\n",
        "#grid_mean_scores = [result.mean_validation_score for result in grid.grid_scores_]\n",
        "print(\"---------------\")\n",
        "print(grid.best_estimator_)\n"
      ],
      "execution_count": 0,
      "outputs": []
    },
    {
      "cell_type": "code",
      "metadata": {
        "id": "KM1K8tAOsjPR",
        "colab_type": "code",
        "colab": {
          "base_uri": "https://localhost:8080/",
          "height": 35
        },
        "outputId": "23df71a8-9139-4739-f13f-a79af4b3e202"
      },
      "source": [
        "from sklearn.neural_network import MLPClassifier\n",
        "clf_NN = MLPClassifier(solver='lbfgs', alpha=1e5,hidden_layer_sizes=(5, 2), random_state=1)\n",
        "clf_NN.fit(X_train,y_train)\n",
        "predict_NN = clf_NN.predict(X_test)\n",
        "predictproba_NN = clf_NN.predict_proba(X_test)[:,1]\n",
        "NNAccuracy = accuracy_score(y_test,predict_NN)\n",
        "print(NNAccuracy)"
      ],
      "execution_count": 345,
      "outputs": [
        {
          "output_type": "stream",
          "text": [
            "0.49454545454545457\n"
          ],
          "name": "stdout"
        }
      ]
    },
    {
      "cell_type": "code",
      "metadata": {
        "id": "ldqkVqThtN46",
        "colab_type": "code",
        "colab": {
          "base_uri": "https://localhost:8080/",
          "height": 321
        },
        "outputId": "905124ae-4f8c-4bf4-8b4a-a616b3dd95c9"
      },
      "source": [
        "plotAUC(y_test,LR_Predict,'Logistic Regression')\n",
        "#plotAUC(y_test,predictproba_svm, 'SVM')\n",
        "plotAUC(y_test,predictproba_NN,'MLP')\n",
        "plt.show()\n"
      ],
      "execution_count": 347,
      "outputs": [
        {
          "output_type": "display_data",
          "data": {
            "image/png": "[encoded data removed]",
            "text/plain": [
              "<Figure size 432x288 with 1 Axes>"
            ]
          },
          "metadata": {
            "tags": []
          }
        }
      ]
    },
    {
      "cell_type": "code",
      "metadata": {
        "id": "t7IFzfidtUTj",
        "colab_type": "code",
        "colab": {
          "base_uri": "https://localhost:8080/",
          "height": 156
        },
        "outputId": "b6ee1a38-64be-4fa1-9b52-a8d030382c9b"
      },
      "source": [
        "from sklearn.ensemble import RandomForestClassifier\n",
        "from sklearn.model_selection import RandomizedSearchCV\n",
        "\n",
        "rf = RandomForestClassifier(criterion='gini', random_state=0)\n",
        "\n",
        "maxFeatures = range(1,data_clean.shape[1]-1)\n",
        "\n",
        "param_dist = dict(max_features=maxFeatures)\n",
        "\n",
        "rand = RandomizedSearchCV(rf, param_dist, cv=10, scoring='accuracy',n_iter=len(maxFeatures), random_state=10)\n",
        "\n",
        "X=data_clean.iloc[:,:-1].values\n",
        "y=data_clean.iloc[:,-1].values\n",
        "\n",
        "rand.fit(X,y)\n",
        "\n",
        "#mean_scores = [result.mean_validation_score for result in rand.grid_scores_]\n",
        "#print('Best Accuracy = '+str(rand.best_score_))\n",
        "print(rand.best_estimator_)\n"
      ],
      "execution_count": 350,
      "outputs": [
        {
          "output_type": "stream",
          "text": [
            "RandomForestClassifier(bootstrap=True, ccp_alpha=0.0, class_weight=None,\n",
            "                       criterion='gini', max_depth=None, max_features=4,\n",
            "                       max_leaf_nodes=None, max_samples=None,\n",
            "                       min_impurity_decrease=0.0, min_impurity_split=None,\n",
            "                       min_samples_leaf=1, min_samples_split=2,\n",
            "                       min_weight_fraction_leaf=0.0, n_estimators=100,\n",
            "                       n_jobs=None, oob_score=False, random_state=0, verbose=0,\n",
            "                       warm_start=False)\n"
          ],
          "name": "stdout"
        }
      ]
    },
    {
      "cell_type": "code",
      "metadata": {
        "id": "fm_OyUiB1CH1",
        "colab_type": "code",
        "colab": {
          "base_uri": "https://localhost:8080/",
          "height": 35
        },
        "outputId": "6df0adfb-0286-42aa-b26d-5f7f2df483cd"
      },
      "source": [
        "rand.best_estimator_.max_features"
      ],
      "execution_count": 351,
      "outputs": [
        {
          "output_type": "execute_result",
          "data": {
            "text/plain": [
              "4"
            ]
          },
          "metadata": {
            "tags": []
          },
          "execution_count": 351
        }
      ]
    },
    {
      "cell_type": "code",
      "metadata": {
        "id": "MkN0ctywzuA-",
        "colab_type": "code",
        "colab": {
          "base_uri": "https://localhost:8080/",
          "height": 156
        },
        "outputId": "78cb1b75-5945-4145-b1ab-85bba7f7a78e"
      },
      "source": [
        "from sklearn.metrics import accuracy_score\n",
        "randomForest = RandomForestClassifier(bootstrap=True,criterion =\n",
        "\"gini\",max_features=rand.best_estimator_.max_features,random_state=0 )\n",
        "\n",
        "randomForest.fit(X_train,y_train)\n"
      ],
      "execution_count": 352,
      "outputs": [
        {
          "output_type": "execute_result",
          "data": {
            "text/plain": [
              "RandomForestClassifier(bootstrap=True, ccp_alpha=0.0, class_weight=None,\n",
              "                       criterion='gini', max_depth=None, max_features=4,\n",
              "                       max_leaf_nodes=None, max_samples=None,\n",
              "                       min_impurity_decrease=0.0, min_impurity_split=None,\n",
              "                       min_samples_leaf=1, min_samples_split=2,\n",
              "                       min_weight_fraction_leaf=0.0, n_estimators=100,\n",
              "                       n_jobs=None, oob_score=False, random_state=0, verbose=0,\n",
              "                       warm_start=False)"
            ]
          },
          "metadata": {
            "tags": []
          },
          "execution_count": 352
        }
      ]
    },
    {
      "cell_type": "code",
      "metadata": {
        "id": "8yUhSYCW1OFc",
        "colab_type": "code",
        "colab": {
          "base_uri": "https://localhost:8080/",
          "height": 35
        },
        "outputId": "aabccecd-71db-49cf-9ad2-70cd98fd8823"
      },
      "source": [
        "rfPredict = randomForest.predict(X_test)\n",
        "rfAccuracy = accuracy_score(y_test,rfPredict)\n",
        "print(rfAccuracy)"
      ],
      "execution_count": 353,
      "outputs": [
        {
          "output_type": "stream",
          "text": [
            "0.7977272727272727\n"
          ],
          "name": "stdout"
        }
      ]
    },
    {
      "cell_type": "code",
      "metadata": {
        "id": "411HDM6c1QSc",
        "colab_type": "code",
        "colab": {}
      },
      "source": [
        "rfPredictproba = randomForest.predict_proba(X_test)[:,1]\n",
        "roc_score = metrics.roc_auc_score(y_test,rfPredict)\n"
      ],
      "execution_count": 0,
      "outputs": []
    },
    {
      "cell_type": "code",
      "metadata": {
        "id": "kKw95NgX1STM",
        "colab_type": "code",
        "colab": {
          "base_uri": "https://localhost:8080/",
          "height": 321
        },
        "outputId": "71ae9727-4367-41b0-946b-275f5aa4e8c1"
      },
      "source": [
        "plotAUC(y_test,rfPredictproba, 'Random Forest')\n",
        "plt.show()"
      ],
      "execution_count": 355,
      "outputs": [
        {
          "output_type": "display_data",
          "data": {
            "image/png": "[encoded data removed]",
            "text/plain": [
              "<Figure size 432x288 with 1 Axes>"
            ]
          },
          "metadata": {
            "tags": []
          }
        }
      ]
    },
    {
      "cell_type": "code",
      "metadata": {
        "id": "1Zo7ICeK1T38",
        "colab_type": "code",
        "colab": {
          "base_uri": "https://localhost:8080/",
          "height": 52
        },
        "outputId": "ac6f93ab-1745-44eb-b2e7-2e8b54543d57"
      },
      "source": [
        "randomForest.feature_importances_"
      ],
      "execution_count": 356,
      "outputs": [
        {
          "output_type": "execute_result",
          "data": {
            "text/plain": [
              "array([0.06970922, 0.06971276, 0.02843439, 0.47373897, 0.08091761,\n",
              "       0.04958558, 0.05981316, 0.0640999 , 0.06505637, 0.03893205])"
            ]
          },
          "metadata": {
            "tags": []
          },
          "execution_count": 356
        }
      ]
    },
    {
      "cell_type": "code",
      "metadata": {
        "id": "ij2nVafg1Yie",
        "colab_type": "code",
        "colab": {
          "base_uri": "https://localhost:8080/",
          "height": 491
        },
        "outputId": "f43db6bd-7dae-45d0-e5b5-7b9954958fdb"
      },
      "source": [
        "fig, ax = plt.subplots()\n",
        "width=0.35\n",
        "ax.bar(np.arange(len(features)-1), randomForest.feature_importances_, width, color='r')\n",
        "ax.set_xticks(np.arange(len(randomForest.feature_importances_)))\n",
        "ax.set_xticklabels(X_train.columns.values,rotation=90)\n",
        "plt.title('Feature Importance from DT')\n",
        "ax.set_ylabel('Normalized Gini Importance')"
      ],
      "execution_count": 357,
      "outputs": [
        {
          "output_type": "execute_result",
          "data": {
            "text/plain": [
              "Text(0, 0.5, 'Normalized Gini Importance')"
            ]
          },
          "metadata": {
            "tags": []
          },
          "execution_count": 357
        },
        {
          "output_type": "display_data",
          "data": {
            "image/png": "[encoded data removed]",
            "text/plain": [
              "<Figure size 432x288 with 1 Axes>"
            ]
          },
          "metadata": {
            "tags": []
          }
        }
      ]
    },
    {
      "cell_type": "code",
      "metadata": {
        "id": "oYFH1wu01a6N",
        "colab_type": "code",
        "colab": {
          "base_uri": "https://localhost:8080/",
          "height": 418
        },
        "outputId": "49acda4a-490c-48ad-da83-f4dc350a157d"
      },
      "source": [
        "from sklearn import model_selection\n",
        "from sklearn.ensemble import BaggingClassifier\n",
        "seed = 7\n",
        "kfold = model_selection.KFold(n_splits=10, random_state=seed)\n",
        "num_trees = 100\n",
        "model = BaggingClassifier(base_estimator=randomForest,\n",
        "n_estimators=num_trees, random_state=seed)\n",
        "results = model_selection.cross_val_score(model, data_clean.iloc[:,:-1].values,\n",
        "data_clean.iloc[:,-1].values, cv=kfold)\n",
        "print(results.mean())"
      ],
      "execution_count": 358,
      "outputs": [
        {
          "output_type": "stream",
          "text": [
            "/usr/local/lib/python3.6/dist-packages/sklearn/model_selection/_split.py:296: FutureWarning: Setting a random_state has no effect since shuffle is False. This will raise an error in 0.24. You should leave random_state to its default (None), or set shuffle=True.\n",
            "  FutureWarning\n"
          ],
          "name": "stderr"
        },
        {
          "output_type": "error",
          "ename": "KeyboardInterrupt",
          "evalue": "ignored",
          "traceback": [
            "\u001b[0;31m---------------------------------------------------------------------------\u001b[0m",
            "\u001b[0;31mKeyboardInterrupt\u001b[0m                         Traceback (most recent call last)",
            "\u001b[0;32m<ipython-input-358-8f7cb102ebad>\u001b[0m in \u001b[0;36m<module>\u001b[0;34m()\u001b[0m\n\u001b[1;32m      7\u001b[0m n_estimators=num_trees, random_state=seed)\n\u001b[1;32m      8\u001b[0m results = model_selection.cross_val_score(model, data_clean.iloc[:,:-1].values,\n\u001b[0;32m----> 9\u001b[0;31m data_clean.iloc[:,-1].values, cv=kfold)\n\u001b[0m\u001b[1;32m     10\u001b[0m \u001b[0mprint\u001b[0m\u001b[0;34m(\u001b[0m\u001b[0mresults\u001b[0m\u001b[0;34m.\u001b[0m\u001b[0mmean\u001b[0m\u001b[0;34m(\u001b[0m\u001b[0;34m)\u001b[0m\u001b[0;34m)\u001b[0m\u001b[0;34m\u001b[0m\u001b[0;34m\u001b[0m\u001b[0m\n",
            "\u001b[0;32m/usr/local/lib/python3.6/dist-packages/sklearn/model_selection/_validation.py\u001b[0m in \u001b[0;36mcross_val_score\u001b[0;34m(estimator, X, y, groups, scoring, cv, n_jobs, verbose, fit_params, pre_dispatch, error_score)\u001b[0m\n\u001b[1;32m    388\u001b[0m                                 \u001b[0mfit_params\u001b[0m\u001b[0;34m=\u001b[0m\u001b[0mfit_params\u001b[0m\u001b[0;34m,\u001b[0m\u001b[0;34m\u001b[0m\u001b[0;34m\u001b[0m\u001b[0m\n\u001b[1;32m    389\u001b[0m                                 \u001b[0mpre_dispatch\u001b[0m\u001b[0;34m=\u001b[0m\u001b[0mpre_dispatch\u001b[0m\u001b[0;34m,\u001b[0m\u001b[0;34m\u001b[0m\u001b[0;34m\u001b[0m\u001b[0m\n\u001b[0;32m--> 390\u001b[0;31m                                 error_score=error_score)\n\u001b[0m\u001b[1;32m    391\u001b[0m     \u001b[0;32mreturn\u001b[0m \u001b[0mcv_results\u001b[0m\u001b[0;34m[\u001b[0m\u001b[0;34m'test_score'\u001b[0m\u001b[0;34m]\u001b[0m\u001b[0;34m\u001b[0m\u001b[0;34m\u001b[0m\u001b[0m\n\u001b[1;32m    392\u001b[0m \u001b[0;34m\u001b[0m\u001b[0m\n",
            "\u001b[0;32m/usr/local/lib/python3.6/dist-packages/sklearn/model_selection/_validation.py\u001b[0m in \u001b[0;36mcross_validate\u001b[0;34m(estimator, X, y, groups, scoring, cv, n_jobs, verbose, fit_params, pre_dispatch, return_train_score, return_estimator, error_score)\u001b[0m\n\u001b[1;32m    234\u001b[0m             \u001b[0mreturn_times\u001b[0m\u001b[0;34m=\u001b[0m\u001b[0;32mTrue\u001b[0m\u001b[0;34m,\u001b[0m \u001b[0mreturn_estimator\u001b[0m\u001b[0;34m=\u001b[0m\u001b[0mreturn_estimator\u001b[0m\u001b[0;34m,\u001b[0m\u001b[0;34m\u001b[0m\u001b[0;34m\u001b[0m\u001b[0m\n\u001b[1;32m    235\u001b[0m             error_score=error_score)\n\u001b[0;32m--> 236\u001b[0;31m         for train, test in cv.split(X, y, groups))\n\u001b[0m\u001b[1;32m    237\u001b[0m \u001b[0;34m\u001b[0m\u001b[0m\n\u001b[1;32m    238\u001b[0m     \u001b[0mzipped_scores\u001b[0m \u001b[0;34m=\u001b[0m \u001b[0mlist\u001b[0m\u001b[0;34m(\u001b[0m\u001b[0mzip\u001b[0m\u001b[0;34m(\u001b[0m\u001b[0;34m*\u001b[0m\u001b[0mscores\u001b[0m\u001b[0;34m)\u001b[0m\u001b[0;34m)\u001b[0m\u001b[0;34m\u001b[0m\u001b[0;34m\u001b[0m\u001b[0m\n",
            "\u001b[0;32m/usr/local/lib/python3.6/dist-packages/joblib/parallel.py\u001b[0m in \u001b[0;36m__call__\u001b[0;34m(self, iterable)\u001b[0m\n\u001b[1;32m   1030\u001b[0m                 \u001b[0mself\u001b[0m\u001b[0;34m.\u001b[0m\u001b[0m_iterating\u001b[0m \u001b[0;34m=\u001b[0m \u001b[0mself\u001b[0m\u001b[0;34m.\u001b[0m\u001b[0m_original_iterator\u001b[0m \u001b[0;32mis\u001b[0m \u001b[0;32mnot\u001b[0m \u001b[0;32mNone\u001b[0m\u001b[0;34m\u001b[0m\u001b[0;34m\u001b[0m\u001b[0m\n\u001b[1;32m   1031\u001b[0m \u001b[0;34m\u001b[0m\u001b[0m\n\u001b[0;32m-> 1032\u001b[0;31m             \u001b[0;32mwhile\u001b[0m \u001b[0mself\u001b[0m\u001b[0;34m.\u001b[0m\u001b[0mdispatch_one_batch\u001b[0m\u001b[0;34m(\u001b[0m\u001b[0miterator\u001b[0m\u001b[0;34m)\u001b[0m\u001b[0;34m:\u001b[0m\u001b[0;34m\u001b[0m\u001b[0;34m\u001b[0m\u001b[0m\n\u001b[0m\u001b[1;32m   1033\u001b[0m                 \u001b[0;32mpass\u001b[0m\u001b[0;34m\u001b[0m\u001b[0;34m\u001b[0m\u001b[0m\n\u001b[1;32m   1034\u001b[0m \u001b[0;34m\u001b[0m\u001b[0m\n",
            "\u001b[0;32m/usr/local/lib/python3.6/dist-packages/joblib/parallel.py\u001b[0m in \u001b[0;36mdispatch_one_batch\u001b[0;34m(self, iterator)\u001b[0m\n\u001b[1;32m    845\u001b[0m                 \u001b[0;32mreturn\u001b[0m \u001b[0;32mFalse\u001b[0m\u001b[0;34m\u001b[0m\u001b[0;34m\u001b[0m\u001b[0m\n\u001b[1;32m    846\u001b[0m             \u001b[0;32melse\u001b[0m\u001b[0;34m:\u001b[0m\u001b[0;34m\u001b[0m\u001b[0;34m\u001b[0m\u001b[0m\n\u001b[0;32m--> 847\u001b[0;31m                 \u001b[0mself\u001b[0m\u001b[0;34m.\u001b[0m\u001b[0m_dispatch\u001b[0m\u001b[0;34m(\u001b[0m\u001b[0mtasks\u001b[0m\u001b[0;34m)\u001b[0m\u001b[0;34m\u001b[0m\u001b[0;34m\u001b[0m\u001b[0m\n\u001b[0m\u001b[1;32m    848\u001b[0m                 \u001b[0;32mreturn\u001b[0m \u001b[0;32mTrue\u001b[0m\u001b[0;34m\u001b[0m\u001b[0;34m\u001b[0m\u001b[0m\n\u001b[1;32m    849\u001b[0m \u001b[0;34m\u001b[0m\u001b[0m\n",
            "\u001b[0;32m/usr/local/lib/python3.6/dist-packages/joblib/parallel.py\u001b[0m in \u001b[0;36m_dispatch\u001b[0;34m(self, batch)\u001b[0m\n\u001b[1;32m    763\u001b[0m         \u001b[0;32mwith\u001b[0m \u001b[0mself\u001b[0m\u001b[0;34m.\u001b[0m\u001b[0m_lock\u001b[0m\u001b[0;34m:\u001b[0m\u001b[0;34m\u001b[0m\u001b[0;34m\u001b[0m\u001b[0m\n\u001b[1;32m    764\u001b[0m             \u001b[0mjob_idx\u001b[0m \u001b[0;34m=\u001b[0m \u001b[0mlen\u001b[0m\u001b[0;34m(\u001b[0m\u001b[0mself\u001b[0m\u001b[0;34m.\u001b[0m\u001b[0m_jobs\u001b[0m\u001b[0;34m)\u001b[0m\u001b[0;34m\u001b[0m\u001b[0;34m\u001b[0m\u001b[0m\n\u001b[0;32m--> 765\u001b[0;31m             \u001b[0mjob\u001b[0m \u001b[0;34m=\u001b[0m \u001b[0mself\u001b[0m\u001b[0;34m.\u001b[0m\u001b[0m_backend\u001b[0m\u001b[0;34m.\u001b[0m\u001b[0mapply_async\u001b[0m\u001b[0;34m(\u001b[0m\u001b[0mbatch\u001b[0m\u001b[0;34m,\u001b[0m \u001b[0mcallback\u001b[0m\u001b[0;34m=\u001b[0m\u001b[0mcb\u001b[0m\u001b[0;34m)\u001b[0m\u001b[0;34m\u001b[0m\u001b[0;34m\u001b[0m\u001b[0m\n\u001b[0m\u001b[1;32m    766\u001b[0m             \u001b[0;31m# A job can complete so quickly than its callback is\u001b[0m\u001b[0;34m\u001b[0m\u001b[0;34m\u001b[0m\u001b[0;34m\u001b[0m\u001b[0m\n\u001b[1;32m    767\u001b[0m             \u001b[0;31m# called before we get here, causing self._jobs to\u001b[0m\u001b[0;34m\u001b[0m\u001b[0;34m\u001b[0m\u001b[0;34m\u001b[0m\u001b[0m\n",
            "\u001b[0;32m/usr/local/lib/python3.6/dist-packages/joblib/_parallel_backends.py\u001b[0m in \u001b[0;36mapply_async\u001b[0;34m(self, func, callback)\u001b[0m\n\u001b[1;32m    204\u001b[0m     \u001b[0;32mdef\u001b[0m \u001b[0mapply_async\u001b[0m\u001b[0;34m(\u001b[0m\u001b[0mself\u001b[0m\u001b[0;34m,\u001b[0m \u001b[0mfunc\u001b[0m\u001b[0;34m,\u001b[0m \u001b[0mcallback\u001b[0m\u001b[0;34m=\u001b[0m\u001b[0;32mNone\u001b[0m\u001b[0;34m)\u001b[0m\u001b[0;34m:\u001b[0m\u001b[0;34m\u001b[0m\u001b[0;34m\u001b[0m\u001b[0m\n\u001b[1;32m    205\u001b[0m         \u001b[0;34m\"\"\"Schedule a func to be run\"\"\"\u001b[0m\u001b[0;34m\u001b[0m\u001b[0;34m\u001b[0m\u001b[0m\n\u001b[0;32m--> 206\u001b[0;31m         \u001b[0mresult\u001b[0m \u001b[0;34m=\u001b[0m \u001b[0mImmediateResult\u001b[0m\u001b[0;34m(\u001b[0m\u001b[0mfunc\u001b[0m\u001b[0;34m)\u001b[0m\u001b[0;34m\u001b[0m\u001b[0;34m\u001b[0m\u001b[0m\n\u001b[0m\u001b[1;32m    207\u001b[0m         \u001b[0;32mif\u001b[0m \u001b[0mcallback\u001b[0m\u001b[0;34m:\u001b[0m\u001b[0;34m\u001b[0m\u001b[0;34m\u001b[0m\u001b[0m\n\u001b[1;32m    208\u001b[0m             \u001b[0mcallback\u001b[0m\u001b[0;34m(\u001b[0m\u001b[0mresult\u001b[0m\u001b[0;34m)\u001b[0m\u001b[0;34m\u001b[0m\u001b[0;34m\u001b[0m\u001b[0m\n",
            "\u001b[0;32m/usr/local/lib/python3.6/dist-packages/joblib/_parallel_backends.py\u001b[0m in \u001b[0;36m__init__\u001b[0;34m(self, batch)\u001b[0m\n\u001b[1;32m    568\u001b[0m         \u001b[0;31m# Don't delay the application, to avoid keeping the input\u001b[0m\u001b[0;34m\u001b[0m\u001b[0;34m\u001b[0m\u001b[0;34m\u001b[0m\u001b[0m\n\u001b[1;32m    569\u001b[0m         \u001b[0;31m# arguments in memory\u001b[0m\u001b[0;34m\u001b[0m\u001b[0;34m\u001b[0m\u001b[0;34m\u001b[0m\u001b[0m\n\u001b[0;32m--> 570\u001b[0;31m         \u001b[0mself\u001b[0m\u001b[0;34m.\u001b[0m\u001b[0mresults\u001b[0m \u001b[0;34m=\u001b[0m \u001b[0mbatch\u001b[0m\u001b[0;34m(\u001b[0m\u001b[0;34m)\u001b[0m\u001b[0;34m\u001b[0m\u001b[0;34m\u001b[0m\u001b[0m\n\u001b[0m\u001b[1;32m    571\u001b[0m \u001b[0;34m\u001b[0m\u001b[0m\n\u001b[1;32m    572\u001b[0m     \u001b[0;32mdef\u001b[0m \u001b[0mget\u001b[0m\u001b[0;34m(\u001b[0m\u001b[0mself\u001b[0m\u001b[0;34m)\u001b[0m\u001b[0;34m:\u001b[0m\u001b[0;34m\u001b[0m\u001b[0;34m\u001b[0m\u001b[0m\n",
            "\u001b[0;32m/usr/local/lib/python3.6/dist-packages/joblib/parallel.py\u001b[0m in \u001b[0;36m__call__\u001b[0;34m(self)\u001b[0m\n\u001b[1;32m    251\u001b[0m         \u001b[0;32mwith\u001b[0m \u001b[0mparallel_backend\u001b[0m\u001b[0;34m(\u001b[0m\u001b[0mself\u001b[0m\u001b[0;34m.\u001b[0m\u001b[0m_backend\u001b[0m\u001b[0;34m,\u001b[0m \u001b[0mn_jobs\u001b[0m\u001b[0;34m=\u001b[0m\u001b[0mself\u001b[0m\u001b[0;34m.\u001b[0m\u001b[0m_n_jobs\u001b[0m\u001b[0;34m)\u001b[0m\u001b[0;34m:\u001b[0m\u001b[0;34m\u001b[0m\u001b[0;34m\u001b[0m\u001b[0m\n\u001b[1;32m    252\u001b[0m             return [func(*args, **kwargs)\n\u001b[0;32m--> 253\u001b[0;31m                     for func, args, kwargs in self.items]\n\u001b[0m\u001b[1;32m    254\u001b[0m \u001b[0;34m\u001b[0m\u001b[0m\n\u001b[1;32m    255\u001b[0m     \u001b[0;32mdef\u001b[0m \u001b[0m__reduce__\u001b[0m\u001b[0;34m(\u001b[0m\u001b[0mself\u001b[0m\u001b[0;34m)\u001b[0m\u001b[0;34m:\u001b[0m\u001b[0;34m\u001b[0m\u001b[0;34m\u001b[0m\u001b[0m\n",
            "\u001b[0;32m/usr/local/lib/python3.6/dist-packages/joblib/parallel.py\u001b[0m in \u001b[0;36m<listcomp>\u001b[0;34m(.0)\u001b[0m\n\u001b[1;32m    251\u001b[0m         \u001b[0;32mwith\u001b[0m \u001b[0mparallel_backend\u001b[0m\u001b[0;34m(\u001b[0m\u001b[0mself\u001b[0m\u001b[0;34m.\u001b[0m\u001b[0m_backend\u001b[0m\u001b[0;34m,\u001b[0m \u001b[0mn_jobs\u001b[0m\u001b[0;34m=\u001b[0m\u001b[0mself\u001b[0m\u001b[0;34m.\u001b[0m\u001b[0m_n_jobs\u001b[0m\u001b[0;34m)\u001b[0m\u001b[0;34m:\u001b[0m\u001b[0;34m\u001b[0m\u001b[0;34m\u001b[0m\u001b[0m\n\u001b[1;32m    252\u001b[0m             return [func(*args, **kwargs)\n\u001b[0;32m--> 253\u001b[0;31m                     for func, args, kwargs in self.items]\n\u001b[0m\u001b[1;32m    254\u001b[0m \u001b[0;34m\u001b[0m\u001b[0m\n\u001b[1;32m    255\u001b[0m     \u001b[0;32mdef\u001b[0m \u001b[0m__reduce__\u001b[0m\u001b[0;34m(\u001b[0m\u001b[0mself\u001b[0m\u001b[0;34m)\u001b[0m\u001b[0;34m:\u001b[0m\u001b[0;34m\u001b[0m\u001b[0;34m\u001b[0m\u001b[0m\n",
            "\u001b[0;32m/usr/local/lib/python3.6/dist-packages/sklearn/model_selection/_validation.py\u001b[0m in \u001b[0;36m_fit_and_score\u001b[0;34m(estimator, X, y, scorer, train, test, verbose, parameters, fit_params, return_train_score, return_parameters, return_n_test_samples, return_times, return_estimator, error_score)\u001b[0m\n\u001b[1;32m    513\u001b[0m             \u001b[0mestimator\u001b[0m\u001b[0;34m.\u001b[0m\u001b[0mfit\u001b[0m\u001b[0;34m(\u001b[0m\u001b[0mX_train\u001b[0m\u001b[0;34m,\u001b[0m \u001b[0;34m**\u001b[0m\u001b[0mfit_params\u001b[0m\u001b[0;34m)\u001b[0m\u001b[0;34m\u001b[0m\u001b[0;34m\u001b[0m\u001b[0m\n\u001b[1;32m    514\u001b[0m         \u001b[0;32melse\u001b[0m\u001b[0;34m:\u001b[0m\u001b[0;34m\u001b[0m\u001b[0;34m\u001b[0m\u001b[0m\n\u001b[0;32m--> 515\u001b[0;31m             \u001b[0mestimator\u001b[0m\u001b[0;34m.\u001b[0m\u001b[0mfit\u001b[0m\u001b[0;34m(\u001b[0m\u001b[0mX_train\u001b[0m\u001b[0;34m,\u001b[0m \u001b[0my_train\u001b[0m\u001b[0;34m,\u001b[0m \u001b[0;34m**\u001b[0m\u001b[0mfit_params\u001b[0m\u001b[0;34m)\u001b[0m\u001b[0;34m\u001b[0m\u001b[0;34m\u001b[0m\u001b[0m\n\u001b[0m\u001b[1;32m    516\u001b[0m \u001b[0;34m\u001b[0m\u001b[0m\n\u001b[1;32m    517\u001b[0m     \u001b[0;32mexcept\u001b[0m \u001b[0mException\u001b[0m \u001b[0;32mas\u001b[0m \u001b[0me\u001b[0m\u001b[0;34m:\u001b[0m\u001b[0;34m\u001b[0m\u001b[0;34m\u001b[0m\u001b[0m\n",
            "\u001b[0;32m/usr/local/lib/python3.6/dist-packages/sklearn/ensemble/_bagging.py\u001b[0m in \u001b[0;36mfit\u001b[0;34m(self, X, y, sample_weight)\u001b[0m\n\u001b[1;32m    241\u001b[0m         \u001b[0mself\u001b[0m \u001b[0;34m:\u001b[0m \u001b[0mobject\u001b[0m\u001b[0;34m\u001b[0m\u001b[0;34m\u001b[0m\u001b[0m\n\u001b[1;32m    242\u001b[0m         \"\"\"\n\u001b[0;32m--> 243\u001b[0;31m         \u001b[0;32mreturn\u001b[0m \u001b[0mself\u001b[0m\u001b[0;34m.\u001b[0m\u001b[0m_fit\u001b[0m\u001b[0;34m(\u001b[0m\u001b[0mX\u001b[0m\u001b[0;34m,\u001b[0m \u001b[0my\u001b[0m\u001b[0;34m,\u001b[0m \u001b[0mself\u001b[0m\u001b[0;34m.\u001b[0m\u001b[0mmax_samples\u001b[0m\u001b[0;34m,\u001b[0m \u001b[0msample_weight\u001b[0m\u001b[0;34m=\u001b[0m\u001b[0msample_weight\u001b[0m\u001b[0;34m)\u001b[0m\u001b[0;34m\u001b[0m\u001b[0;34m\u001b[0m\u001b[0m\n\u001b[0m\u001b[1;32m    244\u001b[0m \u001b[0;34m\u001b[0m\u001b[0m\n\u001b[1;32m    245\u001b[0m     \u001b[0;32mdef\u001b[0m \u001b[0m_parallel_args\u001b[0m\u001b[0;34m(\u001b[0m\u001b[0mself\u001b[0m\u001b[0;34m)\u001b[0m\u001b[0;34m:\u001b[0m\u001b[0;34m\u001b[0m\u001b[0;34m\u001b[0m\u001b[0m\n",
            "\u001b[0;32m/usr/local/lib/python3.6/dist-packages/sklearn/ensemble/_bagging.py\u001b[0m in \u001b[0;36m_fit\u001b[0;34m(self, X, y, max_samples, max_depth, sample_weight)\u001b[0m\n\u001b[1;32m    378\u001b[0m                 \u001b[0mtotal_n_estimators\u001b[0m\u001b[0;34m,\u001b[0m\u001b[0;34m\u001b[0m\u001b[0;34m\u001b[0m\u001b[0m\n\u001b[1;32m    379\u001b[0m                 verbose=self.verbose)\n\u001b[0;32m--> 380\u001b[0;31m             for i in range(n_jobs))\n\u001b[0m\u001b[1;32m    381\u001b[0m \u001b[0;34m\u001b[0m\u001b[0m\n\u001b[1;32m    382\u001b[0m         \u001b[0;31m# Reduce\u001b[0m\u001b[0;34m\u001b[0m\u001b[0;34m\u001b[0m\u001b[0;34m\u001b[0m\u001b[0m\n",
            "\u001b[0;32m/usr/local/lib/python3.6/dist-packages/joblib/parallel.py\u001b[0m in \u001b[0;36m__call__\u001b[0;34m(self, iterable)\u001b[0m\n\u001b[1;32m   1027\u001b[0m             \u001b[0;31m# remaining jobs.\u001b[0m\u001b[0;34m\u001b[0m\u001b[0;34m\u001b[0m\u001b[0;34m\u001b[0m\u001b[0m\n\u001b[1;32m   1028\u001b[0m             \u001b[0mself\u001b[0m\u001b[0;34m.\u001b[0m\u001b[0m_iterating\u001b[0m \u001b[0;34m=\u001b[0m \u001b[0;32mFalse\u001b[0m\u001b[0;34m\u001b[0m\u001b[0;34m\u001b[0m\u001b[0m\n\u001b[0;32m-> 1029\u001b[0;31m             \u001b[0;32mif\u001b[0m \u001b[0mself\u001b[0m\u001b[0;34m.\u001b[0m\u001b[0mdispatch_one_batch\u001b[0m\u001b[0;34m(\u001b[0m\u001b[0miterator\u001b[0m\u001b[0;34m)\u001b[0m\u001b[0;34m:\u001b[0m\u001b[0;34m\u001b[0m\u001b[0;34m\u001b[0m\u001b[0m\n\u001b[0m\u001b[1;32m   1030\u001b[0m                 \u001b[0mself\u001b[0m\u001b[0;34m.\u001b[0m\u001b[0m_iterating\u001b[0m \u001b[0;34m=\u001b[0m \u001b[0mself\u001b[0m\u001b[0;34m.\u001b[0m\u001b[0m_original_iterator\u001b[0m \u001b[0;32mis\u001b[0m \u001b[0;32mnot\u001b[0m \u001b[0;32mNone\u001b[0m\u001b[0;34m\u001b[0m\u001b[0;34m\u001b[0m\u001b[0m\n\u001b[1;32m   1031\u001b[0m \u001b[0;34m\u001b[0m\u001b[0m\n",
            "\u001b[0;32m/usr/local/lib/python3.6/dist-packages/joblib/parallel.py\u001b[0m in \u001b[0;36mdispatch_one_batch\u001b[0;34m(self, iterator)\u001b[0m\n\u001b[1;32m    845\u001b[0m                 \u001b[0;32mreturn\u001b[0m \u001b[0;32mFalse\u001b[0m\u001b[0;34m\u001b[0m\u001b[0;34m\u001b[0m\u001b[0m\n\u001b[1;32m    846\u001b[0m             \u001b[0;32melse\u001b[0m\u001b[0;34m:\u001b[0m\u001b[0;34m\u001b[0m\u001b[0;34m\u001b[0m\u001b[0m\n\u001b[0;32m--> 847\u001b[0;31m                 \u001b[0mself\u001b[0m\u001b[0;34m.\u001b[0m\u001b[0m_dispatch\u001b[0m\u001b[0;34m(\u001b[0m\u001b[0mtasks\u001b[0m\u001b[0;34m)\u001b[0m\u001b[0;34m\u001b[0m\u001b[0;34m\u001b[0m\u001b[0m\n\u001b[0m\u001b[1;32m    848\u001b[0m                 \u001b[0;32mreturn\u001b[0m \u001b[0;32mTrue\u001b[0m\u001b[0;34m\u001b[0m\u001b[0;34m\u001b[0m\u001b[0m\n\u001b[1;32m    849\u001b[0m \u001b[0;34m\u001b[0m\u001b[0m\n",
            "\u001b[0;32m/usr/local/lib/python3.6/dist-packages/joblib/parallel.py\u001b[0m in \u001b[0;36m_dispatch\u001b[0;34m(self, batch)\u001b[0m\n\u001b[1;32m    763\u001b[0m         \u001b[0;32mwith\u001b[0m \u001b[0mself\u001b[0m\u001b[0;34m.\u001b[0m\u001b[0m_lock\u001b[0m\u001b[0;34m:\u001b[0m\u001b[0;34m\u001b[0m\u001b[0;34m\u001b[0m\u001b[0m\n\u001b[1;32m    764\u001b[0m             \u001b[0mjob_idx\u001b[0m \u001b[0;34m=\u001b[0m \u001b[0mlen\u001b[0m\u001b[0;34m(\u001b[0m\u001b[0mself\u001b[0m\u001b[0;34m.\u001b[0m\u001b[0m_jobs\u001b[0m\u001b[0;34m)\u001b[0m\u001b[0;34m\u001b[0m\u001b[0;34m\u001b[0m\u001b[0m\n\u001b[0;32m--> 765\u001b[0;31m             \u001b[0mjob\u001b[0m \u001b[0;34m=\u001b[0m \u001b[0mself\u001b[0m\u001b[0;34m.\u001b[0m\u001b[0m_backend\u001b[0m\u001b[0;34m.\u001b[0m\u001b[0mapply_async\u001b[0m\u001b[0;34m(\u001b[0m\u001b[0mbatch\u001b[0m\u001b[0;34m,\u001b[0m \u001b[0mcallback\u001b[0m\u001b[0;34m=\u001b[0m\u001b[0mcb\u001b[0m\u001b[0;34m)\u001b[0m\u001b[0;34m\u001b[0m\u001b[0;34m\u001b[0m\u001b[0m\n\u001b[0m\u001b[1;32m    766\u001b[0m             \u001b[0;31m# A job can complete so quickly than its callback is\u001b[0m\u001b[0;34m\u001b[0m\u001b[0;34m\u001b[0m\u001b[0;34m\u001b[0m\u001b[0m\n\u001b[1;32m    767\u001b[0m             \u001b[0;31m# called before we get here, causing self._jobs to\u001b[0m\u001b[0;34m\u001b[0m\u001b[0;34m\u001b[0m\u001b[0;34m\u001b[0m\u001b[0m\n",
            "\u001b[0;32m/usr/local/lib/python3.6/dist-packages/joblib/_parallel_backends.py\u001b[0m in \u001b[0;36mapply_async\u001b[0;34m(self, func, callback)\u001b[0m\n\u001b[1;32m    204\u001b[0m     \u001b[0;32mdef\u001b[0m \u001b[0mapply_async\u001b[0m\u001b[0;34m(\u001b[0m\u001b[0mself\u001b[0m\u001b[0;34m,\u001b[0m \u001b[0mfunc\u001b[0m\u001b[0;34m,\u001b[0m \u001b[0mcallback\u001b[0m\u001b[0;34m=\u001b[0m\u001b[0;32mNone\u001b[0m\u001b[0;34m)\u001b[0m\u001b[0;34m:\u001b[0m\u001b[0;34m\u001b[0m\u001b[0;34m\u001b[0m\u001b[0m\n\u001b[1;32m    205\u001b[0m         \u001b[0;34m\"\"\"Schedule a func to be run\"\"\"\u001b[0m\u001b[0;34m\u001b[0m\u001b[0;34m\u001b[0m\u001b[0m\n\u001b[0;32m--> 206\u001b[0;31m         \u001b[0mresult\u001b[0m \u001b[0;34m=\u001b[0m \u001b[0mImmediateResult\u001b[0m\u001b[0;34m(\u001b[0m\u001b[0mfunc\u001b[0m\u001b[0;34m)\u001b[0m\u001b[0;34m\u001b[0m\u001b[0;34m\u001b[0m\u001b[0m\n\u001b[0m\u001b[1;32m    207\u001b[0m         \u001b[0;32mif\u001b[0m \u001b[0mcallback\u001b[0m\u001b[0;34m:\u001b[0m\u001b[0;34m\u001b[0m\u001b[0;34m\u001b[0m\u001b[0m\n\u001b[1;32m    208\u001b[0m             \u001b[0mcallback\u001b[0m\u001b[0;34m(\u001b[0m\u001b[0mresult\u001b[0m\u001b[0;34m)\u001b[0m\u001b[0;34m\u001b[0m\u001b[0;34m\u001b[0m\u001b[0m\n",
            "\u001b[0;32m/usr/local/lib/python3.6/dist-packages/joblib/_parallel_backends.py\u001b[0m in \u001b[0;36m__init__\u001b[0;34m(self, batch)\u001b[0m\n\u001b[1;32m    568\u001b[0m         \u001b[0;31m# Don't delay the application, to avoid keeping the input\u001b[0m\u001b[0;34m\u001b[0m\u001b[0;34m\u001b[0m\u001b[0;34m\u001b[0m\u001b[0m\n\u001b[1;32m    569\u001b[0m         \u001b[0;31m# arguments in memory\u001b[0m\u001b[0;34m\u001b[0m\u001b[0;34m\u001b[0m\u001b[0;34m\u001b[0m\u001b[0m\n\u001b[0;32m--> 570\u001b[0;31m         \u001b[0mself\u001b[0m\u001b[0;34m.\u001b[0m\u001b[0mresults\u001b[0m \u001b[0;34m=\u001b[0m \u001b[0mbatch\u001b[0m\u001b[0;34m(\u001b[0m\u001b[0;34m)\u001b[0m\u001b[0;34m\u001b[0m\u001b[0;34m\u001b[0m\u001b[0m\n\u001b[0m\u001b[1;32m    571\u001b[0m \u001b[0;34m\u001b[0m\u001b[0m\n\u001b[1;32m    572\u001b[0m     \u001b[0;32mdef\u001b[0m \u001b[0mget\u001b[0m\u001b[0;34m(\u001b[0m\u001b[0mself\u001b[0m\u001b[0;34m)\u001b[0m\u001b[0;34m:\u001b[0m\u001b[0;34m\u001b[0m\u001b[0;34m\u001b[0m\u001b[0m\n",
            "\u001b[0;32m/usr/local/lib/python3.6/dist-packages/joblib/parallel.py\u001b[0m in \u001b[0;36m__call__\u001b[0;34m(self)\u001b[0m\n\u001b[1;32m    251\u001b[0m         \u001b[0;32mwith\u001b[0m \u001b[0mparallel_backend\u001b[0m\u001b[0;34m(\u001b[0m\u001b[0mself\u001b[0m\u001b[0;34m.\u001b[0m\u001b[0m_backend\u001b[0m\u001b[0;34m,\u001b[0m \u001b[0mn_jobs\u001b[0m\u001b[0;34m=\u001b[0m\u001b[0mself\u001b[0m\u001b[0;34m.\u001b[0m\u001b[0m_n_jobs\u001b[0m\u001b[0;34m)\u001b[0m\u001b[0;34m:\u001b[0m\u001b[0;34m\u001b[0m\u001b[0;34m\u001b[0m\u001b[0m\n\u001b[1;32m    252\u001b[0m             return [func(*args, **kwargs)\n\u001b[0;32m--> 253\u001b[0;31m                     for func, args, kwargs in self.items]\n\u001b[0m\u001b[1;32m    254\u001b[0m \u001b[0;34m\u001b[0m\u001b[0m\n\u001b[1;32m    255\u001b[0m     \u001b[0;32mdef\u001b[0m \u001b[0m__reduce__\u001b[0m\u001b[0;34m(\u001b[0m\u001b[0mself\u001b[0m\u001b[0;34m)\u001b[0m\u001b[0;34m:\u001b[0m\u001b[0;34m\u001b[0m\u001b[0;34m\u001b[0m\u001b[0m\n",
            "\u001b[0;32m/usr/local/lib/python3.6/dist-packages/joblib/parallel.py\u001b[0m in \u001b[0;36m<listcomp>\u001b[0;34m(.0)\u001b[0m\n\u001b[1;32m    251\u001b[0m         \u001b[0;32mwith\u001b[0m \u001b[0mparallel_backend\u001b[0m\u001b[0;34m(\u001b[0m\u001b[0mself\u001b[0m\u001b[0;34m.\u001b[0m\u001b[0m_backend\u001b[0m\u001b[0;34m,\u001b[0m \u001b[0mn_jobs\u001b[0m\u001b[0;34m=\u001b[0m\u001b[0mself\u001b[0m\u001b[0;34m.\u001b[0m\u001b[0m_n_jobs\u001b[0m\u001b[0;34m)\u001b[0m\u001b[0;34m:\u001b[0m\u001b[0;34m\u001b[0m\u001b[0;34m\u001b[0m\u001b[0m\n\u001b[1;32m    252\u001b[0m             return [func(*args, **kwargs)\n\u001b[0;32m--> 253\u001b[0;31m                     for func, args, kwargs in self.items]\n\u001b[0m\u001b[1;32m    254\u001b[0m \u001b[0;34m\u001b[0m\u001b[0m\n\u001b[1;32m    255\u001b[0m     \u001b[0;32mdef\u001b[0m \u001b[0m__reduce__\u001b[0m\u001b[0;34m(\u001b[0m\u001b[0mself\u001b[0m\u001b[0;34m)\u001b[0m\u001b[0;34m:\u001b[0m\u001b[0;34m\u001b[0m\u001b[0;34m\u001b[0m\u001b[0m\n",
            "\u001b[0;32m/usr/local/lib/python3.6/dist-packages/sklearn/ensemble/_bagging.py\u001b[0m in \u001b[0;36m_parallel_build_estimators\u001b[0;34m(n_estimators, ensemble, X, y, sample_weight, seeds, total_n_estimators, verbose)\u001b[0m\n\u001b[1;32m    108\u001b[0m                 \u001b[0mcurr_sample_weight\u001b[0m\u001b[0;34m[\u001b[0m\u001b[0mnot_indices_mask\u001b[0m\u001b[0;34m]\u001b[0m \u001b[0;34m=\u001b[0m \u001b[0;36m0\u001b[0m\u001b[0;34m\u001b[0m\u001b[0;34m\u001b[0m\u001b[0m\n\u001b[1;32m    109\u001b[0m \u001b[0;34m\u001b[0m\u001b[0m\n\u001b[0;32m--> 110\u001b[0;31m             \u001b[0mestimator\u001b[0m\u001b[0;34m.\u001b[0m\u001b[0mfit\u001b[0m\u001b[0;34m(\u001b[0m\u001b[0mX\u001b[0m\u001b[0;34m[\u001b[0m\u001b[0;34m:\u001b[0m\u001b[0;34m,\u001b[0m \u001b[0mfeatures\u001b[0m\u001b[0;34m]\u001b[0m\u001b[0;34m,\u001b[0m \u001b[0my\u001b[0m\u001b[0;34m,\u001b[0m \u001b[0msample_weight\u001b[0m\u001b[0;34m=\u001b[0m\u001b[0mcurr_sample_weight\u001b[0m\u001b[0;34m)\u001b[0m\u001b[0;34m\u001b[0m\u001b[0;34m\u001b[0m\u001b[0m\n\u001b[0m\u001b[1;32m    111\u001b[0m \u001b[0;34m\u001b[0m\u001b[0m\n\u001b[1;32m    112\u001b[0m         \u001b[0;32melse\u001b[0m\u001b[0;34m:\u001b[0m\u001b[0;34m\u001b[0m\u001b[0;34m\u001b[0m\u001b[0m\n",
            "\u001b[0;32m/usr/local/lib/python3.6/dist-packages/sklearn/ensemble/_forest.py\u001b[0m in \u001b[0;36mfit\u001b[0;34m(self, X, y, sample_weight)\u001b[0m\n\u001b[1;32m    381\u001b[0m                     \u001b[0mverbose\u001b[0m\u001b[0;34m=\u001b[0m\u001b[0mself\u001b[0m\u001b[0;34m.\u001b[0m\u001b[0mverbose\u001b[0m\u001b[0;34m,\u001b[0m \u001b[0mclass_weight\u001b[0m\u001b[0;34m=\u001b[0m\u001b[0mself\u001b[0m\u001b[0;34m.\u001b[0m\u001b[0mclass_weight\u001b[0m\u001b[0;34m,\u001b[0m\u001b[0;34m\u001b[0m\u001b[0;34m\u001b[0m\u001b[0m\n\u001b[1;32m    382\u001b[0m                     n_samples_bootstrap=n_samples_bootstrap)\n\u001b[0;32m--> 383\u001b[0;31m                 for i, t in enumerate(trees))\n\u001b[0m\u001b[1;32m    384\u001b[0m \u001b[0;34m\u001b[0m\u001b[0m\n\u001b[1;32m    385\u001b[0m             \u001b[0;31m# Collect newly grown trees\u001b[0m\u001b[0;34m\u001b[0m\u001b[0;34m\u001b[0m\u001b[0;34m\u001b[0m\u001b[0m\n",
            "\u001b[0;32m/usr/local/lib/python3.6/dist-packages/joblib/parallel.py\u001b[0m in \u001b[0;36m__call__\u001b[0;34m(self, iterable)\u001b[0m\n\u001b[1;32m   1030\u001b[0m                 \u001b[0mself\u001b[0m\u001b[0;34m.\u001b[0m\u001b[0m_iterating\u001b[0m \u001b[0;34m=\u001b[0m \u001b[0mself\u001b[0m\u001b[0;34m.\u001b[0m\u001b[0m_original_iterator\u001b[0m \u001b[0;32mis\u001b[0m \u001b[0;32mnot\u001b[0m \u001b[0;32mNone\u001b[0m\u001b[0;34m\u001b[0m\u001b[0;34m\u001b[0m\u001b[0m\n\u001b[1;32m   1031\u001b[0m \u001b[0;34m\u001b[0m\u001b[0m\n\u001b[0;32m-> 1032\u001b[0;31m             \u001b[0;32mwhile\u001b[0m \u001b[0mself\u001b[0m\u001b[0;34m.\u001b[0m\u001b[0mdispatch_one_batch\u001b[0m\u001b[0;34m(\u001b[0m\u001b[0miterator\u001b[0m\u001b[0;34m)\u001b[0m\u001b[0;34m:\u001b[0m\u001b[0;34m\u001b[0m\u001b[0;34m\u001b[0m\u001b[0m\n\u001b[0m\u001b[1;32m   1033\u001b[0m                 \u001b[0;32mpass\u001b[0m\u001b[0;34m\u001b[0m\u001b[0;34m\u001b[0m\u001b[0m\n\u001b[1;32m   1034\u001b[0m \u001b[0;34m\u001b[0m\u001b[0m\n",
            "\u001b[0;32m/usr/local/lib/python3.6/dist-packages/joblib/parallel.py\u001b[0m in \u001b[0;36mdispatch_one_batch\u001b[0;34m(self, iterator)\u001b[0m\n\u001b[1;32m    845\u001b[0m                 \u001b[0;32mreturn\u001b[0m \u001b[0;32mFalse\u001b[0m\u001b[0;34m\u001b[0m\u001b[0;34m\u001b[0m\u001b[0m\n\u001b[1;32m    846\u001b[0m             \u001b[0;32melse\u001b[0m\u001b[0;34m:\u001b[0m\u001b[0;34m\u001b[0m\u001b[0;34m\u001b[0m\u001b[0m\n\u001b[0;32m--> 847\u001b[0;31m                 \u001b[0mself\u001b[0m\u001b[0;34m.\u001b[0m\u001b[0m_dispatch\u001b[0m\u001b[0;34m(\u001b[0m\u001b[0mtasks\u001b[0m\u001b[0;34m)\u001b[0m\u001b[0;34m\u001b[0m\u001b[0;34m\u001b[0m\u001b[0m\n\u001b[0m\u001b[1;32m    848\u001b[0m                 \u001b[0;32mreturn\u001b[0m \u001b[0;32mTrue\u001b[0m\u001b[0;34m\u001b[0m\u001b[0;34m\u001b[0m\u001b[0m\n\u001b[1;32m    849\u001b[0m \u001b[0;34m\u001b[0m\u001b[0m\n",
            "\u001b[0;32m/usr/local/lib/python3.6/dist-packages/joblib/parallel.py\u001b[0m in \u001b[0;36m_dispatch\u001b[0;34m(self, batch)\u001b[0m\n\u001b[1;32m    763\u001b[0m         \u001b[0;32mwith\u001b[0m \u001b[0mself\u001b[0m\u001b[0;34m.\u001b[0m\u001b[0m_lock\u001b[0m\u001b[0;34m:\u001b[0m\u001b[0;34m\u001b[0m\u001b[0;34m\u001b[0m\u001b[0m\n\u001b[1;32m    764\u001b[0m             \u001b[0mjob_idx\u001b[0m \u001b[0;34m=\u001b[0m \u001b[0mlen\u001b[0m\u001b[0;34m(\u001b[0m\u001b[0mself\u001b[0m\u001b[0;34m.\u001b[0m\u001b[0m_jobs\u001b[0m\u001b[0;34m)\u001b[0m\u001b[0;34m\u001b[0m\u001b[0;34m\u001b[0m\u001b[0m\n\u001b[0;32m--> 765\u001b[0;31m             \u001b[0mjob\u001b[0m \u001b[0;34m=\u001b[0m \u001b[0mself\u001b[0m\u001b[0;34m.\u001b[0m\u001b[0m_backend\u001b[0m\u001b[0;34m.\u001b[0m\u001b[0mapply_async\u001b[0m\u001b[0;34m(\u001b[0m\u001b[0mbatch\u001b[0m\u001b[0;34m,\u001b[0m \u001b[0mcallback\u001b[0m\u001b[0;34m=\u001b[0m\u001b[0mcb\u001b[0m\u001b[0;34m)\u001b[0m\u001b[0;34m\u001b[0m\u001b[0;34m\u001b[0m\u001b[0m\n\u001b[0m\u001b[1;32m    766\u001b[0m             \u001b[0;31m# A job can complete so quickly than its callback is\u001b[0m\u001b[0;34m\u001b[0m\u001b[0;34m\u001b[0m\u001b[0;34m\u001b[0m\u001b[0m\n\u001b[1;32m    767\u001b[0m             \u001b[0;31m# called before we get here, causing self._jobs to\u001b[0m\u001b[0;34m\u001b[0m\u001b[0;34m\u001b[0m\u001b[0;34m\u001b[0m\u001b[0m\n",
            "\u001b[0;32m/usr/local/lib/python3.6/dist-packages/joblib/_parallel_backends.py\u001b[0m in \u001b[0;36mapply_async\u001b[0;34m(self, func, callback)\u001b[0m\n\u001b[1;32m    204\u001b[0m     \u001b[0;32mdef\u001b[0m \u001b[0mapply_async\u001b[0m\u001b[0;34m(\u001b[0m\u001b[0mself\u001b[0m\u001b[0;34m,\u001b[0m \u001b[0mfunc\u001b[0m\u001b[0;34m,\u001b[0m \u001b[0mcallback\u001b[0m\u001b[0;34m=\u001b[0m\u001b[0;32mNone\u001b[0m\u001b[0;34m)\u001b[0m\u001b[0;34m:\u001b[0m\u001b[0;34m\u001b[0m\u001b[0;34m\u001b[0m\u001b[0m\n\u001b[1;32m    205\u001b[0m         \u001b[0;34m\"\"\"Schedule a func to be run\"\"\"\u001b[0m\u001b[0;34m\u001b[0m\u001b[0;34m\u001b[0m\u001b[0m\n\u001b[0;32m--> 206\u001b[0;31m         \u001b[0mresult\u001b[0m \u001b[0;34m=\u001b[0m \u001b[0mImmediateResult\u001b[0m\u001b[0;34m(\u001b[0m\u001b[0mfunc\u001b[0m\u001b[0;34m)\u001b[0m\u001b[0;34m\u001b[0m\u001b[0;34m\u001b[0m\u001b[0m\n\u001b[0m\u001b[1;32m    207\u001b[0m         \u001b[0;32mif\u001b[0m \u001b[0mcallback\u001b[0m\u001b[0;34m:\u001b[0m\u001b[0;34m\u001b[0m\u001b[0;34m\u001b[0m\u001b[0m\n\u001b[1;32m    208\u001b[0m             \u001b[0mcallback\u001b[0m\u001b[0;34m(\u001b[0m\u001b[0mresult\u001b[0m\u001b[0;34m)\u001b[0m\u001b[0;34m\u001b[0m\u001b[0;34m\u001b[0m\u001b[0m\n",
            "\u001b[0;32m/usr/local/lib/python3.6/dist-packages/joblib/_parallel_backends.py\u001b[0m in \u001b[0;36m__init__\u001b[0;34m(self, batch)\u001b[0m\n\u001b[1;32m    568\u001b[0m         \u001b[0;31m# Don't delay the application, to avoid keeping the input\u001b[0m\u001b[0;34m\u001b[0m\u001b[0;34m\u001b[0m\u001b[0;34m\u001b[0m\u001b[0m\n\u001b[1;32m    569\u001b[0m         \u001b[0;31m# arguments in memory\u001b[0m\u001b[0;34m\u001b[0m\u001b[0;34m\u001b[0m\u001b[0;34m\u001b[0m\u001b[0m\n\u001b[0;32m--> 570\u001b[0;31m         \u001b[0mself\u001b[0m\u001b[0;34m.\u001b[0m\u001b[0mresults\u001b[0m \u001b[0;34m=\u001b[0m \u001b[0mbatch\u001b[0m\u001b[0;34m(\u001b[0m\u001b[0;34m)\u001b[0m\u001b[0;34m\u001b[0m\u001b[0;34m\u001b[0m\u001b[0m\n\u001b[0m\u001b[1;32m    571\u001b[0m \u001b[0;34m\u001b[0m\u001b[0m\n\u001b[1;32m    572\u001b[0m     \u001b[0;32mdef\u001b[0m \u001b[0mget\u001b[0m\u001b[0;34m(\u001b[0m\u001b[0mself\u001b[0m\u001b[0;34m)\u001b[0m\u001b[0;34m:\u001b[0m\u001b[0;34m\u001b[0m\u001b[0;34m\u001b[0m\u001b[0m\n",
            "\u001b[0;32m/usr/local/lib/python3.6/dist-packages/joblib/parallel.py\u001b[0m in \u001b[0;36m__call__\u001b[0;34m(self)\u001b[0m\n\u001b[1;32m    251\u001b[0m         \u001b[0;32mwith\u001b[0m \u001b[0mparallel_backend\u001b[0m\u001b[0;34m(\u001b[0m\u001b[0mself\u001b[0m\u001b[0;34m.\u001b[0m\u001b[0m_backend\u001b[0m\u001b[0;34m,\u001b[0m \u001b[0mn_jobs\u001b[0m\u001b[0;34m=\u001b[0m\u001b[0mself\u001b[0m\u001b[0;34m.\u001b[0m\u001b[0m_n_jobs\u001b[0m\u001b[0;34m)\u001b[0m\u001b[0;34m:\u001b[0m\u001b[0;34m\u001b[0m\u001b[0;34m\u001b[0m\u001b[0m\n\u001b[1;32m    252\u001b[0m             return [func(*args, **kwargs)\n\u001b[0;32m--> 253\u001b[0;31m                     for func, args, kwargs in self.items]\n\u001b[0m\u001b[1;32m    254\u001b[0m \u001b[0;34m\u001b[0m\u001b[0m\n\u001b[1;32m    255\u001b[0m     \u001b[0;32mdef\u001b[0m \u001b[0m__reduce__\u001b[0m\u001b[0;34m(\u001b[0m\u001b[0mself\u001b[0m\u001b[0;34m)\u001b[0m\u001b[0;34m:\u001b[0m\u001b[0;34m\u001b[0m\u001b[0;34m\u001b[0m\u001b[0m\n",
            "\u001b[0;32m/usr/local/lib/python3.6/dist-packages/joblib/parallel.py\u001b[0m in \u001b[0;36m<listcomp>\u001b[0;34m(.0)\u001b[0m\n\u001b[1;32m    251\u001b[0m         \u001b[0;32mwith\u001b[0m \u001b[0mparallel_backend\u001b[0m\u001b[0;34m(\u001b[0m\u001b[0mself\u001b[0m\u001b[0;34m.\u001b[0m\u001b[0m_backend\u001b[0m\u001b[0;34m,\u001b[0m \u001b[0mn_jobs\u001b[0m\u001b[0;34m=\u001b[0m\u001b[0mself\u001b[0m\u001b[0;34m.\u001b[0m\u001b[0m_n_jobs\u001b[0m\u001b[0;34m)\u001b[0m\u001b[0;34m:\u001b[0m\u001b[0;34m\u001b[0m\u001b[0;34m\u001b[0m\u001b[0m\n\u001b[1;32m    252\u001b[0m             return [func(*args, **kwargs)\n\u001b[0;32m--> 253\u001b[0;31m                     for func, args, kwargs in self.items]\n\u001b[0m\u001b[1;32m    254\u001b[0m \u001b[0;34m\u001b[0m\u001b[0m\n\u001b[1;32m    255\u001b[0m     \u001b[0;32mdef\u001b[0m \u001b[0m__reduce__\u001b[0m\u001b[0;34m(\u001b[0m\u001b[0mself\u001b[0m\u001b[0;34m)\u001b[0m\u001b[0;34m:\u001b[0m\u001b[0;34m\u001b[0m\u001b[0;34m\u001b[0m\u001b[0m\n",
            "\u001b[0;32m/usr/local/lib/python3.6/dist-packages/sklearn/ensemble/_forest.py\u001b[0m in \u001b[0;36m_parallel_build_trees\u001b[0;34m(tree, forest, X, y, sample_weight, tree_idx, n_trees, verbose, class_weight, n_samples_bootstrap)\u001b[0m\n\u001b[1;32m    152\u001b[0m \u001b[0;34m\u001b[0m\u001b[0m\n\u001b[1;32m    153\u001b[0m         indices = _generate_sample_indices(tree.random_state, n_samples,\n\u001b[0;32m--> 154\u001b[0;31m                                            n_samples_bootstrap)\n\u001b[0m\u001b[1;32m    155\u001b[0m         \u001b[0msample_counts\u001b[0m \u001b[0;34m=\u001b[0m \u001b[0mnp\u001b[0m\u001b[0;34m.\u001b[0m\u001b[0mbincount\u001b[0m\u001b[0;34m(\u001b[0m\u001b[0mindices\u001b[0m\u001b[0;34m,\u001b[0m \u001b[0mminlength\u001b[0m\u001b[0;34m=\u001b[0m\u001b[0mn_samples\u001b[0m\u001b[0;34m)\u001b[0m\u001b[0;34m\u001b[0m\u001b[0;34m\u001b[0m\u001b[0m\n\u001b[1;32m    156\u001b[0m         \u001b[0mcurr_sample_weight\u001b[0m \u001b[0;34m*=\u001b[0m \u001b[0msample_counts\u001b[0m\u001b[0;34m\u001b[0m\u001b[0;34m\u001b[0m\u001b[0m\n",
            "\u001b[0;32m/usr/local/lib/python3.6/dist-packages/sklearn/ensemble/_forest.py\u001b[0m in \u001b[0;36m_generate_sample_indices\u001b[0;34m(random_state, n_samples, n_samples_bootstrap)\u001b[0m\n\u001b[1;32m    117\u001b[0m     Private function used to _parallel_build_trees function.\"\"\"\n\u001b[1;32m    118\u001b[0m \u001b[0;34m\u001b[0m\u001b[0m\n\u001b[0;32m--> 119\u001b[0;31m     \u001b[0mrandom_instance\u001b[0m \u001b[0;34m=\u001b[0m \u001b[0mcheck_random_state\u001b[0m\u001b[0;34m(\u001b[0m\u001b[0mrandom_state\u001b[0m\u001b[0;34m)\u001b[0m\u001b[0;34m\u001b[0m\u001b[0;34m\u001b[0m\u001b[0m\n\u001b[0m\u001b[1;32m    120\u001b[0m     \u001b[0msample_indices\u001b[0m \u001b[0;34m=\u001b[0m \u001b[0mrandom_instance\u001b[0m\u001b[0;34m.\u001b[0m\u001b[0mrandint\u001b[0m\u001b[0;34m(\u001b[0m\u001b[0;36m0\u001b[0m\u001b[0;34m,\u001b[0m \u001b[0mn_samples\u001b[0m\u001b[0;34m,\u001b[0m \u001b[0mn_samples_bootstrap\u001b[0m\u001b[0;34m)\u001b[0m\u001b[0;34m\u001b[0m\u001b[0;34m\u001b[0m\u001b[0m\n\u001b[1;32m    121\u001b[0m \u001b[0;34m\u001b[0m\u001b[0m\n",
            "\u001b[0;32m/usr/local/lib/python3.6/dist-packages/sklearn/utils/validation.py\u001b[0m in \u001b[0;36mcheck_random_state\u001b[0;34m(seed)\u001b[0m\n\u001b[1;32m    812\u001b[0m         \u001b[0;32mreturn\u001b[0m \u001b[0mnp\u001b[0m\u001b[0;34m.\u001b[0m\u001b[0mrandom\u001b[0m\u001b[0;34m.\u001b[0m\u001b[0mmtrand\u001b[0m\u001b[0;34m.\u001b[0m\u001b[0m_rand\u001b[0m\u001b[0;34m\u001b[0m\u001b[0;34m\u001b[0m\u001b[0m\n\u001b[1;32m    813\u001b[0m     \u001b[0;32mif\u001b[0m \u001b[0misinstance\u001b[0m\u001b[0;34m(\u001b[0m\u001b[0mseed\u001b[0m\u001b[0;34m,\u001b[0m \u001b[0mnumbers\u001b[0m\u001b[0;34m.\u001b[0m\u001b[0mIntegral\u001b[0m\u001b[0;34m)\u001b[0m\u001b[0;34m:\u001b[0m\u001b[0;34m\u001b[0m\u001b[0;34m\u001b[0m\u001b[0m\n\u001b[0;32m--> 814\u001b[0;31m         \u001b[0;32mreturn\u001b[0m \u001b[0mnp\u001b[0m\u001b[0;34m.\u001b[0m\u001b[0mrandom\u001b[0m\u001b[0;34m.\u001b[0m\u001b[0mRandomState\u001b[0m\u001b[0;34m(\u001b[0m\u001b[0mseed\u001b[0m\u001b[0;34m)\u001b[0m\u001b[0;34m\u001b[0m\u001b[0;34m\u001b[0m\u001b[0m\n\u001b[0m\u001b[1;32m    815\u001b[0m     \u001b[0;32mif\u001b[0m \u001b[0misinstance\u001b[0m\u001b[0;34m(\u001b[0m\u001b[0mseed\u001b[0m\u001b[0;34m,\u001b[0m \u001b[0mnp\u001b[0m\u001b[0;34m.\u001b[0m\u001b[0mrandom\u001b[0m\u001b[0;34m.\u001b[0m\u001b[0mRandomState\u001b[0m\u001b[0;34m)\u001b[0m\u001b[0;34m:\u001b[0m\u001b[0;34m\u001b[0m\u001b[0;34m\u001b[0m\u001b[0m\n\u001b[1;32m    816\u001b[0m         \u001b[0;32mreturn\u001b[0m \u001b[0mseed\u001b[0m\u001b[0;34m\u001b[0m\u001b[0;34m\u001b[0m\u001b[0m\n",
            "\u001b[0;31mKeyboardInterrupt\u001b[0m: "
          ]
        }
      ]
    },
    {
      "cell_type": "code",
      "metadata": {
        "id": "6fN-vvKB10rw",
        "colab_type": "code",
        "colab": {
          "base_uri": "https://localhost:8080/",
          "height": 35
        },
        "outputId": "3dfdc060-17e2-4608-fdfd-b9e11c1a2748"
      },
      "source": [
        "from sklearn.model_selection import cross_val_score\n",
        "from sklearn.ensemble import AdaBoostClassifier\n",
        "Ada_clf = AdaBoostClassifier(n_estimators=50)\n",
        "scores = cross_val_score(Ada_clf, data_clean.iloc[:,:-1].values,\n",
        "data_clean.iloc[:,-1].values)\n",
        "scores.mean()"
      ],
      "execution_count": 360,
      "outputs": [
        {
          "output_type": "execute_result",
          "data": {
            "text/plain": [
              "0.8056363636363637"
            ]
          },
          "metadata": {
            "tags": []
          },
          "execution_count": 360
        }
      ]
    },
    {
      "cell_type": "markdown",
      "metadata": {
        "id": "pBJB_uJx4ZWA",
        "colab_type": "text"
      },
      "source": [
        "### XGBoost"
      ]
    },
    {
      "cell_type": "code",
      "metadata": {
        "id": "C93OvZvc3K5C",
        "colab_type": "code",
        "colab": {
          "base_uri": "https://localhost:8080/",
          "height": 72
        },
        "outputId": "1f9f07fd-22b3-465b-84ab-c195c5716403"
      },
      "source": [
        "import numpy as np\n",
        "import xgboost as xgb\n",
        "from sklearn.datasets import dump_svmlight_file\n",
        "from sklearn.externals import joblib\n",
        "from sklearn.metrics import precision_score"
      ],
      "execution_count": 361,
      "outputs": [
        {
          "output_type": "stream",
          "text": [
            "/usr/local/lib/python3.6/dist-packages/sklearn/externals/joblib/__init__.py:15: FutureWarning: sklearn.externals.joblib is deprecated in 0.21 and will be removed in 0.23. Please import this functionality directly from joblib, which can be installed with: pip install joblib. If this warning is raised when loading pickled models, you may need to re-serialize those models with scikit-learn 0.21+.\n",
            "  warnings.warn(msg, category=FutureWarning)\n"
          ],
          "name": "stderr"
        }
      ]
    },
    {
      "cell_type": "code",
      "metadata": {
        "id": "RKpVAiKk4cTl",
        "colab_type": "code",
        "colab": {}
      },
      "source": [
        "dtrain = xgb.DMatrix(X_train, label=y_train)\n",
        "dtest = xgb.DMatrix(X_test, label=y_test)"
      ],
      "execution_count": 0,
      "outputs": []
    },
    {
      "cell_type": "code",
      "metadata": {
        "id": "YtL9WaZY4h3F",
        "colab_type": "code",
        "colab": {
          "base_uri": "https://localhost:8080/",
          "height": 52
        },
        "outputId": "3d129e47-42f0-4554-df96-8e4cba16883e"
      },
      "source": [
        "dump_svmlight_file(X_train, y_train, 'dtrain.svm', zero_based=True)\n",
        "dump_svmlight_file(X_test, y_test, 'dtest.svm', zero_based=True)\n",
        "dtrain_svm = xgb.DMatrix('dtrain.svm')\n",
        "dtest_svm = xgb.DMatrix('dtest.svm')"
      ],
      "execution_count": 363,
      "outputs": [
        {
          "output_type": "stream",
          "text": [
            "[04:27:38] 8800x10 matrix with 87646 entries loaded from dtrain.svm\n",
            "[04:27:38] 2200x10 matrix with 21892 entries loaded from dtest.svm\n"
          ],
          "name": "stdout"
        }
      ]
    },
    {
      "cell_type": "code",
      "metadata": {
        "id": "v5neThzc4lrW",
        "colab_type": "code",
        "colab": {
          "base_uri": "https://localhost:8080/",
          "height": 69
        },
        "outputId": "bd811bdb-d798-4580-bafa-8ca44fdc9a41"
      },
      "source": [
        "param = {\n",
        "    'max_depth': 3,  # the maximum depth of each tree\n",
        "    'eta': 0.3,  # the training step for each iteration\n",
        "    'silent': 1,  # logging mode - quiet\n",
        "    'objective': 'multi:softprob',  # error evaluation for multiclass training\n",
        "    'num_class': 2}  # the number of classes that exist in this datset\n",
        "num_round = 20  # the number of training iterations\n",
        "\n",
        "#------------- numpy array ------------------\n",
        "# training and testing - numpy matrices\n",
        "bst = xgb.train(param, dtrain, num_round)\n",
        "preds = bst.predict(dtest)\n",
        "preds[0:3,:]"
      ],
      "execution_count": 364,
      "outputs": [
        {
          "output_type": "execute_result",
          "data": {
            "text/plain": [
              "array([[0.25506184, 0.7449382 ],\n",
              "       [0.20143421, 0.7985658 ],\n",
              "       [0.1451544 , 0.8548456 ]], dtype=float32)"
            ]
          },
          "metadata": {
            "tags": []
          },
          "execution_count": 364
        }
      ]
    },
    {
      "cell_type": "code",
      "metadata": {
        "id": "y1HoLhnZ43Vo",
        "colab_type": "code",
        "colab": {
          "base_uri": "https://localhost:8080/",
          "height": 35
        },
        "outputId": "feee2857-0f81-4eb0-a9de-9af71d7a9188"
      },
      "source": [
        "best_preds = np.asarray([np.argmax(line) for line in preds])\n",
        "best_preds"
      ],
      "execution_count": 365,
      "outputs": [
        {
          "output_type": "execute_result",
          "data": {
            "text/plain": [
              "array([1, 1, 1, ..., 1, 0, 1])"
            ]
          },
          "metadata": {
            "tags": []
          },
          "execution_count": 365
        }
      ]
    },
    {
      "cell_type": "code",
      "metadata": {
        "id": "yGn6atBq5EFY",
        "colab_type": "code",
        "colab": {
          "base_uri": "https://localhost:8080/",
          "height": 321
        },
        "outputId": "e4da8cd8-2084-4db7-9544-899c59f50056"
      },
      "source": [
        "\n",
        "xgboost_predict = preds[:,1]\n",
        "plotAUC(y_test,xgboost_predict,'XGBOOST')"
      ],
      "execution_count": 366,
      "outputs": [
        {
          "output_type": "display_data",
          "data": {
            "image/png": "[encoded data removed]",
            "text/plain": [
              "<Figure size 432x288 with 1 Axes>"
            ]
          },
          "metadata": {
            "tags": []
          }
        }
      ]
    },
    {
      "cell_type": "code",
      "metadata": {
        "id": "ngQwoOYN5FwX",
        "colab_type": "code",
        "colab": {
          "base_uri": "https://localhost:8080/",
          "height": 485
        },
        "outputId": "52517d66-6912-4792-dc83-16580adc8e45"
      },
      "source": [
        "from sklearn.metrics import classification_report\n",
        "print(\"RF\",classification_report(y_test, rfPredict, target_names=None))\n",
        "print(\"XGBoost\",classification_report(y_test, best_preds, target_names=None))\n",
        "print(\"LR\",classification_report(y_test, LR_Predict_bin, target_names=None))"
      ],
      "execution_count": 369,
      "outputs": [
        {
          "output_type": "stream",
          "text": [
            "RF               precision    recall  f1-score   support\n",
            "\n",
            "           0       0.86      0.71      0.78      1112\n",
            "           1       0.75      0.89      0.81      1088\n",
            "\n",
            "    accuracy                           0.80      2200\n",
            "   macro avg       0.81      0.80      0.80      2200\n",
            "weighted avg       0.81      0.80      0.80      2200\n",
            "\n",
            "XGBoost               precision    recall  f1-score   support\n",
            "\n",
            "           0       0.91      0.67      0.77      1112\n",
            "           1       0.73      0.93      0.82      1088\n",
            "\n",
            "    accuracy                           0.80      2200\n",
            "   macro avg       0.82      0.80      0.80      2200\n",
            "weighted avg       0.82      0.80      0.80      2200\n",
            "\n",
            "LR               precision    recall  f1-score   support\n",
            "\n",
            "           0       0.89      0.68      0.77      1112\n",
            "           1       0.73      0.92      0.82      1088\n",
            "\n",
            "    accuracy                           0.79      2200\n",
            "   macro avg       0.81      0.80      0.79      2200\n",
            "weighted avg       0.81      0.79      0.79      2200\n",
            "\n"
          ],
          "name": "stdout"
        }
      ]
    },
    {
      "cell_type": "code",
      "metadata": {
        "id": "ocW5Sxmw5OdI",
        "colab_type": "code",
        "colab": {}
      },
      "source": [
        "import lightgbm as lgb\n"
      ],
      "execution_count": 0,
      "outputs": []
    },
    {
      "cell_type": "code",
      "metadata": {
        "id": "WuxktXjo5298",
        "colab_type": "code",
        "colab": {}
      },
      "source": [
        "dtrain = lgb.Dataset(X_train, label=y_train)\n",
        "dtest = lgb.Dataset(X_test, label=y_test)"
      ],
      "execution_count": 0,
      "outputs": []
    },
    {
      "cell_type": "code",
      "metadata": {
        "id": "lLlCClFv6Fja",
        "colab_type": "code",
        "colab": {}
      },
      "source": [
        "gbm = lgb.LGBMClassifier(\n",
        "    boosting_type = 'gbdt'\n",
        ")"
      ],
      "execution_count": 0,
      "outputs": []
    },
    {
      "cell_type": "code",
      "metadata": {
        "id": "40FcKZmQ6UtM",
        "colab_type": "code",
        "colab": {
          "base_uri": "https://localhost:8080/",
          "height": 121
        },
        "outputId": "07d90131-d1b0-49b8-a004-8518c8df1e63"
      },
      "source": [
        "gbm.fit(X_train,y_train)"
      ],
      "execution_count": 377,
      "outputs": [
        {
          "output_type": "execute_result",
          "data": {
            "text/plain": [
              "LGBMClassifier(boosting_type='gbdt', class_weight=None, colsample_bytree=1.0,\n",
              "               importance_type='split', learning_rate=0.1, max_depth=-1,\n",
              "               min_child_samples=20, min_child_weight=0.001, min_split_gain=0.0,\n",
              "               n_estimators=100, n_jobs=-1, num_leaves=31, objective=None,\n",
              "               random_state=None, reg_alpha=0.0, reg_lambda=0.0, silent=True,\n",
              "               subsample=1.0, subsample_for_bin=200000, subsample_freq=0)"
            ]
          },
          "metadata": {
            "tags": []
          },
          "execution_count": 377
        }
      ]
    },
    {
      "cell_type": "code",
      "metadata": {
        "id": "oenv0Qfc6cSM",
        "colab_type": "code",
        "colab": {}
      },
      "source": [
        "predicted = gbm.predict(X_test)"
      ],
      "execution_count": 0,
      "outputs": []
    },
    {
      "cell_type": "code",
      "metadata": {
        "id": "jeh89E4E6nUs",
        "colab_type": "code",
        "colab": {
          "base_uri": "https://localhost:8080/",
          "height": 35
        },
        "outputId": "f9ff1c9c-e3de-4e84-d14d-fe5d34726d50"
      },
      "source": [
        "accuracy_score(y_test,predicted)"
      ],
      "execution_count": 380,
      "outputs": [
        {
          "output_type": "execute_result",
          "data": {
            "text/plain": [
              "0.8059090909090909"
            ]
          },
          "metadata": {
            "tags": []
          },
          "execution_count": 380
        }
      ]
    },
    {
      "cell_type": "code",
      "metadata": {
        "id": "lywnRao36r18",
        "colab_type": "code",
        "colab": {
          "base_uri": "https://localhost:8080/",
          "height": 321
        },
        "outputId": "5ce714df-30c3-48aa-f974-522ecb6bfcd2"
      },
      "source": [
        "lightgbm_predict = gbm.predict_proba(X_test)[:,1]\n",
        "plotAUC(y_test,lightgbm_predict,'LightGBM')"
      ],
      "execution_count": 381,
      "outputs": [
        {
          "output_type": "display_data",
          "data": {
            "image/png": "[encoded data removed]",
            "text/plain": [
              "<Figure size 432x288 with 1 Axes>"
            ]
          },
          "metadata": {
            "tags": []
          }
        }
      ]
    },
    {
      "cell_type": "markdown",
      "metadata": {
        "id": "LfMBYx7kSrU1",
        "colab_type": "text"
      },
      "source": [
        "## 文字探勘"
      ]
    },
    {
      "cell_type": "code",
      "metadata": {
        "id": "yZIV6RtL63CN",
        "colab_type": "code",
        "colab": {
          "base_uri": "https://localhost:8080/",
          "height": 35
        },
        "outputId": "2c0a7681-5abc-451b-bcb9-54fbf6ff72f3"
      },
      "source": [
        "a = 'this is a book'\n",
        "a.split()"
      ],
      "execution_count": 383,
      "outputs": [
        {
          "output_type": "execute_result",
          "data": {
            "text/plain": [
              "['this', 'is', 'a', 'book']"
            ]
          },
          "metadata": {
            "tags": []
          },
          "execution_count": 383
        }
      ]
    },
    {
      "cell_type": "code",
      "metadata": {
        "id": "EN3BMJWtSwDi",
        "colab_type": "code",
        "colab": {
          "base_uri": "https://localhost:8080/",
          "height": 156
        },
        "outputId": "1aacd6f9-4bc5-4959-f2ba-df276e792223"
      },
      "source": [
        "s = '''美國總統川普（Donald Trump）日前表示，若WHO不實質改革的話，不但會中斷資金，也會退出這個組織，而他也在5月29日以中國完全掌控世衛組織、以及世衛組織拒絕改革為由，宣布中止與世衛組織的關係。'''\n",
        "import re\n",
        "re.split('[，、。]',s)"
      ],
      "execution_count": 386,
      "outputs": [
        {
          "output_type": "execute_result",
          "data": {
            "text/plain": [
              "['美國總統川普（Donald Trump）日前表示',\n",
              " '若WHO不實質改革的話',\n",
              " '不但會中斷資金',\n",
              " '也會退出這個組織',\n",
              " '而他也在5月29日以中國完全掌控世衛組織',\n",
              " '以及世衛組織拒絕改革為由',\n",
              " '宣布中止與世衛組織的關係',\n",
              " '']"
            ]
          },
          "metadata": {
            "tags": []
          },
          "execution_count": 386
        }
      ]
    },
    {
      "cell_type": "code",
      "metadata": {
        "id": "ew9DvCNoUPQF",
        "colab_type": "code",
        "colab": {
          "base_uri": "https://localhost:8080/",
          "height": 121
        },
        "outputId": "b6536328-b5e2-4d3a-841e-7881551057bb"
      },
      "source": [
        "import jieba\n",
        "seg_list = jieba.cut(\"大巨蛋案對市府同仁下封口令？ 柯P否認\", cut_all=True)\n",
        "print(\"Full Mode:\", \"/ \".join(seg_list))\n",
        "\n",
        "seg_list = jieba.cut(\"大巨蛋案對市府同仁下封口令？ 柯P否認\", cut_all=False)\n",
        "print(\"Default Mode:\", \"/ \".join(seg_list))"
      ],
      "execution_count": 388,
      "outputs": [
        {
          "output_type": "stream",
          "text": [
            "Building prefix dict from the default dictionary ...\n",
            "Dumping model to file cache /tmp/jieba.cache\n",
            "Loading model cost 1.047 seconds.\n",
            "Prefix dict has been built successfully.\n"
          ],
          "name": "stderr"
        },
        {
          "output_type": "stream",
          "text": [
            "Full Mode: 大/ 巨蛋/ 案/ 對/ 市府/ 同仁/ 下/ 封口/ 封口令/ 口令/ ？/  / / 柯/ P/ 否/ 認\n",
            "Default Mode: 大/ 巨蛋/ 案對/ 市府/ 同仁/ 下/ 封口令/ ？/  / 柯/ P/ 否認\n"
          ],
          "name": "stdout"
        }
      ]
    },
    {
      "cell_type": "code",
      "metadata": {
        "id": "rIlXMmd_YK9g",
        "colab_type": "code",
        "colab": {
          "base_uri": "https://localhost:8080/",
          "height": 35
        },
        "outputId": "ff8cde4c-9512-451b-80d1-e256b7ba5c75"
      },
      "source": [
        "jieba.load_userdict('userdict.txt')\n",
        "\n",
        "seg_list = jieba.cut(\"大巨蛋案對市府同仁下封口令？ 柯P否認\", cut_all=False)\n",
        "print(\"Default Mode:\", \"/ \".join(seg_list))"
      ],
      "execution_count": 390,
      "outputs": [
        {
          "output_type": "stream",
          "text": [
            "Default Mode: 大巨蛋/ 案對/ 市府/ 同仁/ 下/ 封口令/ ？/  / 柯P/ 否認\n"
          ],
          "name": "stdout"
        }
      ]
    },
    {
      "cell_type": "code",
      "metadata": {
        "id": "hZ06beXYboht",
        "colab_type": "code",
        "colab": {
          "base_uri": "https://localhost:8080/",
          "height": 35
        },
        "outputId": "f6c4cd5a-41c5-44f7-aad4-110e38b83c32"
      },
      "source": [
        "jieba.get_dict_file()"
      ],
      "execution_count": 391,
      "outputs": [
        {
          "output_type": "execute_result",
          "data": {
            "text/plain": [
              "<_io.BufferedReader name='/usr/local/lib/python3.6/dist-packages/jieba/dict.txt'>"
            ]
          },
          "metadata": {
            "tags": []
          },
          "execution_count": 391
        }
      ]
    },
    {
      "cell_type": "code",
      "metadata": {
        "id": "FzLx_4Xpb15L",
        "colab_type": "code",
        "colab": {
          "base_uri": "https://localhost:8080/",
          "height": 191
        },
        "outputId": "b06d6900-59a0-4f05-d2a6-c5941cd35f00"
      },
      "source": [
        "!head /usr/local/lib/python3.6/dist-packages/jieba/dict.txt"
      ],
      "execution_count": 392,
      "outputs": [
        {
          "output_type": "stream",
          "text": [
            "AT&T 3 nz\n",
            "B超 3 n\n",
            "c# 3 nz\n",
            "C# 3 nz\n",
            "c++ 3 nz\n",
            "C++ 3 nz\n",
            "T恤 4 n\n",
            "A座 3 n\n",
            "A股 3 n\n",
            "A型 3 n\n"
          ],
          "name": "stdout"
        }
      ]
    },
    {
      "cell_type": "code",
      "metadata": {
        "id": "JVyo2jiab3_r",
        "colab_type": "code",
        "colab": {
          "base_uri": "https://localhost:8080/",
          "height": 104
        },
        "outputId": "0dbef0e5-ad8f-4f5b-e144-11496f94c09b"
      },
      "source": [
        "! git clone https://github.com/ldkrsi/jieba-zh_TW.git"
      ],
      "execution_count": 394,
      "outputs": [
        {
          "output_type": "stream",
          "text": [
            "Cloning into 'jieba-zh_TW'...\n",
            "remote: Enumerating objects: 2320, done.\u001b[K\n",
            "remote: Total 2320 (delta 0), reused 0 (delta 0), pack-reused 2320\u001b[K\n",
            "Receiving objects: 100% (2320/2320), 44.97 MiB | 9.97 MiB/s, done.\n",
            "Resolving deltas: 100% (1311/1311), done.\n"
          ],
          "name": "stdout"
        }
      ]
    },
    {
      "cell_type": "code",
      "metadata": {
        "id": "E4x6jFQncmON",
        "colab_type": "code",
        "colab": {}
      },
      "source": [
        "  ! cp -r jieba-zh_TW/jieba/* /usr/local/lib/python3.6/dist-packages/jieba/"
      ],
      "execution_count": 0,
      "outputs": []
    },
    {
      "cell_type": "code",
      "metadata": {
        "id": "Z4OU18Nqc3Lu",
        "colab_type": "code",
        "colab": {
          "base_uri": "https://localhost:8080/",
          "height": 35
        },
        "outputId": "12747c6b-97bf-4ab0-ca76-bf984a1293c7"
      },
      "source": [
        "import jieba\n",
        "#jieba.load_userdict('userdict.txt')\n",
        "\n",
        "seg_list = jieba.cut(\"大巨蛋案對市府同仁下封口令？ 柯P否認\", cut_all=False)\n",
        "print(\"Default Mode:\", \"/ \".join(seg_list))"
      ],
      "execution_count": 397,
      "outputs": [
        {
          "output_type": "stream",
          "text": [
            "Default Mode: 大巨蛋/ 案對/ 市府/ 同仁/ 下/ 封口令/ ？/  / 柯P/ 否認\n"
          ],
          "name": "stdout"
        }
      ]
    },
    {
      "cell_type": "code",
      "metadata": {
        "id": "sRKvYyT-c6ue",
        "colab_type": "code",
        "colab": {
          "base_uri": "https://localhost:8080/",
          "height": 208
        },
        "outputId": "d242bbf6-3704-4f7f-f5b2-793185403bbb"
      },
      "source": [
        "import jieba.posseg as pseg\n",
        "jieba.load_userdict('userdict.txt')\n",
        "words = pseg.cut(\"大巨蛋案對市府同仁下封口令？ 柯P否認\")\n",
        "for w in words:\n",
        "  print(w.word, w.flag)"
      ],
      "execution_count": 399,
      "outputs": [
        {
          "output_type": "stream",
          "text": [
            "大巨蛋 N\n",
            "案 ng\n",
            "對 p\n",
            "市府 N\n",
            "同仁 N\n",
            "下 POST\n",
            "封口令 x\n",
            "？ x\n",
            "  x\n",
            "柯P N\n",
            "否認 v\n"
          ],
          "name": "stdout"
        }
      ]
    },
    {
      "cell_type": "code",
      "metadata": {
        "id": "hR92Y78RdDjv",
        "colab_type": "code",
        "colab": {
          "base_uri": "https://localhost:8080/",
          "height": 35
        },
        "outputId": "4a97fae3-c0f3-4555-fdf7-d3fbda2a633d"
      },
      "source": [
        "import requests\n",
        "from bs4 import BeautifulSoup\n",
        "res = requests.get('https://news.ltn.com.tw/news/world/paper/1377874')\n",
        "soup = BeautifulSoup(res.text, 'lxml')\n",
        "soup.select_one('meta[name=\"keywords\"]').get('content')"
      ],
      "execution_count": 404,
      "outputs": [
        {
          "output_type": "execute_result",
          "data": {
            "text/plain": [
              "'抗菌,電能,纖維日本研發'"
            ]
          },
          "metadata": {
            "tags": []
          },
          "execution_count": 404
        }
      ]
    },
    {
      "cell_type": "markdown",
      "metadata": {
        "id": "DiP4nitPhmKa",
        "colab_type": "text"
      },
      "source": [
        "## 文字雲"
      ]
    },
    {
      "cell_type": "code",
      "metadata": {
        "id": "2IzuajLxe5Dl",
        "colab_type": "code",
        "colab": {
          "base_uri": "https://localhost:8080/",
          "height": 89
        },
        "outputId": "f9d05070-e356-4e77-fafa-bcd62a4c00f9"
      },
      "source": [
        "! pip install wordcloud"
      ],
      "execution_count": 405,
      "outputs": [
        {
          "output_type": "stream",
          "text": [
            "Requirement already satisfied: wordcloud in /usr/local/lib/python3.6/dist-packages (1.5.0)\n",
            "Requirement already satisfied: pillow in /usr/local/lib/python3.6/dist-packages (from wordcloud) (7.0.0)\n",
            "Requirement already satisfied: numpy>=1.6.1 in /usr/local/lib/python3.6/dist-packages (from wordcloud) (1.18.4)\n"
          ],
          "name": "stdout"
        }
      ]
    },
    {
      "cell_type": "code",
      "metadata": {
        "id": "0j-eM622iB3I",
        "colab_type": "code",
        "colab": {
          "base_uri": "https://localhost:8080/",
          "height": 228
        },
        "outputId": "dddddb07-84b9-4883-bc92-e5ea82a9128b"
      },
      "source": [
        "! wget https://noto-website-2.storage.googleapis.com/pkgs/NotoSansCJKtc-hinted.zip"
      ],
      "execution_count": 408,
      "outputs": [
        {
          "output_type": "stream",
          "text": [
            "--2020-06-06 07:29:43--  https://noto-website-2.storage.googleapis.com/pkgs/NotoSansCJKtc-hinted.zip\n",
            "Resolving noto-website-2.storage.googleapis.com (noto-website-2.storage.googleapis.com)... 74.125.203.128, 2404:6800:4008:c03::80\n",
            "Connecting to noto-website-2.storage.googleapis.com (noto-website-2.storage.googleapis.com)|74.125.203.128|:443... connected.\n",
            "HTTP request sent, awaiting response... 200 OK\n",
            "Length: 121247366 (116M) [application/zip]\n",
            "Saving to: ‘NotoSansCJKtc-hinted.zip’\n",
            "\n",
            "NotoSansCJKtc-hinte 100%[===================>] 115.63M  21.7MB/s    in 5.3s    \n",
            "\n",
            "2020-06-06 07:29:49 (21.7 MB/s) - ‘NotoSansCJKtc-hinted.zip’ saved [121247366/121247366]\n",
            "\n"
          ],
          "name": "stdout"
        }
      ]
    },
    {
      "cell_type": "code",
      "metadata": {
        "id": "O4RS7GdHiUPH",
        "colab_type": "code",
        "colab": {
          "base_uri": "https://localhost:8080/",
          "height": 225
        },
        "outputId": "ea9b60b7-4999-4f9f-f500-25977e122b89"
      },
      "source": [
        "! unzip NotoSansCJKtc-hinted.zip"
      ],
      "execution_count": 409,
      "outputs": [
        {
          "output_type": "stream",
          "text": [
            "Archive:  NotoSansCJKtc-hinted.zip\n",
            "  inflating: LICENSE_OFL.txt         \n",
            "  inflating: NotoSansCJKtc-Black.otf  \n",
            "  inflating: NotoSansCJKtc-Bold.otf  \n",
            "  inflating: NotoSansCJKtc-DemiLight.otf  \n",
            "  inflating: NotoSansCJKtc-Light.otf  \n",
            "  inflating: NotoSansCJKtc-Medium.otf  \n",
            "  inflating: NotoSansCJKtc-Regular.otf  \n",
            "  inflating: NotoSansCJKtc-Thin.otf  \n",
            "  inflating: NotoSansMonoCJKtc-Bold.otf  \n",
            "  inflating: NotoSansMonoCJKtc-Regular.otf  \n",
            "  inflating: README                  \n"
          ],
          "name": "stdout"
        }
      ]
    },
    {
      "cell_type": "code",
      "metadata": {
        "id": "mQRkxEnRhoqs",
        "colab_type": "code",
        "colab": {
          "base_uri": "https://localhost:8080/",
          "height": 55
        },
        "outputId": "b0d51064-c21e-4cd6-e5f7-321a0f79187b"
      },
      "source": [
        "from wordcloud import WordCloud\n",
        "import jieba\n",
        "jieba.load_userdict('userdict.txt')\n",
        "Text ='''快新聞／繼川普因世衛政治偏袒而終止關係 巴西總統也揚言要退出\n",
        "快新聞／繼川普因世衛政治偏袒而終止關係 巴西總統也揚言要退出\n",
        "巴西總統波索納洛（Jair Bolsonaro）今天表示，除非世界衛生組織（ WHO）不再政治上有任何偏頗，不然會宣布退出這個組織。\n",
        "\n",
        "美國總統川普（Donald Trump）日前表示，若WHO不實質改革的話，不但會中斷資金，也會退出這個組織，而他也在5月29日以中國完全掌控世衛組織、以及世衛組織拒絕改革為由，宣布中止與世衛組織的關係。\n",
        "\n",
        "美國有線電視新聞網巴西頻道（CNN Brasil）的報導指出，波索納洛在有關羥氯奎寧（hydroxychloroquine）治療武漢肺炎有效性的「偽劣」研究被撤下醫學期刊後，讓羥氯奎寧「重回檯面」。即使缺乏科學證據證明有效，他仍大力鼓吹使用這種藥物治療病患。\n",
        "'''\n",
        "seg_list = jieba.lcut(Text, cut_all=False)\n",
        "print('list: ',seg_list)\n"
      ],
      "execution_count": 418,
      "outputs": [
        {
          "output_type": "stream",
          "text": [
            "list:  ['快新聞', '／', '繼', '川普', '因世衛', '政治', '偏袒', '而', '終止關', '係', ' ', '巴西', '總統', '也', '揚言要', '退出', '\\n', '快新聞', '／', '繼', '川普', '因世衛', '政治', '偏袒', '而', '終止關', '係', ' ', '巴西', '總統', '也', '揚言要', '退出', '\\n', '巴西', '總統', '波索', '納洛', '（', 'Jair', ' ', 'Bolsonaro', '）', '今天', '表示', '，', '除非', '世界', '衛生', '組織', '（', ' ', 'WHO', '）', '不再', '政治', '上', '有', '任何', '偏', '頗', '，', '不然', '會', '宣布', '退出', '這個', '組織', '。', '\\n', '\\n', '美國', '總統', '川普', '（', 'Donald', ' ', 'Trump', '）', '日前', '表示', '，', '若', 'WHO', '不實質', '改革', '的', '話', '，', '不但', '會', '中斷', '資金', '，', '也', '會', '退出', '這個', '組織', '，', '而', '他', '也', '在', '5', '月', '29', '日以', '中國', '完全', '掌控', '世衛', '組織', '、', '以及', '世衛', '組織', '拒絕', '改革', '為', '由', '，', '宣布', '中止', '與', '世衛', '組織', '的關', '係', '。', '\\n', '\\n', '美國', '有線', '電視', '新聞網', '巴西', '頻道', '（', 'CNN', ' ', 'Brasil', '）', '的', '報導', '指出', '，', '波索', '納洛', '在', '有關', '羥氯奎寧', '（', 'hydroxychloroquine', '）', '治療', '武漢', '肺炎', '有效性', '的', '「', '偽劣', '」', '研究', '被', '撤下', '醫學', '期刊', '後', '，', '讓', '羥氯奎寧', '「', '重回', '檯', '面', '」', '。', '即使', '缺乏', '科學', '證據', '證明', '有效', '，', '他', '仍', '大力', '鼓吹', '使用', '這種', '藥物', '治療', '病患', '。', '\\n']\n"
          ],
          "name": "stdout"
        }
      ]
    },
    {
      "cell_type": "code",
      "metadata": {
        "id": "v4lQW8Weh02N",
        "colab_type": "code",
        "colab": {
          "base_uri": "https://localhost:8080/",
          "height": 198
        },
        "outputId": "51ec1c0e-0333-4b8d-c3b0-6bc2bc2a1a2c"
      },
      "source": [
        "wc = WordCloud(background_color='black',font_path='/content/NotoSansCJKtc-Regular.otf')\n",
        "wc.generate(' '.join(seg_list))\n",
        "import matplotlib.pyplot as plt\n",
        "plt.imshow(wc)\n",
        "plt.axis(\"off\")\n",
        "plt.show()"
      ],
      "execution_count": 419,
      "outputs": [
        {
          "output_type": "display_data",
          "data": {
            "image/png": "[encoded data removed]",
            "text/plain": [
              "<Figure size 432x288 with 1 Axes>"
            ]
          },
          "metadata": {
            "tags": []
          }
        }
      ]
    },
    {
      "cell_type": "markdown",
      "metadata": {
        "id": "VuppiVlTkWks",
        "colab_type": "text"
      },
      "source": [
        "## TFIDF"
      ]
    },
    {
      "cell_type": "code",
      "metadata": {
        "id": "YYbGXoeaig0f",
        "colab_type": "code",
        "colab": {}
      },
      "source": [
        "a, abb, abc = [\"a\"], [\"a\", \"b\", \"b\"], [\"a\", \"b\", \"c\"]\n",
        "D = [a, abb, abc]"
      ],
      "execution_count": 0,
      "outputs": []
    },
    {
      "cell_type": "code",
      "metadata": {
        "id": "9tJlxGEYkVxK",
        "colab_type": "code",
        "colab": {
          "base_uri": "https://localhost:8080/",
          "height": 35
        },
        "outputId": "a691abeb-cba3-4650-d274-1dbd5a256288"
      },
      "source": [
        "import math\n",
        "#tfidf('a', a, D)\n",
        "tf = 1/1\n",
        "idf = math.log(3/3)\n",
        "tf * idf"
      ],
      "execution_count": 421,
      "outputs": [
        {
          "output_type": "execute_result",
          "data": {
            "text/plain": [
              "0.0"
            ]
          },
          "metadata": {
            "tags": []
          },
          "execution_count": 421
        }
      ]
    },
    {
      "cell_type": "code",
      "metadata": {
        "id": "fFRBOzX_kmqk",
        "colab_type": "code",
        "colab": {
          "base_uri": "https://localhost:8080/",
          "height": 35
        },
        "outputId": "b4da9eb1-279d-4610-899c-bd3568838ee5"
      },
      "source": [
        "#tfidf('a', abb, D)\n",
        "tf = 1/3\n",
        "idf = math.log(3/3)\n",
        "tf * idf"
      ],
      "execution_count": 422,
      "outputs": [
        {
          "output_type": "execute_result",
          "data": {
            "text/plain": [
              "0.0"
            ]
          },
          "metadata": {
            "tags": []
          },
          "execution_count": 422
        }
      ]
    },
    {
      "cell_type": "code",
      "metadata": {
        "id": "I9aZ5k9fkv7F",
        "colab_type": "code",
        "colab": {
          "base_uri": "https://localhost:8080/",
          "height": 35
        },
        "outputId": "4db84a6f-5bc1-48c0-ecd0-70b70a7d8586"
      },
      "source": [
        "#tfidf('a', abc, D)\n",
        "tf = 1/3\n",
        "idf = math.log(3/3)\n",
        "tf * idf"
      ],
      "execution_count": 423,
      "outputs": [
        {
          "output_type": "execute_result",
          "data": {
            "text/plain": [
              "0.0"
            ]
          },
          "metadata": {
            "tags": []
          },
          "execution_count": 423
        }
      ]
    },
    {
      "cell_type": "code",
      "metadata": {
        "id": "jpV3BHALk5Y1",
        "colab_type": "code",
        "colab": {
          "base_uri": "https://localhost:8080/",
          "height": 35
        },
        "outputId": "1e182f8a-f372-46c7-9526-2403c1547ad4"
      },
      "source": [
        "#tfidf('b', abb, D)\n",
        "tf = 2/3\n",
        "idf = math.log(3/2)\n",
        "tf * idf"
      ],
      "execution_count": 424,
      "outputs": [
        {
          "output_type": "execute_result",
          "data": {
            "text/plain": [
              "0.27031007207210955"
            ]
          },
          "metadata": {
            "tags": []
          },
          "execution_count": 424
        }
      ]
    },
    {
      "cell_type": "code",
      "metadata": {
        "id": "oda5Y6fYlBZl",
        "colab_type": "code",
        "colab": {
          "base_uri": "https://localhost:8080/",
          "height": 35
        },
        "outputId": "2a1f2a2e-59e6-493e-96d5-f4e2084ea330"
      },
      "source": [
        "#tfidf('b', abc, D)\n",
        "tf = 1/3\n",
        "idf = math.log(3/2)\n",
        "tf * idf"
      ],
      "execution_count": 425,
      "outputs": [
        {
          "output_type": "execute_result",
          "data": {
            "text/plain": [
              "0.13515503603605478"
            ]
          },
          "metadata": {
            "tags": []
          },
          "execution_count": 425
        }
      ]
    },
    {
      "cell_type": "code",
      "metadata": {
        "id": "x9ilPjsDlHiG",
        "colab_type": "code",
        "colab": {
          "base_uri": "https://localhost:8080/",
          "height": 35
        },
        "outputId": "3cf1d18b-8cc9-4447-c51e-d6e2cf5986d4"
      },
      "source": [
        "#tfidf('c', abc, D)\n",
        "tf = 1/3\n",
        "idf = math.log(3/1)\n",
        "tf * idf"
      ],
      "execution_count": 426,
      "outputs": [
        {
          "output_type": "execute_result",
          "data": {
            "text/plain": [
              "0.3662040962227032"
            ]
          },
          "metadata": {
            "tags": []
          },
          "execution_count": 426
        }
      ]
    },
    {
      "cell_type": "code",
      "metadata": {
        "id": "z1xizlKTlMxm",
        "colab_type": "code",
        "colab": {}
      },
      "source": [
        "def tfidf(t, d, D):\n",
        "  tf = d.count(t) / len(d)\n",
        "  idf = math.log(len(D)/ len([doc for doc in D if t in doc]))\n",
        "  return tf * idf"
      ],
      "execution_count": 0,
      "outputs": []
    },
    {
      "cell_type": "code",
      "metadata": {
        "id": "v73eUd9xlgx3",
        "colab_type": "code",
        "colab": {
          "base_uri": "https://localhost:8080/",
          "height": 35
        },
        "outputId": "2b4c985f-b1eb-47a5-8bd6-acfac3b750ff"
      },
      "source": [
        "tfidf('c', abc, D)"
      ],
      "execution_count": 429,
      "outputs": [
        {
          "output_type": "execute_result",
          "data": {
            "text/plain": [
              "0.3662040962227032"
            ]
          },
          "metadata": {
            "tags": []
          },
          "execution_count": 429
        }
      ]
    },
    {
      "cell_type": "code",
      "metadata": {
        "id": "fjMNMokclkEn",
        "colab_type": "code",
        "colab": {}
      },
      "source": [
        "ary = ['【更新】柯P：洪智坤洩漏公文案還沒看到公文 今處理',\n",
        "'留洪智坤 柯：殘障求職不易',\n",
        "'人事處議處洪智坤 柯P：不清楚議處結果']\n"
      ],
      "execution_count": 0,
      "outputs": []
    },
    {
      "cell_type": "code",
      "metadata": {
        "id": "NslyVaSWncv8",
        "colab_type": "code",
        "colab": {}
      },
      "source": [
        "import jieba\n",
        "corpus = []\n",
        "for title in ary:\n",
        "  corpus.append(' '.join(jieba.cut(title)))"
      ],
      "execution_count": 0,
      "outputs": []
    },
    {
      "cell_type": "code",
      "metadata": {
        "id": "KMzloCptnm0d",
        "colab_type": "code",
        "colab": {
          "base_uri": "https://localhost:8080/",
          "height": 69
        },
        "outputId": "81060c61-e105-4037-872e-47e511e7203d"
      },
      "source": [
        "corpus"
      ],
      "execution_count": 432,
      "outputs": [
        {
          "output_type": "execute_result",
          "data": {
            "text/plain": [
              "['【 更新 】 柯P ： 洪智坤 洩漏 公文 案還 沒 看到 公文   今處理',\n",
              " '留洪智坤   柯 ： 殘障 求職 不易',\n",
              " '人事 處議 處 洪智坤   柯P ： 不 清楚 議處 結果']"
            ]
          },
          "metadata": {
            "tags": []
          },
          "execution_count": 432
        }
      ]
    },
    {
      "cell_type": "code",
      "metadata": {
        "id": "a2mvFF8znn7N",
        "colab_type": "code",
        "colab": {}
      },
      "source": [
        "from sklearn.feature_extraction.text import CountVectorizer\n",
        "vectorizer = CountVectorizer()\n",
        "X = vectorizer.fit_transform(corpus)"
      ],
      "execution_count": 0,
      "outputs": []
    },
    {
      "cell_type": "code",
      "metadata": {
        "id": "hkAfG-zGoQRO",
        "colab_type": "code",
        "colab": {
          "base_uri": "https://localhost:8080/",
          "height": 55
        },
        "outputId": "f656f2d5-4212-4993-a35d-7e0f627ad7ab"
      },
      "source": [
        "print(vectorizer.get_feature_names())"
      ],
      "execution_count": 437,
      "outputs": [
        {
          "output_type": "stream",
          "text": [
            "['不易', '人事', '今處理', '公文', '更新', '柯p', '案還', '殘障', '求職', '洩漏', '洪智坤', '清楚', '留洪智坤', '看到', '結果', '處議', '議處']\n"
          ],
          "name": "stdout"
        }
      ]
    },
    {
      "cell_type": "code",
      "metadata": {
        "id": "zgwK4m7NoJtu",
        "colab_type": "code",
        "colab": {
          "base_uri": "https://localhost:8080/",
          "height": 52
        },
        "outputId": "22bf1c18-7d4c-479d-b8c4-efab8a3e40b7"
      },
      "source": [
        "X"
      ],
      "execution_count": 436,
      "outputs": [
        {
          "output_type": "execute_result",
          "data": {
            "text/plain": [
              "<3x17 sparse matrix of type '<class 'numpy.int64'>'\n",
              "\twith 19 stored elements in Compressed Sparse Row format>"
            ]
          },
          "metadata": {
            "tags": []
          },
          "execution_count": 436
        }
      ]
    },
    {
      "cell_type": "code",
      "metadata": {
        "id": "v-yk1VQqoNht",
        "colab_type": "code",
        "colab": {
          "base_uri": "https://localhost:8080/",
          "height": 69
        },
        "outputId": "7b253928-8669-4c95-ec51-6e03f568f7ec"
      },
      "source": [
        "X.toarray()"
      ],
      "execution_count": 439,
      "outputs": [
        {
          "output_type": "execute_result",
          "data": {
            "text/plain": [
              "array([[0, 0, 1, 2, 1, 1, 1, 0, 0, 1, 1, 0, 0, 1, 0, 0, 0],\n",
              "       [1, 0, 0, 0, 0, 0, 0, 1, 1, 0, 0, 0, 1, 0, 0, 0, 0],\n",
              "       [0, 1, 0, 0, 0, 1, 0, 0, 0, 0, 1, 1, 0, 0, 1, 1, 1]])"
            ]
          },
          "metadata": {
            "tags": []
          },
          "execution_count": 439
        }
      ]
    },
    {
      "cell_type": "code",
      "metadata": {
        "id": "mPZej5b-oVU_",
        "colab_type": "code",
        "colab": {
          "base_uri": "https://localhost:8080/",
          "height": 35
        },
        "outputId": "6b843000-41dd-42e2-fd31-ba82df4e2224"
      },
      "source": [
        "((X[0] - X[1]).toarray()[0] ** 2).sum()"
      ],
      "execution_count": 449,
      "outputs": [
        {
          "output_type": "execute_result",
          "data": {
            "text/plain": [
              "15"
            ]
          },
          "metadata": {
            "tags": []
          },
          "execution_count": 449
        }
      ]
    },
    {
      "cell_type": "code",
      "metadata": {
        "id": "kvc02Vcepuhp",
        "colab_type": "code",
        "colab": {
          "base_uri": "https://localhost:8080/",
          "height": 69
        },
        "outputId": "92db4794-a4f9-419a-d00a-bf6026cece41"
      },
      "source": [
        "from sklearn.metrics.pairwise import cosine_distances, cosine_similarity\n",
        "cosine_similarity(X)"
      ],
      "execution_count": 450,
      "outputs": [
        {
          "output_type": "execute_result",
          "data": {
            "text/plain": [
              "array([[1.        , 0.        , 0.22792115],\n",
              "       [0.        , 1.        , 0.        ],\n",
              "       [0.22792115, 0.        , 1.        ]])"
            ]
          },
          "metadata": {
            "tags": []
          },
          "execution_count": 450
        }
      ]
    },
    {
      "cell_type": "code",
      "metadata": {
        "id": "abQjRXcLp1Sk",
        "colab_type": "code",
        "colab": {
          "base_uri": "https://localhost:8080/",
          "height": 69
        },
        "outputId": "0c3ea312-5dff-4974-e020-422a35e5641d"
      },
      "source": [
        "from sklearn.metrics.pairwise import cosine_distances, cosine_similarity\n",
        "cosine_distances(X)"
      ],
      "execution_count": 451,
      "outputs": [
        {
          "output_type": "execute_result",
          "data": {
            "text/plain": [
              "array([[0.        , 1.        , 0.77207885],\n",
              "       [1.        , 0.        , 1.        ],\n",
              "       [0.77207885, 1.        , 0.        ]])"
            ]
          },
          "metadata": {
            "tags": []
          },
          "execution_count": 451
        }
      ]
    },
    {
      "cell_type": "code",
      "metadata": {
        "id": "g6Lg0zCCqFRk",
        "colab_type": "code",
        "colab": {}
      },
      "source": [
        "# distance = 1 - similiarity"
      ],
      "execution_count": 0,
      "outputs": []
    },
    {
      "cell_type": "markdown",
      "metadata": {
        "id": "FPLBB8C2to_v",
        "colab_type": "text"
      },
      "source": [
        "## 文章分群"
      ]
    },
    {
      "cell_type": "code",
      "metadata": {
        "id": "hQi4E0YitqFO",
        "colab_type": "code",
        "colab": {
          "base_uri": "https://localhost:8080/",
          "height": 375
        },
        "outputId": "0e26a897-04a9-4547-bfa5-72690c3d1fd4"
      },
      "source": [
        "import pandas\n",
        "df = pandas.read_excel('https://raw.githubusercontent.com/ywchiu/pytextmining/master/data/20150628news.xlsx', index_col = 0)\n",
        "df.head()"
      ],
      "execution_count": 453,
      "outputs": [
        {
          "output_type": "execute_result",
          "data": {
            "text/html": [
              "<div>\n",
              "<style scoped>\n",
              "    .dataframe tbody tr th:only-of-type {\n",
              "        vertical-align: middle;\n",
              "    }\n",
              "\n",
              "    .dataframe tbody tr th {\n",
              "        vertical-align: top;\n",
              "    }\n",
              "\n",
              "    .dataframe thead th {\n",
              "        text-align: right;\n",
              "    }\n",
              "</style>\n",
              "<table border=\"1\" class=\"dataframe\">\n",
              "  <thead>\n",
              "    <tr style=\"text-align: right;\">\n",
              "      <th></th>\n",
              "      <th>category</th>\n",
              "      <th>description</th>\n",
              "      <th>pubdate</th>\n",
              "      <th>title</th>\n",
              "    </tr>\n",
              "  </thead>\n",
              "  <tbody>\n",
              "    <tr>\n",
              "      <th>0</th>\n",
              "      <td>社會/生活</td>\n",
              "      <td>新北市八仙水上樂園昨晚發生粉塵爆炸，新北市衛生局統計到目前為止，由救護車送醫再加上自行送醫的...</td>\n",
              "      <td>Sun, 28 Jun 2015 07:40:00 +0800</td>\n",
              "      <td>八仙塵爆  五相關人依公共危險重傷害法辦</td>\n",
              "    </tr>\n",
              "    <tr>\n",
              "      <th>1</th>\n",
              "      <td>社會/生活</td>\n",
              "      <td>新北市八仙樂園昨天晚上(6/27)舉辦活動，過程中噴灑大量玉米粉而引發粉塵爆炸，根據最新統計...</td>\n",
              "      <td>Sun, 28 Jun 2015 07:40:00 +0800</td>\n",
              "      <td>八仙樂園意外 病患持續增加中</td>\n",
              "    </tr>\n",
              "    <tr>\n",
              "      <th>2</th>\n",
              "      <td>財經/要聞</td>\n",
              "      <td>希臘債務違約限期逼近，資金持續外流。路透社引述三間銀行的消息指出，希臘國內有3分之1的自動櫃...</td>\n",
              "      <td>Sun, 28 Jun 2015 07:40:00 +0800</td>\n",
              "      <td>希臘國內三分一自動櫃員機現金短缺</td>\n",
              "    </tr>\n",
              "    <tr>\n",
              "      <th>3</th>\n",
              "      <td>社會/生活</td>\n",
              "      <td>台鐵「新基隆車站」第一階段工程本月底完成，台鐵表示，明天（29號）啟用後，由於南站周邊道路尚...</td>\n",
              "      <td>Sun, 28 Jun 2015 07:40:00 +0800</td>\n",
              "      <td>台鐵新基隆車站29日正式啟用</td>\n",
              "    </tr>\n",
              "    <tr>\n",
              "      <th>4</th>\n",
              "      <td>財經/要聞</td>\n",
              "      <td>《中國時報》\\n●樂園變煉獄 派對驚爆 逾300人遭火紋身\\n八仙樂園昨晚舉辦「COLOR ...</td>\n",
              "      <td>Sun, 28 Jun 2015 07:38:17 +0800</td>\n",
              "      <td>6月28日各報頭版要聞</td>\n",
              "    </tr>\n",
              "  </tbody>\n",
              "</table>\n",
              "</div>"
            ],
            "text/plain": [
              "  category  ...                 title\n",
              "0    社會/生活  ...  八仙塵爆  五相關人依公共危險重傷害法辦\n",
              "1    社會/生活  ...        八仙樂園意外 病患持續增加中\n",
              "2    財經/要聞  ...      希臘國內三分一自動櫃員機現金短缺\n",
              "3    社會/生活  ...        台鐵新基隆車站29日正式啟用\n",
              "4    財經/要聞  ...           6月28日各報頭版要聞\n",
              "\n",
              "[5 rows x 4 columns]"
            ]
          },
          "metadata": {
            "tags": []
          },
          "execution_count": 453
        }
      ]
    },
    {
      "cell_type": "code",
      "metadata": {
        "id": "Xi4X9PNRtt-u",
        "colab_type": "code",
        "colab": {
          "base_uri": "https://localhost:8080/",
          "height": 35
        },
        "outputId": "fada4a46-d2f7-4980-8548-50c10b233155"
      },
      "source": [
        "len(df)"
      ],
      "execution_count": 454,
      "outputs": [
        {
          "output_type": "execute_result",
          "data": {
            "text/plain": [
              "147"
            ]
          },
          "metadata": {
            "tags": []
          },
          "execution_count": 454
        }
      ]
    },
    {
      "cell_type": "code",
      "metadata": {
        "id": "XetGScrttzKw",
        "colab_type": "code",
        "colab": {}
      },
      "source": [
        "import jieba\n",
        "corpus = []\n",
        "titles = []\n",
        "for idx, rec in df.iterrows():\n",
        "  corpus.append(' '.join(jieba.cut(rec.get('description'))))\n",
        "  titles.append(rec.get('title'))"
      ],
      "execution_count": 0,
      "outputs": []
    },
    {
      "cell_type": "code",
      "metadata": {
        "id": "oYuEudgbuKBP",
        "colab_type": "code",
        "colab": {}
      },
      "source": [
        "from sklearn.feature_extraction.text import CountVectorizer\n",
        "vectorizer = CountVectorizer()\n",
        "X = vectorizer.fit_transform(corpus)"
      ],
      "execution_count": 0,
      "outputs": []
    },
    {
      "cell_type": "code",
      "metadata": {
        "id": "5GxLFhlEuLUf",
        "colab_type": "code",
        "colab": {
          "base_uri": "https://localhost:8080/",
          "height": 52
        },
        "outputId": "a2428ff3-6d02-43d1-f363-0001ef478cf5"
      },
      "source": [
        "X"
      ],
      "execution_count": 458,
      "outputs": [
        {
          "output_type": "execute_result",
          "data": {
            "text/plain": [
              "<147x12830 sparse matrix of type '<class 'numpy.int64'>'\n",
              "\twith 23784 stored elements in Compressed Sparse Row format>"
            ]
          },
          "metadata": {
            "tags": []
          },
          "execution_count": 458
        }
      ]
    },
    {
      "cell_type": "code",
      "metadata": {
        "id": "PS5b3mQxub3Q",
        "colab_type": "code",
        "colab": {}
      },
      "source": [
        "from sklearn.metrics.pairwise import cosine_distances\n",
        "cs = cosine_distances(X)"
      ],
      "execution_count": 0,
      "outputs": []
    },
    {
      "cell_type": "code",
      "metadata": {
        "id": "rQKc1V5XunQg",
        "colab_type": "code",
        "colab": {
          "base_uri": "https://localhost:8080/",
          "height": 35
        },
        "outputId": "e8b9b35a-77c6-4291-a247-599efded9a8f"
      },
      "source": [
        "cs.shape"
      ],
      "execution_count": 461,
      "outputs": [
        {
          "output_type": "execute_result",
          "data": {
            "text/plain": [
              "(147, 147)"
            ]
          },
          "metadata": {
            "tags": []
          },
          "execution_count": 461
        }
      ]
    },
    {
      "cell_type": "code",
      "metadata": {
        "id": "8TJZH45lurYB",
        "colab_type": "code",
        "colab": {}
      },
      "source": [
        "from sklearn.cluster import KMeans\n",
        "kmeans = KMeans(n_clusters= 4, init = 'k-means++', random_state = 42)"
      ],
      "execution_count": 0,
      "outputs": []
    },
    {
      "cell_type": "code",
      "metadata": {
        "id": "esf-qv7Uu1Jx",
        "colab_type": "code",
        "colab": {}
      },
      "source": [
        "topics = kmeans.fit_predict(cs)"
      ],
      "execution_count": 0,
      "outputs": []
    },
    {
      "cell_type": "code",
      "metadata": {
        "id": "mwkv1Xjmu_RR",
        "colab_type": "code",
        "colab": {
          "base_uri": "https://localhost:8080/",
          "height": 312
        },
        "outputId": "7b971965-1576-476c-e998-b16d905e5d33"
      },
      "source": [
        "np_titles = np.array(titles)\n",
        "for rec in np_titles[topics == 3]:\n",
        "  print(rec)"
      ],
      "execution_count": 484,
      "outputs": [
        {
          "output_type": "stream",
          "text": [
            "羅志祥哭了 蔡依林讚表現很好\n",
            "蔡依林淚奪金曲 錦榮傳訊恭喜\n",
            "陳奕迅、張惠妹稱王封后  蔡依林抱回最大獎\n",
            "陳奕迅、莫文蔚伴侶均不知阿娜答金曲獲獎\n",
            "金曲26／蔡依林擒３獎大勝　淚崩再挺婚姻平權\n",
            "金曲26／張惠妹奪歌后卻失落　要世界感受彩虹力量\n",
            "金曲26／蔡依林淚奪最佳專輯＋完整得獎名單\n",
            "僅次Jolin！徐佳瑩入圍6獎全槓被封遺珠\n",
            "金曲最風光！蔡依林紅毯全勝又獲3獎成大贏家\n",
            "張惠妹3度封后  想破江蕙紀錄\n",
            "金曲26／陳奕迅稱王謝台灣　張惠妹封后秒噴淚\n",
            "蔡依林呸大贏家  金曲最佳專輯獎\n",
            "陳奕迅二度打敗歌神  金曲歌王好嗨\n",
            "金曲獎完整得獎名單！阿妹封后 陳奕迅稱王\n",
            "第26屆金曲獎 陳奕迅奪歌王、阿妹封歌后\n",
            "金曲最佳國語專輯：呸\n",
            "《金曲26》2015金曲獎得獎名單 線上直播懶人包\n"
          ],
          "name": "stdout"
        }
      ]
    },
    {
      "cell_type": "code",
      "metadata": {
        "id": "qxWL1fWAvF_R",
        "colab_type": "code",
        "colab": {}
      },
      "source": [
        "from sklearn.metrics import silhouette_score\n",
        "sil_ary = []\n",
        "for k in range(2,11):\n",
        "  km = KMeans(n_clusters = k, init='k-means++', random_state=42)\n",
        "  c = km.fit_predict(cs)\n",
        "  sil_ary.append(silhouette_score(cs, labels=c))"
      ],
      "execution_count": 0,
      "outputs": []
    },
    {
      "cell_type": "code",
      "metadata": {
        "id": "oK7vbMXZv2y2",
        "colab_type": "code",
        "colab": {
          "base_uri": "https://localhost:8080/",
          "height": 297
        },
        "outputId": "1aa577cd-31b3-400d-e986-1c1035db477f"
      },
      "source": [
        "plt.plot(range(2,11), sil_ary)"
      ],
      "execution_count": 478,
      "outputs": [
        {
          "output_type": "execute_result",
          "data": {
            "text/plain": [
              "[<matplotlib.lines.Line2D at 0x7f1b305d26a0>]"
            ]
          },
          "metadata": {
            "tags": []
          },
          "execution_count": 478
        },
        {
          "output_type": "display_data",
          "data": {
            "image/png": "[encoded data removed]",
            "text/plain": [
              "<Figure size 432x288 with 1 Axes>"
            ]
          },
          "metadata": {
            "tags": []
          }
        }
      ]
    },
    {
      "cell_type": "code",
      "metadata": {
        "id": "b7GUUtzcv_wE",
        "colab_type": "code",
        "colab": {}
      },
      "source": [
        "import pandas\n",
        "df = pandas.read_excel('https://raw.githubusercontent.com/ywchiu/pytextmining/master/data/20171214news.xlsx')"
      ],
      "execution_count": 0,
      "outputs": []
    },
    {
      "cell_type": "code",
      "metadata": {
        "id": "Oaui5Diqwa7m",
        "colab_type": "code",
        "colab": {
          "base_uri": "https://localhost:8080/",
          "height": 1000
        },
        "outputId": "0859883c-2481-44b7-cae2-26cc8ce32e7e"
      },
      "source": [
        "df.head()"
      ],
      "execution_count": 486,
      "outputs": [
        {
          "output_type": "execute_result",
          "data": {
            "text/html": [
              "<div>\n",
              "<style scoped>\n",
              "    .dataframe tbody tr th:only-of-type {\n",
              "        vertical-align: middle;\n",
              "    }\n",
              "\n",
              "    .dataframe tbody tr th {\n",
              "        vertical-align: top;\n",
              "    }\n",
              "\n",
              "    .dataframe thead th {\n",
              "        text-align: right;\n",
              "    }\n",
              "</style>\n",
              "<table border=\"1\" class=\"dataframe\">\n",
              "  <thead>\n",
              "    <tr style=\"text-align: right;\">\n",
              "      <th></th>\n",
              "      <th>Unnamed: 0</th>\n",
              "      <th>category</th>\n",
              "      <th>content</th>\n",
              "      <th>link</th>\n",
              "      <th>title</th>\n",
              "    </tr>\n",
              "  </thead>\n",
              "  <tbody>\n",
              "    <tr>\n",
              "      <th>0</th>\n",
              "      <td>0</td>\n",
              "      <td>政治</td>\n",
              "      <td>新增：立委說法民進黨立法院黨團預計在明天的院會中，讓改制農田水利會的《農田水利會組織通則》修...</td>\n",
              "      <td>https://tw.news.appledaily.com/politics/realti...</td>\n",
              "      <td>【更新】水利會改官派明闖關　綠委24小時前顧議場大門防藍突襲</td>\n",
              "    </tr>\n",
              "    <tr>\n",
              "      <th>1</th>\n",
              "      <td>1</td>\n",
              "      <td>論壇</td>\n",
              "      <td>邱俊棠／台中市民、見習醫師；曾任台灣醫學生聯合會對外副會長對於公民參與公眾事務而能得到單位首...</td>\n",
              "      <td>https://tw.news.appledaily.com/forum/realtime/...</td>\n",
              "      <td>請中市府為所當為 加速中火燃煤限制</td>\n",
              "    </tr>\n",
              "    <tr>\n",
              "      <th>2</th>\n",
              "      <td>2</td>\n",
              "      <td>社會</td>\n",
              "      <td>被控來台涉發展情報組織的中國學生周泓旭，因接觸我方外交部官員而露餡落網，今年9月被台北地院一...</td>\n",
              "      <td>https://tw.news.appledaily.com/local/realtime/...</td>\n",
              "      <td>陸生共諜嗆台司法　「不敢公開審理我」</td>\n",
              "    </tr>\n",
              "    <tr>\n",
              "      <th>3</th>\n",
              "      <td>3</td>\n",
              "      <td>生活</td>\n",
              "      <td>【廣編特輯】 對於全能神教會在中國所遭受的迫害與在韓國、香港及臺灣所面對的反面宣傳，非政府組...</td>\n",
              "      <td>https://tw.news.appledaily.com/life/realtime/2...</td>\n",
              "      <td>【特企】NGO聯名譴責中共迫害宗教信仰</td>\n",
              "    </tr>\n",
              "    <tr>\n",
              "      <th>4</th>\n",
              "      <td>4</td>\n",
              "      <td>生活</td>\n",
              "      <td>立法院交通委員會今審查《道路交通管理處罰條例》，通過營業大客車駕駛人行駛一般道路未繫安全帶，...</td>\n",
              "      <td>https://tw.news.appledaily.com/life/realtime/2...</td>\n",
              "      <td>乘客搭大客車不配合繫安全帶　立院初審通過可罰6千元</td>\n",
              "    </tr>\n",
              "  </tbody>\n",
              "</table>\n",
              "</div>"
            ],
            "text/plain": [
              "   Unnamed: 0  ...                           title\n",
              "0           0  ...  【更新】水利會改官派明闖關　綠委24小時前顧議場大門防藍突襲\n",
              "1           1  ...               請中市府為所當為 加速中火燃煤限制\n",
              "2           2  ...              陸生共諜嗆台司法　「不敢公開審理我」\n",
              "3           3  ...             【特企】NGO聯名譴責中共迫害宗教信仰\n",
              "4           4  ...       乘客搭大客車不配合繫安全帶　立院初審通過可罰6千元\n",
              "\n",
              "[5 rows x 5 columns]"
            ]
          },
          "metadata": {
            "tags": []
          },
          "execution_count": 486
        }
      ]
    },
    {
      "cell_type": "code",
      "metadata": {
        "id": "hf_i_7mDwbz2",
        "colab_type": "code",
        "colab": {}
      },
      "source": [
        "import jieba\n",
        "corpus = []\n",
        "titles = []\n",
        "for idx, rec in df.iterrows():\n",
        "  corpus.append(' '.join(jieba.cut(rec.get('content'))))\n",
        "  titles.append(rec.get('title'))"
      ],
      "execution_count": 0,
      "outputs": []
    },
    {
      "cell_type": "code",
      "metadata": {
        "id": "ctGdYAJ1wjjG",
        "colab_type": "code",
        "colab": {}
      },
      "source": [
        "from sklearn.feature_extraction.text import CountVectorizer\n",
        "vectorizer = CountVectorizer()\n",
        "X = vectorizer.fit_transform(corpus)"
      ],
      "execution_count": 0,
      "outputs": []
    },
    {
      "cell_type": "code",
      "metadata": {
        "id": "N2O6yvQCwmx2",
        "colab_type": "code",
        "colab": {}
      },
      "source": [
        "from sklearn.metrics.pairwise import cosine_distances\n",
        "cs = cosine_distances(X)"
      ],
      "execution_count": 0,
      "outputs": []
    },
    {
      "cell_type": "code",
      "metadata": {
        "id": "zvCM6fTPwqGW",
        "colab_type": "code",
        "colab": {}
      },
      "source": [
        "from sklearn.metrics import silhouette_score\n",
        "sil_ary = []\n",
        "for k in range(2,11):\n",
        "  km = KMeans(n_clusters = k, init='k-means++', random_state=42)\n",
        "  c = km.fit_predict(cs)\n",
        "  sil_ary.append(silhouette_score(cs, labels=c))"
      ],
      "execution_count": 0,
      "outputs": []
    },
    {
      "cell_type": "code",
      "metadata": {
        "id": "eIMEvsBUwt2W",
        "colab_type": "code",
        "colab": {
          "base_uri": "https://localhost:8080/",
          "height": 297
        },
        "outputId": "1c753738-0f4b-47c4-9594-efc5d8d6689e"
      },
      "source": [
        "plt.plot(range(2,11), sil_ary)"
      ],
      "execution_count": 491,
      "outputs": [
        {
          "output_type": "execute_result",
          "data": {
            "text/plain": [
              "[<matplotlib.lines.Line2D at 0x7f1b31614fd0>]"
            ]
          },
          "metadata": {
            "tags": []
          },
          "execution_count": 491
        },
        {
          "output_type": "display_data",
          "data": {
            "image/png": "[encoded data removed]",
            "text/plain": [
              "<Figure size 432x288 with 1 Axes>"
            ]
          },
          "metadata": {
            "tags": []
          }
        }
      ]
    },
    {
      "cell_type": "code",
      "metadata": {
        "id": "x7WwZVbxwx62",
        "colab_type": "code",
        "colab": {
          "base_uri": "https://localhost:8080/",
          "height": 35
        },
        "outputId": "5b158560-cbad-4e8a-a224-f7bab52943cb"
      },
      "source": [
        "len(df)"
      ],
      "execution_count": 492,
      "outputs": [
        {
          "output_type": "execute_result",
          "data": {
            "text/plain": [
              "899"
            ]
          },
          "metadata": {
            "tags": []
          },
          "execution_count": 492
        }
      ]
    },
    {
      "cell_type": "code",
      "metadata": {
        "id": "rsb4yFEMw1WX",
        "colab_type": "code",
        "colab": {}
      },
      "source": [
        "from sklearn.cluster import KMeans\n",
        "kmeans = KMeans(n_clusters= 10, init = 'k-means++', random_state = 42)"
      ],
      "execution_count": 0,
      "outputs": []
    },
    {
      "cell_type": "code",
      "metadata": {
        "id": "pWLrHWq-w6N2",
        "colab_type": "code",
        "colab": {}
      },
      "source": [
        "topics = kmeans.fit_predict(cs)"
      ],
      "execution_count": 0,
      "outputs": []
    },
    {
      "cell_type": "code",
      "metadata": {
        "id": "gDK-9Njpw9o3",
        "colab_type": "code",
        "colab": {}
      },
      "source": [
        "np_titles = np.array(titles)\n",
        "#for rec in np_titles[topics == 5]:\n",
        "#  print(rec)"
      ],
      "execution_count": 0,
      "outputs": []
    },
    {
      "cell_type": "code",
      "metadata": {
        "id": "f-I1vZGdxA3n",
        "colab_type": "code",
        "colab": {}
      },
      "source": [
        "m = (cs < 0.5).astype(int)"
      ],
      "execution_count": 0,
      "outputs": []
    },
    {
      "cell_type": "code",
      "metadata": {
        "id": "JKtNLZp8yl-t",
        "colab_type": "code",
        "colab": {
          "base_uri": "https://localhost:8080/",
          "height": 139
        },
        "outputId": "dd442d81-8c32-4682-d9f5-76aa81f46947"
      },
      "source": [
        "m"
      ],
      "execution_count": 503,
      "outputs": [
        {
          "output_type": "execute_result",
          "data": {
            "text/plain": [
              "array([[1, 0, 0, ..., 0, 0, 0],\n",
              "       [0, 1, 0, ..., 0, 0, 0],\n",
              "       [0, 0, 1, ..., 0, 0, 0],\n",
              "       ...,\n",
              "       [0, 0, 0, ..., 1, 0, 0],\n",
              "       [0, 0, 0, ..., 0, 1, 0],\n",
              "       [0, 0, 0, ..., 0, 0, 1]])"
            ]
          },
          "metadata": {
            "tags": []
          },
          "execution_count": 503
        }
      ]
    },
    {
      "cell_type": "code",
      "metadata": {
        "id": "cVVhui0Wy84M",
        "colab_type": "code",
        "colab": {
          "base_uri": "https://localhost:8080/",
          "height": 319
        },
        "outputId": "f3ecdc4e-3caf-4ecd-e886-1efac88cf40b"
      },
      "source": [
        "import networkx as nx\n",
        "G = nx.Graph()\n",
        "G.add_node('A')\n",
        "G.add_node('B')\n",
        "G.add_node('C')\n",
        "G.add_edge('A', 'B')\n",
        "G.add_edge('A', 'C')\n",
        "G.add_edge('B', 'C')\n",
        "nx.draw(G)"
      ],
      "execution_count": 506,
      "outputs": [
        {
          "output_type": "display_data",
          "data": {
            "image/png": "[encoded data removed]",
            "text/plain": [
              "<Figure size 432x288 with 1 Axes>"
            ]
          },
          "metadata": {
            "tags": []
          }
        }
      ]
    },
    {
      "cell_type": "code",
      "metadata": {
        "id": "HcOnSaI_zOQ2",
        "colab_type": "code",
        "colab": {
          "base_uri": "https://localhost:8080/",
          "height": 69
        },
        "outputId": "48e4d831-9224-47dd-b5a1-378d1bf3a0c9"
      },
      "source": [
        "nx.adjacency_matrix(G).toarray()"
      ],
      "execution_count": 508,
      "outputs": [
        {
          "output_type": "execute_result",
          "data": {
            "text/plain": [
              "array([[0, 1, 1],\n",
              "       [1, 0, 1],\n",
              "       [1, 1, 0]], dtype=int64)"
            ]
          },
          "metadata": {
            "tags": []
          },
          "execution_count": 508
        }
      ]
    },
    {
      "cell_type": "code",
      "metadata": {
        "id": "HkR4fM6ZyxJM",
        "colab_type": "code",
        "colab": {}
      },
      "source": [
        "import networkx as nx\n",
        "G = nx.from_numpy_matrix(m)"
      ],
      "execution_count": 0,
      "outputs": []
    },
    {
      "cell_type": "code",
      "metadata": {
        "id": "SirNI114y6Vc",
        "colab_type": "code",
        "colab": {}
      },
      "source": [
        "import community\n",
        "comm = community.best_partition(G)\n",
        "cluster_ary = np.array(list(comm.values()) )"
      ],
      "execution_count": 0,
      "outputs": []
    },
    {
      "cell_type": "code",
      "metadata": {
        "id": "8DeCETtKzsB4",
        "colab_type": "code",
        "colab": {}
      },
      "source": [
        "titles_ary = np.array(titles)"
      ],
      "execution_count": 0,
      "outputs": []
    },
    {
      "cell_type": "code",
      "metadata": {
        "id": "sFwoA-X8zxBA",
        "colab_type": "code",
        "colab": {
          "base_uri": "https://localhost:8080/",
          "height": 191
        },
        "outputId": "888b7aa9-7319-4bef-bb65-637da0074640"
      },
      "source": [
        "c.most_common(10)"
      ],
      "execution_count": 516,
      "outputs": [
        {
          "output_type": "execute_result",
          "data": {
            "text/plain": [
              "[(3, 30),\n",
              " (70, 13),\n",
              " (114, 7),\n",
              " (201, 4),\n",
              " (341, 4),\n",
              " (17, 3),\n",
              " (45, 3),\n",
              " (141, 3),\n",
              " (185, 3),\n",
              " (246, 3)]"
            ]
          },
          "metadata": {
            "tags": []
          },
          "execution_count": 516
        }
      ]
    },
    {
      "cell_type": "code",
      "metadata": {
        "id": "FDl3qsc_z1kH",
        "colab_type": "code",
        "colab": {
          "base_uri": "https://localhost:8080/",
          "height": 87
        },
        "outputId": "057bb5f0-5cf0-4e98-a158-f22a9cdd32c4"
      },
      "source": [
        "for rec in titles_ary[cluster_ary == 341]:\n",
        "  print(rec)"
      ],
      "execution_count": 523,
      "outputs": [
        {
          "output_type": "stream",
          "text": [
            "【壹週刊】百億貸款將到期　柯P放容積解套京華城\n",
            "560%容積爭議　威京：只是拿回應有的\n",
            "京華城容積率增至560%案　北市都發局同意、待都委會審議\n",
            "及時雨！柯文哲放寬容積　京華城爽納百億\n"
          ],
          "name": "stdout"
        }
      ]
    },
    {
      "cell_type": "markdown",
      "metadata": {
        "id": "-pZsMeno2l-N",
        "colab_type": "text"
      },
      "source": [
        "## 文章分類"
      ]
    },
    {
      "cell_type": "code",
      "metadata": {
        "id": "5FVqK4RRzjv-",
        "colab_type": "code",
        "colab": {}
      },
      "source": [
        "import pandas\n",
        "df = pandas.read_excel('https://raw.githubusercontent.com/ywchiu/pytextmining/master/data/20171214news.xlsx', index_col = 0)"
      ],
      "execution_count": 0,
      "outputs": []
    },
    {
      "cell_type": "code",
      "metadata": {
        "id": "wm99madI2nT4",
        "colab_type": "code",
        "colab": {
          "base_uri": "https://localhost:8080/",
          "height": 661
        },
        "outputId": "a883ed8e-012d-4a82-e16b-3ad47a159c6d"
      },
      "source": [
        "df.head(3)"
      ],
      "execution_count": 527,
      "outputs": [
        {
          "output_type": "execute_result",
          "data": {
            "text/html": [
              "<div>\n",
              "<style scoped>\n",
              "    .dataframe tbody tr th:only-of-type {\n",
              "        vertical-align: middle;\n",
              "    }\n",
              "\n",
              "    .dataframe tbody tr th {\n",
              "        vertical-align: top;\n",
              "    }\n",
              "\n",
              "    .dataframe thead th {\n",
              "        text-align: right;\n",
              "    }\n",
              "</style>\n",
              "<table border=\"1\" class=\"dataframe\">\n",
              "  <thead>\n",
              "    <tr style=\"text-align: right;\">\n",
              "      <th></th>\n",
              "      <th>category</th>\n",
              "      <th>content</th>\n",
              "      <th>link</th>\n",
              "      <th>title</th>\n",
              "    </tr>\n",
              "  </thead>\n",
              "  <tbody>\n",
              "    <tr>\n",
              "      <th>0</th>\n",
              "      <td>政治</td>\n",
              "      <td>新增：立委說法民進黨立法院黨團預計在明天的院會中，讓改制農田水利會的《農田水利會組織通則》修...</td>\n",
              "      <td>https://tw.news.appledaily.com/politics/realti...</td>\n",
              "      <td>【更新】水利會改官派明闖關　綠委24小時前顧議場大門防藍突襲</td>\n",
              "    </tr>\n",
              "    <tr>\n",
              "      <th>1</th>\n",
              "      <td>論壇</td>\n",
              "      <td>邱俊棠／台中市民、見習醫師；曾任台灣醫學生聯合會對外副會長對於公民參與公眾事務而能得到單位首...</td>\n",
              "      <td>https://tw.news.appledaily.com/forum/realtime/...</td>\n",
              "      <td>請中市府為所當為 加速中火燃煤限制</td>\n",
              "    </tr>\n",
              "    <tr>\n",
              "      <th>2</th>\n",
              "      <td>社會</td>\n",
              "      <td>被控來台涉發展情報組織的中國學生周泓旭，因接觸我方外交部官員而露餡落網，今年9月被台北地院一...</td>\n",
              "      <td>https://tw.news.appledaily.com/local/realtime/...</td>\n",
              "      <td>陸生共諜嗆台司法　「不敢公開審理我」</td>\n",
              "    </tr>\n",
              "  </tbody>\n",
              "</table>\n",
              "</div>"
            ],
            "text/plain": [
              "  category  ...                           title\n",
              "0       政治  ...  【更新】水利會改官派明闖關　綠委24小時前顧議場大門防藍突襲\n",
              "1       論壇  ...               請中市府為所當為 加速中火燃煤限制\n",
              "2       社會  ...              陸生共諜嗆台司法　「不敢公開審理我」\n",
              "\n",
              "[3 rows x 4 columns]"
            ]
          },
          "metadata": {
            "tags": []
          },
          "execution_count": 527
        }
      ]
    },
    {
      "cell_type": "code",
      "metadata": {
        "id": "cBSudThd2pNH",
        "colab_type": "code",
        "colab": {}
      },
      "source": [
        "corpus = []\n",
        "titles = []\n",
        "tags = []\n",
        "for idx, rec in df[df['category'].isin(['社會', '娛樂'])].iterrows():\n",
        "  corpus.append(' '.join(jieba.cut(rec.get('content'))))\n",
        "  titles.append(rec.get('title'))\n",
        "  tags.append(rec.get('category'))"
      ],
      "execution_count": 0,
      "outputs": []
    },
    {
      "cell_type": "code",
      "metadata": {
        "id": "PbPss68S3Ikv",
        "colab_type": "code",
        "colab": {}
      },
      "source": [
        "from sklearn.feature_extraction.text import CountVectorizer, TfidfVectorizer\n",
        "vectorizer = CountVectorizer()\n",
        "X = vectorizer.fit_transform(corpus)"
      ],
      "execution_count": 0,
      "outputs": []
    },
    {
      "cell_type": "code",
      "metadata": {
        "id": "LaoaQtus3V36",
        "colab_type": "code",
        "colab": {
          "base_uri": "https://localhost:8080/",
          "height": 52
        },
        "outputId": "aa9a1848-8639-42d3-80bb-cdbdefb09850"
      },
      "source": [
        "X"
      ],
      "execution_count": 530,
      "outputs": [
        {
          "output_type": "execute_result",
          "data": {
            "text/plain": [
              "<247x13883 sparse matrix of type '<class 'numpy.int64'>'\n",
              "\twith 32161 stored elements in Compressed Sparse Row format>"
            ]
          },
          "metadata": {
            "tags": []
          },
          "execution_count": 530
        }
      ]
    },
    {
      "cell_type": "code",
      "metadata": {
        "id": "VrR4q5aG3Wi3",
        "colab_type": "code",
        "colab": {}
      },
      "source": [
        "y = tags"
      ],
      "execution_count": 0,
      "outputs": []
    },
    {
      "cell_type": "code",
      "metadata": {
        "id": "XontoOF03gKa",
        "colab_type": "code",
        "colab": {}
      },
      "source": [
        "from sklearn.model_selection import train_test_split\n",
        "train_X, test_X, train_y, test_y, train_titles, test_titles = train_test_split(X,y,titles, test_size = 0.3, random_state = 42)"
      ],
      "execution_count": 0,
      "outputs": []
    },
    {
      "cell_type": "code",
      "metadata": {
        "id": "aMpOlBxo3rWb",
        "colab_type": "code",
        "colab": {
          "base_uri": "https://localhost:8080/",
          "height": 35
        },
        "outputId": "d2a18830-85a3-4c13-e796-52025c563ce5"
      },
      "source": [
        "from sklearn.naive_bayes import MultinomialNB\n",
        "clf = MultinomialNB(alpha=0.01)\n",
        "clf.fit(train_X,train_y)"
      ],
      "execution_count": 540,
      "outputs": [
        {
          "output_type": "execute_result",
          "data": {
            "text/plain": [
              "MultinomialNB(alpha=0.01, class_prior=None, fit_prior=True)"
            ]
          },
          "metadata": {
            "tags": []
          },
          "execution_count": 540
        }
      ]
    },
    {
      "cell_type": "code",
      "metadata": {
        "id": "cqRFQPc83_SM",
        "colab_type": "code",
        "colab": {}
      },
      "source": [
        "predicted = clf.predict(test_X)"
      ],
      "execution_count": 0,
      "outputs": []
    },
    {
      "cell_type": "code",
      "metadata": {
        "id": "P9TRg-2h4Cs7",
        "colab_type": "code",
        "colab": {
          "base_uri": "https://localhost:8080/",
          "height": 35
        },
        "outputId": "0c189648-3891-4073-c1ec-b8695a70a7e2"
      },
      "source": [
        "from sklearn.metrics import accuracy_score, confusion_matrix\n",
        "accuracy_score(test_y,predicted)"
      ],
      "execution_count": 542,
      "outputs": [
        {
          "output_type": "execute_result",
          "data": {
            "text/plain": [
              "0.9866666666666667"
            ]
          },
          "metadata": {
            "tags": []
          },
          "execution_count": 542
        }
      ]
    },
    {
      "cell_type": "code",
      "metadata": {
        "id": "fRfXUegl4Pag",
        "colab_type": "code",
        "colab": {
          "base_uri": "https://localhost:8080/",
          "height": 35
        },
        "outputId": "4dc728b0-abd7-4f38-c6c4-0ba5b04f476e"
      },
      "source": [
        "clf.classes_"
      ],
      "execution_count": 543,
      "outputs": [
        {
          "output_type": "execute_result",
          "data": {
            "text/plain": [
              "array(['娛樂', '社會'], dtype='<U2')"
            ]
          },
          "metadata": {
            "tags": []
          },
          "execution_count": 543
        }
      ]
    },
    {
      "cell_type": "code",
      "metadata": {
        "id": "lA8MgBbp4Kpr",
        "colab_type": "code",
        "colab": {
          "base_uri": "https://localhost:8080/",
          "height": 52
        },
        "outputId": "727e9d48-2031-4e49-9243-2c43d4704366"
      },
      "source": [
        "confusion_matrix(test_y, predicted)"
      ],
      "execution_count": 544,
      "outputs": [
        {
          "output_type": "execute_result",
          "data": {
            "text/plain": [
              "array([[32,  0],\n",
              "       [ 1, 42]])"
            ]
          },
          "metadata": {
            "tags": []
          },
          "execution_count": 544
        }
      ]
    },
    {
      "cell_type": "code",
      "metadata": {
        "id": "lTVRkffd4pKq",
        "colab_type": "code",
        "colab": {}
      },
      "source": [
        "#test_titles"
      ],
      "execution_count": 0,
      "outputs": []
    },
    {
      "cell_type": "code",
      "metadata": {
        "id": "OZAsYUd14OOQ",
        "colab_type": "code",
        "colab": {
          "base_uri": "https://localhost:8080/",
          "height": 35
        },
        "outputId": "4e43008b-98a6-422c-b165-75da9e3e4915"
      },
      "source": [
        "np_test_titles = np.array(test_titles)\n",
        "np_test_titles[test_y != predicted]"
      ],
      "execution_count": 550,
      "outputs": [
        {
          "output_type": "execute_result",
          "data": {
            "text/plain": [
              "array(['【K律師論點】離婚＝失敗？\\u3000K律師這麼說'], dtype='<U36')"
            ]
          },
          "metadata": {
            "tags": []
          },
          "execution_count": 550
        }
      ]
    },
    {
      "cell_type": "code",
      "metadata": {
        "id": "yofgKNY64nTr",
        "colab_type": "code",
        "colab": {
          "base_uri": "https://localhost:8080/",
          "height": 364
        },
        "outputId": "5539959a-a0ea-4b81-be0f-4f4b12357dda"
      },
      "source": [
        "import operator\n",
        "coef_features_c1_c2 = []\n",
        "for index, features in enumerate(zip(vectorizer.get_feature_names(), \\\n",
        "  clf.feature_count_[0], clf.feature_count_[1])):\n",
        "  feat,c1,c2 = features\n",
        "  coef_features_c1_c2.append(tuple([c2/(c1 + 1), feat, c1, c2]))\n",
        "\n",
        "for i in sorted(coef_features_c1_c2, key = operator.itemgetter(0),reverse=True)[0:20]:\n",
        "  print(i)\n"
      ],
      "execution_count": 552,
      "outputs": [
        {
          "output_type": "stream",
          "text": [
            "(64.0, '男子', 0.0, 64.0)\n",
            "(38.0, '突發', 0.0, 38.0)\n",
            "(34.0, '機車', 0.0, 34.0)\n",
            "(32.0, '警員', 0.0, 32.0)\n",
            "(31.0, '法官', 0.0, 31.0)\n",
            "(30.2, '警方', 4.0, 151.0)\n",
            "(30.0, '少年', 0.0, 30.0)\n",
            "(30.0, '派出所', 0.0, 30.0)\n",
            "(29.0, '進行', 0.0, 29.0)\n",
            "(25.0, '女友', 0.0, 25.0)\n",
            "(25.0, '新北', 0.0, 25.0)\n",
            "(24.0, '分局', 0.0, 24.0)\n",
            "(24.0, '警察', 0.0, 24.0)\n",
            "(23.0, '審團', 0.0, 23.0)\n",
            "(23.0, '時許', 0.0, 23.0)\n",
            "(23.0, '消防局', 0.0, 23.0)\n",
            "(22.0, '包商', 0.0, 22.0)\n",
            "(22.0, '報警', 0.0, 22.0)\n",
            "(22.0, '專線', 0.0, 22.0)\n",
            "(22.0, '被告', 0.0, 22.0)\n"
          ],
          "name": "stdout"
        }
      ]
    },
    {
      "cell_type": "code",
      "metadata": {
        "id": "x0p9vk0K5lCS",
        "colab_type": "code",
        "colab": {
          "base_uri": "https://localhost:8080/",
          "height": 364
        },
        "outputId": "f4a66a83-3032-47ba-cd77-ff8e95a54d23"
      },
      "source": [
        "import operator\n",
        "coef_features_c1_c2 = []\n",
        "for index, features in enumerate(zip(vectorizer.get_feature_names(), \\\n",
        "  clf.feature_count_[0], clf.feature_count_[1])):\n",
        "  feat,c1,c2 = features\n",
        "  coef_features_c1_c2.append(tuple([c1/(c2 + 1), feat, c1, c2]))\n",
        "\n",
        "for i in sorted(coef_features_c1_c2, key = operator.itemgetter(0),reverse=True)[0:20]:\n",
        "  print(i)\n"
      ],
      "execution_count": 553,
      "outputs": [
        {
          "output_type": "stream",
          "text": [
            "(25.75, '小嫻', 103.0, 3.0)\n",
            "(21.0, '演出', 21.0, 0.0)\n",
            "(19.0, '何家', 19.0, 0.0)\n",
            "(15.0, '女星', 15.0, 0.0)\n",
            "(13.0, '最佳', 13.0, 0.0)\n",
            "(12.5, '婆婆', 25.0, 1.0)\n",
            "(12.0, '明年', 12.0, 0.0)\n",
            "(12.0, '節目', 12.0, 0.0)\n",
            "(12.0, '電影', 12.0, 0.0)\n",
            "(11.0, '信妙', 11.0, 0.0)\n",
            "(11.0, '娛樂', 11.0, 0.0)\n",
            "(11.0, '巴黎', 11.0, 0.0)\n",
            "(10.0, '101', 10.0, 0.0)\n",
            "(10.0, '何守', 80.0, 7.0)\n",
            "(9.0, '不同', 9.0, 0.0)\n",
            "(9.0, '妙禪', 9.0, 0.0)\n",
            "(9.0, '媳婦', 9.0, 0.0)\n",
            "(9.0, '毒菇', 9.0, 0.0)\n",
            "(9.0, '法國', 9.0, 0.0)\n",
            "(8.666666666666666, '婚變', 26.0, 2.0)\n"
          ],
          "name": "stdout"
        }
      ]
    },
    {
      "cell_type": "markdown",
      "metadata": {
        "id": "g3-ZarUv6shG",
        "colab_type": "text"
      },
      "source": [
        "## 正負情緒判斷"
      ]
    },
    {
      "cell_type": "code",
      "metadata": {
        "id": "OHMljDhe5u7Q",
        "colab_type": "code",
        "colab": {}
      },
      "source": [
        "import pandas\n",
        "df = pandas.read_excel('https://raw.githubusercontent.com/ywchiu/tibamepy/master/data/yahoo_movie.xlsx', index_col = 0)"
      ],
      "execution_count": 0,
      "outputs": []
    },
    {
      "cell_type": "code",
      "metadata": {
        "id": "rcu5UlxG65Em",
        "colab_type": "code",
        "colab": {
          "base_uri": "https://localhost:8080/",
          "height": 289
        },
        "outputId": "0e28e452-2696-4845-ac5d-aa6af56d7ae0"
      },
      "source": [
        "df.head()"
      ],
      "execution_count": 557,
      "outputs": [
        {
          "output_type": "execute_result",
          "data": {
            "text/html": [
              "<div>\n",
              "<style scoped>\n",
              "    .dataframe tbody tr th:only-of-type {\n",
              "        vertical-align: middle;\n",
              "    }\n",
              "\n",
              "    .dataframe tbody tr th {\n",
              "        vertical-align: top;\n",
              "    }\n",
              "\n",
              "    .dataframe thead th {\n",
              "        text-align: right;\n",
              "    }\n",
              "</style>\n",
              "<table border=\"1\" class=\"dataframe\">\n",
              "  <thead>\n",
              "    <tr style=\"text-align: right;\">\n",
              "      <th></th>\n",
              "      <th>content</th>\n",
              "      <th>stars</th>\n",
              "      <th>title</th>\n",
              "      <th>status</th>\n",
              "    </tr>\n",
              "  </thead>\n",
              "  <tbody>\n",
              "    <tr>\n",
              "      <th>0</th>\n",
              "      <td>不知道耶! 看完整個無感\\r\\n有種覺得就是女兒\"給蕭\"害死了老爸\\r\\n然後...既然可以...</td>\n",
              "      <td>3</td>\n",
              "      <td>古墓奇兵</td>\n",
              "      <td>soso</td>\n",
              "    </tr>\n",
              "    <tr>\n",
              "      <th>1</th>\n",
              "      <td>很好看的動作片，不會浪費錢跟時間。很久沒有這樣的探險片。可說是女版的印第安那瓊。女主角跟爸爸...</td>\n",
              "      <td>5</td>\n",
              "      <td>古墓奇兵</td>\n",
              "      <td>good</td>\n",
              "    </tr>\n",
              "    <tr>\n",
              "      <th>2</th>\n",
              "      <td>說這個不好看的話，那我還真不知道，還有什麼片是您可以去看得了。電影好看，但話說羅拉有裝可以撿...</td>\n",
              "      <td>5</td>\n",
              "      <td>古墓奇兵</td>\n",
              "      <td>good</td>\n",
              "    </tr>\n",
              "    <tr>\n",
              "      <th>3</th>\n",
              "      <td>父女重逢真的很讓人感動，五顆星。</td>\n",
              "      <td>5</td>\n",
              "      <td>古墓奇兵</td>\n",
              "      <td>good</td>\n",
              "    </tr>\n",
              "    <tr>\n",
              "      <th>4</th>\n",
              "      <td>劇情雖然老套，但仍拍出新意，古墓能殺人的方式不就是機關和毒，要求亂七八糟的觀眾，你看喪尸片看多了。</td>\n",
              "      <td>4</td>\n",
              "      <td>古墓奇兵</td>\n",
              "      <td>good</td>\n",
              "    </tr>\n",
              "  </tbody>\n",
              "</table>\n",
              "</div>"
            ],
            "text/plain": [
              "                                             content  stars title status\n",
              "0  不知道耶! 看完整個無感\\r\\n有種覺得就是女兒\"給蕭\"害死了老爸\\r\\n然後...既然可以...      3  古墓奇兵   soso\n",
              "1  很好看的動作片，不會浪費錢跟時間。很久沒有這樣的探險片。可說是女版的印第安那瓊。女主角跟爸爸...      5  古墓奇兵   good\n",
              "2  說這個不好看的話，那我還真不知道，還有什麼片是您可以去看得了。電影好看，但話說羅拉有裝可以撿...      5  古墓奇兵   good\n",
              "3                                   父女重逢真的很讓人感動，五顆星。      5  古墓奇兵   good\n",
              "4  劇情雖然老套，但仍拍出新意，古墓能殺人的方式不就是機關和毒，要求亂七八糟的觀眾，你看喪尸片看多了。      4  古墓奇兵   good"
            ]
          },
          "metadata": {
            "tags": []
          },
          "execution_count": 557
        }
      ]
    },
    {
      "cell_type": "code",
      "metadata": {
        "id": "dWRGHwaG652l",
        "colab_type": "code",
        "colab": {
          "base_uri": "https://localhost:8080/",
          "height": 121
        },
        "outputId": "471d1eb3-c99c-4db1-fd0d-e81a50a30a1c"
      },
      "source": [
        "df['title'].value_counts()"
      ],
      "execution_count": 560,
      "outputs": [
        {
          "output_type": "execute_result",
          "data": {
            "text/plain": [
              "最終騎士       452\n",
              "奧創紀元       281\n",
              "攻殼機動隊      173\n",
              "最後的絕地武士    117\n",
              "古墓奇兵        89\n",
              "Name: title, dtype: int64"
            ]
          },
          "metadata": {
            "tags": []
          },
          "execution_count": 560
        }
      ]
    },
    {
      "cell_type": "code",
      "metadata": {
        "id": "38EaXGBV7PxY",
        "colab_type": "code",
        "colab": {}
      },
      "source": [
        "import jieba\n",
        "corpus = []\n",
        "tags = []\n",
        "for idx, rec in df[df['status'].isin(['good', 'bad'])].iterrows():\n",
        "  corpus.append(' '.join(jieba.cut(rec.get('content'))))\n",
        "  tags.append(rec.get('status'))"
      ],
      "execution_count": 0,
      "outputs": []
    },
    {
      "cell_type": "code",
      "metadata": {
        "id": "3X_lf_2B7kpP",
        "colab_type": "code",
        "colab": {}
      },
      "source": [
        "from sklearn.feature_extraction.text import CountVectorizer, TfidfVectorizer\n",
        "#vectorizer = CountVectorizer()\n",
        "vectorizer = TfidfVectorizer()\n",
        "X = vectorizer.fit_transform(corpus)"
      ],
      "execution_count": 0,
      "outputs": []
    },
    {
      "cell_type": "code",
      "metadata": {
        "id": "m5G5_T-J7vA9",
        "colab_type": "code",
        "colab": {
          "base_uri": "https://localhost:8080/",
          "height": 52
        },
        "outputId": "8fca3565-a1db-487e-e27b-1f2a019e0cb9"
      },
      "source": [
        "X"
      ],
      "execution_count": 573,
      "outputs": [
        {
          "output_type": "execute_result",
          "data": {
            "text/plain": [
              "<980x5900 sparse matrix of type '<class 'numpy.float64'>'\n",
              "\twith 16897 stored elements in Compressed Sparse Row format>"
            ]
          },
          "metadata": {
            "tags": []
          },
          "execution_count": 573
        }
      ]
    },
    {
      "cell_type": "code",
      "metadata": {
        "id": "FTUULg-m7ve-",
        "colab_type": "code",
        "colab": {}
      },
      "source": [
        "y = tags"
      ],
      "execution_count": 0,
      "outputs": []
    },
    {
      "cell_type": "code",
      "metadata": {
        "id": "jvrDLLgM7z2O",
        "colab_type": "code",
        "colab": {}
      },
      "source": [
        "from sklearn.model_selection import train_test_split\n",
        "train_X, test_X, train_y, test_y = train_test_split(X,y, test_size= 0.3,random_state = 42)"
      ],
      "execution_count": 0,
      "outputs": []
    },
    {
      "cell_type": "code",
      "metadata": {
        "id": "oaKYIFpr7-er",
        "colab_type": "code",
        "colab": {
          "base_uri": "https://localhost:8080/",
          "height": 35
        },
        "outputId": "4cc14fec-3744-46de-afca-94f893713d6d"
      },
      "source": [
        "from sklearn.naive_bayes import MultinomialNB\n",
        "clf = MultinomialNB(alpha = 0.01)\n",
        "clf.fit(train_X, train_y)"
      ],
      "execution_count": 576,
      "outputs": [
        {
          "output_type": "execute_result",
          "data": {
            "text/plain": [
              "MultinomialNB(alpha=0.01, class_prior=None, fit_prior=True)"
            ]
          },
          "metadata": {
            "tags": []
          },
          "execution_count": 576
        }
      ]
    },
    {
      "cell_type": "code",
      "metadata": {
        "id": "K_aZcm-X8F6M",
        "colab_type": "code",
        "colab": {}
      },
      "source": [
        "predicted = clf.predict(test_X)"
      ],
      "execution_count": 0,
      "outputs": []
    },
    {
      "cell_type": "code",
      "metadata": {
        "id": "gY4vo3g_8Hor",
        "colab_type": "code",
        "colab": {
          "base_uri": "https://localhost:8080/",
          "height": 35
        },
        "outputId": "236852bc-f475-4537-8777-367eeb3023d1"
      },
      "source": [
        "from sklearn.metrics import accuracy_score, confusion_matrix\n",
        "accuracy_score(test_y, predicted)"
      ],
      "execution_count": 578,
      "outputs": [
        {
          "output_type": "execute_result",
          "data": {
            "text/plain": [
              "0.7653061224489796"
            ]
          },
          "metadata": {
            "tags": []
          },
          "execution_count": 578
        }
      ]
    },
    {
      "cell_type": "code",
      "metadata": {
        "id": "boTqoaky8POk",
        "colab_type": "code",
        "colab": {
          "base_uri": "https://localhost:8080/",
          "height": 52
        },
        "outputId": "28e2c714-6d54-4b89-bcc8-eb6bb81f0ff4"
      },
      "source": [
        "confusion_matrix(test_y, predicted)"
      ],
      "execution_count": 579,
      "outputs": [
        {
          "output_type": "execute_result",
          "data": {
            "text/plain": [
              "array([[ 83,  34],\n",
              "       [ 35, 142]])"
            ]
          },
          "metadata": {
            "tags": []
          },
          "execution_count": 579
        }
      ]
    },
    {
      "cell_type": "code",
      "metadata": {
        "id": "THQ0Dk2R8UH5",
        "colab_type": "code",
        "colab": {
          "base_uri": "https://localhost:8080/",
          "height": 364
        },
        "outputId": "39d9ae9d-7991-48ce-b761-18bb3eda6953"
      },
      "source": [
        "import operator\n",
        "coef_features_c1_c2 = []\n",
        "for index, features in enumerate(zip(vectorizer.get_feature_names(), \\\n",
        "  clf.feature_count_[0], clf.feature_count_[1])):\n",
        "  feat,c1,c2 = features\n",
        "  coef_features_c1_c2.append(tuple([c2/(c1 + 1), feat, c1, c2]))\n",
        "\n",
        "for i in sorted(coef_features_c1_c2, key = operator.itemgetter(0),reverse=True)[0:20]:\n",
        "  print(i)\n"
      ],
      "execution_count": 580,
      "outputs": [
        {
          "output_type": "stream",
          "text": [
            "(4.8179353022884825, '還不錯', 0.25067745442928, 6.025683059471123)\n",
            "(4.77928286369098, '好看', 5.547776108669207, 31.29367415144795)\n",
            "(4.431739249825288, '不錯', 0.5583750193620072, 6.90631173925385)\n",
            "(3.2134490748808298, '非常', 0.8090592306180422, 5.813319711034174)\n",
            "(2.9850508304316468, '希望', 0.0, 2.9850508304316468)\n",
            "(2.788027322437823, '雖然', 0.6922251230316834, 4.71796987872804)\n",
            "(2.642371114082109, '有些', 0.3279462446927951, 3.5089267980300543)\n",
            "(2.64063655354777, '爽片', 1.2301739170550365, 5.889078766144342)\n",
            "(2.510567230729631, '刺激', 0.47446888245356206, 3.701753259018453)\n",
            "(2.3875622676102197, '不過', 0.5271655312434173, 3.6462027987916996)\n",
            "(2.381804578139537, '大家', 0.7028096478031093, 4.055759814837618)\n",
            "(2.317610244969823, '感動', 0.0, 2.317610244969823)\n",
            "(2.1649980971442355, '但是', 0.7419828350659232, 3.7713895231756442)\n",
            "(2.1607565644439455, '其實', 0.6288540994060632, 3.519557187813082)\n",
            "(2.0885042689550155, '效果', 0.0, 2.0885042689550155)\n",
            "(2.0195696651610677, '期待', 1.4296069489995284, 4.906760492463981)\n",
            "(2.0, '不難', 0.0, 2.0)\n",
            "(1.99745641641195, '樓下', 0.0, 1.99745641641195)\n",
            "(1.956764651923191, '當然', 0.0, 1.956764651923191)\n",
            "(1.89999208297227, '笑點', 0.3809287058208799, 2.6237536082088146)\n"
          ],
          "name": "stdout"
        }
      ]
    },
    {
      "cell_type": "code",
      "metadata": {
        "id": "r9aQf4t78kh3",
        "colab_type": "code",
        "colab": {
          "base_uri": "https://localhost:8080/",
          "height": 364
        },
        "outputId": "7f830e9f-d056-40c5-cbd3-c46350b79cb1"
      },
      "source": [
        "import operator\n",
        "coef_features_c1_c2 = []\n",
        "for index, features in enumerate(zip(vectorizer.get_feature_names(), \\\n",
        "  clf.feature_count_[0], clf.feature_count_[1])):\n",
        "  feat,c1,c2 = features\n",
        "  coef_features_c1_c2.append(tuple([c1/(c2 + 1), feat, c1, c2]))\n",
        "\n",
        "for i in sorted(coef_features_c1_c2, key = operator.itemgetter(0),reverse=True)[0:20]:\n",
        "  print(i)\n"
      ],
      "execution_count": 581,
      "outputs": [
        {
          "output_type": "stream",
          "text": [
            "(5.473129708653799, '睡著', 7.08742424672882, 0.2949490737488992)\n",
            "(4.792868437938558, '浪費', 6.154256516095438, 0.2840445332028395)\n",
            "(3.6585428519078285, '看到', 13.329343099180784, 2.6433475399174022)\n",
            "(3.5409745549296905, '睡覺', 3.7669482242459176, 0.06381680122542249)\n",
            "(3.2197153050420724, '演什麼', 3.2197153050420724, 0.0)\n",
            "(3.200873662775316, '失望', 7.023414431232068, 1.1942179452163755)\n",
            "(2.6302487898504245, '爛片', 3.2845012276293253, 0.24874165527744874)\n",
            "(2.5847956452270666, '大爛片', 2.9986121489472772, 0.16009641012988415)\n",
            "(2.4960032136317496, '第一次', 3.1059966596004607, 0.2443880851744395)\n",
            "(2.4928224794774314, '只有', 4.363951639706871, 0.7506066619800713)\n",
            "(2.4821423830971843, '最難', 2.4821423830971843, 0.0)\n",
            "(2.385844296280842, '一顆', 3.057032484414935, 0.2813210355681509)\n",
            "(2.2468160175173875, '空洞', 3.076030980477971, 0.3690622447479354)\n",
            "(2.2266758251412324, '第五集', 2.4105218051580075, 0.08256522028980769)\n",
            "(2.184939663427423, '超難', 2.184939663427423, 0.0)\n",
            "(2.0410759834566985, '難看', 3.7235576691393777, 0.8243111473161739)\n",
            "(2.01143270873989, '有夠', 2.5322797825243093, 0.25894332508429574)\n",
            "(1.9105924945110568, '小時', 2.4241392862201945, 0.2687892856192551)\n",
            "(1.9004041786487231, '爛透', 1.9004041786487231, 0.0)\n",
            "(1.8856994530429616, '七八', 2.3784233248025903, 0.261295017593879)\n"
          ],
          "name": "stdout"
        }
      ]
    },
    {
      "cell_type": "code",
      "metadata": {
        "id": "cYm4OhDy8rLl",
        "colab_type": "code",
        "colab": {}
      },
      "source": [
        "q = '''亂七八糟是在演殺小，真是有夠難看'''\n",
        "\n",
        "q_str = ' '.join(jieba.cut(q))"
      ],
      "execution_count": 0,
      "outputs": []
    },
    {
      "cell_type": "code",
      "metadata": {
        "id": "Jk9yTJg19csP",
        "colab_type": "code",
        "colab": {}
      },
      "source": [
        "q_vec = vectorizer.transform([q_str])"
      ],
      "execution_count": 0,
      "outputs": []
    },
    {
      "cell_type": "code",
      "metadata": {
        "id": "B5KHhU7J94nK",
        "colab_type": "code",
        "colab": {
          "base_uri": "https://localhost:8080/",
          "height": 35
        },
        "outputId": "7b00ed66-1d11-4b2e-cdee-594167f5dca1"
      },
      "source": [
        "clf.predict(q_vec)"
      ],
      "execution_count": 588,
      "outputs": [
        {
          "output_type": "execute_result",
          "data": {
            "text/plain": [
              "array(['bad'], dtype='<U4')"
            ]
          },
          "metadata": {
            "tags": []
          },
          "execution_count": 588
        }
      ]
    },
    {
      "cell_type": "code",
      "metadata": {
        "id": "EAOEsIiA97Cq",
        "colab_type": "code",
        "colab": {}
      },
      "source": [
        "import pandas\n",
        "import numpy as np\n",
        "a = np.random.randint(0,2,size = (100,20))"
      ],
      "execution_count": 0,
      "outputs": []
    },
    {
      "cell_type": "code",
      "metadata": {
        "id": "RPsolgBd_vh6",
        "colab_type": "code",
        "colab": {}
      },
      "source": [
        "c = cosine_distances(a)"
      ],
      "execution_count": 0,
      "outputs": []
    },
    {
      "cell_type": "code",
      "metadata": {
        "id": "-yjBI5MnAJ03",
        "colab_type": "code",
        "colab": {
          "base_uri": "https://localhost:8080/",
          "height": 104
        },
        "outputId": "ea87150f-439c-42f4-c761-827a2e1cad08"
      },
      "source": [
        "clf = KMeans(n_clusters=3)\n",
        "clf.fit_predict(c)"
      ],
      "execution_count": 607,
      "outputs": [
        {
          "output_type": "execute_result",
          "data": {
            "text/plain": [
              "array([2, 0, 1, 0, 0, 2, 0, 1, 0, 0, 1, 1, 1, 2, 1, 1, 0, 1, 0, 0, 2, 1,\n",
              "       1, 0, 2, 0, 1, 2, 1, 2, 1, 0, 1, 2, 0, 1, 2, 0, 1, 2, 1, 2, 0, 1,\n",
              "       0, 0, 1, 2, 0, 1, 1, 0, 1, 0, 1, 2, 1, 2, 0, 1, 1, 1, 1, 1, 1, 0,\n",
              "       1, 2, 1, 1, 2, 1, 0, 1, 1, 1, 1, 1, 0, 1, 2, 0, 1, 1, 1, 0, 0, 2,\n",
              "       0, 1, 0, 0, 1, 2, 0, 2, 2, 1, 2, 2], dtype=int32)"
            ]
          },
          "metadata": {
            "tags": []
          },
          "execution_count": 607
        }
      ]
    },
    {
      "cell_type": "code",
      "metadata": {
        "id": "6lhPZatIAVOE",
        "colab_type": "code",
        "colab": {}
      },
      "source": [
        "# email: david@largitdata.com"
      ],
      "execution_count": 0,
      "outputs": []
    }
  ]
}