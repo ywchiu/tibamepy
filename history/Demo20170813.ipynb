{
 "cells": [
  {
   "cell_type": "markdown",
   "metadata": {},
   "source": [
    "## 語音辨識"
   ]
  },
  {
   "cell_type": "markdown",
   "metadata": {},
   "source": [
    "### 安裝所須套件 SpeechRecognition\n",
    "- pip install SpeechRecognition\n",
    "- https://pypi.python.org/pypi/SpeechRecognition/"
   ]
  },
  {
   "cell_type": "code",
   "execution_count": 1,
   "metadata": {
    "collapsed": false
   },
   "outputs": [
    {
     "name": "stdout",
     "output_type": "stream",
     "text": [
      "Requirement already satisfied: SpeechRecognition in c:\\programdata\\anaconda3\\lib\\site-packages\n"
     ]
    }
   ],
   "source": [
    "! pip install SpeechRecognition"
   ]
  },
  {
   "cell_type": "markdown",
   "metadata": {},
   "source": [
    "### 安裝所須套件 pyaudio\n",
    "- pip install pyaudio\n",
    "- https://pypi.python.org/pypi/PyAudio"
   ]
  },
  {
   "cell_type": "code",
   "execution_count": 2,
   "metadata": {
    "collapsed": false
   },
   "outputs": [
    {
     "name": "stdout",
     "output_type": "stream",
     "text": [
      "Requirement already satisfied: pyaudio in c:\\programdata\\anaconda3\\lib\\site-packages\n"
     ]
    }
   ],
   "source": [
    "! pip install pyaudio"
   ]
  },
  {
   "cell_type": "code",
   "execution_count": 3,
   "metadata": {
    "collapsed": true
   },
   "outputs": [],
   "source": [
    "import speech_recognition\n",
    "r = speech_recognition.Recognizer()\n",
    "\n",
    "with speech_recognition.Microphone() as source:\n",
    "    r.adjust_for_ambient_noise(source)\n",
    "    audio = r.listen(source)"
   ]
  },
  {
   "cell_type": "code",
   "execution_count": 4,
   "metadata": {
    "collapsed": false
   },
   "outputs": [
    {
     "data": {
      "text/plain": [
       "'家早安你好今天來上課'"
      ]
     },
     "execution_count": 4,
     "metadata": {},
     "output_type": "execute_result"
    }
   ],
   "source": [
    "r.recognize_google(audio, language='zh-TW')"
   ]
  },
  {
   "cell_type": "markdown",
   "metadata": {},
   "source": [
    "## OCR 辨識"
   ]
  },
  {
   "cell_type": "markdown",
   "metadata": {},
   "source": [
    "### 安裝所須套件 pytesseract\n",
    "- pip install pytesseract\n",
    "- https://github.com/tesseract-ocr/tesseract/wiki/4.0-with-LSTM#400-alpha-for-windows\n",
    "- http://digi.bib.uni-mannheim.de/tesseract/tesseract-ocr-setup-4.00.00dev.exe"
   ]
  },
  {
   "cell_type": "code",
   "execution_count": null,
   "metadata": {
    "collapsed": true
   },
   "outputs": [],
   "source": [
    "! pip install pytesseract"
   ]
  },
  {
   "cell_type": "code",
   "execution_count": 1,
   "metadata": {
    "collapsed": true
   },
   "outputs": [],
   "source": [
    "import requests\n",
    "res = requests.get('https://statics.591.com.tw/tools/showPhone.php?info_data=%2FuYFMu9EqL5hHOKni2jZ%2FxxWP68&type=rLEFMu4XrrpgEw')\n",
    "with open('phone.jpg', 'wb') as f:\n",
    "    f.write(res.content)"
   ]
  },
  {
   "cell_type": "code",
   "execution_count": 2,
   "metadata": {
    "collapsed": false
   },
   "outputs": [
    {
     "data": {
      "image/png": "[encoded data removed]",
      "text/plain": [
       "<PIL.PngImagePlugin.PngImageFile image mode=P size=180x30 at 0x4C09048>"
      ]
     },
     "execution_count": 2,
     "metadata": {},
     "output_type": "execute_result"
    }
   ],
   "source": [
    "from PIL import Image\n",
    "Image.open('phone.jpg')"
   ]
  },
  {
   "cell_type": "code",
   "execution_count": 3,
   "metadata": {
    "collapsed": false
   },
   "outputs": [
    {
     "name": "stdout",
     "output_type": "stream",
     "text": [
      "0989-321-758\n"
     ]
    }
   ],
   "source": [
    "import PIL \n",
    "import pytesseract\n",
    "\n",
    "print(pytesseract.image_to_string(PIL.Image.open('phone.jpg')))"
   ]
  },
  {
   "cell_type": "markdown",
   "metadata": {},
   "source": [
    "## 將PDF轉成文字"
   ]
  },
  {
   "cell_type": "markdown",
   "metadata": {},
   "source": [
    "### 預先安裝套件 pdfminer3k\n",
    "- pip install pdfminer3k\n",
    "- https://pypi.python.org/pypi/pdfminer3k/\n",
    "- https://github.com/jaepil/pdfminer3k"
   ]
  },
  {
   "cell_type": "code",
   "execution_count": 4,
   "metadata": {
    "collapsed": false
   },
   "outputs": [
    {
     "name": "stdout",
     "output_type": "stream",
     "text": [
      "Requirement already satisfied: pdfminer3k in c:\\programdata\\anaconda3\\lib\\site-packages\n",
      "Requirement already satisfied: pytest>=2.0 in c:\\programdata\\anaconda3\\lib\\site-packages (from pdfminer3k)\n",
      "Requirement already satisfied: ply>=3.4 in c:\\programdata\\anaconda3\\lib\\site-packages (from pdfminer3k)\n",
      "Requirement already satisfied: py>=1.4.29 in c:\\programdata\\anaconda3\\lib\\site-packages (from pytest>=2.0->pdfminer3k)\n",
      "Requirement already satisfied: colorama in c:\\programdata\\anaconda3\\lib\\site-packages (from pytest>=2.0->pdfminer3k)\n"
     ]
    }
   ],
   "source": [
    "! pip install pdfminer3k"
   ]
  },
  {
   "cell_type": "markdown",
   "metadata": {},
   "source": [
    "### 範例檔案\n",
    "- http://gcis.nat.gov.tw/mainNew/matterAction.do?method=showFile&fileNo=t70013_p"
   ]
  },
  {
   "cell_type": "code",
   "execution_count": 10,
   "metadata": {
    "collapsed": false
   },
   "outputs": [],
   "source": [
    "from pdfminer.pdfparser import PDFParser, PDFDocument\n",
    "from pdfminer.pdfinterp import PDFResourceManager, PDFPageInterpreter\n",
    "from pdfminer.converter import PDFPageAggregator\n",
    "from pdfminer.layout import LAParams, LTTextBox, LTTextLine\n",
    "\n",
    "s = ''\n",
    "fp = open('data/t70013_p.pdf', 'rb')\n",
    "parser = PDFParser(fp)\n",
    "doc = PDFDocument()\n",
    "parser.set_document(doc)\n",
    "doc.set_parser(parser)\n",
    "doc.initialize('')\n",
    "rsrcmgr = PDFResourceManager()\n",
    "laparams = LAParams()\n",
    "device = PDFPageAggregator(rsrcmgr, laparams=laparams)\n",
    "interpreter = PDFPageInterpreter(rsrcmgr, device)\n",
    "# Process each page contained in the document.\n",
    "for page in doc.get_pages():\n",
    "    interpreter.process_page(page)\n",
    "    layout = device.get_result()\n",
    "    for lt_obj in layout:\n",
    "        print(lt_obj)\n",
    "        #pass\n",
    "        #if isinstance(lt_obj, LTTextBox) or isinstance(lt_obj, LTTextLine):\n",
    "        #    s = s + lt_obj.get_text()"
   ]
  },
  {
   "cell_type": "markdown",
   "metadata": {},
   "source": [
    "## 讀取半結構化資料與結構化資料"
   ]
  },
  {
   "cell_type": "code",
   "execution_count": 13,
   "metadata": {
    "collapsed": false
   },
   "outputs": [],
   "source": [
    "import pandas\n",
    "df = pandas.read_excel('data/eps.xlsx')\n",
    "#df.head()"
   ]
  },
  {
   "cell_type": "code",
   "execution_count": 14,
   "metadata": {
    "collapsed": false
   },
   "outputs": [
    {
     "data": {
      "text/html": [
       "<div>\n",
       "<table border=\"1\" class=\"dataframe\">\n",
       "  <thead>\n",
       "    <tr style=\"text-align: right;\">\n",
       "      <th></th>\n",
       "      <th>Date</th>\n",
       "      <th>Open</th>\n",
       "      <th>High</th>\n",
       "      <th>Low</th>\n",
       "      <th>Close</th>\n",
       "      <th>Volume</th>\n",
       "      <th>Adj Close</th>\n",
       "    </tr>\n",
       "  </thead>\n",
       "  <tbody>\n",
       "    <tr>\n",
       "      <th>0</th>\n",
       "      <td>2016-07-21</td>\n",
       "      <td>171.0</td>\n",
       "      <td>172.0</td>\n",
       "      <td>170.0</td>\n",
       "      <td>172.0</td>\n",
       "      <td>33130000</td>\n",
       "      <td>172.0</td>\n",
       "    </tr>\n",
       "    <tr>\n",
       "      <th>1</th>\n",
       "      <td>2016-07-20</td>\n",
       "      <td>170.0</td>\n",
       "      <td>170.5</td>\n",
       "      <td>169.0</td>\n",
       "      <td>170.0</td>\n",
       "      <td>38053000</td>\n",
       "      <td>170.0</td>\n",
       "    </tr>\n",
       "    <tr>\n",
       "      <th>2</th>\n",
       "      <td>2016-07-19</td>\n",
       "      <td>170.5</td>\n",
       "      <td>170.5</td>\n",
       "      <td>169.0</td>\n",
       "      <td>170.5</td>\n",
       "      <td>42456000</td>\n",
       "      <td>170.5</td>\n",
       "    </tr>\n",
       "    <tr>\n",
       "      <th>3</th>\n",
       "      <td>2016-07-18</td>\n",
       "      <td>168.0</td>\n",
       "      <td>170.0</td>\n",
       "      <td>168.0</td>\n",
       "      <td>169.5</td>\n",
       "      <td>24749000</td>\n",
       "      <td>169.5</td>\n",
       "    </tr>\n",
       "    <tr>\n",
       "      <th>4</th>\n",
       "      <td>2016-07-15</td>\n",
       "      <td>169.5</td>\n",
       "      <td>169.5</td>\n",
       "      <td>169.5</td>\n",
       "      <td>169.5</td>\n",
       "      <td>41000</td>\n",
       "      <td>169.5</td>\n",
       "    </tr>\n",
       "  </tbody>\n",
       "</table>\n",
       "</div>"
      ],
      "text/plain": [
       "         Date   Open   High    Low  Close    Volume  Adj Close\n",
       "0  2016-07-21  171.0  172.0  170.0  172.0  33130000      172.0\n",
       "1  2016-07-20  170.0  170.5  169.0  170.0  38053000      170.0\n",
       "2  2016-07-19  170.5  170.5  169.0  170.5  42456000      170.5\n",
       "3  2016-07-18  168.0  170.0  168.0  169.5  24749000      169.5\n",
       "4  2016-07-15  169.5  169.5  169.5  169.5     41000      169.5"
      ]
     },
     "execution_count": 14,
     "metadata": {},
     "output_type": "execute_result"
    }
   ],
   "source": [
    "import pandas\n",
    "df = pandas.read_csv('data/tw2330.csv')\n",
    "df.head()"
   ]
  },
  {
   "cell_type": "code",
   "execution_count": 15,
   "metadata": {
    "collapsed": false
   },
   "outputs": [
    {
     "data": {
      "text/html": [
       "<div>\n",
       "<table border=\"1\" class=\"dataframe\">\n",
       "  <thead>\n",
       "    <tr style=\"text-align: right;\">\n",
       "      <th></th>\n",
       "      <th>Number</th>\n",
       "      <th>Password</th>\n",
       "      <th>Birthday</th>\n",
       "      <th>Code</th>\n",
       "      <th>Profile</th>\n",
       "    </tr>\n",
       "  </thead>\n",
       "  <tbody>\n",
       "    <tr>\n",
       "      <th>0</th>\n",
       "      <td>15139400165</td>\n",
       "      <td>rR9mCcFLvp</td>\n",
       "      <td>1993-01-18</td>\n",
       "      <td>33116</td>\n",
       "      <td>https://m.facebook.com/olivia.baker.9237244</td>\n",
       "    </tr>\n",
       "    <tr>\n",
       "      <th>1</th>\n",
       "      <td>15139400165</td>\n",
       "      <td>R6JeUWN4Lv</td>\n",
       "      <td>1995-01-16</td>\n",
       "      <td>60274</td>\n",
       "      <td>https://m.facebook.com/joanne.walsh.731</td>\n",
       "    </tr>\n",
       "    <tr>\n",
       "      <th>2</th>\n",
       "      <td>15139400171</td>\n",
       "      <td>MC6gDTFbRP</td>\n",
       "      <td>1992-05-12</td>\n",
       "      <td>67672</td>\n",
       "      <td>https://m.facebook.com/home.php</td>\n",
       "    </tr>\n",
       "    <tr>\n",
       "      <th>3</th>\n",
       "      <td>15139400171</td>\n",
       "      <td>CZG4tM6Kfs</td>\n",
       "      <td>1994-10-09</td>\n",
       "      <td>68800</td>\n",
       "      <td>https://m.facebook.com/joanne.russell.144734</td>\n",
       "    </tr>\n",
       "    <tr>\n",
       "      <th>4</th>\n",
       "      <td>15139400171</td>\n",
       "      <td>WjEYSd6trR</td>\n",
       "      <td>1996-03-30</td>\n",
       "      <td>75977</td>\n",
       "      <td>https://m.facebook.com/donna.coleman.98499</td>\n",
       "    </tr>\n",
       "  </tbody>\n",
       "</table>\n",
       "</div>"
      ],
      "text/plain": [
       "        Number    Password    Birthday   Code  \\\n",
       "0  15139400165  rR9mCcFLvp  1993-01-18  33116   \n",
       "1  15139400165  R6JeUWN4Lv  1995-01-16  60274   \n",
       "2  15139400171  MC6gDTFbRP  1992-05-12  67672   \n",
       "3  15139400171  CZG4tM6Kfs  1994-10-09  68800   \n",
       "4  15139400171  WjEYSd6trR  1996-03-30  75977   \n",
       "\n",
       "                                        Profile  \n",
       "0   https://m.facebook.com/olivia.baker.9237244  \n",
       "1       https://m.facebook.com/joanne.walsh.731  \n",
       "2               https://m.facebook.com/home.php  \n",
       "3  https://m.facebook.com/joanne.russell.144734  \n",
       "4    https://m.facebook.com/donna.coleman.98499  "
      ]
     },
     "execution_count": 15,
     "metadata": {},
     "output_type": "execute_result"
    }
   ],
   "source": [
    "import pandas\n",
    "df = pandas.read_clipboard(sep= ':')\n",
    "df.head()"
   ]
  },
  {
   "cell_type": "code",
   "execution_count": 19,
   "metadata": {
    "collapsed": false
   },
   "outputs": [
    {
     "data": {
      "text/html": [
       "<div>\n",
       "<table border=\"1\" class=\"dataframe\">\n",
       "  <thead>\n",
       "    <tr style=\"text-align: right;\">\n",
       "      <th></th>\n",
       "      <th>Adj Close</th>\n",
       "      <th>Close</th>\n",
       "      <th>Date</th>\n",
       "      <th>High</th>\n",
       "      <th>Low</th>\n",
       "      <th>Open</th>\n",
       "      <th>Volume</th>\n",
       "    </tr>\n",
       "  </thead>\n",
       "  <tbody>\n",
       "    <tr>\n",
       "      <th>0</th>\n",
       "      <td>172.0</td>\n",
       "      <td>172.0</td>\n",
       "      <td>2016-07-21</td>\n",
       "      <td>172.0</td>\n",
       "      <td>170.0</td>\n",
       "      <td>171.0</td>\n",
       "      <td>33130000</td>\n",
       "    </tr>\n",
       "    <tr>\n",
       "      <th>1</th>\n",
       "      <td>170.0</td>\n",
       "      <td>170.0</td>\n",
       "      <td>2016-07-20</td>\n",
       "      <td>170.5</td>\n",
       "      <td>169.0</td>\n",
       "      <td>170.0</td>\n",
       "      <td>38053000</td>\n",
       "    </tr>\n",
       "    <tr>\n",
       "      <th>2</th>\n",
       "      <td>170.5</td>\n",
       "      <td>170.5</td>\n",
       "      <td>2016-07-19</td>\n",
       "      <td>170.5</td>\n",
       "      <td>169.0</td>\n",
       "      <td>170.5</td>\n",
       "      <td>42456000</td>\n",
       "    </tr>\n",
       "    <tr>\n",
       "      <th>3</th>\n",
       "      <td>169.5</td>\n",
       "      <td>169.5</td>\n",
       "      <td>2016-07-18</td>\n",
       "      <td>170.0</td>\n",
       "      <td>168.0</td>\n",
       "      <td>168.0</td>\n",
       "      <td>24749000</td>\n",
       "    </tr>\n",
       "    <tr>\n",
       "      <th>4</th>\n",
       "      <td>169.5</td>\n",
       "      <td>169.5</td>\n",
       "      <td>2016-07-15</td>\n",
       "      <td>169.5</td>\n",
       "      <td>169.5</td>\n",
       "      <td>169.5</td>\n",
       "      <td>41000</td>\n",
       "    </tr>\n",
       "  </tbody>\n",
       "</table>\n",
       "</div>"
      ],
      "text/plain": [
       "   Adj Close  Close       Date   High    Low   Open    Volume\n",
       "0      172.0  172.0 2016-07-21  172.0  170.0  171.0  33130000\n",
       "1      170.0  170.0 2016-07-20  170.5  169.0  170.0  38053000\n",
       "2      170.5  170.5 2016-07-19  170.5  169.0  170.5  42456000\n",
       "3      169.5  169.5 2016-07-18  170.0  168.0  168.0  24749000\n",
       "4      169.5  169.5 2016-07-15  169.5  169.5  169.5     41000"
      ]
     },
     "execution_count": 19,
     "metadata": {},
     "output_type": "execute_result"
    }
   ],
   "source": [
    "import pandas\n",
    "df = pandas.read_json('data/2330.json')\n",
    "df"
   ]
  },
  {
   "cell_type": "markdown",
   "metadata": {},
   "source": [
    "## 網路爬蟲"
   ]
  },
  {
   "cell_type": "code",
   "execution_count": 23,
   "metadata": {
    "collapsed": false
   },
   "outputs": [
    {
     "data": {
      "text/plain": [
       "<Response [200]>"
      ]
     },
     "execution_count": 23,
     "metadata": {},
     "output_type": "execute_result"
    }
   ],
   "source": [
    "import requests\n",
    "#print(dir(requests))\n",
    "res = requests.get('http://www.appledaily.com.tw/realtimenews/section/new/')\n",
    "res"
   ]
  },
  {
   "cell_type": "code",
   "execution_count": 25,
   "metadata": {
    "collapsed": false
   },
   "outputs": [],
   "source": [
    "#res.text"
   ]
  },
  {
   "cell_type": "code",
   "execution_count": 28,
   "metadata": {
    "collapsed": false
   },
   "outputs": [
    {
     "data": {
      "text/plain": [
       "<Response [200]>"
      ]
     },
     "execution_count": 28,
     "metadata": {},
     "output_type": "execute_result"
    }
   ],
   "source": [
    "import requests\n",
    "url = 'https://www.thsrc.com.tw/tw/TimeTable/SearchResult'\n",
    "payload = {\n",
    "  'StartStation':'977abb69-413a-4ccf-a109-0272c24fd490',\n",
    "  'EndStation':'60831846-f0e4-47f6-9b5b-46323ebdcef7',\n",
    "  'SearchDate':'2017/08/13',\n",
    "  'SearchTime':'12:30',\n",
    "  'SearchWay':'DepartureInMandarin'  \n",
    "}\n",
    "res = requests.post(url , data = payload) \n",
    "res"
   ]
  },
  {
   "cell_type": "markdown",
   "metadata": {},
   "source": [
    "## 台鐵時刻表\n",
    "- http://twtraffic.tra.gov.tw/twrail/EasySearch.aspx"
   ]
  },
  {
   "cell_type": "code",
   "execution_count": 29,
   "metadata": {
    "collapsed": false
   },
   "outputs": [
    {
     "data": {
      "text/plain": [
       "<Response [200]>"
      ]
     },
     "execution_count": 29,
     "metadata": {},
     "output_type": "execute_result"
    }
   ],
   "source": [
    "import requests\n",
    "res = requests.get('http://twtraffic.tra.gov.tw/twrail/SearchResult.aspx?searchtype=0&searchdate=2017/08/13&fromstation=1810&tostation=1008&trainclass=%271100%27,%271101%27,%271102%27,%271107%27,%271110%27,%271120%27&fromtime=0600&totime=2359')\n",
    "res"
   ]
  },
  {
   "cell_type": "markdown",
   "metadata": {},
   "source": [
    "## 台灣證交所\n",
    "- http://www.twse.com.tw/zh/page/trading/exchange/MI_INDEX.html"
   ]
  },
  {
   "cell_type": "code",
   "execution_count": 33,
   "metadata": {
    "collapsed": false
   },
   "outputs": [
    {
     "data": {
      "text/plain": [
       "<Response [200]>"
      ]
     },
     "execution_count": 33,
     "metadata": {},
     "output_type": "execute_result"
    }
   ],
   "source": [
    "import requests\n",
    "res = requests.get('http://www.twse.com.tw/exchangeReport/MI_INDEX?response=json&date=20170811&type=MS&_=1502602989870')\n",
    "res"
   ]
  },
  {
   "cell_type": "code",
   "execution_count": 36,
   "metadata": {
    "collapsed": false
   },
   "outputs": [
    {
     "data": {
      "text/plain": [
       "requests.models.Response"
      ]
     },
     "execution_count": 36,
     "metadata": {},
     "output_type": "execute_result"
    }
   ],
   "source": [
    "type(res)"
   ]
  },
  {
   "cell_type": "markdown",
   "metadata": {},
   "source": [
    "## 資料剖析 "
   ]
  },
  {
   "cell_type": "code",
   "execution_count": 31,
   "metadata": {
    "collapsed": true
   },
   "outputs": [],
   "source": [
    "from bs4 import BeautifulSoup\n",
    "html_sample = '''\n",
    "<html> \n",
    " <body> \n",
    " <h1 id=\"title\">Hello World</h1> \n",
    " <a href=\"#\" class=\"link\">This is link1</a> \n",
    " <a href=\"# link2\" class=\"link\">This is link2</a> \n",
    " </body> \n",
    "</html>\n",
    "'''\n",
    "soup = BeautifulSoup(html_sample, 'lxml') # html5lib, lxml, html.parser"
   ]
  },
  {
   "cell_type": "code",
   "execution_count": 32,
   "metadata": {
    "collapsed": false
   },
   "outputs": [
    {
     "data": {
      "text/plain": [
       "'\\n\\nHello World\\nThis is link1\\nThis is link2\\n\\n\\n'"
      ]
     },
     "execution_count": 32,
     "metadata": {},
     "output_type": "execute_result"
    }
   ],
   "source": [
    "soup.text"
   ]
  },
  {
   "cell_type": "code",
   "execution_count": 37,
   "metadata": {
    "collapsed": false
   },
   "outputs": [
    {
     "data": {
      "text/plain": [
       "bs4.BeautifulSoup"
      ]
     },
     "execution_count": 37,
     "metadata": {},
     "output_type": "execute_result"
    }
   ],
   "source": [
    "type(soup)"
   ]
  },
  {
   "cell_type": "code",
   "execution_count": 39,
   "metadata": {
    "collapsed": false
   },
   "outputs": [],
   "source": [
    "alink = soup.select('a')"
   ]
  },
  {
   "cell_type": "code",
   "execution_count": 40,
   "metadata": {
    "collapsed": false
   },
   "outputs": [
    {
     "data": {
      "text/plain": [
       "list"
      ]
     },
     "execution_count": 40,
     "metadata": {},
     "output_type": "execute_result"
    }
   ],
   "source": [
    "type(alink)"
   ]
  },
  {
   "cell_type": "code",
   "execution_count": 42,
   "metadata": {
    "collapsed": false
   },
   "outputs": [
    {
     "data": {
      "text/plain": [
       "<a class=\"link\" href=\"# link2\">This is link2</a>"
      ]
     },
     "execution_count": 42,
     "metadata": {},
     "output_type": "execute_result"
    }
   ],
   "source": [
    "alink[1]"
   ]
  },
  {
   "cell_type": "code",
   "execution_count": 46,
   "metadata": {
    "collapsed": false
   },
   "outputs": [
    {
     "name": "stdout",
     "output_type": "stream",
     "text": [
      "[<h1 id=\"title\">Hello World</h1>]\n",
      "<h1 id=\"title\">Hello World</h1>\n",
      "Hello World\n"
     ]
    }
   ],
   "source": [
    "print(soup.select('h1'))\n",
    "print(soup.select('h1')[0])\n",
    "print(soup.select('h1')[0].text)"
   ]
  },
  {
   "cell_type": "code",
   "execution_count": 47,
   "metadata": {
    "collapsed": false
   },
   "outputs": [
    {
     "data": {
      "text/plain": [
       "[<a class=\"link\" href=\"#\">This is link1</a>,\n",
       " <a class=\"link\" href=\"# link2\">This is link2</a>]"
      ]
     },
     "execution_count": 47,
     "metadata": {},
     "output_type": "execute_result"
    }
   ],
   "source": [
    "soup.select('.link')"
   ]
  },
  {
   "cell_type": "code",
   "execution_count": 49,
   "metadata": {
    "collapsed": false
   },
   "outputs": [
    {
     "data": {
      "text/plain": [
       "[<h1 id=\"title\">Hello World</h1>]"
      ]
     },
     "execution_count": 49,
     "metadata": {},
     "output_type": "execute_result"
    }
   ],
   "source": [
    "# id => #\n",
    "soup.select('#title')"
   ]
  },
  {
   "cell_type": "code",
   "execution_count": 51,
   "metadata": {
    "collapsed": false
   },
   "outputs": [
    {
     "data": {
      "text/plain": [
       "[<a class=\"link\" href=\"#\">This is link1</a>,\n",
       " <a class=\"link\" href=\"# link2\">This is link2</a>]"
      ]
     },
     "execution_count": 51,
     "metadata": {},
     "output_type": "execute_result"
    }
   ],
   "source": [
    "# class => .\n",
    "soup.select('.link')"
   ]
  },
  {
   "cell_type": "code",
   "execution_count": 53,
   "metadata": {
    "collapsed": false
   },
   "outputs": [
    {
     "data": {
      "text/plain": [
       "[<a class=\"link\" href=\"#\">This is link1</a>,\n",
       " <a class=\"link\" href=\"# link2\">This is link2</a>]"
      ]
     },
     "execution_count": 53,
     "metadata": {},
     "output_type": "execute_result"
    }
   ],
   "source": [
    "# body > a\n",
    "soup.select('body a')"
   ]
  },
  {
   "cell_type": "code",
   "execution_count": 54,
   "metadata": {
    "collapsed": false
   },
   "outputs": [
    {
     "data": {
      "text/plain": [
       "[<a class=\"link\" href=\"#\">This is link1</a>,\n",
       " <a class=\"link\" href=\"# link2\">This is link2</a>]"
      ]
     },
     "execution_count": 54,
     "metadata": {},
     "output_type": "execute_result"
    }
   ],
   "source": [
    "# tag = a, class = .link\n",
    "soup.select('a.link')"
   ]
  },
  {
   "cell_type": "code",
   "execution_count": 56,
   "metadata": {
    "collapsed": false
   },
   "outputs": [
    {
     "name": "stdout",
     "output_type": "stream",
     "text": [
      "This is link1\n",
      "This is link2\n"
     ]
    }
   ],
   "source": [
    "for link in soup.select('a.link'):\n",
    "    print(link.text)"
   ]
  },
  {
   "cell_type": "code",
   "execution_count": 59,
   "metadata": {
    "collapsed": false
   },
   "outputs": [
    {
     "data": {
      "text/plain": [
       "'Hello World'"
      ]
     },
     "execution_count": 59,
     "metadata": {},
     "output_type": "execute_result"
    }
   ],
   "source": [
    "soup.select('#title')[0].text"
   ]
  },
  {
   "cell_type": "code",
   "execution_count": 61,
   "metadata": {
    "collapsed": false
   },
   "outputs": [
    {
     "name": "stdout",
     "output_type": "stream",
     "text": [
      "#\n",
      "# link2\n"
     ]
    }
   ],
   "source": [
    "for link in soup.select('a.link'):\n",
    "    print(link['href'])"
   ]
  },
  {
   "cell_type": "code",
   "execution_count": 64,
   "metadata": {
    "collapsed": false
   },
   "outputs": [
    {
     "name": "stdout",
     "output_type": "stream",
     "text": [
      "施如齡\n",
      "孫光天\n",
      "林奇賢\n",
      "張智凱\n",
      "林豪鏘\n",
      "莊宗嚴\n",
      "李建億\n",
      "尹玫君\n",
      "林信志\n",
      "黃意雯\n",
      "蘇俊銘\n",
      "陳妍孜\n"
     ]
    }
   ],
   "source": [
    "import requests\n",
    "from bs4 import BeautifulSoup\n",
    "res = requests.get('http://ilt.nutn.edu.tw/faculty-professor/')\n",
    "soup = BeautifulSoup(res.text, 'html.parser')\n",
    "for p in soup.select('#page-wrap a'):\n",
    "    res2 = requests.get(p['href'])\n",
    "    soup2 = BeautifulSoup(res2.text ,'html.parser')\n",
    "    print(soup2.select('.entry-title')[0].text)"
   ]
  },
  {
   "cell_type": "markdown",
   "metadata": {},
   "source": [
    "## 蘋果日報爬蟲"
   ]
  },
  {
   "cell_type": "code",
   "execution_count": 65,
   "metadata": {
    "collapsed": false
   },
   "outputs": [
    {
     "data": {
      "text/plain": [
       "<Response [200]>"
      ]
     },
     "execution_count": 65,
     "metadata": {},
     "output_type": "execute_result"
    }
   ],
   "source": [
    "import requests\n",
    "res = requests.get('http://www.appledaily.com.tw/realtimenews/section/new/')\n",
    "res"
   ]
  },
  {
   "cell_type": "code",
   "execution_count": 67,
   "metadata": {
    "collapsed": false
   },
   "outputs": [],
   "source": [
    "from bs4 import BeautifulSoup\n",
    "soup = BeautifulSoup(res.text, 'lxml')\n",
    "news = soup.select('.rtddt a')"
   ]
  },
  {
   "cell_type": "code",
   "execution_count": 74,
   "metadata": {
    "collapsed": false
   },
   "outputs": [
    {
     "data": {
      "text/plain": [
       "<a href=\"/realtimenews/article/international/20170813/1181417/甘肅風景區暴雨成洪流　轎車被沖走296遊客受困\" target=\"_blank\">\n",
       "<time>14:56</time>\n",
       "<h2>國際</h2>\n",
       "<h1><font color=\"#383c40\">甘肅風景區暴雨成洪流　轎車被沖走296遊...(0)</font></h1>\n",
       "</a>"
      ]
     },
     "execution_count": 74,
     "metadata": {},
     "output_type": "execute_result"
    }
   ],
   "source": [
    "news[0]"
   ]
  },
  {
   "cell_type": "code",
   "execution_count": 79,
   "metadata": {
    "collapsed": false
   },
   "outputs": [
    {
     "name": "stdout",
     "output_type": "stream",
     "text": [
      "甘肅風景區暴雨成洪流　轎車被沖走296遊...(0)\n",
      "國際\n",
      "14:56\n",
      "/realtimenews/article/international/20170813/1181417/甘肅風景區暴雨成洪流　轎車被沖走296遊客受困\n"
     ]
    }
   ],
   "source": [
    "print(news[0].select('h1')[0].text)\n",
    "print(news[0].select('h2')[0].text)\n",
    "print(news[0].select('time')[0].text)\n",
    "print(news[0]['href'])"
   ]
  },
  {
   "cell_type": "code",
   "execution_count": 82,
   "metadata": {
    "collapsed": false
   },
   "outputs": [
    {
     "name": "stdout",
     "output_type": "stream",
     "text": [
      "國際 14:56 甘肅風景區暴雨成洪流　轎車被沖走296遊...(0) http://www.appledaily.com.tw/realtimenews/article/international/20170813/1181417/甘肅風景區暴雨成洪流　轎車被沖走296遊客受困\n",
      "社會 12:42 反焚化爐　3千線西鄉民扶老攜幼抗議(2083) http://www.appledaily.com.tw/realtimenews/article/local/20170813/1181322/反焚化爐　3千線西鄉民扶老攜幼抗議\n",
      "娛樂 14:54 豬哥亮紀念秀今晚墓仔埔開唱　掀不為人知內...(0) http://www.appledaily.com.tw/realtimenews/article/entertainment/20170813/1181326/豬哥亮紀念秀今晚墓仔埔開唱　掀不為人知內幕...\n",
      "財經 14:52 【眉角片】300萬口頭offer正常嗎？...(23573) http://www.appledaily.com.tw/realtimenews/article/finance/20170813/1181292/【眉角片】300萬口頭offer正常嗎？　專家這樣說\n",
      "體育 14:51 簽百家樂欠百萬　張誌家驚爆離婚失蹤躲債(0) http://www.appledaily.com.tw/realtimenews/article/sports/20170813/1181389/簽百家樂欠百萬　張誌家驚爆離婚失蹤躲債\n",
      "生活 14:51 她用這招收納發票　網友跪：實用又聰明！(0) http://www.appledaily.com.tw/realtimenews/article/life/20170813/1181426/她用這招收納發票　網友跪：實用又聰明！\n",
      "社會 14:50 LINE揪團參加少女性愛趴　警逮4嫖客送...(7659) http://www.appledaily.com.tw/realtimenews/article/local/20170813/1181328/LINE揪團參加少女性愛趴　警逮4嫖客送辦\n",
      "國際 14:50 疑受中國警告　達賴喇嘛取消訪問波札那(0) http://www.appledaily.com.tw/realtimenews/article/international/20170813/1181433/疑受中國警告　達賴喇嘛取消訪問波札那\n",
      "國際 14:49 譴責白人優越主義　加州爆發示威癱瘓公路(0) http://www.appledaily.com.tw/realtimenews/article/international/20170813/1181429/譴責白人優越主義　加州爆發示威癱瘓公路\n",
      "社會 14:48 劍青檢改再提建言　一二審檢察官全面輪調(4) http://www.appledaily.com.tw/realtimenews/article/local/20170813/1181423/劍青檢改再提建言　一二審檢察官全面輪調\n",
      "社會 14:46 騎士載運鐵梯違規上路　穿梭車陣恐吃罰單(1) http://www.appledaily.com.tw/realtimenews/article/local/20170813/1181432/騎士載運鐵梯違規上路　穿梭車陣恐吃罰單\n",
      "生活 14:45 染髮男禮讓繳費　結果是她的夢魘開始(236) http://www.appledaily.com.tw/realtimenews/article/life/20170813/1181407/染髮男禮讓繳費　結果是她的夢魘開始\n",
      "生活 14:44 男子嘿咻後「小弟弟」染成白色　禍首竟是她(50788) http://www.appledaily.com.tw/realtimenews/article/life/20170813/1181151/男子嘿咻後「小弟弟」染成白色　禍首竟是她\n",
      "社會 14:35 好友相約飛澎湖　鞋襪藏毒被活逮(1142) http://www.appledaily.com.tw/realtimenews/article/local/20170813/1181369/好友相約飛澎湖　鞋襪藏毒被活逮\n",
      "社會 14:34 【有片】趁列車進站跳下台鐵月台　50歲男...(27075) http://www.appledaily.com.tw/realtimenews/article/local/20170813/1181357/【有片】趁列車進站跳下台鐵月台　50歲男子被撞命危送醫\n",
      "生活 14:34 潛客遭螺旋槳斷腿　送醫加護觀察中(528) http://www.appledaily.com.tw/realtimenews/article/life/20170813/1181386/潛客遭螺旋槳斷腿　送醫加護觀察中\n",
      "娛樂 14:34 林隆璇copy周董模式　要兒寫出百首歌才...(354) http://www.appledaily.com.tw/realtimenews/article/entertainment/20170813/1181408/林隆璇copy周董模式　要兒寫出百首歌才幫發片\n",
      "國際 14:30 印度土石流沖走兩輛巴士　逾50乘客凶多吉...(278) http://www.appledaily.com.tw/realtimenews/article/international/20170813/1181422/印度土石流沖走兩輛巴士　逾50乘客凶多吉少\n",
      "生活 14:30 因應世大運　北市文獻館推台北運動史特展(41) http://www.appledaily.com.tw/realtimenews/article/life/20170813/1181428/因應世大運　北市文獻館推台北運動史特展\n",
      "社會 14:29 【不良動畫】世大運本周開幕　北市警方查獲...(3857) http://www.appledaily.com.tw/realtimenews/article/local/20170813/1181304/【不良動畫】世大運本周開幕　北市警方查獲首件黃牛票\n",
      "地產 14:24 【福氣片】1間烘焙坊　讓老社區整個活起來(5618) http://www.appledaily.com.tw/realtimenews/article/property/20170813/1179483/【福氣片】1間烘焙坊　讓老社區整個活起來\n",
      "生活 14:24 今天各地高溫炎熱　台北再飆37.2℃高溫(917) http://www.appledaily.com.tw/realtimenews/article/life/20170813/1181338/今天各地高溫炎熱　台北再飆37.2℃高溫\n",
      "社會 14:19 男子百貨公司內全裸　化身「尿尿小童」(4597) http://www.appledaily.com.tw/realtimenews/article/local/20170813/1181413/男子百貨公司內全裸　化身「尿尿小童」\n",
      "生活 14:19 休息室飆破30度「熱到反胃」　微風台北車...(1041) http://www.appledaily.com.tw/realtimenews/article/life/20170813/1181421/休息室飆破30度「熱到反胃」　微風台北車站：改善中　\n",
      "娛樂 14:18 【洋蔥片】齊秦樂手墜台喪命12年　胞兄淚...(124549) http://www.appledaily.com.tw/realtimenews/article/entertainment/20170813/1179881/【洋蔥片】齊秦樂手墜台喪命12年　胞兄淚睡墳上孵金曲\n",
      "社會 14:18 騎士自摔滑車底　警消搶救送醫(540) http://www.appledaily.com.tw/realtimenews/article/local/20170813/1181414/騎士自摔滑車底　警消搶救送醫\n",
      "娛樂 14:15 公開認愛！ 李毓芬柯震東親密同框　共閃情...(84254) http://www.appledaily.com.tw/realtimenews/article/entertainment/20170813/1181278/公開認愛！李毓芬柯震東親密同框　共閃情侶手勢\n",
      "財經 14:14 享高息又兼顧投資機會　台幣階梯式定存熱(617) http://www.appledaily.com.tw/realtimenews/article/finance/20170813/1181232/享高息又兼顧投資機會　台幣階梯式定存熱\n",
      "國際 14:14 日本「四季島」豪華寢台列車　首傳撞死人(737) http://www.appledaily.com.tw/realtimenews/article/international/20170813/1181420/日本「四季島」豪華寢台列車　首傳撞死人\n",
      "體育 14:09 【有片】國王藍道夫「麻」煩大了　最重將遭...(11411) http://www.appledaily.com.tw/realtimenews/article/sports/20170813/1181318/【有片】國王藍道夫「麻」煩大了　最重將遭球監或永不錄用\n"
     ]
    }
   ],
   "source": [
    "domain = 'http://www.appledaily.com.tw'\n",
    "for rec in soup.select('.rtddt a'):\n",
    "    title    = rec.select('h1')[0].text\n",
    "    category = rec.select('h2')[0].text\n",
    "    dt       = rec.select('time')[0].text\n",
    "    link     = domain + rec['href']\n",
    "    print(category, dt, title, link)"
   ]
  },
  {
   "cell_type": "code",
   "execution_count": 83,
   "metadata": {
    "collapsed": true
   },
   "outputs": [],
   "source": [
    "domain = 'http://www.appledaily.com.tw'\n",
    "newsary = []\n",
    "for rec in soup.select('.rtddt a'):\n",
    "    dic      = {}\n",
    "    dic['title']    = rec.select('h1')[0].text\n",
    "    dic['category']= rec.select('h2')[0].text\n",
    "    dic['dt']       = rec.select('time')[0].text\n",
    "    dic['link']     = domain + rec['href']\n",
    "    newsary.append(dic)\n"
   ]
  },
  {
   "cell_type": "code",
   "execution_count": 85,
   "metadata": {
    "collapsed": false,
    "scrolled": true
   },
   "outputs": [
    {
     "data": {
      "text/html": [
       "<div>\n",
       "<table border=\"1\" class=\"dataframe\">\n",
       "  <thead>\n",
       "    <tr style=\"text-align: right;\">\n",
       "      <th></th>\n",
       "      <th>category</th>\n",
       "      <th>dt</th>\n",
       "      <th>link</th>\n",
       "      <th>title</th>\n",
       "    </tr>\n",
       "  </thead>\n",
       "  <tbody>\n",
       "    <tr>\n",
       "      <th>0</th>\n",
       "      <td>國際</td>\n",
       "      <td>14:56</td>\n",
       "      <td>http://www.appledaily.com.tw/realtimenews/arti...</td>\n",
       "      <td>甘肅風景區暴雨成洪流　轎車被沖走296遊...(0)</td>\n",
       "    </tr>\n",
       "    <tr>\n",
       "      <th>1</th>\n",
       "      <td>社會</td>\n",
       "      <td>12:42</td>\n",
       "      <td>http://www.appledaily.com.tw/realtimenews/arti...</td>\n",
       "      <td>反焚化爐　3千線西鄉民扶老攜幼抗議(2083)</td>\n",
       "    </tr>\n",
       "    <tr>\n",
       "      <th>2</th>\n",
       "      <td>娛樂</td>\n",
       "      <td>14:54</td>\n",
       "      <td>http://www.appledaily.com.tw/realtimenews/arti...</td>\n",
       "      <td>豬哥亮紀念秀今晚墓仔埔開唱　掀不為人知內...(0)</td>\n",
       "    </tr>\n",
       "    <tr>\n",
       "      <th>3</th>\n",
       "      <td>財經</td>\n",
       "      <td>14:52</td>\n",
       "      <td>http://www.appledaily.com.tw/realtimenews/arti...</td>\n",
       "      <td>【眉角片】300萬口頭offer正常嗎？...(23573)</td>\n",
       "    </tr>\n",
       "    <tr>\n",
       "      <th>4</th>\n",
       "      <td>體育</td>\n",
       "      <td>14:51</td>\n",
       "      <td>http://www.appledaily.com.tw/realtimenews/arti...</td>\n",
       "      <td>簽百家樂欠百萬　張誌家驚爆離婚失蹤躲債(0)</td>\n",
       "    </tr>\n",
       "  </tbody>\n",
       "</table>\n",
       "</div>"
      ],
      "text/plain": [
       "  category      dt                                               link  \\\n",
       "0        國際  14:56  http://www.appledaily.com.tw/realtimenews/arti...   \n",
       "1        社會  12:42  http://www.appledaily.com.tw/realtimenews/arti...   \n",
       "2        娛樂  14:54  http://www.appledaily.com.tw/realtimenews/arti...   \n",
       "3        財經  14:52  http://www.appledaily.com.tw/realtimenews/arti...   \n",
       "4        體育  14:51  http://www.appledaily.com.tw/realtimenews/arti...   \n",
       "\n",
       "                            title  \n",
       "0      甘肅風景區暴雨成洪流　轎車被沖走296遊...(0)  \n",
       "1         反焚化爐　3千線西鄉民扶老攜幼抗議(2083)  \n",
       "2      豬哥亮紀念秀今晚墓仔埔開唱　掀不為人知內...(0)  \n",
       "3  【眉角片】300萬口頭offer正常嗎？...(23573)  \n",
       "4          簽百家樂欠百萬　張誌家驚爆離婚失蹤躲債(0)  "
      ]
     },
     "execution_count": 85,
     "metadata": {},
     "output_type": "execute_result"
    }
   ],
   "source": [
    "import pandas\n",
    "df = pandas.DataFrame(newsary)\n",
    "df.head()"
   ]
  },
  {
   "cell_type": "code",
   "execution_count": 86,
   "metadata": {
    "collapsed": true
   },
   "outputs": [],
   "source": [
    "df.to_excel('news.xlsx')"
   ]
  },
  {
   "cell_type": "markdown",
   "metadata": {},
   "source": [
    "## 抓取內文資訊"
   ]
  },
  {
   "cell_type": "code",
   "execution_count": 101,
   "metadata": {
    "collapsed": false
   },
   "outputs": [],
   "source": [
    "import requests\n",
    "from bs4 import BeautifulSoup\n",
    "res = requests.get('http://www.appledaily.com.tw/realtimenews/article/international/20170813/1181417/%E7%94%98%E8%82%85%E9%A2%A8%E6%99%AF%E5%8D%80%E6%9A%B4%E9%9B%A8%E6%88%90%E6%B4%AA%E6%B5%81%20%E8%BD%8E%E8%BB%8A%E8%A2%AB%E6%B2%96%E8%B5%B0296%E9%81%8A%E5%AE%A2%E5%8F%97%E5%9B%B0')\n",
    "soup = BeautifulSoup(res.text, 'html.parser')\n"
   ]
  },
  {
   "cell_type": "code",
   "execution_count": 106,
   "metadata": {
    "collapsed": false
   },
   "outputs": [
    {
     "data": {
      "text/plain": [
       "'人氣(1101)'"
      ]
     },
     "execution_count": 106,
     "metadata": {},
     "output_type": "execute_result"
    }
   ],
   "source": [
    "soup.select('#h1')[0].text\n",
    "soup.select('#summary')[0].text\n",
    "soup.select('.gggs time')[0].text\n",
    "soup.select('.clicked')[0].text"
   ]
  },
  {
   "cell_type": "code",
   "execution_count": 115,
   "metadata": {
    "collapsed": true
   },
   "outputs": [],
   "source": [
    "def pageDetail(pageurl):\n",
    "    dic = {}\n",
    "    res = requests.get(pageurl)\n",
    "    soup = BeautifulSoup(res.text, 'html.parser')\n",
    "    dic['title']   = soup.select('#h1')[0].text\n",
    "    dic['summary'] = soup.select('#summary')[0].text\n",
    "    dic['time']    = soup.select('.gggs time')[0].text\n",
    "    dic['clicked'] = soup.select('.clicked')[0].text if len(soup.select('clicked')) > 0 else None \n",
    "    return dic"
   ]
  },
  {
   "cell_type": "code",
   "execution_count": 108,
   "metadata": {
    "collapsed": false
   },
   "outputs": [
    {
     "data": {
      "text/plain": [
       "{'clicked': '人氣(1207)',\n",
       " 'summary': '中國甘肅的「黃河石林」風景區昨日因暴雨引發山洪，導致296名遊客滯留當地，還有影片拍到，洪水一路席捲而下，將4輛小客車沖入黃河，目前沒有人員傷亡。12日傍晚6時許，甘肅白銀市景泰縣黃河石林景區因暴雨引發山洪，大雨連降20分鐘後就形成洪流，從風景區的飲馬溝大峽谷一路沖入黃河，不僅基礎建設遭沖毀，還有4輛小客車被沖走，296名遊客被困。「從暴雨開始的兩三個小時，手機根本打不通，信號很差。溝內除了村民外，還有部分遊客被困。手機信號也才恢復通暢不久。」民眾後來得知受困者都已疏散到高地，才鬆了一口氣，民眾說，洪水最猛時深達1公尺多，浪頭又高又急。當地已出動重型機具，準備陸續撤出受困遊客。至於被洪水沖走的車輛，裡面沒有人。（大陸中心／綜合外電報導）\\xa0\\xa0\\xa0\\xa0\\xa0\\xa0\\xa0\\xa0\\xa0\\xa0\\xa0\\xa0\\xa0\\xa0\\xa0\\xa0\\xa0\\xa0\\xa0\\xa0\\xa0\\xa0\\xa0\\xa0\\xa0\\xa0\\xa0\\xa0\\xa0\\xa0\\xa0\\xa0\\xa0\\xa0\\xa0\\xa0\\xa0\\xa0\\xa0\\xa0\\xa0\\xa0\\xa0\\xa0\\xa0\\xa0\\xa0\\xa0\\xa0\\xa0\\xa0\\xa0跟上國際脈動，快來蘋果繞著地球爆按讚。',\n",
       " 'time': '2017年08月13日14:56',\n",
       " 'title': '甘肅風景區暴雨成洪流\\u3000轎車被沖走296遊客受困'}"
      ]
     },
     "execution_count": 108,
     "metadata": {},
     "output_type": "execute_result"
    }
   ],
   "source": [
    "pageDetail('http://www.appledaily.com.tw/realtimenews/article/international/20170813/1181417/%E7%94%98%E8%82%85%E9%A2%A8%E6%99%AF%E5%8D%80%E6%9A%B4%E9%9B%A8%E6%88%90%E6%B4%AA%E6%B5%81%20%E8%BD%8E%E8%BB%8A%E8%A2%AB%E6%B2%96%E8%B5%B0296%E9%81%8A%E5%AE%A2%E5%8F%97%E5%9B%B0')"
   ]
  },
  {
   "cell_type": "code",
   "execution_count": 113,
   "metadata": {
    "collapsed": false
   },
   "outputs": [
    {
     "data": {
      "text/html": [
       "<div>\n",
       "<table border=\"1\" class=\"dataframe\">\n",
       "  <thead>\n",
       "    <tr style=\"text-align: right;\">\n",
       "      <th></th>\n",
       "      <th>title</th>\n",
       "      <th>val</th>\n",
       "    </tr>\n",
       "  </thead>\n",
       "  <tbody>\n",
       "    <tr>\n",
       "      <th>0</th>\n",
       "      <td>a</td>\n",
       "      <td>1</td>\n",
       "    </tr>\n",
       "    <tr>\n",
       "      <th>1</th>\n",
       "      <td>b</td>\n",
       "      <td>2</td>\n",
       "    </tr>\n",
       "  </tbody>\n",
       "</table>\n",
       "</div>"
      ],
      "text/plain": [
       "  title  val\n",
       "0     a    1\n",
       "1     b    2"
      ]
     },
     "execution_count": 113,
     "metadata": {},
     "output_type": "execute_result"
    }
   ],
   "source": [
    "\n",
    "a = [{'title': 'a', 'val':1}, {'title': 'b', 'val':2}]\n",
    "df = pandas.DataFrame(a) \n",
    "df "
   ]
  },
  {
   "cell_type": "code",
   "execution_count": 116,
   "metadata": {
    "collapsed": false
   },
   "outputs": [],
   "source": [
    "newsurl = 'http://www.appledaily.com.tw/realtimenews/section/new/{}'\n",
    "domain  = 'http://www.appledaily.com.tw'\n",
    "newsary = []\n",
    "for page in range(1,3):\n",
    "    \n",
    "    section = requests.get(newsurl.format(page))\n",
    "    soup    = BeautifulSoup(section.text, 'html.parser')\n",
    "    \n",
    "    for news in soup.select('.rtddt a'):\n",
    "        dic             = {}\n",
    "        # 取得連結\n",
    "        dic['link']     = domain + news['href']\n",
    "        # 取得類別\n",
    "        dic['category'] = news.select('h2')[0].text\n",
    "        # 取得內文資訊\n",
    "        dic.update(pageDetail(dic['link']))\n",
    "        \n",
    "        newsary.append(dic)"
   ]
  },
  {
   "cell_type": "code",
   "execution_count": 119,
   "metadata": {
    "collapsed": false
   },
   "outputs": [],
   "source": [
    "newspd = pandas.DataFrame(newsary)"
   ]
  },
  {
   "cell_type": "code",
   "execution_count": 120,
   "metadata": {
    "collapsed": false
   },
   "outputs": [
    {
     "data": {
      "text/html": [
       "<div>\n",
       "<table border=\"1\" class=\"dataframe\">\n",
       "  <thead>\n",
       "    <tr style=\"text-align: right;\">\n",
       "      <th></th>\n",
       "      <th>category</th>\n",
       "      <th>clicked</th>\n",
       "      <th>link</th>\n",
       "      <th>summary</th>\n",
       "      <th>time</th>\n",
       "      <th>title</th>\n",
       "    </tr>\n",
       "  </thead>\n",
       "  <tbody>\n",
       "    <tr>\n",
       "      <th>0</th>\n",
       "      <td>財經</td>\n",
       "      <td>None</td>\n",
       "      <td>http://www.appledaily.com.tw/realtimenews/arti...</td>\n",
       "      <td>（新增海亮教育背景資料）蘋果公司上周一度失去全球市值最高企業頭銜，但擠下蘋果的企業不是Goo...</td>\n",
       "      <td>2017年08月13日16:19</td>\n",
       "      <td>【誰按錯鈕】這支股漲2萬倍大贏蘋果　董事長卻說是國際笑話</td>\n",
       "    </tr>\n",
       "    <tr>\n",
       "      <th>1</th>\n",
       "      <td>生活</td>\n",
       "      <td>None</td>\n",
       "      <td>http://www.appledaily.com.tw/realtimenews/arti...</td>\n",
       "      <td>今天有一位網友在《PTT》「八卦板」發文問，「小學為什麼有糾察隊這種垃圾制度」？還說，「簡單...</td>\n",
       "      <td>2017年08月13日16:19</td>\n",
       "      <td>​小學糾察隊是抓耙仔嗎？他反省：我像壞公務員</td>\n",
       "    </tr>\n",
       "    <tr>\n",
       "      <th>2</th>\n",
       "      <td>生活</td>\n",
       "      <td>None</td>\n",
       "      <td>http://www.appledaily.com.tw/realtimenews/arti...</td>\n",
       "      <td>(新增影片)天氣熱到沒食欲，買個同事推薦的涼麵，拌麵幾下、看到這隻真的是吃不下。網友在臉書不...</td>\n",
       "      <td>2017年08月13日16:07</td>\n",
       "      <td>【小強4ni】驚！涼麵拌紅蔥頭？　店家碎念這句令人傻眼</td>\n",
       "    </tr>\n",
       "    <tr>\n",
       "      <th>3</th>\n",
       "      <td>娛樂</td>\n",
       "      <td>None</td>\n",
       "      <td>http://www.appledaily.com.tw/realtimenews/arti...</td>\n",
       "      <td>15日是吳宗憲（憲哥）女兒Sandy的27歲生日，今憲哥錄中天《小明星大跟班》被問到會送Sa...</td>\n",
       "      <td>2017年08月13日16:06</td>\n",
       "      <td>假如女兒Sandy私照被公開　吳宗憲神回！</td>\n",
       "    </tr>\n",
       "    <tr>\n",
       "      <th>4</th>\n",
       "      <td>財經</td>\n",
       "      <td>None</td>\n",
       "      <td>http://www.appledaily.com.tw/realtimenews/arti...</td>\n",
       "      <td>電競品牌紛紛推高價電競筆電，將筆電價位推向天際線，宏碁的Predator X21售價直追30...</td>\n",
       "      <td>2017年08月13日16:05</td>\n",
       "      <td>這些電競筆電要10萬元　華碩一個月賣1500台</td>\n",
       "    </tr>\n",
       "  </tbody>\n",
       "</table>\n",
       "</div>"
      ],
      "text/plain": [
       "  category clicked                                               link  \\\n",
       "0       財經    None  http://www.appledaily.com.tw/realtimenews/arti...   \n",
       "1       生活    None  http://www.appledaily.com.tw/realtimenews/arti...   \n",
       "2       生活    None  http://www.appledaily.com.tw/realtimenews/arti...   \n",
       "3       娛樂    None  http://www.appledaily.com.tw/realtimenews/arti...   \n",
       "4       財經    None  http://www.appledaily.com.tw/realtimenews/arti...   \n",
       "\n",
       "                                             summary              time  \\\n",
       "0  （新增海亮教育背景資料）蘋果公司上周一度失去全球市值最高企業頭銜，但擠下蘋果的企業不是Goo...  2017年08月13日16:19   \n",
       "1  今天有一位網友在《PTT》「八卦板」發文問，「小學為什麼有糾察隊這種垃圾制度」？還說，「簡單...  2017年08月13日16:19   \n",
       "2  (新增影片)天氣熱到沒食欲，買個同事推薦的涼麵，拌麵幾下、看到這隻真的是吃不下。網友在臉書不...  2017年08月13日16:07   \n",
       "3  15日是吳宗憲（憲哥）女兒Sandy的27歲生日，今憲哥錄中天《小明星大跟班》被問到會送Sa...  2017年08月13日16:06   \n",
       "4  電競品牌紛紛推高價電競筆電，將筆電價位推向天際線，宏碁的Predator X21售價直追30...  2017年08月13日16:05   \n",
       "\n",
       "                          title  \n",
       "0  【誰按錯鈕】這支股漲2萬倍大贏蘋果　董事長卻說是國際笑話  \n",
       "1        ​小學糾察隊是抓耙仔嗎？他反省：我像壞公務員  \n",
       "2   【小強4ni】驚！涼麵拌紅蔥頭？　店家碎念這句令人傻眼  \n",
       "3         假如女兒Sandy私照被公開　吳宗憲神回！  \n",
       "4       這些電競筆電要10萬元　華碩一個月賣1500台  "
      ]
     },
     "execution_count": 120,
     "metadata": {},
     "output_type": "execute_result"
    }
   ],
   "source": [
    "newspd.head()"
   ]
  },
  {
   "cell_type": "code",
   "execution_count": 121,
   "metadata": {
    "collapsed": true
   },
   "outputs": [],
   "source": [
    "newspd.to_clipboard()"
   ]
  },
  {
   "cell_type": "code",
   "execution_count": 122,
   "metadata": {
    "collapsed": true
   },
   "outputs": [],
   "source": [
    "newspd.to_excel('appledaily.xlsx')"
   ]
  },
  {
   "cell_type": "markdown",
   "metadata": {},
   "source": [
    "## 爆料公社爬蟲"
   ]
  },
  {
   "cell_type": "code",
   "execution_count": 126,
   "metadata": {
    "collapsed": false
   },
   "outputs": [
    {
     "data": {
      "text/html": [
       "<div>\n",
       "<table border=\"1\" class=\"dataframe\">\n",
       "  <thead>\n",
       "    <tr style=\"text-align: right;\">\n",
       "      <th></th>\n",
       "      <th>created_time</th>\n",
       "      <th>id</th>\n",
       "      <th>message</th>\n",
       "    </tr>\n",
       "  </thead>\n",
       "  <tbody>\n",
       "    <tr>\n",
       "      <th>0</th>\n",
       "      <td>2017-08-13T09:00:00+0000</td>\n",
       "      <td>162608724089621_525945057755984</td>\n",
       "      <td>喝完酒乖乖回家睡覺.好嗎.....\\n\\nhttp://www.bc3ts.com/post...</td>\n",
       "    </tr>\n",
       "    <tr>\n",
       "      <th>1</th>\n",
       "      <td>2017-08-13T08:30:31+0000</td>\n",
       "      <td>162608724089621_525888257761664</td>\n",
       "      <td>潄林桃 於 爆廢公社發表\\n朋友的農場出產的😏\\n無心種瓜，瓜成夫😜\\n#這個尺寸有點大</td>\n",
       "    </tr>\n",
       "    <tr>\n",
       "      <th>2</th>\n",
       "      <td>2017-08-13T08:00:44+0000</td>\n",
       "      <td>162608724089621_525878401095983</td>\n",
       "      <td>這麼天兵的買家該說什麼呢？\\nhttp://www.bc3ts.com/post/2522</td>\n",
       "    </tr>\n",
       "    <tr>\n",
       "      <th>3</th>\n",
       "      <td>2017-08-13T06:51:51+0000</td>\n",
       "      <td>162608724089621_525774177773072</td>\n",
       "      <td>所以他們到底在幹嘛？\\nhttp://www.bc3ts.com/post/2511</td>\n",
       "    </tr>\n",
       "    <tr>\n",
       "      <th>4</th>\n",
       "      <td>2017-08-13T06:00:28+0000</td>\n",
       "      <td>162608724089621_525790507771439</td>\n",
       "      <td>這根本職業級的扒手啊！\\nhttp://www.bc3ts.com/post/2514</td>\n",
       "    </tr>\n",
       "    <tr>\n",
       "      <th>5</th>\n",
       "      <td>2017-08-13T05:00:41+0000</td>\n",
       "      <td>162608724089621_525787964438360</td>\n",
       "      <td>這個真的很危險啊！\\nhttp://www.bc3ts.com/post/2519</td>\n",
       "    </tr>\n",
       "    <tr>\n",
       "      <th>6</th>\n",
       "      <td>2017-08-13T04:25:03+0000</td>\n",
       "      <td>162608724089621_525866411097182</td>\n",
       "      <td>所以到底是不是同一件呢？\\nhttp://www.bc3ts.com/post/2518</td>\n",
       "    </tr>\n",
       "    <tr>\n",
       "      <th>7</th>\n",
       "      <td>2017-08-13T04:00:00+0000</td>\n",
       "      <td>162608724089621_525689891114834</td>\n",
       "      <td>阿北，你在那邊盧小醫護人員妨礙救援的時間，沒事都會被你盧到有事了。。\\n  \\nhttp:/...</td>\n",
       "    </tr>\n",
       "    <tr>\n",
       "      <th>8</th>\n",
       "      <td>2017-08-13T03:00:00+0000</td>\n",
       "      <td>162608724089621_525635424453614</td>\n",
       "      <td>看到覺得可愛，但希望不要出現在我家裡阿\\nhttp://www.bc3ts.com/post...</td>\n",
       "    </tr>\n",
       "    <tr>\n",
       "      <th>9</th>\n",
       "      <td>2017-08-13T02:30:00+0000</td>\n",
       "      <td>162608724089621_525509387799551</td>\n",
       "      <td>有一種說不出的港結~~~\\n\\nhttp://www.bc3ts.com/post/2482</td>\n",
       "    </tr>\n",
       "    <tr>\n",
       "      <th>10</th>\n",
       "      <td>2017-08-13T01:40:31+0000</td>\n",
       "      <td>162608724089621_525651831118640</td>\n",
       "      <td>到底誰想出來的啊？\\nhttp://www.bc3ts.com/post/2510</td>\n",
       "    </tr>\n",
       "    <tr>\n",
       "      <th>11</th>\n",
       "      <td>2017-08-13T00:30:00+0000</td>\n",
       "      <td>162608724089621_525555161128307</td>\n",
       "      <td>其實蠻漂亮的，但小編看了發麻⋯\\nhttp://www.bc3ts.com/post/2506</td>\n",
       "    </tr>\n",
       "    <tr>\n",
       "      <th>12</th>\n",
       "      <td>2017-08-13T00:00:00+0000</td>\n",
       "      <td>162608724089621_525462927804197</td>\n",
       "      <td>綠豆糕 煙斗巧克力 虎口拔毛 ...\\n你記得那些童年的回憶呢？\\nhttp://www.b...</td>\n",
       "    </tr>\n",
       "    <tr>\n",
       "      <th>13</th>\n",
       "      <td>2017-08-12T23:30:00+0000</td>\n",
       "      <td>162608724089621_525584794458677</td>\n",
       "      <td>意外也來的太巧合~\\nhttp://www.bc3ts.com/post/2505</td>\n",
       "    </tr>\n",
       "    <tr>\n",
       "      <th>14</th>\n",
       "      <td>2017-08-12T18:36:24+0000</td>\n",
       "      <td>162608724089621_525681774448979</td>\n",
       "      <td>阿北，你在那邊盧小醫護人員妨礙救援的時間，沒事都會被你盧到有事了。。</td>\n",
       "    </tr>\n",
       "    <tr>\n",
       "      <th>15</th>\n",
       "      <td>2017-08-12T16:53:39+0000</td>\n",
       "      <td>162608724089621_525653934451763</td>\n",
       "      <td>太多人懷念里德了，小編再發一次精彩回顧\\n爆系故事館入口\\nhttp://www.bc3ts...</td>\n",
       "    </tr>\n",
       "    <tr>\n",
       "      <th>16</th>\n",
       "      <td>2017-08-12T16:01:02+0000</td>\n",
       "      <td>162608724089621_525633054453851</td>\n",
       "      <td>#爆系故事館每晚12點\\n爆系故事館入口\\nhttp://www.bc3ts.com/cat...</td>\n",
       "    </tr>\n",
       "    <tr>\n",
       "      <th>17</th>\n",
       "      <td>2017-08-12T15:36:36+0000</td>\n",
       "      <td>162608724089621_525625117787978</td>\n",
       "      <td>#板橋三民路 #疑似搜到毒品\\nwww.bc3ts.com/post/2509</td>\n",
       "    </tr>\n",
       "    <tr>\n",
       "      <th>18</th>\n",
       "      <td>2017-08-12T15:30:31+0000</td>\n",
       "      <td>162608724089621_525483741135449</td>\n",
       "      <td>看不懂只能說你太單純了🙈\\nwww.bc3ts.com/post/2497</td>\n",
       "    </tr>\n",
       "    <tr>\n",
       "      <th>19</th>\n",
       "      <td>2017-08-12T15:00:00+0000</td>\n",
       "      <td>162608724089621_525605187789971</td>\n",
       "      <td>東尼大木在爆廢公社發文耶~\\n在台灣GG也ININDER~~~~~\\n\\nhttps://w...</td>\n",
       "    </tr>\n",
       "    <tr>\n",
       "      <th>20</th>\n",
       "      <td>2017-08-12T14:46:58+0000</td>\n",
       "      <td>162608724089621_525604447790045</td>\n",
       "      <td>艾瑪 在 #爆廢公社 發表\\n看到這種東西塞零用錢那麼紅，讓我想分享我家的用法❤️\\n\\n我...</td>\n",
       "    </tr>\n",
       "    <tr>\n",
       "      <th>21</th>\n",
       "      <td>2017-08-12T14:00:57+0000</td>\n",
       "      <td>162608724089621_525489884468168</td>\n",
       "      <td>歹路不通走阿....\\nwww.bc3ts.com/post/2480</td>\n",
       "    </tr>\n",
       "    <tr>\n",
       "      <th>22</th>\n",
       "      <td>2017-08-12T13:30:21+0000</td>\n",
       "      <td>162608724089621_525493237801166</td>\n",
       "      <td>小編也被ㄎㄧㄤ過安全帽，\\n#很想告訴小偷我一個禮拜沒洗頭（甩髮）\\nwww.bc3ts.c...</td>\n",
       "    </tr>\n",
       "    <tr>\n",
       "      <th>23</th>\n",
       "      <td>2017-08-12T13:00:25+0000</td>\n",
       "      <td>162608724089621_525490941134729</td>\n",
       "      <td>主管應該不知道自己可以從手機改暱稱吧？\\nwww.bc3ts.com/post/2490</td>\n",
       "    </tr>\n",
       "    <tr>\n",
       "      <th>24</th>\n",
       "      <td>2017-08-12T12:30:00+0000</td>\n",
       "      <td>162608724089621_525491737801316</td>\n",
       "      <td>一次剪髮享受兩種造型😂😂\\nwww.bc3ts.com/post/2500</td>\n",
       "    </tr>\n",
       "  </tbody>\n",
       "</table>\n",
       "</div>"
      ],
      "text/plain": [
       "                created_time                               id  \\\n",
       "0   2017-08-13T09:00:00+0000  162608724089621_525945057755984   \n",
       "1   2017-08-13T08:30:31+0000  162608724089621_525888257761664   \n",
       "2   2017-08-13T08:00:44+0000  162608724089621_525878401095983   \n",
       "3   2017-08-13T06:51:51+0000  162608724089621_525774177773072   \n",
       "4   2017-08-13T06:00:28+0000  162608724089621_525790507771439   \n",
       "5   2017-08-13T05:00:41+0000  162608724089621_525787964438360   \n",
       "6   2017-08-13T04:25:03+0000  162608724089621_525866411097182   \n",
       "7   2017-08-13T04:00:00+0000  162608724089621_525689891114834   \n",
       "8   2017-08-13T03:00:00+0000  162608724089621_525635424453614   \n",
       "9   2017-08-13T02:30:00+0000  162608724089621_525509387799551   \n",
       "10  2017-08-13T01:40:31+0000  162608724089621_525651831118640   \n",
       "11  2017-08-13T00:30:00+0000  162608724089621_525555161128307   \n",
       "12  2017-08-13T00:00:00+0000  162608724089621_525462927804197   \n",
       "13  2017-08-12T23:30:00+0000  162608724089621_525584794458677   \n",
       "14  2017-08-12T18:36:24+0000  162608724089621_525681774448979   \n",
       "15  2017-08-12T16:53:39+0000  162608724089621_525653934451763   \n",
       "16  2017-08-12T16:01:02+0000  162608724089621_525633054453851   \n",
       "17  2017-08-12T15:36:36+0000  162608724089621_525625117787978   \n",
       "18  2017-08-12T15:30:31+0000  162608724089621_525483741135449   \n",
       "19  2017-08-12T15:00:00+0000  162608724089621_525605187789971   \n",
       "20  2017-08-12T14:46:58+0000  162608724089621_525604447790045   \n",
       "21  2017-08-12T14:00:57+0000  162608724089621_525489884468168   \n",
       "22  2017-08-12T13:30:21+0000  162608724089621_525493237801166   \n",
       "23  2017-08-12T13:00:25+0000  162608724089621_525490941134729   \n",
       "24  2017-08-12T12:30:00+0000  162608724089621_525491737801316   \n",
       "\n",
       "                                              message  \n",
       "0   喝完酒乖乖回家睡覺.好嗎.....\\n\\nhttp://www.bc3ts.com/post...  \n",
       "1        潄林桃 於 爆廢公社發表\\n朋友的農場出產的😏\\n無心種瓜，瓜成夫😜\\n#這個尺寸有點大  \n",
       "2       這麼天兵的買家該說什麼呢？\\nhttp://www.bc3ts.com/post/2522  \n",
       "3          所以他們到底在幹嘛？\\nhttp://www.bc3ts.com/post/2511  \n",
       "4         這根本職業級的扒手啊！\\nhttp://www.bc3ts.com/post/2514  \n",
       "5           這個真的很危險啊！\\nhttp://www.bc3ts.com/post/2519  \n",
       "6        所以到底是不是同一件呢？\\nhttp://www.bc3ts.com/post/2518  \n",
       "7   阿北，你在那邊盧小醫護人員妨礙救援的時間，沒事都會被你盧到有事了。。\\n  \\nhttp:/...  \n",
       "8   看到覺得可愛，但希望不要出現在我家裡阿\\nhttp://www.bc3ts.com/post...  \n",
       "9      有一種說不出的港結~~~\\n\\nhttp://www.bc3ts.com/post/2482  \n",
       "10          到底誰想出來的啊？\\nhttp://www.bc3ts.com/post/2510  \n",
       "11    其實蠻漂亮的，但小編看了發麻⋯\\nhttp://www.bc3ts.com/post/2506  \n",
       "12  綠豆糕 煙斗巧克力 虎口拔毛 ...\\n你記得那些童年的回憶呢？\\nhttp://www.b...  \n",
       "13          意外也來的太巧合~\\nhttp://www.bc3ts.com/post/2505  \n",
       "14                 阿北，你在那邊盧小醫護人員妨礙救援的時間，沒事都會被你盧到有事了。。  \n",
       "15  太多人懷念里德了，小編再發一次精彩回顧\\n爆系故事館入口\\nhttp://www.bc3ts...  \n",
       "16  #爆系故事館每晚12點\\n爆系故事館入口\\nhttp://www.bc3ts.com/cat...  \n",
       "17            #板橋三民路 #疑似搜到毒品\\nwww.bc3ts.com/post/2509  \n",
       "18              看不懂只能說你太單純了🙈\\nwww.bc3ts.com/post/2497  \n",
       "19  東尼大木在爆廢公社發文耶~\\n在台灣GG也ININDER~~~~~\\n\\nhttps://w...  \n",
       "20  艾瑪 在 #爆廢公社 發表\\n看到這種東西塞零用錢那麼紅，讓我想分享我家的用法❤️\\n\\n我...  \n",
       "21                歹路不通走阿....\\nwww.bc3ts.com/post/2480  \n",
       "22  小編也被ㄎㄧㄤ過安全帽，\\n#很想告訴小偷我一個禮拜沒洗頭（甩髮）\\nwww.bc3ts.c...  \n",
       "23       主管應該不知道自己可以從手機改暱稱吧？\\nwww.bc3ts.com/post/2490  \n",
       "24              一次剪髮享受兩種造型😂😂\\nwww.bc3ts.com/post/2500  "
      ]
     },
     "execution_count": 126,
     "metadata": {},
     "output_type": "execute_result"
    }
   ],
   "source": [
    "APPID = '1909094889353454'\n",
    "APPSECRET = '7135925d6e7ef336af5ab2ddbc092805'\n",
    "import requests\n",
    "res = requests.get('https://graph.facebook.com/v2.10/162608724089621/posts?access_token={}|{}'.format(APPID, APPSECRET))\n",
    "jd = res.json()\n",
    "df = pandas.DataFrame(jd['data'])\n",
    "df"
   ]
  },
  {
   "cell_type": "markdown",
   "metadata": {},
   "source": [
    "## 591 爬蟲"
   ]
  },
  {
   "cell_type": "code",
   "execution_count": 129,
   "metadata": {
    "collapsed": false
   },
   "outputs": [
    {
     "data": {
      "text/plain": [
       "<Response [200]>"
      ]
     },
     "execution_count": 129,
     "metadata": {},
     "output_type": "execute_result"
    }
   ],
   "source": [
    "headers = {\n",
    "   'User-Agent':'Mozilla/5.0 (Windows NT 6.1; Win64; x64) AppleWebKit/537.36 (KHTML, like Gecko) Chrome/60.0.3112.90 Safari/537.36' \n",
    "}\n",
    "res = requests.get('http://largitdata.com', headers = headers)\n",
    "res"
   ]
  },
  {
   "cell_type": "code",
   "execution_count": 131,
   "metadata": {
    "collapsed": false
   },
   "outputs": [],
   "source": [
    "import requests\n",
    "headers = {\n",
    "   'User-Agent':'Mozilla/5.0 (Windows NT 6.1; Win64; x64) AppleWebKit/537.36 (KHTML, like Gecko) Chrome/60.0.3112.90 Safari/537.36' \n",
    "}\n",
    "res = requests.get('https://rent.591.com.tw/home/search/rsList?is_new_list=1&type=1&kind=1&searchtype=1&region=1&section=5', headers = headers)\n",
    "jd = res.json()"
   ]
  },
  {
   "cell_type": "code",
   "execution_count": 133,
   "metadata": {
    "collapsed": false
   },
   "outputs": [],
   "source": [
    "df = pandas.DataFrame(jd['data']['data'])"
   ]
  },
  {
   "cell_type": "code",
   "execution_count": 136,
   "metadata": {
    "collapsed": false
   },
   "outputs": [],
   "source": [
    "df = df[['address', 'floor', 'allfloor', 'layout','area', 'price','browsenum_all']]\n"
   ]
  },
  {
   "cell_type": "code",
   "execution_count": 138,
   "metadata": {
    "collapsed": false
   },
   "outputs": [],
   "source": [
    "df.to_excel('house591.xlsx')"
   ]
  },
  {
   "cell_type": "code",
   "execution_count": 140,
   "metadata": {
    "collapsed": false
   },
   "outputs": [],
   "source": [
    "\n",
    "url = 'https://rent.591.com.tw/home/search/rsList?is_new_list=1&type=1&kind=1&searchtype=1&region=1&section=5&firstRow={}&totalRows=580'\n",
    "houseary = []\n",
    "for page in range(1,21):\n",
    "    res = requests.get(url.format(page * 30), headers = headers)\n",
    "    jd = res.json()\n",
    "    df = pandas.DataFrame(jd['data']['data'])\n",
    "    #df = df[['address', 'floor', 'allfloor', 'layout','area', 'price','browsenum_all']]\n",
    "    houseary.append(df)"
   ]
  },
  {
   "cell_type": "code",
   "execution_count": 141,
   "metadata": {
    "collapsed": true
   },
   "outputs": [],
   "source": [
    "housedf = pandas.concat(houseary)"
   ]
  },
  {
   "cell_type": "code",
   "execution_count": 142,
   "metadata": {
    "collapsed": true
   },
   "outputs": [],
   "source": [
    "housedf = housedf[['address', 'floor', 'allfloor', 'layout','area', 'price','browsenum_all']]"
   ]
  },
  {
   "cell_type": "code",
   "execution_count": 144,
   "metadata": {
    "collapsed": false
   },
   "outputs": [
    {
     "data": {
      "text/plain": [
       "address          550\n",
       "floor            550\n",
       "allfloor         550\n",
       "layout           550\n",
       "area             550\n",
       "price            550\n",
       "browsenum_all    550\n",
       "dtype: int64"
      ]
     },
     "execution_count": 144,
     "metadata": {},
     "output_type": "execute_result"
    }
   ],
   "source": [
    "housedf.count()"
   ]
  },
  {
   "cell_type": "code",
   "execution_count": 145,
   "metadata": {
    "collapsed": true
   },
   "outputs": [],
   "source": [
    "housedf.to_excel('house591_total.xlsx')"
   ]
  }
 ],
 "metadata": {
  "kernelspec": {
   "display_name": "Python 3",
   "language": "python",
   "name": "python3"
  },
  "language_info": {
   "codemirror_mode": {
    "name": "ipython",
    "version": 3
   },
   "file_extension": ".py",
   "mimetype": "text/x-python",
   "name": "python",
   "nbconvert_exporter": "python",
   "pygments_lexer": "ipython3",
   "version": "3.6.0"
  }
 },
 "nbformat": 4,
 "nbformat_minor": 2
}
