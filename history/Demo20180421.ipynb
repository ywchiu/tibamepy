{
 "cells": [
  {
   "cell_type": "markdown",
   "metadata": {},
   "source": [
    "### 方法一"
   ]
  },
  {
   "cell_type": "code",
   "execution_count": 2,
   "metadata": {},
   "outputs": [],
   "source": [
    "with open('C:/Users/USER/Desktop/cnn.txt', 'r', encoding='utf-8') as f:\n",
    "    news = f.read()"
   ]
  },
  {
   "cell_type": "code",
   "execution_count": 6,
   "metadata": {},
   "outputs": [],
   "source": [
    "words = news.lower().split()"
   ]
  },
  {
   "cell_type": "code",
   "execution_count": 7,
   "metadata": {},
   "outputs": [],
   "source": [
    "dic = {}\n",
    "for word in words:\n",
    "    if word not in dic:\n",
    "        dic[word] = 1\n",
    "    else:\n",
    "        dic[word] = dic[word] + 1"
   ]
  },
  {
   "cell_type": "code",
   "execution_count": 13,
   "metadata": {},
   "outputs": [
    {
     "data": {
      "text/plain": [
       "[('the', 130),\n",
       " ('a', 73),\n",
       " ('north', 66),\n",
       " ('of', 61),\n",
       " ('to', 59),\n",
       " ('and', 52),\n",
       " ('kim', 50),\n",
       " ('korea', 47),\n",
       " ('korean', 44),\n",
       " ('/', 41)]"
      ]
     },
     "execution_count": 13,
     "metadata": {},
     "output_type": "execute_result"
    }
   ],
   "source": [
    "import operator\n",
    "swd = sorted(dic.items(), key = operator.itemgetter(1), reverse=True)\n",
    "swd[0:10]"
   ]
  },
  {
   "cell_type": "markdown",
   "metadata": {},
   "source": [
    "### 方法二 (加入停用詞)"
   ]
  },
  {
   "cell_type": "code",
   "execution_count": 14,
   "metadata": {},
   "outputs": [],
   "source": [
    "stopwords = [\"a\", \"about\", \"above\", \"above\", \"across\", \"after\", \"afterwards\", \"again\", \"against\", \"all\", \"almost\", \"alone\", \"along\", \"already\", \"also\",\"although\",\"always\",\"am\",\"among\", \"amongst\", \"amoungst\", \"amount\",  \"an\", \"and\", \"another\", \"any\",\"anyhow\",\"anyone\",\"anything\",\"anyway\", \"anywhere\", \"are\", \"around\", \"as\",  \"at\", \"back\",\"be\",\"became\", \"because\",\"become\",\"becomes\", \"becoming\", \"been\", \"before\", \"beforehand\", \"behind\", \"being\", \"below\", \"beside\", \"besides\", \"between\", \"beyond\", \"bill\", \"both\", \"bottom\",\"but\", \"by\", \"call\", \"can\", \"cannot\", \"cant\", \"co\", \"con\", \"could\", \"couldnt\", \"cry\", \"de\", \"describe\", \"detail\", \"do\", \"done\", \"down\", \"due\", \"during\", \"each\", \"eg\", \"eight\", \"either\", \"eleven\",\"else\", \"elsewhere\", \"empty\", \"enough\", \"etc\", \"even\", \"ever\", \"every\", \"everyone\", \"everything\", \"everywhere\", \"except\", \"few\", \"fifteen\", \"fify\", \"fill\", \"find\", \"fire\", \"first\", \"five\", \"for\", \"former\", \"formerly\", \"forty\", \"found\", \"four\", \"from\", \"front\", \"full\", \"further\", \"get\", \"give\", \"go\", \"had\", \"has\", \"hasnt\", \"have\", \"he\", \"hence\", \"her\", \"here\", \"hereafter\", \"hereby\", \"herein\", \"hereupon\", \"hers\", \"herself\", \"him\", \"himself\", \"his\", \"how\", \"however\", \"hundred\", \"ie\", \"if\", \"in\", \"inc\", \"indeed\", \"interest\", \"into\", \"is\", \"it\", \"its\", \"itself\", \"keep\", \"last\", \"latter\", \"latterly\", \"least\", \"less\", \"ltd\", \"made\", \"many\", \"may\", \"me\", \"meanwhile\", \"might\", \"mill\", \"mine\", \"more\", \"moreover\", \"most\", \"mostly\", \"move\", \"much\", \"must\", \"my\", \"myself\", \"name\", \"namely\", \"neither\", \"never\", \"nevertheless\", \"next\", \"nine\", \"no\", \"nobody\", \"none\", \"noone\", \"nor\", \"not\", \"nothing\", \"now\", \"nowhere\", \"of\", \"off\", \"often\", \"on\", \"once\", \"one\", \"only\", \"onto\", \"or\", \"other\", \"others\", \"otherwise\", \"our\", \"ours\", \"ourselves\", \"out\", \"over\", \"own\",\"part\", \"per\", \"perhaps\", \"please\", \"put\", \"rather\", \"re\", \"same\", \"see\", \"seem\", \"seemed\", \"seeming\", \"seems\", \"serious\", \"several\", \"she\", \"should\", \"show\", \"side\", \"since\", \"sincere\", \"six\", \"sixty\", \"so\", \"some\", \"somehow\", \"someone\", \"something\", \"sometime\", \"sometimes\", \"somewhere\", \"still\", \"such\", \"system\", \"take\", \"ten\", \"than\", \"that\", \"the\", \"their\", \"them\", \"themselves\", \"then\", \"thence\", \"there\", \"thereafter\", \"thereby\", \"therefore\", \"therein\", \"thereupon\", \"these\", \"they\", \"thickv\", \"thin\", \"third\", \"this\", \"those\", \"though\", \"three\", \"through\", \"throughout\", \"thru\", \"thus\", \"to\", \"together\", \"too\", \"top\", \"toward\", \"towards\", \"twelve\", \"twenty\", \"two\", \"un\", \"under\", \"until\", \"up\", \"upon\", \"us\", \"very\", \"via\", \"was\", \"we\", \"well\", \"were\", \"what\", \"whatever\", \"when\", \"whence\", \"whenever\", \"where\", \"whereafter\", \"whereas\", \"whereby\", \"wherein\", \"whereupon\", \"wherever\", \"whether\", \"which\", \"while\", \"whither\", \"who\", \"whoever\", \"whole\", \"whom\", \"whose\", \"why\", \"will\", \"with\", \"within\", \"without\", \"would\", \"yet\", \"you\", \"your\", \"yours\", \"yourself\", \"yourselves\", \"the\"]"
   ]
  },
  {
   "cell_type": "code",
   "execution_count": 15,
   "metadata": {},
   "outputs": [],
   "source": [
    "with open('C:/Users/USER/Desktop/cnn.txt', 'r', encoding='utf-8') as f:\n",
    "    news = f.read()"
   ]
  },
  {
   "cell_type": "code",
   "execution_count": 23,
   "metadata": {},
   "outputs": [],
   "source": [
    "# method 1\n",
    "words = []\n",
    "for word in news.lower().split():\n",
    "    if (word not in stopwords) and (len(word)>=2):\n",
    "        words.append(word)\n",
    "        \n",
    "# method 2\n",
    "words = [word for word in news.lower().split()  if (word not in stopwords) and (len(word)>=2)]"
   ]
  },
  {
   "cell_type": "code",
   "execution_count": 24,
   "metadata": {},
   "outputs": [],
   "source": [
    "dic = {}\n",
    "for word in words:\n",
    "    if word not in dic:\n",
    "        dic[word] = 1\n",
    "    else:\n",
    "        dic[word] = dic[word] + 1"
   ]
  },
  {
   "cell_type": "code",
   "execution_count": 25,
   "metadata": {},
   "outputs": [
    {
     "data": {
      "text/plain": [
       "[('north', 66),\n",
       " ('kim', 50),\n",
       " ('korea', 47),\n",
       " ('korean', 44),\n",
       " ('south', 32),\n",
       " ('nuclear', 31),\n",
       " ('jong', 23),\n",
       " ('leader', 16),\n",
       " ('afp', 14),\n",
       " ('photo', 14)]"
      ]
     },
     "execution_count": 25,
     "metadata": {},
     "output_type": "execute_result"
    }
   ],
   "source": [
    "import operator\n",
    "swd = sorted(dic.items(), key = operator.itemgetter(1), reverse=True)\n",
    "swd[0:10]"
   ]
  },
  {
   "cell_type": "markdown",
   "metadata": {},
   "source": [
    "### 方法三 (使用collections 做統計)\n",
    "- https://docs.python.org/3/library/collections.html"
   ]
  },
  {
   "cell_type": "code",
   "execution_count": 28,
   "metadata": {},
   "outputs": [
    {
     "data": {
      "text/plain": [
       "[('north', 66),\n",
       " ('kim', 50),\n",
       " ('korea', 47),\n",
       " ('korean', 44),\n",
       " ('south', 32),\n",
       " ('nuclear', 31),\n",
       " ('jong', 23),\n",
       " ('leader', 16),\n",
       " ('afp', 14),\n",
       " ('photo', 14)]"
      ]
     },
     "execution_count": 28,
     "metadata": {},
     "output_type": "execute_result"
    }
   ],
   "source": [
    "with open('C:/Users/USER/Desktop/cnn.txt', 'r', encoding='utf-8') as f:\n",
    "    news = f.read()\n",
    "    \n",
    "words = [word for word in news.lower().split()  if (word not in stopwords) and (len(word)>=2)]\n",
    "\n",
    "from collections import Counter\n",
    "c = Counter(words)\n",
    "\n",
    "c.most_common(10)"
   ]
  },
  {
   "cell_type": "code",
   "execution_count": 31,
   "metadata": {},
   "outputs": [
    {
     "data": {
      "text/plain": [
       "[('north', 66),\n",
       " ('kim', 50),\n",
       " ('korea', 47),\n",
       " ('korean', 44),\n",
       " ('south', 32),\n",
       " ('nuclear', 31),\n",
       " ('jong', 23),\n",
       " ('leader', 16),\n",
       " ('afp', 14),\n",
       " ('photo', 14),\n",
       " ('credit', 14),\n",
       " ('trump', 14),\n",
       " ('(photo', 12),\n",
       " ('president', 12),\n",
       " ('kcna', 11),\n",
       " ('images)', 11),\n",
       " ('tests', 10),\n",
       " ('said', 10),\n",
       " ('pyongyang', 10),\n",
       " ('read', 10)]"
      ]
     },
     "execution_count": 31,
     "metadata": {},
     "output_type": "execute_result"
    }
   ],
   "source": [
    "from collections import Counter\n",
    "\n",
    "def WordCount(filename, n):\n",
    "    with open(filename, 'r', encoding='utf-8') as f:\n",
    "        news = f.read()\n",
    "\n",
    "    words = [word for word in news.lower().split()  if (word not in stopwords) and (len(word)>=2)]\n",
    "    c = Counter(words)\n",
    "\n",
    "    return c.most_common(n)\n",
    "\n",
    "WordCount('C:/Users/USER/Desktop/cnn.txt', 20)"
   ]
  },
  {
   "cell_type": "markdown",
   "metadata": {},
   "source": [
    "## 讀取結構化與半結構化資料"
   ]
  },
  {
   "cell_type": "code",
   "execution_count": 32,
   "metadata": {},
   "outputs": [
    {
     "data": {
      "text/html": [
       "<div>\n",
       "<style scoped>\n",
       "    .dataframe tbody tr th:only-of-type {\n",
       "        vertical-align: middle;\n",
       "    }\n",
       "\n",
       "    .dataframe tbody tr th {\n",
       "        vertical-align: top;\n",
       "    }\n",
       "\n",
       "    .dataframe thead th {\n",
       "        text-align: right;\n",
       "    }\n",
       "</style>\n",
       "<table border=\"1\" class=\"dataframe\">\n",
       "  <thead>\n",
       "    <tr style=\"text-align: right;\">\n",
       "      <th></th>\n",
       "      <th>Date</th>\n",
       "      <th>Open</th>\n",
       "      <th>High</th>\n",
       "      <th>Low</th>\n",
       "      <th>Close</th>\n",
       "      <th>Adj Close</th>\n",
       "      <th>Volume</th>\n",
       "    </tr>\n",
       "  </thead>\n",
       "  <tbody>\n",
       "    <tr>\n",
       "      <th>0</th>\n",
       "      <td>2013-03-04</td>\n",
       "      <td>104.5</td>\n",
       "      <td>104.5</td>\n",
       "      <td>101.5</td>\n",
       "      <td>102.0</td>\n",
       "      <td>87.578972</td>\n",
       "      <td>50033000.0</td>\n",
       "    </tr>\n",
       "    <tr>\n",
       "      <th>1</th>\n",
       "      <td>2013-03-05</td>\n",
       "      <td>103.5</td>\n",
       "      <td>104.0</td>\n",
       "      <td>102.5</td>\n",
       "      <td>104.0</td>\n",
       "      <td>89.296204</td>\n",
       "      <td>53913000.0</td>\n",
       "    </tr>\n",
       "    <tr>\n",
       "      <th>2</th>\n",
       "      <td>2013-03-06</td>\n",
       "      <td>104.0</td>\n",
       "      <td>104.5</td>\n",
       "      <td>103.0</td>\n",
       "      <td>104.0</td>\n",
       "      <td>89.296204</td>\n",
       "      <td>35977000.0</td>\n",
       "    </tr>\n",
       "    <tr>\n",
       "      <th>3</th>\n",
       "      <td>2013-03-07</td>\n",
       "      <td>103.5</td>\n",
       "      <td>104.0</td>\n",
       "      <td>103.0</td>\n",
       "      <td>103.0</td>\n",
       "      <td>88.437592</td>\n",
       "      <td>20518000.0</td>\n",
       "    </tr>\n",
       "    <tr>\n",
       "      <th>4</th>\n",
       "      <td>2013-03-08</td>\n",
       "      <td>103.0</td>\n",
       "      <td>104.5</td>\n",
       "      <td>102.0</td>\n",
       "      <td>103.5</td>\n",
       "      <td>88.866898</td>\n",
       "      <td>44571000.0</td>\n",
       "    </tr>\n",
       "  </tbody>\n",
       "</table>\n",
       "</div>"
      ],
      "text/plain": [
       "         Date   Open   High    Low  Close  Adj Close      Volume\n",
       "0  2013-03-04  104.5  104.5  101.5  102.0  87.578972  50033000.0\n",
       "1  2013-03-05  103.5  104.0  102.5  104.0  89.296204  53913000.0\n",
       "2  2013-03-06  104.0  104.5  103.0  104.0  89.296204  35977000.0\n",
       "3  2013-03-07  103.5  104.0  103.0  103.0  88.437592  20518000.0\n",
       "4  2013-03-08  103.0  104.5  102.0  103.5  88.866898  44571000.0"
      ]
     },
     "execution_count": 32,
     "metadata": {},
     "output_type": "execute_result"
    }
   ],
   "source": [
    "import pandas\n",
    "df  = pandas.read_csv('https://raw.githubusercontent.com/ywchiu/tibamepy/master/data/tw2330.csv')\n",
    "df.head()"
   ]
  },
  {
   "cell_type": "code",
   "execution_count": 34,
   "metadata": {},
   "outputs": [
    {
     "data": {
      "text/html": [
       "<div>\n",
       "<style scoped>\n",
       "    .dataframe tbody tr th:only-of-type {\n",
       "        vertical-align: middle;\n",
       "    }\n",
       "\n",
       "    .dataframe tbody tr th {\n",
       "        vertical-align: top;\n",
       "    }\n",
       "\n",
       "    .dataframe thead th {\n",
       "        text-align: right;\n",
       "    }\n",
       "</style>\n",
       "<table border=\"1\" class=\"dataframe\">\n",
       "  <thead>\n",
       "    <tr style=\"text-align: right;\">\n",
       "      <th></th>\n",
       "      <th>id</th>\n",
       "      <th>年度</th>\n",
       "      <th>股本</th>\n",
       "      <th>財報評分</th>\n",
       "      <th>收盤</th>\n",
       "      <th>平均</th>\n",
       "      <th>漲跌</th>\n",
       "      <th>漲跌%</th>\n",
       "      <th>營業收入</th>\n",
       "      <th>營業毛利</th>\n",
       "      <th>...</th>\n",
       "      <th>營業毛利%</th>\n",
       "      <th>營業利益%</th>\n",
       "      <th>業外損益%</th>\n",
       "      <th>稅後淨利%</th>\n",
       "      <th>ROE</th>\n",
       "      <th>ROA</th>\n",
       "      <th>稅後EPS</th>\n",
       "      <th>EPS成長</th>\n",
       "      <th>BPS</th>\n",
       "      <th>stockid</th>\n",
       "    </tr>\n",
       "  </thead>\n",
       "  <tbody>\n",
       "    <tr>\n",
       "      <th>0</th>\n",
       "      <td>1</td>\n",
       "      <td>2015</td>\n",
       "      <td>369.0</td>\n",
       "      <td>45</td>\n",
       "      <td>27.3</td>\n",
       "      <td>37.8</td>\n",
       "      <td>-16.1</td>\n",
       "      <td>-37.1</td>\n",
       "      <td>937.0</td>\n",
       "      <td>145.0</td>\n",
       "      <td>...</td>\n",
       "      <td>15.5</td>\n",
       "      <td>10.3</td>\n",
       "      <td>-1.08</td>\n",
       "      <td>7.39</td>\n",
       "      <td>4.36</td>\n",
       "      <td>2.36</td>\n",
       "      <td>1.56</td>\n",
       "      <td>-1.37</td>\n",
       "      <td>29.26</td>\n",
       "      <td>1101</td>\n",
       "    </tr>\n",
       "    <tr>\n",
       "      <th>1</th>\n",
       "      <td>2</td>\n",
       "      <td>2014</td>\n",
       "      <td>369.0</td>\n",
       "      <td>53</td>\n",
       "      <td>43.4</td>\n",
       "      <td>45.7</td>\n",
       "      <td>-2.85</td>\n",
       "      <td>-6.2</td>\n",
       "      <td>1183.0</td>\n",
       "      <td>249.0</td>\n",
       "      <td>...</td>\n",
       "      <td>21</td>\n",
       "      <td>16.8</td>\n",
       "      <td>1.13</td>\n",
       "      <td>14</td>\n",
       "      <td>10.50</td>\n",
       "      <td>5.76</td>\n",
       "      <td>2.93</td>\n",
       "      <td>0.21</td>\n",
       "      <td>31.95</td>\n",
       "      <td>1101</td>\n",
       "    </tr>\n",
       "    <tr>\n",
       "      <th>2</th>\n",
       "      <td>3</td>\n",
       "      <td>2013</td>\n",
       "      <td>369.0</td>\n",
       "      <td>51</td>\n",
       "      <td>46.25</td>\n",
       "      <td>39.8</td>\n",
       "      <td>7.35</td>\n",
       "      <td>18.9</td>\n",
       "      <td>1161.0</td>\n",
       "      <td>228.0</td>\n",
       "      <td>...</td>\n",
       "      <td>19.7</td>\n",
       "      <td>15.3</td>\n",
       "      <td>0.71</td>\n",
       "      <td>13</td>\n",
       "      <td>10.60</td>\n",
       "      <td>5.56</td>\n",
       "      <td>2.72</td>\n",
       "      <td>0.63</td>\n",
       "      <td>30.63</td>\n",
       "      <td>1101</td>\n",
       "    </tr>\n",
       "    <tr>\n",
       "      <th>3</th>\n",
       "      <td>4</td>\n",
       "      <td>2012</td>\n",
       "      <td>369.0</td>\n",
       "      <td>49</td>\n",
       "      <td>38.9</td>\n",
       "      <td>35.8</td>\n",
       "      <td>3.9</td>\n",
       "      <td>11.1</td>\n",
       "      <td>1195.0</td>\n",
       "      <td>177.0</td>\n",
       "      <td>...</td>\n",
       "      <td>14.8</td>\n",
       "      <td>10.9</td>\n",
       "      <td>-0.84</td>\n",
       "      <td>8.34</td>\n",
       "      <td>7.63</td>\n",
       "      <td>3.81</td>\n",
       "      <td>2.09</td>\n",
       "      <td>-0.24</td>\n",
       "      <td>27.03</td>\n",
       "      <td>1101</td>\n",
       "    </tr>\n",
       "    <tr>\n",
       "      <th>4</th>\n",
       "      <td>5</td>\n",
       "      <td>2011</td>\n",
       "      <td>369.0</td>\n",
       "      <td>55</td>\n",
       "      <td>35</td>\n",
       "      <td>36.8</td>\n",
       "      <td>2.2</td>\n",
       "      <td>6.7</td>\n",
       "      <td>1185.0</td>\n",
       "      <td>206.0</td>\n",
       "      <td>...</td>\n",
       "      <td>17.4</td>\n",
       "      <td>13.6</td>\n",
       "      <td>0.3</td>\n",
       "      <td>11.6</td>\n",
       "      <td>10.80</td>\n",
       "      <td>5.24</td>\n",
       "      <td>2.33</td>\n",
       "      <td>-0.1</td>\n",
       "      <td>26.21</td>\n",
       "      <td>1101</td>\n",
       "    </tr>\n",
       "  </tbody>\n",
       "</table>\n",
       "<p>5 rows × 23 columns</p>\n",
       "</div>"
      ],
      "text/plain": [
       "   id    年度     股本  財報評分     收盤    平均    漲跌   漲跌%    營業收入   營業毛利   ...     \\\n",
       "0   1  2015  369.0    45   27.3  37.8 -16.1 -37.1   937.0  145.0   ...      \n",
       "1   2  2014  369.0    53   43.4  45.7 -2.85  -6.2  1183.0  249.0   ...      \n",
       "2   3  2013  369.0    51  46.25  39.8  7.35  18.9  1161.0  228.0   ...      \n",
       "3   4  2012  369.0    49   38.9  35.8   3.9  11.1  1195.0  177.0   ...      \n",
       "4   5  2011  369.0    55     35  36.8   2.2   6.7  1185.0  206.0   ...      \n",
       "\n",
       "   營業毛利% 營業利益%  業外損益% 稅後淨利%    ROE   ROA 稅後EPS  EPS成長    BPS  stockid  \n",
       "0   15.5  10.3  -1.08  7.39   4.36  2.36  1.56  -1.37  29.26     1101  \n",
       "1     21  16.8   1.13    14  10.50  5.76  2.93   0.21  31.95     1101  \n",
       "2   19.7  15.3   0.71    13  10.60  5.56  2.72   0.63  30.63     1101  \n",
       "3   14.8  10.9  -0.84  8.34   7.63  3.81  2.09  -0.24  27.03     1101  \n",
       "4   17.4  13.6    0.3  11.6  10.80  5.24  2.33   -0.1  26.21     1101  \n",
       "\n",
       "[5 rows x 23 columns]"
      ]
     },
     "execution_count": 34,
     "metadata": {},
     "output_type": "execute_result"
    }
   ],
   "source": [
    "stock = pandas.read_excel('https://raw.githubusercontent.com/ywchiu/tibamepy/master/data/stock.xlsx')\n",
    "stock.head()"
   ]
  },
  {
   "cell_type": "code",
   "execution_count": 35,
   "metadata": {},
   "outputs": [
    {
     "data": {
      "text/html": [
       "<div>\n",
       "<style scoped>\n",
       "    .dataframe tbody tr th:only-of-type {\n",
       "        vertical-align: middle;\n",
       "    }\n",
       "\n",
       "    .dataframe tbody tr th {\n",
       "        vertical-align: top;\n",
       "    }\n",
       "\n",
       "    .dataframe thead th {\n",
       "        text-align: right;\n",
       "    }\n",
       "</style>\n",
       "<table border=\"1\" class=\"dataframe\">\n",
       "  <thead>\n",
       "    <tr style=\"text-align: right;\">\n",
       "      <th></th>\n",
       "      <th>Adj Close</th>\n",
       "      <th>Close</th>\n",
       "      <th>Date</th>\n",
       "      <th>High</th>\n",
       "      <th>Low</th>\n",
       "      <th>Open</th>\n",
       "      <th>Volume</th>\n",
       "    </tr>\n",
       "  </thead>\n",
       "  <tbody>\n",
       "    <tr>\n",
       "      <th>0</th>\n",
       "      <td>172.0</td>\n",
       "      <td>172.0</td>\n",
       "      <td>2016-07-21</td>\n",
       "      <td>172.0</td>\n",
       "      <td>170.0</td>\n",
       "      <td>171.0</td>\n",
       "      <td>33130000</td>\n",
       "    </tr>\n",
       "    <tr>\n",
       "      <th>1</th>\n",
       "      <td>170.0</td>\n",
       "      <td>170.0</td>\n",
       "      <td>2016-07-20</td>\n",
       "      <td>170.5</td>\n",
       "      <td>169.0</td>\n",
       "      <td>170.0</td>\n",
       "      <td>38053000</td>\n",
       "    </tr>\n",
       "    <tr>\n",
       "      <th>2</th>\n",
       "      <td>170.5</td>\n",
       "      <td>170.5</td>\n",
       "      <td>2016-07-19</td>\n",
       "      <td>170.5</td>\n",
       "      <td>169.0</td>\n",
       "      <td>170.5</td>\n",
       "      <td>42456000</td>\n",
       "    </tr>\n",
       "    <tr>\n",
       "      <th>3</th>\n",
       "      <td>169.5</td>\n",
       "      <td>169.5</td>\n",
       "      <td>2016-07-18</td>\n",
       "      <td>170.0</td>\n",
       "      <td>168.0</td>\n",
       "      <td>168.0</td>\n",
       "      <td>24749000</td>\n",
       "    </tr>\n",
       "    <tr>\n",
       "      <th>4</th>\n",
       "      <td>169.5</td>\n",
       "      <td>169.5</td>\n",
       "      <td>2016-07-15</td>\n",
       "      <td>169.5</td>\n",
       "      <td>169.5</td>\n",
       "      <td>169.5</td>\n",
       "      <td>41000</td>\n",
       "    </tr>\n",
       "  </tbody>\n",
       "</table>\n",
       "</div>"
      ],
      "text/plain": [
       "   Adj Close  Close       Date   High    Low   Open    Volume\n",
       "0      172.0  172.0 2016-07-21  172.0  170.0  171.0  33130000\n",
       "1      170.0  170.0 2016-07-20  170.5  169.0  170.0  38053000\n",
       "2      170.5  170.5 2016-07-19  170.5  169.0  170.5  42456000\n",
       "3      169.5  169.5 2016-07-18  170.0  168.0  168.0  24749000\n",
       "4      169.5  169.5 2016-07-15  169.5  169.5  169.5     41000"
      ]
     },
     "execution_count": 35,
     "metadata": {},
     "output_type": "execute_result"
    }
   ],
   "source": [
    "tw2330 = pandas.read_json('https://raw.githubusercontent.com/ywchiu/tibamepy/master/data/2330.json')\n",
    "tw2330.head()"
   ]
  },
  {
   "cell_type": "markdown",
   "metadata": {},
   "source": [
    "## 使用Requests GET 存取網頁\n",
    "- https://zh.wikipedia.org/wiki/HTTP%E7%8A%B6%E6%80%81%E7%A0%81"
   ]
  },
  {
   "cell_type": "code",
   "execution_count": 36,
   "metadata": {},
   "outputs": [
    {
     "data": {
      "text/plain": [
       "<Response [200]>"
      ]
     },
     "execution_count": 36,
     "metadata": {},
     "output_type": "execute_result"
    }
   ],
   "source": [
    "import requests\n",
    "res = requests.get('https://tw.appledaily.com/new/realtime')\n",
    "res"
   ]
  },
  {
   "cell_type": "code",
   "execution_count": 38,
   "metadata": {},
   "outputs": [],
   "source": [
    "#res.text"
   ]
  },
  {
   "cell_type": "markdown",
   "metadata": {},
   "source": [
    "## 使用POST 存取網頁\n",
    "- https://www.thsrc.com.tw/tw/TimeTable/SearchResult"
   ]
  },
  {
   "cell_type": "code",
   "execution_count": 42,
   "metadata": {},
   "outputs": [],
   "source": [
    "import requests\n",
    "\n",
    "url = 'https://www.thsrc.com.tw/tw/TimeTable/SearchResult'\n",
    "\n",
    "payload = {\n",
    "'StartStation': '977abb69-413a-4ccf-a109-0272c24fd490',\n",
    "'EndStation': 'a7a04c89-900b-4798-95a3-c01c455622f4',\n",
    "'SearchDate': '2018/04/21',\n",
    "'SearchTime': '12:00',\n",
    "'SearchWay': 'DepartureInMandarin'\n",
    "}\n",
    "\n",
    "res = requests.post(url, data=payload)\n",
    "\n"
   ]
  },
  {
   "cell_type": "code",
   "execution_count": 43,
   "metadata": {},
   "outputs": [
    {
     "data": {
      "text/plain": [
       "<Response [200]>"
      ]
     },
     "execution_count": 43,
     "metadata": {},
     "output_type": "execute_result"
    }
   ],
   "source": [
    "res"
   ]
  },
  {
   "cell_type": "code",
   "execution_count": 45,
   "metadata": {},
   "outputs": [],
   "source": [
    "#res.text"
   ]
  },
  {
   "cell_type": "markdown",
   "metadata": {},
   "source": [
    "## 台鐵簡易查詢\n",
    "- http://twtraffic.tra.gov.tw/twrail/EasySearch.aspx"
   ]
  },
  {
   "cell_type": "code",
   "execution_count": 46,
   "metadata": {},
   "outputs": [
    {
     "data": {
      "text/plain": [
       "<Response [200]>"
      ]
     },
     "execution_count": 46,
     "metadata": {},
     "output_type": "execute_result"
    }
   ],
   "source": [
    "import requests\n",
    "res = requests.get('http://twtraffic.tra.gov.tw/twrail/SearchResult.aspx?searchtype=0&searchdate=2018/04/21&fromstation=1810&tostation=1008&trainclass=%271100%27,%271101%27,%271102%27,%271107%27,%271110%27,%271120%27&fromtime=0600&totime=2359')\n",
    "res"
   ]
  },
  {
   "cell_type": "code",
   "execution_count": 52,
   "metadata": {},
   "outputs": [
    {
     "data": {
      "text/plain": [
       "requests.models.Response"
      ]
     },
     "execution_count": 52,
     "metadata": {},
     "output_type": "execute_result"
    }
   ],
   "source": [
    "type(res)"
   ]
  },
  {
   "cell_type": "code",
   "execution_count": 48,
   "metadata": {},
   "outputs": [],
   "source": [
    "#res.text"
   ]
  },
  {
   "cell_type": "markdown",
   "metadata": {},
   "source": [
    "## 抓取圖片"
   ]
  },
  {
   "cell_type": "code",
   "execution_count": 49,
   "metadata": {},
   "outputs": [],
   "source": [
    "import requests\n",
    "res = requests.get('https://img.appledaily.com.tw/images/thumbnail/other/5ba954d11a2c4051f26bb879f4d0fcb4.jpg')\n",
    "with open('gua.jpg', 'wb') as f:\n",
    "    f.write(res.content)"
   ]
  },
  {
   "cell_type": "markdown",
   "metadata": {},
   "source": [
    "## 存取PDF"
   ]
  },
  {
   "cell_type": "code",
   "execution_count": 50,
   "metadata": {},
   "outputs": [],
   "source": [
    "res = requests.get('http://doc.twse.com.tw/pdf/201701_2330_AI1_20180421_121255.pdf')\n",
    "with open('2330.pdf', 'wb') as f:\n",
    "    f.write(res.content)"
   ]
  },
  {
   "cell_type": "markdown",
   "metadata": {},
   "source": [
    "## 使用 BeautifulSoup\n",
    "- http://beautifulsoup.readthedocs.io/zh_CN/v4.4.0/"
   ]
  },
  {
   "cell_type": "code",
   "execution_count": 56,
   "metadata": {},
   "outputs": [
    {
     "data": {
      "text/plain": [
       "'\\n\\nHello World\\nThis is link1\\nThis is link2\\n\\n\\n'"
      ]
     },
     "execution_count": 56,
     "metadata": {},
     "output_type": "execute_result"
    }
   ],
   "source": [
    "from bs4 import BeautifulSoup\n",
    "\n",
    "html_sample = '''\n",
    "<html>\n",
    "<body>\n",
    "<h1 id=\"title\">Hello World</h1>\n",
    "<a href=\"#\" class=\"link\">This is link1</a>\n",
    "<a href=\"# link2\" class=\"link\">This is link2</a>\n",
    "</body>\n",
    "</html>\n",
    "'''\n",
    "\n",
    "soup = BeautifulSoup(html_sample, 'lxml')\n",
    "soup.text"
   ]
  },
  {
   "cell_type": "code",
   "execution_count": 57,
   "metadata": {},
   "outputs": [
    {
     "data": {
      "text/plain": [
       "bs4.BeautifulSoup"
      ]
     },
     "execution_count": 57,
     "metadata": {},
     "output_type": "execute_result"
    }
   ],
   "source": [
    "type(soup)"
   ]
  },
  {
   "cell_type": "code",
   "execution_count": 58,
   "metadata": {},
   "outputs": [
    {
     "data": {
      "text/plain": [
       "<h1 id=\"title\">Hello World</h1>"
      ]
     },
     "execution_count": 58,
     "metadata": {},
     "output_type": "execute_result"
    }
   ],
   "source": [
    "soup.select_one('h1')"
   ]
  },
  {
   "cell_type": "code",
   "execution_count": 59,
   "metadata": {},
   "outputs": [
    {
     "data": {
      "text/plain": [
       "'Hello World'"
      ]
     },
     "execution_count": 59,
     "metadata": {},
     "output_type": "execute_result"
    }
   ],
   "source": [
    "soup.select_one('h1').text"
   ]
  },
  {
   "cell_type": "code",
   "execution_count": 60,
   "metadata": {},
   "outputs": [
    {
     "data": {
      "text/plain": [
       "<a class=\"link\" href=\"#\">This is link1</a>"
      ]
     },
     "execution_count": 60,
     "metadata": {},
     "output_type": "execute_result"
    }
   ],
   "source": [
    "soup.select_one('a')"
   ]
  },
  {
   "cell_type": "code",
   "execution_count": 61,
   "metadata": {},
   "outputs": [
    {
     "data": {
      "text/plain": [
       "[<a class=\"link\" href=\"#\">This is link1</a>,\n",
       " <a class=\"link\" href=\"# link2\">This is link2</a>]"
      ]
     },
     "execution_count": 61,
     "metadata": {},
     "output_type": "execute_result"
    }
   ],
   "source": [
    "soup.select('a')"
   ]
  },
  {
   "cell_type": "code",
   "execution_count": 63,
   "metadata": {},
   "outputs": [
    {
     "data": {
      "text/plain": [
       "<a class=\"link\" href=\"#\">This is link1</a>"
      ]
     },
     "execution_count": 63,
     "metadata": {},
     "output_type": "execute_result"
    }
   ],
   "source": [
    "soup.select('a')[0]"
   ]
  },
  {
   "cell_type": "code",
   "execution_count": 64,
   "metadata": {},
   "outputs": [
    {
     "data": {
      "text/plain": [
       "<a class=\"link\" href=\"# link2\">This is link2</a>"
      ]
     },
     "execution_count": 64,
     "metadata": {},
     "output_type": "execute_result"
    }
   ],
   "source": [
    "soup.select('a')[1]"
   ]
  },
  {
   "cell_type": "code",
   "execution_count": 62,
   "metadata": {},
   "outputs": [
    {
     "data": {
      "text/plain": [
       "[<h1 id=\"title\">Hello World</h1>]"
      ]
     },
     "execution_count": 62,
     "metadata": {},
     "output_type": "execute_result"
    }
   ],
   "source": [
    "soup.select('h1')"
   ]
  },
  {
   "cell_type": "code",
   "execution_count": 65,
   "metadata": {},
   "outputs": [
    {
     "data": {
      "text/plain": [
       "<h1 id=\"title\">Hello World</h1>"
      ]
     },
     "execution_count": 65,
     "metadata": {},
     "output_type": "execute_result"
    }
   ],
   "source": [
    "soup.select('h1')[0]"
   ]
  },
  {
   "cell_type": "code",
   "execution_count": 66,
   "metadata": {},
   "outputs": [
    {
     "data": {
      "text/plain": [
       "<h1 id=\"title\">Hello World</h1>"
      ]
     },
     "execution_count": 66,
     "metadata": {},
     "output_type": "execute_result"
    }
   ],
   "source": [
    "# id => #\n",
    "soup.select_one('#title')"
   ]
  },
  {
   "cell_type": "code",
   "execution_count": 68,
   "metadata": {},
   "outputs": [
    {
     "data": {
      "text/plain": [
       "<h1 id=\"title\">Hello World</h1>"
      ]
     },
     "execution_count": 68,
     "metadata": {},
     "output_type": "execute_result"
    }
   ],
   "source": [
    "soup.select_one('h1#title')"
   ]
  },
  {
   "cell_type": "code",
   "execution_count": 69,
   "metadata": {},
   "outputs": [
    {
     "data": {
      "text/plain": [
       "<h1 id=\"title\">Hello World</h1>"
      ]
     },
     "execution_count": 69,
     "metadata": {},
     "output_type": "execute_result"
    }
   ],
   "source": [
    "soup.select_one('body h1')"
   ]
  },
  {
   "cell_type": "code",
   "execution_count": 70,
   "metadata": {},
   "outputs": [
    {
     "data": {
      "text/plain": [
       "<h1 id=\"title\">Hello World</h1>"
      ]
     },
     "execution_count": 70,
     "metadata": {},
     "output_type": "execute_result"
    }
   ],
   "source": [
    "soup.select_one('body h1#title')"
   ]
  },
  {
   "cell_type": "code",
   "execution_count": 67,
   "metadata": {},
   "outputs": [
    {
     "data": {
      "text/plain": [
       "[<a class=\"link\" href=\"#\">This is link1</a>,\n",
       " <a class=\"link\" href=\"# link2\">This is link2</a>]"
      ]
     },
     "execution_count": 67,
     "metadata": {},
     "output_type": "execute_result"
    }
   ],
   "source": [
    "# class => .\n",
    "soup.select('.link')"
   ]
  },
  {
   "cell_type": "code",
   "execution_count": 71,
   "metadata": {},
   "outputs": [
    {
     "data": {
      "text/plain": [
       "[<a class=\"link\" href=\"#\">This is link1</a>,\n",
       " <a class=\"link\" href=\"# link2\">This is link2</a>]"
      ]
     },
     "execution_count": 71,
     "metadata": {},
     "output_type": "execute_result"
    }
   ],
   "source": [
    "soup.select('a.link')"
   ]
  },
  {
   "cell_type": "code",
   "execution_count": 72,
   "metadata": {},
   "outputs": [
    {
     "data": {
      "text/plain": [
       "[<a class=\"link\" href=\"#\">This is link1</a>,\n",
       " <a class=\"link\" href=\"# link2\">This is link2</a>]"
      ]
     },
     "execution_count": 72,
     "metadata": {},
     "output_type": "execute_result"
    }
   ],
   "source": [
    "soup.select('body a.link')"
   ]
  },
  {
   "cell_type": "code",
   "execution_count": 77,
   "metadata": {},
   "outputs": [
    {
     "name": "stdout",
     "output_type": "stream",
     "text": [
      "#\n",
      "# link2\n"
     ]
    }
   ],
   "source": [
    "alinks = soup.select('body a.link')\n",
    "for link in alinks:\n",
    "    #print(link)\n",
    "    #print(link.text)\n",
    "    print(link.get('href'))"
   ]
  },
  {
   "cell_type": "markdown",
   "metadata": {},
   "source": [
    "## 抓取蘋果新聞"
   ]
  },
  {
   "cell_type": "code",
   "execution_count": 78,
   "metadata": {},
   "outputs": [
    {
     "data": {
      "text/plain": [
       "<Response [200]>"
      ]
     },
     "execution_count": 78,
     "metadata": {},
     "output_type": "execute_result"
    }
   ],
   "source": [
    "import requests\n",
    "res = requests.get('https://tw.appledaily.com/new/realtime')\n",
    "res"
   ]
  },
  {
   "cell_type": "code",
   "execution_count": 80,
   "metadata": {},
   "outputs": [],
   "source": [
    "from bs4 import BeautifulSoup\n",
    "soup = BeautifulSoup(res.text, 'lxml')"
   ]
  },
  {
   "cell_type": "markdown",
   "metadata": {},
   "source": [
    "### W3C 中文教程\n",
    "- http://www.w3school.com.cn/html/html_links.asp"
   ]
  },
  {
   "cell_type": "code",
   "execution_count": 90,
   "metadata": {},
   "outputs": [
    {
     "name": "stdout",
     "output_type": "stream",
     "text": [
      "徐佳瑩被爆懷孕後現身　上衣寬鬆踩平底鞋揭... 娛樂 13:34 https://tw.entertainment.appledaily.com/realtime/20180421/1338781/\n",
      "===================================\n",
      "【撿屍片】兩次性行為只同意一次　女子怒告...(94952) 社會 13:30 https://tw.news.appledaily.com/local/realtime/20180421/1337331/\n",
      "===================================\n",
      "【有片】台中今早空品糟透　紫爆讓七期豪宅...(3737) 生活 13:30 https://tw.news.appledaily.com/life/realtime/20180421/1338653/\n",
      "===================================\n",
      "陳菊接任府秘首日　第一個行程拜會星雲大師(1) 政治 13:28 https://tw.news.appledaily.com/politics/realtime/20180421/1338789/\n",
      "===================================\n",
      "女星包包打馬賽克撇炫富　一牆愛馬仕早露餡 娛樂 13:28 https://tw.entertainment.appledaily.com/realtime/20180421/1338733/\n",
      "===================================\n",
      "挖空乾電池藏毒　肉粽當武器阻警追緝(4) 社會 13:27 https://tw.news.appledaily.com/local/realtime/20180421/1338793/\n",
      "===================================\n",
      "囂張！走私15萬包私菸　直接擺漁船甲板不...(26) 社會 13:23 https://tw.news.appledaily.com/local/realtime/20180421/1338792/\n",
      "===================================\n",
      "因應76人擺爛策略　NBA再調降狀元籤機...(102) 體育 13:21 https://tw.sports.appledaily.com/realtime/20180421/1338791/\n",
      "===================================\n",
      "台北鳥籠公寓價　台中換7期別墅(227) 地產 13:19 https://tw.finance.appledaily.com/realtime/20180421/1337243/\n",
      "===================================\n",
      "結束史瓦濟蘭之旅　蔡英文：不會金援外交(260) 政治 13:17 https://tw.news.appledaily.com/politics/realtime/20180421/1338786/\n",
      "===================================\n",
      "退休警後天爭權益　立院周邊公車今起3天改...(216) 生活 13:15 https://tw.news.appledaily.com/life/realtime/20180421/1338782/\n",
      "===================================\n",
      "首季營運遭遇亂流　光寶對下半年有高期望(158) 財經 13:08 https://tw.finance.appledaily.com/realtime/20180421/1338785/\n",
      "===================================\n",
      "【壹週刊】〈神蹟廟算1〉港口宮媽祖顯靈　...(934) 壹週刊 13:05 https://tw.news.appledaily.com/nextmag/realtime/20180421/1338333/\n",
      "===================================\n",
      "【壹週刊】〈神蹟廟算2〉賭客毀神像遭報應...(398) 壹週刊 13:05 https://tw.news.appledaily.com/nextmag/realtime/20180421/1338340/\n",
      "===================================\n",
      "【壹週刊】〈神蹟廟算3〉財神跨海來託夢　...(341) 壹週刊 13:05 https://tw.news.appledaily.com/nextmag/realtime/20180421/1338344/\n",
      "===================================\n",
      "【壹週刊】〈神蹟廟算4〉這個財神爺　名字...(203) 壹週刊 13:05 https://tw.news.appledaily.com/nextmag/realtime/20180421/1338353/\n",
      "===================================\n",
      "國保欠費不繳　1.8萬人終生月領4800...(3237) 生活 13:04 https://tw.news.appledaily.com/life/realtime/20180421/1338728/\n",
      "===================================\n",
      "阻止失智婦吞不明藥　警安撫送回護理之家(160) 社會 13:02 https://tw.news.appledaily.com/local/realtime/20180421/1338773/\n",
      "===================================\n",
      "陳菊任競總主委挨批　蘇貞昌：有人時光錯亂...(3036) 政治 13:00 https://tw.news.appledaily.com/politics/realtime/20180421/1338738/\n",
      "===================================\n",
      "​台灣參與WHA   不可能的任務？(291) 論壇 13:00 https://tw.news.appledaily.com/forum/realtime/20180421/1338761/\n",
      "===================================\n",
      "【更新】大谷翔平4打數2安打　天使1比8...(22283) 體育 12:59 https://tw.sports.appledaily.com/realtime/20180421/1338676/\n",
      "===================================\n",
      "山口茜腿傷退出亞錦賽　戴資穎搶衛冕重返球...(749) 體育 12:58 https://tw.sports.appledaily.com/realtime/20180421/1338778/\n",
      "===================================\n",
      "西南航機引擎爆炸　華航同款引擎需20天內...(658) 生活 12:52 https://tw.news.appledaily.com/life/realtime/20180421/1338767/\n",
      "===================================\n",
      "羅斯力投127球　無安打比賽還是破功(770) 體育 12:52 https://tw.sports.appledaily.com/realtime/20180421/1338776/\n",
      "===================================\n",
      "下周二鋒面來襲　北部低溫僅18℃(6730) 生活 12:51 https://tw.news.appledaily.com/life/realtime/20180421/1338671/\n",
      "===================================\n",
      "掌管市值千億光寶帝國　董座靠走路、瑜珈紓...(1062) 財經 12:45 https://tw.finance.appledaily.com/realtime/20180421/1338774/\n",
      "===================================\n",
      "騎士違規被攔緊張得結巴　原來手上有毒品(485) 社會 12:44 https://tw.news.appledaily.com/local/realtime/20180421/1338769/\n",
      "===================================\n",
      "【有片】車停店門口擋出入　暴怒老闆打人砸...(1303) 社會 12:43 https://tw.news.appledaily.com/local/realtime/20180421/1338768/\n",
      "===================================\n",
      "【大甲媽回鑾】陣頭搶轎開幹濺血　2男毆警...(93369) 社會 12:41 https://tw.news.appledaily.com/local/realtime/20180421/1338624/\n",
      "===================================\n",
      "【有片】柯P直言1280月票「小小缺點」...(25232) 生活 12:40 https://tw.news.appledaily.com/life/realtime/20180421/1338664/\n",
      "===================================\n"
     ]
    }
   ],
   "source": [
    "for news in soup.select('.rtddt a'):\n",
    "    #print(news)\n",
    "    if news.select_one('h1'): # 當h1 存在時 才解析出下面元素\n",
    "        h1 = news.select_one('h1').text\n",
    "        h2 = news.select_one('h2').text\n",
    "        time = news.select_one('time').text\n",
    "        link = news.get('href')\n",
    "        print(h1,h2,time, link)\n",
    "        print('===================================')"
   ]
  },
  {
   "cell_type": "code",
   "execution_count": 94,
   "metadata": {},
   "outputs": [],
   "source": [
    "s = BeautifulSoup(\"<a href='#'></a>\", 'lxml')\n",
    "if s.select_one('h1'):\n",
    "    print('Node Exist')"
   ]
  },
  {
   "cell_type": "markdown",
   "metadata": {},
   "source": [
    "## 抓取內文資訊"
   ]
  },
  {
   "cell_type": "code",
   "execution_count": 95,
   "metadata": {},
   "outputs": [],
   "source": [
    "import requests\n",
    "res  = requests.get('https://tw.entertainment.appledaily.com/realtime/20180421/1338733/')"
   ]
  },
  {
   "cell_type": "code",
   "execution_count": 96,
   "metadata": {},
   "outputs": [],
   "source": [
    "from bs4 import BeautifulSoup\n",
    "soup = BeautifulSoup(res.text , 'lxml')"
   ]
  },
  {
   "cell_type": "markdown",
   "metadata": {},
   "source": [
    "### 抓取了標題資訊"
   ]
  },
  {
   "cell_type": "code",
   "execution_count": 105,
   "metadata": {},
   "outputs": [
    {
     "data": {
      "text/plain": [
       "'女星包包打馬賽克撇炫富\\u3000一牆愛馬仕早露餡'"
      ]
     },
     "execution_count": 105,
     "metadata": {},
     "output_type": "execute_result"
    }
   ],
   "source": [
    "soup.select_one('h1').text"
   ]
  },
  {
   "cell_type": "markdown",
   "metadata": {},
   "source": [
    "### 抓取摘要資訊"
   ]
  },
  {
   "cell_type": "code",
   "execution_count": 106,
   "metadata": {},
   "outputs": [
    {
     "data": {
      "text/plain": [
       "'黃聖依帶著她與富商楊子的長子安迪上《媽媽是超人》，曾傳她怕被罵炫富，特地買下約90坪的「小房子」供節目拍攝，但鏡頭隨便一掃，衣架上數個愛馬仕（HERMES）手袋仍吸睛，而最新一集她背的包包被打馬賽克，但同節目其他女星的包包都大方秀出來，可想而知馬賽克的用意並非為了免除廣告嫌疑，極可能是黃聖依請製作單位別再曝光她的奢華行頭。\\xa0雖然黃聖依精心安排小房子，婆婆住的楊家氣派大宅還是全都露，包括6歲安迪的專屬滑雪場、遊樂場等，令觀眾驚呼「貧窮限制了我的想像」。此外，黃聖依是愛馬仕大戶早就眾所周知，她5年前來台打歌曾透露擁有20多個愛馬仕手袋，最愛要價百萬人民幣的喜馬拉雅柏金包（Himalayan Birkin），採用珍貴的喜馬拉雅鱷魚皮。\\xa0網友好奇，她的包包究竟有多貴，才值得被打馬賽克？也有人認為，與其勞煩製作單位後製打馬賽克，為何不直接換背其他牌子的包包。（娛樂中心／綜合報導）'"
      ]
     },
     "execution_count": 106,
     "metadata": {},
     "output_type": "execute_result"
    }
   ],
   "source": [
    "soup.select_one('.ndArticle_margin p').text.split('看了這則新聞的人')[0]"
   ]
  },
  {
   "cell_type": "markdown",
   "metadata": {},
   "source": [
    "### 抓取時間資訊"
   ]
  },
  {
   "cell_type": "code",
   "execution_count": 107,
   "metadata": {},
   "outputs": [
    {
     "data": {
      "text/plain": [
       "'出版時間：2018/04/21 13:28'"
      ]
     },
     "execution_count": 107,
     "metadata": {},
     "output_type": "execute_result"
    }
   ],
   "source": [
    "soup.select_one('.ndArticle_creat').text"
   ]
  },
  {
   "cell_type": "code",
   "execution_count": 108,
   "metadata": {},
   "outputs": [
    {
     "ename": "TypeError",
     "evalue": "unsupported operand type(s) for -: 'str' and 'str'",
     "output_type": "error",
     "traceback": [
      "\u001b[1;31m---------------------------------------------------------------------------\u001b[0m",
      "\u001b[1;31mTypeError\u001b[0m                                 Traceback (most recent call last)",
      "\u001b[1;32m<ipython-input-108-1fca56d10c8a>\u001b[0m in \u001b[0;36m<module>\u001b[1;34m()\u001b[0m\n\u001b[0;32m      1\u001b[0m \u001b[0ma\u001b[0m \u001b[1;33m=\u001b[0m \u001b[1;34m'2018/04/02'\u001b[0m\u001b[1;33m\u001b[0m\u001b[0m\n\u001b[0;32m      2\u001b[0m \u001b[0mb\u001b[0m \u001b[1;33m=\u001b[0m \u001b[1;34m'2018/04/12'\u001b[0m\u001b[1;33m\u001b[0m\u001b[0m\n\u001b[1;32m----> 3\u001b[1;33m \u001b[0mb\u001b[0m \u001b[1;33m-\u001b[0m \u001b[0ma\u001b[0m\u001b[1;33m\u001b[0m\u001b[0m\n\u001b[0m",
      "\u001b[1;31mTypeError\u001b[0m: unsupported operand type(s) for -: 'str' and 'str'"
     ]
    }
   ],
   "source": [
    "a = '2018/04/02'\n",
    "b = '2018/04/12'\n",
    "b - a"
   ]
  },
  {
   "cell_type": "code",
   "execution_count": 111,
   "metadata": {},
   "outputs": [
    {
     "data": {
      "text/plain": [
       "str"
      ]
     },
     "execution_count": 111,
     "metadata": {},
     "output_type": "execute_result"
    }
   ],
   "source": [
    "dt = soup.select_one('.ndArticle_creat').text.split('：')[1]\n",
    "type(dt)"
   ]
  },
  {
   "cell_type": "markdown",
   "metadata": {},
   "source": [
    "### 將時間轉換為字串"
   ]
  },
  {
   "cell_type": "code",
   "execution_count": 113,
   "metadata": {},
   "outputs": [
    {
     "data": {
      "text/plain": [
       "'2018-04-21'"
      ]
     },
     "execution_count": 113,
     "metadata": {},
     "output_type": "execute_result"
    }
   ],
   "source": [
    "from datetime import datetime\n",
    "current_time = datetime.now()\n",
    "# strftime: convert datetime to string\n",
    "current_time.strftime('%Y-%m-%d')\n",
    "\n",
    "## https://docs.python.org/3/library/datetime.html?highlight=datetime#strftime-and-strptime-behavior"
   ]
  },
  {
   "cell_type": "markdown",
   "metadata": {},
   "source": [
    "### 將字串轉換為時間"
   ]
  },
  {
   "cell_type": "code",
   "execution_count": 114,
   "metadata": {},
   "outputs": [
    {
     "data": {
      "text/plain": [
       "datetime.datetime(2018, 4, 21, 13, 28)"
      ]
     },
     "execution_count": 114,
     "metadata": {},
     "output_type": "execute_result"
    }
   ],
   "source": [
    "from datetime import datetime\n",
    "s = '2018/04/21 13:28'\n",
    "datetime.strptime(s, '%Y/%m/%d %H:%M')"
   ]
  },
  {
   "cell_type": "code",
   "execution_count": 118,
   "metadata": {},
   "outputs": [
    {
     "data": {
      "text/plain": [
       "datetime.datetime(2018, 4, 21, 13, 28)"
      ]
     },
     "execution_count": 118,
     "metadata": {},
     "output_type": "execute_result"
    }
   ],
   "source": [
    "dt = soup.select_one('.ndArticle_creat').text.split('：')[1]\n",
    "datetime.strptime(dt, '%Y/%m/%d %H:%M')"
   ]
  },
  {
   "cell_type": "code",
   "execution_count": 122,
   "metadata": {},
   "outputs": [
    {
     "data": {
      "text/plain": [
       "datetime.timedelta(0, 4206, 155516)"
      ]
     },
     "execution_count": 122,
     "metadata": {},
     "output_type": "execute_result"
    }
   ],
   "source": [
    "current_time = datetime.now()\n",
    "current_time - datetime.strptime(dt, '%Y/%m/%d %H:%M')"
   ]
  },
  {
   "cell_type": "markdown",
   "metadata": {},
   "source": [
    "### 取出人氣資料"
   ]
  },
  {
   "cell_type": "code",
   "execution_count": 127,
   "metadata": {},
   "outputs": [
    {
     "data": {
      "text/plain": [
       "4912"
      ]
     },
     "execution_count": 127,
     "metadata": {},
     "output_type": "execute_result"
    }
   ],
   "source": [
    "int(soup.select_one('.ndArticle_view').text)"
   ]
  },
  {
   "cell_type": "markdown",
   "metadata": {},
   "source": [
    "### 取出類別資料"
   ]
  },
  {
   "cell_type": "code",
   "execution_count": 126,
   "metadata": {},
   "outputs": [
    {
     "data": {
      "text/plain": [
       "'娛樂'"
      ]
     },
     "execution_count": 126,
     "metadata": {},
     "output_type": "execute_result"
    }
   ],
   "source": [
    "soup.select_one('.ndgTag .current').text"
   ]
  },
  {
   "cell_type": "markdown",
   "metadata": {},
   "source": [
    "### 製作內文抓取函數"
   ]
  },
  {
   "cell_type": "code",
   "execution_count": 135,
   "metadata": {},
   "outputs": [],
   "source": [
    "import requests\n",
    "from bs4 import BeautifulSoup\n",
    "\n",
    "url = 'https://tw.entertainment.appledaily.com/realtime/20180421/1338733/'\n",
    "\n",
    "def pageDetail(url):\n",
    "    res  = requests.get(url)\n",
    "    soup = BeautifulSoup(res.text , 'lxml')\n",
    "\n",
    "    ret     = {}\n",
    "\n",
    "    title   = soup.select_one('h1').text\n",
    "    summary = soup.select_one('.ndArticle_margin p').text.split('看了這則新聞的人')[0]\n",
    "\n",
    "    dt = soup.select_one('.ndArticle_creat').text.split('：')[1]\n",
    "    dt = datetime.strptime(dt, '%Y/%m/%d %H:%M')\n",
    "\n",
    "    clicked = 0\n",
    "    if soup.select_one('.ndArticle_view'):\n",
    "        clicked  = int(soup.select_one('.ndArticle_view').text)\n",
    "\n",
    "    category = soup.select_one('.ndgTag .current').text\n",
    "\n",
    "    ret['title']    = title\n",
    "    ret['summary']  = summary\n",
    "    ret['dt']       = dt\n",
    "    ret['clicked']  = clicked\n",
    "    ret['category'] = category\n",
    "\n",
    "    return ret"
   ]
  },
  {
   "cell_type": "code",
   "execution_count": 136,
   "metadata": {},
   "outputs": [
    {
     "data": {
      "text/plain": [
       "{'category': '娛樂',\n",
       " 'clicked': 10996,\n",
       " 'dt': datetime.datetime(2018, 4, 21, 13, 28),\n",
       " 'summary': '黃聖依帶著她與富商楊子的長子安迪上《媽媽是超人》，曾傳她怕被罵炫富，特地買下約90坪的「小房子」供節目拍攝，但鏡頭隨便一掃，衣架上數個愛馬仕（HERMES）手袋仍吸睛，而最新一集她背的包包被打馬賽克，但同節目其他女星的包包都大方秀出來，可想而知馬賽克的用意並非為了免除廣告嫌疑，極可能是黃聖依請製作單位別再曝光她的奢華行頭。\\xa0雖然黃聖依精心安排小房子，婆婆住的楊家氣派大宅還是全都露，包括6歲安迪的專屬滑雪場、遊樂場等，令觀眾驚呼「貧窮限制了我的想像」。此外，黃聖依是愛馬仕大戶早就眾所周知，她5年前來台打歌曾透露擁有20多個愛馬仕手袋，最愛要價百萬人民幣的喜馬拉雅柏金包（Himalayan Birkin），採用珍貴的喜馬拉雅鱷魚皮。\\xa0網友好奇，她的包包究竟有多貴，才值得被打馬賽克？也有人認為，與其勞煩製作單位後製打馬賽克，為何不直接換背其他牌子的包包。（娛樂中心／綜合報導）',\n",
       " 'title': '女星包包打馬賽克撇炫富\\u3000一牆愛馬仕早露餡'}"
      ]
     },
     "execution_count": 136,
     "metadata": {},
     "output_type": "execute_result"
    }
   ],
   "source": [
    "url = 'https://tw.entertainment.appledaily.com/realtime/20180421/1338733/'\n",
    "\n",
    "pageDetail(url)"
   ]
  },
  {
   "cell_type": "code",
   "execution_count": 137,
   "metadata": {},
   "outputs": [
    {
     "data": {
      "text/plain": [
       "{'category': '財經地產',\n",
       " 'clicked': 3663,\n",
       " 'dt': datetime.datetime(2018, 4, 21, 13, 58),\n",
       " 'summary': '更新：新增影片談到華為，就會讓人想到著名的狼性文化，華為技術台灣總代理訊崴技術總經理雍海任職台灣操盤手已2年，近期為擴大組織，積極面試新人，他透露他一定會問面試者的一個問題就是：「你的夢想是什麼」。Interbrandr近期發布的《2017年全球最佳品牌》排名顯示，華為名列全球第70名，品牌價值較去年提升14%。稱之為國際品牌當之無愧。 又到了每年新鮮人求職的旺季，不免讓人好奇，要進入華為工作，可能會被詢問的問題是什麼？雍海在到台灣任職前，不僅在中國市場任職過，他也曾外派歐洲荷蘭等市場，他說，他一定會問面試者的問題就是「你的夢想是什麼？我們能不能幫助你實現夢想？」雍海指出，賺錢是一方面，但賺錢其實是在追求夢想中的過程副產品，一個人如果連對自己的未來不深入思考、規劃，在工作上也不一定盡心。雍海也指出，台灣的年輕人是蠻優秀，受的教育程度也非常高，但現在面臨非常大問題就是視野不夠開闊，局限了想像力和未來的憧憬，未來的憧憬就是華為所謂的奮鬥精神。 問夢想和追求就是想要看到他的奮鬥精神，因為當人慢慢成長時，就會發賺錢賺最多的，不一定是最幸福的人。雍海也說明，一個人夢想不一定要很明確、很長遠，但至少要有大致的方向和階段性目標，他比較喜歡能自我挑戰的人，要能夠「馬不揚鞭，自奮蹄」，不是要別人抽著他跑的人。（陳俐妏／台北報導）出版：12:31更新：13:58',\n",
       " 'title': '這個狼性文化的公司\\u3000會問面試者的問題出乎意料'}"
      ]
     },
     "execution_count": 137,
     "metadata": {},
     "output_type": "execute_result"
    }
   ],
   "source": [
    "pageDetail('https://tw.finance.appledaily.com/realtime/20180421/1338763/')"
   ]
  },
  {
   "cell_type": "code",
   "execution_count": 138,
   "metadata": {},
   "outputs": [
    {
     "data": {
      "text/plain": [
       "{'category': '生活',\n",
       " 'clicked': 0,\n",
       " 'dt': datetime.datetime(2018, 4, 21, 14, 45),\n",
       " 'summary': '有意爭取民進黨台北市長提名參選的民進黨立委姚文智，將於明天發起「機蛋大遊行」，並凝聚反對台北市長柯文哲的勢力，邀請民眾從松山機場走到台北大巨蛋。但網友在PTT爆料稱，有人在通訊軟體LINE的某個打工群組募集「4/22造勢遊行」走路工，報酬500元。台北市議員民進黨團總召李慶鋒今受訪說，聽聞此訊息直覺「太荒謬」，在這個時代他相信姚本人或民代們應該不會做這種事。李也質疑是否為「熱心過頭」，或「超級有可能」是反動員、對手的支持者，意圖影響遊行的正當性而有的抹黑或造謠的行為；也可能沒有根據的謠言、在網路擴大或帶風向。李慶鋒也說，市議會民進黨團雖協助姚辦活動，仍尊重議員個人的態度，據他所知就有議員不會參加。（郭美瑜／台北報導）',\n",
       " 'title': '遊行遭影射有走路工\\u3000綠營：反動員招術？'}"
      ]
     },
     "execution_count": 138,
     "metadata": {},
     "output_type": "execute_result"
    }
   ],
   "source": [
    "pageDetail('https://tw.news.appledaily.com/life/realtime/20180421/1338833/')"
   ]
  },
  {
   "cell_type": "code",
   "execution_count": 142,
   "metadata": {},
   "outputs": [],
   "source": [
    "import requests\n",
    "from bs4 import BeautifulSoup\n",
    "res  = requests.get('https://tw.appledaily.com/new/realtime')\n",
    "soup = BeautifulSoup(res.text, 'lxml')\n",
    "\n",
    "newsary = []\n",
    "for news in soup.select('.rtddt a'):\n",
    "    url = news.get('href')\n",
    "    newsary.append(pageDetail(url))"
   ]
  },
  {
   "cell_type": "code",
   "execution_count": 144,
   "metadata": {},
   "outputs": [],
   "source": [
    "#newsary"
   ]
  },
  {
   "cell_type": "code",
   "execution_count": 145,
   "metadata": {},
   "outputs": [
    {
     "data": {
      "text/html": [
       "<div>\n",
       "<style scoped>\n",
       "    .dataframe tbody tr th:only-of-type {\n",
       "        vertical-align: middle;\n",
       "    }\n",
       "\n",
       "    .dataframe tbody tr th {\n",
       "        vertical-align: top;\n",
       "    }\n",
       "\n",
       "    .dataframe thead th {\n",
       "        text-align: right;\n",
       "    }\n",
       "</style>\n",
       "<table border=\"1\" class=\"dataframe\">\n",
       "  <thead>\n",
       "    <tr style=\"text-align: right;\">\n",
       "      <th></th>\n",
       "      <th>a</th>\n",
       "      <th>b</th>\n",
       "      <th>c</th>\n",
       "    </tr>\n",
       "  </thead>\n",
       "  <tbody>\n",
       "    <tr>\n",
       "      <th>0</th>\n",
       "      <td>1</td>\n",
       "      <td>2.0</td>\n",
       "      <td>3</td>\n",
       "    </tr>\n",
       "    <tr>\n",
       "      <th>1</th>\n",
       "      <td>100</td>\n",
       "      <td>NaN</td>\n",
       "      <td>30</td>\n",
       "    </tr>\n",
       "  </tbody>\n",
       "</table>\n",
       "</div>"
      ],
      "text/plain": [
       "     a    b   c\n",
       "0    1  2.0   3\n",
       "1  100  NaN  30"
      ]
     },
     "execution_count": 145,
     "metadata": {},
     "output_type": "execute_result"
    }
   ],
   "source": [
    "a = {'a':1, 'b':2, 'c':3}\n",
    "b = {'a':100, 'c':30}\n",
    "\n",
    "import pandas\n",
    "pandas.DataFrame([a,b])"
   ]
  },
  {
   "cell_type": "code",
   "execution_count": 146,
   "metadata": {},
   "outputs": [],
   "source": [
    "newsdf = pandas.DataFrame(newsary)"
   ]
  },
  {
   "cell_type": "code",
   "execution_count": 148,
   "metadata": {},
   "outputs": [
    {
     "data": {
      "text/html": [
       "<div>\n",
       "<style scoped>\n",
       "    .dataframe tbody tr th:only-of-type {\n",
       "        vertical-align: middle;\n",
       "    }\n",
       "\n",
       "    .dataframe tbody tr th {\n",
       "        vertical-align: top;\n",
       "    }\n",
       "\n",
       "    .dataframe thead th {\n",
       "        text-align: right;\n",
       "    }\n",
       "</style>\n",
       "<table border=\"1\" class=\"dataframe\">\n",
       "  <thead>\n",
       "    <tr style=\"text-align: right;\">\n",
       "      <th></th>\n",
       "      <th>category</th>\n",
       "      <th>clicked</th>\n",
       "      <th>dt</th>\n",
       "      <th>summary</th>\n",
       "      <th>title</th>\n",
       "    </tr>\n",
       "  </thead>\n",
       "  <tbody>\n",
       "    <tr>\n",
       "      <th>0</th>\n",
       "      <td>社會</td>\n",
       "      <td>0</td>\n",
       "      <td>2018-04-21 15:12:00</td>\n",
       "      <td>外傭當面逃，警方擦身而過卻礙於法規不能抓！有一名網友在臉書社團「爆料公社」PO文，表示自己的...</td>\n",
       "      <td>瑪爾濟斯變拉拉外傭逃　警礙於法規無法抓</td>\n",
       "    </tr>\n",
       "    <tr>\n",
       "      <th>1</th>\n",
       "      <td>體育</td>\n",
       "      <td>0</td>\n",
       "      <td>2018-04-21 15:11:00</td>\n",
       "      <td>紅襪隊今天客場出戰運動家，雖然1局下就被對手攻下3分，但2局上靠布萊德利(Jackie Br...</td>\n",
       "      <td>莫蘭滿貫砲率隊勝運動家　紅襪創30年來最佳開季</td>\n",
       "    </tr>\n",
       "    <tr>\n",
       "      <th>2</th>\n",
       "      <td>論壇</td>\n",
       "      <td>0</td>\n",
       "      <td>2018-04-21 15:11:00</td>\n",
       "      <td>張昭仁／加州會計師 上個月美國智庫\"2049計劃室\"研究員易思安訪台，非常警訝台灣在國際形式...</td>\n",
       "      <td>易思安的困惑</td>\n",
       "    </tr>\n",
       "  </tbody>\n",
       "</table>\n",
       "</div>"
      ],
      "text/plain": [
       "  category  clicked                  dt  \\\n",
       "0       社會        0 2018-04-21 15:12:00   \n",
       "1       體育        0 2018-04-21 15:11:00   \n",
       "2       論壇        0 2018-04-21 15:11:00   \n",
       "\n",
       "                                             summary                    title  \n",
       "0  外傭當面逃，警方擦身而過卻礙於法規不能抓！有一名網友在臉書社團「爆料公社」PO文，表示自己的...      瑪爾濟斯變拉拉外傭逃　警礙於法規無法抓  \n",
       "1  紅襪隊今天客場出戰運動家，雖然1局下就被對手攻下3分，但2局上靠布萊德利(Jackie Br...  莫蘭滿貫砲率隊勝運動家　紅襪創30年來最佳開季  \n",
       "2  張昭仁／加州會計師 上個月美國智庫\"2049計劃室\"研究員易思安訪台，非常警訝台灣在國際形式...                   易思安的困惑  "
      ]
     },
     "execution_count": 148,
     "metadata": {},
     "output_type": "execute_result"
    }
   ],
   "source": [
    "newsdf.head(3)"
   ]
  },
  {
   "cell_type": "code",
   "execution_count": 151,
   "metadata": {},
   "outputs": [
    {
     "name": "stdout",
     "output_type": "stream",
     "text": [
      "https://tw.appledaily.com/new/realtime/1\n",
      "https://tw.appledaily.com/new/realtime/2\n",
      "https://tw.appledaily.com/new/realtime/3\n",
      "https://tw.appledaily.com/new/realtime/4\n",
      "https://tw.appledaily.com/new/realtime/5\n"
     ]
    }
   ],
   "source": [
    "url = 'https://tw.appledaily.com/new/realtime/{}'\n",
    "\n",
    "for i in range(1,6):\n",
    "    print(url.format(i))"
   ]
  },
  {
   "cell_type": "code",
   "execution_count": 152,
   "metadata": {},
   "outputs": [
    {
     "name": "stdout",
     "output_type": "stream",
     "text": [
      "processing page : 1\n",
      "processing page : 2\n",
      "processing page : 3\n",
      "processing page : 4\n",
      "processing page : 5\n"
     ]
    }
   ],
   "source": [
    "import requests\n",
    "from bs4 import BeautifulSoup\n",
    "pageurl = 'https://tw.appledaily.com/new/realtime/{}'\n",
    "\n",
    "\n",
    "newsary = []\n",
    "for i in range(1,6):\n",
    "    res  = requests.get(pageurl.format(i))\n",
    "    soup = BeautifulSoup(res.text, 'lxml')\n",
    "    for news in soup.select('.rtddt a'):\n",
    "        url = news.get('href')\n",
    "        newsary.append(pageDetail(url))\n",
    "    print('processing page :', i)"
   ]
  },
  {
   "cell_type": "code",
   "execution_count": 154,
   "metadata": {},
   "outputs": [
    {
     "data": {
      "text/plain": [
       "150"
      ]
     },
     "execution_count": 154,
     "metadata": {},
     "output_type": "execute_result"
    }
   ],
   "source": [
    "len(newsary)"
   ]
  },
  {
   "cell_type": "code",
   "execution_count": 156,
   "metadata": {},
   "outputs": [],
   "source": [
    "import pandas\n",
    "newsdf = pandas.DataFrame(newsary)\n",
    "#newsdf"
   ]
  },
  {
   "cell_type": "code",
   "execution_count": 159,
   "metadata": {},
   "outputs": [
    {
     "data": {
      "text/html": [
       "<div>\n",
       "<style scoped>\n",
       "    .dataframe tbody tr th:only-of-type {\n",
       "        vertical-align: middle;\n",
       "    }\n",
       "\n",
       "    .dataframe tbody tr th {\n",
       "        vertical-align: top;\n",
       "    }\n",
       "\n",
       "    .dataframe thead th {\n",
       "        text-align: right;\n",
       "    }\n",
       "</style>\n",
       "<table border=\"1\" class=\"dataframe\">\n",
       "  <thead>\n",
       "    <tr style=\"text-align: right;\">\n",
       "      <th></th>\n",
       "      <th>category</th>\n",
       "      <th>clicked</th>\n",
       "      <th>dt</th>\n",
       "      <th>summary</th>\n",
       "      <th>title</th>\n",
       "    </tr>\n",
       "  </thead>\n",
       "  <tbody>\n",
       "    <tr>\n",
       "      <th>31</th>\n",
       "      <td>社會</td>\n",
       "      <td>287859</td>\n",
       "      <td>2018-04-21 14:30:00</td>\n",
       "      <td>（更新：新增內容）一名年逾六旬、身價約50億元的科技公司老董，6年前結識一名熟女，陷入情海後...</td>\n",
       "      <td>【剝皮片】身價50億老董暈船　美魔女海削1億元</td>\n",
       "    </tr>\n",
       "    <tr>\n",
       "      <th>112</th>\n",
       "      <td>生活</td>\n",
       "      <td>262222</td>\n",
       "      <td>2018-04-21 12:03:00</td>\n",
       "      <td>（更新：新增配音影片）好市多近日上架一雙運動品牌NIKE復古球鞋，1800元有找，許多網友買...</td>\n",
       "      <td>便宜1千！搶好市多這雙鞋　網友：根本秒殺</td>\n",
       "    </tr>\n",
       "    <tr>\n",
       "      <th>24</th>\n",
       "      <td>國際</td>\n",
       "      <td>128915</td>\n",
       "      <td>2018-04-21 14:48:00</td>\n",
       "      <td>（更新：新增動新聞）北韓領導人金正恩在今日稍早宣布，決定從今日起終止核試、停止射飛彈，並廢棄...</td>\n",
       "      <td>【不射了片】金正恩宣布終止核試　全力拚經濟</td>\n",
       "    </tr>\n",
       "    <tr>\n",
       "      <th>118</th>\n",
       "      <td>體育</td>\n",
       "      <td>121459</td>\n",
       "      <td>2018-04-21 11:57:00</td>\n",
       "      <td>(新增影片)富邦悍將昨天在主場與中信兄弟之戰，8局下，今年從中信轉隊至富邦的蔣智賢，因為中信...</td>\n",
       "      <td>【有片】推了史耐德一把　象迷湧進蔣智賢粉專洩憤</td>\n",
       "    </tr>\n",
       "    <tr>\n",
       "      <th>64</th>\n",
       "      <td>社會</td>\n",
       "      <td>116735</td>\n",
       "      <td>2018-04-21 13:30:00</td>\n",
       "      <td>（更新：新增內容）台北市一名年輕女子，上月與男性友人餐敘中被紅酒、白酒灌醉，事後被對方撿屍帶...</td>\n",
       "      <td>【撿屍片】兩次性行為只同意一次　女子怒告性侵</td>\n",
       "    </tr>\n",
       "  </tbody>\n",
       "</table>\n",
       "</div>"
      ],
      "text/plain": [
       "    category  clicked                  dt  \\\n",
       "31        社會   287859 2018-04-21 14:30:00   \n",
       "112       生活   262222 2018-04-21 12:03:00   \n",
       "24        國際   128915 2018-04-21 14:48:00   \n",
       "118       體育   121459 2018-04-21 11:57:00   \n",
       "64        社會   116735 2018-04-21 13:30:00   \n",
       "\n",
       "                                               summary  \\\n",
       "31   （更新：新增內容）一名年逾六旬、身價約50億元的科技公司老董，6年前結識一名熟女，陷入情海後...   \n",
       "112  （更新：新增配音影片）好市多近日上架一雙運動品牌NIKE復古球鞋，1800元有找，許多網友買...   \n",
       "24   （更新：新增動新聞）北韓領導人金正恩在今日稍早宣布，決定從今日起終止核試、停止射飛彈，並廢棄...   \n",
       "118  (新增影片)富邦悍將昨天在主場與中信兄弟之戰，8局下，今年從中信轉隊至富邦的蔣智賢，因為中信...   \n",
       "64   （更新：新增內容）台北市一名年輕女子，上月與男性友人餐敘中被紅酒、白酒灌醉，事後被對方撿屍帶...   \n",
       "\n",
       "                       title  \n",
       "31   【剝皮片】身價50億老董暈船　美魔女海削1億元  \n",
       "112     便宜1千！搶好市多這雙鞋　網友：根本秒殺  \n",
       "24     【不射了片】金正恩宣布終止核試　全力拚經濟  \n",
       "118  【有片】推了史耐德一把　象迷湧進蔣智賢粉專洩憤  \n",
       "64    【撿屍片】兩次性行為只同意一次　女子怒告性侵  "
      ]
     },
     "execution_count": 159,
     "metadata": {},
     "output_type": "execute_result"
    }
   ],
   "source": [
    "newsdf.sort_values('clicked', ascending=False).head()"
   ]
  },
  {
   "cell_type": "code",
   "execution_count": 161,
   "metadata": {},
   "outputs": [
    {
     "data": {
      "text/plain": [
       "category\n",
       "3C       15837\n",
       "副刊        2007\n",
       "動物        2562\n",
       "國際      128915\n",
       "壹週刊       3755\n",
       "娛樂       30474\n",
       "政治       35250\n",
       "生活      262222\n",
       "社會      287859\n",
       "論壇        1631\n",
       "財經地產     35143\n",
       "體育      121459\n",
       "Name: clicked, dtype: int64"
      ]
     },
     "execution_count": 161,
     "metadata": {},
     "output_type": "execute_result"
    }
   ],
   "source": [
    "newsdf.groupby('category')['clicked'].max()"
   ]
  },
  {
   "cell_type": "code",
   "execution_count": 164,
   "metadata": {
    "scrolled": true
   },
   "outputs": [
    {
     "data": {
      "text/html": [
       "<div>\n",
       "<style scoped>\n",
       "    .dataframe tbody tr th:only-of-type {\n",
       "        vertical-align: middle;\n",
       "    }\n",
       "\n",
       "    .dataframe tbody tr th {\n",
       "        vertical-align: top;\n",
       "    }\n",
       "\n",
       "    .dataframe thead th {\n",
       "        text-align: right;\n",
       "    }\n",
       "</style>\n",
       "<table border=\"1\" class=\"dataframe\">\n",
       "  <thead>\n",
       "    <tr style=\"text-align: right;\">\n",
       "      <th></th>\n",
       "      <th>category</th>\n",
       "      <th>clicked</th>\n",
       "      <th>dt</th>\n",
       "      <th>summary</th>\n",
       "      <th>title</th>\n",
       "    </tr>\n",
       "  </thead>\n",
       "  <tbody>\n",
       "    <tr>\n",
       "      <th>18</th>\n",
       "      <td>政治</td>\n",
       "      <td>35250</td>\n",
       "      <td>2018-04-21 14:55:00</td>\n",
       "      <td>（更新：新增網友意見）陸軍特戰指揮部第一營長達11天275公里的年度國軍山隘行軍，昨日清晨抵...</td>\n",
       "      <td>【更新】特戰媽媽山隘行軍275公里　兒子獻吻喜極而泣</td>\n",
       "    </tr>\n",
       "    <tr>\n",
       "      <th>24</th>\n",
       "      <td>國際</td>\n",
       "      <td>128915</td>\n",
       "      <td>2018-04-21 14:48:00</td>\n",
       "      <td>（更新：新增動新聞）北韓領導人金正恩在今日稍早宣布，決定從今日起終止核試、停止射飛彈，並廢棄...</td>\n",
       "      <td>【不射了片】金正恩宣布終止核試　全力拚經濟</td>\n",
       "    </tr>\n",
       "    <tr>\n",
       "      <th>31</th>\n",
       "      <td>社會</td>\n",
       "      <td>287859</td>\n",
       "      <td>2018-04-21 14:30:00</td>\n",
       "      <td>（更新：新增內容）一名年逾六旬、身價約50億元的科技公司老董，6年前結識一名熟女，陷入情海後...</td>\n",
       "      <td>【剝皮片】身價50億老董暈船　美魔女海削1億元</td>\n",
       "    </tr>\n",
       "    <tr>\n",
       "      <th>75</th>\n",
       "      <td>壹週刊</td>\n",
       "      <td>3755</td>\n",
       "      <td>2018-04-21 13:05:00</td>\n",
       "      <td>每年農曆三月的「瘋媽祖」是台灣宗教信仰及歷史文化中的一大盛典，而台灣也因地理位置四面環海、漁...</td>\n",
       "      <td>【壹週刊】〈神蹟廟算1〉港口宮媽祖顯靈　索命冤死豬成神</td>\n",
       "    </tr>\n",
       "    <tr>\n",
       "      <th>94</th>\n",
       "      <td>3C</td>\n",
       "      <td>15837</td>\n",
       "      <td>2018-04-21 12:31:00</td>\n",
       "      <td>（更新︰新增評語） 想預訂美味蛋糕幫媽媽過節的人可以準備出手啦！《蘋果日報》一年一度的母親節...</td>\n",
       "      <td>【蛋糕評比】奪冠草莓捲　美食家驚呼完美</td>\n",
       "    </tr>\n",
       "    <tr>\n",
       "      <th>112</th>\n",
       "      <td>生活</td>\n",
       "      <td>262222</td>\n",
       "      <td>2018-04-21 12:03:00</td>\n",
       "      <td>（更新：新增配音影片）好市多近日上架一雙運動品牌NIKE復古球鞋，1800元有找，許多網友買...</td>\n",
       "      <td>便宜1千！搶好市多這雙鞋　網友：根本秒殺</td>\n",
       "    </tr>\n",
       "    <tr>\n",
       "      <th>117</th>\n",
       "      <td>副刊</td>\n",
       "      <td>2007</td>\n",
       "      <td>2018-04-21 11:58:00</td>\n",
       "      <td>3月在台進行短暫VIP預賞、就已狂接訂單破百台的Lamborghini首款超級SUV—Uru...</td>\n",
       "      <td>【直播預告】蠻牛首款超級SUV　20:00義大利獨家搶試</td>\n",
       "    </tr>\n",
       "    <tr>\n",
       "      <th>118</th>\n",
       "      <td>體育</td>\n",
       "      <td>121459</td>\n",
       "      <td>2018-04-21 11:57:00</td>\n",
       "      <td>(新增影片)富邦悍將昨天在主場與中信兄弟之戰，8局下，今年從中信轉隊至富邦的蔣智賢，因為中信...</td>\n",
       "      <td>【有片】推了史耐德一把　象迷湧進蔣智賢粉專洩憤</td>\n",
       "    </tr>\n",
       "    <tr>\n",
       "      <th>121</th>\n",
       "      <td>動物</td>\n",
       "      <td>2562</td>\n",
       "      <td>2018-04-21 11:54:00</td>\n",
       "      <td>都說喵星人和汪星人水火不融，雖然不是百分之百如此，但是還是有錯棚就被對方堵死的情況發生。例如...</td>\n",
       "      <td>不慎誤入喵星人地盤　汪：我知道錯了‧‧‧</td>\n",
       "    </tr>\n",
       "    <tr>\n",
       "      <th>123</th>\n",
       "      <td>娛樂</td>\n",
       "      <td>30474</td>\n",
       "      <td>2018-04-21 11:39:00</td>\n",
       "      <td>漫威超級電影《復仇者聯盟》系列將推出第3集《復仇者聯盟：無限之戰》（Avengers: In...</td>\n",
       "      <td>【漫威狂潮2】復仇者聯盟族譜揭密　3英雄因她成表兄弟</td>\n",
       "    </tr>\n",
       "    <tr>\n",
       "      <th>130</th>\n",
       "      <td>論壇</td>\n",
       "      <td>1631</td>\n",
       "      <td>2018-04-21 11:26:00</td>\n",
       "      <td>簡松柏／台南高分院公設辯護人 關於小燈泡母親王女士在臉書上的非難：「......今天看到新聞...</td>\n",
       "      <td>​小燈泡案司法問題的雞同鴨講？</td>\n",
       "    </tr>\n",
       "    <tr>\n",
       "      <th>138</th>\n",
       "      <td>財經地產</td>\n",
       "      <td>35143</td>\n",
       "      <td>2018-04-21 11:10:00</td>\n",
       "      <td>更新:專家意見每個台灣人的記憶轉角，都有一攤屬於自己的紅豆餅，對於26歲的林宏彥來說，那不只...</td>\n",
       "      <td>【微視蘋】26歲小鮮肉當家　紅豆餅玩轉人生（動畫）</td>\n",
       "    </tr>\n",
       "  </tbody>\n",
       "</table>\n",
       "</div>"
      ],
      "text/plain": [
       "    category  clicked                  dt  \\\n",
       "18        政治    35250 2018-04-21 14:55:00   \n",
       "24        國際   128915 2018-04-21 14:48:00   \n",
       "31        社會   287859 2018-04-21 14:30:00   \n",
       "75       壹週刊     3755 2018-04-21 13:05:00   \n",
       "94        3C    15837 2018-04-21 12:31:00   \n",
       "112       生活   262222 2018-04-21 12:03:00   \n",
       "117       副刊     2007 2018-04-21 11:58:00   \n",
       "118       體育   121459 2018-04-21 11:57:00   \n",
       "121       動物     2562 2018-04-21 11:54:00   \n",
       "123       娛樂    30474 2018-04-21 11:39:00   \n",
       "130       論壇     1631 2018-04-21 11:26:00   \n",
       "138     財經地產    35143 2018-04-21 11:10:00   \n",
       "\n",
       "                                               summary  \\\n",
       "18   （更新：新增網友意見）陸軍特戰指揮部第一營長達11天275公里的年度國軍山隘行軍，昨日清晨抵...   \n",
       "24   （更新：新增動新聞）北韓領導人金正恩在今日稍早宣布，決定從今日起終止核試、停止射飛彈，並廢棄...   \n",
       "31   （更新：新增內容）一名年逾六旬、身價約50億元的科技公司老董，6年前結識一名熟女，陷入情海後...   \n",
       "75   每年農曆三月的「瘋媽祖」是台灣宗教信仰及歷史文化中的一大盛典，而台灣也因地理位置四面環海、漁...   \n",
       "94   （更新︰新增評語） 想預訂美味蛋糕幫媽媽過節的人可以準備出手啦！《蘋果日報》一年一度的母親節...   \n",
       "112  （更新：新增配音影片）好市多近日上架一雙運動品牌NIKE復古球鞋，1800元有找，許多網友買...   \n",
       "117  3月在台進行短暫VIP預賞、就已狂接訂單破百台的Lamborghini首款超級SUV—Uru...   \n",
       "118  (新增影片)富邦悍將昨天在主場與中信兄弟之戰，8局下，今年從中信轉隊至富邦的蔣智賢，因為中信...   \n",
       "121  都說喵星人和汪星人水火不融，雖然不是百分之百如此，但是還是有錯棚就被對方堵死的情況發生。例如...   \n",
       "123  漫威超級電影《復仇者聯盟》系列將推出第3集《復仇者聯盟：無限之戰》（Avengers: In...   \n",
       "130  簡松柏／台南高分院公設辯護人 關於小燈泡母親王女士在臉書上的非難：「......今天看到新聞...   \n",
       "138  更新:專家意見每個台灣人的記憶轉角，都有一攤屬於自己的紅豆餅，對於26歲的林宏彥來說，那不只...   \n",
       "\n",
       "                            title  \n",
       "18     【更新】特戰媽媽山隘行軍275公里　兒子獻吻喜極而泣  \n",
       "24          【不射了片】金正恩宣布終止核試　全力拚經濟  \n",
       "31        【剝皮片】身價50億老董暈船　美魔女海削1億元  \n",
       "75    【壹週刊】〈神蹟廟算1〉港口宮媽祖顯靈　索命冤死豬成神  \n",
       "94            【蛋糕評比】奪冠草莓捲　美食家驚呼完美  \n",
       "112          便宜1千！搶好市多這雙鞋　網友：根本秒殺  \n",
       "117  【直播預告】蠻牛首款超級SUV　20:00義大利獨家搶試  \n",
       "118       【有片】推了史耐德一把　象迷湧進蔣智賢粉專洩憤  \n",
       "121         不慎誤入喵星人地盤　汪：我知道錯了‧‧‧　  \n",
       "123    【漫威狂潮2】復仇者聯盟族譜揭密　3英雄因她成表兄弟  \n",
       "130               ​小燈泡案司法問題的雞同鴨講？  \n",
       "138     【微視蘋】26歲小鮮肉當家　紅豆餅玩轉人生（動畫）  "
      ]
     },
     "execution_count": 164,
     "metadata": {},
     "output_type": "execute_result"
    }
   ],
   "source": [
    "newsdf[newsdf.groupby('category')['clicked'].transform(max) == newsdf['clicked']]"
   ]
  },
  {
   "cell_type": "code",
   "execution_count": 166,
   "metadata": {},
   "outputs": [],
   "source": [
    "newsdf.to_csv('news.csv', encoding = 'utf-8-sig')"
   ]
  },
  {
   "cell_type": "code",
   "execution_count": 167,
   "metadata": {},
   "outputs": [],
   "source": [
    "newsdf.to_excel('news.xlsx')"
   ]
  },
  {
   "cell_type": "markdown",
   "metadata": {},
   "source": [
    "## 防爬蟲\n",
    " - http://imweb.io/topic/595b7161d6ca6b4f0ac71f05"
   ]
  },
  {
   "cell_type": "markdown",
   "metadata": {},
   "source": [
    "## 抓取591 租屋網資料"
   ]
  },
  {
   "cell_type": "code",
   "execution_count": 170,
   "metadata": {},
   "outputs": [],
   "source": [
    "import requests\n",
    "headers = {\n",
    "'User-Agent': 'Mozilla/5.0 (Windows NT 6.1; Win64; x64) AppleWebKit/537.36 (KHTML, like Gecko) Chrome/65.0.3325.181 Safari/537.36'    \n",
    "}\n",
    "res = requests.get('https://rent.591.com.tw/home/search/rsList?is_new_list=1&type=1&kind=1&searchtype=1&region=1&section=5&firstRow=60&totalRows=726', headers = headers)\n",
    "jd = res.json()"
   ]
  },
  {
   "cell_type": "code",
   "execution_count": 173,
   "metadata": {},
   "outputs": [],
   "source": [
    "import pandas\n",
    "df = pandas.DataFrame(jd['data']['data'])"
   ]
  },
  {
   "cell_type": "code",
   "execution_count": 175,
   "metadata": {
    "scrolled": false
   },
   "outputs": [],
   "source": [
    "#df"
   ]
  },
  {
   "cell_type": "code",
   "execution_count": 181,
   "metadata": {},
   "outputs": [
    {
     "name": "stdout",
     "output_type": "stream",
     "text": [
      "0\n",
      "1\n",
      "2\n",
      "3\n",
      "4\n",
      "5\n",
      "6\n",
      "7\n",
      "8\n",
      "9\n",
      "10\n",
      "11\n",
      "12\n",
      "13\n",
      "14\n",
      "15\n",
      "16\n",
      "17\n",
      "18\n",
      "19\n",
      "20\n",
      "21\n",
      "22\n",
      "23\n",
      "24\n"
     ]
    }
   ],
   "source": [
    "pages = int(726 / 30) + 1\n",
    "houseary = []\n",
    "for i in range(0, pages ):\n",
    "    row = i * 30\n",
    "    res = requests.get('https://rent.591.com.tw/home/search/rsList?is_new_list=1&type=1&kind=1&searchtype=1&region=1&section=5&firstRow={}&totalRows=726'.format(row), headers = headers)\n",
    "    jd = res.json()\n",
    "    df = pandas.DataFrame(jd['data']['data'])\n",
    "    houseary.append(df)\n",
    "    print(i)"
   ]
  },
  {
   "cell_type": "code",
   "execution_count": 183,
   "metadata": {},
   "outputs": [
    {
     "data": {
      "text/plain": [
       "25"
      ]
     },
     "execution_count": 183,
     "metadata": {},
     "output_type": "execute_result"
    }
   ],
   "source": [
    "len(houseary)"
   ]
  },
  {
   "cell_type": "code",
   "execution_count": 198,
   "metadata": {},
   "outputs": [],
   "source": [
    "housedf = pandas.concat(houseary)"
   ]
  },
  {
   "cell_type": "code",
   "execution_count": 199,
   "metadata": {},
   "outputs": [],
   "source": [
    "housedf = housedf[['id','address','floor','allfloor','layout','area','price','browsenum_all']]"
   ]
  },
  {
   "cell_type": "code",
   "execution_count": 200,
   "metadata": {},
   "outputs": [],
   "source": [
    "housedf['price'] = housedf['price'].map(lambda e: int(e.replace(',', '')))\n",
    "#housedf.sort_values('price')"
   ]
  },
  {
   "cell_type": "code",
   "execution_count": 203,
   "metadata": {},
   "outputs": [],
   "source": [
    "housedf['price_per_area'] =  housedf['price'] / housedf['area']"
   ]
  },
  {
   "cell_type": "code",
   "execution_count": 210,
   "metadata": {
    "scrolled": false
   },
   "outputs": [
    {
     "data": {
      "text/html": [
       "<div>\n",
       "<style scoped>\n",
       "    .dataframe tbody tr th:only-of-type {\n",
       "        vertical-align: middle;\n",
       "    }\n",
       "\n",
       "    .dataframe tbody tr th {\n",
       "        vertical-align: top;\n",
       "    }\n",
       "\n",
       "    .dataframe thead th {\n",
       "        text-align: right;\n",
       "    }\n",
       "</style>\n",
       "<table border=\"1\" class=\"dataframe\">\n",
       "  <thead>\n",
       "    <tr style=\"text-align: right;\">\n",
       "      <th></th>\n",
       "      <th>id</th>\n",
       "      <th>address</th>\n",
       "      <th>floor</th>\n",
       "      <th>allfloor</th>\n",
       "      <th>layout</th>\n",
       "      <th>area</th>\n",
       "      <th>price</th>\n",
       "      <th>browsenum_all</th>\n",
       "      <th>price_per_area</th>\n",
       "    </tr>\n",
       "  </thead>\n",
       "  <tbody>\n",
       "    <tr>\n",
       "      <th>10</th>\n",
       "      <td>6247277</td>\n",
       "      <td>敦化南路二段11巷國小國中學籍戶籍設籍金華..</td>\n",
       "      <td>4</td>\n",
       "      <td>6</td>\n",
       "      <td>2房2廳1衛</td>\n",
       "      <td>25.0</td>\n",
       "      <td>3000</td>\n",
       "      <td>913</td>\n",
       "      <td>120.000000</td>\n",
       "    </tr>\n",
       "    <tr>\n",
       "      <th>8</th>\n",
       "      <td>6194751</td>\n",
       "      <td>愛國東路學生公寓，屋主..</td>\n",
       "      <td>3</td>\n",
       "      <td>4</td>\n",
       "      <td>6房2廳6衛</td>\n",
       "      <td>66.0</td>\n",
       "      <td>8800</td>\n",
       "      <td>8256</td>\n",
       "      <td>133.333333</td>\n",
       "    </tr>\n",
       "    <tr>\n",
       "      <th>26</th>\n",
       "      <td>6282869</td>\n",
       "      <td>復興南路一段位太平洋百貨後方..</td>\n",
       "      <td>5</td>\n",
       "      <td>5</td>\n",
       "      <td>2房1廳1衛</td>\n",
       "      <td>50.0</td>\n",
       "      <td>25000</td>\n",
       "      <td>164</td>\n",
       "      <td>500.000000</td>\n",
       "    </tr>\n",
       "  </tbody>\n",
       "</table>\n",
       "</div>"
      ],
      "text/plain": [
       "         id                  address  floor  allfloor  layout  area  price  \\\n",
       "10  6247277  敦化南路二段11巷國小國中學籍戶籍設籍金華..      4         6  2房2廳1衛  25.0   3000   \n",
       "8   6194751            愛國東路學生公寓，屋主..      3         4  6房2廳6衛  66.0   8800   \n",
       "26  6282869         復興南路一段位太平洋百貨後方..      5         5  2房1廳1衛  50.0  25000   \n",
       "\n",
       "    browsenum_all  price_per_area  \n",
       "10            913      120.000000  \n",
       "8            8256      133.333333  \n",
       "26            164      500.000000  "
      ]
     },
     "execution_count": 210,
     "metadata": {},
     "output_type": "execute_result"
    }
   ],
   "source": [
    "housedf.sort_values('price_per_area').head(3)"
   ]
  },
  {
   "cell_type": "code",
   "execution_count": 207,
   "metadata": {},
   "outputs": [],
   "source": [
    "housedf.to_excel('house591.xlsx')"
   ]
  },
  {
   "cell_type": "markdown",
   "metadata": {},
   "source": [
    "## Selenium\n",
    "- pip install selenium\n",
    "- https://chromedriver.storage.googleapis.com/2.38/chromedriver_win32.zip"
   ]
  },
  {
   "cell_type": "code",
   "execution_count": 211,
   "metadata": {},
   "outputs": [
    {
     "name": "stdout",
     "output_type": "stream",
     "text": [
      "Collecting selenium\n",
      "  Downloading https://files.pythonhosted.org/packages/5e/1f/6c2204b9ae14eddab615c5e2ee4956c65ed533e0a9986c23eabd801ae849/selenium-3.11.0-py2.py3-none-any.whl (943kB)\n",
      "Installing collected packages: selenium\n",
      "Successfully installed selenium-3.11.0\n"
     ]
    },
    {
     "name": "stderr",
     "output_type": "stream",
     "text": [
      "You are using pip version 9.0.1, however version 10.0.0 is available.\n",
      "You should consider upgrading via the 'python -m pip install --upgrade pip' command.\n"
     ]
    }
   ],
   "source": [
    "! pip install selenium"
   ]
  },
  {
   "cell_type": "markdown",
   "metadata": {},
   "source": [
    "## 威秀訂票"
   ]
  },
  {
   "cell_type": "code",
   "execution_count": 225,
   "metadata": {},
   "outputs": [],
   "source": [
    "from selenium import webdriver\n",
    "import time\n",
    "driver = webdriver.Chrome('C:/Users/USER/Desktop/chromedriver.exe')\n",
    "driver.get('https://www.vscinemas.com.tw/vsTicketing/ticketing/ticket.aspx')\n",
    "time.sleep(3)\n",
    "driver.find_element_by_css_selector('.icon-delete').click()\n",
    "time.sleep(3)\n",
    "driver.find_element_by_css_selector('#theater').send_keys('台北信義威秀影城')\n",
    "time.sleep(3)\n",
    "driver.find_element_by_css_selector('.movieList li:nth-child(6)').click()\n",
    "time.sleep(3)\n",
    "driver.find_element_by_css_selector('.bookList li:nth-child(9)').click()\n",
    "time.sleep(3)\n",
    "driver.find_element_by_css_selector('.icon-vsgeneral').click()\n",
    "time.sleep(3)\n",
    "driver.close()"
   ]
  },
  {
   "cell_type": "markdown",
   "metadata": {},
   "source": [
    "## 高鐵自動訂票"
   ]
  },
  {
   "cell_type": "code",
   "execution_count": 258,
   "metadata": {},
   "outputs": [
    {
     "name": "stdout",
     "output_type": "stream",
     "text": [
      "3 krr\n",
      "3KRR\n"
     ]
    }
   ],
   "source": [
    "from selenium import webdriver\n",
    "import time\n",
    "driver = webdriver.Chrome('C:/Users/USER/Desktop/chromedriver.exe')\n",
    "driver.get('https://irs.thsrc.com.tw/IMINT/')\n",
    "time.sleep(3)\n",
    "driver.find_element_by_css_selector('select[name=selectStartStation]').send_keys('台北')\n",
    "time.sleep(3)\n",
    "driver.find_element_by_css_selector('select[name=selectDestinationStation]').send_keys('嘉義')\n",
    "time.sleep(3)\n",
    "driver.find_element_by_css_selector('select[name=toTimeTable]').send_keys('19:30')\n",
    "time.sleep(3)\n",
    "\n",
    "\n",
    "from bs4 import BeautifulSoup\n",
    "domain = 'https://irs.thsrc.com.tw'\n",
    "soup = BeautifulSoup(driver.page_source, 'lxml')\n",
    "c = ';'.join(['{}={}'.format(ele['name'], ele['value']) for ele in driver.get_cookies()])\n",
    "url = domain + soup.select('#action a')[-1].get('href')\n",
    "res = requests.get(url, headers = {'Cookie':c})\n",
    "with open('test.wav', 'wb') as f:\n",
    "    f.write(res.content)\n",
    "time.sleep(3)\n",
    "\n",
    "import speech_recognition as sr\n",
    "r = sr.Recognizer()\n",
    "with sr.AudioFile('test.wav') as source:\n",
    "    audio = r.record(source)\n",
    "time.sleep(3)\n",
    "s = r.recognize_google(audio, language='en')\n",
    "print(s)\n",
    "code = ''.join(s.replace('-','').split()).upper()\n",
    "print(code)\n",
    "time.sleep(3)\n",
    "driver.find_element_by_css_selector('.PR10 .input1').send_keys(code)\n",
    "time.sleep(3)\n",
    "driver.find_element_by_css_selector('#SubmitButton').click()\n",
    "driver.close()"
   ]
  },
  {
   "cell_type": "code",
   "execution_count": null,
   "metadata": {},
   "outputs": [],
   "source": []
  }
 ],
 "metadata": {
  "kernelspec": {
   "display_name": "Python 3",
   "language": "python",
   "name": "python3"
  },
  "language_info": {
   "codemirror_mode": {
    "name": "ipython",
    "version": 3
   },
   "file_extension": ".py",
   "mimetype": "text/x-python",
   "name": "python",
   "nbconvert_exporter": "python",
   "pygments_lexer": "ipython3",
   "version": "3.6.4"
  }
 },
 "nbformat": 4,
 "nbformat_minor": 2
}
