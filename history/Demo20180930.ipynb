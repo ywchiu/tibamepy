{
 "cells": [
  {
   "cell_type": "markdown",
   "metadata": {},
   "source": [
    "## Pandas"
   ]
  },
  {
   "cell_type": "code",
   "execution_count": 1,
   "metadata": {},
   "outputs": [],
   "source": [
    "import pandas\n",
    "stock = pandas.read_excel('https://raw.githubusercontent.com/ywchiu/tibamepy/master/data/stock.xlsx')"
   ]
  },
  {
   "cell_type": "code",
   "execution_count": 3,
   "metadata": {},
   "outputs": [
    {
     "data": {
      "text/html": [
       "<div>\n",
       "<style scoped>\n",
       "    .dataframe tbody tr th:only-of-type {\n",
       "        vertical-align: middle;\n",
       "    }\n",
       "\n",
       "    .dataframe tbody tr th {\n",
       "        vertical-align: top;\n",
       "    }\n",
       "\n",
       "    .dataframe thead th {\n",
       "        text-align: right;\n",
       "    }\n",
       "</style>\n",
       "<table border=\"1\" class=\"dataframe\">\n",
       "  <thead>\n",
       "    <tr style=\"text-align: right;\">\n",
       "      <th></th>\n",
       "      <th>id</th>\n",
       "      <th>年度</th>\n",
       "      <th>股本</th>\n",
       "      <th>財報評分</th>\n",
       "      <th>收盤</th>\n",
       "      <th>平均</th>\n",
       "      <th>漲跌</th>\n",
       "      <th>漲跌%</th>\n",
       "      <th>營業收入</th>\n",
       "      <th>營業毛利</th>\n",
       "      <th>...</th>\n",
       "      <th>營業毛利%</th>\n",
       "      <th>營業利益%</th>\n",
       "      <th>業外損益%</th>\n",
       "      <th>稅後淨利%</th>\n",
       "      <th>ROE</th>\n",
       "      <th>ROA</th>\n",
       "      <th>稅後EPS</th>\n",
       "      <th>EPS成長</th>\n",
       "      <th>BPS</th>\n",
       "      <th>stockid</th>\n",
       "    </tr>\n",
       "  </thead>\n",
       "  <tbody>\n",
       "    <tr>\n",
       "      <th>0</th>\n",
       "      <td>1</td>\n",
       "      <td>2015</td>\n",
       "      <td>369.0</td>\n",
       "      <td>45</td>\n",
       "      <td>27.3</td>\n",
       "      <td>37.8</td>\n",
       "      <td>-16.1</td>\n",
       "      <td>-37.1</td>\n",
       "      <td>937.0</td>\n",
       "      <td>145.0</td>\n",
       "      <td>...</td>\n",
       "      <td>15.5</td>\n",
       "      <td>10.3</td>\n",
       "      <td>-1.08</td>\n",
       "      <td>7.39</td>\n",
       "      <td>4.36</td>\n",
       "      <td>2.36</td>\n",
       "      <td>1.56</td>\n",
       "      <td>-1.37</td>\n",
       "      <td>29.26</td>\n",
       "      <td>1101</td>\n",
       "    </tr>\n",
       "    <tr>\n",
       "      <th>1</th>\n",
       "      <td>2</td>\n",
       "      <td>2014</td>\n",
       "      <td>369.0</td>\n",
       "      <td>53</td>\n",
       "      <td>43.4</td>\n",
       "      <td>45.7</td>\n",
       "      <td>-2.85</td>\n",
       "      <td>-6.2</td>\n",
       "      <td>1183.0</td>\n",
       "      <td>249.0</td>\n",
       "      <td>...</td>\n",
       "      <td>21</td>\n",
       "      <td>16.8</td>\n",
       "      <td>1.13</td>\n",
       "      <td>14</td>\n",
       "      <td>10.50</td>\n",
       "      <td>5.76</td>\n",
       "      <td>2.93</td>\n",
       "      <td>0.21</td>\n",
       "      <td>31.95</td>\n",
       "      <td>1101</td>\n",
       "    </tr>\n",
       "    <tr>\n",
       "      <th>2</th>\n",
       "      <td>3</td>\n",
       "      <td>2013</td>\n",
       "      <td>369.0</td>\n",
       "      <td>51</td>\n",
       "      <td>46.25</td>\n",
       "      <td>39.8</td>\n",
       "      <td>7.35</td>\n",
       "      <td>18.9</td>\n",
       "      <td>1161.0</td>\n",
       "      <td>228.0</td>\n",
       "      <td>...</td>\n",
       "      <td>19.7</td>\n",
       "      <td>15.3</td>\n",
       "      <td>0.71</td>\n",
       "      <td>13</td>\n",
       "      <td>10.60</td>\n",
       "      <td>5.56</td>\n",
       "      <td>2.72</td>\n",
       "      <td>0.63</td>\n",
       "      <td>30.63</td>\n",
       "      <td>1101</td>\n",
       "    </tr>\n",
       "    <tr>\n",
       "      <th>3</th>\n",
       "      <td>4</td>\n",
       "      <td>2012</td>\n",
       "      <td>369.0</td>\n",
       "      <td>49</td>\n",
       "      <td>38.9</td>\n",
       "      <td>35.8</td>\n",
       "      <td>3.9</td>\n",
       "      <td>11.1</td>\n",
       "      <td>1195.0</td>\n",
       "      <td>177.0</td>\n",
       "      <td>...</td>\n",
       "      <td>14.8</td>\n",
       "      <td>10.9</td>\n",
       "      <td>-0.84</td>\n",
       "      <td>8.34</td>\n",
       "      <td>7.63</td>\n",
       "      <td>3.81</td>\n",
       "      <td>2.09</td>\n",
       "      <td>-0.24</td>\n",
       "      <td>27.03</td>\n",
       "      <td>1101</td>\n",
       "    </tr>\n",
       "    <tr>\n",
       "      <th>4</th>\n",
       "      <td>5</td>\n",
       "      <td>2011</td>\n",
       "      <td>369.0</td>\n",
       "      <td>55</td>\n",
       "      <td>35</td>\n",
       "      <td>36.8</td>\n",
       "      <td>2.2</td>\n",
       "      <td>6.7</td>\n",
       "      <td>1185.0</td>\n",
       "      <td>206.0</td>\n",
       "      <td>...</td>\n",
       "      <td>17.4</td>\n",
       "      <td>13.6</td>\n",
       "      <td>0.3</td>\n",
       "      <td>11.6</td>\n",
       "      <td>10.80</td>\n",
       "      <td>5.24</td>\n",
       "      <td>2.33</td>\n",
       "      <td>-0.1</td>\n",
       "      <td>26.21</td>\n",
       "      <td>1101</td>\n",
       "    </tr>\n",
       "  </tbody>\n",
       "</table>\n",
       "<p>5 rows × 23 columns</p>\n",
       "</div>"
      ],
      "text/plain": [
       "   id    年度     股本  財報評分     收盤    平均    漲跌   漲跌%    營業收入   營業毛利   ...     \\\n",
       "0   1  2015  369.0    45   27.3  37.8 -16.1 -37.1   937.0  145.0   ...      \n",
       "1   2  2014  369.0    53   43.4  45.7 -2.85  -6.2  1183.0  249.0   ...      \n",
       "2   3  2013  369.0    51  46.25  39.8  7.35  18.9  1161.0  228.0   ...      \n",
       "3   4  2012  369.0    49   38.9  35.8   3.9  11.1  1195.0  177.0   ...      \n",
       "4   5  2011  369.0    55     35  36.8   2.2   6.7  1185.0  206.0   ...      \n",
       "\n",
       "   營業毛利% 營業利益%  業外損益% 稅後淨利%    ROE   ROA 稅後EPS  EPS成長    BPS  stockid  \n",
       "0   15.5  10.3  -1.08  7.39   4.36  2.36  1.56  -1.37  29.26     1101  \n",
       "1     21  16.8   1.13    14  10.50  5.76  2.93   0.21  31.95     1101  \n",
       "2   19.7  15.3   0.71    13  10.60  5.56  2.72   0.63  30.63     1101  \n",
       "3   14.8  10.9  -0.84  8.34   7.63  3.81  2.09  -0.24  27.03     1101  \n",
       "4   17.4  13.6    0.3  11.6  10.80  5.24  2.33   -0.1  26.21     1101  \n",
       "\n",
       "[5 rows x 23 columns]"
      ]
     },
     "execution_count": 3,
     "metadata": {},
     "output_type": "execute_result"
    }
   ],
   "source": [
    "stock.head()"
   ]
  },
  {
   "cell_type": "code",
   "execution_count": 5,
   "metadata": {},
   "outputs": [],
   "source": [
    "tw2330 = pandas.read_json('https://raw.githubusercontent.com/ywchiu/tibamepy/master/data/2330.json')"
   ]
  },
  {
   "cell_type": "code",
   "execution_count": 7,
   "metadata": {},
   "outputs": [
    {
     "data": {
      "text/html": [
       "<div>\n",
       "<style scoped>\n",
       "    .dataframe tbody tr th:only-of-type {\n",
       "        vertical-align: middle;\n",
       "    }\n",
       "\n",
       "    .dataframe tbody tr th {\n",
       "        vertical-align: top;\n",
       "    }\n",
       "\n",
       "    .dataframe thead th {\n",
       "        text-align: right;\n",
       "    }\n",
       "</style>\n",
       "<table border=\"1\" class=\"dataframe\">\n",
       "  <thead>\n",
       "    <tr style=\"text-align: right;\">\n",
       "      <th></th>\n",
       "      <th>Date</th>\n",
       "      <th>Open</th>\n",
       "      <th>High</th>\n",
       "      <th>Low</th>\n",
       "      <th>Close</th>\n",
       "      <th>Volume</th>\n",
       "      <th>Adj Close</th>\n",
       "    </tr>\n",
       "  </thead>\n",
       "  <tbody>\n",
       "    <tr>\n",
       "      <th>0</th>\n",
       "      <td>2016-07-21</td>\n",
       "      <td>171.0</td>\n",
       "      <td>172.0</td>\n",
       "      <td>170.0</td>\n",
       "      <td>172.0</td>\n",
       "      <td>33130000</td>\n",
       "      <td>172.0</td>\n",
       "    </tr>\n",
       "    <tr>\n",
       "      <th>1</th>\n",
       "      <td>2016-07-20</td>\n",
       "      <td>170.0</td>\n",
       "      <td>170.5</td>\n",
       "      <td>169.0</td>\n",
       "      <td>170.0</td>\n",
       "      <td>38053000</td>\n",
       "      <td>170.0</td>\n",
       "    </tr>\n",
       "    <tr>\n",
       "      <th>2</th>\n",
       "      <td>2016-07-19</td>\n",
       "      <td>170.5</td>\n",
       "      <td>170.5</td>\n",
       "      <td>169.0</td>\n",
       "      <td>170.5</td>\n",
       "      <td>42456000</td>\n",
       "      <td>170.5</td>\n",
       "    </tr>\n",
       "    <tr>\n",
       "      <th>3</th>\n",
       "      <td>2016-07-18</td>\n",
       "      <td>168.0</td>\n",
       "      <td>170.0</td>\n",
       "      <td>168.0</td>\n",
       "      <td>169.5</td>\n",
       "      <td>24749000</td>\n",
       "      <td>169.5</td>\n",
       "    </tr>\n",
       "    <tr>\n",
       "      <th>4</th>\n",
       "      <td>2016-07-15</td>\n",
       "      <td>169.5</td>\n",
       "      <td>169.5</td>\n",
       "      <td>169.5</td>\n",
       "      <td>169.5</td>\n",
       "      <td>41000</td>\n",
       "      <td>169.5</td>\n",
       "    </tr>\n",
       "  </tbody>\n",
       "</table>\n",
       "</div>"
      ],
      "text/plain": [
       "        Date   Open   High    Low  Close    Volume  Adj Close\n",
       "0 2016-07-21  171.0  172.0  170.0  172.0  33130000      172.0\n",
       "1 2016-07-20  170.0  170.5  169.0  170.0  38053000      170.0\n",
       "2 2016-07-19  170.5  170.5  169.0  170.5  42456000      170.5\n",
       "3 2016-07-18  168.0  170.0  168.0  169.5  24749000      169.5\n",
       "4 2016-07-15  169.5  169.5  169.5  169.5     41000      169.5"
      ]
     },
     "execution_count": 7,
     "metadata": {},
     "output_type": "execute_result"
    }
   ],
   "source": [
    "tw2330.head()"
   ]
  },
  {
   "cell_type": "markdown",
   "metadata": {},
   "source": [
    "## GET"
   ]
  },
  {
   "cell_type": "code",
   "execution_count": 64,
   "metadata": {},
   "outputs": [
    {
     "data": {
      "text/plain": [
       "<Response [200]>"
      ]
     },
     "execution_count": 64,
     "metadata": {},
     "output_type": "execute_result"
    }
   ],
   "source": [
    "import requests\n",
    "res = requests.get('https://tw.appledaily.com/new/realtime')\n",
    "res"
   ]
  },
  {
   "cell_type": "code",
   "execution_count": 66,
   "metadata": {},
   "outputs": [
    {
     "data": {
      "text/plain": [
       "requests.models.Response"
      ]
     },
     "execution_count": 66,
     "metadata": {},
     "output_type": "execute_result"
    }
   ],
   "source": [
    "type(res)"
   ]
  },
  {
   "cell_type": "code",
   "execution_count": 65,
   "metadata": {},
   "outputs": [],
   "source": [
    "#res.text"
   ]
  },
  {
   "cell_type": "code",
   "execution_count": 11,
   "metadata": {},
   "outputs": [
    {
     "data": {
      "text/plain": [
       "'try{jsonp_button([{\"Seq\":21071063,\"Id\":\"DGCN1A-A9009EVNY-000\",\"Price\":{\"M\":16900,\"P\":15900,\"Prime\":\"\"},\"Qty\":\"10\",\"ButtonType\":\"ForSale\",\"SaleStatus\":1,\"isPrimeOnly\":0}]);}catch(e){if(window.console){console.log(e);}}'"
      ]
     },
     "execution_count": 11,
     "metadata": {},
     "output_type": "execute_result"
    }
   ],
   "source": [
    "res = requests.get('https://ecapi.pchome.com.tw/ecshop/prodapi/v2/prod/button&id=DGCN1A-A9009EVNY&fields=Seq,Id,Price,Qty,ButtonType,SaleStatus,isPrimeOnly&_callback=jsonp_button&1538278200?_callback=jsonp_button')\n",
    "res.text"
   ]
  },
  {
   "cell_type": "markdown",
   "metadata": {},
   "source": [
    "## POST"
   ]
  },
  {
   "cell_type": "code",
   "execution_count": 12,
   "metadata": {},
   "outputs": [
    {
     "data": {
      "text/plain": [
       "<Response [200]>"
      ]
     },
     "execution_count": 12,
     "metadata": {},
     "output_type": "execute_result"
    }
   ],
   "source": [
    "import requests\n",
    "\n",
    "url     = 'https://www.thsrc.com.tw/tw/TimeTable/Search'\n",
    "\n",
    "payload = {\n",
    "'StartStationName':  '台北站',\n",
    "'EndStationName'  :  '桃園站',\n",
    "'SearchType'      :  'S',\n",
    "'StartStation'    : '977abb69-413a-4ccf-a109-0272c24fd490',\n",
    "'EndStation'      : 'fbd828d8-b1da-4b06-a3bd-680cdca4d2cd',\n",
    "'DepartueSearchDate': '2018/09/30',\n",
    "'DepartueSearchTime': '13:00'    \n",
    "    \n",
    "}\n",
    "\n",
    "res = requests.post(url, data = payload)\n",
    "res"
   ]
  },
  {
   "cell_type": "code",
   "execution_count": 20,
   "metadata": {},
   "outputs": [
    {
     "data": {
      "text/html": [
       "<div>\n",
       "<style scoped>\n",
       "    .dataframe tbody tr th:only-of-type {\n",
       "        vertical-align: middle;\n",
       "    }\n",
       "\n",
       "    .dataframe tbody tr th {\n",
       "        vertical-align: top;\n",
       "    }\n",
       "\n",
       "    .dataframe thead th {\n",
       "        text-align: right;\n",
       "    }\n",
       "</style>\n",
       "<table border=\"1\" class=\"dataframe\">\n",
       "  <thead>\n",
       "    <tr style=\"text-align: right;\">\n",
       "      <th></th>\n",
       "      <th>DepartureTime</th>\n",
       "      <th>DestinationTime</th>\n",
       "      <th>Discount</th>\n",
       "      <th>Duration</th>\n",
       "      <th>NonReservedCar</th>\n",
       "      <th>Note</th>\n",
       "      <th>Sequence</th>\n",
       "      <th>StationInfo</th>\n",
       "      <th>TrainNumber</th>\n",
       "    </tr>\n",
       "  </thead>\n",
       "  <tbody>\n",
       "    <tr>\n",
       "      <th>0</th>\n",
       "      <td>06:26</td>\n",
       "      <td>06:47</td>\n",
       "      <td>[{'Id': '4baae6e5-b42c-474b-a194-ff8f1783c7bb'...</td>\n",
       "      <td>00:21</td>\n",
       "      <td>3</td>\n",
       "      <td></td>\n",
       "      <td>0</td>\n",
       "      <td>[{'StationNo': '01', 'StationName': '南港站', 'De...</td>\n",
       "      <td>0803</td>\n",
       "    </tr>\n",
       "    <tr>\n",
       "      <th>1</th>\n",
       "      <td>06:51</td>\n",
       "      <td>07:13</td>\n",
       "      <td>[{'Id': '4baae6e5-b42c-474b-a194-ff8f1783c7bb'...</td>\n",
       "      <td>00:22</td>\n",
       "      <td>3</td>\n",
       "      <td></td>\n",
       "      <td>1</td>\n",
       "      <td>[{'StationNo': '01', 'StationName': '南港站', 'De...</td>\n",
       "      <td>0603</td>\n",
       "    </tr>\n",
       "    <tr>\n",
       "      <th>2</th>\n",
       "      <td>07:11</td>\n",
       "      <td>07:32</td>\n",
       "      <td>[{'Id': '68d9fc7b-7330-44c2-962a-74bc47d2ee8a'...</td>\n",
       "      <td>00:21</td>\n",
       "      <td>3</td>\n",
       "      <td></td>\n",
       "      <td>2</td>\n",
       "      <td>[{'StationNo': '01', 'StationName': '南港站', 'De...</td>\n",
       "      <td>0805</td>\n",
       "    </tr>\n",
       "    <tr>\n",
       "      <th>3</th>\n",
       "      <td>07:46</td>\n",
       "      <td>08:07</td>\n",
       "      <td>[{'Id': '4baae6e5-b42c-474b-a194-ff8f1783c7bb'...</td>\n",
       "      <td>00:21</td>\n",
       "      <td>3</td>\n",
       "      <td></td>\n",
       "      <td>3</td>\n",
       "      <td>[{'StationNo': '01', 'StationName': '南港站', 'De...</td>\n",
       "      <td>0609</td>\n",
       "    </tr>\n",
       "    <tr>\n",
       "      <th>4</th>\n",
       "      <td>08:11</td>\n",
       "      <td>08:32</td>\n",
       "      <td>[{'Id': '4baae6e5-b42c-474b-a194-ff8f1783c7bb'...</td>\n",
       "      <td>00:21</td>\n",
       "      <td>3</td>\n",
       "      <td></td>\n",
       "      <td>4</td>\n",
       "      <td>[{'StationNo': '01', 'StationName': '南港站', 'De...</td>\n",
       "      <td>0809</td>\n",
       "    </tr>\n",
       "  </tbody>\n",
       "</table>\n",
       "</div>"
      ],
      "text/plain": [
       "  DepartureTime DestinationTime  \\\n",
       "0         06:26           06:47   \n",
       "1         06:51           07:13   \n",
       "2         07:11           07:32   \n",
       "3         07:46           08:07   \n",
       "4         08:11           08:32   \n",
       "\n",
       "                                            Discount Duration NonReservedCar  \\\n",
       "0  [{'Id': '4baae6e5-b42c-474b-a194-ff8f1783c7bb'...    00:21              3   \n",
       "1  [{'Id': '4baae6e5-b42c-474b-a194-ff8f1783c7bb'...    00:22              3   \n",
       "2  [{'Id': '68d9fc7b-7330-44c2-962a-74bc47d2ee8a'...    00:21              3   \n",
       "3  [{'Id': '4baae6e5-b42c-474b-a194-ff8f1783c7bb'...    00:21              3   \n",
       "4  [{'Id': '4baae6e5-b42c-474b-a194-ff8f1783c7bb'...    00:21              3   \n",
       "\n",
       "  Note  Sequence                                        StationInfo  \\\n",
       "0              0  [{'StationNo': '01', 'StationName': '南港站', 'De...   \n",
       "1              1  [{'StationNo': '01', 'StationName': '南港站', 'De...   \n",
       "2              2  [{'StationNo': '01', 'StationName': '南港站', 'De...   \n",
       "3              3  [{'StationNo': '01', 'StationName': '南港站', 'De...   \n",
       "4              4  [{'StationNo': '01', 'StationName': '南港站', 'De...   \n",
       "\n",
       "  TrainNumber  \n",
       "0        0803  \n",
       "1        0603  \n",
       "2        0805  \n",
       "3        0609  \n",
       "4        0809  "
      ]
     },
     "execution_count": 20,
     "metadata": {},
     "output_type": "execute_result"
    }
   ],
   "source": [
    "#res.text\n",
    "\n",
    "# JSON => Python Dict\n",
    "res.json()['data']['DepartureTable']['TrainItem']\n",
    "\n",
    "\n",
    "import pandas\n",
    "pandas.DataFrame(res.json()['data']['DepartureTable']['TrainItem']).head()"
   ]
  },
  {
   "cell_type": "markdown",
   "metadata": {},
   "source": [
    "## 台鐵快速查詢\n",
    "- http://twtraffic.tra.gov.tw/twrail/TW_QuickSearch.aspx"
   ]
  },
  {
   "cell_type": "markdown",
   "metadata": {},
   "source": [
    "## MOMO購物"
   ]
  },
  {
   "cell_type": "code",
   "execution_count": 41,
   "metadata": {},
   "outputs": [],
   "source": [
    "import requests\n",
    "headers = {\n",
    "    'user-agent': 'Mozilla/5.0 (Windows NT 6.1; Win64; x64) AppleWebKit/537.36 (KHTML, like Gecko) Chrome/69.0.3497.100 Safari/537.36',  \n",
    "}\n",
    "res = requests.get('https://www.momoshop.com.tw/goods/GoodsDetail.jsp?i_code=4778291&str_category_code=1903000021', headers = headers)"
   ]
  },
  {
   "cell_type": "code",
   "execution_count": 35,
   "metadata": {},
   "outputs": [
    {
     "data": {
      "text/plain": [
       "\" '15990'\""
      ]
     },
     "execution_count": 35,
     "metadata": {},
     "output_type": "execute_result"
    }
   ],
   "source": [
    "res.text.split('salePrice =')[1].split(';')[0]"
   ]
  },
  {
   "cell_type": "markdown",
   "metadata": {},
   "source": [
    "## Split 用法"
   ]
  },
  {
   "cell_type": "code",
   "execution_count": 36,
   "metadata": {
    "scrolled": true
   },
   "outputs": [
    {
     "data": {
      "text/plain": [
       "['123189237129', '233827493', '12312380', '12313']"
      ]
     },
     "execution_count": 36,
     "metadata": {},
     "output_type": "execute_result"
    }
   ],
   "source": [
    "a = '123189237129@233827493@12312380@12313'\n",
    "a.split('@')"
   ]
  },
  {
   "cell_type": "markdown",
   "metadata": {},
   "source": [
    "## 巴哈姆特"
   ]
  },
  {
   "cell_type": "code",
   "execution_count": 53,
   "metadata": {},
   "outputs": [],
   "source": [
    "res = requests.get('https://www.gamer.com.tw/')\n",
    "data = res.text.split('var list = ')[1].split('\\n')[0].strip(';')"
   ]
  },
  {
   "cell_type": "code",
   "execution_count": 56,
   "metadata": {},
   "outputs": [],
   "source": [
    "import json\n",
    "#json.loads(data)"
   ]
  },
  {
   "cell_type": "markdown",
   "metadata": {},
   "source": [
    "## BeautifulSoup 文件\n",
    "- https://beautifulsoup.readthedocs.io/zh_CN/v4.4.0/"
   ]
  },
  {
   "cell_type": "code",
   "execution_count": 57,
   "metadata": {},
   "outputs": [],
   "source": [
    "html_sample = '''\n",
    "<html>\n",
    "<body>\n",
    "<h1 id=\"title\">Hello World</h1>\n",
    "<a href=\"#\" class=\"link\">This is link1</a>\n",
    "<a href=\"# link2\" class=\"link\">This is link2</a>\n",
    "</body>\n",
    "</html>\n",
    "'''"
   ]
  },
  {
   "cell_type": "code",
   "execution_count": null,
   "metadata": {},
   "outputs": [],
   "source": [
    "import requests\n",
    "import bs4 \n",
    "from bs4 import BeautifulSoup\n",
    "\n",
    "requests.get\n",
    "bs4.BeautifulSoup"
   ]
  },
  {
   "cell_type": "code",
   "execution_count": 58,
   "metadata": {},
   "outputs": [
    {
     "data": {
      "text/plain": [
       "20"
      ]
     },
     "execution_count": 58,
     "metadata": {},
     "output_type": "execute_result"
    }
   ],
   "source": [
    "a = [2,3,4,5,6]\n",
    "sum(a)"
   ]
  },
  {
   "cell_type": "code",
   "execution_count": 59,
   "metadata": {},
   "outputs": [],
   "source": [
    "sum = 5"
   ]
  },
  {
   "cell_type": "code",
   "execution_count": 60,
   "metadata": {},
   "outputs": [
    {
     "ename": "TypeError",
     "evalue": "'int' object is not callable",
     "output_type": "error",
     "traceback": [
      "\u001b[1;31m---------------------------------------------------------------------------\u001b[0m",
      "\u001b[1;31mTypeError\u001b[0m                                 Traceback (most recent call last)",
      "\u001b[1;32m<ipython-input-60-be023830df6e>\u001b[0m in \u001b[0;36m<module>\u001b[1;34m()\u001b[0m\n\u001b[1;32m----> 1\u001b[1;33m \u001b[0msum\u001b[0m\u001b[1;33m(\u001b[0m\u001b[0ma\u001b[0m\u001b[1;33m)\u001b[0m\u001b[1;33m\u001b[0m\u001b[0m\n\u001b[0m",
      "\u001b[1;31mTypeError\u001b[0m: 'int' object is not callable"
     ]
    }
   ],
   "source": [
    "sum(a)"
   ]
  },
  {
   "cell_type": "code",
   "execution_count": 61,
   "metadata": {},
   "outputs": [],
   "source": [
    "from bs4 import BeautifulSoup\n",
    "html_sample = '''\n",
    "<html>\n",
    "<body>\n",
    "<h1 id=\"title\">Hello World</h1>\n",
    "<a href=\"#\" class=\"link\">This is link1</a>\n",
    "<a href=\"# link2\" class=\"link\">This is link2</a>\n",
    "</body>\n",
    "</html>\n",
    "'''\n",
    "\n",
    "soup = BeautifulSoup(html_sample, 'lxml')"
   ]
  },
  {
   "cell_type": "code",
   "execution_count": 67,
   "metadata": {},
   "outputs": [
    {
     "data": {
      "text/plain": [
       "bs4.BeautifulSoup"
      ]
     },
     "execution_count": 67,
     "metadata": {},
     "output_type": "execute_result"
    }
   ],
   "source": [
    "type(soup)"
   ]
  },
  {
   "cell_type": "code",
   "execution_count": 63,
   "metadata": {},
   "outputs": [
    {
     "data": {
      "text/plain": [
       "'\\n\\nHello World\\nThis is link1\\nThis is link2\\n\\n\\n'"
      ]
     },
     "execution_count": 63,
     "metadata": {},
     "output_type": "execute_result"
    }
   ],
   "source": [
    "soup.text"
   ]
  },
  {
   "cell_type": "markdown",
   "metadata": {},
   "source": [
    "### select_one => BeautifulSoup Object\n",
    "### select         => List"
   ]
  },
  {
   "cell_type": "code",
   "execution_count": 69,
   "metadata": {},
   "outputs": [
    {
     "data": {
      "text/plain": [
       "<h1 id=\"title\">Hello World</h1>"
      ]
     },
     "execution_count": 69,
     "metadata": {},
     "output_type": "execute_result"
    }
   ],
   "source": [
    "soup.select_one('h1')"
   ]
  },
  {
   "cell_type": "code",
   "execution_count": 71,
   "metadata": {},
   "outputs": [
    {
     "data": {
      "text/plain": [
       "'Hello World'"
      ]
     },
     "execution_count": 71,
     "metadata": {},
     "output_type": "execute_result"
    }
   ],
   "source": [
    "soup.select_one('h1').text"
   ]
  },
  {
   "cell_type": "code",
   "execution_count": 73,
   "metadata": {},
   "outputs": [
    {
     "data": {
      "text/plain": [
       "<a class=\"link\" href=\"#\">This is link1</a>"
      ]
     },
     "execution_count": 73,
     "metadata": {},
     "output_type": "execute_result"
    }
   ],
   "source": [
    "soup.select_one('a')"
   ]
  },
  {
   "cell_type": "code",
   "execution_count": 75,
   "metadata": {},
   "outputs": [
    {
     "data": {
      "text/plain": [
       "[<a class=\"link\" href=\"#\">This is link1</a>,\n",
       " <a class=\"link\" href=\"# link2\">This is link2</a>]"
      ]
     },
     "execution_count": 75,
     "metadata": {},
     "output_type": "execute_result"
    }
   ],
   "source": [
    "soup.select('a')"
   ]
  },
  {
   "cell_type": "code",
   "execution_count": 77,
   "metadata": {},
   "outputs": [
    {
     "data": {
      "text/plain": [
       "'This is link1'"
      ]
     },
     "execution_count": 77,
     "metadata": {},
     "output_type": "execute_result"
    }
   ],
   "source": [
    "soup.select('a')[0].text"
   ]
  },
  {
   "cell_type": "code",
   "execution_count": 79,
   "metadata": {},
   "outputs": [
    {
     "data": {
      "text/plain": [
       "[<h1 id=\"title\">Hello World</h1>]"
      ]
     },
     "execution_count": 79,
     "metadata": {},
     "output_type": "execute_result"
    }
   ],
   "source": [
    "soup.select('h1')"
   ]
  },
  {
   "cell_type": "code",
   "execution_count": 81,
   "metadata": {},
   "outputs": [
    {
     "data": {
      "text/plain": [
       "<h1 id=\"title\">Hello World</h1>"
      ]
     },
     "execution_count": 81,
     "metadata": {},
     "output_type": "execute_result"
    }
   ],
   "source": [
    "soup.select('h1')[0]"
   ]
  },
  {
   "cell_type": "code",
   "execution_count": 82,
   "metadata": {},
   "outputs": [
    {
     "data": {
      "text/plain": [
       "'Hello World'"
      ]
     },
     "execution_count": 82,
     "metadata": {},
     "output_type": "execute_result"
    }
   ],
   "source": [
    "soup.select('h1')[0].text"
   ]
  },
  {
   "cell_type": "code",
   "execution_count": 83,
   "metadata": {},
   "outputs": [
    {
     "data": {
      "text/plain": [
       "<html>\n",
       "<body>\n",
       "<h1 id=\"title\">Hello World</h1>\n",
       "<a class=\"link\" href=\"#\">This is link1</a>\n",
       "<a class=\"link\" href=\"# link2\">This is link2</a>\n",
       "</body>\n",
       "</html>"
      ]
     },
     "execution_count": 83,
     "metadata": {},
     "output_type": "execute_result"
    }
   ],
   "source": [
    "soup"
   ]
  },
  {
   "cell_type": "code",
   "execution_count": 85,
   "metadata": {},
   "outputs": [
    {
     "data": {
      "text/plain": [
       "<h1 id=\"title\">Hello World</h1>"
      ]
     },
     "execution_count": 85,
     "metadata": {},
     "output_type": "execute_result"
    }
   ],
   "source": [
    "# id => #\n",
    "soup.select_one('#title')"
   ]
  },
  {
   "cell_type": "code",
   "execution_count": 87,
   "metadata": {},
   "outputs": [
    {
     "data": {
      "text/plain": [
       "[<a class=\"link\" href=\"#\">This is link1</a>,\n",
       " <a class=\"link\" href=\"# link2\">This is link2</a>]"
      ]
     },
     "execution_count": 87,
     "metadata": {},
     "output_type": "execute_result"
    }
   ],
   "source": [
    "# class => .\n",
    "soup.select('.link')"
   ]
  },
  {
   "cell_type": "code",
   "execution_count": 88,
   "metadata": {},
   "outputs": [
    {
     "data": {
      "text/plain": [
       "<h1 id=\"title\">Hello World</h1>"
      ]
     },
     "execution_count": 88,
     "metadata": {},
     "output_type": "execute_result"
    }
   ],
   "source": [
    "soup.select_one('h1#title')"
   ]
  },
  {
   "cell_type": "code",
   "execution_count": 89,
   "metadata": {},
   "outputs": [
    {
     "data": {
      "text/plain": [
       "[<a class=\"link\" href=\"#\">This is link1</a>,\n",
       " <a class=\"link\" href=\"# link2\">This is link2</a>]"
      ]
     },
     "execution_count": 89,
     "metadata": {},
     "output_type": "execute_result"
    }
   ],
   "source": [
    "soup.select('a.link')"
   ]
  },
  {
   "cell_type": "code",
   "execution_count": 91,
   "metadata": {},
   "outputs": [
    {
     "data": {
      "text/plain": [
       "<h1 id=\"title\">Hello World</h1>"
      ]
     },
     "execution_count": 91,
     "metadata": {},
     "output_type": "execute_result"
    }
   ],
   "source": [
    "soup.select_one('body h1#title')"
   ]
  },
  {
   "cell_type": "code",
   "execution_count": 93,
   "metadata": {},
   "outputs": [
    {
     "data": {
      "text/plain": [
       "<h1 id=\"title\">Hello World</h1>"
      ]
     },
     "execution_count": 93,
     "metadata": {},
     "output_type": "execute_result"
    }
   ],
   "source": [
    "soup.select_one('body > h1#title')"
   ]
  },
  {
   "cell_type": "code",
   "execution_count": 94,
   "metadata": {},
   "outputs": [
    {
     "data": {
      "text/plain": [
       "[<a class=\"link\" href=\"#\">This is link1</a>,\n",
       " <a class=\"link\" href=\"# link2\">This is link2</a>]"
      ]
     },
     "execution_count": 94,
     "metadata": {},
     "output_type": "execute_result"
    }
   ],
   "source": [
    "soup.select('body a.link')"
   ]
  },
  {
   "cell_type": "markdown",
   "metadata": {},
   "source": [
    "## CSS 參考\n",
    "- http://www.w3school.com.cn/css/css_syntax_attribute_selector.asp"
   ]
  },
  {
   "cell_type": "code",
   "execution_count": 98,
   "metadata": {},
   "outputs": [
    {
     "name": "stdout",
     "output_type": "stream",
     "text": [
      "#\n",
      "# link2\n"
     ]
    }
   ],
   "source": [
    "for link in soup.select('body a.link'):\n",
    "    #print(link)\n",
    "    #print(link.text)\n",
    "    print(link.get('href'))"
   ]
  },
  {
   "cell_type": "code",
   "execution_count": 101,
   "metadata": {},
   "outputs": [
    {
     "data": {
      "text/plain": [
       "'qoo'"
      ]
     },
     "execution_count": 101,
     "metadata": {},
     "output_type": "execute_result"
    }
   ],
   "source": [
    "s = '<a href=\"https://www.largitdata.com\" data-id=123 data-attr=\"qoo\">'\n",
    "s2 = BeautifulSoup(s, 'lxml')\n",
    "s2.select_one('a').get('data-id')\n",
    "s2.select_one('a').get('data-attr')"
   ]
  },
  {
   "cell_type": "markdown",
   "metadata": {},
   "source": [
    "## 資料蒐集實務"
   ]
  },
  {
   "cell_type": "code",
   "execution_count": 114,
   "metadata": {},
   "outputs": [
    {
     "data": {
      "text/plain": [
       "<Response [200]>"
      ]
     },
     "execution_count": 114,
     "metadata": {},
     "output_type": "execute_result"
    }
   ],
   "source": [
    "import requests\n",
    "res = requests.get('https://tw.appledaily.com/new/realtime')\n",
    "res"
   ]
  },
  {
   "cell_type": "code",
   "execution_count": 115,
   "metadata": {},
   "outputs": [],
   "source": [
    "from bs4 import BeautifulSoup\n",
    "soup = BeautifulSoup(res.text, 'lxml')"
   ]
  },
  {
   "cell_type": "code",
   "execution_count": 140,
   "metadata": {},
   "outputs": [
    {
     "name": "stdout",
     "output_type": "stream",
     "text": [
      "嚴正嵐笑喊愛情麵包雙收　以結婚為前提嫁給... 娛樂 14:37 https://tw.entertainment.appledaily.com/realtime/20180930/1438965/\n",
      "========================================\n",
      "中國停售來往新疆車票　傳秘密轉移維吾爾人 國際 14:35 https://tw.news.appledaily.com/international/realtime/20180930/1438994/\n",
      "========================================\n",
      "監院發函本周五約詢管中閔　仍未獲答覆 政治 14:35 https://tw.news.appledaily.com/politics/realtime/20180930/1438931/\n",
      "========================================\n",
      "騰訊總裁清晨6點叫起床　宣布20歲生日頭... 財經 14:33 https://tw.finance.appledaily.com/realtime/20180930/1438995/\n",
      "========================================\n",
      "新時代來了　央行：政策傳遞效果弱化、將調... 財經 14:30 https://tw.finance.appledaily.com/realtime/20180930/1438991/\n",
      "========================================\n",
      "【更新】連3安加統一守備失誤　4局統一0...(721) 體育 14:29 https://tw.sports.appledaily.com/realtime/20180930/1438950/\n",
      "========================================\n",
      "普通蚊子3倍大　美颶風災區被「怪獸巨蚊」...(84) 國際 14:26 https://tw.news.appledaily.com/international/realtime/20180930/1438960/\n",
      "========================================\n",
      "吃火鍋不滿服務爆火氣　兩男酒後砸店遭法辦 社會 14:22 https://tw.news.appledaily.com/local/realtime/20180930/1438988/\n",
      "========================================\n",
      "人夫愛愛出怪招　人妻勸不聽怒提告(133681) 社會 14:20 https://tw.news.appledaily.com/local/realtime/20180930/1438308/\n",
      "========================================\n",
      "李婉鈺爆乳蹦出東西半球　「地表最正議員」...(86199) 政治 14:19 https://tw.news.appledaily.com/politics/realtime/20180930/1438900/\n",
      "========================================\n",
      "馬斯克與美證管會和解　辭特斯拉董事長付1...(18691) 財經 14:19 https://tw.finance.appledaily.com/realtime/20180930/1438822/\n",
      "========================================\n",
      "迎新點火吵鬧惹議　逢甲居民要大學生自制 生活 14:19 https://tw.news.appledaily.com/life/realtime/20180930/1438990/\n",
      "========================================\n",
      "【10/1-10/7戀愛運】金牛春心恐有...(253) 副刊 14:17 https://tw.lifestyle.appledaily.com/lifestyle/realtime/20180930/1438952/\n",
      "========================================\n",
      "日本女子公開賽　姚宣榆前6洞種敗因單獨第...(86) 體育 14:12 https://tw.sports.appledaily.com/realtime/20180930/1438975/\n",
      "========================================\n",
      "憲哥「少一個敵人」送費玉清退休　自爆三辭...(938) 娛樂 14:10 https://tw.entertainment.appledaily.com/realtime/20180930/1438939/\n",
      "========================================\n",
      "魏明仁出境香港　受中媒訪問稱「戰術性撤退...(1678) 政治 14:07 https://tw.news.appledaily.com/politics/realtime/20180930/1438966/\n",
      "========================================\n",
      "屏縣長參選人蘇清泉競總成立　3千張椅子不...(4143) 政治 14:02 https://tw.news.appledaily.com/politics/realtime/20180930/1438945/\n",
      "========================================\n",
      "輾死醉倒人行道男大生　肇事司機賠600萬...(3723) 社會 14:01 https://tw.news.appledaily.com/local/realtime/20180930/1438948/\n",
      "========================================\n",
      "【警殤故事1】一槍打進他腦袋卡彈4個月　...(135943) 微視蘋 14:00 https://tw.news.appledaily.com/micromovie/realtime/20180930/1436671/\n",
      "========================================\n",
      "【警殤故事3】抓違停竟遭剁骨刀亂砍　張家...(77527) 社會 14:00 https://tw.news.appledaily.com/local/realtime/20180930/1428457/\n",
      "========================================\n",
      "【警殤故事2】他36歲遭酒駕女狠撞慘截肢...(38108) 社會 14:00 https://tw.news.appledaily.com/local/realtime/20180930/1436637/\n",
      "========================================\n",
      "夭壽網友爆肝癌不治　周傳雄澄清「身體非常...(2543) 娛樂 14:00 https://tw.entertainment.appledaily.com/realtime/20180930/1438936/\n",
      "========================================\n",
      "善化稀有市區推案　2~3房每坪18萬起　(300) 地產 14:00 https://tw.finance.appledaily.com/realtime/20180930/1437978/\n",
      "========================================\n",
      "美專家稱台灣能贏台海戰爭　國防部：有信心(770) 政治 13:58 https://tw.news.appledaily.com/politics/realtime/20180930/1438970/\n",
      "========================================\n",
      "【創薪世代2】誰說老闆就是爽？　「越痛苦...(2188) 財經 13:57 https://tw.finance.appledaily.com/realtime/20180930/1434259/\n",
      "========================================\n",
      "開車夜遊耍帥失敗　過彎卡在分隔島好尷尬(8956) 社會 13:56 https://tw.news.appledaily.com/local/realtime/20180930/1438817/\n",
      "========================================\n",
      "坐繫纜樁看海　疑身體不適跌落港溺斃(495) 社會 13:56 https://tw.news.appledaily.com/local/realtime/20180930/1438968/\n",
      "========================================\n",
      "八斗子恐怖大浪衝堤　擊倒3人全身傷送醫(14665) 社會 13:55 https://tw.news.appledaily.com/local/realtime/20180930/1438932/\n",
      "========================================\n",
      "【創薪世代1】創業「做功德」　花18個月...(3950) 財經 13:54 https://tw.finance.appledaily.com/realtime/20180930/1434095/\n",
      "========================================\n",
      "康芮最快今天變中颱　周三替北部帶來水氣(20642) 生活 13:53 https://tw.news.appledaily.com/life/realtime/20180930/1438839/\n",
      "========================================\n"
     ]
    }
   ],
   "source": [
    "#soup.select('li.rtddt a')\n",
    "for news in soup.select('.rtddt a'):\n",
    "    #print(news)\n",
    "    title    = news.select_one('h1').text\n",
    "    category = news.select_one('h2').text\n",
    "    dt       = news.select_one('time').text\n",
    "    link     = news.get('href')\n",
    "    print(title, category, dt, link)\n",
    "    print('========================================')"
   ]
  },
  {
   "cell_type": "code",
   "execution_count": 141,
   "metadata": {},
   "outputs": [],
   "source": [
    "import requests\n",
    "res = requests.get('https://tw.finance.appledaily.com/realtime/20180930/1438995/')"
   ]
  },
  {
   "cell_type": "code",
   "execution_count": 143,
   "metadata": {},
   "outputs": [],
   "source": [
    "from bs4 import BeautifulSoup\n",
    "soup = BeautifulSoup(res.text, 'lxml')"
   ]
  },
  {
   "cell_type": "code",
   "execution_count": 146,
   "metadata": {},
   "outputs": [
    {
     "name": "stdout",
     "output_type": "stream",
     "text": [
      "騰訊總裁清晨6點叫起床　宣布20歲生日頭號大事\n"
     ]
    }
   ],
   "source": [
    "print(soup.select_one('h1').text)"
   ]
  },
  {
   "cell_type": "code",
   "execution_count": 149,
   "metadata": {},
   "outputs": [
    {
     "data": {
      "text/plain": [
       "'伴隨裁員傳聞滿天飛，中國網際網路巨擘騰訊（Tencent）今宣布啟動新一輪組織架構整頓，在原有7大事業群基礎上進行重組整合，整合為6大事業群，並成立技術委員會，加強基礎研發。\\xa0騰訊董事長馬化騰在正式公告中說：「此次主動革新是騰訊邁向下一個20年的新起點。它是一次非常重要的戰略升級，互聯網的下半場屬於產業互聯網，上半場騰訊通過連結為用戶提供優質的服務，下半場我們將在此基礎上，助力產業與消費者形成更具開放性的新型接連生態。」\\xa0騰訊創辦於1998年11月，今年11月成立將屆滿20周年。華爾街見聞報導，騰訊總裁劉熾平今天一早6點多就發送內部信件，向公司上下表示「無論是外界的建議和鞭策，還是內部的思考和進化，都將是騰訊20周歲收穫的最好禮物。」\\xa0據香港《蘋果日報》報導，騰訊在2005年和2012年分別經歷過2次重大組織架構調整，此次為時隔6年後，新一輪結構優化重組。\\xa0原有的7大事業群中，將保留企業發展事業群（CDG）、互動娛樂事業群（IEG）、技術工程事業群（TEG）、微信事業群（WXG），另外新成立雲與智慧產業事業群（CSIG）、平台與內容事業群（PCG）。\\xa0這意味原有移動網絡事業群（MIG）、網絡媒體事業群（OMG）、社交網絡事業群（SNG）將被裁撤，整併入上列新事業群中。\\xa0伴隨此次組織架構調整異動，外界出現了有關騰訊將裁員的傳言。但騰訊已向騰訊科技回應，此次調整不涉及裁員，公司各個業務板塊將整體平移。\\xa0（劉利貞／綜合外電報導）'"
      ]
     },
     "execution_count": 149,
     "metadata": {},
     "output_type": "execute_result"
    }
   ],
   "source": [
    "soup.select_one('.ndArticle_margin p').text"
   ]
  },
  {
   "cell_type": "code",
   "execution_count": 151,
   "metadata": {},
   "outputs": [
    {
     "data": {
      "text/plain": [
       "'出版時間：2018/09/30 14:33'"
      ]
     },
     "execution_count": 151,
     "metadata": {},
     "output_type": "execute_result"
    }
   ],
   "source": [
    "soup.select_one('.ndArticle_creat').text"
   ]
  },
  {
   "cell_type": "code",
   "execution_count": 157,
   "metadata": {},
   "outputs": [],
   "source": [
    "from datetime import datetime, timedelta\n",
    "current_time = datetime.now()"
   ]
  },
  {
   "cell_type": "code",
   "execution_count": 158,
   "metadata": {},
   "outputs": [
    {
     "data": {
      "text/plain": [
       "datetime.datetime"
      ]
     },
     "execution_count": 158,
     "metadata": {},
     "output_type": "execute_result"
    }
   ],
   "source": [
    "type(current_time)"
   ]
  },
  {
   "cell_type": "code",
   "execution_count": 159,
   "metadata": {},
   "outputs": [
    {
     "data": {
      "text/plain": [
       "datetime.datetime(2018, 9, 30, 15, 1, 56, 640920)"
      ]
     },
     "execution_count": 159,
     "metadata": {},
     "output_type": "execute_result"
    }
   ],
   "source": [
    "current_time"
   ]
  },
  {
   "cell_type": "code",
   "execution_count": 161,
   "metadata": {},
   "outputs": [
    {
     "data": {
      "text/plain": [
       "datetime.datetime(2018, 9, 29, 15, 1, 56, 640920)"
      ]
     },
     "execution_count": 161,
     "metadata": {},
     "output_type": "execute_result"
    }
   ],
   "source": [
    "current_time - timedelta(days = 1)"
   ]
  },
  {
   "cell_type": "code",
   "execution_count": 163,
   "metadata": {},
   "outputs": [
    {
     "data": {
      "text/plain": [
       "datetime.datetime(2018, 10, 1, 15, 1, 56, 640920)"
      ]
     },
     "execution_count": 163,
     "metadata": {},
     "output_type": "execute_result"
    }
   ],
   "source": [
    "current_time + timedelta(days = 1)"
   ]
  },
  {
   "cell_type": "markdown",
   "metadata": {},
   "source": [
    "## Datetime\n",
    "- https://docs.python.org/3/library/datetime.html#strftime-and-strptime-behavior"
   ]
  },
  {
   "cell_type": "code",
   "execution_count": 165,
   "metadata": {},
   "outputs": [
    {
     "data": {
      "text/plain": [
       "'2018-09-30'"
      ]
     },
     "execution_count": 165,
     "metadata": {},
     "output_type": "execute_result"
    }
   ],
   "source": [
    "current_time.strftime('%Y-%m-%d')"
   ]
  },
  {
   "cell_type": "code",
   "execution_count": 172,
   "metadata": {},
   "outputs": [],
   "source": [
    "dt2 = datetime.strptime('2018-08-30','%Y-%m-%d')"
   ]
  },
  {
   "cell_type": "code",
   "execution_count": 173,
   "metadata": {},
   "outputs": [
    {
     "data": {
      "text/plain": [
       "datetime.timedelta(31, 54116, 640920)"
      ]
     },
     "execution_count": 173,
     "metadata": {},
     "output_type": "execute_result"
    }
   ],
   "source": [
    "current_time  - dt2"
   ]
  },
  {
   "cell_type": "code",
   "execution_count": 171,
   "metadata": {},
   "outputs": [
    {
     "name": "stdout",
     "output_type": "stream",
     "text": [
      "2018/09/29\n",
      "2018/09/28\n",
      "2018/09/27\n",
      "2018/09/26\n",
      "2018/09/25\n",
      "2018/09/24\n",
      "2018/09/23\n",
      "2018/09/22\n",
      "2018/09/21\n"
     ]
    }
   ],
   "source": [
    "for i in range(1,10):\n",
    "    dt = current_time - timedelta(days = i)\n",
    "    print(dt.strftime('%Y/%m/%d'))"
   ]
  },
  {
   "cell_type": "code",
   "execution_count": 175,
   "metadata": {},
   "outputs": [
    {
     "data": {
      "text/plain": [
       "datetime.datetime(2018, 9, 30, 14, 33)"
      ]
     },
     "execution_count": 175,
     "metadata": {},
     "output_type": "execute_result"
    }
   ],
   "source": [
    "datetime.strptime(soup.select_one('.ndArticle_creat').text, '出版時間：%Y/%m/%d %H:%M')"
   ]
  },
  {
   "cell_type": "code",
   "execution_count": 179,
   "metadata": {},
   "outputs": [
    {
     "data": {
      "text/plain": [
       "1139"
      ]
     },
     "execution_count": 179,
     "metadata": {},
     "output_type": "execute_result"
    }
   ],
   "source": [
    "int(soup.select_one('.ndArticle_view').text)"
   ]
  },
  {
   "cell_type": "code",
   "execution_count": 182,
   "metadata": {},
   "outputs": [
    {
     "data": {
      "text/plain": [
       "'財經地產'"
      ]
     },
     "execution_count": 182,
     "metadata": {},
     "output_type": "execute_result"
    }
   ],
   "source": [
    "soup.select_one('.ndgTag .current').text"
   ]
  },
  {
   "cell_type": "code",
   "execution_count": 185,
   "metadata": {},
   "outputs": [],
   "source": [
    "def pageDetail(url):\n",
    "    res     = requests.get(url)\n",
    "    soup    = BeautifulSoup(res.text, 'lxml')\n",
    "    title   = soup.select_one('h1').text\n",
    "    content = soup.select_one('.ndArticle_margin p').text\n",
    "    dt      = datetime.strptime(soup.select_one('.ndArticle_creat').text, '出版時間：%Y/%m/%d %H:%M')\n",
    "    view_cnt= int(soup.select_one('.ndArticle_view').text)\n",
    "    category= soup.select_one('.ndgTag .current').text\n",
    "    \n",
    "    ret     = {'title':title, 'content':content, 'dt':dt, 'view_cnt':view_cnt, 'category':category}\n",
    "    return  ret"
   ]
  },
  {
   "cell_type": "code",
   "execution_count": 186,
   "metadata": {},
   "outputs": [
    {
     "data": {
      "text/plain": [
       "{'title': '騰訊總裁清晨6點叫起床\\u3000宣布20歲生日頭號大事',\n",
       " 'content': '伴隨裁員傳聞滿天飛，中國網際網路巨擘騰訊（Tencent）今宣布啟動新一輪組織架構整頓，在原有7大事業群基礎上進行重組整合，整合為6大事業群，並成立技術委員會，加強基礎研發。\\xa0騰訊董事長馬化騰在正式公告中說：「此次主動革新是騰訊邁向下一個20年的新起點。它是一次非常重要的戰略升級，互聯網的下半場屬於產業互聯網，上半場騰訊通過連結為用戶提供優質的服務，下半場我們將在此基礎上，助力產業與消費者形成更具開放性的新型接連生態。」\\xa0騰訊創辦於1998年11月，今年11月成立將屆滿20周年。華爾街見聞報導，騰訊總裁劉熾平今天一早6點多就發送內部信件，向公司上下表示「無論是外界的建議和鞭策，還是內部的思考和進化，都將是騰訊20周歲收穫的最好禮物。」\\xa0據香港《蘋果日報》報導，騰訊在2005年和2012年分別經歷過2次重大組織架構調整，此次為時隔6年後，新一輪結構優化重組。\\xa0原有的7大事業群中，將保留企業發展事業群（CDG）、互動娛樂事業群（IEG）、技術工程事業群（TEG）、微信事業群（WXG），另外新成立雲與智慧產業事業群（CSIG）、平台與內容事業群（PCG）。\\xa0這意味原有移動網絡事業群（MIG）、網絡媒體事業群（OMG）、社交網絡事業群（SNG）將被裁撤，整併入上列新事業群中。\\xa0伴隨此次組織架構調整異動，外界出現了有關騰訊將裁員的傳言。但騰訊已向騰訊科技回應，此次調整不涉及裁員，公司各個業務板塊將整體平移。\\xa0（劉利貞／綜合外電報導）',\n",
       " 'dt': datetime.datetime(2018, 9, 30, 14, 33),\n",
       " 'view_cnt': 2792,\n",
       " 'category': '財經地產'}"
      ]
     },
     "execution_count": 186,
     "metadata": {},
     "output_type": "execute_result"
    }
   ],
   "source": [
    "pageDetail('https://tw.finance.appledaily.com/realtime/20180930/1438995/')"
   ]
  },
  {
   "cell_type": "code",
   "execution_count": 187,
   "metadata": {},
   "outputs": [
    {
     "data": {
      "text/plain": [
       "{'title': '五月天跨年10場半小時搶光！網站崩潰歌迷也崩潰',\n",
       " 'content': '五月天今年底將在台中連唱10場，今早11點開放售票，但拓元售票網站一度癱瘓，不少粉絲哀鴻遍野，表示「驗證碼送出去就當了」、「網站根本進不去，超扯」，批踢踢五月天板擠進上萬鄉民關注。大約11點10幾分開始陸續有網友表示買到票，11點30分網站顯示全部售完，將進行對帳整理，預計於下午2點30分重新釋票。\\xa0此外，拓元早前規定舊會員需重新經過手機認證，需經過24小時系統作業處理，才可開始於拓元網站購票，意即須提前25小時認證，不少粉絲不知此條規定，今早才知喪失購票資格。（娛樂中心／綜合報導）出版時間：11:20新增影片：13:00',\n",
       " 'dt': datetime.datetime(2018, 9, 30, 13, 0),\n",
       " 'view_cnt': 28908,\n",
       " 'category': '娛樂時尚'}"
      ]
     },
     "execution_count": 187,
     "metadata": {},
     "output_type": "execute_result"
    }
   ],
   "source": [
    "pageDetail('https://tw.entertainment.appledaily.com/realtime/20180930/1438892/')"
   ]
  },
  {
   "cell_type": "markdown",
   "metadata": {},
   "source": [
    "## MOMO 商品列表"
   ]
  },
  {
   "cell_type": "code",
   "execution_count": 198,
   "metadata": {},
   "outputs": [],
   "source": [
    "import requests\n",
    "import json\n",
    "\n",
    "url = \"https://www.momoshop.com.tw/ajax/ajaxTool.jsp?n=2018&t=1538292654974\"\n",
    "data = json.loads(r'''{\n",
    "    \"data\": \"{\\\"flag\\\":2018,\\\"data\\\":{\\\"searchValue\\\":\\\"吸頂燈\\\",\\\"cateCode\\\":\\\"\\\",\\\"cateLevel\\\":\\\"-1\\\",\\\"cp\\\":\\\"N\\\",\\\"NAM\\\":\\\"N\\\",\\\"normal\\\":\\\"N\\\",\\\"first\\\":\\\"N\\\",\\\"superstore\\\":\\\"N\\\",\\\"tvshop\\\":\\\"N\\\",\\\"china\\\":\\\"N\\\",\\\"tomorrow\\\":\\\"N\\\",\\\"showType\\\":\\\"chessboardType\\\",\\\"curPage\\\":\\\"4\\\",\\\"priceS\\\":\\\"0\\\",\\\"priceE\\\":\\\"9999999\\\",\\\"searchType\\\":\\\"1\\\",\\\"reduceKeyword\\\":\\\"\\\",\\\"isFuzzy\\\":\\\"0\\\",\\\"rtnCateDatainfo\\\":{\\\"cateCode\\\":\\\"\\\",\\\"cateLv\\\":\\\"-1\\\",\\\"curPage\\\":\\\"4\\\",\\\"historyDoPush\\\":true,\\\"timestamp\\\":1538292654971}}}\"\n",
    "}''')\n",
    "headers = json.loads(r'''{\n",
    "    \"accept\": \"application/json, text/javascript, */*\",\n",
    "    \"accept-encoding\": \"gzip, deflate, br\",\n",
    "    \"accept-language\": \"zh-TW,zh;q=0.9,en-US;q=0.8,en;q=0.7\",\n",
    "    \"content-length\": \"749\",\n",
    "    \"content-type\": \"application/x-www-form-urlencoded\",\n",
    "    \"cookie\": \"ccsession=201809301146511933a8c007c60ade; ccguid=201809301146511933a8c007c60ade; NSC_MC-xxx.npnptipq.dpn.ux*80=ffffffffc3a02a0845525d5f4f58455e445a4a423660; _ga=GA1.3.1085468063.1538279216; _gid=GA1.3.390840055.1538279216; __auc=af966f4e16628961401c3741403; _mwa_uniCampaignInfo=1538279216138933399.1538279216138; firstTimeOpenShop=forever; NSC_MC_TTP_WT=ffffffffc3a02ac945525d5f4f58455e445a4a4229a0; _atrk_siteuid=xJo8Q3zJd-gS_I56; cto_lwid=c19c701b-dabc-4296-8c35-87fa244168bd; __BWfp=c1538279221849x433b9627b; appier_utmz=%7B%22csr%22%3A%22www.momoshop.com.tw%252Findex.html%22%2C%22lcsr%22%3A%22www.momoshop.com.tw%252Findex.html%22%7D; DCODE=1903000021; GoodsBrowsingHistory=4778291_1538205559; l_code=1299900000; FTOOTH=12; TN=undefined; CN=undefined; CM=undefined; JSESSIONID=dKRU4acKR9VaBKe04KRq4oYKNqJWdKSy4lb1cU2zQ37V9fz7340lT2o6U2ECMd8M8Ngsx.0000000.ecap01_servlet_mom25; _atrk_ssid=hRGMEYDbedwFApL2Pba4J6; __asc=9cc529d11662958e232c0b7d1d8; _mwa_uniVisitorInfo=1538279216138978860.1538279216138.3.1538291983809; appier_tp=; _atrk_sessidx=2; appier_pv_counterERlDyPL9yO7gfOb=4; appier_page_isView_ERlDyPL9yO7gfOb=81496ccc58e67b91095e73209721fd10bd61196d177e18477599d492cdc46a1c; _gat_gtag_UA_22652017_1=1; _mwa_uniSessionInfo=1538291983808143830.1538291983808.3.1538292624146\",\n",
    "    \"origin\": \"https://www.momoshop.com.tw\",\n",
    "    \"referer\": \"https://www.momoshop.com.tw/search/searchShop.jsp?keyword=%E5%90%B8%E9%A0%82%E7%87%88&searchType=1&curPage=3&_isFuzzy=0&showType=chessboardType\",\n",
    "    \"user-agent\": \"Mozilla/5.0 (Windows NT 6.1; Win64; x64) AppleWebKit/537.36 (KHTML, like Gecko) Chrome/69.0.3497.100 Safari/537.36\",\n",
    "    \"x-requested-with\": \"XMLHttpRequest\"\n",
    "}''')\n",
    "\n",
    "resp = requests.post(url, data=data, headers=headers)\n",
    "#resp.json()"
   ]
  },
  {
   "cell_type": "markdown",
   "metadata": {},
   "source": [
    "## 完整蘋果新聞爬蟲 part1"
   ]
  },
  {
   "cell_type": "code",
   "execution_count": 220,
   "metadata": {},
   "outputs": [],
   "source": [
    "def pageDetail(url):\n",
    "    res     = requests.get(url)\n",
    "    soup    = BeautifulSoup(res.text, 'lxml')\n",
    "    title   = soup.select_one('h1').text\n",
    "    content = soup.select_one('.ndArticle_margin p').text\n",
    "    dt      = datetime.strptime(soup.select_one('.ndArticle_creat').text, '出版時間：%Y/%m/%d %H:%M')\n",
    "    \n",
    "    view_cnt= 0\n",
    "    if soup.select_one('.ndArticle_view'):\n",
    "        view_cnt= int(soup.select_one('.ndArticle_view').text)\n",
    "    category= soup.select_one('.ndgTag .current').text\n",
    "    \n",
    "    ret     = {'title':title, 'content':content, 'dt':dt, 'view_cnt':view_cnt, 'category':category}\n",
    "    return  ret"
   ]
  },
  {
   "cell_type": "code",
   "execution_count": 221,
   "metadata": {},
   "outputs": [],
   "source": [
    "import requests\n",
    "res = requests.get('https://tw.appledaily.com/new/realtime/')"
   ]
  },
  {
   "cell_type": "code",
   "execution_count": 222,
   "metadata": {},
   "outputs": [],
   "source": [
    "from bs4 import BeautifulSoup\n",
    "soup = BeautifulSoup(res.text, 'lxml')"
   ]
  },
  {
   "cell_type": "code",
   "execution_count": 224,
   "metadata": {},
   "outputs": [],
   "source": [
    "newsary = []\n",
    "for news in soup.select('.rtddt a'):\n",
    "    res = pageDetail(news.get('href'))\n",
    "    newsary.append(res)"
   ]
  },
  {
   "cell_type": "code",
   "execution_count": 226,
   "metadata": {},
   "outputs": [
    {
     "data": {
      "text/plain": [
       "30"
      ]
     },
     "execution_count": 226,
     "metadata": {},
     "output_type": "execute_result"
    }
   ],
   "source": [
    "len(newsary)"
   ]
  },
  {
   "cell_type": "code",
   "execution_count": 205,
   "metadata": {},
   "outputs": [
    {
     "ename": "AttributeError",
     "evalue": "'NoneType' object has no attribute 'text'",
     "output_type": "error",
     "traceback": [
      "\u001b[1;31m---------------------------------------------------------------------------\u001b[0m",
      "\u001b[1;31mAttributeError\u001b[0m                            Traceback (most recent call last)",
      "\u001b[1;32m<ipython-input-205-454ae2648aec>\u001b[0m in \u001b[0;36m<module>\u001b[1;34m()\u001b[0m\n\u001b[1;32m----> 1\u001b[1;33m \u001b[0mpageDetail\u001b[0m\u001b[1;33m(\u001b[0m\u001b[1;34m'https://tw.news.appledaily.com/politics/realtime/20180930/1438985/'\u001b[0m\u001b[1;33m)\u001b[0m\u001b[1;33m\u001b[0m\u001b[0m\n\u001b[0m",
      "\u001b[1;32m<ipython-input-185-a6b722774f30>\u001b[0m in \u001b[0;36mpageDetail\u001b[1;34m(url)\u001b[0m\n\u001b[0;32m      5\u001b[0m     \u001b[0mcontent\u001b[0m \u001b[1;33m=\u001b[0m \u001b[0msoup\u001b[0m\u001b[1;33m.\u001b[0m\u001b[0mselect_one\u001b[0m\u001b[1;33m(\u001b[0m\u001b[1;34m'.ndArticle_margin p'\u001b[0m\u001b[1;33m)\u001b[0m\u001b[1;33m.\u001b[0m\u001b[0mtext\u001b[0m\u001b[1;33m\u001b[0m\u001b[0m\n\u001b[0;32m      6\u001b[0m     \u001b[0mdt\u001b[0m      \u001b[1;33m=\u001b[0m \u001b[0mdatetime\u001b[0m\u001b[1;33m.\u001b[0m\u001b[0mstrptime\u001b[0m\u001b[1;33m(\u001b[0m\u001b[0msoup\u001b[0m\u001b[1;33m.\u001b[0m\u001b[0mselect_one\u001b[0m\u001b[1;33m(\u001b[0m\u001b[1;34m'.ndArticle_creat'\u001b[0m\u001b[1;33m)\u001b[0m\u001b[1;33m.\u001b[0m\u001b[0mtext\u001b[0m\u001b[1;33m,\u001b[0m \u001b[1;34m'出版時間：%Y/%m/%d %H:%M'\u001b[0m\u001b[1;33m)\u001b[0m\u001b[1;33m\u001b[0m\u001b[0m\n\u001b[1;32m----> 7\u001b[1;33m     \u001b[0mview_cnt\u001b[0m\u001b[1;33m=\u001b[0m \u001b[0mint\u001b[0m\u001b[1;33m(\u001b[0m\u001b[0msoup\u001b[0m\u001b[1;33m.\u001b[0m\u001b[0mselect_one\u001b[0m\u001b[1;33m(\u001b[0m\u001b[1;34m'.ndArticle_view'\u001b[0m\u001b[1;33m)\u001b[0m\u001b[1;33m.\u001b[0m\u001b[0mtext\u001b[0m\u001b[1;33m)\u001b[0m\u001b[1;33m\u001b[0m\u001b[0m\n\u001b[0m\u001b[0;32m      8\u001b[0m     \u001b[0mcategory\u001b[0m\u001b[1;33m=\u001b[0m \u001b[0msoup\u001b[0m\u001b[1;33m.\u001b[0m\u001b[0mselect_one\u001b[0m\u001b[1;33m(\u001b[0m\u001b[1;34m'.ndgTag .current'\u001b[0m\u001b[1;33m)\u001b[0m\u001b[1;33m.\u001b[0m\u001b[0mtext\u001b[0m\u001b[1;33m\u001b[0m\u001b[0m\n\u001b[0;32m      9\u001b[0m \u001b[1;33m\u001b[0m\u001b[0m\n",
      "\u001b[1;31mAttributeError\u001b[0m: 'NoneType' object has no attribute 'text'"
     ]
    }
   ],
   "source": [
    "pageDetail('https://tw.news.appledaily.com/politics/realtime/20180930/1438985/')"
   ]
  },
  {
   "cell_type": "code",
   "execution_count": 208,
   "metadata": {},
   "outputs": [],
   "source": [
    "from bs4 import BeautifulSoup\n",
    "html_sample = '''\n",
    "<html>\n",
    "<body>\n",
    "<h1 id=\"title\">Hello World</h1>\n",
    "<a href=\"#\" class=\"link\">This is link1</a>\n",
    "<a href=\"# link2\" class=\"link\">This is link2</a>\n",
    "</body>\n",
    "</html>\n",
    "'''\n",
    "\n",
    "soup2 = BeautifulSoup(html_sample, 'lxml')\n",
    "soup2.select_one('h2')"
   ]
  },
  {
   "cell_type": "code",
   "execution_count": 210,
   "metadata": {},
   "outputs": [
    {
     "name": "stdout",
     "output_type": "stream",
     "text": [
      "PASS\n"
     ]
    }
   ],
   "source": [
    "a = 5\n",
    "if a > 3:\n",
    "    print('PASS')"
   ]
  },
  {
   "cell_type": "code",
   "execution_count": 211,
   "metadata": {},
   "outputs": [
    {
     "data": {
      "text/plain": [
       "True"
      ]
     },
     "execution_count": 211,
     "metadata": {},
     "output_type": "execute_result"
    }
   ],
   "source": [
    "a > 3"
   ]
  },
  {
   "cell_type": "code",
   "execution_count": 212,
   "metadata": {},
   "outputs": [
    {
     "name": "stdout",
     "output_type": "stream",
     "text": [
      "PASS\n"
     ]
    }
   ],
   "source": [
    "if True:\n",
    "    print('PASS')"
   ]
  },
  {
   "cell_type": "code",
   "execution_count": 213,
   "metadata": {},
   "outputs": [],
   "source": [
    "a = 5\n",
    "if a < 3:\n",
    "    print('PASS')"
   ]
  },
  {
   "cell_type": "code",
   "execution_count": 214,
   "metadata": {},
   "outputs": [
    {
     "data": {
      "text/plain": [
       "False"
      ]
     },
     "execution_count": 214,
     "metadata": {},
     "output_type": "execute_result"
    }
   ],
   "source": [
    " a < 3"
   ]
  },
  {
   "cell_type": "code",
   "execution_count": 215,
   "metadata": {},
   "outputs": [],
   "source": [
    "a = 5\n",
    "if False:\n",
    "    print('PASS')"
   ]
  },
  {
   "cell_type": "code",
   "execution_count": 216,
   "metadata": {},
   "outputs": [
    {
     "name": "stdout",
     "output_type": "stream",
     "text": [
      "PASS\n"
     ]
    }
   ],
   "source": [
    "if a:\n",
    "    print('PASS')"
   ]
  },
  {
   "cell_type": "code",
   "execution_count": 217,
   "metadata": {},
   "outputs": [],
   "source": [
    "a = None\n",
    "if a:\n",
    "    print('PASS')"
   ]
  },
  {
   "cell_type": "code",
   "execution_count": 218,
   "metadata": {},
   "outputs": [],
   "source": [
    "a = []\n",
    "if a:\n",
    "    print('PASS')"
   ]
  },
  {
   "cell_type": "code",
   "execution_count": 219,
   "metadata": {},
   "outputs": [],
   "source": [
    "a = {}\n",
    "if a:\n",
    "    print('PASS')"
   ]
  },
  {
   "cell_type": "markdown",
   "metadata": {},
   "source": [
    "## 完整蘋果新聞爬蟲 part2"
   ]
  },
  {
   "cell_type": "code",
   "execution_count": 228,
   "metadata": {},
   "outputs": [
    {
     "name": "stdout",
     "output_type": "stream",
     "text": [
      "https://tw.appledaily.com/new/realtime/1\n",
      "https://tw.appledaily.com/new/realtime/2\n",
      "https://tw.appledaily.com/new/realtime/3\n",
      "https://tw.appledaily.com/new/realtime/4\n"
     ]
    }
   ],
   "source": [
    "newsurl = 'https://tw.appledaily.com/new/realtime/{}'\n",
    "for i in range(1,5):\n",
    "    #print(i)\n",
    "    print(newsurl.format(i))"
   ]
  },
  {
   "cell_type": "code",
   "execution_count": 229,
   "metadata": {},
   "outputs": [
    {
     "name": "stdout",
     "output_type": "stream",
     "text": [
      "1\n",
      "2\n",
      "3\n"
     ]
    }
   ],
   "source": [
    "import requests\n",
    "from bs4 import BeautifulSoup\n",
    "newsurl = 'https://tw.appledaily.com/new/realtime/{}'\n",
    "\n",
    "def pageDetail(url):\n",
    "    res     = requests.get(url)\n",
    "    soup    = BeautifulSoup(res.text, 'lxml')\n",
    "    title   = soup.select_one('h1').text\n",
    "    content = soup.select_one('.ndArticle_margin p').text\n",
    "    dt      = datetime.strptime(soup.select_one('.ndArticle_creat').text, '出版時間：%Y/%m/%d %H:%M')\n",
    "    \n",
    "    view_cnt= 0\n",
    "    if soup.select_one('.ndArticle_view'):\n",
    "        view_cnt= int(soup.select_one('.ndArticle_view').text)\n",
    "    category= soup.select_one('.ndgTag .current').text\n",
    "    \n",
    "    ret     = {'title':title, 'content':content, 'dt':dt, 'view_cnt':view_cnt, 'category':category}\n",
    "    return  ret\n",
    "\n",
    "newsary = []\n",
    "for page in range(1,4):\n",
    "    res  = requests.get(newsurl.format(page))\n",
    "    soup = BeautifulSoup(res.text, 'lxml')\n",
    "    for news in soup.select('.rtddt a'):\n",
    "        res = pageDetail(news.get('href'))\n",
    "        newsary.append(res)    \n",
    "    print(page)"
   ]
  },
  {
   "cell_type": "code",
   "execution_count": 231,
   "metadata": {},
   "outputs": [
    {
     "data": {
      "text/plain": [
       "90"
      ]
     },
     "execution_count": 231,
     "metadata": {},
     "output_type": "execute_result"
    }
   ],
   "source": [
    "len(newsary)"
   ]
  },
  {
   "cell_type": "code",
   "execution_count": 232,
   "metadata": {},
   "outputs": [
    {
     "data": {
      "text/plain": [
       "{'title': '學岳飛背部刺字\\u3000男子竟用拉K盡孝道',\n",
       " 'content': '高雄市蔡姓男子綽號「柳丁」，今天凌晨騎車在新興區遇警攔查，被聞出身上濃厚K味，且走路姿勢怪異，被搜出鞋墊中的6小包K他命。他學中國宋代名將岳飛在背部刺字，不僅寫了「百善孝為先」，還畫了一幅觀音圖。蔡姓男子告訴警方，「因從小生活困苦，感念父母養育之恩，於是刺青惕勵自己。」但警方聽了之後沒有感動，對照他今日吸毒所為，反而覺得格外諷刺，訊後依違反《毒品危害防制條例》移送法辦。\\xa0高雄市新興分局自強路派出所警方今天凌晨巡經中華四路和新田路口，見騎車的蔡姓男子（24歲，有多項毒品前科）超越停止線，於是趨前攔查。\\xa0蔡男下車走向警方接受盤查，警方發現他神色緊張、說話顛三倒四，不僅走路姿勢怪異，身上還飄散一股濃厚K他命味道，於是要求他脫鞋檢查，結果在鞋墊內搜出6包共重8.5公克的K毒，警方便將他帶回警所查辦。\\xa0警方調閱蔡男資料，發現蔡男背部刺了一幅觀音圖，並註解「百善孝為先」的刺青，蔡男當下自豪地告訴警方刺青涵義：「指自己從小生活困苦，為了紀念父母的養育之恩，於是在背部刺青，時時警惕自己」。\\xa0但警方發現蔡男不僅是轄區列管的治安顧慮人口，去年8月間還曾因毆打女友，不滿媒體拍攝，打傷一名攝影記者，還得由年邁的阿嬤出面協調，最後賠錢了事；對照他今日所作所為，看起來格外諷刺，連警方看了也搖頭。（石秀華／高雄報導）',\n",
       " 'dt': datetime.datetime(2018, 9, 30, 15, 50),\n",
       " 'view_cnt': 0,\n",
       " 'category': '社會'}"
      ]
     },
     "execution_count": 232,
     "metadata": {},
     "output_type": "execute_result"
    }
   ],
   "source": [
    "newsary[0]"
   ]
  },
  {
   "cell_type": "code",
   "execution_count": 233,
   "metadata": {},
   "outputs": [
    {
     "data": {
      "text/html": [
       "<div>\n",
       "<style scoped>\n",
       "    .dataframe tbody tr th:only-of-type {\n",
       "        vertical-align: middle;\n",
       "    }\n",
       "\n",
       "    .dataframe tbody tr th {\n",
       "        vertical-align: top;\n",
       "    }\n",
       "\n",
       "    .dataframe thead th {\n",
       "        text-align: right;\n",
       "    }\n",
       "</style>\n",
       "<table border=\"1\" class=\"dataframe\">\n",
       "  <thead>\n",
       "    <tr style=\"text-align: right;\">\n",
       "      <th></th>\n",
       "      <th>age</th>\n",
       "      <th>name</th>\n",
       "      <th>salary</th>\n",
       "    </tr>\n",
       "  </thead>\n",
       "  <tbody>\n",
       "    <tr>\n",
       "      <th>0</th>\n",
       "      <td>12.0</td>\n",
       "      <td>qoo</td>\n",
       "      <td>1000000</td>\n",
       "    </tr>\n",
       "    <tr>\n",
       "      <th>1</th>\n",
       "      <td>NaN</td>\n",
       "      <td>mary</td>\n",
       "      <td>800000</td>\n",
       "    </tr>\n",
       "  </tbody>\n",
       "</table>\n",
       "</div>"
      ],
      "text/plain": [
       "    age  name   salary\n",
       "0  12.0   qoo  1000000\n",
       "1   NaN  mary   800000"
      ]
     },
     "execution_count": 233,
     "metadata": {},
     "output_type": "execute_result"
    }
   ],
   "source": [
    "a = [{'name':'qoo', 'age':12, 'salary':1000000},{'name':'mary', 'salary':800000}]\n",
    "import pandas\n",
    "pandas.DataFrame(a)"
   ]
  },
  {
   "cell_type": "code",
   "execution_count": 234,
   "metadata": {},
   "outputs": [],
   "source": [
    "import pandas\n",
    "newsdf = pandas.DataFrame(newsary)"
   ]
  },
  {
   "cell_type": "code",
   "execution_count": 236,
   "metadata": {},
   "outputs": [
    {
     "data": {
      "text/html": [
       "<div>\n",
       "<style scoped>\n",
       "    .dataframe tbody tr th:only-of-type {\n",
       "        vertical-align: middle;\n",
       "    }\n",
       "\n",
       "    .dataframe tbody tr th {\n",
       "        vertical-align: top;\n",
       "    }\n",
       "\n",
       "    .dataframe thead th {\n",
       "        text-align: right;\n",
       "    }\n",
       "</style>\n",
       "<table border=\"1\" class=\"dataframe\">\n",
       "  <thead>\n",
       "    <tr style=\"text-align: right;\">\n",
       "      <th></th>\n",
       "      <th>category</th>\n",
       "      <th>content</th>\n",
       "      <th>dt</th>\n",
       "      <th>title</th>\n",
       "      <th>view_cnt</th>\n",
       "    </tr>\n",
       "  </thead>\n",
       "  <tbody>\n",
       "    <tr>\n",
       "      <th>0</th>\n",
       "      <td>社會</td>\n",
       "      <td>高雄市蔡姓男子綽號「柳丁」，今天凌晨騎車在新興區遇警攔查，被聞出身上濃厚K味，且走路姿勢怪異...</td>\n",
       "      <td>2018-09-30 15:50:00</td>\n",
       "      <td>學岳飛背部刺字　男子竟用拉K盡孝道</td>\n",
       "      <td>0</td>\n",
       "    </tr>\n",
       "    <tr>\n",
       "      <th>1</th>\n",
       "      <td>政治</td>\n",
       "      <td>國民黨桃園市長候選人陳學聖今上午在大園區座談會上，對於明日將有多個產業工會到立法院表達爭取勞...</td>\n",
       "      <td>2018-09-30 15:49:00</td>\n",
       "      <td>陳學聖力與勞工站一起　力挺「勞工防災假」入法</td>\n",
       "      <td>0</td>\n",
       "    </tr>\n",
       "    <tr>\n",
       "      <th>2</th>\n",
       "      <td>娛樂時尚</td>\n",
       "      <td>中國女星范冰冰（范爺）「陰陽合同」風波至今未平，名嘴許聖梅今年8月在三立《54新觀點》節目中...</td>\n",
       "      <td>2018-09-30 15:47:00</td>\n",
       "      <td>知道范冰冰太多事　許聖梅對岸少賺20萬</td>\n",
       "      <td>26</td>\n",
       "    </tr>\n",
       "    <tr>\n",
       "      <th>3</th>\n",
       "      <td>論壇</td>\n",
       "      <td>蔡素芬／林榮三文化公益基金會執行長、《鹽田兒女》三部曲作者 朋友連結給我一則9月22日《天下...</td>\n",
       "      <td>2018-09-30 15:45:00</td>\n",
       "      <td>小說家蔡素芬：台灣有人寫長篇小說</td>\n",
       "      <td>8</td>\n",
       "    </tr>\n",
       "    <tr>\n",
       "      <th>4</th>\n",
       "      <td>生活</td>\n",
       "      <td>台北市建國中學日前舉行優良學生選舉，在30名參選學生中選出6人，而選舉公報部分內容被網友分享...</td>\n",
       "      <td>2018-09-30 15:42:00</td>\n",
       "      <td>「父母同一天結婚」　好巧！建中優良學生選舉笑噴網友</td>\n",
       "      <td>838</td>\n",
       "    </tr>\n",
       "  </tbody>\n",
       "</table>\n",
       "</div>"
      ],
      "text/plain": [
       "  category                                            content  \\\n",
       "0       社會  高雄市蔡姓男子綽號「柳丁」，今天凌晨騎車在新興區遇警攔查，被聞出身上濃厚K味，且走路姿勢怪異...   \n",
       "1       政治  國民黨桃園市長候選人陳學聖今上午在大園區座談會上，對於明日將有多個產業工會到立法院表達爭取勞...   \n",
       "2     娛樂時尚  中國女星范冰冰（范爺）「陰陽合同」風波至今未平，名嘴許聖梅今年8月在三立《54新觀點》節目中...   \n",
       "3       論壇  蔡素芬／林榮三文化公益基金會執行長、《鹽田兒女》三部曲作者 朋友連結給我一則9月22日《天下...   \n",
       "4       生活  台北市建國中學日前舉行優良學生選舉，在30名參選學生中選出6人，而選舉公報部分內容被網友分享...   \n",
       "\n",
       "                   dt                      title  view_cnt  \n",
       "0 2018-09-30 15:50:00          學岳飛背部刺字　男子竟用拉K盡孝道         0  \n",
       "1 2018-09-30 15:49:00    陳學聖力與勞工站一起　力挺「勞工防災假」入法　         0  \n",
       "2 2018-09-30 15:47:00        知道范冰冰太多事　許聖梅對岸少賺20萬        26  \n",
       "3 2018-09-30 15:45:00           小說家蔡素芬：台灣有人寫長篇小說         8  \n",
       "4 2018-09-30 15:42:00  「父母同一天結婚」　好巧！建中優良學生選舉笑噴網友       838  "
      ]
     },
     "execution_count": 236,
     "metadata": {},
     "output_type": "execute_result"
    }
   ],
   "source": [
    "newsdf.head()"
   ]
  },
  {
   "cell_type": "code",
   "execution_count": 239,
   "metadata": {},
   "outputs": [
    {
     "data": {
      "text/html": [
       "<div>\n",
       "<style scoped>\n",
       "    .dataframe tbody tr th:only-of-type {\n",
       "        vertical-align: middle;\n",
       "    }\n",
       "\n",
       "    .dataframe tbody tr th {\n",
       "        vertical-align: top;\n",
       "    }\n",
       "\n",
       "    .dataframe thead th {\n",
       "        text-align: right;\n",
       "    }\n",
       "</style>\n",
       "<table border=\"1\" class=\"dataframe\">\n",
       "  <thead>\n",
       "    <tr style=\"text-align: right;\">\n",
       "      <th></th>\n",
       "      <th>category</th>\n",
       "      <th>content</th>\n",
       "      <th>dt</th>\n",
       "      <th>title</th>\n",
       "      <th>view_cnt</th>\n",
       "    </tr>\n",
       "  </thead>\n",
       "  <tbody>\n",
       "    <tr>\n",
       "      <th>0</th>\n",
       "      <td>社會</td>\n",
       "      <td>高雄市蔡姓男子綽號「柳丁」，今天凌晨騎車在新興區遇警攔查，被聞出身上濃厚K味，且走路姿勢怪異...</td>\n",
       "      <td>2018-09-30 15:50:00</td>\n",
       "      <td>學岳飛背部刺字　男子竟用拉K盡孝道</td>\n",
       "      <td>0</td>\n",
       "    </tr>\n",
       "    <tr>\n",
       "      <th>1</th>\n",
       "      <td>政治</td>\n",
       "      <td>國民黨桃園市長候選人陳學聖今上午在大園區座談會上，對於明日將有多個產業工會到立法院表達爭取勞...</td>\n",
       "      <td>2018-09-30 15:49:00</td>\n",
       "      <td>陳學聖力與勞工站一起　力挺「勞工防災假」入法</td>\n",
       "      <td>0</td>\n",
       "    </tr>\n",
       "    <tr>\n",
       "      <th>3</th>\n",
       "      <td>論壇</td>\n",
       "      <td>蔡素芬／林榮三文化公益基金會執行長、《鹽田兒女》三部曲作者 朋友連結給我一則9月22日《天下...</td>\n",
       "      <td>2018-09-30 15:45:00</td>\n",
       "      <td>小說家蔡素芬：台灣有人寫長篇小說</td>\n",
       "      <td>8</td>\n",
       "    </tr>\n",
       "  </tbody>\n",
       "</table>\n",
       "</div>"
      ],
      "text/plain": [
       "  category                                            content  \\\n",
       "0       社會  高雄市蔡姓男子綽號「柳丁」，今天凌晨騎車在新興區遇警攔查，被聞出身上濃厚K味，且走路姿勢怪異...   \n",
       "1       政治  國民黨桃園市長候選人陳學聖今上午在大園區座談會上，對於明日將有多個產業工會到立法院表達爭取勞...   \n",
       "3       論壇  蔡素芬／林榮三文化公益基金會執行長、《鹽田兒女》三部曲作者 朋友連結給我一則9月22日《天下...   \n",
       "\n",
       "                   dt                    title  view_cnt  \n",
       "0 2018-09-30 15:50:00        學岳飛背部刺字　男子竟用拉K盡孝道         0  \n",
       "1 2018-09-30 15:49:00  陳學聖力與勞工站一起　力挺「勞工防災假」入法　         0  \n",
       "3 2018-09-30 15:45:00         小說家蔡素芬：台灣有人寫長篇小說         8  "
      ]
     },
     "execution_count": 239,
     "metadata": {},
     "output_type": "execute_result"
    }
   ],
   "source": [
    "# select * from newsdf order by view_cnt limit 3\n",
    "newsdf.sort_values('view_cnt').head(3)"
   ]
  },
  {
   "cell_type": "code",
   "execution_count": 240,
   "metadata": {},
   "outputs": [
    {
     "data": {
      "text/html": [
       "<div>\n",
       "<style scoped>\n",
       "    .dataframe tbody tr th:only-of-type {\n",
       "        vertical-align: middle;\n",
       "    }\n",
       "\n",
       "    .dataframe tbody tr th {\n",
       "        vertical-align: top;\n",
       "    }\n",
       "\n",
       "    .dataframe thead th {\n",
       "        text-align: right;\n",
       "    }\n",
       "</style>\n",
       "<table border=\"1\" class=\"dataframe\">\n",
       "  <thead>\n",
       "    <tr style=\"text-align: right;\">\n",
       "      <th></th>\n",
       "      <th>category</th>\n",
       "      <th>content</th>\n",
       "      <th>dt</th>\n",
       "      <th>title</th>\n",
       "      <th>view_cnt</th>\n",
       "    </tr>\n",
       "  </thead>\n",
       "  <tbody>\n",
       "    <tr>\n",
       "      <th>77</th>\n",
       "      <td>社會</td>\n",
       "      <td>空軍第一聯隊醫務所中尉航空醫學官劉峰成去年12月假意請女兵喝奶茶，卻在當中摻入FM2等藥物，...</td>\n",
       "      <td>2018-09-30 13:44:00</td>\n",
       "      <td>真離譜！空軍醫官竟對女兵下藥　醫務所內企圖性侵</td>\n",
       "      <td>222110</td>\n",
       "    </tr>\n",
       "    <tr>\n",
       "      <th>58</th>\n",
       "      <td>政治</td>\n",
       "      <td>（新增李婉鈺回應）新北市議員李婉鈺，又有驚人之舉！這回不是什麼負面新聞，而是性感登場。李婉鈺...</td>\n",
       "      <td>2018-09-30 14:19:00</td>\n",
       "      <td>李婉鈺爆乳蹦出東西半球　「地表最正議員」衩開到肚臍</td>\n",
       "      <td>169926</td>\n",
       "    </tr>\n",
       "    <tr>\n",
       "      <th>57</th>\n",
       "      <td>社會</td>\n",
       "      <td>想要玩刺激的性遊戲，要特別注意另一半的感受，若對方不願意，千萬不能強求，否則變成性侵犯，將樂...</td>\n",
       "      <td>2018-09-30 14:20:00</td>\n",
       "      <td>人夫愛愛出怪招　人妻勸不聽怒提告</td>\n",
       "      <td>150261</td>\n",
       "    </tr>\n",
       "  </tbody>\n",
       "</table>\n",
       "</div>"
      ],
      "text/plain": [
       "   category                                            content  \\\n",
       "77       社會  空軍第一聯隊醫務所中尉航空醫學官劉峰成去年12月假意請女兵喝奶茶，卻在當中摻入FM2等藥物，...   \n",
       "58       政治  （新增李婉鈺回應）新北市議員李婉鈺，又有驚人之舉！這回不是什麼負面新聞，而是性感登場。李婉鈺...   \n",
       "57       社會  想要玩刺激的性遊戲，要特別注意另一半的感受，若對方不願意，千萬不能強求，否則變成性侵犯，將樂...   \n",
       "\n",
       "                    dt                      title  view_cnt  \n",
       "77 2018-09-30 13:44:00    真離譜！空軍醫官竟對女兵下藥　醫務所內企圖性侵    222110  \n",
       "58 2018-09-30 14:19:00  李婉鈺爆乳蹦出東西半球　「地表最正議員」衩開到肚臍    169926  \n",
       "57 2018-09-30 14:20:00           人夫愛愛出怪招　人妻勸不聽怒提告    150261  "
      ]
     },
     "execution_count": 240,
     "metadata": {},
     "output_type": "execute_result"
    }
   ],
   "source": [
    "# select * from newsdf order by view_cnt desc limit 3\n",
    "newsdf.sort_values('view_cnt', ascending=False).head(3)"
   ]
  },
  {
   "cell_type": "code",
   "execution_count": 243,
   "metadata": {},
   "outputs": [
    {
     "data": {
      "text/plain": [
       "category\n",
       "社會      222110\n",
       "政治      169926\n",
       "微視蘋     146015\n",
       "財經地產    128276\n",
       "生活       82404\n",
       "國際       54058\n",
       "娛樂時尚     19763\n",
       "體育       18904\n",
       "3C車市      9322\n",
       "女生        8679\n",
       "吃喝玩樂      5874\n",
       "壹週刊        649\n",
       "論壇         648\n",
       "Name: view_cnt, dtype: int64"
      ]
     },
     "execution_count": 243,
     "metadata": {},
     "output_type": "execute_result"
    }
   ],
   "source": [
    "# select category, max(view_cnt) from newsdf group by category\n",
    "newsdf.groupby('category')['view_cnt'].max().sort_values(ascending=False)"
   ]
  },
  {
   "cell_type": "code",
   "execution_count": 246,
   "metadata": {},
   "outputs": [
    {
     "data": {
      "text/html": [
       "<div>\n",
       "<style scoped>\n",
       "    .dataframe tbody tr th:only-of-type {\n",
       "        vertical-align: middle;\n",
       "    }\n",
       "\n",
       "    .dataframe tbody tr th {\n",
       "        vertical-align: top;\n",
       "    }\n",
       "\n",
       "    .dataframe thead th {\n",
       "        text-align: right;\n",
       "    }\n",
       "</style>\n",
       "<table border=\"1\" class=\"dataframe\">\n",
       "  <thead>\n",
       "    <tr style=\"text-align: right;\">\n",
       "      <th></th>\n",
       "      <th>category</th>\n",
       "      <th>content</th>\n",
       "      <th>dt</th>\n",
       "      <th>title</th>\n",
       "      <th>view_cnt</th>\n",
       "    </tr>\n",
       "  </thead>\n",
       "  <tbody>\n",
       "    <tr>\n",
       "      <th>5</th>\n",
       "      <td>生活</td>\n",
       "      <td>(新增醫師說法)腳趾甲黑點切忌輕忽，當心惡性黑色素癌上身。一名50多歲女子約10年前發現，左...</td>\n",
       "      <td>2018-09-30 15:37:00</td>\n",
       "      <td>恐怖！腳趾甲全變黑　她竟是癌症上身只能截肢</td>\n",
       "      <td>82404</td>\n",
       "    </tr>\n",
       "    <tr>\n",
       "      <th>7</th>\n",
       "      <td>吃喝玩樂</td>\n",
       "      <td>在媒體報導和地方政府推動下，台灣的辦桌文化近年有逐漸復甦，從前兩年台北福華飯店推出復刻失傳菜...</td>\n",
       "      <td>2018-09-30 15:36:00</td>\n",
       "      <td>辦桌拚經濟　南北各出奇招</td>\n",
       "      <td>5874</td>\n",
       "    </tr>\n",
       "    <tr>\n",
       "      <th>12</th>\n",
       "      <td>女生</td>\n",
       "      <td>香港一家3姊弟都在同一天過生日。他們不是3胞胎，而是分別7歲、5歲及2個月大。但他們就像投胎...</td>\n",
       "      <td>2018-09-30 15:30:00</td>\n",
       "      <td>比中樂透還難　港3姊弟同月同日生</td>\n",
       "      <td>8679</td>\n",
       "    </tr>\n",
       "    <tr>\n",
       "      <th>34</th>\n",
       "      <td>微視蘋</td>\n",
       "      <td>21年前的一個冬夜晚上，一聲槍響改變了一家人幸福的人生。1997年農曆年前夕，2名逃兵各持一...</td>\n",
       "      <td>2018-09-30 15:00:00</td>\n",
       "      <td>【警殤故事1】一槍打進他腦袋卡彈4個月　勇警遇襲成植物人21年</td>\n",
       "      <td>146015</td>\n",
       "    </tr>\n",
       "    <tr>\n",
       "      <th>41</th>\n",
       "      <td>國際</td>\n",
       "      <td>(新增殘骸傳出求救聲）印尼東部蘇拉威西島周五（28日）發生規模7.5強震，甚至在蘇拉威西首府...</td>\n",
       "      <td>2018-09-30 14:51:00</td>\n",
       "      <td>【更新】印尼強震增至832死　倒塌大樓傳出求救聲</td>\n",
       "      <td>54058</td>\n",
       "    </tr>\n",
       "    <tr>\n",
       "      <th>42</th>\n",
       "      <td>3C車市</td>\n",
       "      <td>新的Ford Focus即將在台現身，嗯，這個「即將」恐怕是來不及在今年底上了，看來要到明年...</td>\n",
       "      <td>2018-09-30 14:51:00</td>\n",
       "      <td>【好悲Focus ST】為了新車的美美圖帥帥片　舊車大犧牲</td>\n",
       "      <td>9322</td>\n",
       "    </tr>\n",
       "    <tr>\n",
       "      <th>43</th>\n",
       "      <td>體育</td>\n",
       "      <td>(更新影片)（更新周天成賽後談話）總獎金60萬美元(約1800萬台幣)、「世界巡迴超級500...</td>\n",
       "      <td>2018-09-30 14:47:00</td>\n",
       "      <td>【更新】南韓羽球公開賽　周天成直落2封王摘今年第3冠</td>\n",
       "      <td>18904</td>\n",
       "    </tr>\n",
       "    <tr>\n",
       "      <th>46</th>\n",
       "      <td>財經地產</td>\n",
       "      <td>根據搜狐網報導，一般來說，世界上只有2種手機公司，蘋果和其他，蘋果作為一家手機公司來說太有代...</td>\n",
       "      <td>2018-09-30 14:40:00</td>\n",
       "      <td>【知錯要改】iXS賣比預期差　都是蘋果犯這3大錯</td>\n",
       "      <td>128276</td>\n",
       "    </tr>\n",
       "    <tr>\n",
       "      <th>53</th>\n",
       "      <td>壹週刊</td>\n",
       "      <td>看本篇完整版內容，請點以下連結：＜免疫殺癌3＞不用再去日本救命了 台灣細胞療法上路https...</td>\n",
       "      <td>2018-09-30 14:30:00</td>\n",
       "      <td>【壹週刊】＜免疫殺癌3＞不用再去日本救命了　台灣細胞療法上路</td>\n",
       "      <td>649</td>\n",
       "    </tr>\n",
       "    <tr>\n",
       "      <th>58</th>\n",
       "      <td>政治</td>\n",
       "      <td>（新增李婉鈺回應）新北市議員李婉鈺，又有驚人之舉！這回不是什麼負面新聞，而是性感登場。李婉鈺...</td>\n",
       "      <td>2018-09-30 14:19:00</td>\n",
       "      <td>李婉鈺爆乳蹦出東西半球　「地表最正議員」衩開到肚臍</td>\n",
       "      <td>169926</td>\n",
       "    </tr>\n",
       "    <tr>\n",
       "      <th>63</th>\n",
       "      <td>娛樂時尚</td>\n",
       "      <td>吳宗憲（憲哥）今和女兒吳姍儒慶祝中天《小明星大跟班》入圍金鐘獎綜藝節目獎，被問到費玉清（小哥...</td>\n",
       "      <td>2018-09-30 14:10:00</td>\n",
       "      <td>憲哥「少一個敵人」送費玉清退休　自爆三辭《玩很大》</td>\n",
       "      <td>19763</td>\n",
       "    </tr>\n",
       "    <tr>\n",
       "      <th>77</th>\n",
       "      <td>社會</td>\n",
       "      <td>空軍第一聯隊醫務所中尉航空醫學官劉峰成去年12月假意請女兵喝奶茶，卻在當中摻入FM2等藥物，...</td>\n",
       "      <td>2018-09-30 13:44:00</td>\n",
       "      <td>真離譜！空軍醫官竟對女兵下藥　醫務所內企圖性侵</td>\n",
       "      <td>222110</td>\n",
       "    </tr>\n",
       "    <tr>\n",
       "      <th>89</th>\n",
       "      <td>論壇</td>\n",
       "      <td>黃振峰／東吳大學政治系研究生 倒數不到兩個月的地方選舉，翻開報章點閱網路媒體，都是滿滿的選舉...</td>\n",
       "      <td>2018-09-30 13:30:00</td>\n",
       "      <td>與其噴口水 不如理性思考地方選舉</td>\n",
       "      <td>648</td>\n",
       "    </tr>\n",
       "  </tbody>\n",
       "</table>\n",
       "</div>"
      ],
      "text/plain": [
       "   category                                            content  \\\n",
       "5        生活  (新增醫師說法)腳趾甲黑點切忌輕忽，當心惡性黑色素癌上身。一名50多歲女子約10年前發現，左...   \n",
       "7      吃喝玩樂  在媒體報導和地方政府推動下，台灣的辦桌文化近年有逐漸復甦，從前兩年台北福華飯店推出復刻失傳菜...   \n",
       "12       女生  香港一家3姊弟都在同一天過生日。他們不是3胞胎，而是分別7歲、5歲及2個月大。但他們就像投胎...   \n",
       "34      微視蘋  21年前的一個冬夜晚上，一聲槍響改變了一家人幸福的人生。1997年農曆年前夕，2名逃兵各持一...   \n",
       "41       國際  (新增殘骸傳出求救聲）印尼東部蘇拉威西島周五（28日）發生規模7.5強震，甚至在蘇拉威西首府...   \n",
       "42     3C車市  新的Ford Focus即將在台現身，嗯，這個「即將」恐怕是來不及在今年底上了，看來要到明年...   \n",
       "43       體育  (更新影片)（更新周天成賽後談話）總獎金60萬美元(約1800萬台幣)、「世界巡迴超級500...   \n",
       "46     財經地產  根據搜狐網報導，一般來說，世界上只有2種手機公司，蘋果和其他，蘋果作為一家手機公司來說太有代...   \n",
       "53      壹週刊  看本篇完整版內容，請點以下連結：＜免疫殺癌3＞不用再去日本救命了 台灣細胞療法上路https...   \n",
       "58       政治  （新增李婉鈺回應）新北市議員李婉鈺，又有驚人之舉！這回不是什麼負面新聞，而是性感登場。李婉鈺...   \n",
       "63     娛樂時尚  吳宗憲（憲哥）今和女兒吳姍儒慶祝中天《小明星大跟班》入圍金鐘獎綜藝節目獎，被問到費玉清（小哥...   \n",
       "77       社會  空軍第一聯隊醫務所中尉航空醫學官劉峰成去年12月假意請女兵喝奶茶，卻在當中摻入FM2等藥物，...   \n",
       "89       論壇  黃振峰／東吳大學政治系研究生 倒數不到兩個月的地方選舉，翻開報章點閱網路媒體，都是滿滿的選舉...   \n",
       "\n",
       "                    dt                            title  view_cnt  \n",
       "5  2018-09-30 15:37:00            恐怖！腳趾甲全變黑　她竟是癌症上身只能截肢     82404  \n",
       "7  2018-09-30 15:36:00                     辦桌拚經濟　南北各出奇招      5874  \n",
       "12 2018-09-30 15:30:00                 比中樂透還難　港3姊弟同月同日生      8679  \n",
       "34 2018-09-30 15:00:00  【警殤故事1】一槍打進他腦袋卡彈4個月　勇警遇襲成植物人21年    146015  \n",
       "41 2018-09-30 14:51:00         【更新】印尼強震增至832死　倒塌大樓傳出求救聲     54058  \n",
       "42 2018-09-30 14:51:00   【好悲Focus ST】為了新車的美美圖帥帥片　舊車大犧牲　      9322  \n",
       "43 2018-09-30 14:47:00       【更新】南韓羽球公開賽　周天成直落2封王摘今年第3冠     18904  \n",
       "46 2018-09-30 14:40:00         【知錯要改】iXS賣比預期差　都是蘋果犯這3大錯    128276  \n",
       "53 2018-09-30 14:30:00   【壹週刊】＜免疫殺癌3＞不用再去日本救命了　台灣細胞療法上路       649  \n",
       "58 2018-09-30 14:19:00        李婉鈺爆乳蹦出東西半球　「地表最正議員」衩開到肚臍    169926  \n",
       "63 2018-09-30 14:10:00        憲哥「少一個敵人」送費玉清退休　自爆三辭《玩很大》     19763  \n",
       "77 2018-09-30 13:44:00          真離譜！空軍醫官竟對女兵下藥　醫務所內企圖性侵    222110  \n",
       "89 2018-09-30 13:30:00                 與其噴口水 不如理性思考地方選舉       648  "
      ]
     },
     "execution_count": 246,
     "metadata": {},
     "output_type": "execute_result"
    }
   ],
   "source": [
    "newsdf[newsdf.groupby('category')['view_cnt'].transform(max) == newsdf['view_cnt']]"
   ]
  },
  {
   "cell_type": "code",
   "execution_count": 247,
   "metadata": {},
   "outputs": [
    {
     "data": {
      "text/plain": [
       "category\n",
       "微視蘋     146015.000000\n",
       "社會       33170.416667\n",
       "財經地產     20712.000000\n",
       "國際       20484.333333\n",
       "政治       16842.416667\n",
       "生活       16384.750000\n",
       "娛樂時尚      6403.636364\n",
       "3C車市      5628.000000\n",
       "女生        4483.000000\n",
       "體育        3330.000000\n",
       "吃喝玩樂      2506.666667\n",
       "壹週刊        448.500000\n",
       "論壇         271.333333\n",
       "Name: view_cnt, dtype: float64"
      ]
     },
     "execution_count": 247,
     "metadata": {},
     "output_type": "execute_result"
    }
   ],
   "source": [
    "# select category, avg(view_cnt) from newsdf group by category\n",
    "newsdf.groupby('category')['view_cnt'].mean().sort_values(ascending=False)"
   ]
  },
  {
   "cell_type": "code",
   "execution_count": 253,
   "metadata": {},
   "outputs": [
    {
     "name": "stdout",
     "output_type": "stream",
     "text": [
      "Populating the interactive namespace from numpy and matplotlib\n"
     ]
    },
    {
     "data": {
      "text/plain": [
       "<matplotlib.axes._subplots.AxesSubplot at 0xd1df898>"
      ]
     },
     "execution_count": 253,
     "metadata": {},
     "output_type": "execute_result"
    },
    {
     "data": {
      "image/png": "[encoded data removed]",
      "text/plain": [
       "<Figure size 360x360 with 1 Axes>"
      ]
     },
     "metadata": {},
     "output_type": "display_data"
    }
   ],
   "source": [
    "% pylab inline\n",
    "plt.rcParams['font.sans-serif'] = ['simhei']\n",
    "newsdf.groupby('category')['view_cnt'].mean().sort_values(ascending=False).plot(kind = 'pie', figsize = [5,5])"
   ]
  },
  {
   "cell_type": "code",
   "execution_count": 254,
   "metadata": {},
   "outputs": [],
   "source": [
    "newsdf.to_clipboard()"
   ]
  },
  {
   "cell_type": "code",
   "execution_count": 255,
   "metadata": {},
   "outputs": [],
   "source": [
    "newsdf.to_csv('applenews.csv', encoding='utf-8-sig')"
   ]
  },
  {
   "cell_type": "code",
   "execution_count": 256,
   "metadata": {},
   "outputs": [],
   "source": [
    "newsdf.to_excel('applenews.xlsx')"
   ]
  },
  {
   "cell_type": "markdown",
   "metadata": {},
   "source": [
    "## Shopee"
   ]
  },
  {
   "cell_type": "code",
   "execution_count": 314,
   "metadata": {},
   "outputs": [],
   "source": [
    "import requests\n",
    "headers = {\n",
    "\n",
    "'referer': 'https://shopee.tw/search?keyword=s8%20%E6%89%8B%E6%A9%9F%E6%AE%BC'    ,\n",
    "#'x-api-source': 'pc',\n",
    "#'x-requested-with': 'XMLHttpRequest'    ,\n",
    "'user-agent': 'Mozilla/5.0 (Windows NT 6.1; Win64; x64) AppleWebKit/537.36 (KHTML, like Gecko) Chrome/69.0.3497.100 Safari/537.36'   \n",
    "}\n",
    "res = requests.get('https://shopee.tw/api/v2/search_items/?by=relevancy&keyword=s8%20%E6%89%8B%E6%A9%9F%E6%AE%BC&limit=50&newest=0&order=desc&page_type=search', headers = headers)\n"
   ]
  },
  {
   "cell_type": "code",
   "execution_count": 316,
   "metadata": {},
   "outputs": [
    {
     "data": {
      "text/plain": [
       "'a0c4dadfe3eea797b45c4ea230ff19b7'"
      ]
     },
     "execution_count": 316,
     "metadata": {},
     "output_type": "execute_result"
    }
   ],
   "source": [
    "res.json()['items'][0]['image']"
   ]
  },
  {
   "cell_type": "code",
   "execution_count": null,
   "metadata": {},
   "outputs": [],
   "source": [
    "img_url = 'https://cf.shopee.tw/file/{}_tn'\n",
    "for i in res.json()['items']:\n",
    "    imgname = i.get('image')\n",
    "    img = img_url.format(imgname)\n",
    "    #print(imgname)\n",
    "    res2 = requests.get(img)\n",
    "    with open('{}.jpg'.format(imgname), 'wb') as f:\n",
    "        f.write(res2.content)\n",
    "    "
   ]
  },
  {
   "cell_type": "code",
   "execution_count": 272,
   "metadata": {},
   "outputs": [],
   "source": [
    "\n",
    "res = requests.get('https://cf.shopee.tw/file/a0c4dadfe3eea797b45c4ea230f f19b7_tn')\n",
    "with open('1.jpg', 'wb') as f:\n",
    "    f.write(res.content)"
   ]
  },
  {
   "cell_type": "markdown",
   "metadata": {},
   "source": [
    "## 表特板爬蟲\n"
   ]
  },
  {
   "cell_type": "code",
   "execution_count": 317,
   "metadata": {},
   "outputs": [],
   "source": [
    "import requests\n",
    "res = requests.get('https://i.imgur.com/QNkrGxJ.jpg')\n",
    "with open('QNkrGxJ.jpg','wb') as f:\n",
    "    f.write(res.content)"
   ]
  },
  {
   "cell_type": "code",
   "execution_count": 323,
   "metadata": {},
   "outputs": [],
   "source": [
    "import requests\n",
    "from bs4 import BeautifulSoup\n",
    "res = requests.get('https://www.ptt.cc/bbs/Beauty/M.1538293891.A.8B9.html')\n",
    "soup = BeautifulSoup(res.text, 'lxml')\n",
    "for imgurl in soup.select('#main-content a'):\n",
    "    img = imgurl.get('href')\n",
    "    if ('https:' in img) and ('jpg' in img):\n",
    "        res = requests.get(img)\n",
    "        with open(img.split('/')[-1],'wb') as f:\n",
    "            f.write(res.content)"
   ]
  },
  {
   "cell_type": "markdown",
   "metadata": {},
   "source": [
    "## 591 租屋網"
   ]
  },
  {
   "cell_type": "code",
   "execution_count": 326,
   "metadata": {},
   "outputs": [
    {
     "data": {
      "text/plain": [
       "<Response [200]>"
      ]
     },
     "execution_count": 326,
     "metadata": {},
     "output_type": "execute_result"
    }
   ],
   "source": [
    "import requests\n",
    "headers = {\n",
    "   'User-Agent': 'Mozilla/5.0 (Windows NT 6.1; Win64; x64) AppleWebKit/537.36 (KHTML, like Gecko) Chrome/69.0.3497.100 Safari/537.36' \n",
    "    \n",
    "}\n",
    "res = requests.get('https://rent.591.com.tw/home/search/rsList?is_new_list=1&type=1&kind=1&searchtype=1&region=1&section=5&firstRow=60&totalRows=919', headers = headers)\n",
    "res"
   ]
  },
  {
   "cell_type": "code",
   "execution_count": 331,
   "metadata": {},
   "outputs": [],
   "source": [
    "# json => dict\n",
    "#res.json()['data']['data']"
   ]
  },
  {
   "cell_type": "code",
   "execution_count": 332,
   "metadata": {},
   "outputs": [],
   "source": [
    "import pandas\n",
    "df = pandas.DataFrame(res.json()['data']['data'])"
   ]
  },
  {
   "cell_type": "code",
   "execution_count": 339,
   "metadata": {},
   "outputs": [
    {
     "data": {
      "text/html": [
       "<div>\n",
       "<style scoped>\n",
       "    .dataframe tbody tr th:only-of-type {\n",
       "        vertical-align: middle;\n",
       "    }\n",
       "\n",
       "    .dataframe tbody tr th {\n",
       "        vertical-align: top;\n",
       "    }\n",
       "\n",
       "    .dataframe thead th {\n",
       "        text-align: right;\n",
       "    }\n",
       "</style>\n",
       "<table border=\"1\" class=\"dataframe\">\n",
       "  <thead>\n",
       "    <tr style=\"text-align: right;\">\n",
       "      <th></th>\n",
       "      <th>addInfo</th>\n",
       "      <th>addition2</th>\n",
       "      <th>addition3</th>\n",
       "      <th>addition4</th>\n",
       "      <th>addr_number_name</th>\n",
       "      <th>address</th>\n",
       "      <th>address_img</th>\n",
       "      <th>address_img_title</th>\n",
       "      <th>alley_name</th>\n",
       "      <th>allfloor</th>\n",
       "      <th>...</th>\n",
       "      <th>storeprice</th>\n",
       "      <th>street_name</th>\n",
       "      <th>streetid</th>\n",
       "      <th>type</th>\n",
       "      <th>unit</th>\n",
       "      <th>updatetime</th>\n",
       "      <th>user_id</th>\n",
       "      <th>vipBorder</th>\n",
       "      <th>vipimg</th>\n",
       "      <th>vipstyle</th>\n",
       "    </tr>\n",
       "  </thead>\n",
       "  <tbody>\n",
       "    <tr>\n",
       "      <th>0</th>\n",
       "      <td>&lt;img src=\"./images/index/userCenter/list_vip_v...</td>\n",
       "      <td>0</td>\n",
       "      <td>0</td>\n",
       "      <td>0</td>\n",
       "      <td></td>\n",
       "      <td>溫州街48巷MRT台電大樓華..</td>\n",
       "      <td>MRT台電大樓華廈大空間寧靜四房三衛</td>\n",
       "      <td>MRT台電大樓華廈大空間寧靜四房三衛</td>\n",
       "      <td>48巷</td>\n",
       "      <td>6</td>\n",
       "      <td>...</td>\n",
       "      <td>0</td>\n",
       "      <td>溫州街</td>\n",
       "      <td>25670</td>\n",
       "      <td>1</td>\n",
       "      <td>元/月</td>\n",
       "      <td>1536299033</td>\n",
       "      <td>1530610</td>\n",
       "      <td>vipStyle</td>\n",
       "      <td>&lt;img src=\"./images/index/userCenter/list_vip_v...</td>\n",
       "      <td>isvip</td>\n",
       "    </tr>\n",
       "    <tr>\n",
       "      <th>1</th>\n",
       "      <td>&lt;img src=\"./images/index/userCenter/list_vip_v...</td>\n",
       "      <td>0</td>\n",
       "      <td>0</td>\n",
       "      <td>0</td>\n",
       "      <td></td>\n",
       "      <td>光復南路板南線國館..</td>\n",
       "      <td>板南線國館商圈美寓</td>\n",
       "      <td>板南線國館商圈美寓</td>\n",
       "      <td></td>\n",
       "      <td>4</td>\n",
       "      <td>...</td>\n",
       "      <td>0</td>\n",
       "      <td>光復南路</td>\n",
       "      <td>25623</td>\n",
       "      <td>1</td>\n",
       "      <td>元/月</td>\n",
       "      <td>1537596864</td>\n",
       "      <td>58727</td>\n",
       "      <td>vipStyle</td>\n",
       "      <td>&lt;img src=\"./images/index/userCenter/list_vip_v...</td>\n",
       "      <td>isvip</td>\n",
       "    </tr>\n",
       "    <tr>\n",
       "      <th>2</th>\n",
       "      <td>&lt;img src=\"./images/index/userCenter/list_vip_v...</td>\n",
       "      <td>0</td>\n",
       "      <td>0</td>\n",
       "      <td>0</td>\n",
       "      <td></td>\n",
       "      <td>瑞安街31巷靜巷純住三房●..</td>\n",
       "      <td>靜巷純住三房●通風佳光線明亮●租金含稅</td>\n",
       "      <td>靜巷純住三房●通風佳光線明亮●租金含稅</td>\n",
       "      <td>31巷</td>\n",
       "      <td>6</td>\n",
       "      <td>...</td>\n",
       "      <td>0</td>\n",
       "      <td>瑞安街</td>\n",
       "      <td>25671</td>\n",
       "      <td>1</td>\n",
       "      <td>元/月</td>\n",
       "      <td>1538136958</td>\n",
       "      <td>1611062</td>\n",
       "      <td>vipStyle</td>\n",
       "      <td>&lt;img src=\"./images/index/userCenter/list_vip_v...</td>\n",
       "      <td>isvip</td>\n",
       "    </tr>\n",
       "  </tbody>\n",
       "</table>\n",
       "<p>3 rows × 88 columns</p>\n",
       "</div>"
      ],
      "text/plain": [
       "                                             addInfo  addition2  addition3  \\\n",
       "0  <img src=\"./images/index/userCenter/list_vip_v...          0          0   \n",
       "1  <img src=\"./images/index/userCenter/list_vip_v...          0          0   \n",
       "2  <img src=\"./images/index/userCenter/list_vip_v...          0          0   \n",
       "\n",
       "   addition4 addr_number_name           address          address_img  \\\n",
       "0          0                   溫州街48巷MRT台電大樓華..   MRT台電大樓華廈大空間寧靜四房三衛   \n",
       "1          0                        光復南路板南線國館..            板南線國館商圈美寓   \n",
       "2          0                    瑞安街31巷靜巷純住三房●..  靜巷純住三房●通風佳光線明亮●租金含稅   \n",
       "\n",
       "     address_img_title alley_name  allfloor    ...     storeprice street_name  \\\n",
       "0   MRT台電大樓華廈大空間寧靜四房三衛        48巷         6    ...              0         溫州街   \n",
       "1            板南線國館商圈美寓                    4    ...              0        光復南路   \n",
       "2  靜巷純住三房●通風佳光線明亮●租金含稅        31巷         6    ...              0         瑞安街   \n",
       "\n",
       "   streetid  type unit  updatetime  user_id vipBorder  \\\n",
       "0     25670     1  元/月  1536299033  1530610  vipStyle   \n",
       "1     25623     1  元/月  1537596864    58727  vipStyle   \n",
       "2     25671     1  元/月  1538136958  1611062  vipStyle   \n",
       "\n",
       "                                              vipimg  vipstyle  \n",
       "0  <img src=\"./images/index/userCenter/list_vip_v...     isvip  \n",
       "1  <img src=\"./images/index/userCenter/list_vip_v...     isvip  \n",
       "2  <img src=\"./images/index/userCenter/list_vip_v...     isvip  \n",
       "\n",
       "[3 rows x 88 columns]"
      ]
     },
     "execution_count": 339,
     "metadata": {},
     "output_type": "execute_result"
    }
   ],
   "source": [
    "df.head(3)"
   ]
  },
  {
   "cell_type": "code",
   "execution_count": null,
   "metadata": {},
   "outputs": [],
   "source": [
    "https://rent.591.com.tw/home/search/rsList?is_new_list=1&type=1&kind=1&searchtype=1&region=1&section=5&firstRow=60&totalRows=919\n",
    "https://rent.591.com.tw/home/search/rsList?is_new_list=1&type=1&kind=1&searchtype=1&region=1&section=5&firstRow=90&totalRows=919"
   ]
  },
  {
   "cell_type": "code",
   "execution_count": 338,
   "metadata": {},
   "outputs": [
    {
     "name": "stdout",
     "output_type": "stream",
     "text": [
      "0\n",
      "30\n",
      "60\n",
      "90\n",
      "120\n",
      "150\n",
      "180\n",
      "210\n",
      "240\n",
      "270\n",
      "300\n",
      "330\n",
      "360\n",
      "390\n",
      "420\n",
      "450\n",
      "480\n",
      "510\n",
      "540\n",
      "570\n",
      "600\n",
      "630\n",
      "660\n",
      "690\n",
      "720\n",
      "750\n",
      "780\n",
      "810\n",
      "840\n",
      "870\n",
      "900\n"
     ]
    }
   ],
   "source": [
    "import math\n",
    "for i in range(0, math.ceil(919/ 30)):\n",
    "\n",
    "    print(i * 30)"
   ]
  },
  {
   "cell_type": "code",
   "execution_count": 342,
   "metadata": {},
   "outputs": [
    {
     "data": {
      "text/plain": [
       "[1, 2, 3, 2, 3, 4]"
      ]
     },
     "execution_count": 342,
     "metadata": {},
     "output_type": "execute_result"
    }
   ],
   "source": [
    "a = [1,2,3]\n",
    "b = [2,3,4]\n",
    "a.extend(b)\n",
    "a"
   ]
  },
  {
   "cell_type": "code",
   "execution_count": 344,
   "metadata": {},
   "outputs": [],
   "source": [
    "import requests\n",
    "import math\n",
    "import time\n",
    "\n",
    "houseurl = 'https://rent.591.com.tw/home/search/rsList?is_new_list=1&type=1&kind=1&searchtype=1&region=1&section=5&firstRow={}&totalRows=919'\n",
    "\n",
    "headers = {\n",
    "   'User-Agent': 'Mozilla/5.0 (Windows NT 6.1; Win64; x64) AppleWebKit/537.36 (KHTML, like Gecko) Chrome/69.0.3497.100 Safari/537.36' \n",
    "    \n",
    "}\n",
    "\n",
    "houseary = []\n",
    "for i in range(0, math.ceil(919/ 30)):\n",
    "    res = requests.get(houseurl.format(i * 30), headers = headers)\n",
    "    houseary.extend(res.json()['data']['data'])\n",
    "    time.sleep(1)"
   ]
  },
  {
   "cell_type": "code",
   "execution_count": 346,
   "metadata": {},
   "outputs": [
    {
     "data": {
      "text/plain": [
       "917"
      ]
     },
     "execution_count": 346,
     "metadata": {},
     "output_type": "execute_result"
    }
   ],
   "source": [
    "len(houseary)"
   ]
  },
  {
   "cell_type": "code",
   "execution_count": 347,
   "metadata": {},
   "outputs": [],
   "source": [
    "import pandas\n",
    "housedf = pandas.DataFrame(houseary)"
   ]
  },
  {
   "cell_type": "code",
   "execution_count": 349,
   "metadata": {},
   "outputs": [
    {
     "data": {
      "text/html": [
       "<div>\n",
       "<style scoped>\n",
       "    .dataframe tbody tr th:only-of-type {\n",
       "        vertical-align: middle;\n",
       "    }\n",
       "\n",
       "    .dataframe tbody tr th {\n",
       "        vertical-align: top;\n",
       "    }\n",
       "\n",
       "    .dataframe thead th {\n",
       "        text-align: right;\n",
       "    }\n",
       "</style>\n",
       "<table border=\"1\" class=\"dataframe\">\n",
       "  <thead>\n",
       "    <tr style=\"text-align: right;\">\n",
       "      <th></th>\n",
       "      <th>addInfo</th>\n",
       "      <th>addition2</th>\n",
       "      <th>addition3</th>\n",
       "      <th>addition4</th>\n",
       "      <th>addr_number_name</th>\n",
       "      <th>address</th>\n",
       "      <th>address_img</th>\n",
       "      <th>address_img_title</th>\n",
       "      <th>alley_name</th>\n",
       "      <th>allfloor</th>\n",
       "      <th>...</th>\n",
       "      <th>storeprice</th>\n",
       "      <th>street_name</th>\n",
       "      <th>streetid</th>\n",
       "      <th>type</th>\n",
       "      <th>unit</th>\n",
       "      <th>updatetime</th>\n",
       "      <th>user_id</th>\n",
       "      <th>vipBorder</th>\n",
       "      <th>vipimg</th>\n",
       "      <th>vipstyle</th>\n",
       "    </tr>\n",
       "  </thead>\n",
       "  <tbody>\n",
       "    <tr>\n",
       "      <th>0</th>\n",
       "      <td></td>\n",
       "      <td>0</td>\n",
       "      <td>0</td>\n",
       "      <td>1</td>\n",
       "      <td></td>\n",
       "      <td>新生南路一段103巷靠近東..</td>\n",
       "      <td>靠近東區最安靜的住宅</td>\n",
       "      <td>靠近東區最安靜的住宅</td>\n",
       "      <td>103巷</td>\n",
       "      <td>6</td>\n",
       "      <td>...</td>\n",
       "      <td>0</td>\n",
       "      <td>新生南路一段</td>\n",
       "      <td>25667</td>\n",
       "      <td>1</td>\n",
       "      <td>元/月</td>\n",
       "      <td>1537185482</td>\n",
       "      <td>165407</td>\n",
       "      <td>vipStyle</td>\n",
       "      <td></td>\n",
       "      <td>isvip</td>\n",
       "    </tr>\n",
       "    <tr>\n",
       "      <th>1</th>\n",
       "      <td></td>\n",
       "      <td>0</td>\n",
       "      <td>0</td>\n",
       "      <td>1</td>\n",
       "      <td></td>\n",
       "      <td>復興南路一段大安捷運站優..</td>\n",
       "      <td>大安捷運站優質3房2廳2衛豪宅</td>\n",
       "      <td>大安捷運站優質3房2廳2衛豪宅</td>\n",
       "      <td></td>\n",
       "      <td>14</td>\n",
       "      <td>...</td>\n",
       "      <td>0</td>\n",
       "      <td>復興南路一段</td>\n",
       "      <td>25660</td>\n",
       "      <td>1</td>\n",
       "      <td>元/月</td>\n",
       "      <td>1538046376</td>\n",
       "      <td>1372887</td>\n",
       "      <td>vipStyle</td>\n",
       "      <td></td>\n",
       "      <td>isvip</td>\n",
       "    </tr>\n",
       "    <tr>\n",
       "      <th>2</th>\n",
       "      <td></td>\n",
       "      <td>0</td>\n",
       "      <td>0</td>\n",
       "      <td>1</td>\n",
       "      <td></td>\n",
       "      <td>信義路二段10巷大安區金甌..</td>\n",
       "      <td>大安區金甌女中附近</td>\n",
       "      <td>大安區金甌女中附近</td>\n",
       "      <td>10巷</td>\n",
       "      <td>4</td>\n",
       "      <td>...</td>\n",
       "      <td>0</td>\n",
       "      <td>信義路二段</td>\n",
       "      <td>25646</td>\n",
       "      <td>1</td>\n",
       "      <td>元/月</td>\n",
       "      <td>1537162756</td>\n",
       "      <td>2463993</td>\n",
       "      <td>vipStyle</td>\n",
       "      <td></td>\n",
       "      <td>isvip</td>\n",
       "    </tr>\n",
       "    <tr>\n",
       "      <th>3</th>\n",
       "      <td></td>\n",
       "      <td>0</td>\n",
       "      <td>0</td>\n",
       "      <td>1</td>\n",
       "      <td></td>\n",
       "      <td>仁愛路四段151巷可商用。..</td>\n",
       "      <td>可商用。明曜商圈。忠孝敦化。三普名人巷</td>\n",
       "      <td>可商用。明曜商圈。忠孝敦化。三普名人巷</td>\n",
       "      <td>151巷</td>\n",
       "      <td>13</td>\n",
       "      <td>...</td>\n",
       "      <td>0</td>\n",
       "      <td>仁愛路四段</td>\n",
       "      <td>67192</td>\n",
       "      <td>1</td>\n",
       "      <td>元/月</td>\n",
       "      <td>1537612318</td>\n",
       "      <td>1434864</td>\n",
       "      <td>vipStyle</td>\n",
       "      <td></td>\n",
       "      <td>isvip</td>\n",
       "    </tr>\n",
       "    <tr>\n",
       "      <th>4</th>\n",
       "      <td></td>\n",
       "      <td>0</td>\n",
       "      <td>0</td>\n",
       "      <td>1</td>\n",
       "      <td></td>\n",
       "      <td>新生南路三段台大景觀名宅..</td>\n",
       "      <td>台大景觀名宅。24H管理。安靜住宅大兩廳</td>\n",
       "      <td>台大景觀名宅。24H管理。安靜住宅大兩廳</td>\n",
       "      <td></td>\n",
       "      <td>22</td>\n",
       "      <td>...</td>\n",
       "      <td>0</td>\n",
       "      <td>新生南路三段</td>\n",
       "      <td>25669</td>\n",
       "      <td>1</td>\n",
       "      <td>元/月</td>\n",
       "      <td>1537612469</td>\n",
       "      <td>1434864</td>\n",
       "      <td>vipStyle</td>\n",
       "      <td></td>\n",
       "      <td>isvip</td>\n",
       "    </tr>\n",
       "  </tbody>\n",
       "</table>\n",
       "<p>5 rows × 88 columns</p>\n",
       "</div>"
      ],
      "text/plain": [
       "  addInfo  addition2  addition3  addition4 addr_number_name          address  \\\n",
       "0                  0          0          1                   新生南路一段103巷靠近東..   \n",
       "1                  0          0          1                    復興南路一段大安捷運站優..   \n",
       "2                  0          0          1                   信義路二段10巷大安區金甌..   \n",
       "3                  0          0          1                   仁愛路四段151巷可商用。..   \n",
       "4                  0          0          1                    新生南路三段台大景觀名宅..   \n",
       "\n",
       "            address_img     address_img_title alley_name  allfloor    ...     \\\n",
       "0            靠近東區最安靜的住宅            靠近東區最安靜的住宅       103巷         6    ...      \n",
       "1       大安捷運站優質3房2廳2衛豪宅       大安捷運站優質3房2廳2衛豪宅                   14    ...      \n",
       "2             大安區金甌女中附近             大安區金甌女中附近        10巷         4    ...      \n",
       "3   可商用。明曜商圈。忠孝敦化。三普名人巷   可商用。明曜商圈。忠孝敦化。三普名人巷       151巷        13    ...      \n",
       "4  台大景觀名宅。24H管理。安靜住宅大兩廳  台大景觀名宅。24H管理。安靜住宅大兩廳                   22    ...      \n",
       "\n",
       "   storeprice street_name  streetid  type unit  updatetime  user_id vipBorder  \\\n",
       "0           0      新生南路一段     25667     1  元/月  1537185482   165407  vipStyle   \n",
       "1           0      復興南路一段     25660     1  元/月  1538046376  1372887  vipStyle   \n",
       "2           0       信義路二段     25646     1  元/月  1537162756  2463993  vipStyle   \n",
       "3           0       仁愛路四段     67192     1  元/月  1537612318  1434864  vipStyle   \n",
       "4           0      新生南路三段     25669     1  元/月  1537612469  1434864  vipStyle   \n",
       "\n",
       "   vipimg  vipstyle  \n",
       "0             isvip  \n",
       "1             isvip  \n",
       "2             isvip  \n",
       "3             isvip  \n",
       "4             isvip  \n",
       "\n",
       "[5 rows x 88 columns]"
      ]
     },
     "execution_count": 349,
     "metadata": {},
     "output_type": "execute_result"
    }
   ],
   "source": [
    "housedf.head()"
   ]
  },
  {
   "cell_type": "code",
   "execution_count": 353,
   "metadata": {},
   "outputs": [
    {
     "data": {
      "text/html": [
       "<div>\n",
       "<style scoped>\n",
       "    .dataframe tbody tr th:only-of-type {\n",
       "        vertical-align: middle;\n",
       "    }\n",
       "\n",
       "    .dataframe tbody tr th {\n",
       "        vertical-align: top;\n",
       "    }\n",
       "\n",
       "    .dataframe thead th {\n",
       "        text-align: right;\n",
       "    }\n",
       "</style>\n",
       "<table border=\"1\" class=\"dataframe\">\n",
       "  <thead>\n",
       "    <tr style=\"text-align: right;\">\n",
       "      <th></th>\n",
       "      <th>address</th>\n",
       "      <th>houseid</th>\n",
       "      <th>price</th>\n",
       "    </tr>\n",
       "  </thead>\n",
       "  <tbody>\n",
       "    <tr>\n",
       "      <th>397</th>\n",
       "      <td>安和路二段@@大安敦南信義安和..</td>\n",
       "      <td>6796305</td>\n",
       "      <td>99,990</td>\n",
       "    </tr>\n",
       "    <tr>\n",
       "      <th>588</th>\n",
       "      <td>羅斯福路三段台電大樓公館屋新..</td>\n",
       "      <td>6845312</td>\n",
       "      <td>99,000</td>\n",
       "    </tr>\n",
       "    <tr>\n",
       "      <th>906</th>\n",
       "      <td>羅斯福路三段珍貴地段稀有典藏</td>\n",
       "      <td>6783599</td>\n",
       "      <td>99,000</td>\n",
       "    </tr>\n",
       "    <tr>\n",
       "      <th>702</th>\n",
       "      <td>光復南路逸仙首馥大4房</td>\n",
       "      <td>6840081</td>\n",
       "      <td>98,000</td>\n",
       "    </tr>\n",
       "    <tr>\n",
       "      <th>229</th>\n",
       "      <td>羅斯福路三段★公館商圈★時尚..</td>\n",
       "      <td>6780907</td>\n",
       "      <td>98,000</td>\n",
       "    </tr>\n",
       "  </tbody>\n",
       "</table>\n",
       "</div>"
      ],
      "text/plain": [
       "               address  houseid   price\n",
       "397  安和路二段@@大安敦南信義安和..  6796305  99,990\n",
       "588   羅斯福路三段台電大樓公館屋新..  6845312  99,000\n",
       "906     羅斯福路三段珍貴地段稀有典藏  6783599  99,000\n",
       "702        光復南路逸仙首馥大4房  6840081  98,000\n",
       "229   羅斯福路三段★公館商圈★時尚..  6780907  98,000"
      ]
     },
     "execution_count": 353,
     "metadata": {},
     "output_type": "execute_result"
    }
   ],
   "source": [
    "housedf[['address', 'houseid', 'price']].sort_values('price', ascending=False).head()"
   ]
  },
  {
   "cell_type": "code",
   "execution_count": 354,
   "metadata": {},
   "outputs": [],
   "source": [
    "housedf.to_excel('house591.xlsx')"
   ]
  },
  {
   "cell_type": "code",
   "execution_count": null,
   "metadata": {},
   "outputs": [],
   "source": []
  }
 ],
 "metadata": {
  "kernelspec": {
   "display_name": "Python 3",
   "language": "python",
   "name": "python3"
  },
  "language_info": {
   "codemirror_mode": {
    "name": "ipython",
    "version": 3
   },
   "file_extension": ".py",
   "mimetype": "text/x-python",
   "name": "python",
   "nbconvert_exporter": "python",
   "pygments_lexer": "ipython3",
   "version": "3.6.5"
  }
 },
 "nbformat": 4,
 "nbformat_minor": 2
}
