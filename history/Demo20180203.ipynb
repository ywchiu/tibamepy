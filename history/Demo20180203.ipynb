{
 "cells": [
  {
   "cell_type": "markdown",
   "metadata": {},
   "source": [
    "## 字詞統計 (Obama 就職演說)\n",
    "- https://github.com/ywchiu/tibamepy/blob/master/data/obama.txt"
   ]
  },
  {
   "cell_type": "code",
   "execution_count": 2,
   "metadata": {},
   "outputs": [
    {
     "name": "stdout",
     "output_type": "stream",
     "text": [
      "hello\n",
      "world\n"
     ]
    }
   ],
   "source": [
    "print('hello\\nworld')"
   ]
  },
  {
   "cell_type": "code",
   "execution_count": 3,
   "metadata": {},
   "outputs": [
    {
     "name": "stdout",
     "output_type": "stream",
     "text": [
      "hello\\nworld\n"
     ]
    }
   ],
   "source": [
    "print(r'hello\\nworld')"
   ]
  },
  {
   "cell_type": "code",
   "execution_count": 15,
   "metadata": {},
   "outputs": [
    {
     "name": "stdout",
     "output_type": "stream",
     "text": [
      "{'a': 2, 'b': 1, 'c': 2}\n"
     ]
    }
   ],
   "source": [
    "a= ['a', 'b', 'c', 'a', 'c']\n",
    "dic = {}\n",
    "for w in a:\n",
    "    if w not in dic:\n",
    "        dic[w] = 1\n",
    "    else:\n",
    "        dic[w] = dic[w] + 1\n",
    "print(dic)\n",
    "    \n",
    "#'d' not in a"
   ]
  },
  {
   "cell_type": "markdown",
   "metadata": {},
   "source": [
    "### 方法一"
   ]
  },
  {
   "cell_type": "code",
   "execution_count": 22,
   "metadata": {
    "collapsed": true
   },
   "outputs": [],
   "source": [
    "stopwords = [\"a\", \"about\", \"above\", \"above\", \"across\", \"after\", \"afterwards\", \"again\", \"against\", \"all\", \"almost\", \"alone\", \"along\", \"already\", \"also\",\"although\",\"always\",\"am\",\"among\", \"amongst\", \"amoungst\", \"amount\",  \"an\", \"and\", \"another\", \"any\",\"anyhow\",\"anyone\",\"anything\",\"anyway\", \"anywhere\", \"are\", \"around\", \"as\",  \"at\", \"back\",\"be\",\"became\", \"because\",\"become\",\"becomes\", \"becoming\", \"been\", \"before\", \"beforehand\", \"behind\", \"being\", \"below\", \"beside\", \"besides\", \"between\", \"beyond\", \"bill\", \"both\", \"bottom\",\"but\", \"by\", \"call\", \"can\", \"cannot\", \"cant\", \"co\", \"con\", \"could\", \"couldnt\", \"cry\", \"de\", \"describe\", \"detail\", \"do\", \"done\", \"down\", \"due\", \"during\", \"each\", \"eg\", \"eight\", \"either\", \"eleven\",\"else\", \"elsewhere\", \"empty\", \"enough\", \"etc\", \"even\", \"ever\", \"every\", \"everyone\", \"everything\", \"everywhere\", \"except\", \"few\", \"fifteen\", \"fify\", \"fill\", \"find\", \"fire\", \"first\", \"five\", \"for\", \"former\", \"formerly\", \"forty\", \"found\", \"four\", \"from\", \"front\", \"full\", \"further\", \"get\", \"give\", \"go\", \"had\", \"has\", \"hasnt\", \"have\", \"he\", \"hence\", \"her\", \"here\", \"hereafter\", \"hereby\", \"herein\", \"hereupon\", \"hers\", \"herself\", \"him\", \"himself\", \"his\", \"how\", \"however\", \"hundred\", \"ie\", \"if\", \"in\", \"inc\", \"indeed\", \"interest\", \"into\", \"is\", \"it\", \"its\", \"itself\", \"keep\", \"last\", \"latter\", \"latterly\", \"least\", \"less\", \"ltd\", \"made\", \"many\", \"may\", \"me\", \"meanwhile\", \"might\", \"mill\", \"mine\", \"more\", \"moreover\", \"most\", \"mostly\", \"move\", \"much\", \"must\", \"my\", \"myself\", \"name\", \"namely\", \"neither\", \"never\", \"nevertheless\", \"next\", \"nine\", \"no\", \"nobody\", \"none\", \"noone\", \"nor\", \"not\", \"nothing\", \"now\", \"nowhere\", \"of\", \"off\", \"often\", \"on\", \"once\", \"one\", \"only\", \"onto\", \"or\", \"other\", \"others\", \"otherwise\", \"our\", \"ours\", \"ourselves\", \"out\", \"over\", \"own\",\"part\", \"per\", \"perhaps\", \"please\", \"put\", \"rather\", \"re\", \"same\", \"see\", \"seem\", \"seemed\", \"seeming\", \"seems\", \"serious\", \"several\", \"she\", \"should\", \"show\", \"side\", \"since\", \"sincere\", \"six\", \"sixty\", \"so\", \"some\", \"somehow\", \"someone\", \"something\", \"sometime\", \"sometimes\", \"somewhere\", \"still\", \"such\", \"system\", \"take\", \"ten\", \"than\", \"that\", \"the\", \"their\", \"them\", \"themselves\", \"then\", \"thence\", \"there\", \"thereafter\", \"thereby\", \"therefore\", \"therein\", \"thereupon\", \"these\", \"they\", \"thickv\", \"thin\", \"third\", \"this\", \"those\", \"though\", \"three\", \"through\", \"throughout\", \"thru\", \"thus\", \"to\", \"together\", \"too\", \"top\", \"toward\", \"towards\", \"twelve\", \"twenty\", \"two\", \"un\", \"under\", \"until\", \"up\", \"upon\", \"us\", \"very\", \"via\", \"was\", \"we\", \"well\", \"were\", \"what\", \"whatever\", \"when\", \"whence\", \"whenever\", \"where\", \"whereafter\", \"whereas\", \"whereby\", \"wherein\", \"whereupon\", \"wherever\", \"whether\", \"which\", \"while\", \"whither\", \"who\", \"whoever\", \"whole\", \"whom\", \"whose\", \"why\", \"will\", \"with\", \"within\", \"without\", \"would\", \"yet\", \"you\", \"your\", \"yours\", \"yourself\", \"yourselves\", \"the\"]"
   ]
  },
  {
   "cell_type": "code",
   "execution_count": 4,
   "metadata": {
    "collapsed": true
   },
   "outputs": [],
   "source": [
    "with open('C://Users//USER//Desktop//obama.txt', 'r') as f:\n",
    "    speech = f.read()"
   ]
  },
  {
   "cell_type": "code",
   "execution_count": 26,
   "metadata": {},
   "outputs": [],
   "source": [
    "dic = {}\n",
    "words = speech.lower().split()\n",
    "for w in words:\n",
    "    if w not in stopwords:\n",
    "        if w not in dic:\n",
    "            dic[w] = 1\n",
    "        else:\n",
    "            dic[w] = dic[w] + 1        "
   ]
  },
  {
   "cell_type": "code",
   "execution_count": 27,
   "metadata": {},
   "outputs": [],
   "source": [
    "import operator\n",
    "swd = sorted(dic.items(), key = operator.itemgetter(1), reverse=True)"
   ]
  },
  {
   "cell_type": "code",
   "execution_count": 32,
   "metadata": {},
   "outputs": [
    {
     "name": "stdout",
     "output_type": "stream",
     "text": [
      "-- 16\n",
      "nation 10\n",
      "us, 9\n",
      "new 9\n",
      "common 6\n",
      "let 6\n",
      "know 5\n",
      "time 5\n",
      "people 5\n",
      "america 4\n"
     ]
    }
   ],
   "source": [
    "for key,val in swd[0:10]:\n",
    "    #key, val = rec\n",
    "    print(key, val)"
   ]
  },
  {
   "cell_type": "markdown",
   "metadata": {},
   "source": [
    "### 方法二\n",
    "- https://docs.python.org/3/library/collections.html"
   ]
  },
  {
   "cell_type": "code",
   "execution_count": 33,
   "metadata": {
    "collapsed": true
   },
   "outputs": [],
   "source": [
    "stopwords = [\"a\", \"about\", \"above\", \"above\", \"across\", \"after\", \"afterwards\", \"again\", \"against\", \"all\", \"almost\", \"alone\", \"along\", \"already\", \"also\",\"although\",\"always\",\"am\",\"among\", \"amongst\", \"amoungst\", \"amount\",  \"an\", \"and\", \"another\", \"any\",\"anyhow\",\"anyone\",\"anything\",\"anyway\", \"anywhere\", \"are\", \"around\", \"as\",  \"at\", \"back\",\"be\",\"became\", \"because\",\"become\",\"becomes\", \"becoming\", \"been\", \"before\", \"beforehand\", \"behind\", \"being\", \"below\", \"beside\", \"besides\", \"between\", \"beyond\", \"bill\", \"both\", \"bottom\",\"but\", \"by\", \"call\", \"can\", \"cannot\", \"cant\", \"co\", \"con\", \"could\", \"couldnt\", \"cry\", \"de\", \"describe\", \"detail\", \"do\", \"done\", \"down\", \"due\", \"during\", \"each\", \"eg\", \"eight\", \"either\", \"eleven\",\"else\", \"elsewhere\", \"empty\", \"enough\", \"etc\", \"even\", \"ever\", \"every\", \"everyone\", \"everything\", \"everywhere\", \"except\", \"few\", \"fifteen\", \"fify\", \"fill\", \"find\", \"fire\", \"first\", \"five\", \"for\", \"former\", \"formerly\", \"forty\", \"found\", \"four\", \"from\", \"front\", \"full\", \"further\", \"get\", \"give\", \"go\", \"had\", \"has\", \"hasnt\", \"have\", \"he\", \"hence\", \"her\", \"here\", \"hereafter\", \"hereby\", \"herein\", \"hereupon\", \"hers\", \"herself\", \"him\", \"himself\", \"his\", \"how\", \"however\", \"hundred\", \"ie\", \"if\", \"in\", \"inc\", \"indeed\", \"interest\", \"into\", \"is\", \"it\", \"its\", \"itself\", \"keep\", \"last\", \"latter\", \"latterly\", \"least\", \"less\", \"ltd\", \"made\", \"many\", \"may\", \"me\", \"meanwhile\", \"might\", \"mill\", \"mine\", \"more\", \"moreover\", \"most\", \"mostly\", \"move\", \"much\", \"must\", \"my\", \"myself\", \"name\", \"namely\", \"neither\", \"never\", \"nevertheless\", \"next\", \"nine\", \"no\", \"nobody\", \"none\", \"noone\", \"nor\", \"not\", \"nothing\", \"now\", \"nowhere\", \"of\", \"off\", \"often\", \"on\", \"once\", \"one\", \"only\", \"onto\", \"or\", \"other\", \"others\", \"otherwise\", \"our\", \"ours\", \"ourselves\", \"out\", \"over\", \"own\",\"part\", \"per\", \"perhaps\", \"please\", \"put\", \"rather\", \"re\", \"same\", \"see\", \"seem\", \"seemed\", \"seeming\", \"seems\", \"serious\", \"several\", \"she\", \"should\", \"show\", \"side\", \"since\", \"sincere\", \"six\", \"sixty\", \"so\", \"some\", \"somehow\", \"someone\", \"something\", \"sometime\", \"sometimes\", \"somewhere\", \"still\", \"such\", \"system\", \"take\", \"ten\", \"than\", \"that\", \"the\", \"their\", \"them\", \"themselves\", \"then\", \"thence\", \"there\", \"thereafter\", \"thereby\", \"therefore\", \"therein\", \"thereupon\", \"these\", \"they\", \"thickv\", \"thin\", \"third\", \"this\", \"those\", \"though\", \"three\", \"through\", \"throughout\", \"thru\", \"thus\", \"to\", \"together\", \"too\", \"top\", \"toward\", \"towards\", \"twelve\", \"twenty\", \"two\", \"un\", \"under\", \"until\", \"up\", \"upon\", \"us\", \"very\", \"via\", \"was\", \"we\", \"well\", \"were\", \"what\", \"whatever\", \"when\", \"whence\", \"whenever\", \"where\", \"whereafter\", \"whereas\", \"whereby\", \"wherein\", \"whereupon\", \"wherever\", \"whether\", \"which\", \"while\", \"whither\", \"who\", \"whoever\", \"whole\", \"whom\", \"whose\", \"why\", \"will\", \"with\", \"within\", \"without\", \"would\", \"yet\", \"you\", \"your\", \"yours\", \"yourself\", \"yourselves\", \"the\"]"
   ]
  },
  {
   "cell_type": "code",
   "execution_count": 34,
   "metadata": {
    "collapsed": true
   },
   "outputs": [],
   "source": [
    "with open('C://Users//USER//Desktop//obama.txt', 'r') as f:\n",
    "    speech = f.read()"
   ]
  },
  {
   "cell_type": "code",
   "execution_count": 38,
   "metadata": {},
   "outputs": [
    {
     "data": {
      "text/plain": [
       "[('--', 16),\n",
       " ('nation', 10),\n",
       " ('us,', 9),\n",
       " ('new', 9),\n",
       " ('common', 6),\n",
       " ('let', 6),\n",
       " ('know', 5),\n",
       " ('time', 5),\n",
       " ('people', 5),\n",
       " ('america', 4)]"
      ]
     },
     "execution_count": 38,
     "metadata": {},
     "output_type": "execute_result"
    }
   ],
   "source": [
    "from collections import Counter\n",
    "words = []\n",
    "for w in speech.lower().split():\n",
    "    if w not in stopwords:\n",
    "        words.append(w)\n",
    "c = Counter(words)\n",
    "c.most_common(10)"
   ]
  },
  {
   "cell_type": "markdown",
   "metadata": {},
   "source": [
    "### 方法三"
   ]
  },
  {
   "cell_type": "code",
   "execution_count": 41,
   "metadata": {},
   "outputs": [
    {
     "data": {
      "text/plain": [
       "[2, 3, 1]"
      ]
     },
     "execution_count": 41,
     "metadata": {},
     "output_type": "execute_result"
    }
   ],
   "source": [
    "a = [2,3,6,9,1,8,5]\n",
    "ary = []\n",
    "for ele in a:\n",
    "    if ele < 5:\n",
    "        ary.append(ele)\n",
    "ary"
   ]
  },
  {
   "cell_type": "code",
   "execution_count": 42,
   "metadata": {},
   "outputs": [
    {
     "data": {
      "text/plain": [
       "[2, 3, 1]"
      ]
     },
     "execution_count": 42,
     "metadata": {},
     "output_type": "execute_result"
    }
   ],
   "source": [
    "[ele for ele in a if ele < 5]"
   ]
  },
  {
   "cell_type": "code",
   "execution_count": 44,
   "metadata": {},
   "outputs": [],
   "source": [
    "with open('C://Users//USER//Desktop//obama.txt') as f:\n",
    "    speech = f.read()"
   ]
  },
  {
   "cell_type": "code",
   "execution_count": 45,
   "metadata": {},
   "outputs": [
    {
     "data": {
      "text/plain": [
       "[('--', 16),\n",
       " ('nation', 10),\n",
       " ('us,', 9),\n",
       " ('new', 9),\n",
       " ('common', 6),\n",
       " ('let', 6),\n",
       " ('know', 5),\n",
       " ('time', 5),\n",
       " ('people', 5),\n",
       " ('america', 4)]"
      ]
     },
     "execution_count": 45,
     "metadata": {},
     "output_type": "execute_result"
    }
   ],
   "source": [
    "from collections import Counter\n",
    "words = [w for w in speech.lower().split() if w not in stopwords]\n",
    "c = Counter(words)\n",
    "c.most_common(10)"
   ]
  },
  {
   "cell_type": "markdown",
   "metadata": {},
   "source": [
    "## 中文斷詞"
   ]
  },
  {
   "cell_type": "code",
   "execution_count": 46,
   "metadata": {},
   "outputs": [
    {
     "name": "stdout",
     "output_type": "stream",
     "text": [
      "Collecting jieba\n",
      "  Downloading jieba-0.39.zip (7.3MB)\n",
      "Building wheels for collected packages: jieba\n",
      "  Running setup.py bdist_wheel for jieba: started\n",
      "  Running setup.py bdist_wheel for jieba: finished with status 'done'\n",
      "  Stored in directory: C:\\Users\\USER\\AppData\\Local\\pip\\Cache\\wheels\\ce\\32\\de\\c2be1db5f30804bc7f146ff698c52963f8aa11ba5049811b0d\n",
      "Successfully built jieba\n",
      "Installing collected packages: jieba\n",
      "Successfully installed jieba-0.39\n"
     ]
    }
   ],
   "source": [
    "! pip install jieba"
   ]
  },
  {
   "cell_type": "markdown",
   "metadata": {},
   "source": [
    "### 分析蔡英文就職演說\n",
    "- https://github.com/ywchiu/tibamepy/blob/master/data/president.txt"
   ]
  },
  {
   "cell_type": "code",
   "execution_count": 48,
   "metadata": {},
   "outputs": [
    {
     "name": "stdout",
     "output_type": "stream",
     "text": [
      "蔡英文\n",
      "就職\n",
      "演說\n",
      "全文\n"
     ]
    }
   ],
   "source": [
    "import jieba\n",
    "jieba.add_word('蔡英文')\n",
    "jieba.add_word('就職')\n",
    "for w in jieba.cut('蔡英文就職演說全文'):\n",
    "    print(w)"
   ]
  },
  {
   "cell_type": "code",
   "execution_count": 49,
   "metadata": {
    "collapsed": true
   },
   "outputs": [],
   "source": [
    "with open('C://Users/USER/Desktop//president.txt', 'r') as f:\n",
    "    speech = f.read()"
   ]
  },
  {
   "cell_type": "code",
   "execution_count": 58,
   "metadata": {},
   "outputs": [
    {
     "name": "stdout",
     "output_type": "stream",
     "text": [
      "我們 85\n",
      "台灣 39\n",
      "國家 28\n",
      "新政府 27\n",
      "經濟 26\n",
      "這個 24\n",
      "一個 24\n",
      "民主 22\n",
      "發展 20\n",
      "社會 19\n",
      "人民 18\n",
      "就是 18\n",
      "共同 15\n",
      "未來 15\n",
      "改革 15\n",
      "議題 14\n",
      "司法 13\n",
      "區域 11\n",
      "政府 10\n",
      "合作 10\n",
      "和平 9\n",
      "必須 9\n"
     ]
    }
   ],
   "source": [
    "from collections import Counter\n",
    "c = Counter([w for w in jieba.cut(speech)])\n",
    "for word,cnt in c.most_common(50):\n",
    "    if len(word) >=2:\n",
    "        print(word, cnt)"
   ]
  },
  {
   "cell_type": "markdown",
   "metadata": {},
   "source": [
    "## 讓電腦講話"
   ]
  },
  {
   "cell_type": "code",
   "execution_count": 59,
   "metadata": {},
   "outputs": [
    {
     "name": "stdout",
     "output_type": "stream",
     "text": [
      "Collecting gTTS\n",
      "  Downloading gTTS-1.2.2.tar.gz\n",
      "Requirement already satisfied: six in c:\\programdata\\anaconda3\\lib\\site-packages (from gTTS)\n",
      "Requirement already satisfied: requests in c:\\programdata\\anaconda3\\lib\\site-packages (from gTTS)\n",
      "Collecting gtts_token (from gTTS)\n",
      "  Downloading gTTS-token-1.1.1.zip\n",
      "Requirement already satisfied: chardet<3.1.0,>=3.0.2 in c:\\programdata\\anaconda3\\lib\\site-packages (from requests->gTTS)\n",
      "Requirement already satisfied: idna<2.7,>=2.5 in c:\\programdata\\anaconda3\\lib\\site-packages (from requests->gTTS)\n",
      "Requirement already satisfied: urllib3<1.23,>=1.21.1 in c:\\programdata\\anaconda3\\lib\\site-packages (from requests->gTTS)\n",
      "Requirement already satisfied: certifi>=2017.4.17 in c:\\programdata\\anaconda3\\lib\\site-packages (from requests->gTTS)\n",
      "Building wheels for collected packages: gTTS, gtts-token\n",
      "  Running setup.py bdist_wheel for gTTS: started\n",
      "  Running setup.py bdist_wheel for gTTS: finished with status 'done'\n",
      "  Stored in directory: C:\\Users\\USER\\AppData\\Local\\pip\\Cache\\wheels\\ef\\e7\\2e\\066d7be1514f7c7fd6c942f4d09ae5460f9a3125829782d03d\n",
      "  Running setup.py bdist_wheel for gtts-token: started\n",
      "  Running setup.py bdist_wheel for gtts-token: finished with status 'done'\n",
      "  Stored in directory: C:\\Users\\USER\\AppData\\Local\\pip\\Cache\\wheels\\a9\\19\\5d\\2abe941153d0331bb7c2fbcd48ed8c36a67ca1d40bd572773e\n",
      "Successfully built gTTS gtts-token\n",
      "Installing collected packages: gtts-token, gTTS\n",
      "Successfully installed gTTS-1.2.2 gtts-token-1.1.1\n"
     ]
    }
   ],
   "source": [
    "! pip install gTTS"
   ]
  },
  {
   "cell_type": "code",
   "execution_count": 67,
   "metadata": {},
   "outputs": [
    {
     "name": "stdout",
     "output_type": "stream",
     "text": [
      "Collecting pygame\n",
      "  Downloading pygame-1.9.3-cp36-cp36m-win_amd64.whl (4.2MB)\n",
      "Installing collected packages: pygame\n",
      "Successfully installed pygame-1.9.3\n"
     ]
    }
   ],
   "source": [
    "! pip install pygame"
   ]
  },
  {
   "cell_type": "code",
   "execution_count": 69,
   "metadata": {},
   "outputs": [],
   "source": [
    "from gtts import gTTS\n",
    "from pygame import mixer\n",
    "import tempfile\n",
    "\n",
    "mixer.init()\n",
    "\n",
    "def speak(sentence):\n",
    "    with tempfile.NamedTemporaryFile(delete=True) as fp:\n",
    "        tts = gTTS(text=sentence, lang='zh')\n",
    "        tts.save(\"{}.mp3\".format(fp.name))\n",
    "        mixer.music.load('{}.mp3'.format(fp.name))\n",
    "        mixer.music.play()\n",
    "        \n",
    "speak('我們進到下一個課程吧')"
   ]
  },
  {
   "cell_type": "markdown",
   "metadata": {},
   "source": [
    "## 使用Pandas 讀取結構化與非結構化資料"
   ]
  },
  {
   "cell_type": "code",
   "execution_count": 70,
   "metadata": {
    "collapsed": true
   },
   "outputs": [],
   "source": [
    "import pandas"
   ]
  },
  {
   "cell_type": "code",
   "execution_count": 76,
   "metadata": {},
   "outputs": [
    {
     "data": {
      "text/html": [
       "<div>\n",
       "<style>\n",
       "    .dataframe thead tr:only-child th {\n",
       "        text-align: right;\n",
       "    }\n",
       "\n",
       "    .dataframe thead th {\n",
       "        text-align: left;\n",
       "    }\n",
       "\n",
       "    .dataframe tbody tr th {\n",
       "        vertical-align: top;\n",
       "    }\n",
       "</style>\n",
       "<table border=\"1\" class=\"dataframe\">\n",
       "  <thead>\n",
       "    <tr style=\"text-align: right;\">\n",
       "      <th></th>\n",
       "      <th>id</th>\n",
       "      <th>年度</th>\n",
       "      <th>股本</th>\n",
       "      <th>財報評分</th>\n",
       "      <th>營業收入</th>\n",
       "      <th>營業毛利</th>\n",
       "      <th>營業利益</th>\n",
       "      <th>稅後淨利</th>\n",
       "      <th>ROE</th>\n",
       "      <th>ROA</th>\n",
       "      <th>稅後EPS</th>\n",
       "      <th>stockid</th>\n",
       "    </tr>\n",
       "  </thead>\n",
       "  <tbody>\n",
       "    <tr>\n",
       "      <th>count</th>\n",
       "      <td>6753.000000</td>\n",
       "      <td>6753.000000</td>\n",
       "      <td>6753.000000</td>\n",
       "      <td>6753.000000</td>\n",
       "      <td>6753.000000</td>\n",
       "      <td>6753.000000</td>\n",
       "      <td>6753.000000</td>\n",
       "      <td>6753.000000</td>\n",
       "      <td>6753.000000</td>\n",
       "      <td>6753.000000</td>\n",
       "      <td>6753.000000</td>\n",
       "      <td>6753.000000</td>\n",
       "    </tr>\n",
       "    <tr>\n",
       "      <th>mean</th>\n",
       "      <td>706.298682</td>\n",
       "      <td>2008.213239</td>\n",
       "      <td>96.254445</td>\n",
       "      <td>45.958389</td>\n",
       "      <td>320.276841</td>\n",
       "      <td>53.351540</td>\n",
       "      <td>22.002630</td>\n",
       "      <td>18.111401</td>\n",
       "      <td>5.751599</td>\n",
       "      <td>3.753055</td>\n",
       "      <td>1.943761</td>\n",
       "      <td>2127.809862</td>\n",
       "    </tr>\n",
       "    <tr>\n",
       "      <th>std</th>\n",
       "      <td>479.368400</td>\n",
       "      <td>4.581007</td>\n",
       "      <td>224.022412</td>\n",
       "      <td>13.544027</td>\n",
       "      <td>1436.320384</td>\n",
       "      <td>202.286943</td>\n",
       "      <td>139.373511</td>\n",
       "      <td>95.252585</td>\n",
       "      <td>21.327577</td>\n",
       "      <td>8.073633</td>\n",
       "      <td>14.142786</td>\n",
       "      <td>551.763198</td>\n",
       "    </tr>\n",
       "    <tr>\n",
       "      <th>min</th>\n",
       "      <td>1.000000</td>\n",
       "      <td>1999.000000</td>\n",
       "      <td>0.000000</td>\n",
       "      <td>10.000000</td>\n",
       "      <td>-48.800000</td>\n",
       "      <td>-363.000000</td>\n",
       "      <td>-577.000000</td>\n",
       "      <td>-613.000000</td>\n",
       "      <td>-940.000000</td>\n",
       "      <td>-107.000000</td>\n",
       "      <td>-18.790000</td>\n",
       "      <td>1101.000000</td>\n",
       "    </tr>\n",
       "    <tr>\n",
       "      <th>25%</th>\n",
       "      <td>289.000000</td>\n",
       "      <td>2005.000000</td>\n",
       "      <td>13.900000</td>\n",
       "      <td>37.000000</td>\n",
       "      <td>24.200000</td>\n",
       "      <td>3.870000</td>\n",
       "      <td>0.310000</td>\n",
       "      <td>0.360000</td>\n",
       "      <td>1.270000</td>\n",
       "      <td>0.520000</td>\n",
       "      <td>0.170000</td>\n",
       "      <td>1568.000000</td>\n",
       "    </tr>\n",
       "    <tr>\n",
       "      <th>50%</th>\n",
       "      <td>647.000000</td>\n",
       "      <td>2009.000000</td>\n",
       "      <td>28.200000</td>\n",
       "      <td>45.000000</td>\n",
       "      <td>61.000000</td>\n",
       "      <td>10.600000</td>\n",
       "      <td>2.870000</td>\n",
       "      <td>2.530000</td>\n",
       "      <td>6.770000</td>\n",
       "      <td>3.450000</td>\n",
       "      <td>1.080000</td>\n",
       "      <td>2329.000000</td>\n",
       "    </tr>\n",
       "    <tr>\n",
       "      <th>75%</th>\n",
       "      <td>1074.000000</td>\n",
       "      <td>2012.000000</td>\n",
       "      <td>64.100000</td>\n",
       "      <td>53.000000</td>\n",
       "      <td>178.000000</td>\n",
       "      <td>30.200000</td>\n",
       "      <td>10.500000</td>\n",
       "      <td>9.520000</td>\n",
       "      <td>13.300000</td>\n",
       "      <td>7.150000</td>\n",
       "      <td>2.470000</td>\n",
       "      <td>2489.000000</td>\n",
       "    </tr>\n",
       "    <tr>\n",
       "      <th>max</th>\n",
       "      <td>1923.000000</td>\n",
       "      <td>2015.000000</td>\n",
       "      <td>2643.000000</td>\n",
       "      <td>100.000000</td>\n",
       "      <td>44821.000000</td>\n",
       "      <td>6830.000000</td>\n",
       "      <td>6317.000000</td>\n",
       "      <td>3066.000000</td>\n",
       "      <td>132.000000</td>\n",
       "      <td>107.000000</td>\n",
       "      <td>954.000000</td>\n",
       "      <td>3038.000000</td>\n",
       "    </tr>\n",
       "  </tbody>\n",
       "</table>\n",
       "</div>"
      ],
      "text/plain": [
       "                id           年度           股本         財報評分          營業收入  \\\n",
       "count  6753.000000  6753.000000  6753.000000  6753.000000   6753.000000   \n",
       "mean    706.298682  2008.213239    96.254445    45.958389    320.276841   \n",
       "std     479.368400     4.581007   224.022412    13.544027   1436.320384   \n",
       "min       1.000000  1999.000000     0.000000    10.000000    -48.800000   \n",
       "25%     289.000000  2005.000000    13.900000    37.000000     24.200000   \n",
       "50%     647.000000  2009.000000    28.200000    45.000000     61.000000   \n",
       "75%    1074.000000  2012.000000    64.100000    53.000000    178.000000   \n",
       "max    1923.000000  2015.000000  2643.000000   100.000000  44821.000000   \n",
       "\n",
       "              營業毛利         營業利益         稅後淨利          ROE          ROA  \\\n",
       "count  6753.000000  6753.000000  6753.000000  6753.000000  6753.000000   \n",
       "mean     53.351540    22.002630    18.111401     5.751599     3.753055   \n",
       "std     202.286943   139.373511    95.252585    21.327577     8.073633   \n",
       "min    -363.000000  -577.000000  -613.000000  -940.000000  -107.000000   \n",
       "25%       3.870000     0.310000     0.360000     1.270000     0.520000   \n",
       "50%      10.600000     2.870000     2.530000     6.770000     3.450000   \n",
       "75%      30.200000    10.500000     9.520000    13.300000     7.150000   \n",
       "max    6830.000000  6317.000000  3066.000000   132.000000   107.000000   \n",
       "\n",
       "             稅後EPS      stockid  \n",
       "count  6753.000000  6753.000000  \n",
       "mean      1.943761  2127.809862  \n",
       "std      14.142786   551.763198  \n",
       "min     -18.790000  1101.000000  \n",
       "25%       0.170000  1568.000000  \n",
       "50%       1.080000  2329.000000  \n",
       "75%       2.470000  2489.000000  \n",
       "max     954.000000  3038.000000  "
      ]
     },
     "execution_count": 76,
     "metadata": {},
     "output_type": "execute_result"
    }
   ],
   "source": [
    "## 讀取 Excel\n",
    "# - https://github.com/ywchiu/tibamepy/blob/master/data/stock.xlsx\n",
    "stock = pandas.read_excel('C://Users//USER//Desktop//stock.xlsx')\n",
    "stock.describe()"
   ]
  },
  {
   "cell_type": "code",
   "execution_count": 78,
   "metadata": {},
   "outputs": [
    {
     "data": {
      "text/html": [
       "<div>\n",
       "<style>\n",
       "    .dataframe thead tr:only-child th {\n",
       "        text-align: right;\n",
       "    }\n",
       "\n",
       "    .dataframe thead th {\n",
       "        text-align: left;\n",
       "    }\n",
       "\n",
       "    .dataframe tbody tr th {\n",
       "        vertical-align: top;\n",
       "    }\n",
       "</style>\n",
       "<table border=\"1\" class=\"dataframe\">\n",
       "  <thead>\n",
       "    <tr style=\"text-align: right;\">\n",
       "      <th></th>\n",
       "      <th>Unnamed: 0</th>\n",
       "      <th>year</th>\n",
       "      <th>salary</th>\n",
       "    </tr>\n",
       "  </thead>\n",
       "  <tbody>\n",
       "    <tr>\n",
       "      <th>0</th>\n",
       "      <td>1</td>\n",
       "      <td>2.4</td>\n",
       "      <td>6600</td>\n",
       "    </tr>\n",
       "    <tr>\n",
       "      <th>1</th>\n",
       "      <td>2</td>\n",
       "      <td>5.5</td>\n",
       "      <td>10100</td>\n",
       "    </tr>\n",
       "    <tr>\n",
       "      <th>2</th>\n",
       "      <td>3</td>\n",
       "      <td>3.3</td>\n",
       "      <td>7300</td>\n",
       "    </tr>\n",
       "    <tr>\n",
       "      <th>3</th>\n",
       "      <td>4</td>\n",
       "      <td>0.2</td>\n",
       "      <td>5000</td>\n",
       "    </tr>\n",
       "    <tr>\n",
       "      <th>4</th>\n",
       "      <td>5</td>\n",
       "      <td>1.5</td>\n",
       "      <td>6100</td>\n",
       "    </tr>\n",
       "  </tbody>\n",
       "</table>\n",
       "</div>"
      ],
      "text/plain": [
       "   Unnamed: 0  year  salary\n",
       "0           1   2.4    6600\n",
       "1           2   5.5   10100\n",
       "2           3   3.3    7300\n",
       "3           4   0.2    5000\n",
       "4           5   1.5    6100"
      ]
     },
     "execution_count": 78,
     "metadata": {},
     "output_type": "execute_result"
    }
   ],
   "source": [
    "## 讀取 csv\n",
    "salary = pandas.read_csv('https://raw.githubusercontent.com/ywchiu/tibamepy/master/data/salary.csv')\n",
    "salary.head()"
   ]
  },
  {
   "cell_type": "code",
   "execution_count": 83,
   "metadata": {
    "scrolled": true
   },
   "outputs": [],
   "source": [
    "import pandas\n",
    "stock2330 = pandas.read_json('https://raw.githubusercontent.com/ywchiu/tibamepy/master/data/2330.json')"
   ]
  },
  {
   "cell_type": "code",
   "execution_count": 84,
   "metadata": {},
   "outputs": [
    {
     "data": {
      "text/html": [
       "<div>\n",
       "<style>\n",
       "    .dataframe thead tr:only-child th {\n",
       "        text-align: right;\n",
       "    }\n",
       "\n",
       "    .dataframe thead th {\n",
       "        text-align: left;\n",
       "    }\n",
       "\n",
       "    .dataframe tbody tr th {\n",
       "        vertical-align: top;\n",
       "    }\n",
       "</style>\n",
       "<table border=\"1\" class=\"dataframe\">\n",
       "  <thead>\n",
       "    <tr style=\"text-align: right;\">\n",
       "      <th></th>\n",
       "      <th>Adj Close</th>\n",
       "      <th>Close</th>\n",
       "      <th>Date</th>\n",
       "      <th>High</th>\n",
       "      <th>Low</th>\n",
       "      <th>Open</th>\n",
       "      <th>Volume</th>\n",
       "    </tr>\n",
       "  </thead>\n",
       "  <tbody>\n",
       "    <tr>\n",
       "      <th>0</th>\n",
       "      <td>172.0</td>\n",
       "      <td>172.0</td>\n",
       "      <td>2016-07-21</td>\n",
       "      <td>172.0</td>\n",
       "      <td>170.0</td>\n",
       "      <td>171.0</td>\n",
       "      <td>33130000</td>\n",
       "    </tr>\n",
       "    <tr>\n",
       "      <th>1</th>\n",
       "      <td>170.0</td>\n",
       "      <td>170.0</td>\n",
       "      <td>2016-07-20</td>\n",
       "      <td>170.5</td>\n",
       "      <td>169.0</td>\n",
       "      <td>170.0</td>\n",
       "      <td>38053000</td>\n",
       "    </tr>\n",
       "    <tr>\n",
       "      <th>2</th>\n",
       "      <td>170.5</td>\n",
       "      <td>170.5</td>\n",
       "      <td>2016-07-19</td>\n",
       "      <td>170.5</td>\n",
       "      <td>169.0</td>\n",
       "      <td>170.5</td>\n",
       "      <td>42456000</td>\n",
       "    </tr>\n",
       "    <tr>\n",
       "      <th>3</th>\n",
       "      <td>169.5</td>\n",
       "      <td>169.5</td>\n",
       "      <td>2016-07-18</td>\n",
       "      <td>170.0</td>\n",
       "      <td>168.0</td>\n",
       "      <td>168.0</td>\n",
       "      <td>24749000</td>\n",
       "    </tr>\n",
       "    <tr>\n",
       "      <th>4</th>\n",
       "      <td>169.5</td>\n",
       "      <td>169.5</td>\n",
       "      <td>2016-07-15</td>\n",
       "      <td>169.5</td>\n",
       "      <td>169.5</td>\n",
       "      <td>169.5</td>\n",
       "      <td>41000</td>\n",
       "    </tr>\n",
       "  </tbody>\n",
       "</table>\n",
       "</div>"
      ],
      "text/plain": [
       "   Adj Close  Close       Date   High    Low   Open    Volume\n",
       "0      172.0  172.0 2016-07-21  172.0  170.0  171.0  33130000\n",
       "1      170.0  170.0 2016-07-20  170.5  169.0  170.0  38053000\n",
       "2      170.5  170.5 2016-07-19  170.5  169.0  170.5  42456000\n",
       "3      169.5  169.5 2016-07-18  170.0  168.0  168.0  24749000\n",
       "4      169.5  169.5 2016-07-15  169.5  169.5  169.5     41000"
      ]
     },
     "execution_count": 84,
     "metadata": {},
     "output_type": "execute_result"
    }
   ],
   "source": [
    "stock2330"
   ]
  },
  {
   "cell_type": "code",
   "execution_count": 85,
   "metadata": {
    "collapsed": true
   },
   "outputs": [],
   "source": [
    "stock2330.to_excel('2330_tw.xlsx')"
   ]
  },
  {
   "cell_type": "code",
   "execution_count": 86,
   "metadata": {
    "collapsed": true
   },
   "outputs": [],
   "source": [
    "stock2330.to_clipboard()"
   ]
  },
  {
   "cell_type": "markdown",
   "metadata": {},
   "source": [
    "## 網路爬蟲"
   ]
  },
  {
   "cell_type": "markdown",
   "metadata": {},
   "source": [
    "### 使用Python Requests 取得頁面內容"
   ]
  },
  {
   "cell_type": "code",
   "execution_count": 105,
   "metadata": {
    "collapsed": true
   },
   "outputs": [],
   "source": [
    "import requests\n",
    "res = requests.get('https://tw.appledaily.com/new/realtime')"
   ]
  },
  {
   "cell_type": "code",
   "execution_count": 110,
   "metadata": {},
   "outputs": [
    {
     "data": {
      "text/plain": [
       "requests.models.Response"
      ]
     },
     "execution_count": 110,
     "metadata": {},
     "output_type": "execute_result"
    }
   ],
   "source": [
    "type(res)\n",
    "#res.text"
   ]
  },
  {
   "cell_type": "code",
   "execution_count": 91,
   "metadata": {},
   "outputs": [],
   "source": [
    "import requests\n",
    "\n",
    "url = 'https://www.thsrc.com.tw/tw/TimeTable/SearchResult'\n",
    "payload = {\n",
    "'StartStation':'977abb69-413a-4ccf-a109-0272c24fd490',\n",
    "'EndStation':'60831846-f0e4-47f6-9b5b-46323ebdcef7',\n",
    "'SearchDate':'2018/02/03',\n",
    "'SearchTime':'18:00',\n",
    "'SearchWay':'DepartureInMandarin'\n",
    "}\n",
    "res = requests.post(url, data= payload)"
   ]
  },
  {
   "cell_type": "code",
   "execution_count": 93,
   "metadata": {},
   "outputs": [],
   "source": [
    "#res.text"
   ]
  },
  {
   "cell_type": "markdown",
   "metadata": {},
   "source": [
    "### 尋找字串"
   ]
  },
  {
   "cell_type": "code",
   "execution_count": 96,
   "metadata": {},
   "outputs": [
    {
     "data": {
      "text/plain": [
       "<_sre.SRE_Match object; span=(2, 15), match='23123412330ML'>"
      ]
     },
     "execution_count": 96,
     "metadata": {},
     "output_type": "execute_result"
    }
   ],
   "source": [
    "import re\n",
    "a  = '光泉23123412330ML'\n",
    "re.search('(\\d+ML)', a)\n"
   ]
  },
  {
   "cell_type": "code",
   "execution_count": 98,
   "metadata": {},
   "outputs": [
    {
     "data": {
      "text/plain": [
       "2"
      ]
     },
     "execution_count": 98,
     "metadata": {},
     "output_type": "execute_result"
    }
   ],
   "source": [
    "a = '我愛中華, 中華愛我'\n",
    "a.find('中華')"
   ]
  },
  {
   "cell_type": "code",
   "execution_count": 104,
   "metadata": {},
   "outputs": [
    {
     "name": "stdout",
     "output_type": "stream",
     "text": [
      "<_sre.SRE_Match object; span=(2, 4), match='中華'>\n",
      "<_sre.SRE_Match object; span=(6, 8), match='中華'>\n"
     ]
    }
   ],
   "source": [
    "import re\n",
    "for b in re.finditer('中華', a):\n",
    "    print(b)"
   ]
  },
  {
   "cell_type": "markdown",
   "metadata": {},
   "source": [
    "### 資料剖析\n",
    "- http://beautifulsoup.readthedocs.io/zh_CN/latest/"
   ]
  },
  {
   "cell_type": "code",
   "execution_count": 108,
   "metadata": {
    "collapsed": true
   },
   "outputs": [],
   "source": [
    "from bs4 import BeautifulSoup\n",
    "html_sample = '''\n",
    "<html> \n",
    "<body> \n",
    "<h1 id=\"title\">Hello World</h1> \n",
    "<a href=\"#\" class=\"link\">This is link1</a> \n",
    "<a href=\"# link2\" class=\"link\">This is link2</a> \n",
    "</body> \n",
    "</html>'''\n",
    "\n",
    "soup = BeautifulSoup(html_sample, 'lxml')"
   ]
  },
  {
   "cell_type": "code",
   "execution_count": 111,
   "metadata": {},
   "outputs": [
    {
     "data": {
      "text/plain": [
       "bs4.BeautifulSoup"
      ]
     },
     "execution_count": 111,
     "metadata": {},
     "output_type": "execute_result"
    }
   ],
   "source": [
    "type(soup)"
   ]
  },
  {
   "cell_type": "code",
   "execution_count": 109,
   "metadata": {},
   "outputs": [
    {
     "data": {
      "text/plain": [
       "'\\n\\nHello World\\nThis is link1\\nThis is link2\\n\\n'"
      ]
     },
     "execution_count": 109,
     "metadata": {},
     "output_type": "execute_result"
    }
   ],
   "source": [
    "soup.text"
   ]
  },
  {
   "cell_type": "code",
   "execution_count": 113,
   "metadata": {},
   "outputs": [
    {
     "data": {
      "text/plain": [
       "<h1 id=\"title\">Hello World</h1>"
      ]
     },
     "execution_count": 113,
     "metadata": {},
     "output_type": "execute_result"
    }
   ],
   "source": [
    "soup.select_one('h1')"
   ]
  },
  {
   "cell_type": "code",
   "execution_count": 115,
   "metadata": {},
   "outputs": [
    {
     "data": {
      "text/plain": [
       "'Hello World'"
      ]
     },
     "execution_count": 115,
     "metadata": {},
     "output_type": "execute_result"
    }
   ],
   "source": [
    "soup.select_one('h1').text"
   ]
  },
  {
   "cell_type": "code",
   "execution_count": 114,
   "metadata": {},
   "outputs": [
    {
     "data": {
      "text/plain": [
       "[<h1 id=\"title\">Hello World</h1>]"
      ]
     },
     "execution_count": 114,
     "metadata": {},
     "output_type": "execute_result"
    }
   ],
   "source": [
    "soup.select('h1')"
   ]
  },
  {
   "cell_type": "code",
   "execution_count": 118,
   "metadata": {},
   "outputs": [
    {
     "data": {
      "text/plain": [
       "<h1 id=\"title\">Hello World</h1>"
      ]
     },
     "execution_count": 118,
     "metadata": {},
     "output_type": "execute_result"
    }
   ],
   "source": [
    "soup.select('h1')[0]"
   ]
  },
  {
   "cell_type": "code",
   "execution_count": 119,
   "metadata": {},
   "outputs": [
    {
     "data": {
      "text/plain": [
       "'Hello World'"
      ]
     },
     "execution_count": 119,
     "metadata": {},
     "output_type": "execute_result"
    }
   ],
   "source": [
    "soup.select('h1')[0].text"
   ]
  },
  {
   "cell_type": "code",
   "execution_count": 120,
   "metadata": {},
   "outputs": [
    {
     "data": {
      "text/plain": [
       "<a class=\"link\" href=\"#\">This is link1</a>"
      ]
     },
     "execution_count": 120,
     "metadata": {},
     "output_type": "execute_result"
    }
   ],
   "source": [
    "soup.select_one('a')"
   ]
  },
  {
   "cell_type": "code",
   "execution_count": 121,
   "metadata": {},
   "outputs": [
    {
     "data": {
      "text/plain": [
       "'This is link1'"
      ]
     },
     "execution_count": 121,
     "metadata": {},
     "output_type": "execute_result"
    }
   ],
   "source": [
    "soup.select_one('a').text"
   ]
  },
  {
   "cell_type": "code",
   "execution_count": 122,
   "metadata": {},
   "outputs": [
    {
     "data": {
      "text/plain": [
       "[<a class=\"link\" href=\"#\">This is link1</a>,\n",
       " <a class=\"link\" href=\"# link2\">This is link2</a>]"
      ]
     },
     "execution_count": 122,
     "metadata": {},
     "output_type": "execute_result"
    }
   ],
   "source": [
    "soup.select('a')"
   ]
  },
  {
   "cell_type": "code",
   "execution_count": 123,
   "metadata": {},
   "outputs": [
    {
     "data": {
      "text/plain": [
       "'This is link1'"
      ]
     },
     "execution_count": 123,
     "metadata": {},
     "output_type": "execute_result"
    }
   ],
   "source": [
    "soup.select('a')[0].text"
   ]
  },
  {
   "cell_type": "code",
   "execution_count": 124,
   "metadata": {},
   "outputs": [
    {
     "data": {
      "text/plain": [
       "'This is link2'"
      ]
     },
     "execution_count": 124,
     "metadata": {},
     "output_type": "execute_result"
    }
   ],
   "source": [
    "soup.select('a')[1].text"
   ]
  },
  {
   "cell_type": "markdown",
   "metadata": {},
   "source": [
    "### 根據CSS屬性存取資料\n",
    "- id    => #    ; e.g.    id='title' => #title\n",
    "- class => .    ; e.g. class='link'  => .link"
   ]
  },
  {
   "cell_type": "code",
   "execution_count": 125,
   "metadata": {},
   "outputs": [
    {
     "data": {
      "text/plain": [
       "<h1 id=\"title\">Hello World</h1>"
      ]
     },
     "execution_count": 125,
     "metadata": {},
     "output_type": "execute_result"
    }
   ],
   "source": [
    "# id = title\n",
    "soup.select_one('#title')"
   ]
  },
  {
   "cell_type": "code",
   "execution_count": 126,
   "metadata": {},
   "outputs": [
    {
     "data": {
      "text/plain": [
       "[<a class=\"link\" href=\"#\">This is link1</a>,\n",
       " <a class=\"link\" href=\"# link2\">This is link2</a>]"
      ]
     },
     "execution_count": 126,
     "metadata": {},
     "output_type": "execute_result"
    }
   ],
   "source": [
    "# class = link\n",
    "soup.select('.link')"
   ]
  },
  {
   "cell_type": "code",
   "execution_count": 127,
   "metadata": {},
   "outputs": [
    {
     "data": {
      "text/plain": [
       "<h1 id=\"title\">Hello World</h1>"
      ]
     },
     "execution_count": 127,
     "metadata": {},
     "output_type": "execute_result"
    }
   ],
   "source": [
    "# \" \" 抓取下一層\n",
    "# 抓取 body 下屬性為id=title的 h1\n",
    "soup.select_one('body h1#title')"
   ]
  },
  {
   "cell_type": "code",
   "execution_count": 129,
   "metadata": {},
   "outputs": [
    {
     "data": {
      "text/plain": [
       "[<a class=\"link\" href=\"#\">This is link1</a>,\n",
       " <a class=\"link\" href=\"# link2\">This is link2</a>]"
      ]
     },
     "execution_count": 129,
     "metadata": {},
     "output_type": "execute_result"
    }
   ],
   "source": [
    "# 抓取 body 下屬性為class=link的 a\n",
    "soup.select('body a.link')"
   ]
  },
  {
   "cell_type": "code",
   "execution_count": 136,
   "metadata": {},
   "outputs": [
    {
     "name": "stdout",
     "output_type": "stream",
     "text": [
      "#\n",
      "# link2\n"
     ]
    }
   ],
   "source": [
    "for alink in soup.select('body a.link'):\n",
    "    #print(alink.text)\n",
    "    #print(alink['href'])\n",
    "    print(alink.get('href'))"
   ]
  },
  {
   "cell_type": "code",
   "execution_count": 134,
   "metadata": {},
   "outputs": [
    {
     "data": {
      "text/plain": [
       "'123'"
      ]
     },
     "execution_count": 134,
     "metadata": {},
     "output_type": "execute_result"
    }
   ],
   "source": [
    "l = '<a class=\"link\" href=\"# link2\" data=123 qoo=oop>This is link2</a>'\n",
    "s = BeautifulSoup(l, 'lxml')\n",
    "s.select_one('a')['qoo']\n",
    "s.select_one('a')['data']"
   ]
  },
  {
   "cell_type": "markdown",
   "metadata": {},
   "source": [
    "## 抓取蘋果頁面資料"
   ]
  },
  {
   "cell_type": "code",
   "execution_count": 137,
   "metadata": {
    "collapsed": true
   },
   "outputs": [],
   "source": [
    "import requests\n",
    "res = requests.get('https://tw.appledaily.com/new/realtime')"
   ]
  },
  {
   "cell_type": "code",
   "execution_count": 139,
   "metadata": {},
   "outputs": [],
   "source": [
    "from bs4 import BeautifulSoup\n",
    "soup = BeautifulSoup(res.text, 'lxml')"
   ]
  },
  {
   "cell_type": "code",
   "execution_count": 152,
   "metadata": {},
   "outputs": [
    {
     "name": "stdout",
     "output_type": "stream",
     "text": [
      "https://tw.news.appledaily.com/local/realtime/20180203/1291400/\n",
      "https://tw.news.appledaily.com/local/realtime/20180203/1291398/\n",
      "https://tw.sports.appledaily.com/realtime/20180203/1291421/\n",
      "https://tw.news.appledaily.com/international/realtime/20180203/1291308/\n",
      "https://tw.entertainment.appledaily.com/realtime/20180203/1291367/\n",
      "https://tw.news.appledaily.com/life/realtime/20180203/1291396/\n",
      "https://tw.news.appledaily.com/life/realtime/20180203/1291376/\n",
      "https://tw.news.appledaily.com/life/realtime/20180203/1291393/\n",
      "https://tw.news.appledaily.com/life/realtime/20180203/1291410/\n",
      "https://tw.news.appledaily.com/local/realtime/20180203/1291408/\n",
      "https://tw.finance.appledaily.com/realtime/20180203/1287900/\n",
      "https://tw.news.appledaily.com/local/realtime/20180203/1291406/\n",
      "https://tw.news.appledaily.com/local/realtime/20180203/1291379/\n",
      "https://tw.news.appledaily.com/international/realtime/20180203/1291266/\n",
      "https://tw.news.appledaily.com/forum/realtime/20180203/1291405/\n",
      "https://tw.lifestyle.appledaily.com/lifestyle/realtime/20180203/1291386/\n",
      "https://tw.sports.appledaily.com/realtime/20180203/1291403/\n",
      "https://tw.news.appledaily.com/international/realtime/20180203/1291255/\n",
      "https://tw.news.appledaily.com/international/realtime/20180203/1291375/\n",
      "https://tw.news.appledaily.com/life/realtime/20180203/1291394/\n",
      "https://tw.entertainment.appledaily.com/realtime/20180203/1291056/\n",
      "https://tw.news.appledaily.com/life/realtime/20180203/1291333/\n",
      "https://tw.news.appledaily.com/local/realtime/20180203/1291397/\n",
      "https://tw.news.appledaily.com/local/realtime/20180203/1291348/\n",
      "https://tw.news.appledaily.com/politics/realtime/20180203/1291395/\n",
      "https://tw.news.appledaily.com/politics/realtime/20180203/1291390/\n",
      "https://tw.news.appledaily.com/life/realtime/20180203/1291264/\n",
      "https://tw.news.appledaily.com/life/realtime/20180203/1291294/\n",
      "https://tw.news.appledaily.com/local/realtime/20180203/1291380/\n",
      "https://tw.news.appledaily.com/local/realtime/20180203/1291334/\n"
     ]
    }
   ],
   "source": [
    "for news in soup.select('.rtddt a'):\n",
    "    #print(news)\n",
    "    title     = news.select_one('h1').text\n",
    "    category  = news.select_one('h2').text\n",
    "    dt        = news.select_one('time').text\n",
    "    link      = news['href']\n",
    "    print(link)\n",
    "    #print(title, category, dt, link)\n",
    "    #print('===============================')"
   ]
  },
  {
   "cell_type": "markdown",
   "metadata": {},
   "source": [
    "## 抓取圖片"
   ]
  },
  {
   "cell_type": "code",
   "execution_count": 153,
   "metadata": {
    "collapsed": true
   },
   "outputs": [],
   "source": [
    "import requests\n",
    "res = requests.get('https://img.appledaily.com.tw/images/ReNews/20180203/640_fd5d42a3fbb817381133ad565d53b2b9.jpg')\n",
    "with open('bear.jpg', 'wb') as f:\n",
    "    f.write(res.content)"
   ]
  },
  {
   "cell_type": "markdown",
   "metadata": {},
   "source": [
    "## 抓取內容頁"
   ]
  },
  {
   "cell_type": "code",
   "execution_count": 155,
   "metadata": {},
   "outputs": [],
   "source": [
    "import requests\n",
    "res = requests.get('https://tw.news.appledaily.com/local/realtime/20180203/1291400/')"
   ]
  },
  {
   "cell_type": "code",
   "execution_count": 156,
   "metadata": {
    "collapsed": true
   },
   "outputs": [],
   "source": [
    "from bs4 import BeautifulSoup\n",
    "soup = BeautifulSoup(res.text, 'lxml')"
   ]
  },
  {
   "cell_type": "code",
   "execution_count": 160,
   "metadata": {},
   "outputs": [
    {
     "data": {
      "text/plain": [
       "'日本熊本熊在基隆\\u3000民眾騷動搶拍照'"
      ]
     },
     "execution_count": 160,
     "metadata": {},
     "output_type": "execute_result"
    }
   ],
   "source": [
    "soup.select_one('h1').text"
   ]
  },
  {
   "cell_type": "code",
   "execution_count": 161,
   "metadata": {},
   "outputs": [
    {
     "data": {
      "text/plain": [
       "'日本熊本縣南物產展從今天起連續2天，在基隆市舊火車站展出，包含許多特色小吃、塌塌米展示、日式浴衣試穿活動等等，其中，最受民眾歡迎的就是吉祥物熊本熊，今天的開幕式中，大小朋友一看到熊本熊，尖叫聲不斷，熊本熊舉手投足之間，都逗得民眾哈哈大笑。另外還有民謠、劍道等表演。\\xa0基隆市長林右昌在開幕式時表示，基隆市與這次參展的熊本縣八代市有深厚情誼，除了民間團體互有往來，預計在今年4月份基隆市與八代市將正式締結好友城市，相信在未來，不管是文化、經濟各方面都能有長足的進步。（突發中心戴之聖／基隆報導）看了這則新聞的人，也看了……攤販賣菜攏是假！\\u3000檯面青菜檯下賣毒運將躲隧道療情傷\\u3000暖警：註定來救你救護車路口被撞翻\\u30002消防員和病患同就醫'"
      ]
     },
     "execution_count": 161,
     "metadata": {},
     "output_type": "execute_result"
    }
   ],
   "source": [
    "soup.select_one('.ndArticle_margin p').text"
   ]
  },
  {
   "cell_type": "code",
   "execution_count": 163,
   "metadata": {},
   "outputs": [
    {
     "data": {
      "text/plain": [
       "'出版時間：2018/02/03 14:37'"
      ]
     },
     "execution_count": 163,
     "metadata": {},
     "output_type": "execute_result"
    }
   ],
   "source": [
    "soup.select_one('.ndArticle_creat').text"
   ]
  },
  {
   "cell_type": "code",
   "execution_count": 165,
   "metadata": {},
   "outputs": [
    {
     "data": {
      "text/plain": [
       "'487'"
      ]
     },
     "execution_count": 165,
     "metadata": {},
     "output_type": "execute_result"
    }
   ],
   "source": [
    "soup.select_one('.ndArticle_view').text"
   ]
  },
  {
   "cell_type": "code",
   "execution_count": 168,
   "metadata": {},
   "outputs": [
    {
     "data": {
      "text/plain": [
       "'社會'"
      ]
     },
     "execution_count": 168,
     "metadata": {},
     "output_type": "execute_result"
    }
   ],
   "source": [
    "soup.select_one('.ndgTag .current').text"
   ]
  },
  {
   "cell_type": "code",
   "execution_count": 175,
   "metadata": {
    "collapsed": true
   },
   "outputs": [],
   "source": [
    "def parseArticle(url):\n",
    "    ret = {}\n",
    "    res = requests.get(url)\n",
    "    soup = BeautifulSoup(res.text, 'lxml')\n",
    "    ret['title']    = soup.select_one('h1').text\n",
    "    ret['content']  = soup.select_one('.ndArticle_margin p').text\n",
    "    ret['dt']       = soup.select_one('.ndArticle_creat').text\n",
    "    ret['viewcnt']  = int(soup.select_one('.ndArticle_view').text) \\\n",
    "                   if soup.select_one('.ndArticle_view') else 0\n",
    "    ret['category'] =soup.select_one('.ndgTag .current').text\n",
    "    return ret"
   ]
  },
  {
   "cell_type": "code",
   "execution_count": 170,
   "metadata": {},
   "outputs": [
    {
     "data": {
      "text/plain": [
       "{'category': '社會',\n",
       " 'content': '日本熊本縣南物產展從今天起連續2天，在基隆市舊火車站展出，包含許多特色小吃、塌塌米展示、日式浴衣試穿活動等等，其中，最受民眾歡迎的就是吉祥物熊本熊，今天的開幕式中，大小朋友一看到熊本熊，尖叫聲不斷，熊本熊舉手投足之間，都逗得民眾哈哈大笑。另外還有民謠、劍道等表演。\\xa0基隆市長林右昌在開幕式時表示，基隆市與這次參展的熊本縣八代市有深厚情誼，除了民間團體互有往來，預計在今年4月份基隆市與八代市將正式締結好友城市，相信在未來，不管是文化、經濟各方面都能有長足的進步。（突發中心戴之聖／基隆報導）看了這則新聞的人，也看了……攤販賣菜攏是假！\\u3000檯面青菜檯下賣毒運將躲隧道療情傷\\u3000暖警：註定來救你救護車路口被撞翻\\u30002消防員和病患同就醫',\n",
       " 'dt': '出版時間：2018/02/03 14:37',\n",
       " 'title': '日本熊本熊在基隆\\u3000民眾騷動搶拍照',\n",
       " 'viewcnt': '594'}"
      ]
     },
     "execution_count": 170,
     "metadata": {},
     "output_type": "execute_result"
    }
   ],
   "source": [
    "parseArticle('https://tw.news.appledaily.com/local/realtime/20180203/1291400/')"
   ]
  },
  {
   "cell_type": "code",
   "execution_count": 171,
   "metadata": {},
   "outputs": [
    {
     "data": {
      "text/plain": [
       "{'category': '社會',\n",
       " 'content': '有種植大麻前科謝姓（49歲）男子，日前重操舊業，在桃園大溪山區裡種植大麻，再將大麻葉帶回八德租屋蔭乾，警方鎖定謝男，日前跟蹤他到偏僻山區裡，查獲165株大麻，他供稱，利用比特幣從英國購買種子，種植山區，規避查緝，沒想到還是栽在警方手裡。\\xa0警方獲報，謝男經常出入山區，懷疑他另起爐灶，經多日跟間埋伏，發現他在大溪偏僻山區裡租屋，種植大麻，採收的大麻葉，帶回八德租屋處蔭乾。\\xa0桃園分局偵查隊幹員日前進入山區埋伏，發現謝男等人座車，當場掏槍壓制，逮捕謝男及車上廖男（21歲）、邱男（25歲），並從謝男租屋處裡查獲165株大麻，謝男坦承以比特幣從英國購買種子，種植山區。廖、邱2男供稱，他們不知情，當天只是跟謝男前往山區。\\xa0警方訊後將謝男等人依毒品罪嫌移送偵辦，謝男聲押獲准，廖、邱2人分別1萬元交保，警方將擴大追查大麻流向。（突發中心石明啟／桃園報導）看了這則新聞的人，也看了……日本熊本熊在基隆\\u3000民眾騷動搶拍照鐵漢柔情苦心勸\\u3000街友終肯接受收容避風寒\\u200b查獲迷你改造手槍\\u3000警稱：「口袋藏大砲」  ',\n",
       " 'dt': '出版時間：2018/02/03 15:16',\n",
       " 'title': '比特幣買大麻種子\\u3000165 株種植山區',\n",
       " 'viewcnt': '196'}"
      ]
     },
     "execution_count": 171,
     "metadata": {},
     "output_type": "execute_result"
    }
   ],
   "source": [
    "parseArticle('https://tw.news.appledaily.com/local/realtime/20180203/1291441/')"
   ]
  },
  {
   "cell_type": "code",
   "execution_count": 177,
   "metadata": {},
   "outputs": [
    {
     "data": {
      "text/plain": [
       "{'category': '生活',\n",
       " 'content': '這波寒流來襲，桃園拉拉山已降下冰霰，因目前台7線高山路段（下巴陵至明池），氣溫仍持續下探，根據中央氣象局資料，預估至明天（2月4日）凌晨氣溫將降至攝氏零度，該路段路面可能出現結冰積雪情形，公路總局第一區養護工程處預定於3日夜間19時至4日早上7時進行預警性封路作業。\\xa0預定封閉路段為台7線47k(下巴陵)至60k+776（西村），隔日早上7時開放通行時，將協同警方現場管制前往明池方向車輛，為確保用路人安全，有加掛雪鏈之4輪以上車輛，白天方可進入該路段。\\xa0公路總局第一區養護工程處提醒用路人，低溫特報期間避免行駛山區公路、隨時收聽警廣、並注意可變資訊看板（CMS）所顯示之交通管制及訊息，出遊民眾，請選擇於白天行駛山區道路。轄管省道如有路面結冰現象，白天將進行道路管制通行，僅通行加掛雪鏈之4輪以上車輛，夜間19時至隔日7時禁止通行。民眾查詢最新路況，可撥打：1968或0800001821。（突發中心黎百代／桃園報導）\\xa0\\xa0看了這則新聞的人，也看了……質疑土地鑑界不實\\u3000務農男腰插鐮刀衝地政所\\u200b工人吊掛鋼鐵\\u3000不慎失足摔落慘死日本熊本熊在基隆\\u3000民眾騷動搶拍照',\n",
       " 'dt': '出版時間：2018/02/03 15:39',\n",
       " 'title': '北橫台七線高山段路面恐結冰\\u3000今晚7時起封路',\n",
       " 'viewcnt': 0}"
      ]
     },
     "execution_count": 177,
     "metadata": {},
     "output_type": "execute_result"
    }
   ],
   "source": [
    "parseArticle('https://tw.news.appledaily.com/life/realtime/20180203/1291449/')"
   ]
  },
  {
   "cell_type": "markdown",
   "metadata": {},
   "source": [
    "## 抓取列表頁所有新聞"
   ]
  },
  {
   "cell_type": "code",
   "execution_count": 179,
   "metadata": {},
   "outputs": [],
   "source": [
    "import requests\n",
    "from bs4 import BeautifulSoup\n",
    "res = requests.get('https://tw.appledaily.com/new/realtime')\n",
    "soup = BeautifulSoup(res.text, 'lxml') \n",
    "ary  = []\n",
    "for news in soup.select('.rtddt a'):\n",
    "    ary.append(parseArticle(news['href']))"
   ]
  },
  {
   "cell_type": "code",
   "execution_count": 184,
   "metadata": {},
   "outputs": [
    {
     "data": {
      "text/plain": [
       "{'category': '國際',\n",
       " 'content': '在台灣因寒流來襲，各地冷颼颼的同時，中國東北也迎來寒冷天氣。但就在漫天風雪下，吉林長春卻出現一對新人，在颯颯寒風中穿著無袖晚禮服拍攝婚紗照。當時室外氣溫達到零下約16度，還不時伴有雪花飄落。這對新人無懼嚴寒天氣，在一處公園旁伴著雪景拍攝婚紗照。新人拍照時所穿的衣服特別單薄，與路邊行人穿著的厚厚棉服形成鮮明對比。據新郎介紹，因為兩人都非常希望能有一套雪中的婚紗照，所以選擇這樣一個有雪的日子出來拍攝。（大陸中心／綜合報導）',\n",
       " 'dt': '出版時間：2018/02/03 15:35',\n",
       " 'title': '-16度穿無袖禮服拍婚紗照\\u3000長春新人美麗凍人',\n",
       " 'viewcnt': 0}"
      ]
     },
     "execution_count": 184,
     "metadata": {},
     "output_type": "execute_result"
    }
   ],
   "source": [
    "ary[3]"
   ]
  },
  {
   "cell_type": "markdown",
   "metadata": {},
   "source": [
    "## 抓取所有圖片"
   ]
  },
  {
   "cell_type": "code",
   "execution_count": 186,
   "metadata": {},
   "outputs": [
    {
     "data": {
      "text/plain": [
       "'640_d3cd3f3985da876949573bdb5da8a548.jpg'"
      ]
     },
     "execution_count": 186,
     "metadata": {},
     "output_type": "execute_result"
    }
   ],
   "source": [
    "url = 'https://img.appledaily.com.tw/images/ReNews/20180203/640_d3cd3f3985da876949573bdb5da8a548.jpg'\n",
    "url.split('/')[-1]"
   ]
  },
  {
   "cell_type": "code",
   "execution_count": 190,
   "metadata": {
    "collapsed": true
   },
   "outputs": [],
   "source": [
    "def parseImage(url):\n",
    "    res = requests.get(url)\n",
    "    soup = BeautifulSoup(res.text, 'lxml')\n",
    "    for img in soup.select('.ndArticle_margin img'):\n",
    "        imgurl = img['src']\n",
    "        res2 = requests.get(imgurl)\n",
    "        with open(imgurl.split('/')[-1], 'wb') as f:\n",
    "            f.write(res2.content)"
   ]
  },
  {
   "cell_type": "code",
   "execution_count": 191,
   "metadata": {},
   "outputs": [],
   "source": [
    "import requests\n",
    "from bs4 import BeautifulSoup\n",
    "res = requests.get('https://tw.appledaily.com/new/realtime')\n",
    "soup = BeautifulSoup(res.text, 'lxml') \n",
    "\n",
    "for news in soup.select('.rtddt a'):\n",
    "    parseImage(news['href'])"
   ]
  },
  {
   "cell_type": "markdown",
   "metadata": {},
   "source": [
    "## 完成蘋果爬蟲"
   ]
  },
  {
   "cell_type": "code",
   "execution_count": 194,
   "metadata": {},
   "outputs": [
    {
     "name": "stdout",
     "output_type": "stream",
     "text": [
      "1\n",
      "2\n",
      "3\n",
      "4\n",
      "5\n"
     ]
    }
   ],
   "source": [
    "url = 'https://tw.appledaily.com/new/realtime/{}'\n",
    "ary  = []\n",
    "for i in range(1,6):\n",
    "    print(i)\n",
    "    res = requests.get(url.format(i))\n",
    "    soup = BeautifulSoup(res.text, 'lxml') \n",
    "    for news in soup.select('.rtddt a'):\n",
    "        ary.append(parseArticle(news['href']))"
   ]
  },
  {
   "cell_type": "code",
   "execution_count": 195,
   "metadata": {},
   "outputs": [
    {
     "data": {
      "text/plain": [
       "150"
      ]
     },
     "execution_count": 195,
     "metadata": {},
     "output_type": "execute_result"
    }
   ],
   "source": [
    "len(ary)"
   ]
  },
  {
   "cell_type": "code",
   "execution_count": 196,
   "metadata": {},
   "outputs": [
    {
     "data": {
      "text/plain": [
       "{'category': '財經地產',\n",
       " 'content': '新北市板橋區江翠北側重劃區沿大漢溪開發，新潤建設機構及亞昕國際開發於AB區推出「新潤亞昕翠峰」，面對藝香公園，臨路退縮12~16米，種植樹木，住家被綠樹環抱，並預計提供全天候餐點，規劃21~46坪，每坪45萬元起。\\xa0該案基地面積1288.72坪，含回饋的藝香公園約有2000坪的整體開發，店面預計引進有藝文氣息小店。專案經理陳沛諄表示，建商除注重建築規劃外，再進一步提高服務，採飯店式管理，並與1期「新潤青峰」一起規劃社區巴士，接駁至捷運板橋站及府中站，採使用者付費原則，預計管理費每月每坪80元。\\u200b（連珠君／新北報導）更多地產新聞，請看蘋果地產王粉絲團',\n",
       " 'dt': '出版時間：2018/02/03 16:11',\n",
       " 'title': '江翠北側2千坪開發\\u3000這建築被樹環抱',\n",
       " 'viewcnt': 0}"
      ]
     },
     "execution_count": 196,
     "metadata": {},
     "output_type": "execute_result"
    }
   ],
   "source": [
    "ary[0]"
   ]
  },
  {
   "cell_type": "code",
   "execution_count": 198,
   "metadata": {},
   "outputs": [
    {
     "data": {
      "text/html": [
       "<div>\n",
       "<style>\n",
       "    .dataframe thead tr:only-child th {\n",
       "        text-align: right;\n",
       "    }\n",
       "\n",
       "    .dataframe thead th {\n",
       "        text-align: left;\n",
       "    }\n",
       "\n",
       "    .dataframe tbody tr th {\n",
       "        vertical-align: top;\n",
       "    }\n",
       "</style>\n",
       "<table border=\"1\" class=\"dataframe\">\n",
       "  <thead>\n",
       "    <tr style=\"text-align: right;\">\n",
       "      <th></th>\n",
       "      <th>category</th>\n",
       "      <th>content</th>\n",
       "      <th>dt</th>\n",
       "      <th>title</th>\n",
       "      <th>viewcnt</th>\n",
       "    </tr>\n",
       "  </thead>\n",
       "  <tbody>\n",
       "    <tr>\n",
       "      <th>0</th>\n",
       "      <td>財經地產</td>\n",
       "      <td>新北市板橋區江翠北側重劃區沿大漢溪開發，新潤建設機構及亞昕國際開發於AB區推出「新潤亞昕翠峰...</td>\n",
       "      <td>出版時間：2018/02/03 16:11</td>\n",
       "      <td>江翠北側2千坪開發　這建築被樹環抱</td>\n",
       "      <td>0</td>\n",
       "    </tr>\n",
       "    <tr>\n",
       "      <th>1</th>\n",
       "      <td>國際</td>\n",
       "      <td>自行車手在公路進行訓練的時候，竟然被當地牧師騎摺疊車電翻。義大利單速車（Fixed Gear...</td>\n",
       "      <td>出版時間：2018/02/03 16:11</td>\n",
       "      <td>自行車手公路狂飆　被當地牧師騎摺疊車電翻</td>\n",
       "      <td>0</td>\n",
       "    </tr>\n",
       "    <tr>\n",
       "      <th>2</th>\n",
       "      <td>國際</td>\n",
       "      <td>電商巨擘eBay周三宣布，將逐步終止與支付平台Paypal的合作關係，轉向「新歡」荷蘭支付公...</td>\n",
       "      <td>出版時間：2018/02/03 16:07</td>\n",
       "      <td>ebay宣布分手Paypal　與新支付公司簽長約</td>\n",
       "      <td>8</td>\n",
       "    </tr>\n",
       "    <tr>\n",
       "      <th>3</th>\n",
       "      <td>娛樂</td>\n",
       "      <td>星二代「歐陽3姊妹」承襲父母優點，甜美外型與高挑身材讓她們闖蕩演藝圈都有不錯成績。21歲歐陽...</td>\n",
       "      <td>出版時間：2018/02/03 16:06</td>\n",
       "      <td>歐陽妮妮激曬「C字美尻」　娣娣神級長腿搶鏡</td>\n",
       "      <td>16</td>\n",
       "    </tr>\n",
       "    <tr>\n",
       "      <th>4</th>\n",
       "      <td>政治</td>\n",
       "      <td>（更新：新增影片）台北市長柯文哲，前往歐洲考察，這次總共有三名議員隨行，但都非藍綠兩大黨，而...</td>\n",
       "      <td>出版時間：2018/02/03 16:03</td>\n",
       "      <td>【更新】毆妻議員隨柯P出訪！狂拍波蘭妹喊「都值了」</td>\n",
       "      <td>23539</td>\n",
       "    </tr>\n",
       "  </tbody>\n",
       "</table>\n",
       "</div>"
      ],
      "text/plain": [
       "  category                                            content  \\\n",
       "0     財經地產  新北市板橋區江翠北側重劃區沿大漢溪開發，新潤建設機構及亞昕國際開發於AB區推出「新潤亞昕翠峰...   \n",
       "1       國際  自行車手在公路進行訓練的時候，竟然被當地牧師騎摺疊車電翻。義大利單速車（Fixed Gear...   \n",
       "2       國際  電商巨擘eBay周三宣布，將逐步終止與支付平台Paypal的合作關係，轉向「新歡」荷蘭支付公...   \n",
       "3       娛樂  星二代「歐陽3姊妹」承襲父母優點，甜美外型與高挑身材讓她們闖蕩演藝圈都有不錯成績。21歲歐陽...   \n",
       "4       政治  （更新：新增影片）台北市長柯文哲，前往歐洲考察，這次總共有三名議員隨行，但都非藍綠兩大黨，而...   \n",
       "\n",
       "                      dt                      title  viewcnt  \n",
       "0  出版時間：2018/02/03 16:11          江翠北側2千坪開發　這建築被樹環抱        0  \n",
       "1  出版時間：2018/02/03 16:11       自行車手公路狂飆　被當地牧師騎摺疊車電翻        0  \n",
       "2  出版時間：2018/02/03 16:07  ebay宣布分手Paypal　與新支付公司簽長約         8  \n",
       "3  出版時間：2018/02/03 16:06      歐陽妮妮激曬「C字美尻」　娣娣神級長腿搶鏡       16  \n",
       "4  出版時間：2018/02/03 16:03  【更新】毆妻議員隨柯P出訪！狂拍波蘭妹喊「都值了」    23539  "
      ]
     },
     "execution_count": 198,
     "metadata": {},
     "output_type": "execute_result"
    }
   ],
   "source": [
    "newsdf = pandas.DataFrame(ary)\n",
    "newsdf.head()"
   ]
  },
  {
   "cell_type": "code",
   "execution_count": 203,
   "metadata": {},
   "outputs": [
    {
     "data": {
      "text/html": [
       "<div>\n",
       "<style>\n",
       "    .dataframe thead tr:only-child th {\n",
       "        text-align: right;\n",
       "    }\n",
       "\n",
       "    .dataframe thead th {\n",
       "        text-align: left;\n",
       "    }\n",
       "\n",
       "    .dataframe tbody tr th {\n",
       "        vertical-align: top;\n",
       "    }\n",
       "</style>\n",
       "<table border=\"1\" class=\"dataframe\">\n",
       "  <thead>\n",
       "    <tr style=\"text-align: right;\">\n",
       "      <th></th>\n",
       "      <th>category</th>\n",
       "      <th>content</th>\n",
       "      <th>dt</th>\n",
       "      <th>title</th>\n",
       "      <th>viewcnt</th>\n",
       "    </tr>\n",
       "  </thead>\n",
       "  <tbody>\n",
       "    <tr>\n",
       "      <th>109</th>\n",
       "      <td>社會</td>\n",
       "      <td>（更新：新增影片）一名長年在中國工作的胡姓經理人數年前返台過年，行間與友人至台北市麗緻酒店消...</td>\n",
       "      <td>出版時間：2018/02/03 12:40</td>\n",
       "      <td>陰道深處驗出金主DNA　禮服妹怒告性侵遭酒店打臉【有片】</td>\n",
       "      <td>341568</td>\n",
       "    </tr>\n",
       "    <tr>\n",
       "      <th>48</th>\n",
       "      <td>娛樂</td>\n",
       "      <td>帶寵物上高鐵要注意，不是每一種動物都能上車的！藝人黃鐙輝一家人搭高鐵回高雄，因為帶了寵物「蜜...</td>\n",
       "      <td>出版時間：2018/02/03 14:46</td>\n",
       "      <td>黃鐙輝攜蜜袋鼯搭車遭拒求解釋　高鐵回應了</td>\n",
       "      <td>127793</td>\n",
       "    </tr>\n",
       "    <tr>\n",
       "      <th>71</th>\n",
       "      <td>國際</td>\n",
       "      <td>（更新：41J配音影片）SOD企劃中曾出現咖啡廳女僕系列，讓女優扮演女服務生，以全裸之姿、僅...</td>\n",
       "      <td>出版時間：2018/02/03 14:04</td>\n",
       "      <td>【SOD】不是夢　這家咖啡廳女僕全裸只穿圍裙</td>\n",
       "      <td>122519</td>\n",
       "    </tr>\n",
       "    <tr>\n",
       "      <th>111</th>\n",
       "      <td>生活</td>\n",
       "      <td>（更新：新增影片）太勵志！一名女網友下定決心減重，半年瘦了10公斤，不但變美，也更有自信了！...</td>\n",
       "      <td>出版時間：2018/02/03 12:35</td>\n",
       "      <td>「坐著都油膩膩」　她半年瘦10公斤變美女【有片】</td>\n",
       "      <td>105359</td>\n",
       "    </tr>\n",
       "    <tr>\n",
       "      <th>34</th>\n",
       "      <td>財經地產</td>\n",
       "      <td>（更新：新增動新聞）全球股市跨入2月驟起風浪，歐美債券市場賣壓蔓延、央行貨幣政策趨緊預期升高...</td>\n",
       "      <td>出版時間：2018/02/03 15:13</td>\n",
       "      <td>【冰風暴片】美股黑色星期五　道瓊狂瀉665點史上第6慘</td>\n",
       "      <td>87286</td>\n",
       "    </tr>\n",
       "  </tbody>\n",
       "</table>\n",
       "</div>"
      ],
      "text/plain": [
       "    category                                            content  \\\n",
       "109       社會  （更新：新增影片）一名長年在中國工作的胡姓經理人數年前返台過年，行間與友人至台北市麗緻酒店消...   \n",
       "48        娛樂  帶寵物上高鐵要注意，不是每一種動物都能上車的！藝人黃鐙輝一家人搭高鐵回高雄，因為帶了寵物「蜜...   \n",
       "71        國際  （更新：41J配音影片）SOD企劃中曾出現咖啡廳女僕系列，讓女優扮演女服務生，以全裸之姿、僅...   \n",
       "111       生活  （更新：新增影片）太勵志！一名女網友下定決心減重，半年瘦了10公斤，不但變美，也更有自信了！...   \n",
       "34      財經地產  （更新：新增動新聞）全球股市跨入2月驟起風浪，歐美債券市場賣壓蔓延、央行貨幣政策趨緊預期升高...   \n",
       "\n",
       "                        dt                         title  viewcnt  \n",
       "109  出版時間：2018/02/03 12:40  陰道深處驗出金主DNA　禮服妹怒告性侵遭酒店打臉【有片】   341568  \n",
       "48   出版時間：2018/02/03 14:46          黃鐙輝攜蜜袋鼯搭車遭拒求解釋　高鐵回應了   127793  \n",
       "71   出版時間：2018/02/03 14:04        【SOD】不是夢　這家咖啡廳女僕全裸只穿圍裙   122519  \n",
       "111  出版時間：2018/02/03 12:35      「坐著都油膩膩」　她半年瘦10公斤變美女【有片】   105359  \n",
       "34   出版時間：2018/02/03 15:13   【冰風暴片】美股黑色星期五　道瓊狂瀉665點史上第6慘    87286  "
      ]
     },
     "execution_count": 203,
     "metadata": {},
     "output_type": "execute_result"
    }
   ],
   "source": [
    "newsdf.sort_values(['viewcnt'], ascending=False).head()"
   ]
  },
  {
   "cell_type": "code",
   "execution_count": 208,
   "metadata": {},
   "outputs": [],
   "source": [
    "stat = newsdf.groupby('category')['title'].count().sort_values(ascending = False)"
   ]
  },
  {
   "cell_type": "code",
   "execution_count": 209,
   "metadata": {},
   "outputs": [
    {
     "name": "stdout",
     "output_type": "stream",
     "text": [
      "Populating the interactive namespace from numpy and matplotlib\n"
     ]
    },
    {
     "name": "stderr",
     "output_type": "stream",
     "text": [
      "C:\\ProgramData\\Anaconda3\\lib\\site-packages\\IPython\\core\\magics\\pylab.py:160: UserWarning: pylab import has clobbered these variables: ['title', 'rec', 'f']\n",
      "`%matplotlib` prevents importing * from pylab and numpy\n",
      "  \"\\n`%matplotlib` prevents importing * from pylab and numpy\"\n"
     ]
    },
    {
     "data": {
      "text/plain": [
       "<matplotlib.axes._subplots.AxesSubplot at 0x129968d0>"
      ]
     },
     "execution_count": 209,
     "metadata": {},
     "output_type": "execute_result"
    },
    {
     "data": {
      "image/png": "[encoded data removed]",
      "text/plain": [
       "<matplotlib.figure.Figure at 0x13255128>"
      ]
     },
     "metadata": {},
     "output_type": "display_data"
    }
   ],
   "source": [
    "% pylab inline\n",
    "stat.plot(kind= 'bar')"
   ]
  },
  {
   "cell_type": "code",
   "execution_count": 207,
   "metadata": {},
   "outputs": [
    {
     "data": {
      "text/plain": [
       "category\n",
       "娛樂      23265.166667\n",
       "財經地產    18896.538462\n",
       "國際      18520.500000\n",
       "社會      17120.555556\n",
       "生活       8319.000000\n",
       "政治       5963.636364\n",
       "體育       4294.500000\n",
       "壹週刊      2719.000000\n",
       "論壇       2452.800000\n",
       "副刊       2232.000000\n",
       "3C        454.000000\n",
       "Name: viewcnt, dtype: float64"
      ]
     },
     "execution_count": 207,
     "metadata": {},
     "output_type": "execute_result"
    }
   ],
   "source": [
    "newsdf.groupby('category')['viewcnt'].mean().sort_values(ascending = False)"
   ]
  },
  {
   "cell_type": "code",
   "execution_count": 199,
   "metadata": {
    "collapsed": true
   },
   "outputs": [],
   "source": [
    "newsdf.to_excel('news.xlsx')"
   ]
  },
  {
   "cell_type": "markdown",
   "metadata": {},
   "source": [
    "### 使用pandas 整理資料"
   ]
  },
  {
   "cell_type": "code",
   "execution_count": 197,
   "metadata": {},
   "outputs": [
    {
     "data": {
      "text/html": [
       "<div>\n",
       "<style>\n",
       "    .dataframe thead tr:only-child th {\n",
       "        text-align: right;\n",
       "    }\n",
       "\n",
       "    .dataframe thead th {\n",
       "        text-align: left;\n",
       "    }\n",
       "\n",
       "    .dataframe tbody tr th {\n",
       "        vertical-align: top;\n",
       "    }\n",
       "</style>\n",
       "<table border=\"1\" class=\"dataframe\">\n",
       "  <thead>\n",
       "    <tr style=\"text-align: right;\">\n",
       "      <th></th>\n",
       "      <th>a</th>\n",
       "      <th>b</th>\n",
       "      <th>c</th>\n",
       "    </tr>\n",
       "  </thead>\n",
       "  <tbody>\n",
       "    <tr>\n",
       "      <th>0</th>\n",
       "      <td>1</td>\n",
       "      <td>2.0</td>\n",
       "      <td>3</td>\n",
       "    </tr>\n",
       "    <tr>\n",
       "      <th>1</th>\n",
       "      <td>8</td>\n",
       "      <td>NaN</td>\n",
       "      <td>10</td>\n",
       "    </tr>\n",
       "  </tbody>\n",
       "</table>\n",
       "</div>"
      ],
      "text/plain": [
       "   a    b   c\n",
       "0  1  2.0   3\n",
       "1  8  NaN  10"
      ]
     },
     "execution_count": 197,
     "metadata": {},
     "output_type": "execute_result"
    }
   ],
   "source": [
    "a  = [{'a':1, 'b':2, 'c':3}, {'a':8, 'c':10}]\n",
    "import pandas\n",
    "df = pandas.DataFrame(a)\n",
    "df"
   ]
  },
  {
   "cell_type": "markdown",
   "metadata": {},
   "source": [
    "## Selenium\n",
    "- pip install selenium\n",
    "- download chromedriver; https://chromedriver.storage.googleapis.com/2.35/chromedriver_win32.zip"
   ]
  },
  {
   "cell_type": "code",
   "execution_count": 210,
   "metadata": {},
   "outputs": [
    {
     "name": "stdout",
     "output_type": "stream",
     "text": [
      "Collecting selenium\n",
      "  Downloading selenium-3.8.1-py2.py3-none-any.whl (942kB)\n",
      "Installing collected packages: selenium\n",
      "Successfully installed selenium-3.8.1\n"
     ]
    }
   ],
   "source": [
    "! pip install selenium"
   ]
  },
  {
   "cell_type": "markdown",
   "metadata": {},
   "source": [
    "### 開啟瀏覽器 自動填資料"
   ]
  },
  {
   "cell_type": "code",
   "execution_count": 222,
   "metadata": {
    "collapsed": true
   },
   "outputs": [],
   "source": [
    "from selenium import webdriver\n",
    "import time\n"
   ]
  },
  {
   "cell_type": "code",
   "execution_count": 294,
   "metadata": {},
   "outputs": [],
   "source": [
    "driver = webdriver.Chrome()\n",
    "driver.get('http://railway.hinet.net/Foreign/TW/etno1.html')\n",
    "time.sleep(3)\n",
    "driver.find_element_by_css_selector('#person_id').send_keys('A123456789')\n",
    "driver.find_element_by_css_selector('#getin_date').send_keys('2018/02/04【日】')\n",
    "driver.find_element_by_css_selector('#from_station').send_keys('100-台北')\n",
    "driver.find_element_by_css_selector('#train_no').send_keys('218')\n",
    "driver.find_element_by_css_selector('#from_station').send_keys('100-台北')\n",
    "driver.find_element_by_css_selector('#n_order_qty_str').send_keys('1')\n",
    "driver.find_element_by_css_selector('.btn-primary').click()\n",
    "#driver.find_element_by_css_selector('#order_qty_str')\n"
   ]
  },
  {
   "cell_type": "markdown",
   "metadata": {},
   "source": [
    "### 取得Cookie"
   ]
  },
  {
   "cell_type": "code",
   "execution_count": 295,
   "metadata": {},
   "outputs": [],
   "source": [
    "c = ';'.join(['{}={}'.format(ele.get('name'), ele.get('value')) for ele in driver.get_cookies()])"
   ]
  },
  {
   "cell_type": "markdown",
   "metadata": {},
   "source": [
    "### 抓取聲音檔"
   ]
  },
  {
   "cell_type": "code",
   "execution_count": 296,
   "metadata": {},
   "outputs": [],
   "source": [
    "from bs4 import BeautifulSoup\n",
    "soup = BeautifulSoup(driver.page_source, 'lxml')"
   ]
  },
  {
   "cell_type": "code",
   "execution_count": 297,
   "metadata": {},
   "outputs": [],
   "source": [
    "import re\n",
    "domain = 'http://railway.hinet.net'\n",
    "m = re.search('src=\"(.*?)\"',soup.select('noscript')[3].text)\n",
    "url = domain + m.group(1)"
   ]
  },
  {
   "cell_type": "code",
   "execution_count": 300,
   "metadata": {},
   "outputs": [],
   "source": [
    "import requests\n",
    "headers = {\n",
    "  'Cookie':c  \n",
    "}\n",
    "res = requests.get(url, headers = headers)\n",
    "with open('sound.mp3', 'wb') as f:\n",
    "    f.write(res.content)"
   ]
  },
  {
   "cell_type": "markdown",
   "metadata": {},
   "source": [
    "### 聲音辨識"
   ]
  },
  {
   "cell_type": "code",
   "execution_count": 260,
   "metadata": {},
   "outputs": [
    {
     "name": "stdout",
     "output_type": "stream",
     "text": [
      "Requirement already satisfied: SpeechRecognition in c:\\programdata\\anaconda3\\lib\\site-packages\n"
     ]
    }
   ],
   "source": [
    "#! pip install SpeechRecognition"
   ]
  },
  {
   "cell_type": "code",
   "execution_count": 302,
   "metadata": {},
   "outputs": [],
   "source": [
    "import speech_recognition as sr\n",
    "r = sr.Recognizer()\n",
    "with sr.AudioFile('sound.mp3') as source:\n",
    "    audio = r.record(source)\n",
    "s = r.recognize_google(audio, language='zh-TW')\n",
    "code = s.replace('-','')"
   ]
  },
  {
   "cell_type": "markdown",
   "metadata": {},
   "source": [
    "### 輸入驗證碼"
   ]
  },
  {
   "cell_type": "code",
   "execution_count": 303,
   "metadata": {
    "collapsed": true
   },
   "outputs": [],
   "source": [
    "driver.find_element_by_css_selector('#randInput').send_keys(code)\n",
    "driver.find_element_by_css_selector('.btn-primary').click()"
   ]
  }
 ],
 "metadata": {
  "kernelspec": {
   "display_name": "Python 3",
   "language": "python",
   "name": "python3"
  },
  "language_info": {
   "codemirror_mode": {
    "name": "ipython",
    "version": 3
   },
   "file_extension": ".py",
   "mimetype": "text/x-python",
   "name": "python",
   "nbconvert_exporter": "python",
   "pygments_lexer": "ipython3",
   "version": "3.6.3"
  }
 },
 "nbformat": 4,
 "nbformat_minor": 2
}
