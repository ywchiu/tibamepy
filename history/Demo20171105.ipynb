{
 "cells": [
  {
   "cell_type": "markdown",
   "metadata": {},
   "source": [
    "## 讀入CSV 檔"
   ]
  },
  {
   "cell_type": "markdown",
   "metadata": {},
   "source": [
    "### 方法一"
   ]
  },
  {
   "cell_type": "code",
   "execution_count": 29,
   "metadata": {
    "collapsed": true
   },
   "outputs": [],
   "source": [
    "import pandas\n",
    "orders = pandas.read_csv('https://raw.githubusercontent.com/ywchiu/tibamepy/master/data/purchase_order.tab', sep = '\\t', header=None)"
   ]
  },
  {
   "cell_type": "code",
   "execution_count": 30,
   "metadata": {},
   "outputs": [
    {
     "data": {
      "text/html": [
       "<div>\n",
       "<style>\n",
       "    .dataframe thead tr:only-child th {\n",
       "        text-align: right;\n",
       "    }\n",
       "\n",
       "    .dataframe thead th {\n",
       "        text-align: left;\n",
       "    }\n",
       "\n",
       "    .dataframe tbody tr th {\n",
       "        vertical-align: top;\n",
       "    }\n",
       "</style>\n",
       "<table border=\"1\" class=\"dataframe\">\n",
       "  <thead>\n",
       "    <tr style=\"text-align: right;\">\n",
       "      <th></th>\n",
       "      <th>Time</th>\n",
       "      <th>Action</th>\n",
       "      <th>User</th>\n",
       "      <th>Product</th>\n",
       "      <th>Quantity</th>\n",
       "      <th>Price</th>\n",
       "    </tr>\n",
       "  </thead>\n",
       "  <tbody>\n",
       "    <tr>\n",
       "      <th>0</th>\n",
       "      <td>2015-07-01 00:00:01</td>\n",
       "      <td>order</td>\n",
       "      <td>U312622727</td>\n",
       "      <td>P0006944501</td>\n",
       "      <td>1</td>\n",
       "      <td>1069.0</td>\n",
       "    </tr>\n",
       "    <tr>\n",
       "      <th>1</th>\n",
       "      <td>2015-07-01 00:00:03</td>\n",
       "      <td>order</td>\n",
       "      <td>U239012343</td>\n",
       "      <td>P0006018073</td>\n",
       "      <td>1</td>\n",
       "      <td>1680.0</td>\n",
       "    </tr>\n",
       "    <tr>\n",
       "      <th>2</th>\n",
       "      <td>2015-07-01 00:00:19</td>\n",
       "      <td>order</td>\n",
       "      <td>U10007697373</td>\n",
       "      <td>P0002267974</td>\n",
       "      <td>1</td>\n",
       "      <td>285.0</td>\n",
       "    </tr>\n",
       "    <tr>\n",
       "      <th>3</th>\n",
       "      <td>2015-07-01 00:01:10</td>\n",
       "      <td>order</td>\n",
       "      <td>U296328517</td>\n",
       "      <td>P0016144236</td>\n",
       "      <td>1</td>\n",
       "      <td>550.0</td>\n",
       "    </tr>\n",
       "    <tr>\n",
       "      <th>4</th>\n",
       "      <td>2015-07-01 00:01:36</td>\n",
       "      <td>order</td>\n",
       "      <td>U300884570</td>\n",
       "      <td>P0014516980122</td>\n",
       "      <td>1</td>\n",
       "      <td>249.0</td>\n",
       "    </tr>\n",
       "  </tbody>\n",
       "</table>\n",
       "</div>"
      ],
      "text/plain": [
       "                  Time Action          User         Product  Quantity   Price\n",
       "0  2015-07-01 00:00:01  order    U312622727     P0006944501         1  1069.0\n",
       "1  2015-07-01 00:00:03  order    U239012343     P0006018073         1  1680.0\n",
       "2  2015-07-01 00:00:19  order  U10007697373     P0002267974         1   285.0\n",
       "3  2015-07-01 00:01:10  order    U296328517     P0016144236         1   550.0\n",
       "4  2015-07-01 00:01:36  order    U300884570  P0014516980122         1   249.0"
      ]
     },
     "execution_count": 30,
     "metadata": {},
     "output_type": "execute_result"
    }
   ],
   "source": [
    "orders.columns = ['Time','Action','User','Product','Quantity','Price']\n",
    "orders.head()"
   ]
  },
  {
   "cell_type": "code",
   "execution_count": 31,
   "metadata": {},
   "outputs": [
    {
     "name": "stdout",
     "output_type": "stream",
     "text": [
      "<class 'pandas.core.frame.DataFrame'>\n",
      "RangeIndex: 54772 entries, 0 to 54771\n",
      "Data columns (total 6 columns):\n",
      "Time        54772 non-null datetime64[ns]\n",
      "Action      54772 non-null object\n",
      "User        54772 non-null object\n",
      "Product     54772 non-null object\n",
      "Quantity    54772 non-null int64\n",
      "Price       54721 non-null float64\n",
      "dtypes: datetime64[ns](1), float64(1), int64(1), object(3)\n",
      "memory usage: 2.5+ MB\n"
     ]
    }
   ],
   "source": [
    "orders['Time'] = pandas.to_datetime(orders['Time'])\n",
    "orders.info()"
   ]
  },
  {
   "cell_type": "markdown",
   "metadata": {},
   "source": [
    "### 方法二"
   ]
  },
  {
   "cell_type": "code",
   "execution_count": 13,
   "metadata": {
    "collapsed": true
   },
   "outputs": [],
   "source": [
    "import pandas\n",
    "orders_url = 'https://raw.githubusercontent.com/ywchiu/tibamepy/master/data/purchase_order.tab'\n",
    "m_cols = ['Time','Action','User','Product','Quantity','Price']\n",
    "orders = pandas.read_csv(orders_url, sep = '\\t', \n",
    "                         header=None, names = m_cols,\n",
    "                         parse_dates={'Dates':[0]}, \n",
    "                         encoding = 'utf-8', \n",
    "                         dtype = {'Price':'object'})"
   ]
  },
  {
   "cell_type": "code",
   "execution_count": 14,
   "metadata": {},
   "outputs": [
    {
     "name": "stdout",
     "output_type": "stream",
     "text": [
      "<class 'pandas.core.frame.DataFrame'>\n",
      "RangeIndex: 54772 entries, 0 to 54771\n",
      "Data columns (total 6 columns):\n",
      "Dates       54772 non-null datetime64[ns]\n",
      "Action      54772 non-null object\n",
      "User        54772 non-null object\n",
      "Product     54772 non-null object\n",
      "Quantity    54772 non-null int64\n",
      "Price       54721 non-null object\n",
      "dtypes: datetime64[ns](1), int64(1), object(4)\n",
      "memory usage: 2.5+ MB\n"
     ]
    }
   ],
   "source": [
    "orders.info()"
   ]
  },
  {
   "cell_type": "code",
   "execution_count": 15,
   "metadata": {
    "collapsed": true
   },
   "outputs": [],
   "source": [
    "?pandas.read_csv"
   ]
  },
  {
   "cell_type": "markdown",
   "metadata": {},
   "source": [
    "## 讀入Excel 檔"
   ]
  },
  {
   "cell_type": "code",
   "execution_count": 2,
   "metadata": {},
   "outputs": [
    {
     "name": "stdout",
     "output_type": "stream",
     "text": [
      "WARNING *** file size (2662336) not 512 + multiple of sector size (512)\n"
     ]
    },
    {
     "data": {
      "text/html": [
       "<div>\n",
       "<style>\n",
       "    .dataframe thead tr:only-child th {\n",
       "        text-align: right;\n",
       "    }\n",
       "\n",
       "    .dataframe thead th {\n",
       "        text-align: left;\n",
       "    }\n",
       "\n",
       "    .dataframe tbody tr th {\n",
       "        vertical-align: top;\n",
       "    }\n",
       "</style>\n",
       "<table border=\"1\" class=\"dataframe\">\n",
       "  <thead>\n",
       "    <tr style=\"text-align: right;\">\n",
       "      <th></th>\n",
       "      <th>時間(月)</th>\n",
       "      <th>行業</th>\n",
       "      <th>受僱員工人數</th>\n",
       "      <th>每人每月薪資</th>\n",
       "      <th>經常性\n",
       "薪資</th>\n",
       "      <th>非經常性薪資</th>\n",
       "      <th>加班費</th>\n",
       "      <th>平均\n",
       "工時</th>\n",
       "      <th>正常\n",
       "工時</th>\n",
       "      <th>加班\n",
       "工時</th>\n",
       "    </tr>\n",
       "  </thead>\n",
       "  <tbody>\n",
       "    <tr>\n",
       "      <th>NaN</th>\n",
       "      <td>97/1</td>\n",
       "      <td>工業及服務業</td>\n",
       "      <td>6621763</td>\n",
       "      <td>65740</td>\n",
       "      <td>36804</td>\n",
       "      <td>28936</td>\n",
       "      <td>1502</td>\n",
       "      <td>188.0</td>\n",
       "      <td>178.9</td>\n",
       "      <td>9.1</td>\n",
       "    </tr>\n",
       "    <tr>\n",
       "      <th>NaN</th>\n",
       "      <td>97/1</td>\n",
       "      <td>工業部門</td>\n",
       "      <td>3056248</td>\n",
       "      <td>65834</td>\n",
       "      <td>35249</td>\n",
       "      <td>30585</td>\n",
       "      <td>2512</td>\n",
       "      <td>193.5</td>\n",
       "      <td>177.9</td>\n",
       "      <td>15.6</td>\n",
       "    </tr>\n",
       "    <tr>\n",
       "      <th>NaN</th>\n",
       "      <td>97/1</td>\n",
       "      <td>服務業部門</td>\n",
       "      <td>3565515</td>\n",
       "      <td>65660</td>\n",
       "      <td>38138</td>\n",
       "      <td>27522</td>\n",
       "      <td>636</td>\n",
       "      <td>183.4</td>\n",
       "      <td>179.8</td>\n",
       "      <td>3.6</td>\n",
       "    </tr>\n",
       "    <tr>\n",
       "      <th>NaN</th>\n",
       "      <td>97/1</td>\n",
       "      <td>礦業及土石採取業</td>\n",
       "      <td>4817</td>\n",
       "      <td>75724</td>\n",
       "      <td>39973</td>\n",
       "      <td>35751</td>\n",
       "      <td>1062</td>\n",
       "      <td>190.6</td>\n",
       "      <td>185.6</td>\n",
       "      <td>5.0</td>\n",
       "    </tr>\n",
       "    <tr>\n",
       "      <th>NaN</th>\n",
       "      <td>97/1</td>\n",
       "      <td>製造業</td>\n",
       "      <td>2568373</td>\n",
       "      <td>67400</td>\n",
       "      <td>34621</td>\n",
       "      <td>32779</td>\n",
       "      <td>2774</td>\n",
       "      <td>195.2</td>\n",
       "      <td>177.7</td>\n",
       "      <td>17.5</td>\n",
       "    </tr>\n",
       "  </tbody>\n",
       "</table>\n",
       "</div>"
      ],
      "text/plain": [
       "    時間(月)        行業   受僱員工人數  每人每月薪資  經常性\\n薪資 非經常性薪資   加班費  平均\\n工時  正常\\n工時  \\\n",
       "NaN  97/1    工業及服務業  6621763   65740    36804  28936  1502   188.0   178.9   \n",
       "NaN  97/1      工業部門  3056248   65834    35249  30585  2512   193.5   177.9   \n",
       "NaN  97/1     服務業部門  3565515   65660    38138  27522   636   183.4   179.8   \n",
       "NaN  97/1  礦業及土石採取業     4817   75724    39973  35751  1062   190.6   185.6   \n",
       "NaN  97/1       製造業  2568373   67400    34621  32779  2774   195.2   177.7   \n",
       "\n",
       "    加班\\n工時  \n",
       "NaN    9.1  \n",
       "NaN   15.6  \n",
       "NaN    3.6  \n",
       "NaN    5.0  \n",
       "NaN   17.5  "
      ]
     },
     "execution_count": 2,
     "metadata": {},
     "output_type": "execute_result"
    }
   ],
   "source": [
    "import pandas\n",
    "salary = pandas.read_excel('https://raw.githubusercontent.com/ywchiu/tibamepy/master/data/salary2.xls')\n",
    "salary.head()"
   ]
  },
  {
   "cell_type": "code",
   "execution_count": 3,
   "metadata": {},
   "outputs": [
    {
     "data": {
      "text/plain": [
       "415055"
      ]
     },
     "execution_count": 3,
     "metadata": {},
     "output_type": "execute_result"
    }
   ],
   "source": [
    "salary['每人每月薪資'].max()"
   ]
  },
  {
   "cell_type": "code",
   "execution_count": 4,
   "metadata": {},
   "outputs": [
    {
     "data": {
      "text/plain": [
       "Index(['時間(月)', '行業', '受僱員工人數', '每人每月薪資', '經常性\\n薪資', '非經常性薪資', '加班費', '平均\\n工時',\n",
       "       '正常\\n工時', '加班\\n工時'],\n",
       "      dtype='object')"
      ]
     },
     "execution_count": 4,
     "metadata": {},
     "output_type": "execute_result"
    }
   ],
   "source": [
    "salary.columns"
   ]
  },
  {
   "cell_type": "code",
   "execution_count": 5,
   "metadata": {},
   "outputs": [
    {
     "data": {
      "text/html": [
       "<div>\n",
       "<style>\n",
       "    .dataframe thead tr:only-child th {\n",
       "        text-align: right;\n",
       "    }\n",
       "\n",
       "    .dataframe thead th {\n",
       "        text-align: left;\n",
       "    }\n",
       "\n",
       "    .dataframe tbody tr th {\n",
       "        vertical-align: top;\n",
       "    }\n",
       "</style>\n",
       "<table border=\"1\" class=\"dataframe\">\n",
       "  <thead>\n",
       "    <tr style=\"text-align: right;\">\n",
       "      <th></th>\n",
       "      <th>時間(月)</th>\n",
       "      <th>行業</th>\n",
       "      <th>受僱員工人數</th>\n",
       "      <th>每人每月薪資</th>\n",
       "      <th>經常性\n",
       "薪資</th>\n",
       "      <th>非經常性薪資</th>\n",
       "      <th>加班費</th>\n",
       "      <th>平均\n",
       "工時</th>\n",
       "      <th>正常\n",
       "工時</th>\n",
       "      <th>加班\n",
       "工時</th>\n",
       "    </tr>\n",
       "  </thead>\n",
       "  <tbody>\n",
       "    <tr>\n",
       "      <th>NaN</th>\n",
       "      <td>106/2</td>\n",
       "      <td>其他保險及退休基金輔助業</td>\n",
       "      <td>465</td>\n",
       "      <td>84937</td>\n",
       "      <td>84059</td>\n",
       "      <td>878</td>\n",
       "      <td>878</td>\n",
       "      <td>146.9</td>\n",
       "      <td>144.0</td>\n",
       "      <td>2.9</td>\n",
       "    </tr>\n",
       "    <tr>\n",
       "      <th>NaN</th>\n",
       "      <td>106/1</td>\n",
       "      <td>其他保險及退休基金輔助業</td>\n",
       "      <td>463</td>\n",
       "      <td>187783</td>\n",
       "      <td>84023</td>\n",
       "      <td>103760</td>\n",
       "      <td>1146</td>\n",
       "      <td>147.9</td>\n",
       "      <td>143.8</td>\n",
       "      <td>4.1</td>\n",
       "    </tr>\n",
       "    <tr>\n",
       "      <th>NaN</th>\n",
       "      <td>106/3</td>\n",
       "      <td>其他保險及退休基金輔助業</td>\n",
       "      <td>465</td>\n",
       "      <td>84644</td>\n",
       "      <td>83994</td>\n",
       "      <td>650</td>\n",
       "      <td>650</td>\n",
       "      <td>188.6</td>\n",
       "      <td>186.5</td>\n",
       "      <td>2.1</td>\n",
       "    </tr>\n",
       "  </tbody>\n",
       "</table>\n",
       "</div>"
      ],
      "text/plain": [
       "     時間(月)            行業  受僱員工人數  每人每月薪資  經常性\\n薪資  非經常性薪資   加班費  平均\\n工時  \\\n",
       "NaN  106/2  其他保險及退休基金輔助業     465   84937    84059     878   878   146.9   \n",
       "NaN  106/1  其他保險及退休基金輔助業     463  187783    84023  103760  1146   147.9   \n",
       "NaN  106/3  其他保險及退休基金輔助業     465   84644    83994     650   650   188.6   \n",
       "\n",
       "     正常\\n工時 加班\\n工時  \n",
       "NaN   144.0    2.9  \n",
       "NaN   143.8    4.1  \n",
       "NaN   186.5    2.1  "
      ]
     },
     "execution_count": 5,
     "metadata": {},
     "output_type": "execute_result"
    }
   ],
   "source": [
    "salary.sort_values('經常性\\n薪資', ascending=False).head(3)"
   ]
  },
  {
   "cell_type": "code",
   "execution_count": 6,
   "metadata": {},
   "outputs": [
    {
     "data": {
      "text/plain": [
       "行業\n",
       "其他保險及退休基金輔助業    77506.517241\n",
       "電力供應業           69555.060345\n",
       "海洋水運業           67587.112069\n",
       "Name: 經常性\\n薪資, dtype: float64"
      ]
     },
     "execution_count": 6,
     "metadata": {},
     "output_type": "execute_result"
    }
   ],
   "source": [
    "salary.groupby('行業')['經常性\\n薪資'].mean().sort_values(ascending=False).head(3)"
   ]
  },
  {
   "cell_type": "code",
   "execution_count": 7,
   "metadata": {
    "collapsed": true
   },
   "outputs": [],
   "source": [
    "banking = salary[salary['行業'] == '銀行業'][['時間(月)','經常性\\n薪資']]"
   ]
  },
  {
   "cell_type": "code",
   "execution_count": 8,
   "metadata": {
    "collapsed": true
   },
   "outputs": [],
   "source": [
    "banking.index = banking['時間(月)']"
   ]
  },
  {
   "cell_type": "code",
   "execution_count": 9,
   "metadata": {
    "scrolled": true
   },
   "outputs": [
    {
     "name": "stdout",
     "output_type": "stream",
     "text": [
      "Populating the interactive namespace from numpy and matplotlib\n"
     ]
    },
    {
     "data": {
      "image/png": "[encoded data removed]",
      "text/plain": [
       "<matplotlib.figure.Figure at 0xb2f3198>"
      ]
     },
     "metadata": {},
     "output_type": "display_data"
    }
   ],
   "source": [
    "%pylab inline\n",
    "banking['經常性\\n薪資'].plot(kind = 'line')\n",
    "pylab.savefig('banking.png')"
   ]
  },
  {
   "cell_type": "markdown",
   "metadata": {},
   "source": [
    "## 如何讓圖片顯示中文\n",
    "1. C:\\ProgramData\\Anaconda3\\Lib\\site-packages\\matplotlib\\mpl-data\n",
    "2. 修改 matplotlibrc\n",
    "3. 找到 #font.sans-serif (line 211)\n",
    "4. 拿掉註解 #, 後面加入 Microsoft YaHei\n",
    "5. 將 font.family 改成 sans-serif, 拿掉註解 (199)\n",
    "6. Restart Kernel\n"
   ]
  },
  {
   "cell_type": "markdown",
   "metadata": {},
   "source": [
    "## 檔案輸出"
   ]
  },
  {
   "cell_type": "code",
   "execution_count": 49,
   "metadata": {
    "collapsed": true
   },
   "outputs": [],
   "source": [
    "orders.to_csv('orders.csv')"
   ]
  },
  {
   "cell_type": "code",
   "execution_count": 53,
   "metadata": {
    "collapsed": true
   },
   "outputs": [],
   "source": [
    "banking.to_csv('banking.csv')"
   ]
  },
  {
   "cell_type": "code",
   "execution_count": 50,
   "metadata": {
    "collapsed": true
   },
   "outputs": [],
   "source": [
    "orders.to_csv('orders.tsv', sep = '\\t')"
   ]
  },
  {
   "cell_type": "code",
   "execution_count": 54,
   "metadata": {
    "collapsed": true
   },
   "outputs": [],
   "source": [
    "orders.to_csv('orders.tsv', sep = '\\t', chunksize=1000)"
   ]
  },
  {
   "cell_type": "code",
   "execution_count": 52,
   "metadata": {
    "collapsed": true
   },
   "outputs": [],
   "source": [
    "orders.to_excel('orders.xlsx')"
   ]
  },
  {
   "cell_type": "code",
   "execution_count": 56,
   "metadata": {},
   "outputs": [
    {
     "data": {
      "text/plain": [
       "'{\"Dates\":{\"0\":1435708801000,\"1\":1435708803000,\"2\":1435708819000,\"3\":1435708870000,\"4\":1435708896000},\"Action\":{\"0\":\"order\",\"1\":\"order\",\"2\":\"order\",\"3\":\"order\",\"4\":\"order\"},\"User\":{\"0\":\"U312622727\",\"1\":\"U239012343\",\"2\":\"U10007697373\",\"3\":\"U296328517\",\"4\":\"U300884570\"},\"Product\":{\"0\":\"P0006944501\",\"1\":\"P0006018073\",\"2\":\"P0002267974\",\"3\":\"P0016144236\",\"4\":\"P0014516980122\"},\"Quantity\":{\"0\":1,\"1\":1,\"2\":1,\"3\":1,\"4\":1},\"Price\":{\"0\":\"1069\",\"1\":\"1680\",\"2\":\"285\",\"3\":\"550\",\"4\":\"249\"}}'"
      ]
     },
     "execution_count": 56,
     "metadata": {},
     "output_type": "execute_result"
    }
   ],
   "source": [
    "orders.head().to_json()"
   ]
  },
  {
   "cell_type": "code",
   "execution_count": 57,
   "metadata": {},
   "outputs": [
    {
     "data": {
      "text/plain": [
       "'{\"0\":{\"Dates\":1435708801000,\"Action\":\"order\",\"User\":\"U312622727\",\"Product\":\"P0006944501\",\"Quantity\":1,\"Price\":\"1069\"},\"1\":{\"Dates\":1435708803000,\"Action\":\"order\",\"User\":\"U239012343\",\"Product\":\"P0006018073\",\"Quantity\":1,\"Price\":\"1680\"},\"2\":{\"Dates\":1435708819000,\"Action\":\"order\",\"User\":\"U10007697373\",\"Product\":\"P0002267974\",\"Quantity\":1,\"Price\":\"285\"},\"3\":{\"Dates\":1435708870000,\"Action\":\"order\",\"User\":\"U296328517\",\"Product\":\"P0016144236\",\"Quantity\":1,\"Price\":\"550\"},\"4\":{\"Dates\":1435708896000,\"Action\":\"order\",\"User\":\"U300884570\",\"Product\":\"P0014516980122\",\"Quantity\":1,\"Price\":\"249\"}}'"
      ]
     },
     "execution_count": 57,
     "metadata": {},
     "output_type": "execute_result"
    }
   ],
   "source": [
    "orders.head().T.to_json()"
   ]
  },
  {
   "cell_type": "code",
   "execution_count": 59,
   "metadata": {
    "collapsed": true
   },
   "outputs": [],
   "source": [
    "orders.head().to_clipboard()"
   ]
  },
  {
   "cell_type": "code",
   "execution_count": 60,
   "metadata": {},
   "outputs": [
    {
     "data": {
      "text/html": [
       "<div>\n",
       "<style>\n",
       "    .dataframe thead tr:only-child th {\n",
       "        text-align: right;\n",
       "    }\n",
       "\n",
       "    .dataframe thead th {\n",
       "        text-align: left;\n",
       "    }\n",
       "\n",
       "    .dataframe tbody tr th {\n",
       "        vertical-align: top;\n",
       "    }\n",
       "</style>\n",
       "<table border=\"1\" class=\"dataframe\">\n",
       "  <thead>\n",
       "    <tr style=\"text-align: right;\">\n",
       "      <th></th>\n",
       "      <th></th>\n",
       "      <th>Dates</th>\n",
       "      <th>Action</th>\n",
       "      <th>User</th>\n",
       "      <th>Product</th>\n",
       "      <th>Quantity</th>\n",
       "      <th>Price</th>\n",
       "    </tr>\n",
       "  </thead>\n",
       "  <tbody>\n",
       "    <tr>\n",
       "      <th>0</th>\n",
       "      <th>2015-07-01</th>\n",
       "      <td>00:00:01</td>\n",
       "      <td>order</td>\n",
       "      <td>U312622727</td>\n",
       "      <td>P0006944501</td>\n",
       "      <td>1</td>\n",
       "      <td>1069</td>\n",
       "    </tr>\n",
       "    <tr>\n",
       "      <th>1</th>\n",
       "      <th>2015-07-01</th>\n",
       "      <td>00:00:03</td>\n",
       "      <td>order</td>\n",
       "      <td>U239012343</td>\n",
       "      <td>P0006018073</td>\n",
       "      <td>1</td>\n",
       "      <td>1680</td>\n",
       "    </tr>\n",
       "  </tbody>\n",
       "</table>\n",
       "</div>"
      ],
      "text/plain": [
       "                 Dates Action        User      Product  Quantity  Price\n",
       "0 2015-07-01  00:00:01  order  U312622727  P0006944501         1   1069\n",
       "1 2015-07-01  00:00:03  order  U239012343  P0006018073         1   1680"
      ]
     },
     "execution_count": 60,
     "metadata": {},
     "output_type": "execute_result"
    }
   ],
   "source": [
    "df1 = pandas.read_clipboard()\n",
    "df1"
   ]
  },
  {
   "cell_type": "code",
   "execution_count": 70,
   "metadata": {
    "collapsed": true
   },
   "outputs": [],
   "source": [
    "product_list = pandas.read_clipboard(header=None)\n",
    "product_items = product_list[0].tolist()"
   ]
  },
  {
   "cell_type": "code",
   "execution_count": 71,
   "metadata": {},
   "outputs": [
    {
     "data": {
      "text/plain": [
       "['P0012662252',\n",
       " 'P0004401294',\n",
       " 'P0000319874',\n",
       " 'P0006944501',\n",
       " 'P0003248055',\n",
       " 'P0018924850',\n",
       " 'P0013850723']"
      ]
     },
     "execution_count": 71,
     "metadata": {},
     "output_type": "execute_result"
    }
   ],
   "source": [
    "product_items"
   ]
  },
  {
   "cell_type": "code",
   "execution_count": 73,
   "metadata": {},
   "outputs": [
    {
     "data": {
      "text/html": [
       "<div>\n",
       "<style>\n",
       "    .dataframe thead tr:only-child th {\n",
       "        text-align: right;\n",
       "    }\n",
       "\n",
       "    .dataframe thead th {\n",
       "        text-align: left;\n",
       "    }\n",
       "\n",
       "    .dataframe tbody tr th {\n",
       "        vertical-align: top;\n",
       "    }\n",
       "</style>\n",
       "<table border=\"1\" class=\"dataframe\">\n",
       "  <thead>\n",
       "    <tr style=\"text-align: right;\">\n",
       "      <th></th>\n",
       "      <th>Dates</th>\n",
       "      <th>Action</th>\n",
       "      <th>User</th>\n",
       "      <th>Product</th>\n",
       "      <th>Quantity</th>\n",
       "      <th>Price</th>\n",
       "    </tr>\n",
       "  </thead>\n",
       "  <tbody>\n",
       "    <tr>\n",
       "      <th>0</th>\n",
       "      <td>2015-07-01 00:00:01</td>\n",
       "      <td>order</td>\n",
       "      <td>U312622727</td>\n",
       "      <td>P0006944501</td>\n",
       "      <td>1</td>\n",
       "      <td>1069</td>\n",
       "    </tr>\n",
       "    <tr>\n",
       "      <th>6</th>\n",
       "      <td>2015-07-01 00:01:58</td>\n",
       "      <td>order</td>\n",
       "      <td>U465124055</td>\n",
       "      <td>P0012662252</td>\n",
       "      <td>1</td>\n",
       "      <td>488</td>\n",
       "    </tr>\n",
       "    <tr>\n",
       "      <th>7</th>\n",
       "      <td>2015-07-01 00:02:18</td>\n",
       "      <td>order</td>\n",
       "      <td>U403001364</td>\n",
       "      <td>P0004401294</td>\n",
       "      <td>1</td>\n",
       "      <td>276</td>\n",
       "    </tr>\n",
       "    <tr>\n",
       "      <th>8</th>\n",
       "      <td>2015-07-01 00:03:12</td>\n",
       "      <td>order</td>\n",
       "      <td>U465123247</td>\n",
       "      <td>P0000319874</td>\n",
       "      <td>1</td>\n",
       "      <td>2199</td>\n",
       "    </tr>\n",
       "    <tr>\n",
       "      <th>9</th>\n",
       "      <td>2015-07-01 00:03:45</td>\n",
       "      <td>order</td>\n",
       "      <td>U311808547</td>\n",
       "      <td>P0006944501</td>\n",
       "      <td>1</td>\n",
       "      <td>1069</td>\n",
       "    </tr>\n",
       "  </tbody>\n",
       "</table>\n",
       "</div>"
      ],
      "text/plain": [
       "                Dates Action        User      Product  Quantity Price\n",
       "0 2015-07-01 00:00:01  order  U312622727  P0006944501         1  1069\n",
       "6 2015-07-01 00:01:58  order  U465124055  P0012662252         1   488\n",
       "7 2015-07-01 00:02:18  order  U403001364  P0004401294         1   276\n",
       "8 2015-07-01 00:03:12  order  U465123247  P0000319874         1  2199\n",
       "9 2015-07-01 00:03:45  order  U311808547  P0006944501         1  1069"
      ]
     },
     "execution_count": 73,
     "metadata": {},
     "output_type": "execute_result"
    }
   ],
   "source": [
    "orders[orders['Product'].isin(product_items)].head()"
   ]
  },
  {
   "cell_type": "markdown",
   "metadata": {},
   "source": [
    "## 讀取HTML\n"
   ]
  },
  {
   "cell_type": "code",
   "execution_count": 83,
   "metadata": {},
   "outputs": [
    {
     "name": "stderr",
     "output_type": "stream",
     "text": [
      "C:\\ProgramData\\Anaconda3\\lib\\site-packages\\urllib3\\connectionpool.py:858: InsecureRequestWarning: Unverified HTTPS request is being made. Adding certificate verification is strongly advised. See: https://urllib3.readthedocs.io/en/latest/advanced-usage.html#ssl-warnings\n",
      "  InsecureRequestWarning)\n"
     ]
    }
   ],
   "source": [
    "import requests\n",
    "headers = {\n",
    "    'user-agent':'Mozilla/5.0 (Windows NT 6.1; Win64; x64) AppleWebKit/537.36 (KHTML, like Gecko) Chrome/61.0.3163.100 Safari/537.36'\n",
    "}\n",
    "res = requests.get('https://goodinfo.tw/StockInfo/StockBzPerformance.asp?STOCK_ID=2330',verify=False, headers = headers)"
   ]
  },
  {
   "cell_type": "code",
   "execution_count": 85,
   "metadata": {
    "collapsed": true
   },
   "outputs": [],
   "source": [
    "res.encoding='utf-8'\n",
    "dfs = pandas.read_html(res.text)"
   ]
  },
  {
   "cell_type": "code",
   "execution_count": 86,
   "metadata": {},
   "outputs": [
    {
     "data": {
      "text/plain": [
       "list"
      ]
     },
     "execution_count": 86,
     "metadata": {},
     "output_type": "execute_result"
    }
   ],
   "source": [
    "type(dfs)"
   ]
  },
  {
   "cell_type": "code",
   "execution_count": 87,
   "metadata": {},
   "outputs": [
    {
     "data": {
      "text/plain": [
       "18"
      ]
     },
     "execution_count": 87,
     "metadata": {},
     "output_type": "execute_result"
    }
   ],
   "source": [
    "len(dfs)"
   ]
  },
  {
   "cell_type": "code",
   "execution_count": 98,
   "metadata": {},
   "outputs": [
    {
     "data": {
      "text/html": [
       "<div>\n",
       "<style>\n",
       "    .dataframe thead tr:only-child th {\n",
       "        text-align: right;\n",
       "    }\n",
       "\n",
       "    .dataframe thead th {\n",
       "        text-align: left;\n",
       "    }\n",
       "\n",
       "    .dataframe tbody tr th {\n",
       "        vertical-align: top;\n",
       "    }\n",
       "</style>\n",
       "<table border=\"1\" class=\"dataframe\">\n",
       "  <thead>\n",
       "    <tr>\n",
       "      <th></th>\n",
       "      <th>年度</th>\n",
       "      <th>股本(億)</th>\n",
       "      <th>財報評分</th>\n",
       "      <th>年度股價(元)</th>\n",
       "      <th>獲利金額(億)</th>\n",
       "      <th>獲利率(%)</th>\n",
       "      <th>ROE(%)</th>\n",
       "      <th>ROA(%)</th>\n",
       "      <th>EPS(元)</th>\n",
       "      <th>BPS(元)</th>\n",
       "      <th>...</th>\n",
       "      <th>Unnamed: 11_level_0</th>\n",
       "      <th>Unnamed: 12_level_0</th>\n",
       "      <th>Unnamed: 13_level_0</th>\n",
       "      <th>Unnamed: 14_level_0</th>\n",
       "      <th>Unnamed: 15_level_0</th>\n",
       "      <th>Unnamed: 16_level_0</th>\n",
       "      <th>Unnamed: 17_level_0</th>\n",
       "      <th>Unnamed: 18_level_0</th>\n",
       "      <th>Unnamed: 19_level_0</th>\n",
       "      <th>Unnamed: 20_level_0</th>\n",
       "    </tr>\n",
       "    <tr>\n",
       "      <th></th>\n",
       "      <th>收盤</th>\n",
       "      <th>平均</th>\n",
       "      <th>漲跌</th>\n",
       "      <th>漲跌(%)</th>\n",
       "      <th>營業收入</th>\n",
       "      <th>營業毛利</th>\n",
       "      <th>營業利益</th>\n",
       "      <th>業外損益</th>\n",
       "      <th>稅後淨利</th>\n",
       "      <th>營業毛利</th>\n",
       "      <th>...</th>\n",
       "      <th>業外損益</th>\n",
       "      <th>稅後淨利</th>\n",
       "      <th>稅後EPS</th>\n",
       "      <th>成長(元)</th>\n",
       "      <th>Unnamed: 15_level_1</th>\n",
       "      <th>Unnamed: 16_level_1</th>\n",
       "      <th>Unnamed: 17_level_1</th>\n",
       "      <th>Unnamed: 18_level_1</th>\n",
       "      <th>Unnamed: 19_level_1</th>\n",
       "      <th>Unnamed: 20_level_1</th>\n",
       "    </tr>\n",
       "  </thead>\n",
       "  <tbody>\n",
       "    <tr>\n",
       "      <th>0</th>\n",
       "      <td>17Q2</td>\n",
       "      <td>2593</td>\n",
       "      <td>94</td>\n",
       "      <td>239.0</td>\n",
       "      <td>206.0</td>\n",
       "      <td>57.5</td>\n",
       "      <td>31.7</td>\n",
       "      <td>4478</td>\n",
       "      <td>2302</td>\n",
       "      <td>1786</td>\n",
       "      <td>...</td>\n",
       "      <td>1539</td>\n",
       "      <td>51.4</td>\n",
       "      <td>39.9</td>\n",
       "      <td>1.19</td>\n",
       "      <td>34.4</td>\n",
       "      <td>22.5(年估)</td>\n",
       "      <td>15.9(年估)</td>\n",
       "      <td>5.94</td>\n",
       "      <td>0.65</td>\n",
       "      <td>51.74</td>\n",
       "    </tr>\n",
       "    <tr>\n",
       "      <th>1</th>\n",
       "      <td>2016</td>\n",
       "      <td>2593</td>\n",
       "      <td>91</td>\n",
       "      <td>181.5</td>\n",
       "      <td>166.0</td>\n",
       "      <td>38.5</td>\n",
       "      <td>26.9</td>\n",
       "      <td>9479</td>\n",
       "      <td>4748</td>\n",
       "      <td>3780</td>\n",
       "      <td>...</td>\n",
       "      <td>3342</td>\n",
       "      <td>50.1</td>\n",
       "      <td>39.9</td>\n",
       "      <td>0.84</td>\n",
       "      <td>35.3</td>\n",
       "      <td>25.6</td>\n",
       "      <td>18.9</td>\n",
       "      <td>12.89</td>\n",
       "      <td>1.07</td>\n",
       "      <td>53.58</td>\n",
       "    </tr>\n",
       "    <tr>\n",
       "      <th>2</th>\n",
       "      <td>2015</td>\n",
       "      <td>2593</td>\n",
       "      <td>94</td>\n",
       "      <td>143.0</td>\n",
       "      <td>140.0</td>\n",
       "      <td>2.0</td>\n",
       "      <td>1.4</td>\n",
       "      <td>8435</td>\n",
       "      <td>4104</td>\n",
       "      <td>3200</td>\n",
       "      <td>...</td>\n",
       "      <td>3066</td>\n",
       "      <td>48.7</td>\n",
       "      <td>37.9</td>\n",
       "      <td>3.60</td>\n",
       "      <td>36.3</td>\n",
       "      <td>27</td>\n",
       "      <td>19.4</td>\n",
       "      <td>11.82</td>\n",
       "      <td>1.64</td>\n",
       "      <td>47.11</td>\n",
       "    </tr>\n",
       "  </tbody>\n",
       "</table>\n",
       "<p>3 rows × 21 columns</p>\n",
       "</div>"
      ],
      "text/plain": [
       "     年度 股本(億) 財報評分 年度股價(元) 獲利金額(億) 獲利率(%) ROE(%) ROA(%) EPS(元) BPS(元)  \\\n",
       "     收盤    平均   漲跌   漲跌(%)    營業收入   營業毛利   營業利益   業外損益   稅後淨利   營業毛利   \n",
       "0  17Q2  2593   94   239.0   206.0   57.5   31.7   4478   2302   1786   \n",
       "1  2016  2593   91   181.5   166.0   38.5   26.9   9479   4748   3780   \n",
       "2  2015  2593   94   143.0   140.0    2.0    1.4   8435   4104   3200   \n",
       "\n",
       "          ...         Unnamed: 11_level_0 Unnamed: 12_level_0  \\\n",
       "          ...                        業外損益                稅後淨利   \n",
       "0         ...                        1539                51.4   \n",
       "1         ...                        3342                50.1   \n",
       "2         ...                        3066                48.7   \n",
       "\n",
       "  Unnamed: 13_level_0 Unnamed: 14_level_0 Unnamed: 15_level_0  \\\n",
       "                稅後EPS               成長(元) Unnamed: 15_level_1   \n",
       "0                39.9                1.19                34.4   \n",
       "1                39.9                0.84                35.3   \n",
       "2                37.9                3.60                36.3   \n",
       "\n",
       "  Unnamed: 16_level_0 Unnamed: 17_level_0 Unnamed: 18_level_0  \\\n",
       "  Unnamed: 16_level_1 Unnamed: 17_level_1 Unnamed: 18_level_1   \n",
       "0            22.5(年估)            15.9(年估)                5.94   \n",
       "1                25.6                18.9               12.89   \n",
       "2                  27                19.4               11.82   \n",
       "\n",
       "  Unnamed: 19_level_0 Unnamed: 20_level_0  \n",
       "  Unnamed: 19_level_1 Unnamed: 20_level_1  \n",
       "0                0.65               51.74  \n",
       "1                1.07               53.58  \n",
       "2                1.64               47.11  \n",
       "\n",
       "[3 rows x 21 columns]"
      ]
     },
     "execution_count": 98,
     "metadata": {},
     "output_type": "execute_result"
    }
   ],
   "source": [
    "dfs[16].head(3)"
   ]
  },
  {
   "cell_type": "code",
   "execution_count": 99,
   "metadata": {
    "collapsed": true
   },
   "outputs": [],
   "source": [
    "tw2330 = dfs[16]"
   ]
  },
  {
   "cell_type": "code",
   "execution_count": 100,
   "metadata": {
    "collapsed": true
   },
   "outputs": [],
   "source": [
    "tw2330.to_html('tw2330.html')"
   ]
  },
  {
   "cell_type": "markdown",
   "metadata": {},
   "source": [
    "## 分組切割"
   ]
  },
  {
   "cell_type": "code",
   "execution_count": 16,
   "metadata": {
    "collapsed": true
   },
   "outputs": [],
   "source": [
    "?pandas.cut"
   ]
  },
  {
   "cell_type": "code",
   "execution_count": 33,
   "metadata": {
    "collapsed": true
   },
   "outputs": [],
   "source": [
    "import numpy\n"
   ]
  },
  {
   "cell_type": "code",
   "execution_count": 34,
   "metadata": {
    "collapsed": true
   },
   "outputs": [],
   "source": [
    "orders['date'] = pandas.to_datetime(orders['Time'].dt.date)"
   ]
  },
  {
   "cell_type": "code",
   "execution_count": 35,
   "metadata": {
    "collapsed": true
   },
   "outputs": [],
   "source": [
    "a = (orders['Time'] - orders['date'])"
   ]
  },
  {
   "cell_type": "code",
   "execution_count": 36,
   "metadata": {
    "scrolled": true
   },
   "outputs": [
    {
     "data": {
      "text/html": [
       "<div>\n",
       "<style>\n",
       "    .dataframe thead tr:only-child th {\n",
       "        text-align: right;\n",
       "    }\n",
       "\n",
       "    .dataframe thead th {\n",
       "        text-align: left;\n",
       "    }\n",
       "\n",
       "    .dataframe tbody tr th {\n",
       "        vertical-align: top;\n",
       "    }\n",
       "</style>\n",
       "<table border=\"1\" class=\"dataframe\">\n",
       "  <thead>\n",
       "    <tr style=\"text-align: right;\">\n",
       "      <th></th>\n",
       "      <th>Time</th>\n",
       "      <th>Action</th>\n",
       "      <th>User</th>\n",
       "      <th>Product</th>\n",
       "      <th>Quantity</th>\n",
       "      <th>Price</th>\n",
       "      <th>date</th>\n",
       "      <th>tiemgroup</th>\n",
       "    </tr>\n",
       "  </thead>\n",
       "  <tbody>\n",
       "    <tr>\n",
       "      <th>0</th>\n",
       "      <td>2015-07-01 00:00:01</td>\n",
       "      <td>order</td>\n",
       "      <td>U312622727</td>\n",
       "      <td>P0006944501</td>\n",
       "      <td>1</td>\n",
       "      <td>1069.0</td>\n",
       "      <td>2015-07-01</td>\n",
       "      <td>300.0</td>\n",
       "    </tr>\n",
       "    <tr>\n",
       "      <th>1</th>\n",
       "      <td>2015-07-01 00:00:03</td>\n",
       "      <td>order</td>\n",
       "      <td>U239012343</td>\n",
       "      <td>P0006018073</td>\n",
       "      <td>1</td>\n",
       "      <td>1680.0</td>\n",
       "      <td>2015-07-01</td>\n",
       "      <td>300.0</td>\n",
       "    </tr>\n",
       "    <tr>\n",
       "      <th>2</th>\n",
       "      <td>2015-07-01 00:00:19</td>\n",
       "      <td>order</td>\n",
       "      <td>U10007697373</td>\n",
       "      <td>P0002267974</td>\n",
       "      <td>1</td>\n",
       "      <td>285.0</td>\n",
       "      <td>2015-07-01</td>\n",
       "      <td>300.0</td>\n",
       "    </tr>\n",
       "    <tr>\n",
       "      <th>3</th>\n",
       "      <td>2015-07-01 00:01:10</td>\n",
       "      <td>order</td>\n",
       "      <td>U296328517</td>\n",
       "      <td>P0016144236</td>\n",
       "      <td>1</td>\n",
       "      <td>550.0</td>\n",
       "      <td>2015-07-01</td>\n",
       "      <td>300.0</td>\n",
       "    </tr>\n",
       "    <tr>\n",
       "      <th>4</th>\n",
       "      <td>2015-07-01 00:01:36</td>\n",
       "      <td>order</td>\n",
       "      <td>U300884570</td>\n",
       "      <td>P0014516980122</td>\n",
       "      <td>1</td>\n",
       "      <td>249.0</td>\n",
       "      <td>2015-07-01</td>\n",
       "      <td>300.0</td>\n",
       "    </tr>\n",
       "  </tbody>\n",
       "</table>\n",
       "</div>"
      ],
      "text/plain": [
       "                 Time Action          User         Product  Quantity   Price  \\\n",
       "0 2015-07-01 00:00:01  order    U312622727     P0006944501         1  1069.0   \n",
       "1 2015-07-01 00:00:03  order    U239012343     P0006018073         1  1680.0   \n",
       "2 2015-07-01 00:00:19  order  U10007697373     P0002267974         1   285.0   \n",
       "3 2015-07-01 00:01:10  order    U296328517     P0016144236         1   550.0   \n",
       "4 2015-07-01 00:01:36  order    U300884570  P0014516980122         1   249.0   \n",
       "\n",
       "        date  tiemgroup  \n",
       "0 2015-07-01      300.0  \n",
       "1 2015-07-01      300.0  \n",
       "2 2015-07-01      300.0  \n",
       "3 2015-07-01      300.0  \n",
       "4 2015-07-01      300.0  "
      ]
     },
     "execution_count": 36,
     "metadata": {},
     "output_type": "execute_result"
    }
   ],
   "source": [
    "import math\n",
    "orders['tiemgroup'] = numpy.ceil(a.dt.total_seconds() / 300) * 300 \n",
    "#orders.date +  pandas.Timedelta(seconds=orders['tiemgroup'])\n",
    "orders.head()"
   ]
  },
  {
   "cell_type": "code",
   "execution_count": 43,
   "metadata": {
    "collapsed": true
   },
   "outputs": [],
   "source": [
    "?pandas.to_timedelta"
   ]
  },
  {
   "cell_type": "code",
   "execution_count": 46,
   "metadata": {},
   "outputs": [],
   "source": [
    "orders['Time2'] = orders['date'] + pandas.to_timedelta(orders['tiemgroup'] , unit = 's')"
   ]
  },
  {
   "cell_type": "code",
   "execution_count": 50,
   "metadata": {},
   "outputs": [
    {
     "data": {
      "text/html": [
       "<div>\n",
       "<style>\n",
       "    .dataframe thead tr:only-child th {\n",
       "        text-align: right;\n",
       "    }\n",
       "\n",
       "    .dataframe thead th {\n",
       "        text-align: left;\n",
       "    }\n",
       "\n",
       "    .dataframe tbody tr th {\n",
       "        vertical-align: top;\n",
       "    }\n",
       "</style>\n",
       "<table border=\"1\" class=\"dataframe\">\n",
       "  <thead>\n",
       "    <tr style=\"text-align: right;\">\n",
       "      <th></th>\n",
       "      <th>Time</th>\n",
       "      <th>Action</th>\n",
       "      <th>User</th>\n",
       "      <th>Product</th>\n",
       "      <th>Quantity</th>\n",
       "      <th>Price</th>\n",
       "      <th>date</th>\n",
       "      <th>tiemgroup</th>\n",
       "      <th>Time2</th>\n",
       "    </tr>\n",
       "  </thead>\n",
       "  <tbody>\n",
       "    <tr>\n",
       "      <th>0</th>\n",
       "      <td>2015-07-01 00:00:01</td>\n",
       "      <td>order</td>\n",
       "      <td>U312622727</td>\n",
       "      <td>P0006944501</td>\n",
       "      <td>1</td>\n",
       "      <td>1069.0</td>\n",
       "      <td>2015-07-01</td>\n",
       "      <td>300.0</td>\n",
       "      <td>2015-07-01 00:05:00</td>\n",
       "    </tr>\n",
       "    <tr>\n",
       "      <th>1</th>\n",
       "      <td>2015-07-01 00:00:03</td>\n",
       "      <td>order</td>\n",
       "      <td>U239012343</td>\n",
       "      <td>P0006018073</td>\n",
       "      <td>1</td>\n",
       "      <td>1680.0</td>\n",
       "      <td>2015-07-01</td>\n",
       "      <td>300.0</td>\n",
       "      <td>2015-07-01 00:05:00</td>\n",
       "    </tr>\n",
       "    <tr>\n",
       "      <th>2</th>\n",
       "      <td>2015-07-01 00:00:19</td>\n",
       "      <td>order</td>\n",
       "      <td>U10007697373</td>\n",
       "      <td>P0002267974</td>\n",
       "      <td>1</td>\n",
       "      <td>285.0</td>\n",
       "      <td>2015-07-01</td>\n",
       "      <td>300.0</td>\n",
       "      <td>2015-07-01 00:05:00</td>\n",
       "    </tr>\n",
       "  </tbody>\n",
       "</table>\n",
       "</div>"
      ],
      "text/plain": [
       "                 Time Action          User      Product  Quantity   Price  \\\n",
       "0 2015-07-01 00:00:01  order    U312622727  P0006944501         1  1069.0   \n",
       "1 2015-07-01 00:00:03  order    U239012343  P0006018073         1  1680.0   \n",
       "2 2015-07-01 00:00:19  order  U10007697373  P0002267974         1   285.0   \n",
       "\n",
       "        date  tiemgroup               Time2  \n",
       "0 2015-07-01      300.0 2015-07-01 00:05:00  \n",
       "1 2015-07-01      300.0 2015-07-01 00:05:00  \n",
       "2 2015-07-01      300.0 2015-07-01 00:05:00  "
      ]
     },
     "execution_count": 50,
     "metadata": {},
     "output_type": "execute_result"
    }
   ],
   "source": [
    "orders.head(3)"
   ]
  },
  {
   "cell_type": "markdown",
   "metadata": {},
   "source": [
    "## 資料儲存"
   ]
  },
  {
   "cell_type": "code",
   "execution_count": 68,
   "metadata": {},
   "outputs": [
    {
     "name": "stdout",
     "output_type": "stream",
     "text": [
      "('3.14.2',)\n"
     ]
    }
   ],
   "source": [
    "import sqlite3\n",
    "con = sqlite3.connect('test.sqlite')\n",
    "cur = con.cursor()\n",
    "cur.execute('SELECT SQLITE_VERSION()')\n",
    "data = cur.fetchone()\n",
    "print(data)\n",
    "con.close()"
   ]
  },
  {
   "cell_type": "code",
   "execution_count": 70,
   "metadata": {},
   "outputs": [
    {
     "name": "stdout",
     "output_type": "stream",
     "text": [
      "('3.14.2',)\n"
     ]
    }
   ],
   "source": [
    "import sqlite3 \n",
    "with sqlite3.connect('test.sqlite') as con:\n",
    "    cur = con.cursor()\n",
    "    cur.execute('SELECT SQLITE_VERSION()')\n",
    "    data = cur.fetchone()\n",
    "    print(data)"
   ]
  },
  {
   "cell_type": "code",
   "execution_count": 72,
   "metadata": {},
   "outputs": [
    {
     "name": "stdout",
     "output_type": "stream",
     "text": [
      "[('0912173381', 'United State'), ('0928375018', 'Tokyo Japan'), ('0957209108', 'Taipei')]\n"
     ]
    }
   ],
   "source": [
    "import sqlite3 \n",
    "with sqlite3.connect('test.sqlite') as con:\n",
    "    cur = con.cursor()\n",
    "    cur.execute(\"DROP TABLE IF EXISTS PhoneAddress\")\n",
    "    cur.execute(\"CREATE TABLE PhoneAddress(phone CHAR(10) PRIMARY KEY, address TEXT, name TEXT unique, age INT NOT NULL)\")\n",
    "    cur.execute(\"INSERT INTO PhoneAddress VALUES('0912173381','United State','John Doe',53)\")\n",
    "    cur.execute(\"INSERT INTO PhoneAddress VALUES('0928375018','Tokyo Japan','MuMu Cat',6)\")\n",
    "    cur.execute(\"INSERT INTO PhoneAddress VALUES('0957209108','Taipei','Richard',29)\")\n",
    "    cur.execute(\"SELECT phone,address FROM PhoneAddress\")\n",
    "    data = cur.fetchall()\n",
    "    print(data)\n",
    "    "
   ]
  },
  {
   "cell_type": "code",
   "execution_count": 1,
   "metadata": {},
   "outputs": [
    {
     "name": "stdout",
     "output_type": "stream",
     "text": [
      "FETCHONE\n",
      "('0912173381', 'United State')\n",
      "FETCHALL\n",
      "[('0928375018', 'Tokyo Japan'), ('0957209108', 'Taipei')]\n"
     ]
    }
   ],
   "source": [
    "import sqlite3 \n",
    "with sqlite3.connect('test.sqlite') as con:\n",
    "    cur = con.cursor()\n",
    "    cur.execute(\"DROP TABLE IF EXISTS PhoneAddress\")\n",
    "    cur.execute(\"CREATE TABLE PhoneAddress(phone CHAR(10) PRIMARY KEY, address TEXT, name TEXT unique, age INT NOT NULL)\")\n",
    "    cur.execute(\"INSERT INTO PhoneAddress VALUES('0912173381','United State','John Doe',53)\")\n",
    "    cur.execute(\"INSERT INTO PhoneAddress VALUES('0928375018','Tokyo Japan','MuMu Cat',6)\")\n",
    "    cur.execute(\"INSERT INTO PhoneAddress VALUES('0957209108','Taipei','Richard',29)\")\n",
    "    cur.execute(\"SELECT phone,address FROM PhoneAddress\")\n",
    "    print('FETCHONE')\n",
    "    data = cur.fetchone()\n",
    "    print(data)\n",
    "    \n",
    "    \n",
    "    print('FETCHALL')\n",
    "    data = cur.fetchall()\n",
    "    print(data)    "
   ]
  },
  {
   "cell_type": "code",
   "execution_count": 2,
   "metadata": {},
   "outputs": [
    {
     "data": {
      "text/html": [
       "<div>\n",
       "<style>\n",
       "    .dataframe thead tr:only-child th {\n",
       "        text-align: right;\n",
       "    }\n",
       "\n",
       "    .dataframe thead th {\n",
       "        text-align: left;\n",
       "    }\n",
       "\n",
       "    .dataframe tbody tr th {\n",
       "        vertical-align: top;\n",
       "    }\n",
       "</style>\n",
       "<table border=\"1\" class=\"dataframe\">\n",
       "  <thead>\n",
       "    <tr style=\"text-align: right;\">\n",
       "      <th></th>\n",
       "      <th>age</th>\n",
       "      <th>gender</th>\n",
       "      <th>name</th>\n",
       "    </tr>\n",
       "  </thead>\n",
       "  <tbody>\n",
       "    <tr>\n",
       "      <th>0</th>\n",
       "      <td>23</td>\n",
       "      <td>F</td>\n",
       "      <td>Mary</td>\n",
       "    </tr>\n",
       "    <tr>\n",
       "      <th>1</th>\n",
       "      <td>33</td>\n",
       "      <td>M</td>\n",
       "      <td>John</td>\n",
       "    </tr>\n",
       "  </tbody>\n",
       "</table>\n",
       "</div>"
      ],
      "text/plain": [
       "   age gender  name\n",
       "0   23      F  Mary\n",
       "1   33      M  John"
      ]
     },
     "execution_count": 2,
     "metadata": {},
     "output_type": "execute_result"
    }
   ],
   "source": [
    "import pandas\n",
    "employee=[{'name':'Mary','age':23,'gender':'F'},{'name':'John','age':33,'gender':'M'}]\n",
    "df=pandas.DataFrame(employee)\n",
    "df"
   ]
  },
  {
   "cell_type": "code",
   "execution_count": 3,
   "metadata": {
    "collapsed": true
   },
   "outputs": [],
   "source": [
    "with sqlite3.connect('test.sqlite') as db:\n",
    "    df.to_sql(name='employee',index=False,con=db,if_exists='replace')"
   ]
  },
  {
   "cell_type": "code",
   "execution_count": 4,
   "metadata": {
    "collapsed": true
   },
   "outputs": [],
   "source": [
    "df = pandas.read_csv('https://raw.githubusercontent.com/ywchiu/tibamepy/master/data/rent_591_sample.csv', index_col=0)"
   ]
  },
  {
   "cell_type": "code",
   "execution_count": 6,
   "metadata": {},
   "outputs": [
    {
     "data": {
      "text/html": [
       "<div>\n",
       "<style>\n",
       "    .dataframe thead tr:only-child th {\n",
       "        text-align: right;\n",
       "    }\n",
       "\n",
       "    .dataframe thead th {\n",
       "        text-align: left;\n",
       "    }\n",
       "\n",
       "    .dataframe tbody tr th {\n",
       "        vertical-align: top;\n",
       "    }\n",
       "</style>\n",
       "<table border=\"1\" class=\"dataframe\">\n",
       "  <thead>\n",
       "    <tr style=\"text-align: right;\">\n",
       "      <th></th>\n",
       "      <th>detail_url</th>\n",
       "      <th>search_date</th>\n",
       "      <th>title</th>\n",
       "      <th>address</th>\n",
       "      <th>floor_info</th>\n",
       "      <th>price</th>\n",
       "      <th>layout</th>\n",
       "      <th>building_area</th>\n",
       "      <th>building_use</th>\n",
       "      <th>latitude</th>\n",
       "      <th>longitude</th>\n",
       "    </tr>\n",
       "  </thead>\n",
       "  <tbody>\n",
       "    <tr>\n",
       "      <th>0</th>\n",
       "      <td>https://rent.591.com.tw/rent-detail-1050934.html</td>\n",
       "      <td>2017-05-14</td>\n",
       "      <td>套房出租-近東方學院(六~八月可入住)</td>\n",
       "      <td>高雄市湖內區民生街</td>\n",
       "      <td>3F/3F</td>\n",
       "      <td>4,500元/月</td>\n",
       "      <td>NaN</td>\n",
       "      <td>6.0</td>\n",
       "      <td>透天厝/獨立套房</td>\n",
       "      <td>22.878436</td>\n",
       "      <td>120.25081</td>\n",
       "    </tr>\n",
       "  </tbody>\n",
       "</table>\n",
       "</div>"
      ],
      "text/plain": [
       "                                         detail_url search_date  \\\n",
       "0  https://rent.591.com.tw/rent-detail-1050934.html  2017-05-14   \n",
       "\n",
       "                 title    address floor_info     price layout  building_area  \\\n",
       "0  套房出租-近東方學院(六~八月可入住)  高雄市湖內區民生街      3F/3F  4,500元/月    NaN            6.0   \n",
       "\n",
       "  building_use   latitude  longitude  \n",
       "0     透天厝/獨立套房  22.878436  120.25081  "
      ]
     },
     "execution_count": 6,
     "metadata": {},
     "output_type": "execute_result"
    }
   ],
   "source": [
    "df.head(1)"
   ]
  },
  {
   "cell_type": "code",
   "execution_count": 7,
   "metadata": {
    "collapsed": true
   },
   "outputs": [],
   "source": [
    "def normalizePrice(ele):\n",
    "    res=int(ele.replace('元/月','').replace(',',''))\n",
    "    return res\n",
    "\n",
    "df['price']=df['price'].map(normalizePrice)"
   ]
  },
  {
   "cell_type": "code",
   "execution_count": 9,
   "metadata": {},
   "outputs": [],
   "source": [
    "df=df[['detail_url','search_date','title','address','floor_info','price','layout','building_area','building_use']]"
   ]
  },
  {
   "cell_type": "code",
   "execution_count": 12,
   "metadata": {},
   "outputs": [],
   "source": [
    "df['btype']=df['building_use'].map(lambda e:str(e).split('/')[0])\n",
    "df['buse']=df['building_use'].map(lambda e:str(e).split('/')[1] if len(str(e).split('/'))>1 else None)"
   ]
  },
  {
   "cell_type": "code",
   "execution_count": 13,
   "metadata": {},
   "outputs": [
    {
     "data": {
      "text/html": [
       "<div>\n",
       "<style>\n",
       "    .dataframe thead tr:only-child th {\n",
       "        text-align: right;\n",
       "    }\n",
       "\n",
       "    .dataframe thead th {\n",
       "        text-align: left;\n",
       "    }\n",
       "\n",
       "    .dataframe tbody tr th {\n",
       "        vertical-align: top;\n",
       "    }\n",
       "</style>\n",
       "<table border=\"1\" class=\"dataframe\">\n",
       "  <thead>\n",
       "    <tr style=\"text-align: right;\">\n",
       "      <th></th>\n",
       "      <th>detail_url</th>\n",
       "      <th>search_date</th>\n",
       "      <th>title</th>\n",
       "      <th>address</th>\n",
       "      <th>floor_info</th>\n",
       "      <th>price</th>\n",
       "      <th>layout</th>\n",
       "      <th>building_area</th>\n",
       "      <th>building_use</th>\n",
       "      <th>btype</th>\n",
       "      <th>buse</th>\n",
       "    </tr>\n",
       "  </thead>\n",
       "  <tbody>\n",
       "    <tr>\n",
       "      <th>0</th>\n",
       "      <td>https://rent.591.com.tw/rent-detail-1050934.html</td>\n",
       "      <td>2017-05-14</td>\n",
       "      <td>套房出租-近東方學院(六~八月可入住)</td>\n",
       "      <td>高雄市湖內區民生街</td>\n",
       "      <td>3F/3F</td>\n",
       "      <td>4500</td>\n",
       "      <td>NaN</td>\n",
       "      <td>6.0</td>\n",
       "      <td>透天厝/獨立套房</td>\n",
       "      <td>透天厝</td>\n",
       "      <td>獨立套房</td>\n",
       "    </tr>\n",
       "  </tbody>\n",
       "</table>\n",
       "</div>"
      ],
      "text/plain": [
       "                                         detail_url search_date  \\\n",
       "0  https://rent.591.com.tw/rent-detail-1050934.html  2017-05-14   \n",
       "\n",
       "                 title    address floor_info  price layout  building_area  \\\n",
       "0  套房出租-近東方學院(六~八月可入住)  高雄市湖內區民生街      3F/3F   4500    NaN            6.0   \n",
       "\n",
       "  building_use btype  buse  \n",
       "0     透天厝/獨立套房   透天厝  獨立套房  "
      ]
     },
     "execution_count": 13,
     "metadata": {},
     "output_type": "execute_result"
    }
   ],
   "source": [
    "df.head(1)"
   ]
  },
  {
   "cell_type": "code",
   "execution_count": 14,
   "metadata": {
    "collapsed": true
   },
   "outputs": [],
   "source": [
    "import sqlite3 as lite\n",
    "import pandas \n",
    "with lite.connect('house.sqlite') as db:\n",
    "    df.to_sql('rent_591',con=db,if_exists='replace',index=None)"
   ]
  },
  {
   "cell_type": "code",
   "execution_count": 16,
   "metadata": {},
   "outputs": [
    {
     "data": {
      "text/html": [
       "<div>\n",
       "<style>\n",
       "    .dataframe thead tr:only-child th {\n",
       "        text-align: right;\n",
       "    }\n",
       "\n",
       "    .dataframe thead th {\n",
       "        text-align: left;\n",
       "    }\n",
       "\n",
       "    .dataframe tbody tr th {\n",
       "        vertical-align: top;\n",
       "    }\n",
       "</style>\n",
       "<table border=\"1\" class=\"dataframe\">\n",
       "  <thead>\n",
       "    <tr style=\"text-align: right;\">\n",
       "      <th></th>\n",
       "      <th>title</th>\n",
       "      <th>detail_url</th>\n",
       "      <th>price</th>\n",
       "    </tr>\n",
       "  </thead>\n",
       "  <tbody>\n",
       "    <tr>\n",
       "      <th>0</th>\n",
       "      <td>樹林區俊英街</td>\n",
       "      <td>https://rent.591.com.tw/rent-detail-5133302.html</td>\n",
       "      <td>12750000</td>\n",
       "    </tr>\n",
       "    <tr>\n",
       "      <th>1</th>\n",
       "      <td>★彈性坪數、樓層可調整★市府捷運頂級商辦</td>\n",
       "      <td>https://rent.591.com.tw/rent-detail-5047313.html</td>\n",
       "      <td>9579496</td>\n",
       "    </tr>\n",
       "    <tr>\n",
       "      <th>2</th>\n",
       "      <td>內湖土地短租5年4000坪方正四面臨路</td>\n",
       "      <td>https://rent.591.com.tw/rent-detail-5191373.html</td>\n",
       "      <td>8000000</td>\n",
       "    </tr>\n",
       "  </tbody>\n",
       "</table>\n",
       "</div>"
      ],
      "text/plain": [
       "                  title                                        detail_url  \\\n",
       "0                樹林區俊英街  https://rent.591.com.tw/rent-detail-5133302.html   \n",
       "1  ★彈性坪數、樓層可調整★市府捷運頂級商辦  https://rent.591.com.tw/rent-detail-5047313.html   \n",
       "2   內湖土地短租5年4000坪方正四面臨路  https://rent.591.com.tw/rent-detail-5191373.html   \n",
       "\n",
       "      price  \n",
       "0  12750000  \n",
       "1   9579496  \n",
       "2   8000000  "
      ]
     },
     "execution_count": 16,
     "metadata": {},
     "output_type": "execute_result"
    }
   ],
   "source": [
    "import sqlite3 as lite\n",
    "import pandas \n",
    "with lite.connect('house.sqlite') as db:\n",
    "    res = pandas.read_sql_query('select title, detail_url , price from rent_591 order by price desc limit 3', con = db)\n",
    "\n",
    "res"
   ]
  },
  {
   "cell_type": "code",
   "execution_count": 19,
   "metadata": {},
   "outputs": [
    {
     "data": {
      "text/html": [
       "<div>\n",
       "<style>\n",
       "    .dataframe thead tr:only-child th {\n",
       "        text-align: right;\n",
       "    }\n",
       "\n",
       "    .dataframe thead th {\n",
       "        text-align: left;\n",
       "    }\n",
       "\n",
       "    .dataframe tbody tr th {\n",
       "        vertical-align: top;\n",
       "    }\n",
       "</style>\n",
       "<table border=\"1\" class=\"dataframe\">\n",
       "  <thead>\n",
       "    <tr style=\"text-align: right;\">\n",
       "      <th></th>\n",
       "      <th>detail_url</th>\n",
       "      <th>search_date</th>\n",
       "      <th>title</th>\n",
       "      <th>address</th>\n",
       "      <th>floor_info</th>\n",
       "      <th>price</th>\n",
       "      <th>layout</th>\n",
       "      <th>building_area</th>\n",
       "      <th>building_use</th>\n",
       "      <th>btype</th>\n",
       "      <th>buse</th>\n",
       "    </tr>\n",
       "  </thead>\n",
       "  <tbody>\n",
       "    <tr>\n",
       "      <th>0</th>\n",
       "      <td>https://rent.591.com.tw/rent-detail-1050934.html</td>\n",
       "      <td>2017-05-14</td>\n",
       "      <td>套房出租-近東方學院(六~八月可入住)</td>\n",
       "      <td>高雄市湖內區民生街</td>\n",
       "      <td>3F/3F</td>\n",
       "      <td>4500</td>\n",
       "      <td>NaN</td>\n",
       "      <td>6.0</td>\n",
       "      <td>透天厝/獨立套房</td>\n",
       "      <td>透天厝</td>\n",
       "      <td>獨立套房</td>\n",
       "    </tr>\n",
       "    <tr>\n",
       "      <th>1</th>\n",
       "      <td>https://rent.591.com.tw/rent-detail-1008046.html</td>\n",
       "      <td>2017-05-14</td>\n",
       "      <td>好房子【聰明的你、妳快來租吧】</td>\n",
       "      <td>新北市蘆洲區長安街</td>\n",
       "      <td>4F/5F</td>\n",
       "      <td>7500</td>\n",
       "      <td>NaN</td>\n",
       "      <td>10.0</td>\n",
       "      <td>透天厝/獨立套房</td>\n",
       "      <td>透天厝</td>\n",
       "      <td>獨立套房</td>\n",
       "    </tr>\n",
       "    <tr>\n",
       "      <th>2</th>\n",
       "      <td>https://rent.591.com.tw/rent-detail-1586266.html</td>\n",
       "      <td>2017-05-12</td>\n",
       "      <td>陽台大套房(獨立洗衣機)近頂溪捷運站</td>\n",
       "      <td>新北市永和區中山路一段</td>\n",
       "      <td>8F/12F</td>\n",
       "      <td>11000</td>\n",
       "      <td>NaN</td>\n",
       "      <td>8.0</td>\n",
       "      <td>電梯大樓/分租套房</td>\n",
       "      <td>電梯大樓</td>\n",
       "      <td>分租套房</td>\n",
       "    </tr>\n",
       "  </tbody>\n",
       "</table>\n",
       "</div>"
      ],
      "text/plain": [
       "                                         detail_url search_date  \\\n",
       "0  https://rent.591.com.tw/rent-detail-1050934.html  2017-05-14   \n",
       "1  https://rent.591.com.tw/rent-detail-1008046.html  2017-05-14   \n",
       "2  https://rent.591.com.tw/rent-detail-1586266.html  2017-05-12   \n",
       "\n",
       "                 title      address floor_info  price layout  building_area  \\\n",
       "0  套房出租-近東方學院(六~八月可入住)    高雄市湖內區民生街      3F/3F   4500    NaN            6.0   \n",
       "1      好房子【聰明的你、妳快來租吧】    新北市蘆洲區長安街      4F/5F   7500    NaN           10.0   \n",
       "2   陽台大套房(獨立洗衣機)近頂溪捷運站  新北市永和區中山路一段     8F/12F  11000    NaN            8.0   \n",
       "\n",
       "  building_use btype  buse  \n",
       "0     透天厝/獨立套房   透天厝  獨立套房  \n",
       "1     透天厝/獨立套房   透天厝  獨立套房  \n",
       "2    電梯大樓/分租套房  電梯大樓  分租套房  "
      ]
     },
     "execution_count": 19,
     "metadata": {},
     "output_type": "execute_result"
    }
   ],
   "source": [
    "# select * from rent_591 limit 3;\n",
    "df.head(3)"
   ]
  },
  {
   "cell_type": "code",
   "execution_count": 20,
   "metadata": {},
   "outputs": [
    {
     "data": {
      "text/html": [
       "<div>\n",
       "<style>\n",
       "    .dataframe thead tr:only-child th {\n",
       "        text-align: right;\n",
       "    }\n",
       "\n",
       "    .dataframe thead th {\n",
       "        text-align: left;\n",
       "    }\n",
       "\n",
       "    .dataframe tbody tr th {\n",
       "        vertical-align: top;\n",
       "    }\n",
       "</style>\n",
       "<table border=\"1\" class=\"dataframe\">\n",
       "  <thead>\n",
       "    <tr style=\"text-align: right;\">\n",
       "      <th></th>\n",
       "      <th>detail_url</th>\n",
       "      <th>search_date</th>\n",
       "      <th>title</th>\n",
       "      <th>address</th>\n",
       "      <th>floor_info</th>\n",
       "      <th>price</th>\n",
       "      <th>layout</th>\n",
       "      <th>building_area</th>\n",
       "      <th>building_use</th>\n",
       "      <th>btype</th>\n",
       "      <th>buse</th>\n",
       "    </tr>\n",
       "  </thead>\n",
       "  <tbody>\n",
       "    <tr>\n",
       "      <th>2</th>\n",
       "      <td>https://rent.591.com.tw/rent-detail-1586266.html</td>\n",
       "      <td>2017-05-12</td>\n",
       "      <td>陽台大套房(獨立洗衣機)近頂溪捷運站</td>\n",
       "      <td>新北市永和區中山路一段</td>\n",
       "      <td>8F/12F</td>\n",
       "      <td>11000</td>\n",
       "      <td>NaN</td>\n",
       "      <td>8.0</td>\n",
       "      <td>電梯大樓/分租套房</td>\n",
       "      <td>電梯大樓</td>\n",
       "      <td>分租套房</td>\n",
       "    </tr>\n",
       "    <tr>\n",
       "      <th>5</th>\n",
       "      <td>https://rent.591.com.tw/rent-detail-1633388.html</td>\n",
       "      <td>2017-05-12</td>\n",
       "      <td>近捷運，採光佳，有景觀，全新家電裝潢</td>\n",
       "      <td>新北市淡水區民族路</td>\n",
       "      <td>9F/11F</td>\n",
       "      <td>22000</td>\n",
       "      <td>2房1廳1衛1陽臺</td>\n",
       "      <td>24.0</td>\n",
       "      <td>電梯大樓/整層住家</td>\n",
       "      <td>電梯大樓</td>\n",
       "      <td>整層住家</td>\n",
       "    </tr>\n",
       "    <tr>\n",
       "      <th>9</th>\n",
       "      <td>https://rent.591.com.tw/rent-detail-1245175.html</td>\n",
       "      <td>2017-05-14</td>\n",
       "      <td>大衛營優質社區管理好，交通便利、裝潢佳</td>\n",
       "      <td>基隆市安樂區樂利三街</td>\n",
       "      <td>14F/18F</td>\n",
       "      <td>17000</td>\n",
       "      <td>2房1廳2衛2陽臺</td>\n",
       "      <td>32.0</td>\n",
       "      <td>電梯大樓/整層住家</td>\n",
       "      <td>電梯大樓</td>\n",
       "      <td>整層住家</td>\n",
       "    </tr>\n",
       "  </tbody>\n",
       "</table>\n",
       "</div>"
      ],
      "text/plain": [
       "                                         detail_url search_date  \\\n",
       "2  https://rent.591.com.tw/rent-detail-1586266.html  2017-05-12   \n",
       "5  https://rent.591.com.tw/rent-detail-1633388.html  2017-05-12   \n",
       "9  https://rent.591.com.tw/rent-detail-1245175.html  2017-05-14   \n",
       "\n",
       "                 title      address floor_info  price     layout  \\\n",
       "2   陽台大套房(獨立洗衣機)近頂溪捷運站  新北市永和區中山路一段     8F/12F  11000        NaN   \n",
       "5   近捷運，採光佳，有景觀，全新家電裝潢    新北市淡水區民族路     9F/11F  22000  2房1廳1衛1陽臺   \n",
       "9  大衛營優質社區管理好，交通便利、裝潢佳   基隆市安樂區樂利三街    14F/18F  17000  2房1廳2衛2陽臺   \n",
       "\n",
       "   building_area building_use btype  buse  \n",
       "2            8.0    電梯大樓/分租套房  電梯大樓  分租套房  \n",
       "5           24.0    電梯大樓/整層住家  電梯大樓  整層住家  \n",
       "9           32.0    電梯大樓/整層住家  電梯大樓  整層住家  "
      ]
     },
     "execution_count": 20,
     "metadata": {},
     "output_type": "execute_result"
    }
   ],
   "source": [
    "# select * from rent_591 where price>10000 limit 3;\n",
    "df[df['price'] > 10000].head(3)"
   ]
  },
  {
   "cell_type": "code",
   "execution_count": 22,
   "metadata": {},
   "outputs": [
    {
     "data": {
      "text/html": [
       "<div>\n",
       "<style>\n",
       "    .dataframe thead tr:only-child th {\n",
       "        text-align: right;\n",
       "    }\n",
       "\n",
       "    .dataframe thead th {\n",
       "        text-align: left;\n",
       "    }\n",
       "\n",
       "    .dataframe tbody tr th {\n",
       "        vertical-align: top;\n",
       "    }\n",
       "</style>\n",
       "<table border=\"1\" class=\"dataframe\">\n",
       "  <thead>\n",
       "    <tr style=\"text-align: right;\">\n",
       "      <th></th>\n",
       "      <th>title</th>\n",
       "      <th>building_area</th>\n",
       "      <th>price</th>\n",
       "    </tr>\n",
       "  </thead>\n",
       "  <tbody>\n",
       "    <tr>\n",
       "      <th>0</th>\n",
       "      <td>套房出租-近東方學院(六~八月可入住)</td>\n",
       "      <td>6.0</td>\n",
       "      <td>4500</td>\n",
       "    </tr>\n",
       "    <tr>\n",
       "      <th>1</th>\n",
       "      <td>好房子【聰明的你、妳快來租吧】</td>\n",
       "      <td>10.0</td>\n",
       "      <td>7500</td>\n",
       "    </tr>\n",
       "    <tr>\n",
       "      <th>2</th>\n",
       "      <td>陽台大套房(獨立洗衣機)近頂溪捷運站</td>\n",
       "      <td>8.0</td>\n",
       "      <td>11000</td>\n",
       "    </tr>\n",
       "  </tbody>\n",
       "</table>\n",
       "</div>"
      ],
      "text/plain": [
       "                 title  building_area  price\n",
       "0  套房出租-近東方學院(六~八月可入住)            6.0   4500\n",
       "1      好房子【聰明的你、妳快來租吧】           10.0   7500\n",
       "2   陽台大套房(獨立洗衣機)近頂溪捷運站            8.0  11000"
      ]
     },
     "execution_count": 22,
     "metadata": {},
     "output_type": "execute_result"
    }
   ],
   "source": [
    "# select title,building_area,price from rent_591 limit 3;\n",
    "df.loc[ :  ,  ['title','building_area','price']  ].head(3)"
   ]
  },
  {
   "cell_type": "code",
   "execution_count": 25,
   "metadata": {},
   "outputs": [
    {
     "data": {
      "text/html": [
       "<div>\n",
       "<style>\n",
       "    .dataframe thead tr:only-child th {\n",
       "        text-align: right;\n",
       "    }\n",
       "\n",
       "    .dataframe thead th {\n",
       "        text-align: left;\n",
       "    }\n",
       "\n",
       "    .dataframe tbody tr th {\n",
       "        vertical-align: top;\n",
       "    }\n",
       "</style>\n",
       "<table border=\"1\" class=\"dataframe\">\n",
       "  <thead>\n",
       "    <tr style=\"text-align: right;\">\n",
       "      <th></th>\n",
       "      <th>title</th>\n",
       "      <th>building_area</th>\n",
       "      <th>price</th>\n",
       "    </tr>\n",
       "  </thead>\n",
       "  <tbody>\n",
       "    <tr>\n",
       "      <th>31658</th>\n",
       "      <td>樹林區俊英街</td>\n",
       "      <td>16.00</td>\n",
       "      <td>12750000</td>\n",
       "    </tr>\n",
       "    <tr>\n",
       "      <th>9815</th>\n",
       "      <td>★彈性坪數、樓層可調整★市府捷運頂級商辦</td>\n",
       "      <td>2520.92</td>\n",
       "      <td>9579496</td>\n",
       "    </tr>\n",
       "    <tr>\n",
       "      <th>69807</th>\n",
       "      <td>內湖土地短租5年4000坪方正四面臨路</td>\n",
       "      <td>4000.00</td>\n",
       "      <td>8000000</td>\n",
       "    </tr>\n",
       "  </tbody>\n",
       "</table>\n",
       "</div>"
      ],
      "text/plain": [
       "                      title  building_area     price\n",
       "31658                樹林區俊英街          16.00  12750000\n",
       "9815   ★彈性坪數、樓層可調整★市府捷運頂級商辦        2520.92   9579496\n",
       "69807   內湖土地短租5年4000坪方正四面臨路        4000.00   8000000"
      ]
     },
     "execution_count": 25,
     "metadata": {},
     "output_type": "execute_result"
    }
   ],
   "source": [
    "# select title,building_area,price from rent_591 order by price desc limit 3;\n",
    "df.sort_values('price', ascending=False)[['title','building_area', 'price']].head(3)"
   ]
  },
  {
   "cell_type": "code",
   "execution_count": 26,
   "metadata": {},
   "outputs": [
    {
     "data": {
      "text/plain": [
       "btype\n",
       "nan      84789.830692\n",
       "倉庫       25248.425926\n",
       "公寓       16350.106894\n",
       "其他        5700.000000\n",
       "別墅       25951.827907\n",
       "廠房       76662.857143\n",
       "廠辦      100681.818182\n",
       "透天厝      17622.803203\n",
       "電梯大樓     47822.119324\n",
       "Name: price, dtype: float64"
      ]
     },
     "execution_count": 26,
     "metadata": {},
     "output_type": "execute_result"
    }
   ],
   "source": [
    "#select btype,avg(price) from rent_591 group by btype;\n",
    "df.groupby('btype')['price'].mean()"
   ]
  },
  {
   "cell_type": "code",
   "execution_count": 27,
   "metadata": {},
   "outputs": [
    {
     "data": {
      "text/plain": [
       "btype\n",
       "nan      84789.830692\n",
       "倉庫       25248.425926\n",
       "公寓       16350.106894\n",
       "別墅       25951.827907\n",
       "廠房       76662.857143\n",
       "廠辦      100681.818182\n",
       "透天厝      17622.803203\n",
       "電梯大樓     47822.119324\n",
       "Name: price, dtype: float64"
      ]
     },
     "execution_count": 27,
     "metadata": {},
     "output_type": "execute_result"
    }
   ],
   "source": [
    "# select btype,avg(price) from rent_591 group by btype having avg(price)>=10000;\n",
    "avg_price = df.groupby('btype')['price'].mean()\n",
    "avg_price[avg_price > 10000]"
   ]
  },
  {
   "cell_type": "markdown",
   "metadata": {},
   "source": [
    "## 資料視覺化"
   ]
  },
  {
   "cell_type": "code",
   "execution_count": 52,
   "metadata": {},
   "outputs": [
    {
     "name": "stdout",
     "output_type": "stream",
     "text": [
      "Requirement already satisfied: pandas_datareader in c:\\programdata\\anaconda3\\lib\\site-packages\n",
      "Requirement already satisfied: requests>=2.3.0 in c:\\programdata\\anaconda3\\lib\\site-packages (from pandas_datareader)\n",
      "Requirement already satisfied: pandas>=0.17.0 in c:\\programdata\\anaconda3\\lib\\site-packages (from pandas_datareader)\n",
      "Requirement already satisfied: requests-ftp in c:\\programdata\\anaconda3\\lib\\site-packages (from pandas_datareader)\n",
      "Requirement already satisfied: requests-file in c:\\programdata\\anaconda3\\lib\\site-packages (from pandas_datareader)\n",
      "Requirement already satisfied: chardet<3.1.0,>=3.0.2 in c:\\programdata\\anaconda3\\lib\\site-packages (from requests>=2.3.0->pandas_datareader)\n",
      "Requirement already satisfied: idna<2.7,>=2.5 in c:\\programdata\\anaconda3\\lib\\site-packages (from requests>=2.3.0->pandas_datareader)\n",
      "Requirement already satisfied: urllib3<1.23,>=1.21.1 in c:\\programdata\\anaconda3\\lib\\site-packages (from requests>=2.3.0->pandas_datareader)\n",
      "Requirement already satisfied: certifi>=2017.4.17 in c:\\programdata\\anaconda3\\lib\\site-packages (from requests>=2.3.0->pandas_datareader)\n",
      "Requirement already satisfied: python-dateutil>=2 in c:\\programdata\\anaconda3\\lib\\site-packages (from pandas>=0.17.0->pandas_datareader)\n",
      "Requirement already satisfied: pytz>=2011k in c:\\programdata\\anaconda3\\lib\\site-packages (from pandas>=0.17.0->pandas_datareader)\n",
      "Requirement already satisfied: numpy>=1.7.0 in c:\\programdata\\anaconda3\\lib\\site-packages (from pandas>=0.17.0->pandas_datareader)\n",
      "Requirement already satisfied: six in c:\\programdata\\anaconda3\\lib\\site-packages (from requests-file->pandas_datareader)\n"
     ]
    }
   ],
   "source": [
    "! pip install pandas_datareader"
   ]
  },
  {
   "cell_type": "code",
   "execution_count": 55,
   "metadata": {},
   "outputs": [],
   "source": [
    "import pandas_datareader\n",
    "df = pandas_datareader.get_data_yahoo('AAPL', start = '2014-01-01')"
   ]
  },
  {
   "cell_type": "code",
   "execution_count": 56,
   "metadata": {
    "scrolled": true
   },
   "outputs": [
    {
     "data": {
      "text/html": [
       "<div>\n",
       "<style>\n",
       "    .dataframe thead tr:only-child th {\n",
       "        text-align: right;\n",
       "    }\n",
       "\n",
       "    .dataframe thead th {\n",
       "        text-align: left;\n",
       "    }\n",
       "\n",
       "    .dataframe tbody tr th {\n",
       "        vertical-align: top;\n",
       "    }\n",
       "</style>\n",
       "<table border=\"1\" class=\"dataframe\">\n",
       "  <thead>\n",
       "    <tr style=\"text-align: right;\">\n",
       "      <th></th>\n",
       "      <th>Open</th>\n",
       "      <th>High</th>\n",
       "      <th>Low</th>\n",
       "      <th>Close</th>\n",
       "      <th>Adj Close</th>\n",
       "      <th>Volume</th>\n",
       "    </tr>\n",
       "    <tr>\n",
       "      <th>Date</th>\n",
       "      <th></th>\n",
       "      <th></th>\n",
       "      <th></th>\n",
       "      <th></th>\n",
       "      <th></th>\n",
       "      <th></th>\n",
       "    </tr>\n",
       "  </thead>\n",
       "  <tbody>\n",
       "    <tr>\n",
       "      <th>2017-10-30</th>\n",
       "      <td>163.889999</td>\n",
       "      <td>168.070007</td>\n",
       "      <td>163.720001</td>\n",
       "      <td>166.720001</td>\n",
       "      <td>166.720001</td>\n",
       "      <td>44700800</td>\n",
       "    </tr>\n",
       "    <tr>\n",
       "      <th>2017-10-31</th>\n",
       "      <td>167.899994</td>\n",
       "      <td>169.649994</td>\n",
       "      <td>166.940002</td>\n",
       "      <td>169.039993</td>\n",
       "      <td>169.039993</td>\n",
       "      <td>36046800</td>\n",
       "    </tr>\n",
       "    <tr>\n",
       "      <th>2017-11-01</th>\n",
       "      <td>169.869995</td>\n",
       "      <td>169.940002</td>\n",
       "      <td>165.610001</td>\n",
       "      <td>166.889999</td>\n",
       "      <td>166.889999</td>\n",
       "      <td>33637800</td>\n",
       "    </tr>\n",
       "    <tr>\n",
       "      <th>2017-11-02</th>\n",
       "      <td>166.600006</td>\n",
       "      <td>168.500000</td>\n",
       "      <td>165.279999</td>\n",
       "      <td>168.110001</td>\n",
       "      <td>168.110001</td>\n",
       "      <td>41393400</td>\n",
       "    </tr>\n",
       "    <tr>\n",
       "      <th>2017-11-03</th>\n",
       "      <td>174.000000</td>\n",
       "      <td>174.259995</td>\n",
       "      <td>171.119995</td>\n",
       "      <td>172.500000</td>\n",
       "      <td>172.500000</td>\n",
       "      <td>59003700</td>\n",
       "    </tr>\n",
       "  </tbody>\n",
       "</table>\n",
       "</div>"
      ],
      "text/plain": [
       "                  Open        High         Low       Close   Adj Close  \\\n",
       "Date                                                                     \n",
       "2017-10-30  163.889999  168.070007  163.720001  166.720001  166.720001   \n",
       "2017-10-31  167.899994  169.649994  166.940002  169.039993  169.039993   \n",
       "2017-11-01  169.869995  169.940002  165.610001  166.889999  166.889999   \n",
       "2017-11-02  166.600006  168.500000  165.279999  168.110001  168.110001   \n",
       "2017-11-03  174.000000  174.259995  171.119995  172.500000  172.500000   \n",
       "\n",
       "              Volume  \n",
       "Date                  \n",
       "2017-10-30  44700800  \n",
       "2017-10-31  36046800  \n",
       "2017-11-01  33637800  \n",
       "2017-11-02  41393400  \n",
       "2017-11-03  59003700  "
      ]
     },
     "execution_count": 56,
     "metadata": {},
     "output_type": "execute_result"
    }
   ],
   "source": [
    "df.tail()"
   ]
  },
  {
   "cell_type": "code",
   "execution_count": 64,
   "metadata": {},
   "outputs": [
    {
     "name": "stdout",
     "output_type": "stream",
     "text": [
      "Populating the interactive namespace from numpy and matplotlib\n"
     ]
    },
    {
     "data": {
      "image/png": "[encoded data removed]",
      "text/plain": [
       "<matplotlib.figure.Figure at 0x11177198>"
      ]
     },
     "metadata": {},
     "output_type": "display_data"
    }
   ],
   "source": [
    "% pylab inline\n",
    "df['Close'].plot(kind = 'line', figsize=[10,5], title= 'AAPL', grid=True,legend=True)\n",
    "pylab.savefig('AAPL.png')"
   ]
  },
  {
   "cell_type": "code",
   "execution_count": 67,
   "metadata": {
    "collapsed": true
   },
   "outputs": [],
   "source": [
    "df['mvg30'] = df['Close'].rolling(window=30).mean()\n",
    "df['mvg60'] = df['Close'].rolling(window=60).mean()"
   ]
  },
  {
   "cell_type": "code",
   "execution_count": 68,
   "metadata": {},
   "outputs": [
    {
     "data": {
      "text/plain": [
       "<matplotlib.axes._subplots.AxesSubplot at 0x111f9d68>"
      ]
     },
     "execution_count": 68,
     "metadata": {},
     "output_type": "execute_result"
    },
    {
     "data": {
      "image/png": "[encoded data removed]",
      "text/plain": [
       "<matplotlib.figure.Figure at 0x1119eba8>"
      ]
     },
     "metadata": {},
     "output_type": "display_data"
    }
   ],
   "source": [
    "df[['Close','mvg30','mvg60']].plot(kind = 'line', figsize=[10,5], title= 'AAPL', grid=True,legend=True)"
   ]
  },
  {
   "cell_type": "code",
   "execution_count": 70,
   "metadata": {},
   "outputs": [
    {
     "data": {
      "text/plain": [
       "<matplotlib.axes._subplots.AxesSubplot at 0x12741d30>"
      ]
     },
     "execution_count": 70,
     "metadata": {},
     "output_type": "execute_result"
    },
    {
     "data": {
      "image/png": "[encoded data removed]",
      "text/plain": [
       "<matplotlib.figure.Figure at 0x126f7898>"
      ]
     },
     "metadata": {},
     "output_type": "display_data"
    }
   ],
   "source": [
    "df.ix[df.index>='2017-10-01','Volume'].plot(kind='bar',figsize=[10,5],title=\"AAPL\",legend=True)"
   ]
  },
  {
   "cell_type": "code",
   "execution_count": 81,
   "metadata": {},
   "outputs": [
    {
     "data": {
      "text/plain": [
       "<matplotlib.axes._subplots.AxesSubplot at 0x11182828>"
      ]
     },
     "execution_count": 81,
     "metadata": {},
     "output_type": "execute_result"
    },
    {
     "data": {
      "image/png": "[encoded data removed]",
      "text/plain": [
       "<matplotlib.figure.Figure at 0x13bd1dd8>"
      ]
     },
     "metadata": {},
     "output_type": "display_data"
    }
   ],
   "source": [
    "df['diff']=df['Close']-df['Open']\n",
    "df['rise']=df['diff']>0\n",
    "df['fall']=df['diff']<0\n",
    "#,startangle=90,legend=True\n",
    "df[['rise','fall']].sum().plot(kind='pie',figsize=[5,5],startangle=90,counterclock=False,legend=True)"
   ]
  },
  {
   "cell_type": "code",
   "execution_count": 82,
   "metadata": {},
   "outputs": [
    {
     "data": {
      "text/plain": [
       "<matplotlib.axes._subplots.AxesSubplot at 0x13c42048>"
      ]
     },
     "execution_count": 82,
     "metadata": {},
     "output_type": "execute_result"
    },
    {
     "data": {
      "image/png": "[encoded data removed]",
      "text/plain": [
       "<matplotlib.figure.Figure at 0x13b3d390>"
      ]
     },
     "metadata": {},
     "output_type": "display_data"
    }
   ],
   "source": [
    "df['Close'].plot(kind='hist')"
   ]
  },
  {
   "cell_type": "code",
   "execution_count": 93,
   "metadata": {},
   "outputs": [
    {
     "data": {
      "text/plain": [
       "<matplotlib.axes._subplots.AxesSubplot at 0x1600dcf8>"
      ]
     },
     "execution_count": 93,
     "metadata": {},
     "output_type": "execute_result"
    },
    {
     "data": {
      "image/png": "[encoded data removed]",
      "text/plain": [
       "<matplotlib.figure.Figure at 0x147684e0>"
      ]
     },
     "metadata": {},
     "output_type": "display_data"
    }
   ],
   "source": [
    "df['ret'] = df['Close'].pct_change(1)\n",
    "df['ret'].plot(kind='hist',bins=50,xlim=[-0.1,0.1])"
   ]
  },
  {
   "cell_type": "code",
   "execution_count": 88,
   "metadata": {},
   "outputs": [],
   "source": [
    "import pandas_datareader\n",
    "df2 = pandas_datareader.get_data_yahoo('2498.TW', start = '2010-01-01')"
   ]
  },
  {
   "cell_type": "code",
   "execution_count": 92,
   "metadata": {},
   "outputs": [
    {
     "data": {
      "text/plain": [
       "<matplotlib.axes._subplots.AxesSubplot at 0x16037d30>"
      ]
     },
     "execution_count": 92,
     "metadata": {},
     "output_type": "execute_result"
    },
    {
     "data": {
      "image/png": "[encoded data removed]",
      "text/plain": [
       "<matplotlib.figure.Figure at 0x138ce5f8>"
      ]
     },
     "metadata": {},
     "output_type": "display_data"
    }
   ],
   "source": [
    "df2['ret'] = df2['Close'].pct_change(1)\n",
    "df2['ret'].plot(kind='hist',bins=50,xlim=[-0.1,0.1])"
   ]
  },
  {
   "cell_type": "code",
   "execution_count": 94,
   "metadata": {},
   "outputs": [
    {
     "data": {
      "text/plain": [
       "<matplotlib.axes._subplots.AxesSubplot at 0x1730b208>"
      ]
     },
     "execution_count": 94,
     "metadata": {},
     "output_type": "execute_result"
    },
    {
     "data": {
      "image/png": "[encoded data removed]",
      "text/plain": [
       "<matplotlib.figure.Figure at 0x1605efd0>"
      ]
     },
     "metadata": {},
     "output_type": "display_data"
    }
   ],
   "source": [
    "df['Close'].plot(kind='box')"
   ]
  },
  {
   "cell_type": "code",
   "execution_count": 102,
   "metadata": {},
   "outputs": [
    {
     "data": {
      "text/plain": [
       "array([ 16,  18,  20,  25,  27,  29,  30,  32, 999])"
      ]
     },
     "execution_count": 102,
     "metadata": {},
     "output_type": "execute_result"
    }
   ],
   "source": [
    "temp = numpy.array([20,30,25,27,29,16,18,32])\n",
    "temp.mean()\n",
    "\n",
    "\n",
    "temp2 = numpy.array([20,30,25,27,29,16,18,32,999])\n",
    "temp2.mean()\n",
    "temp2.sort()\n",
    "temp2\n",
    "#numpy.median(temp2)"
   ]
  },
  {
   "cell_type": "code",
   "execution_count": 104,
   "metadata": {},
   "outputs": [
    {
     "data": {
      "text/plain": [
       "<matplotlib.axes._subplots.AxesSubplot at 0x161312e8>"
      ]
     },
     "execution_count": 104,
     "metadata": {},
     "output_type": "execute_result"
    },
    {
     "data": {
      "image/png": "[encoded data removed]",
      "text/plain": [
       "<matplotlib.figure.Figure at 0x16107b70>"
      ]
     },
     "metadata": {},
     "output_type": "display_data"
    }
   ],
   "source": [
    "pandas.Series(temp2).plot(kind='box')"
   ]
  },
  {
   "cell_type": "code",
   "execution_count": 105,
   "metadata": {},
   "outputs": [
    {
     "data": {
      "text/plain": [
       "<matplotlib.axes._subplots.AxesSubplot at 0x173e8198>"
      ]
     },
     "execution_count": 105,
     "metadata": {},
     "output_type": "execute_result"
    },
    {
     "data": {
      "image/png": "[encoded data removed]",
      "text/plain": [
       "<matplotlib.figure.Figure at 0x13ae66d8>"
      ]
     },
     "metadata": {},
     "output_type": "display_data"
    }
   ],
   "source": [
    "pandas.Series(temp2[temp2 < 100]).plot(kind='box')"
   ]
  },
  {
   "cell_type": "code",
   "execution_count": 114,
   "metadata": {},
   "outputs": [
    {
     "data": {
      "text/html": [
       "<div>\n",
       "<style>\n",
       "    .dataframe thead tr:only-child th {\n",
       "        text-align: right;\n",
       "    }\n",
       "\n",
       "    .dataframe thead th {\n",
       "        text-align: left;\n",
       "    }\n",
       "\n",
       "    .dataframe tbody tr th {\n",
       "        vertical-align: top;\n",
       "    }\n",
       "</style>\n",
       "<table border=\"1\" class=\"dataframe\">\n",
       "  <thead>\n",
       "    <tr style=\"text-align: right;\">\n",
       "      <th></th>\n",
       "      <th>AAPL</th>\n",
       "      <th>AMZN</th>\n",
       "      <th>FB</th>\n",
       "      <th>GOOG</th>\n",
       "      <th>MSFT</th>\n",
       "    </tr>\n",
       "    <tr>\n",
       "      <th>Date</th>\n",
       "      <th></th>\n",
       "      <th></th>\n",
       "      <th></th>\n",
       "      <th></th>\n",
       "      <th></th>\n",
       "    </tr>\n",
       "  </thead>\n",
       "  <tbody>\n",
       "    <tr>\n",
       "      <th>2017-11-03</th>\n",
       "      <td>172.500000</td>\n",
       "      <td>1111.599976</td>\n",
       "      <td>178.919998</td>\n",
       "      <td>1032.479980</td>\n",
       "      <td>84.139999</td>\n",
       "    </tr>\n",
       "    <tr>\n",
       "      <th>2017-11-02</th>\n",
       "      <td>168.110001</td>\n",
       "      <td>1094.219971</td>\n",
       "      <td>178.919998</td>\n",
       "      <td>1025.579956</td>\n",
       "      <td>84.050003</td>\n",
       "    </tr>\n",
       "    <tr>\n",
       "      <th>2017-11-01</th>\n",
       "      <td>166.889999</td>\n",
       "      <td>1103.680054</td>\n",
       "      <td>182.660004</td>\n",
       "      <td>1025.500000</td>\n",
       "      <td>83.180000</td>\n",
       "    </tr>\n",
       "    <tr>\n",
       "      <th>2017-10-31</th>\n",
       "      <td>169.039993</td>\n",
       "      <td>1105.280029</td>\n",
       "      <td>180.059998</td>\n",
       "      <td>1016.640015</td>\n",
       "      <td>83.180000</td>\n",
       "    </tr>\n",
       "    <tr>\n",
       "      <th>2017-10-30</th>\n",
       "      <td>166.720001</td>\n",
       "      <td>1110.849976</td>\n",
       "      <td>179.869995</td>\n",
       "      <td>1017.109985</td>\n",
       "      <td>83.889999</td>\n",
       "    </tr>\n",
       "  </tbody>\n",
       "</table>\n",
       "</div>"
      ],
      "text/plain": [
       "                  AAPL         AMZN          FB         GOOG       MSFT\n",
       "Date                                                                   \n",
       "2017-11-03  172.500000  1111.599976  178.919998  1032.479980  84.139999\n",
       "2017-11-02  168.110001  1094.219971  178.919998  1025.579956  84.050003\n",
       "2017-11-01  166.889999  1103.680054  182.660004  1025.500000  83.180000\n",
       "2017-10-31  169.039993  1105.280029  180.059998  1016.640015  83.180000\n",
       "2017-10-30  166.720001  1110.849976  179.869995  1017.109985  83.889999"
      ]
     },
     "execution_count": 114,
     "metadata": {},
     "output_type": "execute_result"
    }
   ],
   "source": [
    "import pandas_datareader \n",
    "df=pandas_datareader.get_data_yahoo(['FB','AAPL','AMZN','MSFT','GOOG'],start='2014-01-01')['Close']\n",
    "df.head()"
   ]
  },
  {
   "cell_type": "code",
   "execution_count": 115,
   "metadata": {},
   "outputs": [
    {
     "name": "stdout",
     "output_type": "stream",
     "text": [
      "Populating the interactive namespace from numpy and matplotlib\n"
     ]
    },
    {
     "data": {
      "text/plain": [
       "<matplotlib.axes._subplots.AxesSubplot at 0x162de0b8>"
      ]
     },
     "execution_count": 115,
     "metadata": {},
     "output_type": "execute_result"
    },
    {
     "data": {
      "image/png": "[encoded data removed]",
      "text/plain": [
       "<matplotlib.figure.Figure at 0x1607f6d8>"
      ]
     },
     "metadata": {},
     "output_type": "display_data"
    }
   ],
   "source": [
    "%pylab inline \n",
    "df.plot(kind='line')"
   ]
  },
  {
   "cell_type": "code",
   "execution_count": 116,
   "metadata": {},
   "outputs": [
    {
     "data": {
      "text/plain": [
       "<matplotlib.axes._subplots.AxesSubplot at 0x174b7f60>"
      ]
     },
     "execution_count": 116,
     "metadata": {},
     "output_type": "execute_result"
    },
    {
     "data": {
      "image/png": "[encoded data removed]",
      "text/plain": [
       "<matplotlib.figure.Figure at 0x1606ee10>"
      ]
     },
     "metadata": {},
     "output_type": "display_data"
    }
   ],
   "source": [
    "rets=df.pct_change(1)\n",
    "rets.plot(kind='scatter',x='GOOG',y='MSFT')"
   ]
  },
  {
   "cell_type": "code",
   "execution_count": 117,
   "metadata": {
    "collapsed": true
   },
   "outputs": [],
   "source": [
    "corr=rets.corr()"
   ]
  },
  {
   "cell_type": "code",
   "execution_count": 118,
   "metadata": {},
   "outputs": [
    {
     "data": {
      "text/html": [
       "<div>\n",
       "<style>\n",
       "    .dataframe thead tr:only-child th {\n",
       "        text-align: right;\n",
       "    }\n",
       "\n",
       "    .dataframe thead th {\n",
       "        text-align: left;\n",
       "    }\n",
       "\n",
       "    .dataframe tbody tr th {\n",
       "        vertical-align: top;\n",
       "    }\n",
       "</style>\n",
       "<table border=\"1\" class=\"dataframe\">\n",
       "  <thead>\n",
       "    <tr style=\"text-align: right;\">\n",
       "      <th></th>\n",
       "      <th>AAPL</th>\n",
       "      <th>AMZN</th>\n",
       "      <th>FB</th>\n",
       "      <th>GOOG</th>\n",
       "      <th>MSFT</th>\n",
       "    </tr>\n",
       "  </thead>\n",
       "  <tbody>\n",
       "    <tr>\n",
       "      <th>AAPL</th>\n",
       "      <td>1.000000</td>\n",
       "      <td>0.338576</td>\n",
       "      <td>0.392200</td>\n",
       "      <td>0.389099</td>\n",
       "      <td>0.442549</td>\n",
       "    </tr>\n",
       "    <tr>\n",
       "      <th>AMZN</th>\n",
       "      <td>0.338576</td>\n",
       "      <td>1.000000</td>\n",
       "      <td>0.529586</td>\n",
       "      <td>0.573046</td>\n",
       "      <td>0.424553</td>\n",
       "    </tr>\n",
       "    <tr>\n",
       "      <th>FB</th>\n",
       "      <td>0.392200</td>\n",
       "      <td>0.529586</td>\n",
       "      <td>1.000000</td>\n",
       "      <td>0.599075</td>\n",
       "      <td>0.432665</td>\n",
       "    </tr>\n",
       "    <tr>\n",
       "      <th>GOOG</th>\n",
       "      <td>0.389099</td>\n",
       "      <td>0.573046</td>\n",
       "      <td>0.599075</td>\n",
       "      <td>1.000000</td>\n",
       "      <td>0.572129</td>\n",
       "    </tr>\n",
       "    <tr>\n",
       "      <th>MSFT</th>\n",
       "      <td>0.442549</td>\n",
       "      <td>0.424553</td>\n",
       "      <td>0.432665</td>\n",
       "      <td>0.572129</td>\n",
       "      <td>1.000000</td>\n",
       "    </tr>\n",
       "  </tbody>\n",
       "</table>\n",
       "</div>"
      ],
      "text/plain": [
       "          AAPL      AMZN        FB      GOOG      MSFT\n",
       "AAPL  1.000000  0.338576  0.392200  0.389099  0.442549\n",
       "AMZN  0.338576  1.000000  0.529586  0.573046  0.424553\n",
       "FB    0.392200  0.529586  1.000000  0.599075  0.432665\n",
       "GOOG  0.389099  0.573046  0.599075  1.000000  0.572129\n",
       "MSFT  0.442549  0.424553  0.432665  0.572129  1.000000"
      ]
     },
     "execution_count": 118,
     "metadata": {},
     "output_type": "execute_result"
    }
   ],
   "source": [
    "corr"
   ]
  },
  {
   "cell_type": "code",
   "execution_count": 119,
   "metadata": {},
   "outputs": [
    {
     "data": {
      "text/plain": [
       "([<matplotlib.axis.YTick at 0x1754e908>,\n",
       "  <matplotlib.axis.YTick at 0x175398d0>,\n",
       "  <matplotlib.axis.YTick at 0x1753cb70>,\n",
       "  <matplotlib.axis.YTick at 0x175be358>,\n",
       "  <matplotlib.axis.YTick at 0x175be978>],\n",
       " <a list of 5 Text yticklabel objects>)"
      ]
     },
     "execution_count": 119,
     "metadata": {},
     "output_type": "execute_result"
    },
    {
     "data": {
      "image/png": "[encoded data removed]",
      "text/plain": [
       "<matplotlib.figure.Figure at 0x1752d940>"
      ]
     },
     "metadata": {},
     "output_type": "display_data"
    }
   ],
   "source": [
    "plt.imshow(corr,cmap='hot',interpolation='none')\n",
    "plt.colorbar()\n",
    "plt.xticks(range(len(corr)),corr.columns)\n",
    "plt.yticks(range(len(corr)),corr.columns)"
   ]
  },
  {
   "cell_type": "code",
   "execution_count": 121,
   "metadata": {},
   "outputs": [
    {
     "data": {
      "text/html": [
       "<div>\n",
       "<style>\n",
       "    .dataframe thead tr:only-child th {\n",
       "        text-align: right;\n",
       "    }\n",
       "\n",
       "    .dataframe thead th {\n",
       "        text-align: left;\n",
       "    }\n",
       "\n",
       "    .dataframe tbody tr th {\n",
       "        vertical-align: top;\n",
       "    }\n",
       "</style>\n",
       "<table border=\"1\" class=\"dataframe\">\n",
       "  <thead>\n",
       "    <tr style=\"text-align: right;\">\n",
       "      <th></th>\n",
       "      <th>1101.TW</th>\n",
       "      <th>1102.TW</th>\n",
       "      <th>2317.TW</th>\n",
       "      <th>2330.TW</th>\n",
       "      <th>2454.TW</th>\n",
       "      <th>2498.TW</th>\n",
       "      <th>AAPL</th>\n",
       "    </tr>\n",
       "    <tr>\n",
       "      <th>Date</th>\n",
       "      <th></th>\n",
       "      <th></th>\n",
       "      <th></th>\n",
       "      <th></th>\n",
       "      <th></th>\n",
       "      <th></th>\n",
       "      <th></th>\n",
       "    </tr>\n",
       "  </thead>\n",
       "  <tbody>\n",
       "    <tr>\n",
       "      <th>2015-12-31</th>\n",
       "      <td>NaN</td>\n",
       "      <td>NaN</td>\n",
       "      <td>NaN</td>\n",
       "      <td>NaN</td>\n",
       "      <td>NaN</td>\n",
       "      <td>NaN</td>\n",
       "      <td>105.260002</td>\n",
       "    </tr>\n",
       "    <tr>\n",
       "      <th>2016-01-04</th>\n",
       "      <td>26.150000</td>\n",
       "      <td>26.250000</td>\n",
       "      <td>71.818199</td>\n",
       "      <td>139.5</td>\n",
       "      <td>245.0</td>\n",
       "      <td>79.000000</td>\n",
       "      <td>105.349998</td>\n",
       "    </tr>\n",
       "    <tr>\n",
       "      <th>2016-01-05</th>\n",
       "      <td>26.400000</td>\n",
       "      <td>26.000000</td>\n",
       "      <td>71.909103</td>\n",
       "      <td>138.0</td>\n",
       "      <td>242.5</td>\n",
       "      <td>77.800003</td>\n",
       "      <td>102.709999</td>\n",
       "    </tr>\n",
       "    <tr>\n",
       "      <th>2016-01-06</th>\n",
       "      <td>26.049999</td>\n",
       "      <td>25.950001</td>\n",
       "      <td>71.818199</td>\n",
       "      <td>135.5</td>\n",
       "      <td>227.0</td>\n",
       "      <td>76.800003</td>\n",
       "      <td>100.699997</td>\n",
       "    </tr>\n",
       "    <tr>\n",
       "      <th>2016-01-07</th>\n",
       "      <td>27.350000</td>\n",
       "      <td>26.150000</td>\n",
       "      <td>71.181801</td>\n",
       "      <td>133.0</td>\n",
       "      <td>206.0</td>\n",
       "      <td>77.000000</td>\n",
       "      <td>96.449997</td>\n",
       "    </tr>\n",
       "  </tbody>\n",
       "</table>\n",
       "</div>"
      ],
      "text/plain": [
       "              1101.TW    1102.TW    2317.TW  2330.TW  2454.TW    2498.TW  \\\n",
       "Date                                                                       \n",
       "2015-12-31        NaN        NaN        NaN      NaN      NaN        NaN   \n",
       "2016-01-04  26.150000  26.250000  71.818199    139.5    245.0  79.000000   \n",
       "2016-01-05  26.400000  26.000000  71.909103    138.0    242.5  77.800003   \n",
       "2016-01-06  26.049999  25.950001  71.818199    135.5    227.0  76.800003   \n",
       "2016-01-07  27.350000  26.150000  71.181801    133.0    206.0  77.000000   \n",
       "\n",
       "                  AAPL  \n",
       "Date                    \n",
       "2015-12-31  105.260002  \n",
       "2016-01-04  105.349998  \n",
       "2016-01-05  102.709999  \n",
       "2016-01-06  100.699997  \n",
       "2016-01-07   96.449997  "
      ]
     },
     "execution_count": 121,
     "metadata": {},
     "output_type": "execute_result"
    }
   ],
   "source": [
    "import pandas_datareader \n",
    "df=pandas_datareader.get_data_yahoo(['1101.TW','1102.TW','2498.TW','2454.TW','2317.TW','2330.TW','AAPL'],start='2016-01-01')['Close']\n",
    "df.head()"
   ]
  },
  {
   "cell_type": "code",
   "execution_count": 122,
   "metadata": {
    "collapsed": true
   },
   "outputs": [],
   "source": [
    "rets=df.pct_change(1)\n",
    "corr=rets.corr()"
   ]
  },
  {
   "cell_type": "code",
   "execution_count": 123,
   "metadata": {},
   "outputs": [
    {
     "data": {
      "text/html": [
       "<div>\n",
       "<style>\n",
       "    .dataframe thead tr:only-child th {\n",
       "        text-align: right;\n",
       "    }\n",
       "\n",
       "    .dataframe thead th {\n",
       "        text-align: left;\n",
       "    }\n",
       "\n",
       "    .dataframe tbody tr th {\n",
       "        vertical-align: top;\n",
       "    }\n",
       "</style>\n",
       "<table border=\"1\" class=\"dataframe\">\n",
       "  <thead>\n",
       "    <tr style=\"text-align: right;\">\n",
       "      <th></th>\n",
       "      <th>1101.TW</th>\n",
       "      <th>1102.TW</th>\n",
       "      <th>2317.TW</th>\n",
       "      <th>2330.TW</th>\n",
       "      <th>2454.TW</th>\n",
       "      <th>2498.TW</th>\n",
       "      <th>AAPL</th>\n",
       "    </tr>\n",
       "  </thead>\n",
       "  <tbody>\n",
       "    <tr>\n",
       "      <th>1101.TW</th>\n",
       "      <td>1.000000</td>\n",
       "      <td>0.467808</td>\n",
       "      <td>0.273911</td>\n",
       "      <td>0.309529</td>\n",
       "      <td>0.162141</td>\n",
       "      <td>0.134564</td>\n",
       "      <td>-0.042625</td>\n",
       "    </tr>\n",
       "    <tr>\n",
       "      <th>1102.TW</th>\n",
       "      <td>0.467808</td>\n",
       "      <td>1.000000</td>\n",
       "      <td>0.249334</td>\n",
       "      <td>0.236307</td>\n",
       "      <td>0.177028</td>\n",
       "      <td>0.141684</td>\n",
       "      <td>-0.013318</td>\n",
       "    </tr>\n",
       "    <tr>\n",
       "      <th>2317.TW</th>\n",
       "      <td>0.273911</td>\n",
       "      <td>0.249334</td>\n",
       "      <td>1.000000</td>\n",
       "      <td>0.446104</td>\n",
       "      <td>0.276597</td>\n",
       "      <td>0.109461</td>\n",
       "      <td>0.105676</td>\n",
       "    </tr>\n",
       "    <tr>\n",
       "      <th>2330.TW</th>\n",
       "      <td>0.309529</td>\n",
       "      <td>0.236307</td>\n",
       "      <td>0.446104</td>\n",
       "      <td>1.000000</td>\n",
       "      <td>0.413251</td>\n",
       "      <td>0.299764</td>\n",
       "      <td>0.148862</td>\n",
       "    </tr>\n",
       "    <tr>\n",
       "      <th>2454.TW</th>\n",
       "      <td>0.162141</td>\n",
       "      <td>0.177028</td>\n",
       "      <td>0.276597</td>\n",
       "      <td>0.413251</td>\n",
       "      <td>1.000000</td>\n",
       "      <td>0.224951</td>\n",
       "      <td>0.085535</td>\n",
       "    </tr>\n",
       "    <tr>\n",
       "      <th>2498.TW</th>\n",
       "      <td>0.134564</td>\n",
       "      <td>0.141684</td>\n",
       "      <td>0.109461</td>\n",
       "      <td>0.299764</td>\n",
       "      <td>0.224951</td>\n",
       "      <td>1.000000</td>\n",
       "      <td>-0.003662</td>\n",
       "    </tr>\n",
       "    <tr>\n",
       "      <th>AAPL</th>\n",
       "      <td>-0.042625</td>\n",
       "      <td>-0.013318</td>\n",
       "      <td>0.105676</td>\n",
       "      <td>0.148862</td>\n",
       "      <td>0.085535</td>\n",
       "      <td>-0.003662</td>\n",
       "      <td>1.000000</td>\n",
       "    </tr>\n",
       "  </tbody>\n",
       "</table>\n",
       "</div>"
      ],
      "text/plain": [
       "          1101.TW   1102.TW   2317.TW   2330.TW   2454.TW   2498.TW      AAPL\n",
       "1101.TW  1.000000  0.467808  0.273911  0.309529  0.162141  0.134564 -0.042625\n",
       "1102.TW  0.467808  1.000000  0.249334  0.236307  0.177028  0.141684 -0.013318\n",
       "2317.TW  0.273911  0.249334  1.000000  0.446104  0.276597  0.109461  0.105676\n",
       "2330.TW  0.309529  0.236307  0.446104  1.000000  0.413251  0.299764  0.148862\n",
       "2454.TW  0.162141  0.177028  0.276597  0.413251  1.000000  0.224951  0.085535\n",
       "2498.TW  0.134564  0.141684  0.109461  0.299764  0.224951  1.000000 -0.003662\n",
       "AAPL    -0.042625 -0.013318  0.105676  0.148862  0.085535 -0.003662  1.000000"
      ]
     },
     "execution_count": 123,
     "metadata": {},
     "output_type": "execute_result"
    }
   ],
   "source": [
    "corr"
   ]
  },
  {
   "cell_type": "code",
   "execution_count": 129,
   "metadata": {},
   "outputs": [
    {
     "data": {
      "image/png": "[encoded data removed]",
      "text/plain": [
       "<matplotlib.figure.Figure at 0x12f070f0>"
      ]
     },
     "metadata": {},
     "output_type": "display_data"
    }
   ],
   "source": [
    "plt.figure(figsize=(10,10))\n",
    "plt.scatter(rets.mean(), rets.std())\n",
    "plt.xlabel('Expected returns')\n",
    "plt.ylabel('Risk')\n",
    "for label, x, y in zip(rets.columns, rets.mean(), rets.std()):\n",
    "    plt.annotate(\n",
    "        label, \n",
    "        xy = (x, y), xytext = (20, -20),\n",
    "        textcoords = 'offset points', ha = 'right', va = 'bottom',\n",
    "        bbox = dict(boxstyle = 'round,pad=0.5', fc = 'yellow', alpha = 0.5),\n",
    "        arrowprops = dict(arrowstyle = '->', connectionstyle = 'arc3,rad=0'))"
   ]
  },
  {
   "cell_type": "code",
   "execution_count": 130,
   "metadata": {},
   "outputs": [
    {
     "data": {
      "text/html": [
       "<div>\n",
       "<style>\n",
       "    .dataframe thead tr:only-child th {\n",
       "        text-align: right;\n",
       "    }\n",
       "\n",
       "    .dataframe thead th {\n",
       "        text-align: left;\n",
       "    }\n",
       "\n",
       "    .dataframe tbody tr th {\n",
       "        vertical-align: top;\n",
       "    }\n",
       "</style>\n",
       "<table border=\"1\" class=\"dataframe\">\n",
       "  <thead>\n",
       "    <tr style=\"text-align: right;\">\n",
       "      <th></th>\n",
       "      <th>AAPL</th>\n",
       "      <th>AMZN</th>\n",
       "      <th>FB</th>\n",
       "      <th>GOOG</th>\n",
       "      <th>MSFT</th>\n",
       "    </tr>\n",
       "    <tr>\n",
       "      <th>Date</th>\n",
       "      <th></th>\n",
       "      <th></th>\n",
       "      <th></th>\n",
       "      <th></th>\n",
       "      <th></th>\n",
       "    </tr>\n",
       "  </thead>\n",
       "  <tbody>\n",
       "    <tr>\n",
       "      <th>2017-11-03</th>\n",
       "      <td>172.500000</td>\n",
       "      <td>1111.599976</td>\n",
       "      <td>178.919998</td>\n",
       "      <td>1032.479980</td>\n",
       "      <td>84.139999</td>\n",
       "    </tr>\n",
       "    <tr>\n",
       "      <th>2017-11-02</th>\n",
       "      <td>168.110001</td>\n",
       "      <td>1094.219971</td>\n",
       "      <td>178.919998</td>\n",
       "      <td>1025.579956</td>\n",
       "      <td>84.050003</td>\n",
       "    </tr>\n",
       "    <tr>\n",
       "      <th>2017-11-01</th>\n",
       "      <td>166.889999</td>\n",
       "      <td>1103.680054</td>\n",
       "      <td>182.660004</td>\n",
       "      <td>1025.500000</td>\n",
       "      <td>83.180000</td>\n",
       "    </tr>\n",
       "    <tr>\n",
       "      <th>2017-10-31</th>\n",
       "      <td>169.039993</td>\n",
       "      <td>1105.280029</td>\n",
       "      <td>180.059998</td>\n",
       "      <td>1016.640015</td>\n",
       "      <td>83.180000</td>\n",
       "    </tr>\n",
       "    <tr>\n",
       "      <th>2017-10-30</th>\n",
       "      <td>166.720001</td>\n",
       "      <td>1110.849976</td>\n",
       "      <td>179.869995</td>\n",
       "      <td>1017.109985</td>\n",
       "      <td>83.889999</td>\n",
       "    </tr>\n",
       "  </tbody>\n",
       "</table>\n",
       "</div>"
      ],
      "text/plain": [
       "                  AAPL         AMZN          FB         GOOG       MSFT\n",
       "Date                                                                   \n",
       "2017-11-03  172.500000  1111.599976  178.919998  1032.479980  84.139999\n",
       "2017-11-02  168.110001  1094.219971  178.919998  1025.579956  84.050003\n",
       "2017-11-01  166.889999  1103.680054  182.660004  1025.500000  83.180000\n",
       "2017-10-31  169.039993  1105.280029  180.059998  1016.640015  83.180000\n",
       "2017-10-30  166.720001  1110.849976  179.869995  1017.109985  83.889999"
      ]
     },
     "execution_count": 130,
     "metadata": {},
     "output_type": "execute_result"
    }
   ],
   "source": [
    "import pandas_datareader \n",
    "df=pandas_datareader.get_data_yahoo(['FB','AAPL','AMZN','MSFT','GOOG'],start='2014-01-01')['Close']\n",
    "df.head()"
   ]
  },
  {
   "cell_type": "code",
   "execution_count": 131,
   "metadata": {
    "collapsed": true
   },
   "outputs": [],
   "source": [
    "rets=df.pct_change(1)"
   ]
  },
  {
   "cell_type": "code",
   "execution_count": 132,
   "metadata": {},
   "outputs": [
    {
     "data": {
      "image/png": "[encoded data removed]",
      "text/plain": [
       "<matplotlib.figure.Figure at 0x181095f8>"
      ]
     },
     "metadata": {},
     "output_type": "display_data"
    }
   ],
   "source": [
    "plt.figure(figsize=(10,10))\n",
    "plt.scatter(rets.mean(), rets.std())\n",
    "plt.xlabel('Expected returns')\n",
    "plt.ylabel('Risk')\n",
    "for label, x, y in zip(rets.columns, rets.mean(), rets.std()):\n",
    "    plt.annotate(\n",
    "        label, \n",
    "        xy = (x, y), xytext = (20, -20),\n",
    "        textcoords = 'offset points', ha = 'right', va = 'bottom',\n",
    "        bbox = dict(boxstyle = 'round,pad=0.5', fc = 'yellow', alpha = 0.5),\n",
    "        arrowprops = dict(arrowstyle = '->', connectionstyle = 'arc3,rad=0'))"
   ]
  },
  {
   "cell_type": "markdown",
   "metadata": {},
   "source": [
    "## 虛擬貨幣"
   ]
  },
  {
   "cell_type": "code",
   "execution_count": 135,
   "metadata": {},
   "outputs": [],
   "source": [
    "import requests\n",
    "res = requests.get('https://www.coingecko.com/en/price_charts/bitcoin/usd/90_days.json')\n",
    "btc = pandas.DataFrame(res.json()['stats'])"
   ]
  },
  {
   "cell_type": "code",
   "execution_count": 137,
   "metadata": {},
   "outputs": [],
   "source": [
    "import requests\n",
    "res = requests.get('https://www.coingecko.com/en/price_charts/ethereum/usd/90_days.json')\n",
    "eth = pandas.DataFrame(res.json()['stats'])\n"
   ]
  },
  {
   "cell_type": "code",
   "execution_count": 138,
   "metadata": {
    "collapsed": true
   },
   "outputs": [],
   "source": [
    "import requests\n",
    "res = requests.get('https://www.coingecko.com/en/price_charts/litecoin/usd/90_days.json')\n",
    "ltc = pandas.DataFrame(res.json()['stats'])"
   ]
  },
  {
   "cell_type": "code",
   "execution_count": 149,
   "metadata": {},
   "outputs": [
    {
     "data": {
      "text/html": [
       "<div>\n",
       "<style>\n",
       "    .dataframe thead tr:only-child th {\n",
       "        text-align: right;\n",
       "    }\n",
       "\n",
       "    .dataframe thead th {\n",
       "        text-align: left;\n",
       "    }\n",
       "\n",
       "    .dataframe tbody tr th {\n",
       "        vertical-align: top;\n",
       "    }\n",
       "</style>\n",
       "<table border=\"1\" class=\"dataframe\">\n",
       "  <thead>\n",
       "    <tr style=\"text-align: right;\">\n",
       "      <th></th>\n",
       "      <th>ltc</th>\n",
       "    </tr>\n",
       "    <tr>\n",
       "      <th>tm</th>\n",
       "      <th></th>\n",
       "    </tr>\n",
       "  </thead>\n",
       "  <tbody>\n",
       "    <tr>\n",
       "      <th>1.502150e+12</th>\n",
       "      <td>48.68</td>\n",
       "    </tr>\n",
       "    <tr>\n",
       "      <th>1.502237e+12</th>\n",
       "      <td>48.11</td>\n",
       "    </tr>\n",
       "    <tr>\n",
       "      <th>1.502323e+12</th>\n",
       "      <td>46.45</td>\n",
       "    </tr>\n",
       "    <tr>\n",
       "      <th>1.502410e+12</th>\n",
       "      <td>46.51</td>\n",
       "    </tr>\n",
       "    <tr>\n",
       "      <th>1.502496e+12</th>\n",
       "      <td>46.05</td>\n",
       "    </tr>\n",
       "  </tbody>\n",
       "</table>\n",
       "</div>"
      ],
      "text/plain": [
       "                ltc\n",
       "tm                 \n",
       "1.502150e+12  48.68\n",
       "1.502237e+12  48.11\n",
       "1.502323e+12  46.45\n",
       "1.502410e+12  46.51\n",
       "1.502496e+12  46.05"
      ]
     },
     "execution_count": 149,
     "metadata": {},
     "output_type": "execute_result"
    }
   ],
   "source": [
    "ltc.columns = ['tm', 'ltc']\n",
    "ltc.index = ltc['tm']\n",
    "del ltc['tm']\n",
    "ltc.head()"
   ]
  },
  {
   "cell_type": "code",
   "execution_count": 150,
   "metadata": {},
   "outputs": [
    {
     "data": {
      "text/html": [
       "<div>\n",
       "<style>\n",
       "    .dataframe thead tr:only-child th {\n",
       "        text-align: right;\n",
       "    }\n",
       "\n",
       "    .dataframe thead th {\n",
       "        text-align: left;\n",
       "    }\n",
       "\n",
       "    .dataframe tbody tr th {\n",
       "        vertical-align: top;\n",
       "    }\n",
       "</style>\n",
       "<table border=\"1\" class=\"dataframe\">\n",
       "  <thead>\n",
       "    <tr style=\"text-align: right;\">\n",
       "      <th></th>\n",
       "      <th>btc</th>\n",
       "    </tr>\n",
       "    <tr>\n",
       "      <th>tm</th>\n",
       "      <th></th>\n",
       "    </tr>\n",
       "  </thead>\n",
       "  <tbody>\n",
       "    <tr>\n",
       "      <th>1.502150e+12</th>\n",
       "      <td>3410.45</td>\n",
       "    </tr>\n",
       "    <tr>\n",
       "      <th>1.502237e+12</th>\n",
       "      <td>3330.90</td>\n",
       "    </tr>\n",
       "    <tr>\n",
       "      <th>1.502323e+12</th>\n",
       "      <td>3367.91</td>\n",
       "    </tr>\n",
       "    <tr>\n",
       "      <th>1.502410e+12</th>\n",
       "      <td>3562.59</td>\n",
       "    </tr>\n",
       "    <tr>\n",
       "      <th>1.502496e+12</th>\n",
       "      <td>3800.14</td>\n",
       "    </tr>\n",
       "  </tbody>\n",
       "</table>\n",
       "</div>"
      ],
      "text/plain": [
       "                  btc\n",
       "tm                   \n",
       "1.502150e+12  3410.45\n",
       "1.502237e+12  3330.90\n",
       "1.502323e+12  3367.91\n",
       "1.502410e+12  3562.59\n",
       "1.502496e+12  3800.14"
      ]
     },
     "execution_count": 150,
     "metadata": {},
     "output_type": "execute_result"
    }
   ],
   "source": [
    "btc.columns = ['tm', 'btc']\n",
    "btc.index = btc['tm']\n",
    "del btc['tm']\n",
    "btc.head()"
   ]
  },
  {
   "cell_type": "code",
   "execution_count": 151,
   "metadata": {
    "scrolled": true
   },
   "outputs": [
    {
     "data": {
      "text/html": [
       "<div>\n",
       "<style>\n",
       "    .dataframe thead tr:only-child th {\n",
       "        text-align: right;\n",
       "    }\n",
       "\n",
       "    .dataframe thead th {\n",
       "        text-align: left;\n",
       "    }\n",
       "\n",
       "    .dataframe tbody tr th {\n",
       "        vertical-align: top;\n",
       "    }\n",
       "</style>\n",
       "<table border=\"1\" class=\"dataframe\">\n",
       "  <thead>\n",
       "    <tr style=\"text-align: right;\">\n",
       "      <th></th>\n",
       "      <th>eth</th>\n",
       "    </tr>\n",
       "    <tr>\n",
       "      <th>tm</th>\n",
       "      <th></th>\n",
       "    </tr>\n",
       "  </thead>\n",
       "  <tbody>\n",
       "    <tr>\n",
       "      <th>1.502150e+12</th>\n",
       "      <td>295.15</td>\n",
       "    </tr>\n",
       "    <tr>\n",
       "      <th>1.502237e+12</th>\n",
       "      <td>297.07</td>\n",
       "    </tr>\n",
       "    <tr>\n",
       "      <th>1.502323e+12</th>\n",
       "      <td>296.78</td>\n",
       "    </tr>\n",
       "    <tr>\n",
       "      <th>1.502410e+12</th>\n",
       "      <td>306.83</td>\n",
       "    </tr>\n",
       "    <tr>\n",
       "      <th>1.502496e+12</th>\n",
       "      <td>308.63</td>\n",
       "    </tr>\n",
       "  </tbody>\n",
       "</table>\n",
       "</div>"
      ],
      "text/plain": [
       "                 eth\n",
       "tm                  \n",
       "1.502150e+12  295.15\n",
       "1.502237e+12  297.07\n",
       "1.502323e+12  296.78\n",
       "1.502410e+12  306.83\n",
       "1.502496e+12  308.63"
      ]
     },
     "execution_count": 151,
     "metadata": {},
     "output_type": "execute_result"
    }
   ],
   "source": [
    "eth.columns = ['tm', 'eth']\n",
    "eth.index = eth['tm']\n",
    "del eth['tm']\n",
    "eth.head()"
   ]
  },
  {
   "cell_type": "code",
   "execution_count": 152,
   "metadata": {},
   "outputs": [],
   "source": [
    "btc_eth = pandas.merge(btc, eth, left_index=True, right_index=True)"
   ]
  },
  {
   "cell_type": "code",
   "execution_count": 154,
   "metadata": {},
   "outputs": [],
   "source": [
    "ltc_btc_eth = pandas.merge(ltc, btc_eth, left_index=True, right_index=True)"
   ]
  },
  {
   "cell_type": "code",
   "execution_count": 156,
   "metadata": {},
   "outputs": [
    {
     "data": {
      "text/plain": [
       "<matplotlib.axes._subplots.AxesSubplot at 0x180798d0>"
      ]
     },
     "execution_count": 156,
     "metadata": {},
     "output_type": "execute_result"
    },
    {
     "data": {
      "image/png": "[encoded data removed]",
      "text/plain": [
       "<matplotlib.figure.Figure at 0x18088fd0>"
      ]
     },
     "metadata": {},
     "output_type": "display_data"
    }
   ],
   "source": [
    "ltc_btc_eth.plot(kind = 'line')"
   ]
  },
  {
   "cell_type": "code",
   "execution_count": 157,
   "metadata": {},
   "outputs": [
    {
     "data": {
      "text/html": [
       "<div>\n",
       "<style>\n",
       "    .dataframe thead tr:only-child th {\n",
       "        text-align: right;\n",
       "    }\n",
       "\n",
       "    .dataframe thead th {\n",
       "        text-align: left;\n",
       "    }\n",
       "\n",
       "    .dataframe tbody tr th {\n",
       "        vertical-align: top;\n",
       "    }\n",
       "</style>\n",
       "<table border=\"1\" class=\"dataframe\">\n",
       "  <thead>\n",
       "    <tr style=\"text-align: right;\">\n",
       "      <th></th>\n",
       "      <th>ltc</th>\n",
       "      <th>btc</th>\n",
       "      <th>eth</th>\n",
       "    </tr>\n",
       "  </thead>\n",
       "  <tbody>\n",
       "    <tr>\n",
       "      <th>ltc</th>\n",
       "      <td>1.000000</td>\n",
       "      <td>0.664507</td>\n",
       "      <td>0.711046</td>\n",
       "    </tr>\n",
       "    <tr>\n",
       "      <th>btc</th>\n",
       "      <td>0.664507</td>\n",
       "      <td>1.000000</td>\n",
       "      <td>0.706732</td>\n",
       "    </tr>\n",
       "    <tr>\n",
       "      <th>eth</th>\n",
       "      <td>0.711046</td>\n",
       "      <td>0.706732</td>\n",
       "      <td>1.000000</td>\n",
       "    </tr>\n",
       "  </tbody>\n",
       "</table>\n",
       "</div>"
      ],
      "text/plain": [
       "          ltc       btc       eth\n",
       "ltc  1.000000  0.664507  0.711046\n",
       "btc  0.664507  1.000000  0.706732\n",
       "eth  0.711046  0.706732  1.000000"
      ]
     },
     "execution_count": 157,
     "metadata": {},
     "output_type": "execute_result"
    }
   ],
   "source": [
    "rets=ltc_btc_eth.pct_change(1)\n",
    "corr=rets.corr()\n",
    "corr"
   ]
  },
  {
   "cell_type": "code",
   "execution_count": 158,
   "metadata": {},
   "outputs": [
    {
     "data": {
      "image/png": "[encoded data removed]",
      "text/plain": [
       "<matplotlib.figure.Figure at 0x1808e748>"
      ]
     },
     "metadata": {},
     "output_type": "display_data"
    }
   ],
   "source": [
    "plt.figure(figsize=(10,10))\n",
    "plt.scatter(rets.mean(), rets.std())\n",
    "plt.xlabel('Expected returns')\n",
    "plt.ylabel('Risk')\n",
    "for label, x, y in zip(rets.columns, rets.mean(), rets.std()):\n",
    "    plt.annotate(\n",
    "        label, \n",
    "        xy = (x, y), xytext = (20, -20),\n",
    "        textcoords = 'offset points', ha = 'right', va = 'bottom',\n",
    "        bbox = dict(boxstyle = 'round,pad=0.5', fc = 'yellow', alpha = 0.5),\n",
    "        arrowprops = dict(arrowstyle = '->', connectionstyle = 'arc3,rad=0'))"
   ]
  },
  {
   "cell_type": "markdown",
   "metadata": {},
   "source": [
    "## Plotly"
   ]
  },
  {
   "cell_type": "code",
   "execution_count": 159,
   "metadata": {},
   "outputs": [
    {
     "name": "stdout",
     "output_type": "stream",
     "text": [
      "Collecting plotly\n",
      "  Downloading plotly-2.2.1.tar.gz (1.1MB)\n",
      "Requirement already satisfied: decorator>=4.0.6 in c:\\programdata\\anaconda3\\lib\\site-packages (from plotly)\n",
      "Requirement already satisfied: nbformat>=4.2 in c:\\programdata\\anaconda3\\lib\\site-packages (from plotly)\n",
      "Requirement already satisfied: pytz in c:\\programdata\\anaconda3\\lib\\site-packages (from plotly)\n",
      "Requirement already satisfied: requests in c:\\programdata\\anaconda3\\lib\\site-packages (from plotly)\n",
      "Requirement already satisfied: six in c:\\programdata\\anaconda3\\lib\\site-packages (from plotly)\n",
      "Requirement already satisfied: ipython_genutils in c:\\programdata\\anaconda3\\lib\\site-packages (from nbformat>=4.2->plotly)\n",
      "Requirement already satisfied: traitlets>=4.1 in c:\\programdata\\anaconda3\\lib\\site-packages (from nbformat>=4.2->plotly)\n",
      "Requirement already satisfied: jsonschema!=2.5.0,>=2.4 in c:\\programdata\\anaconda3\\lib\\site-packages (from nbformat>=4.2->plotly)\n",
      "Requirement already satisfied: jupyter_core in c:\\programdata\\anaconda3\\lib\\site-packages (from nbformat>=4.2->plotly)\n",
      "Requirement already satisfied: chardet<3.1.0,>=3.0.2 in c:\\programdata\\anaconda3\\lib\\site-packages (from requests->plotly)\n",
      "Requirement already satisfied: idna<2.7,>=2.5 in c:\\programdata\\anaconda3\\lib\\site-packages (from requests->plotly)\n",
      "Requirement already satisfied: urllib3<1.23,>=1.21.1 in c:\\programdata\\anaconda3\\lib\\site-packages (from requests->plotly)\n",
      "Requirement already satisfied: certifi>=2017.4.17 in c:\\programdata\\anaconda3\\lib\\site-packages (from requests->plotly)\n",
      "Building wheels for collected packages: plotly\n",
      "  Running setup.py bdist_wheel for plotly: started\n",
      "  Running setup.py bdist_wheel for plotly: finished with status 'done'\n",
      "  Stored in directory: C:\\Users\\USER\\AppData\\Local\\pip\\Cache\\wheels\\cc\\87\\3f\\6a282eb21da5d8223472bed40ee023cdcf2e9691b117969a4c\n",
      "Successfully built plotly\n",
      "Installing collected packages: plotly\n",
      "Successfully installed plotly-2.2.1\n"
     ]
    }
   ],
   "source": [
    "! pip install plotly"
   ]
  },
  {
   "cell_type": "code",
   "execution_count": 160,
   "metadata": {},
   "outputs": [
    {
     "data": {
      "text/plain": [
       "'file://C:\\\\Users\\\\USER\\\\temp-plot.html'"
      ]
     },
     "execution_count": 160,
     "metadata": {},
     "output_type": "execute_result"
    }
   ],
   "source": [
    "\n",
    "import plotly\n",
    "from plotly.graph_objs import Scatter, Layout\n",
    "\n",
    "plotly.offline.plot({\n",
    "    \"data\": [Scatter(x=[1, 2, 3, 4], y=[4, 3, 2, 1])],\n",
    "    \"layout\": Layout(title=\"hello world\")\n",
    "})"
   ]
  },
  {
   "cell_type": "markdown",
   "metadata": {},
   "source": [
    "## Tableau\n",
    "- 使用Tableau 做財經資訊視覺化\n",
    "- https://youtu.be/C0xcXvte8N0\n",
    "- https://public.tableau.com/en-us/s/"
   ]
  },
  {
   "cell_type": "code",
   "execution_count": 187,
   "metadata": {},
   "outputs": [
    {
     "data": {
      "text/plain": [
       "b'WKTJ+KfQ5JPR+5el6qDX/LX5xJT43JXtwZLovYbu1anpwZHJz6nq64bW6d/I2ID93qjO+6nY25Hz3ZSuxKHz7bXW8Zfm6pTg35LMt4n84qTN9pDt/6jq+Yflz9bdy4bBy6rt3qr27pL225aD/6Hb82ep6fqm59+S5PyUpN+vx+u32fqW1cWU2MORyrmG7Pai0s6QxtKn6tqH1Nrexf2A/d6p6dmn6dmR+vqWg/+h2/O00OqY2dKWxOiT7rqH3sul7ciSz8qn5duIzc/e1PaJ2PyozfCg/f+R1/mUpfqh9u+29PSUwtWW/sad1ZqH9tWk3tuc7tyk5vuG1P7a4cWL+sSl79mq//+R3/KXsOyi0cG75+2Wx/+W0MSS4rqE59uu7sCd+cin5NGJ6d7Qx9GI2uqp2/iqwf6S9vyWgeig/8K02e2Sz8NT'"
      ]
     },
     "execution_count": 187,
     "metadata": {},
     "output_type": "execute_result"
    }
   ],
   "source": [
    "from Crypto.Cipher import XOR\n",
    "import base64\n",
    "key = 'RLuqOAstour9aGoA'\n",
    "def encrypt(plaintext):\n",
    "    cipher = XOR.new(key)\n",
    "    return base64.b64encode(cipher.encrypt(plaintext))\n",
    "\n",
    "def decrypt(ciphertext):\n",
    "    cipher = XOR.new(key)\n",
    "    return cipher.decrypt(base64.b64decode(ciphertext))\n",
    "\n",
    "\n",
    "#Code stores the encrypted information\n",
    "code = '''\n",
    "載著美國總統川普的空軍一號飛機，今晨在日本的橫田美軍基地降落，這是川普亞洲5國馬拉松訪問的第一站。川普表示，在訪問亞洲期間將會晤俄羅斯總統普丁，希望普丁協助解決北韓問題。他隨後將前往高爾夫球場，與日本首相安倍晉三球敘。 '''\n",
    "encrypt(code)"
   ]
  },
  {
   "cell_type": "code",
   "execution_count": 181,
   "metadata": {},
   "outputs": [],
   "source": [
    "a = encrypt(code)"
   ]
  },
  {
   "cell_type": "code",
   "execution_count": 184,
   "metadata": {},
   "outputs": [
    {
     "data": {
      "text/plain": [
       "'\\n載著美國總統川普的空軍一號飛機，今晨在日本的橫田美軍基地降落，這是川普亞洲5國馬拉松訪問的第一站。川普表示，在訪問亞洲期間將會晤俄羅斯總統普丁，希望普丁協助解決北韓問題。他隨後將前往高爾夫球場，與日本首相安倍晉三球敘。 '"
      ]
     },
     "execution_count": 184,
     "metadata": {},
     "output_type": "execute_result"
    }
   ],
   "source": [
    "decrypt(a).decode('utf-8')"
   ]
  },
  {
   "cell_type": "markdown",
   "metadata": {},
   "source": [
    "## 敘述性統計"
   ]
  },
  {
   "cell_type": "code",
   "execution_count": 188,
   "metadata": {
    "collapsed": true
   },
   "outputs": [],
   "source": [
    "import pandas_datareader\n",
    "tw2330 = pandas_datareader.get_data_yahoo('2330.TW', start = '2004-01-01')"
   ]
  },
  {
   "cell_type": "code",
   "execution_count": 189,
   "metadata": {},
   "outputs": [
    {
     "name": "stdout",
     "output_type": "stream",
     "text": [
      "Populating the interactive namespace from numpy and matplotlib\n"
     ]
    },
    {
     "data": {
      "text/plain": [
       "<matplotlib.axes._subplots.AxesSubplot at 0x181a6940>"
      ]
     },
     "execution_count": 189,
     "metadata": {},
     "output_type": "execute_result"
    },
    {
     "data": {
      "image/png": "[encoded data removed]",
      "text/plain": [
       "<matplotlib.figure.Figure at 0x1819f240>"
      ]
     },
     "metadata": {},
     "output_type": "display_data"
    }
   ],
   "source": [
    "% pylab inline\n",
    "tw2330['Close'].plot(kind = 'line')"
   ]
  },
  {
   "cell_type": "code",
   "execution_count": 190,
   "metadata": {},
   "outputs": [
    {
     "name": "stdout",
     "output_type": "stream",
     "text": [
      "<class 'pandas.core.frame.DataFrame'>\n",
      "DatetimeIndex: 3448 entries, 2004-01-02 to 2017-11-03\n",
      "Data columns (total 6 columns):\n",
      "Open         3325 non-null float64\n",
      "High         3325 non-null float64\n",
      "Low          3325 non-null float64\n",
      "Close        3325 non-null float64\n",
      "Adj Close    3325 non-null float64\n",
      "Volume       3325 non-null float64\n",
      "dtypes: float64(6)\n",
      "memory usage: 188.6 KB\n"
     ]
    }
   ],
   "source": [
    "tw2330.info()"
   ]
  },
  {
   "cell_type": "code",
   "execution_count": 191,
   "metadata": {},
   "outputs": [
    {
     "data": {
      "text/html": [
       "<div>\n",
       "<style>\n",
       "    .dataframe thead tr:only-child th {\n",
       "        text-align: right;\n",
       "    }\n",
       "\n",
       "    .dataframe thead th {\n",
       "        text-align: left;\n",
       "    }\n",
       "\n",
       "    .dataframe tbody tr th {\n",
       "        vertical-align: top;\n",
       "    }\n",
       "</style>\n",
       "<table border=\"1\" class=\"dataframe\">\n",
       "  <thead>\n",
       "    <tr style=\"text-align: right;\">\n",
       "      <th></th>\n",
       "      <th>Open</th>\n",
       "      <th>High</th>\n",
       "      <th>Low</th>\n",
       "      <th>Close</th>\n",
       "      <th>Adj Close</th>\n",
       "      <th>Volume</th>\n",
       "    </tr>\n",
       "  </thead>\n",
       "  <tbody>\n",
       "    <tr>\n",
       "      <th>count</th>\n",
       "      <td>3325.000000</td>\n",
       "      <td>3325.000000</td>\n",
       "      <td>3325.000000</td>\n",
       "      <td>3325.000000</td>\n",
       "      <td>3325.000000</td>\n",
       "      <td>3.325000e+03</td>\n",
       "    </tr>\n",
       "    <tr>\n",
       "      <th>mean</th>\n",
       "      <td>88.734725</td>\n",
       "      <td>89.498570</td>\n",
       "      <td>87.908122</td>\n",
       "      <td>88.754832</td>\n",
       "      <td>74.069967</td>\n",
       "      <td>8.381512e+09</td>\n",
       "    </tr>\n",
       "    <tr>\n",
       "      <th>std</th>\n",
       "      <td>46.561147</td>\n",
       "      <td>46.762265</td>\n",
       "      <td>46.384804</td>\n",
       "      <td>46.610295</td>\n",
       "      <td>50.641337</td>\n",
       "      <td>2.344190e+10</td>\n",
       "    </tr>\n",
       "    <tr>\n",
       "      <th>min</th>\n",
       "      <td>34.079601</td>\n",
       "      <td>36.694500</td>\n",
       "      <td>34.079601</td>\n",
       "      <td>35.990398</td>\n",
       "      <td>21.460321</td>\n",
       "      <td>0.000000e+00</td>\n",
       "    </tr>\n",
       "    <tr>\n",
       "      <th>25%</th>\n",
       "      <td>58.219898</td>\n",
       "      <td>58.723900</td>\n",
       "      <td>57.384998</td>\n",
       "      <td>58.015900</td>\n",
       "      <td>38.503231</td>\n",
       "      <td>3.029700e+07</td>\n",
       "    </tr>\n",
       "    <tr>\n",
       "      <th>50%</th>\n",
       "      <td>67.699997</td>\n",
       "      <td>68.169502</td>\n",
       "      <td>67.099998</td>\n",
       "      <td>67.677002</td>\n",
       "      <td>49.055164</td>\n",
       "      <td>4.363490e+07</td>\n",
       "    </tr>\n",
       "    <tr>\n",
       "      <th>75%</th>\n",
       "      <td>111.000000</td>\n",
       "      <td>111.500000</td>\n",
       "      <td>109.500000</td>\n",
       "      <td>111.000000</td>\n",
       "      <td>97.095573</td>\n",
       "      <td>6.965500e+07</td>\n",
       "    </tr>\n",
       "    <tr>\n",
       "      <th>max</th>\n",
       "      <td>243.500000</td>\n",
       "      <td>245.000000</td>\n",
       "      <td>241.500000</td>\n",
       "      <td>243.000000</td>\n",
       "      <td>243.000000</td>\n",
       "      <td>3.383839e+11</td>\n",
       "    </tr>\n",
       "  </tbody>\n",
       "</table>\n",
       "</div>"
      ],
      "text/plain": [
       "              Open         High          Low        Close    Adj Close  \\\n",
       "count  3325.000000  3325.000000  3325.000000  3325.000000  3325.000000   \n",
       "mean     88.734725    89.498570    87.908122    88.754832    74.069967   \n",
       "std      46.561147    46.762265    46.384804    46.610295    50.641337   \n",
       "min      34.079601    36.694500    34.079601    35.990398    21.460321   \n",
       "25%      58.219898    58.723900    57.384998    58.015900    38.503231   \n",
       "50%      67.699997    68.169502    67.099998    67.677002    49.055164   \n",
       "75%     111.000000   111.500000   109.500000   111.000000    97.095573   \n",
       "max     243.500000   245.000000   241.500000   243.000000   243.000000   \n",
       "\n",
       "             Volume  \n",
       "count  3.325000e+03  \n",
       "mean   8.381512e+09  \n",
       "std    2.344190e+10  \n",
       "min    0.000000e+00  \n",
       "25%    3.029700e+07  \n",
       "50%    4.363490e+07  \n",
       "75%    6.965500e+07  \n",
       "max    3.383839e+11  "
      ]
     },
     "execution_count": 191,
     "metadata": {},
     "output_type": "execute_result"
    }
   ],
   "source": [
    "tw2330.describe()"
   ]
  },
  {
   "cell_type": "code",
   "execution_count": 192,
   "metadata": {},
   "outputs": [
    {
     "data": {
      "text/plain": [
       "35.990397999999999"
      ]
     },
     "execution_count": 192,
     "metadata": {},
     "output_type": "execute_result"
    }
   ],
   "source": [
    "tw2330['Close'].min()"
   ]
  },
  {
   "cell_type": "code",
   "execution_count": 193,
   "metadata": {},
   "outputs": [
    {
     "data": {
      "text/plain": [
       "243.0"
      ]
     },
     "execution_count": 193,
     "metadata": {},
     "output_type": "execute_result"
    }
   ],
   "source": [
    "tw2330['Close'].max()"
   ]
  },
  {
   "cell_type": "code",
   "execution_count": 194,
   "metadata": {},
   "outputs": [
    {
     "data": {
      "text/plain": [
       "88.75483157082701"
      ]
     },
     "execution_count": 194,
     "metadata": {},
     "output_type": "execute_result"
    }
   ],
   "source": [
    "tw2330['Close'].mean()"
   ]
  },
  {
   "cell_type": "code",
   "execution_count": 195,
   "metadata": {},
   "outputs": [
    {
     "data": {
      "text/plain": [
       "88.75483157082701"
      ]
     },
     "execution_count": 195,
     "metadata": {},
     "output_type": "execute_result"
    }
   ],
   "source": [
    "tw2330['Close'].mean()"
   ]
  },
  {
   "cell_type": "code",
   "execution_count": 196,
   "metadata": {},
   "outputs": [
    {
     "data": {
      "text/plain": [
       "67.677002"
      ]
     },
     "execution_count": 196,
     "metadata": {},
     "output_type": "execute_result"
    }
   ],
   "source": [
    "tw2330['Close'].median()"
   ]
  },
  {
   "cell_type": "code",
   "execution_count": 200,
   "metadata": {},
   "outputs": [
    {
     "data": {
      "text/plain": [
       "52.9841"
      ]
     },
     "execution_count": 200,
     "metadata": {},
     "output_type": "execute_result"
    }
   ],
   "source": [
    "tw2330['Close'].quantile(0.75) \n",
    "tw2330['Close'].quantile(0.25) \n",
    "IQR =  tw2330['Close'].quantile(0.75)  - tw2330['Close'].quantile(0.25)\n",
    "IQR"
   ]
  },
  {
   "cell_type": "code",
   "execution_count": 202,
   "metadata": {},
   "outputs": [
    {
     "data": {
      "text/plain": [
       "count    3325.000000\n",
       "mean       88.754832\n",
       "std        46.610295\n",
       "min        35.990398\n",
       "25%        58.015900\n",
       "50%        67.677002\n",
       "75%       111.000000\n",
       "max       243.000000\n",
       "Name: Close, dtype: float64"
      ]
     },
     "execution_count": 202,
     "metadata": {},
     "output_type": "execute_result"
    }
   ],
   "source": [
    "tw2330['Close'].describe()"
   ]
  },
  {
   "cell_type": "code",
   "execution_count": 203,
   "metadata": {},
   "outputs": [
    {
     "name": "stdout",
     "output_type": "stream",
     "text": [
      "Populating the interactive namespace from numpy and matplotlib\n"
     ]
    },
    {
     "data": {
      "text/plain": [
       "<matplotlib.axes._subplots.AxesSubplot at 0x17ce97f0>"
      ]
     },
     "execution_count": 203,
     "metadata": {},
     "output_type": "execute_result"
    },
    {
     "data": {
      "image/png": "[encoded data removed]",
      "text/plain": [
       "<matplotlib.figure.Figure at 0x1818de10>"
      ]
     },
     "metadata": {},
     "output_type": "display_data"
    }
   ],
   "source": [
    "%pylab inline\n",
    "tw2330['Close'].plot(kind='box')"
   ]
  },
  {
   "cell_type": "code",
   "execution_count": 205,
   "metadata": {},
   "outputs": [
    {
     "name": "stderr",
     "output_type": "stream",
     "text": [
      "C:\\ProgramData\\Anaconda3\\lib\\site-packages\\IPython\\core\\interactiveshell.py:2698: DtypeWarning:\n",
      "\n",
      "Columns (6) have mixed types. Specify dtype option on import or set low_memory=False.\n",
      "\n"
     ]
    },
    {
     "data": {
      "text/html": [
       "<div>\n",
       "<style>\n",
       "    .dataframe thead tr:only-child th {\n",
       "        text-align: right;\n",
       "    }\n",
       "\n",
       "    .dataframe thead th {\n",
       "        text-align: left;\n",
       "    }\n",
       "\n",
       "    .dataframe tbody tr th {\n",
       "        vertical-align: top;\n",
       "    }\n",
       "</style>\n",
       "<table border=\"1\" class=\"dataframe\">\n",
       "  <thead>\n",
       "    <tr style=\"text-align: right;\">\n",
       "      <th></th>\n",
       "      <th>area</th>\n",
       "      <th>trading_target</th>\n",
       "      <th>address</th>\n",
       "      <th>land_sqmeter</th>\n",
       "      <th>city_land_type</th>\n",
       "      <th>non_city_land_type</th>\n",
       "      <th>non_city_code</th>\n",
       "      <th>trading_ymd</th>\n",
       "      <th>trading_num</th>\n",
       "      <th>floor</th>\n",
       "      <th>...</th>\n",
       "      <th>bath</th>\n",
       "      <th>compartment</th>\n",
       "      <th>management</th>\n",
       "      <th>total_price</th>\n",
       "      <th>price_per_sqmeter</th>\n",
       "      <th>parking_type</th>\n",
       "      <th>parking_sqmeter</th>\n",
       "      <th>parking_price</th>\n",
       "      <th>comments</th>\n",
       "      <th>numbers</th>\n",
       "    </tr>\n",
       "  </thead>\n",
       "  <tbody>\n",
       "    <tr>\n",
       "      <th>0</th>\n",
       "      <td>大安區</td>\n",
       "      <td>房地(土地+建物)</td>\n",
       "      <td>臺北市大安區和平東路三段1巷72弄1~30號</td>\n",
       "      <td>19.39</td>\n",
       "      <td>住</td>\n",
       "      <td>NaN</td>\n",
       "      <td>NaN</td>\n",
       "      <td>2012-06-29</td>\n",
       "      <td>土地1建物2車位0</td>\n",
       "      <td>五層</td>\n",
       "      <td>...</td>\n",
       "      <td>1</td>\n",
       "      <td>有</td>\n",
       "      <td>有</td>\n",
       "      <td>18680000</td>\n",
       "      <td>184999.0</td>\n",
       "      <td>NaN</td>\n",
       "      <td>0.0</td>\n",
       "      <td>0</td>\n",
       "      <td>NaN</td>\n",
       "      <td>RPQNMLSJQHHFFFA08CA</td>\n",
       "    </tr>\n",
       "    <tr>\n",
       "      <th>1</th>\n",
       "      <td>中正區</td>\n",
       "      <td>房地(土地+建物)</td>\n",
       "      <td>臺北市中正區忠孝東路二段121~150號</td>\n",
       "      <td>8.46</td>\n",
       "      <td>商</td>\n",
       "      <td>NaN</td>\n",
       "      <td>NaN</td>\n",
       "      <td>2012-07-18</td>\n",
       "      <td>土地3建物1車位0</td>\n",
       "      <td>九層</td>\n",
       "      <td>...</td>\n",
       "      <td>0</td>\n",
       "      <td>有</td>\n",
       "      <td>有</td>\n",
       "      <td>20300000</td>\n",
       "      <td>217307.0</td>\n",
       "      <td>NaN</td>\n",
       "      <td>0.0</td>\n",
       "      <td>0</td>\n",
       "      <td>NaN</td>\n",
       "      <td>RPQOMLKLQHHFFBA17CA</td>\n",
       "    </tr>\n",
       "    <tr>\n",
       "      <th>2</th>\n",
       "      <td>大同區</td>\n",
       "      <td>土地</td>\n",
       "      <td>橋北段二小段601~630地號</td>\n",
       "      <td>5.50</td>\n",
       "      <td>其他</td>\n",
       "      <td>NaN</td>\n",
       "      <td>NaN</td>\n",
       "      <td>2012-07-27</td>\n",
       "      <td>土地1建物0車位0</td>\n",
       "      <td>NaN</td>\n",
       "      <td>...</td>\n",
       "      <td>0</td>\n",
       "      <td>有</td>\n",
       "      <td>無</td>\n",
       "      <td>132096</td>\n",
       "      <td>24017.0</td>\n",
       "      <td>NaN</td>\n",
       "      <td>0.0</td>\n",
       "      <td>0</td>\n",
       "      <td>NaN</td>\n",
       "      <td>RPUNMLLMQHHFFBA67CA</td>\n",
       "    </tr>\n",
       "    <tr>\n",
       "      <th>3</th>\n",
       "      <td>大同區</td>\n",
       "      <td>房地(土地+建物)</td>\n",
       "      <td>臺北市大同區重慶北路一段61~90號</td>\n",
       "      <td>3.88</td>\n",
       "      <td>商</td>\n",
       "      <td>NaN</td>\n",
       "      <td>NaN</td>\n",
       "      <td>2012-07-10</td>\n",
       "      <td>土地4建物1車位0</td>\n",
       "      <td>六層</td>\n",
       "      <td>...</td>\n",
       "      <td>1</td>\n",
       "      <td>有</td>\n",
       "      <td>有</td>\n",
       "      <td>4200000</td>\n",
       "      <td>114317.0</td>\n",
       "      <td>NaN</td>\n",
       "      <td>0.0</td>\n",
       "      <td>0</td>\n",
       "      <td>NaN</td>\n",
       "      <td>RPOPMLRKJHIFFBA07CA</td>\n",
       "    </tr>\n",
       "    <tr>\n",
       "      <th>4</th>\n",
       "      <td>內湖區</td>\n",
       "      <td>房地(土地+建物)</td>\n",
       "      <td>臺北市內湖區民權東路六段90巷6弄1~30號</td>\n",
       "      <td>32.41</td>\n",
       "      <td>住</td>\n",
       "      <td>NaN</td>\n",
       "      <td>NaN</td>\n",
       "      <td>2012-07-10</td>\n",
       "      <td>土地1建物1車位0</td>\n",
       "      <td>三層</td>\n",
       "      <td>...</td>\n",
       "      <td>1</td>\n",
       "      <td>有</td>\n",
       "      <td>無</td>\n",
       "      <td>14000000</td>\n",
       "      <td>134473.0</td>\n",
       "      <td>NaN</td>\n",
       "      <td>0.0</td>\n",
       "      <td>0</td>\n",
       "      <td>NaN</td>\n",
       "      <td>RPPPMLPKQHHFFCA67CA</td>\n",
       "    </tr>\n",
       "  </tbody>\n",
       "</table>\n",
       "<p>5 rows × 28 columns</p>\n",
       "</div>"
      ],
      "text/plain": [
       "  area trading_target                 address  land_sqmeter city_land_type  \\\n",
       "0  大安區      房地(土地+建物)  臺北市大安區和平東路三段1巷72弄1~30號         19.39              住   \n",
       "1  中正區      房地(土地+建物)    臺北市中正區忠孝東路二段121~150號          8.46              商   \n",
       "2  大同區             土地         橋北段二小段601~630地號          5.50             其他   \n",
       "3  大同區      房地(土地+建物)      臺北市大同區重慶北路一段61~90號          3.88              商   \n",
       "4  內湖區      房地(土地+建物)  臺北市內湖區民權東路六段90巷6弄1~30號         32.41              住   \n",
       "\n",
       "  non_city_land_type  non_city_code trading_ymd trading_num floor  \\\n",
       "0                NaN            NaN  2012-06-29   土地1建物2車位0    五層   \n",
       "1                NaN            NaN  2012-07-18   土地3建物1車位0    九層   \n",
       "2                NaN            NaN  2012-07-27   土地1建物0車位0   NaN   \n",
       "3                NaN            NaN  2012-07-10   土地4建物1車位0    六層   \n",
       "4                NaN            NaN  2012-07-10   土地1建物1車位0    三層   \n",
       "\n",
       "          ...          bath compartment management total_price  \\\n",
       "0         ...             1           有          有    18680000   \n",
       "1         ...             0           有          有    20300000   \n",
       "2         ...             0           有          無      132096   \n",
       "3         ...             1           有          有     4200000   \n",
       "4         ...             1           有          無    14000000   \n",
       "\n",
       "  price_per_sqmeter  parking_type  parking_sqmeter  parking_price  comments  \\\n",
       "0          184999.0           NaN              0.0              0       NaN   \n",
       "1          217307.0           NaN              0.0              0       NaN   \n",
       "2           24017.0           NaN              0.0              0       NaN   \n",
       "3          114317.0           NaN              0.0              0       NaN   \n",
       "4          134473.0           NaN              0.0              0       NaN   \n",
       "\n",
       "               numbers  \n",
       "0  RPQNMLSJQHHFFFA08CA  \n",
       "1  RPQOMLKLQHHFFBA17CA  \n",
       "2  RPUNMLLMQHHFFBA67CA  \n",
       "3  RPOPMLRKJHIFFBA07CA  \n",
       "4  RPPPMLPKQHHFFCA67CA  \n",
       "\n",
       "[5 rows x 28 columns]"
      ]
     },
     "execution_count": 205,
     "metadata": {},
     "output_type": "execute_result"
    }
   ],
   "source": [
    "import pandas\n",
    "lvr = pandas.read_csv('https://raw.githubusercontent.com/ywchiu/cathayr/master/data/lvr_prices.csv', index_col=0)\n",
    "lvr.head()"
   ]
  },
  {
   "cell_type": "code",
   "execution_count": 208,
   "metadata": {},
   "outputs": [
    {
     "data": {
      "text/plain": [
       "area\n",
       "中正區    3.242663e+07\n",
       "大安區    3.202420e+07\n",
       "信義區    3.074577e+07\n",
       "內湖區    3.040402e+07\n",
       "中山區    2.756887e+07\n",
       "松山區    2.635170e+07\n",
       "南港區    2.523579e+07\n",
       "士林區    2.413990e+07\n",
       "北投區    2.128492e+07\n",
       "大同區    1.899462e+07\n",
       "文山區    1.695387e+07\n",
       "萬華區    1.526880e+07\n",
       "Name: total_price, dtype: float64"
      ]
     },
     "execution_count": 208,
     "metadata": {},
     "output_type": "execute_result"
    }
   ],
   "source": [
    "lvr.groupby('area')['total_price'].mean().sort_values(ascending=False)"
   ]
  },
  {
   "cell_type": "code",
   "execution_count": 209,
   "metadata": {},
   "outputs": [
    {
     "name": "stderr",
     "output_type": "stream",
     "text": [
      "C:\\ProgramData\\Anaconda3\\lib\\site-packages\\numpy\\core\\fromnumeric.py:57: FutureWarning:\n",
      "\n",
      "reshape is deprecated and will raise in a subsequent release. Please use .values.reshape(...) instead\n",
      "\n"
     ]
    },
    {
     "data": {
      "text/plain": [
       "<matplotlib.axes._subplots.AxesSubplot at 0x178eb978>"
      ]
     },
     "execution_count": 209,
     "metadata": {},
     "output_type": "execute_result"
    },
    {
     "data": {
      "image/png": "[encoded data removed]",
      "text/plain": [
       "<matplotlib.figure.Figure at 0x17fb30f0>"
      ]
     },
     "metadata": {},
     "output_type": "display_data"
    }
   ],
   "source": [
    "import numpy as np\n",
    "#taipei['logprice'] = np.log10(taipei['price']) \n",
    "lvr.boxplot(column='total_price',by='area')"
   ]
  },
  {
   "cell_type": "code",
   "execution_count": 212,
   "metadata": {},
   "outputs": [
    {
     "name": "stderr",
     "output_type": "stream",
     "text": [
      "C:\\ProgramData\\Anaconda3\\lib\\site-packages\\ipykernel_launcher.py:2: RuntimeWarning:\n",
      "\n",
      "divide by zero encountered in log10\n",
      "\n",
      "C:\\ProgramData\\Anaconda3\\lib\\site-packages\\numpy\\core\\fromnumeric.py:57: FutureWarning:\n",
      "\n",
      "reshape is deprecated and will raise in a subsequent release. Please use .values.reshape(...) instead\n",
      "\n"
     ]
    },
    {
     "data": {
      "text/plain": [
       "<matplotlib.axes._subplots.AxesSubplot at 0x18163828>"
      ]
     },
     "execution_count": 212,
     "metadata": {},
     "output_type": "execute_result"
    },
    {
     "data": {
      "image/png": "[encoded data removed]",
      "text/plain": [
       "<matplotlib.figure.Figure at 0x18163240>"
      ]
     },
     "metadata": {},
     "output_type": "display_data"
    }
   ],
   "source": [
    "import numpy as np\n",
    "lvr['logprice'] = np.log10(lvr['total_price']) \n",
    "lvr.boxplot(column='logprice',by='area',figsize=[20,10])"
   ]
  },
  {
   "cell_type": "code",
   "execution_count": 215,
   "metadata": {},
   "outputs": [
    {
     "data": {
      "text/plain": [
       "area\n",
       "大安區    20000000\n",
       "松山區    17800000\n",
       "南港區    16685000\n",
       "內湖區    16500000\n",
       "中正區    16200000\n",
       "信義區    15800000\n",
       "士林區    14350000\n",
       "文山區    13300000\n",
       "北投區    13000000\n",
       "中山區    12800000\n",
       "大同區    11770000\n",
       "萬華區     9542595\n",
       "Name: total_price, dtype: int64"
      ]
     },
     "execution_count": 215,
     "metadata": {},
     "output_type": "execute_result"
    }
   ],
   "source": [
    "lvr.groupby('area')['total_price'].median().sort_values(ascending=False)"
   ]
  },
  {
   "cell_type": "code",
   "execution_count": 216,
   "metadata": {},
   "outputs": [
    {
     "data": {
      "text/plain": [
       "<matplotlib.axes._subplots.AxesSubplot at 0x1836a550>"
      ]
     },
     "execution_count": 216,
     "metadata": {},
     "output_type": "execute_result"
    },
    {
     "data": {
      "image/png": "[encoded data removed]",
      "text/plain": [
       "<matplotlib.figure.Figure at 0x17f42b70>"
      ]
     },
     "metadata": {},
     "output_type": "display_data"
    }
   ],
   "source": [
    "tw2330['Close'].plot(kind='hist',bins=20)"
   ]
  },
  {
   "cell_type": "code",
   "execution_count": 217,
   "metadata": {
    "collapsed": true
   },
   "outputs": [],
   "source": [
    "tw2330['ret'] = tw2330['Close'].pct_change(1)"
   ]
  },
  {
   "cell_type": "code",
   "execution_count": 218,
   "metadata": {},
   "outputs": [
    {
     "data": {
      "text/plain": [
       "<matplotlib.axes._subplots.AxesSubplot at 0x183cfc88>"
      ]
     },
     "execution_count": 218,
     "metadata": {},
     "output_type": "execute_result"
    },
    {
     "data": {
      "image/png": "[encoded data removed]",
      "text/plain": [
       "<matplotlib.figure.Figure at 0x18163198>"
      ]
     },
     "metadata": {},
     "output_type": "display_data"
    }
   ],
   "source": [
    "\n",
    "tw2330['ret'].plot(kind='hist',bins=20)"
   ]
  },
  {
   "cell_type": "code",
   "execution_count": 226,
   "metadata": {},
   "outputs": [
    {
     "data": {
      "text/plain": [
       "20"
      ]
     },
     "execution_count": 226,
     "metadata": {},
     "output_type": "execute_result"
    }
   ],
   "source": [
    "import math\n",
    "m = 50\n",
    "(40 - m)  + (60 - m)\n",
    "abs(40 - m)  + abs(60 - m)"
   ]
  },
  {
   "cell_type": "code",
   "execution_count": 230,
   "metadata": {},
   "outputs": [
    {
     "data": {
      "text/plain": [
       "100.0"
      ]
     },
     "execution_count": 230,
     "metadata": {},
     "output_type": "execute_result"
    }
   ],
   "source": [
    "((40 - m) ** 2 + (60-m) **2) / 2"
   ]
  },
  {
   "cell_type": "code",
   "execution_count": 232,
   "metadata": {},
   "outputs": [
    {
     "data": {
      "text/plain": [
       "2172.519616493225"
      ]
     },
     "execution_count": 232,
     "metadata": {},
     "output_type": "execute_result"
    }
   ],
   "source": [
    "tw2330['Close'].var()"
   ]
  },
  {
   "cell_type": "code",
   "execution_count": 234,
   "metadata": {},
   "outputs": [
    {
     "data": {
      "text/plain": [
       "2172.5196164932245"
      ]
     },
     "execution_count": 234,
     "metadata": {},
     "output_type": "execute_result"
    }
   ],
   "source": [
    "tw2330['Close'].std()\n",
    "\n",
    "tw2330['Close'].std() ** 2"
   ]
  },
  {
   "cell_type": "markdown",
   "metadata": {},
   "source": [
    "## 多變量分析"
   ]
  },
  {
   "cell_type": "code",
   "execution_count": 235,
   "metadata": {
    "collapsed": true
   },
   "outputs": [],
   "source": [
    "df = pandas_datareader.get_data_yahoo(['^TWII', '2330.TW'])['Close']\n"
   ]
  },
  {
   "cell_type": "code",
   "execution_count": 237,
   "metadata": {},
   "outputs": [
    {
     "data": {
      "text/html": [
       "<div>\n",
       "<style>\n",
       "    .dataframe thead tr:only-child th {\n",
       "        text-align: right;\n",
       "    }\n",
       "\n",
       "    .dataframe thead th {\n",
       "        text-align: left;\n",
       "    }\n",
       "\n",
       "    .dataframe tbody tr th {\n",
       "        vertical-align: top;\n",
       "    }\n",
       "</style>\n",
       "<table border=\"1\" class=\"dataframe\">\n",
       "  <thead>\n",
       "    <tr style=\"text-align: right;\">\n",
       "      <th></th>\n",
       "      <th>2330.TW</th>\n",
       "      <th>^TWII</th>\n",
       "    </tr>\n",
       "  </thead>\n",
       "  <tbody>\n",
       "    <tr>\n",
       "      <th>2330.TW</th>\n",
       "      <td>2170.587727</td>\n",
       "      <td>33114.435302</td>\n",
       "    </tr>\n",
       "    <tr>\n",
       "      <th>^TWII</th>\n",
       "      <td>33114.435302</td>\n",
       "      <td>772378.913329</td>\n",
       "    </tr>\n",
       "  </tbody>\n",
       "</table>\n",
       "</div>"
      ],
      "text/plain": [
       "              2330.TW          ^TWII\n",
       "2330.TW   2170.587727   33114.435302\n",
       "^TWII    33114.435302  772378.913329"
      ]
     },
     "execution_count": 237,
     "metadata": {},
     "output_type": "execute_result"
    }
   ],
   "source": [
    "df.cov()"
   ]
  },
  {
   "cell_type": "code",
   "execution_count": 238,
   "metadata": {},
   "outputs": [
    {
     "data": {
      "text/html": [
       "<div>\n",
       "<style>\n",
       "    .dataframe thead tr:only-child th {\n",
       "        text-align: right;\n",
       "    }\n",
       "\n",
       "    .dataframe thead th {\n",
       "        text-align: left;\n",
       "    }\n",
       "\n",
       "    .dataframe tbody tr th {\n",
       "        vertical-align: top;\n",
       "    }\n",
       "</style>\n",
       "<table border=\"1\" class=\"dataframe\">\n",
       "  <thead>\n",
       "    <tr style=\"text-align: right;\">\n",
       "      <th></th>\n",
       "      <th>2330.TW</th>\n",
       "      <th>^TWII</th>\n",
       "    </tr>\n",
       "  </thead>\n",
       "  <tbody>\n",
       "    <tr>\n",
       "      <th>2330.TW</th>\n",
       "      <td>1.000000</td>\n",
       "      <td>0.799504</td>\n",
       "    </tr>\n",
       "    <tr>\n",
       "      <th>^TWII</th>\n",
       "      <td>0.799504</td>\n",
       "      <td>1.000000</td>\n",
       "    </tr>\n",
       "  </tbody>\n",
       "</table>\n",
       "</div>"
      ],
      "text/plain": [
       "          2330.TW     ^TWII\n",
       "2330.TW  1.000000  0.799504\n",
       "^TWII    0.799504  1.000000"
      ]
     },
     "execution_count": 238,
     "metadata": {},
     "output_type": "execute_result"
    }
   ],
   "source": [
    "df.corr()"
   ]
  },
  {
   "cell_type": "markdown",
   "metadata": {},
   "source": [
    "## 點估計與信賴區間"
   ]
  },
  {
   "cell_type": "code",
   "execution_count": 252,
   "metadata": {},
   "outputs": [
    {
     "data": {
      "text/plain": [
       "array([37, 39, 19, 13, 18, 36])"
      ]
     },
     "execution_count": 252,
     "metadata": {},
     "output_type": "execute_result"
    }
   ],
   "source": [
    "np.random.choice(range(0,42) , 6)"
   ]
  },
  {
   "cell_type": "code",
   "execution_count": 261,
   "metadata": {
    "collapsed": true
   },
   "outputs": [],
   "source": [
    "tw2330['ret'] = tw2330['Close'].pct_change(1)"
   ]
  },
  {
   "cell_type": "code",
   "execution_count": 266,
   "metadata": {},
   "outputs": [],
   "source": [
    "import numpy as np\n",
    "np.random.seed(10)\n",
    "tw2330 = tw2330[tw2330['ret'].notnull()]\n",
    "#np.random.choice(range(0,42) , 6)\n",
    "sample_size=100\n",
    "sample=np.random.choice(a=tw2330['ret'],size=sample_size)\n",
    "sample_mean=sample.mean()"
   ]
  },
  {
   "cell_type": "code",
   "execution_count": 267,
   "metadata": {},
   "outputs": [
    {
     "data": {
      "text/plain": [
       "-0.0015899297137405865"
      ]
     },
     "execution_count": 267,
     "metadata": {},
     "output_type": "execute_result"
    }
   ],
   "source": [
    "sample_mean"
   ]
  },
  {
   "cell_type": "code",
   "execution_count": 270,
   "metadata": {},
   "outputs": [
    {
     "data": {
      "text/plain": [
       "-1.9599639845400545"
      ]
     },
     "execution_count": 270,
     "metadata": {},
     "output_type": "execute_result"
    }
   ],
   "source": [
    "from scipy import stats\n",
    "z_critical=stats.norm.ppf(q=0.975)\n",
    "z_critical\n",
    "\n",
    "z_critical_2=stats.norm.ppf(q=0.025)\n",
    "z_critical_2"
   ]
  },
  {
   "cell_type": "code",
   "execution_count": 271,
   "metadata": {
    "collapsed": true
   },
   "outputs": [],
   "source": [
    "pop_stdev=tw2330['ret'].std()\n",
    "margin_of_error= z_critical*(pop_stdev/math.sqrt(sample_size))"
   ]
  },
  {
   "cell_type": "code",
   "execution_count": 273,
   "metadata": {},
   "outputs": [
    {
     "data": {
      "text/plain": [
       "(-0.0050692196250788253, 0.0018893601975976519)"
      ]
     },
     "execution_count": 273,
     "metadata": {},
     "output_type": "execute_result"
    }
   ],
   "source": [
    "sample_mean - margin_of_error, sample_mean +  margin_of_error"
   ]
  },
  {
   "cell_type": "code",
   "execution_count": 274,
   "metadata": {},
   "outputs": [
    {
     "data": {
      "text/plain": [
       "0.0006250650549303948"
      ]
     },
     "execution_count": 274,
     "metadata": {},
     "output_type": "execute_result"
    }
   ],
   "source": [
    "tw2330['ret'].mean()"
   ]
  },
  {
   "cell_type": "code",
   "execution_count": 276,
   "metadata": {},
   "outputs": [
    {
     "name": "stdout",
     "output_type": "stream",
     "text": [
      "0.22325177944\n"
     ]
    }
   ],
   "source": [
    "from scipy import stats \n",
    "one_sample_data=[15.48,4.4,5.81,6.07,5.19,3.25,4.41,5.05,11.63,8.99]\n",
    "one_sample=stats.ttest_1samp(one_sample_data,8)\n",
    "print(one_sample[1]/2)"
   ]
  },
  {
   "cell_type": "code",
   "execution_count": null,
   "metadata": {
    "collapsed": true
   },
   "outputs": [],
   "source": []
  }
 ],
 "metadata": {
  "kernelspec": {
   "display_name": "Python 3",
   "language": "python",
   "name": "python3"
  },
  "language_info": {
   "codemirror_mode": {
    "name": "ipython",
    "version": 3
   },
   "file_extension": ".py",
   "mimetype": "text/x-python",
   "name": "python",
   "nbconvert_exporter": "python",
   "pygments_lexer": "ipython3",
   "version": "3.6.3"
  }
 },
 "nbformat": 4,
 "nbformat_minor": 2
}
