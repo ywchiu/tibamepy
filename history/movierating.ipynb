{
 "cells": [
  {
   "cell_type": "code",
   "execution_count": 330,
   "metadata": {
    "collapsed": true
   },
   "outputs": [],
   "source": [
    "import requests, time\n",
    "from bs4 import BeautifulSoup\n",
    "ary = []\n",
    "for page in range(1,47):\n",
    "    res = requests.get('https://movies.yahoo.com.tw/movieinfo_review.html/id=6619?sort=update_ts&order=desc&page={}'.format(page))\n",
    "    soup = BeautifulSoup(res.text, 'lxml')\n",
    "    time.sleep(1)\n",
    "    for li in soup.select('.usercom_list li'):\n",
    "        stars = li.select_one('input[name=\"score\"]').get('value')\n",
    "        content = li.select('.form_good span')[2].text\n",
    "        ary.append({'stars':stars, 'content': content, 'title':'最終騎士'})"
   ]
  },
  {
   "cell_type": "code",
   "execution_count": 331,
   "metadata": {
    "collapsed": false
   },
   "outputs": [],
   "source": [
    "import pandas\n",
    "df = pandas.DataFrame(ary)\n",
    "df.to_excel('最終騎士.xlsx')"
   ]
  },
  {
   "cell_type": "code",
   "execution_count": 332,
   "metadata": {
    "collapsed": false
   },
   "outputs": [],
   "source": [
    "a = pandas.read_excel('古墓奇兵.xlsx')\n",
    "b = pandas.read_excel('最後的絕地武士.xlsx')\n",
    "c = pandas.read_excel('攻殼機動隊.xlsx')\n",
    "d = pandas.read_excel('奧創紀元.xlsx')\n",
    "e = pandas.read_excel('最終騎士.xlsx')\n",
    "df = pandas.concat([a,b,c,d,e])\n",
    "#"
   ]
  },
  {
   "cell_type": "code",
   "execution_count": 404,
   "metadata": {
    "collapsed": false
   },
   "outputs": [],
   "source": [
    "df.to_excel('yahoo_movie.xlsx')"
   ]
  },
  {
   "cell_type": "code",
   "execution_count": 335,
   "metadata": {
    "collapsed": false
   },
   "outputs": [],
   "source": [
    "df['stars'] = df['stars'].astype(int)"
   ]
  },
  {
   "cell_type": "code",
   "execution_count": 336,
   "metadata": {
    "collapsed": false
   },
   "outputs": [
    {
     "data": {
      "text/plain": [
       "content    428\n",
       "stars      428\n",
       "title      428\n",
       "dtype: int64"
      ]
     },
     "execution_count": 336,
     "metadata": {},
     "output_type": "execute_result"
    }
   ],
   "source": [
    "df[df['stars'] <= 2].count()"
   ]
  },
  {
   "cell_type": "code",
   "execution_count": 337,
   "metadata": {
    "collapsed": false
   },
   "outputs": [
    {
     "data": {
      "text/plain": [
       "content    552\n",
       "stars      552\n",
       "title      552\n",
       "dtype: int64"
      ]
     },
     "execution_count": 337,
     "metadata": {},
     "output_type": "execute_result"
    }
   ],
   "source": [
    "df[df['stars'] >=4].count()"
   ]
  },
  {
   "cell_type": "code",
   "execution_count": 338,
   "metadata": {
    "collapsed": false
   },
   "outputs": [],
   "source": [
    "def getStatus(stars):\n",
    "    if stars <= 2:\n",
    "        return 'bad'\n",
    "    elif stars == 3:\n",
    "        return 'soso'\n",
    "    else:\n",
    "        return 'good'"
   ]
  },
  {
   "cell_type": "code",
   "execution_count": 339,
   "metadata": {
    "collapsed": true
   },
   "outputs": [],
   "source": [
    "df['status'] =  df['stars'].map(lambda e: getStatus(e))"
   ]
  },
  {
   "cell_type": "code",
   "execution_count": 340,
   "metadata": {
    "collapsed": false
   },
   "outputs": [],
   "source": [
    "df2 = df[df['status'] != 'soso']"
   ]
  },
  {
   "cell_type": "code",
   "execution_count": 341,
   "metadata": {
    "collapsed": false
   },
   "outputs": [],
   "source": [
    "import jieba\n",
    "corpus = []\n",
    "scores = []\n",
    "for rec in df2.iterrows():\n",
    "    corpus.append(' '.join(jieba.cut(rec[1].content)))\n",
    "    scores.append(rec[1].status) \n",
    "#jieba.cut()"
   ]
  },
  {
   "cell_type": "code",
   "execution_count": 394,
   "metadata": {
    "collapsed": true
   },
   "outputs": [],
   "source": [
    "from sklearn.feature_extraction.text import CountVectorizer\n",
    "#vectorizer = TfidfVectorizer(min_df=0.005)\n",
    "vectorizer = TfidfVectorizer()\n",
    "#?TfidfVectorizer(min_df=5)\n",
    "#vectorizer = CountVectorizer(min_df=0.005)\n",
    "X = vectorizer.fit_transform(corpus)"
   ]
  },
  {
   "cell_type": "code",
   "execution_count": 395,
   "metadata": {
    "collapsed": true
   },
   "outputs": [],
   "source": [
    "from sklearn.model_selection import train_test_split\n",
    "train_X, test_X, train_Y, test_Y = train_test_split(X, scores, test_size = 0.3, random_state = 42)"
   ]
  },
  {
   "cell_type": "code",
   "execution_count": 396,
   "metadata": {
    "collapsed": false
   },
   "outputs": [
    {
     "data": {
      "text/plain": [
       "MultinomialNB(alpha=0.1, class_prior=None, fit_prior=True)"
      ]
     },
     "execution_count": 396,
     "metadata": {},
     "output_type": "execute_result"
    }
   ],
   "source": [
    "from sklearn.naive_bayes import MultinomialNB\n",
    "clf = MultinomialNB(alpha = 0.1)\n",
    "clf.fit(train_X, train_Y)"
   ]
  },
  {
   "cell_type": "code",
   "execution_count": 397,
   "metadata": {
    "collapsed": true
   },
   "outputs": [],
   "source": [
    "predicted = clf.predict(test_X)"
   ]
  },
  {
   "cell_type": "code",
   "execution_count": 400,
   "metadata": {
    "collapsed": false
   },
   "outputs": [
    {
     "data": {
      "text/plain": [
       "array([[ 88,  29],\n",
       "       [ 27, 150]])"
      ]
     },
     "execution_count": 400,
     "metadata": {},
     "output_type": "execute_result"
    }
   ],
   "source": [
    "from sklearn.metrics import confusion_matrix, accuracy_score\n",
    "confusion_matrix(test_Y, predicted )\n",
    "#accuracy_score(test_Y, predicted)"
   ]
  },
  {
   "cell_type": "code",
   "execution_count": 402,
   "metadata": {
    "collapsed": false
   },
   "outputs": [
    {
     "name": "stdout",
     "output_type": "stream",
     "text": [
      "(4.8179353022884825, '還不錯', 0.25067745442928002, 6.025683059471123)\n",
      "(4.7792828636909803, '好看', 5.5477761086692068, 31.293674151447952)\n",
      "(4.431739249825287, '不錯', 0.55837501936200729, 6.9063117392538498)\n",
      "(3.2134490748808298, '非常', 0.8090592306180423, 5.8133197110341737)\n",
      "(2.9850508304316468, '希望', 0.0, 2.9850508304316468)\n",
      "(2.7880273224378231, '雖然', 0.69222512303168338, 4.7179698787280397)\n",
      "(2.6423711140821093, '有些', 0.3279462446927951, 3.5089267980300547)\n",
      "(2.64063655354777, '爽片', 1.2301739170550365, 5.8890787661443422)\n",
      "(2.5105672307296309, '刺激', 0.47446888245356211, 3.701753259018453)\n",
      "(2.3875622676102202, '不過', 0.52716553124341725, 3.6462027987917001)\n",
      "(2.3818045781395365, '大家', 0.70280964780310939, 4.0557598148376179)\n",
      "(2.3176102449698228, '感動', 0.0, 2.3176102449698228)\n",
      "(2.164998097144236, '但是', 0.741982835065923, 3.7713895231756447)\n",
      "(2.160756564443945, '其實', 0.62885409940606329, 3.5195571878130814)\n",
      "(2.0885042689550155, '效果', 0.0, 2.0885042689550155)\n",
      "(2.0195696651610677, '期待', 1.4296069489995284, 4.9067604924639809)\n",
      "(2.0, '不難', 0.0, 2.0)\n",
      "(1.9974564164119499, '樓下', 0.0, 1.9974564164119499)\n",
      "(1.9567646519231909, '當然', 0.0, 1.9567646519231909)\n",
      "(1.8999920829722703, '笑點', 0.38092870582087995, 2.6237536082088151)\n"
     ]
    }
   ],
   "source": [
    "import operator\n",
    "coef_features_c1_c2 = []\n",
    "\n",
    "for index, features in enumerate(zip(vectorizer.get_feature_names(), \\\n",
    "                        clf.feature_count_[0], clf.feature_count_[1])):\n",
    "    feat,c1,c2 = features\n",
    "    coef_features_c1_c2.append(tuple([c2/(c1 + 1), feat, c1, c2]))\n",
    "\n",
    "for i in sorted(coef_features_c1_c2, key = operator.itemgetter(0), reverse=True)[0:20]:\n",
    "    print(i)"
   ]
  },
  {
   "cell_type": "code",
   "execution_count": null,
   "metadata": {
    "collapsed": true
   },
   "outputs": [],
   "source": []
  },
  {
   "cell_type": "code",
   "execution_count": null,
   "metadata": {
    "collapsed": true
   },
   "outputs": [],
   "source": []
  }
 ],
 "metadata": {
  "kernelspec": {
   "display_name": "Python 3",
   "language": "python",
   "name": "python3"
  },
  "language_info": {
   "codemirror_mode": {
    "name": "ipython",
    "version": 3
   },
   "file_extension": ".py",
   "mimetype": "text/x-python",
   "name": "python",
   "nbconvert_exporter": "python",
   "pygments_lexer": "ipython3",
   "version": "3.6.0"
  }
 },
 "nbformat": 4,
 "nbformat_minor": 2
}
