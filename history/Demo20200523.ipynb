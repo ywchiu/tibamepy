{
  "nbformat": 4,
  "nbformat_minor": 0,
  "metadata": {
    "colab": {
      "name": "Demo20200523.ipynb",
      "provenance": [],
      "collapsed_sections": []
    },
    "kernelspec": {
      "name": "python3",
      "display_name": "Python 3"
    }
  },
  "cells": [
    {
      "cell_type": "markdown",
      "metadata": {
        "id": "eZeMPgXYMh-j",
        "colab_type": "text"
      },
      "source": [
        "\n",
        "## 回家作業\n",
        "- 請將資料清理乾淨以後，將資料存入資料庫 SQLite 之中,接者從SQLIte 取出資料後嘗試回答以下問題:\n",
        "\n",
        "- 請使用pie 圖列出哪個縣市(city)的物件最多\n",
        "\n",
        "- 請使用長條圖列出哪個縣市(city)的物件最多\n",
        "- 請使用繪製每坪單價的直方圖\n",
        "- 請使用繪製每坪單價的箱型圖\n",
        "- 請使用繪製坪數與單價的散佈圖"
      ]
    },
    {
      "cell_type": "code",
      "metadata": {
        "id": "K_kTt5AxKxin",
        "colab_type": "code",
        "colab": {}
      },
      "source": [
        "import pandas as pd\n",
        "df = pd.read_csv('https://raw.githubusercontent.com/ywchiu/tibamepy/master/data/rent_591_sample2.csv',index_col=0)"
      ],
      "execution_count": 0,
      "outputs": []
    },
    {
      "cell_type": "code",
      "metadata": {
        "id": "JmebiT5BMtOm",
        "colab_type": "code",
        "colab": {}
      },
      "source": [
        "df['price'] = df['price'].map(lambda e: int(e.replace('元/月', '').replace(',','')))"
      ],
      "execution_count": 0,
      "outputs": []
    },
    {
      "cell_type": "code",
      "metadata": {
        "id": "vaHaOBHVOpKj",
        "colab_type": "code",
        "colab": {
          "base_uri": "https://localhost:8080/",
          "height": 35
        },
        "outputId": "3143e261-86fc-4e08-95ad-ab3e1194756d"
      },
      "source": [
        "s = '花蓮縣玉里鎮忠智路172號'\n",
        "import re\n",
        "m = re.match('(.+[市縣]).+', s)\n",
        "m.group(1)"
      ],
      "execution_count": 11,
      "outputs": [
        {
          "output_type": "execute_result",
          "data": {
            "text/plain": [
              "'花蓮縣'"
            ]
          },
          "metadata": {
            "tags": []
          },
          "execution_count": 11
        }
      ]
    },
    {
      "cell_type": "code",
      "metadata": {
        "id": "Kn9o8ki7PDXv",
        "colab_type": "code",
        "colab": {
          "base_uri": "https://localhost:8080/",
          "height": 35
        },
        "outputId": "2b2aed01-ef25-4082-f558-dc5fbc10024e"
      },
      "source": [
        "s = '花蓮縣花蓮市林森路33號'\n",
        "import re\n",
        "m = re.match('(.+[市縣]).+', s)\n",
        "m.group(1)"
      ],
      "execution_count": 12,
      "outputs": [
        {
          "output_type": "execute_result",
          "data": {
            "text/plain": [
              "'花蓮縣花蓮市'"
            ]
          },
          "metadata": {
            "tags": []
          },
          "execution_count": 12
        }
      ]
    },
    {
      "cell_type": "code",
      "metadata": {
        "id": "tiV2DKCJPXN6",
        "colab_type": "code",
        "colab": {
          "base_uri": "https://localhost:8080/",
          "height": 35
        },
        "outputId": "c50fd0f4-7f27-4a49-87f4-86012beeab76"
      },
      "source": [
        "s = '花蓮縣花蓮市林森路33號'\n",
        "import re\n",
        "m = re.match('(.+?[市縣]).+', s)\n",
        "m.group(1)"
      ],
      "execution_count": 13,
      "outputs": [
        {
          "output_type": "execute_result",
          "data": {
            "text/plain": [
              "'花蓮縣'"
            ]
          },
          "metadata": {
            "tags": []
          },
          "execution_count": 13
        }
      ]
    },
    {
      "cell_type": "code",
      "metadata": {
        "id": "ThOij6KrPiTq",
        "colab_type": "code",
        "colab": {}
      },
      "source": [
        "# ? 放在一般字元後面 => {0,1}\n",
        "# ? 放在+, *, ?後面 => 非貪婪比對"
      ],
      "execution_count": 0,
      "outputs": []
    },
    {
      "cell_type": "code",
      "metadata": {
        "id": "4Qr82am0M0cz",
        "colab_type": "code",
        "colab": {}
      },
      "source": [
        "# (XX市)XX區XX路\n",
        "# \\u4e00-\\u9fa5\n",
        "#df['address'].str.extract('(.+?[市縣]).+')\n",
        "df['city'] = df['address'].str.extract('([\\u4e00-\\u9fa5]+?[市縣]).+')"
      ],
      "execution_count": 0,
      "outputs": []
    },
    {
      "cell_type": "code",
      "metadata": {
        "id": "GU_IHrtSNkoq",
        "colab_type": "code",
        "colab": {
          "base_uri": "https://localhost:8080/",
          "height": 742
        },
        "outputId": "63219fa3-a2b4-4f8b-9572-88abdbc82d8b"
      },
      "source": [
        "df.head()"
      ],
      "execution_count": 19,
      "outputs": [
        {
          "output_type": "execute_result",
          "data": {
            "text/html": [
              "<div>\n",
              "<style scoped>\n",
              "    .dataframe tbody tr th:only-of-type {\n",
              "        vertical-align: middle;\n",
              "    }\n",
              "\n",
              "    .dataframe tbody tr th {\n",
              "        vertical-align: top;\n",
              "    }\n",
              "\n",
              "    .dataframe thead th {\n",
              "        text-align: right;\n",
              "    }\n",
              "</style>\n",
              "<table border=\"1\" class=\"dataframe\">\n",
              "  <thead>\n",
              "    <tr style=\"text-align: right;\">\n",
              "      <th></th>\n",
              "      <th>detail_url</th>\n",
              "      <th>search_date</th>\n",
              "      <th>title</th>\n",
              "      <th>address</th>\n",
              "      <th>floor_info</th>\n",
              "      <th>price</th>\n",
              "      <th>layout</th>\n",
              "      <th>building_area</th>\n",
              "      <th>building_use</th>\n",
              "      <th>latitude</th>\n",
              "      <th>longitude</th>\n",
              "      <th>city</th>\n",
              "    </tr>\n",
              "  </thead>\n",
              "  <tbody>\n",
              "    <tr>\n",
              "      <th>0</th>\n",
              "      <td>https://rent.591.com.tw/rent-detail-1050934.html</td>\n",
              "      <td>2017-05-14</td>\n",
              "      <td>套房出租-近東方學院(六~八月可入住)</td>\n",
              "      <td>高雄市湖內區民生街</td>\n",
              "      <td>3F/3F</td>\n",
              "      <td>4500</td>\n",
              "      <td>NaN</td>\n",
              "      <td>6.0</td>\n",
              "      <td>透天厝/獨立套房</td>\n",
              "      <td>22.878436</td>\n",
              "      <td>120.250810</td>\n",
              "      <td>高雄市</td>\n",
              "    </tr>\n",
              "    <tr>\n",
              "      <th>1</th>\n",
              "      <td>https://rent.591.com.tw/rent-detail-1008046.html</td>\n",
              "      <td>2017-05-14</td>\n",
              "      <td>好房子【聰明的你、妳快來租吧】</td>\n",
              "      <td>新北市蘆洲區長安街</td>\n",
              "      <td>4F/5F</td>\n",
              "      <td>7500</td>\n",
              "      <td>NaN</td>\n",
              "      <td>10.0</td>\n",
              "      <td>透天厝/獨立套房</td>\n",
              "      <td>25.081558</td>\n",
              "      <td>121.461868</td>\n",
              "      <td>新北市</td>\n",
              "    </tr>\n",
              "    <tr>\n",
              "      <th>2</th>\n",
              "      <td>https://rent.591.com.tw/rent-detail-1586266.html</td>\n",
              "      <td>2017-05-12</td>\n",
              "      <td>陽台大套房(獨立洗衣機)近頂溪捷運站</td>\n",
              "      <td>新北市永和區中山路一段</td>\n",
              "      <td>8F/12F</td>\n",
              "      <td>11000</td>\n",
              "      <td>NaN</td>\n",
              "      <td>8.0</td>\n",
              "      <td>電梯大樓/分租套房</td>\n",
              "      <td>25.010293</td>\n",
              "      <td>121.511328</td>\n",
              "      <td>新北市</td>\n",
              "    </tr>\n",
              "    <tr>\n",
              "      <th>3</th>\n",
              "      <td>https://rent.591.com.tw/rent-detail-1699948.html</td>\n",
              "      <td>2017-05-13</td>\n",
              "      <td>火車站附近~~優質套房</td>\n",
              "      <td>屏東縣潮州鎮六合路</td>\n",
              "      <td>3F/3F</td>\n",
              "      <td>5000</td>\n",
              "      <td>NaN</td>\n",
              "      <td>8.0</td>\n",
              "      <td>透天厝/獨立套房</td>\n",
              "      <td>22.551346</td>\n",
              "      <td>120.538032</td>\n",
              "      <td>屏東縣</td>\n",
              "    </tr>\n",
              "    <tr>\n",
              "      <th>4</th>\n",
              "      <td>https://rent.591.com.tw/rent-detail-1404725.html</td>\n",
              "      <td>2017-05-12</td>\n",
              "      <td>觀音四維路優質陽台套房</td>\n",
              "      <td>桃園市觀音區四維路</td>\n",
              "      <td>4F/5F</td>\n",
              "      <td>5000</td>\n",
              "      <td>NaN</td>\n",
              "      <td>7.0</td>\n",
              "      <td>透天厝/分租套房</td>\n",
              "      <td>25.043652</td>\n",
              "      <td>121.141518</td>\n",
              "      <td>桃園市</td>\n",
              "    </tr>\n",
              "  </tbody>\n",
              "</table>\n",
              "</div>"
            ],
            "text/plain": [
              "                                         detail_url  ... city\n",
              "0  https://rent.591.com.tw/rent-detail-1050934.html  ...  高雄市\n",
              "1  https://rent.591.com.tw/rent-detail-1008046.html  ...  新北市\n",
              "2  https://rent.591.com.tw/rent-detail-1586266.html  ...  新北市\n",
              "3  https://rent.591.com.tw/rent-detail-1699948.html  ...  屏東縣\n",
              "4  https://rent.591.com.tw/rent-detail-1404725.html  ...  桃園市\n",
              "\n",
              "[5 rows x 12 columns]"
            ]
          },
          "metadata": {
            "tags": []
          },
          "execution_count": 19
        }
      ]
    },
    {
      "cell_type": "code",
      "metadata": {
        "id": "KZa-1eSaQahQ",
        "colab_type": "code",
        "colab": {}
      },
      "source": [
        "import sqlite3 as lite\n",
        "with lite.connect('house.sqlite') as con:\n",
        "  df.to_sql('rent591', con= con, if_exists='replace')"
      ],
      "execution_count": 0,
      "outputs": []
    },
    {
      "cell_type": "code",
      "metadata": {
        "id": "1uV0umC-Q76r",
        "colab_type": "code",
        "colab": {}
      },
      "source": [
        "import sqlite3 as lite\n",
        "with lite.connect('house.sqlite') as con:\n",
        "  df2 = pd.read_sql_query('select city, count(*) as city_cnt from rent591 group by city', con= con)"
      ],
      "execution_count": 0,
      "outputs": []
    },
    {
      "cell_type": "code",
      "metadata": {
        "id": "WUUb37bOR1wL",
        "colab_type": "code",
        "colab": {
          "base_uri": "https://localhost:8080/",
          "height": 233
        },
        "outputId": "337437b3-6086-47e9-d4ca-58389a3fa6b7"
      },
      "source": [
        "df2.set_index('city', drop=True, inplace=True)\n",
        "df2.head()"
      ],
      "execution_count": 28,
      "outputs": [
        {
          "output_type": "execute_result",
          "data": {
            "text/html": [
              "<div>\n",
              "<style scoped>\n",
              "    .dataframe tbody tr th:only-of-type {\n",
              "        vertical-align: middle;\n",
              "    }\n",
              "\n",
              "    .dataframe tbody tr th {\n",
              "        vertical-align: top;\n",
              "    }\n",
              "\n",
              "    .dataframe thead th {\n",
              "        text-align: right;\n",
              "    }\n",
              "</style>\n",
              "<table border=\"1\" class=\"dataframe\">\n",
              "  <thead>\n",
              "    <tr style=\"text-align: right;\">\n",
              "      <th></th>\n",
              "      <th>city_cnt</th>\n",
              "    </tr>\n",
              "    <tr>\n",
              "      <th>city</th>\n",
              "      <th></th>\n",
              "    </tr>\n",
              "  </thead>\n",
              "  <tbody>\n",
              "    <tr>\n",
              "      <th>南投縣</th>\n",
              "      <td>194</td>\n",
              "    </tr>\n",
              "    <tr>\n",
              "      <th>台中市</th>\n",
              "      <td>11754</td>\n",
              "    </tr>\n",
              "    <tr>\n",
              "      <th>台北市</th>\n",
              "      <td>17168</td>\n",
              "    </tr>\n",
              "    <tr>\n",
              "      <th>台南市</th>\n",
              "      <td>3964</td>\n",
              "    </tr>\n",
              "    <tr>\n",
              "      <th>台東縣</th>\n",
              "      <td>129</td>\n",
              "    </tr>\n",
              "  </tbody>\n",
              "</table>\n",
              "</div>"
            ],
            "text/plain": [
              "      city_cnt\n",
              "city          \n",
              "南投縣        194\n",
              "台中市      11754\n",
              "台北市      17168\n",
              "台南市       3964\n",
              "台東縣        129"
            ]
          },
          "metadata": {
            "tags": []
          },
          "execution_count": 28
        }
      ]
    },
    {
      "cell_type": "code",
      "metadata": {
        "id": "VN3Da3DCS1n0",
        "colab_type": "code",
        "colab": {
          "base_uri": "https://localhost:8080/",
          "height": 228
        },
        "outputId": "85ace93c-cdaa-4105-ca31-3e1d1ed69f93"
      },
      "source": [
        "! wget https://noto-website-2.storage.googleapis.com/pkgs/NotoSansCJKtc-hinted.zip"
      ],
      "execution_count": 31,
      "outputs": [
        {
          "output_type": "stream",
          "text": [
            "--2020-05-23 02:10:06--  https://noto-website-2.storage.googleapis.com/pkgs/NotoSansCJKtc-hinted.zip\n",
            "Resolving noto-website-2.storage.googleapis.com (noto-website-2.storage.googleapis.com)... 108.177.119.128, 2a00:1450:4013:c00::80\n",
            "Connecting to noto-website-2.storage.googleapis.com (noto-website-2.storage.googleapis.com)|108.177.119.128|:443... connected.\n",
            "HTTP request sent, awaiting response... 200 OK\n",
            "Length: 121247366 (116M) [application/zip]\n",
            "Saving to: ‘NotoSansCJKtc-hinted.zip’\n",
            "\n",
            "NotoSansCJKtc-hinte 100%[===================>] 115.63M  39.1MB/s    in 3.0s    \n",
            "\n",
            "2020-05-23 02:10:10 (39.1 MB/s) - ‘NotoSansCJKtc-hinted.zip’ saved [121247366/121247366]\n",
            "\n"
          ],
          "name": "stdout"
        }
      ]
    },
    {
      "cell_type": "code",
      "metadata": {
        "id": "YtzD9t57S3Nj",
        "colab_type": "code",
        "colab": {
          "base_uri": "https://localhost:8080/",
          "height": 225
        },
        "outputId": "a1cdb56d-70ea-421a-e108-03370bdf9e48"
      },
      "source": [
        "! unzip NotoSansCJKtc-hinted.zip"
      ],
      "execution_count": 32,
      "outputs": [
        {
          "output_type": "stream",
          "text": [
            "Archive:  NotoSansCJKtc-hinted.zip\n",
            "  inflating: LICENSE_OFL.txt         \n",
            "  inflating: NotoSansCJKtc-Black.otf  \n",
            "  inflating: NotoSansCJKtc-Bold.otf  \n",
            "  inflating: NotoSansCJKtc-DemiLight.otf  \n",
            "  inflating: NotoSansCJKtc-Light.otf  \n",
            "  inflating: NotoSansCJKtc-Medium.otf  \n",
            "  inflating: NotoSansCJKtc-Regular.otf  \n",
            "  inflating: NotoSansCJKtc-Thin.otf  \n",
            "  inflating: NotoSansMonoCJKtc-Bold.otf  \n",
            "  inflating: NotoSansMonoCJKtc-Regular.otf  \n",
            "  inflating: README                  \n"
          ],
          "name": "stdout"
        }
      ]
    },
    {
      "cell_type": "code",
      "metadata": {
        "id": "geU02xW9S6ic",
        "colab_type": "code",
        "colab": {}
      },
      "source": [
        "!mv NotoSansCJKtc-Regular.otf /usr/share/fonts/truetype/"
      ],
      "execution_count": 0,
      "outputs": []
    },
    {
      "cell_type": "code",
      "metadata": {
        "id": "T5bO72p3S9E0",
        "colab_type": "code",
        "colab": {}
      },
      "source": [
        "\n",
        "import matplotlib as mpl\n",
        "import matplotlib.pyplot as plt\n",
        "import matplotlib.font_manager as fm\n",
        "\n",
        "path = '/usr/share/fonts/truetype/NotoSansCJKtc-Regular.otf'\n",
        "fontprop = fm.FontProperties(fname=path)"
      ],
      "execution_count": 0,
      "outputs": []
    },
    {
      "cell_type": "code",
      "metadata": {
        "id": "yLn6_l8qR8Js",
        "colab_type": "code",
        "colab": {
          "base_uri": "https://localhost:8080/",
          "height": 248
        },
        "outputId": "f97fb24c-51c6-4ed3-e238-54167c0c6658"
      },
      "source": [
        "patches,l_text,p_text = plt.pie(df2['city_cnt'], labels=df2.index, autopct=\"%1.2f%%\")\n",
        "for t in l_text: \n",
        "\tt.set_fontproperties(fontprop)"
      ],
      "execution_count": 42,
      "outputs": [
        {
          "output_type": "display_data",
          "data": {
            "image/png": "[encoded data removed]",
            "text/plain": [
              "<Figure size 432x288 with 1 Axes>"
            ]
          },
          "metadata": {
            "tags": []
          }
        }
      ]
    },
    {
      "cell_type": "code",
      "metadata": {
        "id": "1hyDtFOlSn9i",
        "colab_type": "code",
        "colab": {}
      },
      "source": [
        "df2 = df2.sort_values('city_cnt', ascending = False)"
      ],
      "execution_count": 0,
      "outputs": []
    },
    {
      "cell_type": "code",
      "metadata": {
        "id": "EJMaKY1JU4sx",
        "colab_type": "code",
        "colab": {
          "base_uri": "https://localhost:8080/",
          "height": 248
        },
        "outputId": "9b1cf92c-077f-4a11-f9cc-f5fbd6096a15"
      },
      "source": [
        "patches,l_text,p_text = plt.pie(df2['city_cnt'], labels=df2.index, autopct=\"%1.2f%%\", startangle = 90, counterclock=False)\n",
        "for t in l_text: \n",
        "\tt.set_fontproperties(fontprop)"
      ],
      "execution_count": 49,
      "outputs": [
        {
          "output_type": "display_data",
          "data": {
            "image/png": "[encoded data removed]",
            "text/plain": [
              "<Figure size 432x288 with 1 Axes>"
            ]
          },
          "metadata": {
            "tags": []
          }
        }
      ]
    },
    {
      "cell_type": "code",
      "metadata": {
        "id": "M_RY5nB_VAow",
        "colab_type": "code",
        "colab": {}
      },
      "source": [
        "? plt.pie"
      ],
      "execution_count": 0,
      "outputs": []
    },
    {
      "cell_type": "code",
      "metadata": {
        "id": "WhjV-FDCWC76",
        "colab_type": "code",
        "colab": {
          "base_uri": "https://localhost:8080/",
          "height": 542
        },
        "outputId": "9650fc8a-a224-4554-c73c-d18fb1bcf1db"
      },
      "source": [
        "import plotly.graph_objs as go\n",
        "fig = go.Figure()\n",
        "fig.add_trace(go.Pie(labels=df2.index, values=df2['city_cnt']))\n",
        "fig.show()"
      ],
      "execution_count": 56,
      "outputs": [
        {
          "output_type": "display_data",
          "data": {
            "text/html": [
              "<html>\n",
              "<head><meta charset=\"utf-8\" /></head>\n",
              "<body>\n",
              "    <div>\n",
              "            <script src=\"https://cdnjs.cloudflare.com/ajax/libs/mathjax/2.7.5/MathJax.js?config=TeX-AMS-MML_SVG\"></script><script type=\"text/javascript\">if (window.MathJax) {MathJax.Hub.Config({SVG: {font: \"STIX-Web\"}});}</script>\n",
              "                <script type=\"text/javascript\">window.PlotlyConfig = {MathJaxConfig: 'local'};</script>\n",
              "        <script src=\"https://cdn.plot.ly/plotly-latest.min.js\"></script>    \n",
              "            <div id=\"ffb084a8-61ed-415b-9d7d-323c24585e41\" class=\"plotly-graph-div\" style=\"height:525px; width:100%;\"></div>\n",
              "            <script type=\"text/javascript\">\n",
              "                \n",
              "                    window.PLOTLYENV=window.PLOTLYENV || {};\n",
              "                    \n",
              "                if (document.getElementById(\"ffb084a8-61ed-415b-9d7d-323c24585e41\")) {\n",
              "                    Plotly.newPlot(\n",
              "                        'ffb084a8-61ed-415b-9d7d-323c24585e41',\n",
              "                        [{\"labels\": [\"\\u53f0\\u5317\\u5e02\", \"\\u53f0\\u4e2d\\u5e02\", \"\\u65b0\\u5317\\u5e02\", \"\\u6843\\u5712\\u5e02\", \"\\u9ad8\\u96c4\\u5e02\", \"\\u53f0\\u5357\\u5e02\", \"\\u65b0\\u7af9\\u5e02\", \"\\u65b0\\u7af9\\u7e23\", \"\\u82d7\\u6817\\u7e23\", \"\\u5f70\\u5316\\u7e23\", \"\\u57fa\\u9686\\u5e02\", \"\\u5b9c\\u862d\\u7e23\", \"\\u5609\\u7fa9\\u5e02\", \"\\u5c4f\\u6771\\u7e23\", \"\\u82b1\\u84ee\\u7e23\", \"\\u96f2\\u6797\\u7e23\", \"\\u5357\\u6295\\u7e23\", \"\\u5609\\u7fa9\\u7e23\", \"\\u53f0\\u6771\\u7e23\", \"\\u91d1\\u9580\\u7e23\", \"\\u6f8e\\u6e56\\u7e23\"], \"type\": \"pie\", \"values\": [17168, 11754, 11630, 8016, 6902, 3964, 3337, 2565, 840, 775, 624, 617, 473, 392, 357, 319, 194, 188, 129, 66, 5]}],\n",
              "                        {\"template\": {\"data\": {\"bar\": [{\"error_x\": {\"color\": \"#2a3f5f\"}, \"error_y\": {\"color\": \"#2a3f5f\"}, \"marker\": {\"line\": {\"color\": \"#E5ECF6\", \"width\": 0.5}}, \"type\": \"bar\"}], \"barpolar\": [{\"marker\": {\"line\": {\"color\": \"#E5ECF6\", \"width\": 0.5}}, \"type\": \"barpolar\"}], \"carpet\": [{\"aaxis\": {\"endlinecolor\": \"#2a3f5f\", \"gridcolor\": \"white\", \"linecolor\": \"white\", \"minorgridcolor\": \"white\", \"startlinecolor\": \"#2a3f5f\"}, \"baxis\": {\"endlinecolor\": \"#2a3f5f\", \"gridcolor\": \"white\", \"linecolor\": \"white\", \"minorgridcolor\": \"white\", \"startlinecolor\": \"#2a3f5f\"}, \"type\": \"carpet\"}], \"choropleth\": [{\"colorbar\": {\"outlinewidth\": 0, \"ticks\": \"\"}, \"type\": \"choropleth\"}], \"contour\": [{\"colorbar\": {\"outlinewidth\": 0, \"ticks\": \"\"}, \"colorscale\": [[0.0, \"#0d0887\"], [0.1111111111111111, \"#46039f\"], [0.2222222222222222, \"#7201a8\"], [0.3333333333333333, \"#9c179e\"], [0.4444444444444444, \"#bd3786\"], [0.5555555555555556, \"#d8576b\"], [0.6666666666666666, \"#ed7953\"], [0.7777777777777778, \"#fb9f3a\"], [0.8888888888888888, \"#fdca26\"], [1.0, \"#f0f921\"]], \"type\": \"contour\"}], \"contourcarpet\": [{\"colorbar\": {\"outlinewidth\": 0, \"ticks\": \"\"}, \"type\": \"contourcarpet\"}], \"heatmap\": [{\"colorbar\": {\"outlinewidth\": 0, \"ticks\": \"\"}, \"colorscale\": [[0.0, \"#0d0887\"], [0.1111111111111111, \"#46039f\"], [0.2222222222222222, \"#7201a8\"], [0.3333333333333333, \"#9c179e\"], [0.4444444444444444, \"#bd3786\"], [0.5555555555555556, \"#d8576b\"], [0.6666666666666666, \"#ed7953\"], [0.7777777777777778, \"#fb9f3a\"], [0.8888888888888888, \"#fdca26\"], [1.0, \"#f0f921\"]], \"type\": \"heatmap\"}], \"heatmapgl\": [{\"colorbar\": {\"outlinewidth\": 0, \"ticks\": \"\"}, \"colorscale\": [[0.0, \"#0d0887\"], [0.1111111111111111, \"#46039f\"], [0.2222222222222222, \"#7201a8\"], [0.3333333333333333, \"#9c179e\"], [0.4444444444444444, \"#bd3786\"], [0.5555555555555556, \"#d8576b\"], [0.6666666666666666, \"#ed7953\"], [0.7777777777777778, \"#fb9f3a\"], [0.8888888888888888, \"#fdca26\"], [1.0, \"#f0f921\"]], \"type\": \"heatmapgl\"}], \"histogram\": [{\"marker\": {\"colorbar\": {\"outlinewidth\": 0, \"ticks\": \"\"}}, \"type\": \"histogram\"}], \"histogram2d\": [{\"colorbar\": {\"outlinewidth\": 0, \"ticks\": \"\"}, \"colorscale\": [[0.0, \"#0d0887\"], [0.1111111111111111, \"#46039f\"], [0.2222222222222222, \"#7201a8\"], [0.3333333333333333, \"#9c179e\"], [0.4444444444444444, \"#bd3786\"], [0.5555555555555556, \"#d8576b\"], [0.6666666666666666, \"#ed7953\"], [0.7777777777777778, \"#fb9f3a\"], [0.8888888888888888, \"#fdca26\"], [1.0, \"#f0f921\"]], \"type\": \"histogram2d\"}], \"histogram2dcontour\": [{\"colorbar\": {\"outlinewidth\": 0, \"ticks\": \"\"}, \"colorscale\": [[0.0, \"#0d0887\"], [0.1111111111111111, \"#46039f\"], [0.2222222222222222, \"#7201a8\"], [0.3333333333333333, \"#9c179e\"], [0.4444444444444444, \"#bd3786\"], [0.5555555555555556, \"#d8576b\"], [0.6666666666666666, \"#ed7953\"], [0.7777777777777778, \"#fb9f3a\"], [0.8888888888888888, \"#fdca26\"], [1.0, \"#f0f921\"]], \"type\": \"histogram2dcontour\"}], \"mesh3d\": [{\"colorbar\": {\"outlinewidth\": 0, \"ticks\": \"\"}, \"type\": \"mesh3d\"}], \"parcoords\": [{\"line\": {\"colorbar\": {\"outlinewidth\": 0, \"ticks\": \"\"}}, \"type\": \"parcoords\"}], \"pie\": [{\"automargin\": true, \"type\": \"pie\"}], \"scatter\": [{\"marker\": {\"colorbar\": {\"outlinewidth\": 0, \"ticks\": \"\"}}, \"type\": \"scatter\"}], \"scatter3d\": [{\"line\": {\"colorbar\": {\"outlinewidth\": 0, \"ticks\": \"\"}}, \"marker\": {\"colorbar\": {\"outlinewidth\": 0, \"ticks\": \"\"}}, \"type\": \"scatter3d\"}], \"scattercarpet\": [{\"marker\": {\"colorbar\": {\"outlinewidth\": 0, \"ticks\": \"\"}}, \"type\": \"scattercarpet\"}], \"scattergeo\": [{\"marker\": {\"colorbar\": {\"outlinewidth\": 0, \"ticks\": \"\"}}, \"type\": \"scattergeo\"}], \"scattergl\": [{\"marker\": {\"colorbar\": {\"outlinewidth\": 0, \"ticks\": \"\"}}, \"type\": \"scattergl\"}], \"scattermapbox\": [{\"marker\": {\"colorbar\": {\"outlinewidth\": 0, \"ticks\": \"\"}}, \"type\": \"scattermapbox\"}], \"scatterpolar\": [{\"marker\": {\"colorbar\": {\"outlinewidth\": 0, \"ticks\": \"\"}}, \"type\": \"scatterpolar\"}], \"scatterpolargl\": [{\"marker\": {\"colorbar\": {\"outlinewidth\": 0, \"ticks\": \"\"}}, \"type\": \"scatterpolargl\"}], \"scatterternary\": [{\"marker\": {\"colorbar\": {\"outlinewidth\": 0, \"ticks\": \"\"}}, \"type\": \"scatterternary\"}], \"surface\": [{\"colorbar\": {\"outlinewidth\": 0, \"ticks\": \"\"}, \"colorscale\": [[0.0, \"#0d0887\"], [0.1111111111111111, \"#46039f\"], [0.2222222222222222, \"#7201a8\"], [0.3333333333333333, \"#9c179e\"], [0.4444444444444444, \"#bd3786\"], [0.5555555555555556, \"#d8576b\"], [0.6666666666666666, \"#ed7953\"], [0.7777777777777778, \"#fb9f3a\"], [0.8888888888888888, \"#fdca26\"], [1.0, \"#f0f921\"]], \"type\": \"surface\"}], \"table\": [{\"cells\": {\"fill\": {\"color\": \"#EBF0F8\"}, \"line\": {\"color\": \"white\"}}, \"header\": {\"fill\": {\"color\": \"#C8D4E3\"}, \"line\": {\"color\": \"white\"}}, \"type\": \"table\"}]}, \"layout\": {\"annotationdefaults\": {\"arrowcolor\": \"#2a3f5f\", \"arrowhead\": 0, \"arrowwidth\": 1}, \"coloraxis\": {\"colorbar\": {\"outlinewidth\": 0, \"ticks\": \"\"}}, \"colorscale\": {\"diverging\": [[0, \"#8e0152\"], [0.1, \"#c51b7d\"], [0.2, \"#de77ae\"], [0.3, \"#f1b6da\"], [0.4, \"#fde0ef\"], [0.5, \"#f7f7f7\"], [0.6, \"#e6f5d0\"], [0.7, \"#b8e186\"], [0.8, \"#7fbc41\"], [0.9, \"#4d9221\"], [1, \"#276419\"]], \"sequential\": [[0.0, \"#0d0887\"], [0.1111111111111111, \"#46039f\"], [0.2222222222222222, \"#7201a8\"], [0.3333333333333333, \"#9c179e\"], [0.4444444444444444, \"#bd3786\"], [0.5555555555555556, \"#d8576b\"], [0.6666666666666666, \"#ed7953\"], [0.7777777777777778, \"#fb9f3a\"], [0.8888888888888888, \"#fdca26\"], [1.0, \"#f0f921\"]], \"sequentialminus\": [[0.0, \"#0d0887\"], [0.1111111111111111, \"#46039f\"], [0.2222222222222222, \"#7201a8\"], [0.3333333333333333, \"#9c179e\"], [0.4444444444444444, \"#bd3786\"], [0.5555555555555556, \"#d8576b\"], [0.6666666666666666, \"#ed7953\"], [0.7777777777777778, \"#fb9f3a\"], [0.8888888888888888, \"#fdca26\"], [1.0, \"#f0f921\"]]}, \"colorway\": [\"#636efa\", \"#EF553B\", \"#00cc96\", \"#ab63fa\", \"#FFA15A\", \"#19d3f3\", \"#FF6692\", \"#B6E880\", \"#FF97FF\", \"#FECB52\"], \"font\": {\"color\": \"#2a3f5f\"}, \"geo\": {\"bgcolor\": \"white\", \"lakecolor\": \"white\", \"landcolor\": \"#E5ECF6\", \"showlakes\": true, \"showland\": true, \"subunitcolor\": \"white\"}, \"hoverlabel\": {\"align\": \"left\"}, \"hovermode\": \"closest\", \"mapbox\": {\"style\": \"light\"}, \"paper_bgcolor\": \"white\", \"plot_bgcolor\": \"#E5ECF6\", \"polar\": {\"angularaxis\": {\"gridcolor\": \"white\", \"linecolor\": \"white\", \"ticks\": \"\"}, \"bgcolor\": \"#E5ECF6\", \"radialaxis\": {\"gridcolor\": \"white\", \"linecolor\": \"white\", \"ticks\": \"\"}}, \"scene\": {\"xaxis\": {\"backgroundcolor\": \"#E5ECF6\", \"gridcolor\": \"white\", \"gridwidth\": 2, \"linecolor\": \"white\", \"showbackground\": true, \"ticks\": \"\", \"zerolinecolor\": \"white\"}, \"yaxis\": {\"backgroundcolor\": \"#E5ECF6\", \"gridcolor\": \"white\", \"gridwidth\": 2, \"linecolor\": \"white\", \"showbackground\": true, \"ticks\": \"\", \"zerolinecolor\": \"white\"}, \"zaxis\": {\"backgroundcolor\": \"#E5ECF6\", \"gridcolor\": \"white\", \"gridwidth\": 2, \"linecolor\": \"white\", \"showbackground\": true, \"ticks\": \"\", \"zerolinecolor\": \"white\"}}, \"shapedefaults\": {\"line\": {\"color\": \"#2a3f5f\"}}, \"ternary\": {\"aaxis\": {\"gridcolor\": \"white\", \"linecolor\": \"white\", \"ticks\": \"\"}, \"baxis\": {\"gridcolor\": \"white\", \"linecolor\": \"white\", \"ticks\": \"\"}, \"bgcolor\": \"#E5ECF6\", \"caxis\": {\"gridcolor\": \"white\", \"linecolor\": \"white\", \"ticks\": \"\"}}, \"title\": {\"x\": 0.05}, \"xaxis\": {\"automargin\": true, \"gridcolor\": \"white\", \"linecolor\": \"white\", \"ticks\": \"\", \"title\": {\"standoff\": 15}, \"zerolinecolor\": \"white\", \"zerolinewidth\": 2}, \"yaxis\": {\"automargin\": true, \"gridcolor\": \"white\", \"linecolor\": \"white\", \"ticks\": \"\", \"title\": {\"standoff\": 15}, \"zerolinecolor\": \"white\", \"zerolinewidth\": 2}}}},\n",
              "                        {\"responsive\": true}\n",
              "                    ).then(function(){\n",
              "                            \n",
              "var gd = document.getElementById('ffb084a8-61ed-415b-9d7d-323c24585e41');\n",
              "var x = new MutationObserver(function (mutations, observer) {{\n",
              "        var display = window.getComputedStyle(gd).display;\n",
              "        if (!display || display === 'none') {{\n",
              "            console.log([gd, 'removed!']);\n",
              "            Plotly.purge(gd);\n",
              "            observer.disconnect();\n",
              "        }}\n",
              "}});\n",
              "\n",
              "// Listen for the removal of the full notebook cells\n",
              "var notebookContainer = gd.closest('#notebook-container');\n",
              "if (notebookContainer) {{\n",
              "    x.observe(notebookContainer, {childList: true});\n",
              "}}\n",
              "\n",
              "// Listen for the clearing of the current output cell\n",
              "var outputEl = gd.closest('.output');\n",
              "if (outputEl) {{\n",
              "    x.observe(outputEl, {childList: true});\n",
              "}}\n",
              "\n",
              "                        })\n",
              "                };\n",
              "                \n",
              "            </script>\n",
              "        </div>\n",
              "</body>\n",
              "</html>"
            ]
          },
          "metadata": {
            "tags": []
          }
        }
      ]
    },
    {
      "cell_type": "code",
      "metadata": {
        "id": "2cdkPAM0VFBB",
        "colab_type": "code",
        "colab": {
          "base_uri": "https://localhost:8080/",
          "height": 993
        },
        "outputId": "3565593d-6050-4ced-d9c2-61886caba3d3"
      },
      "source": [
        "plt.bar(height = df2['city_cnt'], x=df2.index)\n",
        "width = 0.3\n",
        "x = range(len(df2.index))\n",
        "plt.xticks([i+width for i in x],df2.index, fontproperties=fontprop)"
      ],
      "execution_count": 55,
      "outputs": [
        {
          "output_type": "execute_result",
          "data": {
            "text/plain": [
              "([<matplotlib.axis.XTick at 0x7f72fbc65b38>,\n",
              "  <matplotlib.axis.XTick at 0x7f72fbc65b00>,\n",
              "  <matplotlib.axis.XTick at 0x7f72fbc687b8>,\n",
              "  <matplotlib.axis.XTick at 0x7f72fbc3c710>,\n",
              "  <matplotlib.axis.XTick at 0x7f72fbc3cba8>,\n",
              "  <matplotlib.axis.XTick at 0x7f72fbc450f0>,\n",
              "  <matplotlib.axis.XTick at 0x7f72fbc45518>,\n",
              "  <matplotlib.axis.XTick at 0x7f72fbc459b0>,\n",
              "  <matplotlib.axis.XTick at 0x7f72fbc45e48>,\n",
              "  <matplotlib.axis.XTick at 0x7f72fbc4e320>,\n",
              "  <matplotlib.axis.XTick at 0x7f72fbc45828>,\n",
              "  <matplotlib.axis.XTick at 0x7f72fbc3cc88>,\n",
              "  <matplotlib.axis.XTick at 0x7f72fbc4e908>,\n",
              "  <matplotlib.axis.XTick at 0x7f72fbc4ec50>,\n",
              "  <matplotlib.axis.XTick at 0x7f72fbbd6160>,\n",
              "  <matplotlib.axis.XTick at 0x7f72fbbd65c0>,\n",
              "  <matplotlib.axis.XTick at 0x7f72fbbd6a58>,\n",
              "  <matplotlib.axis.XTick at 0x7f72fbbd6ef0>,\n",
              "  <matplotlib.axis.XTick at 0x7f72fbbdf3c8>,\n",
              "  <matplotlib.axis.XTick at 0x7f72fbbdf860>,\n",
              "  <matplotlib.axis.XTick at 0x7f72fbbd6fd0>],\n",
              " [Text(0, 0, '台北市'),\n",
              "  Text(0, 0, '台中市'),\n",
              "  Text(0, 0, '新北市'),\n",
              "  Text(0, 0, '桃園市'),\n",
              "  Text(0, 0, '高雄市'),\n",
              "  Text(0, 0, '台南市'),\n",
              "  Text(0, 0, '新竹市'),\n",
              "  Text(0, 0, '新竹縣'),\n",
              "  Text(0, 0, '苗栗縣'),\n",
              "  Text(0, 0, '彰化縣'),\n",
              "  Text(0, 0, '基隆市'),\n",
              "  Text(0, 0, '宜蘭縣'),\n",
              "  Text(0, 0, '嘉義市'),\n",
              "  Text(0, 0, '屏東縣'),\n",
              "  Text(0, 0, '花蓮縣'),\n",
              "  Text(0, 0, '雲林縣'),\n",
              "  Text(0, 0, '南投縣'),\n",
              "  Text(0, 0, '嘉義縣'),\n",
              "  Text(0, 0, '台東縣'),\n",
              "  Text(0, 0, '金門縣'),\n",
              "  Text(0, 0, '澎湖縣')])"
            ]
          },
          "metadata": {
            "tags": []
          },
          "execution_count": 55
        },
        {
          "output_type": "display_data",
          "data": {
            "image/png": "[encoded data removed]",
            "text/plain": [
              "<Figure size 432x288 with 1 Axes>"
            ]
          },
          "metadata": {
            "tags": [],
            "needs_background": "light"
          }
        }
      ]
    },
    {
      "cell_type": "code",
      "metadata": {
        "id": "SSA1OqzXVc7V",
        "colab_type": "code",
        "colab": {
          "base_uri": "https://localhost:8080/",
          "height": 542
        },
        "outputId": "486ec53a-e56f-4bb3-c102-95fdb0772d9f"
      },
      "source": [
        "import plotly.graph_objs as go\n",
        "fig = go.Figure()\n",
        "fig.add_trace(go.Bar(x=df2.index, y=df2['city_cnt']))\n",
        "fig.show()"
      ],
      "execution_count": 58,
      "outputs": [
        {
          "output_type": "display_data",
          "data": {
            "text/html": [
              "<html>\n",
              "<head><meta charset=\"utf-8\" /></head>\n",
              "<body>\n",
              "    <div>\n",
              "            <script src=\"https://cdnjs.cloudflare.com/ajax/libs/mathjax/2.7.5/MathJax.js?config=TeX-AMS-MML_SVG\"></script><script type=\"text/javascript\">if (window.MathJax) {MathJax.Hub.Config({SVG: {font: \"STIX-Web\"}});}</script>\n",
              "                <script type=\"text/javascript\">window.PlotlyConfig = {MathJaxConfig: 'local'};</script>\n",
              "        <script src=\"https://cdn.plot.ly/plotly-latest.min.js\"></script>    \n",
              "            <div id=\"7254318c-f76e-4d91-b6a6-f123541be98c\" class=\"plotly-graph-div\" style=\"height:525px; width:100%;\"></div>\n",
              "            <script type=\"text/javascript\">\n",
              "                \n",
              "                    window.PLOTLYENV=window.PLOTLYENV || {};\n",
              "                    \n",
              "                if (document.getElementById(\"7254318c-f76e-4d91-b6a6-f123541be98c\")) {\n",
              "                    Plotly.newPlot(\n",
              "                        '7254318c-f76e-4d91-b6a6-f123541be98c',\n",
              "                        [{\"type\": \"bar\", \"x\": [\"\\u53f0\\u5317\\u5e02\", \"\\u53f0\\u4e2d\\u5e02\", \"\\u65b0\\u5317\\u5e02\", \"\\u6843\\u5712\\u5e02\", \"\\u9ad8\\u96c4\\u5e02\", \"\\u53f0\\u5357\\u5e02\", \"\\u65b0\\u7af9\\u5e02\", \"\\u65b0\\u7af9\\u7e23\", \"\\u82d7\\u6817\\u7e23\", \"\\u5f70\\u5316\\u7e23\", \"\\u57fa\\u9686\\u5e02\", \"\\u5b9c\\u862d\\u7e23\", \"\\u5609\\u7fa9\\u5e02\", \"\\u5c4f\\u6771\\u7e23\", \"\\u82b1\\u84ee\\u7e23\", \"\\u96f2\\u6797\\u7e23\", \"\\u5357\\u6295\\u7e23\", \"\\u5609\\u7fa9\\u7e23\", \"\\u53f0\\u6771\\u7e23\", \"\\u91d1\\u9580\\u7e23\", \"\\u6f8e\\u6e56\\u7e23\"], \"y\": [17168, 11754, 11630, 8016, 6902, 3964, 3337, 2565, 840, 775, 624, 617, 473, 392, 357, 319, 194, 188, 129, 66, 5]}],\n",
              "                        {\"template\": {\"data\": {\"bar\": [{\"error_x\": {\"color\": \"#2a3f5f\"}, \"error_y\": {\"color\": \"#2a3f5f\"}, \"marker\": {\"line\": {\"color\": \"#E5ECF6\", \"width\": 0.5}}, \"type\": \"bar\"}], \"barpolar\": [{\"marker\": {\"line\": {\"color\": \"#E5ECF6\", \"width\": 0.5}}, \"type\": \"barpolar\"}], \"carpet\": [{\"aaxis\": {\"endlinecolor\": \"#2a3f5f\", \"gridcolor\": \"white\", \"linecolor\": \"white\", \"minorgridcolor\": \"white\", \"startlinecolor\": \"#2a3f5f\"}, \"baxis\": {\"endlinecolor\": \"#2a3f5f\", \"gridcolor\": \"white\", \"linecolor\": \"white\", \"minorgridcolor\": \"white\", \"startlinecolor\": \"#2a3f5f\"}, \"type\": \"carpet\"}], \"choropleth\": [{\"colorbar\": {\"outlinewidth\": 0, \"ticks\": \"\"}, \"type\": \"choropleth\"}], \"contour\": [{\"colorbar\": {\"outlinewidth\": 0, \"ticks\": \"\"}, \"colorscale\": [[0.0, \"#0d0887\"], [0.1111111111111111, \"#46039f\"], [0.2222222222222222, \"#7201a8\"], [0.3333333333333333, \"#9c179e\"], [0.4444444444444444, \"#bd3786\"], [0.5555555555555556, \"#d8576b\"], [0.6666666666666666, \"#ed7953\"], [0.7777777777777778, \"#fb9f3a\"], [0.8888888888888888, \"#fdca26\"], [1.0, \"#f0f921\"]], \"type\": \"contour\"}], \"contourcarpet\": [{\"colorbar\": {\"outlinewidth\": 0, \"ticks\": \"\"}, \"type\": \"contourcarpet\"}], \"heatmap\": [{\"colorbar\": {\"outlinewidth\": 0, \"ticks\": \"\"}, \"colorscale\": [[0.0, \"#0d0887\"], [0.1111111111111111, \"#46039f\"], [0.2222222222222222, \"#7201a8\"], [0.3333333333333333, \"#9c179e\"], [0.4444444444444444, \"#bd3786\"], [0.5555555555555556, \"#d8576b\"], [0.6666666666666666, \"#ed7953\"], [0.7777777777777778, \"#fb9f3a\"], [0.8888888888888888, \"#fdca26\"], [1.0, \"#f0f921\"]], \"type\": \"heatmap\"}], \"heatmapgl\": [{\"colorbar\": {\"outlinewidth\": 0, \"ticks\": \"\"}, \"colorscale\": [[0.0, \"#0d0887\"], [0.1111111111111111, \"#46039f\"], [0.2222222222222222, \"#7201a8\"], [0.3333333333333333, \"#9c179e\"], [0.4444444444444444, \"#bd3786\"], [0.5555555555555556, \"#d8576b\"], [0.6666666666666666, \"#ed7953\"], [0.7777777777777778, \"#fb9f3a\"], [0.8888888888888888, \"#fdca26\"], [1.0, \"#f0f921\"]], \"type\": \"heatmapgl\"}], \"histogram\": [{\"marker\": {\"colorbar\": {\"outlinewidth\": 0, \"ticks\": \"\"}}, \"type\": \"histogram\"}], \"histogram2d\": [{\"colorbar\": {\"outlinewidth\": 0, \"ticks\": \"\"}, \"colorscale\": [[0.0, \"#0d0887\"], [0.1111111111111111, \"#46039f\"], [0.2222222222222222, \"#7201a8\"], [0.3333333333333333, \"#9c179e\"], [0.4444444444444444, \"#bd3786\"], [0.5555555555555556, \"#d8576b\"], [0.6666666666666666, \"#ed7953\"], [0.7777777777777778, \"#fb9f3a\"], [0.8888888888888888, \"#fdca26\"], [1.0, \"#f0f921\"]], \"type\": \"histogram2d\"}], \"histogram2dcontour\": [{\"colorbar\": {\"outlinewidth\": 0, \"ticks\": \"\"}, \"colorscale\": [[0.0, \"#0d0887\"], [0.1111111111111111, \"#46039f\"], [0.2222222222222222, \"#7201a8\"], [0.3333333333333333, \"#9c179e\"], [0.4444444444444444, \"#bd3786\"], [0.5555555555555556, \"#d8576b\"], [0.6666666666666666, \"#ed7953\"], [0.7777777777777778, \"#fb9f3a\"], [0.8888888888888888, \"#fdca26\"], [1.0, \"#f0f921\"]], \"type\": \"histogram2dcontour\"}], \"mesh3d\": [{\"colorbar\": {\"outlinewidth\": 0, \"ticks\": \"\"}, \"type\": \"mesh3d\"}], \"parcoords\": [{\"line\": {\"colorbar\": {\"outlinewidth\": 0, \"ticks\": \"\"}}, \"type\": \"parcoords\"}], \"pie\": [{\"automargin\": true, \"type\": \"pie\"}], \"scatter\": [{\"marker\": {\"colorbar\": {\"outlinewidth\": 0, \"ticks\": \"\"}}, \"type\": \"scatter\"}], \"scatter3d\": [{\"line\": {\"colorbar\": {\"outlinewidth\": 0, \"ticks\": \"\"}}, \"marker\": {\"colorbar\": {\"outlinewidth\": 0, \"ticks\": \"\"}}, \"type\": \"scatter3d\"}], \"scattercarpet\": [{\"marker\": {\"colorbar\": {\"outlinewidth\": 0, \"ticks\": \"\"}}, \"type\": \"scattercarpet\"}], \"scattergeo\": [{\"marker\": {\"colorbar\": {\"outlinewidth\": 0, \"ticks\": \"\"}}, \"type\": \"scattergeo\"}], \"scattergl\": [{\"marker\": {\"colorbar\": {\"outlinewidth\": 0, \"ticks\": \"\"}}, \"type\": \"scattergl\"}], \"scattermapbox\": [{\"marker\": {\"colorbar\": {\"outlinewidth\": 0, \"ticks\": \"\"}}, \"type\": \"scattermapbox\"}], \"scatterpolar\": [{\"marker\": {\"colorbar\": {\"outlinewidth\": 0, \"ticks\": \"\"}}, \"type\": \"scatterpolar\"}], \"scatterpolargl\": [{\"marker\": {\"colorbar\": {\"outlinewidth\": 0, \"ticks\": \"\"}}, \"type\": \"scatterpolargl\"}], \"scatterternary\": [{\"marker\": {\"colorbar\": {\"outlinewidth\": 0, \"ticks\": \"\"}}, \"type\": \"scatterternary\"}], \"surface\": [{\"colorbar\": {\"outlinewidth\": 0, \"ticks\": \"\"}, \"colorscale\": [[0.0, \"#0d0887\"], [0.1111111111111111, \"#46039f\"], [0.2222222222222222, \"#7201a8\"], [0.3333333333333333, \"#9c179e\"], [0.4444444444444444, \"#bd3786\"], [0.5555555555555556, \"#d8576b\"], [0.6666666666666666, \"#ed7953\"], [0.7777777777777778, \"#fb9f3a\"], [0.8888888888888888, \"#fdca26\"], [1.0, \"#f0f921\"]], \"type\": \"surface\"}], \"table\": [{\"cells\": {\"fill\": {\"color\": \"#EBF0F8\"}, \"line\": {\"color\": \"white\"}}, \"header\": {\"fill\": {\"color\": \"#C8D4E3\"}, \"line\": {\"color\": \"white\"}}, \"type\": \"table\"}]}, \"layout\": {\"annotationdefaults\": {\"arrowcolor\": \"#2a3f5f\", \"arrowhead\": 0, \"arrowwidth\": 1}, \"coloraxis\": {\"colorbar\": {\"outlinewidth\": 0, \"ticks\": \"\"}}, \"colorscale\": {\"diverging\": [[0, \"#8e0152\"], [0.1, \"#c51b7d\"], [0.2, \"#de77ae\"], [0.3, \"#f1b6da\"], [0.4, \"#fde0ef\"], [0.5, \"#f7f7f7\"], [0.6, \"#e6f5d0\"], [0.7, \"#b8e186\"], [0.8, \"#7fbc41\"], [0.9, \"#4d9221\"], [1, \"#276419\"]], \"sequential\": [[0.0, \"#0d0887\"], [0.1111111111111111, \"#46039f\"], [0.2222222222222222, \"#7201a8\"], [0.3333333333333333, \"#9c179e\"], [0.4444444444444444, \"#bd3786\"], [0.5555555555555556, \"#d8576b\"], [0.6666666666666666, \"#ed7953\"], [0.7777777777777778, \"#fb9f3a\"], [0.8888888888888888, \"#fdca26\"], [1.0, \"#f0f921\"]], \"sequentialminus\": [[0.0, \"#0d0887\"], [0.1111111111111111, \"#46039f\"], [0.2222222222222222, \"#7201a8\"], [0.3333333333333333, \"#9c179e\"], [0.4444444444444444, \"#bd3786\"], [0.5555555555555556, \"#d8576b\"], [0.6666666666666666, \"#ed7953\"], [0.7777777777777778, \"#fb9f3a\"], [0.8888888888888888, \"#fdca26\"], [1.0, \"#f0f921\"]]}, \"colorway\": [\"#636efa\", \"#EF553B\", \"#00cc96\", \"#ab63fa\", \"#FFA15A\", \"#19d3f3\", \"#FF6692\", \"#B6E880\", \"#FF97FF\", \"#FECB52\"], \"font\": {\"color\": \"#2a3f5f\"}, \"geo\": {\"bgcolor\": \"white\", \"lakecolor\": \"white\", \"landcolor\": \"#E5ECF6\", \"showlakes\": true, \"showland\": true, \"subunitcolor\": \"white\"}, \"hoverlabel\": {\"align\": \"left\"}, \"hovermode\": \"closest\", \"mapbox\": {\"style\": \"light\"}, \"paper_bgcolor\": \"white\", \"plot_bgcolor\": \"#E5ECF6\", \"polar\": {\"angularaxis\": {\"gridcolor\": \"white\", \"linecolor\": \"white\", \"ticks\": \"\"}, \"bgcolor\": \"#E5ECF6\", \"radialaxis\": {\"gridcolor\": \"white\", \"linecolor\": \"white\", \"ticks\": \"\"}}, \"scene\": {\"xaxis\": {\"backgroundcolor\": \"#E5ECF6\", \"gridcolor\": \"white\", \"gridwidth\": 2, \"linecolor\": \"white\", \"showbackground\": true, \"ticks\": \"\", \"zerolinecolor\": \"white\"}, \"yaxis\": {\"backgroundcolor\": \"#E5ECF6\", \"gridcolor\": \"white\", \"gridwidth\": 2, \"linecolor\": \"white\", \"showbackground\": true, \"ticks\": \"\", \"zerolinecolor\": \"white\"}, \"zaxis\": {\"backgroundcolor\": \"#E5ECF6\", \"gridcolor\": \"white\", \"gridwidth\": 2, \"linecolor\": \"white\", \"showbackground\": true, \"ticks\": \"\", \"zerolinecolor\": \"white\"}}, \"shapedefaults\": {\"line\": {\"color\": \"#2a3f5f\"}}, \"ternary\": {\"aaxis\": {\"gridcolor\": \"white\", \"linecolor\": \"white\", \"ticks\": \"\"}, \"baxis\": {\"gridcolor\": \"white\", \"linecolor\": \"white\", \"ticks\": \"\"}, \"bgcolor\": \"#E5ECF6\", \"caxis\": {\"gridcolor\": \"white\", \"linecolor\": \"white\", \"ticks\": \"\"}}, \"title\": {\"x\": 0.05}, \"xaxis\": {\"automargin\": true, \"gridcolor\": \"white\", \"linecolor\": \"white\", \"ticks\": \"\", \"title\": {\"standoff\": 15}, \"zerolinecolor\": \"white\", \"zerolinewidth\": 2}, \"yaxis\": {\"automargin\": true, \"gridcolor\": \"white\", \"linecolor\": \"white\", \"ticks\": \"\", \"title\": {\"standoff\": 15}, \"zerolinecolor\": \"white\", \"zerolinewidth\": 2}}}},\n",
              "                        {\"responsive\": true}\n",
              "                    ).then(function(){\n",
              "                            \n",
              "var gd = document.getElementById('7254318c-f76e-4d91-b6a6-f123541be98c');\n",
              "var x = new MutationObserver(function (mutations, observer) {{\n",
              "        var display = window.getComputedStyle(gd).display;\n",
              "        if (!display || display === 'none') {{\n",
              "            console.log([gd, 'removed!']);\n",
              "            Plotly.purge(gd);\n",
              "            observer.disconnect();\n",
              "        }}\n",
              "}});\n",
              "\n",
              "// Listen for the removal of the full notebook cells\n",
              "var notebookContainer = gd.closest('#notebook-container');\n",
              "if (notebookContainer) {{\n",
              "    x.observe(notebookContainer, {childList: true});\n",
              "}}\n",
              "\n",
              "// Listen for the clearing of the current output cell\n",
              "var outputEl = gd.closest('.output');\n",
              "if (outputEl) {{\n",
              "    x.observe(outputEl, {childList: true});\n",
              "}}\n",
              "\n",
              "                        })\n",
              "                };\n",
              "                \n",
              "            </script>\n",
              "        </div>\n",
              "</body>\n",
              "</html>"
            ]
          },
          "metadata": {
            "tags": []
          }
        }
      ]
    },
    {
      "cell_type": "code",
      "metadata": {
        "id": "CL8oXdk0WcyL",
        "colab_type": "code",
        "colab": {}
      },
      "source": [
        "import sqlite3 as lite\n",
        "with lite.connect('house.sqlite') as con:\n",
        "  df3 = pd.read_sql_query(\"select building_area, price, price/building_area as price_per_area from rent591 where city = '台北市'\", con= con)"
      ],
      "execution_count": 0,
      "outputs": []
    },
    {
      "cell_type": "code",
      "metadata": {
        "id": "alfvS0xOW3d_",
        "colab_type": "code",
        "colab": {
          "base_uri": "https://localhost:8080/",
          "height": 283
        },
        "outputId": "2a874c42-ab83-45df-bc56-e5866a4872b6"
      },
      "source": [
        "df3['price_per_area'].plot(kind='hist', bins = 100)"
      ],
      "execution_count": 103,
      "outputs": [
        {
          "output_type": "execute_result",
          "data": {
            "text/plain": [
              "<matplotlib.axes._subplots.AxesSubplot at 0x7f72f4b93b38>"
            ]
          },
          "metadata": {
            "tags": []
          },
          "execution_count": 103
        },
        {
          "output_type": "display_data",
          "data": {
            "image/png": "[encoded data removed]",
            "text/plain": [
              "<Figure size 432x288 with 1 Axes>"
            ]
          },
          "metadata": {
            "tags": [],
            "needs_background": "light"
          }
        }
      ]
    },
    {
      "cell_type": "code",
      "metadata": {
        "id": "b0hRLHPZW9ht",
        "colab_type": "code",
        "colab": {
          "base_uri": "https://localhost:8080/",
          "height": 283
        },
        "outputId": "53adc1c0-56e9-41fb-b5db-57aa34518e0f"
      },
      "source": [
        "df3[df3['price_per_area'] < 10000]['price_per_area'].plot(kind='hist', bins = 100)"
      ],
      "execution_count": 104,
      "outputs": [
        {
          "output_type": "execute_result",
          "data": {
            "text/plain": [
              "<matplotlib.axes._subplots.AxesSubplot at 0x7f72f4aea2e8>"
            ]
          },
          "metadata": {
            "tags": []
          },
          "execution_count": 104
        },
        {
          "output_type": "display_data",
          "data": {
            "image/png": "[encoded data removed]",
            "text/plain": [
              "<Figure size 432x288 with 1 Axes>"
            ]
          },
          "metadata": {
            "tags": [],
            "needs_background": "light"
          }
        }
      ]
    },
    {
      "cell_type": "code",
      "metadata": {
        "id": "GqjTe11FXZFl",
        "colab_type": "code",
        "colab": {
          "base_uri": "https://localhost:8080/",
          "height": 287
        },
        "outputId": "1506843f-eb2d-44ef-b481-1caf26ae5c24"
      },
      "source": [
        "df3['price_per_area'].plot(kind='hist', logy=True, bins = 100)"
      ],
      "execution_count": 105,
      "outputs": [
        {
          "output_type": "execute_result",
          "data": {
            "text/plain": [
              "<matplotlib.axes._subplots.AxesSubplot at 0x7f72f7c6b390>"
            ]
          },
          "metadata": {
            "tags": []
          },
          "execution_count": 105
        },
        {
          "output_type": "display_data",
          "data": {
            "image/png": "[encoded data removed]",
            "text/plain": [
              "<Figure size 432x288 with 1 Axes>"
            ]
          },
          "metadata": {
            "tags": [],
            "needs_background": "light"
          }
        }
      ]
    },
    {
      "cell_type": "code",
      "metadata": {
        "id": "Ks8Tueq5XoHR",
        "colab_type": "code",
        "colab": {
          "base_uri": "https://localhost:8080/",
          "height": 283
        },
        "outputId": "b457d878-d68f-4ecb-b669-541855517f86"
      },
      "source": [
        "df3['price_per_area'].plot(kind='box')"
      ],
      "execution_count": 106,
      "outputs": [
        {
          "output_type": "execute_result",
          "data": {
            "text/plain": [
              "<matplotlib.axes._subplots.AxesSubplot at 0x7f72f4721780>"
            ]
          },
          "metadata": {
            "tags": []
          },
          "execution_count": 106
        },
        {
          "output_type": "display_data",
          "data": {
            "image/png": "[encoded data removed]",
            "text/plain": [
              "<Figure size 432x288 with 1 Axes>"
            ]
          },
          "metadata": {
            "tags": [],
            "needs_background": "light"
          }
        }
      ]
    },
    {
      "cell_type": "code",
      "metadata": {
        "id": "23-PCfmfYGcG",
        "colab_type": "code",
        "colab": {
          "base_uri": "https://localhost:8080/",
          "height": 283
        },
        "outputId": "5dc86c0c-df25-4676-c64c-392f0330ca2a"
      },
      "source": [
        "df3[df3['price_per_area'] < 100000]['price_per_area'].plot(kind='box')"
      ],
      "execution_count": 107,
      "outputs": [
        {
          "output_type": "execute_result",
          "data": {
            "text/plain": [
              "<matplotlib.axes._subplots.AxesSubplot at 0x7f72f46b0e80>"
            ]
          },
          "metadata": {
            "tags": []
          },
          "execution_count": 107
        },
        {
          "output_type": "display_data",
          "data": {
            "image/png": "[encoded data removed]",
            "text/plain": [
              "<Figure size 432x288 with 1 Axes>"
            ]
          },
          "metadata": {
            "tags": [],
            "needs_background": "light"
          }
        }
      ]
    },
    {
      "cell_type": "code",
      "metadata": {
        "id": "xXn2CLBMYUFK",
        "colab_type": "code",
        "colab": {
          "base_uri": "https://localhost:8080/",
          "height": 202
        },
        "outputId": "6db2bc94-125a-42e1-e841-e8eb5cfbc415"
      },
      "source": [
        "df3.head()"
      ],
      "execution_count": 108,
      "outputs": [
        {
          "output_type": "execute_result",
          "data": {
            "text/html": [
              "<div>\n",
              "<style scoped>\n",
              "    .dataframe tbody tr th:only-of-type {\n",
              "        vertical-align: middle;\n",
              "    }\n",
              "\n",
              "    .dataframe tbody tr th {\n",
              "        vertical-align: top;\n",
              "    }\n",
              "\n",
              "    .dataframe thead th {\n",
              "        text-align: right;\n",
              "    }\n",
              "</style>\n",
              "<table border=\"1\" class=\"dataframe\">\n",
              "  <thead>\n",
              "    <tr style=\"text-align: right;\">\n",
              "      <th></th>\n",
              "      <th>building_area</th>\n",
              "      <th>price</th>\n",
              "      <th>price_per_area</th>\n",
              "    </tr>\n",
              "  </thead>\n",
              "  <tbody>\n",
              "    <tr>\n",
              "      <th>0</th>\n",
              "      <td>6.00</td>\n",
              "      <td>10000</td>\n",
              "      <td>1666.666667</td>\n",
              "    </tr>\n",
              "    <tr>\n",
              "      <th>1</th>\n",
              "      <td>78.00</td>\n",
              "      <td>25000</td>\n",
              "      <td>320.512821</td>\n",
              "    </tr>\n",
              "    <tr>\n",
              "      <th>2</th>\n",
              "      <td>66.35</td>\n",
              "      <td>70000</td>\n",
              "      <td>1055.011304</td>\n",
              "    </tr>\n",
              "    <tr>\n",
              "      <th>3</th>\n",
              "      <td>6.00</td>\n",
              "      <td>8000</td>\n",
              "      <td>1333.333333</td>\n",
              "    </tr>\n",
              "    <tr>\n",
              "      <th>4</th>\n",
              "      <td>26.00</td>\n",
              "      <td>14000</td>\n",
              "      <td>538.461538</td>\n",
              "    </tr>\n",
              "  </tbody>\n",
              "</table>\n",
              "</div>"
            ],
            "text/plain": [
              "   building_area  price  price_per_area\n",
              "0           6.00  10000     1666.666667\n",
              "1          78.00  25000      320.512821\n",
              "2          66.35  70000     1055.011304\n",
              "3           6.00   8000     1333.333333\n",
              "4          26.00  14000      538.461538"
            ]
          },
          "metadata": {
            "tags": []
          },
          "execution_count": 108
        }
      ]
    },
    {
      "cell_type": "code",
      "metadata": {
        "id": "Ixq9F7OrYcdF",
        "colab_type": "code",
        "colab": {
          "base_uri": "https://localhost:8080/",
          "height": 309
        },
        "outputId": "1187bd8f-97bc-4cf8-b1f1-40241d4b09fe"
      },
      "source": [
        "df3.plot(x = 'building_area', y = 'price', kind = 'scatter')"
      ],
      "execution_count": 109,
      "outputs": [
        {
          "output_type": "execute_result",
          "data": {
            "text/plain": [
              "<matplotlib.axes._subplots.AxesSubplot at 0x7f72f46accf8>"
            ]
          },
          "metadata": {
            "tags": []
          },
          "execution_count": 109
        },
        {
          "output_type": "display_data",
          "data": {
            "image/png": "[encoded data removed]",
            "text/plain": [
              "<Figure size 432x288 with 1 Axes>"
            ]
          },
          "metadata": {
            "tags": [],
            "needs_background": "light"
          }
        }
      ]
    },
    {
      "cell_type": "code",
      "metadata": {
        "id": "tw6fLz9DYv9w",
        "colab_type": "code",
        "colab": {}
      },
      "source": [
        "df3 = df3[df3['building_area'] <= 2000]"
      ],
      "execution_count": 0,
      "outputs": []
    },
    {
      "cell_type": "code",
      "metadata": {
        "id": "0AtelJg8YjqG",
        "colab_type": "code",
        "colab": {
          "base_uri": "https://localhost:8080/",
          "height": 309
        },
        "outputId": "99ef5780-3a0c-48d8-c01f-44bfdb348e87"
      },
      "source": [
        "df3.plot(x = 'building_area', y = 'price', kind = 'scatter')"
      ],
      "execution_count": 111,
      "outputs": [
        {
          "output_type": "execute_result",
          "data": {
            "text/plain": [
              "<matplotlib.axes._subplots.AxesSubplot at 0x7f72f45dc9e8>"
            ]
          },
          "metadata": {
            "tags": []
          },
          "execution_count": 111
        },
        {
          "output_type": "display_data",
          "data": {
            "image/png": "[encoded data removed]",
            "text/plain": [
              "<Figure size 432x288 with 1 Axes>"
            ]
          },
          "metadata": {
            "tags": [],
            "needs_background": "light"
          }
        }
      ]
    },
    {
      "cell_type": "code",
      "metadata": {
        "id": "RgE26NOqZFYZ",
        "colab_type": "code",
        "colab": {
          "base_uri": "https://localhost:8080/",
          "height": 35
        },
        "outputId": "90485a3f-bacc-4157-8966-96629bba76fd"
      },
      "source": [
        "from sklearn.linear_model import LinearRegression\n",
        "clf = LinearRegression()\n",
        "clf.fit(df3[['building_area']], df3['price'].values)"
      ],
      "execution_count": 114,
      "outputs": [
        {
          "output_type": "execute_result",
          "data": {
            "text/plain": [
              "LinearRegression(copy_X=True, fit_intercept=True, n_jobs=None, normalize=False)"
            ]
          },
          "metadata": {
            "tags": []
          },
          "execution_count": 114
        }
      ]
    },
    {
      "cell_type": "code",
      "metadata": {
        "id": "SuI-5o9qaDLP",
        "colab_type": "code",
        "colab": {}
      },
      "source": [
        "predicted = clf.predict(df3[['building_area']])"
      ],
      "execution_count": 0,
      "outputs": []
    },
    {
      "cell_type": "code",
      "metadata": {
        "id": "HXeYRUHYaOhk",
        "colab_type": "code",
        "colab": {
          "base_uri": "https://localhost:8080/",
          "height": 309
        },
        "outputId": "8d887aad-9dd5-4734-e7a1-1ecc836f0cd3"
      },
      "source": [
        "df3.plot(x = 'building_area', y = 'price', kind = 'scatter')\n",
        "plt.plot(df3['building_area'], predicted, color = 'r')"
      ],
      "execution_count": 122,
      "outputs": [
        {
          "output_type": "execute_result",
          "data": {
            "text/plain": [
              "[<matplotlib.lines.Line2D at 0x7f72e7ca0cf8>]"
            ]
          },
          "metadata": {
            "tags": []
          },
          "execution_count": 122
        },
        {
          "output_type": "display_data",
          "data": {
            "image/png": "[encoded data removed]",
            "text/plain": [
              "<Figure size 432x288 with 1 Axes>"
            ]
          },
          "metadata": {
            "tags": [],
            "needs_background": "light"
          }
        }
      ]
    },
    {
      "cell_type": "code",
      "metadata": {
        "id": "1-qiFTm6ab5g",
        "colab_type": "code",
        "colab": {
          "base_uri": "https://localhost:8080/",
          "height": 35
        },
        "outputId": "98f22577-1d1a-4cd5-eb10-fae128cf8d36"
      },
      "source": [
        "import numpy\n",
        "clf.predict(numpy.array([[20]]))"
      ],
      "execution_count": 124,
      "outputs": [
        {
          "output_type": "execute_result",
          "data": {
            "text/plain": [
              "array([33137.72521324])"
            ]
          },
          "metadata": {
            "tags": []
          },
          "execution_count": 124
        }
      ]
    },
    {
      "cell_type": "markdown",
      "metadata": {
        "id": "mVqA3is5qaEL",
        "colab_type": "text"
      },
      "source": [
        "## 迴歸分析"
      ]
    },
    {
      "cell_type": "code",
      "metadata": {
        "id": "31-3KeFba072",
        "colab_type": "code",
        "colab": {}
      },
      "source": [
        "import pandas\n",
        "df = pandas.read_csv('https://raw.githubusercontent.com/ywchiu/tibamepy/master/data/salary.csv', index_col = 0)\n"
      ],
      "execution_count": 0,
      "outputs": []
    },
    {
      "cell_type": "code",
      "metadata": {
        "id": "0b8MzPu5qifa",
        "colab_type": "code",
        "colab": {
          "base_uri": "https://localhost:8080/",
          "height": 202
        },
        "outputId": "00432593-2b45-46df-c74e-452cb22b6f20"
      },
      "source": [
        "df.head()"
      ],
      "execution_count": 127,
      "outputs": [
        {
          "output_type": "execute_result",
          "data": {
            "text/html": [
              "<div>\n",
              "<style scoped>\n",
              "    .dataframe tbody tr th:only-of-type {\n",
              "        vertical-align: middle;\n",
              "    }\n",
              "\n",
              "    .dataframe tbody tr th {\n",
              "        vertical-align: top;\n",
              "    }\n",
              "\n",
              "    .dataframe thead th {\n",
              "        text-align: right;\n",
              "    }\n",
              "</style>\n",
              "<table border=\"1\" class=\"dataframe\">\n",
              "  <thead>\n",
              "    <tr style=\"text-align: right;\">\n",
              "      <th></th>\n",
              "      <th>year</th>\n",
              "      <th>salary</th>\n",
              "    </tr>\n",
              "  </thead>\n",
              "  <tbody>\n",
              "    <tr>\n",
              "      <th>1</th>\n",
              "      <td>2.4</td>\n",
              "      <td>6600</td>\n",
              "    </tr>\n",
              "    <tr>\n",
              "      <th>2</th>\n",
              "      <td>5.5</td>\n",
              "      <td>10100</td>\n",
              "    </tr>\n",
              "    <tr>\n",
              "      <th>3</th>\n",
              "      <td>3.3</td>\n",
              "      <td>7300</td>\n",
              "    </tr>\n",
              "    <tr>\n",
              "      <th>4</th>\n",
              "      <td>0.2</td>\n",
              "      <td>5000</td>\n",
              "    </tr>\n",
              "    <tr>\n",
              "      <th>5</th>\n",
              "      <td>1.5</td>\n",
              "      <td>6100</td>\n",
              "    </tr>\n",
              "  </tbody>\n",
              "</table>\n",
              "</div>"
            ],
            "text/plain": [
              "   year  salary\n",
              "1   2.4    6600\n",
              "2   5.5   10100\n",
              "3   3.3    7300\n",
              "4   0.2    5000\n",
              "5   1.5    6100"
            ]
          },
          "metadata": {
            "tags": []
          },
          "execution_count": 127
        }
      ]
    },
    {
      "cell_type": "code",
      "metadata": {
        "id": "6lFjVXDmqjMp",
        "colab_type": "code",
        "colab": {}
      },
      "source": [
        "from matplotlib import pyplot as plt\n",
        "X = df[['year']]\n",
        "Y = df['salary'].values\n",
        "#Y"
      ],
      "execution_count": 0,
      "outputs": []
    },
    {
      "cell_type": "code",
      "metadata": {
        "id": "JcIeqNr6qz6q",
        "colab_type": "code",
        "colab": {
          "base_uri": "https://localhost:8080/",
          "height": 297
        },
        "outputId": "54dd66f9-d014-4cf1-c72a-df930908d9f3"
      },
      "source": [
        "plt.scatter(X,Y)\n",
        "plt.xlabel('year')\n",
        "plt.ylabel('salary')"
      ],
      "execution_count": 133,
      "outputs": [
        {
          "output_type": "execute_result",
          "data": {
            "text/plain": [
              "Text(0, 0.5, 'salary')"
            ]
          },
          "metadata": {
            "tags": []
          },
          "execution_count": 133
        },
        {
          "output_type": "display_data",
          "data": {
            "image/png": "[encoded data removed]",
            "text/plain": [
              "<Figure size 432x288 with 1 Axes>"
            ]
          },
          "metadata": {
            "tags": [],
            "needs_background": "light"
          }
        }
      ]
    },
    {
      "cell_type": "code",
      "metadata": {
        "id": "MxlkUYp9q6nL",
        "colab_type": "code",
        "colab": {}
      },
      "source": [
        "from sklearn.linear_model import LinearRegression\n",
        "clf = LinearRegression()"
      ],
      "execution_count": 0,
      "outputs": []
    },
    {
      "cell_type": "code",
      "metadata": {
        "id": "N1ZCzCpLrqmv",
        "colab_type": "code",
        "colab": {
          "base_uri": "https://localhost:8080/",
          "height": 35
        },
        "outputId": "9fcf2d9e-98d9-4952-df24-99ba544fb946"
      },
      "source": [
        "clf.fit(X, Y)"
      ],
      "execution_count": 136,
      "outputs": [
        {
          "output_type": "execute_result",
          "data": {
            "text/plain": [
              "LinearRegression(copy_X=True, fit_intercept=True, n_jobs=None, normalize=False)"
            ]
          },
          "metadata": {
            "tags": []
          },
          "execution_count": 136
        }
      ]
    },
    {
      "cell_type": "code",
      "metadata": {
        "id": "RViCNsVIruKd",
        "colab_type": "code",
        "colab": {
          "base_uri": "https://localhost:8080/",
          "height": 35
        },
        "outputId": "17a97620-401f-4170-d43f-bf5d42141e74"
      },
      "source": [
        "# salary = year * 712 + 5049\n",
        "clf.coef_"
      ],
      "execution_count": 137,
      "outputs": [
        {
          "output_type": "execute_result",
          "data": {
            "text/plain": [
              "array([712.59413615])"
            ]
          },
          "metadata": {
            "tags": []
          },
          "execution_count": 137
        }
      ]
    },
    {
      "cell_type": "code",
      "metadata": {
        "id": "WzeHByWCr4Hd",
        "colab_type": "code",
        "colab": {
          "base_uri": "https://localhost:8080/",
          "height": 35
        },
        "outputId": "f75d92ac-3322-462c-8c1b-371dfc53e65b"
      },
      "source": [
        "clf.intercept_"
      ],
      "execution_count": 138,
      "outputs": [
        {
          "output_type": "execute_result",
          "data": {
            "text/plain": [
              "5049.0098998138365"
            ]
          },
          "metadata": {
            "tags": []
          },
          "execution_count": 138
        }
      ]
    },
    {
      "cell_type": "code",
      "metadata": {
        "id": "NwLQ3UHLr8bN",
        "colab_type": "code",
        "colab": {
          "base_uri": "https://localhost:8080/",
          "height": 35
        },
        "outputId": "57777ba8-f0a3-453d-d1f4-7481e4980e79"
      },
      "source": [
        "5 * 712 + 5049"
      ],
      "execution_count": 139,
      "outputs": [
        {
          "output_type": "execute_result",
          "data": {
            "text/plain": [
              "8609"
            ]
          },
          "metadata": {
            "tags": []
          },
          "execution_count": 139
        }
      ]
    },
    {
      "cell_type": "code",
      "metadata": {
        "id": "yO7Jj-lDsEht",
        "colab_type": "code",
        "colab": {
          "base_uri": "https://localhost:8080/",
          "height": 35
        },
        "outputId": "88443822-ea98-48a1-f003-18b0585dc95f"
      },
      "source": [
        "import numpy as np\n",
        "clf.predict(np.array([ [5],[10] ]))"
      ],
      "execution_count": 141,
      "outputs": [
        {
          "output_type": "execute_result",
          "data": {
            "text/plain": [
              "array([ 8611.98058054, 12174.95126127])"
            ]
          },
          "metadata": {
            "tags": []
          },
          "execution_count": 141
        }
      ]
    },
    {
      "cell_type": "code",
      "metadata": {
        "id": "bT34I-w0sPZ-",
        "colab_type": "code",
        "colab": {
          "base_uri": "https://localhost:8080/",
          "height": 52
        },
        "outputId": "28e09007-2f1a-4efd-d3b7-6f3940f8c60f"
      },
      "source": [
        "print('Coefficients:', clf.coef_)\n",
        "print('Intercept:', clf.intercept_)"
      ],
      "execution_count": 143,
      "outputs": [
        {
          "output_type": "stream",
          "text": [
            "Coefficients: [712.59413615]\n",
            "Intercept: 5049.0098998138365\n"
          ],
          "name": "stdout"
        }
      ]
    },
    {
      "cell_type": "code",
      "metadata": {
        "id": "ZfpwzbmVsdKv",
        "colab_type": "code",
        "colab": {
          "base_uri": "https://localhost:8080/",
          "height": 265
        },
        "outputId": "51ba57a1-57b1-4ef3-cd98-98eca7f494e3"
      },
      "source": [
        "plt.scatter(X, Y, color='black')\n",
        "plt.plot(X, clf.predict(X), color='blue', linewidth=3)\n",
        "plt.show()"
      ],
      "execution_count": 144,
      "outputs": [
        {
          "output_type": "display_data",
          "data": {
            "image/png": "[encoded data removed]",
            "text/plain": [
              "<Figure size 432x288 with 1 Axes>"
            ]
          },
          "metadata": {
            "tags": [],
            "needs_background": "light"
          }
        }
      ]
    },
    {
      "cell_type": "code",
      "metadata": {
        "id": "qNrzakLpso6_",
        "colab_type": "code",
        "colab": {}
      },
      "source": [
        "# y = ax ^ 2 + bx + c\n",
        "from sklearn.preprocessing import PolynomialFeatures\n",
        "from sklearn.linear_model import LinearRegression\n",
        "poly_reg = PolynomialFeatures(degree=2)\n",
        "X_ = poly_reg.fit_transform(X)\n"
      ],
      "execution_count": 0,
      "outputs": []
    },
    {
      "cell_type": "code",
      "metadata": {
        "id": "VGOcRCwxvAqk",
        "colab_type": "code",
        "colab": {
          "base_uri": "https://localhost:8080/",
          "height": 202
        },
        "outputId": "fa035c10-3a5a-468e-d035-bf6d7aa1b4b5"
      },
      "source": [
        "X.head()"
      ],
      "execution_count": 147,
      "outputs": [
        {
          "output_type": "execute_result",
          "data": {
            "text/html": [
              "<div>\n",
              "<style scoped>\n",
              "    .dataframe tbody tr th:only-of-type {\n",
              "        vertical-align: middle;\n",
              "    }\n",
              "\n",
              "    .dataframe tbody tr th {\n",
              "        vertical-align: top;\n",
              "    }\n",
              "\n",
              "    .dataframe thead th {\n",
              "        text-align: right;\n",
              "    }\n",
              "</style>\n",
              "<table border=\"1\" class=\"dataframe\">\n",
              "  <thead>\n",
              "    <tr style=\"text-align: right;\">\n",
              "      <th></th>\n",
              "      <th>year</th>\n",
              "    </tr>\n",
              "  </thead>\n",
              "  <tbody>\n",
              "    <tr>\n",
              "      <th>1</th>\n",
              "      <td>2.4</td>\n",
              "    </tr>\n",
              "    <tr>\n",
              "      <th>2</th>\n",
              "      <td>5.5</td>\n",
              "    </tr>\n",
              "    <tr>\n",
              "      <th>3</th>\n",
              "      <td>3.3</td>\n",
              "    </tr>\n",
              "    <tr>\n",
              "      <th>4</th>\n",
              "      <td>0.2</td>\n",
              "    </tr>\n",
              "    <tr>\n",
              "      <th>5</th>\n",
              "      <td>1.5</td>\n",
              "    </tr>\n",
              "  </tbody>\n",
              "</table>\n",
              "</div>"
            ],
            "text/plain": [
              "   year\n",
              "1   2.4\n",
              "2   5.5\n",
              "3   3.3\n",
              "4   0.2\n",
              "5   1.5"
            ]
          },
          "metadata": {
            "tags": []
          },
          "execution_count": 147
        }
      ]
    },
    {
      "cell_type": "code",
      "metadata": {
        "id": "009sdlPxvBmE",
        "colab_type": "code",
        "colab": {
          "base_uri": "https://localhost:8080/",
          "height": 69
        },
        "outputId": "3feb51b7-5b09-4fd8-a53c-744512e17dea"
      },
      "source": [
        "X_[0:3,:]"
      ],
      "execution_count": 149,
      "outputs": [
        {
          "output_type": "execute_result",
          "data": {
            "text/plain": [
              "array([[ 1.  ,  2.4 ,  5.76],\n",
              "       [ 1.  ,  5.5 , 30.25],\n",
              "       [ 1.  ,  3.3 , 10.89]])"
            ]
          },
          "metadata": {
            "tags": []
          },
          "execution_count": 149
        }
      ]
    },
    {
      "cell_type": "code",
      "metadata": {
        "id": "Nuph5tT0vHBp",
        "colab_type": "code",
        "colab": {
          "base_uri": "https://localhost:8080/",
          "height": 35
        },
        "outputId": "67afb843-4959-422f-d2a6-85e441f38933"
      },
      "source": [
        "regr = LinearRegression()\n",
        "regr.fit(X_, Y)"
      ],
      "execution_count": 150,
      "outputs": [
        {
          "output_type": "execute_result",
          "data": {
            "text/plain": [
              "LinearRegression(copy_X=True, fit_intercept=True, n_jobs=None, normalize=False)"
            ]
          },
          "metadata": {
            "tags": []
          },
          "execution_count": 150
        }
      ]
    },
    {
      "cell_type": "code",
      "metadata": {
        "id": "69qmYXupvK_0",
        "colab_type": "code",
        "colab": {
          "base_uri": "https://localhost:8080/",
          "height": 265
        },
        "outputId": "ca3fc0d4-f951-42d5-f998-52b178e0dd0c"
      },
      "source": [
        "plt.scatter(X, Y, color='black')\n",
        "poly = PolynomialFeatures(degree=2)\n",
        "X2 = X.sort_values(['year'])\n",
        "X2_ = poly.fit_transform(X2)\n",
        "plt.plot(X2, regr.predict(X2_), linewidth = 3, color=\"blue\")\n",
        "plt.show()"
      ],
      "execution_count": 154,
      "outputs": [
        {
          "output_type": "display_data",
          "data": {
            "image/png": "[encoded data removed]",
            "text/plain": [
              "<Figure size 432x288 with 1 Axes>"
            ]
          },
          "metadata": {
            "tags": [],
            "needs_background": "light"
          }
        }
      ]
    },
    {
      "cell_type": "code",
      "metadata": {
        "id": "7L_f02jdvdml",
        "colab_type": "code",
        "colab": {
          "base_uri": "https://localhost:8080/",
          "height": 141
        },
        "outputId": "3567afba-c154-4981-dc5a-8e089462ce7e"
      },
      "source": [
        "import pandas\n",
        "df = pandas.read_csv('https://raw.githubusercontent.com/ywchiu/tibamepy/master/data/house-prices.csv')\n",
        "df.head(3)"
      ],
      "execution_count": 175,
      "outputs": [
        {
          "output_type": "execute_result",
          "data": {
            "text/html": [
              "<div>\n",
              "<style scoped>\n",
              "    .dataframe tbody tr th:only-of-type {\n",
              "        vertical-align: middle;\n",
              "    }\n",
              "\n",
              "    .dataframe tbody tr th {\n",
              "        vertical-align: top;\n",
              "    }\n",
              "\n",
              "    .dataframe thead th {\n",
              "        text-align: right;\n",
              "    }\n",
              "</style>\n",
              "<table border=\"1\" class=\"dataframe\">\n",
              "  <thead>\n",
              "    <tr style=\"text-align: right;\">\n",
              "      <th></th>\n",
              "      <th>Home</th>\n",
              "      <th>Price</th>\n",
              "      <th>SqFt</th>\n",
              "      <th>Bedrooms</th>\n",
              "      <th>Bathrooms</th>\n",
              "      <th>Offers</th>\n",
              "      <th>Brick</th>\n",
              "      <th>Neighborhood</th>\n",
              "    </tr>\n",
              "  </thead>\n",
              "  <tbody>\n",
              "    <tr>\n",
              "      <th>0</th>\n",
              "      <td>1</td>\n",
              "      <td>114300</td>\n",
              "      <td>1790</td>\n",
              "      <td>2</td>\n",
              "      <td>2</td>\n",
              "      <td>2</td>\n",
              "      <td>No</td>\n",
              "      <td>East</td>\n",
              "    </tr>\n",
              "    <tr>\n",
              "      <th>1</th>\n",
              "      <td>2</td>\n",
              "      <td>114200</td>\n",
              "      <td>2030</td>\n",
              "      <td>4</td>\n",
              "      <td>2</td>\n",
              "      <td>3</td>\n",
              "      <td>No</td>\n",
              "      <td>East</td>\n",
              "    </tr>\n",
              "    <tr>\n",
              "      <th>2</th>\n",
              "      <td>3</td>\n",
              "      <td>114800</td>\n",
              "      <td>1740</td>\n",
              "      <td>3</td>\n",
              "      <td>2</td>\n",
              "      <td>1</td>\n",
              "      <td>No</td>\n",
              "      <td>East</td>\n",
              "    </tr>\n",
              "  </tbody>\n",
              "</table>\n",
              "</div>"
            ],
            "text/plain": [
              "   Home   Price  SqFt  Bedrooms  Bathrooms  Offers Brick Neighborhood\n",
              "0     1  114300  1790         2          2       2    No         East\n",
              "1     2  114200  2030         4          2       3    No         East\n",
              "2     3  114800  1740         3          2       1    No         East"
            ]
          },
          "metadata": {
            "tags": []
          },
          "execution_count": 175
        }
      ]
    },
    {
      "cell_type": "code",
      "metadata": {
        "id": "VQMsvsO8x6KL",
        "colab_type": "code",
        "colab": {
          "base_uri": "https://localhost:8080/",
          "height": 277
        },
        "outputId": "ede5e1c4-1434-4c03-bba5-9ffe50355423"
      },
      "source": [
        "df.info()"
      ],
      "execution_count": 176,
      "outputs": [
        {
          "output_type": "stream",
          "text": [
            "<class 'pandas.core.frame.DataFrame'>\n",
            "RangeIndex: 128 entries, 0 to 127\n",
            "Data columns (total 8 columns):\n",
            " #   Column        Non-Null Count  Dtype \n",
            "---  ------        --------------  ----- \n",
            " 0   Home          128 non-null    int64 \n",
            " 1   Price         128 non-null    int64 \n",
            " 2   SqFt          128 non-null    int64 \n",
            " 3   Bedrooms      128 non-null    int64 \n",
            " 4   Bathrooms     128 non-null    int64 \n",
            " 5   Offers        128 non-null    int64 \n",
            " 6   Brick         128 non-null    object\n",
            " 7   Neighborhood  128 non-null    object\n",
            "dtypes: int64(6), object(2)\n",
            "memory usage: 8.1+ KB\n"
          ],
          "name": "stdout"
        }
      ]
    },
    {
      "cell_type": "code",
      "metadata": {
        "id": "S0_3bYHJyMC8",
        "colab_type": "code",
        "colab": {
          "base_uri": "https://localhost:8080/",
          "height": 35
        },
        "outputId": "faa1a666-5750-4d0b-befd-f6df8f819661"
      },
      "source": [
        "df['Neighborhood'].unique()"
      ],
      "execution_count": 177,
      "outputs": [
        {
          "output_type": "execute_result",
          "data": {
            "text/plain": [
              "array(['East', 'North', 'West'], dtype=object)"
            ]
          },
          "metadata": {
            "tags": []
          },
          "execution_count": 177
        }
      ]
    },
    {
      "cell_type": "code",
      "metadata": {
        "id": "BTqR-WgMyTdr",
        "colab_type": "code",
        "colab": {
          "base_uri": "https://localhost:8080/",
          "height": 35
        },
        "outputId": "aa7bbc5d-6390-4158-8398-ea37fc43a179"
      },
      "source": [
        "df['Brick'].unique()"
      ],
      "execution_count": 178,
      "outputs": [
        {
          "output_type": "execute_result",
          "data": {
            "text/plain": [
              "array(['No', 'Yes'], dtype=object)"
            ]
          },
          "metadata": {
            "tags": []
          },
          "execution_count": 178
        }
      ]
    },
    {
      "cell_type": "code",
      "metadata": {
        "id": "lh4qcd8VydLt",
        "colab_type": "code",
        "colab": {}
      },
      "source": [
        "brick = pandas.get_dummies(df['Brick'])\n",
        "del brick['No']"
      ],
      "execution_count": 0,
      "outputs": []
    },
    {
      "cell_type": "code",
      "metadata": {
        "id": "Z3a6vVACzBT_",
        "colab_type": "code",
        "colab": {
          "base_uri": "https://localhost:8080/",
          "height": 202
        },
        "outputId": "8e65201e-705b-444b-e745-72525820247f"
      },
      "source": [
        "brick.head()"
      ],
      "execution_count": 180,
      "outputs": [
        {
          "output_type": "execute_result",
          "data": {
            "text/html": [
              "<div>\n",
              "<style scoped>\n",
              "    .dataframe tbody tr th:only-of-type {\n",
              "        vertical-align: middle;\n",
              "    }\n",
              "\n",
              "    .dataframe tbody tr th {\n",
              "        vertical-align: top;\n",
              "    }\n",
              "\n",
              "    .dataframe thead th {\n",
              "        text-align: right;\n",
              "    }\n",
              "</style>\n",
              "<table border=\"1\" class=\"dataframe\">\n",
              "  <thead>\n",
              "    <tr style=\"text-align: right;\">\n",
              "      <th></th>\n",
              "      <th>Yes</th>\n",
              "    </tr>\n",
              "  </thead>\n",
              "  <tbody>\n",
              "    <tr>\n",
              "      <th>0</th>\n",
              "      <td>0</td>\n",
              "    </tr>\n",
              "    <tr>\n",
              "      <th>1</th>\n",
              "      <td>0</td>\n",
              "    </tr>\n",
              "    <tr>\n",
              "      <th>2</th>\n",
              "      <td>0</td>\n",
              "    </tr>\n",
              "    <tr>\n",
              "      <th>3</th>\n",
              "      <td>0</td>\n",
              "    </tr>\n",
              "    <tr>\n",
              "      <th>4</th>\n",
              "      <td>0</td>\n",
              "    </tr>\n",
              "  </tbody>\n",
              "</table>\n",
              "</div>"
            ],
            "text/plain": [
              "   Yes\n",
              "0    0\n",
              "1    0\n",
              "2    0\n",
              "3    0\n",
              "4    0"
            ]
          },
          "metadata": {
            "tags": []
          },
          "execution_count": 180
        }
      ]
    },
    {
      "cell_type": "code",
      "metadata": {
        "id": "OsQJrR5e1TNR",
        "colab_type": "code",
        "colab": {
          "base_uri": "https://localhost:8080/",
          "height": 121
        },
        "outputId": "6ab7ae31-8f8f-41c0-cffa-1b79ab9febd4"
      },
      "source": [
        "df['Neighborhood'].head()"
      ],
      "execution_count": 182,
      "outputs": [
        {
          "output_type": "execute_result",
          "data": {
            "text/plain": [
              "0    East\n",
              "1    East\n",
              "2    East\n",
              "3    East\n",
              "4    East\n",
              "Name: Neighborhood, dtype: object"
            ]
          },
          "metadata": {
            "tags": []
          },
          "execution_count": 182
        }
      ]
    },
    {
      "cell_type": "code",
      "metadata": {
        "id": "AcqZiZPXzG8d",
        "colab_type": "code",
        "colab": {
          "base_uri": "https://localhost:8080/",
          "height": 202
        },
        "outputId": "a309e9f8-2b8e-4bf3-dd1a-1aa58ae6be33"
      },
      "source": [
        "neighborhood = pandas.get_dummies(df['Neighborhood'])\n",
        "neighborhood.head()"
      ],
      "execution_count": 181,
      "outputs": [
        {
          "output_type": "execute_result",
          "data": {
            "text/html": [
              "<div>\n",
              "<style scoped>\n",
              "    .dataframe tbody tr th:only-of-type {\n",
              "        vertical-align: middle;\n",
              "    }\n",
              "\n",
              "    .dataframe tbody tr th {\n",
              "        vertical-align: top;\n",
              "    }\n",
              "\n",
              "    .dataframe thead th {\n",
              "        text-align: right;\n",
              "    }\n",
              "</style>\n",
              "<table border=\"1\" class=\"dataframe\">\n",
              "  <thead>\n",
              "    <tr style=\"text-align: right;\">\n",
              "      <th></th>\n",
              "      <th>East</th>\n",
              "      <th>North</th>\n",
              "      <th>West</th>\n",
              "    </tr>\n",
              "  </thead>\n",
              "  <tbody>\n",
              "    <tr>\n",
              "      <th>0</th>\n",
              "      <td>1</td>\n",
              "      <td>0</td>\n",
              "      <td>0</td>\n",
              "    </tr>\n",
              "    <tr>\n",
              "      <th>1</th>\n",
              "      <td>1</td>\n",
              "      <td>0</td>\n",
              "      <td>0</td>\n",
              "    </tr>\n",
              "    <tr>\n",
              "      <th>2</th>\n",
              "      <td>1</td>\n",
              "      <td>0</td>\n",
              "      <td>0</td>\n",
              "    </tr>\n",
              "    <tr>\n",
              "      <th>3</th>\n",
              "      <td>1</td>\n",
              "      <td>0</td>\n",
              "      <td>0</td>\n",
              "    </tr>\n",
              "    <tr>\n",
              "      <th>4</th>\n",
              "      <td>1</td>\n",
              "      <td>0</td>\n",
              "      <td>0</td>\n",
              "    </tr>\n",
              "  </tbody>\n",
              "</table>\n",
              "</div>"
            ],
            "text/plain": [
              "   East  North  West\n",
              "0     1      0     0\n",
              "1     1      0     0\n",
              "2     1      0     0\n",
              "3     1      0     0\n",
              "4     1      0     0"
            ]
          },
          "metadata": {
            "tags": []
          },
          "execution_count": 181
        }
      ]
    },
    {
      "cell_type": "code",
      "metadata": {
        "id": "NT0CYEIf1OV9",
        "colab_type": "code",
        "colab": {}
      },
      "source": [
        "del neighborhood['West']\n",
        "neighborhood.head()"
      ],
      "execution_count": 0,
      "outputs": []
    },
    {
      "cell_type": "code",
      "metadata": {
        "id": "PXo2BiEpzMEd",
        "colab_type": "code",
        "colab": {}
      },
      "source": [
        "house = pandas.concat([df,brick,neighborhood], axis = 1)\n",
        "del house['Brick']\n",
        "del house['Neighborhood']"
      ],
      "execution_count": 0,
      "outputs": []
    },
    {
      "cell_type": "code",
      "metadata": {
        "id": "HEH2pG-AzZ1N",
        "colab_type": "code",
        "colab": {
          "base_uri": "https://localhost:8080/",
          "height": 202
        },
        "outputId": "e181c00b-6fa6-4c9b-87d4-3368ab7bb856"
      },
      "source": [
        "house.head()"
      ],
      "execution_count": 168,
      "outputs": [
        {
          "output_type": "execute_result",
          "data": {
            "text/html": [
              "<div>\n",
              "<style scoped>\n",
              "    .dataframe tbody tr th:only-of-type {\n",
              "        vertical-align: middle;\n",
              "    }\n",
              "\n",
              "    .dataframe tbody tr th {\n",
              "        vertical-align: top;\n",
              "    }\n",
              "\n",
              "    .dataframe thead th {\n",
              "        text-align: right;\n",
              "    }\n",
              "</style>\n",
              "<table border=\"1\" class=\"dataframe\">\n",
              "  <thead>\n",
              "    <tr style=\"text-align: right;\">\n",
              "      <th></th>\n",
              "      <th>Home</th>\n",
              "      <th>Price</th>\n",
              "      <th>SqFt</th>\n",
              "      <th>Bedrooms</th>\n",
              "      <th>Bathrooms</th>\n",
              "      <th>Offers</th>\n",
              "      <th>Yes</th>\n",
              "      <th>East</th>\n",
              "      <th>North</th>\n",
              "    </tr>\n",
              "  </thead>\n",
              "  <tbody>\n",
              "    <tr>\n",
              "      <th>0</th>\n",
              "      <td>1</td>\n",
              "      <td>114300</td>\n",
              "      <td>1790</td>\n",
              "      <td>2</td>\n",
              "      <td>2</td>\n",
              "      <td>2</td>\n",
              "      <td>0</td>\n",
              "      <td>1</td>\n",
              "      <td>0</td>\n",
              "    </tr>\n",
              "    <tr>\n",
              "      <th>1</th>\n",
              "      <td>2</td>\n",
              "      <td>114200</td>\n",
              "      <td>2030</td>\n",
              "      <td>4</td>\n",
              "      <td>2</td>\n",
              "      <td>3</td>\n",
              "      <td>0</td>\n",
              "      <td>1</td>\n",
              "      <td>0</td>\n",
              "    </tr>\n",
              "    <tr>\n",
              "      <th>2</th>\n",
              "      <td>3</td>\n",
              "      <td>114800</td>\n",
              "      <td>1740</td>\n",
              "      <td>3</td>\n",
              "      <td>2</td>\n",
              "      <td>1</td>\n",
              "      <td>0</td>\n",
              "      <td>1</td>\n",
              "      <td>0</td>\n",
              "    </tr>\n",
              "    <tr>\n",
              "      <th>3</th>\n",
              "      <td>4</td>\n",
              "      <td>94700</td>\n",
              "      <td>1980</td>\n",
              "      <td>3</td>\n",
              "      <td>2</td>\n",
              "      <td>3</td>\n",
              "      <td>0</td>\n",
              "      <td>1</td>\n",
              "      <td>0</td>\n",
              "    </tr>\n",
              "    <tr>\n",
              "      <th>4</th>\n",
              "      <td>5</td>\n",
              "      <td>119800</td>\n",
              "      <td>2130</td>\n",
              "      <td>3</td>\n",
              "      <td>3</td>\n",
              "      <td>3</td>\n",
              "      <td>0</td>\n",
              "      <td>1</td>\n",
              "      <td>0</td>\n",
              "    </tr>\n",
              "  </tbody>\n",
              "</table>\n",
              "</div>"
            ],
            "text/plain": [
              "   Home   Price  SqFt  Bedrooms  Bathrooms  Offers  Yes  East  North\n",
              "0     1  114300  1790         2          2       2    0     1      0\n",
              "1     2  114200  2030         4          2       3    0     1      0\n",
              "2     3  114800  1740         3          2       1    0     1      0\n",
              "3     4   94700  1980         3          2       3    0     1      0\n",
              "4     5  119800  2130         3          3       3    0     1      0"
            ]
          },
          "metadata": {
            "tags": []
          },
          "execution_count": 168
        }
      ]
    },
    {
      "cell_type": "code",
      "metadata": {
        "id": "MT1Xvos4ziwu",
        "colab_type": "code",
        "colab": {
          "base_uri": "https://localhost:8080/",
          "height": 52
        },
        "outputId": "b02a85bb-56e3-466c-81d6-fe41cb854e57"
      },
      "source": [
        "from sklearn.linear_model import LinearRegression\n",
        "regr = LinearRegression()\n",
        "X = house[['SqFt', 'Bedrooms', 'Bathrooms', 'Offers', 'Yes','East','North']]\n",
        "Y = house['Price'].values\n",
        "regr.fit(X,Y)\n",
        "regr.predict(X.head())"
      ],
      "execution_count": 170,
      "outputs": [
        {
          "output_type": "execute_result",
          "data": {
            "text/plain": [
              "array([103182.88325028, 116127.48050967, 113047.47841973, 109230.99957752,\n",
              "       125063.33919194])"
            ]
          },
          "metadata": {
            "tags": []
          },
          "execution_count": 170
        }
      ]
    },
    {
      "cell_type": "code",
      "metadata": {
        "id": "IqvARU5C0NM0",
        "colab_type": "code",
        "colab": {
          "base_uri": "https://localhost:8080/",
          "height": 69
        },
        "outputId": "1d96b47c-d177-4d2a-d9bd-d37b91f57911"
      },
      "source": [
        "house['Yes'].value_counts()"
      ],
      "execution_count": 172,
      "outputs": [
        {
          "output_type": "execute_result",
          "data": {
            "text/plain": [
              "0    86\n",
              "1    42\n",
              "Name: Yes, dtype: int64"
            ]
          },
          "metadata": {
            "tags": []
          },
          "execution_count": 172
        }
      ]
    },
    {
      "cell_type": "code",
      "metadata": {
        "id": "CCLVDkF90qWR",
        "colab_type": "code",
        "colab": {
          "base_uri": "https://localhost:8080/",
          "height": 52
        },
        "outputId": "d5ac4b31-651e-4ea1-87f1-e3fb5634f933"
      },
      "source": [
        "regr.coef_"
      ],
      "execution_count": 183,
      "outputs": [
        {
          "output_type": "execute_result",
          "data": {
            "text/plain": [
              "array([    52.99374081,   4246.79389165,   7883.27849293,  -8267.48831831,\n",
              "        17297.34952752, -22241.61647014, -20681.03735068])"
            ]
          },
          "metadata": {
            "tags": []
          },
          "execution_count": 183
        }
      ]
    },
    {
      "cell_type": "code",
      "metadata": {
        "id": "UJAY7tZoIL50",
        "colab_type": "code",
        "colab": {}
      },
      "source": [
        "predicted = regr.predict(X)"
      ],
      "execution_count": 0,
      "outputs": []
    },
    {
      "cell_type": "code",
      "metadata": {
        "id": "sB2zQGW1IQ0b",
        "colab_type": "code",
        "colab": {
          "base_uri": "https://localhost:8080/",
          "height": 35
        },
        "outputId": "43b52492-7d2b-4de6-cdd9-47b07753f0fd"
      },
      "source": [
        "((predicted - Y) ** 2).sum() / len(predicted)"
      ],
      "execution_count": 191,
      "outputs": [
        {
          "output_type": "execute_result",
          "data": {
            "text/plain": [
              "94105539.9460302"
            ]
          },
          "metadata": {
            "tags": []
          },
          "execution_count": 191
        }
      ]
    },
    {
      "cell_type": "code",
      "metadata": {
        "id": "KyIWmrj81EPB",
        "colab_type": "code",
        "colab": {
          "base_uri": "https://localhost:8080/",
          "height": 679
        },
        "outputId": "80bce9f6-41d4-4027-daf2-7e6461355942"
      },
      "source": [
        "import statsmodels.api as sm\n",
        "X2 = sm.add_constant(X)\n",
        "est = sm.OLS(Y, X2)\n",
        "est2 = est.fit()\n",
        "print(est2.summary())"
      ],
      "execution_count": 184,
      "outputs": [
        {
          "output_type": "stream",
          "text": [
            "/usr/local/lib/python3.6/dist-packages/statsmodels/tools/_testing.py:19: FutureWarning:\n",
            "\n",
            "pandas.util.testing is deprecated. Use the functions in the public API at pandas.testing instead.\n",
            "\n"
          ],
          "name": "stderr"
        },
        {
          "output_type": "stream",
          "text": [
            "                            OLS Regression Results                            \n",
            "==============================================================================\n",
            "Dep. Variable:                      y   R-squared:                       0.869\n",
            "Model:                            OLS   Adj. R-squared:                  0.861\n",
            "Method:                 Least Squares   F-statistic:                     113.3\n",
            "Date:                Sat, 23 May 2020   Prob (F-statistic):           8.25e-50\n",
            "Time:                        05:52:14   Log-Likelihood:                -1356.7\n",
            "No. Observations:                 128   AIC:                             2729.\n",
            "Df Residuals:                     120   BIC:                             2752.\n",
            "Df Model:                           7                                         \n",
            "Covariance Type:            nonrobust                                         \n",
            "==============================================================================\n",
            "                 coef    std err          t      P>|t|      [0.025      0.975]\n",
            "------------------------------------------------------------------------------\n",
            "const       2.284e+04   1.02e+04      2.231      0.028    2573.371    4.31e+04\n",
            "SqFt          52.9937      5.734      9.242      0.000      41.640      64.347\n",
            "Bedrooms    4246.7939   1597.911      2.658      0.009    1083.042    7410.546\n",
            "Bathrooms   7883.2785   2117.035      3.724      0.000    3691.696    1.21e+04\n",
            "Offers     -8267.4883   1084.777     -7.621      0.000   -1.04e+04   -6119.706\n",
            "Yes          1.73e+04   1981.616      8.729      0.000    1.34e+04    2.12e+04\n",
            "East       -2.224e+04   2531.758     -8.785      0.000   -2.73e+04   -1.72e+04\n",
            "North      -2.068e+04   3148.954     -6.568      0.000   -2.69e+04   -1.44e+04\n",
            "==============================================================================\n",
            "Omnibus:                        3.026   Durbin-Watson:                   1.921\n",
            "Prob(Omnibus):                  0.220   Jarque-Bera (JB):                2.483\n",
            "Skew:                           0.268   Prob(JB):                        0.289\n",
            "Kurtosis:                       3.421   Cond. No.                     2.38e+04\n",
            "==============================================================================\n",
            "\n",
            "Warnings:\n",
            "[1] Standard Errors assume that the covariance matrix of the errors is correctly specified.\n",
            "[2] The condition number is large, 2.38e+04. This might indicate that there are\n",
            "strong multicollinearity or other numerical problems.\n"
          ],
          "name": "stdout"
        }
      ]
    },
    {
      "cell_type": "code",
      "metadata": {
        "id": "GhRTlZO2FsZO",
        "colab_type": "code",
        "colab": {}
      },
      "source": [
        "predictorcols = list(X.columns)"
      ],
      "execution_count": 0,
      "outputs": []
    },
    {
      "cell_type": "code",
      "metadata": {
        "id": "tJQ30JoAK5d3",
        "colab_type": "code",
        "colab": {}
      },
      "source": [
        "import itertools\n",
        "#list(itertools.combinations(predictorcols,3))"
      ],
      "execution_count": 0,
      "outputs": []
    },
    {
      "cell_type": "code",
      "metadata": {
        "id": "IPSjJRfnLOuI",
        "colab_type": "code",
        "colab": {
          "base_uri": "https://localhost:8080/",
          "height": 35
        },
        "outputId": "d8cf2f81-0d4c-45e2-81f7-8295272d765f"
      },
      "source": [
        "len(predictorcols)"
      ],
      "execution_count": 202,
      "outputs": [
        {
          "output_type": "execute_result",
          "data": {
            "text/plain": [
              "7"
            ]
          },
          "metadata": {
            "tags": []
          },
          "execution_count": 202
        }
      ]
    },
    {
      "cell_type": "code",
      "metadata": {
        "id": "Q0os6YAlLcpA",
        "colab_type": "code",
        "colab": {}
      },
      "source": [
        "AICs = {}\n",
        "for k in range(1, 7 + 1):\n",
        "  for variables in itertools.combinations(predictorcols,k):\n",
        "    #print(variables)\n",
        "    predictors = X[list(variables)]\n",
        "    predictors2 = sm.add_constant(predictors)\n",
        "    est = sm.OLS(Y, predictors2)\n",
        "    res = est.fit()\n",
        "    AICs[variables] = res.aic"
      ],
      "execution_count": 0,
      "outputs": []
    },
    {
      "cell_type": "code",
      "metadata": {
        "id": "rVXTFK55Lj3I",
        "colab_type": "code",
        "colab": {}
      },
      "source": [
        "from collections import Counter\n",
        "c = Counter(AICs)"
      ],
      "execution_count": 0,
      "outputs": []
    },
    {
      "cell_type": "code",
      "metadata": {
        "id": "-T3XvWwNMBop",
        "colab_type": "code",
        "colab": {
          "base_uri": "https://localhost:8080/",
          "height": 225
        },
        "outputId": "766dd1f8-5c67-424f-a367-937f3eed1ab7"
      },
      "source": [
        "c.most_common()[:-10:-1]"
      ],
      "execution_count": 217,
      "outputs": [
        {
          "output_type": "execute_result",
          "data": {
            "text/plain": [
              "[(('SqFt', 'Bedrooms', 'Bathrooms', 'Offers', 'Yes', 'East', 'North'),\n",
              "  2729.318981401249),\n",
              " (('SqFt', 'Bathrooms', 'Offers', 'Yes', 'East', 'North'), 2734.639925628371),\n",
              " (('SqFt', 'Bedrooms', 'Offers', 'Yes', 'East', 'North'), 2741.3156609981506),\n",
              " (('SqFt', 'Offers', 'Yes', 'East', 'North'), 2748.8490492259953),\n",
              " (('SqFt', 'Bedrooms', 'Bathrooms', 'Offers', 'Yes', 'East'),\n",
              "  2766.624649944451),\n",
              " (('SqFt', 'Bathrooms', 'Yes', 'East', 'North'), 2776.9030655919946),\n",
              " (('SqFt', 'Bedrooms', 'Bathrooms', 'Yes', 'East', 'North'),\n",
              "  2777.849673430561),\n",
              " (('SqFt', 'Bedrooms', 'Offers', 'Yes', 'East'), 2779.7703894909137),\n",
              " (('SqFt', 'Bedrooms', 'Yes', 'East', 'North'), 2783.144374438954)]"
            ]
          },
          "metadata": {
            "tags": []
          },
          "execution_count": 217
        }
      ]
    },
    {
      "cell_type": "markdown",
      "metadata": {
        "id": "lP1XSOf0Mcjv",
        "colab_type": "text"
      },
      "source": [
        "## 使用591數據建立房價預測模型"
      ]
    },
    {
      "cell_type": "markdown",
      "metadata": {
        "id": "d0HeWoKQMylq",
        "colab_type": "text"
      },
      "source": [
        "### 資料讀取"
      ]
    },
    {
      "cell_type": "code",
      "metadata": {
        "id": "QSALjvzaMhGe",
        "colab_type": "code",
        "colab": {}
      },
      "source": [
        "house = pandas.read_csv('https://raw.githubusercontent.com/ywchiu/tibamepy/master/data/rent_591_sample.csv', index_col = 0)"
      ],
      "execution_count": 0,
      "outputs": []
    },
    {
      "cell_type": "code",
      "metadata": {
        "id": "BWtN7Ei1MtaK",
        "colab_type": "code",
        "colab": {
          "base_uri": "https://localhost:8080/",
          "height": 202
        },
        "outputId": "26cd406e-5d9b-46be-c840-67f47b1ab41e"
      },
      "source": [
        "house.head()"
      ],
      "execution_count": 221,
      "outputs": [
        {
          "output_type": "execute_result",
          "data": {
            "text/html": [
              "<div>\n",
              "<style scoped>\n",
              "    .dataframe tbody tr th:only-of-type {\n",
              "        vertical-align: middle;\n",
              "    }\n",
              "\n",
              "    .dataframe tbody tr th {\n",
              "        vertical-align: top;\n",
              "    }\n",
              "\n",
              "    .dataframe thead th {\n",
              "        text-align: right;\n",
              "    }\n",
              "</style>\n",
              "<table border=\"1\" class=\"dataframe\">\n",
              "  <thead>\n",
              "    <tr style=\"text-align: right;\">\n",
              "      <th></th>\n",
              "      <th>id</th>\n",
              "      <th>address</th>\n",
              "      <th>floor</th>\n",
              "      <th>allfloor</th>\n",
              "      <th>layout</th>\n",
              "      <th>area</th>\n",
              "      <th>price</th>\n",
              "      <th>browsenum_all</th>\n",
              "    </tr>\n",
              "  </thead>\n",
              "  <tbody>\n",
              "    <tr>\n",
              "      <th>0</th>\n",
              "      <td>6032971</td>\n",
              "      <td>永康街47巷永康街五樓頂加..</td>\n",
              "      <td>5</td>\n",
              "      <td>5</td>\n",
              "      <td>5房3廳3衛</td>\n",
              "      <td>46.8</td>\n",
              "      <td>60,000</td>\n",
              "      <td>751</td>\n",
              "    </tr>\n",
              "    <tr>\n",
              "      <th>1</th>\n",
              "      <td>6054083</td>\n",
              "      <td>仁愛路四段仁愛路樹海景觀..</td>\n",
              "      <td>7</td>\n",
              "      <td>12</td>\n",
              "      <td>4房2廳2衛</td>\n",
              "      <td>76.9</td>\n",
              "      <td>100,000</td>\n",
              "      <td>162</td>\n",
              "    </tr>\n",
              "    <tr>\n",
              "      <th>2</th>\n",
              "      <td>5957980</td>\n",
              "      <td>光復南路高樓層大巨蛋正對..</td>\n",
              "      <td>10</td>\n",
              "      <td>13</td>\n",
              "      <td>4房2廳2衛</td>\n",
              "      <td>71.3</td>\n",
              "      <td>150,000</td>\n",
              "      <td>2385</td>\n",
              "    </tr>\n",
              "    <tr>\n",
              "      <th>3</th>\n",
              "      <td>6043839</td>\n",
              "      <td>永康街23巷永康商圈..</td>\n",
              "      <td>3</td>\n",
              "      <td>4</td>\n",
              "      <td>2房1廳1衛</td>\n",
              "      <td>18.0</td>\n",
              "      <td>29,000</td>\n",
              "      <td>1323</td>\n",
              "    </tr>\n",
              "    <tr>\n",
              "      <th>4</th>\n",
              "      <td>5181793</td>\n",
              "      <td>雲和街師大*已收訂..</td>\n",
              "      <td>5</td>\n",
              "      <td>5</td>\n",
              "      <td>2房2廳1衛</td>\n",
              "      <td>28.0</td>\n",
              "      <td>31,800</td>\n",
              "      <td>2303</td>\n",
              "    </tr>\n",
              "  </tbody>\n",
              "</table>\n",
              "</div>"
            ],
            "text/plain": [
              "        id          address  floor  ...  area    price  browsenum_all\n",
              "0  6032971  永康街47巷永康街五樓頂加..      5  ...  46.8   60,000            751\n",
              "1  6054083   仁愛路四段仁愛路樹海景觀..      7  ...  76.9  100,000            162\n",
              "2  5957980   光復南路高樓層大巨蛋正對..     10  ...  71.3  150,000           2385\n",
              "3  6043839     永康街23巷永康商圈..      3  ...  18.0   29,000           1323\n",
              "4  5181793      雲和街師大*已收訂..      5  ...  28.0   31,800           2303\n",
              "\n",
              "[5 rows x 8 columns]"
            ]
          },
          "metadata": {
            "tags": []
          },
          "execution_count": 221
        }
      ]
    },
    {
      "cell_type": "code",
      "metadata": {
        "id": "gs4zEhU5Mwpa",
        "colab_type": "code",
        "colab": {
          "base_uri": "https://localhost:8080/",
          "height": 277
        },
        "outputId": "eb9403ee-8dd3-49da-f720-42f89ed8b61b"
      },
      "source": [
        "house.info()"
      ],
      "execution_count": 222,
      "outputs": [
        {
          "output_type": "stream",
          "text": [
            "<class 'pandas.core.frame.DataFrame'>\n",
            "Int64Index: 720 entries, 0 to 29\n",
            "Data columns (total 8 columns):\n",
            " #   Column         Non-Null Count  Dtype  \n",
            "---  ------         --------------  -----  \n",
            " 0   id             720 non-null    int64  \n",
            " 1   address        720 non-null    object \n",
            " 2   floor          720 non-null    int64  \n",
            " 3   allfloor       720 non-null    int64  \n",
            " 4   layout         720 non-null    object \n",
            " 5   area           720 non-null    float64\n",
            " 6   price          720 non-null    object \n",
            " 7   browsenum_all  720 non-null    int64  \n",
            "dtypes: float64(1), int64(4), object(3)\n",
            "memory usage: 50.6+ KB\n"
          ],
          "name": "stdout"
        }
      ]
    },
    {
      "cell_type": "markdown",
      "metadata": {
        "id": "6WUKVqiONlOX",
        "colab_type": "text"
      },
      "source": [
        "### 資料預處理"
      ]
    },
    {
      "cell_type": "code",
      "metadata": {
        "id": "2Sh7jps_M6op",
        "colab_type": "code",
        "colab": {}
      },
      "source": [
        "house[['bedroom', 'livingroom', 'bathroom']] = house['layout'].str.extract('(\\d+)房(\\d+)廳(\\d+)衛')"
      ],
      "execution_count": 0,
      "outputs": []
    },
    {
      "cell_type": "code",
      "metadata": {
        "id": "bLHUEs8bN2Mq",
        "colab_type": "code",
        "colab": {}
      },
      "source": [
        "house['price'] = house['price'].map(lambda e: int(e.replace(',', '')))"
      ],
      "execution_count": 0,
      "outputs": []
    },
    {
      "cell_type": "code",
      "metadata": {
        "id": "4Ke_mjaOOCNL",
        "colab_type": "code",
        "colab": {
          "base_uri": "https://localhost:8080/",
          "height": 69
        },
        "outputId": "c15ea903-661c-496b-809a-892d082a960a"
      },
      "source": [
        "house.columns"
      ],
      "execution_count": 229,
      "outputs": [
        {
          "output_type": "execute_result",
          "data": {
            "text/plain": [
              "Index(['id', 'address', 'floor', 'allfloor', 'layout', 'area', 'price',\n",
              "       'browsenum_all', 'bedroom', 'livingroom', 'bathroom'],\n",
              "      dtype='object')"
            ]
          },
          "metadata": {
            "tags": []
          },
          "execution_count": 229
        }
      ]
    },
    {
      "cell_type": "code",
      "metadata": {
        "id": "bhXZxG_KONRd",
        "colab_type": "code",
        "colab": {}
      },
      "source": [
        "house = house[['floor', 'allfloor', 'area', \n",
        "       'bedroom', 'livingroom', 'bathroom','price']]"
      ],
      "execution_count": 0,
      "outputs": []
    },
    {
      "cell_type": "code",
      "metadata": {
        "id": "XsFtIRGxObaL",
        "colab_type": "code",
        "colab": {
          "base_uri": "https://localhost:8080/",
          "height": 202
        },
        "outputId": "ff47c3c3-bcc3-4979-b52c-54ceb0649bc6"
      },
      "source": [
        "house.head()"
      ],
      "execution_count": 231,
      "outputs": [
        {
          "output_type": "execute_result",
          "data": {
            "text/html": [
              "<div>\n",
              "<style scoped>\n",
              "    .dataframe tbody tr th:only-of-type {\n",
              "        vertical-align: middle;\n",
              "    }\n",
              "\n",
              "    .dataframe tbody tr th {\n",
              "        vertical-align: top;\n",
              "    }\n",
              "\n",
              "    .dataframe thead th {\n",
              "        text-align: right;\n",
              "    }\n",
              "</style>\n",
              "<table border=\"1\" class=\"dataframe\">\n",
              "  <thead>\n",
              "    <tr style=\"text-align: right;\">\n",
              "      <th></th>\n",
              "      <th>floor</th>\n",
              "      <th>allfloor</th>\n",
              "      <th>area</th>\n",
              "      <th>bedroom</th>\n",
              "      <th>livingroom</th>\n",
              "      <th>bathroom</th>\n",
              "      <th>price</th>\n",
              "    </tr>\n",
              "  </thead>\n",
              "  <tbody>\n",
              "    <tr>\n",
              "      <th>0</th>\n",
              "      <td>5</td>\n",
              "      <td>5</td>\n",
              "      <td>46.8</td>\n",
              "      <td>5</td>\n",
              "      <td>3</td>\n",
              "      <td>3</td>\n",
              "      <td>60000</td>\n",
              "    </tr>\n",
              "    <tr>\n",
              "      <th>1</th>\n",
              "      <td>7</td>\n",
              "      <td>12</td>\n",
              "      <td>76.9</td>\n",
              "      <td>4</td>\n",
              "      <td>2</td>\n",
              "      <td>2</td>\n",
              "      <td>100000</td>\n",
              "    </tr>\n",
              "    <tr>\n",
              "      <th>2</th>\n",
              "      <td>10</td>\n",
              "      <td>13</td>\n",
              "      <td>71.3</td>\n",
              "      <td>4</td>\n",
              "      <td>2</td>\n",
              "      <td>2</td>\n",
              "      <td>150000</td>\n",
              "    </tr>\n",
              "    <tr>\n",
              "      <th>3</th>\n",
              "      <td>3</td>\n",
              "      <td>4</td>\n",
              "      <td>18.0</td>\n",
              "      <td>2</td>\n",
              "      <td>1</td>\n",
              "      <td>1</td>\n",
              "      <td>29000</td>\n",
              "    </tr>\n",
              "    <tr>\n",
              "      <th>4</th>\n",
              "      <td>5</td>\n",
              "      <td>5</td>\n",
              "      <td>28.0</td>\n",
              "      <td>2</td>\n",
              "      <td>2</td>\n",
              "      <td>1</td>\n",
              "      <td>31800</td>\n",
              "    </tr>\n",
              "  </tbody>\n",
              "</table>\n",
              "</div>"
            ],
            "text/plain": [
              "   floor  allfloor  area bedroom livingroom bathroom   price\n",
              "0      5         5  46.8       5          3        3   60000\n",
              "1      7        12  76.9       4          2        2  100000\n",
              "2     10        13  71.3       4          2        2  150000\n",
              "3      3         4  18.0       2          1        1   29000\n",
              "4      5         5  28.0       2          2        1   31800"
            ]
          },
          "metadata": {
            "tags": []
          },
          "execution_count": 231
        }
      ]
    },
    {
      "cell_type": "code",
      "metadata": {
        "id": "q8oY6t-3OxGk",
        "colab_type": "code",
        "colab": {
          "base_uri": "https://localhost:8080/",
          "height": 159
        },
        "outputId": "9a1be789-546e-4c5b-cc27-153a4dd5671c"
      },
      "source": [
        "house.dropna(inplace=True)"
      ],
      "execution_count": 236,
      "outputs": [
        {
          "output_type": "stream",
          "text": [
            "/usr/local/lib/python3.6/dist-packages/ipykernel_launcher.py:1: SettingWithCopyWarning:\n",
            "\n",
            "\n",
            "A value is trying to be set on a copy of a slice from a DataFrame\n",
            "\n",
            "See the caveats in the documentation: https://pandas.pydata.org/pandas-docs/stable/user_guide/indexing.html#returning-a-view-versus-a-copy\n",
            "\n"
          ],
          "name": "stderr"
        }
      ]
    },
    {
      "cell_type": "code",
      "metadata": {
        "id": "t2_2okW0OcdL",
        "colab_type": "code",
        "colab": {
          "base_uri": "https://localhost:8080/",
          "height": 453
        },
        "outputId": "b7c52d5a-e566-48ca-93df-faf8dec1af35"
      },
      "source": [
        "house['bedroom'] = house['bedroom'].astype(int)\n",
        "house['livingroom'] = house['livingroom'].astype(int)\n",
        "house['bathroom'] = house['bathroom'].astype(int)"
      ],
      "execution_count": 237,
      "outputs": [
        {
          "output_type": "stream",
          "text": [
            "/usr/local/lib/python3.6/dist-packages/ipykernel_launcher.py:1: SettingWithCopyWarning:\n",
            "\n",
            "\n",
            "A value is trying to be set on a copy of a slice from a DataFrame.\n",
            "Try using .loc[row_indexer,col_indexer] = value instead\n",
            "\n",
            "See the caveats in the documentation: https://pandas.pydata.org/pandas-docs/stable/user_guide/indexing.html#returning-a-view-versus-a-copy\n",
            "\n",
            "/usr/local/lib/python3.6/dist-packages/ipykernel_launcher.py:2: SettingWithCopyWarning:\n",
            "\n",
            "\n",
            "A value is trying to be set on a copy of a slice from a DataFrame.\n",
            "Try using .loc[row_indexer,col_indexer] = value instead\n",
            "\n",
            "See the caveats in the documentation: https://pandas.pydata.org/pandas-docs/stable/user_guide/indexing.html#returning-a-view-versus-a-copy\n",
            "\n",
            "/usr/local/lib/python3.6/dist-packages/ipykernel_launcher.py:3: SettingWithCopyWarning:\n",
            "\n",
            "\n",
            "A value is trying to be set on a copy of a slice from a DataFrame.\n",
            "Try using .loc[row_indexer,col_indexer] = value instead\n",
            "\n",
            "See the caveats in the documentation: https://pandas.pydata.org/pandas-docs/stable/user_guide/indexing.html#returning-a-view-versus-a-copy\n",
            "\n"
          ],
          "name": "stderr"
        }
      ]
    },
    {
      "cell_type": "code",
      "metadata": {
        "id": "E1VWuuYNOfXr",
        "colab_type": "code",
        "colab": {
          "base_uri": "https://localhost:8080/",
          "height": 202
        },
        "outputId": "4c944b7d-83cc-4edc-ff5e-5004589196c9"
      },
      "source": [
        "house.head()"
      ],
      "execution_count": 238,
      "outputs": [
        {
          "output_type": "execute_result",
          "data": {
            "text/html": [
              "<div>\n",
              "<style scoped>\n",
              "    .dataframe tbody tr th:only-of-type {\n",
              "        vertical-align: middle;\n",
              "    }\n",
              "\n",
              "    .dataframe tbody tr th {\n",
              "        vertical-align: top;\n",
              "    }\n",
              "\n",
              "    .dataframe thead th {\n",
              "        text-align: right;\n",
              "    }\n",
              "</style>\n",
              "<table border=\"1\" class=\"dataframe\">\n",
              "  <thead>\n",
              "    <tr style=\"text-align: right;\">\n",
              "      <th></th>\n",
              "      <th>floor</th>\n",
              "      <th>allfloor</th>\n",
              "      <th>area</th>\n",
              "      <th>bedroom</th>\n",
              "      <th>livingroom</th>\n",
              "      <th>bathroom</th>\n",
              "      <th>price</th>\n",
              "    </tr>\n",
              "  </thead>\n",
              "  <tbody>\n",
              "    <tr>\n",
              "      <th>0</th>\n",
              "      <td>5</td>\n",
              "      <td>5</td>\n",
              "      <td>46.8</td>\n",
              "      <td>5</td>\n",
              "      <td>3</td>\n",
              "      <td>3</td>\n",
              "      <td>60000</td>\n",
              "    </tr>\n",
              "    <tr>\n",
              "      <th>1</th>\n",
              "      <td>7</td>\n",
              "      <td>12</td>\n",
              "      <td>76.9</td>\n",
              "      <td>4</td>\n",
              "      <td>2</td>\n",
              "      <td>2</td>\n",
              "      <td>100000</td>\n",
              "    </tr>\n",
              "    <tr>\n",
              "      <th>2</th>\n",
              "      <td>10</td>\n",
              "      <td>13</td>\n",
              "      <td>71.3</td>\n",
              "      <td>4</td>\n",
              "      <td>2</td>\n",
              "      <td>2</td>\n",
              "      <td>150000</td>\n",
              "    </tr>\n",
              "    <tr>\n",
              "      <th>3</th>\n",
              "      <td>3</td>\n",
              "      <td>4</td>\n",
              "      <td>18.0</td>\n",
              "      <td>2</td>\n",
              "      <td>1</td>\n",
              "      <td>1</td>\n",
              "      <td>29000</td>\n",
              "    </tr>\n",
              "    <tr>\n",
              "      <th>4</th>\n",
              "      <td>5</td>\n",
              "      <td>5</td>\n",
              "      <td>28.0</td>\n",
              "      <td>2</td>\n",
              "      <td>2</td>\n",
              "      <td>1</td>\n",
              "      <td>31800</td>\n",
              "    </tr>\n",
              "  </tbody>\n",
              "</table>\n",
              "</div>"
            ],
            "text/plain": [
              "   floor  allfloor  area  bedroom  livingroom  bathroom   price\n",
              "0      5         5  46.8        5           3         3   60000\n",
              "1      7        12  76.9        4           2         2  100000\n",
              "2     10        13  71.3        4           2         2  150000\n",
              "3      3         4  18.0        2           1         1   29000\n",
              "4      5         5  28.0        2           2         1   31800"
            ]
          },
          "metadata": {
            "tags": []
          },
          "execution_count": 238
        }
      ]
    },
    {
      "cell_type": "code",
      "metadata": {
        "id": "O0kLmfW6O6Hr",
        "colab_type": "code",
        "colab": {
          "base_uri": "https://localhost:8080/",
          "height": 35
        },
        "outputId": "57fafa1a-ba02-49d4-f59a-c393d613622b"
      },
      "source": [
        "from sklearn.linear_model import LinearRegression\n",
        "X = house.iloc[:,:-1]\n",
        "Y = house.iloc[:,-1].values\n",
        "clf = LinearRegression()\n",
        "clf.fit(X,Y)"
      ],
      "execution_count": 239,
      "outputs": [
        {
          "output_type": "execute_result",
          "data": {
            "text/plain": [
              "LinearRegression(copy_X=True, fit_intercept=True, n_jobs=None, normalize=False)"
            ]
          },
          "metadata": {
            "tags": []
          },
          "execution_count": 239
        }
      ]
    },
    {
      "cell_type": "code",
      "metadata": {
        "id": "Z2BJSVrxPKe7",
        "colab_type": "code",
        "colab": {}
      },
      "source": [
        "predicted = clf.predict(X)"
      ],
      "execution_count": 0,
      "outputs": []
    },
    {
      "cell_type": "code",
      "metadata": {
        "id": "Y8G0SDmYPPo7",
        "colab_type": "code",
        "colab": {
          "base_uri": "https://localhost:8080/",
          "height": 35
        },
        "outputId": "ebfd1879-e096-4da3-c73a-40735669dd33"
      },
      "source": [
        "from sklearn.metrics import mean_squared_error, r2_score\n",
        "mean_squared_error(Y,predicted)"
      ],
      "execution_count": 243,
      "outputs": [
        {
          "output_type": "execute_result",
          "data": {
            "text/plain": [
              "442790407.9910531"
            ]
          },
          "metadata": {
            "tags": []
          },
          "execution_count": 243
        }
      ]
    },
    {
      "cell_type": "code",
      "metadata": {
        "id": "Z6XGOK_TPcY8",
        "colab_type": "code",
        "colab": {
          "base_uri": "https://localhost:8080/",
          "height": 35
        },
        "outputId": "3be42600-5ce0-4028-f02f-22fca2aa07b5"
      },
      "source": [
        "r2_score(Y,predicted)"
      ],
      "execution_count": 244,
      "outputs": [
        {
          "output_type": "execute_result",
          "data": {
            "text/plain": [
              "0.690476404252544"
            ]
          },
          "metadata": {
            "tags": []
          },
          "execution_count": 244
        }
      ]
    },
    {
      "cell_type": "code",
      "metadata": {
        "id": "uzwhmTnnPqgF",
        "colab_type": "code",
        "colab": {
          "base_uri": "https://localhost:8080/",
          "height": 537
        },
        "outputId": "e8ce5f0b-8fb6-4dfe-cebb-afae7919741a"
      },
      "source": [
        "import statsmodels.api as sm\n",
        "X2 = sm.add_constant(X)\n",
        "est = sm.OLS(Y, X2)\n",
        "est2 = est.fit()\n",
        "print(est2.summary())"
      ],
      "execution_count": 245,
      "outputs": [
        {
          "output_type": "stream",
          "text": [
            "                            OLS Regression Results                            \n",
            "==============================================================================\n",
            "Dep. Variable:                      y   R-squared:                       0.690\n",
            "Model:                            OLS   Adj. R-squared:                  0.688\n",
            "Method:                 Least Squares   F-statistic:                     262.1\n",
            "Date:                Sat, 23 May 2020   Prob (F-statistic):          8.83e-176\n",
            "Time:                        06:36:04   Log-Likelihood:                -8097.7\n",
            "No. Observations:                 712   AIC:                         1.621e+04\n",
            "Df Residuals:                     705   BIC:                         1.624e+04\n",
            "Df Model:                           6                                         \n",
            "Covariance Type:            nonrobust                                         \n",
            "==============================================================================\n",
            "                 coef    std err          t      P>|t|      [0.025      0.975]\n",
            "------------------------------------------------------------------------------\n",
            "const       5846.5997   3721.958      1.571      0.117   -1460.849    1.32e+04\n",
            "floor        339.4040     75.633      4.488      0.000     190.911     487.897\n",
            "allfloor      53.1769    171.672      0.310      0.757    -283.872     390.226\n",
            "area        1317.0763     57.756     22.804      0.000    1203.682    1430.471\n",
            "bedroom    -5917.6343   1195.872     -4.948      0.000   -8265.531   -3569.738\n",
            "livingroom   617.1226   2028.160      0.304      0.761   -3364.834    4599.079\n",
            "bathroom    7712.1297   1876.185      4.111      0.000    4028.551    1.14e+04\n",
            "==============================================================================\n",
            "Omnibus:                      238.133   Durbin-Watson:                   1.850\n",
            "Prob(Omnibus):                  0.000   Jarque-Bera (JB):             1368.777\n",
            "Skew:                           1.383   Prob(JB):                    5.94e-298\n",
            "Kurtosis:                       9.204   Cond. No.                         257.\n",
            "==============================================================================\n",
            "\n",
            "Warnings:\n",
            "[1] Standard Errors assume that the covariance matrix of the errors is correctly specified.\n"
          ],
          "name": "stdout"
        }
      ]
    },
    {
      "cell_type": "code",
      "metadata": {
        "id": "HJHmIF0TQBdm",
        "colab_type": "code",
        "colab": {}
      },
      "source": [
        "predictorcols = list(X.columns)"
      ],
      "execution_count": 0,
      "outputs": []
    },
    {
      "cell_type": "code",
      "metadata": {
        "id": "cuGZpNvEPuZ9",
        "colab_type": "code",
        "colab": {}
      },
      "source": [
        "AICs = {}\n",
        "for k in range(1, len(predictorcols) + 1):\n",
        "  for variables in itertools.combinations(predictorcols,k):\n",
        "    #print(variables)\n",
        "    predictors = X[list(variables)]\n",
        "    predictors2 = sm.add_constant(predictors)\n",
        "    est = sm.OLS(Y, predictors2)\n",
        "    res = est.fit()\n",
        "    AICs[variables] = res.aic"
      ],
      "execution_count": 0,
      "outputs": []
    },
    {
      "cell_type": "code",
      "metadata": {
        "id": "j7ZloHVoP7sM",
        "colab_type": "code",
        "colab": {}
      },
      "source": [
        "from collections import Counter\n",
        "c = Counter(AICs)"
      ],
      "execution_count": 0,
      "outputs": []
    },
    {
      "cell_type": "code",
      "metadata": {
        "id": "3nx2OAa2QIWu",
        "colab_type": "code",
        "colab": {
          "base_uri": "https://localhost:8080/",
          "height": 191
        },
        "outputId": "c4ab543e-2d56-4b15-a110-efb05d26f116"
      },
      "source": [
        "c.most_common()[:-10:-1]"
      ],
      "execution_count": 250,
      "outputs": [
        {
          "output_type": "execute_result",
          "data": {
            "text/plain": [
              "[(('floor', 'area', 'bedroom', 'bathroom'), 16205.695391186993),\n",
              " (('floor', 'allfloor', 'area', 'bedroom', 'bathroom'), 16207.590221620825),\n",
              " (('floor', 'area', 'bedroom', 'livingroom', 'bathroom'), 16207.593620755726),\n",
              " (('floor', 'allfloor', 'area', 'bedroom', 'livingroom', 'bathroom'),\n",
              "  16209.49672391596),\n",
              " (('floor', 'area', 'bedroom'), 16221.25220004545),\n",
              " (('floor', 'area', 'bedroom', 'livingroom'), 16222.416654679733),\n",
              " (('floor', 'allfloor', 'area', 'bedroom'), 16223.176836987579),\n",
              " (('floor', 'allfloor', 'area', 'bedroom', 'livingroom'), 16224.359733240477),\n",
              " (('area', 'bedroom', 'bathroom'), 16224.386860704937)]"
            ]
          },
          "metadata": {
            "tags": []
          },
          "execution_count": 250
        }
      ]
    },
    {
      "cell_type": "code",
      "metadata": {
        "id": "20MTbJA6QRcd",
        "colab_type": "code",
        "colab": {
          "base_uri": "https://localhost:8080/",
          "height": 35
        },
        "outputId": "d99b527d-1497-4edf-9e11-9098f1dcd5c4"
      },
      "source": [
        "from sklearn.linear_model import LinearRegression\n",
        "X = house[['floor', 'area', 'bedroom', 'bathroom']]\n",
        "Y = house.iloc[:,-1].values\n",
        "clf = LinearRegression()\n",
        "clf.fit(X,Y)"
      ],
      "execution_count": 251,
      "outputs": [
        {
          "output_type": "execute_result",
          "data": {
            "text/plain": [
              "LinearRegression(copy_X=True, fit_intercept=True, n_jobs=None, normalize=False)"
            ]
          },
          "metadata": {
            "tags": []
          },
          "execution_count": 251
        }
      ]
    },
    {
      "cell_type": "code",
      "metadata": {
        "id": "aWqkSvJmQUtC",
        "colab_type": "code",
        "colab": {}
      },
      "source": [
        "predicted = clf.predict(X)"
      ],
      "execution_count": 0,
      "outputs": []
    },
    {
      "cell_type": "code",
      "metadata": {
        "id": "7QeT0qhiQatR",
        "colab_type": "code",
        "colab": {
          "base_uri": "https://localhost:8080/",
          "height": 35
        },
        "outputId": "06cad9b0-0d54-4d7e-d19e-20d2166d7e9a"
      },
      "source": [
        "from sklearn.metrics import mean_squared_error, r2_score\n",
        "mean_squared_error(Y,predicted)"
      ],
      "execution_count": 253,
      "outputs": [
        {
          "output_type": "execute_result",
          "data": {
            "text/plain": [
              "442913975.73804635"
            ]
          },
          "metadata": {
            "tags": []
          },
          "execution_count": 253
        }
      ]
    },
    {
      "cell_type": "code",
      "metadata": {
        "id": "4Yt3H6RXQdC8",
        "colab_type": "code",
        "colab": {
          "base_uri": "https://localhost:8080/",
          "height": 35
        },
        "outputId": "ec6726aa-a96d-48cf-dd38-7bc2b8a830a4"
      },
      "source": [
        "r2_score(Y,predicted)"
      ],
      "execution_count": 255,
      "outputs": [
        {
          "output_type": "execute_result",
          "data": {
            "text/plain": [
              "0.6903900267414742"
            ]
          },
          "metadata": {
            "tags": []
          },
          "execution_count": 255
        }
      ]
    },
    {
      "cell_type": "code",
      "metadata": {
        "id": "VH842ahtQ09i",
        "colab_type": "code",
        "colab": {
          "base_uri": "https://localhost:8080/",
          "height": 173
        },
        "outputId": "ea2bcd62-4a2b-4afc-961d-99ae99cab02d"
      },
      "source": [
        "from sklearn.ensemble import GradientBoostingRegressor\n",
        "X = house[['floor', 'area', 'bedroom', 'bathroom']]\n",
        "Y = house.iloc[:,-1].values\n",
        "clf = GradientBoostingRegressor()\n",
        "clf.fit(X,Y)"
      ],
      "execution_count": 256,
      "outputs": [
        {
          "output_type": "execute_result",
          "data": {
            "text/plain": [
              "GradientBoostingRegressor(alpha=0.9, ccp_alpha=0.0, criterion='friedman_mse',\n",
              "                          init=None, learning_rate=0.1, loss='ls', max_depth=3,\n",
              "                          max_features=None, max_leaf_nodes=None,\n",
              "                          min_impurity_decrease=0.0, min_impurity_split=None,\n",
              "                          min_samples_leaf=1, min_samples_split=2,\n",
              "                          min_weight_fraction_leaf=0.0, n_estimators=100,\n",
              "                          n_iter_no_change=None, presort='deprecated',\n",
              "                          random_state=None, subsample=1.0, tol=0.0001,\n",
              "                          validation_fraction=0.1, verbose=0, warm_start=False)"
            ]
          },
          "metadata": {
            "tags": []
          },
          "execution_count": 256
        }
      ]
    },
    {
      "cell_type": "code",
      "metadata": {
        "id": "tUko1VggQ8aN",
        "colab_type": "code",
        "colab": {}
      },
      "source": [
        "predicted = clf.predict(X)"
      ],
      "execution_count": 0,
      "outputs": []
    },
    {
      "cell_type": "code",
      "metadata": {
        "id": "whER1g7oQ-Xt",
        "colab_type": "code",
        "colab": {
          "base_uri": "https://localhost:8080/",
          "height": 35
        },
        "outputId": "5d8ddd00-81a7-453d-dc1c-bec147d3846a"
      },
      "source": [
        "r2_score(Y,predicted)"
      ],
      "execution_count": 258,
      "outputs": [
        {
          "output_type": "execute_result",
          "data": {
            "text/plain": [
              "0.8947182774079565"
            ]
          },
          "metadata": {
            "tags": []
          },
          "execution_count": 258
        }
      ]
    },
    {
      "cell_type": "markdown",
      "metadata": {
        "id": "gzxBXunpYhrA",
        "colab_type": "text"
      },
      "source": [
        "## 分類模型 (*決策樹*)"
      ]
    },
    {
      "cell_type": "code",
      "metadata": {
        "id": "7GJ4GPNNQ_1e",
        "colab_type": "code",
        "colab": {}
      },
      "source": [
        "from sklearn.datasets import load_iris\n",
        "iris = load_iris()"
      ],
      "execution_count": 0,
      "outputs": []
    },
    {
      "cell_type": "code",
      "metadata": {
        "id": "LZ619q1SYrZo",
        "colab_type": "code",
        "colab": {
          "base_uri": "https://localhost:8080/",
          "height": 1000
        },
        "outputId": "eae09e5e-a0f8-4dd3-e1c3-9cdf2deabae1"
      },
      "source": [
        "print(iris.DESCR)"
      ],
      "execution_count": 261,
      "outputs": [
        {
          "output_type": "stream",
          "text": [
            ".. _iris_dataset:\n",
            "\n",
            "Iris plants dataset\n",
            "--------------------\n",
            "\n",
            "**Data Set Characteristics:**\n",
            "\n",
            "    :Number of Instances: 150 (50 in each of three classes)\n",
            "    :Number of Attributes: 4 numeric, predictive attributes and the class\n",
            "    :Attribute Information:\n",
            "        - sepal length in cm\n",
            "        - sepal width in cm\n",
            "        - petal length in cm\n",
            "        - petal width in cm\n",
            "        - class:\n",
            "                - Iris-Setosa\n",
            "                - Iris-Versicolour\n",
            "                - Iris-Virginica\n",
            "                \n",
            "    :Summary Statistics:\n",
            "\n",
            "    ============== ==== ==== ======= ===== ====================\n",
            "                    Min  Max   Mean    SD   Class Correlation\n",
            "    ============== ==== ==== ======= ===== ====================\n",
            "    sepal length:   4.3  7.9   5.84   0.83    0.7826\n",
            "    sepal width:    2.0  4.4   3.05   0.43   -0.4194\n",
            "    petal length:   1.0  6.9   3.76   1.76    0.9490  (high!)\n",
            "    petal width:    0.1  2.5   1.20   0.76    0.9565  (high!)\n",
            "    ============== ==== ==== ======= ===== ====================\n",
            "\n",
            "    :Missing Attribute Values: None\n",
            "    :Class Distribution: 33.3% for each of 3 classes.\n",
            "    :Creator: R.A. Fisher\n",
            "    :Donor: Michael Marshall (MARSHALL%PLU@io.arc.nasa.gov)\n",
            "    :Date: July, 1988\n",
            "\n",
            "The famous Iris database, first used by Sir R.A. Fisher. The dataset is taken\n",
            "from Fisher's paper. Note that it's the same as in R, but not as in the UCI\n",
            "Machine Learning Repository, which has two wrong data points.\n",
            "\n",
            "This is perhaps the best known database to be found in the\n",
            "pattern recognition literature.  Fisher's paper is a classic in the field and\n",
            "is referenced frequently to this day.  (See Duda & Hart, for example.)  The\n",
            "data set contains 3 classes of 50 instances each, where each class refers to a\n",
            "type of iris plant.  One class is linearly separable from the other 2; the\n",
            "latter are NOT linearly separable from each other.\n",
            "\n",
            ".. topic:: References\n",
            "\n",
            "   - Fisher, R.A. \"The use of multiple measurements in taxonomic problems\"\n",
            "     Annual Eugenics, 7, Part II, 179-188 (1936); also in \"Contributions to\n",
            "     Mathematical Statistics\" (John Wiley, NY, 1950).\n",
            "   - Duda, R.O., & Hart, P.E. (1973) Pattern Classification and Scene Analysis.\n",
            "     (Q327.D83) John Wiley & Sons.  ISBN 0-471-22361-1.  See page 218.\n",
            "   - Dasarathy, B.V. (1980) \"Nosing Around the Neighborhood: A New System\n",
            "     Structure and Classification Rule for Recognition in Partially Exposed\n",
            "     Environments\".  IEEE Transactions on Pattern Analysis and Machine\n",
            "     Intelligence, Vol. PAMI-2, No. 1, 67-71.\n",
            "   - Gates, G.W. (1972) \"The Reduced Nearest Neighbor Rule\".  IEEE Transactions\n",
            "     on Information Theory, May 1972, 431-433.\n",
            "   - See also: 1988 MLC Proceedings, 54-64.  Cheeseman et al\"s AUTOCLASS II\n",
            "     conceptual clustering system finds 3 classes in the data.\n",
            "   - Many, many more ...\n"
          ],
          "name": "stdout"
        }
      ]
    },
    {
      "cell_type": "code",
      "metadata": {
        "id": "IJTI1wzPYs94",
        "colab_type": "code",
        "colab": {
          "base_uri": "https://localhost:8080/",
          "height": 69
        },
        "outputId": "5f9de3ce-4bd2-4ba4-ac12-82ea112d3fee"
      },
      "source": [
        "iris.data[0:3,:]"
      ],
      "execution_count": 263,
      "outputs": [
        {
          "output_type": "execute_result",
          "data": {
            "text/plain": [
              "array([[5.1, 3.5, 1.4, 0.2],\n",
              "       [4.9, 3. , 1.4, 0.2],\n",
              "       [4.7, 3.2, 1.3, 0.2]])"
            ]
          },
          "metadata": {
            "tags": []
          },
          "execution_count": 263
        }
      ]
    },
    {
      "cell_type": "code",
      "metadata": {
        "id": "Sm1oKDnWY8eo",
        "colab_type": "code",
        "colab": {
          "base_uri": "https://localhost:8080/",
          "height": 35
        },
        "outputId": "4624479f-c464-46b1-e4ef-f1d6af4aea29"
      },
      "source": [
        "iris.data.shape"
      ],
      "execution_count": 264,
      "outputs": [
        {
          "output_type": "execute_result",
          "data": {
            "text/plain": [
              "(150, 4)"
            ]
          },
          "metadata": {
            "tags": []
          },
          "execution_count": 264
        }
      ]
    },
    {
      "cell_type": "code",
      "metadata": {
        "id": "isCXErmFZEKo",
        "colab_type": "code",
        "colab": {
          "base_uri": "https://localhost:8080/",
          "height": 139
        },
        "outputId": "768148d0-9e65-499a-9189-99a6f615c4ca"
      },
      "source": [
        "iris.target"
      ],
      "execution_count": 265,
      "outputs": [
        {
          "output_type": "execute_result",
          "data": {
            "text/plain": [
              "array([0, 0, 0, 0, 0, 0, 0, 0, 0, 0, 0, 0, 0, 0, 0, 0, 0, 0, 0, 0, 0, 0,\n",
              "       0, 0, 0, 0, 0, 0, 0, 0, 0, 0, 0, 0, 0, 0, 0, 0, 0, 0, 0, 0, 0, 0,\n",
              "       0, 0, 0, 0, 0, 0, 1, 1, 1, 1, 1, 1, 1, 1, 1, 1, 1, 1, 1, 1, 1, 1,\n",
              "       1, 1, 1, 1, 1, 1, 1, 1, 1, 1, 1, 1, 1, 1, 1, 1, 1, 1, 1, 1, 1, 1,\n",
              "       1, 1, 1, 1, 1, 1, 1, 1, 1, 1, 1, 1, 2, 2, 2, 2, 2, 2, 2, 2, 2, 2,\n",
              "       2, 2, 2, 2, 2, 2, 2, 2, 2, 2, 2, 2, 2, 2, 2, 2, 2, 2, 2, 2, 2, 2,\n",
              "       2, 2, 2, 2, 2, 2, 2, 2, 2, 2, 2, 2, 2, 2, 2, 2, 2, 2])"
            ]
          },
          "metadata": {
            "tags": []
          },
          "execution_count": 265
        }
      ]
    },
    {
      "cell_type": "code",
      "metadata": {
        "id": "TayeleP9ZJWR",
        "colab_type": "code",
        "colab": {
          "base_uri": "https://localhost:8080/",
          "height": 35
        },
        "outputId": "7b417c99-caf5-486e-d395-dde39260dafc"
      },
      "source": [
        "iris.target_names"
      ],
      "execution_count": 267,
      "outputs": [
        {
          "output_type": "execute_result",
          "data": {
            "text/plain": [
              "array(['setosa', 'versicolor', 'virginica'], dtype='<U10')"
            ]
          },
          "metadata": {
            "tags": []
          },
          "execution_count": 267
        }
      ]
    },
    {
      "cell_type": "code",
      "metadata": {
        "id": "pkyGWDpHZlWK",
        "colab_type": "code",
        "colab": {
          "base_uri": "https://localhost:8080/",
          "height": 121
        },
        "outputId": "d784f18a-ded1-48fd-e319-43075920e4ad"
      },
      "source": [
        "from sklearn.tree import DecisionTreeClassifier\n",
        "clf = DecisionTreeClassifier()\n",
        "clf.fit(iris.data, iris.target)"
      ],
      "execution_count": 268,
      "outputs": [
        {
          "output_type": "execute_result",
          "data": {
            "text/plain": [
              "DecisionTreeClassifier(ccp_alpha=0.0, class_weight=None, criterion='gini',\n",
              "                       max_depth=None, max_features=None, max_leaf_nodes=None,\n",
              "                       min_impurity_decrease=0.0, min_impurity_split=None,\n",
              "                       min_samples_leaf=1, min_samples_split=2,\n",
              "                       min_weight_fraction_leaf=0.0, presort='deprecated',\n",
              "                       random_state=None, splitter='best')"
            ]
          },
          "metadata": {
            "tags": []
          },
          "execution_count": 268
        }
      ]
    },
    {
      "cell_type": "code",
      "metadata": {
        "id": "IIqApB1NaDU0",
        "colab_type": "code",
        "colab": {}
      },
      "source": [
        "from sklearn import tree\n",
        "tree.export_graphviz(clf, out_file='tree.dot')"
      ],
      "execution_count": 0,
      "outputs": []
    },
    {
      "cell_type": "code",
      "metadata": {
        "id": "sUX5dgfAaQc7",
        "colab_type": "code",
        "colab": {
          "base_uri": "https://localhost:8080/",
          "height": 641
        },
        "outputId": "a407cb99-3bdf-45b9-a055-08838e88427e"
      },
      "source": [
        "! cat tree.dot"
      ],
      "execution_count": 274,
      "outputs": [
        {
          "output_type": "stream",
          "text": [
            "digraph Tree {\n",
            "node [shape=box] ;\n",
            "0 [label=\"X[3] <= 0.8\\ngini = 0.667\\nsamples = 150\\nvalue = [50, 50, 50]\"] ;\n",
            "1 [label=\"gini = 0.0\\nsamples = 50\\nvalue = [50, 0, 0]\"] ;\n",
            "0 -> 1 [labeldistance=2.5, labelangle=45, headlabel=\"True\"] ;\n",
            "2 [label=\"X[3] <= 1.75\\ngini = 0.5\\nsamples = 100\\nvalue = [0, 50, 50]\"] ;\n",
            "0 -> 2 [labeldistance=2.5, labelangle=-45, headlabel=\"False\"] ;\n",
            "3 [label=\"X[2] <= 4.95\\ngini = 0.168\\nsamples = 54\\nvalue = [0, 49, 5]\"] ;\n",
            "2 -> 3 ;\n",
            "4 [label=\"X[3] <= 1.65\\ngini = 0.041\\nsamples = 48\\nvalue = [0, 47, 1]\"] ;\n",
            "3 -> 4 ;\n",
            "5 [label=\"gini = 0.0\\nsamples = 47\\nvalue = [0, 47, 0]\"] ;\n",
            "4 -> 5 ;\n",
            "6 [label=\"gini = 0.0\\nsamples = 1\\nvalue = [0, 0, 1]\"] ;\n",
            "4 -> 6 ;\n",
            "7 [label=\"X[3] <= 1.55\\ngini = 0.444\\nsamples = 6\\nvalue = [0, 2, 4]\"] ;\n",
            "3 -> 7 ;\n",
            "8 [label=\"gini = 0.0\\nsamples = 3\\nvalue = [0, 0, 3]\"] ;\n",
            "7 -> 8 ;\n",
            "9 [label=\"X[0] <= 6.95\\ngini = 0.444\\nsamples = 3\\nvalue = [0, 2, 1]\"] ;\n",
            "7 -> 9 ;\n",
            "10 [label=\"gini = 0.0\\nsamples = 2\\nvalue = [0, 2, 0]\"] ;\n",
            "9 -> 10 ;\n",
            "11 [label=\"gini = 0.0\\nsamples = 1\\nvalue = [0, 0, 1]\"] ;\n",
            "9 -> 11 ;\n",
            "12 [label=\"X[2] <= 4.85\\ngini = 0.043\\nsamples = 46\\nvalue = [0, 1, 45]\"] ;\n",
            "2 -> 12 ;\n",
            "13 [label=\"X[0] <= 5.95\\ngini = 0.444\\nsamples = 3\\nvalue = [0, 1, 2]\"] ;\n",
            "12 -> 13 ;\n",
            "14 [label=\"gini = 0.0\\nsamples = 1\\nvalue = [0, 1, 0]\"] ;\n",
            "13 -> 14 ;\n",
            "15 [label=\"gini = 0.0\\nsamples = 2\\nvalue = [0, 0, 2]\"] ;\n",
            "13 -> 15 ;\n",
            "16 [label=\"gini = 0.0\\nsamples = 43\\nvalue = [0, 0, 43]\"] ;\n",
            "12 -> 16 ;\n",
            "}"
          ],
          "name": "stdout"
        }
      ]
    },
    {
      "cell_type": "code",
      "metadata": {
        "id": "rmUq6Aj8Z7ra",
        "colab_type": "code",
        "colab": {
          "base_uri": "https://localhost:8080/",
          "height": 139
        },
        "outputId": "7b933fa7-d9c7-4d4a-e4c4-56b475f8ec4d"
      },
      "source": [
        "clf.predict(iris.data)"
      ],
      "execution_count": 275,
      "outputs": [
        {
          "output_type": "execute_result",
          "data": {
            "text/plain": [
              "array([0, 0, 0, 0, 0, 0, 0, 0, 0, 0, 0, 0, 0, 0, 0, 0, 0, 0, 0, 0, 0, 0,\n",
              "       0, 0, 0, 0, 0, 0, 0, 0, 0, 0, 0, 0, 0, 0, 0, 0, 0, 0, 0, 0, 0, 0,\n",
              "       0, 0, 0, 0, 0, 0, 1, 1, 1, 1, 1, 1, 1, 1, 1, 1, 1, 1, 1, 1, 1, 1,\n",
              "       1, 1, 1, 1, 1, 1, 1, 1, 1, 1, 1, 1, 1, 1, 1, 1, 1, 1, 1, 1, 1, 1,\n",
              "       1, 1, 1, 1, 1, 1, 1, 1, 1, 1, 1, 1, 2, 2, 2, 2, 2, 2, 2, 2, 2, 2,\n",
              "       2, 2, 2, 2, 2, 2, 2, 2, 2, 2, 2, 2, 2, 2, 2, 2, 2, 2, 2, 2, 2, 2,\n",
              "       2, 2, 2, 2, 2, 2, 2, 2, 2, 2, 2, 2, 2, 2, 2, 2, 2, 2])"
            ]
          },
          "metadata": {
            "tags": []
          },
          "execution_count": 275
        }
      ]
    },
    {
      "cell_type": "code",
      "metadata": {
        "id": "QRRDFOIwaZ0L",
        "colab_type": "code",
        "colab": {
          "base_uri": "https://localhost:8080/",
          "height": 35
        },
        "outputId": "52390d15-c1a8-4faa-f93f-c8cf07ff349f"
      },
      "source": [
        "import numpy as np\n",
        "d = np.array([[5,3,4,1]])\n",
        "clf.predict(d)"
      ],
      "execution_count": 276,
      "outputs": [
        {
          "output_type": "execute_result",
          "data": {
            "text/plain": [
              "array([1])"
            ]
          },
          "metadata": {
            "tags": []
          },
          "execution_count": 276
        }
      ]
    },
    {
      "cell_type": "code",
      "metadata": {
        "id": "hc87Mizcaiyr",
        "colab_type": "code",
        "colab": {
          "base_uri": "https://localhost:8080/",
          "height": 121
        },
        "outputId": "0ec28da1-853e-4f0f-d8bf-09e770e9a02c"
      },
      "source": [
        "from sklearn.tree import DecisionTreeClassifier\n",
        "clf = DecisionTreeClassifier(max_depth=2)\n",
        "clf.fit(iris.data, iris.target)"
      ],
      "execution_count": 277,
      "outputs": [
        {
          "output_type": "execute_result",
          "data": {
            "text/plain": [
              "DecisionTreeClassifier(ccp_alpha=0.0, class_weight=None, criterion='gini',\n",
              "                       max_depth=2, max_features=None, max_leaf_nodes=None,\n",
              "                       min_impurity_decrease=0.0, min_impurity_split=None,\n",
              "                       min_samples_leaf=1, min_samples_split=2,\n",
              "                       min_weight_fraction_leaf=0.0, presort='deprecated',\n",
              "                       random_state=None, splitter='best')"
            ]
          },
          "metadata": {
            "tags": []
          },
          "execution_count": 277
        }
      ]
    },
    {
      "cell_type": "code",
      "metadata": {
        "id": "G1x0aEF7cD5g",
        "colab_type": "code",
        "colab": {}
      },
      "source": [
        "from sklearn import tree\n",
        "tree.export_graphviz(clf, out_file='tree2.dot')"
      ],
      "execution_count": 0,
      "outputs": []
    },
    {
      "cell_type": "code",
      "metadata": {
        "id": "zlU4ptLHcGrP",
        "colab_type": "code",
        "colab": {
          "base_uri": "https://localhost:8080/",
          "height": 225
        },
        "outputId": "43c79206-f6bf-4e4c-b5be-b4207e1992f3"
      },
      "source": [
        "! cat tree2.dot"
      ],
      "execution_count": 279,
      "outputs": [
        {
          "output_type": "stream",
          "text": [
            "digraph Tree {\n",
            "node [shape=box] ;\n",
            "0 [label=\"X[3] <= 0.8\\ngini = 0.667\\nsamples = 150\\nvalue = [50, 50, 50]\"] ;\n",
            "1 [label=\"gini = 0.0\\nsamples = 50\\nvalue = [50, 0, 0]\"] ;\n",
            "0 -> 1 [labeldistance=2.5, labelangle=45, headlabel=\"True\"] ;\n",
            "2 [label=\"X[3] <= 1.75\\ngini = 0.5\\nsamples = 100\\nvalue = [0, 50, 50]\"] ;\n",
            "0 -> 2 [labeldistance=2.5, labelangle=-45, headlabel=\"False\"] ;\n",
            "3 [label=\"gini = 0.168\\nsamples = 54\\nvalue = [0, 49, 5]\"] ;\n",
            "2 -> 3 ;\n",
            "4 [label=\"gini = 0.043\\nsamples = 46\\nvalue = [0, 1, 45]\"] ;\n",
            "2 -> 4 ;\n",
            "}"
          ],
          "name": "stdout"
        }
      ]
    },
    {
      "cell_type": "code",
      "metadata": {
        "id": "keWqVOS8cJT_",
        "colab_type": "code",
        "colab": {}
      },
      "source": [
        "from sklearn. datasets import load_iris\n",
        "from sklearn import tree\n",
        "iris = load_iris()\n",
        "X = iris.data[:, [2, 3]]\n",
        "y = iris.target"
      ],
      "execution_count": 0,
      "outputs": []
    },
    {
      "cell_type": "code",
      "metadata": {
        "id": "jD-UeGODc5Rh",
        "colab_type": "code",
        "colab": {
          "base_uri": "https://localhost:8080/",
          "height": 297
        },
        "outputId": "f6bfeaf7-1e3f-490a-f3c0-dc53678327f0"
      },
      "source": [
        "from matplotlib import pyplot as plt\n",
        "plt.scatter(X[:,0],X[:,1], c=iris.target)\n",
        "plt.xlabel('Petal Length')\n",
        "plt.ylabel('Petal Width')"
      ],
      "execution_count": 284,
      "outputs": [
        {
          "output_type": "execute_result",
          "data": {
            "text/plain": [
              "Text(0, 0.5, 'Petal Width')"
            ]
          },
          "metadata": {
            "tags": []
          },
          "execution_count": 284
        },
        {
          "output_type": "display_data",
          "data": {
            "image/png": "[encoded data removed]",
            "text/plain": [
              "<Figure size 432x288 with 1 Axes>"
            ]
          },
          "metadata": {
            "tags": [],
            "needs_background": "light"
          }
        }
      ]
    },
    {
      "cell_type": "code",
      "metadata": {
        "id": "x391UTX9c-Fx",
        "colab_type": "code",
        "colab": {
          "base_uri": "https://localhost:8080/",
          "height": 121
        },
        "outputId": "60957ed0-2f41-4e40-bc80-d534dc1e9454"
      },
      "source": [
        "clf = DecisionTreeClassifier(max_depth = 2)\n",
        "clf.fit(X,y)"
      ],
      "execution_count": 285,
      "outputs": [
        {
          "output_type": "execute_result",
          "data": {
            "text/plain": [
              "DecisionTreeClassifier(ccp_alpha=0.0, class_weight=None, criterion='gini',\n",
              "                       max_depth=2, max_features=None, max_leaf_nodes=None,\n",
              "                       min_impurity_decrease=0.0, min_impurity_split=None,\n",
              "                       min_samples_leaf=1, min_samples_split=2,\n",
              "                       min_weight_fraction_leaf=0.0, presort='deprecated',\n",
              "                       random_state=None, splitter='best')"
            ]
          },
          "metadata": {
            "tags": []
          },
          "execution_count": 285
        }
      ]
    },
    {
      "cell_type": "code",
      "metadata": {
        "id": "sLMR5t8kdU7S",
        "colab_type": "code",
        "colab": {
          "base_uri": "https://localhost:8080/",
          "height": 35
        },
        "outputId": "a3322608-3d39-49c3-c9d0-34c814381322"
      },
      "source": [
        "dp = np.array([[2,3]])\n",
        "clf.predict(dp)"
      ],
      "execution_count": 286,
      "outputs": [
        {
          "output_type": "execute_result",
          "data": {
            "text/plain": [
              "array([0])"
            ]
          },
          "metadata": {
            "tags": []
          },
          "execution_count": 286
        }
      ]
    },
    {
      "cell_type": "code",
      "metadata": {
        "id": "yYF9b7isde4C",
        "colab_type": "code",
        "colab": {}
      },
      "source": [
        "x_min, x_max = X[:, 0].min() - 1, X[:, 0].max() + 1\n",
        "y_min, y_max = X[:, 1].min() - 1, X[:, 1].max() + 1"
      ],
      "execution_count": 0,
      "outputs": []
    },
    {
      "cell_type": "code",
      "metadata": {
        "id": "OojnXN_deeDU",
        "colab_type": "code",
        "colab": {
          "base_uri": "https://localhost:8080/",
          "height": 35
        },
        "outputId": "2c6c18ef-311f-4f92-da39-13427d0c4acc"
      },
      "source": [
        "x_min, x_max, y_min, y_max"
      ],
      "execution_count": 288,
      "outputs": [
        {
          "output_type": "execute_result",
          "data": {
            "text/plain": [
              "(0.0, 7.9, -0.9, 3.5)"
            ]
          },
          "metadata": {
            "tags": []
          },
          "execution_count": 288
        }
      ]
    },
    {
      "cell_type": "code",
      "metadata": {
        "id": "FZ4sRe3regZ0",
        "colab_type": "code",
        "colab": {}
      },
      "source": [
        "xx, yy = np.meshgrid(np.arange(x_min, x_max, 0.1), np.arange(y_min, y_max, 0.1))\n"
      ],
      "execution_count": 0,
      "outputs": []
    },
    {
      "cell_type": "code",
      "metadata": {
        "id": "bBKksE8VenE6",
        "colab_type": "code",
        "colab": {
          "base_uri": "https://localhost:8080/",
          "height": 35
        },
        "outputId": "62964701-60bb-42a2-cfce-610c89e98925"
      },
      "source": [
        "xx.shape"
      ],
      "execution_count": 290,
      "outputs": [
        {
          "output_type": "execute_result",
          "data": {
            "text/plain": [
              "(44, 79)"
            ]
          },
          "metadata": {
            "tags": []
          },
          "execution_count": 290
        }
      ]
    },
    {
      "cell_type": "code",
      "metadata": {
        "id": "roK8FtnqenvU",
        "colab_type": "code",
        "colab": {
          "base_uri": "https://localhost:8080/",
          "height": 139
        },
        "outputId": "0f754b7a-ce24-452e-968a-d2d6ff2d6b1b"
      },
      "source": [
        "xx"
      ],
      "execution_count": 291,
      "outputs": [
        {
          "output_type": "execute_result",
          "data": {
            "text/plain": [
              "array([[0. , 0.1, 0.2, ..., 7.6, 7.7, 7.8],\n",
              "       [0. , 0.1, 0.2, ..., 7.6, 7.7, 7.8],\n",
              "       [0. , 0.1, 0.2, ..., 7.6, 7.7, 7.8],\n",
              "       ...,\n",
              "       [0. , 0.1, 0.2, ..., 7.6, 7.7, 7.8],\n",
              "       [0. , 0.1, 0.2, ..., 7.6, 7.7, 7.8],\n",
              "       [0. , 0.1, 0.2, ..., 7.6, 7.7, 7.8]])"
            ]
          },
          "metadata": {
            "tags": []
          },
          "execution_count": 291
        }
      ]
    },
    {
      "cell_type": "code",
      "metadata": {
        "id": "po63XvtLeuCE",
        "colab_type": "code",
        "colab": {
          "base_uri": "https://localhost:8080/",
          "height": 139
        },
        "outputId": "e87abdf2-abef-4a79-cf96-e0db4f0a99be"
      },
      "source": [
        "yy"
      ],
      "execution_count": 292,
      "outputs": [
        {
          "output_type": "execute_result",
          "data": {
            "text/plain": [
              "array([[-0.9, -0.9, -0.9, ..., -0.9, -0.9, -0.9],\n",
              "       [-0.8, -0.8, -0.8, ..., -0.8, -0.8, -0.8],\n",
              "       [-0.7, -0.7, -0.7, ..., -0.7, -0.7, -0.7],\n",
              "       ...,\n",
              "       [ 3.2,  3.2,  3.2, ...,  3.2,  3.2,  3.2],\n",
              "       [ 3.3,  3.3,  3.3, ...,  3.3,  3.3,  3.3],\n",
              "       [ 3.4,  3.4,  3.4, ...,  3.4,  3.4,  3.4]])"
            ]
          },
          "metadata": {
            "tags": []
          },
          "execution_count": 292
        }
      ]
    },
    {
      "cell_type": "code",
      "metadata": {
        "id": "ucbJ633bevNE",
        "colab_type": "code",
        "colab": {
          "base_uri": "https://localhost:8080/",
          "height": 139
        },
        "outputId": "8cb38093-0123-4fcf-a67a-2dede276547e"
      },
      "source": [
        "dp = np.c_[xx.ravel(), yy.ravel()]\n",
        "dp"
      ],
      "execution_count": 295,
      "outputs": [
        {
          "output_type": "execute_result",
          "data": {
            "text/plain": [
              "array([[ 0. , -0.9],\n",
              "       [ 0.1, -0.9],\n",
              "       [ 0.2, -0.9],\n",
              "       ...,\n",
              "       [ 7.6,  3.4],\n",
              "       [ 7.7,  3.4],\n",
              "       [ 7.8,  3.4]])"
            ]
          },
          "metadata": {
            "tags": []
          },
          "execution_count": 295
        }
      ]
    },
    {
      "cell_type": "code",
      "metadata": {
        "id": "5LQhRWQle39V",
        "colab_type": "code",
        "colab": {
          "base_uri": "https://localhost:8080/",
          "height": 35
        },
        "outputId": "600ae4a8-543b-413d-f09d-d8fd51fb4918"
      },
      "source": [
        "dp.shape"
      ],
      "execution_count": 296,
      "outputs": [
        {
          "output_type": "execute_result",
          "data": {
            "text/plain": [
              "(3476, 2)"
            ]
          },
          "metadata": {
            "tags": []
          },
          "execution_count": 296
        }
      ]
    },
    {
      "cell_type": "code",
      "metadata": {
        "id": "KrzBbM0OfAgl",
        "colab_type": "code",
        "colab": {}
      },
      "source": [
        "Z = clf.predict(dp)"
      ],
      "execution_count": 0,
      "outputs": []
    },
    {
      "cell_type": "code",
      "metadata": {
        "id": "Kb0BMH2XfD-F",
        "colab_type": "code",
        "colab": {
          "base_uri": "https://localhost:8080/",
          "height": 35
        },
        "outputId": "ee450aa1-8d3b-4b6b-d0ac-7cc5aac7980b"
      },
      "source": [
        "Z.shape"
      ],
      "execution_count": 298,
      "outputs": [
        {
          "output_type": "execute_result",
          "data": {
            "text/plain": [
              "(3476,)"
            ]
          },
          "metadata": {
            "tags": []
          },
          "execution_count": 298
        }
      ]
    },
    {
      "cell_type": "code",
      "metadata": {
        "id": "_-ayjF-MfEsV",
        "colab_type": "code",
        "colab": {}
      },
      "source": [
        "Z = Z.reshape(xx.shape)"
      ],
      "execution_count": 0,
      "outputs": []
    },
    {
      "cell_type": "code",
      "metadata": {
        "id": "DBv6lux4fG5F",
        "colab_type": "code",
        "colab": {
          "base_uri": "https://localhost:8080/",
          "height": 35
        },
        "outputId": "354f2253-0595-4d03-f4c5-82573bb77ce5"
      },
      "source": [
        "Z.shape"
      ],
      "execution_count": 300,
      "outputs": [
        {
          "output_type": "execute_result",
          "data": {
            "text/plain": [
              "(44, 79)"
            ]
          },
          "metadata": {
            "tags": []
          },
          "execution_count": 300
        }
      ]
    },
    {
      "cell_type": "code",
      "metadata": {
        "id": "PbcbooPYfHcU",
        "colab_type": "code",
        "colab": {
          "base_uri": "https://localhost:8080/",
          "height": 313
        },
        "outputId": "955ffe03-4938-4c54-cb44-5669435e0792"
      },
      "source": [
        "plt.scatter(X[:, 0], X[:, 1], c=y, alpha=1, cmap = plt.cm.RdYlBu)\n",
        "plt.title('Decision Tree')\n",
        "plt.xlabel('Petal.Length')\n",
        "plt.ylabel('Petal.Width')"
      ],
      "execution_count": 301,
      "outputs": [
        {
          "output_type": "execute_result",
          "data": {
            "text/plain": [
              "Text(0, 0.5, 'Petal.Width')"
            ]
          },
          "metadata": {
            "tags": []
          },
          "execution_count": 301
        },
        {
          "output_type": "display_data",
          "data": {
            "image/png": "[encoded data removed]",
            "text/plain": [
              "<Figure size 432x288 with 1 Axes>"
            ]
          },
          "metadata": {
            "tags": [],
            "needs_background": "light"
          }
        }
      ]
    },
    {
      "cell_type": "code",
      "metadata": {
        "id": "VXkAMsjffMDV",
        "colab_type": "code",
        "colab": {
          "base_uri": "https://localhost:8080/",
          "height": 313
        },
        "outputId": "052ccfa7-5ad0-4fda-fa3b-40864e157d77"
      },
      "source": [
        "plt.contourf(xx, yy, Z, alpha=0.4, cmap = plt.cm.rainbow)\n",
        "plt.scatter(X[:, 0], X[:, 1], c=y, alpha=1, cmap = plt.cm.RdYlBu)\n",
        "plt.title('Decision Tree')\n",
        "plt.xlabel('Petal.Length')\n",
        "plt.ylabel('Petal.Width')"
      ],
      "execution_count": 302,
      "outputs": [
        {
          "output_type": "execute_result",
          "data": {
            "text/plain": [
              "Text(0, 0.5, 'Petal.Width')"
            ]
          },
          "metadata": {
            "tags": []
          },
          "execution_count": 302
        },
        {
          "output_type": "display_data",
          "data": {
            "image/png": "[encoded data removed]",
            "text/plain": [
              "<Figure size 432x288 with 1 Axes>"
            ]
          },
          "metadata": {
            "tags": [],
            "needs_background": "light"
          }
        }
      ]
    },
    {
      "cell_type": "markdown",
      "metadata": {
        "id": "3qwxRkVTjEqP",
        "colab_type": "text"
      },
      "source": [
        "## 分類模型 (*Logistic Regression*)"
      ]
    },
    {
      "cell_type": "code",
      "metadata": {
        "id": "Hu9jX8XffR5V",
        "colab_type": "code",
        "colab": {
          "base_uri": "https://localhost:8080/",
          "height": 332
        },
        "outputId": "72a4c0ac-1320-4a83-d293-f70e49a5e8ff"
      },
      "source": [
        "from sklearn.datasets import load_iris\n",
        "from sklearn.linear_model import LogisticRegression\n",
        "iris = load_iris()\n",
        "clf = LogisticRegression()\n",
        "clf.fit(iris.data, iris.target)\n",
        "clf.predict(iris.data)\n"
      ],
      "execution_count": 303,
      "outputs": [
        {
          "output_type": "stream",
          "text": [
            "/usr/local/lib/python3.6/dist-packages/sklearn/linear_model/_logistic.py:940: ConvergenceWarning:\n",
            "\n",
            "lbfgs failed to converge (status=1):\n",
            "STOP: TOTAL NO. of ITERATIONS REACHED LIMIT.\n",
            "\n",
            "Increase the number of iterations (max_iter) or scale the data as shown in:\n",
            "    https://scikit-learn.org/stable/modules/preprocessing.html\n",
            "Please also refer to the documentation for alternative solver options:\n",
            "    https://scikit-learn.org/stable/modules/linear_model.html#logistic-regression\n",
            "\n"
          ],
          "name": "stderr"
        },
        {
          "output_type": "execute_result",
          "data": {
            "text/plain": [
              "array([0, 0, 0, 0, 0, 0, 0, 0, 0, 0, 0, 0, 0, 0, 0, 0, 0, 0, 0, 0, 0, 0,\n",
              "       0, 0, 0, 0, 0, 0, 0, 0, 0, 0, 0, 0, 0, 0, 0, 0, 0, 0, 0, 0, 0, 0,\n",
              "       0, 0, 0, 0, 0, 0, 1, 1, 1, 1, 1, 1, 1, 1, 1, 1, 1, 1, 1, 1, 1, 1,\n",
              "       1, 1, 1, 1, 2, 1, 1, 1, 1, 1, 1, 2, 1, 1, 1, 1, 1, 2, 1, 1, 1, 1,\n",
              "       1, 1, 1, 1, 1, 1, 1, 1, 1, 1, 1, 1, 2, 2, 2, 2, 2, 2, 1, 2, 2, 2,\n",
              "       2, 2, 2, 2, 2, 2, 2, 2, 2, 2, 2, 2, 2, 2, 2, 2, 2, 2, 2, 2, 2, 2,\n",
              "       2, 2, 2, 2, 2, 2, 2, 2, 2, 2, 2, 2, 2, 2, 2, 2, 2, 2])"
            ]
          },
          "metadata": {
            "tags": []
          },
          "execution_count": 303
        }
      ]
    },
    {
      "cell_type": "code",
      "metadata": {
        "id": "URJL-6LOhwFf",
        "colab_type": "code",
        "colab": {
          "base_uri": "https://localhost:8080/",
          "height": 104
        },
        "outputId": "d6395b59-a9c8-46d1-afac-c75e4261071f"
      },
      "source": [
        "import numpy as np\n",
        "import matplotlib.pyplot as plt\n",
        "from sklearn.datasets import load_iris\n",
        "from sklearn.linear_model import LogisticRegression\n",
        "iris = load_iris()\n",
        "X = iris.data[:, [2, 3]]\n",
        "y = iris.target\n",
        "clf = LogisticRegression()\n",
        "clf.fit(X, y)\n"
      ],
      "execution_count": 304,
      "outputs": [
        {
          "output_type": "execute_result",
          "data": {
            "text/plain": [
              "LogisticRegression(C=1.0, class_weight=None, dual=False, fit_intercept=True,\n",
              "                   intercept_scaling=1, l1_ratio=None, max_iter=100,\n",
              "                   multi_class='auto', n_jobs=None, penalty='l2',\n",
              "                   random_state=None, solver='lbfgs', tol=0.0001, verbose=0,\n",
              "                   warm_start=False)"
            ]
          },
          "metadata": {
            "tags": []
          },
          "execution_count": 304
        }
      ]
    },
    {
      "cell_type": "code",
      "metadata": {
        "id": "Xpi3HaqXibIg",
        "colab_type": "code",
        "colab": {}
      },
      "source": [
        "x_min, x_max = X[:, 0].min() - 1, X[:, 0].max() + 1\n",
        "y_min, y_max = X[:, 1].min() - 1, X[:, 1].max() + 1\n",
        "xx, yy = np.meshgrid(np.arange(x_min, x_max, 0.1), np.arange(y_min, y_max, 0.1))\n"
      ],
      "execution_count": 0,
      "outputs": []
    },
    {
      "cell_type": "code",
      "metadata": {
        "id": "3zbhztewihoN",
        "colab_type": "code",
        "colab": {}
      },
      "source": [
        "dp = np.c_[xx.ravel(), yy.ravel()]\n",
        "Z = clf.predict(dp)\n",
        "Z = Z.reshape(xx.shape)"
      ],
      "execution_count": 0,
      "outputs": []
    },
    {
      "cell_type": "code",
      "metadata": {
        "id": "nRI5bFwDipCB",
        "colab_type": "code",
        "colab": {
          "base_uri": "https://localhost:8080/",
          "height": 313
        },
        "outputId": "31c79a64-4408-4f20-d7a2-9f568f704a5f"
      },
      "source": [
        "plt.contourf(xx, yy, Z, alpha=0.4, cmap = plt.cm.rainbow)\n",
        "plt.scatter(X[:, 0], X[:, 1], c=y, alpha=1, cmap = plt.cm.RdYlBu)\n",
        "plt.title('Logistic Regression')\n",
        "plt.xlabel('Petal.Length')\n",
        "plt.ylabel('Petal.Width')"
      ],
      "execution_count": 308,
      "outputs": [
        {
          "output_type": "execute_result",
          "data": {
            "text/plain": [
              "Text(0, 0.5, 'Petal.Width')"
            ]
          },
          "metadata": {
            "tags": []
          },
          "execution_count": 308
        },
        {
          "output_type": "display_data",
          "data": {
            "image/png": "[encoded data removed]",
            "text/plain": [
              "<Figure size 432x288 with 1 Axes>"
            ]
          },
          "metadata": {
            "tags": [],
            "needs_background": "light"
          }
        }
      ]
    },
    {
      "cell_type": "markdown",
      "metadata": {
        "id": "VseVOUhdl3ke",
        "colab_type": "text"
      },
      "source": [
        "## 模型評估"
      ]
    },
    {
      "cell_type": "code",
      "metadata": {
        "id": "XsvpK-HAirNO",
        "colab_type": "code",
        "colab": {
          "base_uri": "https://localhost:8080/",
          "height": 121
        },
        "outputId": "8b8d1728-21a2-4989-cf3f-8e5bfe49bdf1"
      },
      "source": [
        "from sklearn.tree import DecisionTreeClassifier\n",
        "clf = DecisionTreeClassifier()\n",
        "clf.fit(iris.data, iris.target)"
      ],
      "execution_count": 309,
      "outputs": [
        {
          "output_type": "execute_result",
          "data": {
            "text/plain": [
              "DecisionTreeClassifier(ccp_alpha=0.0, class_weight=None, criterion='gini',\n",
              "                       max_depth=None, max_features=None, max_leaf_nodes=None,\n",
              "                       min_impurity_decrease=0.0, min_impurity_split=None,\n",
              "                       min_samples_leaf=1, min_samples_split=2,\n",
              "                       min_weight_fraction_leaf=0.0, presort='deprecated',\n",
              "                       random_state=None, splitter='best')"
            ]
          },
          "metadata": {
            "tags": []
          },
          "execution_count": 309
        }
      ]
    },
    {
      "cell_type": "code",
      "metadata": {
        "id": "hVsisSOJmDn1",
        "colab_type": "code",
        "colab": {}
      },
      "source": [
        "predicted = clf.predict(iris.data)"
      ],
      "execution_count": 0,
      "outputs": []
    },
    {
      "cell_type": "code",
      "metadata": {
        "id": "34dZUi22mH90",
        "colab_type": "code",
        "colab": {
          "base_uri": "https://localhost:8080/",
          "height": 139
        },
        "outputId": "6334a87f-47ac-40ee-c309-0d2e8ba7678d"
      },
      "source": [
        "predicted"
      ],
      "execution_count": 311,
      "outputs": [
        {
          "output_type": "execute_result",
          "data": {
            "text/plain": [
              "array([0, 0, 0, 0, 0, 0, 0, 0, 0, 0, 0, 0, 0, 0, 0, 0, 0, 0, 0, 0, 0, 0,\n",
              "       0, 0, 0, 0, 0, 0, 0, 0, 0, 0, 0, 0, 0, 0, 0, 0, 0, 0, 0, 0, 0, 0,\n",
              "       0, 0, 0, 0, 0, 0, 1, 1, 1, 1, 1, 1, 1, 1, 1, 1, 1, 1, 1, 1, 1, 1,\n",
              "       1, 1, 1, 1, 1, 1, 1, 1, 1, 1, 1, 1, 1, 1, 1, 1, 1, 1, 1, 1, 1, 1,\n",
              "       1, 1, 1, 1, 1, 1, 1, 1, 1, 1, 1, 1, 2, 2, 2, 2, 2, 2, 2, 2, 2, 2,\n",
              "       2, 2, 2, 2, 2, 2, 2, 2, 2, 2, 2, 2, 2, 2, 2, 2, 2, 2, 2, 2, 2, 2,\n",
              "       2, 2, 2, 2, 2, 2, 2, 2, 2, 2, 2, 2, 2, 2, 2, 2, 2, 2])"
            ]
          },
          "metadata": {
            "tags": []
          },
          "execution_count": 311
        }
      ]
    },
    {
      "cell_type": "code",
      "metadata": {
        "id": "fQ-tAd-GmKmN",
        "colab_type": "code",
        "colab": {
          "base_uri": "https://localhost:8080/",
          "height": 139
        },
        "outputId": "f05d8f88-490a-4df2-eecc-a99b67a5bcf2"
      },
      "source": [
        "iris.target"
      ],
      "execution_count": 312,
      "outputs": [
        {
          "output_type": "execute_result",
          "data": {
            "text/plain": [
              "array([0, 0, 0, 0, 0, 0, 0, 0, 0, 0, 0, 0, 0, 0, 0, 0, 0, 0, 0, 0, 0, 0,\n",
              "       0, 0, 0, 0, 0, 0, 0, 0, 0, 0, 0, 0, 0, 0, 0, 0, 0, 0, 0, 0, 0, 0,\n",
              "       0, 0, 0, 0, 0, 0, 1, 1, 1, 1, 1, 1, 1, 1, 1, 1, 1, 1, 1, 1, 1, 1,\n",
              "       1, 1, 1, 1, 1, 1, 1, 1, 1, 1, 1, 1, 1, 1, 1, 1, 1, 1, 1, 1, 1, 1,\n",
              "       1, 1, 1, 1, 1, 1, 1, 1, 1, 1, 1, 1, 2, 2, 2, 2, 2, 2, 2, 2, 2, 2,\n",
              "       2, 2, 2, 2, 2, 2, 2, 2, 2, 2, 2, 2, 2, 2, 2, 2, 2, 2, 2, 2, 2, 2,\n",
              "       2, 2, 2, 2, 2, 2, 2, 2, 2, 2, 2, 2, 2, 2, 2, 2, 2, 2])"
            ]
          },
          "metadata": {
            "tags": []
          },
          "execution_count": 312
        }
      ]
    },
    {
      "cell_type": "code",
      "metadata": {
        "id": "dhiGoThOmNe0",
        "colab_type": "code",
        "colab": {
          "base_uri": "https://localhost:8080/",
          "height": 35
        },
        "outputId": "bcd4b0b6-7a31-4751-f0a7-e397320f3bf5"
      },
      "source": [
        "(predicted == iris.target).sum() / len(predicted)"
      ],
      "execution_count": 315,
      "outputs": [
        {
          "output_type": "execute_result",
          "data": {
            "text/plain": [
              "1.0"
            ]
          },
          "metadata": {
            "tags": []
          },
          "execution_count": 315
        }
      ]
    },
    {
      "cell_type": "code",
      "metadata": {
        "id": "DurLDZ3TmQyU",
        "colab_type": "code",
        "colab": {
          "base_uri": "https://localhost:8080/",
          "height": 35
        },
        "outputId": "566b984f-4597-4098-e2e8-92873fd50d05"
      },
      "source": [
        "clf = DecisionTreeClassifier(max_depth = 2)\n",
        "clf.fit(iris.data, iris.target)\n",
        "predicted = clf.predict(iris.data)\n",
        "(predicted == iris.target).sum() / len(predicted)"
      ],
      "execution_count": 316,
      "outputs": [
        {
          "output_type": "execute_result",
          "data": {
            "text/plain": [
              "0.96"
            ]
          },
          "metadata": {
            "tags": []
          },
          "execution_count": 316
        }
      ]
    },
    {
      "cell_type": "code",
      "metadata": {
        "id": "v-hYt0GomoGH",
        "colab_type": "code",
        "colab": {
          "base_uri": "https://localhost:8080/",
          "height": 228
        },
        "outputId": "9af326b5-bd3c-46a4-b76c-1dae20dcad72"
      },
      "source": [
        "clf = LogisticRegression()\n",
        "clf.fit(iris.data, iris.target)\n",
        "predicted = clf.predict(iris.data)\n",
        "(predicted == iris.target).sum() / len(predicted)"
      ],
      "execution_count": 317,
      "outputs": [
        {
          "output_type": "stream",
          "text": [
            "/usr/local/lib/python3.6/dist-packages/sklearn/linear_model/_logistic.py:940: ConvergenceWarning:\n",
            "\n",
            "lbfgs failed to converge (status=1):\n",
            "STOP: TOTAL NO. of ITERATIONS REACHED LIMIT.\n",
            "\n",
            "Increase the number of iterations (max_iter) or scale the data as shown in:\n",
            "    https://scikit-learn.org/stable/modules/preprocessing.html\n",
            "Please also refer to the documentation for alternative solver options:\n",
            "    https://scikit-learn.org/stable/modules/linear_model.html#logistic-regression\n",
            "\n"
          ],
          "name": "stderr"
        },
        {
          "output_type": "execute_result",
          "data": {
            "text/plain": [
              "0.9733333333333334"
            ]
          },
          "metadata": {
            "tags": []
          },
          "execution_count": 317
        }
      ]
    },
    {
      "cell_type": "markdown",
      "metadata": {
        "id": "gPxB6fa-o4Ki",
        "colab_type": "text"
      },
      "source": [
        "## 分類模型 (*SVM*)"
      ]
    },
    {
      "cell_type": "code",
      "metadata": {
        "id": "r8mLVZWBmv36",
        "colab_type": "code",
        "colab": {
          "base_uri": "https://localhost:8080/",
          "height": 104
        },
        "outputId": "68f372ec-9168-4e34-f156-45dc28b2d696"
      },
      "source": [
        "X = iris.data[0:100,[2,3]]\n",
        "y = iris.target[0:100]\n",
        "\n",
        "clf1 = SVC(kernel=\"linear\")\n",
        "clf1.fit(X, y)\n",
        "\n",
        "clf2 = LogisticRegression()\n",
        "clf2.fit(X, y)"
      ],
      "execution_count": 319,
      "outputs": [
        {
          "output_type": "execute_result",
          "data": {
            "text/plain": [
              "LogisticRegression(C=1.0, class_weight=None, dual=False, fit_intercept=True,\n",
              "                   intercept_scaling=1, l1_ratio=None, max_iter=100,\n",
              "                   multi_class='auto', n_jobs=None, penalty='l2',\n",
              "                   random_state=None, solver='lbfgs', tol=0.0001, verbose=0,\n",
              "                   warm_start=False)"
            ]
          },
          "metadata": {
            "tags": []
          },
          "execution_count": 319
        }
      ]
    },
    {
      "cell_type": "code",
      "metadata": {
        "id": "Yq9ij8StpVRd",
        "colab_type": "code",
        "colab": {}
      },
      "source": [
        "def plot_estimator(estimator, X, y, title):\n",
        "  x_min, x_max = X[:, 0].min() - 1, X[:, 0].max() + 1\n",
        "  y_min, y_max = X[:, 1].min() - 1, X[:, 1].max() + 1\n",
        "  xx, yy = np.meshgrid(np.arange(x_min, x_max, 0.1),\n",
        "  np.arange(y_min, y_max, 0.1))\n",
        "  Z = estimator.predict(np.c_[xx.ravel(), yy.ravel()])\n",
        "  Z = Z.reshape(xx.shape)\n",
        "  plt.plot()\n",
        "  plt.contourf(xx, yy, Z, alpha=0.4, cmap = plt.cm.RdYlBu)\n",
        "  plt.scatter(X[:, 0], X[:, 1], c=y, cmap = plt.cm.brg)\n",
        "  plt.title(title)\n",
        "  plt.xlabel('Petal.Length')\n",
        "  plt.ylabel('Petal.Width')\n",
        "  plt.show()"
      ],
      "execution_count": 0,
      "outputs": []
    },
    {
      "cell_type": "code",
      "metadata": {
        "id": "0F5L1-Qupmic",
        "colab_type": "code",
        "colab": {
          "base_uri": "https://localhost:8080/",
          "height": 295
        },
        "outputId": "b3c48038-901f-4fa9-be81-d7502ec3b385"
      },
      "source": [
        "plot_estimator(clf1, X, y, 'SVM')"
      ],
      "execution_count": 321,
      "outputs": [
        {
          "output_type": "display_data",
          "data": {
            "image/png": "[encoded data removed]",
            "text/plain": [
              "<Figure size 432x288 with 1 Axes>"
            ]
          },
          "metadata": {
            "tags": [],
            "needs_background": "light"
          }
        }
      ]
    },
    {
      "cell_type": "code",
      "metadata": {
        "id": "PNuMbJD4psaR",
        "colab_type": "code",
        "colab": {
          "base_uri": "https://localhost:8080/",
          "height": 295
        },
        "outputId": "37ae23cd-27c9-4d09-b0ea-7e4233636c21"
      },
      "source": [
        "plot_estimator(clf2, X, y, 'Logistic Regression')"
      ],
      "execution_count": 323,
      "outputs": [
        {
          "output_type": "display_data",
          "data": {
            "image/png": "[encoded data removed]",
            "text/plain": [
              "<Figure size 432x288 with 1 Axes>"
            ]
          },
          "metadata": {
            "tags": [],
            "needs_background": "light"
          }
        }
      ]
    },
    {
      "cell_type": "code",
      "metadata": {
        "id": "e3cxq2lwpufR",
        "colab_type": "code",
        "colab": {}
      },
      "source": [
        "data = np.array([[-1,2,0],[-2,3,0],[-2,5,0],[-3,-4,0],[-0.1,2,0],[0.2,1,1],[0,1,1],[1,2,1], [1,1,1], [-\n",
        "0.4,0.5,1],[2,5,1]])\n",
        "X = data[:, :2]\n",
        "Y = data[:,2]"
      ],
      "execution_count": 0,
      "outputs": []
    },
    {
      "cell_type": "code",
      "metadata": {
        "id": "NisvRxb1q4VV",
        "colab_type": "code",
        "colab": {
          "base_uri": "https://localhost:8080/",
          "height": 573
        },
        "outputId": "f7308527-6319-400f-eca7-f1b32b399e1a"
      },
      "source": [
        "# Large Margin\n",
        "clf = SVC(C=1.0, kernel='linear')\n",
        "clf.fit(X, Y)\n",
        "plot_estimator(clf,X,Y, 'Large Margin, small C')\n",
        "\n",
        "# Narrow Margin\n",
        "clf = SVC(C=100000, kernel='linear')\n",
        "clf.fit(X, Y)\n",
        "plot_estimator(clf,X,Y,'Small Margin, big C')"
      ],
      "execution_count": 328,
      "outputs": [
        {
          "output_type": "display_data",
          "data": {
            "image/png": "[encoded data removed]",
            "text/plain": [
              "<Figure size 432x288 with 1 Axes>"
            ]
          },
          "metadata": {
            "tags": [],
            "needs_background": "light"
          }
        },
        {
          "output_type": "display_data",
          "data": {
            "image/png": "[encoded data removed]",
            "text/plain": [
              "<Figure size 432x288 with 1 Axes>"
            ]
          },
          "metadata": {
            "tags": [],
            "needs_background": "light"
          }
        }
      ]
    },
    {
      "cell_type": "code",
      "metadata": {
        "id": "uN5J5AEbsB2i",
        "colab_type": "code",
        "colab": {}
      },
      "source": [
        "iris = load_iris()\n",
        "X = iris.data[:,[2,3]]\n",
        "y = iris.target"
      ],
      "execution_count": 0,
      "outputs": []
    },
    {
      "cell_type": "code",
      "metadata": {
        "id": "pflu6-Grq9K0",
        "colab_type": "code",
        "colab": {
          "base_uri": "https://localhost:8080/",
          "height": 87
        },
        "outputId": "79cad762-cd39-4a54-fab6-04e89c779284"
      },
      "source": [
        "clf1= SVC(kernel=\"rbf\")\n",
        "clf1.fit(X,y)"
      ],
      "execution_count": 333,
      "outputs": [
        {
          "output_type": "execute_result",
          "data": {
            "text/plain": [
              "SVC(C=1.0, break_ties=False, cache_size=200, class_weight=None, coef0=0.0,\n",
              "    decision_function_shape='ovr', degree=3, gamma='scale', kernel='rbf',\n",
              "    max_iter=-1, probability=False, random_state=None, shrinking=True,\n",
              "    tol=0.001, verbose=False)"
            ]
          },
          "metadata": {
            "tags": []
          },
          "execution_count": 333
        }
      ]
    },
    {
      "cell_type": "code",
      "metadata": {
        "id": "sANITVQ2sASD",
        "colab_type": "code",
        "colab": {
          "base_uri": "https://localhost:8080/",
          "height": 87
        },
        "outputId": "20fbf51b-4817-42b6-df63-bf993c1eff99"
      },
      "source": [
        "clf2= SVC(kernel=\"poly\")\n",
        "clf2.fit(X,y)"
      ],
      "execution_count": 334,
      "outputs": [
        {
          "output_type": "execute_result",
          "data": {
            "text/plain": [
              "SVC(C=1.0, break_ties=False, cache_size=200, class_weight=None, coef0=0.0,\n",
              "    decision_function_shape='ovr', degree=3, gamma='scale', kernel='poly',\n",
              "    max_iter=-1, probability=False, random_state=None, shrinking=True,\n",
              "    tol=0.001, verbose=False)"
            ]
          },
          "metadata": {
            "tags": []
          },
          "execution_count": 334
        }
      ]
    },
    {
      "cell_type": "code",
      "metadata": {
        "id": "NhjFd7GdsGuS",
        "colab_type": "code",
        "colab": {
          "base_uri": "https://localhost:8080/",
          "height": 87
        },
        "outputId": "a2312c01-1683-43af-d1e6-2cb6ca0de95f"
      },
      "source": [
        "clf3= SVC(kernel=\"linear\")\n",
        "clf3.fit(X,y)"
      ],
      "execution_count": 335,
      "outputs": [
        {
          "output_type": "execute_result",
          "data": {
            "text/plain": [
              "SVC(C=1.0, break_ties=False, cache_size=200, class_weight=None, coef0=0.0,\n",
              "    decision_function_shape='ovr', degree=3, gamma='scale', kernel='linear',\n",
              "    max_iter=-1, probability=False, random_state=None, shrinking=True,\n",
              "    tol=0.001, verbose=False)"
            ]
          },
          "metadata": {
            "tags": []
          },
          "execution_count": 335
        }
      ]
    },
    {
      "cell_type": "code",
      "metadata": {
        "id": "RoajnY0isMBS",
        "colab_type": "code",
        "colab": {
          "base_uri": "https://localhost:8080/",
          "height": 218
        },
        "outputId": "cf6e92e9-c994-479c-910d-e3354875537c"
      },
      "source": [
        "x_min, x_max = X[:, 0].min() - 1, X[:, 0].max() + 1\n",
        "y_min, y_max = X[:, 1].min() - 1, X[:, 1].max() + 1\n",
        "xx, yy = np.meshgrid(np.arange(x_min, x_max, 0.1),\n",
        "np.arange(y_min, y_max, 0.1))\n",
        "f, axarr = plt.subplots(1, 3, sharex='col', sharey='row', figsize=(20, 5))\n",
        "for idx, clf, title in zip([0,1,2],[clf1, clf2, clf3], ['rbf'\n",
        ", 'poly', 'linear']):\n",
        "  Z = clf.predict(np.c_[xx.ravel(), yy.ravel()])\n",
        "  Z = Z.reshape(xx.shape)\n",
        "  axarr[idx].contourf(xx, yy, Z, alpha=0.4, cmap = plt.cm.RdYlBu)\n",
        "  axarr[idx].scatter(X[:, 0], X[:, 1], c=y, cmap = plt.cm.brg)\n",
        "  axarr[idx].set_title(title)\n"
      ],
      "execution_count": 336,
      "outputs": [
        {
          "output_type": "display_data",
          "data": {
            "image/png": "[encoded data removed]",
            "text/plain": [
              "<Figure size 1440x360 with 3 Axes>"
            ]
          },
          "metadata": {
            "tags": [],
            "needs_background": "light"
          }
        }
      ]
    },
    {
      "cell_type": "markdown",
      "metadata": {
        "id": "1sbenuaEvAcf",
        "colab_type": "text"
      },
      "source": [
        "## 分類模型 (*Random Forest*)"
      ]
    },
    {
      "cell_type": "code",
      "metadata": {
        "id": "5jHu6Zy-sP3S",
        "colab_type": "code",
        "colab": {}
      },
      "source": [
        "from sklearn.ensemble import RandomForestClassifier\n",
        "iris = load_iris()\n",
        "X = iris.data[:,[0,1]]\n",
        "y = iris.target"
      ],
      "execution_count": 0,
      "outputs": []
    },
    {
      "cell_type": "code",
      "metadata": {
        "id": "FALNwRAhvJue",
        "colab_type": "code",
        "colab": {
          "base_uri": "https://localhost:8080/",
          "height": 295
        },
        "outputId": "61c34b19-c257-4060-c4cb-5d7adf9d10b0"
      },
      "source": [
        "clf = RandomForestClassifier(n_estimators=100,criterion=\"entropy\")\n",
        "clf.fit(X, y)\n",
        "plot_estimator(clf, X, y,'RandomForestClassifier 100')"
      ],
      "execution_count": 338,
      "outputs": [
        {
          "output_type": "display_data",
          "data": {
            "image/png": "[encoded data removed]",
            "text/plain": [
              "<Figure size 432x288 with 1 Axes>"
            ]
          },
          "metadata": {
            "tags": [],
            "needs_background": "light"
          }
        }
      ]
    },
    {
      "cell_type": "code",
      "metadata": {
        "id": "Fy7uNv1AvO7Z",
        "colab_type": "code",
        "colab": {
          "base_uri": "https://localhost:8080/",
          "height": 295
        },
        "outputId": "86fdff61-16a7-4bce-c8f9-f53f39cfe3f1"
      },
      "source": [
        "clf = RandomForestClassifier(n_estimators=1,criterion=\"entropy\")\n",
        "clf.fit(X, y)\n",
        "plot_estimator(clf, X, y,'RandomForestClassifier 1')"
      ],
      "execution_count": 339,
      "outputs": [
        {
          "output_type": "display_data",
          "data": {
            "image/png": "[encoded data removed]",
            "text/plain": [
              "<Figure size 432x288 with 1 Axes>"
            ]
          },
          "metadata": {
            "tags": [],
            "needs_background": "light"
          }
        }
      ]
    },
    {
      "cell_type": "code",
      "metadata": {
        "id": "_UHRAGRYvRh5",
        "colab_type": "code",
        "colab": {
          "base_uri": "https://localhost:8080/",
          "height": 104
        },
        "outputId": "e9fa675f-b43c-4978-fd3a-cd5f1cb203ba"
      },
      "source": [
        "from sklearn.svm import SVC\n",
        "from sklearn.linear_model import LogisticRegression\n",
        "from sklearn.ensemble import RandomForestClassifier\n",
        "from sklearn.tree import DecisionTreeClassifier\n",
        "\n",
        "clf1 = SVC(kernel=\"rbf\")\n",
        "clf1.fit(X, y)\n",
        "clf2 = DecisionTreeClassifier()\n",
        "clf2.fit(X, y)\n",
        "clf3 = RandomForestClassifier(n_estimators=10, criterion=\"entropy\")\n",
        "clf3.fit(X, y)\n",
        "clf4 = LogisticRegression()\n",
        "clf4.fit(X, y)\n"
      ],
      "execution_count": 340,
      "outputs": [
        {
          "output_type": "execute_result",
          "data": {
            "text/plain": [
              "LogisticRegression(C=1.0, class_weight=None, dual=False, fit_intercept=True,\n",
              "                   intercept_scaling=1, l1_ratio=None, max_iter=100,\n",
              "                   multi_class='auto', n_jobs=None, penalty='l2',\n",
              "                   random_state=None, solver='lbfgs', tol=0.0001, verbose=0,\n",
              "                   warm_start=False)"
            ]
          },
          "metadata": {
            "tags": []
          },
          "execution_count": 340
        }
      ]
    },
    {
      "cell_type": "code",
      "metadata": {
        "id": "mKpaZ_ouvoja",
        "colab_type": "code",
        "colab": {
          "base_uri": "https://localhost:8080/",
          "height": 1000
        },
        "outputId": "0751c966-e659-45cb-ebd9-23192f34dfb7"
      },
      "source": [
        "plot_estimator(clf1, X, y, 'SVC')\n",
        "plot_estimator(clf2, X, y, 'DecisionTree')\n",
        "plot_estimator(clf3, X, y, 'RandomForest')\n",
        "plot_estimator(clf4, X, y, 'LogisticRegression')"
      ],
      "execution_count": 341,
      "outputs": [
        {
          "output_type": "display_data",
          "data": {
            "image/png": "[encoded data removed]",
            "text/plain": [
              "<Figure size 432x288 with 1 Axes>"
            ]
          },
          "metadata": {
            "tags": [],
            "needs_background": "light"
          }
        },
        {
          "output_type": "display_data",
          "data": {
            "image/png": "[encoded data removed]",
            "text/plain": [
              "<Figure size 432x288 with 1 Axes>"
            ]
          },
          "metadata": {
            "tags": [],
            "needs_background": "light"
          }
        },
        {
          "output_type": "display_data",
          "data": {
            "image/png": "[encoded data removed]",
            "text/plain": [
              "<Figure size 432x288 with 1 Axes>"
            ]
          },
          "metadata": {
            "tags": [],
            "needs_background": "light"
          }
        },
        {
          "output_type": "display_data",
          "data": {
            "image/png": "[encoded data removed]",
            "text/plain": [
              "<Figure size 432x288 with 1 Axes>"
            ]
          },
          "metadata": {
            "tags": [],
            "needs_background": "light"
          }
        }
      ]
    },
    {
      "cell_type": "code",
      "metadata": {
        "id": "C1TiqGoTv2tQ",
        "colab_type": "code",
        "colab": {
          "base_uri": "https://localhost:8080/",
          "height": 297
        },
        "outputId": "cef32f0e-b312-4d17-801a-f31684a26480"
      },
      "source": [
        "from sklearn.svm import SVC\n",
        "from sklearn.linear_model import LogisticRegression\n",
        "from sklearn.ensemble import RandomForestClassifier\n",
        "from sklearn.tree import DecisionTreeClassifier\n",
        "X = iris.data\n",
        "y = iris.target\n",
        "\n",
        "clf1 = SVC(kernel=\"rbf\")\n",
        "clf1.fit(X, y)\n",
        "\n",
        "clf2 = DecisionTreeClassifier(max_depth = 2)\n",
        "clf2.fit(X, y)\n",
        "\n",
        "clf3 = RandomForestClassifier(n_estimators=10, criterion=\"entropy\")\n",
        "clf3.fit(X, y)\n",
        "\n",
        "clf4 = LogisticRegression()\n",
        "clf4.fit(X, y)\n"
      ],
      "execution_count": 347,
      "outputs": [
        {
          "output_type": "stream",
          "text": [
            "/usr/local/lib/python3.6/dist-packages/sklearn/linear_model/_logistic.py:940: ConvergenceWarning:\n",
            "\n",
            "lbfgs failed to converge (status=1):\n",
            "STOP: TOTAL NO. of ITERATIONS REACHED LIMIT.\n",
            "\n",
            "Increase the number of iterations (max_iter) or scale the data as shown in:\n",
            "    https://scikit-learn.org/stable/modules/preprocessing.html\n",
            "Please also refer to the documentation for alternative solver options:\n",
            "    https://scikit-learn.org/stable/modules/linear_model.html#logistic-regression\n",
            "\n"
          ],
          "name": "stderr"
        },
        {
          "output_type": "execute_result",
          "data": {
            "text/plain": [
              "LogisticRegression(C=1.0, class_weight=None, dual=False, fit_intercept=True,\n",
              "                   intercept_scaling=1, l1_ratio=None, max_iter=100,\n",
              "                   multi_class='auto', n_jobs=None, penalty='l2',\n",
              "                   random_state=None, solver='lbfgs', tol=0.0001, verbose=0,\n",
              "                   warm_start=False)"
            ]
          },
          "metadata": {
            "tags": []
          },
          "execution_count": 347
        }
      ]
    },
    {
      "cell_type": "code",
      "metadata": {
        "id": "7udEyMlvwKlL",
        "colab_type": "code",
        "colab": {
          "base_uri": "https://localhost:8080/",
          "height": 35
        },
        "outputId": "c9813db2-e45b-4954-f6bb-7fdc13f09874"
      },
      "source": [
        "from sklearn.metrics import accuracy_score\n",
        "predicted = clf1.predict(X)\n",
        "accuracy_score(y, predicted)\n"
      ],
      "execution_count": 348,
      "outputs": [
        {
          "output_type": "execute_result",
          "data": {
            "text/plain": [
              "0.9733333333333334"
            ]
          },
          "metadata": {
            "tags": []
          },
          "execution_count": 348
        }
      ]
    },
    {
      "cell_type": "code",
      "metadata": {
        "id": "7akrzsIJwPQL",
        "colab_type": "code",
        "colab": {
          "base_uri": "https://localhost:8080/",
          "height": 35
        },
        "outputId": "5cf0f460-c30a-4e46-9a3f-f9bfcc9d3ce1"
      },
      "source": [
        "predicted = clf2.predict(X)\n",
        "accuracy_score(y, predicted)"
      ],
      "execution_count": 349,
      "outputs": [
        {
          "output_type": "execute_result",
          "data": {
            "text/plain": [
              "0.96"
            ]
          },
          "metadata": {
            "tags": []
          },
          "execution_count": 349
        }
      ]
    },
    {
      "cell_type": "code",
      "metadata": {
        "id": "41jh98eKwf89",
        "colab_type": "code",
        "colab": {
          "base_uri": "https://localhost:8080/",
          "height": 35
        },
        "outputId": "4f73e39f-de26-4c5e-c8bd-7ffbcac99d1f"
      },
      "source": [
        "predicted = clf3.predict(X)\n",
        "accuracy_score(y, predicted)"
      ],
      "execution_count": 350,
      "outputs": [
        {
          "output_type": "execute_result",
          "data": {
            "text/plain": [
              "0.9933333333333333"
            ]
          },
          "metadata": {
            "tags": []
          },
          "execution_count": 350
        }
      ]
    },
    {
      "cell_type": "code",
      "metadata": {
        "id": "i2Y2YgcWwmuc",
        "colab_type": "code",
        "colab": {
          "base_uri": "https://localhost:8080/",
          "height": 35
        },
        "outputId": "839b8bde-e359-4c5e-c679-059f589ceef3"
      },
      "source": [
        "predicted = clf4.predict(X)\n",
        "accuracy_score(y, predicted)"
      ],
      "execution_count": 351,
      "outputs": [
        {
          "output_type": "execute_result",
          "data": {
            "text/plain": [
              "0.9733333333333334"
            ]
          },
          "metadata": {
            "tags": []
          },
          "execution_count": 351
        }
      ]
    },
    {
      "cell_type": "markdown",
      "metadata": {
        "id": "GRfBx_HN2OhC",
        "colab_type": "text"
      },
      "source": [
        "## 分類模型 (*Neural Network*)"
      ]
    },
    {
      "cell_type": "code",
      "metadata": {
        "id": "g2v794kc2Q2I",
        "colab_type": "code",
        "colab": {}
      },
      "source": [
        "X = np.array([20,10,100])\n",
        "W = np.random.randn(3,4)"
      ],
      "execution_count": 0,
      "outputs": []
    },
    {
      "cell_type": "code",
      "metadata": {
        "id": "b3LDGWWX2ef5",
        "colab_type": "code",
        "colab": {}
      },
      "source": [
        "O1 = np.dot(X,W)"
      ],
      "execution_count": 0,
      "outputs": []
    },
    {
      "cell_type": "code",
      "metadata": {
        "id": "fWWdW-n42h-J",
        "colab_type": "code",
        "colab": {}
      },
      "source": [
        "def sigmoid(x):\n",
        "  return 1 / (1 + np.exp(x))"
      ],
      "execution_count": 0,
      "outputs": []
    },
    {
      "cell_type": "code",
      "metadata": {
        "id": "Q0dEDPUE2ykp",
        "colab_type": "code",
        "colab": {}
      },
      "source": [
        "O2 = sigmoid(O1)"
      ],
      "execution_count": 0,
      "outputs": []
    },
    {
      "cell_type": "code",
      "metadata": {
        "id": "lP-mUoBd20NJ",
        "colab_type": "code",
        "colab": {
          "base_uri": "https://localhost:8080/",
          "height": 35
        },
        "outputId": "7e3c3f32-367e-4cca-bfe3-8e67f37df9ae"
      },
      "source": [
        "W2 = np.random.randn(4,1)\n",
        "np.dot(O2, W2)"
      ],
      "execution_count": 359,
      "outputs": [
        {
          "output_type": "execute_result",
          "data": {
            "text/plain": [
              "array([0.11946885])"
            ]
          },
          "metadata": {
            "tags": []
          },
          "execution_count": 359
        }
      ]
    },
    {
      "cell_type": "code",
      "metadata": {
        "id": "0DegvoqN27ra",
        "colab_type": "code",
        "colab": {}
      },
      "source": [
        ""
      ],
      "execution_count": 0,
      "outputs": []
    },
    {
      "cell_type": "markdown",
      "metadata": {
        "id": "h3hN5MqM455e",
        "colab_type": "text"
      },
      "source": [
        "## 作業四 \n",
        "當銀行收到貸款申請時，必須根據客戶的個人檔案決定是否應該要核准貸款\n",
        "\n",
        "如果客戶信用良好，批准貸款\n",
        "如果客戶信用較差，不批准貸款\n",
        "透過分析目的，可將低銀行風險、提升潛在獲利\n",
        "\n",
        "現有一資料集 Creditability  (https://raw.githubusercontent.com/ywchiu/tibamepy/master/data/Creditability.csv)\n",
        "\n",
        "包含客戶特徵\n",
        "\n",
        "- • Account Balance(帳戶餘額): 沒有帳號(1), 沒有餘額 (2), 部分存款 (3)\n",
        "- • Payment Status(付款狀況): 有問題 (1), 付清 (2), 於該銀行沒有問題(3)\n",
        "- • Savings/Stock Value (存款): 沒有, 少於 100, 100 ~ 1,000, 高於1,000\n",
        "- • Employment Length(工作長短): 少於 1 年, 1 ~ 4年, 4 ~ 7年, 高於 7 年\n",
        "- • Sex/Marital Status(性別與婚姻): 男生/女生, 單身/離婚/已婚/鰥夫\n",
        "- • No of Credits at this bank(貸款數): 1, >1\n",
        "- • Guarantor(保人): None, Yes\n",
        "- • Concurrent Credits(其他貸款數): 其他銀行或百貨, None\n",
        "- • ForeignWorker (外國工作者)\n",
        "- • Purpose of Credit(貸款目的): New car, Used car, Home Related, Other\n",
        "\n",
        "預測目標\n",
        "\n",
        "- • Creditability (可信客戶): 1/0\n",
        "\n",
        "請用Python 回答以下問題：\n",
        "\n",
        "- 使用Pandas 將資料讀取到一名為 df 的 DataFrame 中\n",
        "- 請使用Pandas 統計男女別的平均 Credit.Amount\n",
        "- 請使用邏輯式迴歸建立模型 (目標 y 為 Creditability)\n",
        "- 請計算出模型準確度(Accuracy)?"
      ]
    },
    {
      "cell_type": "code",
      "metadata": {
        "id": "Q8zFmrBQ49ju",
        "colab_type": "code",
        "colab": {}
      },
      "source": [
        ""
      ],
      "execution_count": 0,
      "outputs": []
    }
  ]
}