{
 "cells": [
  {
   "cell_type": "markdown",
   "metadata": {},
   "source": [
    "## 英文斷詞"
   ]
  },
  {
   "cell_type": "code",
   "execution_count": null,
   "metadata": {},
   "outputs": [],
   "source": [
    "s = 'this is a book'\n",
    "s.split()"
   ]
  },
  {
   "cell_type": "markdown",
   "metadata": {},
   "source": [
    "## 中文斷詞 - Jieba"
   ]
  },
  {
   "cell_type": "code",
   "execution_count": 3,
   "metadata": {},
   "outputs": [
    {
     "name": "stdout",
     "output_type": "stream",
     "text": [
      "Collecting jieba\n",
      "  Downloading https://files.pythonhosted.org/packages/71/46/c6f9179f73b818d5827202ad1c4a94e371a29473b7f043b736b4dab6b8cd/jieba-0.39.zip (7.3MB)\n",
      "Building wheels for collected packages: jieba\n",
      "  Running setup.py bdist_wheel for jieba: started\n",
      "  Running setup.py bdist_wheel for jieba: finished with status 'done'\n",
      "  Stored in directory: C:\\Users\\USER\\AppData\\Local\\pip\\Cache\\wheels\\c9\\c7\\63\\a9ec0322ccc7c365fd51e475942a82395807186e94f0522243\n",
      "Successfully built jieba\n",
      "Installing collected packages: jieba\n",
      "Successfully installed jieba-0.39\n"
     ]
    },
    {
     "name": "stderr",
     "output_type": "stream",
     "text": [
      "You are using pip version 9.0.1, however version 10.0.1 is available.\n",
      "You should consider upgrading via the 'python -m pip install --upgrade pip' command.\n"
     ]
    }
   ],
   "source": [
    "! pip install jieba"
   ]
  },
  {
   "cell_type": "code",
   "execution_count": 4,
   "metadata": {},
   "outputs": [
    {
     "data": {
      "text/plain": [
       "<generator object Tokenizer.cut at 0x00000000062617D8>"
      ]
     },
     "execution_count": 4,
     "metadata": {},
     "output_type": "execute_result"
    }
   ],
   "source": [
    "import jieba\n",
    "jieba.cut('【499之亂】首遇假日　人潮擠爆雙和營業所')"
   ]
  },
  {
   "cell_type": "code",
   "execution_count": 6,
   "metadata": {},
   "outputs": [
    {
     "name": "stdout",
     "output_type": "stream",
     "text": [
      "【\n",
      "499\n",
      "之亂\n",
      "】\n",
      "首遇\n",
      "假日\n",
      "　\n",
      "人潮\n",
      "擠爆\n",
      "雙和\n",
      "營業所\n"
     ]
    }
   ],
   "source": [
    "jieba.add_word('雙和')\n",
    "jieba.add_word('營業所')\n",
    "jieba.add_word('擠爆')\n",
    "\n",
    "for w in jieba.cut('【499之亂】首遇假日　人潮擠爆雙和營業所'):\n",
    "    print(w)"
   ]
  },
  {
   "cell_type": "code",
   "execution_count": 7,
   "metadata": {},
   "outputs": [
    {
     "data": {
      "text/plain": [
       "['【', '499', '之亂', '】', '首遇', '假日', '\\u3000', '人潮', '擠爆', '雙和', '營業所']"
      ]
     },
     "execution_count": 7,
     "metadata": {},
     "output_type": "execute_result"
    }
   ],
   "source": [
    "list(jieba.cut('【499之亂】首遇假日　人潮擠爆雙和營業所'))"
   ]
  },
  {
   "cell_type": "code",
   "execution_count": 15,
   "metadata": {},
   "outputs": [
    {
     "data": {
      "text/plain": [
       "['',\n",
       " '蘋果',\n",
       " '今日一早抵達營業所',\n",
       " '發現門口已擠滿民眾',\n",
       " '由於今天出了大太陽',\n",
       " '氣溫明顯升高',\n",
       " '許多民眾撐著傘耐著炎熱',\n",
       " '也要搶便宜繼續排下去',\n",
       " '而記者從民眾排隊的末段',\n",
       " '循著人龍徒步走進營業所',\n",
       " '花費將近3分鐘',\n",
       " '甚至有民眾自備小板凳',\n",
       " '準備長期抗戰',\n",
       " '',\n",
       " '突發中心陸運陞',\n",
       " '新北報導',\n",
       " '']"
      ]
     },
     "execution_count": 15,
     "metadata": {},
     "output_type": "execute_result"
    }
   ],
   "source": [
    "import re\n",
    "s = '499之亂遇到第一個假日，許多民眾紛紛起早前來申辦，中華電信雙和營業所被擠爆，所內擠進約2百位民眾，所外民眾排隊人龍長達約3百公尺，而電信業者也加派人手管制，避免民眾擠爆所內，導致動線不流暢，使得辦理速度減緩。'\n",
    "s = '《蘋果》今日一早抵達營業所，發現門口已擠滿民眾，由於今天出了大太陽，氣溫明顯升高，許多民眾撐著傘耐著炎熱，也要搶便宜繼續排下去，而記者從民眾排隊的末段，循著人龍徒步走進營業所，花費將近3分鐘，甚至有民眾自備小板凳，準備長期抗戰。（突發中心陸運陞／新北報導）'\n",
    "re.split('，|。|》|《|／|（|）', s)\n"
   ]
  },
  {
   "cell_type": "code",
   "execution_count": 16,
   "metadata": {},
   "outputs": [
    {
     "name": "stdout",
     "output_type": "stream",
     "text": [
      "Full Mode: 大/ 巨蛋/ 案/ 對/ 市府/ 同仁/ 下/ 封口/ 封口令/ 口令/ / / 柯/ P/ 否/ 認\n"
     ]
    }
   ],
   "source": [
    "seg_list=jieba.cut(\"大巨蛋案對市府同仁下封口令？柯P否認\", cut_all=True)\n",
    "print(\"Full Mode:\", \"/ \".join(seg_list))"
   ]
  },
  {
   "cell_type": "code",
   "execution_count": 18,
   "metadata": {},
   "outputs": [
    {
     "name": "stdout",
     "output_type": "stream",
     "text": [
      "Default Mode: 大/ 巨蛋/ 案對/ 市府/ 同仁/ 下/ 封口令/ ？/ 柯/ P/ 否認\n"
     ]
    }
   ],
   "source": [
    "seg_list=jieba.cut(\"大巨蛋案對市府同仁下封口令？柯P否認\", cut_all=False)\n",
    "print(\"Default Mode:\", \"/ \".join(seg_list))"
   ]
  },
  {
   "cell_type": "code",
   "execution_count": 19,
   "metadata": {},
   "outputs": [
    {
     "name": "stdout",
     "output_type": "stream",
     "text": [
      "Default Mode: 大/ 巨蛋/ 案對/ 市府/ 同仁/ 下/ 封口令/ ？/ 柯/ P/ 否認\n"
     ]
    }
   ],
   "source": [
    "seg_list=jieba.cut(\"大巨蛋案對市府同仁下封口令？柯P否認\")\n",
    "print(\"Default Mode:\", \"/ \".join(seg_list))"
   ]
  },
  {
   "cell_type": "code",
   "execution_count": 24,
   "metadata": {
    "scrolled": true
   },
   "outputs": [],
   "source": [
    "jieba.load_userdict('userdict.txt')"
   ]
  },
  {
   "cell_type": "code",
   "execution_count": 22,
   "metadata": {},
   "outputs": [
    {
     "name": "stdout",
     "output_type": "stream",
     "text": [
      "Default Mode: 大巨蛋/ 案對/ 市府/ 同仁/ 下/ 封口令/ ？/ 柯P/ 否認\n"
     ]
    }
   ],
   "source": [
    "seg_list=jieba.cut(\"大巨蛋案對市府同仁下封口令？柯P否認\")\n",
    "print(\"Default Mode:\", \"/ \".join(seg_list))"
   ]
  },
  {
   "cell_type": "code",
   "execution_count": 25,
   "metadata": {},
   "outputs": [
    {
     "name": "stdout",
     "output_type": "stream",
     "text": [
      "大巨蛋 n\n",
      "案 ng\n",
      "對 p\n",
      "市府 n\n",
      "同仁 nr\n",
      "下 f\n",
      "封口令 n\n",
      "？ x\n",
      "柯P n\n",
      "否認 v\n"
     ]
    }
   ],
   "source": [
    "import jieba.posseg as pseg\n",
    "words=pseg.cut(\"大巨蛋案對市府同仁下封口令？柯P否認\")\n",
    "for w in words:\n",
    "    print(w.word,w.flag)"
   ]
  },
  {
   "cell_type": "code",
   "execution_count": 27,
   "metadata": {},
   "outputs": [
    {
     "name": "stdout",
     "output_type": "stream",
     "text": [
      "大巨蛋 0 3\n",
      "案對 3 5\n",
      "市府 5 7\n",
      "同仁 7 9\n",
      "下 9 10\n",
      "封口令 10 13\n",
      "？ 13 14\n",
      "柯P 14 16\n",
      "否認 16 18\n"
     ]
    }
   ],
   "source": [
    "sentence = \"大巨蛋案對市府同仁下封口令？柯P否認\"\n",
    "words=jieba.tokenize(sentence)\n",
    "for tw in words:\n",
    "    print(tw[0],tw[1],tw[2])"
   ]
  },
  {
   "cell_type": "markdown",
   "metadata": {},
   "source": [
    "## n-gram"
   ]
  },
  {
   "cell_type": "code",
   "execution_count": 29,
   "metadata": {},
   "outputs": [
    {
     "data": {
      "text/plain": [
       "'我們'"
      ]
     },
     "execution_count": 29,
     "metadata": {},
     "output_type": "execute_result"
    }
   ],
   "source": [
    "sentence = '那我們酸民婉君也可以報名嗎'\n",
    "sentence[0:2]\n",
    "sentence[1:3]"
   ]
  },
  {
   "cell_type": "code",
   "execution_count": 32,
   "metadata": {},
   "outputs": [
    {
     "name": "stdout",
     "output_type": "stream",
     "text": [
      "那我\n",
      "我們\n",
      "們酸\n",
      "酸民\n",
      "民婉\n",
      "婉君\n",
      "君也\n",
      "也可\n",
      "可以\n",
      "以報\n",
      "報名\n",
      "名嗎\n"
     ]
    }
   ],
   "source": [
    "for i in range(0, len(sentence) - 2 + 1 ):\n",
    "    print(sentence[i:i+2])"
   ]
  },
  {
   "cell_type": "code",
   "execution_count": 33,
   "metadata": {},
   "outputs": [
    {
     "name": "stdout",
     "output_type": "stream",
     "text": [
      "那我們\n",
      "我們酸\n",
      "們酸民\n",
      "酸民婉\n",
      "民婉君\n",
      "婉君也\n",
      "君也可\n",
      "也可以\n",
      "可以報\n",
      "以報名\n",
      "報名嗎\n"
     ]
    }
   ],
   "source": [
    "for i in range(0, len(sentence) - 3 + 1 ):\n",
    "    print(sentence[i:i+3])"
   ]
  },
  {
   "cell_type": "code",
   "execution_count": 34,
   "metadata": {},
   "outputs": [],
   "source": [
    "def ngram(sentence, n = 2 ):\n",
    "    ret = []\n",
    "    for i in range(0, len(sentence) - n + 1 ):\n",
    "        ret.append(sentence[i:i+n])\n",
    "    return ret"
   ]
  },
  {
   "cell_type": "code",
   "execution_count": 35,
   "metadata": {},
   "outputs": [
    {
     "data": {
      "text/plain": [
       "'那我們酸民婉君也可以報名嗎'"
      ]
     },
     "execution_count": 35,
     "metadata": {},
     "output_type": "execute_result"
    }
   ],
   "source": [
    "sentence"
   ]
  },
  {
   "cell_type": "code",
   "execution_count": 36,
   "metadata": {},
   "outputs": [
    {
     "data": {
      "text/plain": [
       "['那我', '我們', '們酸', '酸民', '民婉', '婉君', '君也', '也可', '可以', '以報', '報名', '名嗎']"
      ]
     },
     "execution_count": 36,
     "metadata": {},
     "output_type": "execute_result"
    }
   ],
   "source": [
    "ngram(sentence)"
   ]
  },
  {
   "cell_type": "code",
   "execution_count": 37,
   "metadata": {},
   "outputs": [
    {
     "data": {
      "text/plain": [
       "['那我們', '我們酸', '們酸民', '酸民婉', '民婉君', '婉君也', '君也可', '也可以', '可以報', '以報名', '報名嗎']"
      ]
     },
     "execution_count": 37,
     "metadata": {},
     "output_type": "execute_result"
    }
   ],
   "source": [
    "ngram(sentence, 3)"
   ]
  },
  {
   "cell_type": "code",
   "execution_count": 38,
   "metadata": {},
   "outputs": [
    {
     "data": {
      "text/plain": [
       "['那我們酸',\n",
       " '我們酸民',\n",
       " '們酸民婉',\n",
       " '酸民婉君',\n",
       " '民婉君也',\n",
       " '婉君也可',\n",
       " '君也可以',\n",
       " '也可以報',\n",
       " '可以報名',\n",
       " '以報名嗎']"
      ]
     },
     "execution_count": 38,
     "metadata": {},
     "output_type": "execute_result"
    }
   ],
   "source": [
    "ngram(sentence, 4)"
   ]
  },
  {
   "cell_type": "code",
   "execution_count": 39,
   "metadata": {},
   "outputs": [],
   "source": [
    "news = '''\n",
    "民眾瘋辦「499方案」，幾乎成了全民運動，但付出高額違約金的同時，有仔細想過值得嗎？\n",
    "\n",
    "大多數「先解後綁」的電信用戶，違約金都在數千元不等，甚至上萬元，這筆錢說穿了，「你當初拿新手機的錢」。\n",
    "\n",
    "也就是當你換新機，又不願一次付出如iPhone X要價2、3萬元，電信業者遂提供類似分期付款的誘因，用高資費綁24或30個月。\n",
    "\n",
    "按照合約精神，貸款若提前清償，銀行會收違約金，因為它可預期的利息收入沒了；何況你當時用便宜價格換新手機。\n",
    "\n",
    "所以與其計算違約金划不划算，不如檢視自己有無換機需求，否則499一次綁兩年或更久，當你在這段期間內想換機，反而失去議價空間。\n",
    "\n",
    "還有，499雖然網路吃到飽，但市話、網內外費率、簡訊等，恐怕都藏有陷阱。\n",
    "\n",
    "羊毛出在羊身上，499綁架你至少兩年，這個算盤打下來，業者不吃虧啊！（即時新聞中心／綜合報導）\n",
    "'''"
   ]
  },
  {
   "cell_type": "code",
   "execution_count": 45,
   "metadata": {},
   "outputs": [
    {
     "name": "stdout",
     "output_type": "stream",
     "text": [
      "499\n",
      "違約金\n",
      "。\n",
      "\n",
      "\n"
     ]
    }
   ],
   "source": [
    "ngrams_ary = ngram(news, 3)\n",
    "\n",
    "from collections import Counter\n",
    "c = Counter(ngrams_ary)\n",
    "for w, cnt in c.items():\n",
    "    if cnt >= 3:\n",
    "        print(w)"
   ]
  },
  {
   "cell_type": "code",
   "execution_count": 56,
   "metadata": {},
   "outputs": [
    {
     "data": {
      "text/plain": [
       "['',\n",
       " '民眾瘋辦',\n",
       " '499方案',\n",
       " '',\n",
       " '幾乎成了全民運動',\n",
       " '但付出高額違約金的同時',\n",
       " '有仔細想過值得嗎',\n",
       " '',\n",
       " '',\n",
       " '大多數',\n",
       " '先解後綁',\n",
       " '的電信用戶',\n",
       " '違約金都在數千元不等',\n",
       " '甚至上萬元',\n",
       " '這筆錢說穿了',\n",
       " '',\n",
       " '你當初拿新手機的錢',\n",
       " '',\n",
       " '',\n",
       " '',\n",
       " '也就是當你換新機',\n",
       " '又不願一次付出如iPhone X要價2',\n",
       " '3萬元',\n",
       " '電信業者遂提供類似分期付款的誘因',\n",
       " '用高資費綁24或30個月',\n",
       " '',\n",
       " '',\n",
       " '按照合約精神',\n",
       " '貸款若提前清償',\n",
       " '銀行會收違約金',\n",
       " '因為它可預期的利息收入沒了',\n",
       " '何況你當時用便宜價格換新手機',\n",
       " '',\n",
       " '',\n",
       " '所以與其計算違約金划不划算',\n",
       " '不如檢視自己有無換機需求',\n",
       " '否則499一次綁兩年或更久',\n",
       " '當你在這段期間內想換機',\n",
       " '反而失去議價空間',\n",
       " '',\n",
       " '',\n",
       " '還有',\n",
       " '499雖然網路吃到飽',\n",
       " '但市話',\n",
       " '網內外費率',\n",
       " '簡訊等',\n",
       " '恐怕都藏有陷阱',\n",
       " '',\n",
       " '',\n",
       " '羊毛出在羊身上',\n",
       " '499綁架你至少兩年',\n",
       " '這個算盤打下來',\n",
       " '業者不吃虧啊',\n",
       " '',\n",
       " '即時新聞中心',\n",
       " '綜合報導',\n",
       " '',\n",
       " '']"
      ]
     },
     "execution_count": 56,
     "metadata": {},
     "output_type": "execute_result"
    }
   ],
   "source": [
    "import re\n",
    "re.split('，|」|「|。|？|／|！|（|、|）|\\n|；',news)"
   ]
  },
  {
   "cell_type": "code",
   "execution_count": 59,
   "metadata": {},
   "outputs": [
    {
     "data": {
      "text/plain": [
       "'但高額的同時'"
      ]
     },
     "execution_count": 59,
     "metadata": {},
     "output_type": "execute_result"
    }
   ],
   "source": [
    "s = '但付出高額違約金的同時'\n",
    "s.replace('違約金','')\n",
    "\n",
    "keywords = ['違約金', '付出']\n",
    "for key in keywords:\n",
    "    s = s.replace(key,'')\n",
    "s\n"
   ]
  },
  {
   "cell_type": "code",
   "execution_count": 60,
   "metadata": {},
   "outputs": [],
   "source": [
    "def removeKey(text,keywords):\n",
    "    for key in keywords:\n",
    "        text= text.replace(key,'')\n",
    "    return text"
   ]
  },
  {
   "cell_type": "code",
   "execution_count": 61,
   "metadata": {},
   "outputs": [
    {
     "data": {
      "text/plain": [
       "'但高額的同時'"
      ]
     },
     "execution_count": 61,
     "metadata": {},
     "output_type": "execute_result"
    }
   ],
   "source": [
    "removeKey('但付出高額違約金的同時',  ['違約金', '付出'])"
   ]
  },
  {
   "cell_type": "markdown",
   "metadata": {},
   "source": [
    "## 長詞優先法"
   ]
  },
  {
   "cell_type": "code",
   "execution_count": 65,
   "metadata": {},
   "outputs": [],
   "source": [
    "news = '''\n",
    "今年加盟中日龍的「平成怪物」松坂大輔，將在明天於東京巨蛋先發對讀賣巨人，這是他今年第4場先發，且是首次在中日主場名古屋巨蛋以外的球場登板，上次在東京巨蛋出賽，已是2009年的事了。\n",
    " \n",
    "松坂隨隊到東京出賽，賽前練習時，特別踩一踩東京巨蛋的投手丘，他上次在這兒比賽是2009年世界棒球經典賽，過去在西武時代，他在東京巨蛋共出賽11場，8勝2敗、防禦率2.44，在這座球場的成績相當出色。\n",
    " \n",
    "今年加入中日後，松坂先發對戰的第1支球隊就是巨人，投5局失3分吞敗，目前3場出賽1勝2敗、防禦率2，而他3場登板都是在名古屋巨蛋，明也是首次到客場比賽。(羅惠齡／綜合報導)\n",
    "'''"
   ]
  },
  {
   "cell_type": "code",
   "execution_count": 68,
   "metadata": {},
   "outputs": [
    {
     "data": {
      "text/plain": [
       "['東京巨蛋', '出賽']"
      ]
     },
     "execution_count": 68,
     "metadata": {},
     "output_type": "execute_result"
    }
   ],
   "source": [
    "import re\n",
    "keywords = [] \n",
    "\n",
    "sentence_ary = re.split('，|」|「|。|？|／|！|（|、|）|\\n|；',news)\n",
    "for n in range(4,1,-1):\n",
    "    words = [] \n",
    "    for sentence in sentence_ary:\n",
    "        text = removeKey(sentence,keywords)\n",
    "        words.extend(ngram(text, n))\n",
    "    c = Counter(words)\n",
    "    for k, v in c.items():\n",
    "        if v >= 4:\n",
    "            keywords.append(k)\n",
    "keywords"
   ]
  },
  {
   "cell_type": "code",
   "execution_count": 74,
   "metadata": {},
   "outputs": [],
   "source": [
    "def longTermFirst(news, keywords_ary, thresh =5):\n",
    "    keywords = keywords_ary\n",
    "\n",
    "    sentence_ary = re.split('，|」|「|。|？|／|！|（|、|）|\\n|；',news)\n",
    "    for n in range(4,1,-1):\n",
    "        words = [] \n",
    "        for sentence in sentence_ary:\n",
    "            text = removeKey(sentence,keywords)\n",
    "            words.extend(ngram(text, n))\n",
    "        c = Counter(words)\n",
    "        for k, v in c.items():\n",
    "            if v >= thresh:\n",
    "                keywords.append(k)\n",
    "    return keywords"
   ]
  },
  {
   "cell_type": "code",
   "execution_count": 70,
   "metadata": {},
   "outputs": [],
   "source": [
    "news = '''\n",
    "隨著小米在5月3日在港交所提交首次公開募股（IPO）申請，小米執行長雷軍不僅可望躍居中國第4大富豪，還有5499名員工將瞬間成為千萬富翁，讓小米的員工成為人人羨慕的對象。\n",
    " \n",
    "只是是這場造富運動，並不是員工人人有份，而是特定的員工才有可能與雷軍與總裁林斌等人一同晉身富貴門。這些沒有辦法同富貴的員工只能大嘆生不逢時。\n",
    " \n",
    "小米上市造創5000多位富翁，成為市場熱議的焦點，只是根據澎湃新聞報導，中國小米離職員工高磊現身說法表示，除了超級大股東之外，小米員工想要晉身成千萬富翁的員工，必需在2012年初前入職，而且工號要在1000號以內，重點是目前仍然在職的部分小米員工，才有可能受惠、晉身成為富豪一族。\n",
    " \n",
    "在過去幾年中小米營運有起有落，當時有不少員工賣出自己擁有的期權（期權指的是員工將來可以用現在價格購買股票的權益，在結算時具是以差值計算受益）\n",
    "，讓自己與晉身成富豪的機會錯身而過扼腕不已，只能看著別人數鈔票而羡慕不已。\n",
    " \n",
    "2017年小米銷售收入已過千億元人民幣，目前有超過1/3的員工持有期權，未來小米公開發行之後，若是能衝刺超過1000億美元的市值，那麼光是小米集團創始人、小米首席執行官雷軍的身價就將達到314億美元，約合新台幣9348億元，僅次於馬化騰、馬雲、李嘉誠的中國第4大富豪。\n",
    " \n",
    "至於聯合創始人的身家也將普遍超過10億美元，約新台幣297.7億元，至於小米的員工除了一般股權獎勵外，早期雷軍為了提高員工向心力，更是慷慨出讓公司股權，讓員工自願持股。\n",
    " \n",
    "如果當初這些買了公司股票的人，在上小米上市後，將可能「賺翻了」，這數千名員工也可能因為公司上市，一舉成為千萬富翁。\n",
    " \n",
    "只是這樣的富貴，對更多的普通員工來說，是否能熬過早年的創業期，並且抵抗其他的誘惑不離職都是問題，因此如此的富貴，可能只是夢一場。\n",
    " \n",
    "由於小米在早期允許員工在股票和現金之間，進行彈性調配比例作為自己的薪酬。 在自願選擇後，有15%的人選擇每月全部拿現金薪水，70%的人拿70%~80%的現金和少數股票，還有15%的人只拿一點生活費但拿較多股票。\n",
    " \n",
    "雷軍說表示，用這樣的做法，讓這樣員工有了創業心態，就會全心投入，因為自己快定，賺了是自己的決策，虧了誰都不怨。\n",
    " \n",
    "在2012年小米進行B輪融資時，雷軍還允許員工自己掏錢投資，當時小米總裁林斌也曾自掏腰包買公司股票，而小米的幾名聯合創始人基本都持股3%左右，至於林斌持股13.3%，若是小米上市後估算林斌的身價約為133億美元，約台幣3959.41億元。\n",
    " \n",
    "截至2018年3月31日，小米總共14513名員工中，5500名員工持有以股份為基礎的獎勵，也就意味著至少有1/3的小米員工擁有期權；粗略算來，這5500名員工平均每人能在小米上市後，可以獲得價值135萬美元的收益，約台幣4018.95億元。\n",
    " \n",
    "小米彈性的報酬體系，再加上自願的投資行為，使公司在初期階段的凝聚力非常強。不過，並非每人都能拿到那麼多期權，因為在小米要拿到期權並不是一件容易的事情。\n",
    " \n",
    "這些期權的擁有者，可能是在2014年或者更早加入小米技術類單位的員工，而且薪資越低期權越多，雖然一般員工基本都有或多或少的期權，但是他們基本上能拿5000到20000股，而且不是每個早期加入小米的員工都擁有期權。\n",
    " \n",
    "高磊說，有很多非技術單位的員工，至今沒有期權；只有某些等級的員工，才可能擁有期權，而數量也不多，大概5000股，並且分5年發給期權，只有特別的人員，據說能拿幾百萬股，他們工號1000以內且在職，才可能拿到；其他員工一般期權都不多，即使1000工號以內，也未必跟著小米上市同登富貴門。\n",
    " \n",
    "另外一名員工陳一之表示，由於小米早期不好找員工，因此給的期權很高，一些普通員工可能都有20萬股，但是隨著小米開始高速成長後，要拿到小米的的期權則變得不容易。\n",
    " \n",
    "另外，先前雷軍讓員工在薪水與股票中做彈性薪資選項，有的多領現金的員工想反悔改領股票，之後也都被雷軍回絕了。\n",
    " \n",
    "隨著小米上市，這些與財富錯身而過的小米員工，或許會懊悔自己當時的抉擇吧！（財經中心／台北報導）\n",
    "'''"
   ]
  },
  {
   "cell_type": "code",
   "execution_count": 76,
   "metadata": {},
   "outputs": [
    {
     "data": {
      "text/plain": [
       "['員工', '000', '小米', '雷軍', '可能', '期權', '股票']"
      ]
     },
     "execution_count": 76,
     "metadata": {},
     "output_type": "execute_result"
    }
   ],
   "source": [
    "longTermFirst(news, ['員工'], 8)"
   ]
  },
  {
   "cell_type": "markdown",
   "metadata": {},
   "source": [
    "## 使用爬蟲擴增字典"
   ]
  },
  {
   "cell_type": "code",
   "execution_count": 79,
   "metadata": {},
   "outputs": [],
   "source": [
    "import requests\n",
    "res = requests.get('http://news.ltn.com.tw/news/life/breakingnews/2423568')\n",
    "\n",
    "from bs4 import BeautifulSoup\n",
    "soup = BeautifulSoup(res.text, 'lxml')\n",
    "keywords = [w.text for w in soup.select('.keyword a')]"
   ]
  },
  {
   "cell_type": "code",
   "execution_count": 81,
   "metadata": {},
   "outputs": [],
   "source": [
    "with open('userdict.txt', 'a', encoding='utf-8') as f:\n",
    "    f.write('\\n'.join(keywords))"
   ]
  },
  {
   "cell_type": "markdown",
   "metadata": {},
   "source": [
    "## 利用Google找尋關鍵字"
   ]
  },
  {
   "cell_type": "code",
   "execution_count": 86,
   "metadata": {},
   "outputs": [
    {
     "data": {
      "text/plain": [
       "['臺灣大哥大|',\n",
       " [['臺灣大哥大 499', 0, [131]],\n",
       "  ['臺灣大哥大 客服', 0],\n",
       "  ['臺灣大哥大 吃到飽', 0],\n",
       "  ['臺灣大哥大 續約', 0],\n",
       "  ['臺灣大哥大 預付卡', 0],\n",
       "  ['臺灣大哥大 學生專案', 0],\n",
       "  ['臺灣大哥大 攜碼', 0],\n",
       "  ['臺灣大哥大 漫遊', 0],\n",
       "  ['臺灣大哥大 日本', 0],\n",
       "  ['臺灣大哥大 繳費', 0]],\n",
       " {'j': '3l',\n",
       "  'k': 1,\n",
       "  'q': 'PMvTJEn4CUmbrW_YRC4J7UZFzR8',\n",
       "  't': {'bpc': False, 'tlw': False}}]"
      ]
     },
     "execution_count": 86,
     "metadata": {},
     "output_type": "execute_result"
    }
   ],
   "source": [
    "import requests\n",
    "headers = {\n",
    "   'user-agent': 'Mozilla/5.0 (Windows NT 6.1; Win64; x64) AppleWebKit/537.36 (KHTML, like Gecko) Chrome/66.0.3359.139 Safari/537.36'     \n",
    "}\n",
    "term = '臺灣大哥大|'\n",
    "res = requests.get('https://www.google.com.tw/complete/search?client=psy-ab&hl=en-TW&gs_rn=64&gs_ri=psy-ab&pq=google%20trends%20taiwan&cp=1&gs_id=3l&q={}&xhr=t'.format(term), headers = headers)\n",
    "res.json()"
   ]
  },
  {
   "cell_type": "markdown",
   "metadata": {},
   "source": [
    "## 詞頻統計"
   ]
  },
  {
   "cell_type": "code",
   "execution_count": 100,
   "metadata": {},
   "outputs": [
    {
     "name": "stdout",
     "output_type": "stream",
     "text": [
      "小米 32\n",
      "員工 18\n",
      "期權 11\n",
      "可能 9\n",
      "上市 7\n",
      "自己 7\n",
      "股票 6\n",
      "美元 5\n",
      "富豪 4\n",
      "成為 4\n",
      "富翁 4\n",
      "只是 4\n",
      "林斌 4\n",
      "這些 4\n",
      "擁有 4\n",
      "台幣 4\n",
      "億元 4\n",
      "早期 4\n",
      "拿到 4\n",
      "隨著 3\n"
     ]
    }
   ],
   "source": [
    "from collections import Counter\n",
    "import re\n",
    "\n",
    "# method 1\n",
    "words = []\n",
    "for w in list(jieba.cut(news)):\n",
    "    if len(w) >= 2 and re.match('[\\u4e00-\\u9fa5]+', w):\n",
    "        words.append(w)\n",
    "\n",
    "# method 2\n",
    "words = [w for w in list(jieba.cut(news)) if len(w) >= 2 and re.match('[\\u4e00-\\u9fa5]+', w)]\n",
    "\n",
    "c = Counter(words)\n",
    "for k,v in c.most_common(20):\n",
    "    print(k,v)"
   ]
  },
  {
   "cell_type": "code",
   "execution_count": 101,
   "metadata": {},
   "outputs": [],
   "source": [
    "def getFreqWords(news , freq):\n",
    "    words = [w for w in list(jieba.cut(news)) if len(w) >= 2 and re.match('[\\u4e00-\\u9fa5]+', w)]\n",
    "    c = Counter(words)\n",
    "    return c.most_common(freq)"
   ]
  },
  {
   "cell_type": "code",
   "execution_count": 102,
   "metadata": {},
   "outputs": [],
   "source": [
    "news = '''\n",
    "教育部上月底退回中研院院士管中閔的台大校長聘任案，台大今天早上將召開臨時校務會議討論因應。今天討論案由為「因應教育部107年5月4日發函本校應迅即重啟校長遴選程序案與釐清大學自治的範圍」，並提出「建請教育部依大學法規定，處理大學校長遴選結果等大學自治事項」等4點建議。\n",
    " \n",
    "管中閔在今年1月5號獲遴委會選為新任校長，但當選後傳出未揭露兼任台灣大哥大獨董，與台大遴選委員富邦金董事長蔡明興有利益衝突；並遭指違法兼職，另遭指論文涉嫌抄襲、赴中兼職等問題。\n",
    " \n",
    "儘管台大遴委會重新開會認定當選無疑義，但外界質疑聲浪不斷，教育部前部長潘文忠下台前呼籲管應出面說明，新任教育部長吳茂昆則在4月底駁回管中閔的台大校長聘任案，台大在4月底宣布台大原先對外宣稱要提出行政救濟，以釐清大學校長遴選是否屬大學自治核心領域事項，代理校長郭大維也決定在今天舉行臨時校務會議，討論案由為「因應教育部107年5月4日發函本校應迅即重啟校長遴選程序案與釐清大學自治的範圍」。\n",
    " \n",
    "今天這場校務會議中，另有4點建議的決議草案，包括建請教育部依《大學法》規定，處理大學校長遴選結果等大學自治事項，另有組成專案小組，研議校務會議對外聲明，展現台大高度與責任，希望透過校務會議發揮集體智慧，提出因應之道。（生活中心／台北報導）\n",
    "'''"
   ]
  },
  {
   "cell_type": "code",
   "execution_count": 106,
   "metadata": {},
   "outputs": [
    {
     "name": "stdout",
     "output_type": "stream",
     "text": [
      "教育部 7\n",
      "校長 7\n",
      "大學 7\n",
      "台大 6\n",
      "校務會議 5\n",
      "遴選 5\n",
      "自治 5\n",
      "今天 4\n",
      "因應 4\n",
      "管中閔 3\n",
      "討論 3\n",
      "釐清 3\n",
      "提出 3\n",
      "事項 3\n",
      "大校 2\n",
      "聘任 2\n",
      "臨時 2\n",
      "案由 2\n",
      "發函 2\n",
      "本校 2\n",
      "迅即 2\n",
      "重啟 2\n",
      "程序 2\n",
      "範圍 2\n",
      "建請 2\n",
      "規定 2\n",
      "處理 2\n",
      "結果 2\n",
      "點建議 2\n",
      "遴委會 2\n"
     ]
    }
   ],
   "source": [
    "jieba.load_userdict('userdict.txt')\n",
    "for k,v in getFreqWords(news , 30):\n",
    "    print(k,v)"
   ]
  },
  {
   "cell_type": "markdown",
   "metadata": {},
   "source": [
    "## 計算tf-idf"
   ]
  },
  {
   "cell_type": "code",
   "execution_count": 107,
   "metadata": {},
   "outputs": [],
   "source": [
    "a,abb,abc=[\"a\"],[\"a\",\"b\",\"b\"],[\"a\",\"b\",\"c\"]\n",
    "D=[a,abb,abc]"
   ]
  },
  {
   "cell_type": "code",
   "execution_count": 109,
   "metadata": {},
   "outputs": [
    {
     "data": {
      "text/plain": [
       "0.0"
      ]
     },
     "execution_count": 109,
     "metadata": {},
     "output_type": "execute_result"
    }
   ],
   "source": [
    "import scipy \n",
    "\n",
    "#tfidf('a', a, D)\n",
    "tf  = 1/1\n",
    "idf = scipy.log(3/3)\n",
    "tf * idf"
   ]
  },
  {
   "cell_type": "code",
   "execution_count": 110,
   "metadata": {},
   "outputs": [
    {
     "data": {
      "text/plain": [
       "0.0"
      ]
     },
     "execution_count": 110,
     "metadata": {},
     "output_type": "execute_result"
    }
   ],
   "source": [
    "#tfidf('a', abb, D)\n",
    "tf   = 1/3\n",
    "idf  = scipy.log(3/3)\n",
    "tf * idf"
   ]
  },
  {
   "cell_type": "code",
   "execution_count": 111,
   "metadata": {},
   "outputs": [
    {
     "data": {
      "text/plain": [
       "0.27031007207210955"
      ]
     },
     "execution_count": 111,
     "metadata": {},
     "output_type": "execute_result"
    }
   ],
   "source": [
    "#tfidf('b', abb, D)\n",
    "tf   = 2/3\n",
    "idf  = scipy.log(3/2)\n",
    "tf * idf"
   ]
  },
  {
   "cell_type": "code",
   "execution_count": 113,
   "metadata": {},
   "outputs": [
    {
     "data": {
      "text/plain": [
       "0.0"
      ]
     },
     "execution_count": 113,
     "metadata": {},
     "output_type": "execute_result"
    }
   ],
   "source": [
    "#tfidf('a', abc, D)\n",
    "tf   = 1/3\n",
    "idf  = scipy.log(3/3)\n",
    "tf * idf"
   ]
  },
  {
   "cell_type": "code",
   "execution_count": 114,
   "metadata": {},
   "outputs": [
    {
     "data": {
      "text/plain": [
       "0.13515503603605478"
      ]
     },
     "execution_count": 114,
     "metadata": {},
     "output_type": "execute_result"
    }
   ],
   "source": [
    "#tfidf('b', abc, D)\n",
    "tf   = 1/3\n",
    "idf  = scipy.log(3/2)\n",
    "tf * idf"
   ]
  },
  {
   "cell_type": "code",
   "execution_count": 115,
   "metadata": {},
   "outputs": [
    {
     "data": {
      "text/plain": [
       "0.3662040962227032"
      ]
     },
     "execution_count": 115,
     "metadata": {},
     "output_type": "execute_result"
    }
   ],
   "source": [
    "#tfidf('c', abc, D)\n",
    "tf   = 1/3\n",
    "idf  = scipy.log(3/1)\n",
    "tf * idf"
   ]
  },
  {
   "cell_type": "code",
   "execution_count": 116,
   "metadata": {},
   "outputs": [],
   "source": [
    "a,abb,abc=[\"a\"],[\"a\",\"b\",\"b\"],[\"a\",\"b\",\"c\"]\n",
    "D=[a,abb,abc]\n",
    "\n",
    "def tfidf(t, d, D):\n",
    "    tf  = d.count(t) / len(d)\n",
    "    idf = scipy.log(len(D) / len([doc for doc in D if t in doc])) \n",
    "    return tf * idf"
   ]
  },
  {
   "cell_type": "code",
   "execution_count": 118,
   "metadata": {},
   "outputs": [
    {
     "data": {
      "text/plain": [
       "0.13515503603605478"
      ]
     },
     "execution_count": 118,
     "metadata": {},
     "output_type": "execute_result"
    }
   ],
   "source": [
    "tfidf('b', abc, D)"
   ]
  },
  {
   "cell_type": "code",
   "execution_count": 117,
   "metadata": {},
   "outputs": [
    {
     "data": {
      "text/plain": [
       "0.3662040962227032"
      ]
     },
     "execution_count": 117,
     "metadata": {},
     "output_type": "execute_result"
    }
   ],
   "source": [
    "tfidf('c', abc, D)"
   ]
  },
  {
   "cell_type": "code",
   "execution_count": 121,
   "metadata": {},
   "outputs": [
    {
     "data": {
      "text/plain": [
       "['校長',\n",
       " '大學',\n",
       " '校務會議',\n",
       " '遴選',\n",
       " '教育部',\n",
       " '台大',\n",
       " '因應',\n",
       " '自治',\n",
       " '管中閔',\n",
       " '討論',\n",
       " '釐清',\n",
       " '事項',\n",
       " '臨時',\n",
       " '案由',\n",
       " '107',\n",
       " '發函',\n",
       " '重啟',\n",
       " '範圍',\n",
       " '建請',\n",
       " '規定']"
      ]
     },
     "execution_count": 121,
     "metadata": {},
     "output_type": "execute_result"
    }
   ],
   "source": [
    "# do not use this , unless you do maintain the idf.txt \n",
    "jieba.analyse.extract_tags(news, topK=20, withWeight=False, allowPOS=())"
   ]
  },
  {
   "cell_type": "code",
   "execution_count": 123,
   "metadata": {},
   "outputs": [
    {
     "data": {
      "text/plain": [
       "['大學',\n",
       " '校長',\n",
       " '遴選',\n",
       " '教育部',\n",
       " '校務',\n",
       " '台大',\n",
       " '會議',\n",
       " '自治',\n",
       " '兼職',\n",
       " '提出',\n",
       " '建請',\n",
       " '事項',\n",
       " '處理',\n",
       " '結果',\n",
       " '規定',\n",
       " '遭指',\n",
       " '新任',\n",
       " '大校',\n",
       " '遴委',\n",
       " '指論']"
      ]
     },
     "execution_count": 123,
     "metadata": {},
     "output_type": "execute_result"
    }
   ],
   "source": [
    "jieba.analyse.textrank(news, topK=20, withWeight=False)"
   ]
  },
  {
   "cell_type": "markdown",
   "metadata": {},
   "source": [
    "## 詞頻矩陣"
   ]
  },
  {
   "cell_type": "code",
   "execution_count": 138,
   "metadata": {},
   "outputs": [
    {
     "data": {
      "text/plain": [
       "['想辦 中華 499 專案 ？ 南投 部分 據點 假日 加班',\n",
       " '499   之亂 碰上 假日 更猛 ！   門市 一 早就 被 擠爆',\n",
       " '499   之亂 陷入 瘋狂   民眾 以 肉身 阻擋 門市 關門']"
      ]
     },
     "execution_count": 138,
     "metadata": {},
     "output_type": "execute_result"
    }
   ],
   "source": [
    "jieba.load_userdict('userdict.txt')\n",
    "\n",
    "ary = [\n",
    "  '想辦中華499專案？南投部分據點假日加班' ,\n",
    "  '499 之亂碰上假日更猛！ 門市一早就被擠爆',\n",
    "  '499 之亂陷入瘋狂 民眾以肉身阻擋門市關門'  \n",
    "]\n",
    "\n",
    "corpus = [' '.join(jieba.cut(sentence)) for sentence in ary]\n",
    "corpus"
   ]
  },
  {
   "cell_type": "code",
   "execution_count": 139,
   "metadata": {},
   "outputs": [
    {
     "data": {
      "text/plain": [
       "<3x21 sparse matrix of type '<class 'numpy.int64'>'\n",
       "\twith 26 stored elements in Compressed Sparse Row format>"
      ]
     },
     "execution_count": 139,
     "metadata": {},
     "output_type": "execute_result"
    }
   ],
   "source": [
    "from sklearn.feature_extraction.text import CountVectorizer\n",
    "vectorizer = CountVectorizer()\n",
    "X = vectorizer.fit_transform(corpus)\n",
    "X"
   ]
  },
  {
   "cell_type": "code",
   "execution_count": 140,
   "metadata": {},
   "outputs": [
    {
     "name": "stdout",
     "output_type": "stream",
     "text": [
      "['499', '中華', '之亂', '假日', '加班', '南投', '專案', '想辦', '據點', '擠爆', '早就', '更猛', '民眾', '瘋狂', '碰上', '肉身', '部分', '門市', '關門', '阻擋', '陷入']\n"
     ]
    },
    {
     "data": {
      "text/plain": [
       "array([[1, 1, 0, 1, 1, 1, 1, 1, 1, 0, 0, 0, 0, 0, 0, 0, 1, 0, 0, 0, 0],\n",
       "       [1, 0, 1, 1, 0, 0, 0, 0, 0, 1, 1, 1, 0, 0, 1, 0, 0, 1, 0, 0, 0],\n",
       "       [1, 0, 1, 0, 0, 0, 0, 0, 0, 0, 0, 0, 1, 1, 0, 1, 0, 1, 1, 1, 1]],\n",
       "      dtype=int64)"
      ]
     },
     "execution_count": 140,
     "metadata": {},
     "output_type": "execute_result"
    }
   ],
   "source": [
    "print(vectorizer.get_feature_names())\n",
    "X.toarray()"
   ]
  },
  {
   "cell_type": "code",
   "execution_count": 141,
   "metadata": {},
   "outputs": [
    {
     "data": {
      "text/plain": [
       "<3x21 sparse matrix of type '<class 'numpy.float64'>'\n",
       "\twith 26 stored elements in Compressed Sparse Row format>"
      ]
     },
     "execution_count": 141,
     "metadata": {},
     "output_type": "execute_result"
    }
   ],
   "source": [
    "from sklearn.feature_extraction.text import TfidfVectorizer\n",
    "vectorizer = TfidfVectorizer()\n",
    "X = vectorizer.fit_transform(corpus)\n",
    "X"
   ]
  },
  {
   "cell_type": "code",
   "execution_count": 142,
   "metadata": {},
   "outputs": [
    {
     "name": "stdout",
     "output_type": "stream",
     "text": [
      "['499', '中華', '之亂', '假日', '加班', '南投', '專案', '想辦', '據點', '擠爆', '早就', '更猛', '民眾', '瘋狂', '碰上', '肉身', '部分', '門市', '關門', '阻擋', '陷入']\n"
     ]
    },
    {
     "data": {
      "text/plain": [
       "array([[0.20977061, 0.35517252, 0.        , 0.27011786, 0.35517252,\n",
       "        0.35517252, 0.35517252, 0.35517252, 0.35517252, 0.        ,\n",
       "        0.        , 0.        , 0.        , 0.        , 0.        ,\n",
       "        0.        , 0.35517252, 0.        , 0.        , 0.        ,\n",
       "        0.        ],\n",
       "       [0.2394472 , 0.        , 0.30833187, 0.30833187, 0.        ,\n",
       "        0.        , 0.        , 0.        , 0.        , 0.40541935,\n",
       "        0.40541935, 0.40541935, 0.        , 0.        , 0.40541935,\n",
       "        0.        , 0.        , 0.30833187, 0.        , 0.        ,\n",
       "        0.        ],\n",
       "       [0.21558166, 0.        , 0.27760064, 0.        , 0.        ,\n",
       "        0.        , 0.        , 0.        , 0.        , 0.        ,\n",
       "        0.        , 0.        , 0.36501149, 0.36501149, 0.        ,\n",
       "        0.36501149, 0.        , 0.27760064, 0.36501149, 0.36501149,\n",
       "        0.36501149]])"
      ]
     },
     "execution_count": 142,
     "metadata": {},
     "output_type": "execute_result"
    }
   ],
   "source": [
    "print(vectorizer.get_feature_names())\n",
    "X.toarray()"
   ]
  },
  {
   "cell_type": "code",
   "execution_count": 143,
   "metadata": {},
   "outputs": [
    {
     "data": {
      "text/plain": [
       "<3x21 sparse matrix of type '<class 'numpy.int64'>'\n",
       "\twith 26 stored elements in Compressed Sparse Row format>"
      ]
     },
     "execution_count": 143,
     "metadata": {},
     "output_type": "execute_result"
    }
   ],
   "source": [
    "from sklearn.feature_extraction.text import CountVectorizer\n",
    "vectorizer = CountVectorizer()\n",
    "X = vectorizer.fit_transform(corpus)\n",
    "X"
   ]
  },
  {
   "cell_type": "code",
   "execution_count": 145,
   "metadata": {},
   "outputs": [
    {
     "data": {
      "text/plain": [
       "array([[1, 1, 0, 1, 1, 1, 1, 1, 1, 0, 0, 0, 0, 0, 0, 0, 1, 0, 0, 0, 0],\n",
       "       [1, 0, 1, 1, 0, 0, 0, 0, 0, 1, 1, 1, 0, 0, 1, 0, 0, 1, 0, 0, 0],\n",
       "       [1, 0, 1, 0, 0, 0, 0, 0, 0, 0, 0, 0, 1, 1, 0, 1, 0, 1, 1, 1, 1]],\n",
       "      dtype=int64)"
      ]
     },
     "execution_count": 145,
     "metadata": {},
     "output_type": "execute_result"
    }
   ],
   "source": [
    "X.toarray()"
   ]
  },
  {
   "cell_type": "code",
   "execution_count": 155,
   "metadata": {},
   "outputs": [
    {
     "data": {
      "text/plain": [
       "3.605551275463989"
      ]
     },
     "execution_count": 155,
     "metadata": {},
     "output_type": "execute_result"
    }
   ],
   "source": [
    "import numpy \n",
    "numpy.sqrt(sum(((X[0] - X[1]).toarray() ** 2).flatten()))"
   ]
  },
  {
   "cell_type": "code",
   "execution_count": 156,
   "metadata": {},
   "outputs": [
    {
     "data": {
      "text/plain": [
       "4.0"
      ]
     },
     "execution_count": 156,
     "metadata": {},
     "output_type": "execute_result"
    }
   ],
   "source": [
    "numpy.sqrt(sum(((X[0] - X[2]).toarray() ** 2).flatten()))"
   ]
  },
  {
   "cell_type": "code",
   "execution_count": 157,
   "metadata": {},
   "outputs": [
    {
     "data": {
      "text/plain": [
       "3.3166247903554"
      ]
     },
     "execution_count": 157,
     "metadata": {},
     "output_type": "execute_result"
    }
   ],
   "source": [
    "numpy.sqrt(sum(((X[1] - X[2]).toarray() ** 2).flatten()))"
   ]
  },
  {
   "cell_type": "code",
   "execution_count": 162,
   "metadata": {},
   "outputs": [
    {
     "data": {
      "text/plain": [
       "3.7416573867739413"
      ]
     },
     "execution_count": 162,
     "metadata": {},
     "output_type": "execute_result"
    }
   ],
   "source": [
    "# 499 中華 電信 繳費.... .....\n",
    "s1 = numpy.array([1,1,1,0,0,0,0,0,0,0,0,0,0,0,0,0,0])\n",
    "s2 = numpy.array([1,1,1,1,1,1,1,1,1,1,1,1,1,1,1,1,1])\n",
    "\n",
    "#euclidean deistance: sqrt(sum((s1 - s2) ^ 2))\n",
    "numpy.sqrt(sum((s1 - s2) ** 2))"
   ]
  },
  {
   "cell_type": "code",
   "execution_count": 165,
   "metadata": {},
   "outputs": [
    {
     "data": {
      "text/plain": [
       "0.420084025208403"
      ]
     },
     "execution_count": 165,
     "metadata": {},
     "output_type": "execute_result"
    }
   ],
   "source": [
    "# cosine distance: s1 。 s2 / |s1| X |s2|\n",
    "sum(s1 * s2) / (numpy.sqrt(sum(s1 ** 2)) * numpy.sqrt(sum(s2 ** 2)))"
   ]
  },
  {
   "cell_type": "code",
   "execution_count": 166,
   "metadata": {},
   "outputs": [
    {
     "data": {
      "text/plain": [
       "array([[1.        , 0.23570226, 0.11111111],\n",
       "       [0.23570226, 1.        , 0.35355339],\n",
       "       [0.11111111, 0.35355339, 1.        ]])"
      ]
     },
     "execution_count": 166,
     "metadata": {},
     "output_type": "execute_result"
    }
   ],
   "source": [
    "# similarity = 1 - distance\n",
    "from sklearn.metrics.pairwise import cosine_similarity\n",
    "cosine_similarity(X)"
   ]
  },
  {
   "cell_type": "markdown",
   "metadata": {},
   "source": [
    "## 蒐集蘋果日報新聞標題"
   ]
  },
  {
   "cell_type": "code",
   "execution_count": 169,
   "metadata": {},
   "outputs": [],
   "source": [
    "import requests\n",
    "from bs4 import BeautifulSoup\n",
    "\n",
    "#page = 30\n",
    "titles = []\n",
    "for page in range(1,51):\n",
    "    res  = requests.get('https://tw.appledaily.com/new/realtime/{}'.format(page))\n",
    "    soup = BeautifulSoup(res.text, 'lxml')\n",
    "    titles.extend([t.text for t in soup.select('font')])"
   ]
  },
  {
   "cell_type": "code",
   "execution_count": 174,
   "metadata": {},
   "outputs": [],
   "source": [
    "import pandas\n",
    "df = pandas.DataFrame(titles)\n",
    "df.columns = ['title']\n",
    "df['title'] = df['title'].map(lambda e: str(e).split('(')[0])\n",
    "df.to_csv('20180512appledaily.csv', encoding = 'utf-8-sig')"
   ]
  },
  {
   "cell_type": "code",
   "execution_count": 176,
   "metadata": {},
   "outputs": [
    {
     "data": {
      "text/html": [
       "<div>\n",
       "<style scoped>\n",
       "    .dataframe tbody tr th:only-of-type {\n",
       "        vertical-align: middle;\n",
       "    }\n",
       "\n",
       "    .dataframe tbody tr th {\n",
       "        vertical-align: top;\n",
       "    }\n",
       "\n",
       "    .dataframe thead th {\n",
       "        text-align: right;\n",
       "    }\n",
       "</style>\n",
       "<table border=\"1\" class=\"dataframe\">\n",
       "  <thead>\n",
       "    <tr style=\"text-align: right;\">\n",
       "      <th></th>\n",
       "      <th>title</th>\n",
       "    </tr>\n",
       "  </thead>\n",
       "  <tbody>\n",
       "    <tr>\n",
       "      <th>0</th>\n",
       "      <td>謝忻心疼「媽媽被吼」　499之亂遭遷怒</td>\n",
       "    </tr>\n",
       "    <tr>\n",
       "      <th>1</th>\n",
       "      <td>【卡該這樣刷】稅和保費國人最愛用刷卡支付</td>\n",
       "    </tr>\n",
       "    <tr>\n",
       "      <th>2</th>\n",
       "      <td>【核准片】富士康FII  A股上市准了　...</td>\n",
       "    </tr>\n",
       "    <tr>\n",
       "      <th>3</th>\n",
       "      <td>富士康拖64天才獲IPO批文　原因是這個</td>\n",
       "    </tr>\n",
       "    <tr>\n",
       "      <th>4</th>\n",
       "      <td>戴正吳太厲害　夏普高管讚「無可取代」</td>\n",
       "    </tr>\n",
       "  </tbody>\n",
       "</table>\n",
       "</div>"
      ],
      "text/plain": [
       "                     title\n",
       "0      謝忻心疼「媽媽被吼」　499之亂遭遷怒\n",
       "1     【卡該這樣刷】稅和保費國人最愛用刷卡支付\n",
       "2  【核准片】富士康FII  A股上市准了　...\n",
       "3     富士康拖64天才獲IPO批文　原因是這個\n",
       "4       戴正吳太厲害　夏普高管讚「無可取代」"
      ]
     },
     "execution_count": 176,
     "metadata": {},
     "output_type": "execute_result"
    }
   ],
   "source": [
    "import pandas\n",
    "apple = pandas.read_csv('https://raw.githubusercontent.com/ywchiu/tibamepy/master/data/20180512appledaily.csv', index_col = 0)\n",
    "apple.head()"
   ]
  },
  {
   "cell_type": "code",
   "execution_count": 178,
   "metadata": {},
   "outputs": [],
   "source": [
    "corpus = []\n",
    "titles = []\n",
    "for title in apple['title'].tolist():\n",
    "    titles.append(title)\n",
    "    corpus.append(' '.join(jieba.cut(title)))"
   ]
  },
  {
   "cell_type": "code",
   "execution_count": 181,
   "metadata": {},
   "outputs": [
    {
     "data": {
      "text/plain": [
       "<1500x6314 sparse matrix of type '<class 'numpy.int64'>'\n",
       "\twith 9095 stored elements in Compressed Sparse Row format>"
      ]
     },
     "execution_count": 181,
     "metadata": {},
     "output_type": "execute_result"
    }
   ],
   "source": [
    "from sklearn.feature_extraction.text import CountVectorizer\n",
    "vectorizer = CountVectorizer()\n",
    "X = vectorizer.fit_transform(corpus)\n",
    "X"
   ]
  },
  {
   "cell_type": "code",
   "execution_count": 182,
   "metadata": {},
   "outputs": [
    {
     "data": {
      "text/plain": [
       "array([[1., 0., 0., ..., 0., 0., 0.],\n",
       "       [0., 1., 0., ..., 0., 0., 0.],\n",
       "       [0., 0., 1., ..., 0., 0., 0.],\n",
       "       ...,\n",
       "       [0., 0., 0., ..., 1., 0., 0.],\n",
       "       [0., 0., 0., ..., 0., 1., 0.],\n",
       "       [0., 0., 0., ..., 0., 0., 1.]])"
      ]
     },
     "execution_count": 182,
     "metadata": {},
     "output_type": "execute_result"
    }
   ],
   "source": [
    "from sklearn.metrics.pairwise import cosine_similarity\n",
    "cosine_similarity(X)"
   ]
  },
  {
   "cell_type": "code",
   "execution_count": 192,
   "metadata": {},
   "outputs": [
    {
     "name": "stdout",
     "output_type": "stream",
     "text": [
      "謝忻心疼「媽媽被吼」　499之亂遭遷怒\n",
      "499之亂害慘AppleWatch 3 ...\n",
      "【499之亂】排到天荒地老也要辦　假日中...\n",
      "【499之亂】被削？台灣之星想跳中華　違...\n",
      "【499之亂】辦到手軟！沒業績就算了　2...\n",
      "有夠衰！中華電信499之亂　害警廣被罵翻\n",
      "​【咩姊台語】499之亂！取票機罷工　「...\n",
      "【499之亂】延燒第3天　板橋逾500人...\n",
      "【499之亂】DAY3之變樣母親節　「孝...\n",
      "【499之亂】中華電信爆超時加班　新北勞...\n"
     ]
    }
   ],
   "source": [
    "query_pos = 0\n",
    "titles[query_pos]\n",
    "rank = cosine_similarity(X[0], X).flatten().argsort()[::-1]\n",
    "for pos in rank[1:10]:\n",
    "    print(titles[pos])"
   ]
  },
  {
   "cell_type": "code",
   "execution_count": 212,
   "metadata": {},
   "outputs": [],
   "source": [
    "def querySimiliarNews(query_pos, thresh):\n",
    "    print('相關新聞:',titles[query_pos])\n",
    "    cs = cosine_similarity(X[query_pos], X).flatten()\n",
    "    rank = cs.argsort()[::-1]\n",
    "    for pos in rank[1:10]:\n",
    "        if cs[pos] >= thresh:\n",
    "            print('類似新聞:',titles[pos], cs[pos])"
   ]
  },
  {
   "cell_type": "code",
   "execution_count": 213,
   "metadata": {},
   "outputs": [
    {
     "name": "stdout",
     "output_type": "stream",
     "text": [
      "4 戴正吳太厲害　夏普高管讚「無可取代」\n",
      "16 中和挖破天然氣管線　民怒：生活大不便\n",
      "31 ​台大校務會議通過　教部應儘速聘任管中閔\n",
      "37 ​蘆洲分局邀馬偕醫師開講　心血管疾病防治\n",
      "71 別管思佳的點點了　超模肯黛兒酥胸大解放\n",
      "170 拔管案　柯志恩：會議紀錄羅織「入管於罪」...\n",
      "200 「爺們不說謊」　反管學生籲台大重啟校長遴...\n",
      "221 挺管、反管今台大校務會議再對決　提案內容...\n",
      "415 金管會「寶佳條款」高舉金金分離，能否將金...\n",
      "462 管中閔臉書再發文　引謝宇程文章透露適任校...\n",
      "579 【K律師論點】拔管掀論戰 　3判決一面倒\n",
      "652 立院三讀《資安管理法》　遇事未通報最高可...\n",
      "659 男搭機車遇警攔查　下車就走褲管藏毒露餡\n",
      "699 涉台開內線交易求解除境管　游世一：不會為...\n",
      "791 劉昌坪專欄：憲法不管用 宜蘭縣政府說了算...\n",
      "1020 新北市府科長涉性騷女秘書　主管職遭拔\n",
      "1120 「穴居屋」當住宅？　建管處有意見\n",
      "1374 修油管不慎起火　小怪手燒半毀\n",
      "1448 傻眼！元大鑽金卡請客服管控仍被盜刷\n"
     ]
    }
   ],
   "source": [
    "for idx, title in enumerate(titles):\n",
    "    if '管' in title:\n",
    "        print(idx, title)"
   ]
  },
  {
   "cell_type": "code",
   "execution_count": 214,
   "metadata": {},
   "outputs": [
    {
     "name": "stdout",
     "output_type": "stream",
     "text": [
      "相關新聞: ​台大校務會議通過　教部應儘速聘任管中閔\n",
      "類似新聞: 台大明開校務會議　自主聯盟籲教部依法聘任... 0.3086066999241838\n",
      "類似新聞: 台大校務會議　鄭秀玲提案解散遴委會、組專... 0.3086066999241838\n",
      "類似新聞: 郭大維提變更台大校務會議主席　學院代表決... 0.3086066999241838\n",
      "類似新聞: 台大校務會議將登場　是否重啟校長遴選成焦... 0.3086066999241838\n",
      "類似新聞: 挺管、反管今台大校務會議再對決　提案內容... 0.2886751345948129\n"
     ]
    }
   ],
   "source": [
    "querySimiliarNews(31, 0.2)"
   ]
  },
  {
   "cell_type": "markdown",
   "metadata": {},
   "source": [
    "## 蒐集司法院問答集"
   ]
  },
  {
   "cell_type": "code",
   "execution_count": 257,
   "metadata": {},
   "outputs": [],
   "source": [
    "import time\n",
    "domain = 'https://www.judicial.gov.tw/QnA/'\n",
    "headers = {\n",
    "  'Cookie': 'ASPSESSIONIDAQQBTSST=DEIHAMEDJIHCGJEJLCHAHLOP; BNES_ASPSESSIONIDAQQBTSST=ahiM0MBoZqJKVlbQkrGYqIAwtW3N2bcbNrH3RegpxZ29RL2RX8hCwtHCt2FR4E+xvw0TKToD4gsXGnNMmNP6ymVHw//cp4nqSCvkJQDtieA5PyUhldQhvw==; _ga=GA1.3.1252714386.1526110451; _gid=GA1.3.2023510660.1526110451; BNES__ga=PBXx1cN+yvZPChjmzbxXOyXZqQkRz49F5QxhI1vWS1s72Qj1xO+zYIO13l3opveSWUK5r6fwQWwhTuKySc20c3h18BxdgBPw; BNES__gid=DU8fet8JE9qYVGZTiiCuR5nsCuOJ1MofRb7t5h3U6PfeZ+PZfYE3xpbThe7Hy9+qrGlBzRFmsYLLZQNBM6OfE12IpJTUoUx1; BNES__gat=iiLnBzOM8sIfQviK/T0AS3yMJsFJNVvQ8uMhPJWvhtyMgCzFN83aYbyXXUnQrwQ9; _gat=1' , \n",
    "  'User-Agent': 'Mozilla/5.0 (Windows NT 6.1; Win64; x64) AppleWebKit/537.36 (KHTML, like Gecko) Chrome/66.0.3359.139 Safari/537.36'  \n",
    "}\n",
    "alinks = []\n",
    "\n",
    "for page in range(1,16):    \n",
    "    res = requests.get('https://www.judicial.gov.tw/QnA/QnA.asp?pageno={}'.format(page), headers = headers)\n",
    "    res.encoding = 'utf-8'\n",
    "    soup = BeautifulSoup(res.text, 'lxml')\n",
    "    for a in soup.select('tr a'):\n",
    "        if 'content' in a.get('href'):\n",
    "            if a.get('href'):\n",
    "                alinks.append( domain + a['href'])\n",
    "    time.sleep(1)"
   ]
  },
  {
   "cell_type": "code",
   "execution_count": 262,
   "metadata": {},
   "outputs": [],
   "source": [
    "#alinks"
   ]
  },
  {
   "cell_type": "code",
   "execution_count": 268,
   "metadata": {},
   "outputs": [],
   "source": [
    "import requests\n",
    "from bs4 import BeautifulSoup\n",
    "qa_ary = []\n",
    "for url in alinks:\n",
    "    try:\n",
    "        res = requests.get(url, headers = headers)\n",
    "        res.encoding = 'utf-8'\n",
    "        soup = BeautifulSoup(res.text, 'lxml')\n",
    "        #print(url)\n",
    "        q = soup.select_one('strong').text.strip()\n",
    "        a = soup.select('tr')[5].text.strip()\n",
    "        #print(a)\n",
    "        qa_ary.append({'question': q, 'answer':a})\n",
    "    except:\n",
    "        pass\n",
    "    time.sleep(1)"
   ]
  },
  {
   "cell_type": "code",
   "execution_count": 281,
   "metadata": {},
   "outputs": [],
   "source": [
    "import pandas\n",
    "qa_df = pandas.DataFrame(qa_ary)"
   ]
  },
  {
   "cell_type": "code",
   "execution_count": 282,
   "metadata": {},
   "outputs": [],
   "source": [
    "qa_df.to_excel('judicial.xlsx')"
   ]
  },
  {
   "cell_type": "code",
   "execution_count": 283,
   "metadata": {},
   "outputs": [],
   "source": [
    "import pandas\n",
    "qa_df = pandas.read_excel('https://raw.githubusercontent.com/ywchiu/tibamepy/master/data/judicial.xlsx')"
   ]
  },
  {
   "cell_type": "code",
   "execution_count": 310,
   "metadata": {},
   "outputs": [],
   "source": [
    "jieba.load_userdict('userdict.txt')\n",
    "corpus = []\n",
    "q = []\n",
    "a = []\n",
    "for qa in qa_df.iterrows():\n",
    "    corpus.append(' '.join(jieba.cut(qa[1].question)))\n",
    "    q.append(qa[1].question)\n",
    "    a.append(qa[1].answer)"
   ]
  },
  {
   "cell_type": "code",
   "execution_count": 311,
   "metadata": {},
   "outputs": [
    {
     "data": {
      "text/plain": [
       "<64x230 sparse matrix of type '<class 'numpy.int64'>'\n",
       "\twith 401 stored elements in Compressed Sparse Row format>"
      ]
     },
     "execution_count": 311,
     "metadata": {},
     "output_type": "execute_result"
    }
   ],
   "source": [
    "from sklearn.feature_extraction.text import CountVectorizer\n",
    "vectorizer = CountVectorizer()\n",
    "X = vectorizer.fit_transform(corpus)\n",
    "X"
   ]
  },
  {
   "cell_type": "code",
   "execution_count": 326,
   "metadata": {},
   "outputs": [
    {
     "data": {
      "text/plain": [
       "'提起 上訴 所 需注意 之 事 ?'"
      ]
     },
     "execution_count": 326,
     "metadata": {},
     "output_type": "execute_result"
    }
   ],
   "source": [
    "self_question = '提起上訴所需注意之事?' \n",
    "self_question_cut = ' '.join(jieba.cut(self_question))\n",
    "self_question_cut\n",
    "#vectorizer.fit_transform(' '.join(jieba.cut(self_question)))"
   ]
  },
  {
   "cell_type": "code",
   "execution_count": 327,
   "metadata": {},
   "outputs": [],
   "source": [
    "y = vectorizer.transform([self_question_cut])"
   ]
  },
  {
   "cell_type": "code",
   "execution_count": 328,
   "metadata": {},
   "outputs": [
    {
     "data": {
      "text/plain": [
       "<1x230 sparse matrix of type '<class 'numpy.int64'>'\n",
       "\twith 2 stored elements in Compressed Sparse Row format>"
      ]
     },
     "execution_count": 328,
     "metadata": {},
     "output_type": "execute_result"
    }
   ],
   "source": [
    "y"
   ]
  },
  {
   "cell_type": "code",
   "execution_count": 329,
   "metadata": {},
   "outputs": [
    {
     "data": {
      "text/plain": [
       "('提起上訴，要注意什麼？',\n",
       " '一、上訴應向原判決之地方法院行政訴訟庭或高等行政法院提出上訴狀為之。\\r二、上訴期間：\\r\\u3000（一）提起上訴，應在第一審判決送達後之20日內為之。\\r\\u3000（二）上訴有無逾越上訴期間，以行政法院收受上訴狀之時間為準。\\r三、上訴狀應表明下列事項：\\r  \\u30001、當事人。\\r  \\u30002、原行政法院判決及對該判決上訴之陳述。\\r  \\u30003、對於原行政法院判決不服之程度，及應如何廢棄或變更之聲明。\\r  \\u30004、上訴理由；並應附具關於上訴理由之必要證據。\\r  \\u30005、行政法院。\\r  \\u30006、年、月、日。\\r四、上訴理由：\\r\\u3000（一）對於地方法院行政訴訟庭或高等行政法院之終局判決，非以原判決違背法令為理由，不得上訴；\\r\\u3000\\u3000\\u3000\\u3000對於高等行政法院所為簡易訴訟程序或交通裁決事件訴訟程序之第二審判決，不得上訴。\\r\\u3000（二）所謂「判決違背法令」，是指判決不適用法規或適用不當而言。\\r\\u3000（三）有下列情形之一者，其判決當然違背法令：\\r\\u3000\\u3000\\u3000\\u30001、判決法院之組織不合法。\\r\\u3000\\u3000\\u3000\\u30002、依法律或裁判應迴避之法官參與裁判。\\r\\u3000\\u3000\\u3000\\u30003、行政法院於權限之有無辨別不當或違背專屬管轄之規定。\\r\\u3000\\u3000\\u3000\\u30004、當事人於訴訟未經合法代理或代表。\\r\\u3000\\u3000\\u3000\\u30005、違背言詞辯論公開之規定。\\r\\u3000\\u3000\\u3000\\u30006、判決不備理由或理由矛盾。\\r\\u3000（四）對於簡易訴訟程序及交通裁決事件之判決，提起上訴，應於上訴理由表明原判決所為違背之法令\\r     \\u3000\\u3000\\u3000\\u3000 及其具體內容，或依訴訟資料可認為原判決有違背法令之具體事實。\\r五、上訴狀內未表明上訴理由者，上訴人應於提起上訴後20日內提出理由書於原行政法院，未提出者，原\\r\\u3000\\u3000行政法院會直接裁定駁回上訴。\\r六、對高等行政法院之判決提起上訴，除法律別有規定外，應委任律師為訴訟代理人。\\r七、上訴狀應按被上訴人（對造）人數附具上訴狀繕本。\\r八、繳納裁判費。\\r\\u3000\\u3000上訴，原則上按件徵收裁判費，適用通常訴訟程序者，每件徵收新臺幣六千元。適用簡易訴訟程序者\\r\\u3000\\u3000，每件徵收新臺幣三千元。適用交通裁決事件者，每件徵收新臺幣七百五十元(參照行政訴訟法第58條\\r\\u3000\\u3000、第98條之2、第235條、第236條、第236條之1、第236條之2、第237條之9、第238條、\\r\\u3000\\u3000第241條、第241條之1、第242條、第243條、第244條、第245條)')"
      ]
     },
     "execution_count": 329,
     "metadata": {},
     "output_type": "execute_result"
    }
   ],
   "source": [
    "from sklearn.metrics.pairwise import cosine_similarity\n",
    "cs = cosine_similarity(y, X).flatten()\n",
    "q[cs.argsort()[::-1][0]], a[cs.argsort()[::-1][0]]"
   ]
  },
  {
   "cell_type": "code",
   "execution_count": 330,
   "metadata": {},
   "outputs": [],
   "source": [
    "#qa_df"
   ]
  },
  {
   "cell_type": "markdown",
   "metadata": {},
   "source": [
    "## 文章分群"
   ]
  },
  {
   "cell_type": "code",
   "execution_count": 331,
   "metadata": {},
   "outputs": [
    {
     "data": {
      "text/html": [
       "<div>\n",
       "<style scoped>\n",
       "    .dataframe tbody tr th:only-of-type {\n",
       "        vertical-align: middle;\n",
       "    }\n",
       "\n",
       "    .dataframe tbody tr th {\n",
       "        vertical-align: top;\n",
       "    }\n",
       "\n",
       "    .dataframe thead th {\n",
       "        text-align: right;\n",
       "    }\n",
       "</style>\n",
       "<table border=\"1\" class=\"dataframe\">\n",
       "  <thead>\n",
       "    <tr style=\"text-align: right;\">\n",
       "      <th></th>\n",
       "      <th>title</th>\n",
       "    </tr>\n",
       "  </thead>\n",
       "  <tbody>\n",
       "    <tr>\n",
       "      <th>0</th>\n",
       "      <td>謝忻心疼「媽媽被吼」　499之亂遭遷怒</td>\n",
       "    </tr>\n",
       "    <tr>\n",
       "      <th>1</th>\n",
       "      <td>【卡該這樣刷】稅和保費國人最愛用刷卡支付</td>\n",
       "    </tr>\n",
       "    <tr>\n",
       "      <th>2</th>\n",
       "      <td>【核准片】富士康FII  A股上市准了　...</td>\n",
       "    </tr>\n",
       "    <tr>\n",
       "      <th>3</th>\n",
       "      <td>富士康拖64天才獲IPO批文　原因是這個</td>\n",
       "    </tr>\n",
       "    <tr>\n",
       "      <th>4</th>\n",
       "      <td>戴正吳太厲害　夏普高管讚「無可取代」</td>\n",
       "    </tr>\n",
       "  </tbody>\n",
       "</table>\n",
       "</div>"
      ],
      "text/plain": [
       "                     title\n",
       "0      謝忻心疼「媽媽被吼」　499之亂遭遷怒\n",
       "1     【卡該這樣刷】稅和保費國人最愛用刷卡支付\n",
       "2  【核准片】富士康FII  A股上市准了　...\n",
       "3     富士康拖64天才獲IPO批文　原因是這個\n",
       "4       戴正吳太厲害　夏普高管讚「無可取代」"
      ]
     },
     "execution_count": 331,
     "metadata": {},
     "output_type": "execute_result"
    }
   ],
   "source": [
    "import pandas\n",
    "apple = pandas.read_csv('https://raw.githubusercontent.com/ywchiu/tibamepy/master/data/20180512appledaily.csv', index_col = 0)\n",
    "apple.head()"
   ]
  },
  {
   "cell_type": "code",
   "execution_count": 333,
   "metadata": {},
   "outputs": [],
   "source": [
    "corpus = []\n",
    "titles = []\n",
    "for title in apple['title'].tolist():\n",
    "    corpus.append(' '.join(jieba.cut(title)))\n",
    "    titles.append(title)"
   ]
  },
  {
   "cell_type": "code",
   "execution_count": 334,
   "metadata": {},
   "outputs": [
    {
     "data": {
      "text/plain": [
       "<1500x6314 sparse matrix of type '<class 'numpy.int64'>'\n",
       "\twith 9095 stored elements in Compressed Sparse Row format>"
      ]
     },
     "execution_count": 334,
     "metadata": {},
     "output_type": "execute_result"
    }
   ],
   "source": [
    "from sklearn.feature_extraction.text import CountVectorizer\n",
    "vectorizer = CountVectorizer()\n",
    "X = vectorizer.fit_transform(corpus)\n",
    "X"
   ]
  },
  {
   "cell_type": "code",
   "execution_count": 335,
   "metadata": {},
   "outputs": [],
   "source": [
    "from sklearn.metrics.pairwise import cosine_similarity\n",
    "cs = cosine_similarity(X)"
   ]
  },
  {
   "cell_type": "code",
   "execution_count": 337,
   "metadata": {},
   "outputs": [
    {
     "data": {
      "text/plain": [
       "(1500, 1500)"
      ]
     },
     "execution_count": 337,
     "metadata": {},
     "output_type": "execute_result"
    }
   ],
   "source": [
    "cs.shape"
   ]
  },
  {
   "cell_type": "code",
   "execution_count": 346,
   "metadata": {},
   "outputs": [],
   "source": [
    "from sklearn.cluster import KMeans\n",
    "kmeans = KMeans(n_clusters=20, init='k-means++', random_state=42)\n",
    "k_data = kmeans.fit_predict(cs)"
   ]
  },
  {
   "cell_type": "code",
   "execution_count": 347,
   "metadata": {},
   "outputs": [],
   "source": [
    "import numpy\n",
    "ntitles = numpy.array(titles)"
   ]
  },
  {
   "cell_type": "code",
   "execution_count": 357,
   "metadata": {},
   "outputs": [
    {
     "name": "stdout",
     "output_type": "stream",
     "text": [
      "日本長野發生規模5.1地震　無海嘯威脅\n",
      "一株只栽培一果　他種的洋香瓜不輸日本\n",
      "日本職棒吉祥物開球　謎之魚嚇到露出第3型...\n",
      "【真相片】「日本人真的是變態」　AV女優...\n",
      "藥華藥PV新藥啟動日本一期臨床　拼年底完...\n",
      "【日本茨城】在笠間工藝之丘　遇見陶藝新星\n",
      "【日本茨城】日本only one　山路和...\n",
      "【日本茨城】猛男裸肌泡湯　這溫泉讓女人好...\n",
      "【日本茨城】超魔幻火紅色毛球　世上真有這...\n",
      "【日本茨城】比築地便宜　東京人都跑來這嗑...\n",
      "【日本益子】超紅品牌陶器　文青都在排隊瘋...\n",
      "【日本茨城】世界上最美的車站　原來懸在大...\n",
      "【日本茨城】滿山遍野粉蝶花　今生不看必後...\n",
      "【日本茨城】笠間陶炎祭　好吃好逛超好買\n",
      "【日本茨城】水府提燈　療癒人心的光線\n",
      "【日本茨城】憑著直覺創作　駒澤博司在作品...\n",
      "【日本茨城】只因50年前撿到它　83歲阿...\n",
      "【變身片】錢幣社變身咖啡廳　好有日本風\n",
      "日本「羽球戰爭」動漫片　竟有世界球后角色\n"
     ]
    }
   ],
   "source": [
    "for t in ntitles[k_data==7]:\n",
    "    print(t)"
   ]
  },
  {
   "cell_type": "code",
   "execution_count": 358,
   "metadata": {},
   "outputs": [
    {
     "data": {
      "text/plain": [
       "<1500x6314 sparse matrix of type '<class 'numpy.float64'>'\n",
       "\twith 9095 stored elements in Compressed Sparse Row format>"
      ]
     },
     "execution_count": 358,
     "metadata": {},
     "output_type": "execute_result"
    }
   ],
   "source": [
    "from sklearn.feature_extraction.text import TfidfVectorizer\n",
    "vectorizer = TfidfVectorizer()\n",
    "X = vectorizer.fit_transform(corpus)\n",
    "X"
   ]
  },
  {
   "cell_type": "code",
   "execution_count": 359,
   "metadata": {},
   "outputs": [],
   "source": [
    "from sklearn.metrics.pairwise import cosine_similarity\n",
    "cs = cosine_similarity(X)"
   ]
  },
  {
   "cell_type": "code",
   "execution_count": 360,
   "metadata": {},
   "outputs": [],
   "source": [
    "from sklearn.cluster import KMeans\n",
    "kmeans = KMeans(n_clusters=20, init='k-means++', random_state=42)\n",
    "k_data = kmeans.fit_predict(cs)"
   ]
  },
  {
   "cell_type": "code",
   "execution_count": 363,
   "metadata": {},
   "outputs": [
    {
     "name": "stdout",
     "output_type": "stream",
     "text": [
      "柯Ｐ「兩岸一家親」言論惹議　柯媽說有典故\n",
      "「拍謝」說了兩岸一家親　綠營開心？柯：不...\n",
      "【兩岸一家親】國台辦說話了　柯：他們發言...\n",
      "柯P為「兩岸一家親道歉」　綠營：只是把球...\n",
      "為兩岸一家親道歉　柯P：因有人聽到會抓狂...\n",
      "【挨罵片】柯文哲「兩岸一家親」道歉反覆　...\n",
      "柯P為「兩岸一家親」惹人不悅道歉　綠里長...\n",
      "柯P為兩岸一家親道歉　朱立倫：感慨\n",
      "「兩岸一家親」立場搖擺？柯Ｐ：我從頭到尾...\n",
      "不滿柯P硬拗「兩岸一家親」　孫大千罵：跟...\n",
      "柯P為「兩岸一家親」道歉　段宜康神解他目...\n",
      "柯P為「兩岸一家親」道歉　藍估：民進黨禮...\n"
     ]
    }
   ],
   "source": [
    "for t in ntitles[k_data==5]:\n",
    "    print(t)"
   ]
  },
  {
   "cell_type": "markdown",
   "metadata": {},
   "source": [
    "## 社群偵測法"
   ]
  },
  {
   "cell_type": "code",
   "execution_count": 365,
   "metadata": {},
   "outputs": [
    {
     "data": {
      "text/plain": [
       "<1500x6314 sparse matrix of type '<class 'numpy.int64'>'\n",
       "\twith 9095 stored elements in Compressed Sparse Row format>"
      ]
     },
     "execution_count": 365,
     "metadata": {},
     "output_type": "execute_result"
    }
   ],
   "source": [
    "from sklearn.feature_extraction.text import CountVectorizer\n",
    "vectorizer = CountVectorizer()\n",
    "X = vectorizer.fit_transform(corpus)\n",
    "X"
   ]
  },
  {
   "cell_type": "code",
   "execution_count": 367,
   "metadata": {},
   "outputs": [],
   "source": [
    "from sklearn.metrics.pairwise import cosine_similarity\n",
    "cs = cosine_similarity(X)"
   ]
  },
  {
   "cell_type": "code",
   "execution_count": 370,
   "metadata": {},
   "outputs": [],
   "source": [
    "mat = (cs >= 0.3).astype(int)"
   ]
  },
  {
   "cell_type": "code",
   "execution_count": 372,
   "metadata": {},
   "outputs": [],
   "source": [
    "import networkx as nx\n",
    "G = nx.from_numpy_matrix(mat)"
   ]
  },
  {
   "cell_type": "code",
   "execution_count": 374,
   "metadata": {},
   "outputs": [
    {
     "name": "stdout",
     "output_type": "stream",
     "text": [
      "Collecting python-louvain\n",
      "  Downloading https://files.pythonhosted.org/packages/46/c2/611d3298d31aa6918badf0c68116167e3752f2677495154baa4d8204181e/python-louvain-0.10.tar.gz\n",
      "Requirement already satisfied: networkx in c:\\programdata\\anaconda3\\lib\\site-packages (from python-louvain)\n",
      "Requirement already satisfied: decorator>=4.1.0 in c:\\programdata\\anaconda3\\lib\\site-packages (from networkx->python-louvain)\n",
      "Building wheels for collected packages: python-louvain\n",
      "  Running setup.py bdist_wheel for python-louvain: started\n",
      "  Running setup.py bdist_wheel for python-louvain: finished with status 'done'\n",
      "  Stored in directory: C:\\Users\\USER\\AppData\\Local\\pip\\Cache\\wheels\\45\\f4\\c9\\b044139f507834d95b2dfb87c49047cf322851eaa3042476ae\n",
      "Successfully built python-louvain\n",
      "Installing collected packages: python-louvain\n",
      "Successfully installed python-louvain-0.10\n"
     ]
    },
    {
     "name": "stderr",
     "output_type": "stream",
     "text": [
      "You are using pip version 9.0.1, however version 10.0.1 is available.\n",
      "You should consider upgrading via the 'python -m pip install --upgrade pip' command.\n"
     ]
    }
   ],
   "source": [
    "! pip install python-louvain"
   ]
  },
  {
   "cell_type": "code",
   "execution_count": 375,
   "metadata": {},
   "outputs": [],
   "source": [
    "import community\n",
    "k = community.best_partition(G)"
   ]
  },
  {
   "cell_type": "code",
   "execution_count": 379,
   "metadata": {},
   "outputs": [
    {
     "data": {
      "text/plain": [
       "[(19, 69),\n",
       " (13, 25),\n",
       " (68, 19),\n",
       " (78, 18),\n",
       " (30, 12),\n",
       " (10, 10),\n",
       " (47, 8),\n",
       " (246, 8),\n",
       " (599, 8),\n",
       " (69, 7)]"
      ]
     },
     "execution_count": 379,
     "metadata": {},
     "output_type": "execute_result"
    }
   ],
   "source": [
    "c = Counter(list(k.values()))\n",
    "c.most_common(10)"
   ]
  },
  {
   "cell_type": "code",
   "execution_count": 390,
   "metadata": {},
   "outputs": [
    {
     "name": "stdout",
     "output_type": "stream",
     "text": [
      "​辦亞太門號送Apple Watch　民...\n",
      "Apple Watch開賣　亞太電盼拉升...\n",
      "eSim版Apple Watch　亞太電...\n",
      "​亞太門號送Apple Watch　 有...\n",
      "德誼推Apple Watch LTE版優...\n",
      "【壹週刊】只靠Apple Watch S...\n",
      "喜新厭舊省荷包　買Apple Watch...\n",
      "【實測片】 Apple Watch LT...\n"
     ]
    }
   ],
   "source": [
    "for ele in k:\n",
    "    if k[ele] == 599:\n",
    "        print(titles[ele])"
   ]
  },
  {
   "cell_type": "markdown",
   "metadata": {},
   "source": [
    "## 分類問題"
   ]
  },
  {
   "cell_type": "code",
   "execution_count": 391,
   "metadata": {},
   "outputs": [],
   "source": [
    "import requests\n",
    "from bs4 import BeautifulSoup\n",
    "\n",
    "#page = 30\n",
    "titles = []\n",
    "categories = []\n",
    "for page in range(1,51):\n",
    "    res  = requests.get('https://tw.appledaily.com/new/realtime/{}'.format(page))\n",
    "    soup = BeautifulSoup(res.text, 'lxml')\n",
    "    titles.extend([t.text for t in soup.select('font')])\n",
    "    categories.extend([t.text for t in soup.select('#maincontent h2')])"
   ]
  },
  {
   "cell_type": "code",
   "execution_count": 399,
   "metadata": {},
   "outputs": [],
   "source": [
    "apple = pandas.DataFrame(list(zip(titles, categories)))"
   ]
  },
  {
   "cell_type": "code",
   "execution_count": 400,
   "metadata": {},
   "outputs": [],
   "source": [
    "apple.columns = ['title', 'category']\n",
    "apple['title'] = apple['title'].map(lambda e: str(e).split('(')[0])\n",
    "apple.to_excel('20180512appledaily_2.xlsx')"
   ]
  },
  {
   "cell_type": "code",
   "execution_count": 436,
   "metadata": {},
   "outputs": [],
   "source": [
    "apple = pandas.read_excel('https://raw.githubusercontent.com/ywchiu/pytextmining/master/data/20171214news.xlsx')"
   ]
  },
  {
   "cell_type": "code",
   "execution_count": 437,
   "metadata": {},
   "outputs": [
    {
     "data": {
      "text/html": [
       "<div>\n",
       "<style scoped>\n",
       "    .dataframe tbody tr th:only-of-type {\n",
       "        vertical-align: middle;\n",
       "    }\n",
       "\n",
       "    .dataframe tbody tr th {\n",
       "        vertical-align: top;\n",
       "    }\n",
       "\n",
       "    .dataframe thead th {\n",
       "        text-align: right;\n",
       "    }\n",
       "</style>\n",
       "<table border=\"1\" class=\"dataframe\">\n",
       "  <thead>\n",
       "    <tr style=\"text-align: right;\">\n",
       "      <th></th>\n",
       "      <th>category</th>\n",
       "      <th>content</th>\n",
       "      <th>link</th>\n",
       "      <th>title</th>\n",
       "    </tr>\n",
       "  </thead>\n",
       "  <tbody>\n",
       "    <tr>\n",
       "      <th>0</th>\n",
       "      <td>政治</td>\n",
       "      <td>新增：立委說法民進黨立法院黨團預計在明天的院會中，讓改制農田水利會的《農田水利會組織通則》修...</td>\n",
       "      <td>https://tw.news.appledaily.com/politics/realti...</td>\n",
       "      <td>【更新】水利會改官派明闖關　綠委24小時前顧議場大門防藍突襲</td>\n",
       "    </tr>\n",
       "    <tr>\n",
       "      <th>1</th>\n",
       "      <td>論壇</td>\n",
       "      <td>邱俊棠／台中市民、見習醫師；曾任台灣醫學生聯合會對外副會長對於公民參與公眾事務而能得到單位首...</td>\n",
       "      <td>https://tw.news.appledaily.com/forum/realtime/...</td>\n",
       "      <td>請中市府為所當為 加速中火燃煤限制</td>\n",
       "    </tr>\n",
       "    <tr>\n",
       "      <th>2</th>\n",
       "      <td>社會</td>\n",
       "      <td>被控來台涉發展情報組織的中國學生周泓旭，因接觸我方外交部官員而露餡落網，今年9月被台北地院一...</td>\n",
       "      <td>https://tw.news.appledaily.com/local/realtime/...</td>\n",
       "      <td>陸生共諜嗆台司法　「不敢公開審理我」</td>\n",
       "    </tr>\n",
       "    <tr>\n",
       "      <th>3</th>\n",
       "      <td>生活</td>\n",
       "      <td>【廣編特輯】 對於全能神教會在中國所遭受的迫害與在韓國、香港及臺灣所面對的反面宣傳，非政府組...</td>\n",
       "      <td>https://tw.news.appledaily.com/life/realtime/2...</td>\n",
       "      <td>【特企】NGO聯名譴責中共迫害宗教信仰</td>\n",
       "    </tr>\n",
       "    <tr>\n",
       "      <th>4</th>\n",
       "      <td>生活</td>\n",
       "      <td>立法院交通委員會今審查《道路交通管理處罰條例》，通過營業大客車駕駛人行駛一般道路未繫安全帶，...</td>\n",
       "      <td>https://tw.news.appledaily.com/life/realtime/2...</td>\n",
       "      <td>乘客搭大客車不配合繫安全帶　立院初審通過可罰6千元</td>\n",
       "    </tr>\n",
       "  </tbody>\n",
       "</table>\n",
       "</div>"
      ],
      "text/plain": [
       "  category                                            content  \\\n",
       "0       政治  新增：立委說法民進黨立法院黨團預計在明天的院會中，讓改制農田水利會的《農田水利會組織通則》修...   \n",
       "1       論壇  邱俊棠／台中市民、見習醫師；曾任台灣醫學生聯合會對外副會長對於公民參與公眾事務而能得到單位首...   \n",
       "2       社會  被控來台涉發展情報組織的中國學生周泓旭，因接觸我方外交部官員而露餡落網，今年9月被台北地院一...   \n",
       "3       生活  【廣編特輯】 對於全能神教會在中國所遭受的迫害與在韓國、香港及臺灣所面對的反面宣傳，非政府組...   \n",
       "4       生活  立法院交通委員會今審查《道路交通管理處罰條例》，通過營業大客車駕駛人行駛一般道路未繫安全帶，...   \n",
       "\n",
       "                                                link  \\\n",
       "0  https://tw.news.appledaily.com/politics/realti...   \n",
       "1  https://tw.news.appledaily.com/forum/realtime/...   \n",
       "2  https://tw.news.appledaily.com/local/realtime/...   \n",
       "3  https://tw.news.appledaily.com/life/realtime/2...   \n",
       "4  https://tw.news.appledaily.com/life/realtime/2...   \n",
       "\n",
       "                            title  \n",
       "0  【更新】水利會改官派明闖關　綠委24小時前顧議場大門防藍突襲  \n",
       "1               請中市府為所當為 加速中火燃煤限制  \n",
       "2              陸生共諜嗆台司法　「不敢公開審理我」  \n",
       "3             【特企】NGO聯名譴責中共迫害宗教信仰  \n",
       "4       乘客搭大客車不配合繫安全帶　立院初審通過可罰6千元  "
      ]
     },
     "execution_count": 437,
     "metadata": {},
     "output_type": "execute_result"
    }
   ],
   "source": [
    "apple.head()"
   ]
  },
  {
   "cell_type": "code",
   "execution_count": 447,
   "metadata": {},
   "outputs": [],
   "source": [
    "appledf = apple[apple['category'].isin(['社會', '娛樂'])]"
   ]
  },
  {
   "cell_type": "code",
   "execution_count": 448,
   "metadata": {},
   "outputs": [],
   "source": [
    "corpus = []\n",
    "titles = []\n",
    "tags = []\n",
    "\n",
    "for rec in appledf.iterrows():\n",
    "    corpus.append(' '.join(jieba.cut(rec[1]['content'])))\n",
    "    titles.append(rec[1]['title'])\n",
    "    tags.append(rec[1]['category'])"
   ]
  },
  {
   "cell_type": "code",
   "execution_count": 449,
   "metadata": {},
   "outputs": [
    {
     "data": {
      "text/plain": [
       "<247x13869 sparse matrix of type '<class 'numpy.float64'>'\n",
       "\twith 32171 stored elements in Compressed Sparse Row format>"
      ]
     },
     "execution_count": 449,
     "metadata": {},
     "output_type": "execute_result"
    }
   ],
   "source": [
    "from sklearn.feature_extraction.text import TfidfVectorizer\n",
    "vectorizer = TfidfVectorizer()\n",
    "X = vectorizer.fit_transform(corpus)\n",
    "X"
   ]
  },
  {
   "cell_type": "code",
   "execution_count": 450,
   "metadata": {},
   "outputs": [],
   "source": [
    "from sklearn.model_selection import train_test_split\n",
    "train_X, test_X, train_y, test_y = train_test_split(X, tags, test_size = 0.33, random_state = 42)"
   ]
  },
  {
   "cell_type": "code",
   "execution_count": 451,
   "metadata": {},
   "outputs": [
    {
     "data": {
      "text/plain": [
       "(165, 13869)"
      ]
     },
     "execution_count": 451,
     "metadata": {},
     "output_type": "execute_result"
    }
   ],
   "source": [
    "train_X.shape"
   ]
  },
  {
   "cell_type": "code",
   "execution_count": 452,
   "metadata": {},
   "outputs": [
    {
     "data": {
      "text/plain": [
       "(82, 13869)"
      ]
     },
     "execution_count": 452,
     "metadata": {},
     "output_type": "execute_result"
    }
   ],
   "source": [
    "test_X.shape"
   ]
  },
  {
   "cell_type": "code",
   "execution_count": 453,
   "metadata": {},
   "outputs": [
    {
     "data": {
      "text/plain": [
       "MultinomialNB(alpha=0.01, class_prior=None, fit_prior=True)"
      ]
     },
     "execution_count": 453,
     "metadata": {},
     "output_type": "execute_result"
    }
   ],
   "source": [
    "from sklearn.naive_bayes import MultinomialNB\n",
    "clf=MultinomialNB(alpha=0.01)\n",
    "clf.fit(train_X,train_y)"
   ]
  },
  {
   "cell_type": "code",
   "execution_count": 454,
   "metadata": {},
   "outputs": [],
   "source": [
    "predicted = clf.predict(test_X)"
   ]
  },
  {
   "cell_type": "code",
   "execution_count": 455,
   "metadata": {},
   "outputs": [
    {
     "data": {
      "text/plain": [
       "0.9878048780487805"
      ]
     },
     "execution_count": 455,
     "metadata": {},
     "output_type": "execute_result"
    }
   ],
   "source": [
    "from sklearn.metrics import accuracy_score\n",
    "accuracy_score(test_y, predicted)"
   ]
  },
  {
   "cell_type": "code",
   "execution_count": 457,
   "metadata": {},
   "outputs": [
    {
     "name": "stdout",
     "output_type": "stream",
     "text": [
      "['娛樂' '社會']\n"
     ]
    },
    {
     "data": {
      "text/plain": [
       "array([[35,  0],\n",
       "       [ 1, 46]], dtype=int64)"
      ]
     },
     "execution_count": 457,
     "metadata": {},
     "output_type": "execute_result"
    }
   ],
   "source": [
    "from sklearn.metrics import confusion_matrix\n",
    "m = confusion_matrix(test_y, predicted)\n",
    "print(clf.classes_)\n",
    "m"
   ]
  },
  {
   "cell_type": "code",
   "execution_count": null,
   "metadata": {},
   "outputs": [],
   "source": []
  }
 ],
 "metadata": {
  "kernelspec": {
   "display_name": "Python 3",
   "language": "python",
   "name": "python3"
  },
  "language_info": {
   "codemirror_mode": {
    "name": "ipython",
    "version": 3
   },
   "file_extension": ".py",
   "mimetype": "text/x-python",
   "name": "python",
   "nbconvert_exporter": "python",
   "pygments_lexer": "ipython3",
   "version": "3.6.4"
  }
 },
 "nbformat": 4,
 "nbformat_minor": 2
}
