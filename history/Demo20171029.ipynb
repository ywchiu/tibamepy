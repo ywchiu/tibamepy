{
 "cells": [
  {
   "cell_type": "markdown",
   "metadata": {},
   "source": [
    "## Pandas 與資料蒐集"
   ]
  },
  {
   "cell_type": "code",
   "execution_count": 3,
   "metadata": {},
   "outputs": [
    {
     "data": {
      "text/html": [
       "<div>\n",
       "<style>\n",
       "    .dataframe thead tr:only-child th {\n",
       "        text-align: right;\n",
       "    }\n",
       "\n",
       "    .dataframe thead th {\n",
       "        text-align: left;\n",
       "    }\n",
       "\n",
       "    .dataframe tbody tr th {\n",
       "        vertical-align: top;\n",
       "    }\n",
       "</style>\n",
       "<table border=\"1\" class=\"dataframe\">\n",
       "  <thead>\n",
       "    <tr style=\"text-align: right;\">\n",
       "      <th></th>\n",
       "      <th>index</th>\n",
       "      <th>area</th>\n",
       "      <th>trading_target</th>\n",
       "      <th>address</th>\n",
       "      <th>land_sqmeter</th>\n",
       "      <th>city_land_type</th>\n",
       "      <th>trading_ymd</th>\n",
       "      <th>trading_num</th>\n",
       "      <th>floor</th>\n",
       "      <th>total_floor</th>\n",
       "      <th>...</th>\n",
       "      <th>compartment</th>\n",
       "      <th>management</th>\n",
       "      <th>total_price</th>\n",
       "      <th>price_per_sqmeter</th>\n",
       "      <th>parking_type</th>\n",
       "      <th>parking_sqmeter</th>\n",
       "      <th>parking_price</th>\n",
       "      <th>trading_ym</th>\n",
       "      <th>lat</th>\n",
       "      <th>lng</th>\n",
       "    </tr>\n",
       "  </thead>\n",
       "  <tbody>\n",
       "    <tr>\n",
       "      <th>0</th>\n",
       "      <td>0</td>\n",
       "      <td>大安區</td>\n",
       "      <td>房地(土地+建物)</td>\n",
       "      <td>臺北市大安區和平東路三段1巷72弄1~30號</td>\n",
       "      <td>19.39</td>\n",
       "      <td>住</td>\n",
       "      <td>2012-06-29</td>\n",
       "      <td>土地1建物2車位0</td>\n",
       "      <td>五層</td>\n",
       "      <td>十七層</td>\n",
       "      <td>...</td>\n",
       "      <td>有</td>\n",
       "      <td>有</td>\n",
       "      <td>18680000</td>\n",
       "      <td>184999.0</td>\n",
       "      <td>NaN</td>\n",
       "      <td>0.0</td>\n",
       "      <td>0</td>\n",
       "      <td>2012-06-01</td>\n",
       "      <td>25.025</td>\n",
       "      <td>121.548</td>\n",
       "    </tr>\n",
       "  </tbody>\n",
       "</table>\n",
       "<p>1 rows × 28 columns</p>\n",
       "</div>"
      ],
      "text/plain": [
       "   index area trading_target                 address  land_sqmeter  \\\n",
       "0      0  大安區      房地(土地+建物)  臺北市大安區和平東路三段1巷72弄1~30號         19.39   \n",
       "\n",
       "  city_land_type trading_ymd trading_num floor total_floor   ...     \\\n",
       "0              住  2012-06-29   土地1建物2車位0    五層         十七層   ...      \n",
       "\n",
       "  compartment management total_price price_per_sqmeter  parking_type  \\\n",
       "0           有          有    18680000          184999.0           NaN   \n",
       "\n",
       "   parking_sqmeter  parking_price  trading_ym     lat      lng  \n",
       "0              0.0              0  2012-06-01  25.025  121.548  \n",
       "\n",
       "[1 rows x 28 columns]"
      ]
     },
     "execution_count": 3,
     "metadata": {},
     "output_type": "execute_result"
    }
   ],
   "source": [
    "import pandas\n",
    "lvr  = pandas.read_excel('https://raw.githubusercontent.com/ywchiu/rtibame/master/Data/lvr_with_location.xlsx')\n",
    "lvr.head(1)"
   ]
  },
  {
   "cell_type": "code",
   "execution_count": 5,
   "metadata": {},
   "outputs": [
    {
     "data": {
      "text/html": [
       "<div>\n",
       "<style>\n",
       "    .dataframe thead tr:only-child th {\n",
       "        text-align: right;\n",
       "    }\n",
       "\n",
       "    .dataframe thead th {\n",
       "        text-align: left;\n",
       "    }\n",
       "\n",
       "    .dataframe tbody tr th {\n",
       "        vertical-align: top;\n",
       "    }\n",
       "</style>\n",
       "<table border=\"1\" class=\"dataframe\">\n",
       "  <thead>\n",
       "    <tr style=\"text-align: right;\">\n",
       "      <th></th>\n",
       "      <th>Unnamed: 0</th>\n",
       "      <th>detail_url</th>\n",
       "      <th>search_date</th>\n",
       "      <th>title</th>\n",
       "      <th>address</th>\n",
       "      <th>floor_info</th>\n",
       "      <th>price</th>\n",
       "      <th>layout</th>\n",
       "      <th>building_area</th>\n",
       "      <th>building_use</th>\n",
       "      <th>latitude</th>\n",
       "      <th>longitude</th>\n",
       "    </tr>\n",
       "  </thead>\n",
       "  <tbody>\n",
       "    <tr>\n",
       "      <th>0</th>\n",
       "      <td>0</td>\n",
       "      <td>https://rent.591.com.tw/rent-detail-1050934.html</td>\n",
       "      <td>2017-05-14</td>\n",
       "      <td>套房出租-近東方學院(六~八月可入住)</td>\n",
       "      <td>高雄市湖內區民生街</td>\n",
       "      <td>3F/3F</td>\n",
       "      <td>4,500元/月</td>\n",
       "      <td>NaN</td>\n",
       "      <td>6.0</td>\n",
       "      <td>透天厝/獨立套房</td>\n",
       "      <td>22.878436</td>\n",
       "      <td>120.25081</td>\n",
       "    </tr>\n",
       "  </tbody>\n",
       "</table>\n",
       "</div>"
      ],
      "text/plain": [
       "   Unnamed: 0                                        detail_url search_date  \\\n",
       "0           0  https://rent.591.com.tw/rent-detail-1050934.html  2017-05-14   \n",
       "\n",
       "                 title    address floor_info     price layout  building_area  \\\n",
       "0  套房出租-近東方學院(六~八月可入住)  高雄市湖內區民生街      3F/3F  4,500元/月    NaN            6.0   \n",
       "\n",
       "  building_use   latitude  longitude  \n",
       "0     透天厝/獨立套房  22.878436  120.25081  "
      ]
     },
     "execution_count": 5,
     "metadata": {},
     "output_type": "execute_result"
    }
   ],
   "source": [
    "rent591 = pandas.read_csv('https://raw.githubusercontent.com/ywchiu/tibamepy/master/data/rent_591_sample.csv')\n",
    "rent591.head(1)"
   ]
  },
  {
   "cell_type": "code",
   "execution_count": 8,
   "metadata": {},
   "outputs": [
    {
     "data": {
      "text/html": [
       "<div>\n",
       "<style>\n",
       "    .dataframe thead tr:only-child th {\n",
       "        text-align: right;\n",
       "    }\n",
       "\n",
       "    .dataframe thead th {\n",
       "        text-align: left;\n",
       "    }\n",
       "\n",
       "    .dataframe tbody tr th {\n",
       "        vertical-align: top;\n",
       "    }\n",
       "</style>\n",
       "<table border=\"1\" class=\"dataframe\">\n",
       "  <thead>\n",
       "    <tr style=\"text-align: right;\">\n",
       "      <th></th>\n",
       "      <th>Unnamed: 0</th>\n",
       "      <th>year</th>\n",
       "      <th>salary</th>\n",
       "    </tr>\n",
       "  </thead>\n",
       "  <tbody>\n",
       "    <tr>\n",
       "      <th>0</th>\n",
       "      <td>1</td>\n",
       "      <td>2.4</td>\n",
       "      <td>6600</td>\n",
       "    </tr>\n",
       "    <tr>\n",
       "      <th>1</th>\n",
       "      <td>2</td>\n",
       "      <td>5.5</td>\n",
       "      <td>10100</td>\n",
       "    </tr>\n",
       "    <tr>\n",
       "      <th>2</th>\n",
       "      <td>3</td>\n",
       "      <td>3.3</td>\n",
       "      <td>7300</td>\n",
       "    </tr>\n",
       "    <tr>\n",
       "      <th>3</th>\n",
       "      <td>4</td>\n",
       "      <td>0.2</td>\n",
       "      <td>5000</td>\n",
       "    </tr>\n",
       "    <tr>\n",
       "      <th>4</th>\n",
       "      <td>5</td>\n",
       "      <td>1.5</td>\n",
       "      <td>6100</td>\n",
       "    </tr>\n",
       "  </tbody>\n",
       "</table>\n",
       "</div>"
      ],
      "text/plain": [
       "   Unnamed: 0  year  salary\n",
       "0           1   2.4    6600\n",
       "1           2   5.5   10100\n",
       "2           3   3.3    7300\n",
       "3           4   0.2    5000\n",
       "4           5   1.5    6100"
      ]
     },
     "execution_count": 8,
     "metadata": {},
     "output_type": "execute_result"
    }
   ],
   "source": [
    "salary = pandas.read_clipboard(sep=',')\n",
    "salary.head()"
   ]
  },
  {
   "cell_type": "code",
   "execution_count": 10,
   "metadata": {},
   "outputs": [
    {
     "data": {
      "text/html": [
       "<div>\n",
       "<style>\n",
       "    .dataframe thead tr:only-child th {\n",
       "        text-align: right;\n",
       "    }\n",
       "\n",
       "    .dataframe thead th {\n",
       "        text-align: left;\n",
       "    }\n",
       "\n",
       "    .dataframe tbody tr th {\n",
       "        vertical-align: top;\n",
       "    }\n",
       "</style>\n",
       "<table border=\"1\" class=\"dataframe\">\n",
       "  <thead>\n",
       "    <tr style=\"text-align: right;\">\n",
       "      <th></th>\n",
       "      <th>Adj Close</th>\n",
       "      <th>Close</th>\n",
       "      <th>Date</th>\n",
       "      <th>High</th>\n",
       "      <th>Low</th>\n",
       "      <th>Open</th>\n",
       "      <th>Volume</th>\n",
       "    </tr>\n",
       "  </thead>\n",
       "  <tbody>\n",
       "    <tr>\n",
       "      <th>0</th>\n",
       "      <td>172.0</td>\n",
       "      <td>172.0</td>\n",
       "      <td>2016-07-21</td>\n",
       "      <td>172.0</td>\n",
       "      <td>170.0</td>\n",
       "      <td>171.0</td>\n",
       "      <td>33130000</td>\n",
       "    </tr>\n",
       "    <tr>\n",
       "      <th>1</th>\n",
       "      <td>170.0</td>\n",
       "      <td>170.0</td>\n",
       "      <td>2016-07-20</td>\n",
       "      <td>170.5</td>\n",
       "      <td>169.0</td>\n",
       "      <td>170.0</td>\n",
       "      <td>38053000</td>\n",
       "    </tr>\n",
       "    <tr>\n",
       "      <th>2</th>\n",
       "      <td>170.5</td>\n",
       "      <td>170.5</td>\n",
       "      <td>2016-07-19</td>\n",
       "      <td>170.5</td>\n",
       "      <td>169.0</td>\n",
       "      <td>170.5</td>\n",
       "      <td>42456000</td>\n",
       "    </tr>\n",
       "    <tr>\n",
       "      <th>3</th>\n",
       "      <td>169.5</td>\n",
       "      <td>169.5</td>\n",
       "      <td>2016-07-18</td>\n",
       "      <td>170.0</td>\n",
       "      <td>168.0</td>\n",
       "      <td>168.0</td>\n",
       "      <td>24749000</td>\n",
       "    </tr>\n",
       "    <tr>\n",
       "      <th>4</th>\n",
       "      <td>169.5</td>\n",
       "      <td>169.5</td>\n",
       "      <td>2016-07-15</td>\n",
       "      <td>169.5</td>\n",
       "      <td>169.5</td>\n",
       "      <td>169.5</td>\n",
       "      <td>41000</td>\n",
       "    </tr>\n",
       "  </tbody>\n",
       "</table>\n",
       "</div>"
      ],
      "text/plain": [
       "   Adj Close  Close       Date   High    Low   Open    Volume\n",
       "0      172.0  172.0 2016-07-21  172.0  170.0  171.0  33130000\n",
       "1      170.0  170.0 2016-07-20  170.5  169.0  170.0  38053000\n",
       "2      170.5  170.5 2016-07-19  170.5  169.0  170.5  42456000\n",
       "3      169.5  169.5 2016-07-18  170.0  168.0  168.0  24749000\n",
       "4      169.5  169.5 2016-07-15  169.5  169.5  169.5     41000"
      ]
     },
     "execution_count": 10,
     "metadata": {},
     "output_type": "execute_result"
    }
   ],
   "source": [
    "import pandas\n",
    "data = pandas.read_json('https://raw.githubusercontent.com/ywchiu/pyfintech/master/2330.json')\n",
    "data.head()"
   ]
  },
  {
   "cell_type": "markdown",
   "metadata": {},
   "source": [
    "## 使用Python Requests 存取頁面"
   ]
  },
  {
   "cell_type": "markdown",
   "metadata": {},
   "source": [
    "### 使用GET"
   ]
  },
  {
   "cell_type": "code",
   "execution_count": 11,
   "metadata": {},
   "outputs": [
    {
     "data": {
      "text/plain": [
       "<Response [200]>"
      ]
     },
     "execution_count": 11,
     "metadata": {},
     "output_type": "execute_result"
    }
   ],
   "source": [
    "import requests\n",
    "res = requests.get('http://www.appledaily.com.tw/realtimenews/section/new/')\n",
    "res"
   ]
  },
  {
   "cell_type": "code",
   "execution_count": 13,
   "metadata": {
    "collapsed": true
   },
   "outputs": [],
   "source": [
    "#res.text"
   ]
  },
  {
   "cell_type": "markdown",
   "metadata": {},
   "source": [
    "### 使用POST"
   ]
  },
  {
   "cell_type": "code",
   "execution_count": 14,
   "metadata": {},
   "outputs": [
    {
     "data": {
      "text/plain": [
       "<Response [200]>"
      ]
     },
     "execution_count": 14,
     "metadata": {},
     "output_type": "execute_result"
    }
   ],
   "source": [
    "import requests\n",
    "url = 'https://www.thsrc.com.tw/tw/TimeTable/SearchResult'\n",
    "payload = {\n",
    "'StartStation':'977abb69-413a-4ccf-a109-0272c24fd490',\n",
    "'EndStation':'fbd828d8-b1da-4b06-a3bd-680cdca4d2cd',\n",
    "'SearchDate':'2017/10/29',\n",
    "'SearchTime':'11:00',\n",
    "'SearchWay':'DepartureInMandarin'\n",
    "}\n",
    "res = requests.post(url, data = payload)\n",
    "res"
   ]
  },
  {
   "cell_type": "markdown",
   "metadata": {},
   "source": [
    "### 台鐵簡易查詢\n",
    "- http://twtraffic.tra.gov.tw/twrail/EasySearch.aspx"
   ]
  },
  {
   "cell_type": "code",
   "execution_count": 11,
   "metadata": {},
   "outputs": [
    {
     "data": {
      "text/plain": [
       "requests.models.Response"
      ]
     },
     "execution_count": 11,
     "metadata": {},
     "output_type": "execute_result"
    }
   ],
   "source": [
    "import requests\n",
    "res = requests.get('http://twtraffic.tra.gov.tw/twrail/SearchResult.aspx?searchtype=0&searchdate=2017/10/29&fromstation=1810&tostation=1008&trainclass=%271100%27,%271101%27,%271102%27,%271107%27,%271110%27,%271120%27&fromtime=0600&totime=2359')\n",
    "res\n",
    "#res.text\n",
    "type(res)"
   ]
  },
  {
   "cell_type": "markdown",
   "metadata": {},
   "source": [
    "## 抓取圖片"
   ]
  },
  {
   "cell_type": "code",
   "execution_count": 20,
   "metadata": {
    "collapsed": true
   },
   "outputs": [],
   "source": [
    "import requests\n",
    "res = requests.get('http://img.appledaily.com.tw/images/thumbnail/20171029/37829030_4d9274a1766895014266ebed21de057f_160x160.jpg')\n",
    "with open('37829030_4d9274a1766895014266ebed21de057f_160x160.jpg', 'wb') as f:\n",
    "    f.write(res.content)"
   ]
  },
  {
   "cell_type": "markdown",
   "metadata": {},
   "source": [
    "## 抓取PDF"
   ]
  },
  {
   "cell_type": "code",
   "execution_count": 21,
   "metadata": {
    "collapsed": true
   },
   "outputs": [],
   "source": [
    "import requests\n",
    "res = requests.get('http://www.moeasmea.gov.tw/dl.asp?filename=221414101571.pdf')\n",
    "with open('221414101571.pdf', 'wb') as f:\n",
    "    f.write(res.content)\n"
   ]
  },
  {
   "cell_type": "code",
   "execution_count": 5,
   "metadata": {},
   "outputs": [
    {
     "name": "stdout",
     "output_type": "stream",
     "text": [
      "Collecting pdfminer3k\n",
      "  Downloading pdfminer3k-1.3.1.tar.gz (4.1MB)\n",
      "Requirement already satisfied: pytest>=2.0 in c:\\programdata\\anaconda3\\lib\\site-packages (from pdfminer3k)\n",
      "Requirement already satisfied: ply>=3.4 in c:\\programdata\\anaconda3\\lib\\site-packages (from pdfminer3k)\n",
      "Requirement already satisfied: py>=1.4.33 in c:\\programdata\\anaconda3\\lib\\site-packages (from pytest>=2.0->pdfminer3k)\n",
      "Requirement already satisfied: setuptools in c:\\programdata\\anaconda3\\lib\\site-packages (from pytest>=2.0->pdfminer3k)\n",
      "Requirement already satisfied: colorama in c:\\programdata\\anaconda3\\lib\\site-packages (from pytest>=2.0->pdfminer3k)\n",
      "Building wheels for collected packages: pdfminer3k\n",
      "  Running setup.py bdist_wheel for pdfminer3k: started\n",
      "  Running setup.py bdist_wheel for pdfminer3k: finished with status 'done'\n",
      "  Stored in directory: C:\\Users\\USER\\AppData\\Local\\pip\\Cache\\wheels\\cd\\84\\67\\3eb20c984d51d38db1ca65ecba0d866407f46d8b3a9e72f7b2\n",
      "Successfully built pdfminer3k\n",
      "Installing collected packages: pdfminer3k\n",
      "Successfully installed pdfminer3k-1.3.1\n"
     ]
    }
   ],
   "source": [
    "! pip install pdfminer3k"
   ]
  },
  {
   "cell_type": "code",
   "execution_count": 7,
   "metadata": {},
   "outputs": [
    {
     "name": "stderr",
     "output_type": "stream",
     "text": [
      "WARNING:pdfminer.layout:Too many boxes (104) to group, skipping.\n"
     ]
    }
   ],
   "source": [
    "from pdfminer.pdfparser import PDFParser, PDFDocument\n",
    "from pdfminer.pdfinterp import PDFResourceManager, PDFPageInterpreter\n",
    "from pdfminer.converter import PDFPageAggregator\n",
    "from pdfminer.layout import LAParams, LTTextBox, LTTextLine\n",
    "\n",
    "s = ''\n",
    "fp = open('221414101571.pdf', 'rb')\n",
    "parser = PDFParser(fp)\n",
    "doc = PDFDocument()\n",
    "parser.set_document(doc)\n",
    "doc.set_parser(parser)\n",
    "doc.initialize('')\n",
    "rsrcmgr = PDFResourceManager()\n",
    "laparams = LAParams()\n",
    "device = PDFPageAggregator(rsrcmgr, laparams=laparams)\n",
    "interpreter = PDFPageInterpreter(rsrcmgr, device)\n",
    "# Process each page contained in the document.\n",
    "for page in doc.get_pages():\n",
    "    interpreter.process_page(page)\n",
    "    layout = device.get_result()\n",
    "    for lt_obj in layout:\n",
    "        pass\n",
    "        #print(lt_obj)\n"
   ]
  },
  {
   "cell_type": "markdown",
   "metadata": {},
   "source": [
    "## 抓取591 租屋網電話圖片\n",
    "- http://digi.bib.uni-mannheim.de/tesseract/tesseract-ocr-setup-4.00.00dev.exe\n",
    "- 在環境變數的path 之中加入 ;C:\\Program Files (x86)\\Tesseract-OCR\n",
    "- pip install pytesseract"
   ]
  },
  {
   "cell_type": "code",
   "execution_count": 24,
   "metadata": {},
   "outputs": [
    {
     "name": "stdout",
     "output_type": "stream",
     "text": [
      "Collecting pytesseract\n",
      "  Downloading pytesseract-0.1.7.tar.gz (150kB)\n",
      "Requirement already satisfied: Pillow in c:\\programdata\\anaconda3\\lib\\site-packages (from pytesseract)\n",
      "Requirement already satisfied: olefile in c:\\programdata\\anaconda3\\lib\\site-packages (from Pillow->pytesseract)\n",
      "Building wheels for collected packages: pytesseract\n",
      "  Running setup.py bdist_wheel for pytesseract: started\n",
      "  Running setup.py bdist_wheel for pytesseract: finished with status 'done'\n",
      "  Stored in directory: C:\\Users\\USER\\AppData\\Local\\pip\\Cache\\wheels\\ff\\06\\21\\4b0d1e4d3e0e7a1c46c72a8a66a629473316f8e02614e9fdda\n",
      "Successfully built pytesseract\n",
      "Installing collected packages: pytesseract\n",
      "Successfully installed pytesseract-0.1.7\n"
     ]
    }
   ],
   "source": [
    "! pip install pytesseract"
   ]
  },
  {
   "cell_type": "code",
   "execution_count": 22,
   "metadata": {
    "collapsed": true
   },
   "outputs": [],
   "source": [
    "import requests\n",
    "res = requests.get('https://statics.591.com.tw/tools/showPhone.php?info_data=%2BLRUYe5Brb9hHOmpi2%2Fe9hxTOaI&type=rLEFMu4XrrpgEw')\n",
    "with open('phone.jpg', 'wb') as f:\n",
    "    f.write(res.content)"
   ]
  },
  {
   "cell_type": "code",
   "execution_count": 1,
   "metadata": {},
   "outputs": [
    {
     "data": {
      "image/png": "[encoded data removed]",
      "text/plain": [
       "<PIL.PngImagePlugin.PngImageFile image mode=P size=180x30 at 0x576EA58>"
      ]
     },
     "execution_count": 1,
     "metadata": {},
     "output_type": "execute_result"
    }
   ],
   "source": [
    "from PIL import Image\n",
    "Image.open('phone.jpg')"
   ]
  },
  {
   "cell_type": "code",
   "execution_count": 4,
   "metadata": {},
   "outputs": [
    {
     "data": {
      "text/plain": [
       "'0937458235'"
      ]
     },
     "execution_count": 4,
     "metadata": {},
     "output_type": "execute_result"
    }
   ],
   "source": [
    "import pytesseract\n",
    "#pytesseract.pytesseract.tesseract_cmd = 'C:\\\\Program Files (x86)\\\\Tesseract-OCR'\n",
    "p = pytesseract.image_to_string(Image.open('phone.jpg'))\n",
    "''.join([ele.strip() for ele in p.split('-')])"
   ]
  },
  {
   "cell_type": "markdown",
   "metadata": {
    "collapsed": true
   },
   "source": [
    "## 使用BeautifulSoup"
   ]
  },
  {
   "cell_type": "code",
   "execution_count": 12,
   "metadata": {},
   "outputs": [
    {
     "data": {
      "text/plain": [
       "bs4.BeautifulSoup"
      ]
     },
     "execution_count": 12,
     "metadata": {},
     "output_type": "execute_result"
    }
   ],
   "source": [
    "from bs4 import BeautifulSoup\n",
    "\n",
    "html_sample = '''\n",
    "<html> \n",
    "<body> \n",
    "<h1 id=\"title\">Hello World</h1> \n",
    "<a href=\"#\" class=\"link\">This is link1</a> \n",
    "<a href=\"# link2\" class=\"link\">This is link2</a> \n",
    "</body> \n",
    "</html>\n",
    "'''\n",
    "\n",
    "soup = BeautifulSoup(html_sample, 'html.parser')\n",
    "soup.text\n",
    "type(soup)"
   ]
  },
  {
   "cell_type": "code",
   "execution_count": 13,
   "metadata": {},
   "outputs": [
    {
     "data": {
      "text/plain": [
       "<h1 id=\"title\">Hello World</h1>"
      ]
     },
     "execution_count": 13,
     "metadata": {},
     "output_type": "execute_result"
    }
   ],
   "source": [
    "soup.select_one('h1')"
   ]
  },
  {
   "cell_type": "code",
   "execution_count": 14,
   "metadata": {},
   "outputs": [
    {
     "data": {
      "text/plain": [
       "'Hello World'"
      ]
     },
     "execution_count": 14,
     "metadata": {},
     "output_type": "execute_result"
    }
   ],
   "source": [
    "soup.select_one('h1').text"
   ]
  },
  {
   "cell_type": "code",
   "execution_count": 18,
   "metadata": {},
   "outputs": [
    {
     "data": {
      "text/plain": [
       "<h1 id=\"title\">Hello World</h1>"
      ]
     },
     "execution_count": 18,
     "metadata": {},
     "output_type": "execute_result"
    }
   ],
   "source": [
    "soup.select('h1')[0]"
   ]
  },
  {
   "cell_type": "code",
   "execution_count": 19,
   "metadata": {},
   "outputs": [
    {
     "data": {
      "text/plain": [
       "'Hello World'"
      ]
     },
     "execution_count": 19,
     "metadata": {},
     "output_type": "execute_result"
    }
   ],
   "source": [
    "soup.select('h1')[0].text"
   ]
  },
  {
   "cell_type": "code",
   "execution_count": 20,
   "metadata": {},
   "outputs": [
    {
     "data": {
      "text/plain": [
       "[<a class=\"link\" href=\"#\">This is link1</a>,\n",
       " <a class=\"link\" href=\"# link2\">This is link2</a>]"
      ]
     },
     "execution_count": 20,
     "metadata": {},
     "output_type": "execute_result"
    }
   ],
   "source": [
    "soup.select('a')"
   ]
  },
  {
   "cell_type": "code",
   "execution_count": 24,
   "metadata": {},
   "outputs": [
    {
     "data": {
      "text/plain": [
       "'This is link1'"
      ]
     },
     "execution_count": 24,
     "metadata": {},
     "output_type": "execute_result"
    }
   ],
   "source": [
    "soup.select('a')[0]\n",
    "soup.select('a')[0].text"
   ]
  },
  {
   "cell_type": "code",
   "execution_count": 25,
   "metadata": {},
   "outputs": [
    {
     "data": {
      "text/plain": [
       "'This is link2'"
      ]
     },
     "execution_count": 25,
     "metadata": {},
     "output_type": "execute_result"
    }
   ],
   "source": [
    "soup.select('a')[1]\n",
    "soup.select('a')[1].text"
   ]
  },
  {
   "cell_type": "code",
   "execution_count": 28,
   "metadata": {},
   "outputs": [
    {
     "name": "stdout",
     "output_type": "stream",
     "text": [
      "This is link1\n",
      "This is link2\n"
     ]
    }
   ],
   "source": [
    "for link in soup.select('a'):\n",
    "    #print(link)\n",
    "    print(link.text)"
   ]
  },
  {
   "cell_type": "code",
   "execution_count": 30,
   "metadata": {},
   "outputs": [
    {
     "data": {
      "text/plain": [
       "'Hello World'"
      ]
     },
     "execution_count": 30,
     "metadata": {},
     "output_type": "execute_result"
    }
   ],
   "source": [
    "# id => #\n",
    "soup.select('#title')[0].text"
   ]
  },
  {
   "cell_type": "code",
   "execution_count": 31,
   "metadata": {},
   "outputs": [
    {
     "data": {
      "text/plain": [
       "[<a class=\"link\" href=\"#\">This is link1</a>,\n",
       " <a class=\"link\" href=\"# link2\">This is link2</a>]"
      ]
     },
     "execution_count": 31,
     "metadata": {},
     "output_type": "execute_result"
    }
   ],
   "source": [
    "# class => .\n",
    "soup.select('.link')"
   ]
  },
  {
   "cell_type": "code",
   "execution_count": 32,
   "metadata": {
    "collapsed": true
   },
   "outputs": [],
   "source": [
    "from bs4 import BeautifulSoup\n",
    "\n",
    "html_sample = '''\n",
    "<html> \n",
    "<body> \n",
    "<h1 id=\"title\">Hello World</h1> \n",
    "<a href=\"#\" class=\"link link2\">This is link1</a> \n",
    "<a href=\"# link2\" class=\"link\">This is link2</a> \n",
    "</body> \n",
    "</html>\n",
    "'''\n",
    "\n",
    "soup = BeautifulSoup(html_sample, 'html.parser')\n"
   ]
  },
  {
   "cell_type": "code",
   "execution_count": 33,
   "metadata": {},
   "outputs": [
    {
     "data": {
      "text/plain": [
       "[<a class=\"link link2\" href=\"#\">This is link1</a>,\n",
       " <a class=\"link\" href=\"# link2\">This is link2</a>]"
      ]
     },
     "execution_count": 33,
     "metadata": {},
     "output_type": "execute_result"
    }
   ],
   "source": [
    "soup.select('.link')"
   ]
  },
  {
   "cell_type": "code",
   "execution_count": 34,
   "metadata": {},
   "outputs": [
    {
     "data": {
      "text/plain": [
       "[<a class=\"link link2\" href=\"#\">This is link1</a>]"
      ]
     },
     "execution_count": 34,
     "metadata": {},
     "output_type": "execute_result"
    }
   ],
   "source": [
    "soup.select('.link2')"
   ]
  },
  {
   "cell_type": "code",
   "execution_count": 35,
   "metadata": {},
   "outputs": [
    {
     "data": {
      "text/plain": [
       "[<a class=\"link link2\" href=\"#\">This is link1</a>]"
      ]
     },
     "execution_count": 35,
     "metadata": {},
     "output_type": "execute_result"
    }
   ],
   "source": [
    "soup.select('.link.link2')"
   ]
  },
  {
   "cell_type": "code",
   "execution_count": 36,
   "metadata": {},
   "outputs": [
    {
     "data": {
      "text/plain": [
       "[<a class=\"link link2\" href=\"#\">This is link1</a>]"
      ]
     },
     "execution_count": 36,
     "metadata": {},
     "output_type": "execute_result"
    }
   ],
   "source": [
    "soup.select('a.link.link2')"
   ]
  },
  {
   "cell_type": "code",
   "execution_count": 37,
   "metadata": {},
   "outputs": [
    {
     "data": {
      "text/plain": [
       "[<h1 id=\"title\">Hello World</h1>]"
      ]
     },
     "execution_count": 37,
     "metadata": {},
     "output_type": "execute_result"
    }
   ],
   "source": [
    "soup.select('#title')"
   ]
  },
  {
   "cell_type": "code",
   "execution_count": 38,
   "metadata": {},
   "outputs": [
    {
     "data": {
      "text/plain": [
       "[<h1 id=\"title\">Hello World</h1>]"
      ]
     },
     "execution_count": 38,
     "metadata": {},
     "output_type": "execute_result"
    }
   ],
   "source": [
    "soup.select('h1#title')"
   ]
  },
  {
   "cell_type": "code",
   "execution_count": 39,
   "metadata": {},
   "outputs": [
    {
     "data": {
      "text/plain": [
       "[<h1 id=\"title\">Hello World</h1>]"
      ]
     },
     "execution_count": 39,
     "metadata": {},
     "output_type": "execute_result"
    }
   ],
   "source": [
    "soup.select('body #title')"
   ]
  },
  {
   "cell_type": "code",
   "execution_count": 42,
   "metadata": {},
   "outputs": [
    {
     "name": "stdout",
     "output_type": "stream",
     "text": [
      "#\n",
      "# link2\n"
     ]
    }
   ],
   "source": [
    "for link in soup.select('.link'):\n",
    "    #print(link)\n",
    "    print(link['href'])"
   ]
  },
  {
   "cell_type": "markdown",
   "metadata": {},
   "source": [
    "## 資料蒐集實務\n",
    "- https://chrome.google.com/webstore/detail/infolite/ipjbadabbpedegielkhgpiekdlmfpgal"
   ]
  },
  {
   "cell_type": "code",
   "execution_count": 44,
   "metadata": {
    "collapsed": true
   },
   "outputs": [],
   "source": [
    "import requests\n",
    "res = requests.get('http://www.appledaily.com.tw/realtimenews/section/new/')\n",
    "#res.text"
   ]
  },
  {
   "cell_type": "code",
   "execution_count": 66,
   "metadata": {
    "collapsed": true
   },
   "outputs": [],
   "source": [
    "from bs4 import BeautifulSoup\n",
    "domain = 'http://www.appledaily.com.tw'\n",
    "soup= BeautifulSoup(res.text, 'html.parser')\n",
    "for rec in soup.select('.rtddt a'):\n",
    "    #print(rec)\n",
    "    title    = rec.select('h1')[0].text\n",
    "    category = rec.select('h2')[0].text\n",
    "    time     = rec.select('time')[0].text\n",
    "    link     = domain + rec['href']\n",
    "    # print(category, title , time, link)\n",
    "    #print('=====================================================')"
   ]
  },
  {
   "cell_type": "code",
   "execution_count": 71,
   "metadata": {
    "collapsed": true
   },
   "outputs": [],
   "source": [
    "from bs4 import BeautifulSoup\n",
    "domain = 'http://www.appledaily.com.tw'\n",
    "soup= BeautifulSoup(res.text, 'html.parser')\n",
    "with open('appledaily.csv', 'w', encoding='utf-8-sig') as f:\n",
    "    for rec in soup.select('.rtddt a'):\n",
    "        #print(rec)\n",
    "        title    = rec.select('h1')[0].text\n",
    "        category = rec.select('h2')[0].text\n",
    "        time     = rec.select('time')[0].text\n",
    "        link     = domain + rec['href']\n",
    "        f.write('{}\\t{}\\t{}\\t{}\\n'.format(category, time, title, link))\n",
    "    # print(category, title , time, link)\n",
    "    #print('=====================================================')"
   ]
  },
  {
   "cell_type": "markdown",
   "metadata": {},
   "source": [
    "### 使用Pandas 寫檔"
   ]
  },
  {
   "cell_type": "code",
   "execution_count": 74,
   "metadata": {
    "collapsed": true
   },
   "outputs": [],
   "source": [
    "news = []\n",
    "for rec in soup.select('.rtddt a'):\n",
    "    news_dic = {}\n",
    "    news_dic['title']    = rec.select('h1')[0].text\n",
    "    news_dic['category'] = rec.select('h2')[0].text\n",
    "    news_dic['time']     = rec.select('time')[0].text\n",
    "    news_dic['link']     = domain + rec['href']\n",
    "    #print(news_dic)\n",
    "    news.append(news_dic)\n",
    "    "
   ]
  },
  {
   "cell_type": "code",
   "execution_count": 77,
   "metadata": {},
   "outputs": [
    {
     "data": {
      "text/html": [
       "<div>\n",
       "<style>\n",
       "    .dataframe thead tr:only-child th {\n",
       "        text-align: right;\n",
       "    }\n",
       "\n",
       "    .dataframe thead th {\n",
       "        text-align: left;\n",
       "    }\n",
       "\n",
       "    .dataframe tbody tr th {\n",
       "        vertical-align: top;\n",
       "    }\n",
       "</style>\n",
       "<table border=\"1\" class=\"dataframe\">\n",
       "  <thead>\n",
       "    <tr style=\"text-align: right;\">\n",
       "      <th></th>\n",
       "      <th>category</th>\n",
       "      <th>link</th>\n",
       "      <th>time</th>\n",
       "      <th>title</th>\n",
       "    </tr>\n",
       "  </thead>\n",
       "  <tbody>\n",
       "    <tr>\n",
       "      <th>0</th>\n",
       "      <td>生活</td>\n",
       "      <td>http://www.appledaily.com.tw/realtimenews/arti...</td>\n",
       "      <td>13:34</td>\n",
       "      <td>「會賺錢vs不會賺錢」　這五大特質要看清...(0)</td>\n",
       "    </tr>\n",
       "    <tr>\n",
       "      <th>1</th>\n",
       "      <td>國際</td>\n",
       "      <td>http://www.appledaily.com.tw/realtimenews/arti...</td>\n",
       "      <td>13:32</td>\n",
       "      <td>蘇拉颱風風力減弱　朝東京前進　(0)</td>\n",
       "    </tr>\n",
       "    <tr>\n",
       "      <th>2</th>\n",
       "      <td>生活</td>\n",
       "      <td>http://www.appledaily.com.tw/realtimenews/arti...</td>\n",
       "      <td>13:31</td>\n",
       "      <td>鼻癢噴嚏打不停　台大醫給你換季5建議(4408)</td>\n",
       "    </tr>\n",
       "    <tr>\n",
       "      <th>3</th>\n",
       "      <td>國際</td>\n",
       "      <td>http://www.appledaily.com.tw/realtimenews/arti...</td>\n",
       "      <td>13:28</td>\n",
       "      <td>維權律師謝燕益：獄中半年沒見過陽光(0)</td>\n",
       "    </tr>\n",
       "    <tr>\n",
       "      <th>4</th>\n",
       "      <td>社會</td>\n",
       "      <td>http://www.appledaily.com.tw/realtimenews/arti...</td>\n",
       "      <td>13:25</td>\n",
       "      <td>【法律問蘋果】夫扣小孩健保卡不給　怎麼辦(3759)</td>\n",
       "    </tr>\n",
       "  </tbody>\n",
       "</table>\n",
       "</div>"
      ],
      "text/plain": [
       "  category                                               link   time  \\\n",
       "0       生活  http://www.appledaily.com.tw/realtimenews/arti...  13:34   \n",
       "1       國際  http://www.appledaily.com.tw/realtimenews/arti...  13:32   \n",
       "2       生活  http://www.appledaily.com.tw/realtimenews/arti...  13:31   \n",
       "3       國際  http://www.appledaily.com.tw/realtimenews/arti...  13:28   \n",
       "4       社會  http://www.appledaily.com.tw/realtimenews/arti...  13:25   \n",
       "\n",
       "                        title  \n",
       "0  「會賺錢vs不會賺錢」　這五大特質要看清...(0)  \n",
       "1          蘇拉颱風風力減弱　朝東京前進　(0)  \n",
       "2    鼻癢噴嚏打不停　台大醫給你換季5建議(4408)  \n",
       "3        維權律師謝燕益：獄中半年沒見過陽光(0)  \n",
       "4  【法律問蘋果】夫扣小孩健保卡不給　怎麼辦(3759)  "
      ]
     },
     "execution_count": 77,
     "metadata": {},
     "output_type": "execute_result"
    }
   ],
   "source": [
    "import pandas\n",
    "df = pandas.DataFrame(news)\n",
    "df.head()"
   ]
  },
  {
   "cell_type": "code",
   "execution_count": 78,
   "metadata": {
    "collapsed": true
   },
   "outputs": [],
   "source": [
    "df.to_excel('appledaily.xlsx')"
   ]
  },
  {
   "cell_type": "code",
   "execution_count": 79,
   "metadata": {
    "collapsed": true
   },
   "outputs": [],
   "source": [
    "df.to_csv('appledaily2.csv')"
   ]
  },
  {
   "cell_type": "code",
   "execution_count": 81,
   "metadata": {
    "collapsed": true
   },
   "outputs": [],
   "source": [
    "df[['time']].to_html('appledaily.html')"
   ]
  },
  {
   "cell_type": "markdown",
   "metadata": {},
   "source": [
    "### 取得HTML 標籤內的屬性"
   ]
  },
  {
   "cell_type": "code",
   "execution_count": 61,
   "metadata": {},
   "outputs": [
    {
     "data": {
      "text/plain": [
       "'www.google.com'"
      ]
     },
     "execution_count": 61,
     "metadata": {},
     "output_type": "execute_result"
    }
   ],
   "source": [
    "a = '<a href=\"www.google.com\" data=\"123\" attr=\"qoo\"> qoo </a>'\n",
    "soup = BeautifulSoup(a , 'html.parser')\n",
    "soup.select('a')[0]['href']"
   ]
  },
  {
   "cell_type": "markdown",
   "metadata": {},
   "source": [
    "### 蘋果股價"
   ]
  },
  {
   "cell_type": "code",
   "execution_count": 82,
   "metadata": {},
   "outputs": [
    {
     "name": "stdout",
     "output_type": "stream",
     "text": [
      "Collecting pandas-datareader\n",
      "  Downloading pandas_datareader-0.5.0-py2.py3-none-any.whl (74kB)\n",
      "Requirement already satisfied: pandas>=0.17.0 in c:\\programdata\\anaconda3\\lib\\site-packages (from pandas-datareader)\n",
      "Collecting requests-file (from pandas-datareader)\n",
      "  Downloading requests-file-1.4.2.tar.gz\n",
      "Requirement already satisfied: requests>=2.3.0 in c:\\programdata\\anaconda3\\lib\\site-packages (from pandas-datareader)\n",
      "Collecting requests-ftp (from pandas-datareader)\n",
      "  Downloading requests-ftp-0.3.1.tar.gz\n",
      "Requirement already satisfied: python-dateutil>=2 in c:\\programdata\\anaconda3\\lib\\site-packages (from pandas>=0.17.0->pandas-datareader)\n",
      "Requirement already satisfied: pytz>=2011k in c:\\programdata\\anaconda3\\lib\\site-packages (from pandas>=0.17.0->pandas-datareader)\n",
      "Requirement already satisfied: numpy>=1.7.0 in c:\\programdata\\anaconda3\\lib\\site-packages (from pandas>=0.17.0->pandas-datareader)\n",
      "Requirement already satisfied: six in c:\\programdata\\anaconda3\\lib\\site-packages (from requests-file->pandas-datareader)\n",
      "Requirement already satisfied: chardet<3.1.0,>=3.0.2 in c:\\programdata\\anaconda3\\lib\\site-packages (from requests>=2.3.0->pandas-datareader)\n",
      "Requirement already satisfied: idna<2.7,>=2.5 in c:\\programdata\\anaconda3\\lib\\site-packages (from requests>=2.3.0->pandas-datareader)\n",
      "Requirement already satisfied: urllib3<1.23,>=1.21.1 in c:\\programdata\\anaconda3\\lib\\site-packages (from requests>=2.3.0->pandas-datareader)\n",
      "Requirement already satisfied: certifi>=2017.4.17 in c:\\programdata\\anaconda3\\lib\\site-packages (from requests>=2.3.0->pandas-datareader)\n",
      "Building wheels for collected packages: requests-file, requests-ftp\n",
      "  Running setup.py bdist_wheel for requests-file: started\n",
      "  Running setup.py bdist_wheel for requests-file: finished with status 'done'\n",
      "  Stored in directory: C:\\Users\\USER\\AppData\\Local\\pip\\Cache\\wheels\\3e\\34\\3a\\c2e634ca7b545510c1b3b7d94dea084e5fdb5f33558f3c3a81\n",
      "  Running setup.py bdist_wheel for requests-ftp: started\n",
      "  Running setup.py bdist_wheel for requests-ftp: finished with status 'done'\n",
      "  Stored in directory: C:\\Users\\USER\\AppData\\Local\\pip\\Cache\\wheels\\76\\fb\\0d\\1026eb562c34a4982dc9d39c9c582a734eefe7f0455f711deb\n",
      "Successfully built requests-file requests-ftp\n",
      "Installing collected packages: requests-file, requests-ftp, pandas-datareader\n",
      "Successfully installed pandas-datareader-0.5.0 requests-file-1.4.2 requests-ftp-0.3.1\n"
     ]
    }
   ],
   "source": [
    "! pip install pandas-datareader"
   ]
  },
  {
   "cell_type": "code",
   "execution_count": 91,
   "metadata": {
    "collapsed": true
   },
   "outputs": [],
   "source": [
    "import pandas_datareader as pdr\n",
    "apple = pdr.get_data_yahoo('AAPL')"
   ]
  },
  {
   "cell_type": "code",
   "execution_count": 113,
   "metadata": {
    "collapsed": true
   },
   "outputs": [],
   "source": [
    "import pandas\n",
    "iphonex = pandas.read_csv('iphonex.csv', parse_dates=['Week'])\n",
    "iphonex.columns = ['Date', 'iphonex']"
   ]
  },
  {
   "cell_type": "code",
   "execution_count": 115,
   "metadata": {
    "collapsed": true
   },
   "outputs": [],
   "source": [
    "iphonex.index = iphonex.Date"
   ]
  },
  {
   "cell_type": "code",
   "execution_count": 116,
   "metadata": {},
   "outputs": [
    {
     "data": {
      "text/html": [
       "<div>\n",
       "<style>\n",
       "    .dataframe thead tr:only-child th {\n",
       "        text-align: right;\n",
       "    }\n",
       "\n",
       "    .dataframe thead th {\n",
       "        text-align: left;\n",
       "    }\n",
       "\n",
       "    .dataframe tbody tr th {\n",
       "        vertical-align: top;\n",
       "    }\n",
       "</style>\n",
       "<table border=\"1\" class=\"dataframe\">\n",
       "  <thead>\n",
       "    <tr style=\"text-align: right;\">\n",
       "      <th></th>\n",
       "      <th>Date</th>\n",
       "      <th>iphonex</th>\n",
       "    </tr>\n",
       "    <tr>\n",
       "      <th>Date</th>\n",
       "      <th></th>\n",
       "      <th></th>\n",
       "    </tr>\n",
       "  </thead>\n",
       "  <tbody>\n",
       "    <tr>\n",
       "      <th>2017-09-24</th>\n",
       "      <td>2017-09-24</td>\n",
       "      <td>19</td>\n",
       "    </tr>\n",
       "    <tr>\n",
       "      <th>2017-10-01</th>\n",
       "      <td>2017-10-01</td>\n",
       "      <td>15</td>\n",
       "    </tr>\n",
       "    <tr>\n",
       "      <th>2017-10-08</th>\n",
       "      <td>2017-10-08</td>\n",
       "      <td>13</td>\n",
       "    </tr>\n",
       "    <tr>\n",
       "      <th>2017-10-15</th>\n",
       "      <td>2017-10-15</td>\n",
       "      <td>15</td>\n",
       "    </tr>\n",
       "    <tr>\n",
       "      <th>2017-10-22</th>\n",
       "      <td>2017-10-22</td>\n",
       "      <td>22</td>\n",
       "    </tr>\n",
       "  </tbody>\n",
       "</table>\n",
       "</div>"
      ],
      "text/plain": [
       "                 Date  iphonex\n",
       "Date                          \n",
       "2017-09-24 2017-09-24       19\n",
       "2017-10-01 2017-10-01       15\n",
       "2017-10-08 2017-10-08       13\n",
       "2017-10-15 2017-10-15       15\n",
       "2017-10-22 2017-10-22       22"
      ]
     },
     "execution_count": 116,
     "metadata": {},
     "output_type": "execute_result"
    }
   ],
   "source": [
    "iphonex.tail()"
   ]
  },
  {
   "cell_type": "code",
   "execution_count": 131,
   "metadata": {
    "collapsed": true
   },
   "outputs": [],
   "source": [
    "from datetime import datetime, timedelta\n",
    "apple.index  = apple.index + timedelta(days = 1)"
   ]
  },
  {
   "cell_type": "code",
   "execution_count": 133,
   "metadata": {
    "collapsed": true
   },
   "outputs": [],
   "source": [
    "ipx = pandas.merge(apple, iphonex, left_index=True, right_index=True, how='inner')"
   ]
  },
  {
   "cell_type": "code",
   "execution_count": 134,
   "metadata": {},
   "outputs": [
    {
     "name": "stdout",
     "output_type": "stream",
     "text": [
      "Populating the interactive namespace from numpy and matplotlib\n"
     ]
    },
    {
     "name": "stderr",
     "output_type": "stream",
     "text": [
      "C:\\ProgramData\\Anaconda3\\lib\\site-packages\\IPython\\core\\magics\\pylab.py:160: UserWarning: pylab import has clobbered these variables: ['rec', 'datetime', 'title', 'f']\n",
      "`%matplotlib` prevents importing * from pylab and numpy\n",
      "  \"\\n`%matplotlib` prevents importing * from pylab and numpy\"\n"
     ]
    },
    {
     "data": {
      "text/plain": [
       "<matplotlib.axes._subplots.AxesSubplot at 0xd29fcf8>"
      ]
     },
     "execution_count": 134,
     "metadata": {},
     "output_type": "execute_result"
    },
    {
     "data": {
      "image/png": "[encoded data removed]",
      "text/plain": [
       "<matplotlib.figure.Figure at 0xd29f5c0>"
      ]
     },
     "metadata": {},
     "output_type": "display_data"
    }
   ],
   "source": [
    "%pylab inline\n",
    "ipx[['iphonex', 'Close']].plot(kind= 'line')"
   ]
  },
  {
   "cell_type": "code",
   "execution_count": 150,
   "metadata": {
    "collapsed": true
   },
   "outputs": [],
   "source": [
    "import pandas_datareader as pdr\n",
    "#?pdr.get_data_yahoo\n",
    "iphone = pdr.get_data_yahoo(['AAPL', '2317.TW', 'MSFT', 'C'],start='2014-01-01')['Close']"
   ]
  },
  {
   "cell_type": "code",
   "execution_count": 151,
   "metadata": {},
   "outputs": [
    {
     "name": "stdout",
     "output_type": "stream",
     "text": [
      "Populating the interactive namespace from numpy and matplotlib\n"
     ]
    },
    {
     "data": {
      "text/plain": [
       "<matplotlib.axes._subplots.AxesSubplot at 0xc656550>"
      ]
     },
     "execution_count": 151,
     "metadata": {},
     "output_type": "execute_result"
    },
    {
     "data": {
      "image/png": "[encoded data removed]",
      "text/plain": [
       "<matplotlib.figure.Figure at 0xd2edcc0>"
      ]
     },
     "metadata": {},
     "output_type": "display_data"
    }
   ],
   "source": [
    "%pylab inline\n",
    "iphone.plot(kind= 'line')"
   ]
  },
  {
   "cell_type": "code",
   "execution_count": 152,
   "metadata": {},
   "outputs": [
    {
     "data": {
      "text/html": [
       "<div>\n",
       "<style>\n",
       "    .dataframe thead tr:only-child th {\n",
       "        text-align: right;\n",
       "    }\n",
       "\n",
       "    .dataframe thead th {\n",
       "        text-align: left;\n",
       "    }\n",
       "\n",
       "    .dataframe tbody tr th {\n",
       "        vertical-align: top;\n",
       "    }\n",
       "</style>\n",
       "<table border=\"1\" class=\"dataframe\">\n",
       "  <thead>\n",
       "    <tr style=\"text-align: right;\">\n",
       "      <th></th>\n",
       "      <th>2317.TW</th>\n",
       "      <th>AAPL</th>\n",
       "      <th>C</th>\n",
       "      <th>MSFT</th>\n",
       "    </tr>\n",
       "  </thead>\n",
       "  <tbody>\n",
       "    <tr>\n",
       "      <th>2317.TW</th>\n",
       "      <td>1.000000</td>\n",
       "      <td>0.869762</td>\n",
       "      <td>0.823036</td>\n",
       "      <td>0.817061</td>\n",
       "    </tr>\n",
       "    <tr>\n",
       "      <th>AAPL</th>\n",
       "      <td>0.869762</td>\n",
       "      <td>1.000000</td>\n",
       "      <td>0.800835</td>\n",
       "      <td>0.781102</td>\n",
       "    </tr>\n",
       "    <tr>\n",
       "      <th>C</th>\n",
       "      <td>0.823036</td>\n",
       "      <td>0.800835</td>\n",
       "      <td>1.000000</td>\n",
       "      <td>0.660378</td>\n",
       "    </tr>\n",
       "    <tr>\n",
       "      <th>MSFT</th>\n",
       "      <td>0.817061</td>\n",
       "      <td>0.781102</td>\n",
       "      <td>0.660378</td>\n",
       "      <td>1.000000</td>\n",
       "    </tr>\n",
       "  </tbody>\n",
       "</table>\n",
       "</div>"
      ],
      "text/plain": [
       "          2317.TW      AAPL         C      MSFT\n",
       "2317.TW  1.000000  0.869762  0.823036  0.817061\n",
       "AAPL     0.869762  1.000000  0.800835  0.781102\n",
       "C        0.823036  0.800835  1.000000  0.660378\n",
       "MSFT     0.817061  0.781102  0.660378  1.000000"
      ]
     },
     "execution_count": 152,
     "metadata": {},
     "output_type": "execute_result"
    }
   ],
   "source": [
    "iphone.corr()"
   ]
  },
  {
   "cell_type": "code",
   "execution_count": 153,
   "metadata": {
    "collapsed": true
   },
   "outputs": [],
   "source": [
    "import pandas_datareader as pdr\n",
    "#?pdr.get_data_yahoo\n",
    "tw = pdr.get_data_yahoo(['1101.TW', '1102.TW', '2317.TW', '2330.TW'],start='2014-01-01')['Close']"
   ]
  },
  {
   "cell_type": "code",
   "execution_count": 155,
   "metadata": {},
   "outputs": [
    {
     "name": "stdout",
     "output_type": "stream",
     "text": [
      "Populating the interactive namespace from numpy and matplotlib\n"
     ]
    },
    {
     "data": {
      "text/plain": [
       "<matplotlib.axes._subplots.AxesSubplot at 0xcbee780>"
      ]
     },
     "execution_count": 155,
     "metadata": {},
     "output_type": "execute_result"
    },
    {
     "data": {
      "image/png": "[encoded data removed]",
      "text/plain": [
       "<matplotlib.figure.Figure at 0xd2d04a8>"
      ]
     },
     "metadata": {},
     "output_type": "display_data"
    }
   ],
   "source": [
    "%pylab inline\n",
    "tw.plot(kind= 'line')"
   ]
  },
  {
   "cell_type": "code",
   "execution_count": 156,
   "metadata": {},
   "outputs": [
    {
     "data": {
      "text/html": [
       "<div>\n",
       "<style>\n",
       "    .dataframe thead tr:only-child th {\n",
       "        text-align: right;\n",
       "    }\n",
       "\n",
       "    .dataframe thead th {\n",
       "        text-align: left;\n",
       "    }\n",
       "\n",
       "    .dataframe tbody tr th {\n",
       "        vertical-align: top;\n",
       "    }\n",
       "</style>\n",
       "<table border=\"1\" class=\"dataframe\">\n",
       "  <thead>\n",
       "    <tr style=\"text-align: right;\">\n",
       "      <th></th>\n",
       "      <th>1101.TW</th>\n",
       "      <th>1102.TW</th>\n",
       "      <th>2317.TW</th>\n",
       "      <th>2330.TW</th>\n",
       "    </tr>\n",
       "  </thead>\n",
       "  <tbody>\n",
       "    <tr>\n",
       "      <th>1101.TW</th>\n",
       "      <td>1.000000</td>\n",
       "      <td>0.836477</td>\n",
       "      <td>-0.187594</td>\n",
       "      <td>-0.524893</td>\n",
       "    </tr>\n",
       "    <tr>\n",
       "      <th>1102.TW</th>\n",
       "      <td>0.836477</td>\n",
       "      <td>1.000000</td>\n",
       "      <td>-0.333021</td>\n",
       "      <td>-0.684081</td>\n",
       "    </tr>\n",
       "    <tr>\n",
       "      <th>2317.TW</th>\n",
       "      <td>-0.187594</td>\n",
       "      <td>-0.333021</td>\n",
       "      <td>1.000000</td>\n",
       "      <td>0.818523</td>\n",
       "    </tr>\n",
       "    <tr>\n",
       "      <th>2330.TW</th>\n",
       "      <td>-0.524893</td>\n",
       "      <td>-0.684081</td>\n",
       "      <td>0.818523</td>\n",
       "      <td>1.000000</td>\n",
       "    </tr>\n",
       "  </tbody>\n",
       "</table>\n",
       "</div>"
      ],
      "text/plain": [
       "          1101.TW   1102.TW   2317.TW   2330.TW\n",
       "1101.TW  1.000000  0.836477 -0.187594 -0.524893\n",
       "1102.TW  0.836477  1.000000 -0.333021 -0.684081\n",
       "2317.TW -0.187594 -0.333021  1.000000  0.818523\n",
       "2330.TW -0.524893 -0.684081  0.818523  1.000000"
      ]
     },
     "execution_count": 156,
     "metadata": {},
     "output_type": "execute_result"
    }
   ],
   "source": [
    "tw.corr()"
   ]
  },
  {
   "cell_type": "markdown",
   "metadata": {},
   "source": [
    "## 抓取PTT"
   ]
  },
  {
   "cell_type": "code",
   "execution_count": 157,
   "metadata": {
    "collapsed": true
   },
   "outputs": [],
   "source": [
    "import requests\n",
    "res = requests.get('https://www.ptt.cc/bbs/Tech_Job/index.html')"
   ]
  },
  {
   "cell_type": "code",
   "execution_count": 159,
   "metadata": {
    "collapsed": true
   },
   "outputs": [],
   "source": [
    "from bs4 import BeautifulSoup\n",
    "soup = BeautifulSoup(res.text, 'html.parser')"
   ]
  },
  {
   "cell_type": "code",
   "execution_count": 169,
   "metadata": {
    "collapsed": true
   },
   "outputs": [],
   "source": [
    "ptt_ary = []\n",
    "for rec in soup.select('.r-ent'):\n",
    "    #print(rec)\n",
    "    ptt_dic = {}\n",
    "    ptt_dic['title']  = rec.select('.title')[0].text.strip()\n",
    "    ptt_dic['date']   = rec.select('.date')[0].text.strip()\n",
    "    ptt_dic['author'] = rec.select('.author')[0].text.strip()\n",
    "    ptt_dic['cnt']    = rec.select('.nrec')[0].text.strip()\n",
    "    ptt_ary.append(ptt_dic)"
   ]
  },
  {
   "cell_type": "code",
   "execution_count": 172,
   "metadata": {
    "collapsed": true
   },
   "outputs": [],
   "source": [
    "ptt = pandas.DataFrame(ptt_ary)\n",
    "ptt.to_excel('tech_job.xlsx')"
   ]
  },
  {
   "cell_type": "markdown",
   "metadata": {},
   "source": [
    "## 抓取八卦板"
   ]
  },
  {
   "cell_type": "code",
   "execution_count": 176,
   "metadata": {
    "collapsed": true
   },
   "outputs": [],
   "source": [
    "import requests\n",
    "cookies = {\n",
    "    'over18': '1'\n",
    "}\n",
    "res = requests.get('https://www.ptt.cc/bbs/Gossiping/index.html', cookies = cookies)\n",
    "#res.text"
   ]
  },
  {
   "cell_type": "markdown",
   "metadata": {},
   "source": [
    "## 抓取CK101"
   ]
  },
  {
   "cell_type": "code",
   "execution_count": 181,
   "metadata": {},
   "outputs": [
    {
     "data": {
      "text/plain": [
       "{'User-Agent': 'python-requests/2.18.4', 'Accept-Encoding': 'gzip, deflate', 'Accept': '*/*', 'Connection': 'keep-alive'}"
      ]
     },
     "execution_count": 181,
     "metadata": {},
     "output_type": "execute_result"
    }
   ],
   "source": [
    "import requests\n",
    "res = requests.get('https://ck101.com/')\n",
    "#res.\n",
    "headers = requests.utils.default_headers()\n",
    "headers"
   ]
  },
  {
   "cell_type": "code",
   "execution_count": 183,
   "metadata": {
    "collapsed": true
   },
   "outputs": [],
   "source": [
    "headers = {\n",
    "  'user-agent':'Mozilla/5.0 (Windows NT 6.1; Win64; x64) AppleWebKit/537.36 (KHTML, like Gecko) Chrome/61.0.3163.100 Safari/537.36'\n",
    "}\n",
    "res = requests.get('https://ck101.com/', headers = headers )\n",
    "#res.text"
   ]
  },
  {
   "cell_type": "markdown",
   "metadata": {},
   "source": [
    "## 抓取內文資訊"
   ]
  },
  {
   "cell_type": "code",
   "execution_count": 188,
   "metadata": {
    "collapsed": true
   },
   "outputs": [],
   "source": [
    "import requests\n",
    "res = requests.get('http://www.appledaily.com.tw/realtimenews/article/life/20171029/1230695/%E3%80%8C%E6%9C%83%E8%B3%BA%E9%8C%A2vs%E4%B8%8D%E6%9C%83%E8%B3%BA%E9%8C%A2%E3%80%8D/u3000%E9%80%99%E4%BA%94%E5%A4%A7%E7%89%B9%E8%B3%AA%E8%A6%81%E7%9C%8B%E6%B8%85%E6%A5%9A')\n",
    "#res.text"
   ]
  },
  {
   "cell_type": "code",
   "execution_count": 192,
   "metadata": {
    "collapsed": true
   },
   "outputs": [],
   "source": [
    "from bs4 import BeautifulSoup\n",
    "soup = BeautifulSoup(res.text, 'html.parser')\n"
   ]
  },
  {
   "cell_type": "code",
   "execution_count": 194,
   "metadata": {},
   "outputs": [
    {
     "data": {
      "text/plain": [
       "'「會賺錢vs不會賺錢」\\u3000這五大特質要看清楚'"
      ]
     },
     "execution_count": 194,
     "metadata": {},
     "output_type": "execute_result"
    }
   ],
   "source": [
    "title = soup.select('#h1')[0].text\n",
    "title"
   ]
  },
  {
   "cell_type": "code",
   "execution_count": 198,
   "metadata": {},
   "outputs": [
    {
     "data": {
      "text/plain": [
       "'日本雜誌調查「會賺錢」以及「不會賺錢」的人格特質，這5點您同意嗎？有日本網友在論壇分享某雜誌兩張報導內容，兩張圖分別畫出「年收500萬日圓(約132萬台幣)」與「年收2000萬日圓(約台幣530萬)」的特徵對比，引發其他網友熱烈討論，年收500萬的那張圖顯示的5項行為是「1.總是待在家裡，不與人交際」、「2.空閒的時間總是不知道要幹嘛」、「3.公司離家裡很遠」、「4.完全不看報章雜誌」、「5.總是不出門、完全不旅遊」。相較之下，年收2000萬的特質則是「1.善於社交、獲得情報」、「2.總是掌握政治、經濟等議題」、「3.沒有什麼空閒時間」、「4.充滿能量、行動力十足」、「5.讀書量多、定期購買雜誌」，當然一個人有錢與否，因素還很多，雜誌的調查結果當參考用比較好！（即時新聞中心／綜合報導）'"
      ]
     },
     "execution_count": 198,
     "metadata": {},
     "output_type": "execute_result"
    }
   ],
   "source": [
    "content = soup.select('#summary')[0].text\n",
    "content"
   ]
  },
  {
   "cell_type": "code",
   "execution_count": 201,
   "metadata": {},
   "outputs": [
    {
     "data": {
      "text/plain": [
       "'2017年10月29日13:34'"
      ]
     },
     "execution_count": 201,
     "metadata": {},
     "output_type": "execute_result"
    }
   ],
   "source": [
    "dt = soup.select('.gggs time')[0].text\n",
    "dt"
   ]
  },
  {
   "cell_type": "code",
   "execution_count": 202,
   "metadata": {},
   "outputs": [
    {
     "data": {
      "text/plain": [
       "'人氣(8646)'"
      ]
     },
     "execution_count": 202,
     "metadata": {},
     "output_type": "execute_result"
    }
   ],
   "source": [
    "clicked = soup.select('.clicked')[0].text\n",
    "clicked"
   ]
  },
  {
   "cell_type": "markdown",
   "metadata": {},
   "source": [
    "## 完成爬蟲流程"
   ]
  },
  {
   "cell_type": "code",
   "execution_count": 203,
   "metadata": {
    "collapsed": true
   },
   "outputs": [],
   "source": [
    "import requests\n",
    "from bs4 import BeautifulSoup"
   ]
  },
  {
   "cell_type": "code",
   "execution_count": 210,
   "metadata": {
    "collapsed": true
   },
   "outputs": [],
   "source": [
    "def pageDetail(url):\n",
    "    res     = requests.get(url)\n",
    "    soup    = BeautifulSoup(res.text, 'html.parser')\n",
    "    title   = soup.select('#h1')[0].text\n",
    "    summary = soup.select('#summary')[0].text\n",
    "    dt      = soup.select('.gggs time')[0].text\n",
    "    clicked = None\n",
    "    try:\n",
    "        clicked = soup.select('.clicked')[0].text\n",
    "    except:\n",
    "        pass\n",
    "    return {'title':title, 'summary':summary, 'dt':dt, 'clicked':clicked}\n"
   ]
  },
  {
   "cell_type": "code",
   "execution_count": 211,
   "metadata": {},
   "outputs": [
    {
     "data": {
      "text/plain": [
       "{'clicked': '人氣(9291)',\n",
       " 'dt': '2017年10月29日13:34',\n",
       " 'summary': '日本雜誌調查「會賺錢」以及「不會賺錢」的人格特質，這5點您同意嗎？有日本網友在論壇分享某雜誌兩張報導內容，兩張圖分別畫出「年收500萬日圓(約132萬台幣)」與「年收2000萬日圓(約台幣530萬)」的特徵對比，引發其他網友熱烈討論，年收500萬的那張圖顯示的5項行為是「1.總是待在家裡，不與人交際」、「2.空閒的時間總是不知道要幹嘛」、「3.公司離家裡很遠」、「4.完全不看報章雜誌」、「5.總是不出門、完全不旅遊」。相較之下，年收2000萬的特質則是「1.善於社交、獲得情報」、「2.總是掌握政治、經濟等議題」、「3.沒有什麼空閒時間」、「4.充滿能量、行動力十足」、「5.讀書量多、定期購買雜誌」，當然一個人有錢與否，因素還很多，雜誌的調查結果當參考用比較好！（即時新聞中心／綜合報導）',\n",
       " 'title': '「會賺錢vs不會賺錢」\\u3000這五大特質要看清楚'}"
      ]
     },
     "execution_count": 211,
     "metadata": {},
     "output_type": "execute_result"
    }
   ],
   "source": [
    "pageDetail('http://www.appledaily.com.tw/realtimenews/article/life/20171029/1230695/%E3%80%8C%E6%9C%83%E8%B3%BA%E9%8C%A2vs%E4%B8%8D%E6%9C%83%E8%B3%BA%E9%8C%A2%E3%80%8D/u3000%E9%80%99%E4%BA%94%E5%A4%A7%E7%89%B9%E8%B3%AA%E8%A6%81%E7%9C%8B%E6%B8%85%E6%A5%9A')"
   ]
  },
  {
   "cell_type": "code",
   "execution_count": 212,
   "metadata": {},
   "outputs": [
    {
     "data": {
      "text/plain": [
       "{'clicked': None,\n",
       " 'dt': '2017年10月29日15:44',\n",
       " 'summary': '2017彰化縣馬拉松月今天開跑！首先登場的是「嬉遊百果山－員林獅子盃半程馬拉松暨第9屆路跑」，今天在員林市員林國民小學操場開跑，彰化縣長魏明谷、員林市長張錦昆等，一起為鳴槍起跑。接著還有二水、田中、鹿港等路跑活動，將在接下來的3個周日陸續舉行。員林獅子盃路跑活動從一開始只有幾千人參與，到現在每年都有上萬人到彰化員林參加，也有許多陪同的親友一起來加油，也成為全國指標性的路跑活動之一，主辦單位也為每一位選手，捐出10元給弱勢社團，槍聲響起，穿著紫色上衣的選手往終點奔去，員林市街道一片紫，相當鮮豔、有活力，路跑完賽後，還有不少人騎著YouBike在員林趴趴走，暢遊員林文化觀光及品嘗小吃美食。魏明谷說，員林獅子盃馬拉松邁入第9年，今年新增半程馬拉松（21公里），接著將在二水（11月5日）、田中（11月12日）、鹿港（11月19日）各舉辦路跑活動，堪稱馬拉松界的優質賽事大集合，希望用運動行銷彰化、帶動地方產業，更能強身。員林獅子會會長陳志弘表示，全國各地跑者踴躍報名參加今天的盛會，期望選手在路跑過程中能欣賞彰化的沿途風景，並以安全為最大考量，讓大家都跑得愉快。（鄧惠珍／彰化報導）',\n",
       " 'title': '彰化馬拉松月開跑\\u30004周連4場賽事'}"
      ]
     },
     "execution_count": 212,
     "metadata": {},
     "output_type": "execute_result"
    }
   ],
   "source": [
    "pageDetail('http://www.appledaily.com.tw/realtimenews/article/life/20171029/1231158/%E5%BD%B0%E5%8C%96%E9%A6%AC%E6%8B%89%E6%9D%BE%E6%9C%88%E9%96%8B%E8%B7%91%E3%80%804%E5%91%A8%E9%80%A34%E5%A0%B4%E8%B3%BD%E4%BA%8B')"
   ]
  },
  {
   "cell_type": "code",
   "execution_count": 222,
   "metadata": {},
   "outputs": [
    {
     "name": "stdout",
     "output_type": "stream",
     "text": [
      "http://www.appledaily.com.tw/realtimenews/section/new/1\n",
      "http://www.appledaily.com.tw/realtimenews/section/new/2\n"
     ]
    }
   ],
   "source": [
    "url = 'http://www.appledaily.com.tw/realtimenews/section/new/{}'\n",
    "for i in range(1,3):\n",
    "    print(url.format(i))"
   ]
  },
  {
   "cell_type": "code",
   "execution_count": 223,
   "metadata": {},
   "outputs": [
    {
     "name": "stdout",
     "output_type": "stream",
     "text": [
      "1\n",
      "2\n",
      "3\n",
      "4\n",
      "5\n",
      "6\n",
      "7\n",
      "8\n",
      "9\n",
      "10\n"
     ]
    }
   ],
   "source": [
    "domain = 'http://www.appledaily.com.tw'\n",
    "url = 'http://www.appledaily.com.tw/realtimenews/section/new/{}'\n",
    "\n",
    "news_ary = []\n",
    "for i in range(1,11):\n",
    "    res  = requests.get(url.format(i))\n",
    "    soup = BeautifulSoup(res.text, 'html.parser')\n",
    "\n",
    "    for rec in soup.select('.rtddt a'):\n",
    "        #print(rec)\n",
    "        news_dic = {}\n",
    "        news_dic['link']     = domain + rec['href']\n",
    "        news_dic['category'] = rec.select('h2')[0].text\n",
    "        content_dic          = pageDetail(news_dic['link'])\n",
    "        news_dic.update(content_dic)\n",
    "        news_ary.append(news_dic)\n",
    "    print(i)\n",
    "    #print('=================================')"
   ]
  },
  {
   "cell_type": "code",
   "execution_count": 224,
   "metadata": {},
   "outputs": [
    {
     "data": {
      "text/html": [
       "<div>\n",
       "<style>\n",
       "    .dataframe thead tr:only-child th {\n",
       "        text-align: right;\n",
       "    }\n",
       "\n",
       "    .dataframe thead th {\n",
       "        text-align: left;\n",
       "    }\n",
       "\n",
       "    .dataframe tbody tr th {\n",
       "        vertical-align: top;\n",
       "    }\n",
       "</style>\n",
       "<table border=\"1\" class=\"dataframe\">\n",
       "  <thead>\n",
       "    <tr style=\"text-align: right;\">\n",
       "      <th></th>\n",
       "      <th>category</th>\n",
       "      <th>clicked</th>\n",
       "      <th>dt</th>\n",
       "      <th>link</th>\n",
       "      <th>summary</th>\n",
       "      <th>title</th>\n",
       "    </tr>\n",
       "  </thead>\n",
       "  <tbody>\n",
       "    <tr>\n",
       "      <th>0</th>\n",
       "      <td>時尚</td>\n",
       "      <td>None</td>\n",
       "      <td>2017年10月29日16:12</td>\n",
       "      <td>http://www.appledaily.com.tw/realtimenews/arti...</td>\n",
       "      <td>英國人權律師艾默克魯尼（Amal Clooney）產後4個多月不僅迅速恢復身形，除了重返工作...</td>\n",
       "      <td>克魯尼嬌妻華麗迪斯可Look　頂爆炸頭比美超模</td>\n",
       "    </tr>\n",
       "    <tr>\n",
       "      <th>1</th>\n",
       "      <td>生活</td>\n",
       "      <td>None</td>\n",
       "      <td>2017年10月29日16:11</td>\n",
       "      <td>http://www.appledaily.com.tw/realtimenews/arti...</td>\n",
       "      <td>台中市政府舉辦的「搖滾台中」將於下月4日、5日在台中公園登場，超過50組藝人輪番嗨唱搖滾之夜...</td>\n",
       "      <td>搖滾台中下周六登場　50樂團不斷電演出</td>\n",
       "    </tr>\n",
       "    <tr>\n",
       "      <th>2</th>\n",
       "      <td>體育</td>\n",
       "      <td>None</td>\n",
       "      <td>2017年10月29日16:10</td>\n",
       "      <td>http://www.appledaily.com.tw/realtimenews/arti...</td>\n",
       "      <td>Lamigo桃猿今天先發名單做出調整，由於先發投手是左投道恩斯，因此安排「御用」捕手嚴宏鈞。...</td>\n",
       "      <td>道恩斯御用捕手　嚴宏鈞：我阻殺好</td>\n",
       "    </tr>\n",
       "    <tr>\n",
       "      <th>3</th>\n",
       "      <td>社會</td>\n",
       "      <td>None</td>\n",
       "      <td>2017年10月29日16:08</td>\n",
       "      <td>http://www.appledaily.com.tw/realtimenews/arti...</td>\n",
       "      <td>台中梨山一名賣茶葉的汪姓男子，3年前和經營飯店的7旬羅姓鄰居因停車問題爭吵，汪朝羅的臉部揍3...</td>\n",
       "      <td>揮3拳就讓老鄰居慘死　法官認：「沒殺機」</td>\n",
       "    </tr>\n",
       "    <tr>\n",
       "      <th>4</th>\n",
       "      <td>社會</td>\n",
       "      <td>None</td>\n",
       "      <td>2017年10月29日16:05</td>\n",
       "      <td>http://www.appledaily.com.tw/realtimenews/arti...</td>\n",
       "      <td>新北市三峽區大埔路一處空地，昨天28日清晨4時許，發生一名19歲男子與人談判不成，竟遭兩名兇...</td>\n",
       "      <td>供稱借不到機車　雙方糾眾談判砍成重傷</td>\n",
       "    </tr>\n",
       "  </tbody>\n",
       "</table>\n",
       "</div>"
      ],
      "text/plain": [
       "  category clicked                dt  \\\n",
       "0       時尚    None  2017年10月29日16:12   \n",
       "1       生活    None  2017年10月29日16:11   \n",
       "2       體育    None  2017年10月29日16:10   \n",
       "3       社會    None  2017年10月29日16:08   \n",
       "4       社會    None  2017年10月29日16:05   \n",
       "\n",
       "                                                link  \\\n",
       "0  http://www.appledaily.com.tw/realtimenews/arti...   \n",
       "1  http://www.appledaily.com.tw/realtimenews/arti...   \n",
       "2  http://www.appledaily.com.tw/realtimenews/arti...   \n",
       "3  http://www.appledaily.com.tw/realtimenews/arti...   \n",
       "4  http://www.appledaily.com.tw/realtimenews/arti...   \n",
       "\n",
       "                                             summary                    title  \n",
       "0  英國人權律師艾默克魯尼（Amal Clooney）產後4個多月不僅迅速恢復身形，除了重返工作...  克魯尼嬌妻華麗迪斯可Look　頂爆炸頭比美超模  \n",
       "1  台中市政府舉辦的「搖滾台中」將於下月4日、5日在台中公園登場，超過50組藝人輪番嗨唱搖滾之夜...      搖滾台中下周六登場　50樂團不斷電演出  \n",
       "2  Lamigo桃猿今天先發名單做出調整，由於先發投手是左投道恩斯，因此安排「御用」捕手嚴宏鈞。...         道恩斯御用捕手　嚴宏鈞：我阻殺好  \n",
       "3  台中梨山一名賣茶葉的汪姓男子，3年前和經營飯店的7旬羅姓鄰居因停車問題爭吵，汪朝羅的臉部揍3...     揮3拳就讓老鄰居慘死　法官認：「沒殺機」  \n",
       "4  新北市三峽區大埔路一處空地，昨天28日清晨4時許，發生一名19歲男子與人談判不成，竟遭兩名兇...       供稱借不到機車　雙方糾眾談判砍成重傷  "
      ]
     },
     "execution_count": 224,
     "metadata": {},
     "output_type": "execute_result"
    }
   ],
   "source": [
    "import pandas\n",
    "newspd = pandas.DataFrame(news_ary)\n",
    "newspd.head()"
   ]
  },
  {
   "cell_type": "code",
   "execution_count": 226,
   "metadata": {
    "collapsed": true
   },
   "outputs": [],
   "source": [
    "newspd.to_excel('appledaily2.xlsx')"
   ]
  },
  {
   "cell_type": "markdown",
   "metadata": {},
   "source": [
    "## 抓取591 資訊"
   ]
  },
  {
   "cell_type": "code",
   "execution_count": 230,
   "metadata": {
    "collapsed": true
   },
   "outputs": [],
   "source": [
    "import requests\n",
    "headers = {\n",
    "    'User-Agent':'Mozilla/5.0 (Windows NT 6.1; Win64; x64) AppleWebKit/537.36 (KHTML, like Gecko) Chrome/61.0.3163.100 Safari/537.36'\n",
    "}\n",
    "res = requests.get('https://rent.591.com.tw/?kind=1&region=1&section=5', headers = headers)\n",
    "#res.text"
   ]
  },
  {
   "cell_type": "code",
   "execution_count": 234,
   "metadata": {
    "collapsed": true
   },
   "outputs": [],
   "source": [
    "url = 'https://rent.591.com.tw/home/search/rsList?is_new_list=1&type=1&kind=1&searchtype=1&region=1&section=5&firstRow=180&totalRows=749'\n",
    "res = requests.get(url, headers = headers)\n",
    "jd = res.json()"
   ]
  },
  {
   "cell_type": "code",
   "execution_count": 243,
   "metadata": {},
   "outputs": [
    {
     "data": {
      "text/html": [
       "<div>\n",
       "<style>\n",
       "    .dataframe thead tr:only-child th {\n",
       "        text-align: right;\n",
       "    }\n",
       "\n",
       "    .dataframe thead th {\n",
       "        text-align: left;\n",
       "    }\n",
       "\n",
       "    .dataframe tbody tr th {\n",
       "        vertical-align: top;\n",
       "    }\n",
       "</style>\n",
       "<table border=\"1\" class=\"dataframe\">\n",
       "  <thead>\n",
       "    <tr style=\"text-align: right;\">\n",
       "      <th></th>\n",
       "      <th>addInfo</th>\n",
       "      <th>addition2</th>\n",
       "      <th>addition3</th>\n",
       "      <th>addition4</th>\n",
       "      <th>addr_number_name</th>\n",
       "      <th>address</th>\n",
       "      <th>address_img</th>\n",
       "      <th>address_img_title</th>\n",
       "      <th>alley_name</th>\n",
       "      <th>allfloor</th>\n",
       "      <th>...</th>\n",
       "      <th>storeprice</th>\n",
       "      <th>street_name</th>\n",
       "      <th>streetid</th>\n",
       "      <th>type</th>\n",
       "      <th>unit</th>\n",
       "      <th>updatetime</th>\n",
       "      <th>user_id</th>\n",
       "      <th>vipBorder</th>\n",
       "      <th>vipimg</th>\n",
       "      <th>vipstyle</th>\n",
       "    </tr>\n",
       "  </thead>\n",
       "  <tbody>\n",
       "    <tr>\n",
       "      <th>0</th>\n",
       "      <td></td>\n",
       "      <td>0</td>\n",
       "      <td>0</td>\n",
       "      <td>0</td>\n",
       "      <td></td>\n",
       "      <td>新生南路二段正面大安森林公園..</td>\n",
       "      <td>正面大安森林公園~SRC崗石豪邸3房含車</td>\n",
       "      <td>正面大安森林公園~SRC崗石豪邸3房含車</td>\n",
       "      <td></td>\n",
       "      <td>15</td>\n",
       "      <td>...</td>\n",
       "      <td>0</td>\n",
       "      <td>新生南路二段</td>\n",
       "      <td>25668</td>\n",
       "      <td>1</td>\n",
       "      <td>元/月</td>\n",
       "      <td>1507034359</td>\n",
       "      <td>1011506</td>\n",
       "      <td></td>\n",
       "      <td></td>\n",
       "      <td></td>\n",
       "    </tr>\n",
       "  </tbody>\n",
       "</table>\n",
       "<p>1 rows × 88 columns</p>\n",
       "</div>"
      ],
      "text/plain": [
       "  addInfo  addition2  addition3  addition4 addr_number_name           address  \\\n",
       "0                  0          0          0                   新生南路二段正面大安森林公園..   \n",
       "\n",
       "            address_img     address_img_title alley_name  allfloor    ...     \\\n",
       "0  正面大安森林公園~SRC崗石豪邸3房含車  正面大安森林公園~SRC崗石豪邸3房含車                   15    ...      \n",
       "\n",
       "  storeprice  street_name streetid  type  unit  updatetime  user_id  \\\n",
       "0          0       新生南路二段    25668     1   元/月  1507034359  1011506   \n",
       "\n",
       "   vipBorder vipimg  vipstyle  \n",
       "0                              \n",
       "\n",
       "[1 rows x 88 columns]"
      ]
     },
     "execution_count": 243,
     "metadata": {},
     "output_type": "execute_result"
    }
   ],
   "source": [
    "import pandas\n",
    "df = pandas.DataFrame(jd['data']['data'])\n",
    "df.head(1)"
   ]
  },
  {
   "cell_type": "code",
   "execution_count": 241,
   "metadata": {
    "collapsed": true
   },
   "outputs": [],
   "source": [
    "df=df[['address','floor','allfloor','layout','area','price','browsenum_all']]"
   ]
  },
  {
   "cell_type": "code",
   "execution_count": 242,
   "metadata": {},
   "outputs": [
    {
     "data": {
      "text/html": [
       "<div>\n",
       "<style>\n",
       "    .dataframe thead tr:only-child th {\n",
       "        text-align: right;\n",
       "    }\n",
       "\n",
       "    .dataframe thead th {\n",
       "        text-align: left;\n",
       "    }\n",
       "\n",
       "    .dataframe tbody tr th {\n",
       "        vertical-align: top;\n",
       "    }\n",
       "</style>\n",
       "<table border=\"1\" class=\"dataframe\">\n",
       "  <thead>\n",
       "    <tr style=\"text-align: right;\">\n",
       "      <th></th>\n",
       "      <th>address</th>\n",
       "      <th>floor</th>\n",
       "      <th>allfloor</th>\n",
       "      <th>layout</th>\n",
       "      <th>area</th>\n",
       "      <th>price</th>\n",
       "      <th>browsenum_all</th>\n",
       "    </tr>\n",
       "  </thead>\n",
       "  <tbody>\n",
       "    <tr>\n",
       "      <th>0</th>\n",
       "      <td>新生南路二段正面大安森林公園..</td>\n",
       "      <td>4</td>\n",
       "      <td>15</td>\n",
       "      <td>3房2廳3衛</td>\n",
       "      <td>157.7</td>\n",
       "      <td>210,000</td>\n",
       "      <td>222</td>\n",
       "    </tr>\n",
       "    <tr>\n",
       "      <th>1</th>\n",
       "      <td>信義路二段東門站旁★超值挑高..</td>\n",
       "      <td>2</td>\n",
       "      <td>11</td>\n",
       "      <td>2房1廳1衛</td>\n",
       "      <td>11.6</td>\n",
       "      <td>30,000</td>\n",
       "      <td>472</td>\n",
       "    </tr>\n",
       "    <tr>\n",
       "      <th>2</th>\n",
       "      <td>金山南路二段31巷【東門站精選..</td>\n",
       "      <td>3</td>\n",
       "      <td>6</td>\n",
       "      <td>4房2廳2衛</td>\n",
       "      <td>35.1</td>\n",
       "      <td>38,000</td>\n",
       "      <td>373</td>\n",
       "    </tr>\n",
       "    <tr>\n",
       "      <th>3</th>\n",
       "      <td>信義路二段【東門站精選】優質..</td>\n",
       "      <td>11</td>\n",
       "      <td>14</td>\n",
       "      <td>3房2廳2衛</td>\n",
       "      <td>53.2</td>\n",
       "      <td>90,000</td>\n",
       "      <td>139</td>\n",
       "    </tr>\n",
       "    <tr>\n",
       "      <th>4</th>\n",
       "      <td>信義路四段信義安和電梯4房09..</td>\n",
       "      <td>2</td>\n",
       "      <td>7</td>\n",
       "      <td>4房2廳2衛</td>\n",
       "      <td>46.4</td>\n",
       "      <td>52,000</td>\n",
       "      <td>135</td>\n",
       "    </tr>\n",
       "  </tbody>\n",
       "</table>\n",
       "</div>"
      ],
      "text/plain": [
       "             address  floor  allfloor  layout   area    price  browsenum_all\n",
       "0   新生南路二段正面大安森林公園..      4        15  3房2廳3衛  157.7  210,000            222\n",
       "1   信義路二段東門站旁★超值挑高..      2        11  2房1廳1衛   11.6   30,000            472\n",
       "2  金山南路二段31巷【東門站精選..      3         6  4房2廳2衛   35.1   38,000            373\n",
       "3   信義路二段【東門站精選】優質..     11        14  3房2廳2衛   53.2   90,000            139\n",
       "4  信義路四段信義安和電梯4房09..      2         7  4房2廳2衛   46.4   52,000            135"
      ]
     },
     "execution_count": 242,
     "metadata": {},
     "output_type": "execute_result"
    }
   ],
   "source": [
    "df.head()"
   ]
  },
  {
   "cell_type": "markdown",
   "metadata": {},
   "source": [
    "## 完成591爬蟲"
   ]
  },
  {
   "cell_type": "code",
   "execution_count": 244,
   "metadata": {
    "collapsed": true
   },
   "outputs": [],
   "source": [
    "import requests\n",
    "import pandas\n",
    "headers = {\n",
    "    'User-Agent':'Mozilla/5.0 (Windows NT 6.1; Win64; x64) AppleWebKit/537.36 (KHTML, like Gecko) Chrome/61.0.3163.100 Safari/537.36'\n",
    "}\n",
    "\n",
    "url = 'https://rent.591.com.tw/home/search/rsList?is_new_list=1&type=1&kind=1&searchtype=1&region=1&section=5&firstRow={}&totalRows=749'\n",
    "rent_591 = []\n",
    "for i in range(0,25):\n",
    "    res = requests.get(url.format(i * 30), headers = headers)\n",
    "    jd = res.json()\n",
    "    df = pandas.DataFrame(jd['data']['data'])\n",
    "    rent_591.append(df)"
   ]
  },
  {
   "cell_type": "code",
   "execution_count": 249,
   "metadata": {
    "collapsed": true
   },
   "outputs": [],
   "source": [
    "housedf = pandas.concat(rent_591)"
   ]
  },
  {
   "cell_type": "code",
   "execution_count": 250,
   "metadata": {
    "collapsed": true
   },
   "outputs": [],
   "source": [
    "housedf = housedf[['id','address','floor','allfloor','layout','area','price','browsenum_all']]"
   ]
  },
  {
   "cell_type": "code",
   "execution_count": 251,
   "metadata": {
    "collapsed": true
   },
   "outputs": [],
   "source": [
    "housedf['price'] = housedf['price'].map(lambda e: int(e.replace(',','')) )"
   ]
  },
  {
   "cell_type": "code",
   "execution_count": 257,
   "metadata": {},
   "outputs": [
    {
     "data": {
      "text/html": [
       "<div>\n",
       "<style>\n",
       "    .dataframe thead tr:only-child th {\n",
       "        text-align: right;\n",
       "    }\n",
       "\n",
       "    .dataframe thead th {\n",
       "        text-align: left;\n",
       "    }\n",
       "\n",
       "    .dataframe tbody tr th {\n",
       "        vertical-align: top;\n",
       "    }\n",
       "</style>\n",
       "<table border=\"1\" class=\"dataframe\">\n",
       "  <thead>\n",
       "    <tr style=\"text-align: right;\">\n",
       "      <th></th>\n",
       "      <th>id</th>\n",
       "      <th>address</th>\n",
       "      <th>floor</th>\n",
       "      <th>allfloor</th>\n",
       "      <th>layout</th>\n",
       "      <th>area</th>\n",
       "      <th>price</th>\n",
       "      <th>browsenum_all</th>\n",
       "    </tr>\n",
       "  </thead>\n",
       "  <tbody>\n",
       "    <tr>\n",
       "      <th>13</th>\n",
       "      <td>5697458</td>\n",
       "      <td>仁愛路三段帝寶我成交多戶此為..</td>\n",
       "      <td>8</td>\n",
       "      <td>18</td>\n",
       "      <td>開放式格局</td>\n",
       "      <td>210.7</td>\n",
       "      <td>350000</td>\n",
       "      <td>298</td>\n",
       "    </tr>\n",
       "    <tr>\n",
       "      <th>28</th>\n",
       "      <td>5660318</td>\n",
       "      <td>敦化南路236巷精緻裝潢，..</td>\n",
       "      <td>8</td>\n",
       "      <td>12</td>\n",
       "      <td>3房2廳2衛</td>\n",
       "      <td>94.0</td>\n",
       "      <td>330000</td>\n",
       "      <td>683</td>\n",
       "    </tr>\n",
       "    <tr>\n",
       "      <th>29</th>\n",
       "      <td>5724136</td>\n",
       "      <td>復興南路二段★近大安站★獨家..</td>\n",
       "      <td>6</td>\n",
       "      <td>8</td>\n",
       "      <td>3房2廳4衛</td>\n",
       "      <td>103.6</td>\n",
       "      <td>250000</td>\n",
       "      <td>56</td>\n",
       "    </tr>\n",
       "  </tbody>\n",
       "</table>\n",
       "</div>"
      ],
      "text/plain": [
       "         id           address  floor  allfloor  layout   area   price  \\\n",
       "13  5697458  仁愛路三段帝寶我成交多戶此為..      8        18   開放式格局  210.7  350000   \n",
       "28  5660318   敦化南路236巷精緻裝潢，..      8        12  3房2廳2衛   94.0  330000   \n",
       "29  5724136  復興南路二段★近大安站★獨家..      6         8  3房2廳4衛  103.6  250000   \n",
       "\n",
       "    browsenum_all  \n",
       "13            298  \n",
       "28            683  \n",
       "29             56  "
      ]
     },
     "execution_count": 257,
     "metadata": {},
     "output_type": "execute_result"
    }
   ],
   "source": [
    "housedf.sort_values('price',ascending=False).head(3)"
   ]
  },
  {
   "cell_type": "code",
   "execution_count": 256,
   "metadata": {
    "collapsed": true
   },
   "outputs": [],
   "source": [
    "housedf.to_excel('rent591_2.xlsx')"
   ]
  },
  {
   "cell_type": "markdown",
   "metadata": {},
   "source": [
    "## Crawl website through proxy"
   ]
  },
  {
   "cell_type": "code",
   "execution_count": null,
   "metadata": {
    "collapsed": true
   },
   "outputs": [],
   "source": [
    "import requests\n",
    "proxies = {\n",
    "   'http': 'http://45.76.77.147:3128',\n",
    "   'https': 'http://45.76.77.147:3128'\n",
    "}\n",
    "\n",
    "res = requests.get('http://www.appledaily.com.tw/realtimenews/section/new/', proxies = proxies)\n",
    "res.text\n"
   ]
  },
  {
   "cell_type": "code",
   "execution_count": null,
   "metadata": {
    "collapsed": true
   },
   "outputs": [],
   "source": []
  }
 ],
 "metadata": {
  "kernelspec": {
   "display_name": "Python 3",
   "language": "python",
   "name": "python3"
  },
  "language_info": {
   "codemirror_mode": {
    "name": "ipython",
    "version": 3
   },
   "file_extension": ".py",
   "mimetype": "text/x-python",
   "name": "python",
   "nbconvert_exporter": "python",
   "pygments_lexer": "ipython3",
   "version": "3.6.3"
  }
 },
 "nbformat": 4,
 "nbformat_minor": 2
}
