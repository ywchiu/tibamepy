{
 "cells": [
  {
   "cell_type": "markdown",
   "metadata": {},
   "source": [
    "## 蘋果新聞抓取"
   ]
  },
  {
   "cell_type": "code",
   "execution_count": 2,
   "metadata": {},
   "outputs": [],
   "source": [
    "import requests\n",
    "res = requests.get('https://tw.appledaily.com/new/realtime') \n",
    "#res.text"
   ]
  },
  {
   "cell_type": "code",
   "execution_count": 3,
   "metadata": {
    "collapsed": true
   },
   "outputs": [],
   "source": [
    "from bs4 import BeautifulSoup\n",
    "soup = BeautifulSoup(res.text, 'html.parser')"
   ]
  },
  {
   "cell_type": "code",
   "execution_count": 8,
   "metadata": {},
   "outputs": [],
   "source": [
    "newsary = [] \n",
    "for link in soup.select('.rtddt a'):\n",
    "    title = link.select('h1')[0].text\n",
    "    category = link.select('h2')[0].text\n",
    "    dt = link.select('time')[0].text\n",
    "    url = link['href']\n",
    "    newsary.append({'title':title, 'category':category, 'dt':dt, 'url':url})"
   ]
  },
  {
   "cell_type": "code",
   "execution_count": 10,
   "metadata": {},
   "outputs": [
    {
     "data": {
      "text/html": [
       "<div>\n",
       "<style>\n",
       "    .dataframe thead tr:only-child th {\n",
       "        text-align: right;\n",
       "    }\n",
       "\n",
       "    .dataframe thead th {\n",
       "        text-align: left;\n",
       "    }\n",
       "\n",
       "    .dataframe tbody tr th {\n",
       "        vertical-align: top;\n",
       "    }\n",
       "</style>\n",
       "<table border=\"1\" class=\"dataframe\">\n",
       "  <thead>\n",
       "    <tr style=\"text-align: right;\">\n",
       "      <th></th>\n",
       "      <th>category</th>\n",
       "      <th>dt</th>\n",
       "      <th>title</th>\n",
       "      <th>url</th>\n",
       "    </tr>\n",
       "  </thead>\n",
       "  <tbody>\n",
       "    <tr>\n",
       "      <th>0</th>\n",
       "      <td>國際</td>\n",
       "      <td>09:26</td>\n",
       "      <td>德國前總統丟工作後　被踢爆赴中國撈金(6)</td>\n",
       "      <td>https://tw.news.appledaily.com/international/r...</td>\n",
       "    </tr>\n",
       "    <tr>\n",
       "      <th>1</th>\n",
       "      <td>地產</td>\n",
       "      <td>09:26</td>\n",
       "      <td>大膽就中！　創造自己的巴洛克風</td>\n",
       "      <td>https://tw.finance.appledaily.com/realtime/201...</td>\n",
       "    </tr>\n",
       "    <tr>\n",
       "      <th>2</th>\n",
       "      <td>體育</td>\n",
       "      <td>09:24</td>\n",
       "      <td>【西甲】半場輸2球驚險扳回　貝提斯主和赫...(2)</td>\n",
       "      <td>https://tw.sports.appledaily.com/realtime/2017...</td>\n",
       "    </tr>\n",
       "    <tr>\n",
       "      <th>3</th>\n",
       "      <td>生活</td>\n",
       "      <td>09:21</td>\n",
       "      <td>誠徵油漆工刷鐵門　她的開價讓網友怒了(262)</td>\n",
       "      <td>https://tw.news.appledaily.com/life/realtime/2...</td>\n",
       "    </tr>\n",
       "    <tr>\n",
       "      <th>4</th>\n",
       "      <td>體育</td>\n",
       "      <td>09:13</td>\n",
       "      <td>7人得分雙位數　公牛爆冷客場大勝魔術(150)</td>\n",
       "      <td>https://tw.sports.appledaily.com/realtime/2017...</td>\n",
       "    </tr>\n",
       "  </tbody>\n",
       "</table>\n",
       "</div>"
      ],
      "text/plain": [
       "  category     dt                       title  \\\n",
       "0       國際  09:26       德國前總統丟工作後　被踢爆赴中國撈金(6)   \n",
       "1       地產  09:26             大膽就中！　創造自己的巴洛克風   \n",
       "2       體育  09:24  【西甲】半場輸2球驚險扳回　貝提斯主和赫...(2)   \n",
       "3       生活  09:21     誠徵油漆工刷鐵門　她的開價讓網友怒了(262)   \n",
       "4       體育  09:13     7人得分雙位數　公牛爆冷客場大勝魔術(150)   \n",
       "\n",
       "                                                 url  \n",
       "0  https://tw.news.appledaily.com/international/r...  \n",
       "1  https://tw.finance.appledaily.com/realtime/201...  \n",
       "2  https://tw.sports.appledaily.com/realtime/2017...  \n",
       "3  https://tw.news.appledaily.com/life/realtime/2...  \n",
       "4  https://tw.sports.appledaily.com/realtime/2017...  "
      ]
     },
     "execution_count": 10,
     "metadata": {},
     "output_type": "execute_result"
    }
   ],
   "source": [
    "import pandas\n",
    "df  = pandas.DataFrame(newsary)\n",
    "df.head()"
   ]
  },
  {
   "cell_type": "markdown",
   "metadata": {},
   "source": [
    "## 語音小秘書"
   ]
  },
  {
   "cell_type": "code",
   "execution_count": 76,
   "metadata": {},
   "outputs": [
    {
     "name": "stdout",
     "output_type": "stream",
     "text": [
      "Collecting PyAudio\n",
      "  Downloading PyAudio-0.2.11-cp36-cp36m-win_amd64.whl (52kB)\n",
      "Installing collected packages: PyAudio\n",
      "Successfully installed PyAudio-0.2.11\n"
     ]
    }
   ],
   "source": [
    "! pip install PyAudio"
   ]
  },
  {
   "cell_type": "code",
   "execution_count": 77,
   "metadata": {},
   "outputs": [
    {
     "name": "stdout",
     "output_type": "stream",
     "text": [
      "Collecting SpeechRecognition\n",
      "  Downloading SpeechRecognition-3.7.1-py2.py3-none-any.whl (32.8MB)\n",
      "Installing collected packages: SpeechRecognition\n",
      "Successfully installed SpeechRecognition-3.7.1\n"
     ]
    }
   ],
   "source": [
    "! pip install SpeechRecognition"
   ]
  },
  {
   "cell_type": "code",
   "execution_count": 90,
   "metadata": {},
   "outputs": [
    {
     "ename": "TypeError",
     "evalue": "recognize_bing() missing 1 required positional argument: 'key'",
     "output_type": "error",
     "traceback": [
      "\u001b[1;31m---------------------------------------------------------------------------\u001b[0m",
      "\u001b[1;31mTypeError\u001b[0m                                 Traceback (most recent call last)",
      "\u001b[1;32m<ipython-input-90-30b8324e24e0>\u001b[0m in \u001b[0;36m<module>\u001b[1;34m()\u001b[0m\n\u001b[0;32m      6\u001b[0m     \u001b[0maudio\u001b[0m \u001b[1;33m=\u001b[0m \u001b[0mr\u001b[0m\u001b[1;33m.\u001b[0m\u001b[0mlisten\u001b[0m\u001b[1;33m(\u001b[0m\u001b[0msource\u001b[0m\u001b[1;33m)\u001b[0m\u001b[1;33m\u001b[0m\u001b[0m\n\u001b[0;32m      7\u001b[0m \u001b[1;33m\u001b[0m\u001b[0m\n\u001b[1;32m----> 8\u001b[1;33m \u001b[0mr\u001b[0m\u001b[1;33m.\u001b[0m\u001b[0mrecognize_bing\u001b[0m\u001b[1;33m(\u001b[0m\u001b[0maudio\u001b[0m\u001b[1;33m,\u001b[0m \u001b[0mlanguage\u001b[0m\u001b[1;33m=\u001b[0m\u001b[1;34m'zh-TW'\u001b[0m\u001b[1;33m)\u001b[0m\u001b[1;33m\u001b[0m\u001b[0m\n\u001b[0m",
      "\u001b[1;31mTypeError\u001b[0m: recognize_bing() missing 1 required positional argument: 'key'"
     ]
    }
   ],
   "source": [
    "import speech_recognition\n",
    "r = speech_recognition.Recognizer()\n",
    "\n",
    "with speech_recognition.Microphone() as source:\n",
    "    r.adjust_for_ambient_noise(source)\n",
    "    audio = r.listen(source)\n",
    "\n",
    "r.recognize_google(audio, language='zh-TW')"
   ]
  },
  {
   "cell_type": "code",
   "execution_count": null,
   "metadata": {
    "collapsed": true
   },
   "outputs": [],
   "source": [
    "! pip install gTTS"
   ]
  },
  {
   "cell_type": "code",
   "execution_count": 13,
   "metadata": {},
   "outputs": [
    {
     "name": "stdout",
     "output_type": "stream",
     "text": [
      "Collecting pygame\n",
      "  Downloading pygame-1.9.3-cp36-cp36m-win_amd64.whl (4.2MB)\n",
      "Installing collected packages: pygame\n",
      "Successfully installed pygame-1.9.3\n"
     ]
    }
   ],
   "source": [
    "! pip install pygame"
   ]
  },
  {
   "cell_type": "code",
   "execution_count": 11,
   "metadata": {
    "collapsed": true
   },
   "outputs": [],
   "source": [
    "from gtts import gTTS\n",
    "tts = gTTS(text='大大安安幾歲您好', lang='zh')\n",
    "tts.save(\"hello4.mp3\")"
   ]
  },
  {
   "cell_type": "code",
   "execution_count": null,
   "metadata": {
    "collapsed": true
   },
   "outputs": [],
   "source": [
    "from pygame import mixer\n",
    "mixer.init()\n",
    "import tempfile\n",
    "def speak(sentence):\n",
    "    with tempfile.NamedTemporaryFile(delete=True) as fp:\n",
    "        tts = gTTS(text=sentence, lang='zh')\n",
    "        tts.save(\"{}.mp3\".format(fp.name))\n",
    "        mixer.music.load('{}.mp3'.format(fp.name))\n",
    "        mixer.music.play()\n",
    "speak('今天很開心看到大家')"
   ]
  },
  {
   "cell_type": "code",
   "execution_count": 18,
   "metadata": {
    "collapsed": true
   },
   "outputs": [],
   "source": [
    "?requests.get"
   ]
  },
  {
   "cell_type": "code",
   "execution_count": 91,
   "metadata": {},
   "outputs": [],
   "source": [
    "import requests\n",
    "from bs4 import BeautifulSoup\n",
    "def searchWiki(term):\n",
    "    term = term.replace('Google','')\n",
    "    res = requests.get('https://zh.wikipedia.org/wiki/{}'.format(term), allow_redirects=True)\n",
    "    soup = BeautifulSoup(res.text, 'html.parser')\n",
    "    article = soup.select('#mw-content-text > div > p')[0].text\n",
    "    return article.split('。')[0]"
   ]
  },
  {
   "cell_type": "code",
   "execution_count": 92,
   "metadata": {},
   "outputs": [
    {
     "data": {
      "text/plain": [
       "'怎麼弄'"
      ]
     },
     "execution_count": 92,
     "metadata": {},
     "output_type": "execute_result"
    }
   ],
   "source": [
    "import speech_recognition\n",
    "\n",
    "def getSpeech():\n",
    "    r = speech_recognition.Recognizer()\n",
    "\n",
    "    with speech_recognition.Microphone() as source:\n",
    "        r.adjust_for_ambient_noise(source)\n",
    "        audio = r.listen(source)\n",
    "\n",
    "    return r.recognize_google(audio, language='zh-TW')\n",
    "getSpeech()"
   ]
  },
  {
   "cell_type": "code",
   "execution_count": 93,
   "metadata": {},
   "outputs": [],
   "source": [
    "speak(searchWiki(getSpeech()))"
   ]
  },
  {
   "cell_type": "markdown",
   "metadata": {},
   "source": [
    "## Numpy"
   ]
  },
  {
   "cell_type": "code",
   "execution_count": 32,
   "metadata": {},
   "outputs": [
    {
     "name": "stdout",
     "output_type": "stream",
     "text": [
      "[1, 3, 5, 7]\n",
      "[1, 3, 5, 7, 9]\n"
     ]
    }
   ],
   "source": [
    "a = [1,3,5,7,9]\n",
    "a.pop()\n",
    "print(a)\n",
    "a.append(9)\n",
    "print(a)"
   ]
  },
  {
   "cell_type": "code",
   "execution_count": 33,
   "metadata": {
    "collapsed": true
   },
   "outputs": [],
   "source": [
    "a = [1,3,5,7,9]\n",
    "b = [2,4,6,8,10]"
   ]
  },
  {
   "cell_type": "code",
   "execution_count": 38,
   "metadata": {},
   "outputs": [
    {
     "data": {
      "text/plain": [
       "[2, 12, 30, 56, 90]"
      ]
     },
     "execution_count": 38,
     "metadata": {},
     "output_type": "execute_result"
    }
   ],
   "source": [
    "ary = []\n",
    "for i in range(0, len(a)):\n",
    "    ary.append(a[i] * b[i])\n",
    "ary"
   ]
  },
  {
   "cell_type": "code",
   "execution_count": 39,
   "metadata": {},
   "outputs": [
    {
     "data": {
      "text/plain": [
       "[2, 12, 30, 56, 90]"
      ]
     },
     "execution_count": 39,
     "metadata": {},
     "output_type": "execute_result"
    }
   ],
   "source": [
    "[a[i] * b[i] for i in range(0, len(a))]"
   ]
  },
  {
   "cell_type": "code",
   "execution_count": 41,
   "metadata": {},
   "outputs": [
    {
     "name": "stdout",
     "output_type": "stream",
     "text": [
      "(1, 2)\n",
      "(3, 4)\n",
      "(5, 6)\n",
      "(7, 8)\n",
      "(9, 10)\n"
     ]
    }
   ],
   "source": [
    "for ele in zip(a,b):\n",
    "    print(ele)"
   ]
  },
  {
   "cell_type": "code",
   "execution_count": 42,
   "metadata": {},
   "outputs": [
    {
     "name": "stdout",
     "output_type": "stream",
     "text": [
      "2\n",
      "12\n",
      "30\n",
      "56\n",
      "90\n"
     ]
    }
   ],
   "source": [
    "for i,j in zip(a,b):\n",
    "    print(i * j)"
   ]
  },
  {
   "cell_type": "code",
   "execution_count": 43,
   "metadata": {},
   "outputs": [
    {
     "data": {
      "text/plain": [
       "[2, 12, 30, 56, 90]"
      ]
     },
     "execution_count": 43,
     "metadata": {},
     "output_type": "execute_result"
    }
   ],
   "source": [
    "[i*j for i,j in zip(a,b)]"
   ]
  },
  {
   "cell_type": "code",
   "execution_count": 49,
   "metadata": {},
   "outputs": [
    {
     "data": {
      "text/plain": [
       "{'上班地點：': '台北市信義區松仁路123號8樓\\n\\n\\n\\n\\n\\n\\n\\n地圖找工作',\n",
       " '上班時段：': '日班',\n",
       " '休假制度：': '依公司規定',\n",
       " '其他條件：': 'Qualifications\\r1. 5-8 years experience in software product marketing across multiple markets in Asia-Pacific \\r2. Excellent verbal and written communication skills \\r3. Strong track record of cross-functional collaboration\\r4. Ability to work independently and proactively, strong project management skills.\\r5. You should feel comfortable with ambiguity and enjoy working at a fast-paced startup where the business is continually evolving',\n",
       " '其他：': 'Please submit your CV via Appier career website,\\rhttps://www.appier.com/en/careers.html\\rWe look forward to hearing from you!',\n",
       " '出差外派：': '無需出差外派',\n",
       " '可上班日：': '不限',\n",
       " '學歷要求：': '大學以上',\n",
       " '工作待遇：': '面議',\n",
       " '工作性質：': '全職',\n",
       " '工作技能：': '不拘',\n",
       " '工作經歷：': '5年以上',\n",
       " '廠商求才專線': '忘記密碼',\n",
       " '接受身份：': '上班族、外籍人士、原住民【相關法令】',\n",
       " '擅長工具：': '不拘',\n",
       " '求職服務專線': '02-2912-6104\\xa0轉2',\n",
       " '科系要求：': '不拘',\n",
       " '管理責任：': '不需負擔管理責任',\n",
       " '聯絡人：': '陳小姐',\n",
       " '職務類別：': '行銷企劃主管、產品企劃主管 \\n\\n\\n\\n\\n\\n\\n認識「」職務\\n\\n詳細職類分析(工作內容、薪資分布..)\\n更多相關工作',\n",
       " '語文條件：': '英文 -- 聽 /精通、說 /精通、讀 /精通、寫 /精通',\n",
       " '需求人數：': '1 人'}"
      ]
     },
     "execution_count": 49,
     "metadata": {},
     "output_type": "execute_result"
    }
   ],
   "source": [
    "import requests\n",
    "from bs4 import BeautifulSoup\n",
    "res = requests.get('https://www.104.com.tw/job/?jobno=5mw95&jobsource=n104bank1')\n",
    "soup = BeautifulSoup(res.text, 'html.parser') \n",
    "dd = [ele.text.strip() for ele in soup.select('dd')]\n",
    "dt = [ele.text.strip() for ele in soup.select('dt')]\n",
    "#for ele in zip(dt, dd):\n",
    "#    print(ele)\n",
    "dict(zip(dt, dd))"
   ]
  },
  {
   "cell_type": "code",
   "execution_count": 53,
   "metadata": {},
   "outputs": [
    {
     "data": {
      "text/plain": [
       "array([ 3,  7, 11, 15, 19])"
      ]
     },
     "execution_count": 53,
     "metadata": {},
     "output_type": "execute_result"
    }
   ],
   "source": [
    "import numpy \n",
    "a = [1,3,5,7,9]\n",
    "b = [2,4,6,8,10]\n",
    "na = numpy.array(a)\n",
    "nb = numpy.array(b)\n",
    "na * nb\n",
    "na + nb"
   ]
  },
  {
   "cell_type": "code",
   "execution_count": 55,
   "metadata": {},
   "outputs": [
    {
     "data": {
      "text/plain": [
       "numpy.ndarray"
      ]
     },
     "execution_count": 55,
     "metadata": {},
     "output_type": "execute_result"
    }
   ],
   "source": [
    "import numpy as np\n",
    "na = np.array([1,2,3,4,5])\n",
    "na\n",
    "type(na)"
   ]
  },
  {
   "cell_type": "code",
   "execution_count": 57,
   "metadata": {},
   "outputs": [
    {
     "data": {
      "text/plain": [
       "1"
      ]
     },
     "execution_count": 57,
     "metadata": {},
     "output_type": "execute_result"
    }
   ],
   "source": [
    "na[0]"
   ]
  },
  {
   "cell_type": "code",
   "execution_count": 58,
   "metadata": {},
   "outputs": [
    {
     "data": {
      "text/plain": [
       "array([2, 3])"
      ]
     },
     "execution_count": 58,
     "metadata": {},
     "output_type": "execute_result"
    }
   ],
   "source": [
    "na[1:3]"
   ]
  },
  {
   "cell_type": "code",
   "execution_count": 60,
   "metadata": {},
   "outputs": [
    {
     "data": {
      "text/plain": [
       "array([False, False, False,  True,  True], dtype=bool)"
      ]
     },
     "execution_count": 60,
     "metadata": {},
     "output_type": "execute_result"
    }
   ],
   "source": [
    "na > 3"
   ]
  },
  {
   "cell_type": "code",
   "execution_count": 61,
   "metadata": {},
   "outputs": [
    {
     "data": {
      "text/plain": [
       "array([4, 5])"
      ]
     },
     "execution_count": 61,
     "metadata": {},
     "output_type": "execute_result"
    }
   ],
   "source": [
    "na[na > 3]"
   ]
  },
  {
   "cell_type": "code",
   "execution_count": 62,
   "metadata": {
    "collapsed": true
   },
   "outputs": [],
   "source": [
    "na=np.array([[1,2,3,4,5],[6,7,8,9,10]])"
   ]
  },
  {
   "cell_type": "code",
   "execution_count": 63,
   "metadata": {},
   "outputs": [
    {
     "data": {
      "text/plain": [
       "array([[ 1,  2,  3,  4,  5],\n",
       "       [ 6,  7,  8,  9, 10]])"
      ]
     },
     "execution_count": 63,
     "metadata": {},
     "output_type": "execute_result"
    }
   ],
   "source": [
    "na"
   ]
  },
  {
   "cell_type": "code",
   "execution_count": 65,
   "metadata": {},
   "outputs": [
    {
     "data": {
      "text/plain": [
       "array([1, 6])"
      ]
     },
     "execution_count": 65,
     "metadata": {},
     "output_type": "execute_result"
    }
   ],
   "source": [
    "na[:,0]"
   ]
  },
  {
   "cell_type": "code",
   "execution_count": 66,
   "metadata": {},
   "outputs": [
    {
     "data": {
      "text/plain": [
       "array([1, 2, 3, 4, 5])"
      ]
     },
     "execution_count": 66,
     "metadata": {},
     "output_type": "execute_result"
    }
   ],
   "source": [
    "na[0,:]"
   ]
  },
  {
   "cell_type": "code",
   "execution_count": 67,
   "metadata": {},
   "outputs": [
    {
     "data": {
      "text/plain": [
       "array([[ 1,  6],\n",
       "       [ 2,  7],\n",
       "       [ 3,  8],\n",
       "       [ 4,  9],\n",
       "       [ 5, 10]])"
      ]
     },
     "execution_count": 67,
     "metadata": {},
     "output_type": "execute_result"
    }
   ],
   "source": [
    "na.T"
   ]
  },
  {
   "cell_type": "code",
   "execution_count": 68,
   "metadata": {},
   "outputs": [
    {
     "data": {
      "text/plain": [
       "array([['frank', 'M', '29'],\n",
       "       ['mary', 'F', '23'],\n",
       "       ['tom', 'M', '35'],\n",
       "       ['ted', 'M', '33'],\n",
       "       ['jean', 'F', '21'],\n",
       "       ['lisa', 'F', '20']],\n",
       "      dtype='<U5')"
      ]
     },
     "execution_count": 68,
     "metadata": {},
     "output_type": "execute_result"
    }
   ],
   "source": [
    "na=np.array([['frank','M',29],['mary','F',23],['tom','M',35],['ted','M',33],['jean','F',21],['lisa','F',20]])\n",
    "na"
   ]
  },
  {
   "cell_type": "code",
   "execution_count": 69,
   "metadata": {
    "collapsed": true
   },
   "outputs": [],
   "source": [
    "import pandas\n",
    "df = pandas.DataFrame([['frank','M',29],['mary','F',23],['tom','M',35],['ted','M',33],['jean','F',21],['lisa','F',20]])"
   ]
  },
  {
   "cell_type": "code",
   "execution_count": 71,
   "metadata": {},
   "outputs": [
    {
     "data": {
      "text/plain": [
       "RangeIndex(start=0, stop=3, step=1)"
      ]
     },
     "execution_count": 71,
     "metadata": {},
     "output_type": "execute_result"
    }
   ],
   "source": [
    "df.columns"
   ]
  },
  {
   "cell_type": "code",
   "execution_count": 72,
   "metadata": {
    "collapsed": true
   },
   "outputs": [],
   "source": [
    "df.columns = ['name', 'gender', 'age']"
   ]
  },
  {
   "cell_type": "code",
   "execution_count": 74,
   "metadata": {},
   "outputs": [
    {
     "name": "stdout",
     "output_type": "stream",
     "text": [
      "<class 'pandas.core.frame.DataFrame'>\n",
      "RangeIndex: 6 entries, 0 to 5\n",
      "Data columns (total 3 columns):\n",
      "name      6 non-null object\n",
      "gender    6 non-null object\n",
      "age       6 non-null int64\n",
      "dtypes: int64(1), object(2)\n",
      "memory usage: 224.0+ bytes\n"
     ]
    }
   ],
   "source": [
    "df.info()"
   ]
  },
  {
   "cell_type": "code",
   "execution_count": 75,
   "metadata": {},
   "outputs": [
    {
     "data": {
      "text/html": [
       "<div>\n",
       "<style>\n",
       "    .dataframe thead tr:only-child th {\n",
       "        text-align: right;\n",
       "    }\n",
       "\n",
       "    .dataframe thead th {\n",
       "        text-align: left;\n",
       "    }\n",
       "\n",
       "    .dataframe tbody tr th {\n",
       "        vertical-align: top;\n",
       "    }\n",
       "</style>\n",
       "<table border=\"1\" class=\"dataframe\">\n",
       "  <thead>\n",
       "    <tr style=\"text-align: right;\">\n",
       "      <th></th>\n",
       "      <th>name</th>\n",
       "      <th>gender</th>\n",
       "    </tr>\n",
       "  </thead>\n",
       "  <tbody>\n",
       "    <tr>\n",
       "      <th>1</th>\n",
       "      <td>mary</td>\n",
       "      <td>F</td>\n",
       "    </tr>\n",
       "    <tr>\n",
       "      <th>2</th>\n",
       "      <td>tom</td>\n",
       "      <td>M</td>\n",
       "    </tr>\n",
       "    <tr>\n",
       "      <th>3</th>\n",
       "      <td>ted</td>\n",
       "      <td>M</td>\n",
       "    </tr>\n",
       "  </tbody>\n",
       "</table>\n",
       "</div>"
      ],
      "text/plain": [
       "   name gender\n",
       "1  mary      F\n",
       "2   tom      M\n",
       "3   ted      M"
      ]
     },
     "execution_count": 75,
     "metadata": {},
     "output_type": "execute_result"
    }
   ],
   "source": [
    "df.loc[1:3,['name', 'gender']]"
   ]
  },
  {
   "cell_type": "markdown",
   "metadata": {},
   "source": [
    "## Pandas Series"
   ]
  },
  {
   "cell_type": "code",
   "execution_count": 94,
   "metadata": {},
   "outputs": [
    {
     "data": {
      "text/plain": [
       "0    21000\n",
       "1    18900\n",
       "2    18000\n",
       "dtype: int64"
      ]
     },
     "execution_count": 94,
     "metadata": {},
     "output_type": "execute_result"
    }
   ],
   "source": [
    "import pandas as pd\n",
    "s = pd.Series([21000,18900, 18000])\n",
    "s"
   ]
  },
  {
   "cell_type": "code",
   "execution_count": 95,
   "metadata": {},
   "outputs": [
    {
     "data": {
      "text/plain": [
       "pandas.core.series.Series"
      ]
     },
     "execution_count": 95,
     "metadata": {},
     "output_type": "execute_result"
    }
   ],
   "source": [
    "type(s)"
   ]
  },
  {
   "cell_type": "code",
   "execution_count": 96,
   "metadata": {},
   "outputs": [
    {
     "data": {
      "text/plain": [
       "Iphone     21000\n",
       "Edge S7    18900\n",
       "HTC M1     18000\n",
       "dtype: int64"
      ]
     },
     "execution_count": 96,
     "metadata": {},
     "output_type": "execute_result"
    }
   ],
   "source": [
    "pd.Series([21000,18900,18000], index=['Iphone','Edge S7','HTC M1'])"
   ]
  },
  {
   "cell_type": "code",
   "execution_count": 97,
   "metadata": {
    "collapsed": true
   },
   "outputs": [],
   "source": [
    "s= pd.Series({'Iphone':21000,'Edge S7':18900,'HTC M1':18000})"
   ]
  },
  {
   "cell_type": "code",
   "execution_count": 98,
   "metadata": {},
   "outputs": [
    {
     "data": {
      "text/plain": [
       "Edge S7    18900\n",
       "HTC M1     18000\n",
       "Iphone     21000\n",
       "dtype: int64"
      ]
     },
     "execution_count": 98,
     "metadata": {},
     "output_type": "execute_result"
    }
   ],
   "source": [
    "s"
   ]
  },
  {
   "cell_type": "code",
   "execution_count": 108,
   "metadata": {},
   "outputs": [
    {
     "data": {
      "text/plain": [
       "Index(['Edge S7', 'HTC M1', 'Iphone'], dtype='object')"
      ]
     },
     "execution_count": 108,
     "metadata": {},
     "output_type": "execute_result"
    }
   ],
   "source": [
    "s.index"
   ]
  },
  {
   "cell_type": "code",
   "execution_count": 109,
   "metadata": {},
   "outputs": [
    {
     "data": {
      "text/plain": [
       "18900"
      ]
     },
     "execution_count": 109,
     "metadata": {},
     "output_type": "execute_result"
    }
   ],
   "source": [
    "s[0]"
   ]
  },
  {
   "cell_type": "code",
   "execution_count": 110,
   "metadata": {},
   "outputs": [
    {
     "data": {
      "text/plain": [
       "'Edge S7'"
      ]
     },
     "execution_count": 110,
     "metadata": {},
     "output_type": "execute_result"
    }
   ],
   "source": [
    "s.index[0]"
   ]
  },
  {
   "cell_type": "code",
   "execution_count": 111,
   "metadata": {},
   "outputs": [
    {
     "data": {
      "text/plain": [
       "21000"
      ]
     },
     "execution_count": 111,
     "metadata": {},
     "output_type": "execute_result"
    }
   ],
   "source": [
    "s[2]"
   ]
  },
  {
   "cell_type": "code",
   "execution_count": 112,
   "metadata": {},
   "outputs": [
    {
     "data": {
      "text/plain": [
       "HTC M1    18000\n",
       "Iphone    21000\n",
       "dtype: int64"
      ]
     },
     "execution_count": 112,
     "metadata": {},
     "output_type": "execute_result"
    }
   ],
   "source": [
    "s[1:3]"
   ]
  },
  {
   "cell_type": "code",
   "execution_count": 113,
   "metadata": {},
   "outputs": [
    {
     "data": {
      "text/plain": [
       "21000"
      ]
     },
     "execution_count": 113,
     "metadata": {},
     "output_type": "execute_result"
    }
   ],
   "source": [
    "s['Iphone']"
   ]
  },
  {
   "cell_type": "code",
   "execution_count": 114,
   "metadata": {},
   "outputs": [
    {
     "data": {
      "text/plain": [
       "Iphone     21000\n",
       "Edge S7    18900\n",
       "dtype: int64"
      ]
     },
     "execution_count": 114,
     "metadata": {},
     "output_type": "execute_result"
    }
   ],
   "source": [
    "s[['Iphone','Edge S7']]"
   ]
  },
  {
   "cell_type": "code",
   "execution_count": 119,
   "metadata": {},
   "outputs": [
    {
     "data": {
      "text/plain": [
       "Edge S7    18900\n",
       "Iphone     21000\n",
       "dtype: int64"
      ]
     },
     "execution_count": 119,
     "metadata": {},
     "output_type": "execute_result"
    }
   ],
   "source": [
    "s[np.array([True, False, True]) ]"
   ]
  },
  {
   "cell_type": "code",
   "execution_count": 120,
   "metadata": {},
   "outputs": [
    {
     "data": {
      "text/plain": [
       "Edge S7     True\n",
       "HTC M1      True\n",
       "Iphone     False\n",
       "dtype: bool"
      ]
     },
     "execution_count": 120,
     "metadata": {},
     "output_type": "execute_result"
    }
   ],
   "source": [
    "s < 20000"
   ]
  },
  {
   "cell_type": "code",
   "execution_count": 116,
   "metadata": {},
   "outputs": [
    {
     "data": {
      "text/plain": [
       "Edge S7    18900\n",
       "HTC M1     18000\n",
       "dtype: int64"
      ]
     },
     "execution_count": 116,
     "metadata": {},
     "output_type": "execute_result"
    }
   ],
   "source": [
    "s[s < 20000]"
   ]
  },
  {
   "cell_type": "code",
   "execution_count": 121,
   "metadata": {
    "collapsed": true
   },
   "outputs": [],
   "source": [
    "cheap=s<20000"
   ]
  },
  {
   "cell_type": "code",
   "execution_count": 123,
   "metadata": {},
   "outputs": [
    {
     "data": {
      "text/plain": [
       "Edge S7     True\n",
       "HTC M1      True\n",
       "Iphone     False\n",
       "dtype: bool"
      ]
     },
     "execution_count": 123,
     "metadata": {},
     "output_type": "execute_result"
    }
   ],
   "source": [
    "cheap"
   ]
  },
  {
   "cell_type": "code",
   "execution_count": 124,
   "metadata": {},
   "outputs": [
    {
     "data": {
      "text/plain": [
       "Edge S7    18900\n",
       "HTC M1     18000\n",
       "dtype: int64"
      ]
     },
     "execution_count": 124,
     "metadata": {},
     "output_type": "execute_result"
    }
   ],
   "source": [
    "s[cheap]"
   ]
  },
  {
   "cell_type": "code",
   "execution_count": 125,
   "metadata": {},
   "outputs": [
    {
     "data": {
      "text/plain": [
       "21000"
      ]
     },
     "execution_count": 125,
     "metadata": {},
     "output_type": "execute_result"
    }
   ],
   "source": [
    "s['Iphone']"
   ]
  },
  {
   "cell_type": "code",
   "execution_count": 126,
   "metadata": {
    "collapsed": true
   },
   "outputs": [],
   "source": [
    "s['Iphone'] = 20000"
   ]
  },
  {
   "cell_type": "code",
   "execution_count": 127,
   "metadata": {},
   "outputs": [
    {
     "data": {
      "text/plain": [
       "Edge S7    18900\n",
       "HTC M1     18000\n",
       "Iphone     20000\n",
       "dtype: int64"
      ]
     },
     "execution_count": 127,
     "metadata": {},
     "output_type": "execute_result"
    }
   ],
   "source": [
    "s"
   ]
  },
  {
   "cell_type": "code",
   "execution_count": 130,
   "metadata": {},
   "outputs": [],
   "source": [
    "s[s<20000] = s[s<20000] * 0.8"
   ]
  },
  {
   "cell_type": "code",
   "execution_count": 131,
   "metadata": {},
   "outputs": [
    {
     "data": {
      "text/plain": [
       "Edge S7    15120\n",
       "HTC M1     14400\n",
       "Iphone     20000\n",
       "dtype: int64"
      ]
     },
     "execution_count": 131,
     "metadata": {},
     "output_type": "execute_result"
    }
   ],
   "source": [
    "s"
   ]
  },
  {
   "cell_type": "code",
   "execution_count": 132,
   "metadata": {},
   "outputs": [
    {
     "data": {
      "text/plain": [
       "True"
      ]
     },
     "execution_count": 132,
     "metadata": {},
     "output_type": "execute_result"
    }
   ],
   "source": [
    "'Iphone' in s"
   ]
  },
  {
   "cell_type": "code",
   "execution_count": 133,
   "metadata": {},
   "outputs": [
    {
     "data": {
      "text/plain": [
       "False"
      ]
     },
     "execution_count": 133,
     "metadata": {},
     "output_type": "execute_result"
    }
   ],
   "source": [
    "'mi' in s"
   ]
  },
  {
   "cell_type": "code",
   "execution_count": 135,
   "metadata": {},
   "outputs": [
    {
     "data": {
      "text/plain": [
       "Edge S7    12096.0\n",
       "HTC M1     11520.0\n",
       "Iphone     16000.0\n",
       "dtype: float64"
      ]
     },
     "execution_count": 135,
     "metadata": {},
     "output_type": "execute_result"
    }
   ],
   "source": [
    "s * 0.8"
   ]
  },
  {
   "cell_type": "code",
   "execution_count": 136,
   "metadata": {},
   "outputs": [
    {
     "data": {
      "text/plain": [
       "Edge S7    122.963409\n",
       "HTC M1     120.000000\n",
       "Iphone     141.421356\n",
       "dtype: float64"
      ]
     },
     "execution_count": 136,
     "metadata": {},
     "output_type": "execute_result"
    }
   ],
   "source": [
    "import numpy as np\n",
    "np.sqrt(s)"
   ]
  },
  {
   "cell_type": "code",
   "execution_count": 138,
   "metadata": {},
   "outputs": [
    {
     "data": {
      "text/plain": [
       "20000"
      ]
     },
     "execution_count": 138,
     "metadata": {},
     "output_type": "execute_result"
    }
   ],
   "source": [
    "s.max()"
   ]
  },
  {
   "cell_type": "code",
   "execution_count": 139,
   "metadata": {},
   "outputs": [
    {
     "data": {
      "text/plain": [
       "14400"
      ]
     },
     "execution_count": 139,
     "metadata": {},
     "output_type": "execute_result"
    }
   ],
   "source": [
    "s.min()"
   ]
  },
  {
   "cell_type": "code",
   "execution_count": 140,
   "metadata": {},
   "outputs": [
    {
     "data": {
      "text/plain": [
       "16506.666666666668"
      ]
     },
     "execution_count": 140,
     "metadata": {},
     "output_type": "execute_result"
    }
   ],
   "source": [
    "s.mean()"
   ]
  },
  {
   "cell_type": "code",
   "execution_count": 141,
   "metadata": {},
   "outputs": [
    {
     "data": {
      "text/plain": [
       "count        3.000000\n",
       "mean     16506.666667\n",
       "std       3046.659373\n",
       "min      14400.000000\n",
       "25%      14760.000000\n",
       "50%      15120.000000\n",
       "75%      17560.000000\n",
       "max      20000.000000\n",
       "dtype: float64"
      ]
     },
     "execution_count": 141,
     "metadata": {},
     "output_type": "execute_result"
    }
   ],
   "source": [
    "s.describe()"
   ]
  },
  {
   "cell_type": "code",
   "execution_count": 149,
   "metadata": {},
   "outputs": [],
   "source": [
    "s[['HTC M1', 'Iphone']]\n",
    "s[['mi', 'HTC M1']]\n",
    "\n",
    "s2 = s[['HTC M1', 'Iphone']]+s[['mi', 'HTC M1']]"
   ]
  },
  {
   "cell_type": "code",
   "execution_count": 150,
   "metadata": {},
   "outputs": [
    {
     "data": {
      "text/plain": [
       "HTC M1    28800.0\n",
       "Iphone        NaN\n",
       "mi            NaN\n",
       "dtype: float64"
      ]
     },
     "execution_count": 150,
     "metadata": {},
     "output_type": "execute_result"
    }
   ],
   "source": [
    "s2"
   ]
  },
  {
   "cell_type": "code",
   "execution_count": 151,
   "metadata": {},
   "outputs": [
    {
     "data": {
      "text/plain": [
       "HTC M1    False\n",
       "Iphone     True\n",
       "mi         True\n",
       "dtype: bool"
      ]
     },
     "execution_count": 151,
     "metadata": {},
     "output_type": "execute_result"
    }
   ],
   "source": [
    "s2.isnull()"
   ]
  },
  {
   "cell_type": "code",
   "execution_count": 152,
   "metadata": {},
   "outputs": [
    {
     "data": {
      "text/plain": [
       "HTC M1     True\n",
       "Iphone    False\n",
       "mi        False\n",
       "dtype: bool"
      ]
     },
     "execution_count": 152,
     "metadata": {},
     "output_type": "execute_result"
    }
   ],
   "source": [
    "s2.notnull()"
   ]
  },
  {
   "cell_type": "code",
   "execution_count": 145,
   "metadata": {},
   "outputs": [
    {
     "data": {
      "text/plain": [
       "nan"
      ]
     },
     "execution_count": 145,
     "metadata": {},
     "output_type": "execute_result"
    }
   ],
   "source": [
    "# python\n",
    "None\n",
    "\n",
    "#numpy\n",
    "np.nan"
   ]
  },
  {
   "cell_type": "markdown",
   "metadata": {},
   "source": [
    "## Pandas DataFrame"
   ]
  },
  {
   "cell_type": "code",
   "execution_count": 153,
   "metadata": {},
   "outputs": [
    {
     "data": {
      "text/html": [
       "<div>\n",
       "<style>\n",
       "    .dataframe thead tr:only-child th {\n",
       "        text-align: right;\n",
       "    }\n",
       "\n",
       "    .dataframe thead th {\n",
       "        text-align: left;\n",
       "    }\n",
       "\n",
       "    .dataframe tbody tr th {\n",
       "        vertical-align: top;\n",
       "    }\n",
       "</style>\n",
       "<table border=\"1\" class=\"dataframe\">\n",
       "  <thead>\n",
       "    <tr style=\"text-align: right;\">\n",
       "      <th></th>\n",
       "      <th>name</th>\n",
       "      <th>gender</th>\n",
       "      <th>age</th>\n",
       "    </tr>\n",
       "  </thead>\n",
       "  <tbody>\n",
       "    <tr>\n",
       "      <th>0</th>\n",
       "      <td>frank</td>\n",
       "      <td>M</td>\n",
       "      <td>29</td>\n",
       "    </tr>\n",
       "    <tr>\n",
       "      <th>1</th>\n",
       "      <td>mary</td>\n",
       "      <td>F</td>\n",
       "      <td>23</td>\n",
       "    </tr>\n",
       "    <tr>\n",
       "      <th>2</th>\n",
       "      <td>tom</td>\n",
       "      <td>M</td>\n",
       "      <td>35</td>\n",
       "    </tr>\n",
       "    <tr>\n",
       "      <th>3</th>\n",
       "      <td>ted</td>\n",
       "      <td>M</td>\n",
       "      <td>33</td>\n",
       "    </tr>\n",
       "    <tr>\n",
       "      <th>4</th>\n",
       "      <td>jean</td>\n",
       "      <td>F</td>\n",
       "      <td>21</td>\n",
       "    </tr>\n",
       "    <tr>\n",
       "      <th>5</th>\n",
       "      <td>lisa</td>\n",
       "      <td>F</td>\n",
       "      <td>20</td>\n",
       "    </tr>\n",
       "  </tbody>\n",
       "</table>\n",
       "</div>"
      ],
      "text/plain": [
       "    name gender  age\n",
       "0  frank      M   29\n",
       "1   mary      F   23\n",
       "2    tom      M   35\n",
       "3    ted      M   33\n",
       "4   jean      F   21\n",
       "5   lisa      F   20"
      ]
     },
     "execution_count": 153,
     "metadata": {},
     "output_type": "execute_result"
    }
   ],
   "source": [
    "df=pd.DataFrame([['frank','M',29],['mary','F',23],['tom','M',35],['ted','M',33],['jean','F',21],['lisa','F',20]])\n",
    "df.columns=['name','gender','age']\n",
    "df"
   ]
  },
  {
   "cell_type": "code",
   "execution_count": 154,
   "metadata": {},
   "outputs": [
    {
     "data": {
      "text/html": [
       "<div>\n",
       "<style>\n",
       "    .dataframe thead tr:only-child th {\n",
       "        text-align: right;\n",
       "    }\n",
       "\n",
       "    .dataframe thead th {\n",
       "        text-align: left;\n",
       "    }\n",
       "\n",
       "    .dataframe tbody tr th {\n",
       "        vertical-align: top;\n",
       "    }\n",
       "</style>\n",
       "<table border=\"1\" class=\"dataframe\">\n",
       "  <thead>\n",
       "    <tr style=\"text-align: right;\">\n",
       "      <th></th>\n",
       "      <th>name</th>\n",
       "      <th>gender</th>\n",
       "      <th>age</th>\n",
       "    </tr>\n",
       "  </thead>\n",
       "  <tbody>\n",
       "    <tr>\n",
       "      <th>0</th>\n",
       "      <td>frank</td>\n",
       "      <td>M</td>\n",
       "      <td>29</td>\n",
       "    </tr>\n",
       "    <tr>\n",
       "      <th>1</th>\n",
       "      <td>mary</td>\n",
       "      <td>F</td>\n",
       "      <td>23</td>\n",
       "    </tr>\n",
       "    <tr>\n",
       "      <th>2</th>\n",
       "      <td>tom</td>\n",
       "      <td>M</td>\n",
       "      <td>35</td>\n",
       "    </tr>\n",
       "    <tr>\n",
       "      <th>3</th>\n",
       "      <td>ted</td>\n",
       "      <td>M</td>\n",
       "      <td>33</td>\n",
       "    </tr>\n",
       "    <tr>\n",
       "      <th>4</th>\n",
       "      <td>jean</td>\n",
       "      <td>F</td>\n",
       "      <td>21</td>\n",
       "    </tr>\n",
       "    <tr>\n",
       "      <th>5</th>\n",
       "      <td>lisa</td>\n",
       "      <td>F</td>\n",
       "      <td>20</td>\n",
       "    </tr>\n",
       "  </tbody>\n",
       "</table>\n",
       "</div>"
      ],
      "text/plain": [
       "    name gender  age\n",
       "0  frank      M   29\n",
       "1   mary      F   23\n",
       "2    tom      M   35\n",
       "3    ted      M   33\n",
       "4   jean      F   21\n",
       "5   lisa      F   20"
      ]
     },
     "execution_count": 154,
     "metadata": {},
     "output_type": "execute_result"
    }
   ],
   "source": [
    "df=pd.DataFrame([['frank','M',29],['mary','F',23],['tom','M',35],['ted','M',33],['jean','F',21],['lisa','F',20]],columns=['name','gender','age'])\n",
    "df"
   ]
  },
  {
   "cell_type": "code",
   "execution_count": 156,
   "metadata": {},
   "outputs": [
    {
     "data": {
      "text/html": [
       "<div>\n",
       "<style>\n",
       "    .dataframe thead tr:only-child th {\n",
       "        text-align: right;\n",
       "    }\n",
       "\n",
       "    .dataframe thead th {\n",
       "        text-align: left;\n",
       "    }\n",
       "\n",
       "    .dataframe tbody tr th {\n",
       "        vertical-align: top;\n",
       "    }\n",
       "</style>\n",
       "<table border=\"1\" class=\"dataframe\">\n",
       "  <thead>\n",
       "    <tr style=\"text-align: right;\">\n",
       "      <th></th>\n",
       "      <th>age</th>\n",
       "      <th>gender</th>\n",
       "      <th>name</th>\n",
       "    </tr>\n",
       "  </thead>\n",
       "  <tbody>\n",
       "    <tr>\n",
       "      <th>0</th>\n",
       "      <td>29</td>\n",
       "      <td>M</td>\n",
       "      <td>frank</td>\n",
       "    </tr>\n",
       "    <tr>\n",
       "      <th>1</th>\n",
       "      <td>23</td>\n",
       "      <td>F</td>\n",
       "      <td>mary</td>\n",
       "    </tr>\n",
       "    <tr>\n",
       "      <th>2</th>\n",
       "      <td>35</td>\n",
       "      <td>M</td>\n",
       "      <td>tom</td>\n",
       "    </tr>\n",
       "    <tr>\n",
       "      <th>3</th>\n",
       "      <td>33</td>\n",
       "      <td>M</td>\n",
       "      <td>ted</td>\n",
       "    </tr>\n",
       "    <tr>\n",
       "      <th>4</th>\n",
       "      <td>21</td>\n",
       "      <td>F</td>\n",
       "      <td>jean</td>\n",
       "    </tr>\n",
       "    <tr>\n",
       "      <th>5</th>\n",
       "      <td>20</td>\n",
       "      <td>F</td>\n",
       "      <td>lisa</td>\n",
       "    </tr>\n",
       "  </tbody>\n",
       "</table>\n",
       "</div>"
      ],
      "text/plain": [
       "   age gender   name\n",
       "0   29      M  frank\n",
       "1   23      F   mary\n",
       "2   35      M    tom\n",
       "3   33      M    ted\n",
       "4   21      F   jean\n",
       "5   20      F   lisa"
      ]
     },
     "execution_count": 156,
     "metadata": {},
     "output_type": "execute_result"
    }
   ],
   "source": [
    "df=pd.DataFrame([{'name':'frank','gender':'M','age':29},\n",
    "                 {'name':'mary','gender':'F','age':23},\n",
    "                 {'name':'tom','gender':'M','age':35},\n",
    "                 {'name':'ted','gender':'M','age':33},\n",
    "                 {'name':'jean','gender':'F','age':21},\n",
    "                 {'name':'lisa','gender':'F','age':20}])\n",
    "df"
   ]
  },
  {
   "cell_type": "code",
   "execution_count": 157,
   "metadata": {},
   "outputs": [
    {
     "data": {
      "text/html": [
       "<div>\n",
       "<style>\n",
       "    .dataframe thead tr:only-child th {\n",
       "        text-align: right;\n",
       "    }\n",
       "\n",
       "    .dataframe thead th {\n",
       "        text-align: left;\n",
       "    }\n",
       "\n",
       "    .dataframe tbody tr th {\n",
       "        vertical-align: top;\n",
       "    }\n",
       "</style>\n",
       "<table border=\"1\" class=\"dataframe\">\n",
       "  <thead>\n",
       "    <tr style=\"text-align: right;\">\n",
       "      <th></th>\n",
       "      <th>age</th>\n",
       "      <th>gender</th>\n",
       "      <th>name</th>\n",
       "      <th>occupation</th>\n",
       "    </tr>\n",
       "  </thead>\n",
       "  <tbody>\n",
       "    <tr>\n",
       "      <th>0</th>\n",
       "      <td>29</td>\n",
       "      <td>M</td>\n",
       "      <td>frank</td>\n",
       "      <td>NaN</td>\n",
       "    </tr>\n",
       "    <tr>\n",
       "      <th>1</th>\n",
       "      <td>23</td>\n",
       "      <td>F</td>\n",
       "      <td>mary</td>\n",
       "      <td>NaN</td>\n",
       "    </tr>\n",
       "    <tr>\n",
       "      <th>2</th>\n",
       "      <td>35</td>\n",
       "      <td>M</td>\n",
       "      <td>tom</td>\n",
       "      <td>RD</td>\n",
       "    </tr>\n",
       "    <tr>\n",
       "      <th>3</th>\n",
       "      <td>33</td>\n",
       "      <td>M</td>\n",
       "      <td>ted</td>\n",
       "      <td>NaN</td>\n",
       "    </tr>\n",
       "    <tr>\n",
       "      <th>4</th>\n",
       "      <td>21</td>\n",
       "      <td>F</td>\n",
       "      <td>jean</td>\n",
       "      <td>NaN</td>\n",
       "    </tr>\n",
       "    <tr>\n",
       "      <th>5</th>\n",
       "      <td>20</td>\n",
       "      <td>F</td>\n",
       "      <td>lisa</td>\n",
       "      <td>NaN</td>\n",
       "    </tr>\n",
       "  </tbody>\n",
       "</table>\n",
       "</div>"
      ],
      "text/plain": [
       "   age gender   name occupation\n",
       "0   29      M  frank        NaN\n",
       "1   23      F   mary        NaN\n",
       "2   35      M    tom         RD\n",
       "3   33      M    ted        NaN\n",
       "4   21      F   jean        NaN\n",
       "5   20      F   lisa        NaN"
      ]
     },
     "execution_count": 157,
     "metadata": {},
     "output_type": "execute_result"
    }
   ],
   "source": [
    "df=pd.DataFrame([{'name':'frank','gender':'M','age':29},\n",
    "                 {'name':'mary','gender':'F','age':23},\n",
    "                 {'name':'tom','gender':'M','age':35, 'occupation':'RD'},\n",
    "                 {'name':'ted','gender':'M','age':33},\n",
    "                 {'name':'jean','gender':'F','age':21},\n",
    "                 {'name':'lisa','gender':'F','age':20}])\n",
    "df"
   ]
  },
  {
   "cell_type": "code",
   "execution_count": 158,
   "metadata": {},
   "outputs": [
    {
     "data": {
      "text/html": [
       "<div>\n",
       "<style>\n",
       "    .dataframe thead tr:only-child th {\n",
       "        text-align: right;\n",
       "    }\n",
       "\n",
       "    .dataframe thead th {\n",
       "        text-align: left;\n",
       "    }\n",
       "\n",
       "    .dataframe tbody tr th {\n",
       "        vertical-align: top;\n",
       "    }\n",
       "</style>\n",
       "<table border=\"1\" class=\"dataframe\">\n",
       "  <thead>\n",
       "    <tr style=\"text-align: right;\">\n",
       "      <th></th>\n",
       "      <th>age</th>\n",
       "      <th>gender</th>\n",
       "      <th>name</th>\n",
       "      <th>occupation</th>\n",
       "    </tr>\n",
       "  </thead>\n",
       "  <tbody>\n",
       "    <tr>\n",
       "      <th>0</th>\n",
       "      <td>29</td>\n",
       "      <td>M</td>\n",
       "      <td>frank</td>\n",
       "      <td>NaN</td>\n",
       "    </tr>\n",
       "    <tr>\n",
       "      <th>1</th>\n",
       "      <td>23</td>\n",
       "      <td>F</td>\n",
       "      <td>mary</td>\n",
       "      <td>NaN</td>\n",
       "    </tr>\n",
       "    <tr>\n",
       "      <th>2</th>\n",
       "      <td>35</td>\n",
       "      <td>M</td>\n",
       "      <td>tom</td>\n",
       "      <td>RD</td>\n",
       "    </tr>\n",
       "    <tr>\n",
       "      <th>3</th>\n",
       "      <td>33</td>\n",
       "      <td>M</td>\n",
       "      <td>ted</td>\n",
       "      <td>NaN</td>\n",
       "    </tr>\n",
       "    <tr>\n",
       "      <th>4</th>\n",
       "      <td>21</td>\n",
       "      <td>F</td>\n",
       "      <td>jean</td>\n",
       "      <td>NaN</td>\n",
       "    </tr>\n",
       "  </tbody>\n",
       "</table>\n",
       "</div>"
      ],
      "text/plain": [
       "   age gender   name occupation\n",
       "0   29      M  frank        NaN\n",
       "1   23      F   mary        NaN\n",
       "2   35      M    tom         RD\n",
       "3   33      M    ted        NaN\n",
       "4   21      F   jean        NaN"
      ]
     },
     "execution_count": 158,
     "metadata": {},
     "output_type": "execute_result"
    }
   ],
   "source": [
    "df.head()"
   ]
  },
  {
   "cell_type": "code",
   "execution_count": 159,
   "metadata": {},
   "outputs": [
    {
     "data": {
      "text/html": [
       "<div>\n",
       "<style>\n",
       "    .dataframe thead tr:only-child th {\n",
       "        text-align: right;\n",
       "    }\n",
       "\n",
       "    .dataframe thead th {\n",
       "        text-align: left;\n",
       "    }\n",
       "\n",
       "    .dataframe tbody tr th {\n",
       "        vertical-align: top;\n",
       "    }\n",
       "</style>\n",
       "<table border=\"1\" class=\"dataframe\">\n",
       "  <thead>\n",
       "    <tr style=\"text-align: right;\">\n",
       "      <th></th>\n",
       "      <th>age</th>\n",
       "      <th>gender</th>\n",
       "      <th>name</th>\n",
       "      <th>occupation</th>\n",
       "    </tr>\n",
       "  </thead>\n",
       "  <tbody>\n",
       "    <tr>\n",
       "      <th>0</th>\n",
       "      <td>29</td>\n",
       "      <td>M</td>\n",
       "      <td>frank</td>\n",
       "      <td>NaN</td>\n",
       "    </tr>\n",
       "    <tr>\n",
       "      <th>1</th>\n",
       "      <td>23</td>\n",
       "      <td>F</td>\n",
       "      <td>mary</td>\n",
       "      <td>NaN</td>\n",
       "    </tr>\n",
       "    <tr>\n",
       "      <th>2</th>\n",
       "      <td>35</td>\n",
       "      <td>M</td>\n",
       "      <td>tom</td>\n",
       "      <td>RD</td>\n",
       "    </tr>\n",
       "  </tbody>\n",
       "</table>\n",
       "</div>"
      ],
      "text/plain": [
       "   age gender   name occupation\n",
       "0   29      M  frank        NaN\n",
       "1   23      F   mary        NaN\n",
       "2   35      M    tom         RD"
      ]
     },
     "execution_count": 159,
     "metadata": {},
     "output_type": "execute_result"
    }
   ],
   "source": [
    "df.head(3)"
   ]
  },
  {
   "cell_type": "code",
   "execution_count": 160,
   "metadata": {},
   "outputs": [
    {
     "data": {
      "text/html": [
       "<div>\n",
       "<style>\n",
       "    .dataframe thead tr:only-child th {\n",
       "        text-align: right;\n",
       "    }\n",
       "\n",
       "    .dataframe thead th {\n",
       "        text-align: left;\n",
       "    }\n",
       "\n",
       "    .dataframe tbody tr th {\n",
       "        vertical-align: top;\n",
       "    }\n",
       "</style>\n",
       "<table border=\"1\" class=\"dataframe\">\n",
       "  <thead>\n",
       "    <tr style=\"text-align: right;\">\n",
       "      <th></th>\n",
       "      <th>age</th>\n",
       "      <th>gender</th>\n",
       "      <th>name</th>\n",
       "      <th>occupation</th>\n",
       "    </tr>\n",
       "  </thead>\n",
       "  <tbody>\n",
       "    <tr>\n",
       "      <th>1</th>\n",
       "      <td>23</td>\n",
       "      <td>F</td>\n",
       "      <td>mary</td>\n",
       "      <td>NaN</td>\n",
       "    </tr>\n",
       "    <tr>\n",
       "      <th>2</th>\n",
       "      <td>35</td>\n",
       "      <td>M</td>\n",
       "      <td>tom</td>\n",
       "      <td>RD</td>\n",
       "    </tr>\n",
       "    <tr>\n",
       "      <th>3</th>\n",
       "      <td>33</td>\n",
       "      <td>M</td>\n",
       "      <td>ted</td>\n",
       "      <td>NaN</td>\n",
       "    </tr>\n",
       "    <tr>\n",
       "      <th>4</th>\n",
       "      <td>21</td>\n",
       "      <td>F</td>\n",
       "      <td>jean</td>\n",
       "      <td>NaN</td>\n",
       "    </tr>\n",
       "    <tr>\n",
       "      <th>5</th>\n",
       "      <td>20</td>\n",
       "      <td>F</td>\n",
       "      <td>lisa</td>\n",
       "      <td>NaN</td>\n",
       "    </tr>\n",
       "  </tbody>\n",
       "</table>\n",
       "</div>"
      ],
      "text/plain": [
       "   age gender  name occupation\n",
       "1   23      F  mary        NaN\n",
       "2   35      M   tom         RD\n",
       "3   33      M   ted        NaN\n",
       "4   21      F  jean        NaN\n",
       "5   20      F  lisa        NaN"
      ]
     },
     "execution_count": 160,
     "metadata": {},
     "output_type": "execute_result"
    }
   ],
   "source": [
    "df.tail()"
   ]
  },
  {
   "cell_type": "code",
   "execution_count": 162,
   "metadata": {},
   "outputs": [
    {
     "data": {
      "text/html": [
       "<div>\n",
       "<style>\n",
       "    .dataframe thead tr:only-child th {\n",
       "        text-align: right;\n",
       "    }\n",
       "\n",
       "    .dataframe thead th {\n",
       "        text-align: left;\n",
       "    }\n",
       "\n",
       "    .dataframe tbody tr th {\n",
       "        vertical-align: top;\n",
       "    }\n",
       "</style>\n",
       "<table border=\"1\" class=\"dataframe\">\n",
       "  <thead>\n",
       "    <tr style=\"text-align: right;\">\n",
       "      <th></th>\n",
       "      <th>age</th>\n",
       "      <th>gender</th>\n",
       "      <th>name</th>\n",
       "      <th>occupation</th>\n",
       "    </tr>\n",
       "  </thead>\n",
       "  <tbody>\n",
       "    <tr>\n",
       "      <th>3</th>\n",
       "      <td>33</td>\n",
       "      <td>M</td>\n",
       "      <td>ted</td>\n",
       "      <td>NaN</td>\n",
       "    </tr>\n",
       "    <tr>\n",
       "      <th>4</th>\n",
       "      <td>21</td>\n",
       "      <td>F</td>\n",
       "      <td>jean</td>\n",
       "      <td>NaN</td>\n",
       "    </tr>\n",
       "    <tr>\n",
       "      <th>5</th>\n",
       "      <td>20</td>\n",
       "      <td>F</td>\n",
       "      <td>lisa</td>\n",
       "      <td>NaN</td>\n",
       "    </tr>\n",
       "  </tbody>\n",
       "</table>\n",
       "</div>"
      ],
      "text/plain": [
       "   age gender  name occupation\n",
       "3   33      M   ted        NaN\n",
       "4   21      F  jean        NaN\n",
       "5   20      F  lisa        NaN"
      ]
     },
     "execution_count": 162,
     "metadata": {},
     "output_type": "execute_result"
    }
   ],
   "source": [
    "df.tail(3)"
   ]
  },
  {
   "cell_type": "code",
   "execution_count": 163,
   "metadata": {},
   "outputs": [
    {
     "name": "stdout",
     "output_type": "stream",
     "text": [
      "<class 'pandas.core.frame.DataFrame'>\n",
      "RangeIndex: 6 entries, 0 to 5\n",
      "Data columns (total 4 columns):\n",
      "age           6 non-null int64\n",
      "gender        6 non-null object\n",
      "name          6 non-null object\n",
      "occupation    1 non-null object\n",
      "dtypes: int64(1), object(3)\n",
      "memory usage: 272.0+ bytes\n"
     ]
    }
   ],
   "source": [
    "df.info()"
   ]
  },
  {
   "cell_type": "code",
   "execution_count": 164,
   "metadata": {},
   "outputs": [
    {
     "data": {
      "text/html": [
       "<div>\n",
       "<style>\n",
       "    .dataframe thead tr:only-child th {\n",
       "        text-align: right;\n",
       "    }\n",
       "\n",
       "    .dataframe thead th {\n",
       "        text-align: left;\n",
       "    }\n",
       "\n",
       "    .dataframe tbody tr th {\n",
       "        vertical-align: top;\n",
       "    }\n",
       "</style>\n",
       "<table border=\"1\" class=\"dataframe\">\n",
       "  <thead>\n",
       "    <tr style=\"text-align: right;\">\n",
       "      <th></th>\n",
       "      <th>age</th>\n",
       "    </tr>\n",
       "  </thead>\n",
       "  <tbody>\n",
       "    <tr>\n",
       "      <th>count</th>\n",
       "      <td>6.000000</td>\n",
       "    </tr>\n",
       "    <tr>\n",
       "      <th>mean</th>\n",
       "      <td>26.833333</td>\n",
       "    </tr>\n",
       "    <tr>\n",
       "      <th>std</th>\n",
       "      <td>6.400521</td>\n",
       "    </tr>\n",
       "    <tr>\n",
       "      <th>min</th>\n",
       "      <td>20.000000</td>\n",
       "    </tr>\n",
       "    <tr>\n",
       "      <th>25%</th>\n",
       "      <td>21.500000</td>\n",
       "    </tr>\n",
       "    <tr>\n",
       "      <th>50%</th>\n",
       "      <td>26.000000</td>\n",
       "    </tr>\n",
       "    <tr>\n",
       "      <th>75%</th>\n",
       "      <td>32.000000</td>\n",
       "    </tr>\n",
       "    <tr>\n",
       "      <th>max</th>\n",
       "      <td>35.000000</td>\n",
       "    </tr>\n",
       "  </tbody>\n",
       "</table>\n",
       "</div>"
      ],
      "text/plain": [
       "             age\n",
       "count   6.000000\n",
       "mean   26.833333\n",
       "std     6.400521\n",
       "min    20.000000\n",
       "25%    21.500000\n",
       "50%    26.000000\n",
       "75%    32.000000\n",
       "max    35.000000"
      ]
     },
     "execution_count": 164,
     "metadata": {},
     "output_type": "execute_result"
    }
   ],
   "source": [
    "df.describe()"
   ]
  },
  {
   "cell_type": "code",
   "execution_count": 165,
   "metadata": {},
   "outputs": [
    {
     "data": {
      "text/plain": [
       "age            int64\n",
       "gender        object\n",
       "name          object\n",
       "occupation    object\n",
       "dtype: object"
      ]
     },
     "execution_count": 165,
     "metadata": {},
     "output_type": "execute_result"
    }
   ],
   "source": [
    "df.dtypes"
   ]
  },
  {
   "cell_type": "code",
   "execution_count": 167,
   "metadata": {},
   "outputs": [
    {
     "data": {
      "text/plain": [
       "age             23\n",
       "gender           F\n",
       "name          mary\n",
       "occupation     NaN\n",
       "Name: 1, dtype: object"
      ]
     },
     "execution_count": 167,
     "metadata": {},
     "output_type": "execute_result"
    }
   ],
   "source": [
    "df.ix[1]"
   ]
  },
  {
   "cell_type": "code",
   "execution_count": 168,
   "metadata": {},
   "outputs": [
    {
     "data": {
      "text/html": [
       "<div>\n",
       "<style>\n",
       "    .dataframe thead tr:only-child th {\n",
       "        text-align: right;\n",
       "    }\n",
       "\n",
       "    .dataframe thead th {\n",
       "        text-align: left;\n",
       "    }\n",
       "\n",
       "    .dataframe tbody tr th {\n",
       "        vertical-align: top;\n",
       "    }\n",
       "</style>\n",
       "<table border=\"1\" class=\"dataframe\">\n",
       "  <thead>\n",
       "    <tr style=\"text-align: right;\">\n",
       "      <th></th>\n",
       "      <th>age</th>\n",
       "      <th>gender</th>\n",
       "      <th>name</th>\n",
       "      <th>occupation</th>\n",
       "    </tr>\n",
       "  </thead>\n",
       "  <tbody>\n",
       "    <tr>\n",
       "      <th>1</th>\n",
       "      <td>23</td>\n",
       "      <td>F</td>\n",
       "      <td>mary</td>\n",
       "      <td>NaN</td>\n",
       "    </tr>\n",
       "    <tr>\n",
       "      <th>2</th>\n",
       "      <td>35</td>\n",
       "      <td>M</td>\n",
       "      <td>tom</td>\n",
       "      <td>RD</td>\n",
       "    </tr>\n",
       "    <tr>\n",
       "      <th>3</th>\n",
       "      <td>33</td>\n",
       "      <td>M</td>\n",
       "      <td>ted</td>\n",
       "      <td>NaN</td>\n",
       "    </tr>\n",
       "    <tr>\n",
       "      <th>4</th>\n",
       "      <td>21</td>\n",
       "      <td>F</td>\n",
       "      <td>jean</td>\n",
       "      <td>NaN</td>\n",
       "    </tr>\n",
       "  </tbody>\n",
       "</table>\n",
       "</div>"
      ],
      "text/plain": [
       "   age gender  name occupation\n",
       "1   23      F  mary        NaN\n",
       "2   35      M   tom         RD\n",
       "3   33      M   ted        NaN\n",
       "4   21      F  jean        NaN"
      ]
     },
     "execution_count": 168,
     "metadata": {},
     "output_type": "execute_result"
    }
   ],
   "source": [
    "df.ix[1:4]"
   ]
  },
  {
   "cell_type": "code",
   "execution_count": 169,
   "metadata": {},
   "outputs": [
    {
     "data": {
      "text/plain": [
       "0    frank\n",
       "1     mary\n",
       "2      tom\n",
       "3      ted\n",
       "4     jean\n",
       "5     lisa\n",
       "Name: name, dtype: object"
      ]
     },
     "execution_count": 169,
     "metadata": {},
     "output_type": "execute_result"
    }
   ],
   "source": [
    "df['name']"
   ]
  },
  {
   "cell_type": "code",
   "execution_count": 170,
   "metadata": {},
   "outputs": [
    {
     "data": {
      "text/html": [
       "<div>\n",
       "<style>\n",
       "    .dataframe thead tr:only-child th {\n",
       "        text-align: right;\n",
       "    }\n",
       "\n",
       "    .dataframe thead th {\n",
       "        text-align: left;\n",
       "    }\n",
       "\n",
       "    .dataframe tbody tr th {\n",
       "        vertical-align: top;\n",
       "    }\n",
       "</style>\n",
       "<table border=\"1\" class=\"dataframe\">\n",
       "  <thead>\n",
       "    <tr style=\"text-align: right;\">\n",
       "      <th></th>\n",
       "      <th>name</th>\n",
       "      <th>age</th>\n",
       "    </tr>\n",
       "  </thead>\n",
       "  <tbody>\n",
       "    <tr>\n",
       "      <th>0</th>\n",
       "      <td>frank</td>\n",
       "      <td>29</td>\n",
       "    </tr>\n",
       "    <tr>\n",
       "      <th>1</th>\n",
       "      <td>mary</td>\n",
       "      <td>23</td>\n",
       "    </tr>\n",
       "    <tr>\n",
       "      <th>2</th>\n",
       "      <td>tom</td>\n",
       "      <td>35</td>\n",
       "    </tr>\n",
       "    <tr>\n",
       "      <th>3</th>\n",
       "      <td>ted</td>\n",
       "      <td>33</td>\n",
       "    </tr>\n",
       "    <tr>\n",
       "      <th>4</th>\n",
       "      <td>jean</td>\n",
       "      <td>21</td>\n",
       "    </tr>\n",
       "    <tr>\n",
       "      <th>5</th>\n",
       "      <td>lisa</td>\n",
       "      <td>20</td>\n",
       "    </tr>\n",
       "  </tbody>\n",
       "</table>\n",
       "</div>"
      ],
      "text/plain": [
       "    name  age\n",
       "0  frank   29\n",
       "1   mary   23\n",
       "2    tom   35\n",
       "3    ted   33\n",
       "4   jean   21\n",
       "5   lisa   20"
      ]
     },
     "execution_count": 170,
     "metadata": {},
     "output_type": "execute_result"
    }
   ],
   "source": [
    "df[['name', 'age']]"
   ]
  },
  {
   "cell_type": "code",
   "execution_count": 171,
   "metadata": {},
   "outputs": [
    {
     "data": {
      "text/html": [
       "<div>\n",
       "<style>\n",
       "    .dataframe thead tr:only-child th {\n",
       "        text-align: right;\n",
       "    }\n",
       "\n",
       "    .dataframe thead th {\n",
       "        text-align: left;\n",
       "    }\n",
       "\n",
       "    .dataframe tbody tr th {\n",
       "        vertical-align: top;\n",
       "    }\n",
       "</style>\n",
       "<table border=\"1\" class=\"dataframe\">\n",
       "  <thead>\n",
       "    <tr style=\"text-align: right;\">\n",
       "      <th></th>\n",
       "      <th>name</th>\n",
       "      <th>age</th>\n",
       "    </tr>\n",
       "  </thead>\n",
       "  <tbody>\n",
       "    <tr>\n",
       "      <th>1</th>\n",
       "      <td>mary</td>\n",
       "      <td>23</td>\n",
       "    </tr>\n",
       "    <tr>\n",
       "      <th>2</th>\n",
       "      <td>tom</td>\n",
       "      <td>35</td>\n",
       "    </tr>\n",
       "  </tbody>\n",
       "</table>\n",
       "</div>"
      ],
      "text/plain": [
       "   name  age\n",
       "1  mary   23\n",
       "2   tom   35"
      ]
     },
     "execution_count": 171,
     "metadata": {},
     "output_type": "execute_result"
    }
   ],
   "source": [
    "df.ix[  1:2    ,    ['name' , 'age']    ]"
   ]
  },
  {
   "cell_type": "code",
   "execution_count": 172,
   "metadata": {},
   "outputs": [
    {
     "data": {
      "text/plain": [
       "pandas.core.frame.DataFrame"
      ]
     },
     "execution_count": 172,
     "metadata": {},
     "output_type": "execute_result"
    }
   ],
   "source": [
    "type(df)"
   ]
  },
  {
   "cell_type": "code",
   "execution_count": 173,
   "metadata": {},
   "outputs": [
    {
     "data": {
      "text/plain": [
       "pandas.core.series.Series"
      ]
     },
     "execution_count": 173,
     "metadata": {},
     "output_type": "execute_result"
    }
   ],
   "source": [
    "type(df['name'])"
   ]
  },
  {
   "cell_type": "code",
   "execution_count": 175,
   "metadata": {},
   "outputs": [
    {
     "data": {
      "text/plain": [
       "0     True\n",
       "1    False\n",
       "2     True\n",
       "3     True\n",
       "4    False\n",
       "5    False\n",
       "Name: gender, dtype: bool"
      ]
     },
     "execution_count": 175,
     "metadata": {},
     "output_type": "execute_result"
    }
   ],
   "source": [
    "df['gender'] == 'M'"
   ]
  },
  {
   "cell_type": "code",
   "execution_count": 176,
   "metadata": {},
   "outputs": [
    {
     "data": {
      "text/html": [
       "<div>\n",
       "<style>\n",
       "    .dataframe thead tr:only-child th {\n",
       "        text-align: right;\n",
       "    }\n",
       "\n",
       "    .dataframe thead th {\n",
       "        text-align: left;\n",
       "    }\n",
       "\n",
       "    .dataframe tbody tr th {\n",
       "        vertical-align: top;\n",
       "    }\n",
       "</style>\n",
       "<table border=\"1\" class=\"dataframe\">\n",
       "  <thead>\n",
       "    <tr style=\"text-align: right;\">\n",
       "      <th></th>\n",
       "      <th>age</th>\n",
       "      <th>gender</th>\n",
       "      <th>name</th>\n",
       "      <th>occupation</th>\n",
       "    </tr>\n",
       "  </thead>\n",
       "  <tbody>\n",
       "    <tr>\n",
       "      <th>0</th>\n",
       "      <td>29</td>\n",
       "      <td>M</td>\n",
       "      <td>frank</td>\n",
       "      <td>NaN</td>\n",
       "    </tr>\n",
       "    <tr>\n",
       "      <th>2</th>\n",
       "      <td>35</td>\n",
       "      <td>M</td>\n",
       "      <td>tom</td>\n",
       "      <td>RD</td>\n",
       "    </tr>\n",
       "    <tr>\n",
       "      <th>3</th>\n",
       "      <td>33</td>\n",
       "      <td>M</td>\n",
       "      <td>ted</td>\n",
       "      <td>NaN</td>\n",
       "    </tr>\n",
       "  </tbody>\n",
       "</table>\n",
       "</div>"
      ],
      "text/plain": [
       "   age gender   name occupation\n",
       "0   29      M  frank        NaN\n",
       "2   35      M    tom         RD\n",
       "3   33      M    ted        NaN"
      ]
     },
     "execution_count": 176,
     "metadata": {},
     "output_type": "execute_result"
    }
   ],
   "source": [
    "df[df['gender'] == 'M']"
   ]
  },
  {
   "cell_type": "code",
   "execution_count": 179,
   "metadata": {},
   "outputs": [
    {
     "data": {
      "text/html": [
       "<div>\n",
       "<style>\n",
       "    .dataframe thead tr:only-child th {\n",
       "        text-align: right;\n",
       "    }\n",
       "\n",
       "    .dataframe thead th {\n",
       "        text-align: left;\n",
       "    }\n",
       "\n",
       "    .dataframe tbody tr th {\n",
       "        vertical-align: top;\n",
       "    }\n",
       "</style>\n",
       "<table border=\"1\" class=\"dataframe\">\n",
       "  <thead>\n",
       "    <tr style=\"text-align: right;\">\n",
       "      <th></th>\n",
       "      <th>age</th>\n",
       "      <th>gender</th>\n",
       "      <th>name</th>\n",
       "      <th>occupation</th>\n",
       "    </tr>\n",
       "  </thead>\n",
       "  <tbody>\n",
       "    <tr>\n",
       "      <th>2</th>\n",
       "      <td>35</td>\n",
       "      <td>M</td>\n",
       "      <td>tom</td>\n",
       "      <td>RD</td>\n",
       "    </tr>\n",
       "    <tr>\n",
       "      <th>3</th>\n",
       "      <td>33</td>\n",
       "      <td>M</td>\n",
       "      <td>ted</td>\n",
       "      <td>NaN</td>\n",
       "    </tr>\n",
       "  </tbody>\n",
       "</table>\n",
       "</div>"
      ],
      "text/plain": [
       "   age gender name occupation\n",
       "2   35      M  tom         RD\n",
       "3   33      M  ted        NaN"
      ]
     },
     "execution_count": 179,
     "metadata": {},
     "output_type": "execute_result"
    }
   ],
   "source": [
    "(df['gender'] == 'M') & (df['age'] > 30)\n",
    "df[(df['gender'] == 'M') & (df['age'] > 30)]"
   ]
  },
  {
   "cell_type": "code",
   "execution_count": 180,
   "metadata": {},
   "outputs": [
    {
     "data": {
      "text/html": [
       "<div>\n",
       "<style>\n",
       "    .dataframe thead tr:only-child th {\n",
       "        text-align: right;\n",
       "    }\n",
       "\n",
       "    .dataframe thead th {\n",
       "        text-align: left;\n",
       "    }\n",
       "\n",
       "    .dataframe tbody tr th {\n",
       "        vertical-align: top;\n",
       "    }\n",
       "</style>\n",
       "<table border=\"1\" class=\"dataframe\">\n",
       "  <thead>\n",
       "    <tr style=\"text-align: right;\">\n",
       "      <th></th>\n",
       "      <th>age</th>\n",
       "      <th>gender</th>\n",
       "      <th>name</th>\n",
       "      <th>occupation</th>\n",
       "    </tr>\n",
       "  </thead>\n",
       "  <tbody>\n",
       "    <tr>\n",
       "      <th>0</th>\n",
       "      <td>29</td>\n",
       "      <td>M</td>\n",
       "      <td>frank</td>\n",
       "      <td>NaN</td>\n",
       "    </tr>\n",
       "    <tr>\n",
       "      <th>2</th>\n",
       "      <td>35</td>\n",
       "      <td>M</td>\n",
       "      <td>tom</td>\n",
       "      <td>RD</td>\n",
       "    </tr>\n",
       "    <tr>\n",
       "      <th>3</th>\n",
       "      <td>33</td>\n",
       "      <td>M</td>\n",
       "      <td>ted</td>\n",
       "      <td>NaN</td>\n",
       "    </tr>\n",
       "  </tbody>\n",
       "</table>\n",
       "</div>"
      ],
      "text/plain": [
       "   age gender   name occupation\n",
       "0   29      M  frank        NaN\n",
       "2   35      M    tom         RD\n",
       "3   33      M    ted        NaN"
      ]
     },
     "execution_count": 180,
     "metadata": {},
     "output_type": "execute_result"
    }
   ],
   "source": [
    "df[(df['gender'] == 'M') | (df['age'] > 30)]"
   ]
  },
  {
   "cell_type": "code",
   "execution_count": 181,
   "metadata": {
    "collapsed": true
   },
   "outputs": [],
   "source": [
    "df['employee'] = True"
   ]
  },
  {
   "cell_type": "code",
   "execution_count": 182,
   "metadata": {},
   "outputs": [
    {
     "data": {
      "text/html": [
       "<div>\n",
       "<style>\n",
       "    .dataframe thead tr:only-child th {\n",
       "        text-align: right;\n",
       "    }\n",
       "\n",
       "    .dataframe thead th {\n",
       "        text-align: left;\n",
       "    }\n",
       "\n",
       "    .dataframe tbody tr th {\n",
       "        vertical-align: top;\n",
       "    }\n",
       "</style>\n",
       "<table border=\"1\" class=\"dataframe\">\n",
       "  <thead>\n",
       "    <tr style=\"text-align: right;\">\n",
       "      <th></th>\n",
       "      <th>age</th>\n",
       "      <th>gender</th>\n",
       "      <th>name</th>\n",
       "      <th>occupation</th>\n",
       "      <th>employee</th>\n",
       "    </tr>\n",
       "  </thead>\n",
       "  <tbody>\n",
       "    <tr>\n",
       "      <th>0</th>\n",
       "      <td>29</td>\n",
       "      <td>M</td>\n",
       "      <td>frank</td>\n",
       "      <td>NaN</td>\n",
       "      <td>True</td>\n",
       "    </tr>\n",
       "    <tr>\n",
       "      <th>1</th>\n",
       "      <td>23</td>\n",
       "      <td>F</td>\n",
       "      <td>mary</td>\n",
       "      <td>NaN</td>\n",
       "      <td>True</td>\n",
       "    </tr>\n",
       "    <tr>\n",
       "      <th>2</th>\n",
       "      <td>35</td>\n",
       "      <td>M</td>\n",
       "      <td>tom</td>\n",
       "      <td>RD</td>\n",
       "      <td>True</td>\n",
       "    </tr>\n",
       "    <tr>\n",
       "      <th>3</th>\n",
       "      <td>33</td>\n",
       "      <td>M</td>\n",
       "      <td>ted</td>\n",
       "      <td>NaN</td>\n",
       "      <td>True</td>\n",
       "    </tr>\n",
       "    <tr>\n",
       "      <th>4</th>\n",
       "      <td>21</td>\n",
       "      <td>F</td>\n",
       "      <td>jean</td>\n",
       "      <td>NaN</td>\n",
       "      <td>True</td>\n",
       "    </tr>\n",
       "    <tr>\n",
       "      <th>5</th>\n",
       "      <td>20</td>\n",
       "      <td>F</td>\n",
       "      <td>lisa</td>\n",
       "      <td>NaN</td>\n",
       "      <td>True</td>\n",
       "    </tr>\n",
       "  </tbody>\n",
       "</table>\n",
       "</div>"
      ],
      "text/plain": [
       "   age gender   name occupation  employee\n",
       "0   29      M  frank        NaN      True\n",
       "1   23      F   mary        NaN      True\n",
       "2   35      M    tom         RD      True\n",
       "3   33      M    ted        NaN      True\n",
       "4   21      F   jean        NaN      True\n",
       "5   20      F   lisa        NaN      True"
      ]
     },
     "execution_count": 182,
     "metadata": {},
     "output_type": "execute_result"
    }
   ],
   "source": [
    "df"
   ]
  },
  {
   "cell_type": "code",
   "execution_count": 183,
   "metadata": {
    "collapsed": true
   },
   "outputs": [],
   "source": [
    "del df['employee']"
   ]
  },
  {
   "cell_type": "code",
   "execution_count": 184,
   "metadata": {},
   "outputs": [
    {
     "data": {
      "text/html": [
       "<div>\n",
       "<style>\n",
       "    .dataframe thead tr:only-child th {\n",
       "        text-align: right;\n",
       "    }\n",
       "\n",
       "    .dataframe thead th {\n",
       "        text-align: left;\n",
       "    }\n",
       "\n",
       "    .dataframe tbody tr th {\n",
       "        vertical-align: top;\n",
       "    }\n",
       "</style>\n",
       "<table border=\"1\" class=\"dataframe\">\n",
       "  <thead>\n",
       "    <tr style=\"text-align: right;\">\n",
       "      <th></th>\n",
       "      <th>age</th>\n",
       "      <th>gender</th>\n",
       "      <th>name</th>\n",
       "      <th>occupation</th>\n",
       "    </tr>\n",
       "  </thead>\n",
       "  <tbody>\n",
       "    <tr>\n",
       "      <th>0</th>\n",
       "      <td>29</td>\n",
       "      <td>M</td>\n",
       "      <td>frank</td>\n",
       "      <td>NaN</td>\n",
       "    </tr>\n",
       "    <tr>\n",
       "      <th>1</th>\n",
       "      <td>23</td>\n",
       "      <td>F</td>\n",
       "      <td>mary</td>\n",
       "      <td>NaN</td>\n",
       "    </tr>\n",
       "    <tr>\n",
       "      <th>2</th>\n",
       "      <td>35</td>\n",
       "      <td>M</td>\n",
       "      <td>tom</td>\n",
       "      <td>RD</td>\n",
       "    </tr>\n",
       "    <tr>\n",
       "      <th>3</th>\n",
       "      <td>33</td>\n",
       "      <td>M</td>\n",
       "      <td>ted</td>\n",
       "      <td>NaN</td>\n",
       "    </tr>\n",
       "    <tr>\n",
       "      <th>4</th>\n",
       "      <td>21</td>\n",
       "      <td>F</td>\n",
       "      <td>jean</td>\n",
       "      <td>NaN</td>\n",
       "    </tr>\n",
       "    <tr>\n",
       "      <th>5</th>\n",
       "      <td>20</td>\n",
       "      <td>F</td>\n",
       "      <td>lisa</td>\n",
       "      <td>NaN</td>\n",
       "    </tr>\n",
       "  </tbody>\n",
       "</table>\n",
       "</div>"
      ],
      "text/plain": [
       "   age gender   name occupation\n",
       "0   29      M  frank        NaN\n",
       "1   23      F   mary        NaN\n",
       "2   35      M    tom         RD\n",
       "3   33      M    ted        NaN\n",
       "4   21      F   jean        NaN\n",
       "5   20      F   lisa        NaN"
      ]
     },
     "execution_count": 184,
     "metadata": {},
     "output_type": "execute_result"
    }
   ],
   "source": [
    "df"
   ]
  },
  {
   "cell_type": "code",
   "execution_count": 194,
   "metadata": {},
   "outputs": [],
   "source": [
    "df.drop('occupation',1, inplace=True)\n",
    "df.drop(5, 0, inplace=True)"
   ]
  },
  {
   "cell_type": "code",
   "execution_count": 195,
   "metadata": {},
   "outputs": [
    {
     "data": {
      "text/html": [
       "<div>\n",
       "<style>\n",
       "    .dataframe thead tr:only-child th {\n",
       "        text-align: right;\n",
       "    }\n",
       "\n",
       "    .dataframe thead th {\n",
       "        text-align: left;\n",
       "    }\n",
       "\n",
       "    .dataframe tbody tr th {\n",
       "        vertical-align: top;\n",
       "    }\n",
       "</style>\n",
       "<table border=\"1\" class=\"dataframe\">\n",
       "  <thead>\n",
       "    <tr style=\"text-align: right;\">\n",
       "      <th></th>\n",
       "      <th>age</th>\n",
       "      <th>gender</th>\n",
       "      <th>name</th>\n",
       "    </tr>\n",
       "  </thead>\n",
       "  <tbody>\n",
       "    <tr>\n",
       "      <th>0</th>\n",
       "      <td>29</td>\n",
       "      <td>M</td>\n",
       "      <td>frank</td>\n",
       "    </tr>\n",
       "    <tr>\n",
       "      <th>1</th>\n",
       "      <td>23</td>\n",
       "      <td>F</td>\n",
       "      <td>mary</td>\n",
       "    </tr>\n",
       "    <tr>\n",
       "      <th>2</th>\n",
       "      <td>35</td>\n",
       "      <td>M</td>\n",
       "      <td>tom</td>\n",
       "    </tr>\n",
       "    <tr>\n",
       "      <th>3</th>\n",
       "      <td>33</td>\n",
       "      <td>M</td>\n",
       "      <td>ted</td>\n",
       "    </tr>\n",
       "    <tr>\n",
       "      <th>4</th>\n",
       "      <td>21</td>\n",
       "      <td>F</td>\n",
       "      <td>jean</td>\n",
       "    </tr>\n",
       "  </tbody>\n",
       "</table>\n",
       "</div>"
      ],
      "text/plain": [
       "   age gender   name\n",
       "0   29      M  frank\n",
       "1   23      F   mary\n",
       "2   35      M    tom\n",
       "3   33      M    ted\n",
       "4   21      F   jean"
      ]
     },
     "execution_count": 195,
     "metadata": {},
     "output_type": "execute_result"
    }
   ],
   "source": [
    "df"
   ]
  },
  {
   "cell_type": "code",
   "execution_count": 196,
   "metadata": {},
   "outputs": [],
   "source": [
    "df.loc[5]={'age':20,'gender':'F','name':'qoo'}"
   ]
  },
  {
   "cell_type": "code",
   "execution_count": 197,
   "metadata": {},
   "outputs": [
    {
     "data": {
      "text/html": [
       "<div>\n",
       "<style>\n",
       "    .dataframe thead tr:only-child th {\n",
       "        text-align: right;\n",
       "    }\n",
       "\n",
       "    .dataframe thead th {\n",
       "        text-align: left;\n",
       "    }\n",
       "\n",
       "    .dataframe tbody tr th {\n",
       "        vertical-align: top;\n",
       "    }\n",
       "</style>\n",
       "<table border=\"1\" class=\"dataframe\">\n",
       "  <thead>\n",
       "    <tr style=\"text-align: right;\">\n",
       "      <th></th>\n",
       "      <th>age</th>\n",
       "      <th>gender</th>\n",
       "      <th>name</th>\n",
       "    </tr>\n",
       "  </thead>\n",
       "  <tbody>\n",
       "    <tr>\n",
       "      <th>0</th>\n",
       "      <td>29</td>\n",
       "      <td>M</td>\n",
       "      <td>frank</td>\n",
       "    </tr>\n",
       "    <tr>\n",
       "      <th>1</th>\n",
       "      <td>23</td>\n",
       "      <td>F</td>\n",
       "      <td>mary</td>\n",
       "    </tr>\n",
       "    <tr>\n",
       "      <th>2</th>\n",
       "      <td>35</td>\n",
       "      <td>M</td>\n",
       "      <td>tom</td>\n",
       "    </tr>\n",
       "    <tr>\n",
       "      <th>3</th>\n",
       "      <td>33</td>\n",
       "      <td>M</td>\n",
       "      <td>ted</td>\n",
       "    </tr>\n",
       "    <tr>\n",
       "      <th>4</th>\n",
       "      <td>21</td>\n",
       "      <td>F</td>\n",
       "      <td>jean</td>\n",
       "    </tr>\n",
       "    <tr>\n",
       "      <th>5</th>\n",
       "      <td>20</td>\n",
       "      <td>F</td>\n",
       "      <td>qoo</td>\n",
       "    </tr>\n",
       "  </tbody>\n",
       "</table>\n",
       "</div>"
      ],
      "text/plain": [
       "   age gender   name\n",
       "0   29      M  frank\n",
       "1   23      F   mary\n",
       "2   35      M    tom\n",
       "3   33      M    ted\n",
       "4   21      F   jean\n",
       "5   20      F    qoo"
      ]
     },
     "execution_count": 197,
     "metadata": {},
     "output_type": "execute_result"
    }
   ],
   "source": [
    "df"
   ]
  },
  {
   "cell_type": "code",
   "execution_count": 198,
   "metadata": {},
   "outputs": [
    {
     "data": {
      "text/html": [
       "<div>\n",
       "<style>\n",
       "    .dataframe thead tr:only-child th {\n",
       "        text-align: right;\n",
       "    }\n",
       "\n",
       "    .dataframe thead th {\n",
       "        text-align: left;\n",
       "    }\n",
       "\n",
       "    .dataframe tbody tr th {\n",
       "        vertical-align: top;\n",
       "    }\n",
       "</style>\n",
       "<table border=\"1\" class=\"dataframe\">\n",
       "  <thead>\n",
       "    <tr style=\"text-align: right;\">\n",
       "      <th></th>\n",
       "      <th>age</th>\n",
       "      <th>gender</th>\n",
       "      <th>name</th>\n",
       "    </tr>\n",
       "  </thead>\n",
       "  <tbody>\n",
       "    <tr>\n",
       "      <th>0</th>\n",
       "      <td>29</td>\n",
       "      <td>M</td>\n",
       "      <td>frank</td>\n",
       "    </tr>\n",
       "    <tr>\n",
       "      <th>1</th>\n",
       "      <td>23</td>\n",
       "      <td>F</td>\n",
       "      <td>mary</td>\n",
       "    </tr>\n",
       "    <tr>\n",
       "      <th>2</th>\n",
       "      <td>35</td>\n",
       "      <td>M</td>\n",
       "      <td>tom</td>\n",
       "    </tr>\n",
       "    <tr>\n",
       "      <th>3</th>\n",
       "      <td>33</td>\n",
       "      <td>M</td>\n",
       "      <td>ted</td>\n",
       "    </tr>\n",
       "    <tr>\n",
       "      <th>4</th>\n",
       "      <td>21</td>\n",
       "      <td>F</td>\n",
       "      <td>jean</td>\n",
       "    </tr>\n",
       "    <tr>\n",
       "      <th>5</th>\n",
       "      <td>20</td>\n",
       "      <td>F</td>\n",
       "      <td>qoo</td>\n",
       "    </tr>\n",
       "    <tr>\n",
       "      <th>6</th>\n",
       "      <td>20</td>\n",
       "      <td>F</td>\n",
       "      <td>qoo</td>\n",
       "    </tr>\n",
       "  </tbody>\n",
       "</table>\n",
       "</div>"
      ],
      "text/plain": [
       "   age gender   name\n",
       "0   29      M  frank\n",
       "1   23      F   mary\n",
       "2   35      M    tom\n",
       "3   33      M    ted\n",
       "4   21      F   jean\n",
       "5   20      F    qoo\n",
       "6   20      F    qoo"
      ]
     },
     "execution_count": 198,
     "metadata": {},
     "output_type": "execute_result"
    }
   ],
   "source": [
    "df.append(pd.DataFrame([{'age':20,'gender':'F','name':'qoo'}]),ignore_index=True)"
   ]
  },
  {
   "cell_type": "code",
   "execution_count": 200,
   "metadata": {},
   "outputs": [
    {
     "data": {
      "text/html": [
       "<div>\n",
       "<style>\n",
       "    .dataframe thead tr:only-child th {\n",
       "        text-align: right;\n",
       "    }\n",
       "\n",
       "    .dataframe thead th {\n",
       "        text-align: left;\n",
       "    }\n",
       "\n",
       "    .dataframe tbody tr th {\n",
       "        vertical-align: top;\n",
       "    }\n",
       "</style>\n",
       "<table border=\"1\" class=\"dataframe\">\n",
       "  <thead>\n",
       "    <tr style=\"text-align: right;\">\n",
       "      <th></th>\n",
       "      <th>age</th>\n",
       "      <th>gender</th>\n",
       "      <th>name</th>\n",
       "    </tr>\n",
       "  </thead>\n",
       "  <tbody>\n",
       "    <tr>\n",
       "      <th>0</th>\n",
       "      <td>29</td>\n",
       "      <td>M</td>\n",
       "      <td>frank</td>\n",
       "    </tr>\n",
       "    <tr>\n",
       "      <th>1</th>\n",
       "      <td>23</td>\n",
       "      <td>F</td>\n",
       "      <td>mary</td>\n",
       "    </tr>\n",
       "    <tr>\n",
       "      <th>2</th>\n",
       "      <td>35</td>\n",
       "      <td>M</td>\n",
       "      <td>tom</td>\n",
       "    </tr>\n",
       "    <tr>\n",
       "      <th>3</th>\n",
       "      <td>33</td>\n",
       "      <td>M</td>\n",
       "      <td>ted</td>\n",
       "    </tr>\n",
       "    <tr>\n",
       "      <th>4</th>\n",
       "      <td>21</td>\n",
       "      <td>F</td>\n",
       "      <td>jean</td>\n",
       "    </tr>\n",
       "    <tr>\n",
       "      <th>5</th>\n",
       "      <td>20</td>\n",
       "      <td>F</td>\n",
       "      <td>qoo</td>\n",
       "    </tr>\n",
       "  </tbody>\n",
       "</table>\n",
       "</div>"
      ],
      "text/plain": [
       "   age gender   name\n",
       "0   29      M  frank\n",
       "1   23      F   mary\n",
       "2   35      M    tom\n",
       "3   33      M    ted\n",
       "4   21      F   jean\n",
       "5   20      F    qoo"
      ]
     },
     "execution_count": 200,
     "metadata": {},
     "output_type": "execute_result"
    }
   ],
   "source": [
    "df"
   ]
  },
  {
   "cell_type": "code",
   "execution_count": 201,
   "metadata": {},
   "outputs": [
    {
     "data": {
      "text/html": [
       "<div>\n",
       "<style>\n",
       "    .dataframe thead tr:only-child th {\n",
       "        text-align: right;\n",
       "    }\n",
       "\n",
       "    .dataframe thead th {\n",
       "        text-align: left;\n",
       "    }\n",
       "\n",
       "    .dataframe tbody tr th {\n",
       "        vertical-align: top;\n",
       "    }\n",
       "</style>\n",
       "<table border=\"1\" class=\"dataframe\">\n",
       "  <thead>\n",
       "    <tr style=\"text-align: right;\">\n",
       "      <th></th>\n",
       "      <th>age</th>\n",
       "      <th>gender</th>\n",
       "      <th>name</th>\n",
       "    </tr>\n",
       "  </thead>\n",
       "  <tbody>\n",
       "    <tr>\n",
       "      <th>0</th>\n",
       "      <td>29</td>\n",
       "      <td>M</td>\n",
       "      <td>frank</td>\n",
       "    </tr>\n",
       "    <tr>\n",
       "      <th>1</th>\n",
       "      <td>23</td>\n",
       "      <td>F</td>\n",
       "      <td>mary</td>\n",
       "    </tr>\n",
       "    <tr>\n",
       "      <th>2</th>\n",
       "      <td>35</td>\n",
       "      <td>M</td>\n",
       "      <td>tom</td>\n",
       "    </tr>\n",
       "    <tr>\n",
       "      <th>3</th>\n",
       "      <td>33</td>\n",
       "      <td>M</td>\n",
       "      <td>ted</td>\n",
       "    </tr>\n",
       "    <tr>\n",
       "      <th>4</th>\n",
       "      <td>21</td>\n",
       "      <td>F</td>\n",
       "      <td>jean</td>\n",
       "    </tr>\n",
       "  </tbody>\n",
       "</table>\n",
       "</div>"
      ],
      "text/plain": [
       "   age gender   name\n",
       "0   29      M  frank\n",
       "1   23      F   mary\n",
       "2   35      M    tom\n",
       "3   33      M    ted\n",
       "4   21      F   jean"
      ]
     },
     "execution_count": 201,
     "metadata": {},
     "output_type": "execute_result"
    }
   ],
   "source": [
    "df.drop(5)"
   ]
  },
  {
   "cell_type": "code",
   "execution_count": 206,
   "metadata": {},
   "outputs": [],
   "source": [
    "#df\n",
    "df['userid']=range(101,107)\n"
   ]
  },
  {
   "cell_type": "code",
   "execution_count": 208,
   "metadata": {},
   "outputs": [],
   "source": [
    "df.set_index('userid',inplace=True)"
   ]
  },
  {
   "cell_type": "code",
   "execution_count": 209,
   "metadata": {},
   "outputs": [
    {
     "data": {
      "text/html": [
       "<div>\n",
       "<style>\n",
       "    .dataframe thead tr:only-child th {\n",
       "        text-align: right;\n",
       "    }\n",
       "\n",
       "    .dataframe thead th {\n",
       "        text-align: left;\n",
       "    }\n",
       "\n",
       "    .dataframe tbody tr th {\n",
       "        vertical-align: top;\n",
       "    }\n",
       "</style>\n",
       "<table border=\"1\" class=\"dataframe\">\n",
       "  <thead>\n",
       "    <tr style=\"text-align: right;\">\n",
       "      <th></th>\n",
       "      <th>age</th>\n",
       "      <th>gender</th>\n",
       "      <th>name</th>\n",
       "    </tr>\n",
       "    <tr>\n",
       "      <th>userid</th>\n",
       "      <th></th>\n",
       "      <th></th>\n",
       "      <th></th>\n",
       "    </tr>\n",
       "  </thead>\n",
       "  <tbody>\n",
       "    <tr>\n",
       "      <th>101</th>\n",
       "      <td>29</td>\n",
       "      <td>M</td>\n",
       "      <td>frank</td>\n",
       "    </tr>\n",
       "    <tr>\n",
       "      <th>102</th>\n",
       "      <td>23</td>\n",
       "      <td>F</td>\n",
       "      <td>mary</td>\n",
       "    </tr>\n",
       "    <tr>\n",
       "      <th>103</th>\n",
       "      <td>35</td>\n",
       "      <td>M</td>\n",
       "      <td>tom</td>\n",
       "    </tr>\n",
       "    <tr>\n",
       "      <th>104</th>\n",
       "      <td>33</td>\n",
       "      <td>M</td>\n",
       "      <td>ted</td>\n",
       "    </tr>\n",
       "    <tr>\n",
       "      <th>105</th>\n",
       "      <td>21</td>\n",
       "      <td>F</td>\n",
       "      <td>jean</td>\n",
       "    </tr>\n",
       "    <tr>\n",
       "      <th>106</th>\n",
       "      <td>20</td>\n",
       "      <td>F</td>\n",
       "      <td>qoo</td>\n",
       "    </tr>\n",
       "  </tbody>\n",
       "</table>\n",
       "</div>"
      ],
      "text/plain": [
       "        age gender   name\n",
       "userid                   \n",
       "101      29      M  frank\n",
       "102      23      F   mary\n",
       "103      35      M    tom\n",
       "104      33      M    ted\n",
       "105      21      F   jean\n",
       "106      20      F    qoo"
      ]
     },
     "execution_count": 209,
     "metadata": {},
     "output_type": "execute_result"
    }
   ],
   "source": [
    "df"
   ]
  },
  {
   "cell_type": "code",
   "execution_count": 211,
   "metadata": {},
   "outputs": [
    {
     "data": {
      "text/plain": [
       "age         23\n",
       "gender       F\n",
       "name      mary\n",
       "Name: 102, dtype: object"
      ]
     },
     "execution_count": 211,
     "metadata": {},
     "output_type": "execute_result"
    }
   ],
   "source": [
    "df.iloc[1]"
   ]
  },
  {
   "cell_type": "code",
   "execution_count": 212,
   "metadata": {},
   "outputs": [
    {
     "data": {
      "text/html": [
       "<div>\n",
       "<style>\n",
       "    .dataframe thead tr:only-child th {\n",
       "        text-align: right;\n",
       "    }\n",
       "\n",
       "    .dataframe thead th {\n",
       "        text-align: left;\n",
       "    }\n",
       "\n",
       "    .dataframe tbody tr th {\n",
       "        vertical-align: top;\n",
       "    }\n",
       "</style>\n",
       "<table border=\"1\" class=\"dataframe\">\n",
       "  <thead>\n",
       "    <tr style=\"text-align: right;\">\n",
       "      <th></th>\n",
       "      <th>age</th>\n",
       "      <th>gender</th>\n",
       "      <th>name</th>\n",
       "    </tr>\n",
       "    <tr>\n",
       "      <th>userid</th>\n",
       "      <th></th>\n",
       "      <th></th>\n",
       "      <th></th>\n",
       "    </tr>\n",
       "  </thead>\n",
       "  <tbody>\n",
       "    <tr>\n",
       "      <th>102</th>\n",
       "      <td>23</td>\n",
       "      <td>F</td>\n",
       "      <td>mary</td>\n",
       "    </tr>\n",
       "    <tr>\n",
       "      <th>104</th>\n",
       "      <td>33</td>\n",
       "      <td>M</td>\n",
       "      <td>ted</td>\n",
       "    </tr>\n",
       "    <tr>\n",
       "      <th>106</th>\n",
       "      <td>20</td>\n",
       "      <td>F</td>\n",
       "      <td>qoo</td>\n",
       "    </tr>\n",
       "  </tbody>\n",
       "</table>\n",
       "</div>"
      ],
      "text/plain": [
       "        age gender  name\n",
       "userid                  \n",
       "102      23      F  mary\n",
       "104      33      M   ted\n",
       "106      20      F   qoo"
      ]
     },
     "execution_count": 212,
     "metadata": {},
     "output_type": "execute_result"
    }
   ],
   "source": [
    "df.iloc[[1,3,5]]"
   ]
  },
  {
   "cell_type": "code",
   "execution_count": 213,
   "metadata": {},
   "outputs": [
    {
     "data": {
      "text/html": [
       "<div>\n",
       "<style>\n",
       "    .dataframe thead tr:only-child th {\n",
       "        text-align: right;\n",
       "    }\n",
       "\n",
       "    .dataframe thead th {\n",
       "        text-align: left;\n",
       "    }\n",
       "\n",
       "    .dataframe tbody tr th {\n",
       "        vertical-align: top;\n",
       "    }\n",
       "</style>\n",
       "<table border=\"1\" class=\"dataframe\">\n",
       "  <thead>\n",
       "    <tr style=\"text-align: right;\">\n",
       "      <th></th>\n",
       "      <th>age</th>\n",
       "      <th>gender</th>\n",
       "      <th>name</th>\n",
       "    </tr>\n",
       "    <tr>\n",
       "      <th>userid</th>\n",
       "      <th></th>\n",
       "      <th></th>\n",
       "      <th></th>\n",
       "    </tr>\n",
       "  </thead>\n",
       "  <tbody>\n",
       "    <tr>\n",
       "      <th>101</th>\n",
       "      <td>29</td>\n",
       "      <td>M</td>\n",
       "      <td>frank</td>\n",
       "    </tr>\n",
       "    <tr>\n",
       "      <th>103</th>\n",
       "      <td>35</td>\n",
       "      <td>M</td>\n",
       "      <td>tom</td>\n",
       "    </tr>\n",
       "    <tr>\n",
       "      <th>105</th>\n",
       "      <td>21</td>\n",
       "      <td>F</td>\n",
       "      <td>jean</td>\n",
       "    </tr>\n",
       "  </tbody>\n",
       "</table>\n",
       "</div>"
      ],
      "text/plain": [
       "        age gender   name\n",
       "userid                   \n",
       "101      29      M  frank\n",
       "103      35      M    tom\n",
       "105      21      F   jean"
      ]
     },
     "execution_count": 213,
     "metadata": {},
     "output_type": "execute_result"
    }
   ],
   "source": [
    "df.ix[[101,103,105]]"
   ]
  },
  {
   "cell_type": "code",
   "execution_count": 214,
   "metadata": {},
   "outputs": [
    {
     "data": {
      "text/html": [
       "<div>\n",
       "<style>\n",
       "    .dataframe thead tr:only-child th {\n",
       "        text-align: right;\n",
       "    }\n",
       "\n",
       "    .dataframe thead th {\n",
       "        text-align: left;\n",
       "    }\n",
       "\n",
       "    .dataframe tbody tr th {\n",
       "        vertical-align: top;\n",
       "    }\n",
       "</style>\n",
       "<table border=\"1\" class=\"dataframe\">\n",
       "  <thead>\n",
       "    <tr style=\"text-align: right;\">\n",
       "      <th></th>\n",
       "      <th>age</th>\n",
       "      <th>gender</th>\n",
       "      <th>name</th>\n",
       "    </tr>\n",
       "    <tr>\n",
       "      <th>userid</th>\n",
       "      <th></th>\n",
       "      <th></th>\n",
       "      <th></th>\n",
       "    </tr>\n",
       "  </thead>\n",
       "  <tbody>\n",
       "    <tr>\n",
       "      <th>101</th>\n",
       "      <td>29</td>\n",
       "      <td>M</td>\n",
       "      <td>frank</td>\n",
       "    </tr>\n",
       "    <tr>\n",
       "      <th>103</th>\n",
       "      <td>35</td>\n",
       "      <td>M</td>\n",
       "      <td>tom</td>\n",
       "    </tr>\n",
       "    <tr>\n",
       "      <th>105</th>\n",
       "      <td>21</td>\n",
       "      <td>F</td>\n",
       "      <td>jean</td>\n",
       "    </tr>\n",
       "  </tbody>\n",
       "</table>\n",
       "</div>"
      ],
      "text/plain": [
       "        age gender   name\n",
       "userid                   \n",
       "101      29      M  frank\n",
       "103      35      M    tom\n",
       "105      21      F   jean"
      ]
     },
     "execution_count": 214,
     "metadata": {},
     "output_type": "execute_result"
    }
   ],
   "source": [
    "df.loc[[101,103,105]]"
   ]
  },
  {
   "cell_type": "markdown",
   "metadata": {},
   "source": [
    "## 抓取台股子公司"
   ]
  },
  {
   "cell_type": "code",
   "execution_count": 230,
   "metadata": {},
   "outputs": [
    {
     "name": "stderr",
     "output_type": "stream",
     "text": [
      "C:\\ProgramData\\Anaconda3\\lib\\site-packages\\ipykernel_launcher.py:25: DeprecationWarning: \n",
      ".ix is deprecated. Please use\n",
      ".loc for label based indexing or\n",
      ".iloc for positional indexing\n",
      "\n",
      "See the documentation here:\n",
      "http://pandas.pydata.org/pandas-docs/stable/indexing.html#ix-indexer-is-deprecated\n"
     ]
    },
    {
     "data": {
      "text/html": [
       "<div>\n",
       "<style>\n",
       "    .dataframe thead tr:only-child th {\n",
       "        text-align: right;\n",
       "    }\n",
       "\n",
       "    .dataframe thead th {\n",
       "        text-align: left;\n",
       "    }\n",
       "\n",
       "    .dataframe tbody tr th {\n",
       "        vertical-align: top;\n",
       "    }\n",
       "</style>\n",
       "<table border=\"1\" class=\"dataframe\">\n",
       "  <thead>\n",
       "    <tr style=\"text-align: right;\">\n",
       "      <th></th>\n",
       "      <th>事實發生日</th>\n",
       "      <th>重要子公司名稱</th>\n",
       "      <th>主要經營業務</th>\n",
       "      <th>地區</th>\n",
       "      <th>符合重要子公司認定之標準(註)</th>\n",
       "    </tr>\n",
       "  </thead>\n",
       "  <tbody>\n",
       "    <tr>\n",
       "      <th>1</th>\n",
       "      <td>93/04/16</td>\n",
       "      <td>台灣積體電路(北美)公司</td>\n",
       "      <td>積體電路及其他半導體裝置之銷售業務</td>\n",
       "      <td>U.S.A/美國</td>\n",
       "      <td>1</td>\n",
       "    </tr>\n",
       "    <tr>\n",
       "      <th>2</th>\n",
       "      <td>106/02/16</td>\n",
       "      <td>TSMC Global Ltd.</td>\n",
       "      <td>一般投資業務</td>\n",
       "      <td>British Virgin IS./英屬維京群島</td>\n",
       "      <td>1</td>\n",
       "    </tr>\n",
       "    <tr>\n",
       "      <th>1</th>\n",
       "      <td>99/04/26</td>\n",
       "      <td>FOXCONN (FAR EAST) LTD.</td>\n",
       "      <td>從事控股及轉投資事務</td>\n",
       "      <td>CAYMAN IS./開曼群島</td>\n",
       "      <td>1</td>\n",
       "    </tr>\n",
       "    <tr>\n",
       "      <th>2</th>\n",
       "      <td>102/03/28</td>\n",
       "      <td>BEST BEHAVIOUR HOLDINGS LTD.</td>\n",
       "      <td>未限定,但以不違反當地法令為前提</td>\n",
       "      <td>British Virgin IS./英屬維京群島</td>\n",
       "      <td>1</td>\n",
       "    </tr>\n",
       "    <tr>\n",
       "      <th>3</th>\n",
       "      <td>102/03/28</td>\n",
       "      <td>CHINA GALAXY ENTERPRISES LTD.</td>\n",
       "      <td>未限定,但以不違反當地法令為前提</td>\n",
       "      <td>HONG KONG/香港</td>\n",
       "      <td>1</td>\n",
       "    </tr>\n",
       "  </tbody>\n",
       "</table>\n",
       "</div>"
      ],
      "text/plain": [
       "0      事實發生日                        重要子公司名稱             主要經營業務  \\\n",
       "1   93/04/16                   台灣積體電路(北美)公司  積體電路及其他半導體裝置之銷售業務   \n",
       "2  106/02/16               TSMC Global Ltd.             一般投資業務   \n",
       "1   99/04/26        FOXCONN (FAR EAST) LTD.         從事控股及轉投資事務   \n",
       "2  102/03/28   BEST BEHAVIOUR HOLDINGS LTD.   未限定,但以不違反當地法令為前提   \n",
       "3  102/03/28  CHINA GALAXY ENTERPRISES LTD.   未限定,但以不違反當地法令為前提   \n",
       "\n",
       "0                         地區 符合重要子公司認定之標準(註)  \n",
       "1                   U.S.A/美國               1  \n",
       "2  British Virgin IS./英屬維京群島               1  \n",
       "1            CAYMAN IS./開曼群島               1  \n",
       "2  British Virgin IS./英屬維京群島               1  \n",
       "3               HONG KONG/香港               1  "
      ]
     },
     "execution_count": 230,
     "metadata": {},
     "output_type": "execute_result"
    }
   ],
   "source": [
    "import requests\n",
    "payload = {\n",
    "'encodeURIComponent':'1',\n",
    "'step':'1',\n",
    "'firstin':'1',\n",
    "'off':'1',\n",
    "'keyword4':'',\n",
    "'code1':'',\n",
    "'TYPEK2':'',\n",
    "'checkbtn':'',\n",
    "'queryName':'co_id',\n",
    "'inpuType':'co_id',\n",
    "'TYPEK':'all',\n",
    "'co_id':''    \n",
    "    \n",
    "}\n",
    "\n",
    "stock_ary = []\n",
    "for stock in ['2330', '2317','2454']:\n",
    "    payload['co_id'] = stock\n",
    "    res = requests.post('http://mops.twse.com.tw/mops/web/ajax_t79sb02', data = payload)\n",
    "    res.encoding = 'utf-8'\n",
    "    dfs = pandas.read_html(res.text)\n",
    "    df = dfs[1]\n",
    "    df.columns = df.ix[0]\n",
    "    df.drop(0, inplace=True)\n",
    "    stock_ary.append(df)\n",
    "stockdf = pandas.concat(stock_ary)\n",
    "stockdf.head()"
   ]
  },
  {
   "cell_type": "markdown",
   "metadata": {},
   "source": [
    "## 處理缺失值"
   ]
  },
  {
   "cell_type": "code",
   "execution_count": 232,
   "metadata": {},
   "outputs": [
    {
     "data": {
      "text/html": [
       "<div>\n",
       "<style>\n",
       "    .dataframe thead tr:only-child th {\n",
       "        text-align: right;\n",
       "    }\n",
       "\n",
       "    .dataframe thead th {\n",
       "        text-align: left;\n",
       "    }\n",
       "\n",
       "    .dataframe tbody tr th {\n",
       "        vertical-align: top;\n",
       "    }\n",
       "</style>\n",
       "<table border=\"1\" class=\"dataframe\">\n",
       "  <thead>\n",
       "    <tr style=\"text-align: right;\">\n",
       "      <th></th>\n",
       "      <th>name</th>\n",
       "      <th>gender</th>\n",
       "      <th>age</th>\n",
       "    </tr>\n",
       "  </thead>\n",
       "  <tbody>\n",
       "    <tr>\n",
       "      <th>0</th>\n",
       "      <td>frank</td>\n",
       "      <td>M</td>\n",
       "      <td>NaN</td>\n",
       "    </tr>\n",
       "    <tr>\n",
       "      <th>1</th>\n",
       "      <td>mary</td>\n",
       "      <td>NaN</td>\n",
       "      <td>NaN</td>\n",
       "    </tr>\n",
       "    <tr>\n",
       "      <th>2</th>\n",
       "      <td>tom</td>\n",
       "      <td>M</td>\n",
       "      <td>35.0</td>\n",
       "    </tr>\n",
       "    <tr>\n",
       "      <th>3</th>\n",
       "      <td>ted</td>\n",
       "      <td>M</td>\n",
       "      <td>33.0</td>\n",
       "    </tr>\n",
       "    <tr>\n",
       "      <th>4</th>\n",
       "      <td>jean</td>\n",
       "      <td>NaN</td>\n",
       "      <td>21.0</td>\n",
       "    </tr>\n",
       "    <tr>\n",
       "      <th>5</th>\n",
       "      <td>lisa</td>\n",
       "      <td>F</td>\n",
       "      <td>20.0</td>\n",
       "    </tr>\n",
       "  </tbody>\n",
       "</table>\n",
       "</div>"
      ],
      "text/plain": [
       "    name gender   age\n",
       "0  frank      M   NaN\n",
       "1   mary    NaN   NaN\n",
       "2    tom      M  35.0\n",
       "3    ted      M  33.0\n",
       "4   jean    NaN  21.0\n",
       "5   lisa      F  20.0"
      ]
     },
     "execution_count": 232,
     "metadata": {},
     "output_type": "execute_result"
    }
   ],
   "source": [
    "import pandas as pd\n",
    "import numpy as np\n",
    "df=pd.DataFrame([\\\n",
    "                 ['frank','M',np.nan],\\\n",
    "                 ['mary',np.nan,np.nan],\\\n",
    "                 ['tom','M',35],\\\n",
    "                 ['ted','M',33],\\\n",
    "                 ['jean',np.nan,21],\\\n",
    "                 ['lisa','F',20]])\n",
    "df.columns=['name','gender','age']\n",
    "df"
   ]
  },
  {
   "cell_type": "code",
   "execution_count": 234,
   "metadata": {},
   "outputs": [
    {
     "data": {
      "text/plain": [
       "0    False\n",
       "1     True\n",
       "2    False\n",
       "3    False\n",
       "4     True\n",
       "5    False\n",
       "Name: gender, dtype: bool"
      ]
     },
     "execution_count": 234,
     "metadata": {},
     "output_type": "execute_result"
    }
   ],
   "source": [
    "df['gender'].isnull()"
   ]
  },
  {
   "cell_type": "code",
   "execution_count": 235,
   "metadata": {},
   "outputs": [
    {
     "data": {
      "text/plain": [
       "0     True\n",
       "1    False\n",
       "2     True\n",
       "3     True\n",
       "4    False\n",
       "5     True\n",
       "Name: gender, dtype: bool"
      ]
     },
     "execution_count": 235,
     "metadata": {},
     "output_type": "execute_result"
    }
   ],
   "source": [
    "df['gender'].notnull()"
   ]
  },
  {
   "cell_type": "code",
   "execution_count": 236,
   "metadata": {},
   "outputs": [
    {
     "data": {
      "text/plain": [
       "0    frank\n",
       "1     mary\n",
       "2      tom\n",
       "3      ted\n",
       "4     jean\n",
       "5     lisa\n",
       "Name: name, dtype: object"
      ]
     },
     "execution_count": 236,
     "metadata": {},
     "output_type": "execute_result"
    }
   ],
   "source": [
    "df.name"
   ]
  },
  {
   "cell_type": "code",
   "execution_count": 237,
   "metadata": {},
   "outputs": [
    {
     "data": {
      "text/plain": [
       "0    frank\n",
       "1     mary\n",
       "2      tom\n",
       "3      ted\n",
       "4     jean\n",
       "5     lisa\n",
       "Name: name, dtype: object"
      ]
     },
     "execution_count": 237,
     "metadata": {},
     "output_type": "execute_result"
    }
   ],
   "source": [
    "df['name']"
   ]
  },
  {
   "cell_type": "code",
   "execution_count": 240,
   "metadata": {},
   "outputs": [
    {
     "data": {
      "text/plain": [
       "False"
      ]
     },
     "execution_count": 240,
     "metadata": {},
     "output_type": "execute_result"
    }
   ],
   "source": [
    "df.name.isnull().values.any()"
   ]
  },
  {
   "cell_type": "code",
   "execution_count": 241,
   "metadata": {},
   "outputs": [
    {
     "data": {
      "text/plain": [
       "True"
      ]
     },
     "execution_count": 241,
     "metadata": {},
     "output_type": "execute_result"
    }
   ],
   "source": [
    "df.gender.isnull().values.any()"
   ]
  },
  {
   "cell_type": "code",
   "execution_count": 242,
   "metadata": {},
   "outputs": [
    {
     "data": {
      "text/plain": [
       "True"
      ]
     },
     "execution_count": 242,
     "metadata": {},
     "output_type": "execute_result"
    }
   ],
   "source": [
    "df.isnull().values.any()"
   ]
  },
  {
   "cell_type": "code",
   "execution_count": 243,
   "metadata": {},
   "outputs": [
    {
     "data": {
      "text/plain": [
       "name      0\n",
       "gender    2\n",
       "age       2\n",
       "dtype: int64"
      ]
     },
     "execution_count": 243,
     "metadata": {},
     "output_type": "execute_result"
    }
   ],
   "source": [
    "df.isnull().sum()"
   ]
  },
  {
   "cell_type": "code",
   "execution_count": 244,
   "metadata": {},
   "outputs": [
    {
     "data": {
      "text/plain": [
       "4"
      ]
     },
     "execution_count": 244,
     "metadata": {},
     "output_type": "execute_result"
    }
   ],
   "source": [
    "df.isnull().sum().sum()"
   ]
  },
  {
   "cell_type": "code",
   "execution_count": 245,
   "metadata": {},
   "outputs": [
    {
     "data": {
      "text/html": [
       "<div>\n",
       "<style>\n",
       "    .dataframe thead tr:only-child th {\n",
       "        text-align: right;\n",
       "    }\n",
       "\n",
       "    .dataframe thead th {\n",
       "        text-align: left;\n",
       "    }\n",
       "\n",
       "    .dataframe tbody tr th {\n",
       "        vertical-align: top;\n",
       "    }\n",
       "</style>\n",
       "<table border=\"1\" class=\"dataframe\">\n",
       "  <thead>\n",
       "    <tr style=\"text-align: right;\">\n",
       "      <th></th>\n",
       "      <th>name</th>\n",
       "      <th>gender</th>\n",
       "      <th>age</th>\n",
       "    </tr>\n",
       "  </thead>\n",
       "  <tbody>\n",
       "    <tr>\n",
       "      <th>2</th>\n",
       "      <td>tom</td>\n",
       "      <td>M</td>\n",
       "      <td>35.0</td>\n",
       "    </tr>\n",
       "    <tr>\n",
       "      <th>3</th>\n",
       "      <td>ted</td>\n",
       "      <td>M</td>\n",
       "      <td>33.0</td>\n",
       "    </tr>\n",
       "    <tr>\n",
       "      <th>5</th>\n",
       "      <td>lisa</td>\n",
       "      <td>F</td>\n",
       "      <td>20.0</td>\n",
       "    </tr>\n",
       "  </tbody>\n",
       "</table>\n",
       "</div>"
      ],
      "text/plain": [
       "   name gender   age\n",
       "2   tom      M  35.0\n",
       "3   ted      M  33.0\n",
       "5  lisa      F  20.0"
      ]
     },
     "execution_count": 245,
     "metadata": {},
     "output_type": "execute_result"
    }
   ],
   "source": [
    "df.dropna()"
   ]
  },
  {
   "cell_type": "code",
   "execution_count": 246,
   "metadata": {},
   "outputs": [
    {
     "data": {
      "text/html": [
       "<div>\n",
       "<style>\n",
       "    .dataframe thead tr:only-child th {\n",
       "        text-align: right;\n",
       "    }\n",
       "\n",
       "    .dataframe thead th {\n",
       "        text-align: left;\n",
       "    }\n",
       "\n",
       "    .dataframe tbody tr th {\n",
       "        vertical-align: top;\n",
       "    }\n",
       "</style>\n",
       "<table border=\"1\" class=\"dataframe\">\n",
       "  <thead>\n",
       "    <tr style=\"text-align: right;\">\n",
       "      <th></th>\n",
       "      <th>name</th>\n",
       "      <th>gender</th>\n",
       "      <th>age</th>\n",
       "    </tr>\n",
       "  </thead>\n",
       "  <tbody>\n",
       "    <tr>\n",
       "      <th>0</th>\n",
       "      <td>frank</td>\n",
       "      <td>M</td>\n",
       "      <td>NaN</td>\n",
       "    </tr>\n",
       "    <tr>\n",
       "      <th>1</th>\n",
       "      <td>mary</td>\n",
       "      <td>NaN</td>\n",
       "      <td>NaN</td>\n",
       "    </tr>\n",
       "    <tr>\n",
       "      <th>2</th>\n",
       "      <td>tom</td>\n",
       "      <td>M</td>\n",
       "      <td>35.0</td>\n",
       "    </tr>\n",
       "    <tr>\n",
       "      <th>3</th>\n",
       "      <td>ted</td>\n",
       "      <td>M</td>\n",
       "      <td>33.0</td>\n",
       "    </tr>\n",
       "    <tr>\n",
       "      <th>4</th>\n",
       "      <td>jean</td>\n",
       "      <td>NaN</td>\n",
       "      <td>21.0</td>\n",
       "    </tr>\n",
       "    <tr>\n",
       "      <th>5</th>\n",
       "      <td>lisa</td>\n",
       "      <td>F</td>\n",
       "      <td>20.0</td>\n",
       "    </tr>\n",
       "  </tbody>\n",
       "</table>\n",
       "</div>"
      ],
      "text/plain": [
       "    name gender   age\n",
       "0  frank      M   NaN\n",
       "1   mary    NaN   NaN\n",
       "2    tom      M  35.0\n",
       "3    ted      M  33.0\n",
       "4   jean    NaN  21.0\n",
       "5   lisa      F  20.0"
      ]
     },
     "execution_count": 246,
     "metadata": {},
     "output_type": "execute_result"
    }
   ],
   "source": [
    "df.dropna(how='all')"
   ]
  },
  {
   "cell_type": "code",
   "execution_count": 247,
   "metadata": {},
   "outputs": [
    {
     "data": {
      "text/html": [
       "<div>\n",
       "<style>\n",
       "    .dataframe thead tr:only-child th {\n",
       "        text-align: right;\n",
       "    }\n",
       "\n",
       "    .dataframe thead th {\n",
       "        text-align: left;\n",
       "    }\n",
       "\n",
       "    .dataframe tbody tr th {\n",
       "        vertical-align: top;\n",
       "    }\n",
       "</style>\n",
       "<table border=\"1\" class=\"dataframe\">\n",
       "  <thead>\n",
       "    <tr style=\"text-align: right;\">\n",
       "      <th></th>\n",
       "      <th>name</th>\n",
       "      <th>gender</th>\n",
       "      <th>age</th>\n",
       "    </tr>\n",
       "  </thead>\n",
       "  <tbody>\n",
       "    <tr>\n",
       "      <th>0</th>\n",
       "      <td>frank</td>\n",
       "      <td>M</td>\n",
       "      <td>NaN</td>\n",
       "    </tr>\n",
       "    <tr>\n",
       "      <th>2</th>\n",
       "      <td>tom</td>\n",
       "      <td>M</td>\n",
       "      <td>35.0</td>\n",
       "    </tr>\n",
       "    <tr>\n",
       "      <th>3</th>\n",
       "      <td>ted</td>\n",
       "      <td>M</td>\n",
       "      <td>33.0</td>\n",
       "    </tr>\n",
       "    <tr>\n",
       "      <th>4</th>\n",
       "      <td>jean</td>\n",
       "      <td>NaN</td>\n",
       "      <td>21.0</td>\n",
       "    </tr>\n",
       "    <tr>\n",
       "      <th>5</th>\n",
       "      <td>lisa</td>\n",
       "      <td>F</td>\n",
       "      <td>20.0</td>\n",
       "    </tr>\n",
       "  </tbody>\n",
       "</table>\n",
       "</div>"
      ],
      "text/plain": [
       "    name gender   age\n",
       "0  frank      M   NaN\n",
       "2    tom      M  35.0\n",
       "3    ted      M  33.0\n",
       "4   jean    NaN  21.0\n",
       "5   lisa      F  20.0"
      ]
     },
     "execution_count": 247,
     "metadata": {},
     "output_type": "execute_result"
    }
   ],
   "source": [
    "df.dropna(thresh=2)"
   ]
  },
  {
   "cell_type": "code",
   "execution_count": 248,
   "metadata": {
    "collapsed": true
   },
   "outputs": [],
   "source": [
    "df['employee']=np.nan"
   ]
  },
  {
   "cell_type": "code",
   "execution_count": 250,
   "metadata": {},
   "outputs": [
    {
     "data": {
      "text/html": [
       "<div>\n",
       "<style>\n",
       "    .dataframe thead tr:only-child th {\n",
       "        text-align: right;\n",
       "    }\n",
       "\n",
       "    .dataframe thead th {\n",
       "        text-align: left;\n",
       "    }\n",
       "\n",
       "    .dataframe tbody tr th {\n",
       "        vertical-align: top;\n",
       "    }\n",
       "</style>\n",
       "<table border=\"1\" class=\"dataframe\">\n",
       "  <thead>\n",
       "    <tr style=\"text-align: right;\">\n",
       "      <th></th>\n",
       "      <th>name</th>\n",
       "      <th>gender</th>\n",
       "      <th>age</th>\n",
       "    </tr>\n",
       "  </thead>\n",
       "  <tbody>\n",
       "    <tr>\n",
       "      <th>0</th>\n",
       "      <td>frank</td>\n",
       "      <td>M</td>\n",
       "      <td>NaN</td>\n",
       "    </tr>\n",
       "    <tr>\n",
       "      <th>1</th>\n",
       "      <td>mary</td>\n",
       "      <td>NaN</td>\n",
       "      <td>NaN</td>\n",
       "    </tr>\n",
       "    <tr>\n",
       "      <th>2</th>\n",
       "      <td>tom</td>\n",
       "      <td>M</td>\n",
       "      <td>35.0</td>\n",
       "    </tr>\n",
       "    <tr>\n",
       "      <th>3</th>\n",
       "      <td>ted</td>\n",
       "      <td>M</td>\n",
       "      <td>33.0</td>\n",
       "    </tr>\n",
       "    <tr>\n",
       "      <th>4</th>\n",
       "      <td>jean</td>\n",
       "      <td>NaN</td>\n",
       "      <td>21.0</td>\n",
       "    </tr>\n",
       "    <tr>\n",
       "      <th>5</th>\n",
       "      <td>lisa</td>\n",
       "      <td>F</td>\n",
       "      <td>20.0</td>\n",
       "    </tr>\n",
       "  </tbody>\n",
       "</table>\n",
       "</div>"
      ],
      "text/plain": [
       "    name gender   age\n",
       "0  frank      M   NaN\n",
       "1   mary    NaN   NaN\n",
       "2    tom      M  35.0\n",
       "3    ted      M  33.0\n",
       "4   jean    NaN  21.0\n",
       "5   lisa      F  20.0"
      ]
     },
     "execution_count": 250,
     "metadata": {},
     "output_type": "execute_result"
    }
   ],
   "source": [
    "df.dropna(axis=1,how='all')"
   ]
  },
  {
   "cell_type": "code",
   "execution_count": 251,
   "metadata": {},
   "outputs": [
    {
     "data": {
      "text/html": [
       "<div>\n",
       "<style>\n",
       "    .dataframe thead tr:only-child th {\n",
       "        text-align: right;\n",
       "    }\n",
       "\n",
       "    .dataframe thead th {\n",
       "        text-align: left;\n",
       "    }\n",
       "\n",
       "    .dataframe tbody tr th {\n",
       "        vertical-align: top;\n",
       "    }\n",
       "</style>\n",
       "<table border=\"1\" class=\"dataframe\">\n",
       "  <thead>\n",
       "    <tr style=\"text-align: right;\">\n",
       "      <th></th>\n",
       "      <th>name</th>\n",
       "      <th>gender</th>\n",
       "      <th>age</th>\n",
       "      <th>employee</th>\n",
       "    </tr>\n",
       "  </thead>\n",
       "  <tbody>\n",
       "    <tr>\n",
       "      <th>0</th>\n",
       "      <td>frank</td>\n",
       "      <td>M</td>\n",
       "      <td>0.0</td>\n",
       "      <td>0.0</td>\n",
       "    </tr>\n",
       "    <tr>\n",
       "      <th>1</th>\n",
       "      <td>mary</td>\n",
       "      <td>0</td>\n",
       "      <td>0.0</td>\n",
       "      <td>0.0</td>\n",
       "    </tr>\n",
       "    <tr>\n",
       "      <th>2</th>\n",
       "      <td>tom</td>\n",
       "      <td>M</td>\n",
       "      <td>35.0</td>\n",
       "      <td>0.0</td>\n",
       "    </tr>\n",
       "    <tr>\n",
       "      <th>3</th>\n",
       "      <td>ted</td>\n",
       "      <td>M</td>\n",
       "      <td>33.0</td>\n",
       "      <td>0.0</td>\n",
       "    </tr>\n",
       "    <tr>\n",
       "      <th>4</th>\n",
       "      <td>jean</td>\n",
       "      <td>0</td>\n",
       "      <td>21.0</td>\n",
       "      <td>0.0</td>\n",
       "    </tr>\n",
       "    <tr>\n",
       "      <th>5</th>\n",
       "      <td>lisa</td>\n",
       "      <td>F</td>\n",
       "      <td>20.0</td>\n",
       "      <td>0.0</td>\n",
       "    </tr>\n",
       "  </tbody>\n",
       "</table>\n",
       "</div>"
      ],
      "text/plain": [
       "    name gender   age  employee\n",
       "0  frank      M   0.0       0.0\n",
       "1   mary      0   0.0       0.0\n",
       "2    tom      M  35.0       0.0\n",
       "3    ted      M  33.0       0.0\n",
       "4   jean      0  21.0       0.0\n",
       "5   lisa      F  20.0       0.0"
      ]
     },
     "execution_count": 251,
     "metadata": {},
     "output_type": "execute_result"
    }
   ],
   "source": [
    "df.fillna(0)"
   ]
  },
  {
   "cell_type": "code",
   "execution_count": 252,
   "metadata": {},
   "outputs": [
    {
     "data": {
      "text/plain": [
       "0     0.0\n",
       "1     0.0\n",
       "2    35.0\n",
       "3    33.0\n",
       "4    21.0\n",
       "5    20.0\n",
       "Name: age, dtype: float64"
      ]
     },
     "execution_count": 252,
     "metadata": {},
     "output_type": "execute_result"
    }
   ],
   "source": [
    "df['age'].fillna(0)"
   ]
  },
  {
   "cell_type": "code",
   "execution_count": 253,
   "metadata": {},
   "outputs": [
    {
     "data": {
      "text/plain": [
       "27.25"
      ]
     },
     "execution_count": 253,
     "metadata": {},
     "output_type": "execute_result"
    }
   ],
   "source": [
    "df[\"age\"].mean()"
   ]
  },
  {
   "cell_type": "code",
   "execution_count": 254,
   "metadata": {},
   "outputs": [
    {
     "data": {
      "text/plain": [
       "0    27.25\n",
       "1    27.25\n",
       "2    35.00\n",
       "3    33.00\n",
       "4    21.00\n",
       "5    20.00\n",
       "Name: age, dtype: float64"
      ]
     },
     "execution_count": 254,
     "metadata": {},
     "output_type": "execute_result"
    }
   ],
   "source": [
    "df['age'].fillna(df[\"age\"].mean())"
   ]
  },
  {
   "cell_type": "code",
   "execution_count": 257,
   "metadata": {},
   "outputs": [
    {
     "data": {
      "text/html": [
       "<div>\n",
       "<style>\n",
       "    .dataframe thead tr:only-child th {\n",
       "        text-align: right;\n",
       "    }\n",
       "\n",
       "    .dataframe thead th {\n",
       "        text-align: left;\n",
       "    }\n",
       "\n",
       "    .dataframe tbody tr th {\n",
       "        vertical-align: top;\n",
       "    }\n",
       "</style>\n",
       "<table border=\"1\" class=\"dataframe\">\n",
       "  <thead>\n",
       "    <tr style=\"text-align: right;\">\n",
       "      <th></th>\n",
       "      <th>age</th>\n",
       "      <th>gender</th>\n",
       "    </tr>\n",
       "  </thead>\n",
       "  <tbody>\n",
       "    <tr>\n",
       "      <th>0</th>\n",
       "      <td>NaN</td>\n",
       "      <td>M</td>\n",
       "    </tr>\n",
       "    <tr>\n",
       "      <th>1</th>\n",
       "      <td>NaN</td>\n",
       "      <td>NaN</td>\n",
       "    </tr>\n",
       "    <tr>\n",
       "      <th>2</th>\n",
       "      <td>35.0</td>\n",
       "      <td>M</td>\n",
       "    </tr>\n",
       "    <tr>\n",
       "      <th>3</th>\n",
       "      <td>33.0</td>\n",
       "      <td>M</td>\n",
       "    </tr>\n",
       "    <tr>\n",
       "      <th>4</th>\n",
       "      <td>21.0</td>\n",
       "      <td>NaN</td>\n",
       "    </tr>\n",
       "    <tr>\n",
       "      <th>5</th>\n",
       "      <td>20.0</td>\n",
       "      <td>F</td>\n",
       "    </tr>\n",
       "  </tbody>\n",
       "</table>\n",
       "</div>"
      ],
      "text/plain": [
       "    age gender\n",
       "0   NaN      M\n",
       "1   NaN    NaN\n",
       "2  35.0      M\n",
       "3  33.0      M\n",
       "4  21.0    NaN\n",
       "5  20.0      F"
      ]
     },
     "execution_count": 257,
     "metadata": {},
     "output_type": "execute_result"
    }
   ],
   "source": [
    "df[['age', 'gender']]"
   ]
  },
  {
   "cell_type": "code",
   "execution_count": 255,
   "metadata": {},
   "outputs": [
    {
     "data": {
      "text/plain": [
       "0    34.0\n",
       "1     NaN\n",
       "2    34.0\n",
       "3    34.0\n",
       "4     NaN\n",
       "5    20.0\n",
       "Name: age, dtype: float64"
      ]
     },
     "execution_count": 255,
     "metadata": {},
     "output_type": "execute_result"
    }
   ],
   "source": [
    "df.groupby(\"gender\")[\"age\"].transform(\"mean\")"
   ]
  },
  {
   "cell_type": "code",
   "execution_count": 260,
   "metadata": {},
   "outputs": [],
   "source": [
    "df['age'] = df['age'].fillna(df.groupby(\"gender\")[\"age\"].transform(\"mean\"))"
   ]
  },
  {
   "cell_type": "code",
   "execution_count": 261,
   "metadata": {},
   "outputs": [
    {
     "data": {
      "text/html": [
       "<div>\n",
       "<style>\n",
       "    .dataframe thead tr:only-child th {\n",
       "        text-align: right;\n",
       "    }\n",
       "\n",
       "    .dataframe thead th {\n",
       "        text-align: left;\n",
       "    }\n",
       "\n",
       "    .dataframe tbody tr th {\n",
       "        vertical-align: top;\n",
       "    }\n",
       "</style>\n",
       "<table border=\"1\" class=\"dataframe\">\n",
       "  <thead>\n",
       "    <tr style=\"text-align: right;\">\n",
       "      <th></th>\n",
       "      <th>name</th>\n",
       "      <th>gender</th>\n",
       "      <th>age</th>\n",
       "      <th>employee</th>\n",
       "    </tr>\n",
       "  </thead>\n",
       "  <tbody>\n",
       "    <tr>\n",
       "      <th>0</th>\n",
       "      <td>frank</td>\n",
       "      <td>M</td>\n",
       "      <td>34.0</td>\n",
       "      <td>NaN</td>\n",
       "    </tr>\n",
       "    <tr>\n",
       "      <th>1</th>\n",
       "      <td>mary</td>\n",
       "      <td>NaN</td>\n",
       "      <td>NaN</td>\n",
       "      <td>NaN</td>\n",
       "    </tr>\n",
       "    <tr>\n",
       "      <th>2</th>\n",
       "      <td>tom</td>\n",
       "      <td>M</td>\n",
       "      <td>35.0</td>\n",
       "      <td>NaN</td>\n",
       "    </tr>\n",
       "    <tr>\n",
       "      <th>3</th>\n",
       "      <td>ted</td>\n",
       "      <td>M</td>\n",
       "      <td>33.0</td>\n",
       "      <td>NaN</td>\n",
       "    </tr>\n",
       "    <tr>\n",
       "      <th>4</th>\n",
       "      <td>jean</td>\n",
       "      <td>NaN</td>\n",
       "      <td>21.0</td>\n",
       "      <td>NaN</td>\n",
       "    </tr>\n",
       "    <tr>\n",
       "      <th>5</th>\n",
       "      <td>lisa</td>\n",
       "      <td>F</td>\n",
       "      <td>20.0</td>\n",
       "      <td>NaN</td>\n",
       "    </tr>\n",
       "  </tbody>\n",
       "</table>\n",
       "</div>"
      ],
      "text/plain": [
       "    name gender   age  employee\n",
       "0  frank      M  34.0       NaN\n",
       "1   mary    NaN   NaN       NaN\n",
       "2    tom      M  35.0       NaN\n",
       "3    ted      M  33.0       NaN\n",
       "4   jean    NaN  21.0       NaN\n",
       "5   lisa      F  20.0       NaN"
      ]
     },
     "execution_count": 261,
     "metadata": {},
     "output_type": "execute_result"
    }
   ],
   "source": [
    "df"
   ]
  },
  {
   "cell_type": "code",
   "execution_count": 263,
   "metadata": {},
   "outputs": [
    {
     "data": {
      "text/html": [
       "<div>\n",
       "<style>\n",
       "    .dataframe thead tr:only-child th {\n",
       "        text-align: right;\n",
       "    }\n",
       "\n",
       "    .dataframe thead th {\n",
       "        text-align: left;\n",
       "    }\n",
       "\n",
       "    .dataframe tbody tr th {\n",
       "        vertical-align: top;\n",
       "    }\n",
       "</style>\n",
       "<table border=\"1\" class=\"dataframe\">\n",
       "  <thead>\n",
       "    <tr style=\"text-align: right;\">\n",
       "      <th></th>\n",
       "      <th>name</th>\n",
       "      <th>gender</th>\n",
       "      <th>age</th>\n",
       "      <th>employee</th>\n",
       "    </tr>\n",
       "  </thead>\n",
       "  <tbody>\n",
       "    <tr>\n",
       "      <th>0</th>\n",
       "      <td>frank</td>\n",
       "      <td>M</td>\n",
       "      <td>34.0</td>\n",
       "      <td>NaN</td>\n",
       "    </tr>\n",
       "    <tr>\n",
       "      <th>1</th>\n",
       "      <td>mary</td>\n",
       "      <td>M</td>\n",
       "      <td>34.0</td>\n",
       "      <td>NaN</td>\n",
       "    </tr>\n",
       "    <tr>\n",
       "      <th>2</th>\n",
       "      <td>tom</td>\n",
       "      <td>M</td>\n",
       "      <td>35.0</td>\n",
       "      <td>NaN</td>\n",
       "    </tr>\n",
       "    <tr>\n",
       "      <th>3</th>\n",
       "      <td>ted</td>\n",
       "      <td>M</td>\n",
       "      <td>33.0</td>\n",
       "      <td>NaN</td>\n",
       "    </tr>\n",
       "    <tr>\n",
       "      <th>4</th>\n",
       "      <td>jean</td>\n",
       "      <td>M</td>\n",
       "      <td>21.0</td>\n",
       "      <td>NaN</td>\n",
       "    </tr>\n",
       "    <tr>\n",
       "      <th>5</th>\n",
       "      <td>lisa</td>\n",
       "      <td>F</td>\n",
       "      <td>20.0</td>\n",
       "      <td>NaN</td>\n",
       "    </tr>\n",
       "  </tbody>\n",
       "</table>\n",
       "</div>"
      ],
      "text/plain": [
       "    name gender   age  employee\n",
       "0  frank      M  34.0       NaN\n",
       "1   mary      M  34.0       NaN\n",
       "2    tom      M  35.0       NaN\n",
       "3    ted      M  33.0       NaN\n",
       "4   jean      M  21.0       NaN\n",
       "5   lisa      F  20.0       NaN"
      ]
     },
     "execution_count": 263,
     "metadata": {},
     "output_type": "execute_result"
    }
   ],
   "source": [
    "df.fillna(method='pad')"
   ]
  },
  {
   "cell_type": "code",
   "execution_count": 264,
   "metadata": {},
   "outputs": [
    {
     "data": {
      "text/html": [
       "<div>\n",
       "<style>\n",
       "    .dataframe thead tr:only-child th {\n",
       "        text-align: right;\n",
       "    }\n",
       "\n",
       "    .dataframe thead th {\n",
       "        text-align: left;\n",
       "    }\n",
       "\n",
       "    .dataframe tbody tr th {\n",
       "        vertical-align: top;\n",
       "    }\n",
       "</style>\n",
       "<table border=\"1\" class=\"dataframe\">\n",
       "  <thead>\n",
       "    <tr style=\"text-align: right;\">\n",
       "      <th></th>\n",
       "      <th>name</th>\n",
       "      <th>gender</th>\n",
       "      <th>age</th>\n",
       "      <th>employee</th>\n",
       "    </tr>\n",
       "  </thead>\n",
       "  <tbody>\n",
       "    <tr>\n",
       "      <th>0</th>\n",
       "      <td>frank</td>\n",
       "      <td>M</td>\n",
       "      <td>34.0</td>\n",
       "      <td>NaN</td>\n",
       "    </tr>\n",
       "    <tr>\n",
       "      <th>1</th>\n",
       "      <td>mary</td>\n",
       "      <td>M</td>\n",
       "      <td>35.0</td>\n",
       "      <td>NaN</td>\n",
       "    </tr>\n",
       "    <tr>\n",
       "      <th>2</th>\n",
       "      <td>tom</td>\n",
       "      <td>M</td>\n",
       "      <td>35.0</td>\n",
       "      <td>NaN</td>\n",
       "    </tr>\n",
       "    <tr>\n",
       "      <th>3</th>\n",
       "      <td>ted</td>\n",
       "      <td>M</td>\n",
       "      <td>33.0</td>\n",
       "      <td>NaN</td>\n",
       "    </tr>\n",
       "    <tr>\n",
       "      <th>4</th>\n",
       "      <td>jean</td>\n",
       "      <td>F</td>\n",
       "      <td>21.0</td>\n",
       "      <td>NaN</td>\n",
       "    </tr>\n",
       "    <tr>\n",
       "      <th>5</th>\n",
       "      <td>lisa</td>\n",
       "      <td>F</td>\n",
       "      <td>20.0</td>\n",
       "      <td>NaN</td>\n",
       "    </tr>\n",
       "  </tbody>\n",
       "</table>\n",
       "</div>"
      ],
      "text/plain": [
       "    name gender   age  employee\n",
       "0  frank      M  34.0       NaN\n",
       "1   mary      M  35.0       NaN\n",
       "2    tom      M  35.0       NaN\n",
       "3    ted      M  33.0       NaN\n",
       "4   jean      F  21.0       NaN\n",
       "5   lisa      F  20.0       NaN"
      ]
     },
     "execution_count": 264,
     "metadata": {},
     "output_type": "execute_result"
    }
   ],
   "source": [
    "df.fillna(method='bfill',limit=2)"
   ]
  },
  {
   "cell_type": "code",
   "execution_count": 265,
   "metadata": {},
   "outputs": [
    {
     "data": {
      "text/html": [
       "<div>\n",
       "<style>\n",
       "    .dataframe thead tr:only-child th {\n",
       "        text-align: right;\n",
       "    }\n",
       "\n",
       "    .dataframe thead th {\n",
       "        text-align: left;\n",
       "    }\n",
       "\n",
       "    .dataframe tbody tr th {\n",
       "        vertical-align: top;\n",
       "    }\n",
       "</style>\n",
       "<table border=\"1\" class=\"dataframe\">\n",
       "  <thead>\n",
       "    <tr style=\"text-align: right;\">\n",
       "      <th></th>\n",
       "      <th>time</th>\n",
       "      <th>val</th>\n",
       "    </tr>\n",
       "  </thead>\n",
       "  <tbody>\n",
       "    <tr>\n",
       "      <th>0</th>\n",
       "      <td>1.0</td>\n",
       "      <td>870.0</td>\n",
       "    </tr>\n",
       "    <tr>\n",
       "      <th>1</th>\n",
       "      <td>2.0</td>\n",
       "      <td>900.0</td>\n",
       "    </tr>\n",
       "    <tr>\n",
       "      <th>2</th>\n",
       "      <td>3.0</td>\n",
       "      <td>925.0</td>\n",
       "    </tr>\n",
       "    <tr>\n",
       "      <th>3</th>\n",
       "      <td>4.0</td>\n",
       "      <td>950.0</td>\n",
       "    </tr>\n",
       "    <tr>\n",
       "      <th>4</th>\n",
       "      <td>5.0</td>\n",
       "      <td>1080.0</td>\n",
       "    </tr>\n",
       "    <tr>\n",
       "      <th>5</th>\n",
       "      <td>6.0</td>\n",
       "      <td>1200.0</td>\n",
       "    </tr>\n",
       "  </tbody>\n",
       "</table>\n",
       "</div>"
      ],
      "text/plain": [
       "   time     val\n",
       "0   1.0   870.0\n",
       "1   2.0   900.0\n",
       "2   3.0   925.0\n",
       "3   4.0   950.0\n",
       "4   5.0  1080.0\n",
       "5   6.0  1200.0"
      ]
     },
     "execution_count": 265,
     "metadata": {},
     "output_type": "execute_result"
    }
   ],
   "source": [
    "df2=pd.DataFrame([[1,870],\\\n",
    "                  [2,900],\\\n",
    "                  [np.nan,np.nan],\\\n",
    "                  [4,950],\\\n",
    "                  [5,1080],\\\n",
    "                  [6,1200]])\n",
    "\n",
    "df2.columns=['time','val']\n",
    "df2.interpolate()"
   ]
  },
  {
   "cell_type": "markdown",
   "metadata": {},
   "source": [
    "## 年齡推斷實例"
   ]
  },
  {
   "cell_type": "code",
   "execution_count": 272,
   "metadata": {},
   "outputs": [],
   "source": [
    "import pandas\n",
    "dataurl = 'https://raw.githubusercontent.com/ywchiu/twmpython/master/names/yob{}.txt'\n",
    "yob = []\n",
    "for year in range(1880,2011):\n",
    "    df = pandas.read_csv(dataurl.format(year), header=None)\n",
    "    df['year'] = year\n",
    "    yob.append(df)"
   ]
  },
  {
   "cell_type": "code",
   "execution_count": 273,
   "metadata": {
    "collapsed": true
   },
   "outputs": [],
   "source": [
    "yobdf = pandas.concat(yob)"
   ]
  },
  {
   "cell_type": "code",
   "execution_count": 274,
   "metadata": {},
   "outputs": [
    {
     "data": {
      "text/plain": [
       "Index([0, 1, 2, 'year'], dtype='object')"
      ]
     },
     "execution_count": 274,
     "metadata": {},
     "output_type": "execute_result"
    }
   ],
   "source": [
    "yobdf.columns "
   ]
  },
  {
   "cell_type": "code",
   "execution_count": 275,
   "metadata": {},
   "outputs": [],
   "source": [
    "yobdf.columns = ['name', 'gender', 'frequency', 'year']"
   ]
  },
  {
   "cell_type": "code",
   "execution_count": 288,
   "metadata": {},
   "outputs": [],
   "source": [
    "david = yobdf[(yobdf['name'] =='David') & (yobdf['gender'] == 'M') ][['year', 'frequency']]"
   ]
  },
  {
   "cell_type": "code",
   "execution_count": 289,
   "metadata": {
    "collapsed": true
   },
   "outputs": [],
   "source": [
    "david['age'] = 2017- david['year']"
   ]
  },
  {
   "cell_type": "code",
   "execution_count": 292,
   "metadata": {},
   "outputs": [
    {
     "data": {
      "text/plain": [
       "52.74447959010324"
      ]
     },
     "execution_count": 292,
     "metadata": {},
     "output_type": "execute_result"
    }
   ],
   "source": [
    "(david['age'] * david['frequency']).sum() / david['frequency'].sum()"
   ]
  },
  {
   "cell_type": "code",
   "execution_count": 297,
   "metadata": {},
   "outputs": [],
   "source": [
    "yobstat = yobdf.groupby(['name', 'gender'])['frequency'].sum().sort_values(ascending = False)"
   ]
  },
  {
   "cell_type": "code",
   "execution_count": 303,
   "metadata": {},
   "outputs": [],
   "source": [
    "yob_by_gender = yobstat.to_frame().unstack()"
   ]
  },
  {
   "cell_type": "code",
   "execution_count": 312,
   "metadata": {},
   "outputs": [],
   "source": [
    "male = yob_by_gender['frequency']['M'].sort_values(ascending = False)[0:10].index"
   ]
  },
  {
   "cell_type": "code",
   "execution_count": 313,
   "metadata": {
    "collapsed": true
   },
   "outputs": [],
   "source": [
    "female = yob_by_gender['frequency']['F'].sort_values(ascending = False)[0:10].index"
   ]
  },
  {
   "cell_type": "code",
   "execution_count": 320,
   "metadata": {},
   "outputs": [
    {
     "data": {
      "text/plain": [
       "Index(['James', 'John', 'Robert', 'Michael', 'William', 'David', 'Richard',\n",
       "       'Joseph', 'Charles', 'Thomas'],\n",
       "      dtype='object', name='name')"
      ]
     },
     "execution_count": 320,
     "metadata": {},
     "output_type": "execute_result"
    }
   ],
   "source": [
    "top10_male = yobdf[(yobdf['name'].isin(male)) & (yobdf['gender'] == 'M')][['name', 'year', 'frequency']]"
   ]
  },
  {
   "cell_type": "code",
   "execution_count": 325,
   "metadata": {},
   "outputs": [],
   "source": [
    "top10_male_stat = pandas.pivot_table(top10_male, columns='name', index='year', values='frequency')"
   ]
  },
  {
   "cell_type": "code",
   "execution_count": 327,
   "metadata": {},
   "outputs": [
    {
     "name": "stdout",
     "output_type": "stream",
     "text": [
      "Populating the interactive namespace from numpy and matplotlib\n"
     ]
    },
    {
     "data": {
      "text/plain": [
       "<matplotlib.axes._subplots.AxesSubplot at 0x2ed176a0>"
      ]
     },
     "execution_count": 327,
     "metadata": {},
     "output_type": "execute_result"
    },
    {
     "data": {
      "image/png": "[encoded data removed]",
      "text/plain": [
       "<matplotlib.figure.Figure at 0x2e6ea780>"
      ]
     },
     "metadata": {},
     "output_type": "display_data"
    }
   ],
   "source": [
    "%pylab inline\n",
    "top10_male_stat.plot(kind = 'line', figsize=[20,10])"
   ]
  },
  {
   "cell_type": "code",
   "execution_count": 338,
   "metadata": {},
   "outputs": [],
   "source": [
    "male = yobdf[(yobdf['year'] == 2010) & (yobdf['gender'] == 'M')].sort_values('frequency', ascending = False)['name'][0:10].values"
   ]
  },
  {
   "cell_type": "code",
   "execution_count": 339,
   "metadata": {
    "collapsed": true
   },
   "outputs": [],
   "source": [
    "top10_male = yobdf[(yobdf['name'].isin(male)) & (yobdf['gender'] == 'M')][['name', 'year', 'frequency']]"
   ]
  },
  {
   "cell_type": "code",
   "execution_count": 340,
   "metadata": {
    "collapsed": true
   },
   "outputs": [],
   "source": [
    "top10_male_stat = pandas.pivot_table(top10_male, columns='name', index='year', values='frequency')"
   ]
  },
  {
   "cell_type": "code",
   "execution_count": 341,
   "metadata": {},
   "outputs": [
    {
     "name": "stdout",
     "output_type": "stream",
     "text": [
      "Populating the interactive namespace from numpy and matplotlib\n"
     ]
    },
    {
     "data": {
      "text/plain": [
       "<matplotlib.axes._subplots.AxesSubplot at 0x2f1187b8>"
      ]
     },
     "execution_count": 341,
     "metadata": {},
     "output_type": "execute_result"
    },
    {
     "data": {
      "image/png": "[encoded data removed]",
      "text/plain": [
       "<matplotlib.figure.Figure at 0x2ec63eb8>"
      ]
     },
     "metadata": {},
     "output_type": "display_data"
    }
   ],
   "source": [
    "%pylab inline\n",
    "top10_male_stat.plot(kind = 'line', figsize=[20,10])"
   ]
  },
  {
   "cell_type": "code",
   "execution_count": 342,
   "metadata": {
    "collapsed": true
   },
   "outputs": [],
   "source": [
    "female = yobdf[(yobdf['year'] == 2010) & (yobdf['gender'] == 'F')].sort_values('frequency', ascending = False)['name'][0:10].values"
   ]
  },
  {
   "cell_type": "code",
   "execution_count": 343,
   "metadata": {
    "collapsed": true
   },
   "outputs": [],
   "source": [
    "top10_female = yobdf[(yobdf['name'].isin(female)) & (yobdf['gender'] == 'F')][['name', 'year', 'frequency']]"
   ]
  },
  {
   "cell_type": "code",
   "execution_count": 346,
   "metadata": {
    "collapsed": true
   },
   "outputs": [],
   "source": [
    "top10_female_stat = pandas.pivot_table(top10_female, columns='name', index='year', values='frequency')"
   ]
  },
  {
   "cell_type": "code",
   "execution_count": 347,
   "metadata": {},
   "outputs": [
    {
     "name": "stdout",
     "output_type": "stream",
     "text": [
      "Populating the interactive namespace from numpy and matplotlib\n"
     ]
    },
    {
     "data": {
      "text/plain": [
       "<matplotlib.axes._subplots.AxesSubplot at 0x2f4c8898>"
      ]
     },
     "execution_count": 347,
     "metadata": {},
     "output_type": "execute_result"
    },
    {
     "data": {
      "image/png": "[encoded data removed]",
      "text/plain": [
       "<matplotlib.figure.Figure at 0x2f1aa278>"
      ]
     },
     "metadata": {},
     "output_type": "display_data"
    }
   ],
   "source": [
    "%pylab inline\n",
    "top10_female_stat.plot(kind = 'line', figsize=[20,10])"
   ]
  },
  {
   "cell_type": "markdown",
   "metadata": {},
   "source": [
    "## 數據轉換"
   ]
  },
  {
   "cell_type": "code",
   "execution_count": 453,
   "metadata": {
    "collapsed": true
   },
   "outputs": [],
   "source": [
    "import pandas\n",
    "df = pandas.read_csv('https://raw.githubusercontent.com/ywchiu/tibamepy/master/data/rent_591_sample.csv', index_col=0)"
   ]
  },
  {
   "cell_type": "code",
   "execution_count": 454,
   "metadata": {},
   "outputs": [
    {
     "data": {
      "text/html": [
       "<div>\n",
       "<style>\n",
       "    .dataframe thead tr:only-child th {\n",
       "        text-align: right;\n",
       "    }\n",
       "\n",
       "    .dataframe thead th {\n",
       "        text-align: left;\n",
       "    }\n",
       "\n",
       "    .dataframe tbody tr th {\n",
       "        vertical-align: top;\n",
       "    }\n",
       "</style>\n",
       "<table border=\"1\" class=\"dataframe\">\n",
       "  <thead>\n",
       "    <tr style=\"text-align: right;\">\n",
       "      <th></th>\n",
       "      <th>detail_url</th>\n",
       "      <th>search_date</th>\n",
       "      <th>title</th>\n",
       "      <th>address</th>\n",
       "      <th>floor_info</th>\n",
       "      <th>price</th>\n",
       "      <th>layout</th>\n",
       "      <th>building_area</th>\n",
       "      <th>building_use</th>\n",
       "      <th>latitude</th>\n",
       "      <th>longitude</th>\n",
       "    </tr>\n",
       "  </thead>\n",
       "  <tbody>\n",
       "    <tr>\n",
       "      <th>0</th>\n",
       "      <td>https://rent.591.com.tw/rent-detail-1050934.html</td>\n",
       "      <td>2017-05-14</td>\n",
       "      <td>套房出租-近東方學院(六~八月可入住)</td>\n",
       "      <td>高雄市湖內區民生街</td>\n",
       "      <td>3F/3F</td>\n",
       "      <td>4,500元/月</td>\n",
       "      <td>NaN</td>\n",
       "      <td>6.0</td>\n",
       "      <td>透天厝/獨立套房</td>\n",
       "      <td>22.878436</td>\n",
       "      <td>120.250810</td>\n",
       "    </tr>\n",
       "    <tr>\n",
       "      <th>1</th>\n",
       "      <td>https://rent.591.com.tw/rent-detail-1008046.html</td>\n",
       "      <td>2017-05-14</td>\n",
       "      <td>好房子【聰明的你、妳快來租吧】</td>\n",
       "      <td>新北市蘆洲區長安街</td>\n",
       "      <td>4F/5F</td>\n",
       "      <td>7,500元/月</td>\n",
       "      <td>NaN</td>\n",
       "      <td>10.0</td>\n",
       "      <td>透天厝/獨立套房</td>\n",
       "      <td>25.081558</td>\n",
       "      <td>121.461868</td>\n",
       "    </tr>\n",
       "    <tr>\n",
       "      <th>2</th>\n",
       "      <td>https://rent.591.com.tw/rent-detail-1586266.html</td>\n",
       "      <td>2017-05-12</td>\n",
       "      <td>陽台大套房(獨立洗衣機)近頂溪捷運站</td>\n",
       "      <td>新北市永和區中山路一段</td>\n",
       "      <td>8F/12F</td>\n",
       "      <td>11,000元/月</td>\n",
       "      <td>NaN</td>\n",
       "      <td>8.0</td>\n",
       "      <td>電梯大樓/分租套房</td>\n",
       "      <td>25.010293</td>\n",
       "      <td>121.511328</td>\n",
       "    </tr>\n",
       "  </tbody>\n",
       "</table>\n",
       "</div>"
      ],
      "text/plain": [
       "                                         detail_url search_date  \\\n",
       "0  https://rent.591.com.tw/rent-detail-1050934.html  2017-05-14   \n",
       "1  https://rent.591.com.tw/rent-detail-1008046.html  2017-05-14   \n",
       "2  https://rent.591.com.tw/rent-detail-1586266.html  2017-05-12   \n",
       "\n",
       "                 title      address floor_info      price layout  \\\n",
       "0  套房出租-近東方學院(六~八月可入住)    高雄市湖內區民生街      3F/3F   4,500元/月    NaN   \n",
       "1      好房子【聰明的你、妳快來租吧】    新北市蘆洲區長安街      4F/5F   7,500元/月    NaN   \n",
       "2   陽台大套房(獨立洗衣機)近頂溪捷運站  新北市永和區中山路一段     8F/12F  11,000元/月    NaN   \n",
       "\n",
       "   building_area building_use   latitude   longitude  \n",
       "0            6.0     透天厝/獨立套房  22.878436  120.250810  \n",
       "1           10.0     透天厝/獨立套房  25.081558  121.461868  \n",
       "2            8.0    電梯大樓/分租套房  25.010293  121.511328  "
      ]
     },
     "execution_count": 454,
     "metadata": {},
     "output_type": "execute_result"
    }
   ],
   "source": [
    "df.head(3)"
   ]
  },
  {
   "cell_type": "code",
   "execution_count": 455,
   "metadata": {},
   "outputs": [
    {
     "data": {
      "text/plain": [
       "0    19.834711\n",
       "1    33.057851\n",
       "2    26.446281\n",
       "3    26.446281\n",
       "4    23.140496\n",
       "Name: building_area, dtype: float64"
      ]
     },
     "execution_count": 455,
     "metadata": {},
     "output_type": "execute_result"
    }
   ],
   "source": [
    "(df['building_area'] / 0.3025).head()"
   ]
  },
  {
   "cell_type": "code",
   "execution_count": 456,
   "metadata": {},
   "outputs": [
    {
     "data": {
      "text/plain": [
       "0    2.449490\n",
       "1    3.162278\n",
       "2    2.828427\n",
       "3    2.828427\n",
       "4    2.645751\n",
       "Name: building_area, dtype: float64"
      ]
     },
     "execution_count": 456,
     "metadata": {},
     "output_type": "execute_result"
    }
   ],
   "source": [
    "import numpy as np\n",
    "np.sqrt(df['building_area']).head()"
   ]
  },
  {
   "cell_type": "code",
   "execution_count": 457,
   "metadata": {},
   "outputs": [
    {
     "data": {
      "text/plain": [
       "0       高雄市湖內區民生街-4,500元/月\n",
       "1       新北市蘆洲區長安街-7,500元/月\n",
       "2    新北市永和區中山路一段-11,000元/月\n",
       "3       屏東縣潮州鎮六合路-5,000元/月\n",
       "4       桃園市觀音區四維路-5,000元/月\n",
       "dtype: object"
      ]
     },
     "execution_count": 457,
     "metadata": {},
     "output_type": "execute_result"
    }
   ],
   "source": [
    "(df['address'] + '-' + df['price']).head()"
   ]
  },
  {
   "cell_type": "code",
   "execution_count": 458,
   "metadata": {},
   "outputs": [
    {
     "data": {
      "text/html": [
       "<div>\n",
       "<style>\n",
       "    .dataframe thead tr:only-child th {\n",
       "        text-align: right;\n",
       "    }\n",
       "\n",
       "    .dataframe thead th {\n",
       "        text-align: left;\n",
       "    }\n",
       "\n",
       "    .dataframe tbody tr th {\n",
       "        vertical-align: top;\n",
       "    }\n",
       "</style>\n",
       "<table border=\"1\" class=\"dataframe\">\n",
       "  <thead>\n",
       "    <tr style=\"text-align: right;\">\n",
       "      <th></th>\n",
       "      <th>detail_url</th>\n",
       "      <th>search_date</th>\n",
       "      <th>title</th>\n",
       "      <th>address</th>\n",
       "      <th>floor_info</th>\n",
       "      <th>price</th>\n",
       "      <th>layout</th>\n",
       "      <th>building_area</th>\n",
       "      <th>building_use</th>\n",
       "      <th>latitude</th>\n",
       "      <th>longitude</th>\n",
       "      <th>square_feet</th>\n",
       "    </tr>\n",
       "  </thead>\n",
       "  <tbody>\n",
       "    <tr>\n",
       "      <th>0</th>\n",
       "      <td>https://rent.591.com.tw/rent-detail-1050934.html</td>\n",
       "      <td>2017-05-14</td>\n",
       "      <td>套房出租-近東方學院(六~八月可入住)</td>\n",
       "      <td>高雄市湖內區民生街</td>\n",
       "      <td>3F/3F</td>\n",
       "      <td>4,500元/月</td>\n",
       "      <td>NaN</td>\n",
       "      <td>6.0</td>\n",
       "      <td>透天厝/獨立套房</td>\n",
       "      <td>22.878436</td>\n",
       "      <td>120.250810</td>\n",
       "      <td>19.834711</td>\n",
       "    </tr>\n",
       "    <tr>\n",
       "      <th>1</th>\n",
       "      <td>https://rent.591.com.tw/rent-detail-1008046.html</td>\n",
       "      <td>2017-05-14</td>\n",
       "      <td>好房子【聰明的你、妳快來租吧】</td>\n",
       "      <td>新北市蘆洲區長安街</td>\n",
       "      <td>4F/5F</td>\n",
       "      <td>7,500元/月</td>\n",
       "      <td>NaN</td>\n",
       "      <td>10.0</td>\n",
       "      <td>透天厝/獨立套房</td>\n",
       "      <td>25.081558</td>\n",
       "      <td>121.461868</td>\n",
       "      <td>33.057851</td>\n",
       "    </tr>\n",
       "    <tr>\n",
       "      <th>2</th>\n",
       "      <td>https://rent.591.com.tw/rent-detail-1586266.html</td>\n",
       "      <td>2017-05-12</td>\n",
       "      <td>陽台大套房(獨立洗衣機)近頂溪捷運站</td>\n",
       "      <td>新北市永和區中山路一段</td>\n",
       "      <td>8F/12F</td>\n",
       "      <td>11,000元/月</td>\n",
       "      <td>NaN</td>\n",
       "      <td>8.0</td>\n",
       "      <td>電梯大樓/分租套房</td>\n",
       "      <td>25.010293</td>\n",
       "      <td>121.511328</td>\n",
       "      <td>26.446281</td>\n",
       "    </tr>\n",
       "  </tbody>\n",
       "</table>\n",
       "</div>"
      ],
      "text/plain": [
       "                                         detail_url search_date  \\\n",
       "0  https://rent.591.com.tw/rent-detail-1050934.html  2017-05-14   \n",
       "1  https://rent.591.com.tw/rent-detail-1008046.html  2017-05-14   \n",
       "2  https://rent.591.com.tw/rent-detail-1586266.html  2017-05-12   \n",
       "\n",
       "                 title      address floor_info      price layout  \\\n",
       "0  套房出租-近東方學院(六~八月可入住)    高雄市湖內區民生街      3F/3F   4,500元/月    NaN   \n",
       "1      好房子【聰明的你、妳快來租吧】    新北市蘆洲區長安街      4F/5F   7,500元/月    NaN   \n",
       "2   陽台大套房(獨立洗衣機)近頂溪捷運站  新北市永和區中山路一段     8F/12F  11,000元/月    NaN   \n",
       "\n",
       "   building_area building_use   latitude   longitude  square_feet  \n",
       "0            6.0     透天厝/獨立套房  22.878436  120.250810    19.834711  \n",
       "1           10.0     透天厝/獨立套房  25.081558  121.461868    33.057851  \n",
       "2            8.0    電梯大樓/分租套房  25.010293  121.511328    26.446281  "
      ]
     },
     "execution_count": 458,
     "metadata": {},
     "output_type": "execute_result"
    }
   ],
   "source": [
    "df['square_feet'] = df['building_area'] / 0.3025\n",
    "df.head(3)"
   ]
  },
  {
   "cell_type": "code",
   "execution_count": 459,
   "metadata": {},
   "outputs": [
    {
     "data": {
      "text/plain": [
       "4500"
      ]
     },
     "execution_count": 459,
     "metadata": {},
     "output_type": "execute_result"
    }
   ],
   "source": [
    "p = '4,500元/月'\n",
    "int(p.replace('元/月', '').replace(',', ''))"
   ]
  },
  {
   "cell_type": "code",
   "execution_count": 460,
   "metadata": {},
   "outputs": [
    {
     "data": {
      "text/plain": [
       "4500"
      ]
     },
     "execution_count": 460,
     "metadata": {},
     "output_type": "execute_result"
    }
   ],
   "source": [
    "def normalizePrice(ele):\n",
    "    res=int(ele.replace('元/月','').replace(',',''))\n",
    "    return res\n",
    "\n",
    "normalizePrice(p)"
   ]
  },
  {
   "cell_type": "code",
   "execution_count": 490,
   "metadata": {},
   "outputs": [],
   "source": [
    "df['price'].map(normalizePrice).head()\n",
    "df['price'] = df['price'].map(normalizePrice)"
   ]
  },
  {
   "cell_type": "code",
   "execution_count": 462,
   "metadata": {},
   "outputs": [
    {
     "data": {
      "text/plain": [
       "4"
      ]
     },
     "execution_count": 462,
     "metadata": {},
     "output_type": "execute_result"
    }
   ],
   "source": [
    "def square(ele):\n",
    "    return ele * ele\n",
    "\n",
    "square(2)"
   ]
  },
  {
   "cell_type": "code",
   "execution_count": 463,
   "metadata": {},
   "outputs": [
    {
     "data": {
      "text/plain": [
       "9"
      ]
     },
     "execution_count": 463,
     "metadata": {},
     "output_type": "execute_result"
    }
   ],
   "source": [
    "square = lambda ele : ele * ele\n",
    "square(3)"
   ]
  },
  {
   "cell_type": "code",
   "execution_count": 464,
   "metadata": {},
   "outputs": [
    {
     "data": {
      "text/plain": [
       "0     4500\n",
       "1     7500\n",
       "2    11000\n",
       "3     5000\n",
       "4     5000\n",
       "Name: price, dtype: int64"
      ]
     },
     "execution_count": 464,
     "metadata": {},
     "output_type": "execute_result"
    }
   ],
   "source": [
    "df['price'].map(lambda e : int(e.replace('元/月','').replace(',','')) ).head()"
   ]
  },
  {
   "cell_type": "code",
   "execution_count": 465,
   "metadata": {},
   "outputs": [
    {
     "data": {
      "text/html": [
       "<div>\n",
       "<style>\n",
       "    .dataframe thead tr:only-child th {\n",
       "        text-align: right;\n",
       "    }\n",
       "\n",
       "    .dataframe thead th {\n",
       "        text-align: left;\n",
       "    }\n",
       "\n",
       "    .dataframe tbody tr th {\n",
       "        vertical-align: top;\n",
       "    }\n",
       "</style>\n",
       "<table border=\"1\" class=\"dataframe\">\n",
       "  <thead>\n",
       "    <tr style=\"text-align: right;\">\n",
       "      <th></th>\n",
       "      <th>First</th>\n",
       "      <th>Second</th>\n",
       "      <th>Third</th>\n",
       "    </tr>\n",
       "  </thead>\n",
       "  <tbody>\n",
       "    <tr>\n",
       "      <th>0</th>\n",
       "      <td>60</td>\n",
       "      <td>70</td>\n",
       "      <td>50</td>\n",
       "    </tr>\n",
       "    <tr>\n",
       "      <th>1</th>\n",
       "      <td>80</td>\n",
       "      <td>79</td>\n",
       "      <td>68</td>\n",
       "    </tr>\n",
       "    <tr>\n",
       "      <th>2</th>\n",
       "      <td>63</td>\n",
       "      <td>66</td>\n",
       "      <td>82</td>\n",
       "    </tr>\n",
       "  </tbody>\n",
       "</table>\n",
       "</div>"
      ],
      "text/plain": [
       "   First  Second  Third\n",
       "0     60      70     50\n",
       "1     80      79     68\n",
       "2     63      66     82"
      ]
     },
     "execution_count": 465,
     "metadata": {},
     "output_type": "execute_result"
    }
   ],
   "source": [
    "df=pandas.DataFrame(\\\n",
    "                    [\\\n",
    "                     [60,70,50],\\\n",
    "                     [80,79,68],\\\n",
    "                     [63,66,82]],\\\n",
    "                    columns=['First','Second','Third'])\n",
    "df"
   ]
  },
  {
   "cell_type": "code",
   "execution_count": 466,
   "metadata": {},
   "outputs": [
    {
     "data": {
      "text/plain": [
       "0    20\n",
       "1    12\n",
       "2    19\n",
       "dtype: int64"
      ]
     },
     "execution_count": 466,
     "metadata": {},
     "output_type": "execute_result"
    }
   ],
   "source": [
    "df.apply(lambda e:e.max()-e.min(),axis=1)"
   ]
  },
  {
   "cell_type": "code",
   "execution_count": 467,
   "metadata": {},
   "outputs": [
    {
     "data": {
      "text/plain": [
       "First     20\n",
       "Second    13\n",
       "Third     32\n",
       "dtype: int64"
      ]
     },
     "execution_count": 467,
     "metadata": {},
     "output_type": "execute_result"
    }
   ],
   "source": [
    "df.apply(lambda e:e.max()-e.min(),axis=0)"
   ]
  },
  {
   "cell_type": "code",
   "execution_count": 468,
   "metadata": {},
   "outputs": [
    {
     "data": {
      "text/html": [
       "<div>\n",
       "<style>\n",
       "    .dataframe thead tr:only-child th {\n",
       "        text-align: right;\n",
       "    }\n",
       "\n",
       "    .dataframe thead th {\n",
       "        text-align: left;\n",
       "    }\n",
       "\n",
       "    .dataframe tbody tr th {\n",
       "        vertical-align: top;\n",
       "    }\n",
       "</style>\n",
       "<table border=\"1\" class=\"dataframe\">\n",
       "  <thead>\n",
       "    <tr style=\"text-align: right;\">\n",
       "      <th></th>\n",
       "      <th>detail_url</th>\n",
       "      <th>search_date</th>\n",
       "      <th>title</th>\n",
       "      <th>address</th>\n",
       "      <th>floor_info</th>\n",
       "      <th>price</th>\n",
       "      <th>layout</th>\n",
       "      <th>building_area</th>\n",
       "      <th>building_use</th>\n",
       "      <th>latitude</th>\n",
       "      <th>longitude</th>\n",
       "    </tr>\n",
       "  </thead>\n",
       "  <tbody>\n",
       "    <tr>\n",
       "      <th>0</th>\n",
       "      <td>https://rent.591.com.tw/rent-detail-1050934.html</td>\n",
       "      <td>2017-05-14</td>\n",
       "      <td>套房出租-近東方學院(六~八月可入住)</td>\n",
       "      <td>高雄市湖內區民生街</td>\n",
       "      <td>3F/3F</td>\n",
       "      <td>4,500元/月</td>\n",
       "      <td>-</td>\n",
       "      <td>6.0</td>\n",
       "      <td>透天厝/獨立套房</td>\n",
       "      <td>22.878436</td>\n",
       "      <td>120.250810</td>\n",
       "    </tr>\n",
       "    <tr>\n",
       "      <th>1</th>\n",
       "      <td>https://rent.591.com.tw/rent-detail-1008046.html</td>\n",
       "      <td>2017-05-14</td>\n",
       "      <td>好房子【聰明的你、妳快來租吧】</td>\n",
       "      <td>新北市蘆洲區長安街</td>\n",
       "      <td>4F/5F</td>\n",
       "      <td>7,500元/月</td>\n",
       "      <td>-</td>\n",
       "      <td>10.0</td>\n",
       "      <td>透天厝/獨立套房</td>\n",
       "      <td>25.081558</td>\n",
       "      <td>121.461868</td>\n",
       "    </tr>\n",
       "    <tr>\n",
       "      <th>2</th>\n",
       "      <td>https://rent.591.com.tw/rent-detail-1586266.html</td>\n",
       "      <td>2017-05-12</td>\n",
       "      <td>陽台大套房(獨立洗衣機)近頂溪捷運站</td>\n",
       "      <td>新北市永和區中山路一段</td>\n",
       "      <td>8F/12F</td>\n",
       "      <td>11,000元/月</td>\n",
       "      <td>-</td>\n",
       "      <td>8.0</td>\n",
       "      <td>電梯大樓/分租套房</td>\n",
       "      <td>25.010293</td>\n",
       "      <td>121.511328</td>\n",
       "    </tr>\n",
       "    <tr>\n",
       "      <th>3</th>\n",
       "      <td>https://rent.591.com.tw/rent-detail-1699948.html</td>\n",
       "      <td>2017-05-13</td>\n",
       "      <td>火車站附近~~優質套房</td>\n",
       "      <td>屏東縣潮州鎮六合路</td>\n",
       "      <td>3F/3F</td>\n",
       "      <td>5,000元/月</td>\n",
       "      <td>-</td>\n",
       "      <td>8.0</td>\n",
       "      <td>透天厝/獨立套房</td>\n",
       "      <td>22.551346</td>\n",
       "      <td>120.538032</td>\n",
       "    </tr>\n",
       "    <tr>\n",
       "      <th>4</th>\n",
       "      <td>https://rent.591.com.tw/rent-detail-1404725.html</td>\n",
       "      <td>2017-05-12</td>\n",
       "      <td>觀音四維路優質陽台套房</td>\n",
       "      <td>桃園市觀音區四維路</td>\n",
       "      <td>4F/5F</td>\n",
       "      <td>5,000元/月</td>\n",
       "      <td>-</td>\n",
       "      <td>7.0</td>\n",
       "      <td>透天厝/分租套房</td>\n",
       "      <td>25.043652</td>\n",
       "      <td>121.141518</td>\n",
       "    </tr>\n",
       "  </tbody>\n",
       "</table>\n",
       "</div>"
      ],
      "text/plain": [
       "                                         detail_url search_date  \\\n",
       "0  https://rent.591.com.tw/rent-detail-1050934.html  2017-05-14   \n",
       "1  https://rent.591.com.tw/rent-detail-1008046.html  2017-05-14   \n",
       "2  https://rent.591.com.tw/rent-detail-1586266.html  2017-05-12   \n",
       "3  https://rent.591.com.tw/rent-detail-1699948.html  2017-05-13   \n",
       "4  https://rent.591.com.tw/rent-detail-1404725.html  2017-05-12   \n",
       "\n",
       "                 title      address floor_info      price layout  \\\n",
       "0  套房出租-近東方學院(六~八月可入住)    高雄市湖內區民生街      3F/3F   4,500元/月      -   \n",
       "1      好房子【聰明的你、妳快來租吧】    新北市蘆洲區長安街      4F/5F   7,500元/月      -   \n",
       "2   陽台大套房(獨立洗衣機)近頂溪捷運站  新北市永和區中山路一段     8F/12F  11,000元/月      -   \n",
       "3          火車站附近~~優質套房    屏東縣潮州鎮六合路      3F/3F   5,000元/月      -   \n",
       "4          觀音四維路優質陽台套房    桃園市觀音區四維路      4F/5F   5,000元/月      -   \n",
       "\n",
       "   building_area building_use   latitude   longitude  \n",
       "0            6.0     透天厝/獨立套房  22.878436  120.250810  \n",
       "1           10.0     透天厝/獨立套房  25.081558  121.461868  \n",
       "2            8.0    電梯大樓/分租套房  25.010293  121.511328  \n",
       "3            8.0     透天厝/獨立套房  22.551346  120.538032  \n",
       "4            7.0     透天厝/分租套房  25.043652  121.141518  "
      ]
     },
     "execution_count": 468,
     "metadata": {},
     "output_type": "execute_result"
    }
   ],
   "source": [
    "import pandas\n",
    "df = pandas.read_csv('https://raw.githubusercontent.com/ywchiu/tibamepy/master/data/rent_591_sample.csv', index_col=0)\n",
    "df.applymap(lambda e : '-' if pandas.isnull(e )else e).head()"
   ]
  },
  {
   "cell_type": "code",
   "execution_count": 469,
   "metadata": {},
   "outputs": [],
   "source": [
    "df['floor'] = df['floor_info'].map(lambda e: str(e).split('/')[0])"
   ]
  },
  {
   "cell_type": "code",
   "execution_count": 470,
   "metadata": {},
   "outputs": [],
   "source": [
    "df['total_floor'] = df['floor_info'].map(lambda e: str(e).split('/')[1] if len(str(e).split('/')) >= 2 else e)"
   ]
  },
  {
   "cell_type": "code",
   "execution_count": 471,
   "metadata": {},
   "outputs": [
    {
     "data": {
      "text/html": [
       "<div>\n",
       "<style>\n",
       "    .dataframe thead tr:only-child th {\n",
       "        text-align: right;\n",
       "    }\n",
       "\n",
       "    .dataframe thead th {\n",
       "        text-align: left;\n",
       "    }\n",
       "\n",
       "    .dataframe tbody tr th {\n",
       "        vertical-align: top;\n",
       "    }\n",
       "</style>\n",
       "<table border=\"1\" class=\"dataframe\">\n",
       "  <thead>\n",
       "    <tr style=\"text-align: right;\">\n",
       "      <th></th>\n",
       "      <th>detail_url</th>\n",
       "      <th>search_date</th>\n",
       "      <th>title</th>\n",
       "      <th>address</th>\n",
       "      <th>floor_info</th>\n",
       "      <th>price</th>\n",
       "      <th>layout</th>\n",
       "      <th>building_area</th>\n",
       "      <th>building_use</th>\n",
       "      <th>latitude</th>\n",
       "      <th>longitude</th>\n",
       "      <th>floor</th>\n",
       "      <th>total_floor</th>\n",
       "    </tr>\n",
       "  </thead>\n",
       "  <tbody>\n",
       "    <tr>\n",
       "      <th>0</th>\n",
       "      <td>https://rent.591.com.tw/rent-detail-1050934.html</td>\n",
       "      <td>2017-05-14</td>\n",
       "      <td>套房出租-近東方學院(六~八月可入住)</td>\n",
       "      <td>高雄市湖內區民生街</td>\n",
       "      <td>3F/3F</td>\n",
       "      <td>4,500元/月</td>\n",
       "      <td>NaN</td>\n",
       "      <td>6.0</td>\n",
       "      <td>透天厝/獨立套房</td>\n",
       "      <td>22.878436</td>\n",
       "      <td>120.250810</td>\n",
       "      <td>3F</td>\n",
       "      <td>3F</td>\n",
       "    </tr>\n",
       "    <tr>\n",
       "      <th>1</th>\n",
       "      <td>https://rent.591.com.tw/rent-detail-1008046.html</td>\n",
       "      <td>2017-05-14</td>\n",
       "      <td>好房子【聰明的你、妳快來租吧】</td>\n",
       "      <td>新北市蘆洲區長安街</td>\n",
       "      <td>4F/5F</td>\n",
       "      <td>7,500元/月</td>\n",
       "      <td>NaN</td>\n",
       "      <td>10.0</td>\n",
       "      <td>透天厝/獨立套房</td>\n",
       "      <td>25.081558</td>\n",
       "      <td>121.461868</td>\n",
       "      <td>4F</td>\n",
       "      <td>5F</td>\n",
       "    </tr>\n",
       "    <tr>\n",
       "      <th>2</th>\n",
       "      <td>https://rent.591.com.tw/rent-detail-1586266.html</td>\n",
       "      <td>2017-05-12</td>\n",
       "      <td>陽台大套房(獨立洗衣機)近頂溪捷運站</td>\n",
       "      <td>新北市永和區中山路一段</td>\n",
       "      <td>8F/12F</td>\n",
       "      <td>11,000元/月</td>\n",
       "      <td>NaN</td>\n",
       "      <td>8.0</td>\n",
       "      <td>電梯大樓/分租套房</td>\n",
       "      <td>25.010293</td>\n",
       "      <td>121.511328</td>\n",
       "      <td>8F</td>\n",
       "      <td>12F</td>\n",
       "    </tr>\n",
       "    <tr>\n",
       "      <th>3</th>\n",
       "      <td>https://rent.591.com.tw/rent-detail-1699948.html</td>\n",
       "      <td>2017-05-13</td>\n",
       "      <td>火車站附近~~優質套房</td>\n",
       "      <td>屏東縣潮州鎮六合路</td>\n",
       "      <td>3F/3F</td>\n",
       "      <td>5,000元/月</td>\n",
       "      <td>NaN</td>\n",
       "      <td>8.0</td>\n",
       "      <td>透天厝/獨立套房</td>\n",
       "      <td>22.551346</td>\n",
       "      <td>120.538032</td>\n",
       "      <td>3F</td>\n",
       "      <td>3F</td>\n",
       "    </tr>\n",
       "    <tr>\n",
       "      <th>4</th>\n",
       "      <td>https://rent.591.com.tw/rent-detail-1404725.html</td>\n",
       "      <td>2017-05-12</td>\n",
       "      <td>觀音四維路優質陽台套房</td>\n",
       "      <td>桃園市觀音區四維路</td>\n",
       "      <td>4F/5F</td>\n",
       "      <td>5,000元/月</td>\n",
       "      <td>NaN</td>\n",
       "      <td>7.0</td>\n",
       "      <td>透天厝/分租套房</td>\n",
       "      <td>25.043652</td>\n",
       "      <td>121.141518</td>\n",
       "      <td>4F</td>\n",
       "      <td>5F</td>\n",
       "    </tr>\n",
       "  </tbody>\n",
       "</table>\n",
       "</div>"
      ],
      "text/plain": [
       "                                         detail_url search_date  \\\n",
       "0  https://rent.591.com.tw/rent-detail-1050934.html  2017-05-14   \n",
       "1  https://rent.591.com.tw/rent-detail-1008046.html  2017-05-14   \n",
       "2  https://rent.591.com.tw/rent-detail-1586266.html  2017-05-12   \n",
       "3  https://rent.591.com.tw/rent-detail-1699948.html  2017-05-13   \n",
       "4  https://rent.591.com.tw/rent-detail-1404725.html  2017-05-12   \n",
       "\n",
       "                 title      address floor_info      price layout  \\\n",
       "0  套房出租-近東方學院(六~八月可入住)    高雄市湖內區民生街      3F/3F   4,500元/月    NaN   \n",
       "1      好房子【聰明的你、妳快來租吧】    新北市蘆洲區長安街      4F/5F   7,500元/月    NaN   \n",
       "2   陽台大套房(獨立洗衣機)近頂溪捷運站  新北市永和區中山路一段     8F/12F  11,000元/月    NaN   \n",
       "3          火車站附近~~優質套房    屏東縣潮州鎮六合路      3F/3F   5,000元/月    NaN   \n",
       "4          觀音四維路優質陽台套房    桃園市觀音區四維路      4F/5F   5,000元/月    NaN   \n",
       "\n",
       "   building_area building_use   latitude   longitude floor total_floor  \n",
       "0            6.0     透天厝/獨立套房  22.878436  120.250810    3F          3F  \n",
       "1           10.0     透天厝/獨立套房  25.081558  121.461868    4F          5F  \n",
       "2            8.0    電梯大樓/分租套房  25.010293  121.511328    8F         12F  \n",
       "3            8.0     透天厝/獨立套房  22.551346  120.538032    3F          3F  \n",
       "4            7.0     透天厝/分租套房  25.043652  121.141518    4F          5F  "
      ]
     },
     "execution_count": 471,
     "metadata": {},
     "output_type": "execute_result"
    }
   ],
   "source": [
    "df.head()"
   ]
  },
  {
   "cell_type": "markdown",
   "metadata": {},
   "source": [
    "## 時間格式轉換"
   ]
  },
  {
   "cell_type": "code",
   "execution_count": 472,
   "metadata": {},
   "outputs": [],
   "source": [
    "from datetime import datetime\n",
    "current_time = datetime.now()"
   ]
  },
  {
   "cell_type": "code",
   "execution_count": 473,
   "metadata": {},
   "outputs": [
    {
     "data": {
      "text/plain": [
       "datetime.datetime"
      ]
     },
     "execution_count": 473,
     "metadata": {},
     "output_type": "execute_result"
    }
   ],
   "source": [
    "type(current_time)"
   ]
  },
  {
   "cell_type": "code",
   "execution_count": 474,
   "metadata": {},
   "outputs": [
    {
     "data": {
      "text/plain": [
       "'2017-11-04'"
      ]
     },
     "execution_count": 474,
     "metadata": {},
     "output_type": "execute_result"
    }
   ],
   "source": [
    "current_time.strftime('%Y-%m-%d')"
   ]
  },
  {
   "cell_type": "code",
   "execution_count": 475,
   "metadata": {},
   "outputs": [],
   "source": [
    "shopping = datetime.strptime('2017-11-11', '%Y-%m-%d')"
   ]
  },
  {
   "cell_type": "code",
   "execution_count": 476,
   "metadata": {},
   "outputs": [],
   "source": [
    "diff = shopping - current_time"
   ]
  },
  {
   "cell_type": "code",
   "execution_count": 477,
   "metadata": {},
   "outputs": [
    {
     "data": {
      "text/plain": [
       "datetime.datetime(2017, 11, 3, 16, 1, 45, 366761)"
      ]
     },
     "execution_count": 477,
     "metadata": {},
     "output_type": "execute_result"
    }
   ],
   "source": [
    "from datetime import datetime, timedelta\n",
    "current_time - timedelta(days  = 1)"
   ]
  },
  {
   "cell_type": "code",
   "execution_count": 478,
   "metadata": {},
   "outputs": [
    {
     "name": "stdout",
     "output_type": "stream",
     "text": [
      "2017-11-03\n",
      "2017-11-02\n",
      "2017-11-01\n",
      "2017-10-31\n",
      "2017-10-30\n",
      "2017-10-29\n",
      "2017-10-28\n",
      "2017-10-27\n",
      "2017-10-26\n"
     ]
    }
   ],
   "source": [
    "for i in range(1,10):\n",
    "    dt = (current_time - timedelta(days = i )).strftime('%Y-%m-%d')\n",
    "    print(dt)"
   ]
  },
  {
   "cell_type": "code",
   "execution_count": 479,
   "metadata": {},
   "outputs": [
    {
     "data": {
      "text/plain": [
       "1509782505.0"
      ]
     },
     "execution_count": 479,
     "metadata": {},
     "output_type": "execute_result"
    }
   ],
   "source": [
    "from time import mktime\n",
    "mktime(current_time.timetuple())"
   ]
  },
  {
   "cell_type": "code",
   "execution_count": 480,
   "metadata": {},
   "outputs": [
    {
     "data": {
      "text/plain": [
       "57600.0"
      ]
     },
     "execution_count": 480,
     "metadata": {},
     "output_type": "execute_result"
    }
   ],
   "source": [
    "start_day = datetime.strptime('1970-1-2', '%Y-%m-%d')\n",
    "mktime(start_day.timetuple())\n",
    "#start_day.timetuple()"
   ]
  },
  {
   "cell_type": "code",
   "execution_count": 481,
   "metadata": {},
   "outputs": [
    {
     "data": {
      "text/plain": [
       "datetime.datetime(2017, 4, 22, 19, 17, 3)"
      ]
     },
     "execution_count": 481,
     "metadata": {},
     "output_type": "execute_result"
    }
   ],
   "source": [
    "datetime.fromtimestamp(1492859823)"
   ]
  },
  {
   "cell_type": "code",
   "execution_count": 482,
   "metadata": {},
   "outputs": [],
   "source": [
    "df['search_date'] = pandas.to_datetime(df['search_date'], format = '%Y-%m-%d')"
   ]
  },
  {
   "cell_type": "code",
   "execution_count": 483,
   "metadata": {},
   "outputs": [],
   "source": [
    "df[['search_date', 'address']].head().to_csv('test_591.csv', encoding= 'utf-8')"
   ]
  },
  {
   "cell_type": "code",
   "execution_count": 484,
   "metadata": {},
   "outputs": [],
   "source": [
    "import pandas\n",
    "df2 = pandas.read_csv('test_591.csv', encoding='utf-8', index_col=0, \\\n",
    "                       parse_dates=['search_date'])"
   ]
  },
  {
   "cell_type": "code",
   "execution_count": 485,
   "metadata": {},
   "outputs": [
    {
     "name": "stdout",
     "output_type": "stream",
     "text": [
      "<class 'pandas.core.frame.DataFrame'>\n",
      "Int64Index: 5 entries, 0 to 4\n",
      "Data columns (total 2 columns):\n",
      "search_date    5 non-null datetime64[ns]\n",
      "address        5 non-null object\n",
      "dtypes: datetime64[ns](1), object(1)\n",
      "memory usage: 120.0+ bytes\n"
     ]
    }
   ],
   "source": [
    "df2.info()"
   ]
  },
  {
   "cell_type": "markdown",
   "metadata": {},
   "source": [
    "## 虛擬變量(DUMMY VARIABLE)"
   ]
  },
  {
   "cell_type": "code",
   "execution_count": 486,
   "metadata": {},
   "outputs": [],
   "source": [
    "df2=pandas.concat([df,pandas.get_dummies(df['building_use'])],axis=1)"
   ]
  },
  {
   "cell_type": "code",
   "execution_count": 487,
   "metadata": {},
   "outputs": [],
   "source": [
    "df2 = df.drop('building_use',axis=1)"
   ]
  },
  {
   "cell_type": "code",
   "execution_count": null,
   "metadata": {
    "collapsed": true
   },
   "outputs": [],
   "source": []
  },
  {
   "cell_type": "code",
   "execution_count": 489,
   "metadata": {},
   "outputs": [
    {
     "data": {
      "text/html": [
       "<div>\n",
       "<style>\n",
       "    .dataframe thead tr:only-child th {\n",
       "        text-align: right;\n",
       "    }\n",
       "\n",
       "    .dataframe thead th {\n",
       "        text-align: left;\n",
       "    }\n",
       "\n",
       "    .dataframe tbody tr th {\n",
       "        vertical-align: top;\n",
       "    }\n",
       "</style>\n",
       "<table border=\"1\" class=\"dataframe\">\n",
       "  <thead>\n",
       "    <tr style=\"text-align: right;\">\n",
       "      <th></th>\n",
       "      <th>detail_url</th>\n",
       "      <th>search_date</th>\n",
       "      <th>title</th>\n",
       "      <th>address</th>\n",
       "      <th>floor_info</th>\n",
       "      <th>price</th>\n",
       "      <th>layout</th>\n",
       "      <th>building_area</th>\n",
       "      <th>building_use</th>\n",
       "      <th>latitude</th>\n",
       "      <th>longitude</th>\n",
       "      <th>floor</th>\n",
       "      <th>total_floor</th>\n",
       "    </tr>\n",
       "  </thead>\n",
       "  <tbody>\n",
       "    <tr>\n",
       "      <th>0</th>\n",
       "      <td>https://rent.591.com.tw/rent-detail-1050934.html</td>\n",
       "      <td>2017-05-14</td>\n",
       "      <td>套房出租-近東方學院(六~八月可入住)</td>\n",
       "      <td>高雄市湖內區民生街</td>\n",
       "      <td>3F/3F</td>\n",
       "      <td>4,500元/月</td>\n",
       "      <td>NaN</td>\n",
       "      <td>6.0</td>\n",
       "      <td>透天厝/獨立套房</td>\n",
       "      <td>22.878436</td>\n",
       "      <td>120.250810</td>\n",
       "      <td>3F</td>\n",
       "      <td>3F</td>\n",
       "    </tr>\n",
       "    <tr>\n",
       "      <th>1</th>\n",
       "      <td>https://rent.591.com.tw/rent-detail-1008046.html</td>\n",
       "      <td>2017-05-14</td>\n",
       "      <td>好房子【聰明的你、妳快來租吧】</td>\n",
       "      <td>新北市蘆洲區長安街</td>\n",
       "      <td>4F/5F</td>\n",
       "      <td>7,500元/月</td>\n",
       "      <td>NaN</td>\n",
       "      <td>10.0</td>\n",
       "      <td>透天厝/獨立套房</td>\n",
       "      <td>25.081558</td>\n",
       "      <td>121.461868</td>\n",
       "      <td>4F</td>\n",
       "      <td>5F</td>\n",
       "    </tr>\n",
       "    <tr>\n",
       "      <th>2</th>\n",
       "      <td>https://rent.591.com.tw/rent-detail-1586266.html</td>\n",
       "      <td>2017-05-12</td>\n",
       "      <td>陽台大套房(獨立洗衣機)近頂溪捷運站</td>\n",
       "      <td>新北市永和區中山路一段</td>\n",
       "      <td>8F/12F</td>\n",
       "      <td>11,000元/月</td>\n",
       "      <td>NaN</td>\n",
       "      <td>8.0</td>\n",
       "      <td>電梯大樓/分租套房</td>\n",
       "      <td>25.010293</td>\n",
       "      <td>121.511328</td>\n",
       "      <td>8F</td>\n",
       "      <td>12F</td>\n",
       "    </tr>\n",
       "    <tr>\n",
       "      <th>3</th>\n",
       "      <td>https://rent.591.com.tw/rent-detail-1699948.html</td>\n",
       "      <td>2017-05-13</td>\n",
       "      <td>火車站附近~~優質套房</td>\n",
       "      <td>屏東縣潮州鎮六合路</td>\n",
       "      <td>3F/3F</td>\n",
       "      <td>5,000元/月</td>\n",
       "      <td>NaN</td>\n",
       "      <td>8.0</td>\n",
       "      <td>透天厝/獨立套房</td>\n",
       "      <td>22.551346</td>\n",
       "      <td>120.538032</td>\n",
       "      <td>3F</td>\n",
       "      <td>3F</td>\n",
       "    </tr>\n",
       "    <tr>\n",
       "      <th>4</th>\n",
       "      <td>https://rent.591.com.tw/rent-detail-1404725.html</td>\n",
       "      <td>2017-05-12</td>\n",
       "      <td>觀音四維路優質陽台套房</td>\n",
       "      <td>桃園市觀音區四維路</td>\n",
       "      <td>4F/5F</td>\n",
       "      <td>5,000元/月</td>\n",
       "      <td>NaN</td>\n",
       "      <td>7.0</td>\n",
       "      <td>透天厝/分租套房</td>\n",
       "      <td>25.043652</td>\n",
       "      <td>121.141518</td>\n",
       "      <td>4F</td>\n",
       "      <td>5F</td>\n",
       "    </tr>\n",
       "  </tbody>\n",
       "</table>\n",
       "</div>"
      ],
      "text/plain": [
       "                                         detail_url search_date  \\\n",
       "0  https://rent.591.com.tw/rent-detail-1050934.html  2017-05-14   \n",
       "1  https://rent.591.com.tw/rent-detail-1008046.html  2017-05-14   \n",
       "2  https://rent.591.com.tw/rent-detail-1586266.html  2017-05-12   \n",
       "3  https://rent.591.com.tw/rent-detail-1699948.html  2017-05-13   \n",
       "4  https://rent.591.com.tw/rent-detail-1404725.html  2017-05-12   \n",
       "\n",
       "                 title      address floor_info      price layout  \\\n",
       "0  套房出租-近東方學院(六~八月可入住)    高雄市湖內區民生街      3F/3F   4,500元/月    NaN   \n",
       "1      好房子【聰明的你、妳快來租吧】    新北市蘆洲區長安街      4F/5F   7,500元/月    NaN   \n",
       "2   陽台大套房(獨立洗衣機)近頂溪捷運站  新北市永和區中山路一段     8F/12F  11,000元/月    NaN   \n",
       "3          火車站附近~~優質套房    屏東縣潮州鎮六合路      3F/3F   5,000元/月    NaN   \n",
       "4          觀音四維路優質陽台套房    桃園市觀音區四維路      4F/5F   5,000元/月    NaN   \n",
       "\n",
       "   building_area building_use   latitude   longitude floor total_floor  \n",
       "0            6.0     透天厝/獨立套房  22.878436  120.250810    3F          3F  \n",
       "1           10.0     透天厝/獨立套房  25.081558  121.461868    4F          5F  \n",
       "2            8.0    電梯大樓/分租套房  25.010293  121.511328    8F         12F  \n",
       "3            8.0     透天厝/獨立套房  22.551346  120.538032    3F          3F  \n",
       "4            7.0     透天厝/分租套房  25.043652  121.141518    4F          5F  "
      ]
     },
     "execution_count": 489,
     "metadata": {},
     "output_type": "execute_result"
    }
   ],
   "source": [
    "df.head()"
   ]
  },
  {
   "cell_type": "code",
   "execution_count": 493,
   "metadata": {},
   "outputs": [],
   "source": [
    "df2 = pandas.pivot_table(df, index='search_date', columns='building_use', values= 'price', aggfunc='mean')"
   ]
  },
  {
   "cell_type": "code",
   "execution_count": 496,
   "metadata": {},
   "outputs": [],
   "source": [
    "#df2.T"
   ]
  },
  {
   "cell_type": "code",
   "execution_count": 497,
   "metadata": {
    "collapsed": true
   },
   "outputs": [],
   "source": [
    "df3 = pandas.pivot_table(df, index='building_use', columns='search_date', values= 'price', aggfunc='mean')"
   ]
  },
  {
   "cell_type": "code",
   "execution_count": 500,
   "metadata": {},
   "outputs": [],
   "source": [
    "df['btype']=df['building_use'].map(lambda e:str(e).split('/')[0])\n",
    "df['buse']=df['building_use'].map(lambda e:str(e).split('/')[1] if len(str(e).split('/'))>1 else None)"
   ]
  },
  {
   "cell_type": "code",
   "execution_count": 502,
   "metadata": {},
   "outputs": [],
   "source": [
    "df_multi_idx=df.pivot_table(index=['btype','buse'],columns='search_date',values='price',aggfunc=sum)"
   ]
  },
  {
   "cell_type": "code",
   "execution_count": 505,
   "metadata": {},
   "outputs": [
    {
     "data": {
      "text/html": [
       "<div>\n",
       "<style>\n",
       "    .dataframe thead tr:only-child th {\n",
       "        text-align: right;\n",
       "    }\n",
       "\n",
       "    .dataframe thead th {\n",
       "        text-align: left;\n",
       "    }\n",
       "\n",
       "    .dataframe tbody tr th {\n",
       "        vertical-align: top;\n",
       "    }\n",
       "</style>\n",
       "<table border=\"1\" class=\"dataframe\">\n",
       "  <thead>\n",
       "    <tr>\n",
       "      <th>search_date</th>\n",
       "      <th colspan=\"8\" halign=\"left\">2017-05-08</th>\n",
       "      <th colspan=\"2\" halign=\"left\">2017-05-09</th>\n",
       "      <th>...</th>\n",
       "      <th colspan=\"2\" halign=\"left\">2017-05-14</th>\n",
       "      <th colspan=\"8\" halign=\"left\">2017-05-15</th>\n",
       "    </tr>\n",
       "    <tr>\n",
       "      <th>buse</th>\n",
       "      <th>住辦</th>\n",
       "      <th>其他</th>\n",
       "      <th>分租套房</th>\n",
       "      <th>店面</th>\n",
       "      <th>整層住家</th>\n",
       "      <th>獨立套房</th>\n",
       "      <th>辦公</th>\n",
       "      <th>雅房</th>\n",
       "      <th>住辦</th>\n",
       "      <th>其他</th>\n",
       "      <th>...</th>\n",
       "      <th>辦公</th>\n",
       "      <th>雅房</th>\n",
       "      <th>住辦</th>\n",
       "      <th>其他</th>\n",
       "      <th>分租套房</th>\n",
       "      <th>店面</th>\n",
       "      <th>整層住家</th>\n",
       "      <th>獨立套房</th>\n",
       "      <th>辦公</th>\n",
       "      <th>雅房</th>\n",
       "    </tr>\n",
       "    <tr>\n",
       "      <th>btype</th>\n",
       "      <th></th>\n",
       "      <th></th>\n",
       "      <th></th>\n",
       "      <th></th>\n",
       "      <th></th>\n",
       "      <th></th>\n",
       "      <th></th>\n",
       "      <th></th>\n",
       "      <th></th>\n",
       "      <th></th>\n",
       "      <th></th>\n",
       "      <th></th>\n",
       "      <th></th>\n",
       "      <th></th>\n",
       "      <th></th>\n",
       "      <th></th>\n",
       "      <th></th>\n",
       "      <th></th>\n",
       "      <th></th>\n",
       "      <th></th>\n",
       "      <th></th>\n",
       "    </tr>\n",
       "  </thead>\n",
       "  <tbody>\n",
       "    <tr>\n",
       "      <th>倉庫</th>\n",
       "      <td>NaN</td>\n",
       "      <td>72325.0</td>\n",
       "      <td>NaN</td>\n",
       "      <td>NaN</td>\n",
       "      <td>NaN</td>\n",
       "      <td>NaN</td>\n",
       "      <td>NaN</td>\n",
       "      <td>NaN</td>\n",
       "      <td>NaN</td>\n",
       "      <td>236744.0</td>\n",
       "      <td>...</td>\n",
       "      <td>NaN</td>\n",
       "      <td>NaN</td>\n",
       "      <td>NaN</td>\n",
       "      <td>NaN</td>\n",
       "      <td>NaN</td>\n",
       "      <td>NaN</td>\n",
       "      <td>NaN</td>\n",
       "      <td>NaN</td>\n",
       "      <td>NaN</td>\n",
       "      <td>NaN</td>\n",
       "    </tr>\n",
       "    <tr>\n",
       "      <th>公寓</th>\n",
       "      <td>371500.0</td>\n",
       "      <td>58500.0</td>\n",
       "      <td>1224399.0</td>\n",
       "      <td>4490600.0</td>\n",
       "      <td>4241986.0</td>\n",
       "      <td>2321837.0</td>\n",
       "      <td>1173780.0</td>\n",
       "      <td>401067.0</td>\n",
       "      <td>159000.0</td>\n",
       "      <td>42999.0</td>\n",
       "      <td>...</td>\n",
       "      <td>1332610.0</td>\n",
       "      <td>2324022.0</td>\n",
       "      <td>421500.0</td>\n",
       "      <td>NaN</td>\n",
       "      <td>14800.0</td>\n",
       "      <td>4686200.0</td>\n",
       "      <td>194800.0</td>\n",
       "      <td>65800.0</td>\n",
       "      <td>980994.0</td>\n",
       "      <td>10400.0</td>\n",
       "    </tr>\n",
       "    <tr>\n",
       "      <th>其他</th>\n",
       "      <td>NaN</td>\n",
       "      <td>6000.0</td>\n",
       "      <td>NaN</td>\n",
       "      <td>NaN</td>\n",
       "      <td>NaN</td>\n",
       "      <td>NaN</td>\n",
       "      <td>NaN</td>\n",
       "      <td>NaN</td>\n",
       "      <td>NaN</td>\n",
       "      <td>NaN</td>\n",
       "      <td>...</td>\n",
       "      <td>NaN</td>\n",
       "      <td>NaN</td>\n",
       "      <td>NaN</td>\n",
       "      <td>NaN</td>\n",
       "      <td>NaN</td>\n",
       "      <td>NaN</td>\n",
       "      <td>NaN</td>\n",
       "      <td>NaN</td>\n",
       "      <td>NaN</td>\n",
       "      <td>NaN</td>\n",
       "    </tr>\n",
       "    <tr>\n",
       "      <th>別墅</th>\n",
       "      <td>60000.0</td>\n",
       "      <td>27000.0</td>\n",
       "      <td>35800.0</td>\n",
       "      <td>70000.0</td>\n",
       "      <td>1743000.0</td>\n",
       "      <td>149348.0</td>\n",
       "      <td>NaN</td>\n",
       "      <td>4000.0</td>\n",
       "      <td>NaN</td>\n",
       "      <td>114800.0</td>\n",
       "      <td>...</td>\n",
       "      <td>NaN</td>\n",
       "      <td>68480.0</td>\n",
       "      <td>139800.0</td>\n",
       "      <td>NaN</td>\n",
       "      <td>7500.0</td>\n",
       "      <td>155000.0</td>\n",
       "      <td>351000.0</td>\n",
       "      <td>9900.0</td>\n",
       "      <td>NaN</td>\n",
       "      <td>NaN</td>\n",
       "    </tr>\n",
       "    <tr>\n",
       "      <th>廠房</th>\n",
       "      <td>NaN</td>\n",
       "      <td>116000.0</td>\n",
       "      <td>NaN</td>\n",
       "      <td>NaN</td>\n",
       "      <td>NaN</td>\n",
       "      <td>NaN</td>\n",
       "      <td>NaN</td>\n",
       "      <td>NaN</td>\n",
       "      <td>NaN</td>\n",
       "      <td>45000.0</td>\n",
       "      <td>...</td>\n",
       "      <td>NaN</td>\n",
       "      <td>NaN</td>\n",
       "      <td>NaN</td>\n",
       "      <td>NaN</td>\n",
       "      <td>NaN</td>\n",
       "      <td>NaN</td>\n",
       "      <td>NaN</td>\n",
       "      <td>NaN</td>\n",
       "      <td>NaN</td>\n",
       "      <td>NaN</td>\n",
       "    </tr>\n",
       "  </tbody>\n",
       "</table>\n",
       "<p>5 rows × 64 columns</p>\n",
       "</div>"
      ],
      "text/plain": [
       "search_date 2017-05-08                                                        \\\n",
       "buse                住辦        其他       分租套房         店面       整層住家       獨立套房   \n",
       "btype                                                                          \n",
       "倉庫                 NaN   72325.0        NaN        NaN        NaN        NaN   \n",
       "公寓            371500.0   58500.0  1224399.0  4490600.0  4241986.0  2321837.0   \n",
       "其他                 NaN    6000.0        NaN        NaN        NaN        NaN   \n",
       "別墅             60000.0   27000.0    35800.0    70000.0  1743000.0   149348.0   \n",
       "廠房                 NaN  116000.0        NaN        NaN        NaN        NaN   \n",
       "\n",
       "search_date                      2017-05-09             ...    2017-05-14  \\\n",
       "buse                辦公        雅房         住辦        其他   ...            辦公   \n",
       "btype                                                   ...                 \n",
       "倉庫                 NaN       NaN        NaN  236744.0   ...           NaN   \n",
       "公寓           1173780.0  401067.0   159000.0   42999.0   ...     1332610.0   \n",
       "其他                 NaN       NaN        NaN       NaN   ...           NaN   \n",
       "別墅                 NaN    4000.0        NaN  114800.0   ...           NaN   \n",
       "廠房                 NaN       NaN        NaN   45000.0   ...           NaN   \n",
       "\n",
       "search_date            2017-05-15                                             \\\n",
       "buse                雅房         住辦  其他     分租套房         店面      整層住家     獨立套房   \n",
       "btype                                                                          \n",
       "倉庫                 NaN        NaN NaN      NaN        NaN       NaN      NaN   \n",
       "公寓           2324022.0   421500.0 NaN  14800.0  4686200.0  194800.0  65800.0   \n",
       "其他                 NaN        NaN NaN      NaN        NaN       NaN      NaN   \n",
       "別墅             68480.0   139800.0 NaN   7500.0   155000.0  351000.0   9900.0   \n",
       "廠房                 NaN        NaN NaN      NaN        NaN       NaN      NaN   \n",
       "\n",
       "search_date                     \n",
       "buse               辦公       雅房  \n",
       "btype                           \n",
       "倉庫                NaN      NaN  \n",
       "公寓           980994.0  10400.0  \n",
       "其他                NaN      NaN  \n",
       "別墅                NaN      NaN  \n",
       "廠房                NaN      NaN  \n",
       "\n",
       "[5 rows x 64 columns]"
      ]
     },
     "execution_count": 505,
     "metadata": {},
     "output_type": "execute_result"
    }
   ],
   "source": [
    "df_wide=df_multi_idx.unstack()\n",
    "df_wide.head()"
   ]
  },
  {
   "cell_type": "code",
   "execution_count": 506,
   "metadata": {},
   "outputs": [
    {
     "data": {
      "text/html": [
       "<div>\n",
       "<style>\n",
       "    .dataframe thead tr:only-child th {\n",
       "        text-align: right;\n",
       "    }\n",
       "\n",
       "    .dataframe thead th {\n",
       "        text-align: left;\n",
       "    }\n",
       "\n",
       "    .dataframe tbody tr th {\n",
       "        vertical-align: top;\n",
       "    }\n",
       "</style>\n",
       "<table border=\"1\" class=\"dataframe\">\n",
       "  <thead>\n",
       "    <tr style=\"text-align: right;\">\n",
       "      <th></th>\n",
       "      <th>search_date</th>\n",
       "      <th>2017-05-08 00:00:00</th>\n",
       "      <th>2017-05-09 00:00:00</th>\n",
       "      <th>2017-05-10 00:00:00</th>\n",
       "      <th>2017-05-11 00:00:00</th>\n",
       "      <th>2017-05-12 00:00:00</th>\n",
       "      <th>2017-05-13 00:00:00</th>\n",
       "      <th>2017-05-14 00:00:00</th>\n",
       "      <th>2017-05-15 00:00:00</th>\n",
       "    </tr>\n",
       "    <tr>\n",
       "      <th>btype</th>\n",
       "      <th>buse</th>\n",
       "      <th></th>\n",
       "      <th></th>\n",
       "      <th></th>\n",
       "      <th></th>\n",
       "      <th></th>\n",
       "      <th></th>\n",
       "      <th></th>\n",
       "      <th></th>\n",
       "    </tr>\n",
       "  </thead>\n",
       "  <tbody>\n",
       "    <tr>\n",
       "      <th>倉庫</th>\n",
       "      <th>其他</th>\n",
       "      <td>72325.0</td>\n",
       "      <td>236744.0</td>\n",
       "      <td>63748.0</td>\n",
       "      <td>108200.0</td>\n",
       "      <td>60800.0</td>\n",
       "      <td>231348.0</td>\n",
       "      <td>590250.0</td>\n",
       "      <td>NaN</td>\n",
       "    </tr>\n",
       "    <tr>\n",
       "      <th rowspan=\"4\" valign=\"top\">公寓</th>\n",
       "      <th>住辦</th>\n",
       "      <td>371500.0</td>\n",
       "      <td>159000.0</td>\n",
       "      <td>494800.0</td>\n",
       "      <td>242600.0</td>\n",
       "      <td>1096300.0</td>\n",
       "      <td>1600499.0</td>\n",
       "      <td>1487800.0</td>\n",
       "      <td>421500.0</td>\n",
       "    </tr>\n",
       "    <tr>\n",
       "      <th>其他</th>\n",
       "      <td>58500.0</td>\n",
       "      <td>42999.0</td>\n",
       "      <td>NaN</td>\n",
       "      <td>11000.0</td>\n",
       "      <td>75000.0</td>\n",
       "      <td>234300.0</td>\n",
       "      <td>143000.0</td>\n",
       "      <td>NaN</td>\n",
       "    </tr>\n",
       "    <tr>\n",
       "      <th>分租套房</th>\n",
       "      <td>1224399.0</td>\n",
       "      <td>1579138.0</td>\n",
       "      <td>2035480.0</td>\n",
       "      <td>1643348.0</td>\n",
       "      <td>4318694.0</td>\n",
       "      <td>6571657.0</td>\n",
       "      <td>5744947.0</td>\n",
       "      <td>14800.0</td>\n",
       "    </tr>\n",
       "    <tr>\n",
       "      <th>店面</th>\n",
       "      <td>4490600.0</td>\n",
       "      <td>3362400.0</td>\n",
       "      <td>7132600.0</td>\n",
       "      <td>4824099.0</td>\n",
       "      <td>10924080.0</td>\n",
       "      <td>24972598.0</td>\n",
       "      <td>20999686.0</td>\n",
       "      <td>4686200.0</td>\n",
       "    </tr>\n",
       "  </tbody>\n",
       "</table>\n",
       "</div>"
      ],
      "text/plain": [
       "search_date  2017-05-08  2017-05-09  2017-05-10  2017-05-11  2017-05-12  \\\n",
       "btype buse                                                                \n",
       "倉庫    其他        72325.0    236744.0     63748.0    108200.0     60800.0   \n",
       "公寓    住辦       371500.0    159000.0    494800.0    242600.0   1096300.0   \n",
       "      其他        58500.0     42999.0         NaN     11000.0     75000.0   \n",
       "      分租套房    1224399.0   1579138.0   2035480.0   1643348.0   4318694.0   \n",
       "      店面      4490600.0   3362400.0   7132600.0   4824099.0  10924080.0   \n",
       "\n",
       "search_date  2017-05-13  2017-05-14  2017-05-15  \n",
       "btype buse                                       \n",
       "倉庫    其他       231348.0    590250.0         NaN  \n",
       "公寓    住辦      1600499.0   1487800.0    421500.0  \n",
       "      其他       234300.0    143000.0         NaN  \n",
       "      分租套房    6571657.0   5744947.0     14800.0  \n",
       "      店面     24972598.0  20999686.0   4686200.0  "
      ]
     },
     "execution_count": 506,
     "metadata": {},
     "output_type": "execute_result"
    }
   ],
   "source": [
    "df_long=df_wide.stack()\n",
    "df_long.head()"
   ]
  },
  {
   "cell_type": "markdown",
   "metadata": {},
   "source": [
    "## 正規運算式"
   ]
  },
  {
   "cell_type": "code",
   "execution_count": 507,
   "metadata": {},
   "outputs": [
    {
     "data": {
      "text/plain": [
       "True"
      ]
     },
     "execution_count": 507,
     "metadata": {},
     "output_type": "execute_result"
    }
   ],
   "source": [
    "q = '我的電話是0912345678 請打給我, 謝謝'\n",
    "'0912345678' in q"
   ]
  },
  {
   "cell_type": "code",
   "execution_count": 514,
   "metadata": {},
   "outputs": [
    {
     "name": "stdout",
     "output_type": "stream",
     "text": [
      "<_sre.SRE_Match object; span=(0, 1), match='r'>\n",
      "None\n",
      "<_sre.SRE_Match object; span=(0, 1), match='r'>\n",
      "<_sre.SRE_Match object; span=(0, 1), match='r'>\n",
      "None\n",
      "<_sre.SRE_Match object; span=(0, 1), match='R'>\n"
     ]
    }
   ],
   "source": [
    "import re\n",
    "s = 'r'\n",
    "\n",
    "print(re.match('r',s))\n",
    "print(re.match('o',s))\n",
    "\n",
    "# [], match any character within []\n",
    "print(re.match('[abcdefghijklmnopqrstuvwxyz]', s))\n",
    "\n",
    "# -: continuous e.g.  [abcdefghijklmnopqrstuvwxyz] => [a-z]\n",
    "print(re.match('[a-z]', s))\n",
    "\n",
    "\n",
    "s  = 'R'\n",
    "print(re.match('[a-z]', s))\n",
    "print(re.match('[a-zA-Z]', s))"
   ]
  },
  {
   "cell_type": "code",
   "execution_count": 530,
   "metadata": {},
   "outputs": [
    {
     "name": "stdout",
     "output_type": "stream",
     "text": [
      "<_sre.SRE_Match object; span=(0, 1), match='3'>\n",
      "<_sre.SRE_Match object; span=(0, 1), match='3'>\n",
      "<_sre.SRE_Match object; span=(0, 1), match='Q'>\n",
      "<_sre.SRE_Match object; span=(0, 1), match='Q'>\n",
      "None\n"
     ]
    }
   ],
   "source": [
    "n = '3'\n",
    "print(re.match('[0123456789]', n))\n",
    "\n",
    "# [0123456789] => [0-9]\n",
    "print(re.match('[0-9]', n))\n",
    "\n",
    "n = 'Q'\n",
    "print(re.match('[a-zA-Z0-9]', n))\n",
    "\n",
    "# [a-zA-Z0-9] => \\w\n",
    "print(re.match('\\w', n))\n",
    "\n",
    "\n",
    "# [0-9] => \\d\n",
    "print(re.match('\\d', n))\n"
   ]
  },
  {
   "cell_type": "code",
   "execution_count": 528,
   "metadata": {},
   "outputs": [
    {
     "name": "stdout",
     "output_type": "stream",
     "text": [
      "<_sre.SRE_Match object; span=(0, 1), match='I'>\n",
      "<_sre.SRE_Match object; span=(0, 6), match='Iphone'>\n",
      "<_sre.SRE_Match object; span=(0, 6), match='Iphone'>\n",
      "<_sre.SRE_Match object; span=(0, 6), match='Iphone'>\n",
      "<_sre.SRE_Match object; span=(0, 6), match='Iphone'>\n",
      "<_sre.SRE_Match object; span=(0, 6), match='Iphone'>\n",
      "<_sre.SRE_Match object; span=(0, 6), match='Iphone'>\n"
     ]
    }
   ],
   "source": [
    "s = 'Iphone'\n",
    "\n",
    "print(re.match('\\w', s))\n",
    "\n",
    "# {n} match number of occurence within {} \n",
    "print(re.match('\\w{6}', s))\n",
    "\n",
    "# {m,n} match at least m occurence, match at most n occurence\n",
    "print(re.match('\\w{6,8}', s))\n",
    "\n",
    "\n",
    "# {1,} match at least 1 occurence\n",
    "print(re.match('\\w{1,}', s))\n",
    "\n",
    "\n",
    "# {1,} => +\n",
    "print(re.match('\\w+', s))\n",
    "\n",
    "\n",
    "# {0,} match at least 0 occurence\n",
    "print(re.match('\\w{0,}', s))\n",
    "\n",
    "\n",
    "# {0,} => *\n",
    "print(re.match('\\w*', s))"
   ]
  },
  {
   "cell_type": "code",
   "execution_count": 538,
   "metadata": {},
   "outputs": [
    {
     "name": "stdout",
     "output_type": "stream",
     "text": [
      "<_sre.SRE_Match object; span=(0, 10), match='0912345678'>\n",
      "<_sre.SRE_Match object; span=(0, 11), match='0912-345678'>\n",
      "<_sre.SRE_Match object; span=(0, 12), match='0912-345-678'>\n",
      "None\n",
      "None\n"
     ]
    }
   ],
   "source": [
    "import re\n",
    "phones = ['0912345678','0912-345678', '0912-345-678', '11122233344','09123456783482482984923884968506']\n",
    "for phone in phones:\n",
    "    #print(re.match('\\d{10}',phone))\n",
    "    #print(re.match('09\\d{8}',phone))\n",
    "    #print(re.match('09\\d{2}-{0,1}\\d{3}-{0,1}\\d{3}',phone))\n",
    "    \n",
    "    # ? => {0,1}\n",
    "    #print(re.match('09\\d{2}-?\\d{3}-?\\d{3}',phone))\n",
    "    \n",
    "    # ^ limit start character, $ limit end character\n",
    "    print(re.match('^09\\d{2}-?\\d{3}-?\\d{3}$',phone))"
   ]
  },
  {
   "cell_type": "code",
   "execution_count": 539,
   "metadata": {},
   "outputs": [
    {
     "data": {
      "text/plain": [
       "<_sre.SRE_Match object; span=(0, 3), match='^_^'>"
      ]
     },
     "execution_count": 539,
     "metadata": {},
     "output_type": "execute_result"
    }
   ],
   "source": [
    "smile = '^_^'\n",
    "re.match('.+', smile)"
   ]
  },
  {
   "cell_type": "code",
   "execution_count": 549,
   "metadata": {},
   "outputs": [
    {
     "name": "stdout",
     "output_type": "stream",
     "text": [
      "<_sre.SRE_Match object; span=(0, 16), match='david@largtidata'>\n",
      "('david', 'largtidata')\n",
      "david\n",
      "largtidata\n",
      "david largtidata\n",
      "('david', 'largtidata.com')\n",
      "('david', 'largtidata.com')\n"
     ]
    }
   ],
   "source": [
    "import re\n",
    "print(re.match('\\w+@\\w+', 'david@largtidata.com'))\n",
    "\n",
    "# () => groups\n",
    "m = re.match('(\\w+)@(\\w+)', 'david@largtidata.com')\n",
    "print(m.groups())\n",
    "print(m.groups()[0])\n",
    "print(m.groups()[1])\n",
    "username,company =  m.groups()\n",
    "print(username, company)\n",
    "\n",
    "m = re.match('(\\w+)@([\\w.]+)', 'david@largtidata.com')\n",
    "print(m.groups())\n",
    "\n",
    "\n",
    "\n",
    "m = re.match('(\\w+)@(.+)', 'david@largtidata.com')\n",
    "print(m.groups())"
   ]
  },
  {
   "cell_type": "code",
   "execution_count": 552,
   "metadata": {},
   "outputs": [
    {
     "name": "stdout",
     "output_type": "stream",
     "text": [
      "('david', 'largtidata.com')\n",
      "('david', 'largtidata.com;this is an invalid mail')\n"
     ]
    }
   ],
   "source": [
    "\n",
    "m = re.match('(\\w+)@([\\w.]+)', 'david@largtidata.com;this is an invalid mail')\n",
    "print(m.groups())\n",
    "\n",
    "m = re.match('(\\w+)@(.+)', 'david@largtidata.com;this is an invalid mail')\n",
    "print(m.groups())"
   ]
  },
  {
   "cell_type": "code",
   "execution_count": 556,
   "metadata": {},
   "outputs": [
    {
     "name": "stdout",
     "output_type": "stream",
     "text": [
      "('1999', '5')\n",
      "('1999', '5')\n",
      "('1999', '5')\n"
     ]
    },
    {
     "ename": "AttributeError",
     "evalue": "'NoneType' object has no attribute 'groups'",
     "output_type": "error",
     "traceback": [
      "\u001b[1;31m---------------------------------------------------------------------------\u001b[0m",
      "\u001b[1;31mAttributeError\u001b[0m                            Traceback (most recent call last)",
      "\u001b[1;32m<ipython-input-556-edc1c5772388>\u001b[0m in \u001b[0;36m<module>\u001b[1;34m()\u001b[0m\n\u001b[0;32m     12\u001b[0m \u001b[1;33m\u001b[0m\u001b[0m\n\u001b[0;32m     13\u001b[0m \u001b[0mm\u001b[0m \u001b[1;33m=\u001b[0m \u001b[0mre\u001b[0m\u001b[1;33m.\u001b[0m\u001b[0mmatch\u001b[0m\u001b[1;33m(\u001b[0m\u001b[1;34m'(\\d+)\\.(\\d+)'\u001b[0m\u001b[1;33m,\u001b[0m \u001b[1;34m'1999$5'\u001b[0m\u001b[1;33m)\u001b[0m\u001b[1;33m\u001b[0m\u001b[0m\n\u001b[1;32m---> 14\u001b[1;33m \u001b[0mprint\u001b[0m\u001b[1;33m(\u001b[0m\u001b[0mm\u001b[0m\u001b[1;33m.\u001b[0m\u001b[0mgroups\u001b[0m\u001b[1;33m(\u001b[0m\u001b[1;33m)\u001b[0m\u001b[1;33m)\u001b[0m\u001b[1;33m\u001b[0m\u001b[0m\n\u001b[0m",
      "\u001b[1;31mAttributeError\u001b[0m: 'NoneType' object has no attribute 'groups'"
     ]
    }
   ],
   "source": [
    "m = re.match('(\\d+).(\\d+)', '1999.5')\n",
    "print(m.groups())\n",
    "\n",
    "m = re.match('(\\d+).(\\d+)', '1999$5')\n",
    "print(m.groups())\n",
    "\n",
    "\n",
    "\n",
    "m = re.match('(\\d+)\\.(\\d+)', '1999.5')\n",
    "print(m.groups())\n",
    "\n",
    "\n",
    "m = re.match('(\\d+)\\.(\\d+)', '1999$5')\n",
    "print(m.groups())"
   ]
  },
  {
   "cell_type": "code",
   "execution_count": 557,
   "metadata": {},
   "outputs": [
    {
     "name": "stdout",
     "output_type": "stream",
     "text": [
      "123\n",
      "456\n"
     ]
    }
   ],
   "source": [
    "print('123\\n456')"
   ]
  },
  {
   "cell_type": "code",
   "execution_count": 558,
   "metadata": {},
   "outputs": [
    {
     "name": "stdout",
     "output_type": "stream",
     "text": [
      "123\\n456\n"
     ]
    }
   ],
   "source": [
    "print(r'123\\n456')"
   ]
  },
  {
   "cell_type": "code",
   "execution_count": 560,
   "metadata": {},
   "outputs": [
    {
     "name": "stdout",
     "output_type": "stream",
     "text": [
      "('David', 'Chiu')\n",
      "David Chiu\n"
     ]
    }
   ],
   "source": [
    "m=re.match(r\"(\\w+) (\\w+)\",\"David Chiu\")\n",
    "print(m.groups())\n",
    "\n",
    "m=re.match(r\"(?P<first_name>\\w+) (?P<last_name>\\w+)\",\"David Chiu\")\n",
    "print(m.group('first_name'),m.group('last_name'))"
   ]
  },
  {
   "cell_type": "code",
   "execution_count": 561,
   "metadata": {},
   "outputs": [
    {
     "name": "stdout",
     "output_type": "stream",
     "text": [
      "file.txt root 10.0.0.1 ./\n"
     ]
    }
   ],
   "source": [
    "str1='scp file.txt root@10.0.0.1:./'\n",
    "m=re.search('^scp ([\\w\\.]+) (\\w+)@([\\w\\.]+):(.+)',str1)\n",
    "if m:\n",
    "    print(m.group(1),m.group(2),m.group(3),m.group(4))"
   ]
  },
  {
   "cell_type": "code",
   "execution_count": 563,
   "metadata": {},
   "outputs": [],
   "source": [
    "a = '123'\n",
    "a = None\n",
    "if a:\n",
    "    print('exist')"
   ]
  },
  {
   "cell_type": "code",
   "execution_count": 567,
   "metadata": {},
   "outputs": [],
   "source": [
    "df2 = df[df['layout'].notnull()]"
   ]
  },
  {
   "cell_type": "code",
   "execution_count": 570,
   "metadata": {},
   "outputs": [
    {
     "name": "stderr",
     "output_type": "stream",
     "text": [
      "C:\\ProgramData\\Anaconda3\\lib\\site-packages\\ipykernel_launcher.py:1: FutureWarning: currently extract(expand=None) means expand=False (return Index/Series/DataFrame) but in a future version of pandas this will be changed to expand=True (return DataFrame)\n",
      "  \"\"\"Entry point for launching an IPython kernel.\n",
      "C:\\ProgramData\\Anaconda3\\lib\\site-packages\\pandas\\core\\frame.py:2352: SettingWithCopyWarning: \n",
      "A value is trying to be set on a copy of a slice from a DataFrame.\n",
      "Try using .loc[row_indexer,col_indexer] = value instead\n",
      "\n",
      "See the caveats in the documentation: http://pandas.pydata.org/pandas-docs/stable/indexing.html#indexing-view-versus-copy\n",
      "  self[k1] = value[k2]\n"
     ]
    }
   ],
   "source": [
    "df2[['bedroom','living_room','bathroom','balcony']] = df2['layout'].str.extract('(\\d+)房(\\d+)廳(\\d+)衛(\\d+)陽臺')"
   ]
  },
  {
   "cell_type": "code",
   "execution_count": 572,
   "metadata": {},
   "outputs": [
    {
     "data": {
      "text/html": [
       "<div>\n",
       "<style>\n",
       "    .dataframe thead tr:only-child th {\n",
       "        text-align: right;\n",
       "    }\n",
       "\n",
       "    .dataframe thead th {\n",
       "        text-align: left;\n",
       "    }\n",
       "\n",
       "    .dataframe tbody tr th {\n",
       "        vertical-align: top;\n",
       "    }\n",
       "</style>\n",
       "<table border=\"1\" class=\"dataframe\">\n",
       "  <thead>\n",
       "    <tr style=\"text-align: right;\">\n",
       "      <th></th>\n",
       "      <th>layout</th>\n",
       "      <th>bedroom</th>\n",
       "      <th>living_room</th>\n",
       "      <th>bathroom</th>\n",
       "      <th>balcony</th>\n",
       "    </tr>\n",
       "  </thead>\n",
       "  <tbody>\n",
       "    <tr>\n",
       "      <th>5</th>\n",
       "      <td>2房1廳1衛1陽臺</td>\n",
       "      <td>2</td>\n",
       "      <td>1</td>\n",
       "      <td>1</td>\n",
       "      <td>1</td>\n",
       "    </tr>\n",
       "    <tr>\n",
       "      <th>9</th>\n",
       "      <td>2房1廳2衛2陽臺</td>\n",
       "      <td>2</td>\n",
       "      <td>1</td>\n",
       "      <td>2</td>\n",
       "      <td>2</td>\n",
       "    </tr>\n",
       "    <tr>\n",
       "      <th>13</th>\n",
       "      <td>2房2廳1衛1陽臺</td>\n",
       "      <td>2</td>\n",
       "      <td>2</td>\n",
       "      <td>1</td>\n",
       "      <td>1</td>\n",
       "    </tr>\n",
       "    <tr>\n",
       "      <th>15</th>\n",
       "      <td>4房3廳3衛3陽臺</td>\n",
       "      <td>4</td>\n",
       "      <td>3</td>\n",
       "      <td>3</td>\n",
       "      <td>3</td>\n",
       "    </tr>\n",
       "    <tr>\n",
       "      <th>16</th>\n",
       "      <td>1房1廳1衛0陽臺</td>\n",
       "      <td>1</td>\n",
       "      <td>1</td>\n",
       "      <td>1</td>\n",
       "      <td>0</td>\n",
       "    </tr>\n",
       "  </tbody>\n",
       "</table>\n",
       "</div>"
      ],
      "text/plain": [
       "       layout bedroom living_room bathroom balcony\n",
       "5   2房1廳1衛1陽臺       2           1        1       1\n",
       "9   2房1廳2衛2陽臺       2           1        2       2\n",
       "13  2房2廳1衛1陽臺       2           2        1       1\n",
       "15  4房3廳3衛3陽臺       4           3        3       3\n",
       "16  1房1廳1衛0陽臺       1           1        1       0"
      ]
     },
     "execution_count": 572,
     "metadata": {},
     "output_type": "execute_result"
    }
   ],
   "source": [
    "df2[['layout','bedroom','living_room','bathroom','balcony']].head()"
   ]
  },
  {
   "cell_type": "code",
   "execution_count": 603,
   "metadata": {},
   "outputs": [
    {
     "name": "stderr",
     "output_type": "stream",
     "text": [
      "C:\\ProgramData\\Anaconda3\\lib\\site-packages\\ipykernel_launcher.py:2: FutureWarning: currently extract(expand=None) means expand=False (return Index/Series/DataFrame) but in a future version of pandas this will be changed to expand=True (return DataFrame)\n",
      "  \n"
     ]
    },
    {
     "data": {
      "text/html": [
       "<div>\n",
       "<style>\n",
       "    .dataframe thead tr:only-child th {\n",
       "        text-align: right;\n",
       "    }\n",
       "\n",
       "    .dataframe thead th {\n",
       "        text-align: left;\n",
       "    }\n",
       "\n",
       "    .dataframe tbody tr th {\n",
       "        vertical-align: top;\n",
       "    }\n",
       "</style>\n",
       "<table border=\"1\" class=\"dataframe\">\n",
       "  <thead>\n",
       "    <tr style=\"text-align: right;\">\n",
       "      <th></th>\n",
       "      <th>0</th>\n",
       "      <th>1</th>\n",
       "      <th>2</th>\n",
       "    </tr>\n",
       "  </thead>\n",
       "  <tbody>\n",
       "    <tr>\n",
       "      <th>5</th>\n",
       "      <td>新北市</td>\n",
       "      <td>淡水區</td>\n",
       "      <td>民族路</td>\n",
       "    </tr>\n",
       "    <tr>\n",
       "      <th>9</th>\n",
       "      <td>基隆市</td>\n",
       "      <td>安樂區</td>\n",
       "      <td>樂利三街</td>\n",
       "    </tr>\n",
       "    <tr>\n",
       "      <th>13</th>\n",
       "      <td>嘉義市</td>\n",
       "      <td>西區</td>\n",
       "      <td>興業西路</td>\n",
       "    </tr>\n",
       "    <tr>\n",
       "      <th>15</th>\n",
       "      <td>台北市</td>\n",
       "      <td>北投區</td>\n",
       "      <td>新民路</td>\n",
       "    </tr>\n",
       "    <tr>\n",
       "      <th>16</th>\n",
       "      <td>新北市</td>\n",
       "      <td>淡水區</td>\n",
       "      <td>中正東路一段</td>\n",
       "    </tr>\n",
       "  </tbody>\n",
       "</table>\n",
       "</div>"
      ],
      "text/plain": [
       "      0    1       2\n",
       "5   新北市  淡水區     民族路\n",
       "9   基隆市  安樂區    樂利三街\n",
       "13  嘉義市   西區    興業西路\n",
       "15  台北市  北投區     新民路\n",
       "16  新北市  淡水區  中正東路一段"
      ]
     },
     "execution_count": 603,
     "metadata": {},
     "output_type": "execute_result"
    }
   ],
   "source": [
    "#test = df2['address'].str.extract('(.+?[市縣])(.+?[區市鄉鎮])(.+?[路街巷道里村]).*?')\n",
    "test = df2['address'].str.extract('(.+?[市縣])(.+?[區市鄉鎮])(.+)')\n",
    "#df2['address']\n",
    "#df2['address'][test[0].isnull()]\n",
    "test.head()"
   ]
  },
  {
   "cell_type": "code",
   "execution_count": null,
   "metadata": {
    "collapsed": true
   },
   "outputs": [],
   "source": []
  }
 ],
 "metadata": {
  "kernelspec": {
   "display_name": "Python 3",
   "language": "python",
   "name": "python3"
  },
  "language_info": {
   "codemirror_mode": {
    "name": "ipython",
    "version": 3
   },
   "file_extension": ".py",
   "mimetype": "text/x-python",
   "name": "python",
   "nbconvert_exporter": "python",
   "pygments_lexer": "ipython3",
   "version": "3.6.3"
  }
 },
 "nbformat": 4,
 "nbformat_minor": 2
}
