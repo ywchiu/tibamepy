{
  "nbformat": 4,
  "nbformat_minor": 0,
  "metadata": {
    "colab": {
      "name": "Demo20200502.ipynb",
      "provenance": [],
      "collapsed_sections": []
    },
    "kernelspec": {
      "name": "python3",
      "display_name": "Python 3"
    }
  },
  "cells": [
    {
      "cell_type": "markdown",
      "metadata": {
        "id": "ps6XNv8vA5qf",
        "colab_type": "text"
      },
      "source": [
        "## 作業 (Python 基礎)\n",
        "\n",
        "- 1 請使用 pip 將 jieba 安裝在自己的電腦上\n",
        "- 2 閱讀jieba 相關的文件，了解jieba 的用法\n",
        "- 3 請將蔡英文演說文 (https://raw.githubusercontent.com/ywchiu/tibamedl/master/Data/speech_tsai.txt) 下載存入到自己電腦\n",
        "- 4 請使用python 的檔案操作方法讀取新聞\n",
        "- 5 請使用 jieba 將演說文切詞\n",
        "- 6 請統計該演說文最常出現的十大字詞"
      ]
    },
    {
      "cell_type": "markdown",
      "metadata": {
        "id": "ItRxuNe3CFOs",
        "colab_type": "text"
      },
      "source": [
        "###  請使用 pip 將 jieba 安裝在自己的電腦上"
      ]
    },
    {
      "cell_type": "code",
      "metadata": {
        "id": "PHegvVZ2CT5J",
        "colab_type": "code",
        "colab": {
          "base_uri": "https://localhost:8080/",
          "height": 34
        },
        "outputId": "70b80d29-4352-4c28-c3bb-a89849a37d35"
      },
      "source": [
        "! pip install jieba"
      ],
      "execution_count": 2,
      "outputs": [
        {
          "output_type": "stream",
          "text": [
            "Requirement already satisfied: jieba in /usr/local/lib/python3.6/dist-packages (0.42.1)\n"
          ],
          "name": "stdout"
        }
      ]
    },
    {
      "cell_type": "markdown",
      "metadata": {
        "id": "2r2fVJB4Ctwr",
        "colab_type": "text"
      },
      "source": [
        "### 閱讀jieba 相關的文件，了解jieba 的用法\n",
        "- https://github.com/fxsjy/jieba"
      ]
    },
    {
      "cell_type": "code",
      "metadata": {
        "id": "Hyr6hhGYCxMj",
        "colab_type": "code",
        "colab": {
          "base_uri": "https://localhost:8080/",
          "height": 118
        },
        "outputId": "949cd229-14b3-4f4d-a2b3-3412c167b522"
      },
      "source": [
        "# encoding=utf-8\n",
        "import jieba\n",
        "\n",
        "seg_list = jieba.cut(\"我来到北京清华大学\", cut_all=True)\n",
        "print(\"Full Mode: \" + \"/ \".join(seg_list))  # 全模式\n",
        "\n",
        "seg_list = jieba.cut(\"我来到北京清华大学\", cut_all=False)\n",
        "print(\"Default Mode: \" + \"/ \".join(seg_list))  # 精确模式"
      ],
      "execution_count": 3,
      "outputs": [
        {
          "output_type": "stream",
          "text": [
            "Building prefix dict from the default dictionary ...\n",
            "Dumping model to file cache /tmp/jieba.cache\n",
            "Loading model cost 0.874 seconds.\n",
            "Prefix dict has been built successfully.\n"
          ],
          "name": "stderr"
        },
        {
          "output_type": "stream",
          "text": [
            "Full Mode: 我/ 来到/ 北京/ 清华/ 清华大学/ 华大/ 大学\n",
            "Default Mode: 我/ 来到/ 北京/ 清华大学\n"
          ],
          "name": "stdout"
        }
      ]
    },
    {
      "cell_type": "markdown",
      "metadata": {
        "id": "DsUuDk4WEIzY",
        "colab_type": "text"
      },
      "source": [
        "###  請將蔡英文演說文 (https://raw.githubusercontent.com/ywchiu/tibamedl/master/Data/speech_tsai.txt) 下載存入到自己電腦\n",
        "\n",
        "- http://linux.vbird.org/"
      ]
    },
    {
      "cell_type": "code",
      "metadata": {
        "id": "IisB99NgAR45",
        "colab_type": "code",
        "colab": {
          "base_uri": "https://localhost:8080/",
          "height": 202
        },
        "outputId": "3429e001-fb1c-4db7-f8fa-60037a2c403a"
      },
      "source": [
        "! wget https://raw.githubusercontent.com/ywchiu/tibamedl/master/Data/speech_tsai.txt"
      ],
      "execution_count": 1,
      "outputs": [
        {
          "output_type": "stream",
          "text": [
            "--2020-05-02 01:33:57--  https://raw.githubusercontent.com/ywchiu/tibamedl/master/Data/speech_tsai.txt\n",
            "Resolving raw.githubusercontent.com (raw.githubusercontent.com)... 151.101.0.133, 151.101.64.133, 151.101.128.133, ...\n",
            "Connecting to raw.githubusercontent.com (raw.githubusercontent.com)|151.101.0.133|:443... connected.\n",
            "HTTP request sent, awaiting response... 200 OK\n",
            "Length: 6579 (6.4K) [text/plain]\n",
            "Saving to: ‘speech_tsai.txt’\n",
            "\n",
            "\rspeech_tsai.txt       0%[                    ]       0  --.-KB/s               \rspeech_tsai.txt     100%[===================>]   6.42K  --.-KB/s    in 0s      \n",
            "\n",
            "2020-05-02 01:33:57 (90.9 MB/s) - ‘speech_tsai.txt’ saved [6579/6579]\n",
            "\n"
          ],
          "name": "stdout"
        }
      ]
    },
    {
      "cell_type": "markdown",
      "metadata": {
        "id": "RwS0EzUgExxj",
        "colab_type": "text"
      },
      "source": [
        "### 請使用python 的檔案操作方法讀取新聞"
      ]
    },
    {
      "cell_type": "code",
      "metadata": {
        "id": "slVOzH-mBKLk",
        "colab_type": "code",
        "colab": {}
      },
      "source": [
        "with open('speech_tsai.txt' , 'r') as f:\n",
        "  speech = f.read()"
      ],
      "execution_count": 0,
      "outputs": []
    },
    {
      "cell_type": "code",
      "metadata": {
        "id": "i_JCsnUZE8p6",
        "colab_type": "code",
        "colab": {}
      },
      "source": [
        "#speech"
      ],
      "execution_count": 0,
      "outputs": []
    },
    {
      "cell_type": "markdown",
      "metadata": {
        "id": "8UEun6E_FGfr",
        "colab_type": "text"
      },
      "source": [
        "### 請使用 jieba 將演說文切詞 "
      ]
    },
    {
      "cell_type": "code",
      "metadata": {
        "id": "GvHSpFETE-Mt",
        "colab_type": "code",
        "colab": {}
      },
      "source": [
        "import jieba\n",
        "\n",
        "seg_list = jieba.cut(speech, cut_all=False)\n",
        "words = []\n",
        "for word in seg_list:\n",
        "  words.append(word)"
      ],
      "execution_count": 0,
      "outputs": []
    },
    {
      "cell_type": "markdown",
      "metadata": {
        "id": "Dq02o7lqF1ux",
        "colab_type": "text"
      },
      "source": [
        "### 請統計該演說文最常出現的十大字詞"
      ]
    },
    {
      "cell_type": "markdown",
      "metadata": {
        "id": "oXM59VrbHgtn",
        "colab_type": "text"
      },
      "source": [
        "#### Method 1"
      ]
    },
    {
      "cell_type": "code",
      "metadata": {
        "id": "JowCENIIFTlT",
        "colab_type": "code",
        "colab": {}
      },
      "source": [
        "dic = {}\n",
        "for word in words:\n",
        "  if len(word) >=2:\n",
        "    if word not in dic:\n",
        "      dic[word] = 1\n",
        "    else:\n",
        "      dic[word] = dic[word] + 1"
      ],
      "execution_count": 0,
      "outputs": []
    },
    {
      "cell_type": "code",
      "metadata": {
        "id": "JzFhyz_HFsOE",
        "colab_type": "code",
        "colab": {}
      },
      "source": [
        "swd = sorted(dic.items(), key = lambda k:k[1], reverse=True)"
      ],
      "execution_count": 0,
      "outputs": []
    },
    {
      "cell_type": "code",
      "metadata": {
        "id": "FMGG8Q0PGQtM",
        "colab_type": "code",
        "colab": {
          "base_uri": "https://localhost:8080/",
          "height": 185
        },
        "outputId": "c8e8b560-6075-4ae0-ae15-b039b37c7f68"
      },
      "source": [
        "for rec in swd[0:10]:\n",
        "  print(rec)"
      ],
      "execution_count": 19,
      "outputs": [
        {
          "output_type": "stream",
          "text": [
            "('我們', 43)\n",
            "('台灣', 19)\n",
            "('挑戰', 12)\n",
            "('人民', 9)\n",
            "('經濟', 8)\n",
            "('中華民國', 7)\n",
            "('一次', 7)\n",
            "('未來', 6)\n",
            "('自由民主', 6)\n",
            "('世界', 5)\n"
          ],
          "name": "stdout"
        }
      ]
    },
    {
      "cell_type": "code",
      "metadata": {
        "id": "dXz8VpvyGwb1",
        "colab_type": "code",
        "colab": {
          "base_uri": "https://localhost:8080/",
          "height": 185
        },
        "outputId": "71fb5103-7a15-42ca-db54-131c703d3618"
      },
      "source": [
        "for k,v in swd[0:10]:\n",
        "  print(k,v)"
      ],
      "execution_count": 20,
      "outputs": [
        {
          "output_type": "stream",
          "text": [
            "我們 43\n",
            "台灣 19\n",
            "挑戰 12\n",
            "人民 9\n",
            "經濟 8\n",
            "中華民國 7\n",
            "一次 7\n",
            "未來 6\n",
            "自由民主 6\n",
            "世界 5\n"
          ],
          "name": "stdout"
        }
      ]
    },
    {
      "cell_type": "markdown",
      "metadata": {
        "id": "UA1Ft6XfHlGv",
        "colab_type": "text"
      },
      "source": [
        "#### Method 2"
      ]
    },
    {
      "cell_type": "code",
      "metadata": {
        "id": "zkSwABPXHQOb",
        "colab_type": "code",
        "colab": {}
      },
      "source": [
        "dic = {}\n",
        "for word in words:\n",
        "  if len(word) >=2:\n",
        "    dic[word] = dic.get(word,0) + 1"
      ],
      "execution_count": 0,
      "outputs": []
    },
    {
      "cell_type": "code",
      "metadata": {
        "id": "TjUYHUMTHkp3",
        "colab_type": "code",
        "colab": {}
      },
      "source": [
        "swd = sorted(dic.items(), key = lambda k:k[1], reverse=True)"
      ],
      "execution_count": 0,
      "outputs": []
    },
    {
      "cell_type": "code",
      "metadata": {
        "id": "ay7yMEIKIEjK",
        "colab_type": "code",
        "colab": {
          "base_uri": "https://localhost:8080/",
          "height": 185
        },
        "outputId": "b5b259f0-0854-4030-b967-a86d8e192273"
      },
      "source": [
        "for rec in swd[0:10]:\n",
        "  print(rec)"
      ],
      "execution_count": 23,
      "outputs": [
        {
          "output_type": "stream",
          "text": [
            "('我們', 43)\n",
            "('台灣', 19)\n",
            "('挑戰', 12)\n",
            "('人民', 9)\n",
            "('經濟', 8)\n",
            "('中華民國', 7)\n",
            "('一次', 7)\n",
            "('未來', 6)\n",
            "('自由民主', 6)\n",
            "('世界', 5)\n"
          ],
          "name": "stdout"
        }
      ]
    },
    {
      "cell_type": "markdown",
      "metadata": {
        "id": "xCkih8KhIKR5",
        "colab_type": "text"
      },
      "source": [
        "#### Method 3\n",
        "- https://docs.python.org/zh-tw/3/library/collections.html"
      ]
    },
    {
      "cell_type": "code",
      "metadata": {
        "id": "DpN_H4PUIGIL",
        "colab_type": "code",
        "colab": {
          "base_uri": "https://localhost:8080/",
          "height": 185
        },
        "outputId": "35783b7a-376e-42cf-8209-e984b1c38394"
      },
      "source": [
        "from collections import Counter\n",
        "words2 = []\n",
        "for word in words:\n",
        "  if len(word) >=2:\n",
        "    words2.append(word)\n",
        "c = Counter(words2)\n",
        "c.most_common(10)"
      ],
      "execution_count": 25,
      "outputs": [
        {
          "output_type": "execute_result",
          "data": {
            "text/plain": [
              "[('我們', 43),\n",
              " ('台灣', 19),\n",
              " ('挑戰', 12),\n",
              " ('人民', 9),\n",
              " ('經濟', 8),\n",
              " ('中華民國', 7),\n",
              " ('一次', 7),\n",
              " ('未來', 6),\n",
              " ('自由民主', 6),\n",
              " ('世界', 5)]"
            ]
          },
          "metadata": {
            "tags": []
          },
          "execution_count": 25
        }
      ]
    },
    {
      "cell_type": "code",
      "metadata": {
        "id": "X-Z3T3d4ItMV",
        "colab_type": "code",
        "colab": {}
      },
      "source": [
        "# [word for word in words if len(word) >=2]"
      ],
      "execution_count": 0,
      "outputs": []
    },
    {
      "cell_type": "code",
      "metadata": {
        "id": "ZQBxFJPuJF-J",
        "colab_type": "code",
        "colab": {
          "base_uri": "https://localhost:8080/",
          "height": 185
        },
        "outputId": "21709b51-81fe-4e9e-8bc6-aede8ee79c89"
      },
      "source": [
        "from collections import Counter\n",
        "words2 = [word for word in words if len(word) >=2]\n",
        "c = Counter(words2)\n",
        "c.most_common(10)"
      ],
      "execution_count": 29,
      "outputs": [
        {
          "output_type": "execute_result",
          "data": {
            "text/plain": [
              "[('我們', 43),\n",
              " ('台灣', 19),\n",
              " ('挑戰', 12),\n",
              " ('人民', 9),\n",
              " ('經濟', 8),\n",
              " ('中華民國', 7),\n",
              " ('一次', 7),\n",
              " ('未來', 6),\n",
              " ('自由民主', 6),\n",
              " ('世界', 5)]"
            ]
          },
          "metadata": {
            "tags": []
          },
          "execution_count": 29
        }
      ]
    },
    {
      "cell_type": "markdown",
      "metadata": {
        "id": "fe2HvsgWPDqo",
        "colab_type": "text"
      },
      "source": [
        "## 使用Pandas 讀取資料"
      ]
    },
    {
      "cell_type": "code",
      "metadata": {
        "id": "j8tKGTHKJUj0",
        "colab_type": "code",
        "colab": {}
      },
      "source": [
        "import pandas\n",
        "amzn = pandas.read_csv('https://raw.githubusercontent.com/ywchiu/tibamepy/master/data/AMZN.csv')"
      ],
      "execution_count": 0,
      "outputs": []
    },
    {
      "cell_type": "code",
      "metadata": {
        "id": "gUa12ZR9PKd1",
        "colab_type": "code",
        "colab": {
          "base_uri": "https://localhost:8080/",
          "height": 195
        },
        "outputId": "d296f414-11c3-4e82-a0c1-68b15b632173"
      },
      "source": [
        "amzn.head()"
      ],
      "execution_count": 31,
      "outputs": [
        {
          "output_type": "execute_result",
          "data": {
            "text/html": [
              "<div>\n",
              "<style scoped>\n",
              "    .dataframe tbody tr th:only-of-type {\n",
              "        vertical-align: middle;\n",
              "    }\n",
              "\n",
              "    .dataframe tbody tr th {\n",
              "        vertical-align: top;\n",
              "    }\n",
              "\n",
              "    .dataframe thead th {\n",
              "        text-align: right;\n",
              "    }\n",
              "</style>\n",
              "<table border=\"1\" class=\"dataframe\">\n",
              "  <thead>\n",
              "    <tr style=\"text-align: right;\">\n",
              "      <th></th>\n",
              "      <th>Date</th>\n",
              "      <th>Open</th>\n",
              "      <th>High</th>\n",
              "      <th>Low</th>\n",
              "      <th>Close</th>\n",
              "      <th>Adj Close</th>\n",
              "      <th>Volume</th>\n",
              "    </tr>\n",
              "  </thead>\n",
              "  <tbody>\n",
              "    <tr>\n",
              "      <th>0</th>\n",
              "      <td>1997-05-15</td>\n",
              "      <td>2.437500</td>\n",
              "      <td>2.500000</td>\n",
              "      <td>1.927083</td>\n",
              "      <td>1.958333</td>\n",
              "      <td>1.958333</td>\n",
              "      <td>72156000</td>\n",
              "    </tr>\n",
              "    <tr>\n",
              "      <th>1</th>\n",
              "      <td>1997-05-16</td>\n",
              "      <td>1.968750</td>\n",
              "      <td>1.979167</td>\n",
              "      <td>1.708333</td>\n",
              "      <td>1.729167</td>\n",
              "      <td>1.729167</td>\n",
              "      <td>14700000</td>\n",
              "    </tr>\n",
              "    <tr>\n",
              "      <th>2</th>\n",
              "      <td>1997-05-19</td>\n",
              "      <td>1.760417</td>\n",
              "      <td>1.770833</td>\n",
              "      <td>1.625000</td>\n",
              "      <td>1.708333</td>\n",
              "      <td>1.708333</td>\n",
              "      <td>6106800</td>\n",
              "    </tr>\n",
              "    <tr>\n",
              "      <th>3</th>\n",
              "      <td>1997-05-20</td>\n",
              "      <td>1.729167</td>\n",
              "      <td>1.750000</td>\n",
              "      <td>1.635417</td>\n",
              "      <td>1.635417</td>\n",
              "      <td>1.635417</td>\n",
              "      <td>5467200</td>\n",
              "    </tr>\n",
              "    <tr>\n",
              "      <th>4</th>\n",
              "      <td>1997-05-21</td>\n",
              "      <td>1.635417</td>\n",
              "      <td>1.645833</td>\n",
              "      <td>1.375000</td>\n",
              "      <td>1.427083</td>\n",
              "      <td>1.427083</td>\n",
              "      <td>18853200</td>\n",
              "    </tr>\n",
              "  </tbody>\n",
              "</table>\n",
              "</div>"
            ],
            "text/plain": [
              "         Date      Open      High       Low     Close  Adj Close    Volume\n",
              "0  1997-05-15  2.437500  2.500000  1.927083  1.958333   1.958333  72156000\n",
              "1  1997-05-16  1.968750  1.979167  1.708333  1.729167   1.729167  14700000\n",
              "2  1997-05-19  1.760417  1.770833  1.625000  1.708333   1.708333   6106800\n",
              "3  1997-05-20  1.729167  1.750000  1.635417  1.635417   1.635417   5467200\n",
              "4  1997-05-21  1.635417  1.645833  1.375000  1.427083   1.427083  18853200"
            ]
          },
          "metadata": {
            "tags": []
          },
          "execution_count": 31
        }
      ]
    },
    {
      "cell_type": "code",
      "metadata": {
        "id": "aTDWHIbUPLe8",
        "colab_type": "code",
        "colab": {}
      },
      "source": [
        "tw2330 = pandas.read_json('https://raw.githubusercontent.com/ywchiu/tibamepy/master/data/2330.json')"
      ],
      "execution_count": 0,
      "outputs": []
    },
    {
      "cell_type": "code",
      "metadata": {
        "id": "xSQHoPXlPVzz",
        "colab_type": "code",
        "colab": {
          "base_uri": "https://localhost:8080/",
          "height": 195
        },
        "outputId": "a6b6b6f5-a68f-4992-f69d-127522f1da42"
      },
      "source": [
        "tw2330.head()"
      ],
      "execution_count": 33,
      "outputs": [
        {
          "output_type": "execute_result",
          "data": {
            "text/html": [
              "<div>\n",
              "<style scoped>\n",
              "    .dataframe tbody tr th:only-of-type {\n",
              "        vertical-align: middle;\n",
              "    }\n",
              "\n",
              "    .dataframe tbody tr th {\n",
              "        vertical-align: top;\n",
              "    }\n",
              "\n",
              "    .dataframe thead th {\n",
              "        text-align: right;\n",
              "    }\n",
              "</style>\n",
              "<table border=\"1\" class=\"dataframe\">\n",
              "  <thead>\n",
              "    <tr style=\"text-align: right;\">\n",
              "      <th></th>\n",
              "      <th>Date</th>\n",
              "      <th>Open</th>\n",
              "      <th>High</th>\n",
              "      <th>Low</th>\n",
              "      <th>Close</th>\n",
              "      <th>Volume</th>\n",
              "      <th>Adj Close</th>\n",
              "    </tr>\n",
              "  </thead>\n",
              "  <tbody>\n",
              "    <tr>\n",
              "      <th>0</th>\n",
              "      <td>2016-07-21</td>\n",
              "      <td>171.0</td>\n",
              "      <td>172.0</td>\n",
              "      <td>170.0</td>\n",
              "      <td>172.0</td>\n",
              "      <td>33130000</td>\n",
              "      <td>172.0</td>\n",
              "    </tr>\n",
              "    <tr>\n",
              "      <th>1</th>\n",
              "      <td>2016-07-20</td>\n",
              "      <td>170.0</td>\n",
              "      <td>170.5</td>\n",
              "      <td>169.0</td>\n",
              "      <td>170.0</td>\n",
              "      <td>38053000</td>\n",
              "      <td>170.0</td>\n",
              "    </tr>\n",
              "    <tr>\n",
              "      <th>2</th>\n",
              "      <td>2016-07-19</td>\n",
              "      <td>170.5</td>\n",
              "      <td>170.5</td>\n",
              "      <td>169.0</td>\n",
              "      <td>170.5</td>\n",
              "      <td>42456000</td>\n",
              "      <td>170.5</td>\n",
              "    </tr>\n",
              "    <tr>\n",
              "      <th>3</th>\n",
              "      <td>2016-07-18</td>\n",
              "      <td>168.0</td>\n",
              "      <td>170.0</td>\n",
              "      <td>168.0</td>\n",
              "      <td>169.5</td>\n",
              "      <td>24749000</td>\n",
              "      <td>169.5</td>\n",
              "    </tr>\n",
              "    <tr>\n",
              "      <th>4</th>\n",
              "      <td>2016-07-15</td>\n",
              "      <td>169.5</td>\n",
              "      <td>169.5</td>\n",
              "      <td>169.5</td>\n",
              "      <td>169.5</td>\n",
              "      <td>41000</td>\n",
              "      <td>169.5</td>\n",
              "    </tr>\n",
              "  </tbody>\n",
              "</table>\n",
              "</div>"
            ],
            "text/plain": [
              "        Date   Open   High    Low  Close    Volume  Adj Close\n",
              "0 2016-07-21  171.0  172.0  170.0  172.0  33130000      172.0\n",
              "1 2016-07-20  170.0  170.5  169.0  170.0  38053000      170.0\n",
              "2 2016-07-19  170.5  170.5  169.0  170.5  42456000      170.5\n",
              "3 2016-07-18  168.0  170.0  168.0  169.5  24749000      169.5\n",
              "4 2016-07-15  169.5  169.5  169.5  169.5     41000      169.5"
            ]
          },
          "metadata": {
            "tags": []
          },
          "execution_count": 33
        }
      ]
    },
    {
      "cell_type": "markdown",
      "metadata": {
        "id": "u_jb1oKre6cz",
        "colab_type": "text"
      },
      "source": [
        "## 網路爬蟲\n",
        "- https://zh.wikipedia.org/wiki/HTTP%E7%8A%B6%E6%80%81%E7%A0%81"
      ]
    },
    {
      "cell_type": "code",
      "metadata": {
        "id": "FLtKDQdEPW_o",
        "colab_type": "code",
        "colab": {}
      },
      "source": [
        "import requests\n",
        "res  = requests.get('https://tw.appledaily.com/pf/api/v3/content/fetch/query-feed?query=%7B%22feedOffset%22%3A0%2C%22feedQuery%22%3A%22%22%2C%22feedSize%22%3A%22100%22%2C%22sort%22%3A%22display_date%3Adesc%22%7D&d=71&_website=tw-appledaily')\n",
        "#res.json()"
      ],
      "execution_count": 0,
      "outputs": []
    },
    {
      "cell_type": "markdown",
      "metadata": {
        "id": "WSalkf5Ae838",
        "colab_type": "text"
      },
      "source": [
        "### GET"
      ]
    },
    {
      "cell_type": "code",
      "metadata": {
        "id": "t19Gm0hVX9CK",
        "colab_type": "code",
        "colab": {}
      },
      "source": [
        "import requests\n",
        "res = requests.get('https://money.udn.com/rank/newest/1001/0/1')"
      ],
      "execution_count": 0,
      "outputs": []
    },
    {
      "cell_type": "code",
      "metadata": {
        "id": "lamDJhMyfKTc",
        "colab_type": "code",
        "colab": {
          "base_uri": "https://localhost:8080/",
          "height": 34
        },
        "outputId": "6630427f-e4cd-4846-fb86-225ff8a35e19"
      },
      "source": [
        "res"
      ],
      "execution_count": 37,
      "outputs": [
        {
          "output_type": "execute_result",
          "data": {
            "text/plain": [
              "<Response [200]>"
            ]
          },
          "metadata": {
            "tags": []
          },
          "execution_count": 37
        }
      ]
    },
    {
      "cell_type": "code",
      "metadata": {
        "id": "-qSvOP48fOBi",
        "colab_type": "code",
        "colab": {}
      },
      "source": [
        "#res.text"
      ],
      "execution_count": 0,
      "outputs": []
    },
    {
      "cell_type": "markdown",
      "metadata": {
        "id": "X3Z_I6NBgBhj",
        "colab_type": "text"
      },
      "source": [
        "### POST\n",
        "- https://www.thsrc.com.tw/tw/timetable/searchresult"
      ]
    },
    {
      "cell_type": "code",
      "metadata": {
        "id": "0-DKSnBdfkKG",
        "colab_type": "code",
        "colab": {}
      },
      "source": [
        "import requests\n",
        "url  =  'https://www.thsrc.com.tw/tw/TimeTable/Search'\n",
        "\n",
        "payload = {\n",
        "'StartStationName':  '台北站',\n",
        "'EndStationName':  '新竹站',\n",
        "'SearchType': 'S',\n",
        "'StartStation': '977abb69-413a-4ccf-a109-0272c24fd490',\n",
        "'EndStation': 'a7a04c89-900b-4798-95a3-c01c455622f4',\n",
        "'DepartueSearchDate': '2020/05/02',\n",
        "'DepartueSearchTime': '18:00'\n",
        "}\n",
        "res = requests.post(url, data = payload)"
      ],
      "execution_count": 0,
      "outputs": []
    },
    {
      "cell_type": "code",
      "metadata": {
        "id": "FU8ia8m9h8BR",
        "colab_type": "code",
        "colab": {
          "base_uri": "https://localhost:8080/",
          "height": 34
        },
        "outputId": "da3ab9e0-4886-4386-f438-48a359d4f24e"
      },
      "source": [
        "res"
      ],
      "execution_count": 50,
      "outputs": [
        {
          "output_type": "execute_result",
          "data": {
            "text/plain": [
              "<Response [200]>"
            ]
          },
          "metadata": {
            "tags": []
          },
          "execution_count": 50
        }
      ]
    },
    {
      "cell_type": "code",
      "metadata": {
        "id": "MsKEQ1TPh8uV",
        "colab_type": "code",
        "colab": {}
      },
      "source": [
        "#res.text\n",
        "#res.json()"
      ],
      "execution_count": 0,
      "outputs": []
    },
    {
      "cell_type": "markdown",
      "metadata": {
        "id": "koIhyTAVjNtK",
        "colab_type": "text"
      },
      "source": [
        "## 小任務\n",
        "- 抓取商品價格\n",
        "- https://24h.pchome.com.tw/cdn/prod/DGBJGP-1900AMVI3-000?fq=/S/DGBJGP"
      ]
    },
    {
      "cell_type": "code",
      "metadata": {
        "id": "3nPvlPvxiBf_",
        "colab_type": "code",
        "colab": {}
      },
      "source": [
        "import requests\n",
        "res = requests.get('https://24h.pchome.com.tw/ecapi/ecshop/prodapi/v2/prod/button&id=DGBJGP-1900AMVI3&fields=Seq,Id,Price,Qty,ButtonType,SaleStatus,isPrimeOnly,SpecialQty&_callback=jsonp_button&1588393440?_callback=jsonp_button')\n"
      ],
      "execution_count": 0,
      "outputs": []
    },
    {
      "cell_type": "code",
      "metadata": {
        "id": "k5QOxr3KoAZ5",
        "colab_type": "code",
        "colab": {
          "base_uri": "https://localhost:8080/",
          "height": 54
        },
        "outputId": "b7393fe0-a07d-44ca-a776-a9e1236261ef"
      },
      "source": [
        "res.text"
      ],
      "execution_count": 55,
      "outputs": [
        {
          "output_type": "execute_result",
          "data": {
            "text/plain": [
              "'try{jsonp_button([{\"Seq\":24688071,\"Id\":\"DGBJGP-1900AMVI3-000\",\"Price\":{\"M\":0,\"P\":17400,\"Prime\":\"\"},\"Qty\":0,\"ButtonType\":\"OrderRefill\",\"SaleStatus\":0,\"isPrimeOnly\":0,\"SpecialQty\":1}]);}catch(e){if(window.console){console.log(e);}}'"
            ]
          },
          "metadata": {
            "tags": []
          },
          "execution_count": 55
        }
      ]
    },
    {
      "cell_type": "code",
      "metadata": {
        "id": "1VxrEcZWqJtQ",
        "colab_type": "code",
        "colab": {
          "base_uri": "https://localhost:8080/",
          "height": 54
        },
        "outputId": "fcd1517a-b4e4-4934-8345-29af3bc568e3"
      },
      "source": [
        "import requests\n",
        "import json \n",
        "res = requests.get('https://24h.pchome.com.tw/ecapi/ecshop/prodapi/v2/prod/DGBJGP-1900AMVI3-000&store=DGBJGP&fields=Seq,Id,Name,Nick,Store,PreOrdDate,SpeOrdDate,Price,Discount,Pic,Weight,ISBN,Qty,Bonus,isBig,isSpec,isCombine,isDiy,isRecyclable,isCarrier,isMedical,isBigCart,isSnapUp,isDescAndIntroSync,isFoodContents,isHuge,isEnergySubsidy,isPrimeOnly,isPreOrder24h,isWarranty,isLegalStore,isFresh,isBidding,isSet,Volume,isArrival24h,isETicket&_callback=jsonp_prod&1588393980?_callback=jsonp_prod')\n",
        "res.text"
      ],
      "execution_count": 60,
      "outputs": [
        {
          "output_type": "execute_result",
          "data": {
            "text/plain": [
              "'try{jsonp_prod({\"DGBJGP-1900AMVI3-000\":{\"Seq\":24688071,\"Id\":\"DGBJGP-1900AMVI3-000\",\"Name\":\"\\\\u4efb\\\\u5929\\\\u5802 Switch \\\\u52d5\\\\u7269\\\\u68ee\\\\u53cb\\\\u6703\\\\u7279\\\\u4ed5\\\\u6a5f + Labo \\\\u5bb6\\\\u5ead\\\\u7d44\\\\u5408(\\\\u8f15\\\\u91cf) + \\\\u7cbe\\\\u9078\\\\u96d9\\\\u904a\\\\u6232\",\"Nick\":\"<font color=RED><b>5\\\\/1 09:00\\\\ufe31<font color=BLUE><b>\\\\u73fe\\\\u8ca8\\\\u958b\\\\u6436<\\\\/font><\\\\/b><\\\\/font><\\\\/b><br>\\\\u4efb\\\\u5929\\\\u5802 Switch \\\\u52d5\\\\u7269\\\\u68ee\\\\u53cb\\\\u6703\\\\u7279\\\\u4ed5\\\\u6a5f + Labo \\\\u5bb6\\\\u5ead\\\\u7d44\\\\u5408(\\\\u8f15\\\\u91cf) + \\\\u7cbe\\\\u9078\\\\u96d9\\\\u904a\\\\u6232\",\"Store\":\"DGBJGP\",\"PreOrdDate\":\"\",\"SpeOrdDate\":\"\",\"Price\":{\"M\":0,\"P\":17400,\"Prime\":\"\"},\"Discount\":0,\"Pic\":{\"B\":\"\\\\/items\\\\/DGBJGP1900AMVI3\\\\/000001_1588153542.jpg\",\"S\":\"\\\\/items\\\\/DGBJGP1900AMVI3\\\\/000002_1588153542.jpg\"},\"Weight\":0,\"ISBN\":\"\",\"Qty\":0,\"Bonus\":0,\"isBig\":0,\"isSpec\":0,\"isCombine\":1,\"isDiy\":0,\"isRecyclable\":0,\"isCarrier\":0,\"isMedical\":0,\"isBigCart\":1,\"isSnapUp\":0,\"isDescAndIntroSync\":0,\"isFoodContents\":0,\"isHuge\":0,\"isEnergySubsidy\":0,\"isPrimeOnly\":0,\"isPreOrder24h\":0,\"isWarranty\":0,\"isLegalStore\":1,\"isFresh\":0,\"isBidding\":0,\"isSet\":0,\"Volume\":{\"Length\":0,\"Width\":0,\"Height\":0},\"isArrival24h\":1,\"isETicket\":0}});}catch(e){if(window.console){console.log(e);}}'"
            ]
          },
          "metadata": {
            "tags": []
          },
          "execution_count": 60
        }
      ]
    },
    {
      "cell_type": "code",
      "metadata": {
        "id": "LfhASzOi8ln1",
        "colab_type": "code",
        "colab": {
          "base_uri": "https://localhost:8080/",
          "height": 34
        },
        "outputId": "18bd867c-0af7-45d9-dbfd-8411d4ab164b"
      },
      "source": [
        "type(res)"
      ],
      "execution_count": 67,
      "outputs": [
        {
          "output_type": "execute_result",
          "data": {
            "text/plain": [
              "requests.models.Response"
            ]
          },
          "metadata": {
            "tags": []
          },
          "execution_count": 67
        }
      ]
    },
    {
      "cell_type": "code",
      "metadata": {
        "id": "r1Qf429dq_Kg",
        "colab_type": "code",
        "colab": {
          "base_uri": "https://localhost:8080/",
          "height": 675
        },
        "outputId": "c0161604-50f2-4f33-cf0b-5a996ca729de"
      },
      "source": [
        "d = res.text.replace('try{jsonp_prod(', '').replace(');}catch(e){if(window.console){console.log(e);}}','')\n",
        "json.loads(d)"
      ],
      "execution_count": 61,
      "outputs": [
        {
          "output_type": "execute_result",
          "data": {
            "text/plain": [
              "{'DGBJGP-1900AMVI3-000': {'Bonus': 0,\n",
              "  'Discount': 0,\n",
              "  'ISBN': '',\n",
              "  'Id': 'DGBJGP-1900AMVI3-000',\n",
              "  'Name': '任天堂 Switch 動物森友會特仕機 + Labo 家庭組合(輕量) + 精選雙遊戲',\n",
              "  'Nick': '<font color=RED><b>5/1 09:00︱<font color=BLUE><b>現貨開搶</font></b></font></b><br>任天堂 Switch 動物森友會特仕機 + Labo 家庭組合(輕量) + 精選雙遊戲',\n",
              "  'Pic': {'B': '/items/DGBJGP1900AMVI3/000001_1588153542.jpg',\n",
              "   'S': '/items/DGBJGP1900AMVI3/000002_1588153542.jpg'},\n",
              "  'PreOrdDate': '',\n",
              "  'Price': {'M': 0, 'P': 17400, 'Prime': ''},\n",
              "  'Qty': 0,\n",
              "  'Seq': 24688071,\n",
              "  'SpeOrdDate': '',\n",
              "  'Store': 'DGBJGP',\n",
              "  'Volume': {'Height': 0, 'Length': 0, 'Width': 0},\n",
              "  'Weight': 0,\n",
              "  'isArrival24h': 1,\n",
              "  'isBidding': 0,\n",
              "  'isBig': 0,\n",
              "  'isBigCart': 1,\n",
              "  'isCarrier': 0,\n",
              "  'isCombine': 1,\n",
              "  'isDescAndIntroSync': 0,\n",
              "  'isDiy': 0,\n",
              "  'isETicket': 0,\n",
              "  'isEnergySubsidy': 0,\n",
              "  'isFoodContents': 0,\n",
              "  'isFresh': 0,\n",
              "  'isHuge': 0,\n",
              "  'isLegalStore': 1,\n",
              "  'isMedical': 0,\n",
              "  'isPreOrder24h': 0,\n",
              "  'isPrimeOnly': 0,\n",
              "  'isRecyclable': 0,\n",
              "  'isSet': 0,\n",
              "  'isSnapUp': 0,\n",
              "  'isSpec': 0,\n",
              "  'isWarranty': 0}}"
            ]
          },
          "metadata": {
            "tags": []
          },
          "execution_count": 61
        }
      ]
    },
    {
      "cell_type": "markdown",
      "metadata": {
        "id": "mWM-rgSSpKLy",
        "colab_type": "text"
      },
      "source": [
        "## 小任務\n",
        "- 請找出蘋果日報的內文連結\n",
        "- https://tw.appledaily.com/international/20200502/TGP222GOTOOB3MNVMOWKPJD3AY/"
      ]
    },
    {
      "cell_type": "markdown",
      "metadata": {
        "id": "QPyR4Lmi78qZ",
        "colab_type": "text"
      },
      "source": [
        "### BeautifulSoup"
      ]
    },
    {
      "cell_type": "code",
      "metadata": {
        "id": "apPGRwHMoCOu",
        "colab_type": "code",
        "colab": {}
      },
      "source": [
        "html_sample= '''\n",
        "<html>\n",
        "<body>\n",
        "<h1 id=\"title\">Hello World</h1>\n",
        "<a href=\"#\" class=\"link\">This is link1</a>\n",
        "<a href=\"# link2\" class=\"link\">This is link2</a>\n",
        "</body>\n",
        "</html>'''"
      ],
      "execution_count": 0,
      "outputs": []
    },
    {
      "cell_type": "code",
      "metadata": {
        "id": "dfVGAic88KQG",
        "colab_type": "code",
        "colab": {}
      },
      "source": [
        "from bs4 import BeautifulSoup\n",
        "soup = BeautifulSoup(html_sample, 'lxml')"
      ],
      "execution_count": 0,
      "outputs": []
    },
    {
      "cell_type": "code",
      "metadata": {
        "id": "rcO2o8vy8Wcd",
        "colab_type": "code",
        "colab": {
          "base_uri": "https://localhost:8080/",
          "height": 134
        },
        "outputId": "77d9bad8-28ba-4d3e-ee68-c95b095327e0"
      },
      "source": [
        "print(soup.text)"
      ],
      "execution_count": 66,
      "outputs": [
        {
          "output_type": "stream",
          "text": [
            "\n",
            "\n",
            "Hello World\n",
            "This is link1\n",
            "This is link2\n",
            "\n",
            "\n"
          ],
          "name": "stdout"
        }
      ]
    },
    {
      "cell_type": "code",
      "metadata": {
        "id": "320UGdbY8X0O",
        "colab_type": "code",
        "colab": {
          "base_uri": "https://localhost:8080/",
          "height": 34
        },
        "outputId": "c4162801-096e-44c5-858f-77d03516c439"
      },
      "source": [
        "type(soup)"
      ],
      "execution_count": 68,
      "outputs": [
        {
          "output_type": "execute_result",
          "data": {
            "text/plain": [
              "bs4.BeautifulSoup"
            ]
          },
          "metadata": {
            "tags": []
          },
          "execution_count": 68
        }
      ]
    },
    {
      "cell_type": "code",
      "metadata": {
        "id": "wdUo2Hfj8uKy",
        "colab_type": "code",
        "colab": {
          "base_uri": "https://localhost:8080/",
          "height": 34
        },
        "outputId": "1a5d0a8d-54ea-40d6-f4f1-820f0b5abc62"
      },
      "source": [
        "h1 = soup.select_one('h1')\n",
        "h1"
      ],
      "execution_count": 70,
      "outputs": [
        {
          "output_type": "execute_result",
          "data": {
            "text/plain": [
              "<h1 id=\"title\">Hello World</h1>"
            ]
          },
          "metadata": {
            "tags": []
          },
          "execution_count": 70
        }
      ]
    },
    {
      "cell_type": "code",
      "metadata": {
        "id": "8QKkuTnS9AFl",
        "colab_type": "code",
        "colab": {
          "base_uri": "https://localhost:8080/",
          "height": 34
        },
        "outputId": "69b5cc5d-b05d-432d-fc8e-b9845051da20"
      },
      "source": [
        "type(h1)"
      ],
      "execution_count": 71,
      "outputs": [
        {
          "output_type": "execute_result",
          "data": {
            "text/plain": [
              "bs4.element.Tag"
            ]
          },
          "metadata": {
            "tags": []
          },
          "execution_count": 71
        }
      ]
    },
    {
      "cell_type": "code",
      "metadata": {
        "id": "Il8yH66E9D9o",
        "colab_type": "code",
        "colab": {
          "base_uri": "https://localhost:8080/",
          "height": 34
        },
        "outputId": "66808a8d-ff31-4fbf-e35f-6abc66de9ab0"
      },
      "source": [
        "h1.text"
      ],
      "execution_count": 72,
      "outputs": [
        {
          "output_type": "execute_result",
          "data": {
            "text/plain": [
              "'Hello World'"
            ]
          },
          "metadata": {
            "tags": []
          },
          "execution_count": 72
        }
      ]
    },
    {
      "cell_type": "code",
      "metadata": {
        "id": "xPh7Aldz9Hn3",
        "colab_type": "code",
        "colab": {
          "base_uri": "https://localhost:8080/",
          "height": 34
        },
        "outputId": "55e6321d-7dfc-4491-fdbd-f7523a9dab68"
      },
      "source": [
        "h1s = soup.select('h1')\n",
        "h1s"
      ],
      "execution_count": 75,
      "outputs": [
        {
          "output_type": "execute_result",
          "data": {
            "text/plain": [
              "[<h1 id=\"title\">Hello World</h1>]"
            ]
          },
          "metadata": {
            "tags": []
          },
          "execution_count": 75
        }
      ]
    },
    {
      "cell_type": "code",
      "metadata": {
        "id": "Qp0bzGfM9L5f",
        "colab_type": "code",
        "colab": {
          "base_uri": "https://localhost:8080/",
          "height": 34
        },
        "outputId": "5bc0261f-bf6f-4ff8-e0af-b308a300181a"
      },
      "source": [
        "type(h1s)"
      ],
      "execution_count": 76,
      "outputs": [
        {
          "output_type": "execute_result",
          "data": {
            "text/plain": [
              "list"
            ]
          },
          "metadata": {
            "tags": []
          },
          "execution_count": 76
        }
      ]
    },
    {
      "cell_type": "code",
      "metadata": {
        "id": "m3_vFudX9T8N",
        "colab_type": "code",
        "colab": {
          "base_uri": "https://localhost:8080/",
          "height": 34
        },
        "outputId": "ebd6ec5b-9f69-4d63-8f80-21361863756e"
      },
      "source": [
        "soup.select_one('a')"
      ],
      "execution_count": 77,
      "outputs": [
        {
          "output_type": "execute_result",
          "data": {
            "text/plain": [
              "<a class=\"link\" href=\"#\">This is link1</a>"
            ]
          },
          "metadata": {
            "tags": []
          },
          "execution_count": 77
        }
      ]
    },
    {
      "cell_type": "code",
      "metadata": {
        "id": "bgkwDf7e9hxD",
        "colab_type": "code",
        "colab": {
          "base_uri": "https://localhost:8080/",
          "height": 50
        },
        "outputId": "5de8dfb4-5876-4470-9066-f8ed5cbf7f19"
      },
      "source": [
        "for link in soup.select('a'):\n",
        "  print(link.text)"
      ],
      "execution_count": 79,
      "outputs": [
        {
          "output_type": "stream",
          "text": [
            "This is link1\n",
            "This is link2\n"
          ],
          "name": "stdout"
        }
      ]
    },
    {
      "cell_type": "code",
      "metadata": {
        "id": "WFbqGAjP9kOG",
        "colab_type": "code",
        "colab": {
          "base_uri": "https://localhost:8080/",
          "height": 34
        },
        "outputId": "1ccab4e1-08e6-4eb6-bb08-2e6e2d224958"
      },
      "source": [
        "# id => #\n",
        "soup.select_one('#title')"
      ],
      "execution_count": 80,
      "outputs": [
        {
          "output_type": "execute_result",
          "data": {
            "text/plain": [
              "<h1 id=\"title\">Hello World</h1>"
            ]
          },
          "metadata": {
            "tags": []
          },
          "execution_count": 80
        }
      ]
    },
    {
      "cell_type": "code",
      "metadata": {
        "id": "XIB4sZu--cUF",
        "colab_type": "code",
        "colab": {
          "base_uri": "https://localhost:8080/",
          "height": 34
        },
        "outputId": "b3f76c8d-eefc-4e66-f764-0976e792dd48"
      },
      "source": [
        "soup.select_one('h1#title')"
      ],
      "execution_count": 81,
      "outputs": [
        {
          "output_type": "execute_result",
          "data": {
            "text/plain": [
              "<h1 id=\"title\">Hello World</h1>"
            ]
          },
          "metadata": {
            "tags": []
          },
          "execution_count": 81
        }
      ]
    },
    {
      "cell_type": "code",
      "metadata": {
        "id": "2Guj-QM3-jhA",
        "colab_type": "code",
        "colab": {
          "base_uri": "https://localhost:8080/",
          "height": 34
        },
        "outputId": "1f433258-c042-4066-a194-c4054f100b31"
      },
      "source": [
        "soup.select_one('body h1#title')"
      ],
      "execution_count": 82,
      "outputs": [
        {
          "output_type": "execute_result",
          "data": {
            "text/plain": [
              "<h1 id=\"title\">Hello World</h1>"
            ]
          },
          "metadata": {
            "tags": []
          },
          "execution_count": 82
        }
      ]
    },
    {
      "cell_type": "code",
      "metadata": {
        "id": "iL_S7N-D-phC",
        "colab_type": "code",
        "colab": {
          "base_uri": "https://localhost:8080/",
          "height": 34
        },
        "outputId": "4de85b71-9482-4ff0-8708-673804582021"
      },
      "source": [
        "soup.select_one('body #title')"
      ],
      "execution_count": 83,
      "outputs": [
        {
          "output_type": "execute_result",
          "data": {
            "text/plain": [
              "<h1 id=\"title\">Hello World</h1>"
            ]
          },
          "metadata": {
            "tags": []
          },
          "execution_count": 83
        }
      ]
    },
    {
      "cell_type": "code",
      "metadata": {
        "id": "b2POu7Ce-s0U",
        "colab_type": "code",
        "colab": {
          "base_uri": "https://localhost:8080/",
          "height": 50
        },
        "outputId": "c1812909-645a-4452-86e0-515b01e3455e"
      },
      "source": [
        "# class => .\n",
        "soup.select('.link')"
      ],
      "execution_count": 84,
      "outputs": [
        {
          "output_type": "execute_result",
          "data": {
            "text/plain": [
              "[<a class=\"link\" href=\"#\">This is link1</a>,\n",
              " <a class=\"link\" href=\"# link2\">This is link2</a>]"
            ]
          },
          "metadata": {
            "tags": []
          },
          "execution_count": 84
        }
      ]
    },
    {
      "cell_type": "code",
      "metadata": {
        "id": "nceSVfeu-yO5",
        "colab_type": "code",
        "colab": {
          "base_uri": "https://localhost:8080/",
          "height": 50
        },
        "outputId": "9452c41b-424b-4d28-865e-abb9faa998ae"
      },
      "source": [
        "soup.select('a.link')"
      ],
      "execution_count": 85,
      "outputs": [
        {
          "output_type": "execute_result",
          "data": {
            "text/plain": [
              "[<a class=\"link\" href=\"#\">This is link1</a>,\n",
              " <a class=\"link\" href=\"# link2\">This is link2</a>]"
            ]
          },
          "metadata": {
            "tags": []
          },
          "execution_count": 85
        }
      ]
    },
    {
      "cell_type": "code",
      "metadata": {
        "id": "d6c0EM9r-2tS",
        "colab_type": "code",
        "colab": {
          "base_uri": "https://localhost:8080/",
          "height": 50
        },
        "outputId": "23502e99-256d-452e-cf11-dfe7e23992b7"
      },
      "source": [
        "soup.select('body a.link')"
      ],
      "execution_count": 86,
      "outputs": [
        {
          "output_type": "execute_result",
          "data": {
            "text/plain": [
              "[<a class=\"link\" href=\"#\">This is link1</a>,\n",
              " <a class=\"link\" href=\"# link2\">This is link2</a>]"
            ]
          },
          "metadata": {
            "tags": []
          },
          "execution_count": 86
        }
      ]
    },
    {
      "cell_type": "code",
      "metadata": {
        "id": "pj08KeCF-6W_",
        "colab_type": "code",
        "colab": {
          "base_uri": "https://localhost:8080/",
          "height": 50
        },
        "outputId": "e82eb99a-5ddd-470f-b82c-01788c64f463"
      },
      "source": [
        "for link in soup.select('a'):\n",
        "  print(link.get('href'))"
      ],
      "execution_count": 87,
      "outputs": [
        {
          "output_type": "stream",
          "text": [
            "#\n",
            "# link2\n"
          ],
          "name": "stdout"
        }
      ]
    },
    {
      "cell_type": "code",
      "metadata": {
        "id": "lk1bo6Ct_WBY",
        "colab_type": "code",
        "colab": {}
      },
      "source": [
        "import requests\n",
        "res = requests.get('https://zh.wikipedia.org/zh-tw/2019%E5%86%A0%E7%8A%B6%E7%97%85%E6%AF%92%E7%97%85')"
      ],
      "execution_count": 0,
      "outputs": []
    },
    {
      "cell_type": "code",
      "metadata": {
        "id": "KtPcR6wn_p5q",
        "colab_type": "code",
        "colab": {}
      },
      "source": [
        "from bs4 import BeautifulSoup\n",
        "soup = BeautifulSoup(res.text, 'lxml')"
      ],
      "execution_count": 0,
      "outputs": []
    },
    {
      "cell_type": "code",
      "metadata": {
        "id": "2hcwcG4F_w78",
        "colab_type": "code",
        "colab": {
          "base_uri": "https://localhost:8080/",
          "height": 34
        },
        "outputId": "e5b0a7bc-7cbf-4d35-f39f-0fb20cd6f5d3"
      },
      "source": [
        "soup.select_one('h1#firstHeading').text"
      ],
      "execution_count": 98,
      "outputs": [
        {
          "output_type": "execute_result",
          "data": {
            "text/plain": [
              "'嚴重特殊傳染性肺炎'"
            ]
          },
          "metadata": {
            "tags": []
          },
          "execution_count": 98
        }
      ]
    },
    {
      "cell_type": "markdown",
      "metadata": {
        "id": "-5jPyKchB68b",
        "colab_type": "text"
      },
      "source": [
        "## 經濟日報爬蟲"
      ]
    },
    {
      "cell_type": "code",
      "metadata": {
        "id": "DFtmVz39ANHa",
        "colab_type": "code",
        "colab": {
          "base_uri": "https://localhost:8080/",
          "height": 34
        },
        "outputId": "795f91a1-7698-4e52-8b0b-698a678b7052"
      },
      "source": [
        "import requests\n",
        "res = requests.get('https://money.udn.com/money/breaknews/1001')\n",
        "res"
      ],
      "execution_count": 99,
      "outputs": [
        {
          "output_type": "execute_result",
          "data": {
            "text/plain": [
              "<Response [200]>"
            ]
          },
          "metadata": {
            "tags": []
          },
          "execution_count": 99
        }
      ]
    },
    {
      "cell_type": "code",
      "metadata": {
        "id": "Yfs3T23cB_on",
        "colab_type": "code",
        "colab": {}
      },
      "source": [
        "#res.text"
      ],
      "execution_count": 0,
      "outputs": []
    },
    {
      "cell_type": "markdown",
      "metadata": {
        "id": "FLtYTeFQCT00",
        "colab_type": "text"
      },
      "source": [
        "<table>\n",
        "  <tr> <th>col1</th> <th>col2</th> </tr>\n",
        "  <tr> <td>val1</td> <td>val2</td> </tr>\n",
        "  <tr> <td>val3</td> <td>val4</td> </tr>\n",
        "</table>"
      ]
    },
    {
      "cell_type": "code",
      "metadata": {
        "id": "6uTabQoUCC6K",
        "colab_type": "code",
        "colab": {}
      },
      "source": [
        "from bs4 import BeautifulSoup\n",
        "soup = BeautifulSoup(res.text, 'lxml')"
      ],
      "execution_count": 0,
      "outputs": []
    },
    {
      "cell_type": "code",
      "metadata": {
        "id": "0hsxUqTTDBVT",
        "colab_type": "code",
        "colab": {
          "base_uri": "https://localhost:8080/",
          "height": 1000
        },
        "outputId": "83772bb3-89e4-4a96-a77b-0fbe4fdc6a9d"
      },
      "source": [
        "for tr in soup.select('#ranking_body tr'):\n",
        "  #print(tr)\n",
        "  #print('=================================')\n",
        "  #print(tr.select('td'))\n",
        "  if tr.select('td'):\n",
        "    td = tr.select('td')\n",
        "    print(td[0].text.strip(), td[1].text.strip(), td[2].text.strip())\n"
      ],
      "execution_count": 122,
      "outputs": [
        {
          "output_type": "stream",
          "text": [
            "下周一起入境檢疫處須通報 偷與慢性病患同住罰15萬 產業 05/02 14:13\n",
            "武漢肺炎新增3例達432例  連20天無本土病例 產業 05/02 14:12\n",
            "「+0」七連霸失敗 台灣新增3例境外移入確診 產業 05/02 14:08\n",
            "美國約半數州解封 商家嘆：來客少總比沒有好 國際 05/02 14:06\n",
            "新加坡放寬阻斷措施 5日部分行業恢復營運 國際 05/02 14:00\n",
            "李進勇：罷免案應1823投開票所  中央全力協助 產業 05/02 14:00\n",
            "日本醫院通報新冠病例 竟要以手寫傳真 國際 05/02 13:52\n",
            "高雄可寧衛廠房失火 疑爐渣餘溫引燃玻璃纖維浪板 產業 05/02 13:51\n",
            "連假第2天...國道連環追撞車禍釀7傷！網驚：好可怕 產業 05/02 13:51\n",
            "殺警凶嫌判無罪 立委建議重大刑案要有2鑑定人 產業 05/02 13:45\n",
            "生產芭比娃娃的美泰兒推抗疫英雄公仔　感謝第一線人員 國際 05/02 13:40\n",
            "你領了嗎？自營業者3萬補助、2周逾100萬人申請 產業 05/02 13:36\n",
            "陳時中投書印媒：台灣應被納入世衛組織 產業 05/02 13:30\n",
            "勞動基金首季慘賠 蘇貞昌：僅受疫情一時衝擊 產業 05/02 13:28\n",
            "國民黨拚年輕數位化  開發App與黨員互動 產業 05/02 13:21\n",
            "技專統測上午秩序良好 1生使用備用試場 產業 05/02 13:12\n",
            "疫情後醫院恐不能隨意進出 醫界有意留下陪探病限額制 產業 05/02 13:10\n",
            "川普稱病毒來自武漢實驗室 世衛重申：源於自然 國際 05/02 13:06\n",
            "日本離島台籍醫生求援口罩 駐日處人員省著用捐給他 產業 05/02 13:06\n",
            "台幹搞兩岸地下匯兌23億 桃園夫妻遭判七年多 產業 05/02 13:05\n",
            "歐盟疫情報告遭中國施壓？范德賴恩否認自我審查 國際 05/02 13:05\n",
            "「嘉玲」七連霸失敗？傳又現疑似個案 14時記者會說明 產業 05/02 13:03\n",
            "宵禁下的泰國台廠直擊（二） ：不畏疫情生產照走 泰鼎靠八個原則+加倍給薪 產業 05/02 12:48\n",
            "菲律賓駐台代表：總統發言人不該挑釁台灣 國際 05/02 12:45\n",
            "防疫宅經濟發威 他月賣百台大電視 房產 05/02 12:36\n",
            "韓國連4天確診個位數 本土新增掛零 國際 05/02 12:36\n",
            "教育部補助技能競賽選手訓練費 25人受惠 產業 05/02 12:36\n",
            "宵禁下的泰國台廠直擊（一） ：泰鼎防疫超前穩軍心 自製口罩給員工 產業 05/02 12:36\n",
            "槍擊案痛定思痛  加拿大禁止軍事級攻擊武器 國際 05/02 12:30\n",
            "新冠肺炎病患提供血液助研究 生技公司卻高價轉賣 國際 05/02 12:27\n",
            "香港逐漸走出疫情陰霾 但反送中威脅未除 兩岸 05/02 12:21\n",
            "援鄂抗疫醫護被裁員引爭議 咸陽衛健委介入調查 兩岸 05/02 12:12\n",
            "巧奪天工 彰化縣又6名傳統工藝大師被認定文資瑰寶 產業 05/02 12:10\n",
            "「連睡覺也戴口罩」 防疫意外收穫 腸病毒、流感大減八成 產業 05/02 12:09\n",
            "大溪老街人潮僅連假首日一半 店家：人潮滿滿只是假像 產業 05/02 12:06\n",
            "可寧衛蘇伊士焚化廠失火冒煙  高雄環保局將依法裁罰 產業 05/02 12:06\n",
            "阿根廷防疫採視訊教學  逾六成私校老師沒自用電腦 國際 05/02 12:06\n",
            "1955專線日湧3萬通電話 勞長：可多利用網站、臉書 產業 05/02 12:05\n",
            "高雄甲仙已飆36度 氣象局對三縣市發高溫黃色燈號 產業 05/02 12:03\n",
            "罷韓團體陳情 李進勇提三原則允設足投開票所 產業 05/02 12:00\n",
            "「嘉玲」是否七連霸？ 指揮中心下午2時記者會 產業 05/02 11:59\n",
            "防疫期間移工轉出不可歸責雇主 免受2年管制 產業 05/02 11:54\n",
            "國際網紅新影片 讚台灣獨力抗疫是英雄 產業 05/02 11:54\n",
            "餐飲集團拚外送 布局疫情後回溫商機 產業 05/02 11:54\n",
            "廚浴臥都在書店如劏房 林榮基：銅鑼灣其實是台灣人開 產業 05/02 11:48\n",
            "全民發1萬 港府：6月底申請、7月發錢 兩岸 05/02 11:47\n",
            "殺警案 醫師沈正哲：個案鑑定是醫療團隊完成非1名醫師 產業 05/02 11:46\n",
            "德國郵輪一船員染疫 近3000人船上隔離 國際 05/02 11:45\n",
            "【樂為良專欄】追趕美國 回收火箭重複使用 會員專區 05/02 11:44\n",
            "不敵新冠肺炎 MLB太空人短期1A老闆享壽88歲 國際 05/02 11:38\n",
            "台跨界揚琴好手謝惠如 連續獲美國印度音樂大獎 國際 05/02 11:30\n",
            "勞動基金首季大虧 蘇貞昌：受疫情一時衝擊 產業 05/02 11:30\n",
            "國會助理高壓高工時 工會盼爭取提升勞動權益 產業 05/02 11:30\n",
            "陸新增1例確診新冠肺炎 新增無症狀感染者20例 兩岸 05/02 11:29\n",
            "千萬網紅與阿滴合作推短片談台灣防疫成果 蔡總統分享 產業 05/02 11:29\n",
            "紙袋廠靠水果套袋成台灣隱形冠軍 還加入口罩國家隊 產業 05/02 11:29\n",
            "鑑定僅供司法參考 台灣因鑑定獲無罪比率遠低於美國 產業 05/02 11:28\n",
            "科學家研究出新冠病毒檢測方法 感染後24小時就能辨識 國際 05/02 11:28\n",
            "1968App北投市場周邊亮黃燈 市場自治會：系統不準 產業 05/02 11:28\n",
            "1968App遭黃偉哲罵翻 蘇貞昌：應少罵多合作 產業 05/02 11:28\n"
          ],
          "name": "stdout"
        }
      ]
    },
    {
      "cell_type": "code",
      "metadata": {
        "id": "yoKncOiJFLAP",
        "colab_type": "code",
        "colab": {
          "base_uri": "https://localhost:8080/",
          "height": 1000
        },
        "outputId": "3cf6bdfb-62a6-467e-fb43-8a0c6f485ae0"
      },
      "source": [
        "for tr in soup.select('#ranking_body tr'):\n",
        "  if tr.select('td'):\n",
        "    td = tr.select('td')\n",
        "    title = td[0].text.strip()\n",
        "    category = td[1].text.strip()\n",
        "    dt = td[2].text.strip()\n",
        "    print(title, category, dt)\n"
      ],
      "execution_count": 123,
      "outputs": [
        {
          "output_type": "stream",
          "text": [
            "下周一起入境檢疫處須通報 偷與慢性病患同住罰15萬 產業 05/02 14:13\n",
            "武漢肺炎新增3例達432例  連20天無本土病例 產業 05/02 14:12\n",
            "「+0」七連霸失敗 台灣新增3例境外移入確診 產業 05/02 14:08\n",
            "美國約半數州解封 商家嘆：來客少總比沒有好 國際 05/02 14:06\n",
            "新加坡放寬阻斷措施 5日部分行業恢復營運 國際 05/02 14:00\n",
            "李進勇：罷免案應1823投開票所  中央全力協助 產業 05/02 14:00\n",
            "日本醫院通報新冠病例 竟要以手寫傳真 國際 05/02 13:52\n",
            "高雄可寧衛廠房失火 疑爐渣餘溫引燃玻璃纖維浪板 產業 05/02 13:51\n",
            "連假第2天...國道連環追撞車禍釀7傷！網驚：好可怕 產業 05/02 13:51\n",
            "殺警凶嫌判無罪 立委建議重大刑案要有2鑑定人 產業 05/02 13:45\n",
            "生產芭比娃娃的美泰兒推抗疫英雄公仔　感謝第一線人員 國際 05/02 13:40\n",
            "你領了嗎？自營業者3萬補助、2周逾100萬人申請 產業 05/02 13:36\n",
            "陳時中投書印媒：台灣應被納入世衛組織 產業 05/02 13:30\n",
            "勞動基金首季慘賠 蘇貞昌：僅受疫情一時衝擊 產業 05/02 13:28\n",
            "國民黨拚年輕數位化  開發App與黨員互動 產業 05/02 13:21\n",
            "技專統測上午秩序良好 1生使用備用試場 產業 05/02 13:12\n",
            "疫情後醫院恐不能隨意進出 醫界有意留下陪探病限額制 產業 05/02 13:10\n",
            "川普稱病毒來自武漢實驗室 世衛重申：源於自然 國際 05/02 13:06\n",
            "日本離島台籍醫生求援口罩 駐日處人員省著用捐給他 產業 05/02 13:06\n",
            "台幹搞兩岸地下匯兌23億 桃園夫妻遭判七年多 產業 05/02 13:05\n",
            "歐盟疫情報告遭中國施壓？范德賴恩否認自我審查 國際 05/02 13:05\n",
            "「嘉玲」七連霸失敗？傳又現疑似個案 14時記者會說明 產業 05/02 13:03\n",
            "宵禁下的泰國台廠直擊（二） ：不畏疫情生產照走 泰鼎靠八個原則+加倍給薪 產業 05/02 12:48\n",
            "菲律賓駐台代表：總統發言人不該挑釁台灣 國際 05/02 12:45\n",
            "防疫宅經濟發威 他月賣百台大電視 房產 05/02 12:36\n",
            "韓國連4天確診個位數 本土新增掛零 國際 05/02 12:36\n",
            "教育部補助技能競賽選手訓練費 25人受惠 產業 05/02 12:36\n",
            "宵禁下的泰國台廠直擊（一） ：泰鼎防疫超前穩軍心 自製口罩給員工 產業 05/02 12:36\n",
            "槍擊案痛定思痛  加拿大禁止軍事級攻擊武器 國際 05/02 12:30\n",
            "新冠肺炎病患提供血液助研究 生技公司卻高價轉賣 國際 05/02 12:27\n",
            "香港逐漸走出疫情陰霾 但反送中威脅未除 兩岸 05/02 12:21\n",
            "援鄂抗疫醫護被裁員引爭議 咸陽衛健委介入調查 兩岸 05/02 12:12\n",
            "巧奪天工 彰化縣又6名傳統工藝大師被認定文資瑰寶 產業 05/02 12:10\n",
            "「連睡覺也戴口罩」 防疫意外收穫 腸病毒、流感大減八成 產業 05/02 12:09\n",
            "大溪老街人潮僅連假首日一半 店家：人潮滿滿只是假像 產業 05/02 12:06\n",
            "可寧衛蘇伊士焚化廠失火冒煙  高雄環保局將依法裁罰 產業 05/02 12:06\n",
            "阿根廷防疫採視訊教學  逾六成私校老師沒自用電腦 國際 05/02 12:06\n",
            "1955專線日湧3萬通電話 勞長：可多利用網站、臉書 產業 05/02 12:05\n",
            "高雄甲仙已飆36度 氣象局對三縣市發高溫黃色燈號 產業 05/02 12:03\n",
            "罷韓團體陳情 李進勇提三原則允設足投開票所 產業 05/02 12:00\n",
            "「嘉玲」是否七連霸？ 指揮中心下午2時記者會 產業 05/02 11:59\n",
            "防疫期間移工轉出不可歸責雇主 免受2年管制 產業 05/02 11:54\n",
            "國際網紅新影片 讚台灣獨力抗疫是英雄 產業 05/02 11:54\n",
            "餐飲集團拚外送 布局疫情後回溫商機 產業 05/02 11:54\n",
            "廚浴臥都在書店如劏房 林榮基：銅鑼灣其實是台灣人開 產業 05/02 11:48\n",
            "全民發1萬 港府：6月底申請、7月發錢 兩岸 05/02 11:47\n",
            "殺警案 醫師沈正哲：個案鑑定是醫療團隊完成非1名醫師 產業 05/02 11:46\n",
            "德國郵輪一船員染疫 近3000人船上隔離 國際 05/02 11:45\n",
            "【樂為良專欄】追趕美國 回收火箭重複使用 會員專區 05/02 11:44\n",
            "不敵新冠肺炎 MLB太空人短期1A老闆享壽88歲 國際 05/02 11:38\n",
            "台跨界揚琴好手謝惠如 連續獲美國印度音樂大獎 國際 05/02 11:30\n",
            "勞動基金首季大虧 蘇貞昌：受疫情一時衝擊 產業 05/02 11:30\n",
            "國會助理高壓高工時 工會盼爭取提升勞動權益 產業 05/02 11:30\n",
            "陸新增1例確診新冠肺炎 新增無症狀感染者20例 兩岸 05/02 11:29\n",
            "千萬網紅與阿滴合作推短片談台灣防疫成果 蔡總統分享 產業 05/02 11:29\n",
            "紙袋廠靠水果套袋成台灣隱形冠軍 還加入口罩國家隊 產業 05/02 11:29\n",
            "鑑定僅供司法參考 台灣因鑑定獲無罪比率遠低於美國 產業 05/02 11:28\n",
            "科學家研究出新冠病毒檢測方法 感染後24小時就能辨識 國際 05/02 11:28\n",
            "1968App北投市場周邊亮黃燈 市場自治會：系統不準 產業 05/02 11:28\n",
            "1968App遭黃偉哲罵翻 蘇貞昌：應少罵多合作 產業 05/02 11:28\n"
          ],
          "name": "stdout"
        }
      ]
    },
    {
      "cell_type": "markdown",
      "metadata": {
        "id": "uFaE24QLFq1X",
        "colab_type": "text"
      },
      "source": [
        "## 小任務\n",
        "- 請協助我抽取連結出來?"
      ]
    },
    {
      "cell_type": "code",
      "metadata": {
        "id": "nRoI3rkDLwgZ",
        "colab_type": "code",
        "colab": {
          "base_uri": "https://localhost:8080/",
          "height": 1000
        },
        "outputId": "9fa45190-06d0-41ea-ac83-38d1bcc18a4a"
      },
      "source": [
        "for tr in soup.select('#ranking_body tr'):\n",
        "  if tr.select('td'):\n",
        "    td = tr.select('td')\n",
        "    link = td[0].select_one('a').get('href')\n",
        "    title = td[0].text.strip()\n",
        "    category = td[1].text.strip()\n",
        "    dt = td[2].text.strip()\n",
        "    print(title, category, dt, link)\n"
      ],
      "execution_count": 128,
      "outputs": [
        {
          "output_type": "stream",
          "text": [
            "下周一起入境檢疫處須通報 偷與慢性病患同住罰15萬 產業 05/02 14:13 https://money.udn.com/money/story/5658/4534731\n",
            "武漢肺炎新增3例達432例  連20天無本土病例 產業 05/02 14:12 https://money.udn.com/money/story/7307/4534733\n",
            "「+0」七連霸失敗 台灣新增3例境外移入確診 產業 05/02 14:08 https://money.udn.com/money/story/5658/4534727\n",
            "美國約半數州解封 商家嘆：來客少總比沒有好 國際 05/02 14:06 https://money.udn.com/money/story/5599/4534724\n",
            "新加坡放寬阻斷措施 5日部分行業恢復營運 國際 05/02 14:00 https://money.udn.com/money/story/5599/4534722\n",
            "李進勇：罷免案應1823投開票所  中央全力協助 產業 05/02 14:00 https://money.udn.com/money/story/7307/4534721\n",
            "日本醫院通報新冠病例 竟要以手寫傳真 國際 05/02 13:52 https://money.udn.com/money/story/5599/4534709\n",
            "高雄可寧衛廠房失火 疑爐渣餘溫引燃玻璃纖維浪板 產業 05/02 13:51 https://money.udn.com/money/story/12524/4534682\n",
            "連假第2天...國道連環追撞車禍釀7傷！網驚：好可怕 產業 05/02 13:51 https://money.udn.com/money/story/12524/4534707\n",
            "殺警凶嫌判無罪 立委建議重大刑案要有2鑑定人 產業 05/02 13:45 https://money.udn.com/money/story/7307/4534706\n",
            "生產芭比娃娃的美泰兒推抗疫英雄公仔　感謝第一線人員 國際 05/02 13:40 https://money.udn.com/money/story/5599/4534698\n",
            "你領了嗎？自營業者3萬補助、2周逾100萬人申請 產業 05/02 13:36 https://money.udn.com/money/story/5648/4534691\n",
            "陳時中投書印媒：台灣應被納入世衛組織 產業 05/02 13:30 https://money.udn.com/money/story/7307/4534689\n",
            "勞動基金首季慘賠 蘇貞昌：僅受疫情一時衝擊 產業 05/02 13:28 https://money.udn.com/money/story/5648/4534686\n",
            "國民黨拚年輕數位化  開發App與黨員互動 產業 05/02 13:21 https://money.udn.com/money/story/7307/4534651\n",
            "技專統測上午秩序良好 1生使用備用試場 產業 05/02 13:12 https://money.udn.com/money/story/7307/4534643\n",
            "疫情後醫院恐不能隨意進出 醫界有意留下陪探病限額制 產業 05/02 13:10 https://money.udn.com/money/story/5658/4534478\n",
            "川普稱病毒來自武漢實驗室 世衛重申：源於自然 國際 05/02 13:06 https://money.udn.com/money/story/5599/4534636\n",
            "日本離島台籍醫生求援口罩 駐日處人員省著用捐給他 產業 05/02 13:06 https://money.udn.com/money/story/5658/4534599\n",
            "台幹搞兩岸地下匯兌23億 桃園夫妻遭判七年多 產業 05/02 13:05 https://money.udn.com/money/story/12524/4534490\n",
            "歐盟疫情報告遭中國施壓？范德賴恩否認自我審查 國際 05/02 13:05 https://money.udn.com/money/story/5599/4534635\n",
            "「嘉玲」七連霸失敗？傳又現疑似個案 14時記者會說明 產業 05/02 13:03 https://money.udn.com/money/story/5658/4534601\n",
            "宵禁下的泰國台廠直擊（二） ：不畏疫情生產照走 泰鼎靠八個原則+加倍給薪 產業 05/02 12:48 https://money.udn.com/money/story/5612/4534598\n",
            "菲律賓駐台代表：總統發言人不該挑釁台灣 國際 05/02 12:45 https://money.udn.com/money/story/5599/4534597\n",
            "防疫宅經濟發威 他月賣百台大電視 房產 05/02 12:36 https://money.udn.com/money/story/5621/4534553\n",
            "韓國連4天確診個位數 本土新增掛零 國際 05/02 12:36 https://money.udn.com/money/story/5599/4534556\n",
            "教育部補助技能競賽選手訓練費 25人受惠 產業 05/02 12:36 https://money.udn.com/money/story/7307/4534557\n",
            "宵禁下的泰國台廠直擊（一） ：泰鼎防疫超前穩軍心 自製口罩給員工 產業 05/02 12:36 https://money.udn.com/money/story/5612/4534481\n",
            "槍擊案痛定思痛  加拿大禁止軍事級攻擊武器 國際 05/02 12:30 https://money.udn.com/money/story/5599/4534533\n",
            "新冠肺炎病患提供血液助研究 生技公司卻高價轉賣 國際 05/02 12:27 https://money.udn.com/money/story/5599/4534523\n",
            "香港逐漸走出疫情陰霾 但反送中威脅未除 兩岸 05/02 12:21 https://money.udn.com/money/story/5603/4534497\n",
            "援鄂抗疫醫護被裁員引爭議 咸陽衛健委介入調查 兩岸 05/02 12:12 https://money.udn.com/money/story/5603/4534465\n",
            "巧奪天工 彰化縣又6名傳統工藝大師被認定文資瑰寶 產業 05/02 12:10 https://money.udn.com/money/story/6709/4534451\n",
            "「連睡覺也戴口罩」 防疫意外收穫 腸病毒、流感大減八成 產業 05/02 12:09 https://money.udn.com/money/story/5658/4534456\n",
            "大溪老街人潮僅連假首日一半 店家：人潮滿滿只是假像 產業 05/02 12:06 https://money.udn.com/money/story/12524/4534436\n",
            "可寧衛蘇伊士焚化廠失火冒煙  高雄環保局將依法裁罰 產業 05/02 12:06 https://money.udn.com/money/story/12524/4534442\n",
            "阿根廷防疫採視訊教學  逾六成私校老師沒自用電腦 國際 05/02 12:06 https://money.udn.com/money/story/5599/4534449\n",
            "1955專線日湧3萬通電話 勞長：可多利用網站、臉書 產業 05/02 12:05 https://money.udn.com/money/story/12524/4534434\n",
            "高雄甲仙已飆36度 氣象局對三縣市發高溫黃色燈號 產業 05/02 12:03 https://money.udn.com/money/story/12524/4534426\n",
            "罷韓團體陳情 李進勇提三原則允設足投開票所 產業 05/02 12:00 https://money.udn.com/money/story/7307/4534423\n",
            "「嘉玲」是否七連霸？ 指揮中心下午2時記者會 產業 05/02 11:59 https://money.udn.com/money/story/5658/4534412\n",
            "防疫期間移工轉出不可歸責雇主 免受2年管制 產業 05/02 11:54 https://money.udn.com/money/story/7307/4534418\n",
            "國際網紅新影片 讚台灣獨力抗疫是英雄 產業 05/02 11:54 https://money.udn.com/money/story/5648/4534417\n",
            "餐飲集團拚外送 布局疫情後回溫商機 產業 05/02 11:54 https://money.udn.com/money/story/5612/4534415\n",
            "廚浴臥都在書店如劏房 林榮基：銅鑼灣其實是台灣人開 產業 05/02 11:48 https://money.udn.com/money/story/5648/4534401\n",
            "全民發1萬 港府：6月底申請、7月發錢 兩岸 05/02 11:47 https://money.udn.com/money/story/5603/4534406\n",
            "殺警案 醫師沈正哲：個案鑑定是醫療團隊完成非1名醫師 產業 05/02 11:46 https://money.udn.com/money/story/5648/4534372\n",
            "德國郵輪一船員染疫 近3000人船上隔離 國際 05/02 11:45 https://money.udn.com/money/story/5599/4534403\n",
            "【樂為良專欄】追趕美國 回收火箭重複使用 會員專區 05/02 11:44 https://money.udn.com/money/story/12952/4534362\n",
            "不敵新冠肺炎 MLB太空人短期1A老闆享壽88歲 國際 05/02 11:38 https://money.udn.com/money/story/5599/4534348\n",
            "台跨界揚琴好手謝惠如 連續獲美國印度音樂大獎 國際 05/02 11:30 https://money.udn.com/money/story/10511/4534342\n",
            "勞動基金首季大虧 蘇貞昌：受疫情一時衝擊 產業 05/02 11:30 https://money.udn.com/money/story/7307/4534341\n",
            "國會助理高壓高工時 工會盼爭取提升勞動權益 產業 05/02 11:30 https://money.udn.com/money/story/7307/4534345\n",
            "陸新增1例確診新冠肺炎 新增無症狀感染者20例 兩岸 05/02 11:29 https://money.udn.com/money/story/5603/4534174\n",
            "千萬網紅與阿滴合作推短片談台灣防疫成果 蔡總統分享 產業 05/02 11:29 https://money.udn.com/money/story/7307/4534230\n",
            "紙袋廠靠水果套袋成台灣隱形冠軍 還加入口罩國家隊 產業 05/02 11:29 https://money.udn.com/money/story/5612/4534265\n",
            "鑑定僅供司法參考 台灣因鑑定獲無罪比率遠低於美國 產業 05/02 11:28 https://money.udn.com/money/story/7307/4534214\n",
            "科學家研究出新冠病毒檢測方法 感染後24小時就能辨識 國際 05/02 11:28 https://money.udn.com/money/story/5599/4534329\n",
            "1968App北投市場周邊亮黃燈 市場自治會：系統不準 產業 05/02 11:28 https://money.udn.com/money/story/7307/4534238\n",
            "1968App遭黃偉哲罵翻 蘇貞昌：應少罵多合作 產業 05/02 11:28 https://money.udn.com/money/story/7307/4534241\n"
          ],
          "name": "stdout"
        }
      ]
    },
    {
      "cell_type": "code",
      "metadata": {
        "id": "t1b-9hQwEHqA",
        "colab_type": "code",
        "colab": {
          "base_uri": "https://localhost:8080/",
          "height": 34
        },
        "outputId": "e733decb-bdb2-4b09-e899-bd1732136c4e"
      },
      "source": [
        "#if True:\n",
        "#if '1':\n",
        "#if [1]:\n",
        "if {'a':1}:\n",
        "  print('this is true')"
      ],
      "execution_count": 117,
      "outputs": [
        {
          "output_type": "stream",
          "text": [
            "this is true\n"
          ],
          "name": "stdout"
        }
      ]
    },
    {
      "cell_type": "code",
      "metadata": {
        "id": "zILaoE6NDDCO",
        "colab_type": "code",
        "colab": {}
      },
      "source": [
        "#if False:\n",
        "#if None:\n",
        "#if []:\n",
        "if {}:\n",
        "  print('this is True')"
      ],
      "execution_count": 0,
      "outputs": []
    },
    {
      "cell_type": "markdown",
      "metadata": {
        "id": "3ZS4d9UuNW3V",
        "colab_type": "text"
      },
      "source": [
        "###內文解析"
      ]
    },
    {
      "cell_type": "code",
      "metadata": {
        "id": "Uw-6yKAcEMeC",
        "colab_type": "code",
        "colab": {}
      },
      "source": [
        "import requests\n",
        "res = requests.get('https://money.udn.com/money/story/5658/4534727')"
      ],
      "execution_count": 0,
      "outputs": []
    },
    {
      "cell_type": "code",
      "metadata": {
        "id": "PD38mltRNtEP",
        "colab_type": "code",
        "colab": {}
      },
      "source": [
        "#res.text"
      ],
      "execution_count": 0,
      "outputs": []
    },
    {
      "cell_type": "code",
      "metadata": {
        "id": "RTK5TPuzNuTE",
        "colab_type": "code",
        "colab": {}
      },
      "source": [
        "from bs4 import BeautifulSoup\n",
        "soup = BeautifulSoup(res.text, 'lxml')"
      ],
      "execution_count": 0,
      "outputs": []
    },
    {
      "cell_type": "code",
      "metadata": {
        "id": "9ioviHW_OM8C",
        "colab_type": "code",
        "colab": {
          "base_uri": "https://localhost:8080/",
          "height": 34
        },
        "outputId": "76af523a-92dd-43ea-b23d-4822e23b465d"
      },
      "source": [
        "soup.select_one('h2#story_art_title').text"
      ],
      "execution_count": 136,
      "outputs": [
        {
          "output_type": "execute_result",
          "data": {
            "text/plain": [
              "'「+0」七連霸失敗 台灣新增3例境外移入確診'"
            ]
          },
          "metadata": {
            "tags": []
          },
          "execution_count": 136
        }
      ]
    },
    {
      "cell_type": "code",
      "metadata": {
        "id": "RIDH6N_YOUZX",
        "colab_type": "code",
        "colab": {
          "base_uri": "https://localhost:8080/",
          "height": 54
        },
        "outputId": "7a3407cd-293b-491a-b1a1-d59b5d6ffdad"
      },
      "source": [
        "soup.select_one('#article_body').text"
      ],
      "execution_count": 138,
      "outputs": [
        {
          "output_type": "execute_result",
          "data": {
            "text/plain": [
              "'\\n\\n中央流行疫情指揮中心今日公布國內新增3例境外移入病例，疫情指揮中心指揮官陳時中上月15日曾表示，達「一周零確診」就能恢復整個經濟活動，「七零」夢滅。報系資料照facebook\\r\\n我國連續六天未出現新冠肺炎病例，連續20天無本土個案，顯示社區感染風險低。中央流行疫情指揮中心今日公布國內新增3例境外移入病例，疫情指揮中心指揮官陳時中上月15日曾表示，達「一周零確診」就能恢復整個經濟活動，「七零」夢滅。\\n\\r\\n指揮中心指揮官陳時中表示，新增3例確診，均為境外移入，分別為60多歲女性（案430）、30多歲女性（案431）及40多歲男性（案432）。\\n.inline-ad { position: relative; overflow: hidden; box-sizing: border-box; }\\r\\n.inline-ad div { margin: auto; text-align: center; }\\r\\n.inline-ad iframe { margin: auto; display: block; /*width: auto !important;*/ }\\r\\n.inline-ad div[id^=google_ads_iframe] {\\r\\n padding: 50px 0 30px !important; box-sizing: border-box; height: auto !important;\\r\\n}\\r\\n\\r\\n.before_Amnet {\\r\\n    font-size:18px;\\r\\n    color:#999; \\r\\n    text-align:left; \\r\\n    border-top: 1px solid #d9d9d9;\\r\\n    width: 100%;\\r\\n    position:  relative;\\r\\n    top: 20px;\\r\\n    left: 0;\\r\\n    margin:15px 0 15px;\\r\\n    display:none;\\r\\n}\\r\\n.after_Amnet {\\r\\n    color:#999;\\r\\n    border-top: 1px solid #d9d9d9;\\r\\n    width: 100%;\\r\\n    position: relative;\\r\\n    bottom: -10px;\\r\\n    left: 0;\\r\\n    display:none;\\r\\n    margin:15px 0 15px;\\r\\n}\\r\\n.innity-apps-reset { padding: 20px 0 0 !important; margin: -20px auto -10px !important; }\\r\\n\\n推薦\\n\\n\\n\\n\\n\\r\\n陳時中表示，案430於2月22日獨自由台灣前往澳洲旅遊，3月24日自澳洲前往日本，4月9日起反覆出現發燒、咳嗽、嘔吐症狀，4月30日返國入境時主動告知曾有症狀，由機場檢疫人員採檢通報，於今日確診。\\n\\r\\n案431與432為一對夫婦，2月11日至塞內加爾工作，並陸續於4月26日、27日出現全身倦怠及咳嗽等症狀，兩人5月1日返國入境時因仍有咳嗽症狀，由機場檢疫人員採檢通報，於今日確診。\\n '"
            ]
          },
          "metadata": {
            "tags": []
          },
          "execution_count": 138
        }
      ]
    },
    {
      "cell_type": "code",
      "metadata": {
        "id": "f2_psyqvO45O",
        "colab_type": "code",
        "colab": {}
      },
      "source": [
        "contents = []\n",
        "for p in soup.select('#article_body p'):\n",
        "  contents.append(p.text)"
      ],
      "execution_count": 0,
      "outputs": []
    },
    {
      "cell_type": "code",
      "metadata": {
        "id": "0fqbXNDgPJjm",
        "colab_type": "code",
        "colab": {
          "base_uri": "https://localhost:8080/",
          "height": 205
        },
        "outputId": "186e14bf-2cbb-4611-ce16-5fc2566b7f1a"
      },
      "source": [
        "contents"
      ],
      "execution_count": 141,
      "outputs": [
        {
          "output_type": "execute_result",
          "data": {
            "text/plain": [
              "['',\n",
              " '\\n中央流行疫情指揮中心今日公布國內新增3例境外移入病例，疫情指揮中心指揮官陳時中上月15日曾表示，達「一周零確診」就能恢復整個經濟活動，「七零」夢滅。報系資料照facebook',\n",
              " '\\r\\n我國連續六天未出現新冠肺炎病例，連續20天無本土個案，顯示社區感染風險低。中央流行疫情指揮中心今日公布國內新增3例境外移入病例，疫情指揮中心指揮官陳時中上月15日曾表示，達「一周零確診」就能恢復整個經濟活動，「七零」夢滅。',\n",
              " '\\n',\n",
              " '\\r\\n指揮中心指揮官陳時中表示，新增3例確診，均為境外移入，分別為60多歲女性（案430）、30多歲女性（案431）及40多歲男性（案432）。',\n",
              " '\\n',\n",
              " '\\r\\n陳時中表示，案430於2月22日獨自由台灣前往澳洲旅遊，3月24日自澳洲前往日本，4月9日起反覆出現發燒、咳嗽、嘔吐症狀，4月30日返國入境時主動告知曾有症狀，由機場檢疫人員採檢通報，於今日確診。',\n",
              " '\\n',\n",
              " '\\r\\n案431與432為一對夫婦，2月11日至塞內加爾工作，並陸續於4月26日、27日出現全身倦怠及咳嗽等症狀，兩人5月1日返國入境時因仍有咳嗽症狀，由機場檢疫人員採檢通報，於今日確診。',\n",
              " '\\n']"
            ]
          },
          "metadata": {
            "tags": []
          },
          "execution_count": 141
        }
      ]
    },
    {
      "cell_type": "code",
      "metadata": {
        "id": "GfeDlxsbPR6b",
        "colab_type": "code",
        "colab": {
          "base_uri": "https://localhost:8080/",
          "height": 54
        },
        "outputId": "f47dfe76-5da0-447b-d2d2-905247458550"
      },
      "source": [
        "'\\n'.join(contents)"
      ],
      "execution_count": 142,
      "outputs": [
        {
          "output_type": "execute_result",
          "data": {
            "text/plain": [
              "'\\n\\n中央流行疫情指揮中心今日公布國內新增3例境外移入病例，疫情指揮中心指揮官陳時中上月15日曾表示，達「一周零確診」就能恢復整個經濟活動，「七零」夢滅。報系資料照facebook\\n\\r\\n我國連續六天未出現新冠肺炎病例，連續20天無本土個案，顯示社區感染風險低。中央流行疫情指揮中心今日公布國內新增3例境外移入病例，疫情指揮中心指揮官陳時中上月15日曾表示，達「一周零確診」就能恢復整個經濟活動，「七零」夢滅。\\n\\n\\n\\r\\n指揮中心指揮官陳時中表示，新增3例確診，均為境外移入，分別為60多歲女性（案430）、30多歲女性（案431）及40多歲男性（案432）。\\n\\n\\n\\r\\n陳時中表示，案430於2月22日獨自由台灣前往澳洲旅遊，3月24日自澳洲前往日本，4月9日起反覆出現發燒、咳嗽、嘔吐症狀，4月30日返國入境時主動告知曾有症狀，由機場檢疫人員採檢通報，於今日確診。\\n\\n\\n\\r\\n案431與432為一對夫婦，2月11日至塞內加爾工作，並陸續於4月26日、27日出現全身倦怠及咳嗽等症狀，兩人5月1日返國入境時因仍有咳嗽症狀，由機場檢疫人員採檢通報，於今日確診。\\n\\n'"
            ]
          },
          "metadata": {
            "tags": []
          },
          "execution_count": 142
        }
      ]
    },
    {
      "cell_type": "code",
      "metadata": {
        "id": "TiHCqNZUPYT4",
        "colab_type": "code",
        "colab": {
          "base_uri": "https://localhost:8080/",
          "height": 54
        },
        "outputId": "213e1b13-ba8e-4d1a-f0b1-19b53dee7739"
      },
      "source": [
        "'\\n'.join([p.text for p in soup.select('#article_body p')])"
      ],
      "execution_count": 143,
      "outputs": [
        {
          "output_type": "execute_result",
          "data": {
            "text/plain": [
              "'\\n\\n中央流行疫情指揮中心今日公布國內新增3例境外移入病例，疫情指揮中心指揮官陳時中上月15日曾表示，達「一周零確診」就能恢復整個經濟活動，「七零」夢滅。報系資料照facebook\\n\\r\\n我國連續六天未出現新冠肺炎病例，連續20天無本土個案，顯示社區感染風險低。中央流行疫情指揮中心今日公布國內新增3例境外移入病例，疫情指揮中心指揮官陳時中上月15日曾表示，達「一周零確診」就能恢復整個經濟活動，「七零」夢滅。\\n\\n\\n\\r\\n指揮中心指揮官陳時中表示，新增3例確診，均為境外移入，分別為60多歲女性（案430）、30多歲女性（案431）及40多歲男性（案432）。\\n\\n\\n\\r\\n陳時中表示，案430於2月22日獨自由台灣前往澳洲旅遊，3月24日自澳洲前往日本，4月9日起反覆出現發燒、咳嗽、嘔吐症狀，4月30日返國入境時主動告知曾有症狀，由機場檢疫人員採檢通報，於今日確診。\\n\\n\\n\\r\\n案431與432為一對夫婦，2月11日至塞內加爾工作，並陸續於4月26日、27日出現全身倦怠及咳嗽等症狀，兩人5月1日返國入境時因仍有咳嗽症狀，由機場檢疫人員採檢通報，於今日確診。\\n\\n'"
            ]
          },
          "metadata": {
            "tags": []
          },
          "execution_count": 143
        }
      ]
    },
    {
      "cell_type": "code",
      "metadata": {
        "id": "OFSY2qk3PhOh",
        "colab_type": "code",
        "colab": {
          "base_uri": "https://localhost:8080/",
          "height": 34
        },
        "outputId": "527f53ef-ac73-416c-e49c-09a7484699a2"
      },
      "source": [
        "li = ['a','b', 'c', 'a']\n",
        "ary = []\n",
        "for ele in li:\n",
        "  if ele =='a':\n",
        "    ary.append(ele.upper())\n",
        "ary"
      ],
      "execution_count": 145,
      "outputs": [
        {
          "output_type": "execute_result",
          "data": {
            "text/plain": [
              "['A', 'A']"
            ]
          },
          "metadata": {
            "tags": []
          },
          "execution_count": 145
        }
      ]
    },
    {
      "cell_type": "code",
      "metadata": {
        "id": "fZ4Z-4VoPzT2",
        "colab_type": "code",
        "colab": {
          "base_uri": "https://localhost:8080/",
          "height": 34
        },
        "outputId": "30a21539-9ef4-439b-f651-56db35d990bf"
      },
      "source": [
        "[ele.upper() for ele in li if ele =='a']"
      ],
      "execution_count": 146,
      "outputs": [
        {
          "output_type": "execute_result",
          "data": {
            "text/plain": [
              "['A', 'A']"
            ]
          },
          "metadata": {
            "tags": []
          },
          "execution_count": 146
        }
      ]
    },
    {
      "cell_type": "code",
      "metadata": {
        "id": "FsDxLq60P7o5",
        "colab_type": "code",
        "colab": {
          "base_uri": "https://localhost:8080/",
          "height": 34
        },
        "outputId": "77e4224c-848e-48ca-d175-75f3e7d71df1"
      },
      "source": [
        "soup.select_one('#shareBar > div.shareBar__info > div > span')"
      ],
      "execution_count": 147,
      "outputs": [
        {
          "output_type": "execute_result",
          "data": {
            "text/plain": [
              "<span>2020-05-02 14:08</span>"
            ]
          },
          "metadata": {
            "tags": []
          },
          "execution_count": 147
        }
      ]
    },
    {
      "cell_type": "code",
      "metadata": {
        "id": "G1A7FLDCQTCd",
        "colab_type": "code",
        "colab": {
          "base_uri": "https://localhost:8080/",
          "height": 34
        },
        "outputId": "c3a90ee9-cffd-4279-bea6-9c11a15a0429"
      },
      "source": [
        "soup.select_one('.shareBar__info--author span').text"
      ],
      "execution_count": 149,
      "outputs": [
        {
          "output_type": "execute_result",
          "data": {
            "text/plain": [
              "'2020-05-02 14:08'"
            ]
          },
          "metadata": {
            "tags": []
          },
          "execution_count": 149
        }
      ]
    },
    {
      "cell_type": "code",
      "metadata": {
        "id": "c2RPQRZEQY_8",
        "colab_type": "code",
        "colab": {
          "base_uri": "https://localhost:8080/",
          "height": 34
        },
        "outputId": "410c522e-daa8-4183-ad1f-c09c8df8bef5"
      },
      "source": [
        "from datetime import datetime\n",
        "currenttime = datetime.now()\n",
        "currenttime"
      ],
      "execution_count": 151,
      "outputs": [
        {
          "output_type": "execute_result",
          "data": {
            "text/plain": [
              "datetime.datetime(2020, 5, 2, 7, 22, 26, 751508)"
            ]
          },
          "metadata": {
            "tags": []
          },
          "execution_count": 151
        }
      ]
    },
    {
      "cell_type": "code",
      "metadata": {
        "id": "FeMeCXcoQot6",
        "colab_type": "code",
        "colab": {
          "base_uri": "https://localhost:8080/",
          "height": 34
        },
        "outputId": "56110eb0-f52a-4f7e-eb68-28f71ef6ccb2"
      },
      "source": [
        "currenttime.strftime('%Y%m%d')"
      ],
      "execution_count": 152,
      "outputs": [
        {
          "output_type": "execute_result",
          "data": {
            "text/plain": [
              "'20200502'"
            ]
          },
          "metadata": {
            "tags": []
          },
          "execution_count": 152
        }
      ]
    },
    {
      "cell_type": "code",
      "metadata": {
        "id": "_NBnAIcQRDIs",
        "colab_type": "code",
        "colab": {
          "base_uri": "https://localhost:8080/",
          "height": 34
        },
        "outputId": "ab83f754-5367-4bbb-98e2-b19ade22acc5"
      },
      "source": [
        "currenttime.strftime('%Y-%m-%d')"
      ],
      "execution_count": 153,
      "outputs": [
        {
          "output_type": "execute_result",
          "data": {
            "text/plain": [
              "'2020-05-02'"
            ]
          },
          "metadata": {
            "tags": []
          },
          "execution_count": 153
        }
      ]
    },
    {
      "cell_type": "markdown",
      "metadata": {
        "id": "PWqRuO8ZRYIT",
        "colab_type": "text"
      },
      "source": [
        "- https://docs.python.org/3/library/datetime.html#strftime-and-strptime-behavior"
      ]
    },
    {
      "cell_type": "code",
      "metadata": {
        "id": "scn8SagjRHSX",
        "colab_type": "code",
        "colab": {
          "base_uri": "https://localhost:8080/",
          "height": 34
        },
        "outputId": "5e8c6a29-3f7d-4604-de39-c370ddf77d60"
      },
      "source": [
        "a = '2020-04-01 15:00'\n",
        "dt = datetime.strptime(a, '%Y-%m-%d %H:%M')\n",
        "dt"
      ],
      "execution_count": 155,
      "outputs": [
        {
          "output_type": "execute_result",
          "data": {
            "text/plain": [
              "datetime.datetime(2020, 4, 1, 15, 0)"
            ]
          },
          "metadata": {
            "tags": []
          },
          "execution_count": 155
        }
      ]
    },
    {
      "cell_type": "code",
      "metadata": {
        "id": "KA4pHgy0Ro0l",
        "colab_type": "code",
        "colab": {
          "base_uri": "https://localhost:8080/",
          "height": 34
        },
        "outputId": "57858bd6-8e77-40c0-d417-8a29322b0fbf"
      },
      "source": [
        "currenttime - dt"
      ],
      "execution_count": 156,
      "outputs": [
        {
          "output_type": "execute_result",
          "data": {
            "text/plain": [
              "datetime.timedelta(30, 58946, 751508)"
            ]
          },
          "metadata": {
            "tags": []
          },
          "execution_count": 156
        }
      ]
    },
    {
      "cell_type": "code",
      "metadata": {
        "id": "4-fl9bm7RwKq",
        "colab_type": "code",
        "colab": {
          "base_uri": "https://localhost:8080/",
          "height": 34
        },
        "outputId": "75632564-015c-48b3-acbc-3b8d44f60163"
      },
      "source": [
        "from datetime import datetime, timedelta\n",
        "currenttime - timedelta(days = 1)"
      ],
      "execution_count": 158,
      "outputs": [
        {
          "output_type": "execute_result",
          "data": {
            "text/plain": [
              "datetime.datetime(2020, 5, 1, 7, 22, 26, 751508)"
            ]
          },
          "metadata": {
            "tags": []
          },
          "execution_count": 158
        }
      ]
    },
    {
      "cell_type": "code",
      "metadata": {
        "id": "dtOCcSrIR7Wf",
        "colab_type": "code",
        "colab": {
          "base_uri": "https://localhost:8080/",
          "height": 185
        },
        "outputId": "35fe5c33-8ac7-487e-fa93-c8800f5dd048"
      },
      "source": [
        "from datetime import datetime, timedelta\n",
        "for i in range(10):\n",
        "  dt = (currenttime - timedelta(days = i)).strftime('%Y-%m-%d')\n",
        "  print(dt)"
      ],
      "execution_count": 161,
      "outputs": [
        {
          "output_type": "stream",
          "text": [
            "2020-05-02\n",
            "2020-05-01\n",
            "2020-04-30\n",
            "2020-04-29\n",
            "2020-04-28\n",
            "2020-04-27\n",
            "2020-04-26\n",
            "2020-04-25\n",
            "2020-04-24\n",
            "2020-04-23\n"
          ],
          "name": "stdout"
        }
      ]
    },
    {
      "cell_type": "code",
      "metadata": {
        "id": "i_jQQU9DSKMs",
        "colab_type": "code",
        "colab": {
          "base_uri": "https://localhost:8080/",
          "height": 34
        },
        "outputId": "bbacbd24-21b5-4c81-cf6b-afa6aadab39f"
      },
      "source": [
        "dt = soup.select_one('.shareBar__info--author span').text\n",
        "datetime.strptime(dt, '%Y-%m-%d %H:%M')"
      ],
      "execution_count": 163,
      "outputs": [
        {
          "output_type": "execute_result",
          "data": {
            "text/plain": [
              "datetime.datetime(2020, 5, 2, 14, 8)"
            ]
          },
          "metadata": {
            "tags": []
          },
          "execution_count": 163
        }
      ]
    },
    {
      "cell_type": "code",
      "metadata": {
        "id": "X80cpKacSZMJ",
        "colab_type": "code",
        "colab": {
          "base_uri": "https://localhost:8080/",
          "height": 34
        },
        "outputId": "87ebdce1-573e-4a1b-9356-727378314a79"
      },
      "source": [
        "soup.select_one('div#nav b')"
      ],
      "execution_count": 165,
      "outputs": [
        {
          "output_type": "execute_result",
          "data": {
            "text/plain": [
              "<b>新冠肺炎防疫</b>"
            ]
          },
          "metadata": {
            "tags": []
          },
          "execution_count": 165
        }
      ]
    },
    {
      "cell_type": "code",
      "metadata": {
        "id": "fuyptJnVS1oa",
        "colab_type": "code",
        "colab": {
          "base_uri": "https://localhost:8080/",
          "height": 34
        },
        "outputId": "5a875e71-d5c5-4e4b-8c8e-cbe5e9e15e18"
      },
      "source": [
        "soup.select_one('#nav > b').text"
      ],
      "execution_count": 167,
      "outputs": [
        {
          "output_type": "execute_result",
          "data": {
            "text/plain": [
              "'新冠肺炎防疫'"
            ]
          },
          "metadata": {
            "tags": []
          },
          "execution_count": 167
        }
      ]
    },
    {
      "cell_type": "markdown",
      "metadata": {
        "id": "365uN3kMUlI6",
        "colab_type": "text"
      },
      "source": [
        "### 小任務\n",
        "- 請幫我抓作者"
      ]
    },
    {
      "cell_type": "code",
      "metadata": {
        "id": "l0rt3T4VU503",
        "colab_type": "code",
        "colab": {
          "base_uri": "https://localhost:8080/",
          "height": 34
        },
        "outputId": "48261083-2022-4896-d756-57ebe6c48e98"
      },
      "source": [
        "soup.select_one('.shareBar__info--author').contents[1]"
      ],
      "execution_count": 176,
      "outputs": [
        {
          "output_type": "execute_result",
          "data": {
            "text/plain": [
              "'聯合報 記者陳婕翎、陳雨鑫、羅真／台北即時報導'"
            ]
          },
          "metadata": {
            "tags": []
          },
          "execution_count": 176
        }
      ]
    },
    {
      "cell_type": "code",
      "metadata": {
        "id": "yNz6aNDQYuvW",
        "colab_type": "code",
        "colab": {
          "base_uri": "https://localhost:8080/",
          "height": 34
        },
        "outputId": "d8a317d1-acb3-4a37-8e3a-84aebcf14045"
      },
      "source": [
        "soup.select_one('.shareBar__info--author').contents[1].split('／')[0]"
      ],
      "execution_count": 177,
      "outputs": [
        {
          "output_type": "execute_result",
          "data": {
            "text/plain": [
              "'聯合報 記者陳婕翎、陳雨鑫、羅真'"
            ]
          },
          "metadata": {
            "tags": []
          },
          "execution_count": 177
        }
      ]
    },
    {
      "cell_type": "code",
      "metadata": {
        "id": "KtTAwcFIY0Cr",
        "colab_type": "code",
        "colab": {
          "base_uri": "https://localhost:8080/",
          "height": 34
        },
        "outputId": "d014bdc0-dd4e-4800-df2f-002dfa0eb83d"
      },
      "source": [
        "soup.select_one('.shareBar__info--author').contents[1].split('／')[0].split('記者')[1]"
      ],
      "execution_count": 178,
      "outputs": [
        {
          "output_type": "execute_result",
          "data": {
            "text/plain": [
              "'陳婕翎、陳雨鑫、羅真'"
            ]
          },
          "metadata": {
            "tags": []
          },
          "execution_count": 178
        }
      ]
    },
    {
      "cell_type": "markdown",
      "metadata": {
        "id": "ha2tJEMsTbOP",
        "colab_type": "text"
      },
      "source": [
        "### 包裝函數"
      ]
    },
    {
      "cell_type": "code",
      "metadata": {
        "id": "bctW1OpUTaZh",
        "colab_type": "code",
        "colab": {}
      },
      "source": [
        "def pageDetail(detailurl):\n",
        "  res = requests.get(detailurl)\n",
        "  soup = BeautifulSoup(res.text, 'lxml')\n",
        "  \n",
        "  title = soup.select_one('h2#story_art_title').text\n",
        "  \n",
        "  summary = '\\n'.join([p.text for p in soup.select('#article_body p')])\n",
        "\n",
        "  dt = soup.select_one('.shareBar__info--author span').text\n",
        "  dt = datetime.strptime(dt, '%Y-%m-%d %H:%M')\n",
        "\n",
        "  category = soup.select_one('#nav > b').text\n",
        "\n",
        "  return {'title': title,'summary':summary, 'dt':dt,'category':category, 'url':detailurl}\n"
      ],
      "execution_count": 0,
      "outputs": []
    },
    {
      "cell_type": "code",
      "metadata": {
        "id": "gElvYCDDTC1k",
        "colab_type": "code",
        "colab": {
          "base_uri": "https://localhost:8080/",
          "height": 121
        },
        "outputId": "918b23dd-8836-4185-c8ea-1a4bd9e0770d"
      },
      "source": [
        "pageDetail('https://money.udn.com/money/story/5658/4534727')"
      ],
      "execution_count": 169,
      "outputs": [
        {
          "output_type": "execute_result",
          "data": {
            "text/plain": [
              "{'category': '新冠肺炎防疫',\n",
              " 'dt': datetime.datetime(2020, 5, 2, 14, 8),\n",
              " 'summary': '\\n\\n中央流行疫情指揮中心今日公布國內新增3例境外移入病例，疫情指揮中心指揮官陳時中上月15日曾表示，達「一周零確診」就能恢復整個經濟活動，「七零」夢滅。報系資料照facebook\\n\\r\\n我國連續六天未出現新冠肺炎病例，連續20天無本土個案，顯示社區感染風險低。中央流行疫情指揮中心今日公布國內新增3例境外移入病例，疫情指揮中心指揮官陳時中上月15日曾表示，達「一周零確診」就能恢復整個經濟活動，「七零」夢滅。\\n\\n\\n\\r\\n指揮中心指揮官陳時中表示，新增3例確診，均為境外移入，分別為60多歲女性（案430）、30多歲女性（案431）及40多歲男性（案432）。\\n\\n\\n\\r\\n陳時中表示，案430於2月22日獨自由台灣前往澳洲旅遊，3月24日自澳洲前往日本，4月9日起反覆出現發燒、咳嗽、嘔吐症狀，4月30日返國入境時主動告知曾有症狀，由機場檢疫人員採檢通報，於今日確診。\\n\\n\\n\\r\\n案431與432為一對夫婦，2月11日至塞內加爾工作，並陸續於4月26日、27日出現全身倦怠及咳嗽等症狀，兩人5月1日返國入境時因仍有咳嗽症狀，由機場檢疫人員採檢通報，於今日確診。\\n\\n',\n",
              " 'title': '「+0」七連霸失敗 台灣新增3例境外移入確診',\n",
              " 'url': 'https://money.udn.com/money/story/5658/4534727'}"
            ]
          },
          "metadata": {
            "tags": []
          },
          "execution_count": 169
        }
      ]
    },
    {
      "cell_type": "code",
      "metadata": {
        "id": "AaDX4_P6UKDN",
        "colab_type": "code",
        "colab": {
          "base_uri": "https://localhost:8080/",
          "height": 121
        },
        "outputId": "ca19306a-3f6a-45ca-8663-6719d02f9a66"
      },
      "source": [
        "pageDetail('https://money.udn.com/money/story/5604/4534821')"
      ],
      "execution_count": 170,
      "outputs": [
        {
          "output_type": "execute_result",
          "data": {
            "text/plain": [
              "{'category': '陸港行情',\n",
              " 'dt': datetime.datetime(2020, 5, 2, 15, 30),\n",
              " 'summary': '中國政府為挽救受疫情重創的經濟，正全力推動復產復工，但美國自由亞洲電台報導，官方的努力收效甚微，由於沒有訂單，席捲全球的武漢肺炎疫情正對中國經濟帶來第二波衝擊。\\n\\n自由亞洲電台1日報導，中國「五一」小長假開始之際，幾家深圳的鞋業工廠告訴工人，「這個長假，可能要持續兩個月，甚至更久」。\\n\\n2019冠狀病毒疾病（COVID-19，俗稱武漢肺炎）疫情爆發後，中國製造業工廠好不容易於2月底復工，但由於疫情繼續肆虐歐美等地，導致中國業者面臨新一波挑戰。\\n\\n在深圳有兩家鞋材工廠的李老闆告訴自由亞洲電台，2月24日開工時，農民工因封城而困在疫區回不來，或回到工廠需等待14天隔離期，當時最大問題是「缺人」；好不容易熬過去，「趕工追料」，工廠逐漸恢復生產，但「訂單沒了」的新問題接踵而至。\\n\\n李老闆說，「3、4月就開始取消單，有的要求延後出貨，有的直接說貨不要了」「不下訂單，我們就不會生產，周圍一些鞋廠，就直接讓工人放假了，5月、6月都沒班上」。\\n\\n在鄭州經營3家手機零件工廠的羅老闆則說，他算是蘋果公司的下游廠商，3月訂單比去年同期下滑至少7成，「3月就直接請廠裡通知那些還困在家鄉的工人別回來了」。\\n\\n兩份日前來自中國官方與民間的統計數字，反應了第二波全球疫情對中國製造業的打擊。\\n\\n中國國家統計局和北京財新傳媒4月30日發布的四月中國製造業採購經理人指數（PMI）都顯示，製造業PMI在2月跌入歷史低點後，3月出現反彈，目前又雙雙下跌，其中官方數值由3月的52.0降為50.8；財新的數值則由三月的50.1降至49.4。\\n\\n報導引述分析說，中國經濟今年第一波衝擊來自中國自身的疫情，第二波來自海外訂單減少，第三波將是前兩波疫情造成企業倒閉、消費降低和大幅失業的進一步惡性循環。\\n\\n在這波全球減單效應衝擊下，中國工廠的生存方法包括：裁員、減薪、無薪假或是5天8小時制（即不讓工人加班）。\\n\\n李老闆說 ，「不加班對農民工收入的影響非常大，基本月收入可能只剩下兩千多人民幣」。在這種情況下，很多人選擇離職。中國的農民工群體約有2.91億人。\\n\\n瑞銀集團稍早前的報告預估，中國正面臨20多年來最糟的就業市場。截至3月底，中國的服務業、製造業和建築業約失去了8000萬個工作職位。\\n\\n英媒「經濟學人」智庫則分析認為，中國今年有2.5億工人的收入將減少10%至50%。\\n\\n中國券商中泰證券上週的報告推估，中國失業率為20.5%，約新增7000萬人失業。這個數字是中國官方數字的3倍以上。\\n\\n但是中泰後來撤下了這份報告，並說以官方數據為準，而中國的失業率官方數據分別是，1月5.3%、2月6.2%、3月5.9%。',\n",
              " 'title': '從缺工到缺訂單\\u3000美媒：中國工廠面臨大裁員壓力',\n",
              " 'url': 'https://money.udn.com/money/story/5604/4534821'}"
            ]
          },
          "metadata": {
            "tags": []
          },
          "execution_count": 170
        }
      ]
    },
    {
      "cell_type": "markdown",
      "metadata": {
        "id": "_B3kaI1VZKkL",
        "colab_type": "text"
      },
      "source": [
        "## 完成所有爬取動作"
      ]
    },
    {
      "cell_type": "code",
      "metadata": {
        "id": "hj8SJjG0UTFV",
        "colab_type": "code",
        "colab": {}
      },
      "source": [
        "import requests\n",
        "from bs4 import BeautifulSoup\n",
        "res = requests.get('https://money.udn.com/rank/newest/1001/0/1')\n",
        "soup = BeautifulSoup(res.text, 'lxml')"
      ],
      "execution_count": 0,
      "outputs": []
    },
    {
      "cell_type": "code",
      "metadata": {
        "id": "TkrkTAnUZWD9",
        "colab_type": "code",
        "colab": {}
      },
      "source": [
        "newsary = []\n",
        "\n",
        "for link in soup.select('#ranking_table  a'):\n",
        "  newsary.append(pageDetail(link.get('href')))"
      ],
      "execution_count": 0,
      "outputs": []
    },
    {
      "cell_type": "code",
      "metadata": {
        "id": "0Ykvr-y-ZoYC",
        "colab_type": "code",
        "colab": {
          "base_uri": "https://localhost:8080/",
          "height": 121
        },
        "outputId": "e9423c23-80d0-478a-b8e5-b98c67ac8470"
      },
      "source": [
        "newsary[0]"
      ],
      "execution_count": 184,
      "outputs": [
        {
          "output_type": "execute_result",
          "data": {
            "text/plain": [
              "{'category': '政經大事',\n",
              " 'dt': datetime.datetime(2020, 5, 2, 15, 54),\n",
              " 'summary': '1968App人潮警示上線以來惹出不少爭議，交通部對此表示，經由不斷討論，並進行現場人數與預估人數比較及校估，逐步讓1968App人潮資訊更準確。\\n\\n為了避免五一連假重演清明連假人潮爆滿，造成感染疑慮，交通部的1968App也新增人潮警示功能，但上線以來，不斷遭外界質疑準確度不高、熱點太過集中、被列入熱點就沒有遊客，非熱點卻爆滿等狀況。\\n\\n對此，交通部政務次長王國材今天表示，這次1968App人潮資訊是中華電信利用電信大數據技術估計200多個熱點人流，係透過基地台偵測現場多少人使用手機，再用市占率、民眾特性來推算現場人數。\\n\\n王國材指出，這幾天中央已成立1968戰情室，景區由觀光局負責，地方夜市由警政署與縣市政府協調，將相關即時現場資訊回報戰情室，掌握各熱區人潮，是否與燈號不符。\\n\\n他說，經由中華電信、交通部、行政院資安處不斷討論，並進行現場人數與預估人數比較及校估，逐步讓1968App人潮資訊更準確。\\n\\n王國材指出，中央流行疫情指揮中心也表示：「出門散散心無妨，不要忘記戴口罩、保持社交距離」，做好防疫措施仍可以快樂出遊，並未阻止民眾出遊。',\n",
              " 'title': '1968App人潮警示 交通部：逐步讓資訊更準確',\n",
              " 'url': 'https://money.udn.com/money/story/7307/4534863'}"
            ]
          },
          "metadata": {
            "tags": []
          },
          "execution_count": 184
        }
      ]
    },
    {
      "cell_type": "code",
      "metadata": {
        "id": "wEg7LvyjaMGq",
        "colab_type": "code",
        "colab": {}
      },
      "source": [
        "#https://money.udn.com/rank/newest/1001/0/2"
      ],
      "execution_count": 0,
      "outputs": []
    },
    {
      "cell_type": "code",
      "metadata": {
        "id": "Fg8kZUTmakQv",
        "colab_type": "code",
        "colab": {
          "base_uri": "https://localhost:8080/",
          "height": 50
        },
        "outputId": "64d5fa2e-ae74-47c6-c8b1-2ab060559c01"
      },
      "source": [
        "newsary = []\n",
        "for page in range(1,3):\n",
        "  newsurl = f'https://money.udn.com/rank/newest/1001/0/{page}'\n",
        "  res = requests.get(newsurl)\n",
        "  soup = BeautifulSoup(res.text, 'lxml')\n",
        "  for link in soup.select('#ranking_table  a'):\n",
        "    newsary.append(pageDetail(link.get('href')))\n",
        "  print(page)\n"
      ],
      "execution_count": 187,
      "outputs": [
        {
          "output_type": "stream",
          "text": [
            "1\n",
            "2\n"
          ],
          "name": "stdout"
        }
      ]
    },
    {
      "cell_type": "code",
      "metadata": {
        "id": "lpejw3SNaz44",
        "colab_type": "code",
        "colab": {
          "base_uri": "https://localhost:8080/",
          "height": 34
        },
        "outputId": "db527a34-6fd6-4fc9-eae3-73ff67a1a697"
      },
      "source": [
        "len(newsary)"
      ],
      "execution_count": 188,
      "outputs": [
        {
          "output_type": "execute_result",
          "data": {
            "text/plain": [
              "120"
            ]
          },
          "metadata": {
            "tags": []
          },
          "execution_count": 188
        }
      ]
    },
    {
      "cell_type": "code",
      "metadata": {
        "id": "PVGOrwsEbert",
        "colab_type": "code",
        "colab": {
          "base_uri": "https://localhost:8080/",
          "height": 121
        },
        "outputId": "761f33b0-f092-41f4-f622-b14b4bd38a18"
      },
      "source": [
        "newsary[0]"
      ],
      "execution_count": 189,
      "outputs": [
        {
          "output_type": "execute_result",
          "data": {
            "text/plain": [
              "{'category': '新冠肺炎防疫',\n",
              " 'dt': datetime.datetime(2020, 5, 2, 16, 4),\n",
              " 'summary': '\\n\\r\\n中央流行疫情指揮中心2日公布新增3確診個案，國內累積432例，案430是一名60歲女性2月中旬至澳洲遊玩，4月底回國後確診、案431、432是一對夫妻至塞內加爾工作，兩人1日回國時主動告知咳嗽症狀，經採檢後確診，所幸與這對確診夫妻同行者無感染，已返家自主隔離。疫情指揮中心也宣布，4日零時起返國入境者須採通報制，且家中不得有慢性病患者、65歲以上長者、6歲以下孩童，以及隔離者空間要有個人獨立衛浴設備，否則一律入住防疫旅館，違者可罰15萬。\\n\\n\\n\\r\\n磐石艦官兵因艦上發生多起確診案例，被要求全艦官兵檢疫14日，原訂3日零時起可解隔離，但指揮中心憂有漏網之魚，下令屆滿14日後再進行採檢。所以解隔離日需延宕1-3日，且要求採檢後要全陰性才能放人。至於五一連假出遊潮，陳時中表示雖然狀況良好，但仍有見到部分民眾未戴口罩出門，讓陳時中趕快呼籲，不反對外出但要做好個人防護。\\n\\n\\n\\n\\n\\n\\n\\n五一連假出遊潮，陳時中表示雖然狀況良好，但仍有見到部分民眾未戴口罩出門，讓陳時中趕快呼籲，不反對外出但要做好個人防護。記者陳世忠設計facebook',\n",
              " 'title': '連七零確診飛了！增3境外移入 4日起返國採通報制',\n",
              " 'url': 'https://money.udn.com/money/story/5658/4534865'}"
            ]
          },
          "metadata": {
            "tags": []
          },
          "execution_count": 189
        }
      ]
    },
    {
      "cell_type": "code",
      "metadata": {
        "id": "s8BFg63ebhfe",
        "colab_type": "code",
        "colab": {}
      },
      "source": [
        "import pandas\n",
        "newsdf = pandas.DataFrame(newsary)"
      ],
      "execution_count": 0,
      "outputs": []
    },
    {
      "cell_type": "code",
      "metadata": {
        "id": "uagqEth4b_le",
        "colab_type": "code",
        "colab": {
          "base_uri": "https://localhost:8080/",
          "height": 363
        },
        "outputId": "ad45b0f8-e96f-46bf-fd62-004945eff6d3"
      },
      "source": [
        "newsdf.head()"
      ],
      "execution_count": 192,
      "outputs": [
        {
          "output_type": "execute_result",
          "data": {
            "text/html": [
              "<div>\n",
              "<style scoped>\n",
              "    .dataframe tbody tr th:only-of-type {\n",
              "        vertical-align: middle;\n",
              "    }\n",
              "\n",
              "    .dataframe tbody tr th {\n",
              "        vertical-align: top;\n",
              "    }\n",
              "\n",
              "    .dataframe thead th {\n",
              "        text-align: right;\n",
              "    }\n",
              "</style>\n",
              "<table border=\"1\" class=\"dataframe\">\n",
              "  <thead>\n",
              "    <tr style=\"text-align: right;\">\n",
              "      <th></th>\n",
              "      <th>title</th>\n",
              "      <th>summary</th>\n",
              "      <th>dt</th>\n",
              "      <th>category</th>\n",
              "      <th>url</th>\n",
              "    </tr>\n",
              "  </thead>\n",
              "  <tbody>\n",
              "    <tr>\n",
              "      <th>0</th>\n",
              "      <td>連七零確診飛了！增3境外移入 4日起返國採通報制</td>\n",
              "      <td>\\n\\r\\n中央流行疫情指揮中心2日公布新增3確診個案，國內累積432例，案430是一名60...</td>\n",
              "      <td>2020-05-02 16:04:00</td>\n",
              "      <td>新冠肺炎防疫</td>\n",
              "      <td>https://money.udn.com/money/story/5658/4534865</td>\n",
              "    </tr>\n",
              "    <tr>\n",
              "      <th>1</th>\n",
              "      <td>新加坡增447例新冠肺炎確診 2周以來最低增幅</td>\n",
              "      <td>路透報導，新加坡衛生部2日證實，新增447例新冠肺炎確診，為2周以來單日最低增幅。星國目前累...</td>\n",
              "      <td>2020-05-02 16:03:00</td>\n",
              "      <td>國際焦點</td>\n",
              "      <td>https://money.udn.com/money/story/5599/4534864</td>\n",
              "    </tr>\n",
              "    <tr>\n",
              "      <th>2</th>\n",
              "      <td>1968App人潮警示 交通部：逐步讓資訊更準確</td>\n",
              "      <td>1968App人潮警示上線以來惹出不少爭議，交通部對此表示，經由不斷討論，並進行現場人數與預...</td>\n",
              "      <td>2020-05-02 15:54:00</td>\n",
              "      <td>政經大事</td>\n",
              "      <td>https://money.udn.com/money/story/7307/4534863</td>\n",
              "    </tr>\n",
              "    <tr>\n",
              "      <th>3</th>\n",
              "      <td>美因疫情加強抗中 力道拿捏費思量</td>\n",
              "      <td>部分川普政府高層官員正就經濟、外交乃至科學議題，對中國採取更強硬立場，讓美中關係盪到數十年來...</td>\n",
              "      <td>2020-05-02 15:45:00</td>\n",
              "      <td>美中貿易戰</td>\n",
              "      <td>https://money.udn.com/money/story/10511/4534850</td>\n",
              "    </tr>\n",
              "    <tr>\n",
              "      <th>4</th>\n",
              "      <td>伊斯蘭國協同攻擊 伊拉克民兵組織多人喪生</td>\n",
              "      <td>激進武裝團體伊斯蘭國據報清晨在伊拉克北部展開協同攻擊，造成民兵組織「人民動員」至少6名成員喪...</td>\n",
              "      <td>2020-05-02 15:45:00</td>\n",
              "      <td>國際焦點</td>\n",
              "      <td>https://money.udn.com/money/story/5599/4534848</td>\n",
              "    </tr>\n",
              "  </tbody>\n",
              "</table>\n",
              "</div>"
            ],
            "text/plain": [
              "                      title  ...                                              url\n",
              "0  連七零確診飛了！增3境外移入 4日起返國採通報制  ...   https://money.udn.com/money/story/5658/4534865\n",
              "1   新加坡增447例新冠肺炎確診 2周以來最低增幅  ...   https://money.udn.com/money/story/5599/4534864\n",
              "2  1968App人潮警示 交通部：逐步讓資訊更準確  ...   https://money.udn.com/money/story/7307/4534863\n",
              "3          美因疫情加強抗中 力道拿捏費思量  ...  https://money.udn.com/money/story/10511/4534850\n",
              "4      伊斯蘭國協同攻擊 伊拉克民兵組織多人喪生  ...   https://money.udn.com/money/story/5599/4534848\n",
              "\n",
              "[5 rows x 5 columns]"
            ]
          },
          "metadata": {
            "tags": []
          },
          "execution_count": 192
        }
      ]
    },
    {
      "cell_type": "code",
      "metadata": {
        "id": "WCat8FQYcAiH",
        "colab_type": "code",
        "colab": {}
      },
      "source": [
        "newsdf.to_excel('money.xlsx')"
      ],
      "execution_count": 0,
      "outputs": []
    },
    {
      "cell_type": "markdown",
      "metadata": {
        "id": "7mWT6H2qfjiW",
        "colab_type": "text"
      },
      "source": [
        "## 591 租屋資料爬取"
      ]
    },
    {
      "cell_type": "code",
      "metadata": {
        "id": "ZdIea5UGcZSB",
        "colab_type": "code",
        "colab": {}
      },
      "source": [
        "import requests\n",
        "headers = {\n",
        "    'Cookie': 'webp=1; PHPSESSID=81c7jfgf80mnkrcsdb4tgf3d95; urlJumpIp=1; urlJumpIpByTxt=%E5%8F%B0%E5%8C%97%E5%B8%82; c10f3143a018a0513ebe1e8d27b5391c=1; new_rent_list_kind_test=0; T591_TOKEN=81c7jfgf80mnkrcsdb4tgf3d95; _ga=GA1.3.1540713847.1588407409; _gid=GA1.3.1357088432.1588407409; _ga=GA1.4.1540713847.1588407409; _gid=GA1.4.1357088432.1588407409; tw591__privacy_agree=0; XSRF-TOKEN=eyJpdiI6ImRTM2Zka3dIb0FTVWI0Um9MbzZ5c3c9PSIsInZhbHVlIjoiUDRuRVVxQURhK2lBREtTZHBnUHBUVXJOc2hnbm0zWVwvZG9oNW1Za1U4K0VvZEdFZ2ZBb3FxY0dGcXJxekQ2aG5SUTJLQUZwU0tUV0s1cEJDUTNBd0NnPT0iLCJtYWMiOiI1YWFmOWY5ZmI4ODAxMDgwMjY5NTljNzc5M2Y3NDJlNTBhNjgzODkyODBiNTlhNWIyOTgwYzA3ZmY2YzdkYmM1In0%3D; 591_new_session=eyJpdiI6IklzSEcxbXVYcWZENUp0U3RRT1R5VUE9PSIsInZhbHVlIjoia0tkNnlKeVA3NzMyM00yR21MM2VORFM4NUk4M2pqRVJtUTVYbjF1UnRBWTlocmRhSjRSZ0ZaUU5vdkYyXC9Zd01vNGJ2K29oNUVyRVhvNktrRjc3dTBRPT0iLCJtYWMiOiI2NjUwYTg3ZDVjOWEzMWYwYjgxYzY2NDM0MTg3NGM0OWVmNmViZmY0OTMyMDhlYzgxY2E0YzBhYWI4NWRmZjc1In0%3D',\n",
        "  'X-CSRF-TOKEN': 'G2Mghm0et95WcyeanpP9py7qiwgLt2PKY5znKVVx',  \n",
        "  'User-Agent': 'Mozilla/5.0 (Windows NT 10.0; Win64; x64) AppleWebKit/537.36 (KHTML, like Gecko) Chrome/81.0.4044.129 Safari/537.36'  \n",
        "}\n",
        "res = requests.get('https://rent.591.com.tw/home/search/rsList?is_new_list=1&type=1&kind=1&searchtype=1&region=1&section=5&firstRow=30&totalRows=904', headers = headers)\n",
        "#res.text"
      ],
      "execution_count": 0,
      "outputs": []
    },
    {
      "cell_type": "code",
      "metadata": {
        "id": "oW9OLvjVfpbP",
        "colab_type": "code",
        "colab": {}
      },
      "source": [
        "jd = res.json()"
      ],
      "execution_count": 0,
      "outputs": []
    },
    {
      "cell_type": "code",
      "metadata": {
        "id": "9blMwzHlgm39",
        "colab_type": "code",
        "colab": {}
      },
      "source": [
        "df = pandas.DataFrame(jd['data']['data'])"
      ],
      "execution_count": 0,
      "outputs": []
    },
    {
      "cell_type": "code",
      "metadata": {
        "id": "5UtsN69UhwdK",
        "colab_type": "code",
        "colab": {
          "base_uri": "https://localhost:8080/",
          "height": 849
        },
        "outputId": "24ed9153-53cb-4f1b-c3ab-7ca8e9e4fa51"
      },
      "source": [
        "df.head()"
      ],
      "execution_count": 217,
      "outputs": [
        {
          "output_type": "execute_result",
          "data": {
            "text/html": [
              "<div>\n",
              "<style scoped>\n",
              "    .dataframe tbody tr th:only-of-type {\n",
              "        vertical-align: middle;\n",
              "    }\n",
              "\n",
              "    .dataframe tbody tr th {\n",
              "        vertical-align: top;\n",
              "    }\n",
              "\n",
              "    .dataframe thead th {\n",
              "        text-align: right;\n",
              "    }\n",
              "</style>\n",
              "<table border=\"1\" class=\"dataframe\">\n",
              "  <thead>\n",
              "    <tr style=\"text-align: right;\">\n",
              "      <th></th>\n",
              "      <th>id</th>\n",
              "      <th>user_id</th>\n",
              "      <th>address</th>\n",
              "      <th>type</th>\n",
              "      <th>post_id</th>\n",
              "      <th>regionid</th>\n",
              "      <th>sectionid</th>\n",
              "      <th>streetid</th>\n",
              "      <th>room</th>\n",
              "      <th>area</th>\n",
              "      <th>price</th>\n",
              "      <th>storeprice</th>\n",
              "      <th>comment_total</th>\n",
              "      <th>comment_unread</th>\n",
              "      <th>comment_ltime</th>\n",
              "      <th>hasimg</th>\n",
              "      <th>kind</th>\n",
              "      <th>shape</th>\n",
              "      <th>houseage</th>\n",
              "      <th>posttime</th>\n",
              "      <th>updatetime</th>\n",
              "      <th>refreshtime</th>\n",
              "      <th>checkstatus</th>\n",
              "      <th>status</th>\n",
              "      <th>closed</th>\n",
              "      <th>living</th>\n",
              "      <th>condition</th>\n",
              "      <th>isvip</th>\n",
              "      <th>mvip</th>\n",
              "      <th>is_combine</th>\n",
              "      <th>cover</th>\n",
              "      <th>browsenum</th>\n",
              "      <th>browsenum_all</th>\n",
              "      <th>floor2</th>\n",
              "      <th>floor</th>\n",
              "      <th>ltime</th>\n",
              "      <th>cases_id</th>\n",
              "      <th>social_house</th>\n",
              "      <th>distance</th>\n",
              "      <th>search_name</th>\n",
              "      <th>...</th>\n",
              "      <th>addr_number_name</th>\n",
              "      <th>kind_name_img</th>\n",
              "      <th>address_img</th>\n",
              "      <th>cases_name</th>\n",
              "      <th>layout</th>\n",
              "      <th>layout_str</th>\n",
              "      <th>allfloor</th>\n",
              "      <th>floorInfo</th>\n",
              "      <th>house_img</th>\n",
              "      <th>houseimg</th>\n",
              "      <th>cartplace</th>\n",
              "      <th>space_type_str</th>\n",
              "      <th>photo_alt</th>\n",
              "      <th>addition4</th>\n",
              "      <th>addition2</th>\n",
              "      <th>addition3</th>\n",
              "      <th>vipimg</th>\n",
              "      <th>vipstyle</th>\n",
              "      <th>vipBorder</th>\n",
              "      <th>new_list_comment_total</th>\n",
              "      <th>comment_class</th>\n",
              "      <th>price_hide</th>\n",
              "      <th>kind_name</th>\n",
              "      <th>photoNum</th>\n",
              "      <th>filename</th>\n",
              "      <th>nick_name</th>\n",
              "      <th>new_img</th>\n",
              "      <th>regionname</th>\n",
              "      <th>sectionname</th>\n",
              "      <th>icon_name</th>\n",
              "      <th>icon_class</th>\n",
              "      <th>fulladdress</th>\n",
              "      <th>address_img_title</th>\n",
              "      <th>browsenum_name</th>\n",
              "      <th>unit</th>\n",
              "      <th>houseid</th>\n",
              "      <th>region_name</th>\n",
              "      <th>section_name</th>\n",
              "      <th>addInfo</th>\n",
              "      <th>onepxImg</th>\n",
              "    </tr>\n",
              "  </thead>\n",
              "  <tbody>\n",
              "    <tr>\n",
              "      <th>0</th>\n",
              "      <td>9191572</td>\n",
              "      <td>1318377</td>\n",
              "      <td>復興南路二段捷運科技大樓..</td>\n",
              "      <td>1</td>\n",
              "      <td>9191572</td>\n",
              "      <td>1</td>\n",
              "      <td>5</td>\n",
              "      <td>25661</td>\n",
              "      <td>3</td>\n",
              "      <td>28.0</td>\n",
              "      <td>29,500</td>\n",
              "      <td>0</td>\n",
              "      <td>0</td>\n",
              "      <td>0</td>\n",
              "      <td>1588008436</td>\n",
              "      <td>1</td>\n",
              "      <td>1</td>\n",
              "      <td>1</td>\n",
              "      <td>0</td>\n",
              "      <td>2小時內</td>\n",
              "      <td>1588399596</td>\n",
              "      <td>1588403402</td>\n",
              "      <td>0</td>\n",
              "      <td></td>\n",
              "      <td>0</td>\n",
              "      <td>depart,advstore,market,night,park,school,hospital</td>\n",
              "      <td>cold,hotwater,lift,naturalgas,cook,balcony_0,a...</td>\n",
              "      <td>1</td>\n",
              "      <td>0</td>\n",
              "      <td>0</td>\n",
              "      <td>https://hp1.591.com.tw/house/active/2020/04/30...</td>\n",
              "      <td>0</td>\n",
              "      <td>53</td>\n",
              "      <td>0</td>\n",
              "      <td>4</td>\n",
              "      <td>2020-05-02 15:12:18</td>\n",
              "      <td>0</td>\n",
              "      <td>0</td>\n",
              "      <td>0</td>\n",
              "      <td></td>\n",
              "      <td>...</td>\n",
              "      <td></td>\n",
              "      <td>整層住家</td>\n",
              "      <td>捷運科技大樓站1分【超值3房*房皆有窗】</td>\n",
              "      <td></td>\n",
              "      <td>3房2廳2衛</td>\n",
              "      <td>&lt;span class=\"layout\"&gt;3房2廳2衛&lt;/span&gt;，&lt;/span&gt;</td>\n",
              "      <td>4</td>\n",
              "      <td>樓層：4/4</td>\n",
              "      <td>170614719,170614720,170614721,170614722,170614...</td>\n",
              "      <td>None</td>\n",
              "      <td></td>\n",
              "      <td></td>\n",
              "      <td>台北租屋,大安租屋,整層住家出租,捷運科技大樓站1分【超值3房*房皆有窗】</td>\n",
              "      <td>0</td>\n",
              "      <td>0</td>\n",
              "      <td>0</td>\n",
              "      <td>&lt;img src=\"./images/index/userCenter/list_vip_v...</td>\n",
              "      <td>isvip</td>\n",
              "      <td>vipStyle</td>\n",
              "      <td>0</td>\n",
              "      <td>none</td>\n",
              "      <td>price-hide</td>\n",
              "      <td>整層住家</td>\n",
              "      <td>13</td>\n",
              "      <td>https://hp1.591.com.tw/house/active/2020/04/30...</td>\n",
              "      <td>仲介 羅先生</td>\n",
              "      <td>&lt;div class=\"isNew\"&gt;&lt;/div&gt;</td>\n",
              "      <td>台北市</td>\n",
              "      <td>大安區</td>\n",
              "      <td>出租</td>\n",
              "      <td>rent</td>\n",
              "      <td>復興南路二段捷運科技大樓站1分【超值3房*房皆有窗】</td>\n",
              "      <td>捷運科技大樓站1分【超值3房*房皆有窗】</td>\n",
              "      <td>昨日瀏覽</td>\n",
              "      <td>元/月</td>\n",
              "      <td>9191572</td>\n",
              "      <td>台北市</td>\n",
              "      <td>大安區</td>\n",
              "      <td>&lt;img src=\"./images/index/userCenter/list_vip_v...</td>\n",
              "      <td></td>\n",
              "    </tr>\n",
              "    <tr>\n",
              "      <th>1</th>\n",
              "      <td>9154845</td>\n",
              "      <td>2099368</td>\n",
              "      <td>復興南路一段東區商圈捷運..</td>\n",
              "      <td>1</td>\n",
              "      <td>9154845</td>\n",
              "      <td>1</td>\n",
              "      <td>5</td>\n",
              "      <td>25660</td>\n",
              "      <td>2</td>\n",
              "      <td>30.0</td>\n",
              "      <td>33,302</td>\n",
              "      <td>0</td>\n",
              "      <td>0</td>\n",
              "      <td>0</td>\n",
              "      <td>1584796326</td>\n",
              "      <td>1</td>\n",
              "      <td>1</td>\n",
              "      <td>2</td>\n",
              "      <td>0</td>\n",
              "      <td>2小時內</td>\n",
              "      <td>1587653788</td>\n",
              "      <td>1588402802</td>\n",
              "      <td>1</td>\n",
              "      <td></td>\n",
              "      <td>0</td>\n",
              "      <td>depart,advstore,market,night,park,school,hospital</td>\n",
              "      <td>tv,icebox,cold,washer,hotwater,lift,landpost,c...</td>\n",
              "      <td>1</td>\n",
              "      <td>1</td>\n",
              "      <td>0</td>\n",
              "      <td>https://hp2.591.com.tw/house/active/2020/04/23...</td>\n",
              "      <td>80</td>\n",
              "      <td>870</td>\n",
              "      <td>0</td>\n",
              "      <td>4</td>\n",
              "      <td>2020-05-02 15:00:59</td>\n",
              "      <td>0</td>\n",
              "      <td>0</td>\n",
              "      <td>0</td>\n",
              "      <td></td>\n",
              "      <td>...</td>\n",
              "      <td></td>\n",
              "      <td>整層住家</td>\n",
              "      <td>東區商圈捷運忠孝復興站長東安東街市民大道</td>\n",
              "      <td></td>\n",
              "      <td>2房1廳1衛</td>\n",
              "      <td>&lt;span class=\"layout\"&gt;2房1廳1衛&lt;/span&gt;，&lt;/span&gt;</td>\n",
              "      <td>12</td>\n",
              "      <td>樓層：4/12</td>\n",
              "      <td>169771676,169771677,169771678,169771679,169771...</td>\n",
              "      <td>None</td>\n",
              "      <td></td>\n",
              "      <td></td>\n",
              "      <td>台北租屋,大安租屋,整層住家出租,東區商圈捷運忠孝復興站長東安東街市民大道</td>\n",
              "      <td>0</td>\n",
              "      <td>0</td>\n",
              "      <td>0</td>\n",
              "      <td>&lt;img src=\"./images/index/userCenter/list_vip_v...</td>\n",
              "      <td>isvip</td>\n",
              "      <td>vipStyle</td>\n",
              "      <td>0</td>\n",
              "      <td>none</td>\n",
              "      <td>price-hide</td>\n",
              "      <td>整層住家</td>\n",
              "      <td>10</td>\n",
              "      <td>https://hp2.591.com.tw/house/active/2020/04/23...</td>\n",
              "      <td>屋主 林小姐</td>\n",
              "      <td></td>\n",
              "      <td>台北市</td>\n",
              "      <td>大安區</td>\n",
              "      <td>出租</td>\n",
              "      <td>rent</td>\n",
              "      <td>復興南路一段東區商圈捷運忠孝復興站長東安東街市民大道</td>\n",
              "      <td>東區商圈捷運忠孝復興站長東安東街市民大道</td>\n",
              "      <td>昨日瀏覽</td>\n",
              "      <td>元/月</td>\n",
              "      <td>9154845</td>\n",
              "      <td>台北市</td>\n",
              "      <td>大安區</td>\n",
              "      <td>&lt;img src=\"./images/index/userCenter/list_vip_v...</td>\n",
              "      <td></td>\n",
              "    </tr>\n",
              "    <tr>\n",
              "      <th>2</th>\n",
              "      <td>9180724</td>\n",
              "      <td>3736</td>\n",
              "      <td>敦化南路二段單純社區.24H..</td>\n",
              "      <td>1</td>\n",
              "      <td>9180724</td>\n",
              "      <td>1</td>\n",
              "      <td>5</td>\n",
              "      <td>25663</td>\n",
              "      <td>3</td>\n",
              "      <td>35.0</td>\n",
              "      <td>40,000</td>\n",
              "      <td>0</td>\n",
              "      <td>0</td>\n",
              "      <td>0</td>\n",
              "      <td>1541023679</td>\n",
              "      <td>1</td>\n",
              "      <td>1</td>\n",
              "      <td>2</td>\n",
              "      <td>0</td>\n",
              "      <td>2小時內</td>\n",
              "      <td>1588215057</td>\n",
              "      <td>1588402802</td>\n",
              "      <td>1</td>\n",
              "      <td></td>\n",
              "      <td>0</td>\n",
              "      <td>depart,advstore,market,night,park,school,hospital</td>\n",
              "      <td>tv,icebox,cold,washer,hotwater,lift,naturalgas...</td>\n",
              "      <td>1</td>\n",
              "      <td>1</td>\n",
              "      <td>0</td>\n",
              "      <td>https://hp2.591.com.tw/house/active/2020/04/27...</td>\n",
              "      <td>195</td>\n",
              "      <td>474</td>\n",
              "      <td>0</td>\n",
              "      <td>8</td>\n",
              "      <td>2020-05-02 15:33:46</td>\n",
              "      <td>0</td>\n",
              "      <td>0</td>\n",
              "      <td>0</td>\n",
              "      <td></td>\n",
              "      <td>...</td>\n",
              "      <td></td>\n",
              "      <td>整層住家</td>\n",
              "      <td>單純社區.24H警衛.和平東路.信義路</td>\n",
              "      <td></td>\n",
              "      <td>3房2廳2衛</td>\n",
              "      <td>&lt;span class=\"layout\"&gt;3房2廳2衛&lt;/span&gt;，&lt;/span&gt;</td>\n",
              "      <td>10</td>\n",
              "      <td>樓層：8/10</td>\n",
              "      <td>170367851,170367852,170367853,170367854,170367...</td>\n",
              "      <td>None</td>\n",
              "      <td></td>\n",
              "      <td></td>\n",
              "      <td>台北租屋,大安租屋,整層住家出租,單純社區.24H警衛.和平東路.信義路</td>\n",
              "      <td>0</td>\n",
              "      <td>0</td>\n",
              "      <td>0</td>\n",
              "      <td>&lt;img src=\"./images/index/userCenter/list_vip_v...</td>\n",
              "      <td>isvip</td>\n",
              "      <td>vipStyle</td>\n",
              "      <td>0</td>\n",
              "      <td>none</td>\n",
              "      <td>price-hide</td>\n",
              "      <td>整層住家</td>\n",
              "      <td>15</td>\n",
              "      <td>https://hp2.591.com.tw/house/active/2020/04/27...</td>\n",
              "      <td>仲介 陳先生</td>\n",
              "      <td></td>\n",
              "      <td>台北市</td>\n",
              "      <td>大安區</td>\n",
              "      <td>出租</td>\n",
              "      <td>rent</td>\n",
              "      <td>敦化南路二段單純社區.24H警衛.和平東路.信義路</td>\n",
              "      <td>單純社區.24H警衛.和平東路.信義路</td>\n",
              "      <td>昨日瀏覽</td>\n",
              "      <td>元/月</td>\n",
              "      <td>9180724</td>\n",
              "      <td>台北市</td>\n",
              "      <td>大安區</td>\n",
              "      <td>&lt;img src=\"./images/index/userCenter/list_vip_v...</td>\n",
              "      <td></td>\n",
              "    </tr>\n",
              "    <tr>\n",
              "      <th>3</th>\n",
              "      <td>9184642</td>\n",
              "      <td>1028433</td>\n",
              "      <td>羅斯福路三段269巷南方松..</td>\n",
              "      <td>1</td>\n",
              "      <td>9184642</td>\n",
              "      <td>1</td>\n",
              "      <td>5</td>\n",
              "      <td>25680</td>\n",
              "      <td>3</td>\n",
              "      <td>30.2</td>\n",
              "      <td>45,000</td>\n",
              "      <td>0</td>\n",
              "      <td>0</td>\n",
              "      <td>0</td>\n",
              "      <td>0</td>\n",
              "      <td>1</td>\n",
              "      <td>1</td>\n",
              "      <td>1</td>\n",
              "      <td>0</td>\n",
              "      <td>2小時內</td>\n",
              "      <td>1588392151</td>\n",
              "      <td>1588402802</td>\n",
              "      <td>0</td>\n",
              "      <td></td>\n",
              "      <td>0</td>\n",
              "      <td>advstore,market,night,park,school</td>\n",
              "      <td>cold,hotwater,naturalgas,landpost,pet,cook,bal...</td>\n",
              "      <td>1</td>\n",
              "      <td>0</td>\n",
              "      <td>0</td>\n",
              "      <td>https://hp2.591.com.tw/house/active/2020/04/30...</td>\n",
              "      <td>61</td>\n",
              "      <td>101</td>\n",
              "      <td>0</td>\n",
              "      <td>4</td>\n",
              "      <td>2020-05-02 15:01:02</td>\n",
              "      <td>0</td>\n",
              "      <td>0</td>\n",
              "      <td>0</td>\n",
              "      <td></td>\n",
              "      <td>...</td>\n",
              "      <td></td>\n",
              "      <td>整層住家</td>\n",
              "      <td>南方松陽台.全新衛浴廚房.近台大師大</td>\n",
              "      <td></td>\n",
              "      <td>3房2廳2衛</td>\n",
              "      <td>&lt;span class=\"layout\"&gt;3房2廳2衛&lt;/span&gt;，&lt;/span&gt;</td>\n",
              "      <td>5</td>\n",
              "      <td>樓層：4/5</td>\n",
              "      <td>170454946,170454967,170458732,170454948,170454...</td>\n",
              "      <td>None</td>\n",
              "      <td></td>\n",
              "      <td></td>\n",
              "      <td>台北租屋,大安租屋,整層住家出租,南方松陽台.全新衛浴廚房.近台大師大</td>\n",
              "      <td>0</td>\n",
              "      <td>0</td>\n",
              "      <td>0</td>\n",
              "      <td>&lt;img src=\"./images/index/userCenter/list_vip_v...</td>\n",
              "      <td>isvip</td>\n",
              "      <td>vipStyle</td>\n",
              "      <td>0</td>\n",
              "      <td>none</td>\n",
              "      <td>price-hide</td>\n",
              "      <td>整層住家</td>\n",
              "      <td>12</td>\n",
              "      <td>https://hp2.591.com.tw/house/active/2020/04/30...</td>\n",
              "      <td>屋主 林太太</td>\n",
              "      <td></td>\n",
              "      <td>台北市</td>\n",
              "      <td>大安區</td>\n",
              "      <td>出租</td>\n",
              "      <td>rent</td>\n",
              "      <td>羅斯福路三段269巷南方松陽台.全新衛浴廚房.近台大師大</td>\n",
              "      <td>南方松陽台.全新衛浴廚房.近台大師大</td>\n",
              "      <td>昨日瀏覽</td>\n",
              "      <td>元/月</td>\n",
              "      <td>9184642</td>\n",
              "      <td>台北市</td>\n",
              "      <td>大安區</td>\n",
              "      <td>&lt;img src=\"./images/index/userCenter/list_vip_v...</td>\n",
              "      <td></td>\n",
              "    </tr>\n",
              "    <tr>\n",
              "      <th>4</th>\n",
              "      <td>9056025</td>\n",
              "      <td>1529100</td>\n",
              "      <td>溫州街74巷台大附近，精裝..</td>\n",
              "      <td>1</td>\n",
              "      <td>9056025</td>\n",
              "      <td>1</td>\n",
              "      <td>5</td>\n",
              "      <td>25670</td>\n",
              "      <td>2</td>\n",
              "      <td>20.0</td>\n",
              "      <td>35,000</td>\n",
              "      <td>0</td>\n",
              "      <td>0</td>\n",
              "      <td>0</td>\n",
              "      <td>0</td>\n",
              "      <td>1</td>\n",
              "      <td>1</td>\n",
              "      <td>2</td>\n",
              "      <td>0</td>\n",
              "      <td>2小時內</td>\n",
              "      <td>1585882322</td>\n",
              "      <td>1588402502</td>\n",
              "      <td>1</td>\n",
              "      <td></td>\n",
              "      <td>0</td>\n",
              "      <td>advstore,market,night,park,school</td>\n",
              "      <td>cold,hotwater,four,lift,naturalgas,landpost,pe...</td>\n",
              "      <td>1</td>\n",
              "      <td>0</td>\n",
              "      <td>0</td>\n",
              "      <td>https://hp2.591.com.tw/house/active/2014/11/18...</td>\n",
              "      <td>47</td>\n",
              "      <td>1725</td>\n",
              "      <td>0</td>\n",
              "      <td>3</td>\n",
              "      <td>2020-05-02 15:00:04</td>\n",
              "      <td>0</td>\n",
              "      <td>0</td>\n",
              "      <td>0</td>\n",
              "      <td></td>\n",
              "      <td>...</td>\n",
              "      <td>1號</td>\n",
              "      <td>整層住家</td>\n",
              "      <td>台大附近，精裝修2房2廳1衛第四台免費</td>\n",
              "      <td></td>\n",
              "      <td>2房2廳1衛</td>\n",
              "      <td>&lt;span class=\"layout\"&gt;2房2廳1衛&lt;/span&gt;，&lt;/span&gt;</td>\n",
              "      <td>7</td>\n",
              "      <td>樓層：3/7</td>\n",
              "      <td>167621000,167621001,167621002,167621003,167621...</td>\n",
              "      <td>None</td>\n",
              "      <td></td>\n",
              "      <td></td>\n",
              "      <td>台北租屋,大安租屋,整層住家出租,台大附近，精裝修2房2廳1衛第四台免費</td>\n",
              "      <td>0</td>\n",
              "      <td>0</td>\n",
              "      <td>0</td>\n",
              "      <td>&lt;img src=\"./images/index/userCenter/list_vip_v...</td>\n",
              "      <td>isvip</td>\n",
              "      <td>vipStyle</td>\n",
              "      <td>0</td>\n",
              "      <td>none</td>\n",
              "      <td>price-hide</td>\n",
              "      <td>整層住家</td>\n",
              "      <td>10</td>\n",
              "      <td>https://hp2.591.com.tw/house/active/2014/11/18...</td>\n",
              "      <td>屋主 林先生</td>\n",
              "      <td></td>\n",
              "      <td>台北市</td>\n",
              "      <td>大安區</td>\n",
              "      <td>出租</td>\n",
              "      <td>rent</td>\n",
              "      <td>溫州街74巷台大附近，精裝修2房2廳1衛第四台免費</td>\n",
              "      <td>台大附近，精裝修2房2廳1衛第四台免費</td>\n",
              "      <td>昨日瀏覽</td>\n",
              "      <td>元/月</td>\n",
              "      <td>9056025</td>\n",
              "      <td>台北市</td>\n",
              "      <td>大安區</td>\n",
              "      <td>&lt;img src=\"./images/index/userCenter/list_vip_v...</td>\n",
              "      <td></td>\n",
              "    </tr>\n",
              "  </tbody>\n",
              "</table>\n",
              "<p>5 rows × 88 columns</p>\n",
              "</div>"
            ],
            "text/plain": [
              "        id  user_id  ...                                            addInfo onepxImg\n",
              "0  9191572  1318377  ...  <img src=\"./images/index/userCenter/list_vip_v...         \n",
              "1  9154845  2099368  ...  <img src=\"./images/index/userCenter/list_vip_v...         \n",
              "2  9180724     3736  ...  <img src=\"./images/index/userCenter/list_vip_v...         \n",
              "3  9184642  1028433  ...  <img src=\"./images/index/userCenter/list_vip_v...         \n",
              "4  9056025  1529100  ...  <img src=\"./images/index/userCenter/list_vip_v...         \n",
              "\n",
              "[5 rows x 88 columns]"
            ]
          },
          "metadata": {
            "tags": []
          },
          "execution_count": 217
        }
      ]
    },
    {
      "cell_type": "code",
      "metadata": {
        "id": "qSDltsddh_To",
        "colab_type": "code",
        "colab": {}
      },
      "source": [
        "df = df[['id','address', 'floor','allfloor','layout','area','price','browsenum_all']]"
      ],
      "execution_count": 0,
      "outputs": []
    },
    {
      "cell_type": "code",
      "metadata": {
        "id": "vk20TzcUiMjU",
        "colab_type": "code",
        "colab": {
          "base_uri": "https://localhost:8080/",
          "height": 195
        },
        "outputId": "02d96b30-778b-457e-bc8e-d91848270d90"
      },
      "source": [
        "df.head()"
      ],
      "execution_count": 219,
      "outputs": [
        {
          "output_type": "execute_result",
          "data": {
            "text/html": [
              "<div>\n",
              "<style scoped>\n",
              "    .dataframe tbody tr th:only-of-type {\n",
              "        vertical-align: middle;\n",
              "    }\n",
              "\n",
              "    .dataframe tbody tr th {\n",
              "        vertical-align: top;\n",
              "    }\n",
              "\n",
              "    .dataframe thead th {\n",
              "        text-align: right;\n",
              "    }\n",
              "</style>\n",
              "<table border=\"1\" class=\"dataframe\">\n",
              "  <thead>\n",
              "    <tr style=\"text-align: right;\">\n",
              "      <th></th>\n",
              "      <th>id</th>\n",
              "      <th>address</th>\n",
              "      <th>floor</th>\n",
              "      <th>allfloor</th>\n",
              "      <th>layout</th>\n",
              "      <th>area</th>\n",
              "      <th>price</th>\n",
              "      <th>browsenum_all</th>\n",
              "    </tr>\n",
              "  </thead>\n",
              "  <tbody>\n",
              "    <tr>\n",
              "      <th>0</th>\n",
              "      <td>9191572</td>\n",
              "      <td>復興南路二段捷運科技大樓..</td>\n",
              "      <td>4</td>\n",
              "      <td>4</td>\n",
              "      <td>3房2廳2衛</td>\n",
              "      <td>28.0</td>\n",
              "      <td>29,500</td>\n",
              "      <td>53</td>\n",
              "    </tr>\n",
              "    <tr>\n",
              "      <th>1</th>\n",
              "      <td>9154845</td>\n",
              "      <td>復興南路一段東區商圈捷運..</td>\n",
              "      <td>4</td>\n",
              "      <td>12</td>\n",
              "      <td>2房1廳1衛</td>\n",
              "      <td>30.0</td>\n",
              "      <td>33,302</td>\n",
              "      <td>870</td>\n",
              "    </tr>\n",
              "    <tr>\n",
              "      <th>2</th>\n",
              "      <td>9180724</td>\n",
              "      <td>敦化南路二段單純社區.24H..</td>\n",
              "      <td>8</td>\n",
              "      <td>10</td>\n",
              "      <td>3房2廳2衛</td>\n",
              "      <td>35.0</td>\n",
              "      <td>40,000</td>\n",
              "      <td>474</td>\n",
              "    </tr>\n",
              "    <tr>\n",
              "      <th>3</th>\n",
              "      <td>9184642</td>\n",
              "      <td>羅斯福路三段269巷南方松..</td>\n",
              "      <td>4</td>\n",
              "      <td>5</td>\n",
              "      <td>3房2廳2衛</td>\n",
              "      <td>30.2</td>\n",
              "      <td>45,000</td>\n",
              "      <td>101</td>\n",
              "    </tr>\n",
              "    <tr>\n",
              "      <th>4</th>\n",
              "      <td>9056025</td>\n",
              "      <td>溫州街74巷台大附近，精裝..</td>\n",
              "      <td>3</td>\n",
              "      <td>7</td>\n",
              "      <td>2房2廳1衛</td>\n",
              "      <td>20.0</td>\n",
              "      <td>35,000</td>\n",
              "      <td>1725</td>\n",
              "    </tr>\n",
              "  </tbody>\n",
              "</table>\n",
              "</div>"
            ],
            "text/plain": [
              "        id           address  floor  ...  area   price  browsenum_all\n",
              "0  9191572    復興南路二段捷運科技大樓..      4  ...  28.0  29,500             53\n",
              "1  9154845    復興南路一段東區商圈捷運..      4  ...  30.0  33,302            870\n",
              "2  9180724  敦化南路二段單純社區.24H..      8  ...  35.0  40,000            474\n",
              "3  9184642   羅斯福路三段269巷南方松..      4  ...  30.2  45,000            101\n",
              "4  9056025   溫州街74巷台大附近，精裝..      3  ...  20.0  35,000           1725\n",
              "\n",
              "[5 rows x 8 columns]"
            ]
          },
          "metadata": {
            "tags": []
          },
          "execution_count": 219
        }
      ]
    },
    {
      "cell_type": "code",
      "metadata": {
        "id": "FHOxGQcviNhC",
        "colab_type": "code",
        "colab": {
          "base_uri": "https://localhost:8080/",
          "height": 34
        },
        "outputId": "4e0f9094-6315-4cc3-9cbc-ab3fd28c3231"
      },
      "source": [
        "len(df)"
      ],
      "execution_count": 220,
      "outputs": [
        {
          "output_type": "execute_result",
          "data": {
            "text/plain": [
              "30"
            ]
          },
          "metadata": {
            "tags": []
          },
          "execution_count": 220
        }
      ]
    },
    {
      "cell_type": "code",
      "metadata": {
        "id": "oKDfAMONiSjF",
        "colab_type": "code",
        "colab": {
          "base_uri": "https://localhost:8080/",
          "height": 34
        },
        "outputId": "857f0839-5097-4a6d-ae3c-a313c03e68de"
      },
      "source": [
        "import math\n",
        "math.ceil(904 / 30)"
      ],
      "execution_count": 222,
      "outputs": [
        {
          "output_type": "execute_result",
          "data": {
            "text/plain": [
              "31"
            ]
          },
          "metadata": {
            "tags": []
          },
          "execution_count": 222
        }
      ]
    },
    {
      "cell_type": "code",
      "metadata": {
        "id": "fPj2X52ZioOW",
        "colab_type": "code",
        "colab": {
          "base_uri": "https://localhost:8080/",
          "height": 538
        },
        "outputId": "749d865d-3173-44b8-86ff-05d182e94473"
      },
      "source": [
        "headers = {\n",
        "    'Cookie': 'webp=1; PHPSESSID=81c7jfgf80mnkrcsdb4tgf3d95; urlJumpIp=1; urlJumpIpByTxt=%E5%8F%B0%E5%8C%97%E5%B8%82; c10f3143a018a0513ebe1e8d27b5391c=1; new_rent_list_kind_test=0; T591_TOKEN=81c7jfgf80mnkrcsdb4tgf3d95; _ga=GA1.3.1540713847.1588407409; _gid=GA1.3.1357088432.1588407409; _ga=GA1.4.1540713847.1588407409; _gid=GA1.4.1357088432.1588407409; tw591__privacy_agree=0; XSRF-TOKEN=eyJpdiI6ImRTM2Zka3dIb0FTVWI0Um9MbzZ5c3c9PSIsInZhbHVlIjoiUDRuRVVxQURhK2lBREtTZHBnUHBUVXJOc2hnbm0zWVwvZG9oNW1Za1U4K0VvZEdFZ2ZBb3FxY0dGcXJxekQ2aG5SUTJLQUZwU0tUV0s1cEJDUTNBd0NnPT0iLCJtYWMiOiI1YWFmOWY5ZmI4ODAxMDgwMjY5NTljNzc5M2Y3NDJlNTBhNjgzODkyODBiNTlhNWIyOTgwYzA3ZmY2YzdkYmM1In0%3D; 591_new_session=eyJpdiI6IklzSEcxbXVYcWZENUp0U3RRT1R5VUE9PSIsInZhbHVlIjoia0tkNnlKeVA3NzMyM00yR21MM2VORFM4NUk4M2pqRVJtUTVYbjF1UnRBWTlocmRhSjRSZ0ZaUU5vdkYyXC9Zd01vNGJ2K29oNUVyRVhvNktrRjc3dTBRPT0iLCJtYWMiOiI2NjUwYTg3ZDVjOWEzMWYwYjgxYzY2NDM0MTg3NGM0OWVmNmViZmY0OTMyMDhlYzgxY2E0YzBhYWI4NWRmZjc1In0%3D',\n",
        "  'X-CSRF-TOKEN': 'G2Mghm0et95WcyeanpP9py7qiwgLt2PKY5znKVVx',  \n",
        "  'User-Agent': 'Mozilla/5.0 (Windows NT 10.0; Win64; x64) AppleWebKit/537.36 (KHTML, like Gecko) Chrome/81.0.4044.129 Safari/537.36'  \n",
        "}\n",
        "\n",
        "houseurl = 'https://rent.591.com.tw/home/search/rsList?is_new_list=1&type=1&kind=1&searchtype=1&region=1&section=5&firstRow={}&totalRows=904'\n",
        "houseary = []\n",
        "for page in range(math.ceil(904 / 30)):\n",
        "  res = requests.get(houseurl.format(page * 30), headers = headers)\n",
        "  jd = res.json()\n",
        "  df = pandas.DataFrame(jd['data']['data'])\n",
        "  houseary.append(df)\n",
        "  print(page)\n",
        "\n"
      ],
      "execution_count": 224,
      "outputs": [
        {
          "output_type": "stream",
          "text": [
            "0\n",
            "1\n",
            "2\n",
            "3\n",
            "4\n",
            "5\n",
            "6\n",
            "7\n",
            "8\n",
            "9\n",
            "10\n",
            "11\n",
            "12\n",
            "13\n",
            "14\n",
            "15\n",
            "16\n",
            "17\n",
            "18\n",
            "19\n",
            "20\n",
            "21\n",
            "22\n",
            "23\n",
            "24\n",
            "25\n",
            "26\n",
            "27\n",
            "28\n",
            "29\n",
            "30\n"
          ],
          "name": "stdout"
        }
      ]
    },
    {
      "cell_type": "code",
      "metadata": {
        "id": "27_FK6iJjS5J",
        "colab_type": "code",
        "colab": {
          "base_uri": "https://localhost:8080/",
          "height": 34
        },
        "outputId": "ef32b691-0e52-487d-8172-ac225fdddd00"
      },
      "source": [
        "len(houseary)"
      ],
      "execution_count": 225,
      "outputs": [
        {
          "output_type": "execute_result",
          "data": {
            "text/plain": [
              "31"
            ]
          },
          "metadata": {
            "tags": []
          },
          "execution_count": 225
        }
      ]
    },
    {
      "cell_type": "code",
      "metadata": {
        "id": "ly-82LGQjcIS",
        "colab_type": "code",
        "colab": {}
      },
      "source": [
        "housedf = pandas.concat(houseary)"
      ],
      "execution_count": 0,
      "outputs": []
    },
    {
      "cell_type": "code",
      "metadata": {
        "id": "x2iIDgQyjgkI",
        "colab_type": "code",
        "colab": {
          "base_uri": "https://localhost:8080/",
          "height": 34
        },
        "outputId": "3f0e9222-8764-4da5-fe4c-184e9d83ffca"
      },
      "source": [
        "len(housedf)"
      ],
      "execution_count": 227,
      "outputs": [
        {
          "output_type": "execute_result",
          "data": {
            "text/plain": [
              "906"
            ]
          },
          "metadata": {
            "tags": []
          },
          "execution_count": 227
        }
      ]
    },
    {
      "cell_type": "code",
      "metadata": {
        "id": "2P3eXNDjjlbS",
        "colab_type": "code",
        "colab": {
          "base_uri": "https://localhost:8080/",
          "height": 1000
        },
        "outputId": "eaa0d8d0-5407-4f07-e789-ce3260703ca3"
      },
      "source": [
        "housedf.info()"
      ],
      "execution_count": 228,
      "outputs": [
        {
          "output_type": "stream",
          "text": [
            "<class 'pandas.core.frame.DataFrame'>\n",
            "Int64Index: 906 entries, 0 to 5\n",
            "Data columns (total 88 columns):\n",
            " #   Column                  Non-Null Count  Dtype  \n",
            "---  ------                  --------------  -----  \n",
            " 0   id                      906 non-null    int64  \n",
            " 1   user_id                 906 non-null    int64  \n",
            " 2   address                 906 non-null    object \n",
            " 3   type                    906 non-null    object \n",
            " 4   post_id                 906 non-null    int64  \n",
            " 5   regionid                906 non-null    int64  \n",
            " 6   sectionid               906 non-null    int64  \n",
            " 7   streetid                906 non-null    int64  \n",
            " 8   room                    906 non-null    int64  \n",
            " 9   area                    906 non-null    float64\n",
            " 10  price                   906 non-null    object \n",
            " 11  storeprice              906 non-null    int64  \n",
            " 12  comment_total           906 non-null    int64  \n",
            " 13  comment_unread          906 non-null    int64  \n",
            " 14  comment_ltime           906 non-null    int64  \n",
            " 15  hasimg                  906 non-null    int64  \n",
            " 16  kind                    906 non-null    int64  \n",
            " 17  shape                   906 non-null    int64  \n",
            " 18  houseage                906 non-null    int64  \n",
            " 19  posttime                906 non-null    object \n",
            " 20  updatetime              906 non-null    int64  \n",
            " 21  refreshtime             906 non-null    int64  \n",
            " 22  checkstatus             906 non-null    int64  \n",
            " 23  status                  906 non-null    object \n",
            " 24  closed                  906 non-null    int64  \n",
            " 25  living                  906 non-null    object \n",
            " 26  condition               906 non-null    object \n",
            " 27  isvip                   906 non-null    int64  \n",
            " 28  mvip                    906 non-null    int64  \n",
            " 29  is_combine              906 non-null    int64  \n",
            " 30  cover                   906 non-null    object \n",
            " 31  browsenum               906 non-null    int64  \n",
            " 32  browsenum_all           906 non-null    int64  \n",
            " 33  floor2                  906 non-null    int64  \n",
            " 34  floor                   906 non-null    int64  \n",
            " 35  ltime                   906 non-null    object \n",
            " 36  cases_id                906 non-null    object \n",
            " 37  social_house            906 non-null    int64  \n",
            " 38  distance                906 non-null    int64  \n",
            " 39  search_name             906 non-null    object \n",
            " 40  mainarea                0 non-null      object \n",
            " 41  balcony_area            0 non-null      object \n",
            " 42  groundarea              0 non-null      object \n",
            " 43  linkman                 906 non-null    object \n",
            " 44  housetype               906 non-null    int64  \n",
            " 45  street_name             906 non-null    object \n",
            " 46  alley_name              906 non-null    object \n",
            " 47  lane_name               906 non-null    object \n",
            " 48  addr_number_name        906 non-null    object \n",
            " 49  kind_name_img           906 non-null    object \n",
            " 50  address_img             906 non-null    object \n",
            " 51  cases_name              906 non-null    object \n",
            " 52  layout                  906 non-null    object \n",
            " 53  layout_str              906 non-null    object \n",
            " 54  allfloor                906 non-null    int64  \n",
            " 55  floorInfo               906 non-null    object \n",
            " 56  house_img               906 non-null    object \n",
            " 57  houseimg                6 non-null      object \n",
            " 58  cartplace               906 non-null    object \n",
            " 59  space_type_str          906 non-null    object \n",
            " 60  photo_alt               906 non-null    object \n",
            " 61  addition4               906 non-null    int64  \n",
            " 62  addition2               906 non-null    int64  \n",
            " 63  addition3               906 non-null    int64  \n",
            " 64  vipimg                  906 non-null    object \n",
            " 65  vipstyle                906 non-null    object \n",
            " 66  vipBorder               906 non-null    object \n",
            " 67  new_list_comment_total  906 non-null    int64  \n",
            " 68  comment_class           906 non-null    object \n",
            " 69  price_hide              906 non-null    object \n",
            " 70  kind_name               906 non-null    object \n",
            " 71  photoNum                906 non-null    object \n",
            " 72  filename                906 non-null    object \n",
            " 73  nick_name               906 non-null    object \n",
            " 74  new_img                 906 non-null    object \n",
            " 75  regionname              906 non-null    object \n",
            " 76  sectionname             906 non-null    object \n",
            " 77  icon_name               906 non-null    object \n",
            " 78  icon_class              906 non-null    object \n",
            " 79  fulladdress             906 non-null    object \n",
            " 80  address_img_title       906 non-null    object \n",
            " 81  browsenum_name          906 non-null    object \n",
            " 82  unit                    906 non-null    object \n",
            " 83  houseid                 906 non-null    int64  \n",
            " 84  region_name             906 non-null    object \n",
            " 85  section_name            906 non-null    object \n",
            " 86  addInfo                 906 non-null    object \n",
            " 87  onepxImg                906 non-null    object \n",
            "dtypes: float64(1), int64(35), object(52)\n",
            "memory usage: 630.0+ KB\n"
          ],
          "name": "stdout"
        }
      ]
    },
    {
      "cell_type": "code",
      "metadata": {
        "id": "-W-WArq2joW2",
        "colab_type": "code",
        "colab": {}
      },
      "source": [
        "housedf = housedf[['id','address', 'floor','allfloor','layout','area','price','browsenum_all']]"
      ],
      "execution_count": 0,
      "outputs": []
    },
    {
      "cell_type": "code",
      "metadata": {
        "id": "diRpb_6tju-N",
        "colab_type": "code",
        "colab": {
          "base_uri": "https://localhost:8080/",
          "height": 195
        },
        "outputId": "6f636229-2078-4a92-d328-f5ef881d3b26"
      },
      "source": [
        "housedf.head()"
      ],
      "execution_count": 230,
      "outputs": [
        {
          "output_type": "execute_result",
          "data": {
            "text/html": [
              "<div>\n",
              "<style scoped>\n",
              "    .dataframe tbody tr th:only-of-type {\n",
              "        vertical-align: middle;\n",
              "    }\n",
              "\n",
              "    .dataframe tbody tr th {\n",
              "        vertical-align: top;\n",
              "    }\n",
              "\n",
              "    .dataframe thead th {\n",
              "        text-align: right;\n",
              "    }\n",
              "</style>\n",
              "<table border=\"1\" class=\"dataframe\">\n",
              "  <thead>\n",
              "    <tr style=\"text-align: right;\">\n",
              "      <th></th>\n",
              "      <th>id</th>\n",
              "      <th>address</th>\n",
              "      <th>floor</th>\n",
              "      <th>allfloor</th>\n",
              "      <th>layout</th>\n",
              "      <th>area</th>\n",
              "      <th>price</th>\n",
              "      <th>browsenum_all</th>\n",
              "    </tr>\n",
              "  </thead>\n",
              "  <tbody>\n",
              "    <tr>\n",
              "      <th>0</th>\n",
              "      <td>6204660</td>\n",
              "      <td>四維路52巷大安站全新飯店..</td>\n",
              "      <td>4</td>\n",
              "      <td>5</td>\n",
              "      <td>2房1廳1衛</td>\n",
              "      <td>22.0</td>\n",
              "      <td>34,000</td>\n",
              "      <td>2515</td>\n",
              "    </tr>\n",
              "    <tr>\n",
              "      <th>1</th>\n",
              "      <td>9175791</td>\n",
              "      <td>安和路一段安和仁愛景觀4..</td>\n",
              "      <td>9</td>\n",
              "      <td>12</td>\n",
              "      <td>4房2廳2衛</td>\n",
              "      <td>41.0</td>\n",
              "      <td>58,888</td>\n",
              "      <td>313</td>\n",
              "    </tr>\n",
              "    <tr>\n",
              "      <th>2</th>\n",
              "      <td>9030090</td>\n",
              "      <td>敦化南路二段遠企商..</td>\n",
              "      <td>7</td>\n",
              "      <td>16</td>\n",
              "      <td>2房1廳1衛</td>\n",
              "      <td>20.0</td>\n",
              "      <td>23,000</td>\n",
              "      <td>12433</td>\n",
              "    </tr>\n",
              "    <tr>\n",
              "      <th>3</th>\n",
              "      <td>9064905</td>\n",
              "      <td>通化街38巷安和路郵局信義..</td>\n",
              "      <td>5</td>\n",
              "      <td>7</td>\n",
              "      <td>3房2廳2衛</td>\n",
              "      <td>42.0</td>\n",
              "      <td>45,000</td>\n",
              "      <td>2505</td>\n",
              "    </tr>\n",
              "    <tr>\n",
              "      <th>4</th>\n",
              "      <td>9102447</td>\n",
              "      <td>信義路三段台北大安森林公..</td>\n",
              "      <td>12</td>\n",
              "      <td>14</td>\n",
              "      <td>1房2廳1衛</td>\n",
              "      <td>11.0</td>\n",
              "      <td>36,000</td>\n",
              "      <td>2578</td>\n",
              "    </tr>\n",
              "  </tbody>\n",
              "</table>\n",
              "</div>"
            ],
            "text/plain": [
              "        id          address  floor  ...  area   price  browsenum_all\n",
              "0  6204660  四維路52巷大安站全新飯店..      4  ...  22.0  34,000           2515\n",
              "1  9175791   安和路一段安和仁愛景觀4..      9  ...  41.0  58,888            313\n",
              "2  9030090      敦化南路二段遠企商..      7  ...  20.0  23,000          12433\n",
              "3  9064905  通化街38巷安和路郵局信義..      5  ...  42.0  45,000           2505\n",
              "4  9102447   信義路三段台北大安森林公..     12  ...  11.0  36,000           2578\n",
              "\n",
              "[5 rows x 8 columns]"
            ]
          },
          "metadata": {
            "tags": []
          },
          "execution_count": 230
        }
      ]
    },
    {
      "cell_type": "code",
      "metadata": {
        "id": "ip3xKjqnjv_q",
        "colab_type": "code",
        "colab": {}
      },
      "source": [
        "housedf.to_excel('house591.xlsx')"
      ],
      "execution_count": 0,
      "outputs": []
    },
    {
      "cell_type": "code",
      "metadata": {
        "id": "in_or064j1Wo",
        "colab_type": "code",
        "colab": {}
      },
      "source": [
        "housedf['price'] = housedf['price'].map(lambda e: int(e.replace(',','')))"
      ],
      "execution_count": 0,
      "outputs": []
    },
    {
      "cell_type": "code",
      "metadata": {
        "id": "c0H-TeJSkGP1",
        "colab_type": "code",
        "colab": {
          "base_uri": "https://localhost:8080/",
          "height": 168
        },
        "outputId": "efe6121b-ac55-4dec-c0f4-6681388703ae"
      },
      "source": [
        "(housedf['price'] / housedf['area']).describe()"
      ],
      "execution_count": 235,
      "outputs": [
        {
          "output_type": "execute_result",
          "data": {
            "text/plain": [
              "count     906.000000\n",
              "mean     1722.628539\n",
              "std       624.158120\n",
              "min       666.666667\n",
              "25%      1258.620690\n",
              "50%      1650.344795\n",
              "75%      2000.000000\n",
              "max      5798.045603\n",
              "dtype: float64"
            ]
          },
          "metadata": {
            "tags": []
          },
          "execution_count": 235
        }
      ]
    },
    {
      "cell_type": "code",
      "metadata": {
        "id": "O9ZptuZKkM7R",
        "colab_type": "code",
        "colab": {}
      },
      "source": [
        "housedf['avg_price'] = housedf['price'] / housedf['area']"
      ],
      "execution_count": 0,
      "outputs": []
    },
    {
      "cell_type": "code",
      "metadata": {
        "id": "I8sJTPrRkqAk",
        "colab_type": "code",
        "colab": {
          "base_uri": "https://localhost:8080/",
          "height": 195
        },
        "outputId": "9828f8ae-2e63-49c6-cb48-a04d72cccba4"
      },
      "source": [
        "housedf.sort_values('price', ascending=False).head()"
      ],
      "execution_count": 240,
      "outputs": [
        {
          "output_type": "execute_result",
          "data": {
            "text/html": [
              "<div>\n",
              "<style scoped>\n",
              "    .dataframe tbody tr th:only-of-type {\n",
              "        vertical-align: middle;\n",
              "    }\n",
              "\n",
              "    .dataframe tbody tr th {\n",
              "        vertical-align: top;\n",
              "    }\n",
              "\n",
              "    .dataframe thead th {\n",
              "        text-align: right;\n",
              "    }\n",
              "</style>\n",
              "<table border=\"1\" class=\"dataframe\">\n",
              "  <thead>\n",
              "    <tr style=\"text-align: right;\">\n",
              "      <th></th>\n",
              "      <th>id</th>\n",
              "      <th>address</th>\n",
              "      <th>floor</th>\n",
              "      <th>allfloor</th>\n",
              "      <th>layout</th>\n",
              "      <th>area</th>\n",
              "      <th>price</th>\n",
              "      <th>browsenum_all</th>\n",
              "      <th>avg_price</th>\n",
              "    </tr>\n",
              "  </thead>\n",
              "  <tbody>\n",
              "    <tr>\n",
              "      <th>4</th>\n",
              "      <td>9179796</td>\n",
              "      <td>信義路三段勤美璞真面公園Park..</td>\n",
              "      <td>11</td>\n",
              "      <td>29</td>\n",
              "      <td>4房2廳3衛</td>\n",
              "      <td>226.9</td>\n",
              "      <td>550000</td>\n",
              "      <td>112</td>\n",
              "      <td>2423.975320</td>\n",
              "    </tr>\n",
              "    <tr>\n",
              "      <th>5</th>\n",
              "      <td>9106278</td>\n",
              "      <td>信義路三段大安森林公園第一排..</td>\n",
              "      <td>11</td>\n",
              "      <td>29</td>\n",
              "      <td>4房2廳3衛</td>\n",
              "      <td>226.9</td>\n",
              "      <td>550000</td>\n",
              "      <td>150</td>\n",
              "      <td>2423.975320</td>\n",
              "    </tr>\n",
              "    <tr>\n",
              "      <th>15</th>\n",
              "      <td>9180690</td>\n",
              "      <td>信義路三段仲介費八折⛄大安森..</td>\n",
              "      <td>11</td>\n",
              "      <td>29</td>\n",
              "      <td>4房2廳3衛</td>\n",
              "      <td>226.0</td>\n",
              "      <td>550000</td>\n",
              "      <td>74</td>\n",
              "      <td>2433.628319</td>\n",
              "    </tr>\n",
              "    <tr>\n",
              "      <th>3</th>\n",
              "      <td>9181977</td>\n",
              "      <td>仁愛路三段帝寶ThePalace我成..</td>\n",
              "      <td>8</td>\n",
              "      <td>18</td>\n",
              "      <td>5房2廳4衛</td>\n",
              "      <td>210.7</td>\n",
              "      <td>350000</td>\n",
              "      <td>76</td>\n",
              "      <td>1661.129568</td>\n",
              "    </tr>\n",
              "    <tr>\n",
              "      <th>29</th>\n",
              "      <td>9180599</td>\n",
              "      <td>新生南路二段仲介費八折●大安..</td>\n",
              "      <td>12</td>\n",
              "      <td>15</td>\n",
              "      <td>4房3廳5衛</td>\n",
              "      <td>222.0</td>\n",
              "      <td>280000</td>\n",
              "      <td>25</td>\n",
              "      <td>1261.261261</td>\n",
              "    </tr>\n",
              "  </tbody>\n",
              "</table>\n",
              "</div>"
            ],
            "text/plain": [
              "         id               address  floor  ...   price browsenum_all    avg_price\n",
              "4   9179796    信義路三段勤美璞真面公園Park..     11  ...  550000           112  2423.975320\n",
              "5   9106278      信義路三段大安森林公園第一排..     11  ...  550000           150  2423.975320\n",
              "15  9180690      信義路三段仲介費八折⛄大安森..     11  ...  550000            74  2433.628319\n",
              "3   9181977  仁愛路三段帝寶ThePalace我成..      8  ...  350000            76  1661.129568\n",
              "29  9180599      新生南路二段仲介費八折●大安..     12  ...  280000            25  1261.261261\n",
              "\n",
              "[5 rows x 9 columns]"
            ]
          },
          "metadata": {
            "tags": []
          },
          "execution_count": 240
        }
      ]
    },
    {
      "cell_type": "markdown",
      "metadata": {
        "id": "FCH_MLStpj-b",
        "colab_type": "text"
      },
      "source": [
        "## Cookie"
      ]
    },
    {
      "cell_type": "code",
      "metadata": {
        "id": "S-qXD4NWktuk",
        "colab_type": "code",
        "colab": {}
      },
      "source": [
        "import requests\n",
        "cookies = {'over18':'1'}\n",
        "res = requests.get('https://www.ptt.cc/bbs/Gossiping/index.html', cookies = cookies)\n",
        "#res.text"
      ],
      "execution_count": 0,
      "outputs": []
    },
    {
      "cell_type": "markdown",
      "metadata": {
        "id": "ZaspVSIVqiYk",
        "colab_type": "text"
      },
      "source": [
        "## Headers"
      ]
    },
    {
      "cell_type": "code",
      "metadata": {
        "id": "_QdaRhGepjN-",
        "colab_type": "code",
        "colab": {}
      },
      "source": [
        "headers = {\n",
        "    'user-agent':'hello, please let me enter'\n",
        "  #'user-agent': 'Mozilla/5.0 (Windows NT 10.0; Win64; x64) AppleWebKit/537.36 (KHTML, like Gecko) Chrome/81.0.4044.129 Safari/537.36'  \n",
        "}\n",
        "res =requests.get('https://ck101.com/', headers = headers)\n",
        "#res.text"
      ],
      "execution_count": 0,
      "outputs": []
    },
    {
      "cell_type": "markdown",
      "metadata": {
        "id": "TCtRy4qUrr3q",
        "colab_type": "text"
      },
      "source": [
        "## Rate Limit\n",
        "- https://www.nginx.com/blog/rate-limiting-nginx/"
      ]
    },
    {
      "cell_type": "code",
      "metadata": {
        "id": "r6u7YOLSrNhr",
        "colab_type": "code",
        "colab": {}
      },
      "source": [
        "import time\n",
        "for i in range(3):\n",
        "  res = requests.get('https://www.twse.com.tw/exchangeReport/MI_INDEX?response=json&date=20200430&type=MS&_=1588411190801')\n",
        "  time.sleep(3)"
      ],
      "execution_count": 0,
      "outputs": []
    },
    {
      "cell_type": "markdown",
      "metadata": {
        "id": "IuIW6wwettDR",
        "colab_type": "text"
      },
      "source": [
        "## Login"
      ]
    },
    {
      "cell_type": "code",
      "metadata": {
        "id": "TFGfJGM2se1e",
        "colab_type": "code",
        "colab": {
          "base_uri": "https://localhost:8080/",
          "height": 54
        },
        "outputId": "0819a36f-35ba-4d6f-f6a7-6073261288f1"
      },
      "source": [
        "headers = {\n",
        "   'cookie': 'buuid=S1BPd3VmV1dsY1doWm1vMG5pSGZhOXNUajFycXFtUjg2Zk5vaE9ERHc5M25xL1FuVzlCYldDRDlYbDBsczRpNC0taVFjbnhoTi9MN0VtQS9PY1lkb2Uvdz09--447732c3fc353c93d4f9bc0e83c65d89c76c77ba; easy_ab=993b47d5-0ebd-4fe9-8a33-3e881e6f3b6e; _ga=GA1.2.1006611942.1588411469; _gid=GA1.2.1644992339.1588411469; _fbp=fb.1.1588411468873.1300310923; upgrade_browser=1; intercom-id-d5wdetwg=61add026-699e-43d6-90d4-d0f659fa9b17; remember_user_token=W1s1MDYzNDJdLCIkMmEkMTAkVXpuNERnWm9yRlFnUHk3THhUUEIxTyIsIjE1ODg0MTE1OTUuMDE2NjI5NSJd--3f4c1e51bef18a1c76dc9de919534e3f5ab25a54; intercom-session-d5wdetwg=T0M2Y0JYYmtPRkZRd29Cc3BvamxyOWphbk5lNFJqSjlIbUVBcTNZWElaWjFZbzdPMkxpdWtLSlZVbkFTRXdqby0tL2xxcmN0bWIzTHJQNUovS0MyMEVNZz09--63bcdb6de20199ef70315901eef36b51b1c0803f; _gali=main-section; _statementdog_session_v2=WDF2OEpvc0REZmpBdEFMeVFCcUcrTHYwTFBlWkI0NDM1WU5WTFFmMjBIZWpHOFlaRFhMZDA2NnEwWEJENjdFaE0zbW5DYmJvVHZWdjNBVUpFZFRHbU5VZFQxRGRUSkJXMDcraEU5c09xeElsclhvTFVFTTNROVRiK1pqOU9kS0d6bkFRRC93TGdjdERobjJ2NHAwOVFPZDg0VERYNkgwa0xlRFNQRHdEbDhVdWZzeTZ6UFVjTmhKSHQ1V2JnWmxUNHBlaXNqZ2p5Uy9oTmloSUFNTFlzN0ZvaHhlMGg0QkdyQmtLTEtROVF1V2lrV3NlZm8rcDlWQjlXQlYxNlBNS1lvcXhpaFdvenZPNDZsSEFDZ0o5QnpQakpHMTgraitZZVN5anJJYVpYcEFwUndrbmpqeHQ1eFFYUU5NQS9BaVREak9ZNG5lK0NQbFZ3bEdUMHg3bVdnPT0tLW5pMnkzdDAyWGVJT25ZcFVrSmtCQ2c9PQ%3D%3D--799559272f2ebffb390d662fce662e4664d70890; amplitude_id_0ab77a441fbc226251ef1a272380fcd7statementdog.com=eyJkZXZpY2VJZCI6IjAxZmUwODEzLWU3MzYtNDZmOS1hM2Q0LTQwZTkwOTc2NWRlZlIiLCJ1c2VySWQiOiI1MDYzNDIiLCJvcHRPdXQiOmZhbHNlLCJzZXNzaW9uSWQiOjE1ODg0MTE0Njg3NzIsImxhc3RFdmVudFRpbWUiOjE1ODg0MTE2NDU5NjIsImV2ZW50SWQiOjEyLCJpZGVudGlmeUlkIjoxMywic2VxdWVuY2VOdW1iZXIiOjI1fQ==; _gat=1' \n",
        "}\n",
        "res = requests.get('https://statementdog.com/api/v1/feeds?&_=1588411646116', headers = headers)\n",
        "res.text"
      ],
      "execution_count": 250,
      "outputs": [
        {
          "output_type": "execute_result",
          "data": {
            "text/plain": [
              "'{\"items\":[{\"type\":\"news\",\"id\":3254840,\"title\":\"個股：智冠(5478)受邀參加國泰證券4/29舉辦之線上法人座談會\",\"source_url\":\"https://tw.stock.yahoo.com/news/%E5%80%8B%E8%82%A1-%E6%99%BA%E5%86%A0-5478-%E5%8F%97%E9%82%80%E5%8F%83%E5%8A%A0%E5%9C%8B%E6%B3%B0%E8%AD%89%E5%88%B84-29%E8%88%89%E8%BE%A6%E4%B9%8B%E7%B7%9A%E4%B8%8A%E6%B3%95%E4%BA%BA%E5%BA%A7%E8%AB%87%E6%9C%83-232200903.html\",\"likers_count\":0,\"liked\":false,\"collected\":false,\"related_stocks\":[{\"id\":1313,\"ticker\":\"5478\",\"name\":\"智冠\"}],\"total_comments_count\":0,\"created_at\":\"2020-04-28T07:22:00+08:00\",\"created_or_replied_at\":\"2020-04-28T07:22:00+08:00\",\"comments_count\":0,\"comments\":[],\"comments_pagination\":{\"has_more_comments\":false,\"next_url\":null},\"content\":\"本公司受邀參加國泰證券舉辦之線上法人座談會 符合條款第四條第XX款：12 事實發生日：109/04/29 1.召開法人說明會之日期：109/04/29 2.召開法人說明會之時間：15 時 30 分 3...\"},{\"type\":\"announcement\",\"id\":1235582,\"title\":\"本公司受邀參加國泰證券舉辦之線上法人座談會\",\"source_url\":\"https://mops.twse.com.tw/mops/web/t05st02?step=1&off=1&firstin=1&TYPEK=otc&i=198&h1980=%B4%BC%AB%61&h1981=5478&h1982=20200427&h1983=180434&h1984=%A5%BB%A4%BD%A5%71%A8%FC%C1%DC%B0%D1%A5%5B%B0%EA%AE%F5%C3%D2%A8%E9%C1%7C%BF%EC%A4%A7%BD%75%A4%57%AA%6B%A4%48%AE%79%BD%CD%B7%7C&h1985=1&pgname=t05st02\",\"likers_count\":0,\"liked\":false,\"collected\":false,\"related_stocks\":[{\"id\":1313,\"ticker\":\"5478\",\"name\":\"智冠\"}],\"total_comments_count\":0,\"created_at\":\"2020-04-27T18:04:34+08:00\",\"created_or_replied_at\":\"2020-04-27T18:04:34+08:00\",\"comments_count\":0,\"comments\":[],\"comments_pagination\":{\"has_more_comments\":false,\"next_url\":null},\"content\":\"本公司受邀參加國泰證券舉辦之線上法人座談會\"},{\"type\":\"news\",\"id\":3252120,\"title\":\"《熱門族群》台電競廠樂估營運漲\",\"source_url\":\"https://tw.stock.yahoo.com/news/%E7%86%B1%E9%96%80%E6%97%8F%E7%BE%A4-%E5%8F%B0%E9%9B%BB%E7%AB%B6%E5%BB%A0%E6%A8%82%E4%BC%B0%E7%87%9F%E9%81%8B%E6%BC%B2-004515342.html\",\"likers_count\":0,\"liked\":false,\"collected\":false,\"related_stocks\":[{\"id\":1313,\"ticker\":\"5478\",\"name\":\"智冠\"}],\"total_comments_count\":0,\"created_at\":\"2020-04-21T08:45:15+08:00\",\"created_or_replied_at\":\"2020-04-21T08:45:15+08:00\",\"comments_count\":0,\"comments\":[],\"comments_pagination\":{\"has_more_comments\":false,\"next_url\":null},\"content\":\"【時報-台北電】看好在疫情擴散全球之際，除了遠端辦公需求急增外，電競需求仍持穩以高個位數到兩位數的幅度增長，台系統品牌廠包括宏碁 （2353） 、華碩 （2357） 及微星 （2377） 對今年旗下電...\"},{\"type\":\"announcement\",\"id\":1234261,\"title\":\"澄清有關媒體對本公司相關報導\",\"source_url\":\"https://mops.twse.com.tw/mops/web/t05st02?step=1&off=1&firstin=1&TYPEK=otc&i=13&h130=%B4%BC%AB%61&h131=5478&h132=20200420&h133=105700&h134=%BC%E1%B2%4D%A6%B3%C3%F6%B4%43%C5%E9%B9%EF%A5%BB%A4%BD%A5%71%AC%DB%C3%F6%B3%F8%BE%C9&h135=1&pgname=t05st02\",\"likers_count\":0,\"liked\":false,\"collected\":false,\"related_stocks\":[{\"id\":1313,\"ticker\":\"5478\",\"name\":\"智冠\"}],\"total_comments_count\":0,\"created_at\":\"2020-04-20T10:57:00+08:00\",\"created_or_replied_at\":\"2020-04-20T10:57:00+08:00\",\"comments_count\":0,\"comments\":[],\"comments_pagination\":{\"has_more_comments\":false,\"next_url\":null},\"content\":\"澄清有關媒體對本公司相關報導\"},{\"type\":\"news\",\"id\":3248555,\"title\":\"個股：智冠(5478)旗下遊戲旺，3月營收旺，首季業績年增近三成\",\"source_url\":\"https://tw.stock.yahoo.com/news/%E5%80%8B%E8%82%A1-%E6%99%BA%E5%86%A0-5478-%E6%97%97%E4%B8%8B%E9%81%8A%E6%88%B2%E6%97%BA-3%E6%9C%88%E7%87%9F%E6%94%B6%E6%97%BA-012326243.html\",\"likers_count\":0,\"liked\":false,\"collected\":false,\"related_stocks\":[{\"id\":1313,\"ticker\":\"5478\",\"name\":\"智冠\"}],\"total_comments_count\":0,\"created_at\":\"2020-04-13T09:23:26+08:00\",\"created_or_replied_at\":\"2020-04-13T09:23:26+08:00\",\"comments_count\":0,\"comments\":[],\"comments_pagination\":{\"has_more_comments\":false,\"next_url\":null},\"content\":\"【財訊快報／記者戴海茜報導】智冠(5478)公佈3月營收7.47億元，年成長47.13%，創下採淨額法以來最高單月營收，還原總額法營收更達22.2億元，一舉突破歷年紀錄，累計第一季合併營收19.14億...\"},{\"type\":\"news\",\"id\":3248144,\"title\":\"宅經濟發威 智冠宇峻3月營收旺\",\"source_url\":\"https://tw.stock.yahoo.com/news/%E5%AE%85%E7%B6%93%E6%BF%9F%E7%99%BC%E5%A8%81-%E6%99%BA%E5%86%A0%E5%AE%87%E5%B3%BB3%E6%9C%88%E7%87%9F%E6%94%B6%E6%97%BA-124910553.html\",\"likers_count\":0,\"liked\":false,\"collected\":false,\"related_stocks\":[{\"id\":1313,\"ticker\":\"5478\",\"name\":\"智冠\"}],\"total_comments_count\":0,\"created_at\":\"2020-04-10T20:49:10+08:00\",\"created_or_replied_at\":\"2020-04-10T20:49:10+08:00\",\"comments_count\":0,\"comments\":[],\"comments_pagination\":{\"has_more_comments\":false,\"next_url\":null},\"content\":\"（中央社記者韓婷婷台北2020年4月10日電）武漢肺炎疫情讓民眾減少外出，刺激遊戲產業在第1季均繳出不錯成績，除鈊象(3293)3月營收衝上新台幣6.51億元，連續4個月創新高外，智冠3月營收也創下新...\"},{\"type\":\"news\",\"id\":3246435,\"title\":\"營收：智冠(5478)3月營收7億4732萬元，月增率29.91%，年增率47.13%\",\"source_url\":\"https://tw.stock.yahoo.com/news/%E7%87%9F%E6%94%B6-%E6%99%BA%E5%86%A0-5478-3%E6%9C%88%E7%87%9F%E6%94%B67%E5%84%844732%E8%90%AC%E5%85%83-%E6%9C%88%E5%A2%9E%E7%8E%8729-054742131.html\",\"likers_count\":0,\"liked\":false,\"collected\":false,\"related_stocks\":[{\"id\":1313,\"ticker\":\"5478\",\"name\":\"智冠\"}],\"total_comments_count\":0,\"created_at\":\"2020-04-10T13:47:42+08:00\",\"created_or_replied_at\":\"2020-04-10T13:47:42+08:00\",\"comments_count\":0,\"comments\":[],\"comments_pagination\":{\"has_more_comments\":false,\"next_url\":null},\"content\":\"【財訊快報／編輯部】智冠(5478)自結109年3月營收7億4732萬9000元，和上個月的5億7522萬4000元相較，增加金額為1億7210萬5000元，較上月增加29.91%，和108年同月的5...\"},{\"type\":\"news\",\"id\":3246137,\"title\":\"《文創股》三事業群走穩 智冠拚再創佳績\",\"source_url\":\"https://tw.stock.yahoo.com/news/%E6%96%87%E5%89%B5%E8%82%A1-%E4%B8%89%E4%BA%8B%E6%A5%AD%E7%BE%A4%E8%B5%B0%E7%A9%A9-%E6%99%BA%E5%86%A0%E6%8B%9A%E5%86%8D%E5%89%B5%E4%BD%B3%E7%B8%BE-001518395.html\",\"likers_count\":0,\"liked\":false,\"collected\":false,\"related_stocks\":[{\"id\":1313,\"ticker\":\"5478\",\"name\":\"智冠\"}],\"total_comments_count\":0,\"created_at\":\"2020-04-10T08:15:18+08:00\",\"created_or_replied_at\":\"2020-04-10T08:15:18+08:00\",\"comments_count\":0,\"comments\":[],\"comments_pagination\":{\"has_more_comments\":false,\"next_url\":null},\"content\":\"【時報-台北電】智冠科技 （5478） 9日線上法說會，財管中心總經理鍾興博表示，2019年智冠因為遊戲事業群確立方向，其他投資虧損大幅縮減，因此營收獲利創下近十年新高。展望2020將有重磅遊戲《黃易...\"},{\"type\":\"news\",\"id\":3245462,\"title\":\"《文創股》網龍「黃易M」拚Q2底前登場 看好貢獻勝「吞食M」\",\"source_url\":\"https://tw.stock.yahoo.com/news/%E6%96%87%E5%89%B5%E8%82%A1-%E7%B6%B2%E9%BE%8D-%E9%BB%83%E6%98%93m-%E6%8B%9Aq2%E5%BA%95%E5%89%8D%E7%99%BB%E5%A0%B4-%E7%9C%8B%E5%A5%BD%E8%B2%A2%E7%8D%BB%E5%8B%9D-083639043.html\",\"likers_count\":0,\"liked\":false,\"collected\":false,\"related_stocks\":[{\"id\":1313,\"ticker\":\"5478\",\"name\":\"智冠\"}],\"total_comments_count\":0,\"created_at\":\"2020-04-09T16:36:39+08:00\",\"created_or_replied_at\":\"2020-04-09T16:36:39+08:00\",\"comments_count\":0,\"comments\":[],\"comments_pagination\":{\"has_more_comments\":false,\"next_url\":null},\"content\":\"【時報記者莊丙農台北報導】網龍 (3083) 今天參加櫃買中心舉行的線上業績發表會，智冠 (5478) 集團發言人鍾興博指出，今年經典手遊《黃易M》預計第2季底前推出，由於《黃易M》為大型遊戲IP，單...\"},{\"type\":\"tweet\",\"id\":16953,\"title\":null,\"source_url\":null,\"likers_count\":0,\"liked\":false,\"collected\":false,\"related_stocks\":[{\"id\":1313,\"ticker\":\"5478\",\"name\":\"智冠\"}],\"total_comments_count\":0,\"created_at\":\"2020-04-09T08:21:36+08:00\",\"created_or_replied_at\":\"2020-04-09T08:21:36+08:00\",\"comments_count\":0,\"comments\":[],\"comments_pagination\":{\"has_more_comments\":false,\"next_url\":null},\"content\":\"財務狀況穩定，但毛利率成長有限甚至呈現下滑值得憂慮。成長動能不明，須看公司未來整體策略是什麼。價格方便本益比和股價淨值比還好，但也不到便宜的程度。目前可以再觀察看看未來成長動能和股價如何變化。\",\"images\":[],\"author\":{\"name\":\"黃書韋\",\"avatar_url\":\"https://statementdog.s3.amazonaws.com/uploads/user/avatar/2015/452236/small_d295fe8c-2fad-4502-b055-41f2d429d693.jpeg\",\"current_user\":false,\"guest\":false}},{\"type\":\"news\",\"id\":3241723,\"title\":\"《文創股》3月營收戰新高 宇峻樂開趴\",\"source_url\":\"https://tw.stock.yahoo.com/news/%E6%96%87%E5%89%B5%E8%82%A1-3%E6%9C%88%E7%87%9F%E6%94%B6%E6%88%B0%E6%96%B0%E9%AB%98-%E5%AE%87%E5%B3%BB%E6%A8%82%E9%96%8B%E8%B6%B4-035458959.html\",\"likers_count\":0,\"liked\":false,\"collected\":false,\"related_stocks\":[{\"id\":1313,\"ticker\":\"5478\",\"name\":\"智冠\"}],\"total_comments_count\":0,\"created_at\":\"2020-04-06T11:54:58+08:00\",\"created_or_replied_at\":\"2020-04-06T11:54:58+08:00\",\"comments_count\":0,\"comments\":[],\"comments_pagination\":{\"has_more_comments\":false,\"next_url\":null},\"content\":\"【時報記者莊丙農台北報導】宇峻 (3546) 即將在本周公布3月營收，由於3月自行開發並與智冠 (5478) 子公司遊戲新幹線聯合發行的手遊《三國群英傳M》完整挹注營收，預期單月營收挑戰新高；此外，3...\"},{\"type\":\"news\",\"id\":3235651,\"title\":\"智冠去年EPS 5元；Q1營運佳、啟動庫藏股\",\"source_url\":\"https://tw.stock.yahoo.com/news/%E6%99%BA%E5%86%A0%E5%8E%BB%E5%B9%B4eps-5%E5%85%83-q1%E7%87%9F%E9%81%8B%E4%BD%B3-%E5%95%9F%E5%8B%95%E5%BA%AB%E8%97%8F%E8%82%A1-032900084.html\",\"likers_count\":0,\"liked\":false,\"collected\":false,\"related_stocks\":[{\"id\":1313,\"ticker\":\"5478\",\"name\":\"智冠\"}],\"total_comments_count\":0,\"created_at\":\"2020-03-26T11:29:00+08:00\",\"created_or_replied_at\":\"2020-03-26T11:29:00+08:00\",\"comments_count\":0,\"comments\":[],\"comments_pagination\":{\"has_more_comments\":false,\"next_url\":null},\"content\":\"MoneyDJ新聞 2020-03-26 11:29:35 記者 萬惠雯 報導    遊戲軟體廠商智冠(5478)去年每股獲利達5元，創下9年以來新高水準，主要是因為子公司逐漸調整，包括網龍(3083...\"},{\"type\":\"news\",\"id\":3235205,\"title\":\"《股利-文創》智冠擬配息4元，今啟動庫藏股\",\"source_url\":\"https://tw.stock.yahoo.com/news/%E8%82%A1%E5%88%A9-%E6%96%87%E5%89%B5-%E6%99%BA%E5%86%A0%E6%93%AC%E9%85%8D%E6%81%AF4%E5%85%83-%E4%BB%8A%E5%95%9F%E5%8B%95%E5%BA%AB%E8%97%8F%E8%82%A1-235512429.html\",\"likers_count\":0,\"liked\":false,\"collected\":false,\"related_stocks\":[{\"id\":1313,\"ticker\":\"5478\",\"name\":\"智冠\"}],\"total_comments_count\":0,\"created_at\":\"2020-03-26T07:55:12+08:00\",\"created_or_replied_at\":\"2020-03-26T07:55:12+08:00\",\"comments_count\":0,\"comments\":[],\"comments_pagination\":{\"has_more_comments\":false,\"next_url\":null},\"content\":\"【時報記者莊丙農台北報導】智冠 (5478) 2019年合併營收58.29億元，年增4.97％，稅後淨利6.11億元，年增32.35％，每股盈餘5元。公司指出，集團各轉投資公司逐步調整到位，除了網龍轉...\"},{\"type\":\"news\",\"id\":3235206,\"title\":\"個股：智冠(5478)董事會決議，108年度擬每股配息4元\",\"source_url\":\"https://tw.stock.yahoo.com/news/%E5%80%8B%E8%82%A1-%E6%99%BA%E5%86%A0-5478-%E8%91%A3%E4%BA%8B%E6%9C%83%E6%B1%BA%E8%AD%B0-108%E5%B9%B4%E5%BA%A6%E6%93%AC%E6%AF%8F%E8%82%A1%E9%85%8D%E6%81%AF4%E5%85%83-235358128.html\",\"likers_count\":0,\"liked\":false,\"collected\":false,\"related_stocks\":[{\"id\":1313,\"ticker\":\"5478\",\"name\":\"智冠\"}],\"total_comments_count\":0,\"created_at\":\"2020-03-26T07:53:58+08:00\",\"created_or_replied_at\":\"2020-03-26T07:53:58+08:00\",\"comments_count\":0,\"comments\":[],\"comments_pagination\":{\"has_more_comments\":false,\"next_url\":null},\"content\":\"董事會決議股利分派 1. 董事會擬議日期：109/03/25 2. 股利所屬年(季)度：108年 年度 3. 股利所屬期間：108/01/01 至 108/12/31 4. 股東配發內容： \\u3000(1)盈...\"},{\"type\":\"news\",\"id\":3235207,\"title\":\"個股：智冠(5478)董事會決議，109/6/18召開股東常會\",\"source_url\":\"https://tw.stock.yahoo.com/news/%E5%80%8B%E8%82%A1-%E6%99%BA%E5%86%A0-5478-%E8%91%A3%E4%BA%8B%E6%9C%83%E6%B1%BA%E8%AD%B0-109-235355245.html\",\"likers_count\":0,\"liked\":false,\"collected\":false,\"related_stocks\":[{\"id\":1313,\"ticker\":\"5478\",\"name\":\"智冠\"}],\"total_comments_count\":0,\"created_at\":\"2020-03-26T07:53:55+08:00\",\"created_or_replied_at\":\"2020-03-26T07:53:55+08:00\",\"comments_count\":0,\"comments\":[],\"comments_pagination\":{\"has_more_comments\":false,\"next_url\":null},\"content\":\"董事會決議召開股東常會事宜公告 1.董事會決議日期:109/03/25 2.股東會召開日期:109/06/18 3.股東會召開地點:高雄國賓大飯店樓外樓(高雄市民生二路202號20樓) 4.召集事由一...\"},{\"type\":\"news\",\"id\":3235208,\"title\":\"個股：智冠(5478)去年每股賺5元，創9年來新高，擬配4元股息，並實施庫藏股\",\"source_url\":\"https://tw.stock.yahoo.com/news/%E5%80%8B%E8%82%A1-%E6%99%BA%E5%86%A0-5478-%E5%8E%BB%E5%B9%B4%E6%AF%8F%E8%82%A1%E8%B3%BA5%E5%85%83-%E5%89%B59%E5%B9%B4%E4%BE%86%E6%96%B0%E9%AB%98-234107571.html\",\"likers_count\":0,\"liked\":false,\"collected\":false,\"related_stocks\":[{\"id\":1313,\"ticker\":\"5478\",\"name\":\"智冠\"}],\"total_comments_count\":0,\"created_at\":\"2020-03-26T07:41:07+08:00\",\"created_or_replied_at\":\"2020-03-26T07:41:07+08:00\",\"comments_count\":0,\"comments\":[],\"comments_pagination\":{\"has_more_comments\":false,\"next_url\":null},\"content\":\"【財訊快報／記者戴海茜報導】智冠(5478)公布2019年財報及股利政策。2019年每股盈餘5元，創下9年來新高，董事會決議配發4元現金股利，盈餘配發率80%，以今天收盤價70.4元計算，現金殖利率為...\"},{\"type\":\"news\",\"id\":3235209,\"title\":\"個股：智冠(5478)決議即日起至5/25買回1,500張庫藏股，每股區間50～100元\",\"source_url\":\"https://tw.stock.yahoo.com/news/%E5%80%8B%E8%82%A1-%E6%99%BA%E5%86%A0-5478-%E6%B1%BA%E8%AD%B0%E5%8D%B3%E6%97%A5%E8%B5%B7%E8%87%B35-25%E8%B2%B7%E5%9B%9E1-231512157.html\",\"likers_count\":0,\"liked\":false,\"collected\":false,\"related_stocks\":[{\"id\":1313,\"ticker\":\"5478\",\"name\":\"智冠\"}],\"total_comments_count\":0,\"created_at\":\"2020-03-26T07:15:12+08:00\",\"created_or_replied_at\":\"2020-03-26T07:15:12+08:00\",\"comments_count\":0,\"comments\":[],\"comments_pagination\":{\"has_more_comments\":false,\"next_url\":null},\"content\":\"公告本公司董事會決議實施第九次庫藏股作業 1.董事會決議日期:109/03/25 2.買回股份目的:轉讓股份予員工 3.買回股份種類:普通股 4.買回股份總金額上限(元):4,231,114,157 ...\"},{\"type\":\"news\",\"id\":3235094,\"title\":\"智冠去年EPS 5元9年新高 26日起實施庫藏股\",\"source_url\":\"https://tw.stock.yahoo.com/news/%E6%99%BA%E5%86%A0%E5%8E%BB%E5%B9%B4eps-5%E5%85%839%E5%B9%B4%E6%96%B0%E9%AB%98-26%E6%97%A5%E8%B5%B7%E5%AF%A6%E6%96%BD%E5%BA%AB%E8%97%8F%E8%82%A1-125404081.html\",\"likers_count\":0,\"liked\":false,\"collected\":false,\"related_stocks\":[{\"id\":1313,\"ticker\":\"5478\",\"name\":\"智冠\"}],\"total_comments_count\":0,\"created_at\":\"2020-03-25T20:54:04+08:00\",\"created_or_replied_at\":\"2020-03-25T20:54:04+08:00\",\"comments_count\":0,\"comments\":[],\"comments_pagination\":{\"has_more_comments\":false,\"next_url\":null},\"content\":\"（中央社記者韓婷婷台2020年3月25日電）智冠科技(5478)公告2019年合併營收新台幣58.29億元，稅後淨利6.11億元，年增32.35%，稅後每股盈餘（EPS）5元，創9年來新高，董事會決議...\"},{\"type\":\"news\",\"id\":3235095,\"title\":\"智冠3/26起預定買回1,500張，區間價50.00~100.00元\",\"source_url\":\"https://tw.stock.yahoo.com/news/%E6%99%BA%E5%86%A03-26%E8%B5%B7%E9%A0%90%E5%AE%9A%E8%B2%B7%E5%9B%9E1-500%E5%BC%B5-%E5%8D%80%E9%96%93%E5%83%B950-00-115500104.html\",\"likers_count\":0,\"liked\":false,\"collected\":false,\"related_stocks\":[{\"id\":1313,\"ticker\":\"5478\",\"name\":\"智冠\"}],\"total_comments_count\":0,\"created_at\":\"2020-03-25T19:55:00+08:00\",\"created_or_replied_at\":\"2020-03-25T19:55:00+08:00\",\"comments_count\":0,\"comments\":[],\"comments_pagination\":{\"has_more_comments\":false,\"next_url\":null},\"content\":\"公開資訊觀測站重大訊息公告(5478)智冠公告本公司董事會決議實施第九次庫藏股作業1.董事會決議日期:109/03/25  2.買回股份目的:轉讓股份予員工  3.買回股份種類:普通股  4.買回股份...\"},{\"type\":\"announcement\",\"id\":1229366,\"title\":\"公告本公司董事會決議實施第九次庫藏股作業\",\"source_url\":\"https://mops.twse.com.tw/mops/web/t05st02?step=1&off=1&firstin=1&TYPEK=otc&i=636&h6360=%B4%BC%AB%61&h6361=5478&h6362=20200325&h6363=174456&h6364=%A4%BD%A7%69%A5%BB%A4%BD%A5%71%B8%B3%A8%C6%B7%7C%A8%4D%C4%B3%B9%EA%AC%49%B2%C4%A4%45%A6%B8%AE%77%C2%C3%AA%D1%A7%40%B7%7E&h6365=4&pgname=t05st02\",\"likers_count\":0,\"liked\":false,\"collected\":false,\"related_stocks\":[{\"id\":1313,\"ticker\":\"5478\",\"name\":\"智冠\"}],\"total_comments_count\":0,\"created_at\":\"2020-03-25T17:44:56+08:00\",\"created_or_replied_at\":\"2020-03-25T17:44:56+08:00\",\"comments_count\":0,\"comments\":[],\"comments_pagination\":{\"has_more_comments\":false,\"next_url\":null},\"content\":\"公告本公司董事會決議實施第九次庫藏股作業\"}],\"pagination\":{\"has_more_items\":true,\"next_url\":\"https://statementdog.com/api/v1/feeds?max_time=2020-03-25T17:44:56+08:00&type=news,tweet,announcement,insight_post\"}}'"
            ]
          },
          "metadata": {
            "tags": []
          },
          "execution_count": 250
        }
      ]
    },
    {
      "cell_type": "markdown",
      "metadata": {
        "id": "eqAmkvOdvTAv",
        "colab_type": "text"
      },
      "source": [
        "## 請協助我抓自由時報(https://news.ltn.com.tw/list/breakingnews) 即時新聞區的\n",
        "\n",
        "- 標題\n",
        "- 連結\n",
        "- 時間"
      ]
    },
    {
      "cell_type": "code",
      "metadata": {
        "id": "Q7zKEDDVtriv",
        "colab_type": "code",
        "colab": {}
      },
      "source": [
        ""
      ],
      "execution_count": 0,
      "outputs": []
    }
  ]
}