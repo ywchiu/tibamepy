{
  "nbformat": 4,
  "nbformat_minor": 0,
  "metadata": {
    "colab": {
      "name": "Demo20200912.ipynb",
      "provenance": [],
      "collapsed_sections": []
    },
    "kernelspec": {
      "name": "python3",
      "display_name": "Python 3"
    }
  },
  "cells": [
    {
      "cell_type": "markdown",
      "metadata": {
        "id": "mO4MvMxx9Ht1",
        "colab_type": "text"
      },
      "source": [
        "## 作業 (Python 基礎)\n",
        "- 1 請使用 pip 將 jieba 安裝在自己的電腦上\n",
        "- 2 閱讀jieba 相關的文件，了解jieba 的用法\n",
        "- 3 請將蔡英文演說文 (https://raw.githubusercontent.com/ywchiu/tibamedl/master/Data/speech_tsai.txt) 下載存入到自己電腦\n",
        "- 4 請使用python 的檔案操作方法讀取新聞\n",
        "- 5 請使用 jieba 將演說文切詞\n",
        "-6 請統計該演說文最常出現的十大字詞"
      ]
    },
    {
      "cell_type": "code",
      "metadata": {
        "id": "oLlB42qy8T2Y",
        "colab_type": "code",
        "colab": {
          "base_uri": "https://localhost:8080/",
          "height": 54
        },
        "outputId": "8826a799-fcd9-4482-d6de-02c3aabf042a"
      },
      "source": [
        "! pip install jieba"
      ],
      "execution_count": 1,
      "outputs": [
        {
          "output_type": "stream",
          "text": [
            "Requirement already satisfied: jieba in /usr/local/lib/python3.6/dist-packages (0.42.1)\n"
          ],
          "name": "stdout"
        }
      ]
    },
    {
      "cell_type": "code",
      "metadata": {
        "id": "4OecJz2j9LJ2",
        "colab_type": "code",
        "colab": {
          "base_uri": "https://localhost:8080/",
          "height": 120
        },
        "outputId": "b283e0f5-46b8-46c6-ca05-1f4abe79685b"
      },
      "source": [
        "import jieba\n",
        "\n",
        "\n",
        "seg_list = jieba.cut(\"我来到北京清华大学\", cut_all=True)\n",
        "print(\"Full Mode: \" + \"/ \".join(seg_list))  # 全模式\n",
        "\n",
        "seg_list = jieba.cut(\"我来到北京清华大学\", cut_all=False)\n",
        "print(\"Default Mode: \" + \"/ \".join(seg_list))  # 精确模式"
      ],
      "execution_count": 2,
      "outputs": [
        {
          "output_type": "stream",
          "text": [
            "Building prefix dict from the default dictionary ...\n",
            "Dumping model to file cache /tmp/jieba.cache\n",
            "Loading model cost 0.948 seconds.\n",
            "Prefix dict has been built successfully.\n"
          ],
          "name": "stderr"
        },
        {
          "output_type": "stream",
          "text": [
            "Full Mode: 我/ 来到/ 北京/ 清华/ 清华大学/ 华大/ 大学\n",
            "Default Mode: 我/ 来到/ 北京/ 清华大学\n"
          ],
          "name": "stdout"
        }
      ]
    },
    {
      "cell_type": "code",
      "metadata": {
        "id": "WVQxKHqK-Aiy",
        "colab_type": "code",
        "colab": {
          "base_uri": "https://localhost:8080/",
          "height": 54
        },
        "outputId": "b104e28f-0dd7-40b6-c4c6-76573cb4d619"
      },
      "source": [
        "jieba.add_word('觀光局')\n",
        "seg_list = jieba.cut(\"交通部觀光局東北角管理處將海巡據點馬崗哨所整修，轉型為多元使用的遊憩據點「馬崗哨所Empress Gallery」藝術咖啡廳，昨天正式營運，店內結合「貓夫人」攝影展，展示在當地馬崗社區拍攝的貓咪倩影，成為眺望卯澳灣山海美景的全新休憩景點。\", cut_all=False)\n",
        "print(\"Default Mode: \" + \"/ \".join(seg_list))  # 精确模式"
      ],
      "execution_count": 4,
      "outputs": [
        {
          "output_type": "stream",
          "text": [
            "Default Mode: 交通部/ 觀光局/ 東/ 北角/ 管理/ 處將/ 海巡/ 據/ 點馬崗/ 哨所/ 整修/ ，/ 轉型/ 為/ 多元/ 使用/ 的/ 遊憩/ 據點/ 「/ 馬/ 崗/ 哨所/ Empress/  / Gallery/ 」/ 藝術/ 咖啡/ 廳/ ，/ 昨天/ 正式/ 營運/ ，/ 店內/ 結合/ 「/ 貓/ 夫人/ 」/ 攝/ 影展/ ，/ 展示/ 在/ 當地馬崗/ 社區/ 拍/ 攝/ 的/ 貓咪/ 倩影/ ，/ 成為/ 眺望/ 卯/ 澳灣/ 山海/ 美景/ 的/ 全新/ 休憩/ 景點/ 。\n"
          ],
          "name": "stdout"
        }
      ]
    },
    {
      "cell_type": "code",
      "metadata": {
        "id": "ZY5aXAWS-ZIq",
        "colab_type": "code",
        "colab": {
          "base_uri": "https://localhost:8080/",
          "height": 226
        },
        "outputId": "27733866-be62-4cd7-c7bc-086bfcdd8739"
      },
      "source": [
        "! wget https://raw.githubusercontent.com/ywchiu/tibamedl/master/Data/speech_tsai.txt"
      ],
      "execution_count": 5,
      "outputs": [
        {
          "output_type": "stream",
          "text": [
            "--2020-09-12 01:43:07--  https://raw.githubusercontent.com/ywchiu/tibamedl/master/Data/speech_tsai.txt\n",
            "Resolving raw.githubusercontent.com (raw.githubusercontent.com)... 151.101.0.133, 151.101.64.133, 151.101.128.133, ...\n",
            "Connecting to raw.githubusercontent.com (raw.githubusercontent.com)|151.101.0.133|:443... connected.\n",
            "HTTP request sent, awaiting response... 200 OK\n",
            "Length: 6579 (6.4K) [text/plain]\n",
            "Saving to: ‘speech_tsai.txt’\n",
            "\n",
            "speech_tsai.txt     100%[===================>]   6.42K  --.-KB/s    in 0s      \n",
            "\n",
            "2020-09-12 01:43:07 (78.3 MB/s) - ‘speech_tsai.txt’ saved [6579/6579]\n",
            "\n"
          ],
          "name": "stdout"
        }
      ]
    },
    {
      "cell_type": "code",
      "metadata": {
        "id": "LF10HJAw-vLu",
        "colab_type": "code",
        "colab": {
          "base_uri": "https://localhost:8080/",
          "height": 208
        },
        "outputId": "a485cb29-a5b3-406d-e50c-aaccd98d2e84"
      },
      "source": [
        "! head speech_tsai.txt"
      ],
      "execution_count": 6,
      "outputs": [
        {
          "output_type": "stream",
          "text": [
            "大會主席蘇嘉全院長、現場各位貴賓、電視機前和網路上的全體國人同胞，大家早安，大家好。\n",
            "\n",
            "今天，是中華民國一百零八年的國慶日，謝謝來自世界各地的好朋友，跟我們共度這個值得紀念的日子。\n",
            "\n",
            "去年，也是在國慶日，我和大家說，台灣正處在變局當中。世界貿易局勢的變動、國際政治情勢的變化，都讓未來充滿挑戰。我們必須「求穩、應變、進步」，厚植實力、壯大台灣。\n",
            "\n",
            "轉眼又過了一年，世界依然快速變化，甚至更加劇烈。美中貿易戰的持續進行；距離我們不遠的香港，因為「一國兩制」的失敗，正處於失序邊緣。\n",
            "\n",
            "儘管如此，中國依然以「一國兩制台灣方案」，不斷威脅我們，並採取各種文攻武嚇，強烈挑戰了區域的穩定及和平。\n",
            "\n"
          ],
          "name": "stdout"
        }
      ]
    },
    {
      "cell_type": "code",
      "metadata": {
        "id": "ii9tuAGX-yMS",
        "colab_type": "code",
        "colab": {}
      },
      "source": [
        "with open('speech_tsai.txt', 'r') as f:\n",
        "  speech = f.read()"
      ],
      "execution_count": 7,
      "outputs": []
    },
    {
      "cell_type": "code",
      "metadata": {
        "id": "Gwn5uASX--0S",
        "colab_type": "code",
        "colab": {}
      },
      "source": [
        "seg_list = jieba.cut(speech)"
      ],
      "execution_count": 9,
      "outputs": []
    },
    {
      "cell_type": "code",
      "metadata": {
        "id": "Jv-eIwD0_Amm",
        "colab_type": "code",
        "colab": {}
      },
      "source": [
        "#list(seg_list)"
      ],
      "execution_count": 12,
      "outputs": []
    },
    {
      "cell_type": "code",
      "metadata": {
        "id": "1MTtVJ2c_VuK",
        "colab_type": "code",
        "colab": {}
      },
      "source": [
        "seg_list = jieba.cut(speech)\n",
        "#for word in seg_list:\n",
        "#  print(word)"
      ],
      "execution_count": 15,
      "outputs": []
    },
    {
      "cell_type": "code",
      "metadata": {
        "id": "TyF0fiM8_abq",
        "colab_type": "code",
        "colab": {}
      },
      "source": [
        "seg_list = jieba.lcut(speech)"
      ],
      "execution_count": 16,
      "outputs": []
    },
    {
      "cell_type": "code",
      "metadata": {
        "id": "eEed7sME_wy0",
        "colab_type": "code",
        "colab": {}
      },
      "source": [
        "#seg_list"
      ],
      "execution_count": 18,
      "outputs": []
    },
    {
      "cell_type": "markdown",
      "metadata": {
        "id": "k9v2FU9RAG2Q",
        "colab_type": "text"
      },
      "source": [
        "### Method 1"
      ]
    },
    {
      "cell_type": "code",
      "metadata": {
        "id": "blPXYfTJ_xwS",
        "colab_type": "code",
        "colab": {}
      },
      "source": [
        "dic = {}\n",
        "for word in seg_list:\n",
        "  if len(word) >= 2:\n",
        "    if word not in dic:\n",
        "      dic[word] = 1\n",
        "    else:\n",
        "      dic[word] = dic[word] + 1"
      ],
      "execution_count": 23,
      "outputs": []
    },
    {
      "cell_type": "code",
      "metadata": {
        "id": "ktmCI8qIARxK",
        "colab_type": "code",
        "colab": {}
      },
      "source": [
        "swd = sorted(dic.items(), key = lambda e: e[1], reverse=True)"
      ],
      "execution_count": 24,
      "outputs": []
    },
    {
      "cell_type": "code",
      "metadata": {
        "id": "w9zMAorzAZg-",
        "colab_type": "code",
        "colab": {
          "base_uri": "https://localhost:8080/",
          "height": 188
        },
        "outputId": "40b58e55-e04a-4d58-93e6-515c2a0d8507"
      },
      "source": [
        "swd[0:10]"
      ],
      "execution_count": 25,
      "outputs": [
        {
          "output_type": "execute_result",
          "data": {
            "text/plain": [
              "[('我們', 43),\n",
              " ('台灣', 19),\n",
              " ('挑戰', 12),\n",
              " ('人民', 9),\n",
              " ('經濟', 8),\n",
              " ('中華民國', 7),\n",
              " ('一次', 7),\n",
              " ('未來', 6),\n",
              " ('自由民主', 6),\n",
              " ('世界', 5)]"
            ]
          },
          "metadata": {
            "tags": []
          },
          "execution_count": 25
        }
      ]
    },
    {
      "cell_type": "markdown",
      "metadata": {
        "id": "8jh81y8QArR0",
        "colab_type": "text"
      },
      "source": [
        "### Method 2"
      ]
    },
    {
      "cell_type": "code",
      "metadata": {
        "id": "f0MkBQ7FAaOg",
        "colab_type": "code",
        "colab": {}
      },
      "source": [
        "dic = {}\n",
        "for word in seg_list:\n",
        "  if len(word) >= 2:\n",
        "    dic[word] = dic.get(word, 0) + 1"
      ],
      "execution_count": 26,
      "outputs": []
    },
    {
      "cell_type": "code",
      "metadata": {
        "id": "OSygIguKA0PJ",
        "colab_type": "code",
        "colab": {}
      },
      "source": [
        "swd = sorted(dic.items(), key = lambda e: e[1], reverse=True)"
      ],
      "execution_count": 27,
      "outputs": []
    },
    {
      "cell_type": "code",
      "metadata": {
        "id": "xhSve5wVA19G",
        "colab_type": "code",
        "colab": {
          "base_uri": "https://localhost:8080/",
          "height": 188
        },
        "outputId": "6f0571b7-8699-4625-c37a-a5978aceb17f"
      },
      "source": [
        "swd[0:10]"
      ],
      "execution_count": 28,
      "outputs": [
        {
          "output_type": "execute_result",
          "data": {
            "text/plain": [
              "[('我們', 43),\n",
              " ('台灣', 19),\n",
              " ('挑戰', 12),\n",
              " ('人民', 9),\n",
              " ('經濟', 8),\n",
              " ('中華民國', 7),\n",
              " ('一次', 7),\n",
              " ('未來', 6),\n",
              " ('自由民主', 6),\n",
              " ('世界', 5)]"
            ]
          },
          "metadata": {
            "tags": []
          },
          "execution_count": 28
        }
      ]
    },
    {
      "cell_type": "markdown",
      "metadata": {
        "id": "b_ASU91NA7ZP",
        "colab_type": "text"
      },
      "source": [
        "### Method 3"
      ]
    },
    {
      "cell_type": "code",
      "metadata": {
        "id": "QaAXspxTA3dW",
        "colab_type": "code",
        "colab": {
          "base_uri": "https://localhost:8080/",
          "height": 188
        },
        "outputId": "0189bb30-a2bf-419f-c107-2bf585c322b8"
      },
      "source": [
        "from collections import Counter \n",
        "c = Counter([w for w in seg_list if len(w)>=2])\n",
        "c.most_common(10)"
      ],
      "execution_count": 32,
      "outputs": [
        {
          "output_type": "execute_result",
          "data": {
            "text/plain": [
              "[('我們', 43),\n",
              " ('台灣', 19),\n",
              " ('挑戰', 12),\n",
              " ('人民', 9),\n",
              " ('經濟', 8),\n",
              " ('中華民國', 7),\n",
              " ('一次', 7),\n",
              " ('未來', 6),\n",
              " ('自由民主', 6),\n",
              " ('世界', 5)]"
            ]
          },
          "metadata": {
            "tags": []
          },
          "execution_count": 32
        }
      ]
    },
    {
      "cell_type": "code",
      "metadata": {
        "id": "ZcKH03EFBEZb",
        "colab_type": "code",
        "colab": {}
      },
      "source": [
        "ary = []\n",
        "for word in seg_list:\n",
        "  if len(word) >=2:\n",
        "    ary.append(word)\n",
        "#ary"
      ],
      "execution_count": 31,
      "outputs": []
    },
    {
      "cell_type": "markdown",
      "metadata": {
        "id": "Q1zTKGdCGr0G",
        "colab_type": "text"
      },
      "source": [
        "## Pandas"
      ]
    },
    {
      "cell_type": "code",
      "metadata": {
        "id": "ATECzRCKGrVf",
        "colab_type": "code",
        "colab": {}
      },
      "source": [
        "import pandas\n",
        "stock = pandas.read_excel('https://raw.githubusercontent.com/ywchiu/tibamepy/master/data/stock.xlsx')"
      ],
      "execution_count": 33,
      "outputs": []
    },
    {
      "cell_type": "code",
      "metadata": {
        "id": "fiYo6MA7BOCr",
        "colab_type": "code",
        "colab": {
          "base_uri": "https://localhost:8080/",
          "height": 274
        },
        "outputId": "d3587c73-3610-4c30-b473-4937782ba8fc"
      },
      "source": [
        "stock.head()"
      ],
      "execution_count": 34,
      "outputs": [
        {
          "output_type": "execute_result",
          "data": {
            "text/html": [
              "<div>\n",
              "<style scoped>\n",
              "    .dataframe tbody tr th:only-of-type {\n",
              "        vertical-align: middle;\n",
              "    }\n",
              "\n",
              "    .dataframe tbody tr th {\n",
              "        vertical-align: top;\n",
              "    }\n",
              "\n",
              "    .dataframe thead th {\n",
              "        text-align: right;\n",
              "    }\n",
              "</style>\n",
              "<table border=\"1\" class=\"dataframe\">\n",
              "  <thead>\n",
              "    <tr style=\"text-align: right;\">\n",
              "      <th></th>\n",
              "      <th>id</th>\n",
              "      <th>年度</th>\n",
              "      <th>股本</th>\n",
              "      <th>財報評分</th>\n",
              "      <th>收盤</th>\n",
              "      <th>平均</th>\n",
              "      <th>漲跌</th>\n",
              "      <th>漲跌%</th>\n",
              "      <th>營業收入</th>\n",
              "      <th>營業毛利</th>\n",
              "      <th>營業利益</th>\n",
              "      <th>業外損益</th>\n",
              "      <th>稅後淨利</th>\n",
              "      <th>營業毛利%</th>\n",
              "      <th>營業利益%</th>\n",
              "      <th>業外損益%</th>\n",
              "      <th>稅後淨利%</th>\n",
              "      <th>ROE</th>\n",
              "      <th>ROA</th>\n",
              "      <th>稅後EPS</th>\n",
              "      <th>EPS成長</th>\n",
              "      <th>BPS</th>\n",
              "      <th>stockid</th>\n",
              "    </tr>\n",
              "  </thead>\n",
              "  <tbody>\n",
              "    <tr>\n",
              "      <th>0</th>\n",
              "      <td>1</td>\n",
              "      <td>2015</td>\n",
              "      <td>369.0</td>\n",
              "      <td>45</td>\n",
              "      <td>27.3</td>\n",
              "      <td>37.8</td>\n",
              "      <td>-16.1</td>\n",
              "      <td>-37.1</td>\n",
              "      <td>937.0</td>\n",
              "      <td>145.0</td>\n",
              "      <td>96.7</td>\n",
              "      <td>-10.1</td>\n",
              "      <td>57.8</td>\n",
              "      <td>15.5</td>\n",
              "      <td>10.3</td>\n",
              "      <td>-1.08</td>\n",
              "      <td>7.39</td>\n",
              "      <td>4.36</td>\n",
              "      <td>2.36</td>\n",
              "      <td>1.56</td>\n",
              "      <td>-1.37</td>\n",
              "      <td>29.26</td>\n",
              "      <td>1101</td>\n",
              "    </tr>\n",
              "    <tr>\n",
              "      <th>1</th>\n",
              "      <td>2</td>\n",
              "      <td>2014</td>\n",
              "      <td>369.0</td>\n",
              "      <td>53</td>\n",
              "      <td>43.4</td>\n",
              "      <td>45.7</td>\n",
              "      <td>-2.85</td>\n",
              "      <td>-6.2</td>\n",
              "      <td>1183.0</td>\n",
              "      <td>249.0</td>\n",
              "      <td>199.0</td>\n",
              "      <td>13.4</td>\n",
              "      <td>108.0</td>\n",
              "      <td>21</td>\n",
              "      <td>16.8</td>\n",
              "      <td>1.13</td>\n",
              "      <td>14</td>\n",
              "      <td>10.50</td>\n",
              "      <td>5.76</td>\n",
              "      <td>2.93</td>\n",
              "      <td>0.21</td>\n",
              "      <td>31.95</td>\n",
              "      <td>1101</td>\n",
              "    </tr>\n",
              "    <tr>\n",
              "      <th>2</th>\n",
              "      <td>3</td>\n",
              "      <td>2013</td>\n",
              "      <td>369.0</td>\n",
              "      <td>51</td>\n",
              "      <td>46.25</td>\n",
              "      <td>39.8</td>\n",
              "      <td>7.35</td>\n",
              "      <td>18.9</td>\n",
              "      <td>1161.0</td>\n",
              "      <td>228.0</td>\n",
              "      <td>178.0</td>\n",
              "      <td>8.28</td>\n",
              "      <td>100.0</td>\n",
              "      <td>19.7</td>\n",
              "      <td>15.3</td>\n",
              "      <td>0.71</td>\n",
              "      <td>13</td>\n",
              "      <td>10.60</td>\n",
              "      <td>5.56</td>\n",
              "      <td>2.72</td>\n",
              "      <td>0.63</td>\n",
              "      <td>30.63</td>\n",
              "      <td>1101</td>\n",
              "    </tr>\n",
              "    <tr>\n",
              "      <th>3</th>\n",
              "      <td>4</td>\n",
              "      <td>2012</td>\n",
              "      <td>369.0</td>\n",
              "      <td>49</td>\n",
              "      <td>38.9</td>\n",
              "      <td>35.8</td>\n",
              "      <td>3.9</td>\n",
              "      <td>11.1</td>\n",
              "      <td>1195.0</td>\n",
              "      <td>177.0</td>\n",
              "      <td>131.0</td>\n",
              "      <td>-10</td>\n",
              "      <td>77.3</td>\n",
              "      <td>14.8</td>\n",
              "      <td>10.9</td>\n",
              "      <td>-0.84</td>\n",
              "      <td>8.34</td>\n",
              "      <td>7.63</td>\n",
              "      <td>3.81</td>\n",
              "      <td>2.09</td>\n",
              "      <td>-0.24</td>\n",
              "      <td>27.03</td>\n",
              "      <td>1101</td>\n",
              "    </tr>\n",
              "    <tr>\n",
              "      <th>4</th>\n",
              "      <td>5</td>\n",
              "      <td>2011</td>\n",
              "      <td>369.0</td>\n",
              "      <td>55</td>\n",
              "      <td>35</td>\n",
              "      <td>36.8</td>\n",
              "      <td>2.2</td>\n",
              "      <td>6.7</td>\n",
              "      <td>1185.0</td>\n",
              "      <td>206.0</td>\n",
              "      <td>162.0</td>\n",
              "      <td>3.53</td>\n",
              "      <td>86.2</td>\n",
              "      <td>17.4</td>\n",
              "      <td>13.6</td>\n",
              "      <td>0.3</td>\n",
              "      <td>11.6</td>\n",
              "      <td>10.80</td>\n",
              "      <td>5.24</td>\n",
              "      <td>2.33</td>\n",
              "      <td>-0.1</td>\n",
              "      <td>26.21</td>\n",
              "      <td>1101</td>\n",
              "    </tr>\n",
              "  </tbody>\n",
              "</table>\n",
              "</div>"
            ],
            "text/plain": [
              "   id    年度     股本  財報評分     收盤    平均  ...    ROE   ROA  稅後EPS  EPS成長    BPS stockid\n",
              "0   1  2015  369.0    45   27.3  37.8  ...   4.36  2.36   1.56  -1.37  29.26    1101\n",
              "1   2  2014  369.0    53   43.4  45.7  ...  10.50  5.76   2.93   0.21  31.95    1101\n",
              "2   3  2013  369.0    51  46.25  39.8  ...  10.60  5.56   2.72   0.63  30.63    1101\n",
              "3   4  2012  369.0    49   38.9  35.8  ...   7.63  3.81   2.09  -0.24  27.03    1101\n",
              "4   5  2011  369.0    55     35  36.8  ...  10.80  5.24   2.33   -0.1  26.21    1101\n",
              "\n",
              "[5 rows x 23 columns]"
            ]
          },
          "metadata": {
            "tags": []
          },
          "execution_count": 34
        }
      ]
    },
    {
      "cell_type": "code",
      "metadata": {
        "id": "0stK7hsnGxkc",
        "colab_type": "code",
        "colab": {}
      },
      "source": [
        "tw2330 = pandas.read_csv('https://raw.githubusercontent.com/ywchiu/tibamepy/master/data/2330.TW.csv')"
      ],
      "execution_count": 35,
      "outputs": []
    },
    {
      "cell_type": "code",
      "metadata": {
        "id": "yD7jk8lTG-S-",
        "colab_type": "code",
        "colab": {
          "base_uri": "https://localhost:8080/",
          "height": 203
        },
        "outputId": "913bad6e-fe33-4818-cfa4-4ede05ca2f0b"
      },
      "source": [
        "tw2330.head()"
      ],
      "execution_count": 36,
      "outputs": [
        {
          "output_type": "execute_result",
          "data": {
            "text/html": [
              "<div>\n",
              "<style scoped>\n",
              "    .dataframe tbody tr th:only-of-type {\n",
              "        vertical-align: middle;\n",
              "    }\n",
              "\n",
              "    .dataframe tbody tr th {\n",
              "        vertical-align: top;\n",
              "    }\n",
              "\n",
              "    .dataframe thead th {\n",
              "        text-align: right;\n",
              "    }\n",
              "</style>\n",
              "<table border=\"1\" class=\"dataframe\">\n",
              "  <thead>\n",
              "    <tr style=\"text-align: right;\">\n",
              "      <th></th>\n",
              "      <th>Date</th>\n",
              "      <th>Open</th>\n",
              "      <th>High</th>\n",
              "      <th>Low</th>\n",
              "      <th>Close</th>\n",
              "      <th>Adj Close</th>\n",
              "      <th>Volume</th>\n",
              "    </tr>\n",
              "  </thead>\n",
              "  <tbody>\n",
              "    <tr>\n",
              "      <th>0</th>\n",
              "      <td>2000-01-04</td>\n",
              "      <td>69.649002</td>\n",
              "      <td>69.649002</td>\n",
              "      <td>68.475197</td>\n",
              "      <td>69.649002</td>\n",
              "      <td>38.253021</td>\n",
              "      <td>2.006623e+11</td>\n",
              "    </tr>\n",
              "    <tr>\n",
              "      <th>1</th>\n",
              "      <td>2000-01-05</td>\n",
              "      <td>69.649002</td>\n",
              "      <td>71.214104</td>\n",
              "      <td>68.866302</td>\n",
              "      <td>71.214104</td>\n",
              "      <td>39.112621</td>\n",
              "      <td>4.024668e+11</td>\n",
              "    </tr>\n",
              "    <tr>\n",
              "      <th>2</th>\n",
              "      <td>2000-01-06</td>\n",
              "      <td>70.822899</td>\n",
              "      <td>71.214104</td>\n",
              "      <td>69.649002</td>\n",
              "      <td>69.649002</td>\n",
              "      <td>38.253021</td>\n",
              "      <td>1.975457e+11</td>\n",
              "    </tr>\n",
              "    <tr>\n",
              "      <th>3</th>\n",
              "      <td>2000-01-07</td>\n",
              "      <td>67.301300</td>\n",
              "      <td>68.475197</td>\n",
              "      <td>66.518600</td>\n",
              "      <td>67.692497</td>\n",
              "      <td>37.178459</td>\n",
              "      <td>2.352703e+11</td>\n",
              "    </tr>\n",
              "    <tr>\n",
              "      <th>4</th>\n",
              "      <td>2000-01-10</td>\n",
              "      <td>69.649002</td>\n",
              "      <td>70.431396</td>\n",
              "      <td>68.475197</td>\n",
              "      <td>70.040199</td>\n",
              "      <td>38.467876</td>\n",
              "      <td>2.761717e+11</td>\n",
              "    </tr>\n",
              "  </tbody>\n",
              "</table>\n",
              "</div>"
            ],
            "text/plain": [
              "         Date       Open       High  ...      Close  Adj Close        Volume\n",
              "0  2000-01-04  69.649002  69.649002  ...  69.649002  38.253021  2.006623e+11\n",
              "1  2000-01-05  69.649002  71.214104  ...  71.214104  39.112621  4.024668e+11\n",
              "2  2000-01-06  70.822899  71.214104  ...  69.649002  38.253021  1.975457e+11\n",
              "3  2000-01-07  67.301300  68.475197  ...  67.692497  37.178459  2.352703e+11\n",
              "4  2000-01-10  69.649002  70.431396  ...  70.040199  38.467876  2.761717e+11\n",
              "\n",
              "[5 rows x 7 columns]"
            ]
          },
          "metadata": {
            "tags": []
          },
          "execution_count": 36
        }
      ]
    },
    {
      "cell_type": "code",
      "metadata": {
        "id": "nz_D_LyOG_Mu",
        "colab_type": "code",
        "colab": {}
      },
      "source": [
        "tw2330 = pandas.read_json('https://raw.githubusercontent.com/ywchiu/tibamepy/master/data/2330.json')"
      ],
      "execution_count": 37,
      "outputs": []
    },
    {
      "cell_type": "code",
      "metadata": {
        "id": "UothM4fPHLkS",
        "colab_type": "code",
        "colab": {
          "base_uri": "https://localhost:8080/",
          "height": 203
        },
        "outputId": "e5186cee-b009-4838-985f-f63ff59c6171"
      },
      "source": [
        "tw2330"
      ],
      "execution_count": 38,
      "outputs": [
        {
          "output_type": "execute_result",
          "data": {
            "text/html": [
              "<div>\n",
              "<style scoped>\n",
              "    .dataframe tbody tr th:only-of-type {\n",
              "        vertical-align: middle;\n",
              "    }\n",
              "\n",
              "    .dataframe tbody tr th {\n",
              "        vertical-align: top;\n",
              "    }\n",
              "\n",
              "    .dataframe thead th {\n",
              "        text-align: right;\n",
              "    }\n",
              "</style>\n",
              "<table border=\"1\" class=\"dataframe\">\n",
              "  <thead>\n",
              "    <tr style=\"text-align: right;\">\n",
              "      <th></th>\n",
              "      <th>Date</th>\n",
              "      <th>Open</th>\n",
              "      <th>High</th>\n",
              "      <th>Low</th>\n",
              "      <th>Close</th>\n",
              "      <th>Volume</th>\n",
              "      <th>Adj Close</th>\n",
              "    </tr>\n",
              "  </thead>\n",
              "  <tbody>\n",
              "    <tr>\n",
              "      <th>0</th>\n",
              "      <td>2016-07-21</td>\n",
              "      <td>171.0</td>\n",
              "      <td>172.0</td>\n",
              "      <td>170.0</td>\n",
              "      <td>172.0</td>\n",
              "      <td>33130000</td>\n",
              "      <td>172.0</td>\n",
              "    </tr>\n",
              "    <tr>\n",
              "      <th>1</th>\n",
              "      <td>2016-07-20</td>\n",
              "      <td>170.0</td>\n",
              "      <td>170.5</td>\n",
              "      <td>169.0</td>\n",
              "      <td>170.0</td>\n",
              "      <td>38053000</td>\n",
              "      <td>170.0</td>\n",
              "    </tr>\n",
              "    <tr>\n",
              "      <th>2</th>\n",
              "      <td>2016-07-19</td>\n",
              "      <td>170.5</td>\n",
              "      <td>170.5</td>\n",
              "      <td>169.0</td>\n",
              "      <td>170.5</td>\n",
              "      <td>42456000</td>\n",
              "      <td>170.5</td>\n",
              "    </tr>\n",
              "    <tr>\n",
              "      <th>3</th>\n",
              "      <td>2016-07-18</td>\n",
              "      <td>168.0</td>\n",
              "      <td>170.0</td>\n",
              "      <td>168.0</td>\n",
              "      <td>169.5</td>\n",
              "      <td>24749000</td>\n",
              "      <td>169.5</td>\n",
              "    </tr>\n",
              "    <tr>\n",
              "      <th>4</th>\n",
              "      <td>2016-07-15</td>\n",
              "      <td>169.5</td>\n",
              "      <td>169.5</td>\n",
              "      <td>169.5</td>\n",
              "      <td>169.5</td>\n",
              "      <td>41000</td>\n",
              "      <td>169.5</td>\n",
              "    </tr>\n",
              "  </tbody>\n",
              "</table>\n",
              "</div>"
            ],
            "text/plain": [
              "        Date   Open   High    Low  Close    Volume  Adj Close\n",
              "0 2016-07-21  171.0  172.0  170.0  172.0  33130000      172.0\n",
              "1 2016-07-20  170.0  170.5  169.0  170.0  38053000      170.0\n",
              "2 2016-07-19  170.5  170.5  169.0  170.5  42456000      170.5\n",
              "3 2016-07-18  168.0  170.0  168.0  169.5  24749000      169.5\n",
              "4 2016-07-15  169.5  169.5  169.5  169.5     41000      169.5"
            ]
          },
          "metadata": {
            "tags": []
          },
          "execution_count": 38
        }
      ]
    },
    {
      "cell_type": "markdown",
      "metadata": {
        "id": "Y8hiYXm1ON__",
        "colab_type": "text"
      },
      "source": [
        "## GET\n",
        "- https://zh.wikipedia.org/zh-tw/HTTP%E7%8A%B6%E6%80%81%E7%A0%81"
      ]
    },
    {
      "cell_type": "code",
      "metadata": {
        "id": "bKTnfkD1HMJS",
        "colab_type": "code",
        "colab": {
          "base_uri": "https://localhost:8080/",
          "height": 34
        },
        "outputId": "efe0519d-667b-466d-fd91-ba570b75b293"
      },
      "source": [
        "import requests\n",
        "headers = {\n",
        "  'user-agent': 'Mozilla/5.0 (Windows NT 10.0; Win64; x64) AppleWebKit/537.36 (KHTML, like Gecko) Chrome/85.0.4183.102 Safari/537.36'  \n",
        "}\n",
        "res = requests.get('https://money.udn.com/rank/newest/1001/0/1', headers = headers)\n",
        "res"
      ],
      "execution_count": 89,
      "outputs": [
        {
          "output_type": "execute_result",
          "data": {
            "text/plain": [
              "<Response [200]>"
            ]
          },
          "metadata": {
            "tags": []
          },
          "execution_count": 89
        }
      ]
    },
    {
      "cell_type": "code",
      "metadata": {
        "id": "W2eGwbQFOSYE",
        "colab_type": "code",
        "colab": {}
      },
      "source": [
        "#res.text"
      ],
      "execution_count": 91,
      "outputs": []
    },
    {
      "cell_type": "markdown",
      "metadata": {
        "id": "zSOEpMJ1PNze",
        "colab_type": "text"
      },
      "source": [
        "- https://24h.pchome.com.tw/prod/DGBJHC-1900AQ4UP"
      ]
    },
    {
      "cell_type": "code",
      "metadata": {
        "id": "Y0EScQeVOsO4",
        "colab_type": "code",
        "colab": {
          "base_uri": "https://localhost:8080/",
          "height": 123
        },
        "outputId": "60f9f467-a135-4ba5-9a2d-db8406acaa4d"
      },
      "source": [
        "! pip install SpeechRecognition"
      ],
      "execution_count": 46,
      "outputs": [
        {
          "output_type": "stream",
          "text": [
            "Collecting SpeechRecognition\n",
            "\u001b[?25l  Downloading https://files.pythonhosted.org/packages/26/e1/7f5678cd94ec1234269d23756dbdaa4c8cfaed973412f88ae8adf7893a50/SpeechRecognition-3.8.1-py2.py3-none-any.whl (32.8MB)\n",
            "\u001b[K     |████████████████████████████████| 32.8MB 125kB/s \n",
            "\u001b[?25hInstalling collected packages: SpeechRecognition\n",
            "Successfully installed SpeechRecognition-3.8.1\n"
          ],
          "name": "stdout"
        }
      ]
    },
    {
      "cell_type": "code",
      "metadata": {
        "id": "RBB6z6wOTh-Q",
        "colab_type": "code",
        "colab": {}
      },
      "source": [
        "import speech_recognition as sr\n",
        "\n",
        "# obtain audio from the microphone\n",
        "r = sr.Recognizer()\n",
        "with sr.Microphone() as source:\n",
        "    print(\"Say something!\")\n",
        "    audio = r.listen(source, timeout = 3,phrase_time_limit= 3)\n",
        "    \n",
        "#?r.listen\n",
        "r.recognize_google(audio, language='zh-TW')"
      ],
      "execution_count": 47,
      "outputs": []
    },
    {
      "cell_type": "code",
      "metadata": {
        "id": "xbEiH_rKU2eI",
        "colab_type": "code",
        "colab": {}
      },
      "source": [
        "! pip install youtube-dl"
      ],
      "execution_count": null,
      "outputs": []
    },
    {
      "cell_type": "code",
      "metadata": {
        "id": "ygALTfSzVDms",
        "colab_type": "code",
        "colab": {
          "base_uri": "https://localhost:8080/",
          "height": 68
        },
        "outputId": "f6184760-6a0e-4e3c-ac23-9bd7bde93434"
      },
      "source": [
        "! youtube-dl -f mp4 https://www.youtube.com/watch?v=-biOGdYiF-I -o jay.mp4"
      ],
      "execution_count": 55,
      "outputs": [
        {
          "output_type": "stream",
          "text": [
            "[youtube] -biOGdYiF-I: Downloading webpage\n",
            "[download] Destination: jay.mp4\n",
            "\u001b[K[download] 100% of 16.57MiB in 00:00\n"
          ],
          "name": "stdout"
        }
      ]
    },
    {
      "cell_type": "code",
      "metadata": {
        "id": "lf-bleU7U6OV",
        "colab_type": "code",
        "colab": {}
      },
      "source": [
        "https://www.youtube.com/watch?v=-biOGdYiF-I"
      ],
      "execution_count": null,
      "outputs": []
    },
    {
      "cell_type": "code",
      "metadata": {
        "id": "59xEg4ECTsBv",
        "colab_type": "code",
        "colab": {}
      },
      "source": [
        "! pip install autosub"
      ],
      "execution_count": null,
      "outputs": []
    },
    {
      "cell_type": "code",
      "metadata": {
        "id": "hSJMC_ADXDXj",
        "colab_type": "code",
        "colab": {}
      },
      "source": [
        "! pip install 2to3"
      ],
      "execution_count": null,
      "outputs": []
    },
    {
      "cell_type": "markdown",
      "metadata": {
        "id": "xzUFA1p6Yc3W",
        "colab_type": "text"
      },
      "source": [
        "## PCHOME 爬蟲"
      ]
    },
    {
      "cell_type": "code",
      "metadata": {
        "id": "AiQLSEtSYfo3",
        "colab_type": "code",
        "colab": {
          "base_uri": "https://localhost:8080/",
          "height": 34
        },
        "outputId": "3b0e7a10-2c1a-4bae-da42-2536700009f4"
      },
      "source": [
        "import requests\n",
        "res = requests.get('https://ecapi.pchome.com.tw/ecshop/prodapi/v2/prod/button&id=DGBJHC-1900AQ4UP&fields=Seq,Id,Price,Qty,ButtonType,SaleStatus,isPrimeOnly,SpecialQty&_callback=jsonp_button&1599881760?_callback=jsonp_button')\n",
        "res"
      ],
      "execution_count": 65,
      "outputs": [
        {
          "output_type": "execute_result",
          "data": {
            "text/plain": [
              "<Response [200]>"
            ]
          },
          "metadata": {
            "tags": []
          },
          "execution_count": 65
        }
      ]
    },
    {
      "cell_type": "code",
      "metadata": {
        "id": "hST1GNggYkMi",
        "colab_type": "code",
        "colab": {
          "base_uri": "https://localhost:8080/",
          "height": 69
        },
        "outputId": "aa507322-6b79-4996-f8cb-d7d53d0d2be8"
      },
      "source": [
        "res.text"
      ],
      "execution_count": 66,
      "outputs": [
        {
          "output_type": "execute_result",
          "data": {
            "application/vnd.google.colaboratory.intrinsic+json": {
              "type": "string"
            },
            "text/plain": [
              "'try{jsonp_button([{\"Seq\":24958314,\"Id\":\"DGBJHC-1900AQ4UP-000\",\"Price\":{\"M\":13660,\"P\":13250,\"Prime\":\"\"},\"Qty\":1,\"ButtonType\":\"ForSale\",\"SaleStatus\":1,\"isPrimeOnly\":0,\"SpecialQty\":0}]);}catch(e){if(window.console){console.log(e);}}'"
            ]
          },
          "metadata": {
            "tags": []
          },
          "execution_count": 66
        }
      ]
    },
    {
      "cell_type": "markdown",
      "metadata": {
        "id": "2iJbuSt1Z_x-",
        "colab_type": "text"
      },
      "source": [
        "## POST"
      ]
    },
    {
      "cell_type": "code",
      "metadata": {
        "id": "SIjOowUCYmji",
        "colab_type": "code",
        "colab": {
          "base_uri": "https://localhost:8080/",
          "height": 34
        },
        "outputId": "828a1dce-258f-40cd-af78-aba80ad49f52"
      },
      "source": [
        "import requests\n",
        "url = 'https://www.thsrc.com.tw/TimeTable/Search'\n",
        "payload = {\n",
        "'SearchType': 'S',\n",
        "'Lang': 'TW',\n",
        "'StartStation': 'TaiPei',\n",
        "'EndStation': 'XinZhu',\n",
        "'OutWardSearchDate': '2020/09/12',\n",
        "'OutWardSearchTime': '17:30',\n",
        "'ReturnSearchDate': '2020/09/12',\n",
        "'ReturnSearchTime': '11:30'    \n",
        "}\n",
        "res = requests.post(url, data = payload)\n",
        "res"
      ],
      "execution_count": 67,
      "outputs": [
        {
          "output_type": "execute_result",
          "data": {
            "text/plain": [
              "<Response [200]>"
            ]
          },
          "metadata": {
            "tags": []
          },
          "execution_count": 67
        }
      ]
    },
    {
      "cell_type": "code",
      "metadata": {
        "id": "v-ZMH-guacKd",
        "colab_type": "code",
        "colab": {}
      },
      "source": [
        "res.text"
      ],
      "execution_count": null,
      "outputs": []
    },
    {
      "cell_type": "code",
      "metadata": {
        "id": "pbj7DsSoaeqc",
        "colab_type": "code",
        "colab": {}
      },
      "source": [
        "res.json()"
      ],
      "execution_count": null,
      "outputs": []
    },
    {
      "cell_type": "markdown",
      "metadata": {
        "id": "-9dCxqbtbdyf",
        "colab_type": "text"
      },
      "source": [
        "- https://rate.bot.com.tw/xrt/history/USD"
      ]
    },
    {
      "cell_type": "markdown",
      "metadata": {
        "id": "nKKSuVBge_3S",
        "colab_type": "text"
      },
      "source": [
        "## Python3 Autosub"
      ]
    },
    {
      "cell_type": "code",
      "metadata": {
        "id": "VwwgcrM5be5i",
        "colab_type": "code",
        "colab": {}
      },
      "source": [
        "! pip install https://github.com/BingLingGroup/autosub/archive/0.5.7-alpha.tar.gz"
      ],
      "execution_count": null,
      "outputs": []
    },
    {
      "cell_type": "code",
      "metadata": {
        "id": "0LUfY5_YdLt3",
        "colab_type": "code",
        "colab": {}
      },
      "source": [
        "#! autosub --list-speech-codes"
      ],
      "execution_count": 81,
      "outputs": []
    },
    {
      "cell_type": "code",
      "metadata": {
        "id": "Kj_QroJYfLbA",
        "colab_type": "code",
        "colab": {
          "base_uri": "https://localhost:8080/",
          "height": 620
        },
        "outputId": "91bb3759-3259-4fd3-b405-9a46de678c82"
      },
      "source": [
        "! autosub -S cmn-hant-tw -i jay.mp4"
      ],
      "execution_count": 82,
      "outputs": [
        {
          "output_type": "stream",
          "text": [
            "Translation destination language not provided. Only performing speech recognition.\n",
            "\n",
            "Convert source file to \"/tmp/tmpfeemmqjw.wav\" to detect audio regions.\n",
            "/usr/bin/ffmpeg -hide_banner -y -i \"jay.mp4\" -vn -ac 1 -ar 48000 -loglevel error \"/tmp/tmpfeemmqjw.wav\"\n",
            "\n",
            "Use ffprobe to check conversion result.\n",
            "/usr/bin/ffprobe \"/tmp/tmpfeemmqjw.wav\" -show_format -pretty -loglevel quiet\n",
            "[FORMAT]\n",
            "filename=/tmp/tmpfeemmqjw.wav\n",
            "nb_streams=1\n",
            "nb_programs=0\n",
            "format_name=wav\n",
            "format_long_name=WAV / WAVE (Waveform Audio)\n",
            "start_time=N/A\n",
            "duration=0:03:08.383500\n",
            "size=17.247099 Mibyte\n",
            "bit_rate=768.003000 Kbit/s\n",
            "probe_score=99\n",
            "TAG:encoder=Lavf57.83.100\n",
            "[/FORMAT]\n",
            "\n",
            "Conversion completed.\n",
            "Use Auditok to detect speech regions.\n",
            "Auditok detection completed.\n",
            "\"/tmp/tmpfeemmqjw.wav\" has been deleted.\n",
            "\n",
            "Converting speech regions to short-term fragments.\n",
            "Converting: 100% || Time: 0:00:01\n",
            "\n",
            "Sending short-term fragments to Google Speech V2 API and getting result.\n",
            "Speech-to-Text: 100% || Time: 0:00:52\n",
            "Speech language subtitles file created at \"jay.cmn-hant-tw.srt\".\n",
            "\n",
            "All works done.\n"
          ],
          "name": "stdout"
        }
      ]
    },
    {
      "cell_type": "code",
      "metadata": {
        "id": "xGSSQiI7dh8g",
        "colab_type": "code",
        "colab": {}
      },
      "source": [
        "#! cat jay.cmn-hant-tw.srt"
      ],
      "execution_count": 84,
      "outputs": []
    },
    {
      "cell_type": "code",
      "metadata": {
        "id": "IH2kUmJidjmt",
        "colab_type": "code",
        "colab": {
          "base_uri": "https://localhost:8080/",
          "height": 86
        },
        "outputId": "2c0a82e4-9681-42bd-bc66-8527c4050a9e"
      },
      "source": [
        "! youtube-dl -f mp4 https://www.youtube.com/watch?v=k4PtPICWJXk -o tvbs.mp4"
      ],
      "execution_count": 85,
      "outputs": [
        {
          "output_type": "stream",
          "text": [
            "[youtube] k4PtPICWJXk: Downloading webpage\n",
            "[youtube] k4PtPICWJXk: Downloading MPD manifest\n",
            "[download] Destination: tvbs.mp4\n",
            "\u001b[K[download] 100% of 18.79MiB in 00:00\n"
          ],
          "name": "stdout"
        }
      ]
    },
    {
      "cell_type": "code",
      "metadata": {
        "id": "GiGV3Dqrf9iD",
        "colab_type": "code",
        "colab": {
          "base_uri": "https://localhost:8080/",
          "height": 620
        },
        "outputId": "e2695bdb-b625-4d61-b650-abd1e2647569"
      },
      "source": [
        "! autosub -S cmn-hant-tw -i tvbs.mp4"
      ],
      "execution_count": 86,
      "outputs": [
        {
          "output_type": "stream",
          "text": [
            "Translation destination language not provided. Only performing speech recognition.\n",
            "\n",
            "Convert source file to \"/tmp/tmp9_e1x3w1.wav\" to detect audio regions.\n",
            "/usr/bin/ffmpeg -hide_banner -y -i \"tvbs.mp4\" -vn -ac 1 -ar 48000 -loglevel error \"/tmp/tmp9_e1x3w1.wav\"\n",
            "\n",
            "Use ffprobe to check conversion result.\n",
            "/usr/bin/ffprobe \"/tmp/tmp9_e1x3w1.wav\" -show_format -pretty -loglevel quiet\n",
            "[FORMAT]\n",
            "filename=/tmp/tmp9_e1x3w1.wav\n",
            "nb_streams=1\n",
            "nb_programs=0\n",
            "format_name=wav\n",
            "format_long_name=WAV / WAVE (Waveform Audio)\n",
            "start_time=N/A\n",
            "duration=0:01:52.222042\n",
            "size=10.274309 Mibyte\n",
            "bit_rate=768.005000 Kbit/s\n",
            "probe_score=99\n",
            "TAG:encoder=Lavf57.83.100\n",
            "[/FORMAT]\n",
            "\n",
            "Conversion completed.\n",
            "Use Auditok to detect speech regions.\n",
            "Auditok detection completed.\n",
            "\"/tmp/tmp9_e1x3w1.wav\" has been deleted.\n",
            "\n",
            "Converting speech regions to short-term fragments.\n",
            "Converting: 100% || Time: 0:00:01\n",
            "\n",
            "Sending short-term fragments to Google Speech V2 API and getting result.\n",
            "Speech-to-Text: 100% || Time: 0:00:12\n",
            "Speech language subtitles file created at \"tvbs.cmn-hant-tw.srt\".\n",
            "\n",
            "All works done.\n"
          ],
          "name": "stdout"
        }
      ]
    },
    {
      "cell_type": "code",
      "metadata": {
        "id": "R6RMBZv5gBbr",
        "colab_type": "code",
        "colab": {}
      },
      "source": [
        "#! cat tvbs.cmn-hant-tw.srt"
      ],
      "execution_count": 88,
      "outputs": []
    },
    {
      "cell_type": "markdown",
      "metadata": {
        "id": "Sum7r08Bh34R",
        "colab_type": "text"
      },
      "source": [
        "## 解析 HTML"
      ]
    },
    {
      "cell_type": "markdown",
      "metadata": {
        "id": "PBnWgg9ch8Q3",
        "colab_type": "text"
      },
      "source": [
        "<html>\n",
        "<body>\n",
        "<h1 id=\"title\">Hello World</h1>\n",
        "<a href=\"#\" class=\"link\">This is link1</a>\n",
        "<a href=\"# link2\" class=\"link\">This is link2</a>\n",
        "</body>\n",
        "</html>"
      ]
    },
    {
      "cell_type": "code",
      "metadata": {
        "id": "bK-iExqGgHyr",
        "colab_type": "code",
        "colab": {}
      },
      "source": [
        "html_sample = '''\n",
        "<html>\n",
        "<body>\n",
        "<h1 id=\"title\">Hello World</h1>\n",
        "<a href=\"#\" class=\"link\">This is link1</a>\n",
        "<a href=\"# link2\" class=\"link\">This is link2</a>\n",
        "</body>\n",
        "</html>'''"
      ],
      "execution_count": 93,
      "outputs": []
    },
    {
      "cell_type": "code",
      "metadata": {
        "id": "l5IkkLZrh6IF",
        "colab_type": "code",
        "colab": {}
      },
      "source": [
        "from bs4 import BeautifulSoup\n",
        "soup = BeautifulSoup(html_sample, 'lxml')"
      ],
      "execution_count": 94,
      "outputs": []
    },
    {
      "cell_type": "code",
      "metadata": {
        "id": "e1o280TXiGbl",
        "colab_type": "code",
        "colab": {
          "base_uri": "https://localhost:8080/",
          "height": 35
        },
        "outputId": "49f639ce-c7e0-4674-d958-192fbc225891"
      },
      "source": [
        "soup.select_one('h1').text"
      ],
      "execution_count": 99,
      "outputs": [
        {
          "output_type": "execute_result",
          "data": {
            "application/vnd.google.colaboratory.intrinsic+json": {
              "type": "string"
            },
            "text/plain": [
              "'Hello World'"
            ]
          },
          "metadata": {
            "tags": []
          },
          "execution_count": 99
        }
      ]
    },
    {
      "cell_type": "code",
      "metadata": {
        "id": "Lmc8klnmiKbW",
        "colab_type": "code",
        "colab": {
          "base_uri": "https://localhost:8080/",
          "height": 34
        },
        "outputId": "ea2f0872-28dd-459e-847d-575fe41d01bf"
      },
      "source": [
        "soup.select_one('a')"
      ],
      "execution_count": 97,
      "outputs": [
        {
          "output_type": "execute_result",
          "data": {
            "text/plain": [
              "<a class=\"link\" href=\"#\">This is link1</a>"
            ]
          },
          "metadata": {
            "tags": []
          },
          "execution_count": 97
        }
      ]
    },
    {
      "cell_type": "code",
      "metadata": {
        "id": "g6Rr8UhFiXqn",
        "colab_type": "code",
        "colab": {
          "base_uri": "https://localhost:8080/",
          "height": 51
        },
        "outputId": "631ccec2-09fb-455f-b60d-50d736386f18"
      },
      "source": [
        "soup.select('a')"
      ],
      "execution_count": 98,
      "outputs": [
        {
          "output_type": "execute_result",
          "data": {
            "text/plain": [
              "[<a class=\"link\" href=\"#\">This is link1</a>,\n",
              " <a class=\"link\" href=\"# link2\">This is link2</a>]"
            ]
          },
          "metadata": {
            "tags": []
          },
          "execution_count": 98
        }
      ]
    },
    {
      "cell_type": "code",
      "metadata": {
        "id": "yuyH5l71iktn",
        "colab_type": "code",
        "colab": {
          "base_uri": "https://localhost:8080/",
          "height": 51
        },
        "outputId": "944bc71a-0adb-4548-b0c0-3b9f81216251"
      },
      "source": [
        "for link in soup.select('a'):\n",
        "  print(link)"
      ],
      "execution_count": 100,
      "outputs": [
        {
          "output_type": "stream",
          "text": [
            "<a class=\"link\" href=\"#\">This is link1</a>\n",
            "<a class=\"link\" href=\"# link2\">This is link2</a>\n"
          ],
          "name": "stdout"
        }
      ]
    },
    {
      "cell_type": "code",
      "metadata": {
        "id": "SjC3WMDKizd5",
        "colab_type": "code",
        "colab": {
          "base_uri": "https://localhost:8080/",
          "height": 51
        },
        "outputId": "cd8c5a41-0490-453e-b621-7aa229b520b9"
      },
      "source": [
        "for link in soup.select('a'):\n",
        "  print(link.text)"
      ],
      "execution_count": 101,
      "outputs": [
        {
          "output_type": "stream",
          "text": [
            "This is link1\n",
            "This is link2\n"
          ],
          "name": "stdout"
        }
      ]
    },
    {
      "cell_type": "code",
      "metadata": {
        "id": "u5LvFLLRi3aY",
        "colab_type": "code",
        "colab": {
          "base_uri": "https://localhost:8080/",
          "height": 35
        },
        "outputId": "fae70d81-d0e8-4768-dff1-417d30c76293"
      },
      "source": [
        "# id => #\n",
        "soup.select_one('#title').text"
      ],
      "execution_count": 102,
      "outputs": [
        {
          "output_type": "execute_result",
          "data": {
            "application/vnd.google.colaboratory.intrinsic+json": {
              "type": "string"
            },
            "text/plain": [
              "'Hello World'"
            ]
          },
          "metadata": {
            "tags": []
          },
          "execution_count": 102
        }
      ]
    },
    {
      "cell_type": "code",
      "metadata": {
        "id": "z1Ql73NnjflS",
        "colab_type": "code",
        "colab": {
          "base_uri": "https://localhost:8080/",
          "height": 51
        },
        "outputId": "f30291d3-8aed-4ec1-a1b8-cafd73e6ff36"
      },
      "source": [
        "# class => .\n",
        "soup.select('.link')"
      ],
      "execution_count": 103,
      "outputs": [
        {
          "output_type": "execute_result",
          "data": {
            "text/plain": [
              "[<a class=\"link\" href=\"#\">This is link1</a>,\n",
              " <a class=\"link\" href=\"# link2\">This is link2</a>]"
            ]
          },
          "metadata": {
            "tags": []
          },
          "execution_count": 103
        }
      ]
    },
    {
      "cell_type": "code",
      "metadata": {
        "id": "hR7MxPmJjnxd",
        "colab_type": "code",
        "colab": {
          "base_uri": "https://localhost:8080/",
          "height": 34
        },
        "outputId": "e8a25ab3-9aff-4fab-f017-f7760cb61967"
      },
      "source": [
        "soup.select_one('h1#title')"
      ],
      "execution_count": 105,
      "outputs": [
        {
          "output_type": "execute_result",
          "data": {
            "text/plain": [
              "<h1 id=\"title\">Hello World</h1>"
            ]
          },
          "metadata": {
            "tags": []
          },
          "execution_count": 105
        }
      ]
    },
    {
      "cell_type": "code",
      "metadata": {
        "id": "MkzbcTLyj37O",
        "colab_type": "code",
        "colab": {
          "base_uri": "https://localhost:8080/",
          "height": 51
        },
        "outputId": "13eee249-98d6-48d2-dce0-3bbe07ce0417"
      },
      "source": [
        "soup.select('a.link')"
      ],
      "execution_count": 106,
      "outputs": [
        {
          "output_type": "execute_result",
          "data": {
            "text/plain": [
              "[<a class=\"link\" href=\"#\">This is link1</a>,\n",
              " <a class=\"link\" href=\"# link2\">This is link2</a>]"
            ]
          },
          "metadata": {
            "tags": []
          },
          "execution_count": 106
        }
      ]
    },
    {
      "cell_type": "code",
      "metadata": {
        "id": "LP-rbeiXj6uu",
        "colab_type": "code",
        "colab": {
          "base_uri": "https://localhost:8080/",
          "height": 34
        },
        "outputId": "d84d8f90-5506-41cb-a34c-3a10b65c0bb0"
      },
      "source": [
        "soup.select_one('body h1')"
      ],
      "execution_count": 108,
      "outputs": [
        {
          "output_type": "execute_result",
          "data": {
            "text/plain": [
              "<h1 id=\"title\">Hello World</h1>"
            ]
          },
          "metadata": {
            "tags": []
          },
          "execution_count": 108
        }
      ]
    },
    {
      "cell_type": "code",
      "metadata": {
        "id": "_6sCxLyHkGhP",
        "colab_type": "code",
        "colab": {
          "base_uri": "https://localhost:8080/",
          "height": 34
        },
        "outputId": "e96186f6-6a83-421b-ac6d-78e79332a381"
      },
      "source": [
        "soup.select_one('body h1#title')"
      ],
      "execution_count": 109,
      "outputs": [
        {
          "output_type": "execute_result",
          "data": {
            "text/plain": [
              "<h1 id=\"title\">Hello World</h1>"
            ]
          },
          "metadata": {
            "tags": []
          },
          "execution_count": 109
        }
      ]
    },
    {
      "cell_type": "code",
      "metadata": {
        "id": "MtrRVgjwkI8_",
        "colab_type": "code",
        "colab": {
          "base_uri": "https://localhost:8080/",
          "height": 34
        },
        "outputId": "37702f08-4e6d-4e91-c65a-18a1a8a04791"
      },
      "source": [
        "soup.select_one('body #title')"
      ],
      "execution_count": 110,
      "outputs": [
        {
          "output_type": "execute_result",
          "data": {
            "text/plain": [
              "<h1 id=\"title\">Hello World</h1>"
            ]
          },
          "metadata": {
            "tags": []
          },
          "execution_count": 110
        }
      ]
    },
    {
      "cell_type": "code",
      "metadata": {
        "id": "Bdy7BhvukKqv",
        "colab_type": "code",
        "colab": {
          "base_uri": "https://localhost:8080/",
          "height": 51
        },
        "outputId": "d60f79dd-1488-42d6-c4c3-f7292d070a85"
      },
      "source": [
        "soup.select('body a')"
      ],
      "execution_count": 111,
      "outputs": [
        {
          "output_type": "execute_result",
          "data": {
            "text/plain": [
              "[<a class=\"link\" href=\"#\">This is link1</a>,\n",
              " <a class=\"link\" href=\"# link2\">This is link2</a>]"
            ]
          },
          "metadata": {
            "tags": []
          },
          "execution_count": 111
        }
      ]
    },
    {
      "cell_type": "code",
      "metadata": {
        "id": "UzbdfOkhkRRf",
        "colab_type": "code",
        "colab": {
          "base_uri": "https://localhost:8080/",
          "height": 51
        },
        "outputId": "95ebd1a4-5bbe-411f-91b6-d097ea2fd5c3"
      },
      "source": [
        "soup.select('body a.link')"
      ],
      "execution_count": 112,
      "outputs": [
        {
          "output_type": "execute_result",
          "data": {
            "text/plain": [
              "[<a class=\"link\" href=\"#\">This is link1</a>,\n",
              " <a class=\"link\" href=\"# link2\">This is link2</a>]"
            ]
          },
          "metadata": {
            "tags": []
          },
          "execution_count": 112
        }
      ]
    },
    {
      "cell_type": "code",
      "metadata": {
        "id": "eqJWD8VekSox",
        "colab_type": "code",
        "colab": {
          "base_uri": "https://localhost:8080/",
          "height": 51
        },
        "outputId": "3db63bb3-c454-4f3d-e89d-b9401410ec06"
      },
      "source": [
        "soup.select('body .link')"
      ],
      "execution_count": 113,
      "outputs": [
        {
          "output_type": "execute_result",
          "data": {
            "text/plain": [
              "[<a class=\"link\" href=\"#\">This is link1</a>,\n",
              " <a class=\"link\" href=\"# link2\">This is link2</a>]"
            ]
          },
          "metadata": {
            "tags": []
          },
          "execution_count": 113
        }
      ]
    },
    {
      "cell_type": "code",
      "metadata": {
        "id": "mF6otdwbkTwR",
        "colab_type": "code",
        "colab": {
          "base_uri": "https://localhost:8080/",
          "height": 51
        },
        "outputId": "fb5d1c65-d1f5-4b02-99c0-15bc823f5000"
      },
      "source": [
        "for link in soup.select('a'):\n",
        "  #print(link.text)\n",
        "  print(link.get('href'))"
      ],
      "execution_count": 116,
      "outputs": [
        {
          "output_type": "stream",
          "text": [
            "#\n",
            "# link2\n"
          ],
          "name": "stdout"
        }
      ]
    },
    {
      "cell_type": "markdown",
      "metadata": {
        "id": "zPJSeMaP0xv1",
        "colab_type": "text"
      },
      "source": [
        "## 網路爬蟲範例"
      ]
    },
    {
      "cell_type": "code",
      "metadata": {
        "id": "0UFv-5jbzy8p",
        "colab_type": "code",
        "colab": {
          "base_uri": "https://localhost:8080/",
          "height": 34
        },
        "outputId": "f6e562b7-547a-4f3c-e815-d17bca66103c"
      },
      "source": [
        "import requests\n",
        "#headers = {\n",
        "#  'user-agent': 'Mozilla/5.0 (Windows NT 10.0; Win64; x64) AppleWebKit/537.36 (KHTML, like Gecko) Chrome/85.0.4183.102 Safari/537.36'  \n",
        "#}\n",
        "headers = {\n",
        "  'user-agent': 'i love qoo'  \n",
        "}\n",
        "res = requests.get('https://money.udn.com/rank/newest/1001/0/1', headers = headers)\n",
        "res"
      ],
      "execution_count": 125,
      "outputs": [
        {
          "output_type": "execute_result",
          "data": {
            "text/plain": [
              "<Response [200]>"
            ]
          },
          "metadata": {
            "tags": []
          },
          "execution_count": 125
        }
      ]
    },
    {
      "cell_type": "code",
      "metadata": {
        "id": "ciS0Ft5g07b6",
        "colab_type": "code",
        "colab": {}
      },
      "source": [
        "from bs4 import BeautifulSoup\n",
        "soup = BeautifulSoup(res.text, 'lxml')"
      ],
      "execution_count": 128,
      "outputs": []
    },
    {
      "cell_type": "markdown",
      "metadata": {
        "id": "53Iy6NP33y8E",
        "colab_type": "text"
      },
      "source": [
        "<table>\n",
        "  <tr><td>c1</td><td>c2</td></tr>\n",
        "  <tr><td>1</td><td>2</td></tr>\n",
        "\n",
        "</table>"
      ]
    },
    {
      "cell_type": "markdown",
      "metadata": {
        "id": "x3mkdh7c4t8A",
        "colab_type": "text"
      },
      "source": [
        "## Selectorgadget\n",
        "- https://chrome.google.com/webstore/detail/selectorgadget/mhjhnkcfbdhnjickkkdbjoemdmbfginb?hl=zh-TW"
      ]
    },
    {
      "cell_type": "code",
      "metadata": {
        "id": "fdhS5web57qF",
        "colab_type": "code",
        "colab": {
          "base_uri": "https://localhost:8080/",
          "height": 34
        },
        "outputId": "60f9ea88-5614-4b50-ae79-d92d6c5abb45"
      },
      "source": [
        "# non-pythonic \n",
        "ary = []\n",
        "if len(ary) > 0:\n",
        "  print('has something')\n",
        "else:\n",
        "  print('has nothing')"
      ],
      "execution_count": 135,
      "outputs": [
        {
          "output_type": "stream",
          "text": [
            "has nothing\n"
          ],
          "name": "stdout"
        }
      ]
    },
    {
      "cell_type": "code",
      "metadata": {
        "id": "7NVIKKrQ6LJd",
        "colab_type": "code",
        "colab": {
          "base_uri": "https://localhost:8080/",
          "height": 34
        },
        "outputId": "ba31fff8-cacf-4ad4-e187-40f8e7604b10"
      },
      "source": [
        "# pythonic\n",
        "if ary:\n",
        "  print('has something')\n",
        "else:\n",
        "  print('has nothing')"
      ],
      "execution_count": 137,
      "outputs": [
        {
          "output_type": "stream",
          "text": [
            "has nothing\n"
          ],
          "name": "stdout"
        }
      ]
    },
    {
      "cell_type": "code",
      "metadata": {
        "id": "ZaNQqwyY3RdU",
        "colab_type": "code",
        "colab": {
          "base_uri": "https://localhost:8080/",
          "height": 1000
        },
        "outputId": "ba972bbd-f8a2-4d8d-d30e-0b3aa73db01c"
      },
      "source": [
        "for tr in soup.select('tr'):\n",
        "  td = tr.select('td')\n",
        "  if td:\n",
        "    title = td[0].text\n",
        "    category = td[1].text\n",
        "    dt = td[2].text\n",
        "    print(title, category, dt)\n",
        "    print('==================================')"
      ],
      "execution_count": 143,
      "outputs": [
        {
          "output_type": "stream",
          "text": [
            "【WSJ】拜登的對陸政策 似與川普無異 會員專區 09/12 13:43\n",
            "==================================\n",
            "被網友嫌不好吃又貴  狗不理包子報警引議 兩岸 09/12 13:36\n",
            "==================================\n",
            "美西野火撤離工作已難 網路謠言還添亂 國際 09/12 13:36\n",
            "==================================\n",
            "台東大學體育館變身  國內首座校園觀光工廠 產業 09/12 13:36\n",
            "==================================\n",
            "蘇起警告 大陸可能「小打」教訓台灣 兩岸 09/12 13:33\n",
            "==================================\n",
            "中方再發禁行警告  共軍浙江象山沿海軍演 兩岸 09/12 13:30\n",
            "==================================\n",
            "蒜價飆漲查獲雲林盤商囤積150噸？調查站展開行政稽查 產業 09/12 13:30\n",
            "==================================\n",
            "高鐵延屏東宜蘭  估各需增購2組列車 產業 09/12 13:21\n",
            "==================================\n",
            "雨彈來了！ 鋒面報到對流旺盛 18縣市大雨特報 產業 09/12 13:14\n",
            "==================================\n",
            "海洋悲歌再起！ 金門岸際又發現死亡鯨豚 累計第16起 產業 09/12 13:14\n",
            "==================================\n",
            "911恐攻19週年 阿富汗政府與塔利班首度和談 國際 09/12 13:06\n",
            "==================================\n",
            "實境解謎搭城市探索指南 青年活化台中特色老屋 產業 09/12 13:06\n",
            "==================================\n",
            "鋒面加午後對流  18縣市大雨特報 產業 09/12 13:00\n",
            "==================================\n",
            "鴻海布局量子計算 攜手台大辦黑客松發掘人才 產業 09/12 12:54\n",
            "==================================\n",
            "印度人被共軍綁架？中媒：情報員假扮獵人被捕 兩岸 09/12 12:45\n",
            "==================================\n",
            "新款iPhone傳本週量產 估最快10月中旬出貨 國際 09/12 12:45\n",
            "==================================\n",
            "超商推療芋系甜點！濃芋牛奶糖、金沙芋泥三明治吃一波 產業 09/12 12:43\n",
            "==================================\n",
            "口罩國家隊再出動 3天後口罩增加防偽標示 產業 09/12 12:43\n",
            "==================================\n",
            "加利口罩退貨持續發酵 逾4000盒破百萬元 產業 09/12 12:43\n",
            "==================================\n",
            "央視稱王金平赴陸求和 呂秀蓮籲國民黨取消此行 兩岸 09/12 12:39\n",
            "==================================\n",
            "【Bloomberg】巴菲特改變投資策略了嗎？四問題一次答 會員專區 09/12 12:33\n",
            "==================================\n",
            "【Bloomberg】巴菲特改變投資策略了嗎？四問題一次答 國際 09/12 12:33\n",
            "==================================\n",
            "臺灣蝶類誌第四部曲出版  收錄百餘種蝴蝶 產業 09/12 12:30\n",
            "==================================\n",
            "看好量子計算 鴻海再次攜手台大培養人才 產業 09/12 12:24\n",
            "==================================\n",
            "新電價費率14日揭曉 可望連5凍 產業 09/12 12:21\n",
            "==================================\n",
            "環時指 早前在邊境「失蹤」的5印度人是情報員 兩岸 09/12 12:18\n",
            "==================================\n",
            "連獲阿聯及巴林承認 以色列與川普皆大歡喜 國際 09/12 12:12\n",
            "==================================\n",
            "數據智能貫穿專業  世新6大教學研究中心啟動 產業 09/12 12:06\n",
            "==================================\n",
            "傳選北市 黃呂錦茹：韓國瑜不是什麼位子都要的人 產業 09/12 12:06\n",
            "==================================\n",
            "工程會發函採購單位提醒落實評選及評委相關規定 產業 09/12 12:00\n",
            "==================================\n",
            "商業英語簡報不知從何著手？從這四點做起 國際 09/12 11:58\n",
            "==================================\n",
            "日本東北外海規模6.1地震 311重災區震度4級 國際 09/12 11:54\n",
            "==================================\n",
            "擴大支出抗疫振興 美預算赤字達3兆美元創新高 國際 09/12 11:54\n",
            "==================================\n",
            "美國禁抖音、微信？從美中科技戰學英文 國際 09/12 11:34\n",
            "==================================\n",
            "國教署推口腔保健  學生齲齒率6年降逾1成 產業 09/12 11:21\n",
            "==================================\n",
            "「神力女超人1984」又要延期！新檔期：耶誕節 國際 09/12 11:20\n",
            "==================================\n",
            "丁允恭陷桃色風暴 前妻首度公開聲明：祝受傷女可平復 產業 09/12 11:20\n",
            "==================================\n",
            "一張圖看午後降雨熱區！ 鄭明典：對流發展機率高 產業 09/12 11:19\n",
            "==================================\n",
            "iPhone 12可望帶動第4季出貨年成長 明年更看好 國際 09/12 11:12\n",
            "==================================\n",
            "通車7個月逾2百萬車次 南迴改讓回家路更近 產業 09/12 11:12\n",
            "==================================\n",
            "評捷克議長訪台 人民日報：破壞不了中捷合作主流 兩岸 09/12 11:00\n",
            "==================================\n",
            "王毅會俄國外長  批美國干涉中國內政 兩岸 09/12 11:00\n",
            "==================================\n",
            "波音737 MAX復飛有望 歐美下週檢視機師訓練計畫 國際 09/12 11:00\n",
            "==================================\n",
            "藍啟動反萊豬進口公投連署 江啟臣邀政黨辯論 產業 09/12 11:00\n",
            "==================================\n",
            "日相安倍請辭後 首度赴醫院治療舊疾 國際 09/12 10:54\n",
            "==================================\n",
            "布拉格市長：中國承諾很多沒實現  非可信賴夥伴 產業 09/12 10:54\n",
            "==================================\n",
            "華為9月15日禁令將至 法人加碼這幾檔 證券 09/12 10:51\n",
            "==================================\n",
            "蘇起：11月美國大選過後 台灣處境恐更危險 兩岸 09/12 10:49\n",
            "==================================\n",
            "不滿求和說  江啟臣：海峽論壇不是為參加而參加 產業 09/12 10:36\n",
            "==================================\n",
            "美禁令切斷半導體供貨 華為智慧型手機霸主夢碎 國際 09/12 10:36\n",
            "==================================\n",
            "共同社：安倍晉三宣布請辭以來 又進醫院 國際 09/12 10:28\n",
            "==================================\n",
            "中軌道衛星接收站2023年啟用 海難搜救功力大增 房產 09/12 10:21\n",
            "==================================\n",
            "美軍勇敢之盾演訓 雷根號巡弋太平洋 國際 09/12 10:21\n",
            "==================================\n",
            "相見不如不見 央視求和說後續影響藍營持續發酵 產業 09/12 10:21\n",
            "==================================\n",
            "董事會解聘彭季康  北流：專業不符未來發展需要 產業 09/12 10:21\n",
            "==================================\n",
            "演習常態化？大陸宣布今日於浙江象山沿海軍演 兩岸 09/12 10:17\n",
            "==================================\n",
            "巴西食物價格連漲  重返飢餓地圖危機高 國際 09/12 10:12\n",
            "==================================\n",
            "讓傳產成為精品 台灣華夏玻璃被施華洛世奇看上 產業 09/12 10:00\n",
            "==================================\n",
            "蓬佩奧關切中國扣留12名港人  質疑港府承諾 國際 09/12 09:54\n",
            "==================================\n",
            "打開台北 50個私密空間48小時免費參觀 產業 09/12 09:54\n",
            "==================================\n"
          ],
          "name": "stdout"
        }
      ]
    },
    {
      "cell_type": "markdown",
      "metadata": {
        "id": "jxVbapId7MYD",
        "colab_type": "text"
      },
      "source": [
        "抓取 Mobile01 最新文章列表\n",
        "- https://www.mobile01.com/forumtopic.php?c=19"
      ]
    },
    {
      "cell_type": "code",
      "metadata": {
        "id": "zTGqE53d4KxX",
        "colab_type": "code",
        "colab": {}
      },
      "source": [
        "import requests\n",
        "headers = {\n",
        "   'user-agent':'i love ptt' \n",
        "}\n",
        "res = requests.get('http://mobile01.com/forumtopic.php?c=19', headers = headers)\n",
        "#res.text"
      ],
      "execution_count": 146,
      "outputs": []
    },
    {
      "cell_type": "code",
      "metadata": {
        "id": "flydLFZU7Yal",
        "colab_type": "code",
        "colab": {}
      },
      "source": [
        ""
      ],
      "execution_count": null,
      "outputs": []
    }
  ]
}