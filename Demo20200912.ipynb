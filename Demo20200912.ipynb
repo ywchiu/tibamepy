{
  "nbformat": 4,
  "nbformat_minor": 0,
  "metadata": {
    "colab": {
      "name": "Demo20200912.ipynb",
      "provenance": [],
      "collapsed_sections": []
    },
    "kernelspec": {
      "name": "python3",
      "display_name": "Python 3"
    }
  },
  "cells": [
    {
      "cell_type": "markdown",
      "metadata": {
        "id": "mO4MvMxx9Ht1",
        "colab_type": "text"
      },
      "source": [
        "## 作業 (Python 基礎)\n",
        "- 1 請使用 pip 將 jieba 安裝在自己的電腦上\n",
        "- 2 閱讀jieba 相關的文件，了解jieba 的用法\n",
        "- 3 請將蔡英文演說文 (https://raw.githubusercontent.com/ywchiu/tibamedl/master/Data/speech_tsai.txt) 下載存入到自己電腦\n",
        "- 4 請使用python 的檔案操作方法讀取新聞\n",
        "- 5 請使用 jieba 將演說文切詞\n",
        "-6 請統計該演說文最常出現的十大字詞"
      ]
    },
    {
      "cell_type": "code",
      "metadata": {
        "id": "oLlB42qy8T2Y",
        "colab_type": "code",
        "colab": {
          "base_uri": "https://localhost:8080/",
          "height": 54
        },
        "outputId": "8826a799-fcd9-4482-d6de-02c3aabf042a"
      },
      "source": [
        "! pip install jieba"
      ],
      "execution_count": 1,
      "outputs": [
        {
          "output_type": "stream",
          "text": [
            "Requirement already satisfied: jieba in /usr/local/lib/python3.6/dist-packages (0.42.1)\n"
          ],
          "name": "stdout"
        }
      ]
    },
    {
      "cell_type": "code",
      "metadata": {
        "id": "4OecJz2j9LJ2",
        "colab_type": "code",
        "colab": {
          "base_uri": "https://localhost:8080/",
          "height": 120
        },
        "outputId": "b283e0f5-46b8-46c6-ca05-1f4abe79685b"
      },
      "source": [
        "import jieba\n",
        "\n",
        "\n",
        "seg_list = jieba.cut(\"我来到北京清华大学\", cut_all=True)\n",
        "print(\"Full Mode: \" + \"/ \".join(seg_list))  # 全模式\n",
        "\n",
        "seg_list = jieba.cut(\"我来到北京清华大学\", cut_all=False)\n",
        "print(\"Default Mode: \" + \"/ \".join(seg_list))  # 精确模式"
      ],
      "execution_count": 2,
      "outputs": [
        {
          "output_type": "stream",
          "text": [
            "Building prefix dict from the default dictionary ...\n",
            "Dumping model to file cache /tmp/jieba.cache\n",
            "Loading model cost 0.948 seconds.\n",
            "Prefix dict has been built successfully.\n"
          ],
          "name": "stderr"
        },
        {
          "output_type": "stream",
          "text": [
            "Full Mode: 我/ 来到/ 北京/ 清华/ 清华大学/ 华大/ 大学\n",
            "Default Mode: 我/ 来到/ 北京/ 清华大学\n"
          ],
          "name": "stdout"
        }
      ]
    },
    {
      "cell_type": "code",
      "metadata": {
        "id": "WVQxKHqK-Aiy",
        "colab_type": "code",
        "colab": {
          "base_uri": "https://localhost:8080/",
          "height": 54
        },
        "outputId": "b104e28f-0dd7-40b6-c4c6-76573cb4d619"
      },
      "source": [
        "jieba.add_word('觀光局')\n",
        "seg_list = jieba.cut(\"交通部觀光局東北角管理處將海巡據點馬崗哨所整修，轉型為多元使用的遊憩據點「馬崗哨所Empress Gallery」藝術咖啡廳，昨天正式營運，店內結合「貓夫人」攝影展，展示在當地馬崗社區拍攝的貓咪倩影，成為眺望卯澳灣山海美景的全新休憩景點。\", cut_all=False)\n",
        "print(\"Default Mode: \" + \"/ \".join(seg_list))  # 精确模式"
      ],
      "execution_count": 4,
      "outputs": [
        {
          "output_type": "stream",
          "text": [
            "Default Mode: 交通部/ 觀光局/ 東/ 北角/ 管理/ 處將/ 海巡/ 據/ 點馬崗/ 哨所/ 整修/ ，/ 轉型/ 為/ 多元/ 使用/ 的/ 遊憩/ 據點/ 「/ 馬/ 崗/ 哨所/ Empress/  / Gallery/ 」/ 藝術/ 咖啡/ 廳/ ，/ 昨天/ 正式/ 營運/ ，/ 店內/ 結合/ 「/ 貓/ 夫人/ 」/ 攝/ 影展/ ，/ 展示/ 在/ 當地馬崗/ 社區/ 拍/ 攝/ 的/ 貓咪/ 倩影/ ，/ 成為/ 眺望/ 卯/ 澳灣/ 山海/ 美景/ 的/ 全新/ 休憩/ 景點/ 。\n"
          ],
          "name": "stdout"
        }
      ]
    },
    {
      "cell_type": "code",
      "metadata": {
        "id": "ZY5aXAWS-ZIq",
        "colab_type": "code",
        "colab": {
          "base_uri": "https://localhost:8080/",
          "height": 226
        },
        "outputId": "27733866-be62-4cd7-c7bc-086bfcdd8739"
      },
      "source": [
        "! wget https://raw.githubusercontent.com/ywchiu/tibamedl/master/Data/speech_tsai.txt"
      ],
      "execution_count": 5,
      "outputs": [
        {
          "output_type": "stream",
          "text": [
            "--2020-09-12 01:43:07--  https://raw.githubusercontent.com/ywchiu/tibamedl/master/Data/speech_tsai.txt\n",
            "Resolving raw.githubusercontent.com (raw.githubusercontent.com)... 151.101.0.133, 151.101.64.133, 151.101.128.133, ...\n",
            "Connecting to raw.githubusercontent.com (raw.githubusercontent.com)|151.101.0.133|:443... connected.\n",
            "HTTP request sent, awaiting response... 200 OK\n",
            "Length: 6579 (6.4K) [text/plain]\n",
            "Saving to: ‘speech_tsai.txt’\n",
            "\n",
            "speech_tsai.txt     100%[===================>]   6.42K  --.-KB/s    in 0s      \n",
            "\n",
            "2020-09-12 01:43:07 (78.3 MB/s) - ‘speech_tsai.txt’ saved [6579/6579]\n",
            "\n"
          ],
          "name": "stdout"
        }
      ]
    },
    {
      "cell_type": "code",
      "metadata": {
        "id": "LF10HJAw-vLu",
        "colab_type": "code",
        "colab": {
          "base_uri": "https://localhost:8080/",
          "height": 208
        },
        "outputId": "a485cb29-a5b3-406d-e50c-aaccd98d2e84"
      },
      "source": [
        "! head speech_tsai.txt"
      ],
      "execution_count": 6,
      "outputs": [
        {
          "output_type": "stream",
          "text": [
            "大會主席蘇嘉全院長、現場各位貴賓、電視機前和網路上的全體國人同胞，大家早安，大家好。\n",
            "\n",
            "今天，是中華民國一百零八年的國慶日，謝謝來自世界各地的好朋友，跟我們共度這個值得紀念的日子。\n",
            "\n",
            "去年，也是在國慶日，我和大家說，台灣正處在變局當中。世界貿易局勢的變動、國際政治情勢的變化，都讓未來充滿挑戰。我們必須「求穩、應變、進步」，厚植實力、壯大台灣。\n",
            "\n",
            "轉眼又過了一年，世界依然快速變化，甚至更加劇烈。美中貿易戰的持續進行；距離我們不遠的香港，因為「一國兩制」的失敗，正處於失序邊緣。\n",
            "\n",
            "儘管如此，中國依然以「一國兩制台灣方案」，不斷威脅我們，並採取各種文攻武嚇，強烈挑戰了區域的穩定及和平。\n",
            "\n"
          ],
          "name": "stdout"
        }
      ]
    },
    {
      "cell_type": "code",
      "metadata": {
        "id": "ii9tuAGX-yMS",
        "colab_type": "code",
        "colab": {}
      },
      "source": [
        "with open('speech_tsai.txt', 'r') as f:\n",
        "  speech = f.read()"
      ],
      "execution_count": 7,
      "outputs": []
    },
    {
      "cell_type": "code",
      "metadata": {
        "id": "Gwn5uASX--0S",
        "colab_type": "code",
        "colab": {}
      },
      "source": [
        "seg_list = jieba.cut(speech)"
      ],
      "execution_count": 9,
      "outputs": []
    },
    {
      "cell_type": "code",
      "metadata": {
        "id": "Jv-eIwD0_Amm",
        "colab_type": "code",
        "colab": {}
      },
      "source": [
        "#list(seg_list)"
      ],
      "execution_count": 12,
      "outputs": []
    },
    {
      "cell_type": "code",
      "metadata": {
        "id": "1MTtVJ2c_VuK",
        "colab_type": "code",
        "colab": {}
      },
      "source": [
        "seg_list = jieba.cut(speech)\n",
        "#for word in seg_list:\n",
        "#  print(word)"
      ],
      "execution_count": 15,
      "outputs": []
    },
    {
      "cell_type": "code",
      "metadata": {
        "id": "TyF0fiM8_abq",
        "colab_type": "code",
        "colab": {}
      },
      "source": [
        "seg_list = jieba.lcut(speech)"
      ],
      "execution_count": 16,
      "outputs": []
    },
    {
      "cell_type": "code",
      "metadata": {
        "id": "eEed7sME_wy0",
        "colab_type": "code",
        "colab": {}
      },
      "source": [
        "#seg_list"
      ],
      "execution_count": 18,
      "outputs": []
    },
    {
      "cell_type": "markdown",
      "metadata": {
        "id": "k9v2FU9RAG2Q",
        "colab_type": "text"
      },
      "source": [
        "### Method 1"
      ]
    },
    {
      "cell_type": "code",
      "metadata": {
        "id": "blPXYfTJ_xwS",
        "colab_type": "code",
        "colab": {}
      },
      "source": [
        "dic = {}\n",
        "for word in seg_list:\n",
        "  if len(word) >= 2:\n",
        "    if word not in dic:\n",
        "      dic[word] = 1\n",
        "    else:\n",
        "      dic[word] = dic[word] + 1"
      ],
      "execution_count": 23,
      "outputs": []
    },
    {
      "cell_type": "code",
      "metadata": {
        "id": "ktmCI8qIARxK",
        "colab_type": "code",
        "colab": {}
      },
      "source": [
        "swd = sorted(dic.items(), key = lambda e: e[1], reverse=True)"
      ],
      "execution_count": 24,
      "outputs": []
    },
    {
      "cell_type": "code",
      "metadata": {
        "id": "w9zMAorzAZg-",
        "colab_type": "code",
        "colab": {
          "base_uri": "https://localhost:8080/",
          "height": 188
        },
        "outputId": "40b58e55-e04a-4d58-93e6-515c2a0d8507"
      },
      "source": [
        "swd[0:10]"
      ],
      "execution_count": 25,
      "outputs": [
        {
          "output_type": "execute_result",
          "data": {
            "text/plain": [
              "[('我們', 43),\n",
              " ('台灣', 19),\n",
              " ('挑戰', 12),\n",
              " ('人民', 9),\n",
              " ('經濟', 8),\n",
              " ('中華民國', 7),\n",
              " ('一次', 7),\n",
              " ('未來', 6),\n",
              " ('自由民主', 6),\n",
              " ('世界', 5)]"
            ]
          },
          "metadata": {
            "tags": []
          },
          "execution_count": 25
        }
      ]
    },
    {
      "cell_type": "markdown",
      "metadata": {
        "id": "8jh81y8QArR0",
        "colab_type": "text"
      },
      "source": [
        "### Method 2"
      ]
    },
    {
      "cell_type": "code",
      "metadata": {
        "id": "f0MkBQ7FAaOg",
        "colab_type": "code",
        "colab": {}
      },
      "source": [
        "dic = {}\n",
        "for word in seg_list:\n",
        "  if len(word) >= 2:\n",
        "    dic[word] = dic.get(word, 0) + 1"
      ],
      "execution_count": 26,
      "outputs": []
    },
    {
      "cell_type": "code",
      "metadata": {
        "id": "OSygIguKA0PJ",
        "colab_type": "code",
        "colab": {}
      },
      "source": [
        "swd = sorted(dic.items(), key = lambda e: e[1], reverse=True)"
      ],
      "execution_count": 27,
      "outputs": []
    },
    {
      "cell_type": "code",
      "metadata": {
        "id": "xhSve5wVA19G",
        "colab_type": "code",
        "colab": {
          "base_uri": "https://localhost:8080/",
          "height": 188
        },
        "outputId": "6f0571b7-8699-4625-c37a-a5978aceb17f"
      },
      "source": [
        "swd[0:10]"
      ],
      "execution_count": 28,
      "outputs": [
        {
          "output_type": "execute_result",
          "data": {
            "text/plain": [
              "[('我們', 43),\n",
              " ('台灣', 19),\n",
              " ('挑戰', 12),\n",
              " ('人民', 9),\n",
              " ('經濟', 8),\n",
              " ('中華民國', 7),\n",
              " ('一次', 7),\n",
              " ('未來', 6),\n",
              " ('自由民主', 6),\n",
              " ('世界', 5)]"
            ]
          },
          "metadata": {
            "tags": []
          },
          "execution_count": 28
        }
      ]
    },
    {
      "cell_type": "markdown",
      "metadata": {
        "id": "b_ASU91NA7ZP",
        "colab_type": "text"
      },
      "source": [
        "### Method 3"
      ]
    },
    {
      "cell_type": "code",
      "metadata": {
        "id": "QaAXspxTA3dW",
        "colab_type": "code",
        "colab": {
          "base_uri": "https://localhost:8080/",
          "height": 188
        },
        "outputId": "0189bb30-a2bf-419f-c107-2bf585c322b8"
      },
      "source": [
        "from collections import Counter \n",
        "c = Counter([w for w in seg_list if len(w)>=2])\n",
        "c.most_common(10)"
      ],
      "execution_count": 32,
      "outputs": [
        {
          "output_type": "execute_result",
          "data": {
            "text/plain": [
              "[('我們', 43),\n",
              " ('台灣', 19),\n",
              " ('挑戰', 12),\n",
              " ('人民', 9),\n",
              " ('經濟', 8),\n",
              " ('中華民國', 7),\n",
              " ('一次', 7),\n",
              " ('未來', 6),\n",
              " ('自由民主', 6),\n",
              " ('世界', 5)]"
            ]
          },
          "metadata": {
            "tags": []
          },
          "execution_count": 32
        }
      ]
    },
    {
      "cell_type": "code",
      "metadata": {
        "id": "ZcKH03EFBEZb",
        "colab_type": "code",
        "colab": {}
      },
      "source": [
        "ary = []\n",
        "for word in seg_list:\n",
        "  if len(word) >=2:\n",
        "    ary.append(word)\n",
        "#ary"
      ],
      "execution_count": 31,
      "outputs": []
    },
    {
      "cell_type": "markdown",
      "metadata": {
        "id": "Q1zTKGdCGr0G",
        "colab_type": "text"
      },
      "source": [
        "## Pandas"
      ]
    },
    {
      "cell_type": "code",
      "metadata": {
        "id": "ATECzRCKGrVf",
        "colab_type": "code",
        "colab": {}
      },
      "source": [
        "import pandas\n",
        "stock = pandas.read_excel('https://raw.githubusercontent.com/ywchiu/tibamepy/master/data/stock.xlsx')"
      ],
      "execution_count": 33,
      "outputs": []
    },
    {
      "cell_type": "code",
      "metadata": {
        "id": "fiYo6MA7BOCr",
        "colab_type": "code",
        "colab": {
          "base_uri": "https://localhost:8080/",
          "height": 274
        },
        "outputId": "d3587c73-3610-4c30-b473-4937782ba8fc"
      },
      "source": [
        "stock.head()"
      ],
      "execution_count": 34,
      "outputs": [
        {
          "output_type": "execute_result",
          "data": {
            "text/html": [
              "<div>\n",
              "<style scoped>\n",
              "    .dataframe tbody tr th:only-of-type {\n",
              "        vertical-align: middle;\n",
              "    }\n",
              "\n",
              "    .dataframe tbody tr th {\n",
              "        vertical-align: top;\n",
              "    }\n",
              "\n",
              "    .dataframe thead th {\n",
              "        text-align: right;\n",
              "    }\n",
              "</style>\n",
              "<table border=\"1\" class=\"dataframe\">\n",
              "  <thead>\n",
              "    <tr style=\"text-align: right;\">\n",
              "      <th></th>\n",
              "      <th>id</th>\n",
              "      <th>年度</th>\n",
              "      <th>股本</th>\n",
              "      <th>財報評分</th>\n",
              "      <th>收盤</th>\n",
              "      <th>平均</th>\n",
              "      <th>漲跌</th>\n",
              "      <th>漲跌%</th>\n",
              "      <th>營業收入</th>\n",
              "      <th>營業毛利</th>\n",
              "      <th>營業利益</th>\n",
              "      <th>業外損益</th>\n",
              "      <th>稅後淨利</th>\n",
              "      <th>營業毛利%</th>\n",
              "      <th>營業利益%</th>\n",
              "      <th>業外損益%</th>\n",
              "      <th>稅後淨利%</th>\n",
              "      <th>ROE</th>\n",
              "      <th>ROA</th>\n",
              "      <th>稅後EPS</th>\n",
              "      <th>EPS成長</th>\n",
              "      <th>BPS</th>\n",
              "      <th>stockid</th>\n",
              "    </tr>\n",
              "  </thead>\n",
              "  <tbody>\n",
              "    <tr>\n",
              "      <th>0</th>\n",
              "      <td>1</td>\n",
              "      <td>2015</td>\n",
              "      <td>369.0</td>\n",
              "      <td>45</td>\n",
              "      <td>27.3</td>\n",
              "      <td>37.8</td>\n",
              "      <td>-16.1</td>\n",
              "      <td>-37.1</td>\n",
              "      <td>937.0</td>\n",
              "      <td>145.0</td>\n",
              "      <td>96.7</td>\n",
              "      <td>-10.1</td>\n",
              "      <td>57.8</td>\n",
              "      <td>15.5</td>\n",
              "      <td>10.3</td>\n",
              "      <td>-1.08</td>\n",
              "      <td>7.39</td>\n",
              "      <td>4.36</td>\n",
              "      <td>2.36</td>\n",
              "      <td>1.56</td>\n",
              "      <td>-1.37</td>\n",
              "      <td>29.26</td>\n",
              "      <td>1101</td>\n",
              "    </tr>\n",
              "    <tr>\n",
              "      <th>1</th>\n",
              "      <td>2</td>\n",
              "      <td>2014</td>\n",
              "      <td>369.0</td>\n",
              "      <td>53</td>\n",
              "      <td>43.4</td>\n",
              "      <td>45.7</td>\n",
              "      <td>-2.85</td>\n",
              "      <td>-6.2</td>\n",
              "      <td>1183.0</td>\n",
              "      <td>249.0</td>\n",
              "      <td>199.0</td>\n",
              "      <td>13.4</td>\n",
              "      <td>108.0</td>\n",
              "      <td>21</td>\n",
              "      <td>16.8</td>\n",
              "      <td>1.13</td>\n",
              "      <td>14</td>\n",
              "      <td>10.50</td>\n",
              "      <td>5.76</td>\n",
              "      <td>2.93</td>\n",
              "      <td>0.21</td>\n",
              "      <td>31.95</td>\n",
              "      <td>1101</td>\n",
              "    </tr>\n",
              "    <tr>\n",
              "      <th>2</th>\n",
              "      <td>3</td>\n",
              "      <td>2013</td>\n",
              "      <td>369.0</td>\n",
              "      <td>51</td>\n",
              "      <td>46.25</td>\n",
              "      <td>39.8</td>\n",
              "      <td>7.35</td>\n",
              "      <td>18.9</td>\n",
              "      <td>1161.0</td>\n",
              "      <td>228.0</td>\n",
              "      <td>178.0</td>\n",
              "      <td>8.28</td>\n",
              "      <td>100.0</td>\n",
              "      <td>19.7</td>\n",
              "      <td>15.3</td>\n",
              "      <td>0.71</td>\n",
              "      <td>13</td>\n",
              "      <td>10.60</td>\n",
              "      <td>5.56</td>\n",
              "      <td>2.72</td>\n",
              "      <td>0.63</td>\n",
              "      <td>30.63</td>\n",
              "      <td>1101</td>\n",
              "    </tr>\n",
              "    <tr>\n",
              "      <th>3</th>\n",
              "      <td>4</td>\n",
              "      <td>2012</td>\n",
              "      <td>369.0</td>\n",
              "      <td>49</td>\n",
              "      <td>38.9</td>\n",
              "      <td>35.8</td>\n",
              "      <td>3.9</td>\n",
              "      <td>11.1</td>\n",
              "      <td>1195.0</td>\n",
              "      <td>177.0</td>\n",
              "      <td>131.0</td>\n",
              "      <td>-10</td>\n",
              "      <td>77.3</td>\n",
              "      <td>14.8</td>\n",
              "      <td>10.9</td>\n",
              "      <td>-0.84</td>\n",
              "      <td>8.34</td>\n",
              "      <td>7.63</td>\n",
              "      <td>3.81</td>\n",
              "      <td>2.09</td>\n",
              "      <td>-0.24</td>\n",
              "      <td>27.03</td>\n",
              "      <td>1101</td>\n",
              "    </tr>\n",
              "    <tr>\n",
              "      <th>4</th>\n",
              "      <td>5</td>\n",
              "      <td>2011</td>\n",
              "      <td>369.0</td>\n",
              "      <td>55</td>\n",
              "      <td>35</td>\n",
              "      <td>36.8</td>\n",
              "      <td>2.2</td>\n",
              "      <td>6.7</td>\n",
              "      <td>1185.0</td>\n",
              "      <td>206.0</td>\n",
              "      <td>162.0</td>\n",
              "      <td>3.53</td>\n",
              "      <td>86.2</td>\n",
              "      <td>17.4</td>\n",
              "      <td>13.6</td>\n",
              "      <td>0.3</td>\n",
              "      <td>11.6</td>\n",
              "      <td>10.80</td>\n",
              "      <td>5.24</td>\n",
              "      <td>2.33</td>\n",
              "      <td>-0.1</td>\n",
              "      <td>26.21</td>\n",
              "      <td>1101</td>\n",
              "    </tr>\n",
              "  </tbody>\n",
              "</table>\n",
              "</div>"
            ],
            "text/plain": [
              "   id    年度     股本  財報評分     收盤    平均  ...    ROE   ROA  稅後EPS  EPS成長    BPS stockid\n",
              "0   1  2015  369.0    45   27.3  37.8  ...   4.36  2.36   1.56  -1.37  29.26    1101\n",
              "1   2  2014  369.0    53   43.4  45.7  ...  10.50  5.76   2.93   0.21  31.95    1101\n",
              "2   3  2013  369.0    51  46.25  39.8  ...  10.60  5.56   2.72   0.63  30.63    1101\n",
              "3   4  2012  369.0    49   38.9  35.8  ...   7.63  3.81   2.09  -0.24  27.03    1101\n",
              "4   5  2011  369.0    55     35  36.8  ...  10.80  5.24   2.33   -0.1  26.21    1101\n",
              "\n",
              "[5 rows x 23 columns]"
            ]
          },
          "metadata": {
            "tags": []
          },
          "execution_count": 34
        }
      ]
    },
    {
      "cell_type": "code",
      "metadata": {
        "id": "0stK7hsnGxkc",
        "colab_type": "code",
        "colab": {}
      },
      "source": [
        "tw2330 = pandas.read_csv('https://raw.githubusercontent.com/ywchiu/tibamepy/master/data/2330.TW.csv')"
      ],
      "execution_count": 35,
      "outputs": []
    },
    {
      "cell_type": "code",
      "metadata": {
        "id": "yD7jk8lTG-S-",
        "colab_type": "code",
        "colab": {
          "base_uri": "https://localhost:8080/",
          "height": 203
        },
        "outputId": "913bad6e-fe33-4818-cfa4-4ede05ca2f0b"
      },
      "source": [
        "tw2330.head()"
      ],
      "execution_count": 36,
      "outputs": [
        {
          "output_type": "execute_result",
          "data": {
            "text/html": [
              "<div>\n",
              "<style scoped>\n",
              "    .dataframe tbody tr th:only-of-type {\n",
              "        vertical-align: middle;\n",
              "    }\n",
              "\n",
              "    .dataframe tbody tr th {\n",
              "        vertical-align: top;\n",
              "    }\n",
              "\n",
              "    .dataframe thead th {\n",
              "        text-align: right;\n",
              "    }\n",
              "</style>\n",
              "<table border=\"1\" class=\"dataframe\">\n",
              "  <thead>\n",
              "    <tr style=\"text-align: right;\">\n",
              "      <th></th>\n",
              "      <th>Date</th>\n",
              "      <th>Open</th>\n",
              "      <th>High</th>\n",
              "      <th>Low</th>\n",
              "      <th>Close</th>\n",
              "      <th>Adj Close</th>\n",
              "      <th>Volume</th>\n",
              "    </tr>\n",
              "  </thead>\n",
              "  <tbody>\n",
              "    <tr>\n",
              "      <th>0</th>\n",
              "      <td>2000-01-04</td>\n",
              "      <td>69.649002</td>\n",
              "      <td>69.649002</td>\n",
              "      <td>68.475197</td>\n",
              "      <td>69.649002</td>\n",
              "      <td>38.253021</td>\n",
              "      <td>2.006623e+11</td>\n",
              "    </tr>\n",
              "    <tr>\n",
              "      <th>1</th>\n",
              "      <td>2000-01-05</td>\n",
              "      <td>69.649002</td>\n",
              "      <td>71.214104</td>\n",
              "      <td>68.866302</td>\n",
              "      <td>71.214104</td>\n",
              "      <td>39.112621</td>\n",
              "      <td>4.024668e+11</td>\n",
              "    </tr>\n",
              "    <tr>\n",
              "      <th>2</th>\n",
              "      <td>2000-01-06</td>\n",
              "      <td>70.822899</td>\n",
              "      <td>71.214104</td>\n",
              "      <td>69.649002</td>\n",
              "      <td>69.649002</td>\n",
              "      <td>38.253021</td>\n",
              "      <td>1.975457e+11</td>\n",
              "    </tr>\n",
              "    <tr>\n",
              "      <th>3</th>\n",
              "      <td>2000-01-07</td>\n",
              "      <td>67.301300</td>\n",
              "      <td>68.475197</td>\n",
              "      <td>66.518600</td>\n",
              "      <td>67.692497</td>\n",
              "      <td>37.178459</td>\n",
              "      <td>2.352703e+11</td>\n",
              "    </tr>\n",
              "    <tr>\n",
              "      <th>4</th>\n",
              "      <td>2000-01-10</td>\n",
              "      <td>69.649002</td>\n",
              "      <td>70.431396</td>\n",
              "      <td>68.475197</td>\n",
              "      <td>70.040199</td>\n",
              "      <td>38.467876</td>\n",
              "      <td>2.761717e+11</td>\n",
              "    </tr>\n",
              "  </tbody>\n",
              "</table>\n",
              "</div>"
            ],
            "text/plain": [
              "         Date       Open       High  ...      Close  Adj Close        Volume\n",
              "0  2000-01-04  69.649002  69.649002  ...  69.649002  38.253021  2.006623e+11\n",
              "1  2000-01-05  69.649002  71.214104  ...  71.214104  39.112621  4.024668e+11\n",
              "2  2000-01-06  70.822899  71.214104  ...  69.649002  38.253021  1.975457e+11\n",
              "3  2000-01-07  67.301300  68.475197  ...  67.692497  37.178459  2.352703e+11\n",
              "4  2000-01-10  69.649002  70.431396  ...  70.040199  38.467876  2.761717e+11\n",
              "\n",
              "[5 rows x 7 columns]"
            ]
          },
          "metadata": {
            "tags": []
          },
          "execution_count": 36
        }
      ]
    },
    {
      "cell_type": "code",
      "metadata": {
        "id": "nz_D_LyOG_Mu",
        "colab_type": "code",
        "colab": {}
      },
      "source": [
        "tw2330 = pandas.read_json('https://raw.githubusercontent.com/ywchiu/tibamepy/master/data/2330.json')"
      ],
      "execution_count": 37,
      "outputs": []
    },
    {
      "cell_type": "code",
      "metadata": {
        "id": "UothM4fPHLkS",
        "colab_type": "code",
        "colab": {
          "base_uri": "https://localhost:8080/",
          "height": 203
        },
        "outputId": "e5186cee-b009-4838-985f-f63ff59c6171"
      },
      "source": [
        "tw2330"
      ],
      "execution_count": 38,
      "outputs": [
        {
          "output_type": "execute_result",
          "data": {
            "text/html": [
              "<div>\n",
              "<style scoped>\n",
              "    .dataframe tbody tr th:only-of-type {\n",
              "        vertical-align: middle;\n",
              "    }\n",
              "\n",
              "    .dataframe tbody tr th {\n",
              "        vertical-align: top;\n",
              "    }\n",
              "\n",
              "    .dataframe thead th {\n",
              "        text-align: right;\n",
              "    }\n",
              "</style>\n",
              "<table border=\"1\" class=\"dataframe\">\n",
              "  <thead>\n",
              "    <tr style=\"text-align: right;\">\n",
              "      <th></th>\n",
              "      <th>Date</th>\n",
              "      <th>Open</th>\n",
              "      <th>High</th>\n",
              "      <th>Low</th>\n",
              "      <th>Close</th>\n",
              "      <th>Volume</th>\n",
              "      <th>Adj Close</th>\n",
              "    </tr>\n",
              "  </thead>\n",
              "  <tbody>\n",
              "    <tr>\n",
              "      <th>0</th>\n",
              "      <td>2016-07-21</td>\n",
              "      <td>171.0</td>\n",
              "      <td>172.0</td>\n",
              "      <td>170.0</td>\n",
              "      <td>172.0</td>\n",
              "      <td>33130000</td>\n",
              "      <td>172.0</td>\n",
              "    </tr>\n",
              "    <tr>\n",
              "      <th>1</th>\n",
              "      <td>2016-07-20</td>\n",
              "      <td>170.0</td>\n",
              "      <td>170.5</td>\n",
              "      <td>169.0</td>\n",
              "      <td>170.0</td>\n",
              "      <td>38053000</td>\n",
              "      <td>170.0</td>\n",
              "    </tr>\n",
              "    <tr>\n",
              "      <th>2</th>\n",
              "      <td>2016-07-19</td>\n",
              "      <td>170.5</td>\n",
              "      <td>170.5</td>\n",
              "      <td>169.0</td>\n",
              "      <td>170.5</td>\n",
              "      <td>42456000</td>\n",
              "      <td>170.5</td>\n",
              "    </tr>\n",
              "    <tr>\n",
              "      <th>3</th>\n",
              "      <td>2016-07-18</td>\n",
              "      <td>168.0</td>\n",
              "      <td>170.0</td>\n",
              "      <td>168.0</td>\n",
              "      <td>169.5</td>\n",
              "      <td>24749000</td>\n",
              "      <td>169.5</td>\n",
              "    </tr>\n",
              "    <tr>\n",
              "      <th>4</th>\n",
              "      <td>2016-07-15</td>\n",
              "      <td>169.5</td>\n",
              "      <td>169.5</td>\n",
              "      <td>169.5</td>\n",
              "      <td>169.5</td>\n",
              "      <td>41000</td>\n",
              "      <td>169.5</td>\n",
              "    </tr>\n",
              "  </tbody>\n",
              "</table>\n",
              "</div>"
            ],
            "text/plain": [
              "        Date   Open   High    Low  Close    Volume  Adj Close\n",
              "0 2016-07-21  171.0  172.0  170.0  172.0  33130000      172.0\n",
              "1 2016-07-20  170.0  170.5  169.0  170.0  38053000      170.0\n",
              "2 2016-07-19  170.5  170.5  169.0  170.5  42456000      170.5\n",
              "3 2016-07-18  168.0  170.0  168.0  169.5  24749000      169.5\n",
              "4 2016-07-15  169.5  169.5  169.5  169.5     41000      169.5"
            ]
          },
          "metadata": {
            "tags": []
          },
          "execution_count": 38
        }
      ]
    },
    {
      "cell_type": "markdown",
      "metadata": {
        "id": "Y8hiYXm1ON__",
        "colab_type": "text"
      },
      "source": [
        "## GET\n",
        "- https://zh.wikipedia.org/zh-tw/HTTP%E7%8A%B6%E6%80%81%E7%A0%81"
      ]
    },
    {
      "cell_type": "code",
      "metadata": {
        "id": "bKTnfkD1HMJS",
        "colab_type": "code",
        "colab": {
          "base_uri": "https://localhost:8080/",
          "height": 34
        },
        "outputId": "efe0519d-667b-466d-fd91-ba570b75b293"
      },
      "source": [
        "import requests\n",
        "headers = {\n",
        "  'user-agent': 'Mozilla/5.0 (Windows NT 10.0; Win64; x64) AppleWebKit/537.36 (KHTML, like Gecko) Chrome/85.0.4183.102 Safari/537.36'  \n",
        "}\n",
        "res = requests.get('https://money.udn.com/rank/newest/1001/0/1', headers = headers)\n",
        "res"
      ],
      "execution_count": 89,
      "outputs": [
        {
          "output_type": "execute_result",
          "data": {
            "text/plain": [
              "<Response [200]>"
            ]
          },
          "metadata": {
            "tags": []
          },
          "execution_count": 89
        }
      ]
    },
    {
      "cell_type": "code",
      "metadata": {
        "id": "W2eGwbQFOSYE",
        "colab_type": "code",
        "colab": {}
      },
      "source": [
        "#res.text"
      ],
      "execution_count": 91,
      "outputs": []
    },
    {
      "cell_type": "markdown",
      "metadata": {
        "id": "zSOEpMJ1PNze",
        "colab_type": "text"
      },
      "source": [
        "- https://24h.pchome.com.tw/prod/DGBJHC-1900AQ4UP"
      ]
    },
    {
      "cell_type": "code",
      "metadata": {
        "id": "Y0EScQeVOsO4",
        "colab_type": "code",
        "colab": {
          "base_uri": "https://localhost:8080/",
          "height": 123
        },
        "outputId": "60f9f467-a135-4ba5-9a2d-db8406acaa4d"
      },
      "source": [
        "! pip install SpeechRecognition"
      ],
      "execution_count": 46,
      "outputs": [
        {
          "output_type": "stream",
          "text": [
            "Collecting SpeechRecognition\n",
            "\u001b[?25l  Downloading https://files.pythonhosted.org/packages/26/e1/7f5678cd94ec1234269d23756dbdaa4c8cfaed973412f88ae8adf7893a50/SpeechRecognition-3.8.1-py2.py3-none-any.whl (32.8MB)\n",
            "\u001b[K     |████████████████████████████████| 32.8MB 125kB/s \n",
            "\u001b[?25hInstalling collected packages: SpeechRecognition\n",
            "Successfully installed SpeechRecognition-3.8.1\n"
          ],
          "name": "stdout"
        }
      ]
    },
    {
      "cell_type": "code",
      "metadata": {
        "id": "RBB6z6wOTh-Q",
        "colab_type": "code",
        "colab": {}
      },
      "source": [
        "import speech_recognition as sr\n",
        "\n",
        "# obtain audio from the microphone\n",
        "r = sr.Recognizer()\n",
        "with sr.Microphone() as source:\n",
        "    print(\"Say something!\")\n",
        "    audio = r.listen(source, timeout = 3,phrase_time_limit= 3)\n",
        "    \n",
        "#?r.listen\n",
        "r.recognize_google(audio, language='zh-TW')"
      ],
      "execution_count": 47,
      "outputs": []
    },
    {
      "cell_type": "code",
      "metadata": {
        "id": "xbEiH_rKU2eI",
        "colab_type": "code",
        "colab": {}
      },
      "source": [
        "! pip install youtube-dl"
      ],
      "execution_count": null,
      "outputs": []
    },
    {
      "cell_type": "code",
      "metadata": {
        "id": "ygALTfSzVDms",
        "colab_type": "code",
        "colab": {
          "base_uri": "https://localhost:8080/",
          "height": 68
        },
        "outputId": "f6184760-6a0e-4e3c-ac23-9bd7bde93434"
      },
      "source": [
        "! youtube-dl -f mp4 https://www.youtube.com/watch?v=-biOGdYiF-I -o jay.mp4"
      ],
      "execution_count": 55,
      "outputs": [
        {
          "output_type": "stream",
          "text": [
            "[youtube] -biOGdYiF-I: Downloading webpage\n",
            "[download] Destination: jay.mp4\n",
            "\u001b[K[download] 100% of 16.57MiB in 00:00\n"
          ],
          "name": "stdout"
        }
      ]
    },
    {
      "cell_type": "code",
      "metadata": {
        "id": "lf-bleU7U6OV",
        "colab_type": "code",
        "colab": {}
      },
      "source": [
        "https://www.youtube.com/watch?v=-biOGdYiF-I"
      ],
      "execution_count": null,
      "outputs": []
    },
    {
      "cell_type": "code",
      "metadata": {
        "id": "59xEg4ECTsBv",
        "colab_type": "code",
        "colab": {}
      },
      "source": [
        "! pip install autosub"
      ],
      "execution_count": null,
      "outputs": []
    },
    {
      "cell_type": "code",
      "metadata": {
        "id": "hSJMC_ADXDXj",
        "colab_type": "code",
        "colab": {}
      },
      "source": [
        "! pip install 2to3"
      ],
      "execution_count": null,
      "outputs": []
    },
    {
      "cell_type": "markdown",
      "metadata": {
        "id": "xzUFA1p6Yc3W",
        "colab_type": "text"
      },
      "source": [
        "## PCHOME 爬蟲"
      ]
    },
    {
      "cell_type": "code",
      "metadata": {
        "id": "AiQLSEtSYfo3",
        "colab_type": "code",
        "colab": {
          "base_uri": "https://localhost:8080/",
          "height": 34
        },
        "outputId": "3b0e7a10-2c1a-4bae-da42-2536700009f4"
      },
      "source": [
        "import requests\n",
        "res = requests.get('https://ecapi.pchome.com.tw/ecshop/prodapi/v2/prod/button&id=DGBJHC-1900AQ4UP&fields=Seq,Id,Price,Qty,ButtonType,SaleStatus,isPrimeOnly,SpecialQty&_callback=jsonp_button&1599881760?_callback=jsonp_button')\n",
        "res"
      ],
      "execution_count": 65,
      "outputs": [
        {
          "output_type": "execute_result",
          "data": {
            "text/plain": [
              "<Response [200]>"
            ]
          },
          "metadata": {
            "tags": []
          },
          "execution_count": 65
        }
      ]
    },
    {
      "cell_type": "code",
      "metadata": {
        "id": "hST1GNggYkMi",
        "colab_type": "code",
        "colab": {
          "base_uri": "https://localhost:8080/",
          "height": 69
        },
        "outputId": "aa507322-6b79-4996-f8cb-d7d53d0d2be8"
      },
      "source": [
        "res.text"
      ],
      "execution_count": 66,
      "outputs": [
        {
          "output_type": "execute_result",
          "data": {
            "application/vnd.google.colaboratory.intrinsic+json": {
              "type": "string"
            },
            "text/plain": [
              "'try{jsonp_button([{\"Seq\":24958314,\"Id\":\"DGBJHC-1900AQ4UP-000\",\"Price\":{\"M\":13660,\"P\":13250,\"Prime\":\"\"},\"Qty\":1,\"ButtonType\":\"ForSale\",\"SaleStatus\":1,\"isPrimeOnly\":0,\"SpecialQty\":0}]);}catch(e){if(window.console){console.log(e);}}'"
            ]
          },
          "metadata": {
            "tags": []
          },
          "execution_count": 66
        }
      ]
    },
    {
      "cell_type": "markdown",
      "metadata": {
        "id": "2iJbuSt1Z_x-",
        "colab_type": "text"
      },
      "source": [
        "## POST"
      ]
    },
    {
      "cell_type": "code",
      "metadata": {
        "id": "SIjOowUCYmji",
        "colab_type": "code",
        "colab": {
          "base_uri": "https://localhost:8080/",
          "height": 34
        },
        "outputId": "828a1dce-258f-40cd-af78-aba80ad49f52"
      },
      "source": [
        "import requests\n",
        "url = 'https://www.thsrc.com.tw/TimeTable/Search'\n",
        "payload = {\n",
        "'SearchType': 'S',\n",
        "'Lang': 'TW',\n",
        "'StartStation': 'TaiPei',\n",
        "'EndStation': 'XinZhu',\n",
        "'OutWardSearchDate': '2020/09/12',\n",
        "'OutWardSearchTime': '17:30',\n",
        "'ReturnSearchDate': '2020/09/12',\n",
        "'ReturnSearchTime': '11:30'    \n",
        "}\n",
        "res = requests.post(url, data = payload)\n",
        "res"
      ],
      "execution_count": 67,
      "outputs": [
        {
          "output_type": "execute_result",
          "data": {
            "text/plain": [
              "<Response [200]>"
            ]
          },
          "metadata": {
            "tags": []
          },
          "execution_count": 67
        }
      ]
    },
    {
      "cell_type": "code",
      "metadata": {
        "id": "v-ZMH-guacKd",
        "colab_type": "code",
        "colab": {}
      },
      "source": [
        "res.text"
      ],
      "execution_count": null,
      "outputs": []
    },
    {
      "cell_type": "code",
      "metadata": {
        "id": "pbj7DsSoaeqc",
        "colab_type": "code",
        "colab": {}
      },
      "source": [
        "res.json()"
      ],
      "execution_count": null,
      "outputs": []
    },
    {
      "cell_type": "markdown",
      "metadata": {
        "id": "-9dCxqbtbdyf",
        "colab_type": "text"
      },
      "source": [
        "- https://rate.bot.com.tw/xrt/history/USD"
      ]
    },
    {
      "cell_type": "markdown",
      "metadata": {
        "id": "nKKSuVBge_3S",
        "colab_type": "text"
      },
      "source": [
        "## Python3 Autosub"
      ]
    },
    {
      "cell_type": "code",
      "metadata": {
        "id": "VwwgcrM5be5i",
        "colab_type": "code",
        "colab": {}
      },
      "source": [
        "! pip install https://github.com/BingLingGroup/autosub/archive/0.5.7-alpha.tar.gz"
      ],
      "execution_count": null,
      "outputs": []
    },
    {
      "cell_type": "code",
      "metadata": {
        "id": "0LUfY5_YdLt3",
        "colab_type": "code",
        "colab": {}
      },
      "source": [
        "#! autosub --list-speech-codes"
      ],
      "execution_count": 81,
      "outputs": []
    },
    {
      "cell_type": "code",
      "metadata": {
        "id": "Kj_QroJYfLbA",
        "colab_type": "code",
        "colab": {}
      },
      "source": [
        "! autosub -S cmn-hant-tw -i jay.mp4"
      ],
      "execution_count": null,
      "outputs": []
    },
    {
      "cell_type": "code",
      "metadata": {
        "id": "xGSSQiI7dh8g",
        "colab_type": "code",
        "colab": {}
      },
      "source": [
        "#! cat jay.cmn-hant-tw.srt"
      ],
      "execution_count": 84,
      "outputs": []
    },
    {
      "cell_type": "code",
      "metadata": {
        "id": "IH2kUmJidjmt",
        "colab_type": "code",
        "colab": {}
      },
      "source": [
        "! youtube-dl -f mp4 https://www.youtube.com/watch?v=k4PtPICWJXk -o tvbs.mp4"
      ],
      "execution_count": null,
      "outputs": []
    },
    {
      "cell_type": "code",
      "metadata": {
        "id": "GiGV3Dqrf9iD",
        "colab_type": "code",
        "colab": {}
      },
      "source": [
        "! autosub -S cmn-hant-tw -i tvbs.mp4"
      ],
      "execution_count": null,
      "outputs": []
    },
    {
      "cell_type": "code",
      "metadata": {
        "id": "R6RMBZv5gBbr",
        "colab_type": "code",
        "colab": {}
      },
      "source": [
        "#! cat tvbs.cmn-hant-tw.srt"
      ],
      "execution_count": 88,
      "outputs": []
    },
    {
      "cell_type": "markdown",
      "metadata": {
        "id": "Sum7r08Bh34R",
        "colab_type": "text"
      },
      "source": [
        "## 解析 HTML"
      ]
    },
    {
      "cell_type": "markdown",
      "metadata": {
        "id": "PBnWgg9ch8Q3",
        "colab_type": "text"
      },
      "source": [
        "<html>\n",
        "<body>\n",
        "<h1 id=\"title\">Hello World</h1>\n",
        "<a href=\"#\" class=\"link\">This is link1</a>\n",
        "<a href=\"# link2\" class=\"link\">This is link2</a>\n",
        "</body>\n",
        "</html>"
      ]
    },
    {
      "cell_type": "code",
      "metadata": {
        "id": "bK-iExqGgHyr",
        "colab_type": "code",
        "colab": {}
      },
      "source": [
        "html_sample = '''\n",
        "<html>\n",
        "<body>\n",
        "<h1 id=\"title\">Hello World</h1>\n",
        "<a href=\"#\" class=\"link\">This is link1</a>\n",
        "<a href=\"# link2\" class=\"link\">This is link2</a>\n",
        "</body>\n",
        "</html>'''"
      ],
      "execution_count": 93,
      "outputs": []
    },
    {
      "cell_type": "code",
      "metadata": {
        "id": "l5IkkLZrh6IF",
        "colab_type": "code",
        "colab": {}
      },
      "source": [
        "from bs4 import BeautifulSoup\n",
        "soup = BeautifulSoup(html_sample, 'lxml')"
      ],
      "execution_count": 94,
      "outputs": []
    },
    {
      "cell_type": "code",
      "metadata": {
        "id": "e1o280TXiGbl",
        "colab_type": "code",
        "colab": {
          "base_uri": "https://localhost:8080/",
          "height": 35
        },
        "outputId": "49f639ce-c7e0-4674-d958-192fbc225891"
      },
      "source": [
        "soup.select_one('h1').text"
      ],
      "execution_count": 99,
      "outputs": [
        {
          "output_type": "execute_result",
          "data": {
            "application/vnd.google.colaboratory.intrinsic+json": {
              "type": "string"
            },
            "text/plain": [
              "'Hello World'"
            ]
          },
          "metadata": {
            "tags": []
          },
          "execution_count": 99
        }
      ]
    },
    {
      "cell_type": "code",
      "metadata": {
        "id": "Lmc8klnmiKbW",
        "colab_type": "code",
        "colab": {
          "base_uri": "https://localhost:8080/",
          "height": 34
        },
        "outputId": "ea2f0872-28dd-459e-847d-575fe41d01bf"
      },
      "source": [
        "soup.select_one('a')"
      ],
      "execution_count": 97,
      "outputs": [
        {
          "output_type": "execute_result",
          "data": {
            "text/plain": [
              "<a class=\"link\" href=\"#\">This is link1</a>"
            ]
          },
          "metadata": {
            "tags": []
          },
          "execution_count": 97
        }
      ]
    },
    {
      "cell_type": "code",
      "metadata": {
        "id": "g6Rr8UhFiXqn",
        "colab_type": "code",
        "colab": {
          "base_uri": "https://localhost:8080/",
          "height": 51
        },
        "outputId": "631ccec2-09fb-455f-b60d-50d736386f18"
      },
      "source": [
        "soup.select('a')"
      ],
      "execution_count": 98,
      "outputs": [
        {
          "output_type": "execute_result",
          "data": {
            "text/plain": [
              "[<a class=\"link\" href=\"#\">This is link1</a>,\n",
              " <a class=\"link\" href=\"# link2\">This is link2</a>]"
            ]
          },
          "metadata": {
            "tags": []
          },
          "execution_count": 98
        }
      ]
    },
    {
      "cell_type": "code",
      "metadata": {
        "id": "yuyH5l71iktn",
        "colab_type": "code",
        "colab": {
          "base_uri": "https://localhost:8080/",
          "height": 51
        },
        "outputId": "944bc71a-0adb-4548-b0c0-3b9f81216251"
      },
      "source": [
        "for link in soup.select('a'):\n",
        "  print(link)"
      ],
      "execution_count": 100,
      "outputs": [
        {
          "output_type": "stream",
          "text": [
            "<a class=\"link\" href=\"#\">This is link1</a>\n",
            "<a class=\"link\" href=\"# link2\">This is link2</a>\n"
          ],
          "name": "stdout"
        }
      ]
    },
    {
      "cell_type": "code",
      "metadata": {
        "id": "SjC3WMDKizd5",
        "colab_type": "code",
        "colab": {
          "base_uri": "https://localhost:8080/",
          "height": 51
        },
        "outputId": "cd8c5a41-0490-453e-b621-7aa229b520b9"
      },
      "source": [
        "for link in soup.select('a'):\n",
        "  print(link.text)"
      ],
      "execution_count": 101,
      "outputs": [
        {
          "output_type": "stream",
          "text": [
            "This is link1\n",
            "This is link2\n"
          ],
          "name": "stdout"
        }
      ]
    },
    {
      "cell_type": "code",
      "metadata": {
        "id": "u5LvFLLRi3aY",
        "colab_type": "code",
        "colab": {
          "base_uri": "https://localhost:8080/",
          "height": 35
        },
        "outputId": "fae70d81-d0e8-4768-dff1-417d30c76293"
      },
      "source": [
        "# id => #\n",
        "soup.select_one('#title').text"
      ],
      "execution_count": 102,
      "outputs": [
        {
          "output_type": "execute_result",
          "data": {
            "application/vnd.google.colaboratory.intrinsic+json": {
              "type": "string"
            },
            "text/plain": [
              "'Hello World'"
            ]
          },
          "metadata": {
            "tags": []
          },
          "execution_count": 102
        }
      ]
    },
    {
      "cell_type": "code",
      "metadata": {
        "id": "z1Ql73NnjflS",
        "colab_type": "code",
        "colab": {
          "base_uri": "https://localhost:8080/",
          "height": 51
        },
        "outputId": "f30291d3-8aed-4ec1-a1b8-cafd73e6ff36"
      },
      "source": [
        "# class => .\n",
        "soup.select('.link')"
      ],
      "execution_count": 103,
      "outputs": [
        {
          "output_type": "execute_result",
          "data": {
            "text/plain": [
              "[<a class=\"link\" href=\"#\">This is link1</a>,\n",
              " <a class=\"link\" href=\"# link2\">This is link2</a>]"
            ]
          },
          "metadata": {
            "tags": []
          },
          "execution_count": 103
        }
      ]
    },
    {
      "cell_type": "code",
      "metadata": {
        "id": "hR7MxPmJjnxd",
        "colab_type": "code",
        "colab": {
          "base_uri": "https://localhost:8080/",
          "height": 34
        },
        "outputId": "e8a25ab3-9aff-4fab-f017-f7760cb61967"
      },
      "source": [
        "soup.select_one('h1#title')"
      ],
      "execution_count": 105,
      "outputs": [
        {
          "output_type": "execute_result",
          "data": {
            "text/plain": [
              "<h1 id=\"title\">Hello World</h1>"
            ]
          },
          "metadata": {
            "tags": []
          },
          "execution_count": 105
        }
      ]
    },
    {
      "cell_type": "code",
      "metadata": {
        "id": "MkzbcTLyj37O",
        "colab_type": "code",
        "colab": {
          "base_uri": "https://localhost:8080/",
          "height": 51
        },
        "outputId": "13eee249-98d6-48d2-dce0-3bbe07ce0417"
      },
      "source": [
        "soup.select('a.link')"
      ],
      "execution_count": 106,
      "outputs": [
        {
          "output_type": "execute_result",
          "data": {
            "text/plain": [
              "[<a class=\"link\" href=\"#\">This is link1</a>,\n",
              " <a class=\"link\" href=\"# link2\">This is link2</a>]"
            ]
          },
          "metadata": {
            "tags": []
          },
          "execution_count": 106
        }
      ]
    },
    {
      "cell_type": "code",
      "metadata": {
        "id": "LP-rbeiXj6uu",
        "colab_type": "code",
        "colab": {
          "base_uri": "https://localhost:8080/",
          "height": 34
        },
        "outputId": "d84d8f90-5506-41cb-a34c-3a10b65c0bb0"
      },
      "source": [
        "soup.select_one('body h1')"
      ],
      "execution_count": 108,
      "outputs": [
        {
          "output_type": "execute_result",
          "data": {
            "text/plain": [
              "<h1 id=\"title\">Hello World</h1>"
            ]
          },
          "metadata": {
            "tags": []
          },
          "execution_count": 108
        }
      ]
    },
    {
      "cell_type": "code",
      "metadata": {
        "id": "_6sCxLyHkGhP",
        "colab_type": "code",
        "colab": {
          "base_uri": "https://localhost:8080/",
          "height": 34
        },
        "outputId": "e96186f6-6a83-421b-ac6d-78e79332a381"
      },
      "source": [
        "soup.select_one('body h1#title')"
      ],
      "execution_count": 109,
      "outputs": [
        {
          "output_type": "execute_result",
          "data": {
            "text/plain": [
              "<h1 id=\"title\">Hello World</h1>"
            ]
          },
          "metadata": {
            "tags": []
          },
          "execution_count": 109
        }
      ]
    },
    {
      "cell_type": "code",
      "metadata": {
        "id": "MtrRVgjwkI8_",
        "colab_type": "code",
        "colab": {
          "base_uri": "https://localhost:8080/",
          "height": 34
        },
        "outputId": "37702f08-4e6d-4e91-c65a-18a1a8a04791"
      },
      "source": [
        "soup.select_one('body #title')"
      ],
      "execution_count": 110,
      "outputs": [
        {
          "output_type": "execute_result",
          "data": {
            "text/plain": [
              "<h1 id=\"title\">Hello World</h1>"
            ]
          },
          "metadata": {
            "tags": []
          },
          "execution_count": 110
        }
      ]
    },
    {
      "cell_type": "code",
      "metadata": {
        "id": "Bdy7BhvukKqv",
        "colab_type": "code",
        "colab": {
          "base_uri": "https://localhost:8080/",
          "height": 51
        },
        "outputId": "d60f79dd-1488-42d6-c4c3-f7292d070a85"
      },
      "source": [
        "soup.select('body a')"
      ],
      "execution_count": 111,
      "outputs": [
        {
          "output_type": "execute_result",
          "data": {
            "text/plain": [
              "[<a class=\"link\" href=\"#\">This is link1</a>,\n",
              " <a class=\"link\" href=\"# link2\">This is link2</a>]"
            ]
          },
          "metadata": {
            "tags": []
          },
          "execution_count": 111
        }
      ]
    },
    {
      "cell_type": "code",
      "metadata": {
        "id": "UzbdfOkhkRRf",
        "colab_type": "code",
        "colab": {
          "base_uri": "https://localhost:8080/",
          "height": 51
        },
        "outputId": "95ebd1a4-5bbe-411f-91b6-d097ea2fd5c3"
      },
      "source": [
        "soup.select('body a.link')"
      ],
      "execution_count": 112,
      "outputs": [
        {
          "output_type": "execute_result",
          "data": {
            "text/plain": [
              "[<a class=\"link\" href=\"#\">This is link1</a>,\n",
              " <a class=\"link\" href=\"# link2\">This is link2</a>]"
            ]
          },
          "metadata": {
            "tags": []
          },
          "execution_count": 112
        }
      ]
    },
    {
      "cell_type": "code",
      "metadata": {
        "id": "eqJWD8VekSox",
        "colab_type": "code",
        "colab": {
          "base_uri": "https://localhost:8080/",
          "height": 51
        },
        "outputId": "3db63bb3-c454-4f3d-e89d-b9401410ec06"
      },
      "source": [
        "soup.select('body .link')"
      ],
      "execution_count": 113,
      "outputs": [
        {
          "output_type": "execute_result",
          "data": {
            "text/plain": [
              "[<a class=\"link\" href=\"#\">This is link1</a>,\n",
              " <a class=\"link\" href=\"# link2\">This is link2</a>]"
            ]
          },
          "metadata": {
            "tags": []
          },
          "execution_count": 113
        }
      ]
    },
    {
      "cell_type": "code",
      "metadata": {
        "id": "mF6otdwbkTwR",
        "colab_type": "code",
        "colab": {
          "base_uri": "https://localhost:8080/",
          "height": 51
        },
        "outputId": "fb5d1c65-d1f5-4b02-99c0-15bc823f5000"
      },
      "source": [
        "for link in soup.select('a'):\n",
        "  #print(link.text)\n",
        "  print(link.get('href'))"
      ],
      "execution_count": 116,
      "outputs": [
        {
          "output_type": "stream",
          "text": [
            "#\n",
            "# link2\n"
          ],
          "name": "stdout"
        }
      ]
    },
    {
      "cell_type": "markdown",
      "metadata": {
        "id": "zPJSeMaP0xv1",
        "colab_type": "text"
      },
      "source": [
        "## 網路爬蟲範例"
      ]
    },
    {
      "cell_type": "code",
      "metadata": {
        "id": "0UFv-5jbzy8p",
        "colab_type": "code",
        "colab": {
          "base_uri": "https://localhost:8080/",
          "height": 34
        },
        "outputId": "f6e562b7-547a-4f3c-e815-d17bca66103c"
      },
      "source": [
        "import requests\n",
        "#headers = {\n",
        "#  'user-agent': 'Mozilla/5.0 (Windows NT 10.0; Win64; x64) AppleWebKit/537.36 (KHTML, like Gecko) Chrome/85.0.4183.102 Safari/537.36'  \n",
        "#}\n",
        "headers = {\n",
        "  'user-agent': 'i love qoo'  \n",
        "}\n",
        "res = requests.get('https://money.udn.com/rank/newest/1001/0/1', headers = headers)\n",
        "res"
      ],
      "execution_count": 125,
      "outputs": [
        {
          "output_type": "execute_result",
          "data": {
            "text/plain": [
              "<Response [200]>"
            ]
          },
          "metadata": {
            "tags": []
          },
          "execution_count": 125
        }
      ]
    },
    {
      "cell_type": "code",
      "metadata": {
        "id": "ciS0Ft5g07b6",
        "colab_type": "code",
        "colab": {}
      },
      "source": [
        "from bs4 import BeautifulSoup\n",
        "soup = BeautifulSoup(res.text, 'lxml')"
      ],
      "execution_count": 128,
      "outputs": []
    },
    {
      "cell_type": "markdown",
      "metadata": {
        "id": "53Iy6NP33y8E",
        "colab_type": "text"
      },
      "source": [
        "<table>\n",
        "  <tr><td>c1</td><td>c2</td></tr>\n",
        "  <tr><td>1</td><td>2</td></tr>\n",
        "\n",
        "</table>"
      ]
    },
    {
      "cell_type": "markdown",
      "metadata": {
        "id": "x3mkdh7c4t8A",
        "colab_type": "text"
      },
      "source": [
        "## Selectorgadget\n",
        "- https://chrome.google.com/webstore/detail/selectorgadget/mhjhnkcfbdhnjickkkdbjoemdmbfginb?hl=zh-TW"
      ]
    },
    {
      "cell_type": "code",
      "metadata": {
        "id": "fdhS5web57qF",
        "colab_type": "code",
        "colab": {
          "base_uri": "https://localhost:8080/",
          "height": 34
        },
        "outputId": "60f9ea88-5614-4b50-ae79-d92d6c5abb45"
      },
      "source": [
        "# non-pythonic \n",
        "ary = []\n",
        "if len(ary) > 0:\n",
        "  print('has something')\n",
        "else:\n",
        "  print('has nothing')"
      ],
      "execution_count": 135,
      "outputs": [
        {
          "output_type": "stream",
          "text": [
            "has nothing\n"
          ],
          "name": "stdout"
        }
      ]
    },
    {
      "cell_type": "code",
      "metadata": {
        "id": "7NVIKKrQ6LJd",
        "colab_type": "code",
        "colab": {
          "base_uri": "https://localhost:8080/",
          "height": 34
        },
        "outputId": "ba31fff8-cacf-4ad4-e187-40f8e7604b10"
      },
      "source": [
        "# pythonic\n",
        "if ary:\n",
        "  print('has something')\n",
        "else:\n",
        "  print('has nothing')"
      ],
      "execution_count": 137,
      "outputs": [
        {
          "output_type": "stream",
          "text": [
            "has nothing\n"
          ],
          "name": "stdout"
        }
      ]
    },
    {
      "cell_type": "code",
      "metadata": {
        "id": "ZaNQqwyY3RdU",
        "colab_type": "code",
        "colab": {}
      },
      "source": [
        "for tr in soup.select('tr'):\n",
        "  td = tr.select('td')\n",
        "  if td:\n",
        "    title = td[0].text\n",
        "    category = td[1].text\n",
        "    dt = td[2].text\n",
        "    print(title, category, dt)\n",
        "    print('==================================')"
      ],
      "execution_count": null,
      "outputs": []
    },
    {
      "cell_type": "markdown",
      "metadata": {
        "id": "jxVbapId7MYD",
        "colab_type": "text"
      },
      "source": [
        "抓取 Mobile01 最新文章列表\n",
        "- https://www.mobile01.com/forumtopic.php?c=19"
      ]
    },
    {
      "cell_type": "code",
      "metadata": {
        "id": "zTGqE53d4KxX",
        "colab_type": "code",
        "colab": {}
      },
      "source": [
        "import requests\n",
        "headers = {\n",
        "   'user-agent':'i love ptt' \n",
        "}\n",
        "res = requests.get('http://mobile01.com/forumtopic.php?c=19', headers = headers)\n",
        "#res.text"
      ],
      "execution_count": 146,
      "outputs": []
    },
    {
      "cell_type": "code",
      "metadata": {
        "id": "flydLFZU7Yal",
        "colab_type": "code",
        "colab": {}
      },
      "source": [
        "from bs4 import BeautifulSoup\n",
        "soup = BeautifulSoup(res.text,'lxml')"
      ],
      "execution_count": 147,
      "outputs": []
    },
    {
      "cell_type": "code",
      "metadata": {
        "id": "SY4hd1yS_1JJ",
        "colab_type": "code",
        "colab": {}
      },
      "source": [
        "for rec in soup.select('.c-listTableTd__title .u-ellipsis'):\n",
        "  print(rec.text)\n",
        "  print('==============================')"
      ],
      "execution_count": null,
      "outputs": []
    },
    {
      "cell_type": "markdown",
      "metadata": {
        "id": "xH27DP6kDAkm",
        "colab_type": "text"
      },
      "source": [
        "## 抓取連結"
      ]
    },
    {
      "cell_type": "code",
      "metadata": {
        "id": "Wx8-0pny_5tX",
        "colab_type": "code",
        "colab": {
          "base_uri": "https://localhost:8080/",
          "height": 34
        },
        "outputId": "9d38ee2a-e818-447a-9744-e24377352152"
      },
      "source": [
        "import requests\n",
        "headers = {\n",
        "  'user-agent': 'i love qoo'  \n",
        "}\n",
        "res = requests.get('https://money.udn.com/rank/newest/1001/0/1', headers = headers)\n",
        "res"
      ],
      "execution_count": 153,
      "outputs": [
        {
          "output_type": "execute_result",
          "data": {
            "text/plain": [
              "<Response [200]>"
            ]
          },
          "metadata": {
            "tags": []
          },
          "execution_count": 153
        }
      ]
    },
    {
      "cell_type": "code",
      "metadata": {
        "id": "cPsCEoYsDCcF",
        "colab_type": "code",
        "colab": {}
      },
      "source": [
        "from bs4 import BeautifulSoup\n",
        "soup = BeautifulSoup(res.text, 'lxml')"
      ],
      "execution_count": 154,
      "outputs": []
    },
    {
      "cell_type": "code",
      "metadata": {
        "id": "bOPPrW3vDHP1",
        "colab_type": "code",
        "colab": {}
      },
      "source": [
        "for tr in soup.select('tr'):\n",
        "  td = tr.select('td')\n",
        "  if td:\n",
        "    \n",
        "    title = td[0].text\n",
        "    category = td[1].text\n",
        "    dt = td[2].text\n",
        "    link = td[0].select_one('a').get('href')\n",
        "    #print(title, category, dt)\n",
        "    print(link)\n",
        "    print('==================================')"
      ],
      "execution_count": null,
      "outputs": []
    },
    {
      "cell_type": "code",
      "metadata": {
        "id": "GjyvyLOoDK6E",
        "colab_type": "code",
        "colab": {}
      },
      "source": [
        "import requests\n",
        "headers = {'user-agent': 'i love you'}\n",
        "res = requests.get('https://money.udn.com/money/story/5621/4855130', headers = headers)\n",
        "res.text"
      ],
      "execution_count": null,
      "outputs": []
    },
    {
      "cell_type": "code",
      "metadata": {
        "id": "hBz5hUQPEafq",
        "colab_type": "code",
        "colab": {
          "base_uri": "https://localhost:8080/",
          "height": 35
        },
        "outputId": "1b49763a-ba35-4f49-c286-91f823b6168e"
      },
      "source": [
        "from bs4 import BeautifulSoup\n",
        "soup =BeautifulSoup(res.text, 'lxml')\n",
        "soup.select_one('h2').text"
      ],
      "execution_count": 164,
      "outputs": [
        {
          "output_type": "execute_result",
          "data": {
            "application/vnd.google.colaboratory.intrinsic+json": {
              "type": "string"
            },
            "text/plain": [
              "'口罩國家隊緊急出動 9月15日可完成MlT囗罩防偽'"
            ]
          },
          "metadata": {
            "tags": []
          },
          "execution_count": 164
        }
      ]
    },
    {
      "cell_type": "code",
      "metadata": {
        "id": "gyGV-pNbEyHb",
        "colab_type": "code",
        "colab": {
          "base_uri": "https://localhost:8080/",
          "height": 34
        },
        "outputId": "1434c79f-9904-4fa6-a6d2-5df5f8300a50"
      },
      "source": [
        "soup.select_one('#story_art_title')"
      ],
      "execution_count": 163,
      "outputs": [
        {
          "output_type": "execute_result",
          "data": {
            "text/plain": [
              "<h2 id=\"story_art_title\">口罩國家隊緊急出動 9月15日可完成MlT囗罩防偽</h2>"
            ]
          },
          "metadata": {
            "tags": []
          },
          "execution_count": 163
        }
      ]
    },
    {
      "cell_type": "code",
      "metadata": {
        "id": "IbgzdbZcE38M",
        "colab_type": "code",
        "colab": {}
      },
      "source": [
        "ary = []\n",
        "for p in soup.select('#article_body p'):\n",
        "  ary.append(p.text)\n",
        "''.join(ary)"
      ],
      "execution_count": null,
      "outputs": []
    },
    {
      "cell_type": "code",
      "metadata": {
        "id": "HsfN0UhHFbje",
        "colab_type": "code",
        "colab": {}
      },
      "source": [
        "''.join([p.text for p in soup.select('#article_body p')])"
      ],
      "execution_count": null,
      "outputs": []
    },
    {
      "cell_type": "code",
      "metadata": {
        "id": "RtiLqYRIFyog",
        "colab_type": "code",
        "colab": {}
      },
      "source": [
        "dt = soup.select_one('.shareBar__info--author span').text"
      ],
      "execution_count": 173,
      "outputs": []
    },
    {
      "cell_type": "code",
      "metadata": {
        "id": "TB4eURihHGo5",
        "colab_type": "code",
        "colab": {
          "base_uri": "https://localhost:8080/",
          "height": 35
        },
        "outputId": "b11d0011-c929-48ed-f9cf-0cd00384f405"
      },
      "source": [
        "dt"
      ],
      "execution_count": 179,
      "outputs": [
        {
          "output_type": "execute_result",
          "data": {
            "application/vnd.google.colaboratory.intrinsic+json": {
              "type": "string"
            },
            "text/plain": [
              "'2020-09-12 14:34'"
            ]
          },
          "metadata": {
            "tags": []
          },
          "execution_count": 179
        }
      ]
    },
    {
      "cell_type": "code",
      "metadata": {
        "id": "rB2JkIKMGXIi",
        "colab_type": "code",
        "colab": {
          "base_uri": "https://localhost:8080/",
          "height": 34
        },
        "outputId": "25cda8ff-d24c-416c-b669-c9fef2a72422"
      },
      "source": [
        "type(dt)"
      ],
      "execution_count": 174,
      "outputs": [
        {
          "output_type": "execute_result",
          "data": {
            "text/plain": [
              "str"
            ]
          },
          "metadata": {
            "tags": []
          },
          "execution_count": 174
        }
      ]
    },
    {
      "cell_type": "code",
      "metadata": {
        "id": "5eSuhENSGeBC",
        "colab_type": "code",
        "colab": {
          "base_uri": "https://localhost:8080/",
          "height": 34
        },
        "outputId": "8c7f8a23-5d19-43e1-85dc-ee9da1193749"
      },
      "source": [
        "from datetime import datetime\n",
        "today = datetime.now()\n",
        "today"
      ],
      "execution_count": 176,
      "outputs": [
        {
          "output_type": "execute_result",
          "data": {
            "text/plain": [
              "datetime.datetime(2020, 9, 12, 6, 57, 37, 389275)"
            ]
          },
          "metadata": {
            "tags": []
          },
          "execution_count": 176
        }
      ]
    },
    {
      "cell_type": "markdown",
      "metadata": {
        "id": "AHuD3Vf1G_oa",
        "colab_type": "text"
      },
      "source": [
        "## Datetime\n",
        "- https://docs.python.org/3/library/datetime.html#strftime-and-strptime-format-codes"
      ]
    },
    {
      "cell_type": "code",
      "metadata": {
        "id": "qfSJmiyOGprC",
        "colab_type": "code",
        "colab": {
          "base_uri": "https://localhost:8080/",
          "height": 35
        },
        "outputId": "f36a644f-8941-40ba-c325-764847d290ec"
      },
      "source": [
        "## time to string\n",
        "today.strftime('%Y-%m-%d')"
      ],
      "execution_count": 178,
      "outputs": [
        {
          "output_type": "execute_result",
          "data": {
            "application/vnd.google.colaboratory.intrinsic+json": {
              "type": "string"
            },
            "text/plain": [
              "'2020-09-12'"
            ]
          },
          "metadata": {
            "tags": []
          },
          "execution_count": 178
        }
      ]
    },
    {
      "cell_type": "code",
      "metadata": {
        "id": "LBkfVd7PGx9z",
        "colab_type": "code",
        "colab": {
          "base_uri": "https://localhost:8080/",
          "height": 34
        },
        "outputId": "652c9806-f526-4082-8595-7901b0de5258"
      },
      "source": [
        "## string to time\n",
        "dt = '2020-09-12 14:34'\n",
        "datetime.strptime(dt, '%Y-%m-%d %H:%M')"
      ],
      "execution_count": 180,
      "outputs": [
        {
          "output_type": "execute_result",
          "data": {
            "text/plain": [
              "datetime.datetime(2020, 9, 12, 14, 34)"
            ]
          },
          "metadata": {
            "tags": []
          },
          "execution_count": 180
        }
      ]
    },
    {
      "cell_type": "code",
      "metadata": {
        "id": "vi7x1qkWHS9a",
        "colab_type": "code",
        "colab": {
          "base_uri": "https://localhost:8080/",
          "height": 34
        },
        "outputId": "b2c02df6-8846-4556-ff2f-aa3b1a98baaf"
      },
      "source": [
        "today - datetime.strptime(dt, '%Y-%m-%d %H:%M')"
      ],
      "execution_count": 181,
      "outputs": [
        {
          "output_type": "execute_result",
          "data": {
            "text/plain": [
              "datetime.timedelta(-1, 59017, 389275)"
            ]
          },
          "metadata": {
            "tags": []
          },
          "execution_count": 181
        }
      ]
    },
    {
      "cell_type": "code",
      "metadata": {
        "id": "rxTW51ltHZa2",
        "colab_type": "code",
        "colab": {
          "base_uri": "https://localhost:8080/",
          "height": 188
        },
        "outputId": "a0593ff3-4a00-4b9e-8179-78bc39899d8b"
      },
      "source": [
        "from datetime import timedelta\n",
        "for i in range(10):\n",
        "  dt_detail = today - timedelta(days = i)\n",
        "  print(dt_detail.strftime('%Y-%m-%d'))"
      ],
      "execution_count": 184,
      "outputs": [
        {
          "output_type": "stream",
          "text": [
            "2020-09-12\n",
            "2020-09-11\n",
            "2020-09-10\n",
            "2020-09-09\n",
            "2020-09-08\n",
            "2020-09-07\n",
            "2020-09-06\n",
            "2020-09-05\n",
            "2020-09-04\n",
            "2020-09-03\n"
          ],
          "name": "stdout"
        }
      ]
    },
    {
      "cell_type": "code",
      "metadata": {
        "id": "3dJEgF2DHvd2",
        "colab_type": "code",
        "colab": {
          "base_uri": "https://localhost:8080/",
          "height": 35
        },
        "outputId": "f8e9867a-b602-4f32-e7e4-015d629992a4"
      },
      "source": [
        "dt = soup.select_one('.shareBar__info--author span').text\n",
        "dt"
      ],
      "execution_count": 185,
      "outputs": [
        {
          "output_type": "execute_result",
          "data": {
            "application/vnd.google.colaboratory.intrinsic+json": {
              "type": "string"
            },
            "text/plain": [
              "'2020-09-12 14:34'"
            ]
          },
          "metadata": {
            "tags": []
          },
          "execution_count": 185
        }
      ]
    },
    {
      "cell_type": "code",
      "metadata": {
        "id": "Dyx4CnIOIFRK",
        "colab_type": "code",
        "colab": {
          "base_uri": "https://localhost:8080/",
          "height": 34
        },
        "outputId": "9ecee011-3863-4b2f-9e62-dd552bedd739"
      },
      "source": [
        "datetime.strptime(dt, '%Y-%m-%d %H:%M')"
      ],
      "execution_count": 186,
      "outputs": [
        {
          "output_type": "execute_result",
          "data": {
            "text/plain": [
              "datetime.datetime(2020, 9, 12, 14, 34)"
            ]
          },
          "metadata": {
            "tags": []
          },
          "execution_count": 186
        }
      ]
    },
    {
      "cell_type": "code",
      "metadata": {
        "id": "AAKArR5cIKQo",
        "colab_type": "code",
        "colab": {
          "base_uri": "https://localhost:8080/",
          "height": 35
        },
        "outputId": "c965be7d-8e87-4cc2-8e4a-109226c94b81"
      },
      "source": [
        "soup.select('#nav a')[-1].text"
      ],
      "execution_count": 191,
      "outputs": [
        {
          "output_type": "execute_result",
          "data": {
            "application/vnd.google.colaboratory.intrinsic+json": {
              "type": "string"
            },
            "text/plain": [
              "'產業'"
            ]
          },
          "metadata": {
            "tags": []
          },
          "execution_count": 191
        }
      ]
    },
    {
      "cell_type": "code",
      "metadata": {
        "id": "3O4_p0qKJIKc",
        "colab_type": "code",
        "colab": {
          "base_uri": "https://localhost:8080/",
          "height": 35
        },
        "outputId": "320f348d-a6a1-4438-97c7-7a298cea7212"
      },
      "source": [
        "soup.select_one('.shareBar__info--author').text.split()[-1].split('／')[0].split('記者')[1]"
      ],
      "execution_count": 202,
      "outputs": [
        {
          "output_type": "execute_result",
          "data": {
            "application/vnd.google.colaboratory.intrinsic+json": {
              "type": "string"
            },
            "text/plain": [
              "'宋健生'"
            ]
          },
          "metadata": {
            "tags": []
          },
          "execution_count": 202
        }
      ]
    },
    {
      "cell_type": "markdown",
      "metadata": {
        "id": "fB9cHcCtIwC0",
        "colab_type": "text"
      },
      "source": [
        "### 小任務\n",
        "- 請幫我抓出標籤?\n",
        "\n",
        "- https://money.udn.com/money/story/5621/4855130\n",
        "\n",
        "- 工具機"
      ]
    },
    {
      "cell_type": "code",
      "metadata": {
        "id": "7fKa4F2BIbdq",
        "colab_type": "code",
        "colab": {
          "base_uri": "https://localhost:8080/",
          "height": 35
        },
        "outputId": "70119e88-4c13-4b84-f106-3c07f81539c0"
      },
      "source": [
        "soup.select_one('#story_tags a').text"
      ],
      "execution_count": 205,
      "outputs": [
        {
          "output_type": "execute_result",
          "data": {
            "application/vnd.google.colaboratory.intrinsic+json": {
              "type": "string"
            },
            "text/plain": [
              "'工具機'"
            ]
          },
          "metadata": {
            "tags": []
          },
          "execution_count": 205
        }
      ]
    },
    {
      "cell_type": "markdown",
      "metadata": {
        "id": "6Do-KQU9NvPF",
        "colab_type": "text"
      },
      "source": [
        "## 完整爬蟲流程"
      ]
    },
    {
      "cell_type": "code",
      "metadata": {
        "id": "c9RK9gdeNKcD",
        "colab_type": "code",
        "colab": {}
      },
      "source": [
        "import requests\n",
        "from bs4 import BeautifulSoup\n",
        "headers = {'user-agent': 'i love you'}\n",
        "\n",
        "def pageDetail(detailurl):\n",
        "  dic = {}\n",
        "  res = requests.get(detailurl, headers = headers)\n",
        "  soup =BeautifulSoup(res.text, 'lxml')\n",
        "\n",
        "  dic['title'] = soup.select_one('h2').text\n",
        "  dic['summary'] = ''.join([p.text for p in soup.select('#article_body p')])\n",
        "  dt = soup.select_one('.shareBar__info--author span').text\n",
        "  dic['dt'] =datetime.strptime(dt, '%Y-%m-%d %H:%M')\n",
        "  dic['category'] = soup.select('#nav a')[-1].text\n",
        "  return dic"
      ],
      "execution_count": 220,
      "outputs": []
    },
    {
      "cell_type": "code",
      "metadata": {
        "id": "NHHfK5poOV1i",
        "colab_type": "code",
        "colab": {
          "base_uri": "https://localhost:8080/",
          "height": 106
        },
        "outputId": "bbd1234a-1e88-4490-9faf-2c5ee39b1525"
      },
      "source": [
        "pageDetail('https://money.udn.com/money/story/5599/4854867')"
      ],
      "execution_count": 221,
      "outputs": [
        {
          "output_type": "execute_result",
          "data": {
            "text/plain": [
              "{'category': '國際',\n",
              " 'dt': datetime.datetime(2020, 9, 12, 12, 45),\n",
              " 'summary': '蘋果15日發表會和新款iPhone進展備受矚目，爆料達人在推特上透露，15日發表會鎖定Apple Watch和iPad兩大新品；iPhone 12本週已量產，估10月中旬到下旬期間，蘋果可能開始出貨新款iPhone 12。\\n蘋果（Apple）將於美國時間9月15日上午10時（台灣時間16日凌晨1時）在線上舉行年度新產品發表會，爆料達人普羅瑟（Jon Prosser）在推特（Twitter）上透露，此次發表會蘋果鎖定Apple Watch和iPad兩大新品。\\n普羅瑟引述消息人士指出，15日發表會上，蘋果可能推出Apple Watch SE、Apple Watch Series 6、或是Apple Watch Pro等智慧手錶新品；同時也可能推出iPad Air 4或是iPad 8等平板新品。\\n他指出，此次發表會暫時不會公布新款iPhone以及AirPods耳機。\\n觀察新款iPhone進展，普羅瑟指出，iPhone 12在本週已經開始進入量產階段，他評估10月中旬到下旬期間，蘋果可能開始出貨新款iPhone 12。\\n國外科技網站Appleinsider引述普羅瑟透露訊息分析，目前量產的iPhone 12可能不具備更新頻率可到120Hz的蘋果ProMotion螢幕顯示技術。\\n不具名消息人士也向中央社記者透露，蘋果合作夥伴鴻海（2317）在8月開始向新款iPhone 12零組件供應鏈廠商拉貨，組裝iPhone 12的地點主要在中國大陸河南鄭州以及深圳龍華園區。\\n從iPhone組裝代工市占率來看，日系外資法人先前報告指出，目前緯創（3231）占比僅約5%，鴻海占比約63%到65%，和碩（4938）占比約30%到33%。\\n在iPhone 12組裝供應鏈部分，法人預期鴻海仍將是主要供應商，將成為6.7吋機種的唯一電子代工服務（EMS）廠商，且在6.1吋機種中組裝比重預期超過70%。\\n市場預期今年下半年新款iPhone將有3種尺寸和4款機型，包括5.4吋有機發光二極體（OLED）版（後置雙攝影鏡頭）、6.1吋OLED版（後置雙攝影鏡頭）、6.1吋OLED版（後置3攝影鏡頭加上飛時測距ToF功能）、以及6.7吋OLED版（後置3攝影鏡頭加上飛時測距ToF功能）。',\n",
              " 'title': '新款iPhone傳本週量產 估最快10月中旬出貨'}"
            ]
          },
          "metadata": {
            "tags": []
          },
          "execution_count": 221
        }
      ]
    },
    {
      "cell_type": "code",
      "metadata": {
        "id": "yNepqms8OZHR",
        "colab_type": "code",
        "colab": {}
      },
      "source": [
        "res = requests.get('https://money.udn.com/rank/newest/1001/0/1', headers= headers)\n",
        "soup = BeautifulSoup(res.text, 'lxml')\n",
        "\n",
        "newsary = []\n",
        "for link in soup.select('#ranking_table a'):\n",
        "  newsary.append(pageDetail(link.get('href')))"
      ],
      "execution_count": 222,
      "outputs": []
    },
    {
      "cell_type": "code",
      "metadata": {
        "id": "jB0dG1-hPghI",
        "colab_type": "code",
        "colab": {
          "base_uri": "https://localhost:8080/",
          "height": 106
        },
        "outputId": "738fdf72-6fb0-4279-bb0f-06768797edb8"
      },
      "source": [
        "newsary[3]"
      ],
      "execution_count": 225,
      "outputs": [
        {
          "output_type": "execute_result",
          "data": {
            "text/plain": [
              "{'category': '產業',\n",
              " 'dt': datetime.datetime(2020, 9, 12, 15, 26),\n",
              " 'summary': '由教育部體育署舉辦、台灣科技大學台灣彩券與博弈研究中心協辦的北中南三場「運動彩券發行條例公聽會」已圓滿落幕。中華民國公益暨運動彩券經銷商公會理事長何昱奇表示，感謝各界關心，三場公聽會各界與會代表均暢所欲言。\\n\\r\\n教育部體育署副署長林哲宏也說，這三場公聽會聽了多元的意見，都很有建設性，教育部會廣納各界意見，對運彩做更中長期規劃，並研討發行條例的修法事宜。\\n\\r\\n這項公聽會，分別於9月1日、9月10日及9月11日在北中南舉行，共有三項討論案：\\n\\r\\n第一項議案：將運動虛擬賽事列入運動彩券發行標的。這項討論產生的火花與火藥味十足，公益彩券經銷商與運動彩券經銷商正反意見都有，但反對意見占多數。\\n\\r\\n第二項議案：運動彩券發行損失及賠償責任準備金屆期未支付款項。三場公聽會與會人士99%比例一面倒，希望銷管費用是當屆當用，如有剩餘款應當發還給努力貢獻營餘的經銷商來使用。\\n\\r\\n第三項議案：運動專業知識認定標準。在首場中區公聽會中，台灣體育運動大學前教務長林房穳聽取經銷商團體意見後表示，將原本全國級B級裁判或教練證予以保留，並放寬屬於「奧亞運」項目為C級裁判或教練者。\\n\\r\\n關於經銷商代理人部分，則應取得地方級C級裁判或教練證，以全面符合運動專業知識認定標準。\\n\\r\\n中區經銷商團體多數意見，均認同林房穳的建議方案。\\n\\r\\n南區經銷商團體表示，代理人應不用再取得地方級裁判或教練證，應維持原案。\\n\\r\\n南區與會的高師大教授黃美珍指出，放寬參加奧亞運選手及裁判與教練並不是很多，這部分應予納入，同時也認同林房穳針對奧亞運單項協會放寬為C級裁判與教練資格的建議。\\n\\r\\n林哲宏指出，放寬屬於奧亞運單項協會C級裁判及教練資格的人數並不會很多，這部分也會納入考量。\\n\\r\\n北區經銷商團體表示，代理人應不用再取得地方級裁判或教練證，應維持原案。而岀席的賽事分析師協會及體育記者則表示，他們更具資格來從事運動彩券業。\\n\\r\\n另外，國立體育學院競技運動研究所兼桌球A級教練林憲輝表示，運動彩券百花齊放，有報運動的媒體業，有報盤口的自由業，可能都各有立場，但都用經歷來取代運動專業人士的合法權益，真的要回歸體育界本質才是王道。由教育部體育署舉辦、台灣科技大學台灣彩券與博弈研究中心協辦的北中南三場「運動彩券發行條例公聽會」圓滿落幕。記者宋健生/攝影facebook',\n",
              " 'title': '北中南三場「運動彩券發行條例公聽會」圓滿落幕'}"
            ]
          },
          "metadata": {
            "tags": []
          },
          "execution_count": 225
        }
      ]
    },
    {
      "cell_type": "code",
      "metadata": {
        "id": "KjW_2YS-P9y4",
        "colab_type": "code",
        "colab": {}
      },
      "source": [
        "#https://money.udn.com/rank/newest/1001/0/2\n",
        "#https://money.udn.com/rank/newest/1001/0/3"
      ],
      "execution_count": 226,
      "outputs": []
    },
    {
      "cell_type": "code",
      "metadata": {
        "id": "2sF0MeDIQlJ7",
        "colab_type": "code",
        "colab": {
          "base_uri": "https://localhost:8080/",
          "height": 68
        },
        "outputId": "e57e67dc-55dd-4c0c-e3b4-17964904bb1d"
      },
      "source": [
        "for i in range(1,4):\n",
        "  print(i)"
      ],
      "execution_count": 228,
      "outputs": [
        {
          "output_type": "stream",
          "text": [
            "1\n",
            "2\n",
            "3\n"
          ],
          "name": "stdout"
        }
      ]
    },
    {
      "cell_type": "code",
      "metadata": {
        "id": "r4p13iLtQoIr",
        "colab_type": "code",
        "colab": {
          "base_uri": "https://localhost:8080/",
          "height": 68
        },
        "outputId": "6e822a60-a428-4058-f6da-354a1bb760a5"
      },
      "source": [
        "url = 'https://money.udn.com/rank/newest/1001/0/{}'\n",
        "for i in range(1,4):\n",
        "  print(url.format(i))"
      ],
      "execution_count": 229,
      "outputs": [
        {
          "output_type": "stream",
          "text": [
            "https://money.udn.com/rank/newest/1001/0/1\n",
            "https://money.udn.com/rank/newest/1001/0/2\n",
            "https://money.udn.com/rank/newest/1001/0/3\n"
          ],
          "name": "stdout"
        }
      ]
    },
    {
      "cell_type": "code",
      "metadata": {
        "id": "VOgfqnE2Q1Uc",
        "colab_type": "code",
        "colab": {
          "base_uri": "https://localhost:8080/",
          "height": 68
        },
        "outputId": "868cdf9d-75c5-4337-d101-2fdfe36a3785"
      },
      "source": [
        "for i in range(1,4):\n",
        "  url = f'https://money.udn.com/rank/newest/1001/0/{i}'\n",
        "  print(url)"
      ],
      "execution_count": 231,
      "outputs": [
        {
          "output_type": "stream",
          "text": [
            "https://money.udn.com/rank/newest/1001/0/1\n",
            "https://money.udn.com/rank/newest/1001/0/2\n",
            "https://money.udn.com/rank/newest/1001/0/3\n"
          ],
          "name": "stdout"
        }
      ]
    },
    {
      "cell_type": "code",
      "metadata": {
        "id": "JRFnzNSeRDEs",
        "colab_type": "code",
        "colab": {
          "base_uri": "https://localhost:8080/",
          "height": 51
        },
        "outputId": "6912e5eb-6f73-47e3-e0ba-900d6162a41c"
      },
      "source": [
        "url = 'https://money.udn.com/rank/newest/1001/0/{}'\n",
        "\n",
        "newsary = []\n",
        "for i in range(1,4):\n",
        "  res  = requests.get(url.format(i), headers= headers)\n",
        "  soup = BeautifulSoup(res.text, 'lxml')\n",
        "\n",
        "  for link in soup.select('#ranking_table a'):\n",
        "    try:\n",
        "      newsary.append(pageDetail(link.get('href')))\n",
        "    except:\n",
        "      print(link.get('href'))"
      ],
      "execution_count": 233,
      "outputs": [
        {
          "output_type": "stream",
          "text": [
            "https://money.udn.com/money/story/10841/4853234\n",
            "https://money.udn.com/money/story/6714/4850887\n"
          ],
          "name": "stdout"
        }
      ]
    },
    {
      "cell_type": "code",
      "metadata": {
        "id": "SdWt2hVXRRzt",
        "colab_type": "code",
        "colab": {
          "base_uri": "https://localhost:8080/",
          "height": 106
        },
        "outputId": "35efb4ba-c0b9-4017-df37-53bcd92b3898"
      },
      "source": [
        "newsary[0]"
      ],
      "execution_count": 234,
      "outputs": [
        {
          "output_type": "execute_result",
          "data": {
            "text/plain": [
              "{'category': '產業',\n",
              " 'dt': datetime.datetime(2020, 9, 12, 15, 45),\n",
              " 'summary': '前立法院長王金平將率團赴陸參加「海峽論壇」，遭中國官媒央視以「求和」形容。台北市長柯文哲說，中國大陸要出來收拾跟解釋，不然「這大概就破局了」。\\n中國國民黨日前宣布，由王金平率領代表團出席「海峽論壇」後，中國中央電視台在一則涉及兩岸時事的報導中聲稱，王金平率團與會是「台海兵凶戰危，這人要來大陸求和」。\\n台北市長柯文哲出席2020西門商圈「友善享樂祭」活動，會前接受媒體聯訪時被問及此事。\\n柯文哲說，「很簡單，大陸方面一定要出來解釋。不要說道歉、你不解釋人家一定不會去的」、「所以現在這個球又打回去，大陸要去收拾」。\\n媒體追問王金平此行是否適合，柯文哲重申「在他出發前大陸一定要解釋，如果大陸不解釋，那這大概就破局了」。\\n媒體追問前總統府發言人丁允恭深陷桃色風波並被監委要求調查，柯文哲回應「應該問他的上司啊，去問陳菊」。\\n媒體追問民進黨立委范雲對丁允恭風波很安靜，柯文哲反問「那你意外嗎？（我）毫不意外。」',\n",
              " 'title': '央視王金平求和說 柯文哲:大陸要收拾不然就破局'}"
            ]
          },
          "metadata": {
            "tags": []
          },
          "execution_count": 234
        }
      ]
    },
    {
      "cell_type": "code",
      "metadata": {
        "id": "1MJUCjMFSiLS",
        "colab_type": "code",
        "colab": {}
      },
      "source": [
        "import pandas\n",
        "newsdf = pandas.DataFrame(newsary)"
      ],
      "execution_count": 235,
      "outputs": []
    },
    {
      "cell_type": "code",
      "metadata": {
        "id": "TJXOTN7HSoTj",
        "colab_type": "code",
        "colab": {
          "base_uri": "https://localhost:8080/",
          "height": 374
        },
        "outputId": "940f2308-d7b5-4107-b90f-516df602e6de"
      },
      "source": [
        "newsdf.head()"
      ],
      "execution_count": 236,
      "outputs": [
        {
          "output_type": "execute_result",
          "data": {
            "text/html": [
              "<div>\n",
              "<style scoped>\n",
              "    .dataframe tbody tr th:only-of-type {\n",
              "        vertical-align: middle;\n",
              "    }\n",
              "\n",
              "    .dataframe tbody tr th {\n",
              "        vertical-align: top;\n",
              "    }\n",
              "\n",
              "    .dataframe thead th {\n",
              "        text-align: right;\n",
              "    }\n",
              "</style>\n",
              "<table border=\"1\" class=\"dataframe\">\n",
              "  <thead>\n",
              "    <tr style=\"text-align: right;\">\n",
              "      <th></th>\n",
              "      <th>title</th>\n",
              "      <th>summary</th>\n",
              "      <th>dt</th>\n",
              "      <th>category</th>\n",
              "    </tr>\n",
              "  </thead>\n",
              "  <tbody>\n",
              "    <tr>\n",
              "      <th>0</th>\n",
              "      <td>央視王金平求和說 柯文哲:大陸要收拾不然就破局</td>\n",
              "      <td>前立法院長王金平將率團赴陸參加「海峽論壇」，遭中國官媒央視以「求和」形容。台北市長柯文哲說，...</td>\n",
              "      <td>2020-09-12 15:45:00</td>\n",
              "      <td>產業</td>\n",
              "    </tr>\n",
              "    <tr>\n",
              "      <th>1</th>\n",
              "      <td>求和說引發爭議 央視主持人改口：有助兩岸交流</td>\n",
              "      <td>央視主持人李紅日前說，前立法院長王金平率團參加海峽論壇是「向大陸求和」，引發兩岸議論，國台辦...</td>\n",
              "      <td>2020-09-12 15:36:00</td>\n",
              "      <td>兩岸</td>\n",
              "    </tr>\n",
              "    <tr>\n",
              "      <th>2</th>\n",
              "      <td>陳時中是否參選北市 柯文哲:健保不易解決</td>\n",
              "      <td>外界持續關注衛福部長陳時中是否參選台北市長，陳時中回應挺過疫情、食安、健保3箭就快樂。台北市...</td>\n",
              "      <td>2020-09-12 15:36:00</td>\n",
              "      <td>產業</td>\n",
              "    </tr>\n",
              "    <tr>\n",
              "      <th>3</th>\n",
              "      <td>摩洛哥取消核食管制 日本將續推台灣等地開放</td>\n",
              "      <td>摩洛哥9日取消對來自日本13都縣的食品與飼料輻射檢驗管制措施，日媒報導，包括台灣在內的全球1...</td>\n",
              "      <td>2020-09-12 15:30:00</td>\n",
              "      <td>國際</td>\n",
              "    </tr>\n",
              "    <tr>\n",
              "      <th>4</th>\n",
              "      <td>北中南三場「運動彩券發行條例公聽會」圓滿落幕</td>\n",
              "      <td>由教育部體育署舉辦、台灣科技大學台灣彩券與博弈研究中心協辦的北中南三場「運動彩券發行條例公聽...</td>\n",
              "      <td>2020-09-12 15:26:00</td>\n",
              "      <td>產業</td>\n",
              "    </tr>\n",
              "  </tbody>\n",
              "</table>\n",
              "</div>"
            ],
            "text/plain": [
              "                     title  ... category\n",
              "0  央視王金平求和說 柯文哲:大陸要收拾不然就破局  ...       產業\n",
              "1   求和說引發爭議 央視主持人改口：有助兩岸交流  ...       兩岸\n",
              "2     陳時中是否參選北市 柯文哲:健保不易解決  ...       產業\n",
              "3    摩洛哥取消核食管制 日本將續推台灣等地開放  ...       國際\n",
              "4   北中南三場「運動彩券發行條例公聽會」圓滿落幕  ...       產業\n",
              "\n",
              "[5 rows x 4 columns]"
            ]
          },
          "metadata": {
            "tags": []
          },
          "execution_count": 236
        }
      ]
    },
    {
      "cell_type": "code",
      "metadata": {
        "id": "f64j1LeoSr5j",
        "colab_type": "code",
        "colab": {
          "base_uri": "https://localhost:8080/",
          "height": 34
        },
        "outputId": "000e59a5-063f-4906-f060-a7934797405b"
      },
      "source": [
        "len(newsdf)"
      ],
      "execution_count": 237,
      "outputs": [
        {
          "output_type": "execute_result",
          "data": {
            "text/plain": [
              "178"
            ]
          },
          "metadata": {
            "tags": []
          },
          "execution_count": 237
        }
      ]
    },
    {
      "cell_type": "code",
      "metadata": {
        "id": "znz3xm2jTJ-1",
        "colab_type": "code",
        "colab": {}
      },
      "source": [
        "newsdf.to_csv('money.csv')"
      ],
      "execution_count": 238,
      "outputs": []
    },
    {
      "cell_type": "code",
      "metadata": {
        "id": "zve-_77dTPD1",
        "colab_type": "code",
        "colab": {}
      },
      "source": [
        "newsdf.to_excel('money.xlsx')"
      ],
      "execution_count": 239,
      "outputs": []
    },
    {
      "cell_type": "markdown",
      "metadata": {
        "id": "0-O-mAdzWr_Y",
        "colab_type": "text"
      },
      "source": [
        "## IG 抓取"
      ]
    },
    {
      "cell_type": "code",
      "metadata": {
        "id": "nJFMKZLfVbu3",
        "colab_type": "code",
        "colab": {}
      },
      "source": [
        "import requests\n",
        "headers = {\n",
        "    'referer': 'https://www.google.com/',\n",
        "    'upgrade-insecure-requests': '1',\n",
        "    'cookie': 'ig_did=7D5C1746-B12E-405C-96C9-7CDD41AFA9C2; csrftoken=NK8II7QynCayiyzx3OlebxxpRavn4PAG; mid=X1yBJQALAAEZc_z0oyD22-Rn4zUM; urlgen=\"{\\\"60.250.79.112\\\": 3462}:1kH0XJ:vqDiF_nzPNBMDr6VVxeHj8Uu-mA\"',\n",
        "    'user-agent': 'Mozilla/5.0 (Windows NT 10.0; Win64; x64) AppleWebKit/537.36 (KHTML, like Gecko) Chrome/85.0.4183.102 Safari/537.36'}\n",
        "res = requests.get('https://www.instagram.com/jlin7/', headers = headers)\n"
      ],
      "execution_count": 264,
      "outputs": []
    },
    {
      "cell_type": "code",
      "metadata": {
        "id": "cGZKOlBEXFKE",
        "colab_type": "code",
        "colab": {}
      },
      "source": [
        "import re, json\n",
        "m = re.search('window._sharedData =(.*);', res.text)\n",
        "jd = json.loads(m.group(1))"
      ],
      "execution_count": 265,
      "outputs": []
    },
    {
      "cell_type": "code",
      "metadata": {
        "id": "EFG9jwVUXTdF",
        "colab_type": "code",
        "colab": {
          "base_uri": "https://localhost:8080/",
          "height": 54
        },
        "outputId": "94b81aee-de2b-41dc-83bd-3b7fddda0d66"
      },
      "source": [
        "for edge in jd['entry_data']['ProfilePage'][0]['graphql']['user']['edge_owner_to_timeline_media']['edges']:\n",
        "    print(edge.get('node').get('display_url'))\n",
        "    break"
      ],
      "execution_count": 267,
      "outputs": [
        {
          "output_type": "execute_result",
          "data": {
            "text/plain": [
              "[' {\"config\":{\"csrf_token\":\"sE5qwzjuwJbiB1tzrdjPpvWCzRjvIvje\",\"viewer\":null,\"viewerId\":null},\"country_code\":\"US\",\"language_code\":\"en\",\"locale\":\"en_US\",\"entry_data\":{\"LoginAndSignupPage\":[{\"captcha\":{\"enabled\":false,\"key\":\"\"},\"gdpr_required\":false,\"tos_version\":\"row\",\"username_hint\":\"\"}]},\"hostname\":\"www.instagram.com\",\"is_whitelisted_crawl_bot\":false,\"deployment_stage\":\"c2\",\"platform\":\"windows_nt_10\",\"nonce\":\"7qME/rL14mzbRlYWCqw3xA==\",\"mid_pct\":63.15897,\"zero_data\":{},\"cache_schema_version\":3,\"server_checks\":{},\"knobx\":{\"17\":false,\"20\":true,\"22\":true,\"23\":true,\"24\":true,\"25\":true,\"26\":true,\"27\":true,\"28\":true,\"29\":true,\"30\":true,\"31\":true,\"32\":true,\"34\":true,\"35\":false,\"36\":false,\"37\":true,\"38\":25000,\"4\":false},\"to_cache\":{\"gatekeepers\":{\"10\":false,\"100\":false,\"101\":true,\"102\":true,\"103\":true,\"104\":true,\"105\":true,\"106\":true,\"107\":false,\"108\":true,\"11\":false,\"112\":true,\"113\":true,\"114\":true,\"116\":true,\"119\":false,\"12\":false,\"120\":true,\"123\":false,\"126\":false,\"128\":false,\"13\":true,\"131\":false,\"132\":false,\"137\":true,\"14\":true,\"140\":false,\"142\":false,\"146\":true,\"147\":false,\"149\":false,\"15\":true,\"150\":false,\"151\":false,\"152\":false,\"153\":false,\"154\":true,\"156\":false,\"157\":false,\"158\":false,\"159\":false,\"16\":true,\"160\":false,\"18\":true,\"19\":false,\"23\":false,\"24\":false,\"26\":true,\"27\":false,\"28\":false,\"29\":true,\"31\":false,\"32\":true,\"34\":false,\"35\":false,\"38\":true,\"4\":true,\"40\":true,\"41\":false,\"43\":true,\"5\":false,\"59\":true,\"6\":false,\"61\":false,\"62\":false,\"63\":false,\"64\":false,\"65\":false,\"67\":true,\"68\":false,\"69\":true,\"7\":false,\"71\":false,\"73\":false,\"74\":false,\"75\":true,\"78\":true,\"79\":false,\"8\":false,\"81\":false,\"82\":true,\"84\":false,\"86\":false,\"9\":false,\"91\":false,\"95\":true,\"97\":false},\"qe\":{\"app_upsell\":{\"g\":\"\",\"p\":{}},\"igl_app_upsell\":{\"g\":\"\",\"p\":{}},\"notif\":{\"g\":\"\",\"p\":{}},\"onetaplogin\":{\"g\":\"\",\"p\":{}},\"felix_clear_fb_cookie\":{\"g\":\"\",\"p\":{}},\"felix_creation_duration_limits\":{\"g\":\"\",\"p\":{}},\"felix_creation_fb_crossposting\":{\"g\":\"\",\"p\":{}},\"felix_creation_fb_crossposting_v2\":{\"g\":\"\",\"p\":{}},\"felix_creation_validation\":{\"g\":\"\",\"p\":{}},\"post_options\":{\"g\":\"\",\"p\":{}},\"sticker_tray\":{\"g\":\"\",\"p\":{}},\"web_sentry\":{\"g\":\"\",\"p\":{}},\"0\":{\"p\":{\"9\":false},\"l\":{},\"qex\":true},\"100\":{\"p\":{\"0\":true},\"l\":{},\"qex\":true},\"101\":{\"p\":{\"0\":false,\"1\":false},\"l\":{},\"qex\":true},\"102\":{\"p\":{\"0\":true},\"l\":{},\"qex\":true},\"103\":{\"p\":{\"1\":false},\"l\":{},\"qex\":true},\"104\":{\"p\":{\"0\":true},\"l\":{},\"qex\":true},\"108\":{\"p\":{\"0\":false,\"1\":false},\"l\":{},\"qex\":true},\"109\":{\"p\":{},\"l\":{},\"qex\":true},\"111\":{\"p\":{\"0\":false,\"1\":false},\"l\":{},\"qex\":true},\"113\":{\"p\":{\"0\":true,\"1\":false,\"2\":true,\"4\":false,\"5\":false,\"7\":false,\"8\":false},\"l\":{},\"qex\":true},\"116\":{\"p\":{\"1\":true,\"2\":1},\"l\":{},\"qex\":true},\"117\":{\"p\":{\"0\":true},\"l\":{},\"qex\":true},\"118\":{\"p\":{\"0\":false,\"1\":true,\"2\":false},\"l\":{},\"qex\":true},\"119\":{\"p\":{\"0\":false},\"l\":{},\"qex\":true},\"12\":{\"p\":{\"0\":5},\"l\":{},\"qex\":true},\"121\":{\"p\":{},\"l\":{},\"qex\":true},\"122\":{\"p\":{\"0\":false},\"l\":{},\"qex\":true},\"123\":{\"p\":{\"0\":true,\"1\":true},\"l\":{},\"qex\":true},\"124\":{\"p\":{\"0\":false,\"1\":true,\"2\":false},\"l\":{},\"qex\":true},\"125\":{\"p\":{\"0\":true},\"l\":{},\"qex\":true},\"126\":{\"p\":{\"0\":true},\"l\":{},\"qex\":true},\"127\":{\"p\":{\"0\":true,\"1\":false,\"2\":true},\"l\":{},\"qex\":true},\"128\":{\"p\":{\"0\":false,\"1\":false},\"l\":{},\"qex\":true},\"129\":{\"p\":{\"1\":false,\"2\":true},\"l\":{\"2\":true},\"qex\":true},\"13\":{\"p\":{\"0\":true},\"l\":{},\"qex\":true},\"131\":{\"p\":{\"2\":false,\"3\":false,\"4\":false},\"l\":{},\"qex\":true},\"132\":{\"p\":{\"0\":false},\"l\":{\"0\":true},\"qex\":true},\"135\":{\"p\":{\"0\":false,\"1\":false,\"2\":false,\"3\":false},\"l\":{},\"qex\":true},\"137\":{\"p\":{},\"l\":{},\"qex\":true},\"140\":{\"p\":{},\"l\":{},\"qex\":true},\"141\":{\"p\":{\"0\":false,\"1\":false,\"2\":false},\"l\":{},\"qex\":true},\"142\":{\"p\":{\"0\":false},\"l\":{},\"qex\":true},\"143\":{\"p\":{\"1\":false,\"2\":false,\"3\":false,\"4\":false},\"l\":{},\"qex\":true},\"16\":{\"p\":{\"0\":false},\"l\":{},\"qex\":true},\"21\":{\"p\":{\"2\":false},\"l\":{},\"qex\":true},\"22\":{\"p\":{\"1\":false,\"10\":0.0,\"11\":15,\"12\":3,\"13\":false,\"2\":8.0,\"3\":0.85,\"4\":0.95},\"l\":{},\"qex\":true},\"23\":{\"p\":{\"0\":false,\"1\":false},\"l\":{},\"qex\":true},\"25\":{\"p\":{},\"l\":{},\"qex\":true},\"26\":{\"p\":{\"0\":\"\"},\"l\":{},\"qex\":true},\"28\":{\"p\":{\"0\":false},\"l\":{},\"qex\":true},\"29\":{\"p\":{},\"l\":{},\"qex\":true},\"31\":{\"p\":{},\"l\":{},\"qex\":true},\"33\":{\"p\":{},\"l\":{},\"qex\":true},\"34\":{\"p\":{\"0\":false},\"l\":{},\"qex\":true},\"36\":{\"p\":{\"0\":true,\"1\":true,\"2\":false,\"3\":false,\"4\":false},\"l\":{},\"qex\":true},\"37\":{\"p\":{\"0\":false},\"l\":{},\"qex\":true},\"39\":{\"p\":{\"0\":false,\"14\":false,\"8\":false},\"l\":{},\"qex\":true},\"41\":{\"p\":{\"3\":true},\"l\":{},\"qex\":true},\"42\":{\"p\":{\"0\":true},\"l\":{},\"qex\":true},\"43\":{\"p\":{\"0\":false,\"1\":false,\"2\":false},\"l\":{},\"qex\":true},\"44\":{\"p\":{\"1\":\"inside_media\",\"2\":0.2},\"l\":{},\"qex\":true},\"45\":{\"p\":{\"13\":false,\"17\":0,\"32\":false,\"33\":false,\"35\":false,\"36\":\"control\",\"37\":false,\"38\":false,\"40\":\"control\",\"45\":\"control\"},\"l\":{},\"qex\":true},\"46\":{\"p\":{\"0\":false},\"l\":{},\"qex\":true},\"47\":{\"p\":{\"0\":true,\"1\":true,\"10\":false,\"11\":false,\"2\":false,\"3\":false,\"9\":false},\"l\":{},\"qex\":true},\"49\":{\"p\":{\"0\":false},\"l\":{},\"qex\":true},\"50\":{\"p\":{\"0\":false},\"l\":{},\"qex\":true},\"54\":{\"p\":{\"0\":false},\"l\":{},\"qex\":true},\"58\":{\"p\":{\"0\":0.25,\"1\":true},\"l\":{},\"qex\":true},\"59\":{\"p\":{\"0\":true},\"l\":{},\"qex\":true},\"62\":{\"p\":{\"0\":false},\"l\":{},\"qex\":true},\"67\":{\"p\":{\"0\":true,\"1\":true,\"2\":true,\"3\":true,\"4\":false,\"5\":true,\"7\":false},\"l\":{},\"qex\":true},\"69\":{\"p\":{\"0\":true},\"l\":{},\"qex\":true},\"71\":{\"p\":{\"1\":\"^/explore/.*|^/accounts/activity/$\"},\"l\":{},\"qex\":true},\"72\":{\"p\":{\"1\":false,\"2\":false},\"l\":{\"1\":true,\"2\":true},\"qex\":true},\"73\":{\"p\":{\"0\":false},\"l\":{},\"qex\":true},\"74\":{\"p\":{\"1\":true,\"12\":false,\"13\":false,\"15\":false,\"2\":false,\"3\":true,\"4\":false,\"7\":false,\"9\":true},\"l\":{},\"qex\":true},\"75\":{\"p\":{\"0\":true},\"l\":{},\"qex\":true},\"77\":{\"p\":{\"1\":false},\"l\":{},\"qex\":true},\"78\":{\"p\":{\"0\":true,\"1\":true,\"2\":true,\"3\":true,\"5\":true},\"l\":{},\"qex\":true},\"80\":{\"p\":{\"3\":true,\"4\":false},\"l\":{},\"qex\":true},\"84\":{\"p\":{\"0\":true,\"1\":true,\"2\":true,\"3\":true,\"4\":true,\"5\":true,\"6\":false,\"8\":false},\"l\":{},\"qex\":true},\"85\":{\"p\":{\"0\":false,\"1\":\"Pictures and Videos\"},\"l\":{},\"qex\":true},\"87\":{\"p\":{\"0\":true},\"l\":{},\"qex\":true},\"93\":{\"p\":{\"0\":true},\"l\":{},\"qex\":true},\"95\":{\"p\":{\"0\":false,\"1\":false},\"l\":{},\"qex\":true},\"98\":{\"p\":{\"1\":false},\"l\":{},\"qex\":true}},\"probably_has_app\":false,\"cb\":false},\"device_id\":\"4A691014-3AB4-4343-AA1D-25B0DE2EE011\",\"browser_push_pub_key\":\"BIBn3E_rWTci8Xn6P9Xj3btShT85Wdtne0LtwNUyRQ5XjFNkuTq9j4MPAVLvAFhXrUU1A9UxyxBA7YIOjqDIDHI\",\"encryption\":{\"key_id\":\"141\",\"public_key\":\"380e191a577c57ef3bdf4a4433384d790f5006130bdb2644d4a9d94b5ce93f0f\",\"version\":\"10\"},\"is_dev\":false,\"signal_collection_config\":null,\"rollout_hash\":\"a1de4804d095\",\"bundle_variant\":\"es6\",\"frontend_env\":\"prod\"}']"
            ]
          },
          "metadata": {
            "tags": []
          },
          "execution_count": 267
        }
      ]
    },
    {
      "cell_type": "code",
      "metadata": {
        "id": "gdrawd03YCMK",
        "colab_type": "code",
        "colab": {}
      },
      "source": [
        "def getIdolPicture(url):\n",
        "    res = requests.get(url)\n",
        "    fname = url.split('?')[0].split('/')[-1]\n",
        "    with open(fname, 'wb') as f:\n",
        "        f.write(res.content)"
      ],
      "execution_count": null,
      "outputs": []
    },
    {
      "cell_type": "code",
      "metadata": {
        "id": "FbvMDKrib3RQ",
        "colab_type": "code",
        "colab": {}
      },
      "source": [
        "for edge in jd['entry_data']['ProfilePage'][0]['graphql']['user']['edge_owner_to_timeline_media']['edges']:\n",
        "    getIdolPicture(edge.get('node').get('display_url'))\n",
        "    "
      ],
      "execution_count": null,
      "outputs": []
    },
    {
      "cell_type": "markdown",
      "metadata": {
        "id": "nHSQO1a_dcL5",
        "colab_type": "text"
      },
      "source": [
        "## 591 租屋網"
      ]
    },
    {
      "cell_type": "code",
      "metadata": {
        "id": "sqSJeExkdd91",
        "colab_type": "code",
        "colab": {}
      },
      "source": [
        "import requests\n",
        "headers = {\n",
        "    'Cookie': 'webp=1; PHPSESSID=o02ckc6b3805llbfreqi0dkbn4; urlJumpIp=1; urlJumpIpByTxt=%E5%8F%B0%E5%8C%97%E5%B8%82; T591_TOKEN=o02ckc6b3805llbfreqi0dkbn4; c10f3143a018a0513ebe1e8d27b5391c=1; _ga=GA1.3.914607595.1599877569; _gid=GA1.3.933675634.1599877569; _ga=GA1.4.914607595.1599877569; _gid=GA1.4.933675634.1599877569; _fbp=fb.2.1599877568992.753404941; tw591__privacy_agree=0; user_index_role=2; user_browse_recent=a%3A1%3A%7Bi%3A0%3Ba%3A2%3A%7Bs%3A4%3A%22type%22%3Bi%3A2%3Bs%3A7%3A%22post_id%22%3Bi%3A8039336%3B%7D%7D; pt_s_28697119=vt=1599877579170&cad=; pt_28697119=uid=39PZbU2b9ZR9WTaw0UJhHw&nid=1&vid=74w0wZGaAMmqbcOMCwqMyA&vn=1&pvn=1&sact=1599877587276&to_flag=1&pl=k5ZoaM4cKDtrMLI6Atdj/g*pt*1599877579170; new_rent_list_kind_test=0; XSRF-TOKEN=eyJpdiI6Ikpud3dXYUdPRnludWJmb0hRUE5EWFE9PSIsInZhbHVlIjoiSDNwMDVvUHhHejYxYUh4UnpcL2RDRUJ5cDYxRmxQNkJycEU5M1wvODNxRFBPenlrcFZHd0YxNDVYKzRNN0lHQjJuUEtzTUVUTU1wcjN6RUZadDVHNFR5UT09IiwibWFjIjoiODZhYzIyOTg0ODg1NmVkODBjZTBkY2VmYjY5Mjk0MTQ0MDY1MWQ5NWFjZmM3NzgwMzgyNjZkNTM2NzBjYjY5ZSJ9; 591_new_session=eyJpdiI6IkJnenRiekJuRW5Xb3hJQmdITmRVTGc9PSIsInZhbHVlIjoiczJuRVdOaWEwcENyM1J0WmJRV3YwNlEzUHErenZhck9VazI4N1JhK3NOaWd1QWdRT3JzUG1PS094ZzdwOWxUT1FGVWprYlJoa28zTjdObnpMK0lYa1E9PSIsIm1hYyI6IjAwMTFlMDU4NTczNmU4ZjNiYTgyNTlhY2M1NzU5N2I5MmNlZTQzZWNlNzA4ODM5MWY4YzhiYjdjZjc2YjUzNWMifQ%3D%3D; _gat_UA-97423186-1=1',\n",
        "    'Referer': 'https://rent.591.com.tw/?kind=1&region=1&section=5',\n",
        "  'User-Agent': 'Mozilla/5.0 (Windows NT 10.0; Win64; x64) AppleWebKit/537.36 (KHTML, like Gecko) Chrome/85.0.4183.102 Safari/537.36',\n",
        " 'X-CSRF-TOKEN': 'IH0FGdixwFJX3CfspqyfFH9FQHyULUwcTDeADmO4',\n",
        " 'X-Requested-With': 'XMLHttpRequest'   \n",
        "}\n",
        "res = requests.get('https://rent.591.com.tw/home/search/rsList?is_new_list=1&type=1&kind=1&searchtype=1&region=1&section=5', headers = headers)"
      ],
      "execution_count": 278,
      "outputs": []
    },
    {
      "cell_type": "code",
      "metadata": {
        "id": "CyrriwbAeF7h",
        "colab_type": "code",
        "colab": {}
      },
      "source": [
        "jd = res.json()"
      ],
      "execution_count": 281,
      "outputs": []
    },
    {
      "cell_type": "code",
      "metadata": {
        "id": "_W2Cq7wBeG7h",
        "colab_type": "code",
        "colab": {}
      },
      "source": [
        "import pandas\n",
        "df = pandas.DataFrame(jd['data']['data'])\n",
        "#df"
      ],
      "execution_count": 284,
      "outputs": []
    },
    {
      "cell_type": "code",
      "metadata": {
        "id": "eMksr4pdfAkF",
        "colab_type": "code",
        "colab": {
          "base_uri": "https://localhost:8080/",
          "height": 1000
        },
        "outputId": "5ed3bdf2-b3fa-47f7-e5c2-048f174c2614"
      },
      "source": [
        "df.info()"
      ],
      "execution_count": 285,
      "outputs": [
        {
          "output_type": "stream",
          "text": [
            "<class 'pandas.core.frame.DataFrame'>\n",
            "RangeIndex: 30 entries, 0 to 29\n",
            "Data columns (total 88 columns):\n",
            " #   Column                  Non-Null Count  Dtype  \n",
            "---  ------                  --------------  -----  \n",
            " 0   id                      30 non-null     int64  \n",
            " 1   user_id                 30 non-null     int64  \n",
            " 2   address                 30 non-null     object \n",
            " 3   type                    30 non-null     object \n",
            " 4   post_id                 30 non-null     int64  \n",
            " 5   regionid                30 non-null     int64  \n",
            " 6   sectionid               30 non-null     int64  \n",
            " 7   streetid                30 non-null     int64  \n",
            " 8   room                    30 non-null     int64  \n",
            " 9   area                    30 non-null     float64\n",
            " 10  price                   30 non-null     object \n",
            " 11  storeprice              30 non-null     int64  \n",
            " 12  comment_total           30 non-null     int64  \n",
            " 13  comment_unread          30 non-null     int64  \n",
            " 14  comment_ltime           30 non-null     int64  \n",
            " 15  hasimg                  30 non-null     int64  \n",
            " 16  kind                    30 non-null     int64  \n",
            " 17  shape                   30 non-null     int64  \n",
            " 18  houseage                30 non-null     int64  \n",
            " 19  posttime                30 non-null     object \n",
            " 20  updatetime              30 non-null     int64  \n",
            " 21  refreshtime             30 non-null     int64  \n",
            " 22  checkstatus             30 non-null     int64  \n",
            " 23  status                  30 non-null     object \n",
            " 24  closed                  30 non-null     int64  \n",
            " 25  living                  30 non-null     object \n",
            " 26  condition               30 non-null     object \n",
            " 27  isvip                   30 non-null     int64  \n",
            " 28  mvip                    30 non-null     int64  \n",
            " 29  is_combine              30 non-null     int64  \n",
            " 30  cover                   30 non-null     object \n",
            " 31  browsenum               30 non-null     int64  \n",
            " 32  browsenum_all           30 non-null     int64  \n",
            " 33  floor2                  30 non-null     int64  \n",
            " 34  floor                   30 non-null     int64  \n",
            " 35  ltime                   30 non-null     object \n",
            " 36  cases_id                30 non-null     object \n",
            " 37  social_house            30 non-null     int64  \n",
            " 38  distance                30 non-null     int64  \n",
            " 39  search_name             30 non-null     object \n",
            " 40  mainarea                0 non-null      object \n",
            " 41  balcony_area            0 non-null      object \n",
            " 42  groundarea              0 non-null      object \n",
            " 43  linkman                 30 non-null     object \n",
            " 44  housetype               30 non-null     int64  \n",
            " 45  street_name             30 non-null     object \n",
            " 46  alley_name              30 non-null     object \n",
            " 47  lane_name               30 non-null     object \n",
            " 48  addr_number_name        30 non-null     object \n",
            " 49  kind_name_img           30 non-null     object \n",
            " 50  address_img             30 non-null     object \n",
            " 51  cases_name              30 non-null     object \n",
            " 52  layout                  30 non-null     object \n",
            " 53  layout_str              30 non-null     object \n",
            " 54  allfloor                30 non-null     int64  \n",
            " 55  floorInfo               30 non-null     object \n",
            " 56  house_img               30 non-null     object \n",
            " 57  houseimg                0 non-null      object \n",
            " 58  cartplace               30 non-null     object \n",
            " 59  space_type_str          30 non-null     object \n",
            " 60  photo_alt               30 non-null     object \n",
            " 61  addition4               30 non-null     int64  \n",
            " 62  addition2               30 non-null     int64  \n",
            " 63  addition3               30 non-null     int64  \n",
            " 64  vipimg                  30 non-null     object \n",
            " 65  vipstyle                30 non-null     object \n",
            " 66  vipBorder               30 non-null     object \n",
            " 67  new_list_comment_total  30 non-null     int64  \n",
            " 68  comment_class           30 non-null     object \n",
            " 69  price_hide              30 non-null     object \n",
            " 70  kind_name               30 non-null     object \n",
            " 71  photoNum                30 non-null     object \n",
            " 72  filename                30 non-null     object \n",
            " 73  nick_name               30 non-null     object \n",
            " 74  new_img                 30 non-null     object \n",
            " 75  regionname              30 non-null     object \n",
            " 76  sectionname             30 non-null     object \n",
            " 77  icon_name               30 non-null     object \n",
            " 78  icon_class              30 non-null     object \n",
            " 79  fulladdress             30 non-null     object \n",
            " 80  address_img_title       30 non-null     object \n",
            " 81  browsenum_name          30 non-null     object \n",
            " 82  unit                    30 non-null     object \n",
            " 83  houseid                 30 non-null     int64  \n",
            " 84  region_name             30 non-null     object \n",
            " 85  section_name            30 non-null     object \n",
            " 86  addInfo                 30 non-null     object \n",
            " 87  onepxImg                30 non-null     object \n",
            "dtypes: float64(1), int64(35), object(52)\n",
            "memory usage: 20.8+ KB\n"
          ],
          "name": "stdout"
        }
      ]
    },
    {
      "cell_type": "code",
      "metadata": {
        "id": "pdQw1ODmfejn",
        "colab_type": "code",
        "colab": {}
      },
      "source": [
        "df = df[['address', 'floor', 'allfloor', 'layout','area',\n",
        "'price','browsenum_all']]"
      ],
      "execution_count": 286,
      "outputs": []
    },
    {
      "cell_type": "code",
      "metadata": {
        "id": "ddWKmDKgfn_H",
        "colab_type": "code",
        "colab": {
          "base_uri": "https://localhost:8080/",
          "height": 288
        },
        "outputId": "3e0be3f8-9ce5-4714-d74a-60098f9bc698"
      },
      "source": [
        "df.head()"
      ],
      "execution_count": 287,
      "outputs": [
        {
          "output_type": "execute_result",
          "data": {
            "text/html": [
              "<div>\n",
              "<style scoped>\n",
              "    .dataframe tbody tr th:only-of-type {\n",
              "        vertical-align: middle;\n",
              "    }\n",
              "\n",
              "    .dataframe tbody tr th {\n",
              "        vertical-align: top;\n",
              "    }\n",
              "\n",
              "    .dataframe thead th {\n",
              "        text-align: right;\n",
              "    }\n",
              "</style>\n",
              "<table border=\"1\" class=\"dataframe\">\n",
              "  <thead>\n",
              "    <tr style=\"text-align: right;\">\n",
              "      <th></th>\n",
              "      <th>address</th>\n",
              "      <th>floor</th>\n",
              "      <th>allfloor</th>\n",
              "      <th>layout</th>\n",
              "      <th>area</th>\n",
              "      <th>price</th>\n",
              "      <th>browsenum_all</th>\n",
              "    </tr>\n",
              "  </thead>\n",
              "  <tbody>\n",
              "    <tr>\n",
              "      <th>0</th>\n",
              "      <td>敦化南路二段81巷信義安和..</td>\n",
              "      <td>1</td>\n",
              "      <td>5</td>\n",
              "      <td>2房2廳1衛</td>\n",
              "      <td>20.0</td>\n",
              "      <td>40,000</td>\n",
              "      <td>2142</td>\n",
              "    </tr>\n",
              "    <tr>\n",
              "      <th>1</th>\n",
              "      <td>辛亥路三段157巷大..</td>\n",
              "      <td>4</td>\n",
              "      <td>4</td>\n",
              "      <td>3房2廳1衛</td>\n",
              "      <td>30.0</td>\n",
              "      <td>30,000</td>\n",
              "      <td>5687</td>\n",
              "    </tr>\n",
              "    <tr>\n",
              "      <th>2</th>\n",
              "      <td>浦城街24巷～浦城文萃精選..</td>\n",
              "      <td>5</td>\n",
              "      <td>5</td>\n",
              "      <td>4房3廳2衛</td>\n",
              "      <td>80.0</td>\n",
              "      <td>145,000</td>\n",
              "      <td>1354</td>\n",
              "    </tr>\n",
              "    <tr>\n",
              "      <th>3</th>\n",
              "      <td>復興南路一段79巷近SOGO微..</td>\n",
              "      <td>2</td>\n",
              "      <td>5</td>\n",
              "      <td>2房1廳1衛</td>\n",
              "      <td>20.0</td>\n",
              "      <td>30,000</td>\n",
              "      <td>593</td>\n",
              "    </tr>\n",
              "    <tr>\n",
              "      <th>4</th>\n",
              "      <td>安和路二段181巷@近信義..</td>\n",
              "      <td>3</td>\n",
              "      <td>17</td>\n",
              "      <td>4房2廳2衛</td>\n",
              "      <td>58.0</td>\n",
              "      <td>90,000</td>\n",
              "      <td>714</td>\n",
              "    </tr>\n",
              "  </tbody>\n",
              "</table>\n",
              "</div>"
            ],
            "text/plain": [
              "             address  floor  allfloor  layout  area    price  browsenum_all\n",
              "0    敦化南路二段81巷信義安和..      1         5  2房2廳1衛  20.0   40,000           2142\n",
              "1       辛亥路三段157巷大..      4         4  3房2廳1衛  30.0   30,000           5687\n",
              "2    浦城街24巷～浦城文萃精選..      5         5  4房3廳2衛  80.0  145,000           1354\n",
              "3  復興南路一段79巷近SOGO微..      2         5  2房1廳1衛  20.0   30,000            593\n",
              "4    安和路二段181巷@近信義..      3        17  4房2廳2衛  58.0   90,000            714"
            ]
          },
          "metadata": {
            "tags": []
          },
          "execution_count": 287
        }
      ]
    },
    {
      "cell_type": "code",
      "metadata": {
        "id": "k4dgG_c1foq4",
        "colab_type": "code",
        "colab": {}
      },
      "source": [
        "https://rent.591.com.tw/home/search/rsList?is_new_list=1&type=1&kind=1&searchtype=1&region=1&section=5\n",
        "https://rent.591.com.tw/home/search/rsList?is_new_list=1&type=1&kind=1&searchtype=1&region=1&section=5&firstRow=30&totalRows=813\n",
        "https://rent.591.com.tw/home/search/rsList?is_new_list=1&type=1&kind=1&searchtype=1&region=1&section=5&firstRow=60&totalRows=814"
      ],
      "execution_count": null,
      "outputs": []
    },
    {
      "cell_type": "code",
      "metadata": {
        "id": "uM-8RFEQhBce",
        "colab_type": "code",
        "colab": {
          "base_uri": "https://localhost:8080/",
          "height": 34
        },
        "outputId": "212d772c-bbec-4510-8725-01271ae0f1c1"
      },
      "source": [
        "import math\n",
        "houseurl = 'https://rent.591.com.tw/home/search/rsList?is_new_list=1&type=1&kind=1&searchtype=1&region=1&section=5&firstRow={}&totalRows=814'\n",
        "math.ceil(814/ 30)"
      ],
      "execution_count": 289,
      "outputs": [
        {
          "output_type": "execute_result",
          "data": {
            "text/plain": [
              "28"
            ]
          },
          "metadata": {
            "tags": []
          },
          "execution_count": 289
        }
      ]
    },
    {
      "cell_type": "code",
      "metadata": {
        "id": "rbVZhrs1hhUv",
        "colab_type": "code",
        "colab": {}
      },
      "source": [
        "import requests\n",
        "headers = {\n",
        "    'Cookie': 'webp=1; PHPSESSID=o02ckc6b3805llbfreqi0dkbn4; urlJumpIp=1; urlJumpIpByTxt=%E5%8F%B0%E5%8C%97%E5%B8%82; T591_TOKEN=o02ckc6b3805llbfreqi0dkbn4; c10f3143a018a0513ebe1e8d27b5391c=1; _ga=GA1.3.914607595.1599877569; _gid=GA1.3.933675634.1599877569; _ga=GA1.4.914607595.1599877569; _gid=GA1.4.933675634.1599877569; _fbp=fb.2.1599877568992.753404941; tw591__privacy_agree=0; user_index_role=2; user_browse_recent=a%3A1%3A%7Bi%3A0%3Ba%3A2%3A%7Bs%3A4%3A%22type%22%3Bi%3A2%3Bs%3A7%3A%22post_id%22%3Bi%3A8039336%3B%7D%7D; pt_s_28697119=vt=1599877579170&cad=; pt_28697119=uid=39PZbU2b9ZR9WTaw0UJhHw&nid=1&vid=74w0wZGaAMmqbcOMCwqMyA&vn=1&pvn=1&sact=1599877587276&to_flag=1&pl=k5ZoaM4cKDtrMLI6Atdj/g*pt*1599877579170; new_rent_list_kind_test=0; XSRF-TOKEN=eyJpdiI6Ikpud3dXYUdPRnludWJmb0hRUE5EWFE9PSIsInZhbHVlIjoiSDNwMDVvUHhHejYxYUh4UnpcL2RDRUJ5cDYxRmxQNkJycEU5M1wvODNxRFBPenlrcFZHd0YxNDVYKzRNN0lHQjJuUEtzTUVUTU1wcjN6RUZadDVHNFR5UT09IiwibWFjIjoiODZhYzIyOTg0ODg1NmVkODBjZTBkY2VmYjY5Mjk0MTQ0MDY1MWQ5NWFjZmM3NzgwMzgyNjZkNTM2NzBjYjY5ZSJ9; 591_new_session=eyJpdiI6IkJnenRiekJuRW5Xb3hJQmdITmRVTGc9PSIsInZhbHVlIjoiczJuRVdOaWEwcENyM1J0WmJRV3YwNlEzUHErenZhck9VazI4N1JhK3NOaWd1QWdRT3JzUG1PS094ZzdwOWxUT1FGVWprYlJoa28zTjdObnpMK0lYa1E9PSIsIm1hYyI6IjAwMTFlMDU4NTczNmU4ZjNiYTgyNTlhY2M1NzU5N2I5MmNlZTQzZWNlNzA4ODM5MWY4YzhiYjdjZjc2YjUzNWMifQ%3D%3D; _gat_UA-97423186-1=1',\n",
        "    'Referer': 'https://rent.591.com.tw/?kind=1&region=1&section=5',\n",
        "  'User-Agent': 'Mozilla/5.0 (Windows NT 10.0; Win64; x64) AppleWebKit/537.36 (KHTML, like Gecko) Chrome/85.0.4183.102 Safari/537.36',\n",
        " 'X-CSRF-TOKEN': 'IH0FGdixwFJX3CfspqyfFH9FQHyULUwcTDeADmO4',\n",
        " 'X-Requested-With': 'XMLHttpRequest'   \n",
        "}"
      ],
      "execution_count": 292,
      "outputs": []
    },
    {
      "cell_type": "code",
      "metadata": {
        "id": "x41f5P-VhJqP",
        "colab_type": "code",
        "colab": {}
      },
      "source": [
        "houseary = []\n",
        "for i in range(0,math.ceil(814/ 30)):\n",
        "  #print(i * 30)\n",
        "  res = requests.get(houseurl.format(i * 30), headers = headers)\n",
        "  jd = res.json()\n",
        "  df = pandas.DataFrame(jd['data']['data'])\n",
        "  houseary.append(df)"
      ],
      "execution_count": 293,
      "outputs": []
    },
    {
      "cell_type": "code",
      "metadata": {
        "id": "t8A0CdfZhVoP",
        "colab_type": "code",
        "colab": {
          "base_uri": "https://localhost:8080/",
          "height": 34
        },
        "outputId": "9f1293fe-e53c-4c9f-bf2f-66271d55594d"
      },
      "source": [
        "len(houseary)"
      ],
      "execution_count": 295,
      "outputs": [
        {
          "output_type": "execute_result",
          "data": {
            "text/plain": [
              "28"
            ]
          },
          "metadata": {
            "tags": []
          },
          "execution_count": 295
        }
      ]
    },
    {
      "cell_type": "code",
      "metadata": {
        "id": "yOe8_ngdh75V",
        "colab_type": "code",
        "colab": {}
      },
      "source": [
        "#houseary[0]"
      ],
      "execution_count": 297,
      "outputs": []
    },
    {
      "cell_type": "code",
      "metadata": {
        "id": "rictq6SEh9Ug",
        "colab_type": "code",
        "colab": {}
      },
      "source": [
        "housedf = pandas.concat(houseary)"
      ],
      "execution_count": 298,
      "outputs": []
    },
    {
      "cell_type": "code",
      "metadata": {
        "id": "VMATLiZMiEIR",
        "colab_type": "code",
        "colab": {}
      },
      "source": [
        "housedf.to_excel('house591.xlsx')"
      ],
      "execution_count": 299,
      "outputs": []
    },
    {
      "cell_type": "code",
      "metadata": {
        "id": "m31QU_HziH1y",
        "colab_type": "code",
        "colab": {}
      },
      "source": [
        "housedf = housedf[['address', 'floor', 'allfloor', 'layout','area',\n",
        "'price','browsenum_all']]"
      ],
      "execution_count": 300,
      "outputs": []
    },
    {
      "cell_type": "code",
      "metadata": {
        "id": "NnFWXr8gmGm0",
        "colab_type": "code",
        "colab": {}
      },
      "source": [
        "housedf['price'] = housedf['price'].map(lambda e :int(e.replace(',','')))"
      ],
      "execution_count": 302,
      "outputs": []
    },
    {
      "cell_type": "code",
      "metadata": {
        "id": "TSGsywonmHMR",
        "colab_type": "code",
        "colab": {
          "base_uri": "https://localhost:8080/",
          "height": 288
        },
        "outputId": "9f651007-36e8-469c-b718-6475976cbae1"
      },
      "source": [
        "housedf.head()"
      ],
      "execution_count": 303,
      "outputs": [
        {
          "output_type": "execute_result",
          "data": {
            "text/html": [
              "<div>\n",
              "<style scoped>\n",
              "    .dataframe tbody tr th:only-of-type {\n",
              "        vertical-align: middle;\n",
              "    }\n",
              "\n",
              "    .dataframe tbody tr th {\n",
              "        vertical-align: top;\n",
              "    }\n",
              "\n",
              "    .dataframe thead th {\n",
              "        text-align: right;\n",
              "    }\n",
              "</style>\n",
              "<table border=\"1\" class=\"dataframe\">\n",
              "  <thead>\n",
              "    <tr style=\"text-align: right;\">\n",
              "      <th></th>\n",
              "      <th>address</th>\n",
              "      <th>floor</th>\n",
              "      <th>allfloor</th>\n",
              "      <th>layout</th>\n",
              "      <th>area</th>\n",
              "      <th>price</th>\n",
              "      <th>browsenum_all</th>\n",
              "    </tr>\n",
              "  </thead>\n",
              "  <tbody>\n",
              "    <tr>\n",
              "      <th>0</th>\n",
              "      <td>敦化南路二段81巷信義安和..</td>\n",
              "      <td>1</td>\n",
              "      <td>5</td>\n",
              "      <td>2房2廳1衛</td>\n",
              "      <td>20.0</td>\n",
              "      <td>40000</td>\n",
              "      <td>2142</td>\n",
              "    </tr>\n",
              "    <tr>\n",
              "      <th>1</th>\n",
              "      <td>辛亥路三段157巷大..</td>\n",
              "      <td>4</td>\n",
              "      <td>4</td>\n",
              "      <td>3房2廳1衛</td>\n",
              "      <td>30.0</td>\n",
              "      <td>30000</td>\n",
              "      <td>5687</td>\n",
              "    </tr>\n",
              "    <tr>\n",
              "      <th>2</th>\n",
              "      <td>浦城街24巷～浦城文萃精選..</td>\n",
              "      <td>5</td>\n",
              "      <td>5</td>\n",
              "      <td>4房3廳2衛</td>\n",
              "      <td>80.0</td>\n",
              "      <td>145000</td>\n",
              "      <td>1354</td>\n",
              "    </tr>\n",
              "    <tr>\n",
              "      <th>3</th>\n",
              "      <td>安和路二段181巷@近信義..</td>\n",
              "      <td>3</td>\n",
              "      <td>17</td>\n",
              "      <td>4房2廳2衛</td>\n",
              "      <td>58.0</td>\n",
              "      <td>90000</td>\n",
              "      <td>714</td>\n",
              "    </tr>\n",
              "    <tr>\n",
              "      <th>4</th>\n",
              "      <td>敦化南路二段200巷大安小..</td>\n",
              "      <td>13</td>\n",
              "      <td>14</td>\n",
              "      <td>4房2廳2衛</td>\n",
              "      <td>63.6</td>\n",
              "      <td>135000</td>\n",
              "      <td>656</td>\n",
              "    </tr>\n",
              "  </tbody>\n",
              "</table>\n",
              "</div>"
            ],
            "text/plain": [
              "           address  floor  allfloor  layout  area   price  browsenum_all\n",
              "0  敦化南路二段81巷信義安和..      1         5  2房2廳1衛  20.0   40000           2142\n",
              "1     辛亥路三段157巷大..      4         4  3房2廳1衛  30.0   30000           5687\n",
              "2  浦城街24巷～浦城文萃精選..      5         5  4房3廳2衛  80.0  145000           1354\n",
              "3  安和路二段181巷@近信義..      3        17  4房2廳2衛  58.0   90000            714\n",
              "4  敦化南路二段200巷大安小..     13        14  4房2廳2衛  63.6  135000            656"
            ]
          },
          "metadata": {
            "tags": []
          },
          "execution_count": 303
        }
      ]
    },
    {
      "cell_type": "code",
      "metadata": {
        "id": "2h0MqmuumRzT",
        "colab_type": "code",
        "colab": {
          "base_uri": "https://localhost:8080/",
          "height": 588
        },
        "outputId": "6b847b17-38de-49b5-f3cd-2ec31c1c9a37"
      },
      "source": [
        "housedf.sort_values('price', ascending = True)"
      ],
      "execution_count": 306,
      "outputs": [
        {
          "output_type": "execute_result",
          "data": {
            "text/html": [
              "<div>\n",
              "<style scoped>\n",
              "    .dataframe tbody tr th:only-of-type {\n",
              "        vertical-align: middle;\n",
              "    }\n",
              "\n",
              "    .dataframe tbody tr th {\n",
              "        vertical-align: top;\n",
              "    }\n",
              "\n",
              "    .dataframe thead th {\n",
              "        text-align: right;\n",
              "    }\n",
              "</style>\n",
              "<table border=\"1\" class=\"dataframe\">\n",
              "  <thead>\n",
              "    <tr style=\"text-align: right;\">\n",
              "      <th></th>\n",
              "      <th>address</th>\n",
              "      <th>floor</th>\n",
              "      <th>allfloor</th>\n",
              "      <th>layout</th>\n",
              "      <th>area</th>\n",
              "      <th>price</th>\n",
              "      <th>browsenum_all</th>\n",
              "    </tr>\n",
              "  </thead>\n",
              "  <tbody>\n",
              "    <tr>\n",
              "      <th>11</th>\n",
              "      <td>永康街37巷永康街靜巷電梯大樓..</td>\n",
              "      <td>5</td>\n",
              "      <td>6</td>\n",
              "      <td>開放式格局</td>\n",
              "      <td>5.0</td>\n",
              "      <td>15000</td>\n",
              "      <td>1168</td>\n",
              "    </tr>\n",
              "    <tr>\n",
              "      <th>1</th>\n",
              "      <td>信義路四段美樂，大安站美寓，..</td>\n",
              "      <td>3</td>\n",
              "      <td>6</td>\n",
              "      <td>1房1廳1衛</td>\n",
              "      <td>9.5</td>\n",
              "      <td>17999</td>\n",
              "      <td>198</td>\n",
              "    </tr>\n",
              "    <tr>\n",
              "      <th>7</th>\n",
              "      <td>忠孝東路三段251巷熊大安東街..</td>\n",
              "      <td>100</td>\n",
              "      <td>5</td>\n",
              "      <td>1房1廳1衛</td>\n",
              "      <td>11.0</td>\n",
              "      <td>18499</td>\n",
              "      <td>1088</td>\n",
              "    </tr>\n",
              "    <tr>\n",
              "      <th>11</th>\n",
              "      <td>仁愛路四段捷運大安站5..</td>\n",
              "      <td>5</td>\n",
              "      <td>6</td>\n",
              "      <td>1房1廳1衛</td>\n",
              "      <td>10.0</td>\n",
              "      <td>19000</td>\n",
              "      <td>2927</td>\n",
              "    </tr>\n",
              "    <tr>\n",
              "      <th>10</th>\n",
              "      <td>忠孝東路四段181巷*東區商圈..</td>\n",
              "      <td>100</td>\n",
              "      <td>6</td>\n",
              "      <td>1房1廳1衛</td>\n",
              "      <td>10.0</td>\n",
              "      <td>20000</td>\n",
              "      <td>1661</td>\n",
              "    </tr>\n",
              "    <tr>\n",
              "      <th>...</th>\n",
              "      <td>...</td>\n",
              "      <td>...</td>\n",
              "      <td>...</td>\n",
              "      <td>...</td>\n",
              "      <td>...</td>\n",
              "      <td>...</td>\n",
              "      <td>...</td>\n",
              "    </tr>\n",
              "    <tr>\n",
              "      <th>2</th>\n",
              "      <td>市民大道三段◆忠泰頂級豪宅◆..</td>\n",
              "      <td>22</td>\n",
              "      <td>23</td>\n",
              "      <td>3房2廳2衛</td>\n",
              "      <td>97.0</td>\n",
              "      <td>250000</td>\n",
              "      <td>141</td>\n",
              "    </tr>\n",
              "    <tr>\n",
              "      <th>23</th>\n",
              "      <td>市民大道三段奢華大安景觀∞朝..</td>\n",
              "      <td>22</td>\n",
              "      <td>23</td>\n",
              "      <td>3房2廳2衛</td>\n",
              "      <td>82.3</td>\n",
              "      <td>250000</td>\n",
              "      <td>37</td>\n",
              "    </tr>\n",
              "    <tr>\n",
              "      <th>4</th>\n",
              "      <td>瑞安街●仲介費八折●豪宅●尊..</td>\n",
              "      <td>2</td>\n",
              "      <td>13</td>\n",
              "      <td>4房2廳3衛</td>\n",
              "      <td>112.0</td>\n",
              "      <td>275000</td>\n",
              "      <td>129</td>\n",
              "    </tr>\n",
              "    <tr>\n",
              "      <th>26</th>\n",
              "      <td>瑞安街81巷75折,瑞安豪宅❂裝..</td>\n",
              "      <td>2</td>\n",
              "      <td>13</td>\n",
              "      <td>4房2廳3衛</td>\n",
              "      <td>112.6</td>\n",
              "      <td>280000</td>\n",
              "      <td>391</td>\n",
              "    </tr>\n",
              "    <tr>\n",
              "      <th>23</th>\n",
              "      <td>仁愛路三段帝寶ThePalace我成..</td>\n",
              "      <td>8</td>\n",
              "      <td>18</td>\n",
              "      <td>5房2廳4衛</td>\n",
              "      <td>210.7</td>\n",
              "      <td>350000</td>\n",
              "      <td>542</td>\n",
              "    </tr>\n",
              "  </tbody>\n",
              "</table>\n",
              "<p>815 rows × 7 columns</p>\n",
              "</div>"
            ],
            "text/plain": [
              "                 address  floor  allfloor  layout   area   price  browsenum_all\n",
              "11     永康街37巷永康街靜巷電梯大樓..      5         6   開放式格局    5.0   15000           1168\n",
              "1       信義路四段美樂，大安站美寓，..      3         6  1房1廳1衛    9.5   17999            198\n",
              "7      忠孝東路三段251巷熊大安東街..    100         5  1房1廳1衛   11.0   18499           1088\n",
              "11         仁愛路四段捷運大安站5..      5         6  1房1廳1衛   10.0   19000           2927\n",
              "10     忠孝東路四段181巷*東區商圈..    100         6  1房1廳1衛   10.0   20000           1661\n",
              "..                   ...    ...       ...     ...    ...     ...            ...\n",
              "2       市民大道三段◆忠泰頂級豪宅◆..     22        23  3房2廳2衛   97.0  250000            141\n",
              "23      市民大道三段奢華大安景觀∞朝..     22        23  3房2廳2衛   82.3  250000             37\n",
              "4       瑞安街●仲介費八折●豪宅●尊..      2        13  4房2廳3衛  112.0  275000            129\n",
              "26    瑞安街81巷75折,瑞安豪宅❂裝..      2        13  4房2廳3衛  112.6  280000            391\n",
              "23  仁愛路三段帝寶ThePalace我成..      8        18  5房2廳4衛  210.7  350000            542\n",
              "\n",
              "[815 rows x 7 columns]"
            ]
          },
          "metadata": {
            "tags": []
          },
          "execution_count": 306
        }
      ]
    },
    {
      "cell_type": "code",
      "metadata": {
        "id": "EAMBbB1Rm9Xl",
        "colab_type": "code",
        "colab": {}
      },
      "source": [
        "housedf['price_per_area'] = housedf['price'] / housedf['area']"
      ],
      "execution_count": 307,
      "outputs": []
    },
    {
      "cell_type": "markdown",
      "metadata": {
        "id": "Ma7y7wTho4oc",
        "colab_type": "text"
      },
      "source": [
        ""
      ]
    },
    {
      "cell_type": "code",
      "metadata": {
        "id": "_d74wyKHnBjl",
        "colab_type": "code",
        "colab": {
          "base_uri": "https://localhost:8080/",
          "height": 171
        },
        "outputId": "566305e6-8ad4-47ca-c815-e8a80ffbb2db"
      },
      "source": [
        "housedf['price_per_area'].describe()"
      ],
      "execution_count": 308,
      "outputs": [
        {
          "output_type": "execute_result",
          "data": {
            "text/plain": [
              "count     815.000000\n",
              "mean     1698.851299\n",
              "std       552.555794\n",
              "min       733.333333\n",
              "25%      1293.716262\n",
              "50%      1571.268238\n",
              "75%      2000.000000\n",
              "max      5066.666667\n",
              "Name: price_per_area, dtype: float64"
            ]
          },
          "metadata": {
            "tags": []
          },
          "execution_count": 308
        }
      ]
    },
    {
      "cell_type": "code",
      "metadata": {
        "id": "b2wyNR1unEPl",
        "colab_type": "code",
        "colab": {
          "base_uri": "https://localhost:8080/",
          "height": 531
        },
        "outputId": "06f4d59f-b5a3-4522-8c1f-d32504127b4a"
      },
      "source": [
        "housedf.sort_values('price_per_area', ascending=False).head(5)"
      ],
      "execution_count": 311,
      "outputs": [
        {
          "output_type": "execute_result",
          "data": {
            "text/html": [
              "<div>\n",
              "<style scoped>\n",
              "    .dataframe tbody tr th:only-of-type {\n",
              "        vertical-align: middle;\n",
              "    }\n",
              "\n",
              "    .dataframe tbody tr th {\n",
              "        vertical-align: top;\n",
              "    }\n",
              "\n",
              "    .dataframe thead th {\n",
              "        text-align: right;\n",
              "    }\n",
              "</style>\n",
              "<table border=\"1\" class=\"dataframe\">\n",
              "  <thead>\n",
              "    <tr style=\"text-align: right;\">\n",
              "      <th></th>\n",
              "      <th>address</th>\n",
              "      <th>floor</th>\n",
              "      <th>allfloor</th>\n",
              "      <th>layout</th>\n",
              "      <th>area</th>\n",
              "      <th>price</th>\n",
              "      <th>browsenum_all</th>\n",
              "      <th>price_per_area</th>\n",
              "    </tr>\n",
              "  </thead>\n",
              "  <tbody>\n",
              "    <tr>\n",
              "      <th>20</th>\n",
              "      <td>新生南路三段11巷§旺德美客§..</td>\n",
              "      <td>6</td>\n",
              "      <td>7</td>\n",
              "      <td>2房2廳2衛</td>\n",
              "      <td>15.0</td>\n",
              "      <td>76000</td>\n",
              "      <td>198</td>\n",
              "      <td>5066.666667</td>\n",
              "    </tr>\n",
              "    <tr>\n",
              "      <th>24</th>\n",
              "      <td>師大路126巷師大公園景觀大1..</td>\n",
              "      <td>5</td>\n",
              "      <td>6</td>\n",
              "      <td>開放式格局</td>\n",
              "      <td>7.0</td>\n",
              "      <td>26500</td>\n",
              "      <td>208</td>\n",
              "      <td>3785.714286</td>\n",
              "    </tr>\n",
              "    <tr>\n",
              "      <th>12</th>\n",
              "      <td>四維路170巷四維路-世界敦南..</td>\n",
              "      <td>7</td>\n",
              "      <td>8</td>\n",
              "      <td>1房1廳1衛</td>\n",
              "      <td>8.0</td>\n",
              "      <td>30000</td>\n",
              "      <td>492</td>\n",
              "      <td>3750.000000</td>\n",
              "    </tr>\n",
              "    <tr>\n",
              "      <th>13</th>\n",
              "      <td>光復南路昇陽面101美景二房</td>\n",
              "      <td>12</td>\n",
              "      <td>14</td>\n",
              "      <td>2房2廳1衛</td>\n",
              "      <td>13.6</td>\n",
              "      <td>46000</td>\n",
              "      <td>418</td>\n",
              "      <td>3382.352941</td>\n",
              "    </tr>\n",
              "    <tr>\n",
              "      <th>22</th>\n",
              "      <td>大安路二段兆基Ｔ東方文華級別..</td>\n",
              "      <td>4</td>\n",
              "      <td>8</td>\n",
              "      <td>3房2廳2衛</td>\n",
              "      <td>55.9</td>\n",
              "      <td>188000</td>\n",
              "      <td>73</td>\n",
              "      <td>3363.148479</td>\n",
              "    </tr>\n",
              "  </tbody>\n",
              "</table>\n",
              "</div>"
            ],
            "text/plain": [
              "              address  floor  allfloor  ...   price  browsenum_all  price_per_area\n",
              "20  新生南路三段11巷§旺德美客§..      6         7  ...   76000            198     5066.666667\n",
              "24  師大路126巷師大公園景觀大1..      5         6  ...   26500            208     3785.714286\n",
              "12  四維路170巷四維路-世界敦南..      7         8  ...   30000            492     3750.000000\n",
              "13     光復南路昇陽面101美景二房     12        14  ...   46000            418     3382.352941\n",
              "22   大安路二段兆基Ｔ東方文華級別..      4         8  ...  188000             73     3363.148479\n",
              "\n",
              "[5 rows x 8 columns]"
            ]
          },
          "metadata": {
            "tags": []
          },
          "execution_count": 311
        }
      ]
    },
    {
      "cell_type": "code",
      "metadata": {
        "id": "-_H6Qo6LnwMZ",
        "colab_type": "code",
        "colab": {}
      },
      "source": [
        ""
      ],
      "execution_count": null,
      "outputs": []
    },
    {
      "cell_type": "markdown",
      "metadata": {
        "id": "wNwJmr9yo54C",
        "colab_type": "text"
      },
      "source": [
        "### 請協助抓自由時報(https://news.ltn.com.tw/list/breakingnews) 即時新聞區的:\n",
        "\n",
        "- 標題\n",
        "- 連結\n",
        "- 時間"
      ]
    },
    {
      "cell_type": "code",
      "metadata": {
        "id": "7DMzMQKqo-u9",
        "colab_type": "code",
        "colab": {}
      },
      "source": [
        ""
      ],
      "execution_count": null,
      "outputs": []
    }
  ]
}