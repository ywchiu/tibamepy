{
  "nbformat": 4,
  "nbformat_minor": 0,
  "metadata": {
    "colab": {
      "name": "Demo20200912.ipynb",
      "provenance": [],
      "collapsed_sections": []
    },
    "kernelspec": {
      "name": "python3",
      "display_name": "Python 3"
    }
  },
  "cells": [
    {
      "cell_type": "markdown",
      "metadata": {
        "id": "mO4MvMxx9Ht1",
        "colab_type": "text"
      },
      "source": [
        "## 作業 (Python 基礎)\n",
        "- 1 請使用 pip 將 jieba 安裝在自己的電腦上\n",
        "- 2 閱讀jieba 相關的文件，了解jieba 的用法\n",
        "- 3 請將蔡英文演說文 (https://raw.githubusercontent.com/ywchiu/tibamedl/master/Data/speech_tsai.txt) 下載存入到自己電腦\n",
        "- 4 請使用python 的檔案操作方法讀取新聞\n",
        "- 5 請使用 jieba 將演說文切詞\n",
        "-6 請統計該演說文最常出現的十大字詞"
      ]
    },
    {
      "cell_type": "code",
      "metadata": {
        "id": "oLlB42qy8T2Y",
        "colab_type": "code",
        "colab": {
          "base_uri": "https://localhost:8080/",
          "height": 54
        },
        "outputId": "8826a799-fcd9-4482-d6de-02c3aabf042a"
      },
      "source": [
        "! pip install jieba"
      ],
      "execution_count": 1,
      "outputs": [
        {
          "output_type": "stream",
          "text": [
            "Requirement already satisfied: jieba in /usr/local/lib/python3.6/dist-packages (0.42.1)\n"
          ],
          "name": "stdout"
        }
      ]
    },
    {
      "cell_type": "code",
      "metadata": {
        "id": "4OecJz2j9LJ2",
        "colab_type": "code",
        "colab": {
          "base_uri": "https://localhost:8080/",
          "height": 120
        },
        "outputId": "b283e0f5-46b8-46c6-ca05-1f4abe79685b"
      },
      "source": [
        "import jieba\n",
        "\n",
        "\n",
        "seg_list = jieba.cut(\"我来到北京清华大学\", cut_all=True)\n",
        "print(\"Full Mode: \" + \"/ \".join(seg_list))  # 全模式\n",
        "\n",
        "seg_list = jieba.cut(\"我来到北京清华大学\", cut_all=False)\n",
        "print(\"Default Mode: \" + \"/ \".join(seg_list))  # 精确模式"
      ],
      "execution_count": 2,
      "outputs": [
        {
          "output_type": "stream",
          "text": [
            "Building prefix dict from the default dictionary ...\n",
            "Dumping model to file cache /tmp/jieba.cache\n",
            "Loading model cost 0.948 seconds.\n",
            "Prefix dict has been built successfully.\n"
          ],
          "name": "stderr"
        },
        {
          "output_type": "stream",
          "text": [
            "Full Mode: 我/ 来到/ 北京/ 清华/ 清华大学/ 华大/ 大学\n",
            "Default Mode: 我/ 来到/ 北京/ 清华大学\n"
          ],
          "name": "stdout"
        }
      ]
    },
    {
      "cell_type": "code",
      "metadata": {
        "id": "WVQxKHqK-Aiy",
        "colab_type": "code",
        "colab": {
          "base_uri": "https://localhost:8080/",
          "height": 54
        },
        "outputId": "b104e28f-0dd7-40b6-c4c6-76573cb4d619"
      },
      "source": [
        "jieba.add_word('觀光局')\n",
        "seg_list = jieba.cut(\"交通部觀光局東北角管理處將海巡據點馬崗哨所整修，轉型為多元使用的遊憩據點「馬崗哨所Empress Gallery」藝術咖啡廳，昨天正式營運，店內結合「貓夫人」攝影展，展示在當地馬崗社區拍攝的貓咪倩影，成為眺望卯澳灣山海美景的全新休憩景點。\", cut_all=False)\n",
        "print(\"Default Mode: \" + \"/ \".join(seg_list))  # 精确模式"
      ],
      "execution_count": 4,
      "outputs": [
        {
          "output_type": "stream",
          "text": [
            "Default Mode: 交通部/ 觀光局/ 東/ 北角/ 管理/ 處將/ 海巡/ 據/ 點馬崗/ 哨所/ 整修/ ，/ 轉型/ 為/ 多元/ 使用/ 的/ 遊憩/ 據點/ 「/ 馬/ 崗/ 哨所/ Empress/  / Gallery/ 」/ 藝術/ 咖啡/ 廳/ ，/ 昨天/ 正式/ 營運/ ，/ 店內/ 結合/ 「/ 貓/ 夫人/ 」/ 攝/ 影展/ ，/ 展示/ 在/ 當地馬崗/ 社區/ 拍/ 攝/ 的/ 貓咪/ 倩影/ ，/ 成為/ 眺望/ 卯/ 澳灣/ 山海/ 美景/ 的/ 全新/ 休憩/ 景點/ 。\n"
          ],
          "name": "stdout"
        }
      ]
    },
    {
      "cell_type": "code",
      "metadata": {
        "id": "ZY5aXAWS-ZIq",
        "colab_type": "code",
        "colab": {
          "base_uri": "https://localhost:8080/",
          "height": 226
        },
        "outputId": "27733866-be62-4cd7-c7bc-086bfcdd8739"
      },
      "source": [
        "! wget https://raw.githubusercontent.com/ywchiu/tibamedl/master/Data/speech_tsai.txt"
      ],
      "execution_count": 5,
      "outputs": [
        {
          "output_type": "stream",
          "text": [
            "--2020-09-12 01:43:07--  https://raw.githubusercontent.com/ywchiu/tibamedl/master/Data/speech_tsai.txt\n",
            "Resolving raw.githubusercontent.com (raw.githubusercontent.com)... 151.101.0.133, 151.101.64.133, 151.101.128.133, ...\n",
            "Connecting to raw.githubusercontent.com (raw.githubusercontent.com)|151.101.0.133|:443... connected.\n",
            "HTTP request sent, awaiting response... 200 OK\n",
            "Length: 6579 (6.4K) [text/plain]\n",
            "Saving to: ‘speech_tsai.txt’\n",
            "\n",
            "speech_tsai.txt     100%[===================>]   6.42K  --.-KB/s    in 0s      \n",
            "\n",
            "2020-09-12 01:43:07 (78.3 MB/s) - ‘speech_tsai.txt’ saved [6579/6579]\n",
            "\n"
          ],
          "name": "stdout"
        }
      ]
    },
    {
      "cell_type": "code",
      "metadata": {
        "id": "LF10HJAw-vLu",
        "colab_type": "code",
        "colab": {
          "base_uri": "https://localhost:8080/",
          "height": 208
        },
        "outputId": "a485cb29-a5b3-406d-e50c-aaccd98d2e84"
      },
      "source": [
        "! head speech_tsai.txt"
      ],
      "execution_count": 6,
      "outputs": [
        {
          "output_type": "stream",
          "text": [
            "大會主席蘇嘉全院長、現場各位貴賓、電視機前和網路上的全體國人同胞，大家早安，大家好。\n",
            "\n",
            "今天，是中華民國一百零八年的國慶日，謝謝來自世界各地的好朋友，跟我們共度這個值得紀念的日子。\n",
            "\n",
            "去年，也是在國慶日，我和大家說，台灣正處在變局當中。世界貿易局勢的變動、國際政治情勢的變化，都讓未來充滿挑戰。我們必須「求穩、應變、進步」，厚植實力、壯大台灣。\n",
            "\n",
            "轉眼又過了一年，世界依然快速變化，甚至更加劇烈。美中貿易戰的持續進行；距離我們不遠的香港，因為「一國兩制」的失敗，正處於失序邊緣。\n",
            "\n",
            "儘管如此，中國依然以「一國兩制台灣方案」，不斷威脅我們，並採取各種文攻武嚇，強烈挑戰了區域的穩定及和平。\n",
            "\n"
          ],
          "name": "stdout"
        }
      ]
    },
    {
      "cell_type": "code",
      "metadata": {
        "id": "ii9tuAGX-yMS",
        "colab_type": "code",
        "colab": {}
      },
      "source": [
        "with open('speech_tsai.txt', 'r') as f:\n",
        "  speech = f.read()"
      ],
      "execution_count": 7,
      "outputs": []
    },
    {
      "cell_type": "code",
      "metadata": {
        "id": "Gwn5uASX--0S",
        "colab_type": "code",
        "colab": {}
      },
      "source": [
        "seg_list = jieba.cut(speech)"
      ],
      "execution_count": 9,
      "outputs": []
    },
    {
      "cell_type": "code",
      "metadata": {
        "id": "Jv-eIwD0_Amm",
        "colab_type": "code",
        "colab": {}
      },
      "source": [
        "#list(seg_list)"
      ],
      "execution_count": 12,
      "outputs": []
    },
    {
      "cell_type": "code",
      "metadata": {
        "id": "1MTtVJ2c_VuK",
        "colab_type": "code",
        "colab": {}
      },
      "source": [
        "seg_list = jieba.cut(speech)\n",
        "#for word in seg_list:\n",
        "#  print(word)"
      ],
      "execution_count": 15,
      "outputs": []
    },
    {
      "cell_type": "code",
      "metadata": {
        "id": "TyF0fiM8_abq",
        "colab_type": "code",
        "colab": {}
      },
      "source": [
        "seg_list = jieba.lcut(speech)"
      ],
      "execution_count": 16,
      "outputs": []
    },
    {
      "cell_type": "code",
      "metadata": {
        "id": "eEed7sME_wy0",
        "colab_type": "code",
        "colab": {}
      },
      "source": [
        "#seg_list"
      ],
      "execution_count": 18,
      "outputs": []
    },
    {
      "cell_type": "markdown",
      "metadata": {
        "id": "k9v2FU9RAG2Q",
        "colab_type": "text"
      },
      "source": [
        "### Method 1"
      ]
    },
    {
      "cell_type": "code",
      "metadata": {
        "id": "blPXYfTJ_xwS",
        "colab_type": "code",
        "colab": {}
      },
      "source": [
        "dic = {}\n",
        "for word in seg_list:\n",
        "  if len(word) >= 2:\n",
        "    if word not in dic:\n",
        "      dic[word] = 1\n",
        "    else:\n",
        "      dic[word] = dic[word] + 1"
      ],
      "execution_count": 23,
      "outputs": []
    },
    {
      "cell_type": "code",
      "metadata": {
        "id": "ktmCI8qIARxK",
        "colab_type": "code",
        "colab": {}
      },
      "source": [
        "swd = sorted(dic.items(), key = lambda e: e[1], reverse=True)"
      ],
      "execution_count": 24,
      "outputs": []
    },
    {
      "cell_type": "code",
      "metadata": {
        "id": "w9zMAorzAZg-",
        "colab_type": "code",
        "colab": {
          "base_uri": "https://localhost:8080/",
          "height": 188
        },
        "outputId": "40b58e55-e04a-4d58-93e6-515c2a0d8507"
      },
      "source": [
        "swd[0:10]"
      ],
      "execution_count": 25,
      "outputs": [
        {
          "output_type": "execute_result",
          "data": {
            "text/plain": [
              "[('我們', 43),\n",
              " ('台灣', 19),\n",
              " ('挑戰', 12),\n",
              " ('人民', 9),\n",
              " ('經濟', 8),\n",
              " ('中華民國', 7),\n",
              " ('一次', 7),\n",
              " ('未來', 6),\n",
              " ('自由民主', 6),\n",
              " ('世界', 5)]"
            ]
          },
          "metadata": {
            "tags": []
          },
          "execution_count": 25
        }
      ]
    },
    {
      "cell_type": "markdown",
      "metadata": {
        "id": "8jh81y8QArR0",
        "colab_type": "text"
      },
      "source": [
        "### Method 2"
      ]
    },
    {
      "cell_type": "code",
      "metadata": {
        "id": "f0MkBQ7FAaOg",
        "colab_type": "code",
        "colab": {}
      },
      "source": [
        "dic = {}\n",
        "for word in seg_list:\n",
        "  if len(word) >= 2:\n",
        "    dic[word] = dic.get(word, 0) + 1"
      ],
      "execution_count": 26,
      "outputs": []
    },
    {
      "cell_type": "code",
      "metadata": {
        "id": "OSygIguKA0PJ",
        "colab_type": "code",
        "colab": {}
      },
      "source": [
        "swd = sorted(dic.items(), key = lambda e: e[1], reverse=True)"
      ],
      "execution_count": 27,
      "outputs": []
    },
    {
      "cell_type": "code",
      "metadata": {
        "id": "xhSve5wVA19G",
        "colab_type": "code",
        "colab": {
          "base_uri": "https://localhost:8080/",
          "height": 188
        },
        "outputId": "6f0571b7-8699-4625-c37a-a5978aceb17f"
      },
      "source": [
        "swd[0:10]"
      ],
      "execution_count": 28,
      "outputs": [
        {
          "output_type": "execute_result",
          "data": {
            "text/plain": [
              "[('我們', 43),\n",
              " ('台灣', 19),\n",
              " ('挑戰', 12),\n",
              " ('人民', 9),\n",
              " ('經濟', 8),\n",
              " ('中華民國', 7),\n",
              " ('一次', 7),\n",
              " ('未來', 6),\n",
              " ('自由民主', 6),\n",
              " ('世界', 5)]"
            ]
          },
          "metadata": {
            "tags": []
          },
          "execution_count": 28
        }
      ]
    },
    {
      "cell_type": "markdown",
      "metadata": {
        "id": "b_ASU91NA7ZP",
        "colab_type": "text"
      },
      "source": [
        "### Method 3"
      ]
    },
    {
      "cell_type": "code",
      "metadata": {
        "id": "QaAXspxTA3dW",
        "colab_type": "code",
        "colab": {
          "base_uri": "https://localhost:8080/",
          "height": 188
        },
        "outputId": "0189bb30-a2bf-419f-c107-2bf585c322b8"
      },
      "source": [
        "from collections import Counter \n",
        "c = Counter([w for w in seg_list if len(w)>=2])\n",
        "c.most_common(10)"
      ],
      "execution_count": 32,
      "outputs": [
        {
          "output_type": "execute_result",
          "data": {
            "text/plain": [
              "[('我們', 43),\n",
              " ('台灣', 19),\n",
              " ('挑戰', 12),\n",
              " ('人民', 9),\n",
              " ('經濟', 8),\n",
              " ('中華民國', 7),\n",
              " ('一次', 7),\n",
              " ('未來', 6),\n",
              " ('自由民主', 6),\n",
              " ('世界', 5)]"
            ]
          },
          "metadata": {
            "tags": []
          },
          "execution_count": 32
        }
      ]
    },
    {
      "cell_type": "code",
      "metadata": {
        "id": "ZcKH03EFBEZb",
        "colab_type": "code",
        "colab": {}
      },
      "source": [
        "ary = []\n",
        "for word in seg_list:\n",
        "  if len(word) >=2:\n",
        "    ary.append(word)\n",
        "#ary"
      ],
      "execution_count": 31,
      "outputs": []
    },
    {
      "cell_type": "markdown",
      "metadata": {
        "id": "Q1zTKGdCGr0G",
        "colab_type": "text"
      },
      "source": [
        "## Pandas"
      ]
    },
    {
      "cell_type": "code",
      "metadata": {
        "id": "ATECzRCKGrVf",
        "colab_type": "code",
        "colab": {}
      },
      "source": [
        "import pandas\n",
        "stock = pandas.read_excel('https://raw.githubusercontent.com/ywchiu/tibamepy/master/data/stock.xlsx')"
      ],
      "execution_count": 33,
      "outputs": []
    },
    {
      "cell_type": "code",
      "metadata": {
        "id": "fiYo6MA7BOCr",
        "colab_type": "code",
        "colab": {
          "base_uri": "https://localhost:8080/",
          "height": 274
        },
        "outputId": "d3587c73-3610-4c30-b473-4937782ba8fc"
      },
      "source": [
        "stock.head()"
      ],
      "execution_count": 34,
      "outputs": [
        {
          "output_type": "execute_result",
          "data": {
            "text/html": [
              "<div>\n",
              "<style scoped>\n",
              "    .dataframe tbody tr th:only-of-type {\n",
              "        vertical-align: middle;\n",
              "    }\n",
              "\n",
              "    .dataframe tbody tr th {\n",
              "        vertical-align: top;\n",
              "    }\n",
              "\n",
              "    .dataframe thead th {\n",
              "        text-align: right;\n",
              "    }\n",
              "</style>\n",
              "<table border=\"1\" class=\"dataframe\">\n",
              "  <thead>\n",
              "    <tr style=\"text-align: right;\">\n",
              "      <th></th>\n",
              "      <th>id</th>\n",
              "      <th>年度</th>\n",
              "      <th>股本</th>\n",
              "      <th>財報評分</th>\n",
              "      <th>收盤</th>\n",
              "      <th>平均</th>\n",
              "      <th>漲跌</th>\n",
              "      <th>漲跌%</th>\n",
              "      <th>營業收入</th>\n",
              "      <th>營業毛利</th>\n",
              "      <th>營業利益</th>\n",
              "      <th>業外損益</th>\n",
              "      <th>稅後淨利</th>\n",
              "      <th>營業毛利%</th>\n",
              "      <th>營業利益%</th>\n",
              "      <th>業外損益%</th>\n",
              "      <th>稅後淨利%</th>\n",
              "      <th>ROE</th>\n",
              "      <th>ROA</th>\n",
              "      <th>稅後EPS</th>\n",
              "      <th>EPS成長</th>\n",
              "      <th>BPS</th>\n",
              "      <th>stockid</th>\n",
              "    </tr>\n",
              "  </thead>\n",
              "  <tbody>\n",
              "    <tr>\n",
              "      <th>0</th>\n",
              "      <td>1</td>\n",
              "      <td>2015</td>\n",
              "      <td>369.0</td>\n",
              "      <td>45</td>\n",
              "      <td>27.3</td>\n",
              "      <td>37.8</td>\n",
              "      <td>-16.1</td>\n",
              "      <td>-37.1</td>\n",
              "      <td>937.0</td>\n",
              "      <td>145.0</td>\n",
              "      <td>96.7</td>\n",
              "      <td>-10.1</td>\n",
              "      <td>57.8</td>\n",
              "      <td>15.5</td>\n",
              "      <td>10.3</td>\n",
              "      <td>-1.08</td>\n",
              "      <td>7.39</td>\n",
              "      <td>4.36</td>\n",
              "      <td>2.36</td>\n",
              "      <td>1.56</td>\n",
              "      <td>-1.37</td>\n",
              "      <td>29.26</td>\n",
              "      <td>1101</td>\n",
              "    </tr>\n",
              "    <tr>\n",
              "      <th>1</th>\n",
              "      <td>2</td>\n",
              "      <td>2014</td>\n",
              "      <td>369.0</td>\n",
              "      <td>53</td>\n",
              "      <td>43.4</td>\n",
              "      <td>45.7</td>\n",
              "      <td>-2.85</td>\n",
              "      <td>-6.2</td>\n",
              "      <td>1183.0</td>\n",
              "      <td>249.0</td>\n",
              "      <td>199.0</td>\n",
              "      <td>13.4</td>\n",
              "      <td>108.0</td>\n",
              "      <td>21</td>\n",
              "      <td>16.8</td>\n",
              "      <td>1.13</td>\n",
              "      <td>14</td>\n",
              "      <td>10.50</td>\n",
              "      <td>5.76</td>\n",
              "      <td>2.93</td>\n",
              "      <td>0.21</td>\n",
              "      <td>31.95</td>\n",
              "      <td>1101</td>\n",
              "    </tr>\n",
              "    <tr>\n",
              "      <th>2</th>\n",
              "      <td>3</td>\n",
              "      <td>2013</td>\n",
              "      <td>369.0</td>\n",
              "      <td>51</td>\n",
              "      <td>46.25</td>\n",
              "      <td>39.8</td>\n",
              "      <td>7.35</td>\n",
              "      <td>18.9</td>\n",
              "      <td>1161.0</td>\n",
              "      <td>228.0</td>\n",
              "      <td>178.0</td>\n",
              "      <td>8.28</td>\n",
              "      <td>100.0</td>\n",
              "      <td>19.7</td>\n",
              "      <td>15.3</td>\n",
              "      <td>0.71</td>\n",
              "      <td>13</td>\n",
              "      <td>10.60</td>\n",
              "      <td>5.56</td>\n",
              "      <td>2.72</td>\n",
              "      <td>0.63</td>\n",
              "      <td>30.63</td>\n",
              "      <td>1101</td>\n",
              "    </tr>\n",
              "    <tr>\n",
              "      <th>3</th>\n",
              "      <td>4</td>\n",
              "      <td>2012</td>\n",
              "      <td>369.0</td>\n",
              "      <td>49</td>\n",
              "      <td>38.9</td>\n",
              "      <td>35.8</td>\n",
              "      <td>3.9</td>\n",
              "      <td>11.1</td>\n",
              "      <td>1195.0</td>\n",
              "      <td>177.0</td>\n",
              "      <td>131.0</td>\n",
              "      <td>-10</td>\n",
              "      <td>77.3</td>\n",
              "      <td>14.8</td>\n",
              "      <td>10.9</td>\n",
              "      <td>-0.84</td>\n",
              "      <td>8.34</td>\n",
              "      <td>7.63</td>\n",
              "      <td>3.81</td>\n",
              "      <td>2.09</td>\n",
              "      <td>-0.24</td>\n",
              "      <td>27.03</td>\n",
              "      <td>1101</td>\n",
              "    </tr>\n",
              "    <tr>\n",
              "      <th>4</th>\n",
              "      <td>5</td>\n",
              "      <td>2011</td>\n",
              "      <td>369.0</td>\n",
              "      <td>55</td>\n",
              "      <td>35</td>\n",
              "      <td>36.8</td>\n",
              "      <td>2.2</td>\n",
              "      <td>6.7</td>\n",
              "      <td>1185.0</td>\n",
              "      <td>206.0</td>\n",
              "      <td>162.0</td>\n",
              "      <td>3.53</td>\n",
              "      <td>86.2</td>\n",
              "      <td>17.4</td>\n",
              "      <td>13.6</td>\n",
              "      <td>0.3</td>\n",
              "      <td>11.6</td>\n",
              "      <td>10.80</td>\n",
              "      <td>5.24</td>\n",
              "      <td>2.33</td>\n",
              "      <td>-0.1</td>\n",
              "      <td>26.21</td>\n",
              "      <td>1101</td>\n",
              "    </tr>\n",
              "  </tbody>\n",
              "</table>\n",
              "</div>"
            ],
            "text/plain": [
              "   id    年度     股本  財報評分     收盤    平均  ...    ROE   ROA  稅後EPS  EPS成長    BPS stockid\n",
              "0   1  2015  369.0    45   27.3  37.8  ...   4.36  2.36   1.56  -1.37  29.26    1101\n",
              "1   2  2014  369.0    53   43.4  45.7  ...  10.50  5.76   2.93   0.21  31.95    1101\n",
              "2   3  2013  369.0    51  46.25  39.8  ...  10.60  5.56   2.72   0.63  30.63    1101\n",
              "3   4  2012  369.0    49   38.9  35.8  ...   7.63  3.81   2.09  -0.24  27.03    1101\n",
              "4   5  2011  369.0    55     35  36.8  ...  10.80  5.24   2.33   -0.1  26.21    1101\n",
              "\n",
              "[5 rows x 23 columns]"
            ]
          },
          "metadata": {
            "tags": []
          },
          "execution_count": 34
        }
      ]
    },
    {
      "cell_type": "code",
      "metadata": {
        "id": "0stK7hsnGxkc",
        "colab_type": "code",
        "colab": {}
      },
      "source": [
        "tw2330 = pandas.read_csv('https://raw.githubusercontent.com/ywchiu/tibamepy/master/data/2330.TW.csv')"
      ],
      "execution_count": 35,
      "outputs": []
    },
    {
      "cell_type": "code",
      "metadata": {
        "id": "yD7jk8lTG-S-",
        "colab_type": "code",
        "colab": {
          "base_uri": "https://localhost:8080/",
          "height": 203
        },
        "outputId": "913bad6e-fe33-4818-cfa4-4ede05ca2f0b"
      },
      "source": [
        "tw2330.head()"
      ],
      "execution_count": 36,
      "outputs": [
        {
          "output_type": "execute_result",
          "data": {
            "text/html": [
              "<div>\n",
              "<style scoped>\n",
              "    .dataframe tbody tr th:only-of-type {\n",
              "        vertical-align: middle;\n",
              "    }\n",
              "\n",
              "    .dataframe tbody tr th {\n",
              "        vertical-align: top;\n",
              "    }\n",
              "\n",
              "    .dataframe thead th {\n",
              "        text-align: right;\n",
              "    }\n",
              "</style>\n",
              "<table border=\"1\" class=\"dataframe\">\n",
              "  <thead>\n",
              "    <tr style=\"text-align: right;\">\n",
              "      <th></th>\n",
              "      <th>Date</th>\n",
              "      <th>Open</th>\n",
              "      <th>High</th>\n",
              "      <th>Low</th>\n",
              "      <th>Close</th>\n",
              "      <th>Adj Close</th>\n",
              "      <th>Volume</th>\n",
              "    </tr>\n",
              "  </thead>\n",
              "  <tbody>\n",
              "    <tr>\n",
              "      <th>0</th>\n",
              "      <td>2000-01-04</td>\n",
              "      <td>69.649002</td>\n",
              "      <td>69.649002</td>\n",
              "      <td>68.475197</td>\n",
              "      <td>69.649002</td>\n",
              "      <td>38.253021</td>\n",
              "      <td>2.006623e+11</td>\n",
              "    </tr>\n",
              "    <tr>\n",
              "      <th>1</th>\n",
              "      <td>2000-01-05</td>\n",
              "      <td>69.649002</td>\n",
              "      <td>71.214104</td>\n",
              "      <td>68.866302</td>\n",
              "      <td>71.214104</td>\n",
              "      <td>39.112621</td>\n",
              "      <td>4.024668e+11</td>\n",
              "    </tr>\n",
              "    <tr>\n",
              "      <th>2</th>\n",
              "      <td>2000-01-06</td>\n",
              "      <td>70.822899</td>\n",
              "      <td>71.214104</td>\n",
              "      <td>69.649002</td>\n",
              "      <td>69.649002</td>\n",
              "      <td>38.253021</td>\n",
              "      <td>1.975457e+11</td>\n",
              "    </tr>\n",
              "    <tr>\n",
              "      <th>3</th>\n",
              "      <td>2000-01-07</td>\n",
              "      <td>67.301300</td>\n",
              "      <td>68.475197</td>\n",
              "      <td>66.518600</td>\n",
              "      <td>67.692497</td>\n",
              "      <td>37.178459</td>\n",
              "      <td>2.352703e+11</td>\n",
              "    </tr>\n",
              "    <tr>\n",
              "      <th>4</th>\n",
              "      <td>2000-01-10</td>\n",
              "      <td>69.649002</td>\n",
              "      <td>70.431396</td>\n",
              "      <td>68.475197</td>\n",
              "      <td>70.040199</td>\n",
              "      <td>38.467876</td>\n",
              "      <td>2.761717e+11</td>\n",
              "    </tr>\n",
              "  </tbody>\n",
              "</table>\n",
              "</div>"
            ],
            "text/plain": [
              "         Date       Open       High  ...      Close  Adj Close        Volume\n",
              "0  2000-01-04  69.649002  69.649002  ...  69.649002  38.253021  2.006623e+11\n",
              "1  2000-01-05  69.649002  71.214104  ...  71.214104  39.112621  4.024668e+11\n",
              "2  2000-01-06  70.822899  71.214104  ...  69.649002  38.253021  1.975457e+11\n",
              "3  2000-01-07  67.301300  68.475197  ...  67.692497  37.178459  2.352703e+11\n",
              "4  2000-01-10  69.649002  70.431396  ...  70.040199  38.467876  2.761717e+11\n",
              "\n",
              "[5 rows x 7 columns]"
            ]
          },
          "metadata": {
            "tags": []
          },
          "execution_count": 36
        }
      ]
    },
    {
      "cell_type": "code",
      "metadata": {
        "id": "nz_D_LyOG_Mu",
        "colab_type": "code",
        "colab": {}
      },
      "source": [
        "tw2330 = pandas.read_json('https://raw.githubusercontent.com/ywchiu/tibamepy/master/data/2330.json')"
      ],
      "execution_count": 37,
      "outputs": []
    },
    {
      "cell_type": "code",
      "metadata": {
        "id": "UothM4fPHLkS",
        "colab_type": "code",
        "colab": {
          "base_uri": "https://localhost:8080/",
          "height": 203
        },
        "outputId": "e5186cee-b009-4838-985f-f63ff59c6171"
      },
      "source": [
        "tw2330"
      ],
      "execution_count": 38,
      "outputs": [
        {
          "output_type": "execute_result",
          "data": {
            "text/html": [
              "<div>\n",
              "<style scoped>\n",
              "    .dataframe tbody tr th:only-of-type {\n",
              "        vertical-align: middle;\n",
              "    }\n",
              "\n",
              "    .dataframe tbody tr th {\n",
              "        vertical-align: top;\n",
              "    }\n",
              "\n",
              "    .dataframe thead th {\n",
              "        text-align: right;\n",
              "    }\n",
              "</style>\n",
              "<table border=\"1\" class=\"dataframe\">\n",
              "  <thead>\n",
              "    <tr style=\"text-align: right;\">\n",
              "      <th></th>\n",
              "      <th>Date</th>\n",
              "      <th>Open</th>\n",
              "      <th>High</th>\n",
              "      <th>Low</th>\n",
              "      <th>Close</th>\n",
              "      <th>Volume</th>\n",
              "      <th>Adj Close</th>\n",
              "    </tr>\n",
              "  </thead>\n",
              "  <tbody>\n",
              "    <tr>\n",
              "      <th>0</th>\n",
              "      <td>2016-07-21</td>\n",
              "      <td>171.0</td>\n",
              "      <td>172.0</td>\n",
              "      <td>170.0</td>\n",
              "      <td>172.0</td>\n",
              "      <td>33130000</td>\n",
              "      <td>172.0</td>\n",
              "    </tr>\n",
              "    <tr>\n",
              "      <th>1</th>\n",
              "      <td>2016-07-20</td>\n",
              "      <td>170.0</td>\n",
              "      <td>170.5</td>\n",
              "      <td>169.0</td>\n",
              "      <td>170.0</td>\n",
              "      <td>38053000</td>\n",
              "      <td>170.0</td>\n",
              "    </tr>\n",
              "    <tr>\n",
              "      <th>2</th>\n",
              "      <td>2016-07-19</td>\n",
              "      <td>170.5</td>\n",
              "      <td>170.5</td>\n",
              "      <td>169.0</td>\n",
              "      <td>170.5</td>\n",
              "      <td>42456000</td>\n",
              "      <td>170.5</td>\n",
              "    </tr>\n",
              "    <tr>\n",
              "      <th>3</th>\n",
              "      <td>2016-07-18</td>\n",
              "      <td>168.0</td>\n",
              "      <td>170.0</td>\n",
              "      <td>168.0</td>\n",
              "      <td>169.5</td>\n",
              "      <td>24749000</td>\n",
              "      <td>169.5</td>\n",
              "    </tr>\n",
              "    <tr>\n",
              "      <th>4</th>\n",
              "      <td>2016-07-15</td>\n",
              "      <td>169.5</td>\n",
              "      <td>169.5</td>\n",
              "      <td>169.5</td>\n",
              "      <td>169.5</td>\n",
              "      <td>41000</td>\n",
              "      <td>169.5</td>\n",
              "    </tr>\n",
              "  </tbody>\n",
              "</table>\n",
              "</div>"
            ],
            "text/plain": [
              "        Date   Open   High    Low  Close    Volume  Adj Close\n",
              "0 2016-07-21  171.0  172.0  170.0  172.0  33130000      172.0\n",
              "1 2016-07-20  170.0  170.5  169.0  170.0  38053000      170.0\n",
              "2 2016-07-19  170.5  170.5  169.0  170.5  42456000      170.5\n",
              "3 2016-07-18  168.0  170.0  168.0  169.5  24749000      169.5\n",
              "4 2016-07-15  169.5  169.5  169.5  169.5     41000      169.5"
            ]
          },
          "metadata": {
            "tags": []
          },
          "execution_count": 38
        }
      ]
    },
    {
      "cell_type": "markdown",
      "metadata": {
        "id": "Y8hiYXm1ON__",
        "colab_type": "text"
      },
      "source": [
        "## GET\n",
        "- https://zh.wikipedia.org/zh-tw/HTTP%E7%8A%B6%E6%80%81%E7%A0%81"
      ]
    },
    {
      "cell_type": "code",
      "metadata": {
        "id": "bKTnfkD1HMJS",
        "colab_type": "code",
        "colab": {
          "base_uri": "https://localhost:8080/",
          "height": 34
        },
        "outputId": "67b67c28-0d88-4dd6-e69c-0dc3522b0743"
      },
      "source": [
        "import requests\n",
        "headers = {\n",
        "  'user-agent': 'Mozilla/5.0 (Windows NT 10.0; Win64; x64) AppleWebKit/537.36 (KHTML, like Gecko) Chrome/85.0.4183.102 Safari/537.36'  \n",
        "}\n",
        "res = requests.get('https://money.udn.com/rank/newest/1001/0/1', headers = headers)\n",
        "res"
      ],
      "execution_count": 43,
      "outputs": [
        {
          "output_type": "execute_result",
          "data": {
            "text/plain": [
              "<Response [200]>"
            ]
          },
          "metadata": {
            "tags": []
          },
          "execution_count": 43
        }
      ]
    },
    {
      "cell_type": "code",
      "metadata": {
        "id": "W2eGwbQFOSYE",
        "colab_type": "code",
        "colab": {}
      },
      "source": [
        "#res.text"
      ],
      "execution_count": 45,
      "outputs": []
    },
    {
      "cell_type": "markdown",
      "metadata": {
        "id": "zSOEpMJ1PNze",
        "colab_type": "text"
      },
      "source": [
        "- https://24h.pchome.com.tw/prod/DGBJHC-1900AQ4UP"
      ]
    },
    {
      "cell_type": "code",
      "metadata": {
        "id": "Y0EScQeVOsO4",
        "colab_type": "code",
        "colab": {}
      },
      "source": [
        ""
      ],
      "execution_count": null,
      "outputs": []
    }
  ]
}